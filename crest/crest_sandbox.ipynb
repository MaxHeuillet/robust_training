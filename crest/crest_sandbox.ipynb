{
 "cells": [
  {
   "cell_type": "code",
   "execution_count": 2,
   "metadata": {},
   "outputs": [
    {
     "ename": "ImportError",
     "evalue": "cannot import name 'Adahessian' from 'utils' (/home/mheuillet/Desktop/robust_training/utils.py)",
     "output_type": "error",
     "traceback": [
      "\u001b[0;31m---------------------------------------------------------------------------\u001b[0m",
      "\u001b[0;31mImportError\u001b[0m                               Traceback (most recent call last)",
      "Cell \u001b[0;32mIn[2], line 4\u001b[0m\n\u001b[1;32m      2\u001b[0m \u001b[38;5;28;01mfrom\u001b[39;00m \u001b[38;5;21;01mtorchvision\u001b[39;00m \u001b[38;5;28;01mimport\u001b[39;00m datasets, transforms\n\u001b[1;32m      3\u001b[0m \u001b[38;5;28;01mfrom\u001b[39;00m \u001b[38;5;21;01mtorch\u001b[39;00m\u001b[38;5;21;01m.\u001b[39;00m\u001b[38;5;21;01mutils\u001b[39;00m\u001b[38;5;21;01m.\u001b[39;00m\u001b[38;5;21;01mdata\u001b[39;00m \u001b[38;5;28;01mimport\u001b[39;00m DataLoader\n\u001b[0;32m----> 4\u001b[0m \u001b[38;5;28;01mimport\u001b[39;00m \u001b[38;5;21;01mcrest\u001b[39;00m\n\u001b[1;32m      5\u001b[0m \u001b[38;5;28;01mimport\u001b[39;00m \u001b[38;5;21;01mmodels\u001b[39;00m\u001b[38;5;21;01m.\u001b[39;00m\u001b[38;5;21;01mresnet\u001b[39;00m\n\u001b[1;32m      7\u001b[0m \u001b[38;5;66;03m# device = torch.device(\"cuda\" if torch.cuda.is_available() else \"cpu\")\u001b[39;00m\n\u001b[1;32m      8\u001b[0m \n\u001b[1;32m      9\u001b[0m \u001b[38;5;66;03m# mean_cifar10 = (0.4914, 0.4822, 0.4465)\u001b[39;00m\n\u001b[0;32m   (...)\u001b[0m\n\u001b[1;32m     18\u001b[0m \n\u001b[1;32m     19\u001b[0m \u001b[38;5;66;03m# args = \u001b[39;00m\n",
      "File \u001b[0;32m~/Desktop/robust_training/crest.py:1\u001b[0m\n\u001b[0;32m----> 1\u001b[0m \u001b[38;5;28;01mfrom\u001b[39;00m \u001b[38;5;21;01mutils\u001b[39;00m \u001b[38;5;28;01mimport\u001b[39;00m Adahessian\n\u001b[1;32m      3\u001b[0m \u001b[38;5;28;01mfrom\u001b[39;00m \u001b[38;5;21;01m.\u001b[39;00m\u001b[38;5;21;01msubset_trainer\u001b[39;00m \u001b[38;5;28;01mimport\u001b[39;00m \u001b[38;5;241m*\u001b[39m\n\u001b[1;32m      6\u001b[0m \u001b[38;5;28;01mclass\u001b[39;00m \u001b[38;5;21;01mCRESTTrainer\u001b[39;00m(SubsetTrainer):\n",
      "\u001b[0;31mImportError\u001b[0m: cannot import name 'Adahessian' from 'utils' (/home/mheuillet/Desktop/robust_training/utils.py)"
     ]
    }
   ],
   "source": [
    "import torch\n",
    "from torchvision import datasets, transforms\n",
    "from torch.utils.data import DataLoader\n",
    "import crest\n",
    "import models.resnet\n",
    "\n",
    "# device = torch.device(\"cuda\" if torch.cuda.is_available() else \"cpu\")\n",
    "\n",
    "# mean_cifar10 = (0.4914, 0.4822, 0.4465)\n",
    "# std_cifar10 = (0.2471, 0.2435, 0.2616)\n",
    "\n",
    "# transform = transforms.Compose([\n",
    "#     transforms.ToTensor(),\n",
    "#     transforms.Normalize(mean_cifar10, std_cifar10)  ])\n",
    "\n",
    "# pool_dataset = datasets.CIFAR10(root='./data', train=True, download=True, transform=transform)\n",
    "# pool_loader = DataLoader(pool_dataset, batch_size=128, shuffle=True)\n",
    "\n",
    "args = get_args()\n",
    "\n",
    "model = models.resnet.resnet50(pretrained=False, progress=True).to('cuda')\n",
    "\n",
    "# trainer = crest.CRESTTrainer(args, model, train_dataset, val_loader, )"
   ]
  },
  {
   "cell_type": "code",
   "execution_count": 6,
   "metadata": {},
   "outputs": [
    {
     "name": "stdout",
     "output_type": "stream",
     "text": [
      "tensor([[-0.0817,  0.0990, -0.0441],\n",
      "        [ 1.0970,  1.6170,  0.4888],\n",
      "        [-0.7758,  0.5803, -1.0843],\n",
      "        [ 0.4810,  0.7669, -0.7550],\n",
      "        [-0.0202, -1.6105, -1.0371],\n",
      "        [ 1.2420,  0.5831, -0.7986],\n",
      "        [ 1.2605,  0.2251, -0.5735],\n",
      "        [ 0.3663,  0.7780,  0.2338],\n",
      "        [-1.2177,  0.7803,  1.6161],\n",
      "        [ 1.4294,  0.5227,  1.7933]])\n"
     ]
    },
    {
     "data": {
      "text/plain": [
       "tensor([1, 1, 1, 1, 0, 0, 0, 1, 2, 2])"
      ]
     },
     "execution_count": 6,
     "metadata": {},
     "output_type": "execute_result"
    }
   ],
   "source": [
    "import torch\n",
    "a = torch.randn(10, 3)\n",
    "print(a)\n",
    "_, predicted =  torch.max(a,1)\n",
    "predicted"
   ]
  }
 ],
 "metadata": {
  "kernelspec": {
   "display_name": ".venv",
   "language": "python",
   "name": "python3"
  },
  "language_info": {
   "codemirror_mode": {
    "name": "ipython",
    "version": 3
   },
   "file_extension": ".py",
   "mimetype": "text/x-python",
   "name": "python",
   "nbconvert_exporter": "python",
   "pygments_lexer": "ipython3",
   "version": "3.8.10"
  }
 },
 "nbformat": 4,
 "nbformat_minor": 2
}
