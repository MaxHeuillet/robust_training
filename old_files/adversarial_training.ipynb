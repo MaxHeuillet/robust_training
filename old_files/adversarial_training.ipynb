{
 "cells": [
  {
   "cell_type": "code",
   "execution_count": 1,
   "metadata": {
    "id": "_KNcPSTnJXo9"
   },
   "outputs": [],
   "source": [
    "# linear.svg\n",
    "import numpy as np\n",
    "import matplotlib.pyplot as plt\n",
    "import matplotlib\n",
    "from mpl_toolkits.mplot3d import Axes3D\n",
    "from matplotlib.colors import LightSource\n",
    "\n",
    "%matplotlib inline\n",
    "%config InlineBackend.figure_format = 'svg'"
   ]
  },
  {
   "cell_type": "code",
   "execution_count": 2,
   "metadata": {
    "id": "gJLzOCc8JXpB"
   },
   "outputs": [],
   "source": [
    "import torch\n",
    "import torch.nn as nn\n",
    "import torch.optim as optim\n",
    "from torchvision import datasets, transforms\n",
    "from torch.utils.data import DataLoader\n",
    "from torch.utils.data.sampler import SubsetRandomSampler\n",
    "\n",
    "mnist_train = datasets.MNIST(\"../data\", train=True, download=True, transform=transforms.ToTensor())\n",
    "mnist_test = datasets.MNIST(\"../data\", train=False, download=True, transform=transforms.ToTensor())\n",
    "\n",
    "train_loader = DataLoader(mnist_train, batch_size = 100, shuffle=True)\n",
    "test_loader = DataLoader(mnist_test, batch_size = 100, shuffle=False)\n",
    "\n",
    "device = torch.device(\"cuda:0\" if torch.cuda.is_available() else \"cpu\") #"
   ]
  },
  {
   "cell_type": "code",
   "execution_count": 3,
   "metadata": {
    "id": "JaQSJSv1JXpC"
   },
   "outputs": [],
   "source": [
    "torch.manual_seed(0)\n",
    "\n",
    "class Flatten(nn.Module):\n",
    "    def forward(self, x):\n",
    "        return x.view(x.shape[0], -1)    \n",
    "\n",
    "model_cnn = nn.Sequential(\n",
    "      nn.Linear(784, 10)).to(device)"
   ]
  },
  {
   "cell_type": "markdown",
   "metadata": {
    "id": "RU1dtw85JXpC"
   },
   "source": [
    "# Multiple ways of attacking"
   ]
  },
  {
   "cell_type": "code",
   "execution_count": 4,
   "metadata": {
    "id": "ALG3a65KJXpD"
   },
   "outputs": [],
   "source": [
    "def fgsm(model, X, y, epsilon=0.1):\n",
    "    \"\"\" Construct FGSM adversarial examples on the examples X\"\"\"\n",
    "    delta = torch.zeros_like(X, requires_grad=True)\n",
    "    loss = nn.CrossEntropyLoss()(model(X + delta), y)\n",
    "    loss.backward()\n",
    "    return epsilon * delta.grad.detach().sign()\n",
    "\n",
    "def pgd_linf(model, X, y, epsilon=0.1, alpha=0.01, num_iter=5, randomize=False):\n",
    "    \"\"\" Construct FGSM adversarial examples on the examples X\"\"\"\n",
    "    if randomize:\n",
    "        delta = torch.rand_like(X, requires_grad=True)\n",
    "        delta.data = delta.data * 2 * epsilon - epsilon\n",
    "    else:\n",
    "        delta = torch.zeros_like(X, requires_grad=True)\n",
    "        \n",
    "    for t in range(num_iter):\n",
    "        loss = nn.CrossEntropyLoss()(model(X + delta), y)\n",
    "        loss.backward()\n",
    "        delta.data = (delta + alpha*delta.grad.detach().sign()).clamp(-epsilon,epsilon)\n",
    "        delta.grad.zero_()\n",
    "    return delta.detach()"
   ]
  },
  {
   "cell_type": "code",
   "execution_count": 5,
   "metadata": {
    "id": "RiFFSiDQJXpD"
   },
   "outputs": [],
   "source": [
    "def epoch(loader, model, opt=None):\n",
    "    \"\"\"Standard training/evaluation epoch over the dataset\"\"\"\n",
    "    total_loss, total_err = 0.,0.\n",
    "    for X,y in loader:\n",
    "        X,y = X.to(device), y.to(device)\n",
    "        yp = model(X)\n",
    "        loss = nn.CrossEntropyLoss()(yp,y)\n",
    "        if opt:\n",
    "            opt.zero_grad()\n",
    "            loss.backward()\n",
    "            opt.step()\n",
    "        \n",
    "        total_err += (yp.max(dim=1)[1] != y).sum().item()\n",
    "        total_loss += loss.item() * X.shape[0]\n",
    "    return total_err / len(loader.dataset), total_loss / len(loader.dataset)\n"
   ]
  },
  {
   "cell_type": "code",
   "execution_count": 10,
   "metadata": {
    "id": "s7kirN2mJXpD",
    "outputId": "22ff07e1-da72-4c7d-8d2c-eca36e1ed3ab"
   },
   "outputs": [],
   "source": [
    "\n",
    "def epoch_adversarial(loader, model, attack=pgd_linf, opt=None, **kwargs):\n",
    "    \"\"\"Adversarial training/evaluation epoch over the dataset\"\"\"\n",
    "    \n",
    "    total_loss, total_err = 0.,0.\n",
    "    for X,y in loader:\n",
    "        X,y = X.to(device), y.to(device)\n",
    "        delta = pgd_linf(model, X, y)\n",
    "        yp = model( X + delta )\n",
    "        loss = nn.CrossEntropyLoss()( yp, y )\n",
    "        if opt:\n",
    "            opt.zero_grad()\n",
    "            loss.backward()\n",
    "            opt.step()\n",
    "        \n",
    "        total_err += (yp.max(dim=1)[1] != y).sum().item()\n",
    "        total_loss += loss.item() * X.shape[0]\n",
    "    return total_err / len(loader.dataset), total_loss / len(loader.dataset)\n",
    "\n",
    "\n",
    "def epoch_fast_adversarial(loader, model, opt=None,):\n",
    "    \"\"\"Adversarial training/evaluation epoch over the dataset\"\"\"\n",
    "    \n",
    "    total_loss, total_err = 0.,0.\n",
    "    for X,y in loader:\n",
    "        X,y = X.to(device), y.to(device)\n",
    "        delta = fgsm(model, X, y, epsilon=0.1) #pgd_linf(model, X, y)\n",
    "        yp = model( X + delta )\n",
    "        loss = nn.CrossEntropyLoss()( yp, y )\n",
    "        if opt:\n",
    "            opt.zero_grad()\n",
    "            loss.backward()\n",
    "            opt.step()\n",
    "        \n",
    "        total_err += (yp.max(dim=1)[1] != y).sum().item()\n",
    "        total_loss += loss.item() * X.shape[0]\n",
    "    return total_err / len(loader.dataset), total_loss / len(loader.dataset)"
   ]
  },
  {
   "cell_type": "markdown",
   "metadata": {
    "id": "SFhLONktJXpE"
   },
   "source": [
    "# Standard (i.e. non-robust) training on the logistic regression"
   ]
  },
  {
   "cell_type": "code",
   "execution_count": 7,
   "metadata": {
    "id": "mSXi0Es9JXpE",
    "outputId": "43c5502d-1869-4a06-af94-b7e2bf691d02"
   },
   "outputs": [
    {
     "name": "stdout",
     "output_type": "stream",
     "text": [
      "Train Err\tTest Err\tAdv Err\n"
     ]
    },
    {
     "data": {
      "application/vnd.jupyter.widget-view+json": {
       "model_id": "0eee29dc060d423aac0f463610dc537e",
       "version_major": 2,
       "version_minor": 0
      },
      "text/plain": [
       "  0%|          | 0/10 [00:00<?, ?it/s]"
      ]
     },
     "metadata": {},
     "output_type": "display_data"
    },
    {
     "name": "stdout",
     "output_type": "stream",
     "text": [
      "0.133783\t0.097800\t0.389200\n",
      "0.099067\t0.089300\t0.405500\n",
      "0.092850\t0.084800\t0.430700\n",
      "0.088050\t0.081300\t0.450600\n",
      "0.085333\t0.081400\t0.458700\n",
      "0.082850\t0.081400\t0.463600\n",
      "0.082700\t0.081300\t0.464100\n",
      "0.082717\t0.081600\t0.466000\n",
      "0.082800\t0.081300\t0.467400\n",
      "0.082567\t0.081300\t0.468800\n"
     ]
    }
   ],
   "source": [
    "# This cell should run in less than 3 minutes\n",
    "\n",
    "from tqdm.notebook import tqdm\n",
    "\n",
    "model_logreg = nn.Sequential(\n",
    "     Flatten(),\n",
    "     nn.Linear(784, 10)).to(device)\n",
    "opt = optim.SGD(model_logreg.parameters(), lr=1e-1)\n",
    "\n",
    "print(*(\"{}\".format(i) for i in (\"Train Err\", \"Test Err\", \"Adv Err\")), sep=\"\\t\")\n",
    "\n",
    "for t in tqdm(range(10)):\n",
    "    train_err, train_loss = epoch(train_loader, model_logreg, opt)\n",
    "    test_err, test_loss = epoch(test_loader, model_logreg)\n",
    "    adv_err, adv_loss = epoch_adversarial(test_loader, model_logreg, pgd_linf)\n",
    "    if t == 4:\n",
    "        for param_group in opt.param_groups:\n",
    "            param_group[\"lr\"] = 1e-2\n",
    "    print(*(\"{:.6f}\".format(i) for i in (train_err, test_err, adv_err)), sep=\"\\t\")"
   ]
  },
  {
   "cell_type": "markdown",
   "metadata": {
    "id": "khcwf2k2JXpE"
   },
   "source": [
    "# Adversarial training on the logistic regression"
   ]
  },
  {
   "cell_type": "code",
   "execution_count": 8,
   "metadata": {
    "id": "mpEn0gG0JXpE",
    "outputId": "19924d55-af51-408f-db5f-20af62bc1900"
   },
   "outputs": [
    {
     "name": "stdout",
     "output_type": "stream",
     "text": [
      "Train Err\tTest Err\tAdv Err\n"
     ]
    },
    {
     "data": {
      "application/vnd.jupyter.widget-view+json": {
       "model_id": "a60f2776d13048e484102f55884cb694",
       "version_major": 2,
       "version_minor": 0
      },
      "text/plain": [
       "  0%|          | 0/10 [00:00<?, ?it/s]"
      ]
     },
     "metadata": {},
     "output_type": "display_data"
    },
    {
     "name": "stdout",
     "output_type": "stream",
     "text": [
      "0.298583\t0.113600\t0.254900\n",
      "0.260250\t0.110300\t0.248600\n",
      "0.255050\t0.111700\t0.248300\n",
      "0.254083\t0.109800\t0.245500\n",
      "0.251383\t0.111000\t0.247900\n",
      "0.247200\t0.108700\t0.243200\n",
      "0.246917\t0.107900\t0.243500\n",
      "0.246867\t0.108100\t0.243800\n",
      "0.247283\t0.108700\t0.241500\n",
      "0.246800\t0.108100\t0.243600\n"
     ]
    }
   ],
   "source": [
    "# This cell should run in less than 3 minutes\n",
    "model_logreg_robust = nn.Sequential(\n",
    "     Flatten(),\n",
    "     nn.Linear(784, 10)).to(device)\n",
    "\n",
    "opt = optim.SGD(model_logreg_robust.parameters(), lr=1e-1)\n",
    "print(*(\"{}\".format(i) for i in (\"Train Err\", \"Test Err\", \"Adv Err\")), sep=\"\\t\")\n",
    "\n",
    "for t in tqdm( range(10) ):\n",
    "    train_err, train_loss = epoch_adversarial(train_loader, model_logreg_robust, pgd_linf, opt)\n",
    "    test_err, test_loss = epoch(test_loader, model_logreg_robust)\n",
    "    adv_err, adv_loss = epoch_adversarial(test_loader, model_logreg_robust, pgd_linf)\n",
    "    if t == 4:\n",
    "        for param_group in opt.param_groups:\n",
    "            param_group[\"lr\"] = 1e-2\n",
    "    print(*(\"{:.6f}\".format(i) for i in (train_err, test_err, adv_err)), sep=\"\\t\")"
   ]
  },
  {
   "cell_type": "markdown",
   "metadata": {
    "id": "P3tIN6v9JXpF"
   },
   "source": [
    "# Adversarial training on a simple CNN"
   ]
  },
  {
   "cell_type": "code",
   "execution_count": 9,
   "metadata": {
    "id": "RolupY1vJXpF",
    "outputId": "4f3467b6-a821-42f6-d439-2e000f014d43"
   },
   "outputs": [
    {
     "name": "stdout",
     "output_type": "stream",
     "text": [
      "Train Err\tTest Err\tAdv Err\n",
      "0.155133\t0.038200\t0.080500\n",
      "0.081883\t0.028000\t0.065600\n",
      "0.069933\t0.025500\t0.060600\n",
      "0.062767\t0.022500\t0.055100\n",
      "0.059250\t0.021100\t0.054700\n",
      "0.049383\t0.019500\t0.049800\n",
      "0.048267\t0.019900\t0.050400\n",
      "0.047517\t0.019400\t0.050100\n",
      "0.047283\t0.019300\t0.049300\n",
      "0.046967\t0.018700\t0.050500\n"
     ]
    }
   ],
   "source": [
    "# This cell should run in less than 15 minutes\n",
    "model_simple_cnn_robust = nn.Sequential(\n",
    "                                 nn.Conv2d(1, 32, 3, padding=1), nn.ReLU(),\n",
    "                                 Flatten(),\n",
    "                                 nn.Linear(25088, 10)).to(device)\n",
    "\n",
    "opt = optim.SGD(model_simple_cnn_robust.parameters(), lr=0.1)\n",
    "print(*(\"{}\".format(i) for i in (\"Train Err\", \"Test Err\", \"Adv Err\")), sep=\"\\t\")\n",
    "\n",
    "for t in range(10):\n",
    "    \n",
    "    train_err, train_loss = epoch_adversarial(train_loader, model_simple_cnn_robust, pgd_linf, opt)\n",
    "    test_err, test_loss = epoch(test_loader, model_simple_cnn_robust)\n",
    "    adv_err, adv_loss = epoch_adversarial(test_loader, model_simple_cnn_robust, pgd_linf)\n",
    "    \n",
    "    if t == 4:\n",
    "        for param_group in opt.param_groups:\n",
    "            param_group[\"lr\"] = 1e-2\n",
    "    print(*(\"{:.6f}\".format(i) for i in (train_err, test_err, adv_err)), sep=\"\\t\")"
   ]
  },
  {
   "cell_type": "code",
   "execution_count": 12,
   "metadata": {},
   "outputs": [
    {
     "name": "stdout",
     "output_type": "stream",
     "text": [
      "Train Err\tTest Err\tAdv Err\n",
      "0.347633\t0.101900\t0.170100\n",
      "0.245967\t0.090400\t0.152900\n",
      "0.206833\t0.077400\t0.135700\n",
      "0.179033\t0.067600\t0.121800\n",
      "0.157450\t0.060100\t0.111400\n",
      "0.140300\t0.053600\t0.108900\n",
      "0.126483\t0.050300\t0.103900\n",
      "0.114867\t0.048100\t0.104100\n",
      "0.107100\t0.041900\t0.101400\n",
      "0.100400\t0.039700\t0.094000\n"
     ]
    }
   ],
   "source": [
    "# This cell should run in less than 15 minutes\n",
    "model_simple_cnn_robust = nn.Sequential(\n",
    "                                 nn.Conv2d(1, 32, 3, padding=1), nn.ReLU(),\n",
    "                                 Flatten(),\n",
    "                                 nn.Linear(25088, 10)).to(device)\n",
    "\n",
    "opt = optim.SGD(model_simple_cnn_robust.parameters(), lr=1e-2)\n",
    "print(*(\"{}\".format(i) for i in (\"Train Err\", \"Test Err\", \"Adv Err\")), sep=\"\\t\")\n",
    "\n",
    "for t in range(10):\n",
    "    train_err, train_loss = epoch_fast_adversarial(train_loader, model_simple_cnn_robust, opt)\n",
    "    test_err, test_loss = epoch(test_loader, model_simple_cnn_robust)\n",
    "    adv_err, adv_loss = epoch_adversarial(test_loader, model_simple_cnn_robust, pgd_linf)\n",
    "    if t == 4:\n",
    "        for param_group in opt.param_groups:\n",
    "            param_group[\"lr\"] = 1e-2\n",
    "    print(*(\"{:.6f}\".format(i) for i in (train_err, test_err, adv_err)), sep=\"\\t\")"
   ]
  }
 ],
 "metadata": {
  "colab": {
   "collapsed_sections": [],
   "name": "adversarial_training.ipynb",
   "provenance": []
  },
  "kernelspec": {
   "display_name": "Python 3",
   "language": "python",
   "name": "python3"
  },
  "language_info": {
   "codemirror_mode": {
    "name": "ipython",
    "version": 3
   },
   "file_extension": ".py",
   "mimetype": "text/x-python",
   "name": "python",
   "nbconvert_exporter": "python",
   "pygments_lexer": "ipython3",
   "version": "3.8.10"
  }
 },
 "nbformat": 4,
 "nbformat_minor": 1
}
