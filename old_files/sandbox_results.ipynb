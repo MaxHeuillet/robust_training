{
 "cells": [
  {
   "cell_type": "code",
   "execution_count": 34,
   "metadata": {},
   "outputs": [],
   "source": [
    "import comet_ml\n",
    "\n",
    "import os\n",
    "os.environ[\"COMET_API_KEY\"] = \"I5AiXfuD0TVuSz5UOtujrUM9i\"\n",
    "\n",
    "PROJECT_NAME=\"robust-training\"\n",
    "WORKSPACE_NAME=\"maxheuillet\"\n",
    "\n",
    "# Get all Experiemnts in workspace\n",
    "api = comet_ml.API()\n",
    "\n",
    "# all_experiments_in_workspace = api.get_experiments(WORKSPACE_NAME)\n",
    "all_experiments_in_project = api.get_experiments(WORKSPACE_NAME, PROJECT_NAME)\n"
   ]
  },
  {
   "cell_type": "code",
   "execution_count": 35,
   "metadata": {},
   "outputs": [
    {
     "data": {
      "application/vnd.jupyter.widget-view+json": {
       "model_id": "3f543b8af53f494aa64856f98bd585d5",
       "version_major": 2,
       "version_minor": 0
      },
      "text/plain": [
       "  0%|          | 0/288 [00:00<?, ?it/s]"
      ]
     },
     "metadata": {},
     "output_type": "display_data"
    },
    {
     "data": {
      "text/plain": [
       "{'51391523': {'arch': 'resnet50',\n",
       "  'aug': 'aug',\n",
       "  'batch_size': '1042',\n",
       "  'dataset': 'CIFAR10',\n",
       "  'init_lr': '0.01',\n",
       "  'iterations': '60',\n",
       "  'loss_function': 'TRADES_v2',\n",
       "  'pre_trained': 'True',\n",
       "  'pruning_ratio': '0.3',\n",
       "  'pruning_strategy': 'uncertainty',\n",
       "  'sched': 'nosched',\n",
       "  'adv_acc': '0.3627',\n",
       "  'nat_acc': '0.8318'},\n",
       " '51391528': {'arch': 'resnet50',\n",
       "  'aug': 'aug',\n",
       "  'batch_size': '1042',\n",
       "  'dataset': 'CIFAR10',\n",
       "  'init_lr': '0.01',\n",
       "  'iterations': '60',\n",
       "  'loss_function': 'TRADES_v2',\n",
       "  'pre_trained': 'True',\n",
       "  'pruning_ratio': '0.5',\n",
       "  'pruning_strategy': 'random',\n",
       "  'sched': 'nosched',\n",
       "  'adv_acc': '0.3869',\n",
       "  'nat_acc': '0.7972'},\n",
       " '51391517': {'arch': 'resnet50',\n",
       "  'aug': 'aug',\n",
       "  'batch_size': '1042',\n",
       "  'dataset': 'CIFAR10',\n",
       "  'init_lr': '0.01',\n",
       "  'iterations': '60',\n",
       "  'loss_function': 'TRADES_v2',\n",
       "  'pre_trained': 'True',\n",
       "  'pruning_ratio': '0.7',\n",
       "  'pruning_strategy': 'uncertainty',\n",
       "  'sched': 'nosched',\n",
       "  'adv_acc': '0.3531',\n",
       "  'nat_acc': '0.8273'},\n",
       " '51391525': {'arch': 'resnet50',\n",
       "  'aug': 'aug',\n",
       "  'batch_size': '1042',\n",
       "  'dataset': 'CIFAR10',\n",
       "  'init_lr': '0.01',\n",
       "  'iterations': '60',\n",
       "  'loss_function': 'TRADES_v2',\n",
       "  'pre_trained': 'True',\n",
       "  'pruning_ratio': '0.3',\n",
       "  'pruning_strategy': 'score_v2',\n",
       "  'sched': 'nosched',\n",
       "  'adv_acc': '0.3483',\n",
       "  'nat_acc': '0.8401'},\n",
       " '51391527': {'arch': 'resnet50',\n",
       "  'aug': 'aug',\n",
       "  'batch_size': '1042',\n",
       "  'dataset': 'CIFAR10',\n",
       "  'init_lr': '0.01',\n",
       "  'iterations': '60',\n",
       "  'loss_function': 'TRADES_v2',\n",
       "  'pre_trained': 'True',\n",
       "  'pruning_ratio': '0.5',\n",
       "  'pruning_strategy': 'TS_pruning',\n",
       "  'sched': 'nosched',\n",
       "  'adv_acc': '0.4137',\n",
       "  'nat_acc': '0.8291'},\n",
       " '51391529': {'arch': 'resnet50',\n",
       "  'aug': 'aug',\n",
       "  'batch_size': '1042',\n",
       "  'dataset': 'CIFAR10',\n",
       "  'init_lr': '0.01',\n",
       "  'iterations': '60',\n",
       "  'loss_function': 'TRADES_v2',\n",
       "  'pre_trained': 'True',\n",
       "  'pruning_ratio': '0.5',\n",
       "  'pruning_strategy': 'uncertainty',\n",
       "  'sched': 'nosched',\n",
       "  'adv_acc': '0.3666',\n",
       "  'nat_acc': '0.8266'},\n",
       " '51391530': {'arch': 'resnet50',\n",
       "  'aug': 'aug',\n",
       "  'batch_size': '1042',\n",
       "  'dataset': 'CIFAR10',\n",
       "  'init_lr': '0.01',\n",
       "  'iterations': '60',\n",
       "  'loss_function': 'TRADES_v2',\n",
       "  'pre_trained': 'True',\n",
       "  'pruning_ratio': '0.5',\n",
       "  'pruning_strategy': 'score_v1',\n",
       "  'sched': 'nosched',\n",
       "  'adv_acc': '0.3386',\n",
       "  'nat_acc': '0.8217'},\n",
       " '51391520': {'arch': 'resnet50',\n",
       "  'aug': 'aug',\n",
       "  'batch_size': '1042',\n",
       "  'dataset': 'CIFAR10',\n",
       "  'init_lr': '0.01',\n",
       "  'iterations': '60',\n",
       "  'loss_function': 'TRADES_v2',\n",
       "  'pre_trained': 'True',\n",
       "  'pruning_ratio': '0.3',\n",
       "  'pruning_strategy': 'decay_based_v2',\n",
       "  'sched': 'nosched',\n",
       "  'adv_acc': '0.3686',\n",
       "  'nat_acc': '0.8266'},\n",
       " '51391515': {'arch': 'resnet50',\n",
       "  'aug': 'aug',\n",
       "  'batch_size': '1042',\n",
       "  'dataset': 'CIFAR10',\n",
       "  'init_lr': '0.01',\n",
       "  'iterations': '60',\n",
       "  'loss_function': 'TRADES_v2',\n",
       "  'pre_trained': 'True',\n",
       "  'pruning_ratio': '0.7',\n",
       "  'pruning_strategy': 'TS_pruning',\n",
       "  'sched': 'nosched',\n",
       "  'adv_acc': '0.4007',\n",
       "  'nat_acc': '0.8063'},\n",
       " '51391526': {'arch': 'resnet50',\n",
       "  'aug': 'aug',\n",
       "  'batch_size': '1042',\n",
       "  'dataset': 'CIFAR10',\n",
       "  'init_lr': '0.01',\n",
       "  'iterations': '60',\n",
       "  'loss_function': 'TRADES_v2',\n",
       "  'pre_trained': 'True',\n",
       "  'pruning_ratio': '0.5',\n",
       "  'pruning_strategy': 'decay_based_v2',\n",
       "  'sched': 'nosched',\n",
       "  'adv_acc': '0.4021',\n",
       "  'nat_acc': '0.8273'},\n",
       " '51391519': {'arch': 'resnet50',\n",
       "  'aug': 'aug',\n",
       "  'batch_size': '1042',\n",
       "  'dataset': 'CIFAR10',\n",
       "  'init_lr': '0.01',\n",
       "  'iterations': '60',\n",
       "  'loss_function': 'TRADES_v2',\n",
       "  'pre_trained': 'True',\n",
       "  'pruning_ratio': '0.7',\n",
       "  'pruning_strategy': 'score_v2',\n",
       "  'sched': 'nosched',\n",
       "  'adv_acc': '0.3222',\n",
       "  'nat_acc': '0.8209'},\n",
       " '51391514': {'arch': 'resnet50',\n",
       "  'aug': 'aug',\n",
       "  'batch_size': '1042',\n",
       "  'dataset': 'CIFAR10',\n",
       "  'init_lr': '0.01',\n",
       "  'iterations': '60',\n",
       "  'loss_function': 'TRADES_v2',\n",
       "  'pre_trained': 'True',\n",
       "  'pruning_ratio': '0.7',\n",
       "  'pruning_strategy': 'decay_based_v2',\n",
       "  'sched': 'nosched',\n",
       "  'adv_acc': '0.3865',\n",
       "  'nat_acc': '0.8345'},\n",
       " '51391516': {'arch': 'resnet50',\n",
       "  'aug': 'aug',\n",
       "  'batch_size': '1042',\n",
       "  'dataset': 'CIFAR10',\n",
       "  'init_lr': '0.01',\n",
       "  'iterations': '60',\n",
       "  'loss_function': 'TRADES_v2',\n",
       "  'pre_trained': 'True',\n",
       "  'pruning_ratio': '0.7',\n",
       "  'pruning_strategy': 'random',\n",
       "  'sched': 'nosched',\n",
       "  'adv_acc': '0.3915',\n",
       "  'nat_acc': '0.8137'},\n",
       " '51391521': {'arch': 'resnet50',\n",
       "  'aug': 'aug',\n",
       "  'batch_size': '1042',\n",
       "  'dataset': 'CIFAR10',\n",
       "  'init_lr': '0.01',\n",
       "  'iterations': '60',\n",
       "  'loss_function': 'TRADES_v2',\n",
       "  'pre_trained': 'True',\n",
       "  'pruning_ratio': '0.3',\n",
       "  'pruning_strategy': 'TS_pruning',\n",
       "  'sched': 'nosched',\n",
       "  'adv_acc': '0.3852',\n",
       "  'nat_acc': '0.8259'},\n",
       " '51391522': {'arch': 'resnet50',\n",
       "  'aug': 'aug',\n",
       "  'batch_size': '1042',\n",
       "  'dataset': 'CIFAR10',\n",
       "  'init_lr': '0.01',\n",
       "  'iterations': '60',\n",
       "  'loss_function': 'TRADES_v2',\n",
       "  'pre_trained': 'True',\n",
       "  'pruning_ratio': '0.3',\n",
       "  'pruning_strategy': 'random',\n",
       "  'sched': 'nosched',\n",
       "  'adv_acc': '0.3825',\n",
       "  'nat_acc': '0.8261'},\n",
       " '51391524': {'arch': 'resnet50',\n",
       "  'aug': 'aug',\n",
       "  'batch_size': '1042',\n",
       "  'dataset': 'CIFAR10',\n",
       "  'init_lr': '0.01',\n",
       "  'iterations': '60',\n",
       "  'loss_function': 'TRADES_v2',\n",
       "  'pre_trained': 'True',\n",
       "  'pruning_ratio': '0.3',\n",
       "  'pruning_strategy': 'score_v1',\n",
       "  'sched': 'nosched',\n",
       "  'adv_acc': '0.3442',\n",
       "  'nat_acc': '0.8291'},\n",
       " '51391518': {'arch': 'resnet50',\n",
       "  'aug': 'aug',\n",
       "  'batch_size': '1042',\n",
       "  'dataset': 'CIFAR10',\n",
       "  'init_lr': '0.01',\n",
       "  'iterations': '60',\n",
       "  'loss_function': 'TRADES_v2',\n",
       "  'pre_trained': 'True',\n",
       "  'pruning_ratio': '0.7',\n",
       "  'pruning_strategy': 'score_v1',\n",
       "  'sched': 'nosched',\n",
       "  'adv_acc': '0.3155',\n",
       "  'nat_acc': '0.8233'},\n",
       " '51391531': {'arch': 'resnet50',\n",
       "  'aug': 'aug',\n",
       "  'batch_size': '1042',\n",
       "  'dataset': 'CIFAR10',\n",
       "  'init_lr': '0.01',\n",
       "  'iterations': '60',\n",
       "  'loss_function': 'TRADES_v2',\n",
       "  'pre_trained': 'True',\n",
       "  'pruning_ratio': '0.5',\n",
       "  'pruning_strategy': 'score_v2',\n",
       "  'sched': 'nosched',\n",
       "  'adv_acc': '0.3467',\n",
       "  'nat_acc': '0.8379'},\n",
       " '51396982': {'arch': 'resnet50',\n",
       "  'aug': 'aug',\n",
       "  'batch_size': '128',\n",
       "  'dataset': 'CIFAR10',\n",
       "  'init_lr': '0.01',\n",
       "  'iterations': '60',\n",
       "  'loss_function': 'TRADES_v2',\n",
       "  'pre_trained': 'True',\n",
       "  'pruning_ratio': '0.0',\n",
       "  'pruning_strategy': 'decay_based_v2',\n",
       "  'sched': 'sched',\n",
       "  'adv_acc': '0.2977',\n",
       "  'nat_acc': '0.744'},\n",
       " '51396986': {'arch': 'resnet50',\n",
       "  'aug': 'aug',\n",
       "  'batch_size': '128',\n",
       "  'dataset': 'CIFAR10',\n",
       "  'init_lr': '0.01',\n",
       "  'iterations': '60',\n",
       "  'loss_function': 'TRADES_v2',\n",
       "  'pre_trained': 'True',\n",
       "  'pruning_ratio': '0.0',\n",
       "  'pruning_strategy': 'score_v1',\n",
       "  'sched': 'sched',\n",
       "  'adv_acc': '0.3126',\n",
       "  'nat_acc': '0.7629'},\n",
       " '51396987': {'arch': 'resnet50',\n",
       "  'aug': 'aug',\n",
       "  'batch_size': '128',\n",
       "  'dataset': 'CIFAR10',\n",
       "  'init_lr': '0.01',\n",
       "  'iterations': '60',\n",
       "  'loss_function': 'TRADES_v2',\n",
       "  'pre_trained': 'True',\n",
       "  'pruning_ratio': '0.0',\n",
       "  'pruning_strategy': 'score_v2',\n",
       "  'sched': 'sched',\n",
       "  'adv_acc': '0.3088',\n",
       "  'nat_acc': '0.7731'},\n",
       " '51396984': {'arch': 'resnet50',\n",
       "  'aug': 'aug',\n",
       "  'batch_size': '128',\n",
       "  'dataset': 'CIFAR10',\n",
       "  'init_lr': '0.01',\n",
       "  'iterations': '60',\n",
       "  'loss_function': 'TRADES_v2',\n",
       "  'pre_trained': 'True',\n",
       "  'pruning_ratio': '0.0',\n",
       "  'pruning_strategy': 'random',\n",
       "  'sched': 'sched',\n",
       "  'adv_acc': '0.311',\n",
       "  'nat_acc': '0.7515'},\n",
       " '51396985': {'arch': 'resnet50',\n",
       "  'aug': 'aug',\n",
       "  'batch_size': '128',\n",
       "  'dataset': 'CIFAR10',\n",
       "  'init_lr': '0.01',\n",
       "  'iterations': '60',\n",
       "  'loss_function': 'TRADES_v2',\n",
       "  'pre_trained': 'True',\n",
       "  'pruning_ratio': '0.0',\n",
       "  'pruning_strategy': 'uncertainty',\n",
       "  'sched': 'sched',\n",
       "  'adv_acc': '0.3252',\n",
       "  'nat_acc': '0.7724'},\n",
       " '51396983': {'arch': 'resnet50',\n",
       "  'aug': 'aug',\n",
       "  'batch_size': '128',\n",
       "  'dataset': 'CIFAR10',\n",
       "  'init_lr': '0.01',\n",
       "  'iterations': '60',\n",
       "  'loss_function': 'TRADES_v2',\n",
       "  'pre_trained': 'True',\n",
       "  'pruning_ratio': '0.0',\n",
       "  'pruning_strategy': 'TS_pruning',\n",
       "  'sched': 'sched',\n",
       "  'adv_acc': '0.3189',\n",
       "  'nat_acc': '0.7624'},\n",
       " '51396988': {'arch': 'resnet50',\n",
       "  'aug': 'aug',\n",
       "  'batch_size': '128',\n",
       "  'dataset': 'CIFAR10',\n",
       "  'init_lr': '0.01',\n",
       "  'iterations': '60',\n",
       "  'loss_function': 'TRADES_v2',\n",
       "  'pre_trained': 'True',\n",
       "  'pruning_ratio': '0.7',\n",
       "  'pruning_strategy': 'decay_based_v2',\n",
       "  'sched': 'sched',\n",
       "  'adv_acc': '0.2688',\n",
       "  'nat_acc': '0.6408'},\n",
       " '51396989': {'arch': 'resnet50',\n",
       "  'aug': 'aug',\n",
       "  'batch_size': '128',\n",
       "  'dataset': 'CIFAR10',\n",
       "  'init_lr': '0.01',\n",
       "  'iterations': '60',\n",
       "  'loss_function': 'TRADES_v2',\n",
       "  'pre_trained': 'True',\n",
       "  'pruning_ratio': '0.7',\n",
       "  'pruning_strategy': 'TS_pruning',\n",
       "  'sched': 'sched',\n",
       "  'adv_acc': '0.2945',\n",
       "  'nat_acc': '0.6569'},\n",
       " '51396990': {'arch': 'resnet50',\n",
       "  'aug': 'aug',\n",
       "  'batch_size': '128',\n",
       "  'dataset': 'CIFAR10',\n",
       "  'init_lr': '0.01',\n",
       "  'iterations': '60',\n",
       "  'loss_function': 'TRADES_v2',\n",
       "  'pre_trained': 'True',\n",
       "  'pruning_ratio': '0.7',\n",
       "  'pruning_strategy': 'random',\n",
       "  'sched': 'sched',\n",
       "  'adv_acc': '0.2922',\n",
       "  'nat_acc': '0.6592'},\n",
       " '51396991': {'arch': 'resnet50',\n",
       "  'aug': 'aug',\n",
       "  'batch_size': '128',\n",
       "  'dataset': 'CIFAR10',\n",
       "  'init_lr': '0.01',\n",
       "  'iterations': '60',\n",
       "  'loss_function': 'TRADES_v2',\n",
       "  'pre_trained': 'True',\n",
       "  'pruning_ratio': '0.7',\n",
       "  'pruning_strategy': 'uncertainty',\n",
       "  'sched': 'sched',\n",
       "  'adv_acc': '0.2945',\n",
       "  'nat_acc': '0.69'},\n",
       " '51396994': {'arch': 'resnet50',\n",
       "  'aug': 'aug',\n",
       "  'batch_size': '128',\n",
       "  'dataset': 'CIFAR10',\n",
       "  'init_lr': '0.01',\n",
       "  'iterations': '60',\n",
       "  'loss_function': 'TRADES_v2',\n",
       "  'pre_trained': 'True',\n",
       "  'pruning_ratio': '0.3',\n",
       "  'pruning_strategy': 'decay_based_v2',\n",
       "  'sched': 'sched',\n",
       "  'adv_acc': '0.3473',\n",
       "  'nat_acc': '0.7343'},\n",
       " '51396993': {'arch': 'resnet50',\n",
       "  'aug': 'aug',\n",
       "  'batch_size': '128',\n",
       "  'dataset': 'CIFAR10',\n",
       "  'init_lr': '0.01',\n",
       "  'iterations': '60',\n",
       "  'loss_function': 'TRADES_v2',\n",
       "  'pre_trained': 'True',\n",
       "  'pruning_ratio': '0.7',\n",
       "  'pruning_strategy': 'score_v2',\n",
       "  'sched': 'sched',\n",
       "  'adv_acc': '0.2575',\n",
       "  'nat_acc': '0.6609'},\n",
       " '51396992': {'arch': 'resnet50',\n",
       "  'aug': 'aug',\n",
       "  'batch_size': '128',\n",
       "  'dataset': 'CIFAR10',\n",
       "  'init_lr': '0.01',\n",
       "  'iterations': '60',\n",
       "  'loss_function': 'TRADES_v2',\n",
       "  'pre_trained': 'True',\n",
       "  'pruning_ratio': '0.7',\n",
       "  'pruning_strategy': 'score_v1',\n",
       "  'sched': 'sched',\n",
       "  'adv_acc': '0.2533',\n",
       "  'nat_acc': '0.6854'},\n",
       " '51396995': {'arch': 'resnet50',\n",
       "  'aug': 'aug',\n",
       "  'batch_size': '128',\n",
       "  'dataset': 'CIFAR10',\n",
       "  'init_lr': '0.01',\n",
       "  'iterations': '60',\n",
       "  'loss_function': 'TRADES_v2',\n",
       "  'pre_trained': 'True',\n",
       "  'pruning_ratio': '0.3',\n",
       "  'pruning_strategy': 'TS_pruning',\n",
       "  'sched': 'sched',\n",
       "  'adv_acc': '0.3072',\n",
       "  'nat_acc': '0.7534'},\n",
       " '51396996': {'arch': 'resnet50',\n",
       "  'aug': 'aug',\n",
       "  'batch_size': '128',\n",
       "  'dataset': 'CIFAR10',\n",
       "  'init_lr': '0.01',\n",
       "  'iterations': '60',\n",
       "  'loss_function': 'TRADES_v2',\n",
       "  'pre_trained': 'True',\n",
       "  'pruning_ratio': '0.3',\n",
       "  'pruning_strategy': 'random',\n",
       "  'sched': 'sched',\n",
       "  'adv_acc': '0.3359',\n",
       "  'nat_acc': '0.7522'},\n",
       " '51396997': {'arch': 'resnet50',\n",
       "  'aug': 'aug',\n",
       "  'batch_size': '128',\n",
       "  'dataset': 'CIFAR10',\n",
       "  'init_lr': '0.01',\n",
       "  'iterations': '60',\n",
       "  'loss_function': 'TRADES_v2',\n",
       "  'pre_trained': 'True',\n",
       "  'pruning_ratio': '0.3',\n",
       "  'pruning_strategy': 'uncertainty',\n",
       "  'sched': 'sched',\n",
       "  'adv_acc': '0.2843',\n",
       "  'nat_acc': '0.7725'},\n",
       " '51396998': {'arch': 'resnet50',\n",
       "  'aug': 'aug',\n",
       "  'batch_size': '128',\n",
       "  'dataset': 'CIFAR10',\n",
       "  'init_lr': '0.01',\n",
       "  'iterations': '60',\n",
       "  'loss_function': 'TRADES_v2',\n",
       "  'pre_trained': 'True',\n",
       "  'pruning_ratio': '0.3',\n",
       "  'pruning_strategy': 'score_v1',\n",
       "  'sched': 'sched',\n",
       "  'adv_acc': '0.3063',\n",
       "  'nat_acc': '0.7846'},\n",
       " '51396999': {'arch': 'resnet50',\n",
       "  'aug': 'aug',\n",
       "  'batch_size': '128',\n",
       "  'dataset': 'CIFAR10',\n",
       "  'init_lr': '0.01',\n",
       "  'iterations': '60',\n",
       "  'loss_function': 'TRADES_v2',\n",
       "  'pre_trained': 'True',\n",
       "  'pruning_ratio': '0.3',\n",
       "  'pruning_strategy': 'score_v2',\n",
       "  'sched': 'sched',\n",
       "  'adv_acc': '0.3012',\n",
       "  'nat_acc': '0.7449'},\n",
       " '51397000': {'arch': 'resnet50',\n",
       "  'aug': 'aug',\n",
       "  'batch_size': '128',\n",
       "  'dataset': 'CIFAR10',\n",
       "  'init_lr': '0.01',\n",
       "  'iterations': '60',\n",
       "  'loss_function': 'TRADES_v2',\n",
       "  'pre_trained': 'True',\n",
       "  'pruning_ratio': '0.5',\n",
       "  'pruning_strategy': 'decay_based_v2',\n",
       "  'sched': 'sched',\n",
       "  'adv_acc': None,\n",
       "  'nat_acc': None},\n",
       " '51397001': {'arch': 'resnet50',\n",
       "  'aug': 'aug',\n",
       "  'batch_size': '128',\n",
       "  'dataset': 'CIFAR10',\n",
       "  'init_lr': '0.01',\n",
       "  'iterations': '60',\n",
       "  'loss_function': 'TRADES_v2',\n",
       "  'pre_trained': 'True',\n",
       "  'pruning_ratio': '0.5',\n",
       "  'pruning_strategy': 'TS_pruning',\n",
       "  'sched': 'sched',\n",
       "  'adv_acc': '0.3348',\n",
       "  'nat_acc': '0.6894'},\n",
       " '51397002': {'arch': 'resnet50',\n",
       "  'aug': 'aug',\n",
       "  'batch_size': '128',\n",
       "  'dataset': 'CIFAR10',\n",
       "  'init_lr': '0.01',\n",
       "  'iterations': '60',\n",
       "  'loss_function': 'TRADES_v2',\n",
       "  'pre_trained': 'True',\n",
       "  'pruning_ratio': '0.5',\n",
       "  'pruning_strategy': 'random',\n",
       "  'sched': 'sched',\n",
       "  'adv_acc': '0.3099',\n",
       "  'nat_acc': '0.7004'},\n",
       " '51397003': {'arch': 'resnet50',\n",
       "  'aug': 'aug',\n",
       "  'batch_size': '128',\n",
       "  'dataset': 'CIFAR10',\n",
       "  'init_lr': '0.01',\n",
       "  'iterations': '60',\n",
       "  'loss_function': 'TRADES_v2',\n",
       "  'pre_trained': 'True',\n",
       "  'pruning_ratio': '0.5',\n",
       "  'pruning_strategy': 'uncertainty',\n",
       "  'sched': 'sched',\n",
       "  'adv_acc': '0.2879',\n",
       "  'nat_acc': '0.7154'},\n",
       " '51397004': {'arch': 'resnet50',\n",
       "  'aug': 'aug',\n",
       "  'batch_size': '128',\n",
       "  'dataset': 'CIFAR10',\n",
       "  'init_lr': '0.01',\n",
       "  'iterations': '60',\n",
       "  'loss_function': 'TRADES_v2',\n",
       "  'pre_trained': 'True',\n",
       "  'pruning_ratio': '0.5',\n",
       "  'pruning_strategy': 'score_v1',\n",
       "  'sched': 'sched',\n",
       "  'adv_acc': None,\n",
       "  'nat_acc': None},\n",
       " '51397005': {'arch': 'resnet50',\n",
       "  'aug': 'aug',\n",
       "  'batch_size': '128',\n",
       "  'dataset': 'CIFAR10',\n",
       "  'init_lr': '0.01',\n",
       "  'iterations': '60',\n",
       "  'loss_function': 'TRADES_v2',\n",
       "  'pre_trained': 'True',\n",
       "  'pruning_ratio': '0.5',\n",
       "  'pruning_strategy': 'score_v2',\n",
       "  'sched': 'sched',\n",
       "  'adv_acc': None,\n",
       "  'nat_acc': None},\n",
       " '51404415': {'arch': 'resnet50',\n",
       "  'aug': 'aug',\n",
       "  'batch_size': '1042',\n",
       "  'dataset': 'CIFAR10',\n",
       "  'init_lr': '0.01',\n",
       "  'iterations': '60',\n",
       "  'loss_function': 'TRADES_v2',\n",
       "  'pre_trained': 'True',\n",
       "  'pruning_ratio': '0.0',\n",
       "  'pruning_strategy': 'decay_based_v2',\n",
       "  'sched': 'sched',\n",
       "  'adv_acc': '0.3648',\n",
       "  'nat_acc': '0.8398'},\n",
       " '44489059': {'arch': 'resnet50',\n",
       "  'aug': 'aug',\n",
       "  'batch_size': '64',\n",
       "  'dataset': 'Imagenet1k',\n",
       "  'init_lr': '0.01',\n",
       "  'iterations': '60',\n",
       "  'loss_function': 'TRADES_v2',\n",
       "  'pre_trained': 'True',\n",
       "  'pruning_ratio': '0.0',\n",
       "  'pruning_strategy': 'decay_based_v2',\n",
       "  'sched': 'nosched',\n",
       "  'adv_acc': None,\n",
       "  'nat_acc': None},\n",
       " '44489060': {'arch': 'resnet50',\n",
       "  'aug': 'aug',\n",
       "  'batch_size': '64',\n",
       "  'dataset': 'Imagenet1k',\n",
       "  'init_lr': '0.01',\n",
       "  'iterations': '60',\n",
       "  'loss_function': 'TRADES_v2',\n",
       "  'pre_trained': 'True',\n",
       "  'pruning_ratio': '0.0',\n",
       "  'pruning_strategy': 'TS_pruning',\n",
       "  'sched': 'nosched',\n",
       "  'adv_acc': None,\n",
       "  'nat_acc': None},\n",
       " '44489083': {'arch': 'resnet50',\n",
       "  'aug': 'aug',\n",
       "  'batch_size': '64',\n",
       "  'dataset': 'Imagenet1k',\n",
       "  'init_lr': '0.01',\n",
       "  'iterations': '60',\n",
       "  'loss_function': 'TRADES_v2',\n",
       "  'pre_trained': 'True',\n",
       "  'pruning_ratio': '0.0',\n",
       "  'pruning_strategy': 'uncertainty',\n",
       "  'sched': 'nosched',\n",
       "  'adv_acc': None,\n",
       "  'nat_acc': None},\n",
       " '44489062': {'arch': 'resnet50',\n",
       "  'aug': 'aug',\n",
       "  'batch_size': '64',\n",
       "  'dataset': 'Imagenet1k',\n",
       "  'init_lr': '0.01',\n",
       "  'iterations': '60',\n",
       "  'loss_function': 'TRADES_v2',\n",
       "  'pre_trained': 'True',\n",
       "  'pruning_ratio': '0.0',\n",
       "  'pruning_strategy': 'random',\n",
       "  'sched': 'nosched',\n",
       "  'adv_acc': None,\n",
       "  'nat_acc': None},\n",
       " '44489084': {'arch': 'resnet50',\n",
       "  'aug': 'aug',\n",
       "  'batch_size': '64',\n",
       "  'dataset': 'Imagenet1k',\n",
       "  'init_lr': '0.01',\n",
       "  'iterations': '60',\n",
       "  'loss_function': 'TRADES_v2',\n",
       "  'pre_trained': 'True',\n",
       "  'pruning_ratio': '0.0',\n",
       "  'pruning_strategy': 'score_v1',\n",
       "  'sched': 'nosched',\n",
       "  'adv_acc': None,\n",
       "  'nat_acc': None},\n",
       " '44489086': {'arch': 'resnet50',\n",
       "  'aug': 'aug',\n",
       "  'batch_size': '64',\n",
       "  'dataset': 'Imagenet1k',\n",
       "  'init_lr': '0.01',\n",
       "  'iterations': '60',\n",
       "  'loss_function': 'TRADES_v2',\n",
       "  'pre_trained': 'True',\n",
       "  'pruning_ratio': '0.3',\n",
       "  'pruning_strategy': 'decay_based_v2',\n",
       "  'sched': 'nosched',\n",
       "  'adv_acc': None,\n",
       "  'nat_acc': None},\n",
       " '44489085': {'arch': 'resnet50',\n",
       "  'aug': 'aug',\n",
       "  'batch_size': '64',\n",
       "  'dataset': 'Imagenet1k',\n",
       "  'init_lr': '0.01',\n",
       "  'iterations': '60',\n",
       "  'loss_function': 'TRADES_v2',\n",
       "  'pre_trained': 'True',\n",
       "  'pruning_ratio': '0.0',\n",
       "  'pruning_strategy': 'score_v2',\n",
       "  'sched': 'nosched',\n",
       "  'adv_acc': None,\n",
       "  'nat_acc': None},\n",
       " '44489087': {'arch': 'resnet50',\n",
       "  'aug': 'aug',\n",
       "  'batch_size': '64',\n",
       "  'dataset': 'Imagenet1k',\n",
       "  'init_lr': '0.01',\n",
       "  'iterations': '60',\n",
       "  'loss_function': 'TRADES_v2',\n",
       "  'pre_trained': 'True',\n",
       "  'pruning_ratio': '0.3',\n",
       "  'pruning_strategy': 'TS_pruning',\n",
       "  'sched': 'nosched',\n",
       "  'adv_acc': None,\n",
       "  'nat_acc': None},\n",
       " '44489088': {'arch': 'resnet50',\n",
       "  'aug': 'aug',\n",
       "  'batch_size': '64',\n",
       "  'dataset': 'Imagenet1k',\n",
       "  'init_lr': '0.01',\n",
       "  'iterations': '60',\n",
       "  'loss_function': 'TRADES_v2',\n",
       "  'pre_trained': 'True',\n",
       "  'pruning_ratio': '0.3',\n",
       "  'pruning_strategy': 'random',\n",
       "  'sched': 'nosched',\n",
       "  'adv_acc': None,\n",
       "  'nat_acc': None},\n",
       " '51404416': {'arch': 'resnet50',\n",
       "  'aug': 'aug',\n",
       "  'batch_size': '1042',\n",
       "  'dataset': 'CIFAR10',\n",
       "  'init_lr': '0.01',\n",
       "  'iterations': '60',\n",
       "  'loss_function': 'TRADES_v2',\n",
       "  'pre_trained': 'True',\n",
       "  'pruning_ratio': '0.0',\n",
       "  'pruning_strategy': 'TS_pruning',\n",
       "  'sched': 'sched',\n",
       "  'adv_acc': '0.3885',\n",
       "  'nat_acc': '0.8275'},\n",
       " '44489090': {'arch': 'resnet50',\n",
       "  'aug': 'aug',\n",
       "  'batch_size': '64',\n",
       "  'dataset': 'Imagenet1k',\n",
       "  'init_lr': '0.01',\n",
       "  'iterations': '60',\n",
       "  'loss_function': 'TRADES_v2',\n",
       "  'pre_trained': 'True',\n",
       "  'pruning_ratio': '0.3',\n",
       "  'pruning_strategy': 'score_v1',\n",
       "  'sched': 'nosched',\n",
       "  'adv_acc': None,\n",
       "  'nat_acc': None},\n",
       " '44489089': {'arch': 'resnet50',\n",
       "  'aug': 'aug',\n",
       "  'batch_size': '64',\n",
       "  'dataset': 'Imagenet1k',\n",
       "  'init_lr': '0.01',\n",
       "  'iterations': '60',\n",
       "  'loss_function': 'TRADES_v2',\n",
       "  'pre_trained': 'True',\n",
       "  'pruning_ratio': '0.3',\n",
       "  'pruning_strategy': 'uncertainty',\n",
       "  'sched': 'nosched',\n",
       "  'adv_acc': None,\n",
       "  'nat_acc': None},\n",
       " '44489091': {'arch': 'resnet50',\n",
       "  'aug': 'aug',\n",
       "  'batch_size': '64',\n",
       "  'dataset': 'Imagenet1k',\n",
       "  'init_lr': '0.01',\n",
       "  'iterations': '60',\n",
       "  'loss_function': 'TRADES_v2',\n",
       "  'pre_trained': 'True',\n",
       "  'pruning_ratio': '0.3',\n",
       "  'pruning_strategy': 'score_v2',\n",
       "  'sched': 'nosched',\n",
       "  'adv_acc': None,\n",
       "  'nat_acc': None},\n",
       " '44489093': {'arch': 'resnet50',\n",
       "  'aug': 'aug',\n",
       "  'batch_size': '64',\n",
       "  'dataset': 'Imagenet1k',\n",
       "  'init_lr': '0.01',\n",
       "  'iterations': '60',\n",
       "  'loss_function': 'TRADES_v2',\n",
       "  'pre_trained': 'True',\n",
       "  'pruning_ratio': '0.5',\n",
       "  'pruning_strategy': 'TS_pruning',\n",
       "  'sched': 'nosched',\n",
       "  'adv_acc': None,\n",
       "  'nat_acc': None},\n",
       " '51404417': {'arch': 'resnet50',\n",
       "  'aug': 'aug',\n",
       "  'batch_size': '1042',\n",
       "  'dataset': 'CIFAR10',\n",
       "  'init_lr': '0.01',\n",
       "  'iterations': '60',\n",
       "  'loss_function': 'TRADES_v2',\n",
       "  'pre_trained': 'True',\n",
       "  'pruning_ratio': '0.0',\n",
       "  'pruning_strategy': 'random',\n",
       "  'sched': 'sched',\n",
       "  'adv_acc': '0.376',\n",
       "  'nat_acc': '0.8311'},\n",
       " '51404418': {'arch': 'resnet50',\n",
       "  'aug': 'aug',\n",
       "  'batch_size': '1042',\n",
       "  'dataset': 'CIFAR10',\n",
       "  'init_lr': '0.01',\n",
       "  'iterations': '60',\n",
       "  'loss_function': 'TRADES_v2',\n",
       "  'pre_trained': 'True',\n",
       "  'pruning_ratio': '0.0',\n",
       "  'pruning_strategy': 'uncertainty',\n",
       "  'sched': 'sched',\n",
       "  'adv_acc': '0.4011',\n",
       "  'nat_acc': '0.8249'},\n",
       " '51404420': {'arch': 'resnet50',\n",
       "  'aug': 'aug',\n",
       "  'batch_size': '1042',\n",
       "  'dataset': 'CIFAR10',\n",
       "  'init_lr': '0.01',\n",
       "  'iterations': '60',\n",
       "  'loss_function': 'TRADES_v2',\n",
       "  'pre_trained': 'True',\n",
       "  'pruning_ratio': '0.0',\n",
       "  'pruning_strategy': 'score_v1',\n",
       "  'sched': 'sched',\n",
       "  'adv_acc': '0.3987',\n",
       "  'nat_acc': '0.8096'},\n",
       " '51404421': {'arch': 'resnet50',\n",
       "  'aug': 'aug',\n",
       "  'batch_size': '1042',\n",
       "  'dataset': 'CIFAR10',\n",
       "  'init_lr': '0.01',\n",
       "  'iterations': '60',\n",
       "  'loss_function': 'TRADES_v2',\n",
       "  'pre_trained': 'True',\n",
       "  'pruning_ratio': '0.0',\n",
       "  'pruning_strategy': 'score_v2',\n",
       "  'sched': 'sched',\n",
       "  'adv_acc': '0.4005',\n",
       "  'nat_acc': '0.8316'},\n",
       " '44489094': {'arch': 'resnet50',\n",
       "  'aug': 'aug',\n",
       "  'batch_size': '64',\n",
       "  'dataset': 'Imagenet1k',\n",
       "  'init_lr': '0.01',\n",
       "  'iterations': '60',\n",
       "  'loss_function': 'TRADES_v2',\n",
       "  'pre_trained': 'True',\n",
       "  'pruning_ratio': '0.5',\n",
       "  'pruning_strategy': 'random',\n",
       "  'sched': 'nosched',\n",
       "  'adv_acc': None,\n",
       "  'nat_acc': None},\n",
       " '44489095': {'arch': 'resnet50',\n",
       "  'aug': 'aug',\n",
       "  'batch_size': '64',\n",
       "  'dataset': 'Imagenet1k',\n",
       "  'init_lr': '0.01',\n",
       "  'iterations': '60',\n",
       "  'loss_function': 'TRADES_v2',\n",
       "  'pre_trained': 'True',\n",
       "  'pruning_ratio': '0.5',\n",
       "  'pruning_strategy': 'uncertainty',\n",
       "  'sched': 'nosched',\n",
       "  'adv_acc': None,\n",
       "  'nat_acc': None},\n",
       " '44489096': {'arch': 'resnet50',\n",
       "  'aug': 'aug',\n",
       "  'batch_size': '64',\n",
       "  'dataset': 'Imagenet1k',\n",
       "  'init_lr': '0.01',\n",
       "  'iterations': '60',\n",
       "  'loss_function': 'TRADES_v2',\n",
       "  'pre_trained': 'True',\n",
       "  'pruning_ratio': '0.5',\n",
       "  'pruning_strategy': 'score_v1',\n",
       "  'sched': 'nosched',\n",
       "  'adv_acc': None,\n",
       "  'nat_acc': None},\n",
       " '44489098': {'arch': 'resnet50',\n",
       "  'aug': 'aug',\n",
       "  'batch_size': '64',\n",
       "  'dataset': 'Imagenet1k',\n",
       "  'init_lr': '0.01',\n",
       "  'iterations': '60',\n",
       "  'loss_function': 'TRADES_v2',\n",
       "  'pre_trained': 'True',\n",
       "  'pruning_ratio': '0.7',\n",
       "  'pruning_strategy': 'decay_based_v2',\n",
       "  'sched': 'nosched',\n",
       "  'adv_acc': None,\n",
       "  'nat_acc': None},\n",
       " '44489099': {'arch': 'resnet50',\n",
       "  'aug': 'aug',\n",
       "  'batch_size': '64',\n",
       "  'dataset': 'Imagenet1k',\n",
       "  'init_lr': '0.01',\n",
       "  'iterations': '60',\n",
       "  'loss_function': 'TRADES_v2',\n",
       "  'pre_trained': 'True',\n",
       "  'pruning_ratio': '0.7',\n",
       "  'pruning_strategy': 'TS_pruning',\n",
       "  'sched': 'nosched',\n",
       "  'adv_acc': None,\n",
       "  'nat_acc': None},\n",
       " '44489097': {'arch': 'resnet50',\n",
       "  'aug': 'aug',\n",
       "  'batch_size': '64',\n",
       "  'dataset': 'Imagenet1k',\n",
       "  'init_lr': '0.01',\n",
       "  'iterations': '60',\n",
       "  'loss_function': 'TRADES_v2',\n",
       "  'pre_trained': 'True',\n",
       "  'pruning_ratio': '0.5',\n",
       "  'pruning_strategy': 'score_v2',\n",
       "  'sched': 'nosched',\n",
       "  'adv_acc': None,\n",
       "  'nat_acc': None},\n",
       " '44489100': {'arch': 'resnet50',\n",
       "  'aug': 'aug',\n",
       "  'batch_size': '64',\n",
       "  'dataset': 'Imagenet1k',\n",
       "  'init_lr': '0.01',\n",
       "  'iterations': '60',\n",
       "  'loss_function': 'TRADES_v2',\n",
       "  'pre_trained': 'True',\n",
       "  'pruning_ratio': '0.7',\n",
       "  'pruning_strategy': 'random',\n",
       "  'sched': 'nosched',\n",
       "  'adv_acc': None,\n",
       "  'nat_acc': None},\n",
       " '44489102': {'arch': 'resnet50',\n",
       "  'aug': 'aug',\n",
       "  'batch_size': '64',\n",
       "  'dataset': 'Imagenet1k',\n",
       "  'init_lr': '0.01',\n",
       "  'iterations': '60',\n",
       "  'loss_function': 'TRADES_v2',\n",
       "  'pre_trained': 'True',\n",
       "  'pruning_ratio': '0.7',\n",
       "  'pruning_strategy': 'score_v1',\n",
       "  'sched': 'nosched',\n",
       "  'adv_acc': None,\n",
       "  'nat_acc': None},\n",
       " '44489101': {'arch': 'resnet50',\n",
       "  'aug': 'aug',\n",
       "  'batch_size': '64',\n",
       "  'dataset': 'Imagenet1k',\n",
       "  'init_lr': '0.01',\n",
       "  'iterations': '60',\n",
       "  'loss_function': 'TRADES_v2',\n",
       "  'pre_trained': 'True',\n",
       "  'pruning_ratio': '0.7',\n",
       "  'pruning_strategy': 'uncertainty',\n",
       "  'sched': 'nosched',\n",
       "  'adv_acc': None,\n",
       "  'nat_acc': None},\n",
       " '44489103': {'arch': 'resnet50',\n",
       "  'aug': 'aug',\n",
       "  'batch_size': '64',\n",
       "  'dataset': 'Imagenet1k',\n",
       "  'init_lr': '0.01',\n",
       "  'iterations': '60',\n",
       "  'loss_function': 'TRADES_v2',\n",
       "  'pre_trained': 'True',\n",
       "  'pruning_ratio': '0.7',\n",
       "  'pruning_strategy': 'score_v2',\n",
       "  'sched': 'nosched',\n",
       "  'adv_acc': None,\n",
       "  'nat_acc': None},\n",
       " '44489092': {'arch': 'resnet50',\n",
       "  'aug': 'aug',\n",
       "  'batch_size': '64',\n",
       "  'dataset': 'Imagenet1k',\n",
       "  'init_lr': '0.01',\n",
       "  'iterations': '60',\n",
       "  'loss_function': 'TRADES_v2',\n",
       "  'pre_trained': 'True',\n",
       "  'pruning_ratio': '0.5',\n",
       "  'pruning_strategy': 'decay_based_v2',\n",
       "  'sched': 'nosched',\n",
       "  'adv_acc': None,\n",
       "  'nat_acc': None}}"
      ]
     },
     "execution_count": 35,
     "metadata": {},
     "output_type": "execute_result"
    }
   ],
   "source": [
    "# Convert the experiment summary to an APIExperiment using the experiment key\n",
    "from tqdm.notebook import tqdm\n",
    "\n",
    "data = {}\n",
    "for i in tqdm( range(len(all_experiments_in_project)) ):\n",
    "    summary = all_experiments_in_project[i].get_parameters_summary()\n",
    "\n",
    "    d = {}\n",
    "    for e in summary:\n",
    "        if e['name'] in ['dataset', 'pre_trained', 'run_id', 'arch','aug','sched', 'batch_size','init_lr','sched','pruning_strategy','pruning_ratio','loss_function','iterations']:\n",
    "            if e['name'] == 'run_id':\n",
    "                id = e['valueMax']\n",
    "            else:\n",
    "                d[e['name']] = e['valueMax']\n",
    "        \n",
    "    if id not in data.keys():\n",
    "        try:\n",
    "            adv_acc  = all_experiments_in_project[i].get_metrics('final_robust_accuracy')[0]\n",
    "            d[ 'adv_acc' ] = adv_acc['metricValue']\n",
    "            nat_acc = all_experiments_in_project[i].get_metrics('final_clean_accuracy')[0]\n",
    "            d[ 'nat_acc' ] = nat_acc['metricValue']\n",
    "        except:\n",
    "            d[ 'adv_acc' ] = None\n",
    "            d[ 'nat_acc' ] = None\n",
    "\n",
    "        data[id] = d\n",
    "\n",
    "data"
   ]
  },
  {
   "cell_type": "code",
   "execution_count": 37,
   "metadata": {},
   "outputs": [
    {
     "data": {
      "application/vnd.plotly.v1+json": {
       "config": {
        "plotlyServerURL": "https://plot.ly"
       },
       "data": [
        {
         "marker": {
          "color": "blue",
          "size": 10,
          "symbol": "circle"
         },
         "mode": "markers",
         "name": "random - 0.0",
         "showlegend": true,
         "text": [],
         "type": "scatter",
         "x": [],
         "y": []
        },
        {
         "marker": {
          "color": "blue",
          "size": 10,
          "symbol": "square"
         },
         "mode": "markers",
         "name": "random - 0.3",
         "showlegend": true,
         "text": [
          "random"
         ],
         "type": "scatter",
         "x": [
          0.8261
         ],
         "y": [
          0.3825
         ]
        },
        {
         "marker": {
          "color": "blue",
          "size": 10,
          "symbol": "diamond"
         },
         "mode": "markers",
         "name": "random - 0.5",
         "showlegend": true,
         "text": [
          "random"
         ],
         "type": "scatter",
         "x": [
          0.7972
         ],
         "y": [
          0.3869
         ]
        },
        {
         "marker": {
          "color": "blue",
          "size": 10,
          "symbol": "cross"
         },
         "mode": "markers",
         "name": "random - 0.7",
         "showlegend": true,
         "text": [
          "random"
         ],
         "type": "scatter",
         "x": [
          0.8137
         ],
         "y": [
          0.3915
         ]
        },
        {
         "marker": {
          "color": "green",
          "size": 10,
          "symbol": "circle"
         },
         "mode": "markers",
         "name": "TS_pruning - 0.0",
         "showlegend": true,
         "text": [],
         "type": "scatter",
         "x": [],
         "y": []
        },
        {
         "marker": {
          "color": "green",
          "size": 10,
          "symbol": "square"
         },
         "mode": "markers",
         "name": "TS_pruning - 0.3",
         "showlegend": true,
         "text": [
          "TS_pruning"
         ],
         "type": "scatter",
         "x": [
          0.8259
         ],
         "y": [
          0.3852
         ]
        },
        {
         "marker": {
          "color": "green",
          "size": 10,
          "symbol": "diamond"
         },
         "mode": "markers",
         "name": "TS_pruning - 0.5",
         "showlegend": true,
         "text": [
          "TS_pruning"
         ],
         "type": "scatter",
         "x": [
          0.8291
         ],
         "y": [
          0.4137
         ]
        },
        {
         "marker": {
          "color": "green",
          "size": 10,
          "symbol": "cross"
         },
         "mode": "markers",
         "name": "TS_pruning - 0.7",
         "showlegend": true,
         "text": [
          "TS_pruning"
         ],
         "type": "scatter",
         "x": [
          0.8063
         ],
         "y": [
          0.4007
         ]
        },
        {
         "marker": {
          "color": "orange",
          "size": 10,
          "symbol": "circle"
         },
         "mode": "markers",
         "name": "score_v1 - 0.0",
         "showlegend": true,
         "text": [],
         "type": "scatter",
         "x": [],
         "y": []
        },
        {
         "marker": {
          "color": "orange",
          "size": 10,
          "symbol": "square"
         },
         "mode": "markers",
         "name": "score_v1 - 0.3",
         "showlegend": true,
         "text": [
          "score_v1"
         ],
         "type": "scatter",
         "x": [
          0.8291
         ],
         "y": [
          0.3442
         ]
        },
        {
         "marker": {
          "color": "orange",
          "size": 10,
          "symbol": "diamond"
         },
         "mode": "markers",
         "name": "score_v1 - 0.5",
         "showlegend": true,
         "text": [
          "score_v1"
         ],
         "type": "scatter",
         "x": [
          0.8217
         ],
         "y": [
          0.3386
         ]
        },
        {
         "marker": {
          "color": "orange",
          "size": 10,
          "symbol": "cross"
         },
         "mode": "markers",
         "name": "score_v1 - 0.7",
         "showlegend": true,
         "text": [
          "score_v1"
         ],
         "type": "scatter",
         "x": [
          0.8233
         ],
         "y": [
          0.3155
         ]
        },
        {
         "marker": {
          "color": "purple",
          "size": 10,
          "symbol": "circle"
         },
         "mode": "markers",
         "name": "score_v2 - 0.0",
         "showlegend": true,
         "text": [],
         "type": "scatter",
         "x": [],
         "y": []
        },
        {
         "marker": {
          "color": "purple",
          "size": 10,
          "symbol": "square"
         },
         "mode": "markers",
         "name": "score_v2 - 0.3",
         "showlegend": true,
         "text": [
          "score_v2"
         ],
         "type": "scatter",
         "x": [
          0.8401
         ],
         "y": [
          0.3483
         ]
        },
        {
         "marker": {
          "color": "purple",
          "size": 10,
          "symbol": "diamond"
         },
         "mode": "markers",
         "name": "score_v2 - 0.5",
         "showlegend": true,
         "text": [
          "score_v2"
         ],
         "type": "scatter",
         "x": [
          0.8379
         ],
         "y": [
          0.3467
         ]
        },
        {
         "marker": {
          "color": "purple",
          "size": 10,
          "symbol": "cross"
         },
         "mode": "markers",
         "name": "score_v2 - 0.7",
         "showlegend": true,
         "text": [
          "score_v2"
         ],
         "type": "scatter",
         "x": [
          0.8209
         ],
         "y": [
          0.3222
         ]
        },
        {
         "marker": {
          "color": "brown",
          "size": 10,
          "symbol": "circle"
         },
         "mode": "markers",
         "name": "decay_based_v2 - 0.0",
         "showlegend": true,
         "text": [],
         "type": "scatter",
         "x": [],
         "y": []
        },
        {
         "marker": {
          "color": "brown",
          "size": 10,
          "symbol": "square"
         },
         "mode": "markers",
         "name": "decay_based_v2 - 0.3",
         "showlegend": true,
         "text": [
          "decay_based_v2"
         ],
         "type": "scatter",
         "x": [
          0.8266
         ],
         "y": [
          0.3686
         ]
        },
        {
         "marker": {
          "color": "brown",
          "size": 10,
          "symbol": "diamond"
         },
         "mode": "markers",
         "name": "decay_based_v2 - 0.5",
         "showlegend": true,
         "text": [
          "decay_based_v2"
         ],
         "type": "scatter",
         "x": [
          0.8273
         ],
         "y": [
          0.4021
         ]
        },
        {
         "marker": {
          "color": "brown",
          "size": 10,
          "symbol": "cross"
         },
         "mode": "markers",
         "name": "decay_based_v2 - 0.7",
         "showlegend": true,
         "text": [
          "decay_based_v2"
         ],
         "type": "scatter",
         "x": [
          0.8345
         ],
         "y": [
          0.3865
         ]
        },
        {
         "marker": {
          "color": "magenta",
          "size": 10,
          "symbol": "circle"
         },
         "mode": "markers",
         "name": "decay_based_v3 - 0.0",
         "showlegend": true,
         "text": [],
         "type": "scatter",
         "x": [],
         "y": []
        },
        {
         "marker": {
          "color": "magenta",
          "size": 10,
          "symbol": "square"
         },
         "mode": "markers",
         "name": "decay_based_v3 - 0.3",
         "showlegend": true,
         "text": [],
         "type": "scatter",
         "x": [],
         "y": []
        },
        {
         "marker": {
          "color": "magenta",
          "size": 10,
          "symbol": "diamond"
         },
         "mode": "markers",
         "name": "decay_based_v3 - 0.5",
         "showlegend": true,
         "text": [],
         "type": "scatter",
         "x": [],
         "y": []
        },
        {
         "marker": {
          "color": "magenta",
          "size": 10,
          "symbol": "cross"
         },
         "mode": "markers",
         "name": "decay_based_v3 - 0.7",
         "showlegend": true,
         "text": [],
         "type": "scatter",
         "x": [],
         "y": []
        },
        {
         "marker": {
          "color": "red",
          "size": 10,
          "symbol": "circle"
         },
         "mode": "markers",
         "name": "uncertainty - 0.0",
         "showlegend": true,
         "text": [],
         "type": "scatter",
         "x": [],
         "y": []
        },
        {
         "marker": {
          "color": "red",
          "size": 10,
          "symbol": "square"
         },
         "mode": "markers",
         "name": "uncertainty - 0.3",
         "showlegend": true,
         "text": [
          "uncertainty"
         ],
         "type": "scatter",
         "x": [
          0.8318
         ],
         "y": [
          0.3627
         ]
        },
        {
         "marker": {
          "color": "red",
          "size": 10,
          "symbol": "diamond"
         },
         "mode": "markers",
         "name": "uncertainty - 0.5",
         "showlegend": true,
         "text": [
          "uncertainty"
         ],
         "type": "scatter",
         "x": [
          0.8266
         ],
         "y": [
          0.3666
         ]
        },
        {
         "marker": {
          "color": "red",
          "size": 10,
          "symbol": "cross"
         },
         "mode": "markers",
         "name": "uncertainty - 0.7",
         "showlegend": true,
         "text": [
          "uncertainty"
         ],
         "type": "scatter",
         "x": [
          0.8273
         ],
         "y": [
          0.3531
         ]
        },
        {
         "line": {
          "color": "black",
          "width": 2
         },
         "marker": {
          "color": [
           "purple"
          ],
          "size": 10,
          "symbol": "square"
         },
         "mode": "lines+markers",
         "name": "Pareto Frontier - 0.3",
         "showlegend": false,
         "text": [
          "score_v2"
         ],
         "type": "scatter",
         "x": [
          0.8401
         ],
         "y": [
          0.3483
         ]
        },
        {
         "line": {
          "color": "black",
          "width": 2
         },
         "marker": {
          "color": [
           "green"
          ],
          "size": 10,
          "symbol": "diamond"
         },
         "mode": "lines+markers",
         "name": "Pareto Frontier - 0.5",
         "showlegend": false,
         "text": [
          "TS_pruning"
         ],
         "type": "scatter",
         "x": [
          0.8291
         ],
         "y": [
          0.4137
         ]
        },
        {
         "line": {
          "color": "black",
          "width": 2
         },
         "marker": {
          "color": [
           "brown"
          ],
          "size": 10,
          "symbol": "cross"
         },
         "mode": "lines+markers",
         "name": "Pareto Frontier - 0.7",
         "showlegend": false,
         "text": [
          "decay_based_v2"
         ],
         "type": "scatter",
         "x": [
          0.8345
         ],
         "y": [
          0.3865
         ]
        }
       ],
       "layout": {
        "height": 400,
        "margin": {
         "b": 0,
         "l": 0,
         "r": 0,
         "t": 35
        },
        "showlegend": false,
        "template": {
         "data": {
          "bar": [
           {
            "error_x": {
             "color": "#2a3f5f"
            },
            "error_y": {
             "color": "#2a3f5f"
            },
            "marker": {
             "line": {
              "color": "#E5ECF6",
              "width": 0.5
             },
             "pattern": {
              "fillmode": "overlay",
              "size": 10,
              "solidity": 0.2
             }
            },
            "type": "bar"
           }
          ],
          "barpolar": [
           {
            "marker": {
             "line": {
              "color": "#E5ECF6",
              "width": 0.5
             },
             "pattern": {
              "fillmode": "overlay",
              "size": 10,
              "solidity": 0.2
             }
            },
            "type": "barpolar"
           }
          ],
          "carpet": [
           {
            "aaxis": {
             "endlinecolor": "#2a3f5f",
             "gridcolor": "white",
             "linecolor": "white",
             "minorgridcolor": "white",
             "startlinecolor": "#2a3f5f"
            },
            "baxis": {
             "endlinecolor": "#2a3f5f",
             "gridcolor": "white",
             "linecolor": "white",
             "minorgridcolor": "white",
             "startlinecolor": "#2a3f5f"
            },
            "type": "carpet"
           }
          ],
          "choropleth": [
           {
            "colorbar": {
             "outlinewidth": 0,
             "ticks": ""
            },
            "type": "choropleth"
           }
          ],
          "contour": [
           {
            "colorbar": {
             "outlinewidth": 0,
             "ticks": ""
            },
            "colorscale": [
             [
              0,
              "#0d0887"
             ],
             [
              0.1111111111111111,
              "#46039f"
             ],
             [
              0.2222222222222222,
              "#7201a8"
             ],
             [
              0.3333333333333333,
              "#9c179e"
             ],
             [
              0.4444444444444444,
              "#bd3786"
             ],
             [
              0.5555555555555556,
              "#d8576b"
             ],
             [
              0.6666666666666666,
              "#ed7953"
             ],
             [
              0.7777777777777778,
              "#fb9f3a"
             ],
             [
              0.8888888888888888,
              "#fdca26"
             ],
             [
              1,
              "#f0f921"
             ]
            ],
            "type": "contour"
           }
          ],
          "contourcarpet": [
           {
            "colorbar": {
             "outlinewidth": 0,
             "ticks": ""
            },
            "type": "contourcarpet"
           }
          ],
          "heatmap": [
           {
            "colorbar": {
             "outlinewidth": 0,
             "ticks": ""
            },
            "colorscale": [
             [
              0,
              "#0d0887"
             ],
             [
              0.1111111111111111,
              "#46039f"
             ],
             [
              0.2222222222222222,
              "#7201a8"
             ],
             [
              0.3333333333333333,
              "#9c179e"
             ],
             [
              0.4444444444444444,
              "#bd3786"
             ],
             [
              0.5555555555555556,
              "#d8576b"
             ],
             [
              0.6666666666666666,
              "#ed7953"
             ],
             [
              0.7777777777777778,
              "#fb9f3a"
             ],
             [
              0.8888888888888888,
              "#fdca26"
             ],
             [
              1,
              "#f0f921"
             ]
            ],
            "type": "heatmap"
           }
          ],
          "heatmapgl": [
           {
            "colorbar": {
             "outlinewidth": 0,
             "ticks": ""
            },
            "colorscale": [
             [
              0,
              "#0d0887"
             ],
             [
              0.1111111111111111,
              "#46039f"
             ],
             [
              0.2222222222222222,
              "#7201a8"
             ],
             [
              0.3333333333333333,
              "#9c179e"
             ],
             [
              0.4444444444444444,
              "#bd3786"
             ],
             [
              0.5555555555555556,
              "#d8576b"
             ],
             [
              0.6666666666666666,
              "#ed7953"
             ],
             [
              0.7777777777777778,
              "#fb9f3a"
             ],
             [
              0.8888888888888888,
              "#fdca26"
             ],
             [
              1,
              "#f0f921"
             ]
            ],
            "type": "heatmapgl"
           }
          ],
          "histogram": [
           {
            "marker": {
             "pattern": {
              "fillmode": "overlay",
              "size": 10,
              "solidity": 0.2
             }
            },
            "type": "histogram"
           }
          ],
          "histogram2d": [
           {
            "colorbar": {
             "outlinewidth": 0,
             "ticks": ""
            },
            "colorscale": [
             [
              0,
              "#0d0887"
             ],
             [
              0.1111111111111111,
              "#46039f"
             ],
             [
              0.2222222222222222,
              "#7201a8"
             ],
             [
              0.3333333333333333,
              "#9c179e"
             ],
             [
              0.4444444444444444,
              "#bd3786"
             ],
             [
              0.5555555555555556,
              "#d8576b"
             ],
             [
              0.6666666666666666,
              "#ed7953"
             ],
             [
              0.7777777777777778,
              "#fb9f3a"
             ],
             [
              0.8888888888888888,
              "#fdca26"
             ],
             [
              1,
              "#f0f921"
             ]
            ],
            "type": "histogram2d"
           }
          ],
          "histogram2dcontour": [
           {
            "colorbar": {
             "outlinewidth": 0,
             "ticks": ""
            },
            "colorscale": [
             [
              0,
              "#0d0887"
             ],
             [
              0.1111111111111111,
              "#46039f"
             ],
             [
              0.2222222222222222,
              "#7201a8"
             ],
             [
              0.3333333333333333,
              "#9c179e"
             ],
             [
              0.4444444444444444,
              "#bd3786"
             ],
             [
              0.5555555555555556,
              "#d8576b"
             ],
             [
              0.6666666666666666,
              "#ed7953"
             ],
             [
              0.7777777777777778,
              "#fb9f3a"
             ],
             [
              0.8888888888888888,
              "#fdca26"
             ],
             [
              1,
              "#f0f921"
             ]
            ],
            "type": "histogram2dcontour"
           }
          ],
          "mesh3d": [
           {
            "colorbar": {
             "outlinewidth": 0,
             "ticks": ""
            },
            "type": "mesh3d"
           }
          ],
          "parcoords": [
           {
            "line": {
             "colorbar": {
              "outlinewidth": 0,
              "ticks": ""
             }
            },
            "type": "parcoords"
           }
          ],
          "pie": [
           {
            "automargin": true,
            "type": "pie"
           }
          ],
          "scatter": [
           {
            "fillpattern": {
             "fillmode": "overlay",
             "size": 10,
             "solidity": 0.2
            },
            "type": "scatter"
           }
          ],
          "scatter3d": [
           {
            "line": {
             "colorbar": {
              "outlinewidth": 0,
              "ticks": ""
             }
            },
            "marker": {
             "colorbar": {
              "outlinewidth": 0,
              "ticks": ""
             }
            },
            "type": "scatter3d"
           }
          ],
          "scattercarpet": [
           {
            "marker": {
             "colorbar": {
              "outlinewidth": 0,
              "ticks": ""
             }
            },
            "type": "scattercarpet"
           }
          ],
          "scattergeo": [
           {
            "marker": {
             "colorbar": {
              "outlinewidth": 0,
              "ticks": ""
             }
            },
            "type": "scattergeo"
           }
          ],
          "scattergl": [
           {
            "marker": {
             "colorbar": {
              "outlinewidth": 0,
              "ticks": ""
             }
            },
            "type": "scattergl"
           }
          ],
          "scattermapbox": [
           {
            "marker": {
             "colorbar": {
              "outlinewidth": 0,
              "ticks": ""
             }
            },
            "type": "scattermapbox"
           }
          ],
          "scatterpolar": [
           {
            "marker": {
             "colorbar": {
              "outlinewidth": 0,
              "ticks": ""
             }
            },
            "type": "scatterpolar"
           }
          ],
          "scatterpolargl": [
           {
            "marker": {
             "colorbar": {
              "outlinewidth": 0,
              "ticks": ""
             }
            },
            "type": "scatterpolargl"
           }
          ],
          "scatterternary": [
           {
            "marker": {
             "colorbar": {
              "outlinewidth": 0,
              "ticks": ""
             }
            },
            "type": "scatterternary"
           }
          ],
          "surface": [
           {
            "colorbar": {
             "outlinewidth": 0,
             "ticks": ""
            },
            "colorscale": [
             [
              0,
              "#0d0887"
             ],
             [
              0.1111111111111111,
              "#46039f"
             ],
             [
              0.2222222222222222,
              "#7201a8"
             ],
             [
              0.3333333333333333,
              "#9c179e"
             ],
             [
              0.4444444444444444,
              "#bd3786"
             ],
             [
              0.5555555555555556,
              "#d8576b"
             ],
             [
              0.6666666666666666,
              "#ed7953"
             ],
             [
              0.7777777777777778,
              "#fb9f3a"
             ],
             [
              0.8888888888888888,
              "#fdca26"
             ],
             [
              1,
              "#f0f921"
             ]
            ],
            "type": "surface"
           }
          ],
          "table": [
           {
            "cells": {
             "fill": {
              "color": "#EBF0F8"
             },
             "line": {
              "color": "white"
             }
            },
            "header": {
             "fill": {
              "color": "#C8D4E3"
             },
             "line": {
              "color": "white"
             }
            },
            "type": "table"
           }
          ]
         },
         "layout": {
          "annotationdefaults": {
           "arrowcolor": "#2a3f5f",
           "arrowhead": 0,
           "arrowwidth": 1
          },
          "autotypenumbers": "strict",
          "coloraxis": {
           "colorbar": {
            "outlinewidth": 0,
            "ticks": ""
           }
          },
          "colorscale": {
           "diverging": [
            [
             0,
             "#8e0152"
            ],
            [
             0.1,
             "#c51b7d"
            ],
            [
             0.2,
             "#de77ae"
            ],
            [
             0.3,
             "#f1b6da"
            ],
            [
             0.4,
             "#fde0ef"
            ],
            [
             0.5,
             "#f7f7f7"
            ],
            [
             0.6,
             "#e6f5d0"
            ],
            [
             0.7,
             "#b8e186"
            ],
            [
             0.8,
             "#7fbc41"
            ],
            [
             0.9,
             "#4d9221"
            ],
            [
             1,
             "#276419"
            ]
           ],
           "sequential": [
            [
             0,
             "#0d0887"
            ],
            [
             0.1111111111111111,
             "#46039f"
            ],
            [
             0.2222222222222222,
             "#7201a8"
            ],
            [
             0.3333333333333333,
             "#9c179e"
            ],
            [
             0.4444444444444444,
             "#bd3786"
            ],
            [
             0.5555555555555556,
             "#d8576b"
            ],
            [
             0.6666666666666666,
             "#ed7953"
            ],
            [
             0.7777777777777778,
             "#fb9f3a"
            ],
            [
             0.8888888888888888,
             "#fdca26"
            ],
            [
             1,
             "#f0f921"
            ]
           ],
           "sequentialminus": [
            [
             0,
             "#0d0887"
            ],
            [
             0.1111111111111111,
             "#46039f"
            ],
            [
             0.2222222222222222,
             "#7201a8"
            ],
            [
             0.3333333333333333,
             "#9c179e"
            ],
            [
             0.4444444444444444,
             "#bd3786"
            ],
            [
             0.5555555555555556,
             "#d8576b"
            ],
            [
             0.6666666666666666,
             "#ed7953"
            ],
            [
             0.7777777777777778,
             "#fb9f3a"
            ],
            [
             0.8888888888888888,
             "#fdca26"
            ],
            [
             1,
             "#f0f921"
            ]
           ]
          },
          "colorway": [
           "#636efa",
           "#EF553B",
           "#00cc96",
           "#ab63fa",
           "#FFA15A",
           "#19d3f3",
           "#FF6692",
           "#B6E880",
           "#FF97FF",
           "#FECB52"
          ],
          "font": {
           "color": "#2a3f5f"
          },
          "geo": {
           "bgcolor": "white",
           "lakecolor": "white",
           "landcolor": "#E5ECF6",
           "showlakes": true,
           "showland": true,
           "subunitcolor": "white"
          },
          "hoverlabel": {
           "align": "left"
          },
          "hovermode": "closest",
          "mapbox": {
           "style": "light"
          },
          "paper_bgcolor": "white",
          "plot_bgcolor": "#E5ECF6",
          "polar": {
           "angularaxis": {
            "gridcolor": "white",
            "linecolor": "white",
            "ticks": ""
           },
           "bgcolor": "#E5ECF6",
           "radialaxis": {
            "gridcolor": "white",
            "linecolor": "white",
            "ticks": ""
           }
          },
          "scene": {
           "xaxis": {
            "backgroundcolor": "#E5ECF6",
            "gridcolor": "white",
            "gridwidth": 2,
            "linecolor": "white",
            "showbackground": true,
            "ticks": "",
            "zerolinecolor": "white"
           },
           "yaxis": {
            "backgroundcolor": "#E5ECF6",
            "gridcolor": "white",
            "gridwidth": 2,
            "linecolor": "white",
            "showbackground": true,
            "ticks": "",
            "zerolinecolor": "white"
           },
           "zaxis": {
            "backgroundcolor": "#E5ECF6",
            "gridcolor": "white",
            "gridwidth": 2,
            "linecolor": "white",
            "showbackground": true,
            "ticks": "",
            "zerolinecolor": "white"
           }
          },
          "shapedefaults": {
           "line": {
            "color": "#2a3f5f"
           }
          },
          "ternary": {
           "aaxis": {
            "gridcolor": "white",
            "linecolor": "white",
            "ticks": ""
           },
           "baxis": {
            "gridcolor": "white",
            "linecolor": "white",
            "ticks": ""
           },
           "bgcolor": "#E5ECF6",
           "caxis": {
            "gridcolor": "white",
            "linecolor": "white",
            "ticks": ""
           }
          },
          "title": {
           "x": 0.05
          },
          "xaxis": {
           "automargin": true,
           "gridcolor": "white",
           "linecolor": "white",
           "ticks": "",
           "title": {
            "standoff": 15
           },
           "zerolinecolor": "white",
           "zerolinewidth": 2
          },
          "yaxis": {
           "automargin": true,
           "gridcolor": "white",
           "linecolor": "white",
           "ticks": "",
           "title": {
            "standoff": 15
           },
           "zerolinecolor": "white",
           "zerolinewidth": 2
          }
         }
        },
        "title": {
         "text": "Frontier Analysis: "
        },
        "width": 400,
        "xaxis": {
         "range": [
          0.7,
          0.9
         ],
         "title": {
          "text": "Clean Accuracy"
         }
        },
        "yaxis": {
         "range": [
          0.25,
          0.5
         ],
         "title": {
          "text": "Robust Accuracy"
         }
        }
       }
      }
     },
     "metadata": {},
     "output_type": "display_data"
    }
   ],
   "source": [
    "import numpy as np\n",
    "import pandas as pd\n",
    "import plotly.graph_objects as go\n",
    "\n",
    "# Assuming 'data' is defined\n",
    "df = pd.DataFrame(data).T\n",
    "df['adv_acc'] = pd.to_numeric(df['adv_acc'], errors='coerce')\n",
    "df['nat_acc'] = pd.to_numeric(df['nat_acc'], errors='coerce')\n",
    "df['aug'] = df['aug'].fillna('aug')\n",
    "\n",
    "# pruning_ratio = '0.3'\n",
    "dataset = 'CIFAR10'\n",
    "batch_size = '1042'\n",
    "aug = 'aug'\n",
    "sched = 'nosched'\n",
    "init_lr = '0.01'\n",
    "pre_trained = True\n",
    "# name = pruning_ratio + '_' + batch_size + '_' + aug + '_' + sched + '_' + init_lr\n",
    "\n",
    "# Apply filtering\n",
    "df = df[(df['dataset'] == dataset) &\n",
    "        (df['batch_size'] == batch_size) &\n",
    "        (df['aug'] == aug) &\n",
    "        (df['sched'] == sched) &\n",
    "        (df['init_lr'] == init_lr)]\n",
    "\n",
    "# Sort the dataframe by natural and adversarial accuracy\n",
    "sorted_df = df.sort_values(by=['nat_acc', 'adv_acc'], ascending=[False, False])\n",
    "\n",
    "# Identify the Pareto frontier\n",
    "pareto_front = []\n",
    "current_best = -np.inf\n",
    "\n",
    "for index, row in sorted_df.iterrows():\n",
    "    if row['adv_acc'] > current_best:\n",
    "        pareto_front.append((row['nat_acc'], row['adv_acc'], row['pruning_strategy'], row['pruning_ratio']))\n",
    "        current_best = row['adv_acc']\n",
    "\n",
    "pareto_front = np.array(pareto_front)\n",
    "\n",
    "# Color map for different pruning strategies\n",
    "color_map = {\n",
    "    'random': 'blue',\n",
    "    'TS_pruning': 'green', \n",
    "    'score_v1': 'orange',\n",
    "    'score_v2': 'purple',\n",
    "    'decay_based_v2': 'brown',\n",
    "    'decay_based_v3': 'magenta',\n",
    "    'uncertainty': 'red'\n",
    "}\n",
    "\n",
    "# Dictionary to map pruning_ratio to different marker symbols\n",
    "marker_map = {\n",
    "    '0.0': 'circle',\n",
    "    '0.3': 'square',\n",
    "    '0.5': 'diamond',\n",
    "    '0.7': 'cross'\n",
    "}\n",
    "\n",
    "# Step 3: Plot using plotly\n",
    "fig = go.Figure()\n",
    "\n",
    "# Add all methods as separate scatter points, one for each pruning_strategy\n",
    "for strategy, color in color_map.items():\n",
    "    df_subset = df[df['pruning_strategy'] == strategy]\n",
    "    \n",
    "    # For each pruning_ratio, assign a marker\n",
    "    for pruning_ratio_value, marker in marker_map.items():\n",
    "        df_pruning_ratio_subset = df_subset[df_subset['pruning_ratio'] == pruning_ratio_value]\n",
    "        fig.add_trace(go.Scatter(\n",
    "            x=df_pruning_ratio_subset['nat_acc'],\n",
    "            y=df_pruning_ratio_subset['adv_acc'],\n",
    "            mode='markers',\n",
    "            marker=dict(symbol=marker, color=color, size=10),\n",
    "            name=f'{strategy} - {pruning_ratio_value}',\n",
    "            text=df_pruning_ratio_subset['pruning_strategy'],  # Hover text for each point\n",
    "            showlegend=True\n",
    "        ))\n",
    "\n",
    "# Add Pareto frontier as a black line but retain original marker colors\n",
    "for pruning_ratio_value, marker in marker_map.items():\n",
    "    pareto_front_subset = pareto_front[pareto_front[:, 3] == pruning_ratio_value]\n",
    "    \n",
    "    if len(pareto_front_subset) > 0:\n",
    "        fig.add_trace(go.Scatter(\n",
    "            x=pareto_front_subset[:, 0].astype(float),\n",
    "            y=pareto_front_subset[:, 1].astype(float),\n",
    "            mode='lines+markers',\n",
    "            line=dict(color='black', width=2),\n",
    "            marker=dict(\n",
    "                symbol=marker,\n",
    "                color=[color_map[strategy] for strategy in pareto_front_subset[:, 2]],\n",
    "                size=10\n",
    "            ),\n",
    "            name=f'Pareto Frontier - {pruning_ratio_value}',\n",
    "            text=pareto_front_subset[:, 2],  # Hover text for Pareto points\n",
    "            showlegend=False\n",
    "        ))\n",
    "\n",
    "# Update layout with legend inside the figure and square aspect ratio\n",
    "fig.update_layout(\n",
    "    title='Frontier Analysis: ', # + name,\n",
    "    xaxis_title='Clean Accuracy',\n",
    "    yaxis_title='Robust Accuracy',\n",
    "    xaxis=dict(range=[0.7, 0.9]),\n",
    "    yaxis=dict(range=[0.25, 0.5]),\n",
    "    margin=dict(l=0, r=0, t=35, b=0),  # Margins set to 0\n",
    "    width=400,  # Set figure width to 3 inches (300px at 96dpi)\n",
    "    height=400,  # Set figure height to 3 inches (300px at 96dpi)\n",
    "    showlegend=False,\n",
    "    # legend=dict(\n",
    "    #     x=0.02,  # Position the legend inside the figure\n",
    "    #     y=0.98,\n",
    "    #     traceorder=\"normal\",\n",
    "    #     bgcolor=\"rgba(255, 255, 255, 1)\",  # Semi-transparent background\n",
    "    #     bordercolor=\"Black\",\n",
    "    #     borderwidth=1\n",
    "    # )\n",
    ")\n",
    "\n",
    "# Display the plot\n",
    "fig.show()\n",
    "\n",
    "# Save the figure\n",
    "fig.write_image(\"./figures/pruningratio_influence.png\")\n"
   ]
  },
  {
   "cell_type": "code",
   "execution_count": 4,
   "metadata": {},
   "outputs": [
    {
     "data": {
      "application/vnd.plotly.v1+json": {
       "config": {
        "plotlyServerURL": "https://plot.ly"
       },
       "data": [
        {
         "line": {
          "color": "red",
          "dash": "dashdot"
         },
         "marker": {
          "size": 10,
          "symbol": "circle"
         },
         "mode": "lines+markers",
         "name": "random, nosched, 0.0001",
         "type": "scatter",
         "x": [
          5,
          10,
          25
         ],
         "y": [
          0.6262999773025513,
          0.6324999928474426,
          0.6473000049591064
         ]
        },
        {
         "line": {
          "color": "red",
          "dash": "solid"
         },
         "marker": {
          "size": 10,
          "symbol": "circle"
         },
         "mode": "lines+markers",
         "name": "random, nosched, 0.001",
         "type": "scatter",
         "x": [
          5,
          10,
          25
         ],
         "y": [
          0.6306999921798706,
          0.6309000253677368,
          0.6459000110626221
         ]
        },
        {
         "line": {
          "color": "red",
          "dash": "dot"
         },
         "marker": {
          "size": 10,
          "symbol": "circle"
         },
         "mode": "lines+markers",
         "name": "random, nosched, 0.01",
         "type": "scatter",
         "x": [
          5,
          10,
          25
         ],
         "y": [
          0.6101999878883362,
          0.6031000018119812,
          0.5813000202178955
         ]
        },
        {
         "line": {
          "color": "red",
          "dash": "dashdot"
         },
         "marker": {
          "size": 10,
          "symbol": "square"
         },
         "mode": "lines+markers",
         "name": "random, sched, 0.0001",
         "type": "scatter",
         "x": [
          5,
          10,
          25
         ],
         "y": [
          0.6189000010490417,
          0.6295999884605408,
          0.6417999863624573
         ]
        },
        {
         "line": {
          "color": "red",
          "dash": "solid"
         },
         "marker": {
          "size": 10,
          "symbol": "square"
         },
         "mode": "lines+markers",
         "name": "random, sched, 0.001",
         "type": "scatter",
         "x": [
          5,
          10,
          25
         ],
         "y": [
          0.6294999718666077,
          0.633899986743927,
          0.6427000164985657
         ]
        },
        {
         "line": {
          "color": "red",
          "dash": "dot"
         },
         "marker": {
          "size": 10,
          "symbol": "square"
         },
         "mode": "lines+markers",
         "name": "random, sched, 0.01",
         "type": "scatter",
         "x": [
          5,
          10,
          25
         ],
         "y": [
          0.6068999767303467,
          0.6001999974250793,
          0.6097999811172485
         ]
        }
       ],
       "layout": {
        "legend": {
         "font": {
          "size": 15
         },
         "orientation": "v",
         "title": {
          "font": {
           "size": 15
          },
          "text": "Strategy Details"
         },
         "x": 1.3,
         "xanchor": "right",
         "y": 1,
         "yanchor": "top"
        },
        "margin": {
         "b": 0,
         "l": 0,
         "r": 0,
         "t": 50
        },
        "template": {
         "data": {
          "bar": [
           {
            "error_x": {
             "color": "#2a3f5f"
            },
            "error_y": {
             "color": "#2a3f5f"
            },
            "marker": {
             "line": {
              "color": "#E5ECF6",
              "width": 0.5
             },
             "pattern": {
              "fillmode": "overlay",
              "size": 10,
              "solidity": 0.2
             }
            },
            "type": "bar"
           }
          ],
          "barpolar": [
           {
            "marker": {
             "line": {
              "color": "#E5ECF6",
              "width": 0.5
             },
             "pattern": {
              "fillmode": "overlay",
              "size": 10,
              "solidity": 0.2
             }
            },
            "type": "barpolar"
           }
          ],
          "carpet": [
           {
            "aaxis": {
             "endlinecolor": "#2a3f5f",
             "gridcolor": "white",
             "linecolor": "white",
             "minorgridcolor": "white",
             "startlinecolor": "#2a3f5f"
            },
            "baxis": {
             "endlinecolor": "#2a3f5f",
             "gridcolor": "white",
             "linecolor": "white",
             "minorgridcolor": "white",
             "startlinecolor": "#2a3f5f"
            },
            "type": "carpet"
           }
          ],
          "choropleth": [
           {
            "colorbar": {
             "outlinewidth": 0,
             "ticks": ""
            },
            "type": "choropleth"
           }
          ],
          "contour": [
           {
            "colorbar": {
             "outlinewidth": 0,
             "ticks": ""
            },
            "colorscale": [
             [
              0,
              "#0d0887"
             ],
             [
              0.1111111111111111,
              "#46039f"
             ],
             [
              0.2222222222222222,
              "#7201a8"
             ],
             [
              0.3333333333333333,
              "#9c179e"
             ],
             [
              0.4444444444444444,
              "#bd3786"
             ],
             [
              0.5555555555555556,
              "#d8576b"
             ],
             [
              0.6666666666666666,
              "#ed7953"
             ],
             [
              0.7777777777777778,
              "#fb9f3a"
             ],
             [
              0.8888888888888888,
              "#fdca26"
             ],
             [
              1,
              "#f0f921"
             ]
            ],
            "type": "contour"
           }
          ],
          "contourcarpet": [
           {
            "colorbar": {
             "outlinewidth": 0,
             "ticks": ""
            },
            "type": "contourcarpet"
           }
          ],
          "heatmap": [
           {
            "colorbar": {
             "outlinewidth": 0,
             "ticks": ""
            },
            "colorscale": [
             [
              0,
              "#0d0887"
             ],
             [
              0.1111111111111111,
              "#46039f"
             ],
             [
              0.2222222222222222,
              "#7201a8"
             ],
             [
              0.3333333333333333,
              "#9c179e"
             ],
             [
              0.4444444444444444,
              "#bd3786"
             ],
             [
              0.5555555555555556,
              "#d8576b"
             ],
             [
              0.6666666666666666,
              "#ed7953"
             ],
             [
              0.7777777777777778,
              "#fb9f3a"
             ],
             [
              0.8888888888888888,
              "#fdca26"
             ],
             [
              1,
              "#f0f921"
             ]
            ],
            "type": "heatmap"
           }
          ],
          "heatmapgl": [
           {
            "colorbar": {
             "outlinewidth": 0,
             "ticks": ""
            },
            "colorscale": [
             [
              0,
              "#0d0887"
             ],
             [
              0.1111111111111111,
              "#46039f"
             ],
             [
              0.2222222222222222,
              "#7201a8"
             ],
             [
              0.3333333333333333,
              "#9c179e"
             ],
             [
              0.4444444444444444,
              "#bd3786"
             ],
             [
              0.5555555555555556,
              "#d8576b"
             ],
             [
              0.6666666666666666,
              "#ed7953"
             ],
             [
              0.7777777777777778,
              "#fb9f3a"
             ],
             [
              0.8888888888888888,
              "#fdca26"
             ],
             [
              1,
              "#f0f921"
             ]
            ],
            "type": "heatmapgl"
           }
          ],
          "histogram": [
           {
            "marker": {
             "pattern": {
              "fillmode": "overlay",
              "size": 10,
              "solidity": 0.2
             }
            },
            "type": "histogram"
           }
          ],
          "histogram2d": [
           {
            "colorbar": {
             "outlinewidth": 0,
             "ticks": ""
            },
            "colorscale": [
             [
              0,
              "#0d0887"
             ],
             [
              0.1111111111111111,
              "#46039f"
             ],
             [
              0.2222222222222222,
              "#7201a8"
             ],
             [
              0.3333333333333333,
              "#9c179e"
             ],
             [
              0.4444444444444444,
              "#bd3786"
             ],
             [
              0.5555555555555556,
              "#d8576b"
             ],
             [
              0.6666666666666666,
              "#ed7953"
             ],
             [
              0.7777777777777778,
              "#fb9f3a"
             ],
             [
              0.8888888888888888,
              "#fdca26"
             ],
             [
              1,
              "#f0f921"
             ]
            ],
            "type": "histogram2d"
           }
          ],
          "histogram2dcontour": [
           {
            "colorbar": {
             "outlinewidth": 0,
             "ticks": ""
            },
            "colorscale": [
             [
              0,
              "#0d0887"
             ],
             [
              0.1111111111111111,
              "#46039f"
             ],
             [
              0.2222222222222222,
              "#7201a8"
             ],
             [
              0.3333333333333333,
              "#9c179e"
             ],
             [
              0.4444444444444444,
              "#bd3786"
             ],
             [
              0.5555555555555556,
              "#d8576b"
             ],
             [
              0.6666666666666666,
              "#ed7953"
             ],
             [
              0.7777777777777778,
              "#fb9f3a"
             ],
             [
              0.8888888888888888,
              "#fdca26"
             ],
             [
              1,
              "#f0f921"
             ]
            ],
            "type": "histogram2dcontour"
           }
          ],
          "mesh3d": [
           {
            "colorbar": {
             "outlinewidth": 0,
             "ticks": ""
            },
            "type": "mesh3d"
           }
          ],
          "parcoords": [
           {
            "line": {
             "colorbar": {
              "outlinewidth": 0,
              "ticks": ""
             }
            },
            "type": "parcoords"
           }
          ],
          "pie": [
           {
            "automargin": true,
            "type": "pie"
           }
          ],
          "scatter": [
           {
            "fillpattern": {
             "fillmode": "overlay",
             "size": 10,
             "solidity": 0.2
            },
            "type": "scatter"
           }
          ],
          "scatter3d": [
           {
            "line": {
             "colorbar": {
              "outlinewidth": 0,
              "ticks": ""
             }
            },
            "marker": {
             "colorbar": {
              "outlinewidth": 0,
              "ticks": ""
             }
            },
            "type": "scatter3d"
           }
          ],
          "scattercarpet": [
           {
            "marker": {
             "colorbar": {
              "outlinewidth": 0,
              "ticks": ""
             }
            },
            "type": "scattercarpet"
           }
          ],
          "scattergeo": [
           {
            "marker": {
             "colorbar": {
              "outlinewidth": 0,
              "ticks": ""
             }
            },
            "type": "scattergeo"
           }
          ],
          "scattergl": [
           {
            "marker": {
             "colorbar": {
              "outlinewidth": 0,
              "ticks": ""
             }
            },
            "type": "scattergl"
           }
          ],
          "scattermapbox": [
           {
            "marker": {
             "colorbar": {
              "outlinewidth": 0,
              "ticks": ""
             }
            },
            "type": "scattermapbox"
           }
          ],
          "scatterpolar": [
           {
            "marker": {
             "colorbar": {
              "outlinewidth": 0,
              "ticks": ""
             }
            },
            "type": "scatterpolar"
           }
          ],
          "scatterpolargl": [
           {
            "marker": {
             "colorbar": {
              "outlinewidth": 0,
              "ticks": ""
             }
            },
            "type": "scatterpolargl"
           }
          ],
          "scatterternary": [
           {
            "marker": {
             "colorbar": {
              "outlinewidth": 0,
              "ticks": ""
             }
            },
            "type": "scatterternary"
           }
          ],
          "surface": [
           {
            "colorbar": {
             "outlinewidth": 0,
             "ticks": ""
            },
            "colorscale": [
             [
              0,
              "#0d0887"
             ],
             [
              0.1111111111111111,
              "#46039f"
             ],
             [
              0.2222222222222222,
              "#7201a8"
             ],
             [
              0.3333333333333333,
              "#9c179e"
             ],
             [
              0.4444444444444444,
              "#bd3786"
             ],
             [
              0.5555555555555556,
              "#d8576b"
             ],
             [
              0.6666666666666666,
              "#ed7953"
             ],
             [
              0.7777777777777778,
              "#fb9f3a"
             ],
             [
              0.8888888888888888,
              "#fdca26"
             ],
             [
              1,
              "#f0f921"
             ]
            ],
            "type": "surface"
           }
          ],
          "table": [
           {
            "cells": {
             "fill": {
              "color": "#EBF0F8"
             },
             "line": {
              "color": "white"
             }
            },
            "header": {
             "fill": {
              "color": "#C8D4E3"
             },
             "line": {
              "color": "white"
             }
            },
            "type": "table"
           }
          ]
         },
         "layout": {
          "annotationdefaults": {
           "arrowcolor": "#2a3f5f",
           "arrowhead": 0,
           "arrowwidth": 1
          },
          "autotypenumbers": "strict",
          "coloraxis": {
           "colorbar": {
            "outlinewidth": 0,
            "ticks": ""
           }
          },
          "colorscale": {
           "diverging": [
            [
             0,
             "#8e0152"
            ],
            [
             0.1,
             "#c51b7d"
            ],
            [
             0.2,
             "#de77ae"
            ],
            [
             0.3,
             "#f1b6da"
            ],
            [
             0.4,
             "#fde0ef"
            ],
            [
             0.5,
             "#f7f7f7"
            ],
            [
             0.6,
             "#e6f5d0"
            ],
            [
             0.7,
             "#b8e186"
            ],
            [
             0.8,
             "#7fbc41"
            ],
            [
             0.9,
             "#4d9221"
            ],
            [
             1,
             "#276419"
            ]
           ],
           "sequential": [
            [
             0,
             "#0d0887"
            ],
            [
             0.1111111111111111,
             "#46039f"
            ],
            [
             0.2222222222222222,
             "#7201a8"
            ],
            [
             0.3333333333333333,
             "#9c179e"
            ],
            [
             0.4444444444444444,
             "#bd3786"
            ],
            [
             0.5555555555555556,
             "#d8576b"
            ],
            [
             0.6666666666666666,
             "#ed7953"
            ],
            [
             0.7777777777777778,
             "#fb9f3a"
            ],
            [
             0.8888888888888888,
             "#fdca26"
            ],
            [
             1,
             "#f0f921"
            ]
           ],
           "sequentialminus": [
            [
             0,
             "#0d0887"
            ],
            [
             0.1111111111111111,
             "#46039f"
            ],
            [
             0.2222222222222222,
             "#7201a8"
            ],
            [
             0.3333333333333333,
             "#9c179e"
            ],
            [
             0.4444444444444444,
             "#bd3786"
            ],
            [
             0.5555555555555556,
             "#d8576b"
            ],
            [
             0.6666666666666666,
             "#ed7953"
            ],
            [
             0.7777777777777778,
             "#fb9f3a"
            ],
            [
             0.8888888888888888,
             "#fdca26"
            ],
            [
             1,
             "#f0f921"
            ]
           ]
          },
          "colorway": [
           "#636efa",
           "#EF553B",
           "#00cc96",
           "#ab63fa",
           "#FFA15A",
           "#19d3f3",
           "#FF6692",
           "#B6E880",
           "#FF97FF",
           "#FECB52"
          ],
          "font": {
           "color": "#2a3f5f"
          },
          "geo": {
           "bgcolor": "white",
           "lakecolor": "white",
           "landcolor": "#E5ECF6",
           "showlakes": true,
           "showland": true,
           "subunitcolor": "white"
          },
          "hoverlabel": {
           "align": "left"
          },
          "hovermode": "closest",
          "mapbox": {
           "style": "light"
          },
          "paper_bgcolor": "white",
          "plot_bgcolor": "#E5ECF6",
          "polar": {
           "angularaxis": {
            "gridcolor": "white",
            "linecolor": "white",
            "ticks": ""
           },
           "bgcolor": "#E5ECF6",
           "radialaxis": {
            "gridcolor": "white",
            "linecolor": "white",
            "ticks": ""
           }
          },
          "scene": {
           "xaxis": {
            "backgroundcolor": "#E5ECF6",
            "gridcolor": "white",
            "gridwidth": 2,
            "linecolor": "white",
            "showbackground": true,
            "ticks": "",
            "zerolinecolor": "white"
           },
           "yaxis": {
            "backgroundcolor": "#E5ECF6",
            "gridcolor": "white",
            "gridwidth": 2,
            "linecolor": "white",
            "showbackground": true,
            "ticks": "",
            "zerolinecolor": "white"
           },
           "zaxis": {
            "backgroundcolor": "#E5ECF6",
            "gridcolor": "white",
            "gridwidth": 2,
            "linecolor": "white",
            "showbackground": true,
            "ticks": "",
            "zerolinecolor": "white"
           }
          },
          "shapedefaults": {
           "line": {
            "color": "#2a3f5f"
           }
          },
          "ternary": {
           "aaxis": {
            "gridcolor": "white",
            "linecolor": "white",
            "ticks": ""
           },
           "baxis": {
            "gridcolor": "white",
            "linecolor": "white",
            "ticks": ""
           },
           "bgcolor": "#E5ECF6",
           "caxis": {
            "gridcolor": "white",
            "linecolor": "white",
            "ticks": ""
           }
          },
          "title": {
           "x": 0.05
          },
          "xaxis": {
           "automargin": true,
           "gridcolor": "white",
           "linecolor": "white",
           "ticks": "",
           "title": {
            "standoff": 15
           },
           "zerolinecolor": "white",
           "zerolinewidth": 2
          },
          "yaxis": {
           "automargin": true,
           "gridcolor": "white",
           "linecolor": "white",
           "ticks": "",
           "title": {
            "standoff": 15
           },
           "zerolinecolor": "white",
           "zerolinewidth": 2
          }
         }
        },
        "title": {
         "text": "final_PGD_accuracy_mean by Size and Strategy"
        },
        "xaxis": {
         "title": {
          "text": "Size"
         }
        },
        "yaxis": {
         "title": {
          "text": "final_PGD_accuracy_mean"
         }
        }
       }
      }
     },
     "metadata": {},
     "output_type": "display_data"
    }
   ],
   "source": [
    "import plotly.graph_objects as go\n",
    "\n",
    "metric = 'final_PGD_accuracy_mean' #'final_clean_accuracy_mean'\n",
    "# Convert the learning rate column to string to match keys in the lr_styles dictionary\n",
    "data['learning_rate'] = data['learning_rate'].astype(str)\n",
    "\n",
    "# Update the strategy_colors dictionary to include all unique strategies from the data\n",
    "strategy_colors = {'random': 'red', 'uncertainty': 'blue'}\n",
    "\n",
    "# Define line styles for learning rates\n",
    "lr_styles = {'0.01': 'dot', '0.001': 'solid',  '0.0001': 'dashdot', '1e-05': 'longdash'}\n",
    "\n",
    "# Reinitialize the figure with increased marker size and improved legend\n",
    "fig = go.Figure()\n",
    "\n",
    "# Add traces for each combination of sched and active_strategy\n",
    "for sched in data['scheduler'].unique():\n",
    "    for active_strategy in data['active_strategy'].unique():\n",
    "        subset = data[(data['scheduler'] == sched) & (data['active_strategy'] == active_strategy)]\n",
    "        for lr in subset['learning_rate'].unique():\n",
    "            subsubset = subset[subset['learning_rate'] == lr]\n",
    "            fig.add_trace(go.Scatter(\n",
    "                x=subsubset['size'],\n",
    "                y=subsubset[metric], \n",
    "                mode='lines+markers',\n",
    "                name=f'{active_strategy}, {sched}, {lr}',\n",
    "                line=dict(color=strategy_colors[active_strategy], dash=lr_styles[lr]),\n",
    "                marker=dict(symbol='circle' if sched == 'nosched' else 'square', size=10)\n",
    "            ))\n",
    "\n",
    "# Update layout for better legend visibility\n",
    "fig.update_layout(\n",
    "    margin=dict(l=0, r=0, t=50, b=0),\n",
    "    title='{} by Size and Strategy'.format(metric),\n",
    "    xaxis_title='Size',\n",
    "    yaxis_title=metric,\n",
    "    legend_title='Strategy Details',\n",
    "    legend=dict(\n",
    "        orientation=\"v\",\n",
    "        yanchor=\"top\",\n",
    "        y=1,\n",
    "        xanchor=\"right\",\n",
    "        x=1.3,\n",
    "        title_font=dict(size=15),\n",
    "        font=dict(size=15)\n",
    "    )\n",
    ")\n",
    "\n",
    "# fig.write_image(\"./figures/results_{}_{}_{}_{}_{}.pdf\".format(metric, data_name, model, n_rounds, nb_epochs) )"
   ]
  },
  {
   "cell_type": "code",
   "execution_count": null,
   "metadata": {},
   "outputs": [],
   "source": []
  },
  {
   "cell_type": "code",
   "execution_count": 20,
   "metadata": {},
   "outputs": [
    {
     "ename": "ValueError",
     "evalue": "Length mismatch: Expected axis has 7 elements, new values have 6 elements",
     "output_type": "error",
     "traceback": [
      "\u001b[0;31m---------------------------------------------------------------------------\u001b[0m",
      "\u001b[0;31mValueError\u001b[0m                                Traceback (most recent call last)",
      "Cell \u001b[0;32mIn[20], line 6\u001b[0m\n\u001b[1;32m      4\u001b[0m \u001b[38;5;66;03m# Load and prepare the data\u001b[39;00m\n\u001b[1;32m      5\u001b[0m new_data \u001b[38;5;241m=\u001b[39m pd\u001b[38;5;241m.\u001b[39mread_csv(\u001b[38;5;124m'\u001b[39m\u001b[38;5;124mresults/means.csv\u001b[39m\u001b[38;5;124m'\u001b[39m, skiprows\u001b[38;5;241m=\u001b[39m\u001b[38;5;241m2\u001b[39m)\n\u001b[0;32m----> 6\u001b[0m \u001b[43mnew_data\u001b[49m\u001b[38;5;241;43m.\u001b[39;49m\u001b[43mcolumns\u001b[49m \u001b[38;5;241m=\u001b[39m [\u001b[38;5;124m'\u001b[39m\u001b[38;5;124mactive_strategy\u001b[39m\u001b[38;5;124m'\u001b[39m, \u001b[38;5;124m'\u001b[39m\u001b[38;5;124msize\u001b[39m\u001b[38;5;124m'\u001b[39m, \u001b[38;5;124m'\u001b[39m\u001b[38;5;124mfinal_clean_accuracy\u001b[39m\u001b[38;5;124m'\u001b[39m,\n\u001b[1;32m      7\u001b[0m                     \u001b[38;5;124m'\u001b[39m\u001b[38;5;124mfinal_clean_accuracy_std\u001b[39m\u001b[38;5;124m'\u001b[39m, \u001b[38;5;124m'\u001b[39m\u001b[38;5;124mfinal_PGD_accuracy\u001b[39m\u001b[38;5;124m'\u001b[39m, \u001b[38;5;124m'\u001b[39m\u001b[38;5;124mfinal_PGD_accuracy_std\u001b[39m\u001b[38;5;124m'\u001b[39m]\n\u001b[1;32m      8\u001b[0m new_data[\u001b[38;5;124m'\u001b[39m\u001b[38;5;124msize\u001b[39m\u001b[38;5;124m'\u001b[39m] \u001b[38;5;241m=\u001b[39m new_data[\u001b[38;5;124m'\u001b[39m\u001b[38;5;124msize\u001b[39m\u001b[38;5;124m'\u001b[39m]\u001b[38;5;241m.\u001b[39mastype(\u001b[38;5;28mint\u001b[39m)\n\u001b[1;32m     10\u001b[0m \u001b[38;5;28;01mfor\u001b[39;00m performance \u001b[38;5;129;01min\u001b[39;00m [\u001b[38;5;124m'\u001b[39m\u001b[38;5;124mPGD_accuracy\u001b[39m\u001b[38;5;124m'\u001b[39m, \u001b[38;5;124m'\u001b[39m\u001b[38;5;124mclean_accuracy\u001b[39m\u001b[38;5;124m'\u001b[39m ]:\n\u001b[1;32m     11\u001b[0m \u001b[38;5;66;03m# performance = 'final_PGD_accuracy' \u001b[39;00m\n\u001b[1;32m     12\u001b[0m \u001b[38;5;66;03m# # performance = 'final_clean_accuracy'\u001b[39;00m\n",
      "File \u001b[0;32m~/Desktop/robust_training/.venv/lib/python3.8/site-packages/pandas/core/generic.py:6002\u001b[0m, in \u001b[0;36mNDFrame.__setattr__\u001b[0;34m(self, name, value)\u001b[0m\n\u001b[1;32m   6000\u001b[0m \u001b[38;5;28;01mtry\u001b[39;00m:\n\u001b[1;32m   6001\u001b[0m     \u001b[38;5;28mobject\u001b[39m\u001b[38;5;241m.\u001b[39m\u001b[38;5;21m__getattribute__\u001b[39m(\u001b[38;5;28mself\u001b[39m, name)\n\u001b[0;32m-> 6002\u001b[0m     \u001b[38;5;28;01mreturn\u001b[39;00m \u001b[38;5;28;43mobject\u001b[39;49m\u001b[38;5;241;43m.\u001b[39;49m\u001b[38;5;21;43m__setattr__\u001b[39;49m\u001b[43m(\u001b[49m\u001b[38;5;28;43mself\u001b[39;49m\u001b[43m,\u001b[49m\u001b[43m \u001b[49m\u001b[43mname\u001b[49m\u001b[43m,\u001b[49m\u001b[43m \u001b[49m\u001b[43mvalue\u001b[49m\u001b[43m)\u001b[49m\n\u001b[1;32m   6003\u001b[0m \u001b[38;5;28;01mexcept\u001b[39;00m \u001b[38;5;167;01mAttributeError\u001b[39;00m:\n\u001b[1;32m   6004\u001b[0m     \u001b[38;5;28;01mpass\u001b[39;00m\n",
      "File \u001b[0;32m~/Desktop/robust_training/.venv/lib/python3.8/site-packages/pandas/_libs/properties.pyx:69\u001b[0m, in \u001b[0;36mpandas._libs.properties.AxisProperty.__set__\u001b[0;34m()\u001b[0m\n",
      "File \u001b[0;32m~/Desktop/robust_training/.venv/lib/python3.8/site-packages/pandas/core/generic.py:730\u001b[0m, in \u001b[0;36mNDFrame._set_axis\u001b[0;34m(self, axis, labels)\u001b[0m\n\u001b[1;32m    725\u001b[0m \u001b[38;5;250m\u001b[39m\u001b[38;5;124;03m\"\"\"\u001b[39;00m\n\u001b[1;32m    726\u001b[0m \u001b[38;5;124;03mThis is called from the cython code when we set the `index` attribute\u001b[39;00m\n\u001b[1;32m    727\u001b[0m \u001b[38;5;124;03mdirectly, e.g. `series.index = [1, 2, 3]`.\u001b[39;00m\n\u001b[1;32m    728\u001b[0m \u001b[38;5;124;03m\"\"\"\u001b[39;00m\n\u001b[1;32m    729\u001b[0m labels \u001b[38;5;241m=\u001b[39m ensure_index(labels)\n\u001b[0;32m--> 730\u001b[0m \u001b[38;5;28;43mself\u001b[39;49m\u001b[38;5;241;43m.\u001b[39;49m\u001b[43m_mgr\u001b[49m\u001b[38;5;241;43m.\u001b[39;49m\u001b[43mset_axis\u001b[49m\u001b[43m(\u001b[49m\u001b[43maxis\u001b[49m\u001b[43m,\u001b[49m\u001b[43m \u001b[49m\u001b[43mlabels\u001b[49m\u001b[43m)\u001b[49m\n\u001b[1;32m    731\u001b[0m \u001b[38;5;28mself\u001b[39m\u001b[38;5;241m.\u001b[39m_clear_item_cache()\n",
      "File \u001b[0;32m~/Desktop/robust_training/.venv/lib/python3.8/site-packages/pandas/core/internals/managers.py:225\u001b[0m, in \u001b[0;36mBaseBlockManager.set_axis\u001b[0;34m(self, axis, new_labels)\u001b[0m\n\u001b[1;32m    223\u001b[0m \u001b[38;5;28;01mdef\u001b[39;00m \u001b[38;5;21mset_axis\u001b[39m(\u001b[38;5;28mself\u001b[39m, axis: AxisInt, new_labels: Index) \u001b[38;5;241m-\u001b[39m\u001b[38;5;241m>\u001b[39m \u001b[38;5;28;01mNone\u001b[39;00m:\n\u001b[1;32m    224\u001b[0m     \u001b[38;5;66;03m# Caller is responsible for ensuring we have an Index object.\u001b[39;00m\n\u001b[0;32m--> 225\u001b[0m     \u001b[38;5;28;43mself\u001b[39;49m\u001b[38;5;241;43m.\u001b[39;49m\u001b[43m_validate_set_axis\u001b[49m\u001b[43m(\u001b[49m\u001b[43maxis\u001b[49m\u001b[43m,\u001b[49m\u001b[43m \u001b[49m\u001b[43mnew_labels\u001b[49m\u001b[43m)\u001b[49m\n\u001b[1;32m    226\u001b[0m     \u001b[38;5;28mself\u001b[39m\u001b[38;5;241m.\u001b[39maxes[axis] \u001b[38;5;241m=\u001b[39m new_labels\n",
      "File \u001b[0;32m~/Desktop/robust_training/.venv/lib/python3.8/site-packages/pandas/core/internals/base.py:70\u001b[0m, in \u001b[0;36mDataManager._validate_set_axis\u001b[0;34m(self, axis, new_labels)\u001b[0m\n\u001b[1;32m     67\u001b[0m     \u001b[38;5;28;01mpass\u001b[39;00m\n\u001b[1;32m     69\u001b[0m \u001b[38;5;28;01melif\u001b[39;00m new_len \u001b[38;5;241m!=\u001b[39m old_len:\n\u001b[0;32m---> 70\u001b[0m     \u001b[38;5;28;01mraise\u001b[39;00m \u001b[38;5;167;01mValueError\u001b[39;00m(\n\u001b[1;32m     71\u001b[0m         \u001b[38;5;124mf\u001b[39m\u001b[38;5;124m\"\u001b[39m\u001b[38;5;124mLength mismatch: Expected axis has \u001b[39m\u001b[38;5;132;01m{\u001b[39;00mold_len\u001b[38;5;132;01m}\u001b[39;00m\u001b[38;5;124m elements, new \u001b[39m\u001b[38;5;124m\"\u001b[39m\n\u001b[1;32m     72\u001b[0m         \u001b[38;5;124mf\u001b[39m\u001b[38;5;124m\"\u001b[39m\u001b[38;5;124mvalues have \u001b[39m\u001b[38;5;132;01m{\u001b[39;00mnew_len\u001b[38;5;132;01m}\u001b[39;00m\u001b[38;5;124m elements\u001b[39m\u001b[38;5;124m\"\u001b[39m\n\u001b[1;32m     73\u001b[0m     )\n",
      "\u001b[0;31mValueError\u001b[0m: Length mismatch: Expected axis has 7 elements, new values have 6 elements"
     ]
    }
   ],
   "source": [
    "import plotly.graph_objects as go\n",
    "import pandas as pd\n",
    "\n",
    "# Load and prepare the data\n",
    "new_data = pd.read_csv('results/means.csv', skiprows=2)\n",
    "new_data.columns = ['active_strategy', 'size', 'final_clean_accuracy',\n",
    "                    'final_clean_accuracy_std', 'final_PGD_accuracy', 'final_PGD_accuracy_std']\n",
    "new_data['size'] = new_data['size'].astype(int)\n",
    "\n",
    "for performance in ['PGD_accuracy', 'clean_accuracy' ]:\n",
    "# performance = 'final_PGD_accuracy' \n",
    "# # performance = 'final_clean_accuracy'\n",
    "    fig = go.Figure()\n",
    "\n",
    "    # fig.add_trace(go.Scatter(x=[0, 50000], y=[ init_means_stds['init_'+performance]['mean'][0], init_means_stds['init_'+performance]['mean'][0] ],\n",
    "    #         mode='lines', line=dict(color='rgba({},{},{},1)'.format(0,0,204), width=2, dash='dot'),\n",
    "    #                     name='Init Accuracy', showlegend=True))\n",
    "\n",
    "\n",
    "    performance = 'final_'+performance\n",
    "    performance_std = performance + '_std'  # Corresponding standard deviation column\n",
    "\n",
    "    strategies = {\n",
    "        # 'attack_uncertainty': {'color': [204, 0, 204], 'label': 'attack-uncertainty'},  # Red\n",
    "        # 'full': {'color': [0, 0, 0], 'label': 'full'},  # Red\n",
    "        'uncertainty': {'color': [255, 161, 90], 'label':'uncertainty'},                    # Yellow\n",
    "        'random': {'color': [25, 211, 243], 'label':'random'},                    # Cyan\n",
    "        # 'entropy': {'color': [255, 102, 146], 'label':'entropy'},                  # Magenta\n",
    "        # 'attack': {'color': [182, 232, 128], 'label':'attack'},                   # Orange\n",
    "        # 'margin': {'color': [254, 203, 82], 'label':'margin'},\n",
    "    }\n",
    "\n",
    "\n",
    "    z_value = 2.576\n",
    "    n = 5\n",
    "\n",
    "    # Add a line for each strategy\n",
    "    for strategy, v in strategies.items():\n",
    "        r,g,b = v['color']\n",
    "        c = 'rgba({},{},{},1)'.format(r,g,b)\n",
    "\n",
    "        # Add a horizontal line for the 'full' strategy\n",
    "        if strategy == 'full':\n",
    "            pass\n",
    "        #     full_data = new_data[new_data['active_strategy'] == 'full']\n",
    "        #     # Calculate the mean PGD accuracy for the 'full' strategy\n",
    "        #     full_mean_accuracy = full_data[performance].mean()\n",
    "        #     fig.add_trace(go.Scatter(x=[min(new_data['size']), max(new_data['size'])], y=[full_mean_accuracy, full_mean_accuracy],\n",
    "        #                             mode='lines', line=dict(color=c, width=2, dash='dash'),\n",
    "        #                             name='Full Dataset Average', showlegend=True))\n",
    "            \n",
    "        #     strategy_data = new_data[new_data['active_strategy'] == strategy]\n",
    "        #     fig.add_trace(go.Scatter( x=strategy_data['size'],  y=strategy_data[performance],  mode='lines+markers',\n",
    "        #                     name=strategy, line=dict(color=c  ) ,\n",
    "        #                     error_y=dict(\n",
    "        #                     type='data',  symmetric=False,  \n",
    "        #                     array=z_value * strategy_data[performance_std] / n,  \n",
    "        #                     arrayminus=z_value * strategy_data[performance_std] / n   ), showlegend=False\n",
    "        #                         ))\n",
    "\n",
    "            \n",
    "        else:\n",
    "            strategy_data = new_data[new_data['active_strategy'] == strategy]\n",
    "            fig.add_trace(go.Scatter(x=strategy_data['size'], y=strategy_data[performance], line=dict(color=c),\n",
    "                                    error_y=dict(\n",
    "                                        type='data',  symmetric=False,  \n",
    "                                        array=z_value * strategy_data[performance_std] / n,  \n",
    "                                        arrayminus=z_value * strategy_data[performance_std] / n   ),\n",
    "                                    mode='lines+markers', name=strategy))\n",
    "\n",
    "\n",
    "    title_str = 'Robust accuracy' if performance=='final_PGD_accuracy' else 'Clean Accuracy'\n",
    "\n",
    "    # Update layout and display the plot\n",
    "    fig.update_layout(\n",
    "        width=600,  # Adjusted for two subplots\n",
    "        height=400,\n",
    "        plot_bgcolor='white',\n",
    "        paper_bgcolor='white',\n",
    "        margin=dict(l=0, r=0, t=50, b=0),\n",
    "        # title=\"Box Plot of Datasets by Cases and Columns\",\n",
    "        title=title_str,\n",
    "        xaxis_title='Size (% of training observations)',\n",
    "        yaxis_title=title_str,\n",
    "        legend_title='Data Selection Strategy',\n",
    "        # yaxis_range=[min(new_data[performance]) - 2, max(new_data[performance]) + 2],\n",
    "        showlegend=True,\n",
    "        xaxis=dict(\n",
    "            # type='log',\n",
    "            showgrid=True,        # Enable the grid\n",
    "            gridcolor='lightgray' # Set grid line color\n",
    "        ),\n",
    "        yaxis=dict(\n",
    "            showgrid=True,        # Enable the grid\n",
    "            gridcolor='lightgray', # Set grid line color\n",
    "            #range=[75,94] if 'clean' in performance else [45,65]\n",
    "        )\n",
    "        )\n",
    "\n",
    "    # Display the figure\n",
    "    fig.show()\n",
    "    # fig.write_image(\"./figures/results_{}_{}_{}_{}_{}.pdf\".format(performance, data, model, n_rounds, nb_epochs) )\n"
   ]
  }
 ],
 "metadata": {
  "kernelspec": {
   "display_name": ".venv",
   "language": "python",
   "name": "python3"
  },
  "language_info": {
   "codemirror_mode": {
    "name": "ipython",
    "version": 3
   },
   "file_extension": ".py",
   "mimetype": "text/x-python",
   "name": "python",
   "nbconvert_exporter": "python",
   "pygments_lexer": "ipython3",
   "version": "3.8.10"
  }
 },
 "nbformat": 4,
 "nbformat_minor": 2
}
