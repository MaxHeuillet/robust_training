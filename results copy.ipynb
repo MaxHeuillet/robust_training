{
 "cells": [
  {
   "cell_type": "code",
   "execution_count": 2,
   "metadata": {},
   "outputs": [
    {
     "name": "stdout",
     "output_type": "stream",
     "text": [
      "{'loss': 'TRADES', 'learning_rate': 0.01, 'scheduler': 'sched', 'rounds': 1, 'size': 5.0, 'epochs': 100, 'seed': 0, 'active_strategy': 'random', 'dataset': 'CIFAR10', 'model': 'resnet50', 'init_clean_accuracy': 0.9365000128746033, 'card': 2500, 'final_clean_accuracy': 0.7699999809265137, 'final_PGD_accuracy': 0.6068999767303467, 'lr': 0.01}\n",
      "{'loss': 'TRADES', 'learning_rate': 0.01, 'scheduler': 'nosched', 'rounds': 1, 'size': 5.0, 'epochs': 100, 'seed': 0, 'active_strategy': 'random', 'dataset': 'CIFAR10', 'model': 'resnet50', 'init_clean_accuracy': 0.9365000128746033, 'card': 2500, 'final_clean_accuracy': 0.767300009727478, 'final_PGD_accuracy': 0.6101999878883362, 'lr': 0.01}\n",
      "{'loss': 'TRADES', 'learning_rate': 0.001, 'scheduler': 'sched', 'rounds': 1, 'size': 5.0, 'epochs': 100, 'seed': 0, 'active_strategy': 'random', 'dataset': 'CIFAR10', 'model': 'resnet50', 'init_clean_accuracy': 0.9365000128746033, 'card': 2500, 'final_clean_accuracy': 0.7337999939918518, 'final_PGD_accuracy': 0.6294999718666077, 'lr': 0.001}\n",
      "{'loss': 'TRADES', 'learning_rate': 0.001, 'scheduler': 'nosched', 'rounds': 1, 'size': 5.0, 'epochs': 100, 'seed': 0, 'active_strategy': 'random', 'dataset': 'CIFAR10', 'model': 'resnet50', 'init_clean_accuracy': 0.9365000128746033, 'card': 2500, 'final_clean_accuracy': 0.7389000058174133, 'final_PGD_accuracy': 0.6306999921798706, 'lr': 0.001}\n",
      "{'loss': 'TRADES', 'learning_rate': 0.0001, 'scheduler': 'sched', 'rounds': 1, 'size': 5.0, 'epochs': 100, 'seed': 0, 'active_strategy': 'random', 'dataset': 'CIFAR10', 'model': 'resnet50', 'init_clean_accuracy': 0.9365000128746033, 'card': 2500, 'final_clean_accuracy': 0.7342000007629395, 'final_PGD_accuracy': 0.6189000010490417, 'lr': 0.0001}\n",
      "{'loss': 'TRADES', 'learning_rate': 0.0001, 'scheduler': 'nosched', 'rounds': 1, 'size': 5.0, 'epochs': 100, 'seed': 0, 'active_strategy': 'random', 'dataset': 'CIFAR10', 'model': 'resnet50', 'init_clean_accuracy': 0.9365000128746033, 'card': 2500, 'final_clean_accuracy': 0.7332000136375427, 'final_PGD_accuracy': 0.6262999773025513, 'lr': 0.0001}\n",
      "{'loss': 'TRADES', 'learning_rate': 0.01, 'scheduler': 'sched', 'rounds': 1, 'size': 10.0, 'epochs': 100, 'seed': 0, 'active_strategy': 'random', 'dataset': 'CIFAR10', 'model': 'resnet50', 'init_clean_accuracy': 0.9365000128746033, 'card': 5000, 'final_clean_accuracy': 0.7749000191688538, 'final_PGD_accuracy': 0.6001999974250793, 'lr': 0.01}\n",
      "{'loss': 'TRADES', 'learning_rate': 0.01, 'scheduler': 'nosched', 'rounds': 1, 'size': 10.0, 'epochs': 100, 'seed': 0, 'active_strategy': 'random', 'dataset': 'CIFAR10', 'model': 'resnet50', 'init_clean_accuracy': 0.9365000128746033, 'card': 5000, 'final_clean_accuracy': 0.7785999774932861, 'final_PGD_accuracy': 0.6031000018119812, 'lr': 0.01}\n",
      "{'loss': 'TRADES', 'learning_rate': 0.001, 'scheduler': 'sched', 'rounds': 1, 'size': 10.0, 'epochs': 100, 'seed': 0, 'active_strategy': 'random', 'dataset': 'CIFAR10', 'model': 'resnet50', 'init_clean_accuracy': 0.9365000128746033, 'card': 5000, 'final_clean_accuracy': 0.7494000196456909, 'final_PGD_accuracy': 0.633899986743927, 'lr': 0.001}\n",
      "{'loss': 'TRADES', 'learning_rate': 0.001, 'scheduler': 'nosched', 'rounds': 1, 'size': 10.0, 'epochs': 100, 'seed': 0, 'active_strategy': 'random', 'dataset': 'CIFAR10', 'model': 'resnet50', 'init_clean_accuracy': 0.9365000128746033, 'card': 5000, 'final_clean_accuracy': 0.7520999908447266, 'final_PGD_accuracy': 0.6309000253677368, 'lr': 0.001}\n",
      "{'loss': 'TRADES', 'learning_rate': 0.0001, 'scheduler': 'sched', 'rounds': 1, 'size': 10.0, 'epochs': 100, 'seed': 0, 'active_strategy': 'random', 'dataset': 'CIFAR10', 'model': 'resnet50', 'init_clean_accuracy': 0.9365000128746033, 'card': 5000, 'final_clean_accuracy': 0.7365999817848206, 'final_PGD_accuracy': 0.6295999884605408, 'lr': 0.0001}\n",
      "{'loss': 'TRADES', 'learning_rate': 0.0001, 'scheduler': 'nosched', 'rounds': 1, 'size': 10.0, 'epochs': 100, 'seed': 0, 'active_strategy': 'random', 'dataset': 'CIFAR10', 'model': 'resnet50', 'init_clean_accuracy': 0.9365000128746033, 'card': 5000, 'final_clean_accuracy': 0.7426999807357788, 'final_PGD_accuracy': 0.6324999928474426, 'lr': 0.0001}\n",
      "{'loss': 'TRADES', 'learning_rate': 0.01, 'scheduler': 'sched', 'rounds': 1, 'size': 25.0, 'epochs': 100, 'seed': 0, 'active_strategy': 'random', 'dataset': 'CIFAR10', 'model': 'resnet50', 'init_clean_accuracy': 0.9365000128746033, 'card': 12500, 'final_clean_accuracy': 0.8027999997138977, 'final_PGD_accuracy': 0.6097999811172485, 'lr': 0.01}\n",
      "{'loss': 'TRADES', 'learning_rate': 0.01, 'scheduler': 'nosched', 'rounds': 1, 'size': 25.0, 'epochs': 100, 'seed': 0, 'active_strategy': 'random', 'dataset': 'CIFAR10', 'model': 'resnet50', 'init_clean_accuracy': 0.9365000128746033, 'card': 12500, 'final_clean_accuracy': 0.7644000053405762, 'final_PGD_accuracy': 0.5813000202178955, 'lr': 0.01}\n",
      "{'loss': 'TRADES', 'learning_rate': 0.001, 'scheduler': 'sched', 'rounds': 1, 'size': 25.0, 'epochs': 100, 'seed': 0, 'active_strategy': 'random', 'dataset': 'CIFAR10', 'model': 'resnet50', 'init_clean_accuracy': 0.9365000128746033, 'card': 12500, 'final_clean_accuracy': 0.7968999743461609, 'final_PGD_accuracy': 0.6427000164985657, 'lr': 0.001}\n",
      "{'loss': 'TRADES', 'learning_rate': 0.001, 'scheduler': 'nosched', 'rounds': 1, 'size': 25.0, 'epochs': 100, 'seed': 0, 'active_strategy': 'random', 'dataset': 'CIFAR10', 'model': 'resnet50', 'init_clean_accuracy': 0.9365000128746033, 'card': 12500, 'final_clean_accuracy': 0.7861999869346619, 'final_PGD_accuracy': 0.6459000110626221, 'lr': 0.001}\n",
      "{'loss': 'TRADES', 'learning_rate': 0.0001, 'scheduler': 'sched', 'rounds': 1, 'size': 25.0, 'epochs': 100, 'seed': 0, 'active_strategy': 'random', 'dataset': 'CIFAR10', 'model': 'resnet50', 'init_clean_accuracy': 0.9365000128746033, 'card': 12500, 'final_clean_accuracy': 0.7820000052452087, 'final_PGD_accuracy': 0.6417999863624573, 'lr': 0.0001}\n",
      "{'loss': 'TRADES', 'learning_rate': 0.0001, 'scheduler': 'nosched', 'rounds': 1, 'size': 25.0, 'epochs': 100, 'seed': 0, 'active_strategy': 'random', 'dataset': 'CIFAR10', 'model': 'resnet50', 'init_clean_accuracy': 0.9365000128746033, 'card': 12500, 'final_clean_accuracy': 0.7809000015258789, 'final_PGD_accuracy': 0.6473000049591064, 'lr': 0.0001}\n"
     ]
    }
   ],
   "source": [
    "import gzip\n",
    "import pickle as pkl\n",
    "\n",
    "\n",
    "# Function to load all objects from a .pkl.gz file\n",
    "def load_all(file_path):\n",
    "    objects = []\n",
    "    with gzip.open(file_path, 'rb') as f:\n",
    "        while True:\n",
    "            try:\n",
    "                # Load the next pickle object\n",
    "                objects.append(pkl.load(f))\n",
    "            except EOFError:\n",
    "                # End of file reached\n",
    "                break\n",
    "    return objects\n",
    "\n",
    "data_name = 'CIFAR10' #'CIFAR10'\n",
    "model = 'resnet50'\n",
    "n_rounds = 1\n",
    "nb_epochs = 100\n",
    "seeds = 1\n",
    "loss = 'TRADES'\n",
    "\n",
    "results_list = []\n",
    "for active_strategy in [  'random',]: #'uncertainty', 'attack_uncertainty', 'attack', 'margin', 'entropy',\n",
    "    for size in [5.0, 10.0, 25.0]: \n",
    "        for lr in [0.01, 0.001, 0.0001, ]: #0.00001 \n",
    "            for sched in ['sched', 'nosched']:\n",
    "                for seed in range(seeds):\n",
    "                    try:\n",
    "                        file_name = './results/{}_{}_{}_{}_{}_{}_{}_{}_{}_{}.pkl.gz'.format(loss, lr, sched, data_name, model, active_strategy, n_rounds, size, nb_epochs, seed)\n",
    "                        with gzip.open(file_name, 'rb') as f:\n",
    "                            result = load_all(file_name)[-1]\n",
    "                        result['active_strategy'] = active_strategy\n",
    "                        result['lr'] = lr\n",
    "                        print(result)\n",
    "                        results_list.append(result)\n",
    "                    except:\n",
    "                        print('issue')\n",
    "                        pass\n"
   ]
  },
  {
   "cell_type": "code",
   "execution_count": 3,
   "metadata": {},
   "outputs": [],
   "source": [
    "import pandas as pd\n",
    "# Convert the list of dictionaries to a DataFrame\n",
    "df = pd.DataFrame(results_list)\n",
    "\n",
    "data = df.groupby(['active_strategy', 'size', 'scheduler', 'learning_rate' ]).agg({\n",
    "    'final_clean_accuracy': ['mean',  ], #std\n",
    "    'final_PGD_accuracy': ['mean', ] #std\n",
    "})\n",
    "\n",
    "# Flattening the multi-level column index\n",
    "data.columns = ['_'.join(col).strip() for col in data.columns.values]\n",
    "\n",
    "# Resetting the index to move the index values into columns\n",
    "data.reset_index(inplace=True)\n",
    "\n",
    "data.to_csv('./results/means.csv', index=True)"
   ]
  },
  {
   "cell_type": "code",
   "execution_count": 7,
   "metadata": {},
   "outputs": [
    {
     "data": {
      "text/html": [
       "<div>\n",
       "<style scoped>\n",
       "    .dataframe tbody tr th:only-of-type {\n",
       "        vertical-align: middle;\n",
       "    }\n",
       "\n",
       "    .dataframe tbody tr th {\n",
       "        vertical-align: top;\n",
       "    }\n",
       "\n",
       "    .dataframe thead th {\n",
       "        text-align: right;\n",
       "    }\n",
       "</style>\n",
       "<table border=\"1\" class=\"dataframe\">\n",
       "  <thead>\n",
       "    <tr style=\"text-align: right;\">\n",
       "      <th></th>\n",
       "      <th>active_strategy</th>\n",
       "      <th>size</th>\n",
       "      <th>scheduler</th>\n",
       "      <th>learning_rate</th>\n",
       "      <th>final_clean_accuracy_mean</th>\n",
       "      <th>final_PGD_accuracy_mean</th>\n",
       "    </tr>\n",
       "  </thead>\n",
       "  <tbody>\n",
       "    <tr>\n",
       "      <th>0</th>\n",
       "      <td>random</td>\n",
       "      <td>5.0</td>\n",
       "      <td>nosched</td>\n",
       "      <td>0.0001</td>\n",
       "      <td>0.8962</td>\n",
       "      <td>0.4498</td>\n",
       "    </tr>\n",
       "    <tr>\n",
       "      <th>1</th>\n",
       "      <td>random</td>\n",
       "      <td>5.0</td>\n",
       "      <td>nosched</td>\n",
       "      <td>0.0010</td>\n",
       "      <td>0.7785</td>\n",
       "      <td>0.4322</td>\n",
       "    </tr>\n",
       "    <tr>\n",
       "      <th>2</th>\n",
       "      <td>random</td>\n",
       "      <td>5.0</td>\n",
       "      <td>nosched</td>\n",
       "      <td>0.0100</td>\n",
       "      <td>0.5862</td>\n",
       "      <td>0.2546</td>\n",
       "    </tr>\n",
       "    <tr>\n",
       "      <th>3</th>\n",
       "      <td>random</td>\n",
       "      <td>5.0</td>\n",
       "      <td>sched</td>\n",
       "      <td>0.0001</td>\n",
       "      <td>0.8994</td>\n",
       "      <td>0.4399</td>\n",
       "    </tr>\n",
       "    <tr>\n",
       "      <th>4</th>\n",
       "      <td>random</td>\n",
       "      <td>5.0</td>\n",
       "      <td>sched</td>\n",
       "      <td>0.0010</td>\n",
       "      <td>0.8641</td>\n",
       "      <td>0.4707</td>\n",
       "    </tr>\n",
       "    <tr>\n",
       "      <th>5</th>\n",
       "      <td>random</td>\n",
       "      <td>5.0</td>\n",
       "      <td>sched</td>\n",
       "      <td>0.0100</td>\n",
       "      <td>0.5795</td>\n",
       "      <td>0.2641</td>\n",
       "    </tr>\n",
       "    <tr>\n",
       "      <th>6</th>\n",
       "      <td>random</td>\n",
       "      <td>10.0</td>\n",
       "      <td>nosched</td>\n",
       "      <td>0.0001</td>\n",
       "      <td>0.8960</td>\n",
       "      <td>0.5030</td>\n",
       "    </tr>\n",
       "    <tr>\n",
       "      <th>7</th>\n",
       "      <td>random</td>\n",
       "      <td>10.0</td>\n",
       "      <td>nosched</td>\n",
       "      <td>0.0010</td>\n",
       "      <td>0.6948</td>\n",
       "      <td>0.3798</td>\n",
       "    </tr>\n",
       "    <tr>\n",
       "      <th>8</th>\n",
       "      <td>random</td>\n",
       "      <td>10.0</td>\n",
       "      <td>nosched</td>\n",
       "      <td>0.0100</td>\n",
       "      <td>0.5555</td>\n",
       "      <td>0.2352</td>\n",
       "    </tr>\n",
       "    <tr>\n",
       "      <th>9</th>\n",
       "      <td>random</td>\n",
       "      <td>10.0</td>\n",
       "      <td>sched</td>\n",
       "      <td>0.0001</td>\n",
       "      <td>0.8993</td>\n",
       "      <td>0.4816</td>\n",
       "    </tr>\n",
       "    <tr>\n",
       "      <th>10</th>\n",
       "      <td>random</td>\n",
       "      <td>10.0</td>\n",
       "      <td>sched</td>\n",
       "      <td>0.0010</td>\n",
       "      <td>0.7813</td>\n",
       "      <td>0.4562</td>\n",
       "    </tr>\n",
       "    <tr>\n",
       "      <th>11</th>\n",
       "      <td>random</td>\n",
       "      <td>10.0</td>\n",
       "      <td>sched</td>\n",
       "      <td>0.0100</td>\n",
       "      <td>0.5488</td>\n",
       "      <td>0.2411</td>\n",
       "    </tr>\n",
       "    <tr>\n",
       "      <th>12</th>\n",
       "      <td>random</td>\n",
       "      <td>25.0</td>\n",
       "      <td>nosched</td>\n",
       "      <td>0.0001</td>\n",
       "      <td>0.8846</td>\n",
       "      <td>0.5196</td>\n",
       "    </tr>\n",
       "    <tr>\n",
       "      <th>13</th>\n",
       "      <td>random</td>\n",
       "      <td>25.0</td>\n",
       "      <td>nosched</td>\n",
       "      <td>0.0010</td>\n",
       "      <td>0.5487</td>\n",
       "      <td>0.2245</td>\n",
       "    </tr>\n",
       "    <tr>\n",
       "      <th>14</th>\n",
       "      <td>random</td>\n",
       "      <td>25.0</td>\n",
       "      <td>nosched</td>\n",
       "      <td>0.0100</td>\n",
       "      <td>0.5664</td>\n",
       "      <td>0.2022</td>\n",
       "    </tr>\n",
       "    <tr>\n",
       "      <th>15</th>\n",
       "      <td>random</td>\n",
       "      <td>25.0</td>\n",
       "      <td>sched</td>\n",
       "      <td>0.0001</td>\n",
       "      <td>0.8992</td>\n",
       "      <td>0.5127</td>\n",
       "    </tr>\n",
       "    <tr>\n",
       "      <th>16</th>\n",
       "      <td>random</td>\n",
       "      <td>25.0</td>\n",
       "      <td>sched</td>\n",
       "      <td>0.0010</td>\n",
       "      <td>0.6426</td>\n",
       "      <td>0.3041</td>\n",
       "    </tr>\n",
       "    <tr>\n",
       "      <th>17</th>\n",
       "      <td>random</td>\n",
       "      <td>25.0</td>\n",
       "      <td>sched</td>\n",
       "      <td>0.0100</td>\n",
       "      <td>0.5527</td>\n",
       "      <td>0.2112</td>\n",
       "    </tr>\n",
       "  </tbody>\n",
       "</table>\n",
       "</div>"
      ],
      "text/plain": [
       "   active_strategy  size scheduler  learning_rate  final_clean_accuracy_mean  \\\n",
       "0           random   5.0   nosched         0.0001                     0.8962   \n",
       "1           random   5.0   nosched         0.0010                     0.7785   \n",
       "2           random   5.0   nosched         0.0100                     0.5862   \n",
       "3           random   5.0     sched         0.0001                     0.8994   \n",
       "4           random   5.0     sched         0.0010                     0.8641   \n",
       "5           random   5.0     sched         0.0100                     0.5795   \n",
       "6           random  10.0   nosched         0.0001                     0.8960   \n",
       "7           random  10.0   nosched         0.0010                     0.6948   \n",
       "8           random  10.0   nosched         0.0100                     0.5555   \n",
       "9           random  10.0     sched         0.0001                     0.8993   \n",
       "10          random  10.0     sched         0.0010                     0.7813   \n",
       "11          random  10.0     sched         0.0100                     0.5488   \n",
       "12          random  25.0   nosched         0.0001                     0.8846   \n",
       "13          random  25.0   nosched         0.0010                     0.5487   \n",
       "14          random  25.0   nosched         0.0100                     0.5664   \n",
       "15          random  25.0     sched         0.0001                     0.8992   \n",
       "16          random  25.0     sched         0.0010                     0.6426   \n",
       "17          random  25.0     sched         0.0100                     0.5527   \n",
       "\n",
       "    final_PGD_accuracy_mean  \n",
       "0                    0.4498  \n",
       "1                    0.4322  \n",
       "2                    0.2546  \n",
       "3                    0.4399  \n",
       "4                    0.4707  \n",
       "5                    0.2641  \n",
       "6                    0.5030  \n",
       "7                    0.3798  \n",
       "8                    0.2352  \n",
       "9                    0.4816  \n",
       "10                   0.4562  \n",
       "11                   0.2411  \n",
       "12                   0.5196  \n",
       "13                   0.2245  \n",
       "14                   0.2022  \n",
       "15                   0.5127  \n",
       "16                   0.3041  \n",
       "17                   0.2112  "
      ]
     },
     "execution_count": 7,
     "metadata": {},
     "output_type": "execute_result"
    }
   ],
   "source": [
    "data"
   ]
  },
  {
   "cell_type": "code",
   "execution_count": 4,
   "metadata": {},
   "outputs": [
    {
     "data": {
      "application/vnd.plotly.v1+json": {
       "config": {
        "plotlyServerURL": "https://plot.ly"
       },
       "data": [
        {
         "line": {
          "color": "red",
          "dash": "dashdot"
         },
         "marker": {
          "size": 10,
          "symbol": "circle"
         },
         "mode": "lines+markers",
         "name": "random, nosched, 0.0001",
         "type": "scatter",
         "x": [
          5,
          10,
          25
         ],
         "y": [
          0.6262999773025513,
          0.6324999928474426,
          0.6473000049591064
         ]
        },
        {
         "line": {
          "color": "red",
          "dash": "solid"
         },
         "marker": {
          "size": 10,
          "symbol": "circle"
         },
         "mode": "lines+markers",
         "name": "random, nosched, 0.001",
         "type": "scatter",
         "x": [
          5,
          10,
          25
         ],
         "y": [
          0.6306999921798706,
          0.6309000253677368,
          0.6459000110626221
         ]
        },
        {
         "line": {
          "color": "red",
          "dash": "dot"
         },
         "marker": {
          "size": 10,
          "symbol": "circle"
         },
         "mode": "lines+markers",
         "name": "random, nosched, 0.01",
         "type": "scatter",
         "x": [
          5,
          10,
          25
         ],
         "y": [
          0.6101999878883362,
          0.6031000018119812,
          0.5813000202178955
         ]
        },
        {
         "line": {
          "color": "red",
          "dash": "dashdot"
         },
         "marker": {
          "size": 10,
          "symbol": "square"
         },
         "mode": "lines+markers",
         "name": "random, sched, 0.0001",
         "type": "scatter",
         "x": [
          5,
          10,
          25
         ],
         "y": [
          0.6189000010490417,
          0.6295999884605408,
          0.6417999863624573
         ]
        },
        {
         "line": {
          "color": "red",
          "dash": "solid"
         },
         "marker": {
          "size": 10,
          "symbol": "square"
         },
         "mode": "lines+markers",
         "name": "random, sched, 0.001",
         "type": "scatter",
         "x": [
          5,
          10,
          25
         ],
         "y": [
          0.6294999718666077,
          0.633899986743927,
          0.6427000164985657
         ]
        },
        {
         "line": {
          "color": "red",
          "dash": "dot"
         },
         "marker": {
          "size": 10,
          "symbol": "square"
         },
         "mode": "lines+markers",
         "name": "random, sched, 0.01",
         "type": "scatter",
         "x": [
          5,
          10,
          25
         ],
         "y": [
          0.6068999767303467,
          0.6001999974250793,
          0.6097999811172485
         ]
        }
       ],
       "layout": {
        "legend": {
         "font": {
          "size": 15
         },
         "orientation": "v",
         "title": {
          "font": {
           "size": 15
          },
          "text": "Strategy Details"
         },
         "x": 1.3,
         "xanchor": "right",
         "y": 1,
         "yanchor": "top"
        },
        "margin": {
         "b": 0,
         "l": 0,
         "r": 0,
         "t": 50
        },
        "template": {
         "data": {
          "bar": [
           {
            "error_x": {
             "color": "#2a3f5f"
            },
            "error_y": {
             "color": "#2a3f5f"
            },
            "marker": {
             "line": {
              "color": "#E5ECF6",
              "width": 0.5
             },
             "pattern": {
              "fillmode": "overlay",
              "size": 10,
              "solidity": 0.2
             }
            },
            "type": "bar"
           }
          ],
          "barpolar": [
           {
            "marker": {
             "line": {
              "color": "#E5ECF6",
              "width": 0.5
             },
             "pattern": {
              "fillmode": "overlay",
              "size": 10,
              "solidity": 0.2
             }
            },
            "type": "barpolar"
           }
          ],
          "carpet": [
           {
            "aaxis": {
             "endlinecolor": "#2a3f5f",
             "gridcolor": "white",
             "linecolor": "white",
             "minorgridcolor": "white",
             "startlinecolor": "#2a3f5f"
            },
            "baxis": {
             "endlinecolor": "#2a3f5f",
             "gridcolor": "white",
             "linecolor": "white",
             "minorgridcolor": "white",
             "startlinecolor": "#2a3f5f"
            },
            "type": "carpet"
           }
          ],
          "choropleth": [
           {
            "colorbar": {
             "outlinewidth": 0,
             "ticks": ""
            },
            "type": "choropleth"
           }
          ],
          "contour": [
           {
            "colorbar": {
             "outlinewidth": 0,
             "ticks": ""
            },
            "colorscale": [
             [
              0,
              "#0d0887"
             ],
             [
              0.1111111111111111,
              "#46039f"
             ],
             [
              0.2222222222222222,
              "#7201a8"
             ],
             [
              0.3333333333333333,
              "#9c179e"
             ],
             [
              0.4444444444444444,
              "#bd3786"
             ],
             [
              0.5555555555555556,
              "#d8576b"
             ],
             [
              0.6666666666666666,
              "#ed7953"
             ],
             [
              0.7777777777777778,
              "#fb9f3a"
             ],
             [
              0.8888888888888888,
              "#fdca26"
             ],
             [
              1,
              "#f0f921"
             ]
            ],
            "type": "contour"
           }
          ],
          "contourcarpet": [
           {
            "colorbar": {
             "outlinewidth": 0,
             "ticks": ""
            },
            "type": "contourcarpet"
           }
          ],
          "heatmap": [
           {
            "colorbar": {
             "outlinewidth": 0,
             "ticks": ""
            },
            "colorscale": [
             [
              0,
              "#0d0887"
             ],
             [
              0.1111111111111111,
              "#46039f"
             ],
             [
              0.2222222222222222,
              "#7201a8"
             ],
             [
              0.3333333333333333,
              "#9c179e"
             ],
             [
              0.4444444444444444,
              "#bd3786"
             ],
             [
              0.5555555555555556,
              "#d8576b"
             ],
             [
              0.6666666666666666,
              "#ed7953"
             ],
             [
              0.7777777777777778,
              "#fb9f3a"
             ],
             [
              0.8888888888888888,
              "#fdca26"
             ],
             [
              1,
              "#f0f921"
             ]
            ],
            "type": "heatmap"
           }
          ],
          "heatmapgl": [
           {
            "colorbar": {
             "outlinewidth": 0,
             "ticks": ""
            },
            "colorscale": [
             [
              0,
              "#0d0887"
             ],
             [
              0.1111111111111111,
              "#46039f"
             ],
             [
              0.2222222222222222,
              "#7201a8"
             ],
             [
              0.3333333333333333,
              "#9c179e"
             ],
             [
              0.4444444444444444,
              "#bd3786"
             ],
             [
              0.5555555555555556,
              "#d8576b"
             ],
             [
              0.6666666666666666,
              "#ed7953"
             ],
             [
              0.7777777777777778,
              "#fb9f3a"
             ],
             [
              0.8888888888888888,
              "#fdca26"
             ],
             [
              1,
              "#f0f921"
             ]
            ],
            "type": "heatmapgl"
           }
          ],
          "histogram": [
           {
            "marker": {
             "pattern": {
              "fillmode": "overlay",
              "size": 10,
              "solidity": 0.2
             }
            },
            "type": "histogram"
           }
          ],
          "histogram2d": [
           {
            "colorbar": {
             "outlinewidth": 0,
             "ticks": ""
            },
            "colorscale": [
             [
              0,
              "#0d0887"
             ],
             [
              0.1111111111111111,
              "#46039f"
             ],
             [
              0.2222222222222222,
              "#7201a8"
             ],
             [
              0.3333333333333333,
              "#9c179e"
             ],
             [
              0.4444444444444444,
              "#bd3786"
             ],
             [
              0.5555555555555556,
              "#d8576b"
             ],
             [
              0.6666666666666666,
              "#ed7953"
             ],
             [
              0.7777777777777778,
              "#fb9f3a"
             ],
             [
              0.8888888888888888,
              "#fdca26"
             ],
             [
              1,
              "#f0f921"
             ]
            ],
            "type": "histogram2d"
           }
          ],
          "histogram2dcontour": [
           {
            "colorbar": {
             "outlinewidth": 0,
             "ticks": ""
            },
            "colorscale": [
             [
              0,
              "#0d0887"
             ],
             [
              0.1111111111111111,
              "#46039f"
             ],
             [
              0.2222222222222222,
              "#7201a8"
             ],
             [
              0.3333333333333333,
              "#9c179e"
             ],
             [
              0.4444444444444444,
              "#bd3786"
             ],
             [
              0.5555555555555556,
              "#d8576b"
             ],
             [
              0.6666666666666666,
              "#ed7953"
             ],
             [
              0.7777777777777778,
              "#fb9f3a"
             ],
             [
              0.8888888888888888,
              "#fdca26"
             ],
             [
              1,
              "#f0f921"
             ]
            ],
            "type": "histogram2dcontour"
           }
          ],
          "mesh3d": [
           {
            "colorbar": {
             "outlinewidth": 0,
             "ticks": ""
            },
            "type": "mesh3d"
           }
          ],
          "parcoords": [
           {
            "line": {
             "colorbar": {
              "outlinewidth": 0,
              "ticks": ""
             }
            },
            "type": "parcoords"
           }
          ],
          "pie": [
           {
            "automargin": true,
            "type": "pie"
           }
          ],
          "scatter": [
           {
            "fillpattern": {
             "fillmode": "overlay",
             "size": 10,
             "solidity": 0.2
            },
            "type": "scatter"
           }
          ],
          "scatter3d": [
           {
            "line": {
             "colorbar": {
              "outlinewidth": 0,
              "ticks": ""
             }
            },
            "marker": {
             "colorbar": {
              "outlinewidth": 0,
              "ticks": ""
             }
            },
            "type": "scatter3d"
           }
          ],
          "scattercarpet": [
           {
            "marker": {
             "colorbar": {
              "outlinewidth": 0,
              "ticks": ""
             }
            },
            "type": "scattercarpet"
           }
          ],
          "scattergeo": [
           {
            "marker": {
             "colorbar": {
              "outlinewidth": 0,
              "ticks": ""
             }
            },
            "type": "scattergeo"
           }
          ],
          "scattergl": [
           {
            "marker": {
             "colorbar": {
              "outlinewidth": 0,
              "ticks": ""
             }
            },
            "type": "scattergl"
           }
          ],
          "scattermapbox": [
           {
            "marker": {
             "colorbar": {
              "outlinewidth": 0,
              "ticks": ""
             }
            },
            "type": "scattermapbox"
           }
          ],
          "scatterpolar": [
           {
            "marker": {
             "colorbar": {
              "outlinewidth": 0,
              "ticks": ""
             }
            },
            "type": "scatterpolar"
           }
          ],
          "scatterpolargl": [
           {
            "marker": {
             "colorbar": {
              "outlinewidth": 0,
              "ticks": ""
             }
            },
            "type": "scatterpolargl"
           }
          ],
          "scatterternary": [
           {
            "marker": {
             "colorbar": {
              "outlinewidth": 0,
              "ticks": ""
             }
            },
            "type": "scatterternary"
           }
          ],
          "surface": [
           {
            "colorbar": {
             "outlinewidth": 0,
             "ticks": ""
            },
            "colorscale": [
             [
              0,
              "#0d0887"
             ],
             [
              0.1111111111111111,
              "#46039f"
             ],
             [
              0.2222222222222222,
              "#7201a8"
             ],
             [
              0.3333333333333333,
              "#9c179e"
             ],
             [
              0.4444444444444444,
              "#bd3786"
             ],
             [
              0.5555555555555556,
              "#d8576b"
             ],
             [
              0.6666666666666666,
              "#ed7953"
             ],
             [
              0.7777777777777778,
              "#fb9f3a"
             ],
             [
              0.8888888888888888,
              "#fdca26"
             ],
             [
              1,
              "#f0f921"
             ]
            ],
            "type": "surface"
           }
          ],
          "table": [
           {
            "cells": {
             "fill": {
              "color": "#EBF0F8"
             },
             "line": {
              "color": "white"
             }
            },
            "header": {
             "fill": {
              "color": "#C8D4E3"
             },
             "line": {
              "color": "white"
             }
            },
            "type": "table"
           }
          ]
         },
         "layout": {
          "annotationdefaults": {
           "arrowcolor": "#2a3f5f",
           "arrowhead": 0,
           "arrowwidth": 1
          },
          "autotypenumbers": "strict",
          "coloraxis": {
           "colorbar": {
            "outlinewidth": 0,
            "ticks": ""
           }
          },
          "colorscale": {
           "diverging": [
            [
             0,
             "#8e0152"
            ],
            [
             0.1,
             "#c51b7d"
            ],
            [
             0.2,
             "#de77ae"
            ],
            [
             0.3,
             "#f1b6da"
            ],
            [
             0.4,
             "#fde0ef"
            ],
            [
             0.5,
             "#f7f7f7"
            ],
            [
             0.6,
             "#e6f5d0"
            ],
            [
             0.7,
             "#b8e186"
            ],
            [
             0.8,
             "#7fbc41"
            ],
            [
             0.9,
             "#4d9221"
            ],
            [
             1,
             "#276419"
            ]
           ],
           "sequential": [
            [
             0,
             "#0d0887"
            ],
            [
             0.1111111111111111,
             "#46039f"
            ],
            [
             0.2222222222222222,
             "#7201a8"
            ],
            [
             0.3333333333333333,
             "#9c179e"
            ],
            [
             0.4444444444444444,
             "#bd3786"
            ],
            [
             0.5555555555555556,
             "#d8576b"
            ],
            [
             0.6666666666666666,
             "#ed7953"
            ],
            [
             0.7777777777777778,
             "#fb9f3a"
            ],
            [
             0.8888888888888888,
             "#fdca26"
            ],
            [
             1,
             "#f0f921"
            ]
           ],
           "sequentialminus": [
            [
             0,
             "#0d0887"
            ],
            [
             0.1111111111111111,
             "#46039f"
            ],
            [
             0.2222222222222222,
             "#7201a8"
            ],
            [
             0.3333333333333333,
             "#9c179e"
            ],
            [
             0.4444444444444444,
             "#bd3786"
            ],
            [
             0.5555555555555556,
             "#d8576b"
            ],
            [
             0.6666666666666666,
             "#ed7953"
            ],
            [
             0.7777777777777778,
             "#fb9f3a"
            ],
            [
             0.8888888888888888,
             "#fdca26"
            ],
            [
             1,
             "#f0f921"
            ]
           ]
          },
          "colorway": [
           "#636efa",
           "#EF553B",
           "#00cc96",
           "#ab63fa",
           "#FFA15A",
           "#19d3f3",
           "#FF6692",
           "#B6E880",
           "#FF97FF",
           "#FECB52"
          ],
          "font": {
           "color": "#2a3f5f"
          },
          "geo": {
           "bgcolor": "white",
           "lakecolor": "white",
           "landcolor": "#E5ECF6",
           "showlakes": true,
           "showland": true,
           "subunitcolor": "white"
          },
          "hoverlabel": {
           "align": "left"
          },
          "hovermode": "closest",
          "mapbox": {
           "style": "light"
          },
          "paper_bgcolor": "white",
          "plot_bgcolor": "#E5ECF6",
          "polar": {
           "angularaxis": {
            "gridcolor": "white",
            "linecolor": "white",
            "ticks": ""
           },
           "bgcolor": "#E5ECF6",
           "radialaxis": {
            "gridcolor": "white",
            "linecolor": "white",
            "ticks": ""
           }
          },
          "scene": {
           "xaxis": {
            "backgroundcolor": "#E5ECF6",
            "gridcolor": "white",
            "gridwidth": 2,
            "linecolor": "white",
            "showbackground": true,
            "ticks": "",
            "zerolinecolor": "white"
           },
           "yaxis": {
            "backgroundcolor": "#E5ECF6",
            "gridcolor": "white",
            "gridwidth": 2,
            "linecolor": "white",
            "showbackground": true,
            "ticks": "",
            "zerolinecolor": "white"
           },
           "zaxis": {
            "backgroundcolor": "#E5ECF6",
            "gridcolor": "white",
            "gridwidth": 2,
            "linecolor": "white",
            "showbackground": true,
            "ticks": "",
            "zerolinecolor": "white"
           }
          },
          "shapedefaults": {
           "line": {
            "color": "#2a3f5f"
           }
          },
          "ternary": {
           "aaxis": {
            "gridcolor": "white",
            "linecolor": "white",
            "ticks": ""
           },
           "baxis": {
            "gridcolor": "white",
            "linecolor": "white",
            "ticks": ""
           },
           "bgcolor": "#E5ECF6",
           "caxis": {
            "gridcolor": "white",
            "linecolor": "white",
            "ticks": ""
           }
          },
          "title": {
           "x": 0.05
          },
          "xaxis": {
           "automargin": true,
           "gridcolor": "white",
           "linecolor": "white",
           "ticks": "",
           "title": {
            "standoff": 15
           },
           "zerolinecolor": "white",
           "zerolinewidth": 2
          },
          "yaxis": {
           "automargin": true,
           "gridcolor": "white",
           "linecolor": "white",
           "ticks": "",
           "title": {
            "standoff": 15
           },
           "zerolinecolor": "white",
           "zerolinewidth": 2
          }
         }
        },
        "title": {
         "text": "final_PGD_accuracy_mean by Size and Strategy"
        },
        "xaxis": {
         "title": {
          "text": "Size"
         }
        },
        "yaxis": {
         "title": {
          "text": "final_PGD_accuracy_mean"
         }
        }
       }
      }
     },
     "metadata": {},
     "output_type": "display_data"
    }
   ],
   "source": [
    "import plotly.graph_objects as go\n",
    "\n",
    "metric = 'final_PGD_accuracy_mean' #'final_clean_accuracy_mean'\n",
    "# Convert the learning rate column to string to match keys in the lr_styles dictionary\n",
    "data['learning_rate'] = data['learning_rate'].astype(str)\n",
    "\n",
    "# Update the strategy_colors dictionary to include all unique strategies from the data\n",
    "strategy_colors = {'random': 'red', 'uncertainty': 'blue'}\n",
    "\n",
    "# Define line styles for learning rates\n",
    "lr_styles = {'0.01': 'dot', '0.001': 'solid',  '0.0001': 'dashdot', '1e-05': 'longdash'}\n",
    "\n",
    "# Reinitialize the figure with increased marker size and improved legend\n",
    "fig = go.Figure()\n",
    "\n",
    "# Add traces for each combination of sched and active_strategy\n",
    "for sched in data['scheduler'].unique():\n",
    "    for active_strategy in data['active_strategy'].unique():\n",
    "        subset = data[(data['scheduler'] == sched) & (data['active_strategy'] == active_strategy)]\n",
    "        for lr in subset['learning_rate'].unique():\n",
    "            subsubset = subset[subset['learning_rate'] == lr]\n",
    "            fig.add_trace(go.Scatter(\n",
    "                x=subsubset['size'],\n",
    "                y=subsubset[metric], \n",
    "                mode='lines+markers',\n",
    "                name=f'{active_strategy}, {sched}, {lr}',\n",
    "                line=dict(color=strategy_colors[active_strategy], dash=lr_styles[lr]),\n",
    "                marker=dict(symbol='circle' if sched == 'nosched' else 'square', size=10)\n",
    "            ))\n",
    "\n",
    "# Update layout for better legend visibility\n",
    "fig.update_layout(\n",
    "    margin=dict(l=0, r=0, t=50, b=0),\n",
    "    title='{} by Size and Strategy'.format(metric),\n",
    "    xaxis_title='Size',\n",
    "    yaxis_title=metric,\n",
    "    legend_title='Strategy Details',\n",
    "    legend=dict(\n",
    "        orientation=\"v\",\n",
    "        yanchor=\"top\",\n",
    "        y=1,\n",
    "        xanchor=\"right\",\n",
    "        x=1.3,\n",
    "        title_font=dict(size=15),\n",
    "        font=dict(size=15)\n",
    "    )\n",
    ")\n",
    "\n",
    "# fig.write_image(\"./figures/results_{}_{}_{}_{}_{}.pdf\".format(metric, data_name, model, n_rounds, nb_epochs) )"
   ]
  },
  {
   "cell_type": "code",
   "execution_count": 20,
   "metadata": {},
   "outputs": [
    {
     "ename": "ValueError",
     "evalue": "Length mismatch: Expected axis has 7 elements, new values have 6 elements",
     "output_type": "error",
     "traceback": [
      "\u001b[0;31m---------------------------------------------------------------------------\u001b[0m",
      "\u001b[0;31mValueError\u001b[0m                                Traceback (most recent call last)",
      "Cell \u001b[0;32mIn[20], line 6\u001b[0m\n\u001b[1;32m      4\u001b[0m \u001b[38;5;66;03m# Load and prepare the data\u001b[39;00m\n\u001b[1;32m      5\u001b[0m new_data \u001b[38;5;241m=\u001b[39m pd\u001b[38;5;241m.\u001b[39mread_csv(\u001b[38;5;124m'\u001b[39m\u001b[38;5;124mresults/means.csv\u001b[39m\u001b[38;5;124m'\u001b[39m, skiprows\u001b[38;5;241m=\u001b[39m\u001b[38;5;241m2\u001b[39m)\n\u001b[0;32m----> 6\u001b[0m \u001b[43mnew_data\u001b[49m\u001b[38;5;241;43m.\u001b[39;49m\u001b[43mcolumns\u001b[49m \u001b[38;5;241m=\u001b[39m [\u001b[38;5;124m'\u001b[39m\u001b[38;5;124mactive_strategy\u001b[39m\u001b[38;5;124m'\u001b[39m, \u001b[38;5;124m'\u001b[39m\u001b[38;5;124msize\u001b[39m\u001b[38;5;124m'\u001b[39m, \u001b[38;5;124m'\u001b[39m\u001b[38;5;124mfinal_clean_accuracy\u001b[39m\u001b[38;5;124m'\u001b[39m,\n\u001b[1;32m      7\u001b[0m                     \u001b[38;5;124m'\u001b[39m\u001b[38;5;124mfinal_clean_accuracy_std\u001b[39m\u001b[38;5;124m'\u001b[39m, \u001b[38;5;124m'\u001b[39m\u001b[38;5;124mfinal_PGD_accuracy\u001b[39m\u001b[38;5;124m'\u001b[39m, \u001b[38;5;124m'\u001b[39m\u001b[38;5;124mfinal_PGD_accuracy_std\u001b[39m\u001b[38;5;124m'\u001b[39m]\n\u001b[1;32m      8\u001b[0m new_data[\u001b[38;5;124m'\u001b[39m\u001b[38;5;124msize\u001b[39m\u001b[38;5;124m'\u001b[39m] \u001b[38;5;241m=\u001b[39m new_data[\u001b[38;5;124m'\u001b[39m\u001b[38;5;124msize\u001b[39m\u001b[38;5;124m'\u001b[39m]\u001b[38;5;241m.\u001b[39mastype(\u001b[38;5;28mint\u001b[39m)\n\u001b[1;32m     10\u001b[0m \u001b[38;5;28;01mfor\u001b[39;00m performance \u001b[38;5;129;01min\u001b[39;00m [\u001b[38;5;124m'\u001b[39m\u001b[38;5;124mPGD_accuracy\u001b[39m\u001b[38;5;124m'\u001b[39m, \u001b[38;5;124m'\u001b[39m\u001b[38;5;124mclean_accuracy\u001b[39m\u001b[38;5;124m'\u001b[39m ]:\n\u001b[1;32m     11\u001b[0m \u001b[38;5;66;03m# performance = 'final_PGD_accuracy' \u001b[39;00m\n\u001b[1;32m     12\u001b[0m \u001b[38;5;66;03m# # performance = 'final_clean_accuracy'\u001b[39;00m\n",
      "File \u001b[0;32m~/Desktop/robust_training/.venv/lib/python3.8/site-packages/pandas/core/generic.py:6002\u001b[0m, in \u001b[0;36mNDFrame.__setattr__\u001b[0;34m(self, name, value)\u001b[0m\n\u001b[1;32m   6000\u001b[0m \u001b[38;5;28;01mtry\u001b[39;00m:\n\u001b[1;32m   6001\u001b[0m     \u001b[38;5;28mobject\u001b[39m\u001b[38;5;241m.\u001b[39m\u001b[38;5;21m__getattribute__\u001b[39m(\u001b[38;5;28mself\u001b[39m, name)\n\u001b[0;32m-> 6002\u001b[0m     \u001b[38;5;28;01mreturn\u001b[39;00m \u001b[38;5;28;43mobject\u001b[39;49m\u001b[38;5;241;43m.\u001b[39;49m\u001b[38;5;21;43m__setattr__\u001b[39;49m\u001b[43m(\u001b[49m\u001b[38;5;28;43mself\u001b[39;49m\u001b[43m,\u001b[49m\u001b[43m \u001b[49m\u001b[43mname\u001b[49m\u001b[43m,\u001b[49m\u001b[43m \u001b[49m\u001b[43mvalue\u001b[49m\u001b[43m)\u001b[49m\n\u001b[1;32m   6003\u001b[0m \u001b[38;5;28;01mexcept\u001b[39;00m \u001b[38;5;167;01mAttributeError\u001b[39;00m:\n\u001b[1;32m   6004\u001b[0m     \u001b[38;5;28;01mpass\u001b[39;00m\n",
      "File \u001b[0;32m~/Desktop/robust_training/.venv/lib/python3.8/site-packages/pandas/_libs/properties.pyx:69\u001b[0m, in \u001b[0;36mpandas._libs.properties.AxisProperty.__set__\u001b[0;34m()\u001b[0m\n",
      "File \u001b[0;32m~/Desktop/robust_training/.venv/lib/python3.8/site-packages/pandas/core/generic.py:730\u001b[0m, in \u001b[0;36mNDFrame._set_axis\u001b[0;34m(self, axis, labels)\u001b[0m\n\u001b[1;32m    725\u001b[0m \u001b[38;5;250m\u001b[39m\u001b[38;5;124;03m\"\"\"\u001b[39;00m\n\u001b[1;32m    726\u001b[0m \u001b[38;5;124;03mThis is called from the cython code when we set the `index` attribute\u001b[39;00m\n\u001b[1;32m    727\u001b[0m \u001b[38;5;124;03mdirectly, e.g. `series.index = [1, 2, 3]`.\u001b[39;00m\n\u001b[1;32m    728\u001b[0m \u001b[38;5;124;03m\"\"\"\u001b[39;00m\n\u001b[1;32m    729\u001b[0m labels \u001b[38;5;241m=\u001b[39m ensure_index(labels)\n\u001b[0;32m--> 730\u001b[0m \u001b[38;5;28;43mself\u001b[39;49m\u001b[38;5;241;43m.\u001b[39;49m\u001b[43m_mgr\u001b[49m\u001b[38;5;241;43m.\u001b[39;49m\u001b[43mset_axis\u001b[49m\u001b[43m(\u001b[49m\u001b[43maxis\u001b[49m\u001b[43m,\u001b[49m\u001b[43m \u001b[49m\u001b[43mlabels\u001b[49m\u001b[43m)\u001b[49m\n\u001b[1;32m    731\u001b[0m \u001b[38;5;28mself\u001b[39m\u001b[38;5;241m.\u001b[39m_clear_item_cache()\n",
      "File \u001b[0;32m~/Desktop/robust_training/.venv/lib/python3.8/site-packages/pandas/core/internals/managers.py:225\u001b[0m, in \u001b[0;36mBaseBlockManager.set_axis\u001b[0;34m(self, axis, new_labels)\u001b[0m\n\u001b[1;32m    223\u001b[0m \u001b[38;5;28;01mdef\u001b[39;00m \u001b[38;5;21mset_axis\u001b[39m(\u001b[38;5;28mself\u001b[39m, axis: AxisInt, new_labels: Index) \u001b[38;5;241m-\u001b[39m\u001b[38;5;241m>\u001b[39m \u001b[38;5;28;01mNone\u001b[39;00m:\n\u001b[1;32m    224\u001b[0m     \u001b[38;5;66;03m# Caller is responsible for ensuring we have an Index object.\u001b[39;00m\n\u001b[0;32m--> 225\u001b[0m     \u001b[38;5;28;43mself\u001b[39;49m\u001b[38;5;241;43m.\u001b[39;49m\u001b[43m_validate_set_axis\u001b[49m\u001b[43m(\u001b[49m\u001b[43maxis\u001b[49m\u001b[43m,\u001b[49m\u001b[43m \u001b[49m\u001b[43mnew_labels\u001b[49m\u001b[43m)\u001b[49m\n\u001b[1;32m    226\u001b[0m     \u001b[38;5;28mself\u001b[39m\u001b[38;5;241m.\u001b[39maxes[axis] \u001b[38;5;241m=\u001b[39m new_labels\n",
      "File \u001b[0;32m~/Desktop/robust_training/.venv/lib/python3.8/site-packages/pandas/core/internals/base.py:70\u001b[0m, in \u001b[0;36mDataManager._validate_set_axis\u001b[0;34m(self, axis, new_labels)\u001b[0m\n\u001b[1;32m     67\u001b[0m     \u001b[38;5;28;01mpass\u001b[39;00m\n\u001b[1;32m     69\u001b[0m \u001b[38;5;28;01melif\u001b[39;00m new_len \u001b[38;5;241m!=\u001b[39m old_len:\n\u001b[0;32m---> 70\u001b[0m     \u001b[38;5;28;01mraise\u001b[39;00m \u001b[38;5;167;01mValueError\u001b[39;00m(\n\u001b[1;32m     71\u001b[0m         \u001b[38;5;124mf\u001b[39m\u001b[38;5;124m\"\u001b[39m\u001b[38;5;124mLength mismatch: Expected axis has \u001b[39m\u001b[38;5;132;01m{\u001b[39;00mold_len\u001b[38;5;132;01m}\u001b[39;00m\u001b[38;5;124m elements, new \u001b[39m\u001b[38;5;124m\"\u001b[39m\n\u001b[1;32m     72\u001b[0m         \u001b[38;5;124mf\u001b[39m\u001b[38;5;124m\"\u001b[39m\u001b[38;5;124mvalues have \u001b[39m\u001b[38;5;132;01m{\u001b[39;00mnew_len\u001b[38;5;132;01m}\u001b[39;00m\u001b[38;5;124m elements\u001b[39m\u001b[38;5;124m\"\u001b[39m\n\u001b[1;32m     73\u001b[0m     )\n",
      "\u001b[0;31mValueError\u001b[0m: Length mismatch: Expected axis has 7 elements, new values have 6 elements"
     ]
    }
   ],
   "source": [
    "import plotly.graph_objects as go\n",
    "import pandas as pd\n",
    "\n",
    "# Load and prepare the data\n",
    "new_data = pd.read_csv('results/means.csv', skiprows=2)\n",
    "new_data.columns = ['active_strategy', 'size', 'final_clean_accuracy',\n",
    "                    'final_clean_accuracy_std', 'final_PGD_accuracy', 'final_PGD_accuracy_std']\n",
    "new_data['size'] = new_data['size'].astype(int)\n",
    "\n",
    "for performance in ['PGD_accuracy', 'clean_accuracy' ]:\n",
    "# performance = 'final_PGD_accuracy' \n",
    "# # performance = 'final_clean_accuracy'\n",
    "    fig = go.Figure()\n",
    "\n",
    "    # fig.add_trace(go.Scatter(x=[0, 50000], y=[ init_means_stds['init_'+performance]['mean'][0], init_means_stds['init_'+performance]['mean'][0] ],\n",
    "    #         mode='lines', line=dict(color='rgba({},{},{},1)'.format(0,0,204), width=2, dash='dot'),\n",
    "    #                     name='Init Accuracy', showlegend=True))\n",
    "\n",
    "\n",
    "    performance = 'final_'+performance\n",
    "    performance_std = performance + '_std'  # Corresponding standard deviation column\n",
    "\n",
    "    strategies = {\n",
    "        # 'attack_uncertainty': {'color': [204, 0, 204], 'label': 'attack-uncertainty'},  # Red\n",
    "        # 'full': {'color': [0, 0, 0], 'label': 'full'},  # Red\n",
    "        'uncertainty': {'color': [255, 161, 90], 'label':'uncertainty'},                    # Yellow\n",
    "        'random': {'color': [25, 211, 243], 'label':'random'},                    # Cyan\n",
    "        # 'entropy': {'color': [255, 102, 146], 'label':'entropy'},                  # Magenta\n",
    "        # 'attack': {'color': [182, 232, 128], 'label':'attack'},                   # Orange\n",
    "        # 'margin': {'color': [254, 203, 82], 'label':'margin'},\n",
    "    }\n",
    "\n",
    "\n",
    "    z_value = 2.576\n",
    "    n = 5\n",
    "\n",
    "    # Add a line for each strategy\n",
    "    for strategy, v in strategies.items():\n",
    "        r,g,b = v['color']\n",
    "        c = 'rgba({},{},{},1)'.format(r,g,b)\n",
    "\n",
    "        # Add a horizontal line for the 'full' strategy\n",
    "        if strategy == 'full':\n",
    "            pass\n",
    "        #     full_data = new_data[new_data['active_strategy'] == 'full']\n",
    "        #     # Calculate the mean PGD accuracy for the 'full' strategy\n",
    "        #     full_mean_accuracy = full_data[performance].mean()\n",
    "        #     fig.add_trace(go.Scatter(x=[min(new_data['size']), max(new_data['size'])], y=[full_mean_accuracy, full_mean_accuracy],\n",
    "        #                             mode='lines', line=dict(color=c, width=2, dash='dash'),\n",
    "        #                             name='Full Dataset Average', showlegend=True))\n",
    "            \n",
    "        #     strategy_data = new_data[new_data['active_strategy'] == strategy]\n",
    "        #     fig.add_trace(go.Scatter( x=strategy_data['size'],  y=strategy_data[performance],  mode='lines+markers',\n",
    "        #                     name=strategy, line=dict(color=c  ) ,\n",
    "        #                     error_y=dict(\n",
    "        #                     type='data',  symmetric=False,  \n",
    "        #                     array=z_value * strategy_data[performance_std] / n,  \n",
    "        #                     arrayminus=z_value * strategy_data[performance_std] / n   ), showlegend=False\n",
    "        #                         ))\n",
    "\n",
    "            \n",
    "        else:\n",
    "            strategy_data = new_data[new_data['active_strategy'] == strategy]\n",
    "            fig.add_trace(go.Scatter(x=strategy_data['size'], y=strategy_data[performance], line=dict(color=c),\n",
    "                                    error_y=dict(\n",
    "                                        type='data',  symmetric=False,  \n",
    "                                        array=z_value * strategy_data[performance_std] / n,  \n",
    "                                        arrayminus=z_value * strategy_data[performance_std] / n   ),\n",
    "                                    mode='lines+markers', name=strategy))\n",
    "\n",
    "\n",
    "    title_str = 'Robust accuracy' if performance=='final_PGD_accuracy' else 'Clean Accuracy'\n",
    "\n",
    "    # Update layout and display the plot\n",
    "    fig.update_layout(\n",
    "        width=600,  # Adjusted for two subplots\n",
    "        height=400,\n",
    "        plot_bgcolor='white',\n",
    "        paper_bgcolor='white',\n",
    "        margin=dict(l=0, r=0, t=50, b=0),\n",
    "        # title=\"Box Plot of Datasets by Cases and Columns\",\n",
    "        title=title_str,\n",
    "        xaxis_title='Size (% of training observations)',\n",
    "        yaxis_title=title_str,\n",
    "        legend_title='Data Selection Strategy',\n",
    "        # yaxis_range=[min(new_data[performance]) - 2, max(new_data[performance]) + 2],\n",
    "        showlegend=True,\n",
    "        xaxis=dict(\n",
    "            # type='log',\n",
    "            showgrid=True,        # Enable the grid\n",
    "            gridcolor='lightgray' # Set grid line color\n",
    "        ),\n",
    "        yaxis=dict(\n",
    "            showgrid=True,        # Enable the grid\n",
    "            gridcolor='lightgray', # Set grid line color\n",
    "            #range=[75,94] if 'clean' in performance else [45,65]\n",
    "        )\n",
    "        )\n",
    "\n",
    "    # Display the figure\n",
    "    fig.show()\n",
    "    # fig.write_image(\"./figures/results_{}_{}_{}_{}_{}.pdf\".format(performance, data, model, n_rounds, nb_epochs) )\n"
   ]
  }
 ],
 "metadata": {
  "kernelspec": {
   "display_name": ".venv",
   "language": "python",
   "name": "python3"
  },
  "language_info": {
   "codemirror_mode": {
    "name": "ipython",
    "version": 3
   },
   "file_extension": ".py",
   "mimetype": "text/x-python",
   "name": "python",
   "nbconvert_exporter": "python",
   "pygments_lexer": "ipython3",
   "version": "3.8.10"
  }
 },
 "nbformat": 4,
 "nbformat_minor": 2
}
