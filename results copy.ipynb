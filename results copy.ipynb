{
 "cells": [
  {
   "cell_type": "code",
   "execution_count": 1,
   "metadata": {},
   "outputs": [
    {
     "name": "stdout",
     "output_type": "stream",
     "text": [
      "{'active_strategy': 'uncertainty', 'n_rounds': 1, 'size': 1.0, 'nb_epochs': 60, 'seed': 0, 'data': 'CIFAR10', 'model': 'resnet50', 'init_clean_accuracy': 0.9365000128746033, 'card': 500, 'final_clean_accuracy': 0.7016000151634216, 'final_PGD_accuracy': 0.503600001335144}\n",
      "{'active_strategy': 'uncertainty', 'n_rounds': 1, 'size': 2.5, 'nb_epochs': 60, 'seed': 0, 'data': 'CIFAR10', 'model': 'resnet50', 'init_clean_accuracy': 0.9365000128746033, 'card': 1250, 'final_clean_accuracy': 0.7178000211715698, 'final_PGD_accuracy': 0.5475000143051147}\n",
      "{'active_strategy': 'uncertainty', 'n_rounds': 1, 'size': 10.0, 'nb_epochs': 60, 'seed': 0, 'data': 'CIFAR10', 'model': 'resnet50', 'init_clean_accuracy': 0.9365000128746033, 'card': 5000, 'final_clean_accuracy': 0.7766000032424927, 'final_PGD_accuracy': 0.6035000085830688}\n",
      "{'active_strategy': 'random', 'n_rounds': 1, 'size': 1.0, 'nb_epochs': 60, 'seed': 0, 'data': 'CIFAR10', 'model': 'resnet50', 'init_clean_accuracy': 0.9365000128746033, 'card': 500, 'final_clean_accuracy': 0.701200008392334, 'final_PGD_accuracy': 0.5892999768257141}\n",
      "{'active_strategy': 'random', 'n_rounds': 1, 'size': 2.5, 'nb_epochs': 60, 'seed': 0, 'data': 'CIFAR10', 'model': 'resnet50', 'init_clean_accuracy': 0.9365000128746033, 'card': 1250, 'final_clean_accuracy': 0.722000002861023, 'final_PGD_accuracy': 0.6147000193595886}\n",
      "{'active_strategy': 'random', 'n_rounds': 1, 'size': 10.0, 'nb_epochs': 60, 'seed': 0, 'data': 'CIFAR10', 'model': 'resnet50', 'init_clean_accuracy': 0.9365000128746033, 'card': 5000, 'final_clean_accuracy': 0.7251999974250793, 'final_PGD_accuracy': 0.6348000168800354}\n"
     ]
    }
   ],
   "source": [
    "import gzip\n",
    "import pickle as pkl\n",
    "\n",
    "\n",
    "data = 'CIFAR10'\n",
    "model = 'resnet50'\n",
    "n_rounds = 1\n",
    "nb_epochs = 60\n",
    "seeds = 1\n",
    "\n",
    "results_list = []\n",
    "for active_strategy in [ 'uncertainty', 'random']: #'attack_uncertainty', 'attack', 'margin', 'entropy',\n",
    "    for size in [1.0, 2.5, 10.0]: \n",
    "        for seed in range(seeds):\n",
    "            try:\n",
    "                with gzip.open('./results/{}_{}_{}_{}_{}_{}_{}.pkl.gz'.format(data, model, active_strategy, n_rounds, size, nb_epochs, seed), 'rb') as f:\n",
    "                    result = pkl.load(f)\n",
    "                    result['active_strategy'] = active_strategy\n",
    "                print(result)\n",
    "                results_list.append(result)\n",
    "            except:\n",
    "                print('issue')\n",
    "                pass\n",
    "\n",
    "\n",
    "# active_strategy = 'full'\n",
    "# size = 50000\n",
    "\n",
    "# # FAT_CIFAR10_resnet50_full_1_50000_60_0.pkl.gz\n",
    "\n",
    "# for seed in range(seeds):\n",
    "\n",
    "#     try:\n",
    "#         with gzip.open('./results/{}_{}_{}_{}_{}_{}_{}_{}.pkl.gz'.format(loss, data, model, active_strategy, n_rounds, size, nb_epochs, seed), 'rb') as f:\n",
    "#             result = pkl.load(f)\n",
    "#             result['active_strategy'] = active_strategy\n",
    "#             result['size'] = 50000\n",
    "#             print(result)\n",
    "#             results_list.append(result)\n",
    "#     except:\n",
    "#         print('issue')\n",
    "#         pass\n",
    "\n",
    "\n",
    "# clean_accuracy_init = result['init_clean_accuracy']\n",
    "# PGD_accuracy_init = result['init_PGD_accuracy']"
   ]
  },
  {
   "cell_type": "code",
   "execution_count": 13,
   "metadata": {},
   "outputs": [
    {
     "data": {
      "text/html": [
       "<div>\n",
       "<style scoped>\n",
       "    .dataframe tbody tr th:only-of-type {\n",
       "        vertical-align: middle;\n",
       "    }\n",
       "\n",
       "    .dataframe tbody tr th {\n",
       "        vertical-align: top;\n",
       "    }\n",
       "\n",
       "    .dataframe thead th {\n",
       "        text-align: right;\n",
       "    }\n",
       "</style>\n",
       "<table border=\"1\" class=\"dataframe\">\n",
       "  <thead>\n",
       "    <tr style=\"text-align: right;\">\n",
       "      <th></th>\n",
       "      <th>active_strategy</th>\n",
       "      <th>n_rounds</th>\n",
       "      <th>size</th>\n",
       "      <th>nb_epochs</th>\n",
       "      <th>seed</th>\n",
       "      <th>data</th>\n",
       "      <th>model</th>\n",
       "      <th>init_clean_accuracy</th>\n",
       "      <th>card</th>\n",
       "      <th>final_clean_accuracy</th>\n",
       "      <th>final_PGD_accuracy</th>\n",
       "    </tr>\n",
       "  </thead>\n",
       "  <tbody>\n",
       "    <tr>\n",
       "      <th>0</th>\n",
       "      <td>uncertainty</td>\n",
       "      <td>1</td>\n",
       "      <td>1.0</td>\n",
       "      <td>60</td>\n",
       "      <td>0</td>\n",
       "      <td>CIFAR10</td>\n",
       "      <td>resnet50</td>\n",
       "      <td>0.9365</td>\n",
       "      <td>500</td>\n",
       "      <td>0.7016</td>\n",
       "      <td>0.5036</td>\n",
       "    </tr>\n",
       "    <tr>\n",
       "      <th>1</th>\n",
       "      <td>uncertainty</td>\n",
       "      <td>1</td>\n",
       "      <td>2.5</td>\n",
       "      <td>60</td>\n",
       "      <td>0</td>\n",
       "      <td>CIFAR10</td>\n",
       "      <td>resnet50</td>\n",
       "      <td>0.9365</td>\n",
       "      <td>1250</td>\n",
       "      <td>0.7178</td>\n",
       "      <td>0.5475</td>\n",
       "    </tr>\n",
       "    <tr>\n",
       "      <th>2</th>\n",
       "      <td>uncertainty</td>\n",
       "      <td>1</td>\n",
       "      <td>10.0</td>\n",
       "      <td>60</td>\n",
       "      <td>0</td>\n",
       "      <td>CIFAR10</td>\n",
       "      <td>resnet50</td>\n",
       "      <td>0.9365</td>\n",
       "      <td>5000</td>\n",
       "      <td>0.7766</td>\n",
       "      <td>0.6035</td>\n",
       "    </tr>\n",
       "    <tr>\n",
       "      <th>3</th>\n",
       "      <td>random</td>\n",
       "      <td>1</td>\n",
       "      <td>1.0</td>\n",
       "      <td>60</td>\n",
       "      <td>0</td>\n",
       "      <td>CIFAR10</td>\n",
       "      <td>resnet50</td>\n",
       "      <td>0.9365</td>\n",
       "      <td>500</td>\n",
       "      <td>0.7012</td>\n",
       "      <td>0.5893</td>\n",
       "    </tr>\n",
       "    <tr>\n",
       "      <th>4</th>\n",
       "      <td>random</td>\n",
       "      <td>1</td>\n",
       "      <td>2.5</td>\n",
       "      <td>60</td>\n",
       "      <td>0</td>\n",
       "      <td>CIFAR10</td>\n",
       "      <td>resnet50</td>\n",
       "      <td>0.9365</td>\n",
       "      <td>1250</td>\n",
       "      <td>0.7220</td>\n",
       "      <td>0.6147</td>\n",
       "    </tr>\n",
       "    <tr>\n",
       "      <th>5</th>\n",
       "      <td>random</td>\n",
       "      <td>1</td>\n",
       "      <td>10.0</td>\n",
       "      <td>60</td>\n",
       "      <td>0</td>\n",
       "      <td>CIFAR10</td>\n",
       "      <td>resnet50</td>\n",
       "      <td>0.9365</td>\n",
       "      <td>5000</td>\n",
       "      <td>0.7252</td>\n",
       "      <td>0.6348</td>\n",
       "    </tr>\n",
       "  </tbody>\n",
       "</table>\n",
       "</div>"
      ],
      "text/plain": [
       "  active_strategy  n_rounds  size  nb_epochs  seed     data     model  \\\n",
       "0     uncertainty         1   1.0         60     0  CIFAR10  resnet50   \n",
       "1     uncertainty         1   2.5         60     0  CIFAR10  resnet50   \n",
       "2     uncertainty         1  10.0         60     0  CIFAR10  resnet50   \n",
       "3          random         1   1.0         60     0  CIFAR10  resnet50   \n",
       "4          random         1   2.5         60     0  CIFAR10  resnet50   \n",
       "5          random         1  10.0         60     0  CIFAR10  resnet50   \n",
       "\n",
       "   init_clean_accuracy  card  final_clean_accuracy  final_PGD_accuracy  \n",
       "0               0.9365   500                0.7016              0.5036  \n",
       "1               0.9365  1250                0.7178              0.5475  \n",
       "2               0.9365  5000                0.7766              0.6035  \n",
       "3               0.9365   500                0.7012              0.5893  \n",
       "4               0.9365  1250                0.7220              0.6147  \n",
       "5               0.9365  5000                0.7252              0.6348  "
      ]
     },
     "execution_count": 13,
     "metadata": {},
     "output_type": "execute_result"
    }
   ],
   "source": [
    "df"
   ]
  },
  {
   "cell_type": "code",
   "execution_count": 12,
   "metadata": {},
   "outputs": [],
   "source": [
    "import pandas as pd\n",
    "# Convert the list of dictionaries to a DataFrame\n",
    "df = pd.DataFrame(results_list)\n",
    "\n",
    "# Assuming df is your DataFrame\n",
    "means_stds = df.groupby(['active_strategy', 'size']).agg({\n",
    "    'final_clean_accuracy': ['mean', 'std' ],\n",
    "    'final_PGD_accuracy': ['mean', 'std']\n",
    "})\n",
    "\n",
    "# Assuming df is your DataFrame\n",
    "# init_means_stds = df.groupby(['active_strategy', ]).agg({\n",
    "#     'init_clean_accuracy': ['mean',  'std' ],\n",
    "#     'init_PGD_accuracy': ['mean',  'std' ],\n",
    "# })\n",
    "\n",
    "means_stds.to_csv('./results/means.csv', index=True)"
   ]
  },
  {
   "cell_type": "code",
   "execution_count": 14,
   "metadata": {},
   "outputs": [
    {
     "data": {
      "application/vnd.plotly.v1+json": {
       "config": {
        "plotlyServerURL": "https://plot.ly"
       },
       "data": [
        {
         "error_y": {
          "array": [],
          "arrayminus": [],
          "symmetric": false,
          "type": "data"
         },
         "line": {
          "color": "rgba(204,0,204,1)"
         },
         "mode": "lines+markers",
         "name": "attack_uncertainty",
         "type": "scatter",
         "x": [],
         "y": []
        },
        {
         "line": {
          "color": "rgba(0,0,0,1)",
          "dash": "dash",
          "width": 2
         },
         "mode": "lines",
         "name": "Full Dataset Average",
         "showlegend": true,
         "type": "scatter",
         "x": [
          1,
          10
         ],
         "y": [
          null,
          null
         ]
        },
        {
         "error_y": {
          "array": [],
          "arrayminus": [],
          "symmetric": false,
          "type": "data"
         },
         "line": {
          "color": "rgba(0,0,0,1)"
         },
         "mode": "lines+markers",
         "name": "full",
         "showlegend": false,
         "type": "scatter",
         "x": [],
         "y": []
        },
        {
         "error_y": {
          "array": [
           null,
           null,
           null
          ],
          "arrayminus": [
           null,
           null,
           null
          ],
          "symmetric": false,
          "type": "data"
         },
         "line": {
          "color": "rgba(255,161,90,1)"
         },
         "mode": "lines+markers",
         "name": "uncertainty",
         "type": "scatter",
         "x": [
          1,
          2,
          10
         ],
         "y": [
          0.503600001335144,
          0.5475000143051147,
          0.6035000085830688
         ]
        },
        {
         "error_y": {
          "array": [
           null,
           null,
           null
          ],
          "arrayminus": [
           null,
           null,
           null
          ],
          "symmetric": false,
          "type": "data"
         },
         "line": {
          "color": "rgba(25,211,243,1)"
         },
         "mode": "lines+markers",
         "name": "random",
         "type": "scatter",
         "x": [
          1,
          2,
          10
         ],
         "y": [
          0.5892999768257141,
          0.6147000193595886,
          0.6348000168800354
         ]
        },
        {
         "error_y": {
          "array": [],
          "arrayminus": [],
          "symmetric": false,
          "type": "data"
         },
         "line": {
          "color": "rgba(255,102,146,1)"
         },
         "mode": "lines+markers",
         "name": "entropy",
         "type": "scatter",
         "x": [],
         "y": []
        },
        {
         "error_y": {
          "array": [],
          "arrayminus": [],
          "symmetric": false,
          "type": "data"
         },
         "line": {
          "color": "rgba(182,232,128,1)"
         },
         "mode": "lines+markers",
         "name": "attack",
         "type": "scatter",
         "x": [],
         "y": []
        },
        {
         "error_y": {
          "array": [],
          "arrayminus": [],
          "symmetric": false,
          "type": "data"
         },
         "line": {
          "color": "rgba(254,203,82,1)"
         },
         "mode": "lines+markers",
         "name": "margin",
         "type": "scatter",
         "x": [],
         "y": []
        }
       ],
       "layout": {
        "height": 400,
        "legend": {
         "title": {
          "text": "Active Strategy"
         }
        },
        "margin": {
         "b": 0,
         "l": 0,
         "r": 0,
         "t": 50
        },
        "paper_bgcolor": "white",
        "plot_bgcolor": "white",
        "showlegend": true,
        "template": {
         "data": {
          "bar": [
           {
            "error_x": {
             "color": "#2a3f5f"
            },
            "error_y": {
             "color": "#2a3f5f"
            },
            "marker": {
             "line": {
              "color": "#E5ECF6",
              "width": 0.5
             },
             "pattern": {
              "fillmode": "overlay",
              "size": 10,
              "solidity": 0.2
             }
            },
            "type": "bar"
           }
          ],
          "barpolar": [
           {
            "marker": {
             "line": {
              "color": "#E5ECF6",
              "width": 0.5
             },
             "pattern": {
              "fillmode": "overlay",
              "size": 10,
              "solidity": 0.2
             }
            },
            "type": "barpolar"
           }
          ],
          "carpet": [
           {
            "aaxis": {
             "endlinecolor": "#2a3f5f",
             "gridcolor": "white",
             "linecolor": "white",
             "minorgridcolor": "white",
             "startlinecolor": "#2a3f5f"
            },
            "baxis": {
             "endlinecolor": "#2a3f5f",
             "gridcolor": "white",
             "linecolor": "white",
             "minorgridcolor": "white",
             "startlinecolor": "#2a3f5f"
            },
            "type": "carpet"
           }
          ],
          "choropleth": [
           {
            "colorbar": {
             "outlinewidth": 0,
             "ticks": ""
            },
            "type": "choropleth"
           }
          ],
          "contour": [
           {
            "colorbar": {
             "outlinewidth": 0,
             "ticks": ""
            },
            "colorscale": [
             [
              0,
              "#0d0887"
             ],
             [
              0.1111111111111111,
              "#46039f"
             ],
             [
              0.2222222222222222,
              "#7201a8"
             ],
             [
              0.3333333333333333,
              "#9c179e"
             ],
             [
              0.4444444444444444,
              "#bd3786"
             ],
             [
              0.5555555555555556,
              "#d8576b"
             ],
             [
              0.6666666666666666,
              "#ed7953"
             ],
             [
              0.7777777777777778,
              "#fb9f3a"
             ],
             [
              0.8888888888888888,
              "#fdca26"
             ],
             [
              1,
              "#f0f921"
             ]
            ],
            "type": "contour"
           }
          ],
          "contourcarpet": [
           {
            "colorbar": {
             "outlinewidth": 0,
             "ticks": ""
            },
            "type": "contourcarpet"
           }
          ],
          "heatmap": [
           {
            "colorbar": {
             "outlinewidth": 0,
             "ticks": ""
            },
            "colorscale": [
             [
              0,
              "#0d0887"
             ],
             [
              0.1111111111111111,
              "#46039f"
             ],
             [
              0.2222222222222222,
              "#7201a8"
             ],
             [
              0.3333333333333333,
              "#9c179e"
             ],
             [
              0.4444444444444444,
              "#bd3786"
             ],
             [
              0.5555555555555556,
              "#d8576b"
             ],
             [
              0.6666666666666666,
              "#ed7953"
             ],
             [
              0.7777777777777778,
              "#fb9f3a"
             ],
             [
              0.8888888888888888,
              "#fdca26"
             ],
             [
              1,
              "#f0f921"
             ]
            ],
            "type": "heatmap"
           }
          ],
          "heatmapgl": [
           {
            "colorbar": {
             "outlinewidth": 0,
             "ticks": ""
            },
            "colorscale": [
             [
              0,
              "#0d0887"
             ],
             [
              0.1111111111111111,
              "#46039f"
             ],
             [
              0.2222222222222222,
              "#7201a8"
             ],
             [
              0.3333333333333333,
              "#9c179e"
             ],
             [
              0.4444444444444444,
              "#bd3786"
             ],
             [
              0.5555555555555556,
              "#d8576b"
             ],
             [
              0.6666666666666666,
              "#ed7953"
             ],
             [
              0.7777777777777778,
              "#fb9f3a"
             ],
             [
              0.8888888888888888,
              "#fdca26"
             ],
             [
              1,
              "#f0f921"
             ]
            ],
            "type": "heatmapgl"
           }
          ],
          "histogram": [
           {
            "marker": {
             "pattern": {
              "fillmode": "overlay",
              "size": 10,
              "solidity": 0.2
             }
            },
            "type": "histogram"
           }
          ],
          "histogram2d": [
           {
            "colorbar": {
             "outlinewidth": 0,
             "ticks": ""
            },
            "colorscale": [
             [
              0,
              "#0d0887"
             ],
             [
              0.1111111111111111,
              "#46039f"
             ],
             [
              0.2222222222222222,
              "#7201a8"
             ],
             [
              0.3333333333333333,
              "#9c179e"
             ],
             [
              0.4444444444444444,
              "#bd3786"
             ],
             [
              0.5555555555555556,
              "#d8576b"
             ],
             [
              0.6666666666666666,
              "#ed7953"
             ],
             [
              0.7777777777777778,
              "#fb9f3a"
             ],
             [
              0.8888888888888888,
              "#fdca26"
             ],
             [
              1,
              "#f0f921"
             ]
            ],
            "type": "histogram2d"
           }
          ],
          "histogram2dcontour": [
           {
            "colorbar": {
             "outlinewidth": 0,
             "ticks": ""
            },
            "colorscale": [
             [
              0,
              "#0d0887"
             ],
             [
              0.1111111111111111,
              "#46039f"
             ],
             [
              0.2222222222222222,
              "#7201a8"
             ],
             [
              0.3333333333333333,
              "#9c179e"
             ],
             [
              0.4444444444444444,
              "#bd3786"
             ],
             [
              0.5555555555555556,
              "#d8576b"
             ],
             [
              0.6666666666666666,
              "#ed7953"
             ],
             [
              0.7777777777777778,
              "#fb9f3a"
             ],
             [
              0.8888888888888888,
              "#fdca26"
             ],
             [
              1,
              "#f0f921"
             ]
            ],
            "type": "histogram2dcontour"
           }
          ],
          "mesh3d": [
           {
            "colorbar": {
             "outlinewidth": 0,
             "ticks": ""
            },
            "type": "mesh3d"
           }
          ],
          "parcoords": [
           {
            "line": {
             "colorbar": {
              "outlinewidth": 0,
              "ticks": ""
             }
            },
            "type": "parcoords"
           }
          ],
          "pie": [
           {
            "automargin": true,
            "type": "pie"
           }
          ],
          "scatter": [
           {
            "fillpattern": {
             "fillmode": "overlay",
             "size": 10,
             "solidity": 0.2
            },
            "type": "scatter"
           }
          ],
          "scatter3d": [
           {
            "line": {
             "colorbar": {
              "outlinewidth": 0,
              "ticks": ""
             }
            },
            "marker": {
             "colorbar": {
              "outlinewidth": 0,
              "ticks": ""
             }
            },
            "type": "scatter3d"
           }
          ],
          "scattercarpet": [
           {
            "marker": {
             "colorbar": {
              "outlinewidth": 0,
              "ticks": ""
             }
            },
            "type": "scattercarpet"
           }
          ],
          "scattergeo": [
           {
            "marker": {
             "colorbar": {
              "outlinewidth": 0,
              "ticks": ""
             }
            },
            "type": "scattergeo"
           }
          ],
          "scattergl": [
           {
            "marker": {
             "colorbar": {
              "outlinewidth": 0,
              "ticks": ""
             }
            },
            "type": "scattergl"
           }
          ],
          "scattermapbox": [
           {
            "marker": {
             "colorbar": {
              "outlinewidth": 0,
              "ticks": ""
             }
            },
            "type": "scattermapbox"
           }
          ],
          "scatterpolar": [
           {
            "marker": {
             "colorbar": {
              "outlinewidth": 0,
              "ticks": ""
             }
            },
            "type": "scatterpolar"
           }
          ],
          "scatterpolargl": [
           {
            "marker": {
             "colorbar": {
              "outlinewidth": 0,
              "ticks": ""
             }
            },
            "type": "scatterpolargl"
           }
          ],
          "scatterternary": [
           {
            "marker": {
             "colorbar": {
              "outlinewidth": 0,
              "ticks": ""
             }
            },
            "type": "scatterternary"
           }
          ],
          "surface": [
           {
            "colorbar": {
             "outlinewidth": 0,
             "ticks": ""
            },
            "colorscale": [
             [
              0,
              "#0d0887"
             ],
             [
              0.1111111111111111,
              "#46039f"
             ],
             [
              0.2222222222222222,
              "#7201a8"
             ],
             [
              0.3333333333333333,
              "#9c179e"
             ],
             [
              0.4444444444444444,
              "#bd3786"
             ],
             [
              0.5555555555555556,
              "#d8576b"
             ],
             [
              0.6666666666666666,
              "#ed7953"
             ],
             [
              0.7777777777777778,
              "#fb9f3a"
             ],
             [
              0.8888888888888888,
              "#fdca26"
             ],
             [
              1,
              "#f0f921"
             ]
            ],
            "type": "surface"
           }
          ],
          "table": [
           {
            "cells": {
             "fill": {
              "color": "#EBF0F8"
             },
             "line": {
              "color": "white"
             }
            },
            "header": {
             "fill": {
              "color": "#C8D4E3"
             },
             "line": {
              "color": "white"
             }
            },
            "type": "table"
           }
          ]
         },
         "layout": {
          "annotationdefaults": {
           "arrowcolor": "#2a3f5f",
           "arrowhead": 0,
           "arrowwidth": 1
          },
          "autotypenumbers": "strict",
          "coloraxis": {
           "colorbar": {
            "outlinewidth": 0,
            "ticks": ""
           }
          },
          "colorscale": {
           "diverging": [
            [
             0,
             "#8e0152"
            ],
            [
             0.1,
             "#c51b7d"
            ],
            [
             0.2,
             "#de77ae"
            ],
            [
             0.3,
             "#f1b6da"
            ],
            [
             0.4,
             "#fde0ef"
            ],
            [
             0.5,
             "#f7f7f7"
            ],
            [
             0.6,
             "#e6f5d0"
            ],
            [
             0.7,
             "#b8e186"
            ],
            [
             0.8,
             "#7fbc41"
            ],
            [
             0.9,
             "#4d9221"
            ],
            [
             1,
             "#276419"
            ]
           ],
           "sequential": [
            [
             0,
             "#0d0887"
            ],
            [
             0.1111111111111111,
             "#46039f"
            ],
            [
             0.2222222222222222,
             "#7201a8"
            ],
            [
             0.3333333333333333,
             "#9c179e"
            ],
            [
             0.4444444444444444,
             "#bd3786"
            ],
            [
             0.5555555555555556,
             "#d8576b"
            ],
            [
             0.6666666666666666,
             "#ed7953"
            ],
            [
             0.7777777777777778,
             "#fb9f3a"
            ],
            [
             0.8888888888888888,
             "#fdca26"
            ],
            [
             1,
             "#f0f921"
            ]
           ],
           "sequentialminus": [
            [
             0,
             "#0d0887"
            ],
            [
             0.1111111111111111,
             "#46039f"
            ],
            [
             0.2222222222222222,
             "#7201a8"
            ],
            [
             0.3333333333333333,
             "#9c179e"
            ],
            [
             0.4444444444444444,
             "#bd3786"
            ],
            [
             0.5555555555555556,
             "#d8576b"
            ],
            [
             0.6666666666666666,
             "#ed7953"
            ],
            [
             0.7777777777777778,
             "#fb9f3a"
            ],
            [
             0.8888888888888888,
             "#fdca26"
            ],
            [
             1,
             "#f0f921"
            ]
           ]
          },
          "colorway": [
           "#636efa",
           "#EF553B",
           "#00cc96",
           "#ab63fa",
           "#FFA15A",
           "#19d3f3",
           "#FF6692",
           "#B6E880",
           "#FF97FF",
           "#FECB52"
          ],
          "font": {
           "color": "#2a3f5f"
          },
          "geo": {
           "bgcolor": "white",
           "lakecolor": "white",
           "landcolor": "#E5ECF6",
           "showlakes": true,
           "showland": true,
           "subunitcolor": "white"
          },
          "hoverlabel": {
           "align": "left"
          },
          "hovermode": "closest",
          "mapbox": {
           "style": "light"
          },
          "paper_bgcolor": "white",
          "plot_bgcolor": "#E5ECF6",
          "polar": {
           "angularaxis": {
            "gridcolor": "white",
            "linecolor": "white",
            "ticks": ""
           },
           "bgcolor": "#E5ECF6",
           "radialaxis": {
            "gridcolor": "white",
            "linecolor": "white",
            "ticks": ""
           }
          },
          "scene": {
           "xaxis": {
            "backgroundcolor": "#E5ECF6",
            "gridcolor": "white",
            "gridwidth": 2,
            "linecolor": "white",
            "showbackground": true,
            "ticks": "",
            "zerolinecolor": "white"
           },
           "yaxis": {
            "backgroundcolor": "#E5ECF6",
            "gridcolor": "white",
            "gridwidth": 2,
            "linecolor": "white",
            "showbackground": true,
            "ticks": "",
            "zerolinecolor": "white"
           },
           "zaxis": {
            "backgroundcolor": "#E5ECF6",
            "gridcolor": "white",
            "gridwidth": 2,
            "linecolor": "white",
            "showbackground": true,
            "ticks": "",
            "zerolinecolor": "white"
           }
          },
          "shapedefaults": {
           "line": {
            "color": "#2a3f5f"
           }
          },
          "ternary": {
           "aaxis": {
            "gridcolor": "white",
            "linecolor": "white",
            "ticks": ""
           },
           "baxis": {
            "gridcolor": "white",
            "linecolor": "white",
            "ticks": ""
           },
           "bgcolor": "#E5ECF6",
           "caxis": {
            "gridcolor": "white",
            "linecolor": "white",
            "ticks": ""
           }
          },
          "title": {
           "x": 0.05
          },
          "xaxis": {
           "automargin": true,
           "gridcolor": "white",
           "linecolor": "white",
           "ticks": "",
           "title": {
            "standoff": 15
           },
           "zerolinecolor": "white",
           "zerolinewidth": 2
          },
          "yaxis": {
           "automargin": true,
           "gridcolor": "white",
           "linecolor": "white",
           "ticks": "",
           "title": {
            "standoff": 15
           },
           "zerolinecolor": "white",
           "zerolinewidth": 2
          }
         }
        },
        "title": {
         "text": "final_PGD_accuracy by Strategy and Size"
        },
        "width": 600,
        "xaxis": {
         "gridcolor": "lightgray",
         "showgrid": true,
         "title": {
          "text": "Size"
         }
        },
        "yaxis": {
         "gridcolor": "lightgray",
         "showgrid": true,
         "title": {
          "text": "final_PGD_accuracy"
         }
        }
       }
      }
     },
     "metadata": {},
     "output_type": "display_data"
    },
    {
     "data": {
      "application/vnd.plotly.v1+json": {
       "config": {
        "plotlyServerURL": "https://plot.ly"
       },
       "data": [
        {
         "error_y": {
          "array": [],
          "arrayminus": [],
          "symmetric": false,
          "type": "data"
         },
         "line": {
          "color": "rgba(204,0,204,1)"
         },
         "mode": "lines+markers",
         "name": "attack_uncertainty",
         "type": "scatter",
         "x": [],
         "y": []
        },
        {
         "line": {
          "color": "rgba(0,0,0,1)",
          "dash": "dash",
          "width": 2
         },
         "mode": "lines",
         "name": "Full Dataset Average",
         "showlegend": true,
         "type": "scatter",
         "x": [
          1,
          10
         ],
         "y": [
          null,
          null
         ]
        },
        {
         "error_y": {
          "array": [],
          "arrayminus": [],
          "symmetric": false,
          "type": "data"
         },
         "line": {
          "color": "rgba(0,0,0,1)"
         },
         "mode": "lines+markers",
         "name": "full",
         "showlegend": false,
         "type": "scatter",
         "x": [],
         "y": []
        },
        {
         "error_y": {
          "array": [
           null,
           null,
           null
          ],
          "arrayminus": [
           null,
           null,
           null
          ],
          "symmetric": false,
          "type": "data"
         },
         "line": {
          "color": "rgba(255,161,90,1)"
         },
         "mode": "lines+markers",
         "name": "uncertainty",
         "type": "scatter",
         "x": [
          1,
          2,
          10
         ],
         "y": [
          0.7016000151634216,
          0.7178000211715698,
          0.7766000032424927
         ]
        },
        {
         "error_y": {
          "array": [
           null,
           null,
           null
          ],
          "arrayminus": [
           null,
           null,
           null
          ],
          "symmetric": false,
          "type": "data"
         },
         "line": {
          "color": "rgba(25,211,243,1)"
         },
         "mode": "lines+markers",
         "name": "random",
         "type": "scatter",
         "x": [
          1,
          2,
          10
         ],
         "y": [
          0.701200008392334,
          0.722000002861023,
          0.7251999974250793
         ]
        },
        {
         "error_y": {
          "array": [],
          "arrayminus": [],
          "symmetric": false,
          "type": "data"
         },
         "line": {
          "color": "rgba(255,102,146,1)"
         },
         "mode": "lines+markers",
         "name": "entropy",
         "type": "scatter",
         "x": [],
         "y": []
        },
        {
         "error_y": {
          "array": [],
          "arrayminus": [],
          "symmetric": false,
          "type": "data"
         },
         "line": {
          "color": "rgba(182,232,128,1)"
         },
         "mode": "lines+markers",
         "name": "attack",
         "type": "scatter",
         "x": [],
         "y": []
        },
        {
         "error_y": {
          "array": [],
          "arrayminus": [],
          "symmetric": false,
          "type": "data"
         },
         "line": {
          "color": "rgba(254,203,82,1)"
         },
         "mode": "lines+markers",
         "name": "margin",
         "type": "scatter",
         "x": [],
         "y": []
        }
       ],
       "layout": {
        "height": 400,
        "legend": {
         "title": {
          "text": "Active Strategy"
         }
        },
        "margin": {
         "b": 0,
         "l": 0,
         "r": 0,
         "t": 50
        },
        "paper_bgcolor": "white",
        "plot_bgcolor": "white",
        "showlegend": true,
        "template": {
         "data": {
          "bar": [
           {
            "error_x": {
             "color": "#2a3f5f"
            },
            "error_y": {
             "color": "#2a3f5f"
            },
            "marker": {
             "line": {
              "color": "#E5ECF6",
              "width": 0.5
             },
             "pattern": {
              "fillmode": "overlay",
              "size": 10,
              "solidity": 0.2
             }
            },
            "type": "bar"
           }
          ],
          "barpolar": [
           {
            "marker": {
             "line": {
              "color": "#E5ECF6",
              "width": 0.5
             },
             "pattern": {
              "fillmode": "overlay",
              "size": 10,
              "solidity": 0.2
             }
            },
            "type": "barpolar"
           }
          ],
          "carpet": [
           {
            "aaxis": {
             "endlinecolor": "#2a3f5f",
             "gridcolor": "white",
             "linecolor": "white",
             "minorgridcolor": "white",
             "startlinecolor": "#2a3f5f"
            },
            "baxis": {
             "endlinecolor": "#2a3f5f",
             "gridcolor": "white",
             "linecolor": "white",
             "minorgridcolor": "white",
             "startlinecolor": "#2a3f5f"
            },
            "type": "carpet"
           }
          ],
          "choropleth": [
           {
            "colorbar": {
             "outlinewidth": 0,
             "ticks": ""
            },
            "type": "choropleth"
           }
          ],
          "contour": [
           {
            "colorbar": {
             "outlinewidth": 0,
             "ticks": ""
            },
            "colorscale": [
             [
              0,
              "#0d0887"
             ],
             [
              0.1111111111111111,
              "#46039f"
             ],
             [
              0.2222222222222222,
              "#7201a8"
             ],
             [
              0.3333333333333333,
              "#9c179e"
             ],
             [
              0.4444444444444444,
              "#bd3786"
             ],
             [
              0.5555555555555556,
              "#d8576b"
             ],
             [
              0.6666666666666666,
              "#ed7953"
             ],
             [
              0.7777777777777778,
              "#fb9f3a"
             ],
             [
              0.8888888888888888,
              "#fdca26"
             ],
             [
              1,
              "#f0f921"
             ]
            ],
            "type": "contour"
           }
          ],
          "contourcarpet": [
           {
            "colorbar": {
             "outlinewidth": 0,
             "ticks": ""
            },
            "type": "contourcarpet"
           }
          ],
          "heatmap": [
           {
            "colorbar": {
             "outlinewidth": 0,
             "ticks": ""
            },
            "colorscale": [
             [
              0,
              "#0d0887"
             ],
             [
              0.1111111111111111,
              "#46039f"
             ],
             [
              0.2222222222222222,
              "#7201a8"
             ],
             [
              0.3333333333333333,
              "#9c179e"
             ],
             [
              0.4444444444444444,
              "#bd3786"
             ],
             [
              0.5555555555555556,
              "#d8576b"
             ],
             [
              0.6666666666666666,
              "#ed7953"
             ],
             [
              0.7777777777777778,
              "#fb9f3a"
             ],
             [
              0.8888888888888888,
              "#fdca26"
             ],
             [
              1,
              "#f0f921"
             ]
            ],
            "type": "heatmap"
           }
          ],
          "heatmapgl": [
           {
            "colorbar": {
             "outlinewidth": 0,
             "ticks": ""
            },
            "colorscale": [
             [
              0,
              "#0d0887"
             ],
             [
              0.1111111111111111,
              "#46039f"
             ],
             [
              0.2222222222222222,
              "#7201a8"
             ],
             [
              0.3333333333333333,
              "#9c179e"
             ],
             [
              0.4444444444444444,
              "#bd3786"
             ],
             [
              0.5555555555555556,
              "#d8576b"
             ],
             [
              0.6666666666666666,
              "#ed7953"
             ],
             [
              0.7777777777777778,
              "#fb9f3a"
             ],
             [
              0.8888888888888888,
              "#fdca26"
             ],
             [
              1,
              "#f0f921"
             ]
            ],
            "type": "heatmapgl"
           }
          ],
          "histogram": [
           {
            "marker": {
             "pattern": {
              "fillmode": "overlay",
              "size": 10,
              "solidity": 0.2
             }
            },
            "type": "histogram"
           }
          ],
          "histogram2d": [
           {
            "colorbar": {
             "outlinewidth": 0,
             "ticks": ""
            },
            "colorscale": [
             [
              0,
              "#0d0887"
             ],
             [
              0.1111111111111111,
              "#46039f"
             ],
             [
              0.2222222222222222,
              "#7201a8"
             ],
             [
              0.3333333333333333,
              "#9c179e"
             ],
             [
              0.4444444444444444,
              "#bd3786"
             ],
             [
              0.5555555555555556,
              "#d8576b"
             ],
             [
              0.6666666666666666,
              "#ed7953"
             ],
             [
              0.7777777777777778,
              "#fb9f3a"
             ],
             [
              0.8888888888888888,
              "#fdca26"
             ],
             [
              1,
              "#f0f921"
             ]
            ],
            "type": "histogram2d"
           }
          ],
          "histogram2dcontour": [
           {
            "colorbar": {
             "outlinewidth": 0,
             "ticks": ""
            },
            "colorscale": [
             [
              0,
              "#0d0887"
             ],
             [
              0.1111111111111111,
              "#46039f"
             ],
             [
              0.2222222222222222,
              "#7201a8"
             ],
             [
              0.3333333333333333,
              "#9c179e"
             ],
             [
              0.4444444444444444,
              "#bd3786"
             ],
             [
              0.5555555555555556,
              "#d8576b"
             ],
             [
              0.6666666666666666,
              "#ed7953"
             ],
             [
              0.7777777777777778,
              "#fb9f3a"
             ],
             [
              0.8888888888888888,
              "#fdca26"
             ],
             [
              1,
              "#f0f921"
             ]
            ],
            "type": "histogram2dcontour"
           }
          ],
          "mesh3d": [
           {
            "colorbar": {
             "outlinewidth": 0,
             "ticks": ""
            },
            "type": "mesh3d"
           }
          ],
          "parcoords": [
           {
            "line": {
             "colorbar": {
              "outlinewidth": 0,
              "ticks": ""
             }
            },
            "type": "parcoords"
           }
          ],
          "pie": [
           {
            "automargin": true,
            "type": "pie"
           }
          ],
          "scatter": [
           {
            "fillpattern": {
             "fillmode": "overlay",
             "size": 10,
             "solidity": 0.2
            },
            "type": "scatter"
           }
          ],
          "scatter3d": [
           {
            "line": {
             "colorbar": {
              "outlinewidth": 0,
              "ticks": ""
             }
            },
            "marker": {
             "colorbar": {
              "outlinewidth": 0,
              "ticks": ""
             }
            },
            "type": "scatter3d"
           }
          ],
          "scattercarpet": [
           {
            "marker": {
             "colorbar": {
              "outlinewidth": 0,
              "ticks": ""
             }
            },
            "type": "scattercarpet"
           }
          ],
          "scattergeo": [
           {
            "marker": {
             "colorbar": {
              "outlinewidth": 0,
              "ticks": ""
             }
            },
            "type": "scattergeo"
           }
          ],
          "scattergl": [
           {
            "marker": {
             "colorbar": {
              "outlinewidth": 0,
              "ticks": ""
             }
            },
            "type": "scattergl"
           }
          ],
          "scattermapbox": [
           {
            "marker": {
             "colorbar": {
              "outlinewidth": 0,
              "ticks": ""
             }
            },
            "type": "scattermapbox"
           }
          ],
          "scatterpolar": [
           {
            "marker": {
             "colorbar": {
              "outlinewidth": 0,
              "ticks": ""
             }
            },
            "type": "scatterpolar"
           }
          ],
          "scatterpolargl": [
           {
            "marker": {
             "colorbar": {
              "outlinewidth": 0,
              "ticks": ""
             }
            },
            "type": "scatterpolargl"
           }
          ],
          "scatterternary": [
           {
            "marker": {
             "colorbar": {
              "outlinewidth": 0,
              "ticks": ""
             }
            },
            "type": "scatterternary"
           }
          ],
          "surface": [
           {
            "colorbar": {
             "outlinewidth": 0,
             "ticks": ""
            },
            "colorscale": [
             [
              0,
              "#0d0887"
             ],
             [
              0.1111111111111111,
              "#46039f"
             ],
             [
              0.2222222222222222,
              "#7201a8"
             ],
             [
              0.3333333333333333,
              "#9c179e"
             ],
             [
              0.4444444444444444,
              "#bd3786"
             ],
             [
              0.5555555555555556,
              "#d8576b"
             ],
             [
              0.6666666666666666,
              "#ed7953"
             ],
             [
              0.7777777777777778,
              "#fb9f3a"
             ],
             [
              0.8888888888888888,
              "#fdca26"
             ],
             [
              1,
              "#f0f921"
             ]
            ],
            "type": "surface"
           }
          ],
          "table": [
           {
            "cells": {
             "fill": {
              "color": "#EBF0F8"
             },
             "line": {
              "color": "white"
             }
            },
            "header": {
             "fill": {
              "color": "#C8D4E3"
             },
             "line": {
              "color": "white"
             }
            },
            "type": "table"
           }
          ]
         },
         "layout": {
          "annotationdefaults": {
           "arrowcolor": "#2a3f5f",
           "arrowhead": 0,
           "arrowwidth": 1
          },
          "autotypenumbers": "strict",
          "coloraxis": {
           "colorbar": {
            "outlinewidth": 0,
            "ticks": ""
           }
          },
          "colorscale": {
           "diverging": [
            [
             0,
             "#8e0152"
            ],
            [
             0.1,
             "#c51b7d"
            ],
            [
             0.2,
             "#de77ae"
            ],
            [
             0.3,
             "#f1b6da"
            ],
            [
             0.4,
             "#fde0ef"
            ],
            [
             0.5,
             "#f7f7f7"
            ],
            [
             0.6,
             "#e6f5d0"
            ],
            [
             0.7,
             "#b8e186"
            ],
            [
             0.8,
             "#7fbc41"
            ],
            [
             0.9,
             "#4d9221"
            ],
            [
             1,
             "#276419"
            ]
           ],
           "sequential": [
            [
             0,
             "#0d0887"
            ],
            [
             0.1111111111111111,
             "#46039f"
            ],
            [
             0.2222222222222222,
             "#7201a8"
            ],
            [
             0.3333333333333333,
             "#9c179e"
            ],
            [
             0.4444444444444444,
             "#bd3786"
            ],
            [
             0.5555555555555556,
             "#d8576b"
            ],
            [
             0.6666666666666666,
             "#ed7953"
            ],
            [
             0.7777777777777778,
             "#fb9f3a"
            ],
            [
             0.8888888888888888,
             "#fdca26"
            ],
            [
             1,
             "#f0f921"
            ]
           ],
           "sequentialminus": [
            [
             0,
             "#0d0887"
            ],
            [
             0.1111111111111111,
             "#46039f"
            ],
            [
             0.2222222222222222,
             "#7201a8"
            ],
            [
             0.3333333333333333,
             "#9c179e"
            ],
            [
             0.4444444444444444,
             "#bd3786"
            ],
            [
             0.5555555555555556,
             "#d8576b"
            ],
            [
             0.6666666666666666,
             "#ed7953"
            ],
            [
             0.7777777777777778,
             "#fb9f3a"
            ],
            [
             0.8888888888888888,
             "#fdca26"
            ],
            [
             1,
             "#f0f921"
            ]
           ]
          },
          "colorway": [
           "#636efa",
           "#EF553B",
           "#00cc96",
           "#ab63fa",
           "#FFA15A",
           "#19d3f3",
           "#FF6692",
           "#B6E880",
           "#FF97FF",
           "#FECB52"
          ],
          "font": {
           "color": "#2a3f5f"
          },
          "geo": {
           "bgcolor": "white",
           "lakecolor": "white",
           "landcolor": "#E5ECF6",
           "showlakes": true,
           "showland": true,
           "subunitcolor": "white"
          },
          "hoverlabel": {
           "align": "left"
          },
          "hovermode": "closest",
          "mapbox": {
           "style": "light"
          },
          "paper_bgcolor": "white",
          "plot_bgcolor": "#E5ECF6",
          "polar": {
           "angularaxis": {
            "gridcolor": "white",
            "linecolor": "white",
            "ticks": ""
           },
           "bgcolor": "#E5ECF6",
           "radialaxis": {
            "gridcolor": "white",
            "linecolor": "white",
            "ticks": ""
           }
          },
          "scene": {
           "xaxis": {
            "backgroundcolor": "#E5ECF6",
            "gridcolor": "white",
            "gridwidth": 2,
            "linecolor": "white",
            "showbackground": true,
            "ticks": "",
            "zerolinecolor": "white"
           },
           "yaxis": {
            "backgroundcolor": "#E5ECF6",
            "gridcolor": "white",
            "gridwidth": 2,
            "linecolor": "white",
            "showbackground": true,
            "ticks": "",
            "zerolinecolor": "white"
           },
           "zaxis": {
            "backgroundcolor": "#E5ECF6",
            "gridcolor": "white",
            "gridwidth": 2,
            "linecolor": "white",
            "showbackground": true,
            "ticks": "",
            "zerolinecolor": "white"
           }
          },
          "shapedefaults": {
           "line": {
            "color": "#2a3f5f"
           }
          },
          "ternary": {
           "aaxis": {
            "gridcolor": "white",
            "linecolor": "white",
            "ticks": ""
           },
           "baxis": {
            "gridcolor": "white",
            "linecolor": "white",
            "ticks": ""
           },
           "bgcolor": "#E5ECF6",
           "caxis": {
            "gridcolor": "white",
            "linecolor": "white",
            "ticks": ""
           }
          },
          "title": {
           "x": 0.05
          },
          "xaxis": {
           "automargin": true,
           "gridcolor": "white",
           "linecolor": "white",
           "ticks": "",
           "title": {
            "standoff": 15
           },
           "zerolinecolor": "white",
           "zerolinewidth": 2
          },
          "yaxis": {
           "automargin": true,
           "gridcolor": "white",
           "linecolor": "white",
           "ticks": "",
           "title": {
            "standoff": 15
           },
           "zerolinecolor": "white",
           "zerolinewidth": 2
          }
         }
        },
        "title": {
         "text": "final_clean_accuracy by Strategy and Size"
        },
        "width": 600,
        "xaxis": {
         "gridcolor": "lightgray",
         "showgrid": true,
         "title": {
          "text": "Size"
         }
        },
        "yaxis": {
         "gridcolor": "lightgray",
         "showgrid": true,
         "title": {
          "text": "final_clean_accuracy"
         }
        }
       }
      }
     },
     "metadata": {},
     "output_type": "display_data"
    }
   ],
   "source": [
    "import plotly.graph_objects as go\n",
    "import pandas as pd\n",
    "\n",
    "# Load and prepare the data\n",
    "new_data = pd.read_csv('results/means.csv', skiprows=2)\n",
    "new_data.columns = ['active_strategy', 'size', 'final_clean_accuracy',\n",
    "                    'final_clean_accuracy_std', 'final_PGD_accuracy', 'final_PGD_accuracy_std']\n",
    "new_data['size'] = new_data['size'].astype(int)\n",
    "\n",
    "\n",
    "for performance in ['PGD_accuracy', 'clean_accuracy' ]:\n",
    "# performance = 'final_PGD_accuracy' \n",
    "# # performance = 'final_clean_accuracy'\n",
    "    fig = go.Figure()\n",
    "\n",
    "    # fig.add_trace(go.Scatter(x=[0, 50000], y=[ init_means_stds['init_'+performance]['mean'][0], init_means_stds['init_'+performance]['mean'][0] ],\n",
    "    #         mode='lines', line=dict(color='rgba({},{},{},1)'.format(0,0,204), width=2, dash='dot'),\n",
    "    #                     name='Init Accuracy', showlegend=True))\n",
    "\n",
    "\n",
    "    performance = 'final_'+performance\n",
    "    performance_std = performance + '_std'  # Corresponding standard deviation column\n",
    "\n",
    "    strategies = {\n",
    "        'attack_uncertainty': {'color': [204, 0, 204], 'label': 'attack-uncertainty'},  # Red\n",
    "        'full': {'color': [0, 0, 0], 'label': 'full'},  # Red\n",
    "        'uncertainty': {'color': [255, 161, 90], 'label':'uncertainty'},                    # Yellow\n",
    "        'random': {'color': [25, 211, 243], 'label':'random'},                    # Cyan\n",
    "        'entropy': {'color': [255, 102, 146], 'label':'entropy'},                  # Magenta\n",
    "        'attack': {'color': [182, 232, 128], 'label':'attack'},                   # Orange\n",
    "        'margin': {'color': [254, 203, 82], 'label':'margin'},\n",
    "    }\n",
    "\n",
    "\n",
    "    z_value = 2.576\n",
    "    n = 5\n",
    "\n",
    "    # Add a line for each strategy\n",
    "    for strategy, v in strategies.items():\n",
    "        r,g,b = v['color']\n",
    "        c = 'rgba({},{},{},1)'.format(r,g,b)\n",
    "\n",
    "        # Add a horizontal line for the 'full' strategy\n",
    "        if strategy == 'full':\n",
    "            full_data = new_data[new_data['active_strategy'] == 'full']\n",
    "            # Calculate the mean PGD accuracy for the 'full' strategy\n",
    "            full_mean_accuracy = full_data[performance].mean()\n",
    "            fig.add_trace(go.Scatter(x=[min(new_data['size']), max(new_data['size'])], y=[full_mean_accuracy, full_mean_accuracy],\n",
    "                                    mode='lines', line=dict(color=c, width=2, dash='dash'),\n",
    "                                    name='Full Dataset Average', showlegend=True))\n",
    "            \n",
    "            strategy_data = new_data[new_data['active_strategy'] == strategy]\n",
    "            fig.add_trace(go.Scatter( x=strategy_data['size'],  y=strategy_data[performance],  mode='lines+markers',\n",
    "                            name=strategy, line=dict(color=c  ) ,\n",
    "                            error_y=dict(\n",
    "                            type='data',  symmetric=False,  \n",
    "                            array=z_value * strategy_data[performance_std] / n,  \n",
    "                            arrayminus=z_value * strategy_data[performance_std] / n   ), showlegend=False\n",
    "                                ))\n",
    "\n",
    "            \n",
    "        else:\n",
    "            strategy_data = new_data[new_data['active_strategy'] == strategy]\n",
    "            fig.add_trace(go.Scatter(x=strategy_data['size'], y=strategy_data[performance], line=dict(color=c),\n",
    "                                    error_y=dict(\n",
    "                                        type='data',  symmetric=False,  \n",
    "                                        array=z_value * strategy_data[performance_std] / n,  \n",
    "                                        arrayminus=z_value * strategy_data[performance_std] / n   ),\n",
    "                                    mode='lines+markers', name=strategy))\n",
    "\n",
    "\n",
    "\n",
    "\n",
    "    # Update layout and display the plot\n",
    "    fig.update_layout(\n",
    "        width=600,  # Adjusted for two subplots\n",
    "        height=400,\n",
    "        plot_bgcolor='white',\n",
    "        paper_bgcolor='white',\n",
    "        margin=dict(l=0, r=0, t=50, b=0),\n",
    "        # title=\"Box Plot of Datasets by Cases and Columns\",\n",
    "        title='{} by Strategy and Size'.format(performance),\n",
    "        xaxis_title='Size',\n",
    "        yaxis_title=performance,\n",
    "        legend_title='Active Strategy',\n",
    "        # yaxis_range=[min(new_data[performance]) - 2, max(new_data[performance]) + 2],\n",
    "        showlegend=True,\n",
    "        xaxis=dict(\n",
    "            # type='log',\n",
    "            showgrid=True,        # Enable the grid\n",
    "            gridcolor='lightgray' # Set grid line color\n",
    "        ),\n",
    "        yaxis=dict(\n",
    "            showgrid=True,        # Enable the grid\n",
    "            gridcolor='lightgray', # Set grid line color\n",
    "            #range=[75,94] if 'clean' in performance else [45,65]\n",
    "        )\n",
    "        )\n",
    "\n",
    "    # Display the figure\n",
    "    fig.show()\n",
    "    # fig.write_image(\"./figures/results_{}_{}_{}_{}_{}_{}.pdf\".format(loss,performance, data, model, n_rounds, nb_epochs) )\n"
   ]
  }
 ],
 "metadata": {
  "kernelspec": {
   "display_name": ".venv",
   "language": "python",
   "name": "python3"
  },
  "language_info": {
   "codemirror_mode": {
    "name": "ipython",
    "version": 3
   },
   "file_extension": ".py",
   "mimetype": "text/x-python",
   "name": "python",
   "nbconvert_exporter": "python",
   "pygments_lexer": "ipython3",
   "version": "3.8.10"
  }
 },
 "nbformat": 4,
 "nbformat_minor": 2
}
