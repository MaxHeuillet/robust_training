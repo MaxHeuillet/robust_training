{
 "cells": [
  {
   "cell_type": "code",
   "execution_count": 25,
   "metadata": {},
   "outputs": [
    {
     "name": "stdout",
     "output_type": "stream",
     "text": [
      "{'active_strategy': 'attack', 'n_rounds': 6, 'size': 500, 'nb_epochs': 10, 'seed': 0, 'data': 'CIFAR10', 'model': 'resnet50', 'init_clean_accuracy': 93.66, 'init_PGD_accuracy': 46.85, 'final_clean_accuracy': 88.46, 'final_PGD_accuracy': 33.66}\n",
      "{'active_strategy': 'attack', 'n_rounds': 6, 'size': 500, 'nb_epochs': 10, 'seed': 1, 'data': 'CIFAR10', 'model': 'resnet50', 'init_clean_accuracy': 93.66, 'init_PGD_accuracy': 46.91, 'final_clean_accuracy': 88.77, 'final_PGD_accuracy': 32.81}\n",
      "{'active_strategy': 'attack', 'n_rounds': 6, 'size': 500, 'nb_epochs': 10, 'seed': 2, 'data': 'CIFAR10', 'model': 'resnet50', 'init_clean_accuracy': 93.66, 'init_PGD_accuracy': 46.77, 'final_clean_accuracy': 87.1, 'final_PGD_accuracy': 26.87}\n",
      "{'active_strategy': 'attack', 'n_rounds': 6, 'size': 2500, 'nb_epochs': 10, 'seed': 0, 'data': 'CIFAR10', 'model': 'resnet50', 'init_clean_accuracy': 93.66, 'init_PGD_accuracy': 46.85, 'final_clean_accuracy': 88.05, 'final_PGD_accuracy': 37.84}\n",
      "{'active_strategy': 'attack', 'n_rounds': 6, 'size': 2500, 'nb_epochs': 10, 'seed': 1, 'data': 'CIFAR10', 'model': 'resnet50', 'init_clean_accuracy': 93.66, 'init_PGD_accuracy': 46.91, 'final_clean_accuracy': 89.45, 'final_PGD_accuracy': 38.52}\n",
      "{'active_strategy': 'attack', 'n_rounds': 6, 'size': 2500, 'nb_epochs': 10, 'seed': 2, 'data': 'CIFAR10', 'model': 'resnet50', 'init_clean_accuracy': 93.66, 'init_PGD_accuracy': 46.77, 'final_clean_accuracy': 89.11, 'final_PGD_accuracy': 42.05}\n",
      "{'active_strategy': 'attack', 'n_rounds': 6, 'size': 5000, 'nb_epochs': 10, 'seed': 0, 'data': 'CIFAR10', 'model': 'resnet50', 'init_clean_accuracy': 93.66, 'init_PGD_accuracy': 46.85, 'final_clean_accuracy': 86.95, 'final_PGD_accuracy': 39.52}\n",
      "{'active_strategy': 'attack', 'n_rounds': 6, 'size': 5000, 'nb_epochs': 10, 'seed': 1, 'data': 'CIFAR10', 'model': 'resnet50', 'init_clean_accuracy': 93.66, 'init_PGD_accuracy': 46.91, 'final_clean_accuracy': 87.42, 'final_PGD_accuracy': 43.48}\n",
      "{'active_strategy': 'attack', 'n_rounds': 6, 'size': 5000, 'nb_epochs': 10, 'seed': 2, 'data': 'CIFAR10', 'model': 'resnet50', 'init_clean_accuracy': 93.66, 'init_PGD_accuracy': 46.77, 'final_clean_accuracy': 87.7, 'final_PGD_accuracy': 40.01}\n",
      "{'active_strategy': 'attack', 'n_rounds': 6, 'size': 7500, 'nb_epochs': 10, 'seed': 0, 'data': 'CIFAR10', 'model': 'resnet50', 'init_clean_accuracy': 93.66, 'init_PGD_accuracy': 46.85, 'final_clean_accuracy': 87.07, 'final_PGD_accuracy': 37.45}\n",
      "{'active_strategy': 'attack', 'n_rounds': 6, 'size': 7500, 'nb_epochs': 10, 'seed': 1, 'data': 'CIFAR10', 'model': 'resnet50', 'init_clean_accuracy': 93.66, 'init_PGD_accuracy': 46.91, 'final_clean_accuracy': 87.91, 'final_PGD_accuracy': 40.21}\n",
      "{'active_strategy': 'attack', 'n_rounds': 6, 'size': 7500, 'nb_epochs': 10, 'seed': 2, 'data': 'CIFAR10', 'model': 'resnet50', 'init_clean_accuracy': 93.66, 'init_PGD_accuracy': 46.77, 'final_clean_accuracy': 86.88, 'final_PGD_accuracy': 37.32}\n",
      "{'active_strategy': 'attack', 'n_rounds': 6, 'size': 10000, 'nb_epochs': 10, 'seed': 0, 'data': 'CIFAR10', 'model': 'resnet50', 'init_clean_accuracy': 93.66, 'init_PGD_accuracy': 46.85, 'final_clean_accuracy': 86.8, 'final_PGD_accuracy': 41.68}\n",
      "{'active_strategy': 'attack', 'n_rounds': 6, 'size': 10000, 'nb_epochs': 10, 'seed': 1, 'data': 'CIFAR10', 'model': 'resnet50', 'init_clean_accuracy': 93.66, 'init_PGD_accuracy': 46.91, 'final_clean_accuracy': 88.0, 'final_PGD_accuracy': 37.79}\n",
      "{'active_strategy': 'attack', 'n_rounds': 6, 'size': 10000, 'nb_epochs': 10, 'seed': 2, 'data': 'CIFAR10', 'model': 'resnet50', 'init_clean_accuracy': 93.66, 'init_PGD_accuracy': 46.77, 'final_clean_accuracy': 87.38, 'final_PGD_accuracy': 40.71}\n",
      "{'active_strategy': 'attack', 'n_rounds': 6, 'size': 12500, 'nb_epochs': 10, 'seed': 0, 'data': 'CIFAR10', 'model': 'resnet50', 'init_clean_accuracy': 93.66, 'init_PGD_accuracy': 46.85, 'final_clean_accuracy': 85.91, 'final_PGD_accuracy': 35.92}\n",
      "{'active_strategy': 'attack', 'n_rounds': 6, 'size': 12500, 'nb_epochs': 10, 'seed': 1, 'data': 'CIFAR10', 'model': 'resnet50', 'init_clean_accuracy': 93.66, 'init_PGD_accuracy': 46.91, 'final_clean_accuracy': 86.86, 'final_PGD_accuracy': 41.31}\n",
      "{'active_strategy': 'attack', 'n_rounds': 6, 'size': 12500, 'nb_epochs': 10, 'seed': 2, 'data': 'CIFAR10', 'model': 'resnet50', 'init_clean_accuracy': 93.66, 'init_PGD_accuracy': 46.77, 'final_clean_accuracy': 87.09, 'final_PGD_accuracy': 38.51}\n",
      "{'active_strategy': 'attack', 'n_rounds': 6, 'size': 25000, 'nb_epochs': 10, 'seed': 0, 'data': 'CIFAR10', 'model': 'resnet50', 'init_clean_accuracy': 93.66, 'init_PGD_accuracy': 46.85, 'final_clean_accuracy': 86.46, 'final_PGD_accuracy': 36.63}\n",
      "{'active_strategy': 'attack', 'n_rounds': 6, 'size': 25000, 'nb_epochs': 10, 'seed': 1, 'data': 'CIFAR10', 'model': 'resnet50', 'init_clean_accuracy': 93.66, 'init_PGD_accuracy': 46.91, 'final_clean_accuracy': 83.13, 'final_PGD_accuracy': 33.87}\n",
      "{'active_strategy': 'attack', 'n_rounds': 6, 'size': 25000, 'nb_epochs': 10, 'seed': 2, 'data': 'CIFAR10', 'model': 'resnet50', 'init_clean_accuracy': 93.66, 'init_PGD_accuracy': 46.77, 'final_clean_accuracy': 84.68, 'final_PGD_accuracy': 37.87}\n",
      "issue\n",
      "issue\n",
      "issue\n",
      "{'active_strategy': 'uncertainty', 'n_rounds': 6, 'size': 500, 'nb_epochs': 10, 'seed': 0, 'data': 'CIFAR10', 'model': 'resnet50', 'init_clean_accuracy': 93.66, 'init_PGD_accuracy': 46.85, 'final_clean_accuracy': 88.15, 'final_PGD_accuracy': 32.95}\n",
      "{'active_strategy': 'uncertainty', 'n_rounds': 6, 'size': 500, 'nb_epochs': 10, 'seed': 1, 'data': 'CIFAR10', 'model': 'resnet50', 'init_clean_accuracy': 93.66, 'init_PGD_accuracy': 46.91, 'final_clean_accuracy': 87.53, 'final_PGD_accuracy': 35.06}\n",
      "{'active_strategy': 'uncertainty', 'n_rounds': 6, 'size': 500, 'nb_epochs': 10, 'seed': 2, 'data': 'CIFAR10', 'model': 'resnet50', 'init_clean_accuracy': 93.66, 'init_PGD_accuracy': 46.77, 'final_clean_accuracy': 87.35, 'final_PGD_accuracy': 32.73}\n",
      "{'active_strategy': 'uncertainty', 'n_rounds': 6, 'size': 2500, 'nb_epochs': 10, 'seed': 0, 'data': 'CIFAR10', 'model': 'resnet50', 'init_clean_accuracy': 93.66, 'init_PGD_accuracy': 46.85, 'final_clean_accuracy': 82.96, 'final_PGD_accuracy': 38.87}\n",
      "{'active_strategy': 'uncertainty', 'n_rounds': 6, 'size': 2500, 'nb_epochs': 10, 'seed': 1, 'data': 'CIFAR10', 'model': 'resnet50', 'init_clean_accuracy': 93.66, 'init_PGD_accuracy': 46.91, 'final_clean_accuracy': 83.58, 'final_PGD_accuracy': 40.45}\n",
      "{'active_strategy': 'uncertainty', 'n_rounds': 6, 'size': 2500, 'nb_epochs': 10, 'seed': 2, 'data': 'CIFAR10', 'model': 'resnet50', 'init_clean_accuracy': 93.66, 'init_PGD_accuracy': 46.77, 'final_clean_accuracy': 83.59, 'final_PGD_accuracy': 37.08}\n",
      "{'active_strategy': 'uncertainty', 'n_rounds': 6, 'size': 5000, 'nb_epochs': 10, 'seed': 0, 'data': 'CIFAR10', 'model': 'resnet50', 'init_clean_accuracy': 93.66, 'init_PGD_accuracy': 46.85, 'final_clean_accuracy': 82.92, 'final_PGD_accuracy': 40.99}\n",
      "{'active_strategy': 'uncertainty', 'n_rounds': 6, 'size': 5000, 'nb_epochs': 10, 'seed': 1, 'data': 'CIFAR10', 'model': 'resnet50', 'init_clean_accuracy': 93.66, 'init_PGD_accuracy': 46.91, 'final_clean_accuracy': 81.28, 'final_PGD_accuracy': 39.41}\n",
      "{'active_strategy': 'uncertainty', 'n_rounds': 6, 'size': 5000, 'nb_epochs': 10, 'seed': 2, 'data': 'CIFAR10', 'model': 'resnet50', 'init_clean_accuracy': 93.66, 'init_PGD_accuracy': 46.77, 'final_clean_accuracy': 79.5, 'final_PGD_accuracy': 39.94}\n",
      "{'active_strategy': 'uncertainty', 'n_rounds': 6, 'size': 7500, 'nb_epochs': 10, 'seed': 0, 'data': 'CIFAR10', 'model': 'resnet50', 'init_clean_accuracy': 93.66, 'init_PGD_accuracy': 46.85, 'final_clean_accuracy': 82.34, 'final_PGD_accuracy': 37.3}\n",
      "{'active_strategy': 'uncertainty', 'n_rounds': 6, 'size': 7500, 'nb_epochs': 10, 'seed': 1, 'data': 'CIFAR10', 'model': 'resnet50', 'init_clean_accuracy': 93.66, 'init_PGD_accuracy': 46.91, 'final_clean_accuracy': 84.36, 'final_PGD_accuracy': 38.46}\n",
      "{'active_strategy': 'uncertainty', 'n_rounds': 6, 'size': 7500, 'nb_epochs': 10, 'seed': 2, 'data': 'CIFAR10', 'model': 'resnet50', 'init_clean_accuracy': 93.66, 'init_PGD_accuracy': 46.77, 'final_clean_accuracy': 81.83, 'final_PGD_accuracy': 38.57}\n",
      "{'active_strategy': 'uncertainty', 'n_rounds': 6, 'size': 10000, 'nb_epochs': 10, 'seed': 0, 'data': 'CIFAR10', 'model': 'resnet50', 'init_clean_accuracy': 93.66, 'init_PGD_accuracy': 46.85, 'final_clean_accuracy': 83.34, 'final_PGD_accuracy': 39.94}\n",
      "{'active_strategy': 'uncertainty', 'n_rounds': 6, 'size': 10000, 'nb_epochs': 10, 'seed': 1, 'data': 'CIFAR10', 'model': 'resnet50', 'init_clean_accuracy': 93.66, 'init_PGD_accuracy': 46.91, 'final_clean_accuracy': 82.09, 'final_PGD_accuracy': 37.08}\n",
      "{'active_strategy': 'uncertainty', 'n_rounds': 6, 'size': 10000, 'nb_epochs': 10, 'seed': 2, 'data': 'CIFAR10', 'model': 'resnet50', 'init_clean_accuracy': 93.66, 'init_PGD_accuracy': 46.77, 'final_clean_accuracy': 82.34, 'final_PGD_accuracy': 39.37}\n",
      "{'active_strategy': 'uncertainty', 'n_rounds': 6, 'size': 12500, 'nb_epochs': 10, 'seed': 0, 'data': 'CIFAR10', 'model': 'resnet50', 'init_clean_accuracy': 93.66, 'init_PGD_accuracy': 46.85, 'final_clean_accuracy': 82.32, 'final_PGD_accuracy': 36.31}\n",
      "{'active_strategy': 'uncertainty', 'n_rounds': 6, 'size': 12500, 'nb_epochs': 10, 'seed': 1, 'data': 'CIFAR10', 'model': 'resnet50', 'init_clean_accuracy': 93.66, 'init_PGD_accuracy': 46.91, 'final_clean_accuracy': 82.29, 'final_PGD_accuracy': 34.24}\n",
      "{'active_strategy': 'uncertainty', 'n_rounds': 6, 'size': 12500, 'nb_epochs': 10, 'seed': 2, 'data': 'CIFAR10', 'model': 'resnet50', 'init_clean_accuracy': 93.66, 'init_PGD_accuracy': 46.77, 'final_clean_accuracy': 84.56, 'final_PGD_accuracy': 41.12}\n",
      "{'active_strategy': 'uncertainty', 'n_rounds': 6, 'size': 25000, 'nb_epochs': 10, 'seed': 0, 'data': 'CIFAR10', 'model': 'resnet50', 'init_clean_accuracy': 93.66, 'init_PGD_accuracy': 46.85, 'final_clean_accuracy': 82.36, 'final_PGD_accuracy': 37.13}\n",
      "{'active_strategy': 'uncertainty', 'n_rounds': 6, 'size': 25000, 'nb_epochs': 10, 'seed': 1, 'data': 'CIFAR10', 'model': 'resnet50', 'init_clean_accuracy': 93.66, 'init_PGD_accuracy': 46.91, 'final_clean_accuracy': 82.13, 'final_PGD_accuracy': 37.29}\n",
      "{'active_strategy': 'uncertainty', 'n_rounds': 6, 'size': 25000, 'nb_epochs': 10, 'seed': 2, 'data': 'CIFAR10', 'model': 'resnet50', 'init_clean_accuracy': 93.66, 'init_PGD_accuracy': 46.77, 'final_clean_accuracy': 80.77, 'final_PGD_accuracy': 36.62}\n",
      "{'active_strategy': 'uncertainty', 'n_rounds': 6, 'size': 37500, 'nb_epochs': 10, 'seed': 0, 'data': 'CIFAR10', 'model': 'resnet50', 'init_clean_accuracy': 93.66, 'init_PGD_accuracy': 46.85, 'final_clean_accuracy': 82.34, 'final_PGD_accuracy': 37.01}\n",
      "{'active_strategy': 'uncertainty', 'n_rounds': 6, 'size': 37500, 'nb_epochs': 10, 'seed': 1, 'data': 'CIFAR10', 'model': 'resnet50', 'init_clean_accuracy': 93.66, 'init_PGD_accuracy': 46.91, 'final_clean_accuracy': 83.55, 'final_PGD_accuracy': 39.21}\n",
      "{'active_strategy': 'uncertainty', 'n_rounds': 6, 'size': 37500, 'nb_epochs': 10, 'seed': 2, 'data': 'CIFAR10', 'model': 'resnet50', 'init_clean_accuracy': 93.66, 'init_PGD_accuracy': 46.77, 'final_clean_accuracy': 83.29, 'final_PGD_accuracy': 39.75}\n",
      "{'active_strategy': 'margin', 'n_rounds': 6, 'size': 500, 'nb_epochs': 10, 'seed': 0, 'data': 'CIFAR10', 'model': 'resnet50', 'init_clean_accuracy': 93.66, 'init_PGD_accuracy': 46.85, 'final_clean_accuracy': 87.51, 'final_PGD_accuracy': 36.04}\n",
      "{'active_strategy': 'margin', 'n_rounds': 6, 'size': 500, 'nb_epochs': 10, 'seed': 1, 'data': 'CIFAR10', 'model': 'resnet50', 'init_clean_accuracy': 93.66, 'init_PGD_accuracy': 46.91, 'final_clean_accuracy': 88.5, 'final_PGD_accuracy': 39.58}\n",
      "{'active_strategy': 'margin', 'n_rounds': 6, 'size': 500, 'nb_epochs': 10, 'seed': 2, 'data': 'CIFAR10', 'model': 'resnet50', 'init_clean_accuracy': 93.66, 'init_PGD_accuracy': 46.77, 'final_clean_accuracy': 87.21, 'final_PGD_accuracy': 38.44}\n",
      "{'active_strategy': 'margin', 'n_rounds': 6, 'size': 2500, 'nb_epochs': 10, 'seed': 0, 'data': 'CIFAR10', 'model': 'resnet50', 'init_clean_accuracy': 93.66, 'init_PGD_accuracy': 46.85, 'final_clean_accuracy': 81.63, 'final_PGD_accuracy': 38.42}\n",
      "{'active_strategy': 'margin', 'n_rounds': 6, 'size': 2500, 'nb_epochs': 10, 'seed': 1, 'data': 'CIFAR10', 'model': 'resnet50', 'init_clean_accuracy': 93.66, 'init_PGD_accuracy': 46.91, 'final_clean_accuracy': 80.65, 'final_PGD_accuracy': 36.17}\n",
      "{'active_strategy': 'margin', 'n_rounds': 6, 'size': 2500, 'nb_epochs': 10, 'seed': 2, 'data': 'CIFAR10', 'model': 'resnet50', 'init_clean_accuracy': 93.66, 'init_PGD_accuracy': 46.77, 'final_clean_accuracy': 84.93, 'final_PGD_accuracy': 42.05}\n",
      "{'active_strategy': 'margin', 'n_rounds': 6, 'size': 5000, 'nb_epochs': 10, 'seed': 0, 'data': 'CIFAR10', 'model': 'resnet50', 'init_clean_accuracy': 93.66, 'init_PGD_accuracy': 46.85, 'final_clean_accuracy': 79.05, 'final_PGD_accuracy': 34.13}\n",
      "{'active_strategy': 'margin', 'n_rounds': 6, 'size': 5000, 'nb_epochs': 10, 'seed': 1, 'data': 'CIFAR10', 'model': 'resnet50', 'init_clean_accuracy': 93.66, 'init_PGD_accuracy': 46.91, 'final_clean_accuracy': 78.17, 'final_PGD_accuracy': 31.5}\n",
      "{'active_strategy': 'margin', 'n_rounds': 6, 'size': 5000, 'nb_epochs': 10, 'seed': 2, 'data': 'CIFAR10', 'model': 'resnet50', 'init_clean_accuracy': 93.66, 'init_PGD_accuracy': 46.77, 'final_clean_accuracy': 82.89, 'final_PGD_accuracy': 39.96}\n",
      "{'active_strategy': 'margin', 'n_rounds': 6, 'size': 7500, 'nb_epochs': 10, 'seed': 0, 'data': 'CIFAR10', 'model': 'resnet50', 'init_clean_accuracy': 93.66, 'init_PGD_accuracy': 46.85, 'final_clean_accuracy': 80.22, 'final_PGD_accuracy': 31.9}\n",
      "{'active_strategy': 'margin', 'n_rounds': 6, 'size': 7500, 'nb_epochs': 10, 'seed': 1, 'data': 'CIFAR10', 'model': 'resnet50', 'init_clean_accuracy': 93.66, 'init_PGD_accuracy': 46.91, 'final_clean_accuracy': 80.5, 'final_PGD_accuracy': 39.4}\n",
      "{'active_strategy': 'margin', 'n_rounds': 6, 'size': 7500, 'nb_epochs': 10, 'seed': 2, 'data': 'CIFAR10', 'model': 'resnet50', 'init_clean_accuracy': 93.66, 'init_PGD_accuracy': 46.77, 'final_clean_accuracy': 83.05, 'final_PGD_accuracy': 39.71}\n",
      "{'active_strategy': 'margin', 'n_rounds': 6, 'size': 10000, 'nb_epochs': 10, 'seed': 0, 'data': 'CIFAR10', 'model': 'resnet50', 'init_clean_accuracy': 93.66, 'init_PGD_accuracy': 46.85, 'final_clean_accuracy': 79.63, 'final_PGD_accuracy': 34.63}\n",
      "{'active_strategy': 'margin', 'n_rounds': 6, 'size': 10000, 'nb_epochs': 10, 'seed': 1, 'data': 'CIFAR10', 'model': 'resnet50', 'init_clean_accuracy': 93.66, 'init_PGD_accuracy': 46.91, 'final_clean_accuracy': 77.62, 'final_PGD_accuracy': 36.43}\n",
      "{'active_strategy': 'margin', 'n_rounds': 6, 'size': 10000, 'nb_epochs': 10, 'seed': 2, 'data': 'CIFAR10', 'model': 'resnet50', 'init_clean_accuracy': 93.66, 'init_PGD_accuracy': 46.77, 'final_clean_accuracy': 82.66, 'final_PGD_accuracy': 36.18}\n",
      "{'active_strategy': 'margin', 'n_rounds': 6, 'size': 12500, 'nb_epochs': 10, 'seed': 0, 'data': 'CIFAR10', 'model': 'resnet50', 'init_clean_accuracy': 93.66, 'init_PGD_accuracy': 46.85, 'final_clean_accuracy': 79.73, 'final_PGD_accuracy': 34.67}\n",
      "{'active_strategy': 'margin', 'n_rounds': 6, 'size': 12500, 'nb_epochs': 10, 'seed': 1, 'data': 'CIFAR10', 'model': 'resnet50', 'init_clean_accuracy': 93.66, 'init_PGD_accuracy': 46.91, 'final_clean_accuracy': 80.38, 'final_PGD_accuracy': 36.77}\n",
      "{'active_strategy': 'margin', 'n_rounds': 6, 'size': 12500, 'nb_epochs': 10, 'seed': 2, 'data': 'CIFAR10', 'model': 'resnet50', 'init_clean_accuracy': 93.66, 'init_PGD_accuracy': 46.77, 'final_clean_accuracy': 81.82, 'final_PGD_accuracy': 37.3}\n",
      "{'active_strategy': 'margin', 'n_rounds': 6, 'size': 25000, 'nb_epochs': 10, 'seed': 0, 'data': 'CIFAR10', 'model': 'resnet50', 'init_clean_accuracy': 93.66, 'init_PGD_accuracy': 46.85, 'final_clean_accuracy': 81.31, 'final_PGD_accuracy': 35.82}\n",
      "{'active_strategy': 'margin', 'n_rounds': 6, 'size': 25000, 'nb_epochs': 10, 'seed': 1, 'data': 'CIFAR10', 'model': 'resnet50', 'init_clean_accuracy': 93.66, 'init_PGD_accuracy': 46.91, 'final_clean_accuracy': 79.97, 'final_PGD_accuracy': 32.35}\n",
      "{'active_strategy': 'margin', 'n_rounds': 6, 'size': 25000, 'nb_epochs': 10, 'seed': 2, 'data': 'CIFAR10', 'model': 'resnet50', 'init_clean_accuracy': 93.66, 'init_PGD_accuracy': 46.77, 'final_clean_accuracy': 82.12, 'final_PGD_accuracy': 36.8}\n",
      "{'active_strategy': 'margin', 'n_rounds': 6, 'size': 37500, 'nb_epochs': 10, 'seed': 0, 'data': 'CIFAR10', 'model': 'resnet50', 'init_clean_accuracy': 93.66, 'init_PGD_accuracy': 46.85, 'final_clean_accuracy': 83.08, 'final_PGD_accuracy': 36.45}\n",
      "{'active_strategy': 'margin', 'n_rounds': 6, 'size': 37500, 'nb_epochs': 10, 'seed': 1, 'data': 'CIFAR10', 'model': 'resnet50', 'init_clean_accuracy': 93.66, 'init_PGD_accuracy': 46.91, 'final_clean_accuracy': 83.1, 'final_PGD_accuracy': 35.23}\n",
      "{'active_strategy': 'margin', 'n_rounds': 6, 'size': 37500, 'nb_epochs': 10, 'seed': 2, 'data': 'CIFAR10', 'model': 'resnet50', 'init_clean_accuracy': 93.66, 'init_PGD_accuracy': 46.77, 'final_clean_accuracy': 83.55, 'final_PGD_accuracy': 39.79}\n",
      "{'active_strategy': 'entropy', 'n_rounds': 6, 'size': 500, 'nb_epochs': 10, 'seed': 0, 'data': 'CIFAR10', 'model': 'resnet50', 'init_clean_accuracy': 93.66, 'init_PGD_accuracy': 46.85, 'final_clean_accuracy': 89.81, 'final_PGD_accuracy': 38.17}\n",
      "{'active_strategy': 'entropy', 'n_rounds': 6, 'size': 500, 'nb_epochs': 10, 'seed': 1, 'data': 'CIFAR10', 'model': 'resnet50', 'init_clean_accuracy': 93.66, 'init_PGD_accuracy': 46.91, 'final_clean_accuracy': 89.53, 'final_PGD_accuracy': 37.01}\n",
      "{'active_strategy': 'entropy', 'n_rounds': 6, 'size': 500, 'nb_epochs': 10, 'seed': 2, 'data': 'CIFAR10', 'model': 'resnet50', 'init_clean_accuracy': 93.66, 'init_PGD_accuracy': 46.77, 'final_clean_accuracy': 89.56, 'final_PGD_accuracy': 35.37}\n",
      "{'active_strategy': 'entropy', 'n_rounds': 6, 'size': 2500, 'nb_epochs': 10, 'seed': 0, 'data': 'CIFAR10', 'model': 'resnet50', 'init_clean_accuracy': 93.66, 'init_PGD_accuracy': 46.85, 'final_clean_accuracy': 83.21, 'final_PGD_accuracy': 39.28}\n",
      "{'active_strategy': 'entropy', 'n_rounds': 6, 'size': 2500, 'nb_epochs': 10, 'seed': 1, 'data': 'CIFAR10', 'model': 'resnet50', 'init_clean_accuracy': 93.66, 'init_PGD_accuracy': 46.91, 'final_clean_accuracy': 81.8, 'final_PGD_accuracy': 39.8}\n",
      "{'active_strategy': 'entropy', 'n_rounds': 6, 'size': 2500, 'nb_epochs': 10, 'seed': 2, 'data': 'CIFAR10', 'model': 'resnet50', 'init_clean_accuracy': 93.66, 'init_PGD_accuracy': 46.77, 'final_clean_accuracy': 81.68, 'final_PGD_accuracy': 36.33}\n",
      "{'active_strategy': 'entropy', 'n_rounds': 6, 'size': 5000, 'nb_epochs': 10, 'seed': 0, 'data': 'CIFAR10', 'model': 'resnet50', 'init_clean_accuracy': 93.66, 'init_PGD_accuracy': 46.85, 'final_clean_accuracy': 83.27, 'final_PGD_accuracy': 39.96}\n",
      "{'active_strategy': 'entropy', 'n_rounds': 6, 'size': 5000, 'nb_epochs': 10, 'seed': 1, 'data': 'CIFAR10', 'model': 'resnet50', 'init_clean_accuracy': 93.66, 'init_PGD_accuracy': 46.91, 'final_clean_accuracy': 83.64, 'final_PGD_accuracy': 38.83}\n",
      "{'active_strategy': 'entropy', 'n_rounds': 6, 'size': 5000, 'nb_epochs': 10, 'seed': 2, 'data': 'CIFAR10', 'model': 'resnet50', 'init_clean_accuracy': 93.66, 'init_PGD_accuracy': 46.77, 'final_clean_accuracy': 83.26, 'final_PGD_accuracy': 37.82}\n",
      "{'active_strategy': 'entropy', 'n_rounds': 6, 'size': 7500, 'nb_epochs': 10, 'seed': 0, 'data': 'CIFAR10', 'model': 'resnet50', 'init_clean_accuracy': 93.66, 'init_PGD_accuracy': 46.85, 'final_clean_accuracy': 82.76, 'final_PGD_accuracy': 37.95}\n",
      "{'active_strategy': 'entropy', 'n_rounds': 6, 'size': 7500, 'nb_epochs': 10, 'seed': 1, 'data': 'CIFAR10', 'model': 'resnet50', 'init_clean_accuracy': 93.66, 'init_PGD_accuracy': 46.91, 'final_clean_accuracy': 85.59, 'final_PGD_accuracy': 39.88}\n",
      "{'active_strategy': 'entropy', 'n_rounds': 6, 'size': 7500, 'nb_epochs': 10, 'seed': 2, 'data': 'CIFAR10', 'model': 'resnet50', 'init_clean_accuracy': 93.66, 'init_PGD_accuracy': 46.77, 'final_clean_accuracy': 84.93, 'final_PGD_accuracy': 37.31}\n",
      "{'active_strategy': 'entropy', 'n_rounds': 6, 'size': 10000, 'nb_epochs': 10, 'seed': 0, 'data': 'CIFAR10', 'model': 'resnet50', 'init_clean_accuracy': 93.66, 'init_PGD_accuracy': 46.85, 'final_clean_accuracy': 81.6, 'final_PGD_accuracy': 38.1}\n",
      "{'active_strategy': 'entropy', 'n_rounds': 6, 'size': 10000, 'nb_epochs': 10, 'seed': 1, 'data': 'CIFAR10', 'model': 'resnet50', 'init_clean_accuracy': 93.66, 'init_PGD_accuracy': 46.91, 'final_clean_accuracy': 84.16, 'final_PGD_accuracy': 40.63}\n",
      "{'active_strategy': 'entropy', 'n_rounds': 6, 'size': 10000, 'nb_epochs': 10, 'seed': 2, 'data': 'CIFAR10', 'model': 'resnet50', 'init_clean_accuracy': 93.66, 'init_PGD_accuracy': 46.77, 'final_clean_accuracy': 83.33, 'final_PGD_accuracy': 39.86}\n",
      "{'active_strategy': 'entropy', 'n_rounds': 6, 'size': 12500, 'nb_epochs': 10, 'seed': 0, 'data': 'CIFAR10', 'model': 'resnet50', 'init_clean_accuracy': 93.66, 'init_PGD_accuracy': 46.85, 'final_clean_accuracy': 84.16, 'final_PGD_accuracy': 40.05}\n",
      "{'active_strategy': 'entropy', 'n_rounds': 6, 'size': 12500, 'nb_epochs': 10, 'seed': 1, 'data': 'CIFAR10', 'model': 'resnet50', 'init_clean_accuracy': 93.66, 'init_PGD_accuracy': 46.91, 'final_clean_accuracy': 83.76, 'final_PGD_accuracy': 38.31}\n",
      "{'active_strategy': 'entropy', 'n_rounds': 6, 'size': 12500, 'nb_epochs': 10, 'seed': 2, 'data': 'CIFAR10', 'model': 'resnet50', 'init_clean_accuracy': 93.66, 'init_PGD_accuracy': 46.77, 'final_clean_accuracy': 83.75, 'final_PGD_accuracy': 37.21}\n",
      "{'active_strategy': 'entropy', 'n_rounds': 6, 'size': 25000, 'nb_epochs': 10, 'seed': 0, 'data': 'CIFAR10', 'model': 'resnet50', 'init_clean_accuracy': 93.66, 'init_PGD_accuracy': 46.85, 'final_clean_accuracy': 84.05, 'final_PGD_accuracy': 40.2}\n",
      "{'active_strategy': 'entropy', 'n_rounds': 6, 'size': 25000, 'nb_epochs': 10, 'seed': 1, 'data': 'CIFAR10', 'model': 'resnet50', 'init_clean_accuracy': 93.66, 'init_PGD_accuracy': 46.91, 'final_clean_accuracy': 81.81, 'final_PGD_accuracy': 38.95}\n",
      "{'active_strategy': 'entropy', 'n_rounds': 6, 'size': 25000, 'nb_epochs': 10, 'seed': 2, 'data': 'CIFAR10', 'model': 'resnet50', 'init_clean_accuracy': 93.66, 'init_PGD_accuracy': 46.77, 'final_clean_accuracy': 82.78, 'final_PGD_accuracy': 38.3}\n",
      "{'active_strategy': 'entropy', 'n_rounds': 6, 'size': 37500, 'nb_epochs': 10, 'seed': 0, 'data': 'CIFAR10', 'model': 'resnet50', 'init_clean_accuracy': 93.66, 'init_PGD_accuracy': 46.85, 'final_clean_accuracy': 83.23, 'final_PGD_accuracy': 37.27}\n",
      "{'active_strategy': 'entropy', 'n_rounds': 6, 'size': 37500, 'nb_epochs': 10, 'seed': 1, 'data': 'CIFAR10', 'model': 'resnet50', 'init_clean_accuracy': 93.66, 'init_PGD_accuracy': 46.91, 'final_clean_accuracy': 83.51, 'final_PGD_accuracy': 39.9}\n",
      "{'active_strategy': 'entropy', 'n_rounds': 6, 'size': 37500, 'nb_epochs': 10, 'seed': 2, 'data': 'CIFAR10', 'model': 'resnet50', 'init_clean_accuracy': 93.66, 'init_PGD_accuracy': 46.77, 'final_clean_accuracy': 83.42, 'final_PGD_accuracy': 40.39}\n",
      "{'active_strategy': 'random', 'n_rounds': 6, 'size': 500, 'nb_epochs': 10, 'seed': 0, 'data': 'CIFAR10', 'model': 'resnet50', 'init_clean_accuracy': 93.66, 'init_PGD_accuracy': 46.85, 'final_clean_accuracy': 90.47, 'final_PGD_accuracy': 46.36}\n",
      "{'active_strategy': 'random', 'n_rounds': 6, 'size': 500, 'nb_epochs': 10, 'seed': 1, 'data': 'CIFAR10', 'model': 'resnet50', 'init_clean_accuracy': 93.66, 'init_PGD_accuracy': 46.91, 'final_clean_accuracy': 89.55, 'final_PGD_accuracy': 41.08}\n",
      "{'active_strategy': 'random', 'n_rounds': 6, 'size': 500, 'nb_epochs': 10, 'seed': 2, 'data': 'CIFAR10', 'model': 'resnet50', 'init_clean_accuracy': 93.66, 'init_PGD_accuracy': 46.77, 'final_clean_accuracy': 89.6, 'final_PGD_accuracy': 42.92}\n",
      "{'active_strategy': 'random', 'n_rounds': 6, 'size': 2500, 'nb_epochs': 10, 'seed': 0, 'data': 'CIFAR10', 'model': 'resnet50', 'init_clean_accuracy': 93.66, 'init_PGD_accuracy': 46.85, 'final_clean_accuracy': 87.89, 'final_PGD_accuracy': 46.5}\n",
      "{'active_strategy': 'random', 'n_rounds': 6, 'size': 2500, 'nb_epochs': 10, 'seed': 1, 'data': 'CIFAR10', 'model': 'resnet50', 'init_clean_accuracy': 93.66, 'init_PGD_accuracy': 46.91, 'final_clean_accuracy': 89.25, 'final_PGD_accuracy': 42.18}\n",
      "{'active_strategy': 'random', 'n_rounds': 6, 'size': 2500, 'nb_epochs': 10, 'seed': 2, 'data': 'CIFAR10', 'model': 'resnet50', 'init_clean_accuracy': 93.66, 'init_PGD_accuracy': 46.77, 'final_clean_accuracy': 89.33, 'final_PGD_accuracy': 45.8}\n",
      "{'active_strategy': 'random', 'n_rounds': 6, 'size': 5000, 'nb_epochs': 10, 'seed': 0, 'data': 'CIFAR10', 'model': 'resnet50', 'init_clean_accuracy': 93.66, 'init_PGD_accuracy': 46.85, 'final_clean_accuracy': 86.79, 'final_PGD_accuracy': 45.14}\n",
      "{'active_strategy': 'random', 'n_rounds': 6, 'size': 5000, 'nb_epochs': 10, 'seed': 1, 'data': 'CIFAR10', 'model': 'resnet50', 'init_clean_accuracy': 93.66, 'init_PGD_accuracy': 46.91, 'final_clean_accuracy': 89.54, 'final_PGD_accuracy': 42.85}\n",
      "{'active_strategy': 'random', 'n_rounds': 6, 'size': 5000, 'nb_epochs': 10, 'seed': 2, 'data': 'CIFAR10', 'model': 'resnet50', 'init_clean_accuracy': 93.66, 'init_PGD_accuracy': 46.77, 'final_clean_accuracy': 87.22, 'final_PGD_accuracy': 41.95}\n",
      "{'active_strategy': 'random', 'n_rounds': 6, 'size': 7500, 'nb_epochs': 10, 'seed': 0, 'data': 'CIFAR10', 'model': 'resnet50', 'init_clean_accuracy': 93.66, 'init_PGD_accuracy': 46.85, 'final_clean_accuracy': 88.17, 'final_PGD_accuracy': 47.28}\n",
      "{'active_strategy': 'random', 'n_rounds': 6, 'size': 7500, 'nb_epochs': 10, 'seed': 1, 'data': 'CIFAR10', 'model': 'resnet50', 'init_clean_accuracy': 93.66, 'init_PGD_accuracy': 46.91, 'final_clean_accuracy': 87.85, 'final_PGD_accuracy': 45.92}\n",
      "{'active_strategy': 'random', 'n_rounds': 6, 'size': 7500, 'nb_epochs': 10, 'seed': 2, 'data': 'CIFAR10', 'model': 'resnet50', 'init_clean_accuracy': 93.66, 'init_PGD_accuracy': 46.77, 'final_clean_accuracy': 88.47, 'final_PGD_accuracy': 44.29}\n",
      "{'active_strategy': 'random', 'n_rounds': 6, 'size': 10000, 'nb_epochs': 10, 'seed': 0, 'data': 'CIFAR10', 'model': 'resnet50', 'init_clean_accuracy': 93.66, 'init_PGD_accuracy': 46.85, 'final_clean_accuracy': 87.72, 'final_PGD_accuracy': 42.46}\n",
      "{'active_strategy': 'random', 'n_rounds': 6, 'size': 10000, 'nb_epochs': 10, 'seed': 1, 'data': 'CIFAR10', 'model': 'resnet50', 'init_clean_accuracy': 93.66, 'init_PGD_accuracy': 46.91, 'final_clean_accuracy': 87.81, 'final_PGD_accuracy': 40.23}\n",
      "{'active_strategy': 'random', 'n_rounds': 6, 'size': 10000, 'nb_epochs': 10, 'seed': 2, 'data': 'CIFAR10', 'model': 'resnet50', 'init_clean_accuracy': 93.66, 'init_PGD_accuracy': 46.77, 'final_clean_accuracy': 87.02, 'final_PGD_accuracy': 39.91}\n",
      "{'active_strategy': 'random', 'n_rounds': 6, 'size': 12500, 'nb_epochs': 10, 'seed': 0, 'data': 'CIFAR10', 'model': 'resnet50', 'init_clean_accuracy': 93.66, 'init_PGD_accuracy': 46.85, 'final_clean_accuracy': 87.17, 'final_PGD_accuracy': 44.12}\n",
      "{'active_strategy': 'random', 'n_rounds': 6, 'size': 12500, 'nb_epochs': 10, 'seed': 1, 'data': 'CIFAR10', 'model': 'resnet50', 'init_clean_accuracy': 93.66, 'init_PGD_accuracy': 46.91, 'final_clean_accuracy': 87.32, 'final_PGD_accuracy': 42.99}\n",
      "{'active_strategy': 'random', 'n_rounds': 6, 'size': 12500, 'nb_epochs': 10, 'seed': 2, 'data': 'CIFAR10', 'model': 'resnet50', 'init_clean_accuracy': 93.66, 'init_PGD_accuracy': 46.77, 'final_clean_accuracy': 86.73, 'final_PGD_accuracy': 40.24}\n",
      "{'active_strategy': 'random', 'n_rounds': 6, 'size': 25000, 'nb_epochs': 10, 'seed': 0, 'data': 'CIFAR10', 'model': 'resnet50', 'init_clean_accuracy': 93.66, 'init_PGD_accuracy': 46.85, 'final_clean_accuracy': 85.61, 'final_PGD_accuracy': 41.51}\n",
      "{'active_strategy': 'random', 'n_rounds': 6, 'size': 25000, 'nb_epochs': 10, 'seed': 1, 'data': 'CIFAR10', 'model': 'resnet50', 'init_clean_accuracy': 93.66, 'init_PGD_accuracy': 46.91, 'final_clean_accuracy': 87.09, 'final_PGD_accuracy': 42.49}\n",
      "{'active_strategy': 'random', 'n_rounds': 6, 'size': 25000, 'nb_epochs': 10, 'seed': 2, 'data': 'CIFAR10', 'model': 'resnet50', 'init_clean_accuracy': 93.66, 'init_PGD_accuracy': 46.77, 'final_clean_accuracy': 86.86, 'final_PGD_accuracy': 40.9}\n",
      "{'active_strategy': 'random', 'n_rounds': 6, 'size': 37500, 'nb_epochs': 10, 'seed': 0, 'data': 'CIFAR10', 'model': 'resnet50', 'init_clean_accuracy': 93.66, 'init_PGD_accuracy': 46.85, 'final_clean_accuracy': 85.95, 'final_PGD_accuracy': 40.65}\n",
      "{'active_strategy': 'random', 'n_rounds': 6, 'size': 37500, 'nb_epochs': 10, 'seed': 1, 'data': 'CIFAR10', 'model': 'resnet50', 'init_clean_accuracy': 93.66, 'init_PGD_accuracy': 46.91, 'final_clean_accuracy': 85.36, 'final_PGD_accuracy': 41.92}\n",
      "{'active_strategy': 'random', 'n_rounds': 6, 'size': 37500, 'nb_epochs': 10, 'seed': 2, 'data': 'CIFAR10', 'model': 'resnet50', 'init_clean_accuracy': 93.66, 'init_PGD_accuracy': 46.77, 'final_clean_accuracy': 85.79, 'final_PGD_accuracy': 39.94}\n",
      "{'active_strategy': 'full', 'n_rounds': 6, 'size': 50000, 'nb_epochs': 10, 'seed': 0, 'data': 'CIFAR10', 'model': 'resnet50', 'init_clean_accuracy': 93.66, 'init_PGD_accuracy': 46.85, 'final_clean_accuracy': 84.77, 'final_PGD_accuracy': 41.39}\n",
      "{'active_strategy': 'full', 'n_rounds': 6, 'size': 50000, 'nb_epochs': 10, 'seed': 1, 'data': 'CIFAR10', 'model': 'resnet50', 'init_clean_accuracy': 93.66, 'init_PGD_accuracy': 46.91, 'final_clean_accuracy': 83.54, 'final_PGD_accuracy': 40.1}\n",
      "{'active_strategy': 'full', 'n_rounds': 6, 'size': 50000, 'nb_epochs': 10, 'seed': 2, 'data': 'CIFAR10', 'model': 'resnet50', 'init_clean_accuracy': 93.66, 'init_PGD_accuracy': 46.77, 'final_clean_accuracy': 85.72, 'final_PGD_accuracy': 38.84}\n"
     ]
    }
   ],
   "source": [
    "import gzip\n",
    "import pickle as pkl\n",
    "\n",
    "\n",
    "loss = 'FAT'\n",
    "data = 'CIFAR10'\n",
    "model = 'resnet50'\n",
    "n_rounds = 6\n",
    "nb_epochs = 10\n",
    "seeds = 3\n",
    "\n",
    "results_list = []\n",
    "for active_strategy in ['attack', 'uncertainty', 'margin', 'entropy', 'random']:\n",
    "    for size in [500, 2500, 5000, 7500, 10000, 12500, 25000, 37500]:\n",
    "        for seed in range(seeds):\n",
    "\n",
    "            try:\n",
    "                with gzip.open('./results/{}_{}_{}_{}_{}_{}_{}_{}.pkl.gz'.format(loss,data, model, active_strategy, n_rounds, size, nb_epochs, seed), 'rb') as f:\n",
    "                    result = pkl.load(f)\n",
    "                    result['active_strategy'] = active_strategy\n",
    "                print(result)\n",
    "                results_list.append(result)\n",
    "            except:\n",
    "                print('issue')\n",
    "                pass\n",
    "\n",
    "\n",
    "active_strategy = 'full'\n",
    "size = 50000\n",
    "\n",
    "# FAT_CIFAR10_resnet50_full_1_50000_60_0.pkl.gz\n",
    "\n",
    "for seed in range(seeds):\n",
    "\n",
    "    try:\n",
    "        with gzip.open('./results/{}_{}_{}_{}_{}_{}_{}_{}.pkl.gz'.format(loss, data, model, active_strategy, n_rounds, size, nb_epochs, seed), 'rb') as f:\n",
    "            result = pkl.load(f)\n",
    "            result['active_strategy'] = active_strategy\n",
    "            result['size'] = 50000\n",
    "            print(result)\n",
    "            results_list.append(result)\n",
    "    except:\n",
    "        print('issue')\n",
    "        pass\n",
    "\n",
    "\n",
    "# clean_accuracy_init = result['init_clean_accuracy']\n",
    "# PGD_accuracy_init = result['init_PGD_accuracy']"
   ]
  },
  {
   "cell_type": "code",
   "execution_count": 26,
   "metadata": {},
   "outputs": [],
   "source": [
    "import pandas as pd\n",
    "# Convert the list of dictionaries to a DataFrame\n",
    "df = pd.DataFrame(results_list)\n",
    "\n",
    "# Assuming df is your DataFrame\n",
    "means_stds = df.groupby(['active_strategy', 'size']).agg({\n",
    "    'final_clean_accuracy': ['mean', 'std' ],\n",
    "    'final_PGD_accuracy': ['mean', 'std']\n",
    "})\n",
    "\n",
    "\n",
    "\n",
    "# Assuming df is your DataFrame\n",
    "# init_means_stds = df.groupby(['active_strategy', ]).agg({\n",
    "#     'init_clean_accuracy': ['mean',  'std' ],\n",
    "#     'init_PGD_accuracy': ['mean',  'std' ],\n",
    "# })\n",
    "\n",
    "means_stds.to_csv('./results/means.csv', index=True)"
   ]
  },
  {
   "cell_type": "code",
   "execution_count": 27,
   "metadata": {},
   "outputs": [
    {
     "data": {
      "application/vnd.plotly.v1+json": {
       "config": {
        "plotlyServerURL": "https://plot.ly"
       },
       "data": [
        {
         "line": {
          "color": "rgba(0,0,0,1)",
          "dash": "dash",
          "width": 2
         },
         "mode": "lines",
         "name": "Full Dataset Average",
         "showlegend": true,
         "type": "scatter",
         "x": [
          500,
          50000
         ],
         "y": [
          40.11000000000001,
          40.11000000000001
         ]
        },
        {
         "error_y": {
          "array": [
           0.6568951527664073
          ],
          "arrayminus": [
           0.6568951527664073
          ],
          "symmetric": false,
          "type": "data"
         },
         "line": {
          "color": "rgba(0,0,0,1)"
         },
         "mode": "lines+markers",
         "name": "full",
         "showlegend": false,
         "type": "scatter",
         "x": [
          50000
         ],
         "y": [
          40.11000000000001
         ]
        },
        {
         "error_y": {
          "array": [
           0.6627683064963207,
           0.868673646207827,
           0.4142904273155916,
           0.362511941739857,
           0.7798830250475598,
           1.818534371759117,
           0.18027092665578054,
           0.7477561992129081
          ],
          "arrayminus": [
           0.6627683064963207,
           0.868673646207827,
           0.4142904273155916,
           0.362511941739857,
           0.7798830250475598,
           1.818534371759117,
           0.18027092665578054,
           0.7477561992129081
          ],
          "symmetric": false,
          "type": "data"
         },
         "line": {
          "color": "rgba(255,161,90,1)"
         },
         "mode": "lines+markers",
         "name": "uncertainty",
         "type": "scatter",
         "x": [
          500,
          2500,
          5000,
          7500,
          10000,
          12500,
          25000,
          37500
         ],
         "y": [
          33.580000000000005,
          38.8,
          40.11333333333334,
          38.11,
          38.79666666666666,
          37.223333333333336,
          37.01333333333333,
          38.656666666666666
         ]
        },
        {
         "error_y": {
          "array": [
           1.380787262729974,
           1.1945679812573808,
           0.8473486949900468,
           0.7712700588924739,
           0.7156707221099208,
           1.0281177124201286,
           0.4132640546156103,
           0.5168032122088007
          ],
          "arrayminus": [
           1.380787262729974,
           1.1945679812573808,
           0.8473486949900468,
           0.7712700588924739,
           0.7156707221099208,
           1.0281177124201286,
           0.4132640546156103,
           0.5168032122088007
          ],
          "symmetric": false,
          "type": "data"
         },
         "line": {
          "color": "rgba(25,211,243,1)"
         },
         "mode": "lines+markers",
         "name": "random",
         "type": "scatter",
         "x": [
          500,
          2500,
          5000,
          7500,
          10000,
          12500,
          25000,
          37500
         ],
         "y": [
          43.45333333333334,
          44.82666666666666,
          43.31333333333333,
          45.830000000000005,
          40.86666666666667,
          42.45,
          41.63333333333333,
          40.836666666666666
         ]
        },
        {
         "error_y": {
          "array": [
           0.7248041903631651,
           0.9641675847029916,
           0.5515528215357062,
           0.6892713678196707,
           0.668153026017244,
           0.7377500899500669,
           0.49750823591172927,
           0.8644364126466051
          ],
          "arrayminus": [
           0.7248041903631651,
           0.9641675847029916,
           0.5515528215357062,
           0.6892713678196707,
           0.668153026017244,
           0.7377500899500669,
           0.49750823591172927,
           0.8644364126466051
          ],
          "symmetric": false,
          "type": "data"
         },
         "line": {
          "color": "rgba(255,102,146,1)"
         },
         "mode": "lines+markers",
         "name": "entropy",
         "type": "scatter",
         "x": [
          500,
          2500,
          5000,
          7500,
          10000,
          12500,
          25000,
          37500
         ],
         "y": [
          36.85,
          38.47,
          38.87,
          38.38,
          39.53,
          38.52333333333333,
          39.15,
          39.18666666666667
         ]
        },
        {
         "error_y": {
          "array": [
           1.9058941812444181,
           1.164386194188162,
           1.1122156564791426,
           0.8409657012490662,
           1.0431877687626518,
           1.388815228303607,
           1.0549068598228628
          ],
          "arrayminus": [
           1.9058941812444181,
           1.164386194188162,
           1.1122156564791426,
           0.8409657012490662,
           1.0431877687626518,
           1.388815228303607,
           1.0549068598228628
          ],
          "symmetric": false,
          "type": "data"
         },
         "line": {
          "color": "rgba(182,232,128,1)"
         },
         "mode": "lines+markers",
         "name": "attack",
         "type": "scatter",
         "x": [
          500,
          2500,
          5000,
          7500,
          10000,
          12500,
          25000
         ],
         "y": [
          31.113333333333333,
          39.47,
          41.00333333333333,
          38.32666666666667,
          40.06,
          38.580000000000005,
          36.123333333333335
         ]
        },
        {
         "error_y": {
          "array": [
           0.9309594146943235,
           1.528529896139423,
           2.230657349246929,
           2.278386204527524,
           0.5023750397196622,
           0.7165973330157842,
           1.2046539440818667,
           1.2162357873855436
          ],
          "arrayminus": [
           0.9309594146943235,
           1.528529896139423,
           2.230657349246929,
           2.278386204527524,
           0.5023750397196622,
           0.7165973330157842,
           1.2046539440818667,
           1.2162357873855436
          ],
          "symmetric": false,
          "type": "data"
         },
         "line": {
          "color": "rgba(254,203,82,1)"
         },
         "mode": "lines+markers",
         "name": "margin",
         "type": "scatter",
         "x": [
          500,
          2500,
          5000,
          7500,
          10000,
          12500,
          25000,
          37500
         ],
         "y": [
          38.02,
          38.88,
          35.196666666666665,
          37.00333333333333,
          35.74666666666667,
          36.24666666666667,
          34.99,
          37.156666666666666
         ]
        }
       ],
       "layout": {
        "height": 400,
        "legend": {
         "title": {
          "text": "Active Strategy"
         }
        },
        "margin": {
         "b": 0,
         "l": 0,
         "r": 0,
         "t": 50
        },
        "paper_bgcolor": "white",
        "plot_bgcolor": "white",
        "showlegend": true,
        "template": {
         "data": {
          "bar": [
           {
            "error_x": {
             "color": "#2a3f5f"
            },
            "error_y": {
             "color": "#2a3f5f"
            },
            "marker": {
             "line": {
              "color": "#E5ECF6",
              "width": 0.5
             },
             "pattern": {
              "fillmode": "overlay",
              "size": 10,
              "solidity": 0.2
             }
            },
            "type": "bar"
           }
          ],
          "barpolar": [
           {
            "marker": {
             "line": {
              "color": "#E5ECF6",
              "width": 0.5
             },
             "pattern": {
              "fillmode": "overlay",
              "size": 10,
              "solidity": 0.2
             }
            },
            "type": "barpolar"
           }
          ],
          "carpet": [
           {
            "aaxis": {
             "endlinecolor": "#2a3f5f",
             "gridcolor": "white",
             "linecolor": "white",
             "minorgridcolor": "white",
             "startlinecolor": "#2a3f5f"
            },
            "baxis": {
             "endlinecolor": "#2a3f5f",
             "gridcolor": "white",
             "linecolor": "white",
             "minorgridcolor": "white",
             "startlinecolor": "#2a3f5f"
            },
            "type": "carpet"
           }
          ],
          "choropleth": [
           {
            "colorbar": {
             "outlinewidth": 0,
             "ticks": ""
            },
            "type": "choropleth"
           }
          ],
          "contour": [
           {
            "colorbar": {
             "outlinewidth": 0,
             "ticks": ""
            },
            "colorscale": [
             [
              0,
              "#0d0887"
             ],
             [
              0.1111111111111111,
              "#46039f"
             ],
             [
              0.2222222222222222,
              "#7201a8"
             ],
             [
              0.3333333333333333,
              "#9c179e"
             ],
             [
              0.4444444444444444,
              "#bd3786"
             ],
             [
              0.5555555555555556,
              "#d8576b"
             ],
             [
              0.6666666666666666,
              "#ed7953"
             ],
             [
              0.7777777777777778,
              "#fb9f3a"
             ],
             [
              0.8888888888888888,
              "#fdca26"
             ],
             [
              1,
              "#f0f921"
             ]
            ],
            "type": "contour"
           }
          ],
          "contourcarpet": [
           {
            "colorbar": {
             "outlinewidth": 0,
             "ticks": ""
            },
            "type": "contourcarpet"
           }
          ],
          "heatmap": [
           {
            "colorbar": {
             "outlinewidth": 0,
             "ticks": ""
            },
            "colorscale": [
             [
              0,
              "#0d0887"
             ],
             [
              0.1111111111111111,
              "#46039f"
             ],
             [
              0.2222222222222222,
              "#7201a8"
             ],
             [
              0.3333333333333333,
              "#9c179e"
             ],
             [
              0.4444444444444444,
              "#bd3786"
             ],
             [
              0.5555555555555556,
              "#d8576b"
             ],
             [
              0.6666666666666666,
              "#ed7953"
             ],
             [
              0.7777777777777778,
              "#fb9f3a"
             ],
             [
              0.8888888888888888,
              "#fdca26"
             ],
             [
              1,
              "#f0f921"
             ]
            ],
            "type": "heatmap"
           }
          ],
          "heatmapgl": [
           {
            "colorbar": {
             "outlinewidth": 0,
             "ticks": ""
            },
            "colorscale": [
             [
              0,
              "#0d0887"
             ],
             [
              0.1111111111111111,
              "#46039f"
             ],
             [
              0.2222222222222222,
              "#7201a8"
             ],
             [
              0.3333333333333333,
              "#9c179e"
             ],
             [
              0.4444444444444444,
              "#bd3786"
             ],
             [
              0.5555555555555556,
              "#d8576b"
             ],
             [
              0.6666666666666666,
              "#ed7953"
             ],
             [
              0.7777777777777778,
              "#fb9f3a"
             ],
             [
              0.8888888888888888,
              "#fdca26"
             ],
             [
              1,
              "#f0f921"
             ]
            ],
            "type": "heatmapgl"
           }
          ],
          "histogram": [
           {
            "marker": {
             "pattern": {
              "fillmode": "overlay",
              "size": 10,
              "solidity": 0.2
             }
            },
            "type": "histogram"
           }
          ],
          "histogram2d": [
           {
            "colorbar": {
             "outlinewidth": 0,
             "ticks": ""
            },
            "colorscale": [
             [
              0,
              "#0d0887"
             ],
             [
              0.1111111111111111,
              "#46039f"
             ],
             [
              0.2222222222222222,
              "#7201a8"
             ],
             [
              0.3333333333333333,
              "#9c179e"
             ],
             [
              0.4444444444444444,
              "#bd3786"
             ],
             [
              0.5555555555555556,
              "#d8576b"
             ],
             [
              0.6666666666666666,
              "#ed7953"
             ],
             [
              0.7777777777777778,
              "#fb9f3a"
             ],
             [
              0.8888888888888888,
              "#fdca26"
             ],
             [
              1,
              "#f0f921"
             ]
            ],
            "type": "histogram2d"
           }
          ],
          "histogram2dcontour": [
           {
            "colorbar": {
             "outlinewidth": 0,
             "ticks": ""
            },
            "colorscale": [
             [
              0,
              "#0d0887"
             ],
             [
              0.1111111111111111,
              "#46039f"
             ],
             [
              0.2222222222222222,
              "#7201a8"
             ],
             [
              0.3333333333333333,
              "#9c179e"
             ],
             [
              0.4444444444444444,
              "#bd3786"
             ],
             [
              0.5555555555555556,
              "#d8576b"
             ],
             [
              0.6666666666666666,
              "#ed7953"
             ],
             [
              0.7777777777777778,
              "#fb9f3a"
             ],
             [
              0.8888888888888888,
              "#fdca26"
             ],
             [
              1,
              "#f0f921"
             ]
            ],
            "type": "histogram2dcontour"
           }
          ],
          "mesh3d": [
           {
            "colorbar": {
             "outlinewidth": 0,
             "ticks": ""
            },
            "type": "mesh3d"
           }
          ],
          "parcoords": [
           {
            "line": {
             "colorbar": {
              "outlinewidth": 0,
              "ticks": ""
             }
            },
            "type": "parcoords"
           }
          ],
          "pie": [
           {
            "automargin": true,
            "type": "pie"
           }
          ],
          "scatter": [
           {
            "fillpattern": {
             "fillmode": "overlay",
             "size": 10,
             "solidity": 0.2
            },
            "type": "scatter"
           }
          ],
          "scatter3d": [
           {
            "line": {
             "colorbar": {
              "outlinewidth": 0,
              "ticks": ""
             }
            },
            "marker": {
             "colorbar": {
              "outlinewidth": 0,
              "ticks": ""
             }
            },
            "type": "scatter3d"
           }
          ],
          "scattercarpet": [
           {
            "marker": {
             "colorbar": {
              "outlinewidth": 0,
              "ticks": ""
             }
            },
            "type": "scattercarpet"
           }
          ],
          "scattergeo": [
           {
            "marker": {
             "colorbar": {
              "outlinewidth": 0,
              "ticks": ""
             }
            },
            "type": "scattergeo"
           }
          ],
          "scattergl": [
           {
            "marker": {
             "colorbar": {
              "outlinewidth": 0,
              "ticks": ""
             }
            },
            "type": "scattergl"
           }
          ],
          "scattermapbox": [
           {
            "marker": {
             "colorbar": {
              "outlinewidth": 0,
              "ticks": ""
             }
            },
            "type": "scattermapbox"
           }
          ],
          "scatterpolar": [
           {
            "marker": {
             "colorbar": {
              "outlinewidth": 0,
              "ticks": ""
             }
            },
            "type": "scatterpolar"
           }
          ],
          "scatterpolargl": [
           {
            "marker": {
             "colorbar": {
              "outlinewidth": 0,
              "ticks": ""
             }
            },
            "type": "scatterpolargl"
           }
          ],
          "scatterternary": [
           {
            "marker": {
             "colorbar": {
              "outlinewidth": 0,
              "ticks": ""
             }
            },
            "type": "scatterternary"
           }
          ],
          "surface": [
           {
            "colorbar": {
             "outlinewidth": 0,
             "ticks": ""
            },
            "colorscale": [
             [
              0,
              "#0d0887"
             ],
             [
              0.1111111111111111,
              "#46039f"
             ],
             [
              0.2222222222222222,
              "#7201a8"
             ],
             [
              0.3333333333333333,
              "#9c179e"
             ],
             [
              0.4444444444444444,
              "#bd3786"
             ],
             [
              0.5555555555555556,
              "#d8576b"
             ],
             [
              0.6666666666666666,
              "#ed7953"
             ],
             [
              0.7777777777777778,
              "#fb9f3a"
             ],
             [
              0.8888888888888888,
              "#fdca26"
             ],
             [
              1,
              "#f0f921"
             ]
            ],
            "type": "surface"
           }
          ],
          "table": [
           {
            "cells": {
             "fill": {
              "color": "#EBF0F8"
             },
             "line": {
              "color": "white"
             }
            },
            "header": {
             "fill": {
              "color": "#C8D4E3"
             },
             "line": {
              "color": "white"
             }
            },
            "type": "table"
           }
          ]
         },
         "layout": {
          "annotationdefaults": {
           "arrowcolor": "#2a3f5f",
           "arrowhead": 0,
           "arrowwidth": 1
          },
          "autotypenumbers": "strict",
          "coloraxis": {
           "colorbar": {
            "outlinewidth": 0,
            "ticks": ""
           }
          },
          "colorscale": {
           "diverging": [
            [
             0,
             "#8e0152"
            ],
            [
             0.1,
             "#c51b7d"
            ],
            [
             0.2,
             "#de77ae"
            ],
            [
             0.3,
             "#f1b6da"
            ],
            [
             0.4,
             "#fde0ef"
            ],
            [
             0.5,
             "#f7f7f7"
            ],
            [
             0.6,
             "#e6f5d0"
            ],
            [
             0.7,
             "#b8e186"
            ],
            [
             0.8,
             "#7fbc41"
            ],
            [
             0.9,
             "#4d9221"
            ],
            [
             1,
             "#276419"
            ]
           ],
           "sequential": [
            [
             0,
             "#0d0887"
            ],
            [
             0.1111111111111111,
             "#46039f"
            ],
            [
             0.2222222222222222,
             "#7201a8"
            ],
            [
             0.3333333333333333,
             "#9c179e"
            ],
            [
             0.4444444444444444,
             "#bd3786"
            ],
            [
             0.5555555555555556,
             "#d8576b"
            ],
            [
             0.6666666666666666,
             "#ed7953"
            ],
            [
             0.7777777777777778,
             "#fb9f3a"
            ],
            [
             0.8888888888888888,
             "#fdca26"
            ],
            [
             1,
             "#f0f921"
            ]
           ],
           "sequentialminus": [
            [
             0,
             "#0d0887"
            ],
            [
             0.1111111111111111,
             "#46039f"
            ],
            [
             0.2222222222222222,
             "#7201a8"
            ],
            [
             0.3333333333333333,
             "#9c179e"
            ],
            [
             0.4444444444444444,
             "#bd3786"
            ],
            [
             0.5555555555555556,
             "#d8576b"
            ],
            [
             0.6666666666666666,
             "#ed7953"
            ],
            [
             0.7777777777777778,
             "#fb9f3a"
            ],
            [
             0.8888888888888888,
             "#fdca26"
            ],
            [
             1,
             "#f0f921"
            ]
           ]
          },
          "colorway": [
           "#636efa",
           "#EF553B",
           "#00cc96",
           "#ab63fa",
           "#FFA15A",
           "#19d3f3",
           "#FF6692",
           "#B6E880",
           "#FF97FF",
           "#FECB52"
          ],
          "font": {
           "color": "#2a3f5f"
          },
          "geo": {
           "bgcolor": "white",
           "lakecolor": "white",
           "landcolor": "#E5ECF6",
           "showlakes": true,
           "showland": true,
           "subunitcolor": "white"
          },
          "hoverlabel": {
           "align": "left"
          },
          "hovermode": "closest",
          "mapbox": {
           "style": "light"
          },
          "paper_bgcolor": "white",
          "plot_bgcolor": "#E5ECF6",
          "polar": {
           "angularaxis": {
            "gridcolor": "white",
            "linecolor": "white",
            "ticks": ""
           },
           "bgcolor": "#E5ECF6",
           "radialaxis": {
            "gridcolor": "white",
            "linecolor": "white",
            "ticks": ""
           }
          },
          "scene": {
           "xaxis": {
            "backgroundcolor": "#E5ECF6",
            "gridcolor": "white",
            "gridwidth": 2,
            "linecolor": "white",
            "showbackground": true,
            "ticks": "",
            "zerolinecolor": "white"
           },
           "yaxis": {
            "backgroundcolor": "#E5ECF6",
            "gridcolor": "white",
            "gridwidth": 2,
            "linecolor": "white",
            "showbackground": true,
            "ticks": "",
            "zerolinecolor": "white"
           },
           "zaxis": {
            "backgroundcolor": "#E5ECF6",
            "gridcolor": "white",
            "gridwidth": 2,
            "linecolor": "white",
            "showbackground": true,
            "ticks": "",
            "zerolinecolor": "white"
           }
          },
          "shapedefaults": {
           "line": {
            "color": "#2a3f5f"
           }
          },
          "ternary": {
           "aaxis": {
            "gridcolor": "white",
            "linecolor": "white",
            "ticks": ""
           },
           "baxis": {
            "gridcolor": "white",
            "linecolor": "white",
            "ticks": ""
           },
           "bgcolor": "#E5ECF6",
           "caxis": {
            "gridcolor": "white",
            "linecolor": "white",
            "ticks": ""
           }
          },
          "title": {
           "x": 0.05
          },
          "xaxis": {
           "automargin": true,
           "gridcolor": "white",
           "linecolor": "white",
           "ticks": "",
           "title": {
            "standoff": 15
           },
           "zerolinecolor": "white",
           "zerolinewidth": 2
          },
          "yaxis": {
           "automargin": true,
           "gridcolor": "white",
           "linecolor": "white",
           "ticks": "",
           "title": {
            "standoff": 15
           },
           "zerolinecolor": "white",
           "zerolinewidth": 2
          }
         }
        },
        "title": {
         "text": "final_PGD_accuracy by Strategy and Size"
        },
        "width": 600,
        "xaxis": {
         "gridcolor": "lightgray",
         "showgrid": true,
         "title": {
          "text": "Size"
         },
         "type": "log"
        },
        "yaxis": {
         "gridcolor": "lightgray",
         "showgrid": true,
         "title": {
          "text": "final_PGD_accuracy"
         }
        }
       }
      }
     },
     "metadata": {},
     "output_type": "display_data"
    },
    {
     "data": {
      "application/vnd.plotly.v1+json": {
       "config": {
        "plotlyServerURL": "https://plot.ly"
       },
       "data": [
        {
         "line": {
          "color": "rgba(0,0,0,1)",
          "dash": "dash",
          "width": 2
         },
         "mode": "lines",
         "name": "Full Dataset Average",
         "showlegend": true,
         "type": "scatter",
         "x": [
          500,
          50000
         ],
         "y": [
          84.67666666666666,
          84.67666666666666
         ]
        },
        {
         "error_y": {
          "array": [
           0.5631099076426661
          ],
          "arrayminus": [
           0.5631099076426661
          ],
          "symmetric": false,
          "type": "data"
         },
         "line": {
          "color": "rgba(0,0,0,1)"
         },
         "mode": "lines+markers",
         "name": "full",
         "showlegend": false,
         "type": "scatter",
         "x": [
          50000
         ],
         "y": [
          84.67666666666666
         ]
        },
        {
         "error_y": {
          "array": [
           0.2162203825853016,
           0.18592463287400657,
           0.8812380163323249,
           0.6893355463845848,
           0.3407727688651193,
           0.6707962035591224,
           0.4427224047157936,
           0.3281544955169755
          ],
          "arrayminus": [
           0.2162203825853016,
           0.18592463287400657,
           0.8812380163323249,
           0.6893355463845848,
           0.3407727688651193,
           0.6707962035591224,
           0.4427224047157936,
           0.3281544955169755
          ],
          "symmetric": false,
          "type": "data"
         },
         "line": {
          "color": "rgba(255,161,90,1)"
         },
         "mode": "lines+markers",
         "name": "uncertainty",
         "type": "scatter",
         "x": [
          500,
          2500,
          5000,
          7500,
          10000,
          12500,
          25000,
          37500
         ],
         "y": [
          87.67666666666666,
          83.37666666666667,
          81.23333333333333,
          82.84333333333333,
          82.59,
          83.05666666666667,
          81.75333333333333,
          83.06
         ]
        },
        {
         "error_y": {
          "array": [
           0.26652991202739734,
           0.41694080610721673,
           0.7621303988373656,
           0.15973969652323117,
           0.22281035025629753,
           0.15798533305763887,
           0.4103204950669691,
           0.15719933149985207
          ],
          "arrayminus": [
           0.26652991202739734,
           0.41694080610721673,
           0.7621303988373656,
           0.15973969652323117,
           0.22281035025629753,
           0.15798533305763887,
           0.4103204950669691,
           0.15719933149985207
          ],
          "symmetric": false,
          "type": "data"
         },
         "line": {
          "color": "rgba(25,211,243,1)"
         },
         "mode": "lines+markers",
         "name": "random",
         "type": "scatter",
         "x": [
          500,
          2500,
          5000,
          7500,
          10000,
          12500,
          25000,
          37500
         ],
         "y": [
          89.87333333333333,
          88.82333333333334,
          87.85000000000001,
          88.16333333333334,
          87.51666666666667,
          87.07333333333334,
          86.52,
          85.7
         ]
        },
        {
         "error_y": {
          "array": [
           0.07920240050234231,
           0.4383440770171284,
           0.11157381312835006,
           0.7628150323566844,
           0.6729032702669834,
           0.12049513636657741,
           0.578746429255508,
           0.07364537268106768
          ],
          "arrayminus": [
           0.07920240050234231,
           0.4383440770171284,
           0.11157381312835006,
           0.7628150323566844,
           0.6729032702669834,
           0.12049513636657741,
           0.578746429255508,
           0.07364537268106768
          ],
          "symmetric": false,
          "type": "data"
         },
         "line": {
          "color": "rgba(255,102,146,1)"
         },
         "mode": "lines+markers",
         "name": "entropy",
         "type": "scatter",
         "x": [
          500,
          2500,
          5000,
          7500,
          10000,
          12500,
          25000,
          37500
         ],
         "y": [
          89.63333333333333,
          82.23,
          83.39,
          84.42666666666668,
          83.02999999999999,
          83.89,
          82.88,
          83.38666666666667
         ]
        },
        {
         "error_y": {
          "array": [
           0.4576588616688212,
           0.3762018481188002,
           0.19525558902457393,
           0.2823903895626295,
           0.3091772391450132,
           0.32227808791787765,
           0.8584897631103875
          ],
          "arrayminus": [
           0.4576588616688212,
           0.3762018481188002,
           0.19525558902457393,
           0.2823903895626295,
           0.3091772391450132,
           0.32227808791787765,
           0.8584897631103875
          ],
          "symmetric": false,
          "type": "data"
         },
         "line": {
          "color": "rgba(182,232,128,1)"
         },
         "mode": "lines+markers",
         "name": "attack",
         "type": "scatter",
         "x": [
          500,
          2500,
          5000,
          7500,
          10000,
          12500,
          25000
         ],
         "y": [
          88.11,
          88.87,
          87.35666666666667,
          87.28666666666668,
          87.39333333333333,
          86.62,
          84.75666666666666
         ]
        },
        {
         "error_y": {
          "array": [
           0.3477886210444507,
           1.1552586982686328,
           1.2931143686423625,
           0.8033871822261878,
           1.307136621621472,
           0.551055312524368,
           0.5594211685852924,
           0.13692435548627757
          ],
          "arrayminus": [
           0.3477886210444507,
           1.1552586982686328,
           1.2931143686423625,
           0.8033871822261878,
           1.307136621621472,
           0.551055312524368,
           0.5594211685852924,
           0.13692435548627757
          ],
          "symmetric": false,
          "type": "data"
         },
         "line": {
          "color": "rgba(254,203,82,1)"
         },
         "mode": "lines+markers",
         "name": "margin",
         "type": "scatter",
         "x": [
          500,
          2500,
          5000,
          7500,
          10000,
          12500,
          25000,
          37500
         ],
         "y": [
          87.74000000000001,
          82.40333333333334,
          80.03666666666668,
          81.25666666666666,
          79.97,
          80.64333333333333,
          81.13333333333334,
          83.24333333333333
         ]
        }
       ],
       "layout": {
        "height": 400,
        "legend": {
         "title": {
          "text": "Active Strategy"
         }
        },
        "margin": {
         "b": 0,
         "l": 0,
         "r": 0,
         "t": 50
        },
        "paper_bgcolor": "white",
        "plot_bgcolor": "white",
        "showlegend": true,
        "template": {
         "data": {
          "bar": [
           {
            "error_x": {
             "color": "#2a3f5f"
            },
            "error_y": {
             "color": "#2a3f5f"
            },
            "marker": {
             "line": {
              "color": "#E5ECF6",
              "width": 0.5
             },
             "pattern": {
              "fillmode": "overlay",
              "size": 10,
              "solidity": 0.2
             }
            },
            "type": "bar"
           }
          ],
          "barpolar": [
           {
            "marker": {
             "line": {
              "color": "#E5ECF6",
              "width": 0.5
             },
             "pattern": {
              "fillmode": "overlay",
              "size": 10,
              "solidity": 0.2
             }
            },
            "type": "barpolar"
           }
          ],
          "carpet": [
           {
            "aaxis": {
             "endlinecolor": "#2a3f5f",
             "gridcolor": "white",
             "linecolor": "white",
             "minorgridcolor": "white",
             "startlinecolor": "#2a3f5f"
            },
            "baxis": {
             "endlinecolor": "#2a3f5f",
             "gridcolor": "white",
             "linecolor": "white",
             "minorgridcolor": "white",
             "startlinecolor": "#2a3f5f"
            },
            "type": "carpet"
           }
          ],
          "choropleth": [
           {
            "colorbar": {
             "outlinewidth": 0,
             "ticks": ""
            },
            "type": "choropleth"
           }
          ],
          "contour": [
           {
            "colorbar": {
             "outlinewidth": 0,
             "ticks": ""
            },
            "colorscale": [
             [
              0,
              "#0d0887"
             ],
             [
              0.1111111111111111,
              "#46039f"
             ],
             [
              0.2222222222222222,
              "#7201a8"
             ],
             [
              0.3333333333333333,
              "#9c179e"
             ],
             [
              0.4444444444444444,
              "#bd3786"
             ],
             [
              0.5555555555555556,
              "#d8576b"
             ],
             [
              0.6666666666666666,
              "#ed7953"
             ],
             [
              0.7777777777777778,
              "#fb9f3a"
             ],
             [
              0.8888888888888888,
              "#fdca26"
             ],
             [
              1,
              "#f0f921"
             ]
            ],
            "type": "contour"
           }
          ],
          "contourcarpet": [
           {
            "colorbar": {
             "outlinewidth": 0,
             "ticks": ""
            },
            "type": "contourcarpet"
           }
          ],
          "heatmap": [
           {
            "colorbar": {
             "outlinewidth": 0,
             "ticks": ""
            },
            "colorscale": [
             [
              0,
              "#0d0887"
             ],
             [
              0.1111111111111111,
              "#46039f"
             ],
             [
              0.2222222222222222,
              "#7201a8"
             ],
             [
              0.3333333333333333,
              "#9c179e"
             ],
             [
              0.4444444444444444,
              "#bd3786"
             ],
             [
              0.5555555555555556,
              "#d8576b"
             ],
             [
              0.6666666666666666,
              "#ed7953"
             ],
             [
              0.7777777777777778,
              "#fb9f3a"
             ],
             [
              0.8888888888888888,
              "#fdca26"
             ],
             [
              1,
              "#f0f921"
             ]
            ],
            "type": "heatmap"
           }
          ],
          "heatmapgl": [
           {
            "colorbar": {
             "outlinewidth": 0,
             "ticks": ""
            },
            "colorscale": [
             [
              0,
              "#0d0887"
             ],
             [
              0.1111111111111111,
              "#46039f"
             ],
             [
              0.2222222222222222,
              "#7201a8"
             ],
             [
              0.3333333333333333,
              "#9c179e"
             ],
             [
              0.4444444444444444,
              "#bd3786"
             ],
             [
              0.5555555555555556,
              "#d8576b"
             ],
             [
              0.6666666666666666,
              "#ed7953"
             ],
             [
              0.7777777777777778,
              "#fb9f3a"
             ],
             [
              0.8888888888888888,
              "#fdca26"
             ],
             [
              1,
              "#f0f921"
             ]
            ],
            "type": "heatmapgl"
           }
          ],
          "histogram": [
           {
            "marker": {
             "pattern": {
              "fillmode": "overlay",
              "size": 10,
              "solidity": 0.2
             }
            },
            "type": "histogram"
           }
          ],
          "histogram2d": [
           {
            "colorbar": {
             "outlinewidth": 0,
             "ticks": ""
            },
            "colorscale": [
             [
              0,
              "#0d0887"
             ],
             [
              0.1111111111111111,
              "#46039f"
             ],
             [
              0.2222222222222222,
              "#7201a8"
             ],
             [
              0.3333333333333333,
              "#9c179e"
             ],
             [
              0.4444444444444444,
              "#bd3786"
             ],
             [
              0.5555555555555556,
              "#d8576b"
             ],
             [
              0.6666666666666666,
              "#ed7953"
             ],
             [
              0.7777777777777778,
              "#fb9f3a"
             ],
             [
              0.8888888888888888,
              "#fdca26"
             ],
             [
              1,
              "#f0f921"
             ]
            ],
            "type": "histogram2d"
           }
          ],
          "histogram2dcontour": [
           {
            "colorbar": {
             "outlinewidth": 0,
             "ticks": ""
            },
            "colorscale": [
             [
              0,
              "#0d0887"
             ],
             [
              0.1111111111111111,
              "#46039f"
             ],
             [
              0.2222222222222222,
              "#7201a8"
             ],
             [
              0.3333333333333333,
              "#9c179e"
             ],
             [
              0.4444444444444444,
              "#bd3786"
             ],
             [
              0.5555555555555556,
              "#d8576b"
             ],
             [
              0.6666666666666666,
              "#ed7953"
             ],
             [
              0.7777777777777778,
              "#fb9f3a"
             ],
             [
              0.8888888888888888,
              "#fdca26"
             ],
             [
              1,
              "#f0f921"
             ]
            ],
            "type": "histogram2dcontour"
           }
          ],
          "mesh3d": [
           {
            "colorbar": {
             "outlinewidth": 0,
             "ticks": ""
            },
            "type": "mesh3d"
           }
          ],
          "parcoords": [
           {
            "line": {
             "colorbar": {
              "outlinewidth": 0,
              "ticks": ""
             }
            },
            "type": "parcoords"
           }
          ],
          "pie": [
           {
            "automargin": true,
            "type": "pie"
           }
          ],
          "scatter": [
           {
            "fillpattern": {
             "fillmode": "overlay",
             "size": 10,
             "solidity": 0.2
            },
            "type": "scatter"
           }
          ],
          "scatter3d": [
           {
            "line": {
             "colorbar": {
              "outlinewidth": 0,
              "ticks": ""
             }
            },
            "marker": {
             "colorbar": {
              "outlinewidth": 0,
              "ticks": ""
             }
            },
            "type": "scatter3d"
           }
          ],
          "scattercarpet": [
           {
            "marker": {
             "colorbar": {
              "outlinewidth": 0,
              "ticks": ""
             }
            },
            "type": "scattercarpet"
           }
          ],
          "scattergeo": [
           {
            "marker": {
             "colorbar": {
              "outlinewidth": 0,
              "ticks": ""
             }
            },
            "type": "scattergeo"
           }
          ],
          "scattergl": [
           {
            "marker": {
             "colorbar": {
              "outlinewidth": 0,
              "ticks": ""
             }
            },
            "type": "scattergl"
           }
          ],
          "scattermapbox": [
           {
            "marker": {
             "colorbar": {
              "outlinewidth": 0,
              "ticks": ""
             }
            },
            "type": "scattermapbox"
           }
          ],
          "scatterpolar": [
           {
            "marker": {
             "colorbar": {
              "outlinewidth": 0,
              "ticks": ""
             }
            },
            "type": "scatterpolar"
           }
          ],
          "scatterpolargl": [
           {
            "marker": {
             "colorbar": {
              "outlinewidth": 0,
              "ticks": ""
             }
            },
            "type": "scatterpolargl"
           }
          ],
          "scatterternary": [
           {
            "marker": {
             "colorbar": {
              "outlinewidth": 0,
              "ticks": ""
             }
            },
            "type": "scatterternary"
           }
          ],
          "surface": [
           {
            "colorbar": {
             "outlinewidth": 0,
             "ticks": ""
            },
            "colorscale": [
             [
              0,
              "#0d0887"
             ],
             [
              0.1111111111111111,
              "#46039f"
             ],
             [
              0.2222222222222222,
              "#7201a8"
             ],
             [
              0.3333333333333333,
              "#9c179e"
             ],
             [
              0.4444444444444444,
              "#bd3786"
             ],
             [
              0.5555555555555556,
              "#d8576b"
             ],
             [
              0.6666666666666666,
              "#ed7953"
             ],
             [
              0.7777777777777778,
              "#fb9f3a"
             ],
             [
              0.8888888888888888,
              "#fdca26"
             ],
             [
              1,
              "#f0f921"
             ]
            ],
            "type": "surface"
           }
          ],
          "table": [
           {
            "cells": {
             "fill": {
              "color": "#EBF0F8"
             },
             "line": {
              "color": "white"
             }
            },
            "header": {
             "fill": {
              "color": "#C8D4E3"
             },
             "line": {
              "color": "white"
             }
            },
            "type": "table"
           }
          ]
         },
         "layout": {
          "annotationdefaults": {
           "arrowcolor": "#2a3f5f",
           "arrowhead": 0,
           "arrowwidth": 1
          },
          "autotypenumbers": "strict",
          "coloraxis": {
           "colorbar": {
            "outlinewidth": 0,
            "ticks": ""
           }
          },
          "colorscale": {
           "diverging": [
            [
             0,
             "#8e0152"
            ],
            [
             0.1,
             "#c51b7d"
            ],
            [
             0.2,
             "#de77ae"
            ],
            [
             0.3,
             "#f1b6da"
            ],
            [
             0.4,
             "#fde0ef"
            ],
            [
             0.5,
             "#f7f7f7"
            ],
            [
             0.6,
             "#e6f5d0"
            ],
            [
             0.7,
             "#b8e186"
            ],
            [
             0.8,
             "#7fbc41"
            ],
            [
             0.9,
             "#4d9221"
            ],
            [
             1,
             "#276419"
            ]
           ],
           "sequential": [
            [
             0,
             "#0d0887"
            ],
            [
             0.1111111111111111,
             "#46039f"
            ],
            [
             0.2222222222222222,
             "#7201a8"
            ],
            [
             0.3333333333333333,
             "#9c179e"
            ],
            [
             0.4444444444444444,
             "#bd3786"
            ],
            [
             0.5555555555555556,
             "#d8576b"
            ],
            [
             0.6666666666666666,
             "#ed7953"
            ],
            [
             0.7777777777777778,
             "#fb9f3a"
            ],
            [
             0.8888888888888888,
             "#fdca26"
            ],
            [
             1,
             "#f0f921"
            ]
           ],
           "sequentialminus": [
            [
             0,
             "#0d0887"
            ],
            [
             0.1111111111111111,
             "#46039f"
            ],
            [
             0.2222222222222222,
             "#7201a8"
            ],
            [
             0.3333333333333333,
             "#9c179e"
            ],
            [
             0.4444444444444444,
             "#bd3786"
            ],
            [
             0.5555555555555556,
             "#d8576b"
            ],
            [
             0.6666666666666666,
             "#ed7953"
            ],
            [
             0.7777777777777778,
             "#fb9f3a"
            ],
            [
             0.8888888888888888,
             "#fdca26"
            ],
            [
             1,
             "#f0f921"
            ]
           ]
          },
          "colorway": [
           "#636efa",
           "#EF553B",
           "#00cc96",
           "#ab63fa",
           "#FFA15A",
           "#19d3f3",
           "#FF6692",
           "#B6E880",
           "#FF97FF",
           "#FECB52"
          ],
          "font": {
           "color": "#2a3f5f"
          },
          "geo": {
           "bgcolor": "white",
           "lakecolor": "white",
           "landcolor": "#E5ECF6",
           "showlakes": true,
           "showland": true,
           "subunitcolor": "white"
          },
          "hoverlabel": {
           "align": "left"
          },
          "hovermode": "closest",
          "mapbox": {
           "style": "light"
          },
          "paper_bgcolor": "white",
          "plot_bgcolor": "#E5ECF6",
          "polar": {
           "angularaxis": {
            "gridcolor": "white",
            "linecolor": "white",
            "ticks": ""
           },
           "bgcolor": "#E5ECF6",
           "radialaxis": {
            "gridcolor": "white",
            "linecolor": "white",
            "ticks": ""
           }
          },
          "scene": {
           "xaxis": {
            "backgroundcolor": "#E5ECF6",
            "gridcolor": "white",
            "gridwidth": 2,
            "linecolor": "white",
            "showbackground": true,
            "ticks": "",
            "zerolinecolor": "white"
           },
           "yaxis": {
            "backgroundcolor": "#E5ECF6",
            "gridcolor": "white",
            "gridwidth": 2,
            "linecolor": "white",
            "showbackground": true,
            "ticks": "",
            "zerolinecolor": "white"
           },
           "zaxis": {
            "backgroundcolor": "#E5ECF6",
            "gridcolor": "white",
            "gridwidth": 2,
            "linecolor": "white",
            "showbackground": true,
            "ticks": "",
            "zerolinecolor": "white"
           }
          },
          "shapedefaults": {
           "line": {
            "color": "#2a3f5f"
           }
          },
          "ternary": {
           "aaxis": {
            "gridcolor": "white",
            "linecolor": "white",
            "ticks": ""
           },
           "baxis": {
            "gridcolor": "white",
            "linecolor": "white",
            "ticks": ""
           },
           "bgcolor": "#E5ECF6",
           "caxis": {
            "gridcolor": "white",
            "linecolor": "white",
            "ticks": ""
           }
          },
          "title": {
           "x": 0.05
          },
          "xaxis": {
           "automargin": true,
           "gridcolor": "white",
           "linecolor": "white",
           "ticks": "",
           "title": {
            "standoff": 15
           },
           "zerolinecolor": "white",
           "zerolinewidth": 2
          },
          "yaxis": {
           "automargin": true,
           "gridcolor": "white",
           "linecolor": "white",
           "ticks": "",
           "title": {
            "standoff": 15
           },
           "zerolinecolor": "white",
           "zerolinewidth": 2
          }
         }
        },
        "title": {
         "text": "final_clean_accuracy by Strategy and Size"
        },
        "width": 600,
        "xaxis": {
         "gridcolor": "lightgray",
         "showgrid": true,
         "title": {
          "text": "Size"
         },
         "type": "log"
        },
        "yaxis": {
         "gridcolor": "lightgray",
         "showgrid": true,
         "title": {
          "text": "final_clean_accuracy"
         }
        }
       }
      }
     },
     "metadata": {},
     "output_type": "display_data"
    }
   ],
   "source": [
    "import plotly.graph_objects as go\n",
    "import pandas as pd\n",
    "\n",
    "# Load and prepare the data\n",
    "new_data = pd.read_csv('results/means.csv', skiprows=2)\n",
    "new_data.columns = ['active_strategy', 'size', 'final_clean_accuracy',\n",
    "                    'final_clean_accuracy_std', 'final_PGD_accuracy', 'final_PGD_accuracy_std']\n",
    "new_data['size'] = new_data['size'].astype(int)\n",
    "\n",
    "\n",
    "\n",
    "\n",
    "for performance in ['PGD_accuracy', 'clean_accuracy' ]:\n",
    "# performance = 'final_PGD_accuracy' \n",
    "# # performance = 'final_clean_accuracy'\n",
    "    fig = go.Figure()\n",
    "\n",
    "    # fig.add_trace(go.Scatter(x=[0, 50000], y=[ init_means_stds['init_'+performance]['mean'][0], init_means_stds['init_'+performance]['mean'][0] ],\n",
    "    #         mode='lines', line=dict(color='rgba({},{},{},1)'.format(0,0,204), width=2, dash='dot'),\n",
    "    #                     name='Init Accuracy', showlegend=True))\n",
    "\n",
    "\n",
    "    performance = 'final_'+performance\n",
    "    performance_std = performance + '_std'  # Corresponding standard deviation column\n",
    "\n",
    "    strategies = {\n",
    "        #'EEneuralcbpside_v5': {'color': [255, 255, 0], 'label': 'EEneuralcbpside_v5'},  # Red\n",
    "        'full': {'color': [0, 0, 0], 'label': 'full'},  # Red\n",
    "        'uncertainty': {'color': [255, 161, 90], 'label':'uncertainty'},                    # Yellow\n",
    "        'random': {'color': [25, 211, 243], 'label':'random'},                    # Cyan\n",
    "        'entropy': {'color': [255, 102, 146], 'label':'entropy'},                  # Magenta\n",
    "        'attack': {'color': [182, 232, 128], 'label':'attack'},                   # Orange\n",
    "        'margin': {'color': [254, 203, 82], 'label':'margin'},\n",
    "    }\n",
    "\n",
    "\n",
    "    z_value = 2.576\n",
    "    n = 5\n",
    "\n",
    "    # Add a line for each strategy\n",
    "    for strategy, v in strategies.items():\n",
    "        r,g,b = v['color']\n",
    "        c = 'rgba({},{},{},1)'.format(r,g,b)\n",
    "\n",
    "        # Add a horizontal line for the 'full' strategy\n",
    "        if strategy == 'full':\n",
    "            full_data = new_data[new_data['active_strategy'] == 'full']\n",
    "            # Calculate the mean PGD accuracy for the 'full' strategy\n",
    "            full_mean_accuracy = full_data[performance].mean()\n",
    "            fig.add_trace(go.Scatter(x=[min(new_data['size']), max(new_data['size'])], y=[full_mean_accuracy, full_mean_accuracy],\n",
    "                                    mode='lines', line=dict(color=c, width=2, dash='dash'),\n",
    "                                    name='Full Dataset Average', showlegend=True))\n",
    "            \n",
    "            strategy_data = new_data[new_data['active_strategy'] == strategy]\n",
    "            fig.add_trace(go.Scatter( x=strategy_data['size'],  y=strategy_data[performance],  mode='lines+markers',\n",
    "                            name=strategy, line=dict(color=c  ) ,\n",
    "                            error_y=dict(\n",
    "                            type='data',  symmetric=False,  \n",
    "                            array=z_value * strategy_data[performance_std] / n,  \n",
    "                            arrayminus=z_value * strategy_data[performance_std] / n   ), showlegend=False\n",
    "                                ))\n",
    "\n",
    "            \n",
    "        else:\n",
    "            strategy_data = new_data[new_data['active_strategy'] == strategy]\n",
    "            fig.add_trace(go.Scatter(x=strategy_data['size'], y=strategy_data[performance], line=dict(color=c),\n",
    "                                    error_y=dict(\n",
    "                                        type='data',  symmetric=False,  \n",
    "                                        array=z_value * strategy_data[performance_std] / n,  \n",
    "                                        arrayminus=z_value * strategy_data[performance_std] / n   ),\n",
    "                                    mode='lines+markers', name=strategy))\n",
    "\n",
    "\n",
    "\n",
    "\n",
    "    # Update layout and display the plot\n",
    "    fig.update_layout(\n",
    "        width=600,  # Adjusted for two subplots\n",
    "        height=400,\n",
    "        plot_bgcolor='white',\n",
    "        paper_bgcolor='white',\n",
    "        margin=dict(l=0, r=0, t=50, b=0),\n",
    "        # title=\"Box Plot of Datasets by Cases and Columns\",\n",
    "        title='{} by Strategy and Size'.format(performance),\n",
    "        xaxis_title='Size',\n",
    "        yaxis_title=performance,\n",
    "        legend_title='Active Strategy',\n",
    "        # yaxis_range=[min(new_data[performance]) - 2, max(new_data[performance]) + 2],\n",
    "        showlegend=True,\n",
    "        xaxis=dict(\n",
    "            type='log',\n",
    "            showgrid=True,        # Enable the grid\n",
    "            gridcolor='lightgray' # Set grid line color\n",
    "        ),\n",
    "        yaxis=dict(\n",
    "            showgrid=True,        # Enable the grid\n",
    "            gridcolor='lightgray', # Set grid line color\n",
    "            #range=[75,94] if 'clean' in performance else [45,65]\n",
    "        )\n",
    "        )\n",
    "\n",
    "    # Display the figure\n",
    "    fig.show()\n",
    "    fig.write_image(\"./figures/results_{}_{}_{}_{}_{}_{}.pdf\".format(loss,performance, data, model, n_rounds, nb_epochs) )\n"
   ]
  }
 ],
 "metadata": {
  "kernelspec": {
   "display_name": ".venv",
   "language": "python",
   "name": "python3"
  },
  "language_info": {
   "codemirror_mode": {
    "name": "ipython",
    "version": 3
   },
   "file_extension": ".py",
   "mimetype": "text/x-python",
   "name": "python",
   "nbconvert_exporter": "python",
   "pygments_lexer": "ipython3",
   "version": "3.8.10"
  }
 },
 "nbformat": 4,
 "nbformat_minor": 2
}
