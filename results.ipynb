{
 "cells": [
  {
   "cell_type": "code",
   "execution_count": 6,
   "metadata": {},
   "outputs": [
    {
     "name": "stdout",
     "output_type": "stream",
     "text": [
      "{'active_strategy': 'attack', 'n_rounds': 6, 'size': 500, 'nb_epochs': 10, 'seed': 0, 'data': 'CIFAR10', 'model': 'resnet50', 'init_clean_accuracy': 93.66, 'init_PGD_accuracy': 46.85, 'final_clean_accuracy': 81.94, 'final_PGD_accuracy': 56.2}\n",
      "{'active_strategy': 'attack', 'n_rounds': 6, 'size': 500, 'nb_epochs': 10, 'seed': 1, 'data': 'CIFAR10', 'model': 'resnet50', 'init_clean_accuracy': 93.66, 'init_PGD_accuracy': 46.91, 'final_clean_accuracy': 80.64, 'final_PGD_accuracy': 52.0}\n",
      "{'active_strategy': 'attack', 'n_rounds': 6, 'size': 500, 'nb_epochs': 10, 'seed': 2, 'data': 'CIFAR10', 'model': 'resnet50', 'init_clean_accuracy': 93.66, 'init_PGD_accuracy': 46.77, 'final_clean_accuracy': 82.34, 'final_PGD_accuracy': 54.69}\n",
      "{'active_strategy': 'attack', 'n_rounds': 6, 'size': 500, 'nb_epochs': 10, 'seed': 3, 'data': 'CIFAR10', 'model': 'resnet50', 'init_clean_accuracy': 93.66, 'init_PGD_accuracy': 46.91, 'final_clean_accuracy': 82.15, 'final_PGD_accuracy': 54.27}\n",
      "{'active_strategy': 'attack', 'n_rounds': 6, 'size': 500, 'nb_epochs': 10, 'seed': 4, 'data': 'CIFAR10', 'model': 'resnet50', 'init_clean_accuracy': 93.66, 'init_PGD_accuracy': 46.77, 'final_clean_accuracy': 79.24, 'final_PGD_accuracy': 53.96}\n",
      "{'active_strategy': 'attack', 'n_rounds': 6, 'size': 1500, 'nb_epochs': 10, 'seed': 0, 'data': 'CIFAR10', 'model': 'resnet50', 'init_clean_accuracy': 93.66, 'init_PGD_accuracy': 46.85, 'final_clean_accuracy': 81.15, 'final_PGD_accuracy': 59.46}\n",
      "{'active_strategy': 'attack', 'n_rounds': 6, 'size': 1500, 'nb_epochs': 10, 'seed': 1, 'data': 'CIFAR10', 'model': 'resnet50', 'init_clean_accuracy': 93.66, 'init_PGD_accuracy': 46.91, 'final_clean_accuracy': 81.01, 'final_PGD_accuracy': 57.76}\n",
      "{'active_strategy': 'attack', 'n_rounds': 6, 'size': 1500, 'nb_epochs': 10, 'seed': 2, 'data': 'CIFAR10', 'model': 'resnet50', 'init_clean_accuracy': 93.66, 'init_PGD_accuracy': 46.77, 'final_clean_accuracy': 81.74, 'final_PGD_accuracy': 56.05}\n",
      "{'active_strategy': 'attack', 'n_rounds': 6, 'size': 1500, 'nb_epochs': 10, 'seed': 3, 'data': 'CIFAR10', 'model': 'resnet50', 'init_clean_accuracy': 93.66, 'init_PGD_accuracy': 46.91, 'final_clean_accuracy': 82.0, 'final_PGD_accuracy': 58.22}\n",
      "{'active_strategy': 'attack', 'n_rounds': 6, 'size': 1500, 'nb_epochs': 10, 'seed': 4, 'data': 'CIFAR10', 'model': 'resnet50', 'init_clean_accuracy': 93.66, 'init_PGD_accuracy': 46.77, 'final_clean_accuracy': 81.34, 'final_PGD_accuracy': 59.26}\n",
      "{'active_strategy': 'attack', 'n_rounds': 6, 'size': 2500, 'nb_epochs': 10, 'seed': 0, 'data': 'CIFAR10', 'model': 'resnet50', 'init_clean_accuracy': 93.66, 'init_PGD_accuracy': 46.85, 'final_clean_accuracy': 81.99, 'final_PGD_accuracy': 59.04}\n",
      "{'active_strategy': 'attack', 'n_rounds': 6, 'size': 2500, 'nb_epochs': 10, 'seed': 1, 'data': 'CIFAR10', 'model': 'resnet50', 'init_clean_accuracy': 93.66, 'init_PGD_accuracy': 46.91, 'final_clean_accuracy': 83.23, 'final_PGD_accuracy': 56.4}\n",
      "{'active_strategy': 'attack', 'n_rounds': 6, 'size': 2500, 'nb_epochs': 10, 'seed': 2, 'data': 'CIFAR10', 'model': 'resnet50', 'init_clean_accuracy': 93.66, 'init_PGD_accuracy': 46.77, 'final_clean_accuracy': 82.86, 'final_PGD_accuracy': 60.13}\n",
      "{'active_strategy': 'attack', 'n_rounds': 6, 'size': 2500, 'nb_epochs': 10, 'seed': 3, 'data': 'CIFAR10', 'model': 'resnet50', 'init_clean_accuracy': 93.66, 'init_PGD_accuracy': 46.91, 'final_clean_accuracy': 82.1, 'final_PGD_accuracy': 60.47}\n",
      "{'active_strategy': 'attack', 'n_rounds': 6, 'size': 2500, 'nb_epochs': 10, 'seed': 4, 'data': 'CIFAR10', 'model': 'resnet50', 'init_clean_accuracy': 93.66, 'init_PGD_accuracy': 46.77, 'final_clean_accuracy': 80.97, 'final_PGD_accuracy': 58.89}\n",
      "{'active_strategy': 'attack', 'n_rounds': 6, 'size': 5000, 'nb_epochs': 10, 'seed': 0, 'data': 'CIFAR10', 'model': 'resnet50', 'init_clean_accuracy': 93.66, 'init_PGD_accuracy': 46.85, 'final_clean_accuracy': 83.4, 'final_PGD_accuracy': 60.82}\n",
      "{'active_strategy': 'attack', 'n_rounds': 6, 'size': 5000, 'nb_epochs': 10, 'seed': 1, 'data': 'CIFAR10', 'model': 'resnet50', 'init_clean_accuracy': 93.66, 'init_PGD_accuracy': 46.91, 'final_clean_accuracy': 82.4, 'final_PGD_accuracy': 60.85}\n",
      "{'active_strategy': 'attack', 'n_rounds': 6, 'size': 5000, 'nb_epochs': 10, 'seed': 2, 'data': 'CIFAR10', 'model': 'resnet50', 'init_clean_accuracy': 93.66, 'init_PGD_accuracy': 46.77, 'final_clean_accuracy': 81.18, 'final_PGD_accuracy': 59.41}\n",
      "{'active_strategy': 'attack', 'n_rounds': 6, 'size': 5000, 'nb_epochs': 10, 'seed': 3, 'data': 'CIFAR10', 'model': 'resnet50', 'init_clean_accuracy': 93.66, 'init_PGD_accuracy': 46.91, 'final_clean_accuracy': 82.86, 'final_PGD_accuracy': 61.22}\n",
      "{'active_strategy': 'attack', 'n_rounds': 6, 'size': 5000, 'nb_epochs': 10, 'seed': 4, 'data': 'CIFAR10', 'model': 'resnet50', 'init_clean_accuracy': 93.66, 'init_PGD_accuracy': 46.77, 'final_clean_accuracy': 82.46, 'final_PGD_accuracy': 59.83}\n",
      "{'active_strategy': 'attack', 'n_rounds': 6, 'size': 7500, 'nb_epochs': 10, 'seed': 0, 'data': 'CIFAR10', 'model': 'resnet50', 'init_clean_accuracy': 93.66, 'init_PGD_accuracy': 46.85, 'final_clean_accuracy': 83.3, 'final_PGD_accuracy': 61.6}\n",
      "{'active_strategy': 'attack', 'n_rounds': 6, 'size': 7500, 'nb_epochs': 10, 'seed': 1, 'data': 'CIFAR10', 'model': 'resnet50', 'init_clean_accuracy': 93.66, 'init_PGD_accuracy': 46.91, 'final_clean_accuracy': 83.66, 'final_PGD_accuracy': 61.5}\n",
      "{'active_strategy': 'attack', 'n_rounds': 6, 'size': 7500, 'nb_epochs': 10, 'seed': 2, 'data': 'CIFAR10', 'model': 'resnet50', 'init_clean_accuracy': 93.66, 'init_PGD_accuracy': 46.77, 'final_clean_accuracy': 84.59, 'final_PGD_accuracy': 59.35}\n",
      "{'active_strategy': 'attack', 'n_rounds': 6, 'size': 7500, 'nb_epochs': 10, 'seed': 3, 'data': 'CIFAR10', 'model': 'resnet50', 'init_clean_accuracy': 93.66, 'init_PGD_accuracy': 46.91, 'final_clean_accuracy': 83.11, 'final_PGD_accuracy': 61.24}\n",
      "{'active_strategy': 'attack', 'n_rounds': 6, 'size': 7500, 'nb_epochs': 10, 'seed': 4, 'data': 'CIFAR10', 'model': 'resnet50', 'init_clean_accuracy': 93.66, 'init_PGD_accuracy': 46.77, 'final_clean_accuracy': 83.27, 'final_PGD_accuracy': 62.22}\n",
      "{'active_strategy': 'attack', 'n_rounds': 6, 'size': 10000, 'nb_epochs': 10, 'seed': 0, 'data': 'CIFAR10', 'model': 'resnet50', 'init_clean_accuracy': 93.66, 'init_PGD_accuracy': 46.85, 'final_clean_accuracy': 84.38, 'final_PGD_accuracy': 61.93}\n",
      "{'active_strategy': 'attack', 'n_rounds': 6, 'size': 10000, 'nb_epochs': 10, 'seed': 1, 'data': 'CIFAR10', 'model': 'resnet50', 'init_clean_accuracy': 93.66, 'init_PGD_accuracy': 46.91, 'final_clean_accuracy': 84.42, 'final_PGD_accuracy': 62.0}\n",
      "{'active_strategy': 'attack', 'n_rounds': 6, 'size': 10000, 'nb_epochs': 10, 'seed': 2, 'data': 'CIFAR10', 'model': 'resnet50', 'init_clean_accuracy': 93.66, 'init_PGD_accuracy': 46.77, 'final_clean_accuracy': 84.42, 'final_PGD_accuracy': 56.54}\n",
      "{'active_strategy': 'attack', 'n_rounds': 6, 'size': 10000, 'nb_epochs': 10, 'seed': 3, 'data': 'CIFAR10', 'model': 'resnet50', 'init_clean_accuracy': 93.66, 'init_PGD_accuracy': 46.91, 'final_clean_accuracy': 83.17, 'final_PGD_accuracy': 63.37}\n",
      "{'active_strategy': 'attack', 'n_rounds': 6, 'size': 10000, 'nb_epochs': 10, 'seed': 4, 'data': 'CIFAR10', 'model': 'resnet50', 'init_clean_accuracy': 93.66, 'init_PGD_accuracy': 46.77, 'final_clean_accuracy': 83.77, 'final_PGD_accuracy': 62.56}\n",
      "{'active_strategy': 'attack', 'n_rounds': 6, 'size': 12500, 'nb_epochs': 10, 'seed': 0, 'data': 'CIFAR10', 'model': 'resnet50', 'init_clean_accuracy': 93.66, 'init_PGD_accuracy': 46.85, 'final_clean_accuracy': 84.68, 'final_PGD_accuracy': 62.57}\n",
      "{'active_strategy': 'attack', 'n_rounds': 6, 'size': 12500, 'nb_epochs': 10, 'seed': 1, 'data': 'CIFAR10', 'model': 'resnet50', 'init_clean_accuracy': 93.66, 'init_PGD_accuracy': 46.91, 'final_clean_accuracy': 84.84, 'final_PGD_accuracy': 63.09}\n",
      "{'active_strategy': 'attack', 'n_rounds': 6, 'size': 12500, 'nb_epochs': 10, 'seed': 2, 'data': 'CIFAR10', 'model': 'resnet50', 'init_clean_accuracy': 93.66, 'init_PGD_accuracy': 46.77, 'final_clean_accuracy': 84.99, 'final_PGD_accuracy': 62.04}\n",
      "{'active_strategy': 'attack', 'n_rounds': 6, 'size': 12500, 'nb_epochs': 10, 'seed': 3, 'data': 'CIFAR10', 'model': 'resnet50', 'init_clean_accuracy': 93.66, 'init_PGD_accuracy': 46.91, 'final_clean_accuracy': 84.79, 'final_PGD_accuracy': 62.77}\n",
      "{'active_strategy': 'attack', 'n_rounds': 6, 'size': 12500, 'nb_epochs': 10, 'seed': 4, 'data': 'CIFAR10', 'model': 'resnet50', 'init_clean_accuracy': 93.66, 'init_PGD_accuracy': 46.77, 'final_clean_accuracy': 84.19, 'final_PGD_accuracy': 61.11}\n",
      "{'active_strategy': 'uncertainty', 'n_rounds': 6, 'size': 500, 'nb_epochs': 10, 'seed': 0, 'data': 'CIFAR10', 'model': 'resnet50', 'init_clean_accuracy': 93.66, 'init_PGD_accuracy': 46.85, 'final_clean_accuracy': 85.84, 'final_PGD_accuracy': 49.1}\n",
      "{'active_strategy': 'uncertainty', 'n_rounds': 6, 'size': 500, 'nb_epochs': 10, 'seed': 1, 'data': 'CIFAR10', 'model': 'resnet50', 'init_clean_accuracy': 93.66, 'init_PGD_accuracy': 46.91, 'final_clean_accuracy': 86.14, 'final_PGD_accuracy': 52.23}\n",
      "{'active_strategy': 'uncertainty', 'n_rounds': 6, 'size': 500, 'nb_epochs': 10, 'seed': 2, 'data': 'CIFAR10', 'model': 'resnet50', 'init_clean_accuracy': 93.66, 'init_PGD_accuracy': 46.77, 'final_clean_accuracy': 86.67, 'final_PGD_accuracy': 48.93}\n",
      "{'active_strategy': 'uncertainty', 'n_rounds': 6, 'size': 500, 'nb_epochs': 10, 'seed': 3, 'data': 'CIFAR10', 'model': 'resnet50', 'init_clean_accuracy': 93.66, 'init_PGD_accuracy': 46.91, 'final_clean_accuracy': 86.72, 'final_PGD_accuracy': 52.53}\n",
      "{'active_strategy': 'uncertainty', 'n_rounds': 6, 'size': 500, 'nb_epochs': 10, 'seed': 4, 'data': 'CIFAR10', 'model': 'resnet50', 'init_clean_accuracy': 93.66, 'init_PGD_accuracy': 46.77, 'final_clean_accuracy': 86.36, 'final_PGD_accuracy': 51.37}\n",
      "{'active_strategy': 'uncertainty', 'n_rounds': 6, 'size': 1500, 'nb_epochs': 10, 'seed': 0, 'data': 'CIFAR10', 'model': 'resnet50', 'init_clean_accuracy': 93.66, 'init_PGD_accuracy': 46.85, 'final_clean_accuracy': 86.57, 'final_PGD_accuracy': 50.22}\n",
      "{'active_strategy': 'uncertainty', 'n_rounds': 6, 'size': 1500, 'nb_epochs': 10, 'seed': 1, 'data': 'CIFAR10', 'model': 'resnet50', 'init_clean_accuracy': 93.66, 'init_PGD_accuracy': 46.91, 'final_clean_accuracy': 86.05, 'final_PGD_accuracy': 51.31}\n",
      "{'active_strategy': 'uncertainty', 'n_rounds': 6, 'size': 1500, 'nb_epochs': 10, 'seed': 2, 'data': 'CIFAR10', 'model': 'resnet50', 'init_clean_accuracy': 93.66, 'init_PGD_accuracy': 46.77, 'final_clean_accuracy': 86.61, 'final_PGD_accuracy': 52.07}\n",
      "{'active_strategy': 'uncertainty', 'n_rounds': 6, 'size': 1500, 'nb_epochs': 10, 'seed': 3, 'data': 'CIFAR10', 'model': 'resnet50', 'init_clean_accuracy': 93.66, 'init_PGD_accuracy': 46.91, 'final_clean_accuracy': 85.56, 'final_PGD_accuracy': 53.46}\n",
      "{'active_strategy': 'uncertainty', 'n_rounds': 6, 'size': 1500, 'nb_epochs': 10, 'seed': 4, 'data': 'CIFAR10', 'model': 'resnet50', 'init_clean_accuracy': 93.66, 'init_PGD_accuracy': 46.77, 'final_clean_accuracy': 85.91, 'final_PGD_accuracy': 51.9}\n",
      "{'active_strategy': 'uncertainty', 'n_rounds': 6, 'size': 2500, 'nb_epochs': 10, 'seed': 0, 'data': 'CIFAR10', 'model': 'resnet50', 'init_clean_accuracy': 93.66, 'init_PGD_accuracy': 46.85, 'final_clean_accuracy': 85.43, 'final_PGD_accuracy': 50.68}\n",
      "{'active_strategy': 'uncertainty', 'n_rounds': 6, 'size': 2500, 'nb_epochs': 10, 'seed': 1, 'data': 'CIFAR10', 'model': 'resnet50', 'init_clean_accuracy': 93.66, 'init_PGD_accuracy': 46.91, 'final_clean_accuracy': 85.51, 'final_PGD_accuracy': 51.24}\n",
      "{'active_strategy': 'uncertainty', 'n_rounds': 6, 'size': 2500, 'nb_epochs': 10, 'seed': 2, 'data': 'CIFAR10', 'model': 'resnet50', 'init_clean_accuracy': 93.66, 'init_PGD_accuracy': 46.77, 'final_clean_accuracy': 85.19, 'final_PGD_accuracy': 49.83}\n",
      "{'active_strategy': 'uncertainty', 'n_rounds': 6, 'size': 2500, 'nb_epochs': 10, 'seed': 3, 'data': 'CIFAR10', 'model': 'resnet50', 'init_clean_accuracy': 93.66, 'init_PGD_accuracy': 46.91, 'final_clean_accuracy': 84.23, 'final_PGD_accuracy': 51.39}\n",
      "{'active_strategy': 'uncertainty', 'n_rounds': 6, 'size': 2500, 'nb_epochs': 10, 'seed': 4, 'data': 'CIFAR10', 'model': 'resnet50', 'init_clean_accuracy': 93.66, 'init_PGD_accuracy': 46.77, 'final_clean_accuracy': 85.1, 'final_PGD_accuracy': 50.92}\n",
      "{'active_strategy': 'uncertainty', 'n_rounds': 6, 'size': 5000, 'nb_epochs': 10, 'seed': 0, 'data': 'CIFAR10', 'model': 'resnet50', 'init_clean_accuracy': 93.66, 'init_PGD_accuracy': 46.85, 'final_clean_accuracy': 86.84, 'final_PGD_accuracy': 53.09}\n",
      "{'active_strategy': 'uncertainty', 'n_rounds': 6, 'size': 5000, 'nb_epochs': 10, 'seed': 1, 'data': 'CIFAR10', 'model': 'resnet50', 'init_clean_accuracy': 93.66, 'init_PGD_accuracy': 46.91, 'final_clean_accuracy': 85.46, 'final_PGD_accuracy': 52.42}\n",
      "{'active_strategy': 'uncertainty', 'n_rounds': 6, 'size': 5000, 'nb_epochs': 10, 'seed': 2, 'data': 'CIFAR10', 'model': 'resnet50', 'init_clean_accuracy': 93.66, 'init_PGD_accuracy': 46.77, 'final_clean_accuracy': 86.03, 'final_PGD_accuracy': 53.94}\n",
      "{'active_strategy': 'uncertainty', 'n_rounds': 6, 'size': 5000, 'nb_epochs': 10, 'seed': 3, 'data': 'CIFAR10', 'model': 'resnet50', 'init_clean_accuracy': 93.66, 'init_PGD_accuracy': 46.91, 'final_clean_accuracy': 85.4, 'final_PGD_accuracy': 55.12}\n",
      "{'active_strategy': 'uncertainty', 'n_rounds': 6, 'size': 5000, 'nb_epochs': 10, 'seed': 4, 'data': 'CIFAR10', 'model': 'resnet50', 'init_clean_accuracy': 93.66, 'init_PGD_accuracy': 46.77, 'final_clean_accuracy': 85.36, 'final_PGD_accuracy': 53.4}\n",
      "{'active_strategy': 'uncertainty', 'n_rounds': 6, 'size': 7500, 'nb_epochs': 10, 'seed': 0, 'data': 'CIFAR10', 'model': 'resnet50', 'init_clean_accuracy': 93.66, 'init_PGD_accuracy': 46.85, 'final_clean_accuracy': 87.45, 'final_PGD_accuracy': 56.92}\n",
      "{'active_strategy': 'uncertainty', 'n_rounds': 6, 'size': 7500, 'nb_epochs': 10, 'seed': 1, 'data': 'CIFAR10', 'model': 'resnet50', 'init_clean_accuracy': 93.66, 'init_PGD_accuracy': 46.91, 'final_clean_accuracy': 86.72, 'final_PGD_accuracy': 57.48}\n",
      "{'active_strategy': 'uncertainty', 'n_rounds': 6, 'size': 7500, 'nb_epochs': 10, 'seed': 2, 'data': 'CIFAR10', 'model': 'resnet50', 'init_clean_accuracy': 93.66, 'init_PGD_accuracy': 46.77, 'final_clean_accuracy': 87.31, 'final_PGD_accuracy': 55.01}\n",
      "{'active_strategy': 'uncertainty', 'n_rounds': 6, 'size': 7500, 'nb_epochs': 10, 'seed': 3, 'data': 'CIFAR10', 'model': 'resnet50', 'init_clean_accuracy': 93.66, 'init_PGD_accuracy': 46.91, 'final_clean_accuracy': 87.1, 'final_PGD_accuracy': 55.96}\n",
      "{'active_strategy': 'uncertainty', 'n_rounds': 6, 'size': 7500, 'nb_epochs': 10, 'seed': 4, 'data': 'CIFAR10', 'model': 'resnet50', 'init_clean_accuracy': 93.66, 'init_PGD_accuracy': 46.77, 'final_clean_accuracy': 86.85, 'final_PGD_accuracy': 55.11}\n",
      "{'active_strategy': 'uncertainty', 'n_rounds': 6, 'size': 10000, 'nb_epochs': 10, 'seed': 0, 'data': 'CIFAR10', 'model': 'resnet50', 'init_clean_accuracy': 93.66, 'init_PGD_accuracy': 46.85, 'final_clean_accuracy': 87.28, 'final_PGD_accuracy': 56.04}\n",
      "{'active_strategy': 'uncertainty', 'n_rounds': 6, 'size': 10000, 'nb_epochs': 10, 'seed': 1, 'data': 'CIFAR10', 'model': 'resnet50', 'init_clean_accuracy': 93.66, 'init_PGD_accuracy': 46.91, 'final_clean_accuracy': 87.02, 'final_PGD_accuracy': 57.56}\n",
      "{'active_strategy': 'uncertainty', 'n_rounds': 6, 'size': 10000, 'nb_epochs': 10, 'seed': 2, 'data': 'CIFAR10', 'model': 'resnet50', 'init_clean_accuracy': 93.66, 'init_PGD_accuracy': 46.77, 'final_clean_accuracy': 85.72, 'final_PGD_accuracy': 55.95}\n",
      "{'active_strategy': 'uncertainty', 'n_rounds': 6, 'size': 10000, 'nb_epochs': 10, 'seed': 3, 'data': 'CIFAR10', 'model': 'resnet50', 'init_clean_accuracy': 93.66, 'init_PGD_accuracy': 46.91, 'final_clean_accuracy': 87.21, 'final_PGD_accuracy': 57.07}\n",
      "{'active_strategy': 'uncertainty', 'n_rounds': 6, 'size': 10000, 'nb_epochs': 10, 'seed': 4, 'data': 'CIFAR10', 'model': 'resnet50', 'init_clean_accuracy': 93.66, 'init_PGD_accuracy': 46.77, 'final_clean_accuracy': 86.4, 'final_PGD_accuracy': 53.79}\n",
      "{'active_strategy': 'uncertainty', 'n_rounds': 6, 'size': 12500, 'nb_epochs': 10, 'seed': 0, 'data': 'CIFAR10', 'model': 'resnet50', 'init_clean_accuracy': 93.66, 'init_PGD_accuracy': 46.85, 'final_clean_accuracy': 88.47, 'final_PGD_accuracy': 59.2}\n",
      "{'active_strategy': 'uncertainty', 'n_rounds': 6, 'size': 12500, 'nb_epochs': 10, 'seed': 1, 'data': 'CIFAR10', 'model': 'resnet50', 'init_clean_accuracy': 93.66, 'init_PGD_accuracy': 46.91, 'final_clean_accuracy': 87.54, 'final_PGD_accuracy': 58.64}\n",
      "{'active_strategy': 'uncertainty', 'n_rounds': 6, 'size': 12500, 'nb_epochs': 10, 'seed': 2, 'data': 'CIFAR10', 'model': 'resnet50', 'init_clean_accuracy': 93.66, 'init_PGD_accuracy': 46.77, 'final_clean_accuracy': 87.95, 'final_PGD_accuracy': 58.6}\n",
      "{'active_strategy': 'uncertainty', 'n_rounds': 6, 'size': 12500, 'nb_epochs': 10, 'seed': 3, 'data': 'CIFAR10', 'model': 'resnet50', 'init_clean_accuracy': 93.66, 'init_PGD_accuracy': 46.91, 'final_clean_accuracy': 87.13, 'final_PGD_accuracy': 57.9}\n",
      "{'active_strategy': 'uncertainty', 'n_rounds': 6, 'size': 12500, 'nb_epochs': 10, 'seed': 4, 'data': 'CIFAR10', 'model': 'resnet50', 'init_clean_accuracy': 93.66, 'init_PGD_accuracy': 46.77, 'final_clean_accuracy': 88.01, 'final_PGD_accuracy': 57.8}\n",
      "{'active_strategy': 'uncertainty', 'n_rounds': 6, 'size': 25000, 'nb_epochs': 10, 'seed': 0, 'data': 'CIFAR10', 'model': 'resnet50', 'init_clean_accuracy': 93.66, 'init_PGD_accuracy': 46.85, 'final_clean_accuracy': 88.25, 'final_PGD_accuracy': 63.24}\n",
      "{'active_strategy': 'uncertainty', 'n_rounds': 6, 'size': 25000, 'nb_epochs': 10, 'seed': 1, 'data': 'CIFAR10', 'model': 'resnet50', 'init_clean_accuracy': 93.66, 'init_PGD_accuracy': 46.91, 'final_clean_accuracy': 87.69, 'final_PGD_accuracy': 61.52}\n",
      "{'active_strategy': 'uncertainty', 'n_rounds': 6, 'size': 25000, 'nb_epochs': 10, 'seed': 2, 'data': 'CIFAR10', 'model': 'resnet50', 'init_clean_accuracy': 93.66, 'init_PGD_accuracy': 46.77, 'final_clean_accuracy': 87.26, 'final_PGD_accuracy': 58.33}\n",
      "{'active_strategy': 'uncertainty', 'n_rounds': 6, 'size': 25000, 'nb_epochs': 10, 'seed': 3, 'data': 'CIFAR10', 'model': 'resnet50', 'init_clean_accuracy': 93.66, 'init_PGD_accuracy': 46.91, 'final_clean_accuracy': 87.85, 'final_PGD_accuracy': 62.26}\n",
      "{'active_strategy': 'uncertainty', 'n_rounds': 6, 'size': 25000, 'nb_epochs': 10, 'seed': 4, 'data': 'CIFAR10', 'model': 'resnet50', 'init_clean_accuracy': 93.66, 'init_PGD_accuracy': 46.77, 'final_clean_accuracy': 88.2, 'final_PGD_accuracy': 59.57}\n",
      "{'active_strategy': 'uncertainty', 'n_rounds': 6, 'size': 37500, 'nb_epochs': 10, 'seed': 0, 'data': 'CIFAR10', 'model': 'resnet50', 'init_clean_accuracy': 93.66, 'init_PGD_accuracy': 46.85, 'final_clean_accuracy': 88.43, 'final_PGD_accuracy': 63.25}\n",
      "{'active_strategy': 'uncertainty', 'n_rounds': 6, 'size': 37500, 'nb_epochs': 10, 'seed': 1, 'data': 'CIFAR10', 'model': 'resnet50', 'init_clean_accuracy': 93.66, 'init_PGD_accuracy': 46.91, 'final_clean_accuracy': 87.62, 'final_PGD_accuracy': 62.44}\n",
      "{'active_strategy': 'uncertainty', 'n_rounds': 6, 'size': 37500, 'nb_epochs': 10, 'seed': 2, 'data': 'CIFAR10', 'model': 'resnet50', 'init_clean_accuracy': 93.66, 'init_PGD_accuracy': 46.77, 'final_clean_accuracy': 88.33, 'final_PGD_accuracy': 61.88}\n",
      "{'active_strategy': 'uncertainty', 'n_rounds': 6, 'size': 37500, 'nb_epochs': 10, 'seed': 3, 'data': 'CIFAR10', 'model': 'resnet50', 'init_clean_accuracy': 93.66, 'init_PGD_accuracy': 46.91, 'final_clean_accuracy': 88.13, 'final_PGD_accuracy': 62.67}\n",
      "{'active_strategy': 'uncertainty', 'n_rounds': 6, 'size': 37500, 'nb_epochs': 10, 'seed': 4, 'data': 'CIFAR10', 'model': 'resnet50', 'init_clean_accuracy': 93.66, 'init_PGD_accuracy': 46.77, 'final_clean_accuracy': 87.99, 'final_PGD_accuracy': 62.97}\n",
      "{'active_strategy': 'margin', 'n_rounds': 6, 'size': 500, 'nb_epochs': 10, 'seed': 0, 'data': 'CIFAR10', 'model': 'resnet50', 'init_clean_accuracy': 93.66, 'init_PGD_accuracy': 46.85, 'final_clean_accuracy': 87.16, 'final_PGD_accuracy': 49.35}\n",
      "{'active_strategy': 'margin', 'n_rounds': 6, 'size': 500, 'nb_epochs': 10, 'seed': 1, 'data': 'CIFAR10', 'model': 'resnet50', 'init_clean_accuracy': 93.66, 'init_PGD_accuracy': 46.91, 'final_clean_accuracy': 84.59, 'final_PGD_accuracy': 50.04}\n",
      "{'active_strategy': 'margin', 'n_rounds': 6, 'size': 500, 'nb_epochs': 10, 'seed': 2, 'data': 'CIFAR10', 'model': 'resnet50', 'init_clean_accuracy': 93.66, 'init_PGD_accuracy': 46.77, 'final_clean_accuracy': 85.6, 'final_PGD_accuracy': 51.82}\n",
      "{'active_strategy': 'margin', 'n_rounds': 6, 'size': 500, 'nb_epochs': 10, 'seed': 3, 'data': 'CIFAR10', 'model': 'resnet50', 'init_clean_accuracy': 93.66, 'init_PGD_accuracy': 46.91, 'final_clean_accuracy': 85.92, 'final_PGD_accuracy': 52.57}\n",
      "{'active_strategy': 'margin', 'n_rounds': 6, 'size': 500, 'nb_epochs': 10, 'seed': 4, 'data': 'CIFAR10', 'model': 'resnet50', 'init_clean_accuracy': 93.66, 'init_PGD_accuracy': 46.77, 'final_clean_accuracy': 86.15, 'final_PGD_accuracy': 51.72}\n",
      "{'active_strategy': 'margin', 'n_rounds': 6, 'size': 1500, 'nb_epochs': 10, 'seed': 0, 'data': 'CIFAR10', 'model': 'resnet50', 'init_clean_accuracy': 93.66, 'init_PGD_accuracy': 46.85, 'final_clean_accuracy': 86.6, 'final_PGD_accuracy': 54.33}\n",
      "{'active_strategy': 'margin', 'n_rounds': 6, 'size': 1500, 'nb_epochs': 10, 'seed': 1, 'data': 'CIFAR10', 'model': 'resnet50', 'init_clean_accuracy': 93.66, 'init_PGD_accuracy': 46.91, 'final_clean_accuracy': 86.87, 'final_PGD_accuracy': 54.97}\n",
      "{'active_strategy': 'margin', 'n_rounds': 6, 'size': 1500, 'nb_epochs': 10, 'seed': 2, 'data': 'CIFAR10', 'model': 'resnet50', 'init_clean_accuracy': 93.66, 'init_PGD_accuracy': 46.77, 'final_clean_accuracy': 85.94, 'final_PGD_accuracy': 53.46}\n",
      "{'active_strategy': 'margin', 'n_rounds': 6, 'size': 1500, 'nb_epochs': 10, 'seed': 3, 'data': 'CIFAR10', 'model': 'resnet50', 'init_clean_accuracy': 93.66, 'init_PGD_accuracy': 46.91, 'final_clean_accuracy': 85.57, 'final_PGD_accuracy': 54.99}\n",
      "{'active_strategy': 'margin', 'n_rounds': 6, 'size': 1500, 'nb_epochs': 10, 'seed': 4, 'data': 'CIFAR10', 'model': 'resnet50', 'init_clean_accuracy': 93.66, 'init_PGD_accuracy': 46.77, 'final_clean_accuracy': 85.48, 'final_PGD_accuracy': 53.94}\n",
      "{'active_strategy': 'margin', 'n_rounds': 6, 'size': 2500, 'nb_epochs': 10, 'seed': 0, 'data': 'CIFAR10', 'model': 'resnet50', 'init_clean_accuracy': 93.66, 'init_PGD_accuracy': 46.85, 'final_clean_accuracy': 85.15, 'final_PGD_accuracy': 53.01}\n",
      "{'active_strategy': 'margin', 'n_rounds': 6, 'size': 2500, 'nb_epochs': 10, 'seed': 1, 'data': 'CIFAR10', 'model': 'resnet50', 'init_clean_accuracy': 93.66, 'init_PGD_accuracy': 46.91, 'final_clean_accuracy': 84.94, 'final_PGD_accuracy': 53.35}\n",
      "{'active_strategy': 'margin', 'n_rounds': 6, 'size': 2500, 'nb_epochs': 10, 'seed': 2, 'data': 'CIFAR10', 'model': 'resnet50', 'init_clean_accuracy': 93.66, 'init_PGD_accuracy': 46.77, 'final_clean_accuracy': 84.62, 'final_PGD_accuracy': 53.73}\n",
      "{'active_strategy': 'margin', 'n_rounds': 6, 'size': 2500, 'nb_epochs': 10, 'seed': 3, 'data': 'CIFAR10', 'model': 'resnet50', 'init_clean_accuracy': 93.66, 'init_PGD_accuracy': 46.91, 'final_clean_accuracy': 83.81, 'final_PGD_accuracy': 54.26}\n",
      "{'active_strategy': 'margin', 'n_rounds': 6, 'size': 2500, 'nb_epochs': 10, 'seed': 4, 'data': 'CIFAR10', 'model': 'resnet50', 'init_clean_accuracy': 93.66, 'init_PGD_accuracy': 46.77, 'final_clean_accuracy': 85.29, 'final_PGD_accuracy': 52.69}\n",
      "{'active_strategy': 'margin', 'n_rounds': 6, 'size': 5000, 'nb_epochs': 10, 'seed': 0, 'data': 'CIFAR10', 'model': 'resnet50', 'init_clean_accuracy': 93.66, 'init_PGD_accuracy': 46.85, 'final_clean_accuracy': 86.11, 'final_PGD_accuracy': 53.13}\n",
      "{'active_strategy': 'margin', 'n_rounds': 6, 'size': 5000, 'nb_epochs': 10, 'seed': 1, 'data': 'CIFAR10', 'model': 'resnet50', 'init_clean_accuracy': 93.66, 'init_PGD_accuracy': 46.91, 'final_clean_accuracy': 85.89, 'final_PGD_accuracy': 55.36}\n",
      "{'active_strategy': 'margin', 'n_rounds': 6, 'size': 5000, 'nb_epochs': 10, 'seed': 2, 'data': 'CIFAR10', 'model': 'resnet50', 'init_clean_accuracy': 93.66, 'init_PGD_accuracy': 46.77, 'final_clean_accuracy': 85.16, 'final_PGD_accuracy': 52.34}\n",
      "{'active_strategy': 'margin', 'n_rounds': 6, 'size': 5000, 'nb_epochs': 10, 'seed': 3, 'data': 'CIFAR10', 'model': 'resnet50', 'init_clean_accuracy': 93.66, 'init_PGD_accuracy': 46.91, 'final_clean_accuracy': 84.11, 'final_PGD_accuracy': 55.45}\n",
      "{'active_strategy': 'margin', 'n_rounds': 6, 'size': 5000, 'nb_epochs': 10, 'seed': 4, 'data': 'CIFAR10', 'model': 'resnet50', 'init_clean_accuracy': 93.66, 'init_PGD_accuracy': 46.77, 'final_clean_accuracy': 86.04, 'final_PGD_accuracy': 52.78}\n",
      "{'active_strategy': 'margin', 'n_rounds': 6, 'size': 7500, 'nb_epochs': 10, 'seed': 0, 'data': 'CIFAR10', 'model': 'resnet50', 'init_clean_accuracy': 93.66, 'init_PGD_accuracy': 46.85, 'final_clean_accuracy': 87.58, 'final_PGD_accuracy': 56.44}\n",
      "{'active_strategy': 'margin', 'n_rounds': 6, 'size': 7500, 'nb_epochs': 10, 'seed': 1, 'data': 'CIFAR10', 'model': 'resnet50', 'init_clean_accuracy': 93.66, 'init_PGD_accuracy': 46.91, 'final_clean_accuracy': 86.43, 'final_PGD_accuracy': 57.12}\n",
      "{'active_strategy': 'margin', 'n_rounds': 6, 'size': 7500, 'nb_epochs': 10, 'seed': 2, 'data': 'CIFAR10', 'model': 'resnet50', 'init_clean_accuracy': 93.66, 'init_PGD_accuracy': 46.77, 'final_clean_accuracy': 87.47, 'final_PGD_accuracy': 56.81}\n",
      "{'active_strategy': 'margin', 'n_rounds': 6, 'size': 7500, 'nb_epochs': 10, 'seed': 3, 'data': 'CIFAR10', 'model': 'resnet50', 'init_clean_accuracy': 93.66, 'init_PGD_accuracy': 46.91, 'final_clean_accuracy': 86.39, 'final_PGD_accuracy': 57.66}\n",
      "{'active_strategy': 'margin', 'n_rounds': 6, 'size': 7500, 'nb_epochs': 10, 'seed': 4, 'data': 'CIFAR10', 'model': 'resnet50', 'init_clean_accuracy': 93.66, 'init_PGD_accuracy': 46.77, 'final_clean_accuracy': 86.84, 'final_PGD_accuracy': 56.21}\n",
      "{'active_strategy': 'margin', 'n_rounds': 6, 'size': 10000, 'nb_epochs': 10, 'seed': 0, 'data': 'CIFAR10', 'model': 'resnet50', 'init_clean_accuracy': 93.66, 'init_PGD_accuracy': 46.85, 'final_clean_accuracy': 87.06, 'final_PGD_accuracy': 55.05}\n",
      "{'active_strategy': 'margin', 'n_rounds': 6, 'size': 10000, 'nb_epochs': 10, 'seed': 1, 'data': 'CIFAR10', 'model': 'resnet50', 'init_clean_accuracy': 93.66, 'init_PGD_accuracy': 46.91, 'final_clean_accuracy': 86.61, 'final_PGD_accuracy': 58.64}\n",
      "{'active_strategy': 'margin', 'n_rounds': 6, 'size': 10000, 'nb_epochs': 10, 'seed': 2, 'data': 'CIFAR10', 'model': 'resnet50', 'init_clean_accuracy': 93.66, 'init_PGD_accuracy': 46.77, 'final_clean_accuracy': 86.05, 'final_PGD_accuracy': 54.88}\n",
      "{'active_strategy': 'margin', 'n_rounds': 6, 'size': 10000, 'nb_epochs': 10, 'seed': 3, 'data': 'CIFAR10', 'model': 'resnet50', 'init_clean_accuracy': 93.66, 'init_PGD_accuracy': 46.91, 'final_clean_accuracy': 86.95, 'final_PGD_accuracy': 58.16}\n",
      "{'active_strategy': 'margin', 'n_rounds': 6, 'size': 10000, 'nb_epochs': 10, 'seed': 4, 'data': 'CIFAR10', 'model': 'resnet50', 'init_clean_accuracy': 93.66, 'init_PGD_accuracy': 46.77, 'final_clean_accuracy': 86.56, 'final_PGD_accuracy': 55.38}\n",
      "{'active_strategy': 'margin', 'n_rounds': 6, 'size': 12500, 'nb_epochs': 10, 'seed': 0, 'data': 'CIFAR10', 'model': 'resnet50', 'init_clean_accuracy': 93.66, 'init_PGD_accuracy': 46.85, 'final_clean_accuracy': 87.94, 'final_PGD_accuracy': 59.09}\n",
      "{'active_strategy': 'margin', 'n_rounds': 6, 'size': 12500, 'nb_epochs': 10, 'seed': 1, 'data': 'CIFAR10', 'model': 'resnet50', 'init_clean_accuracy': 93.66, 'init_PGD_accuracy': 46.91, 'final_clean_accuracy': 87.74, 'final_PGD_accuracy': 59.63}\n",
      "{'active_strategy': 'margin', 'n_rounds': 6, 'size': 12500, 'nb_epochs': 10, 'seed': 2, 'data': 'CIFAR10', 'model': 'resnet50', 'init_clean_accuracy': 93.66, 'init_PGD_accuracy': 46.77, 'final_clean_accuracy': 87.59, 'final_PGD_accuracy': 58.7}\n",
      "{'active_strategy': 'margin', 'n_rounds': 6, 'size': 12500, 'nb_epochs': 10, 'seed': 3, 'data': 'CIFAR10', 'model': 'resnet50', 'init_clean_accuracy': 93.66, 'init_PGD_accuracy': 46.91, 'final_clean_accuracy': 87.42, 'final_PGD_accuracy': 59.3}\n",
      "{'active_strategy': 'margin', 'n_rounds': 6, 'size': 12500, 'nb_epochs': 10, 'seed': 4, 'data': 'CIFAR10', 'model': 'resnet50', 'init_clean_accuracy': 93.66, 'init_PGD_accuracy': 46.77, 'final_clean_accuracy': 87.63, 'final_PGD_accuracy': 58.8}\n",
      "{'active_strategy': 'margin', 'n_rounds': 6, 'size': 25000, 'nb_epochs': 10, 'seed': 0, 'data': 'CIFAR10', 'model': 'resnet50', 'init_clean_accuracy': 93.66, 'init_PGD_accuracy': 46.85, 'final_clean_accuracy': 88.36, 'final_PGD_accuracy': 60.0}\n",
      "{'active_strategy': 'margin', 'n_rounds': 6, 'size': 25000, 'nb_epochs': 10, 'seed': 1, 'data': 'CIFAR10', 'model': 'resnet50', 'init_clean_accuracy': 93.66, 'init_PGD_accuracy': 46.91, 'final_clean_accuracy': 87.26, 'final_PGD_accuracy': 61.95}\n",
      "{'active_strategy': 'margin', 'n_rounds': 6, 'size': 25000, 'nb_epochs': 10, 'seed': 2, 'data': 'CIFAR10', 'model': 'resnet50', 'init_clean_accuracy': 93.66, 'init_PGD_accuracy': 46.77, 'final_clean_accuracy': 87.9, 'final_PGD_accuracy': 61.76}\n",
      "{'active_strategy': 'margin', 'n_rounds': 6, 'size': 25000, 'nb_epochs': 10, 'seed': 3, 'data': 'CIFAR10', 'model': 'resnet50', 'init_clean_accuracy': 93.66, 'init_PGD_accuracy': 46.91, 'final_clean_accuracy': 87.2, 'final_PGD_accuracy': 60.99}\n",
      "{'active_strategy': 'margin', 'n_rounds': 6, 'size': 25000, 'nb_epochs': 10, 'seed': 4, 'data': 'CIFAR10', 'model': 'resnet50', 'init_clean_accuracy': 93.66, 'init_PGD_accuracy': 46.77, 'final_clean_accuracy': 87.9, 'final_PGD_accuracy': 61.54}\n",
      "{'active_strategy': 'margin', 'n_rounds': 6, 'size': 37500, 'nb_epochs': 10, 'seed': 0, 'data': 'CIFAR10', 'model': 'resnet50', 'init_clean_accuracy': 93.66, 'init_PGD_accuracy': 46.85, 'final_clean_accuracy': 88.0, 'final_PGD_accuracy': 63.28}\n",
      "{'active_strategy': 'margin', 'n_rounds': 6, 'size': 37500, 'nb_epochs': 10, 'seed': 1, 'data': 'CIFAR10', 'model': 'resnet50', 'init_clean_accuracy': 93.66, 'init_PGD_accuracy': 46.91, 'final_clean_accuracy': 88.22, 'final_PGD_accuracy': 62.85}\n",
      "{'active_strategy': 'margin', 'n_rounds': 6, 'size': 37500, 'nb_epochs': 10, 'seed': 2, 'data': 'CIFAR10', 'model': 'resnet50', 'init_clean_accuracy': 93.66, 'init_PGD_accuracy': 46.77, 'final_clean_accuracy': 88.24, 'final_PGD_accuracy': 60.81}\n",
      "{'active_strategy': 'margin', 'n_rounds': 6, 'size': 37500, 'nb_epochs': 10, 'seed': 3, 'data': 'CIFAR10', 'model': 'resnet50', 'init_clean_accuracy': 93.66, 'init_PGD_accuracy': 46.91, 'final_clean_accuracy': 87.92, 'final_PGD_accuracy': 62.91}\n",
      "{'active_strategy': 'margin', 'n_rounds': 6, 'size': 37500, 'nb_epochs': 10, 'seed': 4, 'data': 'CIFAR10', 'model': 'resnet50', 'init_clean_accuracy': 93.66, 'init_PGD_accuracy': 46.77, 'final_clean_accuracy': 87.68, 'final_PGD_accuracy': 62.2}\n",
      "{'active_strategy': 'entropy', 'n_rounds': 6, 'size': 500, 'nb_epochs': 10, 'seed': 0, 'data': 'CIFAR10', 'model': 'resnet50', 'init_clean_accuracy': 93.66, 'init_PGD_accuracy': 46.85, 'final_clean_accuracy': 83.64, 'final_PGD_accuracy': 42.74}\n",
      "{'active_strategy': 'entropy', 'n_rounds': 6, 'size': 500, 'nb_epochs': 10, 'seed': 1, 'data': 'CIFAR10', 'model': 'resnet50', 'init_clean_accuracy': 93.66, 'init_PGD_accuracy': 46.91, 'final_clean_accuracy': 83.59, 'final_PGD_accuracy': 46.96}\n",
      "{'active_strategy': 'entropy', 'n_rounds': 6, 'size': 500, 'nb_epochs': 10, 'seed': 2, 'data': 'CIFAR10', 'model': 'resnet50', 'init_clean_accuracy': 93.66, 'init_PGD_accuracy': 46.77, 'final_clean_accuracy': 84.32, 'final_PGD_accuracy': 47.27}\n",
      "{'active_strategy': 'entropy', 'n_rounds': 6, 'size': 500, 'nb_epochs': 10, 'seed': 3, 'data': 'CIFAR10', 'model': 'resnet50', 'init_clean_accuracy': 93.66, 'init_PGD_accuracy': 46.91, 'final_clean_accuracy': 87.17, 'final_PGD_accuracy': 46.08}\n",
      "{'active_strategy': 'entropy', 'n_rounds': 6, 'size': 500, 'nb_epochs': 10, 'seed': 4, 'data': 'CIFAR10', 'model': 'resnet50', 'init_clean_accuracy': 93.66, 'init_PGD_accuracy': 46.77, 'final_clean_accuracy': 86.2, 'final_PGD_accuracy': 48.74}\n",
      "{'active_strategy': 'entropy', 'n_rounds': 6, 'size': 1500, 'nb_epochs': 10, 'seed': 0, 'data': 'CIFAR10', 'model': 'resnet50', 'init_clean_accuracy': 93.66, 'init_PGD_accuracy': 46.85, 'final_clean_accuracy': 86.66, 'final_PGD_accuracy': 51.23}\n",
      "{'active_strategy': 'entropy', 'n_rounds': 6, 'size': 1500, 'nb_epochs': 10, 'seed': 1, 'data': 'CIFAR10', 'model': 'resnet50', 'init_clean_accuracy': 93.66, 'init_PGD_accuracy': 46.91, 'final_clean_accuracy': 86.64, 'final_PGD_accuracy': 53.77}\n",
      "{'active_strategy': 'entropy', 'n_rounds': 6, 'size': 1500, 'nb_epochs': 10, 'seed': 2, 'data': 'CIFAR10', 'model': 'resnet50', 'init_clean_accuracy': 93.66, 'init_PGD_accuracy': 46.77, 'final_clean_accuracy': 86.64, 'final_PGD_accuracy': 51.95}\n",
      "{'active_strategy': 'entropy', 'n_rounds': 6, 'size': 1500, 'nb_epochs': 10, 'seed': 3, 'data': 'CIFAR10', 'model': 'resnet50', 'init_clean_accuracy': 93.66, 'init_PGD_accuracy': 46.91, 'final_clean_accuracy': 86.68, 'final_PGD_accuracy': 52.47}\n",
      "{'active_strategy': 'entropy', 'n_rounds': 6, 'size': 1500, 'nb_epochs': 10, 'seed': 4, 'data': 'CIFAR10', 'model': 'resnet50', 'init_clean_accuracy': 93.66, 'init_PGD_accuracy': 46.77, 'final_clean_accuracy': 86.66, 'final_PGD_accuracy': 52.9}\n",
      "{'active_strategy': 'entropy', 'n_rounds': 6, 'size': 2500, 'nb_epochs': 10, 'seed': 0, 'data': 'CIFAR10', 'model': 'resnet50', 'init_clean_accuracy': 93.66, 'init_PGD_accuracy': 46.85, 'final_clean_accuracy': 84.4, 'final_PGD_accuracy': 49.38}\n",
      "{'active_strategy': 'entropy', 'n_rounds': 6, 'size': 2500, 'nb_epochs': 10, 'seed': 1, 'data': 'CIFAR10', 'model': 'resnet50', 'init_clean_accuracy': 93.66, 'init_PGD_accuracy': 46.91, 'final_clean_accuracy': 85.15, 'final_PGD_accuracy': 53.12}\n",
      "{'active_strategy': 'entropy', 'n_rounds': 6, 'size': 2500, 'nb_epochs': 10, 'seed': 2, 'data': 'CIFAR10', 'model': 'resnet50', 'init_clean_accuracy': 93.66, 'init_PGD_accuracy': 46.77, 'final_clean_accuracy': 85.96, 'final_PGD_accuracy': 50.39}\n",
      "{'active_strategy': 'entropy', 'n_rounds': 6, 'size': 2500, 'nb_epochs': 10, 'seed': 3, 'data': 'CIFAR10', 'model': 'resnet50', 'init_clean_accuracy': 93.66, 'init_PGD_accuracy': 46.91, 'final_clean_accuracy': 85.72, 'final_PGD_accuracy': 53.56}\n",
      "{'active_strategy': 'entropy', 'n_rounds': 6, 'size': 2500, 'nb_epochs': 10, 'seed': 4, 'data': 'CIFAR10', 'model': 'resnet50', 'init_clean_accuracy': 93.66, 'init_PGD_accuracy': 46.77, 'final_clean_accuracy': 83.68, 'final_PGD_accuracy': 50.1}\n",
      "{'active_strategy': 'entropy', 'n_rounds': 6, 'size': 5000, 'nb_epochs': 10, 'seed': 0, 'data': 'CIFAR10', 'model': 'resnet50', 'init_clean_accuracy': 93.66, 'init_PGD_accuracy': 46.85, 'final_clean_accuracy': 85.54, 'final_PGD_accuracy': 51.75}\n",
      "{'active_strategy': 'entropy', 'n_rounds': 6, 'size': 5000, 'nb_epochs': 10, 'seed': 1, 'data': 'CIFAR10', 'model': 'resnet50', 'init_clean_accuracy': 93.66, 'init_PGD_accuracy': 46.91, 'final_clean_accuracy': 85.36, 'final_PGD_accuracy': 54.54}\n",
      "{'active_strategy': 'entropy', 'n_rounds': 6, 'size': 5000, 'nb_epochs': 10, 'seed': 2, 'data': 'CIFAR10', 'model': 'resnet50', 'init_clean_accuracy': 93.66, 'init_PGD_accuracy': 46.77, 'final_clean_accuracy': 85.64, 'final_PGD_accuracy': 52.98}\n",
      "{'active_strategy': 'entropy', 'n_rounds': 6, 'size': 5000, 'nb_epochs': 10, 'seed': 3, 'data': 'CIFAR10', 'model': 'resnet50', 'init_clean_accuracy': 93.66, 'init_PGD_accuracy': 46.91, 'final_clean_accuracy': 85.05, 'final_PGD_accuracy': 54.61}\n",
      "{'active_strategy': 'entropy', 'n_rounds': 6, 'size': 5000, 'nb_epochs': 10, 'seed': 4, 'data': 'CIFAR10', 'model': 'resnet50', 'init_clean_accuracy': 93.66, 'init_PGD_accuracy': 46.77, 'final_clean_accuracy': 85.84, 'final_PGD_accuracy': 52.18}\n",
      "{'active_strategy': 'entropy', 'n_rounds': 6, 'size': 7500, 'nb_epochs': 10, 'seed': 0, 'data': 'CIFAR10', 'model': 'resnet50', 'init_clean_accuracy': 93.66, 'init_PGD_accuracy': 46.85, 'final_clean_accuracy': 86.58, 'final_PGD_accuracy': 55.23}\n",
      "{'active_strategy': 'entropy', 'n_rounds': 6, 'size': 7500, 'nb_epochs': 10, 'seed': 1, 'data': 'CIFAR10', 'model': 'resnet50', 'init_clean_accuracy': 93.66, 'init_PGD_accuracy': 46.91, 'final_clean_accuracy': 86.61, 'final_PGD_accuracy': 55.92}\n",
      "{'active_strategy': 'entropy', 'n_rounds': 6, 'size': 7500, 'nb_epochs': 10, 'seed': 2, 'data': 'CIFAR10', 'model': 'resnet50', 'init_clean_accuracy': 93.66, 'init_PGD_accuracy': 46.77, 'final_clean_accuracy': 86.49, 'final_PGD_accuracy': 54.11}\n",
      "{'active_strategy': 'entropy', 'n_rounds': 6, 'size': 7500, 'nb_epochs': 10, 'seed': 3, 'data': 'CIFAR10', 'model': 'resnet50', 'init_clean_accuracy': 93.66, 'init_PGD_accuracy': 46.91, 'final_clean_accuracy': 85.28, 'final_PGD_accuracy': 53.15}\n",
      "{'active_strategy': 'entropy', 'n_rounds': 6, 'size': 7500, 'nb_epochs': 10, 'seed': 4, 'data': 'CIFAR10', 'model': 'resnet50', 'init_clean_accuracy': 93.66, 'init_PGD_accuracy': 46.77, 'final_clean_accuracy': 86.47, 'final_PGD_accuracy': 55.47}\n",
      "{'active_strategy': 'entropy', 'n_rounds': 6, 'size': 10000, 'nb_epochs': 10, 'seed': 0, 'data': 'CIFAR10', 'model': 'resnet50', 'init_clean_accuracy': 93.66, 'init_PGD_accuracy': 46.85, 'final_clean_accuracy': 86.91, 'final_PGD_accuracy': 54.4}\n",
      "{'active_strategy': 'entropy', 'n_rounds': 6, 'size': 10000, 'nb_epochs': 10, 'seed': 1, 'data': 'CIFAR10', 'model': 'resnet50', 'init_clean_accuracy': 93.66, 'init_PGD_accuracy': 46.91, 'final_clean_accuracy': 86.46, 'final_PGD_accuracy': 54.97}\n",
      "{'active_strategy': 'entropy', 'n_rounds': 6, 'size': 10000, 'nb_epochs': 10, 'seed': 2, 'data': 'CIFAR10', 'model': 'resnet50', 'init_clean_accuracy': 93.66, 'init_PGD_accuracy': 46.77, 'final_clean_accuracy': 87.11, 'final_PGD_accuracy': 55.17}\n",
      "{'active_strategy': 'entropy', 'n_rounds': 6, 'size': 10000, 'nb_epochs': 10, 'seed': 3, 'data': 'CIFAR10', 'model': 'resnet50', 'init_clean_accuracy': 93.66, 'init_PGD_accuracy': 46.91, 'final_clean_accuracy': 86.03, 'final_PGD_accuracy': 55.82}\n",
      "{'active_strategy': 'entropy', 'n_rounds': 6, 'size': 10000, 'nb_epochs': 10, 'seed': 4, 'data': 'CIFAR10', 'model': 'resnet50', 'init_clean_accuracy': 93.66, 'init_PGD_accuracy': 46.77, 'final_clean_accuracy': 84.66, 'final_PGD_accuracy': 52.19}\n",
      "{'active_strategy': 'entropy', 'n_rounds': 6, 'size': 12500, 'nb_epochs': 10, 'seed': 0, 'data': 'CIFAR10', 'model': 'resnet50', 'init_clean_accuracy': 93.66, 'init_PGD_accuracy': 46.85, 'final_clean_accuracy': 87.73, 'final_PGD_accuracy': 57.11}\n",
      "{'active_strategy': 'entropy', 'n_rounds': 6, 'size': 12500, 'nb_epochs': 10, 'seed': 1, 'data': 'CIFAR10', 'model': 'resnet50', 'init_clean_accuracy': 93.66, 'init_PGD_accuracy': 46.91, 'final_clean_accuracy': 86.79, 'final_PGD_accuracy': 57.34}\n",
      "{'active_strategy': 'entropy', 'n_rounds': 6, 'size': 12500, 'nb_epochs': 10, 'seed': 2, 'data': 'CIFAR10', 'model': 'resnet50', 'init_clean_accuracy': 93.66, 'init_PGD_accuracy': 46.77, 'final_clean_accuracy': 87.09, 'final_PGD_accuracy': 57.38}\n",
      "{'active_strategy': 'entropy', 'n_rounds': 6, 'size': 12500, 'nb_epochs': 10, 'seed': 3, 'data': 'CIFAR10', 'model': 'resnet50', 'init_clean_accuracy': 93.66, 'init_PGD_accuracy': 46.91, 'final_clean_accuracy': 86.68, 'final_PGD_accuracy': 58.34}\n",
      "{'active_strategy': 'entropy', 'n_rounds': 6, 'size': 12500, 'nb_epochs': 10, 'seed': 4, 'data': 'CIFAR10', 'model': 'resnet50', 'init_clean_accuracy': 93.66, 'init_PGD_accuracy': 46.77, 'final_clean_accuracy': 86.98, 'final_PGD_accuracy': 57.23}\n",
      "{'active_strategy': 'entropy', 'n_rounds': 6, 'size': 25000, 'nb_epochs': 10, 'seed': 0, 'data': 'CIFAR10', 'model': 'resnet50', 'init_clean_accuracy': 93.66, 'init_PGD_accuracy': 46.85, 'final_clean_accuracy': 88.04, 'final_PGD_accuracy': 61.11}\n",
      "{'active_strategy': 'entropy', 'n_rounds': 6, 'size': 25000, 'nb_epochs': 10, 'seed': 1, 'data': 'CIFAR10', 'model': 'resnet50', 'init_clean_accuracy': 93.66, 'init_PGD_accuracy': 46.91, 'final_clean_accuracy': 87.0, 'final_PGD_accuracy': 62.52}\n",
      "{'active_strategy': 'entropy', 'n_rounds': 6, 'size': 25000, 'nb_epochs': 10, 'seed': 2, 'data': 'CIFAR10', 'model': 'resnet50', 'init_clean_accuracy': 93.66, 'init_PGD_accuracy': 46.77, 'final_clean_accuracy': 88.26, 'final_PGD_accuracy': 60.15}\n",
      "{'active_strategy': 'entropy', 'n_rounds': 6, 'size': 25000, 'nb_epochs': 10, 'seed': 3, 'data': 'CIFAR10', 'model': 'resnet50', 'init_clean_accuracy': 93.66, 'init_PGD_accuracy': 46.91, 'final_clean_accuracy': 87.49, 'final_PGD_accuracy': 60.74}\n",
      "{'active_strategy': 'entropy', 'n_rounds': 6, 'size': 25000, 'nb_epochs': 10, 'seed': 4, 'data': 'CIFAR10', 'model': 'resnet50', 'init_clean_accuracy': 93.66, 'init_PGD_accuracy': 46.77, 'final_clean_accuracy': 87.58, 'final_PGD_accuracy': 60.47}\n",
      "{'active_strategy': 'entropy', 'n_rounds': 6, 'size': 37500, 'nb_epochs': 10, 'seed': 0, 'data': 'CIFAR10', 'model': 'resnet50', 'init_clean_accuracy': 93.66, 'init_PGD_accuracy': 46.85, 'final_clean_accuracy': 88.52, 'final_PGD_accuracy': 62.51}\n",
      "{'active_strategy': 'entropy', 'n_rounds': 6, 'size': 37500, 'nb_epochs': 10, 'seed': 1, 'data': 'CIFAR10', 'model': 'resnet50', 'init_clean_accuracy': 93.66, 'init_PGD_accuracy': 46.91, 'final_clean_accuracy': 88.16, 'final_PGD_accuracy': 61.84}\n",
      "{'active_strategy': 'entropy', 'n_rounds': 6, 'size': 37500, 'nb_epochs': 10, 'seed': 2, 'data': 'CIFAR10', 'model': 'resnet50', 'init_clean_accuracy': 93.66, 'init_PGD_accuracy': 46.77, 'final_clean_accuracy': 88.51, 'final_PGD_accuracy': 62.81}\n",
      "{'active_strategy': 'entropy', 'n_rounds': 6, 'size': 37500, 'nb_epochs': 10, 'seed': 3, 'data': 'CIFAR10', 'model': 'resnet50', 'init_clean_accuracy': 93.66, 'init_PGD_accuracy': 46.91, 'final_clean_accuracy': 87.82, 'final_PGD_accuracy': 63.96}\n",
      "{'active_strategy': 'entropy', 'n_rounds': 6, 'size': 37500, 'nb_epochs': 10, 'seed': 4, 'data': 'CIFAR10', 'model': 'resnet50', 'init_clean_accuracy': 93.66, 'init_PGD_accuracy': 46.77, 'final_clean_accuracy': 88.23, 'final_PGD_accuracy': 62.22}\n",
      "{'active_strategy': 'random', 'n_rounds': 6, 'size': 500, 'nb_epochs': 10, 'seed': 0, 'data': 'CIFAR10', 'model': 'resnet50', 'init_clean_accuracy': 93.66, 'init_PGD_accuracy': 46.85, 'final_clean_accuracy': 82.42, 'final_PGD_accuracy': 57.06}\n",
      "{'active_strategy': 'random', 'n_rounds': 6, 'size': 500, 'nb_epochs': 10, 'seed': 1, 'data': 'CIFAR10', 'model': 'resnet50', 'init_clean_accuracy': 93.66, 'init_PGD_accuracy': 46.91, 'final_clean_accuracy': 81.29, 'final_PGD_accuracy': 52.62}\n",
      "{'active_strategy': 'random', 'n_rounds': 6, 'size': 500, 'nb_epochs': 10, 'seed': 2, 'data': 'CIFAR10', 'model': 'resnet50', 'init_clean_accuracy': 93.66, 'init_PGD_accuracy': 46.77, 'final_clean_accuracy': 82.07, 'final_PGD_accuracy': 54.55}\n",
      "{'active_strategy': 'random', 'n_rounds': 6, 'size': 500, 'nb_epochs': 10, 'seed': 3, 'data': 'CIFAR10', 'model': 'resnet50', 'init_clean_accuracy': 93.66, 'init_PGD_accuracy': 46.91, 'final_clean_accuracy': 83.45, 'final_PGD_accuracy': 57.21}\n",
      "{'active_strategy': 'random', 'n_rounds': 6, 'size': 500, 'nb_epochs': 10, 'seed': 4, 'data': 'CIFAR10', 'model': 'resnet50', 'init_clean_accuracy': 93.66, 'init_PGD_accuracy': 46.77, 'final_clean_accuracy': 83.77, 'final_PGD_accuracy': 56.13}\n",
      "{'active_strategy': 'random', 'n_rounds': 6, 'size': 1500, 'nb_epochs': 10, 'seed': 0, 'data': 'CIFAR10', 'model': 'resnet50', 'init_clean_accuracy': 93.66, 'init_PGD_accuracy': 46.85, 'final_clean_accuracy': 84.36, 'final_PGD_accuracy': 59.63}\n",
      "{'active_strategy': 'random', 'n_rounds': 6, 'size': 1500, 'nb_epochs': 10, 'seed': 1, 'data': 'CIFAR10', 'model': 'resnet50', 'init_clean_accuracy': 93.66, 'init_PGD_accuracy': 46.91, 'final_clean_accuracy': 82.56, 'final_PGD_accuracy': 58.07}\n",
      "{'active_strategy': 'random', 'n_rounds': 6, 'size': 1500, 'nb_epochs': 10, 'seed': 2, 'data': 'CIFAR10', 'model': 'resnet50', 'init_clean_accuracy': 93.66, 'init_PGD_accuracy': 46.77, 'final_clean_accuracy': 82.58, 'final_PGD_accuracy': 58.39}\n",
      "{'active_strategy': 'random', 'n_rounds': 6, 'size': 1500, 'nb_epochs': 10, 'seed': 3, 'data': 'CIFAR10', 'model': 'resnet50', 'init_clean_accuracy': 93.66, 'init_PGD_accuracy': 46.91, 'final_clean_accuracy': 82.58, 'final_PGD_accuracy': 58.32}\n",
      "{'active_strategy': 'random', 'n_rounds': 6, 'size': 1500, 'nb_epochs': 10, 'seed': 4, 'data': 'CIFAR10', 'model': 'resnet50', 'init_clean_accuracy': 93.66, 'init_PGD_accuracy': 46.77, 'final_clean_accuracy': 83.23, 'final_PGD_accuracy': 59.83}\n",
      "{'active_strategy': 'random', 'n_rounds': 6, 'size': 2500, 'nb_epochs': 10, 'seed': 0, 'data': 'CIFAR10', 'model': 'resnet50', 'init_clean_accuracy': 93.66, 'init_PGD_accuracy': 46.85, 'final_clean_accuracy': 82.98, 'final_PGD_accuracy': 59.2}\n",
      "{'active_strategy': 'random', 'n_rounds': 6, 'size': 2500, 'nb_epochs': 10, 'seed': 1, 'data': 'CIFAR10', 'model': 'resnet50', 'init_clean_accuracy': 93.66, 'init_PGD_accuracy': 46.91, 'final_clean_accuracy': 84.38, 'final_PGD_accuracy': 58.57}\n",
      "{'active_strategy': 'random', 'n_rounds': 6, 'size': 2500, 'nb_epochs': 10, 'seed': 2, 'data': 'CIFAR10', 'model': 'resnet50', 'init_clean_accuracy': 93.66, 'init_PGD_accuracy': 46.77, 'final_clean_accuracy': 82.9, 'final_PGD_accuracy': 59.59}\n",
      "{'active_strategy': 'random', 'n_rounds': 6, 'size': 2500, 'nb_epochs': 10, 'seed': 3, 'data': 'CIFAR10', 'model': 'resnet50', 'init_clean_accuracy': 93.66, 'init_PGD_accuracy': 46.91, 'final_clean_accuracy': 83.07, 'final_PGD_accuracy': 59.59}\n",
      "{'active_strategy': 'random', 'n_rounds': 6, 'size': 2500, 'nb_epochs': 10, 'seed': 4, 'data': 'CIFAR10', 'model': 'resnet50', 'init_clean_accuracy': 93.66, 'init_PGD_accuracy': 46.77, 'final_clean_accuracy': 82.35, 'final_PGD_accuracy': 58.61}\n",
      "{'active_strategy': 'random', 'n_rounds': 6, 'size': 5000, 'nb_epochs': 10, 'seed': 0, 'data': 'CIFAR10', 'model': 'resnet50', 'init_clean_accuracy': 93.66, 'init_PGD_accuracy': 46.85, 'final_clean_accuracy': 84.72, 'final_PGD_accuracy': 59.11}\n",
      "{'active_strategy': 'random', 'n_rounds': 6, 'size': 5000, 'nb_epochs': 10, 'seed': 1, 'data': 'CIFAR10', 'model': 'resnet50', 'init_clean_accuracy': 93.66, 'init_PGD_accuracy': 46.91, 'final_clean_accuracy': 83.32, 'final_PGD_accuracy': 59.45}\n",
      "{'active_strategy': 'random', 'n_rounds': 6, 'size': 5000, 'nb_epochs': 10, 'seed': 2, 'data': 'CIFAR10', 'model': 'resnet50', 'init_clean_accuracy': 93.66, 'init_PGD_accuracy': 46.77, 'final_clean_accuracy': 83.26, 'final_PGD_accuracy': 58.5}\n",
      "{'active_strategy': 'random', 'n_rounds': 6, 'size': 5000, 'nb_epochs': 10, 'seed': 3, 'data': 'CIFAR10', 'model': 'resnet50', 'init_clean_accuracy': 93.66, 'init_PGD_accuracy': 46.91, 'final_clean_accuracy': 82.93, 'final_PGD_accuracy': 58.18}\n",
      "{'active_strategy': 'random', 'n_rounds': 6, 'size': 5000, 'nb_epochs': 10, 'seed': 4, 'data': 'CIFAR10', 'model': 'resnet50', 'init_clean_accuracy': 93.66, 'init_PGD_accuracy': 46.77, 'final_clean_accuracy': 82.92, 'final_PGD_accuracy': 59.44}\n",
      "{'active_strategy': 'random', 'n_rounds': 6, 'size': 7500, 'nb_epochs': 10, 'seed': 0, 'data': 'CIFAR10', 'model': 'resnet50', 'init_clean_accuracy': 93.66, 'init_PGD_accuracy': 46.85, 'final_clean_accuracy': 85.57, 'final_PGD_accuracy': 61.26}\n",
      "{'active_strategy': 'random', 'n_rounds': 6, 'size': 7500, 'nb_epochs': 10, 'seed': 1, 'data': 'CIFAR10', 'model': 'resnet50', 'init_clean_accuracy': 93.66, 'init_PGD_accuracy': 46.91, 'final_clean_accuracy': 84.64, 'final_PGD_accuracy': 60.35}\n",
      "{'active_strategy': 'random', 'n_rounds': 6, 'size': 7500, 'nb_epochs': 10, 'seed': 2, 'data': 'CIFAR10', 'model': 'resnet50', 'init_clean_accuracy': 93.66, 'init_PGD_accuracy': 46.77, 'final_clean_accuracy': 84.64, 'final_PGD_accuracy': 61.71}\n",
      "{'active_strategy': 'random', 'n_rounds': 6, 'size': 7500, 'nb_epochs': 10, 'seed': 3, 'data': 'CIFAR10', 'model': 'resnet50', 'init_clean_accuracy': 93.66, 'init_PGD_accuracy': 46.91, 'final_clean_accuracy': 84.63, 'final_PGD_accuracy': 60.87}\n",
      "{'active_strategy': 'random', 'n_rounds': 6, 'size': 7500, 'nb_epochs': 10, 'seed': 4, 'data': 'CIFAR10', 'model': 'resnet50', 'init_clean_accuracy': 93.66, 'init_PGD_accuracy': 46.77, 'final_clean_accuracy': 84.6, 'final_PGD_accuracy': 59.11}\n",
      "{'active_strategy': 'random', 'n_rounds': 6, 'size': 10000, 'nb_epochs': 10, 'seed': 0, 'data': 'CIFAR10', 'model': 'resnet50', 'init_clean_accuracy': 93.66, 'init_PGD_accuracy': 46.85, 'final_clean_accuracy': 85.69, 'final_PGD_accuracy': 60.01}\n",
      "{'active_strategy': 'random', 'n_rounds': 6, 'size': 10000, 'nb_epochs': 10, 'seed': 1, 'data': 'CIFAR10', 'model': 'resnet50', 'init_clean_accuracy': 93.66, 'init_PGD_accuracy': 46.91, 'final_clean_accuracy': 85.16, 'final_PGD_accuracy': 59.91}\n",
      "{'active_strategy': 'random', 'n_rounds': 6, 'size': 10000, 'nb_epochs': 10, 'seed': 2, 'data': 'CIFAR10', 'model': 'resnet50', 'init_clean_accuracy': 93.66, 'init_PGD_accuracy': 46.77, 'final_clean_accuracy': 84.58, 'final_PGD_accuracy': 60.76}\n",
      "{'active_strategy': 'random', 'n_rounds': 6, 'size': 10000, 'nb_epochs': 10, 'seed': 3, 'data': 'CIFAR10', 'model': 'resnet50', 'init_clean_accuracy': 93.66, 'init_PGD_accuracy': 46.91, 'final_clean_accuracy': 85.1, 'final_PGD_accuracy': 59.62}\n",
      "{'active_strategy': 'random', 'n_rounds': 6, 'size': 10000, 'nb_epochs': 10, 'seed': 4, 'data': 'CIFAR10', 'model': 'resnet50', 'init_clean_accuracy': 93.66, 'init_PGD_accuracy': 46.77, 'final_clean_accuracy': 85.53, 'final_PGD_accuracy': 60.76}\n",
      "{'active_strategy': 'random', 'n_rounds': 6, 'size': 12500, 'nb_epochs': 10, 'seed': 0, 'data': 'CIFAR10', 'model': 'resnet50', 'init_clean_accuracy': 93.66, 'init_PGD_accuracy': 46.85, 'final_clean_accuracy': 86.07, 'final_PGD_accuracy': 61.88}\n",
      "{'active_strategy': 'random', 'n_rounds': 6, 'size': 12500, 'nb_epochs': 10, 'seed': 1, 'data': 'CIFAR10', 'model': 'resnet50', 'init_clean_accuracy': 93.66, 'init_PGD_accuracy': 46.91, 'final_clean_accuracy': 85.35, 'final_PGD_accuracy': 60.48}\n",
      "{'active_strategy': 'random', 'n_rounds': 6, 'size': 12500, 'nb_epochs': 10, 'seed': 2, 'data': 'CIFAR10', 'model': 'resnet50', 'init_clean_accuracy': 93.66, 'init_PGD_accuracy': 46.77, 'final_clean_accuracy': 85.86, 'final_PGD_accuracy': 60.86}\n",
      "{'active_strategy': 'random', 'n_rounds': 6, 'size': 12500, 'nb_epochs': 10, 'seed': 3, 'data': 'CIFAR10', 'model': 'resnet50', 'init_clean_accuracy': 93.66, 'init_PGD_accuracy': 46.91, 'final_clean_accuracy': 85.19, 'final_PGD_accuracy': 62.75}\n",
      "{'active_strategy': 'random', 'n_rounds': 6, 'size': 12500, 'nb_epochs': 10, 'seed': 4, 'data': 'CIFAR10', 'model': 'resnet50', 'init_clean_accuracy': 93.66, 'init_PGD_accuracy': 46.77, 'final_clean_accuracy': 85.41, 'final_PGD_accuracy': 61.59}\n",
      "{'active_strategy': 'random', 'n_rounds': 6, 'size': 25000, 'nb_epochs': 10, 'seed': 0, 'data': 'CIFAR10', 'model': 'resnet50', 'init_clean_accuracy': 93.66, 'init_PGD_accuracy': 46.85, 'final_clean_accuracy': 86.4, 'final_PGD_accuracy': 64.09}\n",
      "{'active_strategy': 'random', 'n_rounds': 6, 'size': 25000, 'nb_epochs': 10, 'seed': 1, 'data': 'CIFAR10', 'model': 'resnet50', 'init_clean_accuracy': 93.66, 'init_PGD_accuracy': 46.91, 'final_clean_accuracy': 85.26, 'final_PGD_accuracy': 62.99}\n",
      "{'active_strategy': 'random', 'n_rounds': 6, 'size': 25000, 'nb_epochs': 10, 'seed': 2, 'data': 'CIFAR10', 'model': 'resnet50', 'init_clean_accuracy': 93.66, 'init_PGD_accuracy': 46.77, 'final_clean_accuracy': 86.63, 'final_PGD_accuracy': 60.22}\n",
      "{'active_strategy': 'random', 'n_rounds': 6, 'size': 25000, 'nb_epochs': 10, 'seed': 3, 'data': 'CIFAR10', 'model': 'resnet50', 'init_clean_accuracy': 93.66, 'init_PGD_accuracy': 46.91, 'final_clean_accuracy': 86.95, 'final_PGD_accuracy': 60.48}\n",
      "{'active_strategy': 'random', 'n_rounds': 6, 'size': 25000, 'nb_epochs': 10, 'seed': 4, 'data': 'CIFAR10', 'model': 'resnet50', 'init_clean_accuracy': 93.66, 'init_PGD_accuracy': 46.77, 'final_clean_accuracy': 86.71, 'final_PGD_accuracy': 61.89}\n",
      "{'active_strategy': 'random', 'n_rounds': 6, 'size': 37500, 'nb_epochs': 10, 'seed': 0, 'data': 'CIFAR10', 'model': 'resnet50', 'init_clean_accuracy': 93.66, 'init_PGD_accuracy': 46.85, 'final_clean_accuracy': 87.72, 'final_PGD_accuracy': 62.78}\n",
      "{'active_strategy': 'random', 'n_rounds': 6, 'size': 37500, 'nb_epochs': 10, 'seed': 1, 'data': 'CIFAR10', 'model': 'resnet50', 'init_clean_accuracy': 93.66, 'init_PGD_accuracy': 46.91, 'final_clean_accuracy': 87.22, 'final_PGD_accuracy': 62.89}\n",
      "{'active_strategy': 'random', 'n_rounds': 6, 'size': 37500, 'nb_epochs': 10, 'seed': 2, 'data': 'CIFAR10', 'model': 'resnet50', 'init_clean_accuracy': 93.66, 'init_PGD_accuracy': 46.77, 'final_clean_accuracy': 87.39, 'final_PGD_accuracy': 61.7}\n",
      "{'active_strategy': 'random', 'n_rounds': 6, 'size': 37500, 'nb_epochs': 10, 'seed': 3, 'data': 'CIFAR10', 'model': 'resnet50', 'init_clean_accuracy': 93.66, 'init_PGD_accuracy': 46.91, 'final_clean_accuracy': 87.32, 'final_PGD_accuracy': 63.47}\n",
      "{'active_strategy': 'random', 'n_rounds': 6, 'size': 37500, 'nb_epochs': 10, 'seed': 4, 'data': 'CIFAR10', 'model': 'resnet50', 'init_clean_accuracy': 93.66, 'init_PGD_accuracy': 46.77, 'final_clean_accuracy': 87.53, 'final_PGD_accuracy': 64.9}\n",
      "{'active_strategy': 'full', 'n_rounds': 6, 'size': 50000, 'nb_epochs': 10, 'seed': 0, 'data': 'CIFAR10', 'model': 'resnet50', 'init_clean_accuracy': 93.66, 'init_PGD_accuracy': 46.85, 'final_clean_accuracy': 88.12, 'final_PGD_accuracy': 62.91}\n",
      "{'active_strategy': 'full', 'n_rounds': 6, 'size': 50000, 'nb_epochs': 10, 'seed': 1, 'data': 'CIFAR10', 'model': 'resnet50', 'init_clean_accuracy': 93.66, 'init_PGD_accuracy': 46.91, 'final_clean_accuracy': 88.23, 'final_PGD_accuracy': 61.94}\n",
      "{'active_strategy': 'full', 'n_rounds': 6, 'size': 50000, 'nb_epochs': 10, 'seed': 2, 'data': 'CIFAR10', 'model': 'resnet50', 'init_clean_accuracy': 93.66, 'init_PGD_accuracy': 46.77, 'final_clean_accuracy': 87.88, 'final_PGD_accuracy': 62.69}\n",
      "{'active_strategy': 'full', 'n_rounds': 6, 'size': 50000, 'nb_epochs': 10, 'seed': 3, 'data': 'CIFAR10', 'model': 'resnet50', 'init_clean_accuracy': 93.66, 'init_PGD_accuracy': 46.91, 'final_clean_accuracy': 88.02, 'final_PGD_accuracy': 63.4}\n",
      "{'active_strategy': 'full', 'n_rounds': 6, 'size': 50000, 'nb_epochs': 10, 'seed': 4, 'data': 'CIFAR10', 'model': 'resnet50', 'init_clean_accuracy': 93.66, 'init_PGD_accuracy': 46.77, 'final_clean_accuracy': 87.69, 'final_PGD_accuracy': 64.44}\n"
     ]
    }
   ],
   "source": [
    "import gzip\n",
    "import pickle as pkl\n",
    "\n",
    "data = 'CIFAR10'\n",
    "model = 'resnet50'\n",
    "n_rounds = 6\n",
    "nb_epochs = 10\n",
    "seeds = 5\n",
    "\n",
    "results_list = []\n",
    "for active_strategy in ['attack', 'uncertainty', 'margin', 'entropy', 'random']:\n",
    "    for size in [500, 1500, 2500, 5000, 7500,10000,12500, 25000, 37500]:\n",
    "        for seed in range(seeds):\n",
    "\n",
    "            try:\n",
    "                with gzip.open('./results/{}_{}_{}_{}_{}_{}_{}.pkl.gz'.format(data, model, active_strategy, n_rounds, size, nb_epochs, seed), 'rb') as f:\n",
    "                    result = pkl.load(f)\n",
    "                    result['active_strategy'] = active_strategy\n",
    "                print(result)\n",
    "                results_list.append(result)\n",
    "            except:\n",
    "                pass\n",
    "\n",
    "\n",
    "active_strategy = 'full'\n",
    "size = 0\n",
    "\n",
    "for seed in range(seeds):\n",
    "\n",
    "    try:\n",
    "        with gzip.open('./results/{}_{}_{}_{}_{}_{}_{}.pkl.gz'.format(data, model, active_strategy, n_rounds, size, nb_epochs, seed), 'rb') as f:\n",
    "            result = pkl.load(f)\n",
    "            result['active_strategy'] = active_strategy\n",
    "            result['size'] = 50000\n",
    "            print(result)\n",
    "            results_list.append(result)\n",
    "    except:\n",
    "        pass\n",
    "\n",
    "\n",
    "clean_accuracy_init = result['init_clean_accuracy']\n",
    "PGD_accuracy_init = result['init_PGD_accuracy']"
   ]
  },
  {
   "cell_type": "code",
   "execution_count": 7,
   "metadata": {},
   "outputs": [],
   "source": [
    "import pandas as pd\n",
    "# Convert the list of dictionaries to a DataFrame\n",
    "df = pd.DataFrame(results_list)\n",
    "\n",
    "# Assuming df is your DataFrame\n",
    "means_stds = df.groupby(['active_strategy', 'size']).agg({\n",
    "    'final_clean_accuracy': ['mean', 'std' ],\n",
    "    'final_PGD_accuracy': ['mean', 'std']\n",
    "})\n",
    "\n",
    "\n",
    "\n",
    "# Assuming df is your DataFrame\n",
    "init_means_stds = df.groupby(['active_strategy', ]).agg({\n",
    "    'init_clean_accuracy': ['mean',  'std' ],\n",
    "    'init_PGD_accuracy': ['mean',  'std' ],\n",
    "})\n",
    "\n",
    "means_stds.to_csv('./results/means.csv', index=True)"
   ]
  },
  {
   "cell_type": "code",
   "execution_count": 8,
   "metadata": {},
   "outputs": [
    {
     "data": {
      "application/vnd.plotly.v1+json": {
       "config": {
        "plotlyServerURL": "https://plot.ly"
       },
       "data": [
        {
         "line": {
          "color": "rgba(0,0,204,1)",
          "dash": "dot",
          "width": 2
         },
         "mode": "lines",
         "name": "Init Accuracy",
         "showlegend": true,
         "type": "scatter",
         "x": [
          0,
          50000
         ],
         "y": [
          46.842,
          46.842
         ]
        },
        {
         "line": {
          "color": "rgba(0,0,0,1)",
          "dash": "dash",
          "width": 2
         },
         "mode": "lines",
         "name": "Full Dataset Average",
         "showlegend": true,
         "type": "scatter",
         "x": [
          500,
          50000
         ],
         "y": [
          63.076,
          63.076
         ]
        },
        {
         "error_y": {
          "array": [
           0.47725709880021644
          ],
          "arrayminus": [
           0.47725709880021644
          ],
          "symmetric": false,
          "type": "data"
         },
         "line": {
          "color": "rgba(0,0,0,1)"
         },
         "mode": "lines+markers",
         "name": "full",
         "showlegend": false,
         "type": "scatter",
         "x": [
          50000
         ],
         "y": [
          63.076
         ]
        },
        {
         "error_y": {
          "array": [
           0.8828008751495433,
           0.60821318426749,
           0.3166154463648295,
           0.5227642778185972,
           0.5622836247617394,
           0.7480643680197586,
           0.2986027376914023,
           1.0319483007453434,
           0.2701092926294829
          ],
          "arrayminus": [
           0.8828008751495433,
           0.60821318426749,
           0.3166154463648295,
           0.5227642778185972,
           0.5622836247617394,
           0.7480643680197586,
           0.2986027376914023,
           1.0319483007453434,
           0.2701092926294829
          ],
          "symmetric": false,
          "type": "data"
         },
         "line": {
          "color": "rgba(255,161,90,1)"
         },
         "mode": "lines+markers",
         "name": "uncertainty",
         "type": "scatter",
         "x": [
          500,
          1500,
          2500,
          5000,
          7500,
          10000,
          12500,
          25000,
          37500
         ],
         "y": [
          50.832,
          51.792,
          50.812,
          53.59400000000001,
          56.096,
          56.08200000000001,
          58.428,
          60.984,
          62.642
         ]
        },
        {
         "error_y": {
          "array": [
           0.9960336430237702,
           0.4208966437461815,
           0.2589463058720869,
           0.29485017980527045,
           0.5155347712346854,
           0.2680872296488596,
           0.45822978167378087,
           0.8472385286347663,
           0.6025792062366577
          ],
          "arrayminus": [
           0.9960336430237702,
           0.4208966437461815,
           0.2589463058720869,
           0.29485017980527045,
           0.5155347712346854,
           0.2680872296488596,
           0.45822978167378087,
           0.8472385286347663,
           0.6025792062366577
          ],
          "symmetric": false,
          "type": "data"
         },
         "line": {
          "color": "rgba(25,211,243,1)"
         },
         "mode": "lines+markers",
         "name": "random",
         "type": "scatter",
         "x": [
          500,
          1500,
          2500,
          5000,
          7500,
          10000,
          12500,
          25000,
          37500
         ],
         "y": [
          55.514,
          58.848,
          59.112,
          58.936,
          60.66,
          60.212,
          61.512,
          61.934000000000005,
          63.148
         ]
        },
        {
         "error_y": {
          "array": [
           1.1530378579096179,
           0.4943450716930437,
           0.9766403853210243,
           0.6802922889558578,
           0.5808248817149628,
           0.7174888365180337,
           0.2535234236436551,
           0.4745352794100772,
           0.41542183293226226
          ],
          "arrayminus": [
           1.1530378579096179,
           0.4943450716930437,
           0.9766403853210243,
           0.6802922889558578,
           0.5808248817149628,
           0.7174888365180337,
           0.2535234236436551,
           0.4745352794100772,
           0.41542183293226226
          ],
          "symmetric": false,
          "type": "data"
         },
         "line": {
          "color": "rgba(255,102,146,1)"
         },
         "mode": "lines+markers",
         "name": "entropy",
         "type": "scatter",
         "x": [
          500,
          1500,
          2500,
          5000,
          7500,
          10000,
          12500,
          25000,
          37500
         ],
         "y": [
          46.358,
          52.464,
          51.31,
          53.212,
          54.776,
          54.510000000000005,
          57.48,
          60.998000000000005,
          62.668000000000006
         ]
        },
        {
         "error_y": {
          "array": [
           0.7787755429051432,
           0.7061811651070855,
           0.8231325747625353,
           0.39513858411853514,
           0.559228182362798,
           1.3971089830074104,
           0.39909880792004443
          ],
          "arrayminus": [
           0.7787755429051432,
           0.7061811651070855,
           0.8231325747625353,
           0.39513858411853514,
           0.559228182362798,
           1.3971089830074104,
           0.39909880792004443
          ],
          "symmetric": false,
          "type": "data"
         },
         "line": {
          "color": "rgba(182,232,128,1)"
         },
         "mode": "lines+markers",
         "name": "attack",
         "type": "scatter",
         "x": [
          500,
          1500,
          2500,
          5000,
          7500,
          10000,
          12500
         ],
         "y": [
          54.224,
          58.15,
          58.986,
          60.426,
          61.182,
          61.28,
          62.316
         ]
        },
        {
         "error_y": {
          "array": [
           0.6935996600691202,
           0.3411503306590807,
           0.3162169846621151,
           0.7631345110351119,
           0.2946430556670213,
           0.938953943482213,
           0.19464062355839268,
           0.40438113310687507,
           0.5024586885466293
          ],
          "arrayminus": [
           0.6935996600691202,
           0.3411503306590807,
           0.3162169846621151,
           0.7631345110351119,
           0.2946430556670213,
           0.938953943482213,
           0.19464062355839268,
           0.40438113310687507,
           0.5024586885466293
          ],
          "symmetric": false,
          "type": "data"
         },
         "line": {
          "color": "rgba(254,203,82,1)"
         },
         "mode": "lines+markers",
         "name": "margin",
         "type": "scatter",
         "x": [
          500,
          1500,
          2500,
          5000,
          7500,
          10000,
          12500,
          25000,
          37500
         ],
         "y": [
          51.1,
          54.338,
          53.408,
          53.812,
          56.848,
          56.422,
          59.104,
          61.248000000000005,
          62.41
         ]
        }
       ],
       "layout": {
        "height": 400,
        "legend": {
         "title": {
          "text": "Active Strategy"
         }
        },
        "margin": {
         "b": 0,
         "l": 0,
         "r": 0,
         "t": 50
        },
        "paper_bgcolor": "white",
        "plot_bgcolor": "white",
        "showlegend": true,
        "template": {
         "data": {
          "bar": [
           {
            "error_x": {
             "color": "#2a3f5f"
            },
            "error_y": {
             "color": "#2a3f5f"
            },
            "marker": {
             "line": {
              "color": "#E5ECF6",
              "width": 0.5
             },
             "pattern": {
              "fillmode": "overlay",
              "size": 10,
              "solidity": 0.2
             }
            },
            "type": "bar"
           }
          ],
          "barpolar": [
           {
            "marker": {
             "line": {
              "color": "#E5ECF6",
              "width": 0.5
             },
             "pattern": {
              "fillmode": "overlay",
              "size": 10,
              "solidity": 0.2
             }
            },
            "type": "barpolar"
           }
          ],
          "carpet": [
           {
            "aaxis": {
             "endlinecolor": "#2a3f5f",
             "gridcolor": "white",
             "linecolor": "white",
             "minorgridcolor": "white",
             "startlinecolor": "#2a3f5f"
            },
            "baxis": {
             "endlinecolor": "#2a3f5f",
             "gridcolor": "white",
             "linecolor": "white",
             "minorgridcolor": "white",
             "startlinecolor": "#2a3f5f"
            },
            "type": "carpet"
           }
          ],
          "choropleth": [
           {
            "colorbar": {
             "outlinewidth": 0,
             "ticks": ""
            },
            "type": "choropleth"
           }
          ],
          "contour": [
           {
            "colorbar": {
             "outlinewidth": 0,
             "ticks": ""
            },
            "colorscale": [
             [
              0,
              "#0d0887"
             ],
             [
              0.1111111111111111,
              "#46039f"
             ],
             [
              0.2222222222222222,
              "#7201a8"
             ],
             [
              0.3333333333333333,
              "#9c179e"
             ],
             [
              0.4444444444444444,
              "#bd3786"
             ],
             [
              0.5555555555555556,
              "#d8576b"
             ],
             [
              0.6666666666666666,
              "#ed7953"
             ],
             [
              0.7777777777777778,
              "#fb9f3a"
             ],
             [
              0.8888888888888888,
              "#fdca26"
             ],
             [
              1,
              "#f0f921"
             ]
            ],
            "type": "contour"
           }
          ],
          "contourcarpet": [
           {
            "colorbar": {
             "outlinewidth": 0,
             "ticks": ""
            },
            "type": "contourcarpet"
           }
          ],
          "heatmap": [
           {
            "colorbar": {
             "outlinewidth": 0,
             "ticks": ""
            },
            "colorscale": [
             [
              0,
              "#0d0887"
             ],
             [
              0.1111111111111111,
              "#46039f"
             ],
             [
              0.2222222222222222,
              "#7201a8"
             ],
             [
              0.3333333333333333,
              "#9c179e"
             ],
             [
              0.4444444444444444,
              "#bd3786"
             ],
             [
              0.5555555555555556,
              "#d8576b"
             ],
             [
              0.6666666666666666,
              "#ed7953"
             ],
             [
              0.7777777777777778,
              "#fb9f3a"
             ],
             [
              0.8888888888888888,
              "#fdca26"
             ],
             [
              1,
              "#f0f921"
             ]
            ],
            "type": "heatmap"
           }
          ],
          "heatmapgl": [
           {
            "colorbar": {
             "outlinewidth": 0,
             "ticks": ""
            },
            "colorscale": [
             [
              0,
              "#0d0887"
             ],
             [
              0.1111111111111111,
              "#46039f"
             ],
             [
              0.2222222222222222,
              "#7201a8"
             ],
             [
              0.3333333333333333,
              "#9c179e"
             ],
             [
              0.4444444444444444,
              "#bd3786"
             ],
             [
              0.5555555555555556,
              "#d8576b"
             ],
             [
              0.6666666666666666,
              "#ed7953"
             ],
             [
              0.7777777777777778,
              "#fb9f3a"
             ],
             [
              0.8888888888888888,
              "#fdca26"
             ],
             [
              1,
              "#f0f921"
             ]
            ],
            "type": "heatmapgl"
           }
          ],
          "histogram": [
           {
            "marker": {
             "pattern": {
              "fillmode": "overlay",
              "size": 10,
              "solidity": 0.2
             }
            },
            "type": "histogram"
           }
          ],
          "histogram2d": [
           {
            "colorbar": {
             "outlinewidth": 0,
             "ticks": ""
            },
            "colorscale": [
             [
              0,
              "#0d0887"
             ],
             [
              0.1111111111111111,
              "#46039f"
             ],
             [
              0.2222222222222222,
              "#7201a8"
             ],
             [
              0.3333333333333333,
              "#9c179e"
             ],
             [
              0.4444444444444444,
              "#bd3786"
             ],
             [
              0.5555555555555556,
              "#d8576b"
             ],
             [
              0.6666666666666666,
              "#ed7953"
             ],
             [
              0.7777777777777778,
              "#fb9f3a"
             ],
             [
              0.8888888888888888,
              "#fdca26"
             ],
             [
              1,
              "#f0f921"
             ]
            ],
            "type": "histogram2d"
           }
          ],
          "histogram2dcontour": [
           {
            "colorbar": {
             "outlinewidth": 0,
             "ticks": ""
            },
            "colorscale": [
             [
              0,
              "#0d0887"
             ],
             [
              0.1111111111111111,
              "#46039f"
             ],
             [
              0.2222222222222222,
              "#7201a8"
             ],
             [
              0.3333333333333333,
              "#9c179e"
             ],
             [
              0.4444444444444444,
              "#bd3786"
             ],
             [
              0.5555555555555556,
              "#d8576b"
             ],
             [
              0.6666666666666666,
              "#ed7953"
             ],
             [
              0.7777777777777778,
              "#fb9f3a"
             ],
             [
              0.8888888888888888,
              "#fdca26"
             ],
             [
              1,
              "#f0f921"
             ]
            ],
            "type": "histogram2dcontour"
           }
          ],
          "mesh3d": [
           {
            "colorbar": {
             "outlinewidth": 0,
             "ticks": ""
            },
            "type": "mesh3d"
           }
          ],
          "parcoords": [
           {
            "line": {
             "colorbar": {
              "outlinewidth": 0,
              "ticks": ""
             }
            },
            "type": "parcoords"
           }
          ],
          "pie": [
           {
            "automargin": true,
            "type": "pie"
           }
          ],
          "scatter": [
           {
            "fillpattern": {
             "fillmode": "overlay",
             "size": 10,
             "solidity": 0.2
            },
            "type": "scatter"
           }
          ],
          "scatter3d": [
           {
            "line": {
             "colorbar": {
              "outlinewidth": 0,
              "ticks": ""
             }
            },
            "marker": {
             "colorbar": {
              "outlinewidth": 0,
              "ticks": ""
             }
            },
            "type": "scatter3d"
           }
          ],
          "scattercarpet": [
           {
            "marker": {
             "colorbar": {
              "outlinewidth": 0,
              "ticks": ""
             }
            },
            "type": "scattercarpet"
           }
          ],
          "scattergeo": [
           {
            "marker": {
             "colorbar": {
              "outlinewidth": 0,
              "ticks": ""
             }
            },
            "type": "scattergeo"
           }
          ],
          "scattergl": [
           {
            "marker": {
             "colorbar": {
              "outlinewidth": 0,
              "ticks": ""
             }
            },
            "type": "scattergl"
           }
          ],
          "scattermapbox": [
           {
            "marker": {
             "colorbar": {
              "outlinewidth": 0,
              "ticks": ""
             }
            },
            "type": "scattermapbox"
           }
          ],
          "scatterpolar": [
           {
            "marker": {
             "colorbar": {
              "outlinewidth": 0,
              "ticks": ""
             }
            },
            "type": "scatterpolar"
           }
          ],
          "scatterpolargl": [
           {
            "marker": {
             "colorbar": {
              "outlinewidth": 0,
              "ticks": ""
             }
            },
            "type": "scatterpolargl"
           }
          ],
          "scatterternary": [
           {
            "marker": {
             "colorbar": {
              "outlinewidth": 0,
              "ticks": ""
             }
            },
            "type": "scatterternary"
           }
          ],
          "surface": [
           {
            "colorbar": {
             "outlinewidth": 0,
             "ticks": ""
            },
            "colorscale": [
             [
              0,
              "#0d0887"
             ],
             [
              0.1111111111111111,
              "#46039f"
             ],
             [
              0.2222222222222222,
              "#7201a8"
             ],
             [
              0.3333333333333333,
              "#9c179e"
             ],
             [
              0.4444444444444444,
              "#bd3786"
             ],
             [
              0.5555555555555556,
              "#d8576b"
             ],
             [
              0.6666666666666666,
              "#ed7953"
             ],
             [
              0.7777777777777778,
              "#fb9f3a"
             ],
             [
              0.8888888888888888,
              "#fdca26"
             ],
             [
              1,
              "#f0f921"
             ]
            ],
            "type": "surface"
           }
          ],
          "table": [
           {
            "cells": {
             "fill": {
              "color": "#EBF0F8"
             },
             "line": {
              "color": "white"
             }
            },
            "header": {
             "fill": {
              "color": "#C8D4E3"
             },
             "line": {
              "color": "white"
             }
            },
            "type": "table"
           }
          ]
         },
         "layout": {
          "annotationdefaults": {
           "arrowcolor": "#2a3f5f",
           "arrowhead": 0,
           "arrowwidth": 1
          },
          "autotypenumbers": "strict",
          "coloraxis": {
           "colorbar": {
            "outlinewidth": 0,
            "ticks": ""
           }
          },
          "colorscale": {
           "diverging": [
            [
             0,
             "#8e0152"
            ],
            [
             0.1,
             "#c51b7d"
            ],
            [
             0.2,
             "#de77ae"
            ],
            [
             0.3,
             "#f1b6da"
            ],
            [
             0.4,
             "#fde0ef"
            ],
            [
             0.5,
             "#f7f7f7"
            ],
            [
             0.6,
             "#e6f5d0"
            ],
            [
             0.7,
             "#b8e186"
            ],
            [
             0.8,
             "#7fbc41"
            ],
            [
             0.9,
             "#4d9221"
            ],
            [
             1,
             "#276419"
            ]
           ],
           "sequential": [
            [
             0,
             "#0d0887"
            ],
            [
             0.1111111111111111,
             "#46039f"
            ],
            [
             0.2222222222222222,
             "#7201a8"
            ],
            [
             0.3333333333333333,
             "#9c179e"
            ],
            [
             0.4444444444444444,
             "#bd3786"
            ],
            [
             0.5555555555555556,
             "#d8576b"
            ],
            [
             0.6666666666666666,
             "#ed7953"
            ],
            [
             0.7777777777777778,
             "#fb9f3a"
            ],
            [
             0.8888888888888888,
             "#fdca26"
            ],
            [
             1,
             "#f0f921"
            ]
           ],
           "sequentialminus": [
            [
             0,
             "#0d0887"
            ],
            [
             0.1111111111111111,
             "#46039f"
            ],
            [
             0.2222222222222222,
             "#7201a8"
            ],
            [
             0.3333333333333333,
             "#9c179e"
            ],
            [
             0.4444444444444444,
             "#bd3786"
            ],
            [
             0.5555555555555556,
             "#d8576b"
            ],
            [
             0.6666666666666666,
             "#ed7953"
            ],
            [
             0.7777777777777778,
             "#fb9f3a"
            ],
            [
             0.8888888888888888,
             "#fdca26"
            ],
            [
             1,
             "#f0f921"
            ]
           ]
          },
          "colorway": [
           "#636efa",
           "#EF553B",
           "#00cc96",
           "#ab63fa",
           "#FFA15A",
           "#19d3f3",
           "#FF6692",
           "#B6E880",
           "#FF97FF",
           "#FECB52"
          ],
          "font": {
           "color": "#2a3f5f"
          },
          "geo": {
           "bgcolor": "white",
           "lakecolor": "white",
           "landcolor": "#E5ECF6",
           "showlakes": true,
           "showland": true,
           "subunitcolor": "white"
          },
          "hoverlabel": {
           "align": "left"
          },
          "hovermode": "closest",
          "mapbox": {
           "style": "light"
          },
          "paper_bgcolor": "white",
          "plot_bgcolor": "#E5ECF6",
          "polar": {
           "angularaxis": {
            "gridcolor": "white",
            "linecolor": "white",
            "ticks": ""
           },
           "bgcolor": "#E5ECF6",
           "radialaxis": {
            "gridcolor": "white",
            "linecolor": "white",
            "ticks": ""
           }
          },
          "scene": {
           "xaxis": {
            "backgroundcolor": "#E5ECF6",
            "gridcolor": "white",
            "gridwidth": 2,
            "linecolor": "white",
            "showbackground": true,
            "ticks": "",
            "zerolinecolor": "white"
           },
           "yaxis": {
            "backgroundcolor": "#E5ECF6",
            "gridcolor": "white",
            "gridwidth": 2,
            "linecolor": "white",
            "showbackground": true,
            "ticks": "",
            "zerolinecolor": "white"
           },
           "zaxis": {
            "backgroundcolor": "#E5ECF6",
            "gridcolor": "white",
            "gridwidth": 2,
            "linecolor": "white",
            "showbackground": true,
            "ticks": "",
            "zerolinecolor": "white"
           }
          },
          "shapedefaults": {
           "line": {
            "color": "#2a3f5f"
           }
          },
          "ternary": {
           "aaxis": {
            "gridcolor": "white",
            "linecolor": "white",
            "ticks": ""
           },
           "baxis": {
            "gridcolor": "white",
            "linecolor": "white",
            "ticks": ""
           },
           "bgcolor": "#E5ECF6",
           "caxis": {
            "gridcolor": "white",
            "linecolor": "white",
            "ticks": ""
           }
          },
          "title": {
           "x": 0.05
          },
          "xaxis": {
           "automargin": true,
           "gridcolor": "white",
           "linecolor": "white",
           "ticks": "",
           "title": {
            "standoff": 15
           },
           "zerolinecolor": "white",
           "zerolinewidth": 2
          },
          "yaxis": {
           "automargin": true,
           "gridcolor": "white",
           "linecolor": "white",
           "ticks": "",
           "title": {
            "standoff": 15
           },
           "zerolinecolor": "white",
           "zerolinewidth": 2
          }
         }
        },
        "title": {
         "text": "final_PGD_accuracy by Strategy and Size"
        },
        "width": 600,
        "xaxis": {
         "gridcolor": "lightgray",
         "showgrid": true,
         "title": {
          "text": "Size"
         },
         "type": "log"
        },
        "yaxis": {
         "gridcolor": "lightgray",
         "range": [
          45,
          65
         ],
         "showgrid": true,
         "title": {
          "text": "final_PGD_accuracy"
         }
        }
       }
      }
     },
     "metadata": {},
     "output_type": "display_data"
    },
    {
     "data": {
      "application/vnd.plotly.v1+json": {
       "config": {
        "plotlyServerURL": "https://plot.ly"
       },
       "data": [
        {
         "line": {
          "color": "rgba(0,0,204,1)",
          "dash": "dot",
          "width": 2
         },
         "mode": "lines",
         "name": "Init Accuracy",
         "showlegend": true,
         "type": "scatter",
         "x": [
          0,
          50000
         ],
         "y": [
          93.66,
          93.66
         ]
        },
        {
         "line": {
          "color": "rgba(0,0,0,1)",
          "dash": "dash",
          "width": 2
         },
         "mode": "lines",
         "name": "Full Dataset Average",
         "showlegend": true,
         "type": "scatter",
         "x": [
          500,
          50000
         ],
         "y": [
          87.988,
          87.988
         ]
        },
        {
         "error_y": {
          "array": [
           0.10852269460716676
          ],
          "arrayminus": [
           0.10852269460716676
          ],
          "symmetric": false,
          "type": "data"
         },
         "line": {
          "color": "rgba(0,0,0,1)"
         },
         "mode": "lines+markers",
         "name": "full",
         "showlegend": false,
         "type": "scatter",
         "x": [
          50000
         ],
         "y": [
          87.988
         ]
        },
        {
         "error_y": {
          "array": [
           0.18991253174869585,
           0.23086479340081062,
           0.26291358168949674,
           0.32605281802309477,
           0.15722465695685608,
           0.34037529337365235,
           0.26143544671677443,
           0.20867190062871285,
           0.16397610908909882
          ],
          "arrayminus": [
           0.18991253174869585,
           0.23086479340081062,
           0.26291358168949674,
           0.32605281802309477,
           0.15722465695685608,
           0.34037529337365235,
           0.26143544671677443,
           0.20867190062871285,
           0.16397610908909882
          ],
          "symmetric": false,
          "type": "data"
         },
         "line": {
          "color": "rgba(255,161,90,1)"
         },
         "mode": "lines+markers",
         "name": "uncertainty",
         "type": "scatter",
         "x": [
          500,
          1500,
          2500,
          5000,
          7500,
          10000,
          12500,
          25000,
          37500
         ],
         "y": [
          86.346,
          86.14,
          85.09200000000001,
          85.81800000000001,
          87.086,
          86.726,
          87.82000000000001,
          87.85,
          88.1
         ]
        },
        {
         "error_y": {
          "array": [
           0.5229216551339196,
           0.4015322182799304,
           0.3863759565852911,
           0.3834001955555054,
           0.2173203739808997,
           0.22223580632472442,
           0.1914437724325333,
           0.3408311820476501,
           0.10033842408170504
          ],
          "arrayminus": [
           0.5229216551339196,
           0.4015322182799304,
           0.3863759565852911,
           0.3834001955555054,
           0.2173203739808997,
           0.22223580632472442,
           0.1914437724325333,
           0.3408311820476501,
           0.10033842408170504
          ],
          "symmetric": false,
          "type": "data"
         },
         "line": {
          "color": "rgba(25,211,243,1)"
         },
         "mode": "lines+markers",
         "name": "random",
         "type": "scatter",
         "x": [
          500,
          1500,
          2500,
          5000,
          7500,
          10000,
          12500,
          25000,
          37500
         ],
         "y": [
          82.6,
          83.062,
          83.136,
          83.42999999999999,
          84.816,
          85.212,
          85.576,
          86.39,
          87.436
         ]
        },
        {
         "error_y": {
          "array": [
           0.8326387549875369,
           0.008620944913408087,
           0.48626256184575584,
           0.15411284650930418,
           0.29131815326065874,
           0.5017926339387614,
           0.21137645792093207,
           0.25427090420101334,
           0.14884733423478141
          ],
          "arrayminus": [
           0.8326387549875369,
           0.008620944913408087,
           0.48626256184575584,
           0.15411284650930418,
           0.29131815326065874,
           0.5017926339387614,
           0.21137645792093207,
           0.25427090420101334,
           0.14884733423478141
          ],
          "symmetric": false,
          "type": "data"
         },
         "line": {
          "color": "rgba(255,102,146,1)"
         },
         "mode": "lines+markers",
         "name": "entropy",
         "type": "scatter",
         "x": [
          500,
          1500,
          2500,
          5000,
          7500,
          10000,
          12500,
          25000,
          37500
         ],
         "y": [
          84.98400000000001,
          86.65599999999999,
          84.982,
          85.486,
          86.286,
          86.234,
          87.054,
          87.674,
          88.248
         ]
        },
        {
         "error_y": {
          "array": [
           0.6759573217865177,
           0.21277822372789493,
           0.45054232635791136,
           0.42214973677120654,
           0.3071516800331734,
           0.28614246960002193,
           0.15717400196215742
          ],
          "arrayminus": [
           0.6759573217865177,
           0.21277822372789493,
           0.45054232635791136,
           0.42214973677120654,
           0.3071516800331734,
           0.28614246960002193,
           0.15717400196215742
          ],
          "symmetric": false,
          "type": "data"
         },
         "line": {
          "color": "rgba(182,232,128,1)"
         },
         "mode": "lines+markers",
         "name": "attack",
         "type": "scatter",
         "x": [
          500,
          1500,
          2500,
          5000,
          7500,
          10000,
          12500
         ],
         "y": [
          81.262,
          81.44800000000001,
          82.22999999999999,
          82.46000000000001,
          83.586,
          84.032,
          84.69800000000001
         ]
        },
        {
         "error_y": {
          "array": [
           0.4788395297834123,
           0.31899576455621004,
           0.30343049425659274,
           0.43535771812705965,
           0.2895084791518184,
           0.20409334410313576,
           0.09914086650418523,
           0.2519112007100911,
           0.11918837720515998
          ],
          "arrayminus": [
           0.4788395297834123,
           0.31899576455621004,
           0.30343049425659274,
           0.43535771812705965,
           0.2895084791518184,
           0.20409334410313576,
           0.09914086650418523,
           0.2519112007100911,
           0.11918837720515998
          ],
          "symmetric": false,
          "type": "data"
         },
         "line": {
          "color": "rgba(254,203,82,1)"
         },
         "mode": "lines+markers",
         "name": "margin",
         "type": "scatter",
         "x": [
          500,
          1500,
          2500,
          5000,
          7500,
          10000,
          12500,
          25000,
          37500
         ],
         "y": [
          85.884,
          86.092,
          84.762,
          85.462,
          86.94200000000001,
          86.646,
          87.664,
          87.724,
          88.012
         ]
        }
       ],
       "layout": {
        "height": 400,
        "legend": {
         "title": {
          "text": "Active Strategy"
         }
        },
        "margin": {
         "b": 0,
         "l": 0,
         "r": 0,
         "t": 50
        },
        "paper_bgcolor": "white",
        "plot_bgcolor": "white",
        "showlegend": true,
        "template": {
         "data": {
          "bar": [
           {
            "error_x": {
             "color": "#2a3f5f"
            },
            "error_y": {
             "color": "#2a3f5f"
            },
            "marker": {
             "line": {
              "color": "#E5ECF6",
              "width": 0.5
             },
             "pattern": {
              "fillmode": "overlay",
              "size": 10,
              "solidity": 0.2
             }
            },
            "type": "bar"
           }
          ],
          "barpolar": [
           {
            "marker": {
             "line": {
              "color": "#E5ECF6",
              "width": 0.5
             },
             "pattern": {
              "fillmode": "overlay",
              "size": 10,
              "solidity": 0.2
             }
            },
            "type": "barpolar"
           }
          ],
          "carpet": [
           {
            "aaxis": {
             "endlinecolor": "#2a3f5f",
             "gridcolor": "white",
             "linecolor": "white",
             "minorgridcolor": "white",
             "startlinecolor": "#2a3f5f"
            },
            "baxis": {
             "endlinecolor": "#2a3f5f",
             "gridcolor": "white",
             "linecolor": "white",
             "minorgridcolor": "white",
             "startlinecolor": "#2a3f5f"
            },
            "type": "carpet"
           }
          ],
          "choropleth": [
           {
            "colorbar": {
             "outlinewidth": 0,
             "ticks": ""
            },
            "type": "choropleth"
           }
          ],
          "contour": [
           {
            "colorbar": {
             "outlinewidth": 0,
             "ticks": ""
            },
            "colorscale": [
             [
              0,
              "#0d0887"
             ],
             [
              0.1111111111111111,
              "#46039f"
             ],
             [
              0.2222222222222222,
              "#7201a8"
             ],
             [
              0.3333333333333333,
              "#9c179e"
             ],
             [
              0.4444444444444444,
              "#bd3786"
             ],
             [
              0.5555555555555556,
              "#d8576b"
             ],
             [
              0.6666666666666666,
              "#ed7953"
             ],
             [
              0.7777777777777778,
              "#fb9f3a"
             ],
             [
              0.8888888888888888,
              "#fdca26"
             ],
             [
              1,
              "#f0f921"
             ]
            ],
            "type": "contour"
           }
          ],
          "contourcarpet": [
           {
            "colorbar": {
             "outlinewidth": 0,
             "ticks": ""
            },
            "type": "contourcarpet"
           }
          ],
          "heatmap": [
           {
            "colorbar": {
             "outlinewidth": 0,
             "ticks": ""
            },
            "colorscale": [
             [
              0,
              "#0d0887"
             ],
             [
              0.1111111111111111,
              "#46039f"
             ],
             [
              0.2222222222222222,
              "#7201a8"
             ],
             [
              0.3333333333333333,
              "#9c179e"
             ],
             [
              0.4444444444444444,
              "#bd3786"
             ],
             [
              0.5555555555555556,
              "#d8576b"
             ],
             [
              0.6666666666666666,
              "#ed7953"
             ],
             [
              0.7777777777777778,
              "#fb9f3a"
             ],
             [
              0.8888888888888888,
              "#fdca26"
             ],
             [
              1,
              "#f0f921"
             ]
            ],
            "type": "heatmap"
           }
          ],
          "heatmapgl": [
           {
            "colorbar": {
             "outlinewidth": 0,
             "ticks": ""
            },
            "colorscale": [
             [
              0,
              "#0d0887"
             ],
             [
              0.1111111111111111,
              "#46039f"
             ],
             [
              0.2222222222222222,
              "#7201a8"
             ],
             [
              0.3333333333333333,
              "#9c179e"
             ],
             [
              0.4444444444444444,
              "#bd3786"
             ],
             [
              0.5555555555555556,
              "#d8576b"
             ],
             [
              0.6666666666666666,
              "#ed7953"
             ],
             [
              0.7777777777777778,
              "#fb9f3a"
             ],
             [
              0.8888888888888888,
              "#fdca26"
             ],
             [
              1,
              "#f0f921"
             ]
            ],
            "type": "heatmapgl"
           }
          ],
          "histogram": [
           {
            "marker": {
             "pattern": {
              "fillmode": "overlay",
              "size": 10,
              "solidity": 0.2
             }
            },
            "type": "histogram"
           }
          ],
          "histogram2d": [
           {
            "colorbar": {
             "outlinewidth": 0,
             "ticks": ""
            },
            "colorscale": [
             [
              0,
              "#0d0887"
             ],
             [
              0.1111111111111111,
              "#46039f"
             ],
             [
              0.2222222222222222,
              "#7201a8"
             ],
             [
              0.3333333333333333,
              "#9c179e"
             ],
             [
              0.4444444444444444,
              "#bd3786"
             ],
             [
              0.5555555555555556,
              "#d8576b"
             ],
             [
              0.6666666666666666,
              "#ed7953"
             ],
             [
              0.7777777777777778,
              "#fb9f3a"
             ],
             [
              0.8888888888888888,
              "#fdca26"
             ],
             [
              1,
              "#f0f921"
             ]
            ],
            "type": "histogram2d"
           }
          ],
          "histogram2dcontour": [
           {
            "colorbar": {
             "outlinewidth": 0,
             "ticks": ""
            },
            "colorscale": [
             [
              0,
              "#0d0887"
             ],
             [
              0.1111111111111111,
              "#46039f"
             ],
             [
              0.2222222222222222,
              "#7201a8"
             ],
             [
              0.3333333333333333,
              "#9c179e"
             ],
             [
              0.4444444444444444,
              "#bd3786"
             ],
             [
              0.5555555555555556,
              "#d8576b"
             ],
             [
              0.6666666666666666,
              "#ed7953"
             ],
             [
              0.7777777777777778,
              "#fb9f3a"
             ],
             [
              0.8888888888888888,
              "#fdca26"
             ],
             [
              1,
              "#f0f921"
             ]
            ],
            "type": "histogram2dcontour"
           }
          ],
          "mesh3d": [
           {
            "colorbar": {
             "outlinewidth": 0,
             "ticks": ""
            },
            "type": "mesh3d"
           }
          ],
          "parcoords": [
           {
            "line": {
             "colorbar": {
              "outlinewidth": 0,
              "ticks": ""
             }
            },
            "type": "parcoords"
           }
          ],
          "pie": [
           {
            "automargin": true,
            "type": "pie"
           }
          ],
          "scatter": [
           {
            "fillpattern": {
             "fillmode": "overlay",
             "size": 10,
             "solidity": 0.2
            },
            "type": "scatter"
           }
          ],
          "scatter3d": [
           {
            "line": {
             "colorbar": {
              "outlinewidth": 0,
              "ticks": ""
             }
            },
            "marker": {
             "colorbar": {
              "outlinewidth": 0,
              "ticks": ""
             }
            },
            "type": "scatter3d"
           }
          ],
          "scattercarpet": [
           {
            "marker": {
             "colorbar": {
              "outlinewidth": 0,
              "ticks": ""
             }
            },
            "type": "scattercarpet"
           }
          ],
          "scattergeo": [
           {
            "marker": {
             "colorbar": {
              "outlinewidth": 0,
              "ticks": ""
             }
            },
            "type": "scattergeo"
           }
          ],
          "scattergl": [
           {
            "marker": {
             "colorbar": {
              "outlinewidth": 0,
              "ticks": ""
             }
            },
            "type": "scattergl"
           }
          ],
          "scattermapbox": [
           {
            "marker": {
             "colorbar": {
              "outlinewidth": 0,
              "ticks": ""
             }
            },
            "type": "scattermapbox"
           }
          ],
          "scatterpolar": [
           {
            "marker": {
             "colorbar": {
              "outlinewidth": 0,
              "ticks": ""
             }
            },
            "type": "scatterpolar"
           }
          ],
          "scatterpolargl": [
           {
            "marker": {
             "colorbar": {
              "outlinewidth": 0,
              "ticks": ""
             }
            },
            "type": "scatterpolargl"
           }
          ],
          "scatterternary": [
           {
            "marker": {
             "colorbar": {
              "outlinewidth": 0,
              "ticks": ""
             }
            },
            "type": "scatterternary"
           }
          ],
          "surface": [
           {
            "colorbar": {
             "outlinewidth": 0,
             "ticks": ""
            },
            "colorscale": [
             [
              0,
              "#0d0887"
             ],
             [
              0.1111111111111111,
              "#46039f"
             ],
             [
              0.2222222222222222,
              "#7201a8"
             ],
             [
              0.3333333333333333,
              "#9c179e"
             ],
             [
              0.4444444444444444,
              "#bd3786"
             ],
             [
              0.5555555555555556,
              "#d8576b"
             ],
             [
              0.6666666666666666,
              "#ed7953"
             ],
             [
              0.7777777777777778,
              "#fb9f3a"
             ],
             [
              0.8888888888888888,
              "#fdca26"
             ],
             [
              1,
              "#f0f921"
             ]
            ],
            "type": "surface"
           }
          ],
          "table": [
           {
            "cells": {
             "fill": {
              "color": "#EBF0F8"
             },
             "line": {
              "color": "white"
             }
            },
            "header": {
             "fill": {
              "color": "#C8D4E3"
             },
             "line": {
              "color": "white"
             }
            },
            "type": "table"
           }
          ]
         },
         "layout": {
          "annotationdefaults": {
           "arrowcolor": "#2a3f5f",
           "arrowhead": 0,
           "arrowwidth": 1
          },
          "autotypenumbers": "strict",
          "coloraxis": {
           "colorbar": {
            "outlinewidth": 0,
            "ticks": ""
           }
          },
          "colorscale": {
           "diverging": [
            [
             0,
             "#8e0152"
            ],
            [
             0.1,
             "#c51b7d"
            ],
            [
             0.2,
             "#de77ae"
            ],
            [
             0.3,
             "#f1b6da"
            ],
            [
             0.4,
             "#fde0ef"
            ],
            [
             0.5,
             "#f7f7f7"
            ],
            [
             0.6,
             "#e6f5d0"
            ],
            [
             0.7,
             "#b8e186"
            ],
            [
             0.8,
             "#7fbc41"
            ],
            [
             0.9,
             "#4d9221"
            ],
            [
             1,
             "#276419"
            ]
           ],
           "sequential": [
            [
             0,
             "#0d0887"
            ],
            [
             0.1111111111111111,
             "#46039f"
            ],
            [
             0.2222222222222222,
             "#7201a8"
            ],
            [
             0.3333333333333333,
             "#9c179e"
            ],
            [
             0.4444444444444444,
             "#bd3786"
            ],
            [
             0.5555555555555556,
             "#d8576b"
            ],
            [
             0.6666666666666666,
             "#ed7953"
            ],
            [
             0.7777777777777778,
             "#fb9f3a"
            ],
            [
             0.8888888888888888,
             "#fdca26"
            ],
            [
             1,
             "#f0f921"
            ]
           ],
           "sequentialminus": [
            [
             0,
             "#0d0887"
            ],
            [
             0.1111111111111111,
             "#46039f"
            ],
            [
             0.2222222222222222,
             "#7201a8"
            ],
            [
             0.3333333333333333,
             "#9c179e"
            ],
            [
             0.4444444444444444,
             "#bd3786"
            ],
            [
             0.5555555555555556,
             "#d8576b"
            ],
            [
             0.6666666666666666,
             "#ed7953"
            ],
            [
             0.7777777777777778,
             "#fb9f3a"
            ],
            [
             0.8888888888888888,
             "#fdca26"
            ],
            [
             1,
             "#f0f921"
            ]
           ]
          },
          "colorway": [
           "#636efa",
           "#EF553B",
           "#00cc96",
           "#ab63fa",
           "#FFA15A",
           "#19d3f3",
           "#FF6692",
           "#B6E880",
           "#FF97FF",
           "#FECB52"
          ],
          "font": {
           "color": "#2a3f5f"
          },
          "geo": {
           "bgcolor": "white",
           "lakecolor": "white",
           "landcolor": "#E5ECF6",
           "showlakes": true,
           "showland": true,
           "subunitcolor": "white"
          },
          "hoverlabel": {
           "align": "left"
          },
          "hovermode": "closest",
          "mapbox": {
           "style": "light"
          },
          "paper_bgcolor": "white",
          "plot_bgcolor": "#E5ECF6",
          "polar": {
           "angularaxis": {
            "gridcolor": "white",
            "linecolor": "white",
            "ticks": ""
           },
           "bgcolor": "#E5ECF6",
           "radialaxis": {
            "gridcolor": "white",
            "linecolor": "white",
            "ticks": ""
           }
          },
          "scene": {
           "xaxis": {
            "backgroundcolor": "#E5ECF6",
            "gridcolor": "white",
            "gridwidth": 2,
            "linecolor": "white",
            "showbackground": true,
            "ticks": "",
            "zerolinecolor": "white"
           },
           "yaxis": {
            "backgroundcolor": "#E5ECF6",
            "gridcolor": "white",
            "gridwidth": 2,
            "linecolor": "white",
            "showbackground": true,
            "ticks": "",
            "zerolinecolor": "white"
           },
           "zaxis": {
            "backgroundcolor": "#E5ECF6",
            "gridcolor": "white",
            "gridwidth": 2,
            "linecolor": "white",
            "showbackground": true,
            "ticks": "",
            "zerolinecolor": "white"
           }
          },
          "shapedefaults": {
           "line": {
            "color": "#2a3f5f"
           }
          },
          "ternary": {
           "aaxis": {
            "gridcolor": "white",
            "linecolor": "white",
            "ticks": ""
           },
           "baxis": {
            "gridcolor": "white",
            "linecolor": "white",
            "ticks": ""
           },
           "bgcolor": "#E5ECF6",
           "caxis": {
            "gridcolor": "white",
            "linecolor": "white",
            "ticks": ""
           }
          },
          "title": {
           "x": 0.05
          },
          "xaxis": {
           "automargin": true,
           "gridcolor": "white",
           "linecolor": "white",
           "ticks": "",
           "title": {
            "standoff": 15
           },
           "zerolinecolor": "white",
           "zerolinewidth": 2
          },
          "yaxis": {
           "automargin": true,
           "gridcolor": "white",
           "linecolor": "white",
           "ticks": "",
           "title": {
            "standoff": 15
           },
           "zerolinecolor": "white",
           "zerolinewidth": 2
          }
         }
        },
        "title": {
         "text": "final_clean_accuracy by Strategy and Size"
        },
        "width": 600,
        "xaxis": {
         "gridcolor": "lightgray",
         "showgrid": true,
         "title": {
          "text": "Size"
         },
         "type": "log"
        },
        "yaxis": {
         "gridcolor": "lightgray",
         "range": [
          75,
          94
         ],
         "showgrid": true,
         "title": {
          "text": "final_clean_accuracy"
         }
        }
       }
      }
     },
     "metadata": {},
     "output_type": "display_data"
    }
   ],
   "source": [
    "import plotly.graph_objects as go\n",
    "import pandas as pd\n",
    "\n",
    "# Load and prepare the data\n",
    "new_data = pd.read_csv('results/means.csv', skiprows=2)\n",
    "new_data.columns = ['active_strategy', 'size', 'final_clean_accuracy',\n",
    "                    'final_clean_accuracy_std', 'final_PGD_accuracy', 'final_PGD_accuracy_std']\n",
    "new_data['size'] = new_data['size'].astype(int)\n",
    "\n",
    "\n",
    "\n",
    "\n",
    "for performance in ['PGD_accuracy', 'clean_accuracy' ]:\n",
    "# performance = 'final_PGD_accuracy' \n",
    "# # performance = 'final_clean_accuracy'\n",
    "    fig = go.Figure()\n",
    "\n",
    "    fig.add_trace(go.Scatter(x=[0, 50000], y=[ init_means_stds['init_'+performance]['mean'][0], init_means_stds['init_'+performance]['mean'][0] ],\n",
    "            mode='lines', line=dict(color='rgba({},{},{},1)'.format(0,0,204), width=2, dash='dot'),\n",
    "                        name='Init Accuracy', showlegend=True))\n",
    "\n",
    "\n",
    "    performance = 'final_'+performance\n",
    "    performance_std = performance + '_std'  # Corresponding standard deviation column\n",
    "\n",
    "    strategies = {\n",
    "        #'EEneuralcbpside_v5': {'color': [255, 255, 0], 'label': 'EEneuralcbpside_v5'},  # Red\n",
    "        'full': {'color': [0, 0, 0], 'label': 'full'},  # Red\n",
    "        'uncertainty': {'color': [255, 161, 90], 'label':'uncertainty'},                    # Yellow\n",
    "        'random': {'color': [25, 211, 243], 'label':'random'},                    # Cyan\n",
    "        'entropy': {'color': [255, 102, 146], 'label':'entropy'},                  # Magenta\n",
    "        'attack': {'color': [182, 232, 128], 'label':'attack'},                   # Orange\n",
    "        'margin': {'color': [254, 203, 82], 'label':'margin'},\n",
    "    }\n",
    "\n",
    "\n",
    "    z_value = 2.576\n",
    "    n = 5\n",
    "\n",
    "    # Add a line for each strategy\n",
    "    for strategy, v in strategies.items():\n",
    "        r,g,b = v['color']\n",
    "        c = 'rgba({},{},{},1)'.format(r,g,b)\n",
    "\n",
    "        # Add a horizontal line for the 'full' strategy\n",
    "        if strategy == 'full':\n",
    "            full_data = new_data[new_data['active_strategy'] == 'full']\n",
    "            # Calculate the mean PGD accuracy for the 'full' strategy\n",
    "            full_mean_accuracy = full_data[performance].mean()\n",
    "            fig.add_trace(go.Scatter(x=[min(new_data['size']), max(new_data['size'])], y=[full_mean_accuracy, full_mean_accuracy],\n",
    "                                    mode='lines', line=dict(color=c, width=2, dash='dash'),\n",
    "                                    name='Full Dataset Average', showlegend=True))\n",
    "            \n",
    "            strategy_data = new_data[new_data['active_strategy'] == strategy]\n",
    "            fig.add_trace(go.Scatter( x=strategy_data['size'],  y=strategy_data[performance],  mode='lines+markers',\n",
    "                            name=strategy, line=dict(color=c  ) ,\n",
    "                            error_y=dict(\n",
    "                            type='data',  symmetric=False,  \n",
    "                            array=z_value * strategy_data[performance_std] / n,  \n",
    "                            arrayminus=z_value * strategy_data[performance_std] / n   ), showlegend=False\n",
    "                                ))\n",
    "\n",
    "            \n",
    "        else:\n",
    "            strategy_data = new_data[new_data['active_strategy'] == strategy]\n",
    "            fig.add_trace(go.Scatter(x=strategy_data['size'], y=strategy_data[performance], line=dict(color=c),\n",
    "                                    error_y=dict(\n",
    "                                        type='data',  symmetric=False,  \n",
    "                                        array=z_value * strategy_data[performance_std] / n,  \n",
    "                                        arrayminus=z_value * strategy_data[performance_std] / n   ),\n",
    "                                    mode='lines+markers', name=strategy))\n",
    "\n",
    "\n",
    "\n",
    "\n",
    "    # Update layout and display the plot\n",
    "    fig.update_layout(\n",
    "        width=600,  # Adjusted for two subplots\n",
    "        height=400,\n",
    "        plot_bgcolor='white',\n",
    "        paper_bgcolor='white',\n",
    "        margin=dict(l=0, r=0, t=50, b=0),\n",
    "        # title=\"Box Plot of Datasets by Cases and Columns\",\n",
    "        title='{} by Strategy and Size'.format(performance),\n",
    "        xaxis_title='Size',\n",
    "        yaxis_title=performance,\n",
    "        legend_title='Active Strategy',\n",
    "        # yaxis_range=[min(new_data[performance]) - 2, max(new_data[performance]) + 2],\n",
    "        showlegend=True,\n",
    "        xaxis=dict(\n",
    "            type='log',\n",
    "            showgrid=True,        # Enable the grid\n",
    "            gridcolor='lightgray' # Set grid line color\n",
    "        ),\n",
    "        yaxis=dict(\n",
    "            showgrid=True,        # Enable the grid\n",
    "            gridcolor='lightgray', # Set grid line color\n",
    "            range=[75,94] if 'clean' in performance else [45,65]\n",
    "        )\n",
    "        )\n",
    "\n",
    "    # Display the figure\n",
    "    fig.show()\n",
    "    fig.write_image(\"./figures/results_{}_{}_{}_{}_{}.pdf\".format(performance, data, model, n_rounds, nb_epochs) )\n"
   ]
  }
 ],
 "metadata": {
  "kernelspec": {
   "display_name": ".venv",
   "language": "python",
   "name": "python3"
  },
  "language_info": {
   "codemirror_mode": {
    "name": "ipython",
    "version": 3
   },
   "file_extension": ".py",
   "mimetype": "text/x-python",
   "name": "python",
   "nbconvert_exporter": "python",
   "pygments_lexer": "ipython3",
   "version": "3.8.10"
  }
 },
 "nbformat": 4,
 "nbformat_minor": 2
}
