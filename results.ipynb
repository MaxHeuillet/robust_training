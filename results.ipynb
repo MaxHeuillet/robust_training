{
 "cells": [
  {
   "cell_type": "code",
   "execution_count": 3,
   "metadata": {},
   "outputs": [
    {
     "name": "stdout",
     "output_type": "stream",
     "text": [
      "{'active_strategy': 'uncertainty', 'n_rounds': 1, 'size': 1.0, 'nb_epochs': 60, 'seed': 0, 'data': 'CIFAR10', 'model': 'resnet50', 'init_clean_accuracy': 0.9365000128746033, 'card': 500, 'final_clean_accuracy': 0.7016000151634216, 'final_PGD_accuracy': 0.503600001335144}\n",
      "{'active_strategy': 'uncertainty', 'n_rounds': 1, 'size': 2.5, 'nb_epochs': 60, 'seed': 0, 'data': 'CIFAR10', 'model': 'resnet50', 'init_clean_accuracy': 0.9365000128746033, 'card': 1250, 'final_clean_accuracy': 0.7178000211715698, 'final_PGD_accuracy': 0.5475000143051147}\n",
      "{'active_strategy': 'uncertainty', 'n_rounds': 1, 'size': 10.0, 'nb_epochs': 60, 'seed': 0, 'data': 'CIFAR10', 'model': 'resnet50', 'init_clean_accuracy': 0.9365000128746033, 'card': 5000, 'final_clean_accuracy': 0.7766000032424927, 'final_PGD_accuracy': 0.6035000085830688}\n",
      "{'active_strategy': 'random', 'n_rounds': 1, 'size': 1.0, 'nb_epochs': 60, 'seed': 0, 'data': 'CIFAR10', 'model': 'resnet50', 'init_clean_accuracy': 0.9365000128746033, 'card': 500, 'final_clean_accuracy': 0.701200008392334, 'final_PGD_accuracy': 0.5892999768257141}\n",
      "{'active_strategy': 'random', 'n_rounds': 1, 'size': 2.5, 'nb_epochs': 60, 'seed': 0, 'data': 'CIFAR10', 'model': 'resnet50', 'init_clean_accuracy': 0.9365000128746033, 'card': 1250, 'final_clean_accuracy': 0.722000002861023, 'final_PGD_accuracy': 0.6147000193595886}\n",
      "{'active_strategy': 'random', 'n_rounds': 1, 'size': 10.0, 'nb_epochs': 60, 'seed': 0, 'data': 'CIFAR10', 'model': 'resnet50', 'init_clean_accuracy': 0.9365000128746033, 'card': 5000, 'final_clean_accuracy': 0.7251999974250793, 'final_PGD_accuracy': 0.6348000168800354}\n"
     ]
    }
   ],
   "source": [
    "import gzip\n",
    "import pickle as pkl\n",
    "\n",
    "\n",
    "data = 'CIFAR10'\n",
    "model = 'resnet50'\n",
    "n_rounds = 1\n",
    "nb_epochs = 60\n",
    "seeds = 1\n",
    "\n",
    "results_list = []\n",
    "for active_strategy in [ 'uncertainty', 'random']: #'attack_uncertainty', 'attack', 'margin', 'entropy',\n",
    "    for size in [1.0, 2.5, 10.0]: \n",
    "        for seed in range(seeds):\n",
    "            try:\n",
    "                with gzip.open('./results/{}_{}_{}_{}_{}_{}_{}.pkl.gz'.format(data, model, active_strategy, n_rounds, size, nb_epochs, seed), 'rb') as f:\n",
    "                    result = pkl.load(f)\n",
    "                    result['active_strategy'] = active_strategy\n",
    "                print(result)\n",
    "                results_list.append(result)\n",
    "            except:\n",
    "                print('issue')\n",
    "                pass\n",
    "\n",
    "\n",
    "# active_strategy = 'full'\n",
    "# size = 50000\n",
    "\n",
    "# # FAT_CIFAR10_resnet50_full_1_50000_60_0.pkl.gz\n",
    "\n",
    "# for seed in range(seeds):\n",
    "\n",
    "#     try:\n",
    "#         with gzip.open('./results/{}_{}_{}_{}_{}_{}_{}_{}.pkl.gz'.format(loss, data, model, active_strategy, n_rounds, size, nb_epochs, seed), 'rb') as f:\n",
    "#             result = pkl.load(f)\n",
    "#             result['active_strategy'] = active_strategy\n",
    "#             result['size'] = 50000\n",
    "#             print(result)\n",
    "#             results_list.append(result)\n",
    "#     except:\n",
    "#         print('issue')\n",
    "#         pass\n",
    "\n",
    "\n",
    "# clean_accuracy_init = result['init_clean_accuracy']\n",
    "# PGD_accuracy_init = result['init_PGD_accuracy']"
   ]
  },
  {
   "cell_type": "code",
   "execution_count": 13,
   "metadata": {},
   "outputs": [],
   "source": [
    "import pandas as pd\n",
    "# Convert the list of dictionaries to a DataFrame\n",
    "df = pd.DataFrame(results_list)\n",
    "\n",
    "# Assuming df is your DataFrame\n",
    "means_stds = df.groupby(['active_strategy', 'size']).agg({\n",
    "    'final_clean_accuracy': ['mean', 'std' ],\n",
    "    'final_PGD_accuracy': ['mean', 'std']\n",
    "})\n",
    "\n",
    "\n",
    "\n",
    "# Assuming df is your DataFrame\n",
    "# init_means_stds = df.groupby(['active_strategy', ]).agg({\n",
    "#     'init_clean_accuracy': ['mean',  'std' ],\n",
    "#     'init_PGD_accuracy': ['mean',  'std' ],\n",
    "# })\n",
    "\n",
    "means_stds.to_csv('./results/means.csv', index=True)"
   ]
  },
  {
   "cell_type": "code",
   "execution_count": 14,
   "metadata": {},
   "outputs": [
    {
     "data": {
      "application/vnd.plotly.v1+json": {
       "config": {
        "plotlyServerURL": "https://plot.ly"
       },
       "data": [
        {
         "error_y": {
          "array": [
           0.6843503303698566,
           0.43118064441407034,
           0.32714185811051344,
           0.5441725056683169,
           0.5647102789549099,
           0.11592954034815044,
           0.25772018529664,
           0.6301677387362814
          ],
          "arrayminus": [
           0.6843503303698566,
           0.43118064441407034,
           0.32714185811051344,
           0.5441725056683169,
           0.5647102789549099,
           0.11592954034815044,
           0.25772018529664,
           0.6301677387362814
          ],
          "symmetric": false,
          "type": "data"
         },
         "line": {
          "color": "rgba(204,0,204,1)"
         },
         "mode": "lines+markers",
         "name": "attack_uncertainty",
         "type": "scatter",
         "x": [
          500,
          2500,
          5000,
          7500,
          10000,
          12500,
          25000,
          37500
         ],
         "y": [
          56.45333333333334,
          60.17666666666667,
          59.27,
          60.653333333333336,
          60.20333333333334,
          61.66333333333333,
          62.00333333333333,
          63
         ]
        },
        {
         "line": {
          "color": "rgba(0,0,0,1)",
          "dash": "dash",
          "width": 2
         },
         "mode": "lines",
         "name": "Full Dataset Average",
         "showlegend": true,
         "type": "scatter",
         "x": [
          500,
          50000
         ],
         "y": [
          62.51333333333333,
          62.51333333333333
         ]
        },
        {
         "error_y": {
          "array": [
           0.26201014225661823
          ],
          "arrayminus": [
           0.26201014225661823
          ],
          "symmetric": false,
          "type": "data"
         },
         "line": {
          "color": "rgba(0,0,0,1)"
         },
         "mode": "lines+markers",
         "name": "full",
         "showlegend": false,
         "type": "scatter",
         "x": [
          50000
         ],
         "y": [
          62.51333333333333
         ]
        },
        {
         "error_y": {
          "array": [
           0.9573066678997547,
           0.3657678114068191,
           0.3924660909072267,
           0.667198918752122,
           0.466087557050533,
           0.1728289318989544,
           1.2835719724207144,
           0.3548652322746383
          ],
          "arrayminus": [
           0.9573066678997547,
           0.3657678114068191,
           0.3924660909072267,
           0.667198918752122,
           0.466087557050533,
           0.1728289318989544,
           1.2835719724207144,
           0.3548652322746383
          ],
          "symmetric": false,
          "type": "data"
         },
         "line": {
          "color": "rgba(255,161,90,1)"
         },
         "mode": "lines+markers",
         "name": "uncertainty",
         "type": "scatter",
         "x": [
          500,
          2500,
          5000,
          7500,
          10000,
          12500,
          25000,
          37500
         ],
         "y": [
          50.086666666666666,
          50.583333333333336,
          53.15,
          56.47,
          56.51666666666667,
          58.81333333333333,
          61.03,
          62.52333333333333
         ]
        },
        {
         "error_y": {
          "array": [
           1.1469922642970782,
           0.2651653870624903,
           0.24799268531148363,
           0.3767071564031318,
           0.2393509267442559,
           0.3729896188439222,
           1.027385965139362,
           0.3387937859485225
          ],
          "arrayminus": [
           1.1469922642970782,
           0.2651653870624903,
           0.24799268531148363,
           0.3767071564031318,
           0.2393509267442559,
           0.3729896188439222,
           1.027385965139362,
           0.3387937859485225
          ],
          "symmetric": false,
          "type": "data"
         },
         "line": {
          "color": "rgba(25,211,243,1)"
         },
         "mode": "lines+markers",
         "name": "random",
         "type": "scatter",
         "x": [
          500,
          2500,
          5000,
          7500,
          10000,
          12500,
          25000,
          37500
         ],
         "y": [
          54.74333333333333,
          59.120000000000005,
          59.02,
          61.083333333333336,
          60.22666666666667,
          61.07333333333333,
          62.43333333333334,
          62.45666666666667
         ]
        },
        {
         "error_y": {
          "array": [
           1.3037953497651902,
           0.9968066025249485,
           0.7203778357945233,
           0.4706214056726849,
           0.20584373122670718,
           0.07507320260474729,
           0.6141693992246773,
           0.2558596141741274
          ],
          "arrayminus": [
           1.3037953497651902,
           0.9968066025249485,
           0.7203778357945233,
           0.4706214056726849,
           0.20584373122670718,
           0.07507320260474729,
           0.6141693992246773,
           0.2558596141741274
          ],
          "symmetric": false,
          "type": "data"
         },
         "line": {
          "color": "rgba(255,102,146,1)"
         },
         "mode": "lines+markers",
         "name": "entropy",
         "type": "scatter",
         "x": [
          500,
          2500,
          5000,
          7500,
          10000,
          12500,
          25000,
          37500
         ],
         "y": [
          45.656666666666666,
          50.96333333333333,
          53.09,
          55.086666666666666,
          54.84666666666666,
          57.27666666666667,
          61.26,
          62.38666666666666
         ]
        },
        {
         "error_y": {
          "array": [
           1.096061008676677,
           0.9881145607860129,
           0.4239379166623352,
           0.6548987113541537,
           1.6137716547136822,
           0.27048408885798336
          ],
          "arrayminus": [
           1.096061008676677,
           0.9881145607860129,
           0.4239379166623352,
           0.6548987113541537,
           1.6137716547136822,
           0.27048408885798336
          ],
          "symmetric": false,
          "type": "data"
         },
         "line": {
          "color": "rgba(182,232,128,1)"
         },
         "mode": "lines+markers",
         "name": "attack",
         "type": "scatter",
         "x": [
          500,
          2500,
          5000,
          7500,
          10000,
          12500
         ],
         "y": [
          54.29666666666666,
          58.52333333333333,
          60.35999999999999,
          60.81666666666666,
          60.156666666666666,
          62.56666666666666
         ]
        },
        {
         "error_y": {
          "array": [
           0.6565987685560585,
           0.1855673828810801,
           0.8068926806062867,
           0.17539514684277804,
           1.0940087305245787,
           0.24060446758944395,
           0.35291513380603823,
           0.6798362851079157
          ],
          "arrayminus": [
           0.6565987685560585,
           0.1855673828810801,
           0.8068926806062867,
           0.17539514684277804,
           1.0940087305245787,
           0.24060446758944395,
           0.35291513380603823,
           0.6798362851079157
          ],
          "symmetric": false,
          "type": "data"
         },
         "line": {
          "color": "rgba(254,203,82,1)"
         },
         "mode": "lines+markers",
         "name": "margin",
         "type": "scatter",
         "x": [
          500,
          2500,
          5000,
          7500,
          10000,
          12500,
          25000,
          37500
         ],
         "y": [
          50.403333333333336,
          53.36333333333334,
          53.61000000000001,
          56.79,
          56.19,
          59.14000000000001,
          62.24666666666667,
          62.31333333333333
         ]
        }
       ],
       "layout": {
        "height": 400,
        "legend": {
         "title": {
          "text": "Active Strategy"
         }
        },
        "margin": {
         "b": 0,
         "l": 0,
         "r": 0,
         "t": 50
        },
        "paper_bgcolor": "white",
        "plot_bgcolor": "white",
        "showlegend": true,
        "template": {
         "data": {
          "bar": [
           {
            "error_x": {
             "color": "#2a3f5f"
            },
            "error_y": {
             "color": "#2a3f5f"
            },
            "marker": {
             "line": {
              "color": "#E5ECF6",
              "width": 0.5
             },
             "pattern": {
              "fillmode": "overlay",
              "size": 10,
              "solidity": 0.2
             }
            },
            "type": "bar"
           }
          ],
          "barpolar": [
           {
            "marker": {
             "line": {
              "color": "#E5ECF6",
              "width": 0.5
             },
             "pattern": {
              "fillmode": "overlay",
              "size": 10,
              "solidity": 0.2
             }
            },
            "type": "barpolar"
           }
          ],
          "carpet": [
           {
            "aaxis": {
             "endlinecolor": "#2a3f5f",
             "gridcolor": "white",
             "linecolor": "white",
             "minorgridcolor": "white",
             "startlinecolor": "#2a3f5f"
            },
            "baxis": {
             "endlinecolor": "#2a3f5f",
             "gridcolor": "white",
             "linecolor": "white",
             "minorgridcolor": "white",
             "startlinecolor": "#2a3f5f"
            },
            "type": "carpet"
           }
          ],
          "choropleth": [
           {
            "colorbar": {
             "outlinewidth": 0,
             "ticks": ""
            },
            "type": "choropleth"
           }
          ],
          "contour": [
           {
            "colorbar": {
             "outlinewidth": 0,
             "ticks": ""
            },
            "colorscale": [
             [
              0,
              "#0d0887"
             ],
             [
              0.1111111111111111,
              "#46039f"
             ],
             [
              0.2222222222222222,
              "#7201a8"
             ],
             [
              0.3333333333333333,
              "#9c179e"
             ],
             [
              0.4444444444444444,
              "#bd3786"
             ],
             [
              0.5555555555555556,
              "#d8576b"
             ],
             [
              0.6666666666666666,
              "#ed7953"
             ],
             [
              0.7777777777777778,
              "#fb9f3a"
             ],
             [
              0.8888888888888888,
              "#fdca26"
             ],
             [
              1,
              "#f0f921"
             ]
            ],
            "type": "contour"
           }
          ],
          "contourcarpet": [
           {
            "colorbar": {
             "outlinewidth": 0,
             "ticks": ""
            },
            "type": "contourcarpet"
           }
          ],
          "heatmap": [
           {
            "colorbar": {
             "outlinewidth": 0,
             "ticks": ""
            },
            "colorscale": [
             [
              0,
              "#0d0887"
             ],
             [
              0.1111111111111111,
              "#46039f"
             ],
             [
              0.2222222222222222,
              "#7201a8"
             ],
             [
              0.3333333333333333,
              "#9c179e"
             ],
             [
              0.4444444444444444,
              "#bd3786"
             ],
             [
              0.5555555555555556,
              "#d8576b"
             ],
             [
              0.6666666666666666,
              "#ed7953"
             ],
             [
              0.7777777777777778,
              "#fb9f3a"
             ],
             [
              0.8888888888888888,
              "#fdca26"
             ],
             [
              1,
              "#f0f921"
             ]
            ],
            "type": "heatmap"
           }
          ],
          "heatmapgl": [
           {
            "colorbar": {
             "outlinewidth": 0,
             "ticks": ""
            },
            "colorscale": [
             [
              0,
              "#0d0887"
             ],
             [
              0.1111111111111111,
              "#46039f"
             ],
             [
              0.2222222222222222,
              "#7201a8"
             ],
             [
              0.3333333333333333,
              "#9c179e"
             ],
             [
              0.4444444444444444,
              "#bd3786"
             ],
             [
              0.5555555555555556,
              "#d8576b"
             ],
             [
              0.6666666666666666,
              "#ed7953"
             ],
             [
              0.7777777777777778,
              "#fb9f3a"
             ],
             [
              0.8888888888888888,
              "#fdca26"
             ],
             [
              1,
              "#f0f921"
             ]
            ],
            "type": "heatmapgl"
           }
          ],
          "histogram": [
           {
            "marker": {
             "pattern": {
              "fillmode": "overlay",
              "size": 10,
              "solidity": 0.2
             }
            },
            "type": "histogram"
           }
          ],
          "histogram2d": [
           {
            "colorbar": {
             "outlinewidth": 0,
             "ticks": ""
            },
            "colorscale": [
             [
              0,
              "#0d0887"
             ],
             [
              0.1111111111111111,
              "#46039f"
             ],
             [
              0.2222222222222222,
              "#7201a8"
             ],
             [
              0.3333333333333333,
              "#9c179e"
             ],
             [
              0.4444444444444444,
              "#bd3786"
             ],
             [
              0.5555555555555556,
              "#d8576b"
             ],
             [
              0.6666666666666666,
              "#ed7953"
             ],
             [
              0.7777777777777778,
              "#fb9f3a"
             ],
             [
              0.8888888888888888,
              "#fdca26"
             ],
             [
              1,
              "#f0f921"
             ]
            ],
            "type": "histogram2d"
           }
          ],
          "histogram2dcontour": [
           {
            "colorbar": {
             "outlinewidth": 0,
             "ticks": ""
            },
            "colorscale": [
             [
              0,
              "#0d0887"
             ],
             [
              0.1111111111111111,
              "#46039f"
             ],
             [
              0.2222222222222222,
              "#7201a8"
             ],
             [
              0.3333333333333333,
              "#9c179e"
             ],
             [
              0.4444444444444444,
              "#bd3786"
             ],
             [
              0.5555555555555556,
              "#d8576b"
             ],
             [
              0.6666666666666666,
              "#ed7953"
             ],
             [
              0.7777777777777778,
              "#fb9f3a"
             ],
             [
              0.8888888888888888,
              "#fdca26"
             ],
             [
              1,
              "#f0f921"
             ]
            ],
            "type": "histogram2dcontour"
           }
          ],
          "mesh3d": [
           {
            "colorbar": {
             "outlinewidth": 0,
             "ticks": ""
            },
            "type": "mesh3d"
           }
          ],
          "parcoords": [
           {
            "line": {
             "colorbar": {
              "outlinewidth": 0,
              "ticks": ""
             }
            },
            "type": "parcoords"
           }
          ],
          "pie": [
           {
            "automargin": true,
            "type": "pie"
           }
          ],
          "scatter": [
           {
            "fillpattern": {
             "fillmode": "overlay",
             "size": 10,
             "solidity": 0.2
            },
            "type": "scatter"
           }
          ],
          "scatter3d": [
           {
            "line": {
             "colorbar": {
              "outlinewidth": 0,
              "ticks": ""
             }
            },
            "marker": {
             "colorbar": {
              "outlinewidth": 0,
              "ticks": ""
             }
            },
            "type": "scatter3d"
           }
          ],
          "scattercarpet": [
           {
            "marker": {
             "colorbar": {
              "outlinewidth": 0,
              "ticks": ""
             }
            },
            "type": "scattercarpet"
           }
          ],
          "scattergeo": [
           {
            "marker": {
             "colorbar": {
              "outlinewidth": 0,
              "ticks": ""
             }
            },
            "type": "scattergeo"
           }
          ],
          "scattergl": [
           {
            "marker": {
             "colorbar": {
              "outlinewidth": 0,
              "ticks": ""
             }
            },
            "type": "scattergl"
           }
          ],
          "scattermapbox": [
           {
            "marker": {
             "colorbar": {
              "outlinewidth": 0,
              "ticks": ""
             }
            },
            "type": "scattermapbox"
           }
          ],
          "scatterpolar": [
           {
            "marker": {
             "colorbar": {
              "outlinewidth": 0,
              "ticks": ""
             }
            },
            "type": "scatterpolar"
           }
          ],
          "scatterpolargl": [
           {
            "marker": {
             "colorbar": {
              "outlinewidth": 0,
              "ticks": ""
             }
            },
            "type": "scatterpolargl"
           }
          ],
          "scatterternary": [
           {
            "marker": {
             "colorbar": {
              "outlinewidth": 0,
              "ticks": ""
             }
            },
            "type": "scatterternary"
           }
          ],
          "surface": [
           {
            "colorbar": {
             "outlinewidth": 0,
             "ticks": ""
            },
            "colorscale": [
             [
              0,
              "#0d0887"
             ],
             [
              0.1111111111111111,
              "#46039f"
             ],
             [
              0.2222222222222222,
              "#7201a8"
             ],
             [
              0.3333333333333333,
              "#9c179e"
             ],
             [
              0.4444444444444444,
              "#bd3786"
             ],
             [
              0.5555555555555556,
              "#d8576b"
             ],
             [
              0.6666666666666666,
              "#ed7953"
             ],
             [
              0.7777777777777778,
              "#fb9f3a"
             ],
             [
              0.8888888888888888,
              "#fdca26"
             ],
             [
              1,
              "#f0f921"
             ]
            ],
            "type": "surface"
           }
          ],
          "table": [
           {
            "cells": {
             "fill": {
              "color": "#EBF0F8"
             },
             "line": {
              "color": "white"
             }
            },
            "header": {
             "fill": {
              "color": "#C8D4E3"
             },
             "line": {
              "color": "white"
             }
            },
            "type": "table"
           }
          ]
         },
         "layout": {
          "annotationdefaults": {
           "arrowcolor": "#2a3f5f",
           "arrowhead": 0,
           "arrowwidth": 1
          },
          "autotypenumbers": "strict",
          "coloraxis": {
           "colorbar": {
            "outlinewidth": 0,
            "ticks": ""
           }
          },
          "colorscale": {
           "diverging": [
            [
             0,
             "#8e0152"
            ],
            [
             0.1,
             "#c51b7d"
            ],
            [
             0.2,
             "#de77ae"
            ],
            [
             0.3,
             "#f1b6da"
            ],
            [
             0.4,
             "#fde0ef"
            ],
            [
             0.5,
             "#f7f7f7"
            ],
            [
             0.6,
             "#e6f5d0"
            ],
            [
             0.7,
             "#b8e186"
            ],
            [
             0.8,
             "#7fbc41"
            ],
            [
             0.9,
             "#4d9221"
            ],
            [
             1,
             "#276419"
            ]
           ],
           "sequential": [
            [
             0,
             "#0d0887"
            ],
            [
             0.1111111111111111,
             "#46039f"
            ],
            [
             0.2222222222222222,
             "#7201a8"
            ],
            [
             0.3333333333333333,
             "#9c179e"
            ],
            [
             0.4444444444444444,
             "#bd3786"
            ],
            [
             0.5555555555555556,
             "#d8576b"
            ],
            [
             0.6666666666666666,
             "#ed7953"
            ],
            [
             0.7777777777777778,
             "#fb9f3a"
            ],
            [
             0.8888888888888888,
             "#fdca26"
            ],
            [
             1,
             "#f0f921"
            ]
           ],
           "sequentialminus": [
            [
             0,
             "#0d0887"
            ],
            [
             0.1111111111111111,
             "#46039f"
            ],
            [
             0.2222222222222222,
             "#7201a8"
            ],
            [
             0.3333333333333333,
             "#9c179e"
            ],
            [
             0.4444444444444444,
             "#bd3786"
            ],
            [
             0.5555555555555556,
             "#d8576b"
            ],
            [
             0.6666666666666666,
             "#ed7953"
            ],
            [
             0.7777777777777778,
             "#fb9f3a"
            ],
            [
             0.8888888888888888,
             "#fdca26"
            ],
            [
             1,
             "#f0f921"
            ]
           ]
          },
          "colorway": [
           "#636efa",
           "#EF553B",
           "#00cc96",
           "#ab63fa",
           "#FFA15A",
           "#19d3f3",
           "#FF6692",
           "#B6E880",
           "#FF97FF",
           "#FECB52"
          ],
          "font": {
           "color": "#2a3f5f"
          },
          "geo": {
           "bgcolor": "white",
           "lakecolor": "white",
           "landcolor": "#E5ECF6",
           "showlakes": true,
           "showland": true,
           "subunitcolor": "white"
          },
          "hoverlabel": {
           "align": "left"
          },
          "hovermode": "closest",
          "mapbox": {
           "style": "light"
          },
          "paper_bgcolor": "white",
          "plot_bgcolor": "#E5ECF6",
          "polar": {
           "angularaxis": {
            "gridcolor": "white",
            "linecolor": "white",
            "ticks": ""
           },
           "bgcolor": "#E5ECF6",
           "radialaxis": {
            "gridcolor": "white",
            "linecolor": "white",
            "ticks": ""
           }
          },
          "scene": {
           "xaxis": {
            "backgroundcolor": "#E5ECF6",
            "gridcolor": "white",
            "gridwidth": 2,
            "linecolor": "white",
            "showbackground": true,
            "ticks": "",
            "zerolinecolor": "white"
           },
           "yaxis": {
            "backgroundcolor": "#E5ECF6",
            "gridcolor": "white",
            "gridwidth": 2,
            "linecolor": "white",
            "showbackground": true,
            "ticks": "",
            "zerolinecolor": "white"
           },
           "zaxis": {
            "backgroundcolor": "#E5ECF6",
            "gridcolor": "white",
            "gridwidth": 2,
            "linecolor": "white",
            "showbackground": true,
            "ticks": "",
            "zerolinecolor": "white"
           }
          },
          "shapedefaults": {
           "line": {
            "color": "#2a3f5f"
           }
          },
          "ternary": {
           "aaxis": {
            "gridcolor": "white",
            "linecolor": "white",
            "ticks": ""
           },
           "baxis": {
            "gridcolor": "white",
            "linecolor": "white",
            "ticks": ""
           },
           "bgcolor": "#E5ECF6",
           "caxis": {
            "gridcolor": "white",
            "linecolor": "white",
            "ticks": ""
           }
          },
          "title": {
           "x": 0.05
          },
          "xaxis": {
           "automargin": true,
           "gridcolor": "white",
           "linecolor": "white",
           "ticks": "",
           "title": {
            "standoff": 15
           },
           "zerolinecolor": "white",
           "zerolinewidth": 2
          },
          "yaxis": {
           "automargin": true,
           "gridcolor": "white",
           "linecolor": "white",
           "ticks": "",
           "title": {
            "standoff": 15
           },
           "zerolinecolor": "white",
           "zerolinewidth": 2
          }
         }
        },
        "title": {
         "text": "final_PGD_accuracy by Strategy and Size"
        },
        "width": 600,
        "xaxis": {
         "gridcolor": "lightgray",
         "showgrid": true,
         "title": {
          "text": "Size"
         }
        },
        "yaxis": {
         "gridcolor": "lightgray",
         "showgrid": true,
         "title": {
          "text": "final_PGD_accuracy"
         }
        }
       }
      }
     },
     "metadata": {},
     "output_type": "display_data"
    },
    {
     "data": {
      "application/vnd.plotly.v1+json": {
       "config": {
        "plotlyServerURL": "https://plot.ly"
       },
       "data": [
        {
         "error_y": {
          "array": [
           0.3281275324097871,
           0.4799109432050878,
           0.141312638887447,
           0.1444705071816879,
           0.1525722851896775,
           0.12755752722594943,
           0.09752578599187493,
           0.010724743229248214
          ],
          "arrayminus": [
           0.3281275324097871,
           0.4799109432050878,
           0.141312638887447,
           0.1444705071816879,
           0.1525722851896775,
           0.12755752722594943,
           0.09752578599187493,
           0.010724743229248214
          ],
          "symmetric": false,
          "type": "data"
         },
         "line": {
          "color": "rgba(204,0,204,1)"
         },
         "mode": "lines+markers",
         "name": "attack_uncertainty",
         "type": "scatter",
         "x": [
          500,
          2500,
          5000,
          7500,
          10000,
          12500,
          25000,
          37500
         ],
         "y": [
          83.25333333333333,
          83.75,
          84.32666666666667,
          85.51666666666667,
          85.27,
          85.64999999999999,
          86.99333333333334,
          87.50333333333333
         ]
        },
        {
         "line": {
          "color": "rgba(0,0,0,1)",
          "dash": "dash",
          "width": 2
         },
         "mode": "lines",
         "name": "Full Dataset Average",
         "showlegend": true,
         "type": "scatter",
         "x": [
          500,
          50000
         ],
         "y": [
          88.07666666666667,
          88.07666666666667
         ]
        },
        {
         "error_y": {
          "array": [
           0.09220976619281641
          ],
          "arrayminus": [
           0.09220976619281641
          ],
          "symmetric": false,
          "type": "data"
         },
         "line": {
          "color": "rgba(0,0,0,1)"
         },
         "mode": "lines+markers",
         "name": "full",
         "showlegend": false,
         "type": "scatter",
         "x": [
          50000
         ],
         "y": [
          88.07666666666667
         ]
        },
        {
         "error_y": {
          "array": [
           0.21652706381728004,
           0.08579794583399677,
           0.3572755059278527,
           0.19960260294896132,
           0.4305954355788442,
           0.2401259452648369,
           0.25575585224454345,
           0.2275256040566278
          ],
          "arrayminus": [
           0.21652706381728004,
           0.08579794583399677,
           0.3572755059278527,
           0.19960260294896132,
           0.4305954355788442,
           0.2401259452648369,
           0.25575585224454345,
           0.2275256040566278
          ],
          "symmetric": false,
          "type": "data"
         },
         "line": {
          "color": "rgba(255,161,90,1)"
         },
         "mode": "lines+markers",
         "name": "uncertainty",
         "type": "scatter",
         "x": [
          500,
          2500,
          5000,
          7500,
          10000,
          12500,
          25000,
          37500
         ],
         "y": [
          86.21666666666665,
          85.37666666666667,
          86.11,
          87.16000000000001,
          86.67333333333333,
          87.98666666666668,
          87.73333333333333,
          88.12666666666667
         ]
        },
        {
         "error_y": {
          "array": [
           0.29803032343258695,
           0.4288247013780769,
           0.4256354455415258,
           0.2722772290736052,
           0.28603268035197177,
           0.19076319242453493,
           0.37797332370067016,
           0.1309797422708308
          ],
          "arrayminus": [
           0.29803032343258695,
           0.4288247013780769,
           0.4256354455415258,
           0.2722772290736052,
           0.28603268035197177,
           0.19076319242453493,
           0.37797332370067016,
           0.1309797422708308
          ],
          "symmetric": false,
          "type": "data"
         },
         "line": {
          "color": "rgba(25,211,243,1)"
         },
         "mode": "lines+markers",
         "name": "random",
         "type": "scatter",
         "x": [
          500,
          2500,
          5000,
          7500,
          10000,
          12500,
          25000,
          37500
         ],
         "y": [
          81.92666666666666,
          83.42,
          83.76666666666667,
          84.96,
          85.14333333333333,
          85.75999999999999,
          86.09666666666668,
          87.44333333333333
         ]
        },
        {
         "error_y": {
          "array": [
           0.21009802938627858,
           0.40195506471245956,
           0.07310274690689414,
           0.03217422968775078,
           0.1715185323320303,
           0.24736754520618304,
           0.3467312586389264,
           0.10562647102565526
          ],
          "arrayminus": [
           0.21009802938627858,
           0.40195506471245956,
           0.07310274690689414,
           0.03217422968775078,
           0.1715185323320303,
           0.24736754520618304,
           0.3467312586389264,
           0.10562647102565526
          ],
          "symmetric": false,
          "type": "data"
         },
         "line": {
          "color": "rgba(255,102,146,1)"
         },
         "mode": "lines+markers",
         "name": "entropy",
         "type": "scatter",
         "x": [
          500,
          2500,
          5000,
          7500,
          10000,
          12500,
          25000,
          37500
         ],
         "y": [
          83.85000000000001,
          85.17,
          85.51333333333334,
          86.56,
          86.82666666666667,
          87.20333333333333,
          87.76666666666667,
          88.39666666666666
         ]
        },
        {
         "error_y": {
          "array": [
           0.45791977638009884,
           0.3279657072154572,
           0.5728072592463646,
           0.34294677987116745,
           0.011898034347459535,
           0.07986984826161059
          ],
          "arrayminus": [
           0.45791977638009884,
           0.3279657072154572,
           0.5728072592463646,
           0.34294677987116745,
           0.011898034347459535,
           0.07986984826161059
          ],
          "symmetric": false,
          "type": "data"
         },
         "line": {
          "color": "rgba(182,232,128,1)"
         },
         "mode": "lines+markers",
         "name": "attack",
         "type": "scatter",
         "x": [
          500,
          2500,
          5000,
          7500,
          10000,
          12500
         ],
         "y": [
          81.64,
          82.69333333333333,
          82.32666666666667,
          83.85000000000001,
          84.40666666666667,
          84.83666666666666
         ]
        },
        {
         "error_y": {
          "array": [
           0.6670662959236745,
           0.13750468264511337,
           0.25620518377269513,
           0.3269389542529276,
           0.2606898424207115,
           0.0904661468911645,
           0.1918730967280185,
           0.06860741293281004
          ],
          "arrayminus": [
           0.6670662959236745,
           0.13750468264511337,
           0.25620518377269513,
           0.3269389542529276,
           0.2606898424207115,
           0.0904661468911645,
           0.1918730967280185,
           0.06860741293281004
          ],
          "symmetric": false,
          "type": "data"
         },
         "line": {
          "color": "rgba(254,203,82,1)"
         },
         "mode": "lines+markers",
         "name": "margin",
         "type": "scatter",
         "x": [
          500,
          2500,
          5000,
          7500,
          10000,
          12500,
          25000,
          37500
         ],
         "y": [
          85.78333333333335,
          84.90333333333334,
          85.71999999999998,
          87.16000000000001,
          86.57333333333334,
          87.75666666666666,
          87.69,
          88.15333333333332
         ]
        }
       ],
       "layout": {
        "height": 400,
        "legend": {
         "title": {
          "text": "Active Strategy"
         }
        },
        "margin": {
         "b": 0,
         "l": 0,
         "r": 0,
         "t": 50
        },
        "paper_bgcolor": "white",
        "plot_bgcolor": "white",
        "showlegend": true,
        "template": {
         "data": {
          "bar": [
           {
            "error_x": {
             "color": "#2a3f5f"
            },
            "error_y": {
             "color": "#2a3f5f"
            },
            "marker": {
             "line": {
              "color": "#E5ECF6",
              "width": 0.5
             },
             "pattern": {
              "fillmode": "overlay",
              "size": 10,
              "solidity": 0.2
             }
            },
            "type": "bar"
           }
          ],
          "barpolar": [
           {
            "marker": {
             "line": {
              "color": "#E5ECF6",
              "width": 0.5
             },
             "pattern": {
              "fillmode": "overlay",
              "size": 10,
              "solidity": 0.2
             }
            },
            "type": "barpolar"
           }
          ],
          "carpet": [
           {
            "aaxis": {
             "endlinecolor": "#2a3f5f",
             "gridcolor": "white",
             "linecolor": "white",
             "minorgridcolor": "white",
             "startlinecolor": "#2a3f5f"
            },
            "baxis": {
             "endlinecolor": "#2a3f5f",
             "gridcolor": "white",
             "linecolor": "white",
             "minorgridcolor": "white",
             "startlinecolor": "#2a3f5f"
            },
            "type": "carpet"
           }
          ],
          "choropleth": [
           {
            "colorbar": {
             "outlinewidth": 0,
             "ticks": ""
            },
            "type": "choropleth"
           }
          ],
          "contour": [
           {
            "colorbar": {
             "outlinewidth": 0,
             "ticks": ""
            },
            "colorscale": [
             [
              0,
              "#0d0887"
             ],
             [
              0.1111111111111111,
              "#46039f"
             ],
             [
              0.2222222222222222,
              "#7201a8"
             ],
             [
              0.3333333333333333,
              "#9c179e"
             ],
             [
              0.4444444444444444,
              "#bd3786"
             ],
             [
              0.5555555555555556,
              "#d8576b"
             ],
             [
              0.6666666666666666,
              "#ed7953"
             ],
             [
              0.7777777777777778,
              "#fb9f3a"
             ],
             [
              0.8888888888888888,
              "#fdca26"
             ],
             [
              1,
              "#f0f921"
             ]
            ],
            "type": "contour"
           }
          ],
          "contourcarpet": [
           {
            "colorbar": {
             "outlinewidth": 0,
             "ticks": ""
            },
            "type": "contourcarpet"
           }
          ],
          "heatmap": [
           {
            "colorbar": {
             "outlinewidth": 0,
             "ticks": ""
            },
            "colorscale": [
             [
              0,
              "#0d0887"
             ],
             [
              0.1111111111111111,
              "#46039f"
             ],
             [
              0.2222222222222222,
              "#7201a8"
             ],
             [
              0.3333333333333333,
              "#9c179e"
             ],
             [
              0.4444444444444444,
              "#bd3786"
             ],
             [
              0.5555555555555556,
              "#d8576b"
             ],
             [
              0.6666666666666666,
              "#ed7953"
             ],
             [
              0.7777777777777778,
              "#fb9f3a"
             ],
             [
              0.8888888888888888,
              "#fdca26"
             ],
             [
              1,
              "#f0f921"
             ]
            ],
            "type": "heatmap"
           }
          ],
          "heatmapgl": [
           {
            "colorbar": {
             "outlinewidth": 0,
             "ticks": ""
            },
            "colorscale": [
             [
              0,
              "#0d0887"
             ],
             [
              0.1111111111111111,
              "#46039f"
             ],
             [
              0.2222222222222222,
              "#7201a8"
             ],
             [
              0.3333333333333333,
              "#9c179e"
             ],
             [
              0.4444444444444444,
              "#bd3786"
             ],
             [
              0.5555555555555556,
              "#d8576b"
             ],
             [
              0.6666666666666666,
              "#ed7953"
             ],
             [
              0.7777777777777778,
              "#fb9f3a"
             ],
             [
              0.8888888888888888,
              "#fdca26"
             ],
             [
              1,
              "#f0f921"
             ]
            ],
            "type": "heatmapgl"
           }
          ],
          "histogram": [
           {
            "marker": {
             "pattern": {
              "fillmode": "overlay",
              "size": 10,
              "solidity": 0.2
             }
            },
            "type": "histogram"
           }
          ],
          "histogram2d": [
           {
            "colorbar": {
             "outlinewidth": 0,
             "ticks": ""
            },
            "colorscale": [
             [
              0,
              "#0d0887"
             ],
             [
              0.1111111111111111,
              "#46039f"
             ],
             [
              0.2222222222222222,
              "#7201a8"
             ],
             [
              0.3333333333333333,
              "#9c179e"
             ],
             [
              0.4444444444444444,
              "#bd3786"
             ],
             [
              0.5555555555555556,
              "#d8576b"
             ],
             [
              0.6666666666666666,
              "#ed7953"
             ],
             [
              0.7777777777777778,
              "#fb9f3a"
             ],
             [
              0.8888888888888888,
              "#fdca26"
             ],
             [
              1,
              "#f0f921"
             ]
            ],
            "type": "histogram2d"
           }
          ],
          "histogram2dcontour": [
           {
            "colorbar": {
             "outlinewidth": 0,
             "ticks": ""
            },
            "colorscale": [
             [
              0,
              "#0d0887"
             ],
             [
              0.1111111111111111,
              "#46039f"
             ],
             [
              0.2222222222222222,
              "#7201a8"
             ],
             [
              0.3333333333333333,
              "#9c179e"
             ],
             [
              0.4444444444444444,
              "#bd3786"
             ],
             [
              0.5555555555555556,
              "#d8576b"
             ],
             [
              0.6666666666666666,
              "#ed7953"
             ],
             [
              0.7777777777777778,
              "#fb9f3a"
             ],
             [
              0.8888888888888888,
              "#fdca26"
             ],
             [
              1,
              "#f0f921"
             ]
            ],
            "type": "histogram2dcontour"
           }
          ],
          "mesh3d": [
           {
            "colorbar": {
             "outlinewidth": 0,
             "ticks": ""
            },
            "type": "mesh3d"
           }
          ],
          "parcoords": [
           {
            "line": {
             "colorbar": {
              "outlinewidth": 0,
              "ticks": ""
             }
            },
            "type": "parcoords"
           }
          ],
          "pie": [
           {
            "automargin": true,
            "type": "pie"
           }
          ],
          "scatter": [
           {
            "fillpattern": {
             "fillmode": "overlay",
             "size": 10,
             "solidity": 0.2
            },
            "type": "scatter"
           }
          ],
          "scatter3d": [
           {
            "line": {
             "colorbar": {
              "outlinewidth": 0,
              "ticks": ""
             }
            },
            "marker": {
             "colorbar": {
              "outlinewidth": 0,
              "ticks": ""
             }
            },
            "type": "scatter3d"
           }
          ],
          "scattercarpet": [
           {
            "marker": {
             "colorbar": {
              "outlinewidth": 0,
              "ticks": ""
             }
            },
            "type": "scattercarpet"
           }
          ],
          "scattergeo": [
           {
            "marker": {
             "colorbar": {
              "outlinewidth": 0,
              "ticks": ""
             }
            },
            "type": "scattergeo"
           }
          ],
          "scattergl": [
           {
            "marker": {
             "colorbar": {
              "outlinewidth": 0,
              "ticks": ""
             }
            },
            "type": "scattergl"
           }
          ],
          "scattermapbox": [
           {
            "marker": {
             "colorbar": {
              "outlinewidth": 0,
              "ticks": ""
             }
            },
            "type": "scattermapbox"
           }
          ],
          "scatterpolar": [
           {
            "marker": {
             "colorbar": {
              "outlinewidth": 0,
              "ticks": ""
             }
            },
            "type": "scatterpolar"
           }
          ],
          "scatterpolargl": [
           {
            "marker": {
             "colorbar": {
              "outlinewidth": 0,
              "ticks": ""
             }
            },
            "type": "scatterpolargl"
           }
          ],
          "scatterternary": [
           {
            "marker": {
             "colorbar": {
              "outlinewidth": 0,
              "ticks": ""
             }
            },
            "type": "scatterternary"
           }
          ],
          "surface": [
           {
            "colorbar": {
             "outlinewidth": 0,
             "ticks": ""
            },
            "colorscale": [
             [
              0,
              "#0d0887"
             ],
             [
              0.1111111111111111,
              "#46039f"
             ],
             [
              0.2222222222222222,
              "#7201a8"
             ],
             [
              0.3333333333333333,
              "#9c179e"
             ],
             [
              0.4444444444444444,
              "#bd3786"
             ],
             [
              0.5555555555555556,
              "#d8576b"
             ],
             [
              0.6666666666666666,
              "#ed7953"
             ],
             [
              0.7777777777777778,
              "#fb9f3a"
             ],
             [
              0.8888888888888888,
              "#fdca26"
             ],
             [
              1,
              "#f0f921"
             ]
            ],
            "type": "surface"
           }
          ],
          "table": [
           {
            "cells": {
             "fill": {
              "color": "#EBF0F8"
             },
             "line": {
              "color": "white"
             }
            },
            "header": {
             "fill": {
              "color": "#C8D4E3"
             },
             "line": {
              "color": "white"
             }
            },
            "type": "table"
           }
          ]
         },
         "layout": {
          "annotationdefaults": {
           "arrowcolor": "#2a3f5f",
           "arrowhead": 0,
           "arrowwidth": 1
          },
          "autotypenumbers": "strict",
          "coloraxis": {
           "colorbar": {
            "outlinewidth": 0,
            "ticks": ""
           }
          },
          "colorscale": {
           "diverging": [
            [
             0,
             "#8e0152"
            ],
            [
             0.1,
             "#c51b7d"
            ],
            [
             0.2,
             "#de77ae"
            ],
            [
             0.3,
             "#f1b6da"
            ],
            [
             0.4,
             "#fde0ef"
            ],
            [
             0.5,
             "#f7f7f7"
            ],
            [
             0.6,
             "#e6f5d0"
            ],
            [
             0.7,
             "#b8e186"
            ],
            [
             0.8,
             "#7fbc41"
            ],
            [
             0.9,
             "#4d9221"
            ],
            [
             1,
             "#276419"
            ]
           ],
           "sequential": [
            [
             0,
             "#0d0887"
            ],
            [
             0.1111111111111111,
             "#46039f"
            ],
            [
             0.2222222222222222,
             "#7201a8"
            ],
            [
             0.3333333333333333,
             "#9c179e"
            ],
            [
             0.4444444444444444,
             "#bd3786"
            ],
            [
             0.5555555555555556,
             "#d8576b"
            ],
            [
             0.6666666666666666,
             "#ed7953"
            ],
            [
             0.7777777777777778,
             "#fb9f3a"
            ],
            [
             0.8888888888888888,
             "#fdca26"
            ],
            [
             1,
             "#f0f921"
            ]
           ],
           "sequentialminus": [
            [
             0,
             "#0d0887"
            ],
            [
             0.1111111111111111,
             "#46039f"
            ],
            [
             0.2222222222222222,
             "#7201a8"
            ],
            [
             0.3333333333333333,
             "#9c179e"
            ],
            [
             0.4444444444444444,
             "#bd3786"
            ],
            [
             0.5555555555555556,
             "#d8576b"
            ],
            [
             0.6666666666666666,
             "#ed7953"
            ],
            [
             0.7777777777777778,
             "#fb9f3a"
            ],
            [
             0.8888888888888888,
             "#fdca26"
            ],
            [
             1,
             "#f0f921"
            ]
           ]
          },
          "colorway": [
           "#636efa",
           "#EF553B",
           "#00cc96",
           "#ab63fa",
           "#FFA15A",
           "#19d3f3",
           "#FF6692",
           "#B6E880",
           "#FF97FF",
           "#FECB52"
          ],
          "font": {
           "color": "#2a3f5f"
          },
          "geo": {
           "bgcolor": "white",
           "lakecolor": "white",
           "landcolor": "#E5ECF6",
           "showlakes": true,
           "showland": true,
           "subunitcolor": "white"
          },
          "hoverlabel": {
           "align": "left"
          },
          "hovermode": "closest",
          "mapbox": {
           "style": "light"
          },
          "paper_bgcolor": "white",
          "plot_bgcolor": "#E5ECF6",
          "polar": {
           "angularaxis": {
            "gridcolor": "white",
            "linecolor": "white",
            "ticks": ""
           },
           "bgcolor": "#E5ECF6",
           "radialaxis": {
            "gridcolor": "white",
            "linecolor": "white",
            "ticks": ""
           }
          },
          "scene": {
           "xaxis": {
            "backgroundcolor": "#E5ECF6",
            "gridcolor": "white",
            "gridwidth": 2,
            "linecolor": "white",
            "showbackground": true,
            "ticks": "",
            "zerolinecolor": "white"
           },
           "yaxis": {
            "backgroundcolor": "#E5ECF6",
            "gridcolor": "white",
            "gridwidth": 2,
            "linecolor": "white",
            "showbackground": true,
            "ticks": "",
            "zerolinecolor": "white"
           },
           "zaxis": {
            "backgroundcolor": "#E5ECF6",
            "gridcolor": "white",
            "gridwidth": 2,
            "linecolor": "white",
            "showbackground": true,
            "ticks": "",
            "zerolinecolor": "white"
           }
          },
          "shapedefaults": {
           "line": {
            "color": "#2a3f5f"
           }
          },
          "ternary": {
           "aaxis": {
            "gridcolor": "white",
            "linecolor": "white",
            "ticks": ""
           },
           "baxis": {
            "gridcolor": "white",
            "linecolor": "white",
            "ticks": ""
           },
           "bgcolor": "#E5ECF6",
           "caxis": {
            "gridcolor": "white",
            "linecolor": "white",
            "ticks": ""
           }
          },
          "title": {
           "x": 0.05
          },
          "xaxis": {
           "automargin": true,
           "gridcolor": "white",
           "linecolor": "white",
           "ticks": "",
           "title": {
            "standoff": 15
           },
           "zerolinecolor": "white",
           "zerolinewidth": 2
          },
          "yaxis": {
           "automargin": true,
           "gridcolor": "white",
           "linecolor": "white",
           "ticks": "",
           "title": {
            "standoff": 15
           },
           "zerolinecolor": "white",
           "zerolinewidth": 2
          }
         }
        },
        "title": {
         "text": "final_clean_accuracy by Strategy and Size"
        },
        "width": 600,
        "xaxis": {
         "gridcolor": "lightgray",
         "showgrid": true,
         "title": {
          "text": "Size"
         }
        },
        "yaxis": {
         "gridcolor": "lightgray",
         "showgrid": true,
         "title": {
          "text": "final_clean_accuracy"
         }
        }
       }
      }
     },
     "metadata": {},
     "output_type": "display_data"
    }
   ],
   "source": [
    "import plotly.graph_objects as go\n",
    "import pandas as pd\n",
    "\n",
    "# Load and prepare the data\n",
    "new_data = pd.read_csv('results/means.csv', skiprows=2)\n",
    "new_data.columns = ['active_strategy', 'size', 'final_clean_accuracy',\n",
    "                    'final_clean_accuracy_std', 'final_PGD_accuracy', 'final_PGD_accuracy_std']\n",
    "new_data['size'] = new_data['size'].astype(int)\n",
    "\n",
    "\n",
    "\n",
    "\n",
    "for performance in ['PGD_accuracy', 'clean_accuracy' ]:\n",
    "# performance = 'final_PGD_accuracy' \n",
    "# # performance = 'final_clean_accuracy'\n",
    "    fig = go.Figure()\n",
    "\n",
    "    # fig.add_trace(go.Scatter(x=[0, 50000], y=[ init_means_stds['init_'+performance]['mean'][0], init_means_stds['init_'+performance]['mean'][0] ],\n",
    "    #         mode='lines', line=dict(color='rgba({},{},{},1)'.format(0,0,204), width=2, dash='dot'),\n",
    "    #                     name='Init Accuracy', showlegend=True))\n",
    "\n",
    "\n",
    "    performance = 'final_'+performance\n",
    "    performance_std = performance + '_std'  # Corresponding standard deviation column\n",
    "\n",
    "    strategies = {\n",
    "        'attack_uncertainty': {'color': [204, 0, 204], 'label': 'attack-uncertainty'},  # Red\n",
    "        'full': {'color': [0, 0, 0], 'label': 'full'},  # Red\n",
    "        'uncertainty': {'color': [255, 161, 90], 'label':'uncertainty'},                    # Yellow\n",
    "        'random': {'color': [25, 211, 243], 'label':'random'},                    # Cyan\n",
    "        'entropy': {'color': [255, 102, 146], 'label':'entropy'},                  # Magenta\n",
    "        'attack': {'color': [182, 232, 128], 'label':'attack'},                   # Orange\n",
    "        'margin': {'color': [254, 203, 82], 'label':'margin'},\n",
    "    }\n",
    "\n",
    "\n",
    "    z_value = 2.576\n",
    "    n = 5\n",
    "\n",
    "    # Add a line for each strategy\n",
    "    for strategy, v in strategies.items():\n",
    "        r,g,b = v['color']\n",
    "        c = 'rgba({},{},{},1)'.format(r,g,b)\n",
    "\n",
    "        # Add a horizontal line for the 'full' strategy\n",
    "        if strategy == 'full':\n",
    "            full_data = new_data[new_data['active_strategy'] == 'full']\n",
    "            # Calculate the mean PGD accuracy for the 'full' strategy\n",
    "            full_mean_accuracy = full_data[performance].mean()\n",
    "            fig.add_trace(go.Scatter(x=[min(new_data['size']), max(new_data['size'])], y=[full_mean_accuracy, full_mean_accuracy],\n",
    "                                    mode='lines', line=dict(color=c, width=2, dash='dash'),\n",
    "                                    name='Full Dataset Average', showlegend=True))\n",
    "            \n",
    "            strategy_data = new_data[new_data['active_strategy'] == strategy]\n",
    "            fig.add_trace(go.Scatter( x=strategy_data['size'],  y=strategy_data[performance],  mode='lines+markers',\n",
    "                            name=strategy, line=dict(color=c  ) ,\n",
    "                            error_y=dict(\n",
    "                            type='data',  symmetric=False,  \n",
    "                            array=z_value * strategy_data[performance_std] / n,  \n",
    "                            arrayminus=z_value * strategy_data[performance_std] / n   ), showlegend=False\n",
    "                                ))\n",
    "\n",
    "            \n",
    "        else:\n",
    "            strategy_data = new_data[new_data['active_strategy'] == strategy]\n",
    "            fig.add_trace(go.Scatter(x=strategy_data['size'], y=strategy_data[performance], line=dict(color=c),\n",
    "                                    error_y=dict(\n",
    "                                        type='data',  symmetric=False,  \n",
    "                                        array=z_value * strategy_data[performance_std] / n,  \n",
    "                                        arrayminus=z_value * strategy_data[performance_std] / n   ),\n",
    "                                    mode='lines+markers', name=strategy))\n",
    "\n",
    "\n",
    "\n",
    "\n",
    "    # Update layout and display the plot\n",
    "    fig.update_layout(\n",
    "        width=600,  # Adjusted for two subplots\n",
    "        height=400,\n",
    "        plot_bgcolor='white',\n",
    "        paper_bgcolor='white',\n",
    "        margin=dict(l=0, r=0, t=50, b=0),\n",
    "        # title=\"Box Plot of Datasets by Cases and Columns\",\n",
    "        title='{} by Strategy and Size'.format(performance),\n",
    "        xaxis_title='Size',\n",
    "        yaxis_title=performance,\n",
    "        legend_title='Active Strategy',\n",
    "        # yaxis_range=[min(new_data[performance]) - 2, max(new_data[performance]) + 2],\n",
    "        showlegend=True,\n",
    "        xaxis=dict(\n",
    "            # type='log',\n",
    "            showgrid=True,        # Enable the grid\n",
    "            gridcolor='lightgray' # Set grid line color\n",
    "        ),\n",
    "        yaxis=dict(\n",
    "            showgrid=True,        # Enable the grid\n",
    "            gridcolor='lightgray', # Set grid line color\n",
    "            #range=[75,94] if 'clean' in performance else [45,65]\n",
    "        )\n",
    "        )\n",
    "\n",
    "    # Display the figure\n",
    "    fig.show()\n",
    "    fig.write_image(\"./figures/results_{}_{}_{}_{}_{}_{}.pdf\".format(loss,performance, data, model, n_rounds, nb_epochs) )\n"
   ]
  }
 ],
 "metadata": {
  "kernelspec": {
   "display_name": ".venv",
   "language": "python",
   "name": "python3"
  },
  "language_info": {
   "codemirror_mode": {
    "name": "ipython",
    "version": 3
   },
   "file_extension": ".py",
   "mimetype": "text/x-python",
   "name": "python",
   "nbconvert_exporter": "python",
   "pygments_lexer": "ipython3",
   "version": "3.8.10"
  }
 },
 "nbformat": 4,
 "nbformat_minor": 2
}
