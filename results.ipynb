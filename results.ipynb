{
 "cells": [
  {
   "cell_type": "code",
   "execution_count": 13,
   "metadata": {},
   "outputs": [
    {
     "name": "stdout",
     "output_type": "stream",
     "text": [
      "{'active_strategy': 'attack', 'n_rounds': 1, 'size': 500, 'nb_epochs': 60, 'seed': 0, 'data': 'CIFAR10', 'model': 'resnet50', 'init_clean_accuracy': 93.66, 'init_PGD_accuracy': 46.85, 'final_clean_accuracy': 81.58, 'final_PGD_accuracy': 31.06}\n",
      "{'active_strategy': 'attack', 'n_rounds': 1, 'size': 500, 'nb_epochs': 60, 'seed': 1, 'data': 'CIFAR10', 'model': 'resnet50', 'init_clean_accuracy': 93.66, 'init_PGD_accuracy': 46.91, 'final_clean_accuracy': 87.42, 'final_PGD_accuracy': 36.25}\n",
      "{'active_strategy': 'attack', 'n_rounds': 1, 'size': 500, 'nb_epochs': 60, 'seed': 2, 'data': 'CIFAR10', 'model': 'resnet50', 'init_clean_accuracy': 93.66, 'init_PGD_accuracy': 46.77, 'final_clean_accuracy': 82.19, 'final_PGD_accuracy': 29.3}\n",
      "{'active_strategy': 'attack', 'n_rounds': 1, 'size': 2500, 'nb_epochs': 60, 'seed': 0, 'data': 'CIFAR10', 'model': 'resnet50', 'init_clean_accuracy': 93.66, 'init_PGD_accuracy': 46.85, 'final_clean_accuracy': 43.66, 'final_PGD_accuracy': 20.28}\n",
      "{'active_strategy': 'attack', 'n_rounds': 1, 'size': 2500, 'nb_epochs': 60, 'seed': 1, 'data': 'CIFAR10', 'model': 'resnet50', 'init_clean_accuracy': 93.66, 'init_PGD_accuracy': 46.91, 'final_clean_accuracy': 47.83, 'final_PGD_accuracy': 16.84}\n",
      "{'active_strategy': 'attack', 'n_rounds': 1, 'size': 2500, 'nb_epochs': 60, 'seed': 2, 'data': 'CIFAR10', 'model': 'resnet50', 'init_clean_accuracy': 93.66, 'init_PGD_accuracy': 46.77, 'final_clean_accuracy': 40.93, 'final_PGD_accuracy': 20.2}\n",
      "{'active_strategy': 'attack', 'n_rounds': 1, 'size': 5000, 'nb_epochs': 60, 'seed': 0, 'data': 'CIFAR10', 'model': 'resnet50', 'init_clean_accuracy': 93.66, 'init_PGD_accuracy': 46.85, 'final_clean_accuracy': 36.6, 'final_PGD_accuracy': 12.94}\n",
      "{'active_strategy': 'attack', 'n_rounds': 1, 'size': 5000, 'nb_epochs': 60, 'seed': 1, 'data': 'CIFAR10', 'model': 'resnet50', 'init_clean_accuracy': 93.66, 'init_PGD_accuracy': 46.91, 'final_clean_accuracy': 32.75, 'final_PGD_accuracy': 11.93}\n",
      "{'active_strategy': 'attack', 'n_rounds': 1, 'size': 5000, 'nb_epochs': 60, 'seed': 2, 'data': 'CIFAR10', 'model': 'resnet50', 'init_clean_accuracy': 93.66, 'init_PGD_accuracy': 46.77, 'final_clean_accuracy': 37.1, 'final_PGD_accuracy': 15.95}\n",
      "{'active_strategy': 'attack', 'n_rounds': 1, 'size': 7500, 'nb_epochs': 60, 'seed': 0, 'data': 'CIFAR10', 'model': 'resnet50', 'init_clean_accuracy': 93.66, 'init_PGD_accuracy': 46.85, 'final_clean_accuracy': 39.58, 'final_PGD_accuracy': 15.44}\n",
      "{'active_strategy': 'attack', 'n_rounds': 1, 'size': 7500, 'nb_epochs': 60, 'seed': 1, 'data': 'CIFAR10', 'model': 'resnet50', 'init_clean_accuracy': 93.66, 'init_PGD_accuracy': 46.91, 'final_clean_accuracy': 38.04, 'final_PGD_accuracy': 16.36}\n",
      "{'active_strategy': 'attack', 'n_rounds': 1, 'size': 7500, 'nb_epochs': 60, 'seed': 2, 'data': 'CIFAR10', 'model': 'resnet50', 'init_clean_accuracy': 93.66, 'init_PGD_accuracy': 46.77, 'final_clean_accuracy': 37.53, 'final_PGD_accuracy': 20.11}\n",
      "{'active_strategy': 'attack', 'n_rounds': 1, 'size': 10000, 'nb_epochs': 60, 'seed': 0, 'data': 'CIFAR10', 'model': 'resnet50', 'init_clean_accuracy': 93.66, 'init_PGD_accuracy': 46.85, 'final_clean_accuracy': 38.5, 'final_PGD_accuracy': 20.05}\n",
      "{'active_strategy': 'attack', 'n_rounds': 1, 'size': 10000, 'nb_epochs': 60, 'seed': 1, 'data': 'CIFAR10', 'model': 'resnet50', 'init_clean_accuracy': 93.66, 'init_PGD_accuracy': 46.91, 'final_clean_accuracy': 37.71, 'final_PGD_accuracy': 19.03}\n",
      "{'active_strategy': 'attack', 'n_rounds': 1, 'size': 10000, 'nb_epochs': 60, 'seed': 2, 'data': 'CIFAR10', 'model': 'resnet50', 'init_clean_accuracy': 93.66, 'init_PGD_accuracy': 46.77, 'final_clean_accuracy': 36.75, 'final_PGD_accuracy': 17.62}\n",
      "{'active_strategy': 'attack', 'n_rounds': 1, 'size': 12500, 'nb_epochs': 60, 'seed': 0, 'data': 'CIFAR10', 'model': 'resnet50', 'init_clean_accuracy': 93.66, 'init_PGD_accuracy': 46.85, 'final_clean_accuracy': 40.45, 'final_PGD_accuracy': 19.17}\n",
      "{'active_strategy': 'attack', 'n_rounds': 1, 'size': 12500, 'nb_epochs': 60, 'seed': 1, 'data': 'CIFAR10', 'model': 'resnet50', 'init_clean_accuracy': 93.66, 'init_PGD_accuracy': 46.91, 'final_clean_accuracy': 38.74, 'final_PGD_accuracy': 20.66}\n",
      "{'active_strategy': 'attack', 'n_rounds': 1, 'size': 12500, 'nb_epochs': 60, 'seed': 2, 'data': 'CIFAR10', 'model': 'resnet50', 'init_clean_accuracy': 93.66, 'init_PGD_accuracy': 46.77, 'final_clean_accuracy': 40.39, 'final_PGD_accuracy': 21.84}\n",
      "{'active_strategy': 'uncertainty', 'n_rounds': 1, 'size': 500, 'nb_epochs': 60, 'seed': 0, 'data': 'CIFAR10', 'model': 'resnet50', 'init_clean_accuracy': 93.66, 'init_PGD_accuracy': 46.85, 'final_clean_accuracy': 77.93, 'final_PGD_accuracy': 32.8}\n",
      "{'active_strategy': 'uncertainty', 'n_rounds': 1, 'size': 500, 'nb_epochs': 60, 'seed': 1, 'data': 'CIFAR10', 'model': 'resnet50', 'init_clean_accuracy': 93.66, 'init_PGD_accuracy': 46.91, 'final_clean_accuracy': 86.83, 'final_PGD_accuracy': 40.73}\n",
      "{'active_strategy': 'uncertainty', 'n_rounds': 1, 'size': 500, 'nb_epochs': 60, 'seed': 2, 'data': 'CIFAR10', 'model': 'resnet50', 'init_clean_accuracy': 93.66, 'init_PGD_accuracy': 46.77, 'final_clean_accuracy': 75.47, 'final_PGD_accuracy': 38.35}\n",
      "{'active_strategy': 'uncertainty', 'n_rounds': 1, 'size': 2500, 'nb_epochs': 60, 'seed': 0, 'data': 'CIFAR10', 'model': 'resnet50', 'init_clean_accuracy': 93.66, 'init_PGD_accuracy': 46.85, 'final_clean_accuracy': 61.29, 'final_PGD_accuracy': 30.34}\n",
      "{'active_strategy': 'uncertainty', 'n_rounds': 1, 'size': 2500, 'nb_epochs': 60, 'seed': 1, 'data': 'CIFAR10', 'model': 'resnet50', 'init_clean_accuracy': 93.66, 'init_PGD_accuracy': 46.91, 'final_clean_accuracy': 61.0, 'final_PGD_accuracy': 24.16}\n",
      "{'active_strategy': 'uncertainty', 'n_rounds': 1, 'size': 2500, 'nb_epochs': 60, 'seed': 2, 'data': 'CIFAR10', 'model': 'resnet50', 'init_clean_accuracy': 93.66, 'init_PGD_accuracy': 46.77, 'final_clean_accuracy': 55.28, 'final_PGD_accuracy': 24.87}\n",
      "{'active_strategy': 'uncertainty', 'n_rounds': 1, 'size': 5000, 'nb_epochs': 60, 'seed': 0, 'data': 'CIFAR10', 'model': 'resnet50', 'init_clean_accuracy': 93.66, 'init_PGD_accuracy': 46.85, 'final_clean_accuracy': 27.69, 'final_PGD_accuracy': 16.54}\n",
      "{'active_strategy': 'uncertainty', 'n_rounds': 1, 'size': 5000, 'nb_epochs': 60, 'seed': 1, 'data': 'CIFAR10', 'model': 'resnet50', 'init_clean_accuracy': 93.66, 'init_PGD_accuracy': 46.91, 'final_clean_accuracy': 43.86, 'final_PGD_accuracy': 21.99}\n",
      "{'active_strategy': 'uncertainty', 'n_rounds': 1, 'size': 5000, 'nb_epochs': 60, 'seed': 2, 'data': 'CIFAR10', 'model': 'resnet50', 'init_clean_accuracy': 93.66, 'init_PGD_accuracy': 46.77, 'final_clean_accuracy': 29.63, 'final_PGD_accuracy': 18.14}\n",
      "{'active_strategy': 'uncertainty', 'n_rounds': 1, 'size': 7500, 'nb_epochs': 60, 'seed': 0, 'data': 'CIFAR10', 'model': 'resnet50', 'init_clean_accuracy': 93.66, 'init_PGD_accuracy': 46.85, 'final_clean_accuracy': 38.48, 'final_PGD_accuracy': 16.55}\n",
      "{'active_strategy': 'uncertainty', 'n_rounds': 1, 'size': 7500, 'nb_epochs': 60, 'seed': 1, 'data': 'CIFAR10', 'model': 'resnet50', 'init_clean_accuracy': 93.66, 'init_PGD_accuracy': 46.91, 'final_clean_accuracy': 46.8, 'final_PGD_accuracy': 21.12}\n",
      "{'active_strategy': 'uncertainty', 'n_rounds': 1, 'size': 7500, 'nb_epochs': 60, 'seed': 2, 'data': 'CIFAR10', 'model': 'resnet50', 'init_clean_accuracy': 93.66, 'init_PGD_accuracy': 46.77, 'final_clean_accuracy': 32.94, 'final_PGD_accuracy': 17.99}\n",
      "{'active_strategy': 'uncertainty', 'n_rounds': 1, 'size': 10000, 'nb_epochs': 60, 'seed': 0, 'data': 'CIFAR10', 'model': 'resnet50', 'init_clean_accuracy': 93.66, 'init_PGD_accuracy': 46.85, 'final_clean_accuracy': 42.03, 'final_PGD_accuracy': 18.95}\n",
      "{'active_strategy': 'uncertainty', 'n_rounds': 1, 'size': 10000, 'nb_epochs': 60, 'seed': 1, 'data': 'CIFAR10', 'model': 'resnet50', 'init_clean_accuracy': 93.66, 'init_PGD_accuracy': 46.91, 'final_clean_accuracy': 39.01, 'final_PGD_accuracy': 16.66}\n",
      "{'active_strategy': 'uncertainty', 'n_rounds': 1, 'size': 10000, 'nb_epochs': 60, 'seed': 2, 'data': 'CIFAR10', 'model': 'resnet50', 'init_clean_accuracy': 93.66, 'init_PGD_accuracy': 46.77, 'final_clean_accuracy': 40.01, 'final_PGD_accuracy': 18.1}\n",
      "{'active_strategy': 'uncertainty', 'n_rounds': 1, 'size': 12500, 'nb_epochs': 60, 'seed': 0, 'data': 'CIFAR10', 'model': 'resnet50', 'init_clean_accuracy': 93.66, 'init_PGD_accuracy': 46.85, 'final_clean_accuracy': 45.35, 'final_PGD_accuracy': 19.8}\n",
      "{'active_strategy': 'uncertainty', 'n_rounds': 1, 'size': 12500, 'nb_epochs': 60, 'seed': 1, 'data': 'CIFAR10', 'model': 'resnet50', 'init_clean_accuracy': 93.66, 'init_PGD_accuracy': 46.91, 'final_clean_accuracy': 43.34, 'final_PGD_accuracy': 18.54}\n",
      "{'active_strategy': 'uncertainty', 'n_rounds': 1, 'size': 12500, 'nb_epochs': 60, 'seed': 2, 'data': 'CIFAR10', 'model': 'resnet50', 'init_clean_accuracy': 93.66, 'init_PGD_accuracy': 46.77, 'final_clean_accuracy': 43.39, 'final_PGD_accuracy': 18.05}\n",
      "{'active_strategy': 'uncertainty', 'n_rounds': 1, 'size': 25000, 'nb_epochs': 60, 'seed': 0, 'data': 'CIFAR10', 'model': 'resnet50', 'init_clean_accuracy': 93.66, 'init_PGD_accuracy': 46.85, 'final_clean_accuracy': 51.28, 'final_PGD_accuracy': 19.16}\n",
      "{'active_strategy': 'uncertainty', 'n_rounds': 1, 'size': 25000, 'nb_epochs': 60, 'seed': 1, 'data': 'CIFAR10', 'model': 'resnet50', 'init_clean_accuracy': 93.66, 'init_PGD_accuracy': 46.91, 'final_clean_accuracy': 53.4, 'final_PGD_accuracy': 20.9}\n",
      "{'active_strategy': 'uncertainty', 'n_rounds': 1, 'size': 25000, 'nb_epochs': 60, 'seed': 2, 'data': 'CIFAR10', 'model': 'resnet50', 'init_clean_accuracy': 93.66, 'init_PGD_accuracy': 46.77, 'final_clean_accuracy': 53.35, 'final_PGD_accuracy': 19.89}\n",
      "{'active_strategy': 'uncertainty', 'n_rounds': 1, 'size': 37500, 'nb_epochs': 60, 'seed': 0, 'data': 'CIFAR10', 'model': 'resnet50', 'init_clean_accuracy': 93.66, 'init_PGD_accuracy': 46.85, 'final_clean_accuracy': 59.25, 'final_PGD_accuracy': 22.02}\n",
      "{'active_strategy': 'uncertainty', 'n_rounds': 1, 'size': 37500, 'nb_epochs': 60, 'seed': 1, 'data': 'CIFAR10', 'model': 'resnet50', 'init_clean_accuracy': 93.66, 'init_PGD_accuracy': 46.91, 'final_clean_accuracy': 59.27, 'final_PGD_accuracy': 21.7}\n",
      "{'active_strategy': 'uncertainty', 'n_rounds': 1, 'size': 37500, 'nb_epochs': 60, 'seed': 2, 'data': 'CIFAR10', 'model': 'resnet50', 'init_clean_accuracy': 93.66, 'init_PGD_accuracy': 46.77, 'final_clean_accuracy': 58.36, 'final_PGD_accuracy': 21.79}\n",
      "{'active_strategy': 'margin', 'n_rounds': 1, 'size': 500, 'nb_epochs': 60, 'seed': 0, 'data': 'CIFAR10', 'model': 'resnet50', 'init_clean_accuracy': 93.66, 'init_PGD_accuracy': 46.85, 'final_clean_accuracy': 79.64, 'final_PGD_accuracy': 33.63}\n",
      "{'active_strategy': 'margin', 'n_rounds': 1, 'size': 500, 'nb_epochs': 60, 'seed': 1, 'data': 'CIFAR10', 'model': 'resnet50', 'init_clean_accuracy': 93.66, 'init_PGD_accuracy': 46.91, 'final_clean_accuracy': 85.41, 'final_PGD_accuracy': 38.85}\n",
      "{'active_strategy': 'margin', 'n_rounds': 1, 'size': 500, 'nb_epochs': 60, 'seed': 2, 'data': 'CIFAR10', 'model': 'resnet50', 'init_clean_accuracy': 93.66, 'init_PGD_accuracy': 46.77, 'final_clean_accuracy': 74.25, 'final_PGD_accuracy': 37.9}\n",
      "{'active_strategy': 'margin', 'n_rounds': 1, 'size': 2500, 'nb_epochs': 60, 'seed': 0, 'data': 'CIFAR10', 'model': 'resnet50', 'init_clean_accuracy': 93.66, 'init_PGD_accuracy': 46.85, 'final_clean_accuracy': 59.38, 'final_PGD_accuracy': 28.93}\n",
      "{'active_strategy': 'margin', 'n_rounds': 1, 'size': 2500, 'nb_epochs': 60, 'seed': 1, 'data': 'CIFAR10', 'model': 'resnet50', 'init_clean_accuracy': 93.66, 'init_PGD_accuracy': 46.91, 'final_clean_accuracy': 57.92, 'final_PGD_accuracy': 23.41}\n",
      "{'active_strategy': 'margin', 'n_rounds': 1, 'size': 2500, 'nb_epochs': 60, 'seed': 2, 'data': 'CIFAR10', 'model': 'resnet50', 'init_clean_accuracy': 93.66, 'init_PGD_accuracy': 46.77, 'final_clean_accuracy': 51.49, 'final_PGD_accuracy': 23.59}\n",
      "{'active_strategy': 'margin', 'n_rounds': 1, 'size': 5000, 'nb_epochs': 60, 'seed': 0, 'data': 'CIFAR10', 'model': 'resnet50', 'init_clean_accuracy': 93.66, 'init_PGD_accuracy': 46.85, 'final_clean_accuracy': 38.7, 'final_PGD_accuracy': 16.82}\n",
      "{'active_strategy': 'margin', 'n_rounds': 1, 'size': 5000, 'nb_epochs': 60, 'seed': 1, 'data': 'CIFAR10', 'model': 'resnet50', 'init_clean_accuracy': 93.66, 'init_PGD_accuracy': 46.91, 'final_clean_accuracy': 35.38, 'final_PGD_accuracy': 19.29}\n",
      "{'active_strategy': 'margin', 'n_rounds': 1, 'size': 5000, 'nb_epochs': 60, 'seed': 2, 'data': 'CIFAR10', 'model': 'resnet50', 'init_clean_accuracy': 93.66, 'init_PGD_accuracy': 46.77, 'final_clean_accuracy': 32.04, 'final_PGD_accuracy': 18.75}\n",
      "{'active_strategy': 'margin', 'n_rounds': 1, 'size': 7500, 'nb_epochs': 60, 'seed': 0, 'data': 'CIFAR10', 'model': 'resnet50', 'init_clean_accuracy': 93.66, 'init_PGD_accuracy': 46.85, 'final_clean_accuracy': 30.71, 'final_PGD_accuracy': 17.28}\n",
      "{'active_strategy': 'margin', 'n_rounds': 1, 'size': 7500, 'nb_epochs': 60, 'seed': 1, 'data': 'CIFAR10', 'model': 'resnet50', 'init_clean_accuracy': 93.66, 'init_PGD_accuracy': 46.91, 'final_clean_accuracy': 40.95, 'final_PGD_accuracy': 21.01}\n",
      "{'active_strategy': 'margin', 'n_rounds': 1, 'size': 7500, 'nb_epochs': 60, 'seed': 2, 'data': 'CIFAR10', 'model': 'resnet50', 'init_clean_accuracy': 93.66, 'init_PGD_accuracy': 46.77, 'final_clean_accuracy': 31.36, 'final_PGD_accuracy': 18.49}\n",
      "{'active_strategy': 'margin', 'n_rounds': 1, 'size': 10000, 'nb_epochs': 60, 'seed': 0, 'data': 'CIFAR10', 'model': 'resnet50', 'init_clean_accuracy': 93.66, 'init_PGD_accuracy': 46.85, 'final_clean_accuracy': 36.62, 'final_PGD_accuracy': 17.11}\n",
      "{'active_strategy': 'margin', 'n_rounds': 1, 'size': 10000, 'nb_epochs': 60, 'seed': 1, 'data': 'CIFAR10', 'model': 'resnet50', 'init_clean_accuracy': 93.66, 'init_PGD_accuracy': 46.91, 'final_clean_accuracy': 41.29, 'final_PGD_accuracy': 19.88}\n",
      "{'active_strategy': 'margin', 'n_rounds': 1, 'size': 10000, 'nb_epochs': 60, 'seed': 2, 'data': 'CIFAR10', 'model': 'resnet50', 'init_clean_accuracy': 93.66, 'init_PGD_accuracy': 46.77, 'final_clean_accuracy': 36.14, 'final_PGD_accuracy': 19.08}\n",
      "{'active_strategy': 'margin', 'n_rounds': 1, 'size': 12500, 'nb_epochs': 60, 'seed': 0, 'data': 'CIFAR10', 'model': 'resnet50', 'init_clean_accuracy': 93.66, 'init_PGD_accuracy': 46.85, 'final_clean_accuracy': 42.31, 'final_PGD_accuracy': 20.26}\n",
      "{'active_strategy': 'margin', 'n_rounds': 1, 'size': 12500, 'nb_epochs': 60, 'seed': 1, 'data': 'CIFAR10', 'model': 'resnet50', 'init_clean_accuracy': 93.66, 'init_PGD_accuracy': 46.91, 'final_clean_accuracy': 41.51, 'final_PGD_accuracy': 18.44}\n",
      "{'active_strategy': 'margin', 'n_rounds': 1, 'size': 12500, 'nb_epochs': 60, 'seed': 2, 'data': 'CIFAR10', 'model': 'resnet50', 'init_clean_accuracy': 93.66, 'init_PGD_accuracy': 46.77, 'final_clean_accuracy': 40.76, 'final_PGD_accuracy': 18.22}\n",
      "{'active_strategy': 'margin', 'n_rounds': 1, 'size': 25000, 'nb_epochs': 60, 'seed': 0, 'data': 'CIFAR10', 'model': 'resnet50', 'init_clean_accuracy': 93.66, 'init_PGD_accuracy': 46.85, 'final_clean_accuracy': 52.98, 'final_PGD_accuracy': 22.24}\n",
      "{'active_strategy': 'margin', 'n_rounds': 1, 'size': 25000, 'nb_epochs': 60, 'seed': 1, 'data': 'CIFAR10', 'model': 'resnet50', 'init_clean_accuracy': 93.66, 'init_PGD_accuracy': 46.91, 'final_clean_accuracy': 51.68, 'final_PGD_accuracy': 18.63}\n",
      "{'active_strategy': 'margin', 'n_rounds': 1, 'size': 25000, 'nb_epochs': 60, 'seed': 2, 'data': 'CIFAR10', 'model': 'resnet50', 'init_clean_accuracy': 93.66, 'init_PGD_accuracy': 46.77, 'final_clean_accuracy': 50.37, 'final_PGD_accuracy': 16.8}\n",
      "{'active_strategy': 'margin', 'n_rounds': 1, 'size': 37500, 'nb_epochs': 60, 'seed': 0, 'data': 'CIFAR10', 'model': 'resnet50', 'init_clean_accuracy': 93.66, 'init_PGD_accuracy': 46.85, 'final_clean_accuracy': 59.04, 'final_PGD_accuracy': 22.51}\n",
      "{'active_strategy': 'margin', 'n_rounds': 1, 'size': 37500, 'nb_epochs': 60, 'seed': 1, 'data': 'CIFAR10', 'model': 'resnet50', 'init_clean_accuracy': 93.66, 'init_PGD_accuracy': 46.91, 'final_clean_accuracy': 59.09, 'final_PGD_accuracy': 22.42}\n",
      "{'active_strategy': 'margin', 'n_rounds': 1, 'size': 37500, 'nb_epochs': 60, 'seed': 2, 'data': 'CIFAR10', 'model': 'resnet50', 'init_clean_accuracy': 93.66, 'init_PGD_accuracy': 46.77, 'final_clean_accuracy': 57.3, 'final_PGD_accuracy': 22.91}\n",
      "{'active_strategy': 'entropy', 'n_rounds': 1, 'size': 500, 'nb_epochs': 60, 'seed': 0, 'data': 'CIFAR10', 'model': 'resnet50', 'init_clean_accuracy': 93.66, 'init_PGD_accuracy': 46.85, 'final_clean_accuracy': 78.95, 'final_PGD_accuracy': 32.49}\n",
      "{'active_strategy': 'entropy', 'n_rounds': 1, 'size': 500, 'nb_epochs': 60, 'seed': 1, 'data': 'CIFAR10', 'model': 'resnet50', 'init_clean_accuracy': 93.66, 'init_PGD_accuracy': 46.91, 'final_clean_accuracy': 83.68, 'final_PGD_accuracy': 40.23}\n",
      "{'active_strategy': 'entropy', 'n_rounds': 1, 'size': 500, 'nb_epochs': 60, 'seed': 2, 'data': 'CIFAR10', 'model': 'resnet50', 'init_clean_accuracy': 93.66, 'init_PGD_accuracy': 46.77, 'final_clean_accuracy': 76.93, 'final_PGD_accuracy': 37.09}\n",
      "{'active_strategy': 'entropy', 'n_rounds': 1, 'size': 2500, 'nb_epochs': 60, 'seed': 0, 'data': 'CIFAR10', 'model': 'resnet50', 'init_clean_accuracy': 93.66, 'init_PGD_accuracy': 46.85, 'final_clean_accuracy': 45.78, 'final_PGD_accuracy': 20.39}\n",
      "{'active_strategy': 'entropy', 'n_rounds': 1, 'size': 2500, 'nb_epochs': 60, 'seed': 1, 'data': 'CIFAR10', 'model': 'resnet50', 'init_clean_accuracy': 93.66, 'init_PGD_accuracy': 46.91, 'final_clean_accuracy': 59.73, 'final_PGD_accuracy': 24.74}\n",
      "{'active_strategy': 'entropy', 'n_rounds': 1, 'size': 2500, 'nb_epochs': 60, 'seed': 2, 'data': 'CIFAR10', 'model': 'resnet50', 'init_clean_accuracy': 93.66, 'init_PGD_accuracy': 46.77, 'final_clean_accuracy': 54.13, 'final_PGD_accuracy': 27.77}\n",
      "{'active_strategy': 'entropy', 'n_rounds': 1, 'size': 5000, 'nb_epochs': 60, 'seed': 0, 'data': 'CIFAR10', 'model': 'resnet50', 'init_clean_accuracy': 93.66, 'init_PGD_accuracy': 46.85, 'final_clean_accuracy': 27.94, 'final_PGD_accuracy': 19.4}\n",
      "{'active_strategy': 'entropy', 'n_rounds': 1, 'size': 5000, 'nb_epochs': 60, 'seed': 1, 'data': 'CIFAR10', 'model': 'resnet50', 'init_clean_accuracy': 93.66, 'init_PGD_accuracy': 46.91, 'final_clean_accuracy': 31.84, 'final_PGD_accuracy': 18.0}\n",
      "{'active_strategy': 'entropy', 'n_rounds': 1, 'size': 5000, 'nb_epochs': 60, 'seed': 2, 'data': 'CIFAR10', 'model': 'resnet50', 'init_clean_accuracy': 93.66, 'init_PGD_accuracy': 46.77, 'final_clean_accuracy': 32.55, 'final_PGD_accuracy': 20.13}\n",
      "{'active_strategy': 'entropy', 'n_rounds': 1, 'size': 7500, 'nb_epochs': 60, 'seed': 0, 'data': 'CIFAR10', 'model': 'resnet50', 'init_clean_accuracy': 93.66, 'init_PGD_accuracy': 46.85, 'final_clean_accuracy': 36.14, 'final_PGD_accuracy': 18.04}\n",
      "{'active_strategy': 'entropy', 'n_rounds': 1, 'size': 7500, 'nb_epochs': 60, 'seed': 1, 'data': 'CIFAR10', 'model': 'resnet50', 'init_clean_accuracy': 93.66, 'init_PGD_accuracy': 46.91, 'final_clean_accuracy': 40.5, 'final_PGD_accuracy': 18.07}\n",
      "{'active_strategy': 'entropy', 'n_rounds': 1, 'size': 7500, 'nb_epochs': 60, 'seed': 2, 'data': 'CIFAR10', 'model': 'resnet50', 'init_clean_accuracy': 93.66, 'init_PGD_accuracy': 46.77, 'final_clean_accuracy': 34.84, 'final_PGD_accuracy': 18.34}\n",
      "{'active_strategy': 'entropy', 'n_rounds': 1, 'size': 10000, 'nb_epochs': 60, 'seed': 0, 'data': 'CIFAR10', 'model': 'resnet50', 'init_clean_accuracy': 93.66, 'init_PGD_accuracy': 46.85, 'final_clean_accuracy': 43.1, 'final_PGD_accuracy': 19.08}\n",
      "{'active_strategy': 'entropy', 'n_rounds': 1, 'size': 10000, 'nb_epochs': 60, 'seed': 1, 'data': 'CIFAR10', 'model': 'resnet50', 'init_clean_accuracy': 93.66, 'init_PGD_accuracy': 46.91, 'final_clean_accuracy': 41.89, 'final_PGD_accuracy': 17.6}\n",
      "{'active_strategy': 'entropy', 'n_rounds': 1, 'size': 10000, 'nb_epochs': 60, 'seed': 2, 'data': 'CIFAR10', 'model': 'resnet50', 'init_clean_accuracy': 93.66, 'init_PGD_accuracy': 46.77, 'final_clean_accuracy': 36.37, 'final_PGD_accuracy': 17.03}\n",
      "{'active_strategy': 'entropy', 'n_rounds': 1, 'size': 12500, 'nb_epochs': 60, 'seed': 0, 'data': 'CIFAR10', 'model': 'resnet50', 'init_clean_accuracy': 93.66, 'init_PGD_accuracy': 46.85, 'final_clean_accuracy': 45.55, 'final_PGD_accuracy': 18.64}\n",
      "{'active_strategy': 'entropy', 'n_rounds': 1, 'size': 12500, 'nb_epochs': 60, 'seed': 1, 'data': 'CIFAR10', 'model': 'resnet50', 'init_clean_accuracy': 93.66, 'init_PGD_accuracy': 46.91, 'final_clean_accuracy': 46.12, 'final_PGD_accuracy': 18.06}\n",
      "{'active_strategy': 'entropy', 'n_rounds': 1, 'size': 12500, 'nb_epochs': 60, 'seed': 2, 'data': 'CIFAR10', 'model': 'resnet50', 'init_clean_accuracy': 93.66, 'init_PGD_accuracy': 46.77, 'final_clean_accuracy': 43.39, 'final_PGD_accuracy': 19.28}\n",
      "{'active_strategy': 'entropy', 'n_rounds': 1, 'size': 25000, 'nb_epochs': 60, 'seed': 0, 'data': 'CIFAR10', 'model': 'resnet50', 'init_clean_accuracy': 93.66, 'init_PGD_accuracy': 46.85, 'final_clean_accuracy': 50.19, 'final_PGD_accuracy': 21.06}\n",
      "{'active_strategy': 'entropy', 'n_rounds': 1, 'size': 25000, 'nb_epochs': 60, 'seed': 1, 'data': 'CIFAR10', 'model': 'resnet50', 'init_clean_accuracy': 93.66, 'init_PGD_accuracy': 46.91, 'final_clean_accuracy': 53.26, 'final_PGD_accuracy': 23.28}\n",
      "{'active_strategy': 'entropy', 'n_rounds': 1, 'size': 25000, 'nb_epochs': 60, 'seed': 2, 'data': 'CIFAR10', 'model': 'resnet50', 'init_clean_accuracy': 93.66, 'init_PGD_accuracy': 46.77, 'final_clean_accuracy': 51.08, 'final_PGD_accuracy': 18.73}\n",
      "{'active_strategy': 'entropy', 'n_rounds': 1, 'size': 37500, 'nb_epochs': 60, 'seed': 0, 'data': 'CIFAR10', 'model': 'resnet50', 'init_clean_accuracy': 93.66, 'init_PGD_accuracy': 46.85, 'final_clean_accuracy': 59.33, 'final_PGD_accuracy': 22.83}\n",
      "{'active_strategy': 'entropy', 'n_rounds': 1, 'size': 37500, 'nb_epochs': 60, 'seed': 1, 'data': 'CIFAR10', 'model': 'resnet50', 'init_clean_accuracy': 93.66, 'init_PGD_accuracy': 46.91, 'final_clean_accuracy': 57.34, 'final_PGD_accuracy': 22.28}\n",
      "{'active_strategy': 'entropy', 'n_rounds': 1, 'size': 37500, 'nb_epochs': 60, 'seed': 2, 'data': 'CIFAR10', 'model': 'resnet50', 'init_clean_accuracy': 93.66, 'init_PGD_accuracy': 46.77, 'final_clean_accuracy': 57.81, 'final_PGD_accuracy': 21.13}\n",
      "{'active_strategy': 'random', 'n_rounds': 1, 'size': 500, 'nb_epochs': 60, 'seed': 0, 'data': 'CIFAR10', 'model': 'resnet50', 'init_clean_accuracy': 93.66, 'init_PGD_accuracy': 46.85, 'final_clean_accuracy': 85.65, 'final_PGD_accuracy': 44.72}\n",
      "{'active_strategy': 'random', 'n_rounds': 1, 'size': 500, 'nb_epochs': 60, 'seed': 1, 'data': 'CIFAR10', 'model': 'resnet50', 'init_clean_accuracy': 93.66, 'init_PGD_accuracy': 46.91, 'final_clean_accuracy': 87.03, 'final_PGD_accuracy': 43.52}\n",
      "{'active_strategy': 'random', 'n_rounds': 1, 'size': 500, 'nb_epochs': 60, 'seed': 2, 'data': 'CIFAR10', 'model': 'resnet50', 'init_clean_accuracy': 93.66, 'init_PGD_accuracy': 46.77, 'final_clean_accuracy': 82.97, 'final_PGD_accuracy': 44.18}\n",
      "{'active_strategy': 'random', 'n_rounds': 1, 'size': 2500, 'nb_epochs': 60, 'seed': 0, 'data': 'CIFAR10', 'model': 'resnet50', 'init_clean_accuracy': 93.66, 'init_PGD_accuracy': 46.85, 'final_clean_accuracy': 59.3, 'final_PGD_accuracy': 26.14}\n",
      "{'active_strategy': 'random', 'n_rounds': 1, 'size': 2500, 'nb_epochs': 60, 'seed': 1, 'data': 'CIFAR10', 'model': 'resnet50', 'init_clean_accuracy': 93.66, 'init_PGD_accuracy': 46.91, 'final_clean_accuracy': 65.26, 'final_PGD_accuracy': 30.92}\n",
      "{'active_strategy': 'random', 'n_rounds': 1, 'size': 2500, 'nb_epochs': 60, 'seed': 2, 'data': 'CIFAR10', 'model': 'resnet50', 'init_clean_accuracy': 93.66, 'init_PGD_accuracy': 46.77, 'final_clean_accuracy': 60.61, 'final_PGD_accuracy': 22.91}\n",
      "{'active_strategy': 'random', 'n_rounds': 1, 'size': 5000, 'nb_epochs': 60, 'seed': 0, 'data': 'CIFAR10', 'model': 'resnet50', 'init_clean_accuracy': 93.66, 'init_PGD_accuracy': 46.85, 'final_clean_accuracy': 52.41, 'final_PGD_accuracy': 26.71}\n",
      "{'active_strategy': 'random', 'n_rounds': 1, 'size': 5000, 'nb_epochs': 60, 'seed': 1, 'data': 'CIFAR10', 'model': 'resnet50', 'init_clean_accuracy': 93.66, 'init_PGD_accuracy': 46.91, 'final_clean_accuracy': 50.9, 'final_PGD_accuracy': 21.37}\n",
      "{'active_strategy': 'random', 'n_rounds': 1, 'size': 5000, 'nb_epochs': 60, 'seed': 2, 'data': 'CIFAR10', 'model': 'resnet50', 'init_clean_accuracy': 93.66, 'init_PGD_accuracy': 46.77, 'final_clean_accuracy': 53.35, 'final_PGD_accuracy': 17.7}\n",
      "{'active_strategy': 'random', 'n_rounds': 1, 'size': 7500, 'nb_epochs': 60, 'seed': 0, 'data': 'CIFAR10', 'model': 'resnet50', 'init_clean_accuracy': 93.66, 'init_PGD_accuracy': 46.85, 'final_clean_accuracy': 54.76, 'final_PGD_accuracy': 22.96}\n",
      "{'active_strategy': 'random', 'n_rounds': 1, 'size': 7500, 'nb_epochs': 60, 'seed': 1, 'data': 'CIFAR10', 'model': 'resnet50', 'init_clean_accuracy': 93.66, 'init_PGD_accuracy': 46.91, 'final_clean_accuracy': 53.55, 'final_PGD_accuracy': 24.15}\n",
      "{'active_strategy': 'random', 'n_rounds': 1, 'size': 7500, 'nb_epochs': 60, 'seed': 2, 'data': 'CIFAR10', 'model': 'resnet50', 'init_clean_accuracy': 93.66, 'init_PGD_accuracy': 46.77, 'final_clean_accuracy': 56.76, 'final_PGD_accuracy': 21.83}\n",
      "{'active_strategy': 'random', 'n_rounds': 1, 'size': 10000, 'nb_epochs': 60, 'seed': 0, 'data': 'CIFAR10', 'model': 'resnet50', 'init_clean_accuracy': 93.66, 'init_PGD_accuracy': 46.85, 'final_clean_accuracy': 51.78, 'final_PGD_accuracy': 17.12}\n",
      "{'active_strategy': 'random', 'n_rounds': 1, 'size': 10000, 'nb_epochs': 60, 'seed': 1, 'data': 'CIFAR10', 'model': 'resnet50', 'init_clean_accuracy': 93.66, 'init_PGD_accuracy': 46.91, 'final_clean_accuracy': 49.83, 'final_PGD_accuracy': 15.78}\n",
      "{'active_strategy': 'random', 'n_rounds': 1, 'size': 10000, 'nb_epochs': 60, 'seed': 2, 'data': 'CIFAR10', 'model': 'resnet50', 'init_clean_accuracy': 93.66, 'init_PGD_accuracy': 46.77, 'final_clean_accuracy': 52.86, 'final_PGD_accuracy': 22.73}\n",
      "{'active_strategy': 'random', 'n_rounds': 1, 'size': 12500, 'nb_epochs': 60, 'seed': 0, 'data': 'CIFAR10', 'model': 'resnet50', 'init_clean_accuracy': 93.66, 'init_PGD_accuracy': 46.85, 'final_clean_accuracy': 55.73, 'final_PGD_accuracy': 23.68}\n",
      "{'active_strategy': 'random', 'n_rounds': 1, 'size': 12500, 'nb_epochs': 60, 'seed': 1, 'data': 'CIFAR10', 'model': 'resnet50', 'init_clean_accuracy': 93.66, 'init_PGD_accuracy': 46.91, 'final_clean_accuracy': 57.35, 'final_PGD_accuracy': 22.94}\n",
      "{'active_strategy': 'random', 'n_rounds': 1, 'size': 12500, 'nb_epochs': 60, 'seed': 2, 'data': 'CIFAR10', 'model': 'resnet50', 'init_clean_accuracy': 93.66, 'init_PGD_accuracy': 46.77, 'final_clean_accuracy': 55.81, 'final_PGD_accuracy': 20.61}\n",
      "{'active_strategy': 'random', 'n_rounds': 1, 'size': 25000, 'nb_epochs': 60, 'seed': 0, 'data': 'CIFAR10', 'model': 'resnet50', 'init_clean_accuracy': 93.66, 'init_PGD_accuracy': 46.85, 'final_clean_accuracy': 56.09, 'final_PGD_accuracy': 23.51}\n",
      "{'active_strategy': 'random', 'n_rounds': 1, 'size': 25000, 'nb_epochs': 60, 'seed': 1, 'data': 'CIFAR10', 'model': 'resnet50', 'init_clean_accuracy': 93.66, 'init_PGD_accuracy': 46.91, 'final_clean_accuracy': 58.14, 'final_PGD_accuracy': 21.4}\n",
      "{'active_strategy': 'random', 'n_rounds': 1, 'size': 25000, 'nb_epochs': 60, 'seed': 2, 'data': 'CIFAR10', 'model': 'resnet50', 'init_clean_accuracy': 93.66, 'init_PGD_accuracy': 46.77, 'final_clean_accuracy': 58.55, 'final_PGD_accuracy': 22.77}\n",
      "{'active_strategy': 'random', 'n_rounds': 1, 'size': 37500, 'nb_epochs': 60, 'seed': 0, 'data': 'CIFAR10', 'model': 'resnet50', 'init_clean_accuracy': 93.66, 'init_PGD_accuracy': 46.85, 'final_clean_accuracy': 59.57, 'final_PGD_accuracy': 21.12}\n",
      "{'active_strategy': 'random', 'n_rounds': 1, 'size': 37500, 'nb_epochs': 60, 'seed': 1, 'data': 'CIFAR10', 'model': 'resnet50', 'init_clean_accuracy': 93.66, 'init_PGD_accuracy': 46.91, 'final_clean_accuracy': 59.55, 'final_PGD_accuracy': 22.73}\n",
      "{'active_strategy': 'random', 'n_rounds': 1, 'size': 37500, 'nb_epochs': 60, 'seed': 2, 'data': 'CIFAR10', 'model': 'resnet50', 'init_clean_accuracy': 93.66, 'init_PGD_accuracy': 46.77, 'final_clean_accuracy': 58.63, 'final_PGD_accuracy': 22.78}\n"
     ]
    }
   ],
   "source": [
    "import gzip\n",
    "import pickle as pkl\n",
    "\n",
    "\n",
    "loss = 'AT'\n",
    "data = 'CIFAR10'\n",
    "model = 'resnet50'\n",
    "n_rounds = 1\n",
    "nb_epochs = 60\n",
    "seeds = 5\n",
    "\n",
    "results_list = []\n",
    "for active_strategy in ['attack', 'uncertainty', 'margin', 'entropy', 'random']:\n",
    "    for size in [500, 1500, 2500, 5000, 7500,10000,12500, 25000, 37500]:\n",
    "        for seed in range(seeds):\n",
    "\n",
    "            try:\n",
    "                with gzip.open('./results/{}_{}_{}_{}_{}_{}_{}_{}.pkl.gz'.format(loss,data, model, active_strategy, n_rounds, size, nb_epochs, seed), 'rb') as f:\n",
    "                    result = pkl.load(f)\n",
    "                    result['active_strategy'] = active_strategy\n",
    "                print(result)\n",
    "                results_list.append(result)\n",
    "            except:\n",
    "                pass\n",
    "\n",
    "\n",
    "active_strategy = 'full'\n",
    "size = 0\n",
    "\n",
    "for seed in range(seeds):\n",
    "\n",
    "    try:\n",
    "        with gzip.open('./results/{}_{}_{}_{}_{}_{}_{}_{}.pkl.gz'.format(loss, data, model, active_strategy, n_rounds, size, nb_epochs, seed), 'rb') as f:\n",
    "            result = pkl.load(f)\n",
    "            result['active_strategy'] = active_strategy\n",
    "            result['size'] = 50000\n",
    "            print(result)\n",
    "            results_list.append(result)\n",
    "    except:\n",
    "        pass\n",
    "\n",
    "\n",
    "# clean_accuracy_init = result['init_clean_accuracy']\n",
    "# PGD_accuracy_init = result['init_PGD_accuracy']"
   ]
  },
  {
   "cell_type": "code",
   "execution_count": 14,
   "metadata": {},
   "outputs": [],
   "source": [
    "import pandas as pd\n",
    "# Convert the list of dictionaries to a DataFrame\n",
    "df = pd.DataFrame(results_list)\n",
    "\n",
    "# Assuming df is your DataFrame\n",
    "means_stds = df.groupby(['active_strategy', 'size']).agg({\n",
    "    'final_clean_accuracy': ['mean', 'std' ],\n",
    "    'final_PGD_accuracy': ['mean', 'std']\n",
    "})\n",
    "\n",
    "\n",
    "\n",
    "# Assuming df is your DataFrame\n",
    "# init_means_stds = df.groupby(['active_strategy', ]).agg({\n",
    "#     'init_clean_accuracy': ['mean',  'std' ],\n",
    "#     'init_PGD_accuracy': ['mean',  'std' ],\n",
    "# })\n",
    "\n",
    "means_stds.to_csv('./results/means.csv', index=True)"
   ]
  },
  {
   "cell_type": "code",
   "execution_count": 15,
   "metadata": {},
   "outputs": [
    {
     "data": {
      "application/vnd.plotly.v1+json": {
       "config": {
        "plotlyServerURL": "https://plot.ly"
       },
       "data": [
        {
         "line": {
          "color": "rgba(0,0,0,1)",
          "dash": "dash",
          "width": 2
         },
         "mode": "lines",
         "name": "Full Dataset Average",
         "showlegend": true,
         "type": "scatter",
         "x": [
          500,
          37500
         ],
         "y": [
          null,
          null
         ]
        },
        {
         "error_y": {
          "array": [],
          "arrayminus": [],
          "symmetric": false,
          "type": "data"
         },
         "line": {
          "color": "rgba(0,0,0,1)"
         },
         "mode": "lines+markers",
         "name": "full",
         "showlegend": false,
         "type": "scatter",
         "x": [],
         "y": []
        },
        {
         "error_y": {
          "array": [
           2.0964673302117847,
           1.7422776206303443,
           1.4432498350597511,
           1.2037649194379,
           0.5963945349358369,
           0.46511842072888704,
           0.45015431091719266,
           0.0850210091055931
          ],
          "arrayminus": [
           2.0964673302117847,
           1.7422776206303443,
           1.4432498350597511,
           1.2037649194379,
           0.5963945349358369,
           0.46511842072888704,
           0.45015431091719266,
           0.0850210091055931
          ],
          "symmetric": false,
          "type": "data"
         },
         "line": {
          "color": "rgba(255,161,90,1)"
         },
         "mode": "lines+markers",
         "name": "uncertainty",
         "type": "scatter",
         "x": [
          500,
          2500,
          5000,
          7500,
          10000,
          12500,
          25000,
          37500
         ],
         "y": [
          37.29333333333333,
          26.456666666666667,
          18.89,
          18.55333333333333,
          17.903333333333332,
          18.796666666666667,
          19.98333333333333,
          21.836666666666662
         ]
        },
        {
         "error_y": {
          "array": [
           0.3096347713807347,
           2.0762133858323266,
           2.3342274906695217,
           0.5976986169768175,
           1.8996167604286225,
           0.825430152451436,
           0.5515528215357078,
           0.4865026807408156
          ],
          "arrayminus": [
           0.3096347713807347,
           2.0762133858323266,
           2.3342274906695217,
           0.5976986169768175,
           1.8996167604286225,
           0.825430152451436,
           0.5515528215357078,
           0.4865026807408156
          ],
          "symmetric": false,
          "type": "data"
         },
         "line": {
          "color": "rgba(25,211,243,1)"
         },
         "mode": "lines+markers",
         "name": "random",
         "type": "scatter",
         "x": [
          500,
          2500,
          5000,
          7500,
          10000,
          12500,
          25000,
          37500
         ],
         "y": [
          44.14000000000001,
          26.656666666666663,
          21.926666666666662,
          22.98,
          18.543333333333333,
          22.41,
          22.56,
          22.21
         ]
        },
        {
         "error_y": {
          "array": [
           2.0056130093767663,
           1.9111975750172985,
           0.5576628499060459,
           0.08512501037885432,
           0.5451471728674122,
           0.3143986629997023,
           1.1721941687985546,
           0.4469192965178387
          ],
          "arrayminus": [
           2.0056130093767663,
           1.9111975750172985,
           0.5576628499060459,
           0.08512501037885432,
           0.5451471728674122,
           0.3143986629997023,
           1.1721941687985546,
           0.4469192965178387
          ],
          "symmetric": false,
          "type": "data"
         },
         "line": {
          "color": "rgba(255,102,146,1)"
         },
         "mode": "lines+markers",
         "name": "entropy",
         "type": "scatter",
         "x": [
          500,
          2500,
          5000,
          7500,
          10000,
          12500,
          25000,
          37500
         ],
         "y": [
          36.60333333333333,
          24.3,
          19.176666666666662,
          18.15,
          17.903333333333332,
          18.66,
          21.023333333333333,
          22.08
         ]
        },
        {
         "error_y": {
          "array": [
           1.8615790356418749,
           1.0115428630549146,
           1.077425151942043,
           1.274496229921978,
           0.628649564905599,
           0.6893355463845848
          ],
          "arrayminus": [
           1.8615790356418749,
           1.0115428630549146,
           1.077425151942043,
           1.274496229921978,
           0.628649564905599,
           0.6893355463845848
          ],
          "symmetric": false,
          "type": "data"
         },
         "line": {
          "color": "rgba(182,232,128,1)"
         },
         "mode": "lines+markers",
         "name": "attack",
         "type": "scatter",
         "x": [
          500,
          2500,
          5000,
          7500,
          10000,
          12500
         ],
         "y": [
          32.20333333333333,
          19.106666666666666,
          13.606666666666667,
          17.30333333333333,
          18.9,
          20.55666666666667
         ]
        },
        {
         "error_y": {
          "array": [
           1.4324629298956852,
           1.615823592430808,
           0.669013204166654,
           0.9804018205559052,
           0.7344627305670455,
           0.5768706462885191,
           1.4261303056163317,
           0.1343806474955863
          ],
          "arrayminus": [
           1.4324629298956852,
           1.615823592430808,
           0.669013204166654,
           0.9804018205559052,
           0.7344627305670455,
           0.5768706462885191,
           1.4261303056163317,
           0.1343806474955863
          ],
          "symmetric": false,
          "type": "data"
         },
         "line": {
          "color": "rgba(254,203,82,1)"
         },
         "mode": "lines+markers",
         "name": "margin",
         "type": "scatter",
         "x": [
          500,
          2500,
          5000,
          7500,
          10000,
          12500,
          25000,
          37500
         ],
         "y": [
          36.79333333333333,
          25.31,
          18.286666666666665,
          18.926666666666662,
          18.69,
          18.973333333333333,
          19.223333333333333,
          22.613333333333333
         ]
        }
       ],
       "layout": {
        "height": 400,
        "legend": {
         "title": {
          "text": "Active Strategy"
         }
        },
        "margin": {
         "b": 0,
         "l": 0,
         "r": 0,
         "t": 50
        },
        "paper_bgcolor": "white",
        "plot_bgcolor": "white",
        "showlegend": true,
        "template": {
         "data": {
          "bar": [
           {
            "error_x": {
             "color": "#2a3f5f"
            },
            "error_y": {
             "color": "#2a3f5f"
            },
            "marker": {
             "line": {
              "color": "#E5ECF6",
              "width": 0.5
             },
             "pattern": {
              "fillmode": "overlay",
              "size": 10,
              "solidity": 0.2
             }
            },
            "type": "bar"
           }
          ],
          "barpolar": [
           {
            "marker": {
             "line": {
              "color": "#E5ECF6",
              "width": 0.5
             },
             "pattern": {
              "fillmode": "overlay",
              "size": 10,
              "solidity": 0.2
             }
            },
            "type": "barpolar"
           }
          ],
          "carpet": [
           {
            "aaxis": {
             "endlinecolor": "#2a3f5f",
             "gridcolor": "white",
             "linecolor": "white",
             "minorgridcolor": "white",
             "startlinecolor": "#2a3f5f"
            },
            "baxis": {
             "endlinecolor": "#2a3f5f",
             "gridcolor": "white",
             "linecolor": "white",
             "minorgridcolor": "white",
             "startlinecolor": "#2a3f5f"
            },
            "type": "carpet"
           }
          ],
          "choropleth": [
           {
            "colorbar": {
             "outlinewidth": 0,
             "ticks": ""
            },
            "type": "choropleth"
           }
          ],
          "contour": [
           {
            "colorbar": {
             "outlinewidth": 0,
             "ticks": ""
            },
            "colorscale": [
             [
              0,
              "#0d0887"
             ],
             [
              0.1111111111111111,
              "#46039f"
             ],
             [
              0.2222222222222222,
              "#7201a8"
             ],
             [
              0.3333333333333333,
              "#9c179e"
             ],
             [
              0.4444444444444444,
              "#bd3786"
             ],
             [
              0.5555555555555556,
              "#d8576b"
             ],
             [
              0.6666666666666666,
              "#ed7953"
             ],
             [
              0.7777777777777778,
              "#fb9f3a"
             ],
             [
              0.8888888888888888,
              "#fdca26"
             ],
             [
              1,
              "#f0f921"
             ]
            ],
            "type": "contour"
           }
          ],
          "contourcarpet": [
           {
            "colorbar": {
             "outlinewidth": 0,
             "ticks": ""
            },
            "type": "contourcarpet"
           }
          ],
          "heatmap": [
           {
            "colorbar": {
             "outlinewidth": 0,
             "ticks": ""
            },
            "colorscale": [
             [
              0,
              "#0d0887"
             ],
             [
              0.1111111111111111,
              "#46039f"
             ],
             [
              0.2222222222222222,
              "#7201a8"
             ],
             [
              0.3333333333333333,
              "#9c179e"
             ],
             [
              0.4444444444444444,
              "#bd3786"
             ],
             [
              0.5555555555555556,
              "#d8576b"
             ],
             [
              0.6666666666666666,
              "#ed7953"
             ],
             [
              0.7777777777777778,
              "#fb9f3a"
             ],
             [
              0.8888888888888888,
              "#fdca26"
             ],
             [
              1,
              "#f0f921"
             ]
            ],
            "type": "heatmap"
           }
          ],
          "heatmapgl": [
           {
            "colorbar": {
             "outlinewidth": 0,
             "ticks": ""
            },
            "colorscale": [
             [
              0,
              "#0d0887"
             ],
             [
              0.1111111111111111,
              "#46039f"
             ],
             [
              0.2222222222222222,
              "#7201a8"
             ],
             [
              0.3333333333333333,
              "#9c179e"
             ],
             [
              0.4444444444444444,
              "#bd3786"
             ],
             [
              0.5555555555555556,
              "#d8576b"
             ],
             [
              0.6666666666666666,
              "#ed7953"
             ],
             [
              0.7777777777777778,
              "#fb9f3a"
             ],
             [
              0.8888888888888888,
              "#fdca26"
             ],
             [
              1,
              "#f0f921"
             ]
            ],
            "type": "heatmapgl"
           }
          ],
          "histogram": [
           {
            "marker": {
             "pattern": {
              "fillmode": "overlay",
              "size": 10,
              "solidity": 0.2
             }
            },
            "type": "histogram"
           }
          ],
          "histogram2d": [
           {
            "colorbar": {
             "outlinewidth": 0,
             "ticks": ""
            },
            "colorscale": [
             [
              0,
              "#0d0887"
             ],
             [
              0.1111111111111111,
              "#46039f"
             ],
             [
              0.2222222222222222,
              "#7201a8"
             ],
             [
              0.3333333333333333,
              "#9c179e"
             ],
             [
              0.4444444444444444,
              "#bd3786"
             ],
             [
              0.5555555555555556,
              "#d8576b"
             ],
             [
              0.6666666666666666,
              "#ed7953"
             ],
             [
              0.7777777777777778,
              "#fb9f3a"
             ],
             [
              0.8888888888888888,
              "#fdca26"
             ],
             [
              1,
              "#f0f921"
             ]
            ],
            "type": "histogram2d"
           }
          ],
          "histogram2dcontour": [
           {
            "colorbar": {
             "outlinewidth": 0,
             "ticks": ""
            },
            "colorscale": [
             [
              0,
              "#0d0887"
             ],
             [
              0.1111111111111111,
              "#46039f"
             ],
             [
              0.2222222222222222,
              "#7201a8"
             ],
             [
              0.3333333333333333,
              "#9c179e"
             ],
             [
              0.4444444444444444,
              "#bd3786"
             ],
             [
              0.5555555555555556,
              "#d8576b"
             ],
             [
              0.6666666666666666,
              "#ed7953"
             ],
             [
              0.7777777777777778,
              "#fb9f3a"
             ],
             [
              0.8888888888888888,
              "#fdca26"
             ],
             [
              1,
              "#f0f921"
             ]
            ],
            "type": "histogram2dcontour"
           }
          ],
          "mesh3d": [
           {
            "colorbar": {
             "outlinewidth": 0,
             "ticks": ""
            },
            "type": "mesh3d"
           }
          ],
          "parcoords": [
           {
            "line": {
             "colorbar": {
              "outlinewidth": 0,
              "ticks": ""
             }
            },
            "type": "parcoords"
           }
          ],
          "pie": [
           {
            "automargin": true,
            "type": "pie"
           }
          ],
          "scatter": [
           {
            "fillpattern": {
             "fillmode": "overlay",
             "size": 10,
             "solidity": 0.2
            },
            "type": "scatter"
           }
          ],
          "scatter3d": [
           {
            "line": {
             "colorbar": {
              "outlinewidth": 0,
              "ticks": ""
             }
            },
            "marker": {
             "colorbar": {
              "outlinewidth": 0,
              "ticks": ""
             }
            },
            "type": "scatter3d"
           }
          ],
          "scattercarpet": [
           {
            "marker": {
             "colorbar": {
              "outlinewidth": 0,
              "ticks": ""
             }
            },
            "type": "scattercarpet"
           }
          ],
          "scattergeo": [
           {
            "marker": {
             "colorbar": {
              "outlinewidth": 0,
              "ticks": ""
             }
            },
            "type": "scattergeo"
           }
          ],
          "scattergl": [
           {
            "marker": {
             "colorbar": {
              "outlinewidth": 0,
              "ticks": ""
             }
            },
            "type": "scattergl"
           }
          ],
          "scattermapbox": [
           {
            "marker": {
             "colorbar": {
              "outlinewidth": 0,
              "ticks": ""
             }
            },
            "type": "scattermapbox"
           }
          ],
          "scatterpolar": [
           {
            "marker": {
             "colorbar": {
              "outlinewidth": 0,
              "ticks": ""
             }
            },
            "type": "scatterpolar"
           }
          ],
          "scatterpolargl": [
           {
            "marker": {
             "colorbar": {
              "outlinewidth": 0,
              "ticks": ""
             }
            },
            "type": "scatterpolargl"
           }
          ],
          "scatterternary": [
           {
            "marker": {
             "colorbar": {
              "outlinewidth": 0,
              "ticks": ""
             }
            },
            "type": "scatterternary"
           }
          ],
          "surface": [
           {
            "colorbar": {
             "outlinewidth": 0,
             "ticks": ""
            },
            "colorscale": [
             [
              0,
              "#0d0887"
             ],
             [
              0.1111111111111111,
              "#46039f"
             ],
             [
              0.2222222222222222,
              "#7201a8"
             ],
             [
              0.3333333333333333,
              "#9c179e"
             ],
             [
              0.4444444444444444,
              "#bd3786"
             ],
             [
              0.5555555555555556,
              "#d8576b"
             ],
             [
              0.6666666666666666,
              "#ed7953"
             ],
             [
              0.7777777777777778,
              "#fb9f3a"
             ],
             [
              0.8888888888888888,
              "#fdca26"
             ],
             [
              1,
              "#f0f921"
             ]
            ],
            "type": "surface"
           }
          ],
          "table": [
           {
            "cells": {
             "fill": {
              "color": "#EBF0F8"
             },
             "line": {
              "color": "white"
             }
            },
            "header": {
             "fill": {
              "color": "#C8D4E3"
             },
             "line": {
              "color": "white"
             }
            },
            "type": "table"
           }
          ]
         },
         "layout": {
          "annotationdefaults": {
           "arrowcolor": "#2a3f5f",
           "arrowhead": 0,
           "arrowwidth": 1
          },
          "autotypenumbers": "strict",
          "coloraxis": {
           "colorbar": {
            "outlinewidth": 0,
            "ticks": ""
           }
          },
          "colorscale": {
           "diverging": [
            [
             0,
             "#8e0152"
            ],
            [
             0.1,
             "#c51b7d"
            ],
            [
             0.2,
             "#de77ae"
            ],
            [
             0.3,
             "#f1b6da"
            ],
            [
             0.4,
             "#fde0ef"
            ],
            [
             0.5,
             "#f7f7f7"
            ],
            [
             0.6,
             "#e6f5d0"
            ],
            [
             0.7,
             "#b8e186"
            ],
            [
             0.8,
             "#7fbc41"
            ],
            [
             0.9,
             "#4d9221"
            ],
            [
             1,
             "#276419"
            ]
           ],
           "sequential": [
            [
             0,
             "#0d0887"
            ],
            [
             0.1111111111111111,
             "#46039f"
            ],
            [
             0.2222222222222222,
             "#7201a8"
            ],
            [
             0.3333333333333333,
             "#9c179e"
            ],
            [
             0.4444444444444444,
             "#bd3786"
            ],
            [
             0.5555555555555556,
             "#d8576b"
            ],
            [
             0.6666666666666666,
             "#ed7953"
            ],
            [
             0.7777777777777778,
             "#fb9f3a"
            ],
            [
             0.8888888888888888,
             "#fdca26"
            ],
            [
             1,
             "#f0f921"
            ]
           ],
           "sequentialminus": [
            [
             0,
             "#0d0887"
            ],
            [
             0.1111111111111111,
             "#46039f"
            ],
            [
             0.2222222222222222,
             "#7201a8"
            ],
            [
             0.3333333333333333,
             "#9c179e"
            ],
            [
             0.4444444444444444,
             "#bd3786"
            ],
            [
             0.5555555555555556,
             "#d8576b"
            ],
            [
             0.6666666666666666,
             "#ed7953"
            ],
            [
             0.7777777777777778,
             "#fb9f3a"
            ],
            [
             0.8888888888888888,
             "#fdca26"
            ],
            [
             1,
             "#f0f921"
            ]
           ]
          },
          "colorway": [
           "#636efa",
           "#EF553B",
           "#00cc96",
           "#ab63fa",
           "#FFA15A",
           "#19d3f3",
           "#FF6692",
           "#B6E880",
           "#FF97FF",
           "#FECB52"
          ],
          "font": {
           "color": "#2a3f5f"
          },
          "geo": {
           "bgcolor": "white",
           "lakecolor": "white",
           "landcolor": "#E5ECF6",
           "showlakes": true,
           "showland": true,
           "subunitcolor": "white"
          },
          "hoverlabel": {
           "align": "left"
          },
          "hovermode": "closest",
          "mapbox": {
           "style": "light"
          },
          "paper_bgcolor": "white",
          "plot_bgcolor": "#E5ECF6",
          "polar": {
           "angularaxis": {
            "gridcolor": "white",
            "linecolor": "white",
            "ticks": ""
           },
           "bgcolor": "#E5ECF6",
           "radialaxis": {
            "gridcolor": "white",
            "linecolor": "white",
            "ticks": ""
           }
          },
          "scene": {
           "xaxis": {
            "backgroundcolor": "#E5ECF6",
            "gridcolor": "white",
            "gridwidth": 2,
            "linecolor": "white",
            "showbackground": true,
            "ticks": "",
            "zerolinecolor": "white"
           },
           "yaxis": {
            "backgroundcolor": "#E5ECF6",
            "gridcolor": "white",
            "gridwidth": 2,
            "linecolor": "white",
            "showbackground": true,
            "ticks": "",
            "zerolinecolor": "white"
           },
           "zaxis": {
            "backgroundcolor": "#E5ECF6",
            "gridcolor": "white",
            "gridwidth": 2,
            "linecolor": "white",
            "showbackground": true,
            "ticks": "",
            "zerolinecolor": "white"
           }
          },
          "shapedefaults": {
           "line": {
            "color": "#2a3f5f"
           }
          },
          "ternary": {
           "aaxis": {
            "gridcolor": "white",
            "linecolor": "white",
            "ticks": ""
           },
           "baxis": {
            "gridcolor": "white",
            "linecolor": "white",
            "ticks": ""
           },
           "bgcolor": "#E5ECF6",
           "caxis": {
            "gridcolor": "white",
            "linecolor": "white",
            "ticks": ""
           }
          },
          "title": {
           "x": 0.05
          },
          "xaxis": {
           "automargin": true,
           "gridcolor": "white",
           "linecolor": "white",
           "ticks": "",
           "title": {
            "standoff": 15
           },
           "zerolinecolor": "white",
           "zerolinewidth": 2
          },
          "yaxis": {
           "automargin": true,
           "gridcolor": "white",
           "linecolor": "white",
           "ticks": "",
           "title": {
            "standoff": 15
           },
           "zerolinecolor": "white",
           "zerolinewidth": 2
          }
         }
        },
        "title": {
         "text": "final_PGD_accuracy by Strategy and Size"
        },
        "width": 600,
        "xaxis": {
         "gridcolor": "lightgray",
         "showgrid": true,
         "title": {
          "text": "Size"
         },
         "type": "log"
        },
        "yaxis": {
         "gridcolor": "lightgray",
         "showgrid": true,
         "title": {
          "text": "final_PGD_accuracy"
         }
        }
       }
      }
     },
     "metadata": {},
     "output_type": "display_data"
    },
    {
     "data": {
      "application/vnd.plotly.v1+json": {
       "config": {
        "plotlyServerURL": "https://plot.ly"
       },
       "data": [
        {
         "line": {
          "color": "rgba(0,0,0,1)",
          "dash": "dash",
          "width": 2
         },
         "mode": "lines",
         "name": "Full Dataset Average",
         "showlegend": true,
         "type": "scatter",
         "x": [
          500,
          37500
         ],
         "y": [
          null,
          null
         ]
        },
        {
         "error_y": {
          "array": [],
          "arrayminus": [],
          "symmetric": false,
          "type": "data"
         },
         "line": {
          "color": "rgba(0,0,0,1)"
         },
         "mode": "lines+markers",
         "name": "full",
         "showlegend": false,
         "type": "scatter",
         "x": [],
         "y": []
        },
        {
         "error_y": {
          "array": [
           3.079091984650886,
           1.7461480176617319,
           4.548788105206631,
           3.5941960979275094,
           0.7926046842354639,
           0.5905804215018741,
           0.6232926422197934,
           0.2677553433715201
          ],
          "arrayminus": [
           3.079091984650886,
           1.7461480176617319,
           4.548788105206631,
           3.5941960979275094,
           0.7926046842354639,
           0.5905804215018741,
           0.6232926422197934,
           0.2677553433715201
          ],
          "symmetric": false,
          "type": "data"
         },
         "line": {
          "color": "rgba(255,161,90,1)"
         },
         "mode": "lines+markers",
         "name": "uncertainty",
         "type": "scatter",
         "x": [
          500,
          2500,
          5000,
          7500,
          10000,
          12500,
          25000,
          37500
         ],
         "y": [
          80.07666666666667,
          59.19,
          33.72666666666667,
          39.406666666666666,
          40.35,
          44.02666666666667,
          52.67666666666667,
          58.96
         ]
        },
        {
         "error_y": {
          "array": [
           1.0635771297227743,
           1.6136565155265665,
           0.636788033656413,
           0.8352015450304989,
           0.7911801448671472,
           0.47042396383404395,
           0.6790158791820198,
           0.2766772703638658
          ],
          "arrayminus": [
           1.0635771297227743,
           1.6136565155265665,
           0.636788033656413,
           0.8352015450304989,
           0.7911801448671472,
           0.47042396383404395,
           0.6790158791820198,
           0.2766772703638658
          ],
          "symmetric": false,
          "type": "data"
         },
         "line": {
          "color": "rgba(25,211,243,1)"
         },
         "mode": "lines+markers",
         "name": "random",
         "type": "scatter",
         "x": [
          500,
          2500,
          5000,
          7500,
          10000,
          12500,
          25000,
          37500
         ],
         "y": [
          85.21666666666667,
          61.723333333333336,
          52.22,
          55.02333333333333,
          51.49,
          56.29666666666666,
          57.59333333333333,
          59.25
         ]
        },
        {
         "error_y": {
          "array": [
           1.7849009631924502,
           3.6167199011996125,
           1.278800017649879,
           1.5273920573212365,
           1.8483573382193548,
           0.7419416647257366,
           0.8137714062904898,
           0.535882302540398
          ],
          "arrayminus": [
           1.7849009631924502,
           3.6167199011996125,
           1.278800017649879,
           1.5273920573212365,
           1.8483573382193548,
           0.7419416647257366,
           0.8137714062904898,
           0.535882302540398
          ],
          "symmetric": false,
          "type": "data"
         },
         "line": {
          "color": "rgba(255,102,146,1)"
         },
         "mode": "lines+markers",
         "name": "entropy",
         "type": "scatter",
         "x": [
          500,
          2500,
          5000,
          7500,
          10000,
          12500,
          25000,
          37500
         ],
         "y": [
          79.85333333333334,
          53.21333333333333,
          30.776666666666667,
          37.16,
          40.45333333333333,
          45.02,
          51.51,
          58.16
         ]
        },
        {
         "error_y": {
          "array": [
           1.6538722472742582,
           1.790295907751565,
           1.2263311274420678,
           0.5498497997283748,
           0.45150845664431866,
           0.499956408467778
          ],
          "arrayminus": [
           1.6538722472742582,
           1.790295907751565,
           1.2263311274420678,
           0.5498497997283748,
           0.45150845664431866,
           0.499956408467778
          ],
          "symmetric": false,
          "type": "data"
         },
         "line": {
          "color": "rgba(182,232,128,1)"
         },
         "mode": "lines+markers",
         "name": "attack",
         "type": "scatter",
         "x": [
          500,
          2500,
          5000,
          7500,
          10000,
          12500
         ],
         "y": [
          83.73,
          44.13999999999999,
          35.483333333333334,
          38.38333333333333,
          37.653333333333336,
          39.86000000000001
         ]
        },
        {
         "error_y": {
          "array": [
           2.8753714636612306,
           2.162700944642448,
           1.715618578576643,
           2.9539745785446434,
           1.4657085361849176,
           0.39934924130807253,
           0.6723376449532874,
           0.5251587362515585
          ],
          "arrayminus": [
           2.8753714636612306,
           2.162700944642448,
           1.715618578576643,
           2.9539745785446434,
           1.4657085361849176,
           0.39934924130807253,
           0.6723376449532874,
           0.5251587362515585
          ],
          "symmetric": false,
          "type": "data"
         },
         "line": {
          "color": "rgba(254,203,82,1)"
         },
         "mode": "lines+markers",
         "name": "margin",
         "type": "scatter",
         "x": [
          500,
          2500,
          5000,
          7500,
          10000,
          12500,
          25000,
          37500
         ],
         "y": [
          79.76666666666667,
          56.26333333333334,
          35.373333333333335,
          34.34,
          38.016666666666666,
          41.52666666666666,
          51.67666666666667,
          58.47666666666667
         ]
        }
       ],
       "layout": {
        "height": 400,
        "legend": {
         "title": {
          "text": "Active Strategy"
         }
        },
        "margin": {
         "b": 0,
         "l": 0,
         "r": 0,
         "t": 50
        },
        "paper_bgcolor": "white",
        "plot_bgcolor": "white",
        "showlegend": true,
        "template": {
         "data": {
          "bar": [
           {
            "error_x": {
             "color": "#2a3f5f"
            },
            "error_y": {
             "color": "#2a3f5f"
            },
            "marker": {
             "line": {
              "color": "#E5ECF6",
              "width": 0.5
             },
             "pattern": {
              "fillmode": "overlay",
              "size": 10,
              "solidity": 0.2
             }
            },
            "type": "bar"
           }
          ],
          "barpolar": [
           {
            "marker": {
             "line": {
              "color": "#E5ECF6",
              "width": 0.5
             },
             "pattern": {
              "fillmode": "overlay",
              "size": 10,
              "solidity": 0.2
             }
            },
            "type": "barpolar"
           }
          ],
          "carpet": [
           {
            "aaxis": {
             "endlinecolor": "#2a3f5f",
             "gridcolor": "white",
             "linecolor": "white",
             "minorgridcolor": "white",
             "startlinecolor": "#2a3f5f"
            },
            "baxis": {
             "endlinecolor": "#2a3f5f",
             "gridcolor": "white",
             "linecolor": "white",
             "minorgridcolor": "white",
             "startlinecolor": "#2a3f5f"
            },
            "type": "carpet"
           }
          ],
          "choropleth": [
           {
            "colorbar": {
             "outlinewidth": 0,
             "ticks": ""
            },
            "type": "choropleth"
           }
          ],
          "contour": [
           {
            "colorbar": {
             "outlinewidth": 0,
             "ticks": ""
            },
            "colorscale": [
             [
              0,
              "#0d0887"
             ],
             [
              0.1111111111111111,
              "#46039f"
             ],
             [
              0.2222222222222222,
              "#7201a8"
             ],
             [
              0.3333333333333333,
              "#9c179e"
             ],
             [
              0.4444444444444444,
              "#bd3786"
             ],
             [
              0.5555555555555556,
              "#d8576b"
             ],
             [
              0.6666666666666666,
              "#ed7953"
             ],
             [
              0.7777777777777778,
              "#fb9f3a"
             ],
             [
              0.8888888888888888,
              "#fdca26"
             ],
             [
              1,
              "#f0f921"
             ]
            ],
            "type": "contour"
           }
          ],
          "contourcarpet": [
           {
            "colorbar": {
             "outlinewidth": 0,
             "ticks": ""
            },
            "type": "contourcarpet"
           }
          ],
          "heatmap": [
           {
            "colorbar": {
             "outlinewidth": 0,
             "ticks": ""
            },
            "colorscale": [
             [
              0,
              "#0d0887"
             ],
             [
              0.1111111111111111,
              "#46039f"
             ],
             [
              0.2222222222222222,
              "#7201a8"
             ],
             [
              0.3333333333333333,
              "#9c179e"
             ],
             [
              0.4444444444444444,
              "#bd3786"
             ],
             [
              0.5555555555555556,
              "#d8576b"
             ],
             [
              0.6666666666666666,
              "#ed7953"
             ],
             [
              0.7777777777777778,
              "#fb9f3a"
             ],
             [
              0.8888888888888888,
              "#fdca26"
             ],
             [
              1,
              "#f0f921"
             ]
            ],
            "type": "heatmap"
           }
          ],
          "heatmapgl": [
           {
            "colorbar": {
             "outlinewidth": 0,
             "ticks": ""
            },
            "colorscale": [
             [
              0,
              "#0d0887"
             ],
             [
              0.1111111111111111,
              "#46039f"
             ],
             [
              0.2222222222222222,
              "#7201a8"
             ],
             [
              0.3333333333333333,
              "#9c179e"
             ],
             [
              0.4444444444444444,
              "#bd3786"
             ],
             [
              0.5555555555555556,
              "#d8576b"
             ],
             [
              0.6666666666666666,
              "#ed7953"
             ],
             [
              0.7777777777777778,
              "#fb9f3a"
             ],
             [
              0.8888888888888888,
              "#fdca26"
             ],
             [
              1,
              "#f0f921"
             ]
            ],
            "type": "heatmapgl"
           }
          ],
          "histogram": [
           {
            "marker": {
             "pattern": {
              "fillmode": "overlay",
              "size": 10,
              "solidity": 0.2
             }
            },
            "type": "histogram"
           }
          ],
          "histogram2d": [
           {
            "colorbar": {
             "outlinewidth": 0,
             "ticks": ""
            },
            "colorscale": [
             [
              0,
              "#0d0887"
             ],
             [
              0.1111111111111111,
              "#46039f"
             ],
             [
              0.2222222222222222,
              "#7201a8"
             ],
             [
              0.3333333333333333,
              "#9c179e"
             ],
             [
              0.4444444444444444,
              "#bd3786"
             ],
             [
              0.5555555555555556,
              "#d8576b"
             ],
             [
              0.6666666666666666,
              "#ed7953"
             ],
             [
              0.7777777777777778,
              "#fb9f3a"
             ],
             [
              0.8888888888888888,
              "#fdca26"
             ],
             [
              1,
              "#f0f921"
             ]
            ],
            "type": "histogram2d"
           }
          ],
          "histogram2dcontour": [
           {
            "colorbar": {
             "outlinewidth": 0,
             "ticks": ""
            },
            "colorscale": [
             [
              0,
              "#0d0887"
             ],
             [
              0.1111111111111111,
              "#46039f"
             ],
             [
              0.2222222222222222,
              "#7201a8"
             ],
             [
              0.3333333333333333,
              "#9c179e"
             ],
             [
              0.4444444444444444,
              "#bd3786"
             ],
             [
              0.5555555555555556,
              "#d8576b"
             ],
             [
              0.6666666666666666,
              "#ed7953"
             ],
             [
              0.7777777777777778,
              "#fb9f3a"
             ],
             [
              0.8888888888888888,
              "#fdca26"
             ],
             [
              1,
              "#f0f921"
             ]
            ],
            "type": "histogram2dcontour"
           }
          ],
          "mesh3d": [
           {
            "colorbar": {
             "outlinewidth": 0,
             "ticks": ""
            },
            "type": "mesh3d"
           }
          ],
          "parcoords": [
           {
            "line": {
             "colorbar": {
              "outlinewidth": 0,
              "ticks": ""
             }
            },
            "type": "parcoords"
           }
          ],
          "pie": [
           {
            "automargin": true,
            "type": "pie"
           }
          ],
          "scatter": [
           {
            "fillpattern": {
             "fillmode": "overlay",
             "size": 10,
             "solidity": 0.2
            },
            "type": "scatter"
           }
          ],
          "scatter3d": [
           {
            "line": {
             "colorbar": {
              "outlinewidth": 0,
              "ticks": ""
             }
            },
            "marker": {
             "colorbar": {
              "outlinewidth": 0,
              "ticks": ""
             }
            },
            "type": "scatter3d"
           }
          ],
          "scattercarpet": [
           {
            "marker": {
             "colorbar": {
              "outlinewidth": 0,
              "ticks": ""
             }
            },
            "type": "scattercarpet"
           }
          ],
          "scattergeo": [
           {
            "marker": {
             "colorbar": {
              "outlinewidth": 0,
              "ticks": ""
             }
            },
            "type": "scattergeo"
           }
          ],
          "scattergl": [
           {
            "marker": {
             "colorbar": {
              "outlinewidth": 0,
              "ticks": ""
             }
            },
            "type": "scattergl"
           }
          ],
          "scattermapbox": [
           {
            "marker": {
             "colorbar": {
              "outlinewidth": 0,
              "ticks": ""
             }
            },
            "type": "scattermapbox"
           }
          ],
          "scatterpolar": [
           {
            "marker": {
             "colorbar": {
              "outlinewidth": 0,
              "ticks": ""
             }
            },
            "type": "scatterpolar"
           }
          ],
          "scatterpolargl": [
           {
            "marker": {
             "colorbar": {
              "outlinewidth": 0,
              "ticks": ""
             }
            },
            "type": "scatterpolargl"
           }
          ],
          "scatterternary": [
           {
            "marker": {
             "colorbar": {
              "outlinewidth": 0,
              "ticks": ""
             }
            },
            "type": "scatterternary"
           }
          ],
          "surface": [
           {
            "colorbar": {
             "outlinewidth": 0,
             "ticks": ""
            },
            "colorscale": [
             [
              0,
              "#0d0887"
             ],
             [
              0.1111111111111111,
              "#46039f"
             ],
             [
              0.2222222222222222,
              "#7201a8"
             ],
             [
              0.3333333333333333,
              "#9c179e"
             ],
             [
              0.4444444444444444,
              "#bd3786"
             ],
             [
              0.5555555555555556,
              "#d8576b"
             ],
             [
              0.6666666666666666,
              "#ed7953"
             ],
             [
              0.7777777777777778,
              "#fb9f3a"
             ],
             [
              0.8888888888888888,
              "#fdca26"
             ],
             [
              1,
              "#f0f921"
             ]
            ],
            "type": "surface"
           }
          ],
          "table": [
           {
            "cells": {
             "fill": {
              "color": "#EBF0F8"
             },
             "line": {
              "color": "white"
             }
            },
            "header": {
             "fill": {
              "color": "#C8D4E3"
             },
             "line": {
              "color": "white"
             }
            },
            "type": "table"
           }
          ]
         },
         "layout": {
          "annotationdefaults": {
           "arrowcolor": "#2a3f5f",
           "arrowhead": 0,
           "arrowwidth": 1
          },
          "autotypenumbers": "strict",
          "coloraxis": {
           "colorbar": {
            "outlinewidth": 0,
            "ticks": ""
           }
          },
          "colorscale": {
           "diverging": [
            [
             0,
             "#8e0152"
            ],
            [
             0.1,
             "#c51b7d"
            ],
            [
             0.2,
             "#de77ae"
            ],
            [
             0.3,
             "#f1b6da"
            ],
            [
             0.4,
             "#fde0ef"
            ],
            [
             0.5,
             "#f7f7f7"
            ],
            [
             0.6,
             "#e6f5d0"
            ],
            [
             0.7,
             "#b8e186"
            ],
            [
             0.8,
             "#7fbc41"
            ],
            [
             0.9,
             "#4d9221"
            ],
            [
             1,
             "#276419"
            ]
           ],
           "sequential": [
            [
             0,
             "#0d0887"
            ],
            [
             0.1111111111111111,
             "#46039f"
            ],
            [
             0.2222222222222222,
             "#7201a8"
            ],
            [
             0.3333333333333333,
             "#9c179e"
            ],
            [
             0.4444444444444444,
             "#bd3786"
            ],
            [
             0.5555555555555556,
             "#d8576b"
            ],
            [
             0.6666666666666666,
             "#ed7953"
            ],
            [
             0.7777777777777778,
             "#fb9f3a"
            ],
            [
             0.8888888888888888,
             "#fdca26"
            ],
            [
             1,
             "#f0f921"
            ]
           ],
           "sequentialminus": [
            [
             0,
             "#0d0887"
            ],
            [
             0.1111111111111111,
             "#46039f"
            ],
            [
             0.2222222222222222,
             "#7201a8"
            ],
            [
             0.3333333333333333,
             "#9c179e"
            ],
            [
             0.4444444444444444,
             "#bd3786"
            ],
            [
             0.5555555555555556,
             "#d8576b"
            ],
            [
             0.6666666666666666,
             "#ed7953"
            ],
            [
             0.7777777777777778,
             "#fb9f3a"
            ],
            [
             0.8888888888888888,
             "#fdca26"
            ],
            [
             1,
             "#f0f921"
            ]
           ]
          },
          "colorway": [
           "#636efa",
           "#EF553B",
           "#00cc96",
           "#ab63fa",
           "#FFA15A",
           "#19d3f3",
           "#FF6692",
           "#B6E880",
           "#FF97FF",
           "#FECB52"
          ],
          "font": {
           "color": "#2a3f5f"
          },
          "geo": {
           "bgcolor": "white",
           "lakecolor": "white",
           "landcolor": "#E5ECF6",
           "showlakes": true,
           "showland": true,
           "subunitcolor": "white"
          },
          "hoverlabel": {
           "align": "left"
          },
          "hovermode": "closest",
          "mapbox": {
           "style": "light"
          },
          "paper_bgcolor": "white",
          "plot_bgcolor": "#E5ECF6",
          "polar": {
           "angularaxis": {
            "gridcolor": "white",
            "linecolor": "white",
            "ticks": ""
           },
           "bgcolor": "#E5ECF6",
           "radialaxis": {
            "gridcolor": "white",
            "linecolor": "white",
            "ticks": ""
           }
          },
          "scene": {
           "xaxis": {
            "backgroundcolor": "#E5ECF6",
            "gridcolor": "white",
            "gridwidth": 2,
            "linecolor": "white",
            "showbackground": true,
            "ticks": "",
            "zerolinecolor": "white"
           },
           "yaxis": {
            "backgroundcolor": "#E5ECF6",
            "gridcolor": "white",
            "gridwidth": 2,
            "linecolor": "white",
            "showbackground": true,
            "ticks": "",
            "zerolinecolor": "white"
           },
           "zaxis": {
            "backgroundcolor": "#E5ECF6",
            "gridcolor": "white",
            "gridwidth": 2,
            "linecolor": "white",
            "showbackground": true,
            "ticks": "",
            "zerolinecolor": "white"
           }
          },
          "shapedefaults": {
           "line": {
            "color": "#2a3f5f"
           }
          },
          "ternary": {
           "aaxis": {
            "gridcolor": "white",
            "linecolor": "white",
            "ticks": ""
           },
           "baxis": {
            "gridcolor": "white",
            "linecolor": "white",
            "ticks": ""
           },
           "bgcolor": "#E5ECF6",
           "caxis": {
            "gridcolor": "white",
            "linecolor": "white",
            "ticks": ""
           }
          },
          "title": {
           "x": 0.05
          },
          "xaxis": {
           "automargin": true,
           "gridcolor": "white",
           "linecolor": "white",
           "ticks": "",
           "title": {
            "standoff": 15
           },
           "zerolinecolor": "white",
           "zerolinewidth": 2
          },
          "yaxis": {
           "automargin": true,
           "gridcolor": "white",
           "linecolor": "white",
           "ticks": "",
           "title": {
            "standoff": 15
           },
           "zerolinecolor": "white",
           "zerolinewidth": 2
          }
         }
        },
        "title": {
         "text": "final_clean_accuracy by Strategy and Size"
        },
        "width": 600,
        "xaxis": {
         "gridcolor": "lightgray",
         "showgrid": true,
         "title": {
          "text": "Size"
         },
         "type": "log"
        },
        "yaxis": {
         "gridcolor": "lightgray",
         "showgrid": true,
         "title": {
          "text": "final_clean_accuracy"
         }
        }
       }
      }
     },
     "metadata": {},
     "output_type": "display_data"
    }
   ],
   "source": [
    "import plotly.graph_objects as go\n",
    "import pandas as pd\n",
    "\n",
    "# Load and prepare the data\n",
    "new_data = pd.read_csv('results/means.csv', skiprows=2)\n",
    "new_data.columns = ['active_strategy', 'size', 'final_clean_accuracy',\n",
    "                    'final_clean_accuracy_std', 'final_PGD_accuracy', 'final_PGD_accuracy_std']\n",
    "new_data['size'] = new_data['size'].astype(int)\n",
    "\n",
    "\n",
    "\n",
    "\n",
    "for performance in ['PGD_accuracy', 'clean_accuracy' ]:\n",
    "# performance = 'final_PGD_accuracy' \n",
    "# # performance = 'final_clean_accuracy'\n",
    "    fig = go.Figure()\n",
    "\n",
    "    # fig.add_trace(go.Scatter(x=[0, 50000], y=[ init_means_stds['init_'+performance]['mean'][0], init_means_stds['init_'+performance]['mean'][0] ],\n",
    "    #         mode='lines', line=dict(color='rgba({},{},{},1)'.format(0,0,204), width=2, dash='dot'),\n",
    "    #                     name='Init Accuracy', showlegend=True))\n",
    "\n",
    "\n",
    "    performance = 'final_'+performance\n",
    "    performance_std = performance + '_std'  # Corresponding standard deviation column\n",
    "\n",
    "    strategies = {\n",
    "        #'EEneuralcbpside_v5': {'color': [255, 255, 0], 'label': 'EEneuralcbpside_v5'},  # Red\n",
    "        'full': {'color': [0, 0, 0], 'label': 'full'},  # Red\n",
    "        'uncertainty': {'color': [255, 161, 90], 'label':'uncertainty'},                    # Yellow\n",
    "        'random': {'color': [25, 211, 243], 'label':'random'},                    # Cyan\n",
    "        'entropy': {'color': [255, 102, 146], 'label':'entropy'},                  # Magenta\n",
    "        'attack': {'color': [182, 232, 128], 'label':'attack'},                   # Orange\n",
    "        'margin': {'color': [254, 203, 82], 'label':'margin'},\n",
    "    }\n",
    "\n",
    "\n",
    "    z_value = 2.576\n",
    "    n = 5\n",
    "\n",
    "    # Add a line for each strategy\n",
    "    for strategy, v in strategies.items():\n",
    "        r,g,b = v['color']\n",
    "        c = 'rgba({},{},{},1)'.format(r,g,b)\n",
    "\n",
    "        # Add a horizontal line for the 'full' strategy\n",
    "        if strategy == 'full':\n",
    "            full_data = new_data[new_data['active_strategy'] == 'full']\n",
    "            # Calculate the mean PGD accuracy for the 'full' strategy\n",
    "            full_mean_accuracy = full_data[performance].mean()\n",
    "            fig.add_trace(go.Scatter(x=[min(new_data['size']), max(new_data['size'])], y=[full_mean_accuracy, full_mean_accuracy],\n",
    "                                    mode='lines', line=dict(color=c, width=2, dash='dash'),\n",
    "                                    name='Full Dataset Average', showlegend=True))\n",
    "            \n",
    "            strategy_data = new_data[new_data['active_strategy'] == strategy]\n",
    "            fig.add_trace(go.Scatter( x=strategy_data['size'],  y=strategy_data[performance],  mode='lines+markers',\n",
    "                            name=strategy, line=dict(color=c  ) ,\n",
    "                            error_y=dict(\n",
    "                            type='data',  symmetric=False,  \n",
    "                            array=z_value * strategy_data[performance_std] / n,  \n",
    "                            arrayminus=z_value * strategy_data[performance_std] / n   ), showlegend=False\n",
    "                                ))\n",
    "\n",
    "            \n",
    "        else:\n",
    "            strategy_data = new_data[new_data['active_strategy'] == strategy]\n",
    "            fig.add_trace(go.Scatter(x=strategy_data['size'], y=strategy_data[performance], line=dict(color=c),\n",
    "                                    error_y=dict(\n",
    "                                        type='data',  symmetric=False,  \n",
    "                                        array=z_value * strategy_data[performance_std] / n,  \n",
    "                                        arrayminus=z_value * strategy_data[performance_std] / n   ),\n",
    "                                    mode='lines+markers', name=strategy))\n",
    "\n",
    "\n",
    "\n",
    "\n",
    "    # Update layout and display the plot\n",
    "    fig.update_layout(\n",
    "        width=600,  # Adjusted for two subplots\n",
    "        height=400,\n",
    "        plot_bgcolor='white',\n",
    "        paper_bgcolor='white',\n",
    "        margin=dict(l=0, r=0, t=50, b=0),\n",
    "        # title=\"Box Plot of Datasets by Cases and Columns\",\n",
    "        title='{} by Strategy and Size'.format(performance),\n",
    "        xaxis_title='Size',\n",
    "        yaxis_title=performance,\n",
    "        legend_title='Active Strategy',\n",
    "        # yaxis_range=[min(new_data[performance]) - 2, max(new_data[performance]) + 2],\n",
    "        showlegend=True,\n",
    "        xaxis=dict(\n",
    "            type='log',\n",
    "            showgrid=True,        # Enable the grid\n",
    "            gridcolor='lightgray' # Set grid line color\n",
    "        ),\n",
    "        yaxis=dict(\n",
    "            showgrid=True,        # Enable the grid\n",
    "            gridcolor='lightgray', # Set grid line color\n",
    "            #range=[75,94] if 'clean' in performance else [45,65]\n",
    "        )\n",
    "        )\n",
    "\n",
    "    # Display the figure\n",
    "    fig.show()\n",
    "    # fig.write_image(\"./figures/results_{}_{}_{}_{}_{}.pdf\".format(performance, data, model, n_rounds, nb_epochs) )\n"
   ]
  }
 ],
 "metadata": {
  "kernelspec": {
   "display_name": ".venv",
   "language": "python",
   "name": "python3"
  },
  "language_info": {
   "codemirror_mode": {
    "name": "ipython",
    "version": 3
   },
   "file_extension": ".py",
   "mimetype": "text/x-python",
   "name": "python",
   "nbconvert_exporter": "python",
   "pygments_lexer": "ipython3",
   "version": "3.8.10"
  }
 },
 "nbformat": 4,
 "nbformat_minor": 2
}
