{
 "cells": [
  {
   "cell_type": "code",
   "execution_count": 33,
   "metadata": {},
   "outputs": [
    {
     "name": "stdout",
     "output_type": "stream",
     "text": [
      "serialized_values CLIP-convnext_base_w-laion_aesthetic-s13B-b82K_uc-merced-land-use-dataset_TRADES_v2\n",
      "./configs/ full_fine_tuning_50epochs_paper_final2 CLIP-convnext_base_w-laion_aesthetic-s13B-b82K_uc-merced-land-use-dataset_TRADES_v2\n",
      "/Users/maximeheuillet/Desktop/robust_training/configs/HPO_results/full_fine_tuning_50epochs_paper_final2/CLIP-convnext_base_w-laion_aesthetic-s13B-b82K_uc-merced-land-use-dataset_TRADES_v2.yaml\n",
      "serialized_values CLIP-convnext_base_w-laion2B-s13B-b82K_uc-merced-land-use-dataset_TRADES_v2\n",
      "./configs/ full_fine_tuning_50epochs_paper_final2 CLIP-convnext_base_w-laion2B-s13B-b82K_uc-merced-land-use-dataset_TRADES_v2\n",
      "/Users/maximeheuillet/Desktop/robust_training/configs/HPO_results/full_fine_tuning_50epochs_paper_final2/CLIP-convnext_base_w-laion2B-s13B-b82K_uc-merced-land-use-dataset_TRADES_v2.yaml\n",
      "serialized_values deit_small_patch16_224.fb_in1k_uc-merced-land-use-dataset_TRADES_v2\n",
      "./configs/ full_fine_tuning_50epochs_paper_final2 deit_small_patch16_224.fb_in1k_uc-merced-land-use-dataset_TRADES_v2\n",
      "/Users/maximeheuillet/Desktop/robust_training/configs/HPO_results/full_fine_tuning_50epochs_paper_final2/deit_small_patch16_224.fb_in1k_uc-merced-land-use-dataset_TRADES_v2.yaml\n",
      "serialized_values robust_resnet50_uc-merced-land-use-dataset_TRADES_v2\n",
      "./configs/ full_fine_tuning_50epochs_paper_final2 robust_resnet50_uc-merced-land-use-dataset_TRADES_v2\n",
      "/Users/maximeheuillet/Desktop/robust_training/configs/HPO_results/full_fine_tuning_50epochs_paper_final2/robust_resnet50_uc-merced-land-use-dataset_TRADES_v2.yaml\n",
      "serialized_values vit_small_patch16_224.augreg_in21k_uc-merced-land-use-dataset_TRADES_v2\n",
      "./configs/ full_fine_tuning_50epochs_paper_final2 vit_small_patch16_224.augreg_in21k_uc-merced-land-use-dataset_TRADES_v2\n",
      "/Users/maximeheuillet/Desktop/robust_training/configs/HPO_results/full_fine_tuning_50epochs_paper_final2/vit_small_patch16_224.augreg_in21k_uc-merced-land-use-dataset_TRADES_v2.yaml\n",
      "serialized_values convnext_base.fb_in1k_uc-merced-land-use-dataset_TRADES_v2\n",
      "./configs/ full_fine_tuning_50epochs_paper_final2 convnext_base.fb_in1k_uc-merced-land-use-dataset_TRADES_v2\n",
      "/Users/maximeheuillet/Desktop/robust_training/configs/HPO_results/full_fine_tuning_50epochs_paper_final2/convnext_base.fb_in1k_uc-merced-land-use-dataset_TRADES_v2.yaml\n",
      "serialized_values resnet50.a1_in1k_uc-merced-land-use-dataset_TRADES_v2\n",
      "./configs/ full_fine_tuning_50epochs_paper_final2 resnet50.a1_in1k_uc-merced-land-use-dataset_TRADES_v2\n",
      "/Users/maximeheuillet/Desktop/robust_training/configs/HPO_results/full_fine_tuning_50epochs_paper_final2/resnet50.a1_in1k_uc-merced-land-use-dataset_TRADES_v2.yaml\n",
      "serialized_values robust_vit_base_patch16_224_uc-merced-land-use-dataset_TRADES_v2\n",
      "./configs/ full_fine_tuning_50epochs_paper_final2 robust_vit_base_patch16_224_uc-merced-land-use-dataset_TRADES_v2\n",
      "/Users/maximeheuillet/Desktop/robust_training/configs/HPO_results/full_fine_tuning_50epochs_paper_final2/robust_vit_base_patch16_224_uc-merced-land-use-dataset_TRADES_v2.yaml\n",
      "serialized_values vit_base_patch16_224.mae_uc-merced-land-use-dataset_TRADES_v2\n",
      "./configs/ full_fine_tuning_50epochs_paper_final2 vit_base_patch16_224.mae_uc-merced-land-use-dataset_TRADES_v2\n",
      "/Users/maximeheuillet/Desktop/robust_training/configs/HPO_results/full_fine_tuning_50epochs_paper_final2/vit_base_patch16_224.mae_uc-merced-land-use-dataset_TRADES_v2.yaml\n",
      "serialized_values vit_small_patch16_224.dino_uc-merced-land-use-dataset_TRADES_v2\n",
      "./configs/ full_fine_tuning_50epochs_paper_final2 vit_small_patch16_224.dino_uc-merced-land-use-dataset_TRADES_v2\n",
      "/Users/maximeheuillet/Desktop/robust_training/configs/HPO_results/full_fine_tuning_50epochs_paper_final2/vit_small_patch16_224.dino_uc-merced-land-use-dataset_TRADES_v2.yaml\n",
      "serialized_values convnext_base.fb_in22k_uc-merced-land-use-dataset_TRADES_v2\n",
      "./configs/ full_fine_tuning_50epochs_paper_final2 convnext_base.fb_in22k_uc-merced-land-use-dataset_TRADES_v2\n",
      "/Users/maximeheuillet/Desktop/robust_training/configs/HPO_results/full_fine_tuning_50epochs_paper_final2/convnext_base.fb_in22k_uc-merced-land-use-dataset_TRADES_v2.yaml\n",
      "serialized_values robust_convnext_base_uc-merced-land-use-dataset_TRADES_v2\n",
      "./configs/ full_fine_tuning_50epochs_paper_final2 robust_convnext_base_uc-merced-land-use-dataset_TRADES_v2\n",
      "/Users/maximeheuillet/Desktop/robust_training/configs/HPO_results/full_fine_tuning_50epochs_paper_final2/robust_convnext_base_uc-merced-land-use-dataset_TRADES_v2.yaml\n",
      "serialized_values vit_base_patch16_224.augreg_in1k_uc-merced-land-use-dataset_TRADES_v2\n",
      "./configs/ full_fine_tuning_50epochs_paper_final2 vit_base_patch16_224.augreg_in1k_uc-merced-land-use-dataset_TRADES_v2\n",
      "/Users/maximeheuillet/Desktop/robust_training/configs/HPO_results/full_fine_tuning_50epochs_paper_final2/vit_base_patch16_224.augreg_in1k_uc-merced-land-use-dataset_TRADES_v2.yaml\n",
      "serialized_values vit_base_patch16_224.augreg_in21k_uc-merced-land-use-dataset_TRADES_v2\n",
      "./configs/ full_fine_tuning_50epochs_paper_final2 vit_base_patch16_224.augreg_in21k_uc-merced-land-use-dataset_TRADES_v2\n",
      "/Users/maximeheuillet/Desktop/robust_training/configs/HPO_results/full_fine_tuning_50epochs_paper_final2/vit_base_patch16_224.augreg_in21k_uc-merced-land-use-dataset_TRADES_v2.yaml\n",
      "serialized_values vit_base_patch16_clip_224.laion2b_uc-merced-land-use-dataset_TRADES_v2\n",
      "./configs/ full_fine_tuning_50epochs_paper_final2 vit_base_patch16_clip_224.laion2b_uc-merced-land-use-dataset_TRADES_v2\n",
      "/Users/maximeheuillet/Desktop/robust_training/configs/HPO_results/full_fine_tuning_50epochs_paper_final2/vit_base_patch16_clip_224.laion2b_uc-merced-land-use-dataset_TRADES_v2.yaml\n",
      "serialized_values convnext_tiny.fb_in1k_uc-merced-land-use-dataset_TRADES_v2\n",
      "./configs/ full_fine_tuning_50epochs_paper_final2 convnext_tiny.fb_in1k_uc-merced-land-use-dataset_TRADES_v2\n",
      "/Users/maximeheuillet/Desktop/robust_training/configs/HPO_results/full_fine_tuning_50epochs_paper_final2/convnext_tiny.fb_in1k_uc-merced-land-use-dataset_TRADES_v2.yaml\n",
      "serialized_values robust_convnext_tiny_uc-merced-land-use-dataset_TRADES_v2\n",
      "./configs/ full_fine_tuning_50epochs_paper_final2 robust_convnext_tiny_uc-merced-land-use-dataset_TRADES_v2\n",
      "/Users/maximeheuillet/Desktop/robust_training/configs/HPO_results/full_fine_tuning_50epochs_paper_final2/robust_convnext_tiny_uc-merced-land-use-dataset_TRADES_v2.yaml\n",
      "serialized_values robust_deit_small_patch16_224_uc-merced-land-use-dataset_TRADES_v2\n",
      "./configs/ full_fine_tuning_50epochs_paper_final2 robust_deit_small_patch16_224_uc-merced-land-use-dataset_TRADES_v2\n",
      "/Users/maximeheuillet/Desktop/robust_training/configs/HPO_results/full_fine_tuning_50epochs_paper_final2/robust_deit_small_patch16_224_uc-merced-land-use-dataset_TRADES_v2.yaml\n",
      "serialized_values vit_small_patch16_224.augreg_in1k_uc-merced-land-use-dataset_TRADES_v2\n",
      "./configs/ full_fine_tuning_50epochs_paper_final2 vit_small_patch16_224.augreg_in1k_uc-merced-land-use-dataset_TRADES_v2\n",
      "/Users/maximeheuillet/Desktop/robust_training/configs/HPO_results/full_fine_tuning_50epochs_paper_final2/vit_small_patch16_224.augreg_in1k_uc-merced-land-use-dataset_TRADES_v2.yaml\n",
      "serialized_values convnext_tiny.fb_in22k_uc-merced-land-use-dataset_TRADES_v2\n",
      "./configs/ full_fine_tuning_50epochs_paper_final2 convnext_tiny.fb_in22k_uc-merced-land-use-dataset_TRADES_v2\n",
      "/Users/maximeheuillet/Desktop/robust_training/configs/HPO_results/full_fine_tuning_50epochs_paper_final2/convnext_tiny.fb_in22k_uc-merced-land-use-dataset_TRADES_v2.yaml\n",
      "serialized_values vit_base_patch16_clip_224.laion2b_ft_in1k_uc-merced-land-use-dataset_TRADES_v2\n",
      "./configs/ full_fine_tuning_50epochs_paper_final2 vit_base_patch16_clip_224.laion2b_ft_in1k_uc-merced-land-use-dataset_TRADES_v2\n",
      "/Users/maximeheuillet/Desktop/robust_training/configs/HPO_results/full_fine_tuning_50epochs_paper_final2/vit_base_patch16_clip_224.laion2b_ft_in1k_uc-merced-land-use-dataset_TRADES_v2.yaml\n",
      "serialized_values vit_base_patch16_224.augreg_in21k_ft_in1k_uc-merced-land-use-dataset_TRADES_v2\n",
      "./configs/ full_fine_tuning_50epochs_paper_final2 vit_base_patch16_224.augreg_in21k_ft_in1k_uc-merced-land-use-dataset_TRADES_v2\n",
      "/Users/maximeheuillet/Desktop/robust_training/configs/HPO_results/full_fine_tuning_50epochs_paper_final2/vit_base_patch16_224.augreg_in21k_ft_in1k_uc-merced-land-use-dataset_TRADES_v2.yaml\n",
      "serialized_values vit_small_patch16_224.augreg_in21k_ft_in1k_uc-merced-land-use-dataset_TRADES_v2\n",
      "./configs/ full_fine_tuning_50epochs_paper_final2 vit_small_patch16_224.augreg_in21k_ft_in1k_uc-merced-land-use-dataset_TRADES_v2\n",
      "/Users/maximeheuillet/Desktop/robust_training/configs/HPO_results/full_fine_tuning_50epochs_paper_final2/vit_small_patch16_224.augreg_in21k_ft_in1k_uc-merced-land-use-dataset_TRADES_v2.yaml\n",
      "serialized_values eva02_base_patch14_224.mim_in22k_uc-merced-land-use-dataset_TRADES_v2\n",
      "./configs/ full_fine_tuning_50epochs_paper_final2 eva02_base_patch14_224.mim_in22k_uc-merced-land-use-dataset_TRADES_v2\n",
      "/Users/maximeheuillet/Desktop/robust_training/configs/HPO_results/full_fine_tuning_50epochs_paper_final2/eva02_base_patch14_224.mim_in22k_uc-merced-land-use-dataset_TRADES_v2.yaml\n",
      "serialized_values eva02_tiny_patch14_224.mim_in22k_uc-merced-land-use-dataset_TRADES_v2\n",
      "./configs/ full_fine_tuning_50epochs_paper_final2 eva02_tiny_patch14_224.mim_in22k_uc-merced-land-use-dataset_TRADES_v2\n",
      "/Users/maximeheuillet/Desktop/robust_training/configs/HPO_results/full_fine_tuning_50epochs_paper_final2/eva02_tiny_patch14_224.mim_in22k_uc-merced-land-use-dataset_TRADES_v2.yaml\n",
      "serialized_values swin_base_patch4_window7_224.ms_in22k_ft_in1k_uc-merced-land-use-dataset_TRADES_v2\n",
      "./configs/ full_fine_tuning_50epochs_paper_final2 swin_base_patch4_window7_224.ms_in22k_ft_in1k_uc-merced-land-use-dataset_TRADES_v2\n",
      "/Users/maximeheuillet/Desktop/robust_training/configs/HPO_results/full_fine_tuning_50epochs_paper_final2/swin_base_patch4_window7_224.ms_in22k_ft_in1k_uc-merced-land-use-dataset_TRADES_v2.yaml\n",
      "serialized_values swin_tiny_patch4_window7_224.ms_in1k_uc-merced-land-use-dataset_TRADES_v2\n",
      "./configs/ full_fine_tuning_50epochs_paper_final2 swin_tiny_patch4_window7_224.ms_in1k_uc-merced-land-use-dataset_TRADES_v2\n",
      "/Users/maximeheuillet/Desktop/robust_training/configs/HPO_results/full_fine_tuning_50epochs_paper_final2/swin_tiny_patch4_window7_224.ms_in1k_uc-merced-land-use-dataset_TRADES_v2.yaml\n",
      "serialized_values convnext_base.clip_laion2b_augreg_ft_in12k_in1k_uc-merced-land-use-dataset_TRADES_v2\n",
      "./configs/ full_fine_tuning_50epochs_paper_final2 convnext_base.clip_laion2b_augreg_ft_in12k_in1k_uc-merced-land-use-dataset_TRADES_v2\n",
      "/Users/maximeheuillet/Desktop/robust_training/configs/HPO_results/full_fine_tuning_50epochs_paper_final2/convnext_base.clip_laion2b_augreg_ft_in12k_in1k_uc-merced-land-use-dataset_TRADES_v2.yaml\n",
      "serialized_values convnext_base.fb_in22k_ft_in1k_uc-merced-land-use-dataset_TRADES_v2\n",
      "./configs/ full_fine_tuning_50epochs_paper_final2 convnext_base.fb_in22k_ft_in1k_uc-merced-land-use-dataset_TRADES_v2\n",
      "/Users/maximeheuillet/Desktop/robust_training/configs/HPO_results/full_fine_tuning_50epochs_paper_final2/convnext_base.fb_in22k_ft_in1k_uc-merced-land-use-dataset_TRADES_v2.yaml\n",
      "serialized_values convnext_tiny.fb_in22k_ft_in1k_uc-merced-land-use-dataset_TRADES_v2\n",
      "./configs/ full_fine_tuning_50epochs_paper_final2 convnext_tiny.fb_in22k_ft_in1k_uc-merced-land-use-dataset_TRADES_v2\n",
      "/Users/maximeheuillet/Desktop/robust_training/configs/HPO_results/full_fine_tuning_50epochs_paper_final2/convnext_tiny.fb_in22k_ft_in1k_uc-merced-land-use-dataset_TRADES_v2.yaml\n",
      "serialized_values coatnet_0_rw_224.sw_in1k_uc-merced-land-use-dataset_TRADES_v2\n",
      "./configs/ full_fine_tuning_50epochs_paper_final2 coatnet_0_rw_224.sw_in1k_uc-merced-land-use-dataset_TRADES_v2\n",
      "/Users/maximeheuillet/Desktop/robust_training/configs/HPO_results/full_fine_tuning_50epochs_paper_final2/coatnet_0_rw_224.sw_in1k_uc-merced-land-use-dataset_TRADES_v2.yaml\n",
      "serialized_values coatnet_2_rw_224.sw_in12k_ft_in1k_uc-merced-land-use-dataset_TRADES_v2\n",
      "./configs/ full_fine_tuning_50epochs_paper_final2 coatnet_2_rw_224.sw_in12k_ft_in1k_uc-merced-land-use-dataset_TRADES_v2\n",
      "/Users/maximeheuillet/Desktop/robust_training/configs/HPO_results/full_fine_tuning_50epochs_paper_final2/coatnet_2_rw_224.sw_in12k_ft_in1k_uc-merced-land-use-dataset_TRADES_v2.yaml\n",
      "serialized_values coatnet_2_rw_224.sw_in12k_uc-merced-land-use-dataset_TRADES_v2\n",
      "./configs/ full_fine_tuning_50epochs_paper_final2 coatnet_2_rw_224.sw_in12k_uc-merced-land-use-dataset_TRADES_v2\n",
      "/Users/maximeheuillet/Desktop/robust_training/configs/HPO_results/full_fine_tuning_50epochs_paper_final2/coatnet_2_rw_224.sw_in12k_uc-merced-land-use-dataset_TRADES_v2.yaml\n",
      "serialized_values regnetx_004.pycls_in1k_uc-merced-land-use-dataset_TRADES_v2\n",
      "./configs/ full_fine_tuning_50epochs_edge_paper_final2 regnetx_004.pycls_in1k_uc-merced-land-use-dataset_TRADES_v2\n",
      "/Users/maximeheuillet/Desktop/robust_training/configs/HPO_results/full_fine_tuning_50epochs_edge_paper_final2/regnetx_004.pycls_in1k_uc-merced-land-use-dataset_TRADES_v2.yaml\n",
      "serialized_values efficientnet-b0_uc-merced-land-use-dataset_TRADES_v2\n",
      "./configs/ full_fine_tuning_50epochs_edge_paper_final2 efficientnet-b0_uc-merced-land-use-dataset_TRADES_v2\n",
      "/Users/maximeheuillet/Desktop/robust_training/configs/HPO_results/full_fine_tuning_50epochs_edge_paper_final2/efficientnet-b0_uc-merced-land-use-dataset_TRADES_v2.yaml\n",
      "serialized_values deit_tiny_patch16_224.fb_in1k_uc-merced-land-use-dataset_TRADES_v2\n",
      "./configs/ full_fine_tuning_50epochs_edge_paper_final2 deit_tiny_patch16_224.fb_in1k_uc-merced-land-use-dataset_TRADES_v2\n",
      "/Users/maximeheuillet/Desktop/robust_training/configs/HPO_results/full_fine_tuning_50epochs_edge_paper_final2/deit_tiny_patch16_224.fb_in1k_uc-merced-land-use-dataset_TRADES_v2.yaml\n",
      "serialized_values mobilevit-small_uc-merced-land-use-dataset_TRADES_v2\n",
      "./configs/ full_fine_tuning_50epochs_edge_paper_final2 mobilevit-small_uc-merced-land-use-dataset_TRADES_v2\n",
      "/Users/maximeheuillet/Desktop/robust_training/configs/HPO_results/full_fine_tuning_50epochs_edge_paper_final2/mobilevit-small_uc-merced-land-use-dataset_TRADES_v2.yaml\n",
      "serialized_values mobilenetv3_large_100.ra_in1k_uc-merced-land-use-dataset_TRADES_v2\n",
      "./configs/ full_fine_tuning_50epochs_edge_paper_final2 mobilenetv3_large_100.ra_in1k_uc-merced-land-use-dataset_TRADES_v2\n",
      "/Users/maximeheuillet/Desktop/robust_training/configs/HPO_results/full_fine_tuning_50epochs_edge_paper_final2/mobilenetv3_large_100.ra_in1k_uc-merced-land-use-dataset_TRADES_v2.yaml\n",
      "serialized_values edgenext_small.usi_in1k_uc-merced-land-use-dataset_TRADES_v2\n",
      "./configs/ full_fine_tuning_50epochs_edge_paper_final2 edgenext_small.usi_in1k_uc-merced-land-use-dataset_TRADES_v2\n",
      "/Users/maximeheuillet/Desktop/robust_training/configs/HPO_results/full_fine_tuning_50epochs_edge_paper_final2/edgenext_small.usi_in1k_uc-merced-land-use-dataset_TRADES_v2.yaml\n",
      "serialized_values coat_tiny.in1k_uc-merced-land-use-dataset_TRADES_v2\n",
      "./configs/ full_fine_tuning_50epochs_edge_paper_final2 coat_tiny.in1k_uc-merced-land-use-dataset_TRADES_v2\n",
      "/Users/maximeheuillet/Desktop/robust_training/configs/HPO_results/full_fine_tuning_50epochs_edge_paper_final2/coat_tiny.in1k_uc-merced-land-use-dataset_TRADES_v2.yaml\n",
      "serialized_values CLIP-convnext_base_w-laion_aesthetic-s13B-b82K_stanford_cars_TRADES_v2\n",
      "./configs/ full_fine_tuning_50epochs_paper_final2 CLIP-convnext_base_w-laion_aesthetic-s13B-b82K_stanford_cars_TRADES_v2\n",
      "/Users/maximeheuillet/Desktop/robust_training/configs/HPO_results/full_fine_tuning_50epochs_paper_final2/CLIP-convnext_base_w-laion_aesthetic-s13B-b82K_stanford_cars_TRADES_v2.yaml\n",
      "serialized_values CLIP-convnext_base_w-laion2B-s13B-b82K_stanford_cars_TRADES_v2\n",
      "./configs/ full_fine_tuning_50epochs_paper_final2 CLIP-convnext_base_w-laion2B-s13B-b82K_stanford_cars_TRADES_v2\n",
      "/Users/maximeheuillet/Desktop/robust_training/configs/HPO_results/full_fine_tuning_50epochs_paper_final2/CLIP-convnext_base_w-laion2B-s13B-b82K_stanford_cars_TRADES_v2.yaml\n",
      "serialized_values deit_small_patch16_224.fb_in1k_stanford_cars_TRADES_v2\n",
      "./configs/ full_fine_tuning_50epochs_paper_final2 deit_small_patch16_224.fb_in1k_stanford_cars_TRADES_v2\n",
      "/Users/maximeheuillet/Desktop/robust_training/configs/HPO_results/full_fine_tuning_50epochs_paper_final2/deit_small_patch16_224.fb_in1k_stanford_cars_TRADES_v2.yaml\n",
      "serialized_values robust_resnet50_stanford_cars_TRADES_v2\n",
      "./configs/ full_fine_tuning_50epochs_paper_final2 robust_resnet50_stanford_cars_TRADES_v2\n",
      "/Users/maximeheuillet/Desktop/robust_training/configs/HPO_results/full_fine_tuning_50epochs_paper_final2/robust_resnet50_stanford_cars_TRADES_v2.yaml\n",
      "serialized_values vit_small_patch16_224.augreg_in21k_stanford_cars_TRADES_v2\n",
      "./configs/ full_fine_tuning_50epochs_paper_final2 vit_small_patch16_224.augreg_in21k_stanford_cars_TRADES_v2\n",
      "/Users/maximeheuillet/Desktop/robust_training/configs/HPO_results/full_fine_tuning_50epochs_paper_final2/vit_small_patch16_224.augreg_in21k_stanford_cars_TRADES_v2.yaml\n",
      "serialized_values convnext_base.fb_in1k_stanford_cars_TRADES_v2\n",
      "./configs/ full_fine_tuning_50epochs_paper_final2 convnext_base.fb_in1k_stanford_cars_TRADES_v2\n",
      "/Users/maximeheuillet/Desktop/robust_training/configs/HPO_results/full_fine_tuning_50epochs_paper_final2/convnext_base.fb_in1k_stanford_cars_TRADES_v2.yaml\n",
      "serialized_values resnet50.a1_in1k_stanford_cars_TRADES_v2\n",
      "./configs/ full_fine_tuning_50epochs_paper_final2 resnet50.a1_in1k_stanford_cars_TRADES_v2\n",
      "/Users/maximeheuillet/Desktop/robust_training/configs/HPO_results/full_fine_tuning_50epochs_paper_final2/resnet50.a1_in1k_stanford_cars_TRADES_v2.yaml\n",
      "serialized_values robust_vit_base_patch16_224_stanford_cars_TRADES_v2\n",
      "./configs/ full_fine_tuning_50epochs_paper_final2 robust_vit_base_patch16_224_stanford_cars_TRADES_v2\n",
      "/Users/maximeheuillet/Desktop/robust_training/configs/HPO_results/full_fine_tuning_50epochs_paper_final2/robust_vit_base_patch16_224_stanford_cars_TRADES_v2.yaml\n",
      "serialized_values vit_base_patch16_224.mae_stanford_cars_TRADES_v2\n",
      "./configs/ full_fine_tuning_50epochs_paper_final2 vit_base_patch16_224.mae_stanford_cars_TRADES_v2\n",
      "/Users/maximeheuillet/Desktop/robust_training/configs/HPO_results/full_fine_tuning_50epochs_paper_final2/vit_base_patch16_224.mae_stanford_cars_TRADES_v2.yaml\n",
      "serialized_values vit_small_patch16_224.dino_stanford_cars_TRADES_v2\n",
      "./configs/ full_fine_tuning_50epochs_paper_final2 vit_small_patch16_224.dino_stanford_cars_TRADES_v2\n",
      "/Users/maximeheuillet/Desktop/robust_training/configs/HPO_results/full_fine_tuning_50epochs_paper_final2/vit_small_patch16_224.dino_stanford_cars_TRADES_v2.yaml\n",
      "serialized_values convnext_base.fb_in22k_stanford_cars_TRADES_v2\n",
      "./configs/ full_fine_tuning_50epochs_paper_final2 convnext_base.fb_in22k_stanford_cars_TRADES_v2\n",
      "/Users/maximeheuillet/Desktop/robust_training/configs/HPO_results/full_fine_tuning_50epochs_paper_final2/convnext_base.fb_in22k_stanford_cars_TRADES_v2.yaml\n",
      "serialized_values robust_convnext_base_stanford_cars_TRADES_v2\n",
      "./configs/ full_fine_tuning_50epochs_paper_final2 robust_convnext_base_stanford_cars_TRADES_v2\n",
      "/Users/maximeheuillet/Desktop/robust_training/configs/HPO_results/full_fine_tuning_50epochs_paper_final2/robust_convnext_base_stanford_cars_TRADES_v2.yaml\n",
      "serialized_values vit_base_patch16_224.augreg_in1k_stanford_cars_TRADES_v2\n",
      "./configs/ full_fine_tuning_50epochs_paper_final2 vit_base_patch16_224.augreg_in1k_stanford_cars_TRADES_v2\n",
      "/Users/maximeheuillet/Desktop/robust_training/configs/HPO_results/full_fine_tuning_50epochs_paper_final2/vit_base_patch16_224.augreg_in1k_stanford_cars_TRADES_v2.yaml\n",
      "serialized_values vit_base_patch16_224.augreg_in21k_stanford_cars_TRADES_v2\n",
      "./configs/ full_fine_tuning_50epochs_paper_final2 vit_base_patch16_224.augreg_in21k_stanford_cars_TRADES_v2\n",
      "/Users/maximeheuillet/Desktop/robust_training/configs/HPO_results/full_fine_tuning_50epochs_paper_final2/vit_base_patch16_224.augreg_in21k_stanford_cars_TRADES_v2.yaml\n",
      "serialized_values vit_base_patch16_clip_224.laion2b_stanford_cars_TRADES_v2\n",
      "./configs/ full_fine_tuning_50epochs_paper_final2 vit_base_patch16_clip_224.laion2b_stanford_cars_TRADES_v2\n",
      "/Users/maximeheuillet/Desktop/robust_training/configs/HPO_results/full_fine_tuning_50epochs_paper_final2/vit_base_patch16_clip_224.laion2b_stanford_cars_TRADES_v2.yaml\n",
      "serialized_values convnext_tiny.fb_in1k_stanford_cars_TRADES_v2\n",
      "./configs/ full_fine_tuning_50epochs_paper_final2 convnext_tiny.fb_in1k_stanford_cars_TRADES_v2\n",
      "/Users/maximeheuillet/Desktop/robust_training/configs/HPO_results/full_fine_tuning_50epochs_paper_final2/convnext_tiny.fb_in1k_stanford_cars_TRADES_v2.yaml\n",
      "serialized_values robust_convnext_tiny_stanford_cars_TRADES_v2\n",
      "./configs/ full_fine_tuning_50epochs_paper_final2 robust_convnext_tiny_stanford_cars_TRADES_v2\n",
      "/Users/maximeheuillet/Desktop/robust_training/configs/HPO_results/full_fine_tuning_50epochs_paper_final2/robust_convnext_tiny_stanford_cars_TRADES_v2.yaml\n",
      "serialized_values robust_deit_small_patch16_224_stanford_cars_TRADES_v2\n",
      "./configs/ full_fine_tuning_50epochs_paper_final2 robust_deit_small_patch16_224_stanford_cars_TRADES_v2\n",
      "/Users/maximeheuillet/Desktop/robust_training/configs/HPO_results/full_fine_tuning_50epochs_paper_final2/robust_deit_small_patch16_224_stanford_cars_TRADES_v2.yaml\n",
      "serialized_values vit_small_patch16_224.augreg_in1k_stanford_cars_TRADES_v2\n",
      "./configs/ full_fine_tuning_50epochs_paper_final2 vit_small_patch16_224.augreg_in1k_stanford_cars_TRADES_v2\n",
      "/Users/maximeheuillet/Desktop/robust_training/configs/HPO_results/full_fine_tuning_50epochs_paper_final2/vit_small_patch16_224.augreg_in1k_stanford_cars_TRADES_v2.yaml\n",
      "serialized_values convnext_tiny.fb_in22k_stanford_cars_TRADES_v2\n",
      "./configs/ full_fine_tuning_50epochs_paper_final2 convnext_tiny.fb_in22k_stanford_cars_TRADES_v2\n",
      "/Users/maximeheuillet/Desktop/robust_training/configs/HPO_results/full_fine_tuning_50epochs_paper_final2/convnext_tiny.fb_in22k_stanford_cars_TRADES_v2.yaml\n",
      "serialized_values vit_base_patch16_clip_224.laion2b_ft_in1k_stanford_cars_TRADES_v2\n",
      "./configs/ full_fine_tuning_50epochs_paper_final2 vit_base_patch16_clip_224.laion2b_ft_in1k_stanford_cars_TRADES_v2\n",
      "/Users/maximeheuillet/Desktop/robust_training/configs/HPO_results/full_fine_tuning_50epochs_paper_final2/vit_base_patch16_clip_224.laion2b_ft_in1k_stanford_cars_TRADES_v2.yaml\n",
      "serialized_values vit_base_patch16_224.augreg_in21k_ft_in1k_stanford_cars_TRADES_v2\n",
      "./configs/ full_fine_tuning_50epochs_paper_final2 vit_base_patch16_224.augreg_in21k_ft_in1k_stanford_cars_TRADES_v2\n",
      "/Users/maximeheuillet/Desktop/robust_training/configs/HPO_results/full_fine_tuning_50epochs_paper_final2/vit_base_patch16_224.augreg_in21k_ft_in1k_stanford_cars_TRADES_v2.yaml\n",
      "serialized_values vit_small_patch16_224.augreg_in21k_ft_in1k_stanford_cars_TRADES_v2\n",
      "./configs/ full_fine_tuning_50epochs_paper_final2 vit_small_patch16_224.augreg_in21k_ft_in1k_stanford_cars_TRADES_v2\n",
      "/Users/maximeheuillet/Desktop/robust_training/configs/HPO_results/full_fine_tuning_50epochs_paper_final2/vit_small_patch16_224.augreg_in21k_ft_in1k_stanford_cars_TRADES_v2.yaml\n",
      "serialized_values eva02_base_patch14_224.mim_in22k_stanford_cars_TRADES_v2\n",
      "./configs/ full_fine_tuning_50epochs_paper_final2 eva02_base_patch14_224.mim_in22k_stanford_cars_TRADES_v2\n",
      "/Users/maximeheuillet/Desktop/robust_training/configs/HPO_results/full_fine_tuning_50epochs_paper_final2/eva02_base_patch14_224.mim_in22k_stanford_cars_TRADES_v2.yaml\n",
      "serialized_values eva02_tiny_patch14_224.mim_in22k_stanford_cars_TRADES_v2\n",
      "./configs/ full_fine_tuning_50epochs_paper_final2 eva02_tiny_patch14_224.mim_in22k_stanford_cars_TRADES_v2\n",
      "/Users/maximeheuillet/Desktop/robust_training/configs/HPO_results/full_fine_tuning_50epochs_paper_final2/eva02_tiny_patch14_224.mim_in22k_stanford_cars_TRADES_v2.yaml\n",
      "serialized_values swin_base_patch4_window7_224.ms_in22k_ft_in1k_stanford_cars_TRADES_v2\n",
      "./configs/ full_fine_tuning_50epochs_paper_final2 swin_base_patch4_window7_224.ms_in22k_ft_in1k_stanford_cars_TRADES_v2\n",
      "/Users/maximeheuillet/Desktop/robust_training/configs/HPO_results/full_fine_tuning_50epochs_paper_final2/swin_base_patch4_window7_224.ms_in22k_ft_in1k_stanford_cars_TRADES_v2.yaml\n",
      "serialized_values swin_tiny_patch4_window7_224.ms_in1k_stanford_cars_TRADES_v2\n",
      "./configs/ full_fine_tuning_50epochs_paper_final2 swin_tiny_patch4_window7_224.ms_in1k_stanford_cars_TRADES_v2\n",
      "/Users/maximeheuillet/Desktop/robust_training/configs/HPO_results/full_fine_tuning_50epochs_paper_final2/swin_tiny_patch4_window7_224.ms_in1k_stanford_cars_TRADES_v2.yaml\n",
      "serialized_values convnext_base.clip_laion2b_augreg_ft_in12k_in1k_stanford_cars_TRADES_v2\n",
      "./configs/ full_fine_tuning_50epochs_paper_final2 convnext_base.clip_laion2b_augreg_ft_in12k_in1k_stanford_cars_TRADES_v2\n",
      "/Users/maximeheuillet/Desktop/robust_training/configs/HPO_results/full_fine_tuning_50epochs_paper_final2/convnext_base.clip_laion2b_augreg_ft_in12k_in1k_stanford_cars_TRADES_v2.yaml\n",
      "serialized_values convnext_base.fb_in22k_ft_in1k_stanford_cars_TRADES_v2\n",
      "./configs/ full_fine_tuning_50epochs_paper_final2 convnext_base.fb_in22k_ft_in1k_stanford_cars_TRADES_v2\n",
      "/Users/maximeheuillet/Desktop/robust_training/configs/HPO_results/full_fine_tuning_50epochs_paper_final2/convnext_base.fb_in22k_ft_in1k_stanford_cars_TRADES_v2.yaml\n",
      "serialized_values convnext_tiny.fb_in22k_ft_in1k_stanford_cars_TRADES_v2\n",
      "./configs/ full_fine_tuning_50epochs_paper_final2 convnext_tiny.fb_in22k_ft_in1k_stanford_cars_TRADES_v2\n",
      "/Users/maximeheuillet/Desktop/robust_training/configs/HPO_results/full_fine_tuning_50epochs_paper_final2/convnext_tiny.fb_in22k_ft_in1k_stanford_cars_TRADES_v2.yaml\n",
      "serialized_values coatnet_0_rw_224.sw_in1k_stanford_cars_TRADES_v2\n",
      "./configs/ full_fine_tuning_50epochs_paper_final2 coatnet_0_rw_224.sw_in1k_stanford_cars_TRADES_v2\n",
      "/Users/maximeheuillet/Desktop/robust_training/configs/HPO_results/full_fine_tuning_50epochs_paper_final2/coatnet_0_rw_224.sw_in1k_stanford_cars_TRADES_v2.yaml\n",
      "serialized_values coatnet_2_rw_224.sw_in12k_ft_in1k_stanford_cars_TRADES_v2\n",
      "./configs/ full_fine_tuning_50epochs_paper_final2 coatnet_2_rw_224.sw_in12k_ft_in1k_stanford_cars_TRADES_v2\n",
      "/Users/maximeheuillet/Desktop/robust_training/configs/HPO_results/full_fine_tuning_50epochs_paper_final2/coatnet_2_rw_224.sw_in12k_ft_in1k_stanford_cars_TRADES_v2.yaml\n",
      "serialized_values coatnet_2_rw_224.sw_in12k_stanford_cars_TRADES_v2\n",
      "./configs/ full_fine_tuning_50epochs_paper_final2 coatnet_2_rw_224.sw_in12k_stanford_cars_TRADES_v2\n",
      "/Users/maximeheuillet/Desktop/robust_training/configs/HPO_results/full_fine_tuning_50epochs_paper_final2/coatnet_2_rw_224.sw_in12k_stanford_cars_TRADES_v2.yaml\n",
      "serialized_values regnetx_004.pycls_in1k_stanford_cars_TRADES_v2\n",
      "./configs/ full_fine_tuning_50epochs_edge_paper_final2 regnetx_004.pycls_in1k_stanford_cars_TRADES_v2\n",
      "/Users/maximeheuillet/Desktop/robust_training/configs/HPO_results/full_fine_tuning_50epochs_edge_paper_final2/regnetx_004.pycls_in1k_stanford_cars_TRADES_v2.yaml\n",
      "serialized_values efficientnet-b0_stanford_cars_TRADES_v2\n",
      "./configs/ full_fine_tuning_50epochs_edge_paper_final2 efficientnet-b0_stanford_cars_TRADES_v2\n",
      "/Users/maximeheuillet/Desktop/robust_training/configs/HPO_results/full_fine_tuning_50epochs_edge_paper_final2/efficientnet-b0_stanford_cars_TRADES_v2.yaml\n",
      "serialized_values deit_tiny_patch16_224.fb_in1k_stanford_cars_TRADES_v2\n",
      "./configs/ full_fine_tuning_50epochs_edge_paper_final2 deit_tiny_patch16_224.fb_in1k_stanford_cars_TRADES_v2\n",
      "/Users/maximeheuillet/Desktop/robust_training/configs/HPO_results/full_fine_tuning_50epochs_edge_paper_final2/deit_tiny_patch16_224.fb_in1k_stanford_cars_TRADES_v2.yaml\n",
      "serialized_values mobilevit-small_stanford_cars_TRADES_v2\n",
      "./configs/ full_fine_tuning_50epochs_edge_paper_final2 mobilevit-small_stanford_cars_TRADES_v2\n",
      "/Users/maximeheuillet/Desktop/robust_training/configs/HPO_results/full_fine_tuning_50epochs_edge_paper_final2/mobilevit-small_stanford_cars_TRADES_v2.yaml\n",
      "serialized_values mobilenetv3_large_100.ra_in1k_stanford_cars_TRADES_v2\n",
      "./configs/ full_fine_tuning_50epochs_edge_paper_final2 mobilenetv3_large_100.ra_in1k_stanford_cars_TRADES_v2\n",
      "/Users/maximeheuillet/Desktop/robust_training/configs/HPO_results/full_fine_tuning_50epochs_edge_paper_final2/mobilenetv3_large_100.ra_in1k_stanford_cars_TRADES_v2.yaml\n",
      "serialized_values edgenext_small.usi_in1k_stanford_cars_TRADES_v2\n",
      "./configs/ full_fine_tuning_50epochs_edge_paper_final2 edgenext_small.usi_in1k_stanford_cars_TRADES_v2\n",
      "/Users/maximeheuillet/Desktop/robust_training/configs/HPO_results/full_fine_tuning_50epochs_edge_paper_final2/edgenext_small.usi_in1k_stanford_cars_TRADES_v2.yaml\n",
      "serialized_values coat_tiny.in1k_stanford_cars_TRADES_v2\n",
      "./configs/ full_fine_tuning_50epochs_edge_paper_final2 coat_tiny.in1k_stanford_cars_TRADES_v2\n",
      "/Users/maximeheuillet/Desktop/robust_training/configs/HPO_results/full_fine_tuning_50epochs_edge_paper_final2/coat_tiny.in1k_stanford_cars_TRADES_v2.yaml\n",
      "serialized_values CLIP-convnext_base_w-laion_aesthetic-s13B-b82K_caltech101_TRADES_v2\n",
      "./configs/ full_fine_tuning_50epochs_paper_final2 CLIP-convnext_base_w-laion_aesthetic-s13B-b82K_caltech101_TRADES_v2\n",
      "/Users/maximeheuillet/Desktop/robust_training/configs/HPO_results/full_fine_tuning_50epochs_paper_final2/CLIP-convnext_base_w-laion_aesthetic-s13B-b82K_caltech101_TRADES_v2.yaml\n",
      "serialized_values CLIP-convnext_base_w-laion2B-s13B-b82K_caltech101_TRADES_v2\n",
      "./configs/ full_fine_tuning_50epochs_paper_final2 CLIP-convnext_base_w-laion2B-s13B-b82K_caltech101_TRADES_v2\n",
      "/Users/maximeheuillet/Desktop/robust_training/configs/HPO_results/full_fine_tuning_50epochs_paper_final2/CLIP-convnext_base_w-laion2B-s13B-b82K_caltech101_TRADES_v2.yaml\n",
      "serialized_values deit_small_patch16_224.fb_in1k_caltech101_TRADES_v2\n",
      "./configs/ full_fine_tuning_50epochs_paper_final2 deit_small_patch16_224.fb_in1k_caltech101_TRADES_v2\n",
      "/Users/maximeheuillet/Desktop/robust_training/configs/HPO_results/full_fine_tuning_50epochs_paper_final2/deit_small_patch16_224.fb_in1k_caltech101_TRADES_v2.yaml\n",
      "serialized_values robust_resnet50_caltech101_TRADES_v2\n",
      "./configs/ full_fine_tuning_50epochs_paper_final2 robust_resnet50_caltech101_TRADES_v2\n",
      "/Users/maximeheuillet/Desktop/robust_training/configs/HPO_results/full_fine_tuning_50epochs_paper_final2/robust_resnet50_caltech101_TRADES_v2.yaml\n",
      "serialized_values vit_small_patch16_224.augreg_in21k_caltech101_TRADES_v2\n",
      "./configs/ full_fine_tuning_50epochs_paper_final2 vit_small_patch16_224.augreg_in21k_caltech101_TRADES_v2\n",
      "/Users/maximeheuillet/Desktop/robust_training/configs/HPO_results/full_fine_tuning_50epochs_paper_final2/vit_small_patch16_224.augreg_in21k_caltech101_TRADES_v2.yaml\n",
      "serialized_values convnext_base.fb_in1k_caltech101_TRADES_v2\n",
      "./configs/ full_fine_tuning_50epochs_paper_final2 convnext_base.fb_in1k_caltech101_TRADES_v2\n",
      "/Users/maximeheuillet/Desktop/robust_training/configs/HPO_results/full_fine_tuning_50epochs_paper_final2/convnext_base.fb_in1k_caltech101_TRADES_v2.yaml\n",
      "serialized_values resnet50.a1_in1k_caltech101_TRADES_v2\n",
      "./configs/ full_fine_tuning_50epochs_paper_final2 resnet50.a1_in1k_caltech101_TRADES_v2\n",
      "/Users/maximeheuillet/Desktop/robust_training/configs/HPO_results/full_fine_tuning_50epochs_paper_final2/resnet50.a1_in1k_caltech101_TRADES_v2.yaml\n",
      "serialized_values robust_vit_base_patch16_224_caltech101_TRADES_v2\n",
      "./configs/ full_fine_tuning_50epochs_paper_final2 robust_vit_base_patch16_224_caltech101_TRADES_v2\n",
      "/Users/maximeheuillet/Desktop/robust_training/configs/HPO_results/full_fine_tuning_50epochs_paper_final2/robust_vit_base_patch16_224_caltech101_TRADES_v2.yaml\n",
      "serialized_values vit_base_patch16_224.mae_caltech101_TRADES_v2\n",
      "./configs/ full_fine_tuning_50epochs_paper_final2 vit_base_patch16_224.mae_caltech101_TRADES_v2\n",
      "/Users/maximeheuillet/Desktop/robust_training/configs/HPO_results/full_fine_tuning_50epochs_paper_final2/vit_base_patch16_224.mae_caltech101_TRADES_v2.yaml\n",
      "serialized_values vit_small_patch16_224.dino_caltech101_TRADES_v2\n",
      "./configs/ full_fine_tuning_50epochs_paper_final2 vit_small_patch16_224.dino_caltech101_TRADES_v2\n",
      "/Users/maximeheuillet/Desktop/robust_training/configs/HPO_results/full_fine_tuning_50epochs_paper_final2/vit_small_patch16_224.dino_caltech101_TRADES_v2.yaml\n",
      "serialized_values convnext_base.fb_in22k_caltech101_TRADES_v2\n",
      "./configs/ full_fine_tuning_50epochs_paper_final2 convnext_base.fb_in22k_caltech101_TRADES_v2\n",
      "/Users/maximeheuillet/Desktop/robust_training/configs/HPO_results/full_fine_tuning_50epochs_paper_final2/convnext_base.fb_in22k_caltech101_TRADES_v2.yaml\n",
      "serialized_values robust_convnext_base_caltech101_TRADES_v2\n",
      "./configs/ full_fine_tuning_50epochs_paper_final2 robust_convnext_base_caltech101_TRADES_v2\n",
      "/Users/maximeheuillet/Desktop/robust_training/configs/HPO_results/full_fine_tuning_50epochs_paper_final2/robust_convnext_base_caltech101_TRADES_v2.yaml\n",
      "serialized_values vit_base_patch16_224.augreg_in1k_caltech101_TRADES_v2\n",
      "./configs/ full_fine_tuning_50epochs_paper_final2 vit_base_patch16_224.augreg_in1k_caltech101_TRADES_v2\n",
      "/Users/maximeheuillet/Desktop/robust_training/configs/HPO_results/full_fine_tuning_50epochs_paper_final2/vit_base_patch16_224.augreg_in1k_caltech101_TRADES_v2.yaml\n",
      "serialized_values vit_base_patch16_224.augreg_in21k_caltech101_TRADES_v2\n",
      "./configs/ full_fine_tuning_50epochs_paper_final2 vit_base_patch16_224.augreg_in21k_caltech101_TRADES_v2\n",
      "/Users/maximeheuillet/Desktop/robust_training/configs/HPO_results/full_fine_tuning_50epochs_paper_final2/vit_base_patch16_224.augreg_in21k_caltech101_TRADES_v2.yaml\n",
      "serialized_values vit_base_patch16_clip_224.laion2b_caltech101_TRADES_v2\n",
      "./configs/ full_fine_tuning_50epochs_paper_final2 vit_base_patch16_clip_224.laion2b_caltech101_TRADES_v2\n",
      "/Users/maximeheuillet/Desktop/robust_training/configs/HPO_results/full_fine_tuning_50epochs_paper_final2/vit_base_patch16_clip_224.laion2b_caltech101_TRADES_v2.yaml\n",
      "serialized_values convnext_tiny.fb_in1k_caltech101_TRADES_v2\n",
      "./configs/ full_fine_tuning_50epochs_paper_final2 convnext_tiny.fb_in1k_caltech101_TRADES_v2\n",
      "/Users/maximeheuillet/Desktop/robust_training/configs/HPO_results/full_fine_tuning_50epochs_paper_final2/convnext_tiny.fb_in1k_caltech101_TRADES_v2.yaml\n",
      "serialized_values robust_convnext_tiny_caltech101_TRADES_v2\n",
      "./configs/ full_fine_tuning_50epochs_paper_final2 robust_convnext_tiny_caltech101_TRADES_v2\n",
      "/Users/maximeheuillet/Desktop/robust_training/configs/HPO_results/full_fine_tuning_50epochs_paper_final2/robust_convnext_tiny_caltech101_TRADES_v2.yaml\n",
      "serialized_values robust_deit_small_patch16_224_caltech101_TRADES_v2\n",
      "./configs/ full_fine_tuning_50epochs_paper_final2 robust_deit_small_patch16_224_caltech101_TRADES_v2\n",
      "/Users/maximeheuillet/Desktop/robust_training/configs/HPO_results/full_fine_tuning_50epochs_paper_final2/robust_deit_small_patch16_224_caltech101_TRADES_v2.yaml\n",
      "serialized_values vit_small_patch16_224.augreg_in1k_caltech101_TRADES_v2\n",
      "./configs/ full_fine_tuning_50epochs_paper_final2 vit_small_patch16_224.augreg_in1k_caltech101_TRADES_v2\n",
      "/Users/maximeheuillet/Desktop/robust_training/configs/HPO_results/full_fine_tuning_50epochs_paper_final2/vit_small_patch16_224.augreg_in1k_caltech101_TRADES_v2.yaml\n",
      "serialized_values convnext_tiny.fb_in22k_caltech101_TRADES_v2\n",
      "./configs/ full_fine_tuning_50epochs_paper_final2 convnext_tiny.fb_in22k_caltech101_TRADES_v2\n",
      "/Users/maximeheuillet/Desktop/robust_training/configs/HPO_results/full_fine_tuning_50epochs_paper_final2/convnext_tiny.fb_in22k_caltech101_TRADES_v2.yaml\n",
      "serialized_values vit_base_patch16_clip_224.laion2b_ft_in1k_caltech101_TRADES_v2\n",
      "./configs/ full_fine_tuning_50epochs_paper_final2 vit_base_patch16_clip_224.laion2b_ft_in1k_caltech101_TRADES_v2\n",
      "/Users/maximeheuillet/Desktop/robust_training/configs/HPO_results/full_fine_tuning_50epochs_paper_final2/vit_base_patch16_clip_224.laion2b_ft_in1k_caltech101_TRADES_v2.yaml\n",
      "serialized_values vit_base_patch16_224.augreg_in21k_ft_in1k_caltech101_TRADES_v2\n",
      "./configs/ full_fine_tuning_50epochs_paper_final2 vit_base_patch16_224.augreg_in21k_ft_in1k_caltech101_TRADES_v2\n",
      "/Users/maximeheuillet/Desktop/robust_training/configs/HPO_results/full_fine_tuning_50epochs_paper_final2/vit_base_patch16_224.augreg_in21k_ft_in1k_caltech101_TRADES_v2.yaml\n",
      "serialized_values vit_small_patch16_224.augreg_in21k_ft_in1k_caltech101_TRADES_v2\n",
      "./configs/ full_fine_tuning_50epochs_paper_final2 vit_small_patch16_224.augreg_in21k_ft_in1k_caltech101_TRADES_v2\n",
      "/Users/maximeheuillet/Desktop/robust_training/configs/HPO_results/full_fine_tuning_50epochs_paper_final2/vit_small_patch16_224.augreg_in21k_ft_in1k_caltech101_TRADES_v2.yaml\n",
      "serialized_values eva02_base_patch14_224.mim_in22k_caltech101_TRADES_v2\n",
      "./configs/ full_fine_tuning_50epochs_paper_final2 eva02_base_patch14_224.mim_in22k_caltech101_TRADES_v2\n",
      "/Users/maximeheuillet/Desktop/robust_training/configs/HPO_results/full_fine_tuning_50epochs_paper_final2/eva02_base_patch14_224.mim_in22k_caltech101_TRADES_v2.yaml\n",
      "serialized_values eva02_tiny_patch14_224.mim_in22k_caltech101_TRADES_v2\n",
      "./configs/ full_fine_tuning_50epochs_paper_final2 eva02_tiny_patch14_224.mim_in22k_caltech101_TRADES_v2\n",
      "/Users/maximeheuillet/Desktop/robust_training/configs/HPO_results/full_fine_tuning_50epochs_paper_final2/eva02_tiny_patch14_224.mim_in22k_caltech101_TRADES_v2.yaml\n",
      "serialized_values swin_base_patch4_window7_224.ms_in22k_ft_in1k_caltech101_TRADES_v2\n",
      "./configs/ full_fine_tuning_50epochs_paper_final2 swin_base_patch4_window7_224.ms_in22k_ft_in1k_caltech101_TRADES_v2\n",
      "/Users/maximeheuillet/Desktop/robust_training/configs/HPO_results/full_fine_tuning_50epochs_paper_final2/swin_base_patch4_window7_224.ms_in22k_ft_in1k_caltech101_TRADES_v2.yaml\n",
      "serialized_values swin_tiny_patch4_window7_224.ms_in1k_caltech101_TRADES_v2\n",
      "./configs/ full_fine_tuning_50epochs_paper_final2 swin_tiny_patch4_window7_224.ms_in1k_caltech101_TRADES_v2\n",
      "/Users/maximeheuillet/Desktop/robust_training/configs/HPO_results/full_fine_tuning_50epochs_paper_final2/swin_tiny_patch4_window7_224.ms_in1k_caltech101_TRADES_v2.yaml\n",
      "serialized_values convnext_base.clip_laion2b_augreg_ft_in12k_in1k_caltech101_TRADES_v2\n",
      "./configs/ full_fine_tuning_50epochs_paper_final2 convnext_base.clip_laion2b_augreg_ft_in12k_in1k_caltech101_TRADES_v2\n",
      "/Users/maximeheuillet/Desktop/robust_training/configs/HPO_results/full_fine_tuning_50epochs_paper_final2/convnext_base.clip_laion2b_augreg_ft_in12k_in1k_caltech101_TRADES_v2.yaml\n",
      "serialized_values convnext_base.fb_in22k_ft_in1k_caltech101_TRADES_v2\n",
      "./configs/ full_fine_tuning_50epochs_paper_final2 convnext_base.fb_in22k_ft_in1k_caltech101_TRADES_v2\n",
      "/Users/maximeheuillet/Desktop/robust_training/configs/HPO_results/full_fine_tuning_50epochs_paper_final2/convnext_base.fb_in22k_ft_in1k_caltech101_TRADES_v2.yaml\n",
      "serialized_values convnext_tiny.fb_in22k_ft_in1k_caltech101_TRADES_v2\n",
      "./configs/ full_fine_tuning_50epochs_paper_final2 convnext_tiny.fb_in22k_ft_in1k_caltech101_TRADES_v2\n",
      "/Users/maximeheuillet/Desktop/robust_training/configs/HPO_results/full_fine_tuning_50epochs_paper_final2/convnext_tiny.fb_in22k_ft_in1k_caltech101_TRADES_v2.yaml\n",
      "serialized_values coatnet_0_rw_224.sw_in1k_caltech101_TRADES_v2\n",
      "./configs/ full_fine_tuning_50epochs_paper_final2 coatnet_0_rw_224.sw_in1k_caltech101_TRADES_v2\n",
      "/Users/maximeheuillet/Desktop/robust_training/configs/HPO_results/full_fine_tuning_50epochs_paper_final2/coatnet_0_rw_224.sw_in1k_caltech101_TRADES_v2.yaml\n",
      "serialized_values coatnet_2_rw_224.sw_in12k_ft_in1k_caltech101_TRADES_v2\n",
      "./configs/ full_fine_tuning_50epochs_paper_final2 coatnet_2_rw_224.sw_in12k_ft_in1k_caltech101_TRADES_v2\n",
      "/Users/maximeheuillet/Desktop/robust_training/configs/HPO_results/full_fine_tuning_50epochs_paper_final2/coatnet_2_rw_224.sw_in12k_ft_in1k_caltech101_TRADES_v2.yaml\n",
      "serialized_values coatnet_2_rw_224.sw_in12k_caltech101_TRADES_v2\n",
      "./configs/ full_fine_tuning_50epochs_paper_final2 coatnet_2_rw_224.sw_in12k_caltech101_TRADES_v2\n",
      "/Users/maximeheuillet/Desktop/robust_training/configs/HPO_results/full_fine_tuning_50epochs_paper_final2/coatnet_2_rw_224.sw_in12k_caltech101_TRADES_v2.yaml\n",
      "serialized_values regnetx_004.pycls_in1k_caltech101_TRADES_v2\n",
      "./configs/ full_fine_tuning_50epochs_edge_paper_final2 regnetx_004.pycls_in1k_caltech101_TRADES_v2\n",
      "/Users/maximeheuillet/Desktop/robust_training/configs/HPO_results/full_fine_tuning_50epochs_edge_paper_final2/regnetx_004.pycls_in1k_caltech101_TRADES_v2.yaml\n",
      "serialized_values efficientnet-b0_caltech101_TRADES_v2\n",
      "./configs/ full_fine_tuning_50epochs_edge_paper_final2 efficientnet-b0_caltech101_TRADES_v2\n",
      "/Users/maximeheuillet/Desktop/robust_training/configs/HPO_results/full_fine_tuning_50epochs_edge_paper_final2/efficientnet-b0_caltech101_TRADES_v2.yaml\n",
      "serialized_values deit_tiny_patch16_224.fb_in1k_caltech101_TRADES_v2\n",
      "./configs/ full_fine_tuning_50epochs_edge_paper_final2 deit_tiny_patch16_224.fb_in1k_caltech101_TRADES_v2\n",
      "/Users/maximeheuillet/Desktop/robust_training/configs/HPO_results/full_fine_tuning_50epochs_edge_paper_final2/deit_tiny_patch16_224.fb_in1k_caltech101_TRADES_v2.yaml\n",
      "serialized_values mobilevit-small_caltech101_TRADES_v2\n",
      "./configs/ full_fine_tuning_50epochs_edge_paper_final2 mobilevit-small_caltech101_TRADES_v2\n",
      "/Users/maximeheuillet/Desktop/robust_training/configs/HPO_results/full_fine_tuning_50epochs_edge_paper_final2/mobilevit-small_caltech101_TRADES_v2.yaml\n",
      "serialized_values mobilenetv3_large_100.ra_in1k_caltech101_TRADES_v2\n",
      "./configs/ full_fine_tuning_50epochs_edge_paper_final2 mobilenetv3_large_100.ra_in1k_caltech101_TRADES_v2\n",
      "/Users/maximeheuillet/Desktop/robust_training/configs/HPO_results/full_fine_tuning_50epochs_edge_paper_final2/mobilenetv3_large_100.ra_in1k_caltech101_TRADES_v2.yaml\n",
      "serialized_values edgenext_small.usi_in1k_caltech101_TRADES_v2\n",
      "./configs/ full_fine_tuning_50epochs_edge_paper_final2 edgenext_small.usi_in1k_caltech101_TRADES_v2\n",
      "/Users/maximeheuillet/Desktop/robust_training/configs/HPO_results/full_fine_tuning_50epochs_edge_paper_final2/edgenext_small.usi_in1k_caltech101_TRADES_v2.yaml\n",
      "serialized_values coat_tiny.in1k_caltech101_TRADES_v2\n",
      "./configs/ full_fine_tuning_50epochs_edge_paper_final2 coat_tiny.in1k_caltech101_TRADES_v2\n",
      "/Users/maximeheuillet/Desktop/robust_training/configs/HPO_results/full_fine_tuning_50epochs_edge_paper_final2/coat_tiny.in1k_caltech101_TRADES_v2.yaml\n",
      "serialized_values CLIP-convnext_base_w-laion_aesthetic-s13B-b82K_fgvc-aircraft-2013b_TRADES_v2\n",
      "./configs/ full_fine_tuning_50epochs_paper_final2 CLIP-convnext_base_w-laion_aesthetic-s13B-b82K_fgvc-aircraft-2013b_TRADES_v2\n",
      "/Users/maximeheuillet/Desktop/robust_training/configs/HPO_results/full_fine_tuning_50epochs_paper_final2/CLIP-convnext_base_w-laion_aesthetic-s13B-b82K_fgvc-aircraft-2013b_TRADES_v2.yaml\n",
      "serialized_values CLIP-convnext_base_w-laion2B-s13B-b82K_fgvc-aircraft-2013b_TRADES_v2\n",
      "./configs/ full_fine_tuning_50epochs_paper_final2 CLIP-convnext_base_w-laion2B-s13B-b82K_fgvc-aircraft-2013b_TRADES_v2\n",
      "/Users/maximeheuillet/Desktop/robust_training/configs/HPO_results/full_fine_tuning_50epochs_paper_final2/CLIP-convnext_base_w-laion2B-s13B-b82K_fgvc-aircraft-2013b_TRADES_v2.yaml\n",
      "serialized_values deit_small_patch16_224.fb_in1k_fgvc-aircraft-2013b_TRADES_v2\n",
      "./configs/ full_fine_tuning_50epochs_paper_final2 deit_small_patch16_224.fb_in1k_fgvc-aircraft-2013b_TRADES_v2\n",
      "/Users/maximeheuillet/Desktop/robust_training/configs/HPO_results/full_fine_tuning_50epochs_paper_final2/deit_small_patch16_224.fb_in1k_fgvc-aircraft-2013b_TRADES_v2.yaml\n",
      "serialized_values robust_resnet50_fgvc-aircraft-2013b_TRADES_v2\n",
      "./configs/ full_fine_tuning_50epochs_paper_final2 robust_resnet50_fgvc-aircraft-2013b_TRADES_v2\n",
      "/Users/maximeheuillet/Desktop/robust_training/configs/HPO_results/full_fine_tuning_50epochs_paper_final2/robust_resnet50_fgvc-aircraft-2013b_TRADES_v2.yaml\n",
      "serialized_values vit_small_patch16_224.augreg_in21k_fgvc-aircraft-2013b_TRADES_v2\n",
      "./configs/ full_fine_tuning_50epochs_paper_final2 vit_small_patch16_224.augreg_in21k_fgvc-aircraft-2013b_TRADES_v2\n",
      "/Users/maximeheuillet/Desktop/robust_training/configs/HPO_results/full_fine_tuning_50epochs_paper_final2/vit_small_patch16_224.augreg_in21k_fgvc-aircraft-2013b_TRADES_v2.yaml\n",
      "serialized_values convnext_base.fb_in1k_fgvc-aircraft-2013b_TRADES_v2\n",
      "./configs/ full_fine_tuning_50epochs_paper_final2 convnext_base.fb_in1k_fgvc-aircraft-2013b_TRADES_v2\n",
      "/Users/maximeheuillet/Desktop/robust_training/configs/HPO_results/full_fine_tuning_50epochs_paper_final2/convnext_base.fb_in1k_fgvc-aircraft-2013b_TRADES_v2.yaml\n",
      "serialized_values resnet50.a1_in1k_fgvc-aircraft-2013b_TRADES_v2\n",
      "./configs/ full_fine_tuning_50epochs_paper_final2 resnet50.a1_in1k_fgvc-aircraft-2013b_TRADES_v2\n",
      "/Users/maximeheuillet/Desktop/robust_training/configs/HPO_results/full_fine_tuning_50epochs_paper_final2/resnet50.a1_in1k_fgvc-aircraft-2013b_TRADES_v2.yaml\n",
      "serialized_values robust_vit_base_patch16_224_fgvc-aircraft-2013b_TRADES_v2\n",
      "./configs/ full_fine_tuning_50epochs_paper_final2 robust_vit_base_patch16_224_fgvc-aircraft-2013b_TRADES_v2\n",
      "/Users/maximeheuillet/Desktop/robust_training/configs/HPO_results/full_fine_tuning_50epochs_paper_final2/robust_vit_base_patch16_224_fgvc-aircraft-2013b_TRADES_v2.yaml\n",
      "serialized_values vit_base_patch16_224.mae_fgvc-aircraft-2013b_TRADES_v2\n",
      "./configs/ full_fine_tuning_50epochs_paper_final2 vit_base_patch16_224.mae_fgvc-aircraft-2013b_TRADES_v2\n",
      "/Users/maximeheuillet/Desktop/robust_training/configs/HPO_results/full_fine_tuning_50epochs_paper_final2/vit_base_patch16_224.mae_fgvc-aircraft-2013b_TRADES_v2.yaml\n",
      "serialized_values vit_small_patch16_224.dino_fgvc-aircraft-2013b_TRADES_v2\n",
      "./configs/ full_fine_tuning_50epochs_paper_final2 vit_small_patch16_224.dino_fgvc-aircraft-2013b_TRADES_v2\n",
      "/Users/maximeheuillet/Desktop/robust_training/configs/HPO_results/full_fine_tuning_50epochs_paper_final2/vit_small_patch16_224.dino_fgvc-aircraft-2013b_TRADES_v2.yaml\n",
      "serialized_values convnext_base.fb_in22k_fgvc-aircraft-2013b_TRADES_v2\n",
      "./configs/ full_fine_tuning_50epochs_paper_final2 convnext_base.fb_in22k_fgvc-aircraft-2013b_TRADES_v2\n",
      "/Users/maximeheuillet/Desktop/robust_training/configs/HPO_results/full_fine_tuning_50epochs_paper_final2/convnext_base.fb_in22k_fgvc-aircraft-2013b_TRADES_v2.yaml\n",
      "serialized_values robust_convnext_base_fgvc-aircraft-2013b_TRADES_v2\n",
      "./configs/ full_fine_tuning_50epochs_paper_final2 robust_convnext_base_fgvc-aircraft-2013b_TRADES_v2\n",
      "/Users/maximeheuillet/Desktop/robust_training/configs/HPO_results/full_fine_tuning_50epochs_paper_final2/robust_convnext_base_fgvc-aircraft-2013b_TRADES_v2.yaml\n",
      "serialized_values vit_base_patch16_224.augreg_in1k_fgvc-aircraft-2013b_TRADES_v2\n",
      "./configs/ full_fine_tuning_50epochs_paper_final2 vit_base_patch16_224.augreg_in1k_fgvc-aircraft-2013b_TRADES_v2\n",
      "/Users/maximeheuillet/Desktop/robust_training/configs/HPO_results/full_fine_tuning_50epochs_paper_final2/vit_base_patch16_224.augreg_in1k_fgvc-aircraft-2013b_TRADES_v2.yaml\n",
      "serialized_values vit_base_patch16_224.augreg_in21k_fgvc-aircraft-2013b_TRADES_v2\n",
      "./configs/ full_fine_tuning_50epochs_paper_final2 vit_base_patch16_224.augreg_in21k_fgvc-aircraft-2013b_TRADES_v2\n",
      "/Users/maximeheuillet/Desktop/robust_training/configs/HPO_results/full_fine_tuning_50epochs_paper_final2/vit_base_patch16_224.augreg_in21k_fgvc-aircraft-2013b_TRADES_v2.yaml\n",
      "serialized_values vit_base_patch16_clip_224.laion2b_fgvc-aircraft-2013b_TRADES_v2\n",
      "./configs/ full_fine_tuning_50epochs_paper_final2 vit_base_patch16_clip_224.laion2b_fgvc-aircraft-2013b_TRADES_v2\n",
      "/Users/maximeheuillet/Desktop/robust_training/configs/HPO_results/full_fine_tuning_50epochs_paper_final2/vit_base_patch16_clip_224.laion2b_fgvc-aircraft-2013b_TRADES_v2.yaml\n",
      "serialized_values convnext_tiny.fb_in1k_fgvc-aircraft-2013b_TRADES_v2\n",
      "./configs/ full_fine_tuning_50epochs_paper_final2 convnext_tiny.fb_in1k_fgvc-aircraft-2013b_TRADES_v2\n",
      "/Users/maximeheuillet/Desktop/robust_training/configs/HPO_results/full_fine_tuning_50epochs_paper_final2/convnext_tiny.fb_in1k_fgvc-aircraft-2013b_TRADES_v2.yaml\n",
      "serialized_values robust_convnext_tiny_fgvc-aircraft-2013b_TRADES_v2\n",
      "./configs/ full_fine_tuning_50epochs_paper_final2 robust_convnext_tiny_fgvc-aircraft-2013b_TRADES_v2\n",
      "/Users/maximeheuillet/Desktop/robust_training/configs/HPO_results/full_fine_tuning_50epochs_paper_final2/robust_convnext_tiny_fgvc-aircraft-2013b_TRADES_v2.yaml\n",
      "serialized_values robust_deit_small_patch16_224_fgvc-aircraft-2013b_TRADES_v2\n",
      "./configs/ full_fine_tuning_50epochs_paper_final2 robust_deit_small_patch16_224_fgvc-aircraft-2013b_TRADES_v2\n",
      "/Users/maximeheuillet/Desktop/robust_training/configs/HPO_results/full_fine_tuning_50epochs_paper_final2/robust_deit_small_patch16_224_fgvc-aircraft-2013b_TRADES_v2.yaml\n",
      "serialized_values vit_small_patch16_224.augreg_in1k_fgvc-aircraft-2013b_TRADES_v2\n",
      "./configs/ full_fine_tuning_50epochs_paper_final2 vit_small_patch16_224.augreg_in1k_fgvc-aircraft-2013b_TRADES_v2\n",
      "/Users/maximeheuillet/Desktop/robust_training/configs/HPO_results/full_fine_tuning_50epochs_paper_final2/vit_small_patch16_224.augreg_in1k_fgvc-aircraft-2013b_TRADES_v2.yaml\n",
      "serialized_values convnext_tiny.fb_in22k_fgvc-aircraft-2013b_TRADES_v2\n",
      "./configs/ full_fine_tuning_50epochs_paper_final2 convnext_tiny.fb_in22k_fgvc-aircraft-2013b_TRADES_v2\n",
      "/Users/maximeheuillet/Desktop/robust_training/configs/HPO_results/full_fine_tuning_50epochs_paper_final2/convnext_tiny.fb_in22k_fgvc-aircraft-2013b_TRADES_v2.yaml\n",
      "serialized_values vit_base_patch16_clip_224.laion2b_ft_in1k_fgvc-aircraft-2013b_TRADES_v2\n",
      "./configs/ full_fine_tuning_50epochs_paper_final2 vit_base_patch16_clip_224.laion2b_ft_in1k_fgvc-aircraft-2013b_TRADES_v2\n",
      "/Users/maximeheuillet/Desktop/robust_training/configs/HPO_results/full_fine_tuning_50epochs_paper_final2/vit_base_patch16_clip_224.laion2b_ft_in1k_fgvc-aircraft-2013b_TRADES_v2.yaml\n",
      "serialized_values vit_base_patch16_224.augreg_in21k_ft_in1k_fgvc-aircraft-2013b_TRADES_v2\n",
      "./configs/ full_fine_tuning_50epochs_paper_final2 vit_base_patch16_224.augreg_in21k_ft_in1k_fgvc-aircraft-2013b_TRADES_v2\n",
      "/Users/maximeheuillet/Desktop/robust_training/configs/HPO_results/full_fine_tuning_50epochs_paper_final2/vit_base_patch16_224.augreg_in21k_ft_in1k_fgvc-aircraft-2013b_TRADES_v2.yaml\n",
      "serialized_values vit_small_patch16_224.augreg_in21k_ft_in1k_fgvc-aircraft-2013b_TRADES_v2\n",
      "./configs/ full_fine_tuning_50epochs_paper_final2 vit_small_patch16_224.augreg_in21k_ft_in1k_fgvc-aircraft-2013b_TRADES_v2\n",
      "/Users/maximeheuillet/Desktop/robust_training/configs/HPO_results/full_fine_tuning_50epochs_paper_final2/vit_small_patch16_224.augreg_in21k_ft_in1k_fgvc-aircraft-2013b_TRADES_v2.yaml\n",
      "serialized_values eva02_base_patch14_224.mim_in22k_fgvc-aircraft-2013b_TRADES_v2\n",
      "./configs/ full_fine_tuning_50epochs_paper_final2 eva02_base_patch14_224.mim_in22k_fgvc-aircraft-2013b_TRADES_v2\n",
      "/Users/maximeheuillet/Desktop/robust_training/configs/HPO_results/full_fine_tuning_50epochs_paper_final2/eva02_base_patch14_224.mim_in22k_fgvc-aircraft-2013b_TRADES_v2.yaml\n",
      "serialized_values eva02_tiny_patch14_224.mim_in22k_fgvc-aircraft-2013b_TRADES_v2\n",
      "./configs/ full_fine_tuning_50epochs_paper_final2 eva02_tiny_patch14_224.mim_in22k_fgvc-aircraft-2013b_TRADES_v2\n",
      "/Users/maximeheuillet/Desktop/robust_training/configs/HPO_results/full_fine_tuning_50epochs_paper_final2/eva02_tiny_patch14_224.mim_in22k_fgvc-aircraft-2013b_TRADES_v2.yaml\n",
      "serialized_values swin_base_patch4_window7_224.ms_in22k_ft_in1k_fgvc-aircraft-2013b_TRADES_v2\n",
      "./configs/ full_fine_tuning_50epochs_paper_final2 swin_base_patch4_window7_224.ms_in22k_ft_in1k_fgvc-aircraft-2013b_TRADES_v2\n",
      "/Users/maximeheuillet/Desktop/robust_training/configs/HPO_results/full_fine_tuning_50epochs_paper_final2/swin_base_patch4_window7_224.ms_in22k_ft_in1k_fgvc-aircraft-2013b_TRADES_v2.yaml\n",
      "serialized_values swin_tiny_patch4_window7_224.ms_in1k_fgvc-aircraft-2013b_TRADES_v2\n",
      "./configs/ full_fine_tuning_50epochs_paper_final2 swin_tiny_patch4_window7_224.ms_in1k_fgvc-aircraft-2013b_TRADES_v2\n",
      "/Users/maximeheuillet/Desktop/robust_training/configs/HPO_results/full_fine_tuning_50epochs_paper_final2/swin_tiny_patch4_window7_224.ms_in1k_fgvc-aircraft-2013b_TRADES_v2.yaml\n",
      "serialized_values convnext_base.clip_laion2b_augreg_ft_in12k_in1k_fgvc-aircraft-2013b_TRADES_v2\n",
      "./configs/ full_fine_tuning_50epochs_paper_final2 convnext_base.clip_laion2b_augreg_ft_in12k_in1k_fgvc-aircraft-2013b_TRADES_v2\n",
      "/Users/maximeheuillet/Desktop/robust_training/configs/HPO_results/full_fine_tuning_50epochs_paper_final2/convnext_base.clip_laion2b_augreg_ft_in12k_in1k_fgvc-aircraft-2013b_TRADES_v2.yaml\n",
      "serialized_values convnext_base.fb_in22k_ft_in1k_fgvc-aircraft-2013b_TRADES_v2\n",
      "./configs/ full_fine_tuning_50epochs_paper_final2 convnext_base.fb_in22k_ft_in1k_fgvc-aircraft-2013b_TRADES_v2\n",
      "/Users/maximeheuillet/Desktop/robust_training/configs/HPO_results/full_fine_tuning_50epochs_paper_final2/convnext_base.fb_in22k_ft_in1k_fgvc-aircraft-2013b_TRADES_v2.yaml\n",
      "serialized_values convnext_tiny.fb_in22k_ft_in1k_fgvc-aircraft-2013b_TRADES_v2\n",
      "./configs/ full_fine_tuning_50epochs_paper_final2 convnext_tiny.fb_in22k_ft_in1k_fgvc-aircraft-2013b_TRADES_v2\n",
      "/Users/maximeheuillet/Desktop/robust_training/configs/HPO_results/full_fine_tuning_50epochs_paper_final2/convnext_tiny.fb_in22k_ft_in1k_fgvc-aircraft-2013b_TRADES_v2.yaml\n",
      "serialized_values coatnet_0_rw_224.sw_in1k_fgvc-aircraft-2013b_TRADES_v2\n",
      "./configs/ full_fine_tuning_50epochs_paper_final2 coatnet_0_rw_224.sw_in1k_fgvc-aircraft-2013b_TRADES_v2\n",
      "/Users/maximeheuillet/Desktop/robust_training/configs/HPO_results/full_fine_tuning_50epochs_paper_final2/coatnet_0_rw_224.sw_in1k_fgvc-aircraft-2013b_TRADES_v2.yaml\n",
      "serialized_values coatnet_2_rw_224.sw_in12k_ft_in1k_fgvc-aircraft-2013b_TRADES_v2\n",
      "./configs/ full_fine_tuning_50epochs_paper_final2 coatnet_2_rw_224.sw_in12k_ft_in1k_fgvc-aircraft-2013b_TRADES_v2\n",
      "/Users/maximeheuillet/Desktop/robust_training/configs/HPO_results/full_fine_tuning_50epochs_paper_final2/coatnet_2_rw_224.sw_in12k_ft_in1k_fgvc-aircraft-2013b_TRADES_v2.yaml\n",
      "serialized_values coatnet_2_rw_224.sw_in12k_fgvc-aircraft-2013b_TRADES_v2\n",
      "./configs/ full_fine_tuning_50epochs_paper_final2 coatnet_2_rw_224.sw_in12k_fgvc-aircraft-2013b_TRADES_v2\n",
      "/Users/maximeheuillet/Desktop/robust_training/configs/HPO_results/full_fine_tuning_50epochs_paper_final2/coatnet_2_rw_224.sw_in12k_fgvc-aircraft-2013b_TRADES_v2.yaml\n",
      "serialized_values regnetx_004.pycls_in1k_fgvc-aircraft-2013b_TRADES_v2\n",
      "./configs/ full_fine_tuning_50epochs_edge_paper_final2 regnetx_004.pycls_in1k_fgvc-aircraft-2013b_TRADES_v2\n",
      "/Users/maximeheuillet/Desktop/robust_training/configs/HPO_results/full_fine_tuning_50epochs_edge_paper_final2/regnetx_004.pycls_in1k_fgvc-aircraft-2013b_TRADES_v2.yaml\n",
      "serialized_values efficientnet-b0_fgvc-aircraft-2013b_TRADES_v2\n",
      "./configs/ full_fine_tuning_50epochs_edge_paper_final2 efficientnet-b0_fgvc-aircraft-2013b_TRADES_v2\n",
      "/Users/maximeheuillet/Desktop/robust_training/configs/HPO_results/full_fine_tuning_50epochs_edge_paper_final2/efficientnet-b0_fgvc-aircraft-2013b_TRADES_v2.yaml\n",
      "serialized_values deit_tiny_patch16_224.fb_in1k_fgvc-aircraft-2013b_TRADES_v2\n",
      "./configs/ full_fine_tuning_50epochs_edge_paper_final2 deit_tiny_patch16_224.fb_in1k_fgvc-aircraft-2013b_TRADES_v2\n",
      "/Users/maximeheuillet/Desktop/robust_training/configs/HPO_results/full_fine_tuning_50epochs_edge_paper_final2/deit_tiny_patch16_224.fb_in1k_fgvc-aircraft-2013b_TRADES_v2.yaml\n",
      "serialized_values mobilevit-small_fgvc-aircraft-2013b_TRADES_v2\n",
      "./configs/ full_fine_tuning_50epochs_edge_paper_final2 mobilevit-small_fgvc-aircraft-2013b_TRADES_v2\n",
      "/Users/maximeheuillet/Desktop/robust_training/configs/HPO_results/full_fine_tuning_50epochs_edge_paper_final2/mobilevit-small_fgvc-aircraft-2013b_TRADES_v2.yaml\n",
      "serialized_values mobilenetv3_large_100.ra_in1k_fgvc-aircraft-2013b_TRADES_v2\n",
      "./configs/ full_fine_tuning_50epochs_edge_paper_final2 mobilenetv3_large_100.ra_in1k_fgvc-aircraft-2013b_TRADES_v2\n",
      "/Users/maximeheuillet/Desktop/robust_training/configs/HPO_results/full_fine_tuning_50epochs_edge_paper_final2/mobilenetv3_large_100.ra_in1k_fgvc-aircraft-2013b_TRADES_v2.yaml\n",
      "serialized_values edgenext_small.usi_in1k_fgvc-aircraft-2013b_TRADES_v2\n",
      "./configs/ full_fine_tuning_50epochs_edge_paper_final2 edgenext_small.usi_in1k_fgvc-aircraft-2013b_TRADES_v2\n",
      "/Users/maximeheuillet/Desktop/robust_training/configs/HPO_results/full_fine_tuning_50epochs_edge_paper_final2/edgenext_small.usi_in1k_fgvc-aircraft-2013b_TRADES_v2.yaml\n",
      "serialized_values coat_tiny.in1k_fgvc-aircraft-2013b_TRADES_v2\n",
      "./configs/ full_fine_tuning_50epochs_edge_paper_final2 coat_tiny.in1k_fgvc-aircraft-2013b_TRADES_v2\n",
      "/Users/maximeheuillet/Desktop/robust_training/configs/HPO_results/full_fine_tuning_50epochs_edge_paper_final2/coat_tiny.in1k_fgvc-aircraft-2013b_TRADES_v2.yaml\n",
      "serialized_values CLIP-convnext_base_w-laion_aesthetic-s13B-b82K_flowers-102_TRADES_v2\n",
      "./configs/ full_fine_tuning_50epochs_paper_final2 CLIP-convnext_base_w-laion_aesthetic-s13B-b82K_flowers-102_TRADES_v2\n",
      "/Users/maximeheuillet/Desktop/robust_training/configs/HPO_results/full_fine_tuning_50epochs_paper_final2/CLIP-convnext_base_w-laion_aesthetic-s13B-b82K_flowers-102_TRADES_v2.yaml\n",
      "serialized_values CLIP-convnext_base_w-laion2B-s13B-b82K_flowers-102_TRADES_v2\n",
      "./configs/ full_fine_tuning_50epochs_paper_final2 CLIP-convnext_base_w-laion2B-s13B-b82K_flowers-102_TRADES_v2\n",
      "/Users/maximeheuillet/Desktop/robust_training/configs/HPO_results/full_fine_tuning_50epochs_paper_final2/CLIP-convnext_base_w-laion2B-s13B-b82K_flowers-102_TRADES_v2.yaml\n",
      "serialized_values deit_small_patch16_224.fb_in1k_flowers-102_TRADES_v2\n",
      "./configs/ full_fine_tuning_50epochs_paper_final2 deit_small_patch16_224.fb_in1k_flowers-102_TRADES_v2\n",
      "/Users/maximeheuillet/Desktop/robust_training/configs/HPO_results/full_fine_tuning_50epochs_paper_final2/deit_small_patch16_224.fb_in1k_flowers-102_TRADES_v2.yaml\n",
      "serialized_values robust_resnet50_flowers-102_TRADES_v2\n",
      "./configs/ full_fine_tuning_50epochs_paper_final2 robust_resnet50_flowers-102_TRADES_v2\n",
      "/Users/maximeheuillet/Desktop/robust_training/configs/HPO_results/full_fine_tuning_50epochs_paper_final2/robust_resnet50_flowers-102_TRADES_v2.yaml\n",
      "serialized_values vit_small_patch16_224.augreg_in21k_flowers-102_TRADES_v2\n",
      "./configs/ full_fine_tuning_50epochs_paper_final2 vit_small_patch16_224.augreg_in21k_flowers-102_TRADES_v2\n",
      "/Users/maximeheuillet/Desktop/robust_training/configs/HPO_results/full_fine_tuning_50epochs_paper_final2/vit_small_patch16_224.augreg_in21k_flowers-102_TRADES_v2.yaml\n",
      "serialized_values convnext_base.fb_in1k_flowers-102_TRADES_v2\n",
      "./configs/ full_fine_tuning_50epochs_paper_final2 convnext_base.fb_in1k_flowers-102_TRADES_v2\n",
      "/Users/maximeheuillet/Desktop/robust_training/configs/HPO_results/full_fine_tuning_50epochs_paper_final2/convnext_base.fb_in1k_flowers-102_TRADES_v2.yaml\n",
      "serialized_values resnet50.a1_in1k_flowers-102_TRADES_v2\n",
      "./configs/ full_fine_tuning_50epochs_paper_final2 resnet50.a1_in1k_flowers-102_TRADES_v2\n",
      "/Users/maximeheuillet/Desktop/robust_training/configs/HPO_results/full_fine_tuning_50epochs_paper_final2/resnet50.a1_in1k_flowers-102_TRADES_v2.yaml\n",
      "serialized_values robust_vit_base_patch16_224_flowers-102_TRADES_v2\n",
      "./configs/ full_fine_tuning_50epochs_paper_final2 robust_vit_base_patch16_224_flowers-102_TRADES_v2\n",
      "/Users/maximeheuillet/Desktop/robust_training/configs/HPO_results/full_fine_tuning_50epochs_paper_final2/robust_vit_base_patch16_224_flowers-102_TRADES_v2.yaml\n",
      "serialized_values vit_base_patch16_224.mae_flowers-102_TRADES_v2\n",
      "./configs/ full_fine_tuning_50epochs_paper_final2 vit_base_patch16_224.mae_flowers-102_TRADES_v2\n",
      "/Users/maximeheuillet/Desktop/robust_training/configs/HPO_results/full_fine_tuning_50epochs_paper_final2/vit_base_patch16_224.mae_flowers-102_TRADES_v2.yaml\n",
      "serialized_values vit_small_patch16_224.dino_flowers-102_TRADES_v2\n",
      "./configs/ full_fine_tuning_50epochs_paper_final2 vit_small_patch16_224.dino_flowers-102_TRADES_v2\n",
      "/Users/maximeheuillet/Desktop/robust_training/configs/HPO_results/full_fine_tuning_50epochs_paper_final2/vit_small_patch16_224.dino_flowers-102_TRADES_v2.yaml\n",
      "serialized_values convnext_base.fb_in22k_flowers-102_TRADES_v2\n",
      "./configs/ full_fine_tuning_50epochs_paper_final2 convnext_base.fb_in22k_flowers-102_TRADES_v2\n",
      "/Users/maximeheuillet/Desktop/robust_training/configs/HPO_results/full_fine_tuning_50epochs_paper_final2/convnext_base.fb_in22k_flowers-102_TRADES_v2.yaml\n",
      "serialized_values robust_convnext_base_flowers-102_TRADES_v2\n",
      "./configs/ full_fine_tuning_50epochs_paper_final2 robust_convnext_base_flowers-102_TRADES_v2\n",
      "/Users/maximeheuillet/Desktop/robust_training/configs/HPO_results/full_fine_tuning_50epochs_paper_final2/robust_convnext_base_flowers-102_TRADES_v2.yaml\n",
      "serialized_values vit_base_patch16_224.augreg_in1k_flowers-102_TRADES_v2\n",
      "./configs/ full_fine_tuning_50epochs_paper_final2 vit_base_patch16_224.augreg_in1k_flowers-102_TRADES_v2\n",
      "/Users/maximeheuillet/Desktop/robust_training/configs/HPO_results/full_fine_tuning_50epochs_paper_final2/vit_base_patch16_224.augreg_in1k_flowers-102_TRADES_v2.yaml\n",
      "serialized_values vit_base_patch16_224.augreg_in21k_flowers-102_TRADES_v2\n",
      "./configs/ full_fine_tuning_50epochs_paper_final2 vit_base_patch16_224.augreg_in21k_flowers-102_TRADES_v2\n",
      "/Users/maximeheuillet/Desktop/robust_training/configs/HPO_results/full_fine_tuning_50epochs_paper_final2/vit_base_patch16_224.augreg_in21k_flowers-102_TRADES_v2.yaml\n",
      "serialized_values vit_base_patch16_clip_224.laion2b_flowers-102_TRADES_v2\n",
      "./configs/ full_fine_tuning_50epochs_paper_final2 vit_base_patch16_clip_224.laion2b_flowers-102_TRADES_v2\n",
      "/Users/maximeheuillet/Desktop/robust_training/configs/HPO_results/full_fine_tuning_50epochs_paper_final2/vit_base_patch16_clip_224.laion2b_flowers-102_TRADES_v2.yaml\n",
      "serialized_values convnext_tiny.fb_in1k_flowers-102_TRADES_v2\n",
      "./configs/ full_fine_tuning_50epochs_paper_final2 convnext_tiny.fb_in1k_flowers-102_TRADES_v2\n",
      "/Users/maximeheuillet/Desktop/robust_training/configs/HPO_results/full_fine_tuning_50epochs_paper_final2/convnext_tiny.fb_in1k_flowers-102_TRADES_v2.yaml\n",
      "serialized_values robust_convnext_tiny_flowers-102_TRADES_v2\n",
      "./configs/ full_fine_tuning_50epochs_paper_final2 robust_convnext_tiny_flowers-102_TRADES_v2\n",
      "/Users/maximeheuillet/Desktop/robust_training/configs/HPO_results/full_fine_tuning_50epochs_paper_final2/robust_convnext_tiny_flowers-102_TRADES_v2.yaml\n",
      "serialized_values robust_deit_small_patch16_224_flowers-102_TRADES_v2\n",
      "./configs/ full_fine_tuning_50epochs_paper_final2 robust_deit_small_patch16_224_flowers-102_TRADES_v2\n",
      "/Users/maximeheuillet/Desktop/robust_training/configs/HPO_results/full_fine_tuning_50epochs_paper_final2/robust_deit_small_patch16_224_flowers-102_TRADES_v2.yaml\n",
      "serialized_values vit_small_patch16_224.augreg_in1k_flowers-102_TRADES_v2\n",
      "./configs/ full_fine_tuning_50epochs_paper_final2 vit_small_patch16_224.augreg_in1k_flowers-102_TRADES_v2\n",
      "/Users/maximeheuillet/Desktop/robust_training/configs/HPO_results/full_fine_tuning_50epochs_paper_final2/vit_small_patch16_224.augreg_in1k_flowers-102_TRADES_v2.yaml\n",
      "serialized_values convnext_tiny.fb_in22k_flowers-102_TRADES_v2\n",
      "./configs/ full_fine_tuning_50epochs_paper_final2 convnext_tiny.fb_in22k_flowers-102_TRADES_v2\n",
      "/Users/maximeheuillet/Desktop/robust_training/configs/HPO_results/full_fine_tuning_50epochs_paper_final2/convnext_tiny.fb_in22k_flowers-102_TRADES_v2.yaml\n",
      "serialized_values vit_base_patch16_clip_224.laion2b_ft_in1k_flowers-102_TRADES_v2\n",
      "./configs/ full_fine_tuning_50epochs_paper_final2 vit_base_patch16_clip_224.laion2b_ft_in1k_flowers-102_TRADES_v2\n",
      "/Users/maximeheuillet/Desktop/robust_training/configs/HPO_results/full_fine_tuning_50epochs_paper_final2/vit_base_patch16_clip_224.laion2b_ft_in1k_flowers-102_TRADES_v2.yaml\n",
      "serialized_values vit_base_patch16_224.augreg_in21k_ft_in1k_flowers-102_TRADES_v2\n",
      "./configs/ full_fine_tuning_50epochs_paper_final2 vit_base_patch16_224.augreg_in21k_ft_in1k_flowers-102_TRADES_v2\n",
      "/Users/maximeheuillet/Desktop/robust_training/configs/HPO_results/full_fine_tuning_50epochs_paper_final2/vit_base_patch16_224.augreg_in21k_ft_in1k_flowers-102_TRADES_v2.yaml\n",
      "serialized_values vit_small_patch16_224.augreg_in21k_ft_in1k_flowers-102_TRADES_v2\n",
      "./configs/ full_fine_tuning_50epochs_paper_final2 vit_small_patch16_224.augreg_in21k_ft_in1k_flowers-102_TRADES_v2\n",
      "/Users/maximeheuillet/Desktop/robust_training/configs/HPO_results/full_fine_tuning_50epochs_paper_final2/vit_small_patch16_224.augreg_in21k_ft_in1k_flowers-102_TRADES_v2.yaml\n",
      "serialized_values eva02_base_patch14_224.mim_in22k_flowers-102_TRADES_v2\n",
      "./configs/ full_fine_tuning_50epochs_paper_final2 eva02_base_patch14_224.mim_in22k_flowers-102_TRADES_v2\n",
      "/Users/maximeheuillet/Desktop/robust_training/configs/HPO_results/full_fine_tuning_50epochs_paper_final2/eva02_base_patch14_224.mim_in22k_flowers-102_TRADES_v2.yaml\n",
      "serialized_values eva02_tiny_patch14_224.mim_in22k_flowers-102_TRADES_v2\n",
      "./configs/ full_fine_tuning_50epochs_paper_final2 eva02_tiny_patch14_224.mim_in22k_flowers-102_TRADES_v2\n",
      "/Users/maximeheuillet/Desktop/robust_training/configs/HPO_results/full_fine_tuning_50epochs_paper_final2/eva02_tiny_patch14_224.mim_in22k_flowers-102_TRADES_v2.yaml\n",
      "serialized_values swin_base_patch4_window7_224.ms_in22k_ft_in1k_flowers-102_TRADES_v2\n",
      "./configs/ full_fine_tuning_50epochs_paper_final2 swin_base_patch4_window7_224.ms_in22k_ft_in1k_flowers-102_TRADES_v2\n",
      "/Users/maximeheuillet/Desktop/robust_training/configs/HPO_results/full_fine_tuning_50epochs_paper_final2/swin_base_patch4_window7_224.ms_in22k_ft_in1k_flowers-102_TRADES_v2.yaml\n",
      "serialized_values swin_tiny_patch4_window7_224.ms_in1k_flowers-102_TRADES_v2\n",
      "./configs/ full_fine_tuning_50epochs_paper_final2 swin_tiny_patch4_window7_224.ms_in1k_flowers-102_TRADES_v2\n",
      "/Users/maximeheuillet/Desktop/robust_training/configs/HPO_results/full_fine_tuning_50epochs_paper_final2/swin_tiny_patch4_window7_224.ms_in1k_flowers-102_TRADES_v2.yaml\n",
      "serialized_values convnext_base.clip_laion2b_augreg_ft_in12k_in1k_flowers-102_TRADES_v2\n",
      "./configs/ full_fine_tuning_50epochs_paper_final2 convnext_base.clip_laion2b_augreg_ft_in12k_in1k_flowers-102_TRADES_v2\n",
      "/Users/maximeheuillet/Desktop/robust_training/configs/HPO_results/full_fine_tuning_50epochs_paper_final2/convnext_base.clip_laion2b_augreg_ft_in12k_in1k_flowers-102_TRADES_v2.yaml\n",
      "serialized_values convnext_base.fb_in22k_ft_in1k_flowers-102_TRADES_v2\n",
      "./configs/ full_fine_tuning_50epochs_paper_final2 convnext_base.fb_in22k_ft_in1k_flowers-102_TRADES_v2\n",
      "/Users/maximeheuillet/Desktop/robust_training/configs/HPO_results/full_fine_tuning_50epochs_paper_final2/convnext_base.fb_in22k_ft_in1k_flowers-102_TRADES_v2.yaml\n",
      "serialized_values convnext_tiny.fb_in22k_ft_in1k_flowers-102_TRADES_v2\n",
      "./configs/ full_fine_tuning_50epochs_paper_final2 convnext_tiny.fb_in22k_ft_in1k_flowers-102_TRADES_v2\n",
      "/Users/maximeheuillet/Desktop/robust_training/configs/HPO_results/full_fine_tuning_50epochs_paper_final2/convnext_tiny.fb_in22k_ft_in1k_flowers-102_TRADES_v2.yaml\n",
      "serialized_values coatnet_0_rw_224.sw_in1k_flowers-102_TRADES_v2\n",
      "./configs/ full_fine_tuning_50epochs_paper_final2 coatnet_0_rw_224.sw_in1k_flowers-102_TRADES_v2\n",
      "/Users/maximeheuillet/Desktop/robust_training/configs/HPO_results/full_fine_tuning_50epochs_paper_final2/coatnet_0_rw_224.sw_in1k_flowers-102_TRADES_v2.yaml\n",
      "serialized_values coatnet_2_rw_224.sw_in12k_ft_in1k_flowers-102_TRADES_v2\n",
      "./configs/ full_fine_tuning_50epochs_paper_final2 coatnet_2_rw_224.sw_in12k_ft_in1k_flowers-102_TRADES_v2\n",
      "/Users/maximeheuillet/Desktop/robust_training/configs/HPO_results/full_fine_tuning_50epochs_paper_final2/coatnet_2_rw_224.sw_in12k_ft_in1k_flowers-102_TRADES_v2.yaml\n",
      "serialized_values coatnet_2_rw_224.sw_in12k_flowers-102_TRADES_v2\n",
      "./configs/ full_fine_tuning_50epochs_paper_final2 coatnet_2_rw_224.sw_in12k_flowers-102_TRADES_v2\n",
      "/Users/maximeheuillet/Desktop/robust_training/configs/HPO_results/full_fine_tuning_50epochs_paper_final2/coatnet_2_rw_224.sw_in12k_flowers-102_TRADES_v2.yaml\n",
      "serialized_values regnetx_004.pycls_in1k_flowers-102_TRADES_v2\n",
      "./configs/ full_fine_tuning_50epochs_edge_paper_final2 regnetx_004.pycls_in1k_flowers-102_TRADES_v2\n",
      "/Users/maximeheuillet/Desktop/robust_training/configs/HPO_results/full_fine_tuning_50epochs_edge_paper_final2/regnetx_004.pycls_in1k_flowers-102_TRADES_v2.yaml\n",
      "serialized_values efficientnet-b0_flowers-102_TRADES_v2\n",
      "./configs/ full_fine_tuning_50epochs_edge_paper_final2 efficientnet-b0_flowers-102_TRADES_v2\n",
      "/Users/maximeheuillet/Desktop/robust_training/configs/HPO_results/full_fine_tuning_50epochs_edge_paper_final2/efficientnet-b0_flowers-102_TRADES_v2.yaml\n",
      "serialized_values deit_tiny_patch16_224.fb_in1k_flowers-102_TRADES_v2\n",
      "./configs/ full_fine_tuning_50epochs_edge_paper_final2 deit_tiny_patch16_224.fb_in1k_flowers-102_TRADES_v2\n",
      "/Users/maximeheuillet/Desktop/robust_training/configs/HPO_results/full_fine_tuning_50epochs_edge_paper_final2/deit_tiny_patch16_224.fb_in1k_flowers-102_TRADES_v2.yaml\n",
      "serialized_values mobilevit-small_flowers-102_TRADES_v2\n",
      "./configs/ full_fine_tuning_50epochs_edge_paper_final2 mobilevit-small_flowers-102_TRADES_v2\n",
      "/Users/maximeheuillet/Desktop/robust_training/configs/HPO_results/full_fine_tuning_50epochs_edge_paper_final2/mobilevit-small_flowers-102_TRADES_v2.yaml\n",
      "serialized_values mobilenetv3_large_100.ra_in1k_flowers-102_TRADES_v2\n",
      "./configs/ full_fine_tuning_50epochs_edge_paper_final2 mobilenetv3_large_100.ra_in1k_flowers-102_TRADES_v2\n",
      "/Users/maximeheuillet/Desktop/robust_training/configs/HPO_results/full_fine_tuning_50epochs_edge_paper_final2/mobilenetv3_large_100.ra_in1k_flowers-102_TRADES_v2.yaml\n",
      "serialized_values edgenext_small.usi_in1k_flowers-102_TRADES_v2\n",
      "./configs/ full_fine_tuning_50epochs_edge_paper_final2 edgenext_small.usi_in1k_flowers-102_TRADES_v2\n",
      "/Users/maximeheuillet/Desktop/robust_training/configs/HPO_results/full_fine_tuning_50epochs_edge_paper_final2/edgenext_small.usi_in1k_flowers-102_TRADES_v2.yaml\n",
      "serialized_values coat_tiny.in1k_flowers-102_TRADES_v2\n",
      "./configs/ full_fine_tuning_50epochs_edge_paper_final2 coat_tiny.in1k_flowers-102_TRADES_v2\n",
      "/Users/maximeheuillet/Desktop/robust_training/configs/HPO_results/full_fine_tuning_50epochs_edge_paper_final2/coat_tiny.in1k_flowers-102_TRADES_v2.yaml\n",
      "serialized_values CLIP-convnext_base_w-laion_aesthetic-s13B-b82K_oxford-iiit-pet_TRADES_v2\n",
      "./configs/ full_fine_tuning_50epochs_paper_final2 CLIP-convnext_base_w-laion_aesthetic-s13B-b82K_oxford-iiit-pet_TRADES_v2\n",
      "/Users/maximeheuillet/Desktop/robust_training/configs/HPO_results/full_fine_tuning_50epochs_paper_final2/CLIP-convnext_base_w-laion_aesthetic-s13B-b82K_oxford-iiit-pet_TRADES_v2.yaml\n",
      "serialized_values CLIP-convnext_base_w-laion2B-s13B-b82K_oxford-iiit-pet_TRADES_v2\n",
      "./configs/ full_fine_tuning_50epochs_paper_final2 CLIP-convnext_base_w-laion2B-s13B-b82K_oxford-iiit-pet_TRADES_v2\n",
      "/Users/maximeheuillet/Desktop/robust_training/configs/HPO_results/full_fine_tuning_50epochs_paper_final2/CLIP-convnext_base_w-laion2B-s13B-b82K_oxford-iiit-pet_TRADES_v2.yaml\n",
      "serialized_values deit_small_patch16_224.fb_in1k_oxford-iiit-pet_TRADES_v2\n",
      "./configs/ full_fine_tuning_50epochs_paper_final2 deit_small_patch16_224.fb_in1k_oxford-iiit-pet_TRADES_v2\n",
      "/Users/maximeheuillet/Desktop/robust_training/configs/HPO_results/full_fine_tuning_50epochs_paper_final2/deit_small_patch16_224.fb_in1k_oxford-iiit-pet_TRADES_v2.yaml\n",
      "serialized_values robust_resnet50_oxford-iiit-pet_TRADES_v2\n",
      "./configs/ full_fine_tuning_50epochs_paper_final2 robust_resnet50_oxford-iiit-pet_TRADES_v2\n",
      "/Users/maximeheuillet/Desktop/robust_training/configs/HPO_results/full_fine_tuning_50epochs_paper_final2/robust_resnet50_oxford-iiit-pet_TRADES_v2.yaml\n",
      "serialized_values vit_small_patch16_224.augreg_in21k_oxford-iiit-pet_TRADES_v2\n",
      "./configs/ full_fine_tuning_50epochs_paper_final2 vit_small_patch16_224.augreg_in21k_oxford-iiit-pet_TRADES_v2\n",
      "/Users/maximeheuillet/Desktop/robust_training/configs/HPO_results/full_fine_tuning_50epochs_paper_final2/vit_small_patch16_224.augreg_in21k_oxford-iiit-pet_TRADES_v2.yaml\n",
      "serialized_values convnext_base.fb_in1k_oxford-iiit-pet_TRADES_v2\n",
      "./configs/ full_fine_tuning_50epochs_paper_final2 convnext_base.fb_in1k_oxford-iiit-pet_TRADES_v2\n",
      "/Users/maximeheuillet/Desktop/robust_training/configs/HPO_results/full_fine_tuning_50epochs_paper_final2/convnext_base.fb_in1k_oxford-iiit-pet_TRADES_v2.yaml\n",
      "serialized_values resnet50.a1_in1k_oxford-iiit-pet_TRADES_v2\n",
      "./configs/ full_fine_tuning_50epochs_paper_final2 resnet50.a1_in1k_oxford-iiit-pet_TRADES_v2\n",
      "/Users/maximeheuillet/Desktop/robust_training/configs/HPO_results/full_fine_tuning_50epochs_paper_final2/resnet50.a1_in1k_oxford-iiit-pet_TRADES_v2.yaml\n",
      "serialized_values robust_vit_base_patch16_224_oxford-iiit-pet_TRADES_v2\n",
      "./configs/ full_fine_tuning_50epochs_paper_final2 robust_vit_base_patch16_224_oxford-iiit-pet_TRADES_v2\n",
      "/Users/maximeheuillet/Desktop/robust_training/configs/HPO_results/full_fine_tuning_50epochs_paper_final2/robust_vit_base_patch16_224_oxford-iiit-pet_TRADES_v2.yaml\n",
      "serialized_values vit_base_patch16_224.mae_oxford-iiit-pet_TRADES_v2\n",
      "./configs/ full_fine_tuning_50epochs_paper_final2 vit_base_patch16_224.mae_oxford-iiit-pet_TRADES_v2\n",
      "/Users/maximeheuillet/Desktop/robust_training/configs/HPO_results/full_fine_tuning_50epochs_paper_final2/vit_base_patch16_224.mae_oxford-iiit-pet_TRADES_v2.yaml\n",
      "serialized_values vit_small_patch16_224.dino_oxford-iiit-pet_TRADES_v2\n",
      "./configs/ full_fine_tuning_50epochs_paper_final2 vit_small_patch16_224.dino_oxford-iiit-pet_TRADES_v2\n",
      "/Users/maximeheuillet/Desktop/robust_training/configs/HPO_results/full_fine_tuning_50epochs_paper_final2/vit_small_patch16_224.dino_oxford-iiit-pet_TRADES_v2.yaml\n",
      "serialized_values convnext_base.fb_in22k_oxford-iiit-pet_TRADES_v2\n",
      "./configs/ full_fine_tuning_50epochs_paper_final2 convnext_base.fb_in22k_oxford-iiit-pet_TRADES_v2\n",
      "/Users/maximeheuillet/Desktop/robust_training/configs/HPO_results/full_fine_tuning_50epochs_paper_final2/convnext_base.fb_in22k_oxford-iiit-pet_TRADES_v2.yaml\n",
      "serialized_values robust_convnext_base_oxford-iiit-pet_TRADES_v2\n",
      "./configs/ full_fine_tuning_50epochs_paper_final2 robust_convnext_base_oxford-iiit-pet_TRADES_v2\n",
      "/Users/maximeheuillet/Desktop/robust_training/configs/HPO_results/full_fine_tuning_50epochs_paper_final2/robust_convnext_base_oxford-iiit-pet_TRADES_v2.yaml\n",
      "serialized_values vit_base_patch16_224.augreg_in1k_oxford-iiit-pet_TRADES_v2\n",
      "./configs/ full_fine_tuning_50epochs_paper_final2 vit_base_patch16_224.augreg_in1k_oxford-iiit-pet_TRADES_v2\n",
      "/Users/maximeheuillet/Desktop/robust_training/configs/HPO_results/full_fine_tuning_50epochs_paper_final2/vit_base_patch16_224.augreg_in1k_oxford-iiit-pet_TRADES_v2.yaml\n",
      "serialized_values vit_base_patch16_224.augreg_in21k_oxford-iiit-pet_TRADES_v2\n",
      "./configs/ full_fine_tuning_50epochs_paper_final2 vit_base_patch16_224.augreg_in21k_oxford-iiit-pet_TRADES_v2\n",
      "/Users/maximeheuillet/Desktop/robust_training/configs/HPO_results/full_fine_tuning_50epochs_paper_final2/vit_base_patch16_224.augreg_in21k_oxford-iiit-pet_TRADES_v2.yaml\n",
      "serialized_values vit_base_patch16_clip_224.laion2b_oxford-iiit-pet_TRADES_v2\n",
      "./configs/ full_fine_tuning_50epochs_paper_final2 vit_base_patch16_clip_224.laion2b_oxford-iiit-pet_TRADES_v2\n",
      "/Users/maximeheuillet/Desktop/robust_training/configs/HPO_results/full_fine_tuning_50epochs_paper_final2/vit_base_patch16_clip_224.laion2b_oxford-iiit-pet_TRADES_v2.yaml\n",
      "serialized_values convnext_tiny.fb_in1k_oxford-iiit-pet_TRADES_v2\n",
      "./configs/ full_fine_tuning_50epochs_paper_final2 convnext_tiny.fb_in1k_oxford-iiit-pet_TRADES_v2\n",
      "/Users/maximeheuillet/Desktop/robust_training/configs/HPO_results/full_fine_tuning_50epochs_paper_final2/convnext_tiny.fb_in1k_oxford-iiit-pet_TRADES_v2.yaml\n",
      "serialized_values robust_convnext_tiny_oxford-iiit-pet_TRADES_v2\n",
      "./configs/ full_fine_tuning_50epochs_paper_final2 robust_convnext_tiny_oxford-iiit-pet_TRADES_v2\n",
      "/Users/maximeheuillet/Desktop/robust_training/configs/HPO_results/full_fine_tuning_50epochs_paper_final2/robust_convnext_tiny_oxford-iiit-pet_TRADES_v2.yaml\n",
      "serialized_values robust_deit_small_patch16_224_oxford-iiit-pet_TRADES_v2\n",
      "./configs/ full_fine_tuning_50epochs_paper_final2 robust_deit_small_patch16_224_oxford-iiit-pet_TRADES_v2\n",
      "/Users/maximeheuillet/Desktop/robust_training/configs/HPO_results/full_fine_tuning_50epochs_paper_final2/robust_deit_small_patch16_224_oxford-iiit-pet_TRADES_v2.yaml\n",
      "serialized_values vit_small_patch16_224.augreg_in1k_oxford-iiit-pet_TRADES_v2\n",
      "./configs/ full_fine_tuning_50epochs_paper_final2 vit_small_patch16_224.augreg_in1k_oxford-iiit-pet_TRADES_v2\n",
      "/Users/maximeheuillet/Desktop/robust_training/configs/HPO_results/full_fine_tuning_50epochs_paper_final2/vit_small_patch16_224.augreg_in1k_oxford-iiit-pet_TRADES_v2.yaml\n",
      "serialized_values convnext_tiny.fb_in22k_oxford-iiit-pet_TRADES_v2\n",
      "./configs/ full_fine_tuning_50epochs_paper_final2 convnext_tiny.fb_in22k_oxford-iiit-pet_TRADES_v2\n",
      "/Users/maximeheuillet/Desktop/robust_training/configs/HPO_results/full_fine_tuning_50epochs_paper_final2/convnext_tiny.fb_in22k_oxford-iiit-pet_TRADES_v2.yaml\n",
      "serialized_values vit_base_patch16_clip_224.laion2b_ft_in1k_oxford-iiit-pet_TRADES_v2\n",
      "./configs/ full_fine_tuning_50epochs_paper_final2 vit_base_patch16_clip_224.laion2b_ft_in1k_oxford-iiit-pet_TRADES_v2\n",
      "/Users/maximeheuillet/Desktop/robust_training/configs/HPO_results/full_fine_tuning_50epochs_paper_final2/vit_base_patch16_clip_224.laion2b_ft_in1k_oxford-iiit-pet_TRADES_v2.yaml\n",
      "serialized_values vit_base_patch16_224.augreg_in21k_ft_in1k_oxford-iiit-pet_TRADES_v2\n",
      "./configs/ full_fine_tuning_50epochs_paper_final2 vit_base_patch16_224.augreg_in21k_ft_in1k_oxford-iiit-pet_TRADES_v2\n",
      "/Users/maximeheuillet/Desktop/robust_training/configs/HPO_results/full_fine_tuning_50epochs_paper_final2/vit_base_patch16_224.augreg_in21k_ft_in1k_oxford-iiit-pet_TRADES_v2.yaml\n",
      "serialized_values vit_small_patch16_224.augreg_in21k_ft_in1k_oxford-iiit-pet_TRADES_v2\n",
      "./configs/ full_fine_tuning_50epochs_paper_final2 vit_small_patch16_224.augreg_in21k_ft_in1k_oxford-iiit-pet_TRADES_v2\n",
      "/Users/maximeheuillet/Desktop/robust_training/configs/HPO_results/full_fine_tuning_50epochs_paper_final2/vit_small_patch16_224.augreg_in21k_ft_in1k_oxford-iiit-pet_TRADES_v2.yaml\n",
      "serialized_values eva02_base_patch14_224.mim_in22k_oxford-iiit-pet_TRADES_v2\n",
      "./configs/ full_fine_tuning_50epochs_paper_final2 eva02_base_patch14_224.mim_in22k_oxford-iiit-pet_TRADES_v2\n",
      "/Users/maximeheuillet/Desktop/robust_training/configs/HPO_results/full_fine_tuning_50epochs_paper_final2/eva02_base_patch14_224.mim_in22k_oxford-iiit-pet_TRADES_v2.yaml\n",
      "serialized_values eva02_tiny_patch14_224.mim_in22k_oxford-iiit-pet_TRADES_v2\n",
      "./configs/ full_fine_tuning_50epochs_paper_final2 eva02_tiny_patch14_224.mim_in22k_oxford-iiit-pet_TRADES_v2\n",
      "/Users/maximeheuillet/Desktop/robust_training/configs/HPO_results/full_fine_tuning_50epochs_paper_final2/eva02_tiny_patch14_224.mim_in22k_oxford-iiit-pet_TRADES_v2.yaml\n",
      "serialized_values swin_base_patch4_window7_224.ms_in22k_ft_in1k_oxford-iiit-pet_TRADES_v2\n",
      "./configs/ full_fine_tuning_50epochs_paper_final2 swin_base_patch4_window7_224.ms_in22k_ft_in1k_oxford-iiit-pet_TRADES_v2\n",
      "/Users/maximeheuillet/Desktop/robust_training/configs/HPO_results/full_fine_tuning_50epochs_paper_final2/swin_base_patch4_window7_224.ms_in22k_ft_in1k_oxford-iiit-pet_TRADES_v2.yaml\n",
      "serialized_values swin_tiny_patch4_window7_224.ms_in1k_oxford-iiit-pet_TRADES_v2\n",
      "./configs/ full_fine_tuning_50epochs_paper_final2 swin_tiny_patch4_window7_224.ms_in1k_oxford-iiit-pet_TRADES_v2\n",
      "/Users/maximeheuillet/Desktop/robust_training/configs/HPO_results/full_fine_tuning_50epochs_paper_final2/swin_tiny_patch4_window7_224.ms_in1k_oxford-iiit-pet_TRADES_v2.yaml\n",
      "serialized_values convnext_base.clip_laion2b_augreg_ft_in12k_in1k_oxford-iiit-pet_TRADES_v2\n",
      "./configs/ full_fine_tuning_50epochs_paper_final2 convnext_base.clip_laion2b_augreg_ft_in12k_in1k_oxford-iiit-pet_TRADES_v2\n",
      "/Users/maximeheuillet/Desktop/robust_training/configs/HPO_results/full_fine_tuning_50epochs_paper_final2/convnext_base.clip_laion2b_augreg_ft_in12k_in1k_oxford-iiit-pet_TRADES_v2.yaml\n",
      "serialized_values convnext_base.fb_in22k_ft_in1k_oxford-iiit-pet_TRADES_v2\n",
      "./configs/ full_fine_tuning_50epochs_paper_final2 convnext_base.fb_in22k_ft_in1k_oxford-iiit-pet_TRADES_v2\n",
      "/Users/maximeheuillet/Desktop/robust_training/configs/HPO_results/full_fine_tuning_50epochs_paper_final2/convnext_base.fb_in22k_ft_in1k_oxford-iiit-pet_TRADES_v2.yaml\n",
      "serialized_values convnext_tiny.fb_in22k_ft_in1k_oxford-iiit-pet_TRADES_v2\n",
      "./configs/ full_fine_tuning_50epochs_paper_final2 convnext_tiny.fb_in22k_ft_in1k_oxford-iiit-pet_TRADES_v2\n",
      "/Users/maximeheuillet/Desktop/robust_training/configs/HPO_results/full_fine_tuning_50epochs_paper_final2/convnext_tiny.fb_in22k_ft_in1k_oxford-iiit-pet_TRADES_v2.yaml\n",
      "serialized_values coatnet_0_rw_224.sw_in1k_oxford-iiit-pet_TRADES_v2\n",
      "./configs/ full_fine_tuning_50epochs_paper_final2 coatnet_0_rw_224.sw_in1k_oxford-iiit-pet_TRADES_v2\n",
      "/Users/maximeheuillet/Desktop/robust_training/configs/HPO_results/full_fine_tuning_50epochs_paper_final2/coatnet_0_rw_224.sw_in1k_oxford-iiit-pet_TRADES_v2.yaml\n",
      "serialized_values coatnet_2_rw_224.sw_in12k_ft_in1k_oxford-iiit-pet_TRADES_v2\n",
      "./configs/ full_fine_tuning_50epochs_paper_final2 coatnet_2_rw_224.sw_in12k_ft_in1k_oxford-iiit-pet_TRADES_v2\n",
      "/Users/maximeheuillet/Desktop/robust_training/configs/HPO_results/full_fine_tuning_50epochs_paper_final2/coatnet_2_rw_224.sw_in12k_ft_in1k_oxford-iiit-pet_TRADES_v2.yaml\n",
      "serialized_values coatnet_2_rw_224.sw_in12k_oxford-iiit-pet_TRADES_v2\n",
      "./configs/ full_fine_tuning_50epochs_paper_final2 coatnet_2_rw_224.sw_in12k_oxford-iiit-pet_TRADES_v2\n",
      "/Users/maximeheuillet/Desktop/robust_training/configs/HPO_results/full_fine_tuning_50epochs_paper_final2/coatnet_2_rw_224.sw_in12k_oxford-iiit-pet_TRADES_v2.yaml\n",
      "serialized_values regnetx_004.pycls_in1k_oxford-iiit-pet_TRADES_v2\n",
      "./configs/ full_fine_tuning_50epochs_edge_paper_final2 regnetx_004.pycls_in1k_oxford-iiit-pet_TRADES_v2\n",
      "/Users/maximeheuillet/Desktop/robust_training/configs/HPO_results/full_fine_tuning_50epochs_edge_paper_final2/regnetx_004.pycls_in1k_oxford-iiit-pet_TRADES_v2.yaml\n",
      "serialized_values efficientnet-b0_oxford-iiit-pet_TRADES_v2\n",
      "./configs/ full_fine_tuning_50epochs_edge_paper_final2 efficientnet-b0_oxford-iiit-pet_TRADES_v2\n",
      "/Users/maximeheuillet/Desktop/robust_training/configs/HPO_results/full_fine_tuning_50epochs_edge_paper_final2/efficientnet-b0_oxford-iiit-pet_TRADES_v2.yaml\n",
      "serialized_values deit_tiny_patch16_224.fb_in1k_oxford-iiit-pet_TRADES_v2\n",
      "./configs/ full_fine_tuning_50epochs_edge_paper_final2 deit_tiny_patch16_224.fb_in1k_oxford-iiit-pet_TRADES_v2\n",
      "/Users/maximeheuillet/Desktop/robust_training/configs/HPO_results/full_fine_tuning_50epochs_edge_paper_final2/deit_tiny_patch16_224.fb_in1k_oxford-iiit-pet_TRADES_v2.yaml\n",
      "serialized_values mobilevit-small_oxford-iiit-pet_TRADES_v2\n",
      "./configs/ full_fine_tuning_50epochs_edge_paper_final2 mobilevit-small_oxford-iiit-pet_TRADES_v2\n",
      "/Users/maximeheuillet/Desktop/robust_training/configs/HPO_results/full_fine_tuning_50epochs_edge_paper_final2/mobilevit-small_oxford-iiit-pet_TRADES_v2.yaml\n",
      "serialized_values mobilenetv3_large_100.ra_in1k_oxford-iiit-pet_TRADES_v2\n",
      "./configs/ full_fine_tuning_50epochs_edge_paper_final2 mobilenetv3_large_100.ra_in1k_oxford-iiit-pet_TRADES_v2\n",
      "/Users/maximeheuillet/Desktop/robust_training/configs/HPO_results/full_fine_tuning_50epochs_edge_paper_final2/mobilenetv3_large_100.ra_in1k_oxford-iiit-pet_TRADES_v2.yaml\n",
      "serialized_values edgenext_small.usi_in1k_oxford-iiit-pet_TRADES_v2\n",
      "./configs/ full_fine_tuning_50epochs_edge_paper_final2 edgenext_small.usi_in1k_oxford-iiit-pet_TRADES_v2\n",
      "/Users/maximeheuillet/Desktop/robust_training/configs/HPO_results/full_fine_tuning_50epochs_edge_paper_final2/edgenext_small.usi_in1k_oxford-iiit-pet_TRADES_v2.yaml\n",
      "serialized_values coat_tiny.in1k_oxford-iiit-pet_TRADES_v2\n",
      "./configs/ full_fine_tuning_50epochs_edge_paper_final2 coat_tiny.in1k_oxford-iiit-pet_TRADES_v2\n",
      "/Users/maximeheuillet/Desktop/robust_training/configs/HPO_results/full_fine_tuning_50epochs_edge_paper_final2/coat_tiny.in1k_oxford-iiit-pet_TRADES_v2.yaml\n",
      "serialized_values CLIP-convnext_base_w-laion_aesthetic-s13B-b82K_uc-merced-land-use-dataset_CLASSIC_AT\n",
      "./configs/ full_fine_tuning_50epochs_paper_final2 CLIP-convnext_base_w-laion_aesthetic-s13B-b82K_uc-merced-land-use-dataset_CLASSIC_AT\n",
      "/Users/maximeheuillet/Desktop/robust_training/configs/HPO_results/full_fine_tuning_50epochs_paper_final2/CLIP-convnext_base_w-laion_aesthetic-s13B-b82K_uc-merced-land-use-dataset_CLASSIC_AT.yaml\n",
      "serialized_values CLIP-convnext_base_w-laion2B-s13B-b82K_uc-merced-land-use-dataset_CLASSIC_AT\n",
      "./configs/ full_fine_tuning_50epochs_paper_final2 CLIP-convnext_base_w-laion2B-s13B-b82K_uc-merced-land-use-dataset_CLASSIC_AT\n",
      "/Users/maximeheuillet/Desktop/robust_training/configs/HPO_results/full_fine_tuning_50epochs_paper_final2/CLIP-convnext_base_w-laion2B-s13B-b82K_uc-merced-land-use-dataset_CLASSIC_AT.yaml\n",
      "serialized_values deit_small_patch16_224.fb_in1k_uc-merced-land-use-dataset_CLASSIC_AT\n",
      "./configs/ full_fine_tuning_50epochs_paper_final2 deit_small_patch16_224.fb_in1k_uc-merced-land-use-dataset_CLASSIC_AT\n",
      "/Users/maximeheuillet/Desktop/robust_training/configs/HPO_results/full_fine_tuning_50epochs_paper_final2/deit_small_patch16_224.fb_in1k_uc-merced-land-use-dataset_CLASSIC_AT.yaml\n",
      "serialized_values robust_resnet50_uc-merced-land-use-dataset_CLASSIC_AT\n",
      "./configs/ full_fine_tuning_50epochs_paper_final2 robust_resnet50_uc-merced-land-use-dataset_CLASSIC_AT\n",
      "/Users/maximeheuillet/Desktop/robust_training/configs/HPO_results/full_fine_tuning_50epochs_paper_final2/robust_resnet50_uc-merced-land-use-dataset_CLASSIC_AT.yaml\n",
      "serialized_values vit_small_patch16_224.augreg_in21k_uc-merced-land-use-dataset_CLASSIC_AT\n",
      "./configs/ full_fine_tuning_50epochs_paper_final2 vit_small_patch16_224.augreg_in21k_uc-merced-land-use-dataset_CLASSIC_AT\n",
      "/Users/maximeheuillet/Desktop/robust_training/configs/HPO_results/full_fine_tuning_50epochs_paper_final2/vit_small_patch16_224.augreg_in21k_uc-merced-land-use-dataset_CLASSIC_AT.yaml\n",
      "serialized_values convnext_base.fb_in1k_uc-merced-land-use-dataset_CLASSIC_AT\n",
      "./configs/ full_fine_tuning_50epochs_paper_final2 convnext_base.fb_in1k_uc-merced-land-use-dataset_CLASSIC_AT\n",
      "/Users/maximeheuillet/Desktop/robust_training/configs/HPO_results/full_fine_tuning_50epochs_paper_final2/convnext_base.fb_in1k_uc-merced-land-use-dataset_CLASSIC_AT.yaml\n",
      "serialized_values resnet50.a1_in1k_uc-merced-land-use-dataset_CLASSIC_AT\n",
      "./configs/ full_fine_tuning_50epochs_paper_final2 resnet50.a1_in1k_uc-merced-land-use-dataset_CLASSIC_AT\n",
      "/Users/maximeheuillet/Desktop/robust_training/configs/HPO_results/full_fine_tuning_50epochs_paper_final2/resnet50.a1_in1k_uc-merced-land-use-dataset_CLASSIC_AT.yaml\n",
      "serialized_values robust_vit_base_patch16_224_uc-merced-land-use-dataset_CLASSIC_AT\n",
      "./configs/ full_fine_tuning_50epochs_paper_final2 robust_vit_base_patch16_224_uc-merced-land-use-dataset_CLASSIC_AT\n",
      "/Users/maximeheuillet/Desktop/robust_training/configs/HPO_results/full_fine_tuning_50epochs_paper_final2/robust_vit_base_patch16_224_uc-merced-land-use-dataset_CLASSIC_AT.yaml\n",
      "serialized_values vit_base_patch16_224.mae_uc-merced-land-use-dataset_CLASSIC_AT\n",
      "./configs/ full_fine_tuning_50epochs_paper_final2 vit_base_patch16_224.mae_uc-merced-land-use-dataset_CLASSIC_AT\n",
      "/Users/maximeheuillet/Desktop/robust_training/configs/HPO_results/full_fine_tuning_50epochs_paper_final2/vit_base_patch16_224.mae_uc-merced-land-use-dataset_CLASSIC_AT.yaml\n",
      "serialized_values vit_small_patch16_224.dino_uc-merced-land-use-dataset_CLASSIC_AT\n",
      "./configs/ full_fine_tuning_50epochs_paper_final2 vit_small_patch16_224.dino_uc-merced-land-use-dataset_CLASSIC_AT\n",
      "/Users/maximeheuillet/Desktop/robust_training/configs/HPO_results/full_fine_tuning_50epochs_paper_final2/vit_small_patch16_224.dino_uc-merced-land-use-dataset_CLASSIC_AT.yaml\n",
      "serialized_values convnext_base.fb_in22k_uc-merced-land-use-dataset_CLASSIC_AT\n",
      "./configs/ full_fine_tuning_50epochs_paper_final2 convnext_base.fb_in22k_uc-merced-land-use-dataset_CLASSIC_AT\n",
      "/Users/maximeheuillet/Desktop/robust_training/configs/HPO_results/full_fine_tuning_50epochs_paper_final2/convnext_base.fb_in22k_uc-merced-land-use-dataset_CLASSIC_AT.yaml\n",
      "serialized_values robust_convnext_base_uc-merced-land-use-dataset_CLASSIC_AT\n",
      "./configs/ full_fine_tuning_50epochs_paper_final2 robust_convnext_base_uc-merced-land-use-dataset_CLASSIC_AT\n",
      "/Users/maximeheuillet/Desktop/robust_training/configs/HPO_results/full_fine_tuning_50epochs_paper_final2/robust_convnext_base_uc-merced-land-use-dataset_CLASSIC_AT.yaml\n",
      "serialized_values vit_base_patch16_224.augreg_in1k_uc-merced-land-use-dataset_CLASSIC_AT\n",
      "./configs/ full_fine_tuning_50epochs_paper_final2 vit_base_patch16_224.augreg_in1k_uc-merced-land-use-dataset_CLASSIC_AT\n",
      "/Users/maximeheuillet/Desktop/robust_training/configs/HPO_results/full_fine_tuning_50epochs_paper_final2/vit_base_patch16_224.augreg_in1k_uc-merced-land-use-dataset_CLASSIC_AT.yaml\n",
      "serialized_values vit_base_patch16_224.augreg_in21k_uc-merced-land-use-dataset_CLASSIC_AT\n",
      "./configs/ full_fine_tuning_50epochs_paper_final2 vit_base_patch16_224.augreg_in21k_uc-merced-land-use-dataset_CLASSIC_AT\n",
      "/Users/maximeheuillet/Desktop/robust_training/configs/HPO_results/full_fine_tuning_50epochs_paper_final2/vit_base_patch16_224.augreg_in21k_uc-merced-land-use-dataset_CLASSIC_AT.yaml\n",
      "serialized_values vit_base_patch16_clip_224.laion2b_uc-merced-land-use-dataset_CLASSIC_AT\n",
      "./configs/ full_fine_tuning_50epochs_paper_final2 vit_base_patch16_clip_224.laion2b_uc-merced-land-use-dataset_CLASSIC_AT\n",
      "/Users/maximeheuillet/Desktop/robust_training/configs/HPO_results/full_fine_tuning_50epochs_paper_final2/vit_base_patch16_clip_224.laion2b_uc-merced-land-use-dataset_CLASSIC_AT.yaml\n",
      "serialized_values convnext_tiny.fb_in1k_uc-merced-land-use-dataset_CLASSIC_AT\n",
      "./configs/ full_fine_tuning_50epochs_paper_final2 convnext_tiny.fb_in1k_uc-merced-land-use-dataset_CLASSIC_AT\n",
      "/Users/maximeheuillet/Desktop/robust_training/configs/HPO_results/full_fine_tuning_50epochs_paper_final2/convnext_tiny.fb_in1k_uc-merced-land-use-dataset_CLASSIC_AT.yaml\n",
      "serialized_values robust_convnext_tiny_uc-merced-land-use-dataset_CLASSIC_AT\n",
      "./configs/ full_fine_tuning_50epochs_paper_final2 robust_convnext_tiny_uc-merced-land-use-dataset_CLASSIC_AT\n",
      "/Users/maximeheuillet/Desktop/robust_training/configs/HPO_results/full_fine_tuning_50epochs_paper_final2/robust_convnext_tiny_uc-merced-land-use-dataset_CLASSIC_AT.yaml\n",
      "serialized_values robust_deit_small_patch16_224_uc-merced-land-use-dataset_CLASSIC_AT\n",
      "./configs/ full_fine_tuning_50epochs_paper_final2 robust_deit_small_patch16_224_uc-merced-land-use-dataset_CLASSIC_AT\n",
      "/Users/maximeheuillet/Desktop/robust_training/configs/HPO_results/full_fine_tuning_50epochs_paper_final2/robust_deit_small_patch16_224_uc-merced-land-use-dataset_CLASSIC_AT.yaml\n",
      "serialized_values vit_small_patch16_224.augreg_in1k_uc-merced-land-use-dataset_CLASSIC_AT\n",
      "./configs/ full_fine_tuning_50epochs_paper_final2 vit_small_patch16_224.augreg_in1k_uc-merced-land-use-dataset_CLASSIC_AT\n",
      "/Users/maximeheuillet/Desktop/robust_training/configs/HPO_results/full_fine_tuning_50epochs_paper_final2/vit_small_patch16_224.augreg_in1k_uc-merced-land-use-dataset_CLASSIC_AT.yaml\n",
      "serialized_values convnext_tiny.fb_in22k_uc-merced-land-use-dataset_CLASSIC_AT\n",
      "./configs/ full_fine_tuning_50epochs_paper_final2 convnext_tiny.fb_in22k_uc-merced-land-use-dataset_CLASSIC_AT\n",
      "/Users/maximeheuillet/Desktop/robust_training/configs/HPO_results/full_fine_tuning_50epochs_paper_final2/convnext_tiny.fb_in22k_uc-merced-land-use-dataset_CLASSIC_AT.yaml\n",
      "serialized_values vit_base_patch16_clip_224.laion2b_ft_in1k_uc-merced-land-use-dataset_CLASSIC_AT\n",
      "./configs/ full_fine_tuning_50epochs_paper_final2 vit_base_patch16_clip_224.laion2b_ft_in1k_uc-merced-land-use-dataset_CLASSIC_AT\n",
      "/Users/maximeheuillet/Desktop/robust_training/configs/HPO_results/full_fine_tuning_50epochs_paper_final2/vit_base_patch16_clip_224.laion2b_ft_in1k_uc-merced-land-use-dataset_CLASSIC_AT.yaml\n",
      "serialized_values vit_base_patch16_224.augreg_in21k_ft_in1k_uc-merced-land-use-dataset_CLASSIC_AT\n",
      "./configs/ full_fine_tuning_50epochs_paper_final2 vit_base_patch16_224.augreg_in21k_ft_in1k_uc-merced-land-use-dataset_CLASSIC_AT\n",
      "/Users/maximeheuillet/Desktop/robust_training/configs/HPO_results/full_fine_tuning_50epochs_paper_final2/vit_base_patch16_224.augreg_in21k_ft_in1k_uc-merced-land-use-dataset_CLASSIC_AT.yaml\n",
      "serialized_values vit_small_patch16_224.augreg_in21k_ft_in1k_uc-merced-land-use-dataset_CLASSIC_AT\n",
      "./configs/ full_fine_tuning_50epochs_paper_final2 vit_small_patch16_224.augreg_in21k_ft_in1k_uc-merced-land-use-dataset_CLASSIC_AT\n",
      "/Users/maximeheuillet/Desktop/robust_training/configs/HPO_results/full_fine_tuning_50epochs_paper_final2/vit_small_patch16_224.augreg_in21k_ft_in1k_uc-merced-land-use-dataset_CLASSIC_AT.yaml\n",
      "serialized_values eva02_base_patch14_224.mim_in22k_uc-merced-land-use-dataset_CLASSIC_AT\n",
      "./configs/ full_fine_tuning_50epochs_paper_final2 eva02_base_patch14_224.mim_in22k_uc-merced-land-use-dataset_CLASSIC_AT\n",
      "/Users/maximeheuillet/Desktop/robust_training/configs/HPO_results/full_fine_tuning_50epochs_paper_final2/eva02_base_patch14_224.mim_in22k_uc-merced-land-use-dataset_CLASSIC_AT.yaml\n",
      "serialized_values eva02_tiny_patch14_224.mim_in22k_uc-merced-land-use-dataset_CLASSIC_AT\n",
      "./configs/ full_fine_tuning_50epochs_paper_final2 eva02_tiny_patch14_224.mim_in22k_uc-merced-land-use-dataset_CLASSIC_AT\n",
      "/Users/maximeheuillet/Desktop/robust_training/configs/HPO_results/full_fine_tuning_50epochs_paper_final2/eva02_tiny_patch14_224.mim_in22k_uc-merced-land-use-dataset_CLASSIC_AT.yaml\n",
      "serialized_values swin_base_patch4_window7_224.ms_in22k_ft_in1k_uc-merced-land-use-dataset_CLASSIC_AT\n",
      "./configs/ full_fine_tuning_50epochs_paper_final2 swin_base_patch4_window7_224.ms_in22k_ft_in1k_uc-merced-land-use-dataset_CLASSIC_AT\n",
      "/Users/maximeheuillet/Desktop/robust_training/configs/HPO_results/full_fine_tuning_50epochs_paper_final2/swin_base_patch4_window7_224.ms_in22k_ft_in1k_uc-merced-land-use-dataset_CLASSIC_AT.yaml\n",
      "serialized_values swin_tiny_patch4_window7_224.ms_in1k_uc-merced-land-use-dataset_CLASSIC_AT\n",
      "./configs/ full_fine_tuning_50epochs_paper_final2 swin_tiny_patch4_window7_224.ms_in1k_uc-merced-land-use-dataset_CLASSIC_AT\n",
      "/Users/maximeheuillet/Desktop/robust_training/configs/HPO_results/full_fine_tuning_50epochs_paper_final2/swin_tiny_patch4_window7_224.ms_in1k_uc-merced-land-use-dataset_CLASSIC_AT.yaml\n",
      "serialized_values convnext_base.clip_laion2b_augreg_ft_in12k_in1k_uc-merced-land-use-dataset_CLASSIC_AT\n",
      "./configs/ full_fine_tuning_50epochs_paper_final2 convnext_base.clip_laion2b_augreg_ft_in12k_in1k_uc-merced-land-use-dataset_CLASSIC_AT\n",
      "/Users/maximeheuillet/Desktop/robust_training/configs/HPO_results/full_fine_tuning_50epochs_paper_final2/convnext_base.clip_laion2b_augreg_ft_in12k_in1k_uc-merced-land-use-dataset_CLASSIC_AT.yaml\n",
      "serialized_values convnext_base.fb_in22k_ft_in1k_uc-merced-land-use-dataset_CLASSIC_AT\n",
      "./configs/ full_fine_tuning_50epochs_paper_final2 convnext_base.fb_in22k_ft_in1k_uc-merced-land-use-dataset_CLASSIC_AT\n",
      "/Users/maximeheuillet/Desktop/robust_training/configs/HPO_results/full_fine_tuning_50epochs_paper_final2/convnext_base.fb_in22k_ft_in1k_uc-merced-land-use-dataset_CLASSIC_AT.yaml\n",
      "serialized_values convnext_tiny.fb_in22k_ft_in1k_uc-merced-land-use-dataset_CLASSIC_AT\n",
      "./configs/ full_fine_tuning_50epochs_paper_final2 convnext_tiny.fb_in22k_ft_in1k_uc-merced-land-use-dataset_CLASSIC_AT\n",
      "/Users/maximeheuillet/Desktop/robust_training/configs/HPO_results/full_fine_tuning_50epochs_paper_final2/convnext_tiny.fb_in22k_ft_in1k_uc-merced-land-use-dataset_CLASSIC_AT.yaml\n",
      "serialized_values coatnet_0_rw_224.sw_in1k_uc-merced-land-use-dataset_CLASSIC_AT\n",
      "./configs/ full_fine_tuning_50epochs_paper_final2 coatnet_0_rw_224.sw_in1k_uc-merced-land-use-dataset_CLASSIC_AT\n",
      "/Users/maximeheuillet/Desktop/robust_training/configs/HPO_results/full_fine_tuning_50epochs_paper_final2/coatnet_0_rw_224.sw_in1k_uc-merced-land-use-dataset_CLASSIC_AT.yaml\n",
      "serialized_values coatnet_2_rw_224.sw_in12k_ft_in1k_uc-merced-land-use-dataset_CLASSIC_AT\n",
      "./configs/ full_fine_tuning_50epochs_paper_final2 coatnet_2_rw_224.sw_in12k_ft_in1k_uc-merced-land-use-dataset_CLASSIC_AT\n",
      "/Users/maximeheuillet/Desktop/robust_training/configs/HPO_results/full_fine_tuning_50epochs_paper_final2/coatnet_2_rw_224.sw_in12k_ft_in1k_uc-merced-land-use-dataset_CLASSIC_AT.yaml\n",
      "serialized_values coatnet_2_rw_224.sw_in12k_uc-merced-land-use-dataset_CLASSIC_AT\n",
      "./configs/ full_fine_tuning_50epochs_paper_final2 coatnet_2_rw_224.sw_in12k_uc-merced-land-use-dataset_CLASSIC_AT\n",
      "/Users/maximeheuillet/Desktop/robust_training/configs/HPO_results/full_fine_tuning_50epochs_paper_final2/coatnet_2_rw_224.sw_in12k_uc-merced-land-use-dataset_CLASSIC_AT.yaml\n",
      "serialized_values regnetx_004.pycls_in1k_uc-merced-land-use-dataset_CLASSIC_AT\n",
      "./configs/ full_fine_tuning_50epochs_edge_paper_final2 regnetx_004.pycls_in1k_uc-merced-land-use-dataset_CLASSIC_AT\n",
      "/Users/maximeheuillet/Desktop/robust_training/configs/HPO_results/full_fine_tuning_50epochs_edge_paper_final2/regnetx_004.pycls_in1k_uc-merced-land-use-dataset_CLASSIC_AT.yaml\n",
      "serialized_values efficientnet-b0_uc-merced-land-use-dataset_CLASSIC_AT\n",
      "./configs/ full_fine_tuning_50epochs_edge_paper_final2 efficientnet-b0_uc-merced-land-use-dataset_CLASSIC_AT\n",
      "/Users/maximeheuillet/Desktop/robust_training/configs/HPO_results/full_fine_tuning_50epochs_edge_paper_final2/efficientnet-b0_uc-merced-land-use-dataset_CLASSIC_AT.yaml\n",
      "serialized_values deit_tiny_patch16_224.fb_in1k_uc-merced-land-use-dataset_CLASSIC_AT\n",
      "./configs/ full_fine_tuning_50epochs_edge_paper_final2 deit_tiny_patch16_224.fb_in1k_uc-merced-land-use-dataset_CLASSIC_AT\n",
      "/Users/maximeheuillet/Desktop/robust_training/configs/HPO_results/full_fine_tuning_50epochs_edge_paper_final2/deit_tiny_patch16_224.fb_in1k_uc-merced-land-use-dataset_CLASSIC_AT.yaml\n",
      "serialized_values mobilevit-small_uc-merced-land-use-dataset_CLASSIC_AT\n",
      "./configs/ full_fine_tuning_50epochs_edge_paper_final2 mobilevit-small_uc-merced-land-use-dataset_CLASSIC_AT\n",
      "/Users/maximeheuillet/Desktop/robust_training/configs/HPO_results/full_fine_tuning_50epochs_edge_paper_final2/mobilevit-small_uc-merced-land-use-dataset_CLASSIC_AT.yaml\n",
      "serialized_values mobilenetv3_large_100.ra_in1k_uc-merced-land-use-dataset_CLASSIC_AT\n",
      "./configs/ full_fine_tuning_50epochs_edge_paper_final2 mobilenetv3_large_100.ra_in1k_uc-merced-land-use-dataset_CLASSIC_AT\n",
      "/Users/maximeheuillet/Desktop/robust_training/configs/HPO_results/full_fine_tuning_50epochs_edge_paper_final2/mobilenetv3_large_100.ra_in1k_uc-merced-land-use-dataset_CLASSIC_AT.yaml\n",
      "serialized_values edgenext_small.usi_in1k_uc-merced-land-use-dataset_CLASSIC_AT\n",
      "./configs/ full_fine_tuning_50epochs_edge_paper_final2 edgenext_small.usi_in1k_uc-merced-land-use-dataset_CLASSIC_AT\n",
      "/Users/maximeheuillet/Desktop/robust_training/configs/HPO_results/full_fine_tuning_50epochs_edge_paper_final2/edgenext_small.usi_in1k_uc-merced-land-use-dataset_CLASSIC_AT.yaml\n",
      "serialized_values coat_tiny.in1k_uc-merced-land-use-dataset_CLASSIC_AT\n",
      "./configs/ full_fine_tuning_50epochs_edge_paper_final2 coat_tiny.in1k_uc-merced-land-use-dataset_CLASSIC_AT\n",
      "/Users/maximeheuillet/Desktop/robust_training/configs/HPO_results/full_fine_tuning_50epochs_edge_paper_final2/coat_tiny.in1k_uc-merced-land-use-dataset_CLASSIC_AT.yaml\n",
      "serialized_values CLIP-convnext_base_w-laion_aesthetic-s13B-b82K_stanford_cars_CLASSIC_AT\n",
      "./configs/ full_fine_tuning_50epochs_paper_final2 CLIP-convnext_base_w-laion_aesthetic-s13B-b82K_stanford_cars_CLASSIC_AT\n",
      "/Users/maximeheuillet/Desktop/robust_training/configs/HPO_results/full_fine_tuning_50epochs_paper_final2/CLIP-convnext_base_w-laion_aesthetic-s13B-b82K_stanford_cars_CLASSIC_AT.yaml\n",
      "serialized_values CLIP-convnext_base_w-laion2B-s13B-b82K_stanford_cars_CLASSIC_AT\n",
      "./configs/ full_fine_tuning_50epochs_paper_final2 CLIP-convnext_base_w-laion2B-s13B-b82K_stanford_cars_CLASSIC_AT\n",
      "/Users/maximeheuillet/Desktop/robust_training/configs/HPO_results/full_fine_tuning_50epochs_paper_final2/CLIP-convnext_base_w-laion2B-s13B-b82K_stanford_cars_CLASSIC_AT.yaml\n",
      "serialized_values deit_small_patch16_224.fb_in1k_stanford_cars_CLASSIC_AT\n",
      "./configs/ full_fine_tuning_50epochs_paper_final2 deit_small_patch16_224.fb_in1k_stanford_cars_CLASSIC_AT\n",
      "/Users/maximeheuillet/Desktop/robust_training/configs/HPO_results/full_fine_tuning_50epochs_paper_final2/deit_small_patch16_224.fb_in1k_stanford_cars_CLASSIC_AT.yaml\n",
      "serialized_values robust_resnet50_stanford_cars_CLASSIC_AT\n",
      "./configs/ full_fine_tuning_50epochs_paper_final2 robust_resnet50_stanford_cars_CLASSIC_AT\n",
      "/Users/maximeheuillet/Desktop/robust_training/configs/HPO_results/full_fine_tuning_50epochs_paper_final2/robust_resnet50_stanford_cars_CLASSIC_AT.yaml\n",
      "serialized_values vit_small_patch16_224.augreg_in21k_stanford_cars_CLASSIC_AT\n",
      "./configs/ full_fine_tuning_50epochs_paper_final2 vit_small_patch16_224.augreg_in21k_stanford_cars_CLASSIC_AT\n",
      "/Users/maximeheuillet/Desktop/robust_training/configs/HPO_results/full_fine_tuning_50epochs_paper_final2/vit_small_patch16_224.augreg_in21k_stanford_cars_CLASSIC_AT.yaml\n",
      "serialized_values convnext_base.fb_in1k_stanford_cars_CLASSIC_AT\n",
      "./configs/ full_fine_tuning_50epochs_paper_final2 convnext_base.fb_in1k_stanford_cars_CLASSIC_AT\n",
      "/Users/maximeheuillet/Desktop/robust_training/configs/HPO_results/full_fine_tuning_50epochs_paper_final2/convnext_base.fb_in1k_stanford_cars_CLASSIC_AT.yaml\n",
      "serialized_values resnet50.a1_in1k_stanford_cars_CLASSIC_AT\n",
      "./configs/ full_fine_tuning_50epochs_paper_final2 resnet50.a1_in1k_stanford_cars_CLASSIC_AT\n",
      "/Users/maximeheuillet/Desktop/robust_training/configs/HPO_results/full_fine_tuning_50epochs_paper_final2/resnet50.a1_in1k_stanford_cars_CLASSIC_AT.yaml\n",
      "serialized_values robust_vit_base_patch16_224_stanford_cars_CLASSIC_AT\n",
      "./configs/ full_fine_tuning_50epochs_paper_final2 robust_vit_base_patch16_224_stanford_cars_CLASSIC_AT\n",
      "/Users/maximeheuillet/Desktop/robust_training/configs/HPO_results/full_fine_tuning_50epochs_paper_final2/robust_vit_base_patch16_224_stanford_cars_CLASSIC_AT.yaml\n",
      "serialized_values vit_base_patch16_224.mae_stanford_cars_CLASSIC_AT\n",
      "./configs/ full_fine_tuning_50epochs_paper_final2 vit_base_patch16_224.mae_stanford_cars_CLASSIC_AT\n",
      "/Users/maximeheuillet/Desktop/robust_training/configs/HPO_results/full_fine_tuning_50epochs_paper_final2/vit_base_patch16_224.mae_stanford_cars_CLASSIC_AT.yaml\n",
      "serialized_values vit_small_patch16_224.dino_stanford_cars_CLASSIC_AT\n",
      "./configs/ full_fine_tuning_50epochs_paper_final2 vit_small_patch16_224.dino_stanford_cars_CLASSIC_AT\n",
      "/Users/maximeheuillet/Desktop/robust_training/configs/HPO_results/full_fine_tuning_50epochs_paper_final2/vit_small_patch16_224.dino_stanford_cars_CLASSIC_AT.yaml\n",
      "serialized_values convnext_base.fb_in22k_stanford_cars_CLASSIC_AT\n",
      "./configs/ full_fine_tuning_50epochs_paper_final2 convnext_base.fb_in22k_stanford_cars_CLASSIC_AT\n",
      "/Users/maximeheuillet/Desktop/robust_training/configs/HPO_results/full_fine_tuning_50epochs_paper_final2/convnext_base.fb_in22k_stanford_cars_CLASSIC_AT.yaml\n",
      "serialized_values robust_convnext_base_stanford_cars_CLASSIC_AT\n",
      "./configs/ full_fine_tuning_50epochs_paper_final2 robust_convnext_base_stanford_cars_CLASSIC_AT\n",
      "/Users/maximeheuillet/Desktop/robust_training/configs/HPO_results/full_fine_tuning_50epochs_paper_final2/robust_convnext_base_stanford_cars_CLASSIC_AT.yaml\n",
      "serialized_values vit_base_patch16_224.augreg_in1k_stanford_cars_CLASSIC_AT\n",
      "./configs/ full_fine_tuning_50epochs_paper_final2 vit_base_patch16_224.augreg_in1k_stanford_cars_CLASSIC_AT\n",
      "/Users/maximeheuillet/Desktop/robust_training/configs/HPO_results/full_fine_tuning_50epochs_paper_final2/vit_base_patch16_224.augreg_in1k_stanford_cars_CLASSIC_AT.yaml\n",
      "serialized_values vit_base_patch16_224.augreg_in21k_stanford_cars_CLASSIC_AT\n",
      "./configs/ full_fine_tuning_50epochs_paper_final2 vit_base_patch16_224.augreg_in21k_stanford_cars_CLASSIC_AT\n",
      "/Users/maximeheuillet/Desktop/robust_training/configs/HPO_results/full_fine_tuning_50epochs_paper_final2/vit_base_patch16_224.augreg_in21k_stanford_cars_CLASSIC_AT.yaml\n",
      "serialized_values vit_base_patch16_clip_224.laion2b_stanford_cars_CLASSIC_AT\n",
      "./configs/ full_fine_tuning_50epochs_paper_final2 vit_base_patch16_clip_224.laion2b_stanford_cars_CLASSIC_AT\n",
      "/Users/maximeheuillet/Desktop/robust_training/configs/HPO_results/full_fine_tuning_50epochs_paper_final2/vit_base_patch16_clip_224.laion2b_stanford_cars_CLASSIC_AT.yaml\n",
      "serialized_values convnext_tiny.fb_in1k_stanford_cars_CLASSIC_AT\n",
      "./configs/ full_fine_tuning_50epochs_paper_final2 convnext_tiny.fb_in1k_stanford_cars_CLASSIC_AT\n",
      "/Users/maximeheuillet/Desktop/robust_training/configs/HPO_results/full_fine_tuning_50epochs_paper_final2/convnext_tiny.fb_in1k_stanford_cars_CLASSIC_AT.yaml\n",
      "serialized_values robust_convnext_tiny_stanford_cars_CLASSIC_AT\n",
      "./configs/ full_fine_tuning_50epochs_paper_final2 robust_convnext_tiny_stanford_cars_CLASSIC_AT\n",
      "/Users/maximeheuillet/Desktop/robust_training/configs/HPO_results/full_fine_tuning_50epochs_paper_final2/robust_convnext_tiny_stanford_cars_CLASSIC_AT.yaml\n",
      "serialized_values robust_deit_small_patch16_224_stanford_cars_CLASSIC_AT\n",
      "./configs/ full_fine_tuning_50epochs_paper_final2 robust_deit_small_patch16_224_stanford_cars_CLASSIC_AT\n",
      "/Users/maximeheuillet/Desktop/robust_training/configs/HPO_results/full_fine_tuning_50epochs_paper_final2/robust_deit_small_patch16_224_stanford_cars_CLASSIC_AT.yaml\n",
      "serialized_values vit_small_patch16_224.augreg_in1k_stanford_cars_CLASSIC_AT\n",
      "./configs/ full_fine_tuning_50epochs_paper_final2 vit_small_patch16_224.augreg_in1k_stanford_cars_CLASSIC_AT\n",
      "/Users/maximeheuillet/Desktop/robust_training/configs/HPO_results/full_fine_tuning_50epochs_paper_final2/vit_small_patch16_224.augreg_in1k_stanford_cars_CLASSIC_AT.yaml\n",
      "serialized_values convnext_tiny.fb_in22k_stanford_cars_CLASSIC_AT\n",
      "./configs/ full_fine_tuning_50epochs_paper_final2 convnext_tiny.fb_in22k_stanford_cars_CLASSIC_AT\n",
      "/Users/maximeheuillet/Desktop/robust_training/configs/HPO_results/full_fine_tuning_50epochs_paper_final2/convnext_tiny.fb_in22k_stanford_cars_CLASSIC_AT.yaml\n",
      "serialized_values vit_base_patch16_clip_224.laion2b_ft_in1k_stanford_cars_CLASSIC_AT\n",
      "./configs/ full_fine_tuning_50epochs_paper_final2 vit_base_patch16_clip_224.laion2b_ft_in1k_stanford_cars_CLASSIC_AT\n",
      "/Users/maximeheuillet/Desktop/robust_training/configs/HPO_results/full_fine_tuning_50epochs_paper_final2/vit_base_patch16_clip_224.laion2b_ft_in1k_stanford_cars_CLASSIC_AT.yaml\n",
      "serialized_values vit_base_patch16_224.augreg_in21k_ft_in1k_stanford_cars_CLASSIC_AT\n",
      "./configs/ full_fine_tuning_50epochs_paper_final2 vit_base_patch16_224.augreg_in21k_ft_in1k_stanford_cars_CLASSIC_AT\n",
      "/Users/maximeheuillet/Desktop/robust_training/configs/HPO_results/full_fine_tuning_50epochs_paper_final2/vit_base_patch16_224.augreg_in21k_ft_in1k_stanford_cars_CLASSIC_AT.yaml\n",
      "serialized_values vit_small_patch16_224.augreg_in21k_ft_in1k_stanford_cars_CLASSIC_AT\n",
      "./configs/ full_fine_tuning_50epochs_paper_final2 vit_small_patch16_224.augreg_in21k_ft_in1k_stanford_cars_CLASSIC_AT\n",
      "/Users/maximeheuillet/Desktop/robust_training/configs/HPO_results/full_fine_tuning_50epochs_paper_final2/vit_small_patch16_224.augreg_in21k_ft_in1k_stanford_cars_CLASSIC_AT.yaml\n",
      "serialized_values eva02_base_patch14_224.mim_in22k_stanford_cars_CLASSIC_AT\n",
      "./configs/ full_fine_tuning_50epochs_paper_final2 eva02_base_patch14_224.mim_in22k_stanford_cars_CLASSIC_AT\n",
      "/Users/maximeheuillet/Desktop/robust_training/configs/HPO_results/full_fine_tuning_50epochs_paper_final2/eva02_base_patch14_224.mim_in22k_stanford_cars_CLASSIC_AT.yaml\n",
      "serialized_values eva02_tiny_patch14_224.mim_in22k_stanford_cars_CLASSIC_AT\n",
      "./configs/ full_fine_tuning_50epochs_paper_final2 eva02_tiny_patch14_224.mim_in22k_stanford_cars_CLASSIC_AT\n",
      "/Users/maximeheuillet/Desktop/robust_training/configs/HPO_results/full_fine_tuning_50epochs_paper_final2/eva02_tiny_patch14_224.mim_in22k_stanford_cars_CLASSIC_AT.yaml\n",
      "serialized_values swin_base_patch4_window7_224.ms_in22k_ft_in1k_stanford_cars_CLASSIC_AT\n",
      "./configs/ full_fine_tuning_50epochs_paper_final2 swin_base_patch4_window7_224.ms_in22k_ft_in1k_stanford_cars_CLASSIC_AT\n",
      "/Users/maximeheuillet/Desktop/robust_training/configs/HPO_results/full_fine_tuning_50epochs_paper_final2/swin_base_patch4_window7_224.ms_in22k_ft_in1k_stanford_cars_CLASSIC_AT.yaml\n",
      "serialized_values swin_tiny_patch4_window7_224.ms_in1k_stanford_cars_CLASSIC_AT\n",
      "./configs/ full_fine_tuning_50epochs_paper_final2 swin_tiny_patch4_window7_224.ms_in1k_stanford_cars_CLASSIC_AT\n",
      "/Users/maximeheuillet/Desktop/robust_training/configs/HPO_results/full_fine_tuning_50epochs_paper_final2/swin_tiny_patch4_window7_224.ms_in1k_stanford_cars_CLASSIC_AT.yaml\n",
      "serialized_values convnext_base.clip_laion2b_augreg_ft_in12k_in1k_stanford_cars_CLASSIC_AT\n",
      "./configs/ full_fine_tuning_50epochs_paper_final2 convnext_base.clip_laion2b_augreg_ft_in12k_in1k_stanford_cars_CLASSIC_AT\n",
      "/Users/maximeheuillet/Desktop/robust_training/configs/HPO_results/full_fine_tuning_50epochs_paper_final2/convnext_base.clip_laion2b_augreg_ft_in12k_in1k_stanford_cars_CLASSIC_AT.yaml\n",
      "serialized_values convnext_base.fb_in22k_ft_in1k_stanford_cars_CLASSIC_AT\n",
      "./configs/ full_fine_tuning_50epochs_paper_final2 convnext_base.fb_in22k_ft_in1k_stanford_cars_CLASSIC_AT\n",
      "/Users/maximeheuillet/Desktop/robust_training/configs/HPO_results/full_fine_tuning_50epochs_paper_final2/convnext_base.fb_in22k_ft_in1k_stanford_cars_CLASSIC_AT.yaml\n",
      "serialized_values convnext_tiny.fb_in22k_ft_in1k_stanford_cars_CLASSIC_AT\n",
      "./configs/ full_fine_tuning_50epochs_paper_final2 convnext_tiny.fb_in22k_ft_in1k_stanford_cars_CLASSIC_AT\n",
      "/Users/maximeheuillet/Desktop/robust_training/configs/HPO_results/full_fine_tuning_50epochs_paper_final2/convnext_tiny.fb_in22k_ft_in1k_stanford_cars_CLASSIC_AT.yaml\n",
      "serialized_values coatnet_0_rw_224.sw_in1k_stanford_cars_CLASSIC_AT\n",
      "./configs/ full_fine_tuning_50epochs_paper_final2 coatnet_0_rw_224.sw_in1k_stanford_cars_CLASSIC_AT\n",
      "/Users/maximeheuillet/Desktop/robust_training/configs/HPO_results/full_fine_tuning_50epochs_paper_final2/coatnet_0_rw_224.sw_in1k_stanford_cars_CLASSIC_AT.yaml\n",
      "serialized_values coatnet_2_rw_224.sw_in12k_ft_in1k_stanford_cars_CLASSIC_AT\n",
      "./configs/ full_fine_tuning_50epochs_paper_final2 coatnet_2_rw_224.sw_in12k_ft_in1k_stanford_cars_CLASSIC_AT\n",
      "/Users/maximeheuillet/Desktop/robust_training/configs/HPO_results/full_fine_tuning_50epochs_paper_final2/coatnet_2_rw_224.sw_in12k_ft_in1k_stanford_cars_CLASSIC_AT.yaml\n",
      "serialized_values coatnet_2_rw_224.sw_in12k_stanford_cars_CLASSIC_AT\n",
      "./configs/ full_fine_tuning_50epochs_paper_final2 coatnet_2_rw_224.sw_in12k_stanford_cars_CLASSIC_AT\n",
      "/Users/maximeheuillet/Desktop/robust_training/configs/HPO_results/full_fine_tuning_50epochs_paper_final2/coatnet_2_rw_224.sw_in12k_stanford_cars_CLASSIC_AT.yaml\n",
      "serialized_values regnetx_004.pycls_in1k_stanford_cars_CLASSIC_AT\n",
      "./configs/ full_fine_tuning_50epochs_edge_paper_final2 regnetx_004.pycls_in1k_stanford_cars_CLASSIC_AT\n",
      "/Users/maximeheuillet/Desktop/robust_training/configs/HPO_results/full_fine_tuning_50epochs_edge_paper_final2/regnetx_004.pycls_in1k_stanford_cars_CLASSIC_AT.yaml\n",
      "serialized_values efficientnet-b0_stanford_cars_CLASSIC_AT\n",
      "./configs/ full_fine_tuning_50epochs_edge_paper_final2 efficientnet-b0_stanford_cars_CLASSIC_AT\n",
      "/Users/maximeheuillet/Desktop/robust_training/configs/HPO_results/full_fine_tuning_50epochs_edge_paper_final2/efficientnet-b0_stanford_cars_CLASSIC_AT.yaml\n",
      "serialized_values deit_tiny_patch16_224.fb_in1k_stanford_cars_CLASSIC_AT\n",
      "./configs/ full_fine_tuning_50epochs_edge_paper_final2 deit_tiny_patch16_224.fb_in1k_stanford_cars_CLASSIC_AT\n",
      "/Users/maximeheuillet/Desktop/robust_training/configs/HPO_results/full_fine_tuning_50epochs_edge_paper_final2/deit_tiny_patch16_224.fb_in1k_stanford_cars_CLASSIC_AT.yaml\n",
      "serialized_values mobilevit-small_stanford_cars_CLASSIC_AT\n",
      "./configs/ full_fine_tuning_50epochs_edge_paper_final2 mobilevit-small_stanford_cars_CLASSIC_AT\n",
      "/Users/maximeheuillet/Desktop/robust_training/configs/HPO_results/full_fine_tuning_50epochs_edge_paper_final2/mobilevit-small_stanford_cars_CLASSIC_AT.yaml\n",
      "serialized_values mobilenetv3_large_100.ra_in1k_stanford_cars_CLASSIC_AT\n",
      "./configs/ full_fine_tuning_50epochs_edge_paper_final2 mobilenetv3_large_100.ra_in1k_stanford_cars_CLASSIC_AT\n",
      "/Users/maximeheuillet/Desktop/robust_training/configs/HPO_results/full_fine_tuning_50epochs_edge_paper_final2/mobilenetv3_large_100.ra_in1k_stanford_cars_CLASSIC_AT.yaml\n",
      "serialized_values edgenext_small.usi_in1k_stanford_cars_CLASSIC_AT\n",
      "./configs/ full_fine_tuning_50epochs_edge_paper_final2 edgenext_small.usi_in1k_stanford_cars_CLASSIC_AT\n",
      "/Users/maximeheuillet/Desktop/robust_training/configs/HPO_results/full_fine_tuning_50epochs_edge_paper_final2/edgenext_small.usi_in1k_stanford_cars_CLASSIC_AT.yaml\n",
      "serialized_values coat_tiny.in1k_stanford_cars_CLASSIC_AT\n",
      "./configs/ full_fine_tuning_50epochs_edge_paper_final2 coat_tiny.in1k_stanford_cars_CLASSIC_AT\n",
      "/Users/maximeheuillet/Desktop/robust_training/configs/HPO_results/full_fine_tuning_50epochs_edge_paper_final2/coat_tiny.in1k_stanford_cars_CLASSIC_AT.yaml\n",
      "serialized_values CLIP-convnext_base_w-laion_aesthetic-s13B-b82K_caltech101_CLASSIC_AT\n",
      "./configs/ full_fine_tuning_50epochs_paper_final2 CLIP-convnext_base_w-laion_aesthetic-s13B-b82K_caltech101_CLASSIC_AT\n",
      "/Users/maximeheuillet/Desktop/robust_training/configs/HPO_results/full_fine_tuning_50epochs_paper_final2/CLIP-convnext_base_w-laion_aesthetic-s13B-b82K_caltech101_CLASSIC_AT.yaml\n",
      "serialized_values CLIP-convnext_base_w-laion2B-s13B-b82K_caltech101_CLASSIC_AT\n",
      "./configs/ full_fine_tuning_50epochs_paper_final2 CLIP-convnext_base_w-laion2B-s13B-b82K_caltech101_CLASSIC_AT\n",
      "/Users/maximeheuillet/Desktop/robust_training/configs/HPO_results/full_fine_tuning_50epochs_paper_final2/CLIP-convnext_base_w-laion2B-s13B-b82K_caltech101_CLASSIC_AT.yaml\n",
      "serialized_values deit_small_patch16_224.fb_in1k_caltech101_CLASSIC_AT\n",
      "./configs/ full_fine_tuning_50epochs_paper_final2 deit_small_patch16_224.fb_in1k_caltech101_CLASSIC_AT\n",
      "/Users/maximeheuillet/Desktop/robust_training/configs/HPO_results/full_fine_tuning_50epochs_paper_final2/deit_small_patch16_224.fb_in1k_caltech101_CLASSIC_AT.yaml\n",
      "serialized_values robust_resnet50_caltech101_CLASSIC_AT\n",
      "./configs/ full_fine_tuning_50epochs_paper_final2 robust_resnet50_caltech101_CLASSIC_AT\n",
      "/Users/maximeheuillet/Desktop/robust_training/configs/HPO_results/full_fine_tuning_50epochs_paper_final2/robust_resnet50_caltech101_CLASSIC_AT.yaml\n",
      "serialized_values vit_small_patch16_224.augreg_in21k_caltech101_CLASSIC_AT\n",
      "./configs/ full_fine_tuning_50epochs_paper_final2 vit_small_patch16_224.augreg_in21k_caltech101_CLASSIC_AT\n",
      "/Users/maximeheuillet/Desktop/robust_training/configs/HPO_results/full_fine_tuning_50epochs_paper_final2/vit_small_patch16_224.augreg_in21k_caltech101_CLASSIC_AT.yaml\n",
      "serialized_values convnext_base.fb_in1k_caltech101_CLASSIC_AT\n",
      "./configs/ full_fine_tuning_50epochs_paper_final2 convnext_base.fb_in1k_caltech101_CLASSIC_AT\n",
      "/Users/maximeheuillet/Desktop/robust_training/configs/HPO_results/full_fine_tuning_50epochs_paper_final2/convnext_base.fb_in1k_caltech101_CLASSIC_AT.yaml\n",
      "serialized_values resnet50.a1_in1k_caltech101_CLASSIC_AT\n",
      "./configs/ full_fine_tuning_50epochs_paper_final2 resnet50.a1_in1k_caltech101_CLASSIC_AT\n",
      "/Users/maximeheuillet/Desktop/robust_training/configs/HPO_results/full_fine_tuning_50epochs_paper_final2/resnet50.a1_in1k_caltech101_CLASSIC_AT.yaml\n",
      "serialized_values robust_vit_base_patch16_224_caltech101_CLASSIC_AT\n",
      "./configs/ full_fine_tuning_50epochs_paper_final2 robust_vit_base_patch16_224_caltech101_CLASSIC_AT\n",
      "/Users/maximeheuillet/Desktop/robust_training/configs/HPO_results/full_fine_tuning_50epochs_paper_final2/robust_vit_base_patch16_224_caltech101_CLASSIC_AT.yaml\n",
      "serialized_values vit_base_patch16_224.mae_caltech101_CLASSIC_AT\n",
      "./configs/ full_fine_tuning_50epochs_paper_final2 vit_base_patch16_224.mae_caltech101_CLASSIC_AT\n",
      "/Users/maximeheuillet/Desktop/robust_training/configs/HPO_results/full_fine_tuning_50epochs_paper_final2/vit_base_patch16_224.mae_caltech101_CLASSIC_AT.yaml\n",
      "serialized_values vit_small_patch16_224.dino_caltech101_CLASSIC_AT\n",
      "./configs/ full_fine_tuning_50epochs_paper_final2 vit_small_patch16_224.dino_caltech101_CLASSIC_AT\n",
      "/Users/maximeheuillet/Desktop/robust_training/configs/HPO_results/full_fine_tuning_50epochs_paper_final2/vit_small_patch16_224.dino_caltech101_CLASSIC_AT.yaml\n",
      "serialized_values convnext_base.fb_in22k_caltech101_CLASSIC_AT\n",
      "./configs/ full_fine_tuning_50epochs_paper_final2 convnext_base.fb_in22k_caltech101_CLASSIC_AT\n",
      "/Users/maximeheuillet/Desktop/robust_training/configs/HPO_results/full_fine_tuning_50epochs_paper_final2/convnext_base.fb_in22k_caltech101_CLASSIC_AT.yaml\n",
      "serialized_values robust_convnext_base_caltech101_CLASSIC_AT\n",
      "./configs/ full_fine_tuning_50epochs_paper_final2 robust_convnext_base_caltech101_CLASSIC_AT\n",
      "/Users/maximeheuillet/Desktop/robust_training/configs/HPO_results/full_fine_tuning_50epochs_paper_final2/robust_convnext_base_caltech101_CLASSIC_AT.yaml\n",
      "serialized_values vit_base_patch16_224.augreg_in1k_caltech101_CLASSIC_AT\n",
      "./configs/ full_fine_tuning_50epochs_paper_final2 vit_base_patch16_224.augreg_in1k_caltech101_CLASSIC_AT\n",
      "/Users/maximeheuillet/Desktop/robust_training/configs/HPO_results/full_fine_tuning_50epochs_paper_final2/vit_base_patch16_224.augreg_in1k_caltech101_CLASSIC_AT.yaml\n",
      "serialized_values vit_base_patch16_224.augreg_in21k_caltech101_CLASSIC_AT\n",
      "./configs/ full_fine_tuning_50epochs_paper_final2 vit_base_patch16_224.augreg_in21k_caltech101_CLASSIC_AT\n",
      "/Users/maximeheuillet/Desktop/robust_training/configs/HPO_results/full_fine_tuning_50epochs_paper_final2/vit_base_patch16_224.augreg_in21k_caltech101_CLASSIC_AT.yaml\n",
      "serialized_values vit_base_patch16_clip_224.laion2b_caltech101_CLASSIC_AT\n",
      "./configs/ full_fine_tuning_50epochs_paper_final2 vit_base_patch16_clip_224.laion2b_caltech101_CLASSIC_AT\n",
      "/Users/maximeheuillet/Desktop/robust_training/configs/HPO_results/full_fine_tuning_50epochs_paper_final2/vit_base_patch16_clip_224.laion2b_caltech101_CLASSIC_AT.yaml\n",
      "serialized_values convnext_tiny.fb_in1k_caltech101_CLASSIC_AT\n",
      "./configs/ full_fine_tuning_50epochs_paper_final2 convnext_tiny.fb_in1k_caltech101_CLASSIC_AT\n",
      "/Users/maximeheuillet/Desktop/robust_training/configs/HPO_results/full_fine_tuning_50epochs_paper_final2/convnext_tiny.fb_in1k_caltech101_CLASSIC_AT.yaml\n",
      "serialized_values robust_convnext_tiny_caltech101_CLASSIC_AT\n",
      "./configs/ full_fine_tuning_50epochs_paper_final2 robust_convnext_tiny_caltech101_CLASSIC_AT\n",
      "/Users/maximeheuillet/Desktop/robust_training/configs/HPO_results/full_fine_tuning_50epochs_paper_final2/robust_convnext_tiny_caltech101_CLASSIC_AT.yaml\n",
      "serialized_values robust_deit_small_patch16_224_caltech101_CLASSIC_AT\n",
      "./configs/ full_fine_tuning_50epochs_paper_final2 robust_deit_small_patch16_224_caltech101_CLASSIC_AT\n",
      "/Users/maximeheuillet/Desktop/robust_training/configs/HPO_results/full_fine_tuning_50epochs_paper_final2/robust_deit_small_patch16_224_caltech101_CLASSIC_AT.yaml\n",
      "serialized_values vit_small_patch16_224.augreg_in1k_caltech101_CLASSIC_AT\n",
      "./configs/ full_fine_tuning_50epochs_paper_final2 vit_small_patch16_224.augreg_in1k_caltech101_CLASSIC_AT\n",
      "/Users/maximeheuillet/Desktop/robust_training/configs/HPO_results/full_fine_tuning_50epochs_paper_final2/vit_small_patch16_224.augreg_in1k_caltech101_CLASSIC_AT.yaml\n",
      "serialized_values convnext_tiny.fb_in22k_caltech101_CLASSIC_AT\n",
      "./configs/ full_fine_tuning_50epochs_paper_final2 convnext_tiny.fb_in22k_caltech101_CLASSIC_AT\n",
      "/Users/maximeheuillet/Desktop/robust_training/configs/HPO_results/full_fine_tuning_50epochs_paper_final2/convnext_tiny.fb_in22k_caltech101_CLASSIC_AT.yaml\n",
      "serialized_values vit_base_patch16_clip_224.laion2b_ft_in1k_caltech101_CLASSIC_AT\n",
      "./configs/ full_fine_tuning_50epochs_paper_final2 vit_base_patch16_clip_224.laion2b_ft_in1k_caltech101_CLASSIC_AT\n",
      "/Users/maximeheuillet/Desktop/robust_training/configs/HPO_results/full_fine_tuning_50epochs_paper_final2/vit_base_patch16_clip_224.laion2b_ft_in1k_caltech101_CLASSIC_AT.yaml\n",
      "serialized_values vit_base_patch16_224.augreg_in21k_ft_in1k_caltech101_CLASSIC_AT\n",
      "./configs/ full_fine_tuning_50epochs_paper_final2 vit_base_patch16_224.augreg_in21k_ft_in1k_caltech101_CLASSIC_AT\n",
      "/Users/maximeheuillet/Desktop/robust_training/configs/HPO_results/full_fine_tuning_50epochs_paper_final2/vit_base_patch16_224.augreg_in21k_ft_in1k_caltech101_CLASSIC_AT.yaml\n",
      "serialized_values vit_small_patch16_224.augreg_in21k_ft_in1k_caltech101_CLASSIC_AT\n",
      "./configs/ full_fine_tuning_50epochs_paper_final2 vit_small_patch16_224.augreg_in21k_ft_in1k_caltech101_CLASSIC_AT\n",
      "/Users/maximeheuillet/Desktop/robust_training/configs/HPO_results/full_fine_tuning_50epochs_paper_final2/vit_small_patch16_224.augreg_in21k_ft_in1k_caltech101_CLASSIC_AT.yaml\n",
      "serialized_values eva02_base_patch14_224.mim_in22k_caltech101_CLASSIC_AT\n",
      "./configs/ full_fine_tuning_50epochs_paper_final2 eva02_base_patch14_224.mim_in22k_caltech101_CLASSIC_AT\n",
      "/Users/maximeheuillet/Desktop/robust_training/configs/HPO_results/full_fine_tuning_50epochs_paper_final2/eva02_base_patch14_224.mim_in22k_caltech101_CLASSIC_AT.yaml\n",
      "serialized_values eva02_tiny_patch14_224.mim_in22k_caltech101_CLASSIC_AT\n",
      "./configs/ full_fine_tuning_50epochs_paper_final2 eva02_tiny_patch14_224.mim_in22k_caltech101_CLASSIC_AT\n",
      "/Users/maximeheuillet/Desktop/robust_training/configs/HPO_results/full_fine_tuning_50epochs_paper_final2/eva02_tiny_patch14_224.mim_in22k_caltech101_CLASSIC_AT.yaml\n",
      "serialized_values swin_base_patch4_window7_224.ms_in22k_ft_in1k_caltech101_CLASSIC_AT\n",
      "./configs/ full_fine_tuning_50epochs_paper_final2 swin_base_patch4_window7_224.ms_in22k_ft_in1k_caltech101_CLASSIC_AT\n",
      "/Users/maximeheuillet/Desktop/robust_training/configs/HPO_results/full_fine_tuning_50epochs_paper_final2/swin_base_patch4_window7_224.ms_in22k_ft_in1k_caltech101_CLASSIC_AT.yaml\n",
      "serialized_values swin_tiny_patch4_window7_224.ms_in1k_caltech101_CLASSIC_AT\n",
      "./configs/ full_fine_tuning_50epochs_paper_final2 swin_tiny_patch4_window7_224.ms_in1k_caltech101_CLASSIC_AT\n",
      "/Users/maximeheuillet/Desktop/robust_training/configs/HPO_results/full_fine_tuning_50epochs_paper_final2/swin_tiny_patch4_window7_224.ms_in1k_caltech101_CLASSIC_AT.yaml\n",
      "serialized_values convnext_base.clip_laion2b_augreg_ft_in12k_in1k_caltech101_CLASSIC_AT\n",
      "./configs/ full_fine_tuning_50epochs_paper_final2 convnext_base.clip_laion2b_augreg_ft_in12k_in1k_caltech101_CLASSIC_AT\n",
      "/Users/maximeheuillet/Desktop/robust_training/configs/HPO_results/full_fine_tuning_50epochs_paper_final2/convnext_base.clip_laion2b_augreg_ft_in12k_in1k_caltech101_CLASSIC_AT.yaml\n",
      "serialized_values convnext_base.fb_in22k_ft_in1k_caltech101_CLASSIC_AT\n",
      "./configs/ full_fine_tuning_50epochs_paper_final2 convnext_base.fb_in22k_ft_in1k_caltech101_CLASSIC_AT\n",
      "/Users/maximeheuillet/Desktop/robust_training/configs/HPO_results/full_fine_tuning_50epochs_paper_final2/convnext_base.fb_in22k_ft_in1k_caltech101_CLASSIC_AT.yaml\n",
      "serialized_values convnext_tiny.fb_in22k_ft_in1k_caltech101_CLASSIC_AT\n",
      "./configs/ full_fine_tuning_50epochs_paper_final2 convnext_tiny.fb_in22k_ft_in1k_caltech101_CLASSIC_AT\n",
      "/Users/maximeheuillet/Desktop/robust_training/configs/HPO_results/full_fine_tuning_50epochs_paper_final2/convnext_tiny.fb_in22k_ft_in1k_caltech101_CLASSIC_AT.yaml\n",
      "serialized_values coatnet_0_rw_224.sw_in1k_caltech101_CLASSIC_AT\n",
      "./configs/ full_fine_tuning_50epochs_paper_final2 coatnet_0_rw_224.sw_in1k_caltech101_CLASSIC_AT\n",
      "/Users/maximeheuillet/Desktop/robust_training/configs/HPO_results/full_fine_tuning_50epochs_paper_final2/coatnet_0_rw_224.sw_in1k_caltech101_CLASSIC_AT.yaml\n",
      "serialized_values coatnet_2_rw_224.sw_in12k_ft_in1k_caltech101_CLASSIC_AT\n",
      "./configs/ full_fine_tuning_50epochs_paper_final2 coatnet_2_rw_224.sw_in12k_ft_in1k_caltech101_CLASSIC_AT\n",
      "/Users/maximeheuillet/Desktop/robust_training/configs/HPO_results/full_fine_tuning_50epochs_paper_final2/coatnet_2_rw_224.sw_in12k_ft_in1k_caltech101_CLASSIC_AT.yaml\n",
      "serialized_values coatnet_2_rw_224.sw_in12k_caltech101_CLASSIC_AT\n",
      "./configs/ full_fine_tuning_50epochs_paper_final2 coatnet_2_rw_224.sw_in12k_caltech101_CLASSIC_AT\n",
      "/Users/maximeheuillet/Desktop/robust_training/configs/HPO_results/full_fine_tuning_50epochs_paper_final2/coatnet_2_rw_224.sw_in12k_caltech101_CLASSIC_AT.yaml\n",
      "serialized_values regnetx_004.pycls_in1k_caltech101_CLASSIC_AT\n",
      "./configs/ full_fine_tuning_50epochs_edge_paper_final2 regnetx_004.pycls_in1k_caltech101_CLASSIC_AT\n",
      "/Users/maximeheuillet/Desktop/robust_training/configs/HPO_results/full_fine_tuning_50epochs_edge_paper_final2/regnetx_004.pycls_in1k_caltech101_CLASSIC_AT.yaml\n",
      "serialized_values efficientnet-b0_caltech101_CLASSIC_AT\n",
      "./configs/ full_fine_tuning_50epochs_edge_paper_final2 efficientnet-b0_caltech101_CLASSIC_AT\n",
      "/Users/maximeheuillet/Desktop/robust_training/configs/HPO_results/full_fine_tuning_50epochs_edge_paper_final2/efficientnet-b0_caltech101_CLASSIC_AT.yaml\n",
      "serialized_values deit_tiny_patch16_224.fb_in1k_caltech101_CLASSIC_AT\n",
      "./configs/ full_fine_tuning_50epochs_edge_paper_final2 deit_tiny_patch16_224.fb_in1k_caltech101_CLASSIC_AT\n",
      "/Users/maximeheuillet/Desktop/robust_training/configs/HPO_results/full_fine_tuning_50epochs_edge_paper_final2/deit_tiny_patch16_224.fb_in1k_caltech101_CLASSIC_AT.yaml\n",
      "serialized_values mobilevit-small_caltech101_CLASSIC_AT\n",
      "./configs/ full_fine_tuning_50epochs_edge_paper_final2 mobilevit-small_caltech101_CLASSIC_AT\n",
      "/Users/maximeheuillet/Desktop/robust_training/configs/HPO_results/full_fine_tuning_50epochs_edge_paper_final2/mobilevit-small_caltech101_CLASSIC_AT.yaml\n",
      "serialized_values mobilenetv3_large_100.ra_in1k_caltech101_CLASSIC_AT\n",
      "./configs/ full_fine_tuning_50epochs_edge_paper_final2 mobilenetv3_large_100.ra_in1k_caltech101_CLASSIC_AT\n",
      "/Users/maximeheuillet/Desktop/robust_training/configs/HPO_results/full_fine_tuning_50epochs_edge_paper_final2/mobilenetv3_large_100.ra_in1k_caltech101_CLASSIC_AT.yaml\n",
      "serialized_values edgenext_small.usi_in1k_caltech101_CLASSIC_AT\n",
      "./configs/ full_fine_tuning_50epochs_edge_paper_final2 edgenext_small.usi_in1k_caltech101_CLASSIC_AT\n",
      "/Users/maximeheuillet/Desktop/robust_training/configs/HPO_results/full_fine_tuning_50epochs_edge_paper_final2/edgenext_small.usi_in1k_caltech101_CLASSIC_AT.yaml\n",
      "serialized_values coat_tiny.in1k_caltech101_CLASSIC_AT\n",
      "./configs/ full_fine_tuning_50epochs_edge_paper_final2 coat_tiny.in1k_caltech101_CLASSIC_AT\n",
      "/Users/maximeheuillet/Desktop/robust_training/configs/HPO_results/full_fine_tuning_50epochs_edge_paper_final2/coat_tiny.in1k_caltech101_CLASSIC_AT.yaml\n",
      "serialized_values CLIP-convnext_base_w-laion_aesthetic-s13B-b82K_fgvc-aircraft-2013b_CLASSIC_AT\n",
      "./configs/ full_fine_tuning_50epochs_paper_final2 CLIP-convnext_base_w-laion_aesthetic-s13B-b82K_fgvc-aircraft-2013b_CLASSIC_AT\n",
      "/Users/maximeheuillet/Desktop/robust_training/configs/HPO_results/full_fine_tuning_50epochs_paper_final2/CLIP-convnext_base_w-laion_aesthetic-s13B-b82K_fgvc-aircraft-2013b_CLASSIC_AT.yaml\n",
      "serialized_values CLIP-convnext_base_w-laion2B-s13B-b82K_fgvc-aircraft-2013b_CLASSIC_AT\n",
      "./configs/ full_fine_tuning_50epochs_paper_final2 CLIP-convnext_base_w-laion2B-s13B-b82K_fgvc-aircraft-2013b_CLASSIC_AT\n",
      "/Users/maximeheuillet/Desktop/robust_training/configs/HPO_results/full_fine_tuning_50epochs_paper_final2/CLIP-convnext_base_w-laion2B-s13B-b82K_fgvc-aircraft-2013b_CLASSIC_AT.yaml\n",
      "serialized_values deit_small_patch16_224.fb_in1k_fgvc-aircraft-2013b_CLASSIC_AT\n",
      "./configs/ full_fine_tuning_50epochs_paper_final2 deit_small_patch16_224.fb_in1k_fgvc-aircraft-2013b_CLASSIC_AT\n",
      "/Users/maximeheuillet/Desktop/robust_training/configs/HPO_results/full_fine_tuning_50epochs_paper_final2/deit_small_patch16_224.fb_in1k_fgvc-aircraft-2013b_CLASSIC_AT.yaml\n",
      "serialized_values robust_resnet50_fgvc-aircraft-2013b_CLASSIC_AT\n",
      "./configs/ full_fine_tuning_50epochs_paper_final2 robust_resnet50_fgvc-aircraft-2013b_CLASSIC_AT\n",
      "/Users/maximeheuillet/Desktop/robust_training/configs/HPO_results/full_fine_tuning_50epochs_paper_final2/robust_resnet50_fgvc-aircraft-2013b_CLASSIC_AT.yaml\n",
      "serialized_values vit_small_patch16_224.augreg_in21k_fgvc-aircraft-2013b_CLASSIC_AT\n",
      "./configs/ full_fine_tuning_50epochs_paper_final2 vit_small_patch16_224.augreg_in21k_fgvc-aircraft-2013b_CLASSIC_AT\n",
      "/Users/maximeheuillet/Desktop/robust_training/configs/HPO_results/full_fine_tuning_50epochs_paper_final2/vit_small_patch16_224.augreg_in21k_fgvc-aircraft-2013b_CLASSIC_AT.yaml\n",
      "serialized_values convnext_base.fb_in1k_fgvc-aircraft-2013b_CLASSIC_AT\n",
      "./configs/ full_fine_tuning_50epochs_paper_final2 convnext_base.fb_in1k_fgvc-aircraft-2013b_CLASSIC_AT\n",
      "/Users/maximeheuillet/Desktop/robust_training/configs/HPO_results/full_fine_tuning_50epochs_paper_final2/convnext_base.fb_in1k_fgvc-aircraft-2013b_CLASSIC_AT.yaml\n",
      "serialized_values resnet50.a1_in1k_fgvc-aircraft-2013b_CLASSIC_AT\n",
      "./configs/ full_fine_tuning_50epochs_paper_final2 resnet50.a1_in1k_fgvc-aircraft-2013b_CLASSIC_AT\n",
      "/Users/maximeheuillet/Desktop/robust_training/configs/HPO_results/full_fine_tuning_50epochs_paper_final2/resnet50.a1_in1k_fgvc-aircraft-2013b_CLASSIC_AT.yaml\n",
      "serialized_values robust_vit_base_patch16_224_fgvc-aircraft-2013b_CLASSIC_AT\n",
      "./configs/ full_fine_tuning_50epochs_paper_final2 robust_vit_base_patch16_224_fgvc-aircraft-2013b_CLASSIC_AT\n",
      "/Users/maximeheuillet/Desktop/robust_training/configs/HPO_results/full_fine_tuning_50epochs_paper_final2/robust_vit_base_patch16_224_fgvc-aircraft-2013b_CLASSIC_AT.yaml\n",
      "serialized_values vit_base_patch16_224.mae_fgvc-aircraft-2013b_CLASSIC_AT\n",
      "./configs/ full_fine_tuning_50epochs_paper_final2 vit_base_patch16_224.mae_fgvc-aircraft-2013b_CLASSIC_AT\n",
      "/Users/maximeheuillet/Desktop/robust_training/configs/HPO_results/full_fine_tuning_50epochs_paper_final2/vit_base_patch16_224.mae_fgvc-aircraft-2013b_CLASSIC_AT.yaml\n",
      "serialized_values vit_small_patch16_224.dino_fgvc-aircraft-2013b_CLASSIC_AT\n",
      "./configs/ full_fine_tuning_50epochs_paper_final2 vit_small_patch16_224.dino_fgvc-aircraft-2013b_CLASSIC_AT\n",
      "/Users/maximeheuillet/Desktop/robust_training/configs/HPO_results/full_fine_tuning_50epochs_paper_final2/vit_small_patch16_224.dino_fgvc-aircraft-2013b_CLASSIC_AT.yaml\n",
      "serialized_values convnext_base.fb_in22k_fgvc-aircraft-2013b_CLASSIC_AT\n",
      "./configs/ full_fine_tuning_50epochs_paper_final2 convnext_base.fb_in22k_fgvc-aircraft-2013b_CLASSIC_AT\n",
      "/Users/maximeheuillet/Desktop/robust_training/configs/HPO_results/full_fine_tuning_50epochs_paper_final2/convnext_base.fb_in22k_fgvc-aircraft-2013b_CLASSIC_AT.yaml\n",
      "serialized_values robust_convnext_base_fgvc-aircraft-2013b_CLASSIC_AT\n",
      "./configs/ full_fine_tuning_50epochs_paper_final2 robust_convnext_base_fgvc-aircraft-2013b_CLASSIC_AT\n",
      "/Users/maximeheuillet/Desktop/robust_training/configs/HPO_results/full_fine_tuning_50epochs_paper_final2/robust_convnext_base_fgvc-aircraft-2013b_CLASSIC_AT.yaml\n",
      "serialized_values vit_base_patch16_224.augreg_in1k_fgvc-aircraft-2013b_CLASSIC_AT\n",
      "./configs/ full_fine_tuning_50epochs_paper_final2 vit_base_patch16_224.augreg_in1k_fgvc-aircraft-2013b_CLASSIC_AT\n",
      "/Users/maximeheuillet/Desktop/robust_training/configs/HPO_results/full_fine_tuning_50epochs_paper_final2/vit_base_patch16_224.augreg_in1k_fgvc-aircraft-2013b_CLASSIC_AT.yaml\n",
      "serialized_values vit_base_patch16_224.augreg_in21k_fgvc-aircraft-2013b_CLASSIC_AT\n",
      "./configs/ full_fine_tuning_50epochs_paper_final2 vit_base_patch16_224.augreg_in21k_fgvc-aircraft-2013b_CLASSIC_AT\n",
      "/Users/maximeheuillet/Desktop/robust_training/configs/HPO_results/full_fine_tuning_50epochs_paper_final2/vit_base_patch16_224.augreg_in21k_fgvc-aircraft-2013b_CLASSIC_AT.yaml\n",
      "serialized_values vit_base_patch16_clip_224.laion2b_fgvc-aircraft-2013b_CLASSIC_AT\n",
      "./configs/ full_fine_tuning_50epochs_paper_final2 vit_base_patch16_clip_224.laion2b_fgvc-aircraft-2013b_CLASSIC_AT\n",
      "/Users/maximeheuillet/Desktop/robust_training/configs/HPO_results/full_fine_tuning_50epochs_paper_final2/vit_base_patch16_clip_224.laion2b_fgvc-aircraft-2013b_CLASSIC_AT.yaml\n",
      "serialized_values convnext_tiny.fb_in1k_fgvc-aircraft-2013b_CLASSIC_AT\n",
      "./configs/ full_fine_tuning_50epochs_paper_final2 convnext_tiny.fb_in1k_fgvc-aircraft-2013b_CLASSIC_AT\n",
      "/Users/maximeheuillet/Desktop/robust_training/configs/HPO_results/full_fine_tuning_50epochs_paper_final2/convnext_tiny.fb_in1k_fgvc-aircraft-2013b_CLASSIC_AT.yaml\n",
      "serialized_values robust_convnext_tiny_fgvc-aircraft-2013b_CLASSIC_AT\n",
      "./configs/ full_fine_tuning_50epochs_paper_final2 robust_convnext_tiny_fgvc-aircraft-2013b_CLASSIC_AT\n",
      "/Users/maximeheuillet/Desktop/robust_training/configs/HPO_results/full_fine_tuning_50epochs_paper_final2/robust_convnext_tiny_fgvc-aircraft-2013b_CLASSIC_AT.yaml\n",
      "serialized_values robust_deit_small_patch16_224_fgvc-aircraft-2013b_CLASSIC_AT\n",
      "./configs/ full_fine_tuning_50epochs_paper_final2 robust_deit_small_patch16_224_fgvc-aircraft-2013b_CLASSIC_AT\n",
      "/Users/maximeheuillet/Desktop/robust_training/configs/HPO_results/full_fine_tuning_50epochs_paper_final2/robust_deit_small_patch16_224_fgvc-aircraft-2013b_CLASSIC_AT.yaml\n",
      "serialized_values vit_small_patch16_224.augreg_in1k_fgvc-aircraft-2013b_CLASSIC_AT\n",
      "./configs/ full_fine_tuning_50epochs_paper_final2 vit_small_patch16_224.augreg_in1k_fgvc-aircraft-2013b_CLASSIC_AT\n",
      "/Users/maximeheuillet/Desktop/robust_training/configs/HPO_results/full_fine_tuning_50epochs_paper_final2/vit_small_patch16_224.augreg_in1k_fgvc-aircraft-2013b_CLASSIC_AT.yaml\n",
      "serialized_values convnext_tiny.fb_in22k_fgvc-aircraft-2013b_CLASSIC_AT\n",
      "./configs/ full_fine_tuning_50epochs_paper_final2 convnext_tiny.fb_in22k_fgvc-aircraft-2013b_CLASSIC_AT\n",
      "/Users/maximeheuillet/Desktop/robust_training/configs/HPO_results/full_fine_tuning_50epochs_paper_final2/convnext_tiny.fb_in22k_fgvc-aircraft-2013b_CLASSIC_AT.yaml\n",
      "serialized_values vit_base_patch16_clip_224.laion2b_ft_in1k_fgvc-aircraft-2013b_CLASSIC_AT\n",
      "./configs/ full_fine_tuning_50epochs_paper_final2 vit_base_patch16_clip_224.laion2b_ft_in1k_fgvc-aircraft-2013b_CLASSIC_AT\n",
      "/Users/maximeheuillet/Desktop/robust_training/configs/HPO_results/full_fine_tuning_50epochs_paper_final2/vit_base_patch16_clip_224.laion2b_ft_in1k_fgvc-aircraft-2013b_CLASSIC_AT.yaml\n",
      "serialized_values vit_base_patch16_224.augreg_in21k_ft_in1k_fgvc-aircraft-2013b_CLASSIC_AT\n",
      "./configs/ full_fine_tuning_50epochs_paper_final2 vit_base_patch16_224.augreg_in21k_ft_in1k_fgvc-aircraft-2013b_CLASSIC_AT\n",
      "/Users/maximeheuillet/Desktop/robust_training/configs/HPO_results/full_fine_tuning_50epochs_paper_final2/vit_base_patch16_224.augreg_in21k_ft_in1k_fgvc-aircraft-2013b_CLASSIC_AT.yaml\n",
      "serialized_values vit_small_patch16_224.augreg_in21k_ft_in1k_fgvc-aircraft-2013b_CLASSIC_AT\n",
      "./configs/ full_fine_tuning_50epochs_paper_final2 vit_small_patch16_224.augreg_in21k_ft_in1k_fgvc-aircraft-2013b_CLASSIC_AT\n",
      "/Users/maximeheuillet/Desktop/robust_training/configs/HPO_results/full_fine_tuning_50epochs_paper_final2/vit_small_patch16_224.augreg_in21k_ft_in1k_fgvc-aircraft-2013b_CLASSIC_AT.yaml\n",
      "serialized_values eva02_base_patch14_224.mim_in22k_fgvc-aircraft-2013b_CLASSIC_AT\n",
      "./configs/ full_fine_tuning_50epochs_paper_final2 eva02_base_patch14_224.mim_in22k_fgvc-aircraft-2013b_CLASSIC_AT\n",
      "/Users/maximeheuillet/Desktop/robust_training/configs/HPO_results/full_fine_tuning_50epochs_paper_final2/eva02_base_patch14_224.mim_in22k_fgvc-aircraft-2013b_CLASSIC_AT.yaml\n",
      "serialized_values eva02_tiny_patch14_224.mim_in22k_fgvc-aircraft-2013b_CLASSIC_AT\n",
      "./configs/ full_fine_tuning_50epochs_paper_final2 eva02_tiny_patch14_224.mim_in22k_fgvc-aircraft-2013b_CLASSIC_AT\n",
      "/Users/maximeheuillet/Desktop/robust_training/configs/HPO_results/full_fine_tuning_50epochs_paper_final2/eva02_tiny_patch14_224.mim_in22k_fgvc-aircraft-2013b_CLASSIC_AT.yaml\n",
      "serialized_values swin_base_patch4_window7_224.ms_in22k_ft_in1k_fgvc-aircraft-2013b_CLASSIC_AT\n",
      "./configs/ full_fine_tuning_50epochs_paper_final2 swin_base_patch4_window7_224.ms_in22k_ft_in1k_fgvc-aircraft-2013b_CLASSIC_AT\n",
      "/Users/maximeheuillet/Desktop/robust_training/configs/HPO_results/full_fine_tuning_50epochs_paper_final2/swin_base_patch4_window7_224.ms_in22k_ft_in1k_fgvc-aircraft-2013b_CLASSIC_AT.yaml\n",
      "serialized_values swin_tiny_patch4_window7_224.ms_in1k_fgvc-aircraft-2013b_CLASSIC_AT\n",
      "./configs/ full_fine_tuning_50epochs_paper_final2 swin_tiny_patch4_window7_224.ms_in1k_fgvc-aircraft-2013b_CLASSIC_AT\n",
      "/Users/maximeheuillet/Desktop/robust_training/configs/HPO_results/full_fine_tuning_50epochs_paper_final2/swin_tiny_patch4_window7_224.ms_in1k_fgvc-aircraft-2013b_CLASSIC_AT.yaml\n",
      "serialized_values convnext_base.clip_laion2b_augreg_ft_in12k_in1k_fgvc-aircraft-2013b_CLASSIC_AT\n",
      "./configs/ full_fine_tuning_50epochs_paper_final2 convnext_base.clip_laion2b_augreg_ft_in12k_in1k_fgvc-aircraft-2013b_CLASSIC_AT\n",
      "/Users/maximeheuillet/Desktop/robust_training/configs/HPO_results/full_fine_tuning_50epochs_paper_final2/convnext_base.clip_laion2b_augreg_ft_in12k_in1k_fgvc-aircraft-2013b_CLASSIC_AT.yaml\n",
      "serialized_values convnext_base.fb_in22k_ft_in1k_fgvc-aircraft-2013b_CLASSIC_AT\n",
      "./configs/ full_fine_tuning_50epochs_paper_final2 convnext_base.fb_in22k_ft_in1k_fgvc-aircraft-2013b_CLASSIC_AT\n",
      "/Users/maximeheuillet/Desktop/robust_training/configs/HPO_results/full_fine_tuning_50epochs_paper_final2/convnext_base.fb_in22k_ft_in1k_fgvc-aircraft-2013b_CLASSIC_AT.yaml\n",
      "serialized_values convnext_tiny.fb_in22k_ft_in1k_fgvc-aircraft-2013b_CLASSIC_AT\n",
      "./configs/ full_fine_tuning_50epochs_paper_final2 convnext_tiny.fb_in22k_ft_in1k_fgvc-aircraft-2013b_CLASSIC_AT\n",
      "/Users/maximeheuillet/Desktop/robust_training/configs/HPO_results/full_fine_tuning_50epochs_paper_final2/convnext_tiny.fb_in22k_ft_in1k_fgvc-aircraft-2013b_CLASSIC_AT.yaml\n",
      "serialized_values coatnet_0_rw_224.sw_in1k_fgvc-aircraft-2013b_CLASSIC_AT\n",
      "./configs/ full_fine_tuning_50epochs_paper_final2 coatnet_0_rw_224.sw_in1k_fgvc-aircraft-2013b_CLASSIC_AT\n",
      "/Users/maximeheuillet/Desktop/robust_training/configs/HPO_results/full_fine_tuning_50epochs_paper_final2/coatnet_0_rw_224.sw_in1k_fgvc-aircraft-2013b_CLASSIC_AT.yaml\n",
      "serialized_values coatnet_2_rw_224.sw_in12k_ft_in1k_fgvc-aircraft-2013b_CLASSIC_AT\n",
      "./configs/ full_fine_tuning_50epochs_paper_final2 coatnet_2_rw_224.sw_in12k_ft_in1k_fgvc-aircraft-2013b_CLASSIC_AT\n",
      "/Users/maximeheuillet/Desktop/robust_training/configs/HPO_results/full_fine_tuning_50epochs_paper_final2/coatnet_2_rw_224.sw_in12k_ft_in1k_fgvc-aircraft-2013b_CLASSIC_AT.yaml\n",
      "serialized_values coatnet_2_rw_224.sw_in12k_fgvc-aircraft-2013b_CLASSIC_AT\n",
      "./configs/ full_fine_tuning_50epochs_paper_final2 coatnet_2_rw_224.sw_in12k_fgvc-aircraft-2013b_CLASSIC_AT\n",
      "/Users/maximeheuillet/Desktop/robust_training/configs/HPO_results/full_fine_tuning_50epochs_paper_final2/coatnet_2_rw_224.sw_in12k_fgvc-aircraft-2013b_CLASSIC_AT.yaml\n",
      "serialized_values regnetx_004.pycls_in1k_fgvc-aircraft-2013b_CLASSIC_AT\n",
      "./configs/ full_fine_tuning_50epochs_edge_paper_final2 regnetx_004.pycls_in1k_fgvc-aircraft-2013b_CLASSIC_AT\n",
      "/Users/maximeheuillet/Desktop/robust_training/configs/HPO_results/full_fine_tuning_50epochs_edge_paper_final2/regnetx_004.pycls_in1k_fgvc-aircraft-2013b_CLASSIC_AT.yaml\n",
      "serialized_values efficientnet-b0_fgvc-aircraft-2013b_CLASSIC_AT\n",
      "./configs/ full_fine_tuning_50epochs_edge_paper_final2 efficientnet-b0_fgvc-aircraft-2013b_CLASSIC_AT\n",
      "/Users/maximeheuillet/Desktop/robust_training/configs/HPO_results/full_fine_tuning_50epochs_edge_paper_final2/efficientnet-b0_fgvc-aircraft-2013b_CLASSIC_AT.yaml\n",
      "serialized_values deit_tiny_patch16_224.fb_in1k_fgvc-aircraft-2013b_CLASSIC_AT\n",
      "./configs/ full_fine_tuning_50epochs_edge_paper_final2 deit_tiny_patch16_224.fb_in1k_fgvc-aircraft-2013b_CLASSIC_AT\n",
      "/Users/maximeheuillet/Desktop/robust_training/configs/HPO_results/full_fine_tuning_50epochs_edge_paper_final2/deit_tiny_patch16_224.fb_in1k_fgvc-aircraft-2013b_CLASSIC_AT.yaml\n",
      "serialized_values mobilevit-small_fgvc-aircraft-2013b_CLASSIC_AT\n",
      "./configs/ full_fine_tuning_50epochs_edge_paper_final2 mobilevit-small_fgvc-aircraft-2013b_CLASSIC_AT\n",
      "/Users/maximeheuillet/Desktop/robust_training/configs/HPO_results/full_fine_tuning_50epochs_edge_paper_final2/mobilevit-small_fgvc-aircraft-2013b_CLASSIC_AT.yaml\n",
      "serialized_values mobilenetv3_large_100.ra_in1k_fgvc-aircraft-2013b_CLASSIC_AT\n",
      "./configs/ full_fine_tuning_50epochs_edge_paper_final2 mobilenetv3_large_100.ra_in1k_fgvc-aircraft-2013b_CLASSIC_AT\n",
      "/Users/maximeheuillet/Desktop/robust_training/configs/HPO_results/full_fine_tuning_50epochs_edge_paper_final2/mobilenetv3_large_100.ra_in1k_fgvc-aircraft-2013b_CLASSIC_AT.yaml\n",
      "serialized_values edgenext_small.usi_in1k_fgvc-aircraft-2013b_CLASSIC_AT\n",
      "./configs/ full_fine_tuning_50epochs_edge_paper_final2 edgenext_small.usi_in1k_fgvc-aircraft-2013b_CLASSIC_AT\n",
      "/Users/maximeheuillet/Desktop/robust_training/configs/HPO_results/full_fine_tuning_50epochs_edge_paper_final2/edgenext_small.usi_in1k_fgvc-aircraft-2013b_CLASSIC_AT.yaml\n",
      "serialized_values coat_tiny.in1k_fgvc-aircraft-2013b_CLASSIC_AT\n",
      "./configs/ full_fine_tuning_50epochs_edge_paper_final2 coat_tiny.in1k_fgvc-aircraft-2013b_CLASSIC_AT\n",
      "/Users/maximeheuillet/Desktop/robust_training/configs/HPO_results/full_fine_tuning_50epochs_edge_paper_final2/coat_tiny.in1k_fgvc-aircraft-2013b_CLASSIC_AT.yaml\n",
      "serialized_values CLIP-convnext_base_w-laion_aesthetic-s13B-b82K_flowers-102_CLASSIC_AT\n",
      "./configs/ full_fine_tuning_50epochs_paper_final2 CLIP-convnext_base_w-laion_aesthetic-s13B-b82K_flowers-102_CLASSIC_AT\n",
      "/Users/maximeheuillet/Desktop/robust_training/configs/HPO_results/full_fine_tuning_50epochs_paper_final2/CLIP-convnext_base_w-laion_aesthetic-s13B-b82K_flowers-102_CLASSIC_AT.yaml\n",
      "serialized_values CLIP-convnext_base_w-laion2B-s13B-b82K_flowers-102_CLASSIC_AT\n",
      "./configs/ full_fine_tuning_50epochs_paper_final2 CLIP-convnext_base_w-laion2B-s13B-b82K_flowers-102_CLASSIC_AT\n",
      "/Users/maximeheuillet/Desktop/robust_training/configs/HPO_results/full_fine_tuning_50epochs_paper_final2/CLIP-convnext_base_w-laion2B-s13B-b82K_flowers-102_CLASSIC_AT.yaml\n",
      "serialized_values deit_small_patch16_224.fb_in1k_flowers-102_CLASSIC_AT\n",
      "./configs/ full_fine_tuning_50epochs_paper_final2 deit_small_patch16_224.fb_in1k_flowers-102_CLASSIC_AT\n",
      "/Users/maximeheuillet/Desktop/robust_training/configs/HPO_results/full_fine_tuning_50epochs_paper_final2/deit_small_patch16_224.fb_in1k_flowers-102_CLASSIC_AT.yaml\n",
      "serialized_values robust_resnet50_flowers-102_CLASSIC_AT\n",
      "./configs/ full_fine_tuning_50epochs_paper_final2 robust_resnet50_flowers-102_CLASSIC_AT\n",
      "/Users/maximeheuillet/Desktop/robust_training/configs/HPO_results/full_fine_tuning_50epochs_paper_final2/robust_resnet50_flowers-102_CLASSIC_AT.yaml\n",
      "serialized_values vit_small_patch16_224.augreg_in21k_flowers-102_CLASSIC_AT\n",
      "./configs/ full_fine_tuning_50epochs_paper_final2 vit_small_patch16_224.augreg_in21k_flowers-102_CLASSIC_AT\n",
      "/Users/maximeheuillet/Desktop/robust_training/configs/HPO_results/full_fine_tuning_50epochs_paper_final2/vit_small_patch16_224.augreg_in21k_flowers-102_CLASSIC_AT.yaml\n",
      "serialized_values convnext_base.fb_in1k_flowers-102_CLASSIC_AT\n",
      "./configs/ full_fine_tuning_50epochs_paper_final2 convnext_base.fb_in1k_flowers-102_CLASSIC_AT\n",
      "/Users/maximeheuillet/Desktop/robust_training/configs/HPO_results/full_fine_tuning_50epochs_paper_final2/convnext_base.fb_in1k_flowers-102_CLASSIC_AT.yaml\n",
      "serialized_values resnet50.a1_in1k_flowers-102_CLASSIC_AT\n",
      "./configs/ full_fine_tuning_50epochs_paper_final2 resnet50.a1_in1k_flowers-102_CLASSIC_AT\n",
      "/Users/maximeheuillet/Desktop/robust_training/configs/HPO_results/full_fine_tuning_50epochs_paper_final2/resnet50.a1_in1k_flowers-102_CLASSIC_AT.yaml\n",
      "serialized_values robust_vit_base_patch16_224_flowers-102_CLASSIC_AT\n",
      "./configs/ full_fine_tuning_50epochs_paper_final2 robust_vit_base_patch16_224_flowers-102_CLASSIC_AT\n",
      "/Users/maximeheuillet/Desktop/robust_training/configs/HPO_results/full_fine_tuning_50epochs_paper_final2/robust_vit_base_patch16_224_flowers-102_CLASSIC_AT.yaml\n",
      "serialized_values vit_base_patch16_224.mae_flowers-102_CLASSIC_AT\n",
      "./configs/ full_fine_tuning_50epochs_paper_final2 vit_base_patch16_224.mae_flowers-102_CLASSIC_AT\n",
      "/Users/maximeheuillet/Desktop/robust_training/configs/HPO_results/full_fine_tuning_50epochs_paper_final2/vit_base_patch16_224.mae_flowers-102_CLASSIC_AT.yaml\n",
      "serialized_values vit_small_patch16_224.dino_flowers-102_CLASSIC_AT\n",
      "./configs/ full_fine_tuning_50epochs_paper_final2 vit_small_patch16_224.dino_flowers-102_CLASSIC_AT\n",
      "/Users/maximeheuillet/Desktop/robust_training/configs/HPO_results/full_fine_tuning_50epochs_paper_final2/vit_small_patch16_224.dino_flowers-102_CLASSIC_AT.yaml\n",
      "serialized_values convnext_base.fb_in22k_flowers-102_CLASSIC_AT\n",
      "./configs/ full_fine_tuning_50epochs_paper_final2 convnext_base.fb_in22k_flowers-102_CLASSIC_AT\n",
      "/Users/maximeheuillet/Desktop/robust_training/configs/HPO_results/full_fine_tuning_50epochs_paper_final2/convnext_base.fb_in22k_flowers-102_CLASSIC_AT.yaml\n",
      "serialized_values robust_convnext_base_flowers-102_CLASSIC_AT\n",
      "./configs/ full_fine_tuning_50epochs_paper_final2 robust_convnext_base_flowers-102_CLASSIC_AT\n",
      "/Users/maximeheuillet/Desktop/robust_training/configs/HPO_results/full_fine_tuning_50epochs_paper_final2/robust_convnext_base_flowers-102_CLASSIC_AT.yaml\n",
      "serialized_values vit_base_patch16_224.augreg_in1k_flowers-102_CLASSIC_AT\n",
      "./configs/ full_fine_tuning_50epochs_paper_final2 vit_base_patch16_224.augreg_in1k_flowers-102_CLASSIC_AT\n",
      "/Users/maximeheuillet/Desktop/robust_training/configs/HPO_results/full_fine_tuning_50epochs_paper_final2/vit_base_patch16_224.augreg_in1k_flowers-102_CLASSIC_AT.yaml\n",
      "serialized_values vit_base_patch16_224.augreg_in21k_flowers-102_CLASSIC_AT\n",
      "./configs/ full_fine_tuning_50epochs_paper_final2 vit_base_patch16_224.augreg_in21k_flowers-102_CLASSIC_AT\n",
      "/Users/maximeheuillet/Desktop/robust_training/configs/HPO_results/full_fine_tuning_50epochs_paper_final2/vit_base_patch16_224.augreg_in21k_flowers-102_CLASSIC_AT.yaml\n",
      "serialized_values vit_base_patch16_clip_224.laion2b_flowers-102_CLASSIC_AT\n",
      "./configs/ full_fine_tuning_50epochs_paper_final2 vit_base_patch16_clip_224.laion2b_flowers-102_CLASSIC_AT\n",
      "/Users/maximeheuillet/Desktop/robust_training/configs/HPO_results/full_fine_tuning_50epochs_paper_final2/vit_base_patch16_clip_224.laion2b_flowers-102_CLASSIC_AT.yaml\n",
      "serialized_values convnext_tiny.fb_in1k_flowers-102_CLASSIC_AT\n",
      "./configs/ full_fine_tuning_50epochs_paper_final2 convnext_tiny.fb_in1k_flowers-102_CLASSIC_AT\n",
      "/Users/maximeheuillet/Desktop/robust_training/configs/HPO_results/full_fine_tuning_50epochs_paper_final2/convnext_tiny.fb_in1k_flowers-102_CLASSIC_AT.yaml\n",
      "serialized_values robust_convnext_tiny_flowers-102_CLASSIC_AT\n",
      "./configs/ full_fine_tuning_50epochs_paper_final2 robust_convnext_tiny_flowers-102_CLASSIC_AT\n",
      "/Users/maximeheuillet/Desktop/robust_training/configs/HPO_results/full_fine_tuning_50epochs_paper_final2/robust_convnext_tiny_flowers-102_CLASSIC_AT.yaml\n",
      "serialized_values robust_deit_small_patch16_224_flowers-102_CLASSIC_AT\n",
      "./configs/ full_fine_tuning_50epochs_paper_final2 robust_deit_small_patch16_224_flowers-102_CLASSIC_AT\n",
      "/Users/maximeheuillet/Desktop/robust_training/configs/HPO_results/full_fine_tuning_50epochs_paper_final2/robust_deit_small_patch16_224_flowers-102_CLASSIC_AT.yaml\n",
      "serialized_values vit_small_patch16_224.augreg_in1k_flowers-102_CLASSIC_AT\n",
      "./configs/ full_fine_tuning_50epochs_paper_final2 vit_small_patch16_224.augreg_in1k_flowers-102_CLASSIC_AT\n",
      "/Users/maximeheuillet/Desktop/robust_training/configs/HPO_results/full_fine_tuning_50epochs_paper_final2/vit_small_patch16_224.augreg_in1k_flowers-102_CLASSIC_AT.yaml\n",
      "serialized_values convnext_tiny.fb_in22k_flowers-102_CLASSIC_AT\n",
      "./configs/ full_fine_tuning_50epochs_paper_final2 convnext_tiny.fb_in22k_flowers-102_CLASSIC_AT\n",
      "/Users/maximeheuillet/Desktop/robust_training/configs/HPO_results/full_fine_tuning_50epochs_paper_final2/convnext_tiny.fb_in22k_flowers-102_CLASSIC_AT.yaml\n",
      "serialized_values vit_base_patch16_clip_224.laion2b_ft_in1k_flowers-102_CLASSIC_AT\n",
      "./configs/ full_fine_tuning_50epochs_paper_final2 vit_base_patch16_clip_224.laion2b_ft_in1k_flowers-102_CLASSIC_AT\n",
      "/Users/maximeheuillet/Desktop/robust_training/configs/HPO_results/full_fine_tuning_50epochs_paper_final2/vit_base_patch16_clip_224.laion2b_ft_in1k_flowers-102_CLASSIC_AT.yaml\n",
      "serialized_values vit_base_patch16_224.augreg_in21k_ft_in1k_flowers-102_CLASSIC_AT\n",
      "./configs/ full_fine_tuning_50epochs_paper_final2 vit_base_patch16_224.augreg_in21k_ft_in1k_flowers-102_CLASSIC_AT\n",
      "/Users/maximeheuillet/Desktop/robust_training/configs/HPO_results/full_fine_tuning_50epochs_paper_final2/vit_base_patch16_224.augreg_in21k_ft_in1k_flowers-102_CLASSIC_AT.yaml\n",
      "serialized_values vit_small_patch16_224.augreg_in21k_ft_in1k_flowers-102_CLASSIC_AT\n",
      "./configs/ full_fine_tuning_50epochs_paper_final2 vit_small_patch16_224.augreg_in21k_ft_in1k_flowers-102_CLASSIC_AT\n",
      "/Users/maximeheuillet/Desktop/robust_training/configs/HPO_results/full_fine_tuning_50epochs_paper_final2/vit_small_patch16_224.augreg_in21k_ft_in1k_flowers-102_CLASSIC_AT.yaml\n",
      "serialized_values eva02_base_patch14_224.mim_in22k_flowers-102_CLASSIC_AT\n",
      "./configs/ full_fine_tuning_50epochs_paper_final2 eva02_base_patch14_224.mim_in22k_flowers-102_CLASSIC_AT\n",
      "/Users/maximeheuillet/Desktop/robust_training/configs/HPO_results/full_fine_tuning_50epochs_paper_final2/eva02_base_patch14_224.mim_in22k_flowers-102_CLASSIC_AT.yaml\n",
      "serialized_values eva02_tiny_patch14_224.mim_in22k_flowers-102_CLASSIC_AT\n",
      "./configs/ full_fine_tuning_50epochs_paper_final2 eva02_tiny_patch14_224.mim_in22k_flowers-102_CLASSIC_AT\n",
      "/Users/maximeheuillet/Desktop/robust_training/configs/HPO_results/full_fine_tuning_50epochs_paper_final2/eva02_tiny_patch14_224.mim_in22k_flowers-102_CLASSIC_AT.yaml\n",
      "serialized_values swin_base_patch4_window7_224.ms_in22k_ft_in1k_flowers-102_CLASSIC_AT\n",
      "./configs/ full_fine_tuning_50epochs_paper_final2 swin_base_patch4_window7_224.ms_in22k_ft_in1k_flowers-102_CLASSIC_AT\n",
      "/Users/maximeheuillet/Desktop/robust_training/configs/HPO_results/full_fine_tuning_50epochs_paper_final2/swin_base_patch4_window7_224.ms_in22k_ft_in1k_flowers-102_CLASSIC_AT.yaml\n",
      "serialized_values swin_tiny_patch4_window7_224.ms_in1k_flowers-102_CLASSIC_AT\n",
      "./configs/ full_fine_tuning_50epochs_paper_final2 swin_tiny_patch4_window7_224.ms_in1k_flowers-102_CLASSIC_AT\n",
      "/Users/maximeheuillet/Desktop/robust_training/configs/HPO_results/full_fine_tuning_50epochs_paper_final2/swin_tiny_patch4_window7_224.ms_in1k_flowers-102_CLASSIC_AT.yaml\n",
      "serialized_values convnext_base.clip_laion2b_augreg_ft_in12k_in1k_flowers-102_CLASSIC_AT\n",
      "./configs/ full_fine_tuning_50epochs_paper_final2 convnext_base.clip_laion2b_augreg_ft_in12k_in1k_flowers-102_CLASSIC_AT\n",
      "/Users/maximeheuillet/Desktop/robust_training/configs/HPO_results/full_fine_tuning_50epochs_paper_final2/convnext_base.clip_laion2b_augreg_ft_in12k_in1k_flowers-102_CLASSIC_AT.yaml\n",
      "serialized_values convnext_base.fb_in22k_ft_in1k_flowers-102_CLASSIC_AT\n",
      "./configs/ full_fine_tuning_50epochs_paper_final2 convnext_base.fb_in22k_ft_in1k_flowers-102_CLASSIC_AT\n",
      "/Users/maximeheuillet/Desktop/robust_training/configs/HPO_results/full_fine_tuning_50epochs_paper_final2/convnext_base.fb_in22k_ft_in1k_flowers-102_CLASSIC_AT.yaml\n",
      "serialized_values convnext_tiny.fb_in22k_ft_in1k_flowers-102_CLASSIC_AT\n",
      "./configs/ full_fine_tuning_50epochs_paper_final2 convnext_tiny.fb_in22k_ft_in1k_flowers-102_CLASSIC_AT\n",
      "/Users/maximeheuillet/Desktop/robust_training/configs/HPO_results/full_fine_tuning_50epochs_paper_final2/convnext_tiny.fb_in22k_ft_in1k_flowers-102_CLASSIC_AT.yaml\n",
      "serialized_values coatnet_0_rw_224.sw_in1k_flowers-102_CLASSIC_AT\n",
      "./configs/ full_fine_tuning_50epochs_paper_final2 coatnet_0_rw_224.sw_in1k_flowers-102_CLASSIC_AT\n",
      "/Users/maximeheuillet/Desktop/robust_training/configs/HPO_results/full_fine_tuning_50epochs_paper_final2/coatnet_0_rw_224.sw_in1k_flowers-102_CLASSIC_AT.yaml\n",
      "serialized_values coatnet_2_rw_224.sw_in12k_ft_in1k_flowers-102_CLASSIC_AT\n",
      "./configs/ full_fine_tuning_50epochs_paper_final2 coatnet_2_rw_224.sw_in12k_ft_in1k_flowers-102_CLASSIC_AT\n",
      "/Users/maximeheuillet/Desktop/robust_training/configs/HPO_results/full_fine_tuning_50epochs_paper_final2/coatnet_2_rw_224.sw_in12k_ft_in1k_flowers-102_CLASSIC_AT.yaml\n",
      "serialized_values coatnet_2_rw_224.sw_in12k_flowers-102_CLASSIC_AT\n",
      "./configs/ full_fine_tuning_50epochs_paper_final2 coatnet_2_rw_224.sw_in12k_flowers-102_CLASSIC_AT\n",
      "/Users/maximeheuillet/Desktop/robust_training/configs/HPO_results/full_fine_tuning_50epochs_paper_final2/coatnet_2_rw_224.sw_in12k_flowers-102_CLASSIC_AT.yaml\n",
      "serialized_values regnetx_004.pycls_in1k_flowers-102_CLASSIC_AT\n",
      "./configs/ full_fine_tuning_50epochs_edge_paper_final2 regnetx_004.pycls_in1k_flowers-102_CLASSIC_AT\n",
      "/Users/maximeheuillet/Desktop/robust_training/configs/HPO_results/full_fine_tuning_50epochs_edge_paper_final2/regnetx_004.pycls_in1k_flowers-102_CLASSIC_AT.yaml\n",
      "serialized_values efficientnet-b0_flowers-102_CLASSIC_AT\n",
      "./configs/ full_fine_tuning_50epochs_edge_paper_final2 efficientnet-b0_flowers-102_CLASSIC_AT\n",
      "/Users/maximeheuillet/Desktop/robust_training/configs/HPO_results/full_fine_tuning_50epochs_edge_paper_final2/efficientnet-b0_flowers-102_CLASSIC_AT.yaml\n",
      "serialized_values deit_tiny_patch16_224.fb_in1k_flowers-102_CLASSIC_AT\n",
      "./configs/ full_fine_tuning_50epochs_edge_paper_final2 deit_tiny_patch16_224.fb_in1k_flowers-102_CLASSIC_AT\n",
      "/Users/maximeheuillet/Desktop/robust_training/configs/HPO_results/full_fine_tuning_50epochs_edge_paper_final2/deit_tiny_patch16_224.fb_in1k_flowers-102_CLASSIC_AT.yaml\n",
      "serialized_values mobilevit-small_flowers-102_CLASSIC_AT\n",
      "./configs/ full_fine_tuning_50epochs_edge_paper_final2 mobilevit-small_flowers-102_CLASSIC_AT\n",
      "/Users/maximeheuillet/Desktop/robust_training/configs/HPO_results/full_fine_tuning_50epochs_edge_paper_final2/mobilevit-small_flowers-102_CLASSIC_AT.yaml\n",
      "serialized_values mobilenetv3_large_100.ra_in1k_flowers-102_CLASSIC_AT\n",
      "./configs/ full_fine_tuning_50epochs_edge_paper_final2 mobilenetv3_large_100.ra_in1k_flowers-102_CLASSIC_AT\n",
      "/Users/maximeheuillet/Desktop/robust_training/configs/HPO_results/full_fine_tuning_50epochs_edge_paper_final2/mobilenetv3_large_100.ra_in1k_flowers-102_CLASSIC_AT.yaml\n",
      "serialized_values edgenext_small.usi_in1k_flowers-102_CLASSIC_AT\n",
      "./configs/ full_fine_tuning_50epochs_edge_paper_final2 edgenext_small.usi_in1k_flowers-102_CLASSIC_AT\n",
      "/Users/maximeheuillet/Desktop/robust_training/configs/HPO_results/full_fine_tuning_50epochs_edge_paper_final2/edgenext_small.usi_in1k_flowers-102_CLASSIC_AT.yaml\n",
      "serialized_values coat_tiny.in1k_flowers-102_CLASSIC_AT\n",
      "./configs/ full_fine_tuning_50epochs_edge_paper_final2 coat_tiny.in1k_flowers-102_CLASSIC_AT\n",
      "/Users/maximeheuillet/Desktop/robust_training/configs/HPO_results/full_fine_tuning_50epochs_edge_paper_final2/coat_tiny.in1k_flowers-102_CLASSIC_AT.yaml\n",
      "serialized_values CLIP-convnext_base_w-laion_aesthetic-s13B-b82K_oxford-iiit-pet_CLASSIC_AT\n",
      "./configs/ full_fine_tuning_50epochs_paper_final2 CLIP-convnext_base_w-laion_aesthetic-s13B-b82K_oxford-iiit-pet_CLASSIC_AT\n",
      "/Users/maximeheuillet/Desktop/robust_training/configs/HPO_results/full_fine_tuning_50epochs_paper_final2/CLIP-convnext_base_w-laion_aesthetic-s13B-b82K_oxford-iiit-pet_CLASSIC_AT.yaml\n",
      "serialized_values CLIP-convnext_base_w-laion2B-s13B-b82K_oxford-iiit-pet_CLASSIC_AT\n",
      "./configs/ full_fine_tuning_50epochs_paper_final2 CLIP-convnext_base_w-laion2B-s13B-b82K_oxford-iiit-pet_CLASSIC_AT\n",
      "/Users/maximeheuillet/Desktop/robust_training/configs/HPO_results/full_fine_tuning_50epochs_paper_final2/CLIP-convnext_base_w-laion2B-s13B-b82K_oxford-iiit-pet_CLASSIC_AT.yaml\n",
      "serialized_values deit_small_patch16_224.fb_in1k_oxford-iiit-pet_CLASSIC_AT\n",
      "./configs/ full_fine_tuning_50epochs_paper_final2 deit_small_patch16_224.fb_in1k_oxford-iiit-pet_CLASSIC_AT\n",
      "/Users/maximeheuillet/Desktop/robust_training/configs/HPO_results/full_fine_tuning_50epochs_paper_final2/deit_small_patch16_224.fb_in1k_oxford-iiit-pet_CLASSIC_AT.yaml\n",
      "serialized_values robust_resnet50_oxford-iiit-pet_CLASSIC_AT\n",
      "./configs/ full_fine_tuning_50epochs_paper_final2 robust_resnet50_oxford-iiit-pet_CLASSIC_AT\n",
      "/Users/maximeheuillet/Desktop/robust_training/configs/HPO_results/full_fine_tuning_50epochs_paper_final2/robust_resnet50_oxford-iiit-pet_CLASSIC_AT.yaml\n",
      "serialized_values vit_small_patch16_224.augreg_in21k_oxford-iiit-pet_CLASSIC_AT\n",
      "./configs/ full_fine_tuning_50epochs_paper_final2 vit_small_patch16_224.augreg_in21k_oxford-iiit-pet_CLASSIC_AT\n",
      "/Users/maximeheuillet/Desktop/robust_training/configs/HPO_results/full_fine_tuning_50epochs_paper_final2/vit_small_patch16_224.augreg_in21k_oxford-iiit-pet_CLASSIC_AT.yaml\n",
      "serialized_values convnext_base.fb_in1k_oxford-iiit-pet_CLASSIC_AT\n",
      "./configs/ full_fine_tuning_50epochs_paper_final2 convnext_base.fb_in1k_oxford-iiit-pet_CLASSIC_AT\n",
      "/Users/maximeheuillet/Desktop/robust_training/configs/HPO_results/full_fine_tuning_50epochs_paper_final2/convnext_base.fb_in1k_oxford-iiit-pet_CLASSIC_AT.yaml\n",
      "serialized_values resnet50.a1_in1k_oxford-iiit-pet_CLASSIC_AT\n",
      "./configs/ full_fine_tuning_50epochs_paper_final2 resnet50.a1_in1k_oxford-iiit-pet_CLASSIC_AT\n",
      "/Users/maximeheuillet/Desktop/robust_training/configs/HPO_results/full_fine_tuning_50epochs_paper_final2/resnet50.a1_in1k_oxford-iiit-pet_CLASSIC_AT.yaml\n",
      "serialized_values robust_vit_base_patch16_224_oxford-iiit-pet_CLASSIC_AT\n",
      "./configs/ full_fine_tuning_50epochs_paper_final2 robust_vit_base_patch16_224_oxford-iiit-pet_CLASSIC_AT\n",
      "/Users/maximeheuillet/Desktop/robust_training/configs/HPO_results/full_fine_tuning_50epochs_paper_final2/robust_vit_base_patch16_224_oxford-iiit-pet_CLASSIC_AT.yaml\n",
      "serialized_values vit_base_patch16_224.mae_oxford-iiit-pet_CLASSIC_AT\n",
      "./configs/ full_fine_tuning_50epochs_paper_final2 vit_base_patch16_224.mae_oxford-iiit-pet_CLASSIC_AT\n",
      "/Users/maximeheuillet/Desktop/robust_training/configs/HPO_results/full_fine_tuning_50epochs_paper_final2/vit_base_patch16_224.mae_oxford-iiit-pet_CLASSIC_AT.yaml\n",
      "serialized_values vit_small_patch16_224.dino_oxford-iiit-pet_CLASSIC_AT\n",
      "./configs/ full_fine_tuning_50epochs_paper_final2 vit_small_patch16_224.dino_oxford-iiit-pet_CLASSIC_AT\n",
      "/Users/maximeheuillet/Desktop/robust_training/configs/HPO_results/full_fine_tuning_50epochs_paper_final2/vit_small_patch16_224.dino_oxford-iiit-pet_CLASSIC_AT.yaml\n",
      "serialized_values convnext_base.fb_in22k_oxford-iiit-pet_CLASSIC_AT\n",
      "./configs/ full_fine_tuning_50epochs_paper_final2 convnext_base.fb_in22k_oxford-iiit-pet_CLASSIC_AT\n",
      "/Users/maximeheuillet/Desktop/robust_training/configs/HPO_results/full_fine_tuning_50epochs_paper_final2/convnext_base.fb_in22k_oxford-iiit-pet_CLASSIC_AT.yaml\n",
      "serialized_values robust_convnext_base_oxford-iiit-pet_CLASSIC_AT\n",
      "./configs/ full_fine_tuning_50epochs_paper_final2 robust_convnext_base_oxford-iiit-pet_CLASSIC_AT\n",
      "/Users/maximeheuillet/Desktop/robust_training/configs/HPO_results/full_fine_tuning_50epochs_paper_final2/robust_convnext_base_oxford-iiit-pet_CLASSIC_AT.yaml\n",
      "serialized_values vit_base_patch16_224.augreg_in1k_oxford-iiit-pet_CLASSIC_AT\n",
      "./configs/ full_fine_tuning_50epochs_paper_final2 vit_base_patch16_224.augreg_in1k_oxford-iiit-pet_CLASSIC_AT\n",
      "/Users/maximeheuillet/Desktop/robust_training/configs/HPO_results/full_fine_tuning_50epochs_paper_final2/vit_base_patch16_224.augreg_in1k_oxford-iiit-pet_CLASSIC_AT.yaml\n",
      "serialized_values vit_base_patch16_224.augreg_in21k_oxford-iiit-pet_CLASSIC_AT\n",
      "./configs/ full_fine_tuning_50epochs_paper_final2 vit_base_patch16_224.augreg_in21k_oxford-iiit-pet_CLASSIC_AT\n",
      "/Users/maximeheuillet/Desktop/robust_training/configs/HPO_results/full_fine_tuning_50epochs_paper_final2/vit_base_patch16_224.augreg_in21k_oxford-iiit-pet_CLASSIC_AT.yaml\n",
      "serialized_values vit_base_patch16_clip_224.laion2b_oxford-iiit-pet_CLASSIC_AT\n",
      "./configs/ full_fine_tuning_50epochs_paper_final2 vit_base_patch16_clip_224.laion2b_oxford-iiit-pet_CLASSIC_AT\n",
      "/Users/maximeheuillet/Desktop/robust_training/configs/HPO_results/full_fine_tuning_50epochs_paper_final2/vit_base_patch16_clip_224.laion2b_oxford-iiit-pet_CLASSIC_AT.yaml\n",
      "serialized_values convnext_tiny.fb_in1k_oxford-iiit-pet_CLASSIC_AT\n",
      "./configs/ full_fine_tuning_50epochs_paper_final2 convnext_tiny.fb_in1k_oxford-iiit-pet_CLASSIC_AT\n",
      "/Users/maximeheuillet/Desktop/robust_training/configs/HPO_results/full_fine_tuning_50epochs_paper_final2/convnext_tiny.fb_in1k_oxford-iiit-pet_CLASSIC_AT.yaml\n",
      "serialized_values robust_convnext_tiny_oxford-iiit-pet_CLASSIC_AT\n",
      "./configs/ full_fine_tuning_50epochs_paper_final2 robust_convnext_tiny_oxford-iiit-pet_CLASSIC_AT\n",
      "/Users/maximeheuillet/Desktop/robust_training/configs/HPO_results/full_fine_tuning_50epochs_paper_final2/robust_convnext_tiny_oxford-iiit-pet_CLASSIC_AT.yaml\n",
      "serialized_values robust_deit_small_patch16_224_oxford-iiit-pet_CLASSIC_AT\n",
      "./configs/ full_fine_tuning_50epochs_paper_final2 robust_deit_small_patch16_224_oxford-iiit-pet_CLASSIC_AT\n",
      "/Users/maximeheuillet/Desktop/robust_training/configs/HPO_results/full_fine_tuning_50epochs_paper_final2/robust_deit_small_patch16_224_oxford-iiit-pet_CLASSIC_AT.yaml\n",
      "serialized_values vit_small_patch16_224.augreg_in1k_oxford-iiit-pet_CLASSIC_AT\n",
      "./configs/ full_fine_tuning_50epochs_paper_final2 vit_small_patch16_224.augreg_in1k_oxford-iiit-pet_CLASSIC_AT\n",
      "/Users/maximeheuillet/Desktop/robust_training/configs/HPO_results/full_fine_tuning_50epochs_paper_final2/vit_small_patch16_224.augreg_in1k_oxford-iiit-pet_CLASSIC_AT.yaml\n",
      "serialized_values convnext_tiny.fb_in22k_oxford-iiit-pet_CLASSIC_AT\n",
      "./configs/ full_fine_tuning_50epochs_paper_final2 convnext_tiny.fb_in22k_oxford-iiit-pet_CLASSIC_AT\n",
      "/Users/maximeheuillet/Desktop/robust_training/configs/HPO_results/full_fine_tuning_50epochs_paper_final2/convnext_tiny.fb_in22k_oxford-iiit-pet_CLASSIC_AT.yaml\n",
      "serialized_values vit_base_patch16_clip_224.laion2b_ft_in1k_oxford-iiit-pet_CLASSIC_AT\n",
      "./configs/ full_fine_tuning_50epochs_paper_final2 vit_base_patch16_clip_224.laion2b_ft_in1k_oxford-iiit-pet_CLASSIC_AT\n",
      "/Users/maximeheuillet/Desktop/robust_training/configs/HPO_results/full_fine_tuning_50epochs_paper_final2/vit_base_patch16_clip_224.laion2b_ft_in1k_oxford-iiit-pet_CLASSIC_AT.yaml\n",
      "serialized_values vit_base_patch16_224.augreg_in21k_ft_in1k_oxford-iiit-pet_CLASSIC_AT\n",
      "./configs/ full_fine_tuning_50epochs_paper_final2 vit_base_patch16_224.augreg_in21k_ft_in1k_oxford-iiit-pet_CLASSIC_AT\n",
      "/Users/maximeheuillet/Desktop/robust_training/configs/HPO_results/full_fine_tuning_50epochs_paper_final2/vit_base_patch16_224.augreg_in21k_ft_in1k_oxford-iiit-pet_CLASSIC_AT.yaml\n",
      "serialized_values vit_small_patch16_224.augreg_in21k_ft_in1k_oxford-iiit-pet_CLASSIC_AT\n",
      "./configs/ full_fine_tuning_50epochs_paper_final2 vit_small_patch16_224.augreg_in21k_ft_in1k_oxford-iiit-pet_CLASSIC_AT\n",
      "/Users/maximeheuillet/Desktop/robust_training/configs/HPO_results/full_fine_tuning_50epochs_paper_final2/vit_small_patch16_224.augreg_in21k_ft_in1k_oxford-iiit-pet_CLASSIC_AT.yaml\n",
      "serialized_values eva02_base_patch14_224.mim_in22k_oxford-iiit-pet_CLASSIC_AT\n",
      "./configs/ full_fine_tuning_50epochs_paper_final2 eva02_base_patch14_224.mim_in22k_oxford-iiit-pet_CLASSIC_AT\n",
      "/Users/maximeheuillet/Desktop/robust_training/configs/HPO_results/full_fine_tuning_50epochs_paper_final2/eva02_base_patch14_224.mim_in22k_oxford-iiit-pet_CLASSIC_AT.yaml\n",
      "serialized_values eva02_tiny_patch14_224.mim_in22k_oxford-iiit-pet_CLASSIC_AT\n",
      "./configs/ full_fine_tuning_50epochs_paper_final2 eva02_tiny_patch14_224.mim_in22k_oxford-iiit-pet_CLASSIC_AT\n",
      "/Users/maximeheuillet/Desktop/robust_training/configs/HPO_results/full_fine_tuning_50epochs_paper_final2/eva02_tiny_patch14_224.mim_in22k_oxford-iiit-pet_CLASSIC_AT.yaml\n",
      "serialized_values swin_base_patch4_window7_224.ms_in22k_ft_in1k_oxford-iiit-pet_CLASSIC_AT\n",
      "./configs/ full_fine_tuning_50epochs_paper_final2 swin_base_patch4_window7_224.ms_in22k_ft_in1k_oxford-iiit-pet_CLASSIC_AT\n",
      "/Users/maximeheuillet/Desktop/robust_training/configs/HPO_results/full_fine_tuning_50epochs_paper_final2/swin_base_patch4_window7_224.ms_in22k_ft_in1k_oxford-iiit-pet_CLASSIC_AT.yaml\n",
      "serialized_values swin_tiny_patch4_window7_224.ms_in1k_oxford-iiit-pet_CLASSIC_AT\n",
      "./configs/ full_fine_tuning_50epochs_paper_final2 swin_tiny_patch4_window7_224.ms_in1k_oxford-iiit-pet_CLASSIC_AT\n",
      "/Users/maximeheuillet/Desktop/robust_training/configs/HPO_results/full_fine_tuning_50epochs_paper_final2/swin_tiny_patch4_window7_224.ms_in1k_oxford-iiit-pet_CLASSIC_AT.yaml\n",
      "serialized_values convnext_base.clip_laion2b_augreg_ft_in12k_in1k_oxford-iiit-pet_CLASSIC_AT\n",
      "./configs/ full_fine_tuning_50epochs_paper_final2 convnext_base.clip_laion2b_augreg_ft_in12k_in1k_oxford-iiit-pet_CLASSIC_AT\n",
      "/Users/maximeheuillet/Desktop/robust_training/configs/HPO_results/full_fine_tuning_50epochs_paper_final2/convnext_base.clip_laion2b_augreg_ft_in12k_in1k_oxford-iiit-pet_CLASSIC_AT.yaml\n",
      "serialized_values convnext_base.fb_in22k_ft_in1k_oxford-iiit-pet_CLASSIC_AT\n",
      "./configs/ full_fine_tuning_50epochs_paper_final2 convnext_base.fb_in22k_ft_in1k_oxford-iiit-pet_CLASSIC_AT\n",
      "/Users/maximeheuillet/Desktop/robust_training/configs/HPO_results/full_fine_tuning_50epochs_paper_final2/convnext_base.fb_in22k_ft_in1k_oxford-iiit-pet_CLASSIC_AT.yaml\n",
      "serialized_values convnext_tiny.fb_in22k_ft_in1k_oxford-iiit-pet_CLASSIC_AT\n",
      "./configs/ full_fine_tuning_50epochs_paper_final2 convnext_tiny.fb_in22k_ft_in1k_oxford-iiit-pet_CLASSIC_AT\n",
      "/Users/maximeheuillet/Desktop/robust_training/configs/HPO_results/full_fine_tuning_50epochs_paper_final2/convnext_tiny.fb_in22k_ft_in1k_oxford-iiit-pet_CLASSIC_AT.yaml\n",
      "serialized_values coatnet_0_rw_224.sw_in1k_oxford-iiit-pet_CLASSIC_AT\n",
      "./configs/ full_fine_tuning_50epochs_paper_final2 coatnet_0_rw_224.sw_in1k_oxford-iiit-pet_CLASSIC_AT\n",
      "/Users/maximeheuillet/Desktop/robust_training/configs/HPO_results/full_fine_tuning_50epochs_paper_final2/coatnet_0_rw_224.sw_in1k_oxford-iiit-pet_CLASSIC_AT.yaml\n",
      "serialized_values coatnet_2_rw_224.sw_in12k_ft_in1k_oxford-iiit-pet_CLASSIC_AT\n",
      "./configs/ full_fine_tuning_50epochs_paper_final2 coatnet_2_rw_224.sw_in12k_ft_in1k_oxford-iiit-pet_CLASSIC_AT\n",
      "/Users/maximeheuillet/Desktop/robust_training/configs/HPO_results/full_fine_tuning_50epochs_paper_final2/coatnet_2_rw_224.sw_in12k_ft_in1k_oxford-iiit-pet_CLASSIC_AT.yaml\n",
      "serialized_values coatnet_2_rw_224.sw_in12k_oxford-iiit-pet_CLASSIC_AT\n",
      "./configs/ full_fine_tuning_50epochs_paper_final2 coatnet_2_rw_224.sw_in12k_oxford-iiit-pet_CLASSIC_AT\n",
      "/Users/maximeheuillet/Desktop/robust_training/configs/HPO_results/full_fine_tuning_50epochs_paper_final2/coatnet_2_rw_224.sw_in12k_oxford-iiit-pet_CLASSIC_AT.yaml\n",
      "serialized_values regnetx_004.pycls_in1k_oxford-iiit-pet_CLASSIC_AT\n",
      "./configs/ full_fine_tuning_50epochs_edge_paper_final2 regnetx_004.pycls_in1k_oxford-iiit-pet_CLASSIC_AT\n",
      "/Users/maximeheuillet/Desktop/robust_training/configs/HPO_results/full_fine_tuning_50epochs_edge_paper_final2/regnetx_004.pycls_in1k_oxford-iiit-pet_CLASSIC_AT.yaml\n",
      "serialized_values efficientnet-b0_oxford-iiit-pet_CLASSIC_AT\n",
      "./configs/ full_fine_tuning_50epochs_edge_paper_final2 efficientnet-b0_oxford-iiit-pet_CLASSIC_AT\n",
      "/Users/maximeheuillet/Desktop/robust_training/configs/HPO_results/full_fine_tuning_50epochs_edge_paper_final2/efficientnet-b0_oxford-iiit-pet_CLASSIC_AT.yaml\n",
      "serialized_values deit_tiny_patch16_224.fb_in1k_oxford-iiit-pet_CLASSIC_AT\n",
      "./configs/ full_fine_tuning_50epochs_edge_paper_final2 deit_tiny_patch16_224.fb_in1k_oxford-iiit-pet_CLASSIC_AT\n",
      "/Users/maximeheuillet/Desktop/robust_training/configs/HPO_results/full_fine_tuning_50epochs_edge_paper_final2/deit_tiny_patch16_224.fb_in1k_oxford-iiit-pet_CLASSIC_AT.yaml\n",
      "serialized_values mobilevit-small_oxford-iiit-pet_CLASSIC_AT\n",
      "./configs/ full_fine_tuning_50epochs_edge_paper_final2 mobilevit-small_oxford-iiit-pet_CLASSIC_AT\n",
      "/Users/maximeheuillet/Desktop/robust_training/configs/HPO_results/full_fine_tuning_50epochs_edge_paper_final2/mobilevit-small_oxford-iiit-pet_CLASSIC_AT.yaml\n",
      "serialized_values mobilenetv3_large_100.ra_in1k_oxford-iiit-pet_CLASSIC_AT\n",
      "./configs/ full_fine_tuning_50epochs_edge_paper_final2 mobilenetv3_large_100.ra_in1k_oxford-iiit-pet_CLASSIC_AT\n",
      "/Users/maximeheuillet/Desktop/robust_training/configs/HPO_results/full_fine_tuning_50epochs_edge_paper_final2/mobilenetv3_large_100.ra_in1k_oxford-iiit-pet_CLASSIC_AT.yaml\n",
      "serialized_values edgenext_small.usi_in1k_oxford-iiit-pet_CLASSIC_AT\n",
      "./configs/ full_fine_tuning_50epochs_edge_paper_final2 edgenext_small.usi_in1k_oxford-iiit-pet_CLASSIC_AT\n",
      "/Users/maximeheuillet/Desktop/robust_training/configs/HPO_results/full_fine_tuning_50epochs_edge_paper_final2/edgenext_small.usi_in1k_oxford-iiit-pet_CLASSIC_AT.yaml\n",
      "serialized_values coat_tiny.in1k_oxford-iiit-pet_CLASSIC_AT\n",
      "./configs/ full_fine_tuning_50epochs_edge_paper_final2 coat_tiny.in1k_oxford-iiit-pet_CLASSIC_AT\n",
      "/Users/maximeheuillet/Desktop/robust_training/configs/HPO_results/full_fine_tuning_50epochs_edge_paper_final2/coat_tiny.in1k_oxford-iiit-pet_CLASSIC_AT.yaml\n"
     ]
    }
   ],
   "source": [
    "from load_hpo_results import load_hpo_result_dataset\n",
    "import pandas as pd\n",
    "from hydra import initialize, compose\n",
    "\n",
    "pn1 = 'full_fine_tuning_50epochs_edge_paper_final2'\n",
    "pn2 = 'full_fine_tuning_50epochs_paper_final2'\n",
    "final_data1 = load_hpo_result_dataset(pn1, pn2)\n",
    "df = pd.DataFrame(final_data1)\n",
    "df['ft_strategy'] = 'full_fine_tuning_50epochs'\n",
    "\n",
    "# pn1 = 'full_fine_tuning_5epochs_edge_article1'\n",
    "# pn2 = 'full_fine_tuning_5epochs_article1'\n",
    "# final_data2 = load_hpo_result_dataset(pn1, pn2)\n",
    "# df = pd.DataFrame(final_data2)\n",
    "# df['ft_strategy'] = 'full_fine_tuning_5epochs'\n",
    "\n",
    "# pn1 = 'linearprobe_50epochs_edge_paper_final2'\n",
    "# pn2 = 'linearprobe_50epochs_paper_final2'\n",
    "# final_data3 = load_hpo_result_dataset(pn1, pn2)\n",
    "# df = pd.DataFrame(final_data3)\n",
    "# df['ft_strategy'] = 'linearprobe_50epochs'"
   ]
  },
  {
   "cell_type": "code",
   "execution_count": 5,
   "metadata": {},
   "outputs": [],
   "source": [
    "df.to_csv(\"FFT50epochs_HPO.csv\")"
   ]
  },
  {
   "cell_type": "code",
   "execution_count": 34,
   "metadata": {},
   "outputs": [
    {
     "data": {
      "image/png": "[encoded data removed]",
      "text/plain": [
       "<Figure size 864x432 with 1 Axes>"
      ]
     },
     "metadata": {
      "needs_background": "light"
     },
     "output_type": "display_data"
    }
   ],
   "source": [
    "import pandas as pd\n",
    "import matplotlib.pyplot as plt\n",
    "import seaborn as sns\n",
    "\n",
    "size = 1\n",
    "\n",
    "df_fig = df[ df.model_size == size ]\n",
    "\n",
    "# Filter variables of interest\n",
    "variables_of_interest = ['lr1', 'lr2', 'loss_function']\n",
    "data_subset = df_fig[variables_of_interest]\n",
    "\n",
    "# Melt the dataframe to long format with respect to hyperparameters\n",
    "melted_df = data_subset.melt(id_vars='loss_function', var_name='Hyperparameter', value_name='Value')\n",
    "\n",
    "# Create the box plot with jittered dots, split by loss_function\n",
    "plt.figure(figsize=(12, 6))\n",
    "sns.boxplot(x='Hyperparameter', y='Value', hue='loss_function', data=melted_df, whis=1.5)\n",
    "sns.stripplot(x='Hyperparameter', y='Value', hue='loss_function', data=melted_df,\n",
    "              dodge=True, jitter=True, alpha=0.5, marker='o', edgecolor='gray', linewidth=0.5)\n",
    "\n",
    "plt.yscale(\"log\")\n",
    "plt.ylim(1e-6, 1e-1)\n",
    "plt.title('Box Plot of Learning Rates by Loss Function')\n",
    "plt.ylabel('Value (log scale)')\n",
    "plt.grid(True, axis='y')\n",
    "plt.tight_layout()\n",
    "\n",
    "# Remove duplicate legends\n",
    "handles, labels = plt.gca().get_legend_handles_labels()\n",
    "plt.legend(handles[:2], labels[:2], title='Loss Function')\n",
    "\n",
    "plt.show()\n"
   ]
  },
  {
   "cell_type": "code",
   "execution_count": null,
   "metadata": {},
   "outputs": [
    {
     "name": "stdout",
     "output_type": "stream",
     "text": [
      "Percentage of NaN values: 10.67%\n"
     ]
    },
    {
     "data": {
      "text/plain": [
       "(240, 48)"
      ]
     },
     "execution_count": 2,
     "metadata": {},
     "output_type": "execute_result"
    }
   ],
   "source": [
    "# df = pd.concat([ df1,df2,df3 ], axis=0, ignore_index=True) \n",
    "# df = df[ df.model_size == 2 ]\n",
    "\n",
    "nan_percentage = (df.isna().sum().sum() / df.size) * 100\n",
    "print(f\"Percentage of NaN values: {nan_percentage:.2f}%\")\n",
    "\n",
    "grouped_df = df.pivot_table(\n",
    "    index=['ft_strategy', 'model_type', 'loss_function', 'backbone',],\n",
    "    columns='dataset',\n",
    "    # dropna=False\n",
    ")\n",
    "\n",
    "# Rename column levels\n",
    "grouped_df.columns.set_names([\"metric\", \"dataset\"], inplace=True)\n",
    "\n",
    "# Swap column levels → dataset becomes level 0, metric becomes level 1\n",
    "grouped_df.columns = grouped_df.columns.swaplevel(0, 1)\n",
    "\n",
    "# (Optional) Sort columns so that all metrics are grouped within each dataset\n",
    "grouped_df = grouped_df.sort_index(axis=1, level=0)\n",
    "\n",
    "# grouped_df.to_csv(\"./{}.csv\".format(pn1))\n",
    "\n",
    "grouped_df.shape"
   ]
  },
  {
   "cell_type": "code",
   "execution_count": 3,
   "metadata": {},
   "outputs": [
    {
     "data": {
      "text/html": [
       "<div>\n",
       "<style scoped>\n",
       "    .dataframe tbody tr th:only-of-type {\n",
       "        vertical-align: middle;\n",
       "    }\n",
       "\n",
       "    .dataframe tbody tr th {\n",
       "        vertical-align: top;\n",
       "    }\n",
       "\n",
       "    .dataframe thead tr th {\n",
       "        text-align: left;\n",
       "    }\n",
       "\n",
       "    .dataframe thead tr:last-of-type th {\n",
       "        text-align: right;\n",
       "    }\n",
       "</style>\n",
       "<table border=\"1\" class=\"dataframe\">\n",
       "  <thead>\n",
       "    <tr>\n",
       "      <th></th>\n",
       "      <th></th>\n",
       "      <th></th>\n",
       "      <th>dataset</th>\n",
       "      <th colspan=\"8\" halign=\"left\">caltech101</th>\n",
       "      <th colspan=\"2\" halign=\"left\">fgvc-aircraft-2013b</th>\n",
       "      <th>...</th>\n",
       "      <th colspan=\"6\" halign=\"left\">uc-merced-land-use-dataset</th>\n",
       "      <th colspan=\"4\" halign=\"left\">TOTAL</th>\n",
       "    </tr>\n",
       "    <tr>\n",
       "      <th></th>\n",
       "      <th></th>\n",
       "      <th></th>\n",
       "      <th>metric</th>\n",
       "      <th>L1_acc</th>\n",
       "      <th>L2_acc</th>\n",
       "      <th>Linf_acc</th>\n",
       "      <th>clean_acc</th>\n",
       "      <th>common_acc</th>\n",
       "      <th>geom</th>\n",
       "      <th>model_size</th>\n",
       "      <th>sum</th>\n",
       "      <th>L1_acc</th>\n",
       "      <th>L2_acc</th>\n",
       "      <th>...</th>\n",
       "      <th>Linf_acc</th>\n",
       "      <th>clean_acc</th>\n",
       "      <th>common_acc</th>\n",
       "      <th>geom</th>\n",
       "      <th>model_size</th>\n",
       "      <th>sum</th>\n",
       "      <th>score_sum</th>\n",
       "      <th>score_geom</th>\n",
       "      <th>nan_sum_cnt</th>\n",
       "      <th>nan_geom_cnt</th>\n",
       "    </tr>\n",
       "    <tr>\n",
       "      <th>ft_strategy</th>\n",
       "      <th>model_type</th>\n",
       "      <th>loss_function</th>\n",
       "      <th>backbone</th>\n",
       "      <th></th>\n",
       "      <th></th>\n",
       "      <th></th>\n",
       "      <th></th>\n",
       "      <th></th>\n",
       "      <th></th>\n",
       "      <th></th>\n",
       "      <th></th>\n",
       "      <th></th>\n",
       "      <th></th>\n",
       "      <th></th>\n",
       "      <th></th>\n",
       "      <th></th>\n",
       "      <th></th>\n",
       "      <th></th>\n",
       "      <th></th>\n",
       "      <th></th>\n",
       "      <th></th>\n",
       "      <th></th>\n",
       "      <th></th>\n",
       "      <th></th>\n",
       "    </tr>\n",
       "  </thead>\n",
       "  <tbody>\n",
       "    <tr>\n",
       "      <th rowspan=\"5\" valign=\"top\">full_fine_tuning_50epochs</th>\n",
       "      <th>fully convolutional</th>\n",
       "      <th>TRADES_v2</th>\n",
       "      <th>convnext_tiny.fb_in1k</th>\n",
       "      <td>0.822000</td>\n",
       "      <td>0.850</td>\n",
       "      <td>0.778000</td>\n",
       "      <td>0.929</td>\n",
       "      <td>0.846</td>\n",
       "      <td>0.427225</td>\n",
       "      <td>1</td>\n",
       "      <td>4.225000</td>\n",
       "      <td>0.056000</td>\n",
       "      <td>0.222667</td>\n",
       "      <td>...</td>\n",
       "      <td>0.580952</td>\n",
       "      <td>0.895238</td>\n",
       "      <td>0.717460</td>\n",
       "      <td>0.199462</td>\n",
       "      <td>1</td>\n",
       "      <td>3.657143</td>\n",
       "      <td>15.604810</td>\n",
       "      <td>0.647110</td>\n",
       "      <td>0</td>\n",
       "      <td>0</td>\n",
       "    </tr>\n",
       "    <tr>\n",
       "      <th>fully attention</th>\n",
       "      <th>TRADES_v2</th>\n",
       "      <th>vit_base_patch16_clip_224.laion2b_ft_in1k</th>\n",
       "      <td>0.776000</td>\n",
       "      <td>0.820</td>\n",
       "      <td>0.774000</td>\n",
       "      <td>0.919</td>\n",
       "      <td>0.832</td>\n",
       "      <td>0.376578</td>\n",
       "      <td>2</td>\n",
       "      <td>4.121000</td>\n",
       "      <td>0.004000</td>\n",
       "      <td>0.079000</td>\n",
       "      <td>...</td>\n",
       "      <td>0.733333</td>\n",
       "      <td>0.952381</td>\n",
       "      <td>0.777778</td>\n",
       "      <td>0.257563</td>\n",
       "      <td>2</td>\n",
       "      <td>3.858730</td>\n",
       "      <td>15.240730</td>\n",
       "      <td>0.642220</td>\n",
       "      <td>0</td>\n",
       "      <td>0</td>\n",
       "    </tr>\n",
       "    <tr>\n",
       "      <th rowspan=\"3\" valign=\"top\">fully convolutional</th>\n",
       "      <th rowspan=\"3\" valign=\"top\">TRADES_v2</th>\n",
       "      <th>convnext_tiny.fb_in22k</th>\n",
       "      <td>0.805000</td>\n",
       "      <td>0.842</td>\n",
       "      <td>0.763000</td>\n",
       "      <td>0.937</td>\n",
       "      <td>0.849</td>\n",
       "      <td>0.411415</td>\n",
       "      <td>1</td>\n",
       "      <td>4.196000</td>\n",
       "      <td>0.105000</td>\n",
       "      <td>0.324000</td>\n",
       "      <td>...</td>\n",
       "      <td>0.228571</td>\n",
       "      <td>0.952381</td>\n",
       "      <td>0.792857</td>\n",
       "      <td>0.043928</td>\n",
       "      <td>1</td>\n",
       "      <td>2.992857</td>\n",
       "      <td>15.066190</td>\n",
       "      <td>0.612371</td>\n",
       "      <td>0</td>\n",
       "      <td>0</td>\n",
       "    </tr>\n",
       "    <tr>\n",
       "      <th>robust_convnext_tiny</th>\n",
       "      <td>0.586667</td>\n",
       "      <td>0.844</td>\n",
       "      <td>0.899000</td>\n",
       "      <td>0.967</td>\n",
       "      <td>0.896</td>\n",
       "      <td>0.385681</td>\n",
       "      <td>1</td>\n",
       "      <td>4.192667</td>\n",
       "      <td>0.002667</td>\n",
       "      <td>0.012000</td>\n",
       "      <td>...</td>\n",
       "      <td>0.859524</td>\n",
       "      <td>0.959524</td>\n",
       "      <td>0.822222</td>\n",
       "      <td>0.286054</td>\n",
       "      <td>1</td>\n",
       "      <td>3.981746</td>\n",
       "      <td>14.712079</td>\n",
       "      <td>0.719794</td>\n",
       "      <td>0</td>\n",
       "      <td>0</td>\n",
       "    </tr>\n",
       "    <tr>\n",
       "      <th>edgenext_small.usi_in1k</th>\n",
       "      <td>0.794000</td>\n",
       "      <td>0.811</td>\n",
       "      <td>0.742667</td>\n",
       "      <td>0.916</td>\n",
       "      <td>0.809</td>\n",
       "      <td>0.354388</td>\n",
       "      <td>0</td>\n",
       "      <td>4.072667</td>\n",
       "      <td>0.036000</td>\n",
       "      <td>0.141000</td>\n",
       "      <td>...</td>\n",
       "      <td>0.361905</td>\n",
       "      <td>0.938095</td>\n",
       "      <td>0.740476</td>\n",
       "      <td>0.129487</td>\n",
       "      <td>0</td>\n",
       "      <td>3.476190</td>\n",
       "      <td>14.662857</td>\n",
       "      <td>0.495538</td>\n",
       "      <td>0</td>\n",
       "      <td>0</td>\n",
       "    </tr>\n",
       "    <tr>\n",
       "      <th>...</th>\n",
       "      <th>...</th>\n",
       "      <th>...</th>\n",
       "      <th>...</th>\n",
       "      <td>...</td>\n",
       "      <td>...</td>\n",
       "      <td>...</td>\n",
       "      <td>...</td>\n",
       "      <td>...</td>\n",
       "      <td>...</td>\n",
       "      <td>...</td>\n",
       "      <td>...</td>\n",
       "      <td>...</td>\n",
       "      <td>...</td>\n",
       "      <td>...</td>\n",
       "      <td>...</td>\n",
       "      <td>...</td>\n",
       "      <td>...</td>\n",
       "      <td>...</td>\n",
       "      <td>...</td>\n",
       "      <td>...</td>\n",
       "      <td>...</td>\n",
       "      <td>...</td>\n",
       "      <td>...</td>\n",
       "      <td>...</td>\n",
       "    </tr>\n",
       "    <tr>\n",
       "      <th>full_fine_tuning_5epochs</th>\n",
       "      <th>hybrid</th>\n",
       "      <th>CLASSIC_AT</th>\n",
       "      <th>mobilevit-small</th>\n",
       "      <td>NaN</td>\n",
       "      <td>NaN</td>\n",
       "      <td>NaN</td>\n",
       "      <td>NaN</td>\n",
       "      <td>NaN</td>\n",
       "      <td>NaN</td>\n",
       "      <td>0</td>\n",
       "      <td>NaN</td>\n",
       "      <td>NaN</td>\n",
       "      <td>NaN</td>\n",
       "      <td>...</td>\n",
       "      <td>NaN</td>\n",
       "      <td>NaN</td>\n",
       "      <td>NaN</td>\n",
       "      <td>NaN</td>\n",
       "      <td>0</td>\n",
       "      <td>NaN</td>\n",
       "      <td>0.000000</td>\n",
       "      <td>0.000000</td>\n",
       "      <td>6</td>\n",
       "      <td>6</td>\n",
       "    </tr>\n",
       "    <tr>\n",
       "      <th rowspan=\"4\" valign=\"top\">linearprobe_50epochs</th>\n",
       "      <th rowspan=\"3\" valign=\"top\">fully convolutional</th>\n",
       "      <th rowspan=\"3\" valign=\"top\">CLASSIC_AT</th>\n",
       "      <th>edgenext_small.usi_in1k</th>\n",
       "      <td>NaN</td>\n",
       "      <td>NaN</td>\n",
       "      <td>NaN</td>\n",
       "      <td>NaN</td>\n",
       "      <td>NaN</td>\n",
       "      <td>NaN</td>\n",
       "      <td>0</td>\n",
       "      <td>NaN</td>\n",
       "      <td>NaN</td>\n",
       "      <td>NaN</td>\n",
       "      <td>...</td>\n",
       "      <td>NaN</td>\n",
       "      <td>NaN</td>\n",
       "      <td>NaN</td>\n",
       "      <td>NaN</td>\n",
       "      <td>0</td>\n",
       "      <td>NaN</td>\n",
       "      <td>0.000000</td>\n",
       "      <td>0.000000</td>\n",
       "      <td>6</td>\n",
       "      <td>6</td>\n",
       "    </tr>\n",
       "    <tr>\n",
       "      <th>efficientnet-b0</th>\n",
       "      <td>NaN</td>\n",
       "      <td>NaN</td>\n",
       "      <td>NaN</td>\n",
       "      <td>NaN</td>\n",
       "      <td>NaN</td>\n",
       "      <td>NaN</td>\n",
       "      <td>0</td>\n",
       "      <td>NaN</td>\n",
       "      <td>NaN</td>\n",
       "      <td>NaN</td>\n",
       "      <td>...</td>\n",
       "      <td>NaN</td>\n",
       "      <td>NaN</td>\n",
       "      <td>NaN</td>\n",
       "      <td>NaN</td>\n",
       "      <td>0</td>\n",
       "      <td>NaN</td>\n",
       "      <td>0.000000</td>\n",
       "      <td>0.000000</td>\n",
       "      <td>6</td>\n",
       "      <td>6</td>\n",
       "    </tr>\n",
       "    <tr>\n",
       "      <th>mobilenetv3_large_100.ra_in1k</th>\n",
       "      <td>NaN</td>\n",
       "      <td>NaN</td>\n",
       "      <td>NaN</td>\n",
       "      <td>NaN</td>\n",
       "      <td>NaN</td>\n",
       "      <td>NaN</td>\n",
       "      <td>0</td>\n",
       "      <td>NaN</td>\n",
       "      <td>NaN</td>\n",
       "      <td>NaN</td>\n",
       "      <td>...</td>\n",
       "      <td>NaN</td>\n",
       "      <td>NaN</td>\n",
       "      <td>NaN</td>\n",
       "      <td>NaN</td>\n",
       "      <td>0</td>\n",
       "      <td>NaN</td>\n",
       "      <td>0.000000</td>\n",
       "      <td>0.000000</td>\n",
       "      <td>6</td>\n",
       "      <td>6</td>\n",
       "    </tr>\n",
       "    <tr>\n",
       "      <th>hybrid</th>\n",
       "      <th>TRADES_v2</th>\n",
       "      <th>mobilevit-small</th>\n",
       "      <td>NaN</td>\n",
       "      <td>NaN</td>\n",
       "      <td>NaN</td>\n",
       "      <td>NaN</td>\n",
       "      <td>NaN</td>\n",
       "      <td>NaN</td>\n",
       "      <td>0</td>\n",
       "      <td>NaN</td>\n",
       "      <td>NaN</td>\n",
       "      <td>NaN</td>\n",
       "      <td>...</td>\n",
       "      <td>NaN</td>\n",
       "      <td>NaN</td>\n",
       "      <td>NaN</td>\n",
       "      <td>NaN</td>\n",
       "      <td>0</td>\n",
       "      <td>NaN</td>\n",
       "      <td>0.000000</td>\n",
       "      <td>0.000000</td>\n",
       "      <td>6</td>\n",
       "      <td>6</td>\n",
       "    </tr>\n",
       "  </tbody>\n",
       "</table>\n",
       "<p>240 rows × 52 columns</p>\n",
       "</div>"
      ],
      "text/plain": [
       "dataset                                                                                               caltech101  \\\n",
       "metric                                                                                                    L1_acc   \n",
       "ft_strategy               model_type          loss_function backbone                                               \n",
       "full_fine_tuning_50epochs fully convolutional TRADES_v2     convnext_tiny.fb_in1k                       0.822000   \n",
       "                          fully attention     TRADES_v2     vit_base_patch16_clip_224.laion2b_ft_in1k   0.776000   \n",
       "                          fully convolutional TRADES_v2     convnext_tiny.fb_in22k                      0.805000   \n",
       "                                                            robust_convnext_tiny                        0.586667   \n",
       "                                                            edgenext_small.usi_in1k                     0.794000   \n",
       "...                                                                                                          ...   \n",
       "full_fine_tuning_5epochs  hybrid              CLASSIC_AT    mobilevit-small                                  NaN   \n",
       "linearprobe_50epochs      fully convolutional CLASSIC_AT    edgenext_small.usi_in1k                          NaN   \n",
       "                                                            efficientnet-b0                                  NaN   \n",
       "                                                            mobilenetv3_large_100.ra_in1k                    NaN   \n",
       "                          hybrid              TRADES_v2     mobilevit-small                                  NaN   \n",
       "\n",
       "dataset                                                                                                       \\\n",
       "metric                                                                                                L2_acc   \n",
       "ft_strategy               model_type          loss_function backbone                                           \n",
       "full_fine_tuning_50epochs fully convolutional TRADES_v2     convnext_tiny.fb_in1k                      0.850   \n",
       "                          fully attention     TRADES_v2     vit_base_patch16_clip_224.laion2b_ft_in1k  0.820   \n",
       "                          fully convolutional TRADES_v2     convnext_tiny.fb_in22k                     0.842   \n",
       "                                                            robust_convnext_tiny                       0.844   \n",
       "                                                            edgenext_small.usi_in1k                    0.811   \n",
       "...                                                                                                      ...   \n",
       "full_fine_tuning_5epochs  hybrid              CLASSIC_AT    mobilevit-small                              NaN   \n",
       "linearprobe_50epochs      fully convolutional CLASSIC_AT    edgenext_small.usi_in1k                      NaN   \n",
       "                                                            efficientnet-b0                              NaN   \n",
       "                                                            mobilenetv3_large_100.ra_in1k                NaN   \n",
       "                          hybrid              TRADES_v2     mobilevit-small                              NaN   \n",
       "\n",
       "dataset                                                                                                          \\\n",
       "metric                                                                                                 Linf_acc   \n",
       "ft_strategy               model_type          loss_function backbone                                              \n",
       "full_fine_tuning_50epochs fully convolutional TRADES_v2     convnext_tiny.fb_in1k                      0.778000   \n",
       "                          fully attention     TRADES_v2     vit_base_patch16_clip_224.laion2b_ft_in1k  0.774000   \n",
       "                          fully convolutional TRADES_v2     convnext_tiny.fb_in22k                     0.763000   \n",
       "                                                            robust_convnext_tiny                       0.899000   \n",
       "                                                            edgenext_small.usi_in1k                    0.742667   \n",
       "...                                                                                                         ...   \n",
       "full_fine_tuning_5epochs  hybrid              CLASSIC_AT    mobilevit-small                                 NaN   \n",
       "linearprobe_50epochs      fully convolutional CLASSIC_AT    edgenext_small.usi_in1k                         NaN   \n",
       "                                                            efficientnet-b0                                 NaN   \n",
       "                                                            mobilenetv3_large_100.ra_in1k                   NaN   \n",
       "                          hybrid              TRADES_v2     mobilevit-small                                 NaN   \n",
       "\n",
       "dataset                                                                                                          \\\n",
       "metric                                                                                                clean_acc   \n",
       "ft_strategy               model_type          loss_function backbone                                              \n",
       "full_fine_tuning_50epochs fully convolutional TRADES_v2     convnext_tiny.fb_in1k                         0.929   \n",
       "                          fully attention     TRADES_v2     vit_base_patch16_clip_224.laion2b_ft_in1k     0.919   \n",
       "                          fully convolutional TRADES_v2     convnext_tiny.fb_in22k                        0.937   \n",
       "                                                            robust_convnext_tiny                          0.967   \n",
       "                                                            edgenext_small.usi_in1k                       0.916   \n",
       "...                                                                                                         ...   \n",
       "full_fine_tuning_5epochs  hybrid              CLASSIC_AT    mobilevit-small                                 NaN   \n",
       "linearprobe_50epochs      fully convolutional CLASSIC_AT    edgenext_small.usi_in1k                         NaN   \n",
       "                                                            efficientnet-b0                                 NaN   \n",
       "                                                            mobilenetv3_large_100.ra_in1k                   NaN   \n",
       "                          hybrid              TRADES_v2     mobilevit-small                                 NaN   \n",
       "\n",
       "dataset                                                                                                           \\\n",
       "metric                                                                                                common_acc   \n",
       "ft_strategy               model_type          loss_function backbone                                               \n",
       "full_fine_tuning_50epochs fully convolutional TRADES_v2     convnext_tiny.fb_in1k                          0.846   \n",
       "                          fully attention     TRADES_v2     vit_base_patch16_clip_224.laion2b_ft_in1k      0.832   \n",
       "                          fully convolutional TRADES_v2     convnext_tiny.fb_in22k                         0.849   \n",
       "                                                            robust_convnext_tiny                           0.896   \n",
       "                                                            edgenext_small.usi_in1k                        0.809   \n",
       "...                                                                                                          ...   \n",
       "full_fine_tuning_5epochs  hybrid              CLASSIC_AT    mobilevit-small                                  NaN   \n",
       "linearprobe_50epochs      fully convolutional CLASSIC_AT    edgenext_small.usi_in1k                          NaN   \n",
       "                                                            efficientnet-b0                                  NaN   \n",
       "                                                            mobilenetv3_large_100.ra_in1k                    NaN   \n",
       "                          hybrid              TRADES_v2     mobilevit-small                                  NaN   \n",
       "\n",
       "dataset                                                                                                          \\\n",
       "metric                                                                                                     geom   \n",
       "ft_strategy               model_type          loss_function backbone                                              \n",
       "full_fine_tuning_50epochs fully convolutional TRADES_v2     convnext_tiny.fb_in1k                      0.427225   \n",
       "                          fully attention     TRADES_v2     vit_base_patch16_clip_224.laion2b_ft_in1k  0.376578   \n",
       "                          fully convolutional TRADES_v2     convnext_tiny.fb_in22k                     0.411415   \n",
       "                                                            robust_convnext_tiny                       0.385681   \n",
       "                                                            edgenext_small.usi_in1k                    0.354388   \n",
       "...                                                                                                         ...   \n",
       "full_fine_tuning_5epochs  hybrid              CLASSIC_AT    mobilevit-small                                 NaN   \n",
       "linearprobe_50epochs      fully convolutional CLASSIC_AT    edgenext_small.usi_in1k                         NaN   \n",
       "                                                            efficientnet-b0                                 NaN   \n",
       "                                                            mobilenetv3_large_100.ra_in1k                   NaN   \n",
       "                          hybrid              TRADES_v2     mobilevit-small                                 NaN   \n",
       "\n",
       "dataset                                                                                                           \\\n",
       "metric                                                                                                model_size   \n",
       "ft_strategy               model_type          loss_function backbone                                               \n",
       "full_fine_tuning_50epochs fully convolutional TRADES_v2     convnext_tiny.fb_in1k                              1   \n",
       "                          fully attention     TRADES_v2     vit_base_patch16_clip_224.laion2b_ft_in1k          2   \n",
       "                          fully convolutional TRADES_v2     convnext_tiny.fb_in22k                             1   \n",
       "                                                            robust_convnext_tiny                               1   \n",
       "                                                            edgenext_small.usi_in1k                            0   \n",
       "...                                                                                                          ...   \n",
       "full_fine_tuning_5epochs  hybrid              CLASSIC_AT    mobilevit-small                                    0   \n",
       "linearprobe_50epochs      fully convolutional CLASSIC_AT    edgenext_small.usi_in1k                            0   \n",
       "                                                            efficientnet-b0                                    0   \n",
       "                                                            mobilenetv3_large_100.ra_in1k                      0   \n",
       "                          hybrid              TRADES_v2     mobilevit-small                                    0   \n",
       "\n",
       "dataset                                                                                                          \\\n",
       "metric                                                                                                      sum   \n",
       "ft_strategy               model_type          loss_function backbone                                              \n",
       "full_fine_tuning_50epochs fully convolutional TRADES_v2     convnext_tiny.fb_in1k                      4.225000   \n",
       "                          fully attention     TRADES_v2     vit_base_patch16_clip_224.laion2b_ft_in1k  4.121000   \n",
       "                          fully convolutional TRADES_v2     convnext_tiny.fb_in22k                     4.196000   \n",
       "                                                            robust_convnext_tiny                       4.192667   \n",
       "                                                            edgenext_small.usi_in1k                    4.072667   \n",
       "...                                                                                                         ...   \n",
       "full_fine_tuning_5epochs  hybrid              CLASSIC_AT    mobilevit-small                                 NaN   \n",
       "linearprobe_50epochs      fully convolutional CLASSIC_AT    edgenext_small.usi_in1k                         NaN   \n",
       "                                                            efficientnet-b0                                 NaN   \n",
       "                                                            mobilenetv3_large_100.ra_in1k                   NaN   \n",
       "                          hybrid              TRADES_v2     mobilevit-small                                 NaN   \n",
       "\n",
       "dataset                                                                                               fgvc-aircraft-2013b  \\\n",
       "metric                                                                                                             L1_acc   \n",
       "ft_strategy               model_type          loss_function backbone                                                        \n",
       "full_fine_tuning_50epochs fully convolutional TRADES_v2     convnext_tiny.fb_in1k                                0.056000   \n",
       "                          fully attention     TRADES_v2     vit_base_patch16_clip_224.laion2b_ft_in1k            0.004000   \n",
       "                          fully convolutional TRADES_v2     convnext_tiny.fb_in22k                               0.105000   \n",
       "                                                            robust_convnext_tiny                                 0.002667   \n",
       "                                                            edgenext_small.usi_in1k                              0.036000   \n",
       "...                                                                                                                   ...   \n",
       "full_fine_tuning_5epochs  hybrid              CLASSIC_AT    mobilevit-small                                           NaN   \n",
       "linearprobe_50epochs      fully convolutional CLASSIC_AT    edgenext_small.usi_in1k                                   NaN   \n",
       "                                                            efficientnet-b0                                           NaN   \n",
       "                                                            mobilenetv3_large_100.ra_in1k                             NaN   \n",
       "                          hybrid              TRADES_v2     mobilevit-small                                           NaN   \n",
       "\n",
       "dataset                                                                                                          \\\n",
       "metric                                                                                                   L2_acc   \n",
       "ft_strategy               model_type          loss_function backbone                                              \n",
       "full_fine_tuning_50epochs fully convolutional TRADES_v2     convnext_tiny.fb_in1k                      0.222667   \n",
       "                          fully attention     TRADES_v2     vit_base_patch16_clip_224.laion2b_ft_in1k  0.079000   \n",
       "                          fully convolutional TRADES_v2     convnext_tiny.fb_in22k                     0.324000   \n",
       "                                                            robust_convnext_tiny                       0.012000   \n",
       "                                                            edgenext_small.usi_in1k                    0.141000   \n",
       "...                                                                                                         ...   \n",
       "full_fine_tuning_5epochs  hybrid              CLASSIC_AT    mobilevit-small                                 NaN   \n",
       "linearprobe_50epochs      fully convolutional CLASSIC_AT    edgenext_small.usi_in1k                         NaN   \n",
       "                                                            efficientnet-b0                                 NaN   \n",
       "                                                            mobilenetv3_large_100.ra_in1k                   NaN   \n",
       "                          hybrid              TRADES_v2     mobilevit-small                                 NaN   \n",
       "\n",
       "dataset                                                                                                ...  \\\n",
       "metric                                                                                                 ...   \n",
       "ft_strategy               model_type          loss_function backbone                                   ...   \n",
       "full_fine_tuning_50epochs fully convolutional TRADES_v2     convnext_tiny.fb_in1k                      ...   \n",
       "                          fully attention     TRADES_v2     vit_base_patch16_clip_224.laion2b_ft_in1k  ...   \n",
       "                          fully convolutional TRADES_v2     convnext_tiny.fb_in22k                     ...   \n",
       "                                                            robust_convnext_tiny                       ...   \n",
       "                                                            edgenext_small.usi_in1k                    ...   \n",
       "...                                                                                                    ...   \n",
       "full_fine_tuning_5epochs  hybrid              CLASSIC_AT    mobilevit-small                            ...   \n",
       "linearprobe_50epochs      fully convolutional CLASSIC_AT    edgenext_small.usi_in1k                    ...   \n",
       "                                                            efficientnet-b0                            ...   \n",
       "                                                            mobilenetv3_large_100.ra_in1k              ...   \n",
       "                          hybrid              TRADES_v2     mobilevit-small                            ...   \n",
       "\n",
       "dataset                                                                                               uc-merced-land-use-dataset  \\\n",
       "metric                                                                                                                  Linf_acc   \n",
       "ft_strategy               model_type          loss_function backbone                                                               \n",
       "full_fine_tuning_50epochs fully convolutional TRADES_v2     convnext_tiny.fb_in1k                                       0.580952   \n",
       "                          fully attention     TRADES_v2     vit_base_patch16_clip_224.laion2b_ft_in1k                   0.733333   \n",
       "                          fully convolutional TRADES_v2     convnext_tiny.fb_in22k                                      0.228571   \n",
       "                                                            robust_convnext_tiny                                        0.859524   \n",
       "                                                            edgenext_small.usi_in1k                                     0.361905   \n",
       "...                                                                                                                          ...   \n",
       "full_fine_tuning_5epochs  hybrid              CLASSIC_AT    mobilevit-small                                                  NaN   \n",
       "linearprobe_50epochs      fully convolutional CLASSIC_AT    edgenext_small.usi_in1k                                          NaN   \n",
       "                                                            efficientnet-b0                                                  NaN   \n",
       "                                                            mobilenetv3_large_100.ra_in1k                                    NaN   \n",
       "                          hybrid              TRADES_v2     mobilevit-small                                                  NaN   \n",
       "\n",
       "dataset                                                                                                          \\\n",
       "metric                                                                                                clean_acc   \n",
       "ft_strategy               model_type          loss_function backbone                                              \n",
       "full_fine_tuning_50epochs fully convolutional TRADES_v2     convnext_tiny.fb_in1k                      0.895238   \n",
       "                          fully attention     TRADES_v2     vit_base_patch16_clip_224.laion2b_ft_in1k  0.952381   \n",
       "                          fully convolutional TRADES_v2     convnext_tiny.fb_in22k                     0.952381   \n",
       "                                                            robust_convnext_tiny                       0.959524   \n",
       "                                                            edgenext_small.usi_in1k                    0.938095   \n",
       "...                                                                                                         ...   \n",
       "full_fine_tuning_5epochs  hybrid              CLASSIC_AT    mobilevit-small                                 NaN   \n",
       "linearprobe_50epochs      fully convolutional CLASSIC_AT    edgenext_small.usi_in1k                         NaN   \n",
       "                                                            efficientnet-b0                                 NaN   \n",
       "                                                            mobilenetv3_large_100.ra_in1k                   NaN   \n",
       "                          hybrid              TRADES_v2     mobilevit-small                                 NaN   \n",
       "\n",
       "dataset                                                                                                           \\\n",
       "metric                                                                                                common_acc   \n",
       "ft_strategy               model_type          loss_function backbone                                               \n",
       "full_fine_tuning_50epochs fully convolutional TRADES_v2     convnext_tiny.fb_in1k                       0.717460   \n",
       "                          fully attention     TRADES_v2     vit_base_patch16_clip_224.laion2b_ft_in1k   0.777778   \n",
       "                          fully convolutional TRADES_v2     convnext_tiny.fb_in22k                      0.792857   \n",
       "                                                            robust_convnext_tiny                        0.822222   \n",
       "                                                            edgenext_small.usi_in1k                     0.740476   \n",
       "...                                                                                                          ...   \n",
       "full_fine_tuning_5epochs  hybrid              CLASSIC_AT    mobilevit-small                                  NaN   \n",
       "linearprobe_50epochs      fully convolutional CLASSIC_AT    edgenext_small.usi_in1k                          NaN   \n",
       "                                                            efficientnet-b0                                  NaN   \n",
       "                                                            mobilenetv3_large_100.ra_in1k                    NaN   \n",
       "                          hybrid              TRADES_v2     mobilevit-small                                  NaN   \n",
       "\n",
       "dataset                                                                                                          \\\n",
       "metric                                                                                                     geom   \n",
       "ft_strategy               model_type          loss_function backbone                                              \n",
       "full_fine_tuning_50epochs fully convolutional TRADES_v2     convnext_tiny.fb_in1k                      0.199462   \n",
       "                          fully attention     TRADES_v2     vit_base_patch16_clip_224.laion2b_ft_in1k  0.257563   \n",
       "                          fully convolutional TRADES_v2     convnext_tiny.fb_in22k                     0.043928   \n",
       "                                                            robust_convnext_tiny                       0.286054   \n",
       "                                                            edgenext_small.usi_in1k                    0.129487   \n",
       "...                                                                                                         ...   \n",
       "full_fine_tuning_5epochs  hybrid              CLASSIC_AT    mobilevit-small                                 NaN   \n",
       "linearprobe_50epochs      fully convolutional CLASSIC_AT    edgenext_small.usi_in1k                         NaN   \n",
       "                                                            efficientnet-b0                                 NaN   \n",
       "                                                            mobilenetv3_large_100.ra_in1k                   NaN   \n",
       "                          hybrid              TRADES_v2     mobilevit-small                                 NaN   \n",
       "\n",
       "dataset                                                                                                           \\\n",
       "metric                                                                                                model_size   \n",
       "ft_strategy               model_type          loss_function backbone                                               \n",
       "full_fine_tuning_50epochs fully convolutional TRADES_v2     convnext_tiny.fb_in1k                              1   \n",
       "                          fully attention     TRADES_v2     vit_base_patch16_clip_224.laion2b_ft_in1k          2   \n",
       "                          fully convolutional TRADES_v2     convnext_tiny.fb_in22k                             1   \n",
       "                                                            robust_convnext_tiny                               1   \n",
       "                                                            edgenext_small.usi_in1k                            0   \n",
       "...                                                                                                          ...   \n",
       "full_fine_tuning_5epochs  hybrid              CLASSIC_AT    mobilevit-small                                    0   \n",
       "linearprobe_50epochs      fully convolutional CLASSIC_AT    edgenext_small.usi_in1k                            0   \n",
       "                                                            efficientnet-b0                                    0   \n",
       "                                                            mobilenetv3_large_100.ra_in1k                      0   \n",
       "                          hybrid              TRADES_v2     mobilevit-small                                    0   \n",
       "\n",
       "dataset                                                                                                          \\\n",
       "metric                                                                                                      sum   \n",
       "ft_strategy               model_type          loss_function backbone                                              \n",
       "full_fine_tuning_50epochs fully convolutional TRADES_v2     convnext_tiny.fb_in1k                      3.657143   \n",
       "                          fully attention     TRADES_v2     vit_base_patch16_clip_224.laion2b_ft_in1k  3.858730   \n",
       "                          fully convolutional TRADES_v2     convnext_tiny.fb_in22k                     2.992857   \n",
       "                                                            robust_convnext_tiny                       3.981746   \n",
       "                                                            edgenext_small.usi_in1k                    3.476190   \n",
       "...                                                                                                         ...   \n",
       "full_fine_tuning_5epochs  hybrid              CLASSIC_AT    mobilevit-small                                 NaN   \n",
       "linearprobe_50epochs      fully convolutional CLASSIC_AT    edgenext_small.usi_in1k                         NaN   \n",
       "                                                            efficientnet-b0                                 NaN   \n",
       "                                                            mobilenetv3_large_100.ra_in1k                   NaN   \n",
       "                          hybrid              TRADES_v2     mobilevit-small                                 NaN   \n",
       "\n",
       "dataset                                                                                                    TOTAL  \\\n",
       "metric                                                                                                 score_sum   \n",
       "ft_strategy               model_type          loss_function backbone                                               \n",
       "full_fine_tuning_50epochs fully convolutional TRADES_v2     convnext_tiny.fb_in1k                      15.604810   \n",
       "                          fully attention     TRADES_v2     vit_base_patch16_clip_224.laion2b_ft_in1k  15.240730   \n",
       "                          fully convolutional TRADES_v2     convnext_tiny.fb_in22k                     15.066190   \n",
       "                                                            robust_convnext_tiny                       14.712079   \n",
       "                                                            edgenext_small.usi_in1k                    14.662857   \n",
       "...                                                                                                          ...   \n",
       "full_fine_tuning_5epochs  hybrid              CLASSIC_AT    mobilevit-small                             0.000000   \n",
       "linearprobe_50epochs      fully convolutional CLASSIC_AT    edgenext_small.usi_in1k                     0.000000   \n",
       "                                                            efficientnet-b0                             0.000000   \n",
       "                                                            mobilenetv3_large_100.ra_in1k               0.000000   \n",
       "                          hybrid              TRADES_v2     mobilevit-small                             0.000000   \n",
       "\n",
       "dataset                                                                                                           \\\n",
       "metric                                                                                                score_geom   \n",
       "ft_strategy               model_type          loss_function backbone                                               \n",
       "full_fine_tuning_50epochs fully convolutional TRADES_v2     convnext_tiny.fb_in1k                       0.647110   \n",
       "                          fully attention     TRADES_v2     vit_base_patch16_clip_224.laion2b_ft_in1k   0.642220   \n",
       "                          fully convolutional TRADES_v2     convnext_tiny.fb_in22k                      0.612371   \n",
       "                                                            robust_convnext_tiny                        0.719794   \n",
       "                                                            edgenext_small.usi_in1k                     0.495538   \n",
       "...                                                                                                          ...   \n",
       "full_fine_tuning_5epochs  hybrid              CLASSIC_AT    mobilevit-small                             0.000000   \n",
       "linearprobe_50epochs      fully convolutional CLASSIC_AT    edgenext_small.usi_in1k                     0.000000   \n",
       "                                                            efficientnet-b0                             0.000000   \n",
       "                                                            mobilenetv3_large_100.ra_in1k               0.000000   \n",
       "                          hybrid              TRADES_v2     mobilevit-small                             0.000000   \n",
       "\n",
       "dataset                                                                                                            \\\n",
       "metric                                                                                                nan_sum_cnt   \n",
       "ft_strategy               model_type          loss_function backbone                                                \n",
       "full_fine_tuning_50epochs fully convolutional TRADES_v2     convnext_tiny.fb_in1k                               0   \n",
       "                          fully attention     TRADES_v2     vit_base_patch16_clip_224.laion2b_ft_in1k           0   \n",
       "                          fully convolutional TRADES_v2     convnext_tiny.fb_in22k                              0   \n",
       "                                                            robust_convnext_tiny                                0   \n",
       "                                                            edgenext_small.usi_in1k                             0   \n",
       "...                                                                                                           ...   \n",
       "full_fine_tuning_5epochs  hybrid              CLASSIC_AT    mobilevit-small                                     6   \n",
       "linearprobe_50epochs      fully convolutional CLASSIC_AT    edgenext_small.usi_in1k                             6   \n",
       "                                                            efficientnet-b0                                     6   \n",
       "                                                            mobilenetv3_large_100.ra_in1k                       6   \n",
       "                          hybrid              TRADES_v2     mobilevit-small                                     6   \n",
       "\n",
       "dataset                                                                                                             \n",
       "metric                                                                                                nan_geom_cnt  \n",
       "ft_strategy               model_type          loss_function backbone                                                \n",
       "full_fine_tuning_50epochs fully convolutional TRADES_v2     convnext_tiny.fb_in1k                                0  \n",
       "                          fully attention     TRADES_v2     vit_base_patch16_clip_224.laion2b_ft_in1k            0  \n",
       "                          fully convolutional TRADES_v2     convnext_tiny.fb_in22k                               0  \n",
       "                                                            robust_convnext_tiny                                 0  \n",
       "                                                            edgenext_small.usi_in1k                              0  \n",
       "...                                                                                                            ...  \n",
       "full_fine_tuning_5epochs  hybrid              CLASSIC_AT    mobilevit-small                                      6  \n",
       "linearprobe_50epochs      fully convolutional CLASSIC_AT    edgenext_small.usi_in1k                              6  \n",
       "                                                            efficientnet-b0                                      6  \n",
       "                                                            mobilenetv3_large_100.ra_in1k                        6  \n",
       "                          hybrid              TRADES_v2     mobilevit-small                                      6  \n",
       "\n",
       "[240 rows x 52 columns]"
      ]
     },
     "execution_count": 3,
     "metadata": {},
     "output_type": "execute_result"
    }
   ],
   "source": [
    "\n",
    "# --- existing shortcuts ----------------------------------------------------\n",
    "sum_scores  = grouped_df.xs('sum',  level=1, axis=1)     # (rows × 6 datasets)\n",
    "geom_scores = grouped_df.xs('geom', level=1, axis=1)     # (rows × 6 datasets)\n",
    "\n",
    "#--- 1. add the TOTAL aggregates you already computed ----------------------\n",
    "grouped_df[('TOTAL', 'score_sum')]  = sum_scores.sum(axis=1)\n",
    "grouped_df[('TOTAL', 'score_geom')] = geom_scores.sum(axis=1)\n",
    "\n",
    "# --- 2. count NaNs across datasets -----------------------------------------\n",
    "grouped_df[('TOTAL', 'nan_sum_cnt')]  = sum_scores.isna().sum(axis=1)\n",
    "grouped_df[('TOTAL', 'nan_geom_cnt')] = geom_scores.isna().sum(axis=1)\n",
    "\n",
    "# --- 3. rank as before ------------------------------------------------------\n",
    "df_sorted = grouped_df.sort_values(('TOTAL', 'score_sum'), ascending=False)\n",
    "\n",
    "df_sorted"
   ]
  },
  {
   "cell_type": "code",
   "execution_count": 4,
   "metadata": {},
   "outputs": [],
   "source": [
    "# Flatten the columns\n",
    "df_sorted.columns = ['_'.join(col).strip() if isinstance(col, tuple) else col for col in df_sorted.columns]\n",
    "\n",
    "df_reset = df_sorted.reset_index()\n",
    "sub_df = df_reset[[\"ft_strategy\", \"model_type\", \"backbone\", \"loss_function\", \"TOTAL_score_sum\"]]\n",
    "\n",
    "# Now access the columns\n",
    "\n",
    "sub_df.to_csv(\"./global_dataset.csv\")"
   ]
  },
  {
   "cell_type": "code",
   "execution_count": 5,
   "metadata": {},
   "outputs": [
    {
     "name": "stderr",
     "output_type": "stream",
     "text": [
      "/var/folders/v7/3s0lms795672_f7_mh2x6bcr0000gn/T/ipykernel_74754/3436293082.py:17: SettingWithCopyWarning: \n",
      "A value is trying to be set on a copy of a slice from a DataFrame.\n",
      "Try using .loc[row_indexer,col_indexer] = value instead\n",
      "\n",
      "See the caveats in the documentation: https://pandas.pydata.org/pandas-docs/stable/user_guide/indexing.html#returning-a-view-versus-a-copy\n",
      "  sub_df[\"backbone\"] = pd.Categorical(\n"
     ]
    },
    {
     "data": {
      "application/vnd.plotly.v1+json": {
       "config": {
        "plotlyServerURL": "https://plot.ly"
       },
       "data": [
        {
         "customdata": [
          [
           "full_fine_tuning_50epochs",
           "TRADES_v2"
          ],
          [
           "full_fine_tuning_50epochs",
           "TRADES_v2"
          ],
          [
           "full_fine_tuning_50epochs",
           "TRADES_v2"
          ],
          [
           "full_fine_tuning_50epochs",
           "TRADES_v2"
          ],
          [
           "full_fine_tuning_50epochs",
           "TRADES_v2"
          ],
          [
           "full_fine_tuning_50epochs",
           "TRADES_v2"
          ],
          [
           "full_fine_tuning_50epochs",
           "TRADES_v2"
          ],
          [
           "full_fine_tuning_50epochs",
           "TRADES_v2"
          ],
          [
           "full_fine_tuning_50epochs",
           "TRADES_v2"
          ],
          [
           "full_fine_tuning_50epochs",
           "TRADES_v2"
          ],
          [
           "full_fine_tuning_50epochs",
           "TRADES_v2"
          ],
          [
           "full_fine_tuning_50epochs",
           "TRADES_v2"
          ],
          [
           "full_fine_tuning_50epochs",
           "TRADES_v2"
          ],
          [
           "full_fine_tuning_50epochs",
           "TRADES_v2"
          ],
          [
           "full_fine_tuning_50epochs",
           "TRADES_v2"
          ],
          [
           "full_fine_tuning_50epochs",
           "TRADES_v2"
          ],
          [
           "full_fine_tuning_50epochs",
           "TRADES_v2"
          ],
          [
           "full_fine_tuning_50epochs",
           "TRADES_v2"
          ],
          [
           "full_fine_tuning_50epochs",
           "TRADES_v2"
          ],
          [
           "full_fine_tuning_50epochs",
           "TRADES_v2"
          ],
          [
           "full_fine_tuning_50epochs",
           "TRADES_v2"
          ],
          [
           "full_fine_tuning_50epochs",
           "TRADES_v2"
          ],
          [
           "full_fine_tuning_50epochs",
           "TRADES_v2"
          ],
          [
           "full_fine_tuning_50epochs",
           "TRADES_v2"
          ],
          [
           "full_fine_tuning_50epochs",
           "TRADES_v2"
          ],
          [
           "full_fine_tuning_50epochs",
           "TRADES_v2"
          ],
          [
           "full_fine_tuning_50epochs",
           "TRADES_v2"
          ],
          [
           "full_fine_tuning_50epochs",
           "TRADES_v2"
          ],
          [
           "full_fine_tuning_50epochs",
           "TRADES_v2"
          ],
          [
           "full_fine_tuning_50epochs",
           "TRADES_v2"
          ],
          [
           "full_fine_tuning_50epochs",
           "TRADES_v2"
          ],
          [
           "full_fine_tuning_50epochs",
           "TRADES_v2"
          ],
          [
           "full_fine_tuning_50epochs",
           "TRADES_v2"
          ],
          [
           "full_fine_tuning_50epochs",
           "TRADES_v2"
          ],
          [
           "full_fine_tuning_50epochs",
           "TRADES_v2"
          ],
          [
           "full_fine_tuning_50epochs",
           "TRADES_v2"
          ],
          [
           "full_fine_tuning_50epochs",
           "TRADES_v2"
          ],
          [
           "full_fine_tuning_50epochs",
           "TRADES_v2"
          ],
          [
           "full_fine_tuning_50epochs",
           "TRADES_v2"
          ],
          [
           "full_fine_tuning_50epochs",
           "TRADES_v2"
          ]
         ],
         "hovertemplate": "ft_strategy=%{customdata[0]}<br>loss_function=%{customdata[1]}<br>backbone=%{x}<br>TOTAL_score_sum=%{y}<extra></extra>",
         "legendgroup": "full_fine_tuning_50epochs, TRADES_v2",
         "marker": {
          "color": "#E69F00",
          "symbol": "star"
         },
         "mode": "markers",
         "name": "full_fine_tuning_50epochs, TRADES_v2",
         "orientation": "v",
         "showlegend": true,
         "type": "scatter",
         "x": [
          "convnext_tiny.fb_in1k",
          "vit_base_patch16_clip_224.laion2b_ft_in1k",
          "convnext_tiny.fb_in22k",
          "robust_convnext_tiny",
          "edgenext_small.usi_in1k",
          "convnext_tiny.fb_in22k_ft_in1k",
          "swin_base_patch4_window7_224.ms_in22k_ft_in1k",
          "eva02_base_patch14_224.mim_in22k",
          "robust_deit_small_patch16_224",
          "vit_base_patch16_clip_224.laion2b",
          "vit_base_patch16_224.augreg_in1k",
          "robust_convnext_base",
          "convnext_base.fb_in22k",
          "CLIP-convnext_base_w-laion_aesthetic-s13B-b82K",
          "deit_tiny_patch16_224.fb_in1k",
          "vit_base_patch16_224.mae",
          "convnext_base.clip_laion2b_augreg_ft_in12k_in1k",
          "robust_resnet50",
          "swin_tiny_patch4_window7_224.ms_in1k",
          "CLIP-convnext_base_w-laion2B-s13B-b82K",
          "robust_vit_base_patch16_224",
          "vit_small_patch16_224.augreg_in1k",
          "regnetx_004.pycls_in1k",
          "resnet50.a1_in1k",
          "mobilenetv3_large_100.ra_in1k",
          "convnext_base.fb_in22k_ft_in1k",
          "eva02_tiny_patch14_224.mim_in22k",
          "vit_small_patch16_224.augreg_in21k",
          "coatnet_0_rw_224.sw_in1k",
          "vit_base_patch16_224.augreg_in21k",
          "vit_small_patch16_224.augreg_in21k_ft_in1k",
          "deit_small_patch16_224.fb_in1k",
          "vit_base_patch16_224.augreg_in21k_ft_in1k",
          "convnext_base.fb_in1k",
          "vit_small_patch16_224.dino",
          "coatnet_2_rw_224.sw_in12k_ft_in1k",
          "coatnet_2_rw_224.sw_in12k",
          "coat_tiny.in1k",
          "efficientnet-b0",
          "mobilevit-small"
         ],
         "xaxis": "x",
         "y": [
          15.604809523809525,
          15.24073015873016,
          15.066190476190478,
          14.712079365079365,
          14.662857142857144,
          14.460301587301588,
          13.765238095238095,
          13.23652380952381,
          13.210857142857144,
          12.831396825396824,
          12.497777777777777,
          12.239301587301588,
          11.574301587301587,
          11.511555555555557,
          11.266238095238098,
          10.922761904761904,
          10.42020634920635,
          9.827396825396825,
          9.684000000000001,
          9.477968253968253,
          9.284619047619048,
          9.144730158730159,
          9.000444444444444,
          8.874571428571429,
          8.869428571428571,
          8.831396825396826,
          8.368904761904762,
          8.256285714285713,
          7.651666666666666,
          7.595000000000001,
          7.006333333333333,
          6.858126984126985,
          6.80604761904762,
          6.619428571428571,
          5.332063492063492,
          4.345238095238095,
          4.2214285714285715,
          3.573015873015873,
          3.465190476190476,
          3.295666666666667
         ],
         "yaxis": "y"
        },
        {
         "customdata": [
          [
           "full_fine_tuning_50epochs",
           "CLASSIC_AT"
          ],
          [
           "full_fine_tuning_50epochs",
           "CLASSIC_AT"
          ],
          [
           "full_fine_tuning_50epochs",
           "CLASSIC_AT"
          ],
          [
           "full_fine_tuning_50epochs",
           "CLASSIC_AT"
          ],
          [
           "full_fine_tuning_50epochs",
           "CLASSIC_AT"
          ],
          [
           "full_fine_tuning_50epochs",
           "CLASSIC_AT"
          ],
          [
           "full_fine_tuning_50epochs",
           "CLASSIC_AT"
          ],
          [
           "full_fine_tuning_50epochs",
           "CLASSIC_AT"
          ],
          [
           "full_fine_tuning_50epochs",
           "CLASSIC_AT"
          ],
          [
           "full_fine_tuning_50epochs",
           "CLASSIC_AT"
          ],
          [
           "full_fine_tuning_50epochs",
           "CLASSIC_AT"
          ],
          [
           "full_fine_tuning_50epochs",
           "CLASSIC_AT"
          ],
          [
           "full_fine_tuning_50epochs",
           "CLASSIC_AT"
          ],
          [
           "full_fine_tuning_50epochs",
           "CLASSIC_AT"
          ],
          [
           "full_fine_tuning_50epochs",
           "CLASSIC_AT"
          ],
          [
           "full_fine_tuning_50epochs",
           "CLASSIC_AT"
          ],
          [
           "full_fine_tuning_50epochs",
           "CLASSIC_AT"
          ],
          [
           "full_fine_tuning_50epochs",
           "CLASSIC_AT"
          ],
          [
           "full_fine_tuning_50epochs",
           "CLASSIC_AT"
          ],
          [
           "full_fine_tuning_50epochs",
           "CLASSIC_AT"
          ],
          [
           "full_fine_tuning_50epochs",
           "CLASSIC_AT"
          ],
          [
           "full_fine_tuning_50epochs",
           "CLASSIC_AT"
          ],
          [
           "full_fine_tuning_50epochs",
           "CLASSIC_AT"
          ],
          [
           "full_fine_tuning_50epochs",
           "CLASSIC_AT"
          ],
          [
           "full_fine_tuning_50epochs",
           "CLASSIC_AT"
          ],
          [
           "full_fine_tuning_50epochs",
           "CLASSIC_AT"
          ],
          [
           "full_fine_tuning_50epochs",
           "CLASSIC_AT"
          ],
          [
           "full_fine_tuning_50epochs",
           "CLASSIC_AT"
          ],
          [
           "full_fine_tuning_50epochs",
           "CLASSIC_AT"
          ],
          [
           "full_fine_tuning_50epochs",
           "CLASSIC_AT"
          ],
          [
           "full_fine_tuning_50epochs",
           "CLASSIC_AT"
          ],
          [
           "full_fine_tuning_50epochs",
           "CLASSIC_AT"
          ],
          [
           "full_fine_tuning_50epochs",
           "CLASSIC_AT"
          ],
          [
           "full_fine_tuning_50epochs",
           "CLASSIC_AT"
          ],
          [
           "full_fine_tuning_50epochs",
           "CLASSIC_AT"
          ],
          [
           "full_fine_tuning_50epochs",
           "CLASSIC_AT"
          ],
          [
           "full_fine_tuning_50epochs",
           "CLASSIC_AT"
          ],
          [
           "full_fine_tuning_50epochs",
           "CLASSIC_AT"
          ],
          [
           "full_fine_tuning_50epochs",
           "CLASSIC_AT"
          ],
          [
           "full_fine_tuning_50epochs",
           "CLASSIC_AT"
          ]
         ],
         "hovertemplate": "ft_strategy=%{customdata[0]}<br>loss_function=%{customdata[1]}<br>backbone=%{x}<br>TOTAL_score_sum=%{y}<extra></extra>",
         "legendgroup": "full_fine_tuning_50epochs, CLASSIC_AT",
         "marker": {
          "color": "#E69F00",
          "symbol": "square"
         },
         "mode": "markers",
         "name": "full_fine_tuning_50epochs, CLASSIC_AT",
         "orientation": "v",
         "showlegend": true,
         "type": "scatter",
         "x": [
          "convnext_tiny.fb_in1k",
          "swin_base_patch4_window7_224.ms_in22k_ft_in1k",
          "robust_resnet50",
          "vit_base_patch16_224.augreg_in1k",
          "CLIP-convnext_base_w-laion2B-s13B-b82K",
          "regnetx_004.pycls_in1k",
          "vit_base_patch16_224.mae",
          "swin_tiny_patch4_window7_224.ms_in1k",
          "robust_convnext_base",
          "convnext_tiny.fb_in22k_ft_in1k",
          "edgenext_small.usi_in1k",
          "convnext_base.fb_in22k_ft_in1k",
          "mobilenetv3_large_100.ra_in1k",
          "vit_base_patch16_224.augreg_in21k",
          "vit_base_patch16_clip_224.laion2b",
          "convnext_tiny.fb_in22k",
          "deit_small_patch16_224.fb_in1k",
          "resnet50.a1_in1k",
          "convnext_base.fb_in22k",
          "robust_vit_base_patch16_224",
          "deit_tiny_patch16_224.fb_in1k",
          "vit_base_patch16_224.augreg_in21k_ft_in1k",
          "convnext_base.fb_in1k",
          "robust_deit_small_patch16_224",
          "robust_convnext_tiny",
          "vit_small_patch16_224.dino",
          "CLIP-convnext_base_w-laion_aesthetic-s13B-b82K",
          "vit_small_patch16_224.augreg_in21k",
          "coatnet_0_rw_224.sw_in1k",
          "eva02_base_patch14_224.mim_in22k",
          "vit_base_patch16_clip_224.laion2b_ft_in1k",
          "coatnet_2_rw_224.sw_in12k_ft_in1k",
          "eva02_tiny_patch14_224.mim_in22k",
          "vit_small_patch16_224.augreg_in21k_ft_in1k",
          "mobilevit-small",
          "coatnet_2_rw_224.sw_in12k",
          "efficientnet-b0",
          "vit_small_patch16_224.augreg_in1k",
          "convnext_base.clip_laion2b_augreg_ft_in12k_in1k",
          "coat_tiny.in1k"
         ],
         "xaxis": "x",
         "y": [
          14.190666666666667,
          12.544365079365079,
          11.786952380952382,
          11.306857142857144,
          11.303238095238097,
          10.845761904761906,
          10.652857142857142,
          10.30595238095238,
          9.427698412698412,
          8.96915873015873,
          8.825714285714287,
          8.816015873015873,
          8.747539682539681,
          8.744079365079365,
          8.554015873015873,
          8.500999999999998,
          8.404936507936508,
          7.891190476190476,
          7.811888888888888,
          7.738222222222221,
          7.61152380952381,
          7.513095238095238,
          7.086190476190476,
          6.947269841269841,
          6.844333333333334,
          6.640190476190476,
          6.53995238095238,
          6.341619047619048,
          6.2540000000000004,
          6.052380952380952,
          5.8201269841269845,
          5.698333333333333,
          5.497158730158731,
          4.962000000000001,
          4.924285714285714,
          4.166142857142857,
          3.9464285714285716,
          2.7429047619047617,
          1.615,
          1.5930952380952381
         ],
         "yaxis": "y"
        },
        {
         "customdata": [
          [
           "linearprobe_50epochs",
           "TRADES_v2"
          ],
          [
           "linearprobe_50epochs",
           "TRADES_v2"
          ],
          [
           "linearprobe_50epochs",
           "TRADES_v2"
          ],
          [
           "linearprobe_50epochs",
           "TRADES_v2"
          ],
          [
           "linearprobe_50epochs",
           "TRADES_v2"
          ],
          [
           "linearprobe_50epochs",
           "TRADES_v2"
          ],
          [
           "linearprobe_50epochs",
           "TRADES_v2"
          ],
          [
           "linearprobe_50epochs",
           "TRADES_v2"
          ],
          [
           "linearprobe_50epochs",
           "TRADES_v2"
          ],
          [
           "linearprobe_50epochs",
           "TRADES_v2"
          ],
          [
           "linearprobe_50epochs",
           "TRADES_v2"
          ],
          [
           "linearprobe_50epochs",
           "TRADES_v2"
          ],
          [
           "linearprobe_50epochs",
           "TRADES_v2"
          ],
          [
           "linearprobe_50epochs",
           "TRADES_v2"
          ],
          [
           "linearprobe_50epochs",
           "TRADES_v2"
          ],
          [
           "linearprobe_50epochs",
           "TRADES_v2"
          ],
          [
           "linearprobe_50epochs",
           "TRADES_v2"
          ],
          [
           "linearprobe_50epochs",
           "TRADES_v2"
          ],
          [
           "linearprobe_50epochs",
           "TRADES_v2"
          ],
          [
           "linearprobe_50epochs",
           "TRADES_v2"
          ],
          [
           "linearprobe_50epochs",
           "TRADES_v2"
          ],
          [
           "linearprobe_50epochs",
           "TRADES_v2"
          ],
          [
           "linearprobe_50epochs",
           "TRADES_v2"
          ],
          [
           "linearprobe_50epochs",
           "TRADES_v2"
          ],
          [
           "linearprobe_50epochs",
           "TRADES_v2"
          ],
          [
           "linearprobe_50epochs",
           "TRADES_v2"
          ],
          [
           "linearprobe_50epochs",
           "TRADES_v2"
          ],
          [
           "linearprobe_50epochs",
           "TRADES_v2"
          ],
          [
           "linearprobe_50epochs",
           "TRADES_v2"
          ],
          [
           "linearprobe_50epochs",
           "TRADES_v2"
          ],
          [
           "linearprobe_50epochs",
           "TRADES_v2"
          ],
          [
           "linearprobe_50epochs",
           "TRADES_v2"
          ],
          [
           "linearprobe_50epochs",
           "TRADES_v2"
          ],
          [
           "linearprobe_50epochs",
           "TRADES_v2"
          ],
          [
           "linearprobe_50epochs",
           "TRADES_v2"
          ],
          [
           "linearprobe_50epochs",
           "TRADES_v2"
          ],
          [
           "linearprobe_50epochs",
           "TRADES_v2"
          ],
          [
           "linearprobe_50epochs",
           "TRADES_v2"
          ],
          [
           "linearprobe_50epochs",
           "TRADES_v2"
          ],
          [
           "linearprobe_50epochs",
           "TRADES_v2"
          ]
         ],
         "hovertemplate": "ft_strategy=%{customdata[0]}<br>loss_function=%{customdata[1]}<br>backbone=%{x}<br>TOTAL_score_sum=%{y}<extra></extra>",
         "legendgroup": "linearprobe_50epochs, TRADES_v2",
         "marker": {
          "color": "#009E73",
          "symbol": "star"
         },
         "mode": "markers",
         "name": "linearprobe_50epochs, TRADES_v2",
         "orientation": "v",
         "showlegend": true,
         "type": "scatter",
         "x": [
          "eva02_base_patch14_224.mim_in22k",
          "swin_base_patch4_window7_224.ms_in22k_ft_in1k",
          "convnext_base.fb_in22k_ft_in1k",
          "CLIP-convnext_base_w-laion2B-s13B-b82K",
          "robust_convnext_tiny",
          "CLIP-convnext_base_w-laion_aesthetic-s13B-b82K",
          "convnext_base.fb_in22k",
          "robust_deit_small_patch16_224",
          "vit_base_patch16_clip_224.laion2b_ft_in1k",
          "convnext_tiny.fb_in22k",
          "convnext_base.clip_laion2b_augreg_ft_in12k_in1k",
          "swin_tiny_patch4_window7_224.ms_in1k",
          "convnext_base.fb_in1k",
          "vit_base_patch16_clip_224.laion2b",
          "robust_resnet50",
          "convnext_tiny.fb_in1k",
          "vit_base_patch16_224.augreg_in1k",
          "convnext_tiny.fb_in22k_ft_in1k",
          "robust_convnext_base",
          "vit_small_patch16_224.augreg_in21k_ft_in1k",
          "resnet50.a1_in1k",
          "deit_small_patch16_224.fb_in1k",
          "vit_small_patch16_224.augreg_in21k",
          "vit_small_patch16_224.augreg_in1k",
          "vit_base_patch16_224.augreg_in21k_ft_in1k",
          "robust_vit_base_patch16_224",
          "eva02_tiny_patch14_224.mim_in22k",
          "vit_base_patch16_224.augreg_in21k",
          "vit_base_patch16_224.mae",
          "vit_small_patch16_224.dino",
          "coatnet_0_rw_224.sw_in1k",
          "coatnet_2_rw_224.sw_in12k_ft_in1k",
          "coatnet_2_rw_224.sw_in12k",
          "edgenext_small.usi_in1k",
          "coat_tiny.in1k",
          "efficientnet-b0",
          "mobilenetv3_large_100.ra_in1k",
          "regnetx_004.pycls_in1k",
          "deit_tiny_patch16_224.fb_in1k",
          "mobilevit-small"
         ],
         "xaxis": "x",
         "y": [
          8.113412698412699,
          8.003857142857143,
          7.923714285714286,
          7.543333333333333,
          7.435,
          7.351238095238096,
          7.0374285714285705,
          6.966619047619048,
          6.9355714285714285,
          6.786412698412698,
          6.589539682539682,
          5.821698412698413,
          5.598190476190476,
          5.4670000000000005,
          4.983190476190476,
          4.372285714285715,
          4.339666666666666,
          3.740952380952381,
          3.3896190476190475,
          3.2846190476190475,
          3.0761904761904764,
          2.9653968253968253,
          2.792761904761905,
          2.360809523809524,
          1.9507777777777777,
          1.7374285714285713,
          1.386793650793651,
          1.039031746031746,
          0.8672857142857143,
          0.5582539682539682,
          0,
          0,
          0,
          0,
          0,
          0,
          0,
          0,
          0,
          0
         ],
         "yaxis": "y"
        },
        {
         "customdata": [
          [
           "linearprobe_50epochs",
           "CLASSIC_AT"
          ],
          [
           "linearprobe_50epochs",
           "CLASSIC_AT"
          ],
          [
           "linearprobe_50epochs",
           "CLASSIC_AT"
          ],
          [
           "linearprobe_50epochs",
           "CLASSIC_AT"
          ],
          [
           "linearprobe_50epochs",
           "CLASSIC_AT"
          ],
          [
           "linearprobe_50epochs",
           "CLASSIC_AT"
          ],
          [
           "linearprobe_50epochs",
           "CLASSIC_AT"
          ],
          [
           "linearprobe_50epochs",
           "CLASSIC_AT"
          ],
          [
           "linearprobe_50epochs",
           "CLASSIC_AT"
          ],
          [
           "linearprobe_50epochs",
           "CLASSIC_AT"
          ],
          [
           "linearprobe_50epochs",
           "CLASSIC_AT"
          ],
          [
           "linearprobe_50epochs",
           "CLASSIC_AT"
          ],
          [
           "linearprobe_50epochs",
           "CLASSIC_AT"
          ],
          [
           "linearprobe_50epochs",
           "CLASSIC_AT"
          ],
          [
           "linearprobe_50epochs",
           "CLASSIC_AT"
          ],
          [
           "linearprobe_50epochs",
           "CLASSIC_AT"
          ],
          [
           "linearprobe_50epochs",
           "CLASSIC_AT"
          ],
          [
           "linearprobe_50epochs",
           "CLASSIC_AT"
          ],
          [
           "linearprobe_50epochs",
           "CLASSIC_AT"
          ],
          [
           "linearprobe_50epochs",
           "CLASSIC_AT"
          ],
          [
           "linearprobe_50epochs",
           "CLASSIC_AT"
          ],
          [
           "linearprobe_50epochs",
           "CLASSIC_AT"
          ],
          [
           "linearprobe_50epochs",
           "CLASSIC_AT"
          ],
          [
           "linearprobe_50epochs",
           "CLASSIC_AT"
          ],
          [
           "linearprobe_50epochs",
           "CLASSIC_AT"
          ],
          [
           "linearprobe_50epochs",
           "CLASSIC_AT"
          ],
          [
           "linearprobe_50epochs",
           "CLASSIC_AT"
          ],
          [
           "linearprobe_50epochs",
           "CLASSIC_AT"
          ],
          [
           "linearprobe_50epochs",
           "CLASSIC_AT"
          ],
          [
           "linearprobe_50epochs",
           "CLASSIC_AT"
          ],
          [
           "linearprobe_50epochs",
           "CLASSIC_AT"
          ],
          [
           "linearprobe_50epochs",
           "CLASSIC_AT"
          ],
          [
           "linearprobe_50epochs",
           "CLASSIC_AT"
          ],
          [
           "linearprobe_50epochs",
           "CLASSIC_AT"
          ],
          [
           "linearprobe_50epochs",
           "CLASSIC_AT"
          ],
          [
           "linearprobe_50epochs",
           "CLASSIC_AT"
          ],
          [
           "linearprobe_50epochs",
           "CLASSIC_AT"
          ],
          [
           "linearprobe_50epochs",
           "CLASSIC_AT"
          ],
          [
           "linearprobe_50epochs",
           "CLASSIC_AT"
          ],
          [
           "linearprobe_50epochs",
           "CLASSIC_AT"
          ]
         ],
         "hovertemplate": "ft_strategy=%{customdata[0]}<br>loss_function=%{customdata[1]}<br>backbone=%{x}<br>TOTAL_score_sum=%{y}<extra></extra>",
         "legendgroup": "linearprobe_50epochs, CLASSIC_AT",
         "marker": {
          "color": "#009E73",
          "symbol": "square"
         },
         "mode": "markers",
         "name": "linearprobe_50epochs, CLASSIC_AT",
         "orientation": "v",
         "showlegend": true,
         "type": "scatter",
         "x": [
          "robust_deit_small_patch16_224",
          "swin_base_patch4_window7_224.ms_in22k_ft_in1k",
          "robust_convnext_tiny",
          "robust_resnet50",
          "convnext_base.fb_in22k",
          "vit_base_patch16_clip_224.laion2b_ft_in1k",
          "convnext_base.clip_laion2b_augreg_ft_in12k_in1k",
          "eva02_base_patch14_224.mim_in22k",
          "convnext_base.fb_in22k_ft_in1k",
          "CLIP-convnext_base_w-laion2B-s13B-b82K",
          "vit_base_patch16_clip_224.laion2b",
          "vit_base_patch16_224.augreg_in21k_ft_in1k",
          "resnet50.a1_in1k",
          "convnext_tiny.fb_in22k_ft_in1k",
          "swin_tiny_patch4_window7_224.ms_in1k",
          "vit_small_patch16_224.augreg_in21k",
          "vit_base_patch16_224.augreg_in21k",
          "convnext_base.fb_in1k",
          "CLIP-convnext_base_w-laion_aesthetic-s13B-b82K",
          "robust_convnext_base",
          "vit_base_patch16_224.augreg_in1k",
          "vit_small_patch16_224.augreg_in21k_ft_in1k",
          "vit_small_patch16_224.dino",
          "vit_small_patch16_224.augreg_in1k",
          "convnext_tiny.fb_in1k",
          "convnext_tiny.fb_in22k",
          "deit_small_patch16_224.fb_in1k",
          "robust_vit_base_patch16_224",
          "eva02_tiny_patch14_224.mim_in22k",
          "vit_base_patch16_224.mae",
          "coatnet_0_rw_224.sw_in1k",
          "coat_tiny.in1k",
          "mobilevit-small",
          "coatnet_2_rw_224.sw_in12k",
          "coatnet_2_rw_224.sw_in12k_ft_in1k",
          "deit_tiny_patch16_224.fb_in1k",
          "regnetx_004.pycls_in1k",
          "edgenext_small.usi_in1k",
          "efficientnet-b0",
          "mobilenetv3_large_100.ra_in1k"
         ],
         "xaxis": "x",
         "y": [
          9.132142857142856,
          6.436619047619048,
          6.309174603174602,
          6.186666666666667,
          5.7843809523809515,
          5.730476190476191,
          5.440095238095238,
          5.160714285714286,
          4.620285714285714,
          3.9569047619047617,
          3.844190476190476,
          3.658650793650794,
          3.469952380952381,
          3.261,
          3.2461269841269837,
          3.205714285714286,
          3.0946666666666665,
          2.8666349206349206,
          2.8577460317460317,
          2.8145555555555557,
          2.804,
          2.748936507936508,
          2.6437460317460317,
          2.048047619047619,
          1.9296666666666666,
          1.920301587301587,
          1.7058095238095237,
          1.4494285714285717,
          1.3176031746031747,
          0.6882380952380953,
          0,
          0,
          0,
          0,
          0,
          0,
          0,
          0,
          0,
          0
         ],
         "yaxis": "y"
        },
        {
         "customdata": [
          [
           "full_fine_tuning_5epochs",
           "TRADES_v2"
          ],
          [
           "full_fine_tuning_5epochs",
           "TRADES_v2"
          ],
          [
           "full_fine_tuning_5epochs",
           "TRADES_v2"
          ],
          [
           "full_fine_tuning_5epochs",
           "TRADES_v2"
          ],
          [
           "full_fine_tuning_5epochs",
           "TRADES_v2"
          ],
          [
           "full_fine_tuning_5epochs",
           "TRADES_v2"
          ],
          [
           "full_fine_tuning_5epochs",
           "TRADES_v2"
          ],
          [
           "full_fine_tuning_5epochs",
           "TRADES_v2"
          ],
          [
           "full_fine_tuning_5epochs",
           "TRADES_v2"
          ],
          [
           "full_fine_tuning_5epochs",
           "TRADES_v2"
          ],
          [
           "full_fine_tuning_5epochs",
           "TRADES_v2"
          ],
          [
           "full_fine_tuning_5epochs",
           "TRADES_v2"
          ],
          [
           "full_fine_tuning_5epochs",
           "TRADES_v2"
          ],
          [
           "full_fine_tuning_5epochs",
           "TRADES_v2"
          ],
          [
           "full_fine_tuning_5epochs",
           "TRADES_v2"
          ],
          [
           "full_fine_tuning_5epochs",
           "TRADES_v2"
          ],
          [
           "full_fine_tuning_5epochs",
           "TRADES_v2"
          ],
          [
           "full_fine_tuning_5epochs",
           "TRADES_v2"
          ],
          [
           "full_fine_tuning_5epochs",
           "TRADES_v2"
          ],
          [
           "full_fine_tuning_5epochs",
           "TRADES_v2"
          ],
          [
           "full_fine_tuning_5epochs",
           "TRADES_v2"
          ],
          [
           "full_fine_tuning_5epochs",
           "TRADES_v2"
          ],
          [
           "full_fine_tuning_5epochs",
           "TRADES_v2"
          ],
          [
           "full_fine_tuning_5epochs",
           "TRADES_v2"
          ],
          [
           "full_fine_tuning_5epochs",
           "TRADES_v2"
          ],
          [
           "full_fine_tuning_5epochs",
           "TRADES_v2"
          ],
          [
           "full_fine_tuning_5epochs",
           "TRADES_v2"
          ],
          [
           "full_fine_tuning_5epochs",
           "TRADES_v2"
          ],
          [
           "full_fine_tuning_5epochs",
           "TRADES_v2"
          ],
          [
           "full_fine_tuning_5epochs",
           "TRADES_v2"
          ],
          [
           "full_fine_tuning_5epochs",
           "TRADES_v2"
          ],
          [
           "full_fine_tuning_5epochs",
           "TRADES_v2"
          ],
          [
           "full_fine_tuning_5epochs",
           "TRADES_v2"
          ],
          [
           "full_fine_tuning_5epochs",
           "TRADES_v2"
          ],
          [
           "full_fine_tuning_5epochs",
           "TRADES_v2"
          ],
          [
           "full_fine_tuning_5epochs",
           "TRADES_v2"
          ],
          [
           "full_fine_tuning_5epochs",
           "TRADES_v2"
          ],
          [
           "full_fine_tuning_5epochs",
           "TRADES_v2"
          ],
          [
           "full_fine_tuning_5epochs",
           "TRADES_v2"
          ],
          [
           "full_fine_tuning_5epochs",
           "TRADES_v2"
          ]
         ],
         "hovertemplate": "ft_strategy=%{customdata[0]}<br>loss_function=%{customdata[1]}<br>backbone=%{x}<br>TOTAL_score_sum=%{y}<extra></extra>",
         "legendgroup": "full_fine_tuning_5epochs, TRADES_v2",
         "marker": {
          "color": "#56B4E9",
          "symbol": "star"
         },
         "mode": "markers",
         "name": "full_fine_tuning_5epochs, TRADES_v2",
         "orientation": "v",
         "showlegend": true,
         "type": "scatter",
         "x": [
          "swin_base_patch4_window7_224.ms_in22k_ft_in1k",
          "convnext_base.fb_in1k",
          "robust_convnext_tiny",
          "convnext_base.fb_in22k",
          "eva02_base_patch14_224.mim_in22k",
          "swin_tiny_patch4_window7_224.ms_in1k",
          "convnext_tiny.fb_in1k",
          "deit_small_patch16_224.fb_in1k",
          "vit_base_patch16_clip_224.laion2b",
          "CLIP-convnext_base_w-laion2B-s13B-b82K",
          "robust_resnet50",
          "CLIP-convnext_base_w-laion_aesthetic-s13B-b82K",
          "vit_base_patch16_224.augreg_in1k",
          "convnext_base.fb_in22k_ft_in1k",
          "robust_convnext_base",
          "resnet50.a1_in1k",
          "robust_vit_base_patch16_224",
          "vit_small_patch16_224.augreg_in21k",
          "vit_small_patch16_224.augreg_in1k",
          "coatnet_0_rw_224.sw_in1k",
          "vit_base_patch16_clip_224.laion2b_ft_in1k",
          "convnext_base.clip_laion2b_augreg_ft_in12k_in1k",
          "eva02_tiny_patch14_224.mim_in22k",
          "robust_deit_small_patch16_224",
          "coatnet_2_rw_224.sw_in12k",
          "convnext_tiny.fb_in22k",
          "vit_small_patch16_224.augreg_in21k_ft_in1k",
          "convnext_tiny.fb_in22k_ft_in1k",
          "vit_base_patch16_224.augreg_in21k",
          "coatnet_2_rw_224.sw_in12k_ft_in1k",
          "vit_base_patch16_224.mae",
          "vit_base_patch16_224.augreg_in21k_ft_in1k",
          "vit_small_patch16_224.dino",
          "coat_tiny.in1k",
          "deit_tiny_patch16_224.fb_in1k",
          "mobilevit-small",
          "regnetx_004.pycls_in1k",
          "mobilenetv3_large_100.ra_in1k",
          "efficientnet-b0",
          "edgenext_small.usi_in1k"
         ],
         "xaxis": "x",
         "y": [
          7.26968253968254,
          6.424079365079366,
          6.071904761904762,
          5.775333333333333,
          5.7492857142857146,
          5.6828095238095235,
          5.52152380952381,
          5.391761904761903,
          4.762714285714286,
          4.634952380952382,
          4.334523809523809,
          4.238666666666667,
          4.174904761904761,
          4.142571428571428,
          3.354571428571429,
          3.2590000000000003,
          2.857142857142857,
          2.750571428571429,
          2.3343650793650794,
          2.331,
          2.3142698412698413,
          1.9308095238095238,
          1.2602380952380952,
          1.2424285714285714,
          1.193,
          1.1317619047619047,
          0.9217301587301587,
          0.9026190476190475,
          0.8961428571428571,
          0.6993015873015873,
          0.6669047619047619,
          0.5341904761904762,
          0.35160317460317464,
          0,
          0,
          0,
          0,
          0,
          0,
          0
         ],
         "yaxis": "y"
        },
        {
         "customdata": [
          [
           "full_fine_tuning_5epochs",
           "CLASSIC_AT"
          ],
          [
           "full_fine_tuning_5epochs",
           "CLASSIC_AT"
          ],
          [
           "full_fine_tuning_5epochs",
           "CLASSIC_AT"
          ],
          [
           "full_fine_tuning_5epochs",
           "CLASSIC_AT"
          ],
          [
           "full_fine_tuning_5epochs",
           "CLASSIC_AT"
          ],
          [
           "full_fine_tuning_5epochs",
           "CLASSIC_AT"
          ],
          [
           "full_fine_tuning_5epochs",
           "CLASSIC_AT"
          ],
          [
           "full_fine_tuning_5epochs",
           "CLASSIC_AT"
          ],
          [
           "full_fine_tuning_5epochs",
           "CLASSIC_AT"
          ],
          [
           "full_fine_tuning_5epochs",
           "CLASSIC_AT"
          ],
          [
           "full_fine_tuning_5epochs",
           "CLASSIC_AT"
          ],
          [
           "full_fine_tuning_5epochs",
           "CLASSIC_AT"
          ],
          [
           "full_fine_tuning_5epochs",
           "CLASSIC_AT"
          ],
          [
           "full_fine_tuning_5epochs",
           "CLASSIC_AT"
          ],
          [
           "full_fine_tuning_5epochs",
           "CLASSIC_AT"
          ],
          [
           "full_fine_tuning_5epochs",
           "CLASSIC_AT"
          ],
          [
           "full_fine_tuning_5epochs",
           "CLASSIC_AT"
          ],
          [
           "full_fine_tuning_5epochs",
           "CLASSIC_AT"
          ],
          [
           "full_fine_tuning_5epochs",
           "CLASSIC_AT"
          ],
          [
           "full_fine_tuning_5epochs",
           "CLASSIC_AT"
          ],
          [
           "full_fine_tuning_5epochs",
           "CLASSIC_AT"
          ],
          [
           "full_fine_tuning_5epochs",
           "CLASSIC_AT"
          ],
          [
           "full_fine_tuning_5epochs",
           "CLASSIC_AT"
          ],
          [
           "full_fine_tuning_5epochs",
           "CLASSIC_AT"
          ],
          [
           "full_fine_tuning_5epochs",
           "CLASSIC_AT"
          ],
          [
           "full_fine_tuning_5epochs",
           "CLASSIC_AT"
          ],
          [
           "full_fine_tuning_5epochs",
           "CLASSIC_AT"
          ],
          [
           "full_fine_tuning_5epochs",
           "CLASSIC_AT"
          ],
          [
           "full_fine_tuning_5epochs",
           "CLASSIC_AT"
          ],
          [
           "full_fine_tuning_5epochs",
           "CLASSIC_AT"
          ],
          [
           "full_fine_tuning_5epochs",
           "CLASSIC_AT"
          ],
          [
           "full_fine_tuning_5epochs",
           "CLASSIC_AT"
          ],
          [
           "full_fine_tuning_5epochs",
           "CLASSIC_AT"
          ],
          [
           "full_fine_tuning_5epochs",
           "CLASSIC_AT"
          ],
          [
           "full_fine_tuning_5epochs",
           "CLASSIC_AT"
          ],
          [
           "full_fine_tuning_5epochs",
           "CLASSIC_AT"
          ],
          [
           "full_fine_tuning_5epochs",
           "CLASSIC_AT"
          ],
          [
           "full_fine_tuning_5epochs",
           "CLASSIC_AT"
          ],
          [
           "full_fine_tuning_5epochs",
           "CLASSIC_AT"
          ],
          [
           "full_fine_tuning_5epochs",
           "CLASSIC_AT"
          ]
         ],
         "hovertemplate": "ft_strategy=%{customdata[0]}<br>loss_function=%{customdata[1]}<br>backbone=%{x}<br>TOTAL_score_sum=%{y}<extra></extra>",
         "legendgroup": "full_fine_tuning_5epochs, CLASSIC_AT",
         "marker": {
          "color": "#56B4E9",
          "symbol": "square"
         },
         "mode": "markers",
         "name": "full_fine_tuning_5epochs, CLASSIC_AT",
         "orientation": "v",
         "showlegend": true,
         "type": "scatter",
         "x": [
          "robust_convnext_tiny",
          "robust_resnet50",
          "swin_base_patch4_window7_224.ms_in22k_ft_in1k",
          "deit_small_patch16_224.fb_in1k",
          "robust_deit_small_patch16_224",
          "convnext_tiny.fb_in22k_ft_in1k",
          "vit_base_patch16_224.augreg_in1k",
          "convnext_base.fb_in1k",
          "vit_base_patch16_clip_224.laion2b_ft_in1k",
          "convnext_base.fb_in22k",
          "vit_base_patch16_224.augreg_in21k_ft_in1k",
          "eva02_base_patch14_224.mim_in22k",
          "resnet50.a1_in1k",
          "vit_base_patch16_224.mae",
          "vit_small_patch16_224.augreg_in1k",
          "vit_small_patch16_224.augreg_in21k",
          "eva02_tiny_patch14_224.mim_in22k",
          "robust_vit_base_patch16_224",
          "vit_small_patch16_224.augreg_in21k_ft_in1k",
          "convnext_tiny.fb_in22k",
          "vit_small_patch16_224.dino",
          "convnext_tiny.fb_in1k",
          "robust_convnext_base",
          "CLIP-convnext_base_w-laion2B-s13B-b82K",
          "coatnet_2_rw_224.sw_in12k_ft_in1k",
          "vit_base_patch16_224.augreg_in21k",
          "convnext_base.fb_in22k_ft_in1k",
          "CLIP-convnext_base_w-laion_aesthetic-s13B-b82K",
          "coatnet_0_rw_224.sw_in1k",
          "swin_tiny_patch4_window7_224.ms_in1k",
          "vit_base_patch16_clip_224.laion2b",
          "coatnet_2_rw_224.sw_in12k",
          "convnext_base.clip_laion2b_augreg_ft_in12k_in1k",
          "deit_tiny_patch16_224.fb_in1k",
          "coat_tiny.in1k",
          "regnetx_004.pycls_in1k",
          "mobilenetv3_large_100.ra_in1k",
          "efficientnet-b0",
          "edgenext_small.usi_in1k",
          "mobilevit-small"
         ],
         "xaxis": "x",
         "y": [
          7.7293015873015865,
          6.600285714285714,
          3.9211428571428564,
          3.9095714285714283,
          3.8021904761904763,
          3.655666666666667,
          2.7159523809523813,
          2.6939999999999995,
          2.5029682539682536,
          2.328603174603175,
          2.326380952380952,
          1.9996666666666667,
          1.5680952380952382,
          1.5273809523809525,
          1.4885396825396824,
          1.4873809523809525,
          1.448952380952381,
          1.4184761904761907,
          1.1019206349206352,
          1.0694920634920635,
          1.0684126984126987,
          0.9645238095238095,
          0.9485873015873016,
          0.9480952380952381,
          0.930063492063492,
          0.7851269841269841,
          0.7804285714285714,
          0.7753333333333333,
          0.7693333333333333,
          0.7648095238095236,
          0.7363333333333333,
          0.47950793650793655,
          0.47749206349206347,
          0,
          0,
          0,
          0,
          0,
          0,
          0
         ],
         "yaxis": "y"
        }
       ],
       "layout": {
        "height": 1000,
        "legend": {
         "title": {
          "text": "ft_strategy, loss_function"
         },
         "tracegroupgap": 0
        },
        "margin": {
         "t": 60
        },
        "paper_bgcolor": "white",
        "plot_bgcolor": "white",
        "showlegend": true,
        "template": {
         "data": {
          "bar": [
           {
            "error_x": {
             "color": "#2a3f5f"
            },
            "error_y": {
             "color": "#2a3f5f"
            },
            "marker": {
             "line": {
              "color": "#E5ECF6",
              "width": 0.5
             },
             "pattern": {
              "fillmode": "overlay",
              "size": 10,
              "solidity": 0.2
             }
            },
            "type": "bar"
           }
          ],
          "barpolar": [
           {
            "marker": {
             "line": {
              "color": "#E5ECF6",
              "width": 0.5
             },
             "pattern": {
              "fillmode": "overlay",
              "size": 10,
              "solidity": 0.2
             }
            },
            "type": "barpolar"
           }
          ],
          "carpet": [
           {
            "aaxis": {
             "endlinecolor": "#2a3f5f",
             "gridcolor": "white",
             "linecolor": "white",
             "minorgridcolor": "white",
             "startlinecolor": "#2a3f5f"
            },
            "baxis": {
             "endlinecolor": "#2a3f5f",
             "gridcolor": "white",
             "linecolor": "white",
             "minorgridcolor": "white",
             "startlinecolor": "#2a3f5f"
            },
            "type": "carpet"
           }
          ],
          "choropleth": [
           {
            "colorbar": {
             "outlinewidth": 0,
             "ticks": ""
            },
            "type": "choropleth"
           }
          ],
          "contour": [
           {
            "colorbar": {
             "outlinewidth": 0,
             "ticks": ""
            },
            "colorscale": [
             [
              0,
              "#0d0887"
             ],
             [
              0.1111111111111111,
              "#46039f"
             ],
             [
              0.2222222222222222,
              "#7201a8"
             ],
             [
              0.3333333333333333,
              "#9c179e"
             ],
             [
              0.4444444444444444,
              "#bd3786"
             ],
             [
              0.5555555555555556,
              "#d8576b"
             ],
             [
              0.6666666666666666,
              "#ed7953"
             ],
             [
              0.7777777777777778,
              "#fb9f3a"
             ],
             [
              0.8888888888888888,
              "#fdca26"
             ],
             [
              1,
              "#f0f921"
             ]
            ],
            "type": "contour"
           }
          ],
          "contourcarpet": [
           {
            "colorbar": {
             "outlinewidth": 0,
             "ticks": ""
            },
            "type": "contourcarpet"
           }
          ],
          "heatmap": [
           {
            "colorbar": {
             "outlinewidth": 0,
             "ticks": ""
            },
            "colorscale": [
             [
              0,
              "#0d0887"
             ],
             [
              0.1111111111111111,
              "#46039f"
             ],
             [
              0.2222222222222222,
              "#7201a8"
             ],
             [
              0.3333333333333333,
              "#9c179e"
             ],
             [
              0.4444444444444444,
              "#bd3786"
             ],
             [
              0.5555555555555556,
              "#d8576b"
             ],
             [
              0.6666666666666666,
              "#ed7953"
             ],
             [
              0.7777777777777778,
              "#fb9f3a"
             ],
             [
              0.8888888888888888,
              "#fdca26"
             ],
             [
              1,
              "#f0f921"
             ]
            ],
            "type": "heatmap"
           }
          ],
          "heatmapgl": [
           {
            "colorbar": {
             "outlinewidth": 0,
             "ticks": ""
            },
            "colorscale": [
             [
              0,
              "#0d0887"
             ],
             [
              0.1111111111111111,
              "#46039f"
             ],
             [
              0.2222222222222222,
              "#7201a8"
             ],
             [
              0.3333333333333333,
              "#9c179e"
             ],
             [
              0.4444444444444444,
              "#bd3786"
             ],
             [
              0.5555555555555556,
              "#d8576b"
             ],
             [
              0.6666666666666666,
              "#ed7953"
             ],
             [
              0.7777777777777778,
              "#fb9f3a"
             ],
             [
              0.8888888888888888,
              "#fdca26"
             ],
             [
              1,
              "#f0f921"
             ]
            ],
            "type": "heatmapgl"
           }
          ],
          "histogram": [
           {
            "marker": {
             "pattern": {
              "fillmode": "overlay",
              "size": 10,
              "solidity": 0.2
             }
            },
            "type": "histogram"
           }
          ],
          "histogram2d": [
           {
            "colorbar": {
             "outlinewidth": 0,
             "ticks": ""
            },
            "colorscale": [
             [
              0,
              "#0d0887"
             ],
             [
              0.1111111111111111,
              "#46039f"
             ],
             [
              0.2222222222222222,
              "#7201a8"
             ],
             [
              0.3333333333333333,
              "#9c179e"
             ],
             [
              0.4444444444444444,
              "#bd3786"
             ],
             [
              0.5555555555555556,
              "#d8576b"
             ],
             [
              0.6666666666666666,
              "#ed7953"
             ],
             [
              0.7777777777777778,
              "#fb9f3a"
             ],
             [
              0.8888888888888888,
              "#fdca26"
             ],
             [
              1,
              "#f0f921"
             ]
            ],
            "type": "histogram2d"
           }
          ],
          "histogram2dcontour": [
           {
            "colorbar": {
             "outlinewidth": 0,
             "ticks": ""
            },
            "colorscale": [
             [
              0,
              "#0d0887"
             ],
             [
              0.1111111111111111,
              "#46039f"
             ],
             [
              0.2222222222222222,
              "#7201a8"
             ],
             [
              0.3333333333333333,
              "#9c179e"
             ],
             [
              0.4444444444444444,
              "#bd3786"
             ],
             [
              0.5555555555555556,
              "#d8576b"
             ],
             [
              0.6666666666666666,
              "#ed7953"
             ],
             [
              0.7777777777777778,
              "#fb9f3a"
             ],
             [
              0.8888888888888888,
              "#fdca26"
             ],
             [
              1,
              "#f0f921"
             ]
            ],
            "type": "histogram2dcontour"
           }
          ],
          "mesh3d": [
           {
            "colorbar": {
             "outlinewidth": 0,
             "ticks": ""
            },
            "type": "mesh3d"
           }
          ],
          "parcoords": [
           {
            "line": {
             "colorbar": {
              "outlinewidth": 0,
              "ticks": ""
             }
            },
            "type": "parcoords"
           }
          ],
          "pie": [
           {
            "automargin": true,
            "type": "pie"
           }
          ],
          "scatter": [
           {
            "fillpattern": {
             "fillmode": "overlay",
             "size": 10,
             "solidity": 0.2
            },
            "type": "scatter"
           }
          ],
          "scatter3d": [
           {
            "line": {
             "colorbar": {
              "outlinewidth": 0,
              "ticks": ""
             }
            },
            "marker": {
             "colorbar": {
              "outlinewidth": 0,
              "ticks": ""
             }
            },
            "type": "scatter3d"
           }
          ],
          "scattercarpet": [
           {
            "marker": {
             "colorbar": {
              "outlinewidth": 0,
              "ticks": ""
             }
            },
            "type": "scattercarpet"
           }
          ],
          "scattergeo": [
           {
            "marker": {
             "colorbar": {
              "outlinewidth": 0,
              "ticks": ""
             }
            },
            "type": "scattergeo"
           }
          ],
          "scattergl": [
           {
            "marker": {
             "colorbar": {
              "outlinewidth": 0,
              "ticks": ""
             }
            },
            "type": "scattergl"
           }
          ],
          "scattermapbox": [
           {
            "marker": {
             "colorbar": {
              "outlinewidth": 0,
              "ticks": ""
             }
            },
            "type": "scattermapbox"
           }
          ],
          "scatterpolar": [
           {
            "marker": {
             "colorbar": {
              "outlinewidth": 0,
              "ticks": ""
             }
            },
            "type": "scatterpolar"
           }
          ],
          "scatterpolargl": [
           {
            "marker": {
             "colorbar": {
              "outlinewidth": 0,
              "ticks": ""
             }
            },
            "type": "scatterpolargl"
           }
          ],
          "scatterternary": [
           {
            "marker": {
             "colorbar": {
              "outlinewidth": 0,
              "ticks": ""
             }
            },
            "type": "scatterternary"
           }
          ],
          "surface": [
           {
            "colorbar": {
             "outlinewidth": 0,
             "ticks": ""
            },
            "colorscale": [
             [
              0,
              "#0d0887"
             ],
             [
              0.1111111111111111,
              "#46039f"
             ],
             [
              0.2222222222222222,
              "#7201a8"
             ],
             [
              0.3333333333333333,
              "#9c179e"
             ],
             [
              0.4444444444444444,
              "#bd3786"
             ],
             [
              0.5555555555555556,
              "#d8576b"
             ],
             [
              0.6666666666666666,
              "#ed7953"
             ],
             [
              0.7777777777777778,
              "#fb9f3a"
             ],
             [
              0.8888888888888888,
              "#fdca26"
             ],
             [
              1,
              "#f0f921"
             ]
            ],
            "type": "surface"
           }
          ],
          "table": [
           {
            "cells": {
             "fill": {
              "color": "#EBF0F8"
             },
             "line": {
              "color": "white"
             }
            },
            "header": {
             "fill": {
              "color": "#C8D4E3"
             },
             "line": {
              "color": "white"
             }
            },
            "type": "table"
           }
          ]
         },
         "layout": {
          "annotationdefaults": {
           "arrowcolor": "#2a3f5f",
           "arrowhead": 0,
           "arrowwidth": 1
          },
          "autotypenumbers": "strict",
          "coloraxis": {
           "colorbar": {
            "outlinewidth": 0,
            "ticks": ""
           }
          },
          "colorscale": {
           "diverging": [
            [
             0,
             "#8e0152"
            ],
            [
             0.1,
             "#c51b7d"
            ],
            [
             0.2,
             "#de77ae"
            ],
            [
             0.3,
             "#f1b6da"
            ],
            [
             0.4,
             "#fde0ef"
            ],
            [
             0.5,
             "#f7f7f7"
            ],
            [
             0.6,
             "#e6f5d0"
            ],
            [
             0.7,
             "#b8e186"
            ],
            [
             0.8,
             "#7fbc41"
            ],
            [
             0.9,
             "#4d9221"
            ],
            [
             1,
             "#276419"
            ]
           ],
           "sequential": [
            [
             0,
             "#0d0887"
            ],
            [
             0.1111111111111111,
             "#46039f"
            ],
            [
             0.2222222222222222,
             "#7201a8"
            ],
            [
             0.3333333333333333,
             "#9c179e"
            ],
            [
             0.4444444444444444,
             "#bd3786"
            ],
            [
             0.5555555555555556,
             "#d8576b"
            ],
            [
             0.6666666666666666,
             "#ed7953"
            ],
            [
             0.7777777777777778,
             "#fb9f3a"
            ],
            [
             0.8888888888888888,
             "#fdca26"
            ],
            [
             1,
             "#f0f921"
            ]
           ],
           "sequentialminus": [
            [
             0,
             "#0d0887"
            ],
            [
             0.1111111111111111,
             "#46039f"
            ],
            [
             0.2222222222222222,
             "#7201a8"
            ],
            [
             0.3333333333333333,
             "#9c179e"
            ],
            [
             0.4444444444444444,
             "#bd3786"
            ],
            [
             0.5555555555555556,
             "#d8576b"
            ],
            [
             0.6666666666666666,
             "#ed7953"
            ],
            [
             0.7777777777777778,
             "#fb9f3a"
            ],
            [
             0.8888888888888888,
             "#fdca26"
            ],
            [
             1,
             "#f0f921"
            ]
           ]
          },
          "colorway": [
           "#636efa",
           "#EF553B",
           "#00cc96",
           "#ab63fa",
           "#FFA15A",
           "#19d3f3",
           "#FF6692",
           "#B6E880",
           "#FF97FF",
           "#FECB52"
          ],
          "font": {
           "color": "#2a3f5f"
          },
          "geo": {
           "bgcolor": "white",
           "lakecolor": "white",
           "landcolor": "#E5ECF6",
           "showlakes": true,
           "showland": true,
           "subunitcolor": "white"
          },
          "hoverlabel": {
           "align": "left"
          },
          "hovermode": "closest",
          "mapbox": {
           "style": "light"
          },
          "paper_bgcolor": "white",
          "plot_bgcolor": "#E5ECF6",
          "polar": {
           "angularaxis": {
            "gridcolor": "white",
            "linecolor": "white",
            "ticks": ""
           },
           "bgcolor": "#E5ECF6",
           "radialaxis": {
            "gridcolor": "white",
            "linecolor": "white",
            "ticks": ""
           }
          },
          "scene": {
           "xaxis": {
            "backgroundcolor": "#E5ECF6",
            "gridcolor": "white",
            "gridwidth": 2,
            "linecolor": "white",
            "showbackground": true,
            "ticks": "",
            "zerolinecolor": "white"
           },
           "yaxis": {
            "backgroundcolor": "#E5ECF6",
            "gridcolor": "white",
            "gridwidth": 2,
            "linecolor": "white",
            "showbackground": true,
            "ticks": "",
            "zerolinecolor": "white"
           },
           "zaxis": {
            "backgroundcolor": "#E5ECF6",
            "gridcolor": "white",
            "gridwidth": 2,
            "linecolor": "white",
            "showbackground": true,
            "ticks": "",
            "zerolinecolor": "white"
           }
          },
          "shapedefaults": {
           "line": {
            "color": "#2a3f5f"
           }
          },
          "ternary": {
           "aaxis": {
            "gridcolor": "white",
            "linecolor": "white",
            "ticks": ""
           },
           "baxis": {
            "gridcolor": "white",
            "linecolor": "white",
            "ticks": ""
           },
           "bgcolor": "#E5ECF6",
           "caxis": {
            "gridcolor": "white",
            "linecolor": "white",
            "ticks": ""
           }
          },
          "title": {
           "x": 0.05
          },
          "xaxis": {
           "automargin": true,
           "gridcolor": "white",
           "linecolor": "white",
           "ticks": "",
           "title": {
            "standoff": 15
           },
           "zerolinecolor": "white",
           "zerolinewidth": 2
          },
          "yaxis": {
           "automargin": true,
           "gridcolor": "white",
           "linecolor": "white",
           "ticks": "",
           "title": {
            "standoff": 15
           },
           "zerolinecolor": "white",
           "zerolinewidth": 2
          }
         }
        },
        "width": 1500,
        "xaxis": {
         "anchor": "y",
         "domain": [
          0,
          1
         ],
         "gridcolor": "lightgrey",
         "showgrid": true,
         "title": {
          "text": "backbone"
         },
         "zeroline": false
        },
        "yaxis": {
         "anchor": "x",
         "domain": [
          0,
          1
         ],
         "gridcolor": "lightgrey",
         "showgrid": true,
         "title": {
          "text": "Aggregate Accuracy Score"
         },
         "zeroline": false
        }
       }
      }
     },
     "metadata": {},
     "output_type": "display_data"
    }
   ],
   "source": [
    "import pandas as pd\n",
    "import plotly.express as px\n",
    "\n",
    "\n",
    "custom_palette = [\"#E69F00\", \"#56B4E9\", \"#009E73\"]  # choose a set above\n",
    "\n",
    "# ── 1.  Rank backbones by their aggregate TOTAL_score_sum ───────────────────────\n",
    "backbone_order = (\n",
    "    sub_df.groupby(\"backbone\")[\"TOTAL_score_sum\"]\n",
    "          .sum()                       # sum over the 6 settings\n",
    "          .sort_values(ascending=False)\n",
    "          .index                       # → ordered list of backbones\n",
    "          .tolist()\n",
    ")\n",
    "\n",
    "# Make the column an ordered categorical so Plotly respects the ranking\n",
    "sub_df[\"backbone\"] = pd.Categorical(\n",
    "    sub_df[\"backbone\"],\n",
    "    categories=backbone_order,\n",
    "    ordered=True\n",
    ")\n",
    "\n",
    "# ── 2.  Custom colours / markers ───────────────────────────────────────────────\n",
    "color_map = {\n",
    "    \"full_fine_tuning_50epochs\": custom_palette[0],#\"orange\",\n",
    "    \"full_fine_tuning_5epochs\":  custom_palette[1],#\"purple\",\n",
    "    \"linearprobe_50epochs\": custom_palette[2]     #\"green\",\n",
    "}\n",
    "symbol_map = {\"TRADES_v2\": \"star\", \"CLASSIC_AT\": \"square\"}\n",
    "\n",
    "# ── 3.  Plot ───────────────────────────────────────────────────────────────────\n",
    "fig = px.scatter(\n",
    "    sub_df,\n",
    "    width=1500, \n",
    "    height=1000,\n",
    "    color_discrete_sequence=custom_palette,\n",
    "    x= \"backbone\",\n",
    "    y=\"TOTAL_score_sum\",\n",
    "    color=\"ft_strategy\",\n",
    "    symbol=\"loss_function\",\n",
    "    color_discrete_map=color_map,\n",
    "    symbol_map=symbol_map,\n",
    "    hover_data=[\"backbone\", \"ft_strategy\", \"loss_function\", \"TOTAL_score_sum\"],\n",
    ")\n",
    "\n",
    "fig.update_layout(\n",
    "    paper_bgcolor=\"white\",   # outside the plotting area\n",
    "    plot_bgcolor=\"white\",    # inside the plotting area\n",
    "\n",
    "    xaxis=dict(\n",
    "        showgrid=True,\n",
    "        gridcolor=\"lightgrey\",\n",
    "        zeroline=False       # optional: hide the heavy axis line\n",
    "    ),\n",
    "    yaxis=dict(\n",
    "        showgrid=True,\n",
    "        gridcolor=\"lightgrey\",\n",
    "        zeroline=False\n",
    "    )\n",
    ")\n",
    "\n",
    "fig.update_layout(yaxis_title=\"Aggregate Accuracy Score\")\n",
    "\n",
    "fig.update_layout(showlegend=True)   # keep or turn off if it clutters\n",
    "fig.show()\n",
    "\n",
    "fig.write_image(\"./global_plot.png\", scale=3  )                # upscale for higher DPI (1 = default)\n",
    "\n"
   ]
  },
  {
   "cell_type": "code",
   "execution_count": 6,
   "metadata": {},
   "outputs": [
    {
     "data": {
      "text/html": [
       "<div>\n",
       "<style scoped>\n",
       "    .dataframe tbody tr th:only-of-type {\n",
       "        vertical-align: middle;\n",
       "    }\n",
       "\n",
       "    .dataframe tbody tr th {\n",
       "        vertical-align: top;\n",
       "    }\n",
       "\n",
       "    .dataframe thead th {\n",
       "        text-align: right;\n",
       "    }\n",
       "</style>\n",
       "<table border=\"1\" class=\"dataframe\">\n",
       "  <thead>\n",
       "    <tr style=\"text-align: right;\">\n",
       "      <th></th>\n",
       "      <th>comparison</th>\n",
       "      <th>pearson</th>\n",
       "      <th>pearson_p</th>\n",
       "      <th>spearman</th>\n",
       "      <th>spearman_p</th>\n",
       "    </tr>\n",
       "  </thead>\n",
       "  <tbody>\n",
       "    <tr>\n",
       "      <th>0</th>\n",
       "      <td>linearprobe_50epochs  vs  full_fine_tuning_50e...</td>\n",
       "      <td>0.450390</td>\n",
       "      <td>2.765091e-05</td>\n",
       "      <td>0.464346</td>\n",
       "      <td>1.433253e-05</td>\n",
       "    </tr>\n",
       "    <tr>\n",
       "      <th>1</th>\n",
       "      <td>linearprobe_50epochs  vs  full_fine_tuning_5ep...</td>\n",
       "      <td>0.714824</td>\n",
       "      <td>9.532375e-14</td>\n",
       "      <td>0.743950</td>\n",
       "      <td>2.649537e-15</td>\n",
       "    </tr>\n",
       "    <tr>\n",
       "      <th>2</th>\n",
       "      <td>full_fine_tuning_5epochs  vs  full_fine_tuning...</td>\n",
       "      <td>0.384585</td>\n",
       "      <td>4.279921e-04</td>\n",
       "      <td>0.389060</td>\n",
       "      <td>3.614893e-04</td>\n",
       "    </tr>\n",
       "  </tbody>\n",
       "</table>\n",
       "</div>"
      ],
      "text/plain": [
       "                                          comparison   pearson     pearson_p  \\\n",
       "0  linearprobe_50epochs  vs  full_fine_tuning_50e...  0.450390  2.765091e-05   \n",
       "1  linearprobe_50epochs  vs  full_fine_tuning_5ep...  0.714824  9.532375e-14   \n",
       "2  full_fine_tuning_5epochs  vs  full_fine_tuning...  0.384585  4.279921e-04   \n",
       "\n",
       "   spearman    spearman_p  \n",
       "0  0.464346  1.433253e-05  \n",
       "1  0.743950  2.649537e-15  \n",
       "2  0.389060  3.614893e-04  "
      ]
     },
     "execution_count": 6,
     "metadata": {},
     "output_type": "execute_result"
    }
   ],
   "source": [
    "import pandas as pd\n",
    "from scipy.stats import spearmanr, pearsonr\n",
    "\n",
    "# ── 1.  Reshape: one row per backbone × loss_function, one column per project\n",
    "pivot_df = sub_df.pivot_table(\n",
    "    index=[\"backbone\", \"loss_function\"],\n",
    "    columns=\"ft_strategy\",\n",
    "    values=\"TOTAL_score_sum\"\n",
    ").reset_index()\n",
    "\n",
    "# ── 2.  Prepare correlation results ───────────────────────────────────────────\n",
    "project_pairs = [\n",
    "    (\"linearprobe_50epochs\",  \"full_fine_tuning_50epochs\"),\n",
    "    (\"linearprobe_50epochs\",  \"full_fine_tuning_5epochs\"),\n",
    "    (\"full_fine_tuning_5epochs\", \"full_fine_tuning_50epochs\"),\n",
    "]\n",
    "\n",
    "correlation_results = []\n",
    "\n",
    "for p1, p2 in project_pairs:\n",
    "    if p1 in pivot_df.columns and p2 in pivot_df.columns:\n",
    "        valid_rows = pivot_df[[p1, p2]].dropna()\n",
    "        if len(valid_rows) >= 2:           # need ≥2 points for correlation\n",
    "            pearson_corr, pearson_p   = pearsonr(valid_rows[p1], valid_rows[p2])\n",
    "            spearman_corr, spearman_p = spearmanr(valid_rows[p1], valid_rows[p2])\n",
    "            correlation_results.append({\n",
    "                \"comparison\":  f\"{p1}  vs  {p2}\",\n",
    "                \"pearson\":     pearson_corr,\n",
    "                \"pearson_p\":   pearson_p,\n",
    "                \"spearman\":    spearman_corr,\n",
    "                \"spearman_p\":  spearman_p\n",
    "            })\n",
    "\n",
    "overall_corr_df = pd.DataFrame(correlation_results)\n",
    "overall_corr_df\n"
   ]
  },
  {
   "cell_type": "code",
   "execution_count": 7,
   "metadata": {},
   "outputs": [
    {
     "data": {
      "text/html": [
       "<div>\n",
       "<style scoped>\n",
       "    .dataframe tbody tr th:only-of-type {\n",
       "        vertical-align: middle;\n",
       "    }\n",
       "\n",
       "    .dataframe tbody tr th {\n",
       "        vertical-align: top;\n",
       "    }\n",
       "\n",
       "    .dataframe thead th {\n",
       "        text-align: right;\n",
       "    }\n",
       "</style>\n",
       "<table border=\"1\" class=\"dataframe\">\n",
       "  <thead>\n",
       "    <tr style=\"text-align: right;\">\n",
       "      <th></th>\n",
       "      <th>loss_function</th>\n",
       "      <th>comparison</th>\n",
       "      <th>pearson</th>\n",
       "      <th>pearson_p</th>\n",
       "      <th>spearman</th>\n",
       "      <th>spearman_p</th>\n",
       "    </tr>\n",
       "  </thead>\n",
       "  <tbody>\n",
       "    <tr>\n",
       "      <th>0</th>\n",
       "      <td>CLASSIC_AT</td>\n",
       "      <td>linearprobe_50epochs  vs  full_fine_tuning_50e...</td>\n",
       "      <td>0.163357</td>\n",
       "      <td>3.138453e-01</td>\n",
       "      <td>0.221609</td>\n",
       "      <td>1.693507e-01</td>\n",
       "    </tr>\n",
       "    <tr>\n",
       "      <th>1</th>\n",
       "      <td>CLASSIC_AT</td>\n",
       "      <td>linearprobe_50epochs  vs  full_fine_tuning_5ep...</td>\n",
       "      <td>0.651009</td>\n",
       "      <td>5.402323e-06</td>\n",
       "      <td>0.642030</td>\n",
       "      <td>7.991351e-06</td>\n",
       "    </tr>\n",
       "    <tr>\n",
       "      <th>2</th>\n",
       "      <td>CLASSIC_AT</td>\n",
       "      <td>full_fine_tuning_5epochs  vs  full_fine_tuning...</td>\n",
       "      <td>0.246936</td>\n",
       "      <td>1.245046e-01</td>\n",
       "      <td>0.216329</td>\n",
       "      <td>1.800056e-01</td>\n",
       "    </tr>\n",
       "    <tr>\n",
       "      <th>3</th>\n",
       "      <td>TRADES_v2</td>\n",
       "      <td>linearprobe_50epochs  vs  full_fine_tuning_50e...</td>\n",
       "      <td>0.597639</td>\n",
       "      <td>4.663878e-05</td>\n",
       "      <td>0.592502</td>\n",
       "      <td>5.625584e-05</td>\n",
       "    </tr>\n",
       "    <tr>\n",
       "      <th>4</th>\n",
       "      <td>TRADES_v2</td>\n",
       "      <td>linearprobe_50epochs  vs  full_fine_tuning_5ep...</td>\n",
       "      <td>0.742497</td>\n",
       "      <td>4.141726e-08</td>\n",
       "      <td>0.783176</td>\n",
       "      <td>2.330621e-09</td>\n",
       "    </tr>\n",
       "    <tr>\n",
       "      <th>5</th>\n",
       "      <td>TRADES_v2</td>\n",
       "      <td>full_fine_tuning_5epochs  vs  full_fine_tuning...</td>\n",
       "      <td>0.386678</td>\n",
       "      <td>1.371146e-02</td>\n",
       "      <td>0.394095</td>\n",
       "      <td>1.186297e-02</td>\n",
       "    </tr>\n",
       "  </tbody>\n",
       "</table>\n",
       "</div>"
      ],
      "text/plain": [
       "  loss_function                                         comparison   pearson  \\\n",
       "0    CLASSIC_AT  linearprobe_50epochs  vs  full_fine_tuning_50e...  0.163357   \n",
       "1    CLASSIC_AT  linearprobe_50epochs  vs  full_fine_tuning_5ep...  0.651009   \n",
       "2    CLASSIC_AT  full_fine_tuning_5epochs  vs  full_fine_tuning...  0.246936   \n",
       "3     TRADES_v2  linearprobe_50epochs  vs  full_fine_tuning_50e...  0.597639   \n",
       "4     TRADES_v2  linearprobe_50epochs  vs  full_fine_tuning_5ep...  0.742497   \n",
       "5     TRADES_v2  full_fine_tuning_5epochs  vs  full_fine_tuning...  0.386678   \n",
       "\n",
       "      pearson_p  spearman    spearman_p  \n",
       "0  3.138453e-01  0.221609  1.693507e-01  \n",
       "1  5.402323e-06  0.642030  7.991351e-06  \n",
       "2  1.245046e-01  0.216329  1.800056e-01  \n",
       "3  4.663878e-05  0.592502  5.625584e-05  \n",
       "4  4.141726e-08  0.783176  2.330621e-09  \n",
       "5  1.371146e-02  0.394095  1.186297e-02  "
      ]
     },
     "execution_count": 7,
     "metadata": {},
     "output_type": "execute_result"
    }
   ],
   "source": [
    "# ── Correlations by loss_function subgroup ────────────────────────────────────\n",
    "loss_corrs = []\n",
    "for loss in pivot_df[\"loss_function\"].unique():\n",
    "    subset = pivot_df[pivot_df[\"loss_function\"] == loss]\n",
    "\n",
    "    for p1, p2 in project_pairs:\n",
    "        if p1 in subset.columns and p2 in subset.columns:\n",
    "            valid_rows = subset[[p1, p2]].dropna()\n",
    "\n",
    "            if len(valid_rows) >= 2:          # need ≥2 points for correlation\n",
    "                pearson_corr, pearson_p   = pearsonr(valid_rows[p1], valid_rows[p2])\n",
    "                spearman_corr, spearman_p = spearmanr(valid_rows[p1], valid_rows[p2])\n",
    "\n",
    "                loss_corrs.append({\n",
    "                    \"loss_function\": loss,\n",
    "                    \"comparison\":   f\"{p1}  vs  {p2}\",\n",
    "                    \"pearson\":      pearson_corr,\n",
    "                    \"pearson_p\":    pearson_p,\n",
    "                    \"spearman\":     spearman_corr,\n",
    "                    \"spearman_p\":   spearman_p\n",
    "                })\n",
    "\n",
    "loss_corr_df = pd.DataFrame(loss_corrs)\n",
    "loss_corr_df\n"
   ]
  }
 ],
 "metadata": {
  "kernelspec": {
   "display_name": "base",
   "language": "python",
   "name": "python3"
  },
  "language_info": {
   "codemirror_mode": {
    "name": "ipython",
    "version": 3
   },
   "file_extension": ".py",
   "mimetype": "text/x-python",
   "name": "python",
   "nbconvert_exporter": "python",
   "pygments_lexer": "ipython3",
   "version": "3.9.7"
  }
 },
 "nbformat": 4,
 "nbformat_minor": 2
}
