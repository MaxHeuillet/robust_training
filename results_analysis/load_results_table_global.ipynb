{
 "cells": [
  {
   "cell_type": "code",
   "execution_count": 4,
   "metadata": {},
   "outputs": [
    {
     "name": "stdout",
     "output_type": "stream",
     "text": [
      "../results/full_fine_tuning_50epochs_paper_final2/CLIP-convnext_base_w-laion_aesthetic-s13B-b82K_uc-merced-land-use-dataset_TRADES_v2.pkl\n",
      "../results/full_fine_tuning_50epochs_paper_final2/CLIP-convnext_base_w-laion2B-s13B-b82K_uc-merced-land-use-dataset_TRADES_v2.pkl\n",
      "../results/full_fine_tuning_50epochs_paper_final2/deit_small_patch16_224.fb_in1k_uc-merced-land-use-dataset_TRADES_v2.pkl\n",
      "../results/full_fine_tuning_50epochs_paper_final2/robust_resnet50_uc-merced-land-use-dataset_TRADES_v2.pkl\n",
      "../results/full_fine_tuning_50epochs_paper_final2/vit_small_patch16_224.augreg_in21k_uc-merced-land-use-dataset_TRADES_v2.pkl\n",
      "../results/full_fine_tuning_50epochs_paper_final2/convnext_base.fb_in1k_uc-merced-land-use-dataset_TRADES_v2.pkl\n",
      "../results/full_fine_tuning_50epochs_paper_final2/resnet50.a1_in1k_uc-merced-land-use-dataset_TRADES_v2.pkl\n",
      "../results/full_fine_tuning_50epochs_paper_final2/robust_vit_base_patch16_224_uc-merced-land-use-dataset_TRADES_v2.pkl\n",
      "../results/full_fine_tuning_50epochs_paper_final2/vit_base_patch16_224.mae_uc-merced-land-use-dataset_TRADES_v2.pkl\n",
      "../results/full_fine_tuning_50epochs_paper_final2/vit_small_patch16_224.dino_uc-merced-land-use-dataset_TRADES_v2.pkl\n",
      "../results/full_fine_tuning_50epochs_paper_final2/convnext_base.fb_in22k_uc-merced-land-use-dataset_TRADES_v2.pkl\n",
      "../results/full_fine_tuning_50epochs_paper_final2/robust_convnext_base_uc-merced-land-use-dataset_TRADES_v2.pkl\n",
      "../results/full_fine_tuning_50epochs_paper_final2/vit_base_patch16_224.augreg_in1k_uc-merced-land-use-dataset_TRADES_v2.pkl\n",
      "../results/full_fine_tuning_50epochs_paper_final2/vit_base_patch16_224.augreg_in21k_uc-merced-land-use-dataset_TRADES_v2.pkl\n",
      "../results/full_fine_tuning_50epochs_paper_final2/vit_base_patch16_clip_224.laion2b_uc-merced-land-use-dataset_TRADES_v2.pkl\n",
      "../results/full_fine_tuning_50epochs_paper_final2/convnext_tiny.fb_in1k_uc-merced-land-use-dataset_TRADES_v2.pkl\n",
      "../results/full_fine_tuning_50epochs_paper_final2/robust_convnext_tiny_uc-merced-land-use-dataset_TRADES_v2.pkl\n",
      "../results/full_fine_tuning_50epochs_paper_final2/robust_deit_small_patch16_224_uc-merced-land-use-dataset_TRADES_v2.pkl\n",
      "../results/full_fine_tuning_50epochs_paper_final2/vit_small_patch16_224.augreg_in1k_uc-merced-land-use-dataset_TRADES_v2.pkl\n",
      "../results/full_fine_tuning_50epochs_paper_final2/convnext_tiny.fb_in22k_uc-merced-land-use-dataset_TRADES_v2.pkl\n",
      "../results/full_fine_tuning_50epochs_paper_final2/vit_base_patch16_clip_224.laion2b_ft_in1k_uc-merced-land-use-dataset_TRADES_v2.pkl\n",
      "../results/full_fine_tuning_50epochs_paper_final2/vit_base_patch16_224.augreg_in21k_ft_in1k_uc-merced-land-use-dataset_TRADES_v2.pkl\n",
      "../results/full_fine_tuning_50epochs_paper_final2/vit_small_patch16_224.augreg_in21k_ft_in1k_uc-merced-land-use-dataset_TRADES_v2.pkl\n",
      "../results/full_fine_tuning_50epochs_paper_final2/eva02_base_patch14_224.mim_in22k_uc-merced-land-use-dataset_TRADES_v2.pkl\n",
      "../results/full_fine_tuning_50epochs_paper_final2/eva02_tiny_patch14_224.mim_in22k_uc-merced-land-use-dataset_TRADES_v2.pkl\n",
      "../results/full_fine_tuning_50epochs_paper_final2/swin_base_patch4_window7_224.ms_in22k_ft_in1k_uc-merced-land-use-dataset_TRADES_v2.pkl\n",
      "../results/full_fine_tuning_50epochs_paper_final2/swin_tiny_patch4_window7_224.ms_in1k_uc-merced-land-use-dataset_TRADES_v2.pkl\n",
      "../results/full_fine_tuning_50epochs_paper_final2/convnext_base.clip_laion2b_augreg_ft_in12k_in1k_uc-merced-land-use-dataset_TRADES_v2.pkl\n",
      "../results/full_fine_tuning_50epochs_paper_final2/convnext_base.fb_in22k_ft_in1k_uc-merced-land-use-dataset_TRADES_v2.pkl\n",
      "../results/full_fine_tuning_50epochs_paper_final2/convnext_tiny.fb_in22k_ft_in1k_uc-merced-land-use-dataset_TRADES_v2.pkl\n",
      "../results/full_fine_tuning_50epochs_paper_final2/coatnet_0_rw_224.sw_in1k_uc-merced-land-use-dataset_TRADES_v2.pkl\n",
      "../results/full_fine_tuning_50epochs_paper_final2/coatnet_2_rw_224.sw_in12k_ft_in1k_uc-merced-land-use-dataset_TRADES_v2.pkl\n",
      "../results/full_fine_tuning_50epochs_paper_final2/coatnet_2_rw_224.sw_in12k_uc-merced-land-use-dataset_TRADES_v2.pkl\n",
      "../results/full_fine_tuning_50epochs_edge_paper_final2/regnetx_004.pycls_in1k_uc-merced-land-use-dataset_TRADES_v2.pkl\n",
      "../results/full_fine_tuning_50epochs_edge_paper_final2/efficientnet-b0_uc-merced-land-use-dataset_TRADES_v2.pkl\n",
      "../results/full_fine_tuning_50epochs_edge_paper_final2/deit_tiny_patch16_224.fb_in1k_uc-merced-land-use-dataset_TRADES_v2.pkl\n",
      "../results/full_fine_tuning_50epochs_edge_paper_final2/mobilevit-small_uc-merced-land-use-dataset_TRADES_v2.pkl\n",
      "../results/full_fine_tuning_50epochs_edge_paper_final2/mobilenetv3_large_100.ra_in1k_uc-merced-land-use-dataset_TRADES_v2.pkl\n",
      "../results/full_fine_tuning_50epochs_edge_paper_final2/edgenext_small.usi_in1k_uc-merced-land-use-dataset_TRADES_v2.pkl\n",
      "../results/full_fine_tuning_50epochs_edge_paper_final2/coat_tiny.in1k_uc-merced-land-use-dataset_TRADES_v2.pkl\n",
      "../results/full_fine_tuning_50epochs_paper_final2/CLIP-convnext_base_w-laion_aesthetic-s13B-b82K_stanford_cars_TRADES_v2.pkl\n",
      "../results/full_fine_tuning_50epochs_paper_final2/CLIP-convnext_base_w-laion2B-s13B-b82K_stanford_cars_TRADES_v2.pkl\n",
      "../results/full_fine_tuning_50epochs_paper_final2/deit_small_patch16_224.fb_in1k_stanford_cars_TRADES_v2.pkl\n",
      "../results/full_fine_tuning_50epochs_paper_final2/robust_resnet50_stanford_cars_TRADES_v2.pkl\n",
      "../results/full_fine_tuning_50epochs_paper_final2/vit_small_patch16_224.augreg_in21k_stanford_cars_TRADES_v2.pkl\n",
      "../results/full_fine_tuning_50epochs_paper_final2/convnext_base.fb_in1k_stanford_cars_TRADES_v2.pkl\n",
      "../results/full_fine_tuning_50epochs_paper_final2/resnet50.a1_in1k_stanford_cars_TRADES_v2.pkl\n",
      "../results/full_fine_tuning_50epochs_paper_final2/robust_vit_base_patch16_224_stanford_cars_TRADES_v2.pkl\n",
      "../results/full_fine_tuning_50epochs_paper_final2/vit_base_patch16_224.mae_stanford_cars_TRADES_v2.pkl\n",
      "../results/full_fine_tuning_50epochs_paper_final2/vit_small_patch16_224.dino_stanford_cars_TRADES_v2.pkl\n",
      "../results/full_fine_tuning_50epochs_paper_final2/convnext_base.fb_in22k_stanford_cars_TRADES_v2.pkl\n",
      "../results/full_fine_tuning_50epochs_paper_final2/robust_convnext_base_stanford_cars_TRADES_v2.pkl\n",
      "../results/full_fine_tuning_50epochs_paper_final2/vit_base_patch16_224.augreg_in1k_stanford_cars_TRADES_v2.pkl\n",
      "../results/full_fine_tuning_50epochs_paper_final2/vit_base_patch16_224.augreg_in21k_stanford_cars_TRADES_v2.pkl\n",
      "../results/full_fine_tuning_50epochs_paper_final2/vit_base_patch16_clip_224.laion2b_stanford_cars_TRADES_v2.pkl\n",
      "../results/full_fine_tuning_50epochs_paper_final2/convnext_tiny.fb_in1k_stanford_cars_TRADES_v2.pkl\n",
      "../results/full_fine_tuning_50epochs_paper_final2/robust_convnext_tiny_stanford_cars_TRADES_v2.pkl\n",
      "../results/full_fine_tuning_50epochs_paper_final2/robust_deit_small_patch16_224_stanford_cars_TRADES_v2.pkl\n",
      "../results/full_fine_tuning_50epochs_paper_final2/vit_small_patch16_224.augreg_in1k_stanford_cars_TRADES_v2.pkl\n",
      "../results/full_fine_tuning_50epochs_paper_final2/convnext_tiny.fb_in22k_stanford_cars_TRADES_v2.pkl\n",
      "../results/full_fine_tuning_50epochs_paper_final2/vit_base_patch16_clip_224.laion2b_ft_in1k_stanford_cars_TRADES_v2.pkl\n",
      "../results/full_fine_tuning_50epochs_paper_final2/vit_base_patch16_224.augreg_in21k_ft_in1k_stanford_cars_TRADES_v2.pkl\n",
      "../results/full_fine_tuning_50epochs_paper_final2/vit_small_patch16_224.augreg_in21k_ft_in1k_stanford_cars_TRADES_v2.pkl\n",
      "../results/full_fine_tuning_50epochs_paper_final2/eva02_base_patch14_224.mim_in22k_stanford_cars_TRADES_v2.pkl\n",
      "../results/full_fine_tuning_50epochs_paper_final2/eva02_tiny_patch14_224.mim_in22k_stanford_cars_TRADES_v2.pkl\n",
      "../results/full_fine_tuning_50epochs_paper_final2/swin_base_patch4_window7_224.ms_in22k_ft_in1k_stanford_cars_TRADES_v2.pkl\n",
      "../results/full_fine_tuning_50epochs_paper_final2/swin_tiny_patch4_window7_224.ms_in1k_stanford_cars_TRADES_v2.pkl\n",
      "../results/full_fine_tuning_50epochs_paper_final2/convnext_base.clip_laion2b_augreg_ft_in12k_in1k_stanford_cars_TRADES_v2.pkl\n",
      "../results/full_fine_tuning_50epochs_paper_final2/convnext_base.fb_in22k_ft_in1k_stanford_cars_TRADES_v2.pkl\n",
      "../results/full_fine_tuning_50epochs_paper_final2/convnext_tiny.fb_in22k_ft_in1k_stanford_cars_TRADES_v2.pkl\n",
      "../results/full_fine_tuning_50epochs_paper_final2/coatnet_0_rw_224.sw_in1k_stanford_cars_TRADES_v2.pkl\n",
      "../results/full_fine_tuning_50epochs_paper_final2/coatnet_2_rw_224.sw_in12k_ft_in1k_stanford_cars_TRADES_v2.pkl\n",
      "../results/full_fine_tuning_50epochs_paper_final2/coatnet_2_rw_224.sw_in12k_stanford_cars_TRADES_v2.pkl\n",
      "../results/full_fine_tuning_50epochs_edge_paper_final2/regnetx_004.pycls_in1k_stanford_cars_TRADES_v2.pkl\n",
      "../results/full_fine_tuning_50epochs_edge_paper_final2/efficientnet-b0_stanford_cars_TRADES_v2.pkl\n",
      "../results/full_fine_tuning_50epochs_edge_paper_final2/deit_tiny_patch16_224.fb_in1k_stanford_cars_TRADES_v2.pkl\n",
      "../results/full_fine_tuning_50epochs_edge_paper_final2/mobilevit-small_stanford_cars_TRADES_v2.pkl\n",
      "../results/full_fine_tuning_50epochs_edge_paper_final2/mobilenetv3_large_100.ra_in1k_stanford_cars_TRADES_v2.pkl\n",
      "../results/full_fine_tuning_50epochs_edge_paper_final2/edgenext_small.usi_in1k_stanford_cars_TRADES_v2.pkl\n",
      "../results/full_fine_tuning_50epochs_edge_paper_final2/coat_tiny.in1k_stanford_cars_TRADES_v2.pkl\n",
      "../results/full_fine_tuning_50epochs_paper_final2/coat_tiny.in1k_stanford_cars_TRADES_v2.pkl\n",
      "../results/full_fine_tuning_50epochs_paper_final2/CLIP-convnext_base_w-laion_aesthetic-s13B-b82K_caltech101_TRADES_v2.pkl\n",
      "../results/full_fine_tuning_50epochs_paper_final2/CLIP-convnext_base_w-laion2B-s13B-b82K_caltech101_TRADES_v2.pkl\n",
      "../results/full_fine_tuning_50epochs_paper_final2/deit_small_patch16_224.fb_in1k_caltech101_TRADES_v2.pkl\n",
      "../results/full_fine_tuning_50epochs_paper_final2/robust_resnet50_caltech101_TRADES_v2.pkl\n",
      "../results/full_fine_tuning_50epochs_paper_final2/vit_small_patch16_224.augreg_in21k_caltech101_TRADES_v2.pkl\n",
      "../results/full_fine_tuning_50epochs_paper_final2/convnext_base.fb_in1k_caltech101_TRADES_v2.pkl\n",
      "../results/full_fine_tuning_50epochs_paper_final2/resnet50.a1_in1k_caltech101_TRADES_v2.pkl\n",
      "../results/full_fine_tuning_50epochs_paper_final2/robust_vit_base_patch16_224_caltech101_TRADES_v2.pkl\n",
      "../results/full_fine_tuning_50epochs_paper_final2/vit_base_patch16_224.mae_caltech101_TRADES_v2.pkl\n",
      "../results/full_fine_tuning_50epochs_paper_final2/vit_small_patch16_224.dino_caltech101_TRADES_v2.pkl\n",
      "../results/full_fine_tuning_50epochs_paper_final2/convnext_base.fb_in22k_caltech101_TRADES_v2.pkl\n",
      "../results/full_fine_tuning_50epochs_paper_final2/robust_convnext_base_caltech101_TRADES_v2.pkl\n",
      "../results/full_fine_tuning_50epochs_paper_final2/vit_base_patch16_224.augreg_in1k_caltech101_TRADES_v2.pkl\n",
      "../results/full_fine_tuning_50epochs_paper_final2/vit_base_patch16_224.augreg_in21k_caltech101_TRADES_v2.pkl\n",
      "../results/full_fine_tuning_50epochs_paper_final2/vit_base_patch16_clip_224.laion2b_caltech101_TRADES_v2.pkl\n",
      "../results/full_fine_tuning_50epochs_paper_final2/convnext_tiny.fb_in1k_caltech101_TRADES_v2.pkl\n",
      "../results/full_fine_tuning_50epochs_paper_final2/robust_convnext_tiny_caltech101_TRADES_v2.pkl\n",
      "../results/full_fine_tuning_50epochs_paper_final2/robust_deit_small_patch16_224_caltech101_TRADES_v2.pkl\n",
      "../results/full_fine_tuning_50epochs_paper_final2/vit_small_patch16_224.augreg_in1k_caltech101_TRADES_v2.pkl\n",
      "../results/full_fine_tuning_50epochs_paper_final2/convnext_tiny.fb_in22k_caltech101_TRADES_v2.pkl\n",
      "../results/full_fine_tuning_50epochs_paper_final2/vit_base_patch16_clip_224.laion2b_ft_in1k_caltech101_TRADES_v2.pkl\n",
      "../results/full_fine_tuning_50epochs_paper_final2/vit_base_patch16_224.augreg_in21k_ft_in1k_caltech101_TRADES_v2.pkl\n",
      "../results/full_fine_tuning_50epochs_paper_final2/vit_small_patch16_224.augreg_in21k_ft_in1k_caltech101_TRADES_v2.pkl\n",
      "../results/full_fine_tuning_50epochs_paper_final2/eva02_base_patch14_224.mim_in22k_caltech101_TRADES_v2.pkl\n",
      "../results/full_fine_tuning_50epochs_paper_final2/eva02_tiny_patch14_224.mim_in22k_caltech101_TRADES_v2.pkl\n",
      "../results/full_fine_tuning_50epochs_paper_final2/swin_base_patch4_window7_224.ms_in22k_ft_in1k_caltech101_TRADES_v2.pkl\n",
      "../results/full_fine_tuning_50epochs_paper_final2/swin_tiny_patch4_window7_224.ms_in1k_caltech101_TRADES_v2.pkl\n",
      "../results/full_fine_tuning_50epochs_paper_final2/convnext_base.clip_laion2b_augreg_ft_in12k_in1k_caltech101_TRADES_v2.pkl\n",
      "../results/full_fine_tuning_50epochs_paper_final2/convnext_base.fb_in22k_ft_in1k_caltech101_TRADES_v2.pkl\n",
      "../results/full_fine_tuning_50epochs_paper_final2/convnext_tiny.fb_in22k_ft_in1k_caltech101_TRADES_v2.pkl\n",
      "../results/full_fine_tuning_50epochs_paper_final2/coatnet_0_rw_224.sw_in1k_caltech101_TRADES_v2.pkl\n",
      "../results/full_fine_tuning_50epochs_paper_final2/coatnet_2_rw_224.sw_in12k_ft_in1k_caltech101_TRADES_v2.pkl\n",
      "../results/full_fine_tuning_50epochs_paper_final2/coatnet_2_rw_224.sw_in12k_caltech101_TRADES_v2.pkl\n",
      "../results/full_fine_tuning_50epochs_edge_paper_final2/regnetx_004.pycls_in1k_caltech101_TRADES_v2.pkl\n",
      "../results/full_fine_tuning_50epochs_edge_paper_final2/efficientnet-b0_caltech101_TRADES_v2.pkl\n",
      "../results/full_fine_tuning_50epochs_edge_paper_final2/deit_tiny_patch16_224.fb_in1k_caltech101_TRADES_v2.pkl\n",
      "../results/full_fine_tuning_50epochs_edge_paper_final2/mobilevit-small_caltech101_TRADES_v2.pkl\n",
      "../results/full_fine_tuning_50epochs_edge_paper_final2/mobilenetv3_large_100.ra_in1k_caltech101_TRADES_v2.pkl\n",
      "../results/full_fine_tuning_50epochs_edge_paper_final2/edgenext_small.usi_in1k_caltech101_TRADES_v2.pkl\n",
      "../results/full_fine_tuning_50epochs_edge_paper_final2/coat_tiny.in1k_caltech101_TRADES_v2.pkl\n",
      "../results/full_fine_tuning_50epochs_paper_final2/coat_tiny.in1k_caltech101_TRADES_v2.pkl\n",
      "../results/full_fine_tuning_50epochs_paper_final2/CLIP-convnext_base_w-laion_aesthetic-s13B-b82K_fgvc-aircraft-2013b_TRADES_v2.pkl\n",
      "../results/full_fine_tuning_50epochs_paper_final2/CLIP-convnext_base_w-laion2B-s13B-b82K_fgvc-aircraft-2013b_TRADES_v2.pkl\n",
      "../results/full_fine_tuning_50epochs_paper_final2/deit_small_patch16_224.fb_in1k_fgvc-aircraft-2013b_TRADES_v2.pkl\n",
      "../results/full_fine_tuning_50epochs_paper_final2/robust_resnet50_fgvc-aircraft-2013b_TRADES_v2.pkl\n",
      "../results/full_fine_tuning_50epochs_paper_final2/vit_small_patch16_224.augreg_in21k_fgvc-aircraft-2013b_TRADES_v2.pkl\n",
      "../results/full_fine_tuning_50epochs_paper_final2/convnext_base.fb_in1k_fgvc-aircraft-2013b_TRADES_v2.pkl\n",
      "../results/full_fine_tuning_50epochs_paper_final2/resnet50.a1_in1k_fgvc-aircraft-2013b_TRADES_v2.pkl\n",
      "../results/full_fine_tuning_50epochs_paper_final2/robust_vit_base_patch16_224_fgvc-aircraft-2013b_TRADES_v2.pkl\n",
      "../results/full_fine_tuning_50epochs_paper_final2/vit_base_patch16_224.mae_fgvc-aircraft-2013b_TRADES_v2.pkl\n",
      "../results/full_fine_tuning_50epochs_paper_final2/vit_small_patch16_224.dino_fgvc-aircraft-2013b_TRADES_v2.pkl\n",
      "../results/full_fine_tuning_50epochs_paper_final2/convnext_base.fb_in22k_fgvc-aircraft-2013b_TRADES_v2.pkl\n",
      "../results/full_fine_tuning_50epochs_paper_final2/robust_convnext_base_fgvc-aircraft-2013b_TRADES_v2.pkl\n",
      "../results/full_fine_tuning_50epochs_paper_final2/vit_base_patch16_224.augreg_in1k_fgvc-aircraft-2013b_TRADES_v2.pkl\n",
      "../results/full_fine_tuning_50epochs_paper_final2/vit_base_patch16_224.augreg_in21k_fgvc-aircraft-2013b_TRADES_v2.pkl\n",
      "../results/full_fine_tuning_50epochs_paper_final2/vit_base_patch16_clip_224.laion2b_fgvc-aircraft-2013b_TRADES_v2.pkl\n",
      "../results/full_fine_tuning_50epochs_paper_final2/convnext_tiny.fb_in1k_fgvc-aircraft-2013b_TRADES_v2.pkl\n",
      "../results/full_fine_tuning_50epochs_paper_final2/robust_convnext_tiny_fgvc-aircraft-2013b_TRADES_v2.pkl\n",
      "../results/full_fine_tuning_50epochs_paper_final2/robust_deit_small_patch16_224_fgvc-aircraft-2013b_TRADES_v2.pkl\n",
      "../results/full_fine_tuning_50epochs_paper_final2/vit_small_patch16_224.augreg_in1k_fgvc-aircraft-2013b_TRADES_v2.pkl\n",
      "../results/full_fine_tuning_50epochs_paper_final2/convnext_tiny.fb_in22k_fgvc-aircraft-2013b_TRADES_v2.pkl\n",
      "../results/full_fine_tuning_50epochs_paper_final2/vit_base_patch16_clip_224.laion2b_ft_in1k_fgvc-aircraft-2013b_TRADES_v2.pkl\n",
      "../results/full_fine_tuning_50epochs_paper_final2/vit_base_patch16_224.augreg_in21k_ft_in1k_fgvc-aircraft-2013b_TRADES_v2.pkl\n",
      "../results/full_fine_tuning_50epochs_paper_final2/vit_small_patch16_224.augreg_in21k_ft_in1k_fgvc-aircraft-2013b_TRADES_v2.pkl\n",
      "../results/full_fine_tuning_50epochs_paper_final2/eva02_base_patch14_224.mim_in22k_fgvc-aircraft-2013b_TRADES_v2.pkl\n",
      "../results/full_fine_tuning_50epochs_paper_final2/eva02_tiny_patch14_224.mim_in22k_fgvc-aircraft-2013b_TRADES_v2.pkl\n",
      "../results/full_fine_tuning_50epochs_paper_final2/swin_base_patch4_window7_224.ms_in22k_ft_in1k_fgvc-aircraft-2013b_TRADES_v2.pkl\n",
      "../results/full_fine_tuning_50epochs_paper_final2/swin_tiny_patch4_window7_224.ms_in1k_fgvc-aircraft-2013b_TRADES_v2.pkl\n",
      "../results/full_fine_tuning_50epochs_paper_final2/convnext_base.clip_laion2b_augreg_ft_in12k_in1k_fgvc-aircraft-2013b_TRADES_v2.pkl\n",
      "../results/full_fine_tuning_50epochs_paper_final2/convnext_base.fb_in22k_ft_in1k_fgvc-aircraft-2013b_TRADES_v2.pkl\n",
      "../results/full_fine_tuning_50epochs_paper_final2/convnext_tiny.fb_in22k_ft_in1k_fgvc-aircraft-2013b_TRADES_v2.pkl\n",
      "../results/full_fine_tuning_50epochs_paper_final2/coatnet_0_rw_224.sw_in1k_fgvc-aircraft-2013b_TRADES_v2.pkl\n",
      "../results/full_fine_tuning_50epochs_paper_final2/coatnet_2_rw_224.sw_in12k_ft_in1k_fgvc-aircraft-2013b_TRADES_v2.pkl\n",
      "../results/full_fine_tuning_50epochs_paper_final2/coatnet_2_rw_224.sw_in12k_fgvc-aircraft-2013b_TRADES_v2.pkl\n",
      "../results/full_fine_tuning_50epochs_edge_paper_final2/regnetx_004.pycls_in1k_fgvc-aircraft-2013b_TRADES_v2.pkl\n",
      "../results/full_fine_tuning_50epochs_edge_paper_final2/efficientnet-b0_fgvc-aircraft-2013b_TRADES_v2.pkl\n",
      "../results/full_fine_tuning_50epochs_edge_paper_final2/deit_tiny_patch16_224.fb_in1k_fgvc-aircraft-2013b_TRADES_v2.pkl\n",
      "../results/full_fine_tuning_50epochs_edge_paper_final2/mobilevit-small_fgvc-aircraft-2013b_TRADES_v2.pkl\n",
      "../results/full_fine_tuning_50epochs_edge_paper_final2/mobilenetv3_large_100.ra_in1k_fgvc-aircraft-2013b_TRADES_v2.pkl\n",
      "../results/full_fine_tuning_50epochs_edge_paper_final2/edgenext_small.usi_in1k_fgvc-aircraft-2013b_TRADES_v2.pkl\n",
      "../results/full_fine_tuning_50epochs_edge_paper_final2/coat_tiny.in1k_fgvc-aircraft-2013b_TRADES_v2.pkl\n",
      "../results/full_fine_tuning_50epochs_paper_final2/coat_tiny.in1k_fgvc-aircraft-2013b_TRADES_v2.pkl\n",
      "../results/full_fine_tuning_50epochs_paper_final2/CLIP-convnext_base_w-laion_aesthetic-s13B-b82K_flowers-102_TRADES_v2.pkl\n",
      "../results/full_fine_tuning_50epochs_paper_final2/CLIP-convnext_base_w-laion2B-s13B-b82K_flowers-102_TRADES_v2.pkl\n",
      "../results/full_fine_tuning_50epochs_paper_final2/deit_small_patch16_224.fb_in1k_flowers-102_TRADES_v2.pkl\n",
      "../results/full_fine_tuning_50epochs_paper_final2/robust_resnet50_flowers-102_TRADES_v2.pkl\n",
      "../results/full_fine_tuning_50epochs_paper_final2/vit_small_patch16_224.augreg_in21k_flowers-102_TRADES_v2.pkl\n",
      "../results/full_fine_tuning_50epochs_paper_final2/convnext_base.fb_in1k_flowers-102_TRADES_v2.pkl\n",
      "../results/full_fine_tuning_50epochs_paper_final2/resnet50.a1_in1k_flowers-102_TRADES_v2.pkl\n",
      "../results/full_fine_tuning_50epochs_paper_final2/robust_vit_base_patch16_224_flowers-102_TRADES_v2.pkl\n",
      "../results/full_fine_tuning_50epochs_paper_final2/vit_base_patch16_224.mae_flowers-102_TRADES_v2.pkl\n",
      "../results/full_fine_tuning_50epochs_paper_final2/vit_small_patch16_224.dino_flowers-102_TRADES_v2.pkl\n",
      "../results/full_fine_tuning_50epochs_paper_final2/convnext_base.fb_in22k_flowers-102_TRADES_v2.pkl\n",
      "../results/full_fine_tuning_50epochs_paper_final2/robust_convnext_base_flowers-102_TRADES_v2.pkl\n",
      "../results/full_fine_tuning_50epochs_paper_final2/vit_base_patch16_224.augreg_in1k_flowers-102_TRADES_v2.pkl\n",
      "../results/full_fine_tuning_50epochs_paper_final2/vit_base_patch16_224.augreg_in21k_flowers-102_TRADES_v2.pkl\n",
      "../results/full_fine_tuning_50epochs_paper_final2/vit_base_patch16_clip_224.laion2b_flowers-102_TRADES_v2.pkl\n",
      "../results/full_fine_tuning_50epochs_paper_final2/convnext_tiny.fb_in1k_flowers-102_TRADES_v2.pkl\n",
      "../results/full_fine_tuning_50epochs_paper_final2/robust_convnext_tiny_flowers-102_TRADES_v2.pkl\n",
      "../results/full_fine_tuning_50epochs_paper_final2/robust_deit_small_patch16_224_flowers-102_TRADES_v2.pkl\n",
      "../results/full_fine_tuning_50epochs_paper_final2/vit_small_patch16_224.augreg_in1k_flowers-102_TRADES_v2.pkl\n",
      "../results/full_fine_tuning_50epochs_paper_final2/convnext_tiny.fb_in22k_flowers-102_TRADES_v2.pkl\n",
      "../results/full_fine_tuning_50epochs_paper_final2/vit_base_patch16_clip_224.laion2b_ft_in1k_flowers-102_TRADES_v2.pkl\n",
      "../results/full_fine_tuning_50epochs_paper_final2/vit_base_patch16_224.augreg_in21k_ft_in1k_flowers-102_TRADES_v2.pkl\n",
      "../results/full_fine_tuning_50epochs_paper_final2/vit_small_patch16_224.augreg_in21k_ft_in1k_flowers-102_TRADES_v2.pkl\n",
      "../results/full_fine_tuning_50epochs_paper_final2/eva02_base_patch14_224.mim_in22k_flowers-102_TRADES_v2.pkl\n",
      "../results/full_fine_tuning_50epochs_paper_final2/eva02_tiny_patch14_224.mim_in22k_flowers-102_TRADES_v2.pkl\n",
      "../results/full_fine_tuning_50epochs_paper_final2/swin_base_patch4_window7_224.ms_in22k_ft_in1k_flowers-102_TRADES_v2.pkl\n",
      "../results/full_fine_tuning_50epochs_paper_final2/swin_tiny_patch4_window7_224.ms_in1k_flowers-102_TRADES_v2.pkl\n",
      "../results/full_fine_tuning_50epochs_paper_final2/convnext_base.clip_laion2b_augreg_ft_in12k_in1k_flowers-102_TRADES_v2.pkl\n",
      "../results/full_fine_tuning_50epochs_paper_final2/convnext_base.fb_in22k_ft_in1k_flowers-102_TRADES_v2.pkl\n",
      "../results/full_fine_tuning_50epochs_paper_final2/convnext_tiny.fb_in22k_ft_in1k_flowers-102_TRADES_v2.pkl\n",
      "../results/full_fine_tuning_50epochs_paper_final2/coatnet_0_rw_224.sw_in1k_flowers-102_TRADES_v2.pkl\n",
      "../results/full_fine_tuning_50epochs_paper_final2/coatnet_2_rw_224.sw_in12k_ft_in1k_flowers-102_TRADES_v2.pkl\n",
      "../results/full_fine_tuning_50epochs_paper_final2/coatnet_2_rw_224.sw_in12k_flowers-102_TRADES_v2.pkl\n",
      "../results/full_fine_tuning_50epochs_edge_paper_final2/regnetx_004.pycls_in1k_flowers-102_TRADES_v2.pkl\n",
      "../results/full_fine_tuning_50epochs_edge_paper_final2/efficientnet-b0_flowers-102_TRADES_v2.pkl\n",
      "../results/full_fine_tuning_50epochs_edge_paper_final2/deit_tiny_patch16_224.fb_in1k_flowers-102_TRADES_v2.pkl\n",
      "../results/full_fine_tuning_50epochs_edge_paper_final2/mobilevit-small_flowers-102_TRADES_v2.pkl\n",
      "../results/full_fine_tuning_50epochs_edge_paper_final2/mobilenetv3_large_100.ra_in1k_flowers-102_TRADES_v2.pkl\n",
      "../results/full_fine_tuning_50epochs_edge_paper_final2/edgenext_small.usi_in1k_flowers-102_TRADES_v2.pkl\n",
      "../results/full_fine_tuning_50epochs_edge_paper_final2/coat_tiny.in1k_flowers-102_TRADES_v2.pkl\n",
      "../results/full_fine_tuning_50epochs_paper_final2/coat_tiny.in1k_flowers-102_TRADES_v2.pkl\n",
      "../results/full_fine_tuning_50epochs_paper_final2/CLIP-convnext_base_w-laion_aesthetic-s13B-b82K_oxford-iiit-pet_TRADES_v2.pkl\n",
      "../results/full_fine_tuning_50epochs_paper_final2/CLIP-convnext_base_w-laion2B-s13B-b82K_oxford-iiit-pet_TRADES_v2.pkl\n",
      "../results/full_fine_tuning_50epochs_paper_final2/deit_small_patch16_224.fb_in1k_oxford-iiit-pet_TRADES_v2.pkl\n",
      "../results/full_fine_tuning_50epochs_paper_final2/robust_resnet50_oxford-iiit-pet_TRADES_v2.pkl\n",
      "../results/full_fine_tuning_50epochs_paper_final2/vit_small_patch16_224.augreg_in21k_oxford-iiit-pet_TRADES_v2.pkl\n",
      "../results/full_fine_tuning_50epochs_paper_final2/convnext_base.fb_in1k_oxford-iiit-pet_TRADES_v2.pkl\n",
      "../results/full_fine_tuning_50epochs_paper_final2/resnet50.a1_in1k_oxford-iiit-pet_TRADES_v2.pkl\n",
      "../results/full_fine_tuning_50epochs_paper_final2/robust_vit_base_patch16_224_oxford-iiit-pet_TRADES_v2.pkl\n",
      "../results/full_fine_tuning_50epochs_paper_final2/vit_base_patch16_224.mae_oxford-iiit-pet_TRADES_v2.pkl\n",
      "../results/full_fine_tuning_50epochs_paper_final2/vit_small_patch16_224.dino_oxford-iiit-pet_TRADES_v2.pkl\n",
      "../results/full_fine_tuning_50epochs_paper_final2/convnext_base.fb_in22k_oxford-iiit-pet_TRADES_v2.pkl\n",
      "../results/full_fine_tuning_50epochs_paper_final2/robust_convnext_base_oxford-iiit-pet_TRADES_v2.pkl\n",
      "../results/full_fine_tuning_50epochs_paper_final2/vit_base_patch16_224.augreg_in1k_oxford-iiit-pet_TRADES_v2.pkl\n",
      "../results/full_fine_tuning_50epochs_paper_final2/vit_base_patch16_224.augreg_in21k_oxford-iiit-pet_TRADES_v2.pkl\n",
      "../results/full_fine_tuning_50epochs_paper_final2/vit_base_patch16_clip_224.laion2b_oxford-iiit-pet_TRADES_v2.pkl\n",
      "../results/full_fine_tuning_50epochs_paper_final2/convnext_tiny.fb_in1k_oxford-iiit-pet_TRADES_v2.pkl\n",
      "../results/full_fine_tuning_50epochs_paper_final2/robust_convnext_tiny_oxford-iiit-pet_TRADES_v2.pkl\n",
      "../results/full_fine_tuning_50epochs_paper_final2/robust_deit_small_patch16_224_oxford-iiit-pet_TRADES_v2.pkl\n",
      "../results/full_fine_tuning_50epochs_paper_final2/vit_small_patch16_224.augreg_in1k_oxford-iiit-pet_TRADES_v2.pkl\n",
      "../results/full_fine_tuning_50epochs_paper_final2/convnext_tiny.fb_in22k_oxford-iiit-pet_TRADES_v2.pkl\n",
      "../results/full_fine_tuning_50epochs_paper_final2/vit_base_patch16_clip_224.laion2b_ft_in1k_oxford-iiit-pet_TRADES_v2.pkl\n",
      "../results/full_fine_tuning_50epochs_paper_final2/vit_base_patch16_224.augreg_in21k_ft_in1k_oxford-iiit-pet_TRADES_v2.pkl\n",
      "../results/full_fine_tuning_50epochs_paper_final2/vit_small_patch16_224.augreg_in21k_ft_in1k_oxford-iiit-pet_TRADES_v2.pkl\n",
      "../results/full_fine_tuning_50epochs_paper_final2/eva02_base_patch14_224.mim_in22k_oxford-iiit-pet_TRADES_v2.pkl\n",
      "../results/full_fine_tuning_50epochs_paper_final2/eva02_tiny_patch14_224.mim_in22k_oxford-iiit-pet_TRADES_v2.pkl\n",
      "../results/full_fine_tuning_50epochs_paper_final2/swin_base_patch4_window7_224.ms_in22k_ft_in1k_oxford-iiit-pet_TRADES_v2.pkl\n",
      "../results/full_fine_tuning_50epochs_paper_final2/swin_tiny_patch4_window7_224.ms_in1k_oxford-iiit-pet_TRADES_v2.pkl\n",
      "../results/full_fine_tuning_50epochs_paper_final2/convnext_base.clip_laion2b_augreg_ft_in12k_in1k_oxford-iiit-pet_TRADES_v2.pkl\n",
      "../results/full_fine_tuning_50epochs_paper_final2/convnext_base.fb_in22k_ft_in1k_oxford-iiit-pet_TRADES_v2.pkl\n",
      "../results/full_fine_tuning_50epochs_paper_final2/convnext_tiny.fb_in22k_ft_in1k_oxford-iiit-pet_TRADES_v2.pkl\n",
      "../results/full_fine_tuning_50epochs_paper_final2/coatnet_0_rw_224.sw_in1k_oxford-iiit-pet_TRADES_v2.pkl\n",
      "../results/full_fine_tuning_50epochs_paper_final2/coatnet_2_rw_224.sw_in12k_ft_in1k_oxford-iiit-pet_TRADES_v2.pkl\n",
      "../results/full_fine_tuning_50epochs_paper_final2/coatnet_2_rw_224.sw_in12k_oxford-iiit-pet_TRADES_v2.pkl\n",
      "../results/full_fine_tuning_50epochs_edge_paper_final2/regnetx_004.pycls_in1k_oxford-iiit-pet_TRADES_v2.pkl\n",
      "../results/full_fine_tuning_50epochs_edge_paper_final2/efficientnet-b0_oxford-iiit-pet_TRADES_v2.pkl\n",
      "../results/full_fine_tuning_50epochs_edge_paper_final2/deit_tiny_patch16_224.fb_in1k_oxford-iiit-pet_TRADES_v2.pkl\n",
      "../results/full_fine_tuning_50epochs_edge_paper_final2/mobilevit-small_oxford-iiit-pet_TRADES_v2.pkl\n",
      "../results/full_fine_tuning_50epochs_edge_paper_final2/mobilenetv3_large_100.ra_in1k_oxford-iiit-pet_TRADES_v2.pkl\n",
      "../results/full_fine_tuning_50epochs_edge_paper_final2/edgenext_small.usi_in1k_oxford-iiit-pet_TRADES_v2.pkl\n",
      "../results/full_fine_tuning_50epochs_edge_paper_final2/coat_tiny.in1k_oxford-iiit-pet_TRADES_v2.pkl\n",
      "../results/full_fine_tuning_50epochs_paper_final2/coat_tiny.in1k_oxford-iiit-pet_TRADES_v2.pkl\n",
      "../results/full_fine_tuning_50epochs_paper_final2/CLIP-convnext_base_w-laion_aesthetic-s13B-b82K_uc-merced-land-use-dataset_CLASSIC_AT.pkl\n",
      "../results/full_fine_tuning_50epochs_paper_final2/CLIP-convnext_base_w-laion2B-s13B-b82K_uc-merced-land-use-dataset_CLASSIC_AT.pkl\n",
      "../results/full_fine_tuning_50epochs_paper_final2/deit_small_patch16_224.fb_in1k_uc-merced-land-use-dataset_CLASSIC_AT.pkl\n",
      "../results/full_fine_tuning_50epochs_paper_final2/robust_resnet50_uc-merced-land-use-dataset_CLASSIC_AT.pkl\n",
      "../results/full_fine_tuning_50epochs_paper_final2/vit_small_patch16_224.augreg_in21k_uc-merced-land-use-dataset_CLASSIC_AT.pkl\n",
      "../results/full_fine_tuning_50epochs_paper_final2/convnext_base.fb_in1k_uc-merced-land-use-dataset_CLASSIC_AT.pkl\n",
      "../results/full_fine_tuning_50epochs_paper_final2/resnet50.a1_in1k_uc-merced-land-use-dataset_CLASSIC_AT.pkl\n",
      "../results/full_fine_tuning_50epochs_paper_final2/robust_vit_base_patch16_224_uc-merced-land-use-dataset_CLASSIC_AT.pkl\n",
      "../results/full_fine_tuning_50epochs_paper_final2/vit_base_patch16_224.mae_uc-merced-land-use-dataset_CLASSIC_AT.pkl\n",
      "../results/full_fine_tuning_50epochs_paper_final2/vit_small_patch16_224.dino_uc-merced-land-use-dataset_CLASSIC_AT.pkl\n",
      "../results/full_fine_tuning_50epochs_paper_final2/convnext_base.fb_in22k_uc-merced-land-use-dataset_CLASSIC_AT.pkl\n",
      "../results/full_fine_tuning_50epochs_paper_final2/robust_convnext_base_uc-merced-land-use-dataset_CLASSIC_AT.pkl\n",
      "../results/full_fine_tuning_50epochs_paper_final2/vit_base_patch16_224.augreg_in1k_uc-merced-land-use-dataset_CLASSIC_AT.pkl\n",
      "../results/full_fine_tuning_50epochs_paper_final2/vit_base_patch16_224.augreg_in21k_uc-merced-land-use-dataset_CLASSIC_AT.pkl\n",
      "../results/full_fine_tuning_50epochs_paper_final2/vit_base_patch16_clip_224.laion2b_uc-merced-land-use-dataset_CLASSIC_AT.pkl\n",
      "../results/full_fine_tuning_50epochs_paper_final2/convnext_tiny.fb_in1k_uc-merced-land-use-dataset_CLASSIC_AT.pkl\n",
      "../results/full_fine_tuning_50epochs_paper_final2/robust_convnext_tiny_uc-merced-land-use-dataset_CLASSIC_AT.pkl\n",
      "../results/full_fine_tuning_50epochs_paper_final2/robust_deit_small_patch16_224_uc-merced-land-use-dataset_CLASSIC_AT.pkl\n",
      "../results/full_fine_tuning_50epochs_paper_final2/vit_small_patch16_224.augreg_in1k_uc-merced-land-use-dataset_CLASSIC_AT.pkl\n",
      "../results/full_fine_tuning_50epochs_paper_final2/convnext_tiny.fb_in22k_uc-merced-land-use-dataset_CLASSIC_AT.pkl\n",
      "../results/full_fine_tuning_50epochs_paper_final2/vit_base_patch16_clip_224.laion2b_ft_in1k_uc-merced-land-use-dataset_CLASSIC_AT.pkl\n",
      "../results/full_fine_tuning_50epochs_paper_final2/vit_base_patch16_224.augreg_in21k_ft_in1k_uc-merced-land-use-dataset_CLASSIC_AT.pkl\n",
      "../results/full_fine_tuning_50epochs_paper_final2/vit_small_patch16_224.augreg_in21k_ft_in1k_uc-merced-land-use-dataset_CLASSIC_AT.pkl\n",
      "../results/full_fine_tuning_50epochs_paper_final2/eva02_base_patch14_224.mim_in22k_uc-merced-land-use-dataset_CLASSIC_AT.pkl\n",
      "../results/full_fine_tuning_50epochs_paper_final2/eva02_tiny_patch14_224.mim_in22k_uc-merced-land-use-dataset_CLASSIC_AT.pkl\n",
      "../results/full_fine_tuning_50epochs_paper_final2/swin_base_patch4_window7_224.ms_in22k_ft_in1k_uc-merced-land-use-dataset_CLASSIC_AT.pkl\n",
      "../results/full_fine_tuning_50epochs_paper_final2/swin_tiny_patch4_window7_224.ms_in1k_uc-merced-land-use-dataset_CLASSIC_AT.pkl\n",
      "../results/full_fine_tuning_50epochs_paper_final2/convnext_base.clip_laion2b_augreg_ft_in12k_in1k_uc-merced-land-use-dataset_CLASSIC_AT.pkl\n",
      "../results/full_fine_tuning_50epochs_paper_final2/convnext_base.fb_in22k_ft_in1k_uc-merced-land-use-dataset_CLASSIC_AT.pkl\n",
      "../results/full_fine_tuning_50epochs_paper_final2/convnext_tiny.fb_in22k_ft_in1k_uc-merced-land-use-dataset_CLASSIC_AT.pkl\n",
      "../results/full_fine_tuning_50epochs_paper_final2/coatnet_0_rw_224.sw_in1k_uc-merced-land-use-dataset_CLASSIC_AT.pkl\n",
      "../results/full_fine_tuning_50epochs_paper_final2/coatnet_2_rw_224.sw_in12k_ft_in1k_uc-merced-land-use-dataset_CLASSIC_AT.pkl\n",
      "../results/full_fine_tuning_50epochs_paper_final2/coatnet_2_rw_224.sw_in12k_uc-merced-land-use-dataset_CLASSIC_AT.pkl\n",
      "../results/full_fine_tuning_50epochs_edge_paper_final2/regnetx_004.pycls_in1k_uc-merced-land-use-dataset_CLASSIC_AT.pkl\n",
      "../results/full_fine_tuning_50epochs_edge_paper_final2/efficientnet-b0_uc-merced-land-use-dataset_CLASSIC_AT.pkl\n",
      "../results/full_fine_tuning_50epochs_edge_paper_final2/deit_tiny_patch16_224.fb_in1k_uc-merced-land-use-dataset_CLASSIC_AT.pkl\n",
      "../results/full_fine_tuning_50epochs_edge_paper_final2/mobilevit-small_uc-merced-land-use-dataset_CLASSIC_AT.pkl\n",
      "../results/full_fine_tuning_50epochs_edge_paper_final2/mobilenetv3_large_100.ra_in1k_uc-merced-land-use-dataset_CLASSIC_AT.pkl\n",
      "../results/full_fine_tuning_50epochs_edge_paper_final2/edgenext_small.usi_in1k_uc-merced-land-use-dataset_CLASSIC_AT.pkl\n",
      "../results/full_fine_tuning_50epochs_edge_paper_final2/coat_tiny.in1k_uc-merced-land-use-dataset_CLASSIC_AT.pkl\n",
      "../results/full_fine_tuning_50epochs_paper_final2/CLIP-convnext_base_w-laion_aesthetic-s13B-b82K_stanford_cars_CLASSIC_AT.pkl\n",
      "../results/full_fine_tuning_50epochs_paper_final2/CLIP-convnext_base_w-laion2B-s13B-b82K_stanford_cars_CLASSIC_AT.pkl\n",
      "../results/full_fine_tuning_50epochs_paper_final2/deit_small_patch16_224.fb_in1k_stanford_cars_CLASSIC_AT.pkl\n",
      "../results/full_fine_tuning_50epochs_paper_final2/robust_resnet50_stanford_cars_CLASSIC_AT.pkl\n",
      "../results/full_fine_tuning_50epochs_paper_final2/vit_small_patch16_224.augreg_in21k_stanford_cars_CLASSIC_AT.pkl\n",
      "../results/full_fine_tuning_50epochs_paper_final2/convnext_base.fb_in1k_stanford_cars_CLASSIC_AT.pkl\n",
      "../results/full_fine_tuning_50epochs_paper_final2/resnet50.a1_in1k_stanford_cars_CLASSIC_AT.pkl\n",
      "../results/full_fine_tuning_50epochs_paper_final2/robust_vit_base_patch16_224_stanford_cars_CLASSIC_AT.pkl\n",
      "../results/full_fine_tuning_50epochs_paper_final2/vit_base_patch16_224.mae_stanford_cars_CLASSIC_AT.pkl\n",
      "../results/full_fine_tuning_50epochs_paper_final2/vit_small_patch16_224.dino_stanford_cars_CLASSIC_AT.pkl\n",
      "../results/full_fine_tuning_50epochs_paper_final2/convnext_base.fb_in22k_stanford_cars_CLASSIC_AT.pkl\n",
      "../results/full_fine_tuning_50epochs_paper_final2/robust_convnext_base_stanford_cars_CLASSIC_AT.pkl\n",
      "../results/full_fine_tuning_50epochs_paper_final2/vit_base_patch16_224.augreg_in1k_stanford_cars_CLASSIC_AT.pkl\n",
      "../results/full_fine_tuning_50epochs_paper_final2/vit_base_patch16_224.augreg_in21k_stanford_cars_CLASSIC_AT.pkl\n",
      "../results/full_fine_tuning_50epochs_paper_final2/vit_base_patch16_clip_224.laion2b_stanford_cars_CLASSIC_AT.pkl\n",
      "../results/full_fine_tuning_50epochs_paper_final2/convnext_tiny.fb_in1k_stanford_cars_CLASSIC_AT.pkl\n",
      "../results/full_fine_tuning_50epochs_paper_final2/robust_convnext_tiny_stanford_cars_CLASSIC_AT.pkl\n",
      "../results/full_fine_tuning_50epochs_paper_final2/robust_deit_small_patch16_224_stanford_cars_CLASSIC_AT.pkl\n",
      "../results/full_fine_tuning_50epochs_paper_final2/vit_small_patch16_224.augreg_in1k_stanford_cars_CLASSIC_AT.pkl\n",
      "../results/full_fine_tuning_50epochs_paper_final2/convnext_tiny.fb_in22k_stanford_cars_CLASSIC_AT.pkl\n",
      "../results/full_fine_tuning_50epochs_paper_final2/vit_base_patch16_clip_224.laion2b_ft_in1k_stanford_cars_CLASSIC_AT.pkl\n",
      "../results/full_fine_tuning_50epochs_paper_final2/vit_base_patch16_224.augreg_in21k_ft_in1k_stanford_cars_CLASSIC_AT.pkl\n",
      "../results/full_fine_tuning_50epochs_paper_final2/vit_small_patch16_224.augreg_in21k_ft_in1k_stanford_cars_CLASSIC_AT.pkl\n",
      "../results/full_fine_tuning_50epochs_paper_final2/eva02_base_patch14_224.mim_in22k_stanford_cars_CLASSIC_AT.pkl\n",
      "../results/full_fine_tuning_50epochs_paper_final2/eva02_tiny_patch14_224.mim_in22k_stanford_cars_CLASSIC_AT.pkl\n",
      "../results/full_fine_tuning_50epochs_paper_final2/swin_base_patch4_window7_224.ms_in22k_ft_in1k_stanford_cars_CLASSIC_AT.pkl\n",
      "../results/full_fine_tuning_50epochs_paper_final2/swin_tiny_patch4_window7_224.ms_in1k_stanford_cars_CLASSIC_AT.pkl\n",
      "../results/full_fine_tuning_50epochs_paper_final2/convnext_base.clip_laion2b_augreg_ft_in12k_in1k_stanford_cars_CLASSIC_AT.pkl\n",
      "../results/full_fine_tuning_50epochs_paper_final2/convnext_base.fb_in22k_ft_in1k_stanford_cars_CLASSIC_AT.pkl\n",
      "../results/full_fine_tuning_50epochs_paper_final2/convnext_tiny.fb_in22k_ft_in1k_stanford_cars_CLASSIC_AT.pkl\n",
      "../results/full_fine_tuning_50epochs_paper_final2/coatnet_0_rw_224.sw_in1k_stanford_cars_CLASSIC_AT.pkl\n",
      "../results/full_fine_tuning_50epochs_paper_final2/coatnet_2_rw_224.sw_in12k_ft_in1k_stanford_cars_CLASSIC_AT.pkl\n",
      "../results/full_fine_tuning_50epochs_paper_final2/coatnet_2_rw_224.sw_in12k_stanford_cars_CLASSIC_AT.pkl\n",
      "../results/full_fine_tuning_50epochs_edge_paper_final2/regnetx_004.pycls_in1k_stanford_cars_CLASSIC_AT.pkl\n",
      "../results/full_fine_tuning_50epochs_edge_paper_final2/efficientnet-b0_stanford_cars_CLASSIC_AT.pkl\n",
      "../results/full_fine_tuning_50epochs_edge_paper_final2/deit_tiny_patch16_224.fb_in1k_stanford_cars_CLASSIC_AT.pkl\n",
      "../results/full_fine_tuning_50epochs_edge_paper_final2/mobilevit-small_stanford_cars_CLASSIC_AT.pkl\n",
      "../results/full_fine_tuning_50epochs_edge_paper_final2/mobilenetv3_large_100.ra_in1k_stanford_cars_CLASSIC_AT.pkl\n",
      "../results/full_fine_tuning_50epochs_edge_paper_final2/edgenext_small.usi_in1k_stanford_cars_CLASSIC_AT.pkl\n",
      "../results/full_fine_tuning_50epochs_edge_paper_final2/coat_tiny.in1k_stanford_cars_CLASSIC_AT.pkl\n",
      "../results/full_fine_tuning_50epochs_paper_final2/CLIP-convnext_base_w-laion_aesthetic-s13B-b82K_caltech101_CLASSIC_AT.pkl\n",
      "../results/full_fine_tuning_50epochs_paper_final2/CLIP-convnext_base_w-laion2B-s13B-b82K_caltech101_CLASSIC_AT.pkl\n",
      "../results/full_fine_tuning_50epochs_paper_final2/deit_small_patch16_224.fb_in1k_caltech101_CLASSIC_AT.pkl\n",
      "../results/full_fine_tuning_50epochs_paper_final2/robust_resnet50_caltech101_CLASSIC_AT.pkl\n",
      "../results/full_fine_tuning_50epochs_paper_final2/vit_small_patch16_224.augreg_in21k_caltech101_CLASSIC_AT.pkl\n",
      "../results/full_fine_tuning_50epochs_paper_final2/convnext_base.fb_in1k_caltech101_CLASSIC_AT.pkl\n",
      "../results/full_fine_tuning_50epochs_paper_final2/resnet50.a1_in1k_caltech101_CLASSIC_AT.pkl\n",
      "../results/full_fine_tuning_50epochs_paper_final2/robust_vit_base_patch16_224_caltech101_CLASSIC_AT.pkl\n",
      "../results/full_fine_tuning_50epochs_paper_final2/vit_base_patch16_224.mae_caltech101_CLASSIC_AT.pkl\n",
      "../results/full_fine_tuning_50epochs_paper_final2/vit_small_patch16_224.dino_caltech101_CLASSIC_AT.pkl\n",
      "../results/full_fine_tuning_50epochs_paper_final2/convnext_base.fb_in22k_caltech101_CLASSIC_AT.pkl\n",
      "../results/full_fine_tuning_50epochs_paper_final2/robust_convnext_base_caltech101_CLASSIC_AT.pkl\n",
      "../results/full_fine_tuning_50epochs_paper_final2/vit_base_patch16_224.augreg_in1k_caltech101_CLASSIC_AT.pkl\n",
      "../results/full_fine_tuning_50epochs_paper_final2/vit_base_patch16_224.augreg_in21k_caltech101_CLASSIC_AT.pkl\n",
      "../results/full_fine_tuning_50epochs_paper_final2/vit_base_patch16_clip_224.laion2b_caltech101_CLASSIC_AT.pkl\n",
      "../results/full_fine_tuning_50epochs_paper_final2/convnext_tiny.fb_in1k_caltech101_CLASSIC_AT.pkl\n",
      "../results/full_fine_tuning_50epochs_paper_final2/robust_convnext_tiny_caltech101_CLASSIC_AT.pkl\n",
      "../results/full_fine_tuning_50epochs_paper_final2/robust_deit_small_patch16_224_caltech101_CLASSIC_AT.pkl\n",
      "../results/full_fine_tuning_50epochs_paper_final2/vit_small_patch16_224.augreg_in1k_caltech101_CLASSIC_AT.pkl\n",
      "../results/full_fine_tuning_50epochs_paper_final2/convnext_tiny.fb_in22k_caltech101_CLASSIC_AT.pkl\n",
      "../results/full_fine_tuning_50epochs_paper_final2/vit_base_patch16_clip_224.laion2b_ft_in1k_caltech101_CLASSIC_AT.pkl\n",
      "../results/full_fine_tuning_50epochs_paper_final2/vit_base_patch16_224.augreg_in21k_ft_in1k_caltech101_CLASSIC_AT.pkl\n",
      "../results/full_fine_tuning_50epochs_paper_final2/vit_small_patch16_224.augreg_in21k_ft_in1k_caltech101_CLASSIC_AT.pkl\n",
      "../results/full_fine_tuning_50epochs_paper_final2/eva02_base_patch14_224.mim_in22k_caltech101_CLASSIC_AT.pkl\n",
      "../results/full_fine_tuning_50epochs_paper_final2/eva02_tiny_patch14_224.mim_in22k_caltech101_CLASSIC_AT.pkl\n",
      "../results/full_fine_tuning_50epochs_paper_final2/swin_base_patch4_window7_224.ms_in22k_ft_in1k_caltech101_CLASSIC_AT.pkl\n",
      "../results/full_fine_tuning_50epochs_paper_final2/swin_tiny_patch4_window7_224.ms_in1k_caltech101_CLASSIC_AT.pkl\n",
      "../results/full_fine_tuning_50epochs_paper_final2/convnext_base.clip_laion2b_augreg_ft_in12k_in1k_caltech101_CLASSIC_AT.pkl\n",
      "../results/full_fine_tuning_50epochs_paper_final2/convnext_base.fb_in22k_ft_in1k_caltech101_CLASSIC_AT.pkl\n",
      "../results/full_fine_tuning_50epochs_paper_final2/convnext_tiny.fb_in22k_ft_in1k_caltech101_CLASSIC_AT.pkl\n",
      "../results/full_fine_tuning_50epochs_paper_final2/coatnet_0_rw_224.sw_in1k_caltech101_CLASSIC_AT.pkl\n",
      "../results/full_fine_tuning_50epochs_paper_final2/coatnet_2_rw_224.sw_in12k_ft_in1k_caltech101_CLASSIC_AT.pkl\n",
      "../results/full_fine_tuning_50epochs_paper_final2/coatnet_2_rw_224.sw_in12k_caltech101_CLASSIC_AT.pkl\n",
      "../results/full_fine_tuning_50epochs_edge_paper_final2/regnetx_004.pycls_in1k_caltech101_CLASSIC_AT.pkl\n",
      "../results/full_fine_tuning_50epochs_edge_paper_final2/efficientnet-b0_caltech101_CLASSIC_AT.pkl\n",
      "../results/full_fine_tuning_50epochs_edge_paper_final2/deit_tiny_patch16_224.fb_in1k_caltech101_CLASSIC_AT.pkl\n",
      "../results/full_fine_tuning_50epochs_edge_paper_final2/mobilevit-small_caltech101_CLASSIC_AT.pkl\n",
      "../results/full_fine_tuning_50epochs_edge_paper_final2/mobilenetv3_large_100.ra_in1k_caltech101_CLASSIC_AT.pkl\n",
      "../results/full_fine_tuning_50epochs_edge_paper_final2/edgenext_small.usi_in1k_caltech101_CLASSIC_AT.pkl\n",
      "../results/full_fine_tuning_50epochs_edge_paper_final2/coat_tiny.in1k_caltech101_CLASSIC_AT.pkl\n",
      "../results/full_fine_tuning_50epochs_paper_final2/coat_tiny.in1k_caltech101_CLASSIC_AT.pkl\n",
      "../results/full_fine_tuning_50epochs_paper_final2/CLIP-convnext_base_w-laion_aesthetic-s13B-b82K_fgvc-aircraft-2013b_CLASSIC_AT.pkl\n",
      "../results/full_fine_tuning_50epochs_paper_final2/CLIP-convnext_base_w-laion2B-s13B-b82K_fgvc-aircraft-2013b_CLASSIC_AT.pkl\n",
      "../results/full_fine_tuning_50epochs_paper_final2/deit_small_patch16_224.fb_in1k_fgvc-aircraft-2013b_CLASSIC_AT.pkl\n",
      "../results/full_fine_tuning_50epochs_paper_final2/robust_resnet50_fgvc-aircraft-2013b_CLASSIC_AT.pkl\n",
      "../results/full_fine_tuning_50epochs_paper_final2/vit_small_patch16_224.augreg_in21k_fgvc-aircraft-2013b_CLASSIC_AT.pkl\n",
      "../results/full_fine_tuning_50epochs_paper_final2/convnext_base.fb_in1k_fgvc-aircraft-2013b_CLASSIC_AT.pkl\n",
      "../results/full_fine_tuning_50epochs_paper_final2/resnet50.a1_in1k_fgvc-aircraft-2013b_CLASSIC_AT.pkl\n",
      "../results/full_fine_tuning_50epochs_paper_final2/robust_vit_base_patch16_224_fgvc-aircraft-2013b_CLASSIC_AT.pkl\n",
      "../results/full_fine_tuning_50epochs_paper_final2/vit_base_patch16_224.mae_fgvc-aircraft-2013b_CLASSIC_AT.pkl\n",
      "../results/full_fine_tuning_50epochs_paper_final2/vit_small_patch16_224.dino_fgvc-aircraft-2013b_CLASSIC_AT.pkl\n",
      "../results/full_fine_tuning_50epochs_paper_final2/convnext_base.fb_in22k_fgvc-aircraft-2013b_CLASSIC_AT.pkl\n",
      "../results/full_fine_tuning_50epochs_paper_final2/robust_convnext_base_fgvc-aircraft-2013b_CLASSIC_AT.pkl\n",
      "../results/full_fine_tuning_50epochs_paper_final2/vit_base_patch16_224.augreg_in1k_fgvc-aircraft-2013b_CLASSIC_AT.pkl\n",
      "../results/full_fine_tuning_50epochs_paper_final2/vit_base_patch16_224.augreg_in21k_fgvc-aircraft-2013b_CLASSIC_AT.pkl\n",
      "../results/full_fine_tuning_50epochs_paper_final2/vit_base_patch16_clip_224.laion2b_fgvc-aircraft-2013b_CLASSIC_AT.pkl\n",
      "../results/full_fine_tuning_50epochs_paper_final2/convnext_tiny.fb_in1k_fgvc-aircraft-2013b_CLASSIC_AT.pkl\n",
      "../results/full_fine_tuning_50epochs_paper_final2/robust_convnext_tiny_fgvc-aircraft-2013b_CLASSIC_AT.pkl\n",
      "../results/full_fine_tuning_50epochs_paper_final2/robust_deit_small_patch16_224_fgvc-aircraft-2013b_CLASSIC_AT.pkl\n",
      "../results/full_fine_tuning_50epochs_paper_final2/vit_small_patch16_224.augreg_in1k_fgvc-aircraft-2013b_CLASSIC_AT.pkl\n",
      "../results/full_fine_tuning_50epochs_paper_final2/convnext_tiny.fb_in22k_fgvc-aircraft-2013b_CLASSIC_AT.pkl\n",
      "../results/full_fine_tuning_50epochs_paper_final2/vit_base_patch16_clip_224.laion2b_ft_in1k_fgvc-aircraft-2013b_CLASSIC_AT.pkl\n",
      "../results/full_fine_tuning_50epochs_paper_final2/vit_base_patch16_224.augreg_in21k_ft_in1k_fgvc-aircraft-2013b_CLASSIC_AT.pkl\n",
      "../results/full_fine_tuning_50epochs_paper_final2/vit_small_patch16_224.augreg_in21k_ft_in1k_fgvc-aircraft-2013b_CLASSIC_AT.pkl\n",
      "../results/full_fine_tuning_50epochs_paper_final2/eva02_base_patch14_224.mim_in22k_fgvc-aircraft-2013b_CLASSIC_AT.pkl\n",
      "../results/full_fine_tuning_50epochs_paper_final2/eva02_tiny_patch14_224.mim_in22k_fgvc-aircraft-2013b_CLASSIC_AT.pkl\n",
      "../results/full_fine_tuning_50epochs_paper_final2/swin_base_patch4_window7_224.ms_in22k_ft_in1k_fgvc-aircraft-2013b_CLASSIC_AT.pkl\n",
      "../results/full_fine_tuning_50epochs_paper_final2/swin_tiny_patch4_window7_224.ms_in1k_fgvc-aircraft-2013b_CLASSIC_AT.pkl\n",
      "../results/full_fine_tuning_50epochs_paper_final2/convnext_base.clip_laion2b_augreg_ft_in12k_in1k_fgvc-aircraft-2013b_CLASSIC_AT.pkl\n",
      "../results/full_fine_tuning_50epochs_paper_final2/convnext_base.fb_in22k_ft_in1k_fgvc-aircraft-2013b_CLASSIC_AT.pkl\n",
      "../results/full_fine_tuning_50epochs_paper_final2/convnext_tiny.fb_in22k_ft_in1k_fgvc-aircraft-2013b_CLASSIC_AT.pkl\n",
      "../results/full_fine_tuning_50epochs_paper_final2/coatnet_0_rw_224.sw_in1k_fgvc-aircraft-2013b_CLASSIC_AT.pkl\n",
      "../results/full_fine_tuning_50epochs_paper_final2/coatnet_2_rw_224.sw_in12k_ft_in1k_fgvc-aircraft-2013b_CLASSIC_AT.pkl\n",
      "../results/full_fine_tuning_50epochs_paper_final2/coatnet_2_rw_224.sw_in12k_fgvc-aircraft-2013b_CLASSIC_AT.pkl\n",
      "../results/full_fine_tuning_50epochs_edge_paper_final2/regnetx_004.pycls_in1k_fgvc-aircraft-2013b_CLASSIC_AT.pkl\n",
      "../results/full_fine_tuning_50epochs_edge_paper_final2/efficientnet-b0_fgvc-aircraft-2013b_CLASSIC_AT.pkl\n",
      "../results/full_fine_tuning_50epochs_edge_paper_final2/deit_tiny_patch16_224.fb_in1k_fgvc-aircraft-2013b_CLASSIC_AT.pkl\n",
      "../results/full_fine_tuning_50epochs_edge_paper_final2/mobilevit-small_fgvc-aircraft-2013b_CLASSIC_AT.pkl\n",
      "../results/full_fine_tuning_50epochs_edge_paper_final2/mobilenetv3_large_100.ra_in1k_fgvc-aircraft-2013b_CLASSIC_AT.pkl\n",
      "../results/full_fine_tuning_50epochs_edge_paper_final2/edgenext_small.usi_in1k_fgvc-aircraft-2013b_CLASSIC_AT.pkl\n",
      "../results/full_fine_tuning_50epochs_edge_paper_final2/coat_tiny.in1k_fgvc-aircraft-2013b_CLASSIC_AT.pkl\n",
      "../results/full_fine_tuning_50epochs_paper_final2/CLIP-convnext_base_w-laion_aesthetic-s13B-b82K_flowers-102_CLASSIC_AT.pkl\n",
      "../results/full_fine_tuning_50epochs_paper_final2/CLIP-convnext_base_w-laion2B-s13B-b82K_flowers-102_CLASSIC_AT.pkl\n",
      "../results/full_fine_tuning_50epochs_paper_final2/deit_small_patch16_224.fb_in1k_flowers-102_CLASSIC_AT.pkl\n",
      "../results/full_fine_tuning_50epochs_paper_final2/robust_resnet50_flowers-102_CLASSIC_AT.pkl\n",
      "../results/full_fine_tuning_50epochs_paper_final2/vit_small_patch16_224.augreg_in21k_flowers-102_CLASSIC_AT.pkl\n",
      "../results/full_fine_tuning_50epochs_paper_final2/convnext_base.fb_in1k_flowers-102_CLASSIC_AT.pkl\n",
      "../results/full_fine_tuning_50epochs_paper_final2/resnet50.a1_in1k_flowers-102_CLASSIC_AT.pkl\n",
      "../results/full_fine_tuning_50epochs_paper_final2/robust_vit_base_patch16_224_flowers-102_CLASSIC_AT.pkl\n",
      "../results/full_fine_tuning_50epochs_paper_final2/vit_base_patch16_224.mae_flowers-102_CLASSIC_AT.pkl\n",
      "../results/full_fine_tuning_50epochs_paper_final2/vit_small_patch16_224.dino_flowers-102_CLASSIC_AT.pkl\n",
      "../results/full_fine_tuning_50epochs_paper_final2/convnext_base.fb_in22k_flowers-102_CLASSIC_AT.pkl\n",
      "../results/full_fine_tuning_50epochs_paper_final2/robust_convnext_base_flowers-102_CLASSIC_AT.pkl\n",
      "../results/full_fine_tuning_50epochs_paper_final2/vit_base_patch16_224.augreg_in1k_flowers-102_CLASSIC_AT.pkl\n",
      "../results/full_fine_tuning_50epochs_paper_final2/vit_base_patch16_224.augreg_in21k_flowers-102_CLASSIC_AT.pkl\n",
      "../results/full_fine_tuning_50epochs_paper_final2/vit_base_patch16_clip_224.laion2b_flowers-102_CLASSIC_AT.pkl\n",
      "../results/full_fine_tuning_50epochs_paper_final2/convnext_tiny.fb_in1k_flowers-102_CLASSIC_AT.pkl\n",
      "../results/full_fine_tuning_50epochs_paper_final2/robust_convnext_tiny_flowers-102_CLASSIC_AT.pkl\n",
      "../results/full_fine_tuning_50epochs_paper_final2/robust_deit_small_patch16_224_flowers-102_CLASSIC_AT.pkl\n",
      "../results/full_fine_tuning_50epochs_paper_final2/vit_small_patch16_224.augreg_in1k_flowers-102_CLASSIC_AT.pkl\n",
      "../results/full_fine_tuning_50epochs_paper_final2/convnext_tiny.fb_in22k_flowers-102_CLASSIC_AT.pkl\n",
      "../results/full_fine_tuning_50epochs_paper_final2/vit_base_patch16_clip_224.laion2b_ft_in1k_flowers-102_CLASSIC_AT.pkl\n",
      "../results/full_fine_tuning_50epochs_paper_final2/vit_base_patch16_224.augreg_in21k_ft_in1k_flowers-102_CLASSIC_AT.pkl\n",
      "../results/full_fine_tuning_50epochs_paper_final2/vit_small_patch16_224.augreg_in21k_ft_in1k_flowers-102_CLASSIC_AT.pkl\n",
      "../results/full_fine_tuning_50epochs_paper_final2/eva02_base_patch14_224.mim_in22k_flowers-102_CLASSIC_AT.pkl\n",
      "../results/full_fine_tuning_50epochs_paper_final2/eva02_tiny_patch14_224.mim_in22k_flowers-102_CLASSIC_AT.pkl\n",
      "../results/full_fine_tuning_50epochs_paper_final2/swin_base_patch4_window7_224.ms_in22k_ft_in1k_flowers-102_CLASSIC_AT.pkl\n",
      "../results/full_fine_tuning_50epochs_paper_final2/swin_tiny_patch4_window7_224.ms_in1k_flowers-102_CLASSIC_AT.pkl\n",
      "../results/full_fine_tuning_50epochs_paper_final2/convnext_base.clip_laion2b_augreg_ft_in12k_in1k_flowers-102_CLASSIC_AT.pkl\n",
      "../results/full_fine_tuning_50epochs_paper_final2/convnext_base.fb_in22k_ft_in1k_flowers-102_CLASSIC_AT.pkl\n",
      "../results/full_fine_tuning_50epochs_paper_final2/convnext_tiny.fb_in22k_ft_in1k_flowers-102_CLASSIC_AT.pkl\n",
      "../results/full_fine_tuning_50epochs_paper_final2/coatnet_0_rw_224.sw_in1k_flowers-102_CLASSIC_AT.pkl\n",
      "../results/full_fine_tuning_50epochs_paper_final2/coatnet_2_rw_224.sw_in12k_ft_in1k_flowers-102_CLASSIC_AT.pkl\n",
      "../results/full_fine_tuning_50epochs_paper_final2/coatnet_2_rw_224.sw_in12k_flowers-102_CLASSIC_AT.pkl\n",
      "../results/full_fine_tuning_50epochs_edge_paper_final2/regnetx_004.pycls_in1k_flowers-102_CLASSIC_AT.pkl\n",
      "../results/full_fine_tuning_50epochs_edge_paper_final2/efficientnet-b0_flowers-102_CLASSIC_AT.pkl\n",
      "../results/full_fine_tuning_50epochs_edge_paper_final2/deit_tiny_patch16_224.fb_in1k_flowers-102_CLASSIC_AT.pkl\n",
      "../results/full_fine_tuning_50epochs_edge_paper_final2/mobilevit-small_flowers-102_CLASSIC_AT.pkl\n",
      "../results/full_fine_tuning_50epochs_edge_paper_final2/mobilenetv3_large_100.ra_in1k_flowers-102_CLASSIC_AT.pkl\n",
      "../results/full_fine_tuning_50epochs_edge_paper_final2/edgenext_small.usi_in1k_flowers-102_CLASSIC_AT.pkl\n",
      "../results/full_fine_tuning_50epochs_edge_paper_final2/coat_tiny.in1k_flowers-102_CLASSIC_AT.pkl\n",
      "../results/full_fine_tuning_50epochs_paper_final2/CLIP-convnext_base_w-laion_aesthetic-s13B-b82K_oxford-iiit-pet_CLASSIC_AT.pkl\n",
      "../results/full_fine_tuning_50epochs_paper_final2/CLIP-convnext_base_w-laion2B-s13B-b82K_oxford-iiit-pet_CLASSIC_AT.pkl\n",
      "../results/full_fine_tuning_50epochs_paper_final2/deit_small_patch16_224.fb_in1k_oxford-iiit-pet_CLASSIC_AT.pkl\n",
      "../results/full_fine_tuning_50epochs_paper_final2/robust_resnet50_oxford-iiit-pet_CLASSIC_AT.pkl\n",
      "../results/full_fine_tuning_50epochs_paper_final2/vit_small_patch16_224.augreg_in21k_oxford-iiit-pet_CLASSIC_AT.pkl\n",
      "../results/full_fine_tuning_50epochs_paper_final2/convnext_base.fb_in1k_oxford-iiit-pet_CLASSIC_AT.pkl\n",
      "../results/full_fine_tuning_50epochs_paper_final2/resnet50.a1_in1k_oxford-iiit-pet_CLASSIC_AT.pkl\n",
      "../results/full_fine_tuning_50epochs_paper_final2/robust_vit_base_patch16_224_oxford-iiit-pet_CLASSIC_AT.pkl\n",
      "../results/full_fine_tuning_50epochs_paper_final2/vit_base_patch16_224.mae_oxford-iiit-pet_CLASSIC_AT.pkl\n",
      "../results/full_fine_tuning_50epochs_paper_final2/vit_small_patch16_224.dino_oxford-iiit-pet_CLASSIC_AT.pkl\n",
      "../results/full_fine_tuning_50epochs_paper_final2/convnext_base.fb_in22k_oxford-iiit-pet_CLASSIC_AT.pkl\n",
      "../results/full_fine_tuning_50epochs_paper_final2/robust_convnext_base_oxford-iiit-pet_CLASSIC_AT.pkl\n",
      "../results/full_fine_tuning_50epochs_paper_final2/vit_base_patch16_224.augreg_in1k_oxford-iiit-pet_CLASSIC_AT.pkl\n",
      "../results/full_fine_tuning_50epochs_paper_final2/vit_base_patch16_224.augreg_in21k_oxford-iiit-pet_CLASSIC_AT.pkl\n",
      "../results/full_fine_tuning_50epochs_paper_final2/vit_base_patch16_clip_224.laion2b_oxford-iiit-pet_CLASSIC_AT.pkl\n",
      "../results/full_fine_tuning_50epochs_paper_final2/convnext_tiny.fb_in1k_oxford-iiit-pet_CLASSIC_AT.pkl\n",
      "../results/full_fine_tuning_50epochs_paper_final2/robust_convnext_tiny_oxford-iiit-pet_CLASSIC_AT.pkl\n",
      "../results/full_fine_tuning_50epochs_paper_final2/robust_deit_small_patch16_224_oxford-iiit-pet_CLASSIC_AT.pkl\n",
      "../results/full_fine_tuning_50epochs_paper_final2/vit_small_patch16_224.augreg_in1k_oxford-iiit-pet_CLASSIC_AT.pkl\n",
      "../results/full_fine_tuning_50epochs_paper_final2/convnext_tiny.fb_in22k_oxford-iiit-pet_CLASSIC_AT.pkl\n",
      "../results/full_fine_tuning_50epochs_paper_final2/vit_base_patch16_clip_224.laion2b_ft_in1k_oxford-iiit-pet_CLASSIC_AT.pkl\n",
      "../results/full_fine_tuning_50epochs_paper_final2/vit_base_patch16_224.augreg_in21k_ft_in1k_oxford-iiit-pet_CLASSIC_AT.pkl\n",
      "../results/full_fine_tuning_50epochs_paper_final2/vit_small_patch16_224.augreg_in21k_ft_in1k_oxford-iiit-pet_CLASSIC_AT.pkl\n",
      "../results/full_fine_tuning_50epochs_paper_final2/eva02_base_patch14_224.mim_in22k_oxford-iiit-pet_CLASSIC_AT.pkl\n",
      "../results/full_fine_tuning_50epochs_paper_final2/eva02_tiny_patch14_224.mim_in22k_oxford-iiit-pet_CLASSIC_AT.pkl\n",
      "../results/full_fine_tuning_50epochs_paper_final2/swin_base_patch4_window7_224.ms_in22k_ft_in1k_oxford-iiit-pet_CLASSIC_AT.pkl\n",
      "../results/full_fine_tuning_50epochs_paper_final2/swin_tiny_patch4_window7_224.ms_in1k_oxford-iiit-pet_CLASSIC_AT.pkl\n",
      "../results/full_fine_tuning_50epochs_paper_final2/convnext_base.clip_laion2b_augreg_ft_in12k_in1k_oxford-iiit-pet_CLASSIC_AT.pkl\n",
      "../results/full_fine_tuning_50epochs_paper_final2/convnext_base.fb_in22k_ft_in1k_oxford-iiit-pet_CLASSIC_AT.pkl\n",
      "../results/full_fine_tuning_50epochs_paper_final2/convnext_tiny.fb_in22k_ft_in1k_oxford-iiit-pet_CLASSIC_AT.pkl\n",
      "../results/full_fine_tuning_50epochs_paper_final2/coatnet_0_rw_224.sw_in1k_oxford-iiit-pet_CLASSIC_AT.pkl\n",
      "../results/full_fine_tuning_50epochs_paper_final2/coatnet_2_rw_224.sw_in12k_ft_in1k_oxford-iiit-pet_CLASSIC_AT.pkl\n",
      "../results/full_fine_tuning_50epochs_paper_final2/coatnet_2_rw_224.sw_in12k_oxford-iiit-pet_CLASSIC_AT.pkl\n",
      "../results/full_fine_tuning_50epochs_edge_paper_final2/regnetx_004.pycls_in1k_oxford-iiit-pet_CLASSIC_AT.pkl\n",
      "../results/full_fine_tuning_50epochs_edge_paper_final2/efficientnet-b0_oxford-iiit-pet_CLASSIC_AT.pkl\n",
      "../results/full_fine_tuning_50epochs_edge_paper_final2/deit_tiny_patch16_224.fb_in1k_oxford-iiit-pet_CLASSIC_AT.pkl\n",
      "../results/full_fine_tuning_50epochs_edge_paper_final2/mobilevit-small_oxford-iiit-pet_CLASSIC_AT.pkl\n",
      "../results/full_fine_tuning_50epochs_edge_paper_final2/mobilenetv3_large_100.ra_in1k_oxford-iiit-pet_CLASSIC_AT.pkl\n",
      "../results/full_fine_tuning_50epochs_edge_paper_final2/edgenext_small.usi_in1k_oxford-iiit-pet_CLASSIC_AT.pkl\n",
      "../results/full_fine_tuning_50epochs_edge_paper_final2/coat_tiny.in1k_oxford-iiit-pet_CLASSIC_AT.pkl\n",
      "../results/full_fine_tuning_5epochs_article1/CLIP-convnext_base_w-laion_aesthetic-s13B-b82K_uc-merced-land-use-dataset_TRADES_v2.pkl\n",
      "../results/full_fine_tuning_5epochs_article1/CLIP-convnext_base_w-laion2B-s13B-b82K_uc-merced-land-use-dataset_TRADES_v2.pkl\n",
      "../results/full_fine_tuning_5epochs_article1/deit_small_patch16_224.fb_in1k_uc-merced-land-use-dataset_TRADES_v2.pkl\n",
      "../results/full_fine_tuning_5epochs_article1/robust_resnet50_uc-merced-land-use-dataset_TRADES_v2.pkl\n",
      "../results/full_fine_tuning_5epochs_article1/vit_small_patch16_224.augreg_in21k_uc-merced-land-use-dataset_TRADES_v2.pkl\n",
      "../results/full_fine_tuning_5epochs_article1/convnext_base.fb_in1k_uc-merced-land-use-dataset_TRADES_v2.pkl\n",
      "../results/full_fine_tuning_5epochs_article1/resnet50.a1_in1k_uc-merced-land-use-dataset_TRADES_v2.pkl\n",
      "../results/full_fine_tuning_5epochs_article1/robust_vit_base_patch16_224_uc-merced-land-use-dataset_TRADES_v2.pkl\n",
      "../results/full_fine_tuning_5epochs_article1/vit_base_patch16_224.mae_uc-merced-land-use-dataset_TRADES_v2.pkl\n",
      "../results/full_fine_tuning_5epochs_article1/vit_small_patch16_224.dino_uc-merced-land-use-dataset_TRADES_v2.pkl\n",
      "../results/full_fine_tuning_5epochs_article1/convnext_base.fb_in22k_uc-merced-land-use-dataset_TRADES_v2.pkl\n",
      "../results/full_fine_tuning_5epochs_article1/robust_convnext_base_uc-merced-land-use-dataset_TRADES_v2.pkl\n",
      "../results/full_fine_tuning_5epochs_article1/vit_base_patch16_224.augreg_in1k_uc-merced-land-use-dataset_TRADES_v2.pkl\n",
      "../results/full_fine_tuning_5epochs_article1/vit_base_patch16_224.augreg_in21k_uc-merced-land-use-dataset_TRADES_v2.pkl\n",
      "../results/full_fine_tuning_5epochs_article1/vit_base_patch16_clip_224.laion2b_uc-merced-land-use-dataset_TRADES_v2.pkl\n",
      "../results/full_fine_tuning_5epochs_article1/convnext_tiny.fb_in1k_uc-merced-land-use-dataset_TRADES_v2.pkl\n",
      "../results/full_fine_tuning_5epochs_article1/robust_convnext_tiny_uc-merced-land-use-dataset_TRADES_v2.pkl\n",
      "../results/full_fine_tuning_5epochs_article1/robust_deit_small_patch16_224_uc-merced-land-use-dataset_TRADES_v2.pkl\n",
      "../results/full_fine_tuning_5epochs_article1/vit_small_patch16_224.augreg_in1k_uc-merced-land-use-dataset_TRADES_v2.pkl\n",
      "../results/full_fine_tuning_5epochs_article1/convnext_tiny.fb_in22k_uc-merced-land-use-dataset_TRADES_v2.pkl\n",
      "../results/full_fine_tuning_5epochs_article1/vit_base_patch16_clip_224.laion2b_ft_in1k_uc-merced-land-use-dataset_TRADES_v2.pkl\n",
      "../results/full_fine_tuning_5epochs_article1/vit_base_patch16_224.augreg_in21k_ft_in1k_uc-merced-land-use-dataset_TRADES_v2.pkl\n",
      "../results/full_fine_tuning_5epochs_article1/vit_small_patch16_224.augreg_in21k_ft_in1k_uc-merced-land-use-dataset_TRADES_v2.pkl\n",
      "../results/full_fine_tuning_5epochs_article1/eva02_base_patch14_224.mim_in22k_uc-merced-land-use-dataset_TRADES_v2.pkl\n",
      "../results/full_fine_tuning_5epochs_article1/eva02_tiny_patch14_224.mim_in22k_uc-merced-land-use-dataset_TRADES_v2.pkl\n",
      "../results/full_fine_tuning_5epochs_article1/swin_base_patch4_window7_224.ms_in22k_ft_in1k_uc-merced-land-use-dataset_TRADES_v2.pkl\n",
      "../results/full_fine_tuning_5epochs_article1/swin_tiny_patch4_window7_224.ms_in1k_uc-merced-land-use-dataset_TRADES_v2.pkl\n",
      "../results/full_fine_tuning_5epochs_article1/convnext_base.clip_laion2b_augreg_ft_in12k_in1k_uc-merced-land-use-dataset_TRADES_v2.pkl\n",
      "../results/full_fine_tuning_5epochs_article1/convnext_base.fb_in22k_ft_in1k_uc-merced-land-use-dataset_TRADES_v2.pkl\n",
      "../results/full_fine_tuning_5epochs_article1/convnext_tiny.fb_in22k_ft_in1k_uc-merced-land-use-dataset_TRADES_v2.pkl\n",
      "../results/full_fine_tuning_5epochs_article1/coatnet_0_rw_224.sw_in1k_uc-merced-land-use-dataset_TRADES_v2.pkl\n",
      "../results/full_fine_tuning_5epochs_article1/coatnet_2_rw_224.sw_in12k_ft_in1k_uc-merced-land-use-dataset_TRADES_v2.pkl\n",
      "../results/full_fine_tuning_5epochs_article1/coatnet_2_rw_224.sw_in12k_uc-merced-land-use-dataset_TRADES_v2.pkl\n",
      "../results/full_fine_tuning_5epochs_edge_article1/regnetx_004.pycls_in1k_uc-merced-land-use-dataset_TRADES_v2.pkl\n",
      "../results/full_fine_tuning_5epochs_edge_article1/efficientnet-b0_uc-merced-land-use-dataset_TRADES_v2.pkl\n",
      "../results/full_fine_tuning_5epochs_edge_article1/deit_tiny_patch16_224.fb_in1k_uc-merced-land-use-dataset_TRADES_v2.pkl\n",
      "../results/full_fine_tuning_5epochs_edge_article1/mobilevit-small_uc-merced-land-use-dataset_TRADES_v2.pkl\n",
      "../results/full_fine_tuning_5epochs_edge_article1/mobilenetv3_large_100.ra_in1k_uc-merced-land-use-dataset_TRADES_v2.pkl\n",
      "../results/full_fine_tuning_5epochs_edge_article1/edgenext_small.usi_in1k_uc-merced-land-use-dataset_TRADES_v2.pkl\n",
      "../results/full_fine_tuning_5epochs_edge_article1/coat_tiny.in1k_uc-merced-land-use-dataset_TRADES_v2.pkl\n",
      "../results/full_fine_tuning_5epochs_article1/CLIP-convnext_base_w-laion_aesthetic-s13B-b82K_stanford_cars_TRADES_v2.pkl\n",
      "../results/full_fine_tuning_5epochs_article1/CLIP-convnext_base_w-laion2B-s13B-b82K_stanford_cars_TRADES_v2.pkl\n",
      "../results/full_fine_tuning_5epochs_article1/deit_small_patch16_224.fb_in1k_stanford_cars_TRADES_v2.pkl\n",
      "../results/full_fine_tuning_5epochs_article1/robust_resnet50_stanford_cars_TRADES_v2.pkl\n",
      "../results/full_fine_tuning_5epochs_article1/vit_small_patch16_224.augreg_in21k_stanford_cars_TRADES_v2.pkl\n",
      "../results/full_fine_tuning_5epochs_article1/convnext_base.fb_in1k_stanford_cars_TRADES_v2.pkl\n",
      "../results/full_fine_tuning_5epochs_article1/resnet50.a1_in1k_stanford_cars_TRADES_v2.pkl\n",
      "../results/full_fine_tuning_5epochs_article1/robust_vit_base_patch16_224_stanford_cars_TRADES_v2.pkl\n",
      "../results/full_fine_tuning_5epochs_article1/vit_base_patch16_224.mae_stanford_cars_TRADES_v2.pkl\n",
      "../results/full_fine_tuning_5epochs_article1/vit_small_patch16_224.dino_stanford_cars_TRADES_v2.pkl\n",
      "../results/full_fine_tuning_5epochs_article1/convnext_base.fb_in22k_stanford_cars_TRADES_v2.pkl\n",
      "../results/full_fine_tuning_5epochs_article1/robust_convnext_base_stanford_cars_TRADES_v2.pkl\n",
      "../results/full_fine_tuning_5epochs_article1/vit_base_patch16_224.augreg_in1k_stanford_cars_TRADES_v2.pkl\n",
      "../results/full_fine_tuning_5epochs_article1/vit_base_patch16_224.augreg_in21k_stanford_cars_TRADES_v2.pkl\n",
      "../results/full_fine_tuning_5epochs_article1/vit_base_patch16_clip_224.laion2b_stanford_cars_TRADES_v2.pkl\n",
      "../results/full_fine_tuning_5epochs_article1/convnext_tiny.fb_in1k_stanford_cars_TRADES_v2.pkl\n",
      "../results/full_fine_tuning_5epochs_article1/robust_convnext_tiny_stanford_cars_TRADES_v2.pkl\n",
      "../results/full_fine_tuning_5epochs_article1/robust_deit_small_patch16_224_stanford_cars_TRADES_v2.pkl\n",
      "../results/full_fine_tuning_5epochs_article1/vit_small_patch16_224.augreg_in1k_stanford_cars_TRADES_v2.pkl\n",
      "../results/full_fine_tuning_5epochs_article1/convnext_tiny.fb_in22k_stanford_cars_TRADES_v2.pkl\n",
      "../results/full_fine_tuning_5epochs_article1/vit_base_patch16_clip_224.laion2b_ft_in1k_stanford_cars_TRADES_v2.pkl\n",
      "../results/full_fine_tuning_5epochs_article1/vit_base_patch16_224.augreg_in21k_ft_in1k_stanford_cars_TRADES_v2.pkl\n",
      "../results/full_fine_tuning_5epochs_article1/vit_small_patch16_224.augreg_in21k_ft_in1k_stanford_cars_TRADES_v2.pkl\n",
      "../results/full_fine_tuning_5epochs_article1/eva02_base_patch14_224.mim_in22k_stanford_cars_TRADES_v2.pkl\n",
      "../results/full_fine_tuning_5epochs_article1/eva02_tiny_patch14_224.mim_in22k_stanford_cars_TRADES_v2.pkl\n",
      "../results/full_fine_tuning_5epochs_article1/swin_base_patch4_window7_224.ms_in22k_ft_in1k_stanford_cars_TRADES_v2.pkl\n",
      "../results/full_fine_tuning_5epochs_article1/swin_tiny_patch4_window7_224.ms_in1k_stanford_cars_TRADES_v2.pkl\n",
      "../results/full_fine_tuning_5epochs_article1/convnext_base.clip_laion2b_augreg_ft_in12k_in1k_stanford_cars_TRADES_v2.pkl\n",
      "../results/full_fine_tuning_5epochs_article1/convnext_base.fb_in22k_ft_in1k_stanford_cars_TRADES_v2.pkl\n",
      "../results/full_fine_tuning_5epochs_article1/convnext_tiny.fb_in22k_ft_in1k_stanford_cars_TRADES_v2.pkl\n",
      "../results/full_fine_tuning_5epochs_article1/coatnet_0_rw_224.sw_in1k_stanford_cars_TRADES_v2.pkl\n",
      "../results/full_fine_tuning_5epochs_article1/coatnet_2_rw_224.sw_in12k_ft_in1k_stanford_cars_TRADES_v2.pkl\n",
      "../results/full_fine_tuning_5epochs_article1/coatnet_2_rw_224.sw_in12k_stanford_cars_TRADES_v2.pkl\n",
      "../results/full_fine_tuning_5epochs_edge_article1/regnetx_004.pycls_in1k_stanford_cars_TRADES_v2.pkl\n",
      "../results/full_fine_tuning_5epochs_edge_article1/efficientnet-b0_stanford_cars_TRADES_v2.pkl\n",
      "../results/full_fine_tuning_5epochs_edge_article1/deit_tiny_patch16_224.fb_in1k_stanford_cars_TRADES_v2.pkl\n",
      "../results/full_fine_tuning_5epochs_edge_article1/mobilevit-small_stanford_cars_TRADES_v2.pkl\n",
      "../results/full_fine_tuning_5epochs_edge_article1/mobilenetv3_large_100.ra_in1k_stanford_cars_TRADES_v2.pkl\n",
      "../results/full_fine_tuning_5epochs_edge_article1/edgenext_small.usi_in1k_stanford_cars_TRADES_v2.pkl\n",
      "../results/full_fine_tuning_5epochs_edge_article1/coat_tiny.in1k_stanford_cars_TRADES_v2.pkl\n",
      "../results/full_fine_tuning_5epochs_article1/CLIP-convnext_base_w-laion_aesthetic-s13B-b82K_caltech101_TRADES_v2.pkl\n",
      "../results/full_fine_tuning_5epochs_article1/CLIP-convnext_base_w-laion2B-s13B-b82K_caltech101_TRADES_v2.pkl\n",
      "../results/full_fine_tuning_5epochs_article1/deit_small_patch16_224.fb_in1k_caltech101_TRADES_v2.pkl\n",
      "../results/full_fine_tuning_5epochs_article1/robust_resnet50_caltech101_TRADES_v2.pkl\n",
      "../results/full_fine_tuning_5epochs_article1/vit_small_patch16_224.augreg_in21k_caltech101_TRADES_v2.pkl\n",
      "../results/full_fine_tuning_5epochs_article1/convnext_base.fb_in1k_caltech101_TRADES_v2.pkl\n",
      "../results/full_fine_tuning_5epochs_article1/resnet50.a1_in1k_caltech101_TRADES_v2.pkl\n",
      "../results/full_fine_tuning_5epochs_article1/robust_vit_base_patch16_224_caltech101_TRADES_v2.pkl\n",
      "../results/full_fine_tuning_5epochs_article1/vit_base_patch16_224.mae_caltech101_TRADES_v2.pkl\n",
      "../results/full_fine_tuning_5epochs_article1/vit_small_patch16_224.dino_caltech101_TRADES_v2.pkl\n",
      "../results/full_fine_tuning_5epochs_article1/convnext_base.fb_in22k_caltech101_TRADES_v2.pkl\n",
      "../results/full_fine_tuning_5epochs_article1/robust_convnext_base_caltech101_TRADES_v2.pkl\n",
      "../results/full_fine_tuning_5epochs_article1/vit_base_patch16_224.augreg_in1k_caltech101_TRADES_v2.pkl\n",
      "../results/full_fine_tuning_5epochs_article1/vit_base_patch16_224.augreg_in21k_caltech101_TRADES_v2.pkl\n",
      "../results/full_fine_tuning_5epochs_article1/vit_base_patch16_clip_224.laion2b_caltech101_TRADES_v2.pkl\n",
      "../results/full_fine_tuning_5epochs_article1/convnext_tiny.fb_in1k_caltech101_TRADES_v2.pkl\n",
      "../results/full_fine_tuning_5epochs_article1/robust_convnext_tiny_caltech101_TRADES_v2.pkl\n",
      "../results/full_fine_tuning_5epochs_article1/robust_deit_small_patch16_224_caltech101_TRADES_v2.pkl\n",
      "../results/full_fine_tuning_5epochs_article1/vit_small_patch16_224.augreg_in1k_caltech101_TRADES_v2.pkl\n",
      "../results/full_fine_tuning_5epochs_article1/convnext_tiny.fb_in22k_caltech101_TRADES_v2.pkl\n",
      "../results/full_fine_tuning_5epochs_article1/vit_base_patch16_clip_224.laion2b_ft_in1k_caltech101_TRADES_v2.pkl\n",
      "../results/full_fine_tuning_5epochs_article1/vit_base_patch16_224.augreg_in21k_ft_in1k_caltech101_TRADES_v2.pkl\n",
      "../results/full_fine_tuning_5epochs_article1/vit_small_patch16_224.augreg_in21k_ft_in1k_caltech101_TRADES_v2.pkl\n",
      "../results/full_fine_tuning_5epochs_article1/eva02_base_patch14_224.mim_in22k_caltech101_TRADES_v2.pkl\n",
      "../results/full_fine_tuning_5epochs_article1/eva02_tiny_patch14_224.mim_in22k_caltech101_TRADES_v2.pkl\n",
      "../results/full_fine_tuning_5epochs_article1/swin_base_patch4_window7_224.ms_in22k_ft_in1k_caltech101_TRADES_v2.pkl\n",
      "../results/full_fine_tuning_5epochs_article1/swin_tiny_patch4_window7_224.ms_in1k_caltech101_TRADES_v2.pkl\n",
      "../results/full_fine_tuning_5epochs_article1/convnext_base.clip_laion2b_augreg_ft_in12k_in1k_caltech101_TRADES_v2.pkl\n",
      "../results/full_fine_tuning_5epochs_article1/convnext_base.fb_in22k_ft_in1k_caltech101_TRADES_v2.pkl\n",
      "../results/full_fine_tuning_5epochs_article1/convnext_tiny.fb_in22k_ft_in1k_caltech101_TRADES_v2.pkl\n",
      "../results/full_fine_tuning_5epochs_article1/coatnet_0_rw_224.sw_in1k_caltech101_TRADES_v2.pkl\n",
      "../results/full_fine_tuning_5epochs_article1/coatnet_2_rw_224.sw_in12k_ft_in1k_caltech101_TRADES_v2.pkl\n",
      "../results/full_fine_tuning_5epochs_article1/coatnet_2_rw_224.sw_in12k_caltech101_TRADES_v2.pkl\n",
      "../results/full_fine_tuning_5epochs_edge_article1/regnetx_004.pycls_in1k_caltech101_TRADES_v2.pkl\n",
      "../results/full_fine_tuning_5epochs_edge_article1/efficientnet-b0_caltech101_TRADES_v2.pkl\n",
      "../results/full_fine_tuning_5epochs_edge_article1/deit_tiny_patch16_224.fb_in1k_caltech101_TRADES_v2.pkl\n",
      "../results/full_fine_tuning_5epochs_edge_article1/mobilevit-small_caltech101_TRADES_v2.pkl\n",
      "../results/full_fine_tuning_5epochs_edge_article1/mobilenetv3_large_100.ra_in1k_caltech101_TRADES_v2.pkl\n",
      "../results/full_fine_tuning_5epochs_edge_article1/edgenext_small.usi_in1k_caltech101_TRADES_v2.pkl\n",
      "../results/full_fine_tuning_5epochs_edge_article1/coat_tiny.in1k_caltech101_TRADES_v2.pkl\n",
      "../results/full_fine_tuning_5epochs_article1/CLIP-convnext_base_w-laion_aesthetic-s13B-b82K_fgvc-aircraft-2013b_TRADES_v2.pkl\n",
      "../results/full_fine_tuning_5epochs_article1/CLIP-convnext_base_w-laion2B-s13B-b82K_fgvc-aircraft-2013b_TRADES_v2.pkl\n",
      "../results/full_fine_tuning_5epochs_article1/deit_small_patch16_224.fb_in1k_fgvc-aircraft-2013b_TRADES_v2.pkl\n",
      "../results/full_fine_tuning_5epochs_article1/robust_resnet50_fgvc-aircraft-2013b_TRADES_v2.pkl\n",
      "../results/full_fine_tuning_5epochs_article1/vit_small_patch16_224.augreg_in21k_fgvc-aircraft-2013b_TRADES_v2.pkl\n",
      "../results/full_fine_tuning_5epochs_article1/convnext_base.fb_in1k_fgvc-aircraft-2013b_TRADES_v2.pkl\n",
      "../results/full_fine_tuning_5epochs_article1/resnet50.a1_in1k_fgvc-aircraft-2013b_TRADES_v2.pkl\n",
      "../results/full_fine_tuning_5epochs_article1/robust_vit_base_patch16_224_fgvc-aircraft-2013b_TRADES_v2.pkl\n",
      "../results/full_fine_tuning_5epochs_article1/vit_base_patch16_224.mae_fgvc-aircraft-2013b_TRADES_v2.pkl\n",
      "../results/full_fine_tuning_5epochs_article1/vit_small_patch16_224.dino_fgvc-aircraft-2013b_TRADES_v2.pkl\n",
      "../results/full_fine_tuning_5epochs_article1/convnext_base.fb_in22k_fgvc-aircraft-2013b_TRADES_v2.pkl\n",
      "../results/full_fine_tuning_5epochs_article1/robust_convnext_base_fgvc-aircraft-2013b_TRADES_v2.pkl\n",
      "../results/full_fine_tuning_5epochs_article1/vit_base_patch16_224.augreg_in1k_fgvc-aircraft-2013b_TRADES_v2.pkl\n",
      "../results/full_fine_tuning_5epochs_article1/vit_base_patch16_224.augreg_in21k_fgvc-aircraft-2013b_TRADES_v2.pkl\n",
      "../results/full_fine_tuning_5epochs_article1/vit_base_patch16_clip_224.laion2b_fgvc-aircraft-2013b_TRADES_v2.pkl\n",
      "../results/full_fine_tuning_5epochs_article1/convnext_tiny.fb_in1k_fgvc-aircraft-2013b_TRADES_v2.pkl\n",
      "../results/full_fine_tuning_5epochs_article1/robust_convnext_tiny_fgvc-aircraft-2013b_TRADES_v2.pkl\n",
      "../results/full_fine_tuning_5epochs_article1/robust_deit_small_patch16_224_fgvc-aircraft-2013b_TRADES_v2.pkl\n",
      "../results/full_fine_tuning_5epochs_article1/vit_small_patch16_224.augreg_in1k_fgvc-aircraft-2013b_TRADES_v2.pkl\n",
      "../results/full_fine_tuning_5epochs_article1/convnext_tiny.fb_in22k_fgvc-aircraft-2013b_TRADES_v2.pkl\n",
      "../results/full_fine_tuning_5epochs_article1/vit_base_patch16_clip_224.laion2b_ft_in1k_fgvc-aircraft-2013b_TRADES_v2.pkl\n",
      "../results/full_fine_tuning_5epochs_article1/vit_base_patch16_224.augreg_in21k_ft_in1k_fgvc-aircraft-2013b_TRADES_v2.pkl\n",
      "../results/full_fine_tuning_5epochs_article1/vit_small_patch16_224.augreg_in21k_ft_in1k_fgvc-aircraft-2013b_TRADES_v2.pkl\n",
      "../results/full_fine_tuning_5epochs_article1/eva02_base_patch14_224.mim_in22k_fgvc-aircraft-2013b_TRADES_v2.pkl\n",
      "../results/full_fine_tuning_5epochs_article1/eva02_tiny_patch14_224.mim_in22k_fgvc-aircraft-2013b_TRADES_v2.pkl\n",
      "../results/full_fine_tuning_5epochs_article1/swin_base_patch4_window7_224.ms_in22k_ft_in1k_fgvc-aircraft-2013b_TRADES_v2.pkl\n",
      "../results/full_fine_tuning_5epochs_article1/swin_tiny_patch4_window7_224.ms_in1k_fgvc-aircraft-2013b_TRADES_v2.pkl\n",
      "../results/full_fine_tuning_5epochs_article1/convnext_base.clip_laion2b_augreg_ft_in12k_in1k_fgvc-aircraft-2013b_TRADES_v2.pkl\n",
      "../results/full_fine_tuning_5epochs_article1/convnext_base.fb_in22k_ft_in1k_fgvc-aircraft-2013b_TRADES_v2.pkl\n",
      "../results/full_fine_tuning_5epochs_article1/convnext_tiny.fb_in22k_ft_in1k_fgvc-aircraft-2013b_TRADES_v2.pkl\n",
      "../results/full_fine_tuning_5epochs_article1/coatnet_0_rw_224.sw_in1k_fgvc-aircraft-2013b_TRADES_v2.pkl\n",
      "../results/full_fine_tuning_5epochs_article1/coatnet_2_rw_224.sw_in12k_ft_in1k_fgvc-aircraft-2013b_TRADES_v2.pkl\n",
      "../results/full_fine_tuning_5epochs_article1/coatnet_2_rw_224.sw_in12k_fgvc-aircraft-2013b_TRADES_v2.pkl\n",
      "../results/full_fine_tuning_5epochs_edge_article1/regnetx_004.pycls_in1k_fgvc-aircraft-2013b_TRADES_v2.pkl\n",
      "../results/full_fine_tuning_5epochs_edge_article1/efficientnet-b0_fgvc-aircraft-2013b_TRADES_v2.pkl\n",
      "../results/full_fine_tuning_5epochs_edge_article1/deit_tiny_patch16_224.fb_in1k_fgvc-aircraft-2013b_TRADES_v2.pkl\n",
      "../results/full_fine_tuning_5epochs_edge_article1/mobilevit-small_fgvc-aircraft-2013b_TRADES_v2.pkl\n",
      "../results/full_fine_tuning_5epochs_edge_article1/mobilenetv3_large_100.ra_in1k_fgvc-aircraft-2013b_TRADES_v2.pkl\n",
      "../results/full_fine_tuning_5epochs_edge_article1/edgenext_small.usi_in1k_fgvc-aircraft-2013b_TRADES_v2.pkl\n",
      "../results/full_fine_tuning_5epochs_edge_article1/coat_tiny.in1k_fgvc-aircraft-2013b_TRADES_v2.pkl\n",
      "../results/full_fine_tuning_5epochs_article1/CLIP-convnext_base_w-laion_aesthetic-s13B-b82K_flowers-102_TRADES_v2.pkl\n",
      "../results/full_fine_tuning_5epochs_article1/CLIP-convnext_base_w-laion2B-s13B-b82K_flowers-102_TRADES_v2.pkl\n",
      "../results/full_fine_tuning_5epochs_article1/deit_small_patch16_224.fb_in1k_flowers-102_TRADES_v2.pkl\n",
      "../results/full_fine_tuning_5epochs_article1/robust_resnet50_flowers-102_TRADES_v2.pkl\n",
      "../results/full_fine_tuning_5epochs_article1/vit_small_patch16_224.augreg_in21k_flowers-102_TRADES_v2.pkl\n",
      "../results/full_fine_tuning_5epochs_article1/convnext_base.fb_in1k_flowers-102_TRADES_v2.pkl\n",
      "../results/full_fine_tuning_5epochs_article1/resnet50.a1_in1k_flowers-102_TRADES_v2.pkl\n",
      "../results/full_fine_tuning_5epochs_article1/robust_vit_base_patch16_224_flowers-102_TRADES_v2.pkl\n",
      "../results/full_fine_tuning_5epochs_article1/vit_base_patch16_224.mae_flowers-102_TRADES_v2.pkl\n",
      "../results/full_fine_tuning_5epochs_article1/vit_small_patch16_224.dino_flowers-102_TRADES_v2.pkl\n",
      "../results/full_fine_tuning_5epochs_article1/convnext_base.fb_in22k_flowers-102_TRADES_v2.pkl\n",
      "../results/full_fine_tuning_5epochs_article1/robust_convnext_base_flowers-102_TRADES_v2.pkl\n",
      "../results/full_fine_tuning_5epochs_article1/vit_base_patch16_224.augreg_in1k_flowers-102_TRADES_v2.pkl\n",
      "../results/full_fine_tuning_5epochs_article1/vit_base_patch16_224.augreg_in21k_flowers-102_TRADES_v2.pkl\n",
      "../results/full_fine_tuning_5epochs_article1/vit_base_patch16_clip_224.laion2b_flowers-102_TRADES_v2.pkl\n",
      "../results/full_fine_tuning_5epochs_article1/convnext_tiny.fb_in1k_flowers-102_TRADES_v2.pkl\n",
      "../results/full_fine_tuning_5epochs_article1/robust_convnext_tiny_flowers-102_TRADES_v2.pkl\n",
      "../results/full_fine_tuning_5epochs_article1/robust_deit_small_patch16_224_flowers-102_TRADES_v2.pkl\n",
      "../results/full_fine_tuning_5epochs_article1/vit_small_patch16_224.augreg_in1k_flowers-102_TRADES_v2.pkl\n",
      "../results/full_fine_tuning_5epochs_article1/convnext_tiny.fb_in22k_flowers-102_TRADES_v2.pkl\n",
      "../results/full_fine_tuning_5epochs_article1/vit_base_patch16_clip_224.laion2b_ft_in1k_flowers-102_TRADES_v2.pkl\n",
      "../results/full_fine_tuning_5epochs_article1/vit_base_patch16_224.augreg_in21k_ft_in1k_flowers-102_TRADES_v2.pkl\n",
      "../results/full_fine_tuning_5epochs_article1/vit_small_patch16_224.augreg_in21k_ft_in1k_flowers-102_TRADES_v2.pkl\n",
      "../results/full_fine_tuning_5epochs_article1/eva02_base_patch14_224.mim_in22k_flowers-102_TRADES_v2.pkl\n",
      "../results/full_fine_tuning_5epochs_article1/eva02_tiny_patch14_224.mim_in22k_flowers-102_TRADES_v2.pkl\n",
      "../results/full_fine_tuning_5epochs_article1/swin_base_patch4_window7_224.ms_in22k_ft_in1k_flowers-102_TRADES_v2.pkl\n",
      "../results/full_fine_tuning_5epochs_article1/swin_tiny_patch4_window7_224.ms_in1k_flowers-102_TRADES_v2.pkl\n",
      "../results/full_fine_tuning_5epochs_article1/convnext_base.clip_laion2b_augreg_ft_in12k_in1k_flowers-102_TRADES_v2.pkl\n",
      "../results/full_fine_tuning_5epochs_article1/convnext_base.fb_in22k_ft_in1k_flowers-102_TRADES_v2.pkl\n",
      "../results/full_fine_tuning_5epochs_article1/convnext_tiny.fb_in22k_ft_in1k_flowers-102_TRADES_v2.pkl\n",
      "../results/full_fine_tuning_5epochs_article1/coatnet_0_rw_224.sw_in1k_flowers-102_TRADES_v2.pkl\n",
      "../results/full_fine_tuning_5epochs_article1/coatnet_2_rw_224.sw_in12k_ft_in1k_flowers-102_TRADES_v2.pkl\n",
      "../results/full_fine_tuning_5epochs_article1/coatnet_2_rw_224.sw_in12k_flowers-102_TRADES_v2.pkl\n",
      "../results/full_fine_tuning_5epochs_edge_article1/regnetx_004.pycls_in1k_flowers-102_TRADES_v2.pkl\n",
      "../results/full_fine_tuning_5epochs_edge_article1/efficientnet-b0_flowers-102_TRADES_v2.pkl\n",
      "../results/full_fine_tuning_5epochs_edge_article1/deit_tiny_patch16_224.fb_in1k_flowers-102_TRADES_v2.pkl\n",
      "../results/full_fine_tuning_5epochs_edge_article1/mobilevit-small_flowers-102_TRADES_v2.pkl\n",
      "../results/full_fine_tuning_5epochs_edge_article1/mobilenetv3_large_100.ra_in1k_flowers-102_TRADES_v2.pkl\n",
      "../results/full_fine_tuning_5epochs_edge_article1/edgenext_small.usi_in1k_flowers-102_TRADES_v2.pkl\n",
      "../results/full_fine_tuning_5epochs_edge_article1/coat_tiny.in1k_flowers-102_TRADES_v2.pkl\n",
      "../results/full_fine_tuning_5epochs_article1/CLIP-convnext_base_w-laion_aesthetic-s13B-b82K_oxford-iiit-pet_TRADES_v2.pkl\n",
      "../results/full_fine_tuning_5epochs_article1/CLIP-convnext_base_w-laion2B-s13B-b82K_oxford-iiit-pet_TRADES_v2.pkl\n",
      "../results/full_fine_tuning_5epochs_article1/deit_small_patch16_224.fb_in1k_oxford-iiit-pet_TRADES_v2.pkl\n",
      "../results/full_fine_tuning_5epochs_article1/robust_resnet50_oxford-iiit-pet_TRADES_v2.pkl\n",
      "../results/full_fine_tuning_5epochs_article1/vit_small_patch16_224.augreg_in21k_oxford-iiit-pet_TRADES_v2.pkl\n",
      "../results/full_fine_tuning_5epochs_article1/convnext_base.fb_in1k_oxford-iiit-pet_TRADES_v2.pkl\n",
      "../results/full_fine_tuning_5epochs_article1/resnet50.a1_in1k_oxford-iiit-pet_TRADES_v2.pkl\n",
      "../results/full_fine_tuning_5epochs_article1/robust_vit_base_patch16_224_oxford-iiit-pet_TRADES_v2.pkl\n",
      "../results/full_fine_tuning_5epochs_article1/vit_base_patch16_224.mae_oxford-iiit-pet_TRADES_v2.pkl\n",
      "../results/full_fine_tuning_5epochs_article1/vit_small_patch16_224.dino_oxford-iiit-pet_TRADES_v2.pkl\n",
      "../results/full_fine_tuning_5epochs_article1/convnext_base.fb_in22k_oxford-iiit-pet_TRADES_v2.pkl\n",
      "../results/full_fine_tuning_5epochs_article1/robust_convnext_base_oxford-iiit-pet_TRADES_v2.pkl\n",
      "../results/full_fine_tuning_5epochs_article1/vit_base_patch16_224.augreg_in1k_oxford-iiit-pet_TRADES_v2.pkl\n",
      "../results/full_fine_tuning_5epochs_article1/vit_base_patch16_224.augreg_in21k_oxford-iiit-pet_TRADES_v2.pkl\n",
      "../results/full_fine_tuning_5epochs_article1/vit_base_patch16_clip_224.laion2b_oxford-iiit-pet_TRADES_v2.pkl\n",
      "../results/full_fine_tuning_5epochs_article1/convnext_tiny.fb_in1k_oxford-iiit-pet_TRADES_v2.pkl\n",
      "../results/full_fine_tuning_5epochs_article1/robust_convnext_tiny_oxford-iiit-pet_TRADES_v2.pkl\n",
      "../results/full_fine_tuning_5epochs_article1/robust_deit_small_patch16_224_oxford-iiit-pet_TRADES_v2.pkl\n",
      "../results/full_fine_tuning_5epochs_article1/vit_small_patch16_224.augreg_in1k_oxford-iiit-pet_TRADES_v2.pkl\n",
      "../results/full_fine_tuning_5epochs_article1/convnext_tiny.fb_in22k_oxford-iiit-pet_TRADES_v2.pkl\n",
      "../results/full_fine_tuning_5epochs_article1/vit_base_patch16_clip_224.laion2b_ft_in1k_oxford-iiit-pet_TRADES_v2.pkl\n",
      "../results/full_fine_tuning_5epochs_article1/vit_base_patch16_224.augreg_in21k_ft_in1k_oxford-iiit-pet_TRADES_v2.pkl\n",
      "../results/full_fine_tuning_5epochs_article1/vit_small_patch16_224.augreg_in21k_ft_in1k_oxford-iiit-pet_TRADES_v2.pkl\n",
      "../results/full_fine_tuning_5epochs_article1/eva02_base_patch14_224.mim_in22k_oxford-iiit-pet_TRADES_v2.pkl\n",
      "../results/full_fine_tuning_5epochs_article1/eva02_tiny_patch14_224.mim_in22k_oxford-iiit-pet_TRADES_v2.pkl\n",
      "../results/full_fine_tuning_5epochs_article1/swin_base_patch4_window7_224.ms_in22k_ft_in1k_oxford-iiit-pet_TRADES_v2.pkl\n",
      "../results/full_fine_tuning_5epochs_article1/swin_tiny_patch4_window7_224.ms_in1k_oxford-iiit-pet_TRADES_v2.pkl\n",
      "../results/full_fine_tuning_5epochs_article1/convnext_base.clip_laion2b_augreg_ft_in12k_in1k_oxford-iiit-pet_TRADES_v2.pkl\n",
      "../results/full_fine_tuning_5epochs_article1/convnext_base.fb_in22k_ft_in1k_oxford-iiit-pet_TRADES_v2.pkl\n",
      "../results/full_fine_tuning_5epochs_article1/convnext_tiny.fb_in22k_ft_in1k_oxford-iiit-pet_TRADES_v2.pkl\n",
      "../results/full_fine_tuning_5epochs_article1/coatnet_0_rw_224.sw_in1k_oxford-iiit-pet_TRADES_v2.pkl\n",
      "../results/full_fine_tuning_5epochs_article1/coatnet_2_rw_224.sw_in12k_ft_in1k_oxford-iiit-pet_TRADES_v2.pkl\n",
      "../results/full_fine_tuning_5epochs_article1/coatnet_2_rw_224.sw_in12k_oxford-iiit-pet_TRADES_v2.pkl\n",
      "../results/full_fine_tuning_5epochs_edge_article1/regnetx_004.pycls_in1k_oxford-iiit-pet_TRADES_v2.pkl\n",
      "../results/full_fine_tuning_5epochs_edge_article1/efficientnet-b0_oxford-iiit-pet_TRADES_v2.pkl\n",
      "../results/full_fine_tuning_5epochs_edge_article1/deit_tiny_patch16_224.fb_in1k_oxford-iiit-pet_TRADES_v2.pkl\n",
      "../results/full_fine_tuning_5epochs_edge_article1/mobilevit-small_oxford-iiit-pet_TRADES_v2.pkl\n",
      "../results/full_fine_tuning_5epochs_edge_article1/mobilenetv3_large_100.ra_in1k_oxford-iiit-pet_TRADES_v2.pkl\n",
      "../results/full_fine_tuning_5epochs_edge_article1/edgenext_small.usi_in1k_oxford-iiit-pet_TRADES_v2.pkl\n",
      "../results/full_fine_tuning_5epochs_edge_article1/coat_tiny.in1k_oxford-iiit-pet_TRADES_v2.pkl\n",
      "../results/full_fine_tuning_5epochs_article1/CLIP-convnext_base_w-laion_aesthetic-s13B-b82K_uc-merced-land-use-dataset_CLASSIC_AT.pkl\n",
      "../results/full_fine_tuning_5epochs_article1/CLIP-convnext_base_w-laion2B-s13B-b82K_uc-merced-land-use-dataset_CLASSIC_AT.pkl\n",
      "../results/full_fine_tuning_5epochs_article1/deit_small_patch16_224.fb_in1k_uc-merced-land-use-dataset_CLASSIC_AT.pkl\n",
      "../results/full_fine_tuning_5epochs_article1/robust_resnet50_uc-merced-land-use-dataset_CLASSIC_AT.pkl\n",
      "../results/full_fine_tuning_5epochs_article1/vit_small_patch16_224.augreg_in21k_uc-merced-land-use-dataset_CLASSIC_AT.pkl\n",
      "../results/full_fine_tuning_5epochs_article1/convnext_base.fb_in1k_uc-merced-land-use-dataset_CLASSIC_AT.pkl\n",
      "../results/full_fine_tuning_5epochs_article1/resnet50.a1_in1k_uc-merced-land-use-dataset_CLASSIC_AT.pkl\n",
      "../results/full_fine_tuning_5epochs_article1/robust_vit_base_patch16_224_uc-merced-land-use-dataset_CLASSIC_AT.pkl\n",
      "../results/full_fine_tuning_5epochs_article1/vit_base_patch16_224.mae_uc-merced-land-use-dataset_CLASSIC_AT.pkl\n",
      "../results/full_fine_tuning_5epochs_article1/vit_small_patch16_224.dino_uc-merced-land-use-dataset_CLASSIC_AT.pkl\n",
      "../results/full_fine_tuning_5epochs_article1/convnext_base.fb_in22k_uc-merced-land-use-dataset_CLASSIC_AT.pkl\n",
      "../results/full_fine_tuning_5epochs_article1/robust_convnext_base_uc-merced-land-use-dataset_CLASSIC_AT.pkl\n",
      "../results/full_fine_tuning_5epochs_article1/vit_base_patch16_224.augreg_in1k_uc-merced-land-use-dataset_CLASSIC_AT.pkl\n",
      "../results/full_fine_tuning_5epochs_article1/vit_base_patch16_224.augreg_in21k_uc-merced-land-use-dataset_CLASSIC_AT.pkl\n",
      "../results/full_fine_tuning_5epochs_article1/vit_base_patch16_clip_224.laion2b_uc-merced-land-use-dataset_CLASSIC_AT.pkl\n",
      "../results/full_fine_tuning_5epochs_article1/convnext_tiny.fb_in1k_uc-merced-land-use-dataset_CLASSIC_AT.pkl\n",
      "../results/full_fine_tuning_5epochs_article1/robust_convnext_tiny_uc-merced-land-use-dataset_CLASSIC_AT.pkl\n",
      "../results/full_fine_tuning_5epochs_article1/robust_deit_small_patch16_224_uc-merced-land-use-dataset_CLASSIC_AT.pkl\n",
      "../results/full_fine_tuning_5epochs_article1/vit_small_patch16_224.augreg_in1k_uc-merced-land-use-dataset_CLASSIC_AT.pkl\n",
      "../results/full_fine_tuning_5epochs_article1/convnext_tiny.fb_in22k_uc-merced-land-use-dataset_CLASSIC_AT.pkl\n",
      "../results/full_fine_tuning_5epochs_article1/vit_base_patch16_clip_224.laion2b_ft_in1k_uc-merced-land-use-dataset_CLASSIC_AT.pkl\n",
      "../results/full_fine_tuning_5epochs_article1/vit_base_patch16_224.augreg_in21k_ft_in1k_uc-merced-land-use-dataset_CLASSIC_AT.pkl\n",
      "../results/full_fine_tuning_5epochs_article1/vit_small_patch16_224.augreg_in21k_ft_in1k_uc-merced-land-use-dataset_CLASSIC_AT.pkl\n",
      "../results/full_fine_tuning_5epochs_article1/eva02_base_patch14_224.mim_in22k_uc-merced-land-use-dataset_CLASSIC_AT.pkl\n",
      "../results/full_fine_tuning_5epochs_article1/eva02_tiny_patch14_224.mim_in22k_uc-merced-land-use-dataset_CLASSIC_AT.pkl\n",
      "../results/full_fine_tuning_5epochs_article1/swin_base_patch4_window7_224.ms_in22k_ft_in1k_uc-merced-land-use-dataset_CLASSIC_AT.pkl\n",
      "../results/full_fine_tuning_5epochs_article1/swin_tiny_patch4_window7_224.ms_in1k_uc-merced-land-use-dataset_CLASSIC_AT.pkl\n",
      "../results/full_fine_tuning_5epochs_article1/convnext_base.clip_laion2b_augreg_ft_in12k_in1k_uc-merced-land-use-dataset_CLASSIC_AT.pkl\n",
      "../results/full_fine_tuning_5epochs_article1/convnext_base.fb_in22k_ft_in1k_uc-merced-land-use-dataset_CLASSIC_AT.pkl\n",
      "../results/full_fine_tuning_5epochs_article1/convnext_tiny.fb_in22k_ft_in1k_uc-merced-land-use-dataset_CLASSIC_AT.pkl\n",
      "../results/full_fine_tuning_5epochs_article1/coatnet_0_rw_224.sw_in1k_uc-merced-land-use-dataset_CLASSIC_AT.pkl\n",
      "../results/full_fine_tuning_5epochs_article1/coatnet_2_rw_224.sw_in12k_ft_in1k_uc-merced-land-use-dataset_CLASSIC_AT.pkl\n",
      "../results/full_fine_tuning_5epochs_article1/coatnet_2_rw_224.sw_in12k_uc-merced-land-use-dataset_CLASSIC_AT.pkl\n",
      "../results/full_fine_tuning_5epochs_edge_article1/regnetx_004.pycls_in1k_uc-merced-land-use-dataset_CLASSIC_AT.pkl\n",
      "../results/full_fine_tuning_5epochs_edge_article1/efficientnet-b0_uc-merced-land-use-dataset_CLASSIC_AT.pkl\n",
      "../results/full_fine_tuning_5epochs_edge_article1/deit_tiny_patch16_224.fb_in1k_uc-merced-land-use-dataset_CLASSIC_AT.pkl\n",
      "../results/full_fine_tuning_5epochs_edge_article1/mobilevit-small_uc-merced-land-use-dataset_CLASSIC_AT.pkl\n",
      "../results/full_fine_tuning_5epochs_edge_article1/mobilenetv3_large_100.ra_in1k_uc-merced-land-use-dataset_CLASSIC_AT.pkl\n",
      "../results/full_fine_tuning_5epochs_edge_article1/edgenext_small.usi_in1k_uc-merced-land-use-dataset_CLASSIC_AT.pkl\n",
      "../results/full_fine_tuning_5epochs_edge_article1/coat_tiny.in1k_uc-merced-land-use-dataset_CLASSIC_AT.pkl\n",
      "../results/full_fine_tuning_5epochs_article1/CLIP-convnext_base_w-laion_aesthetic-s13B-b82K_stanford_cars_CLASSIC_AT.pkl\n",
      "../results/full_fine_tuning_5epochs_article1/CLIP-convnext_base_w-laion2B-s13B-b82K_stanford_cars_CLASSIC_AT.pkl\n",
      "../results/full_fine_tuning_5epochs_article1/deit_small_patch16_224.fb_in1k_stanford_cars_CLASSIC_AT.pkl\n",
      "../results/full_fine_tuning_5epochs_article1/robust_resnet50_stanford_cars_CLASSIC_AT.pkl\n",
      "../results/full_fine_tuning_5epochs_article1/vit_small_patch16_224.augreg_in21k_stanford_cars_CLASSIC_AT.pkl\n",
      "../results/full_fine_tuning_5epochs_article1/convnext_base.fb_in1k_stanford_cars_CLASSIC_AT.pkl\n",
      "../results/full_fine_tuning_5epochs_article1/resnet50.a1_in1k_stanford_cars_CLASSIC_AT.pkl\n",
      "../results/full_fine_tuning_5epochs_article1/robust_vit_base_patch16_224_stanford_cars_CLASSIC_AT.pkl\n",
      "../results/full_fine_tuning_5epochs_article1/vit_base_patch16_224.mae_stanford_cars_CLASSIC_AT.pkl\n",
      "../results/full_fine_tuning_5epochs_article1/vit_small_patch16_224.dino_stanford_cars_CLASSIC_AT.pkl\n",
      "../results/full_fine_tuning_5epochs_article1/convnext_base.fb_in22k_stanford_cars_CLASSIC_AT.pkl\n",
      "../results/full_fine_tuning_5epochs_article1/robust_convnext_base_stanford_cars_CLASSIC_AT.pkl\n",
      "../results/full_fine_tuning_5epochs_article1/vit_base_patch16_224.augreg_in1k_stanford_cars_CLASSIC_AT.pkl\n",
      "../results/full_fine_tuning_5epochs_article1/vit_base_patch16_224.augreg_in21k_stanford_cars_CLASSIC_AT.pkl\n",
      "../results/full_fine_tuning_5epochs_article1/vit_base_patch16_clip_224.laion2b_stanford_cars_CLASSIC_AT.pkl\n",
      "../results/full_fine_tuning_5epochs_article1/convnext_tiny.fb_in1k_stanford_cars_CLASSIC_AT.pkl\n",
      "../results/full_fine_tuning_5epochs_article1/robust_convnext_tiny_stanford_cars_CLASSIC_AT.pkl\n",
      "../results/full_fine_tuning_5epochs_article1/robust_deit_small_patch16_224_stanford_cars_CLASSIC_AT.pkl\n",
      "../results/full_fine_tuning_5epochs_article1/vit_small_patch16_224.augreg_in1k_stanford_cars_CLASSIC_AT.pkl\n",
      "../results/full_fine_tuning_5epochs_article1/convnext_tiny.fb_in22k_stanford_cars_CLASSIC_AT.pkl\n",
      "../results/full_fine_tuning_5epochs_article1/vit_base_patch16_clip_224.laion2b_ft_in1k_stanford_cars_CLASSIC_AT.pkl\n",
      "../results/full_fine_tuning_5epochs_article1/vit_base_patch16_224.augreg_in21k_ft_in1k_stanford_cars_CLASSIC_AT.pkl\n",
      "../results/full_fine_tuning_5epochs_article1/vit_small_patch16_224.augreg_in21k_ft_in1k_stanford_cars_CLASSIC_AT.pkl\n",
      "../results/full_fine_tuning_5epochs_article1/eva02_base_patch14_224.mim_in22k_stanford_cars_CLASSIC_AT.pkl\n",
      "../results/full_fine_tuning_5epochs_article1/eva02_tiny_patch14_224.mim_in22k_stanford_cars_CLASSIC_AT.pkl\n",
      "../results/full_fine_tuning_5epochs_article1/swin_base_patch4_window7_224.ms_in22k_ft_in1k_stanford_cars_CLASSIC_AT.pkl\n",
      "../results/full_fine_tuning_5epochs_article1/swin_tiny_patch4_window7_224.ms_in1k_stanford_cars_CLASSIC_AT.pkl\n",
      "../results/full_fine_tuning_5epochs_article1/convnext_base.clip_laion2b_augreg_ft_in12k_in1k_stanford_cars_CLASSIC_AT.pkl\n",
      "../results/full_fine_tuning_5epochs_article1/convnext_base.fb_in22k_ft_in1k_stanford_cars_CLASSIC_AT.pkl\n",
      "../results/full_fine_tuning_5epochs_article1/convnext_tiny.fb_in22k_ft_in1k_stanford_cars_CLASSIC_AT.pkl\n",
      "../results/full_fine_tuning_5epochs_article1/coatnet_0_rw_224.sw_in1k_stanford_cars_CLASSIC_AT.pkl\n",
      "../results/full_fine_tuning_5epochs_article1/coatnet_2_rw_224.sw_in12k_ft_in1k_stanford_cars_CLASSIC_AT.pkl\n",
      "../results/full_fine_tuning_5epochs_article1/coatnet_2_rw_224.sw_in12k_stanford_cars_CLASSIC_AT.pkl\n",
      "../results/full_fine_tuning_5epochs_edge_article1/regnetx_004.pycls_in1k_stanford_cars_CLASSIC_AT.pkl\n",
      "../results/full_fine_tuning_5epochs_edge_article1/efficientnet-b0_stanford_cars_CLASSIC_AT.pkl\n",
      "../results/full_fine_tuning_5epochs_edge_article1/deit_tiny_patch16_224.fb_in1k_stanford_cars_CLASSIC_AT.pkl\n",
      "../results/full_fine_tuning_5epochs_edge_article1/mobilevit-small_stanford_cars_CLASSIC_AT.pkl\n",
      "../results/full_fine_tuning_5epochs_edge_article1/mobilenetv3_large_100.ra_in1k_stanford_cars_CLASSIC_AT.pkl\n",
      "../results/full_fine_tuning_5epochs_edge_article1/edgenext_small.usi_in1k_stanford_cars_CLASSIC_AT.pkl\n",
      "../results/full_fine_tuning_5epochs_edge_article1/coat_tiny.in1k_stanford_cars_CLASSIC_AT.pkl\n",
      "../results/full_fine_tuning_5epochs_article1/CLIP-convnext_base_w-laion_aesthetic-s13B-b82K_caltech101_CLASSIC_AT.pkl\n",
      "../results/full_fine_tuning_5epochs_article1/CLIP-convnext_base_w-laion2B-s13B-b82K_caltech101_CLASSIC_AT.pkl\n",
      "../results/full_fine_tuning_5epochs_article1/deit_small_patch16_224.fb_in1k_caltech101_CLASSIC_AT.pkl\n",
      "../results/full_fine_tuning_5epochs_article1/robust_resnet50_caltech101_CLASSIC_AT.pkl\n",
      "../results/full_fine_tuning_5epochs_article1/vit_small_patch16_224.augreg_in21k_caltech101_CLASSIC_AT.pkl\n",
      "../results/full_fine_tuning_5epochs_article1/convnext_base.fb_in1k_caltech101_CLASSIC_AT.pkl\n",
      "../results/full_fine_tuning_5epochs_article1/resnet50.a1_in1k_caltech101_CLASSIC_AT.pkl\n",
      "../results/full_fine_tuning_5epochs_article1/robust_vit_base_patch16_224_caltech101_CLASSIC_AT.pkl\n",
      "../results/full_fine_tuning_5epochs_article1/vit_base_patch16_224.mae_caltech101_CLASSIC_AT.pkl\n",
      "../results/full_fine_tuning_5epochs_article1/vit_small_patch16_224.dino_caltech101_CLASSIC_AT.pkl\n",
      "../results/full_fine_tuning_5epochs_article1/convnext_base.fb_in22k_caltech101_CLASSIC_AT.pkl\n",
      "../results/full_fine_tuning_5epochs_article1/robust_convnext_base_caltech101_CLASSIC_AT.pkl\n",
      "../results/full_fine_tuning_5epochs_article1/vit_base_patch16_224.augreg_in1k_caltech101_CLASSIC_AT.pkl\n",
      "../results/full_fine_tuning_5epochs_article1/vit_base_patch16_224.augreg_in21k_caltech101_CLASSIC_AT.pkl\n",
      "../results/full_fine_tuning_5epochs_article1/vit_base_patch16_clip_224.laion2b_caltech101_CLASSIC_AT.pkl\n",
      "../results/full_fine_tuning_5epochs_article1/convnext_tiny.fb_in1k_caltech101_CLASSIC_AT.pkl\n",
      "../results/full_fine_tuning_5epochs_article1/robust_convnext_tiny_caltech101_CLASSIC_AT.pkl\n",
      "../results/full_fine_tuning_5epochs_article1/robust_deit_small_patch16_224_caltech101_CLASSIC_AT.pkl\n",
      "../results/full_fine_tuning_5epochs_article1/vit_small_patch16_224.augreg_in1k_caltech101_CLASSIC_AT.pkl\n",
      "../results/full_fine_tuning_5epochs_article1/convnext_tiny.fb_in22k_caltech101_CLASSIC_AT.pkl\n",
      "../results/full_fine_tuning_5epochs_article1/vit_base_patch16_clip_224.laion2b_ft_in1k_caltech101_CLASSIC_AT.pkl\n",
      "../results/full_fine_tuning_5epochs_article1/vit_base_patch16_224.augreg_in21k_ft_in1k_caltech101_CLASSIC_AT.pkl\n",
      "../results/full_fine_tuning_5epochs_article1/vit_small_patch16_224.augreg_in21k_ft_in1k_caltech101_CLASSIC_AT.pkl\n",
      "../results/full_fine_tuning_5epochs_article1/eva02_base_patch14_224.mim_in22k_caltech101_CLASSIC_AT.pkl\n",
      "../results/full_fine_tuning_5epochs_article1/eva02_tiny_patch14_224.mim_in22k_caltech101_CLASSIC_AT.pkl\n",
      "../results/full_fine_tuning_5epochs_article1/swin_base_patch4_window7_224.ms_in22k_ft_in1k_caltech101_CLASSIC_AT.pkl\n",
      "../results/full_fine_tuning_5epochs_article1/swin_tiny_patch4_window7_224.ms_in1k_caltech101_CLASSIC_AT.pkl\n",
      "../results/full_fine_tuning_5epochs_article1/convnext_base.clip_laion2b_augreg_ft_in12k_in1k_caltech101_CLASSIC_AT.pkl\n",
      "../results/full_fine_tuning_5epochs_article1/convnext_base.fb_in22k_ft_in1k_caltech101_CLASSIC_AT.pkl\n",
      "../results/full_fine_tuning_5epochs_article1/convnext_tiny.fb_in22k_ft_in1k_caltech101_CLASSIC_AT.pkl\n",
      "../results/full_fine_tuning_5epochs_article1/coatnet_0_rw_224.sw_in1k_caltech101_CLASSIC_AT.pkl\n",
      "../results/full_fine_tuning_5epochs_article1/coatnet_2_rw_224.sw_in12k_ft_in1k_caltech101_CLASSIC_AT.pkl\n",
      "../results/full_fine_tuning_5epochs_article1/coatnet_2_rw_224.sw_in12k_caltech101_CLASSIC_AT.pkl\n",
      "../results/full_fine_tuning_5epochs_edge_article1/regnetx_004.pycls_in1k_caltech101_CLASSIC_AT.pkl\n",
      "../results/full_fine_tuning_5epochs_edge_article1/efficientnet-b0_caltech101_CLASSIC_AT.pkl\n",
      "../results/full_fine_tuning_5epochs_edge_article1/deit_tiny_patch16_224.fb_in1k_caltech101_CLASSIC_AT.pkl\n",
      "../results/full_fine_tuning_5epochs_edge_article1/mobilevit-small_caltech101_CLASSIC_AT.pkl\n",
      "../results/full_fine_tuning_5epochs_edge_article1/mobilenetv3_large_100.ra_in1k_caltech101_CLASSIC_AT.pkl\n",
      "../results/full_fine_tuning_5epochs_edge_article1/edgenext_small.usi_in1k_caltech101_CLASSIC_AT.pkl\n",
      "../results/full_fine_tuning_5epochs_edge_article1/coat_tiny.in1k_caltech101_CLASSIC_AT.pkl\n",
      "../results/full_fine_tuning_5epochs_article1/CLIP-convnext_base_w-laion_aesthetic-s13B-b82K_fgvc-aircraft-2013b_CLASSIC_AT.pkl\n",
      "../results/full_fine_tuning_5epochs_article1/CLIP-convnext_base_w-laion2B-s13B-b82K_fgvc-aircraft-2013b_CLASSIC_AT.pkl\n",
      "../results/full_fine_tuning_5epochs_article1/deit_small_patch16_224.fb_in1k_fgvc-aircraft-2013b_CLASSIC_AT.pkl\n",
      "../results/full_fine_tuning_5epochs_article1/robust_resnet50_fgvc-aircraft-2013b_CLASSIC_AT.pkl\n",
      "../results/full_fine_tuning_5epochs_article1/vit_small_patch16_224.augreg_in21k_fgvc-aircraft-2013b_CLASSIC_AT.pkl\n",
      "../results/full_fine_tuning_5epochs_article1/convnext_base.fb_in1k_fgvc-aircraft-2013b_CLASSIC_AT.pkl\n",
      "../results/full_fine_tuning_5epochs_article1/resnet50.a1_in1k_fgvc-aircraft-2013b_CLASSIC_AT.pkl\n",
      "../results/full_fine_tuning_5epochs_article1/robust_vit_base_patch16_224_fgvc-aircraft-2013b_CLASSIC_AT.pkl\n",
      "../results/full_fine_tuning_5epochs_article1/vit_base_patch16_224.mae_fgvc-aircraft-2013b_CLASSIC_AT.pkl\n",
      "../results/full_fine_tuning_5epochs_article1/vit_small_patch16_224.dino_fgvc-aircraft-2013b_CLASSIC_AT.pkl\n",
      "../results/full_fine_tuning_5epochs_article1/convnext_base.fb_in22k_fgvc-aircraft-2013b_CLASSIC_AT.pkl\n",
      "../results/full_fine_tuning_5epochs_article1/robust_convnext_base_fgvc-aircraft-2013b_CLASSIC_AT.pkl\n",
      "../results/full_fine_tuning_5epochs_article1/vit_base_patch16_224.augreg_in1k_fgvc-aircraft-2013b_CLASSIC_AT.pkl\n",
      "../results/full_fine_tuning_5epochs_article1/vit_base_patch16_224.augreg_in21k_fgvc-aircraft-2013b_CLASSIC_AT.pkl\n",
      "../results/full_fine_tuning_5epochs_article1/vit_base_patch16_clip_224.laion2b_fgvc-aircraft-2013b_CLASSIC_AT.pkl\n",
      "../results/full_fine_tuning_5epochs_article1/convnext_tiny.fb_in1k_fgvc-aircraft-2013b_CLASSIC_AT.pkl\n",
      "../results/full_fine_tuning_5epochs_article1/robust_convnext_tiny_fgvc-aircraft-2013b_CLASSIC_AT.pkl\n",
      "../results/full_fine_tuning_5epochs_article1/robust_deit_small_patch16_224_fgvc-aircraft-2013b_CLASSIC_AT.pkl\n",
      "../results/full_fine_tuning_5epochs_article1/vit_small_patch16_224.augreg_in1k_fgvc-aircraft-2013b_CLASSIC_AT.pkl\n",
      "../results/full_fine_tuning_5epochs_article1/convnext_tiny.fb_in22k_fgvc-aircraft-2013b_CLASSIC_AT.pkl\n",
      "../results/full_fine_tuning_5epochs_article1/vit_base_patch16_clip_224.laion2b_ft_in1k_fgvc-aircraft-2013b_CLASSIC_AT.pkl\n",
      "../results/full_fine_tuning_5epochs_article1/vit_base_patch16_224.augreg_in21k_ft_in1k_fgvc-aircraft-2013b_CLASSIC_AT.pkl\n",
      "../results/full_fine_tuning_5epochs_article1/vit_small_patch16_224.augreg_in21k_ft_in1k_fgvc-aircraft-2013b_CLASSIC_AT.pkl\n",
      "../results/full_fine_tuning_5epochs_article1/eva02_base_patch14_224.mim_in22k_fgvc-aircraft-2013b_CLASSIC_AT.pkl\n",
      "../results/full_fine_tuning_5epochs_article1/eva02_tiny_patch14_224.mim_in22k_fgvc-aircraft-2013b_CLASSIC_AT.pkl\n",
      "../results/full_fine_tuning_5epochs_article1/swin_base_patch4_window7_224.ms_in22k_ft_in1k_fgvc-aircraft-2013b_CLASSIC_AT.pkl\n",
      "../results/full_fine_tuning_5epochs_article1/swin_tiny_patch4_window7_224.ms_in1k_fgvc-aircraft-2013b_CLASSIC_AT.pkl\n",
      "../results/full_fine_tuning_5epochs_article1/convnext_base.clip_laion2b_augreg_ft_in12k_in1k_fgvc-aircraft-2013b_CLASSIC_AT.pkl\n",
      "../results/full_fine_tuning_5epochs_article1/convnext_base.fb_in22k_ft_in1k_fgvc-aircraft-2013b_CLASSIC_AT.pkl\n",
      "../results/full_fine_tuning_5epochs_article1/convnext_tiny.fb_in22k_ft_in1k_fgvc-aircraft-2013b_CLASSIC_AT.pkl\n",
      "../results/full_fine_tuning_5epochs_article1/coatnet_0_rw_224.sw_in1k_fgvc-aircraft-2013b_CLASSIC_AT.pkl\n",
      "../results/full_fine_tuning_5epochs_article1/coatnet_2_rw_224.sw_in12k_ft_in1k_fgvc-aircraft-2013b_CLASSIC_AT.pkl\n",
      "../results/full_fine_tuning_5epochs_article1/coatnet_2_rw_224.sw_in12k_fgvc-aircraft-2013b_CLASSIC_AT.pkl\n",
      "../results/full_fine_tuning_5epochs_edge_article1/regnetx_004.pycls_in1k_fgvc-aircraft-2013b_CLASSIC_AT.pkl\n",
      "../results/full_fine_tuning_5epochs_edge_article1/efficientnet-b0_fgvc-aircraft-2013b_CLASSIC_AT.pkl\n",
      "../results/full_fine_tuning_5epochs_edge_article1/deit_tiny_patch16_224.fb_in1k_fgvc-aircraft-2013b_CLASSIC_AT.pkl\n",
      "../results/full_fine_tuning_5epochs_edge_article1/mobilevit-small_fgvc-aircraft-2013b_CLASSIC_AT.pkl\n",
      "../results/full_fine_tuning_5epochs_edge_article1/mobilenetv3_large_100.ra_in1k_fgvc-aircraft-2013b_CLASSIC_AT.pkl\n",
      "../results/full_fine_tuning_5epochs_edge_article1/edgenext_small.usi_in1k_fgvc-aircraft-2013b_CLASSIC_AT.pkl\n",
      "../results/full_fine_tuning_5epochs_edge_article1/coat_tiny.in1k_fgvc-aircraft-2013b_CLASSIC_AT.pkl\n",
      "../results/full_fine_tuning_5epochs_article1/CLIP-convnext_base_w-laion_aesthetic-s13B-b82K_flowers-102_CLASSIC_AT.pkl\n",
      "../results/full_fine_tuning_5epochs_article1/CLIP-convnext_base_w-laion2B-s13B-b82K_flowers-102_CLASSIC_AT.pkl\n",
      "../results/full_fine_tuning_5epochs_article1/deit_small_patch16_224.fb_in1k_flowers-102_CLASSIC_AT.pkl\n",
      "../results/full_fine_tuning_5epochs_article1/robust_resnet50_flowers-102_CLASSIC_AT.pkl\n",
      "../results/full_fine_tuning_5epochs_article1/vit_small_patch16_224.augreg_in21k_flowers-102_CLASSIC_AT.pkl\n",
      "../results/full_fine_tuning_5epochs_article1/convnext_base.fb_in1k_flowers-102_CLASSIC_AT.pkl\n",
      "../results/full_fine_tuning_5epochs_article1/resnet50.a1_in1k_flowers-102_CLASSIC_AT.pkl\n",
      "../results/full_fine_tuning_5epochs_article1/robust_vit_base_patch16_224_flowers-102_CLASSIC_AT.pkl\n",
      "../results/full_fine_tuning_5epochs_article1/vit_base_patch16_224.mae_flowers-102_CLASSIC_AT.pkl\n",
      "../results/full_fine_tuning_5epochs_article1/vit_small_patch16_224.dino_flowers-102_CLASSIC_AT.pkl\n",
      "../results/full_fine_tuning_5epochs_article1/convnext_base.fb_in22k_flowers-102_CLASSIC_AT.pkl\n",
      "../results/full_fine_tuning_5epochs_article1/robust_convnext_base_flowers-102_CLASSIC_AT.pkl\n",
      "../results/full_fine_tuning_5epochs_article1/vit_base_patch16_224.augreg_in1k_flowers-102_CLASSIC_AT.pkl\n",
      "../results/full_fine_tuning_5epochs_article1/vit_base_patch16_224.augreg_in21k_flowers-102_CLASSIC_AT.pkl\n",
      "../results/full_fine_tuning_5epochs_article1/vit_base_patch16_clip_224.laion2b_flowers-102_CLASSIC_AT.pkl\n",
      "../results/full_fine_tuning_5epochs_article1/convnext_tiny.fb_in1k_flowers-102_CLASSIC_AT.pkl\n",
      "../results/full_fine_tuning_5epochs_article1/robust_convnext_tiny_flowers-102_CLASSIC_AT.pkl\n",
      "../results/full_fine_tuning_5epochs_article1/robust_deit_small_patch16_224_flowers-102_CLASSIC_AT.pkl\n",
      "../results/full_fine_tuning_5epochs_article1/vit_small_patch16_224.augreg_in1k_flowers-102_CLASSIC_AT.pkl\n",
      "../results/full_fine_tuning_5epochs_article1/convnext_tiny.fb_in22k_flowers-102_CLASSIC_AT.pkl\n",
      "../results/full_fine_tuning_5epochs_article1/vit_base_patch16_clip_224.laion2b_ft_in1k_flowers-102_CLASSIC_AT.pkl\n",
      "../results/full_fine_tuning_5epochs_article1/vit_base_patch16_224.augreg_in21k_ft_in1k_flowers-102_CLASSIC_AT.pkl\n",
      "../results/full_fine_tuning_5epochs_article1/vit_small_patch16_224.augreg_in21k_ft_in1k_flowers-102_CLASSIC_AT.pkl\n",
      "../results/full_fine_tuning_5epochs_article1/eva02_base_patch14_224.mim_in22k_flowers-102_CLASSIC_AT.pkl\n",
      "../results/full_fine_tuning_5epochs_article1/eva02_tiny_patch14_224.mim_in22k_flowers-102_CLASSIC_AT.pkl\n",
      "../results/full_fine_tuning_5epochs_article1/swin_base_patch4_window7_224.ms_in22k_ft_in1k_flowers-102_CLASSIC_AT.pkl\n",
      "../results/full_fine_tuning_5epochs_article1/swin_tiny_patch4_window7_224.ms_in1k_flowers-102_CLASSIC_AT.pkl\n",
      "../results/full_fine_tuning_5epochs_article1/convnext_base.clip_laion2b_augreg_ft_in12k_in1k_flowers-102_CLASSIC_AT.pkl\n",
      "../results/full_fine_tuning_5epochs_article1/convnext_base.fb_in22k_ft_in1k_flowers-102_CLASSIC_AT.pkl\n",
      "../results/full_fine_tuning_5epochs_article1/convnext_tiny.fb_in22k_ft_in1k_flowers-102_CLASSIC_AT.pkl\n",
      "../results/full_fine_tuning_5epochs_article1/coatnet_0_rw_224.sw_in1k_flowers-102_CLASSIC_AT.pkl\n",
      "../results/full_fine_tuning_5epochs_article1/coatnet_2_rw_224.sw_in12k_ft_in1k_flowers-102_CLASSIC_AT.pkl\n",
      "../results/full_fine_tuning_5epochs_article1/coatnet_2_rw_224.sw_in12k_flowers-102_CLASSIC_AT.pkl\n",
      "../results/full_fine_tuning_5epochs_edge_article1/regnetx_004.pycls_in1k_flowers-102_CLASSIC_AT.pkl\n",
      "../results/full_fine_tuning_5epochs_edge_article1/efficientnet-b0_flowers-102_CLASSIC_AT.pkl\n",
      "../results/full_fine_tuning_5epochs_edge_article1/deit_tiny_patch16_224.fb_in1k_flowers-102_CLASSIC_AT.pkl\n",
      "../results/full_fine_tuning_5epochs_edge_article1/mobilevit-small_flowers-102_CLASSIC_AT.pkl\n",
      "../results/full_fine_tuning_5epochs_edge_article1/mobilenetv3_large_100.ra_in1k_flowers-102_CLASSIC_AT.pkl\n",
      "../results/full_fine_tuning_5epochs_edge_article1/edgenext_small.usi_in1k_flowers-102_CLASSIC_AT.pkl\n",
      "../results/full_fine_tuning_5epochs_edge_article1/coat_tiny.in1k_flowers-102_CLASSIC_AT.pkl\n",
      "../results/full_fine_tuning_5epochs_article1/CLIP-convnext_base_w-laion_aesthetic-s13B-b82K_oxford-iiit-pet_CLASSIC_AT.pkl\n",
      "../results/full_fine_tuning_5epochs_article1/CLIP-convnext_base_w-laion2B-s13B-b82K_oxford-iiit-pet_CLASSIC_AT.pkl\n",
      "../results/full_fine_tuning_5epochs_article1/deit_small_patch16_224.fb_in1k_oxford-iiit-pet_CLASSIC_AT.pkl\n",
      "../results/full_fine_tuning_5epochs_article1/robust_resnet50_oxford-iiit-pet_CLASSIC_AT.pkl\n",
      "../results/full_fine_tuning_5epochs_article1/vit_small_patch16_224.augreg_in21k_oxford-iiit-pet_CLASSIC_AT.pkl\n",
      "../results/full_fine_tuning_5epochs_article1/convnext_base.fb_in1k_oxford-iiit-pet_CLASSIC_AT.pkl\n",
      "../results/full_fine_tuning_5epochs_article1/resnet50.a1_in1k_oxford-iiit-pet_CLASSIC_AT.pkl\n",
      "../results/full_fine_tuning_5epochs_article1/robust_vit_base_patch16_224_oxford-iiit-pet_CLASSIC_AT.pkl\n",
      "../results/full_fine_tuning_5epochs_article1/vit_base_patch16_224.mae_oxford-iiit-pet_CLASSIC_AT.pkl\n",
      "../results/full_fine_tuning_5epochs_article1/vit_small_patch16_224.dino_oxford-iiit-pet_CLASSIC_AT.pkl\n",
      "../results/full_fine_tuning_5epochs_article1/convnext_base.fb_in22k_oxford-iiit-pet_CLASSIC_AT.pkl\n",
      "../results/full_fine_tuning_5epochs_article1/robust_convnext_base_oxford-iiit-pet_CLASSIC_AT.pkl\n",
      "../results/full_fine_tuning_5epochs_article1/vit_base_patch16_224.augreg_in1k_oxford-iiit-pet_CLASSIC_AT.pkl\n",
      "../results/full_fine_tuning_5epochs_article1/vit_base_patch16_224.augreg_in21k_oxford-iiit-pet_CLASSIC_AT.pkl\n",
      "../results/full_fine_tuning_5epochs_article1/vit_base_patch16_clip_224.laion2b_oxford-iiit-pet_CLASSIC_AT.pkl\n",
      "../results/full_fine_tuning_5epochs_article1/convnext_tiny.fb_in1k_oxford-iiit-pet_CLASSIC_AT.pkl\n",
      "../results/full_fine_tuning_5epochs_article1/robust_convnext_tiny_oxford-iiit-pet_CLASSIC_AT.pkl\n",
      "../results/full_fine_tuning_5epochs_article1/robust_deit_small_patch16_224_oxford-iiit-pet_CLASSIC_AT.pkl\n",
      "../results/full_fine_tuning_5epochs_article1/vit_small_patch16_224.augreg_in1k_oxford-iiit-pet_CLASSIC_AT.pkl\n",
      "../results/full_fine_tuning_5epochs_article1/convnext_tiny.fb_in22k_oxford-iiit-pet_CLASSIC_AT.pkl\n",
      "../results/full_fine_tuning_5epochs_article1/vit_base_patch16_clip_224.laion2b_ft_in1k_oxford-iiit-pet_CLASSIC_AT.pkl\n",
      "../results/full_fine_tuning_5epochs_article1/vit_base_patch16_224.augreg_in21k_ft_in1k_oxford-iiit-pet_CLASSIC_AT.pkl\n",
      "../results/full_fine_tuning_5epochs_article1/vit_small_patch16_224.augreg_in21k_ft_in1k_oxford-iiit-pet_CLASSIC_AT.pkl\n",
      "../results/full_fine_tuning_5epochs_article1/eva02_base_patch14_224.mim_in22k_oxford-iiit-pet_CLASSIC_AT.pkl\n",
      "../results/full_fine_tuning_5epochs_article1/eva02_tiny_patch14_224.mim_in22k_oxford-iiit-pet_CLASSIC_AT.pkl\n",
      "../results/full_fine_tuning_5epochs_article1/swin_base_patch4_window7_224.ms_in22k_ft_in1k_oxford-iiit-pet_CLASSIC_AT.pkl\n",
      "../results/full_fine_tuning_5epochs_article1/swin_tiny_patch4_window7_224.ms_in1k_oxford-iiit-pet_CLASSIC_AT.pkl\n",
      "../results/full_fine_tuning_5epochs_article1/convnext_base.clip_laion2b_augreg_ft_in12k_in1k_oxford-iiit-pet_CLASSIC_AT.pkl\n",
      "../results/full_fine_tuning_5epochs_article1/convnext_base.fb_in22k_ft_in1k_oxford-iiit-pet_CLASSIC_AT.pkl\n",
      "../results/full_fine_tuning_5epochs_article1/convnext_tiny.fb_in22k_ft_in1k_oxford-iiit-pet_CLASSIC_AT.pkl\n",
      "../results/full_fine_tuning_5epochs_article1/coatnet_0_rw_224.sw_in1k_oxford-iiit-pet_CLASSIC_AT.pkl\n",
      "../results/full_fine_tuning_5epochs_article1/coatnet_2_rw_224.sw_in12k_ft_in1k_oxford-iiit-pet_CLASSIC_AT.pkl\n",
      "../results/full_fine_tuning_5epochs_article1/coatnet_2_rw_224.sw_in12k_oxford-iiit-pet_CLASSIC_AT.pkl\n",
      "../results/full_fine_tuning_5epochs_edge_article1/regnetx_004.pycls_in1k_oxford-iiit-pet_CLASSIC_AT.pkl\n",
      "../results/full_fine_tuning_5epochs_edge_article1/efficientnet-b0_oxford-iiit-pet_CLASSIC_AT.pkl\n",
      "../results/full_fine_tuning_5epochs_edge_article1/deit_tiny_patch16_224.fb_in1k_oxford-iiit-pet_CLASSIC_AT.pkl\n",
      "../results/full_fine_tuning_5epochs_edge_article1/mobilevit-small_oxford-iiit-pet_CLASSIC_AT.pkl\n",
      "../results/full_fine_tuning_5epochs_edge_article1/mobilenetv3_large_100.ra_in1k_oxford-iiit-pet_CLASSIC_AT.pkl\n",
      "../results/full_fine_tuning_5epochs_edge_article1/edgenext_small.usi_in1k_oxford-iiit-pet_CLASSIC_AT.pkl\n",
      "../results/full_fine_tuning_5epochs_edge_article1/coat_tiny.in1k_oxford-iiit-pet_CLASSIC_AT.pkl\n",
      "../results/linearprobe_50epochs_paper_final2/CLIP-convnext_base_w-laion_aesthetic-s13B-b82K_uc-merced-land-use-dataset_TRADES_v2.pkl\n",
      "../results/linearprobe_50epochs_paper_final2/CLIP-convnext_base_w-laion2B-s13B-b82K_uc-merced-land-use-dataset_TRADES_v2.pkl\n",
      "../results/linearprobe_50epochs_paper_final2/deit_small_patch16_224.fb_in1k_uc-merced-land-use-dataset_TRADES_v2.pkl\n",
      "../results/linearprobe_50epochs_paper_final2/robust_resnet50_uc-merced-land-use-dataset_TRADES_v2.pkl\n",
      "../results/linearprobe_50epochs_paper_final2/vit_small_patch16_224.augreg_in21k_uc-merced-land-use-dataset_TRADES_v2.pkl\n",
      "../results/linearprobe_50epochs_paper_final2/convnext_base.fb_in1k_uc-merced-land-use-dataset_TRADES_v2.pkl\n",
      "../results/linearprobe_50epochs_paper_final2/resnet50.a1_in1k_uc-merced-land-use-dataset_TRADES_v2.pkl\n",
      "../results/linearprobe_50epochs_paper_final2/robust_vit_base_patch16_224_uc-merced-land-use-dataset_TRADES_v2.pkl\n",
      "../results/linearprobe_50epochs_paper_final2/vit_base_patch16_224.mae_uc-merced-land-use-dataset_TRADES_v2.pkl\n",
      "../results/linearprobe_50epochs_paper_final2/vit_small_patch16_224.dino_uc-merced-land-use-dataset_TRADES_v2.pkl\n",
      "../results/linearprobe_50epochs_paper_final2/convnext_base.fb_in22k_uc-merced-land-use-dataset_TRADES_v2.pkl\n",
      "../results/linearprobe_50epochs_paper_final2/robust_convnext_base_uc-merced-land-use-dataset_TRADES_v2.pkl\n",
      "../results/linearprobe_50epochs_paper_final2/vit_base_patch16_224.augreg_in1k_uc-merced-land-use-dataset_TRADES_v2.pkl\n",
      "../results/linearprobe_50epochs_paper_final2/vit_base_patch16_224.augreg_in21k_uc-merced-land-use-dataset_TRADES_v2.pkl\n",
      "../results/linearprobe_50epochs_paper_final2/vit_base_patch16_clip_224.laion2b_uc-merced-land-use-dataset_TRADES_v2.pkl\n",
      "../results/linearprobe_50epochs_paper_final2/convnext_tiny.fb_in1k_uc-merced-land-use-dataset_TRADES_v2.pkl\n",
      "../results/linearprobe_50epochs_paper_final2/robust_convnext_tiny_uc-merced-land-use-dataset_TRADES_v2.pkl\n",
      "../results/linearprobe_50epochs_paper_final2/robust_deit_small_patch16_224_uc-merced-land-use-dataset_TRADES_v2.pkl\n",
      "../results/linearprobe_50epochs_paper_final2/vit_small_patch16_224.augreg_in1k_uc-merced-land-use-dataset_TRADES_v2.pkl\n",
      "../results/linearprobe_50epochs_paper_final2/convnext_tiny.fb_in22k_uc-merced-land-use-dataset_TRADES_v2.pkl\n",
      "../results/linearprobe_50epochs_paper_final2/vit_base_patch16_clip_224.laion2b_ft_in1k_uc-merced-land-use-dataset_TRADES_v2.pkl\n",
      "../results/linearprobe_50epochs_paper_final2/vit_base_patch16_224.augreg_in21k_ft_in1k_uc-merced-land-use-dataset_TRADES_v2.pkl\n",
      "../results/linearprobe_50epochs_paper_final2/vit_small_patch16_224.augreg_in21k_ft_in1k_uc-merced-land-use-dataset_TRADES_v2.pkl\n",
      "../results/linearprobe_50epochs_paper_final2/eva02_base_patch14_224.mim_in22k_uc-merced-land-use-dataset_TRADES_v2.pkl\n",
      "../results/linearprobe_50epochs_paper_final2/eva02_tiny_patch14_224.mim_in22k_uc-merced-land-use-dataset_TRADES_v2.pkl\n",
      "../results/linearprobe_50epochs_paper_final2/swin_base_patch4_window7_224.ms_in22k_ft_in1k_uc-merced-land-use-dataset_TRADES_v2.pkl\n",
      "../results/linearprobe_50epochs_paper_final2/swin_tiny_patch4_window7_224.ms_in1k_uc-merced-land-use-dataset_TRADES_v2.pkl\n",
      "../results/linearprobe_50epochs_paper_final2/convnext_base.clip_laion2b_augreg_ft_in12k_in1k_uc-merced-land-use-dataset_TRADES_v2.pkl\n",
      "../results/linearprobe_50epochs_paper_final2/convnext_base.fb_in22k_ft_in1k_uc-merced-land-use-dataset_TRADES_v2.pkl\n",
      "../results/linearprobe_50epochs_paper_final2/convnext_tiny.fb_in22k_ft_in1k_uc-merced-land-use-dataset_TRADES_v2.pkl\n",
      "../results/linearprobe_50epochs_paper_final2/coatnet_0_rw_224.sw_in1k_uc-merced-land-use-dataset_TRADES_v2.pkl\n",
      "../results/linearprobe_50epochs_paper_final2/coatnet_2_rw_224.sw_in12k_ft_in1k_uc-merced-land-use-dataset_TRADES_v2.pkl\n",
      "../results/linearprobe_50epochs_paper_final2/coatnet_2_rw_224.sw_in12k_uc-merced-land-use-dataset_TRADES_v2.pkl\n",
      "../results/linearprobe_50epochs_edge_paper_final2/regnetx_004.pycls_in1k_uc-merced-land-use-dataset_TRADES_v2.pkl\n",
      "../results/linearprobe_50epochs_edge_paper_final2/efficientnet-b0_uc-merced-land-use-dataset_TRADES_v2.pkl\n",
      "../results/linearprobe_50epochs_edge_paper_final2/deit_tiny_patch16_224.fb_in1k_uc-merced-land-use-dataset_TRADES_v2.pkl\n",
      "../results/linearprobe_50epochs_edge_paper_final2/mobilevit-small_uc-merced-land-use-dataset_TRADES_v2.pkl\n",
      "../results/linearprobe_50epochs_edge_paper_final2/mobilenetv3_large_100.ra_in1k_uc-merced-land-use-dataset_TRADES_v2.pkl\n",
      "../results/linearprobe_50epochs_edge_paper_final2/edgenext_small.usi_in1k_uc-merced-land-use-dataset_TRADES_v2.pkl\n",
      "../results/linearprobe_50epochs_edge_paper_final2/coat_tiny.in1k_uc-merced-land-use-dataset_TRADES_v2.pkl\n",
      "../results/linearprobe_50epochs_paper_final2/CLIP-convnext_base_w-laion_aesthetic-s13B-b82K_stanford_cars_TRADES_v2.pkl\n",
      "../results/linearprobe_50epochs_paper_final2/CLIP-convnext_base_w-laion2B-s13B-b82K_stanford_cars_TRADES_v2.pkl\n",
      "../results/linearprobe_50epochs_paper_final2/deit_small_patch16_224.fb_in1k_stanford_cars_TRADES_v2.pkl\n",
      "../results/linearprobe_50epochs_paper_final2/robust_resnet50_stanford_cars_TRADES_v2.pkl\n",
      "../results/linearprobe_50epochs_paper_final2/vit_small_patch16_224.augreg_in21k_stanford_cars_TRADES_v2.pkl\n",
      "../results/linearprobe_50epochs_paper_final2/convnext_base.fb_in1k_stanford_cars_TRADES_v2.pkl\n",
      "../results/linearprobe_50epochs_paper_final2/resnet50.a1_in1k_stanford_cars_TRADES_v2.pkl\n",
      "../results/linearprobe_50epochs_paper_final2/robust_vit_base_patch16_224_stanford_cars_TRADES_v2.pkl\n",
      "../results/linearprobe_50epochs_paper_final2/vit_base_patch16_224.mae_stanford_cars_TRADES_v2.pkl\n",
      "../results/linearprobe_50epochs_paper_final2/vit_small_patch16_224.dino_stanford_cars_TRADES_v2.pkl\n",
      "../results/linearprobe_50epochs_paper_final2/convnext_base.fb_in22k_stanford_cars_TRADES_v2.pkl\n",
      "../results/linearprobe_50epochs_paper_final2/robust_convnext_base_stanford_cars_TRADES_v2.pkl\n",
      "../results/linearprobe_50epochs_paper_final2/vit_base_patch16_224.augreg_in1k_stanford_cars_TRADES_v2.pkl\n",
      "../results/linearprobe_50epochs_paper_final2/vit_base_patch16_224.augreg_in21k_stanford_cars_TRADES_v2.pkl\n",
      "../results/linearprobe_50epochs_paper_final2/vit_base_patch16_clip_224.laion2b_stanford_cars_TRADES_v2.pkl\n",
      "../results/linearprobe_50epochs_paper_final2/convnext_tiny.fb_in1k_stanford_cars_TRADES_v2.pkl\n",
      "../results/linearprobe_50epochs_paper_final2/robust_convnext_tiny_stanford_cars_TRADES_v2.pkl\n",
      "../results/linearprobe_50epochs_paper_final2/robust_deit_small_patch16_224_stanford_cars_TRADES_v2.pkl\n",
      "../results/linearprobe_50epochs_paper_final2/vit_small_patch16_224.augreg_in1k_stanford_cars_TRADES_v2.pkl\n",
      "../results/linearprobe_50epochs_paper_final2/convnext_tiny.fb_in22k_stanford_cars_TRADES_v2.pkl\n",
      "../results/linearprobe_50epochs_paper_final2/vit_base_patch16_clip_224.laion2b_ft_in1k_stanford_cars_TRADES_v2.pkl\n",
      "../results/linearprobe_50epochs_paper_final2/vit_base_patch16_224.augreg_in21k_ft_in1k_stanford_cars_TRADES_v2.pkl\n",
      "../results/linearprobe_50epochs_paper_final2/vit_small_patch16_224.augreg_in21k_ft_in1k_stanford_cars_TRADES_v2.pkl\n",
      "../results/linearprobe_50epochs_paper_final2/eva02_base_patch14_224.mim_in22k_stanford_cars_TRADES_v2.pkl\n",
      "../results/linearprobe_50epochs_paper_final2/eva02_tiny_patch14_224.mim_in22k_stanford_cars_TRADES_v2.pkl\n",
      "../results/linearprobe_50epochs_paper_final2/swin_base_patch4_window7_224.ms_in22k_ft_in1k_stanford_cars_TRADES_v2.pkl\n",
      "../results/linearprobe_50epochs_paper_final2/swin_tiny_patch4_window7_224.ms_in1k_stanford_cars_TRADES_v2.pkl\n",
      "../results/linearprobe_50epochs_paper_final2/convnext_base.clip_laion2b_augreg_ft_in12k_in1k_stanford_cars_TRADES_v2.pkl\n",
      "../results/linearprobe_50epochs_paper_final2/convnext_base.fb_in22k_ft_in1k_stanford_cars_TRADES_v2.pkl\n",
      "../results/linearprobe_50epochs_paper_final2/convnext_tiny.fb_in22k_ft_in1k_stanford_cars_TRADES_v2.pkl\n",
      "../results/linearprobe_50epochs_paper_final2/coatnet_0_rw_224.sw_in1k_stanford_cars_TRADES_v2.pkl\n",
      "../results/linearprobe_50epochs_paper_final2/coatnet_2_rw_224.sw_in12k_ft_in1k_stanford_cars_TRADES_v2.pkl\n",
      "../results/linearprobe_50epochs_paper_final2/coatnet_2_rw_224.sw_in12k_stanford_cars_TRADES_v2.pkl\n",
      "../results/linearprobe_50epochs_edge_paper_final2/regnetx_004.pycls_in1k_stanford_cars_TRADES_v2.pkl\n",
      "../results/linearprobe_50epochs_edge_paper_final2/efficientnet-b0_stanford_cars_TRADES_v2.pkl\n",
      "../results/linearprobe_50epochs_edge_paper_final2/deit_tiny_patch16_224.fb_in1k_stanford_cars_TRADES_v2.pkl\n",
      "../results/linearprobe_50epochs_edge_paper_final2/mobilevit-small_stanford_cars_TRADES_v2.pkl\n",
      "../results/linearprobe_50epochs_edge_paper_final2/mobilenetv3_large_100.ra_in1k_stanford_cars_TRADES_v2.pkl\n",
      "../results/linearprobe_50epochs_edge_paper_final2/edgenext_small.usi_in1k_stanford_cars_TRADES_v2.pkl\n",
      "../results/linearprobe_50epochs_edge_paper_final2/coat_tiny.in1k_stanford_cars_TRADES_v2.pkl\n",
      "../results/linearprobe_50epochs_paper_final2/CLIP-convnext_base_w-laion_aesthetic-s13B-b82K_caltech101_TRADES_v2.pkl\n",
      "../results/linearprobe_50epochs_paper_final2/CLIP-convnext_base_w-laion2B-s13B-b82K_caltech101_TRADES_v2.pkl\n",
      "../results/linearprobe_50epochs_paper_final2/deit_small_patch16_224.fb_in1k_caltech101_TRADES_v2.pkl\n",
      "../results/linearprobe_50epochs_paper_final2/robust_resnet50_caltech101_TRADES_v2.pkl\n",
      "../results/linearprobe_50epochs_paper_final2/vit_small_patch16_224.augreg_in21k_caltech101_TRADES_v2.pkl\n",
      "../results/linearprobe_50epochs_paper_final2/convnext_base.fb_in1k_caltech101_TRADES_v2.pkl\n",
      "../results/linearprobe_50epochs_paper_final2/resnet50.a1_in1k_caltech101_TRADES_v2.pkl\n",
      "../results/linearprobe_50epochs_paper_final2/robust_vit_base_patch16_224_caltech101_TRADES_v2.pkl\n",
      "../results/linearprobe_50epochs_paper_final2/vit_base_patch16_224.mae_caltech101_TRADES_v2.pkl\n",
      "../results/linearprobe_50epochs_paper_final2/vit_small_patch16_224.dino_caltech101_TRADES_v2.pkl\n",
      "../results/linearprobe_50epochs_paper_final2/convnext_base.fb_in22k_caltech101_TRADES_v2.pkl\n",
      "../results/linearprobe_50epochs_paper_final2/robust_convnext_base_caltech101_TRADES_v2.pkl\n",
      "../results/linearprobe_50epochs_paper_final2/vit_base_patch16_224.augreg_in1k_caltech101_TRADES_v2.pkl\n",
      "../results/linearprobe_50epochs_paper_final2/vit_base_patch16_224.augreg_in21k_caltech101_TRADES_v2.pkl\n",
      "../results/linearprobe_50epochs_paper_final2/vit_base_patch16_clip_224.laion2b_caltech101_TRADES_v2.pkl\n",
      "../results/linearprobe_50epochs_paper_final2/convnext_tiny.fb_in1k_caltech101_TRADES_v2.pkl\n",
      "../results/linearprobe_50epochs_paper_final2/robust_convnext_tiny_caltech101_TRADES_v2.pkl\n",
      "../results/linearprobe_50epochs_paper_final2/robust_deit_small_patch16_224_caltech101_TRADES_v2.pkl\n",
      "../results/linearprobe_50epochs_paper_final2/vit_small_patch16_224.augreg_in1k_caltech101_TRADES_v2.pkl\n",
      "../results/linearprobe_50epochs_paper_final2/convnext_tiny.fb_in22k_caltech101_TRADES_v2.pkl\n",
      "../results/linearprobe_50epochs_paper_final2/vit_base_patch16_clip_224.laion2b_ft_in1k_caltech101_TRADES_v2.pkl\n",
      "../results/linearprobe_50epochs_paper_final2/vit_base_patch16_224.augreg_in21k_ft_in1k_caltech101_TRADES_v2.pkl\n",
      "../results/linearprobe_50epochs_paper_final2/vit_small_patch16_224.augreg_in21k_ft_in1k_caltech101_TRADES_v2.pkl\n",
      "../results/linearprobe_50epochs_paper_final2/eva02_base_patch14_224.mim_in22k_caltech101_TRADES_v2.pkl\n",
      "../results/linearprobe_50epochs_paper_final2/eva02_tiny_patch14_224.mim_in22k_caltech101_TRADES_v2.pkl\n",
      "../results/linearprobe_50epochs_paper_final2/swin_base_patch4_window7_224.ms_in22k_ft_in1k_caltech101_TRADES_v2.pkl\n",
      "../results/linearprobe_50epochs_paper_final2/swin_tiny_patch4_window7_224.ms_in1k_caltech101_TRADES_v2.pkl\n",
      "../results/linearprobe_50epochs_paper_final2/convnext_base.clip_laion2b_augreg_ft_in12k_in1k_caltech101_TRADES_v2.pkl\n",
      "../results/linearprobe_50epochs_paper_final2/convnext_base.fb_in22k_ft_in1k_caltech101_TRADES_v2.pkl\n",
      "../results/linearprobe_50epochs_paper_final2/convnext_tiny.fb_in22k_ft_in1k_caltech101_TRADES_v2.pkl\n",
      "../results/linearprobe_50epochs_paper_final2/coatnet_0_rw_224.sw_in1k_caltech101_TRADES_v2.pkl\n",
      "../results/linearprobe_50epochs_paper_final2/coatnet_2_rw_224.sw_in12k_ft_in1k_caltech101_TRADES_v2.pkl\n",
      "../results/linearprobe_50epochs_paper_final2/coatnet_2_rw_224.sw_in12k_caltech101_TRADES_v2.pkl\n",
      "../results/linearprobe_50epochs_edge_paper_final2/regnetx_004.pycls_in1k_caltech101_TRADES_v2.pkl\n",
      "../results/linearprobe_50epochs_edge_paper_final2/efficientnet-b0_caltech101_TRADES_v2.pkl\n",
      "../results/linearprobe_50epochs_edge_paper_final2/deit_tiny_patch16_224.fb_in1k_caltech101_TRADES_v2.pkl\n",
      "../results/linearprobe_50epochs_edge_paper_final2/mobilevit-small_caltech101_TRADES_v2.pkl\n",
      "../results/linearprobe_50epochs_edge_paper_final2/mobilenetv3_large_100.ra_in1k_caltech101_TRADES_v2.pkl\n",
      "../results/linearprobe_50epochs_edge_paper_final2/edgenext_small.usi_in1k_caltech101_TRADES_v2.pkl\n",
      "../results/linearprobe_50epochs_edge_paper_final2/coat_tiny.in1k_caltech101_TRADES_v2.pkl\n",
      "../results/linearprobe_50epochs_paper_final2/CLIP-convnext_base_w-laion_aesthetic-s13B-b82K_fgvc-aircraft-2013b_TRADES_v2.pkl\n",
      "../results/linearprobe_50epochs_paper_final2/CLIP-convnext_base_w-laion2B-s13B-b82K_fgvc-aircraft-2013b_TRADES_v2.pkl\n",
      "../results/linearprobe_50epochs_paper_final2/deit_small_patch16_224.fb_in1k_fgvc-aircraft-2013b_TRADES_v2.pkl\n",
      "../results/linearprobe_50epochs_paper_final2/robust_resnet50_fgvc-aircraft-2013b_TRADES_v2.pkl\n",
      "../results/linearprobe_50epochs_paper_final2/vit_small_patch16_224.augreg_in21k_fgvc-aircraft-2013b_TRADES_v2.pkl\n",
      "../results/linearprobe_50epochs_paper_final2/convnext_base.fb_in1k_fgvc-aircraft-2013b_TRADES_v2.pkl\n",
      "../results/linearprobe_50epochs_paper_final2/resnet50.a1_in1k_fgvc-aircraft-2013b_TRADES_v2.pkl\n",
      "../results/linearprobe_50epochs_paper_final2/robust_vit_base_patch16_224_fgvc-aircraft-2013b_TRADES_v2.pkl\n",
      "../results/linearprobe_50epochs_paper_final2/vit_base_patch16_224.mae_fgvc-aircraft-2013b_TRADES_v2.pkl\n",
      "../results/linearprobe_50epochs_paper_final2/vit_small_patch16_224.dino_fgvc-aircraft-2013b_TRADES_v2.pkl\n",
      "../results/linearprobe_50epochs_paper_final2/convnext_base.fb_in22k_fgvc-aircraft-2013b_TRADES_v2.pkl\n",
      "../results/linearprobe_50epochs_paper_final2/robust_convnext_base_fgvc-aircraft-2013b_TRADES_v2.pkl\n",
      "../results/linearprobe_50epochs_paper_final2/vit_base_patch16_224.augreg_in1k_fgvc-aircraft-2013b_TRADES_v2.pkl\n",
      "../results/linearprobe_50epochs_paper_final2/vit_base_patch16_224.augreg_in21k_fgvc-aircraft-2013b_TRADES_v2.pkl\n",
      "../results/linearprobe_50epochs_paper_final2/vit_base_patch16_clip_224.laion2b_fgvc-aircraft-2013b_TRADES_v2.pkl\n",
      "../results/linearprobe_50epochs_paper_final2/convnext_tiny.fb_in1k_fgvc-aircraft-2013b_TRADES_v2.pkl\n",
      "../results/linearprobe_50epochs_paper_final2/robust_convnext_tiny_fgvc-aircraft-2013b_TRADES_v2.pkl\n",
      "../results/linearprobe_50epochs_paper_final2/robust_deit_small_patch16_224_fgvc-aircraft-2013b_TRADES_v2.pkl\n",
      "../results/linearprobe_50epochs_paper_final2/vit_small_patch16_224.augreg_in1k_fgvc-aircraft-2013b_TRADES_v2.pkl\n",
      "../results/linearprobe_50epochs_paper_final2/convnext_tiny.fb_in22k_fgvc-aircraft-2013b_TRADES_v2.pkl\n",
      "../results/linearprobe_50epochs_paper_final2/vit_base_patch16_clip_224.laion2b_ft_in1k_fgvc-aircraft-2013b_TRADES_v2.pkl\n",
      "../results/linearprobe_50epochs_paper_final2/vit_base_patch16_224.augreg_in21k_ft_in1k_fgvc-aircraft-2013b_TRADES_v2.pkl\n",
      "../results/linearprobe_50epochs_paper_final2/vit_small_patch16_224.augreg_in21k_ft_in1k_fgvc-aircraft-2013b_TRADES_v2.pkl\n",
      "../results/linearprobe_50epochs_paper_final2/eva02_base_patch14_224.mim_in22k_fgvc-aircraft-2013b_TRADES_v2.pkl\n",
      "../results/linearprobe_50epochs_paper_final2/eva02_tiny_patch14_224.mim_in22k_fgvc-aircraft-2013b_TRADES_v2.pkl\n",
      "../results/linearprobe_50epochs_paper_final2/swin_base_patch4_window7_224.ms_in22k_ft_in1k_fgvc-aircraft-2013b_TRADES_v2.pkl\n",
      "../results/linearprobe_50epochs_paper_final2/swin_tiny_patch4_window7_224.ms_in1k_fgvc-aircraft-2013b_TRADES_v2.pkl\n",
      "../results/linearprobe_50epochs_paper_final2/convnext_base.clip_laion2b_augreg_ft_in12k_in1k_fgvc-aircraft-2013b_TRADES_v2.pkl\n",
      "../results/linearprobe_50epochs_paper_final2/convnext_base.fb_in22k_ft_in1k_fgvc-aircraft-2013b_TRADES_v2.pkl\n",
      "../results/linearprobe_50epochs_paper_final2/convnext_tiny.fb_in22k_ft_in1k_fgvc-aircraft-2013b_TRADES_v2.pkl\n",
      "../results/linearprobe_50epochs_paper_final2/coatnet_0_rw_224.sw_in1k_fgvc-aircraft-2013b_TRADES_v2.pkl\n",
      "../results/linearprobe_50epochs_paper_final2/coatnet_2_rw_224.sw_in12k_ft_in1k_fgvc-aircraft-2013b_TRADES_v2.pkl\n",
      "../results/linearprobe_50epochs_paper_final2/coatnet_2_rw_224.sw_in12k_fgvc-aircraft-2013b_TRADES_v2.pkl\n",
      "../results/linearprobe_50epochs_edge_paper_final2/regnetx_004.pycls_in1k_fgvc-aircraft-2013b_TRADES_v2.pkl\n",
      "../results/linearprobe_50epochs_edge_paper_final2/efficientnet-b0_fgvc-aircraft-2013b_TRADES_v2.pkl\n",
      "../results/linearprobe_50epochs_edge_paper_final2/deit_tiny_patch16_224.fb_in1k_fgvc-aircraft-2013b_TRADES_v2.pkl\n",
      "../results/linearprobe_50epochs_edge_paper_final2/mobilevit-small_fgvc-aircraft-2013b_TRADES_v2.pkl\n",
      "../results/linearprobe_50epochs_edge_paper_final2/mobilenetv3_large_100.ra_in1k_fgvc-aircraft-2013b_TRADES_v2.pkl\n",
      "../results/linearprobe_50epochs_edge_paper_final2/edgenext_small.usi_in1k_fgvc-aircraft-2013b_TRADES_v2.pkl\n",
      "../results/linearprobe_50epochs_edge_paper_final2/coat_tiny.in1k_fgvc-aircraft-2013b_TRADES_v2.pkl\n",
      "../results/linearprobe_50epochs_paper_final2/CLIP-convnext_base_w-laion_aesthetic-s13B-b82K_flowers-102_TRADES_v2.pkl\n",
      "../results/linearprobe_50epochs_paper_final2/CLIP-convnext_base_w-laion2B-s13B-b82K_flowers-102_TRADES_v2.pkl\n",
      "../results/linearprobe_50epochs_paper_final2/deit_small_patch16_224.fb_in1k_flowers-102_TRADES_v2.pkl\n",
      "../results/linearprobe_50epochs_paper_final2/robust_resnet50_flowers-102_TRADES_v2.pkl\n",
      "../results/linearprobe_50epochs_paper_final2/vit_small_patch16_224.augreg_in21k_flowers-102_TRADES_v2.pkl\n",
      "../results/linearprobe_50epochs_paper_final2/convnext_base.fb_in1k_flowers-102_TRADES_v2.pkl\n",
      "../results/linearprobe_50epochs_paper_final2/resnet50.a1_in1k_flowers-102_TRADES_v2.pkl\n",
      "../results/linearprobe_50epochs_paper_final2/robust_vit_base_patch16_224_flowers-102_TRADES_v2.pkl\n",
      "../results/linearprobe_50epochs_paper_final2/vit_base_patch16_224.mae_flowers-102_TRADES_v2.pkl\n",
      "../results/linearprobe_50epochs_paper_final2/vit_small_patch16_224.dino_flowers-102_TRADES_v2.pkl\n",
      "../results/linearprobe_50epochs_paper_final2/convnext_base.fb_in22k_flowers-102_TRADES_v2.pkl\n",
      "../results/linearprobe_50epochs_paper_final2/robust_convnext_base_flowers-102_TRADES_v2.pkl\n",
      "../results/linearprobe_50epochs_paper_final2/vit_base_patch16_224.augreg_in1k_flowers-102_TRADES_v2.pkl\n",
      "../results/linearprobe_50epochs_paper_final2/vit_base_patch16_224.augreg_in21k_flowers-102_TRADES_v2.pkl\n",
      "../results/linearprobe_50epochs_paper_final2/vit_base_patch16_clip_224.laion2b_flowers-102_TRADES_v2.pkl\n",
      "../results/linearprobe_50epochs_paper_final2/convnext_tiny.fb_in1k_flowers-102_TRADES_v2.pkl\n",
      "../results/linearprobe_50epochs_paper_final2/robust_convnext_tiny_flowers-102_TRADES_v2.pkl\n",
      "../results/linearprobe_50epochs_paper_final2/robust_deit_small_patch16_224_flowers-102_TRADES_v2.pkl\n",
      "../results/linearprobe_50epochs_paper_final2/vit_small_patch16_224.augreg_in1k_flowers-102_TRADES_v2.pkl\n",
      "../results/linearprobe_50epochs_paper_final2/convnext_tiny.fb_in22k_flowers-102_TRADES_v2.pkl\n",
      "../results/linearprobe_50epochs_paper_final2/vit_base_patch16_clip_224.laion2b_ft_in1k_flowers-102_TRADES_v2.pkl\n",
      "../results/linearprobe_50epochs_paper_final2/vit_base_patch16_224.augreg_in21k_ft_in1k_flowers-102_TRADES_v2.pkl\n",
      "../results/linearprobe_50epochs_paper_final2/vit_small_patch16_224.augreg_in21k_ft_in1k_flowers-102_TRADES_v2.pkl\n",
      "../results/linearprobe_50epochs_paper_final2/eva02_base_patch14_224.mim_in22k_flowers-102_TRADES_v2.pkl\n",
      "../results/linearprobe_50epochs_paper_final2/eva02_tiny_patch14_224.mim_in22k_flowers-102_TRADES_v2.pkl\n",
      "../results/linearprobe_50epochs_paper_final2/swin_base_patch4_window7_224.ms_in22k_ft_in1k_flowers-102_TRADES_v2.pkl\n",
      "../results/linearprobe_50epochs_paper_final2/swin_tiny_patch4_window7_224.ms_in1k_flowers-102_TRADES_v2.pkl\n",
      "../results/linearprobe_50epochs_paper_final2/convnext_base.clip_laion2b_augreg_ft_in12k_in1k_flowers-102_TRADES_v2.pkl\n",
      "../results/linearprobe_50epochs_paper_final2/convnext_base.fb_in22k_ft_in1k_flowers-102_TRADES_v2.pkl\n",
      "../results/linearprobe_50epochs_paper_final2/convnext_tiny.fb_in22k_ft_in1k_flowers-102_TRADES_v2.pkl\n",
      "../results/linearprobe_50epochs_paper_final2/coatnet_0_rw_224.sw_in1k_flowers-102_TRADES_v2.pkl\n",
      "../results/linearprobe_50epochs_paper_final2/coatnet_2_rw_224.sw_in12k_ft_in1k_flowers-102_TRADES_v2.pkl\n",
      "../results/linearprobe_50epochs_paper_final2/coatnet_2_rw_224.sw_in12k_flowers-102_TRADES_v2.pkl\n",
      "../results/linearprobe_50epochs_edge_paper_final2/regnetx_004.pycls_in1k_flowers-102_TRADES_v2.pkl\n",
      "../results/linearprobe_50epochs_edge_paper_final2/efficientnet-b0_flowers-102_TRADES_v2.pkl\n",
      "../results/linearprobe_50epochs_edge_paper_final2/deit_tiny_patch16_224.fb_in1k_flowers-102_TRADES_v2.pkl\n",
      "../results/linearprobe_50epochs_edge_paper_final2/mobilevit-small_flowers-102_TRADES_v2.pkl\n",
      "../results/linearprobe_50epochs_edge_paper_final2/mobilenetv3_large_100.ra_in1k_flowers-102_TRADES_v2.pkl\n",
      "../results/linearprobe_50epochs_edge_paper_final2/edgenext_small.usi_in1k_flowers-102_TRADES_v2.pkl\n",
      "../results/linearprobe_50epochs_edge_paper_final2/coat_tiny.in1k_flowers-102_TRADES_v2.pkl\n",
      "../results/linearprobe_50epochs_paper_final2/CLIP-convnext_base_w-laion_aesthetic-s13B-b82K_oxford-iiit-pet_TRADES_v2.pkl\n",
      "../results/linearprobe_50epochs_paper_final2/CLIP-convnext_base_w-laion2B-s13B-b82K_oxford-iiit-pet_TRADES_v2.pkl\n",
      "../results/linearprobe_50epochs_paper_final2/deit_small_patch16_224.fb_in1k_oxford-iiit-pet_TRADES_v2.pkl\n",
      "../results/linearprobe_50epochs_paper_final2/robust_resnet50_oxford-iiit-pet_TRADES_v2.pkl\n",
      "../results/linearprobe_50epochs_paper_final2/vit_small_patch16_224.augreg_in21k_oxford-iiit-pet_TRADES_v2.pkl\n",
      "../results/linearprobe_50epochs_paper_final2/convnext_base.fb_in1k_oxford-iiit-pet_TRADES_v2.pkl\n",
      "../results/linearprobe_50epochs_paper_final2/resnet50.a1_in1k_oxford-iiit-pet_TRADES_v2.pkl\n",
      "../results/linearprobe_50epochs_paper_final2/robust_vit_base_patch16_224_oxford-iiit-pet_TRADES_v2.pkl\n",
      "../results/linearprobe_50epochs_paper_final2/vit_base_patch16_224.mae_oxford-iiit-pet_TRADES_v2.pkl\n",
      "../results/linearprobe_50epochs_paper_final2/vit_small_patch16_224.dino_oxford-iiit-pet_TRADES_v2.pkl\n",
      "../results/linearprobe_50epochs_paper_final2/convnext_base.fb_in22k_oxford-iiit-pet_TRADES_v2.pkl\n",
      "../results/linearprobe_50epochs_paper_final2/robust_convnext_base_oxford-iiit-pet_TRADES_v2.pkl\n",
      "../results/linearprobe_50epochs_paper_final2/vit_base_patch16_224.augreg_in1k_oxford-iiit-pet_TRADES_v2.pkl\n",
      "../results/linearprobe_50epochs_paper_final2/vit_base_patch16_224.augreg_in21k_oxford-iiit-pet_TRADES_v2.pkl\n",
      "../results/linearprobe_50epochs_paper_final2/vit_base_patch16_clip_224.laion2b_oxford-iiit-pet_TRADES_v2.pkl\n",
      "../results/linearprobe_50epochs_paper_final2/convnext_tiny.fb_in1k_oxford-iiit-pet_TRADES_v2.pkl\n",
      "../results/linearprobe_50epochs_paper_final2/robust_convnext_tiny_oxford-iiit-pet_TRADES_v2.pkl\n",
      "../results/linearprobe_50epochs_paper_final2/robust_deit_small_patch16_224_oxford-iiit-pet_TRADES_v2.pkl\n",
      "../results/linearprobe_50epochs_paper_final2/vit_small_patch16_224.augreg_in1k_oxford-iiit-pet_TRADES_v2.pkl\n",
      "../results/linearprobe_50epochs_paper_final2/convnext_tiny.fb_in22k_oxford-iiit-pet_TRADES_v2.pkl\n",
      "../results/linearprobe_50epochs_paper_final2/vit_base_patch16_clip_224.laion2b_ft_in1k_oxford-iiit-pet_TRADES_v2.pkl\n",
      "../results/linearprobe_50epochs_paper_final2/vit_base_patch16_224.augreg_in21k_ft_in1k_oxford-iiit-pet_TRADES_v2.pkl\n",
      "../results/linearprobe_50epochs_paper_final2/vit_small_patch16_224.augreg_in21k_ft_in1k_oxford-iiit-pet_TRADES_v2.pkl\n",
      "../results/linearprobe_50epochs_paper_final2/eva02_base_patch14_224.mim_in22k_oxford-iiit-pet_TRADES_v2.pkl\n",
      "../results/linearprobe_50epochs_paper_final2/eva02_tiny_patch14_224.mim_in22k_oxford-iiit-pet_TRADES_v2.pkl\n",
      "../results/linearprobe_50epochs_paper_final2/swin_base_patch4_window7_224.ms_in22k_ft_in1k_oxford-iiit-pet_TRADES_v2.pkl\n",
      "../results/linearprobe_50epochs_paper_final2/swin_tiny_patch4_window7_224.ms_in1k_oxford-iiit-pet_TRADES_v2.pkl\n",
      "../results/linearprobe_50epochs_paper_final2/convnext_base.clip_laion2b_augreg_ft_in12k_in1k_oxford-iiit-pet_TRADES_v2.pkl\n",
      "../results/linearprobe_50epochs_paper_final2/convnext_base.fb_in22k_ft_in1k_oxford-iiit-pet_TRADES_v2.pkl\n",
      "../results/linearprobe_50epochs_paper_final2/convnext_tiny.fb_in22k_ft_in1k_oxford-iiit-pet_TRADES_v2.pkl\n",
      "../results/linearprobe_50epochs_paper_final2/coatnet_0_rw_224.sw_in1k_oxford-iiit-pet_TRADES_v2.pkl\n",
      "../results/linearprobe_50epochs_paper_final2/coatnet_2_rw_224.sw_in12k_ft_in1k_oxford-iiit-pet_TRADES_v2.pkl\n",
      "../results/linearprobe_50epochs_paper_final2/coatnet_2_rw_224.sw_in12k_oxford-iiit-pet_TRADES_v2.pkl\n",
      "../results/linearprobe_50epochs_edge_paper_final2/regnetx_004.pycls_in1k_oxford-iiit-pet_TRADES_v2.pkl\n",
      "../results/linearprobe_50epochs_edge_paper_final2/efficientnet-b0_oxford-iiit-pet_TRADES_v2.pkl\n",
      "../results/linearprobe_50epochs_edge_paper_final2/deit_tiny_patch16_224.fb_in1k_oxford-iiit-pet_TRADES_v2.pkl\n",
      "../results/linearprobe_50epochs_edge_paper_final2/mobilevit-small_oxford-iiit-pet_TRADES_v2.pkl\n",
      "../results/linearprobe_50epochs_edge_paper_final2/mobilenetv3_large_100.ra_in1k_oxford-iiit-pet_TRADES_v2.pkl\n",
      "../results/linearprobe_50epochs_edge_paper_final2/edgenext_small.usi_in1k_oxford-iiit-pet_TRADES_v2.pkl\n",
      "../results/linearprobe_50epochs_edge_paper_final2/coat_tiny.in1k_oxford-iiit-pet_TRADES_v2.pkl\n",
      "../results/linearprobe_50epochs_paper_final2/CLIP-convnext_base_w-laion_aesthetic-s13B-b82K_uc-merced-land-use-dataset_CLASSIC_AT.pkl\n",
      "../results/linearprobe_50epochs_paper_final2/CLIP-convnext_base_w-laion2B-s13B-b82K_uc-merced-land-use-dataset_CLASSIC_AT.pkl\n",
      "../results/linearprobe_50epochs_paper_final2/deit_small_patch16_224.fb_in1k_uc-merced-land-use-dataset_CLASSIC_AT.pkl\n",
      "../results/linearprobe_50epochs_paper_final2/robust_resnet50_uc-merced-land-use-dataset_CLASSIC_AT.pkl\n",
      "../results/linearprobe_50epochs_paper_final2/vit_small_patch16_224.augreg_in21k_uc-merced-land-use-dataset_CLASSIC_AT.pkl\n",
      "../results/linearprobe_50epochs_paper_final2/convnext_base.fb_in1k_uc-merced-land-use-dataset_CLASSIC_AT.pkl\n",
      "../results/linearprobe_50epochs_paper_final2/resnet50.a1_in1k_uc-merced-land-use-dataset_CLASSIC_AT.pkl\n",
      "../results/linearprobe_50epochs_paper_final2/robust_vit_base_patch16_224_uc-merced-land-use-dataset_CLASSIC_AT.pkl\n",
      "../results/linearprobe_50epochs_paper_final2/vit_base_patch16_224.mae_uc-merced-land-use-dataset_CLASSIC_AT.pkl\n",
      "../results/linearprobe_50epochs_paper_final2/vit_small_patch16_224.dino_uc-merced-land-use-dataset_CLASSIC_AT.pkl\n",
      "../results/linearprobe_50epochs_paper_final2/convnext_base.fb_in22k_uc-merced-land-use-dataset_CLASSIC_AT.pkl\n",
      "../results/linearprobe_50epochs_paper_final2/robust_convnext_base_uc-merced-land-use-dataset_CLASSIC_AT.pkl\n",
      "../results/linearprobe_50epochs_paper_final2/vit_base_patch16_224.augreg_in1k_uc-merced-land-use-dataset_CLASSIC_AT.pkl\n",
      "../results/linearprobe_50epochs_paper_final2/vit_base_patch16_224.augreg_in21k_uc-merced-land-use-dataset_CLASSIC_AT.pkl\n",
      "../results/linearprobe_50epochs_paper_final2/vit_base_patch16_clip_224.laion2b_uc-merced-land-use-dataset_CLASSIC_AT.pkl\n",
      "../results/linearprobe_50epochs_paper_final2/convnext_tiny.fb_in1k_uc-merced-land-use-dataset_CLASSIC_AT.pkl\n",
      "../results/linearprobe_50epochs_paper_final2/robust_convnext_tiny_uc-merced-land-use-dataset_CLASSIC_AT.pkl\n",
      "../results/linearprobe_50epochs_paper_final2/robust_deit_small_patch16_224_uc-merced-land-use-dataset_CLASSIC_AT.pkl\n",
      "../results/linearprobe_50epochs_paper_final2/vit_small_patch16_224.augreg_in1k_uc-merced-land-use-dataset_CLASSIC_AT.pkl\n",
      "../results/linearprobe_50epochs_paper_final2/convnext_tiny.fb_in22k_uc-merced-land-use-dataset_CLASSIC_AT.pkl\n",
      "../results/linearprobe_50epochs_paper_final2/vit_base_patch16_clip_224.laion2b_ft_in1k_uc-merced-land-use-dataset_CLASSIC_AT.pkl\n",
      "../results/linearprobe_50epochs_paper_final2/vit_base_patch16_224.augreg_in21k_ft_in1k_uc-merced-land-use-dataset_CLASSIC_AT.pkl\n",
      "../results/linearprobe_50epochs_paper_final2/vit_small_patch16_224.augreg_in21k_ft_in1k_uc-merced-land-use-dataset_CLASSIC_AT.pkl\n",
      "../results/linearprobe_50epochs_paper_final2/eva02_base_patch14_224.mim_in22k_uc-merced-land-use-dataset_CLASSIC_AT.pkl\n",
      "../results/linearprobe_50epochs_paper_final2/eva02_tiny_patch14_224.mim_in22k_uc-merced-land-use-dataset_CLASSIC_AT.pkl\n",
      "../results/linearprobe_50epochs_paper_final2/swin_base_patch4_window7_224.ms_in22k_ft_in1k_uc-merced-land-use-dataset_CLASSIC_AT.pkl\n",
      "../results/linearprobe_50epochs_paper_final2/swin_tiny_patch4_window7_224.ms_in1k_uc-merced-land-use-dataset_CLASSIC_AT.pkl\n",
      "../results/linearprobe_50epochs_paper_final2/convnext_base.clip_laion2b_augreg_ft_in12k_in1k_uc-merced-land-use-dataset_CLASSIC_AT.pkl\n",
      "../results/linearprobe_50epochs_paper_final2/convnext_base.fb_in22k_ft_in1k_uc-merced-land-use-dataset_CLASSIC_AT.pkl\n",
      "../results/linearprobe_50epochs_paper_final2/convnext_tiny.fb_in22k_ft_in1k_uc-merced-land-use-dataset_CLASSIC_AT.pkl\n",
      "../results/linearprobe_50epochs_paper_final2/coatnet_0_rw_224.sw_in1k_uc-merced-land-use-dataset_CLASSIC_AT.pkl\n",
      "../results/linearprobe_50epochs_paper_final2/coatnet_2_rw_224.sw_in12k_ft_in1k_uc-merced-land-use-dataset_CLASSIC_AT.pkl\n",
      "../results/linearprobe_50epochs_paper_final2/coatnet_2_rw_224.sw_in12k_uc-merced-land-use-dataset_CLASSIC_AT.pkl\n",
      "../results/linearprobe_50epochs_edge_paper_final2/regnetx_004.pycls_in1k_uc-merced-land-use-dataset_CLASSIC_AT.pkl\n",
      "../results/linearprobe_50epochs_edge_paper_final2/efficientnet-b0_uc-merced-land-use-dataset_CLASSIC_AT.pkl\n",
      "../results/linearprobe_50epochs_edge_paper_final2/deit_tiny_patch16_224.fb_in1k_uc-merced-land-use-dataset_CLASSIC_AT.pkl\n",
      "../results/linearprobe_50epochs_edge_paper_final2/mobilevit-small_uc-merced-land-use-dataset_CLASSIC_AT.pkl\n",
      "../results/linearprobe_50epochs_edge_paper_final2/mobilenetv3_large_100.ra_in1k_uc-merced-land-use-dataset_CLASSIC_AT.pkl\n",
      "../results/linearprobe_50epochs_edge_paper_final2/edgenext_small.usi_in1k_uc-merced-land-use-dataset_CLASSIC_AT.pkl\n",
      "../results/linearprobe_50epochs_edge_paper_final2/coat_tiny.in1k_uc-merced-land-use-dataset_CLASSIC_AT.pkl\n",
      "../results/linearprobe_50epochs_paper_final2/CLIP-convnext_base_w-laion_aesthetic-s13B-b82K_stanford_cars_CLASSIC_AT.pkl\n",
      "../results/linearprobe_50epochs_paper_final2/CLIP-convnext_base_w-laion2B-s13B-b82K_stanford_cars_CLASSIC_AT.pkl\n",
      "../results/linearprobe_50epochs_paper_final2/deit_small_patch16_224.fb_in1k_stanford_cars_CLASSIC_AT.pkl\n",
      "../results/linearprobe_50epochs_paper_final2/robust_resnet50_stanford_cars_CLASSIC_AT.pkl\n",
      "../results/linearprobe_50epochs_paper_final2/vit_small_patch16_224.augreg_in21k_stanford_cars_CLASSIC_AT.pkl\n",
      "../results/linearprobe_50epochs_paper_final2/convnext_base.fb_in1k_stanford_cars_CLASSIC_AT.pkl\n",
      "../results/linearprobe_50epochs_paper_final2/resnet50.a1_in1k_stanford_cars_CLASSIC_AT.pkl\n",
      "../results/linearprobe_50epochs_paper_final2/robust_vit_base_patch16_224_stanford_cars_CLASSIC_AT.pkl\n",
      "../results/linearprobe_50epochs_paper_final2/vit_base_patch16_224.mae_stanford_cars_CLASSIC_AT.pkl\n",
      "../results/linearprobe_50epochs_paper_final2/vit_small_patch16_224.dino_stanford_cars_CLASSIC_AT.pkl\n",
      "../results/linearprobe_50epochs_paper_final2/convnext_base.fb_in22k_stanford_cars_CLASSIC_AT.pkl\n",
      "../results/linearprobe_50epochs_paper_final2/robust_convnext_base_stanford_cars_CLASSIC_AT.pkl\n",
      "../results/linearprobe_50epochs_paper_final2/vit_base_patch16_224.augreg_in1k_stanford_cars_CLASSIC_AT.pkl\n",
      "../results/linearprobe_50epochs_paper_final2/vit_base_patch16_224.augreg_in21k_stanford_cars_CLASSIC_AT.pkl\n",
      "../results/linearprobe_50epochs_paper_final2/vit_base_patch16_clip_224.laion2b_stanford_cars_CLASSIC_AT.pkl\n",
      "../results/linearprobe_50epochs_paper_final2/convnext_tiny.fb_in1k_stanford_cars_CLASSIC_AT.pkl\n",
      "../results/linearprobe_50epochs_paper_final2/robust_convnext_tiny_stanford_cars_CLASSIC_AT.pkl\n",
      "../results/linearprobe_50epochs_paper_final2/robust_deit_small_patch16_224_stanford_cars_CLASSIC_AT.pkl\n",
      "../results/linearprobe_50epochs_paper_final2/vit_small_patch16_224.augreg_in1k_stanford_cars_CLASSIC_AT.pkl\n",
      "../results/linearprobe_50epochs_paper_final2/convnext_tiny.fb_in22k_stanford_cars_CLASSIC_AT.pkl\n",
      "../results/linearprobe_50epochs_paper_final2/vit_base_patch16_clip_224.laion2b_ft_in1k_stanford_cars_CLASSIC_AT.pkl\n",
      "../results/linearprobe_50epochs_paper_final2/vit_base_patch16_224.augreg_in21k_ft_in1k_stanford_cars_CLASSIC_AT.pkl\n",
      "../results/linearprobe_50epochs_paper_final2/vit_small_patch16_224.augreg_in21k_ft_in1k_stanford_cars_CLASSIC_AT.pkl\n",
      "../results/linearprobe_50epochs_paper_final2/eva02_base_patch14_224.mim_in22k_stanford_cars_CLASSIC_AT.pkl\n",
      "../results/linearprobe_50epochs_paper_final2/eva02_tiny_patch14_224.mim_in22k_stanford_cars_CLASSIC_AT.pkl\n",
      "../results/linearprobe_50epochs_paper_final2/swin_base_patch4_window7_224.ms_in22k_ft_in1k_stanford_cars_CLASSIC_AT.pkl\n",
      "../results/linearprobe_50epochs_paper_final2/swin_tiny_patch4_window7_224.ms_in1k_stanford_cars_CLASSIC_AT.pkl\n",
      "../results/linearprobe_50epochs_paper_final2/convnext_base.clip_laion2b_augreg_ft_in12k_in1k_stanford_cars_CLASSIC_AT.pkl\n",
      "../results/linearprobe_50epochs_paper_final2/convnext_base.fb_in22k_ft_in1k_stanford_cars_CLASSIC_AT.pkl\n",
      "../results/linearprobe_50epochs_paper_final2/convnext_tiny.fb_in22k_ft_in1k_stanford_cars_CLASSIC_AT.pkl\n",
      "../results/linearprobe_50epochs_paper_final2/coatnet_0_rw_224.sw_in1k_stanford_cars_CLASSIC_AT.pkl\n",
      "../results/linearprobe_50epochs_paper_final2/coatnet_2_rw_224.sw_in12k_ft_in1k_stanford_cars_CLASSIC_AT.pkl\n",
      "../results/linearprobe_50epochs_paper_final2/coatnet_2_rw_224.sw_in12k_stanford_cars_CLASSIC_AT.pkl\n",
      "../results/linearprobe_50epochs_edge_paper_final2/regnetx_004.pycls_in1k_stanford_cars_CLASSIC_AT.pkl\n",
      "../results/linearprobe_50epochs_edge_paper_final2/efficientnet-b0_stanford_cars_CLASSIC_AT.pkl\n",
      "../results/linearprobe_50epochs_edge_paper_final2/deit_tiny_patch16_224.fb_in1k_stanford_cars_CLASSIC_AT.pkl\n",
      "../results/linearprobe_50epochs_edge_paper_final2/mobilevit-small_stanford_cars_CLASSIC_AT.pkl\n",
      "../results/linearprobe_50epochs_edge_paper_final2/mobilenetv3_large_100.ra_in1k_stanford_cars_CLASSIC_AT.pkl\n",
      "../results/linearprobe_50epochs_edge_paper_final2/edgenext_small.usi_in1k_stanford_cars_CLASSIC_AT.pkl\n",
      "../results/linearprobe_50epochs_edge_paper_final2/coat_tiny.in1k_stanford_cars_CLASSIC_AT.pkl\n",
      "../results/linearprobe_50epochs_paper_final2/CLIP-convnext_base_w-laion_aesthetic-s13B-b82K_caltech101_CLASSIC_AT.pkl\n",
      "../results/linearprobe_50epochs_paper_final2/CLIP-convnext_base_w-laion2B-s13B-b82K_caltech101_CLASSIC_AT.pkl\n",
      "../results/linearprobe_50epochs_paper_final2/deit_small_patch16_224.fb_in1k_caltech101_CLASSIC_AT.pkl\n",
      "../results/linearprobe_50epochs_paper_final2/robust_resnet50_caltech101_CLASSIC_AT.pkl\n",
      "../results/linearprobe_50epochs_paper_final2/vit_small_patch16_224.augreg_in21k_caltech101_CLASSIC_AT.pkl\n",
      "../results/linearprobe_50epochs_paper_final2/convnext_base.fb_in1k_caltech101_CLASSIC_AT.pkl\n",
      "../results/linearprobe_50epochs_paper_final2/resnet50.a1_in1k_caltech101_CLASSIC_AT.pkl\n",
      "../results/linearprobe_50epochs_paper_final2/robust_vit_base_patch16_224_caltech101_CLASSIC_AT.pkl\n",
      "../results/linearprobe_50epochs_paper_final2/vit_base_patch16_224.mae_caltech101_CLASSIC_AT.pkl\n",
      "../results/linearprobe_50epochs_paper_final2/vit_small_patch16_224.dino_caltech101_CLASSIC_AT.pkl\n",
      "../results/linearprobe_50epochs_paper_final2/convnext_base.fb_in22k_caltech101_CLASSIC_AT.pkl\n",
      "../results/linearprobe_50epochs_paper_final2/robust_convnext_base_caltech101_CLASSIC_AT.pkl\n",
      "../results/linearprobe_50epochs_paper_final2/vit_base_patch16_224.augreg_in1k_caltech101_CLASSIC_AT.pkl\n",
      "../results/linearprobe_50epochs_paper_final2/vit_base_patch16_224.augreg_in21k_caltech101_CLASSIC_AT.pkl\n",
      "../results/linearprobe_50epochs_paper_final2/vit_base_patch16_clip_224.laion2b_caltech101_CLASSIC_AT.pkl\n",
      "../results/linearprobe_50epochs_paper_final2/convnext_tiny.fb_in1k_caltech101_CLASSIC_AT.pkl\n",
      "../results/linearprobe_50epochs_paper_final2/robust_convnext_tiny_caltech101_CLASSIC_AT.pkl\n",
      "../results/linearprobe_50epochs_paper_final2/robust_deit_small_patch16_224_caltech101_CLASSIC_AT.pkl\n",
      "../results/linearprobe_50epochs_paper_final2/vit_small_patch16_224.augreg_in1k_caltech101_CLASSIC_AT.pkl\n",
      "../results/linearprobe_50epochs_paper_final2/convnext_tiny.fb_in22k_caltech101_CLASSIC_AT.pkl\n",
      "../results/linearprobe_50epochs_paper_final2/vit_base_patch16_clip_224.laion2b_ft_in1k_caltech101_CLASSIC_AT.pkl\n",
      "../results/linearprobe_50epochs_paper_final2/vit_base_patch16_224.augreg_in21k_ft_in1k_caltech101_CLASSIC_AT.pkl\n",
      "../results/linearprobe_50epochs_paper_final2/vit_small_patch16_224.augreg_in21k_ft_in1k_caltech101_CLASSIC_AT.pkl\n",
      "../results/linearprobe_50epochs_paper_final2/eva02_base_patch14_224.mim_in22k_caltech101_CLASSIC_AT.pkl\n",
      "../results/linearprobe_50epochs_paper_final2/eva02_tiny_patch14_224.mim_in22k_caltech101_CLASSIC_AT.pkl\n",
      "../results/linearprobe_50epochs_paper_final2/swin_base_patch4_window7_224.ms_in22k_ft_in1k_caltech101_CLASSIC_AT.pkl\n",
      "../results/linearprobe_50epochs_paper_final2/swin_tiny_patch4_window7_224.ms_in1k_caltech101_CLASSIC_AT.pkl\n",
      "../results/linearprobe_50epochs_paper_final2/convnext_base.clip_laion2b_augreg_ft_in12k_in1k_caltech101_CLASSIC_AT.pkl\n",
      "../results/linearprobe_50epochs_paper_final2/convnext_base.fb_in22k_ft_in1k_caltech101_CLASSIC_AT.pkl\n",
      "../results/linearprobe_50epochs_paper_final2/convnext_tiny.fb_in22k_ft_in1k_caltech101_CLASSIC_AT.pkl\n",
      "../results/linearprobe_50epochs_paper_final2/coatnet_0_rw_224.sw_in1k_caltech101_CLASSIC_AT.pkl\n",
      "../results/linearprobe_50epochs_paper_final2/coatnet_2_rw_224.sw_in12k_ft_in1k_caltech101_CLASSIC_AT.pkl\n",
      "../results/linearprobe_50epochs_paper_final2/coatnet_2_rw_224.sw_in12k_caltech101_CLASSIC_AT.pkl\n",
      "../results/linearprobe_50epochs_edge_paper_final2/regnetx_004.pycls_in1k_caltech101_CLASSIC_AT.pkl\n",
      "../results/linearprobe_50epochs_edge_paper_final2/efficientnet-b0_caltech101_CLASSIC_AT.pkl\n",
      "../results/linearprobe_50epochs_edge_paper_final2/deit_tiny_patch16_224.fb_in1k_caltech101_CLASSIC_AT.pkl\n",
      "../results/linearprobe_50epochs_edge_paper_final2/mobilevit-small_caltech101_CLASSIC_AT.pkl\n",
      "../results/linearprobe_50epochs_edge_paper_final2/mobilenetv3_large_100.ra_in1k_caltech101_CLASSIC_AT.pkl\n",
      "../results/linearprobe_50epochs_edge_paper_final2/edgenext_small.usi_in1k_caltech101_CLASSIC_AT.pkl\n",
      "../results/linearprobe_50epochs_edge_paper_final2/coat_tiny.in1k_caltech101_CLASSIC_AT.pkl\n",
      "../results/linearprobe_50epochs_paper_final2/CLIP-convnext_base_w-laion_aesthetic-s13B-b82K_fgvc-aircraft-2013b_CLASSIC_AT.pkl\n",
      "../results/linearprobe_50epochs_paper_final2/CLIP-convnext_base_w-laion2B-s13B-b82K_fgvc-aircraft-2013b_CLASSIC_AT.pkl\n",
      "../results/linearprobe_50epochs_paper_final2/deit_small_patch16_224.fb_in1k_fgvc-aircraft-2013b_CLASSIC_AT.pkl\n",
      "../results/linearprobe_50epochs_paper_final2/robust_resnet50_fgvc-aircraft-2013b_CLASSIC_AT.pkl\n",
      "../results/linearprobe_50epochs_paper_final2/vit_small_patch16_224.augreg_in21k_fgvc-aircraft-2013b_CLASSIC_AT.pkl\n",
      "../results/linearprobe_50epochs_paper_final2/convnext_base.fb_in1k_fgvc-aircraft-2013b_CLASSIC_AT.pkl\n",
      "../results/linearprobe_50epochs_paper_final2/resnet50.a1_in1k_fgvc-aircraft-2013b_CLASSIC_AT.pkl\n",
      "../results/linearprobe_50epochs_paper_final2/robust_vit_base_patch16_224_fgvc-aircraft-2013b_CLASSIC_AT.pkl\n",
      "../results/linearprobe_50epochs_paper_final2/vit_base_patch16_224.mae_fgvc-aircraft-2013b_CLASSIC_AT.pkl\n",
      "../results/linearprobe_50epochs_paper_final2/vit_small_patch16_224.dino_fgvc-aircraft-2013b_CLASSIC_AT.pkl\n",
      "../results/linearprobe_50epochs_paper_final2/convnext_base.fb_in22k_fgvc-aircraft-2013b_CLASSIC_AT.pkl\n",
      "../results/linearprobe_50epochs_paper_final2/robust_convnext_base_fgvc-aircraft-2013b_CLASSIC_AT.pkl\n",
      "../results/linearprobe_50epochs_paper_final2/vit_base_patch16_224.augreg_in1k_fgvc-aircraft-2013b_CLASSIC_AT.pkl\n",
      "../results/linearprobe_50epochs_paper_final2/vit_base_patch16_224.augreg_in21k_fgvc-aircraft-2013b_CLASSIC_AT.pkl\n",
      "../results/linearprobe_50epochs_paper_final2/vit_base_patch16_clip_224.laion2b_fgvc-aircraft-2013b_CLASSIC_AT.pkl\n",
      "../results/linearprobe_50epochs_paper_final2/convnext_tiny.fb_in1k_fgvc-aircraft-2013b_CLASSIC_AT.pkl\n",
      "../results/linearprobe_50epochs_paper_final2/robust_convnext_tiny_fgvc-aircraft-2013b_CLASSIC_AT.pkl\n",
      "../results/linearprobe_50epochs_paper_final2/robust_deit_small_patch16_224_fgvc-aircraft-2013b_CLASSIC_AT.pkl\n",
      "../results/linearprobe_50epochs_paper_final2/vit_small_patch16_224.augreg_in1k_fgvc-aircraft-2013b_CLASSIC_AT.pkl\n",
      "../results/linearprobe_50epochs_paper_final2/convnext_tiny.fb_in22k_fgvc-aircraft-2013b_CLASSIC_AT.pkl\n",
      "../results/linearprobe_50epochs_paper_final2/vit_base_patch16_clip_224.laion2b_ft_in1k_fgvc-aircraft-2013b_CLASSIC_AT.pkl\n",
      "../results/linearprobe_50epochs_paper_final2/vit_base_patch16_224.augreg_in21k_ft_in1k_fgvc-aircraft-2013b_CLASSIC_AT.pkl\n",
      "../results/linearprobe_50epochs_paper_final2/vit_small_patch16_224.augreg_in21k_ft_in1k_fgvc-aircraft-2013b_CLASSIC_AT.pkl\n",
      "../results/linearprobe_50epochs_paper_final2/eva02_base_patch14_224.mim_in22k_fgvc-aircraft-2013b_CLASSIC_AT.pkl\n",
      "../results/linearprobe_50epochs_paper_final2/eva02_tiny_patch14_224.mim_in22k_fgvc-aircraft-2013b_CLASSIC_AT.pkl\n",
      "../results/linearprobe_50epochs_paper_final2/swin_base_patch4_window7_224.ms_in22k_ft_in1k_fgvc-aircraft-2013b_CLASSIC_AT.pkl\n",
      "../results/linearprobe_50epochs_paper_final2/swin_tiny_patch4_window7_224.ms_in1k_fgvc-aircraft-2013b_CLASSIC_AT.pkl\n",
      "../results/linearprobe_50epochs_paper_final2/convnext_base.clip_laion2b_augreg_ft_in12k_in1k_fgvc-aircraft-2013b_CLASSIC_AT.pkl\n",
      "../results/linearprobe_50epochs_paper_final2/convnext_base.fb_in22k_ft_in1k_fgvc-aircraft-2013b_CLASSIC_AT.pkl\n",
      "../results/linearprobe_50epochs_paper_final2/convnext_tiny.fb_in22k_ft_in1k_fgvc-aircraft-2013b_CLASSIC_AT.pkl\n",
      "../results/linearprobe_50epochs_paper_final2/coatnet_0_rw_224.sw_in1k_fgvc-aircraft-2013b_CLASSIC_AT.pkl\n",
      "../results/linearprobe_50epochs_paper_final2/coatnet_2_rw_224.sw_in12k_ft_in1k_fgvc-aircraft-2013b_CLASSIC_AT.pkl\n",
      "../results/linearprobe_50epochs_paper_final2/coatnet_2_rw_224.sw_in12k_fgvc-aircraft-2013b_CLASSIC_AT.pkl\n",
      "../results/linearprobe_50epochs_edge_paper_final2/regnetx_004.pycls_in1k_fgvc-aircraft-2013b_CLASSIC_AT.pkl\n",
      "../results/linearprobe_50epochs_edge_paper_final2/efficientnet-b0_fgvc-aircraft-2013b_CLASSIC_AT.pkl\n",
      "../results/linearprobe_50epochs_edge_paper_final2/deit_tiny_patch16_224.fb_in1k_fgvc-aircraft-2013b_CLASSIC_AT.pkl\n",
      "../results/linearprobe_50epochs_edge_paper_final2/mobilevit-small_fgvc-aircraft-2013b_CLASSIC_AT.pkl\n",
      "../results/linearprobe_50epochs_edge_paper_final2/mobilenetv3_large_100.ra_in1k_fgvc-aircraft-2013b_CLASSIC_AT.pkl\n",
      "../results/linearprobe_50epochs_edge_paper_final2/edgenext_small.usi_in1k_fgvc-aircraft-2013b_CLASSIC_AT.pkl\n",
      "../results/linearprobe_50epochs_edge_paper_final2/coat_tiny.in1k_fgvc-aircraft-2013b_CLASSIC_AT.pkl\n",
      "../results/linearprobe_50epochs_paper_final2/CLIP-convnext_base_w-laion_aesthetic-s13B-b82K_flowers-102_CLASSIC_AT.pkl\n",
      "../results/linearprobe_50epochs_paper_final2/CLIP-convnext_base_w-laion2B-s13B-b82K_flowers-102_CLASSIC_AT.pkl\n",
      "../results/linearprobe_50epochs_paper_final2/deit_small_patch16_224.fb_in1k_flowers-102_CLASSIC_AT.pkl\n",
      "../results/linearprobe_50epochs_paper_final2/robust_resnet50_flowers-102_CLASSIC_AT.pkl\n",
      "../results/linearprobe_50epochs_paper_final2/vit_small_patch16_224.augreg_in21k_flowers-102_CLASSIC_AT.pkl\n",
      "../results/linearprobe_50epochs_paper_final2/convnext_base.fb_in1k_flowers-102_CLASSIC_AT.pkl\n",
      "../results/linearprobe_50epochs_paper_final2/resnet50.a1_in1k_flowers-102_CLASSIC_AT.pkl\n",
      "../results/linearprobe_50epochs_paper_final2/robust_vit_base_patch16_224_flowers-102_CLASSIC_AT.pkl\n",
      "../results/linearprobe_50epochs_paper_final2/vit_base_patch16_224.mae_flowers-102_CLASSIC_AT.pkl\n",
      "../results/linearprobe_50epochs_paper_final2/vit_small_patch16_224.dino_flowers-102_CLASSIC_AT.pkl\n",
      "../results/linearprobe_50epochs_paper_final2/convnext_base.fb_in22k_flowers-102_CLASSIC_AT.pkl\n",
      "../results/linearprobe_50epochs_paper_final2/robust_convnext_base_flowers-102_CLASSIC_AT.pkl\n",
      "../results/linearprobe_50epochs_paper_final2/vit_base_patch16_224.augreg_in1k_flowers-102_CLASSIC_AT.pkl\n",
      "../results/linearprobe_50epochs_paper_final2/vit_base_patch16_224.augreg_in21k_flowers-102_CLASSIC_AT.pkl\n",
      "../results/linearprobe_50epochs_paper_final2/vit_base_patch16_clip_224.laion2b_flowers-102_CLASSIC_AT.pkl\n",
      "../results/linearprobe_50epochs_paper_final2/convnext_tiny.fb_in1k_flowers-102_CLASSIC_AT.pkl\n",
      "../results/linearprobe_50epochs_paper_final2/robust_convnext_tiny_flowers-102_CLASSIC_AT.pkl\n",
      "../results/linearprobe_50epochs_paper_final2/robust_deit_small_patch16_224_flowers-102_CLASSIC_AT.pkl\n",
      "../results/linearprobe_50epochs_paper_final2/vit_small_patch16_224.augreg_in1k_flowers-102_CLASSIC_AT.pkl\n",
      "../results/linearprobe_50epochs_paper_final2/convnext_tiny.fb_in22k_flowers-102_CLASSIC_AT.pkl\n",
      "../results/linearprobe_50epochs_paper_final2/vit_base_patch16_clip_224.laion2b_ft_in1k_flowers-102_CLASSIC_AT.pkl\n",
      "../results/linearprobe_50epochs_paper_final2/vit_base_patch16_224.augreg_in21k_ft_in1k_flowers-102_CLASSIC_AT.pkl\n",
      "../results/linearprobe_50epochs_paper_final2/vit_small_patch16_224.augreg_in21k_ft_in1k_flowers-102_CLASSIC_AT.pkl\n",
      "../results/linearprobe_50epochs_paper_final2/eva02_base_patch14_224.mim_in22k_flowers-102_CLASSIC_AT.pkl\n",
      "../results/linearprobe_50epochs_paper_final2/eva02_tiny_patch14_224.mim_in22k_flowers-102_CLASSIC_AT.pkl\n",
      "../results/linearprobe_50epochs_paper_final2/swin_base_patch4_window7_224.ms_in22k_ft_in1k_flowers-102_CLASSIC_AT.pkl\n",
      "../results/linearprobe_50epochs_paper_final2/swin_tiny_patch4_window7_224.ms_in1k_flowers-102_CLASSIC_AT.pkl\n",
      "../results/linearprobe_50epochs_paper_final2/convnext_base.clip_laion2b_augreg_ft_in12k_in1k_flowers-102_CLASSIC_AT.pkl\n",
      "../results/linearprobe_50epochs_paper_final2/convnext_base.fb_in22k_ft_in1k_flowers-102_CLASSIC_AT.pkl\n",
      "../results/linearprobe_50epochs_paper_final2/convnext_tiny.fb_in22k_ft_in1k_flowers-102_CLASSIC_AT.pkl\n",
      "../results/linearprobe_50epochs_paper_final2/coatnet_0_rw_224.sw_in1k_flowers-102_CLASSIC_AT.pkl\n",
      "../results/linearprobe_50epochs_paper_final2/coatnet_2_rw_224.sw_in12k_ft_in1k_flowers-102_CLASSIC_AT.pkl\n",
      "../results/linearprobe_50epochs_paper_final2/coatnet_2_rw_224.sw_in12k_flowers-102_CLASSIC_AT.pkl\n",
      "../results/linearprobe_50epochs_edge_paper_final2/regnetx_004.pycls_in1k_flowers-102_CLASSIC_AT.pkl\n",
      "../results/linearprobe_50epochs_edge_paper_final2/efficientnet-b0_flowers-102_CLASSIC_AT.pkl\n",
      "../results/linearprobe_50epochs_edge_paper_final2/deit_tiny_patch16_224.fb_in1k_flowers-102_CLASSIC_AT.pkl\n",
      "../results/linearprobe_50epochs_edge_paper_final2/mobilevit-small_flowers-102_CLASSIC_AT.pkl\n",
      "../results/linearprobe_50epochs_edge_paper_final2/mobilenetv3_large_100.ra_in1k_flowers-102_CLASSIC_AT.pkl\n",
      "../results/linearprobe_50epochs_edge_paper_final2/edgenext_small.usi_in1k_flowers-102_CLASSIC_AT.pkl\n",
      "../results/linearprobe_50epochs_edge_paper_final2/coat_tiny.in1k_flowers-102_CLASSIC_AT.pkl\n",
      "../results/linearprobe_50epochs_paper_final2/CLIP-convnext_base_w-laion_aesthetic-s13B-b82K_oxford-iiit-pet_CLASSIC_AT.pkl\n",
      "../results/linearprobe_50epochs_paper_final2/CLIP-convnext_base_w-laion2B-s13B-b82K_oxford-iiit-pet_CLASSIC_AT.pkl\n",
      "../results/linearprobe_50epochs_paper_final2/deit_small_patch16_224.fb_in1k_oxford-iiit-pet_CLASSIC_AT.pkl\n",
      "../results/linearprobe_50epochs_paper_final2/robust_resnet50_oxford-iiit-pet_CLASSIC_AT.pkl\n",
      "../results/linearprobe_50epochs_paper_final2/vit_small_patch16_224.augreg_in21k_oxford-iiit-pet_CLASSIC_AT.pkl\n",
      "../results/linearprobe_50epochs_paper_final2/convnext_base.fb_in1k_oxford-iiit-pet_CLASSIC_AT.pkl\n",
      "../results/linearprobe_50epochs_paper_final2/resnet50.a1_in1k_oxford-iiit-pet_CLASSIC_AT.pkl\n",
      "../results/linearprobe_50epochs_paper_final2/robust_vit_base_patch16_224_oxford-iiit-pet_CLASSIC_AT.pkl\n",
      "../results/linearprobe_50epochs_paper_final2/vit_base_patch16_224.mae_oxford-iiit-pet_CLASSIC_AT.pkl\n",
      "../results/linearprobe_50epochs_paper_final2/vit_small_patch16_224.dino_oxford-iiit-pet_CLASSIC_AT.pkl\n",
      "../results/linearprobe_50epochs_paper_final2/convnext_base.fb_in22k_oxford-iiit-pet_CLASSIC_AT.pkl\n",
      "../results/linearprobe_50epochs_paper_final2/robust_convnext_base_oxford-iiit-pet_CLASSIC_AT.pkl\n",
      "../results/linearprobe_50epochs_paper_final2/vit_base_patch16_224.augreg_in1k_oxford-iiit-pet_CLASSIC_AT.pkl\n",
      "../results/linearprobe_50epochs_paper_final2/vit_base_patch16_224.augreg_in21k_oxford-iiit-pet_CLASSIC_AT.pkl\n",
      "../results/linearprobe_50epochs_paper_final2/vit_base_patch16_clip_224.laion2b_oxford-iiit-pet_CLASSIC_AT.pkl\n",
      "../results/linearprobe_50epochs_paper_final2/convnext_tiny.fb_in1k_oxford-iiit-pet_CLASSIC_AT.pkl\n",
      "../results/linearprobe_50epochs_paper_final2/robust_convnext_tiny_oxford-iiit-pet_CLASSIC_AT.pkl\n",
      "../results/linearprobe_50epochs_paper_final2/robust_deit_small_patch16_224_oxford-iiit-pet_CLASSIC_AT.pkl\n",
      "../results/linearprobe_50epochs_paper_final2/vit_small_patch16_224.augreg_in1k_oxford-iiit-pet_CLASSIC_AT.pkl\n",
      "../results/linearprobe_50epochs_paper_final2/convnext_tiny.fb_in22k_oxford-iiit-pet_CLASSIC_AT.pkl\n",
      "../results/linearprobe_50epochs_paper_final2/vit_base_patch16_clip_224.laion2b_ft_in1k_oxford-iiit-pet_CLASSIC_AT.pkl\n",
      "../results/linearprobe_50epochs_paper_final2/vit_base_patch16_224.augreg_in21k_ft_in1k_oxford-iiit-pet_CLASSIC_AT.pkl\n",
      "../results/linearprobe_50epochs_paper_final2/vit_small_patch16_224.augreg_in21k_ft_in1k_oxford-iiit-pet_CLASSIC_AT.pkl\n",
      "../results/linearprobe_50epochs_paper_final2/eva02_base_patch14_224.mim_in22k_oxford-iiit-pet_CLASSIC_AT.pkl\n",
      "../results/linearprobe_50epochs_paper_final2/eva02_tiny_patch14_224.mim_in22k_oxford-iiit-pet_CLASSIC_AT.pkl\n",
      "../results/linearprobe_50epochs_paper_final2/swin_base_patch4_window7_224.ms_in22k_ft_in1k_oxford-iiit-pet_CLASSIC_AT.pkl\n",
      "../results/linearprobe_50epochs_paper_final2/swin_tiny_patch4_window7_224.ms_in1k_oxford-iiit-pet_CLASSIC_AT.pkl\n",
      "../results/linearprobe_50epochs_paper_final2/convnext_base.clip_laion2b_augreg_ft_in12k_in1k_oxford-iiit-pet_CLASSIC_AT.pkl\n",
      "../results/linearprobe_50epochs_paper_final2/convnext_base.fb_in22k_ft_in1k_oxford-iiit-pet_CLASSIC_AT.pkl\n",
      "../results/linearprobe_50epochs_paper_final2/convnext_tiny.fb_in22k_ft_in1k_oxford-iiit-pet_CLASSIC_AT.pkl\n",
      "../results/linearprobe_50epochs_paper_final2/coatnet_0_rw_224.sw_in1k_oxford-iiit-pet_CLASSIC_AT.pkl\n",
      "../results/linearprobe_50epochs_paper_final2/coatnet_2_rw_224.sw_in12k_ft_in1k_oxford-iiit-pet_CLASSIC_AT.pkl\n",
      "../results/linearprobe_50epochs_paper_final2/coatnet_2_rw_224.sw_in12k_oxford-iiit-pet_CLASSIC_AT.pkl\n",
      "../results/linearprobe_50epochs_edge_paper_final2/regnetx_004.pycls_in1k_oxford-iiit-pet_CLASSIC_AT.pkl\n",
      "../results/linearprobe_50epochs_edge_paper_final2/efficientnet-b0_oxford-iiit-pet_CLASSIC_AT.pkl\n",
      "../results/linearprobe_50epochs_edge_paper_final2/deit_tiny_patch16_224.fb_in1k_oxford-iiit-pet_CLASSIC_AT.pkl\n",
      "../results/linearprobe_50epochs_edge_paper_final2/mobilevit-small_oxford-iiit-pet_CLASSIC_AT.pkl\n",
      "../results/linearprobe_50epochs_edge_paper_final2/mobilenetv3_large_100.ra_in1k_oxford-iiit-pet_CLASSIC_AT.pkl\n",
      "../results/linearprobe_50epochs_edge_paper_final2/edgenext_small.usi_in1k_oxford-iiit-pet_CLASSIC_AT.pkl\n",
      "../results/linearprobe_50epochs_edge_paper_final2/coat_tiny.in1k_oxford-iiit-pet_CLASSIC_AT.pkl\n"
     ]
    }
   ],
   "source": [
    "from load_results import load_result_dataset\n",
    "import pandas as pd\n",
    "\n",
    "pn1 = 'full_fine_tuning_50epochs_edge_paper_final2'\n",
    "pn2 = 'full_fine_tuning_50epochs_paper_final2'\n",
    "final_data1 = load_result_dataset(pn1, pn2)\n",
    "final_data1 = [{**d, 'ft_strategy': 'FFT (50 epochs)'} for d in final_data1]\n",
    "df1 = pd.DataFrame(final_data1)\n",
    "\n",
    "pn1 = 'full_fine_tuning_5epochs_edge_article1'\n",
    "pn2 = 'full_fine_tuning_5epochs_article1'\n",
    "final_data2 = load_result_dataset(pn1, pn2)\n",
    "final_data2 = [{**d, 'ft_strategy': 'FFT (5 epochs)'} for d in final_data2]\n",
    "df2 = pd.DataFrame(final_data2)\n",
    "\n",
    "pn1 = 'linearprobe_50epochs_edge_paper_final2'\n",
    "pn2 = 'linearprobe_50epochs_paper_final2'\n",
    "final_data3 = load_result_dataset(pn1, pn2)\n",
    "final_data3 = [{**d, 'ft_strategy': 'LP (50 epochs)'} for d in final_data3]\n",
    "df3 = pd.DataFrame(final_data3)\n",
    "\n",
    "df = pd.concat([ df1, df2, df3 ], axis=0, ignore_index=True) \n",
    "\n",
    "final_data = []\n",
    "final_data.extend(final_data1)\n",
    "final_data.extend(final_data2)\n",
    "final_data.extend(final_data3)"
   ]
  },
  {
   "cell_type": "code",
   "execution_count": 2,
   "metadata": {},
   "outputs": [
    {
     "name": "stdout",
     "output_type": "stream",
     "text": [
      "Percentage of NaN values, for small architecture: 0.6069094304388423\n",
      "Percentage of NaN values, for medium architecture: 0.0\n",
      "Percentage of NaN values, for large architecture: 0.13616557734204793\n"
     ]
    }
   ],
   "source": [
    "df = pd.DataFrame(final_data)\n",
    "for arch_size in ('small', 'medium', 'large'):\n",
    "    df_curr = df[ df.model_size == arch_size ]\n",
    "    nan_percentage = (df_curr.isna().sum().sum() / df_curr.size) * 100\n",
    "    print(\"Percentage of NaN values, for {} architecture: {}\".format(arch_size, nan_percentage) )\n",
    "    "
   ]
  },
  {
   "cell_type": "code",
   "execution_count": 32,
   "metadata": {},
   "outputs": [],
   "source": [
    "metrics = [ 'clean_acc', 'Linf_acc', 'L2_acc', 'L1_acc', 'common_acc' ]\n",
    "\n",
    "for metric in metrics:\n",
    "    df[f'{metric}_borda_rank'] = df[metric].rank(ascending=False, method='min')\n",
    "\n",
    "# Now sum the borda ranks\n",
    "borda_rank_cols = [f'{metric}_borda_rank' for metric in metrics]\n",
    "df['total_borda_rank'] = df[borda_rank_cols].sum(axis=1)\n",
    "\n",
    "# min_rank = df['total_borda_rank'].min()\n",
    "# max_rank = df['total_borda_rank'].max()\n",
    "\n",
    "# df['normalized_total_borda_rank'] = (df['total_borda_rank'] - min_rank) / (max_rank - min_rank)"
   ]
  },
  {
   "cell_type": "code",
   "execution_count": 33,
   "metadata": {},
   "outputs": [],
   "source": [
    "import pandas as pd\n",
    "from sklearn.preprocessing import StandardScaler, MinMaxScaler\n",
    "\n",
    "scaler = MinMaxScaler()\n",
    "df['volume_pre_training_data_scaled'] = scaler.fit_transform(df[['volume_pre_training_data']])\n",
    "\n",
    "# Features that define a unique configuration\n",
    "group_cols = [\n",
    "    'ft_strategy',\n",
    "    'model_type',\n",
    "    'model_size',\n",
    "    'loss_function',\n",
    "    'pre_training_dataset',\n",
    "    'volume_pre_training_data_scaled',\n",
    "    'pre_training_strategy'\n",
    "]\n",
    "\n",
    "# Metrics to sum over datasets\n",
    "metrics_cols = ['sum', 'geom', 'total_borda_rank']\n",
    "\n",
    "# Group by configuration and sum the metrics\n",
    "grouped_df = df.groupby(group_cols, as_index=False)[metrics_cols].sum()"
   ]
  },
  {
   "cell_type": "code",
   "execution_count": 34,
   "metadata": {},
   "outputs": [],
   "source": [
    "df.to_csv(\"global_results.csv\")"
   ]
  },
  {
   "cell_type": "code",
   "execution_count": null,
   "metadata": {},
   "outputs": [],
   "source": [
    "from sklearn.preprocessing import StandardScaler, MinMaxScaler\n",
    "\n",
    "# scaler = StandardScaler()\n",
    "# df['volume_pre_training_data_scaled'] = scaler.fit_transform(df[['volume_pre_training_data']])\n",
    "\n"
   ]
  },
  {
   "cell_type": "code",
   "execution_count": 36,
   "metadata": {},
   "outputs": [
    {
     "name": "stdout",
     "output_type": "stream",
     "text": [
      "\n",
      "================ Regression and Pearson correlation for FFT (50 epochs) ================\n",
      "\n",
      "                            OLS Regression Results                            \n",
      "==============================================================================\n",
      "Dep. Variable:                    sum   R-squared:                       0.356\n",
      "Model:                            OLS   Adj. R-squared:                  0.245\n",
      "Method:                 Least Squares   F-statistic:                     3.199\n",
      "Date:                Mon, 28 Apr 2025   Prob (F-statistic):            0.00375\n",
      "Time:                        23:40:35   Log-Likelihood:                -182.61\n",
      "No. Observations:                  62   AIC:                             385.2\n",
      "Df Residuals:                      52   BIC:                             406.5\n",
      "Df Model:                           9                                         \n",
      "Covariance Type:            nonrobust                                         \n",
      "======================================================================================================================\n",
      "                                                         coef    std err          t      P>|t|      [0.025      0.975]\n",
      "----------------------------------------------------------------------------------------------------------------------\n",
      "const                                                  7.1060      2.697      2.634      0.011       1.693      12.519\n",
      "model_type_fully convolutional                         4.6720      1.493      3.130      0.003       1.677       7.667\n",
      "model_type_hybrid                                     -0.3829      2.171     -0.176      0.861      -4.738       3.973\n",
      "model_size_medium                                     -0.3417      1.491     -0.229      0.820      -3.333       2.650\n",
      "model_size_small                                       3.2402      2.360      1.373      0.176      -1.496       7.977\n",
      "loss_function_TRADES_v2                                3.4349      1.276      2.691      0.010       0.874       5.996\n",
      "pre_training_strategy_self-supervised                  1.0189      3.253      0.313      0.755      -5.508       7.546\n",
      "pre_training_strategy_self-supervised (multimodal)     2.6164      3.253      0.804      0.425      -3.911       9.144\n",
      "pre_training_strategy_supervised                       3.7607      2.803      1.342      0.186      -1.864       9.386\n",
      "pre_training_strategy_supervised (robust)              3.7442      3.166      1.183      0.242      -2.609      10.097\n",
      "==============================================================================\n",
      "Omnibus:                       12.648   Durbin-Watson:                   1.983\n",
      "Prob(Omnibus):                  0.002   Jarque-Bera (JB):               13.372\n",
      "Skew:                           1.090   Prob(JB):                      0.00125\n",
      "Kurtosis:                       3.648   Cond. No.                         13.3\n",
      "==============================================================================\n",
      "\n",
      "Notes:\n",
      "[1] Standard Errors assume that the covariance matrix of the errors is correctly specified.\n",
      "\n",
      "--- Pearson correlation for each base feature ---\n",
      "Feature: model_type_fully convolutional           | Pearson r = 0.427, p-value = 0.001\n",
      "Feature: model_type_hybrid                        | Pearson r = -0.060, p-value = 0.641\n",
      "Feature: model_size_medium                        | Pearson r = -0.054, p-value = 0.674\n",
      "Feature: model_size_small                         | Pearson r = 0.196, p-value = 0.128\n",
      "Feature: loss_function_TRADES_v2                  | Pearson r = 0.299, p-value = 0.018\n",
      "Feature: pre_training_strategy_self-supervised    | Pearson r = -0.279, p-value = 0.028\n",
      "Feature: pre_training_strategy_self-supervised (multimodal) | Pearson r = 0.042, p-value = 0.748\n",
      "Feature: pre_training_strategy_supervised         | Pearson r = 0.184, p-value = 0.152\n",
      "Feature: pre_training_strategy_supervised (robust) | Pearson r = 0.061, p-value = 0.639\n"
     ]
    }
   ],
   "source": [
    "import pandas as pd\n",
    "import statsmodels.api as sm\n",
    "from scipy.stats import pearsonr\n",
    "\n",
    "# Features to use\n",
    "features = [\n",
    "    'model_type',\n",
    "    'model_size',\n",
    "    'loss_function',\n",
    "    # 'pre_training_dataset',\n",
    "    # 'volume_pre_training_data_scaled',\n",
    "    'pre_training_strategy',\n",
    "]\n",
    "target = 'sum' #'normalized_total_borda_rank'\n",
    "\n",
    "# Loop over each ft_strategy\n",
    "for ft_strategy in [ \"FFT (50 epochs)\",]: #  \"FFT (5 epochs)\", \"LP (50 epochs)\" \n",
    "    print(f\"\\n================ Regression and Pearson correlation for {ft_strategy} ================\\n\")\n",
    "    \n",
    "    # Subset\n",
    "    #sub_df = grouped_df[grouped_df['ft_strategy'] == ft_strategy]\n",
    "    sub_df = grouped_df[grouped_df['ft_strategy'] == ft_strategy].copy()\n",
    "\n",
    "    scaler = MinMaxScaler()\n",
    "    sub_df['normalized_total_borda_rank'] = scaler.fit_transform(sub_df[['total_borda_rank']])\n",
    "        \n",
    "    # Encode categorical variables\n",
    "    base_encoded = pd.get_dummies(sub_df[features], drop_first=True)\n",
    "    \n",
    "    # Start with base features\n",
    "    X = base_encoded.copy()\n",
    "    \n",
    "    # Manually add only selected interactions\n",
    "    # model_type × pre_training_strategy\n",
    "    model_type_cols = [col for col in base_encoded.columns if col.startswith('model_type_')]\n",
    "    pretrain_strategy_cols = [col for col in base_encoded.columns if col.startswith('pre_training_strategy_')]\n",
    "    loss_function_cols = [col for col in base_encoded.columns if col.startswith('loss_function_')]\n",
    "\n",
    "    # for mt in model_type_cols:\n",
    "    #     for ps in pretrain_strategy_cols:\n",
    "    #         X[f\"{mt} x {ps}\"] = base_encoded[mt] * base_encoded[ps]\n",
    "    \n",
    "    # model_type × loss_function\n",
    "    \n",
    "    # for mt in model_type_cols:\n",
    "    #     for lf in loss_function_cols:\n",
    "    #         X[f\"{mt} x {lf}\"] = base_encoded[mt] * base_encoded[lf]\n",
    "    \n",
    "    # pre_training_strategy x loss_function\n",
    "    # for pt in pretrain_strategy_cols:\n",
    "    #     for lf in loss_function_cols:\n",
    "    #         X[f\"{pt} x {lf}\"] = base_encoded[pt] * base_encoded[lf]\n",
    "    \n",
    "    # model_size × loss_function\n",
    "    # for ms in model_size_cols:\n",
    "    #     for lf in loss_function_cols:\n",
    "    #         X[f\"{ms} x {lf}\"] = base_encoded[ms] * base_encoded[lf]\n",
    "    \n",
    "    # Target variable\n",
    "    y = sub_df[target]\n",
    "    \n",
    "    # Add constant\n",
    "    X = sm.add_constant(X)\n",
    "\n",
    "    # Regression\n",
    "    model = sm.OLS(y, X).fit()\n",
    "    print(model.summary())\n",
    "\n",
    "    # Pearson correlation for each **base feature** (not interaction terms)\n",
    "    print(\"\\n--- Pearson correlation for each base feature ---\")\n",
    "    for col in base_encoded.columns:\n",
    "        corr, pval = pearsonr(base_encoded[col], y)\n",
    "        print(f\"Feature: {col:40s} | Pearson r = {corr:.3f}, p-value = {pval:.3f}\")\n",
    "\n"
   ]
  },
  {
   "cell_type": "code",
   "execution_count": 34,
   "metadata": {},
   "outputs": [
    {
     "data": {
      "text/html": [
       "<div>\n",
       "<style scoped>\n",
       "    .dataframe tbody tr th:only-of-type {\n",
       "        vertical-align: middle;\n",
       "    }\n",
       "\n",
       "    .dataframe tbody tr th {\n",
       "        vertical-align: top;\n",
       "    }\n",
       "\n",
       "    .dataframe thead th {\n",
       "        text-align: right;\n",
       "    }\n",
       "</style>\n",
       "<table border=\"1\" class=\"dataframe\">\n",
       "  <thead>\n",
       "    <tr style=\"text-align: right;\">\n",
       "      <th></th>\n",
       "      <th>ft_strategy</th>\n",
       "      <th>model_type</th>\n",
       "      <th>model_size</th>\n",
       "      <th>loss_function</th>\n",
       "      <th>pre_training_dataset</th>\n",
       "      <th>volume_pre_training_data_scaled</th>\n",
       "      <th>pre_training_strategy</th>\n",
       "      <th>sum</th>\n",
       "      <th>geom</th>\n",
       "      <th>total_borda_rank</th>\n",
       "    </tr>\n",
       "  </thead>\n",
       "  <tbody>\n",
       "    <tr>\n",
       "      <th>0</th>\n",
       "      <td>FFT (5 epochs)</td>\n",
       "      <td>fully attention</td>\n",
       "      <td>large</td>\n",
       "      <td>CLASSIC_AT</td>\n",
       "      <td>in1k</td>\n",
       "      <td>0.000000</td>\n",
       "      <td>self-supervised</td>\n",
       "      <td>1.527381</td>\n",
       "      <td>5.856400e-11</td>\n",
       "      <td>24945.0</td>\n",
       "    </tr>\n",
       "    <tr>\n",
       "      <th>1</th>\n",
       "      <td>FFT (5 epochs)</td>\n",
       "      <td>fully attention</td>\n",
       "      <td>large</td>\n",
       "      <td>CLASSIC_AT</td>\n",
       "      <td>in1k</td>\n",
       "      <td>0.000000</td>\n",
       "      <td>supervised</td>\n",
       "      <td>2.715952</td>\n",
       "      <td>6.857410e-03</td>\n",
       "      <td>21327.0</td>\n",
       "    </tr>\n",
       "    <tr>\n",
       "      <th>2</th>\n",
       "      <td>FFT (5 epochs)</td>\n",
       "      <td>fully attention</td>\n",
       "      <td>large</td>\n",
       "      <td>CLASSIC_AT</td>\n",
       "      <td>in1k</td>\n",
       "      <td>0.000000</td>\n",
       "      <td>supervised (robust)</td>\n",
       "      <td>1.418476</td>\n",
       "      <td>4.786837e-05</td>\n",
       "      <td>23304.0</td>\n",
       "    </tr>\n",
       "    <tr>\n",
       "      <th>3</th>\n",
       "      <td>FFT (5 epochs)</td>\n",
       "      <td>fully attention</td>\n",
       "      <td>large</td>\n",
       "      <td>CLASSIC_AT</td>\n",
       "      <td>in22k</td>\n",
       "      <td>0.005546</td>\n",
       "      <td>self-supervised</td>\n",
       "      <td>1.999667</td>\n",
       "      <td>3.226714e-05</td>\n",
       "      <td>23148.0</td>\n",
       "    </tr>\n",
       "    <tr>\n",
       "      <th>4</th>\n",
       "      <td>FFT (5 epochs)</td>\n",
       "      <td>fully attention</td>\n",
       "      <td>large</td>\n",
       "      <td>CLASSIC_AT</td>\n",
       "      <td>in22k</td>\n",
       "      <td>0.005546</td>\n",
       "      <td>supervised</td>\n",
       "      <td>0.785127</td>\n",
       "      <td>8.681801e-06</td>\n",
       "      <td>26236.0</td>\n",
       "    </tr>\n",
       "    <tr>\n",
       "      <th>...</th>\n",
       "      <td>...</td>\n",
       "      <td>...</td>\n",
       "      <td>...</td>\n",
       "      <td>...</td>\n",
       "      <td>...</td>\n",
       "      <td>...</td>\n",
       "      <td>...</td>\n",
       "      <td>...</td>\n",
       "      <td>...</td>\n",
       "      <td>...</td>\n",
       "    </tr>\n",
       "    <tr>\n",
       "      <th>181</th>\n",
       "      <td>LP (50 epochs)</td>\n",
       "      <td>hybrid</td>\n",
       "      <td>large</td>\n",
       "      <td>TRADES_v2</td>\n",
       "      <td>in12k+in1k</td>\n",
       "      <td>0.003864</td>\n",
       "      <td>supervised</td>\n",
       "      <td>7.091619</td>\n",
       "      <td>0.000000e+00</td>\n",
       "      <td>18391.0</td>\n",
       "    </tr>\n",
       "    <tr>\n",
       "      <th>182</th>\n",
       "      <td>LP (50 epochs)</td>\n",
       "      <td>hybrid</td>\n",
       "      <td>medium</td>\n",
       "      <td>CLASSIC_AT</td>\n",
       "      <td>in1k</td>\n",
       "      <td>0.000000</td>\n",
       "      <td>supervised</td>\n",
       "      <td>4.020016</td>\n",
       "      <td>0.000000e+00</td>\n",
       "      <td>22120.0</td>\n",
       "    </tr>\n",
       "    <tr>\n",
       "      <th>183</th>\n",
       "      <td>LP (50 epochs)</td>\n",
       "      <td>hybrid</td>\n",
       "      <td>medium</td>\n",
       "      <td>TRADES_v2</td>\n",
       "      <td>in1k</td>\n",
       "      <td>0.000000</td>\n",
       "      <td>supervised</td>\n",
       "      <td>5.377381</td>\n",
       "      <td>0.000000e+00</td>\n",
       "      <td>19908.0</td>\n",
       "    </tr>\n",
       "    <tr>\n",
       "      <th>184</th>\n",
       "      <td>LP (50 epochs)</td>\n",
       "      <td>hybrid</td>\n",
       "      <td>small</td>\n",
       "      <td>CLASSIC_AT</td>\n",
       "      <td>in1k</td>\n",
       "      <td>0.000000</td>\n",
       "      <td>supervised</td>\n",
       "      <td>1.895190</td>\n",
       "      <td>0.000000e+00</td>\n",
       "      <td>83156.0</td>\n",
       "    </tr>\n",
       "    <tr>\n",
       "      <th>185</th>\n",
       "      <td>LP (50 epochs)</td>\n",
       "      <td>hybrid</td>\n",
       "      <td>small</td>\n",
       "      <td>TRADES_v2</td>\n",
       "      <td>in1k</td>\n",
       "      <td>0.000000</td>\n",
       "      <td>supervised</td>\n",
       "      <td>6.355095</td>\n",
       "      <td>7.488000e-11</td>\n",
       "      <td>75347.0</td>\n",
       "    </tr>\n",
       "  </tbody>\n",
       "</table>\n",
       "<p>186 rows × 10 columns</p>\n",
       "</div>"
      ],
      "text/plain": [
       "        ft_strategy       model_type model_size loss_function  \\\n",
       "0    FFT (5 epochs)  fully attention      large    CLASSIC_AT   \n",
       "1    FFT (5 epochs)  fully attention      large    CLASSIC_AT   \n",
       "2    FFT (5 epochs)  fully attention      large    CLASSIC_AT   \n",
       "3    FFT (5 epochs)  fully attention      large    CLASSIC_AT   \n",
       "4    FFT (5 epochs)  fully attention      large    CLASSIC_AT   \n",
       "..              ...              ...        ...           ...   \n",
       "181  LP (50 epochs)           hybrid      large     TRADES_v2   \n",
       "182  LP (50 epochs)           hybrid     medium    CLASSIC_AT   \n",
       "183  LP (50 epochs)           hybrid     medium     TRADES_v2   \n",
       "184  LP (50 epochs)           hybrid      small    CLASSIC_AT   \n",
       "185  LP (50 epochs)           hybrid      small     TRADES_v2   \n",
       "\n",
       "    pre_training_dataset  volume_pre_training_data_scaled  \\\n",
       "0                   in1k                         0.000000   \n",
       "1                   in1k                         0.000000   \n",
       "2                   in1k                         0.000000   \n",
       "3                  in22k                         0.005546   \n",
       "4                  in22k                         0.005546   \n",
       "..                   ...                              ...   \n",
       "181           in12k+in1k                         0.003864   \n",
       "182                 in1k                         0.000000   \n",
       "183                 in1k                         0.000000   \n",
       "184                 in1k                         0.000000   \n",
       "185                 in1k                         0.000000   \n",
       "\n",
       "    pre_training_strategy       sum          geom  total_borda_rank  \n",
       "0         self-supervised  1.527381  5.856400e-11           24945.0  \n",
       "1              supervised  2.715952  6.857410e-03           21327.0  \n",
       "2     supervised (robust)  1.418476  4.786837e-05           23304.0  \n",
       "3         self-supervised  1.999667  3.226714e-05           23148.0  \n",
       "4              supervised  0.785127  8.681801e-06           26236.0  \n",
       "..                    ...       ...           ...               ...  \n",
       "181            supervised  7.091619  0.000000e+00           18391.0  \n",
       "182            supervised  4.020016  0.000000e+00           22120.0  \n",
       "183            supervised  5.377381  0.000000e+00           19908.0  \n",
       "184            supervised  1.895190  0.000000e+00           83156.0  \n",
       "185            supervised  6.355095  7.488000e-11           75347.0  \n",
       "\n",
       "[186 rows x 10 columns]"
      ]
     },
     "execution_count": 34,
     "metadata": {},
     "output_type": "execute_result"
    }
   ],
   "source": [
    "grouped_df"
   ]
  },
  {
   "cell_type": "code",
   "execution_count": null,
   "metadata": {},
   "outputs": [
    {
     "name": "stdout",
     "output_type": "stream",
     "text": [
      "\n",
      "================ Random Forest Regression, Feature Importance, SHAP, and Correlations for LP (50 epochs) ================\n",
      "\n",
      "Training R² score: 0.329\n",
      "\n",
      "--- Combined Feature Importances and Correlations ---\n"
     ]
    },
    {
     "name": "stderr",
     "output_type": "stream",
     "text": [
      "/Users/maximeheuillet/opt/anaconda3/lib/python3.9/site-packages/scipy/stats/_stats_py.py:4068: PearsonRConstantInputWarning: An input array is constant; the correlation coefficient is not defined.\n",
      "  warnings.warn(PearsonRConstantInputWarning())\n",
      "/Users/maximeheuillet/opt/anaconda3/lib/python3.9/site-packages/scipy/stats/_stats_py.py:4529: SpearmanRConstantInputWarning: An input array is constant; the correlation coefficient is not defined.\n",
      "  warnings.warn(SpearmanRConstantInputWarning())\n"
     ]
    },
    {
     "data": {
      "text/html": [
       "<div>\n",
       "<style scoped>\n",
       "    .dataframe tbody tr th:only-of-type {\n",
       "        vertical-align: middle;\n",
       "    }\n",
       "\n",
       "    .dataframe tbody tr th {\n",
       "        vertical-align: top;\n",
       "    }\n",
       "\n",
       "    .dataframe thead th {\n",
       "        text-align: right;\n",
       "    }\n",
       "</style>\n",
       "<table border=\"1\" class=\"dataframe\">\n",
       "  <thead>\n",
       "    <tr style=\"text-align: right;\">\n",
       "      <th></th>\n",
       "      <th>RandomForest_FeatureImportance</th>\n",
       "      <th>SHAP_Importance</th>\n",
       "      <th>Pearson_r</th>\n",
       "      <th>Pearson_pval</th>\n",
       "      <th>Spearman_r</th>\n",
       "      <th>Spearman_pval</th>\n",
       "    </tr>\n",
       "  </thead>\n",
       "  <tbody>\n",
       "    <tr>\n",
       "      <th>model_size_medium x pre_training_strategy_supervised (robust)</th>\n",
       "      <td>0.2469</td>\n",
       "      <td>0.0011</td>\n",
       "      <td>-0.3147</td>\n",
       "      <td>0.0000</td>\n",
       "      <td>-0.1983</td>\n",
       "      <td>0.0000</td>\n",
       "    </tr>\n",
       "    <tr>\n",
       "      <th>volume_pre_training_data_scaled</th>\n",
       "      <td>0.0989</td>\n",
       "      <td>0.0016</td>\n",
       "      <td>-0.1457</td>\n",
       "      <td>0.0014</td>\n",
       "      <td>-0.2486</td>\n",
       "      <td>0.0000</td>\n",
       "    </tr>\n",
       "    <tr>\n",
       "      <th>model_size_medium</th>\n",
       "      <td>0.0797</td>\n",
       "      <td>0.0002</td>\n",
       "      <td>-0.0179</td>\n",
       "      <td>0.6953</td>\n",
       "      <td>0.0358</td>\n",
       "      <td>0.4344</td>\n",
       "    </tr>\n",
       "    <tr>\n",
       "      <th>pre_training_dataset_in1k</th>\n",
       "      <td>0.0701</td>\n",
       "      <td>0.0014</td>\n",
       "      <td>0.1771</td>\n",
       "      <td>0.0001</td>\n",
       "      <td>0.2431</td>\n",
       "      <td>0.0000</td>\n",
       "    </tr>\n",
       "    <tr>\n",
       "      <th>model_type_fully convolutional x loss_function_TRADES_v2</th>\n",
       "      <td>0.0619</td>\n",
       "      <td>0.0001</td>\n",
       "      <td>-0.1682</td>\n",
       "      <td>0.0002</td>\n",
       "      <td>-0.1702</td>\n",
       "      <td>0.0002</td>\n",
       "    </tr>\n",
       "    <tr>\n",
       "      <th>loss_function_TRADES_v2</th>\n",
       "      <td>0.0578</td>\n",
       "      <td>-0.0001</td>\n",
       "      <td>-0.0908</td>\n",
       "      <td>0.0468</td>\n",
       "      <td>-0.1005</td>\n",
       "      <td>0.0276</td>\n",
       "    </tr>\n",
       "    <tr>\n",
       "      <th>model_type_fully convolutional</th>\n",
       "      <td>0.0450</td>\n",
       "      <td>-0.0002</td>\n",
       "      <td>-0.1645</td>\n",
       "      <td>0.0003</td>\n",
       "      <td>-0.1578</td>\n",
       "      <td>0.0005</td>\n",
       "    </tr>\n",
       "    <tr>\n",
       "      <th>pre_training_strategy_self-supervised</th>\n",
       "      <td>0.0367</td>\n",
       "      <td>-0.0015</td>\n",
       "      <td>0.1246</td>\n",
       "      <td>0.0063</td>\n",
       "      <td>0.1274</td>\n",
       "      <td>0.0052</td>\n",
       "    </tr>\n",
       "    <tr>\n",
       "      <th>model_size_small x pre_training_strategy_supervised</th>\n",
       "      <td>0.0342</td>\n",
       "      <td>-0.0005</td>\n",
       "      <td>0.2585</td>\n",
       "      <td>0.0000</td>\n",
       "      <td>0.2645</td>\n",
       "      <td>0.0000</td>\n",
       "    </tr>\n",
       "    <tr>\n",
       "      <th>model_type_fully convolutional x pre_training_strategy_supervised (robust)</th>\n",
       "      <td>0.0329</td>\n",
       "      <td>-0.0012</td>\n",
       "      <td>-0.2183</td>\n",
       "      <td>0.0000</td>\n",
       "      <td>-0.1347</td>\n",
       "      <td>0.0031</td>\n",
       "    </tr>\n",
       "    <tr>\n",
       "      <th>model_size_small</th>\n",
       "      <td>0.0326</td>\n",
       "      <td>-0.0004</td>\n",
       "      <td>0.2585</td>\n",
       "      <td>0.0000</td>\n",
       "      <td>0.2645</td>\n",
       "      <td>0.0000</td>\n",
       "    </tr>\n",
       "    <tr>\n",
       "      <th>pre_training_dataset_in22k</th>\n",
       "      <td>0.0248</td>\n",
       "      <td>0.0000</td>\n",
       "      <td>-0.0002</td>\n",
       "      <td>0.9958</td>\n",
       "      <td>-0.0161</td>\n",
       "      <td>0.7249</td>\n",
       "    </tr>\n",
       "    <tr>\n",
       "      <th>model_size_medium x loss_function_TRADES_v2</th>\n",
       "      <td>0.0240</td>\n",
       "      <td>-0.0000</td>\n",
       "      <td>-0.0378</td>\n",
       "      <td>0.4080</td>\n",
       "      <td>-0.0140</td>\n",
       "      <td>0.7596</td>\n",
       "    </tr>\n",
       "    <tr>\n",
       "      <th>pre_training_strategy_supervised</th>\n",
       "      <td>0.0190</td>\n",
       "      <td>0.0005</td>\n",
       "      <td>0.1831</td>\n",
       "      <td>0.0001</td>\n",
       "      <td>0.1362</td>\n",
       "      <td>0.0028</td>\n",
       "    </tr>\n",
       "    <tr>\n",
       "      <th>model_type_fully convolutional x pre_training_strategy_supervised</th>\n",
       "      <td>0.0171</td>\n",
       "      <td>0.0001</td>\n",
       "      <td>0.0166</td>\n",
       "      <td>0.7162</td>\n",
       "      <td>-0.0100</td>\n",
       "      <td>0.8270</td>\n",
       "    </tr>\n",
       "    <tr>\n",
       "      <th>model_type_hybrid x pre_training_strategy_supervised</th>\n",
       "      <td>0.0169</td>\n",
       "      <td>-0.0008</td>\n",
       "      <td>0.0951</td>\n",
       "      <td>0.0373</td>\n",
       "      <td>0.0839</td>\n",
       "      <td>0.0661</td>\n",
       "    </tr>\n",
       "    <tr>\n",
       "      <th>model_size_medium x pre_training_strategy_supervised</th>\n",
       "      <td>0.0165</td>\n",
       "      <td>0.0002</td>\n",
       "      <td>0.0978</td>\n",
       "      <td>0.0321</td>\n",
       "      <td>0.0823</td>\n",
       "      <td>0.0715</td>\n",
       "    </tr>\n",
       "    <tr>\n",
       "      <th>model_type_hybrid</th>\n",
       "      <td>0.0164</td>\n",
       "      <td>-0.0008</td>\n",
       "      <td>0.0951</td>\n",
       "      <td>0.0373</td>\n",
       "      <td>0.0839</td>\n",
       "      <td>0.0661</td>\n",
       "    </tr>\n",
       "    <tr>\n",
       "      <th>model_type_hybrid x loss_function_TRADES_v2</th>\n",
       "      <td>0.0134</td>\n",
       "      <td>0.0001</td>\n",
       "      <td>0.0185</td>\n",
       "      <td>0.6863</td>\n",
       "      <td>0.0020</td>\n",
       "      <td>0.9657</td>\n",
       "    </tr>\n",
       "    <tr>\n",
       "      <th>model_size_medium x pre_training_strategy_self-supervised</th>\n",
       "      <td>0.0097</td>\n",
       "      <td>-0.0002</td>\n",
       "      <td>0.1462</td>\n",
       "      <td>0.0013</td>\n",
       "      <td>0.1555</td>\n",
       "      <td>0.0006</td>\n",
       "    </tr>\n",
       "    <tr>\n",
       "      <th>model_size_small x loss_function_TRADES_v2</th>\n",
       "      <td>0.0090</td>\n",
       "      <td>0.0003</td>\n",
       "      <td>0.1354</td>\n",
       "      <td>0.0030</td>\n",
       "      <td>0.1344</td>\n",
       "      <td>0.0032</td>\n",
       "    </tr>\n",
       "    <tr>\n",
       "      <th>pre_training_dataset_in22k+in1k</th>\n",
       "      <td>0.0089</td>\n",
       "      <td>-0.0001</td>\n",
       "      <td>-0.0495</td>\n",
       "      <td>0.2788</td>\n",
       "      <td>-0.0748</td>\n",
       "      <td>0.1018</td>\n",
       "    </tr>\n",
       "    <tr>\n",
       "      <th>pre_training_strategy_supervised (robust)</th>\n",
       "      <td>0.0052</td>\n",
       "      <td>-0.0002</td>\n",
       "      <td>-0.2318</td>\n",
       "      <td>0.0000</td>\n",
       "      <td>-0.1277</td>\n",
       "      <td>0.0051</td>\n",
       "    </tr>\n",
       "    <tr>\n",
       "      <th>pre_training_dataset_laion2B</th>\n",
       "      <td>0.0050</td>\n",
       "      <td>-0.0001</td>\n",
       "      <td>-0.0752</td>\n",
       "      <td>0.1000</td>\n",
       "      <td>-0.0973</td>\n",
       "      <td>0.0331</td>\n",
       "    </tr>\n",
       "    <tr>\n",
       "      <th>pre_training_dataset_in12k+in1k</th>\n",
       "      <td>0.0049</td>\n",
       "      <td>0.0003</td>\n",
       "      <td>-0.0900</td>\n",
       "      <td>0.0487</td>\n",
       "      <td>-0.1089</td>\n",
       "      <td>0.0170</td>\n",
       "    </tr>\n",
       "    <tr>\n",
       "      <th>pre_training_dataset_laion_aesthetic</th>\n",
       "      <td>0.0039</td>\n",
       "      <td>-0.0002</td>\n",
       "      <td>-0.0442</td>\n",
       "      <td>0.3341</td>\n",
       "      <td>-0.0575</td>\n",
       "      <td>0.2086</td>\n",
       "    </tr>\n",
       "    <tr>\n",
       "      <th>pre_training_dataset_laion2b+in1k</th>\n",
       "      <td>0.0034</td>\n",
       "      <td>0.0001</td>\n",
       "      <td>-0.0832</td>\n",
       "      <td>0.0686</td>\n",
       "      <td>-0.1024</td>\n",
       "      <td>0.0249</td>\n",
       "    </tr>\n",
       "    <tr>\n",
       "      <th>model_type_fully convolutional x pre_training_strategy_self-supervised (multimodal)</th>\n",
       "      <td>0.0022</td>\n",
       "      <td>0.0000</td>\n",
       "      <td>-0.0848</td>\n",
       "      <td>0.0635</td>\n",
       "      <td>-0.1042</td>\n",
       "      <td>0.0224</td>\n",
       "    </tr>\n",
       "    <tr>\n",
       "      <th>pre_training_strategy_self-supervised (multimodal)</th>\n",
       "      <td>0.0018</td>\n",
       "      <td>-0.0000</td>\n",
       "      <td>-0.1209</td>\n",
       "      <td>0.0080</td>\n",
       "      <td>-0.1539</td>\n",
       "      <td>0.0007</td>\n",
       "    </tr>\n",
       "    <tr>\n",
       "      <th>pre_training_dataset_laion2b+in12k+in1k</th>\n",
       "      <td>0.0011</td>\n",
       "      <td>-0.0000</td>\n",
       "      <td>-0.0755</td>\n",
       "      <td>0.0984</td>\n",
       "      <td>-0.0947</td>\n",
       "      <td>0.0381</td>\n",
       "    </tr>\n",
       "    <tr>\n",
       "      <th>model_size_small x pre_training_strategy_self-supervised (multimodal)</th>\n",
       "      <td>0.0000</td>\n",
       "      <td>0.0000</td>\n",
       "      <td>NaN</td>\n",
       "      <td>NaN</td>\n",
       "      <td>NaN</td>\n",
       "      <td>NaN</td>\n",
       "    </tr>\n",
       "    <tr>\n",
       "      <th>model_size_small x pre_training_strategy_supervised (robust)</th>\n",
       "      <td>0.0000</td>\n",
       "      <td>0.0000</td>\n",
       "      <td>NaN</td>\n",
       "      <td>NaN</td>\n",
       "      <td>NaN</td>\n",
       "      <td>NaN</td>\n",
       "    </tr>\n",
       "    <tr>\n",
       "      <th>model_type_hybrid x pre_training_strategy_supervised (robust)</th>\n",
       "      <td>0.0000</td>\n",
       "      <td>0.0000</td>\n",
       "      <td>NaN</td>\n",
       "      <td>NaN</td>\n",
       "      <td>NaN</td>\n",
       "      <td>NaN</td>\n",
       "    </tr>\n",
       "    <tr>\n",
       "      <th>model_size_medium x pre_training_strategy_self-supervised (multimodal)</th>\n",
       "      <td>0.0000</td>\n",
       "      <td>0.0000</td>\n",
       "      <td>NaN</td>\n",
       "      <td>NaN</td>\n",
       "      <td>NaN</td>\n",
       "      <td>NaN</td>\n",
       "    </tr>\n",
       "    <tr>\n",
       "      <th>model_size_small x pre_training_strategy_self-supervised</th>\n",
       "      <td>0.0000</td>\n",
       "      <td>0.0000</td>\n",
       "      <td>NaN</td>\n",
       "      <td>NaN</td>\n",
       "      <td>NaN</td>\n",
       "      <td>NaN</td>\n",
       "    </tr>\n",
       "    <tr>\n",
       "      <th>model_type_fully convolutional x pre_training_strategy_self-supervised</th>\n",
       "      <td>0.0000</td>\n",
       "      <td>0.0000</td>\n",
       "      <td>NaN</td>\n",
       "      <td>NaN</td>\n",
       "      <td>NaN</td>\n",
       "      <td>NaN</td>\n",
       "    </tr>\n",
       "    <tr>\n",
       "      <th>model_type_hybrid x pre_training_strategy_self-supervised</th>\n",
       "      <td>0.0000</td>\n",
       "      <td>0.0000</td>\n",
       "      <td>NaN</td>\n",
       "      <td>NaN</td>\n",
       "      <td>NaN</td>\n",
       "      <td>NaN</td>\n",
       "    </tr>\n",
       "    <tr>\n",
       "      <th>model_type_hybrid x pre_training_strategy_self-supervised (multimodal)</th>\n",
       "      <td>0.0000</td>\n",
       "      <td>0.0000</td>\n",
       "      <td>NaN</td>\n",
       "      <td>NaN</td>\n",
       "      <td>NaN</td>\n",
       "      <td>NaN</td>\n",
       "    </tr>\n",
       "  </tbody>\n",
       "</table>\n",
       "</div>"
      ],
      "text/plain": [
       "                                                    RandomForest_FeatureImportance  \\\n",
       "model_size_medium x pre_training_strategy_super...                          0.2469   \n",
       "volume_pre_training_data_scaled                                             0.0989   \n",
       "model_size_medium                                                           0.0797   \n",
       "pre_training_dataset_in1k                                                   0.0701   \n",
       "model_type_fully convolutional x loss_function_...                          0.0619   \n",
       "loss_function_TRADES_v2                                                     0.0578   \n",
       "model_type_fully convolutional                                              0.0450   \n",
       "pre_training_strategy_self-supervised                                       0.0367   \n",
       "model_size_small x pre_training_strategy_superv...                          0.0342   \n",
       "model_type_fully convolutional x pre_training_s...                          0.0329   \n",
       "model_size_small                                                            0.0326   \n",
       "pre_training_dataset_in22k                                                  0.0248   \n",
       "model_size_medium x loss_function_TRADES_v2                                 0.0240   \n",
       "pre_training_strategy_supervised                                            0.0190   \n",
       "model_type_fully convolutional x pre_training_s...                          0.0171   \n",
       "model_type_hybrid x pre_training_strategy_super...                          0.0169   \n",
       "model_size_medium x pre_training_strategy_super...                          0.0165   \n",
       "model_type_hybrid                                                           0.0164   \n",
       "model_type_hybrid x loss_function_TRADES_v2                                 0.0134   \n",
       "model_size_medium x pre_training_strategy_self-...                          0.0097   \n",
       "model_size_small x loss_function_TRADES_v2                                  0.0090   \n",
       "pre_training_dataset_in22k+in1k                                             0.0089   \n",
       "pre_training_strategy_supervised (robust)                                   0.0052   \n",
       "pre_training_dataset_laion2B                                                0.0050   \n",
       "pre_training_dataset_in12k+in1k                                             0.0049   \n",
       "pre_training_dataset_laion_aesthetic                                        0.0039   \n",
       "pre_training_dataset_laion2b+in1k                                           0.0034   \n",
       "model_type_fully convolutional x pre_training_s...                          0.0022   \n",
       "pre_training_strategy_self-supervised (multimodal)                          0.0018   \n",
       "pre_training_dataset_laion2b+in12k+in1k                                     0.0011   \n",
       "model_size_small x pre_training_strategy_self-s...                          0.0000   \n",
       "model_size_small x pre_training_strategy_superv...                          0.0000   \n",
       "model_type_hybrid x pre_training_strategy_super...                          0.0000   \n",
       "model_size_medium x pre_training_strategy_self-...                          0.0000   \n",
       "model_size_small x pre_training_strategy_self-s...                          0.0000   \n",
       "model_type_fully convolutional x pre_training_s...                          0.0000   \n",
       "model_type_hybrid x pre_training_strategy_self-...                          0.0000   \n",
       "model_type_hybrid x pre_training_strategy_self-...                          0.0000   \n",
       "\n",
       "                                                    SHAP_Importance  \\\n",
       "model_size_medium x pre_training_strategy_super...           0.0011   \n",
       "volume_pre_training_data_scaled                              0.0016   \n",
       "model_size_medium                                            0.0002   \n",
       "pre_training_dataset_in1k                                    0.0014   \n",
       "model_type_fully convolutional x loss_function_...           0.0001   \n",
       "loss_function_TRADES_v2                                     -0.0001   \n",
       "model_type_fully convolutional                              -0.0002   \n",
       "pre_training_strategy_self-supervised                       -0.0015   \n",
       "model_size_small x pre_training_strategy_superv...          -0.0005   \n",
       "model_type_fully convolutional x pre_training_s...          -0.0012   \n",
       "model_size_small                                            -0.0004   \n",
       "pre_training_dataset_in22k                                   0.0000   \n",
       "model_size_medium x loss_function_TRADES_v2                 -0.0000   \n",
       "pre_training_strategy_supervised                             0.0005   \n",
       "model_type_fully convolutional x pre_training_s...           0.0001   \n",
       "model_type_hybrid x pre_training_strategy_super...          -0.0008   \n",
       "model_size_medium x pre_training_strategy_super...           0.0002   \n",
       "model_type_hybrid                                           -0.0008   \n",
       "model_type_hybrid x loss_function_TRADES_v2                  0.0001   \n",
       "model_size_medium x pre_training_strategy_self-...          -0.0002   \n",
       "model_size_small x loss_function_TRADES_v2                   0.0003   \n",
       "pre_training_dataset_in22k+in1k                             -0.0001   \n",
       "pre_training_strategy_supervised (robust)                   -0.0002   \n",
       "pre_training_dataset_laion2B                                -0.0001   \n",
       "pre_training_dataset_in12k+in1k                              0.0003   \n",
       "pre_training_dataset_laion_aesthetic                        -0.0002   \n",
       "pre_training_dataset_laion2b+in1k                            0.0001   \n",
       "model_type_fully convolutional x pre_training_s...           0.0000   \n",
       "pre_training_strategy_self-supervised (multimodal)          -0.0000   \n",
       "pre_training_dataset_laion2b+in12k+in1k                     -0.0000   \n",
       "model_size_small x pre_training_strategy_self-s...           0.0000   \n",
       "model_size_small x pre_training_strategy_superv...           0.0000   \n",
       "model_type_hybrid x pre_training_strategy_super...           0.0000   \n",
       "model_size_medium x pre_training_strategy_self-...           0.0000   \n",
       "model_size_small x pre_training_strategy_self-s...           0.0000   \n",
       "model_type_fully convolutional x pre_training_s...           0.0000   \n",
       "model_type_hybrid x pre_training_strategy_self-...           0.0000   \n",
       "model_type_hybrid x pre_training_strategy_self-...           0.0000   \n",
       "\n",
       "                                                    Pearson_r  Pearson_pval  \\\n",
       "model_size_medium x pre_training_strategy_super...    -0.3147        0.0000   \n",
       "volume_pre_training_data_scaled                       -0.1457        0.0014   \n",
       "model_size_medium                                     -0.0179        0.6953   \n",
       "pre_training_dataset_in1k                              0.1771        0.0001   \n",
       "model_type_fully convolutional x loss_function_...    -0.1682        0.0002   \n",
       "loss_function_TRADES_v2                               -0.0908        0.0468   \n",
       "model_type_fully convolutional                        -0.1645        0.0003   \n",
       "pre_training_strategy_self-supervised                  0.1246        0.0063   \n",
       "model_size_small x pre_training_strategy_superv...     0.2585        0.0000   \n",
       "model_type_fully convolutional x pre_training_s...    -0.2183        0.0000   \n",
       "model_size_small                                       0.2585        0.0000   \n",
       "pre_training_dataset_in22k                            -0.0002        0.9958   \n",
       "model_size_medium x loss_function_TRADES_v2           -0.0378        0.4080   \n",
       "pre_training_strategy_supervised                       0.1831        0.0001   \n",
       "model_type_fully convolutional x pre_training_s...     0.0166        0.7162   \n",
       "model_type_hybrid x pre_training_strategy_super...     0.0951        0.0373   \n",
       "model_size_medium x pre_training_strategy_super...     0.0978        0.0321   \n",
       "model_type_hybrid                                      0.0951        0.0373   \n",
       "model_type_hybrid x loss_function_TRADES_v2            0.0185        0.6863   \n",
       "model_size_medium x pre_training_strategy_self-...     0.1462        0.0013   \n",
       "model_size_small x loss_function_TRADES_v2             0.1354        0.0030   \n",
       "pre_training_dataset_in22k+in1k                       -0.0495        0.2788   \n",
       "pre_training_strategy_supervised (robust)             -0.2318        0.0000   \n",
       "pre_training_dataset_laion2B                          -0.0752        0.1000   \n",
       "pre_training_dataset_in12k+in1k                       -0.0900        0.0487   \n",
       "pre_training_dataset_laion_aesthetic                  -0.0442        0.3341   \n",
       "pre_training_dataset_laion2b+in1k                     -0.0832        0.0686   \n",
       "model_type_fully convolutional x pre_training_s...    -0.0848        0.0635   \n",
       "pre_training_strategy_self-supervised (multimodal)    -0.1209        0.0080   \n",
       "pre_training_dataset_laion2b+in12k+in1k               -0.0755        0.0984   \n",
       "model_size_small x pre_training_strategy_self-s...        NaN           NaN   \n",
       "model_size_small x pre_training_strategy_superv...        NaN           NaN   \n",
       "model_type_hybrid x pre_training_strategy_super...        NaN           NaN   \n",
       "model_size_medium x pre_training_strategy_self-...        NaN           NaN   \n",
       "model_size_small x pre_training_strategy_self-s...        NaN           NaN   \n",
       "model_type_fully convolutional x pre_training_s...        NaN           NaN   \n",
       "model_type_hybrid x pre_training_strategy_self-...        NaN           NaN   \n",
       "model_type_hybrid x pre_training_strategy_self-...        NaN           NaN   \n",
       "\n",
       "                                                    Spearman_r  Spearman_pval  \n",
       "model_size_medium x pre_training_strategy_super...     -0.1983         0.0000  \n",
       "volume_pre_training_data_scaled                        -0.2486         0.0000  \n",
       "model_size_medium                                       0.0358         0.4344  \n",
       "pre_training_dataset_in1k                               0.2431         0.0000  \n",
       "model_type_fully convolutional x loss_function_...     -0.1702         0.0002  \n",
       "loss_function_TRADES_v2                                -0.1005         0.0276  \n",
       "model_type_fully convolutional                         -0.1578         0.0005  \n",
       "pre_training_strategy_self-supervised                   0.1274         0.0052  \n",
       "model_size_small x pre_training_strategy_superv...      0.2645         0.0000  \n",
       "model_type_fully convolutional x pre_training_s...     -0.1347         0.0031  \n",
       "model_size_small                                        0.2645         0.0000  \n",
       "pre_training_dataset_in22k                             -0.0161         0.7249  \n",
       "model_size_medium x loss_function_TRADES_v2            -0.0140         0.7596  \n",
       "pre_training_strategy_supervised                        0.1362         0.0028  \n",
       "model_type_fully convolutional x pre_training_s...     -0.0100         0.8270  \n",
       "model_type_hybrid x pre_training_strategy_super...      0.0839         0.0661  \n",
       "model_size_medium x pre_training_strategy_super...      0.0823         0.0715  \n",
       "model_type_hybrid                                       0.0839         0.0661  \n",
       "model_type_hybrid x loss_function_TRADES_v2             0.0020         0.9657  \n",
       "model_size_medium x pre_training_strategy_self-...      0.1555         0.0006  \n",
       "model_size_small x loss_function_TRADES_v2              0.1344         0.0032  \n",
       "pre_training_dataset_in22k+in1k                        -0.0748         0.1018  \n",
       "pre_training_strategy_supervised (robust)              -0.1277         0.0051  \n",
       "pre_training_dataset_laion2B                           -0.0973         0.0331  \n",
       "pre_training_dataset_in12k+in1k                        -0.1089         0.0170  \n",
       "pre_training_dataset_laion_aesthetic                   -0.0575         0.2086  \n",
       "pre_training_dataset_laion2b+in1k                      -0.1024         0.0249  \n",
       "model_type_fully convolutional x pre_training_s...     -0.1042         0.0224  \n",
       "pre_training_strategy_self-supervised (multimodal)     -0.1539         0.0007  \n",
       "pre_training_dataset_laion2b+in12k+in1k                -0.0947         0.0381  \n",
       "model_size_small x pre_training_strategy_self-s...         NaN            NaN  \n",
       "model_size_small x pre_training_strategy_superv...         NaN            NaN  \n",
       "model_type_hybrid x pre_training_strategy_super...         NaN            NaN  \n",
       "model_size_medium x pre_training_strategy_self-...         NaN            NaN  \n",
       "model_size_small x pre_training_strategy_self-s...         NaN            NaN  \n",
       "model_type_fully convolutional x pre_training_s...         NaN            NaN  \n",
       "model_type_hybrid x pre_training_strategy_self-...         NaN            NaN  \n",
       "model_type_hybrid x pre_training_strategy_self-...         NaN            NaN  "
      ]
     },
     "execution_count": 27,
     "metadata": {},
     "output_type": "execute_result"
    }
   ],
   "source": [
    "import pandas as pd\n",
    "from sklearn.ensemble import RandomForestRegressor\n",
    "import shap\n",
    "from scipy.stats import pearsonr, spearmanr\n",
    "import numpy as np\n",
    "\n",
    "# Features to use\n",
    "features = [\n",
    "    'model_type',\n",
    "    'model_size',\n",
    "    'loss_function',\n",
    "    'pre_training_dataset',\n",
    "    'volume_pre_training_data_scaled',\n",
    "    'pre_training_strategy',\n",
    "]\n",
    "target = 'normalized_total_borda_rank'\n",
    "\n",
    "# Loop over each ft_strategy\n",
    "for ft_strategy in [ \"LP (50 epochs)\" ]: #\n",
    "    print(f\"\\n================ Random Forest Regression, Feature Importance, SHAP, and Correlations for {ft_strategy} ================\\n\")\n",
    "    \n",
    "    # Subset\n",
    "    sub_df = df[df['ft_strategy'] == ft_strategy]\n",
    "    \n",
    "    # Encode categorical variables\n",
    "    base_encoded = pd.get_dummies(sub_df[features], drop_first=True)\n",
    "    \n",
    "    # Start with base features\n",
    "    X = base_encoded.copy()\n",
    "    \n",
    "    # Manually add only selected interactions\n",
    "    model_type_cols = [col for col in base_encoded.columns if col.startswith('model_type_')]\n",
    "    pretrain_strategy_cols = [col for col in base_encoded.columns if col.startswith('pre_training_strategy_')]\n",
    "    for mt in model_type_cols:\n",
    "        for ps in pretrain_strategy_cols:\n",
    "            X[f\"{mt} x {ps}\"] = base_encoded[mt] * base_encoded[ps]\n",
    "    \n",
    "    loss_function_cols = [col for col in base_encoded.columns if col.startswith('loss_function_')]\n",
    "    for mt in model_type_cols:\n",
    "        for lf in loss_function_cols:\n",
    "            X[f\"{mt} x {lf}\"] = base_encoded[mt] * base_encoded[lf]\n",
    "    \n",
    "    model_size_cols = [col for col in base_encoded.columns if col.startswith('model_size_')]\n",
    "    for ms in model_size_cols:\n",
    "        for ps in pretrain_strategy_cols:\n",
    "            X[f\"{ms} x {ps}\"] = base_encoded[ms] * base_encoded[ps]\n",
    "    \n",
    "    for ms in model_size_cols:\n",
    "        for lf in loss_function_cols:\n",
    "            X[f\"{ms} x {lf}\"] = base_encoded[ms] * base_encoded[lf]\n",
    "    \n",
    "    # Target variable\n",
    "    y = sub_df[target]\n",
    "    \n",
    "    # Train Random Forest\n",
    "    rf = RandomForestRegressor(n_estimators=200, random_state=42)\n",
    "    rf.fit(X, y)\n",
    "    \n",
    "    # Print R² (on training set)\n",
    "    print(f\"Training R² score: {rf.score(X, y):.3f}\")\n",
    "    \n",
    "    # Extract feature importances\n",
    "    feature_importances = pd.Series(rf.feature_importances_, index=X.columns)\n",
    "    feature_importances = feature_importances.sort_values(ascending=False)\n",
    "    \n",
    "    # Compute SHAP values\n",
    "    explainer = shap.TreeExplainer(rf)\n",
    "    shap_values = explainer.shap_values(X)\n",
    "    \n",
    "    # Aggregate SHAP importance\n",
    "    shap_importance = pd.Series(shap_values.mean(axis=0), index=X.columns)\n",
    "    \n",
    "    # Initialize the combined importance dataframe\n",
    "    combined_importance = pd.DataFrame({\n",
    "        'RandomForest_FeatureImportance': feature_importances,\n",
    "        'SHAP_Importance': shap_importance\n",
    "    })\n",
    "    \n",
    "    # Compute Pearson and Spearman correlations for **base features only** (no interactions)\n",
    "    pearson_corr = []\n",
    "    pearson_pval = []\n",
    "    spearman_corr = []\n",
    "    spearman_pval = []\n",
    "    \n",
    "    for col in X.columns:  # not base_encoded.columns\n",
    "        pearson_r, pearson_p = pearsonr(X[col], y)\n",
    "        spearman_r, spearman_p = spearmanr(X[col], y)\n",
    "        \n",
    "        pearson_corr.append(pearson_r)\n",
    "        pearson_pval.append(pearson_p)\n",
    "        spearman_corr.append(spearman_r)\n",
    "        spearman_pval.append(spearman_p)\n",
    "    \n",
    "    correlation_df = pd.DataFrame({\n",
    "        'Pearson_r': pearson_corr,\n",
    "        'Pearson_pval': pearson_pval,\n",
    "        'Spearman_r': spearman_corr,\n",
    "        'Spearman_pval': spearman_pval\n",
    "    }, index=X.columns)\n",
    "    \n",
    "    # Merge correlation info into the combined importance table\n",
    "    combined_importance = combined_importance.join(correlation_df, how='left')\n",
    "    \n",
    "    # Print the final combined table\n",
    "    print(\"\\n--- Combined Feature Importances and Correlations ---\")\n",
    "\n",
    "pd.set_option('display.float_format', '{:.4f}'.format)\n",
    "\n",
    "combined_importance = combined_importance.round(4)\n",
    "combined_importance = combined_importance.sort_values(by='RandomForest_FeatureImportance', ascending=True)  # or ascending=False\n",
    "combined_importance"
   ]
  },
  {
   "cell_type": "code",
   "execution_count": 14,
   "metadata": {},
   "outputs": [
    {
     "data": {
      "application/vnd.plotly.v1+json": {
       "config": {
        "plotlyServerURL": "https://plot.ly"
       },
       "data": [
        {
         "hovertemplate": "strategy=FFT (5 epochs)<br>size=large<br>Quantile (by Total Sum Score)=%{x}<br>Total Sum Score=%{y}<extra></extra>",
         "legendgroup": "FFT (5 epochs), large",
         "line": {
          "color": "#636efa",
          "dash": "solid"
         },
         "marker": {
          "symbol": "circle"
         },
         "mode": "lines+markers",
         "name": "FFT (5 epochs), large",
         "orientation": "v",
         "showlegend": true,
         "type": "scatter",
         "x": [
          "min",
          "25%",
          "50%",
          "75%",
          "90%",
          "max",
          null,
          null,
          null,
          null
         ],
         "xaxis": "x",
         "y": [
          0.47749206349206347,
          0.9215833333333333,
          2.1630238095238097,
          3.9764999999999993,
          5.659055555555556,
          7.26968253968254,
          9,
          18,
          27,
          32
         ],
         "yaxis": "y"
        },
        {
         "hovertemplate": "strategy=FFT (5 epochs)<br>size=medium<br>Quantile (by Total Sum Score)=%{x}<br>Total Sum Score=%{y}<extra></extra>",
         "legendgroup": "FFT (5 epochs), medium",
         "line": {
          "color": "#636efa",
          "dash": "dot"
         },
         "marker": {
          "symbol": "circle"
         },
         "mode": "lines+markers",
         "name": "FFT (5 epochs), medium",
         "orientation": "v",
         "showlegend": true,
         "type": "scatter",
         "x": [
          "min",
          "25%",
          "50%",
          "75%",
          "90%",
          "max",
          null,
          null,
          null,
          null
         ],
         "xaxis": "x",
         "y": [
          0.35160317460317464,
          1.1093809523809526,
          1.6140317460317462,
          4.228285714285714,
          5.721719047619048,
          7.7293015873015865,
          8,
          15,
          22,
          27
         ],
         "yaxis": "y"
        },
        {
         "hovertemplate": "strategy=FFT (5 epochs)<br>size=small<br>Quantile (by Total Sum Score)=%{x}<br>Total Sum Score=%{y}<extra></extra>",
         "legendgroup": "FFT (5 epochs), small",
         "line": {
          "color": "#636efa",
          "dash": "dash"
         },
         "marker": {
          "symbol": "circle"
         },
         "mode": "lines+markers",
         "name": "FFT (5 epochs), small",
         "orientation": "v",
         "showlegend": true,
         "type": "scatter",
         "x": [
          "min",
          "25%",
          "50%",
          "75%",
          "90%",
          "max",
          null,
          null,
          null,
          null
         ],
         "xaxis": "x",
         "y": [
          0.45199999999999996,
          0.597845238095238,
          1.2903333333333333,
          2.4147777777777772,
          3.62994761904762,
          5.7153809523809525,
          4,
          7,
          10,
          12
         ],
         "yaxis": "y"
        },
        {
         "hovertemplate": "strategy=FFT (50 epochs)<br>size=large<br>Quantile (by Total Sum Score)=%{x}<br>Total Sum Score=%{y}<extra></extra>",
         "legendgroup": "FFT (50 epochs), large",
         "line": {
          "color": "#EF553B",
          "dash": "solid"
         },
         "marker": {
          "symbol": "circle"
         },
         "mode": "lines+markers",
         "name": "FFT (50 epochs), large",
         "orientation": "v",
         "showlegend": true,
         "type": "scatter",
         "x": [
          "min",
          "25%",
          "50%",
          "75%",
          "90%",
          "max",
          null,
          null,
          null,
          null
         ],
         "xaxis": "x",
         "y": [
          4.2214285714285715,
          7.75909126984127,
          9.356158730158729,
          11.668301587301588,
          13.033960317460316,
          15.24073015873016,
          9,
          18,
          27,
          32
         ],
         "yaxis": "y"
        },
        {
         "hovertemplate": "strategy=FFT (50 epochs)<br>size=medium<br>Quantile (by Total Sum Score)=%{x}<br>Total Sum Score=%{y}<extra></extra>",
         "legendgroup": "FFT (50 epochs), medium",
         "line": {
          "color": "#EF553B",
          "dash": "dot"
         },
         "marker": {
          "symbol": "circle"
         },
         "mode": "lines+markers",
         "name": "FFT (50 epochs), medium",
         "orientation": "v",
         "showlegend": true,
         "type": "scatter",
         "x": [
          "min",
          "25%",
          "50%",
          "75%",
          "90%",
          "max",
          null,
          null,
          null,
          null
         ],
         "xaxis": "x",
         "y": [
          2.7429047619047617,
          7.116392857142857,
          9.056944444444444,
          11.632531746031747,
          14.747490476190476,
          16.489968253968254,
          8,
          15,
          22,
          27
         ],
         "yaxis": "y"
        },
        {
         "hovertemplate": "strategy=FFT (50 epochs)<br>size=small<br>Quantile (by Total Sum Score)=%{x}<br>Total Sum Score=%{y}<extra></extra>",
         "legendgroup": "FFT (50 epochs), small",
         "line": {
          "color": "#EF553B",
          "dash": "dash"
         },
         "marker": {
          "symbol": "circle"
         },
         "mode": "lines+markers",
         "name": "FFT (50 epochs), small",
         "orientation": "v",
         "showlegend": true,
         "type": "scatter",
         "x": [
          "min",
          "25%",
          "50%",
          "75%",
          "90%",
          "max",
          null,
          null,
          null,
          null
         ],
         "xaxis": "x",
         "y": [
          1.5930952380952381,
          3.666369047619048,
          8.179531746031746,
          8.967690476190477,
          11.14009523809524,
          14.662857142857144,
          4,
          7,
          10,
          12
         ],
         "yaxis": "y"
        },
        {
         "hovertemplate": "strategy=LP (50 epochs)<br>size=large<br>Quantile (by Total Sum Score)=%{x}<br>Total Sum Score=%{y}<extra></extra>",
         "legendgroup": "LP (50 epochs), large",
         "line": {
          "color": "#00cc96",
          "dash": "solid"
         },
         "marker": {
          "symbol": "circle"
         },
         "mode": "lines+markers",
         "name": "LP (50 epochs), large",
         "orientation": "v",
         "showlegend": true,
         "type": "scatter",
         "x": [
          "min",
          "25%",
          "50%",
          "75%",
          "90%",
          "max",
          null,
          null,
          null,
          null
         ],
         "xaxis": "x",
         "y": [
          0.6882380952380953,
          2.9303730158730157,
          5.079817460317461,
          6.595809523809523,
          7.447285714285714,
          8.113412698412699,
          9,
          18,
          27,
          32
         ],
         "yaxis": "y"
        },
        {
         "hovertemplate": "strategy=LP (50 epochs)<br>size=medium<br>Quantile (by Total Sum Score)=%{x}<br>Total Sum Score=%{y}<extra></extra>",
         "legendgroup": "LP (50 epochs), medium",
         "line": {
          "color": "#00cc96",
          "dash": "dot"
         },
         "marker": {
          "symbol": "circle"
         },
         "mode": "lines+markers",
         "name": "LP (50 epochs), medium",
         "orientation": "v",
         "showlegend": true,
         "type": "scatter",
         "x": [
          "min",
          "25%",
          "50%",
          "75%",
          "90%",
          "max",
          null,
          null,
          null,
          null
         ],
         "xaxis": "x",
         "y": [
          0.5582539682539682,
          2.482531746031746,
          3.253563492063492,
          5.278833333333333,
          6.804433333333333,
          9.132142857142856,
          8,
          15,
          22,
          27
         ],
         "yaxis": "y"
        },
        {
         "hovertemplate": "strategy=LP (50 epochs)<br>size=small<br>Quantile (by Total Sum Score)=%{x}<br>Total Sum Score=%{y}<extra></extra>",
         "legendgroup": "LP (50 epochs), small",
         "line": {
          "color": "#00cc96",
          "dash": "dash"
         },
         "marker": {
          "symbol": "circle"
         },
         "mode": "lines+markers",
         "name": "LP (50 epochs), small",
         "orientation": "v",
         "showlegend": true,
         "type": "scatter",
         "x": [
          "min",
          "25%",
          "50%",
          "75%",
          "90%",
          "max",
          null,
          null,
          null,
          null
         ],
         "xaxis": "x",
         "y": [
          0.28044444444444444,
          0.6506666666666666,
          1.3437857142857141,
          3.220345238095238,
          3.738466666666667,
          4.612507936507937,
          4,
          7,
          10,
          12
         ],
         "yaxis": "y"
        }
       ],
       "layout": {
        "annotations": [
         {
          "font": {
           "size": 8
          },
          "showarrow": false,
          "text": "n=9",
          "x": "25%",
          "xanchor": "left",
          "y": 0.9215833333333333,
          "yanchor": "bottom"
         },
         {
          "font": {
           "size": 8
          },
          "showarrow": false,
          "text": "n=18",
          "x": "50%",
          "xanchor": "left",
          "y": 2.1630238095238097,
          "yanchor": "bottom"
         },
         {
          "font": {
           "size": 8
          },
          "showarrow": false,
          "text": "n=27",
          "x": "75%",
          "xanchor": "left",
          "y": 3.9764999999999993,
          "yanchor": "bottom"
         },
         {
          "font": {
           "size": 8
          },
          "showarrow": false,
          "text": "n=32",
          "x": "90%",
          "xanchor": "left",
          "y": 5.659055555555556,
          "yanchor": "bottom"
         },
         {
          "font": {
           "size": 8
          },
          "showarrow": false,
          "text": "n=8",
          "x": "25%",
          "xanchor": "left",
          "y": 1.1093809523809526,
          "yanchor": "bottom"
         },
         {
          "font": {
           "size": 8
          },
          "showarrow": false,
          "text": "n=15",
          "x": "50%",
          "xanchor": "left",
          "y": 1.6140317460317462,
          "yanchor": "bottom"
         },
         {
          "font": {
           "size": 8
          },
          "showarrow": false,
          "text": "n=22",
          "x": "75%",
          "xanchor": "left",
          "y": 4.228285714285714,
          "yanchor": "bottom"
         },
         {
          "font": {
           "size": 8
          },
          "showarrow": false,
          "text": "n=27",
          "x": "90%",
          "xanchor": "left",
          "y": 5.721719047619048,
          "yanchor": "bottom"
         },
         {
          "font": {
           "size": 8
          },
          "showarrow": false,
          "text": "n=4",
          "x": "25%",
          "xanchor": "left",
          "y": 0.597845238095238,
          "yanchor": "bottom"
         },
         {
          "font": {
           "size": 8
          },
          "showarrow": false,
          "text": "n=7",
          "x": "50%",
          "xanchor": "left",
          "y": 1.2903333333333333,
          "yanchor": "bottom"
         },
         {
          "font": {
           "size": 8
          },
          "showarrow": false,
          "text": "n=10",
          "x": "75%",
          "xanchor": "left",
          "y": 2.4147777777777772,
          "yanchor": "bottom"
         },
         {
          "font": {
           "size": 8
          },
          "showarrow": false,
          "text": "n=12",
          "x": "90%",
          "xanchor": "left",
          "y": 3.62994761904762,
          "yanchor": "bottom"
         },
         {
          "font": {
           "size": 8
          },
          "showarrow": false,
          "text": "n=9",
          "x": "25%",
          "xanchor": "left",
          "y": 7.75909126984127,
          "yanchor": "bottom"
         },
         {
          "font": {
           "size": 8
          },
          "showarrow": false,
          "text": "n=18",
          "x": "50%",
          "xanchor": "left",
          "y": 9.356158730158729,
          "yanchor": "bottom"
         },
         {
          "font": {
           "size": 8
          },
          "showarrow": false,
          "text": "n=27",
          "x": "75%",
          "xanchor": "left",
          "y": 11.668301587301588,
          "yanchor": "bottom"
         },
         {
          "font": {
           "size": 8
          },
          "showarrow": false,
          "text": "n=32",
          "x": "90%",
          "xanchor": "left",
          "y": 13.033960317460316,
          "yanchor": "bottom"
         },
         {
          "font": {
           "size": 8
          },
          "showarrow": false,
          "text": "n=8",
          "x": "25%",
          "xanchor": "left",
          "y": 7.116392857142857,
          "yanchor": "bottom"
         },
         {
          "font": {
           "size": 8
          },
          "showarrow": false,
          "text": "n=15",
          "x": "50%",
          "xanchor": "left",
          "y": 9.056944444444444,
          "yanchor": "bottom"
         },
         {
          "font": {
           "size": 8
          },
          "showarrow": false,
          "text": "n=22",
          "x": "75%",
          "xanchor": "left",
          "y": 11.632531746031747,
          "yanchor": "bottom"
         },
         {
          "font": {
           "size": 8
          },
          "showarrow": false,
          "text": "n=27",
          "x": "90%",
          "xanchor": "left",
          "y": 14.747490476190476,
          "yanchor": "bottom"
         },
         {
          "font": {
           "size": 8
          },
          "showarrow": false,
          "text": "n=4",
          "x": "25%",
          "xanchor": "left",
          "y": 3.666369047619048,
          "yanchor": "bottom"
         },
         {
          "font": {
           "size": 8
          },
          "showarrow": false,
          "text": "n=7",
          "x": "50%",
          "xanchor": "left",
          "y": 8.179531746031746,
          "yanchor": "bottom"
         },
         {
          "font": {
           "size": 8
          },
          "showarrow": false,
          "text": "n=10",
          "x": "75%",
          "xanchor": "left",
          "y": 8.967690476190477,
          "yanchor": "bottom"
         },
         {
          "font": {
           "size": 8
          },
          "showarrow": false,
          "text": "n=12",
          "x": "90%",
          "xanchor": "left",
          "y": 11.14009523809524,
          "yanchor": "bottom"
         },
         {
          "font": {
           "size": 8
          },
          "showarrow": false,
          "text": "n=9",
          "x": "25%",
          "xanchor": "left",
          "y": 2.9303730158730157,
          "yanchor": "bottom"
         },
         {
          "font": {
           "size": 8
          },
          "showarrow": false,
          "text": "n=18",
          "x": "50%",
          "xanchor": "left",
          "y": 5.079817460317461,
          "yanchor": "bottom"
         },
         {
          "font": {
           "size": 8
          },
          "showarrow": false,
          "text": "n=27",
          "x": "75%",
          "xanchor": "left",
          "y": 6.595809523809523,
          "yanchor": "bottom"
         },
         {
          "font": {
           "size": 8
          },
          "showarrow": false,
          "text": "n=32",
          "x": "90%",
          "xanchor": "left",
          "y": 7.447285714285714,
          "yanchor": "bottom"
         },
         {
          "font": {
           "size": 8
          },
          "showarrow": false,
          "text": "n=8",
          "x": "25%",
          "xanchor": "left",
          "y": 2.482531746031746,
          "yanchor": "bottom"
         },
         {
          "font": {
           "size": 8
          },
          "showarrow": false,
          "text": "n=15",
          "x": "50%",
          "xanchor": "left",
          "y": 3.253563492063492,
          "yanchor": "bottom"
         },
         {
          "font": {
           "size": 8
          },
          "showarrow": false,
          "text": "n=22",
          "x": "75%",
          "xanchor": "left",
          "y": 5.278833333333333,
          "yanchor": "bottom"
         },
         {
          "font": {
           "size": 8
          },
          "showarrow": false,
          "text": "n=27",
          "x": "90%",
          "xanchor": "left",
          "y": 6.804433333333333,
          "yanchor": "bottom"
         },
         {
          "font": {
           "size": 8
          },
          "showarrow": false,
          "text": "n=4",
          "x": "25%",
          "xanchor": "left",
          "y": 0.6506666666666666,
          "yanchor": "bottom"
         },
         {
          "font": {
           "size": 8
          },
          "showarrow": false,
          "text": "n=7",
          "x": "50%",
          "xanchor": "left",
          "y": 1.3437857142857141,
          "yanchor": "bottom"
         },
         {
          "font": {
           "size": 8
          },
          "showarrow": false,
          "text": "n=10",
          "x": "75%",
          "xanchor": "left",
          "y": 3.220345238095238,
          "yanchor": "bottom"
         },
         {
          "font": {
           "size": 8
          },
          "showarrow": false,
          "text": "n=12",
          "x": "90%",
          "xanchor": "left",
          "y": 3.738466666666667,
          "yanchor": "bottom"
         }
        ],
        "height": 400,
        "legend": {
         "bgcolor": "rgba(255,255,255,0.5)",
         "bordercolor": "lightgrey",
         "borderwidth": 1,
         "font": {
          "size": 10
         },
         "itemsizing": "constant",
         "title": {
          "text": "Strategy / Architecture Size"
         },
         "tracegroupgap": 0,
         "x": 0.05,
         "xanchor": "left",
         "y": 1,
         "yanchor": "top"
        },
        "margin": {
         "b": 0,
         "l": 0,
         "r": 0,
         "t": 0
        },
        "paper_bgcolor": "white",
        "plot_bgcolor": "white",
        "template": {
         "data": {
          "bar": [
           {
            "error_x": {
             "color": "#2a3f5f"
            },
            "error_y": {
             "color": "#2a3f5f"
            },
            "marker": {
             "line": {
              "color": "#E5ECF6",
              "width": 0.5
             },
             "pattern": {
              "fillmode": "overlay",
              "size": 10,
              "solidity": 0.2
             }
            },
            "type": "bar"
           }
          ],
          "barpolar": [
           {
            "marker": {
             "line": {
              "color": "#E5ECF6",
              "width": 0.5
             },
             "pattern": {
              "fillmode": "overlay",
              "size": 10,
              "solidity": 0.2
             }
            },
            "type": "barpolar"
           }
          ],
          "carpet": [
           {
            "aaxis": {
             "endlinecolor": "#2a3f5f",
             "gridcolor": "white",
             "linecolor": "white",
             "minorgridcolor": "white",
             "startlinecolor": "#2a3f5f"
            },
            "baxis": {
             "endlinecolor": "#2a3f5f",
             "gridcolor": "white",
             "linecolor": "white",
             "minorgridcolor": "white",
             "startlinecolor": "#2a3f5f"
            },
            "type": "carpet"
           }
          ],
          "choropleth": [
           {
            "colorbar": {
             "outlinewidth": 0,
             "ticks": ""
            },
            "type": "choropleth"
           }
          ],
          "contour": [
           {
            "colorbar": {
             "outlinewidth": 0,
             "ticks": ""
            },
            "colorscale": [
             [
              0,
              "#0d0887"
             ],
             [
              0.1111111111111111,
              "#46039f"
             ],
             [
              0.2222222222222222,
              "#7201a8"
             ],
             [
              0.3333333333333333,
              "#9c179e"
             ],
             [
              0.4444444444444444,
              "#bd3786"
             ],
             [
              0.5555555555555556,
              "#d8576b"
             ],
             [
              0.6666666666666666,
              "#ed7953"
             ],
             [
              0.7777777777777778,
              "#fb9f3a"
             ],
             [
              0.8888888888888888,
              "#fdca26"
             ],
             [
              1,
              "#f0f921"
             ]
            ],
            "type": "contour"
           }
          ],
          "contourcarpet": [
           {
            "colorbar": {
             "outlinewidth": 0,
             "ticks": ""
            },
            "type": "contourcarpet"
           }
          ],
          "heatmap": [
           {
            "colorbar": {
             "outlinewidth": 0,
             "ticks": ""
            },
            "colorscale": [
             [
              0,
              "#0d0887"
             ],
             [
              0.1111111111111111,
              "#46039f"
             ],
             [
              0.2222222222222222,
              "#7201a8"
             ],
             [
              0.3333333333333333,
              "#9c179e"
             ],
             [
              0.4444444444444444,
              "#bd3786"
             ],
             [
              0.5555555555555556,
              "#d8576b"
             ],
             [
              0.6666666666666666,
              "#ed7953"
             ],
             [
              0.7777777777777778,
              "#fb9f3a"
             ],
             [
              0.8888888888888888,
              "#fdca26"
             ],
             [
              1,
              "#f0f921"
             ]
            ],
            "type": "heatmap"
           }
          ],
          "heatmapgl": [
           {
            "colorbar": {
             "outlinewidth": 0,
             "ticks": ""
            },
            "colorscale": [
             [
              0,
              "#0d0887"
             ],
             [
              0.1111111111111111,
              "#46039f"
             ],
             [
              0.2222222222222222,
              "#7201a8"
             ],
             [
              0.3333333333333333,
              "#9c179e"
             ],
             [
              0.4444444444444444,
              "#bd3786"
             ],
             [
              0.5555555555555556,
              "#d8576b"
             ],
             [
              0.6666666666666666,
              "#ed7953"
             ],
             [
              0.7777777777777778,
              "#fb9f3a"
             ],
             [
              0.8888888888888888,
              "#fdca26"
             ],
             [
              1,
              "#f0f921"
             ]
            ],
            "type": "heatmapgl"
           }
          ],
          "histogram": [
           {
            "marker": {
             "pattern": {
              "fillmode": "overlay",
              "size": 10,
              "solidity": 0.2
             }
            },
            "type": "histogram"
           }
          ],
          "histogram2d": [
           {
            "colorbar": {
             "outlinewidth": 0,
             "ticks": ""
            },
            "colorscale": [
             [
              0,
              "#0d0887"
             ],
             [
              0.1111111111111111,
              "#46039f"
             ],
             [
              0.2222222222222222,
              "#7201a8"
             ],
             [
              0.3333333333333333,
              "#9c179e"
             ],
             [
              0.4444444444444444,
              "#bd3786"
             ],
             [
              0.5555555555555556,
              "#d8576b"
             ],
             [
              0.6666666666666666,
              "#ed7953"
             ],
             [
              0.7777777777777778,
              "#fb9f3a"
             ],
             [
              0.8888888888888888,
              "#fdca26"
             ],
             [
              1,
              "#f0f921"
             ]
            ],
            "type": "histogram2d"
           }
          ],
          "histogram2dcontour": [
           {
            "colorbar": {
             "outlinewidth": 0,
             "ticks": ""
            },
            "colorscale": [
             [
              0,
              "#0d0887"
             ],
             [
              0.1111111111111111,
              "#46039f"
             ],
             [
              0.2222222222222222,
              "#7201a8"
             ],
             [
              0.3333333333333333,
              "#9c179e"
             ],
             [
              0.4444444444444444,
              "#bd3786"
             ],
             [
              0.5555555555555556,
              "#d8576b"
             ],
             [
              0.6666666666666666,
              "#ed7953"
             ],
             [
              0.7777777777777778,
              "#fb9f3a"
             ],
             [
              0.8888888888888888,
              "#fdca26"
             ],
             [
              1,
              "#f0f921"
             ]
            ],
            "type": "histogram2dcontour"
           }
          ],
          "mesh3d": [
           {
            "colorbar": {
             "outlinewidth": 0,
             "ticks": ""
            },
            "type": "mesh3d"
           }
          ],
          "parcoords": [
           {
            "line": {
             "colorbar": {
              "outlinewidth": 0,
              "ticks": ""
             }
            },
            "type": "parcoords"
           }
          ],
          "pie": [
           {
            "automargin": true,
            "type": "pie"
           }
          ],
          "scatter": [
           {
            "fillpattern": {
             "fillmode": "overlay",
             "size": 10,
             "solidity": 0.2
            },
            "type": "scatter"
           }
          ],
          "scatter3d": [
           {
            "line": {
             "colorbar": {
              "outlinewidth": 0,
              "ticks": ""
             }
            },
            "marker": {
             "colorbar": {
              "outlinewidth": 0,
              "ticks": ""
             }
            },
            "type": "scatter3d"
           }
          ],
          "scattercarpet": [
           {
            "marker": {
             "colorbar": {
              "outlinewidth": 0,
              "ticks": ""
             }
            },
            "type": "scattercarpet"
           }
          ],
          "scattergeo": [
           {
            "marker": {
             "colorbar": {
              "outlinewidth": 0,
              "ticks": ""
             }
            },
            "type": "scattergeo"
           }
          ],
          "scattergl": [
           {
            "marker": {
             "colorbar": {
              "outlinewidth": 0,
              "ticks": ""
             }
            },
            "type": "scattergl"
           }
          ],
          "scattermapbox": [
           {
            "marker": {
             "colorbar": {
              "outlinewidth": 0,
              "ticks": ""
             }
            },
            "type": "scattermapbox"
           }
          ],
          "scatterpolar": [
           {
            "marker": {
             "colorbar": {
              "outlinewidth": 0,
              "ticks": ""
             }
            },
            "type": "scatterpolar"
           }
          ],
          "scatterpolargl": [
           {
            "marker": {
             "colorbar": {
              "outlinewidth": 0,
              "ticks": ""
             }
            },
            "type": "scatterpolargl"
           }
          ],
          "scatterternary": [
           {
            "marker": {
             "colorbar": {
              "outlinewidth": 0,
              "ticks": ""
             }
            },
            "type": "scatterternary"
           }
          ],
          "surface": [
           {
            "colorbar": {
             "outlinewidth": 0,
             "ticks": ""
            },
            "colorscale": [
             [
              0,
              "#0d0887"
             ],
             [
              0.1111111111111111,
              "#46039f"
             ],
             [
              0.2222222222222222,
              "#7201a8"
             ],
             [
              0.3333333333333333,
              "#9c179e"
             ],
             [
              0.4444444444444444,
              "#bd3786"
             ],
             [
              0.5555555555555556,
              "#d8576b"
             ],
             [
              0.6666666666666666,
              "#ed7953"
             ],
             [
              0.7777777777777778,
              "#fb9f3a"
             ],
             [
              0.8888888888888888,
              "#fdca26"
             ],
             [
              1,
              "#f0f921"
             ]
            ],
            "type": "surface"
           }
          ],
          "table": [
           {
            "cells": {
             "fill": {
              "color": "#EBF0F8"
             },
             "line": {
              "color": "white"
             }
            },
            "header": {
             "fill": {
              "color": "#C8D4E3"
             },
             "line": {
              "color": "white"
             }
            },
            "type": "table"
           }
          ]
         },
         "layout": {
          "annotationdefaults": {
           "arrowcolor": "#2a3f5f",
           "arrowhead": 0,
           "arrowwidth": 1
          },
          "autotypenumbers": "strict",
          "coloraxis": {
           "colorbar": {
            "outlinewidth": 0,
            "ticks": ""
           }
          },
          "colorscale": {
           "diverging": [
            [
             0,
             "#8e0152"
            ],
            [
             0.1,
             "#c51b7d"
            ],
            [
             0.2,
             "#de77ae"
            ],
            [
             0.3,
             "#f1b6da"
            ],
            [
             0.4,
             "#fde0ef"
            ],
            [
             0.5,
             "#f7f7f7"
            ],
            [
             0.6,
             "#e6f5d0"
            ],
            [
             0.7,
             "#b8e186"
            ],
            [
             0.8,
             "#7fbc41"
            ],
            [
             0.9,
             "#4d9221"
            ],
            [
             1,
             "#276419"
            ]
           ],
           "sequential": [
            [
             0,
             "#0d0887"
            ],
            [
             0.1111111111111111,
             "#46039f"
            ],
            [
             0.2222222222222222,
             "#7201a8"
            ],
            [
             0.3333333333333333,
             "#9c179e"
            ],
            [
             0.4444444444444444,
             "#bd3786"
            ],
            [
             0.5555555555555556,
             "#d8576b"
            ],
            [
             0.6666666666666666,
             "#ed7953"
            ],
            [
             0.7777777777777778,
             "#fb9f3a"
            ],
            [
             0.8888888888888888,
             "#fdca26"
            ],
            [
             1,
             "#f0f921"
            ]
           ],
           "sequentialminus": [
            [
             0,
             "#0d0887"
            ],
            [
             0.1111111111111111,
             "#46039f"
            ],
            [
             0.2222222222222222,
             "#7201a8"
            ],
            [
             0.3333333333333333,
             "#9c179e"
            ],
            [
             0.4444444444444444,
             "#bd3786"
            ],
            [
             0.5555555555555556,
             "#d8576b"
            ],
            [
             0.6666666666666666,
             "#ed7953"
            ],
            [
             0.7777777777777778,
             "#fb9f3a"
            ],
            [
             0.8888888888888888,
             "#fdca26"
            ],
            [
             1,
             "#f0f921"
            ]
           ]
          },
          "colorway": [
           "#636efa",
           "#EF553B",
           "#00cc96",
           "#ab63fa",
           "#FFA15A",
           "#19d3f3",
           "#FF6692",
           "#B6E880",
           "#FF97FF",
           "#FECB52"
          ],
          "font": {
           "color": "#2a3f5f"
          },
          "geo": {
           "bgcolor": "white",
           "lakecolor": "white",
           "landcolor": "#E5ECF6",
           "showlakes": true,
           "showland": true,
           "subunitcolor": "white"
          },
          "hoverlabel": {
           "align": "left"
          },
          "hovermode": "closest",
          "mapbox": {
           "style": "light"
          },
          "paper_bgcolor": "white",
          "plot_bgcolor": "#E5ECF6",
          "polar": {
           "angularaxis": {
            "gridcolor": "white",
            "linecolor": "white",
            "ticks": ""
           },
           "bgcolor": "#E5ECF6",
           "radialaxis": {
            "gridcolor": "white",
            "linecolor": "white",
            "ticks": ""
           }
          },
          "scene": {
           "xaxis": {
            "backgroundcolor": "#E5ECF6",
            "gridcolor": "white",
            "gridwidth": 2,
            "linecolor": "white",
            "showbackground": true,
            "ticks": "",
            "zerolinecolor": "white"
           },
           "yaxis": {
            "backgroundcolor": "#E5ECF6",
            "gridcolor": "white",
            "gridwidth": 2,
            "linecolor": "white",
            "showbackground": true,
            "ticks": "",
            "zerolinecolor": "white"
           },
           "zaxis": {
            "backgroundcolor": "#E5ECF6",
            "gridcolor": "white",
            "gridwidth": 2,
            "linecolor": "white",
            "showbackground": true,
            "ticks": "",
            "zerolinecolor": "white"
           }
          },
          "shapedefaults": {
           "line": {
            "color": "#2a3f5f"
           }
          },
          "ternary": {
           "aaxis": {
            "gridcolor": "white",
            "linecolor": "white",
            "ticks": ""
           },
           "baxis": {
            "gridcolor": "white",
            "linecolor": "white",
            "ticks": ""
           },
           "bgcolor": "#E5ECF6",
           "caxis": {
            "gridcolor": "white",
            "linecolor": "white",
            "ticks": ""
           }
          },
          "title": {
           "x": 0.05
          },
          "xaxis": {
           "automargin": true,
           "gridcolor": "white",
           "linecolor": "white",
           "ticks": "",
           "title": {
            "standoff": 15
           },
           "zerolinecolor": "white",
           "zerolinewidth": 2
          },
          "yaxis": {
           "automargin": true,
           "gridcolor": "white",
           "linecolor": "white",
           "ticks": "",
           "title": {
            "standoff": 15
           },
           "zerolinecolor": "white",
           "zerolinewidth": 2
          }
         }
        },
        "width": 450,
        "xaxis": {
         "anchor": "y",
         "categoryarray": [
          "min",
          "25%",
          "50%",
          "75%",
          "90%",
          "max"
         ],
         "categoryorder": "array",
         "domain": [
          0,
          1
         ],
         "gridcolor": "lightgrey",
         "showgrid": true,
         "title": {
          "text": "Quantile (by Total Sum Score)"
         }
        },
        "yaxis": {
         "anchor": "x",
         "domain": [
          0,
          1
         ],
         "gridcolor": "lightgrey",
         "range": [
          0,
          18
         ],
         "showgrid": true,
         "title": {
          "text": "Total Sum Score"
         }
        }
       }
      }
     },
     "metadata": {},
     "output_type": "display_data"
    }
   ],
   "source": [
    "import plotly.graph_objects as go\n",
    "import pandas as pd\n",
    "\n",
    "import pandas as pd\n",
    "import plotly.express as px\n",
    "import plotly.graph_objects as go\n",
    "from scipy.stats import spearmanr\n",
    "import numpy as np\n",
    "from numpy.linalg import LinAlgError\n",
    "from scipy.stats import linregress\n",
    "\n",
    "import pandas as pd\n",
    "from scipy.stats import spearmanr, pearsonr\n",
    "from process_database import process_grouped_df, process_rankings,global_grouped_dataset\n",
    "\n",
    "\n",
    "grouped_df = global_grouped_dataset(df,)\n",
    "grouped_df = process_rankings(grouped_df)\n",
    "\n",
    "grouped_df.columns = ['_'.join(col).strip() if isinstance(col, tuple) else col for col in grouped_df.columns]\n",
    "grouped_df = grouped_df.reset_index()\n",
    "\n",
    "grouped_df = grouped_df[[\"ft_strategy\", \"model_type\", \"model_size\", \"backbone\", \"loss_function\", \"TOTAL_score_sum\"]]\n",
    "\n",
    "results = []\n",
    "for strategy in [ \"FFT (50 epochs)\", \"FFT (5 epochs)\", 'LP (50 epochs)' ]:\n",
    "    for size in [\"small\", \"medium\", \"large\"]:\n",
    "\n",
    "        res = grouped_df[\n",
    "            (grouped_df.ft_strategy == strategy) &\n",
    "            (grouped_df.model_size == size)\n",
    "        ]\n",
    "\n",
    "        q = res[\"TOTAL_score_sum\"]\n",
    "\n",
    "        # Compute quantiles\n",
    "        quantiles = q.quantile([0.25, 0.5, 0.75, 0.90])\n",
    "        labels = ['25%', '50%', '75%', '90%']\n",
    "        counts = {}\n",
    "        for label, thresh in zip(labels, quantiles):\n",
    "            counts[label] = (q <= thresh).sum()\n",
    "        # counts['min'] = 1\n",
    "        # counts['max'] = 1\n",
    "\n",
    "        stats = q.quantile([0.25, 0.5, 0.75, 0.90, ]).rename(index={0.25: '25%', \n",
    "                                                                            0.5: '50%', \n",
    "                                                                            0.75: '75%',\n",
    "                                                                            0.90: '90%',})\n",
    "\n",
    "        # Append min and max\n",
    "        min_val = q.min()\n",
    "        max_val = q.max()\n",
    "\n",
    "        q_extended = pd.concat([stats, pd.Series({\"min\": min_val, \"max\": max_val})]).to_dict()\n",
    "        q_extended['strategy'] = strategy\n",
    "        q_extended[\"size\"] = size\n",
    "        for key, count in counts.items():\n",
    "            q_extended[f\"{key}_count\"] = count\n",
    "        results.append( q_extended )\n",
    "\n",
    "\n",
    "import pandas as pd\n",
    "import plotly.express as px\n",
    "\n",
    "# Create DataFrame\n",
    "res = pd.DataFrame(results)\n",
    "\n",
    "# Melt the DataFrame\n",
    "df_long = res.melt(id_vars=['strategy', 'size'], var_name='percentile', value_name='value')\n",
    "\n",
    "# Define proper order\n",
    "ordered_percentiles = ['min', '25%', '50%', '75%', '90%', 'max']\n",
    "df_long['percentile'] = pd.Categorical(df_long['percentile'], categories=ordered_percentiles, ordered=True)\n",
    "\n",
    "def get_count(row):\n",
    "    colname = f\"{row['percentile']}_count\"\n",
    "    # Get the count from the original df based on strategy & size\n",
    "    subset = res[(res['strategy'] == row['strategy']) & (res['size'] == row['size'])]\n",
    "    if colname in subset.columns:\n",
    "        return int(subset[colname].values[0])\n",
    "    else:\n",
    "        return 'N/A'\n",
    "\n",
    "df_long[\"hover_text\"] = df_long.apply(\n",
    "    lambda row: f\"{row['strategy']} – {row['size']}<br>{row['percentile']} = {row['value']:.2f}<br>n={get_count(row)}\",\n",
    "    axis=1\n",
    ")\n",
    "\n",
    "# ✅ Sort so lines connect in correct order\n",
    "df_long = df_long.sort_values(by=['strategy', 'size', 'percentile'])\n",
    "\n",
    "# Plot\n",
    "fig = px.line(\n",
    "    df_long,\n",
    "    x='percentile',\n",
    "    y='value',\n",
    "    color='strategy',\n",
    "    line_dash='size',\n",
    "    markers=True,\n",
    "    labels={'value': 'Total Sum Score',\n",
    "            'percentile': 'Quantile (by Total Sum Score)',},\n",
    "    # title='Score Percentiles by Strategy and Model Size',\n",
    "    category_orders={'percentile': ordered_percentiles}\n",
    ")\n",
    "\n",
    "import plotly.graph_objects as go\n",
    "\n",
    "for i, row in df_long.iterrows():\n",
    "    count_key = f\"{row['percentile']}_count\"\n",
    "    try:\n",
    "        count = res[\n",
    "            (res['strategy'] == row['strategy']) &\n",
    "            (res['size'] == row['size'])\n",
    "        ][count_key].values[0]\n",
    "        fig.add_annotation(\n",
    "            x=row['percentile'],\n",
    "            y=row['value'],\n",
    "            text=f\"n={count}\",\n",
    "            showarrow=False,\n",
    "            font=dict(size=8),\n",
    "            xanchor=\"left\",\n",
    "            yanchor=\"bottom\"\n",
    "        )\n",
    "    except:\n",
    "        pass\n",
    "\n",
    "fig.update_layout(yaxis=dict(range=[0, 18]),)\n",
    "fig.update_layout(\n",
    "    width=450,\n",
    "    height=400,\n",
    "    margin=dict(l=0, r=0, t=0, b=0),\n",
    "    plot_bgcolor=\"white\",\n",
    "    paper_bgcolor=\"white\",\n",
    "    xaxis=dict(showgrid=True, gridcolor=\"lightgrey\"),\n",
    "    yaxis=dict(showgrid=True, gridcolor=\"lightgrey\"),\n",
    "    legend_title_text=\"Strategy / Architecture Size\",\n",
    "\n",
    "    legend=dict(\n",
    "    x=0.05,\n",
    "    y=1,\n",
    "    xanchor='left',\n",
    "    yanchor='top',\n",
    "    font=dict(size=10),  # Increase font size\n",
    "    bgcolor=\"rgba(255,255,255,0.5)\",\n",
    "    bordercolor=\"lightgrey\",\n",
    "    borderwidth=1,\n",
    "    itemsizing=\"constant\"  # 👈 Key to reduce spacing\n",
    ")\n",
    ")\n",
    "\n",
    "fig.show()\n",
    "fig.write_image(\"./paper_figures/quantile_perf_improve.png\", scale=3  )\n",
    "    "
   ]
  },
  {
   "cell_type": "code",
   "execution_count": 3,
   "metadata": {},
   "outputs": [
    {
     "data": {
      "application/vnd.plotly.v1+json": {
       "config": {
        "plotlyServerURL": "https://plot.ly"
       },
       "data": [
        {
         "hovertemplate": "model_size=large<br>loss_function=CLASSIC_AT<br>FFT (5 epochs)=%{x}<br>FFT (50 epochs)=%{y}<extra></extra>",
         "legendgroup": "large, CLASSIC_AT",
         "marker": {
          "color": "#E69F00",
          "line": {
           "color": "DarkSlateGrey",
           "width": 0
          },
          "size": 8,
          "symbol": "star"
         },
         "mode": "markers",
         "name": "large, CLASSIC_AT",
         "orientation": "v",
         "showlegend": true,
         "type": "scatter",
         "x": [
          0.9480952380952381,
          1.0134285714285713,
          0.47950793650793655,
          0.930063492063492,
          0.47749206349206347,
          3.211460317460317,
          2.328603174603175,
          0.7804285714285714,
          1.9996666666666667,
          0.9485873015873016,
          1.4184761904761907,
          3.9211428571428564,
          2.7159523809523813,
          0.7851269841269841,
          2.326380952380952,
          1.5273809523809525,
          0.7363333333333333,
          2.5029682539682536
         ],
         "xaxis": "x",
         "y": [
          15.419238095238097,
          14.510619047619048,
          13.656476190476189,
          14.404333333333332,
          9.757952380952382,
          14.390857142857145,
          15.99288888888889,
          15.127682539682539,
          13.163380952380951,
          13.771698412698411,
          7.738222222222221,
          16.77236507936508,
          11.306857142857144,
          8.744079365079365,
          7.513095238095238,
          10.652857142857142,
          8.554015873015873,
          5.8201269841269845
         ],
         "yaxis": "y"
        },
        {
         "hovertemplate": "model_size=large<br>loss_function=TRADES_v2<br>FFT (5 epochs)=%{x}<br>FFT (50 epochs)=%{y}<extra></extra>",
         "legendgroup": "large, TRADES_v2",
         "marker": {
          "color": "#E69F00",
          "line": {
           "color": "DarkSlateGrey",
           "width": 0
          },
          "size": 8,
          "symbol": "diamond"
         },
         "mode": "markers",
         "name": "large, TRADES_v2",
         "orientation": "v",
         "showlegend": true,
         "type": "scatter",
         "x": [
          4.634952380952382,
          5.568825396825397,
          1.193,
          3.3203015873015875,
          1.9308095238095238,
          6.424079365079366,
          5.775333333333333,
          4.635571428571428,
          5.7492857142857146,
          3.354571428571429,
          2.857142857142857,
          7.26968253968254,
          4.174904761904761,
          0.8961428571428571,
          0.5341904761904762,
          0.6669047619047619,
          4.898714285714286,
          2.4023650793650795
         ],
         "xaxis": "x",
         "y": [
          19.396968253968254,
          18.235888888888887,
          16.405761904761903,
          18.13090476190476,
          14.625873015873015,
          16.42042857142857,
          19.789301587301587,
          17.01639682539683,
          17.59952380952381,
          16.63130158730159,
          9.284619047619048,
          18.05390476190476,
          12.497777777777777,
          9.20452380952381,
          7.76604761904762,
          10.922761904761904,
          12.831396825396824,
          15.24073015873016
         ],
         "yaxis": "y"
        },
        {
         "hovertemplate": "model_size=small<br>loss_function=CLASSIC_AT<br>FFT (5 epochs)=%{x}<br>FFT (50 epochs)=%{y}<extra></extra>",
         "legendgroup": "small, CLASSIC_AT",
         "marker": {
          "color": "#56B4E9",
          "line": {
           "color": "DarkSlateGrey",
           "width": 0
          },
          "size": 8,
          "symbol": "star"
         },
         "mode": "markers",
         "name": "small, CLASSIC_AT",
         "orientation": "v",
         "showlegend": true,
         "type": "scatter",
         "x": [
          0.45199999999999996,
          0.6436666666666666,
          1.370095238095238,
          0.5146666666666666,
          0.5825714285714285,
          1.2105714285714286,
          1.7192539682539683
         ],
         "xaxis": "x",
         "y": [
          5.544095238095238,
          7.61152380952381,
          8.825714285714287,
          3.9464285714285716,
          8.747539682539681,
          4.924285714285714,
          10.845761904761906
         ],
         "yaxis": "y"
        },
        {
         "hovertemplate": "model_size=small<br>loss_function=TRADES_v2<br>FFT (5 epochs)=%{x}<br>FFT (50 epochs)=%{y}<extra></extra>",
         "legendgroup": "small, TRADES_v2",
         "marker": {
          "color": "#56B4E9",
          "line": {
           "color": "DarkSlateGrey",
           "width": 0
          },
          "size": 8,
          "symbol": "diamond"
         },
         "mode": "markers",
         "name": "small, TRADES_v2",
         "orientation": "v",
         "showlegend": true,
         "type": "scatter",
         "x": [
          3.0890476190476193,
          2.646619047619047,
          3.861761904761905,
          0.5091428571428571,
          5.7153809523809525,
          0.8911587301587302,
          1.6425238095238097
         ],
         "xaxis": "x",
         "y": [
          9.89168253968254,
          11.266238095238098,
          14.662857142857144,
          3.465190476190476,
          8.869428571428571,
          3.295666666666667,
          9.000444444444444
         ],
         "yaxis": "y"
        },
        {
         "hovertemplate": "model_size=medium<br>loss_function=CLASSIC_AT<br>FFT (5 epochs)=%{x}<br>FFT (50 epochs)=%{y}<extra></extra>",
         "legendgroup": "medium, CLASSIC_AT",
         "marker": {
          "color": "#009E73",
          "line": {
           "color": "DarkSlateGrey",
           "width": 0
          },
          "size": 8,
          "symbol": "star"
         },
         "mode": "markers",
         "name": "medium, CLASSIC_AT",
         "orientation": "v",
         "showlegend": true,
         "type": "scatter",
         "x": [
          1.0336190476190477,
          0.9645238095238095,
          1.5594920634920635,
          4.6191587301587305,
          3.9095714285714283,
          1.448952380952381,
          1.5680952380952382,
          7.7293015873015865,
          3.8021904761904763,
          6.600285714285714,
          0.7648095238095236,
          1.659968253968254,
          1.4873809523809525,
          1.1019206349206352,
          1.0684126984126987
         ],
         "xaxis": "x",
         "y": [
          7.354095238095239,
          14.190666666666667,
          13.121666666666666,
          8.96915873015873,
          8.404936507936508,
          5.497158730158731,
          7.891190476190476,
          10.63004761904762,
          11.169269841269841,
          11.786952380952382,
          10.30595238095238,
          2.7429047619047617,
          6.476619047619048,
          6.104857142857144,
          6.640190476190476
         ],
         "yaxis": "y"
        },
        {
         "hovertemplate": "model_size=medium<br>loss_function=TRADES_v2<br>FFT (5 epochs)=%{x}<br>FFT (50 epochs)=%{y}<extra></extra>",
         "legendgroup": "medium, TRADES_v2",
         "marker": {
          "color": "#009E73",
          "line": {
           "color": "DarkSlateGrey",
           "width": 0
          },
          "size": 8,
          "symbol": "diamond"
         },
         "mode": "markers",
         "name": "medium, TRADES_v2",
         "orientation": "v",
         "showlegend": true,
         "type": "scatter",
         "x": [
          2.481,
          5.52152380952381,
          1.1317619047619047,
          0.9026190476190475,
          5.391761904761903,
          1.2602380952380952,
          3.2590000000000003,
          6.071904761904762,
          1.2424285714285714,
          4.334523809523809,
          5.6828095238095235,
          2.3343650793650794,
          2.750571428571429,
          0.9217301587301587,
          0.35160317460317464
         ],
         "xaxis": "x",
         "y": [
          13.198714285714287,
          15.604809523809525,
          15.066190476190478,
          16.489968253968254,
          6.858126984126985,
          8.368904761904762,
          8.874571428571429,
          14.712079365079365,
          13.210857142857144,
          9.827396825396825,
          9.993523809523811,
          9.144730158730159,
          8.256285714285713,
          8.685698412698413,
          5.332063492063492
         ],
         "yaxis": "y"
        },
        {
         "line": {
          "color": "black",
          "dash": "solid",
          "width": 2
         },
         "marker": {
          "line": {
           "color": "DarkSlateGrey",
           "width": 0
          },
          "size": 8
         },
         "mode": "lines",
         "name": "Global (r=0.43, p=0.000)",
         "type": "scatter",
         "x": [
          0.35160317460317464,
          0.4261253807920475,
          0.5006475869809204,
          0.5751697931697932,
          0.6496919993586661,
          0.7242142055475389,
          0.7987364117364117,
          0.8732586179252846,
          0.9477808241141574,
          1.0223030303030303,
          1.096825236491903,
          1.171347442680776,
          1.2458696488696488,
          1.3203918550585216,
          1.3949140612473945,
          1.4694362674362673,
          1.5439584736251402,
          1.618480679814013,
          1.6930028860028858,
          1.7675250921917587,
          1.8420472983806315,
          1.9165695045695044,
          1.9910917107583772,
          2.06561391694725,
          2.1401361231361227,
          2.2146583293249957,
          2.2891805355138684,
          2.363702741702741,
          2.438224947891614,
          2.512747154080487,
          2.5872693602693597,
          2.6617915664582323,
          2.7363137726471054,
          2.8108359788359785,
          2.885358185024851,
          2.9598803912137237,
          3.0344025974025968,
          3.10892480359147,
          3.1834470097803425,
          3.257969215969215,
          3.332491422158088,
          3.407013628346961,
          3.481535834535834,
          3.5560580407247064,
          3.6305802469135795,
          3.7051024531024526,
          3.779624659291325,
          3.854146865480198,
          3.928669071669071,
          4.003191277857944,
          4.077713484046817,
          4.152235690235689,
          4.226757896424562,
          4.301280102613435,
          4.3758023088023075,
          4.4503245149911805,
          4.524846721180054,
          4.599368927368927,
          4.6738911335578,
          4.748413339746672,
          4.822935545935545,
          4.897457752124418,
          4.97197995831329,
          5.046502164502163,
          5.121024370691036,
          5.195546576879909,
          5.2700687830687825,
          5.344590989257655,
          5.419113195446528,
          5.493635401635401,
          5.568157607824273,
          5.642679814013146,
          5.717202020202019,
          5.791724226390892,
          5.866246432579765,
          5.940768638768637,
          6.01529084495751,
          6.0898130511463835,
          6.164335257335256,
          6.238857463524129,
          6.313379669713002,
          6.387901875901875,
          6.462424082090748,
          6.53694628827962,
          6.611468494468493,
          6.685990700657366,
          6.760512906846238,
          6.8350351130351115,
          6.9095573192239845,
          6.984079525412858,
          7.058601731601731,
          7.133123937790603,
          7.207646143979476,
          7.282168350168349,
          7.356690556357221,
          7.431212762546094,
          7.505734968734967,
          7.58025717492384,
          7.654779381112713,
          7.7293015873015865
         ],
         "y": [
          9.156125849195558,
          9.224539255335419,
          9.29295266147528,
          9.36136606761514,
          9.429779473755001,
          9.498192879894862,
          9.566606286034723,
          9.635019692174584,
          9.703433098314445,
          9.771846504454306,
          9.840259910594167,
          9.908673316734028,
          9.977086722873889,
          10.04550012901375,
          10.11391353515361,
          10.182326941293471,
          10.250740347433332,
          10.319153753573193,
          10.387567159713054,
          10.455980565852915,
          10.524393971992776,
          10.592807378132637,
          10.661220784272498,
          10.72963419041236,
          10.79804759655222,
          10.86646100269208,
          10.934874408831941,
          11.003287814971802,
          11.071701221111663,
          11.140114627251526,
          11.208528033391385,
          11.276941439531246,
          11.345354845671107,
          11.41376825181097,
          11.48218165795083,
          11.55059506409069,
          11.619008470230552,
          11.687421876370413,
          11.755835282510274,
          11.824248688650133,
          11.892662094789996,
          11.961075500929857,
          12.029488907069718,
          12.097902313209579,
          12.16631571934944,
          12.2347291254893,
          12.303142531629161,
          12.371555937769022,
          12.439969343908883,
          12.508382750048744,
          12.576796156188605,
          12.645209562328466,
          12.713622968468327,
          12.782036374608188,
          12.850449780748047,
          12.91886318688791,
          12.98727659302777,
          13.055689999167631,
          13.124103405307494,
          13.192516811447353,
          13.260930217587214,
          13.329343623727075,
          13.397757029866936,
          13.466170436006797,
          13.534583842146658,
          13.602997248286519,
          13.671410654426381,
          13.73982406056624,
          13.808237466706101,
          13.876650872845964,
          13.945064278985823,
          14.013477685125684,
          14.081891091265545,
          14.150304497405408,
          14.218717903545269,
          14.287131309685128,
          14.35554471582499,
          14.423958121964851,
          14.49237152810471,
          14.560784934244571,
          14.629198340384434,
          14.697611746524295,
          14.766025152664156,
          14.834438558804017,
          14.902851964943878,
          14.971265371083739,
          15.039678777223598,
          15.10809218336346,
          15.176505589503321,
          15.244918995643182,
          15.313332401783043,
          15.381745807922904,
          15.450159214062765,
          15.518572620202626,
          15.586986026342487,
          15.655399432482348,
          15.723812838622209,
          15.79222624476207,
          15.86063965090193,
          15.929053057041791
         ]
        },
        {
         "line": {
          "color": "#E69F00",
          "dash": "solid"
         },
         "marker": {
          "line": {
           "color": "DarkSlateGrey",
           "width": 0
          },
          "size": 8
         },
         "mode": "lines",
         "name": "large – TRADES_v2 (r=0.70, p=0.001)",
         "type": "scatter",
         "x": [
          0.35160317460317464,
          0.4261253807920475,
          0.5006475869809204,
          0.5751697931697932,
          0.6496919993586661,
          0.7242142055475389,
          0.7987364117364117,
          0.8732586179252846,
          0.9477808241141574,
          1.0223030303030303,
          1.096825236491903,
          1.171347442680776,
          1.2458696488696488,
          1.3203918550585216,
          1.3949140612473945,
          1.4694362674362673,
          1.5439584736251402,
          1.618480679814013,
          1.6930028860028858,
          1.7675250921917587,
          1.8420472983806315,
          1.9165695045695044,
          1.9910917107583772,
          2.06561391694725,
          2.1401361231361227,
          2.2146583293249957,
          2.2891805355138684,
          2.363702741702741,
          2.438224947891614,
          2.512747154080487,
          2.5872693602693597,
          2.6617915664582323,
          2.7363137726471054,
          2.8108359788359785,
          2.885358185024851,
          2.9598803912137237,
          3.0344025974025968,
          3.10892480359147,
          3.1834470097803425,
          3.257969215969215,
          3.332491422158088,
          3.407013628346961,
          3.481535834535834,
          3.5560580407247064,
          3.6305802469135795,
          3.7051024531024526,
          3.779624659291325,
          3.854146865480198,
          3.928669071669071,
          4.003191277857944,
          4.077713484046817,
          4.152235690235689,
          4.226757896424562,
          4.301280102613435,
          4.3758023088023075,
          4.4503245149911805,
          4.524846721180054,
          4.599368927368927,
          4.6738911335578,
          4.748413339746672,
          4.822935545935545,
          4.897457752124418,
          4.97197995831329,
          5.046502164502163,
          5.121024370691036,
          5.195546576879909,
          5.2700687830687825,
          5.344590989257655,
          5.419113195446528,
          5.493635401635401,
          5.568157607824273,
          5.642679814013146,
          5.717202020202019,
          5.791724226390892,
          5.866246432579765,
          5.940768638768637,
          6.01529084495751,
          6.0898130511463835,
          6.164335257335256,
          6.238857463524129,
          6.313379669713002,
          6.387901875901875,
          6.462424082090748,
          6.53694628827962,
          6.611468494468493,
          6.685990700657366,
          6.760512906846238,
          6.8350351130351115,
          6.9095573192239845,
          6.984079525412858,
          7.058601731601731,
          7.133123937790603,
          7.207646143979476,
          7.282168350168349,
          7.356690556357221,
          7.431212762546094,
          7.505734968734967,
          7.58025717492384,
          7.654779381112713,
          7.7293015873015865
         ],
         "y": [
          11.004347638482697,
          11.093807035125753,
          11.183266431768809,
          11.272725828411865,
          11.362185225054919,
          11.451644621697975,
          11.54110401834103,
          11.630563414984087,
          11.720022811627143,
          11.809482208270198,
          11.898941604913254,
          11.988401001556309,
          12.077860398199364,
          12.16731979484242,
          12.256779191485476,
          12.346238588128532,
          12.435697984771588,
          12.525157381414644,
          12.614616778057698,
          12.704076174700754,
          12.79353557134381,
          12.882994967986866,
          12.972454364629922,
          13.061913761272978,
          13.151373157916032,
          13.240832554559088,
          13.330291951202144,
          13.4197513478452,
          13.509210744488255,
          13.598670141131311,
          13.688129537774365,
          13.777588934417421,
          13.867048331060477,
          13.956507727703533,
          14.04596712434659,
          14.135426520989645,
          14.224885917632701,
          14.314345314275757,
          14.403804710918811,
          14.493264107561867,
          14.582723504204923,
          14.672182900847979,
          14.761642297491035,
          14.85110169413409,
          14.940561090777145,
          15.030020487420202,
          15.119479884063256,
          15.208939280706312,
          15.298398677349368,
          15.387858073992424,
          15.47731747063548,
          15.566776867278534,
          15.656236263921592,
          15.745695660564646,
          15.835155057207702,
          15.924614453850758,
          16.014073850493816,
          16.10353324713687,
          16.192992643779924,
          16.28245204042298,
          16.371911437066036,
          16.46137083370909,
          16.550830230352148,
          16.6402896269952,
          16.72974902363826,
          16.819208420281313,
          16.90866781692437,
          16.998127213567425,
          17.08758661021048,
          17.177046006853537,
          17.26650540349659,
          17.35596480013965,
          17.445424196782703,
          17.53488359342576,
          17.624342990068815,
          17.71380238671187,
          17.803261783354927,
          17.892721179997984,
          17.98218057664104,
          18.071639973284093,
          18.16109936992715,
          18.250558766570204,
          18.340018163213262,
          18.429477559856316,
          18.518936956499374,
          18.608396353142428,
          18.697855749785482,
          18.78731514642854,
          18.876774543071594,
          18.966233939714648,
          19.055693336357706,
          19.145152733000764,
          19.234612129643818,
          19.324071526286872,
          19.41353092292993,
          19.502990319572984,
          19.592449716216038,
          19.681909112859096,
          19.771368509502153,
          19.860827906145207
         ]
        },
        {
         "line": {
          "color": "#E69F00",
          "dash": "dot"
         },
         "marker": {
          "line": {
           "color": "DarkSlateGrey",
           "width": 0
          },
          "size": 8
         },
         "mode": "lines",
         "name": "large – CLASSIC_AT (r=0.11, p=0.669)",
         "type": "scatter",
         "x": [
          0.35160317460317464,
          0.4261253807920475,
          0.5006475869809204,
          0.5751697931697932,
          0.6496919993586661,
          0.7242142055475389,
          0.7987364117364117,
          0.8732586179252846,
          0.9477808241141574,
          1.0223030303030303,
          1.096825236491903,
          1.171347442680776,
          1.2458696488696488,
          1.3203918550585216,
          1.3949140612473945,
          1.4694362674362673,
          1.5439584736251402,
          1.618480679814013,
          1.6930028860028858,
          1.7675250921917587,
          1.8420472983806315,
          1.9165695045695044,
          1.9910917107583772,
          2.06561391694725,
          2.1401361231361227,
          2.2146583293249957,
          2.2891805355138684,
          2.363702741702741,
          2.438224947891614,
          2.512747154080487,
          2.5872693602693597,
          2.6617915664582323,
          2.7363137726471054,
          2.8108359788359785,
          2.885358185024851,
          2.9598803912137237,
          3.0344025974025968,
          3.10892480359147,
          3.1834470097803425,
          3.257969215969215,
          3.332491422158088,
          3.407013628346961,
          3.481535834535834,
          3.5560580407247064,
          3.6305802469135795,
          3.7051024531024526,
          3.779624659291325,
          3.854146865480198,
          3.928669071669071,
          4.003191277857944,
          4.077713484046817,
          4.152235690235689,
          4.226757896424562,
          4.301280102613435,
          4.3758023088023075,
          4.4503245149911805,
          4.524846721180054,
          4.599368927368927,
          4.6738911335578,
          4.748413339746672,
          4.822935545935545,
          4.897457752124418,
          4.97197995831329,
          5.046502164502163,
          5.121024370691036,
          5.195546576879909,
          5.2700687830687825,
          5.344590989257655,
          5.419113195446528,
          5.493635401635401,
          5.568157607824273,
          5.642679814013146,
          5.717202020202019,
          5.791724226390892,
          5.866246432579765,
          5.940768638768637,
          6.01529084495751,
          6.0898130511463835,
          6.164335257335256,
          6.238857463524129,
          6.313379669713002,
          6.387901875901875,
          6.462424082090748,
          6.53694628827962,
          6.611468494468493,
          6.685990700657366,
          6.760512906846238,
          6.8350351130351115,
          6.9095573192239845,
          6.984079525412858,
          7.058601731601731,
          7.133123937790603,
          7.207646143979476,
          7.282168350168349,
          7.356690556357221,
          7.431212762546094,
          7.505734968734967,
          7.58025717492384,
          7.654779381112713,
          7.7293015873015865
         ],
         "y": [
          11.582232374224196,
          11.611148088646619,
          11.64006380306904,
          11.668979517491463,
          11.697895231913884,
          11.726810946336307,
          11.755726660758729,
          11.784642375181152,
          11.813558089603573,
          11.842473804025996,
          11.871389518448417,
          11.90030523287084,
          11.929220947293262,
          11.958136661715685,
          11.987052376138106,
          12.015968090560529,
          12.04488380498295,
          12.073799519405373,
          12.102715233827794,
          12.131630948250217,
          12.16054666267264,
          12.189462377095062,
          12.218378091517485,
          12.247293805939906,
          12.276209520362329,
          12.30512523478475,
          12.334040949207173,
          12.362956663629594,
          12.391872378052017,
          12.420788092474439,
          12.449703806896862,
          12.478619521319283,
          12.507535235741706,
          12.536450950164127,
          12.56536666458655,
          12.594282379008972,
          12.623198093431395,
          12.652113807853816,
          12.681029522276239,
          12.709945236698662,
          12.738860951121083,
          12.767776665543506,
          12.796692379965927,
          12.82560809438835,
          12.854523808810772,
          12.883439523233195,
          12.912355237655616,
          12.941270952078039,
          12.97018666650046,
          12.999102380922883,
          13.028018095345304,
          13.056933809767727,
          13.085849524190149,
          13.114765238612572,
          13.143680953034993,
          13.172596667457416,
          13.201512381879837,
          13.23042809630226,
          13.259343810724683,
          13.288259525147105,
          13.317175239569528,
          13.346090953991949,
          13.375006668414372,
          13.403922382836793,
          13.432838097259216,
          13.461753811681637,
          13.49066952610406,
          13.519585240526482,
          13.548500954948905,
          13.577416669371326,
          13.606332383793749,
          13.63524809821617,
          13.664163812638593,
          13.693079527061016,
          13.721995241483437,
          13.750910955905859,
          13.779826670328282,
          13.808742384750705,
          13.837658099173126,
          13.866573813595547,
          13.89548952801797,
          13.924405242440393,
          13.953320956862814,
          13.982236671285238,
          14.011152385707659,
          14.040068100130082,
          14.068983814552503,
          14.097899528974926,
          14.126815243397347,
          14.15573095781977,
          14.184646672242192,
          14.213562386664615,
          14.242478101087038,
          14.271393815509459,
          14.30030952993188,
          14.329225244354303,
          14.358140958776726,
          14.387056673199147,
          14.41597238762157,
          14.444888102043992
         ]
        },
        {
         "line": {
          "color": "#56B4E9",
          "dash": "solid"
         },
         "marker": {
          "line": {
           "color": "DarkSlateGrey",
           "width": 0
          },
          "size": 8
         },
         "mode": "lines",
         "name": "small – TRADES_v2 (r=0.57, p=0.180)",
         "type": "scatter",
         "x": [
          0.35160317460317464,
          0.4261253807920475,
          0.5006475869809204,
          0.5751697931697932,
          0.6496919993586661,
          0.7242142055475389,
          0.7987364117364117,
          0.8732586179252846,
          0.9477808241141574,
          1.0223030303030303,
          1.096825236491903,
          1.171347442680776,
          1.2458696488696488,
          1.3203918550585216,
          1.3949140612473945,
          1.4694362674362673,
          1.5439584736251402,
          1.618480679814013,
          1.6930028860028858,
          1.7675250921917587,
          1.8420472983806315,
          1.9165695045695044,
          1.9910917107583772,
          2.06561391694725,
          2.1401361231361227,
          2.2146583293249957,
          2.2891805355138684,
          2.363702741702741,
          2.438224947891614,
          2.512747154080487,
          2.5872693602693597,
          2.6617915664582323,
          2.7363137726471054,
          2.8108359788359785,
          2.885358185024851,
          2.9598803912137237,
          3.0344025974025968,
          3.10892480359147,
          3.1834470097803425,
          3.257969215969215,
          3.332491422158088,
          3.407013628346961,
          3.481535834535834,
          3.5560580407247064,
          3.6305802469135795,
          3.7051024531024526,
          3.779624659291325,
          3.854146865480198,
          3.928669071669071,
          4.003191277857944,
          4.077713484046817,
          4.152235690235689,
          4.226757896424562,
          4.301280102613435,
          4.3758023088023075,
          4.4503245149911805,
          4.524846721180054,
          4.599368927368927,
          4.6738911335578,
          4.748413339746672,
          4.822935545935545,
          4.897457752124418,
          4.97197995831329,
          5.046502164502163,
          5.121024370691036,
          5.195546576879909,
          5.2700687830687825,
          5.344590989257655,
          5.419113195446528,
          5.493635401635401,
          5.568157607824273,
          5.642679814013146,
          5.717202020202019,
          5.791724226390892,
          5.866246432579765,
          5.940768638768637,
          6.01529084495751,
          6.0898130511463835,
          6.164335257335256,
          6.238857463524129,
          6.313379669713002,
          6.387901875901875,
          6.462424082090748,
          6.53694628827962,
          6.611468494468493,
          6.685990700657366,
          6.760512906846238,
          6.8350351130351115,
          6.9095573192239845,
          6.984079525412858,
          7.058601731601731,
          7.133123937790603,
          7.207646143979476,
          7.282168350168349,
          7.356690556357221,
          7.431212762546094,
          7.505734968734967,
          7.58025717492384,
          7.654779381112713,
          7.7293015873015865
         ],
         "y": [
          5.340329674062021,
          5.448491436807452,
          5.556653199552883,
          5.6648149622983155,
          5.772976725043747,
          5.881138487789178,
          5.989300250534609,
          6.09746201328004,
          6.2056237760254715,
          6.313785538770903,
          6.421947301516335,
          6.530109064261766,
          6.638270827007197,
          6.7464325897526285,
          6.85459435249806,
          6.962756115243492,
          7.070917877988922,
          7.179079640734354,
          7.287241403479785,
          7.395403166225217,
          7.503564928970648,
          7.611726691716079,
          7.719888454461511,
          7.8280502172069415,
          7.936211979952373,
          8.044373742697804,
          8.152535505443236,
          8.260697268188666,
          8.368859030934098,
          8.47702079367953,
          8.58518255642496,
          8.693344319170393,
          8.801506081915823,
          8.909667844661255,
          9.017829607406686,
          9.125991370152118,
          9.23415313289755,
          9.34231489564298,
          9.45047665838841,
          9.558638421133843,
          9.666800183879275,
          9.774961946624707,
          9.883123709370137,
          9.991285472115568,
          10.099447234861,
          10.207608997606432,
          10.315770760351862,
          10.423932523097292,
          10.532094285842724,
          10.640256048588157,
          10.748417811333589,
          10.856579574079019,
          10.96474133682445,
          11.072903099569881,
          11.181064862315313,
          11.289226625060744,
          11.397388387806176,
          11.505550150551606,
          11.613711913297038,
          11.72187367604247,
          11.8300354387879,
          11.938197201533333,
          12.046358964278763,
          12.154520727024195,
          12.262682489769627,
          12.370844252515058,
          12.47900601526049,
          12.58716777800592,
          12.695329540751352,
          12.803491303496784,
          12.911653066242213,
          13.019814828987645,
          13.127976591733077,
          13.23613835447851,
          13.344300117223941,
          13.45246187996937,
          13.560623642714802,
          13.668785405460234,
          13.776947168205666,
          13.885108930951095,
          13.993270693696527,
          14.101432456441959,
          14.209594219187391,
          14.317755981932823,
          14.425917744678252,
          14.534079507423684,
          14.642241270169116,
          14.750403032914548,
          14.85856479565998,
          14.966726558405409,
          15.07488832115084,
          15.183050083896273,
          15.291211846641705,
          15.399373609387137,
          15.507535372132565,
          15.615697134877998,
          15.72385889762343,
          15.832020660368862,
          15.940182423114294,
          16.048344185859722
         ]
        },
        {
         "line": {
          "color": "#56B4E9",
          "dash": "dot"
         },
         "marker": {
          "line": {
           "color": "DarkSlateGrey",
           "width": 0
          },
          "size": 8
         },
         "mode": "lines",
         "name": "small – CLASSIC_AT (r=0.68, p=0.094)",
         "type": "scatter",
         "x": [
          0.35160317460317464,
          0.4261253807920475,
          0.5006475869809204,
          0.5751697931697932,
          0.6496919993586661,
          0.7242142055475389,
          0.7987364117364117,
          0.8732586179252846,
          0.9477808241141574,
          1.0223030303030303,
          1.096825236491903,
          1.171347442680776,
          1.2458696488696488,
          1.3203918550585216,
          1.3949140612473945,
          1.4694362674362673,
          1.5439584736251402,
          1.618480679814013,
          1.6930028860028858,
          1.7675250921917587,
          1.8420472983806315,
          1.9165695045695044,
          1.9910917107583772,
          2.06561391694725,
          2.1401361231361227,
          2.2146583293249957,
          2.2891805355138684,
          2.363702741702741,
          2.438224947891614,
          2.512747154080487,
          2.5872693602693597,
          2.6617915664582323,
          2.7363137726471054,
          2.8108359788359785,
          2.885358185024851,
          2.9598803912137237,
          3.0344025974025968,
          3.10892480359147,
          3.1834470097803425,
          3.257969215969215,
          3.332491422158088,
          3.407013628346961,
          3.481535834535834,
          3.5560580407247064,
          3.6305802469135795,
          3.7051024531024526,
          3.779624659291325,
          3.854146865480198,
          3.928669071669071,
          4.003191277857944,
          4.077713484046817,
          4.152235690235689,
          4.226757896424562,
          4.301280102613435,
          4.3758023088023075,
          4.4503245149911805,
          4.524846721180054,
          4.599368927368927,
          4.6738911335578,
          4.748413339746672,
          4.822935545935545,
          4.897457752124418,
          4.97197995831329,
          5.046502164502163,
          5.121024370691036,
          5.195546576879909,
          5.2700687830687825,
          5.344590989257655,
          5.419113195446528,
          5.493635401635401,
          5.568157607824273,
          5.642679814013146,
          5.717202020202019,
          5.791724226390892,
          5.866246432579765,
          5.940768638768637,
          6.01529084495751,
          6.0898130511463835,
          6.164335257335256,
          6.238857463524129,
          6.313379669713002,
          6.387901875901875,
          6.462424082090748,
          6.53694628827962,
          6.611468494468493,
          6.685990700657366,
          6.760512906846238,
          6.8350351130351115,
          6.9095573192239845,
          6.984079525412858,
          7.058601731601731,
          7.133123937790603,
          7.207646143979476,
          7.282168350168349,
          7.356690556357221,
          7.431212762546094,
          7.505734968734967,
          7.58025717492384,
          7.654779381112713,
          7.7293015873015865
         ],
         "y": [
          5.499792707974689,
          5.720623447759647,
          5.941454187544606,
          6.162284927329564,
          6.383115667114522,
          6.60394640689948,
          6.824777146684439,
          7.045607886469397,
          7.266438626254356,
          7.487269366039314,
          7.708100105824272,
          7.92893084560923,
          8.149761585394188,
          8.370592325179146,
          8.591423064964104,
          8.812253804749062,
          9.033084544534022,
          9.25391528431898,
          9.474746024103938,
          9.695576763888898,
          9.916407503673856,
          10.137238243458814,
          10.358068983243772,
          10.57889972302873,
          10.799730462813688,
          11.020561202598646,
          11.241391942383604,
          11.462222682168562,
          11.68305342195352,
          11.903884161738478,
          12.124714901523436,
          12.345545641308394,
          12.566376381093352,
          12.787207120878314,
          13.008037860663269,
          13.228868600448227,
          13.449699340233188,
          13.670530080018146,
          13.891360819803104,
          14.112191559588062,
          14.33302229937302,
          14.553853039157978,
          14.774683778942936,
          14.995514518727894,
          15.216345258512852,
          15.43717599829781,
          15.658006738082769,
          15.878837477867727,
          16.099668217652685,
          16.320498957437646,
          16.541329697222604,
          16.76216043700756,
          16.98299117679252,
          17.20382191657748,
          17.424652656362436,
          17.645483396147394,
          17.866314135932353,
          18.08714487571731,
          18.307975615502272,
          18.528806355287227,
          18.749637095072185,
          18.970467834857146,
          19.1912985746421,
          19.41212931442706,
          19.63296005421202,
          19.85379079399698,
          20.074621533781936,
          20.295452273566895,
          20.516283013351853,
          20.73711375313681,
          20.95794449292177,
          21.178775232706727,
          21.399605972491685,
          21.620436712276646,
          21.841267452061604,
          22.06209819184656,
          22.28292893163152,
          22.50375967141648,
          22.724590411201433,
          22.945421150986395,
          23.166251890771353,
          23.38708263055631,
          23.60791337034127,
          23.828744110126227,
          24.049574849911185,
          24.270405589696143,
          24.4912363294811,
          24.71206706926606,
          24.932897809051017,
          25.15372854883598,
          25.374559288620937,
          25.595390028405895,
          25.816220768190853,
          26.03705150797581,
          26.25788224776077,
          26.478712987545727,
          26.699543727330685,
          26.920374467115643,
          27.141205206900604,
          27.362035946685562
         ]
        },
        {
         "line": {
          "color": "#009E73",
          "dash": "solid"
         },
         "marker": {
          "line": {
           "color": "DarkSlateGrey",
           "width": 0
          },
          "size": 8
         },
         "mode": "lines",
         "name": "medium – TRADES_v2 (r=0.12, p=0.676)",
         "type": "scatter",
         "x": [
          0.35160317460317464,
          0.4261253807920475,
          0.5006475869809204,
          0.5751697931697932,
          0.6496919993586661,
          0.7242142055475389,
          0.7987364117364117,
          0.8732586179252846,
          0.9477808241141574,
          1.0223030303030303,
          1.096825236491903,
          1.171347442680776,
          1.2458696488696488,
          1.3203918550585216,
          1.3949140612473945,
          1.4694362674362673,
          1.5439584736251402,
          1.618480679814013,
          1.6930028860028858,
          1.7675250921917587,
          1.8420472983806315,
          1.9165695045695044,
          1.9910917107583772,
          2.06561391694725,
          2.1401361231361227,
          2.2146583293249957,
          2.2891805355138684,
          2.363702741702741,
          2.438224947891614,
          2.512747154080487,
          2.5872693602693597,
          2.6617915664582323,
          2.7363137726471054,
          2.8108359788359785,
          2.885358185024851,
          2.9598803912137237,
          3.0344025974025968,
          3.10892480359147,
          3.1834470097803425,
          3.257969215969215,
          3.332491422158088,
          3.407013628346961,
          3.481535834535834,
          3.5560580407247064,
          3.6305802469135795,
          3.7051024531024526,
          3.779624659291325,
          3.854146865480198,
          3.928669071669071,
          4.003191277857944,
          4.077713484046817,
          4.152235690235689,
          4.226757896424562,
          4.301280102613435,
          4.3758023088023075,
          4.4503245149911805,
          4.524846721180054,
          4.599368927368927,
          4.6738911335578,
          4.748413339746672,
          4.822935545935545,
          4.897457752124418,
          4.97197995831329,
          5.046502164502163,
          5.121024370691036,
          5.195546576879909,
          5.2700687830687825,
          5.344590989257655,
          5.419113195446528,
          5.493635401635401,
          5.568157607824273,
          5.642679814013146,
          5.717202020202019,
          5.791724226390892,
          5.866246432579765,
          5.940768638768637,
          6.01529084495751,
          6.0898130511463835,
          6.164335257335256,
          6.238857463524129,
          6.313379669713002,
          6.387901875901875,
          6.462424082090748,
          6.53694628827962,
          6.611468494468493,
          6.685990700657366,
          6.760512906846238,
          6.8350351130351115,
          6.9095573192239845,
          6.984079525412858,
          7.058601731601731,
          7.133123937790603,
          7.207646143979476,
          7.282168350168349,
          7.356690556357221,
          7.431212762546094,
          7.505734968734967,
          7.58025717492384,
          7.654779381112713,
          7.7293015873015865
         ],
         "y": [
          10.440305105490026,
          10.453940279569988,
          10.467575453649948,
          10.48121062772991,
          10.494845801809872,
          10.508480975889832,
          10.522116149969793,
          10.535751324049754,
          10.549386498129715,
          10.563021672209677,
          10.576656846289637,
          10.5902920203696,
          10.60392719444956,
          10.617562368529521,
          10.631197542609483,
          10.644832716689443,
          10.658467890769405,
          10.672103064849365,
          10.685738238929327,
          10.699373413009289,
          10.713008587089249,
          10.72664376116921,
          10.740278935249172,
          10.753914109329132,
          10.767549283409094,
          10.781184457489054,
          10.794819631569016,
          10.808454805648978,
          10.822089979728938,
          10.8357251538089,
          10.84936032788886,
          10.862995501968822,
          10.876630676048784,
          10.890265850128744,
          10.903901024208706,
          10.917536198288666,
          10.931171372368627,
          10.94480654644859,
          10.95844172052855,
          10.972076894608511,
          10.985712068688471,
          10.999347242768433,
          11.012982416848395,
          11.026617590928355,
          11.040252765008317,
          11.053887939088279,
          11.067523113168239,
          11.0811582872482,
          11.09479346132816,
          11.108428635408123,
          11.122063809488084,
          11.135698983568044,
          11.149334157648006,
          11.162969331727968,
          11.176604505807928,
          11.19023967988789,
          11.20387485396785,
          11.217510028047812,
          11.231145202127774,
          11.244780376207734,
          11.258415550287696,
          11.272050724367656,
          11.285685898447618,
          11.29932107252758,
          11.31295624660754,
          11.326591420687501,
          11.340226594767461,
          11.353861768847423,
          11.367496942927385,
          11.381132117007345,
          11.394767291087307,
          11.408402465167267,
          11.422037639247229,
          11.43567281332719,
          11.44930798740715,
          11.462943161487113,
          11.476578335567075,
          11.490213509647035,
          11.503848683726996,
          11.517483857806956,
          11.531119031886918,
          11.54475420596688,
          11.55838938004684,
          11.572024554126802,
          11.585659728206764,
          11.599294902286724,
          11.612930076366686,
          11.626565250446646,
          11.640200424526608,
          11.65383559860657,
          11.66747077268653,
          11.681105946766491,
          11.694741120846452,
          11.708376294926413,
          11.722011469006375,
          11.735646643086335,
          11.749281817166297,
          11.762916991246257,
          11.776552165326219,
          11.790187339406181
         ]
        },
        {
         "line": {
          "color": "#009E73",
          "dash": "dot"
         },
         "marker": {
          "line": {
           "color": "DarkSlateGrey",
           "width": 0
          },
          "size": 8
         },
         "mode": "lines",
         "name": "medium – CLASSIC_AT (r=0.18, p=0.524)",
         "type": "scatter",
         "x": [
          0.35160317460317464,
          0.4261253807920475,
          0.5006475869809204,
          0.5751697931697932,
          0.6496919993586661,
          0.7242142055475389,
          0.7987364117364117,
          0.8732586179252846,
          0.9477808241141574,
          1.0223030303030303,
          1.096825236491903,
          1.171347442680776,
          1.2458696488696488,
          1.3203918550585216,
          1.3949140612473945,
          1.4694362674362673,
          1.5439584736251402,
          1.618480679814013,
          1.6930028860028858,
          1.7675250921917587,
          1.8420472983806315,
          1.9165695045695044,
          1.9910917107583772,
          2.06561391694725,
          2.1401361231361227,
          2.2146583293249957,
          2.2891805355138684,
          2.363702741702741,
          2.438224947891614,
          2.512747154080487,
          2.5872693602693597,
          2.6617915664582323,
          2.7363137726471054,
          2.8108359788359785,
          2.885358185024851,
          2.9598803912137237,
          3.0344025974025968,
          3.10892480359147,
          3.1834470097803425,
          3.257969215969215,
          3.332491422158088,
          3.407013628346961,
          3.481535834535834,
          3.5560580407247064,
          3.6305802469135795,
          3.7051024531024526,
          3.779624659291325,
          3.854146865480198,
          3.928669071669071,
          4.003191277857944,
          4.077713484046817,
          4.152235690235689,
          4.226757896424562,
          4.301280102613435,
          4.3758023088023075,
          4.4503245149911805,
          4.524846721180054,
          4.599368927368927,
          4.6738911335578,
          4.748413339746672,
          4.822935545935545,
          4.897457752124418,
          4.97197995831329,
          5.046502164502163,
          5.121024370691036,
          5.195546576879909,
          5.2700687830687825,
          5.344590989257655,
          5.419113195446528,
          5.493635401635401,
          5.568157607824273,
          5.642679814013146,
          5.717202020202019,
          5.791724226390892,
          5.866246432579765,
          5.940768638768637,
          6.01529084495751,
          6.0898130511463835,
          6.164335257335256,
          6.238857463524129,
          6.313379669713002,
          6.387901875901875,
          6.462424082090748,
          6.53694628827962,
          6.611468494468493,
          6.685990700657366,
          6.760512906846238,
          6.8350351130351115,
          6.9095573192239845,
          6.984079525412858,
          7.058601731601731,
          7.133123937790603,
          7.207646143979476,
          7.282168350168349,
          7.356690556357221,
          7.431212762546094,
          7.505734968734967,
          7.58025717492384,
          7.654779381112713,
          7.7293015873015865
         ],
         "y": [
          7.735229759829609,
          7.768628123941513,
          7.802026488053415,
          7.835424852165318,
          7.868823216277221,
          7.902221580389123,
          7.935619944501026,
          7.969018308612929,
          8.00241667272483,
          8.035815036836734,
          8.069213400948637,
          8.102611765060539,
          8.136010129172442,
          8.169408493284346,
          8.202806857396247,
          8.23620522150815,
          8.269603585620054,
          8.303001949731955,
          8.336400313843859,
          8.369798677955762,
          8.403197042067664,
          8.436595406179567,
          8.46999377029147,
          8.503392134403372,
          8.536790498515275,
          8.570188862627178,
          8.60358722673908,
          8.636985590850983,
          8.670383954962887,
          8.703782319074788,
          8.737180683186692,
          8.770579047298593,
          8.803977411410497,
          8.8373757755224,
          8.870774139634303,
          8.904172503746205,
          8.937570867858108,
          8.97096923197001,
          9.004367596081913,
          9.037765960193816,
          9.07116432430572,
          9.104562688417621,
          9.137961052529525,
          9.171359416641426,
          9.20475778075333,
          9.238156144865233,
          9.271554508977134,
          9.304952873089038,
          9.338351237200941,
          9.371749601312843,
          9.405147965424746,
          9.43854632953665,
          9.47194469364855,
          9.505343057760454,
          9.538741421872356,
          9.572139785984259,
          9.605538150096162,
          9.638936514208066,
          9.672334878319969,
          9.70573324243187,
          9.739131606543772,
          9.772529970655675,
          9.805928334767579,
          9.839326698879482,
          9.872725062991384,
          9.906123427103287,
          9.93952179121519,
          9.972920155327092,
          10.006318519438995,
          10.039716883550899,
          10.0731152476628,
          10.106513611774703,
          10.139911975886605,
          10.173310339998508,
          10.206708704110412,
          10.240107068222315,
          10.273505432334217,
          10.30690379644612,
          10.340302160558021,
          10.373700524669925,
          10.407098888781828,
          10.440497252893731,
          10.473895617005633,
          10.507293981117536,
          10.540692345229438,
          10.574090709341341,
          10.607489073453245,
          10.640887437565146,
          10.67428580167705,
          10.707684165788953,
          10.741082529900854,
          10.774480894012758,
          10.807879258124661,
          10.841277622236564,
          10.874675986348466,
          10.908074350460367,
          10.94147271457227,
          10.974871078684174,
          11.008269442796077,
          11.04166780690798
         ]
        }
       ],
       "layout": {
        "height": 400,
        "legend": {
         "bgcolor": "rgba(255,255,255,1)",
         "bordercolor": "lightgrey",
         "borderwidth": 1,
         "font": {
          "size": 12
         },
         "title": {
          "text": "Legend"
         },
         "tracegroupgap": 0,
         "y": 0.85
        },
        "margin": {
         "b": 0,
         "l": 0,
         "r": 0,
         "t": 0
        },
        "paper_bgcolor": "white",
        "plot_bgcolor": "white",
        "template": {
         "data": {
          "bar": [
           {
            "error_x": {
             "color": "#2a3f5f"
            },
            "error_y": {
             "color": "#2a3f5f"
            },
            "marker": {
             "line": {
              "color": "#E5ECF6",
              "width": 0.5
             },
             "pattern": {
              "fillmode": "overlay",
              "size": 10,
              "solidity": 0.2
             }
            },
            "type": "bar"
           }
          ],
          "barpolar": [
           {
            "marker": {
             "line": {
              "color": "#E5ECF6",
              "width": 0.5
             },
             "pattern": {
              "fillmode": "overlay",
              "size": 10,
              "solidity": 0.2
             }
            },
            "type": "barpolar"
           }
          ],
          "carpet": [
           {
            "aaxis": {
             "endlinecolor": "#2a3f5f",
             "gridcolor": "white",
             "linecolor": "white",
             "minorgridcolor": "white",
             "startlinecolor": "#2a3f5f"
            },
            "baxis": {
             "endlinecolor": "#2a3f5f",
             "gridcolor": "white",
             "linecolor": "white",
             "minorgridcolor": "white",
             "startlinecolor": "#2a3f5f"
            },
            "type": "carpet"
           }
          ],
          "choropleth": [
           {
            "colorbar": {
             "outlinewidth": 0,
             "ticks": ""
            },
            "type": "choropleth"
           }
          ],
          "contour": [
           {
            "colorbar": {
             "outlinewidth": 0,
             "ticks": ""
            },
            "colorscale": [
             [
              0,
              "#0d0887"
             ],
             [
              0.1111111111111111,
              "#46039f"
             ],
             [
              0.2222222222222222,
              "#7201a8"
             ],
             [
              0.3333333333333333,
              "#9c179e"
             ],
             [
              0.4444444444444444,
              "#bd3786"
             ],
             [
              0.5555555555555556,
              "#d8576b"
             ],
             [
              0.6666666666666666,
              "#ed7953"
             ],
             [
              0.7777777777777778,
              "#fb9f3a"
             ],
             [
              0.8888888888888888,
              "#fdca26"
             ],
             [
              1,
              "#f0f921"
             ]
            ],
            "type": "contour"
           }
          ],
          "contourcarpet": [
           {
            "colorbar": {
             "outlinewidth": 0,
             "ticks": ""
            },
            "type": "contourcarpet"
           }
          ],
          "heatmap": [
           {
            "colorbar": {
             "outlinewidth": 0,
             "ticks": ""
            },
            "colorscale": [
             [
              0,
              "#0d0887"
             ],
             [
              0.1111111111111111,
              "#46039f"
             ],
             [
              0.2222222222222222,
              "#7201a8"
             ],
             [
              0.3333333333333333,
              "#9c179e"
             ],
             [
              0.4444444444444444,
              "#bd3786"
             ],
             [
              0.5555555555555556,
              "#d8576b"
             ],
             [
              0.6666666666666666,
              "#ed7953"
             ],
             [
              0.7777777777777778,
              "#fb9f3a"
             ],
             [
              0.8888888888888888,
              "#fdca26"
             ],
             [
              1,
              "#f0f921"
             ]
            ],
            "type": "heatmap"
           }
          ],
          "heatmapgl": [
           {
            "colorbar": {
             "outlinewidth": 0,
             "ticks": ""
            },
            "colorscale": [
             [
              0,
              "#0d0887"
             ],
             [
              0.1111111111111111,
              "#46039f"
             ],
             [
              0.2222222222222222,
              "#7201a8"
             ],
             [
              0.3333333333333333,
              "#9c179e"
             ],
             [
              0.4444444444444444,
              "#bd3786"
             ],
             [
              0.5555555555555556,
              "#d8576b"
             ],
             [
              0.6666666666666666,
              "#ed7953"
             ],
             [
              0.7777777777777778,
              "#fb9f3a"
             ],
             [
              0.8888888888888888,
              "#fdca26"
             ],
             [
              1,
              "#f0f921"
             ]
            ],
            "type": "heatmapgl"
           }
          ],
          "histogram": [
           {
            "marker": {
             "pattern": {
              "fillmode": "overlay",
              "size": 10,
              "solidity": 0.2
             }
            },
            "type": "histogram"
           }
          ],
          "histogram2d": [
           {
            "colorbar": {
             "outlinewidth": 0,
             "ticks": ""
            },
            "colorscale": [
             [
              0,
              "#0d0887"
             ],
             [
              0.1111111111111111,
              "#46039f"
             ],
             [
              0.2222222222222222,
              "#7201a8"
             ],
             [
              0.3333333333333333,
              "#9c179e"
             ],
             [
              0.4444444444444444,
              "#bd3786"
             ],
             [
              0.5555555555555556,
              "#d8576b"
             ],
             [
              0.6666666666666666,
              "#ed7953"
             ],
             [
              0.7777777777777778,
              "#fb9f3a"
             ],
             [
              0.8888888888888888,
              "#fdca26"
             ],
             [
              1,
              "#f0f921"
             ]
            ],
            "type": "histogram2d"
           }
          ],
          "histogram2dcontour": [
           {
            "colorbar": {
             "outlinewidth": 0,
             "ticks": ""
            },
            "colorscale": [
             [
              0,
              "#0d0887"
             ],
             [
              0.1111111111111111,
              "#46039f"
             ],
             [
              0.2222222222222222,
              "#7201a8"
             ],
             [
              0.3333333333333333,
              "#9c179e"
             ],
             [
              0.4444444444444444,
              "#bd3786"
             ],
             [
              0.5555555555555556,
              "#d8576b"
             ],
             [
              0.6666666666666666,
              "#ed7953"
             ],
             [
              0.7777777777777778,
              "#fb9f3a"
             ],
             [
              0.8888888888888888,
              "#fdca26"
             ],
             [
              1,
              "#f0f921"
             ]
            ],
            "type": "histogram2dcontour"
           }
          ],
          "mesh3d": [
           {
            "colorbar": {
             "outlinewidth": 0,
             "ticks": ""
            },
            "type": "mesh3d"
           }
          ],
          "parcoords": [
           {
            "line": {
             "colorbar": {
              "outlinewidth": 0,
              "ticks": ""
             }
            },
            "type": "parcoords"
           }
          ],
          "pie": [
           {
            "automargin": true,
            "type": "pie"
           }
          ],
          "scatter": [
           {
            "fillpattern": {
             "fillmode": "overlay",
             "size": 10,
             "solidity": 0.2
            },
            "type": "scatter"
           }
          ],
          "scatter3d": [
           {
            "line": {
             "colorbar": {
              "outlinewidth": 0,
              "ticks": ""
             }
            },
            "marker": {
             "colorbar": {
              "outlinewidth": 0,
              "ticks": ""
             }
            },
            "type": "scatter3d"
           }
          ],
          "scattercarpet": [
           {
            "marker": {
             "colorbar": {
              "outlinewidth": 0,
              "ticks": ""
             }
            },
            "type": "scattercarpet"
           }
          ],
          "scattergeo": [
           {
            "marker": {
             "colorbar": {
              "outlinewidth": 0,
              "ticks": ""
             }
            },
            "type": "scattergeo"
           }
          ],
          "scattergl": [
           {
            "marker": {
             "colorbar": {
              "outlinewidth": 0,
              "ticks": ""
             }
            },
            "type": "scattergl"
           }
          ],
          "scattermapbox": [
           {
            "marker": {
             "colorbar": {
              "outlinewidth": 0,
              "ticks": ""
             }
            },
            "type": "scattermapbox"
           }
          ],
          "scatterpolar": [
           {
            "marker": {
             "colorbar": {
              "outlinewidth": 0,
              "ticks": ""
             }
            },
            "type": "scatterpolar"
           }
          ],
          "scatterpolargl": [
           {
            "marker": {
             "colorbar": {
              "outlinewidth": 0,
              "ticks": ""
             }
            },
            "type": "scatterpolargl"
           }
          ],
          "scatterternary": [
           {
            "marker": {
             "colorbar": {
              "outlinewidth": 0,
              "ticks": ""
             }
            },
            "type": "scatterternary"
           }
          ],
          "surface": [
           {
            "colorbar": {
             "outlinewidth": 0,
             "ticks": ""
            },
            "colorscale": [
             [
              0,
              "#0d0887"
             ],
             [
              0.1111111111111111,
              "#46039f"
             ],
             [
              0.2222222222222222,
              "#7201a8"
             ],
             [
              0.3333333333333333,
              "#9c179e"
             ],
             [
              0.4444444444444444,
              "#bd3786"
             ],
             [
              0.5555555555555556,
              "#d8576b"
             ],
             [
              0.6666666666666666,
              "#ed7953"
             ],
             [
              0.7777777777777778,
              "#fb9f3a"
             ],
             [
              0.8888888888888888,
              "#fdca26"
             ],
             [
              1,
              "#f0f921"
             ]
            ],
            "type": "surface"
           }
          ],
          "table": [
           {
            "cells": {
             "fill": {
              "color": "#EBF0F8"
             },
             "line": {
              "color": "white"
             }
            },
            "header": {
             "fill": {
              "color": "#C8D4E3"
             },
             "line": {
              "color": "white"
             }
            },
            "type": "table"
           }
          ]
         },
         "layout": {
          "annotationdefaults": {
           "arrowcolor": "#2a3f5f",
           "arrowhead": 0,
           "arrowwidth": 1
          },
          "autotypenumbers": "strict",
          "coloraxis": {
           "colorbar": {
            "outlinewidth": 0,
            "ticks": ""
           }
          },
          "colorscale": {
           "diverging": [
            [
             0,
             "#8e0152"
            ],
            [
             0.1,
             "#c51b7d"
            ],
            [
             0.2,
             "#de77ae"
            ],
            [
             0.3,
             "#f1b6da"
            ],
            [
             0.4,
             "#fde0ef"
            ],
            [
             0.5,
             "#f7f7f7"
            ],
            [
             0.6,
             "#e6f5d0"
            ],
            [
             0.7,
             "#b8e186"
            ],
            [
             0.8,
             "#7fbc41"
            ],
            [
             0.9,
             "#4d9221"
            ],
            [
             1,
             "#276419"
            ]
           ],
           "sequential": [
            [
             0,
             "#0d0887"
            ],
            [
             0.1111111111111111,
             "#46039f"
            ],
            [
             0.2222222222222222,
             "#7201a8"
            ],
            [
             0.3333333333333333,
             "#9c179e"
            ],
            [
             0.4444444444444444,
             "#bd3786"
            ],
            [
             0.5555555555555556,
             "#d8576b"
            ],
            [
             0.6666666666666666,
             "#ed7953"
            ],
            [
             0.7777777777777778,
             "#fb9f3a"
            ],
            [
             0.8888888888888888,
             "#fdca26"
            ],
            [
             1,
             "#f0f921"
            ]
           ],
           "sequentialminus": [
            [
             0,
             "#0d0887"
            ],
            [
             0.1111111111111111,
             "#46039f"
            ],
            [
             0.2222222222222222,
             "#7201a8"
            ],
            [
             0.3333333333333333,
             "#9c179e"
            ],
            [
             0.4444444444444444,
             "#bd3786"
            ],
            [
             0.5555555555555556,
             "#d8576b"
            ],
            [
             0.6666666666666666,
             "#ed7953"
            ],
            [
             0.7777777777777778,
             "#fb9f3a"
            ],
            [
             0.8888888888888888,
             "#fdca26"
            ],
            [
             1,
             "#f0f921"
            ]
           ]
          },
          "colorway": [
           "#636efa",
           "#EF553B",
           "#00cc96",
           "#ab63fa",
           "#FFA15A",
           "#19d3f3",
           "#FF6692",
           "#B6E880",
           "#FF97FF",
           "#FECB52"
          ],
          "font": {
           "color": "#2a3f5f"
          },
          "geo": {
           "bgcolor": "white",
           "lakecolor": "white",
           "landcolor": "#E5ECF6",
           "showlakes": true,
           "showland": true,
           "subunitcolor": "white"
          },
          "hoverlabel": {
           "align": "left"
          },
          "hovermode": "closest",
          "mapbox": {
           "style": "light"
          },
          "paper_bgcolor": "white",
          "plot_bgcolor": "#E5ECF6",
          "polar": {
           "angularaxis": {
            "gridcolor": "white",
            "linecolor": "white",
            "ticks": ""
           },
           "bgcolor": "#E5ECF6",
           "radialaxis": {
            "gridcolor": "white",
            "linecolor": "white",
            "ticks": ""
           }
          },
          "scene": {
           "xaxis": {
            "backgroundcolor": "#E5ECF6",
            "gridcolor": "white",
            "gridwidth": 2,
            "linecolor": "white",
            "showbackground": true,
            "ticks": "",
            "zerolinecolor": "white"
           },
           "yaxis": {
            "backgroundcolor": "#E5ECF6",
            "gridcolor": "white",
            "gridwidth": 2,
            "linecolor": "white",
            "showbackground": true,
            "ticks": "",
            "zerolinecolor": "white"
           },
           "zaxis": {
            "backgroundcolor": "#E5ECF6",
            "gridcolor": "white",
            "gridwidth": 2,
            "linecolor": "white",
            "showbackground": true,
            "ticks": "",
            "zerolinecolor": "white"
           }
          },
          "shapedefaults": {
           "line": {
            "color": "#2a3f5f"
           }
          },
          "ternary": {
           "aaxis": {
            "gridcolor": "white",
            "linecolor": "white",
            "ticks": ""
           },
           "baxis": {
            "gridcolor": "white",
            "linecolor": "white",
            "ticks": ""
           },
           "bgcolor": "#E5ECF6",
           "caxis": {
            "gridcolor": "white",
            "linecolor": "white",
            "ticks": ""
           }
          },
          "title": {
           "x": 0.05
          },
          "xaxis": {
           "automargin": true,
           "gridcolor": "white",
           "linecolor": "white",
           "ticks": "",
           "title": {
            "standoff": 15
           },
           "zerolinecolor": "white",
           "zerolinewidth": 2
          },
          "yaxis": {
           "automargin": true,
           "gridcolor": "white",
           "linecolor": "white",
           "ticks": "",
           "title": {
            "standoff": 15
           },
           "zerolinecolor": "white",
           "zerolinewidth": 2
          }
         }
        },
        "width": 800,
        "xaxis": {
         "anchor": "y",
         "domain": [
          0,
          1
         ],
         "gridcolor": "lightgrey",
         "range": [
          -0.25,
          8.25
         ],
         "showgrid": true,
         "title": {
          "text": "FFT (5 epochs)"
         }
        },
        "yaxis": {
         "anchor": "x",
         "domain": [
          0,
          1
         ],
         "gridcolor": "lightgrey",
         "range": [
          0,
          20
         ],
         "showgrid": true,
         "title": {
          "text": "FFT (50 epochs)"
         }
        }
       }
      }
     },
     "metadata": {},
     "output_type": "display_data"
    },
    {
     "data": {
      "application/vnd.plotly.v1+json": {
       "config": {
        "plotlyServerURL": "https://plot.ly"
       },
       "data": [
        {
         "hovertemplate": "model_size=large<br>loss_function=CLASSIC_AT<br>LP (50 epochs)=%{x}<br>FFT (50 epochs)=%{y}<extra></extra>",
         "legendgroup": "large, CLASSIC_AT",
         "marker": {
          "color": "#E69F00",
          "line": {
           "color": "DarkSlateGrey",
           "width": 0
          },
          "size": 8,
          "symbol": "star"
         },
         "mode": "markers",
         "name": "large, CLASSIC_AT",
         "orientation": "v",
         "showlegend": true,
         "type": "scatter",
         "x": [
          3.9569047619047617,
          2.8577460317460317,
          5.877095238095238,
          5.816666666666666,
          5.440095238095238,
          2.8666349206349206,
          5.7843809523809515,
          4.620285714285714,
          5.160714285714286,
          2.8145555555555557,
          1.4494285714285717,
          6.436619047619048,
          2.9516190476190474,
          3.0946666666666665,
          3.658650793650794,
          0.6882380952380953,
          3.844190476190476,
          5.730476190476191
         ],
         "xaxis": "x",
         "y": [
          15.419238095238097,
          14.510619047619048,
          13.656476190476189,
          14.404333333333332,
          9.757952380952382,
          14.390857142857145,
          15.99288888888889,
          15.127682539682539,
          13.163380952380951,
          13.771698412698411,
          7.738222222222221,
          16.77236507936508,
          11.306857142857144,
          8.744079365079365,
          7.513095238095238,
          10.652857142857142,
          8.554015873015873,
          5.8201269841269845
         ],
         "yaxis": "y"
        },
        {
         "hovertemplate": "model_size=large<br>loss_function=TRADES_v2<br>LP (50 epochs)=%{x}<br>FFT (50 epochs)=%{y}<extra></extra>",
         "legendgroup": "large, TRADES_v2",
         "marker": {
          "color": "#E69F00",
          "line": {
           "color": "DarkSlateGrey",
           "width": 0
          },
          "size": 8,
          "symbol": "diamond"
         },
         "mode": "markers",
         "name": "large, TRADES_v2",
         "orientation": "v",
         "showlegend": true,
         "type": "scatter",
         "x": [
          7.543333333333333,
          7.351238095238096,
          5.048301587301587,
          7.091619047619048,
          6.589539682539682,
          5.598190476190476,
          7.0374285714285705,
          7.923714285714286,
          8.113412698412699,
          3.3896190476190475,
          1.7374285714285713,
          8.003857142857143,
          4.339666666666666,
          1.039031746031746,
          1.9507777777777777,
          0.8672857142857143,
          6.614619047619048,
          6.9355714285714285
         ],
         "xaxis": "x",
         "y": [
          19.396968253968254,
          18.235888888888887,
          16.405761904761903,
          18.13090476190476,
          14.625873015873015,
          16.42042857142857,
          19.789301587301587,
          17.01639682539683,
          17.59952380952381,
          16.63130158730159,
          9.284619047619048,
          18.05390476190476,
          12.497777777777777,
          9.20452380952381,
          7.76604761904762,
          10.922761904761904,
          12.831396825396824,
          15.24073015873016
         ],
         "yaxis": "y"
        },
        {
         "hovertemplate": "model_size=small<br>loss_function=CLASSIC_AT<br>LP (50 epochs)=%{x}<br>FFT (50 epochs)=%{y}<extra></extra>",
         "legendgroup": "small, CLASSIC_AT",
         "marker": {
          "color": "#56B4E9",
          "line": {
           "color": "DarkSlateGrey",
           "width": 0
          },
          "size": 8,
          "symbol": "star"
         },
         "mode": "markers",
         "name": "small, CLASSIC_AT",
         "orientation": "v",
         "showlegend": true,
         "type": "scatter",
         "x": [
          0.35285714285714287,
          1.0727142857142857,
          1.2254285714285713,
          0.9750952380952382,
          3.8256666666666668,
          0.3169047619047619,
          2.6655238095238096
         ],
         "xaxis": "x",
         "y": [
          5.544095238095238,
          7.61152380952381,
          8.825714285714287,
          3.9464285714285716,
          8.747539682539681,
          4.924285714285714,
          10.845761904761906
         ],
         "yaxis": "y"
        },
        {
         "hovertemplate": "model_size=small<br>loss_function=TRADES_v2<br>LP (50 epochs)=%{x}<br>FFT (50 epochs)=%{y}<extra></extra>",
         "legendgroup": "small, TRADES_v2",
         "marker": {
          "color": "#56B4E9",
          "line": {
           "color": "DarkSlateGrey",
           "width": 0
          },
          "size": 8,
          "symbol": "diamond"
         },
         "mode": "markers",
         "name": "small, TRADES_v2",
         "orientation": "v",
         "showlegend": true,
         "type": "scatter",
         "x": [
          1.4621428571428572,
          3.535,
          4.612507936507937,
          0.5425238095238094,
          3.4052857142857142,
          0.28044444444444444,
          2.116174603174603
         ],
         "xaxis": "x",
         "y": [
          9.89168253968254,
          11.266238095238098,
          14.662857142857144,
          3.465190476190476,
          8.869428571428571,
          3.295666666666667,
          9.000444444444444
         ],
         "yaxis": "y"
        },
        {
         "hovertemplate": "model_size=medium<br>loss_function=CLASSIC_AT<br>LP (50 epochs)=%{x}<br>FFT (50 epochs)=%{y}<extra></extra>",
         "legendgroup": "medium, CLASSIC_AT",
         "marker": {
          "color": "#009E73",
          "line": {
           "color": "DarkSlateGrey",
           "width": 0
          },
          "size": 8,
          "symbol": "star"
         },
         "mode": "markers",
         "name": "medium, CLASSIC_AT",
         "orientation": "v",
         "showlegend": true,
         "type": "scatter",
         "x": [
          4.020015873015874,
          2.067761904761905,
          1.920301587301587,
          3.261,
          1.7058095238095237,
          1.3176031746031747,
          3.469952380952381,
          6.445507936507936,
          9.132142857142856,
          6.186666666666667,
          3.2461269841269837,
          2.048047619047619,
          3.205714285714286,
          2.748936507936508,
          2.6437460317460317
         ],
         "xaxis": "x",
         "y": [
          7.354095238095239,
          14.190666666666667,
          13.121666666666666,
          8.96915873015873,
          8.404936507936508,
          5.497158730158731,
          7.891190476190476,
          10.63004761904762,
          11.169269841269841,
          11.786952380952382,
          10.30595238095238,
          2.7429047619047617,
          6.476619047619048,
          6.104857142857144,
          6.640190476190476
         ],
         "yaxis": "y"
        },
        {
         "hovertemplate": "model_size=medium<br>loss_function=TRADES_v2<br>LP (50 epochs)=%{x}<br>FFT (50 epochs)=%{y}<extra></extra>",
         "legendgroup": "medium, TRADES_v2",
         "marker": {
          "color": "#009E73",
          "line": {
           "color": "DarkSlateGrey",
           "width": 0
          },
          "size": 8,
          "symbol": "diamond"
         },
         "mode": "markers",
         "name": "medium, TRADES_v2",
         "orientation": "v",
         "showlegend": true,
         "type": "scatter",
         "x": [
          5.377380952380952,
          4.372285714285715,
          6.786412698412698,
          3.740952380952381,
          2.9653968253968253,
          2.4287936507936507,
          3.0761904761904764,
          7.566746031746032,
          6.966619047619048,
          4.983190476190476,
          5.821698412698413,
          2.360809523809524,
          2.792761904761905,
          3.2846190476190475,
          0.5582539682539682
         ],
         "xaxis": "x",
         "y": [
          13.198714285714287,
          15.604809523809525,
          15.066190476190478,
          16.489968253968254,
          6.858126984126985,
          8.368904761904762,
          8.874571428571429,
          14.712079365079365,
          13.210857142857144,
          9.827396825396825,
          9.993523809523811,
          9.144730158730159,
          8.256285714285713,
          8.685698412698413,
          5.332063492063492
         ],
         "yaxis": "y"
        },
        {
         "line": {
          "color": "black",
          "dash": "solid",
          "width": 2
         },
         "marker": {
          "line": {
           "color": "DarkSlateGrey",
           "width": 0
          },
          "size": 8
         },
         "mode": "lines",
         "name": "Global (r=0.70, p=0.000)",
         "type": "scatter",
         "x": [
          0.28044444444444444,
          0.3698555395222062,
          0.45926663459996786,
          0.5486777296777297,
          0.6380888247554913,
          0.727499919833253,
          0.8169110149110148,
          0.9063221099887766,
          0.9957332050665382,
          1.0851443001443,
          1.1745553952220618,
          1.2639664902998233,
          1.3533775853775851,
          1.442788680455347,
          1.5321997755331087,
          1.6216108706108703,
          1.711021965688632,
          1.8004330607663939,
          1.8898441558441554,
          1.9792552509219172,
          2.068666345999679,
          2.1580774410774404,
          2.247488536155202,
          2.336899631232964,
          2.4263107263107258,
          2.5157218213884875,
          2.6051329164662493,
          2.694544011544011,
          2.783955106621773,
          2.8733662016995343,
          2.962777296777296,
          3.052188391855058,
          3.1415994869328197,
          3.2310105820105814,
          3.3204216770883432,
          3.409832772166105,
          3.4992438672438664,
          3.588654962321628,
          3.67806605739939,
          3.7674771524771518,
          3.8568882475549136,
          3.9462993426326753,
          4.035710437710437,
          4.1251215327881985,
          4.21453262786596,
          4.303943722943721,
          4.393354818021483,
          4.482765913099245,
          4.572177008177007,
          4.661588103254768,
          4.75099919833253,
          4.840410293410292,
          4.929821388488054,
          5.0192324835658155,
          5.108643578643577,
          5.198054673721339,
          5.287465768799101,
          5.376876863876863,
          5.466287958954624,
          5.555699054032385,
          5.645110149110147,
          5.734521244187909,
          5.823932339265671,
          5.913343434343433,
          6.002754529421194,
          6.092165624498956,
          6.181576719576718,
          6.27098781465448,
          6.3603989097322415,
          6.449810004810003,
          6.539221099887765,
          6.628632194965526,
          6.718043290043288,
          6.80745438512105,
          6.896865480198811,
          6.986276575276573,
          7.075687670354335,
          7.165098765432097,
          7.254509860509859,
          7.34392095558762,
          7.433332050665382,
          7.522743145743144,
          7.612154240820906,
          7.7015653358986675,
          7.7909764309764284,
          7.88038752605419,
          7.969798621131952,
          8.059209716209715,
          8.148620811287476,
          8.238031906365238,
          8.327443001443,
          8.416854096520762,
          8.506265191598523,
          8.595676286676285,
          8.685087381754046,
          8.774498476831809,
          8.86390957190957,
          8.953320666987333,
          9.042731762065094,
          9.132142857142856
         ],
         "y": [
          6.425955289567611,
          6.542558762226267,
          6.659162234884922,
          6.775765707543579,
          6.892369180202235,
          7.0089726528608916,
          7.125576125519547,
          7.242179598178204,
          7.35878307083686,
          7.4753865434955165,
          7.591990016154172,
          7.708593488812829,
          7.825196961471485,
          7.9418004341301405,
          8.058403906788797,
          8.175007379447454,
          8.29161085210611,
          8.408214324764765,
          8.524817797423422,
          8.641421270082077,
          8.758024742740734,
          8.87462821539939,
          8.991231688058047,
          9.107835160716702,
          9.224438633375359,
          9.341042106034015,
          9.457645578692672,
          9.574249051351327,
          9.690852524009983,
          9.80745599666864,
          9.924059469327297,
          10.040662941985952,
          10.157266414644608,
          10.273869887303263,
          10.39047335996192,
          10.507076832620577,
          10.623680305279233,
          10.74028377793789,
          10.856887250596547,
          10.973490723255201,
          11.090094195913858,
          11.206697668572513,
          11.32330114123117,
          11.439904613889826,
          11.556508086548483,
          11.673111559207136,
          11.789715031865793,
          11.90631850452445,
          12.022921977183106,
          12.139525449841763,
          12.25612892250042,
          12.372732395159076,
          12.489335867817731,
          12.605939340476388,
          12.722542813135043,
          12.8391462857937,
          12.955749758452356,
          13.072353231111013,
          13.188956703769668,
          13.305560176428324,
          13.42216364908698,
          13.538767121745636,
          13.655370594404292,
          13.77197406706295,
          13.888577539721606,
          14.005181012380262,
          14.121784485038917,
          14.238387957697574,
          14.35499143035623,
          14.471594903014887,
          14.588198375673542,
          14.704801848332197,
          14.821405320990854,
          14.93800879364951,
          15.054612266308167,
          15.171215738966824,
          15.287819211625479,
          15.404422684284135,
          15.521026156942792,
          15.637629629601449,
          15.754233102260104,
          15.87083657491876,
          15.987440047577417,
          16.104043520236075,
          16.22064699289473,
          16.337250465553385,
          16.453853938212042,
          16.5704574108707,
          16.687060883529355,
          16.80366435618801,
          16.920267828846665,
          17.03687130150532,
          17.15347477416398,
          17.270078246822635,
          17.38668171948129,
          17.50328519213995,
          17.6198886647986,
          17.73649213745726,
          17.853095610115915,
          17.969699082774575
         ]
        },
        {
         "line": {
          "color": "#E69F00",
          "dash": "solid"
         },
         "marker": {
          "line": {
           "color": "DarkSlateGrey",
           "width": 0
          },
          "size": 8
         },
         "mode": "lines",
         "name": "large – TRADES_v2 (r=0.80, p=0.000)",
         "type": "scatter",
         "x": [
          0.28044444444444444,
          0.3698555395222062,
          0.45926663459996786,
          0.5486777296777297,
          0.6380888247554913,
          0.727499919833253,
          0.8169110149110148,
          0.9063221099887766,
          0.9957332050665382,
          1.0851443001443,
          1.1745553952220618,
          1.2639664902998233,
          1.3533775853775851,
          1.442788680455347,
          1.5321997755331087,
          1.6216108706108703,
          1.711021965688632,
          1.8004330607663939,
          1.8898441558441554,
          1.9792552509219172,
          2.068666345999679,
          2.1580774410774404,
          2.247488536155202,
          2.336899631232964,
          2.4263107263107258,
          2.5157218213884875,
          2.6051329164662493,
          2.694544011544011,
          2.783955106621773,
          2.8733662016995343,
          2.962777296777296,
          3.052188391855058,
          3.1415994869328197,
          3.2310105820105814,
          3.3204216770883432,
          3.409832772166105,
          3.4992438672438664,
          3.588654962321628,
          3.67806605739939,
          3.7674771524771518,
          3.8568882475549136,
          3.9462993426326753,
          4.035710437710437,
          4.1251215327881985,
          4.21453262786596,
          4.303943722943721,
          4.393354818021483,
          4.482765913099245,
          4.572177008177007,
          4.661588103254768,
          4.75099919833253,
          4.840410293410292,
          4.929821388488054,
          5.0192324835658155,
          5.108643578643577,
          5.198054673721339,
          5.287465768799101,
          5.376876863876863,
          5.466287958954624,
          5.555699054032385,
          5.645110149110147,
          5.734521244187909,
          5.823932339265671,
          5.913343434343433,
          6.002754529421194,
          6.092165624498956,
          6.181576719576718,
          6.27098781465448,
          6.3603989097322415,
          6.449810004810003,
          6.539221099887765,
          6.628632194965526,
          6.718043290043288,
          6.80745438512105,
          6.896865480198811,
          6.986276575276573,
          7.075687670354335,
          7.165098765432097,
          7.254509860509859,
          7.34392095558762,
          7.433332050665382,
          7.522743145743144,
          7.612154240820906,
          7.7015653358986675,
          7.7909764309764284,
          7.88038752605419,
          7.969798621131952,
          8.059209716209715,
          8.148620811287476,
          8.238031906365238,
          8.327443001443,
          8.416854096520762,
          8.506265191598523,
          8.595676286676285,
          8.685087381754046,
          8.774498476831809,
          8.86390957190957,
          8.953320666987333,
          9.042731762065094,
          9.132142857142856
         ],
         "y": [
          8.713515804523642,
          8.823389610207947,
          8.933263415892252,
          9.04313722157656,
          9.153011027260865,
          9.26288483294517,
          9.372758638629476,
          9.482632444313781,
          9.592506249998088,
          9.702380055682394,
          9.812253861366699,
          9.922127667051004,
          10.03200147273531,
          10.141875278419615,
          10.251749084103922,
          10.361622889788228,
          10.471496695472533,
          10.581370501156838,
          10.691244306841144,
          10.801118112525451,
          10.910991918209756,
          11.020865723894062,
          11.130739529578367,
          11.240613335262672,
          11.350487140946978,
          11.460360946631283,
          11.57023475231559,
          11.680108557999896,
          11.789982363684201,
          11.899856169368507,
          12.009729975052814,
          12.119603780737119,
          12.229477586421424,
          12.33935139210573,
          12.449225197790035,
          12.55909900347434,
          12.668972809158646,
          12.778846614842953,
          12.888720420527259,
          12.998594226211564,
          13.108468031895871,
          13.218341837580176,
          13.328215643264482,
          13.438089448948787,
          13.547963254633093,
          13.657837060317398,
          13.767710866001703,
          13.877584671686009,
          13.987458477370314,
          14.09733228305462,
          14.207206088738927,
          14.317079894423232,
          14.42695370010754,
          14.536827505791845,
          14.64670131147615,
          14.756575117160455,
          14.86644892284476,
          14.976322728529066,
          15.086196534213371,
          15.196070339897677,
          15.305944145581982,
          15.415817951266288,
          15.525691756950595,
          15.6355655626349,
          15.745439368319207,
          15.855313174003513,
          15.965186979687818,
          16.075060785372123,
          16.18493459105643,
          16.294808396740734,
          16.404682202425043,
          16.514556008109345,
          16.624429813793654,
          16.734303619477956,
          16.844177425162265,
          16.954051230846567,
          17.063925036530875,
          17.17379884221518,
          17.283672647899486,
          17.39354645358379,
          17.503420259268097,
          17.613294064952406,
          17.723167870636708,
          17.833041676321017,
          17.94291548200532,
          18.052789287689627,
          18.16266309337393,
          18.272536899058238,
          18.382410704742544,
          18.49228451042685,
          18.602158316111154,
          18.71203212179546,
          18.82190592747977,
          18.93177973316407,
          19.04165353884838,
          19.151527344532685,
          19.26140115021699,
          19.371274955901296,
          19.4811487615856,
          19.59102256726991
         ]
        },
        {
         "line": {
          "color": "#E69F00",
          "dash": "dot"
         },
         "marker": {
          "line": {
           "color": "DarkSlateGrey",
           "width": 0
          },
          "size": 8
         },
         "mode": "lines",
         "name": "large – CLASSIC_AT (r=0.32, p=0.197)",
         "type": "scatter",
         "x": [
          0.28044444444444444,
          0.3698555395222062,
          0.45926663459996786,
          0.5486777296777297,
          0.6380888247554913,
          0.727499919833253,
          0.8169110149110148,
          0.9063221099887766,
          0.9957332050665382,
          1.0851443001443,
          1.1745553952220618,
          1.2639664902998233,
          1.3533775853775851,
          1.442788680455347,
          1.5321997755331087,
          1.6216108706108703,
          1.711021965688632,
          1.8004330607663939,
          1.8898441558441554,
          1.9792552509219172,
          2.068666345999679,
          2.1580774410774404,
          2.247488536155202,
          2.336899631232964,
          2.4263107263107258,
          2.5157218213884875,
          2.6051329164662493,
          2.694544011544011,
          2.783955106621773,
          2.8733662016995343,
          2.962777296777296,
          3.052188391855058,
          3.1415994869328197,
          3.2310105820105814,
          3.3204216770883432,
          3.409832772166105,
          3.4992438672438664,
          3.588654962321628,
          3.67806605739939,
          3.7674771524771518,
          3.8568882475549136,
          3.9462993426326753,
          4.035710437710437,
          4.1251215327881985,
          4.21453262786596,
          4.303943722943721,
          4.393354818021483,
          4.482765913099245,
          4.572177008177007,
          4.661588103254768,
          4.75099919833253,
          4.840410293410292,
          4.929821388488054,
          5.0192324835658155,
          5.108643578643577,
          5.198054673721339,
          5.287465768799101,
          5.376876863876863,
          5.466287958954624,
          5.555699054032385,
          5.645110149110147,
          5.734521244187909,
          5.823932339265671,
          5.913343434343433,
          6.002754529421194,
          6.092165624498956,
          6.181576719576718,
          6.27098781465448,
          6.3603989097322415,
          6.449810004810003,
          6.539221099887765,
          6.628632194965526,
          6.718043290043288,
          6.80745438512105,
          6.896865480198811,
          6.986276575276573,
          7.075687670354335,
          7.165098765432097,
          7.254509860509859,
          7.34392095558762,
          7.433332050665382,
          7.522743145743144,
          7.612154240820906,
          7.7015653358986675,
          7.7909764309764284,
          7.88038752605419,
          7.969798621131952,
          8.059209716209715,
          8.148620811287476,
          8.238031906365238,
          8.327443001443,
          8.416854096520762,
          8.506265191598523,
          8.595676286676285,
          8.685087381754046,
          8.774498476831809,
          8.86390957190957,
          8.953320666987333,
          9.042731762065094,
          9.132142857142856
         ],
         "y": [
          9.720024531917325,
          9.775690435510484,
          9.831356339103642,
          9.887022242696801,
          9.942688146289958,
          9.998354049883117,
          10.054019953476276,
          10.109685857069435,
          10.165351760662594,
          10.221017664255752,
          10.27668356784891,
          10.332349471442068,
          10.388015375035227,
          10.443681278628386,
          10.499347182221545,
          10.555013085814704,
          10.610678989407862,
          10.666344893001021,
          10.722010796594178,
          10.777676700187337,
          10.833342603780496,
          10.889008507373655,
          10.944674410966813,
          11.00034031455997,
          11.05600621815313,
          11.111672121746288,
          11.167338025339447,
          11.223003928932606,
          11.278669832525765,
          11.334335736118923,
          11.39000163971208,
          11.44566754330524,
          11.501333446898398,
          11.556999350491557,
          11.612665254084716,
          11.668331157677875,
          11.723997061271032,
          11.77966296486419,
          11.83532886845735,
          11.890994772050508,
          11.946660675643667,
          12.002326579236826,
          12.057992482829984,
          12.113658386423143,
          12.1693242900163,
          12.22499019360946,
          12.280656097202618,
          12.336322000795775,
          12.391987904388934,
          12.447653807982093,
          12.503319711575251,
          12.55898561516841,
          12.614651518761569,
          12.670317422354728,
          12.725983325947887,
          12.781649229541046,
          12.837315133134204,
          12.892981036727361,
          12.94864694032052,
          13.004312843913679,
          13.059978747506836,
          13.115644651099995,
          13.171310554693154,
          13.226976458286313,
          13.282642361879471,
          13.33830826547263,
          13.393974169065789,
          13.449640072658948,
          13.505305976252107,
          13.560971879845265,
          13.616637783438424,
          13.672303687031581,
          13.727969590624738,
          13.783635494217897,
          13.839301397811056,
          13.894967301404215,
          13.950633204997374,
          14.006299108590532,
          14.061965012183691,
          14.11763091577685,
          14.173296819370009,
          14.228962722963168,
          14.284628626556326,
          14.340294530149485,
          14.395960433742642,
          14.4516263373358,
          14.507292240928958,
          14.562958144522119,
          14.618624048115276,
          14.674289951708435,
          14.729955855301593,
          14.785621758894752,
          14.841287662487911,
          14.89695356608107,
          14.952619469674229,
          15.008285373267388,
          15.063951276860546,
          15.119617180453705,
          15.175283084046862,
          15.230948987640021
         ]
        },
        {
         "line": {
          "color": "#56B4E9",
          "dash": "solid"
         },
         "marker": {
          "line": {
           "color": "DarkSlateGrey",
           "width": 0
          },
          "size": 8
         },
         "mode": "lines",
         "name": "small – TRADES_v2 (r=0.86, p=0.014)",
         "type": "scatter",
         "x": [
          0.28044444444444444,
          0.3698555395222062,
          0.45926663459996786,
          0.5486777296777297,
          0.6380888247554913,
          0.727499919833253,
          0.8169110149110148,
          0.9063221099887766,
          0.9957332050665382,
          1.0851443001443,
          1.1745553952220618,
          1.2639664902998233,
          1.3533775853775851,
          1.442788680455347,
          1.5321997755331087,
          1.6216108706108703,
          1.711021965688632,
          1.8004330607663939,
          1.8898441558441554,
          1.9792552509219172,
          2.068666345999679,
          2.1580774410774404,
          2.247488536155202,
          2.336899631232964,
          2.4263107263107258,
          2.5157218213884875,
          2.6051329164662493,
          2.694544011544011,
          2.783955106621773,
          2.8733662016995343,
          2.962777296777296,
          3.052188391855058,
          3.1415994869328197,
          3.2310105820105814,
          3.3204216770883432,
          3.409832772166105,
          3.4992438672438664,
          3.588654962321628,
          3.67806605739939,
          3.7674771524771518,
          3.8568882475549136,
          3.9462993426326753,
          4.035710437710437,
          4.1251215327881985,
          4.21453262786596,
          4.303943722943721,
          4.393354818021483,
          4.482765913099245,
          4.572177008177007,
          4.661588103254768,
          4.75099919833253,
          4.840410293410292,
          4.929821388488054,
          5.0192324835658155,
          5.108643578643577,
          5.198054673721339,
          5.287465768799101,
          5.376876863876863,
          5.466287958954624,
          5.555699054032385,
          5.645110149110147,
          5.734521244187909,
          5.823932339265671,
          5.913343434343433,
          6.002754529421194,
          6.092165624498956,
          6.181576719576718,
          6.27098781465448,
          6.3603989097322415,
          6.449810004810003,
          6.539221099887765,
          6.628632194965526,
          6.718043290043288,
          6.80745438512105,
          6.896865480198811,
          6.986276575276573,
          7.075687670354335,
          7.165098765432097,
          7.254509860509859,
          7.34392095558762,
          7.433332050665382,
          7.522743145743144,
          7.612154240820906,
          7.7015653358986675,
          7.7909764309764284,
          7.88038752605419,
          7.969798621131952,
          8.059209716209715,
          8.148620811287476,
          8.238031906365238,
          8.327443001443,
          8.416854096520762,
          8.506265191598523,
          8.595676286676285,
          8.685087381754046,
          8.774498476831809,
          8.86390957190957,
          8.953320666987333,
          9.042731762065094,
          9.132142857142856
         ],
         "y": [
          4.112701487427987,
          4.315045418618746,
          4.5173893498095055,
          4.719733281000265,
          4.922077212191024,
          5.124421143381783,
          5.326765074572542,
          5.529109005763301,
          5.73145293695406,
          5.933796868144819,
          6.136140799335578,
          6.338484730526337,
          6.5408286617170965,
          6.743172592907856,
          6.945516524098615,
          7.147860455289374,
          7.350204386480133,
          7.552548317670893,
          7.754892248861651,
          7.95723618005241,
          8.15958011124317,
          8.361924042433929,
          8.564267973624688,
          8.766611904815447,
          8.968955836006206,
          9.171299767196965,
          9.373643698387724,
          9.575987629578485,
          9.778331560769242,
          9.980675491960001,
          10.18301942315076,
          10.38536335434152,
          10.587707285532279,
          10.79005121672304,
          10.992395147913797,
          11.194739079104558,
          11.397083010295315,
          11.599426941486074,
          11.801770872676833,
          12.004114803867592,
          12.206458735058352,
          12.408802666249112,
          12.61114659743987,
          12.813490528630629,
          13.015834459821388,
          13.218178391012145,
          13.420522322202904,
          13.622866253393664,
          13.825210184584423,
          14.027554115775184,
          14.229898046965943,
          14.432241978156702,
          14.63458590934746,
          14.83692984053822,
          15.039273771728979,
          15.241617702919738,
          15.443961634110497,
          15.646305565301256,
          15.848649496492014,
          16.050993427682773,
          16.25333735887353,
          16.45568129006429,
          16.658025221255052,
          16.860369152445813,
          17.06271308363657,
          17.265057014827327,
          17.46740094601809,
          17.66974487720885,
          17.872088808399607,
          18.074432739590364,
          18.276776670781125,
          18.479120601971882,
          18.68146453316264,
          18.8838084643534,
          19.08615239554416,
          19.288496326734922,
          19.49084025792568,
          19.693184189116437,
          19.895528120307198,
          20.09787205149796,
          20.300215982688716,
          20.502559913879477,
          20.704903845070234,
          20.907247776260995,
          21.109591707451752,
          21.31193563864251,
          21.51427956983327,
          21.71662350102403,
          21.91896743221479,
          22.12131136340555,
          22.323655294596307,
          22.525999225787068,
          22.728343156977825,
          22.930687088168586,
          23.133031019359343,
          23.335374950550104,
          23.53771888174086,
          23.740062812931622,
          23.94240674412238,
          24.14475067531314
         ]
        },
        {
         "line": {
          "color": "#56B4E9",
          "dash": "dot"
         },
         "marker": {
          "line": {
           "color": "DarkSlateGrey",
           "width": 0
          },
          "size": 8
         },
         "mode": "lines",
         "name": "small – CLASSIC_AT (r=0.79, p=0.036)",
         "type": "scatter",
         "x": [
          0.28044444444444444,
          0.3698555395222062,
          0.45926663459996786,
          0.5486777296777297,
          0.6380888247554913,
          0.727499919833253,
          0.8169110149110148,
          0.9063221099887766,
          0.9957332050665382,
          1.0851443001443,
          1.1745553952220618,
          1.2639664902998233,
          1.3533775853775851,
          1.442788680455347,
          1.5321997755331087,
          1.6216108706108703,
          1.711021965688632,
          1.8004330607663939,
          1.8898441558441554,
          1.9792552509219172,
          2.068666345999679,
          2.1580774410774404,
          2.247488536155202,
          2.336899631232964,
          2.4263107263107258,
          2.5157218213884875,
          2.6051329164662493,
          2.694544011544011,
          2.783955106621773,
          2.8733662016995343,
          2.962777296777296,
          3.052188391855058,
          3.1415994869328197,
          3.2310105820105814,
          3.3204216770883432,
          3.409832772166105,
          3.4992438672438664,
          3.588654962321628,
          3.67806605739939,
          3.7674771524771518,
          3.8568882475549136,
          3.9462993426326753,
          4.035710437710437,
          4.1251215327881985,
          4.21453262786596,
          4.303943722943721,
          4.393354818021483,
          4.482765913099245,
          4.572177008177007,
          4.661588103254768,
          4.75099919833253,
          4.840410293410292,
          4.929821388488054,
          5.0192324835658155,
          5.108643578643577,
          5.198054673721339,
          5.287465768799101,
          5.376876863876863,
          5.466287958954624,
          5.555699054032385,
          5.645110149110147,
          5.734521244187909,
          5.823932339265671,
          5.913343434343433,
          6.002754529421194,
          6.092165624498956,
          6.181576719576718,
          6.27098781465448,
          6.3603989097322415,
          6.449810004810003,
          6.539221099887765,
          6.628632194965526,
          6.718043290043288,
          6.80745438512105,
          6.896865480198811,
          6.986276575276573,
          7.075687670354335,
          7.165098765432097,
          7.254509860509859,
          7.34392095558762,
          7.433332050665382,
          7.522743145743144,
          7.612154240820906,
          7.7015653358986675,
          7.7909764309764284,
          7.88038752605419,
          7.969798621131952,
          8.059209716209715,
          8.148620811287476,
          8.238031906365238,
          8.327443001443,
          8.416854096520762,
          8.506265191598523,
          8.595676286676285,
          8.685087381754046,
          8.774498476831809,
          8.86390957190957,
          8.953320666987333,
          9.042731762065094,
          9.132142857142856
         ],
         "y": [
          5.572157064418407,
          5.692907350717448,
          5.8136576370164885,
          5.93440792331553,
          6.055158209614571,
          6.175908495913611,
          6.296658782212652,
          6.417409068511693,
          6.538159354810734,
          6.658909641109775,
          6.779659927408815,
          6.900410213707856,
          7.021160500006897,
          7.141910786305938,
          7.262661072604979,
          7.38341135890402,
          7.504161645203061,
          7.624911931502101,
          7.745662217801142,
          7.8664125041001824,
          7.987162790399223,
          8.107913076698264,
          8.228663362997304,
          8.349413649296345,
          8.470163935595387,
          8.590914221894428,
          8.711664508193468,
          8.832414794492509,
          8.95316508079155,
          9.07391536709059,
          9.194665653389631,
          9.315415939688673,
          9.436166225987712,
          9.556916512286755,
          9.677666798585795,
          9.798417084884836,
          9.919167371183876,
          10.039917657482917,
          10.16066794378196,
          10.281418230080998,
          10.40216851638004,
          10.522918802679081,
          10.643669088978122,
          10.764419375277162,
          10.885169661576203,
          11.005919947875242,
          11.126670234174284,
          11.247420520473325,
          11.368170806772365,
          11.488921093071408,
          11.609671379370447,
          11.730421665669489,
          11.85117195196853,
          11.97192223826757,
          12.092672524566611,
          12.213422810865652,
          12.334173097164694,
          12.454923383463733,
          12.575673669762773,
          12.696423956061814,
          12.817174242360856,
          12.937924528659895,
          13.058674814958938,
          13.179425101257978,
          13.300175387557019,
          13.420925673856061,
          13.5416759601551,
          13.662426246454142,
          13.783176532753181,
          13.903926819052224,
          14.024677105351266,
          14.145427391650305,
          14.266177677949344,
          14.386927964248386,
          14.507678250547428,
          14.628428536846467,
          14.74917882314551,
          14.869929109444548,
          14.99067939574359,
          15.111429682042633,
          15.232179968341672,
          15.352930254640714,
          15.473680540939753,
          15.594430827238796,
          15.715181113537835,
          15.835931399836877,
          15.956681686135916,
          16.077431972434958,
          16.198182258733997,
          16.31893254503304,
          16.43968283133208,
          16.560433117631124,
          16.681183403930163,
          16.801933690229205,
          16.922683976528244,
          17.043434262827287,
          17.164184549126325,
          17.284934835425368,
          17.405685121724407,
          17.52643540802345
         ]
        },
        {
         "line": {
          "color": "#009E73",
          "dash": "solid"
         },
         "marker": {
          "line": {
           "color": "DarkSlateGrey",
           "width": 0
          },
          "size": 8
         },
         "mode": "lines",
         "name": "medium – TRADES_v2 (r=0.74, p=0.002)",
         "type": "scatter",
         "x": [
          0.28044444444444444,
          0.3698555395222062,
          0.45926663459996786,
          0.5486777296777297,
          0.6380888247554913,
          0.727499919833253,
          0.8169110149110148,
          0.9063221099887766,
          0.9957332050665382,
          1.0851443001443,
          1.1745553952220618,
          1.2639664902998233,
          1.3533775853775851,
          1.442788680455347,
          1.5321997755331087,
          1.6216108706108703,
          1.711021965688632,
          1.8004330607663939,
          1.8898441558441554,
          1.9792552509219172,
          2.068666345999679,
          2.1580774410774404,
          2.247488536155202,
          2.336899631232964,
          2.4263107263107258,
          2.5157218213884875,
          2.6051329164662493,
          2.694544011544011,
          2.783955106621773,
          2.8733662016995343,
          2.962777296777296,
          3.052188391855058,
          3.1415994869328197,
          3.2310105820105814,
          3.3204216770883432,
          3.409832772166105,
          3.4992438672438664,
          3.588654962321628,
          3.67806605739939,
          3.7674771524771518,
          3.8568882475549136,
          3.9462993426326753,
          4.035710437710437,
          4.1251215327881985,
          4.21453262786596,
          4.303943722943721,
          4.393354818021483,
          4.482765913099245,
          4.572177008177007,
          4.661588103254768,
          4.75099919833253,
          4.840410293410292,
          4.929821388488054,
          5.0192324835658155,
          5.108643578643577,
          5.198054673721339,
          5.287465768799101,
          5.376876863876863,
          5.466287958954624,
          5.555699054032385,
          5.645110149110147,
          5.734521244187909,
          5.823932339265671,
          5.913343434343433,
          6.002754529421194,
          6.092165624498956,
          6.181576719576718,
          6.27098781465448,
          6.3603989097322415,
          6.449810004810003,
          6.539221099887765,
          6.628632194965526,
          6.718043290043288,
          6.80745438512105,
          6.896865480198811,
          6.986276575276573,
          7.075687670354335,
          7.165098765432097,
          7.254509860509859,
          7.34392095558762,
          7.433332050665382,
          7.522743145743144,
          7.612154240820906,
          7.7015653358986675,
          7.7909764309764284,
          7.88038752605419,
          7.969798621131952,
          8.059209716209715,
          8.148620811287476,
          8.238031906365238,
          8.327443001443,
          8.416854096520762,
          8.506265191598523,
          8.595676286676285,
          8.685087381754046,
          8.774498476831809,
          8.86390957190957,
          8.953320666987333,
          9.042731762065094,
          9.132142857142856
         ],
         "y": [
          6.021230847012352,
          6.132556057896479,
          6.243881268780605,
          6.355206479664731,
          6.466531690548857,
          6.577856901432983,
          6.689182112317109,
          6.800507323201236,
          6.911832534085361,
          7.023157744969488,
          7.134482955853614,
          7.24580816673774,
          7.357133377621866,
          7.468458588505992,
          7.5797837993901185,
          7.6911090102742445,
          7.8024342211583715,
          7.913759432042497,
          8.025084642926624,
          8.136409853810749,
          8.247735064694876,
          8.359060275579,
          8.470385486463128,
          8.581710697347255,
          8.69303590823138,
          8.804361119115507,
          8.915686329999632,
          9.027011540883759,
          9.138336751767884,
          9.249661962652011,
          9.360987173536138,
          9.472312384420263,
          9.58363759530439,
          9.694962806188517,
          9.806288017072642,
          9.917613227956767,
          10.028938438840894,
          10.140263649725021,
          10.251588860609147,
          10.362914071493272,
          10.474239282377399,
          10.585564493261526,
          10.69688970414565,
          10.808214915029776,
          10.919540125913905,
          11.03086533679803,
          11.142190547682155,
          11.25351575856628,
          11.364840969450407,
          11.476166180334534,
          11.58749139121866,
          11.698816602102786,
          11.810141812986913,
          11.921467023871038,
          12.032792234755165,
          12.144117445639292,
          12.255442656523417,
          12.366767867407543,
          12.478093078291668,
          12.589418289175795,
          12.700743500059922,
          12.812068710944047,
          12.923393921828174,
          13.0347191327123,
          13.146044343596426,
          13.257369554480553,
          13.36869476536468,
          13.480019976248805,
          13.59134518713293,
          13.702670398017057,
          13.813995608901184,
          13.92532081978531,
          14.036646030669436,
          14.147971241553561,
          14.259296452437688,
          14.370621663321813,
          14.48194687420594,
          14.593272085090067,
          14.704597295974192,
          14.81592250685832,
          14.927247717742445,
          15.038572928626571,
          15.149898139510698,
          15.261223350394824,
          15.372548561278949,
          15.483873772163076,
          15.5951989830472,
          15.70652419393133,
          15.817849404815455,
          15.929174615699582,
          16.040499826583705,
          16.151825037467834,
          16.26315024835196,
          16.374475459236088,
          16.485800670120213,
          16.597125881004338,
          16.708451091888463,
          16.819776302772592,
          16.931101513656717,
          17.042426724540846
         ]
        },
        {
         "line": {
          "color": "#009E73",
          "dash": "dot"
         },
         "marker": {
          "line": {
           "color": "DarkSlateGrey",
           "width": 0
          },
          "size": 8
         },
         "mode": "lines",
         "name": "medium – CLASSIC_AT (r=0.34, p=0.221)",
         "type": "scatter",
         "x": [
          0.28044444444444444,
          0.3698555395222062,
          0.45926663459996786,
          0.5486777296777297,
          0.6380888247554913,
          0.727499919833253,
          0.8169110149110148,
          0.9063221099887766,
          0.9957332050665382,
          1.0851443001443,
          1.1745553952220618,
          1.2639664902998233,
          1.3533775853775851,
          1.442788680455347,
          1.5321997755331087,
          1.6216108706108703,
          1.711021965688632,
          1.8004330607663939,
          1.8898441558441554,
          1.9792552509219172,
          2.068666345999679,
          2.1580774410774404,
          2.247488536155202,
          2.336899631232964,
          2.4263107263107258,
          2.5157218213884875,
          2.6051329164662493,
          2.694544011544011,
          2.783955106621773,
          2.8733662016995343,
          2.962777296777296,
          3.052188391855058,
          3.1415994869328197,
          3.2310105820105814,
          3.3204216770883432,
          3.409832772166105,
          3.4992438672438664,
          3.588654962321628,
          3.67806605739939,
          3.7674771524771518,
          3.8568882475549136,
          3.9462993426326753,
          4.035710437710437,
          4.1251215327881985,
          4.21453262786596,
          4.303943722943721,
          4.393354818021483,
          4.482765913099245,
          4.572177008177007,
          4.661588103254768,
          4.75099919833253,
          4.840410293410292,
          4.929821388488054,
          5.0192324835658155,
          5.108643578643577,
          5.198054673721339,
          5.287465768799101,
          5.376876863876863,
          5.466287958954624,
          5.555699054032385,
          5.645110149110147,
          5.734521244187909,
          5.823932339265671,
          5.913343434343433,
          6.002754529421194,
          6.092165624498956,
          6.181576719576718,
          6.27098781465448,
          6.3603989097322415,
          6.449810004810003,
          6.539221099887765,
          6.628632194965526,
          6.718043290043288,
          6.80745438512105,
          6.896865480198811,
          6.986276575276573,
          7.075687670354335,
          7.165098765432097,
          7.254509860509859,
          7.34392095558762,
          7.433332050665382,
          7.522743145743144,
          7.612154240820906,
          7.7015653358986675,
          7.7909764309764284,
          7.88038752605419,
          7.969798621131952,
          8.059209716209715,
          8.148620811287476,
          8.238031906365238,
          8.327443001443,
          8.416854096520762,
          8.506265191598523,
          8.595676286676285,
          8.685087381754046,
          8.774498476831809,
          8.86390957190957,
          8.953320666987333,
          9.042731762065094,
          9.132142857142856
         ],
         "y": [
          7.09191287248286,
          7.137164632520435,
          7.18241639255801,
          7.227668152595585,
          7.27291991263316,
          7.318171672670735,
          7.363423432708309,
          7.408675192745885,
          7.453926952783459,
          7.499178712821034,
          7.544430472858609,
          7.589682232896184,
          7.6349339929337585,
          7.680185752971333,
          7.725437513008909,
          7.770689273046483,
          7.815941033084058,
          7.861192793121633,
          7.906444553159208,
          7.951696313196782,
          7.996948073234357,
          8.042199833271932,
          8.087451593309506,
          8.132703353347082,
          8.177955113384657,
          8.223206873422232,
          8.268458633459806,
          8.31371039349738,
          8.358962153534957,
          8.404213913572532,
          8.449465673610106,
          8.494717433647681,
          8.539969193685256,
          8.58522095372283,
          8.630472713760405,
          8.675724473797981,
          8.720976233835556,
          8.76622799387313,
          8.811479753910705,
          8.85673151394828,
          8.901983273985854,
          8.94723503402343,
          8.992486794061005,
          9.03773855409858,
          9.082990314136154,
          9.128242074173729,
          9.173493834211303,
          9.218745594248878,
          9.263997354286452,
          9.309249114324029,
          9.354500874361603,
          9.399752634399178,
          9.445004394436753,
          9.490256154474327,
          9.535507914511903,
          9.580759674549478,
          9.626011434587053,
          9.671263194624627,
          9.716514954662202,
          9.761766714699776,
          9.807018474737351,
          9.852270234774927,
          9.8975219948125,
          9.942773754850077,
          9.988025514887651,
          10.033277274925226,
          10.0785290349628,
          10.123780795000375,
          10.169032555037951,
          10.214284315075526,
          10.2595360751131,
          10.304787835150675,
          10.35003959518825,
          10.395291355225824,
          10.440543115263399,
          10.485794875300975,
          10.53104663533855,
          10.576298395376124,
          10.621550155413699,
          10.666801915451273,
          10.71205367548885,
          10.757305435526424,
          10.802557195563999,
          10.847808955601574,
          10.893060715639148,
          10.938312475676723,
          10.983564235714297,
          11.028815995751874,
          11.074067755789446,
          11.119319515827023,
          11.164571275864597,
          11.209823035902172,
          11.255074795939748,
          11.300326555977321,
          11.345578316014898,
          11.390830076052472,
          11.436081836090047,
          11.481333596127623,
          11.526585356165196,
          11.571837116202772
         ]
        }
       ],
       "layout": {
        "height": 400,
        "legend": {
         "bgcolor": "rgba(255,255,255,1)",
         "bordercolor": "lightgrey",
         "borderwidth": 1,
         "font": {
          "size": 12
         },
         "title": {
          "text": "Legend"
         },
         "tracegroupgap": 0,
         "y": 0.85
        },
        "margin": {
         "b": 0,
         "l": 0,
         "r": 0,
         "t": 0
        },
        "paper_bgcolor": "white",
        "plot_bgcolor": "white",
        "template": {
         "data": {
          "bar": [
           {
            "error_x": {
             "color": "#2a3f5f"
            },
            "error_y": {
             "color": "#2a3f5f"
            },
            "marker": {
             "line": {
              "color": "#E5ECF6",
              "width": 0.5
             },
             "pattern": {
              "fillmode": "overlay",
              "size": 10,
              "solidity": 0.2
             }
            },
            "type": "bar"
           }
          ],
          "barpolar": [
           {
            "marker": {
             "line": {
              "color": "#E5ECF6",
              "width": 0.5
             },
             "pattern": {
              "fillmode": "overlay",
              "size": 10,
              "solidity": 0.2
             }
            },
            "type": "barpolar"
           }
          ],
          "carpet": [
           {
            "aaxis": {
             "endlinecolor": "#2a3f5f",
             "gridcolor": "white",
             "linecolor": "white",
             "minorgridcolor": "white",
             "startlinecolor": "#2a3f5f"
            },
            "baxis": {
             "endlinecolor": "#2a3f5f",
             "gridcolor": "white",
             "linecolor": "white",
             "minorgridcolor": "white",
             "startlinecolor": "#2a3f5f"
            },
            "type": "carpet"
           }
          ],
          "choropleth": [
           {
            "colorbar": {
             "outlinewidth": 0,
             "ticks": ""
            },
            "type": "choropleth"
           }
          ],
          "contour": [
           {
            "colorbar": {
             "outlinewidth": 0,
             "ticks": ""
            },
            "colorscale": [
             [
              0,
              "#0d0887"
             ],
             [
              0.1111111111111111,
              "#46039f"
             ],
             [
              0.2222222222222222,
              "#7201a8"
             ],
             [
              0.3333333333333333,
              "#9c179e"
             ],
             [
              0.4444444444444444,
              "#bd3786"
             ],
             [
              0.5555555555555556,
              "#d8576b"
             ],
             [
              0.6666666666666666,
              "#ed7953"
             ],
             [
              0.7777777777777778,
              "#fb9f3a"
             ],
             [
              0.8888888888888888,
              "#fdca26"
             ],
             [
              1,
              "#f0f921"
             ]
            ],
            "type": "contour"
           }
          ],
          "contourcarpet": [
           {
            "colorbar": {
             "outlinewidth": 0,
             "ticks": ""
            },
            "type": "contourcarpet"
           }
          ],
          "heatmap": [
           {
            "colorbar": {
             "outlinewidth": 0,
             "ticks": ""
            },
            "colorscale": [
             [
              0,
              "#0d0887"
             ],
             [
              0.1111111111111111,
              "#46039f"
             ],
             [
              0.2222222222222222,
              "#7201a8"
             ],
             [
              0.3333333333333333,
              "#9c179e"
             ],
             [
              0.4444444444444444,
              "#bd3786"
             ],
             [
              0.5555555555555556,
              "#d8576b"
             ],
             [
              0.6666666666666666,
              "#ed7953"
             ],
             [
              0.7777777777777778,
              "#fb9f3a"
             ],
             [
              0.8888888888888888,
              "#fdca26"
             ],
             [
              1,
              "#f0f921"
             ]
            ],
            "type": "heatmap"
           }
          ],
          "heatmapgl": [
           {
            "colorbar": {
             "outlinewidth": 0,
             "ticks": ""
            },
            "colorscale": [
             [
              0,
              "#0d0887"
             ],
             [
              0.1111111111111111,
              "#46039f"
             ],
             [
              0.2222222222222222,
              "#7201a8"
             ],
             [
              0.3333333333333333,
              "#9c179e"
             ],
             [
              0.4444444444444444,
              "#bd3786"
             ],
             [
              0.5555555555555556,
              "#d8576b"
             ],
             [
              0.6666666666666666,
              "#ed7953"
             ],
             [
              0.7777777777777778,
              "#fb9f3a"
             ],
             [
              0.8888888888888888,
              "#fdca26"
             ],
             [
              1,
              "#f0f921"
             ]
            ],
            "type": "heatmapgl"
           }
          ],
          "histogram": [
           {
            "marker": {
             "pattern": {
              "fillmode": "overlay",
              "size": 10,
              "solidity": 0.2
             }
            },
            "type": "histogram"
           }
          ],
          "histogram2d": [
           {
            "colorbar": {
             "outlinewidth": 0,
             "ticks": ""
            },
            "colorscale": [
             [
              0,
              "#0d0887"
             ],
             [
              0.1111111111111111,
              "#46039f"
             ],
             [
              0.2222222222222222,
              "#7201a8"
             ],
             [
              0.3333333333333333,
              "#9c179e"
             ],
             [
              0.4444444444444444,
              "#bd3786"
             ],
             [
              0.5555555555555556,
              "#d8576b"
             ],
             [
              0.6666666666666666,
              "#ed7953"
             ],
             [
              0.7777777777777778,
              "#fb9f3a"
             ],
             [
              0.8888888888888888,
              "#fdca26"
             ],
             [
              1,
              "#f0f921"
             ]
            ],
            "type": "histogram2d"
           }
          ],
          "histogram2dcontour": [
           {
            "colorbar": {
             "outlinewidth": 0,
             "ticks": ""
            },
            "colorscale": [
             [
              0,
              "#0d0887"
             ],
             [
              0.1111111111111111,
              "#46039f"
             ],
             [
              0.2222222222222222,
              "#7201a8"
             ],
             [
              0.3333333333333333,
              "#9c179e"
             ],
             [
              0.4444444444444444,
              "#bd3786"
             ],
             [
              0.5555555555555556,
              "#d8576b"
             ],
             [
              0.6666666666666666,
              "#ed7953"
             ],
             [
              0.7777777777777778,
              "#fb9f3a"
             ],
             [
              0.8888888888888888,
              "#fdca26"
             ],
             [
              1,
              "#f0f921"
             ]
            ],
            "type": "histogram2dcontour"
           }
          ],
          "mesh3d": [
           {
            "colorbar": {
             "outlinewidth": 0,
             "ticks": ""
            },
            "type": "mesh3d"
           }
          ],
          "parcoords": [
           {
            "line": {
             "colorbar": {
              "outlinewidth": 0,
              "ticks": ""
             }
            },
            "type": "parcoords"
           }
          ],
          "pie": [
           {
            "automargin": true,
            "type": "pie"
           }
          ],
          "scatter": [
           {
            "fillpattern": {
             "fillmode": "overlay",
             "size": 10,
             "solidity": 0.2
            },
            "type": "scatter"
           }
          ],
          "scatter3d": [
           {
            "line": {
             "colorbar": {
              "outlinewidth": 0,
              "ticks": ""
             }
            },
            "marker": {
             "colorbar": {
              "outlinewidth": 0,
              "ticks": ""
             }
            },
            "type": "scatter3d"
           }
          ],
          "scattercarpet": [
           {
            "marker": {
             "colorbar": {
              "outlinewidth": 0,
              "ticks": ""
             }
            },
            "type": "scattercarpet"
           }
          ],
          "scattergeo": [
           {
            "marker": {
             "colorbar": {
              "outlinewidth": 0,
              "ticks": ""
             }
            },
            "type": "scattergeo"
           }
          ],
          "scattergl": [
           {
            "marker": {
             "colorbar": {
              "outlinewidth": 0,
              "ticks": ""
             }
            },
            "type": "scattergl"
           }
          ],
          "scattermapbox": [
           {
            "marker": {
             "colorbar": {
              "outlinewidth": 0,
              "ticks": ""
             }
            },
            "type": "scattermapbox"
           }
          ],
          "scatterpolar": [
           {
            "marker": {
             "colorbar": {
              "outlinewidth": 0,
              "ticks": ""
             }
            },
            "type": "scatterpolar"
           }
          ],
          "scatterpolargl": [
           {
            "marker": {
             "colorbar": {
              "outlinewidth": 0,
              "ticks": ""
             }
            },
            "type": "scatterpolargl"
           }
          ],
          "scatterternary": [
           {
            "marker": {
             "colorbar": {
              "outlinewidth": 0,
              "ticks": ""
             }
            },
            "type": "scatterternary"
           }
          ],
          "surface": [
           {
            "colorbar": {
             "outlinewidth": 0,
             "ticks": ""
            },
            "colorscale": [
             [
              0,
              "#0d0887"
             ],
             [
              0.1111111111111111,
              "#46039f"
             ],
             [
              0.2222222222222222,
              "#7201a8"
             ],
             [
              0.3333333333333333,
              "#9c179e"
             ],
             [
              0.4444444444444444,
              "#bd3786"
             ],
             [
              0.5555555555555556,
              "#d8576b"
             ],
             [
              0.6666666666666666,
              "#ed7953"
             ],
             [
              0.7777777777777778,
              "#fb9f3a"
             ],
             [
              0.8888888888888888,
              "#fdca26"
             ],
             [
              1,
              "#f0f921"
             ]
            ],
            "type": "surface"
           }
          ],
          "table": [
           {
            "cells": {
             "fill": {
              "color": "#EBF0F8"
             },
             "line": {
              "color": "white"
             }
            },
            "header": {
             "fill": {
              "color": "#C8D4E3"
             },
             "line": {
              "color": "white"
             }
            },
            "type": "table"
           }
          ]
         },
         "layout": {
          "annotationdefaults": {
           "arrowcolor": "#2a3f5f",
           "arrowhead": 0,
           "arrowwidth": 1
          },
          "autotypenumbers": "strict",
          "coloraxis": {
           "colorbar": {
            "outlinewidth": 0,
            "ticks": ""
           }
          },
          "colorscale": {
           "diverging": [
            [
             0,
             "#8e0152"
            ],
            [
             0.1,
             "#c51b7d"
            ],
            [
             0.2,
             "#de77ae"
            ],
            [
             0.3,
             "#f1b6da"
            ],
            [
             0.4,
             "#fde0ef"
            ],
            [
             0.5,
             "#f7f7f7"
            ],
            [
             0.6,
             "#e6f5d0"
            ],
            [
             0.7,
             "#b8e186"
            ],
            [
             0.8,
             "#7fbc41"
            ],
            [
             0.9,
             "#4d9221"
            ],
            [
             1,
             "#276419"
            ]
           ],
           "sequential": [
            [
             0,
             "#0d0887"
            ],
            [
             0.1111111111111111,
             "#46039f"
            ],
            [
             0.2222222222222222,
             "#7201a8"
            ],
            [
             0.3333333333333333,
             "#9c179e"
            ],
            [
             0.4444444444444444,
             "#bd3786"
            ],
            [
             0.5555555555555556,
             "#d8576b"
            ],
            [
             0.6666666666666666,
             "#ed7953"
            ],
            [
             0.7777777777777778,
             "#fb9f3a"
            ],
            [
             0.8888888888888888,
             "#fdca26"
            ],
            [
             1,
             "#f0f921"
            ]
           ],
           "sequentialminus": [
            [
             0,
             "#0d0887"
            ],
            [
             0.1111111111111111,
             "#46039f"
            ],
            [
             0.2222222222222222,
             "#7201a8"
            ],
            [
             0.3333333333333333,
             "#9c179e"
            ],
            [
             0.4444444444444444,
             "#bd3786"
            ],
            [
             0.5555555555555556,
             "#d8576b"
            ],
            [
             0.6666666666666666,
             "#ed7953"
            ],
            [
             0.7777777777777778,
             "#fb9f3a"
            ],
            [
             0.8888888888888888,
             "#fdca26"
            ],
            [
             1,
             "#f0f921"
            ]
           ]
          },
          "colorway": [
           "#636efa",
           "#EF553B",
           "#00cc96",
           "#ab63fa",
           "#FFA15A",
           "#19d3f3",
           "#FF6692",
           "#B6E880",
           "#FF97FF",
           "#FECB52"
          ],
          "font": {
           "color": "#2a3f5f"
          },
          "geo": {
           "bgcolor": "white",
           "lakecolor": "white",
           "landcolor": "#E5ECF6",
           "showlakes": true,
           "showland": true,
           "subunitcolor": "white"
          },
          "hoverlabel": {
           "align": "left"
          },
          "hovermode": "closest",
          "mapbox": {
           "style": "light"
          },
          "paper_bgcolor": "white",
          "plot_bgcolor": "#E5ECF6",
          "polar": {
           "angularaxis": {
            "gridcolor": "white",
            "linecolor": "white",
            "ticks": ""
           },
           "bgcolor": "#E5ECF6",
           "radialaxis": {
            "gridcolor": "white",
            "linecolor": "white",
            "ticks": ""
           }
          },
          "scene": {
           "xaxis": {
            "backgroundcolor": "#E5ECF6",
            "gridcolor": "white",
            "gridwidth": 2,
            "linecolor": "white",
            "showbackground": true,
            "ticks": "",
            "zerolinecolor": "white"
           },
           "yaxis": {
            "backgroundcolor": "#E5ECF6",
            "gridcolor": "white",
            "gridwidth": 2,
            "linecolor": "white",
            "showbackground": true,
            "ticks": "",
            "zerolinecolor": "white"
           },
           "zaxis": {
            "backgroundcolor": "#E5ECF6",
            "gridcolor": "white",
            "gridwidth": 2,
            "linecolor": "white",
            "showbackground": true,
            "ticks": "",
            "zerolinecolor": "white"
           }
          },
          "shapedefaults": {
           "line": {
            "color": "#2a3f5f"
           }
          },
          "ternary": {
           "aaxis": {
            "gridcolor": "white",
            "linecolor": "white",
            "ticks": ""
           },
           "baxis": {
            "gridcolor": "white",
            "linecolor": "white",
            "ticks": ""
           },
           "bgcolor": "#E5ECF6",
           "caxis": {
            "gridcolor": "white",
            "linecolor": "white",
            "ticks": ""
           }
          },
          "title": {
           "x": 0.05
          },
          "xaxis": {
           "automargin": true,
           "gridcolor": "white",
           "linecolor": "white",
           "ticks": "",
           "title": {
            "standoff": 15
           },
           "zerolinecolor": "white",
           "zerolinewidth": 2
          },
          "yaxis": {
           "automargin": true,
           "gridcolor": "white",
           "linecolor": "white",
           "ticks": "",
           "title": {
            "standoff": 15
           },
           "zerolinecolor": "white",
           "zerolinewidth": 2
          }
         }
        },
        "width": 800,
        "xaxis": {
         "anchor": "y",
         "domain": [
          0,
          1
         ],
         "gridcolor": "lightgrey",
         "range": [
          -0.25,
          8.25
         ],
         "showgrid": true,
         "title": {
          "text": "LP (50 epochs)"
         }
        },
        "yaxis": {
         "anchor": "x",
         "domain": [
          0,
          1
         ],
         "gridcolor": "lightgrey",
         "range": [
          0,
          20
         ],
         "showgrid": true,
         "title": {
          "text": "FFT (50 epochs)"
         }
        }
       }
      }
     },
     "metadata": {},
     "output_type": "display_data"
    }
   ],
   "source": [
    "import pandas as pd\n",
    "import plotly.express as px\n",
    "import plotly.graph_objects as go\n",
    "from scipy.stats import spearmanr\n",
    "import numpy as np\n",
    "from numpy.linalg import LinAlgError\n",
    "from scipy.stats import linregress\n",
    "\n",
    "import pandas as pd\n",
    "from scipy.stats import spearmanr, pearsonr\n",
    "from process_database import process_grouped_df, process_rankings,global_grouped_dataset\n",
    "\n",
    "\n",
    "grouped_df = global_grouped_dataset(df,)\n",
    "grouped_df = process_rankings(grouped_df)\n",
    "# Flatten the columns\n",
    "grouped_df.columns = ['_'.join(col).strip() if isinstance(col, tuple) else col for col in grouped_df.columns]\n",
    "grouped_df = grouped_df.reset_index()\n",
    "sub_df = grouped_df[[\"ft_strategy\", \"model_type\", \"model_size\", \"backbone\", \"loss_function\", \"TOTAL_score_sum\"]]\n",
    "\n",
    "# ── 1.  Reshape: one row per backbone × loss_function, one column per project\n",
    "pivot_df = sub_df.pivot_table(\n",
    "    index=[\"backbone\", \"loss_function\",  \"model_type\", \"model_size\",],\n",
    "    columns=\"ft_strategy\",\n",
    "    values=\"TOTAL_score_sum\"\n",
    ").reset_index()\n",
    "\n",
    "symbol_map = {\"TRADES_v2\": \"diamond\", \"CLASSIC_AT\": \"star\"}\n",
    "\n",
    "color_palette = [\"#E69F00\", \"#56B4E9\",  \"#009E73\",  ] # \"#009E73\", \"#F0E442\", \"#0072B2\",\"#CC79A7\", \"#D55E00\",\n",
    "unique_sizes = pivot_df[\"model_size\"].unique()\n",
    "color_map = {size: color_palette[i % len(color_palette)] for i, size in enumerate(unique_sizes)}\n",
    "\n",
    "\n",
    "for (x1,x2) in [ (\"FFT (5 epochs)\", \"FFT (50 epochs)\"), (\"LP (50 epochs)\", \"FFT (50 epochs)\") ]:\n",
    "\n",
    "    # Global correlation\n",
    "    pivot_df = pivot_df.fillna(0)\n",
    "    x = pivot_df[x1]\n",
    "    y = pivot_df[x2]\n",
    "    r_global, p_global = spearmanr(x, y)\n",
    "    try:\n",
    "        # m_global, b_global = np.polyfit(x, y, 1)\n",
    "        m_global, b_global, r, p, _ = linregress(x, y)\n",
    "    except Exception as e:\n",
    "        print(f\"Warning: polyfit failed with error: {e}\")\n",
    "        m_global, b_global = 0, y.mean()  # or any safe fallback\n",
    "    x_range = np.linspace(x.min(), x.max(), 100)\n",
    "\n",
    "    # Base scatter plot\n",
    "    fig = px.scatter(\n",
    "        pivot_df,\n",
    "        x=x1,\n",
    "        y=x2,\n",
    "        color=\"model_size\",\n",
    "        symbol=\"loss_function\",\n",
    "        symbol_map=symbol_map,\n",
    "        color_discrete_map=color_map,\n",
    "        labels={\n",
    "            \"full_fine_tuning_5epochs\": \"Fine-tuning (5 epochs)\",\n",
    "            \"full_fine_tuning_50epochs\": \"Fine-tuning (50 epochs)\",\n",
    "            \"linearprobe_50epochs\": \"Linear-probing (50 epochs)\"\n",
    "        },\n",
    "        #title=\"Fine-Tuning Correlation (5 vs 50 Epochs)\"\n",
    "    )\n",
    "\n",
    "    # Global black line\n",
    "    fig.add_trace(go.Scatter(\n",
    "        x=x_range,\n",
    "        y=m_global * x_range + b_global,\n",
    "        mode=\"lines\",\n",
    "        line=dict(color=\"black\", dash=\"solid\", width=2),\n",
    "        name=f\"Global (r={r_global:.2f}, p={p_global:.3f})\"\n",
    "    ))\n",
    "\n",
    "\n",
    "\n",
    "    # Add per-group lines\n",
    "    for model_size in pivot_df[\"model_size\"].unique():\n",
    "        for loss_function, style in zip([\"TRADES_v2\", \"CLASSIC_AT\"], [\"solid\", \"dot\"]):\n",
    "            subset = pivot_df[(pivot_df[\"model_size\"] == model_size) & (pivot_df[\"loss_function\"] == loss_function)]\n",
    "            if len(subset) >= 2:\n",
    "                xg, yg = subset[x1], subset[x2]\n",
    "                rg, pg = spearmanr(xg, yg)\n",
    "\n",
    "                try:\n",
    "                    mg, bg, r, p, _ = linregress(xg, yg)\n",
    "                except Exception as e:\n",
    "                    print(f\"Warning: polyfit failed with error: {e}\")\n",
    "                    mg, bg = 0, yg.mean()  # or any safe fallback\n",
    "                    \n",
    "                fig.add_trace(go.Scatter(\n",
    "                    x=x_range,\n",
    "                    y=mg * x_range + bg,\n",
    "                    mode=\"lines\",\n",
    "                    line=dict(color=color_map[model_size], dash=style),\n",
    "                    name=f\"{model_size} – {loss_function} (r={rg:.2f}, p={pg:.3f})\"\n",
    "                ))\n",
    "\n",
    "    fig.update_layout(yaxis=dict(range=[0, 20]),)\n",
    "    fig.update_layout(xaxis=dict(range=[-0.25, 8.25]),)\n",
    "    # Layout tweaks\n",
    "    fig.update_traces(marker=dict(size=8, line=dict(width=0, color='DarkSlateGrey')))\n",
    "    fig.update_layout(\n",
    "        margin=dict(l=0, r=0, t=0, b=0),  # remove all outer margins\n",
    "        width=800, #if x1=='full_fine_tuning_5epochs' else 488 ,    # in pixels (~2.5 inches at 96 DPI)\n",
    "        height=400,    # in pixels (~1.875 inches)\n",
    "        plot_bgcolor=\"white\",\n",
    "        paper_bgcolor=\"white\",\n",
    "        xaxis=dict(showgrid=True, gridcolor=\"lightgrey\"),\n",
    "        yaxis=dict(showgrid=True, gridcolor=\"lightgrey\"),\n",
    "        legend_title_text=\"Legend\",\n",
    "        #showlegend = True if x1=='full_fine_tuning_5epochs' else False,\n",
    "\n",
    "                    # Legend inside figure\n",
    "        legend=dict(\n",
    "                font=dict(size=12),\n",
    "                y=0.85,           # optional: near the top\n",
    "                bgcolor=\"rgba(255,255,255,1)\",\n",
    "                bordercolor=\"lightgrey\",\n",
    "                borderwidth=1\n",
    "            )\n",
    "    )\n",
    "\n",
    "    fig.show()\n",
    "    fig.write_image(\"./paper_figures/low_cost_proxy_{}.png\".format(x1,x2), scale=3  )\n"
   ]
  },
  {
   "cell_type": "code",
   "execution_count": 7,
   "metadata": {},
   "outputs": [
    {
     "name": "stdout",
     "output_type": "stream",
     "text": [
      "Percentage of NaN values: 0.17%\n"
     ]
    },
    {
     "data": {
      "text/html": [
       "<div>\n",
       "<style scoped>\n",
       "    .dataframe tbody tr th:only-of-type {\n",
       "        vertical-align: middle;\n",
       "    }\n",
       "\n",
       "    .dataframe tbody tr th {\n",
       "        vertical-align: top;\n",
       "    }\n",
       "\n",
       "    .dataframe thead th {\n",
       "        text-align: right;\n",
       "    }\n",
       "</style>\n",
       "<table border=\"1\" class=\"dataframe\">\n",
       "  <thead>\n",
       "    <tr style=\"text-align: right;\">\n",
       "      <th></th>\n",
       "      <th>fts</th>\n",
       "      <th>cond</th>\n",
       "      <th>trades_wins</th>\n",
       "      <th>classic_wins</th>\n",
       "      <th>odds_ratio</th>\n",
       "      <th>p_value</th>\n",
       "    </tr>\n",
       "  </thead>\n",
       "  <tbody>\n",
       "    <tr>\n",
       "      <th>0</th>\n",
       "      <td>FFT (50 epochs)</td>\n",
       "      <td>large</td>\n",
       "      <td>18</td>\n",
       "      <td>0</td>\n",
       "      <td>inf</td>\n",
       "      <td>2.203824e-10</td>\n",
       "    </tr>\n",
       "    <tr>\n",
       "      <th>1</th>\n",
       "      <td>FFT (5 epochs)</td>\n",
       "      <td>large</td>\n",
       "      <td>15</td>\n",
       "      <td>3</td>\n",
       "      <td>25.000000</td>\n",
       "      <td>1.519735e-04</td>\n",
       "    </tr>\n",
       "    <tr>\n",
       "      <th>2</th>\n",
       "      <td>LP (50 epochs)</td>\n",
       "      <td>large</td>\n",
       "      <td>15</td>\n",
       "      <td>3</td>\n",
       "      <td>25.000000</td>\n",
       "      <td>1.519735e-04</td>\n",
       "    </tr>\n",
       "    <tr>\n",
       "      <th>3</th>\n",
       "      <td>FFT (50 epochs)</td>\n",
       "      <td>medium</td>\n",
       "      <td>11</td>\n",
       "      <td>4</td>\n",
       "      <td>7.562500</td>\n",
       "      <td>2.683773e-02</td>\n",
       "    </tr>\n",
       "    <tr>\n",
       "      <th>4</th>\n",
       "      <td>FFT (5 epochs)</td>\n",
       "      <td>medium</td>\n",
       "      <td>7</td>\n",
       "      <td>8</td>\n",
       "      <td>0.765625</td>\n",
       "      <td>1.000000e+00</td>\n",
       "    </tr>\n",
       "    <tr>\n",
       "      <th>5</th>\n",
       "      <td>LP (50 epochs)</td>\n",
       "      <td>medium</td>\n",
       "      <td>10</td>\n",
       "      <td>5</td>\n",
       "      <td>4.000000</td>\n",
       "      <td>1.431110e-01</td>\n",
       "    </tr>\n",
       "    <tr>\n",
       "      <th>6</th>\n",
       "      <td>FFT (50 epochs)</td>\n",
       "      <td>small</td>\n",
       "      <td>4</td>\n",
       "      <td>3</td>\n",
       "      <td>1.777778</td>\n",
       "      <td>1.000000e+00</td>\n",
       "    </tr>\n",
       "    <tr>\n",
       "      <th>7</th>\n",
       "      <td>FFT (5 epochs)</td>\n",
       "      <td>small</td>\n",
       "      <td>4</td>\n",
       "      <td>3</td>\n",
       "      <td>1.777778</td>\n",
       "      <td>1.000000e+00</td>\n",
       "    </tr>\n",
       "    <tr>\n",
       "      <th>8</th>\n",
       "      <td>LP (50 epochs)</td>\n",
       "      <td>small</td>\n",
       "      <td>3</td>\n",
       "      <td>4</td>\n",
       "      <td>0.562500</td>\n",
       "      <td>1.000000e+00</td>\n",
       "    </tr>\n",
       "  </tbody>\n",
       "</table>\n",
       "</div>"
      ],
      "text/plain": [
       "               fts    cond  trades_wins  classic_wins  odds_ratio  \\\n",
       "0  FFT (50 epochs)   large           18             0         inf   \n",
       "1   FFT (5 epochs)   large           15             3   25.000000   \n",
       "2   LP (50 epochs)   large           15             3   25.000000   \n",
       "3  FFT (50 epochs)  medium           11             4    7.562500   \n",
       "4   FFT (5 epochs)  medium            7             8    0.765625   \n",
       "5   LP (50 epochs)  medium           10             5    4.000000   \n",
       "6  FFT (50 epochs)   small            4             3    1.777778   \n",
       "7   FFT (5 epochs)   small            4             3    1.777778   \n",
       "8   LP (50 epochs)   small            3             4    0.562500   \n",
       "\n",
       "        p_value  \n",
       "0  2.203824e-10  \n",
       "1  1.519735e-04  \n",
       "2  1.519735e-04  \n",
       "3  2.683773e-02  \n",
       "4  1.000000e+00  \n",
       "5  1.431110e-01  \n",
       "6  1.000000e+00  \n",
       "7  1.000000e+00  \n",
       "8  1.000000e+00  "
      ]
     },
     "execution_count": 7,
     "metadata": {},
     "output_type": "execute_result"
    }
   ],
   "source": [
    "import pandas as pd\n",
    "from scipy.stats import fisher_exact\n",
    "from process_database import process_grouped_df, process_rankings\n",
    "from load_results import load_result_dataset\n",
    "\n",
    "# Collector for odds ratios and p-values\n",
    "results = []\n",
    "# group = 'model_type'\n",
    "# group = 'pre_training_strategy'\n",
    "group = 'model_size'\n",
    "\n",
    "grouped_df = process_grouped_df(final_data)\n",
    "grouped_df = process_rankings(grouped_df)\n",
    "odds_df = grouped_df['TOTAL'].reset_index()\n",
    "# Unique ID for observation\n",
    "index_cols = ['backbone', 'pre_training_strategy', 'model_type', 'model_size', 'ft_strategy']\n",
    "score_col = \"score_sum\"\n",
    "\n",
    "for cond in set(odds_df[group] ):\n",
    "\n",
    "        subset = odds_df[ odds_df[group] == cond ]\n",
    "\n",
    "        pivot = subset.pivot_table(\n",
    "                        index=index_cols,\n",
    "                        columns=\"loss_function\",\n",
    "                        values=score_col ).dropna()\n",
    "        \n",
    "                # Pairwise TRADES vs CLASSIC\n",
    "        pivot[\"winner\"] = pivot.apply(\n",
    "                        lambda row: \"TRADES\" if row[\"TRADES_v2\"] > row[\"CLASSIC_AT\"]\n",
    "                        else \"CLASSIC\" if row[\"TRADES_v2\"] < row[\"CLASSIC_AT\"]\n",
    "                        else \"TIE\",\n",
    "                        axis=1\n",
    "                        )\n",
    "        \n",
    "        # wins = pivot[pivot[\"winner\"] != \"TIE\"]\n",
    "        # trades_wins = (wins[\"winner\"] == \"TRADES\").sum()\n",
    "        # classic_wins = (wins[\"winner\"] == \"CLASSIC\").sum()\n",
    "\n",
    "        # table = [[trades_wins, classic_wins], [classic_wins, trades_wins]]\n",
    "        #         # table = [[trades_wins, classic_wins], [classic_wins, trades_wins]]\n",
    "        # odds_ratio, p_value = fisher_exact(table)\n",
    "\n",
    "        # results.append({\n",
    "        #         # \"fts\": fts,\n",
    "        #         \"cond\": cond,\n",
    "        #         \"trades_wins\": trades_wins,\n",
    "        #         \"classic_wins\": classic_wins,\n",
    "        #         \"odds_ratio\": odds_ratio,\n",
    "        #         \"p_value\": p_value })\n",
    "        \n",
    "        \n",
    "\n",
    "\n",
    "        for fts in [ \"FFT (50 epochs)\", \"FFT (5 epochs)\", \"LP (50 epochs)\" ]:\n",
    "                 \n",
    "                pivot2 = pivot.reset_index()\n",
    "                pivot2 = pivot2[ pivot2.ft_strategy == fts ]\n",
    "\n",
    "                wins = pivot2[pivot2[\"winner\"] != \"TIE\"]\n",
    "                trades_wins = (wins[\"winner\"] == \"TRADES\").sum()\n",
    "                classic_wins = (wins[\"winner\"] == \"CLASSIC\").sum()\n",
    "\n",
    "                table = [[trades_wins, classic_wins], [classic_wins, trades_wins]]\n",
    "                # table = [[trades_wins, classic_wins], [classic_wins, trades_wins]]\n",
    "                odds_ratio, p_value = fisher_exact(table)\n",
    "\n",
    "                # Collect result\n",
    "                results.append({\n",
    "                                \"fts\": fts,\n",
    "                                \"cond\": cond,\n",
    "                                \"trades_wins\": trades_wins,\n",
    "                                \"classic_wins\": classic_wins,\n",
    "                                \"odds_ratio\": odds_ratio,\n",
    "                                \"p_value\": p_value\n",
    "                                })\n",
    "\n",
    "# Convert to DataFrame\n",
    "results_df = pd.DataFrame(results)\n",
    "results_df"
   ]
  },
  {
   "cell_type": "code",
   "execution_count": 13,
   "metadata": {},
   "outputs": [
    {
     "data": {
      "application/vnd.plotly.v1+json": {
       "config": {
        "plotlyServerURL": "https://plot.ly"
       },
       "data": [
        {
         "alignmentgroup": "True",
         "cliponaxis": false,
         "hovertemplate": "fts=FFT (50 epochs)<br>model_size=%{x}<br>Odds Ratio=%{y}<br>text_label=%{text}<extra></extra>",
         "legendgroup": "FFT (50 epochs)",
         "marker": {
          "color": "#636efa",
          "pattern": {
           "shape": ""
          }
         },
         "name": "FFT (50 epochs)",
         "offsetgroup": "FFT (50 epochs)",
         "orientation": "v",
         "showlegend": true,
         "text": [
          "27.50<br>(p=0.000)<br>n=18",
          "7.56<br>(p=0.027)<br>n=15",
          "1.78<br>(p=1.000)<br>n=7"
         ],
         "textangle": -90,
         "textfont": {
          "size": 10
         },
         "textposition": "outside",
         "type": "bar",
         "x": [
          "large",
          "medium",
          "small"
         ],
         "xaxis": "x",
         "y": [
          27.500000000000004,
          7.5625,
          1.7777777777777777
         ],
         "yaxis": "y"
        },
        {
         "alignmentgroup": "True",
         "cliponaxis": false,
         "hovertemplate": "fts=FFT (5 epochs)<br>model_size=%{x}<br>Odds Ratio=%{y}<br>text_label=%{text}<extra></extra>",
         "legendgroup": "FFT (5 epochs)",
         "marker": {
          "color": "#EF553B",
          "pattern": {
           "shape": ""
          }
         },
         "name": "FFT (5 epochs)",
         "offsetgroup": "FFT (5 epochs)",
         "orientation": "v",
         "showlegend": true,
         "text": [
          "25<br>(p=0.000)<br>n=18",
          "0.77<br>(p=1.000)<br>n=15",
          "1.78<br>(p=1.000)<br>n=7"
         ],
         "textangle": -90,
         "textfont": {
          "size": 10
         },
         "textposition": "outside",
         "type": "bar",
         "x": [
          "large",
          "medium",
          "small"
         ],
         "xaxis": "x",
         "y": [
          25,
          0.765625,
          1.7777777777777777
         ],
         "yaxis": "y"
        },
        {
         "alignmentgroup": "True",
         "cliponaxis": false,
         "hovertemplate": "fts=LP (50 epochs)<br>model_size=%{x}<br>Odds Ratio=%{y}<br>text_label=%{text}<extra></extra>",
         "legendgroup": "LP (50 epochs)",
         "marker": {
          "color": "#00cc96",
          "pattern": {
           "shape": ""
          }
         },
         "name": "LP (50 epochs)",
         "offsetgroup": "LP (50 epochs)",
         "orientation": "v",
         "showlegend": true,
         "text": [
          "25<br>(p=0.000)<br>n=18",
          "4<br>(p=0.143)<br>n=15",
          "0.56<br>(p=1.000)<br>n=7"
         ],
         "textangle": -90,
         "textfont": {
          "size": 10
         },
         "textposition": "outside",
         "type": "bar",
         "x": [
          "large",
          "medium",
          "small"
         ],
         "xaxis": "x",
         "y": [
          25,
          4,
          0.5625
         ],
         "yaxis": "y"
        }
       ],
       "layout": {
        "barmode": "group",
        "height": 400,
        "legend": {
         "bgcolor": "rgba(255,255,255,1)",
         "bordercolor": "lightgrey",
         "borderwidth": 1,
         "font": {
          "size": 12
         },
         "title": {
          "text": "fts"
         },
         "tracegroupgap": 0,
         "x": 0.5,
         "xanchor": "left",
         "y": 1.15,
         "yanchor": "top"
        },
        "margin": {
         "b": 0,
         "l": 0,
         "r": 0,
         "t": 0
        },
        "paper_bgcolor": "white",
        "plot_bgcolor": "white",
        "template": {
         "data": {
          "bar": [
           {
            "error_x": {
             "color": "#2a3f5f"
            },
            "error_y": {
             "color": "#2a3f5f"
            },
            "marker": {
             "line": {
              "color": "#E5ECF6",
              "width": 0.5
             },
             "pattern": {
              "fillmode": "overlay",
              "size": 10,
              "solidity": 0.2
             }
            },
            "type": "bar"
           }
          ],
          "barpolar": [
           {
            "marker": {
             "line": {
              "color": "#E5ECF6",
              "width": 0.5
             },
             "pattern": {
              "fillmode": "overlay",
              "size": 10,
              "solidity": 0.2
             }
            },
            "type": "barpolar"
           }
          ],
          "carpet": [
           {
            "aaxis": {
             "endlinecolor": "#2a3f5f",
             "gridcolor": "white",
             "linecolor": "white",
             "minorgridcolor": "white",
             "startlinecolor": "#2a3f5f"
            },
            "baxis": {
             "endlinecolor": "#2a3f5f",
             "gridcolor": "white",
             "linecolor": "white",
             "minorgridcolor": "white",
             "startlinecolor": "#2a3f5f"
            },
            "type": "carpet"
           }
          ],
          "choropleth": [
           {
            "colorbar": {
             "outlinewidth": 0,
             "ticks": ""
            },
            "type": "choropleth"
           }
          ],
          "contour": [
           {
            "colorbar": {
             "outlinewidth": 0,
             "ticks": ""
            },
            "colorscale": [
             [
              0,
              "#0d0887"
             ],
             [
              0.1111111111111111,
              "#46039f"
             ],
             [
              0.2222222222222222,
              "#7201a8"
             ],
             [
              0.3333333333333333,
              "#9c179e"
             ],
             [
              0.4444444444444444,
              "#bd3786"
             ],
             [
              0.5555555555555556,
              "#d8576b"
             ],
             [
              0.6666666666666666,
              "#ed7953"
             ],
             [
              0.7777777777777778,
              "#fb9f3a"
             ],
             [
              0.8888888888888888,
              "#fdca26"
             ],
             [
              1,
              "#f0f921"
             ]
            ],
            "type": "contour"
           }
          ],
          "contourcarpet": [
           {
            "colorbar": {
             "outlinewidth": 0,
             "ticks": ""
            },
            "type": "contourcarpet"
           }
          ],
          "heatmap": [
           {
            "colorbar": {
             "outlinewidth": 0,
             "ticks": ""
            },
            "colorscale": [
             [
              0,
              "#0d0887"
             ],
             [
              0.1111111111111111,
              "#46039f"
             ],
             [
              0.2222222222222222,
              "#7201a8"
             ],
             [
              0.3333333333333333,
              "#9c179e"
             ],
             [
              0.4444444444444444,
              "#bd3786"
             ],
             [
              0.5555555555555556,
              "#d8576b"
             ],
             [
              0.6666666666666666,
              "#ed7953"
             ],
             [
              0.7777777777777778,
              "#fb9f3a"
             ],
             [
              0.8888888888888888,
              "#fdca26"
             ],
             [
              1,
              "#f0f921"
             ]
            ],
            "type": "heatmap"
           }
          ],
          "heatmapgl": [
           {
            "colorbar": {
             "outlinewidth": 0,
             "ticks": ""
            },
            "colorscale": [
             [
              0,
              "#0d0887"
             ],
             [
              0.1111111111111111,
              "#46039f"
             ],
             [
              0.2222222222222222,
              "#7201a8"
             ],
             [
              0.3333333333333333,
              "#9c179e"
             ],
             [
              0.4444444444444444,
              "#bd3786"
             ],
             [
              0.5555555555555556,
              "#d8576b"
             ],
             [
              0.6666666666666666,
              "#ed7953"
             ],
             [
              0.7777777777777778,
              "#fb9f3a"
             ],
             [
              0.8888888888888888,
              "#fdca26"
             ],
             [
              1,
              "#f0f921"
             ]
            ],
            "type": "heatmapgl"
           }
          ],
          "histogram": [
           {
            "marker": {
             "pattern": {
              "fillmode": "overlay",
              "size": 10,
              "solidity": 0.2
             }
            },
            "type": "histogram"
           }
          ],
          "histogram2d": [
           {
            "colorbar": {
             "outlinewidth": 0,
             "ticks": ""
            },
            "colorscale": [
             [
              0,
              "#0d0887"
             ],
             [
              0.1111111111111111,
              "#46039f"
             ],
             [
              0.2222222222222222,
              "#7201a8"
             ],
             [
              0.3333333333333333,
              "#9c179e"
             ],
             [
              0.4444444444444444,
              "#bd3786"
             ],
             [
              0.5555555555555556,
              "#d8576b"
             ],
             [
              0.6666666666666666,
              "#ed7953"
             ],
             [
              0.7777777777777778,
              "#fb9f3a"
             ],
             [
              0.8888888888888888,
              "#fdca26"
             ],
             [
              1,
              "#f0f921"
             ]
            ],
            "type": "histogram2d"
           }
          ],
          "histogram2dcontour": [
           {
            "colorbar": {
             "outlinewidth": 0,
             "ticks": ""
            },
            "colorscale": [
             [
              0,
              "#0d0887"
             ],
             [
              0.1111111111111111,
              "#46039f"
             ],
             [
              0.2222222222222222,
              "#7201a8"
             ],
             [
              0.3333333333333333,
              "#9c179e"
             ],
             [
              0.4444444444444444,
              "#bd3786"
             ],
             [
              0.5555555555555556,
              "#d8576b"
             ],
             [
              0.6666666666666666,
              "#ed7953"
             ],
             [
              0.7777777777777778,
              "#fb9f3a"
             ],
             [
              0.8888888888888888,
              "#fdca26"
             ],
             [
              1,
              "#f0f921"
             ]
            ],
            "type": "histogram2dcontour"
           }
          ],
          "mesh3d": [
           {
            "colorbar": {
             "outlinewidth": 0,
             "ticks": ""
            },
            "type": "mesh3d"
           }
          ],
          "parcoords": [
           {
            "line": {
             "colorbar": {
              "outlinewidth": 0,
              "ticks": ""
             }
            },
            "type": "parcoords"
           }
          ],
          "pie": [
           {
            "automargin": true,
            "type": "pie"
           }
          ],
          "scatter": [
           {
            "fillpattern": {
             "fillmode": "overlay",
             "size": 10,
             "solidity": 0.2
            },
            "type": "scatter"
           }
          ],
          "scatter3d": [
           {
            "line": {
             "colorbar": {
              "outlinewidth": 0,
              "ticks": ""
             }
            },
            "marker": {
             "colorbar": {
              "outlinewidth": 0,
              "ticks": ""
             }
            },
            "type": "scatter3d"
           }
          ],
          "scattercarpet": [
           {
            "marker": {
             "colorbar": {
              "outlinewidth": 0,
              "ticks": ""
             }
            },
            "type": "scattercarpet"
           }
          ],
          "scattergeo": [
           {
            "marker": {
             "colorbar": {
              "outlinewidth": 0,
              "ticks": ""
             }
            },
            "type": "scattergeo"
           }
          ],
          "scattergl": [
           {
            "marker": {
             "colorbar": {
              "outlinewidth": 0,
              "ticks": ""
             }
            },
            "type": "scattergl"
           }
          ],
          "scattermapbox": [
           {
            "marker": {
             "colorbar": {
              "outlinewidth": 0,
              "ticks": ""
             }
            },
            "type": "scattermapbox"
           }
          ],
          "scatterpolar": [
           {
            "marker": {
             "colorbar": {
              "outlinewidth": 0,
              "ticks": ""
             }
            },
            "type": "scatterpolar"
           }
          ],
          "scatterpolargl": [
           {
            "marker": {
             "colorbar": {
              "outlinewidth": 0,
              "ticks": ""
             }
            },
            "type": "scatterpolargl"
           }
          ],
          "scatterternary": [
           {
            "marker": {
             "colorbar": {
              "outlinewidth": 0,
              "ticks": ""
             }
            },
            "type": "scatterternary"
           }
          ],
          "surface": [
           {
            "colorbar": {
             "outlinewidth": 0,
             "ticks": ""
            },
            "colorscale": [
             [
              0,
              "#0d0887"
             ],
             [
              0.1111111111111111,
              "#46039f"
             ],
             [
              0.2222222222222222,
              "#7201a8"
             ],
             [
              0.3333333333333333,
              "#9c179e"
             ],
             [
              0.4444444444444444,
              "#bd3786"
             ],
             [
              0.5555555555555556,
              "#d8576b"
             ],
             [
              0.6666666666666666,
              "#ed7953"
             ],
             [
              0.7777777777777778,
              "#fb9f3a"
             ],
             [
              0.8888888888888888,
              "#fdca26"
             ],
             [
              1,
              "#f0f921"
             ]
            ],
            "type": "surface"
           }
          ],
          "table": [
           {
            "cells": {
             "fill": {
              "color": "#EBF0F8"
             },
             "line": {
              "color": "white"
             }
            },
            "header": {
             "fill": {
              "color": "#C8D4E3"
             },
             "line": {
              "color": "white"
             }
            },
            "type": "table"
           }
          ]
         },
         "layout": {
          "annotationdefaults": {
           "arrowcolor": "#2a3f5f",
           "arrowhead": 0,
           "arrowwidth": 1
          },
          "autotypenumbers": "strict",
          "coloraxis": {
           "colorbar": {
            "outlinewidth": 0,
            "ticks": ""
           }
          },
          "colorscale": {
           "diverging": [
            [
             0,
             "#8e0152"
            ],
            [
             0.1,
             "#c51b7d"
            ],
            [
             0.2,
             "#de77ae"
            ],
            [
             0.3,
             "#f1b6da"
            ],
            [
             0.4,
             "#fde0ef"
            ],
            [
             0.5,
             "#f7f7f7"
            ],
            [
             0.6,
             "#e6f5d0"
            ],
            [
             0.7,
             "#b8e186"
            ],
            [
             0.8,
             "#7fbc41"
            ],
            [
             0.9,
             "#4d9221"
            ],
            [
             1,
             "#276419"
            ]
           ],
           "sequential": [
            [
             0,
             "#0d0887"
            ],
            [
             0.1111111111111111,
             "#46039f"
            ],
            [
             0.2222222222222222,
             "#7201a8"
            ],
            [
             0.3333333333333333,
             "#9c179e"
            ],
            [
             0.4444444444444444,
             "#bd3786"
            ],
            [
             0.5555555555555556,
             "#d8576b"
            ],
            [
             0.6666666666666666,
             "#ed7953"
            ],
            [
             0.7777777777777778,
             "#fb9f3a"
            ],
            [
             0.8888888888888888,
             "#fdca26"
            ],
            [
             1,
             "#f0f921"
            ]
           ],
           "sequentialminus": [
            [
             0,
             "#0d0887"
            ],
            [
             0.1111111111111111,
             "#46039f"
            ],
            [
             0.2222222222222222,
             "#7201a8"
            ],
            [
             0.3333333333333333,
             "#9c179e"
            ],
            [
             0.4444444444444444,
             "#bd3786"
            ],
            [
             0.5555555555555556,
             "#d8576b"
            ],
            [
             0.6666666666666666,
             "#ed7953"
            ],
            [
             0.7777777777777778,
             "#fb9f3a"
            ],
            [
             0.8888888888888888,
             "#fdca26"
            ],
            [
             1,
             "#f0f921"
            ]
           ]
          },
          "colorway": [
           "#636efa",
           "#EF553B",
           "#00cc96",
           "#ab63fa",
           "#FFA15A",
           "#19d3f3",
           "#FF6692",
           "#B6E880",
           "#FF97FF",
           "#FECB52"
          ],
          "font": {
           "color": "#2a3f5f"
          },
          "geo": {
           "bgcolor": "white",
           "lakecolor": "white",
           "landcolor": "#E5ECF6",
           "showlakes": true,
           "showland": true,
           "subunitcolor": "white"
          },
          "hoverlabel": {
           "align": "left"
          },
          "hovermode": "closest",
          "mapbox": {
           "style": "light"
          },
          "paper_bgcolor": "white",
          "plot_bgcolor": "#E5ECF6",
          "polar": {
           "angularaxis": {
            "gridcolor": "white",
            "linecolor": "white",
            "ticks": ""
           },
           "bgcolor": "#E5ECF6",
           "radialaxis": {
            "gridcolor": "white",
            "linecolor": "white",
            "ticks": ""
           }
          },
          "scene": {
           "xaxis": {
            "backgroundcolor": "#E5ECF6",
            "gridcolor": "white",
            "gridwidth": 2,
            "linecolor": "white",
            "showbackground": true,
            "ticks": "",
            "zerolinecolor": "white"
           },
           "yaxis": {
            "backgroundcolor": "#E5ECF6",
            "gridcolor": "white",
            "gridwidth": 2,
            "linecolor": "white",
            "showbackground": true,
            "ticks": "",
            "zerolinecolor": "white"
           },
           "zaxis": {
            "backgroundcolor": "#E5ECF6",
            "gridcolor": "white",
            "gridwidth": 2,
            "linecolor": "white",
            "showbackground": true,
            "ticks": "",
            "zerolinecolor": "white"
           }
          },
          "shapedefaults": {
           "line": {
            "color": "#2a3f5f"
           }
          },
          "ternary": {
           "aaxis": {
            "gridcolor": "white",
            "linecolor": "white",
            "ticks": ""
           },
           "baxis": {
            "gridcolor": "white",
            "linecolor": "white",
            "ticks": ""
           },
           "bgcolor": "#E5ECF6",
           "caxis": {
            "gridcolor": "white",
            "linecolor": "white",
            "ticks": ""
           }
          },
          "title": {
           "x": 0.05
          },
          "xaxis": {
           "automargin": true,
           "gridcolor": "white",
           "linecolor": "white",
           "ticks": "",
           "title": {
            "standoff": 15
           },
           "zerolinecolor": "white",
           "zerolinewidth": 2
          },
          "yaxis": {
           "automargin": true,
           "gridcolor": "white",
           "linecolor": "white",
           "ticks": "",
           "title": {
            "standoff": 15
           },
           "zerolinecolor": "white",
           "zerolinewidth": 2
          }
         }
        },
        "uniformtext": {
         "minsize": 8,
         "mode": "show"
        },
        "width": 450,
        "xaxis": {
         "anchor": "y",
         "domain": [
          0,
          1
         ],
         "gridcolor": "lightgrey",
         "showgrid": false,
         "title": {
          "text": "model_size"
         }
        },
        "yaxis": {
         "anchor": "x",
         "domain": [
          0,
          1
         ],
         "gridcolor": "lightgrey",
         "showgrid": true,
         "title": {
          "text": "Odds Ratio"
         }
        }
       }
      }
     },
     "metadata": {},
     "output_type": "display_data"
    }
   ],
   "source": [
    "import plotly.express as px\n",
    "import pandas as pd\n",
    "import numpy as np\n",
    "\n",
    "# Add sample size column\n",
    "results_df[\"sample_size\"] = results_df[\"trades_wins\"] + results_df[\"classic_wins\"]\n",
    "\n",
    "# cap infinite values at 10 % above the largest finite OR\n",
    "finite_mask = np.isfinite(results_df[\"odds_ratio\"])\n",
    "finite_max  = results_df.loc[finite_mask, \"odds_ratio\"].max()\n",
    "cap_value   = finite_max * 1.10\n",
    "\n",
    "results_df[\"odds_ratio\"] = results_df[\"odds_ratio\"].replace([np.inf, -np.inf],\n",
    "                                                             cap_value)\n",
    "\n",
    "# 3)  pretty text – use “∞” for the truly infinite ones\n",
    "def fmt_or(x):\n",
    "    if np.isinf(x):\n",
    "        return \"∞\"\n",
    "    return f\"{x:.2f}\" if x % 1 else f\"{int(x)}\"\n",
    "\n",
    "results_df[\"text_label\"] = (\n",
    "    results_df.apply(\n",
    "        lambda r: (\n",
    "            f\"{fmt_or(r['odds_ratio'])}\"\n",
    "            f\"<br>(p={r['p_value']:.3f})\"\n",
    "            f\"<br>n={r['sample_size']}\"\n",
    "        ),\n",
    "        axis=1,\n",
    "    )\n",
    ")\n",
    "\n",
    "\n",
    "\n",
    "\n",
    "# Plotly bar chart\n",
    "fig = px.bar(\n",
    "    results_df,\n",
    "    x=\"cond\",\n",
    "    y=\"odds_ratio\",\n",
    "    color=\"fts\",\n",
    "    barmode=\"group\",\n",
    "    text=\"text_label\",\n",
    "    labels={\"cond\": \"{}\".format(group), \"odds_ratio\": \"Odds Ratio\"},\n",
    ")\n",
    "\n",
    "# Update traces for text styling\n",
    "fig.update_traces(\n",
    "    textposition=\"outside\",\n",
    "    textangle=-90,\n",
    "    textfont=dict(size=10),\n",
    "    cliponaxis=False\n",
    ")\n",
    "\n",
    "\n",
    "fig.update_layout(\n",
    "            margin=dict(l=0, r=0, t=0, b=0),  # remove all outer margins\n",
    "            width=450,    # in pixels (~2.5 inches at 96 DPI)\n",
    "            height=400,    # in pixels (~1.875 inches)\n",
    "            yaxis_title=\"Odds Ratio\",\n",
    "            xaxis_title=\"{}\".format(group),            \n",
    "            # White background\n",
    "            plot_bgcolor=\"white\",\n",
    "            paper_bgcolor=\"white\",\n",
    "            \n",
    "            # Light grey grid\n",
    "            xaxis=dict(showgrid=False, gridcolor=\"lightgrey\"),\n",
    "            yaxis=dict(showgrid=True, gridcolor=\"lightgrey\"),\n",
    "            uniformtext_minsize=8,\n",
    "            uniformtext_mode='show',\n",
    "            \n",
    "            # Legend inside figure\n",
    "            legend=dict(\n",
    "                font=dict(size=12),\n",
    "                yanchor=\"top\",\n",
    "                xanchor=\"left\",   # anchor point for x position\n",
    "                x=0.5,           # move legend to the left side\n",
    "                y=1.15,           # optional: near the top\n",
    "                bgcolor=\"rgba(255,255,255,1)\",\n",
    "                bordercolor=\"lightgrey\",\n",
    "                borderwidth=1\n",
    "            )\n",
    "        )\n",
    "\n",
    "fig.show()\n",
    "fig.write_image(\"./paper_figures/oddsratio_TRADES_outperforms_{}.png\".format(group), scale=3  )\n"
   ]
  },
  {
   "cell_type": "code",
   "execution_count": 3,
   "metadata": {},
   "outputs": [
    {
     "ename": "NameError",
     "evalue": "name 'results_df' is not defined",
     "output_type": "error",
     "traceback": [
      "\u001b[0;31m---------------------------------------------------------------------------\u001b[0m",
      "\u001b[0;31mNameError\u001b[0m                                 Traceback (most recent call last)",
      "Input \u001b[0;32mIn [3]\u001b[0m, in \u001b[0;36m<cell line: 5>\u001b[0;34m()\u001b[0m\n\u001b[1;32m      2\u001b[0m \u001b[38;5;28;01mimport\u001b[39;00m \u001b[38;5;21;01mpandas\u001b[39;00m \u001b[38;5;28;01mas\u001b[39;00m \u001b[38;5;21;01mpd\u001b[39;00m\n\u001b[1;32m      4\u001b[0m \u001b[38;5;66;03m# Add sample size column\u001b[39;00m\n\u001b[0;32m----> 5\u001b[0m results_df[\u001b[38;5;124m\"\u001b[39m\u001b[38;5;124msample_size\u001b[39m\u001b[38;5;124m\"\u001b[39m] \u001b[38;5;241m=\u001b[39m \u001b[43mresults_df\u001b[49m[\u001b[38;5;124m\"\u001b[39m\u001b[38;5;124mtrades_wins\u001b[39m\u001b[38;5;124m\"\u001b[39m] \u001b[38;5;241m+\u001b[39m results_df[\u001b[38;5;124m\"\u001b[39m\u001b[38;5;124mclassic_wins\u001b[39m\u001b[38;5;124m\"\u001b[39m]\n\u001b[1;32m      7\u001b[0m \u001b[38;5;66;03m# Format text label with odds ratio, p-value, and sample size\u001b[39;00m\n\u001b[1;32m      8\u001b[0m results_df[\u001b[38;5;124m\"\u001b[39m\u001b[38;5;124mtext_label\u001b[39m\u001b[38;5;124m\"\u001b[39m] \u001b[38;5;241m=\u001b[39m results_df\u001b[38;5;241m.\u001b[39mapply(\n\u001b[1;32m      9\u001b[0m     \u001b[38;5;28;01mlambda\u001b[39;00m row: (\n\u001b[1;32m     10\u001b[0m         \u001b[38;5;124mf\u001b[39m\u001b[38;5;124m'\u001b[39m\u001b[38;5;132;01m{\u001b[39;00m\u001b[38;5;28mint\u001b[39m(row[\u001b[38;5;124m\"\u001b[39m\u001b[38;5;124modds_ratio\u001b[39m\u001b[38;5;124m\"\u001b[39m])\u001b[38;5;132;01m}\u001b[39;00m\u001b[38;5;124m'\u001b[39m \u001b[38;5;28;01mif\u001b[39;00m row[\u001b[38;5;124m\"\u001b[39m\u001b[38;5;124modds_ratio\u001b[39m\u001b[38;5;124m\"\u001b[39m] \u001b[38;5;241m==\u001b[39m \u001b[38;5;28mint\u001b[39m(row[\u001b[38;5;124m\"\u001b[39m\u001b[38;5;124modds_ratio\u001b[39m\u001b[38;5;124m\"\u001b[39m]) \n\u001b[0;32m   (...)\u001b[0m\n\u001b[1;32m     13\u001b[0m     axis\u001b[38;5;241m=\u001b[39m\u001b[38;5;241m1\u001b[39m\n\u001b[1;32m     14\u001b[0m )\n",
      "\u001b[0;31mNameError\u001b[0m: name 'results_df' is not defined"
     ]
    }
   ],
   "source": [
    "import plotly.express as px\n",
    "import pandas as pd\n",
    "\n",
    "# Add sample size column\n",
    "results_df[\"sample_size\"] = results_df[\"trades_wins\"] + results_df[\"classic_wins\"]\n",
    "\n",
    "# Format text label with odds ratio, p-value, and sample size\n",
    "results_df[\"text_label\"] = results_df.apply(\n",
    "    lambda row: (\n",
    "        f'{int(row[\"odds_ratio\"])}' if row[\"odds_ratio\"] == int(row[\"odds_ratio\"]) \n",
    "        else f'{row[\"odds_ratio\"]:.2f}'\n",
    "    ) + f'<br>(p={row[\"p_value\"]:.3f})<br>n={row[\"sample_size\"]}',\n",
    "    axis=1\n",
    ")\n",
    "\n",
    "# List of conditions to split by\n",
    "conditions = [\"model_type\", \"pre_training_strategy\"]\n",
    "\n",
    "for cond in conditions:\n",
    "    # Group by condition + size + protocol\n",
    "    grouped = results_df.groupby([cond, \"size\", \"protocol\"]).agg(\n",
    "        trades_wins_sum=(\"trades_wins\", \"sum\"),\n",
    "        classic_wins_sum=(\"classic_wins\", \"sum\")\n",
    "    ).reset_index()\n",
    "    \n",
    "    # Compute odds ratio\n",
    "    grouped[\"odds_ratio\"] = (grouped[\"trades_wins_sum\"] + 0.5) / (grouped[\"classic_wins_sum\"] + 0.5)\n",
    "    grouped[\"sample_size\"] = grouped[\"trades_wins_sum\"] + grouped[\"classic_wins_sum\"]\n",
    "    \n",
    "    # You can add p-values here if needed; for now we'll omit for simplicity\n",
    "    grouped[\"text_label\"] = grouped.apply(\n",
    "        lambda row: (\n",
    "            f'{int(row[\"odds_ratio\"])}' if row[\"odds_ratio\"] == int(row[\"odds_ratio\"]) \n",
    "            else f'{row[\"odds_ratio\"]:.2f}'\n",
    "        ) + f'<br>n={row[\"sample_size\"]}',\n",
    "        axis=1\n",
    "    )\n",
    "    \n",
    "    unique_values = grouped[cond].unique()\n",
    "    \n",
    "    for val in unique_values:\n",
    "        sub_df = grouped[grouped[cond] == val]\n",
    "        \n",
    "        fig = px.bar(\n",
    "            sub_df,\n",
    "            x=\"size\",\n",
    "            y=\"odds_ratio\",\n",
    "            color=\"protocol\",\n",
    "            barmode=\"group\",\n",
    "            text=\"text_label\",\n",
    "            labels={\"size\": \"Model Size\", \"odds_ratio\": \"Odds Ratio\"},\n",
    "            title=f\"TRADES vs Classic - Conditioned on {cond}: {val}\"\n",
    "        )\n",
    "\n",
    "        fig.update_traces(\n",
    "            textposition=\"outside\",\n",
    "            textangle=-90,\n",
    "            textfont=dict(size=10),\n",
    "            cliponaxis=False\n",
    "        )\n",
    "\n",
    "        fig.update_layout(\n",
    "            margin=dict(l=0, r=0, t=30, b=0),\n",
    "            width=450,\n",
    "            height=400,\n",
    "            yaxis_title=\"Odds Ratio\",\n",
    "            xaxis_title=\"Model Size\",\n",
    "            plot_bgcolor=\"white\",\n",
    "            paper_bgcolor=\"white\",\n",
    "            xaxis=dict(showgrid=False, gridcolor=\"lightgrey\"),\n",
    "            yaxis=dict(showgrid=True, gridcolor=\"lightgrey\"),\n",
    "            uniformtext_minsize=8,\n",
    "            uniformtext_mode='show',\n",
    "            legend=dict(\n",
    "                font=dict(size=12),\n",
    "                yanchor=\"top\",\n",
    "                xanchor=\"left\",\n",
    "                x=0.05,\n",
    "                y=1.15,\n",
    "                bgcolor=\"rgba(255,255,255,1)\",\n",
    "                bordercolor=\"lightgrey\",\n",
    "                borderwidth=1\n",
    "            )\n",
    "        )\n",
    "\n",
    "        fig.show()\n",
    "        fig.write_image(f\"./paper_figures/oddsratio_TRADES_vs_classic_{cond}_{val}.png\", scale=3)\n"
   ]
  },
  {
   "cell_type": "code",
   "execution_count": 5,
   "metadata": {},
   "outputs": [
    {
     "name": "stdout",
     "output_type": "stream",
     "text": [
      "Percentage of NaN values: 0.99%\n",
      "\\begin{table}[ht]\n",
      "\\centering\n",
      "\\caption{Top 3 fine-tuning configurations FFT (50 epochs)}\n",
      "\\label{tab:FFT_50_epochs}\n",
      "\\resizebox{\\textwidth}{!}{%\n",
      "\\begin{tabular}{|c|c|c|c|c|c|}\n",
      "\\toprule\n",
      "\\textbf{Size} &                            \\textbf{Gold (1st)} &                        \\textbf{Silver (2nd)} &                       \\textbf{Bronze (3rd)} &  \\textbf{$\\Delta \\%$ (1st$\\rightarrow$2nd)} &  \\textbf{$\\Delta \\%$ (2nd$\\rightarrow$3rd)} \\\\\n",
      "\\midrule\n",
      "        small &      edgenetx\\_s,sup,in1k,TRADES\\_v2 (GR:15.0) &        deit\\_t,sup,in1k,TRADES\\_v2 (GR:34.0) & regnetx\\_004,sup,in1k,CLASSIC\\_AT (GR:37.0) &                                      -23.17 &                                       -3.73 \\\\\n",
      "       medium & convnext\\_t,sup,in22k-in1k,TRADES\\_v2 (GR:8.0) &    convnext\\_t,sup,in1k,TRADES\\_v2 (GR:11.0) &  convnext\\_t,sup,in22k,TRADES\\_v2 (GR:13.0) &                                       -5.37 &                                       -3.45 \\\\\n",
      "        large &      convnext\\_b,sup,in22k,TRADES\\_v2 (GR:1.0) & convnext\\_b,clip,laion2b,TRADES\\_v2 (GR:2.0) & convnext\\_b,clip,laiona,TRADES\\_v2 (GR:3.0) &                                       -1.98 &                                       -5.99 \\\\\n",
      "\\bottomrule\n",
      "\\end{tabular}\n",
      "}\n",
      "\\end{table}\n",
      "Percentage of NaN values: 0.31%\n",
      "\\begin{table}[ht]\n",
      "\\centering\n",
      "\\caption{Top 3 fine-tuning configurations FFT (5 epochs)}\n",
      "\\label{tab:FFT_5_epochs}\n",
      "\\resizebox{\\textwidth}{!}{%\n",
      "\\begin{tabular}{|c|c|c|c|c|c|}\n",
      "\\toprule\n",
      "\\textbf{Size} &                           \\textbf{Gold (1st)} &                      \\textbf{Silver (2nd)} &                        \\textbf{Bronze (3rd)} &  \\textbf{$\\Delta \\%$ (1st$\\rightarrow$2nd)} &  \\textbf{$\\Delta \\%$ (2nd$\\rightarrow$3rd)} \\\\\n",
      "\\midrule\n",
      "        small &    mobilenet\\_v3,sup,in1k,TRADES\\_v2 (GR:8.0) &  edgenetx\\_s,sup,in1k,TRADES\\_v2 (GR:21.0) &        coat\\_t,sup,in1k,TRADES\\_v2 (GR:26.0) &                                      -32.43 &                                      -20.01 \\\\\n",
      "       medium & convnext\\_t,rob-sup,in1k,CLASSIC\\_AT (GR:1.0) & resnet50,rob-sup,in1k,CLASSIC\\_AT (GR:3.0) & convnext\\_t,rob-sup,in1k,TRADES\\_v2 (GR:5.0) &                                      -14.61 &                                       -8.01 \\\\\n",
      "        large &   swin\\_b,sup,ink22k-in1k,TRADES\\_v2 (GR:2.0) &   convnext\\_b,sup,in1k,TRADES\\_v2 (GR:4.0) &    convnext\\_b,sup,in22k,TRADES\\_v2 (GR:6.0) &                                      -11.63 &                                      -10.10 \\\\\n",
      "\\bottomrule\n",
      "\\end{tabular}\n",
      "}\n",
      "\\end{table}\n",
      "Percentage of NaN values: 0.05%\n",
      "\\begin{table}[ht]\n",
      "\\centering\n",
      "\\caption{Top 3 fine-tuning configurations LP (50 epochs)}\n",
      "\\label{tab:LP_50_epochs}\n",
      "\\resizebox{\\textwidth}{!}{%\n",
      "\\begin{tabular}{|c|c|c|c|c|c|}\n",
      "\\toprule\n",
      "\\textbf{Size} &                       \\textbf{Gold (1st)} &                        \\textbf{Silver (2nd)} &                          \\textbf{Bronze (3rd)} &  \\textbf{$\\Delta \\%$ (1st$\\rightarrow$2nd)} &  \\textbf{$\\Delta \\%$ (2nd$\\rightarrow$3rd)} \\\\\n",
      "\\midrule\n",
      "        small & edgenetx\\_s,sup,in1k,TRADES\\_v2 (GR:30.0) & mobilenet\\_v3,sup,in1k,CLASSIC\\_AT (GR:36.0) &          deit\\_t,sup,in1k,TRADES\\_v2 (GR:39.0) &                                      -17.06 &                                       -7.60 \\\\\n",
      "       medium & deit\\_s,rob-sup,in1k,CLASSIC\\_AT (GR:1.0) & convnext\\_t,rob-sup,in1k,TRADES\\_v2 (GR:5.0) &      deit\\_s,rob-sup,in1k,TRADES\\_v2 (GR:10.0) &                                      -17.14 &                                       -7.93 \\\\\n",
      "        large &   eva02\\_b,mim,ink22k,TRADES\\_v2 (GR:2.0) &  swin\\_b,sup,ink22k-in1k,TRADES\\_v2 (GR:3.0) & convnext\\_b,sup,in22k-in1k,TRADES\\_v2 (GR:4.0) &                                       -1.35 &                                       -1.00 \\\\\n",
      "\\bottomrule\n",
      "\\end{tabular}\n",
      "}\n",
      "\\end{table}\n"
     ]
    },
    {
     "name": "stderr",
     "output_type": "stream",
     "text": [
      "/var/folders/v7/3s0lms795672_f7_mh2x6bcr0000gn/T/ipykernel_41812/1069317708.py:58: FutureWarning: In future versions `DataFrame.to_latex` is expected to utilise the base implementation of `Styler.to_latex` for formatting and rendering. The arguments signature may therefore change. It is recommended instead to use `DataFrame.style.to_latex` which also contains additional functionality.\n",
      "  latex_code = palmares.to_latex(\n",
      "/var/folders/v7/3s0lms795672_f7_mh2x6bcr0000gn/T/ipykernel_41812/1069317708.py:58: FutureWarning: In future versions `DataFrame.to_latex` is expected to utilise the base implementation of `Styler.to_latex` for formatting and rendering. The arguments signature may therefore change. It is recommended instead to use `DataFrame.style.to_latex` which also contains additional functionality.\n",
      "  latex_code = palmares.to_latex(\n",
      "/var/folders/v7/3s0lms795672_f7_mh2x6bcr0000gn/T/ipykernel_41812/1069317708.py:58: FutureWarning: In future versions `DataFrame.to_latex` is expected to utilise the base implementation of `Styler.to_latex` for formatting and rendering. The arguments signature may therefore change. It is recommended instead to use `DataFrame.style.to_latex` which also contains additional functionality.\n",
      "  latex_code = palmares.to_latex(\n"
     ]
    }
   ],
   "source": [
    "from process_database import process_grouped_df, process_rankings, compute_odds_ratio_by_group\n",
    "import pandas as pd\n",
    "from io import StringIO\n",
    "\n",
    "final_data = pd.concat([ df1,df2,df3 ], axis=0, ignore_index=True) \n",
    "\n",
    "for setting in ('FFT (50 epochs)', 'FFT (5 epochs)', 'LP (50 epochs)' ): \n",
    "\n",
    "    result = []\n",
    "\n",
    "    d = final_data[ final_data.ft_strategy == setting ]\n",
    "    grouped_df = process_grouped_df(d)\n",
    "    grouped_df = process_rankings(grouped_df)\n",
    "\n",
    "    for size_id,size in [ (0,'small'), (1,'medium'), (2,'large') ]:\n",
    "\n",
    "        copy = grouped_df.xs(size, level=\"model_size\") #grouped_df[ grouped_df.model_size == size  ]\n",
    "        \n",
    "        remaining_columns = [ 'rank_borda',\t'rank_geom', 'rank_sum', 'score_geom', 'score_sum', 'borda' ]\n",
    "        filtered_df = copy.loc[:, ('TOTAL', remaining_columns)]\n",
    "        filtered_df = filtered_df.reset_index()\n",
    "        \n",
    "        filtered_df.columns = ['_'.join(col) if isinstance(col, tuple) else col for col in filtered_df.columns]\n",
    "        filtered_df.columns = [ 'backbone', \"backbone_name\", 'loss', 'pre_training_strategy', 'model_type','ft_strategy', 'total Borda rank', 'total geom rank', 'total sum rank',  'total geom value', 'total sum value', 'total Borda value',   ]\n",
    "\n",
    "        n_rows = filtered_df.shape[0]\n",
    "\n",
    "        # top_k = int(np.ceil(0.33 * n_rows))  # top 10% as tier1\n",
    "        # print(top_k)\n",
    "        filtered_df = filtered_df.head(3)\n",
    "\n",
    "        filtered_df = filtered_df.round(4)\n",
    "\n",
    "        df_sorted = filtered_df.sort_values(by='total sum value', ascending=False).reset_index(drop=True)\n",
    "        # print(df_sorted)\n",
    "\n",
    "        result.append({\n",
    "            'Size': size,\n",
    "            'Gold (1st)': str(df_sorted['backbone_name'][0]) + ',' + df_sorted['loss'][0] + ' ' + '(GR:' + str(df_sorted['total sum rank'][0]) + ')',\n",
    "            'Silver (2nd)': df_sorted['backbone_name'][1] + ',' + df_sorted['loss'][1] + ' ' + '(GR:' + str(df_sorted['total sum rank'][1]) + ')',\n",
    "            'Bronze (3rd)': df_sorted['backbone_name'][2] + ',' + df_sorted['loss'][2] + ' ' + '(GR:' + str(df_sorted['total sum rank'][2]) + ')',\n",
    "            '$\\Delta \\%$ (1st$\\rightarrow$2nd)': 100 * (df_sorted['total sum value'][1] - df_sorted['total sum value'][0]) / df_sorted['total sum value'][0],\n",
    "            '$\\Delta \\%$ (2nd$\\rightarrow$3rd)': 100 * (df_sorted['total sum value'][2] - df_sorted['total sum value'][1]) / df_sorted['total sum value'][1],\n",
    "            \n",
    "        })\n",
    "\n",
    "   # Step 1: Build the DataFrame and round numeric values\n",
    "    palmares = pd.DataFrame(result)\n",
    "    palmares = palmares.round(2)\n",
    "\n",
    "    # Step 2: Escape underscores in data (NOT in headers yet)\n",
    "    for col in ['Gold (1st)', 'Silver (2nd)', 'Bronze (3rd)']:\n",
    "        palmares[col] = palmares[col].apply(lambda x: x.replace('_', r'\\_'))\n",
    "\n",
    "    palmares.columns = [f\"\\\\textbf{{{col}}}\" for col in palmares.columns]\n",
    "\n",
    "    # Step 4: Export to LaTeX\n",
    "    latex_code = palmares.to_latex(\n",
    "        index=False,\n",
    "        escape=False,\n",
    "        column_format='|' + '|'.join(['c'] * len(palmares.columns)) + '|'\n",
    "    )\n",
    "\n",
    "    # Step 5: Process LaTeX lines for emoji + \\hline + table wrapping\n",
    "    lines = latex_code.splitlines()\n",
    "    output_lines = []\n",
    "\n",
    "    output_lines.append(r'\\begin{table}[ht]')\n",
    "    output_lines.append(r'\\centering')\n",
    "    output_lines.append(r'\\caption{{Top 3 fine-tuning configurations {}}}'.format(setting) )\n",
    "\n",
    "    # Clean LaTeX label (no spaces, parentheses)\n",
    "    safe_label = setting.replace(\" \", \"_\").replace(\"(\", \"\").replace(\")\", \"\")\n",
    "    output_lines.append(r'\\label{tab:' + safe_label + '}')\n",
    "    output_lines.append(r'\\resizebox{\\textwidth}{!}{%')\n",
    "\n",
    "    for i, line in enumerate(lines):\n",
    "        if i == 0:\n",
    "            output_lines.append(line)  # \\begin{tabular}\n",
    "        elif i == 1:\n",
    "            # Header row: convert emojis\n",
    "            output_lines.append(line)# + r' \\\\'\n",
    "            # output_lines.append(r'\\hline')\n",
    "        elif line.strip() == r'\\end{tabular}':\n",
    "            # output_lines.append(r'\\hline')\n",
    "            output_lines.append(line)\n",
    "        else:\n",
    "            output_lines.append(line ) #+ r' \\\\'\n",
    "            # output_lines.append(r'\\hline')\n",
    "\n",
    "    output_lines.append(r'}')\n",
    "    output_lines.append(r'\\end{table}')\n",
    "\n",
    "    latex_code_full_grid = '\\n'.join(output_lines)\n",
    "    print(latex_code_full_grid)\n",
    "\n",
    "    # Save to file\n",
    "    file_path = f\"./latex_tables/{safe_label}.tex\"\n",
    "    with open(file_path, \"w\") as f:\n",
    "        f.write(latex_code_full_grid)\n"
   ]
  }
 ],
 "metadata": {
  "kernelspec": {
   "display_name": "base",
   "language": "python",
   "name": "python3"
  },
  "language_info": {
   "codemirror_mode": {
    "name": "ipython",
    "version": 3
   },
   "file_extension": ".py",
   "mimetype": "text/x-python",
   "name": "python",
   "nbconvert_exporter": "python",
   "pygments_lexer": "ipython3",
   "version": "3.9.7"
  }
 },
 "nbformat": 4,
 "nbformat_minor": 2
}
