{
 "cells": [
  {
   "cell_type": "code",
   "execution_count": 9,
   "metadata": {},
   "outputs": [
    {
     "name": "stdout",
     "output_type": "stream",
     "text": [
      "../results/full_fine_tuning_50epochs_paper_final2/CLIP-convnext_base_w-laion_aesthetic-s13B-b82K_uc-merced-land-use-dataset_TRADES_v2.pkl\n",
      "../results/full_fine_tuning_50epochs_paper_final2/CLIP-convnext_base_w-laion2B-s13B-b82K_uc-merced-land-use-dataset_TRADES_v2.pkl\n",
      "../results/full_fine_tuning_50epochs_paper_final2/deit_small_patch16_224.fb_in1k_uc-merced-land-use-dataset_TRADES_v2.pkl\n",
      "../results/full_fine_tuning_50epochs_paper_final2/robust_resnet50_uc-merced-land-use-dataset_TRADES_v2.pkl\n",
      "../results/full_fine_tuning_50epochs_paper_final2/vit_small_patch16_224.augreg_in21k_uc-merced-land-use-dataset_TRADES_v2.pkl\n",
      "../results/full_fine_tuning_50epochs_paper_final2/convnext_base.fb_in1k_uc-merced-land-use-dataset_TRADES_v2.pkl\n",
      "../results/full_fine_tuning_50epochs_paper_final2/resnet50.a1_in1k_uc-merced-land-use-dataset_TRADES_v2.pkl\n",
      "../results/full_fine_tuning_50epochs_paper_final2/robust_vit_base_patch16_224_uc-merced-land-use-dataset_TRADES_v2.pkl\n",
      "../results/full_fine_tuning_50epochs_paper_final2/vit_base_patch16_224.mae_uc-merced-land-use-dataset_TRADES_v2.pkl\n",
      "../results/full_fine_tuning_50epochs_paper_final2/vit_small_patch16_224.dino_uc-merced-land-use-dataset_TRADES_v2.pkl\n",
      "../results/full_fine_tuning_50epochs_paper_final2/convnext_base.fb_in22k_uc-merced-land-use-dataset_TRADES_v2.pkl\n",
      "../results/full_fine_tuning_50epochs_paper_final2/robust_convnext_base_uc-merced-land-use-dataset_TRADES_v2.pkl\n",
      "../results/full_fine_tuning_50epochs_paper_final2/vit_base_patch16_224.augreg_in1k_uc-merced-land-use-dataset_TRADES_v2.pkl\n",
      "../results/full_fine_tuning_50epochs_paper_final2/vit_base_patch16_224.augreg_in21k_uc-merced-land-use-dataset_TRADES_v2.pkl\n",
      "../results/full_fine_tuning_50epochs_paper_final2/vit_base_patch16_clip_224.laion2b_uc-merced-land-use-dataset_TRADES_v2.pkl\n",
      "../results/full_fine_tuning_50epochs_paper_final2/convnext_tiny.fb_in1k_uc-merced-land-use-dataset_TRADES_v2.pkl\n",
      "../results/full_fine_tuning_50epochs_paper_final2/robust_convnext_tiny_uc-merced-land-use-dataset_TRADES_v2.pkl\n",
      "../results/full_fine_tuning_50epochs_paper_final2/robust_deit_small_patch16_224_uc-merced-land-use-dataset_TRADES_v2.pkl\n",
      "../results/full_fine_tuning_50epochs_paper_final2/vit_small_patch16_224.augreg_in1k_uc-merced-land-use-dataset_TRADES_v2.pkl\n",
      "../results/full_fine_tuning_50epochs_paper_final2/convnext_tiny.fb_in22k_uc-merced-land-use-dataset_TRADES_v2.pkl\n",
      "../results/full_fine_tuning_50epochs_paper_final2/vit_base_patch16_clip_224.laion2b_ft_in1k_uc-merced-land-use-dataset_TRADES_v2.pkl\n",
      "../results/full_fine_tuning_50epochs_paper_final2/vit_base_patch16_224.augreg_in21k_ft_in1k_uc-merced-land-use-dataset_TRADES_v2.pkl\n",
      "../results/full_fine_tuning_50epochs_paper_final2/vit_small_patch16_224.augreg_in21k_ft_in1k_uc-merced-land-use-dataset_TRADES_v2.pkl\n",
      "../results/full_fine_tuning_50epochs_paper_final2/eva02_base_patch14_224.mim_in22k_uc-merced-land-use-dataset_TRADES_v2.pkl\n",
      "../results/full_fine_tuning_50epochs_paper_final2/eva02_tiny_patch14_224.mim_in22k_uc-merced-land-use-dataset_TRADES_v2.pkl\n",
      "../results/full_fine_tuning_50epochs_paper_final2/swin_base_patch4_window7_224.ms_in22k_ft_in1k_uc-merced-land-use-dataset_TRADES_v2.pkl\n",
      "../results/full_fine_tuning_50epochs_paper_final2/swin_tiny_patch4_window7_224.ms_in1k_uc-merced-land-use-dataset_TRADES_v2.pkl\n",
      "../results/full_fine_tuning_50epochs_paper_final2/convnext_base.clip_laion2b_augreg_ft_in12k_in1k_uc-merced-land-use-dataset_TRADES_v2.pkl\n",
      "../results/full_fine_tuning_50epochs_paper_final2/convnext_base.fb_in22k_ft_in1k_uc-merced-land-use-dataset_TRADES_v2.pkl\n",
      "../results/full_fine_tuning_50epochs_paper_final2/convnext_tiny.fb_in22k_ft_in1k_uc-merced-land-use-dataset_TRADES_v2.pkl\n",
      "../results/full_fine_tuning_50epochs_paper_final2/coatnet_0_rw_224.sw_in1k_uc-merced-land-use-dataset_TRADES_v2.pkl\n",
      "../results/full_fine_tuning_50epochs_paper_final2/coatnet_2_rw_224.sw_in12k_ft_in1k_uc-merced-land-use-dataset_TRADES_v2.pkl\n",
      "../results/full_fine_tuning_50epochs_paper_final2/coatnet_2_rw_224.sw_in12k_uc-merced-land-use-dataset_TRADES_v2.pkl\n",
      "../results/full_fine_tuning_50epochs_paper_final2/regnetx_004.pycls_in1k_uc-merced-land-use-dataset_TRADES_v2.pkl\n",
      "HEY\n",
      "../results/full_fine_tuning_50epochs_edge_paper_final2/regnetx_004.pycls_in1k_uc-merced-land-use-dataset_TRADES_v2.pkl\n",
      "../results/full_fine_tuning_50epochs_paper_final2/efficientnet-b0_uc-merced-land-use-dataset_TRADES_v2.pkl\n",
      "HEY\n",
      "../results/full_fine_tuning_50epochs_edge_paper_final2/efficientnet-b0_uc-merced-land-use-dataset_TRADES_v2.pkl\n",
      "../results/full_fine_tuning_50epochs_paper_final2/deit_tiny_patch16_224.fb_in1k_uc-merced-land-use-dataset_TRADES_v2.pkl\n",
      "HEY\n",
      "../results/full_fine_tuning_50epochs_edge_paper_final2/deit_tiny_patch16_224.fb_in1k_uc-merced-land-use-dataset_TRADES_v2.pkl\n",
      "../results/full_fine_tuning_50epochs_paper_final2/mobilevit-small_uc-merced-land-use-dataset_TRADES_v2.pkl\n",
      "HEY\n",
      "../results/full_fine_tuning_50epochs_edge_paper_final2/mobilevit-small_uc-merced-land-use-dataset_TRADES_v2.pkl\n",
      "../results/full_fine_tuning_50epochs_paper_final2/mobilenetv3_large_100.ra_in1k_uc-merced-land-use-dataset_TRADES_v2.pkl\n",
      "HEY\n",
      "../results/full_fine_tuning_50epochs_edge_paper_final2/mobilenetv3_large_100.ra_in1k_uc-merced-land-use-dataset_TRADES_v2.pkl\n",
      "../results/full_fine_tuning_50epochs_paper_final2/edgenext_small.usi_in1k_uc-merced-land-use-dataset_TRADES_v2.pkl\n",
      "HEY\n",
      "../results/full_fine_tuning_50epochs_edge_paper_final2/edgenext_small.usi_in1k_uc-merced-land-use-dataset_TRADES_v2.pkl\n",
      "../results/full_fine_tuning_50epochs_paper_final2/coat_tiny.in1k_uc-merced-land-use-dataset_TRADES_v2.pkl\n",
      "HEY\n",
      "../results/full_fine_tuning_50epochs_edge_paper_final2/coat_tiny.in1k_uc-merced-land-use-dataset_TRADES_v2.pkl\n",
      "../results/full_fine_tuning_50epochs_paper_final2/CLIP-convnext_base_w-laion_aesthetic-s13B-b82K_stanford_cars_TRADES_v2.pkl\n",
      "../results/full_fine_tuning_50epochs_paper_final2/CLIP-convnext_base_w-laion2B-s13B-b82K_stanford_cars_TRADES_v2.pkl\n",
      "../results/full_fine_tuning_50epochs_paper_final2/deit_small_patch16_224.fb_in1k_stanford_cars_TRADES_v2.pkl\n",
      "../results/full_fine_tuning_50epochs_paper_final2/robust_resnet50_stanford_cars_TRADES_v2.pkl\n",
      "../results/full_fine_tuning_50epochs_paper_final2/vit_small_patch16_224.augreg_in21k_stanford_cars_TRADES_v2.pkl\n",
      "../results/full_fine_tuning_50epochs_paper_final2/convnext_base.fb_in1k_stanford_cars_TRADES_v2.pkl\n",
      "../results/full_fine_tuning_50epochs_paper_final2/resnet50.a1_in1k_stanford_cars_TRADES_v2.pkl\n",
      "../results/full_fine_tuning_50epochs_paper_final2/robust_vit_base_patch16_224_stanford_cars_TRADES_v2.pkl\n",
      "../results/full_fine_tuning_50epochs_paper_final2/vit_base_patch16_224.mae_stanford_cars_TRADES_v2.pkl\n",
      "../results/full_fine_tuning_50epochs_paper_final2/vit_small_patch16_224.dino_stanford_cars_TRADES_v2.pkl\n",
      "../results/full_fine_tuning_50epochs_paper_final2/convnext_base.fb_in22k_stanford_cars_TRADES_v2.pkl\n",
      "../results/full_fine_tuning_50epochs_paper_final2/robust_convnext_base_stanford_cars_TRADES_v2.pkl\n",
      "../results/full_fine_tuning_50epochs_paper_final2/vit_base_patch16_224.augreg_in1k_stanford_cars_TRADES_v2.pkl\n",
      "../results/full_fine_tuning_50epochs_paper_final2/vit_base_patch16_224.augreg_in21k_stanford_cars_TRADES_v2.pkl\n",
      "../results/full_fine_tuning_50epochs_paper_final2/vit_base_patch16_clip_224.laion2b_stanford_cars_TRADES_v2.pkl\n",
      "../results/full_fine_tuning_50epochs_paper_final2/convnext_tiny.fb_in1k_stanford_cars_TRADES_v2.pkl\n",
      "../results/full_fine_tuning_50epochs_paper_final2/robust_convnext_tiny_stanford_cars_TRADES_v2.pkl\n",
      "../results/full_fine_tuning_50epochs_paper_final2/robust_deit_small_patch16_224_stanford_cars_TRADES_v2.pkl\n",
      "../results/full_fine_tuning_50epochs_paper_final2/vit_small_patch16_224.augreg_in1k_stanford_cars_TRADES_v2.pkl\n",
      "../results/full_fine_tuning_50epochs_paper_final2/convnext_tiny.fb_in22k_stanford_cars_TRADES_v2.pkl\n",
      "../results/full_fine_tuning_50epochs_paper_final2/vit_base_patch16_clip_224.laion2b_ft_in1k_stanford_cars_TRADES_v2.pkl\n",
      "../results/full_fine_tuning_50epochs_paper_final2/vit_base_patch16_224.augreg_in21k_ft_in1k_stanford_cars_TRADES_v2.pkl\n",
      "../results/full_fine_tuning_50epochs_paper_final2/vit_small_patch16_224.augreg_in21k_ft_in1k_stanford_cars_TRADES_v2.pkl\n",
      "../results/full_fine_tuning_50epochs_paper_final2/eva02_base_patch14_224.mim_in22k_stanford_cars_TRADES_v2.pkl\n",
      "../results/full_fine_tuning_50epochs_paper_final2/eva02_tiny_patch14_224.mim_in22k_stanford_cars_TRADES_v2.pkl\n",
      "../results/full_fine_tuning_50epochs_paper_final2/swin_base_patch4_window7_224.ms_in22k_ft_in1k_stanford_cars_TRADES_v2.pkl\n",
      "../results/full_fine_tuning_50epochs_paper_final2/swin_tiny_patch4_window7_224.ms_in1k_stanford_cars_TRADES_v2.pkl\n",
      "../results/full_fine_tuning_50epochs_paper_final2/convnext_base.clip_laion2b_augreg_ft_in12k_in1k_stanford_cars_TRADES_v2.pkl\n",
      "../results/full_fine_tuning_50epochs_paper_final2/convnext_base.fb_in22k_ft_in1k_stanford_cars_TRADES_v2.pkl\n",
      "../results/full_fine_tuning_50epochs_paper_final2/convnext_tiny.fb_in22k_ft_in1k_stanford_cars_TRADES_v2.pkl\n",
      "../results/full_fine_tuning_50epochs_paper_final2/coatnet_0_rw_224.sw_in1k_stanford_cars_TRADES_v2.pkl\n",
      "../results/full_fine_tuning_50epochs_paper_final2/coatnet_2_rw_224.sw_in12k_ft_in1k_stanford_cars_TRADES_v2.pkl\n",
      "../results/full_fine_tuning_50epochs_paper_final2/coatnet_2_rw_224.sw_in12k_stanford_cars_TRADES_v2.pkl\n",
      "../results/full_fine_tuning_50epochs_paper_final2/regnetx_004.pycls_in1k_stanford_cars_TRADES_v2.pkl\n",
      "HEY\n",
      "../results/full_fine_tuning_50epochs_edge_paper_final2/regnetx_004.pycls_in1k_stanford_cars_TRADES_v2.pkl\n",
      "../results/full_fine_tuning_50epochs_paper_final2/efficientnet-b0_stanford_cars_TRADES_v2.pkl\n",
      "HEY\n",
      "../results/full_fine_tuning_50epochs_edge_paper_final2/efficientnet-b0_stanford_cars_TRADES_v2.pkl\n",
      "../results/full_fine_tuning_50epochs_paper_final2/deit_tiny_patch16_224.fb_in1k_stanford_cars_TRADES_v2.pkl\n",
      "HEY\n",
      "../results/full_fine_tuning_50epochs_edge_paper_final2/deit_tiny_patch16_224.fb_in1k_stanford_cars_TRADES_v2.pkl\n",
      "../results/full_fine_tuning_50epochs_paper_final2/mobilevit-small_stanford_cars_TRADES_v2.pkl\n",
      "HEY\n",
      "../results/full_fine_tuning_50epochs_edge_paper_final2/mobilevit-small_stanford_cars_TRADES_v2.pkl\n",
      "../results/full_fine_tuning_50epochs_paper_final2/mobilenetv3_large_100.ra_in1k_stanford_cars_TRADES_v2.pkl\n",
      "HEY\n",
      "../results/full_fine_tuning_50epochs_edge_paper_final2/mobilenetv3_large_100.ra_in1k_stanford_cars_TRADES_v2.pkl\n",
      "../results/full_fine_tuning_50epochs_paper_final2/edgenext_small.usi_in1k_stanford_cars_TRADES_v2.pkl\n",
      "HEY\n",
      "../results/full_fine_tuning_50epochs_edge_paper_final2/edgenext_small.usi_in1k_stanford_cars_TRADES_v2.pkl\n",
      "../results/full_fine_tuning_50epochs_paper_final2/coat_tiny.in1k_stanford_cars_TRADES_v2.pkl\n",
      "../results/full_fine_tuning_50epochs_paper_final2/CLIP-convnext_base_w-laion_aesthetic-s13B-b82K_caltech101_TRADES_v2.pkl\n",
      "../results/full_fine_tuning_50epochs_paper_final2/CLIP-convnext_base_w-laion2B-s13B-b82K_caltech101_TRADES_v2.pkl\n",
      "../results/full_fine_tuning_50epochs_paper_final2/deit_small_patch16_224.fb_in1k_caltech101_TRADES_v2.pkl\n",
      "../results/full_fine_tuning_50epochs_paper_final2/robust_resnet50_caltech101_TRADES_v2.pkl\n",
      "../results/full_fine_tuning_50epochs_paper_final2/vit_small_patch16_224.augreg_in21k_caltech101_TRADES_v2.pkl\n",
      "../results/full_fine_tuning_50epochs_paper_final2/convnext_base.fb_in1k_caltech101_TRADES_v2.pkl\n",
      "../results/full_fine_tuning_50epochs_paper_final2/resnet50.a1_in1k_caltech101_TRADES_v2.pkl\n",
      "../results/full_fine_tuning_50epochs_paper_final2/robust_vit_base_patch16_224_caltech101_TRADES_v2.pkl\n",
      "../results/full_fine_tuning_50epochs_paper_final2/vit_base_patch16_224.mae_caltech101_TRADES_v2.pkl\n",
      "../results/full_fine_tuning_50epochs_paper_final2/vit_small_patch16_224.dino_caltech101_TRADES_v2.pkl\n",
      "../results/full_fine_tuning_50epochs_paper_final2/convnext_base.fb_in22k_caltech101_TRADES_v2.pkl\n",
      "../results/full_fine_tuning_50epochs_paper_final2/robust_convnext_base_caltech101_TRADES_v2.pkl\n",
      "../results/full_fine_tuning_50epochs_paper_final2/vit_base_patch16_224.augreg_in1k_caltech101_TRADES_v2.pkl\n",
      "../results/full_fine_tuning_50epochs_paper_final2/vit_base_patch16_224.augreg_in21k_caltech101_TRADES_v2.pkl\n",
      "../results/full_fine_tuning_50epochs_paper_final2/vit_base_patch16_clip_224.laion2b_caltech101_TRADES_v2.pkl\n",
      "../results/full_fine_tuning_50epochs_paper_final2/convnext_tiny.fb_in1k_caltech101_TRADES_v2.pkl\n",
      "../results/full_fine_tuning_50epochs_paper_final2/robust_convnext_tiny_caltech101_TRADES_v2.pkl\n",
      "../results/full_fine_tuning_50epochs_paper_final2/robust_deit_small_patch16_224_caltech101_TRADES_v2.pkl\n",
      "../results/full_fine_tuning_50epochs_paper_final2/vit_small_patch16_224.augreg_in1k_caltech101_TRADES_v2.pkl\n",
      "../results/full_fine_tuning_50epochs_paper_final2/convnext_tiny.fb_in22k_caltech101_TRADES_v2.pkl\n",
      "../results/full_fine_tuning_50epochs_paper_final2/vit_base_patch16_clip_224.laion2b_ft_in1k_caltech101_TRADES_v2.pkl\n",
      "../results/full_fine_tuning_50epochs_paper_final2/vit_base_patch16_224.augreg_in21k_ft_in1k_caltech101_TRADES_v2.pkl\n",
      "../results/full_fine_tuning_50epochs_paper_final2/vit_small_patch16_224.augreg_in21k_ft_in1k_caltech101_TRADES_v2.pkl\n",
      "../results/full_fine_tuning_50epochs_paper_final2/eva02_base_patch14_224.mim_in22k_caltech101_TRADES_v2.pkl\n",
      "../results/full_fine_tuning_50epochs_paper_final2/eva02_tiny_patch14_224.mim_in22k_caltech101_TRADES_v2.pkl\n",
      "../results/full_fine_tuning_50epochs_paper_final2/swin_base_patch4_window7_224.ms_in22k_ft_in1k_caltech101_TRADES_v2.pkl\n",
      "../results/full_fine_tuning_50epochs_paper_final2/swin_tiny_patch4_window7_224.ms_in1k_caltech101_TRADES_v2.pkl\n",
      "../results/full_fine_tuning_50epochs_paper_final2/convnext_base.clip_laion2b_augreg_ft_in12k_in1k_caltech101_TRADES_v2.pkl\n",
      "../results/full_fine_tuning_50epochs_paper_final2/convnext_base.fb_in22k_ft_in1k_caltech101_TRADES_v2.pkl\n",
      "../results/full_fine_tuning_50epochs_paper_final2/convnext_tiny.fb_in22k_ft_in1k_caltech101_TRADES_v2.pkl\n",
      "../results/full_fine_tuning_50epochs_paper_final2/coatnet_0_rw_224.sw_in1k_caltech101_TRADES_v2.pkl\n",
      "../results/full_fine_tuning_50epochs_paper_final2/coatnet_2_rw_224.sw_in12k_ft_in1k_caltech101_TRADES_v2.pkl\n",
      "../results/full_fine_tuning_50epochs_paper_final2/coatnet_2_rw_224.sw_in12k_caltech101_TRADES_v2.pkl\n",
      "../results/full_fine_tuning_50epochs_paper_final2/regnetx_004.pycls_in1k_caltech101_TRADES_v2.pkl\n",
      "HEY\n",
      "../results/full_fine_tuning_50epochs_edge_paper_final2/regnetx_004.pycls_in1k_caltech101_TRADES_v2.pkl\n",
      "../results/full_fine_tuning_50epochs_paper_final2/efficientnet-b0_caltech101_TRADES_v2.pkl\n",
      "HEY\n",
      "../results/full_fine_tuning_50epochs_edge_paper_final2/efficientnet-b0_caltech101_TRADES_v2.pkl\n",
      "../results/full_fine_tuning_50epochs_paper_final2/deit_tiny_patch16_224.fb_in1k_caltech101_TRADES_v2.pkl\n",
      "HEY\n",
      "../results/full_fine_tuning_50epochs_edge_paper_final2/deit_tiny_patch16_224.fb_in1k_caltech101_TRADES_v2.pkl\n",
      "../results/full_fine_tuning_50epochs_paper_final2/mobilevit-small_caltech101_TRADES_v2.pkl\n",
      "../results/full_fine_tuning_50epochs_paper_final2/mobilenetv3_large_100.ra_in1k_caltech101_TRADES_v2.pkl\n",
      "HEY\n",
      "../results/full_fine_tuning_50epochs_edge_paper_final2/mobilenetv3_large_100.ra_in1k_caltech101_TRADES_v2.pkl\n",
      "../results/full_fine_tuning_50epochs_paper_final2/edgenext_small.usi_in1k_caltech101_TRADES_v2.pkl\n",
      "HEY\n",
      "../results/full_fine_tuning_50epochs_edge_paper_final2/edgenext_small.usi_in1k_caltech101_TRADES_v2.pkl\n",
      "../results/full_fine_tuning_50epochs_paper_final2/coat_tiny.in1k_caltech101_TRADES_v2.pkl\n",
      "../results/full_fine_tuning_50epochs_paper_final2/CLIP-convnext_base_w-laion_aesthetic-s13B-b82K_fgvc-aircraft-2013b_TRADES_v2.pkl\n",
      "../results/full_fine_tuning_50epochs_paper_final2/CLIP-convnext_base_w-laion2B-s13B-b82K_fgvc-aircraft-2013b_TRADES_v2.pkl\n",
      "../results/full_fine_tuning_50epochs_paper_final2/deit_small_patch16_224.fb_in1k_fgvc-aircraft-2013b_TRADES_v2.pkl\n",
      "../results/full_fine_tuning_50epochs_paper_final2/robust_resnet50_fgvc-aircraft-2013b_TRADES_v2.pkl\n",
      "../results/full_fine_tuning_50epochs_paper_final2/vit_small_patch16_224.augreg_in21k_fgvc-aircraft-2013b_TRADES_v2.pkl\n",
      "../results/full_fine_tuning_50epochs_paper_final2/convnext_base.fb_in1k_fgvc-aircraft-2013b_TRADES_v2.pkl\n",
      "../results/full_fine_tuning_50epochs_paper_final2/resnet50.a1_in1k_fgvc-aircraft-2013b_TRADES_v2.pkl\n",
      "../results/full_fine_tuning_50epochs_paper_final2/robust_vit_base_patch16_224_fgvc-aircraft-2013b_TRADES_v2.pkl\n",
      "../results/full_fine_tuning_50epochs_paper_final2/vit_base_patch16_224.mae_fgvc-aircraft-2013b_TRADES_v2.pkl\n",
      "../results/full_fine_tuning_50epochs_paper_final2/vit_small_patch16_224.dino_fgvc-aircraft-2013b_TRADES_v2.pkl\n",
      "../results/full_fine_tuning_50epochs_paper_final2/convnext_base.fb_in22k_fgvc-aircraft-2013b_TRADES_v2.pkl\n",
      "../results/full_fine_tuning_50epochs_paper_final2/robust_convnext_base_fgvc-aircraft-2013b_TRADES_v2.pkl\n",
      "../results/full_fine_tuning_50epochs_paper_final2/vit_base_patch16_224.augreg_in1k_fgvc-aircraft-2013b_TRADES_v2.pkl\n",
      "../results/full_fine_tuning_50epochs_paper_final2/vit_base_patch16_224.augreg_in21k_fgvc-aircraft-2013b_TRADES_v2.pkl\n",
      "../results/full_fine_tuning_50epochs_paper_final2/vit_base_patch16_clip_224.laion2b_fgvc-aircraft-2013b_TRADES_v2.pkl\n",
      "../results/full_fine_tuning_50epochs_paper_final2/convnext_tiny.fb_in1k_fgvc-aircraft-2013b_TRADES_v2.pkl\n",
      "../results/full_fine_tuning_50epochs_paper_final2/robust_convnext_tiny_fgvc-aircraft-2013b_TRADES_v2.pkl\n",
      "../results/full_fine_tuning_50epochs_paper_final2/robust_deit_small_patch16_224_fgvc-aircraft-2013b_TRADES_v2.pkl\n",
      "../results/full_fine_tuning_50epochs_paper_final2/vit_small_patch16_224.augreg_in1k_fgvc-aircraft-2013b_TRADES_v2.pkl\n",
      "../results/full_fine_tuning_50epochs_paper_final2/convnext_tiny.fb_in22k_fgvc-aircraft-2013b_TRADES_v2.pkl\n",
      "../results/full_fine_tuning_50epochs_paper_final2/vit_base_patch16_clip_224.laion2b_ft_in1k_fgvc-aircraft-2013b_TRADES_v2.pkl\n",
      "../results/full_fine_tuning_50epochs_paper_final2/vit_base_patch16_224.augreg_in21k_ft_in1k_fgvc-aircraft-2013b_TRADES_v2.pkl\n",
      "../results/full_fine_tuning_50epochs_paper_final2/vit_small_patch16_224.augreg_in21k_ft_in1k_fgvc-aircraft-2013b_TRADES_v2.pkl\n",
      "../results/full_fine_tuning_50epochs_paper_final2/eva02_base_patch14_224.mim_in22k_fgvc-aircraft-2013b_TRADES_v2.pkl\n",
      "../results/full_fine_tuning_50epochs_paper_final2/eva02_tiny_patch14_224.mim_in22k_fgvc-aircraft-2013b_TRADES_v2.pkl\n",
      "../results/full_fine_tuning_50epochs_paper_final2/swin_base_patch4_window7_224.ms_in22k_ft_in1k_fgvc-aircraft-2013b_TRADES_v2.pkl\n",
      "../results/full_fine_tuning_50epochs_paper_final2/swin_tiny_patch4_window7_224.ms_in1k_fgvc-aircraft-2013b_TRADES_v2.pkl\n",
      "../results/full_fine_tuning_50epochs_paper_final2/convnext_base.clip_laion2b_augreg_ft_in12k_in1k_fgvc-aircraft-2013b_TRADES_v2.pkl\n",
      "../results/full_fine_tuning_50epochs_paper_final2/convnext_base.fb_in22k_ft_in1k_fgvc-aircraft-2013b_TRADES_v2.pkl\n",
      "../results/full_fine_tuning_50epochs_paper_final2/convnext_tiny.fb_in22k_ft_in1k_fgvc-aircraft-2013b_TRADES_v2.pkl\n",
      "../results/full_fine_tuning_50epochs_paper_final2/coatnet_0_rw_224.sw_in1k_fgvc-aircraft-2013b_TRADES_v2.pkl\n",
      "../results/full_fine_tuning_50epochs_paper_final2/coatnet_2_rw_224.sw_in12k_ft_in1k_fgvc-aircraft-2013b_TRADES_v2.pkl\n",
      "../results/full_fine_tuning_50epochs_paper_final2/coatnet_2_rw_224.sw_in12k_fgvc-aircraft-2013b_TRADES_v2.pkl\n",
      "../results/full_fine_tuning_50epochs_paper_final2/regnetx_004.pycls_in1k_fgvc-aircraft-2013b_TRADES_v2.pkl\n",
      "HEY\n",
      "../results/full_fine_tuning_50epochs_edge_paper_final2/regnetx_004.pycls_in1k_fgvc-aircraft-2013b_TRADES_v2.pkl\n",
      "../results/full_fine_tuning_50epochs_paper_final2/efficientnet-b0_fgvc-aircraft-2013b_TRADES_v2.pkl\n",
      "HEY\n",
      "../results/full_fine_tuning_50epochs_edge_paper_final2/efficientnet-b0_fgvc-aircraft-2013b_TRADES_v2.pkl\n",
      "../results/full_fine_tuning_50epochs_paper_final2/deit_tiny_patch16_224.fb_in1k_fgvc-aircraft-2013b_TRADES_v2.pkl\n",
      "HEY\n",
      "../results/full_fine_tuning_50epochs_edge_paper_final2/deit_tiny_patch16_224.fb_in1k_fgvc-aircraft-2013b_TRADES_v2.pkl\n",
      "../results/full_fine_tuning_50epochs_paper_final2/mobilevit-small_fgvc-aircraft-2013b_TRADES_v2.pkl\n",
      "HEY\n",
      "../results/full_fine_tuning_50epochs_edge_paper_final2/mobilevit-small_fgvc-aircraft-2013b_TRADES_v2.pkl\n",
      "../results/full_fine_tuning_50epochs_paper_final2/mobilenetv3_large_100.ra_in1k_fgvc-aircraft-2013b_TRADES_v2.pkl\n",
      "HEY\n",
      "../results/full_fine_tuning_50epochs_edge_paper_final2/mobilenetv3_large_100.ra_in1k_fgvc-aircraft-2013b_TRADES_v2.pkl\n",
      "../results/full_fine_tuning_50epochs_paper_final2/edgenext_small.usi_in1k_fgvc-aircraft-2013b_TRADES_v2.pkl\n",
      "HEY\n",
      "../results/full_fine_tuning_50epochs_edge_paper_final2/edgenext_small.usi_in1k_fgvc-aircraft-2013b_TRADES_v2.pkl\n",
      "../results/full_fine_tuning_50epochs_paper_final2/coat_tiny.in1k_fgvc-aircraft-2013b_TRADES_v2.pkl\n",
      "../results/full_fine_tuning_50epochs_paper_final2/CLIP-convnext_base_w-laion_aesthetic-s13B-b82K_flowers-102_TRADES_v2.pkl\n",
      "../results/full_fine_tuning_50epochs_paper_final2/CLIP-convnext_base_w-laion2B-s13B-b82K_flowers-102_TRADES_v2.pkl\n",
      "../results/full_fine_tuning_50epochs_paper_final2/deit_small_patch16_224.fb_in1k_flowers-102_TRADES_v2.pkl\n",
      "../results/full_fine_tuning_50epochs_paper_final2/robust_resnet50_flowers-102_TRADES_v2.pkl\n",
      "../results/full_fine_tuning_50epochs_paper_final2/vit_small_patch16_224.augreg_in21k_flowers-102_TRADES_v2.pkl\n",
      "../results/full_fine_tuning_50epochs_paper_final2/convnext_base.fb_in1k_flowers-102_TRADES_v2.pkl\n",
      "../results/full_fine_tuning_50epochs_paper_final2/resnet50.a1_in1k_flowers-102_TRADES_v2.pkl\n",
      "../results/full_fine_tuning_50epochs_paper_final2/robust_vit_base_patch16_224_flowers-102_TRADES_v2.pkl\n",
      "../results/full_fine_tuning_50epochs_paper_final2/vit_base_patch16_224.mae_flowers-102_TRADES_v2.pkl\n",
      "../results/full_fine_tuning_50epochs_paper_final2/vit_small_patch16_224.dino_flowers-102_TRADES_v2.pkl\n",
      "../results/full_fine_tuning_50epochs_paper_final2/convnext_base.fb_in22k_flowers-102_TRADES_v2.pkl\n",
      "../results/full_fine_tuning_50epochs_paper_final2/robust_convnext_base_flowers-102_TRADES_v2.pkl\n",
      "../results/full_fine_tuning_50epochs_paper_final2/vit_base_patch16_224.augreg_in1k_flowers-102_TRADES_v2.pkl\n",
      "../results/full_fine_tuning_50epochs_paper_final2/vit_base_patch16_224.augreg_in21k_flowers-102_TRADES_v2.pkl\n",
      "../results/full_fine_tuning_50epochs_paper_final2/vit_base_patch16_clip_224.laion2b_flowers-102_TRADES_v2.pkl\n",
      "../results/full_fine_tuning_50epochs_paper_final2/convnext_tiny.fb_in1k_flowers-102_TRADES_v2.pkl\n",
      "../results/full_fine_tuning_50epochs_paper_final2/robust_convnext_tiny_flowers-102_TRADES_v2.pkl\n",
      "../results/full_fine_tuning_50epochs_paper_final2/robust_deit_small_patch16_224_flowers-102_TRADES_v2.pkl\n",
      "../results/full_fine_tuning_50epochs_paper_final2/vit_small_patch16_224.augreg_in1k_flowers-102_TRADES_v2.pkl\n",
      "../results/full_fine_tuning_50epochs_paper_final2/convnext_tiny.fb_in22k_flowers-102_TRADES_v2.pkl\n",
      "../results/full_fine_tuning_50epochs_paper_final2/vit_base_patch16_clip_224.laion2b_ft_in1k_flowers-102_TRADES_v2.pkl\n",
      "../results/full_fine_tuning_50epochs_paper_final2/vit_base_patch16_224.augreg_in21k_ft_in1k_flowers-102_TRADES_v2.pkl\n",
      "../results/full_fine_tuning_50epochs_paper_final2/vit_small_patch16_224.augreg_in21k_ft_in1k_flowers-102_TRADES_v2.pkl\n",
      "../results/full_fine_tuning_50epochs_paper_final2/eva02_base_patch14_224.mim_in22k_flowers-102_TRADES_v2.pkl\n",
      "../results/full_fine_tuning_50epochs_paper_final2/eva02_tiny_patch14_224.mim_in22k_flowers-102_TRADES_v2.pkl\n",
      "../results/full_fine_tuning_50epochs_paper_final2/swin_base_patch4_window7_224.ms_in22k_ft_in1k_flowers-102_TRADES_v2.pkl\n",
      "../results/full_fine_tuning_50epochs_paper_final2/swin_tiny_patch4_window7_224.ms_in1k_flowers-102_TRADES_v2.pkl\n",
      "../results/full_fine_tuning_50epochs_paper_final2/convnext_base.clip_laion2b_augreg_ft_in12k_in1k_flowers-102_TRADES_v2.pkl\n",
      "../results/full_fine_tuning_50epochs_paper_final2/convnext_base.fb_in22k_ft_in1k_flowers-102_TRADES_v2.pkl\n",
      "../results/full_fine_tuning_50epochs_paper_final2/convnext_tiny.fb_in22k_ft_in1k_flowers-102_TRADES_v2.pkl\n",
      "../results/full_fine_tuning_50epochs_paper_final2/coatnet_0_rw_224.sw_in1k_flowers-102_TRADES_v2.pkl\n",
      "../results/full_fine_tuning_50epochs_paper_final2/coatnet_2_rw_224.sw_in12k_ft_in1k_flowers-102_TRADES_v2.pkl\n",
      "../results/full_fine_tuning_50epochs_paper_final2/coatnet_2_rw_224.sw_in12k_flowers-102_TRADES_v2.pkl\n",
      "../results/full_fine_tuning_50epochs_paper_final2/regnetx_004.pycls_in1k_flowers-102_TRADES_v2.pkl\n",
      "HEY\n",
      "../results/full_fine_tuning_50epochs_edge_paper_final2/regnetx_004.pycls_in1k_flowers-102_TRADES_v2.pkl\n",
      "../results/full_fine_tuning_50epochs_paper_final2/efficientnet-b0_flowers-102_TRADES_v2.pkl\n",
      "HEY\n",
      "../results/full_fine_tuning_50epochs_edge_paper_final2/efficientnet-b0_flowers-102_TRADES_v2.pkl\n",
      "../results/full_fine_tuning_50epochs_paper_final2/deit_tiny_patch16_224.fb_in1k_flowers-102_TRADES_v2.pkl\n",
      "HEY\n",
      "../results/full_fine_tuning_50epochs_edge_paper_final2/deit_tiny_patch16_224.fb_in1k_flowers-102_TRADES_v2.pkl\n",
      "../results/full_fine_tuning_50epochs_paper_final2/mobilevit-small_flowers-102_TRADES_v2.pkl\n",
      "HEY\n",
      "../results/full_fine_tuning_50epochs_edge_paper_final2/mobilevit-small_flowers-102_TRADES_v2.pkl\n",
      "../results/full_fine_tuning_50epochs_paper_final2/mobilenetv3_large_100.ra_in1k_flowers-102_TRADES_v2.pkl\n",
      "HEY\n",
      "../results/full_fine_tuning_50epochs_edge_paper_final2/mobilenetv3_large_100.ra_in1k_flowers-102_TRADES_v2.pkl\n",
      "../results/full_fine_tuning_50epochs_paper_final2/edgenext_small.usi_in1k_flowers-102_TRADES_v2.pkl\n",
      "HEY\n",
      "../results/full_fine_tuning_50epochs_edge_paper_final2/edgenext_small.usi_in1k_flowers-102_TRADES_v2.pkl\n",
      "../results/full_fine_tuning_50epochs_paper_final2/coat_tiny.in1k_flowers-102_TRADES_v2.pkl\n",
      "../results/full_fine_tuning_50epochs_paper_final2/CLIP-convnext_base_w-laion_aesthetic-s13B-b82K_oxford-iiit-pet_TRADES_v2.pkl\n",
      "../results/full_fine_tuning_50epochs_paper_final2/CLIP-convnext_base_w-laion2B-s13B-b82K_oxford-iiit-pet_TRADES_v2.pkl\n",
      "../results/full_fine_tuning_50epochs_paper_final2/deit_small_patch16_224.fb_in1k_oxford-iiit-pet_TRADES_v2.pkl\n",
      "../results/full_fine_tuning_50epochs_paper_final2/robust_resnet50_oxford-iiit-pet_TRADES_v2.pkl\n",
      "../results/full_fine_tuning_50epochs_paper_final2/vit_small_patch16_224.augreg_in21k_oxford-iiit-pet_TRADES_v2.pkl\n",
      "../results/full_fine_tuning_50epochs_paper_final2/convnext_base.fb_in1k_oxford-iiit-pet_TRADES_v2.pkl\n",
      "../results/full_fine_tuning_50epochs_paper_final2/resnet50.a1_in1k_oxford-iiit-pet_TRADES_v2.pkl\n",
      "../results/full_fine_tuning_50epochs_paper_final2/robust_vit_base_patch16_224_oxford-iiit-pet_TRADES_v2.pkl\n",
      "../results/full_fine_tuning_50epochs_paper_final2/vit_base_patch16_224.mae_oxford-iiit-pet_TRADES_v2.pkl\n",
      "../results/full_fine_tuning_50epochs_paper_final2/vit_small_patch16_224.dino_oxford-iiit-pet_TRADES_v2.pkl\n",
      "../results/full_fine_tuning_50epochs_paper_final2/convnext_base.fb_in22k_oxford-iiit-pet_TRADES_v2.pkl\n",
      "../results/full_fine_tuning_50epochs_paper_final2/robust_convnext_base_oxford-iiit-pet_TRADES_v2.pkl\n",
      "../results/full_fine_tuning_50epochs_paper_final2/vit_base_patch16_224.augreg_in1k_oxford-iiit-pet_TRADES_v2.pkl\n",
      "../results/full_fine_tuning_50epochs_paper_final2/vit_base_patch16_224.augreg_in21k_oxford-iiit-pet_TRADES_v2.pkl\n",
      "../results/full_fine_tuning_50epochs_paper_final2/vit_base_patch16_clip_224.laion2b_oxford-iiit-pet_TRADES_v2.pkl\n",
      "../results/full_fine_tuning_50epochs_paper_final2/convnext_tiny.fb_in1k_oxford-iiit-pet_TRADES_v2.pkl\n",
      "../results/full_fine_tuning_50epochs_paper_final2/robust_convnext_tiny_oxford-iiit-pet_TRADES_v2.pkl\n",
      "../results/full_fine_tuning_50epochs_paper_final2/robust_deit_small_patch16_224_oxford-iiit-pet_TRADES_v2.pkl\n",
      "../results/full_fine_tuning_50epochs_paper_final2/vit_small_patch16_224.augreg_in1k_oxford-iiit-pet_TRADES_v2.pkl\n",
      "../results/full_fine_tuning_50epochs_paper_final2/convnext_tiny.fb_in22k_oxford-iiit-pet_TRADES_v2.pkl\n",
      "../results/full_fine_tuning_50epochs_paper_final2/vit_base_patch16_clip_224.laion2b_ft_in1k_oxford-iiit-pet_TRADES_v2.pkl\n",
      "../results/full_fine_tuning_50epochs_paper_final2/vit_base_patch16_224.augreg_in21k_ft_in1k_oxford-iiit-pet_TRADES_v2.pkl\n",
      "../results/full_fine_tuning_50epochs_paper_final2/vit_small_patch16_224.augreg_in21k_ft_in1k_oxford-iiit-pet_TRADES_v2.pkl\n",
      "../results/full_fine_tuning_50epochs_paper_final2/eva02_base_patch14_224.mim_in22k_oxford-iiit-pet_TRADES_v2.pkl\n",
      "../results/full_fine_tuning_50epochs_paper_final2/eva02_tiny_patch14_224.mim_in22k_oxford-iiit-pet_TRADES_v2.pkl\n",
      "../results/full_fine_tuning_50epochs_paper_final2/swin_base_patch4_window7_224.ms_in22k_ft_in1k_oxford-iiit-pet_TRADES_v2.pkl\n",
      "../results/full_fine_tuning_50epochs_paper_final2/swin_tiny_patch4_window7_224.ms_in1k_oxford-iiit-pet_TRADES_v2.pkl\n",
      "../results/full_fine_tuning_50epochs_paper_final2/convnext_base.clip_laion2b_augreg_ft_in12k_in1k_oxford-iiit-pet_TRADES_v2.pkl\n",
      "../results/full_fine_tuning_50epochs_paper_final2/convnext_base.fb_in22k_ft_in1k_oxford-iiit-pet_TRADES_v2.pkl\n",
      "../results/full_fine_tuning_50epochs_paper_final2/convnext_tiny.fb_in22k_ft_in1k_oxford-iiit-pet_TRADES_v2.pkl\n",
      "../results/full_fine_tuning_50epochs_paper_final2/coatnet_0_rw_224.sw_in1k_oxford-iiit-pet_TRADES_v2.pkl\n",
      "../results/full_fine_tuning_50epochs_paper_final2/coatnet_2_rw_224.sw_in12k_ft_in1k_oxford-iiit-pet_TRADES_v2.pkl\n",
      "../results/full_fine_tuning_50epochs_paper_final2/coatnet_2_rw_224.sw_in12k_oxford-iiit-pet_TRADES_v2.pkl\n",
      "../results/full_fine_tuning_50epochs_paper_final2/regnetx_004.pycls_in1k_oxford-iiit-pet_TRADES_v2.pkl\n",
      "HEY\n",
      "../results/full_fine_tuning_50epochs_edge_paper_final2/regnetx_004.pycls_in1k_oxford-iiit-pet_TRADES_v2.pkl\n",
      "../results/full_fine_tuning_50epochs_paper_final2/efficientnet-b0_oxford-iiit-pet_TRADES_v2.pkl\n",
      "HEY\n",
      "../results/full_fine_tuning_50epochs_edge_paper_final2/efficientnet-b0_oxford-iiit-pet_TRADES_v2.pkl\n",
      "../results/full_fine_tuning_50epochs_paper_final2/deit_tiny_patch16_224.fb_in1k_oxford-iiit-pet_TRADES_v2.pkl\n",
      "HEY\n",
      "../results/full_fine_tuning_50epochs_edge_paper_final2/deit_tiny_patch16_224.fb_in1k_oxford-iiit-pet_TRADES_v2.pkl\n",
      "../results/full_fine_tuning_50epochs_paper_final2/mobilevit-small_oxford-iiit-pet_TRADES_v2.pkl\n",
      "HEY\n",
      "../results/full_fine_tuning_50epochs_edge_paper_final2/mobilevit-small_oxford-iiit-pet_TRADES_v2.pkl\n",
      "../results/full_fine_tuning_50epochs_paper_final2/mobilenetv3_large_100.ra_in1k_oxford-iiit-pet_TRADES_v2.pkl\n",
      "HEY\n",
      "../results/full_fine_tuning_50epochs_edge_paper_final2/mobilenetv3_large_100.ra_in1k_oxford-iiit-pet_TRADES_v2.pkl\n",
      "../results/full_fine_tuning_50epochs_paper_final2/edgenext_small.usi_in1k_oxford-iiit-pet_TRADES_v2.pkl\n",
      "HEY\n",
      "../results/full_fine_tuning_50epochs_edge_paper_final2/edgenext_small.usi_in1k_oxford-iiit-pet_TRADES_v2.pkl\n",
      "../results/full_fine_tuning_50epochs_paper_final2/coat_tiny.in1k_oxford-iiit-pet_TRADES_v2.pkl\n",
      "../results/full_fine_tuning_50epochs_paper_final2/CLIP-convnext_base_w-laion_aesthetic-s13B-b82K_uc-merced-land-use-dataset_CLASSIC_AT.pkl\n",
      "../results/full_fine_tuning_50epochs_paper_final2/CLIP-convnext_base_w-laion2B-s13B-b82K_uc-merced-land-use-dataset_CLASSIC_AT.pkl\n",
      "../results/full_fine_tuning_50epochs_paper_final2/deit_small_patch16_224.fb_in1k_uc-merced-land-use-dataset_CLASSIC_AT.pkl\n",
      "../results/full_fine_tuning_50epochs_paper_final2/robust_resnet50_uc-merced-land-use-dataset_CLASSIC_AT.pkl\n",
      "../results/full_fine_tuning_50epochs_paper_final2/vit_small_patch16_224.augreg_in21k_uc-merced-land-use-dataset_CLASSIC_AT.pkl\n",
      "../results/full_fine_tuning_50epochs_paper_final2/convnext_base.fb_in1k_uc-merced-land-use-dataset_CLASSIC_AT.pkl\n",
      "../results/full_fine_tuning_50epochs_paper_final2/resnet50.a1_in1k_uc-merced-land-use-dataset_CLASSIC_AT.pkl\n",
      "../results/full_fine_tuning_50epochs_paper_final2/robust_vit_base_patch16_224_uc-merced-land-use-dataset_CLASSIC_AT.pkl\n",
      "../results/full_fine_tuning_50epochs_paper_final2/vit_base_patch16_224.mae_uc-merced-land-use-dataset_CLASSIC_AT.pkl\n",
      "../results/full_fine_tuning_50epochs_paper_final2/vit_small_patch16_224.dino_uc-merced-land-use-dataset_CLASSIC_AT.pkl\n",
      "../results/full_fine_tuning_50epochs_paper_final2/convnext_base.fb_in22k_uc-merced-land-use-dataset_CLASSIC_AT.pkl\n",
      "../results/full_fine_tuning_50epochs_paper_final2/robust_convnext_base_uc-merced-land-use-dataset_CLASSIC_AT.pkl\n",
      "../results/full_fine_tuning_50epochs_paper_final2/vit_base_patch16_224.augreg_in1k_uc-merced-land-use-dataset_CLASSIC_AT.pkl\n",
      "../results/full_fine_tuning_50epochs_paper_final2/vit_base_patch16_224.augreg_in21k_uc-merced-land-use-dataset_CLASSIC_AT.pkl\n",
      "../results/full_fine_tuning_50epochs_paper_final2/vit_base_patch16_clip_224.laion2b_uc-merced-land-use-dataset_CLASSIC_AT.pkl\n",
      "../results/full_fine_tuning_50epochs_paper_final2/convnext_tiny.fb_in1k_uc-merced-land-use-dataset_CLASSIC_AT.pkl\n",
      "../results/full_fine_tuning_50epochs_paper_final2/robust_convnext_tiny_uc-merced-land-use-dataset_CLASSIC_AT.pkl\n",
      "../results/full_fine_tuning_50epochs_paper_final2/robust_deit_small_patch16_224_uc-merced-land-use-dataset_CLASSIC_AT.pkl\n",
      "../results/full_fine_tuning_50epochs_paper_final2/vit_small_patch16_224.augreg_in1k_uc-merced-land-use-dataset_CLASSIC_AT.pkl\n",
      "../results/full_fine_tuning_50epochs_paper_final2/convnext_tiny.fb_in22k_uc-merced-land-use-dataset_CLASSIC_AT.pkl\n",
      "../results/full_fine_tuning_50epochs_paper_final2/vit_base_patch16_clip_224.laion2b_ft_in1k_uc-merced-land-use-dataset_CLASSIC_AT.pkl\n",
      "../results/full_fine_tuning_50epochs_paper_final2/vit_base_patch16_224.augreg_in21k_ft_in1k_uc-merced-land-use-dataset_CLASSIC_AT.pkl\n",
      "../results/full_fine_tuning_50epochs_paper_final2/vit_small_patch16_224.augreg_in21k_ft_in1k_uc-merced-land-use-dataset_CLASSIC_AT.pkl\n",
      "../results/full_fine_tuning_50epochs_paper_final2/eva02_base_patch14_224.mim_in22k_uc-merced-land-use-dataset_CLASSIC_AT.pkl\n",
      "../results/full_fine_tuning_50epochs_paper_final2/eva02_tiny_patch14_224.mim_in22k_uc-merced-land-use-dataset_CLASSIC_AT.pkl\n",
      "../results/full_fine_tuning_50epochs_paper_final2/swin_base_patch4_window7_224.ms_in22k_ft_in1k_uc-merced-land-use-dataset_CLASSIC_AT.pkl\n",
      "../results/full_fine_tuning_50epochs_paper_final2/swin_tiny_patch4_window7_224.ms_in1k_uc-merced-land-use-dataset_CLASSIC_AT.pkl\n",
      "../results/full_fine_tuning_50epochs_paper_final2/convnext_base.clip_laion2b_augreg_ft_in12k_in1k_uc-merced-land-use-dataset_CLASSIC_AT.pkl\n",
      "../results/full_fine_tuning_50epochs_paper_final2/convnext_base.fb_in22k_ft_in1k_uc-merced-land-use-dataset_CLASSIC_AT.pkl\n",
      "../results/full_fine_tuning_50epochs_paper_final2/convnext_tiny.fb_in22k_ft_in1k_uc-merced-land-use-dataset_CLASSIC_AT.pkl\n",
      "../results/full_fine_tuning_50epochs_paper_final2/coatnet_0_rw_224.sw_in1k_uc-merced-land-use-dataset_CLASSIC_AT.pkl\n",
      "../results/full_fine_tuning_50epochs_paper_final2/coatnet_2_rw_224.sw_in12k_ft_in1k_uc-merced-land-use-dataset_CLASSIC_AT.pkl\n",
      "../results/full_fine_tuning_50epochs_paper_final2/coatnet_2_rw_224.sw_in12k_uc-merced-land-use-dataset_CLASSIC_AT.pkl\n",
      "../results/full_fine_tuning_50epochs_paper_final2/regnetx_004.pycls_in1k_uc-merced-land-use-dataset_CLASSIC_AT.pkl\n",
      "HEY\n",
      "../results/full_fine_tuning_50epochs_edge_paper_final2/regnetx_004.pycls_in1k_uc-merced-land-use-dataset_CLASSIC_AT.pkl\n",
      "../results/full_fine_tuning_50epochs_paper_final2/efficientnet-b0_uc-merced-land-use-dataset_CLASSIC_AT.pkl\n",
      "HEY\n",
      "../results/full_fine_tuning_50epochs_edge_paper_final2/efficientnet-b0_uc-merced-land-use-dataset_CLASSIC_AT.pkl\n",
      "../results/full_fine_tuning_50epochs_paper_final2/deit_tiny_patch16_224.fb_in1k_uc-merced-land-use-dataset_CLASSIC_AT.pkl\n",
      "HEY\n",
      "../results/full_fine_tuning_50epochs_edge_paper_final2/deit_tiny_patch16_224.fb_in1k_uc-merced-land-use-dataset_CLASSIC_AT.pkl\n",
      "../results/full_fine_tuning_50epochs_paper_final2/mobilevit-small_uc-merced-land-use-dataset_CLASSIC_AT.pkl\n",
      "HEY\n",
      "../results/full_fine_tuning_50epochs_edge_paper_final2/mobilevit-small_uc-merced-land-use-dataset_CLASSIC_AT.pkl\n",
      "../results/full_fine_tuning_50epochs_paper_final2/mobilenetv3_large_100.ra_in1k_uc-merced-land-use-dataset_CLASSIC_AT.pkl\n",
      "HEY\n",
      "../results/full_fine_tuning_50epochs_edge_paper_final2/mobilenetv3_large_100.ra_in1k_uc-merced-land-use-dataset_CLASSIC_AT.pkl\n",
      "../results/full_fine_tuning_50epochs_paper_final2/edgenext_small.usi_in1k_uc-merced-land-use-dataset_CLASSIC_AT.pkl\n",
      "HEY\n",
      "../results/full_fine_tuning_50epochs_edge_paper_final2/edgenext_small.usi_in1k_uc-merced-land-use-dataset_CLASSIC_AT.pkl\n",
      "../results/full_fine_tuning_50epochs_paper_final2/coat_tiny.in1k_uc-merced-land-use-dataset_CLASSIC_AT.pkl\n",
      "HEY\n",
      "../results/full_fine_tuning_50epochs_edge_paper_final2/coat_tiny.in1k_uc-merced-land-use-dataset_CLASSIC_AT.pkl\n",
      "../results/full_fine_tuning_50epochs_paper_final2/CLIP-convnext_base_w-laion_aesthetic-s13B-b82K_stanford_cars_CLASSIC_AT.pkl\n",
      "../results/full_fine_tuning_50epochs_paper_final2/CLIP-convnext_base_w-laion2B-s13B-b82K_stanford_cars_CLASSIC_AT.pkl\n",
      "../results/full_fine_tuning_50epochs_paper_final2/deit_small_patch16_224.fb_in1k_stanford_cars_CLASSIC_AT.pkl\n",
      "../results/full_fine_tuning_50epochs_paper_final2/robust_resnet50_stanford_cars_CLASSIC_AT.pkl\n",
      "../results/full_fine_tuning_50epochs_paper_final2/vit_small_patch16_224.augreg_in21k_stanford_cars_CLASSIC_AT.pkl\n",
      "../results/full_fine_tuning_50epochs_paper_final2/convnext_base.fb_in1k_stanford_cars_CLASSIC_AT.pkl\n",
      "../results/full_fine_tuning_50epochs_paper_final2/resnet50.a1_in1k_stanford_cars_CLASSIC_AT.pkl\n",
      "../results/full_fine_tuning_50epochs_paper_final2/robust_vit_base_patch16_224_stanford_cars_CLASSIC_AT.pkl\n",
      "../results/full_fine_tuning_50epochs_paper_final2/vit_base_patch16_224.mae_stanford_cars_CLASSIC_AT.pkl\n",
      "../results/full_fine_tuning_50epochs_paper_final2/vit_small_patch16_224.dino_stanford_cars_CLASSIC_AT.pkl\n",
      "../results/full_fine_tuning_50epochs_paper_final2/convnext_base.fb_in22k_stanford_cars_CLASSIC_AT.pkl\n",
      "../results/full_fine_tuning_50epochs_paper_final2/robust_convnext_base_stanford_cars_CLASSIC_AT.pkl\n",
      "../results/full_fine_tuning_50epochs_paper_final2/vit_base_patch16_224.augreg_in1k_stanford_cars_CLASSIC_AT.pkl\n",
      "../results/full_fine_tuning_50epochs_paper_final2/vit_base_patch16_224.augreg_in21k_stanford_cars_CLASSIC_AT.pkl\n",
      "../results/full_fine_tuning_50epochs_paper_final2/vit_base_patch16_clip_224.laion2b_stanford_cars_CLASSIC_AT.pkl\n",
      "../results/full_fine_tuning_50epochs_paper_final2/convnext_tiny.fb_in1k_stanford_cars_CLASSIC_AT.pkl\n",
      "../results/full_fine_tuning_50epochs_paper_final2/robust_convnext_tiny_stanford_cars_CLASSIC_AT.pkl\n",
      "../results/full_fine_tuning_50epochs_paper_final2/robust_deit_small_patch16_224_stanford_cars_CLASSIC_AT.pkl\n",
      "../results/full_fine_tuning_50epochs_paper_final2/vit_small_patch16_224.augreg_in1k_stanford_cars_CLASSIC_AT.pkl\n",
      "../results/full_fine_tuning_50epochs_paper_final2/convnext_tiny.fb_in22k_stanford_cars_CLASSIC_AT.pkl\n",
      "../results/full_fine_tuning_50epochs_paper_final2/vit_base_patch16_clip_224.laion2b_ft_in1k_stanford_cars_CLASSIC_AT.pkl\n",
      "../results/full_fine_tuning_50epochs_paper_final2/vit_base_patch16_224.augreg_in21k_ft_in1k_stanford_cars_CLASSIC_AT.pkl\n",
      "../results/full_fine_tuning_50epochs_paper_final2/vit_small_patch16_224.augreg_in21k_ft_in1k_stanford_cars_CLASSIC_AT.pkl\n",
      "../results/full_fine_tuning_50epochs_paper_final2/eva02_base_patch14_224.mim_in22k_stanford_cars_CLASSIC_AT.pkl\n",
      "../results/full_fine_tuning_50epochs_paper_final2/eva02_tiny_patch14_224.mim_in22k_stanford_cars_CLASSIC_AT.pkl\n",
      "../results/full_fine_tuning_50epochs_paper_final2/swin_base_patch4_window7_224.ms_in22k_ft_in1k_stanford_cars_CLASSIC_AT.pkl\n",
      "../results/full_fine_tuning_50epochs_paper_final2/swin_tiny_patch4_window7_224.ms_in1k_stanford_cars_CLASSIC_AT.pkl\n",
      "../results/full_fine_tuning_50epochs_paper_final2/convnext_base.clip_laion2b_augreg_ft_in12k_in1k_stanford_cars_CLASSIC_AT.pkl\n",
      "../results/full_fine_tuning_50epochs_paper_final2/convnext_base.fb_in22k_ft_in1k_stanford_cars_CLASSIC_AT.pkl\n",
      "../results/full_fine_tuning_50epochs_paper_final2/convnext_tiny.fb_in22k_ft_in1k_stanford_cars_CLASSIC_AT.pkl\n",
      "../results/full_fine_tuning_50epochs_paper_final2/coatnet_0_rw_224.sw_in1k_stanford_cars_CLASSIC_AT.pkl\n",
      "../results/full_fine_tuning_50epochs_paper_final2/coatnet_2_rw_224.sw_in12k_ft_in1k_stanford_cars_CLASSIC_AT.pkl\n",
      "../results/full_fine_tuning_50epochs_paper_final2/coatnet_2_rw_224.sw_in12k_stanford_cars_CLASSIC_AT.pkl\n",
      "../results/full_fine_tuning_50epochs_paper_final2/regnetx_004.pycls_in1k_stanford_cars_CLASSIC_AT.pkl\n",
      "HEY\n",
      "../results/full_fine_tuning_50epochs_edge_paper_final2/regnetx_004.pycls_in1k_stanford_cars_CLASSIC_AT.pkl\n",
      "../results/full_fine_tuning_50epochs_paper_final2/efficientnet-b0_stanford_cars_CLASSIC_AT.pkl\n",
      "HEY\n",
      "../results/full_fine_tuning_50epochs_edge_paper_final2/efficientnet-b0_stanford_cars_CLASSIC_AT.pkl\n",
      "../results/full_fine_tuning_50epochs_paper_final2/deit_tiny_patch16_224.fb_in1k_stanford_cars_CLASSIC_AT.pkl\n",
      "HEY\n",
      "../results/full_fine_tuning_50epochs_edge_paper_final2/deit_tiny_patch16_224.fb_in1k_stanford_cars_CLASSIC_AT.pkl\n",
      "../results/full_fine_tuning_50epochs_paper_final2/mobilevit-small_stanford_cars_CLASSIC_AT.pkl\n",
      "HEY\n",
      "../results/full_fine_tuning_50epochs_edge_paper_final2/mobilevit-small_stanford_cars_CLASSIC_AT.pkl\n",
      "../results/full_fine_tuning_50epochs_paper_final2/mobilenetv3_large_100.ra_in1k_stanford_cars_CLASSIC_AT.pkl\n",
      "HEY\n",
      "../results/full_fine_tuning_50epochs_edge_paper_final2/mobilenetv3_large_100.ra_in1k_stanford_cars_CLASSIC_AT.pkl\n",
      "../results/full_fine_tuning_50epochs_paper_final2/edgenext_small.usi_in1k_stanford_cars_CLASSIC_AT.pkl\n",
      "HEY\n",
      "../results/full_fine_tuning_50epochs_edge_paper_final2/edgenext_small.usi_in1k_stanford_cars_CLASSIC_AT.pkl\n",
      "../results/full_fine_tuning_50epochs_paper_final2/coat_tiny.in1k_stanford_cars_CLASSIC_AT.pkl\n",
      "../results/full_fine_tuning_50epochs_paper_final2/CLIP-convnext_base_w-laion_aesthetic-s13B-b82K_caltech101_CLASSIC_AT.pkl\n",
      "../results/full_fine_tuning_50epochs_paper_final2/CLIP-convnext_base_w-laion2B-s13B-b82K_caltech101_CLASSIC_AT.pkl\n",
      "../results/full_fine_tuning_50epochs_paper_final2/deit_small_patch16_224.fb_in1k_caltech101_CLASSIC_AT.pkl\n",
      "../results/full_fine_tuning_50epochs_paper_final2/robust_resnet50_caltech101_CLASSIC_AT.pkl\n",
      "../results/full_fine_tuning_50epochs_paper_final2/vit_small_patch16_224.augreg_in21k_caltech101_CLASSIC_AT.pkl\n",
      "../results/full_fine_tuning_50epochs_paper_final2/convnext_base.fb_in1k_caltech101_CLASSIC_AT.pkl\n",
      "../results/full_fine_tuning_50epochs_paper_final2/resnet50.a1_in1k_caltech101_CLASSIC_AT.pkl\n",
      "../results/full_fine_tuning_50epochs_paper_final2/robust_vit_base_patch16_224_caltech101_CLASSIC_AT.pkl\n",
      "../results/full_fine_tuning_50epochs_paper_final2/vit_base_patch16_224.mae_caltech101_CLASSIC_AT.pkl\n",
      "../results/full_fine_tuning_50epochs_paper_final2/vit_small_patch16_224.dino_caltech101_CLASSIC_AT.pkl\n",
      "../results/full_fine_tuning_50epochs_paper_final2/convnext_base.fb_in22k_caltech101_CLASSIC_AT.pkl\n",
      "../results/full_fine_tuning_50epochs_paper_final2/robust_convnext_base_caltech101_CLASSIC_AT.pkl\n",
      "../results/full_fine_tuning_50epochs_paper_final2/vit_base_patch16_224.augreg_in1k_caltech101_CLASSIC_AT.pkl\n",
      "../results/full_fine_tuning_50epochs_paper_final2/vit_base_patch16_224.augreg_in21k_caltech101_CLASSIC_AT.pkl\n",
      "../results/full_fine_tuning_50epochs_paper_final2/vit_base_patch16_clip_224.laion2b_caltech101_CLASSIC_AT.pkl\n",
      "../results/full_fine_tuning_50epochs_paper_final2/convnext_tiny.fb_in1k_caltech101_CLASSIC_AT.pkl\n",
      "../results/full_fine_tuning_50epochs_paper_final2/robust_convnext_tiny_caltech101_CLASSIC_AT.pkl\n",
      "../results/full_fine_tuning_50epochs_paper_final2/robust_deit_small_patch16_224_caltech101_CLASSIC_AT.pkl\n",
      "../results/full_fine_tuning_50epochs_paper_final2/vit_small_patch16_224.augreg_in1k_caltech101_CLASSIC_AT.pkl\n",
      "../results/full_fine_tuning_50epochs_paper_final2/convnext_tiny.fb_in22k_caltech101_CLASSIC_AT.pkl\n",
      "../results/full_fine_tuning_50epochs_paper_final2/vit_base_patch16_clip_224.laion2b_ft_in1k_caltech101_CLASSIC_AT.pkl\n",
      "../results/full_fine_tuning_50epochs_paper_final2/vit_base_patch16_224.augreg_in21k_ft_in1k_caltech101_CLASSIC_AT.pkl\n",
      "../results/full_fine_tuning_50epochs_paper_final2/vit_small_patch16_224.augreg_in21k_ft_in1k_caltech101_CLASSIC_AT.pkl\n",
      "../results/full_fine_tuning_50epochs_paper_final2/eva02_base_patch14_224.mim_in22k_caltech101_CLASSIC_AT.pkl\n",
      "../results/full_fine_tuning_50epochs_paper_final2/eva02_tiny_patch14_224.mim_in22k_caltech101_CLASSIC_AT.pkl\n",
      "../results/full_fine_tuning_50epochs_paper_final2/swin_base_patch4_window7_224.ms_in22k_ft_in1k_caltech101_CLASSIC_AT.pkl\n",
      "../results/full_fine_tuning_50epochs_paper_final2/swin_tiny_patch4_window7_224.ms_in1k_caltech101_CLASSIC_AT.pkl\n",
      "../results/full_fine_tuning_50epochs_paper_final2/convnext_base.clip_laion2b_augreg_ft_in12k_in1k_caltech101_CLASSIC_AT.pkl\n",
      "../results/full_fine_tuning_50epochs_paper_final2/convnext_base.fb_in22k_ft_in1k_caltech101_CLASSIC_AT.pkl\n",
      "../results/full_fine_tuning_50epochs_paper_final2/convnext_tiny.fb_in22k_ft_in1k_caltech101_CLASSIC_AT.pkl\n",
      "../results/full_fine_tuning_50epochs_paper_final2/coatnet_0_rw_224.sw_in1k_caltech101_CLASSIC_AT.pkl\n",
      "../results/full_fine_tuning_50epochs_paper_final2/coatnet_2_rw_224.sw_in12k_ft_in1k_caltech101_CLASSIC_AT.pkl\n",
      "../results/full_fine_tuning_50epochs_paper_final2/coatnet_2_rw_224.sw_in12k_caltech101_CLASSIC_AT.pkl\n",
      "../results/full_fine_tuning_50epochs_paper_final2/regnetx_004.pycls_in1k_caltech101_CLASSIC_AT.pkl\n",
      "HEY\n",
      "../results/full_fine_tuning_50epochs_edge_paper_final2/regnetx_004.pycls_in1k_caltech101_CLASSIC_AT.pkl\n",
      "../results/full_fine_tuning_50epochs_paper_final2/efficientnet-b0_caltech101_CLASSIC_AT.pkl\n",
      "HEY\n",
      "../results/full_fine_tuning_50epochs_edge_paper_final2/efficientnet-b0_caltech101_CLASSIC_AT.pkl\n",
      "../results/full_fine_tuning_50epochs_paper_final2/deit_tiny_patch16_224.fb_in1k_caltech101_CLASSIC_AT.pkl\n",
      "HEY\n",
      "../results/full_fine_tuning_50epochs_edge_paper_final2/deit_tiny_patch16_224.fb_in1k_caltech101_CLASSIC_AT.pkl\n",
      "../results/full_fine_tuning_50epochs_paper_final2/mobilevit-small_caltech101_CLASSIC_AT.pkl\n",
      "HEY\n",
      "../results/full_fine_tuning_50epochs_edge_paper_final2/mobilevit-small_caltech101_CLASSIC_AT.pkl\n",
      "../results/full_fine_tuning_50epochs_paper_final2/mobilenetv3_large_100.ra_in1k_caltech101_CLASSIC_AT.pkl\n",
      "HEY\n",
      "../results/full_fine_tuning_50epochs_edge_paper_final2/mobilenetv3_large_100.ra_in1k_caltech101_CLASSIC_AT.pkl\n",
      "../results/full_fine_tuning_50epochs_paper_final2/edgenext_small.usi_in1k_caltech101_CLASSIC_AT.pkl\n",
      "../results/full_fine_tuning_50epochs_paper_final2/coat_tiny.in1k_caltech101_CLASSIC_AT.pkl\n",
      "../results/full_fine_tuning_50epochs_paper_final2/CLIP-convnext_base_w-laion_aesthetic-s13B-b82K_fgvc-aircraft-2013b_CLASSIC_AT.pkl\n",
      "../results/full_fine_tuning_50epochs_paper_final2/CLIP-convnext_base_w-laion2B-s13B-b82K_fgvc-aircraft-2013b_CLASSIC_AT.pkl\n",
      "../results/full_fine_tuning_50epochs_paper_final2/deit_small_patch16_224.fb_in1k_fgvc-aircraft-2013b_CLASSIC_AT.pkl\n",
      "../results/full_fine_tuning_50epochs_paper_final2/robust_resnet50_fgvc-aircraft-2013b_CLASSIC_AT.pkl\n",
      "../results/full_fine_tuning_50epochs_paper_final2/vit_small_patch16_224.augreg_in21k_fgvc-aircraft-2013b_CLASSIC_AT.pkl\n",
      "../results/full_fine_tuning_50epochs_paper_final2/convnext_base.fb_in1k_fgvc-aircraft-2013b_CLASSIC_AT.pkl\n",
      "../results/full_fine_tuning_50epochs_paper_final2/resnet50.a1_in1k_fgvc-aircraft-2013b_CLASSIC_AT.pkl\n",
      "../results/full_fine_tuning_50epochs_paper_final2/robust_vit_base_patch16_224_fgvc-aircraft-2013b_CLASSIC_AT.pkl\n",
      "../results/full_fine_tuning_50epochs_paper_final2/vit_base_patch16_224.mae_fgvc-aircraft-2013b_CLASSIC_AT.pkl\n",
      "../results/full_fine_tuning_50epochs_paper_final2/vit_small_patch16_224.dino_fgvc-aircraft-2013b_CLASSIC_AT.pkl\n",
      "../results/full_fine_tuning_50epochs_paper_final2/convnext_base.fb_in22k_fgvc-aircraft-2013b_CLASSIC_AT.pkl\n",
      "../results/full_fine_tuning_50epochs_paper_final2/robust_convnext_base_fgvc-aircraft-2013b_CLASSIC_AT.pkl\n",
      "../results/full_fine_tuning_50epochs_paper_final2/vit_base_patch16_224.augreg_in1k_fgvc-aircraft-2013b_CLASSIC_AT.pkl\n",
      "../results/full_fine_tuning_50epochs_paper_final2/vit_base_patch16_224.augreg_in21k_fgvc-aircraft-2013b_CLASSIC_AT.pkl\n",
      "../results/full_fine_tuning_50epochs_paper_final2/vit_base_patch16_clip_224.laion2b_fgvc-aircraft-2013b_CLASSIC_AT.pkl\n",
      "../results/full_fine_tuning_50epochs_paper_final2/convnext_tiny.fb_in1k_fgvc-aircraft-2013b_CLASSIC_AT.pkl\n",
      "../results/full_fine_tuning_50epochs_paper_final2/robust_convnext_tiny_fgvc-aircraft-2013b_CLASSIC_AT.pkl\n",
      "../results/full_fine_tuning_50epochs_paper_final2/robust_deit_small_patch16_224_fgvc-aircraft-2013b_CLASSIC_AT.pkl\n",
      "../results/full_fine_tuning_50epochs_paper_final2/vit_small_patch16_224.augreg_in1k_fgvc-aircraft-2013b_CLASSIC_AT.pkl\n",
      "../results/full_fine_tuning_50epochs_paper_final2/convnext_tiny.fb_in22k_fgvc-aircraft-2013b_CLASSIC_AT.pkl\n",
      "../results/full_fine_tuning_50epochs_paper_final2/vit_base_patch16_clip_224.laion2b_ft_in1k_fgvc-aircraft-2013b_CLASSIC_AT.pkl\n",
      "../results/full_fine_tuning_50epochs_paper_final2/vit_base_patch16_224.augreg_in21k_ft_in1k_fgvc-aircraft-2013b_CLASSIC_AT.pkl\n",
      "../results/full_fine_tuning_50epochs_paper_final2/vit_small_patch16_224.augreg_in21k_ft_in1k_fgvc-aircraft-2013b_CLASSIC_AT.pkl\n",
      "../results/full_fine_tuning_50epochs_paper_final2/eva02_base_patch14_224.mim_in22k_fgvc-aircraft-2013b_CLASSIC_AT.pkl\n",
      "../results/full_fine_tuning_50epochs_paper_final2/eva02_tiny_patch14_224.mim_in22k_fgvc-aircraft-2013b_CLASSIC_AT.pkl\n",
      "../results/full_fine_tuning_50epochs_paper_final2/swin_base_patch4_window7_224.ms_in22k_ft_in1k_fgvc-aircraft-2013b_CLASSIC_AT.pkl\n",
      "../results/full_fine_tuning_50epochs_paper_final2/swin_tiny_patch4_window7_224.ms_in1k_fgvc-aircraft-2013b_CLASSIC_AT.pkl\n",
      "../results/full_fine_tuning_50epochs_paper_final2/convnext_base.clip_laion2b_augreg_ft_in12k_in1k_fgvc-aircraft-2013b_CLASSIC_AT.pkl\n",
      "../results/full_fine_tuning_50epochs_paper_final2/convnext_base.fb_in22k_ft_in1k_fgvc-aircraft-2013b_CLASSIC_AT.pkl\n",
      "../results/full_fine_tuning_50epochs_paper_final2/convnext_tiny.fb_in22k_ft_in1k_fgvc-aircraft-2013b_CLASSIC_AT.pkl\n",
      "../results/full_fine_tuning_50epochs_paper_final2/coatnet_0_rw_224.sw_in1k_fgvc-aircraft-2013b_CLASSIC_AT.pkl\n",
      "../results/full_fine_tuning_50epochs_paper_final2/coatnet_2_rw_224.sw_in12k_ft_in1k_fgvc-aircraft-2013b_CLASSIC_AT.pkl\n",
      "../results/full_fine_tuning_50epochs_paper_final2/coatnet_2_rw_224.sw_in12k_fgvc-aircraft-2013b_CLASSIC_AT.pkl\n",
      "../results/full_fine_tuning_50epochs_paper_final2/regnetx_004.pycls_in1k_fgvc-aircraft-2013b_CLASSIC_AT.pkl\n",
      "HEY\n",
      "../results/full_fine_tuning_50epochs_edge_paper_final2/regnetx_004.pycls_in1k_fgvc-aircraft-2013b_CLASSIC_AT.pkl\n",
      "../results/full_fine_tuning_50epochs_paper_final2/efficientnet-b0_fgvc-aircraft-2013b_CLASSIC_AT.pkl\n",
      "HEY\n",
      "../results/full_fine_tuning_50epochs_edge_paper_final2/efficientnet-b0_fgvc-aircraft-2013b_CLASSIC_AT.pkl\n",
      "../results/full_fine_tuning_50epochs_paper_final2/deit_tiny_patch16_224.fb_in1k_fgvc-aircraft-2013b_CLASSIC_AT.pkl\n",
      "HEY\n",
      "../results/full_fine_tuning_50epochs_edge_paper_final2/deit_tiny_patch16_224.fb_in1k_fgvc-aircraft-2013b_CLASSIC_AT.pkl\n",
      "../results/full_fine_tuning_50epochs_paper_final2/mobilevit-small_fgvc-aircraft-2013b_CLASSIC_AT.pkl\n",
      "HEY\n",
      "../results/full_fine_tuning_50epochs_edge_paper_final2/mobilevit-small_fgvc-aircraft-2013b_CLASSIC_AT.pkl\n",
      "../results/full_fine_tuning_50epochs_paper_final2/mobilenetv3_large_100.ra_in1k_fgvc-aircraft-2013b_CLASSIC_AT.pkl\n",
      "HEY\n",
      "../results/full_fine_tuning_50epochs_edge_paper_final2/mobilenetv3_large_100.ra_in1k_fgvc-aircraft-2013b_CLASSIC_AT.pkl\n",
      "../results/full_fine_tuning_50epochs_paper_final2/edgenext_small.usi_in1k_fgvc-aircraft-2013b_CLASSIC_AT.pkl\n",
      "HEY\n",
      "../results/full_fine_tuning_50epochs_edge_paper_final2/edgenext_small.usi_in1k_fgvc-aircraft-2013b_CLASSIC_AT.pkl\n",
      "../results/full_fine_tuning_50epochs_paper_final2/coat_tiny.in1k_fgvc-aircraft-2013b_CLASSIC_AT.pkl\n",
      "HEY\n",
      "../results/full_fine_tuning_50epochs_edge_paper_final2/coat_tiny.in1k_fgvc-aircraft-2013b_CLASSIC_AT.pkl\n",
      "../results/full_fine_tuning_50epochs_paper_final2/CLIP-convnext_base_w-laion_aesthetic-s13B-b82K_flowers-102_CLASSIC_AT.pkl\n",
      "../results/full_fine_tuning_50epochs_paper_final2/CLIP-convnext_base_w-laion2B-s13B-b82K_flowers-102_CLASSIC_AT.pkl\n",
      "../results/full_fine_tuning_50epochs_paper_final2/deit_small_patch16_224.fb_in1k_flowers-102_CLASSIC_AT.pkl\n",
      "../results/full_fine_tuning_50epochs_paper_final2/robust_resnet50_flowers-102_CLASSIC_AT.pkl\n",
      "../results/full_fine_tuning_50epochs_paper_final2/vit_small_patch16_224.augreg_in21k_flowers-102_CLASSIC_AT.pkl\n",
      "../results/full_fine_tuning_50epochs_paper_final2/convnext_base.fb_in1k_flowers-102_CLASSIC_AT.pkl\n",
      "../results/full_fine_tuning_50epochs_paper_final2/resnet50.a1_in1k_flowers-102_CLASSIC_AT.pkl\n",
      "../results/full_fine_tuning_50epochs_paper_final2/robust_vit_base_patch16_224_flowers-102_CLASSIC_AT.pkl\n",
      "../results/full_fine_tuning_50epochs_paper_final2/vit_base_patch16_224.mae_flowers-102_CLASSIC_AT.pkl\n",
      "../results/full_fine_tuning_50epochs_paper_final2/vit_small_patch16_224.dino_flowers-102_CLASSIC_AT.pkl\n",
      "../results/full_fine_tuning_50epochs_paper_final2/convnext_base.fb_in22k_flowers-102_CLASSIC_AT.pkl\n",
      "../results/full_fine_tuning_50epochs_paper_final2/robust_convnext_base_flowers-102_CLASSIC_AT.pkl\n",
      "../results/full_fine_tuning_50epochs_paper_final2/vit_base_patch16_224.augreg_in1k_flowers-102_CLASSIC_AT.pkl\n",
      "../results/full_fine_tuning_50epochs_paper_final2/vit_base_patch16_224.augreg_in21k_flowers-102_CLASSIC_AT.pkl\n",
      "../results/full_fine_tuning_50epochs_paper_final2/vit_base_patch16_clip_224.laion2b_flowers-102_CLASSIC_AT.pkl\n",
      "../results/full_fine_tuning_50epochs_paper_final2/convnext_tiny.fb_in1k_flowers-102_CLASSIC_AT.pkl\n",
      "../results/full_fine_tuning_50epochs_paper_final2/robust_convnext_tiny_flowers-102_CLASSIC_AT.pkl\n",
      "../results/full_fine_tuning_50epochs_paper_final2/robust_deit_small_patch16_224_flowers-102_CLASSIC_AT.pkl\n",
      "../results/full_fine_tuning_50epochs_paper_final2/vit_small_patch16_224.augreg_in1k_flowers-102_CLASSIC_AT.pkl\n",
      "../results/full_fine_tuning_50epochs_paper_final2/convnext_tiny.fb_in22k_flowers-102_CLASSIC_AT.pkl\n",
      "../results/full_fine_tuning_50epochs_paper_final2/vit_base_patch16_clip_224.laion2b_ft_in1k_flowers-102_CLASSIC_AT.pkl\n",
      "../results/full_fine_tuning_50epochs_paper_final2/vit_base_patch16_224.augreg_in21k_ft_in1k_flowers-102_CLASSIC_AT.pkl\n",
      "../results/full_fine_tuning_50epochs_paper_final2/vit_small_patch16_224.augreg_in21k_ft_in1k_flowers-102_CLASSIC_AT.pkl\n",
      "../results/full_fine_tuning_50epochs_paper_final2/eva02_base_patch14_224.mim_in22k_flowers-102_CLASSIC_AT.pkl\n",
      "../results/full_fine_tuning_50epochs_paper_final2/eva02_tiny_patch14_224.mim_in22k_flowers-102_CLASSIC_AT.pkl\n",
      "../results/full_fine_tuning_50epochs_paper_final2/swin_base_patch4_window7_224.ms_in22k_ft_in1k_flowers-102_CLASSIC_AT.pkl\n",
      "../results/full_fine_tuning_50epochs_paper_final2/swin_tiny_patch4_window7_224.ms_in1k_flowers-102_CLASSIC_AT.pkl\n",
      "../results/full_fine_tuning_50epochs_paper_final2/convnext_base.clip_laion2b_augreg_ft_in12k_in1k_flowers-102_CLASSIC_AT.pkl\n",
      "../results/full_fine_tuning_50epochs_paper_final2/convnext_base.fb_in22k_ft_in1k_flowers-102_CLASSIC_AT.pkl\n",
      "../results/full_fine_tuning_50epochs_paper_final2/convnext_tiny.fb_in22k_ft_in1k_flowers-102_CLASSIC_AT.pkl\n",
      "../results/full_fine_tuning_50epochs_paper_final2/coatnet_0_rw_224.sw_in1k_flowers-102_CLASSIC_AT.pkl\n",
      "../results/full_fine_tuning_50epochs_paper_final2/coatnet_2_rw_224.sw_in12k_ft_in1k_flowers-102_CLASSIC_AT.pkl\n",
      "../results/full_fine_tuning_50epochs_paper_final2/coatnet_2_rw_224.sw_in12k_flowers-102_CLASSIC_AT.pkl\n",
      "../results/full_fine_tuning_50epochs_paper_final2/regnetx_004.pycls_in1k_flowers-102_CLASSIC_AT.pkl\n",
      "HEY\n",
      "../results/full_fine_tuning_50epochs_edge_paper_final2/regnetx_004.pycls_in1k_flowers-102_CLASSIC_AT.pkl\n",
      "../results/full_fine_tuning_50epochs_paper_final2/efficientnet-b0_flowers-102_CLASSIC_AT.pkl\n",
      "HEY\n",
      "../results/full_fine_tuning_50epochs_edge_paper_final2/efficientnet-b0_flowers-102_CLASSIC_AT.pkl\n",
      "../results/full_fine_tuning_50epochs_paper_final2/deit_tiny_patch16_224.fb_in1k_flowers-102_CLASSIC_AT.pkl\n",
      "HEY\n",
      "../results/full_fine_tuning_50epochs_edge_paper_final2/deit_tiny_patch16_224.fb_in1k_flowers-102_CLASSIC_AT.pkl\n",
      "../results/full_fine_tuning_50epochs_paper_final2/mobilevit-small_flowers-102_CLASSIC_AT.pkl\n",
      "HEY\n",
      "../results/full_fine_tuning_50epochs_edge_paper_final2/mobilevit-small_flowers-102_CLASSIC_AT.pkl\n",
      "../results/full_fine_tuning_50epochs_paper_final2/mobilenetv3_large_100.ra_in1k_flowers-102_CLASSIC_AT.pkl\n",
      "HEY\n",
      "../results/full_fine_tuning_50epochs_edge_paper_final2/mobilenetv3_large_100.ra_in1k_flowers-102_CLASSIC_AT.pkl\n",
      "../results/full_fine_tuning_50epochs_paper_final2/edgenext_small.usi_in1k_flowers-102_CLASSIC_AT.pkl\n",
      "HEY\n",
      "../results/full_fine_tuning_50epochs_edge_paper_final2/edgenext_small.usi_in1k_flowers-102_CLASSIC_AT.pkl\n",
      "../results/full_fine_tuning_50epochs_paper_final2/coat_tiny.in1k_flowers-102_CLASSIC_AT.pkl\n",
      "HEY\n",
      "../results/full_fine_tuning_50epochs_edge_paper_final2/coat_tiny.in1k_flowers-102_CLASSIC_AT.pkl\n",
      "../results/full_fine_tuning_50epochs_paper_final2/CLIP-convnext_base_w-laion_aesthetic-s13B-b82K_oxford-iiit-pet_CLASSIC_AT.pkl\n",
      "../results/full_fine_tuning_50epochs_paper_final2/CLIP-convnext_base_w-laion2B-s13B-b82K_oxford-iiit-pet_CLASSIC_AT.pkl\n",
      "../results/full_fine_tuning_50epochs_paper_final2/deit_small_patch16_224.fb_in1k_oxford-iiit-pet_CLASSIC_AT.pkl\n",
      "../results/full_fine_tuning_50epochs_paper_final2/robust_resnet50_oxford-iiit-pet_CLASSIC_AT.pkl\n",
      "../results/full_fine_tuning_50epochs_paper_final2/vit_small_patch16_224.augreg_in21k_oxford-iiit-pet_CLASSIC_AT.pkl\n",
      "../results/full_fine_tuning_50epochs_paper_final2/convnext_base.fb_in1k_oxford-iiit-pet_CLASSIC_AT.pkl\n",
      "../results/full_fine_tuning_50epochs_paper_final2/resnet50.a1_in1k_oxford-iiit-pet_CLASSIC_AT.pkl\n",
      "../results/full_fine_tuning_50epochs_paper_final2/robust_vit_base_patch16_224_oxford-iiit-pet_CLASSIC_AT.pkl\n",
      "../results/full_fine_tuning_50epochs_paper_final2/vit_base_patch16_224.mae_oxford-iiit-pet_CLASSIC_AT.pkl\n",
      "../results/full_fine_tuning_50epochs_paper_final2/vit_small_patch16_224.dino_oxford-iiit-pet_CLASSIC_AT.pkl\n",
      "../results/full_fine_tuning_50epochs_paper_final2/convnext_base.fb_in22k_oxford-iiit-pet_CLASSIC_AT.pkl\n",
      "../results/full_fine_tuning_50epochs_paper_final2/robust_convnext_base_oxford-iiit-pet_CLASSIC_AT.pkl\n",
      "../results/full_fine_tuning_50epochs_paper_final2/vit_base_patch16_224.augreg_in1k_oxford-iiit-pet_CLASSIC_AT.pkl\n",
      "../results/full_fine_tuning_50epochs_paper_final2/vit_base_patch16_224.augreg_in21k_oxford-iiit-pet_CLASSIC_AT.pkl\n",
      "../results/full_fine_tuning_50epochs_paper_final2/vit_base_patch16_clip_224.laion2b_oxford-iiit-pet_CLASSIC_AT.pkl\n",
      "../results/full_fine_tuning_50epochs_paper_final2/convnext_tiny.fb_in1k_oxford-iiit-pet_CLASSIC_AT.pkl\n",
      "../results/full_fine_tuning_50epochs_paper_final2/robust_convnext_tiny_oxford-iiit-pet_CLASSIC_AT.pkl\n",
      "../results/full_fine_tuning_50epochs_paper_final2/robust_deit_small_patch16_224_oxford-iiit-pet_CLASSIC_AT.pkl\n",
      "../results/full_fine_tuning_50epochs_paper_final2/vit_small_patch16_224.augreg_in1k_oxford-iiit-pet_CLASSIC_AT.pkl\n",
      "../results/full_fine_tuning_50epochs_paper_final2/convnext_tiny.fb_in22k_oxford-iiit-pet_CLASSIC_AT.pkl\n",
      "../results/full_fine_tuning_50epochs_paper_final2/vit_base_patch16_clip_224.laion2b_ft_in1k_oxford-iiit-pet_CLASSIC_AT.pkl\n",
      "../results/full_fine_tuning_50epochs_paper_final2/vit_base_patch16_224.augreg_in21k_ft_in1k_oxford-iiit-pet_CLASSIC_AT.pkl\n",
      "../results/full_fine_tuning_50epochs_paper_final2/vit_small_patch16_224.augreg_in21k_ft_in1k_oxford-iiit-pet_CLASSIC_AT.pkl\n",
      "../results/full_fine_tuning_50epochs_paper_final2/eva02_base_patch14_224.mim_in22k_oxford-iiit-pet_CLASSIC_AT.pkl\n",
      "../results/full_fine_tuning_50epochs_paper_final2/eva02_tiny_patch14_224.mim_in22k_oxford-iiit-pet_CLASSIC_AT.pkl\n",
      "../results/full_fine_tuning_50epochs_paper_final2/swin_base_patch4_window7_224.ms_in22k_ft_in1k_oxford-iiit-pet_CLASSIC_AT.pkl\n",
      "../results/full_fine_tuning_50epochs_paper_final2/swin_tiny_patch4_window7_224.ms_in1k_oxford-iiit-pet_CLASSIC_AT.pkl\n",
      "../results/full_fine_tuning_50epochs_paper_final2/convnext_base.clip_laion2b_augreg_ft_in12k_in1k_oxford-iiit-pet_CLASSIC_AT.pkl\n",
      "../results/full_fine_tuning_50epochs_paper_final2/convnext_base.fb_in22k_ft_in1k_oxford-iiit-pet_CLASSIC_AT.pkl\n",
      "../results/full_fine_tuning_50epochs_paper_final2/convnext_tiny.fb_in22k_ft_in1k_oxford-iiit-pet_CLASSIC_AT.pkl\n",
      "../results/full_fine_tuning_50epochs_paper_final2/coatnet_0_rw_224.sw_in1k_oxford-iiit-pet_CLASSIC_AT.pkl\n",
      "../results/full_fine_tuning_50epochs_paper_final2/coatnet_2_rw_224.sw_in12k_ft_in1k_oxford-iiit-pet_CLASSIC_AT.pkl\n",
      "../results/full_fine_tuning_50epochs_paper_final2/coatnet_2_rw_224.sw_in12k_oxford-iiit-pet_CLASSIC_AT.pkl\n",
      "../results/full_fine_tuning_50epochs_paper_final2/regnetx_004.pycls_in1k_oxford-iiit-pet_CLASSIC_AT.pkl\n",
      "HEY\n",
      "../results/full_fine_tuning_50epochs_edge_paper_final2/regnetx_004.pycls_in1k_oxford-iiit-pet_CLASSIC_AT.pkl\n",
      "../results/full_fine_tuning_50epochs_paper_final2/efficientnet-b0_oxford-iiit-pet_CLASSIC_AT.pkl\n",
      "HEY\n",
      "../results/full_fine_tuning_50epochs_edge_paper_final2/efficientnet-b0_oxford-iiit-pet_CLASSIC_AT.pkl\n",
      "../results/full_fine_tuning_50epochs_paper_final2/deit_tiny_patch16_224.fb_in1k_oxford-iiit-pet_CLASSIC_AT.pkl\n",
      "HEY\n",
      "../results/full_fine_tuning_50epochs_edge_paper_final2/deit_tiny_patch16_224.fb_in1k_oxford-iiit-pet_CLASSIC_AT.pkl\n",
      "../results/full_fine_tuning_50epochs_paper_final2/mobilevit-small_oxford-iiit-pet_CLASSIC_AT.pkl\n",
      "HEY\n",
      "../results/full_fine_tuning_50epochs_edge_paper_final2/mobilevit-small_oxford-iiit-pet_CLASSIC_AT.pkl\n",
      "../results/full_fine_tuning_50epochs_paper_final2/mobilenetv3_large_100.ra_in1k_oxford-iiit-pet_CLASSIC_AT.pkl\n",
      "HEY\n",
      "../results/full_fine_tuning_50epochs_edge_paper_final2/mobilenetv3_large_100.ra_in1k_oxford-iiit-pet_CLASSIC_AT.pkl\n",
      "../results/full_fine_tuning_50epochs_paper_final2/edgenext_small.usi_in1k_oxford-iiit-pet_CLASSIC_AT.pkl\n",
      "HEY\n",
      "../results/full_fine_tuning_50epochs_edge_paper_final2/edgenext_small.usi_in1k_oxford-iiit-pet_CLASSIC_AT.pkl\n",
      "../results/full_fine_tuning_50epochs_paper_final2/coat_tiny.in1k_oxford-iiit-pet_CLASSIC_AT.pkl\n",
      "HEY\n",
      "../results/full_fine_tuning_50epochs_edge_paper_final2/coat_tiny.in1k_oxford-iiit-pet_CLASSIC_AT.pkl\n",
      "../results/full_fine_tuning_5epochs_article1/CLIP-convnext_base_w-laion_aesthetic-s13B-b82K_uc-merced-land-use-dataset_TRADES_v2.pkl\n",
      "../results/full_fine_tuning_5epochs_article1/CLIP-convnext_base_w-laion2B-s13B-b82K_uc-merced-land-use-dataset_TRADES_v2.pkl\n",
      "../results/full_fine_tuning_5epochs_article1/deit_small_patch16_224.fb_in1k_uc-merced-land-use-dataset_TRADES_v2.pkl\n",
      "../results/full_fine_tuning_5epochs_article1/robust_resnet50_uc-merced-land-use-dataset_TRADES_v2.pkl\n",
      "../results/full_fine_tuning_5epochs_article1/vit_small_patch16_224.augreg_in21k_uc-merced-land-use-dataset_TRADES_v2.pkl\n",
      "../results/full_fine_tuning_5epochs_article1/convnext_base.fb_in1k_uc-merced-land-use-dataset_TRADES_v2.pkl\n",
      "../results/full_fine_tuning_5epochs_article1/resnet50.a1_in1k_uc-merced-land-use-dataset_TRADES_v2.pkl\n",
      "../results/full_fine_tuning_5epochs_article1/robust_vit_base_patch16_224_uc-merced-land-use-dataset_TRADES_v2.pkl\n",
      "../results/full_fine_tuning_5epochs_article1/vit_base_patch16_224.mae_uc-merced-land-use-dataset_TRADES_v2.pkl\n",
      "../results/full_fine_tuning_5epochs_article1/vit_small_patch16_224.dino_uc-merced-land-use-dataset_TRADES_v2.pkl\n",
      "../results/full_fine_tuning_5epochs_article1/convnext_base.fb_in22k_uc-merced-land-use-dataset_TRADES_v2.pkl\n",
      "../results/full_fine_tuning_5epochs_article1/robust_convnext_base_uc-merced-land-use-dataset_TRADES_v2.pkl\n",
      "../results/full_fine_tuning_5epochs_article1/vit_base_patch16_224.augreg_in1k_uc-merced-land-use-dataset_TRADES_v2.pkl\n",
      "../results/full_fine_tuning_5epochs_article1/vit_base_patch16_224.augreg_in21k_uc-merced-land-use-dataset_TRADES_v2.pkl\n",
      "../results/full_fine_tuning_5epochs_article1/vit_base_patch16_clip_224.laion2b_uc-merced-land-use-dataset_TRADES_v2.pkl\n",
      "../results/full_fine_tuning_5epochs_article1/convnext_tiny.fb_in1k_uc-merced-land-use-dataset_TRADES_v2.pkl\n",
      "../results/full_fine_tuning_5epochs_article1/robust_convnext_tiny_uc-merced-land-use-dataset_TRADES_v2.pkl\n",
      "../results/full_fine_tuning_5epochs_article1/robust_deit_small_patch16_224_uc-merced-land-use-dataset_TRADES_v2.pkl\n",
      "../results/full_fine_tuning_5epochs_article1/vit_small_patch16_224.augreg_in1k_uc-merced-land-use-dataset_TRADES_v2.pkl\n",
      "../results/full_fine_tuning_5epochs_article1/convnext_tiny.fb_in22k_uc-merced-land-use-dataset_TRADES_v2.pkl\n",
      "../results/full_fine_tuning_5epochs_article1/vit_base_patch16_clip_224.laion2b_ft_in1k_uc-merced-land-use-dataset_TRADES_v2.pkl\n",
      "../results/full_fine_tuning_5epochs_article1/vit_base_patch16_224.augreg_in21k_ft_in1k_uc-merced-land-use-dataset_TRADES_v2.pkl\n",
      "../results/full_fine_tuning_5epochs_article1/vit_small_patch16_224.augreg_in21k_ft_in1k_uc-merced-land-use-dataset_TRADES_v2.pkl\n",
      "../results/full_fine_tuning_5epochs_article1/eva02_base_patch14_224.mim_in22k_uc-merced-land-use-dataset_TRADES_v2.pkl\n",
      "../results/full_fine_tuning_5epochs_article1/eva02_tiny_patch14_224.mim_in22k_uc-merced-land-use-dataset_TRADES_v2.pkl\n",
      "../results/full_fine_tuning_5epochs_article1/swin_base_patch4_window7_224.ms_in22k_ft_in1k_uc-merced-land-use-dataset_TRADES_v2.pkl\n",
      "../results/full_fine_tuning_5epochs_article1/swin_tiny_patch4_window7_224.ms_in1k_uc-merced-land-use-dataset_TRADES_v2.pkl\n",
      "../results/full_fine_tuning_5epochs_article1/convnext_base.clip_laion2b_augreg_ft_in12k_in1k_uc-merced-land-use-dataset_TRADES_v2.pkl\n",
      "../results/full_fine_tuning_5epochs_article1/convnext_base.fb_in22k_ft_in1k_uc-merced-land-use-dataset_TRADES_v2.pkl\n",
      "../results/full_fine_tuning_5epochs_article1/convnext_tiny.fb_in22k_ft_in1k_uc-merced-land-use-dataset_TRADES_v2.pkl\n",
      "../results/full_fine_tuning_5epochs_article1/coatnet_0_rw_224.sw_in1k_uc-merced-land-use-dataset_TRADES_v2.pkl\n",
      "../results/full_fine_tuning_5epochs_article1/coatnet_2_rw_224.sw_in12k_ft_in1k_uc-merced-land-use-dataset_TRADES_v2.pkl\n",
      "../results/full_fine_tuning_5epochs_article1/coatnet_2_rw_224.sw_in12k_uc-merced-land-use-dataset_TRADES_v2.pkl\n",
      "../results/full_fine_tuning_5epochs_article1/regnetx_004.pycls_in1k_uc-merced-land-use-dataset_TRADES_v2.pkl\n",
      "HEY\n",
      "../results/full_fine_tuning_5epochs_edge_article1/regnetx_004.pycls_in1k_uc-merced-land-use-dataset_TRADES_v2.pkl\n",
      "../results/full_fine_tuning_5epochs_article1/efficientnet-b0_uc-merced-land-use-dataset_TRADES_v2.pkl\n",
      "HEY\n",
      "../results/full_fine_tuning_5epochs_edge_article1/efficientnet-b0_uc-merced-land-use-dataset_TRADES_v2.pkl\n",
      "../results/full_fine_tuning_5epochs_article1/deit_tiny_patch16_224.fb_in1k_uc-merced-land-use-dataset_TRADES_v2.pkl\n",
      "HEY\n",
      "../results/full_fine_tuning_5epochs_edge_article1/deit_tiny_patch16_224.fb_in1k_uc-merced-land-use-dataset_TRADES_v2.pkl\n",
      "../results/full_fine_tuning_5epochs_article1/mobilevit-small_uc-merced-land-use-dataset_TRADES_v2.pkl\n",
      "HEY\n",
      "../results/full_fine_tuning_5epochs_edge_article1/mobilevit-small_uc-merced-land-use-dataset_TRADES_v2.pkl\n",
      "../results/full_fine_tuning_5epochs_article1/mobilenetv3_large_100.ra_in1k_uc-merced-land-use-dataset_TRADES_v2.pkl\n",
      "HEY\n",
      "../results/full_fine_tuning_5epochs_edge_article1/mobilenetv3_large_100.ra_in1k_uc-merced-land-use-dataset_TRADES_v2.pkl\n",
      "../results/full_fine_tuning_5epochs_article1/edgenext_small.usi_in1k_uc-merced-land-use-dataset_TRADES_v2.pkl\n",
      "HEY\n",
      "../results/full_fine_tuning_5epochs_edge_article1/edgenext_small.usi_in1k_uc-merced-land-use-dataset_TRADES_v2.pkl\n",
      "../results/full_fine_tuning_5epochs_article1/coat_tiny.in1k_uc-merced-land-use-dataset_TRADES_v2.pkl\n",
      "HEY\n",
      "../results/full_fine_tuning_5epochs_edge_article1/coat_tiny.in1k_uc-merced-land-use-dataset_TRADES_v2.pkl\n",
      "../results/full_fine_tuning_5epochs_article1/CLIP-convnext_base_w-laion_aesthetic-s13B-b82K_stanford_cars_TRADES_v2.pkl\n",
      "../results/full_fine_tuning_5epochs_article1/CLIP-convnext_base_w-laion2B-s13B-b82K_stanford_cars_TRADES_v2.pkl\n",
      "../results/full_fine_tuning_5epochs_article1/deit_small_patch16_224.fb_in1k_stanford_cars_TRADES_v2.pkl\n",
      "../results/full_fine_tuning_5epochs_article1/robust_resnet50_stanford_cars_TRADES_v2.pkl\n",
      "../results/full_fine_tuning_5epochs_article1/vit_small_patch16_224.augreg_in21k_stanford_cars_TRADES_v2.pkl\n",
      "../results/full_fine_tuning_5epochs_article1/convnext_base.fb_in1k_stanford_cars_TRADES_v2.pkl\n",
      "../results/full_fine_tuning_5epochs_article1/resnet50.a1_in1k_stanford_cars_TRADES_v2.pkl\n",
      "../results/full_fine_tuning_5epochs_article1/robust_vit_base_patch16_224_stanford_cars_TRADES_v2.pkl\n",
      "../results/full_fine_tuning_5epochs_article1/vit_base_patch16_224.mae_stanford_cars_TRADES_v2.pkl\n",
      "../results/full_fine_tuning_5epochs_article1/vit_small_patch16_224.dino_stanford_cars_TRADES_v2.pkl\n",
      "../results/full_fine_tuning_5epochs_article1/convnext_base.fb_in22k_stanford_cars_TRADES_v2.pkl\n",
      "../results/full_fine_tuning_5epochs_article1/robust_convnext_base_stanford_cars_TRADES_v2.pkl\n",
      "../results/full_fine_tuning_5epochs_article1/vit_base_patch16_224.augreg_in1k_stanford_cars_TRADES_v2.pkl\n",
      "../results/full_fine_tuning_5epochs_article1/vit_base_patch16_224.augreg_in21k_stanford_cars_TRADES_v2.pkl\n",
      "../results/full_fine_tuning_5epochs_article1/vit_base_patch16_clip_224.laion2b_stanford_cars_TRADES_v2.pkl\n",
      "../results/full_fine_tuning_5epochs_article1/convnext_tiny.fb_in1k_stanford_cars_TRADES_v2.pkl\n",
      "../results/full_fine_tuning_5epochs_article1/robust_convnext_tiny_stanford_cars_TRADES_v2.pkl\n",
      "../results/full_fine_tuning_5epochs_article1/robust_deit_small_patch16_224_stanford_cars_TRADES_v2.pkl\n",
      "../results/full_fine_tuning_5epochs_article1/vit_small_patch16_224.augreg_in1k_stanford_cars_TRADES_v2.pkl\n",
      "../results/full_fine_tuning_5epochs_article1/convnext_tiny.fb_in22k_stanford_cars_TRADES_v2.pkl\n",
      "../results/full_fine_tuning_5epochs_article1/vit_base_patch16_clip_224.laion2b_ft_in1k_stanford_cars_TRADES_v2.pkl\n",
      "../results/full_fine_tuning_5epochs_article1/vit_base_patch16_224.augreg_in21k_ft_in1k_stanford_cars_TRADES_v2.pkl\n",
      "../results/full_fine_tuning_5epochs_article1/vit_small_patch16_224.augreg_in21k_ft_in1k_stanford_cars_TRADES_v2.pkl\n",
      "../results/full_fine_tuning_5epochs_article1/eva02_base_patch14_224.mim_in22k_stanford_cars_TRADES_v2.pkl\n",
      "../results/full_fine_tuning_5epochs_article1/eva02_tiny_patch14_224.mim_in22k_stanford_cars_TRADES_v2.pkl\n",
      "../results/full_fine_tuning_5epochs_article1/swin_base_patch4_window7_224.ms_in22k_ft_in1k_stanford_cars_TRADES_v2.pkl\n",
      "../results/full_fine_tuning_5epochs_article1/swin_tiny_patch4_window7_224.ms_in1k_stanford_cars_TRADES_v2.pkl\n",
      "../results/full_fine_tuning_5epochs_article1/convnext_base.clip_laion2b_augreg_ft_in12k_in1k_stanford_cars_TRADES_v2.pkl\n",
      "../results/full_fine_tuning_5epochs_article1/convnext_base.fb_in22k_ft_in1k_stanford_cars_TRADES_v2.pkl\n",
      "../results/full_fine_tuning_5epochs_article1/convnext_tiny.fb_in22k_ft_in1k_stanford_cars_TRADES_v2.pkl\n",
      "../results/full_fine_tuning_5epochs_article1/coatnet_0_rw_224.sw_in1k_stanford_cars_TRADES_v2.pkl\n",
      "../results/full_fine_tuning_5epochs_article1/coatnet_2_rw_224.sw_in12k_ft_in1k_stanford_cars_TRADES_v2.pkl\n",
      "../results/full_fine_tuning_5epochs_article1/coatnet_2_rw_224.sw_in12k_stanford_cars_TRADES_v2.pkl\n",
      "../results/full_fine_tuning_5epochs_article1/regnetx_004.pycls_in1k_stanford_cars_TRADES_v2.pkl\n",
      "HEY\n",
      "../results/full_fine_tuning_5epochs_edge_article1/regnetx_004.pycls_in1k_stanford_cars_TRADES_v2.pkl\n",
      "../results/full_fine_tuning_5epochs_article1/efficientnet-b0_stanford_cars_TRADES_v2.pkl\n",
      "HEY\n",
      "../results/full_fine_tuning_5epochs_edge_article1/efficientnet-b0_stanford_cars_TRADES_v2.pkl\n",
      "../results/full_fine_tuning_5epochs_article1/deit_tiny_patch16_224.fb_in1k_stanford_cars_TRADES_v2.pkl\n",
      "HEY\n",
      "../results/full_fine_tuning_5epochs_edge_article1/deit_tiny_patch16_224.fb_in1k_stanford_cars_TRADES_v2.pkl\n",
      "../results/full_fine_tuning_5epochs_article1/mobilevit-small_stanford_cars_TRADES_v2.pkl\n",
      "HEY\n",
      "../results/full_fine_tuning_5epochs_edge_article1/mobilevit-small_stanford_cars_TRADES_v2.pkl\n",
      "../results/full_fine_tuning_5epochs_article1/mobilenetv3_large_100.ra_in1k_stanford_cars_TRADES_v2.pkl\n",
      "HEY\n",
      "../results/full_fine_tuning_5epochs_edge_article1/mobilenetv3_large_100.ra_in1k_stanford_cars_TRADES_v2.pkl\n",
      "../results/full_fine_tuning_5epochs_article1/edgenext_small.usi_in1k_stanford_cars_TRADES_v2.pkl\n",
      "HEY\n",
      "../results/full_fine_tuning_5epochs_edge_article1/edgenext_small.usi_in1k_stanford_cars_TRADES_v2.pkl\n",
      "../results/full_fine_tuning_5epochs_article1/coat_tiny.in1k_stanford_cars_TRADES_v2.pkl\n",
      "HEY\n",
      "../results/full_fine_tuning_5epochs_edge_article1/coat_tiny.in1k_stanford_cars_TRADES_v2.pkl\n",
      "../results/full_fine_tuning_5epochs_article1/CLIP-convnext_base_w-laion_aesthetic-s13B-b82K_caltech101_TRADES_v2.pkl\n",
      "../results/full_fine_tuning_5epochs_article1/CLIP-convnext_base_w-laion2B-s13B-b82K_caltech101_TRADES_v2.pkl\n",
      "../results/full_fine_tuning_5epochs_article1/deit_small_patch16_224.fb_in1k_caltech101_TRADES_v2.pkl\n",
      "../results/full_fine_tuning_5epochs_article1/robust_resnet50_caltech101_TRADES_v2.pkl\n",
      "../results/full_fine_tuning_5epochs_article1/vit_small_patch16_224.augreg_in21k_caltech101_TRADES_v2.pkl\n",
      "../results/full_fine_tuning_5epochs_article1/convnext_base.fb_in1k_caltech101_TRADES_v2.pkl\n",
      "../results/full_fine_tuning_5epochs_article1/resnet50.a1_in1k_caltech101_TRADES_v2.pkl\n",
      "../results/full_fine_tuning_5epochs_article1/robust_vit_base_patch16_224_caltech101_TRADES_v2.pkl\n",
      "../results/full_fine_tuning_5epochs_article1/vit_base_patch16_224.mae_caltech101_TRADES_v2.pkl\n",
      "../results/full_fine_tuning_5epochs_article1/vit_small_patch16_224.dino_caltech101_TRADES_v2.pkl\n",
      "../results/full_fine_tuning_5epochs_article1/convnext_base.fb_in22k_caltech101_TRADES_v2.pkl\n",
      "../results/full_fine_tuning_5epochs_article1/robust_convnext_base_caltech101_TRADES_v2.pkl\n",
      "../results/full_fine_tuning_5epochs_article1/vit_base_patch16_224.augreg_in1k_caltech101_TRADES_v2.pkl\n",
      "../results/full_fine_tuning_5epochs_article1/vit_base_patch16_224.augreg_in21k_caltech101_TRADES_v2.pkl\n",
      "../results/full_fine_tuning_5epochs_article1/vit_base_patch16_clip_224.laion2b_caltech101_TRADES_v2.pkl\n",
      "../results/full_fine_tuning_5epochs_article1/convnext_tiny.fb_in1k_caltech101_TRADES_v2.pkl\n",
      "../results/full_fine_tuning_5epochs_article1/robust_convnext_tiny_caltech101_TRADES_v2.pkl\n",
      "../results/full_fine_tuning_5epochs_article1/robust_deit_small_patch16_224_caltech101_TRADES_v2.pkl\n",
      "../results/full_fine_tuning_5epochs_article1/vit_small_patch16_224.augreg_in1k_caltech101_TRADES_v2.pkl\n",
      "../results/full_fine_tuning_5epochs_article1/convnext_tiny.fb_in22k_caltech101_TRADES_v2.pkl\n",
      "../results/full_fine_tuning_5epochs_article1/vit_base_patch16_clip_224.laion2b_ft_in1k_caltech101_TRADES_v2.pkl\n",
      "../results/full_fine_tuning_5epochs_article1/vit_base_patch16_224.augreg_in21k_ft_in1k_caltech101_TRADES_v2.pkl\n",
      "../results/full_fine_tuning_5epochs_article1/vit_small_patch16_224.augreg_in21k_ft_in1k_caltech101_TRADES_v2.pkl\n",
      "../results/full_fine_tuning_5epochs_article1/eva02_base_patch14_224.mim_in22k_caltech101_TRADES_v2.pkl\n",
      "../results/full_fine_tuning_5epochs_article1/eva02_tiny_patch14_224.mim_in22k_caltech101_TRADES_v2.pkl\n",
      "../results/full_fine_tuning_5epochs_article1/swin_base_patch4_window7_224.ms_in22k_ft_in1k_caltech101_TRADES_v2.pkl\n",
      "../results/full_fine_tuning_5epochs_article1/swin_tiny_patch4_window7_224.ms_in1k_caltech101_TRADES_v2.pkl\n",
      "../results/full_fine_tuning_5epochs_article1/convnext_base.clip_laion2b_augreg_ft_in12k_in1k_caltech101_TRADES_v2.pkl\n",
      "../results/full_fine_tuning_5epochs_article1/convnext_base.fb_in22k_ft_in1k_caltech101_TRADES_v2.pkl\n",
      "../results/full_fine_tuning_5epochs_article1/convnext_tiny.fb_in22k_ft_in1k_caltech101_TRADES_v2.pkl\n",
      "../results/full_fine_tuning_5epochs_article1/coatnet_0_rw_224.sw_in1k_caltech101_TRADES_v2.pkl\n",
      "../results/full_fine_tuning_5epochs_article1/coatnet_2_rw_224.sw_in12k_ft_in1k_caltech101_TRADES_v2.pkl\n",
      "../results/full_fine_tuning_5epochs_article1/coatnet_2_rw_224.sw_in12k_caltech101_TRADES_v2.pkl\n",
      "../results/full_fine_tuning_5epochs_article1/regnetx_004.pycls_in1k_caltech101_TRADES_v2.pkl\n",
      "HEY\n",
      "../results/full_fine_tuning_5epochs_edge_article1/regnetx_004.pycls_in1k_caltech101_TRADES_v2.pkl\n",
      "../results/full_fine_tuning_5epochs_article1/efficientnet-b0_caltech101_TRADES_v2.pkl\n",
      "HEY\n",
      "../results/full_fine_tuning_5epochs_edge_article1/efficientnet-b0_caltech101_TRADES_v2.pkl\n",
      "../results/full_fine_tuning_5epochs_article1/deit_tiny_patch16_224.fb_in1k_caltech101_TRADES_v2.pkl\n",
      "HEY\n",
      "../results/full_fine_tuning_5epochs_edge_article1/deit_tiny_patch16_224.fb_in1k_caltech101_TRADES_v2.pkl\n",
      "../results/full_fine_tuning_5epochs_article1/mobilevit-small_caltech101_TRADES_v2.pkl\n",
      "HEY\n",
      "../results/full_fine_tuning_5epochs_edge_article1/mobilevit-small_caltech101_TRADES_v2.pkl\n",
      "../results/full_fine_tuning_5epochs_article1/mobilenetv3_large_100.ra_in1k_caltech101_TRADES_v2.pkl\n",
      "HEY\n",
      "../results/full_fine_tuning_5epochs_edge_article1/mobilenetv3_large_100.ra_in1k_caltech101_TRADES_v2.pkl\n",
      "../results/full_fine_tuning_5epochs_article1/edgenext_small.usi_in1k_caltech101_TRADES_v2.pkl\n",
      "HEY\n",
      "../results/full_fine_tuning_5epochs_edge_article1/edgenext_small.usi_in1k_caltech101_TRADES_v2.pkl\n",
      "../results/full_fine_tuning_5epochs_article1/coat_tiny.in1k_caltech101_TRADES_v2.pkl\n",
      "HEY\n",
      "../results/full_fine_tuning_5epochs_edge_article1/coat_tiny.in1k_caltech101_TRADES_v2.pkl\n",
      "../results/full_fine_tuning_5epochs_article1/CLIP-convnext_base_w-laion_aesthetic-s13B-b82K_fgvc-aircraft-2013b_TRADES_v2.pkl\n",
      "../results/full_fine_tuning_5epochs_article1/CLIP-convnext_base_w-laion2B-s13B-b82K_fgvc-aircraft-2013b_TRADES_v2.pkl\n",
      "../results/full_fine_tuning_5epochs_article1/deit_small_patch16_224.fb_in1k_fgvc-aircraft-2013b_TRADES_v2.pkl\n",
      "../results/full_fine_tuning_5epochs_article1/robust_resnet50_fgvc-aircraft-2013b_TRADES_v2.pkl\n",
      "../results/full_fine_tuning_5epochs_article1/vit_small_patch16_224.augreg_in21k_fgvc-aircraft-2013b_TRADES_v2.pkl\n",
      "../results/full_fine_tuning_5epochs_article1/convnext_base.fb_in1k_fgvc-aircraft-2013b_TRADES_v2.pkl\n",
      "../results/full_fine_tuning_5epochs_article1/resnet50.a1_in1k_fgvc-aircraft-2013b_TRADES_v2.pkl\n",
      "../results/full_fine_tuning_5epochs_article1/robust_vit_base_patch16_224_fgvc-aircraft-2013b_TRADES_v2.pkl\n",
      "../results/full_fine_tuning_5epochs_article1/vit_base_patch16_224.mae_fgvc-aircraft-2013b_TRADES_v2.pkl\n",
      "../results/full_fine_tuning_5epochs_article1/vit_small_patch16_224.dino_fgvc-aircraft-2013b_TRADES_v2.pkl\n",
      "../results/full_fine_tuning_5epochs_article1/convnext_base.fb_in22k_fgvc-aircraft-2013b_TRADES_v2.pkl\n",
      "../results/full_fine_tuning_5epochs_article1/robust_convnext_base_fgvc-aircraft-2013b_TRADES_v2.pkl\n",
      "../results/full_fine_tuning_5epochs_article1/vit_base_patch16_224.augreg_in1k_fgvc-aircraft-2013b_TRADES_v2.pkl\n",
      "../results/full_fine_tuning_5epochs_article1/vit_base_patch16_224.augreg_in21k_fgvc-aircraft-2013b_TRADES_v2.pkl\n",
      "../results/full_fine_tuning_5epochs_article1/vit_base_patch16_clip_224.laion2b_fgvc-aircraft-2013b_TRADES_v2.pkl\n",
      "../results/full_fine_tuning_5epochs_article1/convnext_tiny.fb_in1k_fgvc-aircraft-2013b_TRADES_v2.pkl\n",
      "../results/full_fine_tuning_5epochs_article1/robust_convnext_tiny_fgvc-aircraft-2013b_TRADES_v2.pkl\n",
      "../results/full_fine_tuning_5epochs_article1/robust_deit_small_patch16_224_fgvc-aircraft-2013b_TRADES_v2.pkl\n",
      "../results/full_fine_tuning_5epochs_article1/vit_small_patch16_224.augreg_in1k_fgvc-aircraft-2013b_TRADES_v2.pkl\n",
      "../results/full_fine_tuning_5epochs_article1/convnext_tiny.fb_in22k_fgvc-aircraft-2013b_TRADES_v2.pkl\n",
      "../results/full_fine_tuning_5epochs_article1/vit_base_patch16_clip_224.laion2b_ft_in1k_fgvc-aircraft-2013b_TRADES_v2.pkl\n",
      "../results/full_fine_tuning_5epochs_article1/vit_base_patch16_224.augreg_in21k_ft_in1k_fgvc-aircraft-2013b_TRADES_v2.pkl\n",
      "../results/full_fine_tuning_5epochs_article1/vit_small_patch16_224.augreg_in21k_ft_in1k_fgvc-aircraft-2013b_TRADES_v2.pkl\n",
      "../results/full_fine_tuning_5epochs_article1/eva02_base_patch14_224.mim_in22k_fgvc-aircraft-2013b_TRADES_v2.pkl\n",
      "../results/full_fine_tuning_5epochs_article1/eva02_tiny_patch14_224.mim_in22k_fgvc-aircraft-2013b_TRADES_v2.pkl\n",
      "../results/full_fine_tuning_5epochs_article1/swin_base_patch4_window7_224.ms_in22k_ft_in1k_fgvc-aircraft-2013b_TRADES_v2.pkl\n",
      "../results/full_fine_tuning_5epochs_article1/swin_tiny_patch4_window7_224.ms_in1k_fgvc-aircraft-2013b_TRADES_v2.pkl\n",
      "../results/full_fine_tuning_5epochs_article1/convnext_base.clip_laion2b_augreg_ft_in12k_in1k_fgvc-aircraft-2013b_TRADES_v2.pkl\n",
      "../results/full_fine_tuning_5epochs_article1/convnext_base.fb_in22k_ft_in1k_fgvc-aircraft-2013b_TRADES_v2.pkl\n",
      "../results/full_fine_tuning_5epochs_article1/convnext_tiny.fb_in22k_ft_in1k_fgvc-aircraft-2013b_TRADES_v2.pkl\n",
      "../results/full_fine_tuning_5epochs_article1/coatnet_0_rw_224.sw_in1k_fgvc-aircraft-2013b_TRADES_v2.pkl\n",
      "../results/full_fine_tuning_5epochs_article1/coatnet_2_rw_224.sw_in12k_ft_in1k_fgvc-aircraft-2013b_TRADES_v2.pkl\n",
      "../results/full_fine_tuning_5epochs_article1/coatnet_2_rw_224.sw_in12k_fgvc-aircraft-2013b_TRADES_v2.pkl\n",
      "../results/full_fine_tuning_5epochs_article1/regnetx_004.pycls_in1k_fgvc-aircraft-2013b_TRADES_v2.pkl\n",
      "HEY\n",
      "../results/full_fine_tuning_5epochs_edge_article1/regnetx_004.pycls_in1k_fgvc-aircraft-2013b_TRADES_v2.pkl\n",
      "../results/full_fine_tuning_5epochs_article1/efficientnet-b0_fgvc-aircraft-2013b_TRADES_v2.pkl\n",
      "HEY\n",
      "../results/full_fine_tuning_5epochs_edge_article1/efficientnet-b0_fgvc-aircraft-2013b_TRADES_v2.pkl\n",
      "../results/full_fine_tuning_5epochs_article1/deit_tiny_patch16_224.fb_in1k_fgvc-aircraft-2013b_TRADES_v2.pkl\n",
      "HEY\n",
      "../results/full_fine_tuning_5epochs_edge_article1/deit_tiny_patch16_224.fb_in1k_fgvc-aircraft-2013b_TRADES_v2.pkl\n",
      "../results/full_fine_tuning_5epochs_article1/mobilevit-small_fgvc-aircraft-2013b_TRADES_v2.pkl\n",
      "HEY\n",
      "../results/full_fine_tuning_5epochs_edge_article1/mobilevit-small_fgvc-aircraft-2013b_TRADES_v2.pkl\n",
      "../results/full_fine_tuning_5epochs_article1/mobilenetv3_large_100.ra_in1k_fgvc-aircraft-2013b_TRADES_v2.pkl\n",
      "HEY\n",
      "../results/full_fine_tuning_5epochs_edge_article1/mobilenetv3_large_100.ra_in1k_fgvc-aircraft-2013b_TRADES_v2.pkl\n",
      "../results/full_fine_tuning_5epochs_article1/edgenext_small.usi_in1k_fgvc-aircraft-2013b_TRADES_v2.pkl\n",
      "HEY\n",
      "../results/full_fine_tuning_5epochs_edge_article1/edgenext_small.usi_in1k_fgvc-aircraft-2013b_TRADES_v2.pkl\n",
      "../results/full_fine_tuning_5epochs_article1/coat_tiny.in1k_fgvc-aircraft-2013b_TRADES_v2.pkl\n",
      "HEY\n",
      "../results/full_fine_tuning_5epochs_edge_article1/coat_tiny.in1k_fgvc-aircraft-2013b_TRADES_v2.pkl\n",
      "../results/full_fine_tuning_5epochs_article1/CLIP-convnext_base_w-laion_aesthetic-s13B-b82K_flowers-102_TRADES_v2.pkl\n",
      "../results/full_fine_tuning_5epochs_article1/CLIP-convnext_base_w-laion2B-s13B-b82K_flowers-102_TRADES_v2.pkl\n",
      "../results/full_fine_tuning_5epochs_article1/deit_small_patch16_224.fb_in1k_flowers-102_TRADES_v2.pkl\n",
      "../results/full_fine_tuning_5epochs_article1/robust_resnet50_flowers-102_TRADES_v2.pkl\n",
      "../results/full_fine_tuning_5epochs_article1/vit_small_patch16_224.augreg_in21k_flowers-102_TRADES_v2.pkl\n",
      "../results/full_fine_tuning_5epochs_article1/convnext_base.fb_in1k_flowers-102_TRADES_v2.pkl\n",
      "../results/full_fine_tuning_5epochs_article1/resnet50.a1_in1k_flowers-102_TRADES_v2.pkl\n",
      "../results/full_fine_tuning_5epochs_article1/robust_vit_base_patch16_224_flowers-102_TRADES_v2.pkl\n",
      "../results/full_fine_tuning_5epochs_article1/vit_base_patch16_224.mae_flowers-102_TRADES_v2.pkl\n",
      "../results/full_fine_tuning_5epochs_article1/vit_small_patch16_224.dino_flowers-102_TRADES_v2.pkl\n",
      "../results/full_fine_tuning_5epochs_article1/convnext_base.fb_in22k_flowers-102_TRADES_v2.pkl\n",
      "../results/full_fine_tuning_5epochs_article1/robust_convnext_base_flowers-102_TRADES_v2.pkl\n",
      "../results/full_fine_tuning_5epochs_article1/vit_base_patch16_224.augreg_in1k_flowers-102_TRADES_v2.pkl\n",
      "../results/full_fine_tuning_5epochs_article1/vit_base_patch16_224.augreg_in21k_flowers-102_TRADES_v2.pkl\n",
      "../results/full_fine_tuning_5epochs_article1/vit_base_patch16_clip_224.laion2b_flowers-102_TRADES_v2.pkl\n",
      "../results/full_fine_tuning_5epochs_article1/convnext_tiny.fb_in1k_flowers-102_TRADES_v2.pkl\n",
      "../results/full_fine_tuning_5epochs_article1/robust_convnext_tiny_flowers-102_TRADES_v2.pkl\n",
      "../results/full_fine_tuning_5epochs_article1/robust_deit_small_patch16_224_flowers-102_TRADES_v2.pkl\n",
      "../results/full_fine_tuning_5epochs_article1/vit_small_patch16_224.augreg_in1k_flowers-102_TRADES_v2.pkl\n",
      "../results/full_fine_tuning_5epochs_article1/convnext_tiny.fb_in22k_flowers-102_TRADES_v2.pkl\n",
      "../results/full_fine_tuning_5epochs_article1/vit_base_patch16_clip_224.laion2b_ft_in1k_flowers-102_TRADES_v2.pkl\n",
      "../results/full_fine_tuning_5epochs_article1/vit_base_patch16_224.augreg_in21k_ft_in1k_flowers-102_TRADES_v2.pkl\n",
      "../results/full_fine_tuning_5epochs_article1/vit_small_patch16_224.augreg_in21k_ft_in1k_flowers-102_TRADES_v2.pkl\n",
      "../results/full_fine_tuning_5epochs_article1/eva02_base_patch14_224.mim_in22k_flowers-102_TRADES_v2.pkl\n",
      "../results/full_fine_tuning_5epochs_article1/eva02_tiny_patch14_224.mim_in22k_flowers-102_TRADES_v2.pkl\n",
      "../results/full_fine_tuning_5epochs_article1/swin_base_patch4_window7_224.ms_in22k_ft_in1k_flowers-102_TRADES_v2.pkl\n",
      "../results/full_fine_tuning_5epochs_article1/swin_tiny_patch4_window7_224.ms_in1k_flowers-102_TRADES_v2.pkl\n",
      "../results/full_fine_tuning_5epochs_article1/convnext_base.clip_laion2b_augreg_ft_in12k_in1k_flowers-102_TRADES_v2.pkl\n",
      "../results/full_fine_tuning_5epochs_article1/convnext_base.fb_in22k_ft_in1k_flowers-102_TRADES_v2.pkl\n",
      "../results/full_fine_tuning_5epochs_article1/convnext_tiny.fb_in22k_ft_in1k_flowers-102_TRADES_v2.pkl\n",
      "../results/full_fine_tuning_5epochs_article1/coatnet_0_rw_224.sw_in1k_flowers-102_TRADES_v2.pkl\n",
      "../results/full_fine_tuning_5epochs_article1/coatnet_2_rw_224.sw_in12k_ft_in1k_flowers-102_TRADES_v2.pkl\n",
      "../results/full_fine_tuning_5epochs_article1/coatnet_2_rw_224.sw_in12k_flowers-102_TRADES_v2.pkl\n",
      "../results/full_fine_tuning_5epochs_article1/regnetx_004.pycls_in1k_flowers-102_TRADES_v2.pkl\n",
      "HEY\n",
      "../results/full_fine_tuning_5epochs_edge_article1/regnetx_004.pycls_in1k_flowers-102_TRADES_v2.pkl\n",
      "../results/full_fine_tuning_5epochs_article1/efficientnet-b0_flowers-102_TRADES_v2.pkl\n",
      "HEY\n",
      "../results/full_fine_tuning_5epochs_edge_article1/efficientnet-b0_flowers-102_TRADES_v2.pkl\n",
      "../results/full_fine_tuning_5epochs_article1/deit_tiny_patch16_224.fb_in1k_flowers-102_TRADES_v2.pkl\n",
      "HEY\n",
      "../results/full_fine_tuning_5epochs_edge_article1/deit_tiny_patch16_224.fb_in1k_flowers-102_TRADES_v2.pkl\n",
      "../results/full_fine_tuning_5epochs_article1/mobilevit-small_flowers-102_TRADES_v2.pkl\n",
      "HEY\n",
      "../results/full_fine_tuning_5epochs_edge_article1/mobilevit-small_flowers-102_TRADES_v2.pkl\n",
      "../results/full_fine_tuning_5epochs_article1/mobilenetv3_large_100.ra_in1k_flowers-102_TRADES_v2.pkl\n",
      "HEY\n",
      "../results/full_fine_tuning_5epochs_edge_article1/mobilenetv3_large_100.ra_in1k_flowers-102_TRADES_v2.pkl\n",
      "../results/full_fine_tuning_5epochs_article1/edgenext_small.usi_in1k_flowers-102_TRADES_v2.pkl\n",
      "HEY\n",
      "../results/full_fine_tuning_5epochs_edge_article1/edgenext_small.usi_in1k_flowers-102_TRADES_v2.pkl\n",
      "../results/full_fine_tuning_5epochs_article1/coat_tiny.in1k_flowers-102_TRADES_v2.pkl\n",
      "HEY\n",
      "../results/full_fine_tuning_5epochs_edge_article1/coat_tiny.in1k_flowers-102_TRADES_v2.pkl\n",
      "../results/full_fine_tuning_5epochs_article1/CLIP-convnext_base_w-laion_aesthetic-s13B-b82K_oxford-iiit-pet_TRADES_v2.pkl\n",
      "../results/full_fine_tuning_5epochs_article1/CLIP-convnext_base_w-laion2B-s13B-b82K_oxford-iiit-pet_TRADES_v2.pkl\n",
      "../results/full_fine_tuning_5epochs_article1/deit_small_patch16_224.fb_in1k_oxford-iiit-pet_TRADES_v2.pkl\n",
      "../results/full_fine_tuning_5epochs_article1/robust_resnet50_oxford-iiit-pet_TRADES_v2.pkl\n",
      "../results/full_fine_tuning_5epochs_article1/vit_small_patch16_224.augreg_in21k_oxford-iiit-pet_TRADES_v2.pkl\n",
      "../results/full_fine_tuning_5epochs_article1/convnext_base.fb_in1k_oxford-iiit-pet_TRADES_v2.pkl\n",
      "../results/full_fine_tuning_5epochs_article1/resnet50.a1_in1k_oxford-iiit-pet_TRADES_v2.pkl\n",
      "../results/full_fine_tuning_5epochs_article1/robust_vit_base_patch16_224_oxford-iiit-pet_TRADES_v2.pkl\n",
      "../results/full_fine_tuning_5epochs_article1/vit_base_patch16_224.mae_oxford-iiit-pet_TRADES_v2.pkl\n",
      "../results/full_fine_tuning_5epochs_article1/vit_small_patch16_224.dino_oxford-iiit-pet_TRADES_v2.pkl\n",
      "../results/full_fine_tuning_5epochs_article1/convnext_base.fb_in22k_oxford-iiit-pet_TRADES_v2.pkl\n",
      "../results/full_fine_tuning_5epochs_article1/robust_convnext_base_oxford-iiit-pet_TRADES_v2.pkl\n",
      "../results/full_fine_tuning_5epochs_article1/vit_base_patch16_224.augreg_in1k_oxford-iiit-pet_TRADES_v2.pkl\n",
      "../results/full_fine_tuning_5epochs_article1/vit_base_patch16_224.augreg_in21k_oxford-iiit-pet_TRADES_v2.pkl\n",
      "../results/full_fine_tuning_5epochs_article1/vit_base_patch16_clip_224.laion2b_oxford-iiit-pet_TRADES_v2.pkl\n",
      "../results/full_fine_tuning_5epochs_article1/convnext_tiny.fb_in1k_oxford-iiit-pet_TRADES_v2.pkl\n",
      "../results/full_fine_tuning_5epochs_article1/robust_convnext_tiny_oxford-iiit-pet_TRADES_v2.pkl\n",
      "../results/full_fine_tuning_5epochs_article1/robust_deit_small_patch16_224_oxford-iiit-pet_TRADES_v2.pkl\n",
      "../results/full_fine_tuning_5epochs_article1/vit_small_patch16_224.augreg_in1k_oxford-iiit-pet_TRADES_v2.pkl\n",
      "../results/full_fine_tuning_5epochs_article1/convnext_tiny.fb_in22k_oxford-iiit-pet_TRADES_v2.pkl\n",
      "../results/full_fine_tuning_5epochs_article1/vit_base_patch16_clip_224.laion2b_ft_in1k_oxford-iiit-pet_TRADES_v2.pkl\n",
      "../results/full_fine_tuning_5epochs_article1/vit_base_patch16_224.augreg_in21k_ft_in1k_oxford-iiit-pet_TRADES_v2.pkl\n",
      "../results/full_fine_tuning_5epochs_article1/vit_small_patch16_224.augreg_in21k_ft_in1k_oxford-iiit-pet_TRADES_v2.pkl\n",
      "../results/full_fine_tuning_5epochs_article1/eva02_base_patch14_224.mim_in22k_oxford-iiit-pet_TRADES_v2.pkl\n",
      "../results/full_fine_tuning_5epochs_article1/eva02_tiny_patch14_224.mim_in22k_oxford-iiit-pet_TRADES_v2.pkl\n",
      "../results/full_fine_tuning_5epochs_article1/swin_base_patch4_window7_224.ms_in22k_ft_in1k_oxford-iiit-pet_TRADES_v2.pkl\n",
      "../results/full_fine_tuning_5epochs_article1/swin_tiny_patch4_window7_224.ms_in1k_oxford-iiit-pet_TRADES_v2.pkl\n",
      "../results/full_fine_tuning_5epochs_article1/convnext_base.clip_laion2b_augreg_ft_in12k_in1k_oxford-iiit-pet_TRADES_v2.pkl\n",
      "../results/full_fine_tuning_5epochs_article1/convnext_base.fb_in22k_ft_in1k_oxford-iiit-pet_TRADES_v2.pkl\n",
      "../results/full_fine_tuning_5epochs_article1/convnext_tiny.fb_in22k_ft_in1k_oxford-iiit-pet_TRADES_v2.pkl\n",
      "../results/full_fine_tuning_5epochs_article1/coatnet_0_rw_224.sw_in1k_oxford-iiit-pet_TRADES_v2.pkl\n",
      "../results/full_fine_tuning_5epochs_article1/coatnet_2_rw_224.sw_in12k_ft_in1k_oxford-iiit-pet_TRADES_v2.pkl\n",
      "../results/full_fine_tuning_5epochs_article1/coatnet_2_rw_224.sw_in12k_oxford-iiit-pet_TRADES_v2.pkl\n",
      "../results/full_fine_tuning_5epochs_article1/regnetx_004.pycls_in1k_oxford-iiit-pet_TRADES_v2.pkl\n",
      "HEY\n",
      "../results/full_fine_tuning_5epochs_edge_article1/regnetx_004.pycls_in1k_oxford-iiit-pet_TRADES_v2.pkl\n",
      "../results/full_fine_tuning_5epochs_article1/efficientnet-b0_oxford-iiit-pet_TRADES_v2.pkl\n",
      "HEY\n",
      "../results/full_fine_tuning_5epochs_edge_article1/efficientnet-b0_oxford-iiit-pet_TRADES_v2.pkl\n",
      "../results/full_fine_tuning_5epochs_article1/deit_tiny_patch16_224.fb_in1k_oxford-iiit-pet_TRADES_v2.pkl\n",
      "HEY\n",
      "../results/full_fine_tuning_5epochs_edge_article1/deit_tiny_patch16_224.fb_in1k_oxford-iiit-pet_TRADES_v2.pkl\n",
      "../results/full_fine_tuning_5epochs_article1/mobilevit-small_oxford-iiit-pet_TRADES_v2.pkl\n",
      "HEY\n",
      "../results/full_fine_tuning_5epochs_edge_article1/mobilevit-small_oxford-iiit-pet_TRADES_v2.pkl\n",
      "../results/full_fine_tuning_5epochs_article1/mobilenetv3_large_100.ra_in1k_oxford-iiit-pet_TRADES_v2.pkl\n",
      "HEY\n",
      "../results/full_fine_tuning_5epochs_edge_article1/mobilenetv3_large_100.ra_in1k_oxford-iiit-pet_TRADES_v2.pkl\n",
      "../results/full_fine_tuning_5epochs_article1/edgenext_small.usi_in1k_oxford-iiit-pet_TRADES_v2.pkl\n",
      "HEY\n",
      "../results/full_fine_tuning_5epochs_edge_article1/edgenext_small.usi_in1k_oxford-iiit-pet_TRADES_v2.pkl\n",
      "../results/full_fine_tuning_5epochs_article1/coat_tiny.in1k_oxford-iiit-pet_TRADES_v2.pkl\n",
      "HEY\n",
      "../results/full_fine_tuning_5epochs_edge_article1/coat_tiny.in1k_oxford-iiit-pet_TRADES_v2.pkl\n",
      "../results/full_fine_tuning_5epochs_article1/CLIP-convnext_base_w-laion_aesthetic-s13B-b82K_uc-merced-land-use-dataset_CLASSIC_AT.pkl\n",
      "../results/full_fine_tuning_5epochs_article1/CLIP-convnext_base_w-laion2B-s13B-b82K_uc-merced-land-use-dataset_CLASSIC_AT.pkl\n",
      "../results/full_fine_tuning_5epochs_article1/deit_small_patch16_224.fb_in1k_uc-merced-land-use-dataset_CLASSIC_AT.pkl\n",
      "../results/full_fine_tuning_5epochs_article1/robust_resnet50_uc-merced-land-use-dataset_CLASSIC_AT.pkl\n",
      "../results/full_fine_tuning_5epochs_article1/vit_small_patch16_224.augreg_in21k_uc-merced-land-use-dataset_CLASSIC_AT.pkl\n",
      "../results/full_fine_tuning_5epochs_article1/convnext_base.fb_in1k_uc-merced-land-use-dataset_CLASSIC_AT.pkl\n",
      "../results/full_fine_tuning_5epochs_article1/resnet50.a1_in1k_uc-merced-land-use-dataset_CLASSIC_AT.pkl\n",
      "../results/full_fine_tuning_5epochs_article1/robust_vit_base_patch16_224_uc-merced-land-use-dataset_CLASSIC_AT.pkl\n",
      "../results/full_fine_tuning_5epochs_article1/vit_base_patch16_224.mae_uc-merced-land-use-dataset_CLASSIC_AT.pkl\n",
      "../results/full_fine_tuning_5epochs_article1/vit_small_patch16_224.dino_uc-merced-land-use-dataset_CLASSIC_AT.pkl\n",
      "../results/full_fine_tuning_5epochs_article1/convnext_base.fb_in22k_uc-merced-land-use-dataset_CLASSIC_AT.pkl\n",
      "../results/full_fine_tuning_5epochs_article1/robust_convnext_base_uc-merced-land-use-dataset_CLASSIC_AT.pkl\n",
      "../results/full_fine_tuning_5epochs_article1/vit_base_patch16_224.augreg_in1k_uc-merced-land-use-dataset_CLASSIC_AT.pkl\n",
      "../results/full_fine_tuning_5epochs_article1/vit_base_patch16_224.augreg_in21k_uc-merced-land-use-dataset_CLASSIC_AT.pkl\n",
      "../results/full_fine_tuning_5epochs_article1/vit_base_patch16_clip_224.laion2b_uc-merced-land-use-dataset_CLASSIC_AT.pkl\n",
      "../results/full_fine_tuning_5epochs_article1/convnext_tiny.fb_in1k_uc-merced-land-use-dataset_CLASSIC_AT.pkl\n",
      "../results/full_fine_tuning_5epochs_article1/robust_convnext_tiny_uc-merced-land-use-dataset_CLASSIC_AT.pkl\n",
      "../results/full_fine_tuning_5epochs_article1/robust_deit_small_patch16_224_uc-merced-land-use-dataset_CLASSIC_AT.pkl\n",
      "../results/full_fine_tuning_5epochs_article1/vit_small_patch16_224.augreg_in1k_uc-merced-land-use-dataset_CLASSIC_AT.pkl\n",
      "../results/full_fine_tuning_5epochs_article1/convnext_tiny.fb_in22k_uc-merced-land-use-dataset_CLASSIC_AT.pkl\n",
      "../results/full_fine_tuning_5epochs_article1/vit_base_patch16_clip_224.laion2b_ft_in1k_uc-merced-land-use-dataset_CLASSIC_AT.pkl\n",
      "../results/full_fine_tuning_5epochs_article1/vit_base_patch16_224.augreg_in21k_ft_in1k_uc-merced-land-use-dataset_CLASSIC_AT.pkl\n",
      "../results/full_fine_tuning_5epochs_article1/vit_small_patch16_224.augreg_in21k_ft_in1k_uc-merced-land-use-dataset_CLASSIC_AT.pkl\n",
      "../results/full_fine_tuning_5epochs_article1/eva02_base_patch14_224.mim_in22k_uc-merced-land-use-dataset_CLASSIC_AT.pkl\n",
      "../results/full_fine_tuning_5epochs_article1/eva02_tiny_patch14_224.mim_in22k_uc-merced-land-use-dataset_CLASSIC_AT.pkl\n",
      "../results/full_fine_tuning_5epochs_article1/swin_base_patch4_window7_224.ms_in22k_ft_in1k_uc-merced-land-use-dataset_CLASSIC_AT.pkl\n",
      "../results/full_fine_tuning_5epochs_article1/swin_tiny_patch4_window7_224.ms_in1k_uc-merced-land-use-dataset_CLASSIC_AT.pkl\n",
      "../results/full_fine_tuning_5epochs_article1/convnext_base.clip_laion2b_augreg_ft_in12k_in1k_uc-merced-land-use-dataset_CLASSIC_AT.pkl\n",
      "../results/full_fine_tuning_5epochs_article1/convnext_base.fb_in22k_ft_in1k_uc-merced-land-use-dataset_CLASSIC_AT.pkl\n",
      "../results/full_fine_tuning_5epochs_article1/convnext_tiny.fb_in22k_ft_in1k_uc-merced-land-use-dataset_CLASSIC_AT.pkl\n",
      "../results/full_fine_tuning_5epochs_article1/coatnet_0_rw_224.sw_in1k_uc-merced-land-use-dataset_CLASSIC_AT.pkl\n",
      "../results/full_fine_tuning_5epochs_article1/coatnet_2_rw_224.sw_in12k_ft_in1k_uc-merced-land-use-dataset_CLASSIC_AT.pkl\n",
      "../results/full_fine_tuning_5epochs_article1/coatnet_2_rw_224.sw_in12k_uc-merced-land-use-dataset_CLASSIC_AT.pkl\n",
      "../results/full_fine_tuning_5epochs_article1/regnetx_004.pycls_in1k_uc-merced-land-use-dataset_CLASSIC_AT.pkl\n",
      "HEY\n",
      "../results/full_fine_tuning_5epochs_edge_article1/regnetx_004.pycls_in1k_uc-merced-land-use-dataset_CLASSIC_AT.pkl\n",
      "../results/full_fine_tuning_5epochs_article1/efficientnet-b0_uc-merced-land-use-dataset_CLASSIC_AT.pkl\n",
      "HEY\n",
      "../results/full_fine_tuning_5epochs_edge_article1/efficientnet-b0_uc-merced-land-use-dataset_CLASSIC_AT.pkl\n",
      "../results/full_fine_tuning_5epochs_article1/deit_tiny_patch16_224.fb_in1k_uc-merced-land-use-dataset_CLASSIC_AT.pkl\n",
      "HEY\n",
      "../results/full_fine_tuning_5epochs_edge_article1/deit_tiny_patch16_224.fb_in1k_uc-merced-land-use-dataset_CLASSIC_AT.pkl\n",
      "../results/full_fine_tuning_5epochs_article1/mobilevit-small_uc-merced-land-use-dataset_CLASSIC_AT.pkl\n",
      "HEY\n",
      "../results/full_fine_tuning_5epochs_edge_article1/mobilevit-small_uc-merced-land-use-dataset_CLASSIC_AT.pkl\n",
      "../results/full_fine_tuning_5epochs_article1/mobilenetv3_large_100.ra_in1k_uc-merced-land-use-dataset_CLASSIC_AT.pkl\n",
      "HEY\n",
      "../results/full_fine_tuning_5epochs_edge_article1/mobilenetv3_large_100.ra_in1k_uc-merced-land-use-dataset_CLASSIC_AT.pkl\n",
      "../results/full_fine_tuning_5epochs_article1/edgenext_small.usi_in1k_uc-merced-land-use-dataset_CLASSIC_AT.pkl\n",
      "HEY\n",
      "../results/full_fine_tuning_5epochs_edge_article1/edgenext_small.usi_in1k_uc-merced-land-use-dataset_CLASSIC_AT.pkl\n",
      "../results/full_fine_tuning_5epochs_article1/coat_tiny.in1k_uc-merced-land-use-dataset_CLASSIC_AT.pkl\n",
      "HEY\n",
      "../results/full_fine_tuning_5epochs_edge_article1/coat_tiny.in1k_uc-merced-land-use-dataset_CLASSIC_AT.pkl\n",
      "../results/full_fine_tuning_5epochs_article1/CLIP-convnext_base_w-laion_aesthetic-s13B-b82K_stanford_cars_CLASSIC_AT.pkl\n",
      "../results/full_fine_tuning_5epochs_article1/CLIP-convnext_base_w-laion2B-s13B-b82K_stanford_cars_CLASSIC_AT.pkl\n",
      "../results/full_fine_tuning_5epochs_article1/deit_small_patch16_224.fb_in1k_stanford_cars_CLASSIC_AT.pkl\n",
      "../results/full_fine_tuning_5epochs_article1/robust_resnet50_stanford_cars_CLASSIC_AT.pkl\n",
      "../results/full_fine_tuning_5epochs_article1/vit_small_patch16_224.augreg_in21k_stanford_cars_CLASSIC_AT.pkl\n",
      "../results/full_fine_tuning_5epochs_article1/convnext_base.fb_in1k_stanford_cars_CLASSIC_AT.pkl\n",
      "../results/full_fine_tuning_5epochs_article1/resnet50.a1_in1k_stanford_cars_CLASSIC_AT.pkl\n",
      "../results/full_fine_tuning_5epochs_article1/robust_vit_base_patch16_224_stanford_cars_CLASSIC_AT.pkl\n",
      "../results/full_fine_tuning_5epochs_article1/vit_base_patch16_224.mae_stanford_cars_CLASSIC_AT.pkl\n",
      "../results/full_fine_tuning_5epochs_article1/vit_small_patch16_224.dino_stanford_cars_CLASSIC_AT.pkl\n",
      "../results/full_fine_tuning_5epochs_article1/convnext_base.fb_in22k_stanford_cars_CLASSIC_AT.pkl\n",
      "../results/full_fine_tuning_5epochs_article1/robust_convnext_base_stanford_cars_CLASSIC_AT.pkl\n",
      "../results/full_fine_tuning_5epochs_article1/vit_base_patch16_224.augreg_in1k_stanford_cars_CLASSIC_AT.pkl\n",
      "../results/full_fine_tuning_5epochs_article1/vit_base_patch16_224.augreg_in21k_stanford_cars_CLASSIC_AT.pkl\n",
      "../results/full_fine_tuning_5epochs_article1/vit_base_patch16_clip_224.laion2b_stanford_cars_CLASSIC_AT.pkl\n",
      "../results/full_fine_tuning_5epochs_article1/convnext_tiny.fb_in1k_stanford_cars_CLASSIC_AT.pkl\n",
      "../results/full_fine_tuning_5epochs_article1/robust_convnext_tiny_stanford_cars_CLASSIC_AT.pkl\n",
      "../results/full_fine_tuning_5epochs_article1/robust_deit_small_patch16_224_stanford_cars_CLASSIC_AT.pkl\n",
      "../results/full_fine_tuning_5epochs_article1/vit_small_patch16_224.augreg_in1k_stanford_cars_CLASSIC_AT.pkl\n",
      "../results/full_fine_tuning_5epochs_article1/convnext_tiny.fb_in22k_stanford_cars_CLASSIC_AT.pkl\n",
      "../results/full_fine_tuning_5epochs_article1/vit_base_patch16_clip_224.laion2b_ft_in1k_stanford_cars_CLASSIC_AT.pkl\n",
      "../results/full_fine_tuning_5epochs_article1/vit_base_patch16_224.augreg_in21k_ft_in1k_stanford_cars_CLASSIC_AT.pkl\n",
      "../results/full_fine_tuning_5epochs_article1/vit_small_patch16_224.augreg_in21k_ft_in1k_stanford_cars_CLASSIC_AT.pkl\n",
      "../results/full_fine_tuning_5epochs_article1/eva02_base_patch14_224.mim_in22k_stanford_cars_CLASSIC_AT.pkl\n",
      "../results/full_fine_tuning_5epochs_article1/eva02_tiny_patch14_224.mim_in22k_stanford_cars_CLASSIC_AT.pkl\n",
      "../results/full_fine_tuning_5epochs_article1/swin_base_patch4_window7_224.ms_in22k_ft_in1k_stanford_cars_CLASSIC_AT.pkl\n",
      "../results/full_fine_tuning_5epochs_article1/swin_tiny_patch4_window7_224.ms_in1k_stanford_cars_CLASSIC_AT.pkl\n",
      "../results/full_fine_tuning_5epochs_article1/convnext_base.clip_laion2b_augreg_ft_in12k_in1k_stanford_cars_CLASSIC_AT.pkl\n",
      "../results/full_fine_tuning_5epochs_article1/convnext_base.fb_in22k_ft_in1k_stanford_cars_CLASSIC_AT.pkl\n",
      "../results/full_fine_tuning_5epochs_article1/convnext_tiny.fb_in22k_ft_in1k_stanford_cars_CLASSIC_AT.pkl\n",
      "../results/full_fine_tuning_5epochs_article1/coatnet_0_rw_224.sw_in1k_stanford_cars_CLASSIC_AT.pkl\n",
      "../results/full_fine_tuning_5epochs_article1/coatnet_2_rw_224.sw_in12k_ft_in1k_stanford_cars_CLASSIC_AT.pkl\n",
      "../results/full_fine_tuning_5epochs_article1/coatnet_2_rw_224.sw_in12k_stanford_cars_CLASSIC_AT.pkl\n",
      "../results/full_fine_tuning_5epochs_article1/regnetx_004.pycls_in1k_stanford_cars_CLASSIC_AT.pkl\n",
      "HEY\n",
      "../results/full_fine_tuning_5epochs_edge_article1/regnetx_004.pycls_in1k_stanford_cars_CLASSIC_AT.pkl\n",
      "../results/full_fine_tuning_5epochs_article1/efficientnet-b0_stanford_cars_CLASSIC_AT.pkl\n",
      "HEY\n",
      "../results/full_fine_tuning_5epochs_edge_article1/efficientnet-b0_stanford_cars_CLASSIC_AT.pkl\n",
      "../results/full_fine_tuning_5epochs_article1/deit_tiny_patch16_224.fb_in1k_stanford_cars_CLASSIC_AT.pkl\n",
      "HEY\n",
      "../results/full_fine_tuning_5epochs_edge_article1/deit_tiny_patch16_224.fb_in1k_stanford_cars_CLASSIC_AT.pkl\n",
      "../results/full_fine_tuning_5epochs_article1/mobilevit-small_stanford_cars_CLASSIC_AT.pkl\n",
      "HEY\n",
      "../results/full_fine_tuning_5epochs_edge_article1/mobilevit-small_stanford_cars_CLASSIC_AT.pkl\n",
      "../results/full_fine_tuning_5epochs_article1/mobilenetv3_large_100.ra_in1k_stanford_cars_CLASSIC_AT.pkl\n",
      "HEY\n",
      "../results/full_fine_tuning_5epochs_edge_article1/mobilenetv3_large_100.ra_in1k_stanford_cars_CLASSIC_AT.pkl\n",
      "../results/full_fine_tuning_5epochs_article1/edgenext_small.usi_in1k_stanford_cars_CLASSIC_AT.pkl\n",
      "HEY\n",
      "../results/full_fine_tuning_5epochs_edge_article1/edgenext_small.usi_in1k_stanford_cars_CLASSIC_AT.pkl\n",
      "../results/full_fine_tuning_5epochs_article1/coat_tiny.in1k_stanford_cars_CLASSIC_AT.pkl\n",
      "HEY\n",
      "../results/full_fine_tuning_5epochs_edge_article1/coat_tiny.in1k_stanford_cars_CLASSIC_AT.pkl\n",
      "../results/full_fine_tuning_5epochs_article1/CLIP-convnext_base_w-laion_aesthetic-s13B-b82K_caltech101_CLASSIC_AT.pkl\n",
      "../results/full_fine_tuning_5epochs_article1/CLIP-convnext_base_w-laion2B-s13B-b82K_caltech101_CLASSIC_AT.pkl\n",
      "../results/full_fine_tuning_5epochs_article1/deit_small_patch16_224.fb_in1k_caltech101_CLASSIC_AT.pkl\n",
      "../results/full_fine_tuning_5epochs_article1/robust_resnet50_caltech101_CLASSIC_AT.pkl\n",
      "../results/full_fine_tuning_5epochs_article1/vit_small_patch16_224.augreg_in21k_caltech101_CLASSIC_AT.pkl\n",
      "../results/full_fine_tuning_5epochs_article1/convnext_base.fb_in1k_caltech101_CLASSIC_AT.pkl\n",
      "../results/full_fine_tuning_5epochs_article1/resnet50.a1_in1k_caltech101_CLASSIC_AT.pkl\n",
      "../results/full_fine_tuning_5epochs_article1/robust_vit_base_patch16_224_caltech101_CLASSIC_AT.pkl\n",
      "../results/full_fine_tuning_5epochs_article1/vit_base_patch16_224.mae_caltech101_CLASSIC_AT.pkl\n",
      "../results/full_fine_tuning_5epochs_article1/vit_small_patch16_224.dino_caltech101_CLASSIC_AT.pkl\n",
      "../results/full_fine_tuning_5epochs_article1/convnext_base.fb_in22k_caltech101_CLASSIC_AT.pkl\n",
      "../results/full_fine_tuning_5epochs_article1/robust_convnext_base_caltech101_CLASSIC_AT.pkl\n",
      "../results/full_fine_tuning_5epochs_article1/vit_base_patch16_224.augreg_in1k_caltech101_CLASSIC_AT.pkl\n",
      "../results/full_fine_tuning_5epochs_article1/vit_base_patch16_224.augreg_in21k_caltech101_CLASSIC_AT.pkl\n",
      "../results/full_fine_tuning_5epochs_article1/vit_base_patch16_clip_224.laion2b_caltech101_CLASSIC_AT.pkl\n",
      "../results/full_fine_tuning_5epochs_article1/convnext_tiny.fb_in1k_caltech101_CLASSIC_AT.pkl\n",
      "../results/full_fine_tuning_5epochs_article1/robust_convnext_tiny_caltech101_CLASSIC_AT.pkl\n",
      "../results/full_fine_tuning_5epochs_article1/robust_deit_small_patch16_224_caltech101_CLASSIC_AT.pkl\n",
      "../results/full_fine_tuning_5epochs_article1/vit_small_patch16_224.augreg_in1k_caltech101_CLASSIC_AT.pkl\n",
      "../results/full_fine_tuning_5epochs_article1/convnext_tiny.fb_in22k_caltech101_CLASSIC_AT.pkl\n",
      "../results/full_fine_tuning_5epochs_article1/vit_base_patch16_clip_224.laion2b_ft_in1k_caltech101_CLASSIC_AT.pkl\n",
      "../results/full_fine_tuning_5epochs_article1/vit_base_patch16_224.augreg_in21k_ft_in1k_caltech101_CLASSIC_AT.pkl\n",
      "../results/full_fine_tuning_5epochs_article1/vit_small_patch16_224.augreg_in21k_ft_in1k_caltech101_CLASSIC_AT.pkl\n",
      "../results/full_fine_tuning_5epochs_article1/eva02_base_patch14_224.mim_in22k_caltech101_CLASSIC_AT.pkl\n",
      "../results/full_fine_tuning_5epochs_article1/eva02_tiny_patch14_224.mim_in22k_caltech101_CLASSIC_AT.pkl\n",
      "../results/full_fine_tuning_5epochs_article1/swin_base_patch4_window7_224.ms_in22k_ft_in1k_caltech101_CLASSIC_AT.pkl\n",
      "../results/full_fine_tuning_5epochs_article1/swin_tiny_patch4_window7_224.ms_in1k_caltech101_CLASSIC_AT.pkl\n",
      "../results/full_fine_tuning_5epochs_article1/convnext_base.clip_laion2b_augreg_ft_in12k_in1k_caltech101_CLASSIC_AT.pkl\n",
      "../results/full_fine_tuning_5epochs_article1/convnext_base.fb_in22k_ft_in1k_caltech101_CLASSIC_AT.pkl\n",
      "../results/full_fine_tuning_5epochs_article1/convnext_tiny.fb_in22k_ft_in1k_caltech101_CLASSIC_AT.pkl\n",
      "../results/full_fine_tuning_5epochs_article1/coatnet_0_rw_224.sw_in1k_caltech101_CLASSIC_AT.pkl\n",
      "../results/full_fine_tuning_5epochs_article1/coatnet_2_rw_224.sw_in12k_ft_in1k_caltech101_CLASSIC_AT.pkl\n",
      "../results/full_fine_tuning_5epochs_article1/coatnet_2_rw_224.sw_in12k_caltech101_CLASSIC_AT.pkl\n",
      "../results/full_fine_tuning_5epochs_article1/regnetx_004.pycls_in1k_caltech101_CLASSIC_AT.pkl\n",
      "HEY\n",
      "../results/full_fine_tuning_5epochs_edge_article1/regnetx_004.pycls_in1k_caltech101_CLASSIC_AT.pkl\n",
      "../results/full_fine_tuning_5epochs_article1/efficientnet-b0_caltech101_CLASSIC_AT.pkl\n",
      "HEY\n",
      "../results/full_fine_tuning_5epochs_edge_article1/efficientnet-b0_caltech101_CLASSIC_AT.pkl\n",
      "../results/full_fine_tuning_5epochs_article1/deit_tiny_patch16_224.fb_in1k_caltech101_CLASSIC_AT.pkl\n",
      "HEY\n",
      "../results/full_fine_tuning_5epochs_edge_article1/deit_tiny_patch16_224.fb_in1k_caltech101_CLASSIC_AT.pkl\n",
      "../results/full_fine_tuning_5epochs_article1/mobilevit-small_caltech101_CLASSIC_AT.pkl\n",
      "HEY\n",
      "../results/full_fine_tuning_5epochs_edge_article1/mobilevit-small_caltech101_CLASSIC_AT.pkl\n",
      "../results/full_fine_tuning_5epochs_article1/mobilenetv3_large_100.ra_in1k_caltech101_CLASSIC_AT.pkl\n",
      "HEY\n",
      "../results/full_fine_tuning_5epochs_edge_article1/mobilenetv3_large_100.ra_in1k_caltech101_CLASSIC_AT.pkl\n",
      "../results/full_fine_tuning_5epochs_article1/edgenext_small.usi_in1k_caltech101_CLASSIC_AT.pkl\n",
      "HEY\n",
      "../results/full_fine_tuning_5epochs_edge_article1/edgenext_small.usi_in1k_caltech101_CLASSIC_AT.pkl\n",
      "../results/full_fine_tuning_5epochs_article1/coat_tiny.in1k_caltech101_CLASSIC_AT.pkl\n",
      "HEY\n",
      "../results/full_fine_tuning_5epochs_edge_article1/coat_tiny.in1k_caltech101_CLASSIC_AT.pkl\n",
      "../results/full_fine_tuning_5epochs_article1/CLIP-convnext_base_w-laion_aesthetic-s13B-b82K_fgvc-aircraft-2013b_CLASSIC_AT.pkl\n",
      "../results/full_fine_tuning_5epochs_article1/CLIP-convnext_base_w-laion2B-s13B-b82K_fgvc-aircraft-2013b_CLASSIC_AT.pkl\n",
      "../results/full_fine_tuning_5epochs_article1/deit_small_patch16_224.fb_in1k_fgvc-aircraft-2013b_CLASSIC_AT.pkl\n",
      "../results/full_fine_tuning_5epochs_article1/robust_resnet50_fgvc-aircraft-2013b_CLASSIC_AT.pkl\n",
      "../results/full_fine_tuning_5epochs_article1/vit_small_patch16_224.augreg_in21k_fgvc-aircraft-2013b_CLASSIC_AT.pkl\n",
      "../results/full_fine_tuning_5epochs_article1/convnext_base.fb_in1k_fgvc-aircraft-2013b_CLASSIC_AT.pkl\n",
      "../results/full_fine_tuning_5epochs_article1/resnet50.a1_in1k_fgvc-aircraft-2013b_CLASSIC_AT.pkl\n",
      "../results/full_fine_tuning_5epochs_article1/robust_vit_base_patch16_224_fgvc-aircraft-2013b_CLASSIC_AT.pkl\n",
      "../results/full_fine_tuning_5epochs_article1/vit_base_patch16_224.mae_fgvc-aircraft-2013b_CLASSIC_AT.pkl\n",
      "../results/full_fine_tuning_5epochs_article1/vit_small_patch16_224.dino_fgvc-aircraft-2013b_CLASSIC_AT.pkl\n",
      "../results/full_fine_tuning_5epochs_article1/convnext_base.fb_in22k_fgvc-aircraft-2013b_CLASSIC_AT.pkl\n",
      "../results/full_fine_tuning_5epochs_article1/robust_convnext_base_fgvc-aircraft-2013b_CLASSIC_AT.pkl\n",
      "../results/full_fine_tuning_5epochs_article1/vit_base_patch16_224.augreg_in1k_fgvc-aircraft-2013b_CLASSIC_AT.pkl\n",
      "../results/full_fine_tuning_5epochs_article1/vit_base_patch16_224.augreg_in21k_fgvc-aircraft-2013b_CLASSIC_AT.pkl\n",
      "../results/full_fine_tuning_5epochs_article1/vit_base_patch16_clip_224.laion2b_fgvc-aircraft-2013b_CLASSIC_AT.pkl\n",
      "../results/full_fine_tuning_5epochs_article1/convnext_tiny.fb_in1k_fgvc-aircraft-2013b_CLASSIC_AT.pkl\n",
      "../results/full_fine_tuning_5epochs_article1/robust_convnext_tiny_fgvc-aircraft-2013b_CLASSIC_AT.pkl\n",
      "../results/full_fine_tuning_5epochs_article1/robust_deit_small_patch16_224_fgvc-aircraft-2013b_CLASSIC_AT.pkl\n",
      "../results/full_fine_tuning_5epochs_article1/vit_small_patch16_224.augreg_in1k_fgvc-aircraft-2013b_CLASSIC_AT.pkl\n",
      "../results/full_fine_tuning_5epochs_article1/convnext_tiny.fb_in22k_fgvc-aircraft-2013b_CLASSIC_AT.pkl\n",
      "../results/full_fine_tuning_5epochs_article1/vit_base_patch16_clip_224.laion2b_ft_in1k_fgvc-aircraft-2013b_CLASSIC_AT.pkl\n",
      "../results/full_fine_tuning_5epochs_article1/vit_base_patch16_224.augreg_in21k_ft_in1k_fgvc-aircraft-2013b_CLASSIC_AT.pkl\n",
      "../results/full_fine_tuning_5epochs_article1/vit_small_patch16_224.augreg_in21k_ft_in1k_fgvc-aircraft-2013b_CLASSIC_AT.pkl\n",
      "../results/full_fine_tuning_5epochs_article1/eva02_base_patch14_224.mim_in22k_fgvc-aircraft-2013b_CLASSIC_AT.pkl\n",
      "../results/full_fine_tuning_5epochs_article1/eva02_tiny_patch14_224.mim_in22k_fgvc-aircraft-2013b_CLASSIC_AT.pkl\n",
      "../results/full_fine_tuning_5epochs_article1/swin_base_patch4_window7_224.ms_in22k_ft_in1k_fgvc-aircraft-2013b_CLASSIC_AT.pkl\n",
      "../results/full_fine_tuning_5epochs_article1/swin_tiny_patch4_window7_224.ms_in1k_fgvc-aircraft-2013b_CLASSIC_AT.pkl\n",
      "../results/full_fine_tuning_5epochs_article1/convnext_base.clip_laion2b_augreg_ft_in12k_in1k_fgvc-aircraft-2013b_CLASSIC_AT.pkl\n",
      "../results/full_fine_tuning_5epochs_article1/convnext_base.fb_in22k_ft_in1k_fgvc-aircraft-2013b_CLASSIC_AT.pkl\n",
      "../results/full_fine_tuning_5epochs_article1/convnext_tiny.fb_in22k_ft_in1k_fgvc-aircraft-2013b_CLASSIC_AT.pkl\n",
      "../results/full_fine_tuning_5epochs_article1/coatnet_0_rw_224.sw_in1k_fgvc-aircraft-2013b_CLASSIC_AT.pkl\n",
      "../results/full_fine_tuning_5epochs_article1/coatnet_2_rw_224.sw_in12k_ft_in1k_fgvc-aircraft-2013b_CLASSIC_AT.pkl\n",
      "../results/full_fine_tuning_5epochs_article1/coatnet_2_rw_224.sw_in12k_fgvc-aircraft-2013b_CLASSIC_AT.pkl\n",
      "../results/full_fine_tuning_5epochs_article1/regnetx_004.pycls_in1k_fgvc-aircraft-2013b_CLASSIC_AT.pkl\n",
      "HEY\n",
      "../results/full_fine_tuning_5epochs_edge_article1/regnetx_004.pycls_in1k_fgvc-aircraft-2013b_CLASSIC_AT.pkl\n",
      "../results/full_fine_tuning_5epochs_article1/efficientnet-b0_fgvc-aircraft-2013b_CLASSIC_AT.pkl\n",
      "HEY\n",
      "../results/full_fine_tuning_5epochs_edge_article1/efficientnet-b0_fgvc-aircraft-2013b_CLASSIC_AT.pkl\n",
      "../results/full_fine_tuning_5epochs_article1/deit_tiny_patch16_224.fb_in1k_fgvc-aircraft-2013b_CLASSIC_AT.pkl\n",
      "HEY\n",
      "../results/full_fine_tuning_5epochs_edge_article1/deit_tiny_patch16_224.fb_in1k_fgvc-aircraft-2013b_CLASSIC_AT.pkl\n",
      "../results/full_fine_tuning_5epochs_article1/mobilevit-small_fgvc-aircraft-2013b_CLASSIC_AT.pkl\n",
      "HEY\n",
      "../results/full_fine_tuning_5epochs_edge_article1/mobilevit-small_fgvc-aircraft-2013b_CLASSIC_AT.pkl\n",
      "../results/full_fine_tuning_5epochs_article1/mobilenetv3_large_100.ra_in1k_fgvc-aircraft-2013b_CLASSIC_AT.pkl\n",
      "HEY\n",
      "../results/full_fine_tuning_5epochs_edge_article1/mobilenetv3_large_100.ra_in1k_fgvc-aircraft-2013b_CLASSIC_AT.pkl\n",
      "../results/full_fine_tuning_5epochs_article1/edgenext_small.usi_in1k_fgvc-aircraft-2013b_CLASSIC_AT.pkl\n",
      "HEY\n",
      "../results/full_fine_tuning_5epochs_edge_article1/edgenext_small.usi_in1k_fgvc-aircraft-2013b_CLASSIC_AT.pkl\n",
      "../results/full_fine_tuning_5epochs_article1/coat_tiny.in1k_fgvc-aircraft-2013b_CLASSIC_AT.pkl\n",
      "HEY\n",
      "../results/full_fine_tuning_5epochs_edge_article1/coat_tiny.in1k_fgvc-aircraft-2013b_CLASSIC_AT.pkl\n",
      "../results/full_fine_tuning_5epochs_article1/CLIP-convnext_base_w-laion_aesthetic-s13B-b82K_flowers-102_CLASSIC_AT.pkl\n",
      "../results/full_fine_tuning_5epochs_article1/CLIP-convnext_base_w-laion2B-s13B-b82K_flowers-102_CLASSIC_AT.pkl\n",
      "../results/full_fine_tuning_5epochs_article1/deit_small_patch16_224.fb_in1k_flowers-102_CLASSIC_AT.pkl\n",
      "../results/full_fine_tuning_5epochs_article1/robust_resnet50_flowers-102_CLASSIC_AT.pkl\n",
      "../results/full_fine_tuning_5epochs_article1/vit_small_patch16_224.augreg_in21k_flowers-102_CLASSIC_AT.pkl\n",
      "../results/full_fine_tuning_5epochs_article1/convnext_base.fb_in1k_flowers-102_CLASSIC_AT.pkl\n",
      "../results/full_fine_tuning_5epochs_article1/resnet50.a1_in1k_flowers-102_CLASSIC_AT.pkl\n",
      "../results/full_fine_tuning_5epochs_article1/robust_vit_base_patch16_224_flowers-102_CLASSIC_AT.pkl\n",
      "../results/full_fine_tuning_5epochs_article1/vit_base_patch16_224.mae_flowers-102_CLASSIC_AT.pkl\n",
      "../results/full_fine_tuning_5epochs_article1/vit_small_patch16_224.dino_flowers-102_CLASSIC_AT.pkl\n",
      "../results/full_fine_tuning_5epochs_article1/convnext_base.fb_in22k_flowers-102_CLASSIC_AT.pkl\n",
      "../results/full_fine_tuning_5epochs_article1/robust_convnext_base_flowers-102_CLASSIC_AT.pkl\n",
      "../results/full_fine_tuning_5epochs_article1/vit_base_patch16_224.augreg_in1k_flowers-102_CLASSIC_AT.pkl\n",
      "../results/full_fine_tuning_5epochs_article1/vit_base_patch16_224.augreg_in21k_flowers-102_CLASSIC_AT.pkl\n",
      "../results/full_fine_tuning_5epochs_article1/vit_base_patch16_clip_224.laion2b_flowers-102_CLASSIC_AT.pkl\n",
      "../results/full_fine_tuning_5epochs_article1/convnext_tiny.fb_in1k_flowers-102_CLASSIC_AT.pkl\n",
      "../results/full_fine_tuning_5epochs_article1/robust_convnext_tiny_flowers-102_CLASSIC_AT.pkl\n",
      "../results/full_fine_tuning_5epochs_article1/robust_deit_small_patch16_224_flowers-102_CLASSIC_AT.pkl\n",
      "../results/full_fine_tuning_5epochs_article1/vit_small_patch16_224.augreg_in1k_flowers-102_CLASSIC_AT.pkl\n",
      "../results/full_fine_tuning_5epochs_article1/convnext_tiny.fb_in22k_flowers-102_CLASSIC_AT.pkl\n",
      "../results/full_fine_tuning_5epochs_article1/vit_base_patch16_clip_224.laion2b_ft_in1k_flowers-102_CLASSIC_AT.pkl\n",
      "../results/full_fine_tuning_5epochs_article1/vit_base_patch16_224.augreg_in21k_ft_in1k_flowers-102_CLASSIC_AT.pkl\n",
      "../results/full_fine_tuning_5epochs_article1/vit_small_patch16_224.augreg_in21k_ft_in1k_flowers-102_CLASSIC_AT.pkl\n",
      "../results/full_fine_tuning_5epochs_article1/eva02_base_patch14_224.mim_in22k_flowers-102_CLASSIC_AT.pkl\n",
      "../results/full_fine_tuning_5epochs_article1/eva02_tiny_patch14_224.mim_in22k_flowers-102_CLASSIC_AT.pkl\n",
      "../results/full_fine_tuning_5epochs_article1/swin_base_patch4_window7_224.ms_in22k_ft_in1k_flowers-102_CLASSIC_AT.pkl\n",
      "../results/full_fine_tuning_5epochs_article1/swin_tiny_patch4_window7_224.ms_in1k_flowers-102_CLASSIC_AT.pkl\n",
      "../results/full_fine_tuning_5epochs_article1/convnext_base.clip_laion2b_augreg_ft_in12k_in1k_flowers-102_CLASSIC_AT.pkl\n",
      "../results/full_fine_tuning_5epochs_article1/convnext_base.fb_in22k_ft_in1k_flowers-102_CLASSIC_AT.pkl\n",
      "../results/full_fine_tuning_5epochs_article1/convnext_tiny.fb_in22k_ft_in1k_flowers-102_CLASSIC_AT.pkl\n",
      "../results/full_fine_tuning_5epochs_article1/coatnet_0_rw_224.sw_in1k_flowers-102_CLASSIC_AT.pkl\n",
      "../results/full_fine_tuning_5epochs_article1/coatnet_2_rw_224.sw_in12k_ft_in1k_flowers-102_CLASSIC_AT.pkl\n",
      "../results/full_fine_tuning_5epochs_article1/coatnet_2_rw_224.sw_in12k_flowers-102_CLASSIC_AT.pkl\n",
      "../results/full_fine_tuning_5epochs_article1/regnetx_004.pycls_in1k_flowers-102_CLASSIC_AT.pkl\n",
      "HEY\n",
      "../results/full_fine_tuning_5epochs_edge_article1/regnetx_004.pycls_in1k_flowers-102_CLASSIC_AT.pkl\n",
      "../results/full_fine_tuning_5epochs_article1/efficientnet-b0_flowers-102_CLASSIC_AT.pkl\n",
      "HEY\n",
      "../results/full_fine_tuning_5epochs_edge_article1/efficientnet-b0_flowers-102_CLASSIC_AT.pkl\n",
      "../results/full_fine_tuning_5epochs_article1/deit_tiny_patch16_224.fb_in1k_flowers-102_CLASSIC_AT.pkl\n",
      "HEY\n",
      "../results/full_fine_tuning_5epochs_edge_article1/deit_tiny_patch16_224.fb_in1k_flowers-102_CLASSIC_AT.pkl\n",
      "../results/full_fine_tuning_5epochs_article1/mobilevit-small_flowers-102_CLASSIC_AT.pkl\n",
      "HEY\n",
      "../results/full_fine_tuning_5epochs_edge_article1/mobilevit-small_flowers-102_CLASSIC_AT.pkl\n",
      "../results/full_fine_tuning_5epochs_article1/mobilenetv3_large_100.ra_in1k_flowers-102_CLASSIC_AT.pkl\n",
      "HEY\n",
      "../results/full_fine_tuning_5epochs_edge_article1/mobilenetv3_large_100.ra_in1k_flowers-102_CLASSIC_AT.pkl\n",
      "../results/full_fine_tuning_5epochs_article1/edgenext_small.usi_in1k_flowers-102_CLASSIC_AT.pkl\n",
      "HEY\n",
      "../results/full_fine_tuning_5epochs_edge_article1/edgenext_small.usi_in1k_flowers-102_CLASSIC_AT.pkl\n",
      "../results/full_fine_tuning_5epochs_article1/coat_tiny.in1k_flowers-102_CLASSIC_AT.pkl\n",
      "HEY\n",
      "../results/full_fine_tuning_5epochs_edge_article1/coat_tiny.in1k_flowers-102_CLASSIC_AT.pkl\n",
      "../results/full_fine_tuning_5epochs_article1/CLIP-convnext_base_w-laion_aesthetic-s13B-b82K_oxford-iiit-pet_CLASSIC_AT.pkl\n",
      "../results/full_fine_tuning_5epochs_article1/CLIP-convnext_base_w-laion2B-s13B-b82K_oxford-iiit-pet_CLASSIC_AT.pkl\n",
      "../results/full_fine_tuning_5epochs_article1/deit_small_patch16_224.fb_in1k_oxford-iiit-pet_CLASSIC_AT.pkl\n",
      "../results/full_fine_tuning_5epochs_article1/robust_resnet50_oxford-iiit-pet_CLASSIC_AT.pkl\n",
      "../results/full_fine_tuning_5epochs_article1/vit_small_patch16_224.augreg_in21k_oxford-iiit-pet_CLASSIC_AT.pkl\n",
      "../results/full_fine_tuning_5epochs_article1/convnext_base.fb_in1k_oxford-iiit-pet_CLASSIC_AT.pkl\n",
      "../results/full_fine_tuning_5epochs_article1/resnet50.a1_in1k_oxford-iiit-pet_CLASSIC_AT.pkl\n",
      "../results/full_fine_tuning_5epochs_article1/robust_vit_base_patch16_224_oxford-iiit-pet_CLASSIC_AT.pkl\n",
      "../results/full_fine_tuning_5epochs_article1/vit_base_patch16_224.mae_oxford-iiit-pet_CLASSIC_AT.pkl\n",
      "../results/full_fine_tuning_5epochs_article1/vit_small_patch16_224.dino_oxford-iiit-pet_CLASSIC_AT.pkl\n",
      "../results/full_fine_tuning_5epochs_article1/convnext_base.fb_in22k_oxford-iiit-pet_CLASSIC_AT.pkl\n",
      "../results/full_fine_tuning_5epochs_article1/robust_convnext_base_oxford-iiit-pet_CLASSIC_AT.pkl\n",
      "../results/full_fine_tuning_5epochs_article1/vit_base_patch16_224.augreg_in1k_oxford-iiit-pet_CLASSIC_AT.pkl\n",
      "../results/full_fine_tuning_5epochs_article1/vit_base_patch16_224.augreg_in21k_oxford-iiit-pet_CLASSIC_AT.pkl\n",
      "../results/full_fine_tuning_5epochs_article1/vit_base_patch16_clip_224.laion2b_oxford-iiit-pet_CLASSIC_AT.pkl\n",
      "../results/full_fine_tuning_5epochs_article1/convnext_tiny.fb_in1k_oxford-iiit-pet_CLASSIC_AT.pkl\n",
      "../results/full_fine_tuning_5epochs_article1/robust_convnext_tiny_oxford-iiit-pet_CLASSIC_AT.pkl\n",
      "../results/full_fine_tuning_5epochs_article1/robust_deit_small_patch16_224_oxford-iiit-pet_CLASSIC_AT.pkl\n",
      "../results/full_fine_tuning_5epochs_article1/vit_small_patch16_224.augreg_in1k_oxford-iiit-pet_CLASSIC_AT.pkl\n",
      "../results/full_fine_tuning_5epochs_article1/convnext_tiny.fb_in22k_oxford-iiit-pet_CLASSIC_AT.pkl\n",
      "../results/full_fine_tuning_5epochs_article1/vit_base_patch16_clip_224.laion2b_ft_in1k_oxford-iiit-pet_CLASSIC_AT.pkl\n",
      "../results/full_fine_tuning_5epochs_article1/vit_base_patch16_224.augreg_in21k_ft_in1k_oxford-iiit-pet_CLASSIC_AT.pkl\n",
      "../results/full_fine_tuning_5epochs_article1/vit_small_patch16_224.augreg_in21k_ft_in1k_oxford-iiit-pet_CLASSIC_AT.pkl\n",
      "../results/full_fine_tuning_5epochs_article1/eva02_base_patch14_224.mim_in22k_oxford-iiit-pet_CLASSIC_AT.pkl\n",
      "../results/full_fine_tuning_5epochs_article1/eva02_tiny_patch14_224.mim_in22k_oxford-iiit-pet_CLASSIC_AT.pkl\n",
      "../results/full_fine_tuning_5epochs_article1/swin_base_patch4_window7_224.ms_in22k_ft_in1k_oxford-iiit-pet_CLASSIC_AT.pkl\n",
      "../results/full_fine_tuning_5epochs_article1/swin_tiny_patch4_window7_224.ms_in1k_oxford-iiit-pet_CLASSIC_AT.pkl\n",
      "../results/full_fine_tuning_5epochs_article1/convnext_base.clip_laion2b_augreg_ft_in12k_in1k_oxford-iiit-pet_CLASSIC_AT.pkl\n",
      "../results/full_fine_tuning_5epochs_article1/convnext_base.fb_in22k_ft_in1k_oxford-iiit-pet_CLASSIC_AT.pkl\n",
      "../results/full_fine_tuning_5epochs_article1/convnext_tiny.fb_in22k_ft_in1k_oxford-iiit-pet_CLASSIC_AT.pkl\n",
      "../results/full_fine_tuning_5epochs_article1/coatnet_0_rw_224.sw_in1k_oxford-iiit-pet_CLASSIC_AT.pkl\n",
      "../results/full_fine_tuning_5epochs_article1/coatnet_2_rw_224.sw_in12k_ft_in1k_oxford-iiit-pet_CLASSIC_AT.pkl\n",
      "../results/full_fine_tuning_5epochs_article1/coatnet_2_rw_224.sw_in12k_oxford-iiit-pet_CLASSIC_AT.pkl\n",
      "../results/full_fine_tuning_5epochs_article1/regnetx_004.pycls_in1k_oxford-iiit-pet_CLASSIC_AT.pkl\n",
      "HEY\n",
      "../results/full_fine_tuning_5epochs_edge_article1/regnetx_004.pycls_in1k_oxford-iiit-pet_CLASSIC_AT.pkl\n",
      "../results/full_fine_tuning_5epochs_article1/efficientnet-b0_oxford-iiit-pet_CLASSIC_AT.pkl\n",
      "HEY\n",
      "../results/full_fine_tuning_5epochs_edge_article1/efficientnet-b0_oxford-iiit-pet_CLASSIC_AT.pkl\n",
      "../results/full_fine_tuning_5epochs_article1/deit_tiny_patch16_224.fb_in1k_oxford-iiit-pet_CLASSIC_AT.pkl\n",
      "HEY\n",
      "../results/full_fine_tuning_5epochs_edge_article1/deit_tiny_patch16_224.fb_in1k_oxford-iiit-pet_CLASSIC_AT.pkl\n",
      "../results/full_fine_tuning_5epochs_article1/mobilevit-small_oxford-iiit-pet_CLASSIC_AT.pkl\n",
      "HEY\n",
      "../results/full_fine_tuning_5epochs_edge_article1/mobilevit-small_oxford-iiit-pet_CLASSIC_AT.pkl\n",
      "../results/full_fine_tuning_5epochs_article1/mobilenetv3_large_100.ra_in1k_oxford-iiit-pet_CLASSIC_AT.pkl\n",
      "HEY\n",
      "../results/full_fine_tuning_5epochs_edge_article1/mobilenetv3_large_100.ra_in1k_oxford-iiit-pet_CLASSIC_AT.pkl\n",
      "../results/full_fine_tuning_5epochs_article1/edgenext_small.usi_in1k_oxford-iiit-pet_CLASSIC_AT.pkl\n",
      "HEY\n",
      "../results/full_fine_tuning_5epochs_edge_article1/edgenext_small.usi_in1k_oxford-iiit-pet_CLASSIC_AT.pkl\n",
      "../results/full_fine_tuning_5epochs_article1/coat_tiny.in1k_oxford-iiit-pet_CLASSIC_AT.pkl\n",
      "HEY\n",
      "../results/full_fine_tuning_5epochs_edge_article1/coat_tiny.in1k_oxford-iiit-pet_CLASSIC_AT.pkl\n",
      "../results/linearprobe_50epochs_paper_final2/CLIP-convnext_base_w-laion_aesthetic-s13B-b82K_uc-merced-land-use-dataset_TRADES_v2.pkl\n",
      "../results/linearprobe_50epochs_paper_final2/CLIP-convnext_base_w-laion2B-s13B-b82K_uc-merced-land-use-dataset_TRADES_v2.pkl\n",
      "../results/linearprobe_50epochs_paper_final2/deit_small_patch16_224.fb_in1k_uc-merced-land-use-dataset_TRADES_v2.pkl\n",
      "../results/linearprobe_50epochs_paper_final2/robust_resnet50_uc-merced-land-use-dataset_TRADES_v2.pkl\n",
      "../results/linearprobe_50epochs_paper_final2/vit_small_patch16_224.augreg_in21k_uc-merced-land-use-dataset_TRADES_v2.pkl\n",
      "../results/linearprobe_50epochs_paper_final2/convnext_base.fb_in1k_uc-merced-land-use-dataset_TRADES_v2.pkl\n",
      "../results/linearprobe_50epochs_paper_final2/resnet50.a1_in1k_uc-merced-land-use-dataset_TRADES_v2.pkl\n",
      "../results/linearprobe_50epochs_paper_final2/robust_vit_base_patch16_224_uc-merced-land-use-dataset_TRADES_v2.pkl\n",
      "../results/linearprobe_50epochs_paper_final2/vit_base_patch16_224.mae_uc-merced-land-use-dataset_TRADES_v2.pkl\n",
      "../results/linearprobe_50epochs_paper_final2/vit_small_patch16_224.dino_uc-merced-land-use-dataset_TRADES_v2.pkl\n",
      "../results/linearprobe_50epochs_paper_final2/convnext_base.fb_in22k_uc-merced-land-use-dataset_TRADES_v2.pkl\n",
      "../results/linearprobe_50epochs_paper_final2/robust_convnext_base_uc-merced-land-use-dataset_TRADES_v2.pkl\n",
      "../results/linearprobe_50epochs_paper_final2/vit_base_patch16_224.augreg_in1k_uc-merced-land-use-dataset_TRADES_v2.pkl\n",
      "../results/linearprobe_50epochs_paper_final2/vit_base_patch16_224.augreg_in21k_uc-merced-land-use-dataset_TRADES_v2.pkl\n",
      "../results/linearprobe_50epochs_paper_final2/vit_base_patch16_clip_224.laion2b_uc-merced-land-use-dataset_TRADES_v2.pkl\n",
      "../results/linearprobe_50epochs_paper_final2/convnext_tiny.fb_in1k_uc-merced-land-use-dataset_TRADES_v2.pkl\n",
      "../results/linearprobe_50epochs_paper_final2/robust_convnext_tiny_uc-merced-land-use-dataset_TRADES_v2.pkl\n",
      "../results/linearprobe_50epochs_paper_final2/robust_deit_small_patch16_224_uc-merced-land-use-dataset_TRADES_v2.pkl\n",
      "../results/linearprobe_50epochs_paper_final2/vit_small_patch16_224.augreg_in1k_uc-merced-land-use-dataset_TRADES_v2.pkl\n",
      "../results/linearprobe_50epochs_paper_final2/convnext_tiny.fb_in22k_uc-merced-land-use-dataset_TRADES_v2.pkl\n",
      "../results/linearprobe_50epochs_paper_final2/vit_base_patch16_clip_224.laion2b_ft_in1k_uc-merced-land-use-dataset_TRADES_v2.pkl\n",
      "../results/linearprobe_50epochs_paper_final2/vit_base_patch16_224.augreg_in21k_ft_in1k_uc-merced-land-use-dataset_TRADES_v2.pkl\n",
      "../results/linearprobe_50epochs_paper_final2/vit_small_patch16_224.augreg_in21k_ft_in1k_uc-merced-land-use-dataset_TRADES_v2.pkl\n",
      "../results/linearprobe_50epochs_paper_final2/eva02_base_patch14_224.mim_in22k_uc-merced-land-use-dataset_TRADES_v2.pkl\n",
      "../results/linearprobe_50epochs_paper_final2/eva02_tiny_patch14_224.mim_in22k_uc-merced-land-use-dataset_TRADES_v2.pkl\n",
      "../results/linearprobe_50epochs_paper_final2/swin_base_patch4_window7_224.ms_in22k_ft_in1k_uc-merced-land-use-dataset_TRADES_v2.pkl\n",
      "../results/linearprobe_50epochs_paper_final2/swin_tiny_patch4_window7_224.ms_in1k_uc-merced-land-use-dataset_TRADES_v2.pkl\n",
      "../results/linearprobe_50epochs_paper_final2/convnext_base.clip_laion2b_augreg_ft_in12k_in1k_uc-merced-land-use-dataset_TRADES_v2.pkl\n",
      "../results/linearprobe_50epochs_paper_final2/convnext_base.fb_in22k_ft_in1k_uc-merced-land-use-dataset_TRADES_v2.pkl\n",
      "../results/linearprobe_50epochs_paper_final2/convnext_tiny.fb_in22k_ft_in1k_uc-merced-land-use-dataset_TRADES_v2.pkl\n",
      "../results/linearprobe_50epochs_paper_final2/coatnet_0_rw_224.sw_in1k_uc-merced-land-use-dataset_TRADES_v2.pkl\n",
      "../results/linearprobe_50epochs_paper_final2/coatnet_2_rw_224.sw_in12k_ft_in1k_uc-merced-land-use-dataset_TRADES_v2.pkl\n",
      "../results/linearprobe_50epochs_paper_final2/coatnet_2_rw_224.sw_in12k_uc-merced-land-use-dataset_TRADES_v2.pkl\n",
      "../results/linearprobe_50epochs_paper_final2/regnetx_004.pycls_in1k_uc-merced-land-use-dataset_TRADES_v2.pkl\n",
      "HEY\n",
      "../results/linearprobe_50epochs_edge_paper_final2/regnetx_004.pycls_in1k_uc-merced-land-use-dataset_TRADES_v2.pkl\n",
      "../results/linearprobe_50epochs_paper_final2/efficientnet-b0_uc-merced-land-use-dataset_TRADES_v2.pkl\n",
      "HEY\n",
      "../results/linearprobe_50epochs_edge_paper_final2/efficientnet-b0_uc-merced-land-use-dataset_TRADES_v2.pkl\n",
      "../results/linearprobe_50epochs_paper_final2/deit_tiny_patch16_224.fb_in1k_uc-merced-land-use-dataset_TRADES_v2.pkl\n",
      "HEY\n",
      "../results/linearprobe_50epochs_edge_paper_final2/deit_tiny_patch16_224.fb_in1k_uc-merced-land-use-dataset_TRADES_v2.pkl\n",
      "../results/linearprobe_50epochs_paper_final2/mobilevit-small_uc-merced-land-use-dataset_TRADES_v2.pkl\n",
      "HEY\n",
      "../results/linearprobe_50epochs_edge_paper_final2/mobilevit-small_uc-merced-land-use-dataset_TRADES_v2.pkl\n",
      "../results/linearprobe_50epochs_paper_final2/mobilenetv3_large_100.ra_in1k_uc-merced-land-use-dataset_TRADES_v2.pkl\n",
      "HEY\n",
      "../results/linearprobe_50epochs_edge_paper_final2/mobilenetv3_large_100.ra_in1k_uc-merced-land-use-dataset_TRADES_v2.pkl\n",
      "../results/linearprobe_50epochs_paper_final2/edgenext_small.usi_in1k_uc-merced-land-use-dataset_TRADES_v2.pkl\n",
      "HEY\n",
      "../results/linearprobe_50epochs_edge_paper_final2/edgenext_small.usi_in1k_uc-merced-land-use-dataset_TRADES_v2.pkl\n",
      "../results/linearprobe_50epochs_paper_final2/coat_tiny.in1k_uc-merced-land-use-dataset_TRADES_v2.pkl\n",
      "HEY\n",
      "../results/linearprobe_50epochs_edge_paper_final2/coat_tiny.in1k_uc-merced-land-use-dataset_TRADES_v2.pkl\n",
      "../results/linearprobe_50epochs_paper_final2/CLIP-convnext_base_w-laion_aesthetic-s13B-b82K_stanford_cars_TRADES_v2.pkl\n",
      "../results/linearprobe_50epochs_paper_final2/CLIP-convnext_base_w-laion2B-s13B-b82K_stanford_cars_TRADES_v2.pkl\n",
      "../results/linearprobe_50epochs_paper_final2/deit_small_patch16_224.fb_in1k_stanford_cars_TRADES_v2.pkl\n",
      "../results/linearprobe_50epochs_paper_final2/robust_resnet50_stanford_cars_TRADES_v2.pkl\n",
      "../results/linearprobe_50epochs_paper_final2/vit_small_patch16_224.augreg_in21k_stanford_cars_TRADES_v2.pkl\n",
      "../results/linearprobe_50epochs_paper_final2/convnext_base.fb_in1k_stanford_cars_TRADES_v2.pkl\n",
      "../results/linearprobe_50epochs_paper_final2/resnet50.a1_in1k_stanford_cars_TRADES_v2.pkl\n",
      "../results/linearprobe_50epochs_paper_final2/robust_vit_base_patch16_224_stanford_cars_TRADES_v2.pkl\n",
      "../results/linearprobe_50epochs_paper_final2/vit_base_patch16_224.mae_stanford_cars_TRADES_v2.pkl\n",
      "../results/linearprobe_50epochs_paper_final2/vit_small_patch16_224.dino_stanford_cars_TRADES_v2.pkl\n",
      "../results/linearprobe_50epochs_paper_final2/convnext_base.fb_in22k_stanford_cars_TRADES_v2.pkl\n",
      "../results/linearprobe_50epochs_paper_final2/robust_convnext_base_stanford_cars_TRADES_v2.pkl\n",
      "../results/linearprobe_50epochs_paper_final2/vit_base_patch16_224.augreg_in1k_stanford_cars_TRADES_v2.pkl\n",
      "../results/linearprobe_50epochs_paper_final2/vit_base_patch16_224.augreg_in21k_stanford_cars_TRADES_v2.pkl\n",
      "../results/linearprobe_50epochs_paper_final2/vit_base_patch16_clip_224.laion2b_stanford_cars_TRADES_v2.pkl\n",
      "../results/linearprobe_50epochs_paper_final2/convnext_tiny.fb_in1k_stanford_cars_TRADES_v2.pkl\n",
      "../results/linearprobe_50epochs_paper_final2/robust_convnext_tiny_stanford_cars_TRADES_v2.pkl\n",
      "../results/linearprobe_50epochs_paper_final2/robust_deit_small_patch16_224_stanford_cars_TRADES_v2.pkl\n",
      "../results/linearprobe_50epochs_paper_final2/vit_small_patch16_224.augreg_in1k_stanford_cars_TRADES_v2.pkl\n",
      "../results/linearprobe_50epochs_paper_final2/convnext_tiny.fb_in22k_stanford_cars_TRADES_v2.pkl\n",
      "../results/linearprobe_50epochs_paper_final2/vit_base_patch16_clip_224.laion2b_ft_in1k_stanford_cars_TRADES_v2.pkl\n",
      "../results/linearprobe_50epochs_paper_final2/vit_base_patch16_224.augreg_in21k_ft_in1k_stanford_cars_TRADES_v2.pkl\n",
      "../results/linearprobe_50epochs_paper_final2/vit_small_patch16_224.augreg_in21k_ft_in1k_stanford_cars_TRADES_v2.pkl\n",
      "../results/linearprobe_50epochs_paper_final2/eva02_base_patch14_224.mim_in22k_stanford_cars_TRADES_v2.pkl\n",
      "../results/linearprobe_50epochs_paper_final2/eva02_tiny_patch14_224.mim_in22k_stanford_cars_TRADES_v2.pkl\n",
      "../results/linearprobe_50epochs_paper_final2/swin_base_patch4_window7_224.ms_in22k_ft_in1k_stanford_cars_TRADES_v2.pkl\n",
      "../results/linearprobe_50epochs_paper_final2/swin_tiny_patch4_window7_224.ms_in1k_stanford_cars_TRADES_v2.pkl\n",
      "../results/linearprobe_50epochs_paper_final2/convnext_base.clip_laion2b_augreg_ft_in12k_in1k_stanford_cars_TRADES_v2.pkl\n",
      "../results/linearprobe_50epochs_paper_final2/convnext_base.fb_in22k_ft_in1k_stanford_cars_TRADES_v2.pkl\n",
      "../results/linearprobe_50epochs_paper_final2/convnext_tiny.fb_in22k_ft_in1k_stanford_cars_TRADES_v2.pkl\n",
      "../results/linearprobe_50epochs_paper_final2/coatnet_0_rw_224.sw_in1k_stanford_cars_TRADES_v2.pkl\n",
      "../results/linearprobe_50epochs_paper_final2/coatnet_2_rw_224.sw_in12k_ft_in1k_stanford_cars_TRADES_v2.pkl\n",
      "../results/linearprobe_50epochs_paper_final2/coatnet_2_rw_224.sw_in12k_stanford_cars_TRADES_v2.pkl\n",
      "../results/linearprobe_50epochs_paper_final2/regnetx_004.pycls_in1k_stanford_cars_TRADES_v2.pkl\n",
      "HEY\n",
      "../results/linearprobe_50epochs_edge_paper_final2/regnetx_004.pycls_in1k_stanford_cars_TRADES_v2.pkl\n",
      "../results/linearprobe_50epochs_paper_final2/efficientnet-b0_stanford_cars_TRADES_v2.pkl\n",
      "HEY\n",
      "../results/linearprobe_50epochs_edge_paper_final2/efficientnet-b0_stanford_cars_TRADES_v2.pkl\n",
      "../results/linearprobe_50epochs_paper_final2/deit_tiny_patch16_224.fb_in1k_stanford_cars_TRADES_v2.pkl\n",
      "HEY\n",
      "../results/linearprobe_50epochs_edge_paper_final2/deit_tiny_patch16_224.fb_in1k_stanford_cars_TRADES_v2.pkl\n",
      "../results/linearprobe_50epochs_paper_final2/mobilevit-small_stanford_cars_TRADES_v2.pkl\n",
      "HEY\n",
      "../results/linearprobe_50epochs_edge_paper_final2/mobilevit-small_stanford_cars_TRADES_v2.pkl\n",
      "../results/linearprobe_50epochs_paper_final2/mobilenetv3_large_100.ra_in1k_stanford_cars_TRADES_v2.pkl\n",
      "HEY\n",
      "../results/linearprobe_50epochs_edge_paper_final2/mobilenetv3_large_100.ra_in1k_stanford_cars_TRADES_v2.pkl\n",
      "../results/linearprobe_50epochs_paper_final2/edgenext_small.usi_in1k_stanford_cars_TRADES_v2.pkl\n",
      "HEY\n",
      "../results/linearprobe_50epochs_edge_paper_final2/edgenext_small.usi_in1k_stanford_cars_TRADES_v2.pkl\n",
      "../results/linearprobe_50epochs_paper_final2/coat_tiny.in1k_stanford_cars_TRADES_v2.pkl\n",
      "HEY\n",
      "../results/linearprobe_50epochs_edge_paper_final2/coat_tiny.in1k_stanford_cars_TRADES_v2.pkl\n",
      "../results/linearprobe_50epochs_paper_final2/CLIP-convnext_base_w-laion_aesthetic-s13B-b82K_caltech101_TRADES_v2.pkl\n",
      "../results/linearprobe_50epochs_paper_final2/CLIP-convnext_base_w-laion2B-s13B-b82K_caltech101_TRADES_v2.pkl\n",
      "../results/linearprobe_50epochs_paper_final2/deit_small_patch16_224.fb_in1k_caltech101_TRADES_v2.pkl\n",
      "../results/linearprobe_50epochs_paper_final2/robust_resnet50_caltech101_TRADES_v2.pkl\n",
      "../results/linearprobe_50epochs_paper_final2/vit_small_patch16_224.augreg_in21k_caltech101_TRADES_v2.pkl\n",
      "../results/linearprobe_50epochs_paper_final2/convnext_base.fb_in1k_caltech101_TRADES_v2.pkl\n",
      "../results/linearprobe_50epochs_paper_final2/resnet50.a1_in1k_caltech101_TRADES_v2.pkl\n",
      "../results/linearprobe_50epochs_paper_final2/robust_vit_base_patch16_224_caltech101_TRADES_v2.pkl\n",
      "../results/linearprobe_50epochs_paper_final2/vit_base_patch16_224.mae_caltech101_TRADES_v2.pkl\n",
      "../results/linearprobe_50epochs_paper_final2/vit_small_patch16_224.dino_caltech101_TRADES_v2.pkl\n",
      "../results/linearprobe_50epochs_paper_final2/convnext_base.fb_in22k_caltech101_TRADES_v2.pkl\n",
      "../results/linearprobe_50epochs_paper_final2/robust_convnext_base_caltech101_TRADES_v2.pkl\n",
      "../results/linearprobe_50epochs_paper_final2/vit_base_patch16_224.augreg_in1k_caltech101_TRADES_v2.pkl\n",
      "../results/linearprobe_50epochs_paper_final2/vit_base_patch16_224.augreg_in21k_caltech101_TRADES_v2.pkl\n",
      "../results/linearprobe_50epochs_paper_final2/vit_base_patch16_clip_224.laion2b_caltech101_TRADES_v2.pkl\n",
      "../results/linearprobe_50epochs_paper_final2/convnext_tiny.fb_in1k_caltech101_TRADES_v2.pkl\n",
      "../results/linearprobe_50epochs_paper_final2/robust_convnext_tiny_caltech101_TRADES_v2.pkl\n",
      "../results/linearprobe_50epochs_paper_final2/robust_deit_small_patch16_224_caltech101_TRADES_v2.pkl\n",
      "../results/linearprobe_50epochs_paper_final2/vit_small_patch16_224.augreg_in1k_caltech101_TRADES_v2.pkl\n",
      "../results/linearprobe_50epochs_paper_final2/convnext_tiny.fb_in22k_caltech101_TRADES_v2.pkl\n",
      "../results/linearprobe_50epochs_paper_final2/vit_base_patch16_clip_224.laion2b_ft_in1k_caltech101_TRADES_v2.pkl\n",
      "../results/linearprobe_50epochs_paper_final2/vit_base_patch16_224.augreg_in21k_ft_in1k_caltech101_TRADES_v2.pkl\n",
      "../results/linearprobe_50epochs_paper_final2/vit_small_patch16_224.augreg_in21k_ft_in1k_caltech101_TRADES_v2.pkl\n",
      "../results/linearprobe_50epochs_paper_final2/eva02_base_patch14_224.mim_in22k_caltech101_TRADES_v2.pkl\n",
      "../results/linearprobe_50epochs_paper_final2/eva02_tiny_patch14_224.mim_in22k_caltech101_TRADES_v2.pkl\n",
      "../results/linearprobe_50epochs_paper_final2/swin_base_patch4_window7_224.ms_in22k_ft_in1k_caltech101_TRADES_v2.pkl\n",
      "../results/linearprobe_50epochs_paper_final2/swin_tiny_patch4_window7_224.ms_in1k_caltech101_TRADES_v2.pkl\n",
      "../results/linearprobe_50epochs_paper_final2/convnext_base.clip_laion2b_augreg_ft_in12k_in1k_caltech101_TRADES_v2.pkl\n",
      "../results/linearprobe_50epochs_paper_final2/convnext_base.fb_in22k_ft_in1k_caltech101_TRADES_v2.pkl\n",
      "../results/linearprobe_50epochs_paper_final2/convnext_tiny.fb_in22k_ft_in1k_caltech101_TRADES_v2.pkl\n",
      "../results/linearprobe_50epochs_paper_final2/coatnet_0_rw_224.sw_in1k_caltech101_TRADES_v2.pkl\n",
      "../results/linearprobe_50epochs_paper_final2/coatnet_2_rw_224.sw_in12k_ft_in1k_caltech101_TRADES_v2.pkl\n",
      "../results/linearprobe_50epochs_paper_final2/coatnet_2_rw_224.sw_in12k_caltech101_TRADES_v2.pkl\n",
      "../results/linearprobe_50epochs_paper_final2/regnetx_004.pycls_in1k_caltech101_TRADES_v2.pkl\n",
      "HEY\n",
      "../results/linearprobe_50epochs_edge_paper_final2/regnetx_004.pycls_in1k_caltech101_TRADES_v2.pkl\n",
      "../results/linearprobe_50epochs_paper_final2/efficientnet-b0_caltech101_TRADES_v2.pkl\n",
      "HEY\n",
      "../results/linearprobe_50epochs_edge_paper_final2/efficientnet-b0_caltech101_TRADES_v2.pkl\n",
      "../results/linearprobe_50epochs_paper_final2/deit_tiny_patch16_224.fb_in1k_caltech101_TRADES_v2.pkl\n",
      "HEY\n",
      "../results/linearprobe_50epochs_edge_paper_final2/deit_tiny_patch16_224.fb_in1k_caltech101_TRADES_v2.pkl\n",
      "../results/linearprobe_50epochs_paper_final2/mobilevit-small_caltech101_TRADES_v2.pkl\n",
      "HEY\n",
      "../results/linearprobe_50epochs_edge_paper_final2/mobilevit-small_caltech101_TRADES_v2.pkl\n",
      "../results/linearprobe_50epochs_paper_final2/mobilenetv3_large_100.ra_in1k_caltech101_TRADES_v2.pkl\n",
      "HEY\n",
      "../results/linearprobe_50epochs_edge_paper_final2/mobilenetv3_large_100.ra_in1k_caltech101_TRADES_v2.pkl\n",
      "../results/linearprobe_50epochs_paper_final2/edgenext_small.usi_in1k_caltech101_TRADES_v2.pkl\n",
      "HEY\n",
      "../results/linearprobe_50epochs_edge_paper_final2/edgenext_small.usi_in1k_caltech101_TRADES_v2.pkl\n",
      "../results/linearprobe_50epochs_paper_final2/coat_tiny.in1k_caltech101_TRADES_v2.pkl\n",
      "HEY\n",
      "../results/linearprobe_50epochs_edge_paper_final2/coat_tiny.in1k_caltech101_TRADES_v2.pkl\n",
      "../results/linearprobe_50epochs_paper_final2/CLIP-convnext_base_w-laion_aesthetic-s13B-b82K_fgvc-aircraft-2013b_TRADES_v2.pkl\n",
      "../results/linearprobe_50epochs_paper_final2/CLIP-convnext_base_w-laion2B-s13B-b82K_fgvc-aircraft-2013b_TRADES_v2.pkl\n",
      "../results/linearprobe_50epochs_paper_final2/deit_small_patch16_224.fb_in1k_fgvc-aircraft-2013b_TRADES_v2.pkl\n",
      "../results/linearprobe_50epochs_paper_final2/robust_resnet50_fgvc-aircraft-2013b_TRADES_v2.pkl\n",
      "../results/linearprobe_50epochs_paper_final2/vit_small_patch16_224.augreg_in21k_fgvc-aircraft-2013b_TRADES_v2.pkl\n",
      "../results/linearprobe_50epochs_paper_final2/convnext_base.fb_in1k_fgvc-aircraft-2013b_TRADES_v2.pkl\n",
      "../results/linearprobe_50epochs_paper_final2/resnet50.a1_in1k_fgvc-aircraft-2013b_TRADES_v2.pkl\n",
      "../results/linearprobe_50epochs_paper_final2/robust_vit_base_patch16_224_fgvc-aircraft-2013b_TRADES_v2.pkl\n",
      "../results/linearprobe_50epochs_paper_final2/vit_base_patch16_224.mae_fgvc-aircraft-2013b_TRADES_v2.pkl\n",
      "../results/linearprobe_50epochs_paper_final2/vit_small_patch16_224.dino_fgvc-aircraft-2013b_TRADES_v2.pkl\n",
      "../results/linearprobe_50epochs_paper_final2/convnext_base.fb_in22k_fgvc-aircraft-2013b_TRADES_v2.pkl\n",
      "../results/linearprobe_50epochs_paper_final2/robust_convnext_base_fgvc-aircraft-2013b_TRADES_v2.pkl\n",
      "../results/linearprobe_50epochs_paper_final2/vit_base_patch16_224.augreg_in1k_fgvc-aircraft-2013b_TRADES_v2.pkl\n",
      "../results/linearprobe_50epochs_paper_final2/vit_base_patch16_224.augreg_in21k_fgvc-aircraft-2013b_TRADES_v2.pkl\n",
      "../results/linearprobe_50epochs_paper_final2/vit_base_patch16_clip_224.laion2b_fgvc-aircraft-2013b_TRADES_v2.pkl\n",
      "../results/linearprobe_50epochs_paper_final2/convnext_tiny.fb_in1k_fgvc-aircraft-2013b_TRADES_v2.pkl\n",
      "../results/linearprobe_50epochs_paper_final2/robust_convnext_tiny_fgvc-aircraft-2013b_TRADES_v2.pkl\n",
      "../results/linearprobe_50epochs_paper_final2/robust_deit_small_patch16_224_fgvc-aircraft-2013b_TRADES_v2.pkl\n",
      "../results/linearprobe_50epochs_paper_final2/vit_small_patch16_224.augreg_in1k_fgvc-aircraft-2013b_TRADES_v2.pkl\n",
      "../results/linearprobe_50epochs_paper_final2/convnext_tiny.fb_in22k_fgvc-aircraft-2013b_TRADES_v2.pkl\n",
      "../results/linearprobe_50epochs_paper_final2/vit_base_patch16_clip_224.laion2b_ft_in1k_fgvc-aircraft-2013b_TRADES_v2.pkl\n",
      "../results/linearprobe_50epochs_paper_final2/vit_base_patch16_224.augreg_in21k_ft_in1k_fgvc-aircraft-2013b_TRADES_v2.pkl\n",
      "../results/linearprobe_50epochs_paper_final2/vit_small_patch16_224.augreg_in21k_ft_in1k_fgvc-aircraft-2013b_TRADES_v2.pkl\n",
      "../results/linearprobe_50epochs_paper_final2/eva02_base_patch14_224.mim_in22k_fgvc-aircraft-2013b_TRADES_v2.pkl\n",
      "../results/linearprobe_50epochs_paper_final2/eva02_tiny_patch14_224.mim_in22k_fgvc-aircraft-2013b_TRADES_v2.pkl\n",
      "../results/linearprobe_50epochs_paper_final2/swin_base_patch4_window7_224.ms_in22k_ft_in1k_fgvc-aircraft-2013b_TRADES_v2.pkl\n",
      "../results/linearprobe_50epochs_paper_final2/swin_tiny_patch4_window7_224.ms_in1k_fgvc-aircraft-2013b_TRADES_v2.pkl\n",
      "../results/linearprobe_50epochs_paper_final2/convnext_base.clip_laion2b_augreg_ft_in12k_in1k_fgvc-aircraft-2013b_TRADES_v2.pkl\n",
      "../results/linearprobe_50epochs_paper_final2/convnext_base.fb_in22k_ft_in1k_fgvc-aircraft-2013b_TRADES_v2.pkl\n",
      "../results/linearprobe_50epochs_paper_final2/convnext_tiny.fb_in22k_ft_in1k_fgvc-aircraft-2013b_TRADES_v2.pkl\n",
      "../results/linearprobe_50epochs_paper_final2/coatnet_0_rw_224.sw_in1k_fgvc-aircraft-2013b_TRADES_v2.pkl\n",
      "../results/linearprobe_50epochs_paper_final2/coatnet_2_rw_224.sw_in12k_ft_in1k_fgvc-aircraft-2013b_TRADES_v2.pkl\n",
      "../results/linearprobe_50epochs_paper_final2/coatnet_2_rw_224.sw_in12k_fgvc-aircraft-2013b_TRADES_v2.pkl\n",
      "../results/linearprobe_50epochs_paper_final2/regnetx_004.pycls_in1k_fgvc-aircraft-2013b_TRADES_v2.pkl\n",
      "HEY\n",
      "../results/linearprobe_50epochs_edge_paper_final2/regnetx_004.pycls_in1k_fgvc-aircraft-2013b_TRADES_v2.pkl\n",
      "../results/linearprobe_50epochs_paper_final2/efficientnet-b0_fgvc-aircraft-2013b_TRADES_v2.pkl\n",
      "HEY\n",
      "../results/linearprobe_50epochs_edge_paper_final2/efficientnet-b0_fgvc-aircraft-2013b_TRADES_v2.pkl\n",
      "../results/linearprobe_50epochs_paper_final2/deit_tiny_patch16_224.fb_in1k_fgvc-aircraft-2013b_TRADES_v2.pkl\n",
      "HEY\n",
      "../results/linearprobe_50epochs_edge_paper_final2/deit_tiny_patch16_224.fb_in1k_fgvc-aircraft-2013b_TRADES_v2.pkl\n",
      "../results/linearprobe_50epochs_paper_final2/mobilevit-small_fgvc-aircraft-2013b_TRADES_v2.pkl\n",
      "HEY\n",
      "../results/linearprobe_50epochs_edge_paper_final2/mobilevit-small_fgvc-aircraft-2013b_TRADES_v2.pkl\n",
      "../results/linearprobe_50epochs_paper_final2/mobilenetv3_large_100.ra_in1k_fgvc-aircraft-2013b_TRADES_v2.pkl\n",
      "HEY\n",
      "../results/linearprobe_50epochs_edge_paper_final2/mobilenetv3_large_100.ra_in1k_fgvc-aircraft-2013b_TRADES_v2.pkl\n",
      "../results/linearprobe_50epochs_paper_final2/edgenext_small.usi_in1k_fgvc-aircraft-2013b_TRADES_v2.pkl\n",
      "HEY\n",
      "../results/linearprobe_50epochs_edge_paper_final2/edgenext_small.usi_in1k_fgvc-aircraft-2013b_TRADES_v2.pkl\n",
      "../results/linearprobe_50epochs_paper_final2/coat_tiny.in1k_fgvc-aircraft-2013b_TRADES_v2.pkl\n",
      "HEY\n",
      "../results/linearprobe_50epochs_edge_paper_final2/coat_tiny.in1k_fgvc-aircraft-2013b_TRADES_v2.pkl\n",
      "../results/linearprobe_50epochs_paper_final2/CLIP-convnext_base_w-laion_aesthetic-s13B-b82K_flowers-102_TRADES_v2.pkl\n",
      "../results/linearprobe_50epochs_paper_final2/CLIP-convnext_base_w-laion2B-s13B-b82K_flowers-102_TRADES_v2.pkl\n",
      "../results/linearprobe_50epochs_paper_final2/deit_small_patch16_224.fb_in1k_flowers-102_TRADES_v2.pkl\n",
      "../results/linearprobe_50epochs_paper_final2/robust_resnet50_flowers-102_TRADES_v2.pkl\n",
      "../results/linearprobe_50epochs_paper_final2/vit_small_patch16_224.augreg_in21k_flowers-102_TRADES_v2.pkl\n",
      "../results/linearprobe_50epochs_paper_final2/convnext_base.fb_in1k_flowers-102_TRADES_v2.pkl\n",
      "../results/linearprobe_50epochs_paper_final2/resnet50.a1_in1k_flowers-102_TRADES_v2.pkl\n",
      "../results/linearprobe_50epochs_paper_final2/robust_vit_base_patch16_224_flowers-102_TRADES_v2.pkl\n",
      "../results/linearprobe_50epochs_paper_final2/vit_base_patch16_224.mae_flowers-102_TRADES_v2.pkl\n",
      "../results/linearprobe_50epochs_paper_final2/vit_small_patch16_224.dino_flowers-102_TRADES_v2.pkl\n",
      "../results/linearprobe_50epochs_paper_final2/convnext_base.fb_in22k_flowers-102_TRADES_v2.pkl\n",
      "../results/linearprobe_50epochs_paper_final2/robust_convnext_base_flowers-102_TRADES_v2.pkl\n",
      "../results/linearprobe_50epochs_paper_final2/vit_base_patch16_224.augreg_in1k_flowers-102_TRADES_v2.pkl\n",
      "../results/linearprobe_50epochs_paper_final2/vit_base_patch16_224.augreg_in21k_flowers-102_TRADES_v2.pkl\n",
      "../results/linearprobe_50epochs_paper_final2/vit_base_patch16_clip_224.laion2b_flowers-102_TRADES_v2.pkl\n",
      "../results/linearprobe_50epochs_paper_final2/convnext_tiny.fb_in1k_flowers-102_TRADES_v2.pkl\n",
      "../results/linearprobe_50epochs_paper_final2/robust_convnext_tiny_flowers-102_TRADES_v2.pkl\n",
      "../results/linearprobe_50epochs_paper_final2/robust_deit_small_patch16_224_flowers-102_TRADES_v2.pkl\n",
      "../results/linearprobe_50epochs_paper_final2/vit_small_patch16_224.augreg_in1k_flowers-102_TRADES_v2.pkl\n",
      "../results/linearprobe_50epochs_paper_final2/convnext_tiny.fb_in22k_flowers-102_TRADES_v2.pkl\n",
      "../results/linearprobe_50epochs_paper_final2/vit_base_patch16_clip_224.laion2b_ft_in1k_flowers-102_TRADES_v2.pkl\n",
      "../results/linearprobe_50epochs_paper_final2/vit_base_patch16_224.augreg_in21k_ft_in1k_flowers-102_TRADES_v2.pkl\n",
      "../results/linearprobe_50epochs_paper_final2/vit_small_patch16_224.augreg_in21k_ft_in1k_flowers-102_TRADES_v2.pkl\n",
      "../results/linearprobe_50epochs_paper_final2/eva02_base_patch14_224.mim_in22k_flowers-102_TRADES_v2.pkl\n",
      "../results/linearprobe_50epochs_paper_final2/eva02_tiny_patch14_224.mim_in22k_flowers-102_TRADES_v2.pkl\n",
      "../results/linearprobe_50epochs_paper_final2/swin_base_patch4_window7_224.ms_in22k_ft_in1k_flowers-102_TRADES_v2.pkl\n",
      "../results/linearprobe_50epochs_paper_final2/swin_tiny_patch4_window7_224.ms_in1k_flowers-102_TRADES_v2.pkl\n",
      "../results/linearprobe_50epochs_paper_final2/convnext_base.clip_laion2b_augreg_ft_in12k_in1k_flowers-102_TRADES_v2.pkl\n",
      "../results/linearprobe_50epochs_paper_final2/convnext_base.fb_in22k_ft_in1k_flowers-102_TRADES_v2.pkl\n",
      "../results/linearprobe_50epochs_paper_final2/convnext_tiny.fb_in22k_ft_in1k_flowers-102_TRADES_v2.pkl\n",
      "../results/linearprobe_50epochs_paper_final2/coatnet_0_rw_224.sw_in1k_flowers-102_TRADES_v2.pkl\n",
      "../results/linearprobe_50epochs_paper_final2/coatnet_2_rw_224.sw_in12k_ft_in1k_flowers-102_TRADES_v2.pkl\n",
      "../results/linearprobe_50epochs_paper_final2/coatnet_2_rw_224.sw_in12k_flowers-102_TRADES_v2.pkl\n",
      "../results/linearprobe_50epochs_paper_final2/regnetx_004.pycls_in1k_flowers-102_TRADES_v2.pkl\n",
      "HEY\n",
      "../results/linearprobe_50epochs_edge_paper_final2/regnetx_004.pycls_in1k_flowers-102_TRADES_v2.pkl\n",
      "../results/linearprobe_50epochs_paper_final2/efficientnet-b0_flowers-102_TRADES_v2.pkl\n",
      "HEY\n",
      "../results/linearprobe_50epochs_edge_paper_final2/efficientnet-b0_flowers-102_TRADES_v2.pkl\n",
      "../results/linearprobe_50epochs_paper_final2/deit_tiny_patch16_224.fb_in1k_flowers-102_TRADES_v2.pkl\n",
      "HEY\n",
      "../results/linearprobe_50epochs_edge_paper_final2/deit_tiny_patch16_224.fb_in1k_flowers-102_TRADES_v2.pkl\n",
      "../results/linearprobe_50epochs_paper_final2/mobilevit-small_flowers-102_TRADES_v2.pkl\n",
      "HEY\n",
      "../results/linearprobe_50epochs_edge_paper_final2/mobilevit-small_flowers-102_TRADES_v2.pkl\n",
      "../results/linearprobe_50epochs_paper_final2/mobilenetv3_large_100.ra_in1k_flowers-102_TRADES_v2.pkl\n",
      "HEY\n",
      "../results/linearprobe_50epochs_edge_paper_final2/mobilenetv3_large_100.ra_in1k_flowers-102_TRADES_v2.pkl\n",
      "../results/linearprobe_50epochs_paper_final2/edgenext_small.usi_in1k_flowers-102_TRADES_v2.pkl\n",
      "HEY\n",
      "../results/linearprobe_50epochs_edge_paper_final2/edgenext_small.usi_in1k_flowers-102_TRADES_v2.pkl\n",
      "../results/linearprobe_50epochs_paper_final2/coat_tiny.in1k_flowers-102_TRADES_v2.pkl\n",
      "HEY\n",
      "../results/linearprobe_50epochs_edge_paper_final2/coat_tiny.in1k_flowers-102_TRADES_v2.pkl\n",
      "../results/linearprobe_50epochs_paper_final2/CLIP-convnext_base_w-laion_aesthetic-s13B-b82K_oxford-iiit-pet_TRADES_v2.pkl\n",
      "../results/linearprobe_50epochs_paper_final2/CLIP-convnext_base_w-laion2B-s13B-b82K_oxford-iiit-pet_TRADES_v2.pkl\n",
      "../results/linearprobe_50epochs_paper_final2/deit_small_patch16_224.fb_in1k_oxford-iiit-pet_TRADES_v2.pkl\n",
      "../results/linearprobe_50epochs_paper_final2/robust_resnet50_oxford-iiit-pet_TRADES_v2.pkl\n",
      "../results/linearprobe_50epochs_paper_final2/vit_small_patch16_224.augreg_in21k_oxford-iiit-pet_TRADES_v2.pkl\n",
      "../results/linearprobe_50epochs_paper_final2/convnext_base.fb_in1k_oxford-iiit-pet_TRADES_v2.pkl\n",
      "../results/linearprobe_50epochs_paper_final2/resnet50.a1_in1k_oxford-iiit-pet_TRADES_v2.pkl\n",
      "../results/linearprobe_50epochs_paper_final2/robust_vit_base_patch16_224_oxford-iiit-pet_TRADES_v2.pkl\n",
      "../results/linearprobe_50epochs_paper_final2/vit_base_patch16_224.mae_oxford-iiit-pet_TRADES_v2.pkl\n",
      "../results/linearprobe_50epochs_paper_final2/vit_small_patch16_224.dino_oxford-iiit-pet_TRADES_v2.pkl\n",
      "../results/linearprobe_50epochs_paper_final2/convnext_base.fb_in22k_oxford-iiit-pet_TRADES_v2.pkl\n",
      "../results/linearprobe_50epochs_paper_final2/robust_convnext_base_oxford-iiit-pet_TRADES_v2.pkl\n",
      "../results/linearprobe_50epochs_paper_final2/vit_base_patch16_224.augreg_in1k_oxford-iiit-pet_TRADES_v2.pkl\n",
      "../results/linearprobe_50epochs_paper_final2/vit_base_patch16_224.augreg_in21k_oxford-iiit-pet_TRADES_v2.pkl\n",
      "../results/linearprobe_50epochs_paper_final2/vit_base_patch16_clip_224.laion2b_oxford-iiit-pet_TRADES_v2.pkl\n",
      "../results/linearprobe_50epochs_paper_final2/convnext_tiny.fb_in1k_oxford-iiit-pet_TRADES_v2.pkl\n",
      "../results/linearprobe_50epochs_paper_final2/robust_convnext_tiny_oxford-iiit-pet_TRADES_v2.pkl\n",
      "../results/linearprobe_50epochs_paper_final2/robust_deit_small_patch16_224_oxford-iiit-pet_TRADES_v2.pkl\n",
      "../results/linearprobe_50epochs_paper_final2/vit_small_patch16_224.augreg_in1k_oxford-iiit-pet_TRADES_v2.pkl\n",
      "../results/linearprobe_50epochs_paper_final2/convnext_tiny.fb_in22k_oxford-iiit-pet_TRADES_v2.pkl\n",
      "../results/linearprobe_50epochs_paper_final2/vit_base_patch16_clip_224.laion2b_ft_in1k_oxford-iiit-pet_TRADES_v2.pkl\n",
      "../results/linearprobe_50epochs_paper_final2/vit_base_patch16_224.augreg_in21k_ft_in1k_oxford-iiit-pet_TRADES_v2.pkl\n",
      "../results/linearprobe_50epochs_paper_final2/vit_small_patch16_224.augreg_in21k_ft_in1k_oxford-iiit-pet_TRADES_v2.pkl\n",
      "../results/linearprobe_50epochs_paper_final2/eva02_base_patch14_224.mim_in22k_oxford-iiit-pet_TRADES_v2.pkl\n",
      "../results/linearprobe_50epochs_paper_final2/eva02_tiny_patch14_224.mim_in22k_oxford-iiit-pet_TRADES_v2.pkl\n",
      "../results/linearprobe_50epochs_paper_final2/swin_base_patch4_window7_224.ms_in22k_ft_in1k_oxford-iiit-pet_TRADES_v2.pkl\n",
      "../results/linearprobe_50epochs_paper_final2/swin_tiny_patch4_window7_224.ms_in1k_oxford-iiit-pet_TRADES_v2.pkl\n",
      "../results/linearprobe_50epochs_paper_final2/convnext_base.clip_laion2b_augreg_ft_in12k_in1k_oxford-iiit-pet_TRADES_v2.pkl\n",
      "../results/linearprobe_50epochs_paper_final2/convnext_base.fb_in22k_ft_in1k_oxford-iiit-pet_TRADES_v2.pkl\n",
      "../results/linearprobe_50epochs_paper_final2/convnext_tiny.fb_in22k_ft_in1k_oxford-iiit-pet_TRADES_v2.pkl\n",
      "../results/linearprobe_50epochs_paper_final2/coatnet_0_rw_224.sw_in1k_oxford-iiit-pet_TRADES_v2.pkl\n",
      "../results/linearprobe_50epochs_paper_final2/coatnet_2_rw_224.sw_in12k_ft_in1k_oxford-iiit-pet_TRADES_v2.pkl\n",
      "../results/linearprobe_50epochs_paper_final2/coatnet_2_rw_224.sw_in12k_oxford-iiit-pet_TRADES_v2.pkl\n",
      "../results/linearprobe_50epochs_paper_final2/regnetx_004.pycls_in1k_oxford-iiit-pet_TRADES_v2.pkl\n",
      "HEY\n",
      "../results/linearprobe_50epochs_edge_paper_final2/regnetx_004.pycls_in1k_oxford-iiit-pet_TRADES_v2.pkl\n",
      "../results/linearprobe_50epochs_paper_final2/efficientnet-b0_oxford-iiit-pet_TRADES_v2.pkl\n",
      "HEY\n",
      "../results/linearprobe_50epochs_edge_paper_final2/efficientnet-b0_oxford-iiit-pet_TRADES_v2.pkl\n",
      "../results/linearprobe_50epochs_paper_final2/deit_tiny_patch16_224.fb_in1k_oxford-iiit-pet_TRADES_v2.pkl\n",
      "HEY\n",
      "../results/linearprobe_50epochs_edge_paper_final2/deit_tiny_patch16_224.fb_in1k_oxford-iiit-pet_TRADES_v2.pkl\n",
      "../results/linearprobe_50epochs_paper_final2/mobilevit-small_oxford-iiit-pet_TRADES_v2.pkl\n",
      "HEY\n",
      "../results/linearprobe_50epochs_edge_paper_final2/mobilevit-small_oxford-iiit-pet_TRADES_v2.pkl\n",
      "../results/linearprobe_50epochs_paper_final2/mobilenetv3_large_100.ra_in1k_oxford-iiit-pet_TRADES_v2.pkl\n",
      "HEY\n",
      "../results/linearprobe_50epochs_edge_paper_final2/mobilenetv3_large_100.ra_in1k_oxford-iiit-pet_TRADES_v2.pkl\n",
      "../results/linearprobe_50epochs_paper_final2/edgenext_small.usi_in1k_oxford-iiit-pet_TRADES_v2.pkl\n",
      "HEY\n",
      "../results/linearprobe_50epochs_edge_paper_final2/edgenext_small.usi_in1k_oxford-iiit-pet_TRADES_v2.pkl\n",
      "../results/linearprobe_50epochs_paper_final2/coat_tiny.in1k_oxford-iiit-pet_TRADES_v2.pkl\n",
      "HEY\n",
      "../results/linearprobe_50epochs_edge_paper_final2/coat_tiny.in1k_oxford-iiit-pet_TRADES_v2.pkl\n",
      "../results/linearprobe_50epochs_paper_final2/CLIP-convnext_base_w-laion_aesthetic-s13B-b82K_uc-merced-land-use-dataset_CLASSIC_AT.pkl\n",
      "../results/linearprobe_50epochs_paper_final2/CLIP-convnext_base_w-laion2B-s13B-b82K_uc-merced-land-use-dataset_CLASSIC_AT.pkl\n",
      "../results/linearprobe_50epochs_paper_final2/deit_small_patch16_224.fb_in1k_uc-merced-land-use-dataset_CLASSIC_AT.pkl\n",
      "../results/linearprobe_50epochs_paper_final2/robust_resnet50_uc-merced-land-use-dataset_CLASSIC_AT.pkl\n",
      "../results/linearprobe_50epochs_paper_final2/vit_small_patch16_224.augreg_in21k_uc-merced-land-use-dataset_CLASSIC_AT.pkl\n",
      "../results/linearprobe_50epochs_paper_final2/convnext_base.fb_in1k_uc-merced-land-use-dataset_CLASSIC_AT.pkl\n",
      "../results/linearprobe_50epochs_paper_final2/resnet50.a1_in1k_uc-merced-land-use-dataset_CLASSIC_AT.pkl\n",
      "../results/linearprobe_50epochs_paper_final2/robust_vit_base_patch16_224_uc-merced-land-use-dataset_CLASSIC_AT.pkl\n",
      "../results/linearprobe_50epochs_paper_final2/vit_base_patch16_224.mae_uc-merced-land-use-dataset_CLASSIC_AT.pkl\n",
      "../results/linearprobe_50epochs_paper_final2/vit_small_patch16_224.dino_uc-merced-land-use-dataset_CLASSIC_AT.pkl\n",
      "../results/linearprobe_50epochs_paper_final2/convnext_base.fb_in22k_uc-merced-land-use-dataset_CLASSIC_AT.pkl\n",
      "../results/linearprobe_50epochs_paper_final2/robust_convnext_base_uc-merced-land-use-dataset_CLASSIC_AT.pkl\n",
      "../results/linearprobe_50epochs_paper_final2/vit_base_patch16_224.augreg_in1k_uc-merced-land-use-dataset_CLASSIC_AT.pkl\n",
      "../results/linearprobe_50epochs_paper_final2/vit_base_patch16_224.augreg_in21k_uc-merced-land-use-dataset_CLASSIC_AT.pkl\n",
      "../results/linearprobe_50epochs_paper_final2/vit_base_patch16_clip_224.laion2b_uc-merced-land-use-dataset_CLASSIC_AT.pkl\n",
      "../results/linearprobe_50epochs_paper_final2/convnext_tiny.fb_in1k_uc-merced-land-use-dataset_CLASSIC_AT.pkl\n",
      "../results/linearprobe_50epochs_paper_final2/robust_convnext_tiny_uc-merced-land-use-dataset_CLASSIC_AT.pkl\n",
      "../results/linearprobe_50epochs_paper_final2/robust_deit_small_patch16_224_uc-merced-land-use-dataset_CLASSIC_AT.pkl\n",
      "../results/linearprobe_50epochs_paper_final2/vit_small_patch16_224.augreg_in1k_uc-merced-land-use-dataset_CLASSIC_AT.pkl\n",
      "../results/linearprobe_50epochs_paper_final2/convnext_tiny.fb_in22k_uc-merced-land-use-dataset_CLASSIC_AT.pkl\n",
      "../results/linearprobe_50epochs_paper_final2/vit_base_patch16_clip_224.laion2b_ft_in1k_uc-merced-land-use-dataset_CLASSIC_AT.pkl\n",
      "../results/linearprobe_50epochs_paper_final2/vit_base_patch16_224.augreg_in21k_ft_in1k_uc-merced-land-use-dataset_CLASSIC_AT.pkl\n",
      "../results/linearprobe_50epochs_paper_final2/vit_small_patch16_224.augreg_in21k_ft_in1k_uc-merced-land-use-dataset_CLASSIC_AT.pkl\n",
      "../results/linearprobe_50epochs_paper_final2/eva02_base_patch14_224.mim_in22k_uc-merced-land-use-dataset_CLASSIC_AT.pkl\n",
      "../results/linearprobe_50epochs_paper_final2/eva02_tiny_patch14_224.mim_in22k_uc-merced-land-use-dataset_CLASSIC_AT.pkl\n",
      "../results/linearprobe_50epochs_paper_final2/swin_base_patch4_window7_224.ms_in22k_ft_in1k_uc-merced-land-use-dataset_CLASSIC_AT.pkl\n",
      "../results/linearprobe_50epochs_paper_final2/swin_tiny_patch4_window7_224.ms_in1k_uc-merced-land-use-dataset_CLASSIC_AT.pkl\n",
      "../results/linearprobe_50epochs_paper_final2/convnext_base.clip_laion2b_augreg_ft_in12k_in1k_uc-merced-land-use-dataset_CLASSIC_AT.pkl\n",
      "../results/linearprobe_50epochs_paper_final2/convnext_base.fb_in22k_ft_in1k_uc-merced-land-use-dataset_CLASSIC_AT.pkl\n",
      "../results/linearprobe_50epochs_paper_final2/convnext_tiny.fb_in22k_ft_in1k_uc-merced-land-use-dataset_CLASSIC_AT.pkl\n",
      "../results/linearprobe_50epochs_paper_final2/coatnet_0_rw_224.sw_in1k_uc-merced-land-use-dataset_CLASSIC_AT.pkl\n",
      "../results/linearprobe_50epochs_paper_final2/coatnet_2_rw_224.sw_in12k_ft_in1k_uc-merced-land-use-dataset_CLASSIC_AT.pkl\n",
      "../results/linearprobe_50epochs_paper_final2/coatnet_2_rw_224.sw_in12k_uc-merced-land-use-dataset_CLASSIC_AT.pkl\n",
      "../results/linearprobe_50epochs_paper_final2/regnetx_004.pycls_in1k_uc-merced-land-use-dataset_CLASSIC_AT.pkl\n",
      "HEY\n",
      "../results/linearprobe_50epochs_edge_paper_final2/regnetx_004.pycls_in1k_uc-merced-land-use-dataset_CLASSIC_AT.pkl\n",
      "../results/linearprobe_50epochs_paper_final2/efficientnet-b0_uc-merced-land-use-dataset_CLASSIC_AT.pkl\n",
      "HEY\n",
      "../results/linearprobe_50epochs_edge_paper_final2/efficientnet-b0_uc-merced-land-use-dataset_CLASSIC_AT.pkl\n",
      "../results/linearprobe_50epochs_paper_final2/deit_tiny_patch16_224.fb_in1k_uc-merced-land-use-dataset_CLASSIC_AT.pkl\n",
      "HEY\n",
      "../results/linearprobe_50epochs_edge_paper_final2/deit_tiny_patch16_224.fb_in1k_uc-merced-land-use-dataset_CLASSIC_AT.pkl\n",
      "../results/linearprobe_50epochs_paper_final2/mobilevit-small_uc-merced-land-use-dataset_CLASSIC_AT.pkl\n",
      "HEY\n",
      "../results/linearprobe_50epochs_edge_paper_final2/mobilevit-small_uc-merced-land-use-dataset_CLASSIC_AT.pkl\n",
      "../results/linearprobe_50epochs_paper_final2/mobilenetv3_large_100.ra_in1k_uc-merced-land-use-dataset_CLASSIC_AT.pkl\n",
      "HEY\n",
      "../results/linearprobe_50epochs_edge_paper_final2/mobilenetv3_large_100.ra_in1k_uc-merced-land-use-dataset_CLASSIC_AT.pkl\n",
      "../results/linearprobe_50epochs_paper_final2/edgenext_small.usi_in1k_uc-merced-land-use-dataset_CLASSIC_AT.pkl\n",
      "HEY\n",
      "../results/linearprobe_50epochs_edge_paper_final2/edgenext_small.usi_in1k_uc-merced-land-use-dataset_CLASSIC_AT.pkl\n",
      "../results/linearprobe_50epochs_paper_final2/coat_tiny.in1k_uc-merced-land-use-dataset_CLASSIC_AT.pkl\n",
      "HEY\n",
      "../results/linearprobe_50epochs_edge_paper_final2/coat_tiny.in1k_uc-merced-land-use-dataset_CLASSIC_AT.pkl\n",
      "../results/linearprobe_50epochs_paper_final2/CLIP-convnext_base_w-laion_aesthetic-s13B-b82K_stanford_cars_CLASSIC_AT.pkl\n",
      "../results/linearprobe_50epochs_paper_final2/CLIP-convnext_base_w-laion2B-s13B-b82K_stanford_cars_CLASSIC_AT.pkl\n",
      "../results/linearprobe_50epochs_paper_final2/deit_small_patch16_224.fb_in1k_stanford_cars_CLASSIC_AT.pkl\n",
      "../results/linearprobe_50epochs_paper_final2/robust_resnet50_stanford_cars_CLASSIC_AT.pkl\n",
      "../results/linearprobe_50epochs_paper_final2/vit_small_patch16_224.augreg_in21k_stanford_cars_CLASSIC_AT.pkl\n",
      "../results/linearprobe_50epochs_paper_final2/convnext_base.fb_in1k_stanford_cars_CLASSIC_AT.pkl\n",
      "../results/linearprobe_50epochs_paper_final2/resnet50.a1_in1k_stanford_cars_CLASSIC_AT.pkl\n",
      "../results/linearprobe_50epochs_paper_final2/robust_vit_base_patch16_224_stanford_cars_CLASSIC_AT.pkl\n",
      "../results/linearprobe_50epochs_paper_final2/vit_base_patch16_224.mae_stanford_cars_CLASSIC_AT.pkl\n",
      "../results/linearprobe_50epochs_paper_final2/vit_small_patch16_224.dino_stanford_cars_CLASSIC_AT.pkl\n",
      "../results/linearprobe_50epochs_paper_final2/convnext_base.fb_in22k_stanford_cars_CLASSIC_AT.pkl\n",
      "../results/linearprobe_50epochs_paper_final2/robust_convnext_base_stanford_cars_CLASSIC_AT.pkl\n",
      "../results/linearprobe_50epochs_paper_final2/vit_base_patch16_224.augreg_in1k_stanford_cars_CLASSIC_AT.pkl\n",
      "../results/linearprobe_50epochs_paper_final2/vit_base_patch16_224.augreg_in21k_stanford_cars_CLASSIC_AT.pkl\n",
      "../results/linearprobe_50epochs_paper_final2/vit_base_patch16_clip_224.laion2b_stanford_cars_CLASSIC_AT.pkl\n",
      "../results/linearprobe_50epochs_paper_final2/convnext_tiny.fb_in1k_stanford_cars_CLASSIC_AT.pkl\n",
      "../results/linearprobe_50epochs_paper_final2/robust_convnext_tiny_stanford_cars_CLASSIC_AT.pkl\n",
      "../results/linearprobe_50epochs_paper_final2/robust_deit_small_patch16_224_stanford_cars_CLASSIC_AT.pkl\n",
      "../results/linearprobe_50epochs_paper_final2/vit_small_patch16_224.augreg_in1k_stanford_cars_CLASSIC_AT.pkl\n",
      "../results/linearprobe_50epochs_paper_final2/convnext_tiny.fb_in22k_stanford_cars_CLASSIC_AT.pkl\n",
      "../results/linearprobe_50epochs_paper_final2/vit_base_patch16_clip_224.laion2b_ft_in1k_stanford_cars_CLASSIC_AT.pkl\n",
      "../results/linearprobe_50epochs_paper_final2/vit_base_patch16_224.augreg_in21k_ft_in1k_stanford_cars_CLASSIC_AT.pkl\n",
      "../results/linearprobe_50epochs_paper_final2/vit_small_patch16_224.augreg_in21k_ft_in1k_stanford_cars_CLASSIC_AT.pkl\n",
      "../results/linearprobe_50epochs_paper_final2/eva02_base_patch14_224.mim_in22k_stanford_cars_CLASSIC_AT.pkl\n",
      "../results/linearprobe_50epochs_paper_final2/eva02_tiny_patch14_224.mim_in22k_stanford_cars_CLASSIC_AT.pkl\n",
      "../results/linearprobe_50epochs_paper_final2/swin_base_patch4_window7_224.ms_in22k_ft_in1k_stanford_cars_CLASSIC_AT.pkl\n",
      "../results/linearprobe_50epochs_paper_final2/swin_tiny_patch4_window7_224.ms_in1k_stanford_cars_CLASSIC_AT.pkl\n",
      "../results/linearprobe_50epochs_paper_final2/convnext_base.clip_laion2b_augreg_ft_in12k_in1k_stanford_cars_CLASSIC_AT.pkl\n",
      "../results/linearprobe_50epochs_paper_final2/convnext_base.fb_in22k_ft_in1k_stanford_cars_CLASSIC_AT.pkl\n",
      "../results/linearprobe_50epochs_paper_final2/convnext_tiny.fb_in22k_ft_in1k_stanford_cars_CLASSIC_AT.pkl\n",
      "../results/linearprobe_50epochs_paper_final2/coatnet_0_rw_224.sw_in1k_stanford_cars_CLASSIC_AT.pkl\n",
      "../results/linearprobe_50epochs_paper_final2/coatnet_2_rw_224.sw_in12k_ft_in1k_stanford_cars_CLASSIC_AT.pkl\n",
      "../results/linearprobe_50epochs_paper_final2/coatnet_2_rw_224.sw_in12k_stanford_cars_CLASSIC_AT.pkl\n",
      "../results/linearprobe_50epochs_paper_final2/regnetx_004.pycls_in1k_stanford_cars_CLASSIC_AT.pkl\n",
      "HEY\n",
      "../results/linearprobe_50epochs_edge_paper_final2/regnetx_004.pycls_in1k_stanford_cars_CLASSIC_AT.pkl\n",
      "../results/linearprobe_50epochs_paper_final2/efficientnet-b0_stanford_cars_CLASSIC_AT.pkl\n",
      "HEY\n",
      "../results/linearprobe_50epochs_edge_paper_final2/efficientnet-b0_stanford_cars_CLASSIC_AT.pkl\n",
      "../results/linearprobe_50epochs_paper_final2/deit_tiny_patch16_224.fb_in1k_stanford_cars_CLASSIC_AT.pkl\n",
      "HEY\n",
      "../results/linearprobe_50epochs_edge_paper_final2/deit_tiny_patch16_224.fb_in1k_stanford_cars_CLASSIC_AT.pkl\n",
      "../results/linearprobe_50epochs_paper_final2/mobilevit-small_stanford_cars_CLASSIC_AT.pkl\n",
      "HEY\n",
      "../results/linearprobe_50epochs_edge_paper_final2/mobilevit-small_stanford_cars_CLASSIC_AT.pkl\n",
      "../results/linearprobe_50epochs_paper_final2/mobilenetv3_large_100.ra_in1k_stanford_cars_CLASSIC_AT.pkl\n",
      "HEY\n",
      "../results/linearprobe_50epochs_edge_paper_final2/mobilenetv3_large_100.ra_in1k_stanford_cars_CLASSIC_AT.pkl\n",
      "../results/linearprobe_50epochs_paper_final2/edgenext_small.usi_in1k_stanford_cars_CLASSIC_AT.pkl\n",
      "HEY\n",
      "../results/linearprobe_50epochs_edge_paper_final2/edgenext_small.usi_in1k_stanford_cars_CLASSIC_AT.pkl\n",
      "../results/linearprobe_50epochs_paper_final2/coat_tiny.in1k_stanford_cars_CLASSIC_AT.pkl\n",
      "HEY\n",
      "../results/linearprobe_50epochs_edge_paper_final2/coat_tiny.in1k_stanford_cars_CLASSIC_AT.pkl\n",
      "../results/linearprobe_50epochs_paper_final2/CLIP-convnext_base_w-laion_aesthetic-s13B-b82K_caltech101_CLASSIC_AT.pkl\n",
      "../results/linearprobe_50epochs_paper_final2/CLIP-convnext_base_w-laion2B-s13B-b82K_caltech101_CLASSIC_AT.pkl\n",
      "../results/linearprobe_50epochs_paper_final2/deit_small_patch16_224.fb_in1k_caltech101_CLASSIC_AT.pkl\n",
      "../results/linearprobe_50epochs_paper_final2/robust_resnet50_caltech101_CLASSIC_AT.pkl\n",
      "../results/linearprobe_50epochs_paper_final2/vit_small_patch16_224.augreg_in21k_caltech101_CLASSIC_AT.pkl\n",
      "../results/linearprobe_50epochs_paper_final2/convnext_base.fb_in1k_caltech101_CLASSIC_AT.pkl\n",
      "../results/linearprobe_50epochs_paper_final2/resnet50.a1_in1k_caltech101_CLASSIC_AT.pkl\n",
      "../results/linearprobe_50epochs_paper_final2/robust_vit_base_patch16_224_caltech101_CLASSIC_AT.pkl\n",
      "../results/linearprobe_50epochs_paper_final2/vit_base_patch16_224.mae_caltech101_CLASSIC_AT.pkl\n",
      "../results/linearprobe_50epochs_paper_final2/vit_small_patch16_224.dino_caltech101_CLASSIC_AT.pkl\n",
      "../results/linearprobe_50epochs_paper_final2/convnext_base.fb_in22k_caltech101_CLASSIC_AT.pkl\n",
      "../results/linearprobe_50epochs_paper_final2/robust_convnext_base_caltech101_CLASSIC_AT.pkl\n",
      "../results/linearprobe_50epochs_paper_final2/vit_base_patch16_224.augreg_in1k_caltech101_CLASSIC_AT.pkl\n",
      "../results/linearprobe_50epochs_paper_final2/vit_base_patch16_224.augreg_in21k_caltech101_CLASSIC_AT.pkl\n",
      "../results/linearprobe_50epochs_paper_final2/vit_base_patch16_clip_224.laion2b_caltech101_CLASSIC_AT.pkl\n",
      "../results/linearprobe_50epochs_paper_final2/convnext_tiny.fb_in1k_caltech101_CLASSIC_AT.pkl\n",
      "../results/linearprobe_50epochs_paper_final2/robust_convnext_tiny_caltech101_CLASSIC_AT.pkl\n",
      "../results/linearprobe_50epochs_paper_final2/robust_deit_small_patch16_224_caltech101_CLASSIC_AT.pkl\n",
      "../results/linearprobe_50epochs_paper_final2/vit_small_patch16_224.augreg_in1k_caltech101_CLASSIC_AT.pkl\n",
      "../results/linearprobe_50epochs_paper_final2/convnext_tiny.fb_in22k_caltech101_CLASSIC_AT.pkl\n",
      "../results/linearprobe_50epochs_paper_final2/vit_base_patch16_clip_224.laion2b_ft_in1k_caltech101_CLASSIC_AT.pkl\n",
      "../results/linearprobe_50epochs_paper_final2/vit_base_patch16_224.augreg_in21k_ft_in1k_caltech101_CLASSIC_AT.pkl\n",
      "../results/linearprobe_50epochs_paper_final2/vit_small_patch16_224.augreg_in21k_ft_in1k_caltech101_CLASSIC_AT.pkl\n",
      "../results/linearprobe_50epochs_paper_final2/eva02_base_patch14_224.mim_in22k_caltech101_CLASSIC_AT.pkl\n",
      "../results/linearprobe_50epochs_paper_final2/eva02_tiny_patch14_224.mim_in22k_caltech101_CLASSIC_AT.pkl\n",
      "../results/linearprobe_50epochs_paper_final2/swin_base_patch4_window7_224.ms_in22k_ft_in1k_caltech101_CLASSIC_AT.pkl\n",
      "../results/linearprobe_50epochs_paper_final2/swin_tiny_patch4_window7_224.ms_in1k_caltech101_CLASSIC_AT.pkl\n",
      "../results/linearprobe_50epochs_paper_final2/convnext_base.clip_laion2b_augreg_ft_in12k_in1k_caltech101_CLASSIC_AT.pkl\n",
      "../results/linearprobe_50epochs_paper_final2/convnext_base.fb_in22k_ft_in1k_caltech101_CLASSIC_AT.pkl\n",
      "../results/linearprobe_50epochs_paper_final2/convnext_tiny.fb_in22k_ft_in1k_caltech101_CLASSIC_AT.pkl\n",
      "../results/linearprobe_50epochs_paper_final2/coatnet_0_rw_224.sw_in1k_caltech101_CLASSIC_AT.pkl\n",
      "../results/linearprobe_50epochs_paper_final2/coatnet_2_rw_224.sw_in12k_ft_in1k_caltech101_CLASSIC_AT.pkl\n",
      "../results/linearprobe_50epochs_paper_final2/coatnet_2_rw_224.sw_in12k_caltech101_CLASSIC_AT.pkl\n",
      "../results/linearprobe_50epochs_paper_final2/regnetx_004.pycls_in1k_caltech101_CLASSIC_AT.pkl\n",
      "HEY\n",
      "../results/linearprobe_50epochs_edge_paper_final2/regnetx_004.pycls_in1k_caltech101_CLASSIC_AT.pkl\n",
      "../results/linearprobe_50epochs_paper_final2/efficientnet-b0_caltech101_CLASSIC_AT.pkl\n",
      "HEY\n",
      "../results/linearprobe_50epochs_edge_paper_final2/efficientnet-b0_caltech101_CLASSIC_AT.pkl\n",
      "../results/linearprobe_50epochs_paper_final2/deit_tiny_patch16_224.fb_in1k_caltech101_CLASSIC_AT.pkl\n",
      "HEY\n",
      "../results/linearprobe_50epochs_edge_paper_final2/deit_tiny_patch16_224.fb_in1k_caltech101_CLASSIC_AT.pkl\n",
      "../results/linearprobe_50epochs_paper_final2/mobilevit-small_caltech101_CLASSIC_AT.pkl\n",
      "HEY\n",
      "../results/linearprobe_50epochs_edge_paper_final2/mobilevit-small_caltech101_CLASSIC_AT.pkl\n",
      "../results/linearprobe_50epochs_paper_final2/mobilenetv3_large_100.ra_in1k_caltech101_CLASSIC_AT.pkl\n",
      "HEY\n",
      "../results/linearprobe_50epochs_edge_paper_final2/mobilenetv3_large_100.ra_in1k_caltech101_CLASSIC_AT.pkl\n",
      "../results/linearprobe_50epochs_paper_final2/edgenext_small.usi_in1k_caltech101_CLASSIC_AT.pkl\n",
      "HEY\n",
      "../results/linearprobe_50epochs_edge_paper_final2/edgenext_small.usi_in1k_caltech101_CLASSIC_AT.pkl\n",
      "../results/linearprobe_50epochs_paper_final2/coat_tiny.in1k_caltech101_CLASSIC_AT.pkl\n",
      "HEY\n",
      "../results/linearprobe_50epochs_edge_paper_final2/coat_tiny.in1k_caltech101_CLASSIC_AT.pkl\n",
      "../results/linearprobe_50epochs_paper_final2/CLIP-convnext_base_w-laion_aesthetic-s13B-b82K_fgvc-aircraft-2013b_CLASSIC_AT.pkl\n",
      "../results/linearprobe_50epochs_paper_final2/CLIP-convnext_base_w-laion2B-s13B-b82K_fgvc-aircraft-2013b_CLASSIC_AT.pkl\n",
      "../results/linearprobe_50epochs_paper_final2/deit_small_patch16_224.fb_in1k_fgvc-aircraft-2013b_CLASSIC_AT.pkl\n",
      "../results/linearprobe_50epochs_paper_final2/robust_resnet50_fgvc-aircraft-2013b_CLASSIC_AT.pkl\n",
      "../results/linearprobe_50epochs_paper_final2/vit_small_patch16_224.augreg_in21k_fgvc-aircraft-2013b_CLASSIC_AT.pkl\n",
      "../results/linearprobe_50epochs_paper_final2/convnext_base.fb_in1k_fgvc-aircraft-2013b_CLASSIC_AT.pkl\n",
      "../results/linearprobe_50epochs_paper_final2/resnet50.a1_in1k_fgvc-aircraft-2013b_CLASSIC_AT.pkl\n",
      "../results/linearprobe_50epochs_paper_final2/robust_vit_base_patch16_224_fgvc-aircraft-2013b_CLASSIC_AT.pkl\n",
      "../results/linearprobe_50epochs_paper_final2/vit_base_patch16_224.mae_fgvc-aircraft-2013b_CLASSIC_AT.pkl\n",
      "../results/linearprobe_50epochs_paper_final2/vit_small_patch16_224.dino_fgvc-aircraft-2013b_CLASSIC_AT.pkl\n",
      "../results/linearprobe_50epochs_paper_final2/convnext_base.fb_in22k_fgvc-aircraft-2013b_CLASSIC_AT.pkl\n",
      "../results/linearprobe_50epochs_paper_final2/robust_convnext_base_fgvc-aircraft-2013b_CLASSIC_AT.pkl\n",
      "../results/linearprobe_50epochs_paper_final2/vit_base_patch16_224.augreg_in1k_fgvc-aircraft-2013b_CLASSIC_AT.pkl\n",
      "../results/linearprobe_50epochs_paper_final2/vit_base_patch16_224.augreg_in21k_fgvc-aircraft-2013b_CLASSIC_AT.pkl\n",
      "../results/linearprobe_50epochs_paper_final2/vit_base_patch16_clip_224.laion2b_fgvc-aircraft-2013b_CLASSIC_AT.pkl\n",
      "../results/linearprobe_50epochs_paper_final2/convnext_tiny.fb_in1k_fgvc-aircraft-2013b_CLASSIC_AT.pkl\n",
      "../results/linearprobe_50epochs_paper_final2/robust_convnext_tiny_fgvc-aircraft-2013b_CLASSIC_AT.pkl\n",
      "../results/linearprobe_50epochs_paper_final2/robust_deit_small_patch16_224_fgvc-aircraft-2013b_CLASSIC_AT.pkl\n",
      "../results/linearprobe_50epochs_paper_final2/vit_small_patch16_224.augreg_in1k_fgvc-aircraft-2013b_CLASSIC_AT.pkl\n",
      "../results/linearprobe_50epochs_paper_final2/convnext_tiny.fb_in22k_fgvc-aircraft-2013b_CLASSIC_AT.pkl\n",
      "../results/linearprobe_50epochs_paper_final2/vit_base_patch16_clip_224.laion2b_ft_in1k_fgvc-aircraft-2013b_CLASSIC_AT.pkl\n",
      "../results/linearprobe_50epochs_paper_final2/vit_base_patch16_224.augreg_in21k_ft_in1k_fgvc-aircraft-2013b_CLASSIC_AT.pkl\n",
      "../results/linearprobe_50epochs_paper_final2/vit_small_patch16_224.augreg_in21k_ft_in1k_fgvc-aircraft-2013b_CLASSIC_AT.pkl\n",
      "../results/linearprobe_50epochs_paper_final2/eva02_base_patch14_224.mim_in22k_fgvc-aircraft-2013b_CLASSIC_AT.pkl\n",
      "../results/linearprobe_50epochs_paper_final2/eva02_tiny_patch14_224.mim_in22k_fgvc-aircraft-2013b_CLASSIC_AT.pkl\n",
      "../results/linearprobe_50epochs_paper_final2/swin_base_patch4_window7_224.ms_in22k_ft_in1k_fgvc-aircraft-2013b_CLASSIC_AT.pkl\n",
      "../results/linearprobe_50epochs_paper_final2/swin_tiny_patch4_window7_224.ms_in1k_fgvc-aircraft-2013b_CLASSIC_AT.pkl\n",
      "../results/linearprobe_50epochs_paper_final2/convnext_base.clip_laion2b_augreg_ft_in12k_in1k_fgvc-aircraft-2013b_CLASSIC_AT.pkl\n",
      "../results/linearprobe_50epochs_paper_final2/convnext_base.fb_in22k_ft_in1k_fgvc-aircraft-2013b_CLASSIC_AT.pkl\n",
      "../results/linearprobe_50epochs_paper_final2/convnext_tiny.fb_in22k_ft_in1k_fgvc-aircraft-2013b_CLASSIC_AT.pkl\n",
      "../results/linearprobe_50epochs_paper_final2/coatnet_0_rw_224.sw_in1k_fgvc-aircraft-2013b_CLASSIC_AT.pkl\n",
      "../results/linearprobe_50epochs_paper_final2/coatnet_2_rw_224.sw_in12k_ft_in1k_fgvc-aircraft-2013b_CLASSIC_AT.pkl\n",
      "../results/linearprobe_50epochs_paper_final2/coatnet_2_rw_224.sw_in12k_fgvc-aircraft-2013b_CLASSIC_AT.pkl\n",
      "../results/linearprobe_50epochs_paper_final2/regnetx_004.pycls_in1k_fgvc-aircraft-2013b_CLASSIC_AT.pkl\n",
      "HEY\n",
      "../results/linearprobe_50epochs_edge_paper_final2/regnetx_004.pycls_in1k_fgvc-aircraft-2013b_CLASSIC_AT.pkl\n",
      "../results/linearprobe_50epochs_paper_final2/efficientnet-b0_fgvc-aircraft-2013b_CLASSIC_AT.pkl\n",
      "HEY\n",
      "../results/linearprobe_50epochs_edge_paper_final2/efficientnet-b0_fgvc-aircraft-2013b_CLASSIC_AT.pkl\n",
      "../results/linearprobe_50epochs_paper_final2/deit_tiny_patch16_224.fb_in1k_fgvc-aircraft-2013b_CLASSIC_AT.pkl\n",
      "HEY\n",
      "../results/linearprobe_50epochs_edge_paper_final2/deit_tiny_patch16_224.fb_in1k_fgvc-aircraft-2013b_CLASSIC_AT.pkl\n",
      "../results/linearprobe_50epochs_paper_final2/mobilevit-small_fgvc-aircraft-2013b_CLASSIC_AT.pkl\n",
      "HEY\n",
      "../results/linearprobe_50epochs_edge_paper_final2/mobilevit-small_fgvc-aircraft-2013b_CLASSIC_AT.pkl\n",
      "../results/linearprobe_50epochs_paper_final2/mobilenetv3_large_100.ra_in1k_fgvc-aircraft-2013b_CLASSIC_AT.pkl\n",
      "HEY\n",
      "../results/linearprobe_50epochs_edge_paper_final2/mobilenetv3_large_100.ra_in1k_fgvc-aircraft-2013b_CLASSIC_AT.pkl\n",
      "../results/linearprobe_50epochs_paper_final2/edgenext_small.usi_in1k_fgvc-aircraft-2013b_CLASSIC_AT.pkl\n",
      "HEY\n",
      "../results/linearprobe_50epochs_edge_paper_final2/edgenext_small.usi_in1k_fgvc-aircraft-2013b_CLASSIC_AT.pkl\n",
      "../results/linearprobe_50epochs_paper_final2/coat_tiny.in1k_fgvc-aircraft-2013b_CLASSIC_AT.pkl\n",
      "HEY\n",
      "../results/linearprobe_50epochs_edge_paper_final2/coat_tiny.in1k_fgvc-aircraft-2013b_CLASSIC_AT.pkl\n",
      "../results/linearprobe_50epochs_paper_final2/CLIP-convnext_base_w-laion_aesthetic-s13B-b82K_flowers-102_CLASSIC_AT.pkl\n",
      "../results/linearprobe_50epochs_paper_final2/CLIP-convnext_base_w-laion2B-s13B-b82K_flowers-102_CLASSIC_AT.pkl\n",
      "../results/linearprobe_50epochs_paper_final2/deit_small_patch16_224.fb_in1k_flowers-102_CLASSIC_AT.pkl\n",
      "../results/linearprobe_50epochs_paper_final2/robust_resnet50_flowers-102_CLASSIC_AT.pkl\n",
      "../results/linearprobe_50epochs_paper_final2/vit_small_patch16_224.augreg_in21k_flowers-102_CLASSIC_AT.pkl\n",
      "../results/linearprobe_50epochs_paper_final2/convnext_base.fb_in1k_flowers-102_CLASSIC_AT.pkl\n",
      "../results/linearprobe_50epochs_paper_final2/resnet50.a1_in1k_flowers-102_CLASSIC_AT.pkl\n",
      "../results/linearprobe_50epochs_paper_final2/robust_vit_base_patch16_224_flowers-102_CLASSIC_AT.pkl\n",
      "../results/linearprobe_50epochs_paper_final2/vit_base_patch16_224.mae_flowers-102_CLASSIC_AT.pkl\n",
      "../results/linearprobe_50epochs_paper_final2/vit_small_patch16_224.dino_flowers-102_CLASSIC_AT.pkl\n",
      "../results/linearprobe_50epochs_paper_final2/convnext_base.fb_in22k_flowers-102_CLASSIC_AT.pkl\n",
      "../results/linearprobe_50epochs_paper_final2/robust_convnext_base_flowers-102_CLASSIC_AT.pkl\n",
      "../results/linearprobe_50epochs_paper_final2/vit_base_patch16_224.augreg_in1k_flowers-102_CLASSIC_AT.pkl\n",
      "../results/linearprobe_50epochs_paper_final2/vit_base_patch16_224.augreg_in21k_flowers-102_CLASSIC_AT.pkl\n",
      "../results/linearprobe_50epochs_paper_final2/vit_base_patch16_clip_224.laion2b_flowers-102_CLASSIC_AT.pkl\n",
      "../results/linearprobe_50epochs_paper_final2/convnext_tiny.fb_in1k_flowers-102_CLASSIC_AT.pkl\n",
      "../results/linearprobe_50epochs_paper_final2/robust_convnext_tiny_flowers-102_CLASSIC_AT.pkl\n",
      "../results/linearprobe_50epochs_paper_final2/robust_deit_small_patch16_224_flowers-102_CLASSIC_AT.pkl\n",
      "../results/linearprobe_50epochs_paper_final2/vit_small_patch16_224.augreg_in1k_flowers-102_CLASSIC_AT.pkl\n",
      "../results/linearprobe_50epochs_paper_final2/convnext_tiny.fb_in22k_flowers-102_CLASSIC_AT.pkl\n",
      "../results/linearprobe_50epochs_paper_final2/vit_base_patch16_clip_224.laion2b_ft_in1k_flowers-102_CLASSIC_AT.pkl\n",
      "../results/linearprobe_50epochs_paper_final2/vit_base_patch16_224.augreg_in21k_ft_in1k_flowers-102_CLASSIC_AT.pkl\n",
      "../results/linearprobe_50epochs_paper_final2/vit_small_patch16_224.augreg_in21k_ft_in1k_flowers-102_CLASSIC_AT.pkl\n",
      "../results/linearprobe_50epochs_paper_final2/eva02_base_patch14_224.mim_in22k_flowers-102_CLASSIC_AT.pkl\n",
      "../results/linearprobe_50epochs_paper_final2/eva02_tiny_patch14_224.mim_in22k_flowers-102_CLASSIC_AT.pkl\n",
      "../results/linearprobe_50epochs_paper_final2/swin_base_patch4_window7_224.ms_in22k_ft_in1k_flowers-102_CLASSIC_AT.pkl\n",
      "../results/linearprobe_50epochs_paper_final2/swin_tiny_patch4_window7_224.ms_in1k_flowers-102_CLASSIC_AT.pkl\n",
      "../results/linearprobe_50epochs_paper_final2/convnext_base.clip_laion2b_augreg_ft_in12k_in1k_flowers-102_CLASSIC_AT.pkl\n",
      "../results/linearprobe_50epochs_paper_final2/convnext_base.fb_in22k_ft_in1k_flowers-102_CLASSIC_AT.pkl\n",
      "../results/linearprobe_50epochs_paper_final2/convnext_tiny.fb_in22k_ft_in1k_flowers-102_CLASSIC_AT.pkl\n",
      "../results/linearprobe_50epochs_paper_final2/coatnet_0_rw_224.sw_in1k_flowers-102_CLASSIC_AT.pkl\n",
      "../results/linearprobe_50epochs_paper_final2/coatnet_2_rw_224.sw_in12k_ft_in1k_flowers-102_CLASSIC_AT.pkl\n",
      "../results/linearprobe_50epochs_paper_final2/coatnet_2_rw_224.sw_in12k_flowers-102_CLASSIC_AT.pkl\n",
      "../results/linearprobe_50epochs_paper_final2/regnetx_004.pycls_in1k_flowers-102_CLASSIC_AT.pkl\n",
      "HEY\n",
      "../results/linearprobe_50epochs_edge_paper_final2/regnetx_004.pycls_in1k_flowers-102_CLASSIC_AT.pkl\n",
      "../results/linearprobe_50epochs_paper_final2/efficientnet-b0_flowers-102_CLASSIC_AT.pkl\n",
      "HEY\n",
      "../results/linearprobe_50epochs_edge_paper_final2/efficientnet-b0_flowers-102_CLASSIC_AT.pkl\n",
      "../results/linearprobe_50epochs_paper_final2/deit_tiny_patch16_224.fb_in1k_flowers-102_CLASSIC_AT.pkl\n",
      "HEY\n",
      "../results/linearprobe_50epochs_edge_paper_final2/deit_tiny_patch16_224.fb_in1k_flowers-102_CLASSIC_AT.pkl\n",
      "../results/linearprobe_50epochs_paper_final2/mobilevit-small_flowers-102_CLASSIC_AT.pkl\n",
      "HEY\n",
      "../results/linearprobe_50epochs_edge_paper_final2/mobilevit-small_flowers-102_CLASSIC_AT.pkl\n",
      "../results/linearprobe_50epochs_paper_final2/mobilenetv3_large_100.ra_in1k_flowers-102_CLASSIC_AT.pkl\n",
      "HEY\n",
      "../results/linearprobe_50epochs_edge_paper_final2/mobilenetv3_large_100.ra_in1k_flowers-102_CLASSIC_AT.pkl\n",
      "../results/linearprobe_50epochs_paper_final2/edgenext_small.usi_in1k_flowers-102_CLASSIC_AT.pkl\n",
      "HEY\n",
      "../results/linearprobe_50epochs_edge_paper_final2/edgenext_small.usi_in1k_flowers-102_CLASSIC_AT.pkl\n",
      "../results/linearprobe_50epochs_paper_final2/coat_tiny.in1k_flowers-102_CLASSIC_AT.pkl\n",
      "HEY\n",
      "../results/linearprobe_50epochs_edge_paper_final2/coat_tiny.in1k_flowers-102_CLASSIC_AT.pkl\n",
      "../results/linearprobe_50epochs_paper_final2/CLIP-convnext_base_w-laion_aesthetic-s13B-b82K_oxford-iiit-pet_CLASSIC_AT.pkl\n",
      "../results/linearprobe_50epochs_paper_final2/CLIP-convnext_base_w-laion2B-s13B-b82K_oxford-iiit-pet_CLASSIC_AT.pkl\n",
      "../results/linearprobe_50epochs_paper_final2/deit_small_patch16_224.fb_in1k_oxford-iiit-pet_CLASSIC_AT.pkl\n",
      "../results/linearprobe_50epochs_paper_final2/robust_resnet50_oxford-iiit-pet_CLASSIC_AT.pkl\n",
      "../results/linearprobe_50epochs_paper_final2/vit_small_patch16_224.augreg_in21k_oxford-iiit-pet_CLASSIC_AT.pkl\n",
      "../results/linearprobe_50epochs_paper_final2/convnext_base.fb_in1k_oxford-iiit-pet_CLASSIC_AT.pkl\n",
      "../results/linearprobe_50epochs_paper_final2/resnet50.a1_in1k_oxford-iiit-pet_CLASSIC_AT.pkl\n",
      "../results/linearprobe_50epochs_paper_final2/robust_vit_base_patch16_224_oxford-iiit-pet_CLASSIC_AT.pkl\n",
      "../results/linearprobe_50epochs_paper_final2/vit_base_patch16_224.mae_oxford-iiit-pet_CLASSIC_AT.pkl\n",
      "../results/linearprobe_50epochs_paper_final2/vit_small_patch16_224.dino_oxford-iiit-pet_CLASSIC_AT.pkl\n",
      "../results/linearprobe_50epochs_paper_final2/convnext_base.fb_in22k_oxford-iiit-pet_CLASSIC_AT.pkl\n",
      "../results/linearprobe_50epochs_paper_final2/robust_convnext_base_oxford-iiit-pet_CLASSIC_AT.pkl\n",
      "../results/linearprobe_50epochs_paper_final2/vit_base_patch16_224.augreg_in1k_oxford-iiit-pet_CLASSIC_AT.pkl\n",
      "../results/linearprobe_50epochs_paper_final2/vit_base_patch16_224.augreg_in21k_oxford-iiit-pet_CLASSIC_AT.pkl\n",
      "../results/linearprobe_50epochs_paper_final2/vit_base_patch16_clip_224.laion2b_oxford-iiit-pet_CLASSIC_AT.pkl\n",
      "../results/linearprobe_50epochs_paper_final2/convnext_tiny.fb_in1k_oxford-iiit-pet_CLASSIC_AT.pkl\n",
      "../results/linearprobe_50epochs_paper_final2/robust_convnext_tiny_oxford-iiit-pet_CLASSIC_AT.pkl\n",
      "../results/linearprobe_50epochs_paper_final2/robust_deit_small_patch16_224_oxford-iiit-pet_CLASSIC_AT.pkl\n",
      "../results/linearprobe_50epochs_paper_final2/vit_small_patch16_224.augreg_in1k_oxford-iiit-pet_CLASSIC_AT.pkl\n",
      "../results/linearprobe_50epochs_paper_final2/convnext_tiny.fb_in22k_oxford-iiit-pet_CLASSIC_AT.pkl\n",
      "../results/linearprobe_50epochs_paper_final2/vit_base_patch16_clip_224.laion2b_ft_in1k_oxford-iiit-pet_CLASSIC_AT.pkl\n",
      "../results/linearprobe_50epochs_paper_final2/vit_base_patch16_224.augreg_in21k_ft_in1k_oxford-iiit-pet_CLASSIC_AT.pkl\n",
      "../results/linearprobe_50epochs_paper_final2/vit_small_patch16_224.augreg_in21k_ft_in1k_oxford-iiit-pet_CLASSIC_AT.pkl\n",
      "../results/linearprobe_50epochs_paper_final2/eva02_base_patch14_224.mim_in22k_oxford-iiit-pet_CLASSIC_AT.pkl\n",
      "../results/linearprobe_50epochs_paper_final2/eva02_tiny_patch14_224.mim_in22k_oxford-iiit-pet_CLASSIC_AT.pkl\n",
      "../results/linearprobe_50epochs_paper_final2/swin_base_patch4_window7_224.ms_in22k_ft_in1k_oxford-iiit-pet_CLASSIC_AT.pkl\n",
      "../results/linearprobe_50epochs_paper_final2/swin_tiny_patch4_window7_224.ms_in1k_oxford-iiit-pet_CLASSIC_AT.pkl\n",
      "../results/linearprobe_50epochs_paper_final2/convnext_base.clip_laion2b_augreg_ft_in12k_in1k_oxford-iiit-pet_CLASSIC_AT.pkl\n",
      "../results/linearprobe_50epochs_paper_final2/convnext_base.fb_in22k_ft_in1k_oxford-iiit-pet_CLASSIC_AT.pkl\n",
      "../results/linearprobe_50epochs_paper_final2/convnext_tiny.fb_in22k_ft_in1k_oxford-iiit-pet_CLASSIC_AT.pkl\n",
      "../results/linearprobe_50epochs_paper_final2/coatnet_0_rw_224.sw_in1k_oxford-iiit-pet_CLASSIC_AT.pkl\n",
      "../results/linearprobe_50epochs_paper_final2/coatnet_2_rw_224.sw_in12k_ft_in1k_oxford-iiit-pet_CLASSIC_AT.pkl\n",
      "../results/linearprobe_50epochs_paper_final2/coatnet_2_rw_224.sw_in12k_oxford-iiit-pet_CLASSIC_AT.pkl\n",
      "../results/linearprobe_50epochs_paper_final2/regnetx_004.pycls_in1k_oxford-iiit-pet_CLASSIC_AT.pkl\n",
      "HEY\n",
      "../results/linearprobe_50epochs_edge_paper_final2/regnetx_004.pycls_in1k_oxford-iiit-pet_CLASSIC_AT.pkl\n",
      "../results/linearprobe_50epochs_paper_final2/efficientnet-b0_oxford-iiit-pet_CLASSIC_AT.pkl\n",
      "HEY\n",
      "../results/linearprobe_50epochs_edge_paper_final2/efficientnet-b0_oxford-iiit-pet_CLASSIC_AT.pkl\n",
      "../results/linearprobe_50epochs_paper_final2/deit_tiny_patch16_224.fb_in1k_oxford-iiit-pet_CLASSIC_AT.pkl\n",
      "HEY\n",
      "../results/linearprobe_50epochs_edge_paper_final2/deit_tiny_patch16_224.fb_in1k_oxford-iiit-pet_CLASSIC_AT.pkl\n",
      "../results/linearprobe_50epochs_paper_final2/mobilevit-small_oxford-iiit-pet_CLASSIC_AT.pkl\n",
      "HEY\n",
      "../results/linearprobe_50epochs_edge_paper_final2/mobilevit-small_oxford-iiit-pet_CLASSIC_AT.pkl\n",
      "../results/linearprobe_50epochs_paper_final2/mobilenetv3_large_100.ra_in1k_oxford-iiit-pet_CLASSIC_AT.pkl\n",
      "HEY\n",
      "../results/linearprobe_50epochs_edge_paper_final2/mobilenetv3_large_100.ra_in1k_oxford-iiit-pet_CLASSIC_AT.pkl\n",
      "../results/linearprobe_50epochs_paper_final2/edgenext_small.usi_in1k_oxford-iiit-pet_CLASSIC_AT.pkl\n",
      "HEY\n",
      "../results/linearprobe_50epochs_edge_paper_final2/edgenext_small.usi_in1k_oxford-iiit-pet_CLASSIC_AT.pkl\n",
      "../results/linearprobe_50epochs_paper_final2/coat_tiny.in1k_oxford-iiit-pet_CLASSIC_AT.pkl\n",
      "HEY\n",
      "../results/linearprobe_50epochs_edge_paper_final2/coat_tiny.in1k_oxford-iiit-pet_CLASSIC_AT.pkl\n"
     ]
    }
   ],
   "source": [
    "from load_results import load_result_dataset\n",
    "import pandas as pd\n",
    "\n",
    "pn1 = 'full_fine_tuning_50epochs_edge_paper_final2'\n",
    "pn2 = 'full_fine_tuning_50epochs_paper_final2'\n",
    "final_data1 = load_result_dataset(pn1, pn2)\n",
    "final_data1 = [{**d, 'ft_strategy': 'FFT (50 epochs)'} for d in final_data1]\n",
    "df1 = pd.DataFrame(final_data1)\n",
    "\n",
    "pn1 = 'full_fine_tuning_5epochs_edge_article1'\n",
    "pn2 = 'full_fine_tuning_5epochs_article1'\n",
    "final_data2 = load_result_dataset(pn1, pn2)\n",
    "final_data2 = [{**d, 'ft_strategy': 'FFT (5 epochs)'} for d in final_data2]\n",
    "df2 = pd.DataFrame(final_data2)\n",
    "\n",
    "pn1 = 'linearprobe_50epochs_edge_paper_final2'\n",
    "pn2 = 'linearprobe_50epochs_paper_final2'\n",
    "final_data3 = load_result_dataset(pn1, pn2)\n",
    "final_data3 = [{**d, 'ft_strategy': 'LP (50 epochs)'} for d in final_data3]\n",
    "df3 = pd.DataFrame(final_data3)\n",
    "\n",
    "df = pd.concat([ df1, df2, df3 ], axis=0, ignore_index=True) \n",
    "\n",
    "final_data = []\n",
    "final_data.extend(final_data1)\n",
    "final_data.extend(final_data2)\n",
    "final_data.extend(final_data3)"
   ]
  },
  {
   "cell_type": "code",
   "execution_count": 10,
   "metadata": {},
   "outputs": [
    {
     "name": "stdout",
     "output_type": "stream",
     "text": [
      "Percentage of NaN values, for small architecture: 0.1400560224089636\n",
      "Percentage of NaN values, for medium architecture: 0.0\n",
      "Percentage of NaN values, for large architecture: 0.09077705156136529\n"
     ]
    }
   ],
   "source": [
    "df = pd.DataFrame(final_data)\n",
    "for arch_size in ('small', 'medium', 'large'):\n",
    "    df_curr = df[ df.model_size == arch_size ]\n",
    "    nan_percentage = (df_curr.isna().sum().sum() / df_curr.size) * 100\n",
    "    print(\"Percentage of NaN values, for {} architecture: {}\".format(arch_size, nan_percentage) )"
   ]
  },
  {
   "cell_type": "code",
   "execution_count": 11,
   "metadata": {},
   "outputs": [],
   "source": [
    "metrics = [ 'clean_acc', 'Linf_acc', 'L2_acc', 'L1_acc', 'common_acc' ]\n",
    "\n",
    "for metric in metrics:\n",
    "    df[f'{metric}_borda_rank'] = df[metric].rank(ascending=False, method='min')\n",
    "\n",
    "# Now sum the borda ranks\n",
    "borda_rank_cols = [f'{metric}_borda_rank' for metric in metrics]\n",
    "df['total_borda_rank'] = df[borda_rank_cols].sum(axis=1)\n",
    "\n",
    "# min_rank = df['total_borda_rank'].min()\n",
    "# max_rank = df['total_borda_rank'].max()\n",
    "\n",
    "# df['normalized_total_borda_rank'] = (df['total_borda_rank'] - min_rank) / (max_rank - min_rank)"
   ]
  },
  {
   "cell_type": "code",
   "execution_count": 12,
   "metadata": {},
   "outputs": [],
   "source": [
    "import pandas as pd\n",
    "from sklearn.preprocessing import StandardScaler, MinMaxScaler\n",
    "\n",
    "scaler = MinMaxScaler()\n",
    "df['volume_pre_training_data_scaled'] = scaler.fit_transform(df[['volume_pre_training_data']])\n",
    "\n",
    "# Features that define a unique configuration\n",
    "group_cols = [\n",
    "    'ft_strategy',\n",
    "    'model_type',\n",
    "    'model_size',\n",
    "    'loss_function',\n",
    "    'pre_training_dataset',\n",
    "    'volume_pre_training_data_scaled',\n",
    "    'pre_training_strategy' ]\n",
    "\n",
    "# Metrics to sum over datasets\n",
    "metrics_cols = ['sum', 'geom', 'total_borda_rank']\n",
    "\n",
    "# Group by configuration and sum the metrics\n",
    "grouped_df = df.groupby(group_cols, as_index=False)[metrics_cols].sum()"
   ]
  },
  {
   "cell_type": "code",
   "execution_count": 16,
   "metadata": {},
   "outputs": [],
   "source": [
    "df.to_csv(\"global_results.csv\")"
   ]
  },
  {
   "cell_type": "code",
   "execution_count": 17,
   "metadata": {},
   "outputs": [
    {
     "data": {
      "image/png": "[encoded data removed]",
      "text/plain": [
       "<Figure size 500x500 with 2 Axes>"
      ]
     },
     "metadata": {
      "needs_background": "light"
     },
     "output_type": "display_data"
    }
   ],
   "source": [
    "import scipy.stats as stats\n",
    "import numpy as np\n",
    "import seaborn as sns\n",
    "import matplotlib.pyplot as plt\n",
    "\n",
    "\n",
    "fft_50_df = df[df[\"ft_strategy\"] == \"FFT (50 epochs)\"]\n",
    "\n",
    "# Select only the relevant accuracy columns\n",
    "metrics = [\"L1_acc\", \"L2_acc\", \"Linf_acc\", \"common_acc\", \"clean_acc\"]\n",
    "fft_50_metrics = fft_50_df[metrics]\n",
    "\n",
    "# Drop rows with any missing values in selected metrics\n",
    "fft_50_metrics_clean = fft_50_metrics.dropna()\n",
    "\n",
    "# Compute correlation matrix\n",
    "correlation_matrix = fft_50_metrics_clean.corr(method='spearman')\n",
    "\n",
    "metrics = [ \"L1_acc\", \"L2_acc\", \"Linf_acc\", \"common_acc\", \"clean_acc\" ]\n",
    "\n",
    "# Compute Spearman rank correlations and corresponding p-values\n",
    "corr_matrix = np.zeros((len(metrics), len(metrics)))\n",
    "pval_matrix = np.zeros((len(metrics), len(metrics)))\n",
    "\n",
    "for i, m1 in enumerate(metrics):\n",
    "    for j, m2 in enumerate(metrics):\n",
    "        corr, pval = stats.spearmanr(fft_50_metrics_clean[m1], fft_50_metrics_clean[m2])\n",
    "        corr_matrix[i, j] = corr\n",
    "        pval_matrix[i, j] = pval\n",
    "\n",
    "# Create annotations with correlation and p-value\n",
    "annotations = np.empty_like(corr_matrix, dtype=object)\n",
    "for i in range(len(metrics)):\n",
    "    for j in range(len(metrics)):\n",
    "        annotations[i, j] = f\"{corr_matrix[i, j]:.2f}\\n(p={pval_matrix[i, j]:.2g})\"\n",
    "\n",
    "# Create annotations with correlation and asterisk significance levels\n",
    "def pval_to_stars(p):\n",
    "    if p < 0.001:\n",
    "        return '***'\n",
    "    elif p < 0.01:\n",
    "        return '**'\n",
    "    elif p < 0.05:\n",
    "        return '*'\n",
    "    else:\n",
    "        return ''\n",
    "\n",
    "annotations_stars = np.empty_like(corr_matrix, dtype=object)\n",
    "for i in range(len(metrics)):\n",
    "    for j in range(len(metrics)):\n",
    "        stars = pval_to_stars(pval_matrix[i, j])\n",
    "        annotations_stars[i, j] = f\"{corr_matrix[i, j]:.2f}\\n{stars}\"\n",
    "\n",
    "# Plot 500x500 version with significance stars\n",
    "custom_labels = [r\"T(1)\", r\"T(2)\", r\"T(∞)\", r\"T(∅)\", r\"T(common)\"]\n",
    "\n",
    "# Plot 500x500 version with custom axis labels\n",
    "plt.figure(figsize=(5, 5), dpi=100)\n",
    "\n",
    "sns.heatmap(\n",
    "    corr_matrix,\n",
    "    annot=annotations_stars,\n",
    "    fmt='',\n",
    "    xticklabels=custom_labels,\n",
    "    yticklabels=custom_labels,\n",
    "    cmap='Reds',\n",
    "    vmin=0.5,\n",
    "    vmax=1.0,\n",
    "    cbar_kws={'label': 'Spearman Correlation'}\n",
    ")\n",
    "\n",
    "plt.tight_layout(pad=0)\n",
    "\n",
    "output_path_final = \"./paper_figures/fft50_spearman_heatmap_red_500px_stars_custom_labels.png\"\n",
    "plt.savefig(output_path_final, bbox_inches='tight', dpi=100)\n",
    "plt.show()\n"
   ]
  },
  {
   "cell_type": "code",
   "execution_count": 19,
   "metadata": {},
   "outputs": [
    {
     "name": "stderr",
     "output_type": "stream",
     "text": [
      "/var/folders/v7/3s0lms795672_f7_mh2x6bcr0000gn/T/ipykernel_49293/1850516015.py:63: FutureWarning:\n",
      "\n",
      "In future versions `DataFrame.to_latex` is expected to utilise the base implementation of `Styler.to_latex` for formatting and rendering. The arguments signature may therefore change. It is recommended instead to use `DataFrame.style.to_latex` which also contains additional functionality.\n",
      "\n",
      "/var/folders/v7/3s0lms795672_f7_mh2x6bcr0000gn/T/ipykernel_49293/1850516015.py:76: FutureWarning:\n",
      "\n",
      "In future versions `DataFrame.to_latex` is expected to utilise the base implementation of `Styler.to_latex` for formatting and rendering. The arguments signature may therefore change. It is recommended instead to use `DataFrame.style.to_latex` which also contains additional functionality.\n",
      "\n"
     ]
    }
   ],
   "source": [
    "# Recompute correlation matrices using Spearman correlation\n",
    "\n",
    "import numpy as np\n",
    "import pandas as pd\n",
    "\n",
    "# Compute mean absolute correlation (excluding self-correlations)\n",
    "def mean_absolute_correlation(corr_matrix):\n",
    "    mask = ~np.eye(len(corr_matrix), dtype=bool)\n",
    "    return np.abs(corr_matrix.values[mask]).mean()\n",
    "\n",
    "# Compute off-diagonal Frobenius norm\n",
    "def offdiag_frobenius_norm(corr_matrix):\n",
    "    mat = corr_matrix.values\n",
    "    np.fill_diagonal(mat, 0)\n",
    "    return np.linalg.norm(mat)\n",
    "\n",
    "# Compute average pairwise R² (squared correlation, excluding diagonal)\n",
    "def avg_pairwise_r2(corr_matrix):\n",
    "    mask = ~np.eye(len(corr_matrix), dtype=bool)\n",
    "    return np.mean(np.square(corr_matrix.values[mask]))\n",
    "\n",
    "# Summarize correlation metrics across multiple groups\n",
    "def summarize_correlation_metrics(corr_matrices_dict):\n",
    "    summary = {\n",
    "        group: {\n",
    "            \"Mean Absolute Correlation\": mean_absolute_correlation(corr),\n",
    "            \"Off-diagonal Frobenius Norm\": offdiag_frobenius_norm(corr),\n",
    "            \"Average Pairwise R²\": avg_pairwise_r2(corr)\n",
    "        }\n",
    "        for group, corr in corr_matrices_dict.items()\n",
    "    }\n",
    "    return pd.DataFrame.from_dict(summary, orient='index')\n",
    "\n",
    "\n",
    "# Helper to compute correlation matrix with Spearman\n",
    "def compute_spearman_corr(data):\n",
    "    return data[['clean_acc', 'Linf_acc', 'L2_acc', 'L1_acc', 'common_acc']].corr(method='spearman')\n",
    "\n",
    "# Global Spearman correlation matrix\n",
    "global_spearman_corr = compute_spearman_corr(fft_50_df)\n",
    "\n",
    "# Grouped Spearman correlation matrices\n",
    "spearman_by_loss = {loss: compute_spearman_corr(sub_df) for loss, sub_df in fft_50_df.groupby(\"loss_function\")}\n",
    "spearman_by_size = {size: compute_spearman_corr(sub_df) for size, sub_df in fft_50_df.groupby(\"model_size\")}\n",
    "spearman_by_type = {mtype: compute_spearman_corr(sub_df) for mtype, sub_df in fft_50_df.groupby(\"model_type\")}\n",
    "\n",
    "# Compute summary metrics on Spearman correlations\n",
    "global_spearman_summary = pd.DataFrame({\n",
    "    \"Mean Absolute Correlation\": [mean_absolute_correlation(global_spearman_corr)],\n",
    "    \"Off-diagonal Frobenius Norm\": [offdiag_frobenius_norm(global_spearman_corr)],\n",
    "    \"Average Pairwise R²\": [avg_pairwise_r2(global_spearman_corr)]\n",
    "}, index=[\"Global (Spearman)\"])\n",
    "\n",
    "# Grouped summaries\n",
    "loss_spearman_summary = summarize_correlation_metrics(spearman_by_loss)\n",
    "size_spearman_summary = summarize_correlation_metrics(spearman_by_size)\n",
    "type_spearman_summary = summarize_correlation_metrics(spearman_by_type)\n",
    "\n",
    "# Concatenate and display\n",
    "all_spearman_summary = pd.concat([global_spearman_summary, loss_spearman_summary, size_spearman_summary, type_spearman_summary])\n",
    "all_spearman_summary = all_spearman_summary.round(3)\n",
    "# Convert the summary DataFrame to a LaTeX table\n",
    "latex_table = all_spearman_summary.to_latex(index=True, caption=\"Spearman Correlation Summary Across Threat Models\", label=\"tab:spearman_corr\", column_format=\"lccc\")\n",
    "\n",
    "# Rename columns for more compact LaTeX-friendly names\n",
    "# Reformat the LaTeX code generation to avoid invalid nesting and Overleaf issues\n",
    "\n",
    "# Rename columns for compact display\n",
    "compact_table = all_spearman_summary.rename(columns={\n",
    "    \"Mean Absolute Correlation\": \"Mean Abs. Corr.\",\n",
    "    \"Off-diagonal Frobenius Norm\": \"Off-diag. Frobenius Norm\",\n",
    "    \"Average Pairwise R²\": \"Avg. Pairwise R2\"\n",
    "})\n",
    "\n",
    "# Generate the core LaTeX table body (without outer table/resizebox)\n",
    "latex_core = compact_table.to_latex(index=True, escape=False, header=True)\n",
    "\n",
    "# Remove the \\begin{table} and \\end{table} parts and keep only tabular body\n",
    "latex_core_lines = latex_core.splitlines()\n",
    "tabular_start = next(i for i, line in enumerate(latex_core_lines) if line.startswith(r\"\\begin{tabular}\"))\n",
    "tabular_end = next(i for i, line in enumerate(latex_core_lines) if line.startswith(r\"\\end{tabular}\")) + 1\n",
    "tabular_content = \"\\n\".join(latex_core_lines[tabular_start:tabular_end])\n",
    "\n",
    "# Now wrap it correctly for Overleaf\n",
    "corrected_latex = f\"\"\"\n",
    "\\\\begin{{table}}[h!]\n",
    "\\\\centering\n",
    "\\\\caption{{Spearman Correlation Summary Across Threat Models}}\n",
    "\\\\label{{tab:spearman_corr}}\n",
    "\\\\resizebox{{0.33\\\\textwidth}}{{!}}{{%\n",
    "{tabular_content}\n",
    "}}\n",
    "\\\\end{{table}}\n",
    "\"\"\"\n",
    "\n",
    "file_path = f\"./latex_tables/correlation_matrix.tex\"\n",
    "with open(file_path, \"w\") as f:\n",
    "    f.write(corrected_latex)\n",
    "\n"
   ]
  },
  {
   "cell_type": "code",
   "execution_count": 22,
   "metadata": {},
   "outputs": [
    {
     "name": "stderr",
     "output_type": "stream",
     "text": [
      "/var/folders/v7/3s0lms795672_f7_mh2x6bcr0000gn/T/ipykernel_49293/2603086502.py:54: FutureWarning:\n",
      "\n",
      "In future versions `DataFrame.to_latex` is expected to utilise the base implementation of `Styler.to_latex` for formatting and rendering. The arguments signature may therefore change. It is recommended instead to use `DataFrame.style.to_latex` which also contains additional functionality.\n",
      "\n"
     ]
    }
   ],
   "source": [
    "import numpy as np\n",
    "import pandas as pd\n",
    "\n",
    "# Compute mean absolute correlation (excluding self-correlations)\n",
    "def mean_absolute_correlation(corr_matrix):\n",
    "    mask = ~np.eye(len(corr_matrix), dtype=bool)\n",
    "    return np.abs(corr_matrix.values[mask]).mean()\n",
    "\n",
    "# Summarize correlation metrics across multiple groups\n",
    "def summarize_correlation_metrics(corr_matrices_dict):\n",
    "    summary = {\n",
    "        group: {\n",
    "            \"Mean Absolute Correlation\": mean_absolute_correlation(corr)\n",
    "        }\n",
    "        for group, corr in corr_matrices_dict.items()\n",
    "    }\n",
    "    return pd.DataFrame.from_dict(summary, orient='index')\n",
    "\n",
    "# Helper to compute Spearman correlation matrix on threat model metrics\n",
    "def compute_spearman_corr(data):\n",
    "    return data[['clean_acc', 'Linf_acc', 'L2_acc', 'L1_acc', 'common_acc']].corr(method='spearman')\n",
    "\n",
    "# Global Spearman correlation matrix\n",
    "global_spearman_corr = compute_spearman_corr(fft_50_df)\n",
    "\n",
    "# Grouped Spearman correlation matrices\n",
    "spearman_by_loss  = {loss: compute_spearman_corr(sub_df) for loss, sub_df in fft_50_df.groupby(\"loss_function\")}\n",
    "spearman_by_size  = {size: compute_spearman_corr(sub_df) for size, sub_df in fft_50_df.groupby(\"model_size\")}\n",
    "spearman_by_type  = {typ:  compute_spearman_corr(sub_df) for typ,  sub_df in fft_50_df.groupby(\"model_type\")}\n",
    "spearman_by_pretr = {pt:   compute_spearman_corr(sub_df) for pt,   sub_df in fft_50_df.groupby(\"pre_training_strategy\")}\n",
    "\n",
    "# Global summary\n",
    "global_spearman_summary = pd.DataFrame({\n",
    "    \"Mean Absolute Correlation\": [mean_absolute_correlation(global_spearman_corr)]\n",
    "}, index=[\"Global (Spearman)\"])\n",
    "\n",
    "# Grouped summaries\n",
    "loss_spearman_summary  = summarize_correlation_metrics(spearman_by_loss)\n",
    "size_spearman_summary  = summarize_correlation_metrics(spearman_by_size)\n",
    "type_spearman_summary  = summarize_correlation_metrics(spearman_by_type)\n",
    "pretr_spearman_summary = summarize_correlation_metrics(spearman_by_pretr)\n",
    "\n",
    "# Combine all summaries\n",
    "all_spearman_summary = pd.concat([\n",
    "    global_spearman_summary,\n",
    "    loss_spearman_summary,\n",
    "    size_spearman_summary,\n",
    "    type_spearman_summary,\n",
    "    pretr_spearman_summary\n",
    "])\n",
    "all_spearman_summary = all_spearman_summary.round(3)\n",
    "\n",
    "# Generate LaTeX table core\n",
    "latex_core = all_spearman_summary.rename(columns={\n",
    "    \"Mean Absolute Correlation\": \"Mean Abs. Corr.\"\n",
    "}).to_latex(index=True, escape=False, header=True)\n",
    "\n",
    "# Extract only tabular environment for Overleaf-safe inclusion\n",
    "latex_core_lines = latex_core.splitlines()\n",
    "tabular_start = next(i for i, line in enumerate(latex_core_lines) if line.startswith(r\"\\begin{tabular}\"))\n",
    "tabular_end   = next(i for i, line in enumerate(latex_core_lines) if line.startswith(r\"\\end{tabular}\")) + 1\n",
    "tabular_content = \"\\n\".join(latex_core_lines[tabular_start:tabular_end])\n",
    "\n",
    "# Final LaTeX-wrapped output\n",
    "corrected_latex = f\"\"\"\n",
    "\\\\centering\n",
    "\\\\label{{tab:spearman_corr}}\n",
    "\\\\resizebox{{0.33\\\\textwidth}}{{!}}{{%\n",
    "{tabular_content}\n",
    "}}\n",
    "\"\"\"\n",
    "\n",
    "# Save to file\n",
    "file_path = f\"./latex_tables/correlation_matrix.tex\"\n",
    "with open(file_path, \"w\") as f:\n",
    "    f.write(corrected_latex)\n"
   ]
  },
  {
   "cell_type": "code",
   "execution_count": 8,
   "metadata": {},
   "outputs": [
    {
     "data": {
      "application/vnd.plotly.v1+json": {
       "config": {
        "plotlyServerURL": "https://plot.ly"
       },
       "data": [
        {
         "hovertemplate": "model_size=large<br>loss_function=CLASSIC_AT<br>FFT (5 epochs)=%{x}<br>FFT (50 epochs)=%{y}<extra></extra>",
         "legendgroup": "large, CLASSIC_AT",
         "marker": {
          "color": "#E69F00",
          "line": {
           "color": "DarkSlateGrey",
           "width": 0
          },
          "size": 8,
          "symbol": "star"
         },
         "mode": "markers",
         "name": "large, CLASSIC_AT",
         "orientation": "v",
         "showlegend": true,
         "type": "scatter",
         "x": [
          0.9480952380952381,
          1.0134285714285713,
          0.47950793650793655,
          0.930063492063492,
          0.47749206349206347,
          3.211460317460317,
          2.328603174603175,
          0.7804285714285714,
          1.9996666666666667,
          0.9485873015873016,
          1.4184761904761907,
          3.9211428571428564,
          2.7159523809523813,
          0.7851269841269841,
          2.326380952380952,
          1.5273809523809525,
          0.7363333333333333,
          2.5029682539682536
         ],
         "xaxis": "x",
         "y": [
          15.419238095238097,
          14.510619047619048,
          13.656476190476189,
          14.404333333333332,
          9.757952380952382,
          14.390857142857145,
          15.99288888888889,
          15.127682539682539,
          13.163380952380951,
          13.771698412698411,
          7.738222222222221,
          16.77236507936508,
          11.306857142857144,
          8.744079365079365,
          7.513095238095238,
          10.652857142857142,
          8.554015873015873,
          5.8201269841269845
         ],
         "yaxis": "y"
        },
        {
         "hovertemplate": "model_size=large<br>loss_function=TRADES_v2<br>FFT (5 epochs)=%{x}<br>FFT (50 epochs)=%{y}<extra></extra>",
         "legendgroup": "large, TRADES_v2",
         "marker": {
          "color": "#E69F00",
          "line": {
           "color": "DarkSlateGrey",
           "width": 0
          },
          "size": 8,
          "symbol": "diamond"
         },
         "mode": "markers",
         "name": "large, TRADES_v2",
         "orientation": "v",
         "showlegend": true,
         "type": "scatter",
         "x": [
          4.634952380952382,
          5.568825396825397,
          1.193,
          3.3203015873015875,
          1.9308095238095238,
          6.424079365079366,
          5.775333333333333,
          4.635571428571428,
          5.7492857142857146,
          3.354571428571429,
          2.857142857142857,
          7.26968253968254,
          4.174904761904761,
          0.8961428571428571,
          0.5341904761904762,
          0.6669047619047619,
          4.898714285714286,
          2.4023650793650795
         ],
         "xaxis": "x",
         "y": [
          19.396968253968254,
          18.235888888888887,
          18.87442857142857,
          18.743904761904762,
          14.625873015873015,
          16.42042857142857,
          19.789301587301587,
          17.01639682539683,
          17.59952380952381,
          16.63130158730159,
          9.284619047619048,
          18.05390476190476,
          12.497777777777777,
          9.20452380952381,
          7.76604761904762,
          10.922761904761904,
          12.831396825396824,
          15.24073015873016
         ],
         "yaxis": "y"
        },
        {
         "hovertemplate": "model_size=small<br>loss_function=CLASSIC_AT<br>FFT (5 epochs)=%{x}<br>FFT (50 epochs)=%{y}<extra></extra>",
         "legendgroup": "small, CLASSIC_AT",
         "marker": {
          "color": "#56B4E9",
          "line": {
           "color": "DarkSlateGrey",
           "width": 0
          },
          "size": 8,
          "symbol": "star"
         },
         "mode": "markers",
         "name": "small, CLASSIC_AT",
         "orientation": "v",
         "showlegend": true,
         "type": "scatter",
         "x": [
          0.45199999999999996,
          0.6436666666666666,
          1.370095238095238,
          0.5146666666666666,
          0.5825714285714285,
          1.2105714285714286,
          1.7192539682539683
         ],
         "xaxis": "x",
         "y": [
          6.036095238095239,
          7.61152380952381,
          12.877714285714285,
          3.9464285714285716,
          8.747539682539681,
          4.924285714285714,
          10.845761904761906
         ],
         "yaxis": "y"
        },
        {
         "hovertemplate": "model_size=small<br>loss_function=TRADES_v2<br>FFT (5 epochs)=%{x}<br>FFT (50 epochs)=%{y}<extra></extra>",
         "legendgroup": "small, TRADES_v2",
         "marker": {
          "color": "#56B4E9",
          "line": {
           "color": "DarkSlateGrey",
           "width": 0
          },
          "size": 8,
          "symbol": "diamond"
         },
         "mode": "markers",
         "name": "small, TRADES_v2",
         "orientation": "v",
         "showlegend": true,
         "type": "scatter",
         "x": [
          3.0890476190476193,
          2.646619047619047,
          3.861761904761905,
          0.5091428571428571,
          5.7153809523809525,
          0.8911587301587302,
          1.6425238095238097
         ],
         "xaxis": "x",
         "y": [
          15.018015873015873,
          11.266238095238098,
          14.662857142857144,
          3.465190476190476,
          8.869428571428571,
          5.632666666666666,
          9.000444444444444
         ],
         "yaxis": "y"
        },
        {
         "hovertemplate": "model_size=medium<br>loss_function=CLASSIC_AT<br>FFT (5 epochs)=%{x}<br>FFT (50 epochs)=%{y}<extra></extra>",
         "legendgroup": "medium, CLASSIC_AT",
         "marker": {
          "color": "#009E73",
          "line": {
           "color": "DarkSlateGrey",
           "width": 0
          },
          "size": 8,
          "symbol": "star"
         },
         "mode": "markers",
         "name": "medium, CLASSIC_AT",
         "orientation": "v",
         "showlegend": true,
         "type": "scatter",
         "x": [
          1.0336190476190477,
          0.9645238095238095,
          1.5594920634920635,
          4.6191587301587305,
          3.9095714285714283,
          1.448952380952381,
          1.5680952380952382,
          7.7293015873015865,
          3.8021904761904763,
          6.600285714285714,
          0.7648095238095236,
          1.659968253968254,
          1.4873809523809525,
          1.1019206349206352,
          1.0684126984126987
         ],
         "xaxis": "x",
         "y": [
          7.354095238095239,
          14.190666666666667,
          13.121666666666666,
          8.96915873015873,
          8.404936507936508,
          5.497158730158731,
          7.891190476190476,
          10.63004761904762,
          11.169269841269841,
          11.786952380952382,
          10.30595238095238,
          2.7429047619047617,
          6.476619047619048,
          6.104857142857144,
          6.640190476190476
         ],
         "yaxis": "y"
        },
        {
         "hovertemplate": "model_size=medium<br>loss_function=TRADES_v2<br>FFT (5 epochs)=%{x}<br>FFT (50 epochs)=%{y}<extra></extra>",
         "legendgroup": "medium, TRADES_v2",
         "marker": {
          "color": "#009E73",
          "line": {
           "color": "DarkSlateGrey",
           "width": 0
          },
          "size": 8,
          "symbol": "diamond"
         },
         "mode": "markers",
         "name": "medium, TRADES_v2",
         "orientation": "v",
         "showlegend": true,
         "type": "scatter",
         "x": [
          2.481,
          5.52152380952381,
          1.1317619047619047,
          0.9026190476190475,
          5.391761904761903,
          1.2602380952380952,
          3.2590000000000003,
          6.071904761904762,
          1.2424285714285714,
          4.334523809523809,
          5.6828095238095235,
          2.3343650793650794,
          2.750571428571429,
          0.9217301587301587,
          0.35160317460317464
         ],
         "xaxis": "x",
         "y": [
          13.198714285714287,
          15.604809523809525,
          15.066190476190478,
          16.489968253968254,
          6.858126984126985,
          8.368904761904762,
          8.874571428571429,
          14.712079365079365,
          13.210857142857144,
          9.827396825396825,
          9.993523809523811,
          9.144730158730159,
          8.256285714285713,
          8.685698412698413,
          5.332063492063492
         ],
         "yaxis": "y"
        },
        {
         "line": {
          "color": "black",
          "dash": "solid",
          "width": 2
         },
         "marker": {
          "line": {
           "color": "DarkSlateGrey",
           "width": 0
          },
          "size": 8
         },
         "mode": "lines",
         "name": "Global (r=0.42, p=0.000)",
         "type": "scatter",
         "x": [
          0.35160317460317464,
          0.4261253807920475,
          0.5006475869809204,
          0.5751697931697932,
          0.6496919993586661,
          0.7242142055475389,
          0.7987364117364117,
          0.8732586179252846,
          0.9477808241141574,
          1.0223030303030303,
          1.096825236491903,
          1.171347442680776,
          1.2458696488696488,
          1.3203918550585216,
          1.3949140612473945,
          1.4694362674362673,
          1.5439584736251402,
          1.618480679814013,
          1.6930028860028858,
          1.7675250921917587,
          1.8420472983806315,
          1.9165695045695044,
          1.9910917107583772,
          2.06561391694725,
          2.1401361231361227,
          2.2146583293249957,
          2.2891805355138684,
          2.363702741702741,
          2.438224947891614,
          2.512747154080487,
          2.5872693602693597,
          2.6617915664582323,
          2.7363137726471054,
          2.8108359788359785,
          2.885358185024851,
          2.9598803912137237,
          3.0344025974025968,
          3.10892480359147,
          3.1834470097803425,
          3.257969215969215,
          3.332491422158088,
          3.407013628346961,
          3.481535834535834,
          3.5560580407247064,
          3.6305802469135795,
          3.7051024531024526,
          3.779624659291325,
          3.854146865480198,
          3.928669071669071,
          4.003191277857944,
          4.077713484046817,
          4.152235690235689,
          4.226757896424562,
          4.301280102613435,
          4.3758023088023075,
          4.4503245149911805,
          4.524846721180054,
          4.599368927368927,
          4.6738911335578,
          4.748413339746672,
          4.822935545935545,
          4.897457752124418,
          4.97197995831329,
          5.046502164502163,
          5.121024370691036,
          5.195546576879909,
          5.2700687830687825,
          5.344590989257655,
          5.419113195446528,
          5.493635401635401,
          5.568157607824273,
          5.642679814013146,
          5.717202020202019,
          5.791724226390892,
          5.866246432579765,
          5.940768638768637,
          6.01529084495751,
          6.0898130511463835,
          6.164335257335256,
          6.238857463524129,
          6.313379669713002,
          6.387901875901875,
          6.462424082090748,
          6.53694628827962,
          6.611468494468493,
          6.685990700657366,
          6.760512906846238,
          6.8350351130351115,
          6.9095573192239845,
          6.984079525412858,
          7.058601731601731,
          7.133123937790603,
          7.207646143979476,
          7.282168350168349,
          7.356690556357221,
          7.431212762546094,
          7.505734968734967,
          7.58025717492384,
          7.654779381112713,
          7.7293015873015865
         ],
         "y": [
          9.415619503897389,
          9.481618368570858,
          9.547617233244328,
          9.613616097917799,
          9.679614962591268,
          9.745613827264737,
          9.811612691938208,
          9.877611556611678,
          9.943610421285147,
          10.009609285958616,
          10.075608150632087,
          10.141607015305556,
          10.207605879979026,
          10.273604744652495,
          10.339603609325966,
          10.405602473999435,
          10.471601338672905,
          10.537600203346376,
          10.603599068019845,
          10.669597932693314,
          10.735596797366783,
          10.801595662040254,
          10.867594526713724,
          10.933593391387193,
          10.999592256060662,
          11.065591120734133,
          11.131589985407603,
          11.197588850081072,
          11.263587714754543,
          11.329586579428012,
          11.395585444101481,
          11.46158430877495,
          11.527583173448422,
          11.593582038121891,
          11.65958090279536,
          11.72557976746883,
          11.7915786321423,
          11.85757749681577,
          11.92357636148924,
          11.98957522616271,
          12.05557409083618,
          12.121572955509649,
          12.18757182018312,
          12.253570684856587,
          12.319569549530058,
          12.38556841420353,
          12.451567278876997,
          12.517566143550468,
          12.583565008223937,
          12.649563872897406,
          12.715562737570878,
          12.781561602244347,
          12.847560466917816,
          12.913559331591287,
          12.979558196264755,
          13.045557060938226,
          13.111555925611697,
          13.177554790285164,
          13.243553654958635,
          13.309552519632105,
          13.375551384305574,
          13.441550248979045,
          13.507549113652514,
          13.573547978325983,
          13.639546842999454,
          13.705545707672924,
          13.771544572346393,
          13.837543437019864,
          13.903542301693331,
          13.969541166366803,
          14.035540031040272,
          14.101538895713741,
          14.167537760387212,
          14.233536625060681,
          14.29953548973415,
          14.365534354407622,
          14.431533219081091,
          14.49753208375456,
          14.563530948428031,
          14.629529813101499,
          14.69552867777497,
          14.761527542448441,
          14.82752640712191,
          14.89352527179538,
          14.959524136468849,
          15.025523001142318,
          15.091521865815789,
          15.157520730489258,
          15.223519595162728,
          15.289518459836199,
          15.355517324509668,
          15.421516189183137,
          15.487515053856608,
          15.553513918530077,
          15.619512783203547,
          15.685511647877016,
          15.751510512550485,
          15.817509377223956,
          15.883508241897427,
          15.949507106570895
         ]
        },
        {
         "line": {
          "color": "#E69F00",
          "dash": "solid"
         },
         "marker": {
          "line": {
           "color": "DarkSlateGrey",
           "width": 0
          },
          "size": 8
         },
         "mode": "lines",
         "name": "large – TRADES_v2 (r=0.55, p=0.018)",
         "type": "scatter",
         "x": [
          0.35160317460317464,
          0.4261253807920475,
          0.5006475869809204,
          0.5751697931697932,
          0.6496919993586661,
          0.7242142055475389,
          0.7987364117364117,
          0.8732586179252846,
          0.9477808241141574,
          1.0223030303030303,
          1.096825236491903,
          1.171347442680776,
          1.2458696488696488,
          1.3203918550585216,
          1.3949140612473945,
          1.4694362674362673,
          1.5439584736251402,
          1.618480679814013,
          1.6930028860028858,
          1.7675250921917587,
          1.8420472983806315,
          1.9165695045695044,
          1.9910917107583772,
          2.06561391694725,
          2.1401361231361227,
          2.2146583293249957,
          2.2891805355138684,
          2.363702741702741,
          2.438224947891614,
          2.512747154080487,
          2.5872693602693597,
          2.6617915664582323,
          2.7363137726471054,
          2.8108359788359785,
          2.885358185024851,
          2.9598803912137237,
          3.0344025974025968,
          3.10892480359147,
          3.1834470097803425,
          3.257969215969215,
          3.332491422158088,
          3.407013628346961,
          3.481535834535834,
          3.5560580407247064,
          3.6305802469135795,
          3.7051024531024526,
          3.779624659291325,
          3.854146865480198,
          3.928669071669071,
          4.003191277857944,
          4.077713484046817,
          4.152235690235689,
          4.226757896424562,
          4.301280102613435,
          4.3758023088023075,
          4.4503245149911805,
          4.524846721180054,
          4.599368927368927,
          4.6738911335578,
          4.748413339746672,
          4.822935545935545,
          4.897457752124418,
          4.97197995831329,
          5.046502164502163,
          5.121024370691036,
          5.195546576879909,
          5.2700687830687825,
          5.344590989257655,
          5.419113195446528,
          5.493635401635401,
          5.568157607824273,
          5.642679814013146,
          5.717202020202019,
          5.791724226390892,
          5.866246432579765,
          5.940768638768637,
          6.01529084495751,
          6.0898130511463835,
          6.164335257335256,
          6.238857463524129,
          6.313379669713002,
          6.387901875901875,
          6.462424082090748,
          6.53694628827962,
          6.611468494468493,
          6.685990700657366,
          6.760512906846238,
          6.8350351130351115,
          6.9095573192239845,
          6.984079525412858,
          7.058601731601731,
          7.133123937790603,
          7.207646143979476,
          7.282168350168349,
          7.356690556357221,
          7.431212762546094,
          7.505734968734967,
          7.58025717492384,
          7.654779381112713,
          7.7293015873015865
         ],
         "y": [
          11.459418490581475,
          11.542527111432095,
          11.625635732282717,
          11.708744353133337,
          11.791852973983957,
          11.874961594834577,
          11.958070215685197,
          12.041178836535817,
          12.124287457386439,
          12.207396078237059,
          12.290504699087679,
          12.373613319938299,
          12.456721940788919,
          12.53983056163954,
          12.62293918249016,
          12.70604780334078,
          12.7891564241914,
          12.87226504504202,
          12.95537366589264,
          13.038482286743262,
          13.121590907593882,
          13.204699528444502,
          13.287808149295122,
          13.370916770145744,
          13.454025390996364,
          13.537134011846984,
          13.620242632697604,
          13.703351253548224,
          13.786459874398844,
          13.869568495249464,
          13.952677116100086,
          14.035785736950706,
          14.118894357801326,
          14.202002978651945,
          14.285111599502567,
          14.368220220353187,
          14.451328841203807,
          14.534437462054427,
          14.617546082905047,
          14.700654703755667,
          14.783763324606287,
          14.866871945456909,
          14.949980566307529,
          15.033089187158149,
          15.11619780800877,
          15.19930642885939,
          15.28241504971001,
          15.36552367056063,
          15.44863229141125,
          15.53174091226187,
          15.61484953311249,
          15.69795815396311,
          15.781066774813732,
          15.864175395664352,
          15.947284016514972,
          16.030392637365594,
          16.113501258216214,
          16.196609879066834,
          16.279718499917454,
          16.362827120768074,
          16.445935741618694,
          16.529044362469314,
          16.612152983319934,
          16.695261604170554,
          16.778370225021177,
          16.861478845871797,
          16.944587466722417,
          17.027696087573037,
          17.110804708423657,
          17.193913329274277,
          17.277021950124897,
          17.360130570975517,
          17.443239191826137,
          17.52634781267676,
          17.609456433527377,
          17.692565054378,
          17.77567367522862,
          17.85878229607924,
          17.94189091692986,
          18.02499953778048,
          18.1081081586311,
          18.19121677948172,
          18.27432540033234,
          18.35743402118296,
          18.440542642033584,
          18.5236512628842,
          18.606759883734824,
          18.68986850458544,
          18.772977125436064,
          18.856085746286684,
          18.939194367137304,
          19.022302987987924,
          19.105411608838544,
          19.188520229689168,
          19.271628850539784,
          19.354737471390408,
          19.437846092241024,
          19.520954713091648,
          19.604063333942268,
          19.687171954792888
         ]
        },
        {
         "line": {
          "color": "#E69F00",
          "dash": "dot"
         },
         "marker": {
          "line": {
           "color": "DarkSlateGrey",
           "width": 0
          },
          "size": 8
         },
         "mode": "lines",
         "name": "large – CLASSIC_AT (r=0.11, p=0.669)",
         "type": "scatter",
         "x": [
          0.35160317460317464,
          0.4261253807920475,
          0.5006475869809204,
          0.5751697931697932,
          0.6496919993586661,
          0.7242142055475389,
          0.7987364117364117,
          0.8732586179252846,
          0.9477808241141574,
          1.0223030303030303,
          1.096825236491903,
          1.171347442680776,
          1.2458696488696488,
          1.3203918550585216,
          1.3949140612473945,
          1.4694362674362673,
          1.5439584736251402,
          1.618480679814013,
          1.6930028860028858,
          1.7675250921917587,
          1.8420472983806315,
          1.9165695045695044,
          1.9910917107583772,
          2.06561391694725,
          2.1401361231361227,
          2.2146583293249957,
          2.2891805355138684,
          2.363702741702741,
          2.438224947891614,
          2.512747154080487,
          2.5872693602693597,
          2.6617915664582323,
          2.7363137726471054,
          2.8108359788359785,
          2.885358185024851,
          2.9598803912137237,
          3.0344025974025968,
          3.10892480359147,
          3.1834470097803425,
          3.257969215969215,
          3.332491422158088,
          3.407013628346961,
          3.481535834535834,
          3.5560580407247064,
          3.6305802469135795,
          3.7051024531024526,
          3.779624659291325,
          3.854146865480198,
          3.928669071669071,
          4.003191277857944,
          4.077713484046817,
          4.152235690235689,
          4.226757896424562,
          4.301280102613435,
          4.3758023088023075,
          4.4503245149911805,
          4.524846721180054,
          4.599368927368927,
          4.6738911335578,
          4.748413339746672,
          4.822935545935545,
          4.897457752124418,
          4.97197995831329,
          5.046502164502163,
          5.121024370691036,
          5.195546576879909,
          5.2700687830687825,
          5.344590989257655,
          5.419113195446528,
          5.493635401635401,
          5.568157607824273,
          5.642679814013146,
          5.717202020202019,
          5.791724226390892,
          5.866246432579765,
          5.940768638768637,
          6.01529084495751,
          6.0898130511463835,
          6.164335257335256,
          6.238857463524129,
          6.313379669713002,
          6.387901875901875,
          6.462424082090748,
          6.53694628827962,
          6.611468494468493,
          6.685990700657366,
          6.760512906846238,
          6.8350351130351115,
          6.9095573192239845,
          6.984079525412858,
          7.058601731601731,
          7.133123937790603,
          7.207646143979476,
          7.282168350168349,
          7.356690556357221,
          7.431212762546094,
          7.505734968734967,
          7.58025717492384,
          7.654779381112713,
          7.7293015873015865
         ],
         "y": [
          11.582232374224196,
          11.611148088646619,
          11.64006380306904,
          11.668979517491463,
          11.697895231913884,
          11.726810946336307,
          11.755726660758729,
          11.784642375181152,
          11.813558089603573,
          11.842473804025996,
          11.871389518448417,
          11.90030523287084,
          11.929220947293262,
          11.958136661715685,
          11.987052376138106,
          12.015968090560529,
          12.04488380498295,
          12.073799519405373,
          12.102715233827794,
          12.131630948250217,
          12.16054666267264,
          12.189462377095062,
          12.218378091517485,
          12.247293805939906,
          12.276209520362329,
          12.30512523478475,
          12.334040949207173,
          12.362956663629594,
          12.391872378052017,
          12.420788092474439,
          12.449703806896862,
          12.478619521319283,
          12.507535235741706,
          12.536450950164127,
          12.56536666458655,
          12.594282379008972,
          12.623198093431395,
          12.652113807853816,
          12.681029522276239,
          12.709945236698662,
          12.738860951121083,
          12.767776665543506,
          12.796692379965927,
          12.82560809438835,
          12.854523808810772,
          12.883439523233195,
          12.912355237655616,
          12.941270952078039,
          12.97018666650046,
          12.999102380922883,
          13.028018095345304,
          13.056933809767727,
          13.085849524190149,
          13.114765238612572,
          13.143680953034993,
          13.172596667457416,
          13.201512381879837,
          13.23042809630226,
          13.259343810724683,
          13.288259525147105,
          13.317175239569528,
          13.346090953991949,
          13.375006668414372,
          13.403922382836793,
          13.432838097259216,
          13.461753811681637,
          13.49066952610406,
          13.519585240526482,
          13.548500954948905,
          13.577416669371326,
          13.606332383793749,
          13.63524809821617,
          13.664163812638593,
          13.693079527061016,
          13.721995241483437,
          13.750910955905859,
          13.779826670328282,
          13.808742384750705,
          13.837658099173126,
          13.866573813595547,
          13.89548952801797,
          13.924405242440393,
          13.953320956862814,
          13.982236671285238,
          14.011152385707659,
          14.040068100130082,
          14.068983814552503,
          14.097899528974926,
          14.126815243397347,
          14.15573095781977,
          14.184646672242192,
          14.213562386664615,
          14.242478101087038,
          14.271393815509459,
          14.30030952993188,
          14.329225244354303,
          14.358140958776726,
          14.387056673199147,
          14.41597238762157,
          14.444888102043992
         ]
        },
        {
         "line": {
          "color": "#56B4E9",
          "dash": "solid"
         },
         "marker": {
          "line": {
           "color": "DarkSlateGrey",
           "width": 0
          },
          "size": 8
         },
         "mode": "lines",
         "name": "small – TRADES_v2 (r=0.61, p=0.148)",
         "type": "scatter",
         "x": [
          0.35160317460317464,
          0.4261253807920475,
          0.5006475869809204,
          0.5751697931697932,
          0.6496919993586661,
          0.7242142055475389,
          0.7987364117364117,
          0.8732586179252846,
          0.9477808241141574,
          1.0223030303030303,
          1.096825236491903,
          1.171347442680776,
          1.2458696488696488,
          1.3203918550585216,
          1.3949140612473945,
          1.4694362674362673,
          1.5439584736251402,
          1.618480679814013,
          1.6930028860028858,
          1.7675250921917587,
          1.8420472983806315,
          1.9165695045695044,
          1.9910917107583772,
          2.06561391694725,
          2.1401361231361227,
          2.2146583293249957,
          2.2891805355138684,
          2.363702741702741,
          2.438224947891614,
          2.512747154080487,
          2.5872693602693597,
          2.6617915664582323,
          2.7363137726471054,
          2.8108359788359785,
          2.885358185024851,
          2.9598803912137237,
          3.0344025974025968,
          3.10892480359147,
          3.1834470097803425,
          3.257969215969215,
          3.332491422158088,
          3.407013628346961,
          3.481535834535834,
          3.5560580407247064,
          3.6305802469135795,
          3.7051024531024526,
          3.779624659291325,
          3.854146865480198,
          3.928669071669071,
          4.003191277857944,
          4.077713484046817,
          4.152235690235689,
          4.226757896424562,
          4.301280102613435,
          4.3758023088023075,
          4.4503245149911805,
          4.524846721180054,
          4.599368927368927,
          4.6738911335578,
          4.748413339746672,
          4.822935545935545,
          4.897457752124418,
          4.97197995831329,
          5.046502164502163,
          5.121024370691036,
          5.195546576879909,
          5.2700687830687825,
          5.344590989257655,
          5.419113195446528,
          5.493635401635401,
          5.568157607824273,
          5.642679814013146,
          5.717202020202019,
          5.791724226390892,
          5.866246432579765,
          5.940768638768637,
          6.01529084495751,
          6.0898130511463835,
          6.164335257335256,
          6.238857463524129,
          6.313379669713002,
          6.387901875901875,
          6.462424082090748,
          6.53694628827962,
          6.611468494468493,
          6.685990700657366,
          6.760512906846238,
          6.8350351130351115,
          6.9095573192239845,
          6.984079525412858,
          7.058601731601731,
          7.133123937790603,
          7.207646143979476,
          7.282168350168349,
          7.356690556357221,
          7.431212762546094,
          7.505734968734967,
          7.58025717492384,
          7.654779381112713,
          7.7293015873015865
         ],
         "y": [
          6.596559933198642,
          6.6984845804807565,
          6.800409227762871,
          6.902333875044986,
          7.004258522327101,
          7.106183169609215,
          7.20810781689133,
          7.310032464173444,
          7.411957111455559,
          7.513881758737673,
          7.615806406019788,
          7.717731053301902,
          7.8196557005840175,
          7.921580347866132,
          8.023504995148247,
          8.125429642430362,
          8.227354289712476,
          8.32927893699459,
          8.431203584276705,
          8.53312823155882,
          8.635052878840934,
          8.736977526123049,
          8.838902173405163,
          8.940826820687278,
          9.042751467969392,
          9.144676115251507,
          9.246600762533621,
          9.348525409815736,
          9.45045005709785,
          9.552374704379964,
          9.654299351662079,
          9.756223998944193,
          9.858148646226308,
          9.960073293508422,
          10.061997940790537,
          10.163922588072651,
          10.265847235354766,
          10.367771882636882,
          10.469696529918997,
          10.57162117720111,
          10.673545824483226,
          10.77547047176534,
          10.877395119047454,
          10.979319766329569,
          11.081244413611683,
          11.1831690608938,
          11.285093708175912,
          11.387018355458027,
          11.488943002740143,
          11.590867650022258,
          11.692792297304372,
          11.794716944586487,
          11.896641591868601,
          11.998566239150716,
          12.10049088643283,
          12.202415533714944,
          12.304340180997059,
          12.406264828279173,
          12.508189475561288,
          12.610114122843402,
          12.712038770125517,
          12.813963417407631,
          12.915888064689746,
          13.01781271197186,
          13.119737359253975,
          13.22166200653609,
          13.323586653818206,
          13.425511301100318,
          13.527435948382433,
          13.629360595664549,
          13.731285242946662,
          13.833209890228776,
          13.935134537510892,
          14.037059184793007,
          14.138983832075121,
          14.240908479357236,
          14.34283312663935,
          14.444757773921465,
          14.54668242120358,
          14.648607068485694,
          14.750531715767808,
          14.852456363049924,
          14.954381010332039,
          15.056305657614152,
          15.158230304896268,
          15.260154952178382,
          15.362079599460495,
          15.464004246742611,
          15.565928894024726,
          15.66785354130684,
          15.769778188588955,
          15.87170283587107,
          15.973627483153184,
          16.075552130435298,
          16.177476777717413,
          16.279401424999527,
          16.38132607228164,
          16.483250719563756,
          16.585175366845874,
          16.687100014127985
         ]
        },
        {
         "line": {
          "color": "#56B4E9",
          "dash": "dot"
         },
         "marker": {
          "line": {
           "color": "DarkSlateGrey",
           "width": 0
          },
          "size": 8
         },
         "mode": "lines",
         "name": "small – CLASSIC_AT (r=0.64, p=0.119)",
         "type": "scatter",
         "x": [
          0.35160317460317464,
          0.4261253807920475,
          0.5006475869809204,
          0.5751697931697932,
          0.6496919993586661,
          0.7242142055475389,
          0.7987364117364117,
          0.8732586179252846,
          0.9477808241141574,
          1.0223030303030303,
          1.096825236491903,
          1.171347442680776,
          1.2458696488696488,
          1.3203918550585216,
          1.3949140612473945,
          1.4694362674362673,
          1.5439584736251402,
          1.618480679814013,
          1.6930028860028858,
          1.7675250921917587,
          1.8420472983806315,
          1.9165695045695044,
          1.9910917107583772,
          2.06561391694725,
          2.1401361231361227,
          2.2146583293249957,
          2.2891805355138684,
          2.363702741702741,
          2.438224947891614,
          2.512747154080487,
          2.5872693602693597,
          2.6617915664582323,
          2.7363137726471054,
          2.8108359788359785,
          2.885358185024851,
          2.9598803912137237,
          3.0344025974025968,
          3.10892480359147,
          3.1834470097803425,
          3.257969215969215,
          3.332491422158088,
          3.407013628346961,
          3.481535834535834,
          3.5560580407247064,
          3.6305802469135795,
          3.7051024531024526,
          3.779624659291325,
          3.854146865480198,
          3.928669071669071,
          4.003191277857944,
          4.077713484046817,
          4.152235690235689,
          4.226757896424562,
          4.301280102613435,
          4.3758023088023075,
          4.4503245149911805,
          4.524846721180054,
          4.599368927368927,
          4.6738911335578,
          4.748413339746672,
          4.822935545935545,
          4.897457752124418,
          4.97197995831329,
          5.046502164502163,
          5.121024370691036,
          5.195546576879909,
          5.2700687830687825,
          5.344590989257655,
          5.419113195446528,
          5.493635401635401,
          5.568157607824273,
          5.642679814013146,
          5.717202020202019,
          5.791724226390892,
          5.866246432579765,
          5.940768638768637,
          6.01529084495751,
          6.0898130511463835,
          6.164335257335256,
          6.238857463524129,
          6.313379669713002,
          6.387901875901875,
          6.462424082090748,
          6.53694628827962,
          6.611468494468493,
          6.685990700657366,
          6.760512906846238,
          6.8350351130351115,
          6.9095573192239845,
          6.984079525412858,
          7.058601731601731,
          7.133123937790603,
          7.207646143979476,
          7.282168350168349,
          7.356690556357221,
          7.431212762546094,
          7.505734968734967,
          7.58025717492384,
          7.654779381112713,
          7.7293015873015865
         ],
         "y": [
          5.549832662445691,
          5.848182264269845,
          6.146531866094,
          6.4448814679181545,
          6.7432310697423095,
          7.0415806715664635,
          7.3399302733906175,
          7.6382798752147725,
          7.936629477038927,
          8.23497907886308,
          8.533328680687237,
          8.83167828251139,
          9.130027884335545,
          9.4283774861597,
          9.726727087983853,
          10.025076689808008,
          10.323426291632163,
          10.621775893456318,
          10.920125495280473,
          11.218475097104626,
          11.516824698928781,
          11.815174300752936,
          12.11352390257709,
          12.411873504401244,
          12.7102231062254,
          13.008572708049554,
          13.306922309873707,
          13.605271911697862,
          13.903621513522017,
          14.201971115346172,
          14.500320717170325,
          14.79867031899448,
          15.097019920818635,
          15.39536952264279,
          15.693719124466945,
          15.992068726291098,
          16.29041832811525,
          16.588767929939408,
          16.887117531763565,
          17.185467133587714,
          17.48381673541187,
          17.782166337236028,
          18.08051593906018,
          18.378865540884334,
          18.67721514270849,
          18.975564744532647,
          19.273914346356797,
          19.572263948180954,
          19.87061355000511,
          20.168963151829264,
          20.46731275365342,
          20.76566235547757,
          21.064011957301727,
          21.36236155912588,
          21.660711160950033,
          21.95906076277419,
          22.257410364598343,
          22.5557599664225,
          22.854109568246656,
          23.152459170070806,
          23.450808771894962,
          23.74915837371912,
          24.04750797554327,
          24.345857577367426,
          24.644207179191582,
          24.942556781015735,
          25.240906382839892,
          25.53925598466404,
          25.8376055864882,
          26.135955188312355,
          26.434304790136505,
          26.73265439196066,
          27.031003993784818,
          27.32935359560897,
          27.627703197433128,
          27.92605279925728,
          28.224402401081434,
          28.52275200290559,
          28.82110160472974,
          29.119451206553897,
          29.417800808378054,
          29.716150410202207,
          30.014500012026364,
          30.312849613850517,
          30.61119921567467,
          30.909548817498827,
          31.20789841932298,
          31.506248021147133,
          31.80459762297129,
          32.10294722479544,
          32.4012968266196,
          32.69964642844376,
          32.997996030267906,
          33.29634563209206,
          33.59469523391621,
          33.89304483574037,
          34.191394437564526,
          34.48974403938868,
          34.78809364121284,
          35.086443243036996
         ]
        },
        {
         "line": {
          "color": "#009E73",
          "dash": "solid"
         },
         "marker": {
          "line": {
           "color": "DarkSlateGrey",
           "width": 0
          },
          "size": 8
         },
         "mode": "lines",
         "name": "medium – TRADES_v2 (r=0.12, p=0.676)",
         "type": "scatter",
         "x": [
          0.35160317460317464,
          0.4261253807920475,
          0.5006475869809204,
          0.5751697931697932,
          0.6496919993586661,
          0.7242142055475389,
          0.7987364117364117,
          0.8732586179252846,
          0.9477808241141574,
          1.0223030303030303,
          1.096825236491903,
          1.171347442680776,
          1.2458696488696488,
          1.3203918550585216,
          1.3949140612473945,
          1.4694362674362673,
          1.5439584736251402,
          1.618480679814013,
          1.6930028860028858,
          1.7675250921917587,
          1.8420472983806315,
          1.9165695045695044,
          1.9910917107583772,
          2.06561391694725,
          2.1401361231361227,
          2.2146583293249957,
          2.2891805355138684,
          2.363702741702741,
          2.438224947891614,
          2.512747154080487,
          2.5872693602693597,
          2.6617915664582323,
          2.7363137726471054,
          2.8108359788359785,
          2.885358185024851,
          2.9598803912137237,
          3.0344025974025968,
          3.10892480359147,
          3.1834470097803425,
          3.257969215969215,
          3.332491422158088,
          3.407013628346961,
          3.481535834535834,
          3.5560580407247064,
          3.6305802469135795,
          3.7051024531024526,
          3.779624659291325,
          3.854146865480198,
          3.928669071669071,
          4.003191277857944,
          4.077713484046817,
          4.152235690235689,
          4.226757896424562,
          4.301280102613435,
          4.3758023088023075,
          4.4503245149911805,
          4.524846721180054,
          4.599368927368927,
          4.6738911335578,
          4.748413339746672,
          4.822935545935545,
          4.897457752124418,
          4.97197995831329,
          5.046502164502163,
          5.121024370691036,
          5.195546576879909,
          5.2700687830687825,
          5.344590989257655,
          5.419113195446528,
          5.493635401635401,
          5.568157607824273,
          5.642679814013146,
          5.717202020202019,
          5.791724226390892,
          5.866246432579765,
          5.940768638768637,
          6.01529084495751,
          6.0898130511463835,
          6.164335257335256,
          6.238857463524129,
          6.313379669713002,
          6.387901875901875,
          6.462424082090748,
          6.53694628827962,
          6.611468494468493,
          6.685990700657366,
          6.760512906846238,
          6.8350351130351115,
          6.9095573192239845,
          6.984079525412858,
          7.058601731601731,
          7.133123937790603,
          7.207646143979476,
          7.282168350168349,
          7.356690556357221,
          7.431212762546094,
          7.505734968734967,
          7.58025717492384,
          7.654779381112713,
          7.7293015873015865
         ],
         "y": [
          10.440305105490026,
          10.453940279569988,
          10.467575453649948,
          10.48121062772991,
          10.494845801809872,
          10.508480975889832,
          10.522116149969793,
          10.535751324049754,
          10.549386498129715,
          10.563021672209677,
          10.576656846289637,
          10.5902920203696,
          10.60392719444956,
          10.617562368529521,
          10.631197542609483,
          10.644832716689443,
          10.658467890769405,
          10.672103064849365,
          10.685738238929327,
          10.699373413009289,
          10.713008587089249,
          10.72664376116921,
          10.740278935249172,
          10.753914109329132,
          10.767549283409094,
          10.781184457489054,
          10.794819631569016,
          10.808454805648978,
          10.822089979728938,
          10.8357251538089,
          10.84936032788886,
          10.862995501968822,
          10.876630676048784,
          10.890265850128744,
          10.903901024208706,
          10.917536198288666,
          10.931171372368627,
          10.94480654644859,
          10.95844172052855,
          10.972076894608511,
          10.985712068688471,
          10.999347242768433,
          11.012982416848395,
          11.026617590928355,
          11.040252765008317,
          11.053887939088279,
          11.067523113168239,
          11.0811582872482,
          11.09479346132816,
          11.108428635408123,
          11.122063809488084,
          11.135698983568044,
          11.149334157648006,
          11.162969331727968,
          11.176604505807928,
          11.19023967988789,
          11.20387485396785,
          11.217510028047812,
          11.231145202127774,
          11.244780376207734,
          11.258415550287696,
          11.272050724367656,
          11.285685898447618,
          11.29932107252758,
          11.31295624660754,
          11.326591420687501,
          11.340226594767461,
          11.353861768847423,
          11.367496942927385,
          11.381132117007345,
          11.394767291087307,
          11.408402465167267,
          11.422037639247229,
          11.43567281332719,
          11.44930798740715,
          11.462943161487113,
          11.476578335567075,
          11.490213509647035,
          11.503848683726996,
          11.517483857806956,
          11.531119031886918,
          11.54475420596688,
          11.55838938004684,
          11.572024554126802,
          11.585659728206764,
          11.599294902286724,
          11.612930076366686,
          11.626565250446646,
          11.640200424526608,
          11.65383559860657,
          11.66747077268653,
          11.681105946766491,
          11.694741120846452,
          11.708376294926413,
          11.722011469006375,
          11.735646643086335,
          11.749281817166297,
          11.762916991246257,
          11.776552165326219,
          11.790187339406181
         ]
        },
        {
         "line": {
          "color": "#009E73",
          "dash": "dot"
         },
         "marker": {
          "line": {
           "color": "DarkSlateGrey",
           "width": 0
          },
          "size": 8
         },
         "mode": "lines",
         "name": "medium – CLASSIC_AT (r=0.18, p=0.524)",
         "type": "scatter",
         "x": [
          0.35160317460317464,
          0.4261253807920475,
          0.5006475869809204,
          0.5751697931697932,
          0.6496919993586661,
          0.7242142055475389,
          0.7987364117364117,
          0.8732586179252846,
          0.9477808241141574,
          1.0223030303030303,
          1.096825236491903,
          1.171347442680776,
          1.2458696488696488,
          1.3203918550585216,
          1.3949140612473945,
          1.4694362674362673,
          1.5439584736251402,
          1.618480679814013,
          1.6930028860028858,
          1.7675250921917587,
          1.8420472983806315,
          1.9165695045695044,
          1.9910917107583772,
          2.06561391694725,
          2.1401361231361227,
          2.2146583293249957,
          2.2891805355138684,
          2.363702741702741,
          2.438224947891614,
          2.512747154080487,
          2.5872693602693597,
          2.6617915664582323,
          2.7363137726471054,
          2.8108359788359785,
          2.885358185024851,
          2.9598803912137237,
          3.0344025974025968,
          3.10892480359147,
          3.1834470097803425,
          3.257969215969215,
          3.332491422158088,
          3.407013628346961,
          3.481535834535834,
          3.5560580407247064,
          3.6305802469135795,
          3.7051024531024526,
          3.779624659291325,
          3.854146865480198,
          3.928669071669071,
          4.003191277857944,
          4.077713484046817,
          4.152235690235689,
          4.226757896424562,
          4.301280102613435,
          4.3758023088023075,
          4.4503245149911805,
          4.524846721180054,
          4.599368927368927,
          4.6738911335578,
          4.748413339746672,
          4.822935545935545,
          4.897457752124418,
          4.97197995831329,
          5.046502164502163,
          5.121024370691036,
          5.195546576879909,
          5.2700687830687825,
          5.344590989257655,
          5.419113195446528,
          5.493635401635401,
          5.568157607824273,
          5.642679814013146,
          5.717202020202019,
          5.791724226390892,
          5.866246432579765,
          5.940768638768637,
          6.01529084495751,
          6.0898130511463835,
          6.164335257335256,
          6.238857463524129,
          6.313379669713002,
          6.387901875901875,
          6.462424082090748,
          6.53694628827962,
          6.611468494468493,
          6.685990700657366,
          6.760512906846238,
          6.8350351130351115,
          6.9095573192239845,
          6.984079525412858,
          7.058601731601731,
          7.133123937790603,
          7.207646143979476,
          7.282168350168349,
          7.356690556357221,
          7.431212762546094,
          7.505734968734967,
          7.58025717492384,
          7.654779381112713,
          7.7293015873015865
         ],
         "y": [
          7.735229759829609,
          7.768628123941513,
          7.802026488053415,
          7.835424852165318,
          7.868823216277221,
          7.902221580389123,
          7.935619944501026,
          7.969018308612929,
          8.00241667272483,
          8.035815036836734,
          8.069213400948637,
          8.102611765060539,
          8.136010129172442,
          8.169408493284346,
          8.202806857396247,
          8.23620522150815,
          8.269603585620054,
          8.303001949731955,
          8.336400313843859,
          8.369798677955762,
          8.403197042067664,
          8.436595406179567,
          8.46999377029147,
          8.503392134403372,
          8.536790498515275,
          8.570188862627178,
          8.60358722673908,
          8.636985590850983,
          8.670383954962887,
          8.703782319074788,
          8.737180683186692,
          8.770579047298593,
          8.803977411410497,
          8.8373757755224,
          8.870774139634303,
          8.904172503746205,
          8.937570867858108,
          8.97096923197001,
          9.004367596081913,
          9.037765960193816,
          9.07116432430572,
          9.104562688417621,
          9.137961052529525,
          9.171359416641426,
          9.20475778075333,
          9.238156144865233,
          9.271554508977134,
          9.304952873089038,
          9.338351237200941,
          9.371749601312843,
          9.405147965424746,
          9.43854632953665,
          9.47194469364855,
          9.505343057760454,
          9.538741421872356,
          9.572139785984259,
          9.605538150096162,
          9.638936514208066,
          9.672334878319969,
          9.70573324243187,
          9.739131606543772,
          9.772529970655675,
          9.805928334767579,
          9.839326698879482,
          9.872725062991384,
          9.906123427103287,
          9.93952179121519,
          9.972920155327092,
          10.006318519438995,
          10.039716883550899,
          10.0731152476628,
          10.106513611774703,
          10.139911975886605,
          10.173310339998508,
          10.206708704110412,
          10.240107068222315,
          10.273505432334217,
          10.30690379644612,
          10.340302160558021,
          10.373700524669925,
          10.407098888781828,
          10.440497252893731,
          10.473895617005633,
          10.507293981117536,
          10.540692345229438,
          10.574090709341341,
          10.607489073453245,
          10.640887437565146,
          10.67428580167705,
          10.707684165788953,
          10.741082529900854,
          10.774480894012758,
          10.807879258124661,
          10.841277622236564,
          10.874675986348466,
          10.908074350460367,
          10.94147271457227,
          10.974871078684174,
          11.008269442796077,
          11.04166780690798
         ]
        }
       ],
       "layout": {
        "height": 400,
        "legend": {
         "bgcolor": "rgba(255,255,255,1)",
         "bordercolor": "lightgrey",
         "borderwidth": 1,
         "font": {
          "size": 12
         },
         "title": {
          "text": "Legend"
         },
         "tracegroupgap": 0,
         "y": 0.85
        },
        "margin": {
         "b": 0,
         "l": 0,
         "r": 0,
         "t": 0
        },
        "paper_bgcolor": "white",
        "plot_bgcolor": "white",
        "template": {
         "data": {
          "bar": [
           {
            "error_x": {
             "color": "#2a3f5f"
            },
            "error_y": {
             "color": "#2a3f5f"
            },
            "marker": {
             "line": {
              "color": "#E5ECF6",
              "width": 0.5
             },
             "pattern": {
              "fillmode": "overlay",
              "size": 10,
              "solidity": 0.2
             }
            },
            "type": "bar"
           }
          ],
          "barpolar": [
           {
            "marker": {
             "line": {
              "color": "#E5ECF6",
              "width": 0.5
             },
             "pattern": {
              "fillmode": "overlay",
              "size": 10,
              "solidity": 0.2
             }
            },
            "type": "barpolar"
           }
          ],
          "carpet": [
           {
            "aaxis": {
             "endlinecolor": "#2a3f5f",
             "gridcolor": "white",
             "linecolor": "white",
             "minorgridcolor": "white",
             "startlinecolor": "#2a3f5f"
            },
            "baxis": {
             "endlinecolor": "#2a3f5f",
             "gridcolor": "white",
             "linecolor": "white",
             "minorgridcolor": "white",
             "startlinecolor": "#2a3f5f"
            },
            "type": "carpet"
           }
          ],
          "choropleth": [
           {
            "colorbar": {
             "outlinewidth": 0,
             "ticks": ""
            },
            "type": "choropleth"
           }
          ],
          "contour": [
           {
            "colorbar": {
             "outlinewidth": 0,
             "ticks": ""
            },
            "colorscale": [
             [
              0,
              "#0d0887"
             ],
             [
              0.1111111111111111,
              "#46039f"
             ],
             [
              0.2222222222222222,
              "#7201a8"
             ],
             [
              0.3333333333333333,
              "#9c179e"
             ],
             [
              0.4444444444444444,
              "#bd3786"
             ],
             [
              0.5555555555555556,
              "#d8576b"
             ],
             [
              0.6666666666666666,
              "#ed7953"
             ],
             [
              0.7777777777777778,
              "#fb9f3a"
             ],
             [
              0.8888888888888888,
              "#fdca26"
             ],
             [
              1,
              "#f0f921"
             ]
            ],
            "type": "contour"
           }
          ],
          "contourcarpet": [
           {
            "colorbar": {
             "outlinewidth": 0,
             "ticks": ""
            },
            "type": "contourcarpet"
           }
          ],
          "heatmap": [
           {
            "colorbar": {
             "outlinewidth": 0,
             "ticks": ""
            },
            "colorscale": [
             [
              0,
              "#0d0887"
             ],
             [
              0.1111111111111111,
              "#46039f"
             ],
             [
              0.2222222222222222,
              "#7201a8"
             ],
             [
              0.3333333333333333,
              "#9c179e"
             ],
             [
              0.4444444444444444,
              "#bd3786"
             ],
             [
              0.5555555555555556,
              "#d8576b"
             ],
             [
              0.6666666666666666,
              "#ed7953"
             ],
             [
              0.7777777777777778,
              "#fb9f3a"
             ],
             [
              0.8888888888888888,
              "#fdca26"
             ],
             [
              1,
              "#f0f921"
             ]
            ],
            "type": "heatmap"
           }
          ],
          "heatmapgl": [
           {
            "colorbar": {
             "outlinewidth": 0,
             "ticks": ""
            },
            "colorscale": [
             [
              0,
              "#0d0887"
             ],
             [
              0.1111111111111111,
              "#46039f"
             ],
             [
              0.2222222222222222,
              "#7201a8"
             ],
             [
              0.3333333333333333,
              "#9c179e"
             ],
             [
              0.4444444444444444,
              "#bd3786"
             ],
             [
              0.5555555555555556,
              "#d8576b"
             ],
             [
              0.6666666666666666,
              "#ed7953"
             ],
             [
              0.7777777777777778,
              "#fb9f3a"
             ],
             [
              0.8888888888888888,
              "#fdca26"
             ],
             [
              1,
              "#f0f921"
             ]
            ],
            "type": "heatmapgl"
           }
          ],
          "histogram": [
           {
            "marker": {
             "pattern": {
              "fillmode": "overlay",
              "size": 10,
              "solidity": 0.2
             }
            },
            "type": "histogram"
           }
          ],
          "histogram2d": [
           {
            "colorbar": {
             "outlinewidth": 0,
             "ticks": ""
            },
            "colorscale": [
             [
              0,
              "#0d0887"
             ],
             [
              0.1111111111111111,
              "#46039f"
             ],
             [
              0.2222222222222222,
              "#7201a8"
             ],
             [
              0.3333333333333333,
              "#9c179e"
             ],
             [
              0.4444444444444444,
              "#bd3786"
             ],
             [
              0.5555555555555556,
              "#d8576b"
             ],
             [
              0.6666666666666666,
              "#ed7953"
             ],
             [
              0.7777777777777778,
              "#fb9f3a"
             ],
             [
              0.8888888888888888,
              "#fdca26"
             ],
             [
              1,
              "#f0f921"
             ]
            ],
            "type": "histogram2d"
           }
          ],
          "histogram2dcontour": [
           {
            "colorbar": {
             "outlinewidth": 0,
             "ticks": ""
            },
            "colorscale": [
             [
              0,
              "#0d0887"
             ],
             [
              0.1111111111111111,
              "#46039f"
             ],
             [
              0.2222222222222222,
              "#7201a8"
             ],
             [
              0.3333333333333333,
              "#9c179e"
             ],
             [
              0.4444444444444444,
              "#bd3786"
             ],
             [
              0.5555555555555556,
              "#d8576b"
             ],
             [
              0.6666666666666666,
              "#ed7953"
             ],
             [
              0.7777777777777778,
              "#fb9f3a"
             ],
             [
              0.8888888888888888,
              "#fdca26"
             ],
             [
              1,
              "#f0f921"
             ]
            ],
            "type": "histogram2dcontour"
           }
          ],
          "mesh3d": [
           {
            "colorbar": {
             "outlinewidth": 0,
             "ticks": ""
            },
            "type": "mesh3d"
           }
          ],
          "parcoords": [
           {
            "line": {
             "colorbar": {
              "outlinewidth": 0,
              "ticks": ""
             }
            },
            "type": "parcoords"
           }
          ],
          "pie": [
           {
            "automargin": true,
            "type": "pie"
           }
          ],
          "scatter": [
           {
            "fillpattern": {
             "fillmode": "overlay",
             "size": 10,
             "solidity": 0.2
            },
            "type": "scatter"
           }
          ],
          "scatter3d": [
           {
            "line": {
             "colorbar": {
              "outlinewidth": 0,
              "ticks": ""
             }
            },
            "marker": {
             "colorbar": {
              "outlinewidth": 0,
              "ticks": ""
             }
            },
            "type": "scatter3d"
           }
          ],
          "scattercarpet": [
           {
            "marker": {
             "colorbar": {
              "outlinewidth": 0,
              "ticks": ""
             }
            },
            "type": "scattercarpet"
           }
          ],
          "scattergeo": [
           {
            "marker": {
             "colorbar": {
              "outlinewidth": 0,
              "ticks": ""
             }
            },
            "type": "scattergeo"
           }
          ],
          "scattergl": [
           {
            "marker": {
             "colorbar": {
              "outlinewidth": 0,
              "ticks": ""
             }
            },
            "type": "scattergl"
           }
          ],
          "scattermapbox": [
           {
            "marker": {
             "colorbar": {
              "outlinewidth": 0,
              "ticks": ""
             }
            },
            "type": "scattermapbox"
           }
          ],
          "scatterpolar": [
           {
            "marker": {
             "colorbar": {
              "outlinewidth": 0,
              "ticks": ""
             }
            },
            "type": "scatterpolar"
           }
          ],
          "scatterpolargl": [
           {
            "marker": {
             "colorbar": {
              "outlinewidth": 0,
              "ticks": ""
             }
            },
            "type": "scatterpolargl"
           }
          ],
          "scatterternary": [
           {
            "marker": {
             "colorbar": {
              "outlinewidth": 0,
              "ticks": ""
             }
            },
            "type": "scatterternary"
           }
          ],
          "surface": [
           {
            "colorbar": {
             "outlinewidth": 0,
             "ticks": ""
            },
            "colorscale": [
             [
              0,
              "#0d0887"
             ],
             [
              0.1111111111111111,
              "#46039f"
             ],
             [
              0.2222222222222222,
              "#7201a8"
             ],
             [
              0.3333333333333333,
              "#9c179e"
             ],
             [
              0.4444444444444444,
              "#bd3786"
             ],
             [
              0.5555555555555556,
              "#d8576b"
             ],
             [
              0.6666666666666666,
              "#ed7953"
             ],
             [
              0.7777777777777778,
              "#fb9f3a"
             ],
             [
              0.8888888888888888,
              "#fdca26"
             ],
             [
              1,
              "#f0f921"
             ]
            ],
            "type": "surface"
           }
          ],
          "table": [
           {
            "cells": {
             "fill": {
              "color": "#EBF0F8"
             },
             "line": {
              "color": "white"
             }
            },
            "header": {
             "fill": {
              "color": "#C8D4E3"
             },
             "line": {
              "color": "white"
             }
            },
            "type": "table"
           }
          ]
         },
         "layout": {
          "annotationdefaults": {
           "arrowcolor": "#2a3f5f",
           "arrowhead": 0,
           "arrowwidth": 1
          },
          "autotypenumbers": "strict",
          "coloraxis": {
           "colorbar": {
            "outlinewidth": 0,
            "ticks": ""
           }
          },
          "colorscale": {
           "diverging": [
            [
             0,
             "#8e0152"
            ],
            [
             0.1,
             "#c51b7d"
            ],
            [
             0.2,
             "#de77ae"
            ],
            [
             0.3,
             "#f1b6da"
            ],
            [
             0.4,
             "#fde0ef"
            ],
            [
             0.5,
             "#f7f7f7"
            ],
            [
             0.6,
             "#e6f5d0"
            ],
            [
             0.7,
             "#b8e186"
            ],
            [
             0.8,
             "#7fbc41"
            ],
            [
             0.9,
             "#4d9221"
            ],
            [
             1,
             "#276419"
            ]
           ],
           "sequential": [
            [
             0,
             "#0d0887"
            ],
            [
             0.1111111111111111,
             "#46039f"
            ],
            [
             0.2222222222222222,
             "#7201a8"
            ],
            [
             0.3333333333333333,
             "#9c179e"
            ],
            [
             0.4444444444444444,
             "#bd3786"
            ],
            [
             0.5555555555555556,
             "#d8576b"
            ],
            [
             0.6666666666666666,
             "#ed7953"
            ],
            [
             0.7777777777777778,
             "#fb9f3a"
            ],
            [
             0.8888888888888888,
             "#fdca26"
            ],
            [
             1,
             "#f0f921"
            ]
           ],
           "sequentialminus": [
            [
             0,
             "#0d0887"
            ],
            [
             0.1111111111111111,
             "#46039f"
            ],
            [
             0.2222222222222222,
             "#7201a8"
            ],
            [
             0.3333333333333333,
             "#9c179e"
            ],
            [
             0.4444444444444444,
             "#bd3786"
            ],
            [
             0.5555555555555556,
             "#d8576b"
            ],
            [
             0.6666666666666666,
             "#ed7953"
            ],
            [
             0.7777777777777778,
             "#fb9f3a"
            ],
            [
             0.8888888888888888,
             "#fdca26"
            ],
            [
             1,
             "#f0f921"
            ]
           ]
          },
          "colorway": [
           "#636efa",
           "#EF553B",
           "#00cc96",
           "#ab63fa",
           "#FFA15A",
           "#19d3f3",
           "#FF6692",
           "#B6E880",
           "#FF97FF",
           "#FECB52"
          ],
          "font": {
           "color": "#2a3f5f"
          },
          "geo": {
           "bgcolor": "white",
           "lakecolor": "white",
           "landcolor": "#E5ECF6",
           "showlakes": true,
           "showland": true,
           "subunitcolor": "white"
          },
          "hoverlabel": {
           "align": "left"
          },
          "hovermode": "closest",
          "mapbox": {
           "style": "light"
          },
          "paper_bgcolor": "white",
          "plot_bgcolor": "#E5ECF6",
          "polar": {
           "angularaxis": {
            "gridcolor": "white",
            "linecolor": "white",
            "ticks": ""
           },
           "bgcolor": "#E5ECF6",
           "radialaxis": {
            "gridcolor": "white",
            "linecolor": "white",
            "ticks": ""
           }
          },
          "scene": {
           "xaxis": {
            "backgroundcolor": "#E5ECF6",
            "gridcolor": "white",
            "gridwidth": 2,
            "linecolor": "white",
            "showbackground": true,
            "ticks": "",
            "zerolinecolor": "white"
           },
           "yaxis": {
            "backgroundcolor": "#E5ECF6",
            "gridcolor": "white",
            "gridwidth": 2,
            "linecolor": "white",
            "showbackground": true,
            "ticks": "",
            "zerolinecolor": "white"
           },
           "zaxis": {
            "backgroundcolor": "#E5ECF6",
            "gridcolor": "white",
            "gridwidth": 2,
            "linecolor": "white",
            "showbackground": true,
            "ticks": "",
            "zerolinecolor": "white"
           }
          },
          "shapedefaults": {
           "line": {
            "color": "#2a3f5f"
           }
          },
          "ternary": {
           "aaxis": {
            "gridcolor": "white",
            "linecolor": "white",
            "ticks": ""
           },
           "baxis": {
            "gridcolor": "white",
            "linecolor": "white",
            "ticks": ""
           },
           "bgcolor": "#E5ECF6",
           "caxis": {
            "gridcolor": "white",
            "linecolor": "white",
            "ticks": ""
           }
          },
          "title": {
           "x": 0.05
          },
          "xaxis": {
           "automargin": true,
           "gridcolor": "white",
           "linecolor": "white",
           "ticks": "",
           "title": {
            "standoff": 15
           },
           "zerolinecolor": "white",
           "zerolinewidth": 2
          },
          "yaxis": {
           "automargin": true,
           "gridcolor": "white",
           "linecolor": "white",
           "ticks": "",
           "title": {
            "standoff": 15
           },
           "zerolinecolor": "white",
           "zerolinewidth": 2
          }
         }
        },
        "width": 800,
        "xaxis": {
         "anchor": "y",
         "domain": [
          0,
          1
         ],
         "gridcolor": "lightgrey",
         "range": [
          -0.25,
          8.25
         ],
         "showgrid": true,
         "title": {
          "text": "FFT (5 epochs)"
         }
        },
        "yaxis": {
         "anchor": "x",
         "domain": [
          0,
          1
         ],
         "gridcolor": "lightgrey",
         "range": [
          0,
          20
         ],
         "showgrid": true,
         "title": {
          "text": "FFT (50 epochs)"
         }
        }
       }
      }
     },
     "metadata": {},
     "output_type": "display_data"
    },
    {
     "data": {
      "application/vnd.plotly.v1+json": {
       "config": {
        "plotlyServerURL": "https://plot.ly"
       },
       "data": [
        {
         "hovertemplate": "model_size=large<br>loss_function=CLASSIC_AT<br>LP (50 epochs)=%{x}<br>FFT (50 epochs)=%{y}<extra></extra>",
         "legendgroup": "large, CLASSIC_AT",
         "marker": {
          "color": "#E69F00",
          "line": {
           "color": "DarkSlateGrey",
           "width": 0
          },
          "size": 8,
          "symbol": "star"
         },
         "mode": "markers",
         "name": "large, CLASSIC_AT",
         "orientation": "v",
         "showlegend": true,
         "type": "scatter",
         "x": [
          3.9569047619047617,
          2.8577460317460317,
          5.877095238095238,
          5.816666666666666,
          5.440095238095238,
          2.8666349206349206,
          5.7843809523809515,
          4.620285714285714,
          5.160714285714286,
          2.8145555555555557,
          1.4494285714285717,
          6.436619047619048,
          2.9516190476190474,
          3.0946666666666665,
          3.658650793650794,
          0.6882380952380953,
          3.844190476190476,
          5.730476190476191
         ],
         "xaxis": "x",
         "y": [
          15.419238095238097,
          14.510619047619048,
          13.656476190476189,
          14.404333333333332,
          9.757952380952382,
          14.390857142857145,
          15.99288888888889,
          15.127682539682539,
          13.163380952380951,
          13.771698412698411,
          7.738222222222221,
          16.77236507936508,
          11.306857142857144,
          8.744079365079365,
          7.513095238095238,
          10.652857142857142,
          8.554015873015873,
          5.8201269841269845
         ],
         "yaxis": "y"
        },
        {
         "hovertemplate": "model_size=large<br>loss_function=TRADES_v2<br>LP (50 epochs)=%{x}<br>FFT (50 epochs)=%{y}<extra></extra>",
         "legendgroup": "large, TRADES_v2",
         "marker": {
          "color": "#E69F00",
          "line": {
           "color": "DarkSlateGrey",
           "width": 0
          },
          "size": 8,
          "symbol": "diamond"
         },
         "mode": "markers",
         "name": "large, TRADES_v2",
         "orientation": "v",
         "showlegend": true,
         "type": "scatter",
         "x": [
          7.543333333333333,
          7.351238095238096,
          5.048301587301587,
          7.091619047619048,
          6.589539682539682,
          5.598190476190476,
          7.0374285714285705,
          7.923714285714286,
          8.113412698412699,
          3.3896190476190475,
          1.7374285714285713,
          8.003857142857143,
          4.339666666666666,
          1.039031746031746,
          1.9507777777777777,
          0.8672857142857143,
          6.614619047619048,
          6.9355714285714285
         ],
         "xaxis": "x",
         "y": [
          19.396968253968254,
          18.235888888888887,
          18.87442857142857,
          18.743904761904762,
          14.625873015873015,
          16.42042857142857,
          19.789301587301587,
          17.01639682539683,
          17.59952380952381,
          16.63130158730159,
          9.284619047619048,
          18.05390476190476,
          12.497777777777777,
          9.20452380952381,
          7.76604761904762,
          10.922761904761904,
          12.831396825396824,
          15.24073015873016
         ],
         "yaxis": "y"
        },
        {
         "hovertemplate": "model_size=small<br>loss_function=CLASSIC_AT<br>LP (50 epochs)=%{x}<br>FFT (50 epochs)=%{y}<extra></extra>",
         "legendgroup": "small, CLASSIC_AT",
         "marker": {
          "color": "#56B4E9",
          "line": {
           "color": "DarkSlateGrey",
           "width": 0
          },
          "size": 8,
          "symbol": "star"
         },
         "mode": "markers",
         "name": "small, CLASSIC_AT",
         "orientation": "v",
         "showlegend": true,
         "type": "scatter",
         "x": [
          0.35285714285714287,
          1.0727142857142857,
          1.2254285714285713,
          0.9750952380952382,
          3.8256666666666668,
          0.3169047619047619,
          2.6655238095238096
         ],
         "xaxis": "x",
         "y": [
          6.036095238095239,
          7.61152380952381,
          12.877714285714285,
          3.9464285714285716,
          8.747539682539681,
          4.924285714285714,
          10.845761904761906
         ],
         "yaxis": "y"
        },
        {
         "hovertemplate": "model_size=small<br>loss_function=TRADES_v2<br>LP (50 epochs)=%{x}<br>FFT (50 epochs)=%{y}<extra></extra>",
         "legendgroup": "small, TRADES_v2",
         "marker": {
          "color": "#56B4E9",
          "line": {
           "color": "DarkSlateGrey",
           "width": 0
          },
          "size": 8,
          "symbol": "diamond"
         },
         "mode": "markers",
         "name": "small, TRADES_v2",
         "orientation": "v",
         "showlegend": true,
         "type": "scatter",
         "x": [
          1.4621428571428572,
          3.535,
          4.612507936507937,
          0.5425238095238094,
          3.4052857142857142,
          0.28044444444444444,
          2.116174603174603
         ],
         "xaxis": "x",
         "y": [
          15.018015873015873,
          11.266238095238098,
          14.662857142857144,
          3.465190476190476,
          8.869428571428571,
          5.632666666666666,
          9.000444444444444
         ],
         "yaxis": "y"
        },
        {
         "hovertemplate": "model_size=medium<br>loss_function=CLASSIC_AT<br>LP (50 epochs)=%{x}<br>FFT (50 epochs)=%{y}<extra></extra>",
         "legendgroup": "medium, CLASSIC_AT",
         "marker": {
          "color": "#009E73",
          "line": {
           "color": "DarkSlateGrey",
           "width": 0
          },
          "size": 8,
          "symbol": "star"
         },
         "mode": "markers",
         "name": "medium, CLASSIC_AT",
         "orientation": "v",
         "showlegend": true,
         "type": "scatter",
         "x": [
          4.020015873015874,
          2.067761904761905,
          1.920301587301587,
          3.261,
          1.7058095238095237,
          1.3176031746031747,
          3.469952380952381,
          6.445507936507936,
          9.132142857142856,
          6.186666666666667,
          3.2461269841269837,
          2.048047619047619,
          3.205714285714286,
          2.748936507936508,
          2.6437460317460317
         ],
         "xaxis": "x",
         "y": [
          7.354095238095239,
          14.190666666666667,
          13.121666666666666,
          8.96915873015873,
          8.404936507936508,
          5.497158730158731,
          7.891190476190476,
          10.63004761904762,
          11.169269841269841,
          11.786952380952382,
          10.30595238095238,
          2.7429047619047617,
          6.476619047619048,
          6.104857142857144,
          6.640190476190476
         ],
         "yaxis": "y"
        },
        {
         "hovertemplate": "model_size=medium<br>loss_function=TRADES_v2<br>LP (50 epochs)=%{x}<br>FFT (50 epochs)=%{y}<extra></extra>",
         "legendgroup": "medium, TRADES_v2",
         "marker": {
          "color": "#009E73",
          "line": {
           "color": "DarkSlateGrey",
           "width": 0
          },
          "size": 8,
          "symbol": "diamond"
         },
         "mode": "markers",
         "name": "medium, TRADES_v2",
         "orientation": "v",
         "showlegend": true,
         "type": "scatter",
         "x": [
          5.377380952380952,
          4.372285714285715,
          6.786412698412698,
          3.740952380952381,
          2.9653968253968253,
          2.4287936507936507,
          3.0761904761904764,
          7.566746031746032,
          6.966619047619048,
          4.983190476190476,
          5.821698412698413,
          2.360809523809524,
          2.792761904761905,
          3.2846190476190475,
          0.5582539682539682
         ],
         "xaxis": "x",
         "y": [
          13.198714285714287,
          15.604809523809525,
          15.066190476190478,
          16.489968253968254,
          6.858126984126985,
          8.368904761904762,
          8.874571428571429,
          14.712079365079365,
          13.210857142857144,
          9.827396825396825,
          9.993523809523811,
          9.144730158730159,
          8.256285714285713,
          8.685698412698413,
          5.332063492063492
         ],
         "yaxis": "y"
        },
        {
         "line": {
          "color": "black",
          "dash": "solid",
          "width": 2
         },
         "marker": {
          "line": {
           "color": "DarkSlateGrey",
           "width": 0
          },
          "size": 8
         },
         "mode": "lines",
         "name": "Global (r=0.66, p=0.000)",
         "type": "scatter",
         "x": [
          0.28044444444444444,
          0.3698555395222062,
          0.45926663459996786,
          0.5486777296777297,
          0.6380888247554913,
          0.727499919833253,
          0.8169110149110148,
          0.9063221099887766,
          0.9957332050665382,
          1.0851443001443,
          1.1745553952220618,
          1.2639664902998233,
          1.3533775853775851,
          1.442788680455347,
          1.5321997755331087,
          1.6216108706108703,
          1.711021965688632,
          1.8004330607663939,
          1.8898441558441554,
          1.9792552509219172,
          2.068666345999679,
          2.1580774410774404,
          2.247488536155202,
          2.336899631232964,
          2.4263107263107258,
          2.5157218213884875,
          2.6051329164662493,
          2.694544011544011,
          2.783955106621773,
          2.8733662016995343,
          2.962777296777296,
          3.052188391855058,
          3.1415994869328197,
          3.2310105820105814,
          3.3204216770883432,
          3.409832772166105,
          3.4992438672438664,
          3.588654962321628,
          3.67806605739939,
          3.7674771524771518,
          3.8568882475549136,
          3.9462993426326753,
          4.035710437710437,
          4.1251215327881985,
          4.21453262786596,
          4.303943722943721,
          4.393354818021483,
          4.482765913099245,
          4.572177008177007,
          4.661588103254768,
          4.75099919833253,
          4.840410293410292,
          4.929821388488054,
          5.0192324835658155,
          5.108643578643577,
          5.198054673721339,
          5.287465768799101,
          5.376876863876863,
          5.466287958954624,
          5.555699054032385,
          5.645110149110147,
          5.734521244187909,
          5.823932339265671,
          5.913343434343433,
          6.002754529421194,
          6.092165624498956,
          6.181576719576718,
          6.27098781465448,
          6.3603989097322415,
          6.449810004810003,
          6.539221099887765,
          6.628632194965526,
          6.718043290043288,
          6.80745438512105,
          6.896865480198811,
          6.986276575276573,
          7.075687670354335,
          7.165098765432097,
          7.254509860509859,
          7.34392095558762,
          7.433332050665382,
          7.522743145743144,
          7.612154240820906,
          7.7015653358986675,
          7.7909764309764284,
          7.88038752605419,
          7.969798621131952,
          8.059209716209715,
          8.148620811287476,
          8.238031906365238,
          8.327443001443,
          8.416854096520762,
          8.506265191598523,
          8.595676286676285,
          8.685087381754046,
          8.774498476831809,
          8.86390957190957,
          8.953320666987333,
          9.042731762065094,
          9.132142857142856
         ],
         "y": [
          6.874331076684623,
          6.984542393353103,
          7.094753710021584,
          7.204965026690064,
          7.3151763433585435,
          7.425387660027024,
          7.535598976695504,
          7.645810293363985,
          7.756021610032464,
          7.8662329267009445,
          7.976444243369425,
          8.086655560037904,
          8.196866876706386,
          8.307078193374865,
          8.417289510043346,
          8.527500826711826,
          8.637712143380305,
          8.747923460048785,
          8.858134776717266,
          8.968346093385746,
          9.078557410054227,
          9.188768726722707,
          9.298980043391186,
          9.409191360059665,
          9.519402676728147,
          9.629613993396628,
          9.739825310065108,
          9.850036626733587,
          9.960247943402068,
          10.070459260070548,
          10.180670576739027,
          10.290881893407509,
          10.401093210075988,
          10.511304526744468,
          10.621515843412949,
          10.73172716008143,
          10.84193847674991,
          10.95214979341839,
          11.062361110086869,
          11.172572426755348,
          11.28278374342383,
          11.39299506009231,
          11.50320637676079,
          11.61341769342927,
          11.72362901009775,
          11.833840326766229,
          11.944051643434708,
          12.05426296010319,
          12.16447427677167,
          12.27468559344015,
          12.38489691010863,
          12.49510822677711,
          12.60531954344559,
          12.715530860114072,
          12.825742176782551,
          12.93595349345103,
          13.046164810119512,
          13.156376126787992,
          13.266587443456471,
          13.376798760124952,
          13.487010076793432,
          13.597221393461911,
          13.70743271013039,
          13.817644026798872,
          13.927855343467353,
          14.038066660135833,
          14.148277976804312,
          14.258489293472792,
          14.368700610141273,
          14.478911926809754,
          14.589123243478234,
          14.699334560146713,
          14.809545876815193,
          14.919757193483672,
          15.029968510152155,
          15.140179826820635,
          15.250391143489114,
          15.360602460157594,
          15.470813776826073,
          15.581025093494556,
          15.691236410163036,
          15.801447726831515,
          15.911659043499995,
          16.021870360168474,
          16.132081676836954,
          16.242292993505437,
          16.352504310173916,
          16.462715626842396,
          16.572926943510875,
          16.68313826017936,
          16.793349576847838,
          16.903560893516318,
          17.013772210184797,
          17.123983526853277,
          17.234194843521756,
          17.34440616019024,
          17.45461747685872,
          17.564828793527198,
          17.675040110195678,
          17.78525142686416
         ]
        },
        {
         "line": {
          "color": "#E69F00",
          "dash": "solid"
         },
         "marker": {
          "line": {
           "color": "DarkSlateGrey",
           "width": 0
          },
          "size": 8
         },
         "mode": "lines",
         "name": "large – TRADES_v2 (r=0.72, p=0.001)",
         "type": "scatter",
         "x": [
          0.28044444444444444,
          0.3698555395222062,
          0.45926663459996786,
          0.5486777296777297,
          0.6380888247554913,
          0.727499919833253,
          0.8169110149110148,
          0.9063221099887766,
          0.9957332050665382,
          1.0851443001443,
          1.1745553952220618,
          1.2639664902998233,
          1.3533775853775851,
          1.442788680455347,
          1.5321997755331087,
          1.6216108706108703,
          1.711021965688632,
          1.8004330607663939,
          1.8898441558441554,
          1.9792552509219172,
          2.068666345999679,
          2.1580774410774404,
          2.247488536155202,
          2.336899631232964,
          2.4263107263107258,
          2.5157218213884875,
          2.6051329164662493,
          2.694544011544011,
          2.783955106621773,
          2.8733662016995343,
          2.962777296777296,
          3.052188391855058,
          3.1415994869328197,
          3.2310105820105814,
          3.3204216770883432,
          3.409832772166105,
          3.4992438672438664,
          3.588654962321628,
          3.67806605739939,
          3.7674771524771518,
          3.8568882475549136,
          3.9462993426326753,
          4.035710437710437,
          4.1251215327881985,
          4.21453262786596,
          4.303943722943721,
          4.393354818021483,
          4.482765913099245,
          4.572177008177007,
          4.661588103254768,
          4.75099919833253,
          4.840410293410292,
          4.929821388488054,
          5.0192324835658155,
          5.108643578643577,
          5.198054673721339,
          5.287465768799101,
          5.376876863876863,
          5.466287958954624,
          5.555699054032385,
          5.645110149110147,
          5.734521244187909,
          5.823932339265671,
          5.913343434343433,
          6.002754529421194,
          6.092165624498956,
          6.181576719576718,
          6.27098781465448,
          6.3603989097322415,
          6.449810004810003,
          6.539221099887765,
          6.628632194965526,
          6.718043290043288,
          6.80745438512105,
          6.896865480198811,
          6.986276575276573,
          7.075687670354335,
          7.165098765432097,
          7.254509860509859,
          7.34392095558762,
          7.433332050665382,
          7.522743145743144,
          7.612154240820906,
          7.7015653358986675,
          7.7909764309764284,
          7.88038752605419,
          7.969798621131952,
          8.059209716209715,
          8.148620811287476,
          8.238031906365238,
          8.327443001443,
          8.416854096520762,
          8.506265191598523,
          8.595676286676285,
          8.685087381754046,
          8.774498476831809,
          8.86390957190957,
          8.953320666987333,
          9.042731762065094,
          9.132142857142856
         ],
         "y": [
          8.876659649090227,
          8.986674255911797,
          9.096688862733368,
          9.206703469554938,
          9.316718076376509,
          9.426732683198079,
          9.536747290019651,
          9.64676189684122,
          9.756776503662792,
          9.866791110484362,
          9.976805717305933,
          10.086820324127503,
          10.196834930949073,
          10.306849537770644,
          10.416864144592214,
          10.526878751413784,
          10.636893358235355,
          10.746907965056925,
          10.856922571878496,
          10.966937178700066,
          11.076951785521636,
          11.186966392343207,
          11.296980999164777,
          11.406995605986348,
          11.517010212807918,
          11.627024819629488,
          11.737039426451059,
          11.84705403327263,
          11.9570686400942,
          12.06708324691577,
          12.17709785373734,
          12.287112460558912,
          12.397127067380481,
          12.507141674202053,
          12.617156281023624,
          12.727170887845194,
          12.837185494666763,
          12.947200101488335,
          13.057214708309905,
          13.167229315131475,
          13.277243921953046,
          13.387258528774616,
          13.497273135596187,
          13.607287742417757,
          13.717302349239327,
          13.827316956060898,
          13.937331562882466,
          14.047346169704038,
          14.157360776525609,
          14.26737538334718,
          14.37738999016875,
          14.48740459699032,
          14.59741920381189,
          14.70743381063346,
          14.817448417455033,
          14.927463024276602,
          15.037477631098174,
          15.147492237919742,
          15.257506844741313,
          15.367521451562883,
          15.477536058384455,
          15.587550665206024,
          15.697565272027596,
          15.807579878849165,
          15.917594485670737,
          16.027609092492305,
          16.137623699313878,
          16.24763830613545,
          16.35765291295702,
          16.467667519778587,
          16.57768212660016,
          16.68769673342173,
          16.7977113402433,
          16.90772594706487,
          17.01774055388644,
          17.127755160708013,
          17.23776976752958,
          17.34778437435115,
          17.457798981172722,
          17.567813587994294,
          17.677828194815863,
          17.787842801637435,
          17.897857408459004,
          18.007872015280576,
          18.117886622102144,
          18.227901228923713,
          18.337915835745285,
          18.447930442566857,
          18.55794504938843,
          18.667959656209998,
          18.777974263031567,
          18.88798886985314,
          18.99800347667471,
          19.108018083496283,
          19.218032690317848,
          19.32804729713942,
          19.438061903960993,
          19.548076510782565,
          19.65809111760413,
          19.768105724425702
         ]
        },
        {
         "line": {
          "color": "#E69F00",
          "dash": "dot"
         },
         "marker": {
          "line": {
           "color": "DarkSlateGrey",
           "width": 0
          },
          "size": 8
         },
         "mode": "lines",
         "name": "large – CLASSIC_AT (r=0.32, p=0.197)",
         "type": "scatter",
         "x": [
          0.28044444444444444,
          0.3698555395222062,
          0.45926663459996786,
          0.5486777296777297,
          0.6380888247554913,
          0.727499919833253,
          0.8169110149110148,
          0.9063221099887766,
          0.9957332050665382,
          1.0851443001443,
          1.1745553952220618,
          1.2639664902998233,
          1.3533775853775851,
          1.442788680455347,
          1.5321997755331087,
          1.6216108706108703,
          1.711021965688632,
          1.8004330607663939,
          1.8898441558441554,
          1.9792552509219172,
          2.068666345999679,
          2.1580774410774404,
          2.247488536155202,
          2.336899631232964,
          2.4263107263107258,
          2.5157218213884875,
          2.6051329164662493,
          2.694544011544011,
          2.783955106621773,
          2.8733662016995343,
          2.962777296777296,
          3.052188391855058,
          3.1415994869328197,
          3.2310105820105814,
          3.3204216770883432,
          3.409832772166105,
          3.4992438672438664,
          3.588654962321628,
          3.67806605739939,
          3.7674771524771518,
          3.8568882475549136,
          3.9462993426326753,
          4.035710437710437,
          4.1251215327881985,
          4.21453262786596,
          4.303943722943721,
          4.393354818021483,
          4.482765913099245,
          4.572177008177007,
          4.661588103254768,
          4.75099919833253,
          4.840410293410292,
          4.929821388488054,
          5.0192324835658155,
          5.108643578643577,
          5.198054673721339,
          5.287465768799101,
          5.376876863876863,
          5.466287958954624,
          5.555699054032385,
          5.645110149110147,
          5.734521244187909,
          5.823932339265671,
          5.913343434343433,
          6.002754529421194,
          6.092165624498956,
          6.181576719576718,
          6.27098781465448,
          6.3603989097322415,
          6.449810004810003,
          6.539221099887765,
          6.628632194965526,
          6.718043290043288,
          6.80745438512105,
          6.896865480198811,
          6.986276575276573,
          7.075687670354335,
          7.165098765432097,
          7.254509860509859,
          7.34392095558762,
          7.433332050665382,
          7.522743145743144,
          7.612154240820906,
          7.7015653358986675,
          7.7909764309764284,
          7.88038752605419,
          7.969798621131952,
          8.059209716209715,
          8.148620811287476,
          8.238031906365238,
          8.327443001443,
          8.416854096520762,
          8.506265191598523,
          8.595676286676285,
          8.685087381754046,
          8.774498476831809,
          8.86390957190957,
          8.953320666987333,
          9.042731762065094,
          9.132142857142856
         ],
         "y": [
          9.720024531917325,
          9.775690435510484,
          9.831356339103642,
          9.887022242696801,
          9.942688146289958,
          9.998354049883117,
          10.054019953476276,
          10.109685857069435,
          10.165351760662594,
          10.221017664255752,
          10.27668356784891,
          10.332349471442068,
          10.388015375035227,
          10.443681278628386,
          10.499347182221545,
          10.555013085814704,
          10.610678989407862,
          10.666344893001021,
          10.722010796594178,
          10.777676700187337,
          10.833342603780496,
          10.889008507373655,
          10.944674410966813,
          11.00034031455997,
          11.05600621815313,
          11.111672121746288,
          11.167338025339447,
          11.223003928932606,
          11.278669832525765,
          11.334335736118923,
          11.39000163971208,
          11.44566754330524,
          11.501333446898398,
          11.556999350491557,
          11.612665254084716,
          11.668331157677875,
          11.723997061271032,
          11.77966296486419,
          11.83532886845735,
          11.890994772050508,
          11.946660675643667,
          12.002326579236826,
          12.057992482829984,
          12.113658386423143,
          12.1693242900163,
          12.22499019360946,
          12.280656097202618,
          12.336322000795775,
          12.391987904388934,
          12.447653807982093,
          12.503319711575251,
          12.55898561516841,
          12.614651518761569,
          12.670317422354728,
          12.725983325947887,
          12.781649229541046,
          12.837315133134204,
          12.892981036727361,
          12.94864694032052,
          13.004312843913679,
          13.059978747506836,
          13.115644651099995,
          13.171310554693154,
          13.226976458286313,
          13.282642361879471,
          13.33830826547263,
          13.393974169065789,
          13.449640072658948,
          13.505305976252107,
          13.560971879845265,
          13.616637783438424,
          13.672303687031581,
          13.727969590624738,
          13.783635494217897,
          13.839301397811056,
          13.894967301404215,
          13.950633204997374,
          14.006299108590532,
          14.061965012183691,
          14.11763091577685,
          14.173296819370009,
          14.228962722963168,
          14.284628626556326,
          14.340294530149485,
          14.395960433742642,
          14.4516263373358,
          14.507292240928958,
          14.562958144522119,
          14.618624048115276,
          14.674289951708435,
          14.729955855301593,
          14.785621758894752,
          14.841287662487911,
          14.89695356608107,
          14.952619469674229,
          15.008285373267388,
          15.063951276860546,
          15.119617180453705,
          15.175283084046862,
          15.230948987640021
         ]
        },
        {
         "line": {
          "color": "#56B4E9",
          "dash": "solid"
         },
         "marker": {
          "line": {
           "color": "DarkSlateGrey",
           "width": 0
          },
          "size": 8
         },
         "mode": "lines",
         "name": "small – TRADES_v2 (r=0.57, p=0.180)",
         "type": "scatter",
         "x": [
          0.28044444444444444,
          0.3698555395222062,
          0.45926663459996786,
          0.5486777296777297,
          0.6380888247554913,
          0.727499919833253,
          0.8169110149110148,
          0.9063221099887766,
          0.9957332050665382,
          1.0851443001443,
          1.1745553952220618,
          1.2639664902998233,
          1.3533775853775851,
          1.442788680455347,
          1.5321997755331087,
          1.6216108706108703,
          1.711021965688632,
          1.8004330607663939,
          1.8898441558441554,
          1.9792552509219172,
          2.068666345999679,
          2.1580774410774404,
          2.247488536155202,
          2.336899631232964,
          2.4263107263107258,
          2.5157218213884875,
          2.6051329164662493,
          2.694544011544011,
          2.783955106621773,
          2.8733662016995343,
          2.962777296777296,
          3.052188391855058,
          3.1415994869328197,
          3.2310105820105814,
          3.3204216770883432,
          3.409832772166105,
          3.4992438672438664,
          3.588654962321628,
          3.67806605739939,
          3.7674771524771518,
          3.8568882475549136,
          3.9462993426326753,
          4.035710437710437,
          4.1251215327881985,
          4.21453262786596,
          4.303943722943721,
          4.393354818021483,
          4.482765913099245,
          4.572177008177007,
          4.661588103254768,
          4.75099919833253,
          4.840410293410292,
          4.929821388488054,
          5.0192324835658155,
          5.108643578643577,
          5.198054673721339,
          5.287465768799101,
          5.376876863876863,
          5.466287958954624,
          5.555699054032385,
          5.645110149110147,
          5.734521244187909,
          5.823932339265671,
          5.913343434343433,
          6.002754529421194,
          6.092165624498956,
          6.181576719576718,
          6.27098781465448,
          6.3603989097322415,
          6.449810004810003,
          6.539221099887765,
          6.628632194965526,
          6.718043290043288,
          6.80745438512105,
          6.896865480198811,
          6.986276575276573,
          7.075687670354335,
          7.165098765432097,
          7.254509860509859,
          7.34392095558762,
          7.433332050665382,
          7.522743145743144,
          7.612154240820906,
          7.7015653358986675,
          7.7909764309764284,
          7.88038752605419,
          7.969798621131952,
          8.059209716209715,
          8.148620811287476,
          8.238031906365238,
          8.327443001443,
          8.416854096520762,
          8.506265191598523,
          8.595676286676285,
          8.685087381754046,
          8.774498476831809,
          8.86390957190957,
          8.953320666987333,
          9.042731762065094,
          9.132142857142856
         ],
         "y": [
          6.2859544354168895,
          6.438774583629697,
          6.5915947318425046,
          6.744414880055312,
          6.897235028268119,
          7.050055176480926,
          7.202875324693734,
          7.355695472906541,
          7.508515621119349,
          7.661335769332156,
          7.814155917544964,
          7.9669760657577715,
          8.119796213970579,
          8.272616362183387,
          8.425436510396194,
          8.578256658609,
          8.731076806821807,
          8.883896955034615,
          9.036717103247423,
          9.18953725146023,
          9.342357399673038,
          9.495177547885845,
          9.647997696098653,
          9.80081784431146,
          9.953637992524268,
          10.106458140737075,
          10.259278288949883,
          10.41209843716269,
          10.564918585375498,
          10.717738733588305,
          10.870558881801113,
          11.02337903001392,
          11.176199178226728,
          11.329019326439536,
          11.481839474652343,
          11.63465962286515,
          11.787479771077956,
          11.940299919290764,
          12.093120067503571,
          12.245940215716379,
          12.398760363929187,
          12.551580512141994,
          12.7044006603548,
          12.857220808567607,
          13.010040956780415,
          13.162861104993222,
          13.31568125320603,
          13.468501401418838,
          13.621321549631645,
          13.774141697844453,
          13.92696184605726,
          14.079781994270068,
          14.232602142482875,
          14.385422290695683,
          14.53824243890849,
          14.691062587121298,
          14.843882735334105,
          14.996702883546913,
          15.149523031759719,
          15.302343179972526,
          15.455163328185334,
          15.607983476398141,
          15.760803624610949,
          15.913623772823756,
          16.066443921036566,
          16.21926406924937,
          16.37208421746218,
          16.524904365674985,
          16.677724513887796,
          16.8305446621006,
          16.98336481031341,
          17.136184958526215,
          17.289005106739022,
          17.44182525495183,
          17.594645403164638,
          17.747465551377445,
          17.900285699590253,
          18.05310584780306,
          18.205925996015868,
          18.358746144228675,
          18.511566292441483,
          18.66438644065429,
          18.817206588867098,
          18.970026737079905,
          19.12284688529271,
          19.27566703350552,
          19.428487181718324,
          19.581307329931136,
          19.73412747814394,
          19.88694762635675,
          20.039767774569555,
          20.192587922782366,
          20.34540807099517,
          20.49822821920798,
          20.651048367420785,
          20.803868515633596,
          20.9566886638464,
          21.10950881205921,
          21.262328960272015,
          21.415149108484826
         ]
        },
        {
         "line": {
          "color": "#56B4E9",
          "dash": "dot"
         },
         "marker": {
          "line": {
           "color": "DarkSlateGrey",
           "width": 0
          },
          "size": 8
         },
         "mode": "lines",
         "name": "small – CLASSIC_AT (r=0.75, p=0.052)",
         "type": "scatter",
         "x": [
          0.28044444444444444,
          0.3698555395222062,
          0.45926663459996786,
          0.5486777296777297,
          0.6380888247554913,
          0.727499919833253,
          0.8169110149110148,
          0.9063221099887766,
          0.9957332050665382,
          1.0851443001443,
          1.1745553952220618,
          1.2639664902998233,
          1.3533775853775851,
          1.442788680455347,
          1.5321997755331087,
          1.6216108706108703,
          1.711021965688632,
          1.8004330607663939,
          1.8898441558441554,
          1.9792552509219172,
          2.068666345999679,
          2.1580774410774404,
          2.247488536155202,
          2.336899631232964,
          2.4263107263107258,
          2.5157218213884875,
          2.6051329164662493,
          2.694544011544011,
          2.783955106621773,
          2.8733662016995343,
          2.962777296777296,
          3.052188391855058,
          3.1415994869328197,
          3.2310105820105814,
          3.3204216770883432,
          3.409832772166105,
          3.4992438672438664,
          3.588654962321628,
          3.67806605739939,
          3.7674771524771518,
          3.8568882475549136,
          3.9462993426326753,
          4.035710437710437,
          4.1251215327881985,
          4.21453262786596,
          4.303943722943721,
          4.393354818021483,
          4.482765913099245,
          4.572177008177007,
          4.661588103254768,
          4.75099919833253,
          4.840410293410292,
          4.929821388488054,
          5.0192324835658155,
          5.108643578643577,
          5.198054673721339,
          5.287465768799101,
          5.376876863876863,
          5.466287958954624,
          5.555699054032385,
          5.645110149110147,
          5.734521244187909,
          5.823932339265671,
          5.913343434343433,
          6.002754529421194,
          6.092165624498956,
          6.181576719576718,
          6.27098781465448,
          6.3603989097322415,
          6.449810004810003,
          6.539221099887765,
          6.628632194965526,
          6.718043290043288,
          6.80745438512105,
          6.896865480198811,
          6.986276575276573,
          7.075687670354335,
          7.165098765432097,
          7.254509860509859,
          7.34392095558762,
          7.433332050665382,
          7.522743145743144,
          7.612154240820906,
          7.7015653358986675,
          7.7909764309764284,
          7.88038752605419,
          7.969798621131952,
          8.059209716209715,
          8.148620811287476,
          8.238031906365238,
          8.327443001443,
          8.416854096520762,
          8.506265191598523,
          8.595676286676285,
          8.685087381754046,
          8.774498476831809,
          8.86390957190957,
          8.953320666987333,
          9.042731762065094,
          9.132142857142856
         ],
         "y": [
          6.418758076244165,
          6.524919354039156,
          6.631080631834147,
          6.737241909629137,
          6.843403187424128,
          6.949564465219119,
          7.05572574301411,
          7.1618870208091,
          7.268048298604091,
          7.374209576399082,
          7.4803708541940725,
          7.586532131989063,
          7.692693409784054,
          7.798854687579045,
          7.9050159653740355,
          8.011177243169026,
          8.117338520964017,
          8.223499798759008,
          8.329661076553998,
          8.43582235434899,
          8.54198363214398,
          8.64814490993897,
          8.75430618773396,
          8.860467465528952,
          8.966628743323941,
          9.072790021118934,
          9.178951298913923,
          9.285112576708915,
          9.391273854503904,
          9.497435132298895,
          9.603596410093886,
          9.709757687888878,
          9.815918965683867,
          9.92208024347886,
          10.028241521273848,
          10.134402799068841,
          10.24056407686383,
          10.34672535465882,
          10.452886632453811,
          10.559047910248804,
          10.665209188043793,
          10.771370465838785,
          10.877531743633774,
          10.983693021428765,
          11.089854299223756,
          11.196015577018745,
          11.302176854813737,
          11.408338132608726,
          11.514499410403719,
          11.620660688198708,
          11.7268219659937,
          11.83298324378869,
          11.939144521583682,
          12.04530579937867,
          12.151467077173663,
          12.257628354968654,
          12.363789632763645,
          12.469950910558635,
          12.576112188353626,
          12.682273466148615,
          12.788434743943608,
          12.894596021738597,
          13.00075729953359,
          13.106918577328578,
          13.21307985512357,
          13.31924113291856,
          13.425402410713552,
          13.531563688508541,
          13.637724966303534,
          13.743886244098523,
          13.850047521893515,
          13.956208799688504,
          14.062370077483495,
          14.168531355278486,
          14.274692633073476,
          14.380853910868467,
          14.487015188663458,
          14.593176466458448,
          14.69933774425344,
          14.80549902204843,
          14.91166029984342,
          15.017821577638411,
          15.123982855433402,
          15.230144133228393,
          15.336305411023384,
          15.442466688818374,
          15.548627966613365,
          15.654789244408356,
          15.760950522203347,
          15.867111799998337,
          15.973273077793328,
          16.07943435558832,
          16.185595633383308,
          16.291756911178304,
          16.397918188973293,
          16.50407946676828,
          16.61024074456327,
          16.716402022358267,
          16.822563300153256,
          16.928724577948245
         ]
        },
        {
         "line": {
          "color": "#009E73",
          "dash": "solid"
         },
         "marker": {
          "line": {
           "color": "DarkSlateGrey",
           "width": 0
          },
          "size": 8
         },
         "mode": "lines",
         "name": "medium – TRADES_v2 (r=0.74, p=0.002)",
         "type": "scatter",
         "x": [
          0.28044444444444444,
          0.3698555395222062,
          0.45926663459996786,
          0.5486777296777297,
          0.6380888247554913,
          0.727499919833253,
          0.8169110149110148,
          0.9063221099887766,
          0.9957332050665382,
          1.0851443001443,
          1.1745553952220618,
          1.2639664902998233,
          1.3533775853775851,
          1.442788680455347,
          1.5321997755331087,
          1.6216108706108703,
          1.711021965688632,
          1.8004330607663939,
          1.8898441558441554,
          1.9792552509219172,
          2.068666345999679,
          2.1580774410774404,
          2.247488536155202,
          2.336899631232964,
          2.4263107263107258,
          2.5157218213884875,
          2.6051329164662493,
          2.694544011544011,
          2.783955106621773,
          2.8733662016995343,
          2.962777296777296,
          3.052188391855058,
          3.1415994869328197,
          3.2310105820105814,
          3.3204216770883432,
          3.409832772166105,
          3.4992438672438664,
          3.588654962321628,
          3.67806605739939,
          3.7674771524771518,
          3.8568882475549136,
          3.9462993426326753,
          4.035710437710437,
          4.1251215327881985,
          4.21453262786596,
          4.303943722943721,
          4.393354818021483,
          4.482765913099245,
          4.572177008177007,
          4.661588103254768,
          4.75099919833253,
          4.840410293410292,
          4.929821388488054,
          5.0192324835658155,
          5.108643578643577,
          5.198054673721339,
          5.287465768799101,
          5.376876863876863,
          5.466287958954624,
          5.555699054032385,
          5.645110149110147,
          5.734521244187909,
          5.823932339265671,
          5.913343434343433,
          6.002754529421194,
          6.092165624498956,
          6.181576719576718,
          6.27098781465448,
          6.3603989097322415,
          6.449810004810003,
          6.539221099887765,
          6.628632194965526,
          6.718043290043288,
          6.80745438512105,
          6.896865480198811,
          6.986276575276573,
          7.075687670354335,
          7.165098765432097,
          7.254509860509859,
          7.34392095558762,
          7.433332050665382,
          7.522743145743144,
          7.612154240820906,
          7.7015653358986675,
          7.7909764309764284,
          7.88038752605419,
          7.969798621131952,
          8.059209716209715,
          8.148620811287476,
          8.238031906365238,
          8.327443001443,
          8.416854096520762,
          8.506265191598523,
          8.595676286676285,
          8.685087381754046,
          8.774498476831809,
          8.86390957190957,
          8.953320666987333,
          9.042731762065094,
          9.132142857142856
         ],
         "y": [
          6.021230847012352,
          6.132556057896479,
          6.243881268780605,
          6.355206479664731,
          6.466531690548857,
          6.577856901432983,
          6.689182112317109,
          6.800507323201236,
          6.911832534085361,
          7.023157744969488,
          7.134482955853614,
          7.24580816673774,
          7.357133377621866,
          7.468458588505992,
          7.5797837993901185,
          7.6911090102742445,
          7.8024342211583715,
          7.913759432042497,
          8.025084642926624,
          8.136409853810749,
          8.247735064694876,
          8.359060275579,
          8.470385486463128,
          8.581710697347255,
          8.69303590823138,
          8.804361119115507,
          8.915686329999632,
          9.027011540883759,
          9.138336751767884,
          9.249661962652011,
          9.360987173536138,
          9.472312384420263,
          9.58363759530439,
          9.694962806188517,
          9.806288017072642,
          9.917613227956767,
          10.028938438840894,
          10.140263649725021,
          10.251588860609147,
          10.362914071493272,
          10.474239282377399,
          10.585564493261526,
          10.69688970414565,
          10.808214915029776,
          10.919540125913905,
          11.03086533679803,
          11.142190547682155,
          11.25351575856628,
          11.364840969450407,
          11.476166180334534,
          11.58749139121866,
          11.698816602102786,
          11.810141812986913,
          11.921467023871038,
          12.032792234755165,
          12.144117445639292,
          12.255442656523417,
          12.366767867407543,
          12.478093078291668,
          12.589418289175795,
          12.700743500059922,
          12.812068710944047,
          12.923393921828174,
          13.0347191327123,
          13.146044343596426,
          13.257369554480553,
          13.36869476536468,
          13.480019976248805,
          13.59134518713293,
          13.702670398017057,
          13.813995608901184,
          13.92532081978531,
          14.036646030669436,
          14.147971241553561,
          14.259296452437688,
          14.370621663321813,
          14.48194687420594,
          14.593272085090067,
          14.704597295974192,
          14.81592250685832,
          14.927247717742445,
          15.038572928626571,
          15.149898139510698,
          15.261223350394824,
          15.372548561278949,
          15.483873772163076,
          15.5951989830472,
          15.70652419393133,
          15.817849404815455,
          15.929174615699582,
          16.040499826583705,
          16.151825037467834,
          16.26315024835196,
          16.374475459236088,
          16.485800670120213,
          16.597125881004338,
          16.708451091888463,
          16.819776302772592,
          16.931101513656717,
          17.042426724540846
         ]
        },
        {
         "line": {
          "color": "#009E73",
          "dash": "dot"
         },
         "marker": {
          "line": {
           "color": "DarkSlateGrey",
           "width": 0
          },
          "size": 8
         },
         "mode": "lines",
         "name": "medium – CLASSIC_AT (r=0.34, p=0.221)",
         "type": "scatter",
         "x": [
          0.28044444444444444,
          0.3698555395222062,
          0.45926663459996786,
          0.5486777296777297,
          0.6380888247554913,
          0.727499919833253,
          0.8169110149110148,
          0.9063221099887766,
          0.9957332050665382,
          1.0851443001443,
          1.1745553952220618,
          1.2639664902998233,
          1.3533775853775851,
          1.442788680455347,
          1.5321997755331087,
          1.6216108706108703,
          1.711021965688632,
          1.8004330607663939,
          1.8898441558441554,
          1.9792552509219172,
          2.068666345999679,
          2.1580774410774404,
          2.247488536155202,
          2.336899631232964,
          2.4263107263107258,
          2.5157218213884875,
          2.6051329164662493,
          2.694544011544011,
          2.783955106621773,
          2.8733662016995343,
          2.962777296777296,
          3.052188391855058,
          3.1415994869328197,
          3.2310105820105814,
          3.3204216770883432,
          3.409832772166105,
          3.4992438672438664,
          3.588654962321628,
          3.67806605739939,
          3.7674771524771518,
          3.8568882475549136,
          3.9462993426326753,
          4.035710437710437,
          4.1251215327881985,
          4.21453262786596,
          4.303943722943721,
          4.393354818021483,
          4.482765913099245,
          4.572177008177007,
          4.661588103254768,
          4.75099919833253,
          4.840410293410292,
          4.929821388488054,
          5.0192324835658155,
          5.108643578643577,
          5.198054673721339,
          5.287465768799101,
          5.376876863876863,
          5.466287958954624,
          5.555699054032385,
          5.645110149110147,
          5.734521244187909,
          5.823932339265671,
          5.913343434343433,
          6.002754529421194,
          6.092165624498956,
          6.181576719576718,
          6.27098781465448,
          6.3603989097322415,
          6.449810004810003,
          6.539221099887765,
          6.628632194965526,
          6.718043290043288,
          6.80745438512105,
          6.896865480198811,
          6.986276575276573,
          7.075687670354335,
          7.165098765432097,
          7.254509860509859,
          7.34392095558762,
          7.433332050665382,
          7.522743145743144,
          7.612154240820906,
          7.7015653358986675,
          7.7909764309764284,
          7.88038752605419,
          7.969798621131952,
          8.059209716209715,
          8.148620811287476,
          8.238031906365238,
          8.327443001443,
          8.416854096520762,
          8.506265191598523,
          8.595676286676285,
          8.685087381754046,
          8.774498476831809,
          8.86390957190957,
          8.953320666987333,
          9.042731762065094,
          9.132142857142856
         ],
         "y": [
          7.09191287248286,
          7.137164632520435,
          7.18241639255801,
          7.227668152595585,
          7.27291991263316,
          7.318171672670735,
          7.363423432708309,
          7.408675192745885,
          7.453926952783459,
          7.499178712821034,
          7.544430472858609,
          7.589682232896184,
          7.6349339929337585,
          7.680185752971333,
          7.725437513008909,
          7.770689273046483,
          7.815941033084058,
          7.861192793121633,
          7.906444553159208,
          7.951696313196782,
          7.996948073234357,
          8.042199833271932,
          8.087451593309506,
          8.132703353347082,
          8.177955113384657,
          8.223206873422232,
          8.268458633459806,
          8.31371039349738,
          8.358962153534957,
          8.404213913572532,
          8.449465673610106,
          8.494717433647681,
          8.539969193685256,
          8.58522095372283,
          8.630472713760405,
          8.675724473797981,
          8.720976233835556,
          8.76622799387313,
          8.811479753910705,
          8.85673151394828,
          8.901983273985854,
          8.94723503402343,
          8.992486794061005,
          9.03773855409858,
          9.082990314136154,
          9.128242074173729,
          9.173493834211303,
          9.218745594248878,
          9.263997354286452,
          9.309249114324029,
          9.354500874361603,
          9.399752634399178,
          9.445004394436753,
          9.490256154474327,
          9.535507914511903,
          9.580759674549478,
          9.626011434587053,
          9.671263194624627,
          9.716514954662202,
          9.761766714699776,
          9.807018474737351,
          9.852270234774927,
          9.8975219948125,
          9.942773754850077,
          9.988025514887651,
          10.033277274925226,
          10.0785290349628,
          10.123780795000375,
          10.169032555037951,
          10.214284315075526,
          10.2595360751131,
          10.304787835150675,
          10.35003959518825,
          10.395291355225824,
          10.440543115263399,
          10.485794875300975,
          10.53104663533855,
          10.576298395376124,
          10.621550155413699,
          10.666801915451273,
          10.71205367548885,
          10.757305435526424,
          10.802557195563999,
          10.847808955601574,
          10.893060715639148,
          10.938312475676723,
          10.983564235714297,
          11.028815995751874,
          11.074067755789446,
          11.119319515827023,
          11.164571275864597,
          11.209823035902172,
          11.255074795939748,
          11.300326555977321,
          11.345578316014898,
          11.390830076052472,
          11.436081836090047,
          11.481333596127623,
          11.526585356165196,
          11.571837116202772
         ]
        }
       ],
       "layout": {
        "height": 400,
        "legend": {
         "bgcolor": "rgba(255,255,255,1)",
         "bordercolor": "lightgrey",
         "borderwidth": 1,
         "font": {
          "size": 12
         },
         "title": {
          "text": "Legend"
         },
         "tracegroupgap": 0,
         "y": 0.85
        },
        "margin": {
         "b": 0,
         "l": 0,
         "r": 0,
         "t": 0
        },
        "paper_bgcolor": "white",
        "plot_bgcolor": "white",
        "template": {
         "data": {
          "bar": [
           {
            "error_x": {
             "color": "#2a3f5f"
            },
            "error_y": {
             "color": "#2a3f5f"
            },
            "marker": {
             "line": {
              "color": "#E5ECF6",
              "width": 0.5
             },
             "pattern": {
              "fillmode": "overlay",
              "size": 10,
              "solidity": 0.2
             }
            },
            "type": "bar"
           }
          ],
          "barpolar": [
           {
            "marker": {
             "line": {
              "color": "#E5ECF6",
              "width": 0.5
             },
             "pattern": {
              "fillmode": "overlay",
              "size": 10,
              "solidity": 0.2
             }
            },
            "type": "barpolar"
           }
          ],
          "carpet": [
           {
            "aaxis": {
             "endlinecolor": "#2a3f5f",
             "gridcolor": "white",
             "linecolor": "white",
             "minorgridcolor": "white",
             "startlinecolor": "#2a3f5f"
            },
            "baxis": {
             "endlinecolor": "#2a3f5f",
             "gridcolor": "white",
             "linecolor": "white",
             "minorgridcolor": "white",
             "startlinecolor": "#2a3f5f"
            },
            "type": "carpet"
           }
          ],
          "choropleth": [
           {
            "colorbar": {
             "outlinewidth": 0,
             "ticks": ""
            },
            "type": "choropleth"
           }
          ],
          "contour": [
           {
            "colorbar": {
             "outlinewidth": 0,
             "ticks": ""
            },
            "colorscale": [
             [
              0,
              "#0d0887"
             ],
             [
              0.1111111111111111,
              "#46039f"
             ],
             [
              0.2222222222222222,
              "#7201a8"
             ],
             [
              0.3333333333333333,
              "#9c179e"
             ],
             [
              0.4444444444444444,
              "#bd3786"
             ],
             [
              0.5555555555555556,
              "#d8576b"
             ],
             [
              0.6666666666666666,
              "#ed7953"
             ],
             [
              0.7777777777777778,
              "#fb9f3a"
             ],
             [
              0.8888888888888888,
              "#fdca26"
             ],
             [
              1,
              "#f0f921"
             ]
            ],
            "type": "contour"
           }
          ],
          "contourcarpet": [
           {
            "colorbar": {
             "outlinewidth": 0,
             "ticks": ""
            },
            "type": "contourcarpet"
           }
          ],
          "heatmap": [
           {
            "colorbar": {
             "outlinewidth": 0,
             "ticks": ""
            },
            "colorscale": [
             [
              0,
              "#0d0887"
             ],
             [
              0.1111111111111111,
              "#46039f"
             ],
             [
              0.2222222222222222,
              "#7201a8"
             ],
             [
              0.3333333333333333,
              "#9c179e"
             ],
             [
              0.4444444444444444,
              "#bd3786"
             ],
             [
              0.5555555555555556,
              "#d8576b"
             ],
             [
              0.6666666666666666,
              "#ed7953"
             ],
             [
              0.7777777777777778,
              "#fb9f3a"
             ],
             [
              0.8888888888888888,
              "#fdca26"
             ],
             [
              1,
              "#f0f921"
             ]
            ],
            "type": "heatmap"
           }
          ],
          "heatmapgl": [
           {
            "colorbar": {
             "outlinewidth": 0,
             "ticks": ""
            },
            "colorscale": [
             [
              0,
              "#0d0887"
             ],
             [
              0.1111111111111111,
              "#46039f"
             ],
             [
              0.2222222222222222,
              "#7201a8"
             ],
             [
              0.3333333333333333,
              "#9c179e"
             ],
             [
              0.4444444444444444,
              "#bd3786"
             ],
             [
              0.5555555555555556,
              "#d8576b"
             ],
             [
              0.6666666666666666,
              "#ed7953"
             ],
             [
              0.7777777777777778,
              "#fb9f3a"
             ],
             [
              0.8888888888888888,
              "#fdca26"
             ],
             [
              1,
              "#f0f921"
             ]
            ],
            "type": "heatmapgl"
           }
          ],
          "histogram": [
           {
            "marker": {
             "pattern": {
              "fillmode": "overlay",
              "size": 10,
              "solidity": 0.2
             }
            },
            "type": "histogram"
           }
          ],
          "histogram2d": [
           {
            "colorbar": {
             "outlinewidth": 0,
             "ticks": ""
            },
            "colorscale": [
             [
              0,
              "#0d0887"
             ],
             [
              0.1111111111111111,
              "#46039f"
             ],
             [
              0.2222222222222222,
              "#7201a8"
             ],
             [
              0.3333333333333333,
              "#9c179e"
             ],
             [
              0.4444444444444444,
              "#bd3786"
             ],
             [
              0.5555555555555556,
              "#d8576b"
             ],
             [
              0.6666666666666666,
              "#ed7953"
             ],
             [
              0.7777777777777778,
              "#fb9f3a"
             ],
             [
              0.8888888888888888,
              "#fdca26"
             ],
             [
              1,
              "#f0f921"
             ]
            ],
            "type": "histogram2d"
           }
          ],
          "histogram2dcontour": [
           {
            "colorbar": {
             "outlinewidth": 0,
             "ticks": ""
            },
            "colorscale": [
             [
              0,
              "#0d0887"
             ],
             [
              0.1111111111111111,
              "#46039f"
             ],
             [
              0.2222222222222222,
              "#7201a8"
             ],
             [
              0.3333333333333333,
              "#9c179e"
             ],
             [
              0.4444444444444444,
              "#bd3786"
             ],
             [
              0.5555555555555556,
              "#d8576b"
             ],
             [
              0.6666666666666666,
              "#ed7953"
             ],
             [
              0.7777777777777778,
              "#fb9f3a"
             ],
             [
              0.8888888888888888,
              "#fdca26"
             ],
             [
              1,
              "#f0f921"
             ]
            ],
            "type": "histogram2dcontour"
           }
          ],
          "mesh3d": [
           {
            "colorbar": {
             "outlinewidth": 0,
             "ticks": ""
            },
            "type": "mesh3d"
           }
          ],
          "parcoords": [
           {
            "line": {
             "colorbar": {
              "outlinewidth": 0,
              "ticks": ""
             }
            },
            "type": "parcoords"
           }
          ],
          "pie": [
           {
            "automargin": true,
            "type": "pie"
           }
          ],
          "scatter": [
           {
            "fillpattern": {
             "fillmode": "overlay",
             "size": 10,
             "solidity": 0.2
            },
            "type": "scatter"
           }
          ],
          "scatter3d": [
           {
            "line": {
             "colorbar": {
              "outlinewidth": 0,
              "ticks": ""
             }
            },
            "marker": {
             "colorbar": {
              "outlinewidth": 0,
              "ticks": ""
             }
            },
            "type": "scatter3d"
           }
          ],
          "scattercarpet": [
           {
            "marker": {
             "colorbar": {
              "outlinewidth": 0,
              "ticks": ""
             }
            },
            "type": "scattercarpet"
           }
          ],
          "scattergeo": [
           {
            "marker": {
             "colorbar": {
              "outlinewidth": 0,
              "ticks": ""
             }
            },
            "type": "scattergeo"
           }
          ],
          "scattergl": [
           {
            "marker": {
             "colorbar": {
              "outlinewidth": 0,
              "ticks": ""
             }
            },
            "type": "scattergl"
           }
          ],
          "scattermapbox": [
           {
            "marker": {
             "colorbar": {
              "outlinewidth": 0,
              "ticks": ""
             }
            },
            "type": "scattermapbox"
           }
          ],
          "scatterpolar": [
           {
            "marker": {
             "colorbar": {
              "outlinewidth": 0,
              "ticks": ""
             }
            },
            "type": "scatterpolar"
           }
          ],
          "scatterpolargl": [
           {
            "marker": {
             "colorbar": {
              "outlinewidth": 0,
              "ticks": ""
             }
            },
            "type": "scatterpolargl"
           }
          ],
          "scatterternary": [
           {
            "marker": {
             "colorbar": {
              "outlinewidth": 0,
              "ticks": ""
             }
            },
            "type": "scatterternary"
           }
          ],
          "surface": [
           {
            "colorbar": {
             "outlinewidth": 0,
             "ticks": ""
            },
            "colorscale": [
             [
              0,
              "#0d0887"
             ],
             [
              0.1111111111111111,
              "#46039f"
             ],
             [
              0.2222222222222222,
              "#7201a8"
             ],
             [
              0.3333333333333333,
              "#9c179e"
             ],
             [
              0.4444444444444444,
              "#bd3786"
             ],
             [
              0.5555555555555556,
              "#d8576b"
             ],
             [
              0.6666666666666666,
              "#ed7953"
             ],
             [
              0.7777777777777778,
              "#fb9f3a"
             ],
             [
              0.8888888888888888,
              "#fdca26"
             ],
             [
              1,
              "#f0f921"
             ]
            ],
            "type": "surface"
           }
          ],
          "table": [
           {
            "cells": {
             "fill": {
              "color": "#EBF0F8"
             },
             "line": {
              "color": "white"
             }
            },
            "header": {
             "fill": {
              "color": "#C8D4E3"
             },
             "line": {
              "color": "white"
             }
            },
            "type": "table"
           }
          ]
         },
         "layout": {
          "annotationdefaults": {
           "arrowcolor": "#2a3f5f",
           "arrowhead": 0,
           "arrowwidth": 1
          },
          "autotypenumbers": "strict",
          "coloraxis": {
           "colorbar": {
            "outlinewidth": 0,
            "ticks": ""
           }
          },
          "colorscale": {
           "diverging": [
            [
             0,
             "#8e0152"
            ],
            [
             0.1,
             "#c51b7d"
            ],
            [
             0.2,
             "#de77ae"
            ],
            [
             0.3,
             "#f1b6da"
            ],
            [
             0.4,
             "#fde0ef"
            ],
            [
             0.5,
             "#f7f7f7"
            ],
            [
             0.6,
             "#e6f5d0"
            ],
            [
             0.7,
             "#b8e186"
            ],
            [
             0.8,
             "#7fbc41"
            ],
            [
             0.9,
             "#4d9221"
            ],
            [
             1,
             "#276419"
            ]
           ],
           "sequential": [
            [
             0,
             "#0d0887"
            ],
            [
             0.1111111111111111,
             "#46039f"
            ],
            [
             0.2222222222222222,
             "#7201a8"
            ],
            [
             0.3333333333333333,
             "#9c179e"
            ],
            [
             0.4444444444444444,
             "#bd3786"
            ],
            [
             0.5555555555555556,
             "#d8576b"
            ],
            [
             0.6666666666666666,
             "#ed7953"
            ],
            [
             0.7777777777777778,
             "#fb9f3a"
            ],
            [
             0.8888888888888888,
             "#fdca26"
            ],
            [
             1,
             "#f0f921"
            ]
           ],
           "sequentialminus": [
            [
             0,
             "#0d0887"
            ],
            [
             0.1111111111111111,
             "#46039f"
            ],
            [
             0.2222222222222222,
             "#7201a8"
            ],
            [
             0.3333333333333333,
             "#9c179e"
            ],
            [
             0.4444444444444444,
             "#bd3786"
            ],
            [
             0.5555555555555556,
             "#d8576b"
            ],
            [
             0.6666666666666666,
             "#ed7953"
            ],
            [
             0.7777777777777778,
             "#fb9f3a"
            ],
            [
             0.8888888888888888,
             "#fdca26"
            ],
            [
             1,
             "#f0f921"
            ]
           ]
          },
          "colorway": [
           "#636efa",
           "#EF553B",
           "#00cc96",
           "#ab63fa",
           "#FFA15A",
           "#19d3f3",
           "#FF6692",
           "#B6E880",
           "#FF97FF",
           "#FECB52"
          ],
          "font": {
           "color": "#2a3f5f"
          },
          "geo": {
           "bgcolor": "white",
           "lakecolor": "white",
           "landcolor": "#E5ECF6",
           "showlakes": true,
           "showland": true,
           "subunitcolor": "white"
          },
          "hoverlabel": {
           "align": "left"
          },
          "hovermode": "closest",
          "mapbox": {
           "style": "light"
          },
          "paper_bgcolor": "white",
          "plot_bgcolor": "#E5ECF6",
          "polar": {
           "angularaxis": {
            "gridcolor": "white",
            "linecolor": "white",
            "ticks": ""
           },
           "bgcolor": "#E5ECF6",
           "radialaxis": {
            "gridcolor": "white",
            "linecolor": "white",
            "ticks": ""
           }
          },
          "scene": {
           "xaxis": {
            "backgroundcolor": "#E5ECF6",
            "gridcolor": "white",
            "gridwidth": 2,
            "linecolor": "white",
            "showbackground": true,
            "ticks": "",
            "zerolinecolor": "white"
           },
           "yaxis": {
            "backgroundcolor": "#E5ECF6",
            "gridcolor": "white",
            "gridwidth": 2,
            "linecolor": "white",
            "showbackground": true,
            "ticks": "",
            "zerolinecolor": "white"
           },
           "zaxis": {
            "backgroundcolor": "#E5ECF6",
            "gridcolor": "white",
            "gridwidth": 2,
            "linecolor": "white",
            "showbackground": true,
            "ticks": "",
            "zerolinecolor": "white"
           }
          },
          "shapedefaults": {
           "line": {
            "color": "#2a3f5f"
           }
          },
          "ternary": {
           "aaxis": {
            "gridcolor": "white",
            "linecolor": "white",
            "ticks": ""
           },
           "baxis": {
            "gridcolor": "white",
            "linecolor": "white",
            "ticks": ""
           },
           "bgcolor": "#E5ECF6",
           "caxis": {
            "gridcolor": "white",
            "linecolor": "white",
            "ticks": ""
           }
          },
          "title": {
           "x": 0.05
          },
          "xaxis": {
           "automargin": true,
           "gridcolor": "white",
           "linecolor": "white",
           "ticks": "",
           "title": {
            "standoff": 15
           },
           "zerolinecolor": "white",
           "zerolinewidth": 2
          },
          "yaxis": {
           "automargin": true,
           "gridcolor": "white",
           "linecolor": "white",
           "ticks": "",
           "title": {
            "standoff": 15
           },
           "zerolinecolor": "white",
           "zerolinewidth": 2
          }
         }
        },
        "width": 800,
        "xaxis": {
         "anchor": "y",
         "domain": [
          0,
          1
         ],
         "gridcolor": "lightgrey",
         "range": [
          -0.25,
          8.25
         ],
         "showgrid": true,
         "title": {
          "text": "LP (50 epochs)"
         }
        },
        "yaxis": {
         "anchor": "x",
         "domain": [
          0,
          1
         ],
         "gridcolor": "lightgrey",
         "range": [
          0,
          20
         ],
         "showgrid": true,
         "title": {
          "text": "FFT (50 epochs)"
         }
        }
       }
      }
     },
     "metadata": {},
     "output_type": "display_data"
    }
   ],
   "source": [
    "import pandas as pd\n",
    "import plotly.express as px\n",
    "import plotly.graph_objects as go\n",
    "from scipy.stats import spearmanr\n",
    "import numpy as np\n",
    "from numpy.linalg import LinAlgError\n",
    "from scipy.stats import linregress\n",
    "\n",
    "import pandas as pd\n",
    "from scipy.stats import spearmanr, pearsonr\n",
    "from process_database import process_grouped_df, process_rankings,global_grouped_dataset\n",
    "\n",
    "\n",
    "grouped_df = global_grouped_dataset(df,)\n",
    "grouped_df = process_rankings(grouped_df)\n",
    "# Flatten the columns\n",
    "grouped_df.columns = ['_'.join(col).strip() if isinstance(col, tuple) else col for col in grouped_df.columns]\n",
    "grouped_df = grouped_df.reset_index()\n",
    "sub_df = grouped_df[[\"ft_strategy\", \"model_type\", \"model_size\", \"backbone\", \"loss_function\", \"TOTAL_score_sum\"]]\n",
    "\n",
    "# ── 1.  Reshape: one row per backbone × loss_function, one column per project\n",
    "pivot_df = sub_df.pivot_table(\n",
    "    index=[\"backbone\", \"loss_function\",  \"model_type\", \"model_size\",],\n",
    "    columns=\"ft_strategy\",\n",
    "    values=\"TOTAL_score_sum\"\n",
    ").reset_index()\n",
    "\n",
    "symbol_map = {\"TRADES_v2\": \"diamond\", \"CLASSIC_AT\": \"star\"}\n",
    "\n",
    "color_palette = [\"#E69F00\", \"#56B4E9\",  \"#009E73\",  ] # \"#009E73\", \"#F0E442\", \"#0072B2\",\"#CC79A7\", \"#D55E00\",\n",
    "unique_sizes = pivot_df[\"model_size\"].unique()\n",
    "color_map = {size: color_palette[i % len(color_palette)] for i, size in enumerate(unique_sizes)}\n",
    "\n",
    "\n",
    "for (x1,x2) in [ (\"FFT (5 epochs)\", \"FFT (50 epochs)\"), (\"LP (50 epochs)\", \"FFT (50 epochs)\") ]:\n",
    "\n",
    "    # Global correlation\n",
    "    pivot_df = pivot_df.fillna(0)\n",
    "    x = pivot_df[x1]\n",
    "    y = pivot_df[x2]\n",
    "    r_global, p_global = spearmanr(x, y)\n",
    "    try:\n",
    "        # m_global, b_global = np.polyfit(x, y, 1)\n",
    "        m_global, b_global, r, p, _ = linregress(x, y)\n",
    "    except Exception as e:\n",
    "        print(f\"Warning: polyfit failed with error: {e}\")\n",
    "        m_global, b_global = 0, y.mean()  # or any safe fallback\n",
    "    x_range = np.linspace(x.min(), x.max(), 100)\n",
    "\n",
    "    # Base scatter plot\n",
    "    fig = px.scatter(\n",
    "        pivot_df,\n",
    "        x=x1,\n",
    "        y=x2,\n",
    "        color=\"model_size\",\n",
    "        symbol=\"loss_function\",\n",
    "        symbol_map=symbol_map,\n",
    "        color_discrete_map=color_map,\n",
    "        labels={\n",
    "            \"full_fine_tuning_5epochs\": \"Fine-tuning (5 epochs)\",\n",
    "            \"full_fine_tuning_50epochs\": \"Fine-tuning (50 epochs)\",\n",
    "            \"linearprobe_50epochs\": \"Linear-probing (50 epochs)\"\n",
    "        },\n",
    "        #title=\"Fine-Tuning Correlation (5 vs 50 Epochs)\"\n",
    "    )\n",
    "\n",
    "    # Global black line\n",
    "    fig.add_trace(go.Scatter(\n",
    "        x=x_range,\n",
    "        y=m_global * x_range + b_global,\n",
    "        mode=\"lines\",\n",
    "        line=dict(color=\"black\", dash=\"solid\", width=2),\n",
    "        name=f\"Global (r={r_global:.2f}, p={p_global:.3f})\"\n",
    "    ))\n",
    "\n",
    "\n",
    "\n",
    "    # Add per-group lines\n",
    "    for model_size in pivot_df[\"model_size\"].unique():\n",
    "        for loss_function, style in zip([\"TRADES_v2\", \"CLASSIC_AT\"], [\"solid\", \"dot\"]):\n",
    "            subset = pivot_df[(pivot_df[\"model_size\"] == model_size) & (pivot_df[\"loss_function\"] == loss_function)]\n",
    "            if len(subset) >= 2:\n",
    "                xg, yg = subset[x1], subset[x2]\n",
    "                rg, pg = spearmanr(xg, yg)\n",
    "\n",
    "                try:\n",
    "                    mg, bg, r, p, _ = linregress(xg, yg)\n",
    "                except Exception as e:\n",
    "                    print(f\"Warning: polyfit failed with error: {e}\")\n",
    "                    mg, bg = 0, yg.mean()  # or any safe fallback\n",
    "                    \n",
    "                fig.add_trace(go.Scatter(\n",
    "                    x=x_range,\n",
    "                    y=mg * x_range + bg,\n",
    "                    mode=\"lines\",\n",
    "                    line=dict(color=color_map[model_size], dash=style),\n",
    "                    name=f\"{model_size} – {loss_function} (r={rg:.2f}, p={pg:.3f})\"\n",
    "                ))\n",
    "\n",
    "    fig.update_layout(yaxis=dict(range=[0, 20]),)\n",
    "    fig.update_layout(xaxis=dict(range=[-0.25, 8.25]),)\n",
    "    # Layout tweaks\n",
    "    fig.update_traces(marker=dict(size=8, line=dict(width=0, color='DarkSlateGrey')))\n",
    "    fig.update_layout(\n",
    "        margin=dict(l=0, r=0, t=0, b=0),  # remove all outer margins\n",
    "        width=800, #if x1=='full_fine_tuning_5epochs' else 488 ,    # in pixels (~2.5 inches at 96 DPI)\n",
    "        height=400,    # in pixels (~1.875 inches)\n",
    "        plot_bgcolor=\"white\",\n",
    "        paper_bgcolor=\"white\",\n",
    "        xaxis=dict(showgrid=True, gridcolor=\"lightgrey\"),\n",
    "        yaxis=dict(showgrid=True, gridcolor=\"lightgrey\"),\n",
    "        legend_title_text=\"Legend\",\n",
    "        #showlegend = True if x1=='full_fine_tuning_5epochs' else False,\n",
    "\n",
    "                    # Legend inside figure\n",
    "        legend=dict(\n",
    "                font=dict(size=12),\n",
    "                y=0.85,           # optional: near the top\n",
    "                bgcolor=\"rgba(255,255,255,1)\",\n",
    "                bordercolor=\"lightgrey\",\n",
    "                borderwidth=1\n",
    "            )\n",
    "    )\n",
    "\n",
    "    fig.show()\n",
    "    fig.write_image(\"./paper_figures/low_cost_proxy_{}.png\".format(x1,x2), scale=3  )\n"
   ]
  },
  {
   "cell_type": "code",
   "execution_count": 13,
   "metadata": {},
   "outputs": [
    {
     "data": {
      "application/vnd.plotly.v1+json": {
       "config": {
        "plotlyServerURL": "https://plot.ly"
       },
       "data": [
        {
         "hovertemplate": "loss_function=CLASSIC_AT<br>FFT (5 epochs)=%{x}<br>FFT (50 epochs)=%{y}<extra></extra>",
         "legendgroup": "CLASSIC_AT",
         "marker": {
          "color": "#56B4E9",
          "line": {
           "width": 0
          },
          "size": 8,
          "symbol": "star"
         },
         "mode": "markers",
         "name": "CLASSIC_AT",
         "orientation": "v",
         "showlegend": true,
         "type": "scatter",
         "x": [
          0.9480952380952381,
          1.0134285714285713,
          0.45199999999999996,
          1.0336190476190477,
          0.47950793650793655,
          0.930063492063492,
          0.47749206349206347,
          3.211460317460317,
          2.328603174603175,
          0.7804285714285714,
          0.9645238095238095,
          1.5594920634920635,
          4.6191587301587305,
          3.9095714285714283,
          0.6436666666666666,
          1.370095238095238,
          0.5146666666666666,
          1.9996666666666667,
          1.448952380952381,
          0.5825714285714285,
          1.2105714285714286,
          1.7192539682539683,
          1.5680952380952382,
          0.9485873015873016,
          7.7293015873015865,
          3.8021904761904763,
          6.600285714285714,
          1.4184761904761907,
          3.9211428571428564,
          0.7648095238095236,
          2.7159523809523813,
          0.7851269841269841,
          2.326380952380952,
          1.5273809523809525,
          0.7363333333333333,
          2.5029682539682536,
          1.659968253968254,
          1.4873809523809525,
          1.1019206349206352,
          1.0684126984126987
         ],
         "xaxis": "x",
         "y": [
          15.419238095238097,
          14.510619047619048,
          6.036095238095239,
          7.354095238095239,
          13.656476190476189,
          14.404333333333332,
          9.757952380952382,
          14.390857142857145,
          15.99288888888889,
          15.127682539682539,
          14.190666666666667,
          13.121666666666666,
          8.96915873015873,
          8.404936507936508,
          7.61152380952381,
          12.877714285714285,
          3.9464285714285716,
          13.163380952380951,
          5.497158730158731,
          8.747539682539681,
          4.924285714285714,
          10.845761904761906,
          7.891190476190476,
          13.771698412698411,
          10.63004761904762,
          11.169269841269841,
          11.786952380952382,
          7.738222222222221,
          16.77236507936508,
          10.30595238095238,
          11.306857142857144,
          8.744079365079365,
          7.513095238095238,
          10.652857142857142,
          8.554015873015873,
          5.8201269841269845,
          2.7429047619047617,
          6.476619047619048,
          6.104857142857144,
          6.640190476190476
         ],
         "yaxis": "y"
        },
        {
         "hovertemplate": "loss_function=TRADES_v2<br>FFT (5 epochs)=%{x}<br>FFT (50 epochs)=%{y}<extra></extra>",
         "legendgroup": "TRADES_v2",
         "marker": {
          "color": "#E69F00",
          "line": {
           "width": 0
          },
          "size": 8,
          "symbol": "diamond"
         },
         "mode": "markers",
         "name": "TRADES_v2",
         "orientation": "v",
         "showlegend": true,
         "type": "scatter",
         "x": [
          4.634952380952382,
          5.568825396825397,
          3.0890476190476193,
          2.481,
          1.193,
          3.3203015873015875,
          1.9308095238095238,
          6.424079365079366,
          5.775333333333333,
          4.635571428571428,
          5.52152380952381,
          1.1317619047619047,
          0.9026190476190475,
          5.391761904761903,
          2.646619047619047,
          3.861761904761905,
          0.5091428571428571,
          5.7492857142857146,
          1.2602380952380952,
          5.7153809523809525,
          0.8911587301587302,
          1.6425238095238097,
          3.2590000000000003,
          3.354571428571429,
          6.071904761904762,
          1.2424285714285714,
          4.334523809523809,
          2.857142857142857,
          7.26968253968254,
          5.6828095238095235,
          4.174904761904761,
          0.8961428571428571,
          0.5341904761904762,
          0.6669047619047619,
          4.898714285714286,
          2.4023650793650795,
          2.3343650793650794,
          2.750571428571429,
          0.9217301587301587,
          0.35160317460317464
         ],
         "xaxis": "x",
         "y": [
          19.396968253968254,
          18.235888888888887,
          15.018015873015873,
          13.198714285714287,
          18.87442857142857,
          18.743904761904762,
          14.625873015873015,
          16.42042857142857,
          19.789301587301587,
          17.01639682539683,
          15.604809523809525,
          15.066190476190478,
          16.489968253968254,
          6.858126984126985,
          11.266238095238098,
          14.662857142857144,
          3.465190476190476,
          17.59952380952381,
          8.368904761904762,
          8.869428571428571,
          5.632666666666666,
          9.000444444444444,
          8.874571428571429,
          16.63130158730159,
          14.712079365079365,
          13.210857142857144,
          9.827396825396825,
          9.284619047619048,
          18.05390476190476,
          9.993523809523811,
          12.497777777777777,
          9.20452380952381,
          7.76604761904762,
          10.922761904761904,
          12.831396825396824,
          15.24073015873016,
          9.144730158730159,
          8.256285714285713,
          8.685698412698413,
          5.332063492063492
         ],
         "yaxis": "y"
        },
        {
         "line": {
          "color": "black",
          "width": 2
         },
         "marker": {
          "line": {
           "width": 0
          },
          "size": 8
         },
         "mode": "lines",
         "name": "Global (r=0.42, p=0.000)",
         "type": "scatter",
         "x": [
          0.35160317460317464,
          0.4261253807920475,
          0.5006475869809204,
          0.5751697931697932,
          0.6496919993586661,
          0.7242142055475389,
          0.7987364117364117,
          0.8732586179252846,
          0.9477808241141574,
          1.0223030303030303,
          1.096825236491903,
          1.171347442680776,
          1.2458696488696488,
          1.3203918550585216,
          1.3949140612473945,
          1.4694362674362673,
          1.5439584736251402,
          1.618480679814013,
          1.6930028860028858,
          1.7675250921917587,
          1.8420472983806315,
          1.9165695045695044,
          1.9910917107583772,
          2.06561391694725,
          2.1401361231361227,
          2.2146583293249957,
          2.2891805355138684,
          2.363702741702741,
          2.438224947891614,
          2.512747154080487,
          2.5872693602693597,
          2.6617915664582323,
          2.7363137726471054,
          2.8108359788359785,
          2.885358185024851,
          2.9598803912137237,
          3.0344025974025968,
          3.10892480359147,
          3.1834470097803425,
          3.257969215969215,
          3.332491422158088,
          3.407013628346961,
          3.481535834535834,
          3.5560580407247064,
          3.6305802469135795,
          3.7051024531024526,
          3.779624659291325,
          3.854146865480198,
          3.928669071669071,
          4.003191277857944,
          4.077713484046817,
          4.152235690235689,
          4.226757896424562,
          4.301280102613435,
          4.3758023088023075,
          4.4503245149911805,
          4.524846721180054,
          4.599368927368927,
          4.6738911335578,
          4.748413339746672,
          4.822935545935545,
          4.897457752124418,
          4.97197995831329,
          5.046502164502163,
          5.121024370691036,
          5.195546576879909,
          5.2700687830687825,
          5.344590989257655,
          5.419113195446528,
          5.493635401635401,
          5.568157607824273,
          5.642679814013146,
          5.717202020202019,
          5.791724226390892,
          5.866246432579765,
          5.940768638768637,
          6.01529084495751,
          6.0898130511463835,
          6.164335257335256,
          6.238857463524129,
          6.313379669713002,
          6.387901875901875,
          6.462424082090748,
          6.53694628827962,
          6.611468494468493,
          6.685990700657366,
          6.760512906846238,
          6.8350351130351115,
          6.9095573192239845,
          6.984079525412858,
          7.058601731601731,
          7.133123937790603,
          7.207646143979476,
          7.282168350168349,
          7.356690556357221,
          7.431212762546094,
          7.505734968734967,
          7.58025717492384,
          7.654779381112713,
          7.7293015873015865
         ],
         "y": [
          9.415619503897389,
          9.481618368570858,
          9.547617233244328,
          9.613616097917799,
          9.679614962591268,
          9.745613827264737,
          9.811612691938208,
          9.877611556611678,
          9.943610421285147,
          10.009609285958616,
          10.075608150632087,
          10.141607015305556,
          10.207605879979026,
          10.273604744652495,
          10.339603609325966,
          10.405602473999435,
          10.471601338672905,
          10.537600203346376,
          10.603599068019845,
          10.669597932693314,
          10.735596797366783,
          10.801595662040254,
          10.867594526713724,
          10.933593391387193,
          10.999592256060662,
          11.065591120734133,
          11.131589985407603,
          11.197588850081072,
          11.263587714754543,
          11.329586579428012,
          11.395585444101481,
          11.46158430877495,
          11.527583173448422,
          11.593582038121891,
          11.65958090279536,
          11.72557976746883,
          11.7915786321423,
          11.85757749681577,
          11.92357636148924,
          11.98957522616271,
          12.05557409083618,
          12.121572955509649,
          12.18757182018312,
          12.253570684856587,
          12.319569549530058,
          12.38556841420353,
          12.451567278876997,
          12.517566143550468,
          12.583565008223937,
          12.649563872897406,
          12.715562737570878,
          12.781561602244347,
          12.847560466917816,
          12.913559331591287,
          12.979558196264755,
          13.045557060938226,
          13.111555925611697,
          13.177554790285164,
          13.243553654958635,
          13.309552519632105,
          13.375551384305574,
          13.441550248979045,
          13.507549113652514,
          13.573547978325983,
          13.639546842999454,
          13.705545707672924,
          13.771544572346393,
          13.837543437019864,
          13.903542301693331,
          13.969541166366803,
          14.035540031040272,
          14.101538895713741,
          14.167537760387212,
          14.233536625060681,
          14.29953548973415,
          14.365534354407622,
          14.431533219081091,
          14.49753208375456,
          14.563530948428031,
          14.629529813101499,
          14.69552867777497,
          14.761527542448441,
          14.82752640712191,
          14.89352527179538,
          14.959524136468849,
          15.025523001142318,
          15.091521865815789,
          15.157520730489258,
          15.223519595162728,
          15.289518459836199,
          15.355517324509668,
          15.421516189183137,
          15.487515053856608,
          15.553513918530077,
          15.619512783203547,
          15.685511647877016,
          15.751510512550485,
          15.817509377223956,
          15.883508241897427,
          15.949507106570895
         ]
        },
        {
         "line": {
          "color": "#56B4E9",
          "dash": "dot"
         },
         "marker": {
          "line": {
           "width": 0
          },
          "size": 8
         },
         "mode": "lines",
         "name": "CLASSIC_AT (r=0.12, p=0.478)",
         "type": "scatter",
         "x": [
          0.35160317460317464,
          0.4261253807920475,
          0.5006475869809204,
          0.5751697931697932,
          0.6496919993586661,
          0.7242142055475389,
          0.7987364117364117,
          0.8732586179252846,
          0.9477808241141574,
          1.0223030303030303,
          1.096825236491903,
          1.171347442680776,
          1.2458696488696488,
          1.3203918550585216,
          1.3949140612473945,
          1.4694362674362673,
          1.5439584736251402,
          1.618480679814013,
          1.6930028860028858,
          1.7675250921917587,
          1.8420472983806315,
          1.9165695045695044,
          1.9910917107583772,
          2.06561391694725,
          2.1401361231361227,
          2.2146583293249957,
          2.2891805355138684,
          2.363702741702741,
          2.438224947891614,
          2.512747154080487,
          2.5872693602693597,
          2.6617915664582323,
          2.7363137726471054,
          2.8108359788359785,
          2.885358185024851,
          2.9598803912137237,
          3.0344025974025968,
          3.10892480359147,
          3.1834470097803425,
          3.257969215969215,
          3.332491422158088,
          3.407013628346961,
          3.481535834535834,
          3.5560580407247064,
          3.6305802469135795,
          3.7051024531024526,
          3.779624659291325,
          3.854146865480198,
          3.928669071669071,
          4.003191277857944,
          4.077713484046817,
          4.152235690235689,
          4.226757896424562,
          4.301280102613435,
          4.3758023088023075,
          4.4503245149911805,
          4.524846721180054,
          4.599368927368927,
          4.6738911335578,
          4.748413339746672,
          4.822935545935545,
          4.897457752124418,
          4.97197995831329,
          5.046502164502163,
          5.121024370691036,
          5.195546576879909,
          5.2700687830687825,
          5.344590989257655,
          5.419113195446528,
          5.493635401635401,
          5.568157607824273,
          5.642679814013146,
          5.717202020202019,
          5.791724226390892,
          5.866246432579765,
          5.940768638768637,
          6.01529084495751,
          6.0898130511463835,
          6.164335257335256,
          6.238857463524129,
          6.313379669713002,
          6.387901875901875,
          6.462424082090748,
          6.53694628827962,
          6.611468494468493,
          6.685990700657366,
          6.760512906846238,
          6.8350351130351115,
          6.9095573192239845,
          6.984079525412858,
          7.058601731601731,
          7.133123937790603,
          7.207646143979476,
          7.282168350168349,
          7.356690556357221,
          7.431212762546094,
          7.505734968734967,
          7.58025717492384,
          7.654779381112713,
          7.7293015873015865
         ],
         "y": [
          9.589411539448445,
          9.613920680076186,
          9.638429820703925,
          9.662938961331664,
          9.687448101959404,
          9.711957242587143,
          9.736466383214882,
          9.760975523842623,
          9.785484664470362,
          9.8099938050981,
          9.834502945725841,
          9.85901208635358,
          9.883521226981319,
          9.908030367609058,
          9.932539508236799,
          9.957048648864538,
          9.981557789492276,
          10.006066930120017,
          10.030576070747756,
          10.055085211375495,
          10.079594352003236,
          10.104103492630975,
          10.128612633258713,
          10.153121773886454,
          10.177630914514193,
          10.202140055141932,
          10.22664919576967,
          10.251158336397411,
          10.27566747702515,
          10.30017661765289,
          10.32468575828063,
          10.349194898908369,
          10.373704039536108,
          10.398213180163848,
          10.422722320791587,
          10.447231461419326,
          10.471740602047067,
          10.496249742674806,
          10.520758883302545,
          10.545268023930284,
          10.569777164558024,
          10.594286305185763,
          10.618795445813502,
          10.643304586441243,
          10.667813727068982,
          10.69232286769672,
          10.716832008324461,
          10.7413411489522,
          10.765850289579939,
          10.79035943020768,
          10.814868570835419,
          10.839377711463158,
          10.863886852090896,
          10.888395992718637,
          10.912905133346376,
          10.937414273974115,
          10.961923414601856,
          10.986432555229594,
          11.010941695857333,
          11.035450836485074,
          11.059959977112813,
          11.084469117740552,
          11.108978258368293,
          11.133487398996031,
          11.15799653962377,
          11.18250568025151,
          11.20701482087925,
          11.231523961506989,
          11.25603310213473,
          11.280542242762468,
          11.305051383390207,
          11.329560524017946,
          11.354069664645687,
          11.378578805273426,
          11.403087945901165,
          11.427597086528905,
          11.452106227156644,
          11.476615367784383,
          11.501124508412122,
          11.525633649039863,
          11.550142789667602,
          11.574651930295342,
          11.599161070923081,
          11.62367021155082,
          11.648179352178559,
          11.6726884928063,
          11.697197633434039,
          11.721706774061778,
          11.746215914689518,
          11.770725055317257,
          11.795234195944996,
          11.819743336572735,
          11.844252477200476,
          11.868761617828214,
          11.893270758455955,
          11.917779899083694,
          11.942289039711433,
          11.966798180339172,
          11.991307320966913,
          12.015816461594651
         ]
        },
        {
         "line": {
          "color": "#E69F00",
          "dash": "dot"
         },
         "marker": {
          "line": {
           "width": 0
          },
          "size": 8
         },
         "mode": "lines",
         "name": "TRADES_v2 (r=0.49, p=0.001)",
         "type": "scatter",
         "x": [
          0.35160317460317464,
          0.4261253807920475,
          0.5006475869809204,
          0.5751697931697932,
          0.6496919993586661,
          0.7242142055475389,
          0.7987364117364117,
          0.8732586179252846,
          0.9477808241141574,
          1.0223030303030303,
          1.096825236491903,
          1.171347442680776,
          1.2458696488696488,
          1.3203918550585216,
          1.3949140612473945,
          1.4694362674362673,
          1.5439584736251402,
          1.618480679814013,
          1.6930028860028858,
          1.7675250921917587,
          1.8420472983806315,
          1.9165695045695044,
          1.9910917107583772,
          2.06561391694725,
          2.1401361231361227,
          2.2146583293249957,
          2.2891805355138684,
          2.363702741702741,
          2.438224947891614,
          2.512747154080487,
          2.5872693602693597,
          2.6617915664582323,
          2.7363137726471054,
          2.8108359788359785,
          2.885358185024851,
          2.9598803912137237,
          3.0344025974025968,
          3.10892480359147,
          3.1834470097803425,
          3.257969215969215,
          3.332491422158088,
          3.407013628346961,
          3.481535834535834,
          3.5560580407247064,
          3.6305802469135795,
          3.7051024531024526,
          3.779624659291325,
          3.854146865480198,
          3.928669071669071,
          4.003191277857944,
          4.077713484046817,
          4.152235690235689,
          4.226757896424562,
          4.301280102613435,
          4.3758023088023075,
          4.4503245149911805,
          4.524846721180054,
          4.599368927368927,
          4.6738911335578,
          4.748413339746672,
          4.822935545935545,
          4.897457752124418,
          4.97197995831329,
          5.046502164502163,
          5.121024370691036,
          5.195546576879909,
          5.2700687830687825,
          5.344590989257655,
          5.419113195446528,
          5.493635401635401,
          5.568157607824273,
          5.642679814013146,
          5.717202020202019,
          5.791724226390892,
          5.866246432579765,
          5.940768638768637,
          6.01529084495751,
          6.0898130511463835,
          6.164335257335256,
          6.238857463524129,
          6.313379669713002,
          6.387901875901875,
          6.462424082090748,
          6.53694628827962,
          6.611468494468493,
          6.685990700657366,
          6.760512906846238,
          6.8350351130351115,
          6.9095573192239845,
          6.984079525412858,
          7.058601731601731,
          7.133123937790603,
          7.207646143979476,
          7.282168350168349,
          7.356690556357221,
          7.431212762546094,
          7.505734968734967,
          7.58025717492384,
          7.654779381112713,
          7.7293015873015865
         ],
         "y": [
          9.701629064079892,
          9.777712786008683,
          9.853796507937474,
          9.929880229866265,
          10.005963951795056,
          10.082047673723846,
          10.158131395652637,
          10.234215117581428,
          10.310298839510219,
          10.38638256143901,
          10.462466283367801,
          10.53855000529659,
          10.614633727225382,
          10.690717449154173,
          10.766801171082964,
          10.842884893011755,
          10.918968614940546,
          10.995052336869335,
          11.071136058798126,
          11.147219780726918,
          11.223303502655709,
          11.2993872245845,
          11.37547094651329,
          11.451554668442082,
          11.527638390370871,
          11.603722112299662,
          11.679805834228453,
          11.755889556157245,
          11.831973278086036,
          11.908057000014827,
          11.984140721943618,
          12.060224443872407,
          12.136308165801198,
          12.21239188772999,
          12.28847560965878,
          12.364559331587571,
          12.44064305351636,
          12.516726775445154,
          12.592810497373943,
          12.668894219302734,
          12.744977941231525,
          12.821061663160316,
          12.897145385089107,
          12.973229107017897,
          13.049312828946688,
          13.125396550875479,
          13.20148027280427,
          13.277563994733061,
          13.35364771666185,
          13.429731438590643,
          13.505815160519433,
          13.581898882448224,
          13.657982604377015,
          13.734066326305806,
          13.810150048234597,
          13.886233770163386,
          13.962317492092179,
          14.038401214020968,
          14.114484935949761,
          14.19056865787855,
          14.266652379807342,
          14.342736101736133,
          14.418819823664922,
          14.494903545593715,
          14.570987267522504,
          14.647070989451297,
          14.723154711380086,
          14.799238433308876,
          14.875322155237669,
          14.951405877166458,
          15.027489599095249,
          15.10357332102404,
          15.179657042952831,
          15.255740764881622,
          15.331824486810413,
          15.407908208739205,
          15.483991930667994,
          15.560075652596787,
          15.636159374525576,
          15.712243096454367,
          15.788326818383158,
          15.86441054031195,
          15.94049426224074,
          16.01657798416953,
          16.092661706098323,
          16.168745428027112,
          16.2448291499559,
          16.320912871884694,
          16.396996593813483,
          16.473080315742276,
          16.549164037671066,
          16.62524775959986,
          16.701331481528648,
          16.777415203457437,
          16.85349892538623,
          16.92958264731502,
          17.005666369243812,
          17.0817500911726,
          17.157833813101394,
          17.233917535030184
         ]
        }
       ],
       "layout": {
        "height": 400,
        "legend": {
         "bgcolor": "rgba(255,255,255,1)",
         "bordercolor": "lightgrey",
         "borderwidth": 1,
         "font": {
          "size": 12
         },
         "title": {
          "text": "loss_function"
         },
         "tracegroupgap": 0,
         "y": 0.85
        },
        "margin": {
         "b": 0,
         "l": 0,
         "r": 0,
         "t": 0
        },
        "paper_bgcolor": "white",
        "plot_bgcolor": "white",
        "template": {
         "data": {
          "bar": [
           {
            "error_x": {
             "color": "#2a3f5f"
            },
            "error_y": {
             "color": "#2a3f5f"
            },
            "marker": {
             "line": {
              "color": "#E5ECF6",
              "width": 0.5
             },
             "pattern": {
              "fillmode": "overlay",
              "size": 10,
              "solidity": 0.2
             }
            },
            "type": "bar"
           }
          ],
          "barpolar": [
           {
            "marker": {
             "line": {
              "color": "#E5ECF6",
              "width": 0.5
             },
             "pattern": {
              "fillmode": "overlay",
              "size": 10,
              "solidity": 0.2
             }
            },
            "type": "barpolar"
           }
          ],
          "carpet": [
           {
            "aaxis": {
             "endlinecolor": "#2a3f5f",
             "gridcolor": "white",
             "linecolor": "white",
             "minorgridcolor": "white",
             "startlinecolor": "#2a3f5f"
            },
            "baxis": {
             "endlinecolor": "#2a3f5f",
             "gridcolor": "white",
             "linecolor": "white",
             "minorgridcolor": "white",
             "startlinecolor": "#2a3f5f"
            },
            "type": "carpet"
           }
          ],
          "choropleth": [
           {
            "colorbar": {
             "outlinewidth": 0,
             "ticks": ""
            },
            "type": "choropleth"
           }
          ],
          "contour": [
           {
            "colorbar": {
             "outlinewidth": 0,
             "ticks": ""
            },
            "colorscale": [
             [
              0,
              "#0d0887"
             ],
             [
              0.1111111111111111,
              "#46039f"
             ],
             [
              0.2222222222222222,
              "#7201a8"
             ],
             [
              0.3333333333333333,
              "#9c179e"
             ],
             [
              0.4444444444444444,
              "#bd3786"
             ],
             [
              0.5555555555555556,
              "#d8576b"
             ],
             [
              0.6666666666666666,
              "#ed7953"
             ],
             [
              0.7777777777777778,
              "#fb9f3a"
             ],
             [
              0.8888888888888888,
              "#fdca26"
             ],
             [
              1,
              "#f0f921"
             ]
            ],
            "type": "contour"
           }
          ],
          "contourcarpet": [
           {
            "colorbar": {
             "outlinewidth": 0,
             "ticks": ""
            },
            "type": "contourcarpet"
           }
          ],
          "heatmap": [
           {
            "colorbar": {
             "outlinewidth": 0,
             "ticks": ""
            },
            "colorscale": [
             [
              0,
              "#0d0887"
             ],
             [
              0.1111111111111111,
              "#46039f"
             ],
             [
              0.2222222222222222,
              "#7201a8"
             ],
             [
              0.3333333333333333,
              "#9c179e"
             ],
             [
              0.4444444444444444,
              "#bd3786"
             ],
             [
              0.5555555555555556,
              "#d8576b"
             ],
             [
              0.6666666666666666,
              "#ed7953"
             ],
             [
              0.7777777777777778,
              "#fb9f3a"
             ],
             [
              0.8888888888888888,
              "#fdca26"
             ],
             [
              1,
              "#f0f921"
             ]
            ],
            "type": "heatmap"
           }
          ],
          "heatmapgl": [
           {
            "colorbar": {
             "outlinewidth": 0,
             "ticks": ""
            },
            "colorscale": [
             [
              0,
              "#0d0887"
             ],
             [
              0.1111111111111111,
              "#46039f"
             ],
             [
              0.2222222222222222,
              "#7201a8"
             ],
             [
              0.3333333333333333,
              "#9c179e"
             ],
             [
              0.4444444444444444,
              "#bd3786"
             ],
             [
              0.5555555555555556,
              "#d8576b"
             ],
             [
              0.6666666666666666,
              "#ed7953"
             ],
             [
              0.7777777777777778,
              "#fb9f3a"
             ],
             [
              0.8888888888888888,
              "#fdca26"
             ],
             [
              1,
              "#f0f921"
             ]
            ],
            "type": "heatmapgl"
           }
          ],
          "histogram": [
           {
            "marker": {
             "pattern": {
              "fillmode": "overlay",
              "size": 10,
              "solidity": 0.2
             }
            },
            "type": "histogram"
           }
          ],
          "histogram2d": [
           {
            "colorbar": {
             "outlinewidth": 0,
             "ticks": ""
            },
            "colorscale": [
             [
              0,
              "#0d0887"
             ],
             [
              0.1111111111111111,
              "#46039f"
             ],
             [
              0.2222222222222222,
              "#7201a8"
             ],
             [
              0.3333333333333333,
              "#9c179e"
             ],
             [
              0.4444444444444444,
              "#bd3786"
             ],
             [
              0.5555555555555556,
              "#d8576b"
             ],
             [
              0.6666666666666666,
              "#ed7953"
             ],
             [
              0.7777777777777778,
              "#fb9f3a"
             ],
             [
              0.8888888888888888,
              "#fdca26"
             ],
             [
              1,
              "#f0f921"
             ]
            ],
            "type": "histogram2d"
           }
          ],
          "histogram2dcontour": [
           {
            "colorbar": {
             "outlinewidth": 0,
             "ticks": ""
            },
            "colorscale": [
             [
              0,
              "#0d0887"
             ],
             [
              0.1111111111111111,
              "#46039f"
             ],
             [
              0.2222222222222222,
              "#7201a8"
             ],
             [
              0.3333333333333333,
              "#9c179e"
             ],
             [
              0.4444444444444444,
              "#bd3786"
             ],
             [
              0.5555555555555556,
              "#d8576b"
             ],
             [
              0.6666666666666666,
              "#ed7953"
             ],
             [
              0.7777777777777778,
              "#fb9f3a"
             ],
             [
              0.8888888888888888,
              "#fdca26"
             ],
             [
              1,
              "#f0f921"
             ]
            ],
            "type": "histogram2dcontour"
           }
          ],
          "mesh3d": [
           {
            "colorbar": {
             "outlinewidth": 0,
             "ticks": ""
            },
            "type": "mesh3d"
           }
          ],
          "parcoords": [
           {
            "line": {
             "colorbar": {
              "outlinewidth": 0,
              "ticks": ""
             }
            },
            "type": "parcoords"
           }
          ],
          "pie": [
           {
            "automargin": true,
            "type": "pie"
           }
          ],
          "scatter": [
           {
            "fillpattern": {
             "fillmode": "overlay",
             "size": 10,
             "solidity": 0.2
            },
            "type": "scatter"
           }
          ],
          "scatter3d": [
           {
            "line": {
             "colorbar": {
              "outlinewidth": 0,
              "ticks": ""
             }
            },
            "marker": {
             "colorbar": {
              "outlinewidth": 0,
              "ticks": ""
             }
            },
            "type": "scatter3d"
           }
          ],
          "scattercarpet": [
           {
            "marker": {
             "colorbar": {
              "outlinewidth": 0,
              "ticks": ""
             }
            },
            "type": "scattercarpet"
           }
          ],
          "scattergeo": [
           {
            "marker": {
             "colorbar": {
              "outlinewidth": 0,
              "ticks": ""
             }
            },
            "type": "scattergeo"
           }
          ],
          "scattergl": [
           {
            "marker": {
             "colorbar": {
              "outlinewidth": 0,
              "ticks": ""
             }
            },
            "type": "scattergl"
           }
          ],
          "scattermapbox": [
           {
            "marker": {
             "colorbar": {
              "outlinewidth": 0,
              "ticks": ""
             }
            },
            "type": "scattermapbox"
           }
          ],
          "scatterpolar": [
           {
            "marker": {
             "colorbar": {
              "outlinewidth": 0,
              "ticks": ""
             }
            },
            "type": "scatterpolar"
           }
          ],
          "scatterpolargl": [
           {
            "marker": {
             "colorbar": {
              "outlinewidth": 0,
              "ticks": ""
             }
            },
            "type": "scatterpolargl"
           }
          ],
          "scatterternary": [
           {
            "marker": {
             "colorbar": {
              "outlinewidth": 0,
              "ticks": ""
             }
            },
            "type": "scatterternary"
           }
          ],
          "surface": [
           {
            "colorbar": {
             "outlinewidth": 0,
             "ticks": ""
            },
            "colorscale": [
             [
              0,
              "#0d0887"
             ],
             [
              0.1111111111111111,
              "#46039f"
             ],
             [
              0.2222222222222222,
              "#7201a8"
             ],
             [
              0.3333333333333333,
              "#9c179e"
             ],
             [
              0.4444444444444444,
              "#bd3786"
             ],
             [
              0.5555555555555556,
              "#d8576b"
             ],
             [
              0.6666666666666666,
              "#ed7953"
             ],
             [
              0.7777777777777778,
              "#fb9f3a"
             ],
             [
              0.8888888888888888,
              "#fdca26"
             ],
             [
              1,
              "#f0f921"
             ]
            ],
            "type": "surface"
           }
          ],
          "table": [
           {
            "cells": {
             "fill": {
              "color": "#EBF0F8"
             },
             "line": {
              "color": "white"
             }
            },
            "header": {
             "fill": {
              "color": "#C8D4E3"
             },
             "line": {
              "color": "white"
             }
            },
            "type": "table"
           }
          ]
         },
         "layout": {
          "annotationdefaults": {
           "arrowcolor": "#2a3f5f",
           "arrowhead": 0,
           "arrowwidth": 1
          },
          "autotypenumbers": "strict",
          "coloraxis": {
           "colorbar": {
            "outlinewidth": 0,
            "ticks": ""
           }
          },
          "colorscale": {
           "diverging": [
            [
             0,
             "#8e0152"
            ],
            [
             0.1,
             "#c51b7d"
            ],
            [
             0.2,
             "#de77ae"
            ],
            [
             0.3,
             "#f1b6da"
            ],
            [
             0.4,
             "#fde0ef"
            ],
            [
             0.5,
             "#f7f7f7"
            ],
            [
             0.6,
             "#e6f5d0"
            ],
            [
             0.7,
             "#b8e186"
            ],
            [
             0.8,
             "#7fbc41"
            ],
            [
             0.9,
             "#4d9221"
            ],
            [
             1,
             "#276419"
            ]
           ],
           "sequential": [
            [
             0,
             "#0d0887"
            ],
            [
             0.1111111111111111,
             "#46039f"
            ],
            [
             0.2222222222222222,
             "#7201a8"
            ],
            [
             0.3333333333333333,
             "#9c179e"
            ],
            [
             0.4444444444444444,
             "#bd3786"
            ],
            [
             0.5555555555555556,
             "#d8576b"
            ],
            [
             0.6666666666666666,
             "#ed7953"
            ],
            [
             0.7777777777777778,
             "#fb9f3a"
            ],
            [
             0.8888888888888888,
             "#fdca26"
            ],
            [
             1,
             "#f0f921"
            ]
           ],
           "sequentialminus": [
            [
             0,
             "#0d0887"
            ],
            [
             0.1111111111111111,
             "#46039f"
            ],
            [
             0.2222222222222222,
             "#7201a8"
            ],
            [
             0.3333333333333333,
             "#9c179e"
            ],
            [
             0.4444444444444444,
             "#bd3786"
            ],
            [
             0.5555555555555556,
             "#d8576b"
            ],
            [
             0.6666666666666666,
             "#ed7953"
            ],
            [
             0.7777777777777778,
             "#fb9f3a"
            ],
            [
             0.8888888888888888,
             "#fdca26"
            ],
            [
             1,
             "#f0f921"
            ]
           ]
          },
          "colorway": [
           "#636efa",
           "#EF553B",
           "#00cc96",
           "#ab63fa",
           "#FFA15A",
           "#19d3f3",
           "#FF6692",
           "#B6E880",
           "#FF97FF",
           "#FECB52"
          ],
          "font": {
           "color": "#2a3f5f"
          },
          "geo": {
           "bgcolor": "white",
           "lakecolor": "white",
           "landcolor": "#E5ECF6",
           "showlakes": true,
           "showland": true,
           "subunitcolor": "white"
          },
          "hoverlabel": {
           "align": "left"
          },
          "hovermode": "closest",
          "mapbox": {
           "style": "light"
          },
          "paper_bgcolor": "white",
          "plot_bgcolor": "#E5ECF6",
          "polar": {
           "angularaxis": {
            "gridcolor": "white",
            "linecolor": "white",
            "ticks": ""
           },
           "bgcolor": "#E5ECF6",
           "radialaxis": {
            "gridcolor": "white",
            "linecolor": "white",
            "ticks": ""
           }
          },
          "scene": {
           "xaxis": {
            "backgroundcolor": "#E5ECF6",
            "gridcolor": "white",
            "gridwidth": 2,
            "linecolor": "white",
            "showbackground": true,
            "ticks": "",
            "zerolinecolor": "white"
           },
           "yaxis": {
            "backgroundcolor": "#E5ECF6",
            "gridcolor": "white",
            "gridwidth": 2,
            "linecolor": "white",
            "showbackground": true,
            "ticks": "",
            "zerolinecolor": "white"
           },
           "zaxis": {
            "backgroundcolor": "#E5ECF6",
            "gridcolor": "white",
            "gridwidth": 2,
            "linecolor": "white",
            "showbackground": true,
            "ticks": "",
            "zerolinecolor": "white"
           }
          },
          "shapedefaults": {
           "line": {
            "color": "#2a3f5f"
           }
          },
          "ternary": {
           "aaxis": {
            "gridcolor": "white",
            "linecolor": "white",
            "ticks": ""
           },
           "baxis": {
            "gridcolor": "white",
            "linecolor": "white",
            "ticks": ""
           },
           "bgcolor": "#E5ECF6",
           "caxis": {
            "gridcolor": "white",
            "linecolor": "white",
            "ticks": ""
           }
          },
          "title": {
           "x": 0.05
          },
          "xaxis": {
           "automargin": true,
           "gridcolor": "white",
           "linecolor": "white",
           "ticks": "",
           "title": {
            "standoff": 15
           },
           "zerolinecolor": "white",
           "zerolinewidth": 2
          },
          "yaxis": {
           "automargin": true,
           "gridcolor": "white",
           "linecolor": "white",
           "ticks": "",
           "title": {
            "standoff": 15
           },
           "zerolinecolor": "white",
           "zerolinewidth": 2
          }
         }
        },
        "width": 800,
        "xaxis": {
         "anchor": "y",
         "domain": [
          0,
          1
         ],
         "gridcolor": "lightgrey",
         "range": [
          -0.25,
          8.25
         ],
         "showgrid": true,
         "title": {
          "text": "FFT (5 epochs)"
         }
        },
        "yaxis": {
         "anchor": "x",
         "domain": [
          0,
          1
         ],
         "gridcolor": "lightgrey",
         "range": [
          0,
          20
         ],
         "showgrid": true,
         "title": {
          "text": "FFT (50 epochs)"
         }
        }
       }
      }
     },
     "metadata": {},
     "output_type": "display_data"
    },
    {
     "data": {
      "application/vnd.plotly.v1+json": {
       "config": {
        "plotlyServerURL": "https://plot.ly"
       },
       "data": [
        {
         "hovertemplate": "loss_function=CLASSIC_AT<br>LP (50 epochs)=%{x}<br>FFT (50 epochs)=%{y}<extra></extra>",
         "legendgroup": "CLASSIC_AT",
         "marker": {
          "color": "#56B4E9",
          "line": {
           "width": 0
          },
          "size": 8,
          "symbol": "star"
         },
         "mode": "markers",
         "name": "CLASSIC_AT",
         "orientation": "v",
         "showlegend": true,
         "type": "scatter",
         "x": [
          3.9569047619047617,
          2.8577460317460317,
          0.35285714285714287,
          4.020015873015874,
          5.877095238095238,
          5.816666666666666,
          5.440095238095238,
          2.8666349206349206,
          5.7843809523809515,
          4.620285714285714,
          2.067761904761905,
          1.920301587301587,
          3.261,
          1.7058095238095237,
          1.0727142857142857,
          1.2254285714285713,
          0.9750952380952382,
          5.160714285714286,
          1.3176031746031747,
          3.8256666666666668,
          0.3169047619047619,
          2.6655238095238096,
          3.469952380952381,
          2.8145555555555557,
          6.445507936507936,
          9.132142857142856,
          6.186666666666667,
          1.4494285714285717,
          6.436619047619048,
          3.2461269841269837,
          2.9516190476190474,
          3.0946666666666665,
          3.658650793650794,
          0.6882380952380953,
          3.844190476190476,
          5.730476190476191,
          2.048047619047619,
          3.205714285714286,
          2.748936507936508,
          2.6437460317460317
         ],
         "xaxis": "x",
         "y": [
          15.419238095238097,
          14.510619047619048,
          6.036095238095239,
          7.354095238095239,
          13.656476190476189,
          14.404333333333332,
          9.757952380952382,
          14.390857142857145,
          15.99288888888889,
          15.127682539682539,
          14.190666666666667,
          13.121666666666666,
          8.96915873015873,
          8.404936507936508,
          7.61152380952381,
          12.877714285714285,
          3.9464285714285716,
          13.163380952380951,
          5.497158730158731,
          8.747539682539681,
          4.924285714285714,
          10.845761904761906,
          7.891190476190476,
          13.771698412698411,
          10.63004761904762,
          11.169269841269841,
          11.786952380952382,
          7.738222222222221,
          16.77236507936508,
          10.30595238095238,
          11.306857142857144,
          8.744079365079365,
          7.513095238095238,
          10.652857142857142,
          8.554015873015873,
          5.8201269841269845,
          2.7429047619047617,
          6.476619047619048,
          6.104857142857144,
          6.640190476190476
         ],
         "yaxis": "y"
        },
        {
         "hovertemplate": "loss_function=TRADES_v2<br>LP (50 epochs)=%{x}<br>FFT (50 epochs)=%{y}<extra></extra>",
         "legendgroup": "TRADES_v2",
         "marker": {
          "color": "#E69F00",
          "line": {
           "width": 0
          },
          "size": 8,
          "symbol": "diamond"
         },
         "mode": "markers",
         "name": "TRADES_v2",
         "orientation": "v",
         "showlegend": true,
         "type": "scatter",
         "x": [
          7.543333333333333,
          7.351238095238096,
          1.4621428571428572,
          5.377380952380952,
          5.048301587301587,
          7.091619047619048,
          6.589539682539682,
          5.598190476190476,
          7.0374285714285705,
          7.923714285714286,
          4.372285714285715,
          6.786412698412698,
          3.740952380952381,
          2.9653968253968253,
          3.535,
          4.612507936507937,
          0.5425238095238094,
          8.113412698412699,
          2.4287936507936507,
          3.4052857142857142,
          0.28044444444444444,
          2.116174603174603,
          3.0761904761904764,
          3.3896190476190475,
          7.566746031746032,
          6.966619047619048,
          4.983190476190476,
          1.7374285714285713,
          8.003857142857143,
          5.821698412698413,
          4.339666666666666,
          1.039031746031746,
          1.9507777777777777,
          0.8672857142857143,
          6.614619047619048,
          6.9355714285714285,
          2.360809523809524,
          2.792761904761905,
          3.2846190476190475,
          0.5582539682539682
         ],
         "xaxis": "x",
         "y": [
          19.396968253968254,
          18.235888888888887,
          15.018015873015873,
          13.198714285714287,
          18.87442857142857,
          18.743904761904762,
          14.625873015873015,
          16.42042857142857,
          19.789301587301587,
          17.01639682539683,
          15.604809523809525,
          15.066190476190478,
          16.489968253968254,
          6.858126984126985,
          11.266238095238098,
          14.662857142857144,
          3.465190476190476,
          17.59952380952381,
          8.368904761904762,
          8.869428571428571,
          5.632666666666666,
          9.000444444444444,
          8.874571428571429,
          16.63130158730159,
          14.712079365079365,
          13.210857142857144,
          9.827396825396825,
          9.284619047619048,
          18.05390476190476,
          9.993523809523811,
          12.497777777777777,
          9.20452380952381,
          7.76604761904762,
          10.922761904761904,
          12.831396825396824,
          15.24073015873016,
          9.144730158730159,
          8.256285714285713,
          8.685698412698413,
          5.332063492063492
         ],
         "yaxis": "y"
        },
        {
         "line": {
          "color": "black",
          "width": 2
         },
         "marker": {
          "line": {
           "width": 0
          },
          "size": 8
         },
         "mode": "lines",
         "name": "Global (r=0.66, p=0.000)",
         "type": "scatter",
         "x": [
          0.28044444444444444,
          0.3698555395222062,
          0.45926663459996786,
          0.5486777296777297,
          0.6380888247554913,
          0.727499919833253,
          0.8169110149110148,
          0.9063221099887766,
          0.9957332050665382,
          1.0851443001443,
          1.1745553952220618,
          1.2639664902998233,
          1.3533775853775851,
          1.442788680455347,
          1.5321997755331087,
          1.6216108706108703,
          1.711021965688632,
          1.8004330607663939,
          1.8898441558441554,
          1.9792552509219172,
          2.068666345999679,
          2.1580774410774404,
          2.247488536155202,
          2.336899631232964,
          2.4263107263107258,
          2.5157218213884875,
          2.6051329164662493,
          2.694544011544011,
          2.783955106621773,
          2.8733662016995343,
          2.962777296777296,
          3.052188391855058,
          3.1415994869328197,
          3.2310105820105814,
          3.3204216770883432,
          3.409832772166105,
          3.4992438672438664,
          3.588654962321628,
          3.67806605739939,
          3.7674771524771518,
          3.8568882475549136,
          3.9462993426326753,
          4.035710437710437,
          4.1251215327881985,
          4.21453262786596,
          4.303943722943721,
          4.393354818021483,
          4.482765913099245,
          4.572177008177007,
          4.661588103254768,
          4.75099919833253,
          4.840410293410292,
          4.929821388488054,
          5.0192324835658155,
          5.108643578643577,
          5.198054673721339,
          5.287465768799101,
          5.376876863876863,
          5.466287958954624,
          5.555699054032385,
          5.645110149110147,
          5.734521244187909,
          5.823932339265671,
          5.913343434343433,
          6.002754529421194,
          6.092165624498956,
          6.181576719576718,
          6.27098781465448,
          6.3603989097322415,
          6.449810004810003,
          6.539221099887765,
          6.628632194965526,
          6.718043290043288,
          6.80745438512105,
          6.896865480198811,
          6.986276575276573,
          7.075687670354335,
          7.165098765432097,
          7.254509860509859,
          7.34392095558762,
          7.433332050665382,
          7.522743145743144,
          7.612154240820906,
          7.7015653358986675,
          7.7909764309764284,
          7.88038752605419,
          7.969798621131952,
          8.059209716209715,
          8.148620811287476,
          8.238031906365238,
          8.327443001443,
          8.416854096520762,
          8.506265191598523,
          8.595676286676285,
          8.685087381754046,
          8.774498476831809,
          8.86390957190957,
          8.953320666987333,
          9.042731762065094,
          9.132142857142856
         ],
         "y": [
          6.874331076684623,
          6.984542393353103,
          7.094753710021584,
          7.204965026690064,
          7.3151763433585435,
          7.425387660027024,
          7.535598976695504,
          7.645810293363985,
          7.756021610032464,
          7.8662329267009445,
          7.976444243369425,
          8.086655560037904,
          8.196866876706386,
          8.307078193374865,
          8.417289510043346,
          8.527500826711826,
          8.637712143380305,
          8.747923460048785,
          8.858134776717266,
          8.968346093385746,
          9.078557410054227,
          9.188768726722707,
          9.298980043391186,
          9.409191360059665,
          9.519402676728147,
          9.629613993396628,
          9.739825310065108,
          9.850036626733587,
          9.960247943402068,
          10.070459260070548,
          10.180670576739027,
          10.290881893407509,
          10.401093210075988,
          10.511304526744468,
          10.621515843412949,
          10.73172716008143,
          10.84193847674991,
          10.95214979341839,
          11.062361110086869,
          11.172572426755348,
          11.28278374342383,
          11.39299506009231,
          11.50320637676079,
          11.61341769342927,
          11.72362901009775,
          11.833840326766229,
          11.944051643434708,
          12.05426296010319,
          12.16447427677167,
          12.27468559344015,
          12.38489691010863,
          12.49510822677711,
          12.60531954344559,
          12.715530860114072,
          12.825742176782551,
          12.93595349345103,
          13.046164810119512,
          13.156376126787992,
          13.266587443456471,
          13.376798760124952,
          13.487010076793432,
          13.597221393461911,
          13.70743271013039,
          13.817644026798872,
          13.927855343467353,
          14.038066660135833,
          14.148277976804312,
          14.258489293472792,
          14.368700610141273,
          14.478911926809754,
          14.589123243478234,
          14.699334560146713,
          14.809545876815193,
          14.919757193483672,
          15.029968510152155,
          15.140179826820635,
          15.250391143489114,
          15.360602460157594,
          15.470813776826073,
          15.581025093494556,
          15.691236410163036,
          15.801447726831515,
          15.911659043499995,
          16.021870360168474,
          16.132081676836954,
          16.242292993505437,
          16.352504310173916,
          16.462715626842396,
          16.572926943510875,
          16.68313826017936,
          16.793349576847838,
          16.903560893516318,
          17.013772210184797,
          17.123983526853277,
          17.234194843521756,
          17.34440616019024,
          17.45461747685872,
          17.564828793527198,
          17.675040110195678,
          17.78525142686416
         ]
        },
        {
         "line": {
          "color": "#56B4E9",
          "dash": "dot"
         },
         "marker": {
          "line": {
           "width": 0
          },
          "size": 8
         },
         "mode": "lines",
         "name": "CLASSIC_AT (r=0.45, p=0.003)",
         "type": "scatter",
         "x": [
          0.28044444444444444,
          0.3698555395222062,
          0.45926663459996786,
          0.5486777296777297,
          0.6380888247554913,
          0.727499919833253,
          0.8169110149110148,
          0.9063221099887766,
          0.9957332050665382,
          1.0851443001443,
          1.1745553952220618,
          1.2639664902998233,
          1.3533775853775851,
          1.442788680455347,
          1.5321997755331087,
          1.6216108706108703,
          1.711021965688632,
          1.8004330607663939,
          1.8898441558441554,
          1.9792552509219172,
          2.068666345999679,
          2.1580774410774404,
          2.247488536155202,
          2.336899631232964,
          2.4263107263107258,
          2.5157218213884875,
          2.6051329164662493,
          2.694544011544011,
          2.783955106621773,
          2.8733662016995343,
          2.962777296777296,
          3.052188391855058,
          3.1415994869328197,
          3.2310105820105814,
          3.3204216770883432,
          3.409832772166105,
          3.4992438672438664,
          3.588654962321628,
          3.67806605739939,
          3.7674771524771518,
          3.8568882475549136,
          3.9462993426326753,
          4.035710437710437,
          4.1251215327881985,
          4.21453262786596,
          4.303943722943721,
          4.393354818021483,
          4.482765913099245,
          4.572177008177007,
          4.661588103254768,
          4.75099919833253,
          4.840410293410292,
          4.929821388488054,
          5.0192324835658155,
          5.108643578643577,
          5.198054673721339,
          5.287465768799101,
          5.376876863876863,
          5.466287958954624,
          5.555699054032385,
          5.645110149110147,
          5.734521244187909,
          5.823932339265671,
          5.913343434343433,
          6.002754529421194,
          6.092165624498956,
          6.181576719576718,
          6.27098781465448,
          6.3603989097322415,
          6.449810004810003,
          6.539221099887765,
          6.628632194965526,
          6.718043290043288,
          6.80745438512105,
          6.896865480198811,
          6.986276575276573,
          7.075687670354335,
          7.165098765432097,
          7.254509860509859,
          7.34392095558762,
          7.433332050665382,
          7.522743145743144,
          7.612154240820906,
          7.7015653358986675,
          7.7909764309764284,
          7.88038752605419,
          7.969798621131952,
          8.059209716209715,
          8.148620811287476,
          8.238031906365238,
          8.327443001443,
          8.416854096520762,
          8.506265191598523,
          8.595676286676285,
          8.685087381754046,
          8.774498476831809,
          8.86390957190957,
          8.953320666987333,
          9.042731762065094,
          9.132142857142856
         ],
         "y": [
          7.574760836018688,
          7.64631358428607,
          7.717866332553452,
          7.789419080820835,
          7.860971829088217,
          7.932524577355599,
          8.004077325622982,
          8.075630073890364,
          8.147182822157745,
          8.218735570425128,
          8.290288318692511,
          8.361841066959894,
          8.433393815227275,
          8.504946563494657,
          8.57649931176204,
          8.648052060029421,
          8.719604808296804,
          8.791157556564187,
          8.86271030483157,
          8.93426305309895,
          9.005815801366333,
          9.077368549633714,
          9.148921297901097,
          9.22047404616848,
          9.292026794435863,
          9.363579542703246,
          9.435132290970627,
          9.50668503923801,
          9.578237787505392,
          9.649790535772773,
          9.721343284040156,
          9.792896032307539,
          9.864448780574921,
          9.936001528842302,
          10.007554277109685,
          10.079107025377066,
          10.150659773644449,
          10.222212521911832,
          10.293765270179215,
          10.365318018446596,
          10.436870766713978,
          10.508423514981361,
          10.579976263248742,
          10.651529011516125,
          10.723081759783508,
          10.794634508050889,
          10.866187256318272,
          10.937740004585654,
          11.009292752853035,
          11.080845501120418,
          11.1523982493878,
          11.223950997655184,
          11.295503745922565,
          11.367056494189947,
          11.43860924245733,
          11.510161990724711,
          11.581714738992094,
          11.653267487259477,
          11.72482023552686,
          11.79637298379424,
          11.867925732061623,
          11.939478480329004,
          12.011031228596387,
          12.08258397686377,
          12.154136725131153,
          12.225689473398536,
          12.297242221665918,
          12.3687949699333,
          12.440347718200682,
          12.511900466468063,
          12.583453214735446,
          12.655005963002829,
          12.726558711270211,
          12.798111459537592,
          12.869664207804975,
          12.941216956072356,
          13.012769704339739,
          13.084322452607122,
          13.155875200874505,
          13.227427949141887,
          13.298980697409268,
          13.370533445676651,
          13.442086193944032,
          13.513638942211415,
          13.585191690478798,
          13.65674443874618,
          13.728297187013563,
          13.799849935280946,
          13.871402683548325,
          13.94295543181571,
          14.01450818008309,
          14.086060928350474,
          14.157613676617856,
          14.22916642488524,
          14.30071917315262,
          14.372271921420005,
          14.443824669687384,
          14.515377417954769,
          14.58693016622215,
          14.658482914489532
         ]
        },
        {
         "line": {
          "color": "#E69F00",
          "dash": "dot"
         },
         "marker": {
          "line": {
           "width": 0
          },
          "size": 8
         },
         "mode": "lines",
         "name": "TRADES_v2 (r=0.78, p=0.000)",
         "type": "scatter",
         "x": [
          0.28044444444444444,
          0.3698555395222062,
          0.45926663459996786,
          0.5486777296777297,
          0.6380888247554913,
          0.727499919833253,
          0.8169110149110148,
          0.9063221099887766,
          0.9957332050665382,
          1.0851443001443,
          1.1745553952220618,
          1.2639664902998233,
          1.3533775853775851,
          1.442788680455347,
          1.5321997755331087,
          1.6216108706108703,
          1.711021965688632,
          1.8004330607663939,
          1.8898441558441554,
          1.9792552509219172,
          2.068666345999679,
          2.1580774410774404,
          2.247488536155202,
          2.336899631232964,
          2.4263107263107258,
          2.5157218213884875,
          2.6051329164662493,
          2.694544011544011,
          2.783955106621773,
          2.8733662016995343,
          2.962777296777296,
          3.052188391855058,
          3.1415994869328197,
          3.2310105820105814,
          3.3204216770883432,
          3.409832772166105,
          3.4992438672438664,
          3.588654962321628,
          3.67806605739939,
          3.7674771524771518,
          3.8568882475549136,
          3.9462993426326753,
          4.035710437710437,
          4.1251215327881985,
          4.21453262786596,
          4.303943722943721,
          4.393354818021483,
          4.482765913099245,
          4.572177008177007,
          4.661588103254768,
          4.75099919833253,
          4.840410293410292,
          4.929821388488054,
          5.0192324835658155,
          5.108643578643577,
          5.198054673721339,
          5.287465768799101,
          5.376876863876863,
          5.466287958954624,
          5.555699054032385,
          5.645110149110147,
          5.734521244187909,
          5.823932339265671,
          5.913343434343433,
          6.002754529421194,
          6.092165624498956,
          6.181576719576718,
          6.27098781465448,
          6.3603989097322415,
          6.449810004810003,
          6.539221099887765,
          6.628632194965526,
          6.718043290043288,
          6.80745438512105,
          6.896865480198811,
          6.986276575276573,
          7.075687670354335,
          7.165098765432097,
          7.254509860509859,
          7.34392095558762,
          7.433332050665382,
          7.522743145743144,
          7.612154240820906,
          7.7015653358986675,
          7.7909764309764284,
          7.88038752605419,
          7.969798621131952,
          8.059209716209715,
          8.148620811287476,
          8.238031906365238,
          8.327443001443,
          8.416854096520762,
          8.506265191598523,
          8.595676286676285,
          8.685087381754046,
          8.774498476831809,
          8.86390957190957,
          8.953320666987333,
          9.042731762065094,
          9.132142857142856
         ],
         "y": [
          6.808896944386612,
          6.93479234584663,
          7.060687747306648,
          7.186583148766666,
          7.312478550226684,
          7.438373951686702,
          7.56426935314672,
          7.690164754606739,
          7.816060156066756,
          7.941955557526775,
          8.067850958986792,
          8.193746360446811,
          8.319641761906828,
          8.445537163366847,
          8.571432564826864,
          8.697327966286883,
          8.823223367746902,
          8.949118769206919,
          9.075014170666936,
          9.200909572126955,
          9.326804973586974,
          9.452700375046991,
          9.578595776507008,
          9.704491177967027,
          9.830386579427046,
          9.956281980887063,
          10.082177382347082,
          10.2080727838071,
          10.333968185267118,
          10.459863586727135,
          10.585758988187154,
          10.711654389647173,
          10.83754979110719,
          10.963445192567209,
          11.089340594027227,
          11.215235995487244,
          11.341131396947262,
          11.46702679840728,
          11.5929221998673,
          11.718817601327316,
          11.844713002787334,
          11.970608404247352,
          12.096503805707371,
          12.222399207167388,
          12.348294608627405,
          12.474190010087423,
          12.600085411547441,
          12.72598081300746,
          12.851876214467477,
          12.977771615927496,
          13.103667017387515,
          13.229562418847532,
          13.35545782030755,
          13.481353221767568,
          13.607248623227587,
          13.733144024687604,
          13.859039426147623,
          13.984934827607642,
          14.110830229067659,
          14.236725630527676,
          14.362621031987693,
          14.488516433447714,
          14.614411834907731,
          14.740307236367748,
          14.866202637827765,
          14.992098039287786,
          15.117993440747803,
          15.24388884220782,
          15.36978424366784,
          15.495679645127858,
          15.621575046587875,
          15.747470448047892,
          15.873365849507909,
          15.99926125096793,
          16.125156652427947,
          16.251052053887964,
          16.376947455347985,
          16.502842856808,
          16.62873825826802,
          16.75463365972804,
          16.880529061188057,
          17.006424462648074,
          17.13231986410809,
          17.25821526556811,
          17.38411066702813,
          17.510006068488146,
          17.635901469948163,
          17.761796871408183,
          17.8876922728682,
          18.01358767432822,
          18.139483075788235,
          18.265378477248255,
          18.391273878708272,
          18.517169280168293,
          18.64306468162831,
          18.768960083088327,
          18.894855484548344,
          19.020750886008365,
          19.146646287468382,
          19.2725416889284
         ]
        }
       ],
       "layout": {
        "height": 400,
        "legend": {
         "bgcolor": "rgba(255,255,255,1)",
         "bordercolor": "lightgrey",
         "borderwidth": 1,
         "font": {
          "size": 12
         },
         "title": {
          "text": "loss_function"
         },
         "tracegroupgap": 0,
         "y": 0.85
        },
        "margin": {
         "b": 0,
         "l": 0,
         "r": 0,
         "t": 0
        },
        "paper_bgcolor": "white",
        "plot_bgcolor": "white",
        "template": {
         "data": {
          "bar": [
           {
            "error_x": {
             "color": "#2a3f5f"
            },
            "error_y": {
             "color": "#2a3f5f"
            },
            "marker": {
             "line": {
              "color": "#E5ECF6",
              "width": 0.5
             },
             "pattern": {
              "fillmode": "overlay",
              "size": 10,
              "solidity": 0.2
             }
            },
            "type": "bar"
           }
          ],
          "barpolar": [
           {
            "marker": {
             "line": {
              "color": "#E5ECF6",
              "width": 0.5
             },
             "pattern": {
              "fillmode": "overlay",
              "size": 10,
              "solidity": 0.2
             }
            },
            "type": "barpolar"
           }
          ],
          "carpet": [
           {
            "aaxis": {
             "endlinecolor": "#2a3f5f",
             "gridcolor": "white",
             "linecolor": "white",
             "minorgridcolor": "white",
             "startlinecolor": "#2a3f5f"
            },
            "baxis": {
             "endlinecolor": "#2a3f5f",
             "gridcolor": "white",
             "linecolor": "white",
             "minorgridcolor": "white",
             "startlinecolor": "#2a3f5f"
            },
            "type": "carpet"
           }
          ],
          "choropleth": [
           {
            "colorbar": {
             "outlinewidth": 0,
             "ticks": ""
            },
            "type": "choropleth"
           }
          ],
          "contour": [
           {
            "colorbar": {
             "outlinewidth": 0,
             "ticks": ""
            },
            "colorscale": [
             [
              0,
              "#0d0887"
             ],
             [
              0.1111111111111111,
              "#46039f"
             ],
             [
              0.2222222222222222,
              "#7201a8"
             ],
             [
              0.3333333333333333,
              "#9c179e"
             ],
             [
              0.4444444444444444,
              "#bd3786"
             ],
             [
              0.5555555555555556,
              "#d8576b"
             ],
             [
              0.6666666666666666,
              "#ed7953"
             ],
             [
              0.7777777777777778,
              "#fb9f3a"
             ],
             [
              0.8888888888888888,
              "#fdca26"
             ],
             [
              1,
              "#f0f921"
             ]
            ],
            "type": "contour"
           }
          ],
          "contourcarpet": [
           {
            "colorbar": {
             "outlinewidth": 0,
             "ticks": ""
            },
            "type": "contourcarpet"
           }
          ],
          "heatmap": [
           {
            "colorbar": {
             "outlinewidth": 0,
             "ticks": ""
            },
            "colorscale": [
             [
              0,
              "#0d0887"
             ],
             [
              0.1111111111111111,
              "#46039f"
             ],
             [
              0.2222222222222222,
              "#7201a8"
             ],
             [
              0.3333333333333333,
              "#9c179e"
             ],
             [
              0.4444444444444444,
              "#bd3786"
             ],
             [
              0.5555555555555556,
              "#d8576b"
             ],
             [
              0.6666666666666666,
              "#ed7953"
             ],
             [
              0.7777777777777778,
              "#fb9f3a"
             ],
             [
              0.8888888888888888,
              "#fdca26"
             ],
             [
              1,
              "#f0f921"
             ]
            ],
            "type": "heatmap"
           }
          ],
          "heatmapgl": [
           {
            "colorbar": {
             "outlinewidth": 0,
             "ticks": ""
            },
            "colorscale": [
             [
              0,
              "#0d0887"
             ],
             [
              0.1111111111111111,
              "#46039f"
             ],
             [
              0.2222222222222222,
              "#7201a8"
             ],
             [
              0.3333333333333333,
              "#9c179e"
             ],
             [
              0.4444444444444444,
              "#bd3786"
             ],
             [
              0.5555555555555556,
              "#d8576b"
             ],
             [
              0.6666666666666666,
              "#ed7953"
             ],
             [
              0.7777777777777778,
              "#fb9f3a"
             ],
             [
              0.8888888888888888,
              "#fdca26"
             ],
             [
              1,
              "#f0f921"
             ]
            ],
            "type": "heatmapgl"
           }
          ],
          "histogram": [
           {
            "marker": {
             "pattern": {
              "fillmode": "overlay",
              "size": 10,
              "solidity": 0.2
             }
            },
            "type": "histogram"
           }
          ],
          "histogram2d": [
           {
            "colorbar": {
             "outlinewidth": 0,
             "ticks": ""
            },
            "colorscale": [
             [
              0,
              "#0d0887"
             ],
             [
              0.1111111111111111,
              "#46039f"
             ],
             [
              0.2222222222222222,
              "#7201a8"
             ],
             [
              0.3333333333333333,
              "#9c179e"
             ],
             [
              0.4444444444444444,
              "#bd3786"
             ],
             [
              0.5555555555555556,
              "#d8576b"
             ],
             [
              0.6666666666666666,
              "#ed7953"
             ],
             [
              0.7777777777777778,
              "#fb9f3a"
             ],
             [
              0.8888888888888888,
              "#fdca26"
             ],
             [
              1,
              "#f0f921"
             ]
            ],
            "type": "histogram2d"
           }
          ],
          "histogram2dcontour": [
           {
            "colorbar": {
             "outlinewidth": 0,
             "ticks": ""
            },
            "colorscale": [
             [
              0,
              "#0d0887"
             ],
             [
              0.1111111111111111,
              "#46039f"
             ],
             [
              0.2222222222222222,
              "#7201a8"
             ],
             [
              0.3333333333333333,
              "#9c179e"
             ],
             [
              0.4444444444444444,
              "#bd3786"
             ],
             [
              0.5555555555555556,
              "#d8576b"
             ],
             [
              0.6666666666666666,
              "#ed7953"
             ],
             [
              0.7777777777777778,
              "#fb9f3a"
             ],
             [
              0.8888888888888888,
              "#fdca26"
             ],
             [
              1,
              "#f0f921"
             ]
            ],
            "type": "histogram2dcontour"
           }
          ],
          "mesh3d": [
           {
            "colorbar": {
             "outlinewidth": 0,
             "ticks": ""
            },
            "type": "mesh3d"
           }
          ],
          "parcoords": [
           {
            "line": {
             "colorbar": {
              "outlinewidth": 0,
              "ticks": ""
             }
            },
            "type": "parcoords"
           }
          ],
          "pie": [
           {
            "automargin": true,
            "type": "pie"
           }
          ],
          "scatter": [
           {
            "fillpattern": {
             "fillmode": "overlay",
             "size": 10,
             "solidity": 0.2
            },
            "type": "scatter"
           }
          ],
          "scatter3d": [
           {
            "line": {
             "colorbar": {
              "outlinewidth": 0,
              "ticks": ""
             }
            },
            "marker": {
             "colorbar": {
              "outlinewidth": 0,
              "ticks": ""
             }
            },
            "type": "scatter3d"
           }
          ],
          "scattercarpet": [
           {
            "marker": {
             "colorbar": {
              "outlinewidth": 0,
              "ticks": ""
             }
            },
            "type": "scattercarpet"
           }
          ],
          "scattergeo": [
           {
            "marker": {
             "colorbar": {
              "outlinewidth": 0,
              "ticks": ""
             }
            },
            "type": "scattergeo"
           }
          ],
          "scattergl": [
           {
            "marker": {
             "colorbar": {
              "outlinewidth": 0,
              "ticks": ""
             }
            },
            "type": "scattergl"
           }
          ],
          "scattermapbox": [
           {
            "marker": {
             "colorbar": {
              "outlinewidth": 0,
              "ticks": ""
             }
            },
            "type": "scattermapbox"
           }
          ],
          "scatterpolar": [
           {
            "marker": {
             "colorbar": {
              "outlinewidth": 0,
              "ticks": ""
             }
            },
            "type": "scatterpolar"
           }
          ],
          "scatterpolargl": [
           {
            "marker": {
             "colorbar": {
              "outlinewidth": 0,
              "ticks": ""
             }
            },
            "type": "scatterpolargl"
           }
          ],
          "scatterternary": [
           {
            "marker": {
             "colorbar": {
              "outlinewidth": 0,
              "ticks": ""
             }
            },
            "type": "scatterternary"
           }
          ],
          "surface": [
           {
            "colorbar": {
             "outlinewidth": 0,
             "ticks": ""
            },
            "colorscale": [
             [
              0,
              "#0d0887"
             ],
             [
              0.1111111111111111,
              "#46039f"
             ],
             [
              0.2222222222222222,
              "#7201a8"
             ],
             [
              0.3333333333333333,
              "#9c179e"
             ],
             [
              0.4444444444444444,
              "#bd3786"
             ],
             [
              0.5555555555555556,
              "#d8576b"
             ],
             [
              0.6666666666666666,
              "#ed7953"
             ],
             [
              0.7777777777777778,
              "#fb9f3a"
             ],
             [
              0.8888888888888888,
              "#fdca26"
             ],
             [
              1,
              "#f0f921"
             ]
            ],
            "type": "surface"
           }
          ],
          "table": [
           {
            "cells": {
             "fill": {
              "color": "#EBF0F8"
             },
             "line": {
              "color": "white"
             }
            },
            "header": {
             "fill": {
              "color": "#C8D4E3"
             },
             "line": {
              "color": "white"
             }
            },
            "type": "table"
           }
          ]
         },
         "layout": {
          "annotationdefaults": {
           "arrowcolor": "#2a3f5f",
           "arrowhead": 0,
           "arrowwidth": 1
          },
          "autotypenumbers": "strict",
          "coloraxis": {
           "colorbar": {
            "outlinewidth": 0,
            "ticks": ""
           }
          },
          "colorscale": {
           "diverging": [
            [
             0,
             "#8e0152"
            ],
            [
             0.1,
             "#c51b7d"
            ],
            [
             0.2,
             "#de77ae"
            ],
            [
             0.3,
             "#f1b6da"
            ],
            [
             0.4,
             "#fde0ef"
            ],
            [
             0.5,
             "#f7f7f7"
            ],
            [
             0.6,
             "#e6f5d0"
            ],
            [
             0.7,
             "#b8e186"
            ],
            [
             0.8,
             "#7fbc41"
            ],
            [
             0.9,
             "#4d9221"
            ],
            [
             1,
             "#276419"
            ]
           ],
           "sequential": [
            [
             0,
             "#0d0887"
            ],
            [
             0.1111111111111111,
             "#46039f"
            ],
            [
             0.2222222222222222,
             "#7201a8"
            ],
            [
             0.3333333333333333,
             "#9c179e"
            ],
            [
             0.4444444444444444,
             "#bd3786"
            ],
            [
             0.5555555555555556,
             "#d8576b"
            ],
            [
             0.6666666666666666,
             "#ed7953"
            ],
            [
             0.7777777777777778,
             "#fb9f3a"
            ],
            [
             0.8888888888888888,
             "#fdca26"
            ],
            [
             1,
             "#f0f921"
            ]
           ],
           "sequentialminus": [
            [
             0,
             "#0d0887"
            ],
            [
             0.1111111111111111,
             "#46039f"
            ],
            [
             0.2222222222222222,
             "#7201a8"
            ],
            [
             0.3333333333333333,
             "#9c179e"
            ],
            [
             0.4444444444444444,
             "#bd3786"
            ],
            [
             0.5555555555555556,
             "#d8576b"
            ],
            [
             0.6666666666666666,
             "#ed7953"
            ],
            [
             0.7777777777777778,
             "#fb9f3a"
            ],
            [
             0.8888888888888888,
             "#fdca26"
            ],
            [
             1,
             "#f0f921"
            ]
           ]
          },
          "colorway": [
           "#636efa",
           "#EF553B",
           "#00cc96",
           "#ab63fa",
           "#FFA15A",
           "#19d3f3",
           "#FF6692",
           "#B6E880",
           "#FF97FF",
           "#FECB52"
          ],
          "font": {
           "color": "#2a3f5f"
          },
          "geo": {
           "bgcolor": "white",
           "lakecolor": "white",
           "landcolor": "#E5ECF6",
           "showlakes": true,
           "showland": true,
           "subunitcolor": "white"
          },
          "hoverlabel": {
           "align": "left"
          },
          "hovermode": "closest",
          "mapbox": {
           "style": "light"
          },
          "paper_bgcolor": "white",
          "plot_bgcolor": "#E5ECF6",
          "polar": {
           "angularaxis": {
            "gridcolor": "white",
            "linecolor": "white",
            "ticks": ""
           },
           "bgcolor": "#E5ECF6",
           "radialaxis": {
            "gridcolor": "white",
            "linecolor": "white",
            "ticks": ""
           }
          },
          "scene": {
           "xaxis": {
            "backgroundcolor": "#E5ECF6",
            "gridcolor": "white",
            "gridwidth": 2,
            "linecolor": "white",
            "showbackground": true,
            "ticks": "",
            "zerolinecolor": "white"
           },
           "yaxis": {
            "backgroundcolor": "#E5ECF6",
            "gridcolor": "white",
            "gridwidth": 2,
            "linecolor": "white",
            "showbackground": true,
            "ticks": "",
            "zerolinecolor": "white"
           },
           "zaxis": {
            "backgroundcolor": "#E5ECF6",
            "gridcolor": "white",
            "gridwidth": 2,
            "linecolor": "white",
            "showbackground": true,
            "ticks": "",
            "zerolinecolor": "white"
           }
          },
          "shapedefaults": {
           "line": {
            "color": "#2a3f5f"
           }
          },
          "ternary": {
           "aaxis": {
            "gridcolor": "white",
            "linecolor": "white",
            "ticks": ""
           },
           "baxis": {
            "gridcolor": "white",
            "linecolor": "white",
            "ticks": ""
           },
           "bgcolor": "#E5ECF6",
           "caxis": {
            "gridcolor": "white",
            "linecolor": "white",
            "ticks": ""
           }
          },
          "title": {
           "x": 0.05
          },
          "xaxis": {
           "automargin": true,
           "gridcolor": "white",
           "linecolor": "white",
           "ticks": "",
           "title": {
            "standoff": 15
           },
           "zerolinecolor": "white",
           "zerolinewidth": 2
          },
          "yaxis": {
           "automargin": true,
           "gridcolor": "white",
           "linecolor": "white",
           "ticks": "",
           "title": {
            "standoff": 15
           },
           "zerolinecolor": "white",
           "zerolinewidth": 2
          }
         }
        },
        "width": 800,
        "xaxis": {
         "anchor": "y",
         "domain": [
          0,
          1
         ],
         "gridcolor": "lightgrey",
         "range": [
          -0.25,
          8.25
         ],
         "showgrid": true,
         "title": {
          "text": "LP (50 epochs)"
         }
        },
        "yaxis": {
         "anchor": "x",
         "domain": [
          0,
          1
         ],
         "gridcolor": "lightgrey",
         "range": [
          0,
          20
         ],
         "showgrid": true,
         "title": {
          "text": "FFT (50 epochs)"
         }
        }
       }
      }
     },
     "metadata": {},
     "output_type": "display_data"
    }
   ],
   "source": [
    "import pandas as pd\n",
    "import plotly.express as px\n",
    "import plotly.graph_objects as go\n",
    "from scipy.stats import spearmanr, linregress\n",
    "import numpy as np\n",
    "\n",
    "# Assumes df is already defined\n",
    "from process_database import process_rankings, global_grouped_dataset\n",
    "\n",
    "grouped_df = process_rankings(global_grouped_dataset(df))\n",
    "grouped_df.columns = ['_'.join(col).strip() if isinstance(col, tuple) else col for col in grouped_df.columns]\n",
    "grouped_df = grouped_df.reset_index()\n",
    "\n",
    "sub_df = grouped_df[[\"ft_strategy\", \"model_type\", \"model_size\", \"backbone\", \"loss_function\", \"TOTAL_score_sum\"]]\n",
    "\n",
    "pivot_df = sub_df.pivot_table(\n",
    "    index=[\"backbone\", \"loss_function\", \"model_type\", \"model_size\"],\n",
    "    columns=\"ft_strategy\",\n",
    "    values=\"TOTAL_score_sum\"\n",
    ").reset_index()\n",
    "\n",
    "symbol_map = {\"TRADES_v2\": \"diamond\", \"CLASSIC_AT\": \"star\"}\n",
    "color_map = {\"TRADES_v2\": \"#E69F00\", \"CLASSIC_AT\": \"#56B4E9\"}  # Assign colors by loss_function\n",
    "\n",
    "for (x1, x2) in [(\"FFT (5 epochs)\", \"FFT (50 epochs)\"), (\"LP (50 epochs)\", \"FFT (50 epochs)\")]:\n",
    "    pivot_df = pivot_df.fillna(0)\n",
    "    x, y = pivot_df[x1], pivot_df[x2]\n",
    "    r_global, p_global = spearmanr(x, y)\n",
    "    m_global, b_global, *_ = linregress(x, y)\n",
    "    x_range = np.linspace(x.min(), x.max(), 100)\n",
    "\n",
    "    # Base scatter\n",
    "    fig = px.scatter(\n",
    "        pivot_df, x=x1, y=x2,\n",
    "        color=\"loss_function\",\n",
    "        symbol=\"loss_function\",\n",
    "        color_discrete_map=color_map,\n",
    "        symbol_map=symbol_map,\n",
    "    )\n",
    "\n",
    "    # Global regression line\n",
    "    fig.add_trace(go.Scatter(\n",
    "        x=x_range,\n",
    "        y=m_global * x_range + b_global,\n",
    "        mode=\"lines\",\n",
    "        line=dict(color=\"black\", width=2),\n",
    "        name=f\"Global (r={r_global:.2f}, p={p_global:.3f})\"\n",
    "    ))\n",
    "\n",
    "    # Per-loss-function lines\n",
    "    for loss_fn in pivot_df[\"loss_function\"].unique():\n",
    "        subset = pivot_df[pivot_df[\"loss_function\"] == loss_fn]\n",
    "        if len(subset) < 2:\n",
    "            continue\n",
    "        xg, yg = subset[x1], subset[x2]\n",
    "        rg, pg = spearmanr(xg, yg)\n",
    "        mg, bg, *_ = linregress(xg, yg)\n",
    "        fig.add_trace(go.Scatter(\n",
    "            x=x_range,\n",
    "            y=mg * x_range + bg,\n",
    "            mode=\"lines\",\n",
    "            line=dict(color=color_map[loss_fn], dash=\"dot\"),\n",
    "            name=f\"{loss_fn} (r={rg:.2f}, p={pg:.3f})\"\n",
    "        ))\n",
    "\n",
    "    fig.update_layout(\n",
    "        margin=dict(l=0, r=0, t=0, b=0),\n",
    "        width=800, height=400,\n",
    "        plot_bgcolor=\"white\", paper_bgcolor=\"white\",\n",
    "        xaxis=dict(showgrid=True, gridcolor=\"lightgrey\", range=[-0.25, 8.25]),\n",
    "        yaxis=dict(showgrid=True, gridcolor=\"lightgrey\", range=[0, 20]),\n",
    "        legend=dict(\n",
    "            font=dict(size=12),\n",
    "            y=0.85,\n",
    "            bgcolor=\"rgba(255,255,255,1)\",\n",
    "            bordercolor=\"lightgrey\",\n",
    "            borderwidth=1\n",
    "        )\n",
    "    )\n",
    "\n",
    "    fig.update_traces(marker=dict(size=8, line=dict(width=0)))\n",
    "    fig.show()\n",
    "    fig.write_image(f\"./paper_figures/low_cost_proxy_{x1.replace(' ', '_')}.png\", scale=3)\n"
   ]
  },
  {
   "cell_type": "code",
   "execution_count": 15,
   "metadata": {},
   "outputs": [
    {
     "name": "stdout",
     "output_type": "stream",
     "text": [
      "Percentage of NaN values: 0.08%\n"
     ]
    },
    {
     "data": {
      "text/html": [
       "<div>\n",
       "<style scoped>\n",
       "    .dataframe tbody tr th:only-of-type {\n",
       "        vertical-align: middle;\n",
       "    }\n",
       "\n",
       "    .dataframe tbody tr th {\n",
       "        vertical-align: top;\n",
       "    }\n",
       "\n",
       "    .dataframe thead th {\n",
       "        text-align: right;\n",
       "    }\n",
       "</style>\n",
       "<table border=\"1\" class=\"dataframe\">\n",
       "  <thead>\n",
       "    <tr style=\"text-align: right;\">\n",
       "      <th></th>\n",
       "      <th>fts</th>\n",
       "      <th>cond</th>\n",
       "      <th>trades_wins</th>\n",
       "      <th>classic_wins</th>\n",
       "      <th>odds_ratio</th>\n",
       "      <th>p_value</th>\n",
       "    </tr>\n",
       "  </thead>\n",
       "  <tbody>\n",
       "    <tr>\n",
       "      <th>0</th>\n",
       "      <td>FFT (50 epochs)</td>\n",
       "      <td>medium</td>\n",
       "      <td>11</td>\n",
       "      <td>4</td>\n",
       "      <td>7.562500</td>\n",
       "      <td>2.683773e-02</td>\n",
       "    </tr>\n",
       "    <tr>\n",
       "      <th>1</th>\n",
       "      <td>FFT (5 epochs)</td>\n",
       "      <td>medium</td>\n",
       "      <td>7</td>\n",
       "      <td>8</td>\n",
       "      <td>0.765625</td>\n",
       "      <td>1.000000e+00</td>\n",
       "    </tr>\n",
       "    <tr>\n",
       "      <th>2</th>\n",
       "      <td>LP (50 epochs)</td>\n",
       "      <td>medium</td>\n",
       "      <td>10</td>\n",
       "      <td>5</td>\n",
       "      <td>4.000000</td>\n",
       "      <td>1.431110e-01</td>\n",
       "    </tr>\n",
       "    <tr>\n",
       "      <th>3</th>\n",
       "      <td>FFT (50 epochs)</td>\n",
       "      <td>large</td>\n",
       "      <td>18</td>\n",
       "      <td>0</td>\n",
       "      <td>inf</td>\n",
       "      <td>2.203824e-10</td>\n",
       "    </tr>\n",
       "    <tr>\n",
       "      <th>4</th>\n",
       "      <td>FFT (5 epochs)</td>\n",
       "      <td>large</td>\n",
       "      <td>15</td>\n",
       "      <td>3</td>\n",
       "      <td>25.000000</td>\n",
       "      <td>1.519735e-04</td>\n",
       "    </tr>\n",
       "    <tr>\n",
       "      <th>5</th>\n",
       "      <td>LP (50 epochs)</td>\n",
       "      <td>large</td>\n",
       "      <td>15</td>\n",
       "      <td>3</td>\n",
       "      <td>25.000000</td>\n",
       "      <td>1.519735e-04</td>\n",
       "    </tr>\n",
       "    <tr>\n",
       "      <th>6</th>\n",
       "      <td>FFT (50 epochs)</td>\n",
       "      <td>small</td>\n",
       "      <td>5</td>\n",
       "      <td>2</td>\n",
       "      <td>6.250000</td>\n",
       "      <td>2.861305e-01</td>\n",
       "    </tr>\n",
       "    <tr>\n",
       "      <th>7</th>\n",
       "      <td>FFT (5 epochs)</td>\n",
       "      <td>small</td>\n",
       "      <td>4</td>\n",
       "      <td>3</td>\n",
       "      <td>1.777778</td>\n",
       "      <td>1.000000e+00</td>\n",
       "    </tr>\n",
       "    <tr>\n",
       "      <th>8</th>\n",
       "      <td>LP (50 epochs)</td>\n",
       "      <td>small</td>\n",
       "      <td>3</td>\n",
       "      <td>4</td>\n",
       "      <td>0.562500</td>\n",
       "      <td>1.000000e+00</td>\n",
       "    </tr>\n",
       "  </tbody>\n",
       "</table>\n",
       "</div>"
      ],
      "text/plain": [
       "               fts    cond  trades_wins  classic_wins  odds_ratio  \\\n",
       "0  FFT (50 epochs)  medium           11             4    7.562500   \n",
       "1   FFT (5 epochs)  medium            7             8    0.765625   \n",
       "2   LP (50 epochs)  medium           10             5    4.000000   \n",
       "3  FFT (50 epochs)   large           18             0         inf   \n",
       "4   FFT (5 epochs)   large           15             3   25.000000   \n",
       "5   LP (50 epochs)   large           15             3   25.000000   \n",
       "6  FFT (50 epochs)   small            5             2    6.250000   \n",
       "7   FFT (5 epochs)   small            4             3    1.777778   \n",
       "8   LP (50 epochs)   small            3             4    0.562500   \n",
       "\n",
       "        p_value  \n",
       "0  2.683773e-02  \n",
       "1  1.000000e+00  \n",
       "2  1.431110e-01  \n",
       "3  2.203824e-10  \n",
       "4  1.519735e-04  \n",
       "5  1.519735e-04  \n",
       "6  2.861305e-01  \n",
       "7  1.000000e+00  \n",
       "8  1.000000e+00  "
      ]
     },
     "execution_count": 15,
     "metadata": {},
     "output_type": "execute_result"
    }
   ],
   "source": [
    "import pandas as pd\n",
    "from scipy.stats import fisher_exact\n",
    "from process_database import process_grouped_df, process_rankings\n",
    "from load_results import load_result_dataset\n",
    "\n",
    "# Collector for odds ratios and p-values\n",
    "results = []\n",
    "# group = 'model_type'\n",
    "# group = 'pre_training_strategy'\n",
    "group = 'model_size'\n",
    "\n",
    "grouped_df = process_grouped_df(final_data)\n",
    "grouped_df = process_rankings(grouped_df)\n",
    "odds_df = grouped_df['TOTAL'].reset_index()\n",
    "# Unique ID for observation\n",
    "index_cols = ['backbone', 'pre_training_strategy', 'model_type', 'model_size', 'ft_strategy']\n",
    "score_col = \"score_sum\"\n",
    "\n",
    "for cond in set(odds_df[group] ):\n",
    "\n",
    "        subset = odds_df[ odds_df[group] == cond ]\n",
    "\n",
    "        pivot = subset.pivot_table(\n",
    "                        index=index_cols,\n",
    "                        columns=\"loss_function\",\n",
    "                        values=score_col ).dropna()\n",
    "        \n",
    "                # Pairwise TRADES vs CLASSIC\n",
    "        pivot[\"winner\"] = pivot.apply(\n",
    "                        lambda row: \"TRADES\" if row[\"TRADES_v2\"] > row[\"CLASSIC_AT\"]\n",
    "                        else \"CLASSIC\" if row[\"TRADES_v2\"] < row[\"CLASSIC_AT\"]\n",
    "                        else \"TIE\",\n",
    "                        axis=1\n",
    "                        )\n",
    "        \n",
    "        # wins = pivot[pivot[\"winner\"] != \"TIE\"]\n",
    "        # trades_wins = (wins[\"winner\"] == \"TRADES\").sum()\n",
    "        # classic_wins = (wins[\"winner\"] == \"CLASSIC\").sum()\n",
    "\n",
    "        # table = [[trades_wins, classic_wins], [classic_wins, trades_wins]]\n",
    "        #         # table = [[trades_wins, classic_wins], [classic_wins, trades_wins]]\n",
    "        # odds_ratio, p_value = fisher_exact(table)\n",
    "\n",
    "        # results.append({\n",
    "        #         # \"fts\": fts,\n",
    "        #         \"cond\": cond,\n",
    "        #         \"trades_wins\": trades_wins,\n",
    "        #         \"classic_wins\": classic_wins,\n",
    "        #         \"odds_ratio\": odds_ratio,\n",
    "        #         \"p_value\": p_value })\n",
    "        \n",
    "        \n",
    "        for fts in [ \"FFT (50 epochs)\", \"FFT (5 epochs)\", \"LP (50 epochs)\" ]:\n",
    "                 \n",
    "                pivot2 = pivot.reset_index()\n",
    "                pivot2 = pivot2[ pivot2.ft_strategy == fts ]\n",
    "\n",
    "                wins = pivot2[pivot2[\"winner\"] != \"TIE\"]\n",
    "                trades_wins = (wins[\"winner\"] == \"TRADES\").sum()\n",
    "                classic_wins = (wins[\"winner\"] == \"CLASSIC\").sum()\n",
    "\n",
    "                table = [[trades_wins, classic_wins], [classic_wins, trades_wins]]\n",
    "                # table = [[trades_wins, classic_wins], [classic_wins, trades_wins]]\n",
    "                odds_ratio, p_value = fisher_exact(table)\n",
    "\n",
    "                # Collect result\n",
    "                results.append({\n",
    "                                \"fts\": fts,\n",
    "                                \"cond\": cond,\n",
    "                                \"trades_wins\": trades_wins,\n",
    "                                \"classic_wins\": classic_wins,\n",
    "                                \"odds_ratio\": odds_ratio,\n",
    "                                \"p_value\": p_value\n",
    "                                })\n",
    "\n",
    "# Convert to DataFrame\n",
    "results_df = pd.DataFrame(results)\n",
    "results_df"
   ]
  },
  {
   "cell_type": "code",
   "execution_count": 16,
   "metadata": {},
   "outputs": [
    {
     "data": {
      "application/vnd.plotly.v1+json": {
       "config": {
        "plotlyServerURL": "https://plot.ly"
       },
       "data": [
        {
         "alignmentgroup": "True",
         "cliponaxis": false,
         "hovertemplate": "Fine-Tuning Strategy=FFT (50 epochs)<br>model_size=%{x}<br>Odds Ratio=%{y}<br>text_label=%{text}<extra></extra>",
         "legendgroup": "FFT (50 epochs)",
         "marker": {
          "color": "#E69F00",
          "pattern": {
           "shape": ""
          }
         },
         "name": "FFT (50 epochs)",
         "offsetgroup": "FFT (50 epochs)",
         "orientation": "v",
         "showlegend": true,
         "text": [
          "7.56<br>(p=0.027)",
          "∞<br>(p=0.000)",
          "6.25<br>(p=0.286)"
         ],
         "textangle": -90,
         "textfont": {
          "size": 6
         },
         "textposition": "outside",
         "type": "bar",
         "x": [
          "medium",
          "large",
          "small"
         ],
         "xaxis": "x",
         "y": [
          7.5625,
          27.500000000000004,
          6.25
         ],
         "yaxis": "y"
        },
        {
         "alignmentgroup": "True",
         "cliponaxis": false,
         "hovertemplate": "Fine-Tuning Strategy=FFT (5 epochs)<br>model_size=%{x}<br>Odds Ratio=%{y}<br>text_label=%{text}<extra></extra>",
         "legendgroup": "FFT (5 epochs)",
         "marker": {
          "color": "#56B4E9",
          "pattern": {
           "shape": ""
          }
         },
         "name": "FFT (5 epochs)",
         "offsetgroup": "FFT (5 epochs)",
         "orientation": "v",
         "showlegend": true,
         "text": [
          "0.77<br>(p=1.000)",
          "25<br>(p=0.000)",
          "1.78<br>(p=1.000)"
         ],
         "textangle": -90,
         "textfont": {
          "size": 6
         },
         "textposition": "outside",
         "type": "bar",
         "x": [
          "medium",
          "large",
          "small"
         ],
         "xaxis": "x",
         "y": [
          0.765625,
          25,
          1.7777777777777777
         ],
         "yaxis": "y"
        },
        {
         "alignmentgroup": "True",
         "cliponaxis": false,
         "hovertemplate": "Fine-Tuning Strategy=LP (50 epochs)<br>model_size=%{x}<br>Odds Ratio=%{y}<br>text_label=%{text}<extra></extra>",
         "legendgroup": "LP (50 epochs)",
         "marker": {
          "color": "#CC79A7",
          "pattern": {
           "shape": ""
          }
         },
         "name": "LP (50 epochs)",
         "offsetgroup": "LP (50 epochs)",
         "orientation": "v",
         "showlegend": true,
         "text": [
          "4<br>(p=0.143)",
          "25<br>(p=0.000)",
          "0.56<br>(p=1.000)"
         ],
         "textangle": -90,
         "textfont": {
          "size": 6
         },
         "textposition": "outside",
         "type": "bar",
         "x": [
          "medium",
          "large",
          "small"
         ],
         "xaxis": "x",
         "y": [
          4,
          25,
          0.5625
         ],
         "yaxis": "y"
        }
       ],
       "layout": {
        "barmode": "group",
        "height": 400,
        "legend": {
         "bgcolor": "rgba(255,255,255,1)",
         "bordercolor": "lightgrey",
         "borderwidth": 1,
         "font": {
          "size": 12
         },
         "title": {
          "text": "Fine-Tuning Strategy"
         },
         "tracegroupgap": 0,
         "x": 0.5,
         "xanchor": "left",
         "y": 1.1,
         "yanchor": "top"
        },
        "margin": {
         "b": 0,
         "l": 0,
         "r": 0,
         "t": 40
        },
        "paper_bgcolor": "white",
        "plot_bgcolor": "white",
        "showlegend": true,
        "template": {
         "data": {
          "bar": [
           {
            "error_x": {
             "color": "#2a3f5f"
            },
            "error_y": {
             "color": "#2a3f5f"
            },
            "marker": {
             "line": {
              "color": "#E5ECF6",
              "width": 0.5
             },
             "pattern": {
              "fillmode": "overlay",
              "size": 10,
              "solidity": 0.2
             }
            },
            "type": "bar"
           }
          ],
          "barpolar": [
           {
            "marker": {
             "line": {
              "color": "#E5ECF6",
              "width": 0.5
             },
             "pattern": {
              "fillmode": "overlay",
              "size": 10,
              "solidity": 0.2
             }
            },
            "type": "barpolar"
           }
          ],
          "carpet": [
           {
            "aaxis": {
             "endlinecolor": "#2a3f5f",
             "gridcolor": "white",
             "linecolor": "white",
             "minorgridcolor": "white",
             "startlinecolor": "#2a3f5f"
            },
            "baxis": {
             "endlinecolor": "#2a3f5f",
             "gridcolor": "white",
             "linecolor": "white",
             "minorgridcolor": "white",
             "startlinecolor": "#2a3f5f"
            },
            "type": "carpet"
           }
          ],
          "choropleth": [
           {
            "colorbar": {
             "outlinewidth": 0,
             "ticks": ""
            },
            "type": "choropleth"
           }
          ],
          "contour": [
           {
            "colorbar": {
             "outlinewidth": 0,
             "ticks": ""
            },
            "colorscale": [
             [
              0,
              "#0d0887"
             ],
             [
              0.1111111111111111,
              "#46039f"
             ],
             [
              0.2222222222222222,
              "#7201a8"
             ],
             [
              0.3333333333333333,
              "#9c179e"
             ],
             [
              0.4444444444444444,
              "#bd3786"
             ],
             [
              0.5555555555555556,
              "#d8576b"
             ],
             [
              0.6666666666666666,
              "#ed7953"
             ],
             [
              0.7777777777777778,
              "#fb9f3a"
             ],
             [
              0.8888888888888888,
              "#fdca26"
             ],
             [
              1,
              "#f0f921"
             ]
            ],
            "type": "contour"
           }
          ],
          "contourcarpet": [
           {
            "colorbar": {
             "outlinewidth": 0,
             "ticks": ""
            },
            "type": "contourcarpet"
           }
          ],
          "heatmap": [
           {
            "colorbar": {
             "outlinewidth": 0,
             "ticks": ""
            },
            "colorscale": [
             [
              0,
              "#0d0887"
             ],
             [
              0.1111111111111111,
              "#46039f"
             ],
             [
              0.2222222222222222,
              "#7201a8"
             ],
             [
              0.3333333333333333,
              "#9c179e"
             ],
             [
              0.4444444444444444,
              "#bd3786"
             ],
             [
              0.5555555555555556,
              "#d8576b"
             ],
             [
              0.6666666666666666,
              "#ed7953"
             ],
             [
              0.7777777777777778,
              "#fb9f3a"
             ],
             [
              0.8888888888888888,
              "#fdca26"
             ],
             [
              1,
              "#f0f921"
             ]
            ],
            "type": "heatmap"
           }
          ],
          "heatmapgl": [
           {
            "colorbar": {
             "outlinewidth": 0,
             "ticks": ""
            },
            "colorscale": [
             [
              0,
              "#0d0887"
             ],
             [
              0.1111111111111111,
              "#46039f"
             ],
             [
              0.2222222222222222,
              "#7201a8"
             ],
             [
              0.3333333333333333,
              "#9c179e"
             ],
             [
              0.4444444444444444,
              "#bd3786"
             ],
             [
              0.5555555555555556,
              "#d8576b"
             ],
             [
              0.6666666666666666,
              "#ed7953"
             ],
             [
              0.7777777777777778,
              "#fb9f3a"
             ],
             [
              0.8888888888888888,
              "#fdca26"
             ],
             [
              1,
              "#f0f921"
             ]
            ],
            "type": "heatmapgl"
           }
          ],
          "histogram": [
           {
            "marker": {
             "pattern": {
              "fillmode": "overlay",
              "size": 10,
              "solidity": 0.2
             }
            },
            "type": "histogram"
           }
          ],
          "histogram2d": [
           {
            "colorbar": {
             "outlinewidth": 0,
             "ticks": ""
            },
            "colorscale": [
             [
              0,
              "#0d0887"
             ],
             [
              0.1111111111111111,
              "#46039f"
             ],
             [
              0.2222222222222222,
              "#7201a8"
             ],
             [
              0.3333333333333333,
              "#9c179e"
             ],
             [
              0.4444444444444444,
              "#bd3786"
             ],
             [
              0.5555555555555556,
              "#d8576b"
             ],
             [
              0.6666666666666666,
              "#ed7953"
             ],
             [
              0.7777777777777778,
              "#fb9f3a"
             ],
             [
              0.8888888888888888,
              "#fdca26"
             ],
             [
              1,
              "#f0f921"
             ]
            ],
            "type": "histogram2d"
           }
          ],
          "histogram2dcontour": [
           {
            "colorbar": {
             "outlinewidth": 0,
             "ticks": ""
            },
            "colorscale": [
             [
              0,
              "#0d0887"
             ],
             [
              0.1111111111111111,
              "#46039f"
             ],
             [
              0.2222222222222222,
              "#7201a8"
             ],
             [
              0.3333333333333333,
              "#9c179e"
             ],
             [
              0.4444444444444444,
              "#bd3786"
             ],
             [
              0.5555555555555556,
              "#d8576b"
             ],
             [
              0.6666666666666666,
              "#ed7953"
             ],
             [
              0.7777777777777778,
              "#fb9f3a"
             ],
             [
              0.8888888888888888,
              "#fdca26"
             ],
             [
              1,
              "#f0f921"
             ]
            ],
            "type": "histogram2dcontour"
           }
          ],
          "mesh3d": [
           {
            "colorbar": {
             "outlinewidth": 0,
             "ticks": ""
            },
            "type": "mesh3d"
           }
          ],
          "parcoords": [
           {
            "line": {
             "colorbar": {
              "outlinewidth": 0,
              "ticks": ""
             }
            },
            "type": "parcoords"
           }
          ],
          "pie": [
           {
            "automargin": true,
            "type": "pie"
           }
          ],
          "scatter": [
           {
            "fillpattern": {
             "fillmode": "overlay",
             "size": 10,
             "solidity": 0.2
            },
            "type": "scatter"
           }
          ],
          "scatter3d": [
           {
            "line": {
             "colorbar": {
              "outlinewidth": 0,
              "ticks": ""
             }
            },
            "marker": {
             "colorbar": {
              "outlinewidth": 0,
              "ticks": ""
             }
            },
            "type": "scatter3d"
           }
          ],
          "scattercarpet": [
           {
            "marker": {
             "colorbar": {
              "outlinewidth": 0,
              "ticks": ""
             }
            },
            "type": "scattercarpet"
           }
          ],
          "scattergeo": [
           {
            "marker": {
             "colorbar": {
              "outlinewidth": 0,
              "ticks": ""
             }
            },
            "type": "scattergeo"
           }
          ],
          "scattergl": [
           {
            "marker": {
             "colorbar": {
              "outlinewidth": 0,
              "ticks": ""
             }
            },
            "type": "scattergl"
           }
          ],
          "scattermapbox": [
           {
            "marker": {
             "colorbar": {
              "outlinewidth": 0,
              "ticks": ""
             }
            },
            "type": "scattermapbox"
           }
          ],
          "scatterpolar": [
           {
            "marker": {
             "colorbar": {
              "outlinewidth": 0,
              "ticks": ""
             }
            },
            "type": "scatterpolar"
           }
          ],
          "scatterpolargl": [
           {
            "marker": {
             "colorbar": {
              "outlinewidth": 0,
              "ticks": ""
             }
            },
            "type": "scatterpolargl"
           }
          ],
          "scatterternary": [
           {
            "marker": {
             "colorbar": {
              "outlinewidth": 0,
              "ticks": ""
             }
            },
            "type": "scatterternary"
           }
          ],
          "surface": [
           {
            "colorbar": {
             "outlinewidth": 0,
             "ticks": ""
            },
            "colorscale": [
             [
              0,
              "#0d0887"
             ],
             [
              0.1111111111111111,
              "#46039f"
             ],
             [
              0.2222222222222222,
              "#7201a8"
             ],
             [
              0.3333333333333333,
              "#9c179e"
             ],
             [
              0.4444444444444444,
              "#bd3786"
             ],
             [
              0.5555555555555556,
              "#d8576b"
             ],
             [
              0.6666666666666666,
              "#ed7953"
             ],
             [
              0.7777777777777778,
              "#fb9f3a"
             ],
             [
              0.8888888888888888,
              "#fdca26"
             ],
             [
              1,
              "#f0f921"
             ]
            ],
            "type": "surface"
           }
          ],
          "table": [
           {
            "cells": {
             "fill": {
              "color": "#EBF0F8"
             },
             "line": {
              "color": "white"
             }
            },
            "header": {
             "fill": {
              "color": "#C8D4E3"
             },
             "line": {
              "color": "white"
             }
            },
            "type": "table"
           }
          ]
         },
         "layout": {
          "annotationdefaults": {
           "arrowcolor": "#2a3f5f",
           "arrowhead": 0,
           "arrowwidth": 1
          },
          "autotypenumbers": "strict",
          "coloraxis": {
           "colorbar": {
            "outlinewidth": 0,
            "ticks": ""
           }
          },
          "colorscale": {
           "diverging": [
            [
             0,
             "#8e0152"
            ],
            [
             0.1,
             "#c51b7d"
            ],
            [
             0.2,
             "#de77ae"
            ],
            [
             0.3,
             "#f1b6da"
            ],
            [
             0.4,
             "#fde0ef"
            ],
            [
             0.5,
             "#f7f7f7"
            ],
            [
             0.6,
             "#e6f5d0"
            ],
            [
             0.7,
             "#b8e186"
            ],
            [
             0.8,
             "#7fbc41"
            ],
            [
             0.9,
             "#4d9221"
            ],
            [
             1,
             "#276419"
            ]
           ],
           "sequential": [
            [
             0,
             "#0d0887"
            ],
            [
             0.1111111111111111,
             "#46039f"
            ],
            [
             0.2222222222222222,
             "#7201a8"
            ],
            [
             0.3333333333333333,
             "#9c179e"
            ],
            [
             0.4444444444444444,
             "#bd3786"
            ],
            [
             0.5555555555555556,
             "#d8576b"
            ],
            [
             0.6666666666666666,
             "#ed7953"
            ],
            [
             0.7777777777777778,
             "#fb9f3a"
            ],
            [
             0.8888888888888888,
             "#fdca26"
            ],
            [
             1,
             "#f0f921"
            ]
           ],
           "sequentialminus": [
            [
             0,
             "#0d0887"
            ],
            [
             0.1111111111111111,
             "#46039f"
            ],
            [
             0.2222222222222222,
             "#7201a8"
            ],
            [
             0.3333333333333333,
             "#9c179e"
            ],
            [
             0.4444444444444444,
             "#bd3786"
            ],
            [
             0.5555555555555556,
             "#d8576b"
            ],
            [
             0.6666666666666666,
             "#ed7953"
            ],
            [
             0.7777777777777778,
             "#fb9f3a"
            ],
            [
             0.8888888888888888,
             "#fdca26"
            ],
            [
             1,
             "#f0f921"
            ]
           ]
          },
          "colorway": [
           "#636efa",
           "#EF553B",
           "#00cc96",
           "#ab63fa",
           "#FFA15A",
           "#19d3f3",
           "#FF6692",
           "#B6E880",
           "#FF97FF",
           "#FECB52"
          ],
          "font": {
           "color": "#2a3f5f"
          },
          "geo": {
           "bgcolor": "white",
           "lakecolor": "white",
           "landcolor": "#E5ECF6",
           "showlakes": true,
           "showland": true,
           "subunitcolor": "white"
          },
          "hoverlabel": {
           "align": "left"
          },
          "hovermode": "closest",
          "mapbox": {
           "style": "light"
          },
          "paper_bgcolor": "white",
          "plot_bgcolor": "#E5ECF6",
          "polar": {
           "angularaxis": {
            "gridcolor": "white",
            "linecolor": "white",
            "ticks": ""
           },
           "bgcolor": "#E5ECF6",
           "radialaxis": {
            "gridcolor": "white",
            "linecolor": "white",
            "ticks": ""
           }
          },
          "scene": {
           "xaxis": {
            "backgroundcolor": "#E5ECF6",
            "gridcolor": "white",
            "gridwidth": 2,
            "linecolor": "white",
            "showbackground": true,
            "ticks": "",
            "zerolinecolor": "white"
           },
           "yaxis": {
            "backgroundcolor": "#E5ECF6",
            "gridcolor": "white",
            "gridwidth": 2,
            "linecolor": "white",
            "showbackground": true,
            "ticks": "",
            "zerolinecolor": "white"
           },
           "zaxis": {
            "backgroundcolor": "#E5ECF6",
            "gridcolor": "white",
            "gridwidth": 2,
            "linecolor": "white",
            "showbackground": true,
            "ticks": "",
            "zerolinecolor": "white"
           }
          },
          "shapedefaults": {
           "line": {
            "color": "#2a3f5f"
           }
          },
          "ternary": {
           "aaxis": {
            "gridcolor": "white",
            "linecolor": "white",
            "ticks": ""
           },
           "baxis": {
            "gridcolor": "white",
            "linecolor": "white",
            "ticks": ""
           },
           "bgcolor": "#E5ECF6",
           "caxis": {
            "gridcolor": "white",
            "linecolor": "white",
            "ticks": ""
           }
          },
          "title": {
           "x": 0.05
          },
          "xaxis": {
           "automargin": true,
           "gridcolor": "white",
           "linecolor": "white",
           "ticks": "",
           "title": {
            "standoff": 15
           },
           "zerolinecolor": "white",
           "zerolinewidth": 2
          },
          "yaxis": {
           "automargin": true,
           "gridcolor": "white",
           "linecolor": "white",
           "ticks": "",
           "title": {
            "standoff": 15
           },
           "zerolinecolor": "white",
           "zerolinewidth": 2
          }
         }
        },
        "uniformtext": {
         "minsize": 8,
         "mode": "show"
        },
        "width": 450,
        "xaxis": {
         "anchor": "y",
         "domain": [
          0,
          1
         ],
         "gridcolor": "lightgrey",
         "showgrid": false,
         "title": {
          "text": "model_size"
         }
        },
        "yaxis": {
         "anchor": "x",
         "domain": [
          0,
          1
         ],
         "gridcolor": "lightgrey",
         "showgrid": true,
         "title": {
          "text": "Odds Ratio"
         }
        }
       }
      }
     },
     "metadata": {},
     "output_type": "display_data"
    }
   ],
   "source": [
    "import plotly.express as px\n",
    "import pandas as pd\n",
    "import numpy as np\n",
    "\n",
    "# Add sample size column\n",
    "results_df[\"sample_size\"] = results_df[\"trades_wins\"] + results_df[\"classic_wins\"]\n",
    "\n",
    "# 3)  pretty text – use “∞” for the truly infinite ones\n",
    "def fmt_or(x):\n",
    "    if np.isinf(x):\n",
    "        return \"∞\"\n",
    "    return f\"{x:.2f}\" if x % 1 else f\"{int(x)}\"\n",
    "\n",
    "results_df[\"text_label\"] = (\n",
    "    results_df.apply(\n",
    "        lambda r: (\n",
    "            f\"{fmt_or(r['odds_ratio'])}\"\n",
    "            f\"<br>(p={r['p_value']:.3f})\"\n",
    "            #f\"<br>n={r['sample_size']}\"\n",
    "        ),\n",
    "        axis=1,\n",
    "    )\n",
    ")\n",
    "\n",
    "# cap infinite values at 10 % above the largest finite OR\n",
    "finite_mask = np.isfinite(results_df[\"odds_ratio\"])\n",
    "finite_max  = results_df.loc[finite_mask, \"odds_ratio\"].max()\n",
    "cap_value   = finite_max * 1.10\n",
    "\n",
    "results_df[\"odds_ratio2\"] = results_df[\"odds_ratio\"].replace([np.inf, -np.inf],\n",
    "                                                             cap_value)\n",
    "\n",
    "if group == \"pre_training_strategy\":\n",
    "    label_map = {\n",
    "        \"self-supervised (multimodal)\": \"self-sup<br>(multimodal)\",\n",
    "        \"supervised (robust)\": \"sup<br>(robust)\",\n",
    "        \"supervised\": \"sup\",\n",
    "        \"hybrid\": \"hybrid\",\n",
    "        \"self-supervised\": \"self-sup\"\n",
    "    }\n",
    "\n",
    "    results_df[\"cond\"] = results_df[\"cond\"].map(label_map)\n",
    "\n",
    "\n",
    "# Color-blind-friendly palette (Color Universal Design, up to 8 categories)\n",
    "color_blind_palette = [\n",
    "    \"#E69F00\",  # orange\n",
    "    \"#56B4E9\",  # blue\n",
    "    \"#CC79A7\",  # pink\n",
    "    \"#0072B2\",  # dark blue\n",
    "    \"#D55E00\",  # vermillion\n",
    "    \"#009E73\",  # green\n",
    "    \"#F0E442\",  # yellow\n",
    "    \"#999999\",  # gray\n",
    "]\n",
    "\n",
    "# Optional: Create a mapping from unique `fts` values to color\n",
    "fts_unique = results_df[\"fts\"].unique()\n",
    "color_discrete_map = {\n",
    "    fts: color_blind_palette[i % len(color_blind_palette)]\n",
    "    for i, fts in enumerate(fts_unique)\n",
    "}\n",
    "\n",
    "\n",
    "fig = px.bar(\n",
    "    results_df,\n",
    "    x=\"cond\",\n",
    "    y=\"odds_ratio2\",\n",
    "    color=\"fts\",\n",
    "    barmode=\"group\",\n",
    "    text=\"text_label\",\n",
    "    labels={\"cond\": \"{}\".format(group), \"odds_ratio2\": \"Odds Ratio\", \"fts\": \"Fine-Tuning Strategy\"},\n",
    "    color_discrete_map=color_discrete_map\n",
    ")\n",
    "\n",
    "# Update traces for text styling\n",
    "fig.update_traces(\n",
    "    textposition=\"outside\",\n",
    "    textangle=-90,\n",
    "    textfont=dict(size=6),\n",
    "    cliponaxis=False\n",
    ")\n",
    "\n",
    "fig.update_layout(\n",
    "            margin=dict(l=0, r=0, t=40, b=0),  # remove all outer margins\n",
    "            width=450,    # in pixels (~2.5 inches at 96 DPI)\n",
    "            height=400,    # in pixels (~1.875 inches)\n",
    "            yaxis_title=\"Odds Ratio\",\n",
    "            xaxis_title=\"{}\".format(group),            \n",
    "            # White background\n",
    "            plot_bgcolor=\"white\",\n",
    "            paper_bgcolor=\"white\",\n",
    "            \n",
    "            # Light grey grid\n",
    "            xaxis=dict(showgrid=False, gridcolor=\"lightgrey\"),\n",
    "            yaxis=dict(showgrid=True, gridcolor=\"lightgrey\"),\n",
    "            uniformtext_minsize=8,\n",
    "            uniformtext_mode='show',\n",
    "            showlegend = True,\n",
    "            \n",
    "            # Legend inside figure\n",
    "            legend=dict(\n",
    "                font=dict(size=12),\n",
    "                yanchor=\"top\",\n",
    "                xanchor=\"left\",   # anchor point for x position\n",
    "                x=0.5,           # move legend to the left side\n",
    "                y=1.1,           # optional: near the top\n",
    "                bgcolor=\"rgba(255,255,255,1)\",\n",
    "                bordercolor=\"lightgrey\",\n",
    "                borderwidth=1\n",
    "            )\n",
    "        )\n",
    "\n",
    "fig.show()\n",
    "fig.write_image(\"./paper_figures/oddsratio_TRADES_outperforms_{}.png\".format(group), scale=3  )\n"
   ]
  },
  {
   "cell_type": "code",
   "execution_count": 17,
   "metadata": {},
   "outputs": [
    {
     "ename": "OverflowError",
     "evalue": "cannot convert float infinity to integer",
     "output_type": "error",
     "traceback": [
      "\u001b[0;31m---------------------------------------------------------------------------\u001b[0m",
      "\u001b[0;31mOverflowError\u001b[0m                             Traceback (most recent call last)",
      "Input \u001b[0;32mIn [17]\u001b[0m, in \u001b[0;36m<cell line: 8>\u001b[0;34m()\u001b[0m\n\u001b[1;32m      5\u001b[0m results_df[\u001b[38;5;124m\"\u001b[39m\u001b[38;5;124msample_size\u001b[39m\u001b[38;5;124m\"\u001b[39m] \u001b[38;5;241m=\u001b[39m results_df[\u001b[38;5;124m\"\u001b[39m\u001b[38;5;124mtrades_wins\u001b[39m\u001b[38;5;124m\"\u001b[39m] \u001b[38;5;241m+\u001b[39m results_df[\u001b[38;5;124m\"\u001b[39m\u001b[38;5;124mclassic_wins\u001b[39m\u001b[38;5;124m\"\u001b[39m]\n\u001b[1;32m      7\u001b[0m \u001b[38;5;66;03m# Format text label with odds ratio, p-value, and sample size\u001b[39;00m\n\u001b[0;32m----> 8\u001b[0m results_df[\u001b[38;5;124m\"\u001b[39m\u001b[38;5;124mtext_label\u001b[39m\u001b[38;5;124m\"\u001b[39m] \u001b[38;5;241m=\u001b[39m \u001b[43mresults_df\u001b[49m\u001b[38;5;241;43m.\u001b[39;49m\u001b[43mapply\u001b[49m\u001b[43m(\u001b[49m\n\u001b[1;32m      9\u001b[0m \u001b[43m    \u001b[49m\u001b[38;5;28;43;01mlambda\u001b[39;49;00m\u001b[43m \u001b[49m\u001b[43mrow\u001b[49m\u001b[43m:\u001b[49m\u001b[43m \u001b[49m\u001b[43m(\u001b[49m\n\u001b[1;32m     10\u001b[0m \u001b[43m        \u001b[49m\u001b[38;5;124;43mf\u001b[39;49m\u001b[38;5;124;43m'\u001b[39;49m\u001b[38;5;132;43;01m{\u001b[39;49;00m\u001b[38;5;28;43mint\u001b[39;49m\u001b[43m(\u001b[49m\u001b[43mrow\u001b[49m\u001b[43m[\u001b[49m\u001b[38;5;124;43m\"\u001b[39;49m\u001b[38;5;124;43modds_ratio\u001b[39;49m\u001b[38;5;124;43m\"\u001b[39;49m\u001b[43m]\u001b[49m\u001b[43m)\u001b[49m\u001b[38;5;132;43;01m}\u001b[39;49;00m\u001b[38;5;124;43m'\u001b[39;49m\u001b[43m \u001b[49m\u001b[38;5;28;43;01mif\u001b[39;49;00m\u001b[43m \u001b[49m\u001b[43mrow\u001b[49m\u001b[43m[\u001b[49m\u001b[38;5;124;43m\"\u001b[39;49m\u001b[38;5;124;43modds_ratio\u001b[39;49m\u001b[38;5;124;43m\"\u001b[39;49m\u001b[43m]\u001b[49m\u001b[43m \u001b[49m\u001b[38;5;241;43m==\u001b[39;49m\u001b[43m \u001b[49m\u001b[38;5;28;43mint\u001b[39;49m\u001b[43m(\u001b[49m\u001b[43mrow\u001b[49m\u001b[43m[\u001b[49m\u001b[38;5;124;43m\"\u001b[39;49m\u001b[38;5;124;43modds_ratio\u001b[39;49m\u001b[38;5;124;43m\"\u001b[39;49m\u001b[43m]\u001b[49m\u001b[43m)\u001b[49m\u001b[43m \u001b[49m\n\u001b[1;32m     11\u001b[0m \u001b[43m        \u001b[49m\u001b[38;5;28;43;01melse\u001b[39;49;00m\u001b[43m \u001b[49m\u001b[38;5;124;43mf\u001b[39;49m\u001b[38;5;124;43m'\u001b[39;49m\u001b[38;5;132;43;01m{\u001b[39;49;00m\u001b[43mrow\u001b[49m\u001b[43m[\u001b[49m\u001b[38;5;124;43m\"\u001b[39;49m\u001b[38;5;124;43modds_ratio\u001b[39;49m\u001b[38;5;124;43m\"\u001b[39;49m\u001b[43m]\u001b[49m\u001b[38;5;132;43;01m:\u001b[39;49;00m\u001b[38;5;124;43m.2f\u001b[39;49m\u001b[38;5;132;43;01m}\u001b[39;49;00m\u001b[38;5;124;43m'\u001b[39;49m\n\u001b[1;32m     12\u001b[0m \u001b[43m    \u001b[49m\u001b[43m)\u001b[49m\u001b[43m \u001b[49m\u001b[38;5;241;43m+\u001b[39;49m\u001b[43m \u001b[49m\u001b[38;5;124;43mf\u001b[39;49m\u001b[38;5;124;43m'\u001b[39;49m\u001b[38;5;124;43m<br>(p=\u001b[39;49m\u001b[38;5;132;43;01m{\u001b[39;49;00m\u001b[43mrow\u001b[49m\u001b[43m[\u001b[49m\u001b[38;5;124;43m\"\u001b[39;49m\u001b[38;5;124;43mp_value\u001b[39;49m\u001b[38;5;124;43m\"\u001b[39;49m\u001b[43m]\u001b[49m\u001b[38;5;132;43;01m:\u001b[39;49;00m\u001b[38;5;124;43m.3f\u001b[39;49m\u001b[38;5;132;43;01m}\u001b[39;49;00m\u001b[38;5;124;43m)<br>n=\u001b[39;49m\u001b[38;5;132;43;01m{\u001b[39;49;00m\u001b[43mrow\u001b[49m\u001b[43m[\u001b[49m\u001b[38;5;124;43m\"\u001b[39;49m\u001b[38;5;124;43msample_size\u001b[39;49m\u001b[38;5;124;43m\"\u001b[39;49m\u001b[43m]\u001b[49m\u001b[38;5;132;43;01m}\u001b[39;49;00m\u001b[38;5;124;43m'\u001b[39;49m\u001b[43m,\u001b[49m\n\u001b[1;32m     13\u001b[0m \u001b[43m    \u001b[49m\u001b[43maxis\u001b[49m\u001b[38;5;241;43m=\u001b[39;49m\u001b[38;5;241;43m1\u001b[39;49m\n\u001b[1;32m     14\u001b[0m \u001b[43m)\u001b[49m\n\u001b[1;32m     16\u001b[0m \u001b[38;5;66;03m# List of conditions to split by\u001b[39;00m\n\u001b[1;32m     17\u001b[0m conditions \u001b[38;5;241m=\u001b[39m [\u001b[38;5;124m\"\u001b[39m\u001b[38;5;124mmodel_type\u001b[39m\u001b[38;5;124m\"\u001b[39m, \u001b[38;5;124m\"\u001b[39m\u001b[38;5;124mpre_training_strategy\u001b[39m\u001b[38;5;124m\"\u001b[39m]\n",
      "File \u001b[0;32m~/opt/anaconda3/lib/python3.9/site-packages/pandas/core/frame.py:8839\u001b[0m, in \u001b[0;36mDataFrame.apply\u001b[0;34m(self, func, axis, raw, result_type, args, **kwargs)\u001b[0m\n\u001b[1;32m   8828\u001b[0m \u001b[38;5;28;01mfrom\u001b[39;00m \u001b[38;5;21;01mpandas\u001b[39;00m\u001b[38;5;21;01m.\u001b[39;00m\u001b[38;5;21;01mcore\u001b[39;00m\u001b[38;5;21;01m.\u001b[39;00m\u001b[38;5;21;01mapply\u001b[39;00m \u001b[38;5;28;01mimport\u001b[39;00m frame_apply\n\u001b[1;32m   8830\u001b[0m op \u001b[38;5;241m=\u001b[39m frame_apply(\n\u001b[1;32m   8831\u001b[0m     \u001b[38;5;28mself\u001b[39m,\n\u001b[1;32m   8832\u001b[0m     func\u001b[38;5;241m=\u001b[39mfunc,\n\u001b[0;32m   (...)\u001b[0m\n\u001b[1;32m   8837\u001b[0m     kwargs\u001b[38;5;241m=\u001b[39mkwargs,\n\u001b[1;32m   8838\u001b[0m )\n\u001b[0;32m-> 8839\u001b[0m \u001b[38;5;28;01mreturn\u001b[39;00m \u001b[43mop\u001b[49m\u001b[38;5;241;43m.\u001b[39;49m\u001b[43mapply\u001b[49m\u001b[43m(\u001b[49m\u001b[43m)\u001b[49m\u001b[38;5;241m.\u001b[39m__finalize__(\u001b[38;5;28mself\u001b[39m, method\u001b[38;5;241m=\u001b[39m\u001b[38;5;124m\"\u001b[39m\u001b[38;5;124mapply\u001b[39m\u001b[38;5;124m\"\u001b[39m)\n",
      "File \u001b[0;32m~/opt/anaconda3/lib/python3.9/site-packages/pandas/core/apply.py:727\u001b[0m, in \u001b[0;36mFrameApply.apply\u001b[0;34m(self)\u001b[0m\n\u001b[1;32m    724\u001b[0m \u001b[38;5;28;01melif\u001b[39;00m \u001b[38;5;28mself\u001b[39m\u001b[38;5;241m.\u001b[39mraw:\n\u001b[1;32m    725\u001b[0m     \u001b[38;5;28;01mreturn\u001b[39;00m \u001b[38;5;28mself\u001b[39m\u001b[38;5;241m.\u001b[39mapply_raw()\n\u001b[0;32m--> 727\u001b[0m \u001b[38;5;28;01mreturn\u001b[39;00m \u001b[38;5;28;43mself\u001b[39;49m\u001b[38;5;241;43m.\u001b[39;49m\u001b[43mapply_standard\u001b[49m\u001b[43m(\u001b[49m\u001b[43m)\u001b[49m\n",
      "File \u001b[0;32m~/opt/anaconda3/lib/python3.9/site-packages/pandas/core/apply.py:851\u001b[0m, in \u001b[0;36mFrameApply.apply_standard\u001b[0;34m(self)\u001b[0m\n\u001b[1;32m    850\u001b[0m \u001b[38;5;28;01mdef\u001b[39;00m \u001b[38;5;21mapply_standard\u001b[39m(\u001b[38;5;28mself\u001b[39m):\n\u001b[0;32m--> 851\u001b[0m     results, res_index \u001b[38;5;241m=\u001b[39m \u001b[38;5;28;43mself\u001b[39;49m\u001b[38;5;241;43m.\u001b[39;49m\u001b[43mapply_series_generator\u001b[49m\u001b[43m(\u001b[49m\u001b[43m)\u001b[49m\n\u001b[1;32m    853\u001b[0m     \u001b[38;5;66;03m# wrap results\u001b[39;00m\n\u001b[1;32m    854\u001b[0m     \u001b[38;5;28;01mreturn\u001b[39;00m \u001b[38;5;28mself\u001b[39m\u001b[38;5;241m.\u001b[39mwrap_results(results, res_index)\n",
      "File \u001b[0;32m~/opt/anaconda3/lib/python3.9/site-packages/pandas/core/apply.py:867\u001b[0m, in \u001b[0;36mFrameApply.apply_series_generator\u001b[0;34m(self)\u001b[0m\n\u001b[1;32m    864\u001b[0m \u001b[38;5;28;01mwith\u001b[39;00m option_context(\u001b[38;5;124m\"\u001b[39m\u001b[38;5;124mmode.chained_assignment\u001b[39m\u001b[38;5;124m\"\u001b[39m, \u001b[38;5;28;01mNone\u001b[39;00m):\n\u001b[1;32m    865\u001b[0m     \u001b[38;5;28;01mfor\u001b[39;00m i, v \u001b[38;5;129;01min\u001b[39;00m \u001b[38;5;28menumerate\u001b[39m(series_gen):\n\u001b[1;32m    866\u001b[0m         \u001b[38;5;66;03m# ignore SettingWithCopy here in case the user mutates\u001b[39;00m\n\u001b[0;32m--> 867\u001b[0m         results[i] \u001b[38;5;241m=\u001b[39m \u001b[38;5;28;43mself\u001b[39;49m\u001b[38;5;241;43m.\u001b[39;49m\u001b[43mf\u001b[49m\u001b[43m(\u001b[49m\u001b[43mv\u001b[49m\u001b[43m)\u001b[49m\n\u001b[1;32m    868\u001b[0m         \u001b[38;5;28;01mif\u001b[39;00m \u001b[38;5;28misinstance\u001b[39m(results[i], ABCSeries):\n\u001b[1;32m    869\u001b[0m             \u001b[38;5;66;03m# If we have a view on v, we need to make a copy because\u001b[39;00m\n\u001b[1;32m    870\u001b[0m             \u001b[38;5;66;03m#  series_generator will swap out the underlying data\u001b[39;00m\n\u001b[1;32m    871\u001b[0m             results[i] \u001b[38;5;241m=\u001b[39m results[i]\u001b[38;5;241m.\u001b[39mcopy(deep\u001b[38;5;241m=\u001b[39m\u001b[38;5;28;01mFalse\u001b[39;00m)\n",
      "Input \u001b[0;32mIn [17]\u001b[0m, in \u001b[0;36m<lambda>\u001b[0;34m(row)\u001b[0m\n\u001b[1;32m      5\u001b[0m results_df[\u001b[38;5;124m\"\u001b[39m\u001b[38;5;124msample_size\u001b[39m\u001b[38;5;124m\"\u001b[39m] \u001b[38;5;241m=\u001b[39m results_df[\u001b[38;5;124m\"\u001b[39m\u001b[38;5;124mtrades_wins\u001b[39m\u001b[38;5;124m\"\u001b[39m] \u001b[38;5;241m+\u001b[39m results_df[\u001b[38;5;124m\"\u001b[39m\u001b[38;5;124mclassic_wins\u001b[39m\u001b[38;5;124m\"\u001b[39m]\n\u001b[1;32m      7\u001b[0m \u001b[38;5;66;03m# Format text label with odds ratio, p-value, and sample size\u001b[39;00m\n\u001b[1;32m      8\u001b[0m results_df[\u001b[38;5;124m\"\u001b[39m\u001b[38;5;124mtext_label\u001b[39m\u001b[38;5;124m\"\u001b[39m] \u001b[38;5;241m=\u001b[39m results_df\u001b[38;5;241m.\u001b[39mapply(\n\u001b[1;32m      9\u001b[0m     \u001b[38;5;28;01mlambda\u001b[39;00m row: (\n\u001b[0;32m---> 10\u001b[0m         \u001b[38;5;124mf\u001b[39m\u001b[38;5;124m'\u001b[39m\u001b[38;5;132;01m{\u001b[39;00m\u001b[38;5;28mint\u001b[39m(row[\u001b[38;5;124m\"\u001b[39m\u001b[38;5;124modds_ratio\u001b[39m\u001b[38;5;124m\"\u001b[39m])\u001b[38;5;132;01m}\u001b[39;00m\u001b[38;5;124m'\u001b[39m \u001b[38;5;28;01mif\u001b[39;00m row[\u001b[38;5;124m\"\u001b[39m\u001b[38;5;124modds_ratio\u001b[39m\u001b[38;5;124m\"\u001b[39m] \u001b[38;5;241m==\u001b[39m \u001b[38;5;28;43mint\u001b[39;49m\u001b[43m(\u001b[49m\u001b[43mrow\u001b[49m\u001b[43m[\u001b[49m\u001b[38;5;124;43m\"\u001b[39;49m\u001b[38;5;124;43modds_ratio\u001b[39;49m\u001b[38;5;124;43m\"\u001b[39;49m\u001b[43m]\u001b[49m\u001b[43m)\u001b[49m \n\u001b[1;32m     11\u001b[0m         \u001b[38;5;28;01melse\u001b[39;00m \u001b[38;5;124mf\u001b[39m\u001b[38;5;124m'\u001b[39m\u001b[38;5;132;01m{\u001b[39;00mrow[\u001b[38;5;124m\"\u001b[39m\u001b[38;5;124modds_ratio\u001b[39m\u001b[38;5;124m\"\u001b[39m]\u001b[38;5;132;01m:\u001b[39;00m\u001b[38;5;124m.2f\u001b[39m\u001b[38;5;132;01m}\u001b[39;00m\u001b[38;5;124m'\u001b[39m\n\u001b[1;32m     12\u001b[0m     ) \u001b[38;5;241m+\u001b[39m \u001b[38;5;124mf\u001b[39m\u001b[38;5;124m'\u001b[39m\u001b[38;5;124m<br>(p=\u001b[39m\u001b[38;5;132;01m{\u001b[39;00mrow[\u001b[38;5;124m\"\u001b[39m\u001b[38;5;124mp_value\u001b[39m\u001b[38;5;124m\"\u001b[39m]\u001b[38;5;132;01m:\u001b[39;00m\u001b[38;5;124m.3f\u001b[39m\u001b[38;5;132;01m}\u001b[39;00m\u001b[38;5;124m)<br>n=\u001b[39m\u001b[38;5;132;01m{\u001b[39;00mrow[\u001b[38;5;124m\"\u001b[39m\u001b[38;5;124msample_size\u001b[39m\u001b[38;5;124m\"\u001b[39m]\u001b[38;5;132;01m}\u001b[39;00m\u001b[38;5;124m'\u001b[39m,\n\u001b[1;32m     13\u001b[0m     axis\u001b[38;5;241m=\u001b[39m\u001b[38;5;241m1\u001b[39m\n\u001b[1;32m     14\u001b[0m )\n\u001b[1;32m     16\u001b[0m \u001b[38;5;66;03m# List of conditions to split by\u001b[39;00m\n\u001b[1;32m     17\u001b[0m conditions \u001b[38;5;241m=\u001b[39m [\u001b[38;5;124m\"\u001b[39m\u001b[38;5;124mmodel_type\u001b[39m\u001b[38;5;124m\"\u001b[39m, \u001b[38;5;124m\"\u001b[39m\u001b[38;5;124mpre_training_strategy\u001b[39m\u001b[38;5;124m\"\u001b[39m]\n",
      "\u001b[0;31mOverflowError\u001b[0m: cannot convert float infinity to integer"
     ]
    }
   ],
   "source": [
    "import plotly.express as px\n",
    "import pandas as pd\n",
    "\n",
    "# Add sample size column\n",
    "results_df[\"sample_size\"] = results_df[\"trades_wins\"] + results_df[\"classic_wins\"]\n",
    "\n",
    "# Format text label with odds ratio, p-value, and sample size\n",
    "results_df[\"text_label\"] = results_df.apply(\n",
    "    lambda row: (\n",
    "        f'{int(row[\"odds_ratio\"])}' if row[\"odds_ratio\"] == int(row[\"odds_ratio\"]) \n",
    "        else f'{row[\"odds_ratio\"]:.2f}'\n",
    "    ) + f'<br>(p={row[\"p_value\"]:.3f})<br>n={row[\"sample_size\"]}',\n",
    "    axis=1\n",
    ")\n",
    "\n",
    "# List of conditions to split by\n",
    "conditions = [\"model_type\", \"pre_training_strategy\"]\n",
    "\n",
    "for cond in conditions:\n",
    "    # Group by condition + size + protocol\n",
    "    grouped = results_df.groupby([cond, \"size\", \"protocol\"]).agg(\n",
    "        trades_wins_sum=(\"trades_wins\", \"sum\"),\n",
    "        classic_wins_sum=(\"classic_wins\", \"sum\")\n",
    "    ).reset_index()\n",
    "    \n",
    "    # Compute odds ratio\n",
    "    grouped[\"odds_ratio\"] = (grouped[\"trades_wins_sum\"] + 0.5) / (grouped[\"classic_wins_sum\"] + 0.5)\n",
    "    grouped[\"sample_size\"] = grouped[\"trades_wins_sum\"] + grouped[\"classic_wins_sum\"]\n",
    "    \n",
    "    # You can add p-values here if needed; for now we'll omit for simplicity\n",
    "    grouped[\"text_label\"] = grouped.apply(\n",
    "        lambda row: (\n",
    "            f'{int(row[\"odds_ratio\"])}' if row[\"odds_ratio\"] == int(row[\"odds_ratio\"]) \n",
    "            else f'{row[\"odds_ratio\"]:.2f}'\n",
    "        ) + f'<br>n={row[\"sample_size\"]}',\n",
    "        axis=1\n",
    "    )\n",
    "    \n",
    "    unique_values = grouped[cond].unique()\n",
    "    \n",
    "    for val in unique_values:\n",
    "        sub_df = grouped[grouped[cond] == val]\n",
    "        \n",
    "        fig = px.bar(\n",
    "            sub_df,\n",
    "            x=\"size\",\n",
    "            y=\"odds_ratio\",\n",
    "            color=\"protocol\",\n",
    "            barmode=\"group\",\n",
    "            text=\"text_label\",\n",
    "            labels={\"size\": \"Model Size\", \"odds_ratio\": \"Odds Ratio\"},\n",
    "            title=f\"TRADES vs Classic - Conditioned on {cond}: {val}\"\n",
    "        )\n",
    "\n",
    "        fig.update_traces(\n",
    "            textposition=\"outside\",\n",
    "            textangle=-90,\n",
    "            textfont=dict(size=10),\n",
    "            cliponaxis=False\n",
    "        )\n",
    "\n",
    "        fig.update_layout(\n",
    "            margin=dict(l=0, r=0, t=30, b=0),\n",
    "            width=450,\n",
    "            height=400,\n",
    "            yaxis_title=\"Odds Ratio\",\n",
    "            xaxis_title=\"Model Size\",\n",
    "            plot_bgcolor=\"white\",\n",
    "            paper_bgcolor=\"white\",\n",
    "            xaxis=dict(showgrid=False, gridcolor=\"lightgrey\"),\n",
    "            yaxis=dict(showgrid=True, gridcolor=\"lightgrey\"),\n",
    "            uniformtext_minsize=8,\n",
    "            uniformtext_mode='show',\n",
    "            legend=dict(\n",
    "                font=dict(size=12),\n",
    "                yanchor=\"top\",\n",
    "                xanchor=\"left\",\n",
    "                x=0.05,\n",
    "                y=1.15,\n",
    "                bgcolor=\"rgba(255,255,255,1)\",\n",
    "                bordercolor=\"lightgrey\",\n",
    "                borderwidth=1\n",
    "            )\n",
    "        )\n",
    "\n",
    "        fig.show()\n",
    "        fig.write_image(f\"./paper_figures/oddsratio_TRADES_vs_classic_{cond}_{val}.png\", scale=3)\n"
   ]
  },
  {
   "cell_type": "code",
   "execution_count": 4,
   "metadata": {},
   "outputs": [
    {
     "name": "stdout",
     "output_type": "stream",
     "text": [
      "Percentage of NaN values: 0.01%\n",
      "Saved: latex_tables/FFT_50_epochs.tex\n",
      "Percentage of NaN values: 0.18%\n",
      "Saved: latex_tables/FFT_5_epochs.tex\n",
      "Percentage of NaN values: 0.00%\n",
      "Saved: latex_tables/LP_50_epochs.tex\n"
     ]
    },
    {
     "name": "stderr",
     "output_type": "stream",
     "text": [
      "/var/folders/v7/3s0lms795672_f7_mh2x6bcr0000gn/T/ipykernel_54322/2901307880.py:65: FutureWarning: In future versions `DataFrame.to_latex` is expected to utilise the base implementation of `Styler.to_latex` for formatting and rendering. The arguments signature may therefore change. It is recommended instead to use `DataFrame.style.to_latex` which also contains additional functionality.\n",
      "  body = table.to_latex(index=False,\n",
      "/var/folders/v7/3s0lms795672_f7_mh2x6bcr0000gn/T/ipykernel_54322/2901307880.py:65: FutureWarning: In future versions `DataFrame.to_latex` is expected to utilise the base implementation of `Styler.to_latex` for formatting and rendering. The arguments signature may therefore change. It is recommended instead to use `DataFrame.style.to_latex` which also contains additional functionality.\n",
      "  body = table.to_latex(index=False,\n",
      "/var/folders/v7/3s0lms795672_f7_mh2x6bcr0000gn/T/ipykernel_54322/2901307880.py:65: FutureWarning: In future versions `DataFrame.to_latex` is expected to utilise the base implementation of `Styler.to_latex` for formatting and rendering. The arguments signature may therefore change. It is recommended instead to use `DataFrame.style.to_latex` which also contains additional functionality.\n",
      "  body = table.to_latex(index=False,\n"
     ]
    }
   ],
   "source": [
    "\n",
    "from process_database import process_grouped_df, process_rankings\n",
    "import pandas as pd\n",
    "import numpy as np\n",
    "from pathlib import Path\n",
    "pd.set_option(\"display.max_colwidth\", None)   # no truncation for any column\n",
    "\n",
    "# ── helper: make a two‑line cell ────────────────────────────────────────────\n",
    "def fmt_entry(backbone: str, loss: str, rank: int) -> str:\n",
    "    backbone = backbone.replace('_', r'\\_')\n",
    "    loss     = loss.replace('_', r'\\_')\n",
    "    return (\n",
    "        r'\\makecell{'\n",
    "        f'{backbone}, {loss} \\\\\\\\[0.3ex] '     # ← four “\\” in Python ⇒ “\\\\” in .tex\n",
    "        r'\\footnotesize (GR:' f'{rank}' r')'\n",
    "        r'}'\n",
    "    )\n",
    "\n",
    "from pathlib import Path\n",
    "import pandas as pd\n",
    "import numpy as np\n",
    "\n",
    "final_data = pd.concat([df1, df2, df3], ignore_index=True)\n",
    "\n",
    "for setting in (\"FFT (50 epochs)\", \"FFT (5 epochs)\", \"LP (50 epochs)\"  ): # \n",
    "    rows = []\n",
    "    d = final_data[final_data.ft_strategy == setting]\n",
    "    g = process_rankings( process_grouped_df(d) )\n",
    "\n",
    "    for size in ( \"small\",\"medium\",  \"large\", ): # \n",
    "        copy = g.xs(size, level=\"model_size\")\n",
    "\n",
    "        # ── flatten & rename columns ────────────────────────────────────────\n",
    "        cols_keep = [\"rank_borda\", \"score_sum\", ] #\"rank_geom\", \"rank_sum\", \"score_geom\",  \"borda\"\n",
    "        df_bis = (copy.loc[:, (\"TOTAL\", cols_keep)].reset_index())\n",
    "\n",
    "        df_bis.columns = [\"_\".join(c) if isinstance(c, tuple) else c for c in df_bis.columns]\n",
    "        df_bis.columns = [\"backbone\", \"backbone_name\", \"loss\",\n",
    "                      \"pre_training_strategy\", \"model_type\", \"ft_strategy\",\n",
    "                      \"rank_borda_tot\",  \"score_sum_tot\", ] #\"rank_geom_tot\", \"rank_sum_tot\", \"score_geom_tot\", \"score_borda_tot\"\n",
    "\n",
    "        # ── choose top‑3 by total‑sum score ────────────────────────────────\n",
    "        df_bis = (df_bis.round(4)\n",
    "                .sort_values(\"rank_borda_tot\", ascending=True)\n",
    "                .head(3)\n",
    "                .reset_index(drop=True))\n",
    "\n",
    "        rows.append({\n",
    "            \"Size\": size,\n",
    "            \"Gold (1st)\"  : fmt_entry(df_bis.loc[0, \"backbone_name\"],\n",
    "                                      df_bis.loc[0, \"loss\"],\n",
    "                                      df_bis.loc[0, \"rank_borda_tot\"]),\n",
    "            \"Silver (2nd)\": fmt_entry(df_bis.loc[1, \"backbone_name\"],\n",
    "                                      df_bis.loc[1, \"loss\"],\n",
    "                                      df_bis.loc[1, \"rank_borda_tot\"]),\n",
    "            \"Bronze (3rd)\": fmt_entry(df_bis.loc[2, \"backbone_name\"],\n",
    "                                      df_bis.loc[2, \"loss\"],\n",
    "                                      df_bis.loc[2, \"rank_borda_tot\"]),\n",
    "            r\"$\\Delta \\%$ Abs. perf.  (1st$\\rightarrow$2nd)\": df_bis.loc[1, \"score_sum_tot\"] - df_bis.loc[0, \"score_sum_tot\"],\n",
    "            r\"$\\Delta \\%$ Abs. perf. (2nd$\\rightarrow$3rd)\": df_bis.loc[2, \"score_sum_tot\"] - df_bis.loc[1, \"score_sum_tot\"]\n",
    "        })\n",
    "\n",
    "    table = pd.DataFrame(rows).round(2)\n",
    "    table.columns = [rf\"\\textbf{{{c}}}\" for c in table.columns]\n",
    "\n",
    "    body = table.to_latex(index=False,\n",
    "                          escape=False,\n",
    "                          column_format=\"|\" + \"|\".join([\"c\"]*table.shape[1]) + \"|\")\n",
    "\n",
    "    safe_label = (setting.replace(\" \", \"_\")\n",
    "                         .replace(\"(\", \"\")\n",
    "                         .replace(\")\", \"\"))\n",
    "\n",
    "    # ── only wrap in \\resizebox if the table is wide (> 1.0× textwidth) ──\n",
    "    maybe_resize_open  = r\"\\resizebox{\\textwidth}{!}{%\"  # default on\n",
    "    maybe_resize_close = r\"}\"\n",
    "\n",
    "    # crude width check (char count) – feel free to refine\n",
    "    approx_char_per_col = 18\n",
    "    if approx_char_per_col * table.shape[1] < 140:   # fits? skip resizebox\n",
    "        maybe_resize_open = maybe_resize_close = \"\"\n",
    "\n",
    "    latex_table = \"\\n\".join([\n",
    "        r\"\\begin{table}[ht]\",\n",
    "        r\"\\centering\",\n",
    "        rf\"\\caption{{Top 3 fine‑tuning configurations {setting}}}\",\n",
    "        rf\"\\label{{tab:{safe_label}}}\",\n",
    "        r\"\\resizebox{\\textwidth}{!}{%\",      #  ← open\n",
    "        body,                                #  ← pandas output\n",
    "        r\"}\",                                #  ← close\n",
    "        r\"\\end{table}\",\n",
    "        \"\"\n",
    "    ])\n",
    "\n",
    "    out = Path(\"latex_tables\") / f\"{safe_label}.tex\"\n",
    "    out.write_text(latex_table, encoding=\"utf-8\")\n",
    "    print(\"Saved:\", out)\n"
   ]
  }
 ],
 "metadata": {
  "kernelspec": {
   "display_name": "base",
   "language": "python",
   "name": "python3"
  },
  "language_info": {
   "codemirror_mode": {
    "name": "ipython",
    "version": 3
   },
   "file_extension": ".py",
   "mimetype": "text/x-python",
   "name": "python",
   "nbconvert_exporter": "python",
   "pygments_lexer": "ipython3",
   "version": "3.9.7"
  }
 },
 "nbformat": 4,
 "nbformat_minor": 2
}
