{
 "cells": [
  {
   "cell_type": "code",
   "execution_count": 1,
   "metadata": {},
   "outputs": [
    {
     "name": "stdout",
     "output_type": "stream",
     "text": [
      "../results/full_fine_tuning_50epochs_paper_final2/CLIP-convnext_base_w-laion_aesthetic-s13B-b82K_uc-merced-land-use-dataset_TRADES_v2.pkl\n",
      "../results/full_fine_tuning_50epochs_paper_final2/CLIP-convnext_base_w-laion2B-s13B-b82K_uc-merced-land-use-dataset_TRADES_v2.pkl\n",
      "../results/full_fine_tuning_50epochs_paper_final2/deit_small_patch16_224.fb_in1k_uc-merced-land-use-dataset_TRADES_v2.pkl\n",
      "../results/full_fine_tuning_50epochs_paper_final2/robust_resnet50_uc-merced-land-use-dataset_TRADES_v2.pkl\n",
      "../results/full_fine_tuning_50epochs_paper_final2/vit_small_patch16_224.augreg_in21k_uc-merced-land-use-dataset_TRADES_v2.pkl\n",
      "../results/full_fine_tuning_50epochs_paper_final2/convnext_base.fb_in1k_uc-merced-land-use-dataset_TRADES_v2.pkl\n",
      "../results/full_fine_tuning_50epochs_paper_final2/resnet50.a1_in1k_uc-merced-land-use-dataset_TRADES_v2.pkl\n",
      "../results/full_fine_tuning_50epochs_paper_final2/robust_vit_base_patch16_224_uc-merced-land-use-dataset_TRADES_v2.pkl\n",
      "../results/full_fine_tuning_50epochs_paper_final2/vit_base_patch16_224.mae_uc-merced-land-use-dataset_TRADES_v2.pkl\n",
      "../results/full_fine_tuning_50epochs_paper_final2/vit_small_patch16_224.dino_uc-merced-land-use-dataset_TRADES_v2.pkl\n",
      "../results/full_fine_tuning_50epochs_paper_final2/convnext_base.fb_in22k_uc-merced-land-use-dataset_TRADES_v2.pkl\n",
      "../results/full_fine_tuning_50epochs_paper_final2/robust_convnext_base_uc-merced-land-use-dataset_TRADES_v2.pkl\n",
      "../results/full_fine_tuning_50epochs_paper_final2/vit_base_patch16_224.augreg_in1k_uc-merced-land-use-dataset_TRADES_v2.pkl\n",
      "../results/full_fine_tuning_50epochs_paper_final2/vit_base_patch16_224.augreg_in21k_uc-merced-land-use-dataset_TRADES_v2.pkl\n",
      "../results/full_fine_tuning_50epochs_paper_final2/vit_base_patch16_clip_224.laion2b_uc-merced-land-use-dataset_TRADES_v2.pkl\n",
      "../results/full_fine_tuning_50epochs_paper_final2/convnext_tiny.fb_in1k_uc-merced-land-use-dataset_TRADES_v2.pkl\n",
      "../results/full_fine_tuning_50epochs_paper_final2/robust_convnext_tiny_uc-merced-land-use-dataset_TRADES_v2.pkl\n",
      "../results/full_fine_tuning_50epochs_paper_final2/robust_deit_small_patch16_224_uc-merced-land-use-dataset_TRADES_v2.pkl\n",
      "../results/full_fine_tuning_50epochs_paper_final2/vit_small_patch16_224.augreg_in1k_uc-merced-land-use-dataset_TRADES_v2.pkl\n",
      "../results/full_fine_tuning_50epochs_paper_final2/convnext_tiny.fb_in22k_uc-merced-land-use-dataset_TRADES_v2.pkl\n",
      "../results/full_fine_tuning_50epochs_paper_final2/vit_base_patch16_clip_224.laion2b_ft_in1k_uc-merced-land-use-dataset_TRADES_v2.pkl\n",
      "../results/full_fine_tuning_50epochs_paper_final2/vit_base_patch16_224.augreg_in21k_ft_in1k_uc-merced-land-use-dataset_TRADES_v2.pkl\n",
      "../results/full_fine_tuning_50epochs_paper_final2/vit_small_patch16_224.augreg_in21k_ft_in1k_uc-merced-land-use-dataset_TRADES_v2.pkl\n",
      "../results/full_fine_tuning_50epochs_paper_final2/eva02_base_patch14_224.mim_in22k_uc-merced-land-use-dataset_TRADES_v2.pkl\n",
      "../results/full_fine_tuning_50epochs_paper_final2/eva02_tiny_patch14_224.mim_in22k_uc-merced-land-use-dataset_TRADES_v2.pkl\n",
      "../results/full_fine_tuning_50epochs_paper_final2/swin_base_patch4_window7_224.ms_in22k_ft_in1k_uc-merced-land-use-dataset_TRADES_v2.pkl\n",
      "../results/full_fine_tuning_50epochs_paper_final2/swin_tiny_patch4_window7_224.ms_in1k_uc-merced-land-use-dataset_TRADES_v2.pkl\n",
      "../results/full_fine_tuning_50epochs_paper_final2/convnext_base.clip_laion2b_augreg_ft_in12k_in1k_uc-merced-land-use-dataset_TRADES_v2.pkl\n",
      "../results/full_fine_tuning_50epochs_paper_final2/convnext_base.fb_in22k_ft_in1k_uc-merced-land-use-dataset_TRADES_v2.pkl\n",
      "../results/full_fine_tuning_50epochs_paper_final2/convnext_tiny.fb_in22k_ft_in1k_uc-merced-land-use-dataset_TRADES_v2.pkl\n",
      "../results/full_fine_tuning_50epochs_paper_final2/coatnet_0_rw_224.sw_in1k_uc-merced-land-use-dataset_TRADES_v2.pkl\n",
      "../results/full_fine_tuning_50epochs_paper_final2/coatnet_2_rw_224.sw_in12k_ft_in1k_uc-merced-land-use-dataset_TRADES_v2.pkl\n",
      "../results/full_fine_tuning_50epochs_paper_final2/coatnet_2_rw_224.sw_in12k_uc-merced-land-use-dataset_TRADES_v2.pkl\n",
      "../results/full_fine_tuning_50epochs_edge_paper_final2/regnetx_004.pycls_in1k_uc-merced-land-use-dataset_TRADES_v2.pkl\n",
      "../results/full_fine_tuning_50epochs_edge_paper_final2/efficientnet-b0_uc-merced-land-use-dataset_TRADES_v2.pkl\n",
      "../results/full_fine_tuning_50epochs_edge_paper_final2/deit_tiny_patch16_224.fb_in1k_uc-merced-land-use-dataset_TRADES_v2.pkl\n",
      "../results/full_fine_tuning_50epochs_edge_paper_final2/mobilevit-small_uc-merced-land-use-dataset_TRADES_v2.pkl\n",
      "../results/full_fine_tuning_50epochs_edge_paper_final2/mobilenetv3_large_100.ra_in1k_uc-merced-land-use-dataset_TRADES_v2.pkl\n",
      "../results/full_fine_tuning_50epochs_edge_paper_final2/edgenext_small.usi_in1k_uc-merced-land-use-dataset_TRADES_v2.pkl\n",
      "../results/full_fine_tuning_50epochs_edge_paper_final2/coat_tiny.in1k_uc-merced-land-use-dataset_TRADES_v2.pkl\n",
      "../results/full_fine_tuning_50epochs_paper_final2/CLIP-convnext_base_w-laion_aesthetic-s13B-b82K_stanford_cars_TRADES_v2.pkl\n",
      "../results/full_fine_tuning_50epochs_paper_final2/CLIP-convnext_base_w-laion2B-s13B-b82K_stanford_cars_TRADES_v2.pkl\n",
      "../results/full_fine_tuning_50epochs_paper_final2/deit_small_patch16_224.fb_in1k_stanford_cars_TRADES_v2.pkl\n",
      "../results/full_fine_tuning_50epochs_paper_final2/robust_resnet50_stanford_cars_TRADES_v2.pkl\n",
      "../results/full_fine_tuning_50epochs_paper_final2/vit_small_patch16_224.augreg_in21k_stanford_cars_TRADES_v2.pkl\n",
      "../results/full_fine_tuning_50epochs_paper_final2/convnext_base.fb_in1k_stanford_cars_TRADES_v2.pkl\n",
      "../results/full_fine_tuning_50epochs_paper_final2/resnet50.a1_in1k_stanford_cars_TRADES_v2.pkl\n",
      "../results/full_fine_tuning_50epochs_paper_final2/robust_vit_base_patch16_224_stanford_cars_TRADES_v2.pkl\n",
      "../results/full_fine_tuning_50epochs_paper_final2/vit_base_patch16_224.mae_stanford_cars_TRADES_v2.pkl\n",
      "../results/full_fine_tuning_50epochs_paper_final2/vit_small_patch16_224.dino_stanford_cars_TRADES_v2.pkl\n",
      "../results/full_fine_tuning_50epochs_paper_final2/convnext_base.fb_in22k_stanford_cars_TRADES_v2.pkl\n",
      "../results/full_fine_tuning_50epochs_paper_final2/robust_convnext_base_stanford_cars_TRADES_v2.pkl\n",
      "../results/full_fine_tuning_50epochs_paper_final2/vit_base_patch16_224.augreg_in1k_stanford_cars_TRADES_v2.pkl\n",
      "../results/full_fine_tuning_50epochs_paper_final2/vit_base_patch16_224.augreg_in21k_stanford_cars_TRADES_v2.pkl\n",
      "../results/full_fine_tuning_50epochs_paper_final2/vit_base_patch16_clip_224.laion2b_stanford_cars_TRADES_v2.pkl\n",
      "../results/full_fine_tuning_50epochs_paper_final2/convnext_tiny.fb_in1k_stanford_cars_TRADES_v2.pkl\n",
      "../results/full_fine_tuning_50epochs_paper_final2/robust_convnext_tiny_stanford_cars_TRADES_v2.pkl\n",
      "../results/full_fine_tuning_50epochs_paper_final2/robust_deit_small_patch16_224_stanford_cars_TRADES_v2.pkl\n",
      "../results/full_fine_tuning_50epochs_paper_final2/vit_small_patch16_224.augreg_in1k_stanford_cars_TRADES_v2.pkl\n",
      "../results/full_fine_tuning_50epochs_paper_final2/convnext_tiny.fb_in22k_stanford_cars_TRADES_v2.pkl\n",
      "../results/full_fine_tuning_50epochs_paper_final2/vit_base_patch16_clip_224.laion2b_ft_in1k_stanford_cars_TRADES_v2.pkl\n",
      "../results/full_fine_tuning_50epochs_paper_final2/vit_base_patch16_224.augreg_in21k_ft_in1k_stanford_cars_TRADES_v2.pkl\n",
      "../results/full_fine_tuning_50epochs_paper_final2/vit_small_patch16_224.augreg_in21k_ft_in1k_stanford_cars_TRADES_v2.pkl\n",
      "../results/full_fine_tuning_50epochs_paper_final2/eva02_base_patch14_224.mim_in22k_stanford_cars_TRADES_v2.pkl\n",
      "../results/full_fine_tuning_50epochs_paper_final2/eva02_tiny_patch14_224.mim_in22k_stanford_cars_TRADES_v2.pkl\n",
      "../results/full_fine_tuning_50epochs_paper_final2/swin_base_patch4_window7_224.ms_in22k_ft_in1k_stanford_cars_TRADES_v2.pkl\n",
      "../results/full_fine_tuning_50epochs_paper_final2/swin_tiny_patch4_window7_224.ms_in1k_stanford_cars_TRADES_v2.pkl\n",
      "../results/full_fine_tuning_50epochs_paper_final2/convnext_base.clip_laion2b_augreg_ft_in12k_in1k_stanford_cars_TRADES_v2.pkl\n",
      "../results/full_fine_tuning_50epochs_paper_final2/convnext_base.fb_in22k_ft_in1k_stanford_cars_TRADES_v2.pkl\n",
      "../results/full_fine_tuning_50epochs_paper_final2/convnext_tiny.fb_in22k_ft_in1k_stanford_cars_TRADES_v2.pkl\n",
      "../results/full_fine_tuning_50epochs_paper_final2/coatnet_0_rw_224.sw_in1k_stanford_cars_TRADES_v2.pkl\n",
      "../results/full_fine_tuning_50epochs_paper_final2/coatnet_2_rw_224.sw_in12k_ft_in1k_stanford_cars_TRADES_v2.pkl\n",
      "../results/full_fine_tuning_50epochs_paper_final2/coatnet_2_rw_224.sw_in12k_ft_in1k_stanford_cars_TRADES_v2.pkl\n",
      "../results/full_fine_tuning_50epochs_paper_final2/coatnet_2_rw_224.sw_in12k_stanford_cars_TRADES_v2.pkl\n",
      "../results/full_fine_tuning_50epochs_paper_final2/coatnet_2_rw_224.sw_in12k_stanford_cars_TRADES_v2.pkl\n",
      "../results/full_fine_tuning_50epochs_edge_paper_final2/regnetx_004.pycls_in1k_stanford_cars_TRADES_v2.pkl\n",
      "../results/full_fine_tuning_50epochs_edge_paper_final2/efficientnet-b0_stanford_cars_TRADES_v2.pkl\n",
      "../results/full_fine_tuning_50epochs_edge_paper_final2/deit_tiny_patch16_224.fb_in1k_stanford_cars_TRADES_v2.pkl\n",
      "../results/full_fine_tuning_50epochs_edge_paper_final2/mobilevit-small_stanford_cars_TRADES_v2.pkl\n",
      "../results/full_fine_tuning_50epochs_edge_paper_final2/mobilenetv3_large_100.ra_in1k_stanford_cars_TRADES_v2.pkl\n",
      "../results/full_fine_tuning_50epochs_edge_paper_final2/edgenext_small.usi_in1k_stanford_cars_TRADES_v2.pkl\n",
      "../results/full_fine_tuning_50epochs_edge_paper_final2/coat_tiny.in1k_stanford_cars_TRADES_v2.pkl\n",
      "../results/full_fine_tuning_50epochs_paper_final2/coat_tiny.in1k_stanford_cars_TRADES_v2.pkl\n",
      "../results/full_fine_tuning_50epochs_paper_final2/CLIP-convnext_base_w-laion_aesthetic-s13B-b82K_caltech101_TRADES_v2.pkl\n",
      "../results/full_fine_tuning_50epochs_paper_final2/CLIP-convnext_base_w-laion2B-s13B-b82K_caltech101_TRADES_v2.pkl\n",
      "../results/full_fine_tuning_50epochs_paper_final2/deit_small_patch16_224.fb_in1k_caltech101_TRADES_v2.pkl\n",
      "../results/full_fine_tuning_50epochs_paper_final2/robust_resnet50_caltech101_TRADES_v2.pkl\n",
      "../results/full_fine_tuning_50epochs_paper_final2/vit_small_patch16_224.augreg_in21k_caltech101_TRADES_v2.pkl\n",
      "../results/full_fine_tuning_50epochs_paper_final2/convnext_base.fb_in1k_caltech101_TRADES_v2.pkl\n",
      "../results/full_fine_tuning_50epochs_paper_final2/resnet50.a1_in1k_caltech101_TRADES_v2.pkl\n",
      "../results/full_fine_tuning_50epochs_paper_final2/robust_vit_base_patch16_224_caltech101_TRADES_v2.pkl\n",
      "../results/full_fine_tuning_50epochs_paper_final2/vit_base_patch16_224.mae_caltech101_TRADES_v2.pkl\n",
      "../results/full_fine_tuning_50epochs_paper_final2/vit_small_patch16_224.dino_caltech101_TRADES_v2.pkl\n",
      "../results/full_fine_tuning_50epochs_paper_final2/convnext_base.fb_in22k_caltech101_TRADES_v2.pkl\n",
      "../results/full_fine_tuning_50epochs_paper_final2/robust_convnext_base_caltech101_TRADES_v2.pkl\n",
      "../results/full_fine_tuning_50epochs_paper_final2/vit_base_patch16_224.augreg_in1k_caltech101_TRADES_v2.pkl\n",
      "../results/full_fine_tuning_50epochs_paper_final2/vit_base_patch16_224.augreg_in21k_caltech101_TRADES_v2.pkl\n",
      "../results/full_fine_tuning_50epochs_paper_final2/vit_base_patch16_clip_224.laion2b_caltech101_TRADES_v2.pkl\n",
      "../results/full_fine_tuning_50epochs_paper_final2/convnext_tiny.fb_in1k_caltech101_TRADES_v2.pkl\n",
      "../results/full_fine_tuning_50epochs_paper_final2/robust_convnext_tiny_caltech101_TRADES_v2.pkl\n",
      "../results/full_fine_tuning_50epochs_paper_final2/robust_deit_small_patch16_224_caltech101_TRADES_v2.pkl\n",
      "../results/full_fine_tuning_50epochs_paper_final2/vit_small_patch16_224.augreg_in1k_caltech101_TRADES_v2.pkl\n",
      "../results/full_fine_tuning_50epochs_paper_final2/convnext_tiny.fb_in22k_caltech101_TRADES_v2.pkl\n",
      "../results/full_fine_tuning_50epochs_paper_final2/vit_base_patch16_clip_224.laion2b_ft_in1k_caltech101_TRADES_v2.pkl\n",
      "../results/full_fine_tuning_50epochs_paper_final2/vit_base_patch16_224.augreg_in21k_ft_in1k_caltech101_TRADES_v2.pkl\n",
      "../results/full_fine_tuning_50epochs_paper_final2/vit_small_patch16_224.augreg_in21k_ft_in1k_caltech101_TRADES_v2.pkl\n",
      "../results/full_fine_tuning_50epochs_paper_final2/eva02_base_patch14_224.mim_in22k_caltech101_TRADES_v2.pkl\n",
      "../results/full_fine_tuning_50epochs_paper_final2/eva02_tiny_patch14_224.mim_in22k_caltech101_TRADES_v2.pkl\n",
      "../results/full_fine_tuning_50epochs_paper_final2/swin_base_patch4_window7_224.ms_in22k_ft_in1k_caltech101_TRADES_v2.pkl\n",
      "../results/full_fine_tuning_50epochs_paper_final2/swin_tiny_patch4_window7_224.ms_in1k_caltech101_TRADES_v2.pkl\n",
      "../results/full_fine_tuning_50epochs_paper_final2/convnext_base.clip_laion2b_augreg_ft_in12k_in1k_caltech101_TRADES_v2.pkl\n",
      "../results/full_fine_tuning_50epochs_paper_final2/convnext_base.fb_in22k_ft_in1k_caltech101_TRADES_v2.pkl\n",
      "../results/full_fine_tuning_50epochs_paper_final2/convnext_tiny.fb_in22k_ft_in1k_caltech101_TRADES_v2.pkl\n",
      "../results/full_fine_tuning_50epochs_paper_final2/coatnet_0_rw_224.sw_in1k_caltech101_TRADES_v2.pkl\n",
      "../results/full_fine_tuning_50epochs_paper_final2/coatnet_2_rw_224.sw_in12k_ft_in1k_caltech101_TRADES_v2.pkl\n",
      "../results/full_fine_tuning_50epochs_paper_final2/coatnet_2_rw_224.sw_in12k_caltech101_TRADES_v2.pkl\n",
      "../results/full_fine_tuning_50epochs_edge_paper_final2/regnetx_004.pycls_in1k_caltech101_TRADES_v2.pkl\n",
      "../results/full_fine_tuning_50epochs_edge_paper_final2/efficientnet-b0_caltech101_TRADES_v2.pkl\n",
      "../results/full_fine_tuning_50epochs_edge_paper_final2/deit_tiny_patch16_224.fb_in1k_caltech101_TRADES_v2.pkl\n",
      "../results/full_fine_tuning_50epochs_edge_paper_final2/mobilevit-small_caltech101_TRADES_v2.pkl\n",
      "../results/full_fine_tuning_50epochs_edge_paper_final2/mobilenetv3_large_100.ra_in1k_caltech101_TRADES_v2.pkl\n",
      "../results/full_fine_tuning_50epochs_edge_paper_final2/edgenext_small.usi_in1k_caltech101_TRADES_v2.pkl\n",
      "../results/full_fine_tuning_50epochs_edge_paper_final2/coat_tiny.in1k_caltech101_TRADES_v2.pkl\n",
      "../results/full_fine_tuning_50epochs_paper_final2/coat_tiny.in1k_caltech101_TRADES_v2.pkl\n",
      "../results/full_fine_tuning_50epochs_paper_final2/CLIP-convnext_base_w-laion_aesthetic-s13B-b82K_fgvc-aircraft-2013b_TRADES_v2.pkl\n",
      "../results/full_fine_tuning_50epochs_paper_final2/CLIP-convnext_base_w-laion2B-s13B-b82K_fgvc-aircraft-2013b_TRADES_v2.pkl\n",
      "../results/full_fine_tuning_50epochs_paper_final2/deit_small_patch16_224.fb_in1k_fgvc-aircraft-2013b_TRADES_v2.pkl\n",
      "../results/full_fine_tuning_50epochs_paper_final2/robust_resnet50_fgvc-aircraft-2013b_TRADES_v2.pkl\n",
      "../results/full_fine_tuning_50epochs_paper_final2/vit_small_patch16_224.augreg_in21k_fgvc-aircraft-2013b_TRADES_v2.pkl\n",
      "../results/full_fine_tuning_50epochs_paper_final2/convnext_base.fb_in1k_fgvc-aircraft-2013b_TRADES_v2.pkl\n",
      "../results/full_fine_tuning_50epochs_paper_final2/resnet50.a1_in1k_fgvc-aircraft-2013b_TRADES_v2.pkl\n",
      "../results/full_fine_tuning_50epochs_paper_final2/robust_vit_base_patch16_224_fgvc-aircraft-2013b_TRADES_v2.pkl\n",
      "../results/full_fine_tuning_50epochs_paper_final2/vit_base_patch16_224.mae_fgvc-aircraft-2013b_TRADES_v2.pkl\n",
      "../results/full_fine_tuning_50epochs_paper_final2/vit_small_patch16_224.dino_fgvc-aircraft-2013b_TRADES_v2.pkl\n",
      "../results/full_fine_tuning_50epochs_paper_final2/convnext_base.fb_in22k_fgvc-aircraft-2013b_TRADES_v2.pkl\n",
      "../results/full_fine_tuning_50epochs_paper_final2/robust_convnext_base_fgvc-aircraft-2013b_TRADES_v2.pkl\n",
      "../results/full_fine_tuning_50epochs_paper_final2/vit_base_patch16_224.augreg_in1k_fgvc-aircraft-2013b_TRADES_v2.pkl\n",
      "../results/full_fine_tuning_50epochs_paper_final2/vit_base_patch16_224.augreg_in21k_fgvc-aircraft-2013b_TRADES_v2.pkl\n",
      "../results/full_fine_tuning_50epochs_paper_final2/vit_base_patch16_clip_224.laion2b_fgvc-aircraft-2013b_TRADES_v2.pkl\n",
      "../results/full_fine_tuning_50epochs_paper_final2/convnext_tiny.fb_in1k_fgvc-aircraft-2013b_TRADES_v2.pkl\n",
      "../results/full_fine_tuning_50epochs_paper_final2/robust_convnext_tiny_fgvc-aircraft-2013b_TRADES_v2.pkl\n",
      "../results/full_fine_tuning_50epochs_paper_final2/robust_deit_small_patch16_224_fgvc-aircraft-2013b_TRADES_v2.pkl\n",
      "../results/full_fine_tuning_50epochs_paper_final2/vit_small_patch16_224.augreg_in1k_fgvc-aircraft-2013b_TRADES_v2.pkl\n",
      "../results/full_fine_tuning_50epochs_paper_final2/convnext_tiny.fb_in22k_fgvc-aircraft-2013b_TRADES_v2.pkl\n",
      "../results/full_fine_tuning_50epochs_paper_final2/vit_base_patch16_clip_224.laion2b_ft_in1k_fgvc-aircraft-2013b_TRADES_v2.pkl\n",
      "../results/full_fine_tuning_50epochs_paper_final2/vit_base_patch16_224.augreg_in21k_ft_in1k_fgvc-aircraft-2013b_TRADES_v2.pkl\n",
      "../results/full_fine_tuning_50epochs_paper_final2/vit_small_patch16_224.augreg_in21k_ft_in1k_fgvc-aircraft-2013b_TRADES_v2.pkl\n",
      "../results/full_fine_tuning_50epochs_paper_final2/eva02_base_patch14_224.mim_in22k_fgvc-aircraft-2013b_TRADES_v2.pkl\n",
      "../results/full_fine_tuning_50epochs_paper_final2/eva02_tiny_patch14_224.mim_in22k_fgvc-aircraft-2013b_TRADES_v2.pkl\n",
      "../results/full_fine_tuning_50epochs_paper_final2/swin_base_patch4_window7_224.ms_in22k_ft_in1k_fgvc-aircraft-2013b_TRADES_v2.pkl\n",
      "../results/full_fine_tuning_50epochs_paper_final2/swin_tiny_patch4_window7_224.ms_in1k_fgvc-aircraft-2013b_TRADES_v2.pkl\n",
      "../results/full_fine_tuning_50epochs_paper_final2/convnext_base.clip_laion2b_augreg_ft_in12k_in1k_fgvc-aircraft-2013b_TRADES_v2.pkl\n",
      "../results/full_fine_tuning_50epochs_paper_final2/convnext_base.fb_in22k_ft_in1k_fgvc-aircraft-2013b_TRADES_v2.pkl\n",
      "../results/full_fine_tuning_50epochs_paper_final2/convnext_tiny.fb_in22k_ft_in1k_fgvc-aircraft-2013b_TRADES_v2.pkl\n",
      "../results/full_fine_tuning_50epochs_paper_final2/coatnet_0_rw_224.sw_in1k_fgvc-aircraft-2013b_TRADES_v2.pkl\n",
      "../results/full_fine_tuning_50epochs_paper_final2/coatnet_2_rw_224.sw_in12k_ft_in1k_fgvc-aircraft-2013b_TRADES_v2.pkl\n",
      "../results/full_fine_tuning_50epochs_paper_final2/coatnet_2_rw_224.sw_in12k_fgvc-aircraft-2013b_TRADES_v2.pkl\n",
      "../results/full_fine_tuning_50epochs_edge_paper_final2/regnetx_004.pycls_in1k_fgvc-aircraft-2013b_TRADES_v2.pkl\n",
      "../results/full_fine_tuning_50epochs_edge_paper_final2/efficientnet-b0_fgvc-aircraft-2013b_TRADES_v2.pkl\n",
      "../results/full_fine_tuning_50epochs_edge_paper_final2/deit_tiny_patch16_224.fb_in1k_fgvc-aircraft-2013b_TRADES_v2.pkl\n",
      "../results/full_fine_tuning_50epochs_edge_paper_final2/mobilevit-small_fgvc-aircraft-2013b_TRADES_v2.pkl\n",
      "../results/full_fine_tuning_50epochs_edge_paper_final2/mobilenetv3_large_100.ra_in1k_fgvc-aircraft-2013b_TRADES_v2.pkl\n",
      "../results/full_fine_tuning_50epochs_edge_paper_final2/edgenext_small.usi_in1k_fgvc-aircraft-2013b_TRADES_v2.pkl\n",
      "../results/full_fine_tuning_50epochs_edge_paper_final2/coat_tiny.in1k_fgvc-aircraft-2013b_TRADES_v2.pkl\n",
      "../results/full_fine_tuning_50epochs_paper_final2/coat_tiny.in1k_fgvc-aircraft-2013b_TRADES_v2.pkl\n",
      "../results/full_fine_tuning_50epochs_paper_final2/CLIP-convnext_base_w-laion_aesthetic-s13B-b82K_flowers-102_TRADES_v2.pkl\n",
      "../results/full_fine_tuning_50epochs_paper_final2/CLIP-convnext_base_w-laion2B-s13B-b82K_flowers-102_TRADES_v2.pkl\n",
      "../results/full_fine_tuning_50epochs_paper_final2/deit_small_patch16_224.fb_in1k_flowers-102_TRADES_v2.pkl\n",
      "../results/full_fine_tuning_50epochs_paper_final2/robust_resnet50_flowers-102_TRADES_v2.pkl\n",
      "../results/full_fine_tuning_50epochs_paper_final2/vit_small_patch16_224.augreg_in21k_flowers-102_TRADES_v2.pkl\n",
      "../results/full_fine_tuning_50epochs_paper_final2/convnext_base.fb_in1k_flowers-102_TRADES_v2.pkl\n",
      "../results/full_fine_tuning_50epochs_paper_final2/resnet50.a1_in1k_flowers-102_TRADES_v2.pkl\n",
      "../results/full_fine_tuning_50epochs_paper_final2/robust_vit_base_patch16_224_flowers-102_TRADES_v2.pkl\n",
      "../results/full_fine_tuning_50epochs_paper_final2/vit_base_patch16_224.mae_flowers-102_TRADES_v2.pkl\n",
      "../results/full_fine_tuning_50epochs_paper_final2/vit_small_patch16_224.dino_flowers-102_TRADES_v2.pkl\n",
      "../results/full_fine_tuning_50epochs_paper_final2/convnext_base.fb_in22k_flowers-102_TRADES_v2.pkl\n",
      "../results/full_fine_tuning_50epochs_paper_final2/robust_convnext_base_flowers-102_TRADES_v2.pkl\n",
      "../results/full_fine_tuning_50epochs_paper_final2/vit_base_patch16_224.augreg_in1k_flowers-102_TRADES_v2.pkl\n",
      "../results/full_fine_tuning_50epochs_paper_final2/vit_base_patch16_224.augreg_in21k_flowers-102_TRADES_v2.pkl\n",
      "../results/full_fine_tuning_50epochs_paper_final2/vit_base_patch16_clip_224.laion2b_flowers-102_TRADES_v2.pkl\n",
      "../results/full_fine_tuning_50epochs_paper_final2/convnext_tiny.fb_in1k_flowers-102_TRADES_v2.pkl\n",
      "../results/full_fine_tuning_50epochs_paper_final2/robust_convnext_tiny_flowers-102_TRADES_v2.pkl\n",
      "../results/full_fine_tuning_50epochs_paper_final2/robust_deit_small_patch16_224_flowers-102_TRADES_v2.pkl\n",
      "../results/full_fine_tuning_50epochs_paper_final2/vit_small_patch16_224.augreg_in1k_flowers-102_TRADES_v2.pkl\n",
      "../results/full_fine_tuning_50epochs_paper_final2/convnext_tiny.fb_in22k_flowers-102_TRADES_v2.pkl\n",
      "../results/full_fine_tuning_50epochs_paper_final2/vit_base_patch16_clip_224.laion2b_ft_in1k_flowers-102_TRADES_v2.pkl\n",
      "../results/full_fine_tuning_50epochs_paper_final2/vit_base_patch16_224.augreg_in21k_ft_in1k_flowers-102_TRADES_v2.pkl\n",
      "../results/full_fine_tuning_50epochs_paper_final2/vit_small_patch16_224.augreg_in21k_ft_in1k_flowers-102_TRADES_v2.pkl\n",
      "../results/full_fine_tuning_50epochs_paper_final2/eva02_base_patch14_224.mim_in22k_flowers-102_TRADES_v2.pkl\n",
      "../results/full_fine_tuning_50epochs_paper_final2/eva02_tiny_patch14_224.mim_in22k_flowers-102_TRADES_v2.pkl\n",
      "../results/full_fine_tuning_50epochs_paper_final2/swin_base_patch4_window7_224.ms_in22k_ft_in1k_flowers-102_TRADES_v2.pkl\n",
      "../results/full_fine_tuning_50epochs_paper_final2/swin_tiny_patch4_window7_224.ms_in1k_flowers-102_TRADES_v2.pkl\n",
      "../results/full_fine_tuning_50epochs_paper_final2/convnext_base.clip_laion2b_augreg_ft_in12k_in1k_flowers-102_TRADES_v2.pkl\n",
      "../results/full_fine_tuning_50epochs_paper_final2/convnext_base.fb_in22k_ft_in1k_flowers-102_TRADES_v2.pkl\n",
      "../results/full_fine_tuning_50epochs_paper_final2/convnext_tiny.fb_in22k_ft_in1k_flowers-102_TRADES_v2.pkl\n",
      "../results/full_fine_tuning_50epochs_paper_final2/coatnet_0_rw_224.sw_in1k_flowers-102_TRADES_v2.pkl\n",
      "../results/full_fine_tuning_50epochs_paper_final2/coatnet_2_rw_224.sw_in12k_ft_in1k_flowers-102_TRADES_v2.pkl\n",
      "../results/full_fine_tuning_50epochs_paper_final2/coatnet_2_rw_224.sw_in12k_flowers-102_TRADES_v2.pkl\n",
      "../results/full_fine_tuning_50epochs_edge_paper_final2/regnetx_004.pycls_in1k_flowers-102_TRADES_v2.pkl\n",
      "../results/full_fine_tuning_50epochs_edge_paper_final2/efficientnet-b0_flowers-102_TRADES_v2.pkl\n",
      "../results/full_fine_tuning_50epochs_edge_paper_final2/deit_tiny_patch16_224.fb_in1k_flowers-102_TRADES_v2.pkl\n",
      "../results/full_fine_tuning_50epochs_edge_paper_final2/mobilevit-small_flowers-102_TRADES_v2.pkl\n",
      "../results/full_fine_tuning_50epochs_edge_paper_final2/mobilenetv3_large_100.ra_in1k_flowers-102_TRADES_v2.pkl\n",
      "../results/full_fine_tuning_50epochs_edge_paper_final2/edgenext_small.usi_in1k_flowers-102_TRADES_v2.pkl\n",
      "../results/full_fine_tuning_50epochs_edge_paper_final2/coat_tiny.in1k_flowers-102_TRADES_v2.pkl\n",
      "../results/full_fine_tuning_50epochs_paper_final2/coat_tiny.in1k_flowers-102_TRADES_v2.pkl\n",
      "../results/full_fine_tuning_50epochs_paper_final2/CLIP-convnext_base_w-laion_aesthetic-s13B-b82K_oxford-iiit-pet_TRADES_v2.pkl\n",
      "../results/full_fine_tuning_50epochs_paper_final2/CLIP-convnext_base_w-laion2B-s13B-b82K_oxford-iiit-pet_TRADES_v2.pkl\n",
      "../results/full_fine_tuning_50epochs_paper_final2/deit_small_patch16_224.fb_in1k_oxford-iiit-pet_TRADES_v2.pkl\n",
      "../results/full_fine_tuning_50epochs_paper_final2/robust_resnet50_oxford-iiit-pet_TRADES_v2.pkl\n",
      "../results/full_fine_tuning_50epochs_paper_final2/vit_small_patch16_224.augreg_in21k_oxford-iiit-pet_TRADES_v2.pkl\n",
      "../results/full_fine_tuning_50epochs_paper_final2/convnext_base.fb_in1k_oxford-iiit-pet_TRADES_v2.pkl\n",
      "../results/full_fine_tuning_50epochs_paper_final2/resnet50.a1_in1k_oxford-iiit-pet_TRADES_v2.pkl\n",
      "../results/full_fine_tuning_50epochs_paper_final2/robust_vit_base_patch16_224_oxford-iiit-pet_TRADES_v2.pkl\n",
      "../results/full_fine_tuning_50epochs_paper_final2/vit_base_patch16_224.mae_oxford-iiit-pet_TRADES_v2.pkl\n",
      "../results/full_fine_tuning_50epochs_paper_final2/vit_small_patch16_224.dino_oxford-iiit-pet_TRADES_v2.pkl\n",
      "../results/full_fine_tuning_50epochs_paper_final2/convnext_base.fb_in22k_oxford-iiit-pet_TRADES_v2.pkl\n",
      "../results/full_fine_tuning_50epochs_paper_final2/robust_convnext_base_oxford-iiit-pet_TRADES_v2.pkl\n",
      "../results/full_fine_tuning_50epochs_paper_final2/vit_base_patch16_224.augreg_in1k_oxford-iiit-pet_TRADES_v2.pkl\n",
      "../results/full_fine_tuning_50epochs_paper_final2/vit_base_patch16_224.augreg_in21k_oxford-iiit-pet_TRADES_v2.pkl\n",
      "../results/full_fine_tuning_50epochs_paper_final2/vit_base_patch16_clip_224.laion2b_oxford-iiit-pet_TRADES_v2.pkl\n",
      "../results/full_fine_tuning_50epochs_paper_final2/convnext_tiny.fb_in1k_oxford-iiit-pet_TRADES_v2.pkl\n",
      "../results/full_fine_tuning_50epochs_paper_final2/robust_convnext_tiny_oxford-iiit-pet_TRADES_v2.pkl\n",
      "../results/full_fine_tuning_50epochs_paper_final2/robust_deit_small_patch16_224_oxford-iiit-pet_TRADES_v2.pkl\n",
      "../results/full_fine_tuning_50epochs_paper_final2/vit_small_patch16_224.augreg_in1k_oxford-iiit-pet_TRADES_v2.pkl\n",
      "../results/full_fine_tuning_50epochs_paper_final2/convnext_tiny.fb_in22k_oxford-iiit-pet_TRADES_v2.pkl\n",
      "../results/full_fine_tuning_50epochs_paper_final2/vit_base_patch16_clip_224.laion2b_ft_in1k_oxford-iiit-pet_TRADES_v2.pkl\n",
      "../results/full_fine_tuning_50epochs_paper_final2/vit_base_patch16_224.augreg_in21k_ft_in1k_oxford-iiit-pet_TRADES_v2.pkl\n",
      "../results/full_fine_tuning_50epochs_paper_final2/vit_small_patch16_224.augreg_in21k_ft_in1k_oxford-iiit-pet_TRADES_v2.pkl\n",
      "../results/full_fine_tuning_50epochs_paper_final2/eva02_base_patch14_224.mim_in22k_oxford-iiit-pet_TRADES_v2.pkl\n",
      "../results/full_fine_tuning_50epochs_paper_final2/eva02_tiny_patch14_224.mim_in22k_oxford-iiit-pet_TRADES_v2.pkl\n",
      "../results/full_fine_tuning_50epochs_paper_final2/swin_base_patch4_window7_224.ms_in22k_ft_in1k_oxford-iiit-pet_TRADES_v2.pkl\n",
      "../results/full_fine_tuning_50epochs_paper_final2/swin_tiny_patch4_window7_224.ms_in1k_oxford-iiit-pet_TRADES_v2.pkl\n",
      "../results/full_fine_tuning_50epochs_paper_final2/convnext_base.clip_laion2b_augreg_ft_in12k_in1k_oxford-iiit-pet_TRADES_v2.pkl\n",
      "../results/full_fine_tuning_50epochs_paper_final2/convnext_base.fb_in22k_ft_in1k_oxford-iiit-pet_TRADES_v2.pkl\n",
      "../results/full_fine_tuning_50epochs_paper_final2/convnext_tiny.fb_in22k_ft_in1k_oxford-iiit-pet_TRADES_v2.pkl\n",
      "../results/full_fine_tuning_50epochs_paper_final2/coatnet_0_rw_224.sw_in1k_oxford-iiit-pet_TRADES_v2.pkl\n",
      "../results/full_fine_tuning_50epochs_paper_final2/coatnet_2_rw_224.sw_in12k_ft_in1k_oxford-iiit-pet_TRADES_v2.pkl\n",
      "../results/full_fine_tuning_50epochs_paper_final2/coatnet_2_rw_224.sw_in12k_oxford-iiit-pet_TRADES_v2.pkl\n",
      "../results/full_fine_tuning_50epochs_edge_paper_final2/regnetx_004.pycls_in1k_oxford-iiit-pet_TRADES_v2.pkl\n",
      "../results/full_fine_tuning_50epochs_edge_paper_final2/efficientnet-b0_oxford-iiit-pet_TRADES_v2.pkl\n",
      "../results/full_fine_tuning_50epochs_edge_paper_final2/deit_tiny_patch16_224.fb_in1k_oxford-iiit-pet_TRADES_v2.pkl\n",
      "../results/full_fine_tuning_50epochs_edge_paper_final2/mobilevit-small_oxford-iiit-pet_TRADES_v2.pkl\n",
      "../results/full_fine_tuning_50epochs_edge_paper_final2/mobilenetv3_large_100.ra_in1k_oxford-iiit-pet_TRADES_v2.pkl\n",
      "../results/full_fine_tuning_50epochs_edge_paper_final2/edgenext_small.usi_in1k_oxford-iiit-pet_TRADES_v2.pkl\n",
      "../results/full_fine_tuning_50epochs_edge_paper_final2/coat_tiny.in1k_oxford-iiit-pet_TRADES_v2.pkl\n",
      "../results/full_fine_tuning_50epochs_paper_final2/coat_tiny.in1k_oxford-iiit-pet_TRADES_v2.pkl\n",
      "../results/full_fine_tuning_50epochs_paper_final2/CLIP-convnext_base_w-laion_aesthetic-s13B-b82K_uc-merced-land-use-dataset_CLASSIC_AT.pkl\n",
      "../results/full_fine_tuning_50epochs_paper_final2/CLIP-convnext_base_w-laion2B-s13B-b82K_uc-merced-land-use-dataset_CLASSIC_AT.pkl\n",
      "../results/full_fine_tuning_50epochs_paper_final2/deit_small_patch16_224.fb_in1k_uc-merced-land-use-dataset_CLASSIC_AT.pkl\n",
      "../results/full_fine_tuning_50epochs_paper_final2/robust_resnet50_uc-merced-land-use-dataset_CLASSIC_AT.pkl\n",
      "../results/full_fine_tuning_50epochs_paper_final2/vit_small_patch16_224.augreg_in21k_uc-merced-land-use-dataset_CLASSIC_AT.pkl\n",
      "../results/full_fine_tuning_50epochs_paper_final2/convnext_base.fb_in1k_uc-merced-land-use-dataset_CLASSIC_AT.pkl\n",
      "../results/full_fine_tuning_50epochs_paper_final2/resnet50.a1_in1k_uc-merced-land-use-dataset_CLASSIC_AT.pkl\n",
      "../results/full_fine_tuning_50epochs_paper_final2/robust_vit_base_patch16_224_uc-merced-land-use-dataset_CLASSIC_AT.pkl\n",
      "../results/full_fine_tuning_50epochs_paper_final2/vit_base_patch16_224.mae_uc-merced-land-use-dataset_CLASSIC_AT.pkl\n",
      "../results/full_fine_tuning_50epochs_paper_final2/vit_small_patch16_224.dino_uc-merced-land-use-dataset_CLASSIC_AT.pkl\n",
      "../results/full_fine_tuning_50epochs_paper_final2/convnext_base.fb_in22k_uc-merced-land-use-dataset_CLASSIC_AT.pkl\n",
      "../results/full_fine_tuning_50epochs_paper_final2/robust_convnext_base_uc-merced-land-use-dataset_CLASSIC_AT.pkl\n",
      "../results/full_fine_tuning_50epochs_paper_final2/vit_base_patch16_224.augreg_in1k_uc-merced-land-use-dataset_CLASSIC_AT.pkl\n",
      "../results/full_fine_tuning_50epochs_paper_final2/vit_base_patch16_224.augreg_in21k_uc-merced-land-use-dataset_CLASSIC_AT.pkl\n",
      "../results/full_fine_tuning_50epochs_paper_final2/vit_base_patch16_clip_224.laion2b_uc-merced-land-use-dataset_CLASSIC_AT.pkl\n",
      "../results/full_fine_tuning_50epochs_paper_final2/convnext_tiny.fb_in1k_uc-merced-land-use-dataset_CLASSIC_AT.pkl\n",
      "../results/full_fine_tuning_50epochs_paper_final2/robust_convnext_tiny_uc-merced-land-use-dataset_CLASSIC_AT.pkl\n",
      "../results/full_fine_tuning_50epochs_paper_final2/robust_deit_small_patch16_224_uc-merced-land-use-dataset_CLASSIC_AT.pkl\n",
      "../results/full_fine_tuning_50epochs_paper_final2/vit_small_patch16_224.augreg_in1k_uc-merced-land-use-dataset_CLASSIC_AT.pkl\n",
      "../results/full_fine_tuning_50epochs_paper_final2/convnext_tiny.fb_in22k_uc-merced-land-use-dataset_CLASSIC_AT.pkl\n",
      "../results/full_fine_tuning_50epochs_paper_final2/vit_base_patch16_clip_224.laion2b_ft_in1k_uc-merced-land-use-dataset_CLASSIC_AT.pkl\n",
      "../results/full_fine_tuning_50epochs_paper_final2/vit_base_patch16_224.augreg_in21k_ft_in1k_uc-merced-land-use-dataset_CLASSIC_AT.pkl\n",
      "../results/full_fine_tuning_50epochs_paper_final2/vit_small_patch16_224.augreg_in21k_ft_in1k_uc-merced-land-use-dataset_CLASSIC_AT.pkl\n",
      "../results/full_fine_tuning_50epochs_paper_final2/eva02_base_patch14_224.mim_in22k_uc-merced-land-use-dataset_CLASSIC_AT.pkl\n",
      "../results/full_fine_tuning_50epochs_paper_final2/eva02_tiny_patch14_224.mim_in22k_uc-merced-land-use-dataset_CLASSIC_AT.pkl\n",
      "../results/full_fine_tuning_50epochs_paper_final2/swin_base_patch4_window7_224.ms_in22k_ft_in1k_uc-merced-land-use-dataset_CLASSIC_AT.pkl\n",
      "../results/full_fine_tuning_50epochs_paper_final2/swin_tiny_patch4_window7_224.ms_in1k_uc-merced-land-use-dataset_CLASSIC_AT.pkl\n",
      "../results/full_fine_tuning_50epochs_paper_final2/convnext_base.clip_laion2b_augreg_ft_in12k_in1k_uc-merced-land-use-dataset_CLASSIC_AT.pkl\n",
      "../results/full_fine_tuning_50epochs_paper_final2/convnext_base.fb_in22k_ft_in1k_uc-merced-land-use-dataset_CLASSIC_AT.pkl\n",
      "../results/full_fine_tuning_50epochs_paper_final2/convnext_tiny.fb_in22k_ft_in1k_uc-merced-land-use-dataset_CLASSIC_AT.pkl\n",
      "../results/full_fine_tuning_50epochs_paper_final2/coatnet_0_rw_224.sw_in1k_uc-merced-land-use-dataset_CLASSIC_AT.pkl\n",
      "../results/full_fine_tuning_50epochs_paper_final2/coatnet_2_rw_224.sw_in12k_ft_in1k_uc-merced-land-use-dataset_CLASSIC_AT.pkl\n",
      "../results/full_fine_tuning_50epochs_paper_final2/coatnet_2_rw_224.sw_in12k_uc-merced-land-use-dataset_CLASSIC_AT.pkl\n",
      "../results/full_fine_tuning_50epochs_edge_paper_final2/regnetx_004.pycls_in1k_uc-merced-land-use-dataset_CLASSIC_AT.pkl\n",
      "../results/full_fine_tuning_50epochs_edge_paper_final2/efficientnet-b0_uc-merced-land-use-dataset_CLASSIC_AT.pkl\n",
      "../results/full_fine_tuning_50epochs_edge_paper_final2/deit_tiny_patch16_224.fb_in1k_uc-merced-land-use-dataset_CLASSIC_AT.pkl\n",
      "../results/full_fine_tuning_50epochs_edge_paper_final2/mobilevit-small_uc-merced-land-use-dataset_CLASSIC_AT.pkl\n",
      "../results/full_fine_tuning_50epochs_edge_paper_final2/mobilenetv3_large_100.ra_in1k_uc-merced-land-use-dataset_CLASSIC_AT.pkl\n",
      "../results/full_fine_tuning_50epochs_edge_paper_final2/edgenext_small.usi_in1k_uc-merced-land-use-dataset_CLASSIC_AT.pkl\n",
      "../results/full_fine_tuning_50epochs_edge_paper_final2/coat_tiny.in1k_uc-merced-land-use-dataset_CLASSIC_AT.pkl\n",
      "../results/full_fine_tuning_50epochs_paper_final2/CLIP-convnext_base_w-laion_aesthetic-s13B-b82K_stanford_cars_CLASSIC_AT.pkl\n",
      "../results/full_fine_tuning_50epochs_paper_final2/CLIP-convnext_base_w-laion2B-s13B-b82K_stanford_cars_CLASSIC_AT.pkl\n",
      "../results/full_fine_tuning_50epochs_paper_final2/deit_small_patch16_224.fb_in1k_stanford_cars_CLASSIC_AT.pkl\n",
      "../results/full_fine_tuning_50epochs_paper_final2/robust_resnet50_stanford_cars_CLASSIC_AT.pkl\n",
      "../results/full_fine_tuning_50epochs_paper_final2/vit_small_patch16_224.augreg_in21k_stanford_cars_CLASSIC_AT.pkl\n",
      "../results/full_fine_tuning_50epochs_paper_final2/convnext_base.fb_in1k_stanford_cars_CLASSIC_AT.pkl\n",
      "../results/full_fine_tuning_50epochs_paper_final2/resnet50.a1_in1k_stanford_cars_CLASSIC_AT.pkl\n",
      "../results/full_fine_tuning_50epochs_paper_final2/robust_vit_base_patch16_224_stanford_cars_CLASSIC_AT.pkl\n",
      "../results/full_fine_tuning_50epochs_paper_final2/vit_base_patch16_224.mae_stanford_cars_CLASSIC_AT.pkl\n",
      "../results/full_fine_tuning_50epochs_paper_final2/vit_small_patch16_224.dino_stanford_cars_CLASSIC_AT.pkl\n",
      "../results/full_fine_tuning_50epochs_paper_final2/convnext_base.fb_in22k_stanford_cars_CLASSIC_AT.pkl\n",
      "../results/full_fine_tuning_50epochs_paper_final2/robust_convnext_base_stanford_cars_CLASSIC_AT.pkl\n",
      "../results/full_fine_tuning_50epochs_paper_final2/vit_base_patch16_224.augreg_in1k_stanford_cars_CLASSIC_AT.pkl\n",
      "../results/full_fine_tuning_50epochs_paper_final2/vit_base_patch16_224.augreg_in21k_stanford_cars_CLASSIC_AT.pkl\n",
      "../results/full_fine_tuning_50epochs_paper_final2/vit_base_patch16_clip_224.laion2b_stanford_cars_CLASSIC_AT.pkl\n",
      "../results/full_fine_tuning_50epochs_paper_final2/convnext_tiny.fb_in1k_stanford_cars_CLASSIC_AT.pkl\n",
      "../results/full_fine_tuning_50epochs_paper_final2/robust_convnext_tiny_stanford_cars_CLASSIC_AT.pkl\n",
      "../results/full_fine_tuning_50epochs_paper_final2/robust_deit_small_patch16_224_stanford_cars_CLASSIC_AT.pkl\n",
      "../results/full_fine_tuning_50epochs_paper_final2/vit_small_patch16_224.augreg_in1k_stanford_cars_CLASSIC_AT.pkl\n",
      "../results/full_fine_tuning_50epochs_paper_final2/convnext_tiny.fb_in22k_stanford_cars_CLASSIC_AT.pkl\n",
      "../results/full_fine_tuning_50epochs_paper_final2/vit_base_patch16_clip_224.laion2b_ft_in1k_stanford_cars_CLASSIC_AT.pkl\n",
      "../results/full_fine_tuning_50epochs_paper_final2/vit_base_patch16_224.augreg_in21k_ft_in1k_stanford_cars_CLASSIC_AT.pkl\n",
      "../results/full_fine_tuning_50epochs_paper_final2/vit_small_patch16_224.augreg_in21k_ft_in1k_stanford_cars_CLASSIC_AT.pkl\n",
      "../results/full_fine_tuning_50epochs_paper_final2/eva02_base_patch14_224.mim_in22k_stanford_cars_CLASSIC_AT.pkl\n",
      "../results/full_fine_tuning_50epochs_paper_final2/eva02_tiny_patch14_224.mim_in22k_stanford_cars_CLASSIC_AT.pkl\n",
      "../results/full_fine_tuning_50epochs_paper_final2/swin_base_patch4_window7_224.ms_in22k_ft_in1k_stanford_cars_CLASSIC_AT.pkl\n",
      "../results/full_fine_tuning_50epochs_paper_final2/swin_tiny_patch4_window7_224.ms_in1k_stanford_cars_CLASSIC_AT.pkl\n",
      "../results/full_fine_tuning_50epochs_paper_final2/convnext_base.clip_laion2b_augreg_ft_in12k_in1k_stanford_cars_CLASSIC_AT.pkl\n",
      "../results/full_fine_tuning_50epochs_paper_final2/convnext_base.fb_in22k_ft_in1k_stanford_cars_CLASSIC_AT.pkl\n",
      "../results/full_fine_tuning_50epochs_paper_final2/convnext_tiny.fb_in22k_ft_in1k_stanford_cars_CLASSIC_AT.pkl\n",
      "../results/full_fine_tuning_50epochs_paper_final2/coatnet_0_rw_224.sw_in1k_stanford_cars_CLASSIC_AT.pkl\n",
      "../results/full_fine_tuning_50epochs_paper_final2/coatnet_2_rw_224.sw_in12k_ft_in1k_stanford_cars_CLASSIC_AT.pkl\n",
      "../results/full_fine_tuning_50epochs_paper_final2/coatnet_2_rw_224.sw_in12k_stanford_cars_CLASSIC_AT.pkl\n",
      "../results/full_fine_tuning_50epochs_edge_paper_final2/regnetx_004.pycls_in1k_stanford_cars_CLASSIC_AT.pkl\n",
      "../results/full_fine_tuning_50epochs_edge_paper_final2/efficientnet-b0_stanford_cars_CLASSIC_AT.pkl\n",
      "../results/full_fine_tuning_50epochs_edge_paper_final2/deit_tiny_patch16_224.fb_in1k_stanford_cars_CLASSIC_AT.pkl\n",
      "../results/full_fine_tuning_50epochs_edge_paper_final2/mobilevit-small_stanford_cars_CLASSIC_AT.pkl\n",
      "../results/full_fine_tuning_50epochs_edge_paper_final2/mobilenetv3_large_100.ra_in1k_stanford_cars_CLASSIC_AT.pkl\n",
      "../results/full_fine_tuning_50epochs_edge_paper_final2/edgenext_small.usi_in1k_stanford_cars_CLASSIC_AT.pkl\n",
      "../results/full_fine_tuning_50epochs_edge_paper_final2/coat_tiny.in1k_stanford_cars_CLASSIC_AT.pkl\n",
      "../results/full_fine_tuning_50epochs_paper_final2/CLIP-convnext_base_w-laion_aesthetic-s13B-b82K_caltech101_CLASSIC_AT.pkl\n",
      "../results/full_fine_tuning_50epochs_paper_final2/CLIP-convnext_base_w-laion2B-s13B-b82K_caltech101_CLASSIC_AT.pkl\n",
      "../results/full_fine_tuning_50epochs_paper_final2/deit_small_patch16_224.fb_in1k_caltech101_CLASSIC_AT.pkl\n",
      "../results/full_fine_tuning_50epochs_paper_final2/robust_resnet50_caltech101_CLASSIC_AT.pkl\n",
      "../results/full_fine_tuning_50epochs_paper_final2/vit_small_patch16_224.augreg_in21k_caltech101_CLASSIC_AT.pkl\n",
      "../results/full_fine_tuning_50epochs_paper_final2/convnext_base.fb_in1k_caltech101_CLASSIC_AT.pkl\n",
      "../results/full_fine_tuning_50epochs_paper_final2/resnet50.a1_in1k_caltech101_CLASSIC_AT.pkl\n",
      "../results/full_fine_tuning_50epochs_paper_final2/robust_vit_base_patch16_224_caltech101_CLASSIC_AT.pkl\n",
      "../results/full_fine_tuning_50epochs_paper_final2/vit_base_patch16_224.mae_caltech101_CLASSIC_AT.pkl\n",
      "../results/full_fine_tuning_50epochs_paper_final2/vit_small_patch16_224.dino_caltech101_CLASSIC_AT.pkl\n",
      "../results/full_fine_tuning_50epochs_paper_final2/convnext_base.fb_in22k_caltech101_CLASSIC_AT.pkl\n",
      "../results/full_fine_tuning_50epochs_paper_final2/robust_convnext_base_caltech101_CLASSIC_AT.pkl\n",
      "../results/full_fine_tuning_50epochs_paper_final2/vit_base_patch16_224.augreg_in1k_caltech101_CLASSIC_AT.pkl\n",
      "../results/full_fine_tuning_50epochs_paper_final2/vit_base_patch16_224.augreg_in21k_caltech101_CLASSIC_AT.pkl\n",
      "../results/full_fine_tuning_50epochs_paper_final2/vit_base_patch16_clip_224.laion2b_caltech101_CLASSIC_AT.pkl\n",
      "../results/full_fine_tuning_50epochs_paper_final2/convnext_tiny.fb_in1k_caltech101_CLASSIC_AT.pkl\n",
      "../results/full_fine_tuning_50epochs_paper_final2/robust_convnext_tiny_caltech101_CLASSIC_AT.pkl\n",
      "../results/full_fine_tuning_50epochs_paper_final2/robust_deit_small_patch16_224_caltech101_CLASSIC_AT.pkl\n",
      "../results/full_fine_tuning_50epochs_paper_final2/vit_small_patch16_224.augreg_in1k_caltech101_CLASSIC_AT.pkl\n",
      "../results/full_fine_tuning_50epochs_paper_final2/convnext_tiny.fb_in22k_caltech101_CLASSIC_AT.pkl\n",
      "../results/full_fine_tuning_50epochs_paper_final2/vit_base_patch16_clip_224.laion2b_ft_in1k_caltech101_CLASSIC_AT.pkl\n",
      "../results/full_fine_tuning_50epochs_paper_final2/vit_base_patch16_224.augreg_in21k_ft_in1k_caltech101_CLASSIC_AT.pkl\n",
      "../results/full_fine_tuning_50epochs_paper_final2/vit_small_patch16_224.augreg_in21k_ft_in1k_caltech101_CLASSIC_AT.pkl\n",
      "../results/full_fine_tuning_50epochs_paper_final2/eva02_base_patch14_224.mim_in22k_caltech101_CLASSIC_AT.pkl\n",
      "../results/full_fine_tuning_50epochs_paper_final2/eva02_tiny_patch14_224.mim_in22k_caltech101_CLASSIC_AT.pkl\n",
      "../results/full_fine_tuning_50epochs_paper_final2/swin_base_patch4_window7_224.ms_in22k_ft_in1k_caltech101_CLASSIC_AT.pkl\n",
      "../results/full_fine_tuning_50epochs_paper_final2/swin_tiny_patch4_window7_224.ms_in1k_caltech101_CLASSIC_AT.pkl\n",
      "../results/full_fine_tuning_50epochs_paper_final2/convnext_base.clip_laion2b_augreg_ft_in12k_in1k_caltech101_CLASSIC_AT.pkl\n",
      "../results/full_fine_tuning_50epochs_paper_final2/convnext_base.fb_in22k_ft_in1k_caltech101_CLASSIC_AT.pkl\n",
      "../results/full_fine_tuning_50epochs_paper_final2/convnext_tiny.fb_in22k_ft_in1k_caltech101_CLASSIC_AT.pkl\n",
      "../results/full_fine_tuning_50epochs_paper_final2/coatnet_0_rw_224.sw_in1k_caltech101_CLASSIC_AT.pkl\n",
      "../results/full_fine_tuning_50epochs_paper_final2/coatnet_2_rw_224.sw_in12k_ft_in1k_caltech101_CLASSIC_AT.pkl\n",
      "../results/full_fine_tuning_50epochs_paper_final2/coatnet_2_rw_224.sw_in12k_caltech101_CLASSIC_AT.pkl\n",
      "../results/full_fine_tuning_50epochs_edge_paper_final2/regnetx_004.pycls_in1k_caltech101_CLASSIC_AT.pkl\n",
      "../results/full_fine_tuning_50epochs_edge_paper_final2/efficientnet-b0_caltech101_CLASSIC_AT.pkl\n",
      "../results/full_fine_tuning_50epochs_edge_paper_final2/deit_tiny_patch16_224.fb_in1k_caltech101_CLASSIC_AT.pkl\n",
      "../results/full_fine_tuning_50epochs_edge_paper_final2/mobilevit-small_caltech101_CLASSIC_AT.pkl\n",
      "../results/full_fine_tuning_50epochs_edge_paper_final2/mobilenetv3_large_100.ra_in1k_caltech101_CLASSIC_AT.pkl\n",
      "../results/full_fine_tuning_50epochs_edge_paper_final2/edgenext_small.usi_in1k_caltech101_CLASSIC_AT.pkl\n",
      "../results/full_fine_tuning_50epochs_edge_paper_final2/coat_tiny.in1k_caltech101_CLASSIC_AT.pkl\n",
      "../results/full_fine_tuning_50epochs_paper_final2/coat_tiny.in1k_caltech101_CLASSIC_AT.pkl\n",
      "../results/full_fine_tuning_50epochs_paper_final2/CLIP-convnext_base_w-laion_aesthetic-s13B-b82K_fgvc-aircraft-2013b_CLASSIC_AT.pkl\n",
      "../results/full_fine_tuning_50epochs_paper_final2/CLIP-convnext_base_w-laion2B-s13B-b82K_fgvc-aircraft-2013b_CLASSIC_AT.pkl\n",
      "../results/full_fine_tuning_50epochs_paper_final2/deit_small_patch16_224.fb_in1k_fgvc-aircraft-2013b_CLASSIC_AT.pkl\n",
      "../results/full_fine_tuning_50epochs_paper_final2/robust_resnet50_fgvc-aircraft-2013b_CLASSIC_AT.pkl\n",
      "../results/full_fine_tuning_50epochs_paper_final2/vit_small_patch16_224.augreg_in21k_fgvc-aircraft-2013b_CLASSIC_AT.pkl\n",
      "../results/full_fine_tuning_50epochs_paper_final2/convnext_base.fb_in1k_fgvc-aircraft-2013b_CLASSIC_AT.pkl\n",
      "../results/full_fine_tuning_50epochs_paper_final2/resnet50.a1_in1k_fgvc-aircraft-2013b_CLASSIC_AT.pkl\n",
      "../results/full_fine_tuning_50epochs_paper_final2/robust_vit_base_patch16_224_fgvc-aircraft-2013b_CLASSIC_AT.pkl\n",
      "../results/full_fine_tuning_50epochs_paper_final2/vit_base_patch16_224.mae_fgvc-aircraft-2013b_CLASSIC_AT.pkl\n",
      "../results/full_fine_tuning_50epochs_paper_final2/vit_small_patch16_224.dino_fgvc-aircraft-2013b_CLASSIC_AT.pkl\n",
      "../results/full_fine_tuning_50epochs_paper_final2/convnext_base.fb_in22k_fgvc-aircraft-2013b_CLASSIC_AT.pkl\n",
      "../results/full_fine_tuning_50epochs_paper_final2/robust_convnext_base_fgvc-aircraft-2013b_CLASSIC_AT.pkl\n",
      "../results/full_fine_tuning_50epochs_paper_final2/vit_base_patch16_224.augreg_in1k_fgvc-aircraft-2013b_CLASSIC_AT.pkl\n",
      "../results/full_fine_tuning_50epochs_paper_final2/vit_base_patch16_224.augreg_in21k_fgvc-aircraft-2013b_CLASSIC_AT.pkl\n",
      "../results/full_fine_tuning_50epochs_paper_final2/vit_base_patch16_clip_224.laion2b_fgvc-aircraft-2013b_CLASSIC_AT.pkl\n",
      "../results/full_fine_tuning_50epochs_paper_final2/convnext_tiny.fb_in1k_fgvc-aircraft-2013b_CLASSIC_AT.pkl\n",
      "../results/full_fine_tuning_50epochs_paper_final2/robust_convnext_tiny_fgvc-aircraft-2013b_CLASSIC_AT.pkl\n",
      "../results/full_fine_tuning_50epochs_paper_final2/robust_deit_small_patch16_224_fgvc-aircraft-2013b_CLASSIC_AT.pkl\n",
      "../results/full_fine_tuning_50epochs_paper_final2/vit_small_patch16_224.augreg_in1k_fgvc-aircraft-2013b_CLASSIC_AT.pkl\n",
      "../results/full_fine_tuning_50epochs_paper_final2/convnext_tiny.fb_in22k_fgvc-aircraft-2013b_CLASSIC_AT.pkl\n",
      "../results/full_fine_tuning_50epochs_paper_final2/vit_base_patch16_clip_224.laion2b_ft_in1k_fgvc-aircraft-2013b_CLASSIC_AT.pkl\n",
      "../results/full_fine_tuning_50epochs_paper_final2/vit_base_patch16_224.augreg_in21k_ft_in1k_fgvc-aircraft-2013b_CLASSIC_AT.pkl\n",
      "../results/full_fine_tuning_50epochs_paper_final2/vit_small_patch16_224.augreg_in21k_ft_in1k_fgvc-aircraft-2013b_CLASSIC_AT.pkl\n",
      "../results/full_fine_tuning_50epochs_paper_final2/eva02_base_patch14_224.mim_in22k_fgvc-aircraft-2013b_CLASSIC_AT.pkl\n",
      "../results/full_fine_tuning_50epochs_paper_final2/eva02_tiny_patch14_224.mim_in22k_fgvc-aircraft-2013b_CLASSIC_AT.pkl\n",
      "../results/full_fine_tuning_50epochs_paper_final2/swin_base_patch4_window7_224.ms_in22k_ft_in1k_fgvc-aircraft-2013b_CLASSIC_AT.pkl\n",
      "../results/full_fine_tuning_50epochs_paper_final2/swin_tiny_patch4_window7_224.ms_in1k_fgvc-aircraft-2013b_CLASSIC_AT.pkl\n",
      "../results/full_fine_tuning_50epochs_paper_final2/convnext_base.clip_laion2b_augreg_ft_in12k_in1k_fgvc-aircraft-2013b_CLASSIC_AT.pkl\n",
      "../results/full_fine_tuning_50epochs_paper_final2/convnext_base.fb_in22k_ft_in1k_fgvc-aircraft-2013b_CLASSIC_AT.pkl\n",
      "../results/full_fine_tuning_50epochs_paper_final2/convnext_tiny.fb_in22k_ft_in1k_fgvc-aircraft-2013b_CLASSIC_AT.pkl\n",
      "../results/full_fine_tuning_50epochs_paper_final2/coatnet_0_rw_224.sw_in1k_fgvc-aircraft-2013b_CLASSIC_AT.pkl\n",
      "../results/full_fine_tuning_50epochs_paper_final2/coatnet_2_rw_224.sw_in12k_ft_in1k_fgvc-aircraft-2013b_CLASSIC_AT.pkl\n",
      "../results/full_fine_tuning_50epochs_paper_final2/coatnet_2_rw_224.sw_in12k_fgvc-aircraft-2013b_CLASSIC_AT.pkl\n",
      "../results/full_fine_tuning_50epochs_edge_paper_final2/regnetx_004.pycls_in1k_fgvc-aircraft-2013b_CLASSIC_AT.pkl\n",
      "../results/full_fine_tuning_50epochs_edge_paper_final2/efficientnet-b0_fgvc-aircraft-2013b_CLASSIC_AT.pkl\n",
      "../results/full_fine_tuning_50epochs_edge_paper_final2/deit_tiny_patch16_224.fb_in1k_fgvc-aircraft-2013b_CLASSIC_AT.pkl\n",
      "../results/full_fine_tuning_50epochs_edge_paper_final2/mobilevit-small_fgvc-aircraft-2013b_CLASSIC_AT.pkl\n",
      "../results/full_fine_tuning_50epochs_edge_paper_final2/mobilenetv3_large_100.ra_in1k_fgvc-aircraft-2013b_CLASSIC_AT.pkl\n",
      "../results/full_fine_tuning_50epochs_edge_paper_final2/edgenext_small.usi_in1k_fgvc-aircraft-2013b_CLASSIC_AT.pkl\n",
      "../results/full_fine_tuning_50epochs_edge_paper_final2/coat_tiny.in1k_fgvc-aircraft-2013b_CLASSIC_AT.pkl\n",
      "../results/full_fine_tuning_50epochs_paper_final2/CLIP-convnext_base_w-laion_aesthetic-s13B-b82K_flowers-102_CLASSIC_AT.pkl\n",
      "../results/full_fine_tuning_50epochs_paper_final2/CLIP-convnext_base_w-laion2B-s13B-b82K_flowers-102_CLASSIC_AT.pkl\n",
      "../results/full_fine_tuning_50epochs_paper_final2/deit_small_patch16_224.fb_in1k_flowers-102_CLASSIC_AT.pkl\n",
      "../results/full_fine_tuning_50epochs_paper_final2/robust_resnet50_flowers-102_CLASSIC_AT.pkl\n",
      "../results/full_fine_tuning_50epochs_paper_final2/vit_small_patch16_224.augreg_in21k_flowers-102_CLASSIC_AT.pkl\n",
      "../results/full_fine_tuning_50epochs_paper_final2/convnext_base.fb_in1k_flowers-102_CLASSIC_AT.pkl\n",
      "../results/full_fine_tuning_50epochs_paper_final2/resnet50.a1_in1k_flowers-102_CLASSIC_AT.pkl\n",
      "../results/full_fine_tuning_50epochs_paper_final2/robust_vit_base_patch16_224_flowers-102_CLASSIC_AT.pkl\n",
      "../results/full_fine_tuning_50epochs_paper_final2/vit_base_patch16_224.mae_flowers-102_CLASSIC_AT.pkl\n",
      "../results/full_fine_tuning_50epochs_paper_final2/vit_small_patch16_224.dino_flowers-102_CLASSIC_AT.pkl\n",
      "../results/full_fine_tuning_50epochs_paper_final2/convnext_base.fb_in22k_flowers-102_CLASSIC_AT.pkl\n",
      "../results/full_fine_tuning_50epochs_paper_final2/robust_convnext_base_flowers-102_CLASSIC_AT.pkl\n",
      "../results/full_fine_tuning_50epochs_paper_final2/vit_base_patch16_224.augreg_in1k_flowers-102_CLASSIC_AT.pkl\n",
      "../results/full_fine_tuning_50epochs_paper_final2/vit_base_patch16_224.augreg_in21k_flowers-102_CLASSIC_AT.pkl\n",
      "../results/full_fine_tuning_50epochs_paper_final2/vit_base_patch16_clip_224.laion2b_flowers-102_CLASSIC_AT.pkl\n",
      "../results/full_fine_tuning_50epochs_paper_final2/convnext_tiny.fb_in1k_flowers-102_CLASSIC_AT.pkl\n",
      "../results/full_fine_tuning_50epochs_paper_final2/robust_convnext_tiny_flowers-102_CLASSIC_AT.pkl\n",
      "../results/full_fine_tuning_50epochs_paper_final2/robust_deit_small_patch16_224_flowers-102_CLASSIC_AT.pkl\n",
      "../results/full_fine_tuning_50epochs_paper_final2/vit_small_patch16_224.augreg_in1k_flowers-102_CLASSIC_AT.pkl\n",
      "../results/full_fine_tuning_50epochs_paper_final2/convnext_tiny.fb_in22k_flowers-102_CLASSIC_AT.pkl\n",
      "../results/full_fine_tuning_50epochs_paper_final2/vit_base_patch16_clip_224.laion2b_ft_in1k_flowers-102_CLASSIC_AT.pkl\n",
      "../results/full_fine_tuning_50epochs_paper_final2/vit_base_patch16_224.augreg_in21k_ft_in1k_flowers-102_CLASSIC_AT.pkl\n",
      "../results/full_fine_tuning_50epochs_paper_final2/vit_small_patch16_224.augreg_in21k_ft_in1k_flowers-102_CLASSIC_AT.pkl\n",
      "../results/full_fine_tuning_50epochs_paper_final2/eva02_base_patch14_224.mim_in22k_flowers-102_CLASSIC_AT.pkl\n",
      "../results/full_fine_tuning_50epochs_paper_final2/eva02_tiny_patch14_224.mim_in22k_flowers-102_CLASSIC_AT.pkl\n",
      "../results/full_fine_tuning_50epochs_paper_final2/swin_base_patch4_window7_224.ms_in22k_ft_in1k_flowers-102_CLASSIC_AT.pkl\n",
      "../results/full_fine_tuning_50epochs_paper_final2/swin_tiny_patch4_window7_224.ms_in1k_flowers-102_CLASSIC_AT.pkl\n",
      "../results/full_fine_tuning_50epochs_paper_final2/convnext_base.clip_laion2b_augreg_ft_in12k_in1k_flowers-102_CLASSIC_AT.pkl\n",
      "../results/full_fine_tuning_50epochs_paper_final2/convnext_base.fb_in22k_ft_in1k_flowers-102_CLASSIC_AT.pkl\n",
      "../results/full_fine_tuning_50epochs_paper_final2/convnext_tiny.fb_in22k_ft_in1k_flowers-102_CLASSIC_AT.pkl\n",
      "../results/full_fine_tuning_50epochs_paper_final2/coatnet_0_rw_224.sw_in1k_flowers-102_CLASSIC_AT.pkl\n",
      "../results/full_fine_tuning_50epochs_paper_final2/coatnet_2_rw_224.sw_in12k_ft_in1k_flowers-102_CLASSIC_AT.pkl\n",
      "../results/full_fine_tuning_50epochs_paper_final2/coatnet_2_rw_224.sw_in12k_flowers-102_CLASSIC_AT.pkl\n",
      "../results/full_fine_tuning_50epochs_edge_paper_final2/regnetx_004.pycls_in1k_flowers-102_CLASSIC_AT.pkl\n",
      "../results/full_fine_tuning_50epochs_edge_paper_final2/efficientnet-b0_flowers-102_CLASSIC_AT.pkl\n",
      "../results/full_fine_tuning_50epochs_edge_paper_final2/deit_tiny_patch16_224.fb_in1k_flowers-102_CLASSIC_AT.pkl\n",
      "../results/full_fine_tuning_50epochs_edge_paper_final2/mobilevit-small_flowers-102_CLASSIC_AT.pkl\n",
      "../results/full_fine_tuning_50epochs_edge_paper_final2/mobilenetv3_large_100.ra_in1k_flowers-102_CLASSIC_AT.pkl\n",
      "../results/full_fine_tuning_50epochs_edge_paper_final2/edgenext_small.usi_in1k_flowers-102_CLASSIC_AT.pkl\n",
      "../results/full_fine_tuning_50epochs_edge_paper_final2/coat_tiny.in1k_flowers-102_CLASSIC_AT.pkl\n",
      "../results/full_fine_tuning_50epochs_paper_final2/CLIP-convnext_base_w-laion_aesthetic-s13B-b82K_oxford-iiit-pet_CLASSIC_AT.pkl\n",
      "../results/full_fine_tuning_50epochs_paper_final2/CLIP-convnext_base_w-laion2B-s13B-b82K_oxford-iiit-pet_CLASSIC_AT.pkl\n",
      "../results/full_fine_tuning_50epochs_paper_final2/deit_small_patch16_224.fb_in1k_oxford-iiit-pet_CLASSIC_AT.pkl\n",
      "../results/full_fine_tuning_50epochs_paper_final2/robust_resnet50_oxford-iiit-pet_CLASSIC_AT.pkl\n",
      "../results/full_fine_tuning_50epochs_paper_final2/vit_small_patch16_224.augreg_in21k_oxford-iiit-pet_CLASSIC_AT.pkl\n",
      "../results/full_fine_tuning_50epochs_paper_final2/convnext_base.fb_in1k_oxford-iiit-pet_CLASSIC_AT.pkl\n",
      "../results/full_fine_tuning_50epochs_paper_final2/resnet50.a1_in1k_oxford-iiit-pet_CLASSIC_AT.pkl\n",
      "../results/full_fine_tuning_50epochs_paper_final2/robust_vit_base_patch16_224_oxford-iiit-pet_CLASSIC_AT.pkl\n",
      "../results/full_fine_tuning_50epochs_paper_final2/vit_base_patch16_224.mae_oxford-iiit-pet_CLASSIC_AT.pkl\n",
      "../results/full_fine_tuning_50epochs_paper_final2/vit_small_patch16_224.dino_oxford-iiit-pet_CLASSIC_AT.pkl\n",
      "../results/full_fine_tuning_50epochs_paper_final2/convnext_base.fb_in22k_oxford-iiit-pet_CLASSIC_AT.pkl\n",
      "../results/full_fine_tuning_50epochs_paper_final2/robust_convnext_base_oxford-iiit-pet_CLASSIC_AT.pkl\n",
      "../results/full_fine_tuning_50epochs_paper_final2/vit_base_patch16_224.augreg_in1k_oxford-iiit-pet_CLASSIC_AT.pkl\n",
      "../results/full_fine_tuning_50epochs_paper_final2/vit_base_patch16_224.augreg_in21k_oxford-iiit-pet_CLASSIC_AT.pkl\n",
      "../results/full_fine_tuning_50epochs_paper_final2/vit_base_patch16_clip_224.laion2b_oxford-iiit-pet_CLASSIC_AT.pkl\n",
      "../results/full_fine_tuning_50epochs_paper_final2/convnext_tiny.fb_in1k_oxford-iiit-pet_CLASSIC_AT.pkl\n",
      "../results/full_fine_tuning_50epochs_paper_final2/robust_convnext_tiny_oxford-iiit-pet_CLASSIC_AT.pkl\n",
      "../results/full_fine_tuning_50epochs_paper_final2/robust_deit_small_patch16_224_oxford-iiit-pet_CLASSIC_AT.pkl\n",
      "../results/full_fine_tuning_50epochs_paper_final2/vit_small_patch16_224.augreg_in1k_oxford-iiit-pet_CLASSIC_AT.pkl\n",
      "../results/full_fine_tuning_50epochs_paper_final2/convnext_tiny.fb_in22k_oxford-iiit-pet_CLASSIC_AT.pkl\n",
      "../results/full_fine_tuning_50epochs_paper_final2/vit_base_patch16_clip_224.laion2b_ft_in1k_oxford-iiit-pet_CLASSIC_AT.pkl\n",
      "../results/full_fine_tuning_50epochs_paper_final2/vit_base_patch16_224.augreg_in21k_ft_in1k_oxford-iiit-pet_CLASSIC_AT.pkl\n",
      "../results/full_fine_tuning_50epochs_paper_final2/vit_small_patch16_224.augreg_in21k_ft_in1k_oxford-iiit-pet_CLASSIC_AT.pkl\n",
      "../results/full_fine_tuning_50epochs_paper_final2/eva02_base_patch14_224.mim_in22k_oxford-iiit-pet_CLASSIC_AT.pkl\n",
      "../results/full_fine_tuning_50epochs_paper_final2/eva02_tiny_patch14_224.mim_in22k_oxford-iiit-pet_CLASSIC_AT.pkl\n",
      "../results/full_fine_tuning_50epochs_paper_final2/swin_base_patch4_window7_224.ms_in22k_ft_in1k_oxford-iiit-pet_CLASSIC_AT.pkl\n",
      "../results/full_fine_tuning_50epochs_paper_final2/swin_tiny_patch4_window7_224.ms_in1k_oxford-iiit-pet_CLASSIC_AT.pkl\n",
      "../results/full_fine_tuning_50epochs_paper_final2/convnext_base.clip_laion2b_augreg_ft_in12k_in1k_oxford-iiit-pet_CLASSIC_AT.pkl\n",
      "../results/full_fine_tuning_50epochs_paper_final2/convnext_base.fb_in22k_ft_in1k_oxford-iiit-pet_CLASSIC_AT.pkl\n",
      "../results/full_fine_tuning_50epochs_paper_final2/convnext_tiny.fb_in22k_ft_in1k_oxford-iiit-pet_CLASSIC_AT.pkl\n",
      "../results/full_fine_tuning_50epochs_paper_final2/coatnet_0_rw_224.sw_in1k_oxford-iiit-pet_CLASSIC_AT.pkl\n",
      "../results/full_fine_tuning_50epochs_paper_final2/coatnet_2_rw_224.sw_in12k_ft_in1k_oxford-iiit-pet_CLASSIC_AT.pkl\n",
      "../results/full_fine_tuning_50epochs_paper_final2/coatnet_2_rw_224.sw_in12k_oxford-iiit-pet_CLASSIC_AT.pkl\n",
      "../results/full_fine_tuning_50epochs_edge_paper_final2/regnetx_004.pycls_in1k_oxford-iiit-pet_CLASSIC_AT.pkl\n",
      "../results/full_fine_tuning_50epochs_edge_paper_final2/efficientnet-b0_oxford-iiit-pet_CLASSIC_AT.pkl\n",
      "../results/full_fine_tuning_50epochs_edge_paper_final2/deit_tiny_patch16_224.fb_in1k_oxford-iiit-pet_CLASSIC_AT.pkl\n",
      "../results/full_fine_tuning_50epochs_edge_paper_final2/mobilevit-small_oxford-iiit-pet_CLASSIC_AT.pkl\n",
      "../results/full_fine_tuning_50epochs_edge_paper_final2/mobilenetv3_large_100.ra_in1k_oxford-iiit-pet_CLASSIC_AT.pkl\n",
      "../results/full_fine_tuning_50epochs_edge_paper_final2/edgenext_small.usi_in1k_oxford-iiit-pet_CLASSIC_AT.pkl\n",
      "../results/full_fine_tuning_50epochs_edge_paper_final2/coat_tiny.in1k_oxford-iiit-pet_CLASSIC_AT.pkl\n",
      "../results/full_fine_tuning_5epochs_article1/CLIP-convnext_base_w-laion_aesthetic-s13B-b82K_uc-merced-land-use-dataset_TRADES_v2.pkl\n",
      "../results/full_fine_tuning_5epochs_article1/CLIP-convnext_base_w-laion2B-s13B-b82K_uc-merced-land-use-dataset_TRADES_v2.pkl\n",
      "../results/full_fine_tuning_5epochs_article1/deit_small_patch16_224.fb_in1k_uc-merced-land-use-dataset_TRADES_v2.pkl\n",
      "../results/full_fine_tuning_5epochs_article1/robust_resnet50_uc-merced-land-use-dataset_TRADES_v2.pkl\n",
      "../results/full_fine_tuning_5epochs_article1/vit_small_patch16_224.augreg_in21k_uc-merced-land-use-dataset_TRADES_v2.pkl\n",
      "../results/full_fine_tuning_5epochs_article1/convnext_base.fb_in1k_uc-merced-land-use-dataset_TRADES_v2.pkl\n",
      "../results/full_fine_tuning_5epochs_article1/resnet50.a1_in1k_uc-merced-land-use-dataset_TRADES_v2.pkl\n",
      "../results/full_fine_tuning_5epochs_article1/robust_vit_base_patch16_224_uc-merced-land-use-dataset_TRADES_v2.pkl\n",
      "../results/full_fine_tuning_5epochs_article1/vit_base_patch16_224.mae_uc-merced-land-use-dataset_TRADES_v2.pkl\n",
      "../results/full_fine_tuning_5epochs_article1/vit_small_patch16_224.dino_uc-merced-land-use-dataset_TRADES_v2.pkl\n",
      "../results/full_fine_tuning_5epochs_article1/convnext_base.fb_in22k_uc-merced-land-use-dataset_TRADES_v2.pkl\n",
      "../results/full_fine_tuning_5epochs_article1/robust_convnext_base_uc-merced-land-use-dataset_TRADES_v2.pkl\n",
      "../results/full_fine_tuning_5epochs_article1/vit_base_patch16_224.augreg_in1k_uc-merced-land-use-dataset_TRADES_v2.pkl\n",
      "../results/full_fine_tuning_5epochs_article1/vit_base_patch16_224.augreg_in21k_uc-merced-land-use-dataset_TRADES_v2.pkl\n",
      "../results/full_fine_tuning_5epochs_article1/vit_base_patch16_clip_224.laion2b_uc-merced-land-use-dataset_TRADES_v2.pkl\n",
      "../results/full_fine_tuning_5epochs_article1/convnext_tiny.fb_in1k_uc-merced-land-use-dataset_TRADES_v2.pkl\n",
      "../results/full_fine_tuning_5epochs_article1/robust_convnext_tiny_uc-merced-land-use-dataset_TRADES_v2.pkl\n",
      "../results/full_fine_tuning_5epochs_article1/robust_deit_small_patch16_224_uc-merced-land-use-dataset_TRADES_v2.pkl\n",
      "../results/full_fine_tuning_5epochs_article1/vit_small_patch16_224.augreg_in1k_uc-merced-land-use-dataset_TRADES_v2.pkl\n",
      "../results/full_fine_tuning_5epochs_article1/convnext_tiny.fb_in22k_uc-merced-land-use-dataset_TRADES_v2.pkl\n",
      "../results/full_fine_tuning_5epochs_article1/vit_base_patch16_clip_224.laion2b_ft_in1k_uc-merced-land-use-dataset_TRADES_v2.pkl\n",
      "../results/full_fine_tuning_5epochs_article1/vit_base_patch16_224.augreg_in21k_ft_in1k_uc-merced-land-use-dataset_TRADES_v2.pkl\n",
      "../results/full_fine_tuning_5epochs_article1/vit_small_patch16_224.augreg_in21k_ft_in1k_uc-merced-land-use-dataset_TRADES_v2.pkl\n",
      "../results/full_fine_tuning_5epochs_article1/eva02_base_patch14_224.mim_in22k_uc-merced-land-use-dataset_TRADES_v2.pkl\n",
      "../results/full_fine_tuning_5epochs_article1/eva02_tiny_patch14_224.mim_in22k_uc-merced-land-use-dataset_TRADES_v2.pkl\n",
      "../results/full_fine_tuning_5epochs_article1/swin_base_patch4_window7_224.ms_in22k_ft_in1k_uc-merced-land-use-dataset_TRADES_v2.pkl\n",
      "../results/full_fine_tuning_5epochs_article1/swin_tiny_patch4_window7_224.ms_in1k_uc-merced-land-use-dataset_TRADES_v2.pkl\n",
      "../results/full_fine_tuning_5epochs_article1/convnext_base.clip_laion2b_augreg_ft_in12k_in1k_uc-merced-land-use-dataset_TRADES_v2.pkl\n",
      "../results/full_fine_tuning_5epochs_article1/convnext_base.fb_in22k_ft_in1k_uc-merced-land-use-dataset_TRADES_v2.pkl\n",
      "../results/full_fine_tuning_5epochs_article1/convnext_tiny.fb_in22k_ft_in1k_uc-merced-land-use-dataset_TRADES_v2.pkl\n",
      "../results/full_fine_tuning_5epochs_article1/coatnet_0_rw_224.sw_in1k_uc-merced-land-use-dataset_TRADES_v2.pkl\n",
      "../results/full_fine_tuning_5epochs_article1/coatnet_2_rw_224.sw_in12k_ft_in1k_uc-merced-land-use-dataset_TRADES_v2.pkl\n",
      "../results/full_fine_tuning_5epochs_article1/coatnet_2_rw_224.sw_in12k_uc-merced-land-use-dataset_TRADES_v2.pkl\n",
      "../results/full_fine_tuning_5epochs_edge_article1/regnetx_004.pycls_in1k_uc-merced-land-use-dataset_TRADES_v2.pkl\n",
      "../results/full_fine_tuning_5epochs_edge_article1/efficientnet-b0_uc-merced-land-use-dataset_TRADES_v2.pkl\n",
      "../results/full_fine_tuning_5epochs_edge_article1/deit_tiny_patch16_224.fb_in1k_uc-merced-land-use-dataset_TRADES_v2.pkl\n",
      "../results/full_fine_tuning_5epochs_edge_article1/mobilevit-small_uc-merced-land-use-dataset_TRADES_v2.pkl\n",
      "../results/full_fine_tuning_5epochs_edge_article1/mobilenetv3_large_100.ra_in1k_uc-merced-land-use-dataset_TRADES_v2.pkl\n",
      "../results/full_fine_tuning_5epochs_edge_article1/edgenext_small.usi_in1k_uc-merced-land-use-dataset_TRADES_v2.pkl\n",
      "../results/full_fine_tuning_5epochs_edge_article1/coat_tiny.in1k_uc-merced-land-use-dataset_TRADES_v2.pkl\n",
      "../results/full_fine_tuning_5epochs_article1/CLIP-convnext_base_w-laion_aesthetic-s13B-b82K_stanford_cars_TRADES_v2.pkl\n",
      "../results/full_fine_tuning_5epochs_article1/CLIP-convnext_base_w-laion2B-s13B-b82K_stanford_cars_TRADES_v2.pkl\n",
      "../results/full_fine_tuning_5epochs_article1/deit_small_patch16_224.fb_in1k_stanford_cars_TRADES_v2.pkl\n",
      "../results/full_fine_tuning_5epochs_article1/robust_resnet50_stanford_cars_TRADES_v2.pkl\n",
      "../results/full_fine_tuning_5epochs_article1/vit_small_patch16_224.augreg_in21k_stanford_cars_TRADES_v2.pkl\n",
      "../results/full_fine_tuning_5epochs_article1/convnext_base.fb_in1k_stanford_cars_TRADES_v2.pkl\n",
      "../results/full_fine_tuning_5epochs_article1/resnet50.a1_in1k_stanford_cars_TRADES_v2.pkl\n",
      "../results/full_fine_tuning_5epochs_article1/robust_vit_base_patch16_224_stanford_cars_TRADES_v2.pkl\n",
      "../results/full_fine_tuning_5epochs_article1/vit_base_patch16_224.mae_stanford_cars_TRADES_v2.pkl\n",
      "../results/full_fine_tuning_5epochs_article1/vit_small_patch16_224.dino_stanford_cars_TRADES_v2.pkl\n",
      "../results/full_fine_tuning_5epochs_article1/convnext_base.fb_in22k_stanford_cars_TRADES_v2.pkl\n",
      "../results/full_fine_tuning_5epochs_article1/robust_convnext_base_stanford_cars_TRADES_v2.pkl\n",
      "../results/full_fine_tuning_5epochs_article1/vit_base_patch16_224.augreg_in1k_stanford_cars_TRADES_v2.pkl\n",
      "../results/full_fine_tuning_5epochs_article1/vit_base_patch16_224.augreg_in21k_stanford_cars_TRADES_v2.pkl\n",
      "../results/full_fine_tuning_5epochs_article1/vit_base_patch16_clip_224.laion2b_stanford_cars_TRADES_v2.pkl\n",
      "../results/full_fine_tuning_5epochs_article1/convnext_tiny.fb_in1k_stanford_cars_TRADES_v2.pkl\n",
      "../results/full_fine_tuning_5epochs_article1/robust_convnext_tiny_stanford_cars_TRADES_v2.pkl\n",
      "../results/full_fine_tuning_5epochs_article1/robust_deit_small_patch16_224_stanford_cars_TRADES_v2.pkl\n",
      "../results/full_fine_tuning_5epochs_article1/vit_small_patch16_224.augreg_in1k_stanford_cars_TRADES_v2.pkl\n",
      "../results/full_fine_tuning_5epochs_article1/convnext_tiny.fb_in22k_stanford_cars_TRADES_v2.pkl\n",
      "../results/full_fine_tuning_5epochs_article1/vit_base_patch16_clip_224.laion2b_ft_in1k_stanford_cars_TRADES_v2.pkl\n",
      "../results/full_fine_tuning_5epochs_article1/vit_base_patch16_224.augreg_in21k_ft_in1k_stanford_cars_TRADES_v2.pkl\n",
      "../results/full_fine_tuning_5epochs_article1/vit_small_patch16_224.augreg_in21k_ft_in1k_stanford_cars_TRADES_v2.pkl\n",
      "../results/full_fine_tuning_5epochs_article1/eva02_base_patch14_224.mim_in22k_stanford_cars_TRADES_v2.pkl\n",
      "../results/full_fine_tuning_5epochs_article1/eva02_tiny_patch14_224.mim_in22k_stanford_cars_TRADES_v2.pkl\n",
      "../results/full_fine_tuning_5epochs_article1/swin_base_patch4_window7_224.ms_in22k_ft_in1k_stanford_cars_TRADES_v2.pkl\n",
      "../results/full_fine_tuning_5epochs_article1/swin_tiny_patch4_window7_224.ms_in1k_stanford_cars_TRADES_v2.pkl\n",
      "../results/full_fine_tuning_5epochs_article1/convnext_base.clip_laion2b_augreg_ft_in12k_in1k_stanford_cars_TRADES_v2.pkl\n",
      "../results/full_fine_tuning_5epochs_article1/convnext_base.fb_in22k_ft_in1k_stanford_cars_TRADES_v2.pkl\n",
      "../results/full_fine_tuning_5epochs_article1/convnext_tiny.fb_in22k_ft_in1k_stanford_cars_TRADES_v2.pkl\n",
      "../results/full_fine_tuning_5epochs_article1/coatnet_0_rw_224.sw_in1k_stanford_cars_TRADES_v2.pkl\n",
      "../results/full_fine_tuning_5epochs_article1/coatnet_2_rw_224.sw_in12k_ft_in1k_stanford_cars_TRADES_v2.pkl\n",
      "../results/full_fine_tuning_5epochs_article1/coatnet_2_rw_224.sw_in12k_stanford_cars_TRADES_v2.pkl\n",
      "../results/full_fine_tuning_5epochs_edge_article1/regnetx_004.pycls_in1k_stanford_cars_TRADES_v2.pkl\n",
      "../results/full_fine_tuning_5epochs_edge_article1/efficientnet-b0_stanford_cars_TRADES_v2.pkl\n",
      "../results/full_fine_tuning_5epochs_edge_article1/deit_tiny_patch16_224.fb_in1k_stanford_cars_TRADES_v2.pkl\n",
      "../results/full_fine_tuning_5epochs_edge_article1/mobilevit-small_stanford_cars_TRADES_v2.pkl\n",
      "../results/full_fine_tuning_5epochs_edge_article1/mobilenetv3_large_100.ra_in1k_stanford_cars_TRADES_v2.pkl\n",
      "../results/full_fine_tuning_5epochs_edge_article1/edgenext_small.usi_in1k_stanford_cars_TRADES_v2.pkl\n",
      "../results/full_fine_tuning_5epochs_edge_article1/coat_tiny.in1k_stanford_cars_TRADES_v2.pkl\n",
      "../results/full_fine_tuning_5epochs_article1/CLIP-convnext_base_w-laion_aesthetic-s13B-b82K_caltech101_TRADES_v2.pkl\n",
      "../results/full_fine_tuning_5epochs_article1/CLIP-convnext_base_w-laion2B-s13B-b82K_caltech101_TRADES_v2.pkl\n",
      "../results/full_fine_tuning_5epochs_article1/deit_small_patch16_224.fb_in1k_caltech101_TRADES_v2.pkl\n",
      "../results/full_fine_tuning_5epochs_article1/robust_resnet50_caltech101_TRADES_v2.pkl\n",
      "../results/full_fine_tuning_5epochs_article1/vit_small_patch16_224.augreg_in21k_caltech101_TRADES_v2.pkl\n",
      "../results/full_fine_tuning_5epochs_article1/convnext_base.fb_in1k_caltech101_TRADES_v2.pkl\n",
      "../results/full_fine_tuning_5epochs_article1/resnet50.a1_in1k_caltech101_TRADES_v2.pkl\n",
      "../results/full_fine_tuning_5epochs_article1/robust_vit_base_patch16_224_caltech101_TRADES_v2.pkl\n",
      "../results/full_fine_tuning_5epochs_article1/vit_base_patch16_224.mae_caltech101_TRADES_v2.pkl\n",
      "../results/full_fine_tuning_5epochs_article1/vit_small_patch16_224.dino_caltech101_TRADES_v2.pkl\n",
      "../results/full_fine_tuning_5epochs_article1/convnext_base.fb_in22k_caltech101_TRADES_v2.pkl\n",
      "../results/full_fine_tuning_5epochs_article1/robust_convnext_base_caltech101_TRADES_v2.pkl\n",
      "../results/full_fine_tuning_5epochs_article1/vit_base_patch16_224.augreg_in1k_caltech101_TRADES_v2.pkl\n",
      "../results/full_fine_tuning_5epochs_article1/vit_base_patch16_224.augreg_in21k_caltech101_TRADES_v2.pkl\n",
      "../results/full_fine_tuning_5epochs_article1/vit_base_patch16_clip_224.laion2b_caltech101_TRADES_v2.pkl\n",
      "../results/full_fine_tuning_5epochs_article1/convnext_tiny.fb_in1k_caltech101_TRADES_v2.pkl\n",
      "../results/full_fine_tuning_5epochs_article1/robust_convnext_tiny_caltech101_TRADES_v2.pkl\n",
      "../results/full_fine_tuning_5epochs_article1/robust_deit_small_patch16_224_caltech101_TRADES_v2.pkl\n",
      "../results/full_fine_tuning_5epochs_article1/vit_small_patch16_224.augreg_in1k_caltech101_TRADES_v2.pkl\n",
      "../results/full_fine_tuning_5epochs_article1/convnext_tiny.fb_in22k_caltech101_TRADES_v2.pkl\n",
      "../results/full_fine_tuning_5epochs_article1/vit_base_patch16_clip_224.laion2b_ft_in1k_caltech101_TRADES_v2.pkl\n",
      "../results/full_fine_tuning_5epochs_article1/vit_base_patch16_224.augreg_in21k_ft_in1k_caltech101_TRADES_v2.pkl\n",
      "../results/full_fine_tuning_5epochs_article1/vit_small_patch16_224.augreg_in21k_ft_in1k_caltech101_TRADES_v2.pkl\n",
      "../results/full_fine_tuning_5epochs_article1/eva02_base_patch14_224.mim_in22k_caltech101_TRADES_v2.pkl\n",
      "../results/full_fine_tuning_5epochs_article1/eva02_tiny_patch14_224.mim_in22k_caltech101_TRADES_v2.pkl\n",
      "../results/full_fine_tuning_5epochs_article1/swin_base_patch4_window7_224.ms_in22k_ft_in1k_caltech101_TRADES_v2.pkl\n",
      "../results/full_fine_tuning_5epochs_article1/swin_tiny_patch4_window7_224.ms_in1k_caltech101_TRADES_v2.pkl\n",
      "../results/full_fine_tuning_5epochs_article1/convnext_base.clip_laion2b_augreg_ft_in12k_in1k_caltech101_TRADES_v2.pkl\n",
      "../results/full_fine_tuning_5epochs_article1/convnext_base.fb_in22k_ft_in1k_caltech101_TRADES_v2.pkl\n",
      "../results/full_fine_tuning_5epochs_article1/convnext_tiny.fb_in22k_ft_in1k_caltech101_TRADES_v2.pkl\n",
      "../results/full_fine_tuning_5epochs_article1/coatnet_0_rw_224.sw_in1k_caltech101_TRADES_v2.pkl\n",
      "../results/full_fine_tuning_5epochs_article1/coatnet_2_rw_224.sw_in12k_ft_in1k_caltech101_TRADES_v2.pkl\n",
      "../results/full_fine_tuning_5epochs_article1/coatnet_2_rw_224.sw_in12k_caltech101_TRADES_v2.pkl\n",
      "../results/full_fine_tuning_5epochs_edge_article1/regnetx_004.pycls_in1k_caltech101_TRADES_v2.pkl\n",
      "../results/full_fine_tuning_5epochs_edge_article1/efficientnet-b0_caltech101_TRADES_v2.pkl\n",
      "../results/full_fine_tuning_5epochs_edge_article1/deit_tiny_patch16_224.fb_in1k_caltech101_TRADES_v2.pkl\n",
      "../results/full_fine_tuning_5epochs_edge_article1/mobilevit-small_caltech101_TRADES_v2.pkl\n",
      "../results/full_fine_tuning_5epochs_edge_article1/mobilenetv3_large_100.ra_in1k_caltech101_TRADES_v2.pkl\n",
      "../results/full_fine_tuning_5epochs_edge_article1/edgenext_small.usi_in1k_caltech101_TRADES_v2.pkl\n",
      "../results/full_fine_tuning_5epochs_edge_article1/coat_tiny.in1k_caltech101_TRADES_v2.pkl\n",
      "../results/full_fine_tuning_5epochs_article1/CLIP-convnext_base_w-laion_aesthetic-s13B-b82K_fgvc-aircraft-2013b_TRADES_v2.pkl\n",
      "../results/full_fine_tuning_5epochs_article1/CLIP-convnext_base_w-laion2B-s13B-b82K_fgvc-aircraft-2013b_TRADES_v2.pkl\n",
      "../results/full_fine_tuning_5epochs_article1/deit_small_patch16_224.fb_in1k_fgvc-aircraft-2013b_TRADES_v2.pkl\n",
      "../results/full_fine_tuning_5epochs_article1/robust_resnet50_fgvc-aircraft-2013b_TRADES_v2.pkl\n",
      "../results/full_fine_tuning_5epochs_article1/vit_small_patch16_224.augreg_in21k_fgvc-aircraft-2013b_TRADES_v2.pkl\n",
      "../results/full_fine_tuning_5epochs_article1/convnext_base.fb_in1k_fgvc-aircraft-2013b_TRADES_v2.pkl\n",
      "../results/full_fine_tuning_5epochs_article1/resnet50.a1_in1k_fgvc-aircraft-2013b_TRADES_v2.pkl\n",
      "../results/full_fine_tuning_5epochs_article1/robust_vit_base_patch16_224_fgvc-aircraft-2013b_TRADES_v2.pkl\n",
      "../results/full_fine_tuning_5epochs_article1/vit_base_patch16_224.mae_fgvc-aircraft-2013b_TRADES_v2.pkl\n",
      "../results/full_fine_tuning_5epochs_article1/vit_small_patch16_224.dino_fgvc-aircraft-2013b_TRADES_v2.pkl\n",
      "../results/full_fine_tuning_5epochs_article1/convnext_base.fb_in22k_fgvc-aircraft-2013b_TRADES_v2.pkl\n",
      "../results/full_fine_tuning_5epochs_article1/robust_convnext_base_fgvc-aircraft-2013b_TRADES_v2.pkl\n",
      "../results/full_fine_tuning_5epochs_article1/vit_base_patch16_224.augreg_in1k_fgvc-aircraft-2013b_TRADES_v2.pkl\n",
      "../results/full_fine_tuning_5epochs_article1/vit_base_patch16_224.augreg_in21k_fgvc-aircraft-2013b_TRADES_v2.pkl\n",
      "../results/full_fine_tuning_5epochs_article1/vit_base_patch16_clip_224.laion2b_fgvc-aircraft-2013b_TRADES_v2.pkl\n",
      "../results/full_fine_tuning_5epochs_article1/convnext_tiny.fb_in1k_fgvc-aircraft-2013b_TRADES_v2.pkl\n",
      "../results/full_fine_tuning_5epochs_article1/robust_convnext_tiny_fgvc-aircraft-2013b_TRADES_v2.pkl\n",
      "../results/full_fine_tuning_5epochs_article1/robust_deit_small_patch16_224_fgvc-aircraft-2013b_TRADES_v2.pkl\n",
      "../results/full_fine_tuning_5epochs_article1/vit_small_patch16_224.augreg_in1k_fgvc-aircraft-2013b_TRADES_v2.pkl\n",
      "../results/full_fine_tuning_5epochs_article1/convnext_tiny.fb_in22k_fgvc-aircraft-2013b_TRADES_v2.pkl\n",
      "../results/full_fine_tuning_5epochs_article1/vit_base_patch16_clip_224.laion2b_ft_in1k_fgvc-aircraft-2013b_TRADES_v2.pkl\n",
      "../results/full_fine_tuning_5epochs_article1/vit_base_patch16_224.augreg_in21k_ft_in1k_fgvc-aircraft-2013b_TRADES_v2.pkl\n",
      "../results/full_fine_tuning_5epochs_article1/vit_small_patch16_224.augreg_in21k_ft_in1k_fgvc-aircraft-2013b_TRADES_v2.pkl\n",
      "../results/full_fine_tuning_5epochs_article1/eva02_base_patch14_224.mim_in22k_fgvc-aircraft-2013b_TRADES_v2.pkl\n",
      "../results/full_fine_tuning_5epochs_article1/eva02_tiny_patch14_224.mim_in22k_fgvc-aircraft-2013b_TRADES_v2.pkl\n",
      "../results/full_fine_tuning_5epochs_article1/swin_base_patch4_window7_224.ms_in22k_ft_in1k_fgvc-aircraft-2013b_TRADES_v2.pkl\n",
      "../results/full_fine_tuning_5epochs_article1/swin_tiny_patch4_window7_224.ms_in1k_fgvc-aircraft-2013b_TRADES_v2.pkl\n",
      "../results/full_fine_tuning_5epochs_article1/convnext_base.clip_laion2b_augreg_ft_in12k_in1k_fgvc-aircraft-2013b_TRADES_v2.pkl\n",
      "../results/full_fine_tuning_5epochs_article1/convnext_base.fb_in22k_ft_in1k_fgvc-aircraft-2013b_TRADES_v2.pkl\n",
      "../results/full_fine_tuning_5epochs_article1/convnext_tiny.fb_in22k_ft_in1k_fgvc-aircraft-2013b_TRADES_v2.pkl\n",
      "../results/full_fine_tuning_5epochs_article1/coatnet_0_rw_224.sw_in1k_fgvc-aircraft-2013b_TRADES_v2.pkl\n",
      "../results/full_fine_tuning_5epochs_article1/coatnet_2_rw_224.sw_in12k_ft_in1k_fgvc-aircraft-2013b_TRADES_v2.pkl\n",
      "../results/full_fine_tuning_5epochs_article1/coatnet_2_rw_224.sw_in12k_fgvc-aircraft-2013b_TRADES_v2.pkl\n",
      "../results/full_fine_tuning_5epochs_edge_article1/regnetx_004.pycls_in1k_fgvc-aircraft-2013b_TRADES_v2.pkl\n",
      "../results/full_fine_tuning_5epochs_edge_article1/efficientnet-b0_fgvc-aircraft-2013b_TRADES_v2.pkl\n",
      "../results/full_fine_tuning_5epochs_edge_article1/deit_tiny_patch16_224.fb_in1k_fgvc-aircraft-2013b_TRADES_v2.pkl\n",
      "../results/full_fine_tuning_5epochs_edge_article1/mobilevit-small_fgvc-aircraft-2013b_TRADES_v2.pkl\n",
      "../results/full_fine_tuning_5epochs_edge_article1/mobilenetv3_large_100.ra_in1k_fgvc-aircraft-2013b_TRADES_v2.pkl\n",
      "../results/full_fine_tuning_5epochs_edge_article1/edgenext_small.usi_in1k_fgvc-aircraft-2013b_TRADES_v2.pkl\n",
      "../results/full_fine_tuning_5epochs_edge_article1/coat_tiny.in1k_fgvc-aircraft-2013b_TRADES_v2.pkl\n",
      "../results/full_fine_tuning_5epochs_article1/CLIP-convnext_base_w-laion_aesthetic-s13B-b82K_flowers-102_TRADES_v2.pkl\n",
      "../results/full_fine_tuning_5epochs_article1/CLIP-convnext_base_w-laion2B-s13B-b82K_flowers-102_TRADES_v2.pkl\n",
      "../results/full_fine_tuning_5epochs_article1/deit_small_patch16_224.fb_in1k_flowers-102_TRADES_v2.pkl\n",
      "../results/full_fine_tuning_5epochs_article1/robust_resnet50_flowers-102_TRADES_v2.pkl\n",
      "../results/full_fine_tuning_5epochs_article1/vit_small_patch16_224.augreg_in21k_flowers-102_TRADES_v2.pkl\n",
      "../results/full_fine_tuning_5epochs_article1/convnext_base.fb_in1k_flowers-102_TRADES_v2.pkl\n",
      "../results/full_fine_tuning_5epochs_article1/resnet50.a1_in1k_flowers-102_TRADES_v2.pkl\n",
      "../results/full_fine_tuning_5epochs_article1/robust_vit_base_patch16_224_flowers-102_TRADES_v2.pkl\n",
      "../results/full_fine_tuning_5epochs_article1/vit_base_patch16_224.mae_flowers-102_TRADES_v2.pkl\n",
      "../results/full_fine_tuning_5epochs_article1/vit_small_patch16_224.dino_flowers-102_TRADES_v2.pkl\n",
      "../results/full_fine_tuning_5epochs_article1/convnext_base.fb_in22k_flowers-102_TRADES_v2.pkl\n",
      "../results/full_fine_tuning_5epochs_article1/robust_convnext_base_flowers-102_TRADES_v2.pkl\n",
      "../results/full_fine_tuning_5epochs_article1/vit_base_patch16_224.augreg_in1k_flowers-102_TRADES_v2.pkl\n",
      "../results/full_fine_tuning_5epochs_article1/vit_base_patch16_224.augreg_in21k_flowers-102_TRADES_v2.pkl\n",
      "../results/full_fine_tuning_5epochs_article1/vit_base_patch16_clip_224.laion2b_flowers-102_TRADES_v2.pkl\n",
      "../results/full_fine_tuning_5epochs_article1/convnext_tiny.fb_in1k_flowers-102_TRADES_v2.pkl\n",
      "../results/full_fine_tuning_5epochs_article1/robust_convnext_tiny_flowers-102_TRADES_v2.pkl\n",
      "../results/full_fine_tuning_5epochs_article1/robust_deit_small_patch16_224_flowers-102_TRADES_v2.pkl\n",
      "../results/full_fine_tuning_5epochs_article1/vit_small_patch16_224.augreg_in1k_flowers-102_TRADES_v2.pkl\n",
      "../results/full_fine_tuning_5epochs_article1/convnext_tiny.fb_in22k_flowers-102_TRADES_v2.pkl\n",
      "../results/full_fine_tuning_5epochs_article1/vit_base_patch16_clip_224.laion2b_ft_in1k_flowers-102_TRADES_v2.pkl\n",
      "../results/full_fine_tuning_5epochs_article1/vit_base_patch16_224.augreg_in21k_ft_in1k_flowers-102_TRADES_v2.pkl\n",
      "../results/full_fine_tuning_5epochs_article1/vit_small_patch16_224.augreg_in21k_ft_in1k_flowers-102_TRADES_v2.pkl\n",
      "../results/full_fine_tuning_5epochs_article1/eva02_base_patch14_224.mim_in22k_flowers-102_TRADES_v2.pkl\n",
      "../results/full_fine_tuning_5epochs_article1/eva02_tiny_patch14_224.mim_in22k_flowers-102_TRADES_v2.pkl\n",
      "../results/full_fine_tuning_5epochs_article1/swin_base_patch4_window7_224.ms_in22k_ft_in1k_flowers-102_TRADES_v2.pkl\n",
      "../results/full_fine_tuning_5epochs_article1/swin_tiny_patch4_window7_224.ms_in1k_flowers-102_TRADES_v2.pkl\n",
      "../results/full_fine_tuning_5epochs_article1/convnext_base.clip_laion2b_augreg_ft_in12k_in1k_flowers-102_TRADES_v2.pkl\n",
      "../results/full_fine_tuning_5epochs_article1/convnext_base.fb_in22k_ft_in1k_flowers-102_TRADES_v2.pkl\n",
      "../results/full_fine_tuning_5epochs_article1/convnext_tiny.fb_in22k_ft_in1k_flowers-102_TRADES_v2.pkl\n",
      "../results/full_fine_tuning_5epochs_article1/coatnet_0_rw_224.sw_in1k_flowers-102_TRADES_v2.pkl\n",
      "../results/full_fine_tuning_5epochs_article1/coatnet_2_rw_224.sw_in12k_ft_in1k_flowers-102_TRADES_v2.pkl\n",
      "../results/full_fine_tuning_5epochs_article1/coatnet_2_rw_224.sw_in12k_flowers-102_TRADES_v2.pkl\n",
      "../results/full_fine_tuning_5epochs_edge_article1/regnetx_004.pycls_in1k_flowers-102_TRADES_v2.pkl\n",
      "../results/full_fine_tuning_5epochs_edge_article1/efficientnet-b0_flowers-102_TRADES_v2.pkl\n",
      "../results/full_fine_tuning_5epochs_edge_article1/deit_tiny_patch16_224.fb_in1k_flowers-102_TRADES_v2.pkl\n",
      "../results/full_fine_tuning_5epochs_edge_article1/mobilevit-small_flowers-102_TRADES_v2.pkl\n",
      "../results/full_fine_tuning_5epochs_edge_article1/mobilenetv3_large_100.ra_in1k_flowers-102_TRADES_v2.pkl\n",
      "../results/full_fine_tuning_5epochs_edge_article1/edgenext_small.usi_in1k_flowers-102_TRADES_v2.pkl\n",
      "../results/full_fine_tuning_5epochs_edge_article1/coat_tiny.in1k_flowers-102_TRADES_v2.pkl\n",
      "../results/full_fine_tuning_5epochs_article1/CLIP-convnext_base_w-laion_aesthetic-s13B-b82K_oxford-iiit-pet_TRADES_v2.pkl\n",
      "../results/full_fine_tuning_5epochs_article1/CLIP-convnext_base_w-laion2B-s13B-b82K_oxford-iiit-pet_TRADES_v2.pkl\n",
      "../results/full_fine_tuning_5epochs_article1/deit_small_patch16_224.fb_in1k_oxford-iiit-pet_TRADES_v2.pkl\n",
      "../results/full_fine_tuning_5epochs_article1/robust_resnet50_oxford-iiit-pet_TRADES_v2.pkl\n",
      "../results/full_fine_tuning_5epochs_article1/vit_small_patch16_224.augreg_in21k_oxford-iiit-pet_TRADES_v2.pkl\n",
      "../results/full_fine_tuning_5epochs_article1/convnext_base.fb_in1k_oxford-iiit-pet_TRADES_v2.pkl\n",
      "../results/full_fine_tuning_5epochs_article1/resnet50.a1_in1k_oxford-iiit-pet_TRADES_v2.pkl\n",
      "../results/full_fine_tuning_5epochs_article1/robust_vit_base_patch16_224_oxford-iiit-pet_TRADES_v2.pkl\n",
      "../results/full_fine_tuning_5epochs_article1/vit_base_patch16_224.mae_oxford-iiit-pet_TRADES_v2.pkl\n",
      "../results/full_fine_tuning_5epochs_article1/vit_small_patch16_224.dino_oxford-iiit-pet_TRADES_v2.pkl\n",
      "../results/full_fine_tuning_5epochs_article1/convnext_base.fb_in22k_oxford-iiit-pet_TRADES_v2.pkl\n",
      "../results/full_fine_tuning_5epochs_article1/robust_convnext_base_oxford-iiit-pet_TRADES_v2.pkl\n",
      "../results/full_fine_tuning_5epochs_article1/vit_base_patch16_224.augreg_in1k_oxford-iiit-pet_TRADES_v2.pkl\n",
      "../results/full_fine_tuning_5epochs_article1/vit_base_patch16_224.augreg_in21k_oxford-iiit-pet_TRADES_v2.pkl\n",
      "../results/full_fine_tuning_5epochs_article1/vit_base_patch16_clip_224.laion2b_oxford-iiit-pet_TRADES_v2.pkl\n",
      "../results/full_fine_tuning_5epochs_article1/convnext_tiny.fb_in1k_oxford-iiit-pet_TRADES_v2.pkl\n",
      "../results/full_fine_tuning_5epochs_article1/robust_convnext_tiny_oxford-iiit-pet_TRADES_v2.pkl\n",
      "../results/full_fine_tuning_5epochs_article1/robust_deit_small_patch16_224_oxford-iiit-pet_TRADES_v2.pkl\n",
      "../results/full_fine_tuning_5epochs_article1/vit_small_patch16_224.augreg_in1k_oxford-iiit-pet_TRADES_v2.pkl\n",
      "../results/full_fine_tuning_5epochs_article1/convnext_tiny.fb_in22k_oxford-iiit-pet_TRADES_v2.pkl\n",
      "../results/full_fine_tuning_5epochs_article1/vit_base_patch16_clip_224.laion2b_ft_in1k_oxford-iiit-pet_TRADES_v2.pkl\n",
      "../results/full_fine_tuning_5epochs_article1/vit_base_patch16_224.augreg_in21k_ft_in1k_oxford-iiit-pet_TRADES_v2.pkl\n",
      "../results/full_fine_tuning_5epochs_article1/vit_small_patch16_224.augreg_in21k_ft_in1k_oxford-iiit-pet_TRADES_v2.pkl\n",
      "../results/full_fine_tuning_5epochs_article1/eva02_base_patch14_224.mim_in22k_oxford-iiit-pet_TRADES_v2.pkl\n",
      "../results/full_fine_tuning_5epochs_article1/eva02_tiny_patch14_224.mim_in22k_oxford-iiit-pet_TRADES_v2.pkl\n",
      "../results/full_fine_tuning_5epochs_article1/swin_base_patch4_window7_224.ms_in22k_ft_in1k_oxford-iiit-pet_TRADES_v2.pkl\n",
      "../results/full_fine_tuning_5epochs_article1/swin_tiny_patch4_window7_224.ms_in1k_oxford-iiit-pet_TRADES_v2.pkl\n",
      "../results/full_fine_tuning_5epochs_article1/convnext_base.clip_laion2b_augreg_ft_in12k_in1k_oxford-iiit-pet_TRADES_v2.pkl\n",
      "../results/full_fine_tuning_5epochs_article1/convnext_base.fb_in22k_ft_in1k_oxford-iiit-pet_TRADES_v2.pkl\n",
      "../results/full_fine_tuning_5epochs_article1/convnext_tiny.fb_in22k_ft_in1k_oxford-iiit-pet_TRADES_v2.pkl\n",
      "../results/full_fine_tuning_5epochs_article1/coatnet_0_rw_224.sw_in1k_oxford-iiit-pet_TRADES_v2.pkl\n",
      "../results/full_fine_tuning_5epochs_article1/coatnet_2_rw_224.sw_in12k_ft_in1k_oxford-iiit-pet_TRADES_v2.pkl\n",
      "../results/full_fine_tuning_5epochs_article1/coatnet_2_rw_224.sw_in12k_oxford-iiit-pet_TRADES_v2.pkl\n",
      "../results/full_fine_tuning_5epochs_edge_article1/regnetx_004.pycls_in1k_oxford-iiit-pet_TRADES_v2.pkl\n",
      "../results/full_fine_tuning_5epochs_edge_article1/efficientnet-b0_oxford-iiit-pet_TRADES_v2.pkl\n",
      "../results/full_fine_tuning_5epochs_edge_article1/deit_tiny_patch16_224.fb_in1k_oxford-iiit-pet_TRADES_v2.pkl\n",
      "../results/full_fine_tuning_5epochs_edge_article1/mobilevit-small_oxford-iiit-pet_TRADES_v2.pkl\n",
      "../results/full_fine_tuning_5epochs_edge_article1/mobilenetv3_large_100.ra_in1k_oxford-iiit-pet_TRADES_v2.pkl\n",
      "../results/full_fine_tuning_5epochs_edge_article1/edgenext_small.usi_in1k_oxford-iiit-pet_TRADES_v2.pkl\n",
      "../results/full_fine_tuning_5epochs_edge_article1/coat_tiny.in1k_oxford-iiit-pet_TRADES_v2.pkl\n",
      "../results/full_fine_tuning_5epochs_article1/CLIP-convnext_base_w-laion_aesthetic-s13B-b82K_uc-merced-land-use-dataset_CLASSIC_AT.pkl\n",
      "../results/full_fine_tuning_5epochs_article1/CLIP-convnext_base_w-laion2B-s13B-b82K_uc-merced-land-use-dataset_CLASSIC_AT.pkl\n",
      "../results/full_fine_tuning_5epochs_article1/deit_small_patch16_224.fb_in1k_uc-merced-land-use-dataset_CLASSIC_AT.pkl\n",
      "../results/full_fine_tuning_5epochs_article1/robust_resnet50_uc-merced-land-use-dataset_CLASSIC_AT.pkl\n",
      "../results/full_fine_tuning_5epochs_article1/vit_small_patch16_224.augreg_in21k_uc-merced-land-use-dataset_CLASSIC_AT.pkl\n",
      "../results/full_fine_tuning_5epochs_article1/convnext_base.fb_in1k_uc-merced-land-use-dataset_CLASSIC_AT.pkl\n",
      "../results/full_fine_tuning_5epochs_article1/resnet50.a1_in1k_uc-merced-land-use-dataset_CLASSIC_AT.pkl\n",
      "../results/full_fine_tuning_5epochs_article1/robust_vit_base_patch16_224_uc-merced-land-use-dataset_CLASSIC_AT.pkl\n",
      "../results/full_fine_tuning_5epochs_article1/vit_base_patch16_224.mae_uc-merced-land-use-dataset_CLASSIC_AT.pkl\n",
      "../results/full_fine_tuning_5epochs_article1/vit_small_patch16_224.dino_uc-merced-land-use-dataset_CLASSIC_AT.pkl\n",
      "../results/full_fine_tuning_5epochs_article1/convnext_base.fb_in22k_uc-merced-land-use-dataset_CLASSIC_AT.pkl\n",
      "../results/full_fine_tuning_5epochs_article1/robust_convnext_base_uc-merced-land-use-dataset_CLASSIC_AT.pkl\n",
      "../results/full_fine_tuning_5epochs_article1/vit_base_patch16_224.augreg_in1k_uc-merced-land-use-dataset_CLASSIC_AT.pkl\n",
      "../results/full_fine_tuning_5epochs_article1/vit_base_patch16_224.augreg_in21k_uc-merced-land-use-dataset_CLASSIC_AT.pkl\n",
      "../results/full_fine_tuning_5epochs_article1/vit_base_patch16_clip_224.laion2b_uc-merced-land-use-dataset_CLASSIC_AT.pkl\n",
      "../results/full_fine_tuning_5epochs_article1/convnext_tiny.fb_in1k_uc-merced-land-use-dataset_CLASSIC_AT.pkl\n",
      "../results/full_fine_tuning_5epochs_article1/robust_convnext_tiny_uc-merced-land-use-dataset_CLASSIC_AT.pkl\n",
      "../results/full_fine_tuning_5epochs_article1/robust_deit_small_patch16_224_uc-merced-land-use-dataset_CLASSIC_AT.pkl\n",
      "../results/full_fine_tuning_5epochs_article1/vit_small_patch16_224.augreg_in1k_uc-merced-land-use-dataset_CLASSIC_AT.pkl\n",
      "../results/full_fine_tuning_5epochs_article1/convnext_tiny.fb_in22k_uc-merced-land-use-dataset_CLASSIC_AT.pkl\n",
      "../results/full_fine_tuning_5epochs_article1/vit_base_patch16_clip_224.laion2b_ft_in1k_uc-merced-land-use-dataset_CLASSIC_AT.pkl\n",
      "../results/full_fine_tuning_5epochs_article1/vit_base_patch16_224.augreg_in21k_ft_in1k_uc-merced-land-use-dataset_CLASSIC_AT.pkl\n",
      "../results/full_fine_tuning_5epochs_article1/vit_small_patch16_224.augreg_in21k_ft_in1k_uc-merced-land-use-dataset_CLASSIC_AT.pkl\n",
      "../results/full_fine_tuning_5epochs_article1/eva02_base_patch14_224.mim_in22k_uc-merced-land-use-dataset_CLASSIC_AT.pkl\n",
      "../results/full_fine_tuning_5epochs_article1/eva02_tiny_patch14_224.mim_in22k_uc-merced-land-use-dataset_CLASSIC_AT.pkl\n",
      "../results/full_fine_tuning_5epochs_article1/swin_base_patch4_window7_224.ms_in22k_ft_in1k_uc-merced-land-use-dataset_CLASSIC_AT.pkl\n",
      "../results/full_fine_tuning_5epochs_article1/swin_tiny_patch4_window7_224.ms_in1k_uc-merced-land-use-dataset_CLASSIC_AT.pkl\n",
      "../results/full_fine_tuning_5epochs_article1/convnext_base.clip_laion2b_augreg_ft_in12k_in1k_uc-merced-land-use-dataset_CLASSIC_AT.pkl\n",
      "../results/full_fine_tuning_5epochs_article1/convnext_base.fb_in22k_ft_in1k_uc-merced-land-use-dataset_CLASSIC_AT.pkl\n",
      "../results/full_fine_tuning_5epochs_article1/convnext_tiny.fb_in22k_ft_in1k_uc-merced-land-use-dataset_CLASSIC_AT.pkl\n",
      "../results/full_fine_tuning_5epochs_article1/coatnet_0_rw_224.sw_in1k_uc-merced-land-use-dataset_CLASSIC_AT.pkl\n",
      "../results/full_fine_tuning_5epochs_article1/coatnet_2_rw_224.sw_in12k_ft_in1k_uc-merced-land-use-dataset_CLASSIC_AT.pkl\n",
      "../results/full_fine_tuning_5epochs_article1/coatnet_2_rw_224.sw_in12k_uc-merced-land-use-dataset_CLASSIC_AT.pkl\n",
      "../results/full_fine_tuning_5epochs_edge_article1/regnetx_004.pycls_in1k_uc-merced-land-use-dataset_CLASSIC_AT.pkl\n",
      "../results/full_fine_tuning_5epochs_edge_article1/efficientnet-b0_uc-merced-land-use-dataset_CLASSIC_AT.pkl\n",
      "../results/full_fine_tuning_5epochs_edge_article1/deit_tiny_patch16_224.fb_in1k_uc-merced-land-use-dataset_CLASSIC_AT.pkl\n",
      "../results/full_fine_tuning_5epochs_edge_article1/mobilevit-small_uc-merced-land-use-dataset_CLASSIC_AT.pkl\n",
      "../results/full_fine_tuning_5epochs_edge_article1/mobilenetv3_large_100.ra_in1k_uc-merced-land-use-dataset_CLASSIC_AT.pkl\n",
      "../results/full_fine_tuning_5epochs_edge_article1/edgenext_small.usi_in1k_uc-merced-land-use-dataset_CLASSIC_AT.pkl\n",
      "../results/full_fine_tuning_5epochs_edge_article1/coat_tiny.in1k_uc-merced-land-use-dataset_CLASSIC_AT.pkl\n",
      "../results/full_fine_tuning_5epochs_article1/CLIP-convnext_base_w-laion_aesthetic-s13B-b82K_stanford_cars_CLASSIC_AT.pkl\n",
      "../results/full_fine_tuning_5epochs_article1/CLIP-convnext_base_w-laion2B-s13B-b82K_stanford_cars_CLASSIC_AT.pkl\n",
      "../results/full_fine_tuning_5epochs_article1/deit_small_patch16_224.fb_in1k_stanford_cars_CLASSIC_AT.pkl\n",
      "../results/full_fine_tuning_5epochs_article1/robust_resnet50_stanford_cars_CLASSIC_AT.pkl\n",
      "../results/full_fine_tuning_5epochs_article1/vit_small_patch16_224.augreg_in21k_stanford_cars_CLASSIC_AT.pkl\n",
      "../results/full_fine_tuning_5epochs_article1/convnext_base.fb_in1k_stanford_cars_CLASSIC_AT.pkl\n",
      "../results/full_fine_tuning_5epochs_article1/resnet50.a1_in1k_stanford_cars_CLASSIC_AT.pkl\n",
      "../results/full_fine_tuning_5epochs_article1/robust_vit_base_patch16_224_stanford_cars_CLASSIC_AT.pkl\n",
      "../results/full_fine_tuning_5epochs_article1/vit_base_patch16_224.mae_stanford_cars_CLASSIC_AT.pkl\n",
      "../results/full_fine_tuning_5epochs_article1/vit_small_patch16_224.dino_stanford_cars_CLASSIC_AT.pkl\n",
      "../results/full_fine_tuning_5epochs_article1/convnext_base.fb_in22k_stanford_cars_CLASSIC_AT.pkl\n",
      "../results/full_fine_tuning_5epochs_article1/robust_convnext_base_stanford_cars_CLASSIC_AT.pkl\n",
      "../results/full_fine_tuning_5epochs_article1/vit_base_patch16_224.augreg_in1k_stanford_cars_CLASSIC_AT.pkl\n",
      "../results/full_fine_tuning_5epochs_article1/vit_base_patch16_224.augreg_in21k_stanford_cars_CLASSIC_AT.pkl\n",
      "../results/full_fine_tuning_5epochs_article1/vit_base_patch16_clip_224.laion2b_stanford_cars_CLASSIC_AT.pkl\n",
      "../results/full_fine_tuning_5epochs_article1/convnext_tiny.fb_in1k_stanford_cars_CLASSIC_AT.pkl\n",
      "../results/full_fine_tuning_5epochs_article1/robust_convnext_tiny_stanford_cars_CLASSIC_AT.pkl\n",
      "../results/full_fine_tuning_5epochs_article1/robust_deit_small_patch16_224_stanford_cars_CLASSIC_AT.pkl\n",
      "../results/full_fine_tuning_5epochs_article1/vit_small_patch16_224.augreg_in1k_stanford_cars_CLASSIC_AT.pkl\n",
      "../results/full_fine_tuning_5epochs_article1/convnext_tiny.fb_in22k_stanford_cars_CLASSIC_AT.pkl\n",
      "../results/full_fine_tuning_5epochs_article1/vit_base_patch16_clip_224.laion2b_ft_in1k_stanford_cars_CLASSIC_AT.pkl\n",
      "../results/full_fine_tuning_5epochs_article1/vit_base_patch16_224.augreg_in21k_ft_in1k_stanford_cars_CLASSIC_AT.pkl\n",
      "../results/full_fine_tuning_5epochs_article1/vit_small_patch16_224.augreg_in21k_ft_in1k_stanford_cars_CLASSIC_AT.pkl\n",
      "../results/full_fine_tuning_5epochs_article1/eva02_base_patch14_224.mim_in22k_stanford_cars_CLASSIC_AT.pkl\n",
      "../results/full_fine_tuning_5epochs_article1/eva02_tiny_patch14_224.mim_in22k_stanford_cars_CLASSIC_AT.pkl\n",
      "../results/full_fine_tuning_5epochs_article1/swin_base_patch4_window7_224.ms_in22k_ft_in1k_stanford_cars_CLASSIC_AT.pkl\n",
      "../results/full_fine_tuning_5epochs_article1/swin_tiny_patch4_window7_224.ms_in1k_stanford_cars_CLASSIC_AT.pkl\n",
      "../results/full_fine_tuning_5epochs_article1/convnext_base.clip_laion2b_augreg_ft_in12k_in1k_stanford_cars_CLASSIC_AT.pkl\n",
      "../results/full_fine_tuning_5epochs_article1/convnext_base.fb_in22k_ft_in1k_stanford_cars_CLASSIC_AT.pkl\n",
      "../results/full_fine_tuning_5epochs_article1/convnext_tiny.fb_in22k_ft_in1k_stanford_cars_CLASSIC_AT.pkl\n",
      "../results/full_fine_tuning_5epochs_article1/coatnet_0_rw_224.sw_in1k_stanford_cars_CLASSIC_AT.pkl\n",
      "../results/full_fine_tuning_5epochs_article1/coatnet_2_rw_224.sw_in12k_ft_in1k_stanford_cars_CLASSIC_AT.pkl\n",
      "../results/full_fine_tuning_5epochs_article1/coatnet_2_rw_224.sw_in12k_stanford_cars_CLASSIC_AT.pkl\n",
      "../results/full_fine_tuning_5epochs_edge_article1/regnetx_004.pycls_in1k_stanford_cars_CLASSIC_AT.pkl\n",
      "../results/full_fine_tuning_5epochs_edge_article1/efficientnet-b0_stanford_cars_CLASSIC_AT.pkl\n",
      "../results/full_fine_tuning_5epochs_edge_article1/deit_tiny_patch16_224.fb_in1k_stanford_cars_CLASSIC_AT.pkl\n",
      "../results/full_fine_tuning_5epochs_edge_article1/mobilevit-small_stanford_cars_CLASSIC_AT.pkl\n",
      "../results/full_fine_tuning_5epochs_edge_article1/mobilenetv3_large_100.ra_in1k_stanford_cars_CLASSIC_AT.pkl\n",
      "../results/full_fine_tuning_5epochs_edge_article1/edgenext_small.usi_in1k_stanford_cars_CLASSIC_AT.pkl\n",
      "../results/full_fine_tuning_5epochs_edge_article1/coat_tiny.in1k_stanford_cars_CLASSIC_AT.pkl\n",
      "../results/full_fine_tuning_5epochs_article1/CLIP-convnext_base_w-laion_aesthetic-s13B-b82K_caltech101_CLASSIC_AT.pkl\n",
      "../results/full_fine_tuning_5epochs_article1/CLIP-convnext_base_w-laion2B-s13B-b82K_caltech101_CLASSIC_AT.pkl\n",
      "../results/full_fine_tuning_5epochs_article1/deit_small_patch16_224.fb_in1k_caltech101_CLASSIC_AT.pkl\n",
      "../results/full_fine_tuning_5epochs_article1/robust_resnet50_caltech101_CLASSIC_AT.pkl\n",
      "../results/full_fine_tuning_5epochs_article1/vit_small_patch16_224.augreg_in21k_caltech101_CLASSIC_AT.pkl\n",
      "../results/full_fine_tuning_5epochs_article1/convnext_base.fb_in1k_caltech101_CLASSIC_AT.pkl\n",
      "../results/full_fine_tuning_5epochs_article1/resnet50.a1_in1k_caltech101_CLASSIC_AT.pkl\n",
      "../results/full_fine_tuning_5epochs_article1/robust_vit_base_patch16_224_caltech101_CLASSIC_AT.pkl\n",
      "../results/full_fine_tuning_5epochs_article1/vit_base_patch16_224.mae_caltech101_CLASSIC_AT.pkl\n",
      "../results/full_fine_tuning_5epochs_article1/vit_small_patch16_224.dino_caltech101_CLASSIC_AT.pkl\n",
      "../results/full_fine_tuning_5epochs_article1/convnext_base.fb_in22k_caltech101_CLASSIC_AT.pkl\n",
      "../results/full_fine_tuning_5epochs_article1/robust_convnext_base_caltech101_CLASSIC_AT.pkl\n",
      "../results/full_fine_tuning_5epochs_article1/vit_base_patch16_224.augreg_in1k_caltech101_CLASSIC_AT.pkl\n",
      "../results/full_fine_tuning_5epochs_article1/vit_base_patch16_224.augreg_in21k_caltech101_CLASSIC_AT.pkl\n",
      "../results/full_fine_tuning_5epochs_article1/vit_base_patch16_clip_224.laion2b_caltech101_CLASSIC_AT.pkl\n",
      "../results/full_fine_tuning_5epochs_article1/convnext_tiny.fb_in1k_caltech101_CLASSIC_AT.pkl\n",
      "../results/full_fine_tuning_5epochs_article1/robust_convnext_tiny_caltech101_CLASSIC_AT.pkl\n",
      "../results/full_fine_tuning_5epochs_article1/robust_deit_small_patch16_224_caltech101_CLASSIC_AT.pkl\n",
      "../results/full_fine_tuning_5epochs_article1/vit_small_patch16_224.augreg_in1k_caltech101_CLASSIC_AT.pkl\n",
      "../results/full_fine_tuning_5epochs_article1/convnext_tiny.fb_in22k_caltech101_CLASSIC_AT.pkl\n",
      "../results/full_fine_tuning_5epochs_article1/vit_base_patch16_clip_224.laion2b_ft_in1k_caltech101_CLASSIC_AT.pkl\n",
      "../results/full_fine_tuning_5epochs_article1/vit_base_patch16_224.augreg_in21k_ft_in1k_caltech101_CLASSIC_AT.pkl\n",
      "../results/full_fine_tuning_5epochs_article1/vit_small_patch16_224.augreg_in21k_ft_in1k_caltech101_CLASSIC_AT.pkl\n",
      "../results/full_fine_tuning_5epochs_article1/eva02_base_patch14_224.mim_in22k_caltech101_CLASSIC_AT.pkl\n",
      "../results/full_fine_tuning_5epochs_article1/eva02_tiny_patch14_224.mim_in22k_caltech101_CLASSIC_AT.pkl\n",
      "../results/full_fine_tuning_5epochs_article1/swin_base_patch4_window7_224.ms_in22k_ft_in1k_caltech101_CLASSIC_AT.pkl\n",
      "../results/full_fine_tuning_5epochs_article1/swin_tiny_patch4_window7_224.ms_in1k_caltech101_CLASSIC_AT.pkl\n",
      "../results/full_fine_tuning_5epochs_article1/convnext_base.clip_laion2b_augreg_ft_in12k_in1k_caltech101_CLASSIC_AT.pkl\n",
      "../results/full_fine_tuning_5epochs_article1/convnext_base.fb_in22k_ft_in1k_caltech101_CLASSIC_AT.pkl\n",
      "../results/full_fine_tuning_5epochs_article1/convnext_tiny.fb_in22k_ft_in1k_caltech101_CLASSIC_AT.pkl\n",
      "../results/full_fine_tuning_5epochs_article1/coatnet_0_rw_224.sw_in1k_caltech101_CLASSIC_AT.pkl\n",
      "../results/full_fine_tuning_5epochs_article1/coatnet_2_rw_224.sw_in12k_ft_in1k_caltech101_CLASSIC_AT.pkl\n",
      "../results/full_fine_tuning_5epochs_article1/coatnet_2_rw_224.sw_in12k_caltech101_CLASSIC_AT.pkl\n",
      "../results/full_fine_tuning_5epochs_edge_article1/regnetx_004.pycls_in1k_caltech101_CLASSIC_AT.pkl\n",
      "../results/full_fine_tuning_5epochs_edge_article1/efficientnet-b0_caltech101_CLASSIC_AT.pkl\n",
      "../results/full_fine_tuning_5epochs_edge_article1/deit_tiny_patch16_224.fb_in1k_caltech101_CLASSIC_AT.pkl\n",
      "../results/full_fine_tuning_5epochs_edge_article1/mobilevit-small_caltech101_CLASSIC_AT.pkl\n",
      "../results/full_fine_tuning_5epochs_edge_article1/mobilenetv3_large_100.ra_in1k_caltech101_CLASSIC_AT.pkl\n",
      "../results/full_fine_tuning_5epochs_edge_article1/edgenext_small.usi_in1k_caltech101_CLASSIC_AT.pkl\n",
      "../results/full_fine_tuning_5epochs_edge_article1/coat_tiny.in1k_caltech101_CLASSIC_AT.pkl\n",
      "../results/full_fine_tuning_5epochs_article1/CLIP-convnext_base_w-laion_aesthetic-s13B-b82K_fgvc-aircraft-2013b_CLASSIC_AT.pkl\n",
      "../results/full_fine_tuning_5epochs_article1/CLIP-convnext_base_w-laion2B-s13B-b82K_fgvc-aircraft-2013b_CLASSIC_AT.pkl\n",
      "../results/full_fine_tuning_5epochs_article1/deit_small_patch16_224.fb_in1k_fgvc-aircraft-2013b_CLASSIC_AT.pkl\n",
      "../results/full_fine_tuning_5epochs_article1/robust_resnet50_fgvc-aircraft-2013b_CLASSIC_AT.pkl\n",
      "../results/full_fine_tuning_5epochs_article1/vit_small_patch16_224.augreg_in21k_fgvc-aircraft-2013b_CLASSIC_AT.pkl\n",
      "../results/full_fine_tuning_5epochs_article1/convnext_base.fb_in1k_fgvc-aircraft-2013b_CLASSIC_AT.pkl\n",
      "../results/full_fine_tuning_5epochs_article1/resnet50.a1_in1k_fgvc-aircraft-2013b_CLASSIC_AT.pkl\n",
      "../results/full_fine_tuning_5epochs_article1/robust_vit_base_patch16_224_fgvc-aircraft-2013b_CLASSIC_AT.pkl\n",
      "../results/full_fine_tuning_5epochs_article1/vit_base_patch16_224.mae_fgvc-aircraft-2013b_CLASSIC_AT.pkl\n",
      "../results/full_fine_tuning_5epochs_article1/vit_small_patch16_224.dino_fgvc-aircraft-2013b_CLASSIC_AT.pkl\n",
      "../results/full_fine_tuning_5epochs_article1/convnext_base.fb_in22k_fgvc-aircraft-2013b_CLASSIC_AT.pkl\n",
      "../results/full_fine_tuning_5epochs_article1/robust_convnext_base_fgvc-aircraft-2013b_CLASSIC_AT.pkl\n",
      "../results/full_fine_tuning_5epochs_article1/vit_base_patch16_224.augreg_in1k_fgvc-aircraft-2013b_CLASSIC_AT.pkl\n",
      "../results/full_fine_tuning_5epochs_article1/vit_base_patch16_224.augreg_in21k_fgvc-aircraft-2013b_CLASSIC_AT.pkl\n",
      "../results/full_fine_tuning_5epochs_article1/vit_base_patch16_clip_224.laion2b_fgvc-aircraft-2013b_CLASSIC_AT.pkl\n",
      "../results/full_fine_tuning_5epochs_article1/convnext_tiny.fb_in1k_fgvc-aircraft-2013b_CLASSIC_AT.pkl\n",
      "../results/full_fine_tuning_5epochs_article1/robust_convnext_tiny_fgvc-aircraft-2013b_CLASSIC_AT.pkl\n",
      "../results/full_fine_tuning_5epochs_article1/robust_deit_small_patch16_224_fgvc-aircraft-2013b_CLASSIC_AT.pkl\n",
      "../results/full_fine_tuning_5epochs_article1/vit_small_patch16_224.augreg_in1k_fgvc-aircraft-2013b_CLASSIC_AT.pkl\n",
      "../results/full_fine_tuning_5epochs_article1/convnext_tiny.fb_in22k_fgvc-aircraft-2013b_CLASSIC_AT.pkl\n",
      "../results/full_fine_tuning_5epochs_article1/vit_base_patch16_clip_224.laion2b_ft_in1k_fgvc-aircraft-2013b_CLASSIC_AT.pkl\n",
      "../results/full_fine_tuning_5epochs_article1/vit_base_patch16_224.augreg_in21k_ft_in1k_fgvc-aircraft-2013b_CLASSIC_AT.pkl\n",
      "../results/full_fine_tuning_5epochs_article1/vit_small_patch16_224.augreg_in21k_ft_in1k_fgvc-aircraft-2013b_CLASSIC_AT.pkl\n",
      "../results/full_fine_tuning_5epochs_article1/eva02_base_patch14_224.mim_in22k_fgvc-aircraft-2013b_CLASSIC_AT.pkl\n",
      "../results/full_fine_tuning_5epochs_article1/eva02_tiny_patch14_224.mim_in22k_fgvc-aircraft-2013b_CLASSIC_AT.pkl\n",
      "../results/full_fine_tuning_5epochs_article1/swin_base_patch4_window7_224.ms_in22k_ft_in1k_fgvc-aircraft-2013b_CLASSIC_AT.pkl\n",
      "../results/full_fine_tuning_5epochs_article1/swin_tiny_patch4_window7_224.ms_in1k_fgvc-aircraft-2013b_CLASSIC_AT.pkl\n",
      "../results/full_fine_tuning_5epochs_article1/convnext_base.clip_laion2b_augreg_ft_in12k_in1k_fgvc-aircraft-2013b_CLASSIC_AT.pkl\n",
      "../results/full_fine_tuning_5epochs_article1/convnext_base.fb_in22k_ft_in1k_fgvc-aircraft-2013b_CLASSIC_AT.pkl\n",
      "../results/full_fine_tuning_5epochs_article1/convnext_tiny.fb_in22k_ft_in1k_fgvc-aircraft-2013b_CLASSIC_AT.pkl\n",
      "../results/full_fine_tuning_5epochs_article1/coatnet_0_rw_224.sw_in1k_fgvc-aircraft-2013b_CLASSIC_AT.pkl\n",
      "../results/full_fine_tuning_5epochs_article1/coatnet_2_rw_224.sw_in12k_ft_in1k_fgvc-aircraft-2013b_CLASSIC_AT.pkl\n",
      "../results/full_fine_tuning_5epochs_article1/coatnet_2_rw_224.sw_in12k_fgvc-aircraft-2013b_CLASSIC_AT.pkl\n",
      "../results/full_fine_tuning_5epochs_edge_article1/regnetx_004.pycls_in1k_fgvc-aircraft-2013b_CLASSIC_AT.pkl\n",
      "../results/full_fine_tuning_5epochs_edge_article1/efficientnet-b0_fgvc-aircraft-2013b_CLASSIC_AT.pkl\n",
      "../results/full_fine_tuning_5epochs_edge_article1/deit_tiny_patch16_224.fb_in1k_fgvc-aircraft-2013b_CLASSIC_AT.pkl\n",
      "../results/full_fine_tuning_5epochs_edge_article1/mobilevit-small_fgvc-aircraft-2013b_CLASSIC_AT.pkl\n",
      "../results/full_fine_tuning_5epochs_edge_article1/mobilenetv3_large_100.ra_in1k_fgvc-aircraft-2013b_CLASSIC_AT.pkl\n",
      "../results/full_fine_tuning_5epochs_edge_article1/edgenext_small.usi_in1k_fgvc-aircraft-2013b_CLASSIC_AT.pkl\n",
      "../results/full_fine_tuning_5epochs_edge_article1/coat_tiny.in1k_fgvc-aircraft-2013b_CLASSIC_AT.pkl\n",
      "../results/full_fine_tuning_5epochs_article1/CLIP-convnext_base_w-laion_aesthetic-s13B-b82K_flowers-102_CLASSIC_AT.pkl\n",
      "../results/full_fine_tuning_5epochs_article1/CLIP-convnext_base_w-laion2B-s13B-b82K_flowers-102_CLASSIC_AT.pkl\n",
      "../results/full_fine_tuning_5epochs_article1/deit_small_patch16_224.fb_in1k_flowers-102_CLASSIC_AT.pkl\n",
      "../results/full_fine_tuning_5epochs_article1/robust_resnet50_flowers-102_CLASSIC_AT.pkl\n",
      "../results/full_fine_tuning_5epochs_article1/vit_small_patch16_224.augreg_in21k_flowers-102_CLASSIC_AT.pkl\n",
      "../results/full_fine_tuning_5epochs_article1/convnext_base.fb_in1k_flowers-102_CLASSIC_AT.pkl\n",
      "../results/full_fine_tuning_5epochs_article1/resnet50.a1_in1k_flowers-102_CLASSIC_AT.pkl\n",
      "../results/full_fine_tuning_5epochs_article1/robust_vit_base_patch16_224_flowers-102_CLASSIC_AT.pkl\n",
      "../results/full_fine_tuning_5epochs_article1/vit_base_patch16_224.mae_flowers-102_CLASSIC_AT.pkl\n",
      "../results/full_fine_tuning_5epochs_article1/vit_small_patch16_224.dino_flowers-102_CLASSIC_AT.pkl\n",
      "../results/full_fine_tuning_5epochs_article1/convnext_base.fb_in22k_flowers-102_CLASSIC_AT.pkl\n",
      "../results/full_fine_tuning_5epochs_article1/robust_convnext_base_flowers-102_CLASSIC_AT.pkl\n",
      "../results/full_fine_tuning_5epochs_article1/vit_base_patch16_224.augreg_in1k_flowers-102_CLASSIC_AT.pkl\n",
      "../results/full_fine_tuning_5epochs_article1/vit_base_patch16_224.augreg_in21k_flowers-102_CLASSIC_AT.pkl\n",
      "../results/full_fine_tuning_5epochs_article1/vit_base_patch16_clip_224.laion2b_flowers-102_CLASSIC_AT.pkl\n",
      "../results/full_fine_tuning_5epochs_article1/convnext_tiny.fb_in1k_flowers-102_CLASSIC_AT.pkl\n",
      "../results/full_fine_tuning_5epochs_article1/robust_convnext_tiny_flowers-102_CLASSIC_AT.pkl\n",
      "../results/full_fine_tuning_5epochs_article1/robust_deit_small_patch16_224_flowers-102_CLASSIC_AT.pkl\n",
      "../results/full_fine_tuning_5epochs_article1/vit_small_patch16_224.augreg_in1k_flowers-102_CLASSIC_AT.pkl\n",
      "../results/full_fine_tuning_5epochs_article1/convnext_tiny.fb_in22k_flowers-102_CLASSIC_AT.pkl\n",
      "../results/full_fine_tuning_5epochs_article1/vit_base_patch16_clip_224.laion2b_ft_in1k_flowers-102_CLASSIC_AT.pkl\n",
      "../results/full_fine_tuning_5epochs_article1/vit_base_patch16_224.augreg_in21k_ft_in1k_flowers-102_CLASSIC_AT.pkl\n",
      "../results/full_fine_tuning_5epochs_article1/vit_small_patch16_224.augreg_in21k_ft_in1k_flowers-102_CLASSIC_AT.pkl\n",
      "../results/full_fine_tuning_5epochs_article1/eva02_base_patch14_224.mim_in22k_flowers-102_CLASSIC_AT.pkl\n",
      "../results/full_fine_tuning_5epochs_article1/eva02_tiny_patch14_224.mim_in22k_flowers-102_CLASSIC_AT.pkl\n",
      "../results/full_fine_tuning_5epochs_article1/swin_base_patch4_window7_224.ms_in22k_ft_in1k_flowers-102_CLASSIC_AT.pkl\n",
      "../results/full_fine_tuning_5epochs_article1/swin_tiny_patch4_window7_224.ms_in1k_flowers-102_CLASSIC_AT.pkl\n",
      "../results/full_fine_tuning_5epochs_article1/convnext_base.clip_laion2b_augreg_ft_in12k_in1k_flowers-102_CLASSIC_AT.pkl\n",
      "../results/full_fine_tuning_5epochs_article1/convnext_base.fb_in22k_ft_in1k_flowers-102_CLASSIC_AT.pkl\n",
      "../results/full_fine_tuning_5epochs_article1/convnext_tiny.fb_in22k_ft_in1k_flowers-102_CLASSIC_AT.pkl\n",
      "../results/full_fine_tuning_5epochs_article1/coatnet_0_rw_224.sw_in1k_flowers-102_CLASSIC_AT.pkl\n",
      "../results/full_fine_tuning_5epochs_article1/coatnet_2_rw_224.sw_in12k_ft_in1k_flowers-102_CLASSIC_AT.pkl\n",
      "../results/full_fine_tuning_5epochs_article1/coatnet_2_rw_224.sw_in12k_flowers-102_CLASSIC_AT.pkl\n",
      "../results/full_fine_tuning_5epochs_edge_article1/regnetx_004.pycls_in1k_flowers-102_CLASSIC_AT.pkl\n",
      "../results/full_fine_tuning_5epochs_edge_article1/efficientnet-b0_flowers-102_CLASSIC_AT.pkl\n",
      "../results/full_fine_tuning_5epochs_edge_article1/deit_tiny_patch16_224.fb_in1k_flowers-102_CLASSIC_AT.pkl\n",
      "../results/full_fine_tuning_5epochs_edge_article1/mobilevit-small_flowers-102_CLASSIC_AT.pkl\n",
      "../results/full_fine_tuning_5epochs_edge_article1/mobilenetv3_large_100.ra_in1k_flowers-102_CLASSIC_AT.pkl\n",
      "../results/full_fine_tuning_5epochs_edge_article1/edgenext_small.usi_in1k_flowers-102_CLASSIC_AT.pkl\n",
      "../results/full_fine_tuning_5epochs_edge_article1/coat_tiny.in1k_flowers-102_CLASSIC_AT.pkl\n",
      "../results/full_fine_tuning_5epochs_article1/CLIP-convnext_base_w-laion_aesthetic-s13B-b82K_oxford-iiit-pet_CLASSIC_AT.pkl\n",
      "../results/full_fine_tuning_5epochs_article1/CLIP-convnext_base_w-laion2B-s13B-b82K_oxford-iiit-pet_CLASSIC_AT.pkl\n",
      "../results/full_fine_tuning_5epochs_article1/deit_small_patch16_224.fb_in1k_oxford-iiit-pet_CLASSIC_AT.pkl\n",
      "../results/full_fine_tuning_5epochs_article1/robust_resnet50_oxford-iiit-pet_CLASSIC_AT.pkl\n",
      "../results/full_fine_tuning_5epochs_article1/vit_small_patch16_224.augreg_in21k_oxford-iiit-pet_CLASSIC_AT.pkl\n",
      "../results/full_fine_tuning_5epochs_article1/convnext_base.fb_in1k_oxford-iiit-pet_CLASSIC_AT.pkl\n",
      "../results/full_fine_tuning_5epochs_article1/resnet50.a1_in1k_oxford-iiit-pet_CLASSIC_AT.pkl\n",
      "../results/full_fine_tuning_5epochs_article1/robust_vit_base_patch16_224_oxford-iiit-pet_CLASSIC_AT.pkl\n",
      "../results/full_fine_tuning_5epochs_article1/vit_base_patch16_224.mae_oxford-iiit-pet_CLASSIC_AT.pkl\n",
      "../results/full_fine_tuning_5epochs_article1/vit_small_patch16_224.dino_oxford-iiit-pet_CLASSIC_AT.pkl\n",
      "../results/full_fine_tuning_5epochs_article1/convnext_base.fb_in22k_oxford-iiit-pet_CLASSIC_AT.pkl\n",
      "../results/full_fine_tuning_5epochs_article1/robust_convnext_base_oxford-iiit-pet_CLASSIC_AT.pkl\n",
      "../results/full_fine_tuning_5epochs_article1/vit_base_patch16_224.augreg_in1k_oxford-iiit-pet_CLASSIC_AT.pkl\n",
      "../results/full_fine_tuning_5epochs_article1/vit_base_patch16_224.augreg_in21k_oxford-iiit-pet_CLASSIC_AT.pkl\n",
      "../results/full_fine_tuning_5epochs_article1/vit_base_patch16_clip_224.laion2b_oxford-iiit-pet_CLASSIC_AT.pkl\n",
      "../results/full_fine_tuning_5epochs_article1/convnext_tiny.fb_in1k_oxford-iiit-pet_CLASSIC_AT.pkl\n",
      "../results/full_fine_tuning_5epochs_article1/robust_convnext_tiny_oxford-iiit-pet_CLASSIC_AT.pkl\n",
      "../results/full_fine_tuning_5epochs_article1/robust_deit_small_patch16_224_oxford-iiit-pet_CLASSIC_AT.pkl\n",
      "../results/full_fine_tuning_5epochs_article1/vit_small_patch16_224.augreg_in1k_oxford-iiit-pet_CLASSIC_AT.pkl\n",
      "../results/full_fine_tuning_5epochs_article1/convnext_tiny.fb_in22k_oxford-iiit-pet_CLASSIC_AT.pkl\n",
      "../results/full_fine_tuning_5epochs_article1/vit_base_patch16_clip_224.laion2b_ft_in1k_oxford-iiit-pet_CLASSIC_AT.pkl\n",
      "../results/full_fine_tuning_5epochs_article1/vit_base_patch16_224.augreg_in21k_ft_in1k_oxford-iiit-pet_CLASSIC_AT.pkl\n",
      "../results/full_fine_tuning_5epochs_article1/vit_small_patch16_224.augreg_in21k_ft_in1k_oxford-iiit-pet_CLASSIC_AT.pkl\n",
      "../results/full_fine_tuning_5epochs_article1/eva02_base_patch14_224.mim_in22k_oxford-iiit-pet_CLASSIC_AT.pkl\n",
      "../results/full_fine_tuning_5epochs_article1/eva02_tiny_patch14_224.mim_in22k_oxford-iiit-pet_CLASSIC_AT.pkl\n",
      "../results/full_fine_tuning_5epochs_article1/swin_base_patch4_window7_224.ms_in22k_ft_in1k_oxford-iiit-pet_CLASSIC_AT.pkl\n",
      "../results/full_fine_tuning_5epochs_article1/swin_tiny_patch4_window7_224.ms_in1k_oxford-iiit-pet_CLASSIC_AT.pkl\n",
      "../results/full_fine_tuning_5epochs_article1/convnext_base.clip_laion2b_augreg_ft_in12k_in1k_oxford-iiit-pet_CLASSIC_AT.pkl\n",
      "../results/full_fine_tuning_5epochs_article1/convnext_base.fb_in22k_ft_in1k_oxford-iiit-pet_CLASSIC_AT.pkl\n",
      "../results/full_fine_tuning_5epochs_article1/convnext_tiny.fb_in22k_ft_in1k_oxford-iiit-pet_CLASSIC_AT.pkl\n",
      "../results/full_fine_tuning_5epochs_article1/coatnet_0_rw_224.sw_in1k_oxford-iiit-pet_CLASSIC_AT.pkl\n",
      "../results/full_fine_tuning_5epochs_article1/coatnet_2_rw_224.sw_in12k_ft_in1k_oxford-iiit-pet_CLASSIC_AT.pkl\n",
      "../results/full_fine_tuning_5epochs_article1/coatnet_2_rw_224.sw_in12k_oxford-iiit-pet_CLASSIC_AT.pkl\n",
      "../results/full_fine_tuning_5epochs_edge_article1/regnetx_004.pycls_in1k_oxford-iiit-pet_CLASSIC_AT.pkl\n",
      "../results/full_fine_tuning_5epochs_edge_article1/efficientnet-b0_oxford-iiit-pet_CLASSIC_AT.pkl\n",
      "../results/full_fine_tuning_5epochs_edge_article1/deit_tiny_patch16_224.fb_in1k_oxford-iiit-pet_CLASSIC_AT.pkl\n",
      "../results/full_fine_tuning_5epochs_edge_article1/mobilevit-small_oxford-iiit-pet_CLASSIC_AT.pkl\n",
      "../results/full_fine_tuning_5epochs_edge_article1/mobilenetv3_large_100.ra_in1k_oxford-iiit-pet_CLASSIC_AT.pkl\n",
      "../results/full_fine_tuning_5epochs_edge_article1/edgenext_small.usi_in1k_oxford-iiit-pet_CLASSIC_AT.pkl\n",
      "../results/full_fine_tuning_5epochs_edge_article1/coat_tiny.in1k_oxford-iiit-pet_CLASSIC_AT.pkl\n",
      "../results/linearprobe_50epochs_paper_final2/CLIP-convnext_base_w-laion_aesthetic-s13B-b82K_uc-merced-land-use-dataset_TRADES_v2.pkl\n",
      "../results/linearprobe_50epochs_paper_final2/CLIP-convnext_base_w-laion2B-s13B-b82K_uc-merced-land-use-dataset_TRADES_v2.pkl\n",
      "../results/linearprobe_50epochs_paper_final2/deit_small_patch16_224.fb_in1k_uc-merced-land-use-dataset_TRADES_v2.pkl\n",
      "../results/linearprobe_50epochs_paper_final2/robust_resnet50_uc-merced-land-use-dataset_TRADES_v2.pkl\n",
      "../results/linearprobe_50epochs_paper_final2/vit_small_patch16_224.augreg_in21k_uc-merced-land-use-dataset_TRADES_v2.pkl\n",
      "../results/linearprobe_50epochs_paper_final2/convnext_base.fb_in1k_uc-merced-land-use-dataset_TRADES_v2.pkl\n",
      "../results/linearprobe_50epochs_paper_final2/resnet50.a1_in1k_uc-merced-land-use-dataset_TRADES_v2.pkl\n",
      "../results/linearprobe_50epochs_paper_final2/robust_vit_base_patch16_224_uc-merced-land-use-dataset_TRADES_v2.pkl\n",
      "../results/linearprobe_50epochs_paper_final2/vit_base_patch16_224.mae_uc-merced-land-use-dataset_TRADES_v2.pkl\n",
      "../results/linearprobe_50epochs_paper_final2/vit_small_patch16_224.dino_uc-merced-land-use-dataset_TRADES_v2.pkl\n",
      "../results/linearprobe_50epochs_paper_final2/convnext_base.fb_in22k_uc-merced-land-use-dataset_TRADES_v2.pkl\n",
      "../results/linearprobe_50epochs_paper_final2/robust_convnext_base_uc-merced-land-use-dataset_TRADES_v2.pkl\n",
      "../results/linearprobe_50epochs_paper_final2/vit_base_patch16_224.augreg_in1k_uc-merced-land-use-dataset_TRADES_v2.pkl\n",
      "../results/linearprobe_50epochs_paper_final2/vit_base_patch16_224.augreg_in21k_uc-merced-land-use-dataset_TRADES_v2.pkl\n",
      "../results/linearprobe_50epochs_paper_final2/vit_base_patch16_clip_224.laion2b_uc-merced-land-use-dataset_TRADES_v2.pkl\n",
      "../results/linearprobe_50epochs_paper_final2/convnext_tiny.fb_in1k_uc-merced-land-use-dataset_TRADES_v2.pkl\n",
      "../results/linearprobe_50epochs_paper_final2/robust_convnext_tiny_uc-merced-land-use-dataset_TRADES_v2.pkl\n",
      "../results/linearprobe_50epochs_paper_final2/robust_deit_small_patch16_224_uc-merced-land-use-dataset_TRADES_v2.pkl\n",
      "../results/linearprobe_50epochs_paper_final2/vit_small_patch16_224.augreg_in1k_uc-merced-land-use-dataset_TRADES_v2.pkl\n",
      "../results/linearprobe_50epochs_paper_final2/convnext_tiny.fb_in22k_uc-merced-land-use-dataset_TRADES_v2.pkl\n",
      "../results/linearprobe_50epochs_paper_final2/vit_base_patch16_clip_224.laion2b_ft_in1k_uc-merced-land-use-dataset_TRADES_v2.pkl\n",
      "../results/linearprobe_50epochs_paper_final2/vit_base_patch16_224.augreg_in21k_ft_in1k_uc-merced-land-use-dataset_TRADES_v2.pkl\n",
      "../results/linearprobe_50epochs_paper_final2/vit_small_patch16_224.augreg_in21k_ft_in1k_uc-merced-land-use-dataset_TRADES_v2.pkl\n",
      "../results/linearprobe_50epochs_paper_final2/eva02_base_patch14_224.mim_in22k_uc-merced-land-use-dataset_TRADES_v2.pkl\n",
      "../results/linearprobe_50epochs_paper_final2/eva02_tiny_patch14_224.mim_in22k_uc-merced-land-use-dataset_TRADES_v2.pkl\n",
      "../results/linearprobe_50epochs_paper_final2/swin_base_patch4_window7_224.ms_in22k_ft_in1k_uc-merced-land-use-dataset_TRADES_v2.pkl\n",
      "../results/linearprobe_50epochs_paper_final2/swin_tiny_patch4_window7_224.ms_in1k_uc-merced-land-use-dataset_TRADES_v2.pkl\n",
      "../results/linearprobe_50epochs_paper_final2/convnext_base.clip_laion2b_augreg_ft_in12k_in1k_uc-merced-land-use-dataset_TRADES_v2.pkl\n",
      "../results/linearprobe_50epochs_paper_final2/convnext_base.fb_in22k_ft_in1k_uc-merced-land-use-dataset_TRADES_v2.pkl\n",
      "../results/linearprobe_50epochs_paper_final2/convnext_tiny.fb_in22k_ft_in1k_uc-merced-land-use-dataset_TRADES_v2.pkl\n",
      "../results/linearprobe_50epochs_paper_final2/coatnet_0_rw_224.sw_in1k_uc-merced-land-use-dataset_TRADES_v2.pkl\n",
      "../results/linearprobe_50epochs_paper_final2/coatnet_2_rw_224.sw_in12k_ft_in1k_uc-merced-land-use-dataset_TRADES_v2.pkl\n",
      "../results/linearprobe_50epochs_paper_final2/coatnet_2_rw_224.sw_in12k_uc-merced-land-use-dataset_TRADES_v2.pkl\n",
      "../results/linearprobe_50epochs_edge_paper_final2/regnetx_004.pycls_in1k_uc-merced-land-use-dataset_TRADES_v2.pkl\n",
      "../results/linearprobe_50epochs_edge_paper_final2/efficientnet-b0_uc-merced-land-use-dataset_TRADES_v2.pkl\n",
      "../results/linearprobe_50epochs_edge_paper_final2/deit_tiny_patch16_224.fb_in1k_uc-merced-land-use-dataset_TRADES_v2.pkl\n",
      "../results/linearprobe_50epochs_edge_paper_final2/mobilevit-small_uc-merced-land-use-dataset_TRADES_v2.pkl\n",
      "../results/linearprobe_50epochs_edge_paper_final2/mobilenetv3_large_100.ra_in1k_uc-merced-land-use-dataset_TRADES_v2.pkl\n",
      "../results/linearprobe_50epochs_edge_paper_final2/edgenext_small.usi_in1k_uc-merced-land-use-dataset_TRADES_v2.pkl\n",
      "../results/linearprobe_50epochs_edge_paper_final2/coat_tiny.in1k_uc-merced-land-use-dataset_TRADES_v2.pkl\n",
      "../results/linearprobe_50epochs_paper_final2/CLIP-convnext_base_w-laion_aesthetic-s13B-b82K_stanford_cars_TRADES_v2.pkl\n",
      "../results/linearprobe_50epochs_paper_final2/CLIP-convnext_base_w-laion2B-s13B-b82K_stanford_cars_TRADES_v2.pkl\n",
      "../results/linearprobe_50epochs_paper_final2/deit_small_patch16_224.fb_in1k_stanford_cars_TRADES_v2.pkl\n",
      "../results/linearprobe_50epochs_paper_final2/robust_resnet50_stanford_cars_TRADES_v2.pkl\n",
      "../results/linearprobe_50epochs_paper_final2/vit_small_patch16_224.augreg_in21k_stanford_cars_TRADES_v2.pkl\n",
      "../results/linearprobe_50epochs_paper_final2/convnext_base.fb_in1k_stanford_cars_TRADES_v2.pkl\n",
      "../results/linearprobe_50epochs_paper_final2/resnet50.a1_in1k_stanford_cars_TRADES_v2.pkl\n",
      "../results/linearprobe_50epochs_paper_final2/robust_vit_base_patch16_224_stanford_cars_TRADES_v2.pkl\n",
      "../results/linearprobe_50epochs_paper_final2/vit_base_patch16_224.mae_stanford_cars_TRADES_v2.pkl\n",
      "../results/linearprobe_50epochs_paper_final2/vit_small_patch16_224.dino_stanford_cars_TRADES_v2.pkl\n",
      "../results/linearprobe_50epochs_paper_final2/convnext_base.fb_in22k_stanford_cars_TRADES_v2.pkl\n",
      "../results/linearprobe_50epochs_paper_final2/robust_convnext_base_stanford_cars_TRADES_v2.pkl\n",
      "../results/linearprobe_50epochs_paper_final2/vit_base_patch16_224.augreg_in1k_stanford_cars_TRADES_v2.pkl\n",
      "../results/linearprobe_50epochs_paper_final2/vit_base_patch16_224.augreg_in21k_stanford_cars_TRADES_v2.pkl\n",
      "../results/linearprobe_50epochs_paper_final2/vit_base_patch16_clip_224.laion2b_stanford_cars_TRADES_v2.pkl\n",
      "../results/linearprobe_50epochs_paper_final2/convnext_tiny.fb_in1k_stanford_cars_TRADES_v2.pkl\n",
      "../results/linearprobe_50epochs_paper_final2/robust_convnext_tiny_stanford_cars_TRADES_v2.pkl\n",
      "../results/linearprobe_50epochs_paper_final2/robust_deit_small_patch16_224_stanford_cars_TRADES_v2.pkl\n",
      "../results/linearprobe_50epochs_paper_final2/vit_small_patch16_224.augreg_in1k_stanford_cars_TRADES_v2.pkl\n",
      "../results/linearprobe_50epochs_paper_final2/convnext_tiny.fb_in22k_stanford_cars_TRADES_v2.pkl\n",
      "../results/linearprobe_50epochs_paper_final2/vit_base_patch16_clip_224.laion2b_ft_in1k_stanford_cars_TRADES_v2.pkl\n",
      "../results/linearprobe_50epochs_paper_final2/vit_base_patch16_224.augreg_in21k_ft_in1k_stanford_cars_TRADES_v2.pkl\n",
      "../results/linearprobe_50epochs_paper_final2/vit_small_patch16_224.augreg_in21k_ft_in1k_stanford_cars_TRADES_v2.pkl\n",
      "../results/linearprobe_50epochs_paper_final2/eva02_base_patch14_224.mim_in22k_stanford_cars_TRADES_v2.pkl\n",
      "../results/linearprobe_50epochs_paper_final2/eva02_tiny_patch14_224.mim_in22k_stanford_cars_TRADES_v2.pkl\n",
      "../results/linearprobe_50epochs_paper_final2/swin_base_patch4_window7_224.ms_in22k_ft_in1k_stanford_cars_TRADES_v2.pkl\n",
      "../results/linearprobe_50epochs_paper_final2/swin_tiny_patch4_window7_224.ms_in1k_stanford_cars_TRADES_v2.pkl\n",
      "../results/linearprobe_50epochs_paper_final2/convnext_base.clip_laion2b_augreg_ft_in12k_in1k_stanford_cars_TRADES_v2.pkl\n",
      "../results/linearprobe_50epochs_paper_final2/convnext_base.fb_in22k_ft_in1k_stanford_cars_TRADES_v2.pkl\n",
      "../results/linearprobe_50epochs_paper_final2/convnext_tiny.fb_in22k_ft_in1k_stanford_cars_TRADES_v2.pkl\n",
      "../results/linearprobe_50epochs_paper_final2/coatnet_0_rw_224.sw_in1k_stanford_cars_TRADES_v2.pkl\n",
      "../results/linearprobe_50epochs_paper_final2/coatnet_2_rw_224.sw_in12k_ft_in1k_stanford_cars_TRADES_v2.pkl\n",
      "../results/linearprobe_50epochs_paper_final2/coatnet_2_rw_224.sw_in12k_stanford_cars_TRADES_v2.pkl\n",
      "../results/linearprobe_50epochs_edge_paper_final2/regnetx_004.pycls_in1k_stanford_cars_TRADES_v2.pkl\n",
      "../results/linearprobe_50epochs_edge_paper_final2/efficientnet-b0_stanford_cars_TRADES_v2.pkl\n",
      "../results/linearprobe_50epochs_edge_paper_final2/deit_tiny_patch16_224.fb_in1k_stanford_cars_TRADES_v2.pkl\n",
      "../results/linearprobe_50epochs_edge_paper_final2/mobilevit-small_stanford_cars_TRADES_v2.pkl\n",
      "../results/linearprobe_50epochs_edge_paper_final2/mobilenetv3_large_100.ra_in1k_stanford_cars_TRADES_v2.pkl\n",
      "../results/linearprobe_50epochs_edge_paper_final2/edgenext_small.usi_in1k_stanford_cars_TRADES_v2.pkl\n",
      "../results/linearprobe_50epochs_edge_paper_final2/coat_tiny.in1k_stanford_cars_TRADES_v2.pkl\n",
      "../results/linearprobe_50epochs_paper_final2/CLIP-convnext_base_w-laion_aesthetic-s13B-b82K_caltech101_TRADES_v2.pkl\n",
      "../results/linearprobe_50epochs_paper_final2/CLIP-convnext_base_w-laion2B-s13B-b82K_caltech101_TRADES_v2.pkl\n",
      "../results/linearprobe_50epochs_paper_final2/deit_small_patch16_224.fb_in1k_caltech101_TRADES_v2.pkl\n",
      "../results/linearprobe_50epochs_paper_final2/robust_resnet50_caltech101_TRADES_v2.pkl\n",
      "../results/linearprobe_50epochs_paper_final2/vit_small_patch16_224.augreg_in21k_caltech101_TRADES_v2.pkl\n",
      "../results/linearprobe_50epochs_paper_final2/convnext_base.fb_in1k_caltech101_TRADES_v2.pkl\n",
      "../results/linearprobe_50epochs_paper_final2/resnet50.a1_in1k_caltech101_TRADES_v2.pkl\n",
      "../results/linearprobe_50epochs_paper_final2/robust_vit_base_patch16_224_caltech101_TRADES_v2.pkl\n",
      "../results/linearprobe_50epochs_paper_final2/vit_base_patch16_224.mae_caltech101_TRADES_v2.pkl\n",
      "../results/linearprobe_50epochs_paper_final2/vit_small_patch16_224.dino_caltech101_TRADES_v2.pkl\n",
      "../results/linearprobe_50epochs_paper_final2/convnext_base.fb_in22k_caltech101_TRADES_v2.pkl\n",
      "../results/linearprobe_50epochs_paper_final2/robust_convnext_base_caltech101_TRADES_v2.pkl\n",
      "../results/linearprobe_50epochs_paper_final2/vit_base_patch16_224.augreg_in1k_caltech101_TRADES_v2.pkl\n",
      "../results/linearprobe_50epochs_paper_final2/vit_base_patch16_224.augreg_in21k_caltech101_TRADES_v2.pkl\n",
      "../results/linearprobe_50epochs_paper_final2/vit_base_patch16_clip_224.laion2b_caltech101_TRADES_v2.pkl\n",
      "../results/linearprobe_50epochs_paper_final2/convnext_tiny.fb_in1k_caltech101_TRADES_v2.pkl\n",
      "../results/linearprobe_50epochs_paper_final2/robust_convnext_tiny_caltech101_TRADES_v2.pkl\n",
      "../results/linearprobe_50epochs_paper_final2/robust_deit_small_patch16_224_caltech101_TRADES_v2.pkl\n",
      "../results/linearprobe_50epochs_paper_final2/vit_small_patch16_224.augreg_in1k_caltech101_TRADES_v2.pkl\n",
      "../results/linearprobe_50epochs_paper_final2/convnext_tiny.fb_in22k_caltech101_TRADES_v2.pkl\n",
      "../results/linearprobe_50epochs_paper_final2/vit_base_patch16_clip_224.laion2b_ft_in1k_caltech101_TRADES_v2.pkl\n",
      "../results/linearprobe_50epochs_paper_final2/vit_base_patch16_224.augreg_in21k_ft_in1k_caltech101_TRADES_v2.pkl\n",
      "../results/linearprobe_50epochs_paper_final2/vit_small_patch16_224.augreg_in21k_ft_in1k_caltech101_TRADES_v2.pkl\n",
      "../results/linearprobe_50epochs_paper_final2/eva02_base_patch14_224.mim_in22k_caltech101_TRADES_v2.pkl\n",
      "../results/linearprobe_50epochs_paper_final2/eva02_tiny_patch14_224.mim_in22k_caltech101_TRADES_v2.pkl\n",
      "../results/linearprobe_50epochs_paper_final2/swin_base_patch4_window7_224.ms_in22k_ft_in1k_caltech101_TRADES_v2.pkl\n",
      "../results/linearprobe_50epochs_paper_final2/swin_tiny_patch4_window7_224.ms_in1k_caltech101_TRADES_v2.pkl\n",
      "../results/linearprobe_50epochs_paper_final2/convnext_base.clip_laion2b_augreg_ft_in12k_in1k_caltech101_TRADES_v2.pkl\n",
      "../results/linearprobe_50epochs_paper_final2/convnext_base.fb_in22k_ft_in1k_caltech101_TRADES_v2.pkl\n",
      "../results/linearprobe_50epochs_paper_final2/convnext_tiny.fb_in22k_ft_in1k_caltech101_TRADES_v2.pkl\n",
      "../results/linearprobe_50epochs_paper_final2/coatnet_0_rw_224.sw_in1k_caltech101_TRADES_v2.pkl\n",
      "../results/linearprobe_50epochs_paper_final2/coatnet_2_rw_224.sw_in12k_ft_in1k_caltech101_TRADES_v2.pkl\n",
      "../results/linearprobe_50epochs_paper_final2/coatnet_2_rw_224.sw_in12k_caltech101_TRADES_v2.pkl\n",
      "../results/linearprobe_50epochs_edge_paper_final2/regnetx_004.pycls_in1k_caltech101_TRADES_v2.pkl\n",
      "../results/linearprobe_50epochs_edge_paper_final2/efficientnet-b0_caltech101_TRADES_v2.pkl\n",
      "../results/linearprobe_50epochs_edge_paper_final2/deit_tiny_patch16_224.fb_in1k_caltech101_TRADES_v2.pkl\n",
      "../results/linearprobe_50epochs_edge_paper_final2/mobilevit-small_caltech101_TRADES_v2.pkl\n",
      "../results/linearprobe_50epochs_edge_paper_final2/mobilenetv3_large_100.ra_in1k_caltech101_TRADES_v2.pkl\n",
      "../results/linearprobe_50epochs_edge_paper_final2/edgenext_small.usi_in1k_caltech101_TRADES_v2.pkl\n",
      "../results/linearprobe_50epochs_edge_paper_final2/coat_tiny.in1k_caltech101_TRADES_v2.pkl\n",
      "../results/linearprobe_50epochs_paper_final2/CLIP-convnext_base_w-laion_aesthetic-s13B-b82K_fgvc-aircraft-2013b_TRADES_v2.pkl\n",
      "../results/linearprobe_50epochs_paper_final2/CLIP-convnext_base_w-laion2B-s13B-b82K_fgvc-aircraft-2013b_TRADES_v2.pkl\n",
      "../results/linearprobe_50epochs_paper_final2/deit_small_patch16_224.fb_in1k_fgvc-aircraft-2013b_TRADES_v2.pkl\n",
      "../results/linearprobe_50epochs_paper_final2/robust_resnet50_fgvc-aircraft-2013b_TRADES_v2.pkl\n",
      "../results/linearprobe_50epochs_paper_final2/vit_small_patch16_224.augreg_in21k_fgvc-aircraft-2013b_TRADES_v2.pkl\n",
      "../results/linearprobe_50epochs_paper_final2/convnext_base.fb_in1k_fgvc-aircraft-2013b_TRADES_v2.pkl\n",
      "../results/linearprobe_50epochs_paper_final2/resnet50.a1_in1k_fgvc-aircraft-2013b_TRADES_v2.pkl\n",
      "../results/linearprobe_50epochs_paper_final2/robust_vit_base_patch16_224_fgvc-aircraft-2013b_TRADES_v2.pkl\n",
      "../results/linearprobe_50epochs_paper_final2/vit_base_patch16_224.mae_fgvc-aircraft-2013b_TRADES_v2.pkl\n",
      "../results/linearprobe_50epochs_paper_final2/vit_small_patch16_224.dino_fgvc-aircraft-2013b_TRADES_v2.pkl\n",
      "../results/linearprobe_50epochs_paper_final2/convnext_base.fb_in22k_fgvc-aircraft-2013b_TRADES_v2.pkl\n",
      "../results/linearprobe_50epochs_paper_final2/robust_convnext_base_fgvc-aircraft-2013b_TRADES_v2.pkl\n",
      "../results/linearprobe_50epochs_paper_final2/vit_base_patch16_224.augreg_in1k_fgvc-aircraft-2013b_TRADES_v2.pkl\n",
      "../results/linearprobe_50epochs_paper_final2/vit_base_patch16_224.augreg_in21k_fgvc-aircraft-2013b_TRADES_v2.pkl\n",
      "../results/linearprobe_50epochs_paper_final2/vit_base_patch16_clip_224.laion2b_fgvc-aircraft-2013b_TRADES_v2.pkl\n",
      "../results/linearprobe_50epochs_paper_final2/convnext_tiny.fb_in1k_fgvc-aircraft-2013b_TRADES_v2.pkl\n",
      "../results/linearprobe_50epochs_paper_final2/robust_convnext_tiny_fgvc-aircraft-2013b_TRADES_v2.pkl\n",
      "../results/linearprobe_50epochs_paper_final2/robust_deit_small_patch16_224_fgvc-aircraft-2013b_TRADES_v2.pkl\n",
      "../results/linearprobe_50epochs_paper_final2/vit_small_patch16_224.augreg_in1k_fgvc-aircraft-2013b_TRADES_v2.pkl\n",
      "../results/linearprobe_50epochs_paper_final2/convnext_tiny.fb_in22k_fgvc-aircraft-2013b_TRADES_v2.pkl\n",
      "../results/linearprobe_50epochs_paper_final2/vit_base_patch16_clip_224.laion2b_ft_in1k_fgvc-aircraft-2013b_TRADES_v2.pkl\n",
      "../results/linearprobe_50epochs_paper_final2/vit_base_patch16_224.augreg_in21k_ft_in1k_fgvc-aircraft-2013b_TRADES_v2.pkl\n",
      "../results/linearprobe_50epochs_paper_final2/vit_small_patch16_224.augreg_in21k_ft_in1k_fgvc-aircraft-2013b_TRADES_v2.pkl\n",
      "../results/linearprobe_50epochs_paper_final2/eva02_base_patch14_224.mim_in22k_fgvc-aircraft-2013b_TRADES_v2.pkl\n",
      "../results/linearprobe_50epochs_paper_final2/eva02_tiny_patch14_224.mim_in22k_fgvc-aircraft-2013b_TRADES_v2.pkl\n",
      "../results/linearprobe_50epochs_paper_final2/swin_base_patch4_window7_224.ms_in22k_ft_in1k_fgvc-aircraft-2013b_TRADES_v2.pkl\n",
      "../results/linearprobe_50epochs_paper_final2/swin_tiny_patch4_window7_224.ms_in1k_fgvc-aircraft-2013b_TRADES_v2.pkl\n",
      "../results/linearprobe_50epochs_paper_final2/convnext_base.clip_laion2b_augreg_ft_in12k_in1k_fgvc-aircraft-2013b_TRADES_v2.pkl\n",
      "../results/linearprobe_50epochs_paper_final2/convnext_base.fb_in22k_ft_in1k_fgvc-aircraft-2013b_TRADES_v2.pkl\n",
      "../results/linearprobe_50epochs_paper_final2/convnext_tiny.fb_in22k_ft_in1k_fgvc-aircraft-2013b_TRADES_v2.pkl\n",
      "../results/linearprobe_50epochs_paper_final2/coatnet_0_rw_224.sw_in1k_fgvc-aircraft-2013b_TRADES_v2.pkl\n",
      "../results/linearprobe_50epochs_paper_final2/coatnet_2_rw_224.sw_in12k_ft_in1k_fgvc-aircraft-2013b_TRADES_v2.pkl\n",
      "../results/linearprobe_50epochs_paper_final2/coatnet_2_rw_224.sw_in12k_fgvc-aircraft-2013b_TRADES_v2.pkl\n",
      "../results/linearprobe_50epochs_edge_paper_final2/regnetx_004.pycls_in1k_fgvc-aircraft-2013b_TRADES_v2.pkl\n",
      "../results/linearprobe_50epochs_edge_paper_final2/efficientnet-b0_fgvc-aircraft-2013b_TRADES_v2.pkl\n",
      "../results/linearprobe_50epochs_edge_paper_final2/deit_tiny_patch16_224.fb_in1k_fgvc-aircraft-2013b_TRADES_v2.pkl\n",
      "../results/linearprobe_50epochs_edge_paper_final2/mobilevit-small_fgvc-aircraft-2013b_TRADES_v2.pkl\n",
      "../results/linearprobe_50epochs_edge_paper_final2/mobilenetv3_large_100.ra_in1k_fgvc-aircraft-2013b_TRADES_v2.pkl\n",
      "../results/linearprobe_50epochs_edge_paper_final2/edgenext_small.usi_in1k_fgvc-aircraft-2013b_TRADES_v2.pkl\n",
      "../results/linearprobe_50epochs_edge_paper_final2/coat_tiny.in1k_fgvc-aircraft-2013b_TRADES_v2.pkl\n",
      "../results/linearprobe_50epochs_paper_final2/CLIP-convnext_base_w-laion_aesthetic-s13B-b82K_flowers-102_TRADES_v2.pkl\n",
      "../results/linearprobe_50epochs_paper_final2/CLIP-convnext_base_w-laion2B-s13B-b82K_flowers-102_TRADES_v2.pkl\n",
      "../results/linearprobe_50epochs_paper_final2/deit_small_patch16_224.fb_in1k_flowers-102_TRADES_v2.pkl\n",
      "../results/linearprobe_50epochs_paper_final2/robust_resnet50_flowers-102_TRADES_v2.pkl\n",
      "../results/linearprobe_50epochs_paper_final2/vit_small_patch16_224.augreg_in21k_flowers-102_TRADES_v2.pkl\n",
      "../results/linearprobe_50epochs_paper_final2/convnext_base.fb_in1k_flowers-102_TRADES_v2.pkl\n",
      "../results/linearprobe_50epochs_paper_final2/resnet50.a1_in1k_flowers-102_TRADES_v2.pkl\n",
      "../results/linearprobe_50epochs_paper_final2/robust_vit_base_patch16_224_flowers-102_TRADES_v2.pkl\n",
      "../results/linearprobe_50epochs_paper_final2/vit_base_patch16_224.mae_flowers-102_TRADES_v2.pkl\n",
      "../results/linearprobe_50epochs_paper_final2/vit_small_patch16_224.dino_flowers-102_TRADES_v2.pkl\n",
      "../results/linearprobe_50epochs_paper_final2/convnext_base.fb_in22k_flowers-102_TRADES_v2.pkl\n",
      "../results/linearprobe_50epochs_paper_final2/robust_convnext_base_flowers-102_TRADES_v2.pkl\n",
      "../results/linearprobe_50epochs_paper_final2/vit_base_patch16_224.augreg_in1k_flowers-102_TRADES_v2.pkl\n",
      "../results/linearprobe_50epochs_paper_final2/vit_base_patch16_224.augreg_in21k_flowers-102_TRADES_v2.pkl\n",
      "../results/linearprobe_50epochs_paper_final2/vit_base_patch16_clip_224.laion2b_flowers-102_TRADES_v2.pkl\n",
      "../results/linearprobe_50epochs_paper_final2/convnext_tiny.fb_in1k_flowers-102_TRADES_v2.pkl\n",
      "../results/linearprobe_50epochs_paper_final2/robust_convnext_tiny_flowers-102_TRADES_v2.pkl\n",
      "../results/linearprobe_50epochs_paper_final2/robust_deit_small_patch16_224_flowers-102_TRADES_v2.pkl\n",
      "../results/linearprobe_50epochs_paper_final2/vit_small_patch16_224.augreg_in1k_flowers-102_TRADES_v2.pkl\n",
      "../results/linearprobe_50epochs_paper_final2/convnext_tiny.fb_in22k_flowers-102_TRADES_v2.pkl\n",
      "../results/linearprobe_50epochs_paper_final2/vit_base_patch16_clip_224.laion2b_ft_in1k_flowers-102_TRADES_v2.pkl\n",
      "../results/linearprobe_50epochs_paper_final2/vit_base_patch16_224.augreg_in21k_ft_in1k_flowers-102_TRADES_v2.pkl\n",
      "../results/linearprobe_50epochs_paper_final2/vit_small_patch16_224.augreg_in21k_ft_in1k_flowers-102_TRADES_v2.pkl\n",
      "../results/linearprobe_50epochs_paper_final2/eva02_base_patch14_224.mim_in22k_flowers-102_TRADES_v2.pkl\n",
      "../results/linearprobe_50epochs_paper_final2/eva02_tiny_patch14_224.mim_in22k_flowers-102_TRADES_v2.pkl\n",
      "../results/linearprobe_50epochs_paper_final2/swin_base_patch4_window7_224.ms_in22k_ft_in1k_flowers-102_TRADES_v2.pkl\n",
      "../results/linearprobe_50epochs_paper_final2/swin_tiny_patch4_window7_224.ms_in1k_flowers-102_TRADES_v2.pkl\n",
      "../results/linearprobe_50epochs_paper_final2/convnext_base.clip_laion2b_augreg_ft_in12k_in1k_flowers-102_TRADES_v2.pkl\n",
      "../results/linearprobe_50epochs_paper_final2/convnext_base.fb_in22k_ft_in1k_flowers-102_TRADES_v2.pkl\n",
      "../results/linearprobe_50epochs_paper_final2/convnext_tiny.fb_in22k_ft_in1k_flowers-102_TRADES_v2.pkl\n",
      "../results/linearprobe_50epochs_paper_final2/coatnet_0_rw_224.sw_in1k_flowers-102_TRADES_v2.pkl\n",
      "../results/linearprobe_50epochs_paper_final2/coatnet_2_rw_224.sw_in12k_ft_in1k_flowers-102_TRADES_v2.pkl\n",
      "../results/linearprobe_50epochs_paper_final2/coatnet_2_rw_224.sw_in12k_flowers-102_TRADES_v2.pkl\n",
      "../results/linearprobe_50epochs_edge_paper_final2/regnetx_004.pycls_in1k_flowers-102_TRADES_v2.pkl\n",
      "../results/linearprobe_50epochs_edge_paper_final2/efficientnet-b0_flowers-102_TRADES_v2.pkl\n",
      "../results/linearprobe_50epochs_edge_paper_final2/deit_tiny_patch16_224.fb_in1k_flowers-102_TRADES_v2.pkl\n",
      "../results/linearprobe_50epochs_edge_paper_final2/mobilevit-small_flowers-102_TRADES_v2.pkl\n",
      "../results/linearprobe_50epochs_edge_paper_final2/mobilenetv3_large_100.ra_in1k_flowers-102_TRADES_v2.pkl\n",
      "../results/linearprobe_50epochs_edge_paper_final2/edgenext_small.usi_in1k_flowers-102_TRADES_v2.pkl\n",
      "../results/linearprobe_50epochs_edge_paper_final2/coat_tiny.in1k_flowers-102_TRADES_v2.pkl\n",
      "../results/linearprobe_50epochs_paper_final2/CLIP-convnext_base_w-laion_aesthetic-s13B-b82K_oxford-iiit-pet_TRADES_v2.pkl\n",
      "../results/linearprobe_50epochs_paper_final2/CLIP-convnext_base_w-laion2B-s13B-b82K_oxford-iiit-pet_TRADES_v2.pkl\n",
      "../results/linearprobe_50epochs_paper_final2/deit_small_patch16_224.fb_in1k_oxford-iiit-pet_TRADES_v2.pkl\n",
      "../results/linearprobe_50epochs_paper_final2/robust_resnet50_oxford-iiit-pet_TRADES_v2.pkl\n",
      "../results/linearprobe_50epochs_paper_final2/vit_small_patch16_224.augreg_in21k_oxford-iiit-pet_TRADES_v2.pkl\n",
      "../results/linearprobe_50epochs_paper_final2/convnext_base.fb_in1k_oxford-iiit-pet_TRADES_v2.pkl\n",
      "../results/linearprobe_50epochs_paper_final2/resnet50.a1_in1k_oxford-iiit-pet_TRADES_v2.pkl\n",
      "../results/linearprobe_50epochs_paper_final2/robust_vit_base_patch16_224_oxford-iiit-pet_TRADES_v2.pkl\n",
      "../results/linearprobe_50epochs_paper_final2/vit_base_patch16_224.mae_oxford-iiit-pet_TRADES_v2.pkl\n",
      "../results/linearprobe_50epochs_paper_final2/vit_small_patch16_224.dino_oxford-iiit-pet_TRADES_v2.pkl\n",
      "../results/linearprobe_50epochs_paper_final2/convnext_base.fb_in22k_oxford-iiit-pet_TRADES_v2.pkl\n",
      "../results/linearprobe_50epochs_paper_final2/robust_convnext_base_oxford-iiit-pet_TRADES_v2.pkl\n",
      "../results/linearprobe_50epochs_paper_final2/vit_base_patch16_224.augreg_in1k_oxford-iiit-pet_TRADES_v2.pkl\n",
      "../results/linearprobe_50epochs_paper_final2/vit_base_patch16_224.augreg_in21k_oxford-iiit-pet_TRADES_v2.pkl\n",
      "../results/linearprobe_50epochs_paper_final2/vit_base_patch16_clip_224.laion2b_oxford-iiit-pet_TRADES_v2.pkl\n",
      "../results/linearprobe_50epochs_paper_final2/convnext_tiny.fb_in1k_oxford-iiit-pet_TRADES_v2.pkl\n",
      "../results/linearprobe_50epochs_paper_final2/robust_convnext_tiny_oxford-iiit-pet_TRADES_v2.pkl\n",
      "../results/linearprobe_50epochs_paper_final2/robust_deit_small_patch16_224_oxford-iiit-pet_TRADES_v2.pkl\n",
      "../results/linearprobe_50epochs_paper_final2/vit_small_patch16_224.augreg_in1k_oxford-iiit-pet_TRADES_v2.pkl\n",
      "../results/linearprobe_50epochs_paper_final2/convnext_tiny.fb_in22k_oxford-iiit-pet_TRADES_v2.pkl\n",
      "../results/linearprobe_50epochs_paper_final2/vit_base_patch16_clip_224.laion2b_ft_in1k_oxford-iiit-pet_TRADES_v2.pkl\n",
      "../results/linearprobe_50epochs_paper_final2/vit_base_patch16_224.augreg_in21k_ft_in1k_oxford-iiit-pet_TRADES_v2.pkl\n",
      "../results/linearprobe_50epochs_paper_final2/vit_small_patch16_224.augreg_in21k_ft_in1k_oxford-iiit-pet_TRADES_v2.pkl\n",
      "../results/linearprobe_50epochs_paper_final2/eva02_base_patch14_224.mim_in22k_oxford-iiit-pet_TRADES_v2.pkl\n",
      "../results/linearprobe_50epochs_paper_final2/eva02_tiny_patch14_224.mim_in22k_oxford-iiit-pet_TRADES_v2.pkl\n",
      "../results/linearprobe_50epochs_paper_final2/swin_base_patch4_window7_224.ms_in22k_ft_in1k_oxford-iiit-pet_TRADES_v2.pkl\n",
      "../results/linearprobe_50epochs_paper_final2/swin_tiny_patch4_window7_224.ms_in1k_oxford-iiit-pet_TRADES_v2.pkl\n",
      "../results/linearprobe_50epochs_paper_final2/convnext_base.clip_laion2b_augreg_ft_in12k_in1k_oxford-iiit-pet_TRADES_v2.pkl\n",
      "../results/linearprobe_50epochs_paper_final2/convnext_base.fb_in22k_ft_in1k_oxford-iiit-pet_TRADES_v2.pkl\n",
      "../results/linearprobe_50epochs_paper_final2/convnext_tiny.fb_in22k_ft_in1k_oxford-iiit-pet_TRADES_v2.pkl\n",
      "../results/linearprobe_50epochs_paper_final2/coatnet_0_rw_224.sw_in1k_oxford-iiit-pet_TRADES_v2.pkl\n",
      "../results/linearprobe_50epochs_paper_final2/coatnet_2_rw_224.sw_in12k_ft_in1k_oxford-iiit-pet_TRADES_v2.pkl\n",
      "../results/linearprobe_50epochs_paper_final2/coatnet_2_rw_224.sw_in12k_oxford-iiit-pet_TRADES_v2.pkl\n",
      "../results/linearprobe_50epochs_edge_paper_final2/regnetx_004.pycls_in1k_oxford-iiit-pet_TRADES_v2.pkl\n",
      "../results/linearprobe_50epochs_edge_paper_final2/efficientnet-b0_oxford-iiit-pet_TRADES_v2.pkl\n",
      "../results/linearprobe_50epochs_edge_paper_final2/deit_tiny_patch16_224.fb_in1k_oxford-iiit-pet_TRADES_v2.pkl\n",
      "../results/linearprobe_50epochs_edge_paper_final2/mobilevit-small_oxford-iiit-pet_TRADES_v2.pkl\n",
      "../results/linearprobe_50epochs_edge_paper_final2/mobilenetv3_large_100.ra_in1k_oxford-iiit-pet_TRADES_v2.pkl\n",
      "../results/linearprobe_50epochs_edge_paper_final2/edgenext_small.usi_in1k_oxford-iiit-pet_TRADES_v2.pkl\n",
      "../results/linearprobe_50epochs_edge_paper_final2/coat_tiny.in1k_oxford-iiit-pet_TRADES_v2.pkl\n",
      "../results/linearprobe_50epochs_paper_final2/CLIP-convnext_base_w-laion_aesthetic-s13B-b82K_uc-merced-land-use-dataset_CLASSIC_AT.pkl\n",
      "../results/linearprobe_50epochs_paper_final2/CLIP-convnext_base_w-laion2B-s13B-b82K_uc-merced-land-use-dataset_CLASSIC_AT.pkl\n",
      "../results/linearprobe_50epochs_paper_final2/deit_small_patch16_224.fb_in1k_uc-merced-land-use-dataset_CLASSIC_AT.pkl\n",
      "../results/linearprobe_50epochs_paper_final2/robust_resnet50_uc-merced-land-use-dataset_CLASSIC_AT.pkl\n",
      "../results/linearprobe_50epochs_paper_final2/vit_small_patch16_224.augreg_in21k_uc-merced-land-use-dataset_CLASSIC_AT.pkl\n",
      "../results/linearprobe_50epochs_paper_final2/convnext_base.fb_in1k_uc-merced-land-use-dataset_CLASSIC_AT.pkl\n",
      "../results/linearprobe_50epochs_paper_final2/resnet50.a1_in1k_uc-merced-land-use-dataset_CLASSIC_AT.pkl\n",
      "../results/linearprobe_50epochs_paper_final2/robust_vit_base_patch16_224_uc-merced-land-use-dataset_CLASSIC_AT.pkl\n",
      "../results/linearprobe_50epochs_paper_final2/vit_base_patch16_224.mae_uc-merced-land-use-dataset_CLASSIC_AT.pkl\n",
      "../results/linearprobe_50epochs_paper_final2/vit_small_patch16_224.dino_uc-merced-land-use-dataset_CLASSIC_AT.pkl\n",
      "../results/linearprobe_50epochs_paper_final2/convnext_base.fb_in22k_uc-merced-land-use-dataset_CLASSIC_AT.pkl\n",
      "../results/linearprobe_50epochs_paper_final2/robust_convnext_base_uc-merced-land-use-dataset_CLASSIC_AT.pkl\n",
      "../results/linearprobe_50epochs_paper_final2/vit_base_patch16_224.augreg_in1k_uc-merced-land-use-dataset_CLASSIC_AT.pkl\n",
      "../results/linearprobe_50epochs_paper_final2/vit_base_patch16_224.augreg_in21k_uc-merced-land-use-dataset_CLASSIC_AT.pkl\n",
      "../results/linearprobe_50epochs_paper_final2/vit_base_patch16_clip_224.laion2b_uc-merced-land-use-dataset_CLASSIC_AT.pkl\n",
      "../results/linearprobe_50epochs_paper_final2/convnext_tiny.fb_in1k_uc-merced-land-use-dataset_CLASSIC_AT.pkl\n",
      "../results/linearprobe_50epochs_paper_final2/robust_convnext_tiny_uc-merced-land-use-dataset_CLASSIC_AT.pkl\n",
      "../results/linearprobe_50epochs_paper_final2/robust_deit_small_patch16_224_uc-merced-land-use-dataset_CLASSIC_AT.pkl\n",
      "../results/linearprobe_50epochs_paper_final2/vit_small_patch16_224.augreg_in1k_uc-merced-land-use-dataset_CLASSIC_AT.pkl\n",
      "../results/linearprobe_50epochs_paper_final2/convnext_tiny.fb_in22k_uc-merced-land-use-dataset_CLASSIC_AT.pkl\n",
      "../results/linearprobe_50epochs_paper_final2/vit_base_patch16_clip_224.laion2b_ft_in1k_uc-merced-land-use-dataset_CLASSIC_AT.pkl\n",
      "../results/linearprobe_50epochs_paper_final2/vit_base_patch16_224.augreg_in21k_ft_in1k_uc-merced-land-use-dataset_CLASSIC_AT.pkl\n",
      "../results/linearprobe_50epochs_paper_final2/vit_small_patch16_224.augreg_in21k_ft_in1k_uc-merced-land-use-dataset_CLASSIC_AT.pkl\n",
      "../results/linearprobe_50epochs_paper_final2/eva02_base_patch14_224.mim_in22k_uc-merced-land-use-dataset_CLASSIC_AT.pkl\n",
      "../results/linearprobe_50epochs_paper_final2/eva02_tiny_patch14_224.mim_in22k_uc-merced-land-use-dataset_CLASSIC_AT.pkl\n",
      "../results/linearprobe_50epochs_paper_final2/swin_base_patch4_window7_224.ms_in22k_ft_in1k_uc-merced-land-use-dataset_CLASSIC_AT.pkl\n",
      "../results/linearprobe_50epochs_paper_final2/swin_tiny_patch4_window7_224.ms_in1k_uc-merced-land-use-dataset_CLASSIC_AT.pkl\n",
      "../results/linearprobe_50epochs_paper_final2/convnext_base.clip_laion2b_augreg_ft_in12k_in1k_uc-merced-land-use-dataset_CLASSIC_AT.pkl\n",
      "../results/linearprobe_50epochs_paper_final2/convnext_base.fb_in22k_ft_in1k_uc-merced-land-use-dataset_CLASSIC_AT.pkl\n",
      "../results/linearprobe_50epochs_paper_final2/convnext_tiny.fb_in22k_ft_in1k_uc-merced-land-use-dataset_CLASSIC_AT.pkl\n",
      "../results/linearprobe_50epochs_paper_final2/coatnet_0_rw_224.sw_in1k_uc-merced-land-use-dataset_CLASSIC_AT.pkl\n",
      "../results/linearprobe_50epochs_paper_final2/coatnet_2_rw_224.sw_in12k_ft_in1k_uc-merced-land-use-dataset_CLASSIC_AT.pkl\n",
      "../results/linearprobe_50epochs_paper_final2/coatnet_2_rw_224.sw_in12k_uc-merced-land-use-dataset_CLASSIC_AT.pkl\n",
      "../results/linearprobe_50epochs_edge_paper_final2/regnetx_004.pycls_in1k_uc-merced-land-use-dataset_CLASSIC_AT.pkl\n",
      "../results/linearprobe_50epochs_edge_paper_final2/efficientnet-b0_uc-merced-land-use-dataset_CLASSIC_AT.pkl\n",
      "../results/linearprobe_50epochs_edge_paper_final2/deit_tiny_patch16_224.fb_in1k_uc-merced-land-use-dataset_CLASSIC_AT.pkl\n",
      "../results/linearprobe_50epochs_edge_paper_final2/mobilevit-small_uc-merced-land-use-dataset_CLASSIC_AT.pkl\n",
      "../results/linearprobe_50epochs_edge_paper_final2/mobilenetv3_large_100.ra_in1k_uc-merced-land-use-dataset_CLASSIC_AT.pkl\n",
      "../results/linearprobe_50epochs_edge_paper_final2/edgenext_small.usi_in1k_uc-merced-land-use-dataset_CLASSIC_AT.pkl\n",
      "../results/linearprobe_50epochs_edge_paper_final2/coat_tiny.in1k_uc-merced-land-use-dataset_CLASSIC_AT.pkl\n",
      "../results/linearprobe_50epochs_paper_final2/CLIP-convnext_base_w-laion_aesthetic-s13B-b82K_stanford_cars_CLASSIC_AT.pkl\n",
      "../results/linearprobe_50epochs_paper_final2/CLIP-convnext_base_w-laion2B-s13B-b82K_stanford_cars_CLASSIC_AT.pkl\n",
      "../results/linearprobe_50epochs_paper_final2/deit_small_patch16_224.fb_in1k_stanford_cars_CLASSIC_AT.pkl\n",
      "../results/linearprobe_50epochs_paper_final2/robust_resnet50_stanford_cars_CLASSIC_AT.pkl\n",
      "../results/linearprobe_50epochs_paper_final2/vit_small_patch16_224.augreg_in21k_stanford_cars_CLASSIC_AT.pkl\n",
      "../results/linearprobe_50epochs_paper_final2/convnext_base.fb_in1k_stanford_cars_CLASSIC_AT.pkl\n",
      "../results/linearprobe_50epochs_paper_final2/resnet50.a1_in1k_stanford_cars_CLASSIC_AT.pkl\n",
      "../results/linearprobe_50epochs_paper_final2/robust_vit_base_patch16_224_stanford_cars_CLASSIC_AT.pkl\n",
      "../results/linearprobe_50epochs_paper_final2/vit_base_patch16_224.mae_stanford_cars_CLASSIC_AT.pkl\n",
      "../results/linearprobe_50epochs_paper_final2/vit_small_patch16_224.dino_stanford_cars_CLASSIC_AT.pkl\n",
      "../results/linearprobe_50epochs_paper_final2/convnext_base.fb_in22k_stanford_cars_CLASSIC_AT.pkl\n",
      "../results/linearprobe_50epochs_paper_final2/robust_convnext_base_stanford_cars_CLASSIC_AT.pkl\n",
      "../results/linearprobe_50epochs_paper_final2/vit_base_patch16_224.augreg_in1k_stanford_cars_CLASSIC_AT.pkl\n",
      "../results/linearprobe_50epochs_paper_final2/vit_base_patch16_224.augreg_in21k_stanford_cars_CLASSIC_AT.pkl\n",
      "../results/linearprobe_50epochs_paper_final2/vit_base_patch16_clip_224.laion2b_stanford_cars_CLASSIC_AT.pkl\n",
      "../results/linearprobe_50epochs_paper_final2/convnext_tiny.fb_in1k_stanford_cars_CLASSIC_AT.pkl\n",
      "../results/linearprobe_50epochs_paper_final2/robust_convnext_tiny_stanford_cars_CLASSIC_AT.pkl\n",
      "../results/linearprobe_50epochs_paper_final2/robust_deit_small_patch16_224_stanford_cars_CLASSIC_AT.pkl\n",
      "../results/linearprobe_50epochs_paper_final2/vit_small_patch16_224.augreg_in1k_stanford_cars_CLASSIC_AT.pkl\n",
      "../results/linearprobe_50epochs_paper_final2/convnext_tiny.fb_in22k_stanford_cars_CLASSIC_AT.pkl\n",
      "../results/linearprobe_50epochs_paper_final2/vit_base_patch16_clip_224.laion2b_ft_in1k_stanford_cars_CLASSIC_AT.pkl\n",
      "../results/linearprobe_50epochs_paper_final2/vit_base_patch16_224.augreg_in21k_ft_in1k_stanford_cars_CLASSIC_AT.pkl\n",
      "../results/linearprobe_50epochs_paper_final2/vit_small_patch16_224.augreg_in21k_ft_in1k_stanford_cars_CLASSIC_AT.pkl\n",
      "../results/linearprobe_50epochs_paper_final2/eva02_base_patch14_224.mim_in22k_stanford_cars_CLASSIC_AT.pkl\n",
      "../results/linearprobe_50epochs_paper_final2/eva02_tiny_patch14_224.mim_in22k_stanford_cars_CLASSIC_AT.pkl\n",
      "../results/linearprobe_50epochs_paper_final2/swin_base_patch4_window7_224.ms_in22k_ft_in1k_stanford_cars_CLASSIC_AT.pkl\n",
      "../results/linearprobe_50epochs_paper_final2/swin_tiny_patch4_window7_224.ms_in1k_stanford_cars_CLASSIC_AT.pkl\n",
      "../results/linearprobe_50epochs_paper_final2/convnext_base.clip_laion2b_augreg_ft_in12k_in1k_stanford_cars_CLASSIC_AT.pkl\n",
      "../results/linearprobe_50epochs_paper_final2/convnext_base.fb_in22k_ft_in1k_stanford_cars_CLASSIC_AT.pkl\n",
      "../results/linearprobe_50epochs_paper_final2/convnext_tiny.fb_in22k_ft_in1k_stanford_cars_CLASSIC_AT.pkl\n",
      "../results/linearprobe_50epochs_paper_final2/coatnet_0_rw_224.sw_in1k_stanford_cars_CLASSIC_AT.pkl\n",
      "../results/linearprobe_50epochs_paper_final2/coatnet_2_rw_224.sw_in12k_ft_in1k_stanford_cars_CLASSIC_AT.pkl\n",
      "../results/linearprobe_50epochs_paper_final2/coatnet_2_rw_224.sw_in12k_stanford_cars_CLASSIC_AT.pkl\n",
      "../results/linearprobe_50epochs_edge_paper_final2/regnetx_004.pycls_in1k_stanford_cars_CLASSIC_AT.pkl\n",
      "../results/linearprobe_50epochs_edge_paper_final2/efficientnet-b0_stanford_cars_CLASSIC_AT.pkl\n",
      "../results/linearprobe_50epochs_edge_paper_final2/deit_tiny_patch16_224.fb_in1k_stanford_cars_CLASSIC_AT.pkl\n",
      "../results/linearprobe_50epochs_edge_paper_final2/mobilevit-small_stanford_cars_CLASSIC_AT.pkl\n",
      "../results/linearprobe_50epochs_edge_paper_final2/mobilenetv3_large_100.ra_in1k_stanford_cars_CLASSIC_AT.pkl\n",
      "../results/linearprobe_50epochs_edge_paper_final2/edgenext_small.usi_in1k_stanford_cars_CLASSIC_AT.pkl\n",
      "../results/linearprobe_50epochs_edge_paper_final2/coat_tiny.in1k_stanford_cars_CLASSIC_AT.pkl\n",
      "../results/linearprobe_50epochs_paper_final2/CLIP-convnext_base_w-laion_aesthetic-s13B-b82K_caltech101_CLASSIC_AT.pkl\n",
      "../results/linearprobe_50epochs_paper_final2/CLIP-convnext_base_w-laion2B-s13B-b82K_caltech101_CLASSIC_AT.pkl\n",
      "../results/linearprobe_50epochs_paper_final2/deit_small_patch16_224.fb_in1k_caltech101_CLASSIC_AT.pkl\n",
      "../results/linearprobe_50epochs_paper_final2/robust_resnet50_caltech101_CLASSIC_AT.pkl\n",
      "../results/linearprobe_50epochs_paper_final2/vit_small_patch16_224.augreg_in21k_caltech101_CLASSIC_AT.pkl\n",
      "../results/linearprobe_50epochs_paper_final2/convnext_base.fb_in1k_caltech101_CLASSIC_AT.pkl\n",
      "../results/linearprobe_50epochs_paper_final2/resnet50.a1_in1k_caltech101_CLASSIC_AT.pkl\n",
      "../results/linearprobe_50epochs_paper_final2/robust_vit_base_patch16_224_caltech101_CLASSIC_AT.pkl\n",
      "../results/linearprobe_50epochs_paper_final2/vit_base_patch16_224.mae_caltech101_CLASSIC_AT.pkl\n",
      "../results/linearprobe_50epochs_paper_final2/vit_small_patch16_224.dino_caltech101_CLASSIC_AT.pkl\n",
      "../results/linearprobe_50epochs_paper_final2/convnext_base.fb_in22k_caltech101_CLASSIC_AT.pkl\n",
      "../results/linearprobe_50epochs_paper_final2/robust_convnext_base_caltech101_CLASSIC_AT.pkl\n",
      "../results/linearprobe_50epochs_paper_final2/vit_base_patch16_224.augreg_in1k_caltech101_CLASSIC_AT.pkl\n",
      "../results/linearprobe_50epochs_paper_final2/vit_base_patch16_224.augreg_in21k_caltech101_CLASSIC_AT.pkl\n",
      "../results/linearprobe_50epochs_paper_final2/vit_base_patch16_clip_224.laion2b_caltech101_CLASSIC_AT.pkl\n",
      "../results/linearprobe_50epochs_paper_final2/convnext_tiny.fb_in1k_caltech101_CLASSIC_AT.pkl\n",
      "../results/linearprobe_50epochs_paper_final2/robust_convnext_tiny_caltech101_CLASSIC_AT.pkl\n",
      "../results/linearprobe_50epochs_paper_final2/robust_deit_small_patch16_224_caltech101_CLASSIC_AT.pkl\n",
      "../results/linearprobe_50epochs_paper_final2/vit_small_patch16_224.augreg_in1k_caltech101_CLASSIC_AT.pkl\n",
      "../results/linearprobe_50epochs_paper_final2/convnext_tiny.fb_in22k_caltech101_CLASSIC_AT.pkl\n",
      "../results/linearprobe_50epochs_paper_final2/vit_base_patch16_clip_224.laion2b_ft_in1k_caltech101_CLASSIC_AT.pkl\n",
      "../results/linearprobe_50epochs_paper_final2/vit_base_patch16_224.augreg_in21k_ft_in1k_caltech101_CLASSIC_AT.pkl\n",
      "../results/linearprobe_50epochs_paper_final2/vit_small_patch16_224.augreg_in21k_ft_in1k_caltech101_CLASSIC_AT.pkl\n",
      "../results/linearprobe_50epochs_paper_final2/eva02_base_patch14_224.mim_in22k_caltech101_CLASSIC_AT.pkl\n",
      "../results/linearprobe_50epochs_paper_final2/eva02_tiny_patch14_224.mim_in22k_caltech101_CLASSIC_AT.pkl\n",
      "../results/linearprobe_50epochs_paper_final2/swin_base_patch4_window7_224.ms_in22k_ft_in1k_caltech101_CLASSIC_AT.pkl\n",
      "../results/linearprobe_50epochs_paper_final2/swin_tiny_patch4_window7_224.ms_in1k_caltech101_CLASSIC_AT.pkl\n",
      "../results/linearprobe_50epochs_paper_final2/convnext_base.clip_laion2b_augreg_ft_in12k_in1k_caltech101_CLASSIC_AT.pkl\n",
      "../results/linearprobe_50epochs_paper_final2/convnext_base.fb_in22k_ft_in1k_caltech101_CLASSIC_AT.pkl\n",
      "../results/linearprobe_50epochs_paper_final2/convnext_tiny.fb_in22k_ft_in1k_caltech101_CLASSIC_AT.pkl\n",
      "../results/linearprobe_50epochs_paper_final2/coatnet_0_rw_224.sw_in1k_caltech101_CLASSIC_AT.pkl\n",
      "../results/linearprobe_50epochs_paper_final2/coatnet_2_rw_224.sw_in12k_ft_in1k_caltech101_CLASSIC_AT.pkl\n",
      "../results/linearprobe_50epochs_paper_final2/coatnet_2_rw_224.sw_in12k_caltech101_CLASSIC_AT.pkl\n",
      "../results/linearprobe_50epochs_edge_paper_final2/regnetx_004.pycls_in1k_caltech101_CLASSIC_AT.pkl\n",
      "../results/linearprobe_50epochs_edge_paper_final2/efficientnet-b0_caltech101_CLASSIC_AT.pkl\n",
      "../results/linearprobe_50epochs_edge_paper_final2/deit_tiny_patch16_224.fb_in1k_caltech101_CLASSIC_AT.pkl\n",
      "../results/linearprobe_50epochs_edge_paper_final2/mobilevit-small_caltech101_CLASSIC_AT.pkl\n",
      "../results/linearprobe_50epochs_edge_paper_final2/mobilenetv3_large_100.ra_in1k_caltech101_CLASSIC_AT.pkl\n",
      "../results/linearprobe_50epochs_edge_paper_final2/edgenext_small.usi_in1k_caltech101_CLASSIC_AT.pkl\n",
      "../results/linearprobe_50epochs_edge_paper_final2/coat_tiny.in1k_caltech101_CLASSIC_AT.pkl\n",
      "../results/linearprobe_50epochs_paper_final2/CLIP-convnext_base_w-laion_aesthetic-s13B-b82K_fgvc-aircraft-2013b_CLASSIC_AT.pkl\n",
      "../results/linearprobe_50epochs_paper_final2/CLIP-convnext_base_w-laion2B-s13B-b82K_fgvc-aircraft-2013b_CLASSIC_AT.pkl\n",
      "../results/linearprobe_50epochs_paper_final2/deit_small_patch16_224.fb_in1k_fgvc-aircraft-2013b_CLASSIC_AT.pkl\n",
      "../results/linearprobe_50epochs_paper_final2/robust_resnet50_fgvc-aircraft-2013b_CLASSIC_AT.pkl\n",
      "../results/linearprobe_50epochs_paper_final2/vit_small_patch16_224.augreg_in21k_fgvc-aircraft-2013b_CLASSIC_AT.pkl\n",
      "../results/linearprobe_50epochs_paper_final2/convnext_base.fb_in1k_fgvc-aircraft-2013b_CLASSIC_AT.pkl\n",
      "../results/linearprobe_50epochs_paper_final2/resnet50.a1_in1k_fgvc-aircraft-2013b_CLASSIC_AT.pkl\n",
      "../results/linearprobe_50epochs_paper_final2/robust_vit_base_patch16_224_fgvc-aircraft-2013b_CLASSIC_AT.pkl\n",
      "../results/linearprobe_50epochs_paper_final2/vit_base_patch16_224.mae_fgvc-aircraft-2013b_CLASSIC_AT.pkl\n",
      "../results/linearprobe_50epochs_paper_final2/vit_small_patch16_224.dino_fgvc-aircraft-2013b_CLASSIC_AT.pkl\n",
      "../results/linearprobe_50epochs_paper_final2/convnext_base.fb_in22k_fgvc-aircraft-2013b_CLASSIC_AT.pkl\n",
      "../results/linearprobe_50epochs_paper_final2/robust_convnext_base_fgvc-aircraft-2013b_CLASSIC_AT.pkl\n",
      "../results/linearprobe_50epochs_paper_final2/vit_base_patch16_224.augreg_in1k_fgvc-aircraft-2013b_CLASSIC_AT.pkl\n",
      "../results/linearprobe_50epochs_paper_final2/vit_base_patch16_224.augreg_in21k_fgvc-aircraft-2013b_CLASSIC_AT.pkl\n",
      "../results/linearprobe_50epochs_paper_final2/vit_base_patch16_clip_224.laion2b_fgvc-aircraft-2013b_CLASSIC_AT.pkl\n",
      "../results/linearprobe_50epochs_paper_final2/convnext_tiny.fb_in1k_fgvc-aircraft-2013b_CLASSIC_AT.pkl\n",
      "../results/linearprobe_50epochs_paper_final2/robust_convnext_tiny_fgvc-aircraft-2013b_CLASSIC_AT.pkl\n",
      "../results/linearprobe_50epochs_paper_final2/robust_deit_small_patch16_224_fgvc-aircraft-2013b_CLASSIC_AT.pkl\n",
      "../results/linearprobe_50epochs_paper_final2/vit_small_patch16_224.augreg_in1k_fgvc-aircraft-2013b_CLASSIC_AT.pkl\n",
      "../results/linearprobe_50epochs_paper_final2/convnext_tiny.fb_in22k_fgvc-aircraft-2013b_CLASSIC_AT.pkl\n",
      "../results/linearprobe_50epochs_paper_final2/vit_base_patch16_clip_224.laion2b_ft_in1k_fgvc-aircraft-2013b_CLASSIC_AT.pkl\n",
      "../results/linearprobe_50epochs_paper_final2/vit_base_patch16_224.augreg_in21k_ft_in1k_fgvc-aircraft-2013b_CLASSIC_AT.pkl\n",
      "../results/linearprobe_50epochs_paper_final2/vit_small_patch16_224.augreg_in21k_ft_in1k_fgvc-aircraft-2013b_CLASSIC_AT.pkl\n",
      "../results/linearprobe_50epochs_paper_final2/eva02_base_patch14_224.mim_in22k_fgvc-aircraft-2013b_CLASSIC_AT.pkl\n",
      "../results/linearprobe_50epochs_paper_final2/eva02_tiny_patch14_224.mim_in22k_fgvc-aircraft-2013b_CLASSIC_AT.pkl\n",
      "../results/linearprobe_50epochs_paper_final2/swin_base_patch4_window7_224.ms_in22k_ft_in1k_fgvc-aircraft-2013b_CLASSIC_AT.pkl\n",
      "../results/linearprobe_50epochs_paper_final2/swin_tiny_patch4_window7_224.ms_in1k_fgvc-aircraft-2013b_CLASSIC_AT.pkl\n",
      "../results/linearprobe_50epochs_paper_final2/convnext_base.clip_laion2b_augreg_ft_in12k_in1k_fgvc-aircraft-2013b_CLASSIC_AT.pkl\n",
      "../results/linearprobe_50epochs_paper_final2/convnext_base.fb_in22k_ft_in1k_fgvc-aircraft-2013b_CLASSIC_AT.pkl\n",
      "../results/linearprobe_50epochs_paper_final2/convnext_tiny.fb_in22k_ft_in1k_fgvc-aircraft-2013b_CLASSIC_AT.pkl\n",
      "../results/linearprobe_50epochs_paper_final2/coatnet_0_rw_224.sw_in1k_fgvc-aircraft-2013b_CLASSIC_AT.pkl\n",
      "../results/linearprobe_50epochs_paper_final2/coatnet_2_rw_224.sw_in12k_ft_in1k_fgvc-aircraft-2013b_CLASSIC_AT.pkl\n",
      "../results/linearprobe_50epochs_paper_final2/coatnet_2_rw_224.sw_in12k_fgvc-aircraft-2013b_CLASSIC_AT.pkl\n",
      "../results/linearprobe_50epochs_edge_paper_final2/regnetx_004.pycls_in1k_fgvc-aircraft-2013b_CLASSIC_AT.pkl\n",
      "../results/linearprobe_50epochs_edge_paper_final2/efficientnet-b0_fgvc-aircraft-2013b_CLASSIC_AT.pkl\n",
      "../results/linearprobe_50epochs_edge_paper_final2/deit_tiny_patch16_224.fb_in1k_fgvc-aircraft-2013b_CLASSIC_AT.pkl\n",
      "../results/linearprobe_50epochs_edge_paper_final2/mobilevit-small_fgvc-aircraft-2013b_CLASSIC_AT.pkl\n",
      "../results/linearprobe_50epochs_edge_paper_final2/mobilenetv3_large_100.ra_in1k_fgvc-aircraft-2013b_CLASSIC_AT.pkl\n",
      "../results/linearprobe_50epochs_edge_paper_final2/edgenext_small.usi_in1k_fgvc-aircraft-2013b_CLASSIC_AT.pkl\n",
      "../results/linearprobe_50epochs_edge_paper_final2/coat_tiny.in1k_fgvc-aircraft-2013b_CLASSIC_AT.pkl\n",
      "../results/linearprobe_50epochs_paper_final2/CLIP-convnext_base_w-laion_aesthetic-s13B-b82K_flowers-102_CLASSIC_AT.pkl\n",
      "../results/linearprobe_50epochs_paper_final2/CLIP-convnext_base_w-laion2B-s13B-b82K_flowers-102_CLASSIC_AT.pkl\n",
      "../results/linearprobe_50epochs_paper_final2/deit_small_patch16_224.fb_in1k_flowers-102_CLASSIC_AT.pkl\n",
      "../results/linearprobe_50epochs_paper_final2/robust_resnet50_flowers-102_CLASSIC_AT.pkl\n",
      "../results/linearprobe_50epochs_paper_final2/vit_small_patch16_224.augreg_in21k_flowers-102_CLASSIC_AT.pkl\n",
      "../results/linearprobe_50epochs_paper_final2/convnext_base.fb_in1k_flowers-102_CLASSIC_AT.pkl\n",
      "../results/linearprobe_50epochs_paper_final2/resnet50.a1_in1k_flowers-102_CLASSIC_AT.pkl\n",
      "../results/linearprobe_50epochs_paper_final2/robust_vit_base_patch16_224_flowers-102_CLASSIC_AT.pkl\n",
      "../results/linearprobe_50epochs_paper_final2/vit_base_patch16_224.mae_flowers-102_CLASSIC_AT.pkl\n",
      "../results/linearprobe_50epochs_paper_final2/vit_small_patch16_224.dino_flowers-102_CLASSIC_AT.pkl\n",
      "../results/linearprobe_50epochs_paper_final2/convnext_base.fb_in22k_flowers-102_CLASSIC_AT.pkl\n",
      "../results/linearprobe_50epochs_paper_final2/robust_convnext_base_flowers-102_CLASSIC_AT.pkl\n",
      "../results/linearprobe_50epochs_paper_final2/vit_base_patch16_224.augreg_in1k_flowers-102_CLASSIC_AT.pkl\n",
      "../results/linearprobe_50epochs_paper_final2/vit_base_patch16_224.augreg_in21k_flowers-102_CLASSIC_AT.pkl\n",
      "../results/linearprobe_50epochs_paper_final2/vit_base_patch16_clip_224.laion2b_flowers-102_CLASSIC_AT.pkl\n",
      "../results/linearprobe_50epochs_paper_final2/convnext_tiny.fb_in1k_flowers-102_CLASSIC_AT.pkl\n",
      "../results/linearprobe_50epochs_paper_final2/robust_convnext_tiny_flowers-102_CLASSIC_AT.pkl\n",
      "../results/linearprobe_50epochs_paper_final2/robust_deit_small_patch16_224_flowers-102_CLASSIC_AT.pkl\n",
      "../results/linearprobe_50epochs_paper_final2/vit_small_patch16_224.augreg_in1k_flowers-102_CLASSIC_AT.pkl\n",
      "../results/linearprobe_50epochs_paper_final2/convnext_tiny.fb_in22k_flowers-102_CLASSIC_AT.pkl\n",
      "../results/linearprobe_50epochs_paper_final2/vit_base_patch16_clip_224.laion2b_ft_in1k_flowers-102_CLASSIC_AT.pkl\n",
      "../results/linearprobe_50epochs_paper_final2/vit_base_patch16_224.augreg_in21k_ft_in1k_flowers-102_CLASSIC_AT.pkl\n",
      "../results/linearprobe_50epochs_paper_final2/vit_small_patch16_224.augreg_in21k_ft_in1k_flowers-102_CLASSIC_AT.pkl\n",
      "../results/linearprobe_50epochs_paper_final2/eva02_base_patch14_224.mim_in22k_flowers-102_CLASSIC_AT.pkl\n",
      "../results/linearprobe_50epochs_paper_final2/eva02_tiny_patch14_224.mim_in22k_flowers-102_CLASSIC_AT.pkl\n",
      "../results/linearprobe_50epochs_paper_final2/swin_base_patch4_window7_224.ms_in22k_ft_in1k_flowers-102_CLASSIC_AT.pkl\n",
      "../results/linearprobe_50epochs_paper_final2/swin_tiny_patch4_window7_224.ms_in1k_flowers-102_CLASSIC_AT.pkl\n",
      "../results/linearprobe_50epochs_paper_final2/convnext_base.clip_laion2b_augreg_ft_in12k_in1k_flowers-102_CLASSIC_AT.pkl\n",
      "../results/linearprobe_50epochs_paper_final2/convnext_base.fb_in22k_ft_in1k_flowers-102_CLASSIC_AT.pkl\n",
      "../results/linearprobe_50epochs_paper_final2/convnext_tiny.fb_in22k_ft_in1k_flowers-102_CLASSIC_AT.pkl\n",
      "../results/linearprobe_50epochs_paper_final2/coatnet_0_rw_224.sw_in1k_flowers-102_CLASSIC_AT.pkl\n",
      "../results/linearprobe_50epochs_paper_final2/coatnet_2_rw_224.sw_in12k_ft_in1k_flowers-102_CLASSIC_AT.pkl\n",
      "../results/linearprobe_50epochs_paper_final2/coatnet_2_rw_224.sw_in12k_flowers-102_CLASSIC_AT.pkl\n",
      "../results/linearprobe_50epochs_edge_paper_final2/regnetx_004.pycls_in1k_flowers-102_CLASSIC_AT.pkl\n",
      "../results/linearprobe_50epochs_edge_paper_final2/efficientnet-b0_flowers-102_CLASSIC_AT.pkl\n",
      "../results/linearprobe_50epochs_edge_paper_final2/deit_tiny_patch16_224.fb_in1k_flowers-102_CLASSIC_AT.pkl\n",
      "../results/linearprobe_50epochs_edge_paper_final2/mobilevit-small_flowers-102_CLASSIC_AT.pkl\n",
      "../results/linearprobe_50epochs_edge_paper_final2/mobilenetv3_large_100.ra_in1k_flowers-102_CLASSIC_AT.pkl\n",
      "../results/linearprobe_50epochs_edge_paper_final2/edgenext_small.usi_in1k_flowers-102_CLASSIC_AT.pkl\n",
      "../results/linearprobe_50epochs_edge_paper_final2/coat_tiny.in1k_flowers-102_CLASSIC_AT.pkl\n",
      "../results/linearprobe_50epochs_paper_final2/CLIP-convnext_base_w-laion_aesthetic-s13B-b82K_oxford-iiit-pet_CLASSIC_AT.pkl\n",
      "../results/linearprobe_50epochs_paper_final2/CLIP-convnext_base_w-laion2B-s13B-b82K_oxford-iiit-pet_CLASSIC_AT.pkl\n",
      "../results/linearprobe_50epochs_paper_final2/deit_small_patch16_224.fb_in1k_oxford-iiit-pet_CLASSIC_AT.pkl\n",
      "../results/linearprobe_50epochs_paper_final2/robust_resnet50_oxford-iiit-pet_CLASSIC_AT.pkl\n",
      "../results/linearprobe_50epochs_paper_final2/vit_small_patch16_224.augreg_in21k_oxford-iiit-pet_CLASSIC_AT.pkl\n",
      "../results/linearprobe_50epochs_paper_final2/convnext_base.fb_in1k_oxford-iiit-pet_CLASSIC_AT.pkl\n",
      "../results/linearprobe_50epochs_paper_final2/resnet50.a1_in1k_oxford-iiit-pet_CLASSIC_AT.pkl\n",
      "../results/linearprobe_50epochs_paper_final2/robust_vit_base_patch16_224_oxford-iiit-pet_CLASSIC_AT.pkl\n",
      "../results/linearprobe_50epochs_paper_final2/vit_base_patch16_224.mae_oxford-iiit-pet_CLASSIC_AT.pkl\n",
      "../results/linearprobe_50epochs_paper_final2/vit_small_patch16_224.dino_oxford-iiit-pet_CLASSIC_AT.pkl\n",
      "../results/linearprobe_50epochs_paper_final2/convnext_base.fb_in22k_oxford-iiit-pet_CLASSIC_AT.pkl\n",
      "../results/linearprobe_50epochs_paper_final2/robust_convnext_base_oxford-iiit-pet_CLASSIC_AT.pkl\n",
      "../results/linearprobe_50epochs_paper_final2/vit_base_patch16_224.augreg_in1k_oxford-iiit-pet_CLASSIC_AT.pkl\n",
      "../results/linearprobe_50epochs_paper_final2/vit_base_patch16_224.augreg_in21k_oxford-iiit-pet_CLASSIC_AT.pkl\n",
      "../results/linearprobe_50epochs_paper_final2/vit_base_patch16_clip_224.laion2b_oxford-iiit-pet_CLASSIC_AT.pkl\n",
      "../results/linearprobe_50epochs_paper_final2/convnext_tiny.fb_in1k_oxford-iiit-pet_CLASSIC_AT.pkl\n",
      "../results/linearprobe_50epochs_paper_final2/robust_convnext_tiny_oxford-iiit-pet_CLASSIC_AT.pkl\n",
      "../results/linearprobe_50epochs_paper_final2/robust_deit_small_patch16_224_oxford-iiit-pet_CLASSIC_AT.pkl\n",
      "../results/linearprobe_50epochs_paper_final2/vit_small_patch16_224.augreg_in1k_oxford-iiit-pet_CLASSIC_AT.pkl\n",
      "../results/linearprobe_50epochs_paper_final2/convnext_tiny.fb_in22k_oxford-iiit-pet_CLASSIC_AT.pkl\n",
      "../results/linearprobe_50epochs_paper_final2/vit_base_patch16_clip_224.laion2b_ft_in1k_oxford-iiit-pet_CLASSIC_AT.pkl\n",
      "../results/linearprobe_50epochs_paper_final2/vit_base_patch16_224.augreg_in21k_ft_in1k_oxford-iiit-pet_CLASSIC_AT.pkl\n",
      "../results/linearprobe_50epochs_paper_final2/vit_small_patch16_224.augreg_in21k_ft_in1k_oxford-iiit-pet_CLASSIC_AT.pkl\n",
      "../results/linearprobe_50epochs_paper_final2/eva02_base_patch14_224.mim_in22k_oxford-iiit-pet_CLASSIC_AT.pkl\n",
      "../results/linearprobe_50epochs_paper_final2/eva02_tiny_patch14_224.mim_in22k_oxford-iiit-pet_CLASSIC_AT.pkl\n",
      "../results/linearprobe_50epochs_paper_final2/swin_base_patch4_window7_224.ms_in22k_ft_in1k_oxford-iiit-pet_CLASSIC_AT.pkl\n",
      "../results/linearprobe_50epochs_paper_final2/swin_tiny_patch4_window7_224.ms_in1k_oxford-iiit-pet_CLASSIC_AT.pkl\n",
      "../results/linearprobe_50epochs_paper_final2/convnext_base.clip_laion2b_augreg_ft_in12k_in1k_oxford-iiit-pet_CLASSIC_AT.pkl\n",
      "../results/linearprobe_50epochs_paper_final2/convnext_base.fb_in22k_ft_in1k_oxford-iiit-pet_CLASSIC_AT.pkl\n",
      "../results/linearprobe_50epochs_paper_final2/convnext_tiny.fb_in22k_ft_in1k_oxford-iiit-pet_CLASSIC_AT.pkl\n",
      "../results/linearprobe_50epochs_paper_final2/coatnet_0_rw_224.sw_in1k_oxford-iiit-pet_CLASSIC_AT.pkl\n",
      "../results/linearprobe_50epochs_paper_final2/coatnet_2_rw_224.sw_in12k_ft_in1k_oxford-iiit-pet_CLASSIC_AT.pkl\n",
      "../results/linearprobe_50epochs_paper_final2/coatnet_2_rw_224.sw_in12k_oxford-iiit-pet_CLASSIC_AT.pkl\n",
      "../results/linearprobe_50epochs_edge_paper_final2/regnetx_004.pycls_in1k_oxford-iiit-pet_CLASSIC_AT.pkl\n",
      "../results/linearprobe_50epochs_edge_paper_final2/efficientnet-b0_oxford-iiit-pet_CLASSIC_AT.pkl\n",
      "../results/linearprobe_50epochs_edge_paper_final2/deit_tiny_patch16_224.fb_in1k_oxford-iiit-pet_CLASSIC_AT.pkl\n",
      "../results/linearprobe_50epochs_edge_paper_final2/mobilevit-small_oxford-iiit-pet_CLASSIC_AT.pkl\n",
      "../results/linearprobe_50epochs_edge_paper_final2/mobilenetv3_large_100.ra_in1k_oxford-iiit-pet_CLASSIC_AT.pkl\n",
      "../results/linearprobe_50epochs_edge_paper_final2/edgenext_small.usi_in1k_oxford-iiit-pet_CLASSIC_AT.pkl\n",
      "../results/linearprobe_50epochs_edge_paper_final2/coat_tiny.in1k_oxford-iiit-pet_CLASSIC_AT.pkl\n"
     ]
    }
   ],
   "source": [
    "from load_results import load_result_dataset\n",
    "import pandas as pd\n",
    "\n",
    "pn1 = 'full_fine_tuning_50epochs_edge_paper_final2'\n",
    "pn2 = 'full_fine_tuning_50epochs_paper_final2'\n",
    "final_data1 = load_result_dataset(pn1, pn2)\n",
    "final_data1 = [{**d, 'ft_strategy': 'FFT (50 epochs)'} for d in final_data1]\n",
    "df1 = pd.DataFrame(final_data1)\n",
    "\n",
    "pn1 = 'full_fine_tuning_5epochs_edge_article1'\n",
    "pn2 = 'full_fine_tuning_5epochs_article1'\n",
    "final_data2 = load_result_dataset(pn1, pn2)\n",
    "final_data2 = [{**d, 'ft_strategy': 'FFT (5 epochs)'} for d in final_data2]\n",
    "df2 = pd.DataFrame(final_data2)\n",
    "\n",
    "pn1 = 'linearprobe_50epochs_edge_paper_final2'\n",
    "pn2 = 'linearprobe_50epochs_paper_final2'\n",
    "final_data3 = load_result_dataset(pn1, pn2)\n",
    "final_data3 = [{**d, 'ft_strategy': 'LP (50 epochs)'} for d in final_data3]\n",
    "df3 = pd.DataFrame(final_data3)\n",
    "\n",
    "df = pd.concat([ df1, df2, df3 ], axis=0, ignore_index=True) \n",
    "\n",
    "final_data = []\n",
    "final_data.extend(final_data1)\n",
    "final_data.extend(final_data2)\n",
    "final_data.extend(final_data3)"
   ]
  },
  {
   "cell_type": "code",
   "execution_count": 2,
   "metadata": {},
   "outputs": [
    {
     "data": {
      "text/html": [
       "<div>\n",
       "<style scoped>\n",
       "    .dataframe tbody tr th:only-of-type {\n",
       "        vertical-align: middle;\n",
       "    }\n",
       "\n",
       "    .dataframe tbody tr th {\n",
       "        vertical-align: top;\n",
       "    }\n",
       "\n",
       "    .dataframe thead th {\n",
       "        text-align: right;\n",
       "    }\n",
       "</style>\n",
       "<table border=\"1\" class=\"dataframe\">\n",
       "  <thead>\n",
       "    <tr style=\"text-align: right;\">\n",
       "      <th></th>\n",
       "      <th>clean_acc</th>\n",
       "      <th>Linf_acc</th>\n",
       "      <th>L2_acc</th>\n",
       "      <th>L1_acc</th>\n",
       "      <th>common_acc</th>\n",
       "      <th>sum</th>\n",
       "      <th>geom</th>\n",
       "      <th>model_size</th>\n",
       "      <th>backbone</th>\n",
       "      <th>dataset</th>\n",
       "      <th>loss_function</th>\n",
       "      <th>pre_training_dataset</th>\n",
       "      <th>pre_training_strategy</th>\n",
       "      <th>volume_pre_training_data</th>\n",
       "      <th>backbone_name</th>\n",
       "      <th>model_type</th>\n",
       "      <th>ft_strategy</th>\n",
       "    </tr>\n",
       "  </thead>\n",
       "  <tbody>\n",
       "    <tr>\n",
       "      <th>0</th>\n",
       "      <td>0.955556</td>\n",
       "      <td>0.193651</td>\n",
       "      <td>0.520635</td>\n",
       "      <td>0.519048</td>\n",
       "      <td>0.783333</td>\n",
       "      <td>2.972222</td>\n",
       "      <td>0.039171</td>\n",
       "      <td>large</td>\n",
       "      <td>CLIP-convnext_base_w-laion_aesthetic-s13B-b82K</td>\n",
       "      <td>uc-merced-land-use-dataset</td>\n",
       "      <td>TRADES_v2</td>\n",
       "      <td>laion_aesthetic</td>\n",
       "      <td>self-supervised (multimodal)</td>\n",
       "      <td>900000000</td>\n",
       "      <td>convnext_b,clip,laiona</td>\n",
       "      <td>fully convolutional</td>\n",
       "      <td>FFT (50 epochs)</td>\n",
       "    </tr>\n",
       "    <tr>\n",
       "      <th>1</th>\n",
       "      <td>0.952381</td>\n",
       "      <td>0.800000</td>\n",
       "      <td>0.888095</td>\n",
       "      <td>0.749206</td>\n",
       "      <td>0.847619</td>\n",
       "      <td>4.237302</td>\n",
       "      <td>0.429697</td>\n",
       "      <td>large</td>\n",
       "      <td>CLIP-convnext_base_w-laion2B-s13B-b82K</td>\n",
       "      <td>uc-merced-land-use-dataset</td>\n",
       "      <td>TRADES_v2</td>\n",
       "      <td>laion2B</td>\n",
       "      <td>self-supervised (multimodal)</td>\n",
       "      <td>2320000000</td>\n",
       "      <td>convnext_b,clip,laion2b</td>\n",
       "      <td>fully convolutional</td>\n",
       "      <td>FFT (50 epochs)</td>\n",
       "    </tr>\n",
       "    <tr>\n",
       "      <th>2</th>\n",
       "      <td>0.765079</td>\n",
       "      <td>0.000000</td>\n",
       "      <td>0.000000</td>\n",
       "      <td>0.000000</td>\n",
       "      <td>0.485714</td>\n",
       "      <td>1.250794</td>\n",
       "      <td>0.000000</td>\n",
       "      <td>medium</td>\n",
       "      <td>deit_small_patch16_224.fb_in1k</td>\n",
       "      <td>uc-merced-land-use-dataset</td>\n",
       "      <td>TRADES_v2</td>\n",
       "      <td>in1k</td>\n",
       "      <td>supervised</td>\n",
       "      <td>1281167</td>\n",
       "      <td>deit_s,sup,in1k</td>\n",
       "      <td>fully attention</td>\n",
       "      <td>FFT (50 epochs)</td>\n",
       "    </tr>\n",
       "    <tr>\n",
       "      <th>3</th>\n",
       "      <td>0.185714</td>\n",
       "      <td>0.009524</td>\n",
       "      <td>0.000000</td>\n",
       "      <td>0.000000</td>\n",
       "      <td>0.130159</td>\n",
       "      <td>0.325397</td>\n",
       "      <td>0.000000</td>\n",
       "      <td>medium</td>\n",
       "      <td>robust_resnet50</td>\n",
       "      <td>uc-merced-land-use-dataset</td>\n",
       "      <td>TRADES_v2</td>\n",
       "      <td>in1k</td>\n",
       "      <td>supervised (robust)</td>\n",
       "      <td>1281167</td>\n",
       "      <td>resnet50,rob-sup,in1k</td>\n",
       "      <td>fully convolutional</td>\n",
       "      <td>FFT (50 epochs)</td>\n",
       "    </tr>\n",
       "    <tr>\n",
       "      <th>4</th>\n",
       "      <td>0.523810</td>\n",
       "      <td>0.223810</td>\n",
       "      <td>0.295238</td>\n",
       "      <td>0.235714</td>\n",
       "      <td>0.352381</td>\n",
       "      <td>1.630952</td>\n",
       "      <td>0.002875</td>\n",
       "      <td>medium</td>\n",
       "      <td>vit_small_patch16_224.augreg_in21k</td>\n",
       "      <td>uc-merced-land-use-dataset</td>\n",
       "      <td>TRADES_v2</td>\n",
       "      <td>in22k</td>\n",
       "      <td>supervised</td>\n",
       "      <td>14197122</td>\n",
       "      <td>vit_s,sup,in22k</td>\n",
       "      <td>fully attention</td>\n",
       "      <td>FFT (50 epochs)</td>\n",
       "    </tr>\n",
       "    <tr>\n",
       "      <th>...</th>\n",
       "      <td>...</td>\n",
       "      <td>...</td>\n",
       "      <td>...</td>\n",
       "      <td>...</td>\n",
       "      <td>...</td>\n",
       "      <td>...</td>\n",
       "      <td>...</td>\n",
       "      <td>...</td>\n",
       "      <td>...</td>\n",
       "      <td>...</td>\n",
       "      <td>...</td>\n",
       "      <td>...</td>\n",
       "      <td>...</td>\n",
       "      <td>...</td>\n",
       "      <td>...</td>\n",
       "      <td>...</td>\n",
       "      <td>...</td>\n",
       "    </tr>\n",
       "    <tr>\n",
       "      <th>1435</th>\n",
       "      <td>0.098667</td>\n",
       "      <td>0.000000</td>\n",
       "      <td>0.000000</td>\n",
       "      <td>0.000000</td>\n",
       "      <td>0.091000</td>\n",
       "      <td>0.189667</td>\n",
       "      <td>0.000000</td>\n",
       "      <td>small</td>\n",
       "      <td>deit_tiny_patch16_224.fb_in1k</td>\n",
       "      <td>oxford-iiit-pet</td>\n",
       "      <td>CLASSIC_AT</td>\n",
       "      <td>in1k</td>\n",
       "      <td>supervised</td>\n",
       "      <td>1281167</td>\n",
       "      <td>deit_t,sup,in1k</td>\n",
       "      <td>fully attention</td>\n",
       "      <td>LP (50 epochs)</td>\n",
       "    </tr>\n",
       "    <tr>\n",
       "      <th>1436</th>\n",
       "      <td>0.023000</td>\n",
       "      <td>0.000000</td>\n",
       "      <td>0.006000</td>\n",
       "      <td>0.015000</td>\n",
       "      <td>0.023000</td>\n",
       "      <td>0.067000</td>\n",
       "      <td>0.000000</td>\n",
       "      <td>small</td>\n",
       "      <td>mobilevit-small</td>\n",
       "      <td>oxford-iiit-pet</td>\n",
       "      <td>CLASSIC_AT</td>\n",
       "      <td>in1k</td>\n",
       "      <td>supervised</td>\n",
       "      <td>1281167</td>\n",
       "      <td>mobilevit_s,sup,in1k</td>\n",
       "      <td>hybrid</td>\n",
       "      <td>LP (50 epochs)</td>\n",
       "    </tr>\n",
       "    <tr>\n",
       "      <th>1437</th>\n",
       "      <td>0.656000</td>\n",
       "      <td>0.000000</td>\n",
       "      <td>0.000000</td>\n",
       "      <td>0.000000</td>\n",
       "      <td>0.556000</td>\n",
       "      <td>1.212000</td>\n",
       "      <td>0.000000</td>\n",
       "      <td>small</td>\n",
       "      <td>mobilenetv3_large_100.ra_in1k</td>\n",
       "      <td>oxford-iiit-pet</td>\n",
       "      <td>CLASSIC_AT</td>\n",
       "      <td>in1k</td>\n",
       "      <td>supervised</td>\n",
       "      <td>1281167</td>\n",
       "      <td>mobilenet_v3,sup,in1k</td>\n",
       "      <td>fully convolutional</td>\n",
       "      <td>LP (50 epochs)</td>\n",
       "    </tr>\n",
       "    <tr>\n",
       "      <th>1438</th>\n",
       "      <td>0.019000</td>\n",
       "      <td>0.000000</td>\n",
       "      <td>0.000000</td>\n",
       "      <td>0.000000</td>\n",
       "      <td>0.020000</td>\n",
       "      <td>0.039000</td>\n",
       "      <td>0.000000</td>\n",
       "      <td>small</td>\n",
       "      <td>edgenext_small.usi_in1k</td>\n",
       "      <td>oxford-iiit-pet</td>\n",
       "      <td>CLASSIC_AT</td>\n",
       "      <td>in1k</td>\n",
       "      <td>supervised</td>\n",
       "      <td>1281167</td>\n",
       "      <td>edgenetx_s,sup,in1k</td>\n",
       "      <td>hybrid</td>\n",
       "      <td>LP (50 epochs)</td>\n",
       "    </tr>\n",
       "    <tr>\n",
       "      <th>1439</th>\n",
       "      <td>0.088000</td>\n",
       "      <td>0.000000</td>\n",
       "      <td>0.000000</td>\n",
       "      <td>0.000000</td>\n",
       "      <td>0.071000</td>\n",
       "      <td>0.159000</td>\n",
       "      <td>0.000000</td>\n",
       "      <td>small</td>\n",
       "      <td>coat_tiny.in1k</td>\n",
       "      <td>oxford-iiit-pet</td>\n",
       "      <td>CLASSIC_AT</td>\n",
       "      <td>in1k</td>\n",
       "      <td>supervised</td>\n",
       "      <td>1281167</td>\n",
       "      <td>coat_t,sup,in1k</td>\n",
       "      <td>hybrid</td>\n",
       "      <td>LP (50 epochs)</td>\n",
       "    </tr>\n",
       "  </tbody>\n",
       "</table>\n",
       "<p>1440 rows × 17 columns</p>\n",
       "</div>"
      ],
      "text/plain": [
       "      clean_acc  Linf_acc    L2_acc    L1_acc  common_acc       sum      geom  \\\n",
       "0      0.955556  0.193651  0.520635  0.519048    0.783333  2.972222  0.039171   \n",
       "1      0.952381  0.800000  0.888095  0.749206    0.847619  4.237302  0.429697   \n",
       "2      0.765079  0.000000  0.000000  0.000000    0.485714  1.250794  0.000000   \n",
       "3      0.185714  0.009524  0.000000  0.000000    0.130159  0.325397  0.000000   \n",
       "4      0.523810  0.223810  0.295238  0.235714    0.352381  1.630952  0.002875   \n",
       "...         ...       ...       ...       ...         ...       ...       ...   \n",
       "1435   0.098667  0.000000  0.000000  0.000000    0.091000  0.189667  0.000000   \n",
       "1436   0.023000  0.000000  0.006000  0.015000    0.023000  0.067000  0.000000   \n",
       "1437   0.656000  0.000000  0.000000  0.000000    0.556000  1.212000  0.000000   \n",
       "1438   0.019000  0.000000  0.000000  0.000000    0.020000  0.039000  0.000000   \n",
       "1439   0.088000  0.000000  0.000000  0.000000    0.071000  0.159000  0.000000   \n",
       "\n",
       "     model_size                                        backbone  \\\n",
       "0         large  CLIP-convnext_base_w-laion_aesthetic-s13B-b82K   \n",
       "1         large          CLIP-convnext_base_w-laion2B-s13B-b82K   \n",
       "2        medium                  deit_small_patch16_224.fb_in1k   \n",
       "3        medium                                 robust_resnet50   \n",
       "4        medium              vit_small_patch16_224.augreg_in21k   \n",
       "...         ...                                             ...   \n",
       "1435      small                   deit_tiny_patch16_224.fb_in1k   \n",
       "1436      small                                 mobilevit-small   \n",
       "1437      small                   mobilenetv3_large_100.ra_in1k   \n",
       "1438      small                         edgenext_small.usi_in1k   \n",
       "1439      small                                  coat_tiny.in1k   \n",
       "\n",
       "                         dataset loss_function pre_training_dataset  \\\n",
       "0     uc-merced-land-use-dataset     TRADES_v2      laion_aesthetic   \n",
       "1     uc-merced-land-use-dataset     TRADES_v2              laion2B   \n",
       "2     uc-merced-land-use-dataset     TRADES_v2                 in1k   \n",
       "3     uc-merced-land-use-dataset     TRADES_v2                 in1k   \n",
       "4     uc-merced-land-use-dataset     TRADES_v2                in22k   \n",
       "...                          ...           ...                  ...   \n",
       "1435             oxford-iiit-pet    CLASSIC_AT                 in1k   \n",
       "1436             oxford-iiit-pet    CLASSIC_AT                 in1k   \n",
       "1437             oxford-iiit-pet    CLASSIC_AT                 in1k   \n",
       "1438             oxford-iiit-pet    CLASSIC_AT                 in1k   \n",
       "1439             oxford-iiit-pet    CLASSIC_AT                 in1k   \n",
       "\n",
       "             pre_training_strategy  volume_pre_training_data  \\\n",
       "0     self-supervised (multimodal)                 900000000   \n",
       "1     self-supervised (multimodal)                2320000000   \n",
       "2                       supervised                   1281167   \n",
       "3              supervised (robust)                   1281167   \n",
       "4                       supervised                  14197122   \n",
       "...                            ...                       ...   \n",
       "1435                    supervised                   1281167   \n",
       "1436                    supervised                   1281167   \n",
       "1437                    supervised                   1281167   \n",
       "1438                    supervised                   1281167   \n",
       "1439                    supervised                   1281167   \n",
       "\n",
       "                backbone_name           model_type      ft_strategy  \n",
       "0      convnext_b,clip,laiona  fully convolutional  FFT (50 epochs)  \n",
       "1     convnext_b,clip,laion2b  fully convolutional  FFT (50 epochs)  \n",
       "2             deit_s,sup,in1k      fully attention  FFT (50 epochs)  \n",
       "3       resnet50,rob-sup,in1k  fully convolutional  FFT (50 epochs)  \n",
       "4             vit_s,sup,in22k      fully attention  FFT (50 epochs)  \n",
       "...                       ...                  ...              ...  \n",
       "1435          deit_t,sup,in1k      fully attention   LP (50 epochs)  \n",
       "1436     mobilevit_s,sup,in1k               hybrid   LP (50 epochs)  \n",
       "1437    mobilenet_v3,sup,in1k  fully convolutional   LP (50 epochs)  \n",
       "1438      edgenetx_s,sup,in1k               hybrid   LP (50 epochs)  \n",
       "1439          coat_t,sup,in1k               hybrid   LP (50 epochs)  \n",
       "\n",
       "[1440 rows x 17 columns]"
      ]
     },
     "execution_count": 2,
     "metadata": {},
     "output_type": "execute_result"
    }
   ],
   "source": [
    "df"
   ]
  },
  {
   "cell_type": "code",
   "execution_count": 7,
   "metadata": {},
   "outputs": [
    {
     "name": "stdout",
     "output_type": "stream",
     "text": [
      "Percentage of NaN values, for small architecture: 1.0168650793650793\n",
      "Percentage of NaN values, for medium architecture: 0.0462962962962963\n",
      "Percentage of NaN values, for large architecture: 0.626929012345679\n"
     ]
    }
   ],
   "source": [
    "df = pd.DataFrame(final_data)\n",
    "for arch_size in ('small', 'medium', 'large'):\n",
    "    df_curr = df[ df.model_size == arch_size ]\n",
    "    nan_percentage = (df_curr.isna().sum().sum() / df_curr.size) * 100\n",
    "    print(\"Percentage of NaN values, for {} architecture: {}\".format(arch_size, nan_percentage) )\n",
    "    "
   ]
  },
  {
   "cell_type": "code",
   "execution_count": 8,
   "metadata": {},
   "outputs": [],
   "source": [
    "metrics = [ 'clean_acc', 'Linf_acc', 'L2_acc', 'L1_acc', 'common_acc' ]\n",
    "\n",
    "for metric in metrics:\n",
    "    df[f'{metric}_borda_rank'] = df[metric].rank(ascending=False, method='min')\n",
    "\n",
    "# Now sum the borda ranks\n",
    "borda_rank_cols = [f'{metric}_borda_rank' for metric in metrics]\n",
    "df['total_borda_rank'] = df[borda_rank_cols].sum(axis=1)\n",
    "\n",
    "# min_rank = df['total_borda_rank'].min()\n",
    "# max_rank = df['total_borda_rank'].max()\n",
    "\n",
    "# df['normalized_total_borda_rank'] = (df['total_borda_rank'] - min_rank) / (max_rank - min_rank)"
   ]
  },
  {
   "cell_type": "code",
   "execution_count": null,
   "metadata": {},
   "outputs": [
    {
     "data": {
      "text/html": [
       "<div>\n",
       "<style scoped>\n",
       "    .dataframe tbody tr th:only-of-type {\n",
       "        vertical-align: middle;\n",
       "    }\n",
       "\n",
       "    .dataframe tbody tr th {\n",
       "        vertical-align: top;\n",
       "    }\n",
       "\n",
       "    .dataframe thead th {\n",
       "        text-align: right;\n",
       "    }\n",
       "</style>\n",
       "<table border=\"1\" class=\"dataframe\">\n",
       "  <thead>\n",
       "    <tr style=\"text-align: right;\">\n",
       "      <th></th>\n",
       "      <th>ft_strategy</th>\n",
       "      <th>model_type</th>\n",
       "      <th>model_size</th>\n",
       "      <th>loss_function</th>\n",
       "      <th>pre_training_dataset</th>\n",
       "      <th>volume_pre_training_data_scaled</th>\n",
       "      <th>pre_training_strategy</th>\n",
       "      <th>sum</th>\n",
       "      <th>geom</th>\n",
       "      <th>total_borda_rank</th>\n",
       "    </tr>\n",
       "  </thead>\n",
       "  <tbody>\n",
       "    <tr>\n",
       "      <th>0</th>\n",
       "      <td>FFT (5 epochs)</td>\n",
       "      <td>fully attention</td>\n",
       "      <td>large</td>\n",
       "      <td>CLASSIC_AT</td>\n",
       "      <td>in1k</td>\n",
       "      <td>0.0000</td>\n",
       "      <td>self-supervised</td>\n",
       "      <td>1.5274</td>\n",
       "      <td>0.0000</td>\n",
       "      <td>24491.0000</td>\n",
       "    </tr>\n",
       "    <tr>\n",
       "      <th>1</th>\n",
       "      <td>FFT (5 epochs)</td>\n",
       "      <td>fully attention</td>\n",
       "      <td>large</td>\n",
       "      <td>CLASSIC_AT</td>\n",
       "      <td>in1k</td>\n",
       "      <td>0.0000</td>\n",
       "      <td>supervised</td>\n",
       "      <td>2.7160</td>\n",
       "      <td>0.0069</td>\n",
       "      <td>20892.0000</td>\n",
       "    </tr>\n",
       "    <tr>\n",
       "      <th>2</th>\n",
       "      <td>FFT (5 epochs)</td>\n",
       "      <td>fully attention</td>\n",
       "      <td>large</td>\n",
       "      <td>CLASSIC_AT</td>\n",
       "      <td>in1k</td>\n",
       "      <td>0.0000</td>\n",
       "      <td>supervised (robust)</td>\n",
       "      <td>1.4185</td>\n",
       "      <td>0.0000</td>\n",
       "      <td>22856.0000</td>\n",
       "    </tr>\n",
       "    <tr>\n",
       "      <th>3</th>\n",
       "      <td>FFT (5 epochs)</td>\n",
       "      <td>fully attention</td>\n",
       "      <td>large</td>\n",
       "      <td>CLASSIC_AT</td>\n",
       "      <td>in22k</td>\n",
       "      <td>0.0055</td>\n",
       "      <td>self-supervised</td>\n",
       "      <td>1.9997</td>\n",
       "      <td>0.0000</td>\n",
       "      <td>22699.0000</td>\n",
       "    </tr>\n",
       "    <tr>\n",
       "      <th>4</th>\n",
       "      <td>FFT (5 epochs)</td>\n",
       "      <td>fully attention</td>\n",
       "      <td>large</td>\n",
       "      <td>CLASSIC_AT</td>\n",
       "      <td>in22k</td>\n",
       "      <td>0.0055</td>\n",
       "      <td>supervised</td>\n",
       "      <td>0.7851</td>\n",
       "      <td>0.0000</td>\n",
       "      <td>25784.0000</td>\n",
       "    </tr>\n",
       "    <tr>\n",
       "      <th>...</th>\n",
       "      <td>...</td>\n",
       "      <td>...</td>\n",
       "      <td>...</td>\n",
       "      <td>...</td>\n",
       "      <td>...</td>\n",
       "      <td>...</td>\n",
       "      <td>...</td>\n",
       "      <td>...</td>\n",
       "      <td>...</td>\n",
       "      <td>...</td>\n",
       "    </tr>\n",
       "    <tr>\n",
       "      <th>181</th>\n",
       "      <td>LP (50 epochs)</td>\n",
       "      <td>hybrid</td>\n",
       "      <td>large</td>\n",
       "      <td>TRADES_v2</td>\n",
       "      <td>in12k+in1k</td>\n",
       "      <td>0.0039</td>\n",
       "      <td>supervised</td>\n",
       "      <td>7.0916</td>\n",
       "      <td>0.0000</td>\n",
       "      <td>17942.0000</td>\n",
       "    </tr>\n",
       "    <tr>\n",
       "      <th>182</th>\n",
       "      <td>LP (50 epochs)</td>\n",
       "      <td>hybrid</td>\n",
       "      <td>medium</td>\n",
       "      <td>CLASSIC_AT</td>\n",
       "      <td>in1k</td>\n",
       "      <td>0.0000</td>\n",
       "      <td>supervised</td>\n",
       "      <td>4.0200</td>\n",
       "      <td>0.0000</td>\n",
       "      <td>21669.0000</td>\n",
       "    </tr>\n",
       "    <tr>\n",
       "      <th>183</th>\n",
       "      <td>LP (50 epochs)</td>\n",
       "      <td>hybrid</td>\n",
       "      <td>medium</td>\n",
       "      <td>TRADES_v2</td>\n",
       "      <td>in1k</td>\n",
       "      <td>0.0000</td>\n",
       "      <td>supervised</td>\n",
       "      <td>5.3774</td>\n",
       "      <td>0.0000</td>\n",
       "      <td>19459.0000</td>\n",
       "    </tr>\n",
       "    <tr>\n",
       "      <th>184</th>\n",
       "      <td>LP (50 epochs)</td>\n",
       "      <td>hybrid</td>\n",
       "      <td>small</td>\n",
       "      <td>CLASSIC_AT</td>\n",
       "      <td>in1k</td>\n",
       "      <td>0.0000</td>\n",
       "      <td>supervised</td>\n",
       "      <td>1.8952</td>\n",
       "      <td>0.0000</td>\n",
       "      <td>81791.0000</td>\n",
       "    </tr>\n",
       "    <tr>\n",
       "      <th>185</th>\n",
       "      <td>LP (50 epochs)</td>\n",
       "      <td>hybrid</td>\n",
       "      <td>small</td>\n",
       "      <td>TRADES_v2</td>\n",
       "      <td>in1k</td>\n",
       "      <td>0.0000</td>\n",
       "      <td>supervised</td>\n",
       "      <td>6.3551</td>\n",
       "      <td>0.0000</td>\n",
       "      <td>73981.0000</td>\n",
       "    </tr>\n",
       "  </tbody>\n",
       "</table>\n",
       "<p>186 rows × 10 columns</p>\n",
       "</div>"
      ],
      "text/plain": [
       "        ft_strategy       model_type model_size loss_function  \\\n",
       "0    FFT (5 epochs)  fully attention      large    CLASSIC_AT   \n",
       "1    FFT (5 epochs)  fully attention      large    CLASSIC_AT   \n",
       "2    FFT (5 epochs)  fully attention      large    CLASSIC_AT   \n",
       "3    FFT (5 epochs)  fully attention      large    CLASSIC_AT   \n",
       "4    FFT (5 epochs)  fully attention      large    CLASSIC_AT   \n",
       "..              ...              ...        ...           ...   \n",
       "181  LP (50 epochs)           hybrid      large     TRADES_v2   \n",
       "182  LP (50 epochs)           hybrid     medium    CLASSIC_AT   \n",
       "183  LP (50 epochs)           hybrid     medium     TRADES_v2   \n",
       "184  LP (50 epochs)           hybrid      small    CLASSIC_AT   \n",
       "185  LP (50 epochs)           hybrid      small     TRADES_v2   \n",
       "\n",
       "    pre_training_dataset  volume_pre_training_data_scaled  \\\n",
       "0                   in1k                           0.0000   \n",
       "1                   in1k                           0.0000   \n",
       "2                   in1k                           0.0000   \n",
       "3                  in22k                           0.0055   \n",
       "4                  in22k                           0.0055   \n",
       "..                   ...                              ...   \n",
       "181           in12k+in1k                           0.0039   \n",
       "182                 in1k                           0.0000   \n",
       "183                 in1k                           0.0000   \n",
       "184                 in1k                           0.0000   \n",
       "185                 in1k                           0.0000   \n",
       "\n",
       "    pre_training_strategy    sum   geom  total_borda_rank  \n",
       "0         self-supervised 1.5274 0.0000        24491.0000  \n",
       "1              supervised 2.7160 0.0069        20892.0000  \n",
       "2     supervised (robust) 1.4185 0.0000        22856.0000  \n",
       "3         self-supervised 1.9997 0.0000        22699.0000  \n",
       "4              supervised 0.7851 0.0000        25784.0000  \n",
       "..                    ...    ...    ...               ...  \n",
       "181            supervised 7.0916 0.0000        17942.0000  \n",
       "182            supervised 4.0200 0.0000        21669.0000  \n",
       "183            supervised 5.3774 0.0000        19459.0000  \n",
       "184            supervised 1.8952 0.0000        81791.0000  \n",
       "185            supervised 6.3551 0.0000        73981.0000  \n",
       "\n",
       "[186 rows x 10 columns]"
      ]
     },
     "execution_count": 48,
     "metadata": {},
     "output_type": "execute_result"
    }
   ],
   "source": [
    "import pandas as pd\n",
    "from sklearn.preprocessing import StandardScaler, MinMaxScaler\n",
    "\n",
    "scaler = MinMaxScaler()\n",
    "df['volume_pre_training_data_scaled'] = scaler.fit_transform(df[['volume_pre_training_data']])\n",
    "\n",
    "# Features that define a unique configuration\n",
    "group_cols = [\n",
    "    'ft_strategy',\n",
    "    'model_type',\n",
    "    'model_size',\n",
    "    'loss_function',\n",
    "    'pre_training_dataset',\n",
    "    'volume_pre_training_data_scaled',\n",
    "    'pre_training_strategy'\n",
    "]\n",
    "\n",
    "# Metrics to sum over datasets\n",
    "metrics_cols = ['sum', 'geom', 'total_borda_rank']\n",
    "\n",
    "# Group by configuration and sum the metrics\n",
    "grouped_df = df.groupby(group_cols, as_index=False)[metrics_cols].sum()\n",
    "\n",
    "# Display the result\n",
    "grouped_df\n"
   ]
  },
  {
   "cell_type": "code",
   "execution_count": 34,
   "metadata": {},
   "outputs": [],
   "source": [
    "df.to_csv(\"global_results.csv\")"
   ]
  },
  {
   "cell_type": "code",
   "execution_count": null,
   "metadata": {},
   "outputs": [],
   "source": [
    "from sklearn.preprocessing import StandardScaler, MinMaxScaler\n",
    "\n",
    "# scaler = StandardScaler()\n",
    "# df['volume_pre_training_data_scaled'] = scaler.fit_transform(df[['volume_pre_training_data']])\n",
    "\n"
   ]
  },
  {
   "cell_type": "code",
   "execution_count": 57,
   "metadata": {},
   "outputs": [
    {
     "name": "stdout",
     "output_type": "stream",
     "text": [
      "\n",
      "================ Regression and Pearson correlation for FFT (50 epochs) ================\n",
      "\n",
      "                                 OLS Regression Results                                \n",
      "=======================================================================================\n",
      "Dep. Variable:     normalized_total_borda_rank   R-squared:                       0.476\n",
      "Model:                                     OLS   Adj. R-squared:                  0.361\n",
      "Method:                          Least Squares   F-statistic:                     4.129\n",
      "Date:                         Sat, 26 Apr 2025   Prob (F-statistic):           0.000247\n",
      "Time:                                 19:18:05   Log-Likelihood:                 23.902\n",
      "No. Observations:                           62   AIC:                            -23.80\n",
      "Df Residuals:                               50   BIC:                             1.721\n",
      "Df Model:                                   11                                         \n",
      "Covariance Type:                     nonrobust                                         \n",
      "=======================================================================================================================================================\n",
      "                                                                                          coef    std err          t      P>|t|      [0.025      0.975]\n",
      "-------------------------------------------------------------------------------------------------------------------------------------------------------\n",
      "const                                                                                   0.1988      0.071      2.794      0.007       0.056       0.342\n",
      "model_type_fully convolutional                                                          0.0052      0.081      0.065      0.949      -0.157       0.167\n",
      "model_type_hybrid                                                                      -0.0680      0.041     -1.657      0.104      -0.150       0.014\n",
      "model_size_medium                                                                       0.1833      0.054      3.372      0.001       0.074       0.293\n",
      "model_size_small                                                                        0.4719      0.086      5.482      0.000       0.299       0.645\n",
      "loss_function_TRADES_v2                                                                -0.0617      0.047     -1.325      0.191      -0.155       0.032\n",
      "pre_training_strategy_self-supervised                                                  -0.0256      0.090     -0.283      0.778      -0.207       0.156\n",
      "pre_training_strategy_self-supervised (multimodal)                                      0.0349      0.096      0.361      0.719      -0.159       0.229\n",
      "pre_training_strategy_supervised                                                        0.0504      0.079      0.635      0.529      -0.109       0.210\n",
      "pre_training_strategy_supervised (robust)                                              -0.0429      0.098     -0.439      0.663      -0.239       0.153\n",
      "model_type_fully convolutional x pre_training_strategy_self-supervised               2.521e-18   3.97e-17      0.063      0.950   -7.73e-17    8.23e-17\n",
      "model_type_fully convolutional x pre_training_strategy_self-supervised (multimodal)    -0.1308      0.133     -0.983      0.330      -0.398       0.136\n",
      "model_type_fully convolutional x pre_training_strategy_supervised                      -0.0852      0.099     -0.865      0.391      -0.283       0.113\n",
      "model_type_fully convolutional x pre_training_strategy_supervised (robust)              0.0393      0.133      0.295      0.769      -0.228       0.306\n",
      "model_type_hybrid x pre_training_strategy_self-supervised                                    0          0        nan        nan           0           0\n",
      "model_type_hybrid x pre_training_strategy_self-supervised (multimodal)                       0          0        nan        nan           0           0\n",
      "model_type_hybrid x pre_training_strategy_supervised                                   -0.0680      0.041     -1.657      0.104      -0.150       0.014\n",
      "model_type_hybrid x pre_training_strategy_supervised (robust)                                0          0        nan        nan           0           0\n",
      "==============================================================================\n",
      "Omnibus:                       17.737   Durbin-Watson:                   1.684\n",
      "Prob(Omnibus):                  0.000   Jarque-Bera (JB):               35.339\n",
      "Skew:                           0.868   Prob(JB):                     2.12e-08\n",
      "Kurtosis:                       6.266   Cond. No.                          inf\n",
      "==============================================================================\n",
      "\n",
      "Notes:\n",
      "[1] Standard Errors assume that the covariance matrix of the errors is correctly specified.\n",
      "[2] The smallest eigenvalue is      0. This might indicate that there are\n",
      "strong multicollinearity problems or that the design matrix is singular.\n",
      "\n",
      "--- Pearson correlation for each base feature ---\n",
      "Feature: model_type_fully convolutional           | Pearson r = -0.092, p-value = 0.479\n",
      "Feature: model_type_hybrid                        | Pearson r = -0.028, p-value = 0.828\n",
      "Feature: model_size_medium                        | Pearson r = 0.254, p-value = 0.046\n",
      "Feature: model_size_small                         | Pearson r = 0.512, p-value = 0.000\n",
      "Feature: loss_function_TRADES_v2                  | Pearson r = -0.136, p-value = 0.293\n",
      "Feature: pre_training_strategy_self-supervised    | Pearson r = -0.049, p-value = 0.705\n",
      "Feature: pre_training_strategy_self-supervised (multimodal) | Pearson r = -0.208, p-value = 0.105\n",
      "Feature: pre_training_strategy_supervised         | Pearson r = 0.228, p-value = 0.075\n",
      "Feature: pre_training_strategy_supervised (robust) | Pearson r = -0.041, p-value = 0.754\n",
      "\n",
      "================ Regression and Pearson correlation for FFT (5 epochs) ================\n",
      "\n",
      "                                 OLS Regression Results                                \n",
      "=======================================================================================\n",
      "Dep. Variable:     normalized_total_borda_rank   R-squared:                       0.433\n",
      "Model:                                     OLS   Adj. R-squared:                  0.308\n",
      "Method:                          Least Squares   F-statistic:                     3.468\n",
      "Date:                         Sat, 26 Apr 2025   Prob (F-statistic):            0.00122\n",
      "Time:                                 19:18:05   Log-Likelihood:                 16.485\n",
      "No. Observations:                           62   AIC:                            -8.970\n",
      "Df Residuals:                               50   BIC:                             16.56\n",
      "Df Model:                                   11                                         \n",
      "Covariance Type:                     nonrobust                                         \n",
      "=======================================================================================================================================================\n",
      "                                                                                          coef    std err          t      P>|t|      [0.025      0.975]\n",
      "-------------------------------------------------------------------------------------------------------------------------------------------------------\n",
      "const                                                                                   0.0704      0.080      0.877      0.385      -0.091       0.231\n",
      "model_type_fully convolutional                                                          0.0083      0.091      0.091      0.928      -0.174       0.191\n",
      "model_type_hybrid                                                                       0.0036      0.046      0.077      0.939      -0.089       0.096\n",
      "model_size_medium                                                                       0.1012      0.061      1.652      0.105      -0.022       0.224\n",
      "model_size_small                                                                        0.4988      0.097      5.141      0.000       0.304       0.694\n",
      "loss_function_TRADES_v2                                                                -0.0329      0.052     -0.626      0.534      -0.138       0.073\n",
      "pre_training_strategy_self-supervised                                                   0.0059      0.102      0.058      0.954      -0.199       0.210\n",
      "pre_training_strategy_self-supervised (multimodal)                                      0.0236      0.109      0.217      0.829      -0.195       0.242\n",
      "pre_training_strategy_supervised                                                        0.0911      0.090      1.016      0.314      -0.089       0.271\n",
      "pre_training_strategy_supervised (robust)                                              -0.0206      0.110     -0.187      0.853      -0.242       0.201\n",
      "model_type_fully convolutional x pre_training_strategy_self-supervised              -6.779e-18   4.48e-17     -0.151      0.880   -9.67e-17    8.32e-17\n",
      "model_type_fully convolutional x pre_training_strategy_self-supervised (multimodal)    -0.0274      0.150     -0.183      0.856      -0.329       0.274\n",
      "model_type_fully convolutional x pre_training_strategy_supervised                      -0.0093      0.111     -0.084      0.933      -0.232       0.214\n",
      "model_type_fully convolutional x pre_training_strategy_supervised (robust)              0.0746      0.150      0.498      0.621      -0.227       0.376\n",
      "model_type_hybrid x pre_training_strategy_self-supervised                                    0          0        nan        nan           0           0\n",
      "model_type_hybrid x pre_training_strategy_self-supervised (multimodal)                       0          0        nan        nan           0           0\n",
      "model_type_hybrid x pre_training_strategy_supervised                                    0.0036      0.046      0.077      0.939      -0.089       0.096\n",
      "model_type_hybrid x pre_training_strategy_supervised (robust)                                0          0        nan        nan           0           0\n",
      "==============================================================================\n",
      "Omnibus:                       10.984   Durbin-Watson:                   1.545\n",
      "Prob(Omnibus):                  0.004   Jarque-Bera (JB):               20.429\n",
      "Skew:                           0.478   Prob(JB):                     3.66e-05\n",
      "Kurtosis:                       5.645   Cond. No.                          inf\n",
      "==============================================================================\n",
      "\n",
      "Notes:\n",
      "[1] Standard Errors assume that the covariance matrix of the errors is correctly specified.\n",
      "[2] The smallest eigenvalue is      0. This might indicate that there are\n",
      "strong multicollinearity problems or that the design matrix is singular.\n",
      "\n",
      "--- Pearson correlation for each base feature ---\n",
      "Feature: model_type_fully convolutional           | Pearson r = -0.012, p-value = 0.928\n",
      "Feature: model_type_hybrid                        | Pearson r = 0.164, p-value = 0.203\n",
      "Feature: model_size_medium                        | Pearson r = 0.064, p-value = 0.624\n",
      "Feature: model_size_small                         | Pearson r = 0.596, p-value = 0.000\n",
      "Feature: loss_function_TRADES_v2                  | Pearson r = -0.067, p-value = 0.606\n",
      "Feature: pre_training_strategy_self-supervised    | Pearson r = -0.136, p-value = 0.293\n",
      "Feature: pre_training_strategy_self-supervised (multimodal) | Pearson r = -0.202, p-value = 0.115\n",
      "Feature: pre_training_strategy_supervised         | Pearson r = 0.341, p-value = 0.007\n",
      "Feature: pre_training_strategy_supervised (robust) | Pearson r = -0.112, p-value = 0.385\n",
      "\n",
      "================ Regression and Pearson correlation for LP (50 epochs) ================\n",
      "\n",
      "                                 OLS Regression Results                                \n",
      "=======================================================================================\n",
      "Dep. Variable:     normalized_total_borda_rank   R-squared:                       0.439\n",
      "Model:                                     OLS   Adj. R-squared:                  0.316\n",
      "Method:                          Least Squares   F-statistic:                     3.556\n",
      "Date:                         Sat, 26 Apr 2025   Prob (F-statistic):           0.000979\n",
      "Time:                                 19:18:05   Log-Likelihood:                 20.609\n",
      "No. Observations:                           62   AIC:                            -17.22\n",
      "Df Residuals:                               50   BIC:                             8.308\n",
      "Df Model:                                   11                                         \n",
      "Covariance Type:                     nonrobust                                         \n",
      "=======================================================================================================================================================\n",
      "                                                                                          coef    std err          t      P>|t|      [0.025      0.975]\n",
      "-------------------------------------------------------------------------------------------------------------------------------------------------------\n",
      "const                                                                                   0.0829      0.075      1.105      0.274      -0.068       0.234\n",
      "model_type_fully convolutional                                                          0.0124      0.085      0.146      0.885      -0.158       0.183\n",
      "model_type_hybrid                                                                      -0.0030      0.043     -0.070      0.945      -0.090       0.084\n",
      "model_size_medium                                                                       0.0983      0.057      1.714      0.093      -0.017       0.213\n",
      "model_size_small                                                                        0.4839      0.091      5.331      0.000       0.302       0.666\n",
      "loss_function_TRADES_v2                                                                -0.0181      0.049     -0.369      0.714      -0.117       0.080\n",
      "pre_training_strategy_self-supervised                                                   0.0286      0.095      0.300      0.765      -0.163       0.220\n",
      "pre_training_strategy_self-supervised (multimodal)                                      0.0214      0.102      0.210      0.834      -0.183       0.226\n",
      "pre_training_strategy_supervised                                                        0.0926      0.084      1.105      0.275      -0.076       0.261\n",
      "pre_training_strategy_supervised (robust)                                              -0.0299      0.103     -0.290      0.773      -0.237       0.177\n",
      "model_type_fully convolutional x pre_training_strategy_self-supervised              -5.712e-18   4.19e-17     -0.136      0.892   -8.99e-17    7.84e-17\n",
      "model_type_fully convolutional x pre_training_strategy_self-supervised (multimodal)    -0.0135      0.140     -0.096      0.924      -0.295       0.268\n",
      "model_type_fully convolutional x pre_training_strategy_supervised                      -0.0296      0.104     -0.285      0.777      -0.238       0.179\n",
      "model_type_fully convolutional x pre_training_strategy_supervised (robust)              0.0853      0.140      0.608      0.546      -0.197       0.367\n",
      "model_type_hybrid x pre_training_strategy_self-supervised                                    0          0        nan        nan           0           0\n",
      "model_type_hybrid x pre_training_strategy_self-supervised (multimodal)                       0          0        nan        nan           0           0\n",
      "model_type_hybrid x pre_training_strategy_supervised                                   -0.0030      0.043     -0.070      0.945      -0.090       0.084\n",
      "model_type_hybrid x pre_training_strategy_supervised (robust)                                0          0        nan        nan           0           0\n",
      "==============================================================================\n",
      "Omnibus:                       14.398   Durbin-Watson:                   1.676\n",
      "Prob(Omnibus):                  0.001   Jarque-Bera (JB):               30.387\n",
      "Skew:                           0.638   Prob(JB):                     2.52e-07\n",
      "Kurtosis:                       6.184   Cond. No.                          inf\n",
      "==============================================================================\n",
      "\n",
      "Notes:\n",
      "[1] Standard Errors assume that the covariance matrix of the errors is correctly specified.\n",
      "[2] The smallest eigenvalue is      0. This might indicate that there are\n",
      "strong multicollinearity problems or that the design matrix is singular.\n",
      "\n",
      "--- Pearson correlation for each base feature ---\n",
      "Feature: model_type_fully convolutional           | Pearson r = -0.025, p-value = 0.848\n",
      "Feature: model_type_hybrid                        | Pearson r = 0.153, p-value = 0.235\n",
      "Feature: model_size_medium                        | Pearson r = 0.066, p-value = 0.611\n",
      "Feature: model_size_small                         | Pearson r = 0.606, p-value = 0.000\n",
      "Feature: loss_function_TRADES_v2                  | Pearson r = -0.039, p-value = 0.763\n",
      "Feature: pre_training_strategy_self-supervised    | Pearson r = -0.103, p-value = 0.424\n",
      "Feature: pre_training_strategy_self-supervised (multimodal) | Pearson r = -0.198, p-value = 0.123\n",
      "Feature: pre_training_strategy_supervised         | Pearson r = 0.322, p-value = 0.011\n",
      "Feature: pre_training_strategy_supervised (robust) | Pearson r = -0.119, p-value = 0.355\n"
     ]
    },
    {
     "name": "stderr",
     "output_type": "stream",
     "text": [
      "/Users/maximeheuillet/opt/anaconda3/lib/python3.9/site-packages/statsmodels/regression/linear_model.py:1918: RuntimeWarning: divide by zero encountered in double_scalars\n",
      "  return np.sqrt(eigvals[0]/eigvals[-1])\n",
      "/Users/maximeheuillet/opt/anaconda3/lib/python3.9/site-packages/statsmodels/regression/linear_model.py:1918: RuntimeWarning: divide by zero encountered in double_scalars\n",
      "  return np.sqrt(eigvals[0]/eigvals[-1])\n",
      "/Users/maximeheuillet/opt/anaconda3/lib/python3.9/site-packages/statsmodels/regression/linear_model.py:1918: RuntimeWarning: divide by zero encountered in double_scalars\n",
      "  return np.sqrt(eigvals[0]/eigvals[-1])\n"
     ]
    }
   ],
   "source": [
    "import pandas as pd\n",
    "import statsmodels.api as sm\n",
    "from scipy.stats import pearsonr\n",
    "\n",
    "# Features to use\n",
    "features = [\n",
    "    'model_type',\n",
    "    'model_size',\n",
    "    'loss_function',\n",
    "    #'pre_training_dataset',\n",
    "    #'volume_pre_training_data_scaled',\n",
    "    'pre_training_strategy',\n",
    "]\n",
    "target = 'normalized_total_borda_rank'\n",
    "\n",
    "# Loop over each ft_strategy\n",
    "for ft_strategy in [ \"FFT (50 epochs)\", \"FFT (5 epochs)\", \"LP (50 epochs)\" ]: #\n",
    "    print(f\"\\n================ Regression and Pearson correlation for {ft_strategy} ================\\n\")\n",
    "    \n",
    "    # Subset\n",
    "    #sub_df = grouped_df[grouped_df['ft_strategy'] == ft_strategy]\n",
    "    sub_df = grouped_df[grouped_df['ft_strategy'] == ft_strategy].copy()\n",
    "\n",
    "\n",
    "\n",
    "    scaler = MinMaxScaler()\n",
    "    sub_df['normalized_total_borda_rank'] = scaler.fit_transform(sub_df[['total_borda_rank']])\n",
    "        \n",
    "    # Encode categorical variables\n",
    "    base_encoded = pd.get_dummies(sub_df[features], drop_first=True)\n",
    "    \n",
    "    # Start with base features\n",
    "    X = base_encoded.copy()\n",
    "    \n",
    "    # Manually add only selected interactions\n",
    "    # model_type × pre_training_strategy\n",
    "    model_type_cols = [col for col in base_encoded.columns if col.startswith('model_type_')]\n",
    "    pretrain_strategy_cols = [col for col in base_encoded.columns if col.startswith('pre_training_strategy_')]\n",
    "    for mt in model_type_cols:\n",
    "        for ps in pretrain_strategy_cols:\n",
    "            X[f\"{mt} x {ps}\"] = base_encoded[mt] * base_encoded[ps]\n",
    "    \n",
    "    # model_type × loss_function\n",
    "    loss_function_cols = [col for col in base_encoded.columns if col.startswith('loss_function_')]\n",
    "    # for mt in model_type_cols:\n",
    "    #     for lf in loss_function_cols:\n",
    "    #         X[f\"{mt} x {lf}\"] = base_encoded[mt] * base_encoded[lf]\n",
    "    \n",
    "    # model_size × pre_training_strategy\n",
    "    # model_size_cols = [col for col in base_encoded.columns if col.startswith('model_size_')]\n",
    "    # for ms in model_size_cols:\n",
    "    #     for ps in pretrain_strategy_cols:\n",
    "    #         X[f\"{ms} x {ps}\"] = base_encoded[ms] * base_encoded[ps]\n",
    "    \n",
    "    # model_size × loss_function\n",
    "    # for ms in model_size_cols:\n",
    "    #     for lf in loss_function_cols:\n",
    "    #         X[f\"{ms} x {lf}\"] = base_encoded[ms] * base_encoded[lf]\n",
    "    \n",
    "    # Target variable\n",
    "    y = sub_df[target]\n",
    "    \n",
    "    # Add constant\n",
    "    X = sm.add_constant(X)\n",
    "\n",
    "    # Regression\n",
    "    model = sm.OLS(y, X).fit()\n",
    "    print(model.summary())\n",
    "\n",
    "    # Pearson correlation for each **base feature** (not interaction terms)\n",
    "    print(\"\\n--- Pearson correlation for each base feature ---\")\n",
    "    for col in base_encoded.columns:\n",
    "        corr, pval = pearsonr(base_encoded[col], y)\n",
    "        print(f\"Feature: {col:40s} | Pearson r = {corr:.3f}, p-value = {pval:.3f}\")\n",
    "\n"
   ]
  },
  {
   "cell_type": "code",
   "execution_count": null,
   "metadata": {},
   "outputs": [
    {
     "name": "stdout",
     "output_type": "stream",
     "text": [
      "\n",
      "================ Random Forest Regression, Feature Importance, SHAP, and Correlations for LP (50 epochs) ================\n",
      "\n",
      "Training R² score: 0.329\n",
      "\n",
      "--- Combined Feature Importances and Correlations ---\n"
     ]
    },
    {
     "name": "stderr",
     "output_type": "stream",
     "text": [
      "/Users/maximeheuillet/opt/anaconda3/lib/python3.9/site-packages/scipy/stats/_stats_py.py:4068: PearsonRConstantInputWarning: An input array is constant; the correlation coefficient is not defined.\n",
      "  warnings.warn(PearsonRConstantInputWarning())\n",
      "/Users/maximeheuillet/opt/anaconda3/lib/python3.9/site-packages/scipy/stats/_stats_py.py:4529: SpearmanRConstantInputWarning: An input array is constant; the correlation coefficient is not defined.\n",
      "  warnings.warn(SpearmanRConstantInputWarning())\n"
     ]
    },
    {
     "data": {
      "text/html": [
       "<div>\n",
       "<style scoped>\n",
       "    .dataframe tbody tr th:only-of-type {\n",
       "        vertical-align: middle;\n",
       "    }\n",
       "\n",
       "    .dataframe tbody tr th {\n",
       "        vertical-align: top;\n",
       "    }\n",
       "\n",
       "    .dataframe thead th {\n",
       "        text-align: right;\n",
       "    }\n",
       "</style>\n",
       "<table border=\"1\" class=\"dataframe\">\n",
       "  <thead>\n",
       "    <tr style=\"text-align: right;\">\n",
       "      <th></th>\n",
       "      <th>RandomForest_FeatureImportance</th>\n",
       "      <th>SHAP_Importance</th>\n",
       "      <th>Pearson_r</th>\n",
       "      <th>Pearson_pval</th>\n",
       "      <th>Spearman_r</th>\n",
       "      <th>Spearman_pval</th>\n",
       "    </tr>\n",
       "  </thead>\n",
       "  <tbody>\n",
       "    <tr>\n",
       "      <th>model_size_medium x pre_training_strategy_supervised (robust)</th>\n",
       "      <td>0.2469</td>\n",
       "      <td>0.0011</td>\n",
       "      <td>-0.3147</td>\n",
       "      <td>0.0000</td>\n",
       "      <td>-0.1983</td>\n",
       "      <td>0.0000</td>\n",
       "    </tr>\n",
       "    <tr>\n",
       "      <th>volume_pre_training_data_scaled</th>\n",
       "      <td>0.0989</td>\n",
       "      <td>0.0016</td>\n",
       "      <td>-0.1457</td>\n",
       "      <td>0.0014</td>\n",
       "      <td>-0.2486</td>\n",
       "      <td>0.0000</td>\n",
       "    </tr>\n",
       "    <tr>\n",
       "      <th>model_size_medium</th>\n",
       "      <td>0.0797</td>\n",
       "      <td>0.0002</td>\n",
       "      <td>-0.0179</td>\n",
       "      <td>0.6953</td>\n",
       "      <td>0.0358</td>\n",
       "      <td>0.4344</td>\n",
       "    </tr>\n",
       "    <tr>\n",
       "      <th>pre_training_dataset_in1k</th>\n",
       "      <td>0.0701</td>\n",
       "      <td>0.0014</td>\n",
       "      <td>0.1771</td>\n",
       "      <td>0.0001</td>\n",
       "      <td>0.2431</td>\n",
       "      <td>0.0000</td>\n",
       "    </tr>\n",
       "    <tr>\n",
       "      <th>model_type_fully convolutional x loss_function_TRADES_v2</th>\n",
       "      <td>0.0619</td>\n",
       "      <td>0.0001</td>\n",
       "      <td>-0.1682</td>\n",
       "      <td>0.0002</td>\n",
       "      <td>-0.1702</td>\n",
       "      <td>0.0002</td>\n",
       "    </tr>\n",
       "    <tr>\n",
       "      <th>loss_function_TRADES_v2</th>\n",
       "      <td>0.0578</td>\n",
       "      <td>-0.0001</td>\n",
       "      <td>-0.0908</td>\n",
       "      <td>0.0468</td>\n",
       "      <td>-0.1005</td>\n",
       "      <td>0.0276</td>\n",
       "    </tr>\n",
       "    <tr>\n",
       "      <th>model_type_fully convolutional</th>\n",
       "      <td>0.0450</td>\n",
       "      <td>-0.0002</td>\n",
       "      <td>-0.1645</td>\n",
       "      <td>0.0003</td>\n",
       "      <td>-0.1578</td>\n",
       "      <td>0.0005</td>\n",
       "    </tr>\n",
       "    <tr>\n",
       "      <th>pre_training_strategy_self-supervised</th>\n",
       "      <td>0.0367</td>\n",
       "      <td>-0.0015</td>\n",
       "      <td>0.1246</td>\n",
       "      <td>0.0063</td>\n",
       "      <td>0.1274</td>\n",
       "      <td>0.0052</td>\n",
       "    </tr>\n",
       "    <tr>\n",
       "      <th>model_size_small x pre_training_strategy_supervised</th>\n",
       "      <td>0.0342</td>\n",
       "      <td>-0.0005</td>\n",
       "      <td>0.2585</td>\n",
       "      <td>0.0000</td>\n",
       "      <td>0.2645</td>\n",
       "      <td>0.0000</td>\n",
       "    </tr>\n",
       "    <tr>\n",
       "      <th>model_type_fully convolutional x pre_training_strategy_supervised (robust)</th>\n",
       "      <td>0.0329</td>\n",
       "      <td>-0.0012</td>\n",
       "      <td>-0.2183</td>\n",
       "      <td>0.0000</td>\n",
       "      <td>-0.1347</td>\n",
       "      <td>0.0031</td>\n",
       "    </tr>\n",
       "    <tr>\n",
       "      <th>model_size_small</th>\n",
       "      <td>0.0326</td>\n",
       "      <td>-0.0004</td>\n",
       "      <td>0.2585</td>\n",
       "      <td>0.0000</td>\n",
       "      <td>0.2645</td>\n",
       "      <td>0.0000</td>\n",
       "    </tr>\n",
       "    <tr>\n",
       "      <th>pre_training_dataset_in22k</th>\n",
       "      <td>0.0248</td>\n",
       "      <td>0.0000</td>\n",
       "      <td>-0.0002</td>\n",
       "      <td>0.9958</td>\n",
       "      <td>-0.0161</td>\n",
       "      <td>0.7249</td>\n",
       "    </tr>\n",
       "    <tr>\n",
       "      <th>model_size_medium x loss_function_TRADES_v2</th>\n",
       "      <td>0.0240</td>\n",
       "      <td>-0.0000</td>\n",
       "      <td>-0.0378</td>\n",
       "      <td>0.4080</td>\n",
       "      <td>-0.0140</td>\n",
       "      <td>0.7596</td>\n",
       "    </tr>\n",
       "    <tr>\n",
       "      <th>pre_training_strategy_supervised</th>\n",
       "      <td>0.0190</td>\n",
       "      <td>0.0005</td>\n",
       "      <td>0.1831</td>\n",
       "      <td>0.0001</td>\n",
       "      <td>0.1362</td>\n",
       "      <td>0.0028</td>\n",
       "    </tr>\n",
       "    <tr>\n",
       "      <th>model_type_fully convolutional x pre_training_strategy_supervised</th>\n",
       "      <td>0.0171</td>\n",
       "      <td>0.0001</td>\n",
       "      <td>0.0166</td>\n",
       "      <td>0.7162</td>\n",
       "      <td>-0.0100</td>\n",
       "      <td>0.8270</td>\n",
       "    </tr>\n",
       "    <tr>\n",
       "      <th>model_type_hybrid x pre_training_strategy_supervised</th>\n",
       "      <td>0.0169</td>\n",
       "      <td>-0.0008</td>\n",
       "      <td>0.0951</td>\n",
       "      <td>0.0373</td>\n",
       "      <td>0.0839</td>\n",
       "      <td>0.0661</td>\n",
       "    </tr>\n",
       "    <tr>\n",
       "      <th>model_size_medium x pre_training_strategy_supervised</th>\n",
       "      <td>0.0165</td>\n",
       "      <td>0.0002</td>\n",
       "      <td>0.0978</td>\n",
       "      <td>0.0321</td>\n",
       "      <td>0.0823</td>\n",
       "      <td>0.0715</td>\n",
       "    </tr>\n",
       "    <tr>\n",
       "      <th>model_type_hybrid</th>\n",
       "      <td>0.0164</td>\n",
       "      <td>-0.0008</td>\n",
       "      <td>0.0951</td>\n",
       "      <td>0.0373</td>\n",
       "      <td>0.0839</td>\n",
       "      <td>0.0661</td>\n",
       "    </tr>\n",
       "    <tr>\n",
       "      <th>model_type_hybrid x loss_function_TRADES_v2</th>\n",
       "      <td>0.0134</td>\n",
       "      <td>0.0001</td>\n",
       "      <td>0.0185</td>\n",
       "      <td>0.6863</td>\n",
       "      <td>0.0020</td>\n",
       "      <td>0.9657</td>\n",
       "    </tr>\n",
       "    <tr>\n",
       "      <th>model_size_medium x pre_training_strategy_self-supervised</th>\n",
       "      <td>0.0097</td>\n",
       "      <td>-0.0002</td>\n",
       "      <td>0.1462</td>\n",
       "      <td>0.0013</td>\n",
       "      <td>0.1555</td>\n",
       "      <td>0.0006</td>\n",
       "    </tr>\n",
       "    <tr>\n",
       "      <th>model_size_small x loss_function_TRADES_v2</th>\n",
       "      <td>0.0090</td>\n",
       "      <td>0.0003</td>\n",
       "      <td>0.1354</td>\n",
       "      <td>0.0030</td>\n",
       "      <td>0.1344</td>\n",
       "      <td>0.0032</td>\n",
       "    </tr>\n",
       "    <tr>\n",
       "      <th>pre_training_dataset_in22k+in1k</th>\n",
       "      <td>0.0089</td>\n",
       "      <td>-0.0001</td>\n",
       "      <td>-0.0495</td>\n",
       "      <td>0.2788</td>\n",
       "      <td>-0.0748</td>\n",
       "      <td>0.1018</td>\n",
       "    </tr>\n",
       "    <tr>\n",
       "      <th>pre_training_strategy_supervised (robust)</th>\n",
       "      <td>0.0052</td>\n",
       "      <td>-0.0002</td>\n",
       "      <td>-0.2318</td>\n",
       "      <td>0.0000</td>\n",
       "      <td>-0.1277</td>\n",
       "      <td>0.0051</td>\n",
       "    </tr>\n",
       "    <tr>\n",
       "      <th>pre_training_dataset_laion2B</th>\n",
       "      <td>0.0050</td>\n",
       "      <td>-0.0001</td>\n",
       "      <td>-0.0752</td>\n",
       "      <td>0.1000</td>\n",
       "      <td>-0.0973</td>\n",
       "      <td>0.0331</td>\n",
       "    </tr>\n",
       "    <tr>\n",
       "      <th>pre_training_dataset_in12k+in1k</th>\n",
       "      <td>0.0049</td>\n",
       "      <td>0.0003</td>\n",
       "      <td>-0.0900</td>\n",
       "      <td>0.0487</td>\n",
       "      <td>-0.1089</td>\n",
       "      <td>0.0170</td>\n",
       "    </tr>\n",
       "    <tr>\n",
       "      <th>pre_training_dataset_laion_aesthetic</th>\n",
       "      <td>0.0039</td>\n",
       "      <td>-0.0002</td>\n",
       "      <td>-0.0442</td>\n",
       "      <td>0.3341</td>\n",
       "      <td>-0.0575</td>\n",
       "      <td>0.2086</td>\n",
       "    </tr>\n",
       "    <tr>\n",
       "      <th>pre_training_dataset_laion2b+in1k</th>\n",
       "      <td>0.0034</td>\n",
       "      <td>0.0001</td>\n",
       "      <td>-0.0832</td>\n",
       "      <td>0.0686</td>\n",
       "      <td>-0.1024</td>\n",
       "      <td>0.0249</td>\n",
       "    </tr>\n",
       "    <tr>\n",
       "      <th>model_type_fully convolutional x pre_training_strategy_self-supervised (multimodal)</th>\n",
       "      <td>0.0022</td>\n",
       "      <td>0.0000</td>\n",
       "      <td>-0.0848</td>\n",
       "      <td>0.0635</td>\n",
       "      <td>-0.1042</td>\n",
       "      <td>0.0224</td>\n",
       "    </tr>\n",
       "    <tr>\n",
       "      <th>pre_training_strategy_self-supervised (multimodal)</th>\n",
       "      <td>0.0018</td>\n",
       "      <td>-0.0000</td>\n",
       "      <td>-0.1209</td>\n",
       "      <td>0.0080</td>\n",
       "      <td>-0.1539</td>\n",
       "      <td>0.0007</td>\n",
       "    </tr>\n",
       "    <tr>\n",
       "      <th>pre_training_dataset_laion2b+in12k+in1k</th>\n",
       "      <td>0.0011</td>\n",
       "      <td>-0.0000</td>\n",
       "      <td>-0.0755</td>\n",
       "      <td>0.0984</td>\n",
       "      <td>-0.0947</td>\n",
       "      <td>0.0381</td>\n",
       "    </tr>\n",
       "    <tr>\n",
       "      <th>model_size_small x pre_training_strategy_self-supervised (multimodal)</th>\n",
       "      <td>0.0000</td>\n",
       "      <td>0.0000</td>\n",
       "      <td>NaN</td>\n",
       "      <td>NaN</td>\n",
       "      <td>NaN</td>\n",
       "      <td>NaN</td>\n",
       "    </tr>\n",
       "    <tr>\n",
       "      <th>model_size_small x pre_training_strategy_supervised (robust)</th>\n",
       "      <td>0.0000</td>\n",
       "      <td>0.0000</td>\n",
       "      <td>NaN</td>\n",
       "      <td>NaN</td>\n",
       "      <td>NaN</td>\n",
       "      <td>NaN</td>\n",
       "    </tr>\n",
       "    <tr>\n",
       "      <th>model_type_hybrid x pre_training_strategy_supervised (robust)</th>\n",
       "      <td>0.0000</td>\n",
       "      <td>0.0000</td>\n",
       "      <td>NaN</td>\n",
       "      <td>NaN</td>\n",
       "      <td>NaN</td>\n",
       "      <td>NaN</td>\n",
       "    </tr>\n",
       "    <tr>\n",
       "      <th>model_size_medium x pre_training_strategy_self-supervised (multimodal)</th>\n",
       "      <td>0.0000</td>\n",
       "      <td>0.0000</td>\n",
       "      <td>NaN</td>\n",
       "      <td>NaN</td>\n",
       "      <td>NaN</td>\n",
       "      <td>NaN</td>\n",
       "    </tr>\n",
       "    <tr>\n",
       "      <th>model_size_small x pre_training_strategy_self-supervised</th>\n",
       "      <td>0.0000</td>\n",
       "      <td>0.0000</td>\n",
       "      <td>NaN</td>\n",
       "      <td>NaN</td>\n",
       "      <td>NaN</td>\n",
       "      <td>NaN</td>\n",
       "    </tr>\n",
       "    <tr>\n",
       "      <th>model_type_fully convolutional x pre_training_strategy_self-supervised</th>\n",
       "      <td>0.0000</td>\n",
       "      <td>0.0000</td>\n",
       "      <td>NaN</td>\n",
       "      <td>NaN</td>\n",
       "      <td>NaN</td>\n",
       "      <td>NaN</td>\n",
       "    </tr>\n",
       "    <tr>\n",
       "      <th>model_type_hybrid x pre_training_strategy_self-supervised</th>\n",
       "      <td>0.0000</td>\n",
       "      <td>0.0000</td>\n",
       "      <td>NaN</td>\n",
       "      <td>NaN</td>\n",
       "      <td>NaN</td>\n",
       "      <td>NaN</td>\n",
       "    </tr>\n",
       "    <tr>\n",
       "      <th>model_type_hybrid x pre_training_strategy_self-supervised (multimodal)</th>\n",
       "      <td>0.0000</td>\n",
       "      <td>0.0000</td>\n",
       "      <td>NaN</td>\n",
       "      <td>NaN</td>\n",
       "      <td>NaN</td>\n",
       "      <td>NaN</td>\n",
       "    </tr>\n",
       "  </tbody>\n",
       "</table>\n",
       "</div>"
      ],
      "text/plain": [
       "                                                    RandomForest_FeatureImportance  \\\n",
       "model_size_medium x pre_training_strategy_super...                          0.2469   \n",
       "volume_pre_training_data_scaled                                             0.0989   \n",
       "model_size_medium                                                           0.0797   \n",
       "pre_training_dataset_in1k                                                   0.0701   \n",
       "model_type_fully convolutional x loss_function_...                          0.0619   \n",
       "loss_function_TRADES_v2                                                     0.0578   \n",
       "model_type_fully convolutional                                              0.0450   \n",
       "pre_training_strategy_self-supervised                                       0.0367   \n",
       "model_size_small x pre_training_strategy_superv...                          0.0342   \n",
       "model_type_fully convolutional x pre_training_s...                          0.0329   \n",
       "model_size_small                                                            0.0326   \n",
       "pre_training_dataset_in22k                                                  0.0248   \n",
       "model_size_medium x loss_function_TRADES_v2                                 0.0240   \n",
       "pre_training_strategy_supervised                                            0.0190   \n",
       "model_type_fully convolutional x pre_training_s...                          0.0171   \n",
       "model_type_hybrid x pre_training_strategy_super...                          0.0169   \n",
       "model_size_medium x pre_training_strategy_super...                          0.0165   \n",
       "model_type_hybrid                                                           0.0164   \n",
       "model_type_hybrid x loss_function_TRADES_v2                                 0.0134   \n",
       "model_size_medium x pre_training_strategy_self-...                          0.0097   \n",
       "model_size_small x loss_function_TRADES_v2                                  0.0090   \n",
       "pre_training_dataset_in22k+in1k                                             0.0089   \n",
       "pre_training_strategy_supervised (robust)                                   0.0052   \n",
       "pre_training_dataset_laion2B                                                0.0050   \n",
       "pre_training_dataset_in12k+in1k                                             0.0049   \n",
       "pre_training_dataset_laion_aesthetic                                        0.0039   \n",
       "pre_training_dataset_laion2b+in1k                                           0.0034   \n",
       "model_type_fully convolutional x pre_training_s...                          0.0022   \n",
       "pre_training_strategy_self-supervised (multimodal)                          0.0018   \n",
       "pre_training_dataset_laion2b+in12k+in1k                                     0.0011   \n",
       "model_size_small x pre_training_strategy_self-s...                          0.0000   \n",
       "model_size_small x pre_training_strategy_superv...                          0.0000   \n",
       "model_type_hybrid x pre_training_strategy_super...                          0.0000   \n",
       "model_size_medium x pre_training_strategy_self-...                          0.0000   \n",
       "model_size_small x pre_training_strategy_self-s...                          0.0000   \n",
       "model_type_fully convolutional x pre_training_s...                          0.0000   \n",
       "model_type_hybrid x pre_training_strategy_self-...                          0.0000   \n",
       "model_type_hybrid x pre_training_strategy_self-...                          0.0000   \n",
       "\n",
       "                                                    SHAP_Importance  \\\n",
       "model_size_medium x pre_training_strategy_super...           0.0011   \n",
       "volume_pre_training_data_scaled                              0.0016   \n",
       "model_size_medium                                            0.0002   \n",
       "pre_training_dataset_in1k                                    0.0014   \n",
       "model_type_fully convolutional x loss_function_...           0.0001   \n",
       "loss_function_TRADES_v2                                     -0.0001   \n",
       "model_type_fully convolutional                              -0.0002   \n",
       "pre_training_strategy_self-supervised                       -0.0015   \n",
       "model_size_small x pre_training_strategy_superv...          -0.0005   \n",
       "model_type_fully convolutional x pre_training_s...          -0.0012   \n",
       "model_size_small                                            -0.0004   \n",
       "pre_training_dataset_in22k                                   0.0000   \n",
       "model_size_medium x loss_function_TRADES_v2                 -0.0000   \n",
       "pre_training_strategy_supervised                             0.0005   \n",
       "model_type_fully convolutional x pre_training_s...           0.0001   \n",
       "model_type_hybrid x pre_training_strategy_super...          -0.0008   \n",
       "model_size_medium x pre_training_strategy_super...           0.0002   \n",
       "model_type_hybrid                                           -0.0008   \n",
       "model_type_hybrid x loss_function_TRADES_v2                  0.0001   \n",
       "model_size_medium x pre_training_strategy_self-...          -0.0002   \n",
       "model_size_small x loss_function_TRADES_v2                   0.0003   \n",
       "pre_training_dataset_in22k+in1k                             -0.0001   \n",
       "pre_training_strategy_supervised (robust)                   -0.0002   \n",
       "pre_training_dataset_laion2B                                -0.0001   \n",
       "pre_training_dataset_in12k+in1k                              0.0003   \n",
       "pre_training_dataset_laion_aesthetic                        -0.0002   \n",
       "pre_training_dataset_laion2b+in1k                            0.0001   \n",
       "model_type_fully convolutional x pre_training_s...           0.0000   \n",
       "pre_training_strategy_self-supervised (multimodal)          -0.0000   \n",
       "pre_training_dataset_laion2b+in12k+in1k                     -0.0000   \n",
       "model_size_small x pre_training_strategy_self-s...           0.0000   \n",
       "model_size_small x pre_training_strategy_superv...           0.0000   \n",
       "model_type_hybrid x pre_training_strategy_super...           0.0000   \n",
       "model_size_medium x pre_training_strategy_self-...           0.0000   \n",
       "model_size_small x pre_training_strategy_self-s...           0.0000   \n",
       "model_type_fully convolutional x pre_training_s...           0.0000   \n",
       "model_type_hybrid x pre_training_strategy_self-...           0.0000   \n",
       "model_type_hybrid x pre_training_strategy_self-...           0.0000   \n",
       "\n",
       "                                                    Pearson_r  Pearson_pval  \\\n",
       "model_size_medium x pre_training_strategy_super...    -0.3147        0.0000   \n",
       "volume_pre_training_data_scaled                       -0.1457        0.0014   \n",
       "model_size_medium                                     -0.0179        0.6953   \n",
       "pre_training_dataset_in1k                              0.1771        0.0001   \n",
       "model_type_fully convolutional x loss_function_...    -0.1682        0.0002   \n",
       "loss_function_TRADES_v2                               -0.0908        0.0468   \n",
       "model_type_fully convolutional                        -0.1645        0.0003   \n",
       "pre_training_strategy_self-supervised                  0.1246        0.0063   \n",
       "model_size_small x pre_training_strategy_superv...     0.2585        0.0000   \n",
       "model_type_fully convolutional x pre_training_s...    -0.2183        0.0000   \n",
       "model_size_small                                       0.2585        0.0000   \n",
       "pre_training_dataset_in22k                            -0.0002        0.9958   \n",
       "model_size_medium x loss_function_TRADES_v2           -0.0378        0.4080   \n",
       "pre_training_strategy_supervised                       0.1831        0.0001   \n",
       "model_type_fully convolutional x pre_training_s...     0.0166        0.7162   \n",
       "model_type_hybrid x pre_training_strategy_super...     0.0951        0.0373   \n",
       "model_size_medium x pre_training_strategy_super...     0.0978        0.0321   \n",
       "model_type_hybrid                                      0.0951        0.0373   \n",
       "model_type_hybrid x loss_function_TRADES_v2            0.0185        0.6863   \n",
       "model_size_medium x pre_training_strategy_self-...     0.1462        0.0013   \n",
       "model_size_small x loss_function_TRADES_v2             0.1354        0.0030   \n",
       "pre_training_dataset_in22k+in1k                       -0.0495        0.2788   \n",
       "pre_training_strategy_supervised (robust)             -0.2318        0.0000   \n",
       "pre_training_dataset_laion2B                          -0.0752        0.1000   \n",
       "pre_training_dataset_in12k+in1k                       -0.0900        0.0487   \n",
       "pre_training_dataset_laion_aesthetic                  -0.0442        0.3341   \n",
       "pre_training_dataset_laion2b+in1k                     -0.0832        0.0686   \n",
       "model_type_fully convolutional x pre_training_s...    -0.0848        0.0635   \n",
       "pre_training_strategy_self-supervised (multimodal)    -0.1209        0.0080   \n",
       "pre_training_dataset_laion2b+in12k+in1k               -0.0755        0.0984   \n",
       "model_size_small x pre_training_strategy_self-s...        NaN           NaN   \n",
       "model_size_small x pre_training_strategy_superv...        NaN           NaN   \n",
       "model_type_hybrid x pre_training_strategy_super...        NaN           NaN   \n",
       "model_size_medium x pre_training_strategy_self-...        NaN           NaN   \n",
       "model_size_small x pre_training_strategy_self-s...        NaN           NaN   \n",
       "model_type_fully convolutional x pre_training_s...        NaN           NaN   \n",
       "model_type_hybrid x pre_training_strategy_self-...        NaN           NaN   \n",
       "model_type_hybrid x pre_training_strategy_self-...        NaN           NaN   \n",
       "\n",
       "                                                    Spearman_r  Spearman_pval  \n",
       "model_size_medium x pre_training_strategy_super...     -0.1983         0.0000  \n",
       "volume_pre_training_data_scaled                        -0.2486         0.0000  \n",
       "model_size_medium                                       0.0358         0.4344  \n",
       "pre_training_dataset_in1k                               0.2431         0.0000  \n",
       "model_type_fully convolutional x loss_function_...     -0.1702         0.0002  \n",
       "loss_function_TRADES_v2                                -0.1005         0.0276  \n",
       "model_type_fully convolutional                         -0.1578         0.0005  \n",
       "pre_training_strategy_self-supervised                   0.1274         0.0052  \n",
       "model_size_small x pre_training_strategy_superv...      0.2645         0.0000  \n",
       "model_type_fully convolutional x pre_training_s...     -0.1347         0.0031  \n",
       "model_size_small                                        0.2645         0.0000  \n",
       "pre_training_dataset_in22k                             -0.0161         0.7249  \n",
       "model_size_medium x loss_function_TRADES_v2            -0.0140         0.7596  \n",
       "pre_training_strategy_supervised                        0.1362         0.0028  \n",
       "model_type_fully convolutional x pre_training_s...     -0.0100         0.8270  \n",
       "model_type_hybrid x pre_training_strategy_super...      0.0839         0.0661  \n",
       "model_size_medium x pre_training_strategy_super...      0.0823         0.0715  \n",
       "model_type_hybrid                                       0.0839         0.0661  \n",
       "model_type_hybrid x loss_function_TRADES_v2             0.0020         0.9657  \n",
       "model_size_medium x pre_training_strategy_self-...      0.1555         0.0006  \n",
       "model_size_small x loss_function_TRADES_v2              0.1344         0.0032  \n",
       "pre_training_dataset_in22k+in1k                        -0.0748         0.1018  \n",
       "pre_training_strategy_supervised (robust)              -0.1277         0.0051  \n",
       "pre_training_dataset_laion2B                           -0.0973         0.0331  \n",
       "pre_training_dataset_in12k+in1k                        -0.1089         0.0170  \n",
       "pre_training_dataset_laion_aesthetic                   -0.0575         0.2086  \n",
       "pre_training_dataset_laion2b+in1k                      -0.1024         0.0249  \n",
       "model_type_fully convolutional x pre_training_s...     -0.1042         0.0224  \n",
       "pre_training_strategy_self-supervised (multimodal)     -0.1539         0.0007  \n",
       "pre_training_dataset_laion2b+in12k+in1k                -0.0947         0.0381  \n",
       "model_size_small x pre_training_strategy_self-s...         NaN            NaN  \n",
       "model_size_small x pre_training_strategy_superv...         NaN            NaN  \n",
       "model_type_hybrid x pre_training_strategy_super...         NaN            NaN  \n",
       "model_size_medium x pre_training_strategy_self-...         NaN            NaN  \n",
       "model_size_small x pre_training_strategy_self-s...         NaN            NaN  \n",
       "model_type_fully convolutional x pre_training_s...         NaN            NaN  \n",
       "model_type_hybrid x pre_training_strategy_self-...         NaN            NaN  \n",
       "model_type_hybrid x pre_training_strategy_self-...         NaN            NaN  "
      ]
     },
     "execution_count": 27,
     "metadata": {},
     "output_type": "execute_result"
    }
   ],
   "source": [
    "import pandas as pd\n",
    "from sklearn.ensemble import RandomForestRegressor\n",
    "import shap\n",
    "from scipy.stats import pearsonr, spearmanr\n",
    "import numpy as np\n",
    "\n",
    "# Features to use\n",
    "features = [\n",
    "    'model_type',\n",
    "    'model_size',\n",
    "    'loss_function',\n",
    "    'pre_training_dataset',\n",
    "    'volume_pre_training_data_scaled',\n",
    "    'pre_training_strategy',\n",
    "]\n",
    "target = 'normalized_total_borda_rank'\n",
    "\n",
    "# Loop over each ft_strategy\n",
    "for ft_strategy in [ \"LP (50 epochs)\" ]: #\n",
    "    print(f\"\\n================ Random Forest Regression, Feature Importance, SHAP, and Correlations for {ft_strategy} ================\\n\")\n",
    "    \n",
    "    # Subset\n",
    "    sub_df = df[df['ft_strategy'] == ft_strategy]\n",
    "    \n",
    "    # Encode categorical variables\n",
    "    base_encoded = pd.get_dummies(sub_df[features], drop_first=True)\n",
    "    \n",
    "    # Start with base features\n",
    "    X = base_encoded.copy()\n",
    "    \n",
    "    # Manually add only selected interactions\n",
    "    model_type_cols = [col for col in base_encoded.columns if col.startswith('model_type_')]\n",
    "    pretrain_strategy_cols = [col for col in base_encoded.columns if col.startswith('pre_training_strategy_')]\n",
    "    for mt in model_type_cols:\n",
    "        for ps in pretrain_strategy_cols:\n",
    "            X[f\"{mt} x {ps}\"] = base_encoded[mt] * base_encoded[ps]\n",
    "    \n",
    "    loss_function_cols = [col for col in base_encoded.columns if col.startswith('loss_function_')]\n",
    "    for mt in model_type_cols:\n",
    "        for lf in loss_function_cols:\n",
    "            X[f\"{mt} x {lf}\"] = base_encoded[mt] * base_encoded[lf]\n",
    "    \n",
    "    model_size_cols = [col for col in base_encoded.columns if col.startswith('model_size_')]\n",
    "    for ms in model_size_cols:\n",
    "        for ps in pretrain_strategy_cols:\n",
    "            X[f\"{ms} x {ps}\"] = base_encoded[ms] * base_encoded[ps]\n",
    "    \n",
    "    for ms in model_size_cols:\n",
    "        for lf in loss_function_cols:\n",
    "            X[f\"{ms} x {lf}\"] = base_encoded[ms] * base_encoded[lf]\n",
    "    \n",
    "    # Target variable\n",
    "    y = sub_df[target]\n",
    "    \n",
    "    # Train Random Forest\n",
    "    rf = RandomForestRegressor(n_estimators=200, random_state=42)\n",
    "    rf.fit(X, y)\n",
    "    \n",
    "    # Print R² (on training set)\n",
    "    print(f\"Training R² score: {rf.score(X, y):.3f}\")\n",
    "    \n",
    "    # Extract feature importances\n",
    "    feature_importances = pd.Series(rf.feature_importances_, index=X.columns)\n",
    "    feature_importances = feature_importances.sort_values(ascending=False)\n",
    "    \n",
    "    # Compute SHAP values\n",
    "    explainer = shap.TreeExplainer(rf)\n",
    "    shap_values = explainer.shap_values(X)\n",
    "    \n",
    "    # Aggregate SHAP importance\n",
    "    shap_importance = pd.Series(shap_values.mean(axis=0), index=X.columns)\n",
    "    \n",
    "    # Initialize the combined importance dataframe\n",
    "    combined_importance = pd.DataFrame({\n",
    "        'RandomForest_FeatureImportance': feature_importances,\n",
    "        'SHAP_Importance': shap_importance\n",
    "    })\n",
    "    \n",
    "    # Compute Pearson and Spearman correlations for **base features only** (no interactions)\n",
    "    pearson_corr = []\n",
    "    pearson_pval = []\n",
    "    spearman_corr = []\n",
    "    spearman_pval = []\n",
    "    \n",
    "    for col in X.columns:  # not base_encoded.columns\n",
    "        pearson_r, pearson_p = pearsonr(X[col], y)\n",
    "        spearman_r, spearman_p = spearmanr(X[col], y)\n",
    "        \n",
    "        pearson_corr.append(pearson_r)\n",
    "        pearson_pval.append(pearson_p)\n",
    "        spearman_corr.append(spearman_r)\n",
    "        spearman_pval.append(spearman_p)\n",
    "    \n",
    "    correlation_df = pd.DataFrame({\n",
    "        'Pearson_r': pearson_corr,\n",
    "        'Pearson_pval': pearson_pval,\n",
    "        'Spearman_r': spearman_corr,\n",
    "        'Spearman_pval': spearman_pval\n",
    "    }, index=X.columns)\n",
    "    \n",
    "    # Merge correlation info into the combined importance table\n",
    "    combined_importance = combined_importance.join(correlation_df, how='left')\n",
    "    \n",
    "    # Print the final combined table\n",
    "    print(\"\\n--- Combined Feature Importances and Correlations ---\")\n",
    "\n",
    "pd.set_option('display.float_format', '{:.4f}'.format)\n",
    "\n",
    "combined_importance = combined_importance.round(4)\n",
    "combined_importance = combined_importance.sort_values(by='RandomForest_FeatureImportance', ascending=True)  # or ascending=False\n",
    "combined_importance"
   ]
  },
  {
   "cell_type": "code",
   "execution_count": 14,
   "metadata": {},
   "outputs": [
    {
     "data": {
      "application/vnd.plotly.v1+json": {
       "config": {
        "plotlyServerURL": "https://plot.ly"
       },
       "data": [
        {
         "hovertemplate": "strategy=FFT (5 epochs)<br>size=large<br>Quantile (by Total Sum Score)=%{x}<br>Total Sum Score=%{y}<extra></extra>",
         "legendgroup": "FFT (5 epochs), large",
         "line": {
          "color": "#636efa",
          "dash": "solid"
         },
         "marker": {
          "symbol": "circle"
         },
         "mode": "lines+markers",
         "name": "FFT (5 epochs), large",
         "orientation": "v",
         "showlegend": true,
         "type": "scatter",
         "x": [
          "min",
          "25%",
          "50%",
          "75%",
          "90%",
          "max",
          null,
          null,
          null,
          null
         ],
         "xaxis": "x",
         "y": [
          0.47749206349206347,
          0.9215833333333333,
          2.1630238095238097,
          3.9764999999999993,
          5.659055555555556,
          7.26968253968254,
          9,
          18,
          27,
          32
         ],
         "yaxis": "y"
        },
        {
         "hovertemplate": "strategy=FFT (5 epochs)<br>size=medium<br>Quantile (by Total Sum Score)=%{x}<br>Total Sum Score=%{y}<extra></extra>",
         "legendgroup": "FFT (5 epochs), medium",
         "line": {
          "color": "#636efa",
          "dash": "dot"
         },
         "marker": {
          "symbol": "circle"
         },
         "mode": "lines+markers",
         "name": "FFT (5 epochs), medium",
         "orientation": "v",
         "showlegend": true,
         "type": "scatter",
         "x": [
          "min",
          "25%",
          "50%",
          "75%",
          "90%",
          "max",
          null,
          null,
          null,
          null
         ],
         "xaxis": "x",
         "y": [
          0.35160317460317464,
          1.1093809523809526,
          1.6140317460317462,
          4.228285714285714,
          5.721719047619048,
          7.7293015873015865,
          8,
          15,
          22,
          27
         ],
         "yaxis": "y"
        },
        {
         "hovertemplate": "strategy=FFT (5 epochs)<br>size=small<br>Quantile (by Total Sum Score)=%{x}<br>Total Sum Score=%{y}<extra></extra>",
         "legendgroup": "FFT (5 epochs), small",
         "line": {
          "color": "#636efa",
          "dash": "dash"
         },
         "marker": {
          "symbol": "circle"
         },
         "mode": "lines+markers",
         "name": "FFT (5 epochs), small",
         "orientation": "v",
         "showlegend": true,
         "type": "scatter",
         "x": [
          "min",
          "25%",
          "50%",
          "75%",
          "90%",
          "max",
          null,
          null,
          null,
          null
         ],
         "xaxis": "x",
         "y": [
          0.45199999999999996,
          0.597845238095238,
          1.2903333333333333,
          2.4147777777777772,
          3.62994761904762,
          5.7153809523809525,
          4,
          7,
          10,
          12
         ],
         "yaxis": "y"
        },
        {
         "hovertemplate": "strategy=FFT (50 epochs)<br>size=large<br>Quantile (by Total Sum Score)=%{x}<br>Total Sum Score=%{y}<extra></extra>",
         "legendgroup": "FFT (50 epochs), large",
         "line": {
          "color": "#EF553B",
          "dash": "solid"
         },
         "marker": {
          "symbol": "circle"
         },
         "mode": "lines+markers",
         "name": "FFT (50 epochs), large",
         "orientation": "v",
         "showlegend": true,
         "type": "scatter",
         "x": [
          "min",
          "25%",
          "50%",
          "75%",
          "90%",
          "max",
          null,
          null,
          null,
          null
         ],
         "xaxis": "x",
         "y": [
          4.2214285714285715,
          7.75909126984127,
          9.356158730158729,
          11.668301587301588,
          13.033960317460316,
          15.24073015873016,
          9,
          18,
          27,
          32
         ],
         "yaxis": "y"
        },
        {
         "hovertemplate": "strategy=FFT (50 epochs)<br>size=medium<br>Quantile (by Total Sum Score)=%{x}<br>Total Sum Score=%{y}<extra></extra>",
         "legendgroup": "FFT (50 epochs), medium",
         "line": {
          "color": "#EF553B",
          "dash": "dot"
         },
         "marker": {
          "symbol": "circle"
         },
         "mode": "lines+markers",
         "name": "FFT (50 epochs), medium",
         "orientation": "v",
         "showlegend": true,
         "type": "scatter",
         "x": [
          "min",
          "25%",
          "50%",
          "75%",
          "90%",
          "max",
          null,
          null,
          null,
          null
         ],
         "xaxis": "x",
         "y": [
          2.7429047619047617,
          7.116392857142857,
          9.056944444444444,
          11.632531746031747,
          14.747490476190476,
          16.489968253968254,
          8,
          15,
          22,
          27
         ],
         "yaxis": "y"
        },
        {
         "hovertemplate": "strategy=FFT (50 epochs)<br>size=small<br>Quantile (by Total Sum Score)=%{x}<br>Total Sum Score=%{y}<extra></extra>",
         "legendgroup": "FFT (50 epochs), small",
         "line": {
          "color": "#EF553B",
          "dash": "dash"
         },
         "marker": {
          "symbol": "circle"
         },
         "mode": "lines+markers",
         "name": "FFT (50 epochs), small",
         "orientation": "v",
         "showlegend": true,
         "type": "scatter",
         "x": [
          "min",
          "25%",
          "50%",
          "75%",
          "90%",
          "max",
          null,
          null,
          null,
          null
         ],
         "xaxis": "x",
         "y": [
          1.5930952380952381,
          3.666369047619048,
          8.179531746031746,
          8.967690476190477,
          11.14009523809524,
          14.662857142857144,
          4,
          7,
          10,
          12
         ],
         "yaxis": "y"
        },
        {
         "hovertemplate": "strategy=LP (50 epochs)<br>size=large<br>Quantile (by Total Sum Score)=%{x}<br>Total Sum Score=%{y}<extra></extra>",
         "legendgroup": "LP (50 epochs), large",
         "line": {
          "color": "#00cc96",
          "dash": "solid"
         },
         "marker": {
          "symbol": "circle"
         },
         "mode": "lines+markers",
         "name": "LP (50 epochs), large",
         "orientation": "v",
         "showlegend": true,
         "type": "scatter",
         "x": [
          "min",
          "25%",
          "50%",
          "75%",
          "90%",
          "max",
          null,
          null,
          null,
          null
         ],
         "xaxis": "x",
         "y": [
          0.6882380952380953,
          2.9303730158730157,
          5.079817460317461,
          6.595809523809523,
          7.447285714285714,
          8.113412698412699,
          9,
          18,
          27,
          32
         ],
         "yaxis": "y"
        },
        {
         "hovertemplate": "strategy=LP (50 epochs)<br>size=medium<br>Quantile (by Total Sum Score)=%{x}<br>Total Sum Score=%{y}<extra></extra>",
         "legendgroup": "LP (50 epochs), medium",
         "line": {
          "color": "#00cc96",
          "dash": "dot"
         },
         "marker": {
          "symbol": "circle"
         },
         "mode": "lines+markers",
         "name": "LP (50 epochs), medium",
         "orientation": "v",
         "showlegend": true,
         "type": "scatter",
         "x": [
          "min",
          "25%",
          "50%",
          "75%",
          "90%",
          "max",
          null,
          null,
          null,
          null
         ],
         "xaxis": "x",
         "y": [
          0.5582539682539682,
          2.482531746031746,
          3.253563492063492,
          5.278833333333333,
          6.804433333333333,
          9.132142857142856,
          8,
          15,
          22,
          27
         ],
         "yaxis": "y"
        },
        {
         "hovertemplate": "strategy=LP (50 epochs)<br>size=small<br>Quantile (by Total Sum Score)=%{x}<br>Total Sum Score=%{y}<extra></extra>",
         "legendgroup": "LP (50 epochs), small",
         "line": {
          "color": "#00cc96",
          "dash": "dash"
         },
         "marker": {
          "symbol": "circle"
         },
         "mode": "lines+markers",
         "name": "LP (50 epochs), small",
         "orientation": "v",
         "showlegend": true,
         "type": "scatter",
         "x": [
          "min",
          "25%",
          "50%",
          "75%",
          "90%",
          "max",
          null,
          null,
          null,
          null
         ],
         "xaxis": "x",
         "y": [
          0.28044444444444444,
          0.6506666666666666,
          1.3437857142857141,
          3.220345238095238,
          3.738466666666667,
          4.612507936507937,
          4,
          7,
          10,
          12
         ],
         "yaxis": "y"
        }
       ],
       "layout": {
        "annotations": [
         {
          "font": {
           "size": 8
          },
          "showarrow": false,
          "text": "n=9",
          "x": "25%",
          "xanchor": "left",
          "y": 0.9215833333333333,
          "yanchor": "bottom"
         },
         {
          "font": {
           "size": 8
          },
          "showarrow": false,
          "text": "n=18",
          "x": "50%",
          "xanchor": "left",
          "y": 2.1630238095238097,
          "yanchor": "bottom"
         },
         {
          "font": {
           "size": 8
          },
          "showarrow": false,
          "text": "n=27",
          "x": "75%",
          "xanchor": "left",
          "y": 3.9764999999999993,
          "yanchor": "bottom"
         },
         {
          "font": {
           "size": 8
          },
          "showarrow": false,
          "text": "n=32",
          "x": "90%",
          "xanchor": "left",
          "y": 5.659055555555556,
          "yanchor": "bottom"
         },
         {
          "font": {
           "size": 8
          },
          "showarrow": false,
          "text": "n=8",
          "x": "25%",
          "xanchor": "left",
          "y": 1.1093809523809526,
          "yanchor": "bottom"
         },
         {
          "font": {
           "size": 8
          },
          "showarrow": false,
          "text": "n=15",
          "x": "50%",
          "xanchor": "left",
          "y": 1.6140317460317462,
          "yanchor": "bottom"
         },
         {
          "font": {
           "size": 8
          },
          "showarrow": false,
          "text": "n=22",
          "x": "75%",
          "xanchor": "left",
          "y": 4.228285714285714,
          "yanchor": "bottom"
         },
         {
          "font": {
           "size": 8
          },
          "showarrow": false,
          "text": "n=27",
          "x": "90%",
          "xanchor": "left",
          "y": 5.721719047619048,
          "yanchor": "bottom"
         },
         {
          "font": {
           "size": 8
          },
          "showarrow": false,
          "text": "n=4",
          "x": "25%",
          "xanchor": "left",
          "y": 0.597845238095238,
          "yanchor": "bottom"
         },
         {
          "font": {
           "size": 8
          },
          "showarrow": false,
          "text": "n=7",
          "x": "50%",
          "xanchor": "left",
          "y": 1.2903333333333333,
          "yanchor": "bottom"
         },
         {
          "font": {
           "size": 8
          },
          "showarrow": false,
          "text": "n=10",
          "x": "75%",
          "xanchor": "left",
          "y": 2.4147777777777772,
          "yanchor": "bottom"
         },
         {
          "font": {
           "size": 8
          },
          "showarrow": false,
          "text": "n=12",
          "x": "90%",
          "xanchor": "left",
          "y": 3.62994761904762,
          "yanchor": "bottom"
         },
         {
          "font": {
           "size": 8
          },
          "showarrow": false,
          "text": "n=9",
          "x": "25%",
          "xanchor": "left",
          "y": 7.75909126984127,
          "yanchor": "bottom"
         },
         {
          "font": {
           "size": 8
          },
          "showarrow": false,
          "text": "n=18",
          "x": "50%",
          "xanchor": "left",
          "y": 9.356158730158729,
          "yanchor": "bottom"
         },
         {
          "font": {
           "size": 8
          },
          "showarrow": false,
          "text": "n=27",
          "x": "75%",
          "xanchor": "left",
          "y": 11.668301587301588,
          "yanchor": "bottom"
         },
         {
          "font": {
           "size": 8
          },
          "showarrow": false,
          "text": "n=32",
          "x": "90%",
          "xanchor": "left",
          "y": 13.033960317460316,
          "yanchor": "bottom"
         },
         {
          "font": {
           "size": 8
          },
          "showarrow": false,
          "text": "n=8",
          "x": "25%",
          "xanchor": "left",
          "y": 7.116392857142857,
          "yanchor": "bottom"
         },
         {
          "font": {
           "size": 8
          },
          "showarrow": false,
          "text": "n=15",
          "x": "50%",
          "xanchor": "left",
          "y": 9.056944444444444,
          "yanchor": "bottom"
         },
         {
          "font": {
           "size": 8
          },
          "showarrow": false,
          "text": "n=22",
          "x": "75%",
          "xanchor": "left",
          "y": 11.632531746031747,
          "yanchor": "bottom"
         },
         {
          "font": {
           "size": 8
          },
          "showarrow": false,
          "text": "n=27",
          "x": "90%",
          "xanchor": "left",
          "y": 14.747490476190476,
          "yanchor": "bottom"
         },
         {
          "font": {
           "size": 8
          },
          "showarrow": false,
          "text": "n=4",
          "x": "25%",
          "xanchor": "left",
          "y": 3.666369047619048,
          "yanchor": "bottom"
         },
         {
          "font": {
           "size": 8
          },
          "showarrow": false,
          "text": "n=7",
          "x": "50%",
          "xanchor": "left",
          "y": 8.179531746031746,
          "yanchor": "bottom"
         },
         {
          "font": {
           "size": 8
          },
          "showarrow": false,
          "text": "n=10",
          "x": "75%",
          "xanchor": "left",
          "y": 8.967690476190477,
          "yanchor": "bottom"
         },
         {
          "font": {
           "size": 8
          },
          "showarrow": false,
          "text": "n=12",
          "x": "90%",
          "xanchor": "left",
          "y": 11.14009523809524,
          "yanchor": "bottom"
         },
         {
          "font": {
           "size": 8
          },
          "showarrow": false,
          "text": "n=9",
          "x": "25%",
          "xanchor": "left",
          "y": 2.9303730158730157,
          "yanchor": "bottom"
         },
         {
          "font": {
           "size": 8
          },
          "showarrow": false,
          "text": "n=18",
          "x": "50%",
          "xanchor": "left",
          "y": 5.079817460317461,
          "yanchor": "bottom"
         },
         {
          "font": {
           "size": 8
          },
          "showarrow": false,
          "text": "n=27",
          "x": "75%",
          "xanchor": "left",
          "y": 6.595809523809523,
          "yanchor": "bottom"
         },
         {
          "font": {
           "size": 8
          },
          "showarrow": false,
          "text": "n=32",
          "x": "90%",
          "xanchor": "left",
          "y": 7.447285714285714,
          "yanchor": "bottom"
         },
         {
          "font": {
           "size": 8
          },
          "showarrow": false,
          "text": "n=8",
          "x": "25%",
          "xanchor": "left",
          "y": 2.482531746031746,
          "yanchor": "bottom"
         },
         {
          "font": {
           "size": 8
          },
          "showarrow": false,
          "text": "n=15",
          "x": "50%",
          "xanchor": "left",
          "y": 3.253563492063492,
          "yanchor": "bottom"
         },
         {
          "font": {
           "size": 8
          },
          "showarrow": false,
          "text": "n=22",
          "x": "75%",
          "xanchor": "left",
          "y": 5.278833333333333,
          "yanchor": "bottom"
         },
         {
          "font": {
           "size": 8
          },
          "showarrow": false,
          "text": "n=27",
          "x": "90%",
          "xanchor": "left",
          "y": 6.804433333333333,
          "yanchor": "bottom"
         },
         {
          "font": {
           "size": 8
          },
          "showarrow": false,
          "text": "n=4",
          "x": "25%",
          "xanchor": "left",
          "y": 0.6506666666666666,
          "yanchor": "bottom"
         },
         {
          "font": {
           "size": 8
          },
          "showarrow": false,
          "text": "n=7",
          "x": "50%",
          "xanchor": "left",
          "y": 1.3437857142857141,
          "yanchor": "bottom"
         },
         {
          "font": {
           "size": 8
          },
          "showarrow": false,
          "text": "n=10",
          "x": "75%",
          "xanchor": "left",
          "y": 3.220345238095238,
          "yanchor": "bottom"
         },
         {
          "font": {
           "size": 8
          },
          "showarrow": false,
          "text": "n=12",
          "x": "90%",
          "xanchor": "left",
          "y": 3.738466666666667,
          "yanchor": "bottom"
         }
        ],
        "height": 400,
        "legend": {
         "bgcolor": "rgba(255,255,255,0.5)",
         "bordercolor": "lightgrey",
         "borderwidth": 1,
         "font": {
          "size": 10
         },
         "itemsizing": "constant",
         "title": {
          "text": "Strategy / Architecture Size"
         },
         "tracegroupgap": 0,
         "x": 0.05,
         "xanchor": "left",
         "y": 1,
         "yanchor": "top"
        },
        "margin": {
         "b": 0,
         "l": 0,
         "r": 0,
         "t": 0
        },
        "paper_bgcolor": "white",
        "plot_bgcolor": "white",
        "template": {
         "data": {
          "bar": [
           {
            "error_x": {
             "color": "#2a3f5f"
            },
            "error_y": {
             "color": "#2a3f5f"
            },
            "marker": {
             "line": {
              "color": "#E5ECF6",
              "width": 0.5
             },
             "pattern": {
              "fillmode": "overlay",
              "size": 10,
              "solidity": 0.2
             }
            },
            "type": "bar"
           }
          ],
          "barpolar": [
           {
            "marker": {
             "line": {
              "color": "#E5ECF6",
              "width": 0.5
             },
             "pattern": {
              "fillmode": "overlay",
              "size": 10,
              "solidity": 0.2
             }
            },
            "type": "barpolar"
           }
          ],
          "carpet": [
           {
            "aaxis": {
             "endlinecolor": "#2a3f5f",
             "gridcolor": "white",
             "linecolor": "white",
             "minorgridcolor": "white",
             "startlinecolor": "#2a3f5f"
            },
            "baxis": {
             "endlinecolor": "#2a3f5f",
             "gridcolor": "white",
             "linecolor": "white",
             "minorgridcolor": "white",
             "startlinecolor": "#2a3f5f"
            },
            "type": "carpet"
           }
          ],
          "choropleth": [
           {
            "colorbar": {
             "outlinewidth": 0,
             "ticks": ""
            },
            "type": "choropleth"
           }
          ],
          "contour": [
           {
            "colorbar": {
             "outlinewidth": 0,
             "ticks": ""
            },
            "colorscale": [
             [
              0,
              "#0d0887"
             ],
             [
              0.1111111111111111,
              "#46039f"
             ],
             [
              0.2222222222222222,
              "#7201a8"
             ],
             [
              0.3333333333333333,
              "#9c179e"
             ],
             [
              0.4444444444444444,
              "#bd3786"
             ],
             [
              0.5555555555555556,
              "#d8576b"
             ],
             [
              0.6666666666666666,
              "#ed7953"
             ],
             [
              0.7777777777777778,
              "#fb9f3a"
             ],
             [
              0.8888888888888888,
              "#fdca26"
             ],
             [
              1,
              "#f0f921"
             ]
            ],
            "type": "contour"
           }
          ],
          "contourcarpet": [
           {
            "colorbar": {
             "outlinewidth": 0,
             "ticks": ""
            },
            "type": "contourcarpet"
           }
          ],
          "heatmap": [
           {
            "colorbar": {
             "outlinewidth": 0,
             "ticks": ""
            },
            "colorscale": [
             [
              0,
              "#0d0887"
             ],
             [
              0.1111111111111111,
              "#46039f"
             ],
             [
              0.2222222222222222,
              "#7201a8"
             ],
             [
              0.3333333333333333,
              "#9c179e"
             ],
             [
              0.4444444444444444,
              "#bd3786"
             ],
             [
              0.5555555555555556,
              "#d8576b"
             ],
             [
              0.6666666666666666,
              "#ed7953"
             ],
             [
              0.7777777777777778,
              "#fb9f3a"
             ],
             [
              0.8888888888888888,
              "#fdca26"
             ],
             [
              1,
              "#f0f921"
             ]
            ],
            "type": "heatmap"
           }
          ],
          "heatmapgl": [
           {
            "colorbar": {
             "outlinewidth": 0,
             "ticks": ""
            },
            "colorscale": [
             [
              0,
              "#0d0887"
             ],
             [
              0.1111111111111111,
              "#46039f"
             ],
             [
              0.2222222222222222,
              "#7201a8"
             ],
             [
              0.3333333333333333,
              "#9c179e"
             ],
             [
              0.4444444444444444,
              "#bd3786"
             ],
             [
              0.5555555555555556,
              "#d8576b"
             ],
             [
              0.6666666666666666,
              "#ed7953"
             ],
             [
              0.7777777777777778,
              "#fb9f3a"
             ],
             [
              0.8888888888888888,
              "#fdca26"
             ],
             [
              1,
              "#f0f921"
             ]
            ],
            "type": "heatmapgl"
           }
          ],
          "histogram": [
           {
            "marker": {
             "pattern": {
              "fillmode": "overlay",
              "size": 10,
              "solidity": 0.2
             }
            },
            "type": "histogram"
           }
          ],
          "histogram2d": [
           {
            "colorbar": {
             "outlinewidth": 0,
             "ticks": ""
            },
            "colorscale": [
             [
              0,
              "#0d0887"
             ],
             [
              0.1111111111111111,
              "#46039f"
             ],
             [
              0.2222222222222222,
              "#7201a8"
             ],
             [
              0.3333333333333333,
              "#9c179e"
             ],
             [
              0.4444444444444444,
              "#bd3786"
             ],
             [
              0.5555555555555556,
              "#d8576b"
             ],
             [
              0.6666666666666666,
              "#ed7953"
             ],
             [
              0.7777777777777778,
              "#fb9f3a"
             ],
             [
              0.8888888888888888,
              "#fdca26"
             ],
             [
              1,
              "#f0f921"
             ]
            ],
            "type": "histogram2d"
           }
          ],
          "histogram2dcontour": [
           {
            "colorbar": {
             "outlinewidth": 0,
             "ticks": ""
            },
            "colorscale": [
             [
              0,
              "#0d0887"
             ],
             [
              0.1111111111111111,
              "#46039f"
             ],
             [
              0.2222222222222222,
              "#7201a8"
             ],
             [
              0.3333333333333333,
              "#9c179e"
             ],
             [
              0.4444444444444444,
              "#bd3786"
             ],
             [
              0.5555555555555556,
              "#d8576b"
             ],
             [
              0.6666666666666666,
              "#ed7953"
             ],
             [
              0.7777777777777778,
              "#fb9f3a"
             ],
             [
              0.8888888888888888,
              "#fdca26"
             ],
             [
              1,
              "#f0f921"
             ]
            ],
            "type": "histogram2dcontour"
           }
          ],
          "mesh3d": [
           {
            "colorbar": {
             "outlinewidth": 0,
             "ticks": ""
            },
            "type": "mesh3d"
           }
          ],
          "parcoords": [
           {
            "line": {
             "colorbar": {
              "outlinewidth": 0,
              "ticks": ""
             }
            },
            "type": "parcoords"
           }
          ],
          "pie": [
           {
            "automargin": true,
            "type": "pie"
           }
          ],
          "scatter": [
           {
            "fillpattern": {
             "fillmode": "overlay",
             "size": 10,
             "solidity": 0.2
            },
            "type": "scatter"
           }
          ],
          "scatter3d": [
           {
            "line": {
             "colorbar": {
              "outlinewidth": 0,
              "ticks": ""
             }
            },
            "marker": {
             "colorbar": {
              "outlinewidth": 0,
              "ticks": ""
             }
            },
            "type": "scatter3d"
           }
          ],
          "scattercarpet": [
           {
            "marker": {
             "colorbar": {
              "outlinewidth": 0,
              "ticks": ""
             }
            },
            "type": "scattercarpet"
           }
          ],
          "scattergeo": [
           {
            "marker": {
             "colorbar": {
              "outlinewidth": 0,
              "ticks": ""
             }
            },
            "type": "scattergeo"
           }
          ],
          "scattergl": [
           {
            "marker": {
             "colorbar": {
              "outlinewidth": 0,
              "ticks": ""
             }
            },
            "type": "scattergl"
           }
          ],
          "scattermapbox": [
           {
            "marker": {
             "colorbar": {
              "outlinewidth": 0,
              "ticks": ""
             }
            },
            "type": "scattermapbox"
           }
          ],
          "scatterpolar": [
           {
            "marker": {
             "colorbar": {
              "outlinewidth": 0,
              "ticks": ""
             }
            },
            "type": "scatterpolar"
           }
          ],
          "scatterpolargl": [
           {
            "marker": {
             "colorbar": {
              "outlinewidth": 0,
              "ticks": ""
             }
            },
            "type": "scatterpolargl"
           }
          ],
          "scatterternary": [
           {
            "marker": {
             "colorbar": {
              "outlinewidth": 0,
              "ticks": ""
             }
            },
            "type": "scatterternary"
           }
          ],
          "surface": [
           {
            "colorbar": {
             "outlinewidth": 0,
             "ticks": ""
            },
            "colorscale": [
             [
              0,
              "#0d0887"
             ],
             [
              0.1111111111111111,
              "#46039f"
             ],
             [
              0.2222222222222222,
              "#7201a8"
             ],
             [
              0.3333333333333333,
              "#9c179e"
             ],
             [
              0.4444444444444444,
              "#bd3786"
             ],
             [
              0.5555555555555556,
              "#d8576b"
             ],
             [
              0.6666666666666666,
              "#ed7953"
             ],
             [
              0.7777777777777778,
              "#fb9f3a"
             ],
             [
              0.8888888888888888,
              "#fdca26"
             ],
             [
              1,
              "#f0f921"
             ]
            ],
            "type": "surface"
           }
          ],
          "table": [
           {
            "cells": {
             "fill": {
              "color": "#EBF0F8"
             },
             "line": {
              "color": "white"
             }
            },
            "header": {
             "fill": {
              "color": "#C8D4E3"
             },
             "line": {
              "color": "white"
             }
            },
            "type": "table"
           }
          ]
         },
         "layout": {
          "annotationdefaults": {
           "arrowcolor": "#2a3f5f",
           "arrowhead": 0,
           "arrowwidth": 1
          },
          "autotypenumbers": "strict",
          "coloraxis": {
           "colorbar": {
            "outlinewidth": 0,
            "ticks": ""
           }
          },
          "colorscale": {
           "diverging": [
            [
             0,
             "#8e0152"
            ],
            [
             0.1,
             "#c51b7d"
            ],
            [
             0.2,
             "#de77ae"
            ],
            [
             0.3,
             "#f1b6da"
            ],
            [
             0.4,
             "#fde0ef"
            ],
            [
             0.5,
             "#f7f7f7"
            ],
            [
             0.6,
             "#e6f5d0"
            ],
            [
             0.7,
             "#b8e186"
            ],
            [
             0.8,
             "#7fbc41"
            ],
            [
             0.9,
             "#4d9221"
            ],
            [
             1,
             "#276419"
            ]
           ],
           "sequential": [
            [
             0,
             "#0d0887"
            ],
            [
             0.1111111111111111,
             "#46039f"
            ],
            [
             0.2222222222222222,
             "#7201a8"
            ],
            [
             0.3333333333333333,
             "#9c179e"
            ],
            [
             0.4444444444444444,
             "#bd3786"
            ],
            [
             0.5555555555555556,
             "#d8576b"
            ],
            [
             0.6666666666666666,
             "#ed7953"
            ],
            [
             0.7777777777777778,
             "#fb9f3a"
            ],
            [
             0.8888888888888888,
             "#fdca26"
            ],
            [
             1,
             "#f0f921"
            ]
           ],
           "sequentialminus": [
            [
             0,
             "#0d0887"
            ],
            [
             0.1111111111111111,
             "#46039f"
            ],
            [
             0.2222222222222222,
             "#7201a8"
            ],
            [
             0.3333333333333333,
             "#9c179e"
            ],
            [
             0.4444444444444444,
             "#bd3786"
            ],
            [
             0.5555555555555556,
             "#d8576b"
            ],
            [
             0.6666666666666666,
             "#ed7953"
            ],
            [
             0.7777777777777778,
             "#fb9f3a"
            ],
            [
             0.8888888888888888,
             "#fdca26"
            ],
            [
             1,
             "#f0f921"
            ]
           ]
          },
          "colorway": [
           "#636efa",
           "#EF553B",
           "#00cc96",
           "#ab63fa",
           "#FFA15A",
           "#19d3f3",
           "#FF6692",
           "#B6E880",
           "#FF97FF",
           "#FECB52"
          ],
          "font": {
           "color": "#2a3f5f"
          },
          "geo": {
           "bgcolor": "white",
           "lakecolor": "white",
           "landcolor": "#E5ECF6",
           "showlakes": true,
           "showland": true,
           "subunitcolor": "white"
          },
          "hoverlabel": {
           "align": "left"
          },
          "hovermode": "closest",
          "mapbox": {
           "style": "light"
          },
          "paper_bgcolor": "white",
          "plot_bgcolor": "#E5ECF6",
          "polar": {
           "angularaxis": {
            "gridcolor": "white",
            "linecolor": "white",
            "ticks": ""
           },
           "bgcolor": "#E5ECF6",
           "radialaxis": {
            "gridcolor": "white",
            "linecolor": "white",
            "ticks": ""
           }
          },
          "scene": {
           "xaxis": {
            "backgroundcolor": "#E5ECF6",
            "gridcolor": "white",
            "gridwidth": 2,
            "linecolor": "white",
            "showbackground": true,
            "ticks": "",
            "zerolinecolor": "white"
           },
           "yaxis": {
            "backgroundcolor": "#E5ECF6",
            "gridcolor": "white",
            "gridwidth": 2,
            "linecolor": "white",
            "showbackground": true,
            "ticks": "",
            "zerolinecolor": "white"
           },
           "zaxis": {
            "backgroundcolor": "#E5ECF6",
            "gridcolor": "white",
            "gridwidth": 2,
            "linecolor": "white",
            "showbackground": true,
            "ticks": "",
            "zerolinecolor": "white"
           }
          },
          "shapedefaults": {
           "line": {
            "color": "#2a3f5f"
           }
          },
          "ternary": {
           "aaxis": {
            "gridcolor": "white",
            "linecolor": "white",
            "ticks": ""
           },
           "baxis": {
            "gridcolor": "white",
            "linecolor": "white",
            "ticks": ""
           },
           "bgcolor": "#E5ECF6",
           "caxis": {
            "gridcolor": "white",
            "linecolor": "white",
            "ticks": ""
           }
          },
          "title": {
           "x": 0.05
          },
          "xaxis": {
           "automargin": true,
           "gridcolor": "white",
           "linecolor": "white",
           "ticks": "",
           "title": {
            "standoff": 15
           },
           "zerolinecolor": "white",
           "zerolinewidth": 2
          },
          "yaxis": {
           "automargin": true,
           "gridcolor": "white",
           "linecolor": "white",
           "ticks": "",
           "title": {
            "standoff": 15
           },
           "zerolinecolor": "white",
           "zerolinewidth": 2
          }
         }
        },
        "width": 450,
        "xaxis": {
         "anchor": "y",
         "categoryarray": [
          "min",
          "25%",
          "50%",
          "75%",
          "90%",
          "max"
         ],
         "categoryorder": "array",
         "domain": [
          0,
          1
         ],
         "gridcolor": "lightgrey",
         "showgrid": true,
         "title": {
          "text": "Quantile (by Total Sum Score)"
         }
        },
        "yaxis": {
         "anchor": "x",
         "domain": [
          0,
          1
         ],
         "gridcolor": "lightgrey",
         "range": [
          0,
          18
         ],
         "showgrid": true,
         "title": {
          "text": "Total Sum Score"
         }
        }
       }
      }
     },
     "metadata": {},
     "output_type": "display_data"
    }
   ],
   "source": [
    "import plotly.graph_objects as go\n",
    "import pandas as pd\n",
    "\n",
    "import pandas as pd\n",
    "import plotly.express as px\n",
    "import plotly.graph_objects as go\n",
    "from scipy.stats import spearmanr\n",
    "import numpy as np\n",
    "from numpy.linalg import LinAlgError\n",
    "from scipy.stats import linregress\n",
    "\n",
    "import pandas as pd\n",
    "from scipy.stats import spearmanr, pearsonr\n",
    "from process_database import process_grouped_df, process_rankings,global_grouped_dataset\n",
    "\n",
    "\n",
    "grouped_df = global_grouped_dataset(df,)\n",
    "grouped_df = process_rankings(grouped_df)\n",
    "\n",
    "grouped_df.columns = ['_'.join(col).strip() if isinstance(col, tuple) else col for col in grouped_df.columns]\n",
    "grouped_df = grouped_df.reset_index()\n",
    "\n",
    "grouped_df = grouped_df[[\"ft_strategy\", \"model_type\", \"model_size\", \"backbone\", \"loss_function\", \"TOTAL_score_sum\"]]\n",
    "\n",
    "results = []\n",
    "for strategy in [ \"FFT (50 epochs)\", \"FFT (5 epochs)\", 'LP (50 epochs)' ]:\n",
    "    for size in [\"small\", \"medium\", \"large\"]:\n",
    "\n",
    "        res = grouped_df[\n",
    "            (grouped_df.ft_strategy == strategy) &\n",
    "            (grouped_df.model_size == size)\n",
    "        ]\n",
    "\n",
    "        q = res[\"TOTAL_score_sum\"]\n",
    "\n",
    "        # Compute quantiles\n",
    "        quantiles = q.quantile([0.25, 0.5, 0.75, 0.90])\n",
    "        labels = ['25%', '50%', '75%', '90%']\n",
    "        counts = {}\n",
    "        for label, thresh in zip(labels, quantiles):\n",
    "            counts[label] = (q <= thresh).sum()\n",
    "        # counts['min'] = 1\n",
    "        # counts['max'] = 1\n",
    "\n",
    "        stats = q.quantile([0.25, 0.5, 0.75, 0.90, ]).rename(index={0.25: '25%', \n",
    "                                                                            0.5: '50%', \n",
    "                                                                            0.75: '75%',\n",
    "                                                                            0.90: '90%',})\n",
    "\n",
    "        # Append min and max\n",
    "        min_val = q.min()\n",
    "        max_val = q.max()\n",
    "\n",
    "        q_extended = pd.concat([stats, pd.Series({\"min\": min_val, \"max\": max_val})]).to_dict()\n",
    "        q_extended['strategy'] = strategy\n",
    "        q_extended[\"size\"] = size\n",
    "        for key, count in counts.items():\n",
    "            q_extended[f\"{key}_count\"] = count\n",
    "        results.append( q_extended )\n",
    "\n",
    "\n",
    "import pandas as pd\n",
    "import plotly.express as px\n",
    "\n",
    "# Create DataFrame\n",
    "res = pd.DataFrame(results)\n",
    "\n",
    "# Melt the DataFrame\n",
    "df_long = res.melt(id_vars=['strategy', 'size'], var_name='percentile', value_name='value')\n",
    "\n",
    "# Define proper order\n",
    "ordered_percentiles = ['min', '25%', '50%', '75%', '90%', 'max']\n",
    "df_long['percentile'] = pd.Categorical(df_long['percentile'], categories=ordered_percentiles, ordered=True)\n",
    "\n",
    "def get_count(row):\n",
    "    colname = f\"{row['percentile']}_count\"\n",
    "    # Get the count from the original df based on strategy & size\n",
    "    subset = res[(res['strategy'] == row['strategy']) & (res['size'] == row['size'])]\n",
    "    if colname in subset.columns:\n",
    "        return int(subset[colname].values[0])\n",
    "    else:\n",
    "        return 'N/A'\n",
    "\n",
    "df_long[\"hover_text\"] = df_long.apply(\n",
    "    lambda row: f\"{row['strategy']} – {row['size']}<br>{row['percentile']} = {row['value']:.2f}<br>n={get_count(row)}\",\n",
    "    axis=1\n",
    ")\n",
    "\n",
    "# ✅ Sort so lines connect in correct order\n",
    "df_long = df_long.sort_values(by=['strategy', 'size', 'percentile'])\n",
    "\n",
    "# Plot\n",
    "fig = px.line(\n",
    "    df_long,\n",
    "    x='percentile',\n",
    "    y='value',\n",
    "    color='strategy',\n",
    "    line_dash='size',\n",
    "    markers=True,\n",
    "    labels={'value': 'Total Sum Score',\n",
    "            'percentile': 'Quantile (by Total Sum Score)',},\n",
    "    # title='Score Percentiles by Strategy and Model Size',\n",
    "    category_orders={'percentile': ordered_percentiles}\n",
    ")\n",
    "\n",
    "import plotly.graph_objects as go\n",
    "\n",
    "for i, row in df_long.iterrows():\n",
    "    count_key = f\"{row['percentile']}_count\"\n",
    "    try:\n",
    "        count = res[\n",
    "            (res['strategy'] == row['strategy']) &\n",
    "            (res['size'] == row['size'])\n",
    "        ][count_key].values[0]\n",
    "        fig.add_annotation(\n",
    "            x=row['percentile'],\n",
    "            y=row['value'],\n",
    "            text=f\"n={count}\",\n",
    "            showarrow=False,\n",
    "            font=dict(size=8),\n",
    "            xanchor=\"left\",\n",
    "            yanchor=\"bottom\"\n",
    "        )\n",
    "    except:\n",
    "        pass\n",
    "\n",
    "fig.update_layout(yaxis=dict(range=[0, 18]),)\n",
    "fig.update_layout(\n",
    "    width=450,\n",
    "    height=400,\n",
    "    margin=dict(l=0, r=0, t=0, b=0),\n",
    "    plot_bgcolor=\"white\",\n",
    "    paper_bgcolor=\"white\",\n",
    "    xaxis=dict(showgrid=True, gridcolor=\"lightgrey\"),\n",
    "    yaxis=dict(showgrid=True, gridcolor=\"lightgrey\"),\n",
    "    legend_title_text=\"Strategy / Architecture Size\",\n",
    "\n",
    "    legend=dict(\n",
    "    x=0.05,\n",
    "    y=1,\n",
    "    xanchor='left',\n",
    "    yanchor='top',\n",
    "    font=dict(size=10),  # Increase font size\n",
    "    bgcolor=\"rgba(255,255,255,0.5)\",\n",
    "    bordercolor=\"lightgrey\",\n",
    "    borderwidth=1,\n",
    "    itemsizing=\"constant\"  # 👈 Key to reduce spacing\n",
    ")\n",
    ")\n",
    "\n",
    "fig.show()\n",
    "fig.write_image(\"./paper_figures/quantile_perf_improve.png\", scale=3  )\n",
    "    "
   ]
  },
  {
   "cell_type": "code",
   "execution_count": 22,
   "metadata": {},
   "outputs": [
    {
     "data": {
      "application/vnd.plotly.v1+json": {
       "config": {
        "plotlyServerURL": "https://plot.ly"
       },
       "data": [
        {
         "customdata": [
          [
           "FFT (50 epochs)",
           "TRADES_v2"
          ],
          [
           "FFT (50 epochs)",
           "TRADES_v2"
          ],
          [
           "FFT (50 epochs)",
           "TRADES_v2"
          ],
          [
           "FFT (50 epochs)",
           "TRADES_v2"
          ],
          [
           "FFT (50 epochs)",
           "TRADES_v2"
          ],
          [
           "FFT (50 epochs)",
           "TRADES_v2"
          ],
          [
           "FFT (50 epochs)",
           "TRADES_v2"
          ],
          [
           "FFT (50 epochs)",
           "TRADES_v2"
          ],
          [
           "FFT (50 epochs)",
           "TRADES_v2"
          ],
          [
           "FFT (50 epochs)",
           "TRADES_v2"
          ],
          [
           "FFT (50 epochs)",
           "TRADES_v2"
          ],
          [
           "FFT (50 epochs)",
           "TRADES_v2"
          ],
          [
           "FFT (50 epochs)",
           "TRADES_v2"
          ],
          [
           "FFT (50 epochs)",
           "TRADES_v2"
          ],
          [
           "FFT (50 epochs)",
           "TRADES_v2"
          ],
          [
           "FFT (50 epochs)",
           "TRADES_v2"
          ],
          [
           "FFT (50 epochs)",
           "TRADES_v2"
          ],
          [
           "FFT (50 epochs)",
           "TRADES_v2"
          ],
          [
           "FFT (50 epochs)",
           "TRADES_v2"
          ],
          [
           "FFT (50 epochs)",
           "TRADES_v2"
          ],
          [
           "FFT (50 epochs)",
           "TRADES_v2"
          ],
          [
           "FFT (50 epochs)",
           "TRADES_v2"
          ],
          [
           "FFT (50 epochs)",
           "TRADES_v2"
          ],
          [
           "FFT (50 epochs)",
           "TRADES_v2"
          ],
          [
           "FFT (50 epochs)",
           "TRADES_v2"
          ],
          [
           "FFT (50 epochs)",
           "TRADES_v2"
          ],
          [
           "FFT (50 epochs)",
           "TRADES_v2"
          ],
          [
           "FFT (50 epochs)",
           "TRADES_v2"
          ],
          [
           "FFT (50 epochs)",
           "TRADES_v2"
          ],
          [
           "FFT (50 epochs)",
           "TRADES_v2"
          ],
          [
           "FFT (50 epochs)",
           "TRADES_v2"
          ],
          [
           "FFT (50 epochs)",
           "TRADES_v2"
          ],
          [
           "FFT (50 epochs)",
           "TRADES_v2"
          ],
          [
           "FFT (50 epochs)",
           "TRADES_v2"
          ],
          [
           "FFT (50 epochs)",
           "TRADES_v2"
          ],
          [
           "FFT (50 epochs)",
           "TRADES_v2"
          ],
          [
           "FFT (50 epochs)",
           "TRADES_v2"
          ],
          [
           "FFT (50 epochs)",
           "TRADES_v2"
          ],
          [
           "FFT (50 epochs)",
           "TRADES_v2"
          ],
          [
           "FFT (50 epochs)",
           "TRADES_v2"
          ]
         ],
         "hovertemplate": "ft_strategy=%{customdata[0]}<br>loss_function=%{customdata[1]}<br>backbone=%{x}<br>TOTAL_score_sum=%{y}<extra></extra>",
         "legendgroup": "FFT (50 epochs), TRADES_v2",
         "marker": {
          "color": "#E69F00",
          "symbol": "star"
         },
         "mode": "markers",
         "name": "FFT (50 epochs), TRADES_v2",
         "orientation": "v",
         "showlegend": true,
         "type": "scatter",
         "x": [
          "convnext_base.fb_in22k",
          "CLIP-convnext_base_w-laion2B-s13B-b82K",
          "CLIP-convnext_base_w-laion_aesthetic-s13B-b82K",
          "swin_base_patch4_window7_224.ms_in22k_ft_in1k",
          "eva02_base_patch14_224.mim_in22k",
          "convnext_base.fb_in22k_ft_in1k",
          "robust_convnext_base",
          "convnext_tiny.fb_in22k_ft_in1k",
          "convnext_base.fb_in1k",
          "convnext_tiny.fb_in1k",
          "vit_base_patch16_clip_224.laion2b_ft_in1k",
          "convnext_tiny.fb_in22k",
          "robust_convnext_tiny",
          "edgenext_small.usi_in1k",
          "convnext_base.clip_laion2b_augreg_ft_in12k_in1k",
          "coatnet_2_rw_224.sw_in12k",
          "robust_deit_small_patch16_224",
          "coatnet_0_rw_224.sw_in1k",
          "vit_base_patch16_clip_224.laion2b",
          "vit_base_patch16_224.augreg_in1k",
          "coatnet_2_rw_224.sw_in12k_ft_in1k",
          "deit_tiny_patch16_224.fb_in1k",
          "vit_base_patch16_224.mae",
          "swin_tiny_patch4_window7_224.ms_in1k",
          "robust_resnet50",
          "robust_vit_base_patch16_224",
          "vit_base_patch16_224.augreg_in21k",
          "vit_small_patch16_224.augreg_in1k",
          "regnetx_004.pycls_in1k",
          "resnet50.a1_in1k",
          "mobilenetv3_large_100.ra_in1k",
          "vit_small_patch16_224.augreg_in21k_ft_in1k",
          "eva02_tiny_patch14_224.mim_in22k",
          "vit_small_patch16_224.augreg_in21k",
          "vit_base_patch16_224.augreg_in21k_ft_in1k",
          "deit_small_patch16_224.fb_in1k",
          "coat_tiny.in1k",
          "vit_small_patch16_224.dino",
          "efficientnet-b0",
          "mobilevit-small"
         ],
         "xaxis": "x",
         "y": [
          19.789301587301587,
          19.396968253968254,
          18.235888888888887,
          18.05390476190476,
          17.59952380952381,
          17.01639682539683,
          16.63130158730159,
          16.489968253968254,
          16.42042857142857,
          15.604809523809525,
          15.24073015873016,
          15.066190476190478,
          14.712079365079365,
          14.662857142857144,
          14.625873015873015,
          14.30042857142857,
          13.210857142857144,
          13.198714285714287,
          12.831396825396824,
          12.497777777777777,
          11.384238095238095,
          11.266238095238098,
          10.922761904761904,
          9.993523809523811,
          9.827396825396825,
          9.284619047619048,
          9.20452380952381,
          9.144730158730159,
          9.000444444444444,
          8.874571428571429,
          8.869428571428571,
          8.685698412698413,
          8.368904761904762,
          8.256285714285713,
          7.76604761904762,
          6.858126984126985,
          6.469682539682539,
          5.332063492063492,
          3.465190476190476,
          3.295666666666667
         ],
         "yaxis": "y"
        },
        {
         "customdata": [
          [
           "FFT (50 epochs)",
           "CLASSIC_AT"
          ],
          [
           "FFT (50 epochs)",
           "CLASSIC_AT"
          ],
          [
           "FFT (50 epochs)",
           "CLASSIC_AT"
          ],
          [
           "FFT (50 epochs)",
           "CLASSIC_AT"
          ],
          [
           "FFT (50 epochs)",
           "CLASSIC_AT"
          ],
          [
           "FFT (50 epochs)",
           "CLASSIC_AT"
          ],
          [
           "FFT (50 epochs)",
           "CLASSIC_AT"
          ],
          [
           "FFT (50 epochs)",
           "CLASSIC_AT"
          ],
          [
           "FFT (50 epochs)",
           "CLASSIC_AT"
          ],
          [
           "FFT (50 epochs)",
           "CLASSIC_AT"
          ],
          [
           "FFT (50 epochs)",
           "CLASSIC_AT"
          ],
          [
           "FFT (50 epochs)",
           "CLASSIC_AT"
          ],
          [
           "FFT (50 epochs)",
           "CLASSIC_AT"
          ],
          [
           "FFT (50 epochs)",
           "CLASSIC_AT"
          ],
          [
           "FFT (50 epochs)",
           "CLASSIC_AT"
          ],
          [
           "FFT (50 epochs)",
           "CLASSIC_AT"
          ],
          [
           "FFT (50 epochs)",
           "CLASSIC_AT"
          ],
          [
           "FFT (50 epochs)",
           "CLASSIC_AT"
          ],
          [
           "FFT (50 epochs)",
           "CLASSIC_AT"
          ],
          [
           "FFT (50 epochs)",
           "CLASSIC_AT"
          ],
          [
           "FFT (50 epochs)",
           "CLASSIC_AT"
          ],
          [
           "FFT (50 epochs)",
           "CLASSIC_AT"
          ],
          [
           "FFT (50 epochs)",
           "CLASSIC_AT"
          ],
          [
           "FFT (50 epochs)",
           "CLASSIC_AT"
          ],
          [
           "FFT (50 epochs)",
           "CLASSIC_AT"
          ],
          [
           "FFT (50 epochs)",
           "CLASSIC_AT"
          ],
          [
           "FFT (50 epochs)",
           "CLASSIC_AT"
          ],
          [
           "FFT (50 epochs)",
           "CLASSIC_AT"
          ],
          [
           "FFT (50 epochs)",
           "CLASSIC_AT"
          ],
          [
           "FFT (50 epochs)",
           "CLASSIC_AT"
          ],
          [
           "FFT (50 epochs)",
           "CLASSIC_AT"
          ],
          [
           "FFT (50 epochs)",
           "CLASSIC_AT"
          ],
          [
           "FFT (50 epochs)",
           "CLASSIC_AT"
          ],
          [
           "FFT (50 epochs)",
           "CLASSIC_AT"
          ],
          [
           "FFT (50 epochs)",
           "CLASSIC_AT"
          ],
          [
           "FFT (50 epochs)",
           "CLASSIC_AT"
          ],
          [
           "FFT (50 epochs)",
           "CLASSIC_AT"
          ],
          [
           "FFT (50 epochs)",
           "CLASSIC_AT"
          ],
          [
           "FFT (50 epochs)",
           "CLASSIC_AT"
          ],
          [
           "FFT (50 epochs)",
           "CLASSIC_AT"
          ]
         ],
         "hovertemplate": "ft_strategy=%{customdata[0]}<br>loss_function=%{customdata[1]}<br>backbone=%{x}<br>TOTAL_score_sum=%{y}<extra></extra>",
         "legendgroup": "FFT (50 epochs), CLASSIC_AT",
         "marker": {
          "color": "#E69F00",
          "symbol": "square"
         },
         "mode": "markers",
         "name": "FFT (50 epochs), CLASSIC_AT",
         "orientation": "v",
         "showlegend": true,
         "type": "scatter",
         "x": [
          "swin_base_patch4_window7_224.ms_in22k_ft_in1k",
          "CLIP-convnext_base_w-laion2B-s13B-b82K",
          "convnext_base.fb_in22k",
          "convnext_base.fb_in22k_ft_in1k",
          "convnext_tiny.fb_in1k",
          "CLIP-convnext_base_w-laion_aesthetic-s13B-b82K",
          "convnext_tiny.fb_in22k",
          "convnext_base.fb_in1k",
          "robust_convnext_base",
          "eva02_base_patch14_224.mim_in22k",
          "robust_resnet50",
          "vit_base_patch16_224.augreg_in1k",
          "robust_deit_small_patch16_224",
          "regnetx_004.pycls_in1k",
          "vit_base_patch16_224.mae",
          "robust_convnext_tiny",
          "swin_tiny_patch4_window7_224.ms_in1k",
          "convnext_tiny.fb_in22k_ft_in1k",
          "convnext_base.clip_laion2b_augreg_ft_in12k_in1k",
          "coatnet_2_rw_224.sw_in12k_ft_in1k",
          "edgenext_small.usi_in1k",
          "mobilenetv3_large_100.ra_in1k",
          "vit_base_patch16_224.augreg_in21k",
          "vit_base_patch16_clip_224.laion2b",
          "coatnet_2_rw_224.sw_in12k",
          "deit_small_patch16_224.fb_in1k",
          "resnet50.a1_in1k",
          "robust_vit_base_patch16_224",
          "deit_tiny_patch16_224.fb_in1k",
          "vit_base_patch16_224.augreg_in21k_ft_in1k",
          "coatnet_0_rw_224.sw_in1k",
          "vit_small_patch16_224.dino",
          "vit_small_patch16_224.augreg_in21k",
          "vit_small_patch16_224.augreg_in21k_ft_in1k",
          "vit_base_patch16_clip_224.laion2b_ft_in1k",
          "eva02_tiny_patch14_224.mim_in22k",
          "mobilevit-small",
          "efficientnet-b0",
          "vit_small_patch16_224.augreg_in1k",
          "coat_tiny.in1k"
         ],
         "xaxis": "x",
         "y": [
          15.93436507936508,
          14.595238095238095,
          14.290888888888889,
          14.26668253968254,
          14.190666666666667,
          13.713619047619048,
          13.121666666666666,
          12.883857142857144,
          12.871698412698413,
          12.358380952380951,
          11.786952380952382,
          11.306857142857144,
          11.169269841269841,
          10.845761904761906,
          10.652857142857142,
          10.63004761904762,
          10.30595238095238,
          8.96915873015873,
          8.95095238095238,
          8.943333333333333,
          8.825714285714287,
          8.747539682539681,
          8.744079365079365,
          8.554015873015873,
          8.454142857142857,
          8.404936507936508,
          7.891190476190476,
          7.738222222222221,
          7.61152380952381,
          7.513095238095238,
          7.354095238095239,
          6.640190476190476,
          6.476619047619048,
          6.104857142857144,
          5.8201269841269845,
          5.497158730158731,
          4.924285714285714,
          3.9464285714285716,
          2.7429047619047617,
          1.5930952380952381
         ],
         "yaxis": "y"
        },
        {
         "customdata": [
          [
           "LP (50 epochs)",
           "TRADES_v2"
          ],
          [
           "LP (50 epochs)",
           "TRADES_v2"
          ],
          [
           "LP (50 epochs)",
           "TRADES_v2"
          ],
          [
           "LP (50 epochs)",
           "TRADES_v2"
          ],
          [
           "LP (50 epochs)",
           "TRADES_v2"
          ],
          [
           "LP (50 epochs)",
           "TRADES_v2"
          ],
          [
           "LP (50 epochs)",
           "TRADES_v2"
          ],
          [
           "LP (50 epochs)",
           "TRADES_v2"
          ],
          [
           "LP (50 epochs)",
           "TRADES_v2"
          ],
          [
           "LP (50 epochs)",
           "TRADES_v2"
          ],
          [
           "LP (50 epochs)",
           "TRADES_v2"
          ],
          [
           "LP (50 epochs)",
           "TRADES_v2"
          ],
          [
           "LP (50 epochs)",
           "TRADES_v2"
          ],
          [
           "LP (50 epochs)",
           "TRADES_v2"
          ],
          [
           "LP (50 epochs)",
           "TRADES_v2"
          ],
          [
           "LP (50 epochs)",
           "TRADES_v2"
          ],
          [
           "LP (50 epochs)",
           "TRADES_v2"
          ],
          [
           "LP (50 epochs)",
           "TRADES_v2"
          ],
          [
           "LP (50 epochs)",
           "TRADES_v2"
          ],
          [
           "LP (50 epochs)",
           "TRADES_v2"
          ],
          [
           "LP (50 epochs)",
           "TRADES_v2"
          ],
          [
           "LP (50 epochs)",
           "TRADES_v2"
          ],
          [
           "LP (50 epochs)",
           "TRADES_v2"
          ],
          [
           "LP (50 epochs)",
           "TRADES_v2"
          ],
          [
           "LP (50 epochs)",
           "TRADES_v2"
          ],
          [
           "LP (50 epochs)",
           "TRADES_v2"
          ],
          [
           "LP (50 epochs)",
           "TRADES_v2"
          ],
          [
           "LP (50 epochs)",
           "TRADES_v2"
          ],
          [
           "LP (50 epochs)",
           "TRADES_v2"
          ],
          [
           "LP (50 epochs)",
           "TRADES_v2"
          ],
          [
           "LP (50 epochs)",
           "TRADES_v2"
          ],
          [
           "LP (50 epochs)",
           "TRADES_v2"
          ],
          [
           "LP (50 epochs)",
           "TRADES_v2"
          ],
          [
           "LP (50 epochs)",
           "TRADES_v2"
          ],
          [
           "LP (50 epochs)",
           "TRADES_v2"
          ],
          [
           "LP (50 epochs)",
           "TRADES_v2"
          ],
          [
           "LP (50 epochs)",
           "TRADES_v2"
          ],
          [
           "LP (50 epochs)",
           "TRADES_v2"
          ],
          [
           "LP (50 epochs)",
           "TRADES_v2"
          ],
          [
           "LP (50 epochs)",
           "TRADES_v2"
          ]
         ],
         "hovertemplate": "ft_strategy=%{customdata[0]}<br>loss_function=%{customdata[1]}<br>backbone=%{x}<br>TOTAL_score_sum=%{y}<extra></extra>",
         "legendgroup": "LP (50 epochs), TRADES_v2",
         "marker": {
          "color": "#56B4E9",
          "symbol": "star"
         },
         "mode": "markers",
         "name": "LP (50 epochs), TRADES_v2",
         "orientation": "v",
         "showlegend": true,
         "type": "scatter",
         "x": [
          "eva02_base_patch14_224.mim_in22k",
          "swin_base_patch4_window7_224.ms_in22k_ft_in1k",
          "convnext_base.fb_in22k_ft_in1k",
          "robust_convnext_tiny",
          "CLIP-convnext_base_w-laion2B-s13B-b82K",
          "CLIP-convnext_base_w-laion_aesthetic-s13B-b82K",
          "coatnet_2_rw_224.sw_in12k_ft_in1k",
          "convnext_base.fb_in22k",
          "robust_deit_small_patch16_224",
          "vit_base_patch16_clip_224.laion2b_ft_in1k",
          "convnext_tiny.fb_in22k",
          "vit_base_patch16_clip_224.laion2b",
          "convnext_base.clip_laion2b_augreg_ft_in12k_in1k",
          "swin_tiny_patch4_window7_224.ms_in1k",
          "convnext_base.fb_in1k",
          "coatnet_0_rw_224.sw_in1k",
          "coatnet_2_rw_224.sw_in12k",
          "robust_resnet50",
          "edgenext_small.usi_in1k",
          "convnext_tiny.fb_in1k",
          "vit_base_patch16_224.augreg_in1k",
          "convnext_tiny.fb_in22k_ft_in1k",
          "deit_tiny_patch16_224.fb_in1k",
          "mobilenetv3_large_100.ra_in1k",
          "robust_convnext_base",
          "vit_small_patch16_224.augreg_in21k_ft_in1k",
          "resnet50.a1_in1k",
          "deit_small_patch16_224.fb_in1k",
          "vit_small_patch16_224.augreg_in21k",
          "eva02_tiny_patch14_224.mim_in22k",
          "vit_small_patch16_224.augreg_in1k",
          "regnetx_004.pycls_in1k",
          "vit_base_patch16_224.augreg_in21k_ft_in1k",
          "robust_vit_base_patch16_224",
          "coat_tiny.in1k",
          "vit_base_patch16_224.augreg_in21k",
          "vit_base_patch16_224.mae",
          "vit_small_patch16_224.dino",
          "efficientnet-b0",
          "mobilevit-small"
         ],
         "xaxis": "x",
         "y": [
          8.113412698412699,
          8.003857142857143,
          7.923714285714286,
          7.566746031746032,
          7.543333333333333,
          7.351238095238096,
          7.091619047619048,
          7.0374285714285705,
          6.966619047619048,
          6.9355714285714285,
          6.786412698412698,
          6.614619047619048,
          6.589539682539682,
          5.821698412698413,
          5.598190476190476,
          5.377380952380952,
          5.048301587301587,
          4.983190476190476,
          4.612507936507937,
          4.372285714285715,
          4.339666666666666,
          3.740952380952381,
          3.535,
          3.4052857142857142,
          3.3896190476190475,
          3.2846190476190475,
          3.0761904761904764,
          2.9653968253968253,
          2.792761904761905,
          2.4287936507936507,
          2.360809523809524,
          2.116174603174603,
          1.9507777777777777,
          1.7374285714285713,
          1.4621428571428572,
          1.039031746031746,
          0.8672857142857143,
          0.5582539682539682,
          0.5425238095238094,
          0.28044444444444444
         ],
         "yaxis": "y"
        },
        {
         "customdata": [
          [
           "LP (50 epochs)",
           "CLASSIC_AT"
          ],
          [
           "LP (50 epochs)",
           "CLASSIC_AT"
          ],
          [
           "LP (50 epochs)",
           "CLASSIC_AT"
          ],
          [
           "LP (50 epochs)",
           "CLASSIC_AT"
          ],
          [
           "LP (50 epochs)",
           "CLASSIC_AT"
          ],
          [
           "LP (50 epochs)",
           "CLASSIC_AT"
          ],
          [
           "LP (50 epochs)",
           "CLASSIC_AT"
          ],
          [
           "LP (50 epochs)",
           "CLASSIC_AT"
          ],
          [
           "LP (50 epochs)",
           "CLASSIC_AT"
          ],
          [
           "LP (50 epochs)",
           "CLASSIC_AT"
          ],
          [
           "LP (50 epochs)",
           "CLASSIC_AT"
          ],
          [
           "LP (50 epochs)",
           "CLASSIC_AT"
          ],
          [
           "LP (50 epochs)",
           "CLASSIC_AT"
          ],
          [
           "LP (50 epochs)",
           "CLASSIC_AT"
          ],
          [
           "LP (50 epochs)",
           "CLASSIC_AT"
          ],
          [
           "LP (50 epochs)",
           "CLASSIC_AT"
          ],
          [
           "LP (50 epochs)",
           "CLASSIC_AT"
          ],
          [
           "LP (50 epochs)",
           "CLASSIC_AT"
          ],
          [
           "LP (50 epochs)",
           "CLASSIC_AT"
          ],
          [
           "LP (50 epochs)",
           "CLASSIC_AT"
          ],
          [
           "LP (50 epochs)",
           "CLASSIC_AT"
          ],
          [
           "LP (50 epochs)",
           "CLASSIC_AT"
          ],
          [
           "LP (50 epochs)",
           "CLASSIC_AT"
          ],
          [
           "LP (50 epochs)",
           "CLASSIC_AT"
          ],
          [
           "LP (50 epochs)",
           "CLASSIC_AT"
          ],
          [
           "LP (50 epochs)",
           "CLASSIC_AT"
          ],
          [
           "LP (50 epochs)",
           "CLASSIC_AT"
          ],
          [
           "LP (50 epochs)",
           "CLASSIC_AT"
          ],
          [
           "LP (50 epochs)",
           "CLASSIC_AT"
          ],
          [
           "LP (50 epochs)",
           "CLASSIC_AT"
          ],
          [
           "LP (50 epochs)",
           "CLASSIC_AT"
          ],
          [
           "LP (50 epochs)",
           "CLASSIC_AT"
          ],
          [
           "LP (50 epochs)",
           "CLASSIC_AT"
          ],
          [
           "LP (50 epochs)",
           "CLASSIC_AT"
          ],
          [
           "LP (50 epochs)",
           "CLASSIC_AT"
          ],
          [
           "LP (50 epochs)",
           "CLASSIC_AT"
          ],
          [
           "LP (50 epochs)",
           "CLASSIC_AT"
          ],
          [
           "LP (50 epochs)",
           "CLASSIC_AT"
          ],
          [
           "LP (50 epochs)",
           "CLASSIC_AT"
          ],
          [
           "LP (50 epochs)",
           "CLASSIC_AT"
          ]
         ],
         "hovertemplate": "ft_strategy=%{customdata[0]}<br>loss_function=%{customdata[1]}<br>backbone=%{x}<br>TOTAL_score_sum=%{y}<extra></extra>",
         "legendgroup": "LP (50 epochs), CLASSIC_AT",
         "marker": {
          "color": "#56B4E9",
          "symbol": "square"
         },
         "mode": "markers",
         "name": "LP (50 epochs), CLASSIC_AT",
         "orientation": "v",
         "showlegend": true,
         "type": "scatter",
         "x": [
          "robust_deit_small_patch16_224",
          "swin_base_patch4_window7_224.ms_in22k_ft_in1k",
          "robust_convnext_tiny",
          "robust_resnet50",
          "coatnet_2_rw_224.sw_in12k",
          "coatnet_2_rw_224.sw_in12k_ft_in1k",
          "convnext_base.fb_in22k",
          "vit_base_patch16_clip_224.laion2b_ft_in1k",
          "convnext_base.clip_laion2b_augreg_ft_in12k_in1k",
          "eva02_base_patch14_224.mim_in22k",
          "convnext_base.fb_in22k_ft_in1k",
          "coatnet_0_rw_224.sw_in1k",
          "CLIP-convnext_base_w-laion2B-s13B-b82K",
          "vit_base_patch16_clip_224.laion2b",
          "mobilenetv3_large_100.ra_in1k",
          "vit_base_patch16_224.augreg_in21k_ft_in1k",
          "resnet50.a1_in1k",
          "convnext_tiny.fb_in22k_ft_in1k",
          "swin_tiny_patch4_window7_224.ms_in1k",
          "vit_small_patch16_224.augreg_in21k",
          "vit_base_patch16_224.augreg_in21k",
          "vit_base_patch16_224.augreg_in1k",
          "convnext_base.fb_in1k",
          "CLIP-convnext_base_w-laion_aesthetic-s13B-b82K",
          "robust_convnext_base",
          "vit_small_patch16_224.augreg_in21k_ft_in1k",
          "regnetx_004.pycls_in1k",
          "vit_small_patch16_224.dino",
          "convnext_tiny.fb_in1k",
          "vit_small_patch16_224.augreg_in1k",
          "convnext_tiny.fb_in22k",
          "deit_small_patch16_224.fb_in1k",
          "robust_vit_base_patch16_224",
          "eva02_tiny_patch14_224.mim_in22k",
          "edgenext_small.usi_in1k",
          "deit_tiny_patch16_224.fb_in1k",
          "efficientnet-b0",
          "vit_base_patch16_224.mae",
          "coat_tiny.in1k",
          "mobilevit-small"
         ],
         "xaxis": "x",
         "y": [
          9.132142857142856,
          6.436619047619048,
          6.309174603174602,
          6.186666666666667,
          5.877095238095238,
          5.816666666666666,
          5.7843809523809515,
          5.730476190476191,
          5.440095238095238,
          5.160714285714286,
          4.620285714285714,
          4.020015873015874,
          3.9569047619047617,
          3.844190476190476,
          3.8256666666666668,
          3.658650793650794,
          3.469952380952381,
          3.261,
          3.2461269841269837,
          3.205714285714286,
          3.0946666666666665,
          2.9516190476190474,
          2.8666349206349206,
          2.8577460317460317,
          2.8145555555555557,
          2.748936507936508,
          2.6655238095238096,
          2.6437460317460317,
          2.067761904761905,
          2.048047619047619,
          1.920301587301587,
          1.7058095238095237,
          1.4494285714285717,
          1.3176031746031747,
          1.2254285714285713,
          1.0727142857142857,
          0.9750952380952382,
          0.6882380952380953,
          0.35285714285714287,
          0.3169047619047619
         ],
         "yaxis": "y"
        },
        {
         "customdata": [
          [
           "FFT (5 epochs)",
           "TRADES_v2"
          ],
          [
           "FFT (5 epochs)",
           "TRADES_v2"
          ],
          [
           "FFT (5 epochs)",
           "TRADES_v2"
          ],
          [
           "FFT (5 epochs)",
           "TRADES_v2"
          ],
          [
           "FFT (5 epochs)",
           "TRADES_v2"
          ],
          [
           "FFT (5 epochs)",
           "TRADES_v2"
          ],
          [
           "FFT (5 epochs)",
           "TRADES_v2"
          ],
          [
           "FFT (5 epochs)",
           "TRADES_v2"
          ],
          [
           "FFT (5 epochs)",
           "TRADES_v2"
          ],
          [
           "FFT (5 epochs)",
           "TRADES_v2"
          ],
          [
           "FFT (5 epochs)",
           "TRADES_v2"
          ],
          [
           "FFT (5 epochs)",
           "TRADES_v2"
          ],
          [
           "FFT (5 epochs)",
           "TRADES_v2"
          ],
          [
           "FFT (5 epochs)",
           "TRADES_v2"
          ],
          [
           "FFT (5 epochs)",
           "TRADES_v2"
          ],
          [
           "FFT (5 epochs)",
           "TRADES_v2"
          ],
          [
           "FFT (5 epochs)",
           "TRADES_v2"
          ],
          [
           "FFT (5 epochs)",
           "TRADES_v2"
          ],
          [
           "FFT (5 epochs)",
           "TRADES_v2"
          ],
          [
           "FFT (5 epochs)",
           "TRADES_v2"
          ],
          [
           "FFT (5 epochs)",
           "TRADES_v2"
          ],
          [
           "FFT (5 epochs)",
           "TRADES_v2"
          ],
          [
           "FFT (5 epochs)",
           "TRADES_v2"
          ],
          [
           "FFT (5 epochs)",
           "TRADES_v2"
          ],
          [
           "FFT (5 epochs)",
           "TRADES_v2"
          ],
          [
           "FFT (5 epochs)",
           "TRADES_v2"
          ],
          [
           "FFT (5 epochs)",
           "TRADES_v2"
          ],
          [
           "FFT (5 epochs)",
           "TRADES_v2"
          ],
          [
           "FFT (5 epochs)",
           "TRADES_v2"
          ],
          [
           "FFT (5 epochs)",
           "TRADES_v2"
          ],
          [
           "FFT (5 epochs)",
           "TRADES_v2"
          ],
          [
           "FFT (5 epochs)",
           "TRADES_v2"
          ],
          [
           "FFT (5 epochs)",
           "TRADES_v2"
          ],
          [
           "FFT (5 epochs)",
           "TRADES_v2"
          ],
          [
           "FFT (5 epochs)",
           "TRADES_v2"
          ],
          [
           "FFT (5 epochs)",
           "TRADES_v2"
          ],
          [
           "FFT (5 epochs)",
           "TRADES_v2"
          ],
          [
           "FFT (5 epochs)",
           "TRADES_v2"
          ],
          [
           "FFT (5 epochs)",
           "TRADES_v2"
          ],
          [
           "FFT (5 epochs)",
           "TRADES_v2"
          ]
         ],
         "hovertemplate": "ft_strategy=%{customdata[0]}<br>loss_function=%{customdata[1]}<br>backbone=%{x}<br>TOTAL_score_sum=%{y}<extra></extra>",
         "legendgroup": "FFT (5 epochs), TRADES_v2",
         "marker": {
          "color": "#009E73",
          "symbol": "star"
         },
         "mode": "markers",
         "name": "FFT (5 epochs), TRADES_v2",
         "orientation": "v",
         "showlegend": true,
         "type": "scatter",
         "x": [
          "swin_base_patch4_window7_224.ms_in22k_ft_in1k",
          "convnext_base.fb_in1k",
          "robust_convnext_tiny",
          "convnext_base.fb_in22k",
          "eva02_base_patch14_224.mim_in22k",
          "mobilenetv3_large_100.ra_in1k",
          "swin_tiny_patch4_window7_224.ms_in1k",
          "CLIP-convnext_base_w-laion_aesthetic-s13B-b82K",
          "convnext_tiny.fb_in1k",
          "deit_small_patch16_224.fb_in1k",
          "vit_base_patch16_clip_224.laion2b",
          "CLIP-convnext_base_w-laion2B-s13B-b82K",
          "robust_resnet50",
          "vit_base_patch16_224.augreg_in1k",
          "convnext_base.fb_in22k_ft_in1k",
          "edgenext_small.usi_in1k",
          "robust_convnext_base",
          "resnet50.a1_in1k",
          "coat_tiny.in1k",
          "robust_vit_base_patch16_224",
          "vit_small_patch16_224.augreg_in21k",
          "deit_tiny_patch16_224.fb_in1k",
          "coatnet_0_rw_224.sw_in1k",
          "vit_base_patch16_clip_224.laion2b_ft_in1k",
          "vit_small_patch16_224.augreg_in1k",
          "convnext_base.clip_laion2b_augreg_ft_in12k_in1k",
          "regnetx_004.pycls_in1k",
          "eva02_tiny_patch14_224.mim_in22k",
          "robust_deit_small_patch16_224",
          "coatnet_2_rw_224.sw_in12k",
          "convnext_tiny.fb_in22k",
          "vit_small_patch16_224.augreg_in21k_ft_in1k",
          "convnext_tiny.fb_in22k_ft_in1k",
          "vit_base_patch16_224.augreg_in21k",
          "mobilevit-small",
          "coatnet_2_rw_224.sw_in12k_ft_in1k",
          "vit_base_patch16_224.mae",
          "vit_base_patch16_224.augreg_in21k_ft_in1k",
          "efficientnet-b0",
          "vit_small_patch16_224.dino"
         ],
         "xaxis": "x",
         "y": [
          7.26968253968254,
          6.424079365079366,
          6.071904761904762,
          5.775333333333333,
          5.7492857142857146,
          5.7153809523809525,
          5.6828095238095235,
          5.568825396825397,
          5.52152380952381,
          5.391761904761903,
          4.898714285714286,
          4.634952380952382,
          4.334523809523809,
          4.174904761904761,
          4.142571428571428,
          3.861761904761905,
          3.354571428571429,
          3.2590000000000003,
          3.0890476190476193,
          2.857142857142857,
          2.750571428571429,
          2.646619047619047,
          2.5976666666666666,
          2.4023650793650795,
          2.3343650793650794,
          1.9308095238095238,
          1.6425238095238097,
          1.2602380952380952,
          1.2424285714285714,
          1.193,
          1.1317619047619047,
          0.9217301587301587,
          0.9026190476190475,
          0.8961428571428571,
          0.8911587301587302,
          0.6993015873015873,
          0.6669047619047619,
          0.5341904761904762,
          0.5091428571428571,
          0.35160317460317464
         ],
         "yaxis": "y"
        },
        {
         "customdata": [
          [
           "FFT (5 epochs)",
           "CLASSIC_AT"
          ],
          [
           "FFT (5 epochs)",
           "CLASSIC_AT"
          ],
          [
           "FFT (5 epochs)",
           "CLASSIC_AT"
          ],
          [
           "FFT (5 epochs)",
           "CLASSIC_AT"
          ],
          [
           "FFT (5 epochs)",
           "CLASSIC_AT"
          ],
          [
           "FFT (5 epochs)",
           "CLASSIC_AT"
          ],
          [
           "FFT (5 epochs)",
           "CLASSIC_AT"
          ],
          [
           "FFT (5 epochs)",
           "CLASSIC_AT"
          ],
          [
           "FFT (5 epochs)",
           "CLASSIC_AT"
          ],
          [
           "FFT (5 epochs)",
           "CLASSIC_AT"
          ],
          [
           "FFT (5 epochs)",
           "CLASSIC_AT"
          ],
          [
           "FFT (5 epochs)",
           "CLASSIC_AT"
          ],
          [
           "FFT (5 epochs)",
           "CLASSIC_AT"
          ],
          [
           "FFT (5 epochs)",
           "CLASSIC_AT"
          ],
          [
           "FFT (5 epochs)",
           "CLASSIC_AT"
          ],
          [
           "FFT (5 epochs)",
           "CLASSIC_AT"
          ],
          [
           "FFT (5 epochs)",
           "CLASSIC_AT"
          ],
          [
           "FFT (5 epochs)",
           "CLASSIC_AT"
          ],
          [
           "FFT (5 epochs)",
           "CLASSIC_AT"
          ],
          [
           "FFT (5 epochs)",
           "CLASSIC_AT"
          ],
          [
           "FFT (5 epochs)",
           "CLASSIC_AT"
          ],
          [
           "FFT (5 epochs)",
           "CLASSIC_AT"
          ],
          [
           "FFT (5 epochs)",
           "CLASSIC_AT"
          ],
          [
           "FFT (5 epochs)",
           "CLASSIC_AT"
          ],
          [
           "FFT (5 epochs)",
           "CLASSIC_AT"
          ],
          [
           "FFT (5 epochs)",
           "CLASSIC_AT"
          ],
          [
           "FFT (5 epochs)",
           "CLASSIC_AT"
          ],
          [
           "FFT (5 epochs)",
           "CLASSIC_AT"
          ],
          [
           "FFT (5 epochs)",
           "CLASSIC_AT"
          ],
          [
           "FFT (5 epochs)",
           "CLASSIC_AT"
          ],
          [
           "FFT (5 epochs)",
           "CLASSIC_AT"
          ],
          [
           "FFT (5 epochs)",
           "CLASSIC_AT"
          ],
          [
           "FFT (5 epochs)",
           "CLASSIC_AT"
          ],
          [
           "FFT (5 epochs)",
           "CLASSIC_AT"
          ],
          [
           "FFT (5 epochs)",
           "CLASSIC_AT"
          ],
          [
           "FFT (5 epochs)",
           "CLASSIC_AT"
          ],
          [
           "FFT (5 epochs)",
           "CLASSIC_AT"
          ],
          [
           "FFT (5 epochs)",
           "CLASSIC_AT"
          ],
          [
           "FFT (5 epochs)",
           "CLASSIC_AT"
          ],
          [
           "FFT (5 epochs)",
           "CLASSIC_AT"
          ]
         ],
         "hovertemplate": "ft_strategy=%{customdata[0]}<br>loss_function=%{customdata[1]}<br>backbone=%{x}<br>TOTAL_score_sum=%{y}<extra></extra>",
         "legendgroup": "FFT (5 epochs), CLASSIC_AT",
         "marker": {
          "color": "#009E73",
          "symbol": "square"
         },
         "mode": "markers",
         "name": "FFT (5 epochs), CLASSIC_AT",
         "orientation": "v",
         "showlegend": true,
         "type": "scatter",
         "x": [
          "robust_convnext_tiny",
          "robust_resnet50",
          "convnext_tiny.fb_in22k_ft_in1k",
          "swin_base_patch4_window7_224.ms_in22k_ft_in1k",
          "deit_small_patch16_224.fb_in1k",
          "robust_deit_small_patch16_224",
          "convnext_base.fb_in1k",
          "vit_base_patch16_224.augreg_in1k",
          "vit_base_patch16_clip_224.laion2b_ft_in1k",
          "convnext_base.fb_in22k",
          "vit_base_patch16_224.augreg_in21k_ft_in1k",
          "eva02_base_patch14_224.mim_in22k",
          "regnetx_004.pycls_in1k",
          "vit_small_patch16_224.augreg_in1k",
          "resnet50.a1_in1k",
          "convnext_tiny.fb_in22k",
          "vit_base_patch16_224.mae",
          "vit_small_patch16_224.augreg_in21k",
          "eva02_tiny_patch14_224.mim_in22k",
          "robust_vit_base_patch16_224",
          "edgenext_small.usi_in1k",
          "mobilevit-small",
          "vit_small_patch16_224.augreg_in21k_ft_in1k",
          "vit_small_patch16_224.dino",
          "coatnet_0_rw_224.sw_in1k",
          "CLIP-convnext_base_w-laion_aesthetic-s13B-b82K",
          "convnext_tiny.fb_in1k",
          "robust_convnext_base",
          "CLIP-convnext_base_w-laion2B-s13B-b82K",
          "coatnet_2_rw_224.sw_in12k_ft_in1k",
          "vit_base_patch16_224.augreg_in21k",
          "convnext_base.fb_in22k_ft_in1k",
          "swin_tiny_patch4_window7_224.ms_in1k",
          "vit_base_patch16_clip_224.laion2b",
          "deit_tiny_patch16_224.fb_in1k",
          "mobilenetv3_large_100.ra_in1k",
          "efficientnet-b0",
          "coatnet_2_rw_224.sw_in12k",
          "convnext_base.clip_laion2b_augreg_ft_in12k_in1k",
          "coat_tiny.in1k"
         ],
         "xaxis": "x",
         "y": [
          7.7293015873015865,
          6.600285714285714,
          4.6191587301587305,
          3.9211428571428564,
          3.9095714285714283,
          3.8021904761904763,
          3.211460317460317,
          2.7159523809523813,
          2.5029682539682536,
          2.328603174603175,
          2.326380952380952,
          1.9996666666666667,
          1.7192539682539683,
          1.659968253968254,
          1.5680952380952382,
          1.5594920634920635,
          1.5273809523809525,
          1.4873809523809525,
          1.448952380952381,
          1.4184761904761907,
          1.370095238095238,
          1.2105714285714286,
          1.1019206349206352,
          1.0684126984126987,
          1.0336190476190477,
          1.0134285714285713,
          0.9645238095238095,
          0.9485873015873016,
          0.9480952380952381,
          0.930063492063492,
          0.7851269841269841,
          0.7804285714285714,
          0.7648095238095236,
          0.7363333333333333,
          0.6436666666666666,
          0.5825714285714285,
          0.5146666666666666,
          0.47950793650793655,
          0.47749206349206347,
          0.45199999999999996
         ],
         "yaxis": "y"
        }
       ],
       "layout": {
        "height": 1000,
        "legend": {
         "title": {
          "text": "ft_strategy, loss_function"
         },
         "tracegroupgap": 0
        },
        "margin": {
         "t": 60
        },
        "paper_bgcolor": "white",
        "plot_bgcolor": "white",
        "showlegend": true,
        "template": {
         "data": {
          "bar": [
           {
            "error_x": {
             "color": "#2a3f5f"
            },
            "error_y": {
             "color": "#2a3f5f"
            },
            "marker": {
             "line": {
              "color": "#E5ECF6",
              "width": 0.5
             },
             "pattern": {
              "fillmode": "overlay",
              "size": 10,
              "solidity": 0.2
             }
            },
            "type": "bar"
           }
          ],
          "barpolar": [
           {
            "marker": {
             "line": {
              "color": "#E5ECF6",
              "width": 0.5
             },
             "pattern": {
              "fillmode": "overlay",
              "size": 10,
              "solidity": 0.2
             }
            },
            "type": "barpolar"
           }
          ],
          "carpet": [
           {
            "aaxis": {
             "endlinecolor": "#2a3f5f",
             "gridcolor": "white",
             "linecolor": "white",
             "minorgridcolor": "white",
             "startlinecolor": "#2a3f5f"
            },
            "baxis": {
             "endlinecolor": "#2a3f5f",
             "gridcolor": "white",
             "linecolor": "white",
             "minorgridcolor": "white",
             "startlinecolor": "#2a3f5f"
            },
            "type": "carpet"
           }
          ],
          "choropleth": [
           {
            "colorbar": {
             "outlinewidth": 0,
             "ticks": ""
            },
            "type": "choropleth"
           }
          ],
          "contour": [
           {
            "colorbar": {
             "outlinewidth": 0,
             "ticks": ""
            },
            "colorscale": [
             [
              0,
              "#0d0887"
             ],
             [
              0.1111111111111111,
              "#46039f"
             ],
             [
              0.2222222222222222,
              "#7201a8"
             ],
             [
              0.3333333333333333,
              "#9c179e"
             ],
             [
              0.4444444444444444,
              "#bd3786"
             ],
             [
              0.5555555555555556,
              "#d8576b"
             ],
             [
              0.6666666666666666,
              "#ed7953"
             ],
             [
              0.7777777777777778,
              "#fb9f3a"
             ],
             [
              0.8888888888888888,
              "#fdca26"
             ],
             [
              1,
              "#f0f921"
             ]
            ],
            "type": "contour"
           }
          ],
          "contourcarpet": [
           {
            "colorbar": {
             "outlinewidth": 0,
             "ticks": ""
            },
            "type": "contourcarpet"
           }
          ],
          "heatmap": [
           {
            "colorbar": {
             "outlinewidth": 0,
             "ticks": ""
            },
            "colorscale": [
             [
              0,
              "#0d0887"
             ],
             [
              0.1111111111111111,
              "#46039f"
             ],
             [
              0.2222222222222222,
              "#7201a8"
             ],
             [
              0.3333333333333333,
              "#9c179e"
             ],
             [
              0.4444444444444444,
              "#bd3786"
             ],
             [
              0.5555555555555556,
              "#d8576b"
             ],
             [
              0.6666666666666666,
              "#ed7953"
             ],
             [
              0.7777777777777778,
              "#fb9f3a"
             ],
             [
              0.8888888888888888,
              "#fdca26"
             ],
             [
              1,
              "#f0f921"
             ]
            ],
            "type": "heatmap"
           }
          ],
          "heatmapgl": [
           {
            "colorbar": {
             "outlinewidth": 0,
             "ticks": ""
            },
            "colorscale": [
             [
              0,
              "#0d0887"
             ],
             [
              0.1111111111111111,
              "#46039f"
             ],
             [
              0.2222222222222222,
              "#7201a8"
             ],
             [
              0.3333333333333333,
              "#9c179e"
             ],
             [
              0.4444444444444444,
              "#bd3786"
             ],
             [
              0.5555555555555556,
              "#d8576b"
             ],
             [
              0.6666666666666666,
              "#ed7953"
             ],
             [
              0.7777777777777778,
              "#fb9f3a"
             ],
             [
              0.8888888888888888,
              "#fdca26"
             ],
             [
              1,
              "#f0f921"
             ]
            ],
            "type": "heatmapgl"
           }
          ],
          "histogram": [
           {
            "marker": {
             "pattern": {
              "fillmode": "overlay",
              "size": 10,
              "solidity": 0.2
             }
            },
            "type": "histogram"
           }
          ],
          "histogram2d": [
           {
            "colorbar": {
             "outlinewidth": 0,
             "ticks": ""
            },
            "colorscale": [
             [
              0,
              "#0d0887"
             ],
             [
              0.1111111111111111,
              "#46039f"
             ],
             [
              0.2222222222222222,
              "#7201a8"
             ],
             [
              0.3333333333333333,
              "#9c179e"
             ],
             [
              0.4444444444444444,
              "#bd3786"
             ],
             [
              0.5555555555555556,
              "#d8576b"
             ],
             [
              0.6666666666666666,
              "#ed7953"
             ],
             [
              0.7777777777777778,
              "#fb9f3a"
             ],
             [
              0.8888888888888888,
              "#fdca26"
             ],
             [
              1,
              "#f0f921"
             ]
            ],
            "type": "histogram2d"
           }
          ],
          "histogram2dcontour": [
           {
            "colorbar": {
             "outlinewidth": 0,
             "ticks": ""
            },
            "colorscale": [
             [
              0,
              "#0d0887"
             ],
             [
              0.1111111111111111,
              "#46039f"
             ],
             [
              0.2222222222222222,
              "#7201a8"
             ],
             [
              0.3333333333333333,
              "#9c179e"
             ],
             [
              0.4444444444444444,
              "#bd3786"
             ],
             [
              0.5555555555555556,
              "#d8576b"
             ],
             [
              0.6666666666666666,
              "#ed7953"
             ],
             [
              0.7777777777777778,
              "#fb9f3a"
             ],
             [
              0.8888888888888888,
              "#fdca26"
             ],
             [
              1,
              "#f0f921"
             ]
            ],
            "type": "histogram2dcontour"
           }
          ],
          "mesh3d": [
           {
            "colorbar": {
             "outlinewidth": 0,
             "ticks": ""
            },
            "type": "mesh3d"
           }
          ],
          "parcoords": [
           {
            "line": {
             "colorbar": {
              "outlinewidth": 0,
              "ticks": ""
             }
            },
            "type": "parcoords"
           }
          ],
          "pie": [
           {
            "automargin": true,
            "type": "pie"
           }
          ],
          "scatter": [
           {
            "fillpattern": {
             "fillmode": "overlay",
             "size": 10,
             "solidity": 0.2
            },
            "type": "scatter"
           }
          ],
          "scatter3d": [
           {
            "line": {
             "colorbar": {
              "outlinewidth": 0,
              "ticks": ""
             }
            },
            "marker": {
             "colorbar": {
              "outlinewidth": 0,
              "ticks": ""
             }
            },
            "type": "scatter3d"
           }
          ],
          "scattercarpet": [
           {
            "marker": {
             "colorbar": {
              "outlinewidth": 0,
              "ticks": ""
             }
            },
            "type": "scattercarpet"
           }
          ],
          "scattergeo": [
           {
            "marker": {
             "colorbar": {
              "outlinewidth": 0,
              "ticks": ""
             }
            },
            "type": "scattergeo"
           }
          ],
          "scattergl": [
           {
            "marker": {
             "colorbar": {
              "outlinewidth": 0,
              "ticks": ""
             }
            },
            "type": "scattergl"
           }
          ],
          "scattermapbox": [
           {
            "marker": {
             "colorbar": {
              "outlinewidth": 0,
              "ticks": ""
             }
            },
            "type": "scattermapbox"
           }
          ],
          "scatterpolar": [
           {
            "marker": {
             "colorbar": {
              "outlinewidth": 0,
              "ticks": ""
             }
            },
            "type": "scatterpolar"
           }
          ],
          "scatterpolargl": [
           {
            "marker": {
             "colorbar": {
              "outlinewidth": 0,
              "ticks": ""
             }
            },
            "type": "scatterpolargl"
           }
          ],
          "scatterternary": [
           {
            "marker": {
             "colorbar": {
              "outlinewidth": 0,
              "ticks": ""
             }
            },
            "type": "scatterternary"
           }
          ],
          "surface": [
           {
            "colorbar": {
             "outlinewidth": 0,
             "ticks": ""
            },
            "colorscale": [
             [
              0,
              "#0d0887"
             ],
             [
              0.1111111111111111,
              "#46039f"
             ],
             [
              0.2222222222222222,
              "#7201a8"
             ],
             [
              0.3333333333333333,
              "#9c179e"
             ],
             [
              0.4444444444444444,
              "#bd3786"
             ],
             [
              0.5555555555555556,
              "#d8576b"
             ],
             [
              0.6666666666666666,
              "#ed7953"
             ],
             [
              0.7777777777777778,
              "#fb9f3a"
             ],
             [
              0.8888888888888888,
              "#fdca26"
             ],
             [
              1,
              "#f0f921"
             ]
            ],
            "type": "surface"
           }
          ],
          "table": [
           {
            "cells": {
             "fill": {
              "color": "#EBF0F8"
             },
             "line": {
              "color": "white"
             }
            },
            "header": {
             "fill": {
              "color": "#C8D4E3"
             },
             "line": {
              "color": "white"
             }
            },
            "type": "table"
           }
          ]
         },
         "layout": {
          "annotationdefaults": {
           "arrowcolor": "#2a3f5f",
           "arrowhead": 0,
           "arrowwidth": 1
          },
          "autotypenumbers": "strict",
          "coloraxis": {
           "colorbar": {
            "outlinewidth": 0,
            "ticks": ""
           }
          },
          "colorscale": {
           "diverging": [
            [
             0,
             "#8e0152"
            ],
            [
             0.1,
             "#c51b7d"
            ],
            [
             0.2,
             "#de77ae"
            ],
            [
             0.3,
             "#f1b6da"
            ],
            [
             0.4,
             "#fde0ef"
            ],
            [
             0.5,
             "#f7f7f7"
            ],
            [
             0.6,
             "#e6f5d0"
            ],
            [
             0.7,
             "#b8e186"
            ],
            [
             0.8,
             "#7fbc41"
            ],
            [
             0.9,
             "#4d9221"
            ],
            [
             1,
             "#276419"
            ]
           ],
           "sequential": [
            [
             0,
             "#0d0887"
            ],
            [
             0.1111111111111111,
             "#46039f"
            ],
            [
             0.2222222222222222,
             "#7201a8"
            ],
            [
             0.3333333333333333,
             "#9c179e"
            ],
            [
             0.4444444444444444,
             "#bd3786"
            ],
            [
             0.5555555555555556,
             "#d8576b"
            ],
            [
             0.6666666666666666,
             "#ed7953"
            ],
            [
             0.7777777777777778,
             "#fb9f3a"
            ],
            [
             0.8888888888888888,
             "#fdca26"
            ],
            [
             1,
             "#f0f921"
            ]
           ],
           "sequentialminus": [
            [
             0,
             "#0d0887"
            ],
            [
             0.1111111111111111,
             "#46039f"
            ],
            [
             0.2222222222222222,
             "#7201a8"
            ],
            [
             0.3333333333333333,
             "#9c179e"
            ],
            [
             0.4444444444444444,
             "#bd3786"
            ],
            [
             0.5555555555555556,
             "#d8576b"
            ],
            [
             0.6666666666666666,
             "#ed7953"
            ],
            [
             0.7777777777777778,
             "#fb9f3a"
            ],
            [
             0.8888888888888888,
             "#fdca26"
            ],
            [
             1,
             "#f0f921"
            ]
           ]
          },
          "colorway": [
           "#636efa",
           "#EF553B",
           "#00cc96",
           "#ab63fa",
           "#FFA15A",
           "#19d3f3",
           "#FF6692",
           "#B6E880",
           "#FF97FF",
           "#FECB52"
          ],
          "font": {
           "color": "#2a3f5f"
          },
          "geo": {
           "bgcolor": "white",
           "lakecolor": "white",
           "landcolor": "#E5ECF6",
           "showlakes": true,
           "showland": true,
           "subunitcolor": "white"
          },
          "hoverlabel": {
           "align": "left"
          },
          "hovermode": "closest",
          "mapbox": {
           "style": "light"
          },
          "paper_bgcolor": "white",
          "plot_bgcolor": "#E5ECF6",
          "polar": {
           "angularaxis": {
            "gridcolor": "white",
            "linecolor": "white",
            "ticks": ""
           },
           "bgcolor": "#E5ECF6",
           "radialaxis": {
            "gridcolor": "white",
            "linecolor": "white",
            "ticks": ""
           }
          },
          "scene": {
           "xaxis": {
            "backgroundcolor": "#E5ECF6",
            "gridcolor": "white",
            "gridwidth": 2,
            "linecolor": "white",
            "showbackground": true,
            "ticks": "",
            "zerolinecolor": "white"
           },
           "yaxis": {
            "backgroundcolor": "#E5ECF6",
            "gridcolor": "white",
            "gridwidth": 2,
            "linecolor": "white",
            "showbackground": true,
            "ticks": "",
            "zerolinecolor": "white"
           },
           "zaxis": {
            "backgroundcolor": "#E5ECF6",
            "gridcolor": "white",
            "gridwidth": 2,
            "linecolor": "white",
            "showbackground": true,
            "ticks": "",
            "zerolinecolor": "white"
           }
          },
          "shapedefaults": {
           "line": {
            "color": "#2a3f5f"
           }
          },
          "ternary": {
           "aaxis": {
            "gridcolor": "white",
            "linecolor": "white",
            "ticks": ""
           },
           "baxis": {
            "gridcolor": "white",
            "linecolor": "white",
            "ticks": ""
           },
           "bgcolor": "#E5ECF6",
           "caxis": {
            "gridcolor": "white",
            "linecolor": "white",
            "ticks": ""
           }
          },
          "title": {
           "x": 0.05
          },
          "xaxis": {
           "automargin": true,
           "gridcolor": "white",
           "linecolor": "white",
           "ticks": "",
           "title": {
            "standoff": 15
           },
           "zerolinecolor": "white",
           "zerolinewidth": 2
          },
          "yaxis": {
           "automargin": true,
           "gridcolor": "white",
           "linecolor": "white",
           "ticks": "",
           "title": {
            "standoff": 15
           },
           "zerolinecolor": "white",
           "zerolinewidth": 2
          }
         }
        },
        "width": 1500,
        "xaxis": {
         "anchor": "y",
         "domain": [
          0,
          1
         ],
         "gridcolor": "lightgrey",
         "showgrid": true,
         "title": {
          "text": "backbone"
         },
         "zeroline": false
        },
        "yaxis": {
         "anchor": "x",
         "domain": [
          0,
          1
         ],
         "gridcolor": "lightgrey",
         "showgrid": true,
         "title": {
          "text": "Aggregate Accuracy Score"
         },
         "zeroline": false
        }
       }
      }
     },
     "metadata": {},
     "output_type": "display_data"
    }
   ],
   "source": [
    "import pandas as pd\n",
    "import plotly.express as px\n",
    "\n",
    "\n",
    "custom_palette = [\"#E69F00\", \"#56B4E9\", \"#009E73\"]  # choose a set above\n",
    "\n",
    "# ── 1.  Rank backbones by their aggregate TOTAL_score_sum ───────────────────────\n",
    "backbone_order = (\n",
    "    sub_df.groupby(\"backbone\")[\"TOTAL_score_sum\"]\n",
    "          .sum()                       # sum over the 6 settings\n",
    "          .sort_values(ascending=False)\n",
    "          .index                       # → ordered list of backbones\n",
    "          .tolist()\n",
    ")\n",
    "\n",
    "# Make the column an ordered categorical so Plotly respects the ranking\n",
    "sub_df[\"backbone\"] = pd.Categorical(\n",
    "    sub_df[\"backbone\"],\n",
    "    categories=backbone_order,\n",
    "    ordered=True\n",
    ")\n",
    "\n",
    "# ── 2.  Custom colours / markers ───────────────────────────────────────────────\n",
    "color_map = {\n",
    "    \"full_fine_tuning_50epochs\": custom_palette[0],#\"orange\",\n",
    "    \"full_fine_tuning_5epochs\":  custom_palette[1],#\"purple\",\n",
    "    \"linearprobe_50epochs\": custom_palette[2]     #\"green\",\n",
    "}\n",
    "symbol_map = {\"TRADES_v2\": \"star\", \"CLASSIC_AT\": \"square\"}\n",
    "\n",
    "# ── 3.  Plot ───────────────────────────────────────────────────────────────────\n",
    "fig = px.scatter(\n",
    "    sub_df,\n",
    "    width=1500, \n",
    "    height=1000,\n",
    "    color_discrete_sequence=custom_palette,\n",
    "    x= \"backbone\",\n",
    "    y=\"TOTAL_score_sum\",\n",
    "    color=\"ft_strategy\",\n",
    "    symbol=\"loss_function\",\n",
    "    color_discrete_map=color_map,\n",
    "    symbol_map=symbol_map,\n",
    "    hover_data=[\"backbone\", \"ft_strategy\", \"loss_function\", \"TOTAL_score_sum\"],\n",
    ")\n",
    "\n",
    "fig.update_layout(\n",
    "    paper_bgcolor=\"white\",   # outside the plotting area\n",
    "    plot_bgcolor=\"white\",    # inside the plotting area\n",
    "\n",
    "    xaxis=dict(\n",
    "        showgrid=True,\n",
    "        gridcolor=\"lightgrey\",\n",
    "        zeroline=False       # optional: hide the heavy axis line\n",
    "    ),\n",
    "    yaxis=dict(\n",
    "        showgrid=True,\n",
    "        gridcolor=\"lightgrey\",\n",
    "        zeroline=False\n",
    "    )\n",
    ")\n",
    "\n",
    "fig.update_layout(yaxis_title=\"Aggregate Accuracy Score\")\n",
    "\n",
    "fig.update_layout(showlegend=True)   # keep or turn off if it clutters\n",
    "fig.show()\n",
    "\n",
    "fig.write_image(\"./global_plot.png\", scale=3  )                # upscale for higher DPI (1 = default)\n",
    "\n"
   ]
  },
  {
   "cell_type": "code",
   "execution_count": 23,
   "metadata": {},
   "outputs": [
    {
     "data": {
      "application/vnd.plotly.v1+json": {
       "config": {
        "plotlyServerURL": "https://plot.ly"
       },
       "data": [
        {
         "hovertemplate": "model_size=large<br>loss_function=CLASSIC_AT<br>FFT (5 epochs)=%{x}<br>FFT (50 epochs)=%{y}<extra></extra>",
         "legendgroup": "large, CLASSIC_AT",
         "marker": {
          "color": "#E69F00",
          "line": {
           "color": "DarkSlateGrey",
           "width": 0
          },
          "size": 8,
          "symbol": "star"
         },
         "mode": "markers",
         "name": "large, CLASSIC_AT",
         "orientation": "v",
         "showlegend": true,
         "type": "scatter",
         "x": [
          0.9480952380952381,
          1.0134285714285713,
          0.47950793650793655,
          0.930063492063492,
          0.47749206349206347,
          3.211460317460317,
          2.328603174603175,
          0.7804285714285714,
          1.9996666666666667,
          0.9485873015873016,
          1.4184761904761907,
          3.9211428571428564,
          2.7159523809523813,
          0.7851269841269841,
          2.326380952380952,
          1.5273809523809525,
          0.7363333333333333,
          2.5029682539682536
         ],
         "xaxis": "x",
         "y": [
          14.595238095238095,
          13.713619047619048,
          8.454142857142857,
          8.943333333333333,
          8.95095238095238,
          12.883857142857144,
          14.290888888888889,
          14.26668253968254,
          12.358380952380951,
          12.871698412698413,
          7.738222222222221,
          15.93436507936508,
          11.306857142857144,
          8.744079365079365,
          7.513095238095238,
          10.652857142857142,
          8.554015873015873,
          5.8201269841269845
         ],
         "yaxis": "y"
        },
        {
         "hovertemplate": "model_size=large<br>loss_function=TRADES_v2<br>FFT (5 epochs)=%{x}<br>FFT (50 epochs)=%{y}<extra></extra>",
         "legendgroup": "large, TRADES_v2",
         "marker": {
          "color": "#E69F00",
          "line": {
           "color": "DarkSlateGrey",
           "width": 0
          },
          "size": 8,
          "symbol": "diamond"
         },
         "mode": "markers",
         "name": "large, TRADES_v2",
         "orientation": "v",
         "showlegend": true,
         "type": "scatter",
         "x": [
          4.634952380952382,
          5.568825396825397,
          1.193,
          0.6993015873015873,
          1.9308095238095238,
          6.424079365079366,
          5.775333333333333,
          4.142571428571428,
          5.7492857142857146,
          3.354571428571429,
          2.857142857142857,
          7.26968253968254,
          4.174904761904761,
          0.8961428571428571,
          0.5341904761904762,
          0.6669047619047619,
          4.898714285714286,
          2.4023650793650795
         ],
         "xaxis": "x",
         "y": [
          19.396968253968254,
          18.235888888888887,
          14.30042857142857,
          11.384238095238095,
          14.625873015873015,
          16.42042857142857,
          19.789301587301587,
          17.01639682539683,
          17.59952380952381,
          16.63130158730159,
          9.284619047619048,
          18.05390476190476,
          12.497777777777777,
          9.20452380952381,
          7.76604761904762,
          10.922761904761904,
          12.831396825396824,
          15.24073015873016
         ],
         "yaxis": "y"
        },
        {
         "hovertemplate": "model_size=small<br>loss_function=CLASSIC_AT<br>FFT (5 epochs)=%{x}<br>FFT (50 epochs)=%{y}<extra></extra>",
         "legendgroup": "small, CLASSIC_AT",
         "marker": {
          "color": "#56B4E9",
          "line": {
           "color": "DarkSlateGrey",
           "width": 0
          },
          "size": 8,
          "symbol": "star"
         },
         "mode": "markers",
         "name": "small, CLASSIC_AT",
         "orientation": "v",
         "showlegend": true,
         "type": "scatter",
         "x": [
          0.45199999999999996,
          0.6436666666666666,
          1.370095238095238,
          0.5146666666666666,
          0.5825714285714285,
          1.2105714285714286,
          1.7192539682539683
         ],
         "xaxis": "x",
         "y": [
          1.5930952380952381,
          7.61152380952381,
          8.825714285714287,
          3.9464285714285716,
          8.747539682539681,
          4.924285714285714,
          10.845761904761906
         ],
         "yaxis": "y"
        },
        {
         "hovertemplate": "model_size=small<br>loss_function=TRADES_v2<br>FFT (5 epochs)=%{x}<br>FFT (50 epochs)=%{y}<extra></extra>",
         "legendgroup": "small, TRADES_v2",
         "marker": {
          "color": "#56B4E9",
          "line": {
           "color": "DarkSlateGrey",
           "width": 0
          },
          "size": 8,
          "symbol": "diamond"
         },
         "mode": "markers",
         "name": "small, TRADES_v2",
         "orientation": "v",
         "showlegend": true,
         "type": "scatter",
         "x": [
          3.0890476190476193,
          2.646619047619047,
          3.861761904761905,
          0.5091428571428571,
          5.7153809523809525,
          0.8911587301587302,
          1.6425238095238097
         ],
         "xaxis": "x",
         "y": [
          6.469682539682539,
          11.266238095238098,
          14.662857142857144,
          3.465190476190476,
          8.869428571428571,
          3.295666666666667,
          9.000444444444444
         ],
         "yaxis": "y"
        },
        {
         "hovertemplate": "model_size=medium<br>loss_function=CLASSIC_AT<br>FFT (5 epochs)=%{x}<br>FFT (50 epochs)=%{y}<extra></extra>",
         "legendgroup": "medium, CLASSIC_AT",
         "marker": {
          "color": "#009E73",
          "line": {
           "color": "DarkSlateGrey",
           "width": 0
          },
          "size": 8,
          "symbol": "star"
         },
         "mode": "markers",
         "name": "medium, CLASSIC_AT",
         "orientation": "v",
         "showlegend": true,
         "type": "scatter",
         "x": [
          1.0336190476190477,
          0.9645238095238095,
          1.5594920634920635,
          4.6191587301587305,
          3.9095714285714283,
          1.448952380952381,
          1.5680952380952382,
          7.7293015873015865,
          3.8021904761904763,
          6.600285714285714,
          0.7648095238095236,
          1.659968253968254,
          1.4873809523809525,
          1.1019206349206352,
          1.0684126984126987
         ],
         "xaxis": "x",
         "y": [
          7.354095238095239,
          14.190666666666667,
          13.121666666666666,
          8.96915873015873,
          8.404936507936508,
          5.497158730158731,
          7.891190476190476,
          10.63004761904762,
          11.169269841269841,
          11.786952380952382,
          10.30595238095238,
          2.7429047619047617,
          6.476619047619048,
          6.104857142857144,
          6.640190476190476
         ],
         "yaxis": "y"
        },
        {
         "hovertemplate": "model_size=medium<br>loss_function=TRADES_v2<br>FFT (5 epochs)=%{x}<br>FFT (50 epochs)=%{y}<extra></extra>",
         "legendgroup": "medium, TRADES_v2",
         "marker": {
          "color": "#009E73",
          "line": {
           "color": "DarkSlateGrey",
           "width": 0
          },
          "size": 8,
          "symbol": "diamond"
         },
         "mode": "markers",
         "name": "medium, TRADES_v2",
         "orientation": "v",
         "showlegend": true,
         "type": "scatter",
         "x": [
          2.5976666666666666,
          5.52152380952381,
          1.1317619047619047,
          0.9026190476190475,
          5.391761904761903,
          1.2602380952380952,
          3.2590000000000003,
          6.071904761904762,
          1.2424285714285714,
          4.334523809523809,
          5.6828095238095235,
          2.3343650793650794,
          2.750571428571429,
          0.9217301587301587,
          0.35160317460317464
         ],
         "xaxis": "x",
         "y": [
          13.198714285714287,
          15.604809523809525,
          15.066190476190478,
          16.489968253968254,
          6.858126984126985,
          8.368904761904762,
          8.874571428571429,
          14.712079365079365,
          13.210857142857144,
          9.827396825396825,
          9.993523809523811,
          9.144730158730159,
          8.256285714285713,
          8.685698412698413,
          5.332063492063492
         ],
         "yaxis": "y"
        },
        {
         "line": {
          "color": "black",
          "dash": "solid",
          "width": 2
         },
         "marker": {
          "line": {
           "color": "DarkSlateGrey",
           "width": 0
          },
          "size": 8
         },
         "mode": "lines",
         "name": "Global (r=0.46, p=0.000)",
         "type": "scatter",
         "x": [
          0.35160317460317464,
          0.4261253807920475,
          0.5006475869809204,
          0.5751697931697932,
          0.6496919993586661,
          0.7242142055475389,
          0.7987364117364117,
          0.8732586179252846,
          0.9477808241141574,
          1.0223030303030303,
          1.096825236491903,
          1.171347442680776,
          1.2458696488696488,
          1.3203918550585216,
          1.3949140612473945,
          1.4694362674362673,
          1.5439584736251402,
          1.618480679814013,
          1.6930028860028858,
          1.7675250921917587,
          1.8420472983806315,
          1.9165695045695044,
          1.9910917107583772,
          2.06561391694725,
          2.1401361231361227,
          2.2146583293249957,
          2.2891805355138684,
          2.363702741702741,
          2.438224947891614,
          2.512747154080487,
          2.5872693602693597,
          2.6617915664582323,
          2.7363137726471054,
          2.8108359788359785,
          2.885358185024851,
          2.9598803912137237,
          3.0344025974025968,
          3.10892480359147,
          3.1834470097803425,
          3.257969215969215,
          3.332491422158088,
          3.407013628346961,
          3.481535834535834,
          3.5560580407247064,
          3.6305802469135795,
          3.7051024531024526,
          3.779624659291325,
          3.854146865480198,
          3.928669071669071,
          4.003191277857944,
          4.077713484046817,
          4.152235690235689,
          4.226757896424562,
          4.301280102613435,
          4.3758023088023075,
          4.4503245149911805,
          4.524846721180054,
          4.599368927368927,
          4.6738911335578,
          4.748413339746672,
          4.822935545935545,
          4.897457752124418,
          4.97197995831329,
          5.046502164502163,
          5.121024370691036,
          5.195546576879909,
          5.2700687830687825,
          5.344590989257655,
          5.419113195446528,
          5.493635401635401,
          5.568157607824273,
          5.642679814013146,
          5.717202020202019,
          5.791724226390892,
          5.866246432579765,
          5.940768638768637,
          6.01529084495751,
          6.0898130511463835,
          6.164335257335256,
          6.238857463524129,
          6.313379669713002,
          6.387901875901875,
          6.462424082090748,
          6.53694628827962,
          6.611468494468493,
          6.685990700657366,
          6.760512906846238,
          6.8350351130351115,
          6.9095573192239845,
          6.984079525412858,
          7.058601731601731,
          7.133123937790603,
          7.207646143979476,
          7.282168350168349,
          7.356690556357221,
          7.431212762546094,
          7.505734968734967,
          7.58025717492384,
          7.654779381112713,
          7.7293015873015865
         ],
         "y": [
          8.569553318047644,
          8.643922782446381,
          8.718292246845118,
          8.792661711243856,
          8.867031175642595,
          8.94140064004133,
          9.015770104440069,
          9.090139568838804,
          9.164509033237543,
          9.238878497636279,
          9.313247962035017,
          9.387617426433755,
          9.461986890832492,
          9.536356355231229,
          9.610725819629966,
          9.685095284028703,
          9.75946474842744,
          9.833834212826178,
          9.908203677224915,
          9.982573141623652,
          10.056942606022389,
          10.131312070421126,
          10.205681534819863,
          10.2800509992186,
          10.354420463617338,
          10.428789928016075,
          10.503159392414812,
          10.577528856813547,
          10.651898321212286,
          10.726267785611023,
          10.80063725000976,
          10.875006714408498,
          10.949376178807235,
          11.023745643205972,
          11.098115107604709,
          11.172484572003446,
          11.246854036402183,
          11.32122350080092,
          11.395592965199658,
          11.469962429598395,
          11.544331893997132,
          11.61870135839587,
          11.693070822794606,
          11.767440287193343,
          11.84180975159208,
          11.916179215990818,
          11.990548680389555,
          12.064918144788292,
          12.13928760918703,
          12.213657073585766,
          12.288026537984504,
          12.36239600238324,
          12.436765466781978,
          12.511134931180715,
          12.585504395579452,
          12.65987385997819,
          12.734243324376926,
          12.808612788775665,
          12.8829822531744,
          12.957351717573138,
          13.031721181971875,
          13.106090646370614,
          13.18046011076935,
          13.254829575168086,
          13.329199039566824,
          13.403568503965563,
          13.477937968364298,
          13.552307432763035,
          13.626676897161772,
          13.701046361560511,
          13.775415825959247,
          13.849785290357984,
          13.92415475475672,
          13.99852421915546,
          14.072893683554195,
          14.147263147952934,
          14.22163261235167,
          14.296002076750408,
          14.370371541149144,
          14.444741005547883,
          14.519110469946618,
          14.593479934345357,
          14.667849398744094,
          14.742218863142831,
          14.816588327541567,
          14.890957791940306,
          14.965327256339041,
          15.03969672073778,
          15.114066185136515,
          15.188435649535254,
          15.262805113933991,
          15.337174578332728,
          15.411544042731464,
          15.485913507130203,
          15.560282971528938,
          15.634652435927677,
          15.709021900326412,
          15.783391364725151,
          15.857760829123889,
          15.932130293522626
         ]
        },
        {
         "line": {
          "color": "#E69F00",
          "dash": "solid"
         },
         "marker": {
          "line": {
           "color": "DarkSlateGrey",
           "width": 0
          },
          "size": 8
         },
         "mode": "lines",
         "name": "large – TRADES_v2 (r=0.77, p=0.000)",
         "type": "scatter",
         "x": [
          0.35160317460317464,
          0.4261253807920475,
          0.5006475869809204,
          0.5751697931697932,
          0.6496919993586661,
          0.7242142055475389,
          0.7987364117364117,
          0.8732586179252846,
          0.9477808241141574,
          1.0223030303030303,
          1.096825236491903,
          1.171347442680776,
          1.2458696488696488,
          1.3203918550585216,
          1.3949140612473945,
          1.4694362674362673,
          1.5439584736251402,
          1.618480679814013,
          1.6930028860028858,
          1.7675250921917587,
          1.8420472983806315,
          1.9165695045695044,
          1.9910917107583772,
          2.06561391694725,
          2.1401361231361227,
          2.2146583293249957,
          2.2891805355138684,
          2.363702741702741,
          2.438224947891614,
          2.512747154080487,
          2.5872693602693597,
          2.6617915664582323,
          2.7363137726471054,
          2.8108359788359785,
          2.885358185024851,
          2.9598803912137237,
          3.0344025974025968,
          3.10892480359147,
          3.1834470097803425,
          3.257969215969215,
          3.332491422158088,
          3.407013628346961,
          3.481535834535834,
          3.5560580407247064,
          3.6305802469135795,
          3.7051024531024526,
          3.779624659291325,
          3.854146865480198,
          3.928669071669071,
          4.003191277857944,
          4.077713484046817,
          4.152235690235689,
          4.226757896424562,
          4.301280102613435,
          4.3758023088023075,
          4.4503245149911805,
          4.524846721180054,
          4.599368927368927,
          4.6738911335578,
          4.748413339746672,
          4.822935545935545,
          4.897457752124418,
          4.97197995831329,
          5.046502164502163,
          5.121024370691036,
          5.195546576879909,
          5.2700687830687825,
          5.344590989257655,
          5.419113195446528,
          5.493635401635401,
          5.568157607824273,
          5.642679814013146,
          5.717202020202019,
          5.791724226390892,
          5.866246432579765,
          5.940768638768637,
          6.01529084495751,
          6.0898130511463835,
          6.164335257335256,
          6.238857463524129,
          6.313379669713002,
          6.387901875901875,
          6.462424082090748,
          6.53694628827962,
          6.611468494468493,
          6.685990700657366,
          6.760512906846238,
          6.8350351130351115,
          6.9095573192239845,
          6.984079525412858,
          7.058601731601731,
          7.133123937790603,
          7.207646143979476,
          7.282168350168349,
          7.356690556357221,
          7.431212762546094,
          7.505734968734967,
          7.58025717492384,
          7.654779381112713,
          7.7293015873015865
         ],
         "y": [
          10.505140380348296,
          10.599675824891106,
          10.694211269433916,
          10.788746713976726,
          10.883282158519537,
          10.977817603062347,
          11.072353047605157,
          11.166888492147967,
          11.261423936690777,
          11.355959381233587,
          11.450494825776397,
          11.545030270319208,
          11.639565714862018,
          11.734101159404828,
          11.828636603947638,
          11.923172048490448,
          12.017707493033258,
          12.112242937576069,
          12.206778382118879,
          12.301313826661689,
          12.395849271204499,
          12.49038471574731,
          12.58492016029012,
          12.67945560483293,
          12.77399104937574,
          12.86852649391855,
          12.96306193846136,
          13.057597383004168,
          13.15213282754698,
          13.24666827208979,
          13.3412037166326,
          13.435739161175409,
          13.53027460571822,
          13.624810050261031,
          13.719345494803841,
          13.81388093934665,
          13.908416383889461,
          14.002951828432272,
          14.097487272975082,
          14.19202271751789,
          14.286558162060702,
          14.381093606603512,
          14.475629051146322,
          14.57016449568913,
          14.664699940231943,
          14.759235384774753,
          14.853770829317563,
          14.948306273860371,
          15.042841718403183,
          15.137377162945993,
          15.231912607488804,
          15.326448052031612,
          15.420983496574424,
          15.515518941117234,
          15.610054385660042,
          15.704589830202853,
          15.799125274745665,
          15.893660719288475,
          15.988196163831285,
          16.082731608374097,
          16.177267052916903,
          16.271802497459717,
          16.366337942002524,
          16.460873386545337,
          16.555408831088144,
          16.649944275630958,
          16.744479720173768,
          16.839015164716578,
          16.933550609259385,
          17.0280860538022,
          17.122621498345005,
          17.21715694288782,
          17.311692387430625,
          17.40622783197344,
          17.50076327651625,
          17.59529872105906,
          17.689834165601866,
          17.78436961014468,
          17.878905054687486,
          17.9734404992303,
          18.067975943773106,
          18.16251138831592,
          18.257046832858727,
          18.35158227740154,
          18.446117721944347,
          18.54065316648716,
          18.635188611029967,
          18.72972405557278,
          18.824259500115588,
          18.9187949446584,
          19.013330389201208,
          19.10786583374402,
          19.20240127828683,
          19.296936722829642,
          19.39147216737245,
          19.486007611915262,
          19.58054305645807,
          19.675078501000883,
          19.769613945543693,
          19.864149390086503
         ]
        },
        {
         "line": {
          "color": "#E69F00",
          "dash": "dot"
         },
         "marker": {
          "line": {
           "color": "DarkSlateGrey",
           "width": 0
          },
          "size": 8
         },
         "mode": "lines",
         "name": "large – CLASSIC_AT (r=0.23, p=0.363)",
         "type": "scatter",
         "x": [
          0.35160317460317464,
          0.4261253807920475,
          0.5006475869809204,
          0.5751697931697932,
          0.6496919993586661,
          0.7242142055475389,
          0.7987364117364117,
          0.8732586179252846,
          0.9477808241141574,
          1.0223030303030303,
          1.096825236491903,
          1.171347442680776,
          1.2458696488696488,
          1.3203918550585216,
          1.3949140612473945,
          1.4694362674362673,
          1.5439584736251402,
          1.618480679814013,
          1.6930028860028858,
          1.7675250921917587,
          1.8420472983806315,
          1.9165695045695044,
          1.9910917107583772,
          2.06561391694725,
          2.1401361231361227,
          2.2146583293249957,
          2.2891805355138684,
          2.363702741702741,
          2.438224947891614,
          2.512747154080487,
          2.5872693602693597,
          2.6617915664582323,
          2.7363137726471054,
          2.8108359788359785,
          2.885358185024851,
          2.9598803912137237,
          3.0344025974025968,
          3.10892480359147,
          3.1834470097803425,
          3.257969215969215,
          3.332491422158088,
          3.407013628346961,
          3.481535834535834,
          3.5560580407247064,
          3.6305802469135795,
          3.7051024531024526,
          3.779624659291325,
          3.854146865480198,
          3.928669071669071,
          4.003191277857944,
          4.077713484046817,
          4.152235690235689,
          4.226757896424562,
          4.301280102613435,
          4.3758023088023075,
          4.4503245149911805,
          4.524846721180054,
          4.599368927368927,
          4.6738911335578,
          4.748413339746672,
          4.822935545935545,
          4.897457752124418,
          4.97197995831329,
          5.046502164502163,
          5.121024370691036,
          5.195546576879909,
          5.2700687830687825,
          5.344590989257655,
          5.419113195446528,
          5.493635401635401,
          5.568157607824273,
          5.642679814013146,
          5.717202020202019,
          5.791724226390892,
          5.866246432579765,
          5.940768638768637,
          6.01529084495751,
          6.0898130511463835,
          6.164335257335256,
          6.238857463524129,
          6.313379669713002,
          6.387901875901875,
          6.462424082090748,
          6.53694628827962,
          6.611468494468493,
          6.685990700657366,
          6.760512906846238,
          6.8350351130351115,
          6.9095573192239845,
          6.984079525412858,
          7.058601731601731,
          7.133123937790603,
          7.207646143979476,
          7.282168350168349,
          7.356690556357221,
          7.431212762546094,
          7.505734968734967,
          7.58025717492384,
          7.654779381112713,
          7.7293015873015865
         ],
         "y": [
          9.981556937717642,
          10.040343617062124,
          10.099130296406605,
          10.157916975751087,
          10.21670365509557,
          10.275490334440052,
          10.334277013784535,
          10.393063693129017,
          10.451850372473498,
          10.51063705181798,
          10.569423731162463,
          10.628210410506945,
          10.686997089851427,
          10.74578376919591,
          10.804570448540392,
          10.863357127884873,
          10.922143807229356,
          10.980930486573838,
          11.03971716591832,
          11.098503845262803,
          11.157290524607285,
          11.216077203951766,
          11.274863883296248,
          11.333650562640731,
          11.392437241985213,
          11.451223921329696,
          11.510010600674178,
          11.568797280018659,
          11.627583959363141,
          11.686370638707624,
          11.745157318052106,
          11.803943997396589,
          11.862730676741071,
          11.921517356085552,
          11.980304035430034,
          12.039090714774517,
          12.097877394119,
          12.156664073463482,
          12.215450752807964,
          12.274237432152447,
          12.333024111496929,
          12.39181079084141,
          12.450597470185892,
          12.509384149530375,
          12.568170828874857,
          12.62695750821934,
          12.68574418756382,
          12.744530866908303,
          12.803317546252785,
          12.862104225597268,
          12.92089090494175,
          12.979677584286232,
          13.038464263630715,
          13.097250942975197,
          13.156037622319678,
          13.21482430166416,
          13.273610981008643,
          13.332397660353125,
          13.391184339697608,
          13.449971019042088,
          13.508757698386571,
          13.567544377731053,
          13.626331057075536,
          13.685117736420018,
          13.7439044157645,
          13.802691095108983,
          13.861477774453466,
          13.920264453797946,
          13.979051133142429,
          14.037837812486911,
          14.096624491831392,
          14.155411171175874,
          14.214197850520357,
          14.27298452986484,
          14.331771209209322,
          14.390557888553804,
          14.449344567898287,
          14.508131247242769,
          14.566917926587251,
          14.625704605931732,
          14.684491285276215,
          14.743277964620697,
          14.80206464396518,
          14.86085132330966,
          14.919638002654143,
          14.978424681998625,
          15.037211361343108,
          15.09599804068759,
          15.154784720032072,
          15.213571399376555,
          15.272358078721037,
          15.33114475806552,
          15.389931437410002,
          15.448718116754483,
          15.507504796098965,
          15.566291475443446,
          15.625078154787928,
          15.683864834132411,
          15.742651513476893,
          15.801438192821376
         ]
        },
        {
         "line": {
          "color": "#56B4E9",
          "dash": "solid"
         },
         "marker": {
          "line": {
           "color": "DarkSlateGrey",
           "width": 0
          },
          "size": 8
         },
         "mode": "lines",
         "name": "small – TRADES_v2 (r=0.57, p=0.180)",
         "type": "scatter",
         "x": [
          0.35160317460317464,
          0.4261253807920475,
          0.5006475869809204,
          0.5751697931697932,
          0.6496919993586661,
          0.7242142055475389,
          0.7987364117364117,
          0.8732586179252846,
          0.9477808241141574,
          1.0223030303030303,
          1.096825236491903,
          1.171347442680776,
          1.2458696488696488,
          1.3203918550585216,
          1.3949140612473945,
          1.4694362674362673,
          1.5439584736251402,
          1.618480679814013,
          1.6930028860028858,
          1.7675250921917587,
          1.8420472983806315,
          1.9165695045695044,
          1.9910917107583772,
          2.06561391694725,
          2.1401361231361227,
          2.2146583293249957,
          2.2891805355138684,
          2.363702741702741,
          2.438224947891614,
          2.512747154080487,
          2.5872693602693597,
          2.6617915664582323,
          2.7363137726471054,
          2.8108359788359785,
          2.885358185024851,
          2.9598803912137237,
          3.0344025974025968,
          3.10892480359147,
          3.1834470097803425,
          3.257969215969215,
          3.332491422158088,
          3.407013628346961,
          3.481535834535834,
          3.5560580407247064,
          3.6305802469135795,
          3.7051024531024526,
          3.779624659291325,
          3.854146865480198,
          3.928669071669071,
          4.003191277857944,
          4.077713484046817,
          4.152235690235689,
          4.226757896424562,
          4.301280102613435,
          4.3758023088023075,
          4.4503245149911805,
          4.524846721180054,
          4.599368927368927,
          4.6738911335578,
          4.748413339746672,
          4.822935545935545,
          4.897457752124418,
          4.97197995831329,
          5.046502164502163,
          5.121024370691036,
          5.195546576879909,
          5.2700687830687825,
          5.344590989257655,
          5.419113195446528,
          5.493635401635401,
          5.568157607824273,
          5.642679814013146,
          5.717202020202019,
          5.791724226390892,
          5.866246432579765,
          5.940768638768637,
          6.01529084495751,
          6.0898130511463835,
          6.164335257335256,
          6.238857463524129,
          6.313379669713002,
          6.387901875901875,
          6.462424082090748,
          6.53694628827962,
          6.611468494468493,
          6.685990700657366,
          6.760512906846238,
          6.8350351130351115,
          6.9095573192239845,
          6.984079525412858,
          7.058601731601731,
          7.133123937790603,
          7.207646143979476,
          7.282168350168349,
          7.356690556357221,
          7.431212762546094,
          7.505734968734967,
          7.58025717492384,
          7.654779381112713,
          7.7293015873015865
         ],
         "y": [
          5.03518258642804,
          5.137314975700003,
          5.239447364971967,
          5.34157975424393,
          5.443712143515892,
          5.545844532787855,
          5.647976922059819,
          5.750109311331782,
          5.852241700603745,
          5.954374089875707,
          6.056506479147671,
          6.158638868419634,
          6.260771257691596,
          6.362903646963559,
          6.465036036235523,
          6.567168425507486,
          6.669300814779449,
          6.771433204051412,
          6.873565593323375,
          6.975697982595338,
          7.0778303718673,
          7.179962761139263,
          7.282095150411227,
          7.38422753968319,
          7.486359928955153,
          7.588492318227116,
          7.690624707499079,
          7.792757096771041,
          7.894889486043004,
          7.997021875314967,
          8.09915426458693,
          8.201286653858894,
          8.303419043130857,
          8.40555143240282,
          8.507683821674782,
          8.609816210946745,
          8.711948600218708,
          8.814080989490673,
          8.916213378762635,
          9.018345768034598,
          9.120478157306561,
          9.222610546578524,
          9.324742935850487,
          9.426875325122449,
          9.529007714394414,
          9.631140103666375,
          9.733272492938339,
          9.835404882210302,
          9.937537271482265,
          10.039669660754228,
          10.141802050026191,
          10.243934439298155,
          10.346066828570116,
          10.448199217842081,
          10.550331607114042,
          10.652463996386006,
          10.754596385657969,
          10.856728774929932,
          10.958861164201895,
          11.060993553473857,
          11.163125942745822,
          11.265258332017783,
          11.367390721289746,
          11.46952311056171,
          11.571655499833673,
          11.673787889105636,
          11.7759202783776,
          11.878052667649563,
          11.980185056921524,
          12.082317446193489,
          12.18444983546545,
          12.286582224737414,
          12.388714614009377,
          12.49084700328134,
          12.592979392553303,
          12.695111781825267,
          12.79724417109723,
          12.899376560369193,
          13.001508949641154,
          13.103641338913118,
          13.20577372818508,
          13.307906117457044,
          13.410038506729007,
          13.51217089600097,
          13.614303285272934,
          13.716435674544897,
          13.818568063816858,
          13.920700453088822,
          14.022832842360785,
          14.124965231632748,
          14.227097620904711,
          14.329230010176675,
          14.431362399448638,
          14.533494788720601,
          14.635627177992562,
          14.737759567264526,
          14.839891956536489,
          14.942024345808452,
          15.044156735080415,
          15.146289124352379
         ]
        },
        {
         "line": {
          "color": "#56B4E9",
          "dash": "dot"
         },
         "marker": {
          "line": {
           "color": "DarkSlateGrey",
           "width": 0
          },
          "size": 8
         },
         "mode": "lines",
         "name": "small – CLASSIC_AT (r=0.86, p=0.014)",
         "type": "scatter",
         "x": [
          0.35160317460317464,
          0.4261253807920475,
          0.5006475869809204,
          0.5751697931697932,
          0.6496919993586661,
          0.7242142055475389,
          0.7987364117364117,
          0.8732586179252846,
          0.9477808241141574,
          1.0223030303030303,
          1.096825236491903,
          1.171347442680776,
          1.2458696488696488,
          1.3203918550585216,
          1.3949140612473945,
          1.4694362674362673,
          1.5439584736251402,
          1.618480679814013,
          1.6930028860028858,
          1.7675250921917587,
          1.8420472983806315,
          1.9165695045695044,
          1.9910917107583772,
          2.06561391694725,
          2.1401361231361227,
          2.2146583293249957,
          2.2891805355138684,
          2.363702741702741,
          2.438224947891614,
          2.512747154080487,
          2.5872693602693597,
          2.6617915664582323,
          2.7363137726471054,
          2.8108359788359785,
          2.885358185024851,
          2.9598803912137237,
          3.0344025974025968,
          3.10892480359147,
          3.1834470097803425,
          3.257969215969215,
          3.332491422158088,
          3.407013628346961,
          3.481535834535834,
          3.5560580407247064,
          3.6305802469135795,
          3.7051024531024526,
          3.779624659291325,
          3.854146865480198,
          3.928669071669071,
          4.003191277857944,
          4.077713484046817,
          4.152235690235689,
          4.226757896424562,
          4.301280102613435,
          4.3758023088023075,
          4.4503245149911805,
          4.524846721180054,
          4.599368927368927,
          4.6738911335578,
          4.748413339746672,
          4.822935545935545,
          4.897457752124418,
          4.97197995831329,
          5.046502164502163,
          5.121024370691036,
          5.195546576879909,
          5.2700687830687825,
          5.344590989257655,
          5.419113195446528,
          5.493635401635401,
          5.568157607824273,
          5.642679814013146,
          5.717202020202019,
          5.791724226390892,
          5.866246432579765,
          5.940768638768637,
          6.01529084495751,
          6.0898130511463835,
          6.164335257335256,
          6.238857463524129,
          6.313379669713002,
          6.387901875901875,
          6.462424082090748,
          6.53694628827962,
          6.611468494468493,
          6.685990700657366,
          6.760512906846238,
          6.8350351130351115,
          6.9095573192239845,
          6.984079525412858,
          7.058601731601731,
          7.133123937790603,
          7.207646143979476,
          7.282168350168349,
          7.356690556357221,
          7.431212762546094,
          7.505734968734967,
          7.58025717492384,
          7.654779381112713,
          7.7293015873015865
         ],
         "y": [
          4.213444539814464,
          4.527685585863763,
          4.841926631913061,
          5.15616767796236,
          5.470408724011659,
          5.784649770060957,
          6.098890816110256,
          6.413131862159554,
          6.727372908208853,
          7.041613954258152,
          7.355855000307451,
          7.67009604635675,
          7.984337092406048,
          8.298578138455348,
          8.612819184504644,
          8.927060230553945,
          9.241301276603242,
          9.555542322652542,
          9.869783368701839,
          10.18402441475114,
          10.498265460800436,
          10.812506506849736,
          11.126747552899035,
          11.440988598948334,
          11.75522964499763,
          12.06947069104693,
          12.383711737096228,
          12.697952783145526,
          13.012193829194825,
          13.326434875244125,
          13.640675921293422,
          13.95491696734272,
          14.269158013392019,
          14.58339905944132,
          14.897640105490616,
          15.211881151539915,
          15.526122197589213,
          15.840363243638514,
          16.15460428968781,
          16.468845335737107,
          16.783086381786408,
          17.097327427835708,
          17.411568473885005,
          17.7258095199343,
          18.040050565983602,
          18.354291612032902,
          18.6685326580822,
          18.982773704131496,
          19.2970147501808,
          19.611255796230097,
          19.925496842279394,
          20.23973788832869,
          20.553978934377994,
          20.86821998042729,
          21.182461026476588,
          21.496702072525885,
          21.81094311857519,
          22.125184164624486,
          22.439425210673782,
          22.75366625672308,
          23.067907302772383,
          23.38214834882168,
          23.696389394870977,
          24.010630440920274,
          24.324871486969577,
          24.639112533018874,
          24.95335357906817,
          25.267594625117468,
          25.581835671166772,
          25.89607671721607,
          26.210317763265365,
          26.524558809314662,
          26.838799855363966,
          27.153040901413263,
          27.46728194746256,
          27.781522993511857,
          28.09576403956116,
          28.410005085610457,
          28.724246131659754,
          29.03848717770905,
          29.352728223758355,
          29.66696926980765,
          29.981210315856956,
          30.295451361906245,
          30.60969240795555,
          30.923933454004846,
          31.238174500054143,
          31.55241554610344,
          31.866656592152744,
          32.18089763820204,
          32.495138684251344,
          32.809379730300634,
          33.12362077634994,
          33.437861822399235,
          33.75210286844853,
          34.06634391449783,
          34.38058496054713,
          34.69482600659643,
          35.009067052645726,
          35.32330809869503
         ]
        },
        {
         "line": {
          "color": "#009E73",
          "dash": "solid"
         },
         "marker": {
          "line": {
           "color": "DarkSlateGrey",
           "width": 0
          },
          "size": 8
         },
         "mode": "lines",
         "name": "medium – TRADES_v2 (r=0.12, p=0.676)",
         "type": "scatter",
         "x": [
          0.35160317460317464,
          0.4261253807920475,
          0.5006475869809204,
          0.5751697931697932,
          0.6496919993586661,
          0.7242142055475389,
          0.7987364117364117,
          0.8732586179252846,
          0.9477808241141574,
          1.0223030303030303,
          1.096825236491903,
          1.171347442680776,
          1.2458696488696488,
          1.3203918550585216,
          1.3949140612473945,
          1.4694362674362673,
          1.5439584736251402,
          1.618480679814013,
          1.6930028860028858,
          1.7675250921917587,
          1.8420472983806315,
          1.9165695045695044,
          1.9910917107583772,
          2.06561391694725,
          2.1401361231361227,
          2.2146583293249957,
          2.2891805355138684,
          2.363702741702741,
          2.438224947891614,
          2.512747154080487,
          2.5872693602693597,
          2.6617915664582323,
          2.7363137726471054,
          2.8108359788359785,
          2.885358185024851,
          2.9598803912137237,
          3.0344025974025968,
          3.10892480359147,
          3.1834470097803425,
          3.257969215969215,
          3.332491422158088,
          3.407013628346961,
          3.481535834535834,
          3.5560580407247064,
          3.6305802469135795,
          3.7051024531024526,
          3.779624659291325,
          3.854146865480198,
          3.928669071669071,
          4.003191277857944,
          4.077713484046817,
          4.152235690235689,
          4.226757896424562,
          4.301280102613435,
          4.3758023088023075,
          4.4503245149911805,
          4.524846721180054,
          4.599368927368927,
          4.6738911335578,
          4.748413339746672,
          4.822935545935545,
          4.897457752124418,
          4.97197995831329,
          5.046502164502163,
          5.121024370691036,
          5.195546576879909,
          5.2700687830687825,
          5.344590989257655,
          5.419113195446528,
          5.493635401635401,
          5.568157607824273,
          5.642679814013146,
          5.717202020202019,
          5.791724226390892,
          5.866246432579765,
          5.940768638768637,
          6.01529084495751,
          6.0898130511463835,
          6.164335257335256,
          6.238857463524129,
          6.313379669713002,
          6.387901875901875,
          6.462424082090748,
          6.53694628827962,
          6.611468494468493,
          6.685990700657366,
          6.760512906846238,
          6.8350351130351115,
          6.9095573192239845,
          6.984079525412858,
          7.058601731601731,
          7.133123937790603,
          7.207646143979476,
          7.282168350168349,
          7.356690556357221,
          7.431212762546094,
          7.505734968734967,
          7.58025717492384,
          7.654779381112713,
          7.7293015873015865
         ],
         "y": [
          10.426016056000444,
          10.440024978262121,
          10.454033900523799,
          10.468042822785476,
          10.482051745047153,
          10.496060667308832,
          10.51006958957051,
          10.524078511832187,
          10.538087434093864,
          10.552096356355541,
          10.566105278617218,
          10.580114200878896,
          10.594123123140573,
          10.60813204540225,
          10.622140967663928,
          10.636149889925605,
          10.650158812187282,
          10.66416773444896,
          10.678176656710638,
          10.692185578972316,
          10.706194501233993,
          10.72020342349567,
          10.734212345757348,
          10.748221268019025,
          10.762230190280702,
          10.77623911254238,
          10.790248034804057,
          10.804256957065734,
          10.818265879327411,
          10.832274801589088,
          10.846283723850767,
          10.860292646112445,
          10.874301568374122,
          10.8883104906358,
          10.902319412897477,
          10.916328335159154,
          10.930337257420831,
          10.944346179682508,
          10.958355101944186,
          10.972364024205863,
          10.98637294646754,
          11.000381868729217,
          11.014390790990895,
          11.028399713252574,
          11.042408635514251,
          11.056417557775928,
          11.070426480037606,
          11.084435402299283,
          11.09844432456096,
          11.112453246822637,
          11.126462169084315,
          11.140471091345992,
          11.15448001360767,
          11.168488935869346,
          11.182497858131024,
          11.196506780392703,
          11.21051570265438,
          11.224524624916057,
          11.238533547177735,
          11.252542469439412,
          11.266551391701089,
          11.280560313962766,
          11.294569236224444,
          11.308578158486121,
          11.322587080747798,
          11.336596003009475,
          11.350604925271153,
          11.36461384753283,
          11.378622769794509,
          11.392631692056186,
          11.406640614317864,
          11.42064953657954,
          11.434658458841218,
          11.448667381102895,
          11.462676303364573,
          11.47668522562625,
          11.490694147887927,
          11.504703070149604,
          11.518711992411282,
          11.53272091467296,
          11.546729836934638,
          11.560738759196315,
          11.574747681457993,
          11.58875660371967,
          11.602765525981347,
          11.616774448243024,
          11.630783370504702,
          11.644792292766379,
          11.658801215028056,
          11.672810137289733,
          11.68681905955141,
          11.700827981813088,
          11.714836904074765,
          11.728845826336444,
          11.742854748598122,
          11.756863670859799,
          11.770872593121476,
          11.784881515383153,
          11.79889043764483,
          11.812899359906508
         ]
        },
        {
         "line": {
          "color": "#009E73",
          "dash": "dot"
         },
         "marker": {
          "line": {
           "color": "DarkSlateGrey",
           "width": 0
          },
          "size": 8
         },
         "mode": "lines",
         "name": "medium – CLASSIC_AT (r=0.18, p=0.524)",
         "type": "scatter",
         "x": [
          0.35160317460317464,
          0.4261253807920475,
          0.5006475869809204,
          0.5751697931697932,
          0.6496919993586661,
          0.7242142055475389,
          0.7987364117364117,
          0.8732586179252846,
          0.9477808241141574,
          1.0223030303030303,
          1.096825236491903,
          1.171347442680776,
          1.2458696488696488,
          1.3203918550585216,
          1.3949140612473945,
          1.4694362674362673,
          1.5439584736251402,
          1.618480679814013,
          1.6930028860028858,
          1.7675250921917587,
          1.8420472983806315,
          1.9165695045695044,
          1.9910917107583772,
          2.06561391694725,
          2.1401361231361227,
          2.2146583293249957,
          2.2891805355138684,
          2.363702741702741,
          2.438224947891614,
          2.512747154080487,
          2.5872693602693597,
          2.6617915664582323,
          2.7363137726471054,
          2.8108359788359785,
          2.885358185024851,
          2.9598803912137237,
          3.0344025974025968,
          3.10892480359147,
          3.1834470097803425,
          3.257969215969215,
          3.332491422158088,
          3.407013628346961,
          3.481535834535834,
          3.5560580407247064,
          3.6305802469135795,
          3.7051024531024526,
          3.779624659291325,
          3.854146865480198,
          3.928669071669071,
          4.003191277857944,
          4.077713484046817,
          4.152235690235689,
          4.226757896424562,
          4.301280102613435,
          4.3758023088023075,
          4.4503245149911805,
          4.524846721180054,
          4.599368927368927,
          4.6738911335578,
          4.748413339746672,
          4.822935545935545,
          4.897457752124418,
          4.97197995831329,
          5.046502164502163,
          5.121024370691036,
          5.195546576879909,
          5.2700687830687825,
          5.344590989257655,
          5.419113195446528,
          5.493635401635401,
          5.568157607824273,
          5.642679814013146,
          5.717202020202019,
          5.791724226390892,
          5.866246432579765,
          5.940768638768637,
          6.01529084495751,
          6.0898130511463835,
          6.164335257335256,
          6.238857463524129,
          6.313379669713002,
          6.387901875901875,
          6.462424082090748,
          6.53694628827962,
          6.611468494468493,
          6.685990700657366,
          6.760512906846238,
          6.8350351130351115,
          6.9095573192239845,
          6.984079525412858,
          7.058601731601731,
          7.133123937790603,
          7.207646143979476,
          7.282168350168349,
          7.356690556357221,
          7.431212762546094,
          7.505734968734967,
          7.58025717492384,
          7.654779381112713,
          7.7293015873015865
         ],
         "y": [
          7.735229759829609,
          7.768628123941513,
          7.802026488053415,
          7.835424852165318,
          7.868823216277221,
          7.902221580389123,
          7.935619944501026,
          7.969018308612929,
          8.00241667272483,
          8.035815036836734,
          8.069213400948637,
          8.102611765060539,
          8.136010129172442,
          8.169408493284346,
          8.202806857396247,
          8.23620522150815,
          8.269603585620054,
          8.303001949731955,
          8.336400313843859,
          8.369798677955762,
          8.403197042067664,
          8.436595406179567,
          8.46999377029147,
          8.503392134403372,
          8.536790498515275,
          8.570188862627178,
          8.60358722673908,
          8.636985590850983,
          8.670383954962887,
          8.703782319074788,
          8.737180683186692,
          8.770579047298593,
          8.803977411410497,
          8.8373757755224,
          8.870774139634303,
          8.904172503746205,
          8.937570867858108,
          8.97096923197001,
          9.004367596081913,
          9.037765960193816,
          9.07116432430572,
          9.104562688417621,
          9.137961052529525,
          9.171359416641426,
          9.20475778075333,
          9.238156144865233,
          9.271554508977134,
          9.304952873089038,
          9.338351237200941,
          9.371749601312843,
          9.405147965424746,
          9.43854632953665,
          9.47194469364855,
          9.505343057760454,
          9.538741421872356,
          9.572139785984259,
          9.605538150096162,
          9.638936514208066,
          9.672334878319969,
          9.70573324243187,
          9.739131606543772,
          9.772529970655675,
          9.805928334767579,
          9.839326698879482,
          9.872725062991384,
          9.906123427103287,
          9.93952179121519,
          9.972920155327092,
          10.006318519438995,
          10.039716883550899,
          10.0731152476628,
          10.106513611774703,
          10.139911975886605,
          10.173310339998508,
          10.206708704110412,
          10.240107068222315,
          10.273505432334217,
          10.30690379644612,
          10.340302160558021,
          10.373700524669925,
          10.407098888781828,
          10.440497252893731,
          10.473895617005633,
          10.507293981117536,
          10.540692345229438,
          10.574090709341341,
          10.607489073453245,
          10.640887437565146,
          10.67428580167705,
          10.707684165788953,
          10.741082529900854,
          10.774480894012758,
          10.807879258124661,
          10.841277622236564,
          10.874675986348466,
          10.908074350460367,
          10.94147271457227,
          10.974871078684174,
          11.008269442796077,
          11.04166780690798
         ]
        }
       ],
       "layout": {
        "height": 400,
        "legend": {
         "bgcolor": "rgba(255,255,255,1)",
         "bordercolor": "lightgrey",
         "borderwidth": 1,
         "font": {
          "size": 12
         },
         "title": {
          "text": "Legend"
         },
         "tracegroupgap": 0,
         "y": 0.85
        },
        "margin": {
         "b": 0,
         "l": 0,
         "r": 0,
         "t": 0
        },
        "paper_bgcolor": "white",
        "plot_bgcolor": "white",
        "template": {
         "data": {
          "bar": [
           {
            "error_x": {
             "color": "#2a3f5f"
            },
            "error_y": {
             "color": "#2a3f5f"
            },
            "marker": {
             "line": {
              "color": "#E5ECF6",
              "width": 0.5
             },
             "pattern": {
              "fillmode": "overlay",
              "size": 10,
              "solidity": 0.2
             }
            },
            "type": "bar"
           }
          ],
          "barpolar": [
           {
            "marker": {
             "line": {
              "color": "#E5ECF6",
              "width": 0.5
             },
             "pattern": {
              "fillmode": "overlay",
              "size": 10,
              "solidity": 0.2
             }
            },
            "type": "barpolar"
           }
          ],
          "carpet": [
           {
            "aaxis": {
             "endlinecolor": "#2a3f5f",
             "gridcolor": "white",
             "linecolor": "white",
             "minorgridcolor": "white",
             "startlinecolor": "#2a3f5f"
            },
            "baxis": {
             "endlinecolor": "#2a3f5f",
             "gridcolor": "white",
             "linecolor": "white",
             "minorgridcolor": "white",
             "startlinecolor": "#2a3f5f"
            },
            "type": "carpet"
           }
          ],
          "choropleth": [
           {
            "colorbar": {
             "outlinewidth": 0,
             "ticks": ""
            },
            "type": "choropleth"
           }
          ],
          "contour": [
           {
            "colorbar": {
             "outlinewidth": 0,
             "ticks": ""
            },
            "colorscale": [
             [
              0,
              "#0d0887"
             ],
             [
              0.1111111111111111,
              "#46039f"
             ],
             [
              0.2222222222222222,
              "#7201a8"
             ],
             [
              0.3333333333333333,
              "#9c179e"
             ],
             [
              0.4444444444444444,
              "#bd3786"
             ],
             [
              0.5555555555555556,
              "#d8576b"
             ],
             [
              0.6666666666666666,
              "#ed7953"
             ],
             [
              0.7777777777777778,
              "#fb9f3a"
             ],
             [
              0.8888888888888888,
              "#fdca26"
             ],
             [
              1,
              "#f0f921"
             ]
            ],
            "type": "contour"
           }
          ],
          "contourcarpet": [
           {
            "colorbar": {
             "outlinewidth": 0,
             "ticks": ""
            },
            "type": "contourcarpet"
           }
          ],
          "heatmap": [
           {
            "colorbar": {
             "outlinewidth": 0,
             "ticks": ""
            },
            "colorscale": [
             [
              0,
              "#0d0887"
             ],
             [
              0.1111111111111111,
              "#46039f"
             ],
             [
              0.2222222222222222,
              "#7201a8"
             ],
             [
              0.3333333333333333,
              "#9c179e"
             ],
             [
              0.4444444444444444,
              "#bd3786"
             ],
             [
              0.5555555555555556,
              "#d8576b"
             ],
             [
              0.6666666666666666,
              "#ed7953"
             ],
             [
              0.7777777777777778,
              "#fb9f3a"
             ],
             [
              0.8888888888888888,
              "#fdca26"
             ],
             [
              1,
              "#f0f921"
             ]
            ],
            "type": "heatmap"
           }
          ],
          "heatmapgl": [
           {
            "colorbar": {
             "outlinewidth": 0,
             "ticks": ""
            },
            "colorscale": [
             [
              0,
              "#0d0887"
             ],
             [
              0.1111111111111111,
              "#46039f"
             ],
             [
              0.2222222222222222,
              "#7201a8"
             ],
             [
              0.3333333333333333,
              "#9c179e"
             ],
             [
              0.4444444444444444,
              "#bd3786"
             ],
             [
              0.5555555555555556,
              "#d8576b"
             ],
             [
              0.6666666666666666,
              "#ed7953"
             ],
             [
              0.7777777777777778,
              "#fb9f3a"
             ],
             [
              0.8888888888888888,
              "#fdca26"
             ],
             [
              1,
              "#f0f921"
             ]
            ],
            "type": "heatmapgl"
           }
          ],
          "histogram": [
           {
            "marker": {
             "pattern": {
              "fillmode": "overlay",
              "size": 10,
              "solidity": 0.2
             }
            },
            "type": "histogram"
           }
          ],
          "histogram2d": [
           {
            "colorbar": {
             "outlinewidth": 0,
             "ticks": ""
            },
            "colorscale": [
             [
              0,
              "#0d0887"
             ],
             [
              0.1111111111111111,
              "#46039f"
             ],
             [
              0.2222222222222222,
              "#7201a8"
             ],
             [
              0.3333333333333333,
              "#9c179e"
             ],
             [
              0.4444444444444444,
              "#bd3786"
             ],
             [
              0.5555555555555556,
              "#d8576b"
             ],
             [
              0.6666666666666666,
              "#ed7953"
             ],
             [
              0.7777777777777778,
              "#fb9f3a"
             ],
             [
              0.8888888888888888,
              "#fdca26"
             ],
             [
              1,
              "#f0f921"
             ]
            ],
            "type": "histogram2d"
           }
          ],
          "histogram2dcontour": [
           {
            "colorbar": {
             "outlinewidth": 0,
             "ticks": ""
            },
            "colorscale": [
             [
              0,
              "#0d0887"
             ],
             [
              0.1111111111111111,
              "#46039f"
             ],
             [
              0.2222222222222222,
              "#7201a8"
             ],
             [
              0.3333333333333333,
              "#9c179e"
             ],
             [
              0.4444444444444444,
              "#bd3786"
             ],
             [
              0.5555555555555556,
              "#d8576b"
             ],
             [
              0.6666666666666666,
              "#ed7953"
             ],
             [
              0.7777777777777778,
              "#fb9f3a"
             ],
             [
              0.8888888888888888,
              "#fdca26"
             ],
             [
              1,
              "#f0f921"
             ]
            ],
            "type": "histogram2dcontour"
           }
          ],
          "mesh3d": [
           {
            "colorbar": {
             "outlinewidth": 0,
             "ticks": ""
            },
            "type": "mesh3d"
           }
          ],
          "parcoords": [
           {
            "line": {
             "colorbar": {
              "outlinewidth": 0,
              "ticks": ""
             }
            },
            "type": "parcoords"
           }
          ],
          "pie": [
           {
            "automargin": true,
            "type": "pie"
           }
          ],
          "scatter": [
           {
            "fillpattern": {
             "fillmode": "overlay",
             "size": 10,
             "solidity": 0.2
            },
            "type": "scatter"
           }
          ],
          "scatter3d": [
           {
            "line": {
             "colorbar": {
              "outlinewidth": 0,
              "ticks": ""
             }
            },
            "marker": {
             "colorbar": {
              "outlinewidth": 0,
              "ticks": ""
             }
            },
            "type": "scatter3d"
           }
          ],
          "scattercarpet": [
           {
            "marker": {
             "colorbar": {
              "outlinewidth": 0,
              "ticks": ""
             }
            },
            "type": "scattercarpet"
           }
          ],
          "scattergeo": [
           {
            "marker": {
             "colorbar": {
              "outlinewidth": 0,
              "ticks": ""
             }
            },
            "type": "scattergeo"
           }
          ],
          "scattergl": [
           {
            "marker": {
             "colorbar": {
              "outlinewidth": 0,
              "ticks": ""
             }
            },
            "type": "scattergl"
           }
          ],
          "scattermapbox": [
           {
            "marker": {
             "colorbar": {
              "outlinewidth": 0,
              "ticks": ""
             }
            },
            "type": "scattermapbox"
           }
          ],
          "scatterpolar": [
           {
            "marker": {
             "colorbar": {
              "outlinewidth": 0,
              "ticks": ""
             }
            },
            "type": "scatterpolar"
           }
          ],
          "scatterpolargl": [
           {
            "marker": {
             "colorbar": {
              "outlinewidth": 0,
              "ticks": ""
             }
            },
            "type": "scatterpolargl"
           }
          ],
          "scatterternary": [
           {
            "marker": {
             "colorbar": {
              "outlinewidth": 0,
              "ticks": ""
             }
            },
            "type": "scatterternary"
           }
          ],
          "surface": [
           {
            "colorbar": {
             "outlinewidth": 0,
             "ticks": ""
            },
            "colorscale": [
             [
              0,
              "#0d0887"
             ],
             [
              0.1111111111111111,
              "#46039f"
             ],
             [
              0.2222222222222222,
              "#7201a8"
             ],
             [
              0.3333333333333333,
              "#9c179e"
             ],
             [
              0.4444444444444444,
              "#bd3786"
             ],
             [
              0.5555555555555556,
              "#d8576b"
             ],
             [
              0.6666666666666666,
              "#ed7953"
             ],
             [
              0.7777777777777778,
              "#fb9f3a"
             ],
             [
              0.8888888888888888,
              "#fdca26"
             ],
             [
              1,
              "#f0f921"
             ]
            ],
            "type": "surface"
           }
          ],
          "table": [
           {
            "cells": {
             "fill": {
              "color": "#EBF0F8"
             },
             "line": {
              "color": "white"
             }
            },
            "header": {
             "fill": {
              "color": "#C8D4E3"
             },
             "line": {
              "color": "white"
             }
            },
            "type": "table"
           }
          ]
         },
         "layout": {
          "annotationdefaults": {
           "arrowcolor": "#2a3f5f",
           "arrowhead": 0,
           "arrowwidth": 1
          },
          "autotypenumbers": "strict",
          "coloraxis": {
           "colorbar": {
            "outlinewidth": 0,
            "ticks": ""
           }
          },
          "colorscale": {
           "diverging": [
            [
             0,
             "#8e0152"
            ],
            [
             0.1,
             "#c51b7d"
            ],
            [
             0.2,
             "#de77ae"
            ],
            [
             0.3,
             "#f1b6da"
            ],
            [
             0.4,
             "#fde0ef"
            ],
            [
             0.5,
             "#f7f7f7"
            ],
            [
             0.6,
             "#e6f5d0"
            ],
            [
             0.7,
             "#b8e186"
            ],
            [
             0.8,
             "#7fbc41"
            ],
            [
             0.9,
             "#4d9221"
            ],
            [
             1,
             "#276419"
            ]
           ],
           "sequential": [
            [
             0,
             "#0d0887"
            ],
            [
             0.1111111111111111,
             "#46039f"
            ],
            [
             0.2222222222222222,
             "#7201a8"
            ],
            [
             0.3333333333333333,
             "#9c179e"
            ],
            [
             0.4444444444444444,
             "#bd3786"
            ],
            [
             0.5555555555555556,
             "#d8576b"
            ],
            [
             0.6666666666666666,
             "#ed7953"
            ],
            [
             0.7777777777777778,
             "#fb9f3a"
            ],
            [
             0.8888888888888888,
             "#fdca26"
            ],
            [
             1,
             "#f0f921"
            ]
           ],
           "sequentialminus": [
            [
             0,
             "#0d0887"
            ],
            [
             0.1111111111111111,
             "#46039f"
            ],
            [
             0.2222222222222222,
             "#7201a8"
            ],
            [
             0.3333333333333333,
             "#9c179e"
            ],
            [
             0.4444444444444444,
             "#bd3786"
            ],
            [
             0.5555555555555556,
             "#d8576b"
            ],
            [
             0.6666666666666666,
             "#ed7953"
            ],
            [
             0.7777777777777778,
             "#fb9f3a"
            ],
            [
             0.8888888888888888,
             "#fdca26"
            ],
            [
             1,
             "#f0f921"
            ]
           ]
          },
          "colorway": [
           "#636efa",
           "#EF553B",
           "#00cc96",
           "#ab63fa",
           "#FFA15A",
           "#19d3f3",
           "#FF6692",
           "#B6E880",
           "#FF97FF",
           "#FECB52"
          ],
          "font": {
           "color": "#2a3f5f"
          },
          "geo": {
           "bgcolor": "white",
           "lakecolor": "white",
           "landcolor": "#E5ECF6",
           "showlakes": true,
           "showland": true,
           "subunitcolor": "white"
          },
          "hoverlabel": {
           "align": "left"
          },
          "hovermode": "closest",
          "mapbox": {
           "style": "light"
          },
          "paper_bgcolor": "white",
          "plot_bgcolor": "#E5ECF6",
          "polar": {
           "angularaxis": {
            "gridcolor": "white",
            "linecolor": "white",
            "ticks": ""
           },
           "bgcolor": "#E5ECF6",
           "radialaxis": {
            "gridcolor": "white",
            "linecolor": "white",
            "ticks": ""
           }
          },
          "scene": {
           "xaxis": {
            "backgroundcolor": "#E5ECF6",
            "gridcolor": "white",
            "gridwidth": 2,
            "linecolor": "white",
            "showbackground": true,
            "ticks": "",
            "zerolinecolor": "white"
           },
           "yaxis": {
            "backgroundcolor": "#E5ECF6",
            "gridcolor": "white",
            "gridwidth": 2,
            "linecolor": "white",
            "showbackground": true,
            "ticks": "",
            "zerolinecolor": "white"
           },
           "zaxis": {
            "backgroundcolor": "#E5ECF6",
            "gridcolor": "white",
            "gridwidth": 2,
            "linecolor": "white",
            "showbackground": true,
            "ticks": "",
            "zerolinecolor": "white"
           }
          },
          "shapedefaults": {
           "line": {
            "color": "#2a3f5f"
           }
          },
          "ternary": {
           "aaxis": {
            "gridcolor": "white",
            "linecolor": "white",
            "ticks": ""
           },
           "baxis": {
            "gridcolor": "white",
            "linecolor": "white",
            "ticks": ""
           },
           "bgcolor": "#E5ECF6",
           "caxis": {
            "gridcolor": "white",
            "linecolor": "white",
            "ticks": ""
           }
          },
          "title": {
           "x": 0.05
          },
          "xaxis": {
           "automargin": true,
           "gridcolor": "white",
           "linecolor": "white",
           "ticks": "",
           "title": {
            "standoff": 15
           },
           "zerolinecolor": "white",
           "zerolinewidth": 2
          },
          "yaxis": {
           "automargin": true,
           "gridcolor": "white",
           "linecolor": "white",
           "ticks": "",
           "title": {
            "standoff": 15
           },
           "zerolinecolor": "white",
           "zerolinewidth": 2
          }
         }
        },
        "width": 800,
        "xaxis": {
         "anchor": "y",
         "domain": [
          0,
          1
         ],
         "gridcolor": "lightgrey",
         "range": [
          -0.25,
          8.25
         ],
         "showgrid": true,
         "title": {
          "text": "FFT (5 epochs)"
         }
        },
        "yaxis": {
         "anchor": "x",
         "domain": [
          0,
          1
         ],
         "gridcolor": "lightgrey",
         "range": [
          0,
          20
         ],
         "showgrid": true,
         "title": {
          "text": "FFT (50 epochs)"
         }
        }
       }
      }
     },
     "metadata": {},
     "output_type": "display_data"
    },
    {
     "data": {
      "application/vnd.plotly.v1+json": {
       "config": {
        "plotlyServerURL": "https://plot.ly"
       },
       "data": [
        {
         "hovertemplate": "model_size=large<br>loss_function=CLASSIC_AT<br>LP (50 epochs)=%{x}<br>FFT (50 epochs)=%{y}<extra></extra>",
         "legendgroup": "large, CLASSIC_AT",
         "marker": {
          "color": "#E69F00",
          "line": {
           "color": "DarkSlateGrey",
           "width": 0
          },
          "size": 8,
          "symbol": "star"
         },
         "mode": "markers",
         "name": "large, CLASSIC_AT",
         "orientation": "v",
         "showlegend": true,
         "type": "scatter",
         "x": [
          3.9569047619047617,
          2.8577460317460317,
          5.877095238095238,
          5.816666666666666,
          5.440095238095238,
          2.8666349206349206,
          5.7843809523809515,
          4.620285714285714,
          5.160714285714286,
          2.8145555555555557,
          1.4494285714285717,
          6.436619047619048,
          2.9516190476190474,
          3.0946666666666665,
          3.658650793650794,
          0.6882380952380953,
          3.844190476190476,
          5.730476190476191
         ],
         "xaxis": "x",
         "y": [
          14.595238095238095,
          13.713619047619048,
          8.454142857142857,
          8.943333333333333,
          8.95095238095238,
          12.883857142857144,
          14.290888888888889,
          14.26668253968254,
          12.358380952380951,
          12.871698412698413,
          7.738222222222221,
          15.93436507936508,
          11.306857142857144,
          8.744079365079365,
          7.513095238095238,
          10.652857142857142,
          8.554015873015873,
          5.8201269841269845
         ],
         "yaxis": "y"
        },
        {
         "hovertemplate": "model_size=large<br>loss_function=TRADES_v2<br>LP (50 epochs)=%{x}<br>FFT (50 epochs)=%{y}<extra></extra>",
         "legendgroup": "large, TRADES_v2",
         "marker": {
          "color": "#E69F00",
          "line": {
           "color": "DarkSlateGrey",
           "width": 0
          },
          "size": 8,
          "symbol": "diamond"
         },
         "mode": "markers",
         "name": "large, TRADES_v2",
         "orientation": "v",
         "showlegend": true,
         "type": "scatter",
         "x": [
          7.543333333333333,
          7.351238095238096,
          5.048301587301587,
          7.091619047619048,
          6.589539682539682,
          5.598190476190476,
          7.0374285714285705,
          7.923714285714286,
          8.113412698412699,
          3.3896190476190475,
          1.7374285714285713,
          8.003857142857143,
          4.339666666666666,
          1.039031746031746,
          1.9507777777777777,
          0.8672857142857143,
          6.614619047619048,
          6.9355714285714285
         ],
         "xaxis": "x",
         "y": [
          19.396968253968254,
          18.235888888888887,
          14.30042857142857,
          11.384238095238095,
          14.625873015873015,
          16.42042857142857,
          19.789301587301587,
          17.01639682539683,
          17.59952380952381,
          16.63130158730159,
          9.284619047619048,
          18.05390476190476,
          12.497777777777777,
          9.20452380952381,
          7.76604761904762,
          10.922761904761904,
          12.831396825396824,
          15.24073015873016
         ],
         "yaxis": "y"
        },
        {
         "hovertemplate": "model_size=small<br>loss_function=CLASSIC_AT<br>LP (50 epochs)=%{x}<br>FFT (50 epochs)=%{y}<extra></extra>",
         "legendgroup": "small, CLASSIC_AT",
         "marker": {
          "color": "#56B4E9",
          "line": {
           "color": "DarkSlateGrey",
           "width": 0
          },
          "size": 8,
          "symbol": "star"
         },
         "mode": "markers",
         "name": "small, CLASSIC_AT",
         "orientation": "v",
         "showlegend": true,
         "type": "scatter",
         "x": [
          0.35285714285714287,
          1.0727142857142857,
          1.2254285714285713,
          0.9750952380952382,
          3.8256666666666668,
          0.3169047619047619,
          2.6655238095238096
         ],
         "xaxis": "x",
         "y": [
          1.5930952380952381,
          7.61152380952381,
          8.825714285714287,
          3.9464285714285716,
          8.747539682539681,
          4.924285714285714,
          10.845761904761906
         ],
         "yaxis": "y"
        },
        {
         "hovertemplate": "model_size=small<br>loss_function=TRADES_v2<br>LP (50 epochs)=%{x}<br>FFT (50 epochs)=%{y}<extra></extra>",
         "legendgroup": "small, TRADES_v2",
         "marker": {
          "color": "#56B4E9",
          "line": {
           "color": "DarkSlateGrey",
           "width": 0
          },
          "size": 8,
          "symbol": "diamond"
         },
         "mode": "markers",
         "name": "small, TRADES_v2",
         "orientation": "v",
         "showlegend": true,
         "type": "scatter",
         "x": [
          1.4621428571428572,
          3.535,
          4.612507936507937,
          0.5425238095238094,
          3.4052857142857142,
          0.28044444444444444,
          2.116174603174603
         ],
         "xaxis": "x",
         "y": [
          6.469682539682539,
          11.266238095238098,
          14.662857142857144,
          3.465190476190476,
          8.869428571428571,
          3.295666666666667,
          9.000444444444444
         ],
         "yaxis": "y"
        },
        {
         "hovertemplate": "model_size=medium<br>loss_function=CLASSIC_AT<br>LP (50 epochs)=%{x}<br>FFT (50 epochs)=%{y}<extra></extra>",
         "legendgroup": "medium, CLASSIC_AT",
         "marker": {
          "color": "#009E73",
          "line": {
           "color": "DarkSlateGrey",
           "width": 0
          },
          "size": 8,
          "symbol": "star"
         },
         "mode": "markers",
         "name": "medium, CLASSIC_AT",
         "orientation": "v",
         "showlegend": true,
         "type": "scatter",
         "x": [
          4.020015873015874,
          2.067761904761905,
          1.920301587301587,
          3.261,
          1.7058095238095237,
          1.3176031746031747,
          3.469952380952381,
          6.309174603174602,
          9.132142857142856,
          6.186666666666667,
          3.2461269841269837,
          2.048047619047619,
          3.205714285714286,
          2.748936507936508,
          2.6437460317460317
         ],
         "xaxis": "x",
         "y": [
          7.354095238095239,
          14.190666666666667,
          13.121666666666666,
          8.96915873015873,
          8.404936507936508,
          5.497158730158731,
          7.891190476190476,
          10.63004761904762,
          11.169269841269841,
          11.786952380952382,
          10.30595238095238,
          2.7429047619047617,
          6.476619047619048,
          6.104857142857144,
          6.640190476190476
         ],
         "yaxis": "y"
        },
        {
         "hovertemplate": "model_size=medium<br>loss_function=TRADES_v2<br>LP (50 epochs)=%{x}<br>FFT (50 epochs)=%{y}<extra></extra>",
         "legendgroup": "medium, TRADES_v2",
         "marker": {
          "color": "#009E73",
          "line": {
           "color": "DarkSlateGrey",
           "width": 0
          },
          "size": 8,
          "symbol": "diamond"
         },
         "mode": "markers",
         "name": "medium, TRADES_v2",
         "orientation": "v",
         "showlegend": true,
         "type": "scatter",
         "x": [
          5.377380952380952,
          4.372285714285715,
          6.786412698412698,
          3.740952380952381,
          2.9653968253968253,
          2.4287936507936507,
          3.0761904761904764,
          7.566746031746032,
          6.966619047619048,
          4.983190476190476,
          5.821698412698413,
          2.360809523809524,
          2.792761904761905,
          3.2846190476190475,
          0.5582539682539682
         ],
         "xaxis": "x",
         "y": [
          13.198714285714287,
          15.604809523809525,
          15.066190476190478,
          16.489968253968254,
          6.858126984126985,
          8.368904761904762,
          8.874571428571429,
          14.712079365079365,
          13.210857142857144,
          9.827396825396825,
          9.993523809523811,
          9.144730158730159,
          8.256285714285713,
          8.685698412698413,
          5.332063492063492
         ],
         "yaxis": "y"
        },
        {
         "line": {
          "color": "black",
          "dash": "solid",
          "width": 2
         },
         "marker": {
          "line": {
           "color": "DarkSlateGrey",
           "width": 0
          },
          "size": 8
         },
         "mode": "lines",
         "name": "Global (r=0.67, p=0.000)",
         "type": "scatter",
         "x": [
          0.28044444444444444,
          0.3698555395222062,
          0.45926663459996786,
          0.5486777296777297,
          0.6380888247554913,
          0.727499919833253,
          0.8169110149110148,
          0.9063221099887766,
          0.9957332050665382,
          1.0851443001443,
          1.1745553952220618,
          1.2639664902998233,
          1.3533775853775851,
          1.442788680455347,
          1.5321997755331087,
          1.6216108706108703,
          1.711021965688632,
          1.8004330607663939,
          1.8898441558441554,
          1.9792552509219172,
          2.068666345999679,
          2.1580774410774404,
          2.247488536155202,
          2.336899631232964,
          2.4263107263107258,
          2.5157218213884875,
          2.6051329164662493,
          2.694544011544011,
          2.783955106621773,
          2.8733662016995343,
          2.962777296777296,
          3.052188391855058,
          3.1415994869328197,
          3.2310105820105814,
          3.3204216770883432,
          3.409832772166105,
          3.4992438672438664,
          3.588654962321628,
          3.67806605739939,
          3.7674771524771518,
          3.8568882475549136,
          3.9462993426326753,
          4.035710437710437,
          4.1251215327881985,
          4.21453262786596,
          4.303943722943721,
          4.393354818021483,
          4.482765913099245,
          4.572177008177007,
          4.661588103254768,
          4.75099919833253,
          4.840410293410292,
          4.929821388488054,
          5.0192324835658155,
          5.108643578643577,
          5.198054673721339,
          5.287465768799101,
          5.376876863876863,
          5.466287958954624,
          5.555699054032385,
          5.645110149110147,
          5.734521244187909,
          5.823932339265671,
          5.913343434343433,
          6.002754529421194,
          6.092165624498956,
          6.181576719576718,
          6.27098781465448,
          6.3603989097322415,
          6.449810004810003,
          6.539221099887765,
          6.628632194965526,
          6.718043290043288,
          6.80745438512105,
          6.896865480198811,
          6.986276575276573,
          7.075687670354335,
          7.165098765432097,
          7.254509860509859,
          7.34392095558762,
          7.433332050665382,
          7.522743145743144,
          7.612154240820906,
          7.7015653358986675,
          7.7909764309764284,
          7.88038752605419,
          7.969798621131952,
          8.059209716209715,
          8.148620811287476,
          8.238031906365238,
          8.327443001443,
          8.416854096520762,
          8.506265191598523,
          8.595676286676285,
          8.685087381754046,
          8.774498476831809,
          8.86390957190957,
          8.953320666987333,
          9.042731762065094,
          9.132142857142856
         ],
         "y": [
          6.211230303997757,
          6.322117963876191,
          6.433005623754624,
          6.543893283633056,
          6.654780943511489,
          6.765668603389923,
          6.8765562632683555,
          6.987443923146788,
          7.098331583025221,
          7.209219242903655,
          7.320106902782087,
          7.43099456266052,
          7.541882222538954,
          7.652769882417386,
          7.763657542295819,
          7.874545202174252,
          7.985432862052685,
          8.09632052193112,
          8.207208181809552,
          8.318095841687985,
          8.428983501566417,
          8.53987116144485,
          8.650758821323283,
          8.761646481201716,
          8.872534141080148,
          8.983421800958581,
          9.094309460837014,
          9.205197120715448,
          9.316084780593881,
          9.426972440472314,
          9.537860100350747,
          9.64874776022918,
          9.759635420107612,
          9.870523079986047,
          9.98141073986448,
          10.092298399742912,
          10.203186059621345,
          10.314073719499778,
          10.42496137937821,
          10.535849039256643,
          10.646736699135076,
          10.757624359013509,
          10.868512018891941,
          10.979399678770374,
          11.090287338648809,
          11.20117499852724,
          11.312062658405672,
          11.422950318284105,
          11.53383797816254,
          11.644725638040972,
          11.755613297919407,
          11.86650095779784,
          11.977388617676272,
          12.088276277554705,
          12.199163937433138,
          12.31005159731157,
          12.420939257190003,
          12.531826917068436,
          12.642714576946869,
          12.753602236825301,
          12.864489896703734,
          12.975377556582167,
          13.0862652164606,
          13.197152876339034,
          13.308040536217467,
          13.418928196095901,
          13.529815855974334,
          13.640703515852767,
          13.7515911757312,
          13.862478835609632,
          13.973366495488065,
          14.084254155366498,
          14.19514181524493,
          14.306029475123363,
          14.416917135001796,
          14.527804794880229,
          14.638692454758663,
          14.749580114637096,
          14.860467774515529,
          14.971355434393962,
          15.082243094272394,
          15.193130754150827,
          15.304018414029262,
          15.414906073907694,
          15.525793733786125,
          15.63668139366456,
          15.747569053542993,
          15.858456713421427,
          15.969344373299858,
          16.08023203317829,
          16.191119693056724,
          16.302007352935156,
          16.412895012813593,
          16.523782672692025,
          16.634670332570458,
          16.74555799244889,
          16.856445652327324,
          16.967333312205756,
          17.07822097208419,
          17.189108631962625
         ]
        },
        {
         "line": {
          "color": "#E69F00",
          "dash": "solid"
         },
         "marker": {
          "line": {
           "color": "DarkSlateGrey",
           "width": 0
          },
          "size": 8
         },
         "mode": "lines",
         "name": "large – TRADES_v2 (r=0.77, p=0.000)",
         "type": "scatter",
         "x": [
          0.28044444444444444,
          0.3698555395222062,
          0.45926663459996786,
          0.5486777296777297,
          0.6380888247554913,
          0.727499919833253,
          0.8169110149110148,
          0.9063221099887766,
          0.9957332050665382,
          1.0851443001443,
          1.1745553952220618,
          1.2639664902998233,
          1.3533775853775851,
          1.442788680455347,
          1.5321997755331087,
          1.6216108706108703,
          1.711021965688632,
          1.8004330607663939,
          1.8898441558441554,
          1.9792552509219172,
          2.068666345999679,
          2.1580774410774404,
          2.247488536155202,
          2.336899631232964,
          2.4263107263107258,
          2.5157218213884875,
          2.6051329164662493,
          2.694544011544011,
          2.783955106621773,
          2.8733662016995343,
          2.962777296777296,
          3.052188391855058,
          3.1415994869328197,
          3.2310105820105814,
          3.3204216770883432,
          3.409832772166105,
          3.4992438672438664,
          3.588654962321628,
          3.67806605739939,
          3.7674771524771518,
          3.8568882475549136,
          3.9462993426326753,
          4.035710437710437,
          4.1251215327881985,
          4.21453262786596,
          4.303943722943721,
          4.393354818021483,
          4.482765913099245,
          4.572177008177007,
          4.661588103254768,
          4.75099919833253,
          4.840410293410292,
          4.929821388488054,
          5.0192324835658155,
          5.108643578643577,
          5.198054673721339,
          5.287465768799101,
          5.376876863876863,
          5.466287958954624,
          5.555699054032385,
          5.645110149110147,
          5.734521244187909,
          5.823932339265671,
          5.913343434343433,
          6.002754529421194,
          6.092165624498956,
          6.181576719576718,
          6.27098781465448,
          6.3603989097322415,
          6.449810004810003,
          6.539221099887765,
          6.628632194965526,
          6.718043290043288,
          6.80745438512105,
          6.896865480198811,
          6.986276575276573,
          7.075687670354335,
          7.165098765432097,
          7.254509860509859,
          7.34392095558762,
          7.433332050665382,
          7.522743145743144,
          7.612154240820906,
          7.7015653358986675,
          7.7909764309764284,
          7.88038752605419,
          7.969798621131952,
          8.059209716209715,
          8.148620811287476,
          8.238031906365238,
          8.327443001443,
          8.416854096520762,
          8.506265191598523,
          8.595676286676285,
          8.685087381754046,
          8.774498476831809,
          8.86390957190957,
          8.953320666987333,
          9.042731762065094,
          9.132142857142856
         ],
         "y": [
          8.719303841632435,
          8.820485456621066,
          8.921667071609699,
          9.022848686598332,
          9.124030301586965,
          9.225211916575597,
          9.32639353156423,
          9.427575146552863,
          9.528756761541496,
          9.629938376530129,
          9.731119991518762,
          9.832301606507395,
          9.933483221496026,
          10.034664836484659,
          10.135846451473292,
          10.237028066461924,
          10.338209681450557,
          10.43939129643919,
          10.540572911427823,
          10.641754526416456,
          10.742936141405089,
          10.844117756393722,
          10.945299371382355,
          11.046480986370987,
          11.14766260135962,
          11.248844216348253,
          11.350025831336886,
          11.451207446325519,
          11.552389061314152,
          11.653570676302783,
          11.754752291291416,
          11.855933906280049,
          11.957115521268681,
          12.058297136257314,
          12.159478751245947,
          12.26066036623458,
          12.361841981223211,
          12.463023596211844,
          12.564205211200477,
          12.66538682618911,
          12.766568441177743,
          12.867750056166376,
          12.968931671155008,
          13.070113286143641,
          13.171294901132274,
          13.272476516120907,
          13.37365813110954,
          13.474839746098173,
          13.576021361086806,
          13.677202976075437,
          13.77838459106407,
          13.879566206052703,
          13.980747821041335,
          14.081929436029968,
          14.183111051018601,
          14.284292666007234,
          14.385474280995867,
          14.4866558959845,
          14.58783751097313,
          14.689019125961764,
          14.790200740950397,
          14.89138235593903,
          14.992563970927662,
          15.093745585916295,
          15.194927200904928,
          15.296108815893561,
          15.397290430882194,
          15.498472045870827,
          15.59965366085946,
          15.700835275848092,
          15.802016890836725,
          15.903198505825358,
          16.00438012081399,
          16.105561735802624,
          16.206743350791257,
          16.30792496577989,
          16.409106580768523,
          16.510288195757155,
          16.61146981074579,
          16.71265142573442,
          16.813833040723054,
          16.915014655711687,
          17.01619627070032,
          17.117377885688953,
          17.218559500677582,
          17.319741115666215,
          17.420922730654848,
          17.522104345643484,
          17.623285960632114,
          17.72446757562075,
          17.82564919060938,
          17.926830805598016,
          18.028012420586645,
          18.129194035575278,
          18.23037565056391,
          18.331557265552544,
          18.432738880541176,
          18.53392049552981,
          18.635102110518442,
          18.736283725507075
         ]
        },
        {
         "line": {
          "color": "#E69F00",
          "dash": "dot"
         },
         "marker": {
          "line": {
           "color": "DarkSlateGrey",
           "width": 0
          },
          "size": 8
         },
         "mode": "lines",
         "name": "large – CLASSIC_AT (r=0.08, p=0.748)",
         "type": "scatter",
         "x": [
          0.28044444444444444,
          0.3698555395222062,
          0.45926663459996786,
          0.5486777296777297,
          0.6380888247554913,
          0.727499919833253,
          0.8169110149110148,
          0.9063221099887766,
          0.9957332050665382,
          1.0851443001443,
          1.1745553952220618,
          1.2639664902998233,
          1.3533775853775851,
          1.442788680455347,
          1.5321997755331087,
          1.6216108706108703,
          1.711021965688632,
          1.8004330607663939,
          1.8898441558441554,
          1.9792552509219172,
          2.068666345999679,
          2.1580774410774404,
          2.247488536155202,
          2.336899631232964,
          2.4263107263107258,
          2.5157218213884875,
          2.6051329164662493,
          2.694544011544011,
          2.783955106621773,
          2.8733662016995343,
          2.962777296777296,
          3.052188391855058,
          3.1415994869328197,
          3.2310105820105814,
          3.3204216770883432,
          3.409832772166105,
          3.4992438672438664,
          3.588654962321628,
          3.67806605739939,
          3.7674771524771518,
          3.8568882475549136,
          3.9462993426326753,
          4.035710437710437,
          4.1251215327881985,
          4.21453262786596,
          4.303943722943721,
          4.393354818021483,
          4.482765913099245,
          4.572177008177007,
          4.661588103254768,
          4.75099919833253,
          4.840410293410292,
          4.929821388488054,
          5.0192324835658155,
          5.108643578643577,
          5.198054673721339,
          5.287465768799101,
          5.376876863876863,
          5.466287958954624,
          5.555699054032385,
          5.645110149110147,
          5.734521244187909,
          5.823932339265671,
          5.913343434343433,
          6.002754529421194,
          6.092165624498956,
          6.181576719576718,
          6.27098781465448,
          6.3603989097322415,
          6.449810004810003,
          6.539221099887765,
          6.628632194965526,
          6.718043290043288,
          6.80745438512105,
          6.896865480198811,
          6.986276575276573,
          7.075687670354335,
          7.165098765432097,
          7.254509860509859,
          7.34392095558762,
          7.433332050665382,
          7.522743145743144,
          7.612154240820906,
          7.7015653358986675,
          7.7909764309764284,
          7.88038752605419,
          7.969798621131952,
          8.059209716209715,
          8.148620811287476,
          8.238031906365238,
          8.327443001443,
          8.416854096520762,
          8.506265191598523,
          8.595676286676285,
          8.685087381754046,
          8.774498476831809,
          8.86390957190957,
          8.953320666987333,
          9.042731762065094,
          9.132142857142856
         ],
         "y": [
          10.466831983126406,
          10.478914717337492,
          10.490997451548578,
          10.503080185759664,
          10.51516291997075,
          10.527245654181836,
          10.539328388392923,
          10.551411122604009,
          10.563493856815095,
          10.57557659102618,
          10.587659325237267,
          10.599742059448353,
          10.611824793659439,
          10.623907527870527,
          10.635990262081613,
          10.648072996292699,
          10.660155730503785,
          10.672238464714871,
          10.684321198925957,
          10.696403933137043,
          10.70848666734813,
          10.720569401559215,
          10.732652135770302,
          10.744734869981388,
          10.756817604192474,
          10.76890033840356,
          10.780983072614646,
          10.793065806825732,
          10.80514854103682,
          10.817231275247906,
          10.829314009458992,
          10.841396743670078,
          10.853479477881164,
          10.86556221209225,
          10.877644946303336,
          10.889727680514422,
          10.901810414725508,
          10.913893148936594,
          10.92597588314768,
          10.938058617358767,
          10.950141351569853,
          10.962224085780939,
          10.974306819992025,
          10.986389554203111,
          10.998472288414199,
          11.010555022625285,
          11.022637756836371,
          11.034720491047457,
          11.046803225258543,
          11.05888595946963,
          11.070968693680715,
          11.083051427891801,
          11.095134162102887,
          11.107216896313973,
          11.11929963052506,
          11.131382364736146,
          11.143465098947232,
          11.155547833158318,
          11.167630567369404,
          11.179713301580492,
          11.191796035791578,
          11.203878770002664,
          11.21596150421375,
          11.228044238424836,
          11.240126972635922,
          11.252209706847008,
          11.264292441058094,
          11.27637517526918,
          11.288457909480266,
          11.300540643691352,
          11.312623377902439,
          11.324706112113525,
          11.33678884632461,
          11.348871580535697,
          11.360954314746785,
          11.37303704895787,
          11.385119783168957,
          11.397202517380043,
          11.409285251591129,
          11.421367985802215,
          11.433450720013301,
          11.445533454224387,
          11.457616188435473,
          11.46969892264656,
          11.481781656857645,
          11.493864391068731,
          11.505947125279818,
          11.518029859490904,
          11.53011259370199,
          11.542195327913078,
          11.554278062124162,
          11.56636079633525,
          11.578443530546336,
          11.590526264757422,
          11.602608998968508,
          11.614691733179594,
          11.62677446739068,
          11.638857201601766,
          11.650939935812852,
          11.663022670023938
         ]
        },
        {
         "line": {
          "color": "#56B4E9",
          "dash": "solid"
         },
         "marker": {
          "line": {
           "color": "DarkSlateGrey",
           "width": 0
          },
          "size": 8
         },
         "mode": "lines",
         "name": "small – TRADES_v2 (r=0.96, p=0.000)",
         "type": "scatter",
         "x": [
          0.28044444444444444,
          0.3698555395222062,
          0.45926663459996786,
          0.5486777296777297,
          0.6380888247554913,
          0.727499919833253,
          0.8169110149110148,
          0.9063221099887766,
          0.9957332050665382,
          1.0851443001443,
          1.1745553952220618,
          1.2639664902998233,
          1.3533775853775851,
          1.442788680455347,
          1.5321997755331087,
          1.6216108706108703,
          1.711021965688632,
          1.8004330607663939,
          1.8898441558441554,
          1.9792552509219172,
          2.068666345999679,
          2.1580774410774404,
          2.247488536155202,
          2.336899631232964,
          2.4263107263107258,
          2.5157218213884875,
          2.6051329164662493,
          2.694544011544011,
          2.783955106621773,
          2.8733662016995343,
          2.962777296777296,
          3.052188391855058,
          3.1415994869328197,
          3.2310105820105814,
          3.3204216770883432,
          3.409832772166105,
          3.4992438672438664,
          3.588654962321628,
          3.67806605739939,
          3.7674771524771518,
          3.8568882475549136,
          3.9462993426326753,
          4.035710437710437,
          4.1251215327881985,
          4.21453262786596,
          4.303943722943721,
          4.393354818021483,
          4.482765913099245,
          4.572177008177007,
          4.661588103254768,
          4.75099919833253,
          4.840410293410292,
          4.929821388488054,
          5.0192324835658155,
          5.108643578643577,
          5.198054673721339,
          5.287465768799101,
          5.376876863876863,
          5.466287958954624,
          5.555699054032385,
          5.645110149110147,
          5.734521244187909,
          5.823932339265671,
          5.913343434343433,
          6.002754529421194,
          6.092165624498956,
          6.181576719576718,
          6.27098781465448,
          6.3603989097322415,
          6.449810004810003,
          6.539221099887765,
          6.628632194965526,
          6.718043290043288,
          6.80745438512105,
          6.896865480198811,
          6.986276575276573,
          7.075687670354335,
          7.165098765432097,
          7.254509860509859,
          7.34392095558762,
          7.433332050665382,
          7.522743145743144,
          7.612154240820906,
          7.7015653358986675,
          7.7909764309764284,
          7.88038752605419,
          7.969798621131952,
          8.059209716209715,
          8.148620811287476,
          8.238031906365238,
          8.327443001443,
          8.416854096520762,
          8.506265191598523,
          8.595676286676285,
          8.685087381754046,
          8.774498476831809,
          8.86390957190957,
          8.953320666987333,
          9.042731762065094,
          9.132142857142856
         ],
         "y": [
          3.2744765163884377,
          3.492449210131573,
          3.7104219038747077,
          3.928394597617843,
          4.146367291360978,
          4.364339985104113,
          4.582312678847248,
          4.800285372590383,
          5.018258066333518,
          5.236230760076653,
          5.454203453819788,
          5.672176147562922,
          5.890148841306058,
          6.108121535049193,
          6.326094228792328,
          6.544066922535462,
          6.762039616278598,
          6.980012310021733,
          7.197985003764868,
          7.415957697508002,
          7.633930391251138,
          7.851903084994271,
          8.069875778737407,
          8.287848472480542,
          8.505821166223676,
          8.723793859966811,
          8.941766553709947,
          9.159739247453082,
          9.377711941196218,
          9.595684634939351,
          9.813657328682487,
          10.031630022425622,
          10.249602716168756,
          10.467575409911891,
          10.685548103655027,
          10.903520797398162,
          11.121493491141296,
          11.339466184884431,
          11.557438878627567,
          11.775411572370702,
          11.993384266113837,
          12.211356959856973,
          12.429329653600107,
          12.647302347343242,
          12.865275041086376,
          13.08324773482951,
          13.301220428572645,
          13.51919312231578,
          13.737165816058916,
          13.95513850980205,
          14.173111203545185,
          14.39108389728832,
          14.609056591031456,
          14.827029284774591,
          15.045001978517726,
          15.26297467226086,
          15.480947366003996,
          15.698920059747131,
          15.916892753490265,
          16.1348654472334,
          16.352838140976534,
          16.57081083471967,
          16.788783528462805,
          17.00675622220594,
          17.224728915949076,
          17.442701609692207,
          17.660674303435343,
          17.87864699717848,
          18.096619690921614,
          18.31459238466475,
          18.532565078407885,
          18.75053777215102,
          18.968510465894155,
          19.18648315963729,
          19.404455853380426,
          19.62242854712356,
          19.840401240866697,
          20.058373934609833,
          20.276346628352968,
          20.494319322096096,
          20.712292015839232,
          20.930264709582367,
          21.148237403325503,
          21.366210097068638,
          21.584182790811774,
          21.80215548455491,
          22.020128178298044,
          22.23810087204118,
          22.456073565784315,
          22.67404625952745,
          22.892018953270586,
          23.10999164701372,
          23.327964340756857,
          23.545937034499993,
          23.763909728243128,
          23.981882421986263,
          24.19985511572939,
          24.417827809472534,
          24.635800503215663,
          24.853773196958805
         ]
        },
        {
         "line": {
          "color": "#56B4E9",
          "dash": "dot"
         },
         "marker": {
          "line": {
           "color": "DarkSlateGrey",
           "width": 0
          },
          "size": 8
         },
         "mode": "lines",
         "name": "small – CLASSIC_AT (r=0.79, p=0.036)",
         "type": "scatter",
         "x": [
          0.28044444444444444,
          0.3698555395222062,
          0.45926663459996786,
          0.5486777296777297,
          0.6380888247554913,
          0.727499919833253,
          0.8169110149110148,
          0.9063221099887766,
          0.9957332050665382,
          1.0851443001443,
          1.1745553952220618,
          1.2639664902998233,
          1.3533775853775851,
          1.442788680455347,
          1.5321997755331087,
          1.6216108706108703,
          1.711021965688632,
          1.8004330607663939,
          1.8898441558441554,
          1.9792552509219172,
          2.068666345999679,
          2.1580774410774404,
          2.247488536155202,
          2.336899631232964,
          2.4263107263107258,
          2.5157218213884875,
          2.6051329164662493,
          2.694544011544011,
          2.783955106621773,
          2.8733662016995343,
          2.962777296777296,
          3.052188391855058,
          3.1415994869328197,
          3.2310105820105814,
          3.3204216770883432,
          3.409832772166105,
          3.4992438672438664,
          3.588654962321628,
          3.67806605739939,
          3.7674771524771518,
          3.8568882475549136,
          3.9462993426326753,
          4.035710437710437,
          4.1251215327881985,
          4.21453262786596,
          4.303943722943721,
          4.393354818021483,
          4.482765913099245,
          4.572177008177007,
          4.661588103254768,
          4.75099919833253,
          4.840410293410292,
          4.929821388488054,
          5.0192324835658155,
          5.108643578643577,
          5.198054673721339,
          5.287465768799101,
          5.376876863876863,
          5.466287958954624,
          5.555699054032385,
          5.645110149110147,
          5.734521244187909,
          5.823932339265671,
          5.913343434343433,
          6.002754529421194,
          6.092165624498956,
          6.181576719576718,
          6.27098781465448,
          6.3603989097322415,
          6.449810004810003,
          6.539221099887765,
          6.628632194965526,
          6.718043290043288,
          6.80745438512105,
          6.896865480198811,
          6.986276575276573,
          7.075687670354335,
          7.165098765432097,
          7.254509860509859,
          7.34392095558762,
          7.433332050665382,
          7.522743145743144,
          7.612154240820906,
          7.7015653358986675,
          7.7909764309764284,
          7.88038752605419,
          7.969798621131952,
          8.059209716209715,
          8.148620811287476,
          8.238031906365238,
          8.327443001443,
          8.416854096520762,
          8.506265191598523,
          8.595676286676285,
          8.685087381754046,
          8.774498476831809,
          8.86390957190957,
          8.953320666987333,
          9.042731762065094,
          9.132142857142856
         ],
         "y": [
          4.464590209483086,
          4.625469752786884,
          4.786349296090681,
          4.947228839394478,
          5.108108382698276,
          5.268987926002073,
          5.42986746930587,
          5.590747012609668,
          5.751626555913465,
          5.9125060992172624,
          6.07338564252106,
          6.2342651858248574,
          6.3951447291286545,
          6.5560242724324524,
          6.7169038157362495,
          6.877783359040047,
          7.0386629023438445,
          7.199542445647642,
          7.360421988951439,
          7.521301532255237,
          7.682181075559034,
          7.843060618862831,
          8.003940162166629,
          8.164819705470425,
          8.325699248774223,
          8.48657879207802,
          8.647458335381819,
          8.808337878685615,
          8.969217421989413,
          9.130096965293209,
          9.290976508597007,
          9.451856051900805,
          9.612735595204601,
          9.773615138508399,
          9.934494681812197,
          10.095374225115995,
          10.256253768419791,
          10.417133311723589,
          10.578012855027385,
          10.738892398331183,
          10.899771941634981,
          11.060651484938779,
          11.221531028242575,
          11.382410571546373,
          11.54329011485017,
          11.704169658153965,
          11.865049201457763,
          12.025928744761561,
          12.18680828806536,
          12.347687831369155,
          12.508567374672953,
          12.669446917976751,
          12.83032646128055,
          12.991206004584345,
          13.152085547888143,
          13.312965091191941,
          13.47384463449574,
          13.634724177799535,
          13.795603721103332,
          13.95648326440713,
          14.117362807710927,
          14.278242351014724,
          14.439121894318522,
          14.60000143762232,
          14.760880980926116,
          14.921760524229914,
          15.082640067533712,
          15.24351961083751,
          15.404399154141306,
          15.565278697445104,
          15.726158240748902,
          15.887037784052698,
          16.047917327356494,
          16.20879687066029,
          16.36967641396409,
          16.530555957267886,
          16.691435500571682,
          16.852315043875482,
          17.013194587179278,
          17.174074130483078,
          17.334953673786874,
          17.49583321709067,
          17.65671276039447,
          17.817592303698266,
          17.978471847002062,
          18.13935139030586,
          18.300230933609658,
          18.461110476913454,
          18.62199002021725,
          18.78286956352105,
          18.943749106824846,
          19.104628650128646,
          19.265508193432442,
          19.426387736736242,
          19.587267280040038,
          19.748146823343834,
          19.90902636664763,
          20.06990590995143,
          20.230785453255226,
          20.391664996559026
         ]
        },
        {
         "line": {
          "color": "#009E73",
          "dash": "solid"
         },
         "marker": {
          "line": {
           "color": "DarkSlateGrey",
           "width": 0
          },
          "size": 8
         },
         "mode": "lines",
         "name": "medium – TRADES_v2 (r=0.74, p=0.002)",
         "type": "scatter",
         "x": [
          0.28044444444444444,
          0.3698555395222062,
          0.45926663459996786,
          0.5486777296777297,
          0.6380888247554913,
          0.727499919833253,
          0.8169110149110148,
          0.9063221099887766,
          0.9957332050665382,
          1.0851443001443,
          1.1745553952220618,
          1.2639664902998233,
          1.3533775853775851,
          1.442788680455347,
          1.5321997755331087,
          1.6216108706108703,
          1.711021965688632,
          1.8004330607663939,
          1.8898441558441554,
          1.9792552509219172,
          2.068666345999679,
          2.1580774410774404,
          2.247488536155202,
          2.336899631232964,
          2.4263107263107258,
          2.5157218213884875,
          2.6051329164662493,
          2.694544011544011,
          2.783955106621773,
          2.8733662016995343,
          2.962777296777296,
          3.052188391855058,
          3.1415994869328197,
          3.2310105820105814,
          3.3204216770883432,
          3.409832772166105,
          3.4992438672438664,
          3.588654962321628,
          3.67806605739939,
          3.7674771524771518,
          3.8568882475549136,
          3.9462993426326753,
          4.035710437710437,
          4.1251215327881985,
          4.21453262786596,
          4.303943722943721,
          4.393354818021483,
          4.482765913099245,
          4.572177008177007,
          4.661588103254768,
          4.75099919833253,
          4.840410293410292,
          4.929821388488054,
          5.0192324835658155,
          5.108643578643577,
          5.198054673721339,
          5.287465768799101,
          5.376876863876863,
          5.466287958954624,
          5.555699054032385,
          5.645110149110147,
          5.734521244187909,
          5.823932339265671,
          5.913343434343433,
          6.002754529421194,
          6.092165624498956,
          6.181576719576718,
          6.27098781465448,
          6.3603989097322415,
          6.449810004810003,
          6.539221099887765,
          6.628632194965526,
          6.718043290043288,
          6.80745438512105,
          6.896865480198811,
          6.986276575276573,
          7.075687670354335,
          7.165098765432097,
          7.254509860509859,
          7.34392095558762,
          7.433332050665382,
          7.522743145743144,
          7.612154240820906,
          7.7015653358986675,
          7.7909764309764284,
          7.88038752605419,
          7.969798621131952,
          8.059209716209715,
          8.148620811287476,
          8.238031906365238,
          8.327443001443,
          8.416854096520762,
          8.506265191598523,
          8.595676286676285,
          8.685087381754046,
          8.774498476831809,
          8.86390957190957,
          8.953320666987333,
          9.042731762065094,
          9.132142857142856
         ],
         "y": [
          6.021230847012352,
          6.132556057896479,
          6.243881268780605,
          6.355206479664731,
          6.466531690548857,
          6.577856901432983,
          6.689182112317109,
          6.800507323201236,
          6.911832534085361,
          7.023157744969488,
          7.134482955853614,
          7.24580816673774,
          7.357133377621866,
          7.468458588505992,
          7.5797837993901185,
          7.6911090102742445,
          7.8024342211583715,
          7.913759432042497,
          8.025084642926624,
          8.136409853810749,
          8.247735064694876,
          8.359060275579,
          8.470385486463128,
          8.581710697347255,
          8.69303590823138,
          8.804361119115507,
          8.915686329999632,
          9.027011540883759,
          9.138336751767884,
          9.249661962652011,
          9.360987173536138,
          9.472312384420263,
          9.58363759530439,
          9.694962806188517,
          9.806288017072642,
          9.917613227956767,
          10.028938438840894,
          10.140263649725021,
          10.251588860609147,
          10.362914071493272,
          10.474239282377399,
          10.585564493261526,
          10.69688970414565,
          10.808214915029776,
          10.919540125913905,
          11.03086533679803,
          11.142190547682155,
          11.25351575856628,
          11.364840969450407,
          11.476166180334534,
          11.58749139121866,
          11.698816602102786,
          11.810141812986913,
          11.921467023871038,
          12.032792234755165,
          12.144117445639292,
          12.255442656523417,
          12.366767867407543,
          12.478093078291668,
          12.589418289175795,
          12.700743500059922,
          12.812068710944047,
          12.923393921828174,
          13.0347191327123,
          13.146044343596426,
          13.257369554480553,
          13.36869476536468,
          13.480019976248805,
          13.59134518713293,
          13.702670398017057,
          13.813995608901184,
          13.92532081978531,
          14.036646030669436,
          14.147971241553561,
          14.259296452437688,
          14.370621663321813,
          14.48194687420594,
          14.593272085090067,
          14.704597295974192,
          14.81592250685832,
          14.927247717742445,
          15.038572928626571,
          15.149898139510698,
          15.261223350394824,
          15.372548561278949,
          15.483873772163076,
          15.5951989830472,
          15.70652419393133,
          15.817849404815455,
          15.929174615699582,
          16.040499826583705,
          16.151825037467834,
          16.26315024835196,
          16.374475459236088,
          16.485800670120213,
          16.597125881004338,
          16.708451091888463,
          16.819776302772592,
          16.931101513656717,
          17.042426724540846
         ]
        },
        {
         "line": {
          "color": "#009E73",
          "dash": "dot"
         },
         "marker": {
          "line": {
           "color": "DarkSlateGrey",
           "width": 0
          },
          "size": 8
         },
         "mode": "lines",
         "name": "medium – CLASSIC_AT (r=0.34, p=0.221)",
         "type": "scatter",
         "x": [
          0.28044444444444444,
          0.3698555395222062,
          0.45926663459996786,
          0.5486777296777297,
          0.6380888247554913,
          0.727499919833253,
          0.8169110149110148,
          0.9063221099887766,
          0.9957332050665382,
          1.0851443001443,
          1.1745553952220618,
          1.2639664902998233,
          1.3533775853775851,
          1.442788680455347,
          1.5321997755331087,
          1.6216108706108703,
          1.711021965688632,
          1.8004330607663939,
          1.8898441558441554,
          1.9792552509219172,
          2.068666345999679,
          2.1580774410774404,
          2.247488536155202,
          2.336899631232964,
          2.4263107263107258,
          2.5157218213884875,
          2.6051329164662493,
          2.694544011544011,
          2.783955106621773,
          2.8733662016995343,
          2.962777296777296,
          3.052188391855058,
          3.1415994869328197,
          3.2310105820105814,
          3.3204216770883432,
          3.409832772166105,
          3.4992438672438664,
          3.588654962321628,
          3.67806605739939,
          3.7674771524771518,
          3.8568882475549136,
          3.9462993426326753,
          4.035710437710437,
          4.1251215327881985,
          4.21453262786596,
          4.303943722943721,
          4.393354818021483,
          4.482765913099245,
          4.572177008177007,
          4.661588103254768,
          4.75099919833253,
          4.840410293410292,
          4.929821388488054,
          5.0192324835658155,
          5.108643578643577,
          5.198054673721339,
          5.287465768799101,
          5.376876863876863,
          5.466287958954624,
          5.555699054032385,
          5.645110149110147,
          5.734521244187909,
          5.823932339265671,
          5.913343434343433,
          6.002754529421194,
          6.092165624498956,
          6.181576719576718,
          6.27098781465448,
          6.3603989097322415,
          6.449810004810003,
          6.539221099887765,
          6.628632194965526,
          6.718043290043288,
          6.80745438512105,
          6.896865480198811,
          6.986276575276573,
          7.075687670354335,
          7.165098765432097,
          7.254509860509859,
          7.34392095558762,
          7.433332050665382,
          7.522743145743144,
          7.612154240820906,
          7.7015653358986675,
          7.7909764309764284,
          7.88038752605419,
          7.969798621131952,
          8.059209716209715,
          8.148620811287476,
          8.238031906365238,
          8.327443001443,
          8.416854096520762,
          8.506265191598523,
          8.595676286676285,
          8.685087381754046,
          8.774498476831809,
          8.86390957190957,
          8.953320666987333,
          9.042731762065094,
          9.132142857142856
         ],
         "y": [
          7.089615057910984,
          7.1350553217428345,
          7.180495585574685,
          7.225935849406536,
          7.271376113238387,
          7.3168163770702375,
          7.362256640902088,
          7.407696904733939,
          7.45313716856579,
          7.49857743239764,
          7.544017696229491,
          7.589457960061342,
          7.634898223893193,
          7.680338487725043,
          7.725778751556894,
          7.771219015388745,
          7.816659279220596,
          7.862099543052446,
          7.907539806884297,
          7.952980070716148,
          7.9984203345479985,
          8.04386059837985,
          8.089300862211699,
          8.13474112604355,
          8.1801813898754,
          8.225621653707252,
          8.271061917539102,
          8.316502181370954,
          8.361942445202803,
          8.407382709034655,
          8.452822972866505,
          8.498263236698357,
          8.543703500530206,
          8.589143764362058,
          8.634584028193908,
          8.68002429202576,
          8.72546455585761,
          8.770904819689461,
          8.81634508352131,
          8.861785347353162,
          8.907225611185012,
          8.952665875016864,
          8.998106138848714,
          9.043546402680565,
          9.088986666512415,
          9.134426930344265,
          9.179867194176117,
          9.225307458007967,
          9.270747721839818,
          9.316187985671668,
          9.36162824950352,
          9.40706851333537,
          9.452508777167221,
          9.497949040999071,
          9.543389304830923,
          9.588829568662772,
          9.634269832494624,
          9.679710096326474,
          9.725150360158326,
          9.770590623990175,
          9.816030887822027,
          9.861471151653877,
          9.906911415485729,
          9.952351679317578,
          9.99779194314943,
          10.04323220698128,
          10.088672470813131,
          10.134112734644981,
          10.179552998476833,
          10.224993262308683,
          10.270433526140534,
          10.315873789972384,
          10.361314053804236,
          10.406754317636086,
          10.452194581467936,
          10.497634845299787,
          10.543075109131639,
          10.588515372963489,
          10.633955636795339,
          10.67939590062719,
          10.724836164459042,
          10.770276428290892,
          10.815716692122741,
          10.861156955954593,
          10.906597219786443,
          10.952037483618295,
          10.997477747450144,
          11.042918011281996,
          11.088358275113848,
          11.133798538945697,
          11.179238802777547,
          11.224679066609399,
          11.27011933044125,
          11.3155595942731,
          11.36099985810495,
          11.406440121936802,
          11.451880385768654,
          11.497320649600503,
          11.542760913432353,
          11.588201177264205
         ]
        }
       ],
       "layout": {
        "height": 400,
        "legend": {
         "bgcolor": "rgba(255,255,255,1)",
         "bordercolor": "lightgrey",
         "borderwidth": 1,
         "font": {
          "size": 12
         },
         "title": {
          "text": "Legend"
         },
         "tracegroupgap": 0,
         "y": 0.85
        },
        "margin": {
         "b": 0,
         "l": 0,
         "r": 0,
         "t": 0
        },
        "paper_bgcolor": "white",
        "plot_bgcolor": "white",
        "template": {
         "data": {
          "bar": [
           {
            "error_x": {
             "color": "#2a3f5f"
            },
            "error_y": {
             "color": "#2a3f5f"
            },
            "marker": {
             "line": {
              "color": "#E5ECF6",
              "width": 0.5
             },
             "pattern": {
              "fillmode": "overlay",
              "size": 10,
              "solidity": 0.2
             }
            },
            "type": "bar"
           }
          ],
          "barpolar": [
           {
            "marker": {
             "line": {
              "color": "#E5ECF6",
              "width": 0.5
             },
             "pattern": {
              "fillmode": "overlay",
              "size": 10,
              "solidity": 0.2
             }
            },
            "type": "barpolar"
           }
          ],
          "carpet": [
           {
            "aaxis": {
             "endlinecolor": "#2a3f5f",
             "gridcolor": "white",
             "linecolor": "white",
             "minorgridcolor": "white",
             "startlinecolor": "#2a3f5f"
            },
            "baxis": {
             "endlinecolor": "#2a3f5f",
             "gridcolor": "white",
             "linecolor": "white",
             "minorgridcolor": "white",
             "startlinecolor": "#2a3f5f"
            },
            "type": "carpet"
           }
          ],
          "choropleth": [
           {
            "colorbar": {
             "outlinewidth": 0,
             "ticks": ""
            },
            "type": "choropleth"
           }
          ],
          "contour": [
           {
            "colorbar": {
             "outlinewidth": 0,
             "ticks": ""
            },
            "colorscale": [
             [
              0,
              "#0d0887"
             ],
             [
              0.1111111111111111,
              "#46039f"
             ],
             [
              0.2222222222222222,
              "#7201a8"
             ],
             [
              0.3333333333333333,
              "#9c179e"
             ],
             [
              0.4444444444444444,
              "#bd3786"
             ],
             [
              0.5555555555555556,
              "#d8576b"
             ],
             [
              0.6666666666666666,
              "#ed7953"
             ],
             [
              0.7777777777777778,
              "#fb9f3a"
             ],
             [
              0.8888888888888888,
              "#fdca26"
             ],
             [
              1,
              "#f0f921"
             ]
            ],
            "type": "contour"
           }
          ],
          "contourcarpet": [
           {
            "colorbar": {
             "outlinewidth": 0,
             "ticks": ""
            },
            "type": "contourcarpet"
           }
          ],
          "heatmap": [
           {
            "colorbar": {
             "outlinewidth": 0,
             "ticks": ""
            },
            "colorscale": [
             [
              0,
              "#0d0887"
             ],
             [
              0.1111111111111111,
              "#46039f"
             ],
             [
              0.2222222222222222,
              "#7201a8"
             ],
             [
              0.3333333333333333,
              "#9c179e"
             ],
             [
              0.4444444444444444,
              "#bd3786"
             ],
             [
              0.5555555555555556,
              "#d8576b"
             ],
             [
              0.6666666666666666,
              "#ed7953"
             ],
             [
              0.7777777777777778,
              "#fb9f3a"
             ],
             [
              0.8888888888888888,
              "#fdca26"
             ],
             [
              1,
              "#f0f921"
             ]
            ],
            "type": "heatmap"
           }
          ],
          "heatmapgl": [
           {
            "colorbar": {
             "outlinewidth": 0,
             "ticks": ""
            },
            "colorscale": [
             [
              0,
              "#0d0887"
             ],
             [
              0.1111111111111111,
              "#46039f"
             ],
             [
              0.2222222222222222,
              "#7201a8"
             ],
             [
              0.3333333333333333,
              "#9c179e"
             ],
             [
              0.4444444444444444,
              "#bd3786"
             ],
             [
              0.5555555555555556,
              "#d8576b"
             ],
             [
              0.6666666666666666,
              "#ed7953"
             ],
             [
              0.7777777777777778,
              "#fb9f3a"
             ],
             [
              0.8888888888888888,
              "#fdca26"
             ],
             [
              1,
              "#f0f921"
             ]
            ],
            "type": "heatmapgl"
           }
          ],
          "histogram": [
           {
            "marker": {
             "pattern": {
              "fillmode": "overlay",
              "size": 10,
              "solidity": 0.2
             }
            },
            "type": "histogram"
           }
          ],
          "histogram2d": [
           {
            "colorbar": {
             "outlinewidth": 0,
             "ticks": ""
            },
            "colorscale": [
             [
              0,
              "#0d0887"
             ],
             [
              0.1111111111111111,
              "#46039f"
             ],
             [
              0.2222222222222222,
              "#7201a8"
             ],
             [
              0.3333333333333333,
              "#9c179e"
             ],
             [
              0.4444444444444444,
              "#bd3786"
             ],
             [
              0.5555555555555556,
              "#d8576b"
             ],
             [
              0.6666666666666666,
              "#ed7953"
             ],
             [
              0.7777777777777778,
              "#fb9f3a"
             ],
             [
              0.8888888888888888,
              "#fdca26"
             ],
             [
              1,
              "#f0f921"
             ]
            ],
            "type": "histogram2d"
           }
          ],
          "histogram2dcontour": [
           {
            "colorbar": {
             "outlinewidth": 0,
             "ticks": ""
            },
            "colorscale": [
             [
              0,
              "#0d0887"
             ],
             [
              0.1111111111111111,
              "#46039f"
             ],
             [
              0.2222222222222222,
              "#7201a8"
             ],
             [
              0.3333333333333333,
              "#9c179e"
             ],
             [
              0.4444444444444444,
              "#bd3786"
             ],
             [
              0.5555555555555556,
              "#d8576b"
             ],
             [
              0.6666666666666666,
              "#ed7953"
             ],
             [
              0.7777777777777778,
              "#fb9f3a"
             ],
             [
              0.8888888888888888,
              "#fdca26"
             ],
             [
              1,
              "#f0f921"
             ]
            ],
            "type": "histogram2dcontour"
           }
          ],
          "mesh3d": [
           {
            "colorbar": {
             "outlinewidth": 0,
             "ticks": ""
            },
            "type": "mesh3d"
           }
          ],
          "parcoords": [
           {
            "line": {
             "colorbar": {
              "outlinewidth": 0,
              "ticks": ""
             }
            },
            "type": "parcoords"
           }
          ],
          "pie": [
           {
            "automargin": true,
            "type": "pie"
           }
          ],
          "scatter": [
           {
            "fillpattern": {
             "fillmode": "overlay",
             "size": 10,
             "solidity": 0.2
            },
            "type": "scatter"
           }
          ],
          "scatter3d": [
           {
            "line": {
             "colorbar": {
              "outlinewidth": 0,
              "ticks": ""
             }
            },
            "marker": {
             "colorbar": {
              "outlinewidth": 0,
              "ticks": ""
             }
            },
            "type": "scatter3d"
           }
          ],
          "scattercarpet": [
           {
            "marker": {
             "colorbar": {
              "outlinewidth": 0,
              "ticks": ""
             }
            },
            "type": "scattercarpet"
           }
          ],
          "scattergeo": [
           {
            "marker": {
             "colorbar": {
              "outlinewidth": 0,
              "ticks": ""
             }
            },
            "type": "scattergeo"
           }
          ],
          "scattergl": [
           {
            "marker": {
             "colorbar": {
              "outlinewidth": 0,
              "ticks": ""
             }
            },
            "type": "scattergl"
           }
          ],
          "scattermapbox": [
           {
            "marker": {
             "colorbar": {
              "outlinewidth": 0,
              "ticks": ""
             }
            },
            "type": "scattermapbox"
           }
          ],
          "scatterpolar": [
           {
            "marker": {
             "colorbar": {
              "outlinewidth": 0,
              "ticks": ""
             }
            },
            "type": "scatterpolar"
           }
          ],
          "scatterpolargl": [
           {
            "marker": {
             "colorbar": {
              "outlinewidth": 0,
              "ticks": ""
             }
            },
            "type": "scatterpolargl"
           }
          ],
          "scatterternary": [
           {
            "marker": {
             "colorbar": {
              "outlinewidth": 0,
              "ticks": ""
             }
            },
            "type": "scatterternary"
           }
          ],
          "surface": [
           {
            "colorbar": {
             "outlinewidth": 0,
             "ticks": ""
            },
            "colorscale": [
             [
              0,
              "#0d0887"
             ],
             [
              0.1111111111111111,
              "#46039f"
             ],
             [
              0.2222222222222222,
              "#7201a8"
             ],
             [
              0.3333333333333333,
              "#9c179e"
             ],
             [
              0.4444444444444444,
              "#bd3786"
             ],
             [
              0.5555555555555556,
              "#d8576b"
             ],
             [
              0.6666666666666666,
              "#ed7953"
             ],
             [
              0.7777777777777778,
              "#fb9f3a"
             ],
             [
              0.8888888888888888,
              "#fdca26"
             ],
             [
              1,
              "#f0f921"
             ]
            ],
            "type": "surface"
           }
          ],
          "table": [
           {
            "cells": {
             "fill": {
              "color": "#EBF0F8"
             },
             "line": {
              "color": "white"
             }
            },
            "header": {
             "fill": {
              "color": "#C8D4E3"
             },
             "line": {
              "color": "white"
             }
            },
            "type": "table"
           }
          ]
         },
         "layout": {
          "annotationdefaults": {
           "arrowcolor": "#2a3f5f",
           "arrowhead": 0,
           "arrowwidth": 1
          },
          "autotypenumbers": "strict",
          "coloraxis": {
           "colorbar": {
            "outlinewidth": 0,
            "ticks": ""
           }
          },
          "colorscale": {
           "diverging": [
            [
             0,
             "#8e0152"
            ],
            [
             0.1,
             "#c51b7d"
            ],
            [
             0.2,
             "#de77ae"
            ],
            [
             0.3,
             "#f1b6da"
            ],
            [
             0.4,
             "#fde0ef"
            ],
            [
             0.5,
             "#f7f7f7"
            ],
            [
             0.6,
             "#e6f5d0"
            ],
            [
             0.7,
             "#b8e186"
            ],
            [
             0.8,
             "#7fbc41"
            ],
            [
             0.9,
             "#4d9221"
            ],
            [
             1,
             "#276419"
            ]
           ],
           "sequential": [
            [
             0,
             "#0d0887"
            ],
            [
             0.1111111111111111,
             "#46039f"
            ],
            [
             0.2222222222222222,
             "#7201a8"
            ],
            [
             0.3333333333333333,
             "#9c179e"
            ],
            [
             0.4444444444444444,
             "#bd3786"
            ],
            [
             0.5555555555555556,
             "#d8576b"
            ],
            [
             0.6666666666666666,
             "#ed7953"
            ],
            [
             0.7777777777777778,
             "#fb9f3a"
            ],
            [
             0.8888888888888888,
             "#fdca26"
            ],
            [
             1,
             "#f0f921"
            ]
           ],
           "sequentialminus": [
            [
             0,
             "#0d0887"
            ],
            [
             0.1111111111111111,
             "#46039f"
            ],
            [
             0.2222222222222222,
             "#7201a8"
            ],
            [
             0.3333333333333333,
             "#9c179e"
            ],
            [
             0.4444444444444444,
             "#bd3786"
            ],
            [
             0.5555555555555556,
             "#d8576b"
            ],
            [
             0.6666666666666666,
             "#ed7953"
            ],
            [
             0.7777777777777778,
             "#fb9f3a"
            ],
            [
             0.8888888888888888,
             "#fdca26"
            ],
            [
             1,
             "#f0f921"
            ]
           ]
          },
          "colorway": [
           "#636efa",
           "#EF553B",
           "#00cc96",
           "#ab63fa",
           "#FFA15A",
           "#19d3f3",
           "#FF6692",
           "#B6E880",
           "#FF97FF",
           "#FECB52"
          ],
          "font": {
           "color": "#2a3f5f"
          },
          "geo": {
           "bgcolor": "white",
           "lakecolor": "white",
           "landcolor": "#E5ECF6",
           "showlakes": true,
           "showland": true,
           "subunitcolor": "white"
          },
          "hoverlabel": {
           "align": "left"
          },
          "hovermode": "closest",
          "mapbox": {
           "style": "light"
          },
          "paper_bgcolor": "white",
          "plot_bgcolor": "#E5ECF6",
          "polar": {
           "angularaxis": {
            "gridcolor": "white",
            "linecolor": "white",
            "ticks": ""
           },
           "bgcolor": "#E5ECF6",
           "radialaxis": {
            "gridcolor": "white",
            "linecolor": "white",
            "ticks": ""
           }
          },
          "scene": {
           "xaxis": {
            "backgroundcolor": "#E5ECF6",
            "gridcolor": "white",
            "gridwidth": 2,
            "linecolor": "white",
            "showbackground": true,
            "ticks": "",
            "zerolinecolor": "white"
           },
           "yaxis": {
            "backgroundcolor": "#E5ECF6",
            "gridcolor": "white",
            "gridwidth": 2,
            "linecolor": "white",
            "showbackground": true,
            "ticks": "",
            "zerolinecolor": "white"
           },
           "zaxis": {
            "backgroundcolor": "#E5ECF6",
            "gridcolor": "white",
            "gridwidth": 2,
            "linecolor": "white",
            "showbackground": true,
            "ticks": "",
            "zerolinecolor": "white"
           }
          },
          "shapedefaults": {
           "line": {
            "color": "#2a3f5f"
           }
          },
          "ternary": {
           "aaxis": {
            "gridcolor": "white",
            "linecolor": "white",
            "ticks": ""
           },
           "baxis": {
            "gridcolor": "white",
            "linecolor": "white",
            "ticks": ""
           },
           "bgcolor": "#E5ECF6",
           "caxis": {
            "gridcolor": "white",
            "linecolor": "white",
            "ticks": ""
           }
          },
          "title": {
           "x": 0.05
          },
          "xaxis": {
           "automargin": true,
           "gridcolor": "white",
           "linecolor": "white",
           "ticks": "",
           "title": {
            "standoff": 15
           },
           "zerolinecolor": "white",
           "zerolinewidth": 2
          },
          "yaxis": {
           "automargin": true,
           "gridcolor": "white",
           "linecolor": "white",
           "ticks": "",
           "title": {
            "standoff": 15
           },
           "zerolinecolor": "white",
           "zerolinewidth": 2
          }
         }
        },
        "width": 800,
        "xaxis": {
         "anchor": "y",
         "domain": [
          0,
          1
         ],
         "gridcolor": "lightgrey",
         "range": [
          -0.25,
          8.25
         ],
         "showgrid": true,
         "title": {
          "text": "LP (50 epochs)"
         }
        },
        "yaxis": {
         "anchor": "x",
         "domain": [
          0,
          1
         ],
         "gridcolor": "lightgrey",
         "range": [
          0,
          20
         ],
         "showgrid": true,
         "title": {
          "text": "FFT (50 epochs)"
         }
        }
       }
      }
     },
     "metadata": {},
     "output_type": "display_data"
    }
   ],
   "source": [
    "import pandas as pd\n",
    "import plotly.express as px\n",
    "import plotly.graph_objects as go\n",
    "from scipy.stats import spearmanr\n",
    "import numpy as np\n",
    "from numpy.linalg import LinAlgError\n",
    "from scipy.stats import linregress\n",
    "\n",
    "import pandas as pd\n",
    "from scipy.stats import spearmanr, pearsonr\n",
    "from process_database import process_grouped_df, process_rankings,global_grouped_dataset\n",
    "\n",
    "\n",
    "grouped_df = global_grouped_dataset(df,)\n",
    "grouped_df = process_rankings(grouped_df)\n",
    "# Flatten the columns\n",
    "grouped_df.columns = ['_'.join(col).strip() if isinstance(col, tuple) else col for col in grouped_df.columns]\n",
    "grouped_df = grouped_df.reset_index()\n",
    "sub_df = grouped_df[[\"ft_strategy\", \"model_type\", \"model_size\", \"backbone\", \"loss_function\", \"TOTAL_score_sum\"]]\n",
    "\n",
    "# ── 1.  Reshape: one row per backbone × loss_function, one column per project\n",
    "pivot_df = sub_df.pivot_table(\n",
    "    index=[\"backbone\", \"loss_function\",  \"model_type\", \"model_size\",],\n",
    "    columns=\"ft_strategy\",\n",
    "    values=\"TOTAL_score_sum\"\n",
    ").reset_index()\n",
    "\n",
    "symbol_map = {\"TRADES_v2\": \"diamond\", \"CLASSIC_AT\": \"star\"}\n",
    "\n",
    "color_palette = [\"#E69F00\", \"#56B4E9\",  \"#009E73\",  ] # \"#009E73\", \"#F0E442\", \"#0072B2\",\"#CC79A7\", \"#D55E00\",\n",
    "unique_sizes = pivot_df[\"model_size\"].unique()\n",
    "color_map = {size: color_palette[i % len(color_palette)] for i, size in enumerate(unique_sizes)}\n",
    "\n",
    "\n",
    "for (x1,x2) in [ (\"FFT (5 epochs)\", \"FFT (50 epochs)\"), (\"LP (50 epochs)\", \"FFT (50 epochs)\") ]:\n",
    "\n",
    "    # Global correlation\n",
    "    pivot_df = pivot_df.fillna(0)\n",
    "    x = pivot_df[x1]\n",
    "    y = pivot_df[x2]\n",
    "    r_global, p_global = spearmanr(x, y)\n",
    "    try:\n",
    "        # m_global, b_global = np.polyfit(x, y, 1)\n",
    "        m_global, b_global, r, p, _ = linregress(x, y)\n",
    "    except Exception as e:\n",
    "        print(f\"Warning: polyfit failed with error: {e}\")\n",
    "        m_global, b_global = 0, y.mean()  # or any safe fallback\n",
    "    x_range = np.linspace(x.min(), x.max(), 100)\n",
    "\n",
    "    # Base scatter plot\n",
    "    fig = px.scatter(\n",
    "        pivot_df,\n",
    "        x=x1,\n",
    "        y=x2,\n",
    "        color=\"model_size\",\n",
    "        symbol=\"loss_function\",\n",
    "        symbol_map=symbol_map,\n",
    "        color_discrete_map=color_map,\n",
    "        labels={\n",
    "            \"full_fine_tuning_5epochs\": \"Fine-tuning (5 epochs)\",\n",
    "            \"full_fine_tuning_50epochs\": \"Fine-tuning (50 epochs)\",\n",
    "            \"linearprobe_50epochs\": \"Linear-probing (50 epochs)\"\n",
    "        },\n",
    "        #title=\"Fine-Tuning Correlation (5 vs 50 Epochs)\"\n",
    "    )\n",
    "\n",
    "    # Global black line\n",
    "    fig.add_trace(go.Scatter(\n",
    "        x=x_range,\n",
    "        y=m_global * x_range + b_global,\n",
    "        mode=\"lines\",\n",
    "        line=dict(color=\"black\", dash=\"solid\", width=2),\n",
    "        name=f\"Global (r={r_global:.2f}, p={p_global:.3f})\"\n",
    "    ))\n",
    "\n",
    "\n",
    "\n",
    "    # Add per-group lines\n",
    "    for model_size in pivot_df[\"model_size\"].unique():\n",
    "        for loss_function, style in zip([\"TRADES_v2\", \"CLASSIC_AT\"], [\"solid\", \"dot\"]):\n",
    "            subset = pivot_df[(pivot_df[\"model_size\"] == model_size) & (pivot_df[\"loss_function\"] == loss_function)]\n",
    "            if len(subset) >= 2:\n",
    "                xg, yg = subset[x1], subset[x2]\n",
    "                rg, pg = spearmanr(xg, yg)\n",
    "\n",
    "                try:\n",
    "                    mg, bg, r, p, _ = linregress(xg, yg)\n",
    "                except Exception as e:\n",
    "                    print(f\"Warning: polyfit failed with error: {e}\")\n",
    "                    mg, bg = 0, yg.mean()  # or any safe fallback\n",
    "                    \n",
    "                fig.add_trace(go.Scatter(\n",
    "                    x=x_range,\n",
    "                    y=mg * x_range + bg,\n",
    "                    mode=\"lines\",\n",
    "                    line=dict(color=color_map[model_size], dash=style),\n",
    "                    name=f\"{model_size} – {loss_function} (r={rg:.2f}, p={pg:.3f})\"\n",
    "                ))\n",
    "\n",
    "    fig.update_layout(yaxis=dict(range=[0, 20]),)\n",
    "    fig.update_layout(xaxis=dict(range=[-0.25, 8.25]),)\n",
    "    # Layout tweaks\n",
    "    fig.update_traces(marker=dict(size=8, line=dict(width=0, color='DarkSlateGrey')))\n",
    "    fig.update_layout(\n",
    "        margin=dict(l=0, r=0, t=0, b=0),  # remove all outer margins\n",
    "        width=800, #if x1=='full_fine_tuning_5epochs' else 488 ,    # in pixels (~2.5 inches at 96 DPI)\n",
    "        height=400,    # in pixels (~1.875 inches)\n",
    "        plot_bgcolor=\"white\",\n",
    "        paper_bgcolor=\"white\",\n",
    "        xaxis=dict(showgrid=True, gridcolor=\"lightgrey\"),\n",
    "        yaxis=dict(showgrid=True, gridcolor=\"lightgrey\"),\n",
    "        legend_title_text=\"Legend\",\n",
    "        #showlegend = True if x1=='full_fine_tuning_5epochs' else False,\n",
    "\n",
    "                    # Legend inside figure\n",
    "        legend=dict(\n",
    "                font=dict(size=12),\n",
    "                y=0.85,           # optional: near the top\n",
    "                bgcolor=\"rgba(255,255,255,1)\",\n",
    "                bordercolor=\"lightgrey\",\n",
    "                borderwidth=1\n",
    "            )\n",
    "    )\n",
    "\n",
    "    fig.show()\n",
    "    fig.write_image(\"./paper_figures/low_cost_proxy_{}.png\".format(x1,x2), scale=3  )\n"
   ]
  },
  {
   "cell_type": "code",
   "execution_count": 40,
   "metadata": {},
   "outputs": [
    {
     "name": "stdout",
     "output_type": "stream",
     "text": [
      "Percentage of NaN values: 1.02%\n"
     ]
    },
    {
     "data": {
      "text/html": [
       "<div>\n",
       "<style scoped>\n",
       "    .dataframe tbody tr th:only-of-type {\n",
       "        vertical-align: middle;\n",
       "    }\n",
       "\n",
       "    .dataframe tbody tr th {\n",
       "        vertical-align: top;\n",
       "    }\n",
       "\n",
       "    .dataframe thead th {\n",
       "        text-align: right;\n",
       "    }\n",
       "</style>\n",
       "<table border=\"1\" class=\"dataframe\">\n",
       "  <thead>\n",
       "    <tr style=\"text-align: right;\">\n",
       "      <th></th>\n",
       "      <th>fts</th>\n",
       "      <th>cond</th>\n",
       "      <th>trades_wins</th>\n",
       "      <th>classic_wins</th>\n",
       "      <th>odds_ratio</th>\n",
       "      <th>p_value</th>\n",
       "    </tr>\n",
       "  </thead>\n",
       "  <tbody>\n",
       "    <tr>\n",
       "      <th>0</th>\n",
       "      <td>FFT (50 epochs)</td>\n",
       "      <td>supervised</td>\n",
       "      <td>19</td>\n",
       "      <td>7</td>\n",
       "      <td>7.367347</td>\n",
       "      <td>0.001977</td>\n",
       "    </tr>\n",
       "    <tr>\n",
       "      <th>1</th>\n",
       "      <td>FFT (5 epochs)</td>\n",
       "      <td>supervised</td>\n",
       "      <td>18</td>\n",
       "      <td>8</td>\n",
       "      <td>5.062500</td>\n",
       "      <td>0.011820</td>\n",
       "    </tr>\n",
       "    <tr>\n",
       "      <th>2</th>\n",
       "      <td>LP (50 epochs)</td>\n",
       "      <td>supervised</td>\n",
       "      <td>17</td>\n",
       "      <td>9</td>\n",
       "      <td>3.567901</td>\n",
       "      <td>0.051193</td>\n",
       "    </tr>\n",
       "    <tr>\n",
       "      <th>3</th>\n",
       "      <td>FFT (50 epochs)</td>\n",
       "      <td>hybrid</td>\n",
       "      <td>2</td>\n",
       "      <td>0</td>\n",
       "      <td>inf</td>\n",
       "      <td>0.333333</td>\n",
       "    </tr>\n",
       "    <tr>\n",
       "      <th>4</th>\n",
       "      <td>FFT (5 epochs)</td>\n",
       "      <td>hybrid</td>\n",
       "      <td>1</td>\n",
       "      <td>1</td>\n",
       "      <td>1.000000</td>\n",
       "      <td>1.000000</td>\n",
       "    </tr>\n",
       "    <tr>\n",
       "      <th>5</th>\n",
       "      <td>LP (50 epochs)</td>\n",
       "      <td>hybrid</td>\n",
       "      <td>2</td>\n",
       "      <td>0</td>\n",
       "      <td>inf</td>\n",
       "      <td>0.333333</td>\n",
       "    </tr>\n",
       "    <tr>\n",
       "      <th>6</th>\n",
       "      <td>FFT (50 epochs)</td>\n",
       "      <td>self-supervised</td>\n",
       "      <td>3</td>\n",
       "      <td>1</td>\n",
       "      <td>9.000000</td>\n",
       "      <td>0.485714</td>\n",
       "    </tr>\n",
       "    <tr>\n",
       "      <th>7</th>\n",
       "      <td>FFT (5 epochs)</td>\n",
       "      <td>self-supervised</td>\n",
       "      <td>1</td>\n",
       "      <td>3</td>\n",
       "      <td>0.111111</td>\n",
       "      <td>0.485714</td>\n",
       "    </tr>\n",
       "    <tr>\n",
       "      <th>8</th>\n",
       "      <td>LP (50 epochs)</td>\n",
       "      <td>self-supervised</td>\n",
       "      <td>3</td>\n",
       "      <td>1</td>\n",
       "      <td>9.000000</td>\n",
       "      <td>0.485714</td>\n",
       "    </tr>\n",
       "    <tr>\n",
       "      <th>9</th>\n",
       "      <td>FFT (50 epochs)</td>\n",
       "      <td>self-supervised (multimodal)</td>\n",
       "      <td>3</td>\n",
       "      <td>0</td>\n",
       "      <td>inf</td>\n",
       "      <td>0.100000</td>\n",
       "    </tr>\n",
       "    <tr>\n",
       "      <th>10</th>\n",
       "      <td>FFT (5 epochs)</td>\n",
       "      <td>self-supervised (multimodal)</td>\n",
       "      <td>3</td>\n",
       "      <td>0</td>\n",
       "      <td>inf</td>\n",
       "      <td>0.100000</td>\n",
       "    </tr>\n",
       "    <tr>\n",
       "      <th>11</th>\n",
       "      <td>LP (50 epochs)</td>\n",
       "      <td>self-supervised (multimodal)</td>\n",
       "      <td>3</td>\n",
       "      <td>0</td>\n",
       "      <td>inf</td>\n",
       "      <td>0.100000</td>\n",
       "    </tr>\n",
       "    <tr>\n",
       "      <th>12</th>\n",
       "      <td>FFT (50 epochs)</td>\n",
       "      <td>supervised (robust)</td>\n",
       "      <td>4</td>\n",
       "      <td>1</td>\n",
       "      <td>16.000000</td>\n",
       "      <td>0.206349</td>\n",
       "    </tr>\n",
       "    <tr>\n",
       "      <th>13</th>\n",
       "      <td>FFT (5 epochs)</td>\n",
       "      <td>supervised (robust)</td>\n",
       "      <td>2</td>\n",
       "      <td>3</td>\n",
       "      <td>0.444444</td>\n",
       "      <td>1.000000</td>\n",
       "    </tr>\n",
       "    <tr>\n",
       "      <th>14</th>\n",
       "      <td>LP (50 epochs)</td>\n",
       "      <td>supervised (robust)</td>\n",
       "      <td>3</td>\n",
       "      <td>2</td>\n",
       "      <td>2.250000</td>\n",
       "      <td>1.000000</td>\n",
       "    </tr>\n",
       "  </tbody>\n",
       "</table>\n",
       "</div>"
      ],
      "text/plain": [
       "                fts                          cond  trades_wins  classic_wins  \\\n",
       "0   FFT (50 epochs)                    supervised           19             7   \n",
       "1    FFT (5 epochs)                    supervised           18             8   \n",
       "2    LP (50 epochs)                    supervised           17             9   \n",
       "3   FFT (50 epochs)                        hybrid            2             0   \n",
       "4    FFT (5 epochs)                        hybrid            1             1   \n",
       "5    LP (50 epochs)                        hybrid            2             0   \n",
       "6   FFT (50 epochs)               self-supervised            3             1   \n",
       "7    FFT (5 epochs)               self-supervised            1             3   \n",
       "8    LP (50 epochs)               self-supervised            3             1   \n",
       "9   FFT (50 epochs)  self-supervised (multimodal)            3             0   \n",
       "10   FFT (5 epochs)  self-supervised (multimodal)            3             0   \n",
       "11   LP (50 epochs)  self-supervised (multimodal)            3             0   \n",
       "12  FFT (50 epochs)           supervised (robust)            4             1   \n",
       "13   FFT (5 epochs)           supervised (robust)            2             3   \n",
       "14   LP (50 epochs)           supervised (robust)            3             2   \n",
       "\n",
       "    odds_ratio   p_value  \n",
       "0     7.367347  0.001977  \n",
       "1     5.062500  0.011820  \n",
       "2     3.567901  0.051193  \n",
       "3          inf  0.333333  \n",
       "4     1.000000  1.000000  \n",
       "5          inf  0.333333  \n",
       "6     9.000000  0.485714  \n",
       "7     0.111111  0.485714  \n",
       "8     9.000000  0.485714  \n",
       "9          inf  0.100000  \n",
       "10         inf  0.100000  \n",
       "11         inf  0.100000  \n",
       "12   16.000000  0.206349  \n",
       "13    0.444444  1.000000  \n",
       "14    2.250000  1.000000  "
      ]
     },
     "execution_count": 40,
     "metadata": {},
     "output_type": "execute_result"
    }
   ],
   "source": [
    "import pandas as pd\n",
    "from scipy.stats import fisher_exact\n",
    "from process_database import process_grouped_df, process_rankings\n",
    "from load_results import load_result_dataset\n",
    "\n",
    "# Collector for odds ratios and p-values\n",
    "results = []\n",
    "# group = 'model_type'\n",
    "group = 'pre_training_strategy'\n",
    "\n",
    "grouped_df = process_grouped_df(final_data)\n",
    "grouped_df = process_rankings(grouped_df)\n",
    "odds_df = grouped_df['TOTAL'].reset_index()\n",
    "# Unique ID for observation\n",
    "index_cols = ['backbone', 'pre_training_strategy', 'model_type', 'model_size', 'ft_strategy']\n",
    "score_col = \"score_sum\"\n",
    "\n",
    "for cond in set(odds_df[group] ):\n",
    "\n",
    "        subset = odds_df[ odds_df[group] == cond ]\n",
    "\n",
    "        pivot = subset.pivot_table(\n",
    "                        index=index_cols,\n",
    "                        columns=\"loss_function\",\n",
    "                        values=score_col ).dropna()\n",
    "        \n",
    "                # Pairwise TRADES vs CLASSIC\n",
    "        pivot[\"winner\"] = pivot.apply(\n",
    "                        lambda row: \"TRADES\" if row[\"TRADES_v2\"] > row[\"CLASSIC_AT\"]\n",
    "                        else \"CLASSIC\" if row[\"TRADES_v2\"] < row[\"CLASSIC_AT\"]\n",
    "                        else \"TIE\",\n",
    "                        axis=1\n",
    "                        )\n",
    "        \n",
    "        # wins = pivot[pivot[\"winner\"] != \"TIE\"]\n",
    "        # trades_wins = (wins[\"winner\"] == \"TRADES\").sum()\n",
    "        # classic_wins = (wins[\"winner\"] == \"CLASSIC\").sum()\n",
    "\n",
    "        # table = [[trades_wins, classic_wins], [classic_wins, trades_wins]]\n",
    "        #         # table = [[trades_wins, classic_wins], [classic_wins, trades_wins]]\n",
    "        # odds_ratio, p_value = fisher_exact(table)\n",
    "\n",
    "        # results.append({\n",
    "        #         # \"fts\": fts,\n",
    "        #         \"cond\": cond,\n",
    "        #         \"trades_wins\": trades_wins,\n",
    "        #         \"classic_wins\": classic_wins,\n",
    "        #         \"odds_ratio\": odds_ratio,\n",
    "        #         \"p_value\": p_value })\n",
    "        \n",
    "        \n",
    "\n",
    "\n",
    "        for fts in [ \"FFT (50 epochs)\", \"FFT (5 epochs)\", \"LP (50 epochs)\" ]:\n",
    "                 \n",
    "                pivot2 = pivot.reset_index()\n",
    "                pivot2 = pivot2[ pivot2.ft_strategy == fts ]\n",
    "\n",
    "                wins = pivot2[pivot2[\"winner\"] != \"TIE\"]\n",
    "                trades_wins = (wins[\"winner\"] == \"TRADES\").sum()\n",
    "                classic_wins = (wins[\"winner\"] == \"CLASSIC\").sum()\n",
    "\n",
    "                table = [[trades_wins, classic_wins], [classic_wins, trades_wins]]\n",
    "                # table = [[trades_wins, classic_wins], [classic_wins, trades_wins]]\n",
    "                odds_ratio, p_value = fisher_exact(table)\n",
    "\n",
    "                # Collect result\n",
    "                results.append({\n",
    "                                \"fts\": fts,\n",
    "                                \"cond\": cond,\n",
    "                                \"trades_wins\": trades_wins,\n",
    "                                \"classic_wins\": classic_wins,\n",
    "                                \"odds_ratio\": odds_ratio,\n",
    "                                \"p_value\": p_value\n",
    "                                })\n",
    "\n",
    "# Convert to DataFrame\n",
    "results_df = pd.DataFrame(results)\n",
    "results_df"
   ]
  },
  {
   "cell_type": "code",
   "execution_count": 48,
   "metadata": {},
   "outputs": [
    {
     "data": {
      "application/vnd.plotly.v1+json": {
       "config": {
        "plotlyServerURL": "https://plot.ly"
       },
       "data": [
        {
         "alignmentgroup": "True",
         "cliponaxis": false,
         "hovertemplate": "fts=FFT (50 epochs)<br>pre_training_strategy=%{x}<br>Odds Ratio=%{y}<br>text_label=%{text}<extra></extra>",
         "legendgroup": "FFT (50 epochs)",
         "marker": {
          "color": "#636efa",
          "pattern": {
           "shape": ""
          }
         },
         "name": "FFT (50 epochs)",
         "offsetgroup": "FFT (50 epochs)",
         "orientation": "v",
         "showlegend": true,
         "text": [
          "7.37<br>(p=0.002)<br>n=26",
          "17.60<br>(p=0.333)<br>n=2",
          "9<br>(p=0.486)<br>n=4",
          "17.60<br>(p=0.100)<br>n=3",
          "16<br>(p=0.206)<br>n=5"
         ],
         "textangle": -90,
         "textfont": {
          "size": 10
         },
         "textposition": "outside",
         "type": "bar",
         "x": [
          "supervised",
          "hybrid",
          "self-supervised",
          "self-supervised (multimodal)",
          "supervised (robust)"
         ],
         "xaxis": "x",
         "y": [
          7.36734693877551,
          17.6,
          9,
          17.6,
          16
         ],
         "yaxis": "y"
        },
        {
         "alignmentgroup": "True",
         "cliponaxis": false,
         "hovertemplate": "fts=FFT (5 epochs)<br>pre_training_strategy=%{x}<br>Odds Ratio=%{y}<br>text_label=%{text}<extra></extra>",
         "legendgroup": "FFT (5 epochs)",
         "marker": {
          "color": "#EF553B",
          "pattern": {
           "shape": ""
          }
         },
         "name": "FFT (5 epochs)",
         "offsetgroup": "FFT (5 epochs)",
         "orientation": "v",
         "showlegend": true,
         "text": [
          "5.06<br>(p=0.012)<br>n=26",
          "1<br>(p=1.000)<br>n=2",
          "0.11<br>(p=0.486)<br>n=4",
          "17.60<br>(p=0.100)<br>n=3",
          "0.44<br>(p=1.000)<br>n=5"
         ],
         "textangle": -90,
         "textfont": {
          "size": 10
         },
         "textposition": "outside",
         "type": "bar",
         "x": [
          "supervised",
          "hybrid",
          "self-supervised",
          "self-supervised (multimodal)",
          "supervised (robust)"
         ],
         "xaxis": "x",
         "y": [
          5.0625,
          1,
          0.1111111111111111,
          17.6,
          0.4444444444444444
         ],
         "yaxis": "y"
        },
        {
         "alignmentgroup": "True",
         "cliponaxis": false,
         "hovertemplate": "fts=LP (50 epochs)<br>pre_training_strategy=%{x}<br>Odds Ratio=%{y}<br>text_label=%{text}<extra></extra>",
         "legendgroup": "LP (50 epochs)",
         "marker": {
          "color": "#00cc96",
          "pattern": {
           "shape": ""
          }
         },
         "name": "LP (50 epochs)",
         "offsetgroup": "LP (50 epochs)",
         "orientation": "v",
         "showlegend": true,
         "text": [
          "3.57<br>(p=0.051)<br>n=26",
          "17.60<br>(p=0.333)<br>n=2",
          "9<br>(p=0.486)<br>n=4",
          "17.60<br>(p=0.100)<br>n=3",
          "2.25<br>(p=1.000)<br>n=5"
         ],
         "textangle": -90,
         "textfont": {
          "size": 10
         },
         "textposition": "outside",
         "type": "bar",
         "x": [
          "supervised",
          "hybrid",
          "self-supervised",
          "self-supervised (multimodal)",
          "supervised (robust)"
         ],
         "xaxis": "x",
         "y": [
          3.567901234567901,
          17.6,
          9,
          17.6,
          2.25
         ],
         "yaxis": "y"
        }
       ],
       "layout": {
        "barmode": "group",
        "height": 400,
        "legend": {
         "bgcolor": "rgba(255,255,255,1)",
         "bordercolor": "lightgrey",
         "borderwidth": 1,
         "font": {
          "size": 12
         },
         "title": {
          "text": "fts"
         },
         "tracegroupgap": 0,
         "x": 0.05,
         "xanchor": "left",
         "y": 1.15,
         "yanchor": "top"
        },
        "margin": {
         "b": 0,
         "l": 0,
         "r": 0,
         "t": 0
        },
        "paper_bgcolor": "white",
        "plot_bgcolor": "white",
        "template": {
         "data": {
          "bar": [
           {
            "error_x": {
             "color": "#2a3f5f"
            },
            "error_y": {
             "color": "#2a3f5f"
            },
            "marker": {
             "line": {
              "color": "#E5ECF6",
              "width": 0.5
             },
             "pattern": {
              "fillmode": "overlay",
              "size": 10,
              "solidity": 0.2
             }
            },
            "type": "bar"
           }
          ],
          "barpolar": [
           {
            "marker": {
             "line": {
              "color": "#E5ECF6",
              "width": 0.5
             },
             "pattern": {
              "fillmode": "overlay",
              "size": 10,
              "solidity": 0.2
             }
            },
            "type": "barpolar"
           }
          ],
          "carpet": [
           {
            "aaxis": {
             "endlinecolor": "#2a3f5f",
             "gridcolor": "white",
             "linecolor": "white",
             "minorgridcolor": "white",
             "startlinecolor": "#2a3f5f"
            },
            "baxis": {
             "endlinecolor": "#2a3f5f",
             "gridcolor": "white",
             "linecolor": "white",
             "minorgridcolor": "white",
             "startlinecolor": "#2a3f5f"
            },
            "type": "carpet"
           }
          ],
          "choropleth": [
           {
            "colorbar": {
             "outlinewidth": 0,
             "ticks": ""
            },
            "type": "choropleth"
           }
          ],
          "contour": [
           {
            "colorbar": {
             "outlinewidth": 0,
             "ticks": ""
            },
            "colorscale": [
             [
              0,
              "#0d0887"
             ],
             [
              0.1111111111111111,
              "#46039f"
             ],
             [
              0.2222222222222222,
              "#7201a8"
             ],
             [
              0.3333333333333333,
              "#9c179e"
             ],
             [
              0.4444444444444444,
              "#bd3786"
             ],
             [
              0.5555555555555556,
              "#d8576b"
             ],
             [
              0.6666666666666666,
              "#ed7953"
             ],
             [
              0.7777777777777778,
              "#fb9f3a"
             ],
             [
              0.8888888888888888,
              "#fdca26"
             ],
             [
              1,
              "#f0f921"
             ]
            ],
            "type": "contour"
           }
          ],
          "contourcarpet": [
           {
            "colorbar": {
             "outlinewidth": 0,
             "ticks": ""
            },
            "type": "contourcarpet"
           }
          ],
          "heatmap": [
           {
            "colorbar": {
             "outlinewidth": 0,
             "ticks": ""
            },
            "colorscale": [
             [
              0,
              "#0d0887"
             ],
             [
              0.1111111111111111,
              "#46039f"
             ],
             [
              0.2222222222222222,
              "#7201a8"
             ],
             [
              0.3333333333333333,
              "#9c179e"
             ],
             [
              0.4444444444444444,
              "#bd3786"
             ],
             [
              0.5555555555555556,
              "#d8576b"
             ],
             [
              0.6666666666666666,
              "#ed7953"
             ],
             [
              0.7777777777777778,
              "#fb9f3a"
             ],
             [
              0.8888888888888888,
              "#fdca26"
             ],
             [
              1,
              "#f0f921"
             ]
            ],
            "type": "heatmap"
           }
          ],
          "heatmapgl": [
           {
            "colorbar": {
             "outlinewidth": 0,
             "ticks": ""
            },
            "colorscale": [
             [
              0,
              "#0d0887"
             ],
             [
              0.1111111111111111,
              "#46039f"
             ],
             [
              0.2222222222222222,
              "#7201a8"
             ],
             [
              0.3333333333333333,
              "#9c179e"
             ],
             [
              0.4444444444444444,
              "#bd3786"
             ],
             [
              0.5555555555555556,
              "#d8576b"
             ],
             [
              0.6666666666666666,
              "#ed7953"
             ],
             [
              0.7777777777777778,
              "#fb9f3a"
             ],
             [
              0.8888888888888888,
              "#fdca26"
             ],
             [
              1,
              "#f0f921"
             ]
            ],
            "type": "heatmapgl"
           }
          ],
          "histogram": [
           {
            "marker": {
             "pattern": {
              "fillmode": "overlay",
              "size": 10,
              "solidity": 0.2
             }
            },
            "type": "histogram"
           }
          ],
          "histogram2d": [
           {
            "colorbar": {
             "outlinewidth": 0,
             "ticks": ""
            },
            "colorscale": [
             [
              0,
              "#0d0887"
             ],
             [
              0.1111111111111111,
              "#46039f"
             ],
             [
              0.2222222222222222,
              "#7201a8"
             ],
             [
              0.3333333333333333,
              "#9c179e"
             ],
             [
              0.4444444444444444,
              "#bd3786"
             ],
             [
              0.5555555555555556,
              "#d8576b"
             ],
             [
              0.6666666666666666,
              "#ed7953"
             ],
             [
              0.7777777777777778,
              "#fb9f3a"
             ],
             [
              0.8888888888888888,
              "#fdca26"
             ],
             [
              1,
              "#f0f921"
             ]
            ],
            "type": "histogram2d"
           }
          ],
          "histogram2dcontour": [
           {
            "colorbar": {
             "outlinewidth": 0,
             "ticks": ""
            },
            "colorscale": [
             [
              0,
              "#0d0887"
             ],
             [
              0.1111111111111111,
              "#46039f"
             ],
             [
              0.2222222222222222,
              "#7201a8"
             ],
             [
              0.3333333333333333,
              "#9c179e"
             ],
             [
              0.4444444444444444,
              "#bd3786"
             ],
             [
              0.5555555555555556,
              "#d8576b"
             ],
             [
              0.6666666666666666,
              "#ed7953"
             ],
             [
              0.7777777777777778,
              "#fb9f3a"
             ],
             [
              0.8888888888888888,
              "#fdca26"
             ],
             [
              1,
              "#f0f921"
             ]
            ],
            "type": "histogram2dcontour"
           }
          ],
          "mesh3d": [
           {
            "colorbar": {
             "outlinewidth": 0,
             "ticks": ""
            },
            "type": "mesh3d"
           }
          ],
          "parcoords": [
           {
            "line": {
             "colorbar": {
              "outlinewidth": 0,
              "ticks": ""
             }
            },
            "type": "parcoords"
           }
          ],
          "pie": [
           {
            "automargin": true,
            "type": "pie"
           }
          ],
          "scatter": [
           {
            "fillpattern": {
             "fillmode": "overlay",
             "size": 10,
             "solidity": 0.2
            },
            "type": "scatter"
           }
          ],
          "scatter3d": [
           {
            "line": {
             "colorbar": {
              "outlinewidth": 0,
              "ticks": ""
             }
            },
            "marker": {
             "colorbar": {
              "outlinewidth": 0,
              "ticks": ""
             }
            },
            "type": "scatter3d"
           }
          ],
          "scattercarpet": [
           {
            "marker": {
             "colorbar": {
              "outlinewidth": 0,
              "ticks": ""
             }
            },
            "type": "scattercarpet"
           }
          ],
          "scattergeo": [
           {
            "marker": {
             "colorbar": {
              "outlinewidth": 0,
              "ticks": ""
             }
            },
            "type": "scattergeo"
           }
          ],
          "scattergl": [
           {
            "marker": {
             "colorbar": {
              "outlinewidth": 0,
              "ticks": ""
             }
            },
            "type": "scattergl"
           }
          ],
          "scattermapbox": [
           {
            "marker": {
             "colorbar": {
              "outlinewidth": 0,
              "ticks": ""
             }
            },
            "type": "scattermapbox"
           }
          ],
          "scatterpolar": [
           {
            "marker": {
             "colorbar": {
              "outlinewidth": 0,
              "ticks": ""
             }
            },
            "type": "scatterpolar"
           }
          ],
          "scatterpolargl": [
           {
            "marker": {
             "colorbar": {
              "outlinewidth": 0,
              "ticks": ""
             }
            },
            "type": "scatterpolargl"
           }
          ],
          "scatterternary": [
           {
            "marker": {
             "colorbar": {
              "outlinewidth": 0,
              "ticks": ""
             }
            },
            "type": "scatterternary"
           }
          ],
          "surface": [
           {
            "colorbar": {
             "outlinewidth": 0,
             "ticks": ""
            },
            "colorscale": [
             [
              0,
              "#0d0887"
             ],
             [
              0.1111111111111111,
              "#46039f"
             ],
             [
              0.2222222222222222,
              "#7201a8"
             ],
             [
              0.3333333333333333,
              "#9c179e"
             ],
             [
              0.4444444444444444,
              "#bd3786"
             ],
             [
              0.5555555555555556,
              "#d8576b"
             ],
             [
              0.6666666666666666,
              "#ed7953"
             ],
             [
              0.7777777777777778,
              "#fb9f3a"
             ],
             [
              0.8888888888888888,
              "#fdca26"
             ],
             [
              1,
              "#f0f921"
             ]
            ],
            "type": "surface"
           }
          ],
          "table": [
           {
            "cells": {
             "fill": {
              "color": "#EBF0F8"
             },
             "line": {
              "color": "white"
             }
            },
            "header": {
             "fill": {
              "color": "#C8D4E3"
             },
             "line": {
              "color": "white"
             }
            },
            "type": "table"
           }
          ]
         },
         "layout": {
          "annotationdefaults": {
           "arrowcolor": "#2a3f5f",
           "arrowhead": 0,
           "arrowwidth": 1
          },
          "autotypenumbers": "strict",
          "coloraxis": {
           "colorbar": {
            "outlinewidth": 0,
            "ticks": ""
           }
          },
          "colorscale": {
           "diverging": [
            [
             0,
             "#8e0152"
            ],
            [
             0.1,
             "#c51b7d"
            ],
            [
             0.2,
             "#de77ae"
            ],
            [
             0.3,
             "#f1b6da"
            ],
            [
             0.4,
             "#fde0ef"
            ],
            [
             0.5,
             "#f7f7f7"
            ],
            [
             0.6,
             "#e6f5d0"
            ],
            [
             0.7,
             "#b8e186"
            ],
            [
             0.8,
             "#7fbc41"
            ],
            [
             0.9,
             "#4d9221"
            ],
            [
             1,
             "#276419"
            ]
           ],
           "sequential": [
            [
             0,
             "#0d0887"
            ],
            [
             0.1111111111111111,
             "#46039f"
            ],
            [
             0.2222222222222222,
             "#7201a8"
            ],
            [
             0.3333333333333333,
             "#9c179e"
            ],
            [
             0.4444444444444444,
             "#bd3786"
            ],
            [
             0.5555555555555556,
             "#d8576b"
            ],
            [
             0.6666666666666666,
             "#ed7953"
            ],
            [
             0.7777777777777778,
             "#fb9f3a"
            ],
            [
             0.8888888888888888,
             "#fdca26"
            ],
            [
             1,
             "#f0f921"
            ]
           ],
           "sequentialminus": [
            [
             0,
             "#0d0887"
            ],
            [
             0.1111111111111111,
             "#46039f"
            ],
            [
             0.2222222222222222,
             "#7201a8"
            ],
            [
             0.3333333333333333,
             "#9c179e"
            ],
            [
             0.4444444444444444,
             "#bd3786"
            ],
            [
             0.5555555555555556,
             "#d8576b"
            ],
            [
             0.6666666666666666,
             "#ed7953"
            ],
            [
             0.7777777777777778,
             "#fb9f3a"
            ],
            [
             0.8888888888888888,
             "#fdca26"
            ],
            [
             1,
             "#f0f921"
            ]
           ]
          },
          "colorway": [
           "#636efa",
           "#EF553B",
           "#00cc96",
           "#ab63fa",
           "#FFA15A",
           "#19d3f3",
           "#FF6692",
           "#B6E880",
           "#FF97FF",
           "#FECB52"
          ],
          "font": {
           "color": "#2a3f5f"
          },
          "geo": {
           "bgcolor": "white",
           "lakecolor": "white",
           "landcolor": "#E5ECF6",
           "showlakes": true,
           "showland": true,
           "subunitcolor": "white"
          },
          "hoverlabel": {
           "align": "left"
          },
          "hovermode": "closest",
          "mapbox": {
           "style": "light"
          },
          "paper_bgcolor": "white",
          "plot_bgcolor": "#E5ECF6",
          "polar": {
           "angularaxis": {
            "gridcolor": "white",
            "linecolor": "white",
            "ticks": ""
           },
           "bgcolor": "#E5ECF6",
           "radialaxis": {
            "gridcolor": "white",
            "linecolor": "white",
            "ticks": ""
           }
          },
          "scene": {
           "xaxis": {
            "backgroundcolor": "#E5ECF6",
            "gridcolor": "white",
            "gridwidth": 2,
            "linecolor": "white",
            "showbackground": true,
            "ticks": "",
            "zerolinecolor": "white"
           },
           "yaxis": {
            "backgroundcolor": "#E5ECF6",
            "gridcolor": "white",
            "gridwidth": 2,
            "linecolor": "white",
            "showbackground": true,
            "ticks": "",
            "zerolinecolor": "white"
           },
           "zaxis": {
            "backgroundcolor": "#E5ECF6",
            "gridcolor": "white",
            "gridwidth": 2,
            "linecolor": "white",
            "showbackground": true,
            "ticks": "",
            "zerolinecolor": "white"
           }
          },
          "shapedefaults": {
           "line": {
            "color": "#2a3f5f"
           }
          },
          "ternary": {
           "aaxis": {
            "gridcolor": "white",
            "linecolor": "white",
            "ticks": ""
           },
           "baxis": {
            "gridcolor": "white",
            "linecolor": "white",
            "ticks": ""
           },
           "bgcolor": "#E5ECF6",
           "caxis": {
            "gridcolor": "white",
            "linecolor": "white",
            "ticks": ""
           }
          },
          "title": {
           "x": 0.05
          },
          "xaxis": {
           "automargin": true,
           "gridcolor": "white",
           "linecolor": "white",
           "ticks": "",
           "title": {
            "standoff": 15
           },
           "zerolinecolor": "white",
           "zerolinewidth": 2
          },
          "yaxis": {
           "automargin": true,
           "gridcolor": "white",
           "linecolor": "white",
           "ticks": "",
           "title": {
            "standoff": 15
           },
           "zerolinecolor": "white",
           "zerolinewidth": 2
          }
         }
        },
        "uniformtext": {
         "minsize": 8,
         "mode": "show"
        },
        "width": 450,
        "xaxis": {
         "anchor": "y",
         "domain": [
          0,
          1
         ],
         "gridcolor": "lightgrey",
         "showgrid": false,
         "title": {
          "text": "pre_training_strategy"
         }
        },
        "yaxis": {
         "anchor": "x",
         "domain": [
          0,
          1
         ],
         "gridcolor": "lightgrey",
         "showgrid": true,
         "title": {
          "text": "Odds Ratio"
         }
        }
       }
      }
     },
     "metadata": {},
     "output_type": "display_data"
    }
   ],
   "source": [
    "import plotly.express as px\n",
    "import pandas as pd\n",
    "import numpy as np\n",
    "\n",
    "# Add sample size column\n",
    "results_df[\"sample_size\"] = results_df[\"trades_wins\"] + results_df[\"classic_wins\"]\n",
    "\n",
    "# cap infinite values at 10 % above the largest finite OR\n",
    "finite_mask = np.isfinite(results_df[\"odds_ratio\"])\n",
    "finite_max  = results_df.loc[finite_mask, \"odds_ratio\"].max()\n",
    "cap_value   = finite_max * 1.10\n",
    "\n",
    "results_df[\"odds_ratio\"] = results_df[\"odds_ratio\"].replace([np.inf, -np.inf],\n",
    "                                                             cap_value)\n",
    "\n",
    "# 3)  pretty text – use “∞” for the truly infinite ones\n",
    "def fmt_or(x):\n",
    "    if np.isinf(x):\n",
    "        return \"∞\"\n",
    "    return f\"{x:.2f}\" if x % 1 else f\"{int(x)}\"\n",
    "\n",
    "results_df[\"text_label\"] = (\n",
    "    results_df.apply(\n",
    "        lambda r: (\n",
    "            f\"{fmt_or(r['odds_ratio'])}\"\n",
    "            f\"<br>(p={r['p_value']:.3f})\"\n",
    "            f\"<br>n={r['sample_size']}\"\n",
    "        ),\n",
    "        axis=1,\n",
    "    )\n",
    ")\n",
    "\n",
    "\n",
    "\n",
    "\n",
    "# Plotly bar chart\n",
    "fig = px.bar(\n",
    "    results_df,\n",
    "    x=\"cond\",\n",
    "    y=\"odds_ratio\",\n",
    "    color=\"fts\",\n",
    "    barmode=\"group\",\n",
    "    text=\"text_label\",\n",
    "    labels={\"cond\": \"{}\".format(group), \"odds_ratio\": \"Odds Ratio\"},\n",
    ")\n",
    "\n",
    "# Update traces for text styling\n",
    "fig.update_traces(\n",
    "    textposition=\"outside\",\n",
    "    textangle=-90,\n",
    "    textfont=dict(size=10),\n",
    "    cliponaxis=False\n",
    ")\n",
    "\n",
    "\n",
    "fig.update_layout(\n",
    "            margin=dict(l=0, r=0, t=0, b=0),  # remove all outer margins\n",
    "            width=450,    # in pixels (~2.5 inches at 96 DPI)\n",
    "            height=400,    # in pixels (~1.875 inches)\n",
    "            yaxis_title=\"Odds Ratio\",\n",
    "            xaxis_title=\"{}\".format(group),            \n",
    "            # White background\n",
    "            plot_bgcolor=\"white\",\n",
    "            paper_bgcolor=\"white\",\n",
    "            \n",
    "            # Light grey grid\n",
    "            xaxis=dict(showgrid=False, gridcolor=\"lightgrey\"),\n",
    "            yaxis=dict(showgrid=True, gridcolor=\"lightgrey\"),\n",
    "            uniformtext_minsize=8,\n",
    "            uniformtext_mode='show',\n",
    "            \n",
    "            # Legend inside figure\n",
    "            legend=dict(\n",
    "                font=dict(size=12),\n",
    "                yanchor=\"top\",\n",
    "                xanchor=\"left\",   # anchor point for x position\n",
    "                x=0.05,           # move legend to the left side\n",
    "                y=1.15,           # optional: near the top\n",
    "                bgcolor=\"rgba(255,255,255,1)\",\n",
    "                bordercolor=\"lightgrey\",\n",
    "                borderwidth=1\n",
    "            )\n",
    "        )\n",
    "\n",
    "fig.show()\n",
    "fig.write_image(\"./paper_figures/oddsratio_TRADES_outperforms_{}.png\".format(group), scale=3  )\n"
   ]
  },
  {
   "cell_type": "code",
   "execution_count": 3,
   "metadata": {},
   "outputs": [
    {
     "ename": "NameError",
     "evalue": "name 'results_df' is not defined",
     "output_type": "error",
     "traceback": [
      "\u001b[0;31m---------------------------------------------------------------------------\u001b[0m",
      "\u001b[0;31mNameError\u001b[0m                                 Traceback (most recent call last)",
      "Input \u001b[0;32mIn [3]\u001b[0m, in \u001b[0;36m<cell line: 5>\u001b[0;34m()\u001b[0m\n\u001b[1;32m      2\u001b[0m \u001b[38;5;28;01mimport\u001b[39;00m \u001b[38;5;21;01mpandas\u001b[39;00m \u001b[38;5;28;01mas\u001b[39;00m \u001b[38;5;21;01mpd\u001b[39;00m\n\u001b[1;32m      4\u001b[0m \u001b[38;5;66;03m# Add sample size column\u001b[39;00m\n\u001b[0;32m----> 5\u001b[0m results_df[\u001b[38;5;124m\"\u001b[39m\u001b[38;5;124msample_size\u001b[39m\u001b[38;5;124m\"\u001b[39m] \u001b[38;5;241m=\u001b[39m \u001b[43mresults_df\u001b[49m[\u001b[38;5;124m\"\u001b[39m\u001b[38;5;124mtrades_wins\u001b[39m\u001b[38;5;124m\"\u001b[39m] \u001b[38;5;241m+\u001b[39m results_df[\u001b[38;5;124m\"\u001b[39m\u001b[38;5;124mclassic_wins\u001b[39m\u001b[38;5;124m\"\u001b[39m]\n\u001b[1;32m      7\u001b[0m \u001b[38;5;66;03m# Format text label with odds ratio, p-value, and sample size\u001b[39;00m\n\u001b[1;32m      8\u001b[0m results_df[\u001b[38;5;124m\"\u001b[39m\u001b[38;5;124mtext_label\u001b[39m\u001b[38;5;124m\"\u001b[39m] \u001b[38;5;241m=\u001b[39m results_df\u001b[38;5;241m.\u001b[39mapply(\n\u001b[1;32m      9\u001b[0m     \u001b[38;5;28;01mlambda\u001b[39;00m row: (\n\u001b[1;32m     10\u001b[0m         \u001b[38;5;124mf\u001b[39m\u001b[38;5;124m'\u001b[39m\u001b[38;5;132;01m{\u001b[39;00m\u001b[38;5;28mint\u001b[39m(row[\u001b[38;5;124m\"\u001b[39m\u001b[38;5;124modds_ratio\u001b[39m\u001b[38;5;124m\"\u001b[39m])\u001b[38;5;132;01m}\u001b[39;00m\u001b[38;5;124m'\u001b[39m \u001b[38;5;28;01mif\u001b[39;00m row[\u001b[38;5;124m\"\u001b[39m\u001b[38;5;124modds_ratio\u001b[39m\u001b[38;5;124m\"\u001b[39m] \u001b[38;5;241m==\u001b[39m \u001b[38;5;28mint\u001b[39m(row[\u001b[38;5;124m\"\u001b[39m\u001b[38;5;124modds_ratio\u001b[39m\u001b[38;5;124m\"\u001b[39m]) \n\u001b[0;32m   (...)\u001b[0m\n\u001b[1;32m     13\u001b[0m     axis\u001b[38;5;241m=\u001b[39m\u001b[38;5;241m1\u001b[39m\n\u001b[1;32m     14\u001b[0m )\n",
      "\u001b[0;31mNameError\u001b[0m: name 'results_df' is not defined"
     ]
    }
   ],
   "source": [
    "import plotly.express as px\n",
    "import pandas as pd\n",
    "\n",
    "# Add sample size column\n",
    "results_df[\"sample_size\"] = results_df[\"trades_wins\"] + results_df[\"classic_wins\"]\n",
    "\n",
    "# Format text label with odds ratio, p-value, and sample size\n",
    "results_df[\"text_label\"] = results_df.apply(\n",
    "    lambda row: (\n",
    "        f'{int(row[\"odds_ratio\"])}' if row[\"odds_ratio\"] == int(row[\"odds_ratio\"]) \n",
    "        else f'{row[\"odds_ratio\"]:.2f}'\n",
    "    ) + f'<br>(p={row[\"p_value\"]:.3f})<br>n={row[\"sample_size\"]}',\n",
    "    axis=1\n",
    ")\n",
    "\n",
    "# List of conditions to split by\n",
    "conditions = [\"model_type\", \"pre_training_strategy\"]\n",
    "\n",
    "for cond in conditions:\n",
    "    # Group by condition + size + protocol\n",
    "    grouped = results_df.groupby([cond, \"size\", \"protocol\"]).agg(\n",
    "        trades_wins_sum=(\"trades_wins\", \"sum\"),\n",
    "        classic_wins_sum=(\"classic_wins\", \"sum\")\n",
    "    ).reset_index()\n",
    "    \n",
    "    # Compute odds ratio\n",
    "    grouped[\"odds_ratio\"] = (grouped[\"trades_wins_sum\"] + 0.5) / (grouped[\"classic_wins_sum\"] + 0.5)\n",
    "    grouped[\"sample_size\"] = grouped[\"trades_wins_sum\"] + grouped[\"classic_wins_sum\"]\n",
    "    \n",
    "    # You can add p-values here if needed; for now we'll omit for simplicity\n",
    "    grouped[\"text_label\"] = grouped.apply(\n",
    "        lambda row: (\n",
    "            f'{int(row[\"odds_ratio\"])}' if row[\"odds_ratio\"] == int(row[\"odds_ratio\"]) \n",
    "            else f'{row[\"odds_ratio\"]:.2f}'\n",
    "        ) + f'<br>n={row[\"sample_size\"]}',\n",
    "        axis=1\n",
    "    )\n",
    "    \n",
    "    unique_values = grouped[cond].unique()\n",
    "    \n",
    "    for val in unique_values:\n",
    "        sub_df = grouped[grouped[cond] == val]\n",
    "        \n",
    "        fig = px.bar(\n",
    "            sub_df,\n",
    "            x=\"size\",\n",
    "            y=\"odds_ratio\",\n",
    "            color=\"protocol\",\n",
    "            barmode=\"group\",\n",
    "            text=\"text_label\",\n",
    "            labels={\"size\": \"Model Size\", \"odds_ratio\": \"Odds Ratio\"},\n",
    "            title=f\"TRADES vs Classic - Conditioned on {cond}: {val}\"\n",
    "        )\n",
    "\n",
    "        fig.update_traces(\n",
    "            textposition=\"outside\",\n",
    "            textangle=-90,\n",
    "            textfont=dict(size=10),\n",
    "            cliponaxis=False\n",
    "        )\n",
    "\n",
    "        fig.update_layout(\n",
    "            margin=dict(l=0, r=0, t=30, b=0),\n",
    "            width=450,\n",
    "            height=400,\n",
    "            yaxis_title=\"Odds Ratio\",\n",
    "            xaxis_title=\"Model Size\",\n",
    "            plot_bgcolor=\"white\",\n",
    "            paper_bgcolor=\"white\",\n",
    "            xaxis=dict(showgrid=False, gridcolor=\"lightgrey\"),\n",
    "            yaxis=dict(showgrid=True, gridcolor=\"lightgrey\"),\n",
    "            uniformtext_minsize=8,\n",
    "            uniformtext_mode='show',\n",
    "            legend=dict(\n",
    "                font=dict(size=12),\n",
    "                yanchor=\"top\",\n",
    "                xanchor=\"left\",\n",
    "                x=0.05,\n",
    "                y=1.15,\n",
    "                bgcolor=\"rgba(255,255,255,1)\",\n",
    "                bordercolor=\"lightgrey\",\n",
    "                borderwidth=1\n",
    "            )\n",
    "        )\n",
    "\n",
    "        fig.show()\n",
    "        fig.write_image(f\"./paper_figures/oddsratio_TRADES_vs_classic_{cond}_{val}.png\", scale=3)\n"
   ]
  },
  {
   "cell_type": "code",
   "execution_count": 5,
   "metadata": {},
   "outputs": [
    {
     "name": "stdout",
     "output_type": "stream",
     "text": [
      "Percentage of NaN values: 0.99%\n",
      "\\begin{table}[ht]\n",
      "\\centering\n",
      "\\caption{Top 3 fine-tuning configurations FFT (50 epochs)}\n",
      "\\label{tab:FFT_50_epochs}\n",
      "\\resizebox{\\textwidth}{!}{%\n",
      "\\begin{tabular}{|c|c|c|c|c|c|}\n",
      "\\toprule\n",
      "\\textbf{Size} &                            \\textbf{Gold (1st)} &                        \\textbf{Silver (2nd)} &                       \\textbf{Bronze (3rd)} &  \\textbf{$\\Delta \\%$ (1st$\\rightarrow$2nd)} &  \\textbf{$\\Delta \\%$ (2nd$\\rightarrow$3rd)} \\\\\n",
      "\\midrule\n",
      "        small &      edgenetx\\_s,sup,in1k,TRADES\\_v2 (GR:15.0) &        deit\\_t,sup,in1k,TRADES\\_v2 (GR:34.0) & regnetx\\_004,sup,in1k,CLASSIC\\_AT (GR:37.0) &                                      -23.17 &                                       -3.73 \\\\\n",
      "       medium & convnext\\_t,sup,in22k-in1k,TRADES\\_v2 (GR:8.0) &    convnext\\_t,sup,in1k,TRADES\\_v2 (GR:11.0) &  convnext\\_t,sup,in22k,TRADES\\_v2 (GR:13.0) &                                       -5.37 &                                       -3.45 \\\\\n",
      "        large &      convnext\\_b,sup,in22k,TRADES\\_v2 (GR:1.0) & convnext\\_b,clip,laion2b,TRADES\\_v2 (GR:2.0) & convnext\\_b,clip,laiona,TRADES\\_v2 (GR:3.0) &                                       -1.98 &                                       -5.99 \\\\\n",
      "\\bottomrule\n",
      "\\end{tabular}\n",
      "}\n",
      "\\end{table}\n",
      "Percentage of NaN values: 0.31%\n",
      "\\begin{table}[ht]\n",
      "\\centering\n",
      "\\caption{Top 3 fine-tuning configurations FFT (5 epochs)}\n",
      "\\label{tab:FFT_5_epochs}\n",
      "\\resizebox{\\textwidth}{!}{%\n",
      "\\begin{tabular}{|c|c|c|c|c|c|}\n",
      "\\toprule\n",
      "\\textbf{Size} &                           \\textbf{Gold (1st)} &                      \\textbf{Silver (2nd)} &                        \\textbf{Bronze (3rd)} &  \\textbf{$\\Delta \\%$ (1st$\\rightarrow$2nd)} &  \\textbf{$\\Delta \\%$ (2nd$\\rightarrow$3rd)} \\\\\n",
      "\\midrule\n",
      "        small &    mobilenet\\_v3,sup,in1k,TRADES\\_v2 (GR:8.0) &  edgenetx\\_s,sup,in1k,TRADES\\_v2 (GR:21.0) &        coat\\_t,sup,in1k,TRADES\\_v2 (GR:26.0) &                                      -32.43 &                                      -20.01 \\\\\n",
      "       medium & convnext\\_t,rob-sup,in1k,CLASSIC\\_AT (GR:1.0) & resnet50,rob-sup,in1k,CLASSIC\\_AT (GR:3.0) & convnext\\_t,rob-sup,in1k,TRADES\\_v2 (GR:5.0) &                                      -14.61 &                                       -8.01 \\\\\n",
      "        large &   swin\\_b,sup,ink22k-in1k,TRADES\\_v2 (GR:2.0) &   convnext\\_b,sup,in1k,TRADES\\_v2 (GR:4.0) &    convnext\\_b,sup,in22k,TRADES\\_v2 (GR:6.0) &                                      -11.63 &                                      -10.10 \\\\\n",
      "\\bottomrule\n",
      "\\end{tabular}\n",
      "}\n",
      "\\end{table}\n",
      "Percentage of NaN values: 0.05%\n",
      "\\begin{table}[ht]\n",
      "\\centering\n",
      "\\caption{Top 3 fine-tuning configurations LP (50 epochs)}\n",
      "\\label{tab:LP_50_epochs}\n",
      "\\resizebox{\\textwidth}{!}{%\n",
      "\\begin{tabular}{|c|c|c|c|c|c|}\n",
      "\\toprule\n",
      "\\textbf{Size} &                       \\textbf{Gold (1st)} &                        \\textbf{Silver (2nd)} &                          \\textbf{Bronze (3rd)} &  \\textbf{$\\Delta \\%$ (1st$\\rightarrow$2nd)} &  \\textbf{$\\Delta \\%$ (2nd$\\rightarrow$3rd)} \\\\\n",
      "\\midrule\n",
      "        small & edgenetx\\_s,sup,in1k,TRADES\\_v2 (GR:30.0) & mobilenet\\_v3,sup,in1k,CLASSIC\\_AT (GR:36.0) &          deit\\_t,sup,in1k,TRADES\\_v2 (GR:39.0) &                                      -17.06 &                                       -7.60 \\\\\n",
      "       medium & deit\\_s,rob-sup,in1k,CLASSIC\\_AT (GR:1.0) & convnext\\_t,rob-sup,in1k,TRADES\\_v2 (GR:5.0) &      deit\\_s,rob-sup,in1k,TRADES\\_v2 (GR:10.0) &                                      -17.14 &                                       -7.93 \\\\\n",
      "        large &   eva02\\_b,mim,ink22k,TRADES\\_v2 (GR:2.0) &  swin\\_b,sup,ink22k-in1k,TRADES\\_v2 (GR:3.0) & convnext\\_b,sup,in22k-in1k,TRADES\\_v2 (GR:4.0) &                                       -1.35 &                                       -1.00 \\\\\n",
      "\\bottomrule\n",
      "\\end{tabular}\n",
      "}\n",
      "\\end{table}\n"
     ]
    },
    {
     "name": "stderr",
     "output_type": "stream",
     "text": [
      "/var/folders/v7/3s0lms795672_f7_mh2x6bcr0000gn/T/ipykernel_41812/1069317708.py:58: FutureWarning: In future versions `DataFrame.to_latex` is expected to utilise the base implementation of `Styler.to_latex` for formatting and rendering. The arguments signature may therefore change. It is recommended instead to use `DataFrame.style.to_latex` which also contains additional functionality.\n",
      "  latex_code = palmares.to_latex(\n",
      "/var/folders/v7/3s0lms795672_f7_mh2x6bcr0000gn/T/ipykernel_41812/1069317708.py:58: FutureWarning: In future versions `DataFrame.to_latex` is expected to utilise the base implementation of `Styler.to_latex` for formatting and rendering. The arguments signature may therefore change. It is recommended instead to use `DataFrame.style.to_latex` which also contains additional functionality.\n",
      "  latex_code = palmares.to_latex(\n",
      "/var/folders/v7/3s0lms795672_f7_mh2x6bcr0000gn/T/ipykernel_41812/1069317708.py:58: FutureWarning: In future versions `DataFrame.to_latex` is expected to utilise the base implementation of `Styler.to_latex` for formatting and rendering. The arguments signature may therefore change. It is recommended instead to use `DataFrame.style.to_latex` which also contains additional functionality.\n",
      "  latex_code = palmares.to_latex(\n"
     ]
    }
   ],
   "source": [
    "from process_database import process_grouped_df, process_rankings, compute_odds_ratio_by_group\n",
    "import pandas as pd\n",
    "from io import StringIO\n",
    "\n",
    "final_data = pd.concat([ df1,df2,df3 ], axis=0, ignore_index=True) \n",
    "\n",
    "for setting in ('FFT (50 epochs)', 'FFT (5 epochs)', 'LP (50 epochs)' ): \n",
    "\n",
    "    result = []\n",
    "\n",
    "    d = final_data[ final_data.ft_strategy == setting ]\n",
    "    grouped_df = process_grouped_df(d)\n",
    "    grouped_df = process_rankings(grouped_df)\n",
    "\n",
    "    for size_id,size in [ (0,'small'), (1,'medium'), (2,'large') ]:\n",
    "\n",
    "        copy = grouped_df.xs(size, level=\"model_size\") #grouped_df[ grouped_df.model_size == size  ]\n",
    "        \n",
    "        remaining_columns = [ 'rank_borda',\t'rank_geom', 'rank_sum', 'score_geom', 'score_sum', 'borda' ]\n",
    "        filtered_df = copy.loc[:, ('TOTAL', remaining_columns)]\n",
    "        filtered_df = filtered_df.reset_index()\n",
    "        \n",
    "        filtered_df.columns = ['_'.join(col) if isinstance(col, tuple) else col for col in filtered_df.columns]\n",
    "        filtered_df.columns = [ 'backbone', \"backbone_name\", 'loss', 'pre_training_strategy', 'model_type','ft_strategy', 'total Borda rank', 'total geom rank', 'total sum rank',  'total geom value', 'total sum value', 'total Borda value',   ]\n",
    "\n",
    "        n_rows = filtered_df.shape[0]\n",
    "\n",
    "        # top_k = int(np.ceil(0.33 * n_rows))  # top 10% as tier1\n",
    "        # print(top_k)\n",
    "        filtered_df = filtered_df.head(3)\n",
    "\n",
    "        filtered_df = filtered_df.round(4)\n",
    "\n",
    "        df_sorted = filtered_df.sort_values(by='total sum value', ascending=False).reset_index(drop=True)\n",
    "        # print(df_sorted)\n",
    "\n",
    "        result.append({\n",
    "            'Size': size,\n",
    "            'Gold (1st)': str(df_sorted['backbone_name'][0]) + ',' + df_sorted['loss'][0] + ' ' + '(GR:' + str(df_sorted['total sum rank'][0]) + ')',\n",
    "            'Silver (2nd)': df_sorted['backbone_name'][1] + ',' + df_sorted['loss'][1] + ' ' + '(GR:' + str(df_sorted['total sum rank'][1]) + ')',\n",
    "            'Bronze (3rd)': df_sorted['backbone_name'][2] + ',' + df_sorted['loss'][2] + ' ' + '(GR:' + str(df_sorted['total sum rank'][2]) + ')',\n",
    "            '$\\Delta \\%$ (1st$\\rightarrow$2nd)': 100 * (df_sorted['total sum value'][1] - df_sorted['total sum value'][0]) / df_sorted['total sum value'][0],\n",
    "            '$\\Delta \\%$ (2nd$\\rightarrow$3rd)': 100 * (df_sorted['total sum value'][2] - df_sorted['total sum value'][1]) / df_sorted['total sum value'][1],\n",
    "            \n",
    "        })\n",
    "\n",
    "   # Step 1: Build the DataFrame and round numeric values\n",
    "    palmares = pd.DataFrame(result)\n",
    "    palmares = palmares.round(2)\n",
    "\n",
    "    # Step 2: Escape underscores in data (NOT in headers yet)\n",
    "    for col in ['Gold (1st)', 'Silver (2nd)', 'Bronze (3rd)']:\n",
    "        palmares[col] = palmares[col].apply(lambda x: x.replace('_', r'\\_'))\n",
    "\n",
    "    palmares.columns = [f\"\\\\textbf{{{col}}}\" for col in palmares.columns]\n",
    "\n",
    "    # Step 4: Export to LaTeX\n",
    "    latex_code = palmares.to_latex(\n",
    "        index=False,\n",
    "        escape=False,\n",
    "        column_format='|' + '|'.join(['c'] * len(palmares.columns)) + '|'\n",
    "    )\n",
    "\n",
    "    # Step 5: Process LaTeX lines for emoji + \\hline + table wrapping\n",
    "    lines = latex_code.splitlines()\n",
    "    output_lines = []\n",
    "\n",
    "    output_lines.append(r'\\begin{table}[ht]')\n",
    "    output_lines.append(r'\\centering')\n",
    "    output_lines.append(r'\\caption{{Top 3 fine-tuning configurations {}}}'.format(setting) )\n",
    "\n",
    "    # Clean LaTeX label (no spaces, parentheses)\n",
    "    safe_label = setting.replace(\" \", \"_\").replace(\"(\", \"\").replace(\")\", \"\")\n",
    "    output_lines.append(r'\\label{tab:' + safe_label + '}')\n",
    "    output_lines.append(r'\\resizebox{\\textwidth}{!}{%')\n",
    "\n",
    "    for i, line in enumerate(lines):\n",
    "        if i == 0:\n",
    "            output_lines.append(line)  # \\begin{tabular}\n",
    "        elif i == 1:\n",
    "            # Header row: convert emojis\n",
    "            output_lines.append(line)# + r' \\\\'\n",
    "            # output_lines.append(r'\\hline')\n",
    "        elif line.strip() == r'\\end{tabular}':\n",
    "            # output_lines.append(r'\\hline')\n",
    "            output_lines.append(line)\n",
    "        else:\n",
    "            output_lines.append(line ) #+ r' \\\\'\n",
    "            # output_lines.append(r'\\hline')\n",
    "\n",
    "    output_lines.append(r'}')\n",
    "    output_lines.append(r'\\end{table}')\n",
    "\n",
    "    latex_code_full_grid = '\\n'.join(output_lines)\n",
    "    print(latex_code_full_grid)\n",
    "\n",
    "    # Save to file\n",
    "    file_path = f\"./latex_tables/{safe_label}.tex\"\n",
    "    with open(file_path, \"w\") as f:\n",
    "        f.write(latex_code_full_grid)\n"
   ]
  }
 ],
 "metadata": {
  "kernelspec": {
   "display_name": "base",
   "language": "python",
   "name": "python3"
  },
  "language_info": {
   "codemirror_mode": {
    "name": "ipython",
    "version": 3
   },
   "file_extension": ".py",
   "mimetype": "text/x-python",
   "name": "python",
   "nbconvert_exporter": "python",
   "pygments_lexer": "ipython3",
   "version": "3.9.7"
  }
 },
 "nbformat": 4,
 "nbformat_minor": 2
}
