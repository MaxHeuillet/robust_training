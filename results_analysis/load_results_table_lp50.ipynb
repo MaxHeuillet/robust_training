{
 "cells": [
  {
   "cell_type": "code",
   "execution_count": 3,
   "metadata": {},
   "outputs": [
    {
     "name": "stdout",
     "output_type": "stream",
     "text": [
      "../results/linearprobe_50epochs_paper_final2/CLIP-convnext_base_w-laion_aesthetic-s13B-b82K_uc-merced-land-use-dataset_TRADES_v2.pkl\n",
      "../results/linearprobe_50epochs_paper_final2/CLIP-convnext_base_w-laion2B-s13B-b82K_uc-merced-land-use-dataset_TRADES_v2.pkl\n",
      "../results/linearprobe_50epochs_paper_final2/deit_small_patch16_224.fb_in1k_uc-merced-land-use-dataset_TRADES_v2.pkl\n",
      "../results/linearprobe_50epochs_paper_final2/robust_resnet50_uc-merced-land-use-dataset_TRADES_v2.pkl\n",
      "../results/linearprobe_50epochs_paper_final2/vit_small_patch16_224.augreg_in21k_uc-merced-land-use-dataset_TRADES_v2.pkl\n",
      "../results/linearprobe_50epochs_paper_final2/convnext_base.fb_in1k_uc-merced-land-use-dataset_TRADES_v2.pkl\n",
      "../results/linearprobe_50epochs_paper_final2/resnet50.a1_in1k_uc-merced-land-use-dataset_TRADES_v2.pkl\n",
      "../results/linearprobe_50epochs_paper_final2/robust_vit_base_patch16_224_uc-merced-land-use-dataset_TRADES_v2.pkl\n",
      "../results/linearprobe_50epochs_paper_final2/vit_base_patch16_224.mae_uc-merced-land-use-dataset_TRADES_v2.pkl\n",
      "../results/linearprobe_50epochs_paper_final2/vit_small_patch16_224.dino_uc-merced-land-use-dataset_TRADES_v2.pkl\n",
      "../results/linearprobe_50epochs_paper_final2/convnext_base.fb_in22k_uc-merced-land-use-dataset_TRADES_v2.pkl\n",
      "../results/linearprobe_50epochs_paper_final2/robust_convnext_base_uc-merced-land-use-dataset_TRADES_v2.pkl\n",
      "../results/linearprobe_50epochs_paper_final2/vit_base_patch16_224.augreg_in1k_uc-merced-land-use-dataset_TRADES_v2.pkl\n",
      "../results/linearprobe_50epochs_paper_final2/vit_base_patch16_224.augreg_in21k_uc-merced-land-use-dataset_TRADES_v2.pkl\n",
      "../results/linearprobe_50epochs_paper_final2/vit_base_patch16_clip_224.laion2b_uc-merced-land-use-dataset_TRADES_v2.pkl\n",
      "../results/linearprobe_50epochs_paper_final2/convnext_tiny.fb_in1k_uc-merced-land-use-dataset_TRADES_v2.pkl\n",
      "../results/linearprobe_50epochs_paper_final2/robust_convnext_tiny_uc-merced-land-use-dataset_TRADES_v2.pkl\n",
      "../results/linearprobe_50epochs_paper_final2/robust_deit_small_patch16_224_uc-merced-land-use-dataset_TRADES_v2.pkl\n",
      "../results/linearprobe_50epochs_paper_final2/vit_small_patch16_224.augreg_in1k_uc-merced-land-use-dataset_TRADES_v2.pkl\n",
      "../results/linearprobe_50epochs_paper_final2/convnext_tiny.fb_in22k_uc-merced-land-use-dataset_TRADES_v2.pkl\n",
      "../results/linearprobe_50epochs_paper_final2/vit_base_patch16_clip_224.laion2b_ft_in1k_uc-merced-land-use-dataset_TRADES_v2.pkl\n",
      "../results/linearprobe_50epochs_paper_final2/vit_base_patch16_224.augreg_in21k_ft_in1k_uc-merced-land-use-dataset_TRADES_v2.pkl\n",
      "../results/linearprobe_50epochs_paper_final2/vit_small_patch16_224.augreg_in21k_ft_in1k_uc-merced-land-use-dataset_TRADES_v2.pkl\n",
      "../results/linearprobe_50epochs_paper_final2/eva02_base_patch14_224.mim_in22k_uc-merced-land-use-dataset_TRADES_v2.pkl\n",
      "../results/linearprobe_50epochs_paper_final2/eva02_tiny_patch14_224.mim_in22k_uc-merced-land-use-dataset_TRADES_v2.pkl\n",
      "../results/linearprobe_50epochs_paper_final2/swin_base_patch4_window7_224.ms_in22k_ft_in1k_uc-merced-land-use-dataset_TRADES_v2.pkl\n",
      "../results/linearprobe_50epochs_paper_final2/swin_tiny_patch4_window7_224.ms_in1k_uc-merced-land-use-dataset_TRADES_v2.pkl\n",
      "../results/linearprobe_50epochs_paper_final2/convnext_base.clip_laion2b_augreg_ft_in12k_in1k_uc-merced-land-use-dataset_TRADES_v2.pkl\n",
      "../results/linearprobe_50epochs_paper_final2/convnext_base.fb_in22k_ft_in1k_uc-merced-land-use-dataset_TRADES_v2.pkl\n",
      "../results/linearprobe_50epochs_paper_final2/convnext_tiny.fb_in22k_ft_in1k_uc-merced-land-use-dataset_TRADES_v2.pkl\n",
      "../results/linearprobe_50epochs_paper_final2/coatnet_0_rw_224.sw_in1k_uc-merced-land-use-dataset_TRADES_v2.pkl\n",
      "../results/linearprobe_50epochs_paper_final2/coatnet_2_rw_224.sw_in12k_ft_in1k_uc-merced-land-use-dataset_TRADES_v2.pkl\n",
      "../results/linearprobe_50epochs_paper_final2/coatnet_2_rw_224.sw_in12k_uc-merced-land-use-dataset_TRADES_v2.pkl\n",
      "../results/linearprobe_50epochs_paper_final2/regnetx_004.pycls_in1k_uc-merced-land-use-dataset_TRADES_v2.pkl\n",
      "HEY\n",
      "../results/linearprobe_50epochs_edge_paper_final2/regnetx_004.pycls_in1k_uc-merced-land-use-dataset_TRADES_v2.pkl\n",
      "../results/linearprobe_50epochs_paper_final2/efficientnet-b0_uc-merced-land-use-dataset_TRADES_v2.pkl\n",
      "HEY\n",
      "../results/linearprobe_50epochs_edge_paper_final2/efficientnet-b0_uc-merced-land-use-dataset_TRADES_v2.pkl\n",
      "../results/linearprobe_50epochs_paper_final2/deit_tiny_patch16_224.fb_in1k_uc-merced-land-use-dataset_TRADES_v2.pkl\n",
      "HEY\n",
      "../results/linearprobe_50epochs_edge_paper_final2/deit_tiny_patch16_224.fb_in1k_uc-merced-land-use-dataset_TRADES_v2.pkl\n",
      "../results/linearprobe_50epochs_paper_final2/mobilevit-small_uc-merced-land-use-dataset_TRADES_v2.pkl\n",
      "HEY\n",
      "../results/linearprobe_50epochs_edge_paper_final2/mobilevit-small_uc-merced-land-use-dataset_TRADES_v2.pkl\n",
      "../results/linearprobe_50epochs_paper_final2/mobilenetv3_large_100.ra_in1k_uc-merced-land-use-dataset_TRADES_v2.pkl\n",
      "HEY\n",
      "../results/linearprobe_50epochs_edge_paper_final2/mobilenetv3_large_100.ra_in1k_uc-merced-land-use-dataset_TRADES_v2.pkl\n",
      "../results/linearprobe_50epochs_paper_final2/edgenext_small.usi_in1k_uc-merced-land-use-dataset_TRADES_v2.pkl\n",
      "HEY\n",
      "../results/linearprobe_50epochs_edge_paper_final2/edgenext_small.usi_in1k_uc-merced-land-use-dataset_TRADES_v2.pkl\n",
      "../results/linearprobe_50epochs_paper_final2/coat_tiny.in1k_uc-merced-land-use-dataset_TRADES_v2.pkl\n",
      "HEY\n",
      "../results/linearprobe_50epochs_edge_paper_final2/coat_tiny.in1k_uc-merced-land-use-dataset_TRADES_v2.pkl\n",
      "../results/linearprobe_50epochs_paper_final2/CLIP-convnext_base_w-laion_aesthetic-s13B-b82K_stanford_cars_TRADES_v2.pkl\n",
      "../results/linearprobe_50epochs_paper_final2/CLIP-convnext_base_w-laion2B-s13B-b82K_stanford_cars_TRADES_v2.pkl\n",
      "../results/linearprobe_50epochs_paper_final2/deit_small_patch16_224.fb_in1k_stanford_cars_TRADES_v2.pkl\n",
      "../results/linearprobe_50epochs_paper_final2/robust_resnet50_stanford_cars_TRADES_v2.pkl\n",
      "../results/linearprobe_50epochs_paper_final2/vit_small_patch16_224.augreg_in21k_stanford_cars_TRADES_v2.pkl\n",
      "../results/linearprobe_50epochs_paper_final2/convnext_base.fb_in1k_stanford_cars_TRADES_v2.pkl\n",
      "../results/linearprobe_50epochs_paper_final2/resnet50.a1_in1k_stanford_cars_TRADES_v2.pkl\n",
      "../results/linearprobe_50epochs_paper_final2/robust_vit_base_patch16_224_stanford_cars_TRADES_v2.pkl\n",
      "../results/linearprobe_50epochs_paper_final2/vit_base_patch16_224.mae_stanford_cars_TRADES_v2.pkl\n",
      "../results/linearprobe_50epochs_paper_final2/vit_small_patch16_224.dino_stanford_cars_TRADES_v2.pkl\n",
      "../results/linearprobe_50epochs_paper_final2/convnext_base.fb_in22k_stanford_cars_TRADES_v2.pkl\n",
      "../results/linearprobe_50epochs_paper_final2/robust_convnext_base_stanford_cars_TRADES_v2.pkl\n",
      "../results/linearprobe_50epochs_paper_final2/vit_base_patch16_224.augreg_in1k_stanford_cars_TRADES_v2.pkl\n",
      "../results/linearprobe_50epochs_paper_final2/vit_base_patch16_224.augreg_in21k_stanford_cars_TRADES_v2.pkl\n",
      "../results/linearprobe_50epochs_paper_final2/vit_base_patch16_clip_224.laion2b_stanford_cars_TRADES_v2.pkl\n",
      "../results/linearprobe_50epochs_paper_final2/convnext_tiny.fb_in1k_stanford_cars_TRADES_v2.pkl\n",
      "../results/linearprobe_50epochs_paper_final2/robust_convnext_tiny_stanford_cars_TRADES_v2.pkl\n",
      "../results/linearprobe_50epochs_paper_final2/robust_deit_small_patch16_224_stanford_cars_TRADES_v2.pkl\n",
      "../results/linearprobe_50epochs_paper_final2/vit_small_patch16_224.augreg_in1k_stanford_cars_TRADES_v2.pkl\n",
      "../results/linearprobe_50epochs_paper_final2/convnext_tiny.fb_in22k_stanford_cars_TRADES_v2.pkl\n",
      "../results/linearprobe_50epochs_paper_final2/vit_base_patch16_clip_224.laion2b_ft_in1k_stanford_cars_TRADES_v2.pkl\n",
      "../results/linearprobe_50epochs_paper_final2/vit_base_patch16_224.augreg_in21k_ft_in1k_stanford_cars_TRADES_v2.pkl\n",
      "../results/linearprobe_50epochs_paper_final2/vit_small_patch16_224.augreg_in21k_ft_in1k_stanford_cars_TRADES_v2.pkl\n",
      "../results/linearprobe_50epochs_paper_final2/eva02_base_patch14_224.mim_in22k_stanford_cars_TRADES_v2.pkl\n",
      "../results/linearprobe_50epochs_paper_final2/eva02_tiny_patch14_224.mim_in22k_stanford_cars_TRADES_v2.pkl\n",
      "../results/linearprobe_50epochs_paper_final2/swin_base_patch4_window7_224.ms_in22k_ft_in1k_stanford_cars_TRADES_v2.pkl\n",
      "../results/linearprobe_50epochs_paper_final2/swin_tiny_patch4_window7_224.ms_in1k_stanford_cars_TRADES_v2.pkl\n",
      "../results/linearprobe_50epochs_paper_final2/convnext_base.clip_laion2b_augreg_ft_in12k_in1k_stanford_cars_TRADES_v2.pkl\n",
      "../results/linearprobe_50epochs_paper_final2/convnext_base.fb_in22k_ft_in1k_stanford_cars_TRADES_v2.pkl\n",
      "../results/linearprobe_50epochs_paper_final2/convnext_tiny.fb_in22k_ft_in1k_stanford_cars_TRADES_v2.pkl\n",
      "../results/linearprobe_50epochs_paper_final2/coatnet_0_rw_224.sw_in1k_stanford_cars_TRADES_v2.pkl\n",
      "../results/linearprobe_50epochs_paper_final2/coatnet_2_rw_224.sw_in12k_ft_in1k_stanford_cars_TRADES_v2.pkl\n",
      "../results/linearprobe_50epochs_paper_final2/coatnet_2_rw_224.sw_in12k_stanford_cars_TRADES_v2.pkl\n",
      "../results/linearprobe_50epochs_paper_final2/regnetx_004.pycls_in1k_stanford_cars_TRADES_v2.pkl\n",
      "HEY\n",
      "../results/linearprobe_50epochs_edge_paper_final2/regnetx_004.pycls_in1k_stanford_cars_TRADES_v2.pkl\n",
      "../results/linearprobe_50epochs_paper_final2/efficientnet-b0_stanford_cars_TRADES_v2.pkl\n",
      "HEY\n",
      "../results/linearprobe_50epochs_edge_paper_final2/efficientnet-b0_stanford_cars_TRADES_v2.pkl\n",
      "../results/linearprobe_50epochs_paper_final2/deit_tiny_patch16_224.fb_in1k_stanford_cars_TRADES_v2.pkl\n",
      "HEY\n",
      "../results/linearprobe_50epochs_edge_paper_final2/deit_tiny_patch16_224.fb_in1k_stanford_cars_TRADES_v2.pkl\n",
      "../results/linearprobe_50epochs_paper_final2/mobilevit-small_stanford_cars_TRADES_v2.pkl\n",
      "HEY\n",
      "../results/linearprobe_50epochs_edge_paper_final2/mobilevit-small_stanford_cars_TRADES_v2.pkl\n",
      "../results/linearprobe_50epochs_paper_final2/mobilenetv3_large_100.ra_in1k_stanford_cars_TRADES_v2.pkl\n",
      "HEY\n",
      "../results/linearprobe_50epochs_edge_paper_final2/mobilenetv3_large_100.ra_in1k_stanford_cars_TRADES_v2.pkl\n",
      "../results/linearprobe_50epochs_paper_final2/edgenext_small.usi_in1k_stanford_cars_TRADES_v2.pkl\n",
      "HEY\n",
      "../results/linearprobe_50epochs_edge_paper_final2/edgenext_small.usi_in1k_stanford_cars_TRADES_v2.pkl\n",
      "../results/linearprobe_50epochs_paper_final2/coat_tiny.in1k_stanford_cars_TRADES_v2.pkl\n",
      "HEY\n",
      "../results/linearprobe_50epochs_edge_paper_final2/coat_tiny.in1k_stanford_cars_TRADES_v2.pkl\n",
      "../results/linearprobe_50epochs_paper_final2/CLIP-convnext_base_w-laion_aesthetic-s13B-b82K_caltech101_TRADES_v2.pkl\n",
      "../results/linearprobe_50epochs_paper_final2/CLIP-convnext_base_w-laion2B-s13B-b82K_caltech101_TRADES_v2.pkl\n",
      "../results/linearprobe_50epochs_paper_final2/deit_small_patch16_224.fb_in1k_caltech101_TRADES_v2.pkl\n",
      "../results/linearprobe_50epochs_paper_final2/robust_resnet50_caltech101_TRADES_v2.pkl\n",
      "../results/linearprobe_50epochs_paper_final2/vit_small_patch16_224.augreg_in21k_caltech101_TRADES_v2.pkl\n",
      "../results/linearprobe_50epochs_paper_final2/convnext_base.fb_in1k_caltech101_TRADES_v2.pkl\n",
      "../results/linearprobe_50epochs_paper_final2/resnet50.a1_in1k_caltech101_TRADES_v2.pkl\n",
      "../results/linearprobe_50epochs_paper_final2/robust_vit_base_patch16_224_caltech101_TRADES_v2.pkl\n",
      "../results/linearprobe_50epochs_paper_final2/vit_base_patch16_224.mae_caltech101_TRADES_v2.pkl\n",
      "../results/linearprobe_50epochs_paper_final2/vit_small_patch16_224.dino_caltech101_TRADES_v2.pkl\n",
      "../results/linearprobe_50epochs_paper_final2/convnext_base.fb_in22k_caltech101_TRADES_v2.pkl\n",
      "../results/linearprobe_50epochs_paper_final2/robust_convnext_base_caltech101_TRADES_v2.pkl\n",
      "../results/linearprobe_50epochs_paper_final2/vit_base_patch16_224.augreg_in1k_caltech101_TRADES_v2.pkl\n",
      "../results/linearprobe_50epochs_paper_final2/vit_base_patch16_224.augreg_in21k_caltech101_TRADES_v2.pkl\n",
      "../results/linearprobe_50epochs_paper_final2/vit_base_patch16_clip_224.laion2b_caltech101_TRADES_v2.pkl\n",
      "../results/linearprobe_50epochs_paper_final2/convnext_tiny.fb_in1k_caltech101_TRADES_v2.pkl\n",
      "../results/linearprobe_50epochs_paper_final2/robust_convnext_tiny_caltech101_TRADES_v2.pkl\n",
      "../results/linearprobe_50epochs_paper_final2/robust_deit_small_patch16_224_caltech101_TRADES_v2.pkl\n",
      "../results/linearprobe_50epochs_paper_final2/vit_small_patch16_224.augreg_in1k_caltech101_TRADES_v2.pkl\n",
      "../results/linearprobe_50epochs_paper_final2/convnext_tiny.fb_in22k_caltech101_TRADES_v2.pkl\n",
      "../results/linearprobe_50epochs_paper_final2/vit_base_patch16_clip_224.laion2b_ft_in1k_caltech101_TRADES_v2.pkl\n",
      "../results/linearprobe_50epochs_paper_final2/vit_base_patch16_224.augreg_in21k_ft_in1k_caltech101_TRADES_v2.pkl\n",
      "../results/linearprobe_50epochs_paper_final2/vit_small_patch16_224.augreg_in21k_ft_in1k_caltech101_TRADES_v2.pkl\n",
      "../results/linearprobe_50epochs_paper_final2/eva02_base_patch14_224.mim_in22k_caltech101_TRADES_v2.pkl\n",
      "../results/linearprobe_50epochs_paper_final2/eva02_tiny_patch14_224.mim_in22k_caltech101_TRADES_v2.pkl\n",
      "../results/linearprobe_50epochs_paper_final2/swin_base_patch4_window7_224.ms_in22k_ft_in1k_caltech101_TRADES_v2.pkl\n",
      "../results/linearprobe_50epochs_paper_final2/swin_tiny_patch4_window7_224.ms_in1k_caltech101_TRADES_v2.pkl\n",
      "../results/linearprobe_50epochs_paper_final2/convnext_base.clip_laion2b_augreg_ft_in12k_in1k_caltech101_TRADES_v2.pkl\n",
      "../results/linearprobe_50epochs_paper_final2/convnext_base.fb_in22k_ft_in1k_caltech101_TRADES_v2.pkl\n",
      "../results/linearprobe_50epochs_paper_final2/convnext_tiny.fb_in22k_ft_in1k_caltech101_TRADES_v2.pkl\n",
      "../results/linearprobe_50epochs_paper_final2/coatnet_0_rw_224.sw_in1k_caltech101_TRADES_v2.pkl\n",
      "../results/linearprobe_50epochs_paper_final2/coatnet_2_rw_224.sw_in12k_ft_in1k_caltech101_TRADES_v2.pkl\n",
      "../results/linearprobe_50epochs_paper_final2/coatnet_2_rw_224.sw_in12k_caltech101_TRADES_v2.pkl\n",
      "../results/linearprobe_50epochs_paper_final2/regnetx_004.pycls_in1k_caltech101_TRADES_v2.pkl\n",
      "HEY\n",
      "../results/linearprobe_50epochs_edge_paper_final2/regnetx_004.pycls_in1k_caltech101_TRADES_v2.pkl\n",
      "../results/linearprobe_50epochs_paper_final2/efficientnet-b0_caltech101_TRADES_v2.pkl\n",
      "HEY\n",
      "../results/linearprobe_50epochs_edge_paper_final2/efficientnet-b0_caltech101_TRADES_v2.pkl\n",
      "../results/linearprobe_50epochs_paper_final2/deit_tiny_patch16_224.fb_in1k_caltech101_TRADES_v2.pkl\n",
      "HEY\n",
      "../results/linearprobe_50epochs_edge_paper_final2/deit_tiny_patch16_224.fb_in1k_caltech101_TRADES_v2.pkl\n",
      "../results/linearprobe_50epochs_paper_final2/mobilevit-small_caltech101_TRADES_v2.pkl\n",
      "HEY\n",
      "../results/linearprobe_50epochs_edge_paper_final2/mobilevit-small_caltech101_TRADES_v2.pkl\n",
      "../results/linearprobe_50epochs_paper_final2/mobilenetv3_large_100.ra_in1k_caltech101_TRADES_v2.pkl\n",
      "HEY\n",
      "../results/linearprobe_50epochs_edge_paper_final2/mobilenetv3_large_100.ra_in1k_caltech101_TRADES_v2.pkl\n",
      "../results/linearprobe_50epochs_paper_final2/edgenext_small.usi_in1k_caltech101_TRADES_v2.pkl\n",
      "HEY\n",
      "../results/linearprobe_50epochs_edge_paper_final2/edgenext_small.usi_in1k_caltech101_TRADES_v2.pkl\n",
      "../results/linearprobe_50epochs_paper_final2/coat_tiny.in1k_caltech101_TRADES_v2.pkl\n",
      "HEY\n",
      "../results/linearprobe_50epochs_edge_paper_final2/coat_tiny.in1k_caltech101_TRADES_v2.pkl\n",
      "../results/linearprobe_50epochs_paper_final2/CLIP-convnext_base_w-laion_aesthetic-s13B-b82K_fgvc-aircraft-2013b_TRADES_v2.pkl\n",
      "../results/linearprobe_50epochs_paper_final2/CLIP-convnext_base_w-laion2B-s13B-b82K_fgvc-aircraft-2013b_TRADES_v2.pkl\n",
      "../results/linearprobe_50epochs_paper_final2/deit_small_patch16_224.fb_in1k_fgvc-aircraft-2013b_TRADES_v2.pkl\n",
      "../results/linearprobe_50epochs_paper_final2/robust_resnet50_fgvc-aircraft-2013b_TRADES_v2.pkl\n",
      "../results/linearprobe_50epochs_paper_final2/vit_small_patch16_224.augreg_in21k_fgvc-aircraft-2013b_TRADES_v2.pkl\n",
      "../results/linearprobe_50epochs_paper_final2/convnext_base.fb_in1k_fgvc-aircraft-2013b_TRADES_v2.pkl\n",
      "../results/linearprobe_50epochs_paper_final2/resnet50.a1_in1k_fgvc-aircraft-2013b_TRADES_v2.pkl\n",
      "../results/linearprobe_50epochs_paper_final2/robust_vit_base_patch16_224_fgvc-aircraft-2013b_TRADES_v2.pkl\n",
      "../results/linearprobe_50epochs_paper_final2/vit_base_patch16_224.mae_fgvc-aircraft-2013b_TRADES_v2.pkl\n",
      "../results/linearprobe_50epochs_paper_final2/vit_small_patch16_224.dino_fgvc-aircraft-2013b_TRADES_v2.pkl\n",
      "../results/linearprobe_50epochs_paper_final2/convnext_base.fb_in22k_fgvc-aircraft-2013b_TRADES_v2.pkl\n",
      "../results/linearprobe_50epochs_paper_final2/robust_convnext_base_fgvc-aircraft-2013b_TRADES_v2.pkl\n",
      "../results/linearprobe_50epochs_paper_final2/vit_base_patch16_224.augreg_in1k_fgvc-aircraft-2013b_TRADES_v2.pkl\n",
      "../results/linearprobe_50epochs_paper_final2/vit_base_patch16_224.augreg_in21k_fgvc-aircraft-2013b_TRADES_v2.pkl\n",
      "../results/linearprobe_50epochs_paper_final2/vit_base_patch16_clip_224.laion2b_fgvc-aircraft-2013b_TRADES_v2.pkl\n",
      "../results/linearprobe_50epochs_paper_final2/convnext_tiny.fb_in1k_fgvc-aircraft-2013b_TRADES_v2.pkl\n",
      "../results/linearprobe_50epochs_paper_final2/robust_convnext_tiny_fgvc-aircraft-2013b_TRADES_v2.pkl\n",
      "../results/linearprobe_50epochs_paper_final2/robust_deit_small_patch16_224_fgvc-aircraft-2013b_TRADES_v2.pkl\n",
      "../results/linearprobe_50epochs_paper_final2/vit_small_patch16_224.augreg_in1k_fgvc-aircraft-2013b_TRADES_v2.pkl\n",
      "../results/linearprobe_50epochs_paper_final2/convnext_tiny.fb_in22k_fgvc-aircraft-2013b_TRADES_v2.pkl\n",
      "../results/linearprobe_50epochs_paper_final2/vit_base_patch16_clip_224.laion2b_ft_in1k_fgvc-aircraft-2013b_TRADES_v2.pkl\n",
      "../results/linearprobe_50epochs_paper_final2/vit_base_patch16_224.augreg_in21k_ft_in1k_fgvc-aircraft-2013b_TRADES_v2.pkl\n",
      "../results/linearprobe_50epochs_paper_final2/vit_small_patch16_224.augreg_in21k_ft_in1k_fgvc-aircraft-2013b_TRADES_v2.pkl\n",
      "../results/linearprobe_50epochs_paper_final2/eva02_base_patch14_224.mim_in22k_fgvc-aircraft-2013b_TRADES_v2.pkl\n",
      "../results/linearprobe_50epochs_paper_final2/eva02_tiny_patch14_224.mim_in22k_fgvc-aircraft-2013b_TRADES_v2.pkl\n",
      "../results/linearprobe_50epochs_paper_final2/swin_base_patch4_window7_224.ms_in22k_ft_in1k_fgvc-aircraft-2013b_TRADES_v2.pkl\n",
      "../results/linearprobe_50epochs_paper_final2/swin_tiny_patch4_window7_224.ms_in1k_fgvc-aircraft-2013b_TRADES_v2.pkl\n",
      "../results/linearprobe_50epochs_paper_final2/convnext_base.clip_laion2b_augreg_ft_in12k_in1k_fgvc-aircraft-2013b_TRADES_v2.pkl\n",
      "../results/linearprobe_50epochs_paper_final2/convnext_base.fb_in22k_ft_in1k_fgvc-aircraft-2013b_TRADES_v2.pkl\n",
      "../results/linearprobe_50epochs_paper_final2/convnext_tiny.fb_in22k_ft_in1k_fgvc-aircraft-2013b_TRADES_v2.pkl\n",
      "../results/linearprobe_50epochs_paper_final2/coatnet_0_rw_224.sw_in1k_fgvc-aircraft-2013b_TRADES_v2.pkl\n",
      "../results/linearprobe_50epochs_paper_final2/coatnet_2_rw_224.sw_in12k_ft_in1k_fgvc-aircraft-2013b_TRADES_v2.pkl\n",
      "../results/linearprobe_50epochs_paper_final2/coatnet_2_rw_224.sw_in12k_fgvc-aircraft-2013b_TRADES_v2.pkl\n",
      "../results/linearprobe_50epochs_paper_final2/regnetx_004.pycls_in1k_fgvc-aircraft-2013b_TRADES_v2.pkl\n",
      "HEY\n",
      "../results/linearprobe_50epochs_edge_paper_final2/regnetx_004.pycls_in1k_fgvc-aircraft-2013b_TRADES_v2.pkl\n",
      "../results/linearprobe_50epochs_paper_final2/efficientnet-b0_fgvc-aircraft-2013b_TRADES_v2.pkl\n",
      "HEY\n",
      "../results/linearprobe_50epochs_edge_paper_final2/efficientnet-b0_fgvc-aircraft-2013b_TRADES_v2.pkl\n",
      "../results/linearprobe_50epochs_paper_final2/deit_tiny_patch16_224.fb_in1k_fgvc-aircraft-2013b_TRADES_v2.pkl\n",
      "HEY\n",
      "../results/linearprobe_50epochs_edge_paper_final2/deit_tiny_patch16_224.fb_in1k_fgvc-aircraft-2013b_TRADES_v2.pkl\n",
      "../results/linearprobe_50epochs_paper_final2/mobilevit-small_fgvc-aircraft-2013b_TRADES_v2.pkl\n",
      "HEY\n",
      "../results/linearprobe_50epochs_edge_paper_final2/mobilevit-small_fgvc-aircraft-2013b_TRADES_v2.pkl\n",
      "../results/linearprobe_50epochs_paper_final2/mobilenetv3_large_100.ra_in1k_fgvc-aircraft-2013b_TRADES_v2.pkl\n",
      "HEY\n",
      "../results/linearprobe_50epochs_edge_paper_final2/mobilenetv3_large_100.ra_in1k_fgvc-aircraft-2013b_TRADES_v2.pkl\n",
      "../results/linearprobe_50epochs_paper_final2/edgenext_small.usi_in1k_fgvc-aircraft-2013b_TRADES_v2.pkl\n",
      "HEY\n",
      "../results/linearprobe_50epochs_edge_paper_final2/edgenext_small.usi_in1k_fgvc-aircraft-2013b_TRADES_v2.pkl\n",
      "../results/linearprobe_50epochs_paper_final2/coat_tiny.in1k_fgvc-aircraft-2013b_TRADES_v2.pkl\n",
      "HEY\n",
      "../results/linearprobe_50epochs_edge_paper_final2/coat_tiny.in1k_fgvc-aircraft-2013b_TRADES_v2.pkl\n",
      "../results/linearprobe_50epochs_paper_final2/CLIP-convnext_base_w-laion_aesthetic-s13B-b82K_flowers-102_TRADES_v2.pkl\n",
      "../results/linearprobe_50epochs_paper_final2/CLIP-convnext_base_w-laion2B-s13B-b82K_flowers-102_TRADES_v2.pkl\n",
      "../results/linearprobe_50epochs_paper_final2/deit_small_patch16_224.fb_in1k_flowers-102_TRADES_v2.pkl\n",
      "../results/linearprobe_50epochs_paper_final2/robust_resnet50_flowers-102_TRADES_v2.pkl\n",
      "../results/linearprobe_50epochs_paper_final2/vit_small_patch16_224.augreg_in21k_flowers-102_TRADES_v2.pkl\n",
      "../results/linearprobe_50epochs_paper_final2/convnext_base.fb_in1k_flowers-102_TRADES_v2.pkl\n",
      "../results/linearprobe_50epochs_paper_final2/resnet50.a1_in1k_flowers-102_TRADES_v2.pkl\n",
      "../results/linearprobe_50epochs_paper_final2/robust_vit_base_patch16_224_flowers-102_TRADES_v2.pkl\n",
      "../results/linearprobe_50epochs_paper_final2/vit_base_patch16_224.mae_flowers-102_TRADES_v2.pkl\n",
      "../results/linearprobe_50epochs_paper_final2/vit_small_patch16_224.dino_flowers-102_TRADES_v2.pkl\n",
      "../results/linearprobe_50epochs_paper_final2/convnext_base.fb_in22k_flowers-102_TRADES_v2.pkl\n",
      "../results/linearprobe_50epochs_paper_final2/robust_convnext_base_flowers-102_TRADES_v2.pkl\n",
      "../results/linearprobe_50epochs_paper_final2/vit_base_patch16_224.augreg_in1k_flowers-102_TRADES_v2.pkl\n",
      "../results/linearprobe_50epochs_paper_final2/vit_base_patch16_224.augreg_in21k_flowers-102_TRADES_v2.pkl\n",
      "../results/linearprobe_50epochs_paper_final2/vit_base_patch16_clip_224.laion2b_flowers-102_TRADES_v2.pkl\n",
      "../results/linearprobe_50epochs_paper_final2/convnext_tiny.fb_in1k_flowers-102_TRADES_v2.pkl\n",
      "../results/linearprobe_50epochs_paper_final2/robust_convnext_tiny_flowers-102_TRADES_v2.pkl\n",
      "../results/linearprobe_50epochs_paper_final2/robust_deit_small_patch16_224_flowers-102_TRADES_v2.pkl\n",
      "../results/linearprobe_50epochs_paper_final2/vit_small_patch16_224.augreg_in1k_flowers-102_TRADES_v2.pkl\n",
      "../results/linearprobe_50epochs_paper_final2/convnext_tiny.fb_in22k_flowers-102_TRADES_v2.pkl\n",
      "../results/linearprobe_50epochs_paper_final2/vit_base_patch16_clip_224.laion2b_ft_in1k_flowers-102_TRADES_v2.pkl\n",
      "../results/linearprobe_50epochs_paper_final2/vit_base_patch16_224.augreg_in21k_ft_in1k_flowers-102_TRADES_v2.pkl\n",
      "../results/linearprobe_50epochs_paper_final2/vit_small_patch16_224.augreg_in21k_ft_in1k_flowers-102_TRADES_v2.pkl\n",
      "../results/linearprobe_50epochs_paper_final2/eva02_base_patch14_224.mim_in22k_flowers-102_TRADES_v2.pkl\n",
      "../results/linearprobe_50epochs_paper_final2/eva02_tiny_patch14_224.mim_in22k_flowers-102_TRADES_v2.pkl\n",
      "../results/linearprobe_50epochs_paper_final2/swin_base_patch4_window7_224.ms_in22k_ft_in1k_flowers-102_TRADES_v2.pkl\n",
      "../results/linearprobe_50epochs_paper_final2/swin_tiny_patch4_window7_224.ms_in1k_flowers-102_TRADES_v2.pkl\n",
      "../results/linearprobe_50epochs_paper_final2/convnext_base.clip_laion2b_augreg_ft_in12k_in1k_flowers-102_TRADES_v2.pkl\n",
      "../results/linearprobe_50epochs_paper_final2/convnext_base.fb_in22k_ft_in1k_flowers-102_TRADES_v2.pkl\n",
      "../results/linearprobe_50epochs_paper_final2/convnext_tiny.fb_in22k_ft_in1k_flowers-102_TRADES_v2.pkl\n",
      "../results/linearprobe_50epochs_paper_final2/coatnet_0_rw_224.sw_in1k_flowers-102_TRADES_v2.pkl\n",
      "../results/linearprobe_50epochs_paper_final2/coatnet_2_rw_224.sw_in12k_ft_in1k_flowers-102_TRADES_v2.pkl\n",
      "../results/linearprobe_50epochs_paper_final2/coatnet_2_rw_224.sw_in12k_flowers-102_TRADES_v2.pkl\n",
      "../results/linearprobe_50epochs_paper_final2/regnetx_004.pycls_in1k_flowers-102_TRADES_v2.pkl\n",
      "HEY\n",
      "../results/linearprobe_50epochs_edge_paper_final2/regnetx_004.pycls_in1k_flowers-102_TRADES_v2.pkl\n",
      "../results/linearprobe_50epochs_paper_final2/efficientnet-b0_flowers-102_TRADES_v2.pkl\n",
      "HEY\n",
      "../results/linearprobe_50epochs_edge_paper_final2/efficientnet-b0_flowers-102_TRADES_v2.pkl\n",
      "../results/linearprobe_50epochs_paper_final2/deit_tiny_patch16_224.fb_in1k_flowers-102_TRADES_v2.pkl\n",
      "HEY\n",
      "../results/linearprobe_50epochs_edge_paper_final2/deit_tiny_patch16_224.fb_in1k_flowers-102_TRADES_v2.pkl\n",
      "../results/linearprobe_50epochs_paper_final2/mobilevit-small_flowers-102_TRADES_v2.pkl\n",
      "HEY\n",
      "../results/linearprobe_50epochs_edge_paper_final2/mobilevit-small_flowers-102_TRADES_v2.pkl\n",
      "../results/linearprobe_50epochs_paper_final2/mobilenetv3_large_100.ra_in1k_flowers-102_TRADES_v2.pkl\n",
      "HEY\n",
      "../results/linearprobe_50epochs_edge_paper_final2/mobilenetv3_large_100.ra_in1k_flowers-102_TRADES_v2.pkl\n",
      "../results/linearprobe_50epochs_paper_final2/edgenext_small.usi_in1k_flowers-102_TRADES_v2.pkl\n",
      "HEY\n",
      "../results/linearprobe_50epochs_edge_paper_final2/edgenext_small.usi_in1k_flowers-102_TRADES_v2.pkl\n",
      "../results/linearprobe_50epochs_paper_final2/coat_tiny.in1k_flowers-102_TRADES_v2.pkl\n",
      "HEY\n",
      "../results/linearprobe_50epochs_edge_paper_final2/coat_tiny.in1k_flowers-102_TRADES_v2.pkl\n",
      "../results/linearprobe_50epochs_paper_final2/CLIP-convnext_base_w-laion_aesthetic-s13B-b82K_oxford-iiit-pet_TRADES_v2.pkl\n",
      "../results/linearprobe_50epochs_paper_final2/CLIP-convnext_base_w-laion2B-s13B-b82K_oxford-iiit-pet_TRADES_v2.pkl\n",
      "../results/linearprobe_50epochs_paper_final2/deit_small_patch16_224.fb_in1k_oxford-iiit-pet_TRADES_v2.pkl\n",
      "../results/linearprobe_50epochs_paper_final2/robust_resnet50_oxford-iiit-pet_TRADES_v2.pkl\n",
      "../results/linearprobe_50epochs_paper_final2/vit_small_patch16_224.augreg_in21k_oxford-iiit-pet_TRADES_v2.pkl\n",
      "../results/linearprobe_50epochs_paper_final2/convnext_base.fb_in1k_oxford-iiit-pet_TRADES_v2.pkl\n",
      "../results/linearprobe_50epochs_paper_final2/resnet50.a1_in1k_oxford-iiit-pet_TRADES_v2.pkl\n",
      "../results/linearprobe_50epochs_paper_final2/robust_vit_base_patch16_224_oxford-iiit-pet_TRADES_v2.pkl\n",
      "../results/linearprobe_50epochs_paper_final2/vit_base_patch16_224.mae_oxford-iiit-pet_TRADES_v2.pkl\n",
      "../results/linearprobe_50epochs_paper_final2/vit_small_patch16_224.dino_oxford-iiit-pet_TRADES_v2.pkl\n",
      "../results/linearprobe_50epochs_paper_final2/convnext_base.fb_in22k_oxford-iiit-pet_TRADES_v2.pkl\n",
      "../results/linearprobe_50epochs_paper_final2/robust_convnext_base_oxford-iiit-pet_TRADES_v2.pkl\n",
      "../results/linearprobe_50epochs_paper_final2/vit_base_patch16_224.augreg_in1k_oxford-iiit-pet_TRADES_v2.pkl\n",
      "../results/linearprobe_50epochs_paper_final2/vit_base_patch16_224.augreg_in21k_oxford-iiit-pet_TRADES_v2.pkl\n",
      "../results/linearprobe_50epochs_paper_final2/vit_base_patch16_clip_224.laion2b_oxford-iiit-pet_TRADES_v2.pkl\n",
      "../results/linearprobe_50epochs_paper_final2/convnext_tiny.fb_in1k_oxford-iiit-pet_TRADES_v2.pkl\n",
      "../results/linearprobe_50epochs_paper_final2/robust_convnext_tiny_oxford-iiit-pet_TRADES_v2.pkl\n",
      "../results/linearprobe_50epochs_paper_final2/robust_deit_small_patch16_224_oxford-iiit-pet_TRADES_v2.pkl\n",
      "../results/linearprobe_50epochs_paper_final2/vit_small_patch16_224.augreg_in1k_oxford-iiit-pet_TRADES_v2.pkl\n",
      "../results/linearprobe_50epochs_paper_final2/convnext_tiny.fb_in22k_oxford-iiit-pet_TRADES_v2.pkl\n",
      "../results/linearprobe_50epochs_paper_final2/vit_base_patch16_clip_224.laion2b_ft_in1k_oxford-iiit-pet_TRADES_v2.pkl\n",
      "../results/linearprobe_50epochs_paper_final2/vit_base_patch16_224.augreg_in21k_ft_in1k_oxford-iiit-pet_TRADES_v2.pkl\n",
      "../results/linearprobe_50epochs_paper_final2/vit_small_patch16_224.augreg_in21k_ft_in1k_oxford-iiit-pet_TRADES_v2.pkl\n",
      "../results/linearprobe_50epochs_paper_final2/eva02_base_patch14_224.mim_in22k_oxford-iiit-pet_TRADES_v2.pkl\n",
      "../results/linearprobe_50epochs_paper_final2/eva02_tiny_patch14_224.mim_in22k_oxford-iiit-pet_TRADES_v2.pkl\n",
      "../results/linearprobe_50epochs_paper_final2/swin_base_patch4_window7_224.ms_in22k_ft_in1k_oxford-iiit-pet_TRADES_v2.pkl\n",
      "../results/linearprobe_50epochs_paper_final2/swin_tiny_patch4_window7_224.ms_in1k_oxford-iiit-pet_TRADES_v2.pkl\n",
      "../results/linearprobe_50epochs_paper_final2/convnext_base.clip_laion2b_augreg_ft_in12k_in1k_oxford-iiit-pet_TRADES_v2.pkl\n",
      "../results/linearprobe_50epochs_paper_final2/convnext_base.fb_in22k_ft_in1k_oxford-iiit-pet_TRADES_v2.pkl\n",
      "../results/linearprobe_50epochs_paper_final2/convnext_tiny.fb_in22k_ft_in1k_oxford-iiit-pet_TRADES_v2.pkl\n",
      "../results/linearprobe_50epochs_paper_final2/coatnet_0_rw_224.sw_in1k_oxford-iiit-pet_TRADES_v2.pkl\n",
      "../results/linearprobe_50epochs_paper_final2/coatnet_2_rw_224.sw_in12k_ft_in1k_oxford-iiit-pet_TRADES_v2.pkl\n",
      "../results/linearprobe_50epochs_paper_final2/coatnet_2_rw_224.sw_in12k_oxford-iiit-pet_TRADES_v2.pkl\n",
      "../results/linearprobe_50epochs_paper_final2/regnetx_004.pycls_in1k_oxford-iiit-pet_TRADES_v2.pkl\n",
      "HEY\n",
      "../results/linearprobe_50epochs_edge_paper_final2/regnetx_004.pycls_in1k_oxford-iiit-pet_TRADES_v2.pkl\n",
      "../results/linearprobe_50epochs_paper_final2/efficientnet-b0_oxford-iiit-pet_TRADES_v2.pkl\n",
      "HEY\n",
      "../results/linearprobe_50epochs_edge_paper_final2/efficientnet-b0_oxford-iiit-pet_TRADES_v2.pkl\n",
      "../results/linearprobe_50epochs_paper_final2/deit_tiny_patch16_224.fb_in1k_oxford-iiit-pet_TRADES_v2.pkl\n",
      "HEY\n",
      "../results/linearprobe_50epochs_edge_paper_final2/deit_tiny_patch16_224.fb_in1k_oxford-iiit-pet_TRADES_v2.pkl\n",
      "../results/linearprobe_50epochs_paper_final2/mobilevit-small_oxford-iiit-pet_TRADES_v2.pkl\n",
      "HEY\n",
      "../results/linearprobe_50epochs_edge_paper_final2/mobilevit-small_oxford-iiit-pet_TRADES_v2.pkl\n",
      "../results/linearprobe_50epochs_paper_final2/mobilenetv3_large_100.ra_in1k_oxford-iiit-pet_TRADES_v2.pkl\n",
      "HEY\n",
      "../results/linearprobe_50epochs_edge_paper_final2/mobilenetv3_large_100.ra_in1k_oxford-iiit-pet_TRADES_v2.pkl\n",
      "../results/linearprobe_50epochs_paper_final2/edgenext_small.usi_in1k_oxford-iiit-pet_TRADES_v2.pkl\n",
      "HEY\n",
      "../results/linearprobe_50epochs_edge_paper_final2/edgenext_small.usi_in1k_oxford-iiit-pet_TRADES_v2.pkl\n",
      "../results/linearprobe_50epochs_paper_final2/coat_tiny.in1k_oxford-iiit-pet_TRADES_v2.pkl\n",
      "HEY\n",
      "../results/linearprobe_50epochs_edge_paper_final2/coat_tiny.in1k_oxford-iiit-pet_TRADES_v2.pkl\n",
      "../results/linearprobe_50epochs_paper_final2/CLIP-convnext_base_w-laion_aesthetic-s13B-b82K_uc-merced-land-use-dataset_CLASSIC_AT.pkl\n",
      "../results/linearprobe_50epochs_paper_final2/CLIP-convnext_base_w-laion2B-s13B-b82K_uc-merced-land-use-dataset_CLASSIC_AT.pkl\n",
      "../results/linearprobe_50epochs_paper_final2/deit_small_patch16_224.fb_in1k_uc-merced-land-use-dataset_CLASSIC_AT.pkl\n",
      "../results/linearprobe_50epochs_paper_final2/robust_resnet50_uc-merced-land-use-dataset_CLASSIC_AT.pkl\n",
      "../results/linearprobe_50epochs_paper_final2/vit_small_patch16_224.augreg_in21k_uc-merced-land-use-dataset_CLASSIC_AT.pkl\n",
      "../results/linearprobe_50epochs_paper_final2/convnext_base.fb_in1k_uc-merced-land-use-dataset_CLASSIC_AT.pkl\n",
      "../results/linearprobe_50epochs_paper_final2/resnet50.a1_in1k_uc-merced-land-use-dataset_CLASSIC_AT.pkl\n",
      "../results/linearprobe_50epochs_paper_final2/robust_vit_base_patch16_224_uc-merced-land-use-dataset_CLASSIC_AT.pkl\n",
      "../results/linearprobe_50epochs_paper_final2/vit_base_patch16_224.mae_uc-merced-land-use-dataset_CLASSIC_AT.pkl\n",
      "../results/linearprobe_50epochs_paper_final2/vit_small_patch16_224.dino_uc-merced-land-use-dataset_CLASSIC_AT.pkl\n",
      "../results/linearprobe_50epochs_paper_final2/convnext_base.fb_in22k_uc-merced-land-use-dataset_CLASSIC_AT.pkl\n",
      "../results/linearprobe_50epochs_paper_final2/robust_convnext_base_uc-merced-land-use-dataset_CLASSIC_AT.pkl\n",
      "../results/linearprobe_50epochs_paper_final2/vit_base_patch16_224.augreg_in1k_uc-merced-land-use-dataset_CLASSIC_AT.pkl\n",
      "../results/linearprobe_50epochs_paper_final2/vit_base_patch16_224.augreg_in21k_uc-merced-land-use-dataset_CLASSIC_AT.pkl\n",
      "../results/linearprobe_50epochs_paper_final2/vit_base_patch16_clip_224.laion2b_uc-merced-land-use-dataset_CLASSIC_AT.pkl\n",
      "../results/linearprobe_50epochs_paper_final2/convnext_tiny.fb_in1k_uc-merced-land-use-dataset_CLASSIC_AT.pkl\n",
      "../results/linearprobe_50epochs_paper_final2/robust_convnext_tiny_uc-merced-land-use-dataset_CLASSIC_AT.pkl\n",
      "../results/linearprobe_50epochs_paper_final2/robust_deit_small_patch16_224_uc-merced-land-use-dataset_CLASSIC_AT.pkl\n",
      "../results/linearprobe_50epochs_paper_final2/vit_small_patch16_224.augreg_in1k_uc-merced-land-use-dataset_CLASSIC_AT.pkl\n",
      "../results/linearprobe_50epochs_paper_final2/convnext_tiny.fb_in22k_uc-merced-land-use-dataset_CLASSIC_AT.pkl\n",
      "../results/linearprobe_50epochs_paper_final2/vit_base_patch16_clip_224.laion2b_ft_in1k_uc-merced-land-use-dataset_CLASSIC_AT.pkl\n",
      "../results/linearprobe_50epochs_paper_final2/vit_base_patch16_224.augreg_in21k_ft_in1k_uc-merced-land-use-dataset_CLASSIC_AT.pkl\n",
      "../results/linearprobe_50epochs_paper_final2/vit_small_patch16_224.augreg_in21k_ft_in1k_uc-merced-land-use-dataset_CLASSIC_AT.pkl\n",
      "../results/linearprobe_50epochs_paper_final2/eva02_base_patch14_224.mim_in22k_uc-merced-land-use-dataset_CLASSIC_AT.pkl\n",
      "../results/linearprobe_50epochs_paper_final2/eva02_tiny_patch14_224.mim_in22k_uc-merced-land-use-dataset_CLASSIC_AT.pkl\n",
      "../results/linearprobe_50epochs_paper_final2/swin_base_patch4_window7_224.ms_in22k_ft_in1k_uc-merced-land-use-dataset_CLASSIC_AT.pkl\n",
      "../results/linearprobe_50epochs_paper_final2/swin_tiny_patch4_window7_224.ms_in1k_uc-merced-land-use-dataset_CLASSIC_AT.pkl\n",
      "../results/linearprobe_50epochs_paper_final2/convnext_base.clip_laion2b_augreg_ft_in12k_in1k_uc-merced-land-use-dataset_CLASSIC_AT.pkl\n",
      "../results/linearprobe_50epochs_paper_final2/convnext_base.fb_in22k_ft_in1k_uc-merced-land-use-dataset_CLASSIC_AT.pkl\n",
      "../results/linearprobe_50epochs_paper_final2/convnext_tiny.fb_in22k_ft_in1k_uc-merced-land-use-dataset_CLASSIC_AT.pkl\n",
      "../results/linearprobe_50epochs_paper_final2/coatnet_0_rw_224.sw_in1k_uc-merced-land-use-dataset_CLASSIC_AT.pkl\n",
      "../results/linearprobe_50epochs_paper_final2/coatnet_2_rw_224.sw_in12k_ft_in1k_uc-merced-land-use-dataset_CLASSIC_AT.pkl\n",
      "../results/linearprobe_50epochs_paper_final2/coatnet_2_rw_224.sw_in12k_uc-merced-land-use-dataset_CLASSIC_AT.pkl\n",
      "../results/linearprobe_50epochs_paper_final2/regnetx_004.pycls_in1k_uc-merced-land-use-dataset_CLASSIC_AT.pkl\n",
      "HEY\n",
      "../results/linearprobe_50epochs_edge_paper_final2/regnetx_004.pycls_in1k_uc-merced-land-use-dataset_CLASSIC_AT.pkl\n",
      "../results/linearprobe_50epochs_paper_final2/efficientnet-b0_uc-merced-land-use-dataset_CLASSIC_AT.pkl\n",
      "HEY\n",
      "../results/linearprobe_50epochs_edge_paper_final2/efficientnet-b0_uc-merced-land-use-dataset_CLASSIC_AT.pkl\n",
      "../results/linearprobe_50epochs_paper_final2/deit_tiny_patch16_224.fb_in1k_uc-merced-land-use-dataset_CLASSIC_AT.pkl\n",
      "HEY\n",
      "../results/linearprobe_50epochs_edge_paper_final2/deit_tiny_patch16_224.fb_in1k_uc-merced-land-use-dataset_CLASSIC_AT.pkl\n",
      "../results/linearprobe_50epochs_paper_final2/mobilevit-small_uc-merced-land-use-dataset_CLASSIC_AT.pkl\n",
      "HEY\n",
      "../results/linearprobe_50epochs_edge_paper_final2/mobilevit-small_uc-merced-land-use-dataset_CLASSIC_AT.pkl\n",
      "../results/linearprobe_50epochs_paper_final2/mobilenetv3_large_100.ra_in1k_uc-merced-land-use-dataset_CLASSIC_AT.pkl\n",
      "HEY\n",
      "../results/linearprobe_50epochs_edge_paper_final2/mobilenetv3_large_100.ra_in1k_uc-merced-land-use-dataset_CLASSIC_AT.pkl\n",
      "../results/linearprobe_50epochs_paper_final2/edgenext_small.usi_in1k_uc-merced-land-use-dataset_CLASSIC_AT.pkl\n",
      "HEY\n",
      "../results/linearprobe_50epochs_edge_paper_final2/edgenext_small.usi_in1k_uc-merced-land-use-dataset_CLASSIC_AT.pkl\n",
      "../results/linearprobe_50epochs_paper_final2/coat_tiny.in1k_uc-merced-land-use-dataset_CLASSIC_AT.pkl\n",
      "HEY\n",
      "../results/linearprobe_50epochs_edge_paper_final2/coat_tiny.in1k_uc-merced-land-use-dataset_CLASSIC_AT.pkl\n",
      "../results/linearprobe_50epochs_paper_final2/CLIP-convnext_base_w-laion_aesthetic-s13B-b82K_stanford_cars_CLASSIC_AT.pkl\n",
      "../results/linearprobe_50epochs_paper_final2/CLIP-convnext_base_w-laion2B-s13B-b82K_stanford_cars_CLASSIC_AT.pkl\n",
      "../results/linearprobe_50epochs_paper_final2/deit_small_patch16_224.fb_in1k_stanford_cars_CLASSIC_AT.pkl\n",
      "../results/linearprobe_50epochs_paper_final2/robust_resnet50_stanford_cars_CLASSIC_AT.pkl\n",
      "../results/linearprobe_50epochs_paper_final2/vit_small_patch16_224.augreg_in21k_stanford_cars_CLASSIC_AT.pkl\n",
      "../results/linearprobe_50epochs_paper_final2/convnext_base.fb_in1k_stanford_cars_CLASSIC_AT.pkl\n",
      "../results/linearprobe_50epochs_paper_final2/resnet50.a1_in1k_stanford_cars_CLASSIC_AT.pkl\n",
      "../results/linearprobe_50epochs_paper_final2/robust_vit_base_patch16_224_stanford_cars_CLASSIC_AT.pkl\n",
      "../results/linearprobe_50epochs_paper_final2/vit_base_patch16_224.mae_stanford_cars_CLASSIC_AT.pkl\n",
      "../results/linearprobe_50epochs_paper_final2/vit_small_patch16_224.dino_stanford_cars_CLASSIC_AT.pkl\n",
      "../results/linearprobe_50epochs_paper_final2/convnext_base.fb_in22k_stanford_cars_CLASSIC_AT.pkl\n",
      "../results/linearprobe_50epochs_paper_final2/robust_convnext_base_stanford_cars_CLASSIC_AT.pkl\n",
      "../results/linearprobe_50epochs_paper_final2/vit_base_patch16_224.augreg_in1k_stanford_cars_CLASSIC_AT.pkl\n",
      "../results/linearprobe_50epochs_paper_final2/vit_base_patch16_224.augreg_in21k_stanford_cars_CLASSIC_AT.pkl\n",
      "../results/linearprobe_50epochs_paper_final2/vit_base_patch16_clip_224.laion2b_stanford_cars_CLASSIC_AT.pkl\n",
      "../results/linearprobe_50epochs_paper_final2/convnext_tiny.fb_in1k_stanford_cars_CLASSIC_AT.pkl\n",
      "../results/linearprobe_50epochs_paper_final2/robust_convnext_tiny_stanford_cars_CLASSIC_AT.pkl\n",
      "../results/linearprobe_50epochs_paper_final2/robust_deit_small_patch16_224_stanford_cars_CLASSIC_AT.pkl\n",
      "../results/linearprobe_50epochs_paper_final2/vit_small_patch16_224.augreg_in1k_stanford_cars_CLASSIC_AT.pkl\n",
      "../results/linearprobe_50epochs_paper_final2/convnext_tiny.fb_in22k_stanford_cars_CLASSIC_AT.pkl\n",
      "../results/linearprobe_50epochs_paper_final2/vit_base_patch16_clip_224.laion2b_ft_in1k_stanford_cars_CLASSIC_AT.pkl\n",
      "../results/linearprobe_50epochs_paper_final2/vit_base_patch16_224.augreg_in21k_ft_in1k_stanford_cars_CLASSIC_AT.pkl\n",
      "../results/linearprobe_50epochs_paper_final2/vit_small_patch16_224.augreg_in21k_ft_in1k_stanford_cars_CLASSIC_AT.pkl\n",
      "../results/linearprobe_50epochs_paper_final2/eva02_base_patch14_224.mim_in22k_stanford_cars_CLASSIC_AT.pkl\n",
      "../results/linearprobe_50epochs_paper_final2/eva02_tiny_patch14_224.mim_in22k_stanford_cars_CLASSIC_AT.pkl\n",
      "../results/linearprobe_50epochs_paper_final2/swin_base_patch4_window7_224.ms_in22k_ft_in1k_stanford_cars_CLASSIC_AT.pkl\n",
      "../results/linearprobe_50epochs_paper_final2/swin_tiny_patch4_window7_224.ms_in1k_stanford_cars_CLASSIC_AT.pkl\n",
      "../results/linearprobe_50epochs_paper_final2/convnext_base.clip_laion2b_augreg_ft_in12k_in1k_stanford_cars_CLASSIC_AT.pkl\n",
      "../results/linearprobe_50epochs_paper_final2/convnext_base.fb_in22k_ft_in1k_stanford_cars_CLASSIC_AT.pkl\n",
      "../results/linearprobe_50epochs_paper_final2/convnext_tiny.fb_in22k_ft_in1k_stanford_cars_CLASSIC_AT.pkl\n",
      "../results/linearprobe_50epochs_paper_final2/coatnet_0_rw_224.sw_in1k_stanford_cars_CLASSIC_AT.pkl\n",
      "../results/linearprobe_50epochs_paper_final2/coatnet_2_rw_224.sw_in12k_ft_in1k_stanford_cars_CLASSIC_AT.pkl\n",
      "../results/linearprobe_50epochs_paper_final2/coatnet_2_rw_224.sw_in12k_stanford_cars_CLASSIC_AT.pkl\n",
      "../results/linearprobe_50epochs_paper_final2/regnetx_004.pycls_in1k_stanford_cars_CLASSIC_AT.pkl\n",
      "HEY\n",
      "../results/linearprobe_50epochs_edge_paper_final2/regnetx_004.pycls_in1k_stanford_cars_CLASSIC_AT.pkl\n",
      "../results/linearprobe_50epochs_paper_final2/efficientnet-b0_stanford_cars_CLASSIC_AT.pkl\n",
      "HEY\n",
      "../results/linearprobe_50epochs_edge_paper_final2/efficientnet-b0_stanford_cars_CLASSIC_AT.pkl\n",
      "../results/linearprobe_50epochs_paper_final2/deit_tiny_patch16_224.fb_in1k_stanford_cars_CLASSIC_AT.pkl\n",
      "HEY\n",
      "../results/linearprobe_50epochs_edge_paper_final2/deit_tiny_patch16_224.fb_in1k_stanford_cars_CLASSIC_AT.pkl\n",
      "../results/linearprobe_50epochs_paper_final2/mobilevit-small_stanford_cars_CLASSIC_AT.pkl\n",
      "HEY\n",
      "../results/linearprobe_50epochs_edge_paper_final2/mobilevit-small_stanford_cars_CLASSIC_AT.pkl\n",
      "../results/linearprobe_50epochs_paper_final2/mobilenetv3_large_100.ra_in1k_stanford_cars_CLASSIC_AT.pkl\n",
      "HEY\n",
      "../results/linearprobe_50epochs_edge_paper_final2/mobilenetv3_large_100.ra_in1k_stanford_cars_CLASSIC_AT.pkl\n",
      "../results/linearprobe_50epochs_paper_final2/edgenext_small.usi_in1k_stanford_cars_CLASSIC_AT.pkl\n",
      "HEY\n",
      "../results/linearprobe_50epochs_edge_paper_final2/edgenext_small.usi_in1k_stanford_cars_CLASSIC_AT.pkl\n",
      "../results/linearprobe_50epochs_paper_final2/coat_tiny.in1k_stanford_cars_CLASSIC_AT.pkl\n",
      "HEY\n",
      "../results/linearprobe_50epochs_edge_paper_final2/coat_tiny.in1k_stanford_cars_CLASSIC_AT.pkl\n",
      "../results/linearprobe_50epochs_paper_final2/CLIP-convnext_base_w-laion_aesthetic-s13B-b82K_caltech101_CLASSIC_AT.pkl\n",
      "../results/linearprobe_50epochs_paper_final2/CLIP-convnext_base_w-laion2B-s13B-b82K_caltech101_CLASSIC_AT.pkl\n",
      "../results/linearprobe_50epochs_paper_final2/deit_small_patch16_224.fb_in1k_caltech101_CLASSIC_AT.pkl\n",
      "../results/linearprobe_50epochs_paper_final2/robust_resnet50_caltech101_CLASSIC_AT.pkl\n",
      "../results/linearprobe_50epochs_paper_final2/vit_small_patch16_224.augreg_in21k_caltech101_CLASSIC_AT.pkl\n",
      "../results/linearprobe_50epochs_paper_final2/convnext_base.fb_in1k_caltech101_CLASSIC_AT.pkl\n",
      "../results/linearprobe_50epochs_paper_final2/resnet50.a1_in1k_caltech101_CLASSIC_AT.pkl\n",
      "../results/linearprobe_50epochs_paper_final2/robust_vit_base_patch16_224_caltech101_CLASSIC_AT.pkl\n",
      "../results/linearprobe_50epochs_paper_final2/vit_base_patch16_224.mae_caltech101_CLASSIC_AT.pkl\n",
      "../results/linearprobe_50epochs_paper_final2/vit_small_patch16_224.dino_caltech101_CLASSIC_AT.pkl\n",
      "../results/linearprobe_50epochs_paper_final2/convnext_base.fb_in22k_caltech101_CLASSIC_AT.pkl\n",
      "../results/linearprobe_50epochs_paper_final2/robust_convnext_base_caltech101_CLASSIC_AT.pkl\n",
      "../results/linearprobe_50epochs_paper_final2/vit_base_patch16_224.augreg_in1k_caltech101_CLASSIC_AT.pkl\n",
      "../results/linearprobe_50epochs_paper_final2/vit_base_patch16_224.augreg_in21k_caltech101_CLASSIC_AT.pkl\n",
      "../results/linearprobe_50epochs_paper_final2/vit_base_patch16_clip_224.laion2b_caltech101_CLASSIC_AT.pkl\n",
      "../results/linearprobe_50epochs_paper_final2/convnext_tiny.fb_in1k_caltech101_CLASSIC_AT.pkl\n",
      "../results/linearprobe_50epochs_paper_final2/robust_convnext_tiny_caltech101_CLASSIC_AT.pkl\n",
      "../results/linearprobe_50epochs_paper_final2/robust_deit_small_patch16_224_caltech101_CLASSIC_AT.pkl\n",
      "../results/linearprobe_50epochs_paper_final2/vit_small_patch16_224.augreg_in1k_caltech101_CLASSIC_AT.pkl\n",
      "../results/linearprobe_50epochs_paper_final2/convnext_tiny.fb_in22k_caltech101_CLASSIC_AT.pkl\n",
      "../results/linearprobe_50epochs_paper_final2/vit_base_patch16_clip_224.laion2b_ft_in1k_caltech101_CLASSIC_AT.pkl\n",
      "../results/linearprobe_50epochs_paper_final2/vit_base_patch16_224.augreg_in21k_ft_in1k_caltech101_CLASSIC_AT.pkl\n",
      "../results/linearprobe_50epochs_paper_final2/vit_small_patch16_224.augreg_in21k_ft_in1k_caltech101_CLASSIC_AT.pkl\n",
      "../results/linearprobe_50epochs_paper_final2/eva02_base_patch14_224.mim_in22k_caltech101_CLASSIC_AT.pkl\n",
      "../results/linearprobe_50epochs_paper_final2/eva02_tiny_patch14_224.mim_in22k_caltech101_CLASSIC_AT.pkl\n",
      "../results/linearprobe_50epochs_paper_final2/swin_base_patch4_window7_224.ms_in22k_ft_in1k_caltech101_CLASSIC_AT.pkl\n",
      "../results/linearprobe_50epochs_paper_final2/swin_tiny_patch4_window7_224.ms_in1k_caltech101_CLASSIC_AT.pkl\n",
      "../results/linearprobe_50epochs_paper_final2/convnext_base.clip_laion2b_augreg_ft_in12k_in1k_caltech101_CLASSIC_AT.pkl\n",
      "../results/linearprobe_50epochs_paper_final2/convnext_base.fb_in22k_ft_in1k_caltech101_CLASSIC_AT.pkl\n",
      "../results/linearprobe_50epochs_paper_final2/convnext_tiny.fb_in22k_ft_in1k_caltech101_CLASSIC_AT.pkl\n",
      "../results/linearprobe_50epochs_paper_final2/coatnet_0_rw_224.sw_in1k_caltech101_CLASSIC_AT.pkl\n",
      "../results/linearprobe_50epochs_paper_final2/coatnet_2_rw_224.sw_in12k_ft_in1k_caltech101_CLASSIC_AT.pkl\n",
      "../results/linearprobe_50epochs_paper_final2/coatnet_2_rw_224.sw_in12k_caltech101_CLASSIC_AT.pkl\n",
      "../results/linearprobe_50epochs_paper_final2/regnetx_004.pycls_in1k_caltech101_CLASSIC_AT.pkl\n",
      "HEY\n",
      "../results/linearprobe_50epochs_edge_paper_final2/regnetx_004.pycls_in1k_caltech101_CLASSIC_AT.pkl\n",
      "../results/linearprobe_50epochs_paper_final2/efficientnet-b0_caltech101_CLASSIC_AT.pkl\n",
      "HEY\n",
      "../results/linearprobe_50epochs_edge_paper_final2/efficientnet-b0_caltech101_CLASSIC_AT.pkl\n",
      "../results/linearprobe_50epochs_paper_final2/deit_tiny_patch16_224.fb_in1k_caltech101_CLASSIC_AT.pkl\n",
      "HEY\n",
      "../results/linearprobe_50epochs_edge_paper_final2/deit_tiny_patch16_224.fb_in1k_caltech101_CLASSIC_AT.pkl\n",
      "../results/linearprobe_50epochs_paper_final2/mobilevit-small_caltech101_CLASSIC_AT.pkl\n",
      "HEY\n",
      "../results/linearprobe_50epochs_edge_paper_final2/mobilevit-small_caltech101_CLASSIC_AT.pkl\n",
      "../results/linearprobe_50epochs_paper_final2/mobilenetv3_large_100.ra_in1k_caltech101_CLASSIC_AT.pkl\n",
      "HEY\n",
      "../results/linearprobe_50epochs_edge_paper_final2/mobilenetv3_large_100.ra_in1k_caltech101_CLASSIC_AT.pkl\n",
      "../results/linearprobe_50epochs_paper_final2/edgenext_small.usi_in1k_caltech101_CLASSIC_AT.pkl\n",
      "HEY\n",
      "../results/linearprobe_50epochs_edge_paper_final2/edgenext_small.usi_in1k_caltech101_CLASSIC_AT.pkl\n",
      "../results/linearprobe_50epochs_paper_final2/coat_tiny.in1k_caltech101_CLASSIC_AT.pkl\n",
      "HEY\n",
      "../results/linearprobe_50epochs_edge_paper_final2/coat_tiny.in1k_caltech101_CLASSIC_AT.pkl\n",
      "../results/linearprobe_50epochs_paper_final2/CLIP-convnext_base_w-laion_aesthetic-s13B-b82K_fgvc-aircraft-2013b_CLASSIC_AT.pkl\n",
      "../results/linearprobe_50epochs_paper_final2/CLIP-convnext_base_w-laion2B-s13B-b82K_fgvc-aircraft-2013b_CLASSIC_AT.pkl\n",
      "../results/linearprobe_50epochs_paper_final2/deit_small_patch16_224.fb_in1k_fgvc-aircraft-2013b_CLASSIC_AT.pkl\n",
      "../results/linearprobe_50epochs_paper_final2/robust_resnet50_fgvc-aircraft-2013b_CLASSIC_AT.pkl\n",
      "../results/linearprobe_50epochs_paper_final2/vit_small_patch16_224.augreg_in21k_fgvc-aircraft-2013b_CLASSIC_AT.pkl\n",
      "../results/linearprobe_50epochs_paper_final2/convnext_base.fb_in1k_fgvc-aircraft-2013b_CLASSIC_AT.pkl\n",
      "../results/linearprobe_50epochs_paper_final2/resnet50.a1_in1k_fgvc-aircraft-2013b_CLASSIC_AT.pkl\n",
      "../results/linearprobe_50epochs_paper_final2/robust_vit_base_patch16_224_fgvc-aircraft-2013b_CLASSIC_AT.pkl\n",
      "../results/linearprobe_50epochs_paper_final2/vit_base_patch16_224.mae_fgvc-aircraft-2013b_CLASSIC_AT.pkl\n",
      "../results/linearprobe_50epochs_paper_final2/vit_small_patch16_224.dino_fgvc-aircraft-2013b_CLASSIC_AT.pkl\n",
      "../results/linearprobe_50epochs_paper_final2/convnext_base.fb_in22k_fgvc-aircraft-2013b_CLASSIC_AT.pkl\n",
      "../results/linearprobe_50epochs_paper_final2/robust_convnext_base_fgvc-aircraft-2013b_CLASSIC_AT.pkl\n",
      "../results/linearprobe_50epochs_paper_final2/vit_base_patch16_224.augreg_in1k_fgvc-aircraft-2013b_CLASSIC_AT.pkl\n",
      "../results/linearprobe_50epochs_paper_final2/vit_base_patch16_224.augreg_in21k_fgvc-aircraft-2013b_CLASSIC_AT.pkl\n",
      "../results/linearprobe_50epochs_paper_final2/vit_base_patch16_clip_224.laion2b_fgvc-aircraft-2013b_CLASSIC_AT.pkl\n",
      "../results/linearprobe_50epochs_paper_final2/convnext_tiny.fb_in1k_fgvc-aircraft-2013b_CLASSIC_AT.pkl\n",
      "../results/linearprobe_50epochs_paper_final2/robust_convnext_tiny_fgvc-aircraft-2013b_CLASSIC_AT.pkl\n",
      "../results/linearprobe_50epochs_paper_final2/robust_deit_small_patch16_224_fgvc-aircraft-2013b_CLASSIC_AT.pkl\n",
      "../results/linearprobe_50epochs_paper_final2/vit_small_patch16_224.augreg_in1k_fgvc-aircraft-2013b_CLASSIC_AT.pkl\n",
      "../results/linearprobe_50epochs_paper_final2/convnext_tiny.fb_in22k_fgvc-aircraft-2013b_CLASSIC_AT.pkl\n",
      "../results/linearprobe_50epochs_paper_final2/vit_base_patch16_clip_224.laion2b_ft_in1k_fgvc-aircraft-2013b_CLASSIC_AT.pkl\n",
      "../results/linearprobe_50epochs_paper_final2/vit_base_patch16_224.augreg_in21k_ft_in1k_fgvc-aircraft-2013b_CLASSIC_AT.pkl\n",
      "../results/linearprobe_50epochs_paper_final2/vit_small_patch16_224.augreg_in21k_ft_in1k_fgvc-aircraft-2013b_CLASSIC_AT.pkl\n",
      "../results/linearprobe_50epochs_paper_final2/eva02_base_patch14_224.mim_in22k_fgvc-aircraft-2013b_CLASSIC_AT.pkl\n",
      "../results/linearprobe_50epochs_paper_final2/eva02_tiny_patch14_224.mim_in22k_fgvc-aircraft-2013b_CLASSIC_AT.pkl\n",
      "../results/linearprobe_50epochs_paper_final2/swin_base_patch4_window7_224.ms_in22k_ft_in1k_fgvc-aircraft-2013b_CLASSIC_AT.pkl\n",
      "../results/linearprobe_50epochs_paper_final2/swin_tiny_patch4_window7_224.ms_in1k_fgvc-aircraft-2013b_CLASSIC_AT.pkl\n",
      "../results/linearprobe_50epochs_paper_final2/convnext_base.clip_laion2b_augreg_ft_in12k_in1k_fgvc-aircraft-2013b_CLASSIC_AT.pkl\n",
      "../results/linearprobe_50epochs_paper_final2/convnext_base.fb_in22k_ft_in1k_fgvc-aircraft-2013b_CLASSIC_AT.pkl\n",
      "../results/linearprobe_50epochs_paper_final2/convnext_tiny.fb_in22k_ft_in1k_fgvc-aircraft-2013b_CLASSIC_AT.pkl\n",
      "../results/linearprobe_50epochs_paper_final2/coatnet_0_rw_224.sw_in1k_fgvc-aircraft-2013b_CLASSIC_AT.pkl\n",
      "../results/linearprobe_50epochs_paper_final2/coatnet_2_rw_224.sw_in12k_ft_in1k_fgvc-aircraft-2013b_CLASSIC_AT.pkl\n",
      "../results/linearprobe_50epochs_paper_final2/coatnet_2_rw_224.sw_in12k_fgvc-aircraft-2013b_CLASSIC_AT.pkl\n",
      "../results/linearprobe_50epochs_paper_final2/regnetx_004.pycls_in1k_fgvc-aircraft-2013b_CLASSIC_AT.pkl\n",
      "HEY\n",
      "../results/linearprobe_50epochs_edge_paper_final2/regnetx_004.pycls_in1k_fgvc-aircraft-2013b_CLASSIC_AT.pkl\n",
      "../results/linearprobe_50epochs_paper_final2/efficientnet-b0_fgvc-aircraft-2013b_CLASSIC_AT.pkl\n",
      "HEY\n",
      "../results/linearprobe_50epochs_edge_paper_final2/efficientnet-b0_fgvc-aircraft-2013b_CLASSIC_AT.pkl\n",
      "../results/linearprobe_50epochs_paper_final2/deit_tiny_patch16_224.fb_in1k_fgvc-aircraft-2013b_CLASSIC_AT.pkl\n",
      "HEY\n",
      "../results/linearprobe_50epochs_edge_paper_final2/deit_tiny_patch16_224.fb_in1k_fgvc-aircraft-2013b_CLASSIC_AT.pkl\n",
      "../results/linearprobe_50epochs_paper_final2/mobilevit-small_fgvc-aircraft-2013b_CLASSIC_AT.pkl\n",
      "HEY\n",
      "../results/linearprobe_50epochs_edge_paper_final2/mobilevit-small_fgvc-aircraft-2013b_CLASSIC_AT.pkl\n",
      "../results/linearprobe_50epochs_paper_final2/mobilenetv3_large_100.ra_in1k_fgvc-aircraft-2013b_CLASSIC_AT.pkl\n",
      "HEY\n",
      "../results/linearprobe_50epochs_edge_paper_final2/mobilenetv3_large_100.ra_in1k_fgvc-aircraft-2013b_CLASSIC_AT.pkl\n",
      "../results/linearprobe_50epochs_paper_final2/edgenext_small.usi_in1k_fgvc-aircraft-2013b_CLASSIC_AT.pkl\n",
      "HEY\n",
      "../results/linearprobe_50epochs_edge_paper_final2/edgenext_small.usi_in1k_fgvc-aircraft-2013b_CLASSIC_AT.pkl\n",
      "../results/linearprobe_50epochs_paper_final2/coat_tiny.in1k_fgvc-aircraft-2013b_CLASSIC_AT.pkl\n",
      "HEY\n",
      "../results/linearprobe_50epochs_edge_paper_final2/coat_tiny.in1k_fgvc-aircraft-2013b_CLASSIC_AT.pkl\n",
      "../results/linearprobe_50epochs_paper_final2/CLIP-convnext_base_w-laion_aesthetic-s13B-b82K_flowers-102_CLASSIC_AT.pkl\n",
      "../results/linearprobe_50epochs_paper_final2/CLIP-convnext_base_w-laion2B-s13B-b82K_flowers-102_CLASSIC_AT.pkl\n",
      "../results/linearprobe_50epochs_paper_final2/deit_small_patch16_224.fb_in1k_flowers-102_CLASSIC_AT.pkl\n",
      "../results/linearprobe_50epochs_paper_final2/robust_resnet50_flowers-102_CLASSIC_AT.pkl\n",
      "../results/linearprobe_50epochs_paper_final2/vit_small_patch16_224.augreg_in21k_flowers-102_CLASSIC_AT.pkl\n",
      "../results/linearprobe_50epochs_paper_final2/convnext_base.fb_in1k_flowers-102_CLASSIC_AT.pkl\n",
      "../results/linearprobe_50epochs_paper_final2/resnet50.a1_in1k_flowers-102_CLASSIC_AT.pkl\n",
      "../results/linearprobe_50epochs_paper_final2/robust_vit_base_patch16_224_flowers-102_CLASSIC_AT.pkl\n",
      "../results/linearprobe_50epochs_paper_final2/vit_base_patch16_224.mae_flowers-102_CLASSIC_AT.pkl\n",
      "../results/linearprobe_50epochs_paper_final2/vit_small_patch16_224.dino_flowers-102_CLASSIC_AT.pkl\n",
      "../results/linearprobe_50epochs_paper_final2/convnext_base.fb_in22k_flowers-102_CLASSIC_AT.pkl\n",
      "../results/linearprobe_50epochs_paper_final2/robust_convnext_base_flowers-102_CLASSIC_AT.pkl\n",
      "../results/linearprobe_50epochs_paper_final2/vit_base_patch16_224.augreg_in1k_flowers-102_CLASSIC_AT.pkl\n",
      "../results/linearprobe_50epochs_paper_final2/vit_base_patch16_224.augreg_in21k_flowers-102_CLASSIC_AT.pkl\n",
      "../results/linearprobe_50epochs_paper_final2/vit_base_patch16_clip_224.laion2b_flowers-102_CLASSIC_AT.pkl\n",
      "../results/linearprobe_50epochs_paper_final2/convnext_tiny.fb_in1k_flowers-102_CLASSIC_AT.pkl\n",
      "../results/linearprobe_50epochs_paper_final2/robust_convnext_tiny_flowers-102_CLASSIC_AT.pkl\n",
      "../results/linearprobe_50epochs_paper_final2/robust_deit_small_patch16_224_flowers-102_CLASSIC_AT.pkl\n",
      "../results/linearprobe_50epochs_paper_final2/vit_small_patch16_224.augreg_in1k_flowers-102_CLASSIC_AT.pkl\n",
      "../results/linearprobe_50epochs_paper_final2/convnext_tiny.fb_in22k_flowers-102_CLASSIC_AT.pkl\n",
      "../results/linearprobe_50epochs_paper_final2/vit_base_patch16_clip_224.laion2b_ft_in1k_flowers-102_CLASSIC_AT.pkl\n",
      "../results/linearprobe_50epochs_paper_final2/vit_base_patch16_224.augreg_in21k_ft_in1k_flowers-102_CLASSIC_AT.pkl\n",
      "../results/linearprobe_50epochs_paper_final2/vit_small_patch16_224.augreg_in21k_ft_in1k_flowers-102_CLASSIC_AT.pkl\n",
      "../results/linearprobe_50epochs_paper_final2/eva02_base_patch14_224.mim_in22k_flowers-102_CLASSIC_AT.pkl\n",
      "../results/linearprobe_50epochs_paper_final2/eva02_tiny_patch14_224.mim_in22k_flowers-102_CLASSIC_AT.pkl\n",
      "../results/linearprobe_50epochs_paper_final2/swin_base_patch4_window7_224.ms_in22k_ft_in1k_flowers-102_CLASSIC_AT.pkl\n",
      "../results/linearprobe_50epochs_paper_final2/swin_tiny_patch4_window7_224.ms_in1k_flowers-102_CLASSIC_AT.pkl\n",
      "../results/linearprobe_50epochs_paper_final2/convnext_base.clip_laion2b_augreg_ft_in12k_in1k_flowers-102_CLASSIC_AT.pkl\n",
      "../results/linearprobe_50epochs_paper_final2/convnext_base.fb_in22k_ft_in1k_flowers-102_CLASSIC_AT.pkl\n",
      "../results/linearprobe_50epochs_paper_final2/convnext_tiny.fb_in22k_ft_in1k_flowers-102_CLASSIC_AT.pkl\n",
      "../results/linearprobe_50epochs_paper_final2/coatnet_0_rw_224.sw_in1k_flowers-102_CLASSIC_AT.pkl\n",
      "../results/linearprobe_50epochs_paper_final2/coatnet_2_rw_224.sw_in12k_ft_in1k_flowers-102_CLASSIC_AT.pkl\n",
      "../results/linearprobe_50epochs_paper_final2/coatnet_2_rw_224.sw_in12k_flowers-102_CLASSIC_AT.pkl\n",
      "../results/linearprobe_50epochs_paper_final2/regnetx_004.pycls_in1k_flowers-102_CLASSIC_AT.pkl\n",
      "HEY\n",
      "../results/linearprobe_50epochs_edge_paper_final2/regnetx_004.pycls_in1k_flowers-102_CLASSIC_AT.pkl\n",
      "../results/linearprobe_50epochs_paper_final2/efficientnet-b0_flowers-102_CLASSIC_AT.pkl\n",
      "HEY\n",
      "../results/linearprobe_50epochs_edge_paper_final2/efficientnet-b0_flowers-102_CLASSIC_AT.pkl\n",
      "../results/linearprobe_50epochs_paper_final2/deit_tiny_patch16_224.fb_in1k_flowers-102_CLASSIC_AT.pkl\n",
      "HEY\n",
      "../results/linearprobe_50epochs_edge_paper_final2/deit_tiny_patch16_224.fb_in1k_flowers-102_CLASSIC_AT.pkl\n",
      "../results/linearprobe_50epochs_paper_final2/mobilevit-small_flowers-102_CLASSIC_AT.pkl\n",
      "HEY\n",
      "../results/linearprobe_50epochs_edge_paper_final2/mobilevit-small_flowers-102_CLASSIC_AT.pkl\n",
      "../results/linearprobe_50epochs_paper_final2/mobilenetv3_large_100.ra_in1k_flowers-102_CLASSIC_AT.pkl\n",
      "HEY\n",
      "../results/linearprobe_50epochs_edge_paper_final2/mobilenetv3_large_100.ra_in1k_flowers-102_CLASSIC_AT.pkl\n",
      "../results/linearprobe_50epochs_paper_final2/edgenext_small.usi_in1k_flowers-102_CLASSIC_AT.pkl\n",
      "HEY\n",
      "../results/linearprobe_50epochs_edge_paper_final2/edgenext_small.usi_in1k_flowers-102_CLASSIC_AT.pkl\n",
      "../results/linearprobe_50epochs_paper_final2/coat_tiny.in1k_flowers-102_CLASSIC_AT.pkl\n",
      "HEY\n",
      "../results/linearprobe_50epochs_edge_paper_final2/coat_tiny.in1k_flowers-102_CLASSIC_AT.pkl\n",
      "../results/linearprobe_50epochs_paper_final2/CLIP-convnext_base_w-laion_aesthetic-s13B-b82K_oxford-iiit-pet_CLASSIC_AT.pkl\n",
      "../results/linearprobe_50epochs_paper_final2/CLIP-convnext_base_w-laion2B-s13B-b82K_oxford-iiit-pet_CLASSIC_AT.pkl\n",
      "../results/linearprobe_50epochs_paper_final2/deit_small_patch16_224.fb_in1k_oxford-iiit-pet_CLASSIC_AT.pkl\n",
      "../results/linearprobe_50epochs_paper_final2/robust_resnet50_oxford-iiit-pet_CLASSIC_AT.pkl\n",
      "../results/linearprobe_50epochs_paper_final2/vit_small_patch16_224.augreg_in21k_oxford-iiit-pet_CLASSIC_AT.pkl\n",
      "../results/linearprobe_50epochs_paper_final2/convnext_base.fb_in1k_oxford-iiit-pet_CLASSIC_AT.pkl\n",
      "../results/linearprobe_50epochs_paper_final2/resnet50.a1_in1k_oxford-iiit-pet_CLASSIC_AT.pkl\n",
      "../results/linearprobe_50epochs_paper_final2/robust_vit_base_patch16_224_oxford-iiit-pet_CLASSIC_AT.pkl\n",
      "../results/linearprobe_50epochs_paper_final2/vit_base_patch16_224.mae_oxford-iiit-pet_CLASSIC_AT.pkl\n",
      "../results/linearprobe_50epochs_paper_final2/vit_small_patch16_224.dino_oxford-iiit-pet_CLASSIC_AT.pkl\n",
      "../results/linearprobe_50epochs_paper_final2/convnext_base.fb_in22k_oxford-iiit-pet_CLASSIC_AT.pkl\n",
      "../results/linearprobe_50epochs_paper_final2/robust_convnext_base_oxford-iiit-pet_CLASSIC_AT.pkl\n",
      "../results/linearprobe_50epochs_paper_final2/vit_base_patch16_224.augreg_in1k_oxford-iiit-pet_CLASSIC_AT.pkl\n",
      "../results/linearprobe_50epochs_paper_final2/vit_base_patch16_224.augreg_in21k_oxford-iiit-pet_CLASSIC_AT.pkl\n",
      "../results/linearprobe_50epochs_paper_final2/vit_base_patch16_clip_224.laion2b_oxford-iiit-pet_CLASSIC_AT.pkl\n",
      "../results/linearprobe_50epochs_paper_final2/convnext_tiny.fb_in1k_oxford-iiit-pet_CLASSIC_AT.pkl\n",
      "../results/linearprobe_50epochs_paper_final2/robust_convnext_tiny_oxford-iiit-pet_CLASSIC_AT.pkl\n",
      "../results/linearprobe_50epochs_paper_final2/robust_deit_small_patch16_224_oxford-iiit-pet_CLASSIC_AT.pkl\n",
      "../results/linearprobe_50epochs_paper_final2/vit_small_patch16_224.augreg_in1k_oxford-iiit-pet_CLASSIC_AT.pkl\n",
      "../results/linearprobe_50epochs_paper_final2/convnext_tiny.fb_in22k_oxford-iiit-pet_CLASSIC_AT.pkl\n",
      "../results/linearprobe_50epochs_paper_final2/vit_base_patch16_clip_224.laion2b_ft_in1k_oxford-iiit-pet_CLASSIC_AT.pkl\n",
      "../results/linearprobe_50epochs_paper_final2/vit_base_patch16_224.augreg_in21k_ft_in1k_oxford-iiit-pet_CLASSIC_AT.pkl\n",
      "../results/linearprobe_50epochs_paper_final2/vit_small_patch16_224.augreg_in21k_ft_in1k_oxford-iiit-pet_CLASSIC_AT.pkl\n",
      "../results/linearprobe_50epochs_paper_final2/eva02_base_patch14_224.mim_in22k_oxford-iiit-pet_CLASSIC_AT.pkl\n",
      "../results/linearprobe_50epochs_paper_final2/eva02_tiny_patch14_224.mim_in22k_oxford-iiit-pet_CLASSIC_AT.pkl\n",
      "../results/linearprobe_50epochs_paper_final2/swin_base_patch4_window7_224.ms_in22k_ft_in1k_oxford-iiit-pet_CLASSIC_AT.pkl\n",
      "../results/linearprobe_50epochs_paper_final2/swin_tiny_patch4_window7_224.ms_in1k_oxford-iiit-pet_CLASSIC_AT.pkl\n",
      "../results/linearprobe_50epochs_paper_final2/convnext_base.clip_laion2b_augreg_ft_in12k_in1k_oxford-iiit-pet_CLASSIC_AT.pkl\n",
      "../results/linearprobe_50epochs_paper_final2/convnext_base.fb_in22k_ft_in1k_oxford-iiit-pet_CLASSIC_AT.pkl\n",
      "../results/linearprobe_50epochs_paper_final2/convnext_tiny.fb_in22k_ft_in1k_oxford-iiit-pet_CLASSIC_AT.pkl\n",
      "../results/linearprobe_50epochs_paper_final2/coatnet_0_rw_224.sw_in1k_oxford-iiit-pet_CLASSIC_AT.pkl\n",
      "../results/linearprobe_50epochs_paper_final2/coatnet_2_rw_224.sw_in12k_ft_in1k_oxford-iiit-pet_CLASSIC_AT.pkl\n",
      "../results/linearprobe_50epochs_paper_final2/coatnet_2_rw_224.sw_in12k_oxford-iiit-pet_CLASSIC_AT.pkl\n",
      "../results/linearprobe_50epochs_paper_final2/regnetx_004.pycls_in1k_oxford-iiit-pet_CLASSIC_AT.pkl\n",
      "HEY\n",
      "../results/linearprobe_50epochs_edge_paper_final2/regnetx_004.pycls_in1k_oxford-iiit-pet_CLASSIC_AT.pkl\n",
      "../results/linearprobe_50epochs_paper_final2/efficientnet-b0_oxford-iiit-pet_CLASSIC_AT.pkl\n",
      "HEY\n",
      "../results/linearprobe_50epochs_edge_paper_final2/efficientnet-b0_oxford-iiit-pet_CLASSIC_AT.pkl\n",
      "../results/linearprobe_50epochs_paper_final2/deit_tiny_patch16_224.fb_in1k_oxford-iiit-pet_CLASSIC_AT.pkl\n",
      "HEY\n",
      "../results/linearprobe_50epochs_edge_paper_final2/deit_tiny_patch16_224.fb_in1k_oxford-iiit-pet_CLASSIC_AT.pkl\n",
      "../results/linearprobe_50epochs_paper_final2/mobilevit-small_oxford-iiit-pet_CLASSIC_AT.pkl\n",
      "HEY\n",
      "../results/linearprobe_50epochs_edge_paper_final2/mobilevit-small_oxford-iiit-pet_CLASSIC_AT.pkl\n",
      "../results/linearprobe_50epochs_paper_final2/mobilenetv3_large_100.ra_in1k_oxford-iiit-pet_CLASSIC_AT.pkl\n",
      "HEY\n",
      "../results/linearprobe_50epochs_edge_paper_final2/mobilenetv3_large_100.ra_in1k_oxford-iiit-pet_CLASSIC_AT.pkl\n",
      "../results/linearprobe_50epochs_paper_final2/edgenext_small.usi_in1k_oxford-iiit-pet_CLASSIC_AT.pkl\n",
      "HEY\n",
      "../results/linearprobe_50epochs_edge_paper_final2/edgenext_small.usi_in1k_oxford-iiit-pet_CLASSIC_AT.pkl\n",
      "../results/linearprobe_50epochs_paper_final2/coat_tiny.in1k_oxford-iiit-pet_CLASSIC_AT.pkl\n",
      "HEY\n",
      "../results/linearprobe_50epochs_edge_paper_final2/coat_tiny.in1k_oxford-iiit-pet_CLASSIC_AT.pkl\n"
     ]
    }
   ],
   "source": [
    "import pickle\n",
    "# import omegaconf\n",
    "import warnings\n",
    "import pickle\n",
    "import numpy as np\n",
    "warnings.filterwarnings(\"ignore\", category=DeprecationWarning)\n",
    "\n",
    "from load_results import load_result_dataset\n",
    "import pandas as pd\n",
    "pn1 = 'linearprobe_50epochs_edge_paper_final2'\n",
    "pn2 = 'linearprobe_50epochs_paper_final2'\n",
    "\n",
    "final_data = load_result_dataset(pn1, pn2)\n",
    "final_data = [{**d, 'ft_strategy': 'LP (50 epochs)'} for d in final_data]\n"
   ]
  },
  {
   "cell_type": "code",
   "execution_count": 4,
   "metadata": {},
   "outputs": [
    {
     "name": "stdout",
     "output_type": "stream",
     "text": [
      "Percentage of NaN values: 0.00%\n",
      "-0.3909694956206584 -0.48596902862505864\n",
      "0.48123195380173245 0.3878975950349108\n"
     ]
    }
   ],
   "source": [
    "from process_database import process_grouped_df, process_rankings, compute_odds_ratio_by_group\n",
    "\n",
    "grouped_df = process_grouped_df(final_data,   )\n",
    "grouped_df = process_rankings(grouped_df)\n",
    "grouped_df = grouped_df[ ('TOTAL', )].reset_index()\n",
    "\n",
    "# Filter for large architectures\n",
    "large_models = grouped_df[ (grouped_df['model_size'] == 'medium') & (grouped_df['pre_training_strategy'] == 'supervised (robust)') ]\n",
    "medium1 = large_models['borda'].mean()\n",
    "large_models = grouped_df[ (grouped_df['model_size'] == 'large') & (grouped_df['pre_training_strategy'] == 'supervised (robust)') ]\n",
    "large1 = large_models['borda'].mean()\n",
    "rate_a = (large1 - medium1) / medium1\n",
    "rate_b = (large1 - medium1) / ((large1 + medium1) / 2)\n",
    "print(rate_a, rate_b)\n",
    "\n",
    "\n",
    "large_models = grouped_df[ (grouped_df['model_size'] == 'medium') & (grouped_df['pre_training_strategy'] == 'supervised (multistep)') ]\n",
    "medium2 = large_models['borda'].mean()\n",
    "large_models = grouped_df[ (grouped_df['model_size'] == 'large') & (grouped_df['pre_training_strategy'] == 'supervised (multistep)') ]\n",
    "large2 = large_models['borda'].mean()\n",
    "rate_a = (large2 - medium2) / medium2\n",
    "rate_b = (large2 - medium2) / ((large2 + medium2) / 2)\n",
    "print(rate_a, rate_b)"
   ]
  },
  {
   "cell_type": "code",
   "execution_count": 2,
   "metadata": {},
   "outputs": [
    {
     "name": "stdout",
     "output_type": "stream",
     "text": [
      "Percentage of NaN values, for small architecture: 0.0\n",
      "Percentage of NaN values, for medium architecture: 0.0\n",
      "Percentage of NaN values, for large architecture: 0.0\n"
     ]
    }
   ],
   "source": [
    "df = pd.DataFrame(final_data)\n",
    "for arch_size in ('small', 'medium', 'large'):\n",
    "    df_curr = df[ df.model_size == arch_size ]\n",
    "    nan_percentage = (df_curr.isna().sum().sum() / df_curr.size) * 100\n",
    "    print(\"Percentage of NaN values, for {} architecture: {}\".format(arch_size, nan_percentage) )"
   ]
  },
  {
   "cell_type": "code",
   "execution_count": 3,
   "metadata": {},
   "outputs": [
    {
     "data": {
      "text/html": [
       "<div>\n",
       "<style scoped>\n",
       "    .dataframe tbody tr th:only-of-type {\n",
       "        vertical-align: middle;\n",
       "    }\n",
       "\n",
       "    .dataframe tbody tr th {\n",
       "        vertical-align: top;\n",
       "    }\n",
       "\n",
       "    .dataframe thead th {\n",
       "        text-align: right;\n",
       "    }\n",
       "</style>\n",
       "<table border=\"1\" class=\"dataframe\">\n",
       "  <thead>\n",
       "    <tr style=\"text-align: right;\">\n",
       "      <th></th>\n",
       "      <th>backbone</th>\n",
       "      <th>dataset</th>\n",
       "      <th>loss_function</th>\n",
       "      <th>restart_from</th>\n",
       "    </tr>\n",
       "  </thead>\n",
       "  <tbody>\n",
       "  </tbody>\n",
       "</table>\n",
       "</div>"
      ],
      "text/plain": [
       "Empty DataFrame\n",
       "Columns: [backbone, dataset, loss_function, restart_from]\n",
       "Index: []"
      ]
     },
     "execution_count": 3,
     "metadata": {},
     "output_type": "execute_result"
    }
   ],
   "source": [
    "import pandas as pd\n",
    "import yaml\n",
    "\n",
    "df = pd.DataFrame(final_data)\n",
    "df = df[df[\"model_size\"].isin(['small', 'medium', 'large'])]\n",
    "# df.to_csv(\"./{}.csv\".format(\"result_with_missing_values_max\"))\n",
    "\n",
    "def get_restart_job(row):\n",
    "    is_missing = lambda col: pd.isna(row[col])\n",
    "\n",
    "    missing = {col: is_missing(col) for col in ['clean_acc', 'Linf_acc', 'L1_acc', 'L2_acc', 'common_acc']}\n",
    "\n",
    "    if all(missing.values()):\n",
    "        return \"job1_hpo.sh\"\n",
    "    elif not missing['clean_acc'] and not missing['Linf_acc'] and missing['L1_acc']:\n",
    "        return \"job4_test_l1.sh\"\n",
    "    elif not missing['clean_acc'] and not missing['Linf_acc'] and not missing['L1_acc'] and missing['L2_acc']:\n",
    "        return \"job5_test_l2.sh\"\n",
    "    elif not missing['clean_acc'] and not missing['Linf_acc'] and not missing['L1_acc'] and not missing['L2_acc'] and missing['common_acc']:\n",
    "        return \"job6_test_common.sh\"\n",
    "    else:\n",
    "        return None  # means no job needs to be restarted\n",
    "\n",
    "df['restart_from'] = df.apply(get_restart_job, axis=1)\n",
    "\n",
    "to_restart = df[df['restart_from'].notna()][['backbone', 'dataset', 'loss_function', 'restart_from']]\n",
    "# to_restart = to_restart[ to_restart.restart_from == \"job1_hpo.sh\" ]\n",
    "to_restart.to_csv(\"./to_relaunch_jonas.csv\")\n",
    "to_restart\n"
   ]
  },
  {
   "cell_type": "code",
   "execution_count": 10,
   "metadata": {},
   "outputs": [
    {
     "name": "stdout",
     "output_type": "stream",
     "text": [
      "Percentage of NaN values: 0.00%\n"
     ]
    },
    {
     "data": {
      "application/vnd.plotly.v1+json": {
       "config": {
        "plotlyServerURL": "https://plot.ly"
       },
       "data": [
        {
         "line": {
          "color": "#9e9ac8",
          "dash": "solid",
          "width": 2
         },
         "mode": "lines",
         "name": "edgenext_small.usi_in1k (edgenetx_s,sup,in1k)",
         "r": [
          0,
          0,
          0,
          2.5195555555555558,
          2.0929523809523807,
          0
         ],
         "theta": [
          "T(1)",
          "T(2)",
          "T(∞)",
          "T(∅)",
          "T(cmn)",
          "T(1)"
         ],
         "type": "scatterpolar"
        },
        {
         "line": {
          "color": "#674ba0",
          "dash": "solid",
          "width": 2
         },
         "mode": "lines",
         "name": "mobilenetv3_large_100.ra_in1k (mobilenet_v3,sup,in1k)",
         "r": [
          0.023380952380952384,
          0,
          0,
          2.1070952380952384,
          1.6951904761904764,
          0.023380952380952384
         ],
         "theta": [
          "T(1)",
          "T(2)",
          "T(∞)",
          "T(∅)",
          "T(cmn)",
          "T(1)"
         ],
         "type": "scatterpolar"
        },
        {
         "line": {
          "color": "#fd8c3b",
          "dash": "solid",
          "width": 2
         },
         "mode": "lines",
         "name": "deit_tiny_patch16_224.fb_in1k (deit_t,sup,in1k)",
         "r": [
          0,
          0,
          0,
          1.9797619047619048,
          1.555238095238095,
          0
         ],
         "theta": [
          "T(1)",
          "T(2)",
          "T(∞)",
          "T(∅)",
          "T(cmn)",
          "T(1)"
         ],
         "type": "scatterpolar"
        },
        {
         "line": {
          "color": "#674ba0",
          "dash": "solid",
          "width": 2
         },
         "mode": "lines",
         "name": "mobilenetv3_large_100.ra_in1k (mobilenet_v3,sup,in1k)",
         "r": [
          0.001,
          0,
          0,
          1.8935714285714287,
          1.5107142857142861,
          0.001
         ],
         "theta": [
          "T(1)",
          "T(2)",
          "T(∞)",
          "T(∅)",
          "T(cmn)",
          "T(1)"
         ],
         "type": "scatterpolar"
        },
        {
         "line": {
          "color": "#4f1f8b",
          "dash": "solid",
          "width": 2
         },
         "mode": "lines",
         "name": "regnetx_004.pycls_in1k (regnetx_004,sup,in1k)",
         "r": [
          0.018,
          0,
          0,
          1.4792380952380952,
          1.1682857142857144,
          0.018
         ],
         "theta": [
          "T(1)",
          "T(2)",
          "T(∞)",
          "T(∅)",
          "T(cmn)",
          "T(1)"
         ],
         "type": "scatterpolar"
        },
        {
         "line": {
          "color": "#4f1f8b",
          "dash": "solid",
          "width": 2
         },
         "mode": "lines",
         "name": "regnetx_004.pycls_in1k (regnetx_004,sup,in1k)",
         "r": [
          0,
          0,
          0,
          1.208936507936508,
          0.9072380952380952,
          0
         ],
         "theta": [
          "T(1)",
          "T(2)",
          "T(∞)",
          "T(∅)",
          "T(cmn)",
          "T(1)"
         ],
         "type": "scatterpolar"
        },
        {
         "line": {
          "color": "#73c476",
          "dash": "solid",
          "width": 2
         },
         "mode": "lines",
         "name": "coat_tiny.in1k (coat_t,sup,in1k)",
         "r": [
          0,
          0,
          0,
          0.8606666666666667,
          0.6014761904761905,
          0
         ],
         "theta": [
          "T(1)",
          "T(2)",
          "T(∞)",
          "T(∅)",
          "T(cmn)",
          "T(1)"
         ],
         "type": "scatterpolar"
        },
        {
         "line": {
          "color": "#9e9ac8",
          "dash": "solid",
          "width": 2
         },
         "mode": "lines",
         "name": "edgenext_small.usi_in1k (edgenetx_s,sup,in1k)",
         "r": [
          0,
          0,
          0,
          0.6449523809523809,
          0.5804761904761905,
          0
         ],
         "theta": [
          "T(1)",
          "T(2)",
          "T(∞)",
          "T(∅)",
          "T(cmn)",
          "T(1)"
         ],
         "type": "scatterpolar"
        },
        {
         "line": {
          "color": "#fd8c3b",
          "dash": "solid",
          "width": 2
         },
         "mode": "lines",
         "name": "deit_tiny_patch16_224.fb_in1k (deit_t,sup,in1k)",
         "r": [
          0,
          0,
          0,
          0.5622857142857143,
          0.5104285714285715,
          0
         ],
         "theta": [
          "T(1)",
          "T(2)",
          "T(∞)",
          "T(∅)",
          "T(cmn)",
          "T(1)"
         ],
         "type": "scatterpolar"
        },
        {
         "line": {
          "color": "#7e79b8",
          "dash": "solid",
          "width": 2
         },
         "mode": "lines",
         "name": "efficientnet-b0 (efficientnet_b0,sup,in1k)",
         "r": [
          0.19861904761904764,
          0.19161904761904763,
          0.19661904761904764,
          0.19661904761904764,
          0.19161904761904763,
          0.19861904761904764
         ],
         "theta": [
          "T(1)",
          "T(2)",
          "T(∞)",
          "T(∅)",
          "T(cmn)",
          "T(1)"
         ],
         "type": "scatterpolar"
        },
        {
         "line": {
          "color": "#7e79b8",
          "dash": "solid",
          "width": 2
         },
         "mode": "lines",
         "name": "efficientnet-b0 (efficientnet_b0,sup,in1k)",
         "r": [
          0.11461904761904762,
          0.11261904761904762,
          0.11461904761904762,
          0.11461904761904762,
          0.08604761904761905,
          0.11461904761904762
         ],
         "theta": [
          "T(1)",
          "T(2)",
          "T(∞)",
          "T(∅)",
          "T(cmn)",
          "T(1)"
         ],
         "type": "scatterpolar"
        },
        {
         "line": {
          "color": "#73c476",
          "dash": "solid",
          "width": 2
         },
         "mode": "lines",
         "name": "coat_tiny.in1k (coat_t,sup,in1k)",
         "r": [
          0,
          0,
          0,
          0.1779047619047619,
          0.17495238095238094,
          0
         ],
         "theta": [
          "T(1)",
          "T(2)",
          "T(∞)",
          "T(∅)",
          "T(cmn)",
          "T(1)"
         ],
         "type": "scatterpolar"
        },
        {
         "line": {
          "color": "#006428",
          "dash": "solid",
          "width": 2
         },
         "mode": "lines",
         "name": "mobilevit-small (mobilevit_s,sup,in1k)",
         "r": [
          0.05404761904761905,
          0.011761904761904762,
          0,
          0.1250952380952381,
          0.126,
          0.05404761904761905
         ],
         "theta": [
          "T(1)",
          "T(2)",
          "T(∞)",
          "T(∅)",
          "T(cmn)",
          "T(1)"
         ],
         "type": "scatterpolar"
        },
        {
         "line": {
          "color": "#006428",
          "dash": "solid",
          "width": 2
         },
         "mode": "lines",
         "name": "mobilevit-small (mobilevit_s,sup,in1k)",
         "r": [
          0.03980952380952381,
          0.01,
          0.004,
          0.10949206349206347,
          0.11714285714285715,
          0.03980952380952381
         ],
         "theta": [
          "T(1)",
          "T(2)",
          "T(∞)",
          "T(∅)",
          "T(cmn)",
          "T(1)"
         ],
         "type": "scatterpolar"
        }
       ],
       "layout": {
        "font": {
         "color": "black"
        },
        "height": 400,
        "legend": {
         "bgcolor": "rgba(255,255,255,0.9)",
         "bordercolor": "lightgrey",
         "borderwidth": 1,
         "font": {
          "size": 11
         },
         "x": 0,
         "xanchor": "left",
         "y": 1,
         "yanchor": "top"
        },
        "margin": {
         "b": 25,
         "l": 40,
         "r": 25,
         "t": 25
        },
        "paper_bgcolor": "white",
        "plot_bgcolor": "white",
        "polar": {
         "angularaxis": {
          "direction": "clockwise",
          "gridcolor": "lightgrey",
          "gridwidth": 0.5,
          "linecolor": "lightgrey",
          "linewidth": 1,
          "showline": true
         },
         "bgcolor": "white",
         "radialaxis": {
          "gridcolor": "lightgrey",
          "gridwidth": 0.5,
          "linecolor": "lightgrey",
          "linewidth": 1,
          "range": [
           0,
           4.5
          ],
          "showline": true,
          "visible": true
         }
        },
        "showlegend": false,
        "template": {
         "data": {
          "bar": [
           {
            "error_x": {
             "color": "#2a3f5f"
            },
            "error_y": {
             "color": "#2a3f5f"
            },
            "marker": {
             "line": {
              "color": "#E5ECF6",
              "width": 0.5
             },
             "pattern": {
              "fillmode": "overlay",
              "size": 10,
              "solidity": 0.2
             }
            },
            "type": "bar"
           }
          ],
          "barpolar": [
           {
            "marker": {
             "line": {
              "color": "#E5ECF6",
              "width": 0.5
             },
             "pattern": {
              "fillmode": "overlay",
              "size": 10,
              "solidity": 0.2
             }
            },
            "type": "barpolar"
           }
          ],
          "carpet": [
           {
            "aaxis": {
             "endlinecolor": "#2a3f5f",
             "gridcolor": "white",
             "linecolor": "white",
             "minorgridcolor": "white",
             "startlinecolor": "#2a3f5f"
            },
            "baxis": {
             "endlinecolor": "#2a3f5f",
             "gridcolor": "white",
             "linecolor": "white",
             "minorgridcolor": "white",
             "startlinecolor": "#2a3f5f"
            },
            "type": "carpet"
           }
          ],
          "choropleth": [
           {
            "colorbar": {
             "outlinewidth": 0,
             "ticks": ""
            },
            "type": "choropleth"
           }
          ],
          "contour": [
           {
            "colorbar": {
             "outlinewidth": 0,
             "ticks": ""
            },
            "colorscale": [
             [
              0,
              "#0d0887"
             ],
             [
              0.1111111111111111,
              "#46039f"
             ],
             [
              0.2222222222222222,
              "#7201a8"
             ],
             [
              0.3333333333333333,
              "#9c179e"
             ],
             [
              0.4444444444444444,
              "#bd3786"
             ],
             [
              0.5555555555555556,
              "#d8576b"
             ],
             [
              0.6666666666666666,
              "#ed7953"
             ],
             [
              0.7777777777777778,
              "#fb9f3a"
             ],
             [
              0.8888888888888888,
              "#fdca26"
             ],
             [
              1,
              "#f0f921"
             ]
            ],
            "type": "contour"
           }
          ],
          "contourcarpet": [
           {
            "colorbar": {
             "outlinewidth": 0,
             "ticks": ""
            },
            "type": "contourcarpet"
           }
          ],
          "heatmap": [
           {
            "colorbar": {
             "outlinewidth": 0,
             "ticks": ""
            },
            "colorscale": [
             [
              0,
              "#0d0887"
             ],
             [
              0.1111111111111111,
              "#46039f"
             ],
             [
              0.2222222222222222,
              "#7201a8"
             ],
             [
              0.3333333333333333,
              "#9c179e"
             ],
             [
              0.4444444444444444,
              "#bd3786"
             ],
             [
              0.5555555555555556,
              "#d8576b"
             ],
             [
              0.6666666666666666,
              "#ed7953"
             ],
             [
              0.7777777777777778,
              "#fb9f3a"
             ],
             [
              0.8888888888888888,
              "#fdca26"
             ],
             [
              1,
              "#f0f921"
             ]
            ],
            "type": "heatmap"
           }
          ],
          "heatmapgl": [
           {
            "colorbar": {
             "outlinewidth": 0,
             "ticks": ""
            },
            "colorscale": [
             [
              0,
              "#0d0887"
             ],
             [
              0.1111111111111111,
              "#46039f"
             ],
             [
              0.2222222222222222,
              "#7201a8"
             ],
             [
              0.3333333333333333,
              "#9c179e"
             ],
             [
              0.4444444444444444,
              "#bd3786"
             ],
             [
              0.5555555555555556,
              "#d8576b"
             ],
             [
              0.6666666666666666,
              "#ed7953"
             ],
             [
              0.7777777777777778,
              "#fb9f3a"
             ],
             [
              0.8888888888888888,
              "#fdca26"
             ],
             [
              1,
              "#f0f921"
             ]
            ],
            "type": "heatmapgl"
           }
          ],
          "histogram": [
           {
            "marker": {
             "pattern": {
              "fillmode": "overlay",
              "size": 10,
              "solidity": 0.2
             }
            },
            "type": "histogram"
           }
          ],
          "histogram2d": [
           {
            "colorbar": {
             "outlinewidth": 0,
             "ticks": ""
            },
            "colorscale": [
             [
              0,
              "#0d0887"
             ],
             [
              0.1111111111111111,
              "#46039f"
             ],
             [
              0.2222222222222222,
              "#7201a8"
             ],
             [
              0.3333333333333333,
              "#9c179e"
             ],
             [
              0.4444444444444444,
              "#bd3786"
             ],
             [
              0.5555555555555556,
              "#d8576b"
             ],
             [
              0.6666666666666666,
              "#ed7953"
             ],
             [
              0.7777777777777778,
              "#fb9f3a"
             ],
             [
              0.8888888888888888,
              "#fdca26"
             ],
             [
              1,
              "#f0f921"
             ]
            ],
            "type": "histogram2d"
           }
          ],
          "histogram2dcontour": [
           {
            "colorbar": {
             "outlinewidth": 0,
             "ticks": ""
            },
            "colorscale": [
             [
              0,
              "#0d0887"
             ],
             [
              0.1111111111111111,
              "#46039f"
             ],
             [
              0.2222222222222222,
              "#7201a8"
             ],
             [
              0.3333333333333333,
              "#9c179e"
             ],
             [
              0.4444444444444444,
              "#bd3786"
             ],
             [
              0.5555555555555556,
              "#d8576b"
             ],
             [
              0.6666666666666666,
              "#ed7953"
             ],
             [
              0.7777777777777778,
              "#fb9f3a"
             ],
             [
              0.8888888888888888,
              "#fdca26"
             ],
             [
              1,
              "#f0f921"
             ]
            ],
            "type": "histogram2dcontour"
           }
          ],
          "mesh3d": [
           {
            "colorbar": {
             "outlinewidth": 0,
             "ticks": ""
            },
            "type": "mesh3d"
           }
          ],
          "parcoords": [
           {
            "line": {
             "colorbar": {
              "outlinewidth": 0,
              "ticks": ""
             }
            },
            "type": "parcoords"
           }
          ],
          "pie": [
           {
            "automargin": true,
            "type": "pie"
           }
          ],
          "scatter": [
           {
            "fillpattern": {
             "fillmode": "overlay",
             "size": 10,
             "solidity": 0.2
            },
            "type": "scatter"
           }
          ],
          "scatter3d": [
           {
            "line": {
             "colorbar": {
              "outlinewidth": 0,
              "ticks": ""
             }
            },
            "marker": {
             "colorbar": {
              "outlinewidth": 0,
              "ticks": ""
             }
            },
            "type": "scatter3d"
           }
          ],
          "scattercarpet": [
           {
            "marker": {
             "colorbar": {
              "outlinewidth": 0,
              "ticks": ""
             }
            },
            "type": "scattercarpet"
           }
          ],
          "scattergeo": [
           {
            "marker": {
             "colorbar": {
              "outlinewidth": 0,
              "ticks": ""
             }
            },
            "type": "scattergeo"
           }
          ],
          "scattergl": [
           {
            "marker": {
             "colorbar": {
              "outlinewidth": 0,
              "ticks": ""
             }
            },
            "type": "scattergl"
           }
          ],
          "scattermapbox": [
           {
            "marker": {
             "colorbar": {
              "outlinewidth": 0,
              "ticks": ""
             }
            },
            "type": "scattermapbox"
           }
          ],
          "scatterpolar": [
           {
            "marker": {
             "colorbar": {
              "outlinewidth": 0,
              "ticks": ""
             }
            },
            "type": "scatterpolar"
           }
          ],
          "scatterpolargl": [
           {
            "marker": {
             "colorbar": {
              "outlinewidth": 0,
              "ticks": ""
             }
            },
            "type": "scatterpolargl"
           }
          ],
          "scatterternary": [
           {
            "marker": {
             "colorbar": {
              "outlinewidth": 0,
              "ticks": ""
             }
            },
            "type": "scatterternary"
           }
          ],
          "surface": [
           {
            "colorbar": {
             "outlinewidth": 0,
             "ticks": ""
            },
            "colorscale": [
             [
              0,
              "#0d0887"
             ],
             [
              0.1111111111111111,
              "#46039f"
             ],
             [
              0.2222222222222222,
              "#7201a8"
             ],
             [
              0.3333333333333333,
              "#9c179e"
             ],
             [
              0.4444444444444444,
              "#bd3786"
             ],
             [
              0.5555555555555556,
              "#d8576b"
             ],
             [
              0.6666666666666666,
              "#ed7953"
             ],
             [
              0.7777777777777778,
              "#fb9f3a"
             ],
             [
              0.8888888888888888,
              "#fdca26"
             ],
             [
              1,
              "#f0f921"
             ]
            ],
            "type": "surface"
           }
          ],
          "table": [
           {
            "cells": {
             "fill": {
              "color": "#EBF0F8"
             },
             "line": {
              "color": "white"
             }
            },
            "header": {
             "fill": {
              "color": "#C8D4E3"
             },
             "line": {
              "color": "white"
             }
            },
            "type": "table"
           }
          ]
         },
         "layout": {
          "annotationdefaults": {
           "arrowcolor": "#2a3f5f",
           "arrowhead": 0,
           "arrowwidth": 1
          },
          "autotypenumbers": "strict",
          "coloraxis": {
           "colorbar": {
            "outlinewidth": 0,
            "ticks": ""
           }
          },
          "colorscale": {
           "diverging": [
            [
             0,
             "#8e0152"
            ],
            [
             0.1,
             "#c51b7d"
            ],
            [
             0.2,
             "#de77ae"
            ],
            [
             0.3,
             "#f1b6da"
            ],
            [
             0.4,
             "#fde0ef"
            ],
            [
             0.5,
             "#f7f7f7"
            ],
            [
             0.6,
             "#e6f5d0"
            ],
            [
             0.7,
             "#b8e186"
            ],
            [
             0.8,
             "#7fbc41"
            ],
            [
             0.9,
             "#4d9221"
            ],
            [
             1,
             "#276419"
            ]
           ],
           "sequential": [
            [
             0,
             "#0d0887"
            ],
            [
             0.1111111111111111,
             "#46039f"
            ],
            [
             0.2222222222222222,
             "#7201a8"
            ],
            [
             0.3333333333333333,
             "#9c179e"
            ],
            [
             0.4444444444444444,
             "#bd3786"
            ],
            [
             0.5555555555555556,
             "#d8576b"
            ],
            [
             0.6666666666666666,
             "#ed7953"
            ],
            [
             0.7777777777777778,
             "#fb9f3a"
            ],
            [
             0.8888888888888888,
             "#fdca26"
            ],
            [
             1,
             "#f0f921"
            ]
           ],
           "sequentialminus": [
            [
             0,
             "#0d0887"
            ],
            [
             0.1111111111111111,
             "#46039f"
            ],
            [
             0.2222222222222222,
             "#7201a8"
            ],
            [
             0.3333333333333333,
             "#9c179e"
            ],
            [
             0.4444444444444444,
             "#bd3786"
            ],
            [
             0.5555555555555556,
             "#d8576b"
            ],
            [
             0.6666666666666666,
             "#ed7953"
            ],
            [
             0.7777777777777778,
             "#fb9f3a"
            ],
            [
             0.8888888888888888,
             "#fdca26"
            ],
            [
             1,
             "#f0f921"
            ]
           ]
          },
          "colorway": [
           "#636efa",
           "#EF553B",
           "#00cc96",
           "#ab63fa",
           "#FFA15A",
           "#19d3f3",
           "#FF6692",
           "#B6E880",
           "#FF97FF",
           "#FECB52"
          ],
          "font": {
           "color": "#2a3f5f"
          },
          "geo": {
           "bgcolor": "white",
           "lakecolor": "white",
           "landcolor": "#E5ECF6",
           "showlakes": true,
           "showland": true,
           "subunitcolor": "white"
          },
          "hoverlabel": {
           "align": "left"
          },
          "hovermode": "closest",
          "mapbox": {
           "style": "light"
          },
          "paper_bgcolor": "white",
          "plot_bgcolor": "#E5ECF6",
          "polar": {
           "angularaxis": {
            "gridcolor": "white",
            "linecolor": "white",
            "ticks": ""
           },
           "bgcolor": "#E5ECF6",
           "radialaxis": {
            "gridcolor": "white",
            "linecolor": "white",
            "ticks": ""
           }
          },
          "scene": {
           "xaxis": {
            "backgroundcolor": "#E5ECF6",
            "gridcolor": "white",
            "gridwidth": 2,
            "linecolor": "white",
            "showbackground": true,
            "ticks": "",
            "zerolinecolor": "white"
           },
           "yaxis": {
            "backgroundcolor": "#E5ECF6",
            "gridcolor": "white",
            "gridwidth": 2,
            "linecolor": "white",
            "showbackground": true,
            "ticks": "",
            "zerolinecolor": "white"
           },
           "zaxis": {
            "backgroundcolor": "#E5ECF6",
            "gridcolor": "white",
            "gridwidth": 2,
            "linecolor": "white",
            "showbackground": true,
            "ticks": "",
            "zerolinecolor": "white"
           }
          },
          "shapedefaults": {
           "line": {
            "color": "#2a3f5f"
           }
          },
          "ternary": {
           "aaxis": {
            "gridcolor": "white",
            "linecolor": "white",
            "ticks": ""
           },
           "baxis": {
            "gridcolor": "white",
            "linecolor": "white",
            "ticks": ""
           },
           "bgcolor": "#E5ECF6",
           "caxis": {
            "gridcolor": "white",
            "linecolor": "white",
            "ticks": ""
           }
          },
          "title": {
           "x": 0.05
          },
          "xaxis": {
           "automargin": true,
           "gridcolor": "white",
           "linecolor": "white",
           "ticks": "",
           "title": {
            "standoff": 15
           },
           "zerolinecolor": "white",
           "zerolinewidth": 2
          },
          "yaxis": {
           "automargin": true,
           "gridcolor": "white",
           "linecolor": "white",
           "ticks": "",
           "title": {
            "standoff": 15
           },
           "zerolinecolor": "white",
           "zerolinewidth": 2
          }
         }
        },
        "width": 400
       }
      }
     },
     "metadata": {},
     "output_type": "display_data"
    },
    {
     "name": "stdout",
     "output_type": "stream",
     "text": [
      "Percentage of NaN values: 0.00%\n"
     ]
    },
    {
     "data": {
      "application/vnd.plotly.v1+json": {
       "config": {
        "plotlyServerURL": "https://plot.ly"
       },
       "data": [
        {
         "line": {
          "color": "#f26c16",
          "dash": "solid",
          "width": 2
         },
         "mode": "lines",
         "name": "robust_deit_small_patch16_224 (deit_s,rob-sup,in1k)",
         "r": [
          0.43666666666666665,
          1.3647619047619048,
          1.6433809523809526,
          3.0736190476190477,
          2.613714285714286,
          0.43666666666666665
         ],
         "theta": [
          "T(1)",
          "T(2)",
          "T(∞)",
          "T(∅)",
          "T(cmn)",
          "T(1)"
         ],
         "type": "scatterpolar"
        },
        {
         "line": {
          "color": "#5e3a98",
          "dash": "solid",
          "width": 2
         },
         "mode": "lines",
         "name": "robust_convnext_tiny (convnext_t,rob-sup,in1k)",
         "r": [
          0.2876666666666667,
          1.0286666666666666,
          1.4866666666666668,
          2.6194285714285717,
          2.1443174603174597,
          0.2876666666666667
         ],
         "theta": [
          "T(1)",
          "T(2)",
          "T(∞)",
          "T(∅)",
          "T(cmn)",
          "T(1)"
         ],
         "type": "scatterpolar"
        },
        {
         "line": {
          "color": "#f26c16",
          "dash": "solid",
          "width": 2
         },
         "mode": "lines",
         "name": "robust_deit_small_patch16_224 (deit_s,rob-sup,in1k)",
         "r": [
          0.35500000000000004,
          0.9934285714285714,
          1.2291904761904762,
          2.383666666666667,
          2.005333333333333,
          0.35500000000000004
         ],
         "theta": [
          "T(1)",
          "T(2)",
          "T(∞)",
          "T(∅)",
          "T(cmn)",
          "T(1)"
         ],
         "type": "scatterpolar"
        },
        {
         "line": {
          "color": "#8b87bf",
          "dash": "solid",
          "width": 2
         },
         "mode": "lines",
         "name": "convnext_tiny.fb_in22k (convnext_t,sup,in22k)",
         "r": [
          0.007174603174603175,
          0,
          0,
          3.6033333333333335,
          3.1759047619047616,
          0.007174603174603175
         ],
         "theta": [
          "T(1)",
          "T(2)",
          "T(∞)",
          "T(∅)",
          "T(cmn)",
          "T(1)"
         ],
         "type": "scatterpolar"
        },
        {
         "line": {
          "color": "#5e3a98",
          "dash": "solid",
          "width": 2
         },
         "mode": "lines",
         "name": "robust_convnext_tiny (convnext_t,rob-sup,in1k)",
         "r": [
          0.3921746031746032,
          0.9614285714285715,
          1.2116190476190476,
          2.104952380952381,
          1.7753333333333334,
          0.3921746031746032
         ],
         "theta": [
          "T(1)",
          "T(2)",
          "T(∞)",
          "T(∅)",
          "T(cmn)",
          "T(1)"
         ],
         "type": "scatterpolar"
        },
        {
         "line": {
          "color": "#4f1f8b",
          "dash": "solid",
          "width": 2
         },
         "mode": "lines",
         "name": "robust_resnet50 (resnet50,rob-sup,in1k)",
         "r": [
          0.117,
          0.6296666666666668,
          1.421,
          2.234142857142857,
          1.784857142857143,
          0.117
         ],
         "theta": [
          "T(1)",
          "T(2)",
          "T(∞)",
          "T(∅)",
          "T(cmn)",
          "T(1)"
         ],
         "type": "scatterpolar"
        },
        {
         "line": {
          "color": "#e85d0c",
          "dash": "solid",
          "width": 2
         },
         "mode": "lines",
         "name": "swin_tiny_patch4_window7_224.ms_in1k (swin_t,sup,in1k)",
         "r": [
          0,
          0,
          0,
          3.130793650793651,
          2.690904761904762,
          0
         ],
         "theta": [
          "T(1)",
          "T(2)",
          "T(∞)",
          "T(∅)",
          "T(cmn)",
          "T(1)"
         ],
         "type": "scatterpolar"
        },
        {
         "line": {
          "color": "#73c476",
          "dash": "solid",
          "width": 2
         },
         "mode": "lines",
         "name": "coatnet_0_rw_224.sw_in1k (coatnet_0,sup,in1k)",
         "r": [
          0.047,
          0,
          0,
          2.902428571428571,
          2.427952380952381,
          0.047
         ],
         "theta": [
          "T(1)",
          "T(2)",
          "T(∞)",
          "T(∅)",
          "T(cmn)",
          "T(1)"
         ],
         "type": "scatterpolar"
        },
        {
         "line": {
          "color": "#4f1f8b",
          "dash": "solid",
          "width": 2
         },
         "mode": "lines",
         "name": "robust_resnet50 (resnet50,rob-sup,in1k)",
         "r": [
          0.12300000000000001,
          0.557,
          1.1002222222222222,
          1.7953968253968253,
          1.4075714285714285,
          0.12300000000000001
         ],
         "theta": [
          "T(1)",
          "T(2)",
          "T(∞)",
          "T(∅)",
          "T(cmn)",
          "T(1)"
         ],
         "type": "scatterpolar"
        },
        {
         "line": {
          "color": "#9e9ac8",
          "dash": "solid",
          "width": 2
         },
         "mode": "lines",
         "name": "convnext_tiny.fb_in1k (convnext_t,sup,in1k)",
         "r": [
          0,
          0,
          0,
          2.325714285714286,
          2.0465714285714287,
          0
         ],
         "theta": [
          "T(1)",
          "T(2)",
          "T(∞)",
          "T(∅)",
          "T(cmn)",
          "T(1)"
         ],
         "type": "scatterpolar"
        },
        {
         "line": {
          "color": "#73c476",
          "dash": "solid",
          "width": 2
         },
         "mode": "lines",
         "name": "coatnet_0_rw_224.sw_in1k (coatnet_0,sup,in1k)",
         "r": [
          0.13187301587301586,
          0,
          0,
          2.128142857142857,
          1.7599999999999998,
          0.13187301587301586
         ],
         "theta": [
          "T(1)",
          "T(2)",
          "T(∞)",
          "T(∅)",
          "T(cmn)",
          "T(1)"
         ],
         "type": "scatterpolar"
        },
        {
         "line": {
          "color": "#7a71b4",
          "dash": "solid",
          "width": 2
         },
         "mode": "lines",
         "name": "convnext_tiny.fb_in22k_ft_in1k (convnext_t,sup,in22k-in1k)",
         "r": [
          0,
          0,
          0,
          2.0280476190476193,
          1.7129047619047617,
          0
         ],
         "theta": [
          "T(1)",
          "T(2)",
          "T(∞)",
          "T(∅)",
          "T(cmn)",
          "T(1)"
         ],
         "type": "scatterpolar"
        },
        {
         "line": {
          "color": "#6c54a5",
          "dash": "solid",
          "width": 2
         },
         "mode": "lines",
         "name": "resnet50.a1_in1k (resnet50,sup,in1k)",
         "r": [
          0.12100000000000001,
          0,
          0,
          1.800095238095238,
          1.548857142857143,
          0.12100000000000001
         ],
         "theta": [
          "T(1)",
          "T(2)",
          "T(∞)",
          "T(∅)",
          "T(cmn)",
          "T(1)"
         ],
         "type": "scatterpolar"
        },
        {
         "line": {
          "color": "#b33b02",
          "dash": "solid",
          "width": 2
         },
         "mode": "lines",
         "name": "vit_small_patch16_224.augreg_in21k_ft_in1k (vit_s,sup,ink22k-in1k)",
         "r": [
          0,
          0,
          0,
          1.8445714285714285,
          1.440047619047619,
          0
         ],
         "theta": [
          "T(1)",
          "T(2)",
          "T(∞)",
          "T(∅)",
          "T(cmn)",
          "T(1)"
         ],
         "type": "scatterpolar"
        },
        {
         "line": {
          "color": "#7a71b4",
          "dash": "solid",
          "width": 2
         },
         "mode": "lines",
         "name": "convnext_tiny.fb_in22k_ft_in1k (convnext_t,sup,in22k-in1k)",
         "r": [
          0.012,
          0,
          0,
          1.7320000000000002,
          1.517,
          0.012
         ],
         "theta": [
          "T(1)",
          "T(2)",
          "T(∞)",
          "T(∅)",
          "T(cmn)",
          "T(1)"
         ],
         "type": "scatterpolar"
        },
        {
         "line": {
          "color": "#e85d0c",
          "dash": "solid",
          "width": 2
         },
         "mode": "lines",
         "name": "swin_tiny_patch4_window7_224.ms_in1k (swin_t,sup,in1k)",
         "r": [
          0.003,
          0,
          0,
          1.701936507936508,
          1.5411904761904762,
          0.003
         ],
         "theta": [
          "T(1)",
          "T(2)",
          "T(∞)",
          "T(∅)",
          "T(cmn)",
          "T(1)"
         ],
         "type": "scatterpolar"
        },
        {
         "line": {
          "color": "#c94202",
          "dash": "solid",
          "width": 2
         },
         "mode": "lines",
         "name": "vit_small_patch16_224.augreg_in21k (vit_s,sup,in22k)",
         "r": [
          0.009000000000000001,
          0,
          0,
          1.7699523809523807,
          1.426761904761905,
          0.009000000000000001
         ],
         "theta": [
          "T(1)",
          "T(2)",
          "T(∞)",
          "T(∅)",
          "T(cmn)",
          "T(1)"
         ],
         "type": "scatterpolar"
        },
        {
         "line": {
          "color": "#6c54a5",
          "dash": "solid",
          "width": 2
         },
         "mode": "lines",
         "name": "resnet50.a1_in1k (resnet50,sup,in1k)",
         "r": [
          0.021333333333333333,
          0,
          0,
          1.7163333333333333,
          1.3385238095238094,
          0.021333333333333333
         ],
         "theta": [
          "T(1)",
          "T(2)",
          "T(∞)",
          "T(∅)",
          "T(cmn)",
          "T(1)"
         ],
         "type": "scatterpolar"
        },
        {
         "line": {
          "color": "#fd8c3b",
          "dash": "solid",
          "width": 2
         },
         "mode": "lines",
         "name": "deit_small_patch16_224.fb_in1k (deit_s,sup,in1k)",
         "r": [
          0,
          0,
          0,
          1.626984126984127,
          1.3384126984126983,
          0
         ],
         "theta": [
          "T(1)",
          "T(2)",
          "T(∞)",
          "T(∅)",
          "T(cmn)",
          "T(1)"
         ],
         "type": "scatterpolar"
        },
        {
         "line": {
          "color": "#c94202",
          "dash": "solid",
          "width": 2
         },
         "mode": "lines",
         "name": "vit_small_patch16_224.augreg_in21k (vit_s,sup,in22k)",
         "r": [
          0.001,
          0,
          0,
          1.5964285714285715,
          1.1953333333333334,
          0.001
         ],
         "theta": [
          "T(1)",
          "T(2)",
          "T(∞)",
          "T(∅)",
          "T(cmn)",
          "T(1)"
         ],
         "type": "scatterpolar"
        },
        {
         "line": {
          "color": "#b33b02",
          "dash": "solid",
          "width": 2
         },
         "mode": "lines",
         "name": "vit_small_patch16_224.augreg_in21k_ft_in1k (vit_s,sup,ink22k-in1k)",
         "r": [
          0.0013333333333333333,
          0,
          0,
          1.4693333333333334,
          1.2782698412698417,
          0.0013333333333333333
         ],
         "theta": [
          "T(1)",
          "T(2)",
          "T(∞)",
          "T(∅)",
          "T(cmn)",
          "T(1)"
         ],
         "type": "scatterpolar"
        },
        {
         "line": {
          "color": "#9e3303",
          "dash": "solid",
          "width": 2
         },
         "mode": "lines",
         "name": "vit_small_patch16_224.dino (vit_b,dino,in1k)",
         "r": [
          0.02422222222222222,
          0.004761904761904762,
          0,
          1.4123809523809525,
          1.2023809523809526,
          0.02422222222222222
         ],
         "theta": [
          "T(1)",
          "T(2)",
          "T(∞)",
          "T(∅)",
          "T(cmn)",
          "T(1)"
         ],
         "type": "scatterpolar"
        },
        {
         "line": {
          "color": "#f87d29",
          "dash": "solid",
          "width": 2
         },
         "mode": "lines",
         "name": "eva02_tiny_patch14_224.mim_in22k (eva02_b,mim,ink22k)",
         "r": [
          0,
          0,
          0,
          1.389888888888889,
          1.038904761904762,
          0
         ],
         "theta": [
          "T(1)",
          "T(2)",
          "T(∞)",
          "T(∅)",
          "T(cmn)",
          "T(1)"
         ],
         "type": "scatterpolar"
        },
        {
         "line": {
          "color": "#dd4d04",
          "dash": "solid",
          "width": 2
         },
         "mode": "lines",
         "name": "vit_small_patch16_224.augreg_in1k (vit_s,sup,in1k)",
         "r": [
          0,
          0,
          0,
          1.3339047619047621,
          1.026904761904762,
          0
         ],
         "theta": [
          "T(1)",
          "T(2)",
          "T(∞)",
          "T(∅)",
          "T(cmn)",
          "T(1)"
         ],
         "type": "scatterpolar"
        },
        {
         "line": {
          "color": "#9e9ac8",
          "dash": "solid",
          "width": 2
         },
         "mode": "lines",
         "name": "convnext_tiny.fb_in1k (convnext_t,sup,in1k)",
         "r": [
          0.0013333333333333333,
          0,
          0,
          1.090142857142857,
          0.9762857142857143,
          0.0013333333333333333
         ],
         "theta": [
          "T(1)",
          "T(2)",
          "T(∞)",
          "T(∅)",
          "T(cmn)",
          "T(1)"
         ],
         "type": "scatterpolar"
        },
        {
         "line": {
          "color": "#dd4d04",
          "dash": "solid",
          "width": 2
         },
         "mode": "lines",
         "name": "vit_small_patch16_224.augreg_in1k (vit_s,sup,in1k)",
         "r": [
          0.028,
          0,
          0,
          1.074095238095238,
          0.945952380952381,
          0.028
         ],
         "theta": [
          "T(1)",
          "T(2)",
          "T(∞)",
          "T(∅)",
          "T(cmn)",
          "T(1)"
         ],
         "type": "scatterpolar"
        },
        {
         "line": {
          "color": "#8b87bf",
          "dash": "solid",
          "width": 2
         },
         "mode": "lines",
         "name": "convnext_tiny.fb_in22k (convnext_t,sup,in22k)",
         "r": [
          0.008,
          0,
          0,
          0.9952539682539683,
          0.9170476190476191,
          0.008
         ],
         "theta": [
          "T(1)",
          "T(2)",
          "T(∞)",
          "T(∅)",
          "T(cmn)",
          "T(1)"
         ],
         "type": "scatterpolar"
        },
        {
         "line": {
          "color": "#fd8c3b",
          "dash": "solid",
          "width": 2
         },
         "mode": "lines",
         "name": "deit_small_patch16_224.fb_in1k (deit_s,sup,in1k)",
         "r": [
          0,
          0,
          0,
          0.9489047619047619,
          0.756904761904762,
          0
         ],
         "theta": [
          "T(1)",
          "T(2)",
          "T(∞)",
          "T(∅)",
          "T(cmn)",
          "T(1)"
         ],
         "type": "scatterpolar"
        },
        {
         "line": {
          "color": "#f87d29",
          "dash": "solid",
          "width": 2
         },
         "mode": "lines",
         "name": "eva02_tiny_patch14_224.mim_in22k (eva02_b,mim,ink22k)",
         "r": [
          0.006,
          0,
          0,
          0.6950000000000001,
          0.6166031746031746,
          0.006
         ],
         "theta": [
          "T(1)",
          "T(2)",
          "T(∞)",
          "T(∅)",
          "T(cmn)",
          "T(1)"
         ],
         "type": "scatterpolar"
        },
        {
         "line": {
          "color": "#9e3303",
          "dash": "solid",
          "width": 2
         },
         "mode": "lines",
         "name": "vit_small_patch16_224.dino (vit_b,dino,in1k)",
         "r": [
          0,
          0,
          0,
          0.2853333333333333,
          0.2729206349206349,
          0
         ],
         "theta": [
          "T(1)",
          "T(2)",
          "T(∞)",
          "T(∅)",
          "T(cmn)",
          "T(1)"
         ],
         "type": "scatterpolar"
        }
       ],
       "layout": {
        "font": {
         "color": "black"
        },
        "height": 400,
        "legend": {
         "bgcolor": "rgba(255,255,255,0.9)",
         "bordercolor": "lightgrey",
         "borderwidth": 1,
         "font": {
          "size": 11
         },
         "x": 0,
         "xanchor": "left",
         "y": 1,
         "yanchor": "top"
        },
        "margin": {
         "b": 25,
         "l": 40,
         "r": 25,
         "t": 25
        },
        "paper_bgcolor": "white",
        "plot_bgcolor": "white",
        "polar": {
         "angularaxis": {
          "direction": "clockwise",
          "gridcolor": "lightgrey",
          "gridwidth": 0.5,
          "linecolor": "lightgrey",
          "linewidth": 1,
          "showline": true
         },
         "bgcolor": "white",
         "radialaxis": {
          "gridcolor": "lightgrey",
          "gridwidth": 0.5,
          "linecolor": "lightgrey",
          "linewidth": 1,
          "range": [
           0,
           4.5
          ],
          "showline": true,
          "visible": true
         }
        },
        "showlegend": false,
        "template": {
         "data": {
          "bar": [
           {
            "error_x": {
             "color": "#2a3f5f"
            },
            "error_y": {
             "color": "#2a3f5f"
            },
            "marker": {
             "line": {
              "color": "#E5ECF6",
              "width": 0.5
             },
             "pattern": {
              "fillmode": "overlay",
              "size": 10,
              "solidity": 0.2
             }
            },
            "type": "bar"
           }
          ],
          "barpolar": [
           {
            "marker": {
             "line": {
              "color": "#E5ECF6",
              "width": 0.5
             },
             "pattern": {
              "fillmode": "overlay",
              "size": 10,
              "solidity": 0.2
             }
            },
            "type": "barpolar"
           }
          ],
          "carpet": [
           {
            "aaxis": {
             "endlinecolor": "#2a3f5f",
             "gridcolor": "white",
             "linecolor": "white",
             "minorgridcolor": "white",
             "startlinecolor": "#2a3f5f"
            },
            "baxis": {
             "endlinecolor": "#2a3f5f",
             "gridcolor": "white",
             "linecolor": "white",
             "minorgridcolor": "white",
             "startlinecolor": "#2a3f5f"
            },
            "type": "carpet"
           }
          ],
          "choropleth": [
           {
            "colorbar": {
             "outlinewidth": 0,
             "ticks": ""
            },
            "type": "choropleth"
           }
          ],
          "contour": [
           {
            "colorbar": {
             "outlinewidth": 0,
             "ticks": ""
            },
            "colorscale": [
             [
              0,
              "#0d0887"
             ],
             [
              0.1111111111111111,
              "#46039f"
             ],
             [
              0.2222222222222222,
              "#7201a8"
             ],
             [
              0.3333333333333333,
              "#9c179e"
             ],
             [
              0.4444444444444444,
              "#bd3786"
             ],
             [
              0.5555555555555556,
              "#d8576b"
             ],
             [
              0.6666666666666666,
              "#ed7953"
             ],
             [
              0.7777777777777778,
              "#fb9f3a"
             ],
             [
              0.8888888888888888,
              "#fdca26"
             ],
             [
              1,
              "#f0f921"
             ]
            ],
            "type": "contour"
           }
          ],
          "contourcarpet": [
           {
            "colorbar": {
             "outlinewidth": 0,
             "ticks": ""
            },
            "type": "contourcarpet"
           }
          ],
          "heatmap": [
           {
            "colorbar": {
             "outlinewidth": 0,
             "ticks": ""
            },
            "colorscale": [
             [
              0,
              "#0d0887"
             ],
             [
              0.1111111111111111,
              "#46039f"
             ],
             [
              0.2222222222222222,
              "#7201a8"
             ],
             [
              0.3333333333333333,
              "#9c179e"
             ],
             [
              0.4444444444444444,
              "#bd3786"
             ],
             [
              0.5555555555555556,
              "#d8576b"
             ],
             [
              0.6666666666666666,
              "#ed7953"
             ],
             [
              0.7777777777777778,
              "#fb9f3a"
             ],
             [
              0.8888888888888888,
              "#fdca26"
             ],
             [
              1,
              "#f0f921"
             ]
            ],
            "type": "heatmap"
           }
          ],
          "heatmapgl": [
           {
            "colorbar": {
             "outlinewidth": 0,
             "ticks": ""
            },
            "colorscale": [
             [
              0,
              "#0d0887"
             ],
             [
              0.1111111111111111,
              "#46039f"
             ],
             [
              0.2222222222222222,
              "#7201a8"
             ],
             [
              0.3333333333333333,
              "#9c179e"
             ],
             [
              0.4444444444444444,
              "#bd3786"
             ],
             [
              0.5555555555555556,
              "#d8576b"
             ],
             [
              0.6666666666666666,
              "#ed7953"
             ],
             [
              0.7777777777777778,
              "#fb9f3a"
             ],
             [
              0.8888888888888888,
              "#fdca26"
             ],
             [
              1,
              "#f0f921"
             ]
            ],
            "type": "heatmapgl"
           }
          ],
          "histogram": [
           {
            "marker": {
             "pattern": {
              "fillmode": "overlay",
              "size": 10,
              "solidity": 0.2
             }
            },
            "type": "histogram"
           }
          ],
          "histogram2d": [
           {
            "colorbar": {
             "outlinewidth": 0,
             "ticks": ""
            },
            "colorscale": [
             [
              0,
              "#0d0887"
             ],
             [
              0.1111111111111111,
              "#46039f"
             ],
             [
              0.2222222222222222,
              "#7201a8"
             ],
             [
              0.3333333333333333,
              "#9c179e"
             ],
             [
              0.4444444444444444,
              "#bd3786"
             ],
             [
              0.5555555555555556,
              "#d8576b"
             ],
             [
              0.6666666666666666,
              "#ed7953"
             ],
             [
              0.7777777777777778,
              "#fb9f3a"
             ],
             [
              0.8888888888888888,
              "#fdca26"
             ],
             [
              1,
              "#f0f921"
             ]
            ],
            "type": "histogram2d"
           }
          ],
          "histogram2dcontour": [
           {
            "colorbar": {
             "outlinewidth": 0,
             "ticks": ""
            },
            "colorscale": [
             [
              0,
              "#0d0887"
             ],
             [
              0.1111111111111111,
              "#46039f"
             ],
             [
              0.2222222222222222,
              "#7201a8"
             ],
             [
              0.3333333333333333,
              "#9c179e"
             ],
             [
              0.4444444444444444,
              "#bd3786"
             ],
             [
              0.5555555555555556,
              "#d8576b"
             ],
             [
              0.6666666666666666,
              "#ed7953"
             ],
             [
              0.7777777777777778,
              "#fb9f3a"
             ],
             [
              0.8888888888888888,
              "#fdca26"
             ],
             [
              1,
              "#f0f921"
             ]
            ],
            "type": "histogram2dcontour"
           }
          ],
          "mesh3d": [
           {
            "colorbar": {
             "outlinewidth": 0,
             "ticks": ""
            },
            "type": "mesh3d"
           }
          ],
          "parcoords": [
           {
            "line": {
             "colorbar": {
              "outlinewidth": 0,
              "ticks": ""
             }
            },
            "type": "parcoords"
           }
          ],
          "pie": [
           {
            "automargin": true,
            "type": "pie"
           }
          ],
          "scatter": [
           {
            "fillpattern": {
             "fillmode": "overlay",
             "size": 10,
             "solidity": 0.2
            },
            "type": "scatter"
           }
          ],
          "scatter3d": [
           {
            "line": {
             "colorbar": {
              "outlinewidth": 0,
              "ticks": ""
             }
            },
            "marker": {
             "colorbar": {
              "outlinewidth": 0,
              "ticks": ""
             }
            },
            "type": "scatter3d"
           }
          ],
          "scattercarpet": [
           {
            "marker": {
             "colorbar": {
              "outlinewidth": 0,
              "ticks": ""
             }
            },
            "type": "scattercarpet"
           }
          ],
          "scattergeo": [
           {
            "marker": {
             "colorbar": {
              "outlinewidth": 0,
              "ticks": ""
             }
            },
            "type": "scattergeo"
           }
          ],
          "scattergl": [
           {
            "marker": {
             "colorbar": {
              "outlinewidth": 0,
              "ticks": ""
             }
            },
            "type": "scattergl"
           }
          ],
          "scattermapbox": [
           {
            "marker": {
             "colorbar": {
              "outlinewidth": 0,
              "ticks": ""
             }
            },
            "type": "scattermapbox"
           }
          ],
          "scatterpolar": [
           {
            "marker": {
             "colorbar": {
              "outlinewidth": 0,
              "ticks": ""
             }
            },
            "type": "scatterpolar"
           }
          ],
          "scatterpolargl": [
           {
            "marker": {
             "colorbar": {
              "outlinewidth": 0,
              "ticks": ""
             }
            },
            "type": "scatterpolargl"
           }
          ],
          "scatterternary": [
           {
            "marker": {
             "colorbar": {
              "outlinewidth": 0,
              "ticks": ""
             }
            },
            "type": "scatterternary"
           }
          ],
          "surface": [
           {
            "colorbar": {
             "outlinewidth": 0,
             "ticks": ""
            },
            "colorscale": [
             [
              0,
              "#0d0887"
             ],
             [
              0.1111111111111111,
              "#46039f"
             ],
             [
              0.2222222222222222,
              "#7201a8"
             ],
             [
              0.3333333333333333,
              "#9c179e"
             ],
             [
              0.4444444444444444,
              "#bd3786"
             ],
             [
              0.5555555555555556,
              "#d8576b"
             ],
             [
              0.6666666666666666,
              "#ed7953"
             ],
             [
              0.7777777777777778,
              "#fb9f3a"
             ],
             [
              0.8888888888888888,
              "#fdca26"
             ],
             [
              1,
              "#f0f921"
             ]
            ],
            "type": "surface"
           }
          ],
          "table": [
           {
            "cells": {
             "fill": {
              "color": "#EBF0F8"
             },
             "line": {
              "color": "white"
             }
            },
            "header": {
             "fill": {
              "color": "#C8D4E3"
             },
             "line": {
              "color": "white"
             }
            },
            "type": "table"
           }
          ]
         },
         "layout": {
          "annotationdefaults": {
           "arrowcolor": "#2a3f5f",
           "arrowhead": 0,
           "arrowwidth": 1
          },
          "autotypenumbers": "strict",
          "coloraxis": {
           "colorbar": {
            "outlinewidth": 0,
            "ticks": ""
           }
          },
          "colorscale": {
           "diverging": [
            [
             0,
             "#8e0152"
            ],
            [
             0.1,
             "#c51b7d"
            ],
            [
             0.2,
             "#de77ae"
            ],
            [
             0.3,
             "#f1b6da"
            ],
            [
             0.4,
             "#fde0ef"
            ],
            [
             0.5,
             "#f7f7f7"
            ],
            [
             0.6,
             "#e6f5d0"
            ],
            [
             0.7,
             "#b8e186"
            ],
            [
             0.8,
             "#7fbc41"
            ],
            [
             0.9,
             "#4d9221"
            ],
            [
             1,
             "#276419"
            ]
           ],
           "sequential": [
            [
             0,
             "#0d0887"
            ],
            [
             0.1111111111111111,
             "#46039f"
            ],
            [
             0.2222222222222222,
             "#7201a8"
            ],
            [
             0.3333333333333333,
             "#9c179e"
            ],
            [
             0.4444444444444444,
             "#bd3786"
            ],
            [
             0.5555555555555556,
             "#d8576b"
            ],
            [
             0.6666666666666666,
             "#ed7953"
            ],
            [
             0.7777777777777778,
             "#fb9f3a"
            ],
            [
             0.8888888888888888,
             "#fdca26"
            ],
            [
             1,
             "#f0f921"
            ]
           ],
           "sequentialminus": [
            [
             0,
             "#0d0887"
            ],
            [
             0.1111111111111111,
             "#46039f"
            ],
            [
             0.2222222222222222,
             "#7201a8"
            ],
            [
             0.3333333333333333,
             "#9c179e"
            ],
            [
             0.4444444444444444,
             "#bd3786"
            ],
            [
             0.5555555555555556,
             "#d8576b"
            ],
            [
             0.6666666666666666,
             "#ed7953"
            ],
            [
             0.7777777777777778,
             "#fb9f3a"
            ],
            [
             0.8888888888888888,
             "#fdca26"
            ],
            [
             1,
             "#f0f921"
            ]
           ]
          },
          "colorway": [
           "#636efa",
           "#EF553B",
           "#00cc96",
           "#ab63fa",
           "#FFA15A",
           "#19d3f3",
           "#FF6692",
           "#B6E880",
           "#FF97FF",
           "#FECB52"
          ],
          "font": {
           "color": "#2a3f5f"
          },
          "geo": {
           "bgcolor": "white",
           "lakecolor": "white",
           "landcolor": "#E5ECF6",
           "showlakes": true,
           "showland": true,
           "subunitcolor": "white"
          },
          "hoverlabel": {
           "align": "left"
          },
          "hovermode": "closest",
          "mapbox": {
           "style": "light"
          },
          "paper_bgcolor": "white",
          "plot_bgcolor": "#E5ECF6",
          "polar": {
           "angularaxis": {
            "gridcolor": "white",
            "linecolor": "white",
            "ticks": ""
           },
           "bgcolor": "#E5ECF6",
           "radialaxis": {
            "gridcolor": "white",
            "linecolor": "white",
            "ticks": ""
           }
          },
          "scene": {
           "xaxis": {
            "backgroundcolor": "#E5ECF6",
            "gridcolor": "white",
            "gridwidth": 2,
            "linecolor": "white",
            "showbackground": true,
            "ticks": "",
            "zerolinecolor": "white"
           },
           "yaxis": {
            "backgroundcolor": "#E5ECF6",
            "gridcolor": "white",
            "gridwidth": 2,
            "linecolor": "white",
            "showbackground": true,
            "ticks": "",
            "zerolinecolor": "white"
           },
           "zaxis": {
            "backgroundcolor": "#E5ECF6",
            "gridcolor": "white",
            "gridwidth": 2,
            "linecolor": "white",
            "showbackground": true,
            "ticks": "",
            "zerolinecolor": "white"
           }
          },
          "shapedefaults": {
           "line": {
            "color": "#2a3f5f"
           }
          },
          "ternary": {
           "aaxis": {
            "gridcolor": "white",
            "linecolor": "white",
            "ticks": ""
           },
           "baxis": {
            "gridcolor": "white",
            "linecolor": "white",
            "ticks": ""
           },
           "bgcolor": "#E5ECF6",
           "caxis": {
            "gridcolor": "white",
            "linecolor": "white",
            "ticks": ""
           }
          },
          "title": {
           "x": 0.05
          },
          "xaxis": {
           "automargin": true,
           "gridcolor": "white",
           "linecolor": "white",
           "ticks": "",
           "title": {
            "standoff": 15
           },
           "zerolinecolor": "white",
           "zerolinewidth": 2
          },
          "yaxis": {
           "automargin": true,
           "gridcolor": "white",
           "linecolor": "white",
           "ticks": "",
           "title": {
            "standoff": 15
           },
           "zerolinecolor": "white",
           "zerolinewidth": 2
          }
         }
        },
        "width": 400
       }
      }
     },
     "metadata": {},
     "output_type": "display_data"
    },
    {
     "name": "stdout",
     "output_type": "stream",
     "text": [
      "Percentage of NaN values: 0.00%\n"
     ]
    },
    {
     "data": {
      "application/vnd.plotly.v1+json": {
       "config": {
        "plotlyServerURL": "https://plot.ly"
       },
       "data": [
        {
         "line": {
          "color": "#fd8c3b",
          "dash": "solid",
          "width": 2
         },
         "mode": "lines",
         "name": "eva02_base_patch14_224.mim_in22k (eva02_b,mim,ink22k)",
         "r": [
          0.073,
          0,
          0,
          4.378603174603175,
          3.661809523809524,
          0.073
         ],
         "theta": [
          "T(1)",
          "T(2)",
          "T(∞)",
          "T(∅)",
          "T(cmn)",
          "T(1)"
         ],
         "type": "scatterpolar"
        },
        {
         "line": {
          "color": "#f3701b",
          "dash": "solid",
          "width": 2
         },
         "mode": "lines",
         "name": "swin_base_patch4_window7_224.ms_in22k_ft_in1k (swin_b,sup,ink22k-in1k)",
         "r": [
          0.008,
          0,
          0,
          4.267380952380952,
          3.728476190476191,
          0.008
         ],
         "theta": [
          "T(1)",
          "T(2)",
          "T(∞)",
          "T(∅)",
          "T(cmn)",
          "T(1)"
         ],
         "type": "scatterpolar"
        },
        {
         "line": {
          "color": "#5b3495",
          "dash": "solid",
          "width": 2
         },
         "mode": "lines",
         "name": "convnext_base.fb_in22k_ft_in1k (convnext_b,sup,in22k-in1k)",
         "r": [
          0.002,
          0,
          0,
          4.151571428571429,
          3.770142857142857,
          0.002
         ],
         "theta": [
          "T(1)",
          "T(2)",
          "T(∞)",
          "T(∅)",
          "T(cmn)",
          "T(1)"
         ],
         "type": "scatterpolar"
        },
        {
         "line": {
          "color": "#9e9ac8",
          "dash": "solid",
          "width": 2
         },
         "mode": "lines",
         "name": "CLIP-convnext_base_w-laion2B-s13B-b82K (convnext_b,clip,laion2b)",
         "r": [
          0.04,
          0,
          0,
          3.9781428571428568,
          3.525190476190476,
          0.04
         ],
         "theta": [
          "T(1)",
          "T(2)",
          "T(∞)",
          "T(∅)",
          "T(cmn)",
          "T(1)"
         ],
         "type": "scatterpolar"
        },
        {
         "line": {
          "color": "#8e8ac0",
          "dash": "solid",
          "width": 2
         },
         "mode": "lines",
         "name": "CLIP-convnext_base_w-laion_aesthetic-s13B-b82K (convnext_b,clip,laiona)",
         "r": [
          0,
          0,
          0,
          3.984238095238095,
          3.3670000000000004,
          0
         ],
         "theta": [
          "T(1)",
          "T(2)",
          "T(∞)",
          "T(∅)",
          "T(cmn)",
          "T(1)"
         ],
         "type": "scatterpolar"
        },
        {
         "line": {
          "color": "#006428",
          "dash": "solid",
          "width": 2
         },
         "mode": "lines",
         "name": "coatnet_2_rw_224.sw_in12k_ft_in1k (coatnet_2,sup,in12k-in1k)",
         "r": [
          0.006666666666666667,
          0,
          0,
          3.963285714285714,
          3.1216666666666666,
          0.006666666666666667
         ],
         "theta": [
          "T(1)",
          "T(2)",
          "T(∞)",
          "T(∅)",
          "T(cmn)",
          "T(1)"
         ],
         "type": "scatterpolar"
        },
        {
         "line": {
          "color": "#674ba0",
          "dash": "solid",
          "width": 2
         },
         "mode": "lines",
         "name": "convnext_base.fb_in22k (convnext_b,sup,in22k)",
         "r": [
          0,
          0,
          0,
          3.683476190476191,
          3.353952380952381,
          0
         ],
         "theta": [
          "T(1)",
          "T(2)",
          "T(∞)",
          "T(∅)",
          "T(cmn)",
          "T(1)"
         ],
         "type": "scatterpolar"
        },
        {
         "line": {
          "color": "#9e3303",
          "dash": "solid",
          "width": 2
         },
         "mode": "lines",
         "name": "vit_base_patch16_clip_224.laion2b_ft_in1k (vit_b,clip,laion2b)",
         "r": [
          0.006,
          0,
          0,
          3.711666666666667,
          3.2179047619047623,
          0.006
         ],
         "theta": [
          "T(1)",
          "T(2)",
          "T(∞)",
          "T(∅)",
          "T(cmn)",
          "T(1)"
         ],
         "type": "scatterpolar"
        },
        {
         "line": {
          "color": "#b03903",
          "dash": "solid",
          "width": 2
         },
         "mode": "lines",
         "name": "vit_base_patch16_clip_224.laion2b (vit_b,clip,laion2b)",
         "r": [
          0.002,
          0,
          0,
          3.6742857142857144,
          2.9383333333333335,
          0.002
         ],
         "theta": [
          "T(1)",
          "T(2)",
          "T(∞)",
          "T(∅)",
          "T(cmn)",
          "T(1)"
         ],
         "type": "scatterpolar"
        },
        {
         "line": {
          "color": "#7e79b8",
          "dash": "solid",
          "width": 2
         },
         "mode": "lines",
         "name": "convnext_base.clip_laion2b_augreg_ft_in12k_in1k (convnext_b,hybrid,laion2b-in12k-in1k)",
         "r": [
          0.0026666666666666666,
          0,
          0,
          3.6515238095238094,
          2.9353492063492066,
          0.0026666666666666666
         ],
         "theta": [
          "T(1)",
          "T(2)",
          "T(∞)",
          "T(∅)",
          "T(cmn)",
          "T(1)"
         ],
         "type": "scatterpolar"
        },
        {
         "line": {
          "color": "#f3701b",
          "dash": "solid",
          "width": 2
         },
         "mode": "lines",
         "name": "swin_base_patch4_window7_224.ms_in22k_ft_in1k (swin_b,sup,ink22k-in1k)",
         "r": [
          0.032,
          0,
          0,
          3.348238095238095,
          3.0563809523809526,
          0.032
         ],
         "theta": [
          "T(1)",
          "T(2)",
          "T(∞)",
          "T(∅)",
          "T(cmn)",
          "T(1)"
         ],
         "type": "scatterpolar"
        },
        {
         "line": {
          "color": "#73c476",
          "dash": "solid",
          "width": 2
         },
         "mode": "lines",
         "name": "coatnet_2_rw_224.sw_in12k (coatnet_2,sup,in12k)",
         "r": [
          0.05333333333333334,
          0,
          0,
          3.0474285714285716,
          2.7763333333333335,
          0.05333333333333334
         ],
         "theta": [
          "T(1)",
          "T(2)",
          "T(∞)",
          "T(∅)",
          "T(cmn)",
          "T(1)"
         ],
         "type": "scatterpolar"
        },
        {
         "line": {
          "color": "#006428",
          "dash": "solid",
          "width": 2
         },
         "mode": "lines",
         "name": "coatnet_2_rw_224.sw_in12k_ft_in1k (coatnet_2,sup,in12k-in1k)",
         "r": [
          0.04933333333333333,
          0,
          0,
          3.134952380952381,
          2.6323809523809523,
          0.04933333333333333
         ],
         "theta": [
          "T(1)",
          "T(2)",
          "T(∞)",
          "T(∅)",
          "T(cmn)",
          "T(1)"
         ],
         "type": "scatterpolar"
        },
        {
         "line": {
          "color": "#674ba0",
          "dash": "solid",
          "width": 2
         },
         "mode": "lines",
         "name": "convnext_base.fb_in22k (convnext_b,sup,in22k)",
         "r": [
          0.017,
          0,
          0,
          3.06,
          2.707380952380953,
          0.017
         ],
         "theta": [
          "T(1)",
          "T(2)",
          "T(∞)",
          "T(∅)",
          "T(cmn)",
          "T(1)"
         ],
         "type": "scatterpolar"
        },
        {
         "line": {
          "color": "#9e3303",
          "dash": "solid",
          "width": 2
         },
         "mode": "lines",
         "name": "vit_base_patch16_clip_224.laion2b_ft_in1k (vit_b,clip,laion2b)",
         "r": [
          0.032,
          0,
          0,
          3.060571428571429,
          2.637904761904762,
          0.032
         ],
         "theta": [
          "T(1)",
          "T(2)",
          "T(∞)",
          "T(∅)",
          "T(cmn)",
          "T(1)"
         ],
         "type": "scatterpolar"
        },
        {
         "line": {
          "color": "#7262ac",
          "dash": "solid",
          "width": 2
         },
         "mode": "lines",
         "name": "convnext_base.fb_in1k (convnext_b,sup,in1k)",
         "r": [
          0,
          0,
          0,
          3.0473333333333334,
          2.550857142857143,
          0
         ],
         "theta": [
          "T(1)",
          "T(2)",
          "T(∞)",
          "T(∅)",
          "T(cmn)",
          "T(1)"
         ],
         "type": "scatterpolar"
        },
        {
         "line": {
          "color": "#7e79b8",
          "dash": "solid",
          "width": 2
         },
         "mode": "lines",
         "name": "convnext_base.clip_laion2b_augreg_ft_in12k_in1k (convnext_b,hybrid,laion2b-in12k-in1k)",
         "r": [
          0.014666666666666666,
          0,
          0,
          2.8715238095238096,
          2.553904761904762,
          0.014666666666666666
         ],
         "theta": [
          "T(1)",
          "T(2)",
          "T(∞)",
          "T(∅)",
          "T(cmn)",
          "T(1)"
         ],
         "type": "scatterpolar"
        },
        {
         "line": {
          "color": "#fd8c3b",
          "dash": "solid",
          "width": 2
         },
         "mode": "lines",
         "name": "eva02_base_patch14_224.mim_in22k (eva02_b,mim,ink22k)",
         "r": [
          0.12566666666666668,
          0.001,
          0,
          2.7213333333333334,
          2.3127142857142857,
          0.12566666666666668
         ],
         "theta": [
          "T(1)",
          "T(2)",
          "T(∞)",
          "T(∅)",
          "T(cmn)",
          "T(1)"
         ],
         "type": "scatterpolar"
        },
        {
         "line": {
          "color": "#73c476",
          "dash": "solid",
          "width": 2
         },
         "mode": "lines",
         "name": "coatnet_2_rw_224.sw_in12k (coatnet_2,sup,in12k)",
         "r": [
          0,
          0,
          0,
          2.666952380952381,
          2.3813492063492063,
          0
         ],
         "theta": [
          "T(1)",
          "T(2)",
          "T(∞)",
          "T(∅)",
          "T(cmn)",
          "T(1)"
         ],
         "type": "scatterpolar"
        },
        {
         "line": {
          "color": "#5b3495",
          "dash": "solid",
          "width": 2
         },
         "mode": "lines",
         "name": "convnext_base.fb_in22k_ft_in1k (convnext_b,sup,in22k-in1k)",
         "r": [
          0.010666666666666666,
          0,
          0,
          2.37247619047619,
          2.237142857142857,
          0.010666666666666666
         ],
         "theta": [
          "T(1)",
          "T(2)",
          "T(∞)",
          "T(∅)",
          "T(cmn)",
          "T(1)"
         ],
         "type": "scatterpolar"
        },
        {
         "line": {
          "color": "#ec620f",
          "dash": "solid",
          "width": 2
         },
         "mode": "lines",
         "name": "vit_base_patch16_224.augreg_in1k (vit_b,sup,in1k)",
         "r": [
          0.004,
          0,
          0,
          2.3416666666666663,
          1.994,
          0.004
         ],
         "theta": [
          "T(1)",
          "T(2)",
          "T(∞)",
          "T(∅)",
          "T(cmn)",
          "T(1)"
         ],
         "type": "scatterpolar"
        },
        {
         "line": {
          "color": "#9e9ac8",
          "dash": "solid",
          "width": 2
         },
         "mode": "lines",
         "name": "CLIP-convnext_base_w-laion2B-s13B-b82K (convnext_b,clip,laion2b)",
         "r": [
          0.101,
          0,
          0,
          2.1615238095238096,
          1.6943809523809523,
          0.101
         ],
         "theta": [
          "T(1)",
          "T(2)",
          "T(∞)",
          "T(∅)",
          "T(cmn)",
          "T(1)"
         ],
         "type": "scatterpolar"
        },
        {
         "line": {
          "color": "#b03903",
          "dash": "solid",
          "width": 2
         },
         "mode": "lines",
         "name": "vit_base_patch16_clip_224.laion2b (vit_b,clip,laion2b)",
         "r": [
          0.088,
          0,
          0,
          2.050761904761905,
          1.7054285714285715,
          0.088
         ],
         "theta": [
          "T(1)",
          "T(2)",
          "T(∞)",
          "T(∅)",
          "T(cmn)",
          "T(1)"
         ],
         "type": "scatterpolar"
        },
        {
         "line": {
          "color": "#d84801",
          "dash": "solid",
          "width": 2
         },
         "mode": "lines",
         "name": "vit_base_patch16_224.augreg_in21k_ft_in1k (vit_b,sup,ink22k-in1k)",
         "r": [
          0.032,
          0.006,
          0.0013333333333333333,
          1.9313809523809524,
          1.687936507936508,
          0.032
         ],
         "theta": [
          "T(1)",
          "T(2)",
          "T(∞)",
          "T(∅)",
          "T(cmn)",
          "T(1)"
         ],
         "type": "scatterpolar"
        },
        {
         "line": {
          "color": "#4f1f8b",
          "dash": "solid",
          "width": 2
         },
         "mode": "lines",
         "name": "robust_convnext_base (convnext_b,rob-sup,in1k)",
         "r": [
          0.24019047619047618,
          0.27861904761904766,
          0.3104126984126984,
          1.376063492063492,
          1.1843333333333335,
          0.24019047619047618
         ],
         "theta": [
          "T(1)",
          "T(2)",
          "T(∞)",
          "T(∅)",
          "T(cmn)",
          "T(1)"
         ],
         "type": "scatterpolar"
        },
        {
         "line": {
          "color": "#e25508",
          "dash": "solid",
          "width": 2
         },
         "mode": "lines",
         "name": "vit_base_patch16_224.augreg_in21k (vit_b,sup,in22k)",
         "r": [
          0.017,
          0.003,
          0.001,
          1.7194285714285713,
          1.3542380952380955,
          0.017
         ],
         "theta": [
          "T(1)",
          "T(2)",
          "T(∞)",
          "T(∅)",
          "T(cmn)",
          "T(1)"
         ],
         "type": "scatterpolar"
        },
        {
         "line": {
          "color": "#ec620f",
          "dash": "solid",
          "width": 2
         },
         "mode": "lines",
         "name": "vit_base_patch16_224.augreg_in1k (vit_b,sup,in1k)",
         "r": [
          0.049,
          0.006,
          0.0013333333333333333,
          1.553238095238095,
          1.342047619047619,
          0.049
         ],
         "theta": [
          "T(1)",
          "T(2)",
          "T(∞)",
          "T(∅)",
          "T(cmn)",
          "T(1)"
         ],
         "type": "scatterpolar"
        },
        {
         "line": {
          "color": "#7262ac",
          "dash": "solid",
          "width": 2
         },
         "mode": "lines",
         "name": "convnext_base.fb_in1k (convnext_b,sup,in1k)",
         "r": [
          0.018,
          0,
          0,
          1.5318730158730158,
          1.3167619047619048,
          0.018
         ],
         "theta": [
          "T(1)",
          "T(2)",
          "T(∞)",
          "T(∅)",
          "T(cmn)",
          "T(1)"
         ],
         "type": "scatterpolar"
        },
        {
         "line": {
          "color": "#8e8ac0",
          "dash": "solid",
          "width": 2
         },
         "mode": "lines",
         "name": "CLIP-convnext_base_w-laion_aesthetic-s13B-b82K (convnext_b,clip,laiona)",
         "r": [
          0.07100000000000001,
          0,
          0,
          1.5067936507936508,
          1.2799523809523812,
          0.07100000000000001
         ],
         "theta": [
          "T(1)",
          "T(2)",
          "T(∞)",
          "T(∅)",
          "T(cmn)",
          "T(1)"
         ],
         "type": "scatterpolar"
        },
        {
         "line": {
          "color": "#4f1f8b",
          "dash": "solid",
          "width": 2
         },
         "mode": "lines",
         "name": "robust_convnext_base (convnext_b,rob-sup,in1k)",
         "r": [
          0.17185714285714285,
          0.2585079365079366,
          0.248,
          1.143,
          0.9931904761904762,
          0.17185714285714285
         ],
         "theta": [
          "T(1)",
          "T(2)",
          "T(∞)",
          "T(∅)",
          "T(cmn)",
          "T(1)"
         ],
         "type": "scatterpolar"
        },
        {
         "line": {
          "color": "#d84801",
          "dash": "solid",
          "width": 2
         },
         "mode": "lines",
         "name": "vit_base_patch16_224.augreg_in21k_ft_in1k (vit_b,sup,ink22k-in1k)",
         "r": [
          0,
          0,
          0,
          1.0306349206349206,
          0.9201428571428572,
          0
         ],
         "theta": [
          "T(1)",
          "T(2)",
          "T(∞)",
          "T(∅)",
          "T(cmn)",
          "T(1)"
         ],
         "type": "scatterpolar"
        },
        {
         "line": {
          "color": "#f87f2c",
          "dash": "solid",
          "width": 2
         },
         "mode": "lines",
         "name": "robust_vit_base_patch16_224 (vit_b,rob-sup,in1k)",
         "r": [
          0.002380952380952381,
          0.004761904761904762,
          0.009523809523809525,
          0.9432380952380952,
          0.7775238095238096,
          0.002380952380952381
         ],
         "theta": [
          "T(1)",
          "T(2)",
          "T(∞)",
          "T(∅)",
          "T(cmn)",
          "T(1)"
         ],
         "type": "scatterpolar"
        },
        {
         "line": {
          "color": "#f87f2c",
          "dash": "solid",
          "width": 2
         },
         "mode": "lines",
         "name": "robust_vit_base_patch16_224 (vit_b,rob-sup,in1k)",
         "r": [
          0.018000000000000002,
          0.012,
          0.002,
          0.761,
          0.6564285714285715,
          0.018000000000000002
         ],
         "theta": [
          "T(1)",
          "T(2)",
          "T(∞)",
          "T(∅)",
          "T(cmn)",
          "T(1)"
         ],
         "type": "scatterpolar"
        },
        {
         "line": {
          "color": "#e25508",
          "dash": "solid",
          "width": 2
         },
         "mode": "lines",
         "name": "vit_base_patch16_224.augreg_in21k (vit_b,sup,in22k)",
         "r": [
          0,
          0,
          0,
          0.5216507936507936,
          0.5173809523809524,
          0
         ],
         "theta": [
          "T(1)",
          "T(2)",
          "T(∞)",
          "T(∅)",
          "T(cmn)",
          "T(1)"
         ],
         "type": "scatterpolar"
        },
        {
         "line": {
          "color": "#c54102",
          "dash": "solid",
          "width": 2
         },
         "mode": "lines",
         "name": "vit_base_patch16_224.mae (vit_b,mae,in1k)",
         "r": [
          0,
          0,
          0,
          0.47880952380952385,
          0.38847619047619053,
          0
         ],
         "theta": [
          "T(1)",
          "T(2)",
          "T(∞)",
          "T(∅)",
          "T(cmn)",
          "T(1)"
         ],
         "type": "scatterpolar"
        },
        {
         "line": {
          "color": "#c54102",
          "dash": "solid",
          "width": 2
         },
         "mode": "lines",
         "name": "vit_base_patch16_224.mae (vit_b,mae,in1k)",
         "r": [
          0,
          0,
          0,
          0.35738095238095235,
          0.33085714285714285,
          0
         ],
         "theta": [
          "T(1)",
          "T(2)",
          "T(∞)",
          "T(∅)",
          "T(cmn)",
          "T(1)"
         ],
         "type": "scatterpolar"
        }
       ],
       "layout": {
        "font": {
         "color": "black"
        },
        "height": 400,
        "legend": {
         "bgcolor": "rgba(255,255,255,0.9)",
         "bordercolor": "lightgrey",
         "borderwidth": 1,
         "font": {
          "size": 11
         },
         "x": 0,
         "xanchor": "left",
         "y": 1,
         "yanchor": "top"
        },
        "margin": {
         "b": 25,
         "l": 40,
         "r": 25,
         "t": 25
        },
        "paper_bgcolor": "white",
        "plot_bgcolor": "white",
        "polar": {
         "angularaxis": {
          "direction": "clockwise",
          "gridcolor": "lightgrey",
          "gridwidth": 0.5,
          "linecolor": "lightgrey",
          "linewidth": 1,
          "showline": true
         },
         "bgcolor": "white",
         "radialaxis": {
          "gridcolor": "lightgrey",
          "gridwidth": 0.5,
          "linecolor": "lightgrey",
          "linewidth": 1,
          "range": [
           0,
           4.5
          ],
          "showline": true,
          "visible": true
         }
        },
        "showlegend": false,
        "template": {
         "data": {
          "bar": [
           {
            "error_x": {
             "color": "#2a3f5f"
            },
            "error_y": {
             "color": "#2a3f5f"
            },
            "marker": {
             "line": {
              "color": "#E5ECF6",
              "width": 0.5
             },
             "pattern": {
              "fillmode": "overlay",
              "size": 10,
              "solidity": 0.2
             }
            },
            "type": "bar"
           }
          ],
          "barpolar": [
           {
            "marker": {
             "line": {
              "color": "#E5ECF6",
              "width": 0.5
             },
             "pattern": {
              "fillmode": "overlay",
              "size": 10,
              "solidity": 0.2
             }
            },
            "type": "barpolar"
           }
          ],
          "carpet": [
           {
            "aaxis": {
             "endlinecolor": "#2a3f5f",
             "gridcolor": "white",
             "linecolor": "white",
             "minorgridcolor": "white",
             "startlinecolor": "#2a3f5f"
            },
            "baxis": {
             "endlinecolor": "#2a3f5f",
             "gridcolor": "white",
             "linecolor": "white",
             "minorgridcolor": "white",
             "startlinecolor": "#2a3f5f"
            },
            "type": "carpet"
           }
          ],
          "choropleth": [
           {
            "colorbar": {
             "outlinewidth": 0,
             "ticks": ""
            },
            "type": "choropleth"
           }
          ],
          "contour": [
           {
            "colorbar": {
             "outlinewidth": 0,
             "ticks": ""
            },
            "colorscale": [
             [
              0,
              "#0d0887"
             ],
             [
              0.1111111111111111,
              "#46039f"
             ],
             [
              0.2222222222222222,
              "#7201a8"
             ],
             [
              0.3333333333333333,
              "#9c179e"
             ],
             [
              0.4444444444444444,
              "#bd3786"
             ],
             [
              0.5555555555555556,
              "#d8576b"
             ],
             [
              0.6666666666666666,
              "#ed7953"
             ],
             [
              0.7777777777777778,
              "#fb9f3a"
             ],
             [
              0.8888888888888888,
              "#fdca26"
             ],
             [
              1,
              "#f0f921"
             ]
            ],
            "type": "contour"
           }
          ],
          "contourcarpet": [
           {
            "colorbar": {
             "outlinewidth": 0,
             "ticks": ""
            },
            "type": "contourcarpet"
           }
          ],
          "heatmap": [
           {
            "colorbar": {
             "outlinewidth": 0,
             "ticks": ""
            },
            "colorscale": [
             [
              0,
              "#0d0887"
             ],
             [
              0.1111111111111111,
              "#46039f"
             ],
             [
              0.2222222222222222,
              "#7201a8"
             ],
             [
              0.3333333333333333,
              "#9c179e"
             ],
             [
              0.4444444444444444,
              "#bd3786"
             ],
             [
              0.5555555555555556,
              "#d8576b"
             ],
             [
              0.6666666666666666,
              "#ed7953"
             ],
             [
              0.7777777777777778,
              "#fb9f3a"
             ],
             [
              0.8888888888888888,
              "#fdca26"
             ],
             [
              1,
              "#f0f921"
             ]
            ],
            "type": "heatmap"
           }
          ],
          "heatmapgl": [
           {
            "colorbar": {
             "outlinewidth": 0,
             "ticks": ""
            },
            "colorscale": [
             [
              0,
              "#0d0887"
             ],
             [
              0.1111111111111111,
              "#46039f"
             ],
             [
              0.2222222222222222,
              "#7201a8"
             ],
             [
              0.3333333333333333,
              "#9c179e"
             ],
             [
              0.4444444444444444,
              "#bd3786"
             ],
             [
              0.5555555555555556,
              "#d8576b"
             ],
             [
              0.6666666666666666,
              "#ed7953"
             ],
             [
              0.7777777777777778,
              "#fb9f3a"
             ],
             [
              0.8888888888888888,
              "#fdca26"
             ],
             [
              1,
              "#f0f921"
             ]
            ],
            "type": "heatmapgl"
           }
          ],
          "histogram": [
           {
            "marker": {
             "pattern": {
              "fillmode": "overlay",
              "size": 10,
              "solidity": 0.2
             }
            },
            "type": "histogram"
           }
          ],
          "histogram2d": [
           {
            "colorbar": {
             "outlinewidth": 0,
             "ticks": ""
            },
            "colorscale": [
             [
              0,
              "#0d0887"
             ],
             [
              0.1111111111111111,
              "#46039f"
             ],
             [
              0.2222222222222222,
              "#7201a8"
             ],
             [
              0.3333333333333333,
              "#9c179e"
             ],
             [
              0.4444444444444444,
              "#bd3786"
             ],
             [
              0.5555555555555556,
              "#d8576b"
             ],
             [
              0.6666666666666666,
              "#ed7953"
             ],
             [
              0.7777777777777778,
              "#fb9f3a"
             ],
             [
              0.8888888888888888,
              "#fdca26"
             ],
             [
              1,
              "#f0f921"
             ]
            ],
            "type": "histogram2d"
           }
          ],
          "histogram2dcontour": [
           {
            "colorbar": {
             "outlinewidth": 0,
             "ticks": ""
            },
            "colorscale": [
             [
              0,
              "#0d0887"
             ],
             [
              0.1111111111111111,
              "#46039f"
             ],
             [
              0.2222222222222222,
              "#7201a8"
             ],
             [
              0.3333333333333333,
              "#9c179e"
             ],
             [
              0.4444444444444444,
              "#bd3786"
             ],
             [
              0.5555555555555556,
              "#d8576b"
             ],
             [
              0.6666666666666666,
              "#ed7953"
             ],
             [
              0.7777777777777778,
              "#fb9f3a"
             ],
             [
              0.8888888888888888,
              "#fdca26"
             ],
             [
              1,
              "#f0f921"
             ]
            ],
            "type": "histogram2dcontour"
           }
          ],
          "mesh3d": [
           {
            "colorbar": {
             "outlinewidth": 0,
             "ticks": ""
            },
            "type": "mesh3d"
           }
          ],
          "parcoords": [
           {
            "line": {
             "colorbar": {
              "outlinewidth": 0,
              "ticks": ""
             }
            },
            "type": "parcoords"
           }
          ],
          "pie": [
           {
            "automargin": true,
            "type": "pie"
           }
          ],
          "scatter": [
           {
            "fillpattern": {
             "fillmode": "overlay",
             "size": 10,
             "solidity": 0.2
            },
            "type": "scatter"
           }
          ],
          "scatter3d": [
           {
            "line": {
             "colorbar": {
              "outlinewidth": 0,
              "ticks": ""
             }
            },
            "marker": {
             "colorbar": {
              "outlinewidth": 0,
              "ticks": ""
             }
            },
            "type": "scatter3d"
           }
          ],
          "scattercarpet": [
           {
            "marker": {
             "colorbar": {
              "outlinewidth": 0,
              "ticks": ""
             }
            },
            "type": "scattercarpet"
           }
          ],
          "scattergeo": [
           {
            "marker": {
             "colorbar": {
              "outlinewidth": 0,
              "ticks": ""
             }
            },
            "type": "scattergeo"
           }
          ],
          "scattergl": [
           {
            "marker": {
             "colorbar": {
              "outlinewidth": 0,
              "ticks": ""
             }
            },
            "type": "scattergl"
           }
          ],
          "scattermapbox": [
           {
            "marker": {
             "colorbar": {
              "outlinewidth": 0,
              "ticks": ""
             }
            },
            "type": "scattermapbox"
           }
          ],
          "scatterpolar": [
           {
            "marker": {
             "colorbar": {
              "outlinewidth": 0,
              "ticks": ""
             }
            },
            "type": "scatterpolar"
           }
          ],
          "scatterpolargl": [
           {
            "marker": {
             "colorbar": {
              "outlinewidth": 0,
              "ticks": ""
             }
            },
            "type": "scatterpolargl"
           }
          ],
          "scatterternary": [
           {
            "marker": {
             "colorbar": {
              "outlinewidth": 0,
              "ticks": ""
             }
            },
            "type": "scatterternary"
           }
          ],
          "surface": [
           {
            "colorbar": {
             "outlinewidth": 0,
             "ticks": ""
            },
            "colorscale": [
             [
              0,
              "#0d0887"
             ],
             [
              0.1111111111111111,
              "#46039f"
             ],
             [
              0.2222222222222222,
              "#7201a8"
             ],
             [
              0.3333333333333333,
              "#9c179e"
             ],
             [
              0.4444444444444444,
              "#bd3786"
             ],
             [
              0.5555555555555556,
              "#d8576b"
             ],
             [
              0.6666666666666666,
              "#ed7953"
             ],
             [
              0.7777777777777778,
              "#fb9f3a"
             ],
             [
              0.8888888888888888,
              "#fdca26"
             ],
             [
              1,
              "#f0f921"
             ]
            ],
            "type": "surface"
           }
          ],
          "table": [
           {
            "cells": {
             "fill": {
              "color": "#EBF0F8"
             },
             "line": {
              "color": "white"
             }
            },
            "header": {
             "fill": {
              "color": "#C8D4E3"
             },
             "line": {
              "color": "white"
             }
            },
            "type": "table"
           }
          ]
         },
         "layout": {
          "annotationdefaults": {
           "arrowcolor": "#2a3f5f",
           "arrowhead": 0,
           "arrowwidth": 1
          },
          "autotypenumbers": "strict",
          "coloraxis": {
           "colorbar": {
            "outlinewidth": 0,
            "ticks": ""
           }
          },
          "colorscale": {
           "diverging": [
            [
             0,
             "#8e0152"
            ],
            [
             0.1,
             "#c51b7d"
            ],
            [
             0.2,
             "#de77ae"
            ],
            [
             0.3,
             "#f1b6da"
            ],
            [
             0.4,
             "#fde0ef"
            ],
            [
             0.5,
             "#f7f7f7"
            ],
            [
             0.6,
             "#e6f5d0"
            ],
            [
             0.7,
             "#b8e186"
            ],
            [
             0.8,
             "#7fbc41"
            ],
            [
             0.9,
             "#4d9221"
            ],
            [
             1,
             "#276419"
            ]
           ],
           "sequential": [
            [
             0,
             "#0d0887"
            ],
            [
             0.1111111111111111,
             "#46039f"
            ],
            [
             0.2222222222222222,
             "#7201a8"
            ],
            [
             0.3333333333333333,
             "#9c179e"
            ],
            [
             0.4444444444444444,
             "#bd3786"
            ],
            [
             0.5555555555555556,
             "#d8576b"
            ],
            [
             0.6666666666666666,
             "#ed7953"
            ],
            [
             0.7777777777777778,
             "#fb9f3a"
            ],
            [
             0.8888888888888888,
             "#fdca26"
            ],
            [
             1,
             "#f0f921"
            ]
           ],
           "sequentialminus": [
            [
             0,
             "#0d0887"
            ],
            [
             0.1111111111111111,
             "#46039f"
            ],
            [
             0.2222222222222222,
             "#7201a8"
            ],
            [
             0.3333333333333333,
             "#9c179e"
            ],
            [
             0.4444444444444444,
             "#bd3786"
            ],
            [
             0.5555555555555556,
             "#d8576b"
            ],
            [
             0.6666666666666666,
             "#ed7953"
            ],
            [
             0.7777777777777778,
             "#fb9f3a"
            ],
            [
             0.8888888888888888,
             "#fdca26"
            ],
            [
             1,
             "#f0f921"
            ]
           ]
          },
          "colorway": [
           "#636efa",
           "#EF553B",
           "#00cc96",
           "#ab63fa",
           "#FFA15A",
           "#19d3f3",
           "#FF6692",
           "#B6E880",
           "#FF97FF",
           "#FECB52"
          ],
          "font": {
           "color": "#2a3f5f"
          },
          "geo": {
           "bgcolor": "white",
           "lakecolor": "white",
           "landcolor": "#E5ECF6",
           "showlakes": true,
           "showland": true,
           "subunitcolor": "white"
          },
          "hoverlabel": {
           "align": "left"
          },
          "hovermode": "closest",
          "mapbox": {
           "style": "light"
          },
          "paper_bgcolor": "white",
          "plot_bgcolor": "#E5ECF6",
          "polar": {
           "angularaxis": {
            "gridcolor": "white",
            "linecolor": "white",
            "ticks": ""
           },
           "bgcolor": "#E5ECF6",
           "radialaxis": {
            "gridcolor": "white",
            "linecolor": "white",
            "ticks": ""
           }
          },
          "scene": {
           "xaxis": {
            "backgroundcolor": "#E5ECF6",
            "gridcolor": "white",
            "gridwidth": 2,
            "linecolor": "white",
            "showbackground": true,
            "ticks": "",
            "zerolinecolor": "white"
           },
           "yaxis": {
            "backgroundcolor": "#E5ECF6",
            "gridcolor": "white",
            "gridwidth": 2,
            "linecolor": "white",
            "showbackground": true,
            "ticks": "",
            "zerolinecolor": "white"
           },
           "zaxis": {
            "backgroundcolor": "#E5ECF6",
            "gridcolor": "white",
            "gridwidth": 2,
            "linecolor": "white",
            "showbackground": true,
            "ticks": "",
            "zerolinecolor": "white"
           }
          },
          "shapedefaults": {
           "line": {
            "color": "#2a3f5f"
           }
          },
          "ternary": {
           "aaxis": {
            "gridcolor": "white",
            "linecolor": "white",
            "ticks": ""
           },
           "baxis": {
            "gridcolor": "white",
            "linecolor": "white",
            "ticks": ""
           },
           "bgcolor": "#E5ECF6",
           "caxis": {
            "gridcolor": "white",
            "linecolor": "white",
            "ticks": ""
           }
          },
          "title": {
           "x": 0.05
          },
          "xaxis": {
           "automargin": true,
           "gridcolor": "white",
           "linecolor": "white",
           "ticks": "",
           "title": {
            "standoff": 15
           },
           "zerolinecolor": "white",
           "zerolinewidth": 2
          },
          "yaxis": {
           "automargin": true,
           "gridcolor": "white",
           "linecolor": "white",
           "ticks": "",
           "title": {
            "standoff": 15
           },
           "zerolinecolor": "white",
           "zerolinewidth": 2
          }
         }
        },
        "width": 400
       }
      }
     },
     "metadata": {},
     "output_type": "display_data"
    }
   ],
   "source": [
    "\n",
    "from matplotlib import cm\n",
    "from matplotlib.colors import to_hex\n",
    "import re\n",
    "\n",
    "\n",
    "import pandas as pd\n",
    "import numpy as np\n",
    "import plotly.graph_objects as go\n",
    "import plotly.express as px\n",
    "from process_database import process_grouped_df, process_rankings, compute_odds_ratio_by_group\n",
    "\n",
    "import pandas as pd\n",
    "\n",
    "# Your model type mapping\n",
    "model_type_map = {\n",
    "    'convnext_base': \"fully convolutional\",\n",
    "    'convnext_tiny': \"fully convolutional\",\n",
    "    'deit_small': \"fully attention\",\n",
    "    'vit_base': \"fully attention\",\n",
    "    'vit_small': \"fully attention\",\n",
    "    'resnet50': \"fully convolutional\",\n",
    "    'eva02_base': \"fully attention\",\n",
    "    'eva02_tiny': \"fully attention\",\n",
    "    'swin_base': \"fully attention\",\n",
    "    'swin_tiny': \"fully attention\",\n",
    "    'coatnet_0': \"hybrid\",\n",
    "    'coatnet_2': \"hybrid\",\n",
    "    'regnetx_004': \"fully convolutional\",\n",
    "    'efficientnet-b0': \"fully convolutional\", \n",
    "    'deit_tiny': \"fully attention\",\n",
    "    'mobilevit-small': \"hybrid\",\n",
    "    'mobilenetv3': \"fully convolutional\",\n",
    "    'edgenext_small': \"fully convolutional\",\n",
    "    'coat_tiny': \"hybrid\",\n",
    "}\n",
    "\n",
    "# Colormap for each model type\n",
    "type_to_cmap = {\n",
    "    'fully convolutional': cm.Purples,     # deep violet → lavender\n",
    "    'fully attention': cm.Oranges,         # strong orange → light peach\n",
    "    'hybrid': cm.Greens                    # forest → mint\n",
    "}\n",
    "\n",
    "# Extract base backbone name from full backbone string\n",
    "def extract_base_name(backbone_name):\n",
    "    for base in model_type_map:\n",
    "        if base in backbone_name:\n",
    "            return base\n",
    "    return 'unknown'\n",
    "\n",
    "\n",
    "# Define line styles per loss function\n",
    "line_styles = {\n",
    "    'CLASSIC_AT': 'solid',\n",
    "    'TRADES_v2': 'dot'\n",
    "}\n",
    "\n",
    "\n",
    "# Define mapping for renaming\n",
    "metric_rename_map = {\n",
    "    'sum_L1_acc': \"T(1)\",\n",
    "    'sum_L2_acc': \"T(2)\",\n",
    "    'sum_Linf_acc': \"T(∞)\",\n",
    "    'sum_clean_acc': \"T(∅)\",\n",
    "    'sum_common_acc':\"T(cmn)\"\n",
    "}\n",
    "\n",
    "# Apply the mapping to metrics list and add loop closing term\n",
    "theta_labels = [metric_rename_map[m] for m in metric_rename_map] + [metric_rename_map[list(metric_rename_map.keys())[0]]]\n",
    "\n",
    "\n",
    "from plotly.colors import qualitative\n",
    "color_palette = qualitative.Bold\n",
    "\n",
    "from process_database import process_grouped_df, process_rankings, compute_odds_ratio_by_group\n",
    "\n",
    "for d in final_data:\n",
    "    d[\"ft_strategy\"] = \"Linear Probing (50 epochs)\"\n",
    "\n",
    "for size_id,size in [ (0,'small'), (1,'medium'), (2,'large') ]: \n",
    "    grouped_df = process_grouped_df(final_data, size)\n",
    "    grouped_df = process_rankings(grouped_df)\n",
    "\n",
    "    df1 = grouped_df.copy()\n",
    "\n",
    "    metrics_to_sum = [\"L1_acc\", \"L2_acc\", \"Linf_acc\", \"clean_acc\", \"common_acc\"]\n",
    "\n",
    "    for metric in metrics_to_sum:\n",
    "        metric_cols = [col for col in df1.columns if col[1] == metric]\n",
    "        df1[f'sum_{metric}'] = df1[metric_cols].sum(axis=1)\n",
    "\n",
    "    df_per_row_sums = df1[[f'sum_{m}' for m in metrics_to_sum]]\n",
    "\n",
    "    df_per_row_sums.columns = df_per_row_sums.columns.get_level_values(0)\n",
    "\n",
    "    df_per_row_sums.columns.name = 'metric'\n",
    "\n",
    "    df_per_row_sums\n",
    "\n",
    "    # Get all unique backbones\n",
    "    backbones = sorted(set(backbone for backbone, _,_,_,_,_,_  in df_per_row_sums.index))\n",
    "\n",
    "    # Map backbones to model type\n",
    "    backbone_model_type = {b: model_type_map.get(extract_base_name(b), 'unknown') for b in backbones}\n",
    "\n",
    "    # Assign gradient color per backbone based on model type\n",
    "    color_map = {}\n",
    "    for model_type in ['fully convolutional', 'fully attention', 'hybrid']:\n",
    "        bks = [bk for bk in backbones if backbone_model_type[bk] == model_type]\n",
    "        n = len(bks)\n",
    "        for i, bk in enumerate(bks):\n",
    "            start, end = 0.5, 0.9  # avoid very light or very dark edges\n",
    "            position = start + (end - start) * (i / max(n - 1, 1))\n",
    "            color = to_hex(type_to_cmap[model_type](position))\n",
    "            color_map[bk] = color\n",
    "\n",
    "\n",
    "    # Define metrics\n",
    "    metrics = ['sum_L1_acc', 'sum_L2_acc', 'sum_Linf_acc', 'sum_clean_acc', 'sum_common_acc']\n",
    "\n",
    "    # Get unique backbones\n",
    "    unique_backbones = sorted( set(backbone for backbone, _,_,_,_,_,_ in df_per_row_sums.index) )\n",
    "\n",
    "    fig = go.Figure()\n",
    "\n",
    "    for (backbone, loss,_,_,_,_,_ ), row in df_per_row_sums.iterrows():\n",
    "        fig.add_trace(go.Scatterpolar(\n",
    "            r=row.tolist() + [row.tolist()[0]],  # Close the loop\n",
    "            theta=theta_labels,\n",
    "            mode='lines',\n",
    "            name=f\"{backbone} ({loss})\",\n",
    "            line=dict(\n",
    "                width=2,\n",
    "                color=color_map[backbone],\n",
    "                dash=line_styles.get(loss, 'solid')\n",
    "            )\n",
    "        ))\n",
    "\n",
    "    fig.update_layout(\n",
    "        margin=dict(l=40, r=25, t=25, b=25),  # remove all outer margins\n",
    "        width=400,    # in pixels (~2.5 inches at 96 DPI)\n",
    "        height=400,    # in pixels (~1.875 inches)\n",
    "        paper_bgcolor='white',\n",
    "        plot_bgcolor='white',\n",
    "\n",
    "        polar=dict(\n",
    "            radialaxis=dict(\n",
    "                visible=True,\n",
    "                range=[0, 4.5],\n",
    "                showline=True,\n",
    "                linewidth=1,\n",
    "                linecolor=\"lightgrey\",\n",
    "                gridcolor=\"lightgrey\",\n",
    "                gridwidth=0.5,\n",
    "            ),\n",
    "            angularaxis=dict(\n",
    "                direction=\"clockwise\",\n",
    "                showline=True,\n",
    "                linewidth=1,\n",
    "                linecolor=\"lightgrey\",\n",
    "                gridcolor=\"lightgrey\",\n",
    "                gridwidth=0.5,\n",
    "            ),\n",
    "            bgcolor='white'\n",
    "        ),\n",
    "        legend=dict(\n",
    "            x=0,\n",
    "            y=1.0,\n",
    "            xanchor='left',\n",
    "            yanchor='top',\n",
    "            bgcolor='rgba(255,255,255,0.9)',\n",
    "            bordercolor='lightgrey',\n",
    "            borderwidth=1,\n",
    "            font=dict(size=11),\n",
    "        ),\n",
    "        showlegend=False,\n",
    "        font=dict(color='black'),\n",
    "    )\n",
    "\n",
    "    fig.show()\n",
    "\n",
    "    fig.write_image(\"./paper_figures/radar_plot_{}_{}.png\".format(size, pn2), scale=3  )                # upscale for higher DPI (1 = default)"
   ]
  }
 ],
 "metadata": {
  "kernelspec": {
   "display_name": "base",
   "language": "python",
   "name": "python3"
  },
  "language_info": {
   "codemirror_mode": {
    "name": "ipython",
    "version": 3
   },
   "file_extension": ".py",
   "mimetype": "text/x-python",
   "name": "python",
   "nbconvert_exporter": "python",
   "pygments_lexer": "ipython3",
   "version": "3.9.7"
  }
 },
 "nbformat": 4,
 "nbformat_minor": 2
}
