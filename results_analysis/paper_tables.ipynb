{
 "cells": [
  {
   "cell_type": "code",
   "execution_count": 1,
   "metadata": {},
   "outputs": [],
   "source": [
    "import pandas as pd\n",
    "\n",
    "# Define the backbone data\n",
    "backbones_data = [\n",
    "    {'architecture': 'convnext_tiny', 'pre_training_algorithm': 'standard', 'pre_training_dataset': 'ImageNet-1k'},\n",
    "    {'architecture': 'robust_convnext_tiny', 'pre_training_algorithm': 'robust training', 'pre_training_dataset': 'ImageNet-1k'},\n",
    "    {'architecture': 'convnext_tiny.fb_in22k', 'pre_training_algorithm': 'standard', 'pre_training_dataset': 'ImageNet-22k'},\n",
    "    {'architecture': 'deit_small_patch16_224.fb_in1k', 'pre_training_algorithm': 'DeiT (Distilled Training)', 'pre_training_dataset': 'ImageNet-1k'},\n",
    "    {'architecture': 'robust_deit_small_patch16_224', 'pre_training_algorithm': 'robust training', 'pre_training_dataset': 'ImageNet-1k'},\n",
    "    {'architecture': 'convnext_base', 'pre_training_algorithm': 'standard', 'pre_training_dataset': 'ImageNet-1k'},\n",
    "    {'architecture': 'convnext_base.fb_in22k', 'pre_training_algorithm': 'standard', 'pre_training_dataset': 'ImageNet-22k'},\n",
    "    {'architecture': 'robust_convnext_base', 'pre_training_algorithm': 'robust training', 'pre_training_dataset': 'ImageNet-1k'},\n",
    "    {'architecture': 'convnext_base.clip_laion2b', 'pre_training_algorithm': 'CLIP', 'pre_training_dataset': 'LAION-2B'},\n",
    "    {'architecture': 'convnext_base.clip_laion2b_augreg', 'pre_training_algorithm': 'CLIP + AugReg', 'pre_training_dataset': 'LAION-2B'},\n",
    "    {'architecture': 'vit_base_patch16_224.augreg_in1k', 'pre_training_algorithm': 'AugReg', 'pre_training_dataset': 'ImageNet-1k'},\n",
    "    {'architecture': 'vit_base_patch16_224.augreg_in21k', 'pre_training_algorithm': 'AugReg', 'pre_training_dataset': 'ImageNet-21k'},\n",
    "    {'architecture': 'vit_base_patch16_224.dino', 'pre_training_algorithm': 'DINO (Self-Supervised)', 'pre_training_dataset': 'ImageNet-1k'},\n",
    "    {'architecture': 'vit_base_patch16_224.mae', 'pre_training_algorithm': 'MAE (Masked Autoencoding)', 'pre_training_dataset': 'ImageNet-1k'},\n",
    "    {'architecture': 'vit_base_patch16_224.orig_in21k', 'pre_training_algorithm': 'standard', 'pre_training_dataset': 'ImageNet-21k'},\n",
    "    {'architecture': 'vit_base_patch16_224.sam_in1k', 'pre_training_algorithm': 'SAM (Sharpness-Aware Minimization)', 'pre_training_dataset': 'ImageNet-1k'},\n",
    "    {'architecture': 'vit_base_patch16_224_miil.in21k', 'pre_training_algorithm': 'MIIL (Training from Mid-Level Features)', 'pre_training_dataset': 'ImageNet-21k'}\n",
    "]\n",
    "\n",
    "# Create a DataFrame\n",
    "df = pd.DataFrame(backbones_data)\n",
    "\n",
    "# Save to CSV and display the table to the user\n",
    "csv_path = './results/pretrained_backbones.csv'\n",
    "df.to_csv(csv_path, index=False)\n"
   ]
  }
 ],
 "metadata": {
  "kernelspec": {
   "display_name": ".venv2",
   "language": "python",
   "name": "python3"
  },
  "language_info": {
   "codemirror_mode": {
    "name": "ipython",
    "version": 3
   },
   "file_extension": ".py",
   "mimetype": "text/x-python",
   "name": "python",
   "nbconvert_exporter": "python",
   "pygments_lexer": "ipython3",
   "version": "3.11.11"
  }
 },
 "nbformat": 4,
 "nbformat_minor": 2
}
