{
 "cells": [
  {
   "cell_type": "code",
   "execution_count": 1,
   "metadata": {},
   "outputs": [
    {
     "name": "stdout",
     "output_type": "stream",
     "text": [
      "./results/full_fine_tuning_50epochs_final2/CLIP-convnext_base_w-laion_aesthetic-s13B-b82K_uc-merced-land-use-dataset_TRADES_v2.pkl\n",
      "./results/full_fine_tuning_50epochs_final2/CLIP-convnext_base_w-laion_aesthetic-s13B-b82K_uc-merced-land-use-dataset_CLASSIC_AT.pkl\n",
      "./results/full_fine_tuning_50epochs_final2/CLIP-convnext_base_w-laion2B-s13B-b82K_uc-merced-land-use-dataset_TRADES_v2.pkl\n",
      "./results/full_fine_tuning_50epochs_final2/CLIP-convnext_base_w-laion2B-s13B-b82K_uc-merced-land-use-dataset_CLASSIC_AT.pkl\n",
      "./results/full_fine_tuning_50epochs_final2/deit_small_patch16_224.fb_in1k_uc-merced-land-use-dataset_TRADES_v2.pkl\n",
      "./results/full_fine_tuning_50epochs_final2/deit_small_patch16_224.fb_in1k_uc-merced-land-use-dataset_CLASSIC_AT.pkl\n",
      "./results/full_fine_tuning_50epochs_final2/robust_resnet50_uc-merced-land-use-dataset_TRADES_v2.pkl\n",
      "./results/full_fine_tuning_50epochs_final2/robust_resnet50_uc-merced-land-use-dataset_CLASSIC_AT.pkl\n",
      "./results/full_fine_tuning_50epochs_final2/vit_base_patch16_224.mae_uc-merced-land-use-dataset_TRADES_v2.pkl\n",
      "./results/full_fine_tuning_50epochs_final2/vit_base_patch16_224.mae_uc-merced-land-use-dataset_CLASSIC_AT.pkl\n",
      "./results/full_fine_tuning_50epochs_final2/vit_small_patch16_224.augreg_in21k_uc-merced-land-use-dataset_TRADES_v2.pkl\n",
      "./results/full_fine_tuning_50epochs_final2/vit_small_patch16_224.augreg_in21k_uc-merced-land-use-dataset_CLASSIC_AT.pkl\n",
      "./results/full_fine_tuning_50epochs_final2/convnext_base.fb_in1k_uc-merced-land-use-dataset_TRADES_v2.pkl\n",
      "./results/full_fine_tuning_50epochs_final2/convnext_base.fb_in1k_uc-merced-land-use-dataset_CLASSIC_AT.pkl\n",
      "./results/full_fine_tuning_50epochs_final2/resnet50.a1_in1k_uc-merced-land-use-dataset_TRADES_v2.pkl\n",
      "./results/full_fine_tuning_50epochs_final2/resnet50.a1_in1k_uc-merced-land-use-dataset_CLASSIC_AT.pkl\n",
      "./results/full_fine_tuning_50epochs_final2/robust_vit_base_patch16_224_uc-merced-land-use-dataset_TRADES_v2.pkl\n",
      "./results/full_fine_tuning_50epochs_final2/robust_vit_base_patch16_224_uc-merced-land-use-dataset_CLASSIC_AT.pkl\n",
      "./results/full_fine_tuning_50epochs_final2/vit_base_patch16_224.sam_in1k_uc-merced-land-use-dataset_TRADES_v2.pkl\n",
      "./results/full_fine_tuning_50epochs_final2/vit_base_patch16_224.sam_in1k_uc-merced-land-use-dataset_CLASSIC_AT.pkl\n",
      "./results/full_fine_tuning_50epochs_final2/vit_small_patch16_224.dino_uc-merced-land-use-dataset_TRADES_v2.pkl\n",
      "./results/full_fine_tuning_50epochs_final2/vit_small_patch16_224.dino_uc-merced-land-use-dataset_CLASSIC_AT.pkl\n",
      "./results/full_fine_tuning_50epochs_final2/convnext_base.fb_in22k_uc-merced-land-use-dataset_TRADES_v2.pkl\n",
      "./results/full_fine_tuning_50epochs_final2/convnext_base.fb_in22k_uc-merced-land-use-dataset_CLASSIC_AT.pkl\n",
      "./results/full_fine_tuning_50epochs_final2/robust_convnext_base_uc-merced-land-use-dataset_TRADES_v2.pkl\n",
      "./results/full_fine_tuning_50epochs_final2/robust_convnext_base_uc-merced-land-use-dataset_CLASSIC_AT.pkl\n",
      "./results/full_fine_tuning_50epochs_final2/vit_base_patch16_224.augreg_in1k_uc-merced-land-use-dataset_TRADES_v2.pkl\n",
      "./results/full_fine_tuning_50epochs_final2/vit_base_patch16_224.augreg_in1k_uc-merced-land-use-dataset_CLASSIC_AT.pkl\n",
      "./results/full_fine_tuning_50epochs_final2/vit_base_patch16_224.augreg_in21k_uc-merced-land-use-dataset_TRADES_v2.pkl\n",
      "./results/full_fine_tuning_50epochs_final2/vit_base_patch16_224.augreg_in21k_uc-merced-land-use-dataset_CLASSIC_AT.pkl\n",
      "./results/full_fine_tuning_50epochs_final2/vit_base_patch16_224.dino_uc-merced-land-use-dataset_TRADES_v2.pkl\n",
      "./results/full_fine_tuning_50epochs_final2/vit_base_patch16_224.dino_uc-merced-land-use-dataset_CLASSIC_AT.pkl\n",
      "./results/full_fine_tuning_50epochs_final2/vit_base_patch16_clip_224.laion2b_uc-merced-land-use-dataset_TRADES_v2.pkl\n",
      "./results/full_fine_tuning_50epochs_final2/vit_base_patch16_clip_224.laion2b_uc-merced-land-use-dataset_CLASSIC_AT.pkl\n",
      "./results/full_fine_tuning_50epochs_final2/convnext_tiny.fb_in1k_uc-merced-land-use-dataset_TRADES_v2.pkl\n",
      "./results/full_fine_tuning_50epochs_final2/convnext_tiny.fb_in1k_uc-merced-land-use-dataset_CLASSIC_AT.pkl\n",
      "./results/full_fine_tuning_50epochs_final2/robust_convnext_tiny_uc-merced-land-use-dataset_TRADES_v2.pkl\n",
      "./results/full_fine_tuning_50epochs_final2/robust_convnext_tiny_uc-merced-land-use-dataset_CLASSIC_AT.pkl\n",
      "./results/full_fine_tuning_50epochs_final2/robust_deit_small_patch16_224_uc-merced-land-use-dataset_TRADES_v2.pkl\n",
      "./results/full_fine_tuning_50epochs_final2/robust_deit_small_patch16_224_uc-merced-land-use-dataset_CLASSIC_AT.pkl\n",
      "./results/full_fine_tuning_50epochs_final2/vit_base_patch16_224.dino_uc-merced-land-use-dataset_TRADES_v2.pkl\n",
      "./results/full_fine_tuning_50epochs_final2/vit_base_patch16_224.dino_uc-merced-land-use-dataset_CLASSIC_AT.pkl\n",
      "./results/full_fine_tuning_50epochs_final2/vit_small_patch16_224.augreg_in1k_uc-merced-land-use-dataset_TRADES_v2.pkl\n",
      "./results/full_fine_tuning_50epochs_final2/vit_small_patch16_224.augreg_in1k_uc-merced-land-use-dataset_CLASSIC_AT.pkl\n",
      "./results/full_fine_tuning_50epochs_final2/convnext_tiny.fb_in22k_uc-merced-land-use-dataset_TRADES_v2.pkl\n",
      "./results/full_fine_tuning_50epochs_final2/convnext_tiny.fb_in22k_uc-merced-land-use-dataset_CLASSIC_AT.pkl\n",
      "./results/full_fine_tuning_50epochs_final2/vit_base_patch16_clip_224.laion2b_ft_in1k_uc-merced-land-use-dataset_TRADES_v2.pkl\n",
      "./results/full_fine_tuning_50epochs_final2/vit_base_patch16_clip_224.laion2b_ft_in1k_uc-merced-land-use-dataset_CLASSIC_AT.pkl\n",
      "./results/full_fine_tuning_50epochs_final2/vit_base_patch16_224.augreg_in21k_ft_in1k_uc-merced-land-use-dataset_TRADES_v2.pkl\n",
      "./results/full_fine_tuning_50epochs_final2/vit_base_patch16_224.augreg_in21k_ft_in1k_uc-merced-land-use-dataset_CLASSIC_AT.pkl\n",
      "./results/full_fine_tuning_50epochs_final2/vit_small_patch16_224.augreg_in21k_ft_in1k_uc-merced-land-use-dataset_TRADES_v2.pkl\n",
      "./results/full_fine_tuning_50epochs_final2/vit_small_patch16_224.augreg_in21k_ft_in1k_uc-merced-land-use-dataset_CLASSIC_AT.pkl\n",
      "./results/full_fine_tuning_50epochs_final2/eva02_base_patch14_224.mim_in22k_uc-merced-land-use-dataset_TRADES_v2.pkl\n",
      "./results/full_fine_tuning_50epochs_final2/eva02_base_patch14_224.mim_in22k_uc-merced-land-use-dataset_CLASSIC_AT.pkl\n",
      "./results/full_fine_tuning_50epochs_final2/eva02_tiny_patch14_224.mim_in22k_uc-merced-land-use-dataset_TRADES_v2.pkl\n",
      "./results/full_fine_tuning_50epochs_final2/eva02_tiny_patch14_224.mim_in22k_uc-merced-land-use-dataset_CLASSIC_AT.pkl\n",
      "./results/full_fine_tuning_50epochs_final2/swin_base_patch4_window7_224.ms_in22k_ft_in1k_uc-merced-land-use-dataset_TRADES_v2.pkl\n",
      "./results/full_fine_tuning_50epochs_final2/swin_base_patch4_window7_224.ms_in22k_ft_in1k_uc-merced-land-use-dataset_CLASSIC_AT.pkl\n",
      "./results/full_fine_tuning_50epochs_final2/swin_tiny_patch4_window7_224.ms_in1k_uc-merced-land-use-dataset_TRADES_v2.pkl\n",
      "./results/full_fine_tuning_50epochs_final2/swin_tiny_patch4_window7_224.ms_in1k_uc-merced-land-use-dataset_CLASSIC_AT.pkl\n",
      "./results/full_fine_tuning_50epochs_final2/convnext_base.clip_laion2b_augreg_ft_in12k_in1k_uc-merced-land-use-dataset_TRADES_v2.pkl\n",
      "./results/full_fine_tuning_50epochs_final2/convnext_base.clip_laion2b_augreg_ft_in12k_in1k_uc-merced-land-use-dataset_CLASSIC_AT.pkl\n",
      "./results/full_fine_tuning_50epochs_final2/convnext_base.fb_in22k_ft_in1k_uc-merced-land-use-dataset_TRADES_v2.pkl\n",
      "./results/full_fine_tuning_50epochs_final2/convnext_base.fb_in22k_ft_in1k_uc-merced-land-use-dataset_CLASSIC_AT.pkl\n",
      "./results/full_fine_tuning_50epochs_final2/convnext_tiny.fb_in22k_ft_in1k_uc-merced-land-use-dataset_TRADES_v2.pkl\n",
      "./results/full_fine_tuning_50epochs_final2/convnext_tiny.fb_in22k_ft_in1k_uc-merced-land-use-dataset_CLASSIC_AT.pkl\n"
     ]
    }
   ],
   "source": [
    "import pickle\n",
    "import omegaconf\n",
    "import warnings\n",
    "import pickle\n",
    "import numpy as np\n",
    "warnings.filterwarnings(\"ignore\", category=DeprecationWarning)\n",
    "\n",
    "project_name = 'full_fine_tuning_50epochs_final2'\n",
    "\n",
    "datas=( 'uc-merced-land-use-dataset', ) # 'stanford_cars', 'caltech101', 'fgvc-aircraft-2013b', 'dtd', 'flowers-102', 'oxford-iiit-pet' \n",
    "\n",
    "losses=( 'TRADES_v2', 'CLASSIC_AT' ) #  \n",
    "\n",
    "backbones=(\n",
    "\n",
    "  # SCIENTIFIC HYPOTHESES BACKBONES\n",
    "  'CLIP-convnext_base_w-laion_aesthetic-s13B-b82K',\n",
    "  'CLIP-convnext_base_w-laion2B-s13B-b82K',\n",
    "  'deit_small_patch16_224.fb_in1k',\n",
    "  'robust_resnet50',\n",
    "  'vit_base_patch16_224.mae',\n",
    "  'vit_small_patch16_224.augreg_in21k',\n",
    "  'convnext_base.fb_in1k',\n",
    "  'resnet50.a1_in1k',\n",
    "  'robust_vit_base_patch16_224',\n",
    "  'vit_base_patch16_224.sam_in1k',\n",
    "  'vit_small_patch16_224.dino',\n",
    "  'convnext_base.fb_in22k',\n",
    "  'robust_convnext_base',\n",
    "  'vit_base_patch16_224.augreg_in1k',\n",
    "  'vit_base_patch16_224.augreg_in21k',\n",
    "  'vit_base_patch16_224.dino',\n",
    "  'vit_base_patch16_clip_224.laion2b',\n",
    "  'convnext_tiny.fb_in1k',\n",
    "  'robust_convnext_tiny',\n",
    "  'robust_deit_small_patch16_224',\n",
    "  'vit_base_patch16_224.dino',\n",
    "  'vit_small_patch16_224.augreg_in1k',\n",
    "  'convnext_tiny.fb_in22k',\n",
    "\n",
    "  # PERFORMANCE BACKBONES\n",
    "  'vit_base_patch16_clip_224.laion2b_ft_in1k',\n",
    "  'vit_base_patch16_224.augreg_in21k_ft_in1k',\n",
    "  'vit_small_patch16_224.augreg_in21k_ft_in1k',\n",
    "  'eva02_base_patch14_224.mim_in22k',\n",
    "  'eva02_tiny_patch14_224.mim_in22k',\n",
    "  'swin_base_patch4_window7_224.ms_in22k_ft_in1k',\n",
    "  'swin_tiny_patch4_window7_224.ms_in1k',\n",
    "  'convnext_base.clip_laion2b_augreg_ft_in12k_in1k',\n",
    "  'convnext_base.fb_in22k_ft_in1k',\n",
    "  'convnext_tiny.fb_in22k_ft_in1k'\n",
    ")\n",
    "\n",
    "\n",
    "final_data = []\n",
    "\n",
    "for backbone in backbones:\n",
    "    for loss in losses:\n",
    "        for data in datas:\n",
    "\n",
    "            try:\n",
    "\n",
    "                name ='{}_{}_{}'.format(backbone, data, loss)\n",
    "                print( './results/{}/{}.pkl'.format(project_name, name) )\n",
    "                with open('./results/{}/{}.pkl'.format(project_name, name), 'rb') as f:\n",
    "                    result = pickle.load(f)\n",
    "                            # result = saved_data[name][\"statistics\"]\n",
    "\n",
    "            except:\n",
    "                result = {'clean_acc': None, 'Linf_acc': None, 'L2_acc': None, 'L1_acc': None, 'common_acc': None}\n",
    "\n",
    "            result['backbone'] = backbone\n",
    "            result['dataset'] = data\n",
    "            result['loss_function'] = loss  \n",
    "            final_data.append(result)\n",
    "# \n"
   ]
  },
  {
   "cell_type": "code",
   "execution_count": 11,
   "metadata": {},
   "outputs": [
    {
     "name": "stdout",
     "output_type": "stream",
     "text": [
      "{'backbone': 'k', 'dataset': 'uc-merced-land-use-dataset', 'loss_function': 'CLASSIC_AT', 'clean_acc': nan, 'Linf_acc': nan, 'L1_acc': nan, 'L2_acc': nan}\n"
     ]
    }
   ],
   "source": [
    "with open('./results/full_fine_tuning_50epochs_final2/CLIP-convnext_base_w-laion_aesthetic-s13B-b82K_uc-merced-land-use-dataset_CLASSIC_AT.pkl', 'rb') as f:\n",
    "    saved_data = pickle.load(f)\n",
    "    print(result)"
   ]
  },
  {
   "cell_type": "code",
   "execution_count": 13,
   "metadata": {},
   "outputs": [
    {
     "data": {
      "text/html": [
       "<div>\n",
       "<style scoped>\n",
       "    .dataframe tbody tr th:only-of-type {\n",
       "        vertical-align: middle;\n",
       "    }\n",
       "\n",
       "    .dataframe tbody tr th {\n",
       "        vertical-align: top;\n",
       "    }\n",
       "\n",
       "    .dataframe thead th {\n",
       "        text-align: right;\n",
       "    }\n",
       "</style>\n",
       "<table border=\"1\" class=\"dataframe\">\n",
       "  <thead>\n",
       "    <tr style=\"text-align: right;\">\n",
       "      <th></th>\n",
       "      <th>backbone</th>\n",
       "      <th>dataset</th>\n",
       "      <th>loss_function</th>\n",
       "      <th>clean_acc</th>\n",
       "      <th>Linf_acc</th>\n",
       "      <th>L1_acc</th>\n",
       "      <th>L2_acc</th>\n",
       "    </tr>\n",
       "  </thead>\n",
       "  <tbody>\n",
       "    <tr>\n",
       "      <th>0</th>\n",
       "      <td>C</td>\n",
       "      <td>uc-merced-land-use-dataset</td>\n",
       "      <td>TRADES_v2</td>\n",
       "      <td>NaN</td>\n",
       "      <td>NaN</td>\n",
       "      <td>NaN</td>\n",
       "      <td>NaN</td>\n",
       "    </tr>\n",
       "    <tr>\n",
       "      <th>1</th>\n",
       "      <td>C</td>\n",
       "      <td>uc-merced-land-use-dataset</td>\n",
       "      <td>CLASSIC_AT</td>\n",
       "      <td>NaN</td>\n",
       "      <td>NaN</td>\n",
       "      <td>NaN</td>\n",
       "      <td>NaN</td>\n",
       "    </tr>\n",
       "    <tr>\n",
       "      <th>2</th>\n",
       "      <td>L</td>\n",
       "      <td>uc-merced-land-use-dataset</td>\n",
       "      <td>TRADES_v2</td>\n",
       "      <td>NaN</td>\n",
       "      <td>NaN</td>\n",
       "      <td>NaN</td>\n",
       "      <td>NaN</td>\n",
       "    </tr>\n",
       "    <tr>\n",
       "      <th>3</th>\n",
       "      <td>L</td>\n",
       "      <td>uc-merced-land-use-dataset</td>\n",
       "      <td>CLASSIC_AT</td>\n",
       "      <td>NaN</td>\n",
       "      <td>NaN</td>\n",
       "      <td>NaN</td>\n",
       "      <td>NaN</td>\n",
       "    </tr>\n",
       "    <tr>\n",
       "      <th>4</th>\n",
       "      <td>I</td>\n",
       "      <td>uc-merced-land-use-dataset</td>\n",
       "      <td>TRADES_v2</td>\n",
       "      <td>NaN</td>\n",
       "      <td>NaN</td>\n",
       "      <td>NaN</td>\n",
       "      <td>NaN</td>\n",
       "    </tr>\n",
       "    <tr>\n",
       "      <th>...</th>\n",
       "      <td>...</td>\n",
       "      <td>...</td>\n",
       "      <td>...</td>\n",
       "      <td>...</td>\n",
       "      <td>...</td>\n",
       "      <td>...</td>\n",
       "      <td>...</td>\n",
       "    </tr>\n",
       "    <tr>\n",
       "      <th>1989</th>\n",
       "      <td>n</td>\n",
       "      <td>uc-merced-land-use-dataset</td>\n",
       "      <td>CLASSIC_AT</td>\n",
       "      <td>NaN</td>\n",
       "      <td>NaN</td>\n",
       "      <td>NaN</td>\n",
       "      <td>NaN</td>\n",
       "    </tr>\n",
       "    <tr>\n",
       "      <th>1990</th>\n",
       "      <td>1</td>\n",
       "      <td>uc-merced-land-use-dataset</td>\n",
       "      <td>TRADES_v2</td>\n",
       "      <td>NaN</td>\n",
       "      <td>NaN</td>\n",
       "      <td>NaN</td>\n",
       "      <td>NaN</td>\n",
       "    </tr>\n",
       "    <tr>\n",
       "      <th>1991</th>\n",
       "      <td>1</td>\n",
       "      <td>uc-merced-land-use-dataset</td>\n",
       "      <td>CLASSIC_AT</td>\n",
       "      <td>NaN</td>\n",
       "      <td>NaN</td>\n",
       "      <td>NaN</td>\n",
       "      <td>NaN</td>\n",
       "    </tr>\n",
       "    <tr>\n",
       "      <th>1992</th>\n",
       "      <td>k</td>\n",
       "      <td>uc-merced-land-use-dataset</td>\n",
       "      <td>TRADES_v2</td>\n",
       "      <td>NaN</td>\n",
       "      <td>NaN</td>\n",
       "      <td>NaN</td>\n",
       "      <td>NaN</td>\n",
       "    </tr>\n",
       "    <tr>\n",
       "      <th>1993</th>\n",
       "      <td>k</td>\n",
       "      <td>uc-merced-land-use-dataset</td>\n",
       "      <td>CLASSIC_AT</td>\n",
       "      <td>NaN</td>\n",
       "      <td>NaN</td>\n",
       "      <td>NaN</td>\n",
       "      <td>NaN</td>\n",
       "    </tr>\n",
       "  </tbody>\n",
       "</table>\n",
       "<p>1994 rows × 7 columns</p>\n",
       "</div>"
      ],
      "text/plain": [
       "     backbone                     dataset loss_function  clean_acc  Linf_acc  \\\n",
       "0           C  uc-merced-land-use-dataset     TRADES_v2        NaN       NaN   \n",
       "1           C  uc-merced-land-use-dataset    CLASSIC_AT        NaN       NaN   \n",
       "2           L  uc-merced-land-use-dataset     TRADES_v2        NaN       NaN   \n",
       "3           L  uc-merced-land-use-dataset    CLASSIC_AT        NaN       NaN   \n",
       "4           I  uc-merced-land-use-dataset     TRADES_v2        NaN       NaN   \n",
       "...       ...                         ...           ...        ...       ...   \n",
       "1989        n  uc-merced-land-use-dataset    CLASSIC_AT        NaN       NaN   \n",
       "1990        1  uc-merced-land-use-dataset     TRADES_v2        NaN       NaN   \n",
       "1991        1  uc-merced-land-use-dataset    CLASSIC_AT        NaN       NaN   \n",
       "1992        k  uc-merced-land-use-dataset     TRADES_v2        NaN       NaN   \n",
       "1993        k  uc-merced-land-use-dataset    CLASSIC_AT        NaN       NaN   \n",
       "\n",
       "      L1_acc  L2_acc  \n",
       "0        NaN     NaN  \n",
       "1        NaN     NaN  \n",
       "2        NaN     NaN  \n",
       "3        NaN     NaN  \n",
       "4        NaN     NaN  \n",
       "...      ...     ...  \n",
       "1989     NaN     NaN  \n",
       "1990     NaN     NaN  \n",
       "1991     NaN     NaN  \n",
       "1992     NaN     NaN  \n",
       "1993     NaN     NaN  \n",
       "\n",
       "[1994 rows x 7 columns]"
      ]
     },
     "execution_count": 13,
     "metadata": {},
     "output_type": "execute_result"
    }
   ],
   "source": [
    "import pandas as pd\n",
    "\n",
    "df = pd.DataFrame(final_data)\n",
    "df"
   ]
  },
  {
   "cell_type": "code",
   "execution_count": 6,
   "metadata": {},
   "outputs": [
    {
     "ename": "KeyError",
     "evalue": "'robust_acc'",
     "output_type": "error",
     "traceback": [
      "\u001b[0;31m---------------------------------------------------------------------------\u001b[0m",
      "\u001b[0;31mKeyError\u001b[0m                                  Traceback (most recent call last)",
      "File \u001b[0;32m~/Desktop/robust_training/.venv2/lib/python3.11/site-packages/pandas/core/indexes/base.py:3805\u001b[0m, in \u001b[0;36mIndex.get_loc\u001b[0;34m(self, key)\u001b[0m\n\u001b[1;32m   3804\u001b[0m \u001b[38;5;28;01mtry\u001b[39;00m:\n\u001b[0;32m-> 3805\u001b[0m     \u001b[38;5;28;01mreturn\u001b[39;00m \u001b[38;5;28;43mself\u001b[39;49m\u001b[38;5;241;43m.\u001b[39;49m\u001b[43m_engine\u001b[49m\u001b[38;5;241;43m.\u001b[39;49m\u001b[43mget_loc\u001b[49m\u001b[43m(\u001b[49m\u001b[43mcasted_key\u001b[49m\u001b[43m)\u001b[49m\n\u001b[1;32m   3806\u001b[0m \u001b[38;5;28;01mexcept\u001b[39;00m \u001b[38;5;167;01mKeyError\u001b[39;00m \u001b[38;5;28;01mas\u001b[39;00m err:\n",
      "File \u001b[0;32mindex.pyx:167\u001b[0m, in \u001b[0;36mpandas._libs.index.IndexEngine.get_loc\u001b[0;34m()\u001b[0m\n",
      "File \u001b[0;32mindex.pyx:196\u001b[0m, in \u001b[0;36mpandas._libs.index.IndexEngine.get_loc\u001b[0;34m()\u001b[0m\n",
      "File \u001b[0;32mpandas/_libs/hashtable_class_helper.pxi:7081\u001b[0m, in \u001b[0;36mpandas._libs.hashtable.PyObjectHashTable.get_item\u001b[0;34m()\u001b[0m\n",
      "File \u001b[0;32mpandas/_libs/hashtable_class_helper.pxi:7089\u001b[0m, in \u001b[0;36mpandas._libs.hashtable.PyObjectHashTable.get_item\u001b[0;34m()\u001b[0m\n",
      "\u001b[0;31mKeyError\u001b[0m: 'robust_acc'",
      "\nThe above exception was the direct cause of the following exception:\n",
      "\u001b[0;31mKeyError\u001b[0m                                  Traceback (most recent call last)",
      "Cell \u001b[0;32mIn[6], line 5\u001b[0m\n\u001b[1;32m      1\u001b[0m \u001b[38;5;66;03m# Define the valid condition for each row:\u001b[39;00m\n\u001b[1;32m      2\u001b[0m \u001b[38;5;66;03m#   - either both are not NaN,\u001b[39;00m\n\u001b[1;32m      3\u001b[0m \u001b[38;5;66;03m#   - or exactly one is NaN (and then the other must be not NaN)\u001b[39;00m\n\u001b[1;32m      4\u001b[0m valid_condition \u001b[38;5;241m=\u001b[39m (\n\u001b[0;32m----> 5\u001b[0m     (\u001b[43mdf\u001b[49m\u001b[43m[\u001b[49m\u001b[38;5;124;43m'\u001b[39;49m\u001b[38;5;124;43mrobust_acc\u001b[39;49m\u001b[38;5;124;43m'\u001b[39;49m\u001b[43m]\u001b[49m\u001b[38;5;241m.\u001b[39misna() \u001b[38;5;241m&\u001b[39m df[\u001b[38;5;124m'\u001b[39m\u001b[38;5;124mLinf_acc\u001b[39m\u001b[38;5;124m'\u001b[39m]\u001b[38;5;241m.\u001b[39mnotna()) \u001b[38;5;241m|\u001b[39m \n\u001b[1;32m      6\u001b[0m     (df[\u001b[38;5;124m'\u001b[39m\u001b[38;5;124mLinf_acc\u001b[39m\u001b[38;5;124m'\u001b[39m]\u001b[38;5;241m.\u001b[39misna() \u001b[38;5;241m&\u001b[39m df[\u001b[38;5;124m'\u001b[39m\u001b[38;5;124mrobust_acc\u001b[39m\u001b[38;5;124m'\u001b[39m]\u001b[38;5;241m.\u001b[39mnotna()) \u001b[38;5;241m|\u001b[39m \n\u001b[1;32m      7\u001b[0m     (df[\u001b[38;5;124m'\u001b[39m\u001b[38;5;124mrobust_acc\u001b[39m\u001b[38;5;124m'\u001b[39m]\u001b[38;5;241m.\u001b[39misna() \u001b[38;5;241m&\u001b[39m df[\u001b[38;5;124m'\u001b[39m\u001b[38;5;124mLinf_acc\u001b[39m\u001b[38;5;124m'\u001b[39m]\u001b[38;5;241m.\u001b[39misna())\n\u001b[1;32m      8\u001b[0m )\n\u001b[1;32m     10\u001b[0m \u001b[38;5;28;01mif\u001b[39;00m valid_condition\u001b[38;5;241m.\u001b[39mall():\n\u001b[1;32m     11\u001b[0m     \u001b[38;5;28mprint\u001b[39m(\u001b[38;5;124m\"\u001b[39m\u001b[38;5;124mCondition holds: If one column is NaN, the other is necessarily not NaN.\u001b[39m\u001b[38;5;124m\"\u001b[39m)\n",
      "File \u001b[0;32m~/Desktop/robust_training/.venv2/lib/python3.11/site-packages/pandas/core/frame.py:4102\u001b[0m, in \u001b[0;36mDataFrame.__getitem__\u001b[0;34m(self, key)\u001b[0m\n\u001b[1;32m   4100\u001b[0m \u001b[38;5;28;01mif\u001b[39;00m \u001b[38;5;28mself\u001b[39m\u001b[38;5;241m.\u001b[39mcolumns\u001b[38;5;241m.\u001b[39mnlevels \u001b[38;5;241m>\u001b[39m \u001b[38;5;241m1\u001b[39m:\n\u001b[1;32m   4101\u001b[0m     \u001b[38;5;28;01mreturn\u001b[39;00m \u001b[38;5;28mself\u001b[39m\u001b[38;5;241m.\u001b[39m_getitem_multilevel(key)\n\u001b[0;32m-> 4102\u001b[0m indexer \u001b[38;5;241m=\u001b[39m \u001b[38;5;28;43mself\u001b[39;49m\u001b[38;5;241;43m.\u001b[39;49m\u001b[43mcolumns\u001b[49m\u001b[38;5;241;43m.\u001b[39;49m\u001b[43mget_loc\u001b[49m\u001b[43m(\u001b[49m\u001b[43mkey\u001b[49m\u001b[43m)\u001b[49m\n\u001b[1;32m   4103\u001b[0m \u001b[38;5;28;01mif\u001b[39;00m is_integer(indexer):\n\u001b[1;32m   4104\u001b[0m     indexer \u001b[38;5;241m=\u001b[39m [indexer]\n",
      "File \u001b[0;32m~/Desktop/robust_training/.venv2/lib/python3.11/site-packages/pandas/core/indexes/base.py:3812\u001b[0m, in \u001b[0;36mIndex.get_loc\u001b[0;34m(self, key)\u001b[0m\n\u001b[1;32m   3807\u001b[0m     \u001b[38;5;28;01mif\u001b[39;00m \u001b[38;5;28misinstance\u001b[39m(casted_key, \u001b[38;5;28mslice\u001b[39m) \u001b[38;5;129;01mor\u001b[39;00m (\n\u001b[1;32m   3808\u001b[0m         \u001b[38;5;28misinstance\u001b[39m(casted_key, abc\u001b[38;5;241m.\u001b[39mIterable)\n\u001b[1;32m   3809\u001b[0m         \u001b[38;5;129;01mand\u001b[39;00m \u001b[38;5;28many\u001b[39m(\u001b[38;5;28misinstance\u001b[39m(x, \u001b[38;5;28mslice\u001b[39m) \u001b[38;5;28;01mfor\u001b[39;00m x \u001b[38;5;129;01min\u001b[39;00m casted_key)\n\u001b[1;32m   3810\u001b[0m     ):\n\u001b[1;32m   3811\u001b[0m         \u001b[38;5;28;01mraise\u001b[39;00m InvalidIndexError(key)\n\u001b[0;32m-> 3812\u001b[0m     \u001b[38;5;28;01mraise\u001b[39;00m \u001b[38;5;167;01mKeyError\u001b[39;00m(key) \u001b[38;5;28;01mfrom\u001b[39;00m\u001b[38;5;250m \u001b[39m\u001b[38;5;21;01merr\u001b[39;00m\n\u001b[1;32m   3813\u001b[0m \u001b[38;5;28;01mexcept\u001b[39;00m \u001b[38;5;167;01mTypeError\u001b[39;00m:\n\u001b[1;32m   3814\u001b[0m     \u001b[38;5;66;03m# If we have a listlike key, _check_indexing_error will raise\u001b[39;00m\n\u001b[1;32m   3815\u001b[0m     \u001b[38;5;66;03m#  InvalidIndexError. Otherwise we fall through and re-raise\u001b[39;00m\n\u001b[1;32m   3816\u001b[0m     \u001b[38;5;66;03m#  the TypeError.\u001b[39;00m\n\u001b[1;32m   3817\u001b[0m     \u001b[38;5;28mself\u001b[39m\u001b[38;5;241m.\u001b[39m_check_indexing_error(key)\n",
      "\u001b[0;31mKeyError\u001b[0m: 'robust_acc'"
     ]
    }
   ],
   "source": [
    "\n",
    "# Define the valid condition for each row:\n",
    "#   - either both are not NaN,\n",
    "#   - or exactly one is NaN (and then the other must be not NaN)\n",
    "valid_condition = (\n",
    "    (df['robust_acc'].isna() & df['Linf_acc'].notna()) | \n",
    "    (df['Linf_acc'].isna() & df['robust_acc'].notna()) | \n",
    "    (df['robust_acc'].isna() & df['Linf_acc'].isna())\n",
    ")\n",
    "\n",
    "if valid_condition.all():\n",
    "    print(\"Condition holds: If one column is NaN, the other is necessarily not NaN.\")\n",
    "else:\n",
    "    print(\"Condition does NOT hold. The following rows do not meet the requirement:\")\n",
    "\n",
    "# set(df[~valid_condition]['dataset'])\n",
    "\n",
    "df[~valid_condition]\n"
   ]
  },
  {
   "cell_type": "code",
   "execution_count": 18,
   "metadata": {},
   "outputs": [
    {
     "data": {
      "text/html": [
       "<div>\n",
       "<style scoped>\n",
       "    .dataframe tbody tr th:only-of-type {\n",
       "        vertical-align: middle;\n",
       "    }\n",
       "\n",
       "    .dataframe tbody tr th {\n",
       "        vertical-align: top;\n",
       "    }\n",
       "\n",
       "    .dataframe thead th {\n",
       "        text-align: right;\n",
       "    }\n",
       "</style>\n",
       "<table border=\"1\" class=\"dataframe\">\n",
       "  <thead>\n",
       "    <tr style=\"text-align: right;\">\n",
       "      <th></th>\n",
       "      <th>backbone</th>\n",
       "      <th>dataset</th>\n",
       "      <th>loss_function</th>\n",
       "      <th>clean_acc</th>\n",
       "      <th>robust_acc</th>\n",
       "      <th>Linf_acc</th>\n",
       "      <th>L2_acc</th>\n",
       "      <th>L1_acc</th>\n",
       "    </tr>\n",
       "  </thead>\n",
       "  <tbody>\n",
       "    <tr>\n",
       "      <th>1</th>\n",
       "      <td>convnext_tiny</td>\n",
       "      <td>stanford_cars</td>\n",
       "      <td>TRADES_v2</td>\n",
       "      <td>0.790667</td>\n",
       "      <td>0.513333</td>\n",
       "      <td>0.624667</td>\n",
       "      <td>NaN</td>\n",
       "      <td>NaN</td>\n",
       "    </tr>\n",
       "    <tr>\n",
       "      <th>6</th>\n",
       "      <td>convnext_tiny</td>\n",
       "      <td>oxford-iiit-pet</td>\n",
       "      <td>TRADES_v2</td>\n",
       "      <td>0.872667</td>\n",
       "      <td>NaN</td>\n",
       "      <td>0.690667</td>\n",
       "      <td>NaN</td>\n",
       "      <td>NaN</td>\n",
       "    </tr>\n",
       "    <tr>\n",
       "      <th>8</th>\n",
       "      <td>convnext_tiny</td>\n",
       "      <td>stanford_cars</td>\n",
       "      <td>CLASSIC_AT</td>\n",
       "      <td>0.692667</td>\n",
       "      <td>0.420000</td>\n",
       "      <td>0.422000</td>\n",
       "      <td>NaN</td>\n",
       "      <td>NaN</td>\n",
       "    </tr>\n",
       "    <tr>\n",
       "      <th>15</th>\n",
       "      <td>robust_convnext_tiny</td>\n",
       "      <td>stanford_cars</td>\n",
       "      <td>TRADES_v2</td>\n",
       "      <td>0.758000</td>\n",
       "      <td>0.643333</td>\n",
       "      <td>0.650000</td>\n",
       "      <td>NaN</td>\n",
       "      <td>NaN</td>\n",
       "    </tr>\n",
       "    <tr>\n",
       "      <th>20</th>\n",
       "      <td>robust_convnext_tiny</td>\n",
       "      <td>oxford-iiit-pet</td>\n",
       "      <td>TRADES_v2</td>\n",
       "      <td>0.854000</td>\n",
       "      <td>NaN</td>\n",
       "      <td>0.763333</td>\n",
       "      <td>NaN</td>\n",
       "      <td>NaN</td>\n",
       "    </tr>\n",
       "    <tr>\n",
       "      <th>22</th>\n",
       "      <td>robust_convnext_tiny</td>\n",
       "      <td>stanford_cars</td>\n",
       "      <td>CLASSIC_AT</td>\n",
       "      <td>0.556667</td>\n",
       "      <td>0.620000</td>\n",
       "      <td>0.414000</td>\n",
       "      <td>NaN</td>\n",
       "      <td>NaN</td>\n",
       "    </tr>\n",
       "    <tr>\n",
       "      <th>29</th>\n",
       "      <td>convnext_tiny.fb_in22k</td>\n",
       "      <td>stanford_cars</td>\n",
       "      <td>TRADES_v2</td>\n",
       "      <td>0.799333</td>\n",
       "      <td>0.620667</td>\n",
       "      <td>0.632667</td>\n",
       "      <td>NaN</td>\n",
       "      <td>NaN</td>\n",
       "    </tr>\n",
       "    <tr>\n",
       "      <th>34</th>\n",
       "      <td>convnext_tiny.fb_in22k</td>\n",
       "      <td>oxford-iiit-pet</td>\n",
       "      <td>TRADES_v2</td>\n",
       "      <td>0.838667</td>\n",
       "      <td>NaN</td>\n",
       "      <td>0.679333</td>\n",
       "      <td>NaN</td>\n",
       "      <td>NaN</td>\n",
       "    </tr>\n",
       "    <tr>\n",
       "      <th>36</th>\n",
       "      <td>convnext_tiny.fb_in22k</td>\n",
       "      <td>stanford_cars</td>\n",
       "      <td>CLASSIC_AT</td>\n",
       "      <td>0.591333</td>\n",
       "      <td>0.334000</td>\n",
       "      <td>0.346000</td>\n",
       "      <td>NaN</td>\n",
       "      <td>NaN</td>\n",
       "    </tr>\n",
       "    <tr>\n",
       "      <th>48</th>\n",
       "      <td>deit_small_patch16_224.fb_in1k</td>\n",
       "      <td>oxford-iiit-pet</td>\n",
       "      <td>TRADES_v2</td>\n",
       "      <td>0.880667</td>\n",
       "      <td>NaN</td>\n",
       "      <td>0.616667</td>\n",
       "      <td>NaN</td>\n",
       "      <td>NaN</td>\n",
       "    </tr>\n",
       "    <tr>\n",
       "      <th>62</th>\n",
       "      <td>robust_deit_small_patch16_224</td>\n",
       "      <td>oxford-iiit-pet</td>\n",
       "      <td>TRADES_v2</td>\n",
       "      <td>0.848000</td>\n",
       "      <td>NaN</td>\n",
       "      <td>0.706667</td>\n",
       "      <td>NaN</td>\n",
       "      <td>NaN</td>\n",
       "    </tr>\n",
       "    <tr>\n",
       "      <th>71</th>\n",
       "      <td>convnext_base</td>\n",
       "      <td>stanford_cars</td>\n",
       "      <td>TRADES_v2</td>\n",
       "      <td>0.828667</td>\n",
       "      <td>NaN</td>\n",
       "      <td>0.694667</td>\n",
       "      <td>NaN</td>\n",
       "      <td>NaN</td>\n",
       "    </tr>\n",
       "    <tr>\n",
       "      <th>76</th>\n",
       "      <td>convnext_base</td>\n",
       "      <td>oxford-iiit-pet</td>\n",
       "      <td>TRADES_v2</td>\n",
       "      <td>0.880000</td>\n",
       "      <td>NaN</td>\n",
       "      <td>0.742000</td>\n",
       "      <td>NaN</td>\n",
       "      <td>NaN</td>\n",
       "    </tr>\n",
       "    <tr>\n",
       "      <th>78</th>\n",
       "      <td>convnext_base</td>\n",
       "      <td>stanford_cars</td>\n",
       "      <td>CLASSIC_AT</td>\n",
       "      <td>0.762667</td>\n",
       "      <td>NaN</td>\n",
       "      <td>0.556667</td>\n",
       "      <td>NaN</td>\n",
       "      <td>NaN</td>\n",
       "    </tr>\n",
       "    <tr>\n",
       "      <th>90</th>\n",
       "      <td>convnext_base.fb_in22k</td>\n",
       "      <td>oxford-iiit-pet</td>\n",
       "      <td>TRADES_v2</td>\n",
       "      <td>0.875333</td>\n",
       "      <td>0.733333</td>\n",
       "      <td>0.726667</td>\n",
       "      <td>NaN</td>\n",
       "      <td>NaN</td>\n",
       "    </tr>\n",
       "    <tr>\n",
       "      <th>92</th>\n",
       "      <td>convnext_base.fb_in22k</td>\n",
       "      <td>stanford_cars</td>\n",
       "      <td>CLASSIC_AT</td>\n",
       "      <td>0.733333</td>\n",
       "      <td>NaN</td>\n",
       "      <td>0.525333</td>\n",
       "      <td>NaN</td>\n",
       "      <td>NaN</td>\n",
       "    </tr>\n",
       "    <tr>\n",
       "      <th>104</th>\n",
       "      <td>robust_convnext_base</td>\n",
       "      <td>oxford-iiit-pet</td>\n",
       "      <td>TRADES_v2</td>\n",
       "      <td>0.888000</td>\n",
       "      <td>NaN</td>\n",
       "      <td>0.809333</td>\n",
       "      <td>NaN</td>\n",
       "      <td>NaN</td>\n",
       "    </tr>\n",
       "    <tr>\n",
       "      <th>106</th>\n",
       "      <td>robust_convnext_base</td>\n",
       "      <td>stanford_cars</td>\n",
       "      <td>CLASSIC_AT</td>\n",
       "      <td>0.608000</td>\n",
       "      <td>NaN</td>\n",
       "      <td>0.563333</td>\n",
       "      <td>NaN</td>\n",
       "      <td>NaN</td>\n",
       "    </tr>\n",
       "    <tr>\n",
       "      <th>118</th>\n",
       "      <td>convnext_base.clip_laion2b</td>\n",
       "      <td>oxford-iiit-pet</td>\n",
       "      <td>TRADES_v2</td>\n",
       "      <td>0.865333</td>\n",
       "      <td>NaN</td>\n",
       "      <td>0.682667</td>\n",
       "      <td>NaN</td>\n",
       "      <td>NaN</td>\n",
       "    </tr>\n",
       "    <tr>\n",
       "      <th>120</th>\n",
       "      <td>convnext_base.clip_laion2b</td>\n",
       "      <td>stanford_cars</td>\n",
       "      <td>CLASSIC_AT</td>\n",
       "      <td>0.911333</td>\n",
       "      <td>NaN</td>\n",
       "      <td>0.822667</td>\n",
       "      <td>NaN</td>\n",
       "      <td>NaN</td>\n",
       "    </tr>\n",
       "    <tr>\n",
       "      <th>132</th>\n",
       "      <td>convnext_base.clip_laion2b_augreg</td>\n",
       "      <td>oxford-iiit-pet</td>\n",
       "      <td>TRADES_v2</td>\n",
       "      <td>0.865333</td>\n",
       "      <td>NaN</td>\n",
       "      <td>0.696000</td>\n",
       "      <td>NaN</td>\n",
       "      <td>NaN</td>\n",
       "    </tr>\n",
       "    <tr>\n",
       "      <th>134</th>\n",
       "      <td>convnext_base.clip_laion2b_augreg</td>\n",
       "      <td>stanford_cars</td>\n",
       "      <td>CLASSIC_AT</td>\n",
       "      <td>0.900000</td>\n",
       "      <td>NaN</td>\n",
       "      <td>0.819333</td>\n",
       "      <td>NaN</td>\n",
       "      <td>NaN</td>\n",
       "    </tr>\n",
       "    <tr>\n",
       "      <th>145</th>\n",
       "      <td>vit_base_patch16_224.augreg_in1k</td>\n",
       "      <td>flowers-102</td>\n",
       "      <td>TRADES_v2</td>\n",
       "      <td>0.862000</td>\n",
       "      <td>NaN</td>\n",
       "      <td>0.692667</td>\n",
       "      <td>NaN</td>\n",
       "      <td>NaN</td>\n",
       "    </tr>\n",
       "    <tr>\n",
       "      <th>146</th>\n",
       "      <td>vit_base_patch16_224.augreg_in1k</td>\n",
       "      <td>oxford-iiit-pet</td>\n",
       "      <td>TRADES_v2</td>\n",
       "      <td>0.864000</td>\n",
       "      <td>NaN</td>\n",
       "      <td>0.626667</td>\n",
       "      <td>NaN</td>\n",
       "      <td>NaN</td>\n",
       "    </tr>\n",
       "    <tr>\n",
       "      <th>160</th>\n",
       "      <td>vit_base_patch16_224.augreg_in21k</td>\n",
       "      <td>oxford-iiit-pet</td>\n",
       "      <td>TRADES_v2</td>\n",
       "      <td>0.900000</td>\n",
       "      <td>NaN</td>\n",
       "      <td>0.648000</td>\n",
       "      <td>NaN</td>\n",
       "      <td>NaN</td>\n",
       "    </tr>\n",
       "    <tr>\n",
       "      <th>174</th>\n",
       "      <td>vit_base_patch16_224.dino</td>\n",
       "      <td>oxford-iiit-pet</td>\n",
       "      <td>TRADES_v2</td>\n",
       "      <td>0.909333</td>\n",
       "      <td>NaN</td>\n",
       "      <td>0.658667</td>\n",
       "      <td>NaN</td>\n",
       "      <td>NaN</td>\n",
       "    </tr>\n",
       "    <tr>\n",
       "      <th>188</th>\n",
       "      <td>vit_base_patch16_224.mae</td>\n",
       "      <td>oxford-iiit-pet</td>\n",
       "      <td>TRADES_v2</td>\n",
       "      <td>0.884000</td>\n",
       "      <td>NaN</td>\n",
       "      <td>0.618000</td>\n",
       "      <td>NaN</td>\n",
       "      <td>NaN</td>\n",
       "    </tr>\n",
       "    <tr>\n",
       "      <th>202</th>\n",
       "      <td>vit_base_patch16_224.orig_in21k</td>\n",
       "      <td>oxford-iiit-pet</td>\n",
       "      <td>TRADES_v2</td>\n",
       "      <td>0.897333</td>\n",
       "      <td>NaN</td>\n",
       "      <td>0.624000</td>\n",
       "      <td>NaN</td>\n",
       "      <td>NaN</td>\n",
       "    </tr>\n",
       "    <tr>\n",
       "      <th>205</th>\n",
       "      <td>vit_base_patch16_224.orig_in21k</td>\n",
       "      <td>caltech101</td>\n",
       "      <td>CLASSIC_AT</td>\n",
       "      <td>0.800000</td>\n",
       "      <td>NaN</td>\n",
       "      <td>0.754667</td>\n",
       "      <td>NaN</td>\n",
       "      <td>NaN</td>\n",
       "    </tr>\n",
       "    <tr>\n",
       "      <th>216</th>\n",
       "      <td>vit_base_patch16_224.sam_in1k</td>\n",
       "      <td>oxford-iiit-pet</td>\n",
       "      <td>TRADES_v2</td>\n",
       "      <td>0.905333</td>\n",
       "      <td>NaN</td>\n",
       "      <td>0.674667</td>\n",
       "      <td>NaN</td>\n",
       "      <td>NaN</td>\n",
       "    </tr>\n",
       "    <tr>\n",
       "      <th>230</th>\n",
       "      <td>vit_base_patch16_224_miil.in21k</td>\n",
       "      <td>oxford-iiit-pet</td>\n",
       "      <td>TRADES_v2</td>\n",
       "      <td>0.890667</td>\n",
       "      <td>0.606667</td>\n",
       "      <td>0.627333</td>\n",
       "      <td>NaN</td>\n",
       "      <td>NaN</td>\n",
       "    </tr>\n",
       "    <tr>\n",
       "      <th>233</th>\n",
       "      <td>vit_base_patch16_224_miil.in21k</td>\n",
       "      <td>caltech101</td>\n",
       "      <td>CLASSIC_AT</td>\n",
       "      <td>0.086000</td>\n",
       "      <td>NaN</td>\n",
       "      <td>0.071333</td>\n",
       "      <td>NaN</td>\n",
       "      <td>NaN</td>\n",
       "    </tr>\n",
       "    <tr>\n",
       "      <th>239</th>\n",
       "      <td>robust_vit_base_patch16_224</td>\n",
       "      <td>stanford_cars</td>\n",
       "      <td>TRADES_v2</td>\n",
       "      <td>0.159333</td>\n",
       "      <td>NaN</td>\n",
       "      <td>0.064667</td>\n",
       "      <td>NaN</td>\n",
       "      <td>NaN</td>\n",
       "    </tr>\n",
       "    <tr>\n",
       "      <th>240</th>\n",
       "      <td>robust_vit_base_patch16_224</td>\n",
       "      <td>caltech101</td>\n",
       "      <td>TRADES_v2</td>\n",
       "      <td>0.972667</td>\n",
       "      <td>NaN</td>\n",
       "      <td>0.927333</td>\n",
       "      <td>NaN</td>\n",
       "      <td>NaN</td>\n",
       "    </tr>\n",
       "    <tr>\n",
       "      <th>241</th>\n",
       "      <td>robust_vit_base_patch16_224</td>\n",
       "      <td>fgvc-aircraft-2013b</td>\n",
       "      <td>TRADES_v2</td>\n",
       "      <td>0.584667</td>\n",
       "      <td>NaN</td>\n",
       "      <td>0.452000</td>\n",
       "      <td>NaN</td>\n",
       "      <td>NaN</td>\n",
       "    </tr>\n",
       "    <tr>\n",
       "      <th>242</th>\n",
       "      <td>robust_vit_base_patch16_224</td>\n",
       "      <td>dtd</td>\n",
       "      <td>TRADES_v2</td>\n",
       "      <td>0.612000</td>\n",
       "      <td>NaN</td>\n",
       "      <td>0.449333</td>\n",
       "      <td>NaN</td>\n",
       "      <td>NaN</td>\n",
       "    </tr>\n",
       "    <tr>\n",
       "      <th>243</th>\n",
       "      <td>robust_vit_base_patch16_224</td>\n",
       "      <td>flowers-102</td>\n",
       "      <td>TRADES_v2</td>\n",
       "      <td>0.735333</td>\n",
       "      <td>NaN</td>\n",
       "      <td>0.605333</td>\n",
       "      <td>NaN</td>\n",
       "      <td>NaN</td>\n",
       "    </tr>\n",
       "    <tr>\n",
       "      <th>244</th>\n",
       "      <td>robust_vit_base_patch16_224</td>\n",
       "      <td>oxford-iiit-pet</td>\n",
       "      <td>TRADES_v2</td>\n",
       "      <td>0.877333</td>\n",
       "      <td>NaN</td>\n",
       "      <td>0.750000</td>\n",
       "      <td>NaN</td>\n",
       "      <td>NaN</td>\n",
       "    </tr>\n",
       "    <tr>\n",
       "      <th>246</th>\n",
       "      <td>robust_vit_base_patch16_224</td>\n",
       "      <td>stanford_cars</td>\n",
       "      <td>CLASSIC_AT</td>\n",
       "      <td>0.009333</td>\n",
       "      <td>NaN</td>\n",
       "      <td>0.004000</td>\n",
       "      <td>NaN</td>\n",
       "      <td>NaN</td>\n",
       "    </tr>\n",
       "    <tr>\n",
       "      <th>247</th>\n",
       "      <td>robust_vit_base_patch16_224</td>\n",
       "      <td>caltech101</td>\n",
       "      <td>CLASSIC_AT</td>\n",
       "      <td>0.193333</td>\n",
       "      <td>NaN</td>\n",
       "      <td>0.189333</td>\n",
       "      <td>NaN</td>\n",
       "      <td>NaN</td>\n",
       "    </tr>\n",
       "    <tr>\n",
       "      <th>248</th>\n",
       "      <td>robust_vit_base_patch16_224</td>\n",
       "      <td>fgvc-aircraft-2013b</td>\n",
       "      <td>CLASSIC_AT</td>\n",
       "      <td>0.214667</td>\n",
       "      <td>NaN</td>\n",
       "      <td>0.175333</td>\n",
       "      <td>NaN</td>\n",
       "      <td>NaN</td>\n",
       "    </tr>\n",
       "    <tr>\n",
       "      <th>249</th>\n",
       "      <td>robust_vit_base_patch16_224</td>\n",
       "      <td>dtd</td>\n",
       "      <td>CLASSIC_AT</td>\n",
       "      <td>0.268667</td>\n",
       "      <td>NaN</td>\n",
       "      <td>0.197333</td>\n",
       "      <td>NaN</td>\n",
       "      <td>NaN</td>\n",
       "    </tr>\n",
       "    <tr>\n",
       "      <th>250</th>\n",
       "      <td>robust_vit_base_patch16_224</td>\n",
       "      <td>flowers-102</td>\n",
       "      <td>CLASSIC_AT</td>\n",
       "      <td>0.006667</td>\n",
       "      <td>NaN</td>\n",
       "      <td>0.002000</td>\n",
       "      <td>NaN</td>\n",
       "      <td>NaN</td>\n",
       "    </tr>\n",
       "    <tr>\n",
       "      <th>251</th>\n",
       "      <td>robust_vit_base_patch16_224</td>\n",
       "      <td>oxford-iiit-pet</td>\n",
       "      <td>CLASSIC_AT</td>\n",
       "      <td>0.156000</td>\n",
       "      <td>NaN</td>\n",
       "      <td>0.136667</td>\n",
       "      <td>NaN</td>\n",
       "      <td>NaN</td>\n",
       "    </tr>\n",
       "  </tbody>\n",
       "</table>\n",
       "</div>"
      ],
      "text/plain": [
       "                              backbone              dataset loss_function  \\\n",
       "1                        convnext_tiny        stanford_cars     TRADES_v2   \n",
       "6                        convnext_tiny      oxford-iiit-pet     TRADES_v2   \n",
       "8                        convnext_tiny        stanford_cars    CLASSIC_AT   \n",
       "15                robust_convnext_tiny        stanford_cars     TRADES_v2   \n",
       "20                robust_convnext_tiny      oxford-iiit-pet     TRADES_v2   \n",
       "22                robust_convnext_tiny        stanford_cars    CLASSIC_AT   \n",
       "29              convnext_tiny.fb_in22k        stanford_cars     TRADES_v2   \n",
       "34              convnext_tiny.fb_in22k      oxford-iiit-pet     TRADES_v2   \n",
       "36              convnext_tiny.fb_in22k        stanford_cars    CLASSIC_AT   \n",
       "48      deit_small_patch16_224.fb_in1k      oxford-iiit-pet     TRADES_v2   \n",
       "62       robust_deit_small_patch16_224      oxford-iiit-pet     TRADES_v2   \n",
       "71                       convnext_base        stanford_cars     TRADES_v2   \n",
       "76                       convnext_base      oxford-iiit-pet     TRADES_v2   \n",
       "78                       convnext_base        stanford_cars    CLASSIC_AT   \n",
       "90              convnext_base.fb_in22k      oxford-iiit-pet     TRADES_v2   \n",
       "92              convnext_base.fb_in22k        stanford_cars    CLASSIC_AT   \n",
       "104               robust_convnext_base      oxford-iiit-pet     TRADES_v2   \n",
       "106               robust_convnext_base        stanford_cars    CLASSIC_AT   \n",
       "118         convnext_base.clip_laion2b      oxford-iiit-pet     TRADES_v2   \n",
       "120         convnext_base.clip_laion2b        stanford_cars    CLASSIC_AT   \n",
       "132  convnext_base.clip_laion2b_augreg      oxford-iiit-pet     TRADES_v2   \n",
       "134  convnext_base.clip_laion2b_augreg        stanford_cars    CLASSIC_AT   \n",
       "145   vit_base_patch16_224.augreg_in1k          flowers-102     TRADES_v2   \n",
       "146   vit_base_patch16_224.augreg_in1k      oxford-iiit-pet     TRADES_v2   \n",
       "160  vit_base_patch16_224.augreg_in21k      oxford-iiit-pet     TRADES_v2   \n",
       "174          vit_base_patch16_224.dino      oxford-iiit-pet     TRADES_v2   \n",
       "188           vit_base_patch16_224.mae      oxford-iiit-pet     TRADES_v2   \n",
       "202    vit_base_patch16_224.orig_in21k      oxford-iiit-pet     TRADES_v2   \n",
       "205    vit_base_patch16_224.orig_in21k           caltech101    CLASSIC_AT   \n",
       "216      vit_base_patch16_224.sam_in1k      oxford-iiit-pet     TRADES_v2   \n",
       "230    vit_base_patch16_224_miil.in21k      oxford-iiit-pet     TRADES_v2   \n",
       "233    vit_base_patch16_224_miil.in21k           caltech101    CLASSIC_AT   \n",
       "239        robust_vit_base_patch16_224        stanford_cars     TRADES_v2   \n",
       "240        robust_vit_base_patch16_224           caltech101     TRADES_v2   \n",
       "241        robust_vit_base_patch16_224  fgvc-aircraft-2013b     TRADES_v2   \n",
       "242        robust_vit_base_patch16_224                  dtd     TRADES_v2   \n",
       "243        robust_vit_base_patch16_224          flowers-102     TRADES_v2   \n",
       "244        robust_vit_base_patch16_224      oxford-iiit-pet     TRADES_v2   \n",
       "246        robust_vit_base_patch16_224        stanford_cars    CLASSIC_AT   \n",
       "247        robust_vit_base_patch16_224           caltech101    CLASSIC_AT   \n",
       "248        robust_vit_base_patch16_224  fgvc-aircraft-2013b    CLASSIC_AT   \n",
       "249        robust_vit_base_patch16_224                  dtd    CLASSIC_AT   \n",
       "250        robust_vit_base_patch16_224          flowers-102    CLASSIC_AT   \n",
       "251        robust_vit_base_patch16_224      oxford-iiit-pet    CLASSIC_AT   \n",
       "\n",
       "     clean_acc  robust_acc  Linf_acc  L2_acc  L1_acc  \n",
       "1     0.790667    0.513333  0.624667     NaN     NaN  \n",
       "6     0.872667         NaN  0.690667     NaN     NaN  \n",
       "8     0.692667    0.420000  0.422000     NaN     NaN  \n",
       "15    0.758000    0.643333  0.650000     NaN     NaN  \n",
       "20    0.854000         NaN  0.763333     NaN     NaN  \n",
       "22    0.556667    0.620000  0.414000     NaN     NaN  \n",
       "29    0.799333    0.620667  0.632667     NaN     NaN  \n",
       "34    0.838667         NaN  0.679333     NaN     NaN  \n",
       "36    0.591333    0.334000  0.346000     NaN     NaN  \n",
       "48    0.880667         NaN  0.616667     NaN     NaN  \n",
       "62    0.848000         NaN  0.706667     NaN     NaN  \n",
       "71    0.828667         NaN  0.694667     NaN     NaN  \n",
       "76    0.880000         NaN  0.742000     NaN     NaN  \n",
       "78    0.762667         NaN  0.556667     NaN     NaN  \n",
       "90    0.875333    0.733333  0.726667     NaN     NaN  \n",
       "92    0.733333         NaN  0.525333     NaN     NaN  \n",
       "104   0.888000         NaN  0.809333     NaN     NaN  \n",
       "106   0.608000         NaN  0.563333     NaN     NaN  \n",
       "118   0.865333         NaN  0.682667     NaN     NaN  \n",
       "120   0.911333         NaN  0.822667     NaN     NaN  \n",
       "132   0.865333         NaN  0.696000     NaN     NaN  \n",
       "134   0.900000         NaN  0.819333     NaN     NaN  \n",
       "145   0.862000         NaN  0.692667     NaN     NaN  \n",
       "146   0.864000         NaN  0.626667     NaN     NaN  \n",
       "160   0.900000         NaN  0.648000     NaN     NaN  \n",
       "174   0.909333         NaN  0.658667     NaN     NaN  \n",
       "188   0.884000         NaN  0.618000     NaN     NaN  \n",
       "202   0.897333         NaN  0.624000     NaN     NaN  \n",
       "205   0.800000         NaN  0.754667     NaN     NaN  \n",
       "216   0.905333         NaN  0.674667     NaN     NaN  \n",
       "230   0.890667    0.606667  0.627333     NaN     NaN  \n",
       "233   0.086000         NaN  0.071333     NaN     NaN  \n",
       "239   0.159333         NaN  0.064667     NaN     NaN  \n",
       "240   0.972667         NaN  0.927333     NaN     NaN  \n",
       "241   0.584667         NaN  0.452000     NaN     NaN  \n",
       "242   0.612000         NaN  0.449333     NaN     NaN  \n",
       "243   0.735333         NaN  0.605333     NaN     NaN  \n",
       "244   0.877333         NaN  0.750000     NaN     NaN  \n",
       "246   0.009333         NaN  0.004000     NaN     NaN  \n",
       "247   0.193333         NaN  0.189333     NaN     NaN  \n",
       "248   0.214667         NaN  0.175333     NaN     NaN  \n",
       "249   0.268667         NaN  0.197333     NaN     NaN  \n",
       "250   0.006667         NaN  0.002000     NaN     NaN  \n",
       "251   0.156000         NaN  0.136667     NaN     NaN  "
      ]
     },
     "execution_count": 18,
     "metadata": {},
     "output_type": "execute_result"
    }
   ],
   "source": [
    "df[ df['Linf_acc'].notna() ]"
   ]
  },
  {
   "cell_type": "code",
   "execution_count": 19,
   "metadata": {},
   "outputs": [],
   "source": [
    "df['Linf_acc'] = df['robust_acc'].combine_first(df['Linf_acc'])\n",
    "# df['Linf_acc'] = df['Linf_acc'].combine_first(df['robust_acc'])"
   ]
  },
  {
   "cell_type": "code",
   "execution_count": 20,
   "metadata": {},
   "outputs": [
    {
     "data": {
      "text/html": [
       "<div>\n",
       "<style scoped>\n",
       "    .dataframe tbody tr th:only-of-type {\n",
       "        vertical-align: middle;\n",
       "    }\n",
       "\n",
       "    .dataframe tbody tr th {\n",
       "        vertical-align: top;\n",
       "    }\n",
       "\n",
       "    .dataframe thead th {\n",
       "        text-align: right;\n",
       "    }\n",
       "</style>\n",
       "<table border=\"1\" class=\"dataframe\">\n",
       "  <thead>\n",
       "    <tr style=\"text-align: right;\">\n",
       "      <th></th>\n",
       "      <th>backbone</th>\n",
       "      <th>loss_function</th>\n",
       "      <th>total_sum</th>\n",
       "      <th>total_geom_mean</th>\n",
       "      <th>rank_total_sum</th>\n",
       "      <th>rank_total_geom_mean</th>\n",
       "    </tr>\n",
       "  </thead>\n",
       "  <tbody>\n",
       "    <tr>\n",
       "      <th>1</th>\n",
       "      <td>convnext_base</td>\n",
       "      <td>TRADES_v2</td>\n",
       "      <td>9.540667</td>\n",
       "      <td>1.474117</td>\n",
       "      <td>1.0</td>\n",
       "      <td>1.0</td>\n",
       "    </tr>\n",
       "    <tr>\n",
       "      <th>4</th>\n",
       "      <td>convnext_base.clip_laion2b_augreg</td>\n",
       "      <td>CLASSIC_AT</td>\n",
       "      <td>9.298667</td>\n",
       "      <td>1.441563</td>\n",
       "      <td>2.0</td>\n",
       "      <td>2.0</td>\n",
       "    </tr>\n",
       "    <tr>\n",
       "      <th>2</th>\n",
       "      <td>convnext_base.clip_laion2b</td>\n",
       "      <td>CLASSIC_AT</td>\n",
       "      <td>9.226000</td>\n",
       "      <td>1.429585</td>\n",
       "      <td>3.0</td>\n",
       "      <td>4.0</td>\n",
       "    </tr>\n",
       "    <tr>\n",
       "      <th>11</th>\n",
       "      <td>convnext_tiny.fb_in22k</td>\n",
       "      <td>TRADES_v2</td>\n",
       "      <td>9.211333</td>\n",
       "      <td>1.429607</td>\n",
       "      <td>4.0</td>\n",
       "      <td>3.0</td>\n",
       "    </tr>\n",
       "    <tr>\n",
       "      <th>17</th>\n",
       "      <td>robust_convnext_tiny</td>\n",
       "      <td>TRADES_v2</td>\n",
       "      <td>8.998667</td>\n",
       "      <td>1.400416</td>\n",
       "      <td>5.0</td>\n",
       "      <td>5.0</td>\n",
       "    </tr>\n",
       "    <tr>\n",
       "      <th>31</th>\n",
       "      <td>vit_base_patch16_224.orig_in21k</td>\n",
       "      <td>TRADES_v2</td>\n",
       "      <td>8.883333</td>\n",
       "      <td>1.379085</td>\n",
       "      <td>6.0</td>\n",
       "      <td>7.0</td>\n",
       "    </tr>\n",
       "    <tr>\n",
       "      <th>33</th>\n",
       "      <td>vit_base_patch16_224.sam_in1k</td>\n",
       "      <td>TRADES_v2</td>\n",
       "      <td>8.826667</td>\n",
       "      <td>1.374667</td>\n",
       "      <td>7.0</td>\n",
       "      <td>8.0</td>\n",
       "    </tr>\n",
       "    <tr>\n",
       "      <th>0</th>\n",
       "      <td>convnext_base</td>\n",
       "      <td>CLASSIC_AT</td>\n",
       "      <td>8.818000</td>\n",
       "      <td>1.350452</td>\n",
       "      <td>8.0</td>\n",
       "      <td>11.0</td>\n",
       "    </tr>\n",
       "    <tr>\n",
       "      <th>6</th>\n",
       "      <td>convnext_base.fb_in22k</td>\n",
       "      <td>CLASSIC_AT</td>\n",
       "      <td>8.730667</td>\n",
       "      <td>1.336765</td>\n",
       "      <td>9.0</td>\n",
       "      <td>13.0</td>\n",
       "    </tr>\n",
       "    <tr>\n",
       "      <th>9</th>\n",
       "      <td>convnext_tiny</td>\n",
       "      <td>TRADES_v2</td>\n",
       "      <td>8.730000</td>\n",
       "      <td>1.352120</td>\n",
       "      <td>10.0</td>\n",
       "      <td>10.0</td>\n",
       "    </tr>\n",
       "    <tr>\n",
       "      <th>25</th>\n",
       "      <td>vit_base_patch16_224.augreg_in21k</td>\n",
       "      <td>TRADES_v2</td>\n",
       "      <td>8.538000</td>\n",
       "      <td>1.311963</td>\n",
       "      <td>11.0</td>\n",
       "      <td>17.0</td>\n",
       "    </tr>\n",
       "    <tr>\n",
       "      <th>27</th>\n",
       "      <td>vit_base_patch16_224.dino</td>\n",
       "      <td>TRADES_v2</td>\n",
       "      <td>8.520667</td>\n",
       "      <td>1.328814</td>\n",
       "      <td>12.0</td>\n",
       "      <td>15.0</td>\n",
       "    </tr>\n",
       "    <tr>\n",
       "      <th>14</th>\n",
       "      <td>robust_convnext_base</td>\n",
       "      <td>CLASSIC_AT</td>\n",
       "      <td>8.401333</td>\n",
       "      <td>1.314549</td>\n",
       "      <td>13.0</td>\n",
       "      <td>16.0</td>\n",
       "    </tr>\n",
       "    <tr>\n",
       "      <th>13</th>\n",
       "      <td>deit_small_patch16_224.fb_in1k</td>\n",
       "      <td>TRADES_v2</td>\n",
       "      <td>8.233333</td>\n",
       "      <td>1.288800</td>\n",
       "      <td>14.0</td>\n",
       "      <td>18.0</td>\n",
       "    </tr>\n",
       "    <tr>\n",
       "      <th>19</th>\n",
       "      <td>robust_deit_small_patch16_224</td>\n",
       "      <td>TRADES_v2</td>\n",
       "      <td>8.232667</td>\n",
       "      <td>1.286928</td>\n",
       "      <td>15.0</td>\n",
       "      <td>19.0</td>\n",
       "    </tr>\n",
       "    <tr>\n",
       "      <th>16</th>\n",
       "      <td>robust_convnext_tiny</td>\n",
       "      <td>CLASSIC_AT</td>\n",
       "      <td>8.176000</td>\n",
       "      <td>1.273722</td>\n",
       "      <td>16.0</td>\n",
       "      <td>20.0</td>\n",
       "    </tr>\n",
       "    <tr>\n",
       "      <th>7</th>\n",
       "      <td>convnext_base.fb_in22k</td>\n",
       "      <td>TRADES_v2</td>\n",
       "      <td>8.024667</td>\n",
       "      <td>1.389418</td>\n",
       "      <td>17.0</td>\n",
       "      <td>6.0</td>\n",
       "    </tr>\n",
       "    <tr>\n",
       "      <th>29</th>\n",
       "      <td>vit_base_patch16_224.mae</td>\n",
       "      <td>TRADES_v2</td>\n",
       "      <td>8.002667</td>\n",
       "      <td>1.263296</td>\n",
       "      <td>18.0</td>\n",
       "      <td>21.0</td>\n",
       "    </tr>\n",
       "    <tr>\n",
       "      <th>5</th>\n",
       "      <td>convnext_base.clip_laion2b_augreg</td>\n",
       "      <td>TRADES_v2</td>\n",
       "      <td>7.814667</td>\n",
       "      <td>1.365750</td>\n",
       "      <td>19.0</td>\n",
       "      <td>9.0</td>\n",
       "    </tr>\n",
       "    <tr>\n",
       "      <th>26</th>\n",
       "      <td>vit_base_patch16_224.dino</td>\n",
       "      <td>CLASSIC_AT</td>\n",
       "      <td>7.732667</td>\n",
       "      <td>1.203524</td>\n",
       "      <td>20.0</td>\n",
       "      <td>22.0</td>\n",
       "    </tr>\n",
       "    <tr>\n",
       "      <th>15</th>\n",
       "      <td>robust_convnext_base</td>\n",
       "      <td>TRADES_v2</td>\n",
       "      <td>7.724000</td>\n",
       "      <td>1.349915</td>\n",
       "      <td>21.0</td>\n",
       "      <td>12.0</td>\n",
       "    </tr>\n",
       "    <tr>\n",
       "      <th>23</th>\n",
       "      <td>vit_base_patch16_224.augreg_in1k</td>\n",
       "      <td>TRADES_v2</td>\n",
       "      <td>7.668000</td>\n",
       "      <td>1.185101</td>\n",
       "      <td>22.0</td>\n",
       "      <td>24.0</td>\n",
       "    </tr>\n",
       "    <tr>\n",
       "      <th>18</th>\n",
       "      <td>robust_deit_small_patch16_224</td>\n",
       "      <td>CLASSIC_AT</td>\n",
       "      <td>7.612667</td>\n",
       "      <td>1.187796</td>\n",
       "      <td>23.0</td>\n",
       "      <td>23.0</td>\n",
       "    </tr>\n",
       "    <tr>\n",
       "      <th>3</th>\n",
       "      <td>convnext_base.clip_laion2b</td>\n",
       "      <td>TRADES_v2</td>\n",
       "      <td>7.555333</td>\n",
       "      <td>1.330086</td>\n",
       "      <td>24.0</td>\n",
       "      <td>14.0</td>\n",
       "    </tr>\n",
       "    <tr>\n",
       "      <th>10</th>\n",
       "      <td>convnext_tiny.fb_in22k</td>\n",
       "      <td>CLASSIC_AT</td>\n",
       "      <td>7.474000</td>\n",
       "      <td>1.012359</td>\n",
       "      <td>25.0</td>\n",
       "      <td>31.0</td>\n",
       "    </tr>\n",
       "    <tr>\n",
       "      <th>8</th>\n",
       "      <td>convnext_tiny</td>\n",
       "      <td>CLASSIC_AT</td>\n",
       "      <td>7.380000</td>\n",
       "      <td>1.157774</td>\n",
       "      <td>26.0</td>\n",
       "      <td>25.0</td>\n",
       "    </tr>\n",
       "    <tr>\n",
       "      <th>35</th>\n",
       "      <td>vit_base_patch16_224_miil.in21k</td>\n",
       "      <td>TRADES_v2</td>\n",
       "      <td>7.228667</td>\n",
       "      <td>1.086819</td>\n",
       "      <td>27.0</td>\n",
       "      <td>28.0</td>\n",
       "    </tr>\n",
       "    <tr>\n",
       "      <th>21</th>\n",
       "      <td>robust_vit_base_patch16_224</td>\n",
       "      <td>TRADES_v2</td>\n",
       "      <td>7.190000</td>\n",
       "      <td>1.003060</td>\n",
       "      <td>28.0</td>\n",
       "      <td>32.0</td>\n",
       "    </tr>\n",
       "    <tr>\n",
       "      <th>12</th>\n",
       "      <td>deit_small_patch16_224.fb_in1k</td>\n",
       "      <td>CLASSIC_AT</td>\n",
       "      <td>7.130667</td>\n",
       "      <td>1.110653</td>\n",
       "      <td>29.0</td>\n",
       "      <td>26.0</td>\n",
       "    </tr>\n",
       "    <tr>\n",
       "      <th>32</th>\n",
       "      <td>vit_base_patch16_224.sam_in1k</td>\n",
       "      <td>CLASSIC_AT</td>\n",
       "      <td>7.058667</td>\n",
       "      <td>1.106104</td>\n",
       "      <td>30.0</td>\n",
       "      <td>27.0</td>\n",
       "    </tr>\n",
       "    <tr>\n",
       "      <th>30</th>\n",
       "      <td>vit_base_patch16_224.orig_in21k</td>\n",
       "      <td>CLASSIC_AT</td>\n",
       "      <td>6.847333</td>\n",
       "      <td>1.057468</td>\n",
       "      <td>31.0</td>\n",
       "      <td>29.0</td>\n",
       "    </tr>\n",
       "    <tr>\n",
       "      <th>22</th>\n",
       "      <td>vit_base_patch16_224.augreg_in1k</td>\n",
       "      <td>CLASSIC_AT</td>\n",
       "      <td>6.780667</td>\n",
       "      <td>1.031254</td>\n",
       "      <td>32.0</td>\n",
       "      <td>30.0</td>\n",
       "    </tr>\n",
       "    <tr>\n",
       "      <th>28</th>\n",
       "      <td>vit_base_patch16_224.mae</td>\n",
       "      <td>CLASSIC_AT</td>\n",
       "      <td>5.574667</td>\n",
       "      <td>0.810226</td>\n",
       "      <td>33.0</td>\n",
       "      <td>33.0</td>\n",
       "    </tr>\n",
       "    <tr>\n",
       "      <th>24</th>\n",
       "      <td>vit_base_patch16_224.augreg_in21k</td>\n",
       "      <td>CLASSIC_AT</td>\n",
       "      <td>5.490000</td>\n",
       "      <td>0.576810</td>\n",
       "      <td>34.0</td>\n",
       "      <td>34.0</td>\n",
       "    </tr>\n",
       "    <tr>\n",
       "      <th>34</th>\n",
       "      <td>vit_base_patch16_224_miil.in21k</td>\n",
       "      <td>CLASSIC_AT</td>\n",
       "      <td>1.632000</td>\n",
       "      <td>0.150151</td>\n",
       "      <td>35.0</td>\n",
       "      <td>36.0</td>\n",
       "    </tr>\n",
       "    <tr>\n",
       "      <th>20</th>\n",
       "      <td>robust_vit_base_patch16_224</td>\n",
       "      <td>CLASSIC_AT</td>\n",
       "      <td>1.553333</td>\n",
       "      <td>0.157007</td>\n",
       "      <td>36.0</td>\n",
       "      <td>35.0</td>\n",
       "    </tr>\n",
       "  </tbody>\n",
       "</table>\n",
       "</div>"
      ],
      "text/plain": [
       "                             backbone loss_function  total_sum  \\\n",
       "1                       convnext_base     TRADES_v2   9.540667   \n",
       "4   convnext_base.clip_laion2b_augreg    CLASSIC_AT   9.298667   \n",
       "2          convnext_base.clip_laion2b    CLASSIC_AT   9.226000   \n",
       "11             convnext_tiny.fb_in22k     TRADES_v2   9.211333   \n",
       "17               robust_convnext_tiny     TRADES_v2   8.998667   \n",
       "31    vit_base_patch16_224.orig_in21k     TRADES_v2   8.883333   \n",
       "33      vit_base_patch16_224.sam_in1k     TRADES_v2   8.826667   \n",
       "0                       convnext_base    CLASSIC_AT   8.818000   \n",
       "6              convnext_base.fb_in22k    CLASSIC_AT   8.730667   \n",
       "9                       convnext_tiny     TRADES_v2   8.730000   \n",
       "25  vit_base_patch16_224.augreg_in21k     TRADES_v2   8.538000   \n",
       "27          vit_base_patch16_224.dino     TRADES_v2   8.520667   \n",
       "14               robust_convnext_base    CLASSIC_AT   8.401333   \n",
       "13     deit_small_patch16_224.fb_in1k     TRADES_v2   8.233333   \n",
       "19      robust_deit_small_patch16_224     TRADES_v2   8.232667   \n",
       "16               robust_convnext_tiny    CLASSIC_AT   8.176000   \n",
       "7              convnext_base.fb_in22k     TRADES_v2   8.024667   \n",
       "29           vit_base_patch16_224.mae     TRADES_v2   8.002667   \n",
       "5   convnext_base.clip_laion2b_augreg     TRADES_v2   7.814667   \n",
       "26          vit_base_patch16_224.dino    CLASSIC_AT   7.732667   \n",
       "15               robust_convnext_base     TRADES_v2   7.724000   \n",
       "23   vit_base_patch16_224.augreg_in1k     TRADES_v2   7.668000   \n",
       "18      robust_deit_small_patch16_224    CLASSIC_AT   7.612667   \n",
       "3          convnext_base.clip_laion2b     TRADES_v2   7.555333   \n",
       "10             convnext_tiny.fb_in22k    CLASSIC_AT   7.474000   \n",
       "8                       convnext_tiny    CLASSIC_AT   7.380000   \n",
       "35    vit_base_patch16_224_miil.in21k     TRADES_v2   7.228667   \n",
       "21        robust_vit_base_patch16_224     TRADES_v2   7.190000   \n",
       "12     deit_small_patch16_224.fb_in1k    CLASSIC_AT   7.130667   \n",
       "32      vit_base_patch16_224.sam_in1k    CLASSIC_AT   7.058667   \n",
       "30    vit_base_patch16_224.orig_in21k    CLASSIC_AT   6.847333   \n",
       "22   vit_base_patch16_224.augreg_in1k    CLASSIC_AT   6.780667   \n",
       "28           vit_base_patch16_224.mae    CLASSIC_AT   5.574667   \n",
       "24  vit_base_patch16_224.augreg_in21k    CLASSIC_AT   5.490000   \n",
       "34    vit_base_patch16_224_miil.in21k    CLASSIC_AT   1.632000   \n",
       "20        robust_vit_base_patch16_224    CLASSIC_AT   1.553333   \n",
       "\n",
       "    total_geom_mean  rank_total_sum  rank_total_geom_mean  \n",
       "1          1.474117             1.0                   1.0  \n",
       "4          1.441563             2.0                   2.0  \n",
       "2          1.429585             3.0                   4.0  \n",
       "11         1.429607             4.0                   3.0  \n",
       "17         1.400416             5.0                   5.0  \n",
       "31         1.379085             6.0                   7.0  \n",
       "33         1.374667             7.0                   8.0  \n",
       "0          1.350452             8.0                  11.0  \n",
       "6          1.336765             9.0                  13.0  \n",
       "9          1.352120            10.0                  10.0  \n",
       "25         1.311963            11.0                  17.0  \n",
       "27         1.328814            12.0                  15.0  \n",
       "14         1.314549            13.0                  16.0  \n",
       "13         1.288800            14.0                  18.0  \n",
       "19         1.286928            15.0                  19.0  \n",
       "16         1.273722            16.0                  20.0  \n",
       "7          1.389418            17.0                   6.0  \n",
       "29         1.263296            18.0                  21.0  \n",
       "5          1.365750            19.0                   9.0  \n",
       "26         1.203524            20.0                  22.0  \n",
       "15         1.349915            21.0                  12.0  \n",
       "23         1.185101            22.0                  24.0  \n",
       "18         1.187796            23.0                  23.0  \n",
       "3          1.330086            24.0                  14.0  \n",
       "10         1.012359            25.0                  31.0  \n",
       "8          1.157774            26.0                  25.0  \n",
       "35         1.086819            27.0                  28.0  \n",
       "21         1.003060            28.0                  32.0  \n",
       "12         1.110653            29.0                  26.0  \n",
       "32         1.106104            30.0                  27.0  \n",
       "30         1.057468            31.0                  29.0  \n",
       "22         1.031254            32.0                  30.0  \n",
       "28         0.810226            33.0                  33.0  \n",
       "24         0.576810            34.0                  34.0  \n",
       "34         0.150151            35.0                  36.0  \n",
       "20         0.157007            36.0                  35.0  "
      ]
     },
     "execution_count": 20,
     "metadata": {},
     "output_type": "execute_result"
    }
   ],
   "source": [
    "data_updated = df.copy()\n",
    "\n",
    "# Combine clean_acc and robust_acc as independent metrics for ranking\n",
    "data_updated['total_acc'] = data_updated['clean_acc'] + data_updated['Linf_acc']  # Sum of scores per dataset\n",
    "\n",
    "# Aggregate total_acc across all datasets for each backbone + loss combination\n",
    "aggregated_data_no_avg = data_updated.groupby(['backbone', 'loss_function']).agg(\n",
    "    total_sum=('total_acc', 'sum'),  # Total sum of all scores across datasets\n",
    "    total_geom_mean=('total_acc', lambda x: np.prod(x) ** (1 / len(x))),  # Geometric mean\n",
    ").reset_index()\n",
    "\n",
    "# Rank based on these combined scores\n",
    "aggregated_data_no_avg['rank_total_sum'] = aggregated_data_no_avg['total_sum'].rank(ascending=False)\n",
    "aggregated_data_no_avg['rank_total_geom_mean'] = aggregated_data_no_avg['total_geom_mean'].rank(ascending=False)\n",
    "\n",
    "# Sort by sum ranking for presentation\n",
    "ranked_aggregated_data_no_avg = aggregated_data_no_avg.sort_values(by='rank_total_sum')\n",
    "ranked_aggregated_data_no_avg\n",
    "\n",
    "# tools.display_dataframe_to_user(name=\"Ranked Backbone and Loss Combinations Without Averaging\", dataframe=ranked_aggregated_data_no_avg)"
   ]
  },
  {
   "cell_type": "code",
   "execution_count": 21,
   "metadata": {},
   "outputs": [
    {
     "data": {
      "text/plain": [
       "           dataset                   \n",
       "total_acc  stanford_cars                 0.202374\n",
       "           oxford-iiit-pet               0.163573\n",
       "           caltech101                    0.141293\n",
       "           flowers-102                   0.138278\n",
       "           fgvc-aircraft-2013b           0.135654\n",
       "           dtd                           0.028111\n",
       "           uc-merced-land-use-dataset         NaN\n",
       "dtype: float64"
      ]
     },
     "execution_count": 21,
     "metadata": {},
     "output_type": "execute_result"
    }
   ],
   "source": [
    "# Pivot the table to group by 'backbone' and 'loss_function' in rows and create a hierarchical structure with 'dataset' as column index\n",
    "\n",
    "df['total_acc'] = df['clean_acc'] + df['Linf_acc']  # Sum of scores per dataset\n",
    "\n",
    "grouped_df = df.pivot_table(\n",
    "    index=['backbone', 'loss_function'], \n",
    "    columns='dataset', \n",
    "    values=[  'total_acc'  ], #\n",
    "    dropna=False )\n",
    "\n",
    "# grouped_df #.to_csv('results_acc.csv' )\n",
    "\n",
    "\n",
    "\n",
    "# Calculate variance across datasets per row (axis=1)\n",
    "dataset_variance = grouped_df.var(axis=0)\n",
    "sorted_variance = dataset_variance.sort_values(ascending=False)\n",
    "sorted_variance\n",
    "# Attach to the grouped_df for reference\n",
    "# grouped_df[('total_acc_variance', '')] = dataset_variance"
   ]
  },
  {
   "cell_type": "code",
   "execution_count": 14,
   "metadata": {},
   "outputs": [
    {
     "data": {
      "text/html": [
       "<div>\n",
       "<style scoped>\n",
       "    .dataframe tbody tr th:only-of-type {\n",
       "        vertical-align: middle;\n",
       "    }\n",
       "\n",
       "    .dataframe tbody tr th {\n",
       "        vertical-align: top;\n",
       "    }\n",
       "\n",
       "    .dataframe thead tr th {\n",
       "        text-align: left;\n",
       "    }\n",
       "\n",
       "    .dataframe thead tr:last-of-type th {\n",
       "        text-align: right;\n",
       "    }\n",
       "</style>\n",
       "<table border=\"1\" class=\"dataframe\">\n",
       "  <thead>\n",
       "    <tr>\n",
       "      <th></th>\n",
       "      <th></th>\n",
       "      <th colspan=\"7\" halign=\"left\">total_acc</th>\n",
       "    </tr>\n",
       "    <tr>\n",
       "      <th></th>\n",
       "      <th>dataset</th>\n",
       "      <th>caltech101</th>\n",
       "      <th>dtd</th>\n",
       "      <th>fgvc-aircraft-2013b</th>\n",
       "      <th>flowers-102</th>\n",
       "      <th>oxford-iiit-pet</th>\n",
       "      <th>stanford_cars</th>\n",
       "      <th>uc-merced-land-use-dataset</th>\n",
       "    </tr>\n",
       "    <tr>\n",
       "      <th>backbone</th>\n",
       "      <th>loss_function</th>\n",
       "      <th></th>\n",
       "      <th></th>\n",
       "      <th></th>\n",
       "      <th></th>\n",
       "      <th></th>\n",
       "      <th></th>\n",
       "      <th></th>\n",
       "    </tr>\n",
       "  </thead>\n",
       "  <tbody>\n",
       "    <tr>\n",
       "      <th rowspan=\"2\" valign=\"top\">convnext_base</th>\n",
       "      <th>CLASSIC_AT</th>\n",
       "      <td>1.906667</td>\n",
       "      <td>1.140667</td>\n",
       "      <td>0.123833</td>\n",
       "      <td>1.727333</td>\n",
       "      <td>1.543333</td>\n",
       "      <td>0.263333</td>\n",
       "      <td>0.095238</td>\n",
       "    </tr>\n",
       "    <tr>\n",
       "      <th>TRADES_v2</th>\n",
       "      <td>1.899333</td>\n",
       "      <td>1.076000</td>\n",
       "      <td>0.337333</td>\n",
       "      <td>1.748667</td>\n",
       "      <td>1.530667</td>\n",
       "      <td>0.770000</td>\n",
       "      <td>0.988095</td>\n",
       "    </tr>\n",
       "    <tr>\n",
       "      <th rowspan=\"2\" valign=\"top\">convnext_base.clip_laion2b</th>\n",
       "      <th>CLASSIC_AT</th>\n",
       "      <td>1.824667</td>\n",
       "      <td>0.894000</td>\n",
       "      <td>0.404667</td>\n",
       "      <td>0.890000</td>\n",
       "      <td>0.982667</td>\n",
       "      <td>1.514667</td>\n",
       "      <td>0.095238</td>\n",
       "    </tr>\n",
       "    <tr>\n",
       "      <th>TRADES_v2</th>\n",
       "      <td>1.788667</td>\n",
       "      <td>0.845333</td>\n",
       "      <td>0.644667</td>\n",
       "      <td>1.008667</td>\n",
       "      <td>1.296667</td>\n",
       "      <td>1.524667</td>\n",
       "      <td>0.869048</td>\n",
       "    </tr>\n",
       "    <tr>\n",
       "      <th rowspan=\"2\" valign=\"top\">convnext_base.clip_laion2b_augreg</th>\n",
       "      <th>CLASSIC_AT</th>\n",
       "      <td>1.786667</td>\n",
       "      <td>0.912000</td>\n",
       "      <td>0.396667</td>\n",
       "      <td>0.446000</td>\n",
       "      <td>1.057833</td>\n",
       "      <td>1.552000</td>\n",
       "      <td>0.095238</td>\n",
       "    </tr>\n",
       "    <tr>\n",
       "      <th>TRADES_v2</th>\n",
       "      <td>1.784000</td>\n",
       "      <td>0.814000</td>\n",
       "      <td>0.436667</td>\n",
       "      <td>1.007333</td>\n",
       "      <td>1.152667</td>\n",
       "      <td>1.489333</td>\n",
       "      <td>0.864286</td>\n",
       "    </tr>\n",
       "    <tr>\n",
       "      <th rowspan=\"2\" valign=\"top\">convnext_base.fb_in22k</th>\n",
       "      <th>CLASSIC_AT</th>\n",
       "      <td>1.911333</td>\n",
       "      <td>0.965833</td>\n",
       "      <td>0.218667</td>\n",
       "      <td>1.796000</td>\n",
       "      <td>1.474667</td>\n",
       "      <td>0.243333</td>\n",
       "      <td>0.166667</td>\n",
       "    </tr>\n",
       "    <tr>\n",
       "      <th>TRADES_v2</th>\n",
       "      <td>1.906667</td>\n",
       "      <td>1.016667</td>\n",
       "      <td>0.560000</td>\n",
       "      <td>1.728667</td>\n",
       "      <td>1.572667</td>\n",
       "      <td>0.941333</td>\n",
       "      <td>0.976190</td>\n",
       "    </tr>\n",
       "    <tr>\n",
       "      <th rowspan=\"2\" valign=\"top\">convnext_tiny</th>\n",
       "      <th>CLASSIC_AT</th>\n",
       "      <td>1.811333</td>\n",
       "      <td>0.569500</td>\n",
       "      <td>0.063333</td>\n",
       "      <td>0.614667</td>\n",
       "      <td>1.157333</td>\n",
       "      <td>0.079333</td>\n",
       "      <td>0.095238</td>\n",
       "    </tr>\n",
       "    <tr>\n",
       "      <th>TRADES_v2</th>\n",
       "      <td>1.754000</td>\n",
       "      <td>0.580833</td>\n",
       "      <td>0.145333</td>\n",
       "      <td>1.013000</td>\n",
       "      <td>1.182500</td>\n",
       "      <td>0.364667</td>\n",
       "      <td>0.440476</td>\n",
       "    </tr>\n",
       "    <tr>\n",
       "      <th rowspan=\"2\" valign=\"top\">convnext_tiny.fb_in22k</th>\n",
       "      <th>CLASSIC_AT</th>\n",
       "      <td>1.862000</td>\n",
       "      <td>0.944000</td>\n",
       "      <td>0.188667</td>\n",
       "      <td>0.900667</td>\n",
       "      <td>1.116000</td>\n",
       "      <td>0.198667</td>\n",
       "      <td>0.095238</td>\n",
       "    </tr>\n",
       "    <tr>\n",
       "      <th>TRADES_v2</th>\n",
       "      <td>1.859333</td>\n",
       "      <td>0.818667</td>\n",
       "      <td>0.498000</td>\n",
       "      <td>1.484667</td>\n",
       "      <td>1.304000</td>\n",
       "      <td>0.718000</td>\n",
       "      <td>0.911905</td>\n",
       "    </tr>\n",
       "    <tr>\n",
       "      <th rowspan=\"2\" valign=\"top\">deit_small_patch16_224.fb_in1k</th>\n",
       "      <th>CLASSIC_AT</th>\n",
       "      <td>1.790667</td>\n",
       "      <td>0.898667</td>\n",
       "      <td>0.084000</td>\n",
       "      <td>0.465333</td>\n",
       "      <td>1.375333</td>\n",
       "      <td>0.182667</td>\n",
       "      <td>0.285714</td>\n",
       "    </tr>\n",
       "    <tr>\n",
       "      <th>TRADES_v2</th>\n",
       "      <td>1.766000</td>\n",
       "      <td>0.832000</td>\n",
       "      <td>0.130000</td>\n",
       "      <td>0.636000</td>\n",
       "      <td>1.407333</td>\n",
       "      <td>0.451333</td>\n",
       "      <td>0.800000</td>\n",
       "    </tr>\n",
       "    <tr>\n",
       "      <th rowspan=\"2\" valign=\"top\">robust_convnext_base</th>\n",
       "      <th>CLASSIC_AT</th>\n",
       "      <td>1.881333</td>\n",
       "      <td>0.906667</td>\n",
       "      <td>0.356667</td>\n",
       "      <td>0.883333</td>\n",
       "      <td>1.430000</td>\n",
       "      <td>0.699333</td>\n",
       "      <td>0.095238</td>\n",
       "    </tr>\n",
       "    <tr>\n",
       "      <th>TRADES_v2</th>\n",
       "      <td>1.897333</td>\n",
       "      <td>0.800000</td>\n",
       "      <td>0.115333</td>\n",
       "      <td>0.760667</td>\n",
       "      <td>0.820667</td>\n",
       "      <td>0.572000</td>\n",
       "      <td>0.535714</td>\n",
       "    </tr>\n",
       "    <tr>\n",
       "      <th rowspan=\"2\" valign=\"top\">robust_convnext_tiny</th>\n",
       "      <th>CLASSIC_AT</th>\n",
       "      <td>1.884000</td>\n",
       "      <td>0.877333</td>\n",
       "      <td>0.140667</td>\n",
       "      <td>0.748000</td>\n",
       "      <td>1.575333</td>\n",
       "      <td>0.354000</td>\n",
       "      <td>1.647619</td>\n",
       "    </tr>\n",
       "    <tr>\n",
       "      <th>TRADES_v2</th>\n",
       "      <td>1.854667</td>\n",
       "      <td>0.720667</td>\n",
       "      <td>0.403333</td>\n",
       "      <td>0.868667</td>\n",
       "      <td>1.542667</td>\n",
       "      <td>0.486000</td>\n",
       "      <td>1.542857</td>\n",
       "    </tr>\n",
       "    <tr>\n",
       "      <th rowspan=\"2\" valign=\"top\">robust_deit_small_patch16_224</th>\n",
       "      <th>CLASSIC_AT</th>\n",
       "      <td>1.866667</td>\n",
       "      <td>0.829333</td>\n",
       "      <td>0.216000</td>\n",
       "      <td>0.794667</td>\n",
       "      <td>1.498000</td>\n",
       "      <td>0.308000</td>\n",
       "      <td>1.688095</td>\n",
       "    </tr>\n",
       "    <tr>\n",
       "      <th>TRADES_v2</th>\n",
       "      <td>1.849333</td>\n",
       "      <td>0.862000</td>\n",
       "      <td>0.275333</td>\n",
       "      <td>0.904667</td>\n",
       "      <td>1.498667</td>\n",
       "      <td>0.544000</td>\n",
       "      <td>1.578571</td>\n",
       "    </tr>\n",
       "    <tr>\n",
       "      <th rowspan=\"2\" valign=\"top\">robust_vit_base_patch16_224</th>\n",
       "      <th>CLASSIC_AT</th>\n",
       "      <td>0.160667</td>\n",
       "      <td>0.290667</td>\n",
       "      <td>0.016000</td>\n",
       "      <td>0.102000</td>\n",
       "      <td>0.027333</td>\n",
       "      <td>0.005333</td>\n",
       "      <td>0.840476</td>\n",
       "    </tr>\n",
       "    <tr>\n",
       "      <th>TRADES_v2</th>\n",
       "      <td>1.308667</td>\n",
       "      <td>0.556667</td>\n",
       "      <td>0.043333</td>\n",
       "      <td>0.046000</td>\n",
       "      <td>1.169333</td>\n",
       "      <td>0.015333</td>\n",
       "      <td>0.900000</td>\n",
       "    </tr>\n",
       "    <tr>\n",
       "      <th rowspan=\"2\" valign=\"top\">vit_base_patch16_224.augreg_in1k</th>\n",
       "      <th>CLASSIC_AT</th>\n",
       "      <td>1.741333</td>\n",
       "      <td>0.820000</td>\n",
       "      <td>0.010667</td>\n",
       "      <td>0.399333</td>\n",
       "      <td>1.334667</td>\n",
       "      <td>0.158667</td>\n",
       "      <td>0.678571</td>\n",
       "    </tr>\n",
       "    <tr>\n",
       "      <th>TRADES_v2</th>\n",
       "      <td>1.740667</td>\n",
       "      <td>0.774000</td>\n",
       "      <td>0.131500</td>\n",
       "      <td>0.060667</td>\n",
       "      <td>1.386167</td>\n",
       "      <td>0.282667</td>\n",
       "      <td>0.845238</td>\n",
       "    </tr>\n",
       "    <tr>\n",
       "      <th rowspan=\"2\" valign=\"top\">vit_base_patch16_224.augreg_in21k</th>\n",
       "      <th>CLASSIC_AT</th>\n",
       "      <td>1.712667</td>\n",
       "      <td>0.807667</td>\n",
       "      <td>0.014000</td>\n",
       "      <td>1.626000</td>\n",
       "      <td>1.159333</td>\n",
       "      <td>0.007333</td>\n",
       "      <td>0.195238</td>\n",
       "    </tr>\n",
       "    <tr>\n",
       "      <th>TRADES_v2</th>\n",
       "      <td>1.808000</td>\n",
       "      <td>0.463500</td>\n",
       "      <td>0.020000</td>\n",
       "      <td>0.748000</td>\n",
       "      <td>1.085333</td>\n",
       "      <td>0.267333</td>\n",
       "      <td>0.207143</td>\n",
       "    </tr>\n",
       "    <tr>\n",
       "      <th rowspan=\"2\" valign=\"top\">vit_base_patch16_224.dino</th>\n",
       "      <th>CLASSIC_AT</th>\n",
       "      <td>1.795333</td>\n",
       "      <td>0.880667</td>\n",
       "      <td>0.202000</td>\n",
       "      <td>0.487333</td>\n",
       "      <td>1.324667</td>\n",
       "      <td>0.323333</td>\n",
       "      <td>0.511905</td>\n",
       "    </tr>\n",
       "    <tr>\n",
       "      <th>TRADES_v2</th>\n",
       "      <td>1.755333</td>\n",
       "      <td>0.796667</td>\n",
       "      <td>0.228000</td>\n",
       "      <td>0.961333</td>\n",
       "      <td>1.180667</td>\n",
       "      <td>0.362667</td>\n",
       "      <td>0.419048</td>\n",
       "    </tr>\n",
       "    <tr>\n",
       "      <th rowspan=\"2\" valign=\"top\">vit_base_patch16_224.mae</th>\n",
       "      <th>CLASSIC_AT</th>\n",
       "      <td>1.501333</td>\n",
       "      <td>0.510667</td>\n",
       "      <td>0.039333</td>\n",
       "      <td>0.143333</td>\n",
       "      <td>0.223333</td>\n",
       "      <td>0.056667</td>\n",
       "      <td>0.495238</td>\n",
       "    </tr>\n",
       "    <tr>\n",
       "      <th>TRADES_v2</th>\n",
       "      <td>1.493333</td>\n",
       "      <td>0.475333</td>\n",
       "      <td>0.049333</td>\n",
       "      <td>0.353333</td>\n",
       "      <td>0.784667</td>\n",
       "      <td>0.098000</td>\n",
       "      <td>0.666667</td>\n",
       "    </tr>\n",
       "    <tr>\n",
       "      <th rowspan=\"2\" valign=\"top\">vit_base_patch16_224.orig_in21k</th>\n",
       "      <th>CLASSIC_AT</th>\n",
       "      <td>1.681333</td>\n",
       "      <td>0.924667</td>\n",
       "      <td>0.290667</td>\n",
       "      <td>1.549333</td>\n",
       "      <td>1.309333</td>\n",
       "      <td>0.374000</td>\n",
       "      <td>NaN</td>\n",
       "    </tr>\n",
       "    <tr>\n",
       "      <th>TRADES_v2</th>\n",
       "      <td>1.760000</td>\n",
       "      <td>0.900000</td>\n",
       "      <td>0.259333</td>\n",
       "      <td>1.499333</td>\n",
       "      <td>1.262000</td>\n",
       "      <td>0.430000</td>\n",
       "      <td>0.771429</td>\n",
       "    </tr>\n",
       "    <tr>\n",
       "      <th rowspan=\"2\" valign=\"top\">vit_base_patch16_224.sam_in1k</th>\n",
       "      <th>CLASSIC_AT</th>\n",
       "      <td>1.738667</td>\n",
       "      <td>0.862000</td>\n",
       "      <td>0.324000</td>\n",
       "      <td>0.813333</td>\n",
       "      <td>1.483333</td>\n",
       "      <td>0.564000</td>\n",
       "      <td>1.073810</td>\n",
       "    </tr>\n",
       "    <tr>\n",
       "      <th>TRADES_v2</th>\n",
       "      <td>1.796667</td>\n",
       "      <td>0.890000</td>\n",
       "      <td>0.345667</td>\n",
       "      <td>1.018000</td>\n",
       "      <td>1.500667</td>\n",
       "      <td>0.660667</td>\n",
       "      <td>1.150000</td>\n",
       "    </tr>\n",
       "    <tr>\n",
       "      <th rowspan=\"2\" valign=\"top\">vit_base_patch16_224_miil.in21k</th>\n",
       "      <th>CLASSIC_AT</th>\n",
       "      <td>0.579333</td>\n",
       "      <td>0.517333</td>\n",
       "      <td>0.024667</td>\n",
       "      <td>0.488000</td>\n",
       "      <td>0.175333</td>\n",
       "      <td>0.017333</td>\n",
       "      <td>0.223810</td>\n",
       "    </tr>\n",
       "    <tr>\n",
       "      <th>TRADES_v2</th>\n",
       "      <td>1.425333</td>\n",
       "      <td>0.573333</td>\n",
       "      <td>0.068000</td>\n",
       "      <td>1.029167</td>\n",
       "      <td>0.542000</td>\n",
       "      <td>0.092000</td>\n",
       "      <td>0.692857</td>\n",
       "    </tr>\n",
       "  </tbody>\n",
       "</table>\n",
       "</div>"
      ],
      "text/plain": [
       "                                                 total_acc            \\\n",
       "dataset                                         caltech101       dtd   \n",
       "backbone                          loss_function                        \n",
       "convnext_base                     CLASSIC_AT      1.906667  1.140667   \n",
       "                                  TRADES_v2       1.899333  1.076000   \n",
       "convnext_base.clip_laion2b        CLASSIC_AT      1.824667  0.894000   \n",
       "                                  TRADES_v2       1.788667  0.845333   \n",
       "convnext_base.clip_laion2b_augreg CLASSIC_AT      1.786667  0.912000   \n",
       "                                  TRADES_v2       1.784000  0.814000   \n",
       "convnext_base.fb_in22k            CLASSIC_AT      1.911333  0.965833   \n",
       "                                  TRADES_v2       1.906667  1.016667   \n",
       "convnext_tiny                     CLASSIC_AT      1.811333  0.569500   \n",
       "                                  TRADES_v2       1.754000  0.580833   \n",
       "convnext_tiny.fb_in22k            CLASSIC_AT      1.862000  0.944000   \n",
       "                                  TRADES_v2       1.859333  0.818667   \n",
       "deit_small_patch16_224.fb_in1k    CLASSIC_AT      1.790667  0.898667   \n",
       "                                  TRADES_v2       1.766000  0.832000   \n",
       "robust_convnext_base              CLASSIC_AT      1.881333  0.906667   \n",
       "                                  TRADES_v2       1.897333  0.800000   \n",
       "robust_convnext_tiny              CLASSIC_AT      1.884000  0.877333   \n",
       "                                  TRADES_v2       1.854667  0.720667   \n",
       "robust_deit_small_patch16_224     CLASSIC_AT      1.866667  0.829333   \n",
       "                                  TRADES_v2       1.849333  0.862000   \n",
       "robust_vit_base_patch16_224       CLASSIC_AT      0.160667  0.290667   \n",
       "                                  TRADES_v2       1.308667  0.556667   \n",
       "vit_base_patch16_224.augreg_in1k  CLASSIC_AT      1.741333  0.820000   \n",
       "                                  TRADES_v2       1.740667  0.774000   \n",
       "vit_base_patch16_224.augreg_in21k CLASSIC_AT      1.712667  0.807667   \n",
       "                                  TRADES_v2       1.808000  0.463500   \n",
       "vit_base_patch16_224.dino         CLASSIC_AT      1.795333  0.880667   \n",
       "                                  TRADES_v2       1.755333  0.796667   \n",
       "vit_base_patch16_224.mae          CLASSIC_AT      1.501333  0.510667   \n",
       "                                  TRADES_v2       1.493333  0.475333   \n",
       "vit_base_patch16_224.orig_in21k   CLASSIC_AT      1.681333  0.924667   \n",
       "                                  TRADES_v2       1.760000  0.900000   \n",
       "vit_base_patch16_224.sam_in1k     CLASSIC_AT      1.738667  0.862000   \n",
       "                                  TRADES_v2       1.796667  0.890000   \n",
       "vit_base_patch16_224_miil.in21k   CLASSIC_AT      0.579333  0.517333   \n",
       "                                  TRADES_v2       1.425333  0.573333   \n",
       "\n",
       "                                                                     \\\n",
       "dataset                                         fgvc-aircraft-2013b   \n",
       "backbone                          loss_function                       \n",
       "convnext_base                     CLASSIC_AT               0.123833   \n",
       "                                  TRADES_v2                0.337333   \n",
       "convnext_base.clip_laion2b        CLASSIC_AT               0.404667   \n",
       "                                  TRADES_v2                0.644667   \n",
       "convnext_base.clip_laion2b_augreg CLASSIC_AT               0.396667   \n",
       "                                  TRADES_v2                0.436667   \n",
       "convnext_base.fb_in22k            CLASSIC_AT               0.218667   \n",
       "                                  TRADES_v2                0.560000   \n",
       "convnext_tiny                     CLASSIC_AT               0.063333   \n",
       "                                  TRADES_v2                0.145333   \n",
       "convnext_tiny.fb_in22k            CLASSIC_AT               0.188667   \n",
       "                                  TRADES_v2                0.498000   \n",
       "deit_small_patch16_224.fb_in1k    CLASSIC_AT               0.084000   \n",
       "                                  TRADES_v2                0.130000   \n",
       "robust_convnext_base              CLASSIC_AT               0.356667   \n",
       "                                  TRADES_v2                0.115333   \n",
       "robust_convnext_tiny              CLASSIC_AT               0.140667   \n",
       "                                  TRADES_v2                0.403333   \n",
       "robust_deit_small_patch16_224     CLASSIC_AT               0.216000   \n",
       "                                  TRADES_v2                0.275333   \n",
       "robust_vit_base_patch16_224       CLASSIC_AT               0.016000   \n",
       "                                  TRADES_v2                0.043333   \n",
       "vit_base_patch16_224.augreg_in1k  CLASSIC_AT               0.010667   \n",
       "                                  TRADES_v2                0.131500   \n",
       "vit_base_patch16_224.augreg_in21k CLASSIC_AT               0.014000   \n",
       "                                  TRADES_v2                0.020000   \n",
       "vit_base_patch16_224.dino         CLASSIC_AT               0.202000   \n",
       "                                  TRADES_v2                0.228000   \n",
       "vit_base_patch16_224.mae          CLASSIC_AT               0.039333   \n",
       "                                  TRADES_v2                0.049333   \n",
       "vit_base_patch16_224.orig_in21k   CLASSIC_AT               0.290667   \n",
       "                                  TRADES_v2                0.259333   \n",
       "vit_base_patch16_224.sam_in1k     CLASSIC_AT               0.324000   \n",
       "                                  TRADES_v2                0.345667   \n",
       "vit_base_patch16_224_miil.in21k   CLASSIC_AT               0.024667   \n",
       "                                  TRADES_v2                0.068000   \n",
       "\n",
       "                                                                             \\\n",
       "dataset                                         flowers-102 oxford-iiit-pet   \n",
       "backbone                          loss_function                               \n",
       "convnext_base                     CLASSIC_AT       1.727333        1.543333   \n",
       "                                  TRADES_v2        1.748667        1.530667   \n",
       "convnext_base.clip_laion2b        CLASSIC_AT       0.890000        0.982667   \n",
       "                                  TRADES_v2        1.008667        1.296667   \n",
       "convnext_base.clip_laion2b_augreg CLASSIC_AT       0.446000        1.057833   \n",
       "                                  TRADES_v2        1.007333        1.152667   \n",
       "convnext_base.fb_in22k            CLASSIC_AT       1.796000        1.474667   \n",
       "                                  TRADES_v2        1.728667        1.572667   \n",
       "convnext_tiny                     CLASSIC_AT       0.614667        1.157333   \n",
       "                                  TRADES_v2        1.013000        1.182500   \n",
       "convnext_tiny.fb_in22k            CLASSIC_AT       0.900667        1.116000   \n",
       "                                  TRADES_v2        1.484667        1.304000   \n",
       "deit_small_patch16_224.fb_in1k    CLASSIC_AT       0.465333        1.375333   \n",
       "                                  TRADES_v2        0.636000        1.407333   \n",
       "robust_convnext_base              CLASSIC_AT       0.883333        1.430000   \n",
       "                                  TRADES_v2        0.760667        0.820667   \n",
       "robust_convnext_tiny              CLASSIC_AT       0.748000        1.575333   \n",
       "                                  TRADES_v2        0.868667        1.542667   \n",
       "robust_deit_small_patch16_224     CLASSIC_AT       0.794667        1.498000   \n",
       "                                  TRADES_v2        0.904667        1.498667   \n",
       "robust_vit_base_patch16_224       CLASSIC_AT       0.102000        0.027333   \n",
       "                                  TRADES_v2        0.046000        1.169333   \n",
       "vit_base_patch16_224.augreg_in1k  CLASSIC_AT       0.399333        1.334667   \n",
       "                                  TRADES_v2        0.060667        1.386167   \n",
       "vit_base_patch16_224.augreg_in21k CLASSIC_AT       1.626000        1.159333   \n",
       "                                  TRADES_v2        0.748000        1.085333   \n",
       "vit_base_patch16_224.dino         CLASSIC_AT       0.487333        1.324667   \n",
       "                                  TRADES_v2        0.961333        1.180667   \n",
       "vit_base_patch16_224.mae          CLASSIC_AT       0.143333        0.223333   \n",
       "                                  TRADES_v2        0.353333        0.784667   \n",
       "vit_base_patch16_224.orig_in21k   CLASSIC_AT       1.549333        1.309333   \n",
       "                                  TRADES_v2        1.499333        1.262000   \n",
       "vit_base_patch16_224.sam_in1k     CLASSIC_AT       0.813333        1.483333   \n",
       "                                  TRADES_v2        1.018000        1.500667   \n",
       "vit_base_patch16_224_miil.in21k   CLASSIC_AT       0.488000        0.175333   \n",
       "                                  TRADES_v2        1.029167        0.542000   \n",
       "\n",
       "                                                               \\\n",
       "dataset                                         stanford_cars   \n",
       "backbone                          loss_function                 \n",
       "convnext_base                     CLASSIC_AT         0.263333   \n",
       "                                  TRADES_v2          0.770000   \n",
       "convnext_base.clip_laion2b        CLASSIC_AT         1.514667   \n",
       "                                  TRADES_v2          1.524667   \n",
       "convnext_base.clip_laion2b_augreg CLASSIC_AT         1.552000   \n",
       "                                  TRADES_v2          1.489333   \n",
       "convnext_base.fb_in22k            CLASSIC_AT         0.243333   \n",
       "                                  TRADES_v2          0.941333   \n",
       "convnext_tiny                     CLASSIC_AT         0.079333   \n",
       "                                  TRADES_v2          0.364667   \n",
       "convnext_tiny.fb_in22k            CLASSIC_AT         0.198667   \n",
       "                                  TRADES_v2          0.718000   \n",
       "deit_small_patch16_224.fb_in1k    CLASSIC_AT         0.182667   \n",
       "                                  TRADES_v2          0.451333   \n",
       "robust_convnext_base              CLASSIC_AT         0.699333   \n",
       "                                  TRADES_v2          0.572000   \n",
       "robust_convnext_tiny              CLASSIC_AT         0.354000   \n",
       "                                  TRADES_v2          0.486000   \n",
       "robust_deit_small_patch16_224     CLASSIC_AT         0.308000   \n",
       "                                  TRADES_v2          0.544000   \n",
       "robust_vit_base_patch16_224       CLASSIC_AT         0.005333   \n",
       "                                  TRADES_v2          0.015333   \n",
       "vit_base_patch16_224.augreg_in1k  CLASSIC_AT         0.158667   \n",
       "                                  TRADES_v2          0.282667   \n",
       "vit_base_patch16_224.augreg_in21k CLASSIC_AT         0.007333   \n",
       "                                  TRADES_v2          0.267333   \n",
       "vit_base_patch16_224.dino         CLASSIC_AT         0.323333   \n",
       "                                  TRADES_v2          0.362667   \n",
       "vit_base_patch16_224.mae          CLASSIC_AT         0.056667   \n",
       "                                  TRADES_v2          0.098000   \n",
       "vit_base_patch16_224.orig_in21k   CLASSIC_AT         0.374000   \n",
       "                                  TRADES_v2          0.430000   \n",
       "vit_base_patch16_224.sam_in1k     CLASSIC_AT         0.564000   \n",
       "                                  TRADES_v2          0.660667   \n",
       "vit_base_patch16_224_miil.in21k   CLASSIC_AT         0.017333   \n",
       "                                  TRADES_v2          0.092000   \n",
       "\n",
       "                                                                            \n",
       "dataset                                         uc-merced-land-use-dataset  \n",
       "backbone                          loss_function                             \n",
       "convnext_base                     CLASSIC_AT                      0.095238  \n",
       "                                  TRADES_v2                       0.988095  \n",
       "convnext_base.clip_laion2b        CLASSIC_AT                      0.095238  \n",
       "                                  TRADES_v2                       0.869048  \n",
       "convnext_base.clip_laion2b_augreg CLASSIC_AT                      0.095238  \n",
       "                                  TRADES_v2                       0.864286  \n",
       "convnext_base.fb_in22k            CLASSIC_AT                      0.166667  \n",
       "                                  TRADES_v2                       0.976190  \n",
       "convnext_tiny                     CLASSIC_AT                      0.095238  \n",
       "                                  TRADES_v2                       0.440476  \n",
       "convnext_tiny.fb_in22k            CLASSIC_AT                      0.095238  \n",
       "                                  TRADES_v2                       0.911905  \n",
       "deit_small_patch16_224.fb_in1k    CLASSIC_AT                      0.285714  \n",
       "                                  TRADES_v2                       0.800000  \n",
       "robust_convnext_base              CLASSIC_AT                      0.095238  \n",
       "                                  TRADES_v2                       0.535714  \n",
       "robust_convnext_tiny              CLASSIC_AT                      1.647619  \n",
       "                                  TRADES_v2                       1.542857  \n",
       "robust_deit_small_patch16_224     CLASSIC_AT                      1.688095  \n",
       "                                  TRADES_v2                       1.578571  \n",
       "robust_vit_base_patch16_224       CLASSIC_AT                      0.840476  \n",
       "                                  TRADES_v2                       0.900000  \n",
       "vit_base_patch16_224.augreg_in1k  CLASSIC_AT                      0.678571  \n",
       "                                  TRADES_v2                       0.845238  \n",
       "vit_base_patch16_224.augreg_in21k CLASSIC_AT                      0.195238  \n",
       "                                  TRADES_v2                       0.207143  \n",
       "vit_base_patch16_224.dino         CLASSIC_AT                      0.511905  \n",
       "                                  TRADES_v2                       0.419048  \n",
       "vit_base_patch16_224.mae          CLASSIC_AT                      0.495238  \n",
       "                                  TRADES_v2                       0.666667  \n",
       "vit_base_patch16_224.orig_in21k   CLASSIC_AT                           NaN  \n",
       "                                  TRADES_v2                       0.771429  \n",
       "vit_base_patch16_224.sam_in1k     CLASSIC_AT                      1.073810  \n",
       "                                  TRADES_v2                       1.150000  \n",
       "vit_base_patch16_224_miil.in21k   CLASSIC_AT                      0.223810  \n",
       "                                  TRADES_v2                       0.692857  "
      ]
     },
     "execution_count": 14,
     "metadata": {},
     "output_type": "execute_result"
    }
   ],
   "source": [
    "           dataset                   \n",
    "total_acc  flowers-102                   0.250492\n",
    "           uc-merced-land-use-dataset    0.225154\n",
    "           stanford_cars                 0.196160\n",
    "           oxford-iiit-pet               0.156795\n",
    "           caltech101                    0.126929\n",
    "           dtd                           0.035525\n",
    "           fgvc-aircraft-2013b           0.028627\n",
    "dtype: float64"
   ]
  },
  {
   "cell_type": "code",
   "execution_count": 26,
   "metadata": {},
   "outputs": [
    {
     "data": {
      "application/vnd.plotly.v1+json": {
       "config": {
        "plotlyServerURL": "https://plot.ly"
       },
       "data": [
        {
         "hovertemplate": "Architecture=ConvNext<br>Loss Function=CLASSIC_AT<br>Mean Clean Accuracy=%{x}<br>Mean Robust Accuracy=%{y}<extra></extra>",
         "legendgroup": "ConvNext, CLASSIC_AT",
         "marker": {
          "color": "#1f77b4",
          "symbol": "square"
         },
         "mode": "markers",
         "name": "ConvNext, CLASSIC_AT",
         "orientation": "v",
         "showlegend": true,
         "type": "scatter",
         "x": [
          0.6442222222222221,
          0.6789999999999999,
          0.6248888888888889,
          0.6641111111111111,
          0.4956666666666667,
          0.6026296296296296,
          0.5442222222222223,
          0.5128888888888888
         ],
         "xaxis": "x",
         "y": [
          0.4733055555555556,
          0.4061111111111111,
          0.4003055555555555,
          0.4375277777777778,
          0.22025000000000003,
          0.2657037037037037,
          0.48200000000000004,
          0.417
         ],
         "yaxis": "y"
        },
        {
         "hovertemplate": "Architecture=ViT/DeiT<br>Loss Function=CLASSIC_AT<br>Mean Clean Accuracy=%{x}<br>Mean Robust Accuracy=%{y}<extra></extra>",
         "legendgroup": "ViT/DeiT, CLASSIC_AT",
         "marker": {
          "color": "#ff7f0e",
          "symbol": "square"
         },
         "mode": "markers",
         "name": "ViT/DeiT, CLASSIC_AT",
         "orientation": "v",
         "showlegend": true,
         "type": "scatter",
         "x": [
          0.5011111111111112,
          0.5128888888888888,
          0.45,
          0.517888888888889,
          0.5156666666666666,
          0.24044444444444446,
          0.6077777777777778,
          0.5609999999999999,
          0.1821111111111111
         ],
         "xaxis": "x",
         "y": [
          0.29833333333333334,
          0.4058888888888889,
          0.29411111111111116,
          0.36994444444444446,
          0.3198888888888889,
          0.17200000000000001,
          0.4137777777777778,
          0.4032222222222222,
          0.11822222222222221
         ],
         "yaxis": "y"
        },
        {
         "marker": {
          "color": "#1f77b4",
          "size": 13,
          "symbol": "square"
         },
         "mode": "markers",
         "name": "Pareto",
         "showlegend": false,
         "type": "scatter",
         "x": [
          0.6442222222222221
         ],
         "y": [
          0.4733055555555556
         ]
        },
        {
         "marker": {
          "color": "#1f77b4",
          "size": 13,
          "symbol": "square"
         },
         "mode": "markers",
         "name": "Pareto",
         "showlegend": false,
         "type": "scatter",
         "x": [
          0.6789999999999999
         ],
         "y": [
          0.4061111111111111
         ]
        },
        {
         "marker": {
          "color": "#1f77b4",
          "size": 13,
          "symbol": "square"
         },
         "mode": "markers",
         "name": "Pareto",
         "showlegend": false,
         "type": "scatter",
         "x": [
          0.6641111111111111
         ],
         "y": [
          0.4375277777777778
         ]
        },
        {
         "marker": {
          "color": "#1f77b4",
          "size": 13,
          "symbol": "square"
         },
         "mode": "markers",
         "name": "Pareto",
         "showlegend": false,
         "type": "scatter",
         "x": [
          0.5442222222222223
         ],
         "y": [
          0.48200000000000004
         ]
        }
       ],
       "layout": {
        "annotations": [
         {
          "align": "center",
          "font": {
           "size": 10
          },
          "showarrow": false,
          "text": "convnext_base",
          "x": 0.6342222222222221,
          "y": 0.4833055555555556
         },
         {
          "align": "center",
          "font": {
           "size": 10
          },
          "showarrow": false,
          "text": "convnext_base.clip_laion2b",
          "x": 0.6689999999999999,
          "y": 0.4161111111111111
         },
         {
          "align": "center",
          "font": {
           "size": 10
          },
          "showarrow": false,
          "text": "convnext_base.clip_laion2b_augreg",
          "x": 0.6148888888888889,
          "y": 0.41030555555555553
         },
         {
          "align": "center",
          "font": {
           "size": 10
          },
          "showarrow": false,
          "text": "convnext_base.fb_in22k",
          "x": 0.6541111111111111,
          "y": 0.4475277777777778
         },
         {
          "align": "center",
          "font": {
           "size": 10
          },
          "showarrow": false,
          "text": "convnext_tiny",
          "x": 0.4856666666666667,
          "y": 0.23025000000000004
         },
         {
          "align": "center",
          "font": {
           "size": 10
          },
          "showarrow": false,
          "text": "convnext_tiny.fb_in22k",
          "x": 0.5926296296296296,
          "y": 0.27570370370370373
         },
         {
          "align": "center",
          "font": {
           "size": 10
          },
          "showarrow": false,
          "text": "deit_small_patch16_224.fb_in1k",
          "x": 0.49111111111111116,
          "y": 0.30833333333333335
         },
         {
          "align": "center",
          "font": {
           "size": 10
          },
          "showarrow": false,
          "text": "robust_convnext_base",
          "x": 0.5342222222222223,
          "y": 0.49200000000000005
         },
         {
          "align": "center",
          "font": {
           "size": 10
          },
          "showarrow": false,
          "text": "robust_convnext_tiny",
          "x": 0.5028888888888888,
          "y": 0.427
         },
         {
          "align": "center",
          "font": {
           "size": 10
          },
          "showarrow": false,
          "text": "robust_deit_small_patch16_224",
          "x": 0.5028888888888888,
          "y": 0.4158888888888889
         },
         {
          "align": "center",
          "font": {
           "size": 10
          },
          "showarrow": false,
          "text": "vit_base_patch16_224.augreg_in1k",
          "x": 0.44,
          "y": 0.30411111111111117
         },
         {
          "align": "center",
          "font": {
           "size": 10
          },
          "showarrow": false,
          "text": "vit_base_patch16_224.augreg_in21k",
          "x": 0.507888888888889,
          "y": 0.3799444444444445
         },
         {
          "align": "center",
          "font": {
           "size": 10
          },
          "showarrow": false,
          "text": "vit_base_patch16_224.dino",
          "x": 0.5056666666666666,
          "y": 0.3298888888888889
         },
         {
          "align": "center",
          "font": {
           "size": 10
          },
          "showarrow": false,
          "text": "vit_base_patch16_224.mae",
          "x": 0.23044444444444445,
          "y": 0.18200000000000002
         },
         {
          "align": "center",
          "font": {
           "size": 10
          },
          "showarrow": false,
          "text": "vit_base_patch16_224.orig_in21k",
          "x": 0.5977777777777777,
          "y": 0.4237777777777778
         },
         {
          "align": "center",
          "font": {
           "size": 10
          },
          "showarrow": false,
          "text": "vit_base_patch16_224.sam_in1k",
          "x": 0.5509999999999999,
          "y": 0.4132222222222222
         },
         {
          "align": "center",
          "font": {
           "size": 10
          },
          "showarrow": false,
          "text": "vit_base_patch16_224_miil.in21k",
          "x": 0.1721111111111111,
          "y": 0.1282222222222222
         }
        ],
        "font": {
         "size": 12
        },
        "height": 600,
        "legend": {
         "title": {
          "text": "Backbone and Loss Function"
         },
         "tracegroupgap": 0
        },
        "margin": {
         "b": 10,
         "l": 10,
         "r": 45,
         "t": 10
        },
        "plot_bgcolor": "rgba(0,0,0,0)",
        "shapes": [
         {
          "line": {
           "color": "red",
           "dash": "dot",
           "width": 2
          },
          "type": "line",
          "x0": 0,
          "x1": 1,
          "xref": "paper",
          "y0": 0,
          "y1": 1,
          "yref": "paper"
         }
        ],
        "showlegend": false,
        "template": {
         "data": {
          "bar": [
           {
            "error_x": {
             "color": "#2a3f5f"
            },
            "error_y": {
             "color": "#2a3f5f"
            },
            "marker": {
             "line": {
              "color": "#E5ECF6",
              "width": 0.5
             },
             "pattern": {
              "fillmode": "overlay",
              "size": 10,
              "solidity": 0.2
             }
            },
            "type": "bar"
           }
          ],
          "barpolar": [
           {
            "marker": {
             "line": {
              "color": "#E5ECF6",
              "width": 0.5
             },
             "pattern": {
              "fillmode": "overlay",
              "size": 10,
              "solidity": 0.2
             }
            },
            "type": "barpolar"
           }
          ],
          "carpet": [
           {
            "aaxis": {
             "endlinecolor": "#2a3f5f",
             "gridcolor": "white",
             "linecolor": "white",
             "minorgridcolor": "white",
             "startlinecolor": "#2a3f5f"
            },
            "baxis": {
             "endlinecolor": "#2a3f5f",
             "gridcolor": "white",
             "linecolor": "white",
             "minorgridcolor": "white",
             "startlinecolor": "#2a3f5f"
            },
            "type": "carpet"
           }
          ],
          "choropleth": [
           {
            "colorbar": {
             "outlinewidth": 0,
             "ticks": ""
            },
            "type": "choropleth"
           }
          ],
          "contour": [
           {
            "colorbar": {
             "outlinewidth": 0,
             "ticks": ""
            },
            "colorscale": [
             [
              0,
              "#0d0887"
             ],
             [
              0.1111111111111111,
              "#46039f"
             ],
             [
              0.2222222222222222,
              "#7201a8"
             ],
             [
              0.3333333333333333,
              "#9c179e"
             ],
             [
              0.4444444444444444,
              "#bd3786"
             ],
             [
              0.5555555555555556,
              "#d8576b"
             ],
             [
              0.6666666666666666,
              "#ed7953"
             ],
             [
              0.7777777777777778,
              "#fb9f3a"
             ],
             [
              0.8888888888888888,
              "#fdca26"
             ],
             [
              1,
              "#f0f921"
             ]
            ],
            "type": "contour"
           }
          ],
          "contourcarpet": [
           {
            "colorbar": {
             "outlinewidth": 0,
             "ticks": ""
            },
            "type": "contourcarpet"
           }
          ],
          "heatmap": [
           {
            "colorbar": {
             "outlinewidth": 0,
             "ticks": ""
            },
            "colorscale": [
             [
              0,
              "#0d0887"
             ],
             [
              0.1111111111111111,
              "#46039f"
             ],
             [
              0.2222222222222222,
              "#7201a8"
             ],
             [
              0.3333333333333333,
              "#9c179e"
             ],
             [
              0.4444444444444444,
              "#bd3786"
             ],
             [
              0.5555555555555556,
              "#d8576b"
             ],
             [
              0.6666666666666666,
              "#ed7953"
             ],
             [
              0.7777777777777778,
              "#fb9f3a"
             ],
             [
              0.8888888888888888,
              "#fdca26"
             ],
             [
              1,
              "#f0f921"
             ]
            ],
            "type": "heatmap"
           }
          ],
          "heatmapgl": [
           {
            "colorbar": {
             "outlinewidth": 0,
             "ticks": ""
            },
            "colorscale": [
             [
              0,
              "#0d0887"
             ],
             [
              0.1111111111111111,
              "#46039f"
             ],
             [
              0.2222222222222222,
              "#7201a8"
             ],
             [
              0.3333333333333333,
              "#9c179e"
             ],
             [
              0.4444444444444444,
              "#bd3786"
             ],
             [
              0.5555555555555556,
              "#d8576b"
             ],
             [
              0.6666666666666666,
              "#ed7953"
             ],
             [
              0.7777777777777778,
              "#fb9f3a"
             ],
             [
              0.8888888888888888,
              "#fdca26"
             ],
             [
              1,
              "#f0f921"
             ]
            ],
            "type": "heatmapgl"
           }
          ],
          "histogram": [
           {
            "marker": {
             "pattern": {
              "fillmode": "overlay",
              "size": 10,
              "solidity": 0.2
             }
            },
            "type": "histogram"
           }
          ],
          "histogram2d": [
           {
            "colorbar": {
             "outlinewidth": 0,
             "ticks": ""
            },
            "colorscale": [
             [
              0,
              "#0d0887"
             ],
             [
              0.1111111111111111,
              "#46039f"
             ],
             [
              0.2222222222222222,
              "#7201a8"
             ],
             [
              0.3333333333333333,
              "#9c179e"
             ],
             [
              0.4444444444444444,
              "#bd3786"
             ],
             [
              0.5555555555555556,
              "#d8576b"
             ],
             [
              0.6666666666666666,
              "#ed7953"
             ],
             [
              0.7777777777777778,
              "#fb9f3a"
             ],
             [
              0.8888888888888888,
              "#fdca26"
             ],
             [
              1,
              "#f0f921"
             ]
            ],
            "type": "histogram2d"
           }
          ],
          "histogram2dcontour": [
           {
            "colorbar": {
             "outlinewidth": 0,
             "ticks": ""
            },
            "colorscale": [
             [
              0,
              "#0d0887"
             ],
             [
              0.1111111111111111,
              "#46039f"
             ],
             [
              0.2222222222222222,
              "#7201a8"
             ],
             [
              0.3333333333333333,
              "#9c179e"
             ],
             [
              0.4444444444444444,
              "#bd3786"
             ],
             [
              0.5555555555555556,
              "#d8576b"
             ],
             [
              0.6666666666666666,
              "#ed7953"
             ],
             [
              0.7777777777777778,
              "#fb9f3a"
             ],
             [
              0.8888888888888888,
              "#fdca26"
             ],
             [
              1,
              "#f0f921"
             ]
            ],
            "type": "histogram2dcontour"
           }
          ],
          "mesh3d": [
           {
            "colorbar": {
             "outlinewidth": 0,
             "ticks": ""
            },
            "type": "mesh3d"
           }
          ],
          "parcoords": [
           {
            "line": {
             "colorbar": {
              "outlinewidth": 0,
              "ticks": ""
             }
            },
            "type": "parcoords"
           }
          ],
          "pie": [
           {
            "automargin": true,
            "type": "pie"
           }
          ],
          "scatter": [
           {
            "fillpattern": {
             "fillmode": "overlay",
             "size": 10,
             "solidity": 0.2
            },
            "type": "scatter"
           }
          ],
          "scatter3d": [
           {
            "line": {
             "colorbar": {
              "outlinewidth": 0,
              "ticks": ""
             }
            },
            "marker": {
             "colorbar": {
              "outlinewidth": 0,
              "ticks": ""
             }
            },
            "type": "scatter3d"
           }
          ],
          "scattercarpet": [
           {
            "marker": {
             "colorbar": {
              "outlinewidth": 0,
              "ticks": ""
             }
            },
            "type": "scattercarpet"
           }
          ],
          "scattergeo": [
           {
            "marker": {
             "colorbar": {
              "outlinewidth": 0,
              "ticks": ""
             }
            },
            "type": "scattergeo"
           }
          ],
          "scattergl": [
           {
            "marker": {
             "colorbar": {
              "outlinewidth": 0,
              "ticks": ""
             }
            },
            "type": "scattergl"
           }
          ],
          "scattermapbox": [
           {
            "marker": {
             "colorbar": {
              "outlinewidth": 0,
              "ticks": ""
             }
            },
            "type": "scattermapbox"
           }
          ],
          "scatterpolar": [
           {
            "marker": {
             "colorbar": {
              "outlinewidth": 0,
              "ticks": ""
             }
            },
            "type": "scatterpolar"
           }
          ],
          "scatterpolargl": [
           {
            "marker": {
             "colorbar": {
              "outlinewidth": 0,
              "ticks": ""
             }
            },
            "type": "scatterpolargl"
           }
          ],
          "scatterternary": [
           {
            "marker": {
             "colorbar": {
              "outlinewidth": 0,
              "ticks": ""
             }
            },
            "type": "scatterternary"
           }
          ],
          "surface": [
           {
            "colorbar": {
             "outlinewidth": 0,
             "ticks": ""
            },
            "colorscale": [
             [
              0,
              "#0d0887"
             ],
             [
              0.1111111111111111,
              "#46039f"
             ],
             [
              0.2222222222222222,
              "#7201a8"
             ],
             [
              0.3333333333333333,
              "#9c179e"
             ],
             [
              0.4444444444444444,
              "#bd3786"
             ],
             [
              0.5555555555555556,
              "#d8576b"
             ],
             [
              0.6666666666666666,
              "#ed7953"
             ],
             [
              0.7777777777777778,
              "#fb9f3a"
             ],
             [
              0.8888888888888888,
              "#fdca26"
             ],
             [
              1,
              "#f0f921"
             ]
            ],
            "type": "surface"
           }
          ],
          "table": [
           {
            "cells": {
             "fill": {
              "color": "#EBF0F8"
             },
             "line": {
              "color": "white"
             }
            },
            "header": {
             "fill": {
              "color": "#C8D4E3"
             },
             "line": {
              "color": "white"
             }
            },
            "type": "table"
           }
          ]
         },
         "layout": {
          "annotationdefaults": {
           "arrowcolor": "#2a3f5f",
           "arrowhead": 0,
           "arrowwidth": 1
          },
          "autotypenumbers": "strict",
          "coloraxis": {
           "colorbar": {
            "outlinewidth": 0,
            "ticks": ""
           }
          },
          "colorscale": {
           "diverging": [
            [
             0,
             "#8e0152"
            ],
            [
             0.1,
             "#c51b7d"
            ],
            [
             0.2,
             "#de77ae"
            ],
            [
             0.3,
             "#f1b6da"
            ],
            [
             0.4,
             "#fde0ef"
            ],
            [
             0.5,
             "#f7f7f7"
            ],
            [
             0.6,
             "#e6f5d0"
            ],
            [
             0.7,
             "#b8e186"
            ],
            [
             0.8,
             "#7fbc41"
            ],
            [
             0.9,
             "#4d9221"
            ],
            [
             1,
             "#276419"
            ]
           ],
           "sequential": [
            [
             0,
             "#0d0887"
            ],
            [
             0.1111111111111111,
             "#46039f"
            ],
            [
             0.2222222222222222,
             "#7201a8"
            ],
            [
             0.3333333333333333,
             "#9c179e"
            ],
            [
             0.4444444444444444,
             "#bd3786"
            ],
            [
             0.5555555555555556,
             "#d8576b"
            ],
            [
             0.6666666666666666,
             "#ed7953"
            ],
            [
             0.7777777777777778,
             "#fb9f3a"
            ],
            [
             0.8888888888888888,
             "#fdca26"
            ],
            [
             1,
             "#f0f921"
            ]
           ],
           "sequentialminus": [
            [
             0,
             "#0d0887"
            ],
            [
             0.1111111111111111,
             "#46039f"
            ],
            [
             0.2222222222222222,
             "#7201a8"
            ],
            [
             0.3333333333333333,
             "#9c179e"
            ],
            [
             0.4444444444444444,
             "#bd3786"
            ],
            [
             0.5555555555555556,
             "#d8576b"
            ],
            [
             0.6666666666666666,
             "#ed7953"
            ],
            [
             0.7777777777777778,
             "#fb9f3a"
            ],
            [
             0.8888888888888888,
             "#fdca26"
            ],
            [
             1,
             "#f0f921"
            ]
           ]
          },
          "colorway": [
           "#636efa",
           "#EF553B",
           "#00cc96",
           "#ab63fa",
           "#FFA15A",
           "#19d3f3",
           "#FF6692",
           "#B6E880",
           "#FF97FF",
           "#FECB52"
          ],
          "font": {
           "color": "#2a3f5f"
          },
          "geo": {
           "bgcolor": "white",
           "lakecolor": "white",
           "landcolor": "#E5ECF6",
           "showlakes": true,
           "showland": true,
           "subunitcolor": "white"
          },
          "hoverlabel": {
           "align": "left"
          },
          "hovermode": "closest",
          "mapbox": {
           "style": "light"
          },
          "paper_bgcolor": "white",
          "plot_bgcolor": "#E5ECF6",
          "polar": {
           "angularaxis": {
            "gridcolor": "white",
            "linecolor": "white",
            "ticks": ""
           },
           "bgcolor": "#E5ECF6",
           "radialaxis": {
            "gridcolor": "white",
            "linecolor": "white",
            "ticks": ""
           }
          },
          "scene": {
           "xaxis": {
            "backgroundcolor": "#E5ECF6",
            "gridcolor": "white",
            "gridwidth": 2,
            "linecolor": "white",
            "showbackground": true,
            "ticks": "",
            "zerolinecolor": "white"
           },
           "yaxis": {
            "backgroundcolor": "#E5ECF6",
            "gridcolor": "white",
            "gridwidth": 2,
            "linecolor": "white",
            "showbackground": true,
            "ticks": "",
            "zerolinecolor": "white"
           },
           "zaxis": {
            "backgroundcolor": "#E5ECF6",
            "gridcolor": "white",
            "gridwidth": 2,
            "linecolor": "white",
            "showbackground": true,
            "ticks": "",
            "zerolinecolor": "white"
           }
          },
          "shapedefaults": {
           "line": {
            "color": "#2a3f5f"
           }
          },
          "ternary": {
           "aaxis": {
            "gridcolor": "white",
            "linecolor": "white",
            "ticks": ""
           },
           "baxis": {
            "gridcolor": "white",
            "linecolor": "white",
            "ticks": ""
           },
           "bgcolor": "#E5ECF6",
           "caxis": {
            "gridcolor": "white",
            "linecolor": "white",
            "ticks": ""
           }
          },
          "title": {
           "x": 0.05
          },
          "xaxis": {
           "automargin": true,
           "gridcolor": "white",
           "linecolor": "white",
           "ticks": "",
           "title": {
            "standoff": 15
           },
           "zerolinecolor": "white",
           "zerolinewidth": 2
          },
          "yaxis": {
           "automargin": true,
           "gridcolor": "white",
           "linecolor": "white",
           "ticks": "",
           "title": {
            "standoff": 15
           },
           "zerolinecolor": "white",
           "zerolinewidth": 2
          }
         }
        },
        "width": 600,
        "xaxis": {
         "anchor": "y",
         "domain": [
          0,
          1
         ],
         "gridcolor": "lightgrey",
         "range": [
          0,
          0.85
         ],
         "showgrid": true,
         "tickmode": "array",
         "ticktext": [
          0.05,
          0.1,
          0.15,
          0.2,
          0.25,
          0.3,
          0.35,
          0.4,
          0.45,
          0.5,
          0.55,
          0.6,
          0.65,
          0.7,
          0.75,
          0.8,
          0.85
         ],
         "tickvals": [
          0.05,
          0.1,
          0.15,
          0.2,
          0.25,
          0.3,
          0.35,
          0.4,
          0.45,
          0.5,
          0.55,
          0.6,
          0.65,
          0.7,
          0.75,
          0.8,
          0.85
         ],
         "title": {
          "text": "Mean Clean Accuracy"
         },
         "zeroline": false
        },
        "yaxis": {
         "anchor": "x",
         "domain": [
          0,
          1
         ],
         "gridcolor": "lightgrey",
         "range": [
          0,
          0.7
         ],
         "showgrid": true,
         "tickmode": "array",
         "ticktext": [
          0.05,
          0.1,
          0.15,
          0.2,
          0.25,
          0.3,
          0.35,
          0.4,
          0.45,
          0.5,
          0.55,
          0.6,
          0.65,
          0.7
         ],
         "tickvals": [
          0.05,
          0.1,
          0.15,
          0.2,
          0.25,
          0.3,
          0.35,
          0.4,
          0.45,
          0.5,
          0.55,
          0.6,
          0.65,
          0.7
         ],
         "title": {
          "text": "Mean Robust Accuracy"
         },
         "zeroline": false
        }
       }
      }
     },
     "metadata": {},
     "output_type": "display_data"
    }
   ],
   "source": [
    "import pandas as pd\n",
    "import numpy as np\n",
    "import plotly.express as px\n",
    "\n",
    "\n",
    "df_new_cleaned = df #.drop(columns=['Unnamed: 0'])\n",
    "name =  'TRADES_v2' #\n",
    "df_new_cleaned = df_new_cleaned[ df_new_cleaned.loss_function != name ]\n",
    "\n",
    "# Assuming df_new_cleaned already exists and contains all necessary columns\n",
    "# Group by backbone and loss function, compute the mean and standard deviation for clean and robust accuracy\n",
    "aggregated_metrics = df_new_cleaned.groupby(['backbone', 'loss_function']).agg(\n",
    "    Mean_Clean_Acc=('clean_acc', 'mean'),\n",
    "    Std_Clean_Acc=('clean_acc', 'std'),\n",
    "    Mean_Robust_Acc=('robust_acc', 'mean'),\n",
    "    Std_Robust_Acc=('robust_acc', 'std')\n",
    ").reset_index()\n",
    "\n",
    "# Classify architectures into categories\n",
    "aggregated_metrics['Architecture'] = aggregated_metrics['backbone'].apply(\n",
    "    lambda name: 'ConvNext' if 'convnext' in name.lower() else ('ViT/DeiT' if 'deit' in name.lower() or 'vit' in name.lower() else 'Other')\n",
    ")\n",
    "\n",
    "# Assign marker shapes based on loss function\n",
    "aggregated_metrics['Marker_Shape'] = aggregated_metrics['loss_function'].apply(\n",
    "    lambda loss: 'circle' if loss == 'TRADES_v2' else ('square' if loss == 'CLASSIC_AT' else 'diamond')\n",
    ")\n",
    "\n",
    "# Identify Pareto front\n",
    "x = aggregated_metrics['Mean_Clean_Acc']\n",
    "y = aggregated_metrics['Mean_Robust_Acc']\n",
    "is_pareto = np.array([\n",
    "    not any((y[j] >= y[i] and x[j] >= x[i]) for j in range(len(x)) if i != j)\n",
    "    for i in range(len(x))\n",
    "])\n",
    "pareto_points = aggregated_metrics[is_pareto]\n",
    "\n",
    "# Add a mapping for loss functions to valid Plotly symbols\n",
    "symbol_mapping = {\n",
    "    'TRADES_v2': 'circle',\n",
    "    'CLASSIC_AT': 'square'\n",
    "}\n",
    "\n",
    "# Update the scatter plot with proper legend entries for loss functions\n",
    "fig = px.scatter(\n",
    "    aggregated_metrics,\n",
    "    x='Mean_Clean_Acc',\n",
    "    y='Mean_Robust_Acc',\n",
    "    color='Architecture',         # Color for architecture\n",
    "    symbol='loss_function',       # Symbol for loss function\n",
    "    # title='Backbone Performance: Clean vs. Robust Accuracy',\n",
    "    labels={\n",
    "        'Mean_Clean_Acc': 'Mean Clean Accuracy',\n",
    "        'Mean_Robust_Acc': 'Mean Robust Accuracy',\n",
    "        'loss_function': 'Loss Function'  # Custom label for legend\n",
    "    },\n",
    "    color_discrete_map={\n",
    "        'ConvNext': '#1f77b4',  # Blue for ConvNext\n",
    "        'ViT/DeiT': '#ff7f0e',  # Orange for ViT/DeiT\n",
    "        'Other': '#2ca02c'      # Green for Other architectures\n",
    "    },\n",
    "    symbol_map=symbol_mapping    # Apply symbol mapping\n",
    ")\n",
    "\n",
    "# Add static backbone names as labels on the figure\n",
    "for i, row in aggregated_metrics.iterrows():\n",
    "    fig.add_annotation(\n",
    "        x=row['Mean_Clean_Acc'] - 0.01,\n",
    "        y=row['Mean_Robust_Acc'] + 0.01,  # Offset text slightly above the marker\n",
    "        text=row['backbone'],\n",
    "        showarrow=False,\n",
    "        font=dict(size=10),\n",
    "        align='center'\n",
    "    )\n",
    "\n",
    "# Add Pareto front markers with larger size and same shape/color as the original\n",
    "for idx, d in enumerate(pareto_points.iterrows()):\n",
    "    _, row = d\n",
    "    fig.add_scatter(\n",
    "        x=[row['Mean_Clean_Acc']],\n",
    "        y=[row['Mean_Robust_Acc']],\n",
    "        mode='markers',\n",
    "        showlegend=False,  # Avoid duplicating legends\n",
    "        marker=dict(\n",
    "            size=13,  # Larger marker size\n",
    "            symbol=symbol_mapping[row['loss_function']],  # Use the mapped symbol\n",
    "            color=aggregated_metrics.loc[aggregated_metrics['backbone'] == row['backbone'], 'Architecture'].map({\n",
    "                'ConvNext': '#1f77b4',  # Blue for ConvNext\n",
    "                'ViT/DeiT': '#ff7f0e',  # Orange for ViT/DeiT\n",
    "                'Other': '#2ca02c'     # Green for Other architectures\n",
    "            }).values[0]  # Map the color dynamically\n",
    "        ),\n",
    "        name=f\"Pareto\"\n",
    "    )\n",
    "\n",
    "\n",
    "# Add a diagonal line (x = y)\n",
    "fig.add_shape(\n",
    "    type=\"line\",\n",
    "    x0=0, y0=0,  # Start of line\n",
    "    x1=1, y1=1,  # End of line\n",
    "    xref=\"paper\", yref=\"paper\",  # Use normalized coordinates (0 to 1 in plot space)\n",
    "    line=dict(color=\"red\", width=2, dash=\"dot\")  # Line style\n",
    ")\n",
    "\n",
    "# Adjust layout for better visual clarity\n",
    "fig.update_layout(\n",
    "    legend_title=dict(text='Backbone and Loss Function'),\n",
    "    width=600,\n",
    "    height=600,\n",
    "    font=dict(size=12),\n",
    "    #title_font=dict(size=14),\n",
    "    margin=dict(l=10, r=45, t=10, b=10),\n",
    "    plot_bgcolor='rgba(0,0,0,0)',\n",
    "    showlegend=False,\n",
    "    xaxis=dict(showgrid=True, gridcolor='lightgrey', zeroline=False),\n",
    "    yaxis=dict(showgrid=True, gridcolor='lightgrey', zeroline=False),\n",
    "    yaxis_range=[0,0.7],\n",
    "    xaxis_range=[0,0.85]\n",
    ")\n",
    "\n",
    "\n",
    "fig.update_layout(\n",
    "    xaxis=dict(\n",
    "        tickmode=\"array\",\n",
    "        tickvals=[0.05, 0.1, 0.15, 0.2, 0.25, 0.3, 0.35, 0.4, 0.45, 0.5, 0.55, 0.6, 0.65, 0.7, 0.75, 0.8, 0.85 ],\n",
    "        ticktext=[0.05, 0.1, 0.15, 0.2, 0.25, 0.3, 0.35, 0.4, 0.45, 0.5, 0.55, 0.6, 0.65, 0.7, 0.75, 0.8, 0.85 ]\n",
    "    ),\n",
    "    yaxis=dict(\n",
    "        tickmode=\"array\",\n",
    "        tickvals=[0.05, 0.1, 0.15, 0.2, 0.25, 0.3, 0.35, 0.4, 0.45, 0.5, 0.55, 0.6, 0.65, 0.7 ],\n",
    "        ticktext=[0.05, 0.1, 0.15, 0.2, 0.25, 0.3, 0.35, 0.4, 0.45, 0.5, 0.55, 0.6, 0.65, 0.7 ]\n",
    "    )\n",
    ")\n",
    "\n",
    "fig.show()\n",
    "fig.write_image( \"./figures/{}_{}.png\".format(project_name,name) )"
   ]
  }
 ],
 "metadata": {
  "kernelspec": {
   "display_name": ".venv2",
   "language": "python",
   "name": "python3"
  },
  "language_info": {
   "codemirror_mode": {
    "name": "ipython",
    "version": 3
   },
   "file_extension": ".py",
   "mimetype": "text/x-python",
   "name": "python",
   "nbconvert_exporter": "python",
   "pygments_lexer": "ipython3",
   "version": "3.11.11"
  }
 },
 "nbformat": 4,
 "nbformat_minor": 2
}
