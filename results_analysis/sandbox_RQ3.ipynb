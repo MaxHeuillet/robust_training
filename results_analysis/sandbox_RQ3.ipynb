{
 "cells": [
  {
   "cell_type": "markdown",
   "metadata": {},
   "source": [
    "# UPDATE: TO VISUALIZE RESULTS GO TO load_results_table.ipynb (this jupyter contains lots of old stuff)"
   ]
  },
  {
   "cell_type": "code",
   "execution_count": null,
   "metadata": {},
   "outputs": [],
   "source": [
    "import pickle\n",
    "import omegaconf\n",
    "import warnings\n",
    "import pickle\n",
    "import numpy as np\n",
    "warnings.filterwarnings(\"ignore\", category=DeprecationWarning)\n",
    "\n",
    "project_name = 'full_fine_tuning_50epochs_final2'\n",
    "\n",
    "datas=( 'uc-merced-land-use-dataset', ) # 'stanford_cars', 'caltech101', 'fgvc-aircraft-2013b', 'dtd', 'flowers-102', 'oxford-iiit-pet' \n",
    "\n",
    "losses=( 'TRADES_v2', 'CLASSIC_AT' ) #  \n",
    "\n",
    "backbones=(\n",
    "\n",
    "  # SCIENTIFIC HYPOTHESES BACKBONES\n",
    "  'CLIP-convnext_base_w-laion_aesthetic-s13B-b82K',\n",
    "  'CLIP-convnext_base_w-laion2B-s13B-b82K',\n",
    "  'deit_small_patch16_224.fb_in1k',\n",
    "  'robust_resnet50',\n",
    "  'vit_base_patch16_224.mae',\n",
    "  'vit_small_patch16_224.augreg_in21k',\n",
    "  'convnext_base.fb_in1k',\n",
    "  'resnet50.a1_in1k',\n",
    "  'robust_vit_base_patch16_224',\n",
    "  'vit_base_patch16_224.sam_in1k',\n",
    "  'vit_small_patch16_224.dino',\n",
    "  'convnext_base.fb_in22k',\n",
    "  'robust_convnext_base',\n",
    "  'vit_base_patch16_224.augreg_in1k',\n",
    "  'vit_base_patch16_224.augreg_in21k',\n",
    "  'vit_base_patch16_224.dino',\n",
    "  'vit_base_patch16_clip_224.laion2b',\n",
    "  'convnext_tiny.fb_in1k',\n",
    "  'robust_convnext_tiny',\n",
    "  'robust_deit_small_patch16_224',\n",
    "  'vit_base_patch16_224.dino',\n",
    "  'vit_small_patch16_224.augreg_in1k',\n",
    "  'convnext_tiny.fb_in22k',\n",
    "\n",
    "  # PERFORMANCE BACKBONES\n",
    "  'vit_base_patch16_clip_224.laion2b_ft_in1k',\n",
    "  'vit_base_patch16_224.augreg_in21k_ft_in1k',\n",
    "  'vit_small_patch16_224.augreg_in21k_ft_in1k',\n",
    "  'eva02_base_patch14_224.mim_in22k',\n",
    "  'eva02_tiny_patch14_224.mim_in22k',\n",
    "  'swin_base_patch4_window7_224.ms_in22k_ft_in1k',\n",
    "  'swin_tiny_patch4_window7_224.ms_in1k',\n",
    "  'convnext_base.clip_laion2b_augreg_ft_in12k_in1k',\n",
    "  'convnext_base.fb_in22k_ft_in1k',\n",
    "  'convnext_tiny.fb_in22k_ft_in1k'\n",
    ")\n",
    "\n",
    "\n",
    "final_data = []\n",
    "\n",
    "for backbone in backbones:\n",
    "    for loss in losses:\n",
    "        for data in datas:\n",
    "\n",
    "            try:\n",
    "                name ='{}_{}_{}'.format(backbone, data, loss)\n",
    "                print( '../results/{}/{}.pkl'.format(project_name, name) )\n",
    "                with open('../results/{}/{}.pkl'.format(project_name, name), 'rb') as f:\n",
    "                    result = pickle.load(f)\n",
    "                                # result = saved_data[name][\"statistics\"]\n",
    "\n",
    "                print(result)\n",
    "\n",
    "            except:\n",
    "                result = {'clean_acc': None, 'Linf_acc': None, 'L2_acc': None, 'L1_acc': None, 'common_acc': None}\n",
    "\n",
    "            result['backbone'] = backbone\n",
    "            result['dataset'] = data\n",
    "            result['loss_function'] = loss  \n",
    "            final_data.append(result)\n",
    " \n"
   ]
  },
  {
   "cell_type": "code",
   "execution_count": 16,
   "metadata": {},
   "outputs": [
    {
     "data": {
      "text/html": [
       "<div>\n",
       "<style scoped>\n",
       "    .dataframe tbody tr th:only-of-type {\n",
       "        vertical-align: middle;\n",
       "    }\n",
       "\n",
       "    .dataframe tbody tr th {\n",
       "        vertical-align: top;\n",
       "    }\n",
       "\n",
       "    .dataframe thead tr th {\n",
       "        text-align: left;\n",
       "    }\n",
       "\n",
       "    .dataframe thead tr:last-of-type th {\n",
       "        text-align: right;\n",
       "    }\n",
       "</style>\n",
       "<table border=\"1\" class=\"dataframe\">\n",
       "  <thead>\n",
       "    <tr>\n",
       "      <th></th>\n",
       "      <th></th>\n",
       "      <th>L1_acc</th>\n",
       "      <th>L2_acc</th>\n",
       "      <th>Linf_acc</th>\n",
       "      <th>clean_acc</th>\n",
       "      <th>common_acc</th>\n",
       "    </tr>\n",
       "    <tr>\n",
       "      <th></th>\n",
       "      <th>dataset</th>\n",
       "      <th>uc-merced-land-use-dataset</th>\n",
       "      <th>uc-merced-land-use-dataset</th>\n",
       "      <th>uc-merced-land-use-dataset</th>\n",
       "      <th>uc-merced-land-use-dataset</th>\n",
       "      <th>uc-merced-land-use-dataset</th>\n",
       "    </tr>\n",
       "    <tr>\n",
       "      <th>backbone</th>\n",
       "      <th>loss_function</th>\n",
       "      <th></th>\n",
       "      <th></th>\n",
       "      <th></th>\n",
       "      <th></th>\n",
       "      <th></th>\n",
       "    </tr>\n",
       "  </thead>\n",
       "  <tbody>\n",
       "    <tr>\n",
       "      <th rowspan=\"2\" valign=\"top\">CLIP-convnext_base_w-laion2B-s13B-b82K</th>\n",
       "      <th>CLASSIC_AT</th>\n",
       "      <td>NaN</td>\n",
       "      <td>NaN</td>\n",
       "      <td>0.652381</td>\n",
       "      <td>0.861905</td>\n",
       "      <td>NaN</td>\n",
       "    </tr>\n",
       "    <tr>\n",
       "      <th>TRADES_v2</th>\n",
       "      <td>NaN</td>\n",
       "      <td>NaN</td>\n",
       "      <td>0.821429</td>\n",
       "      <td>0.964286</td>\n",
       "      <td>NaN</td>\n",
       "    </tr>\n",
       "    <tr>\n",
       "      <th rowspan=\"2\" valign=\"top\">CLIP-convnext_base_w-laion_aesthetic-s13B-b82K</th>\n",
       "      <th>CLASSIC_AT</th>\n",
       "      <td>0.878571</td>\n",
       "      <td>0.735714</td>\n",
       "      <td>0.700000</td>\n",
       "      <td>0.878571</td>\n",
       "      <td>0.657143</td>\n",
       "    </tr>\n",
       "    <tr>\n",
       "      <th>TRADES_v2</th>\n",
       "      <td>NaN</td>\n",
       "      <td>NaN</td>\n",
       "      <td>0.835714</td>\n",
       "      <td>0.961905</td>\n",
       "      <td>NaN</td>\n",
       "    </tr>\n",
       "    <tr>\n",
       "      <th rowspan=\"2\" valign=\"top\">deit_small_patch16_224.fb_in1k</th>\n",
       "      <th>CLASSIC_AT</th>\n",
       "      <td>0.923810</td>\n",
       "      <td>0.921429</td>\n",
       "      <td>0.654762</td>\n",
       "      <td>0.923810</td>\n",
       "      <td>0.638095</td>\n",
       "    </tr>\n",
       "    <tr>\n",
       "      <th>TRADES_v2</th>\n",
       "      <td>0.950000</td>\n",
       "      <td>0.950000</td>\n",
       "      <td>0.752381</td>\n",
       "      <td>0.950000</td>\n",
       "      <td>0.692857</td>\n",
       "    </tr>\n",
       "    <tr>\n",
       "      <th rowspan=\"2\" valign=\"top\">robust_resnet50</th>\n",
       "      <th>CLASSIC_AT</th>\n",
       "      <td>0.961905</td>\n",
       "      <td>0.961905</td>\n",
       "      <td>0.871429</td>\n",
       "      <td>0.961905</td>\n",
       "      <td>0.738095</td>\n",
       "    </tr>\n",
       "    <tr>\n",
       "      <th>TRADES_v2</th>\n",
       "      <td>0.966667</td>\n",
       "      <td>0.966667</td>\n",
       "      <td>0.826190</td>\n",
       "      <td>0.966667</td>\n",
       "      <td>0.730952</td>\n",
       "    </tr>\n",
       "  </tbody>\n",
       "</table>\n",
       "</div>"
      ],
      "text/plain": [
       "                                                                                 L1_acc  \\\n",
       "dataset                                                      uc-merced-land-use-dataset   \n",
       "backbone                                       loss_function                              \n",
       "CLIP-convnext_base_w-laion2B-s13B-b82K         CLASSIC_AT                           NaN   \n",
       "                                               TRADES_v2                            NaN   \n",
       "CLIP-convnext_base_w-laion_aesthetic-s13B-b82K CLASSIC_AT                      0.878571   \n",
       "                                               TRADES_v2                            NaN   \n",
       "deit_small_patch16_224.fb_in1k                 CLASSIC_AT                      0.923810   \n",
       "                                               TRADES_v2                       0.950000   \n",
       "robust_resnet50                                CLASSIC_AT                      0.961905   \n",
       "                                               TRADES_v2                       0.966667   \n",
       "\n",
       "                                                                                 L2_acc  \\\n",
       "dataset                                                      uc-merced-land-use-dataset   \n",
       "backbone                                       loss_function                              \n",
       "CLIP-convnext_base_w-laion2B-s13B-b82K         CLASSIC_AT                           NaN   \n",
       "                                               TRADES_v2                            NaN   \n",
       "CLIP-convnext_base_w-laion_aesthetic-s13B-b82K CLASSIC_AT                      0.735714   \n",
       "                                               TRADES_v2                            NaN   \n",
       "deit_small_patch16_224.fb_in1k                 CLASSIC_AT                      0.921429   \n",
       "                                               TRADES_v2                       0.950000   \n",
       "robust_resnet50                                CLASSIC_AT                      0.961905   \n",
       "                                               TRADES_v2                       0.966667   \n",
       "\n",
       "                                                                               Linf_acc  \\\n",
       "dataset                                                      uc-merced-land-use-dataset   \n",
       "backbone                                       loss_function                              \n",
       "CLIP-convnext_base_w-laion2B-s13B-b82K         CLASSIC_AT                      0.652381   \n",
       "                                               TRADES_v2                       0.821429   \n",
       "CLIP-convnext_base_w-laion_aesthetic-s13B-b82K CLASSIC_AT                      0.700000   \n",
       "                                               TRADES_v2                       0.835714   \n",
       "deit_small_patch16_224.fb_in1k                 CLASSIC_AT                      0.654762   \n",
       "                                               TRADES_v2                       0.752381   \n",
       "robust_resnet50                                CLASSIC_AT                      0.871429   \n",
       "                                               TRADES_v2                       0.826190   \n",
       "\n",
       "                                                                              clean_acc  \\\n",
       "dataset                                                      uc-merced-land-use-dataset   \n",
       "backbone                                       loss_function                              \n",
       "CLIP-convnext_base_w-laion2B-s13B-b82K         CLASSIC_AT                      0.861905   \n",
       "                                               TRADES_v2                       0.964286   \n",
       "CLIP-convnext_base_w-laion_aesthetic-s13B-b82K CLASSIC_AT                      0.878571   \n",
       "                                               TRADES_v2                       0.961905   \n",
       "deit_small_patch16_224.fb_in1k                 CLASSIC_AT                      0.923810   \n",
       "                                               TRADES_v2                       0.950000   \n",
       "robust_resnet50                                CLASSIC_AT                      0.961905   \n",
       "                                               TRADES_v2                       0.966667   \n",
       "\n",
       "                                                                             common_acc  \n",
       "dataset                                                      uc-merced-land-use-dataset  \n",
       "backbone                                       loss_function                             \n",
       "CLIP-convnext_base_w-laion2B-s13B-b82K         CLASSIC_AT                           NaN  \n",
       "                                               TRADES_v2                            NaN  \n",
       "CLIP-convnext_base_w-laion_aesthetic-s13B-b82K CLASSIC_AT                      0.657143  \n",
       "                                               TRADES_v2                            NaN  \n",
       "deit_small_patch16_224.fb_in1k                 CLASSIC_AT                      0.638095  \n",
       "                                               TRADES_v2                       0.692857  \n",
       "robust_resnet50                                CLASSIC_AT                      0.738095  \n",
       "                                               TRADES_v2                       0.730952  "
      ]
     },
     "execution_count": 16,
     "metadata": {},
     "output_type": "execute_result"
    }
   ],
   "source": [
    "# Pivot the table to group by 'backbone' and 'loss_function' in rows and create a hierarchical structure with 'dataset' as column index\n",
    "\n",
    "# df['total_acc'] = df['clean_acc'] + df['Linf_acc']  # Sum of scores per dataset\n",
    "\n",
    "import pandas as pd\n",
    "\n",
    "df = pd.DataFrame(final_data)\n",
    "df\n",
    "\n",
    "grouped_df = df.pivot_table(\n",
    "    index=['backbone', 'loss_function'], \n",
    "    columns='dataset', \n",
    "    # values=[  'total_acc'  ], #\n",
    "    # dropna=False\n",
    "      )\n",
    "\n",
    "# grouped_df #.to_csv('results_acc.csv' )\n",
    "\n",
    "grouped_df\n",
    "\n",
    "# Calculate variance across datasets per row (axis=1)\n",
    "# dataset_variance = grouped_df.var(axis=0)\n",
    "# sorted_variance = dataset_variance.sort_values(ascending=False)\n",
    "# sorted_variance\n",
    "# Attach to the grouped_df for reference\n",
    "# grouped_df[('total_acc_variance', '')] = dataset_variance"
   ]
  },
  {
   "cell_type": "code",
   "execution_count": 11,
   "metadata": {},
   "outputs": [
    {
     "name": "stdout",
     "output_type": "stream",
     "text": [
      "{'backbone': 'k', 'dataset': 'uc-merced-land-use-dataset', 'loss_function': 'CLASSIC_AT', 'clean_acc': nan, 'Linf_acc': nan, 'L1_acc': nan, 'L2_acc': nan}\n"
     ]
    }
   ],
   "source": [
    "with open('./results/full_fine_tuning_50epochs_final2/CLIP-convnext_base_w-laion_aesthetic-s13B-b82K_uc-merced-land-use-dataset_CLASSIC_AT.pkl', 'rb') as f:\n",
    "    saved_data = pickle.load(f)\n",
    "    print(result)"
   ]
  },
  {
   "cell_type": "code",
   "execution_count": null,
   "metadata": {},
   "outputs": [
    {
     "data": {
      "text/html": [
       "<div>\n",
       "<style scoped>\n",
       "    .dataframe tbody tr th:only-of-type {\n",
       "        vertical-align: middle;\n",
       "    }\n",
       "\n",
       "    .dataframe tbody tr th {\n",
       "        vertical-align: top;\n",
       "    }\n",
       "\n",
       "    .dataframe thead th {\n",
       "        text-align: right;\n",
       "    }\n",
       "</style>\n",
       "<table border=\"1\" class=\"dataframe\">\n",
       "  <thead>\n",
       "    <tr style=\"text-align: right;\">\n",
       "      <th></th>\n",
       "      <th>clean_acc</th>\n",
       "      <th>Linf_acc</th>\n",
       "      <th>L2_acc</th>\n",
       "      <th>L1_acc</th>\n",
       "      <th>common_acc</th>\n",
       "      <th>backbone</th>\n",
       "      <th>dataset</th>\n",
       "      <th>loss_function</th>\n",
       "    </tr>\n",
       "  </thead>\n",
       "  <tbody>\n",
       "    <tr>\n",
       "      <th>0</th>\n",
       "      <td>None</td>\n",
       "      <td>None</td>\n",
       "      <td>None</td>\n",
       "      <td>None</td>\n",
       "      <td>None</td>\n",
       "      <td>CLIP-convnext_base_w-laion_aesthetic-s13B-b82K</td>\n",
       "      <td>uc-merced-land-use-dataset</td>\n",
       "      <td>TRADES_v2</td>\n",
       "    </tr>\n",
       "    <tr>\n",
       "      <th>1</th>\n",
       "      <td>None</td>\n",
       "      <td>None</td>\n",
       "      <td>None</td>\n",
       "      <td>None</td>\n",
       "      <td>None</td>\n",
       "      <td>CLIP-convnext_base_w-laion_aesthetic-s13B-b82K</td>\n",
       "      <td>uc-merced-land-use-dataset</td>\n",
       "      <td>CLASSIC_AT</td>\n",
       "    </tr>\n",
       "    <tr>\n",
       "      <th>2</th>\n",
       "      <td>None</td>\n",
       "      <td>None</td>\n",
       "      <td>None</td>\n",
       "      <td>None</td>\n",
       "      <td>None</td>\n",
       "      <td>CLIP-convnext_base_w-laion2B-s13B-b82K</td>\n",
       "      <td>uc-merced-land-use-dataset</td>\n",
       "      <td>TRADES_v2</td>\n",
       "    </tr>\n",
       "    <tr>\n",
       "      <th>3</th>\n",
       "      <td>None</td>\n",
       "      <td>None</td>\n",
       "      <td>None</td>\n",
       "      <td>None</td>\n",
       "      <td>None</td>\n",
       "      <td>CLIP-convnext_base_w-laion2B-s13B-b82K</td>\n",
       "      <td>uc-merced-land-use-dataset</td>\n",
       "      <td>CLASSIC_AT</td>\n",
       "    </tr>\n",
       "    <tr>\n",
       "      <th>4</th>\n",
       "      <td>None</td>\n",
       "      <td>None</td>\n",
       "      <td>None</td>\n",
       "      <td>None</td>\n",
       "      <td>None</td>\n",
       "      <td>deit_small_patch16_224.fb_in1k</td>\n",
       "      <td>uc-merced-land-use-dataset</td>\n",
       "      <td>TRADES_v2</td>\n",
       "    </tr>\n",
       "    <tr>\n",
       "      <th>...</th>\n",
       "      <td>...</td>\n",
       "      <td>...</td>\n",
       "      <td>...</td>\n",
       "      <td>...</td>\n",
       "      <td>...</td>\n",
       "      <td>...</td>\n",
       "      <td>...</td>\n",
       "      <td>...</td>\n",
       "    </tr>\n",
       "    <tr>\n",
       "      <th>61</th>\n",
       "      <td>None</td>\n",
       "      <td>None</td>\n",
       "      <td>None</td>\n",
       "      <td>None</td>\n",
       "      <td>None</td>\n",
       "      <td>convnext_base.clip_laion2b_augreg_ft_in12k_in1k</td>\n",
       "      <td>uc-merced-land-use-dataset</td>\n",
       "      <td>CLASSIC_AT</td>\n",
       "    </tr>\n",
       "    <tr>\n",
       "      <th>62</th>\n",
       "      <td>None</td>\n",
       "      <td>None</td>\n",
       "      <td>None</td>\n",
       "      <td>None</td>\n",
       "      <td>None</td>\n",
       "      <td>convnext_base.fb_in22k_ft_in1k</td>\n",
       "      <td>uc-merced-land-use-dataset</td>\n",
       "      <td>TRADES_v2</td>\n",
       "    </tr>\n",
       "    <tr>\n",
       "      <th>63</th>\n",
       "      <td>None</td>\n",
       "      <td>None</td>\n",
       "      <td>None</td>\n",
       "      <td>None</td>\n",
       "      <td>None</td>\n",
       "      <td>convnext_base.fb_in22k_ft_in1k</td>\n",
       "      <td>uc-merced-land-use-dataset</td>\n",
       "      <td>CLASSIC_AT</td>\n",
       "    </tr>\n",
       "    <tr>\n",
       "      <th>64</th>\n",
       "      <td>None</td>\n",
       "      <td>None</td>\n",
       "      <td>None</td>\n",
       "      <td>None</td>\n",
       "      <td>None</td>\n",
       "      <td>convnext_tiny.fb_in22k_ft_in1k</td>\n",
       "      <td>uc-merced-land-use-dataset</td>\n",
       "      <td>TRADES_v2</td>\n",
       "    </tr>\n",
       "    <tr>\n",
       "      <th>65</th>\n",
       "      <td>None</td>\n",
       "      <td>None</td>\n",
       "      <td>None</td>\n",
       "      <td>None</td>\n",
       "      <td>None</td>\n",
       "      <td>convnext_tiny.fb_in22k_ft_in1k</td>\n",
       "      <td>uc-merced-land-use-dataset</td>\n",
       "      <td>CLASSIC_AT</td>\n",
       "    </tr>\n",
       "  </tbody>\n",
       "</table>\n",
       "<p>66 rows × 8 columns</p>\n",
       "</div>"
      ],
      "text/plain": [
       "   clean_acc Linf_acc L2_acc L1_acc common_acc  \\\n",
       "0       None     None   None   None       None   \n",
       "1       None     None   None   None       None   \n",
       "2       None     None   None   None       None   \n",
       "3       None     None   None   None       None   \n",
       "4       None     None   None   None       None   \n",
       "..       ...      ...    ...    ...        ...   \n",
       "61      None     None   None   None       None   \n",
       "62      None     None   None   None       None   \n",
       "63      None     None   None   None       None   \n",
       "64      None     None   None   None       None   \n",
       "65      None     None   None   None       None   \n",
       "\n",
       "                                           backbone  \\\n",
       "0    CLIP-convnext_base_w-laion_aesthetic-s13B-b82K   \n",
       "1    CLIP-convnext_base_w-laion_aesthetic-s13B-b82K   \n",
       "2            CLIP-convnext_base_w-laion2B-s13B-b82K   \n",
       "3            CLIP-convnext_base_w-laion2B-s13B-b82K   \n",
       "4                    deit_small_patch16_224.fb_in1k   \n",
       "..                                              ...   \n",
       "61  convnext_base.clip_laion2b_augreg_ft_in12k_in1k   \n",
       "62                   convnext_base.fb_in22k_ft_in1k   \n",
       "63                   convnext_base.fb_in22k_ft_in1k   \n",
       "64                   convnext_tiny.fb_in22k_ft_in1k   \n",
       "65                   convnext_tiny.fb_in22k_ft_in1k   \n",
       "\n",
       "                       dataset loss_function  \n",
       "0   uc-merced-land-use-dataset     TRADES_v2  \n",
       "1   uc-merced-land-use-dataset    CLASSIC_AT  \n",
       "2   uc-merced-land-use-dataset     TRADES_v2  \n",
       "3   uc-merced-land-use-dataset    CLASSIC_AT  \n",
       "4   uc-merced-land-use-dataset     TRADES_v2  \n",
       "..                         ...           ...  \n",
       "61  uc-merced-land-use-dataset    CLASSIC_AT  \n",
       "62  uc-merced-land-use-dataset     TRADES_v2  \n",
       "63  uc-merced-land-use-dataset    CLASSIC_AT  \n",
       "64  uc-merced-land-use-dataset     TRADES_v2  \n",
       "65  uc-merced-land-use-dataset    CLASSIC_AT  \n",
       "\n",
       "[66 rows x 8 columns]"
      ]
     },
     "execution_count": 2,
     "metadata": {},
     "output_type": "execute_result"
    }
   ],
   "source": []
  },
  {
   "cell_type": "code",
   "execution_count": 6,
   "metadata": {},
   "outputs": [
    {
     "ename": "KeyError",
     "evalue": "'robust_acc'",
     "output_type": "error",
     "traceback": [
      "\u001b[0;31m---------------------------------------------------------------------------\u001b[0m",
      "\u001b[0;31mKeyError\u001b[0m                                  Traceback (most recent call last)",
      "File \u001b[0;32m~/Desktop/robust_training/.venv2/lib/python3.11/site-packages/pandas/core/indexes/base.py:3805\u001b[0m, in \u001b[0;36mIndex.get_loc\u001b[0;34m(self, key)\u001b[0m\n\u001b[1;32m   3804\u001b[0m \u001b[38;5;28;01mtry\u001b[39;00m:\n\u001b[0;32m-> 3805\u001b[0m     \u001b[38;5;28;01mreturn\u001b[39;00m \u001b[38;5;28;43mself\u001b[39;49m\u001b[38;5;241;43m.\u001b[39;49m\u001b[43m_engine\u001b[49m\u001b[38;5;241;43m.\u001b[39;49m\u001b[43mget_loc\u001b[49m\u001b[43m(\u001b[49m\u001b[43mcasted_key\u001b[49m\u001b[43m)\u001b[49m\n\u001b[1;32m   3806\u001b[0m \u001b[38;5;28;01mexcept\u001b[39;00m \u001b[38;5;167;01mKeyError\u001b[39;00m \u001b[38;5;28;01mas\u001b[39;00m err:\n",
      "File \u001b[0;32mindex.pyx:167\u001b[0m, in \u001b[0;36mpandas._libs.index.IndexEngine.get_loc\u001b[0;34m()\u001b[0m\n",
      "File \u001b[0;32mindex.pyx:196\u001b[0m, in \u001b[0;36mpandas._libs.index.IndexEngine.get_loc\u001b[0;34m()\u001b[0m\n",
      "File \u001b[0;32mpandas/_libs/hashtable_class_helper.pxi:7081\u001b[0m, in \u001b[0;36mpandas._libs.hashtable.PyObjectHashTable.get_item\u001b[0;34m()\u001b[0m\n",
      "File \u001b[0;32mpandas/_libs/hashtable_class_helper.pxi:7089\u001b[0m, in \u001b[0;36mpandas._libs.hashtable.PyObjectHashTable.get_item\u001b[0;34m()\u001b[0m\n",
      "\u001b[0;31mKeyError\u001b[0m: 'robust_acc'",
      "\nThe above exception was the direct cause of the following exception:\n",
      "\u001b[0;31mKeyError\u001b[0m                                  Traceback (most recent call last)",
      "Cell \u001b[0;32mIn[6], line 5\u001b[0m\n\u001b[1;32m      1\u001b[0m \u001b[38;5;66;03m# Define the valid condition for each row:\u001b[39;00m\n\u001b[1;32m      2\u001b[0m \u001b[38;5;66;03m#   - either both are not NaN,\u001b[39;00m\n\u001b[1;32m      3\u001b[0m \u001b[38;5;66;03m#   - or exactly one is NaN (and then the other must be not NaN)\u001b[39;00m\n\u001b[1;32m      4\u001b[0m valid_condition \u001b[38;5;241m=\u001b[39m (\n\u001b[0;32m----> 5\u001b[0m     (\u001b[43mdf\u001b[49m\u001b[43m[\u001b[49m\u001b[38;5;124;43m'\u001b[39;49m\u001b[38;5;124;43mrobust_acc\u001b[39;49m\u001b[38;5;124;43m'\u001b[39;49m\u001b[43m]\u001b[49m\u001b[38;5;241m.\u001b[39misna() \u001b[38;5;241m&\u001b[39m df[\u001b[38;5;124m'\u001b[39m\u001b[38;5;124mLinf_acc\u001b[39m\u001b[38;5;124m'\u001b[39m]\u001b[38;5;241m.\u001b[39mnotna()) \u001b[38;5;241m|\u001b[39m \n\u001b[1;32m      6\u001b[0m     (df[\u001b[38;5;124m'\u001b[39m\u001b[38;5;124mLinf_acc\u001b[39m\u001b[38;5;124m'\u001b[39m]\u001b[38;5;241m.\u001b[39misna() \u001b[38;5;241m&\u001b[39m df[\u001b[38;5;124m'\u001b[39m\u001b[38;5;124mrobust_acc\u001b[39m\u001b[38;5;124m'\u001b[39m]\u001b[38;5;241m.\u001b[39mnotna()) \u001b[38;5;241m|\u001b[39m \n\u001b[1;32m      7\u001b[0m     (df[\u001b[38;5;124m'\u001b[39m\u001b[38;5;124mrobust_acc\u001b[39m\u001b[38;5;124m'\u001b[39m]\u001b[38;5;241m.\u001b[39misna() \u001b[38;5;241m&\u001b[39m df[\u001b[38;5;124m'\u001b[39m\u001b[38;5;124mLinf_acc\u001b[39m\u001b[38;5;124m'\u001b[39m]\u001b[38;5;241m.\u001b[39misna())\n\u001b[1;32m      8\u001b[0m )\n\u001b[1;32m     10\u001b[0m \u001b[38;5;28;01mif\u001b[39;00m valid_condition\u001b[38;5;241m.\u001b[39mall():\n\u001b[1;32m     11\u001b[0m     \u001b[38;5;28mprint\u001b[39m(\u001b[38;5;124m\"\u001b[39m\u001b[38;5;124mCondition holds: If one column is NaN, the other is necessarily not NaN.\u001b[39m\u001b[38;5;124m\"\u001b[39m)\n",
      "File \u001b[0;32m~/Desktop/robust_training/.venv2/lib/python3.11/site-packages/pandas/core/frame.py:4102\u001b[0m, in \u001b[0;36mDataFrame.__getitem__\u001b[0;34m(self, key)\u001b[0m\n\u001b[1;32m   4100\u001b[0m \u001b[38;5;28;01mif\u001b[39;00m \u001b[38;5;28mself\u001b[39m\u001b[38;5;241m.\u001b[39mcolumns\u001b[38;5;241m.\u001b[39mnlevels \u001b[38;5;241m>\u001b[39m \u001b[38;5;241m1\u001b[39m:\n\u001b[1;32m   4101\u001b[0m     \u001b[38;5;28;01mreturn\u001b[39;00m \u001b[38;5;28mself\u001b[39m\u001b[38;5;241m.\u001b[39m_getitem_multilevel(key)\n\u001b[0;32m-> 4102\u001b[0m indexer \u001b[38;5;241m=\u001b[39m \u001b[38;5;28;43mself\u001b[39;49m\u001b[38;5;241;43m.\u001b[39;49m\u001b[43mcolumns\u001b[49m\u001b[38;5;241;43m.\u001b[39;49m\u001b[43mget_loc\u001b[49m\u001b[43m(\u001b[49m\u001b[43mkey\u001b[49m\u001b[43m)\u001b[49m\n\u001b[1;32m   4103\u001b[0m \u001b[38;5;28;01mif\u001b[39;00m is_integer(indexer):\n\u001b[1;32m   4104\u001b[0m     indexer \u001b[38;5;241m=\u001b[39m [indexer]\n",
      "File \u001b[0;32m~/Desktop/robust_training/.venv2/lib/python3.11/site-packages/pandas/core/indexes/base.py:3812\u001b[0m, in \u001b[0;36mIndex.get_loc\u001b[0;34m(self, key)\u001b[0m\n\u001b[1;32m   3807\u001b[0m     \u001b[38;5;28;01mif\u001b[39;00m \u001b[38;5;28misinstance\u001b[39m(casted_key, \u001b[38;5;28mslice\u001b[39m) \u001b[38;5;129;01mor\u001b[39;00m (\n\u001b[1;32m   3808\u001b[0m         \u001b[38;5;28misinstance\u001b[39m(casted_key, abc\u001b[38;5;241m.\u001b[39mIterable)\n\u001b[1;32m   3809\u001b[0m         \u001b[38;5;129;01mand\u001b[39;00m \u001b[38;5;28many\u001b[39m(\u001b[38;5;28misinstance\u001b[39m(x, \u001b[38;5;28mslice\u001b[39m) \u001b[38;5;28;01mfor\u001b[39;00m x \u001b[38;5;129;01min\u001b[39;00m casted_key)\n\u001b[1;32m   3810\u001b[0m     ):\n\u001b[1;32m   3811\u001b[0m         \u001b[38;5;28;01mraise\u001b[39;00m InvalidIndexError(key)\n\u001b[0;32m-> 3812\u001b[0m     \u001b[38;5;28;01mraise\u001b[39;00m \u001b[38;5;167;01mKeyError\u001b[39;00m(key) \u001b[38;5;28;01mfrom\u001b[39;00m\u001b[38;5;250m \u001b[39m\u001b[38;5;21;01merr\u001b[39;00m\n\u001b[1;32m   3813\u001b[0m \u001b[38;5;28;01mexcept\u001b[39;00m \u001b[38;5;167;01mTypeError\u001b[39;00m:\n\u001b[1;32m   3814\u001b[0m     \u001b[38;5;66;03m# If we have a listlike key, _check_indexing_error will raise\u001b[39;00m\n\u001b[1;32m   3815\u001b[0m     \u001b[38;5;66;03m#  InvalidIndexError. Otherwise we fall through and re-raise\u001b[39;00m\n\u001b[1;32m   3816\u001b[0m     \u001b[38;5;66;03m#  the TypeError.\u001b[39;00m\n\u001b[1;32m   3817\u001b[0m     \u001b[38;5;28mself\u001b[39m\u001b[38;5;241m.\u001b[39m_check_indexing_error(key)\n",
      "\u001b[0;31mKeyError\u001b[0m: 'robust_acc'"
     ]
    }
   ],
   "source": [
    "\n",
    "# Define the valid condition for each row:\n",
    "#   - either both are not NaN,\n",
    "#   - or exactly one is NaN (and then the other must be not NaN)\n",
    "valid_condition = (\n",
    "    (df['robust_acc'].isna() & df['Linf_acc'].notna()) | \n",
    "    (df['Linf_acc'].isna() & df['robust_acc'].notna()) | \n",
    "    (df['robust_acc'].isna() & df['Linf_acc'].isna())\n",
    ")\n",
    "\n",
    "if valid_condition.all():\n",
    "    print(\"Condition holds: If one column is NaN, the other is necessarily not NaN.\")\n",
    "else:\n",
    "    print(\"Condition does NOT hold. The following rows do not meet the requirement:\")\n",
    "\n",
    "# set(df[~valid_condition]['dataset'])\n",
    "\n",
    "df[~valid_condition]\n"
   ]
  },
  {
   "cell_type": "code",
   "execution_count": 18,
   "metadata": {},
   "outputs": [
    {
     "data": {
      "text/html": [
       "<div>\n",
       "<style scoped>\n",
       "    .dataframe tbody tr th:only-of-type {\n",
       "        vertical-align: middle;\n",
       "    }\n",
       "\n",
       "    .dataframe tbody tr th {\n",
       "        vertical-align: top;\n",
       "    }\n",
       "\n",
       "    .dataframe thead th {\n",
       "        text-align: right;\n",
       "    }\n",
       "</style>\n",
       "<table border=\"1\" class=\"dataframe\">\n",
       "  <thead>\n",
       "    <tr style=\"text-align: right;\">\n",
       "      <th></th>\n",
       "      <th>backbone</th>\n",
       "      <th>dataset</th>\n",
       "      <th>loss_function</th>\n",
       "      <th>clean_acc</th>\n",
       "      <th>robust_acc</th>\n",
       "      <th>Linf_acc</th>\n",
       "      <th>L2_acc</th>\n",
       "      <th>L1_acc</th>\n",
       "    </tr>\n",
       "  </thead>\n",
       "  <tbody>\n",
       "    <tr>\n",
       "      <th>1</th>\n",
       "      <td>convnext_tiny</td>\n",
       "      <td>stanford_cars</td>\n",
       "      <td>TRADES_v2</td>\n",
       "      <td>0.790667</td>\n",
       "      <td>0.513333</td>\n",
       "      <td>0.624667</td>\n",
       "      <td>NaN</td>\n",
       "      <td>NaN</td>\n",
       "    </tr>\n",
       "    <tr>\n",
       "      <th>6</th>\n",
       "      <td>convnext_tiny</td>\n",
       "      <td>oxford-iiit-pet</td>\n",
       "      <td>TRADES_v2</td>\n",
       "      <td>0.872667</td>\n",
       "      <td>NaN</td>\n",
       "      <td>0.690667</td>\n",
       "      <td>NaN</td>\n",
       "      <td>NaN</td>\n",
       "    </tr>\n",
       "    <tr>\n",
       "      <th>8</th>\n",
       "      <td>convnext_tiny</td>\n",
       "      <td>stanford_cars</td>\n",
       "      <td>CLASSIC_AT</td>\n",
       "      <td>0.692667</td>\n",
       "      <td>0.420000</td>\n",
       "      <td>0.422000</td>\n",
       "      <td>NaN</td>\n",
       "      <td>NaN</td>\n",
       "    </tr>\n",
       "    <tr>\n",
       "      <th>15</th>\n",
       "      <td>robust_convnext_tiny</td>\n",
       "      <td>stanford_cars</td>\n",
       "      <td>TRADES_v2</td>\n",
       "      <td>0.758000</td>\n",
       "      <td>0.643333</td>\n",
       "      <td>0.650000</td>\n",
       "      <td>NaN</td>\n",
       "      <td>NaN</td>\n",
       "    </tr>\n",
       "    <tr>\n",
       "      <th>20</th>\n",
       "      <td>robust_convnext_tiny</td>\n",
       "      <td>oxford-iiit-pet</td>\n",
       "      <td>TRADES_v2</td>\n",
       "      <td>0.854000</td>\n",
       "      <td>NaN</td>\n",
       "      <td>0.763333</td>\n",
       "      <td>NaN</td>\n",
       "      <td>NaN</td>\n",
       "    </tr>\n",
       "    <tr>\n",
       "      <th>22</th>\n",
       "      <td>robust_convnext_tiny</td>\n",
       "      <td>stanford_cars</td>\n",
       "      <td>CLASSIC_AT</td>\n",
       "      <td>0.556667</td>\n",
       "      <td>0.620000</td>\n",
       "      <td>0.414000</td>\n",
       "      <td>NaN</td>\n",
       "      <td>NaN</td>\n",
       "    </tr>\n",
       "    <tr>\n",
       "      <th>29</th>\n",
       "      <td>convnext_tiny.fb_in22k</td>\n",
       "      <td>stanford_cars</td>\n",
       "      <td>TRADES_v2</td>\n",
       "      <td>0.799333</td>\n",
       "      <td>0.620667</td>\n",
       "      <td>0.632667</td>\n",
       "      <td>NaN</td>\n",
       "      <td>NaN</td>\n",
       "    </tr>\n",
       "    <tr>\n",
       "      <th>34</th>\n",
       "      <td>convnext_tiny.fb_in22k</td>\n",
       "      <td>oxford-iiit-pet</td>\n",
       "      <td>TRADES_v2</td>\n",
       "      <td>0.838667</td>\n",
       "      <td>NaN</td>\n",
       "      <td>0.679333</td>\n",
       "      <td>NaN</td>\n",
       "      <td>NaN</td>\n",
       "    </tr>\n",
       "    <tr>\n",
       "      <th>36</th>\n",
       "      <td>convnext_tiny.fb_in22k</td>\n",
       "      <td>stanford_cars</td>\n",
       "      <td>CLASSIC_AT</td>\n",
       "      <td>0.591333</td>\n",
       "      <td>0.334000</td>\n",
       "      <td>0.346000</td>\n",
       "      <td>NaN</td>\n",
       "      <td>NaN</td>\n",
       "    </tr>\n",
       "    <tr>\n",
       "      <th>48</th>\n",
       "      <td>deit_small_patch16_224.fb_in1k</td>\n",
       "      <td>oxford-iiit-pet</td>\n",
       "      <td>TRADES_v2</td>\n",
       "      <td>0.880667</td>\n",
       "      <td>NaN</td>\n",
       "      <td>0.616667</td>\n",
       "      <td>NaN</td>\n",
       "      <td>NaN</td>\n",
       "    </tr>\n",
       "    <tr>\n",
       "      <th>62</th>\n",
       "      <td>robust_deit_small_patch16_224</td>\n",
       "      <td>oxford-iiit-pet</td>\n",
       "      <td>TRADES_v2</td>\n",
       "      <td>0.848000</td>\n",
       "      <td>NaN</td>\n",
       "      <td>0.706667</td>\n",
       "      <td>NaN</td>\n",
       "      <td>NaN</td>\n",
       "    </tr>\n",
       "    <tr>\n",
       "      <th>71</th>\n",
       "      <td>convnext_base</td>\n",
       "      <td>stanford_cars</td>\n",
       "      <td>TRADES_v2</td>\n",
       "      <td>0.828667</td>\n",
       "      <td>NaN</td>\n",
       "      <td>0.694667</td>\n",
       "      <td>NaN</td>\n",
       "      <td>NaN</td>\n",
       "    </tr>\n",
       "    <tr>\n",
       "      <th>76</th>\n",
       "      <td>convnext_base</td>\n",
       "      <td>oxford-iiit-pet</td>\n",
       "      <td>TRADES_v2</td>\n",
       "      <td>0.880000</td>\n",
       "      <td>NaN</td>\n",
       "      <td>0.742000</td>\n",
       "      <td>NaN</td>\n",
       "      <td>NaN</td>\n",
       "    </tr>\n",
       "    <tr>\n",
       "      <th>78</th>\n",
       "      <td>convnext_base</td>\n",
       "      <td>stanford_cars</td>\n",
       "      <td>CLASSIC_AT</td>\n",
       "      <td>0.762667</td>\n",
       "      <td>NaN</td>\n",
       "      <td>0.556667</td>\n",
       "      <td>NaN</td>\n",
       "      <td>NaN</td>\n",
       "    </tr>\n",
       "    <tr>\n",
       "      <th>90</th>\n",
       "      <td>convnext_base.fb_in22k</td>\n",
       "      <td>oxford-iiit-pet</td>\n",
       "      <td>TRADES_v2</td>\n",
       "      <td>0.875333</td>\n",
       "      <td>0.733333</td>\n",
       "      <td>0.726667</td>\n",
       "      <td>NaN</td>\n",
       "      <td>NaN</td>\n",
       "    </tr>\n",
       "    <tr>\n",
       "      <th>92</th>\n",
       "      <td>convnext_base.fb_in22k</td>\n",
       "      <td>stanford_cars</td>\n",
       "      <td>CLASSIC_AT</td>\n",
       "      <td>0.733333</td>\n",
       "      <td>NaN</td>\n",
       "      <td>0.525333</td>\n",
       "      <td>NaN</td>\n",
       "      <td>NaN</td>\n",
       "    </tr>\n",
       "    <tr>\n",
       "      <th>104</th>\n",
       "      <td>robust_convnext_base</td>\n",
       "      <td>oxford-iiit-pet</td>\n",
       "      <td>TRADES_v2</td>\n",
       "      <td>0.888000</td>\n",
       "      <td>NaN</td>\n",
       "      <td>0.809333</td>\n",
       "      <td>NaN</td>\n",
       "      <td>NaN</td>\n",
       "    </tr>\n",
       "    <tr>\n",
       "      <th>106</th>\n",
       "      <td>robust_convnext_base</td>\n",
       "      <td>stanford_cars</td>\n",
       "      <td>CLASSIC_AT</td>\n",
       "      <td>0.608000</td>\n",
       "      <td>NaN</td>\n",
       "      <td>0.563333</td>\n",
       "      <td>NaN</td>\n",
       "      <td>NaN</td>\n",
       "    </tr>\n",
       "    <tr>\n",
       "      <th>118</th>\n",
       "      <td>convnext_base.clip_laion2b</td>\n",
       "      <td>oxford-iiit-pet</td>\n",
       "      <td>TRADES_v2</td>\n",
       "      <td>0.865333</td>\n",
       "      <td>NaN</td>\n",
       "      <td>0.682667</td>\n",
       "      <td>NaN</td>\n",
       "      <td>NaN</td>\n",
       "    </tr>\n",
       "    <tr>\n",
       "      <th>120</th>\n",
       "      <td>convnext_base.clip_laion2b</td>\n",
       "      <td>stanford_cars</td>\n",
       "      <td>CLASSIC_AT</td>\n",
       "      <td>0.911333</td>\n",
       "      <td>NaN</td>\n",
       "      <td>0.822667</td>\n",
       "      <td>NaN</td>\n",
       "      <td>NaN</td>\n",
       "    </tr>\n",
       "    <tr>\n",
       "      <th>132</th>\n",
       "      <td>convnext_base.clip_laion2b_augreg</td>\n",
       "      <td>oxford-iiit-pet</td>\n",
       "      <td>TRADES_v2</td>\n",
       "      <td>0.865333</td>\n",
       "      <td>NaN</td>\n",
       "      <td>0.696000</td>\n",
       "      <td>NaN</td>\n",
       "      <td>NaN</td>\n",
       "    </tr>\n",
       "    <tr>\n",
       "      <th>134</th>\n",
       "      <td>convnext_base.clip_laion2b_augreg</td>\n",
       "      <td>stanford_cars</td>\n",
       "      <td>CLASSIC_AT</td>\n",
       "      <td>0.900000</td>\n",
       "      <td>NaN</td>\n",
       "      <td>0.819333</td>\n",
       "      <td>NaN</td>\n",
       "      <td>NaN</td>\n",
       "    </tr>\n",
       "    <tr>\n",
       "      <th>145</th>\n",
       "      <td>vit_base_patch16_224.augreg_in1k</td>\n",
       "      <td>flowers-102</td>\n",
       "      <td>TRADES_v2</td>\n",
       "      <td>0.862000</td>\n",
       "      <td>NaN</td>\n",
       "      <td>0.692667</td>\n",
       "      <td>NaN</td>\n",
       "      <td>NaN</td>\n",
       "    </tr>\n",
       "    <tr>\n",
       "      <th>146</th>\n",
       "      <td>vit_base_patch16_224.augreg_in1k</td>\n",
       "      <td>oxford-iiit-pet</td>\n",
       "      <td>TRADES_v2</td>\n",
       "      <td>0.864000</td>\n",
       "      <td>NaN</td>\n",
       "      <td>0.626667</td>\n",
       "      <td>NaN</td>\n",
       "      <td>NaN</td>\n",
       "    </tr>\n",
       "    <tr>\n",
       "      <th>160</th>\n",
       "      <td>vit_base_patch16_224.augreg_in21k</td>\n",
       "      <td>oxford-iiit-pet</td>\n",
       "      <td>TRADES_v2</td>\n",
       "      <td>0.900000</td>\n",
       "      <td>NaN</td>\n",
       "      <td>0.648000</td>\n",
       "      <td>NaN</td>\n",
       "      <td>NaN</td>\n",
       "    </tr>\n",
       "    <tr>\n",
       "      <th>174</th>\n",
       "      <td>vit_base_patch16_224.dino</td>\n",
       "      <td>oxford-iiit-pet</td>\n",
       "      <td>TRADES_v2</td>\n",
       "      <td>0.909333</td>\n",
       "      <td>NaN</td>\n",
       "      <td>0.658667</td>\n",
       "      <td>NaN</td>\n",
       "      <td>NaN</td>\n",
       "    </tr>\n",
       "    <tr>\n",
       "      <th>188</th>\n",
       "      <td>vit_base_patch16_224.mae</td>\n",
       "      <td>oxford-iiit-pet</td>\n",
       "      <td>TRADES_v2</td>\n",
       "      <td>0.884000</td>\n",
       "      <td>NaN</td>\n",
       "      <td>0.618000</td>\n",
       "      <td>NaN</td>\n",
       "      <td>NaN</td>\n",
       "    </tr>\n",
       "    <tr>\n",
       "      <th>202</th>\n",
       "      <td>vit_base_patch16_224.orig_in21k</td>\n",
       "      <td>oxford-iiit-pet</td>\n",
       "      <td>TRADES_v2</td>\n",
       "      <td>0.897333</td>\n",
       "      <td>NaN</td>\n",
       "      <td>0.624000</td>\n",
       "      <td>NaN</td>\n",
       "      <td>NaN</td>\n",
       "    </tr>\n",
       "    <tr>\n",
       "      <th>205</th>\n",
       "      <td>vit_base_patch16_224.orig_in21k</td>\n",
       "      <td>caltech101</td>\n",
       "      <td>CLASSIC_AT</td>\n",
       "      <td>0.800000</td>\n",
       "      <td>NaN</td>\n",
       "      <td>0.754667</td>\n",
       "      <td>NaN</td>\n",
       "      <td>NaN</td>\n",
       "    </tr>\n",
       "    <tr>\n",
       "      <th>216</th>\n",
       "      <td>vit_base_patch16_224.sam_in1k</td>\n",
       "      <td>oxford-iiit-pet</td>\n",
       "      <td>TRADES_v2</td>\n",
       "      <td>0.905333</td>\n",
       "      <td>NaN</td>\n",
       "      <td>0.674667</td>\n",
       "      <td>NaN</td>\n",
       "      <td>NaN</td>\n",
       "    </tr>\n",
       "    <tr>\n",
       "      <th>230</th>\n",
       "      <td>vit_base_patch16_224_miil.in21k</td>\n",
       "      <td>oxford-iiit-pet</td>\n",
       "      <td>TRADES_v2</td>\n",
       "      <td>0.890667</td>\n",
       "      <td>0.606667</td>\n",
       "      <td>0.627333</td>\n",
       "      <td>NaN</td>\n",
       "      <td>NaN</td>\n",
       "    </tr>\n",
       "    <tr>\n",
       "      <th>233</th>\n",
       "      <td>vit_base_patch16_224_miil.in21k</td>\n",
       "      <td>caltech101</td>\n",
       "      <td>CLASSIC_AT</td>\n",
       "      <td>0.086000</td>\n",
       "      <td>NaN</td>\n",
       "      <td>0.071333</td>\n",
       "      <td>NaN</td>\n",
       "      <td>NaN</td>\n",
       "    </tr>\n",
       "    <tr>\n",
       "      <th>239</th>\n",
       "      <td>robust_vit_base_patch16_224</td>\n",
       "      <td>stanford_cars</td>\n",
       "      <td>TRADES_v2</td>\n",
       "      <td>0.159333</td>\n",
       "      <td>NaN</td>\n",
       "      <td>0.064667</td>\n",
       "      <td>NaN</td>\n",
       "      <td>NaN</td>\n",
       "    </tr>\n",
       "    <tr>\n",
       "      <th>240</th>\n",
       "      <td>robust_vit_base_patch16_224</td>\n",
       "      <td>caltech101</td>\n",
       "      <td>TRADES_v2</td>\n",
       "      <td>0.972667</td>\n",
       "      <td>NaN</td>\n",
       "      <td>0.927333</td>\n",
       "      <td>NaN</td>\n",
       "      <td>NaN</td>\n",
       "    </tr>\n",
       "    <tr>\n",
       "      <th>241</th>\n",
       "      <td>robust_vit_base_patch16_224</td>\n",
       "      <td>fgvc-aircraft-2013b</td>\n",
       "      <td>TRADES_v2</td>\n",
       "      <td>0.584667</td>\n",
       "      <td>NaN</td>\n",
       "      <td>0.452000</td>\n",
       "      <td>NaN</td>\n",
       "      <td>NaN</td>\n",
       "    </tr>\n",
       "    <tr>\n",
       "      <th>242</th>\n",
       "      <td>robust_vit_base_patch16_224</td>\n",
       "      <td>dtd</td>\n",
       "      <td>TRADES_v2</td>\n",
       "      <td>0.612000</td>\n",
       "      <td>NaN</td>\n",
       "      <td>0.449333</td>\n",
       "      <td>NaN</td>\n",
       "      <td>NaN</td>\n",
       "    </tr>\n",
       "    <tr>\n",
       "      <th>243</th>\n",
       "      <td>robust_vit_base_patch16_224</td>\n",
       "      <td>flowers-102</td>\n",
       "      <td>TRADES_v2</td>\n",
       "      <td>0.735333</td>\n",
       "      <td>NaN</td>\n",
       "      <td>0.605333</td>\n",
       "      <td>NaN</td>\n",
       "      <td>NaN</td>\n",
       "    </tr>\n",
       "    <tr>\n",
       "      <th>244</th>\n",
       "      <td>robust_vit_base_patch16_224</td>\n",
       "      <td>oxford-iiit-pet</td>\n",
       "      <td>TRADES_v2</td>\n",
       "      <td>0.877333</td>\n",
       "      <td>NaN</td>\n",
       "      <td>0.750000</td>\n",
       "      <td>NaN</td>\n",
       "      <td>NaN</td>\n",
       "    </tr>\n",
       "    <tr>\n",
       "      <th>246</th>\n",
       "      <td>robust_vit_base_patch16_224</td>\n",
       "      <td>stanford_cars</td>\n",
       "      <td>CLASSIC_AT</td>\n",
       "      <td>0.009333</td>\n",
       "      <td>NaN</td>\n",
       "      <td>0.004000</td>\n",
       "      <td>NaN</td>\n",
       "      <td>NaN</td>\n",
       "    </tr>\n",
       "    <tr>\n",
       "      <th>247</th>\n",
       "      <td>robust_vit_base_patch16_224</td>\n",
       "      <td>caltech101</td>\n",
       "      <td>CLASSIC_AT</td>\n",
       "      <td>0.193333</td>\n",
       "      <td>NaN</td>\n",
       "      <td>0.189333</td>\n",
       "      <td>NaN</td>\n",
       "      <td>NaN</td>\n",
       "    </tr>\n",
       "    <tr>\n",
       "      <th>248</th>\n",
       "      <td>robust_vit_base_patch16_224</td>\n",
       "      <td>fgvc-aircraft-2013b</td>\n",
       "      <td>CLASSIC_AT</td>\n",
       "      <td>0.214667</td>\n",
       "      <td>NaN</td>\n",
       "      <td>0.175333</td>\n",
       "      <td>NaN</td>\n",
       "      <td>NaN</td>\n",
       "    </tr>\n",
       "    <tr>\n",
       "      <th>249</th>\n",
       "      <td>robust_vit_base_patch16_224</td>\n",
       "      <td>dtd</td>\n",
       "      <td>CLASSIC_AT</td>\n",
       "      <td>0.268667</td>\n",
       "      <td>NaN</td>\n",
       "      <td>0.197333</td>\n",
       "      <td>NaN</td>\n",
       "      <td>NaN</td>\n",
       "    </tr>\n",
       "    <tr>\n",
       "      <th>250</th>\n",
       "      <td>robust_vit_base_patch16_224</td>\n",
       "      <td>flowers-102</td>\n",
       "      <td>CLASSIC_AT</td>\n",
       "      <td>0.006667</td>\n",
       "      <td>NaN</td>\n",
       "      <td>0.002000</td>\n",
       "      <td>NaN</td>\n",
       "      <td>NaN</td>\n",
       "    </tr>\n",
       "    <tr>\n",
       "      <th>251</th>\n",
       "      <td>robust_vit_base_patch16_224</td>\n",
       "      <td>oxford-iiit-pet</td>\n",
       "      <td>CLASSIC_AT</td>\n",
       "      <td>0.156000</td>\n",
       "      <td>NaN</td>\n",
       "      <td>0.136667</td>\n",
       "      <td>NaN</td>\n",
       "      <td>NaN</td>\n",
       "    </tr>\n",
       "  </tbody>\n",
       "</table>\n",
       "</div>"
      ],
      "text/plain": [
       "                              backbone              dataset loss_function  \\\n",
       "1                        convnext_tiny        stanford_cars     TRADES_v2   \n",
       "6                        convnext_tiny      oxford-iiit-pet     TRADES_v2   \n",
       "8                        convnext_tiny        stanford_cars    CLASSIC_AT   \n",
       "15                robust_convnext_tiny        stanford_cars     TRADES_v2   \n",
       "20                robust_convnext_tiny      oxford-iiit-pet     TRADES_v2   \n",
       "22                robust_convnext_tiny        stanford_cars    CLASSIC_AT   \n",
       "29              convnext_tiny.fb_in22k        stanford_cars     TRADES_v2   \n",
       "34              convnext_tiny.fb_in22k      oxford-iiit-pet     TRADES_v2   \n",
       "36              convnext_tiny.fb_in22k        stanford_cars    CLASSIC_AT   \n",
       "48      deit_small_patch16_224.fb_in1k      oxford-iiit-pet     TRADES_v2   \n",
       "62       robust_deit_small_patch16_224      oxford-iiit-pet     TRADES_v2   \n",
       "71                       convnext_base        stanford_cars     TRADES_v2   \n",
       "76                       convnext_base      oxford-iiit-pet     TRADES_v2   \n",
       "78                       convnext_base        stanford_cars    CLASSIC_AT   \n",
       "90              convnext_base.fb_in22k      oxford-iiit-pet     TRADES_v2   \n",
       "92              convnext_base.fb_in22k        stanford_cars    CLASSIC_AT   \n",
       "104               robust_convnext_base      oxford-iiit-pet     TRADES_v2   \n",
       "106               robust_convnext_base        stanford_cars    CLASSIC_AT   \n",
       "118         convnext_base.clip_laion2b      oxford-iiit-pet     TRADES_v2   \n",
       "120         convnext_base.clip_laion2b        stanford_cars    CLASSIC_AT   \n",
       "132  convnext_base.clip_laion2b_augreg      oxford-iiit-pet     TRADES_v2   \n",
       "134  convnext_base.clip_laion2b_augreg        stanford_cars    CLASSIC_AT   \n",
       "145   vit_base_patch16_224.augreg_in1k          flowers-102     TRADES_v2   \n",
       "146   vit_base_patch16_224.augreg_in1k      oxford-iiit-pet     TRADES_v2   \n",
       "160  vit_base_patch16_224.augreg_in21k      oxford-iiit-pet     TRADES_v2   \n",
       "174          vit_base_patch16_224.dino      oxford-iiit-pet     TRADES_v2   \n",
       "188           vit_base_patch16_224.mae      oxford-iiit-pet     TRADES_v2   \n",
       "202    vit_base_patch16_224.orig_in21k      oxford-iiit-pet     TRADES_v2   \n",
       "205    vit_base_patch16_224.orig_in21k           caltech101    CLASSIC_AT   \n",
       "216      vit_base_patch16_224.sam_in1k      oxford-iiit-pet     TRADES_v2   \n",
       "230    vit_base_patch16_224_miil.in21k      oxford-iiit-pet     TRADES_v2   \n",
       "233    vit_base_patch16_224_miil.in21k           caltech101    CLASSIC_AT   \n",
       "239        robust_vit_base_patch16_224        stanford_cars     TRADES_v2   \n",
       "240        robust_vit_base_patch16_224           caltech101     TRADES_v2   \n",
       "241        robust_vit_base_patch16_224  fgvc-aircraft-2013b     TRADES_v2   \n",
       "242        robust_vit_base_patch16_224                  dtd     TRADES_v2   \n",
       "243        robust_vit_base_patch16_224          flowers-102     TRADES_v2   \n",
       "244        robust_vit_base_patch16_224      oxford-iiit-pet     TRADES_v2   \n",
       "246        robust_vit_base_patch16_224        stanford_cars    CLASSIC_AT   \n",
       "247        robust_vit_base_patch16_224           caltech101    CLASSIC_AT   \n",
       "248        robust_vit_base_patch16_224  fgvc-aircraft-2013b    CLASSIC_AT   \n",
       "249        robust_vit_base_patch16_224                  dtd    CLASSIC_AT   \n",
       "250        robust_vit_base_patch16_224          flowers-102    CLASSIC_AT   \n",
       "251        robust_vit_base_patch16_224      oxford-iiit-pet    CLASSIC_AT   \n",
       "\n",
       "     clean_acc  robust_acc  Linf_acc  L2_acc  L1_acc  \n",
       "1     0.790667    0.513333  0.624667     NaN     NaN  \n",
       "6     0.872667         NaN  0.690667     NaN     NaN  \n",
       "8     0.692667    0.420000  0.422000     NaN     NaN  \n",
       "15    0.758000    0.643333  0.650000     NaN     NaN  \n",
       "20    0.854000         NaN  0.763333     NaN     NaN  \n",
       "22    0.556667    0.620000  0.414000     NaN     NaN  \n",
       "29    0.799333    0.620667  0.632667     NaN     NaN  \n",
       "34    0.838667         NaN  0.679333     NaN     NaN  \n",
       "36    0.591333    0.334000  0.346000     NaN     NaN  \n",
       "48    0.880667         NaN  0.616667     NaN     NaN  \n",
       "62    0.848000         NaN  0.706667     NaN     NaN  \n",
       "71    0.828667         NaN  0.694667     NaN     NaN  \n",
       "76    0.880000         NaN  0.742000     NaN     NaN  \n",
       "78    0.762667         NaN  0.556667     NaN     NaN  \n",
       "90    0.875333    0.733333  0.726667     NaN     NaN  \n",
       "92    0.733333         NaN  0.525333     NaN     NaN  \n",
       "104   0.888000         NaN  0.809333     NaN     NaN  \n",
       "106   0.608000         NaN  0.563333     NaN     NaN  \n",
       "118   0.865333         NaN  0.682667     NaN     NaN  \n",
       "120   0.911333         NaN  0.822667     NaN     NaN  \n",
       "132   0.865333         NaN  0.696000     NaN     NaN  \n",
       "134   0.900000         NaN  0.819333     NaN     NaN  \n",
       "145   0.862000         NaN  0.692667     NaN     NaN  \n",
       "146   0.864000         NaN  0.626667     NaN     NaN  \n",
       "160   0.900000         NaN  0.648000     NaN     NaN  \n",
       "174   0.909333         NaN  0.658667     NaN     NaN  \n",
       "188   0.884000         NaN  0.618000     NaN     NaN  \n",
       "202   0.897333         NaN  0.624000     NaN     NaN  \n",
       "205   0.800000         NaN  0.754667     NaN     NaN  \n",
       "216   0.905333         NaN  0.674667     NaN     NaN  \n",
       "230   0.890667    0.606667  0.627333     NaN     NaN  \n",
       "233   0.086000         NaN  0.071333     NaN     NaN  \n",
       "239   0.159333         NaN  0.064667     NaN     NaN  \n",
       "240   0.972667         NaN  0.927333     NaN     NaN  \n",
       "241   0.584667         NaN  0.452000     NaN     NaN  \n",
       "242   0.612000         NaN  0.449333     NaN     NaN  \n",
       "243   0.735333         NaN  0.605333     NaN     NaN  \n",
       "244   0.877333         NaN  0.750000     NaN     NaN  \n",
       "246   0.009333         NaN  0.004000     NaN     NaN  \n",
       "247   0.193333         NaN  0.189333     NaN     NaN  \n",
       "248   0.214667         NaN  0.175333     NaN     NaN  \n",
       "249   0.268667         NaN  0.197333     NaN     NaN  \n",
       "250   0.006667         NaN  0.002000     NaN     NaN  \n",
       "251   0.156000         NaN  0.136667     NaN     NaN  "
      ]
     },
     "execution_count": 18,
     "metadata": {},
     "output_type": "execute_result"
    }
   ],
   "source": [
    "df[ df['Linf_acc'].notna() ]"
   ]
  },
  {
   "cell_type": "code",
   "execution_count": 19,
   "metadata": {},
   "outputs": [],
   "source": [
    "df['Linf_acc'] = df['robust_acc'].combine_first(df['Linf_acc'])\n",
    "# df['Linf_acc'] = df['Linf_acc'].combine_first(df['robust_acc'])"
   ]
  },
  {
   "cell_type": "code",
   "execution_count": 20,
   "metadata": {},
   "outputs": [
    {
     "data": {
      "text/html": [
       "<div>\n",
       "<style scoped>\n",
       "    .dataframe tbody tr th:only-of-type {\n",
       "        vertical-align: middle;\n",
       "    }\n",
       "\n",
       "    .dataframe tbody tr th {\n",
       "        vertical-align: top;\n",
       "    }\n",
       "\n",
       "    .dataframe thead th {\n",
       "        text-align: right;\n",
       "    }\n",
       "</style>\n",
       "<table border=\"1\" class=\"dataframe\">\n",
       "  <thead>\n",
       "    <tr style=\"text-align: right;\">\n",
       "      <th></th>\n",
       "      <th>backbone</th>\n",
       "      <th>loss_function</th>\n",
       "      <th>total_sum</th>\n",
       "      <th>total_geom_mean</th>\n",
       "      <th>rank_total_sum</th>\n",
       "      <th>rank_total_geom_mean</th>\n",
       "    </tr>\n",
       "  </thead>\n",
       "  <tbody>\n",
       "    <tr>\n",
       "      <th>1</th>\n",
       "      <td>convnext_base</td>\n",
       "      <td>TRADES_v2</td>\n",
       "      <td>9.540667</td>\n",
       "      <td>1.474117</td>\n",
       "      <td>1.0</td>\n",
       "      <td>1.0</td>\n",
       "    </tr>\n",
       "    <tr>\n",
       "      <th>4</th>\n",
       "      <td>convnext_base.clip_laion2b_augreg</td>\n",
       "      <td>CLASSIC_AT</td>\n",
       "      <td>9.298667</td>\n",
       "      <td>1.441563</td>\n",
       "      <td>2.0</td>\n",
       "      <td>2.0</td>\n",
       "    </tr>\n",
       "    <tr>\n",
       "      <th>2</th>\n",
       "      <td>convnext_base.clip_laion2b</td>\n",
       "      <td>CLASSIC_AT</td>\n",
       "      <td>9.226000</td>\n",
       "      <td>1.429585</td>\n",
       "      <td>3.0</td>\n",
       "      <td>4.0</td>\n",
       "    </tr>\n",
       "    <tr>\n",
       "      <th>11</th>\n",
       "      <td>convnext_tiny.fb_in22k</td>\n",
       "      <td>TRADES_v2</td>\n",
       "      <td>9.211333</td>\n",
       "      <td>1.429607</td>\n",
       "      <td>4.0</td>\n",
       "      <td>3.0</td>\n",
       "    </tr>\n",
       "    <tr>\n",
       "      <th>17</th>\n",
       "      <td>robust_convnext_tiny</td>\n",
       "      <td>TRADES_v2</td>\n",
       "      <td>8.998667</td>\n",
       "      <td>1.400416</td>\n",
       "      <td>5.0</td>\n",
       "      <td>5.0</td>\n",
       "    </tr>\n",
       "    <tr>\n",
       "      <th>31</th>\n",
       "      <td>vit_base_patch16_224.orig_in21k</td>\n",
       "      <td>TRADES_v2</td>\n",
       "      <td>8.883333</td>\n",
       "      <td>1.379085</td>\n",
       "      <td>6.0</td>\n",
       "      <td>7.0</td>\n",
       "    </tr>\n",
       "    <tr>\n",
       "      <th>33</th>\n",
       "      <td>vit_base_patch16_224.sam_in1k</td>\n",
       "      <td>TRADES_v2</td>\n",
       "      <td>8.826667</td>\n",
       "      <td>1.374667</td>\n",
       "      <td>7.0</td>\n",
       "      <td>8.0</td>\n",
       "    </tr>\n",
       "    <tr>\n",
       "      <th>0</th>\n",
       "      <td>convnext_base</td>\n",
       "      <td>CLASSIC_AT</td>\n",
       "      <td>8.818000</td>\n",
       "      <td>1.350452</td>\n",
       "      <td>8.0</td>\n",
       "      <td>11.0</td>\n",
       "    </tr>\n",
       "    <tr>\n",
       "      <th>6</th>\n",
       "      <td>convnext_base.fb_in22k</td>\n",
       "      <td>CLASSIC_AT</td>\n",
       "      <td>8.730667</td>\n",
       "      <td>1.336765</td>\n",
       "      <td>9.0</td>\n",
       "      <td>13.0</td>\n",
       "    </tr>\n",
       "    <tr>\n",
       "      <th>9</th>\n",
       "      <td>convnext_tiny</td>\n",
       "      <td>TRADES_v2</td>\n",
       "      <td>8.730000</td>\n",
       "      <td>1.352120</td>\n",
       "      <td>10.0</td>\n",
       "      <td>10.0</td>\n",
       "    </tr>\n",
       "    <tr>\n",
       "      <th>25</th>\n",
       "      <td>vit_base_patch16_224.augreg_in21k</td>\n",
       "      <td>TRADES_v2</td>\n",
       "      <td>8.538000</td>\n",
       "      <td>1.311963</td>\n",
       "      <td>11.0</td>\n",
       "      <td>17.0</td>\n",
       "    </tr>\n",
       "    <tr>\n",
       "      <th>27</th>\n",
       "      <td>vit_base_patch16_224.dino</td>\n",
       "      <td>TRADES_v2</td>\n",
       "      <td>8.520667</td>\n",
       "      <td>1.328814</td>\n",
       "      <td>12.0</td>\n",
       "      <td>15.0</td>\n",
       "    </tr>\n",
       "    <tr>\n",
       "      <th>14</th>\n",
       "      <td>robust_convnext_base</td>\n",
       "      <td>CLASSIC_AT</td>\n",
       "      <td>8.401333</td>\n",
       "      <td>1.314549</td>\n",
       "      <td>13.0</td>\n",
       "      <td>16.0</td>\n",
       "    </tr>\n",
       "    <tr>\n",
       "      <th>13</th>\n",
       "      <td>deit_small_patch16_224.fb_in1k</td>\n",
       "      <td>TRADES_v2</td>\n",
       "      <td>8.233333</td>\n",
       "      <td>1.288800</td>\n",
       "      <td>14.0</td>\n",
       "      <td>18.0</td>\n",
       "    </tr>\n",
       "    <tr>\n",
       "      <th>19</th>\n",
       "      <td>robust_deit_small_patch16_224</td>\n",
       "      <td>TRADES_v2</td>\n",
       "      <td>8.232667</td>\n",
       "      <td>1.286928</td>\n",
       "      <td>15.0</td>\n",
       "      <td>19.0</td>\n",
       "    </tr>\n",
       "    <tr>\n",
       "      <th>16</th>\n",
       "      <td>robust_convnext_tiny</td>\n",
       "      <td>CLASSIC_AT</td>\n",
       "      <td>8.176000</td>\n",
       "      <td>1.273722</td>\n",
       "      <td>16.0</td>\n",
       "      <td>20.0</td>\n",
       "    </tr>\n",
       "    <tr>\n",
       "      <th>7</th>\n",
       "      <td>convnext_base.fb_in22k</td>\n",
       "      <td>TRADES_v2</td>\n",
       "      <td>8.024667</td>\n",
       "      <td>1.389418</td>\n",
       "      <td>17.0</td>\n",
       "      <td>6.0</td>\n",
       "    </tr>\n",
       "    <tr>\n",
       "      <th>29</th>\n",
       "      <td>vit_base_patch16_224.mae</td>\n",
       "      <td>TRADES_v2</td>\n",
       "      <td>8.002667</td>\n",
       "      <td>1.263296</td>\n",
       "      <td>18.0</td>\n",
       "      <td>21.0</td>\n",
       "    </tr>\n",
       "    <tr>\n",
       "      <th>5</th>\n",
       "      <td>convnext_base.clip_laion2b_augreg</td>\n",
       "      <td>TRADES_v2</td>\n",
       "      <td>7.814667</td>\n",
       "      <td>1.365750</td>\n",
       "      <td>19.0</td>\n",
       "      <td>9.0</td>\n",
       "    </tr>\n",
       "    <tr>\n",
       "      <th>26</th>\n",
       "      <td>vit_base_patch16_224.dino</td>\n",
       "      <td>CLASSIC_AT</td>\n",
       "      <td>7.732667</td>\n",
       "      <td>1.203524</td>\n",
       "      <td>20.0</td>\n",
       "      <td>22.0</td>\n",
       "    </tr>\n",
       "    <tr>\n",
       "      <th>15</th>\n",
       "      <td>robust_convnext_base</td>\n",
       "      <td>TRADES_v2</td>\n",
       "      <td>7.724000</td>\n",
       "      <td>1.349915</td>\n",
       "      <td>21.0</td>\n",
       "      <td>12.0</td>\n",
       "    </tr>\n",
       "    <tr>\n",
       "      <th>23</th>\n",
       "      <td>vit_base_patch16_224.augreg_in1k</td>\n",
       "      <td>TRADES_v2</td>\n",
       "      <td>7.668000</td>\n",
       "      <td>1.185101</td>\n",
       "      <td>22.0</td>\n",
       "      <td>24.0</td>\n",
       "    </tr>\n",
       "    <tr>\n",
       "      <th>18</th>\n",
       "      <td>robust_deit_small_patch16_224</td>\n",
       "      <td>CLASSIC_AT</td>\n",
       "      <td>7.612667</td>\n",
       "      <td>1.187796</td>\n",
       "      <td>23.0</td>\n",
       "      <td>23.0</td>\n",
       "    </tr>\n",
       "    <tr>\n",
       "      <th>3</th>\n",
       "      <td>convnext_base.clip_laion2b</td>\n",
       "      <td>TRADES_v2</td>\n",
       "      <td>7.555333</td>\n",
       "      <td>1.330086</td>\n",
       "      <td>24.0</td>\n",
       "      <td>14.0</td>\n",
       "    </tr>\n",
       "    <tr>\n",
       "      <th>10</th>\n",
       "      <td>convnext_tiny.fb_in22k</td>\n",
       "      <td>CLASSIC_AT</td>\n",
       "      <td>7.474000</td>\n",
       "      <td>1.012359</td>\n",
       "      <td>25.0</td>\n",
       "      <td>31.0</td>\n",
       "    </tr>\n",
       "    <tr>\n",
       "      <th>8</th>\n",
       "      <td>convnext_tiny</td>\n",
       "      <td>CLASSIC_AT</td>\n",
       "      <td>7.380000</td>\n",
       "      <td>1.157774</td>\n",
       "      <td>26.0</td>\n",
       "      <td>25.0</td>\n",
       "    </tr>\n",
       "    <tr>\n",
       "      <th>35</th>\n",
       "      <td>vit_base_patch16_224_miil.in21k</td>\n",
       "      <td>TRADES_v2</td>\n",
       "      <td>7.228667</td>\n",
       "      <td>1.086819</td>\n",
       "      <td>27.0</td>\n",
       "      <td>28.0</td>\n",
       "    </tr>\n",
       "    <tr>\n",
       "      <th>21</th>\n",
       "      <td>robust_vit_base_patch16_224</td>\n",
       "      <td>TRADES_v2</td>\n",
       "      <td>7.190000</td>\n",
       "      <td>1.003060</td>\n",
       "      <td>28.0</td>\n",
       "      <td>32.0</td>\n",
       "    </tr>\n",
       "    <tr>\n",
       "      <th>12</th>\n",
       "      <td>deit_small_patch16_224.fb_in1k</td>\n",
       "      <td>CLASSIC_AT</td>\n",
       "      <td>7.130667</td>\n",
       "      <td>1.110653</td>\n",
       "      <td>29.0</td>\n",
       "      <td>26.0</td>\n",
       "    </tr>\n",
       "    <tr>\n",
       "      <th>32</th>\n",
       "      <td>vit_base_patch16_224.sam_in1k</td>\n",
       "      <td>CLASSIC_AT</td>\n",
       "      <td>7.058667</td>\n",
       "      <td>1.106104</td>\n",
       "      <td>30.0</td>\n",
       "      <td>27.0</td>\n",
       "    </tr>\n",
       "    <tr>\n",
       "      <th>30</th>\n",
       "      <td>vit_base_patch16_224.orig_in21k</td>\n",
       "      <td>CLASSIC_AT</td>\n",
       "      <td>6.847333</td>\n",
       "      <td>1.057468</td>\n",
       "      <td>31.0</td>\n",
       "      <td>29.0</td>\n",
       "    </tr>\n",
       "    <tr>\n",
       "      <th>22</th>\n",
       "      <td>vit_base_patch16_224.augreg_in1k</td>\n",
       "      <td>CLASSIC_AT</td>\n",
       "      <td>6.780667</td>\n",
       "      <td>1.031254</td>\n",
       "      <td>32.0</td>\n",
       "      <td>30.0</td>\n",
       "    </tr>\n",
       "    <tr>\n",
       "      <th>28</th>\n",
       "      <td>vit_base_patch16_224.mae</td>\n",
       "      <td>CLASSIC_AT</td>\n",
       "      <td>5.574667</td>\n",
       "      <td>0.810226</td>\n",
       "      <td>33.0</td>\n",
       "      <td>33.0</td>\n",
       "    </tr>\n",
       "    <tr>\n",
       "      <th>24</th>\n",
       "      <td>vit_base_patch16_224.augreg_in21k</td>\n",
       "      <td>CLASSIC_AT</td>\n",
       "      <td>5.490000</td>\n",
       "      <td>0.576810</td>\n",
       "      <td>34.0</td>\n",
       "      <td>34.0</td>\n",
       "    </tr>\n",
       "    <tr>\n",
       "      <th>34</th>\n",
       "      <td>vit_base_patch16_224_miil.in21k</td>\n",
       "      <td>CLASSIC_AT</td>\n",
       "      <td>1.632000</td>\n",
       "      <td>0.150151</td>\n",
       "      <td>35.0</td>\n",
       "      <td>36.0</td>\n",
       "    </tr>\n",
       "    <tr>\n",
       "      <th>20</th>\n",
       "      <td>robust_vit_base_patch16_224</td>\n",
       "      <td>CLASSIC_AT</td>\n",
       "      <td>1.553333</td>\n",
       "      <td>0.157007</td>\n",
       "      <td>36.0</td>\n",
       "      <td>35.0</td>\n",
       "    </tr>\n",
       "  </tbody>\n",
       "</table>\n",
       "</div>"
      ],
      "text/plain": [
       "                             backbone loss_function  total_sum  \\\n",
       "1                       convnext_base     TRADES_v2   9.540667   \n",
       "4   convnext_base.clip_laion2b_augreg    CLASSIC_AT   9.298667   \n",
       "2          convnext_base.clip_laion2b    CLASSIC_AT   9.226000   \n",
       "11             convnext_tiny.fb_in22k     TRADES_v2   9.211333   \n",
       "17               robust_convnext_tiny     TRADES_v2   8.998667   \n",
       "31    vit_base_patch16_224.orig_in21k     TRADES_v2   8.883333   \n",
       "33      vit_base_patch16_224.sam_in1k     TRADES_v2   8.826667   \n",
       "0                       convnext_base    CLASSIC_AT   8.818000   \n",
       "6              convnext_base.fb_in22k    CLASSIC_AT   8.730667   \n",
       "9                       convnext_tiny     TRADES_v2   8.730000   \n",
       "25  vit_base_patch16_224.augreg_in21k     TRADES_v2   8.538000   \n",
       "27          vit_base_patch16_224.dino     TRADES_v2   8.520667   \n",
       "14               robust_convnext_base    CLASSIC_AT   8.401333   \n",
       "13     deit_small_patch16_224.fb_in1k     TRADES_v2   8.233333   \n",
       "19      robust_deit_small_patch16_224     TRADES_v2   8.232667   \n",
       "16               robust_convnext_tiny    CLASSIC_AT   8.176000   \n",
       "7              convnext_base.fb_in22k     TRADES_v2   8.024667   \n",
       "29           vit_base_patch16_224.mae     TRADES_v2   8.002667   \n",
       "5   convnext_base.clip_laion2b_augreg     TRADES_v2   7.814667   \n",
       "26          vit_base_patch16_224.dino    CLASSIC_AT   7.732667   \n",
       "15               robust_convnext_base     TRADES_v2   7.724000   \n",
       "23   vit_base_patch16_224.augreg_in1k     TRADES_v2   7.668000   \n",
       "18      robust_deit_small_patch16_224    CLASSIC_AT   7.612667   \n",
       "3          convnext_base.clip_laion2b     TRADES_v2   7.555333   \n",
       "10             convnext_tiny.fb_in22k    CLASSIC_AT   7.474000   \n",
       "8                       convnext_tiny    CLASSIC_AT   7.380000   \n",
       "35    vit_base_patch16_224_miil.in21k     TRADES_v2   7.228667   \n",
       "21        robust_vit_base_patch16_224     TRADES_v2   7.190000   \n",
       "12     deit_small_patch16_224.fb_in1k    CLASSIC_AT   7.130667   \n",
       "32      vit_base_patch16_224.sam_in1k    CLASSIC_AT   7.058667   \n",
       "30    vit_base_patch16_224.orig_in21k    CLASSIC_AT   6.847333   \n",
       "22   vit_base_patch16_224.augreg_in1k    CLASSIC_AT   6.780667   \n",
       "28           vit_base_patch16_224.mae    CLASSIC_AT   5.574667   \n",
       "24  vit_base_patch16_224.augreg_in21k    CLASSIC_AT   5.490000   \n",
       "34    vit_base_patch16_224_miil.in21k    CLASSIC_AT   1.632000   \n",
       "20        robust_vit_base_patch16_224    CLASSIC_AT   1.553333   \n",
       "\n",
       "    total_geom_mean  rank_total_sum  rank_total_geom_mean  \n",
       "1          1.474117             1.0                   1.0  \n",
       "4          1.441563             2.0                   2.0  \n",
       "2          1.429585             3.0                   4.0  \n",
       "11         1.429607             4.0                   3.0  \n",
       "17         1.400416             5.0                   5.0  \n",
       "31         1.379085             6.0                   7.0  \n",
       "33         1.374667             7.0                   8.0  \n",
       "0          1.350452             8.0                  11.0  \n",
       "6          1.336765             9.0                  13.0  \n",
       "9          1.352120            10.0                  10.0  \n",
       "25         1.311963            11.0                  17.0  \n",
       "27         1.328814            12.0                  15.0  \n",
       "14         1.314549            13.0                  16.0  \n",
       "13         1.288800            14.0                  18.0  \n",
       "19         1.286928            15.0                  19.0  \n",
       "16         1.273722            16.0                  20.0  \n",
       "7          1.389418            17.0                   6.0  \n",
       "29         1.263296            18.0                  21.0  \n",
       "5          1.365750            19.0                   9.0  \n",
       "26         1.203524            20.0                  22.0  \n",
       "15         1.349915            21.0                  12.0  \n",
       "23         1.185101            22.0                  24.0  \n",
       "18         1.187796            23.0                  23.0  \n",
       "3          1.330086            24.0                  14.0  \n",
       "10         1.012359            25.0                  31.0  \n",
       "8          1.157774            26.0                  25.0  \n",
       "35         1.086819            27.0                  28.0  \n",
       "21         1.003060            28.0                  32.0  \n",
       "12         1.110653            29.0                  26.0  \n",
       "32         1.106104            30.0                  27.0  \n",
       "30         1.057468            31.0                  29.0  \n",
       "22         1.031254            32.0                  30.0  \n",
       "28         0.810226            33.0                  33.0  \n",
       "24         0.576810            34.0                  34.0  \n",
       "34         0.150151            35.0                  36.0  \n",
       "20         0.157007            36.0                  35.0  "
      ]
     },
     "execution_count": 20,
     "metadata": {},
     "output_type": "execute_result"
    }
   ],
   "source": [
    "data_updated = df.copy()\n",
    "\n",
    "# Combine clean_acc and robust_acc as independent metrics for ranking\n",
    "data_updated['total_acc'] = data_updated['clean_acc'] + data_updated['Linf_acc']  # Sum of scores per dataset\n",
    "\n",
    "# Aggregate total_acc across all datasets for each backbone + loss combination\n",
    "aggregated_data_no_avg = data_updated.groupby(['backbone', 'loss_function']).agg(\n",
    "    total_sum=('total_acc', 'sum'),  # Total sum of all scores across datasets\n",
    "    total_geom_mean=('total_acc', lambda x: np.prod(x) ** (1 / len(x))),  # Geometric mean\n",
    ").reset_index()\n",
    "\n",
    "# Rank based on these combined scores\n",
    "aggregated_data_no_avg['rank_total_sum'] = aggregated_data_no_avg['total_sum'].rank(ascending=False)\n",
    "aggregated_data_no_avg['rank_total_geom_mean'] = aggregated_data_no_avg['total_geom_mean'].rank(ascending=False)\n",
    "\n",
    "# Sort by sum ranking for presentation\n",
    "ranked_aggregated_data_no_avg = aggregated_data_no_avg.sort_values(by='rank_total_sum')\n",
    "ranked_aggregated_data_no_avg\n",
    "\n",
    "# tools.display_dataframe_to_user(name=\"Ranked Backbone and Loss Combinations Without Averaging\", dataframe=ranked_aggregated_data_no_avg)"
   ]
  },
  {
   "cell_type": "code",
   "execution_count": 26,
   "metadata": {},
   "outputs": [
    {
     "data": {
      "application/vnd.plotly.v1+json": {
       "config": {
        "plotlyServerURL": "https://plot.ly"
       },
       "data": [
        {
         "hovertemplate": "Architecture=ConvNext<br>Loss Function=CLASSIC_AT<br>Mean Clean Accuracy=%{x}<br>Mean Robust Accuracy=%{y}<extra></extra>",
         "legendgroup": "ConvNext, CLASSIC_AT",
         "marker": {
          "color": "#1f77b4",
          "symbol": "square"
         },
         "mode": "markers",
         "name": "ConvNext, CLASSIC_AT",
         "orientation": "v",
         "showlegend": true,
         "type": "scatter",
         "x": [
          0.6442222222222221,
          0.6789999999999999,
          0.6248888888888889,
          0.6641111111111111,
          0.4956666666666667,
          0.6026296296296296,
          0.5442222222222223,
          0.5128888888888888
         ],
         "xaxis": "x",
         "y": [
          0.4733055555555556,
          0.4061111111111111,
          0.4003055555555555,
          0.4375277777777778,
          0.22025000000000003,
          0.2657037037037037,
          0.48200000000000004,
          0.417
         ],
         "yaxis": "y"
        },
        {
         "hovertemplate": "Architecture=ViT/DeiT<br>Loss Function=CLASSIC_AT<br>Mean Clean Accuracy=%{x}<br>Mean Robust Accuracy=%{y}<extra></extra>",
         "legendgroup": "ViT/DeiT, CLASSIC_AT",
         "marker": {
          "color": "#ff7f0e",
          "symbol": "square"
         },
         "mode": "markers",
         "name": "ViT/DeiT, CLASSIC_AT",
         "orientation": "v",
         "showlegend": true,
         "type": "scatter",
         "x": [
          0.5011111111111112,
          0.5128888888888888,
          0.45,
          0.517888888888889,
          0.5156666666666666,
          0.24044444444444446,
          0.6077777777777778,
          0.5609999999999999,
          0.1821111111111111
         ],
         "xaxis": "x",
         "y": [
          0.29833333333333334,
          0.4058888888888889,
          0.29411111111111116,
          0.36994444444444446,
          0.3198888888888889,
          0.17200000000000001,
          0.4137777777777778,
          0.4032222222222222,
          0.11822222222222221
         ],
         "yaxis": "y"
        },
        {
         "marker": {
          "color": "#1f77b4",
          "size": 13,
          "symbol": "square"
         },
         "mode": "markers",
         "name": "Pareto",
         "showlegend": false,
         "type": "scatter",
         "x": [
          0.6442222222222221
         ],
         "y": [
          0.4733055555555556
         ]
        },
        {
         "marker": {
          "color": "#1f77b4",
          "size": 13,
          "symbol": "square"
         },
         "mode": "markers",
         "name": "Pareto",
         "showlegend": false,
         "type": "scatter",
         "x": [
          0.6789999999999999
         ],
         "y": [
          0.4061111111111111
         ]
        },
        {
         "marker": {
          "color": "#1f77b4",
          "size": 13,
          "symbol": "square"
         },
         "mode": "markers",
         "name": "Pareto",
         "showlegend": false,
         "type": "scatter",
         "x": [
          0.6641111111111111
         ],
         "y": [
          0.4375277777777778
         ]
        },
        {
         "marker": {
          "color": "#1f77b4",
          "size": 13,
          "symbol": "square"
         },
         "mode": "markers",
         "name": "Pareto",
         "showlegend": false,
         "type": "scatter",
         "x": [
          0.5442222222222223
         ],
         "y": [
          0.48200000000000004
         ]
        }
       ],
       "layout": {
        "annotations": [
         {
          "align": "center",
          "font": {
           "size": 10
          },
          "showarrow": false,
          "text": "convnext_base",
          "x": 0.6342222222222221,
          "y": 0.4833055555555556
         },
         {
          "align": "center",
          "font": {
           "size": 10
          },
          "showarrow": false,
          "text": "convnext_base.clip_laion2b",
          "x": 0.6689999999999999,
          "y": 0.4161111111111111
         },
         {
          "align": "center",
          "font": {
           "size": 10
          },
          "showarrow": false,
          "text": "convnext_base.clip_laion2b_augreg",
          "x": 0.6148888888888889,
          "y": 0.41030555555555553
         },
         {
          "align": "center",
          "font": {
           "size": 10
          },
          "showarrow": false,
          "text": "convnext_base.fb_in22k",
          "x": 0.6541111111111111,
          "y": 0.4475277777777778
         },
         {
          "align": "center",
          "font": {
           "size": 10
          },
          "showarrow": false,
          "text": "convnext_tiny",
          "x": 0.4856666666666667,
          "y": 0.23025000000000004
         },
         {
          "align": "center",
          "font": {
           "size": 10
          },
          "showarrow": false,
          "text": "convnext_tiny.fb_in22k",
          "x": 0.5926296296296296,
          "y": 0.27570370370370373
         },
         {
          "align": "center",
          "font": {
           "size": 10
          },
          "showarrow": false,
          "text": "deit_small_patch16_224.fb_in1k",
          "x": 0.49111111111111116,
          "y": 0.30833333333333335
         },
         {
          "align": "center",
          "font": {
           "size": 10
          },
          "showarrow": false,
          "text": "robust_convnext_base",
          "x": 0.5342222222222223,
          "y": 0.49200000000000005
         },
         {
          "align": "center",
          "font": {
           "size": 10
          },
          "showarrow": false,
          "text": "robust_convnext_tiny",
          "x": 0.5028888888888888,
          "y": 0.427
         },
         {
          "align": "center",
          "font": {
           "size": 10
          },
          "showarrow": false,
          "text": "robust_deit_small_patch16_224",
          "x": 0.5028888888888888,
          "y": 0.4158888888888889
         },
         {
          "align": "center",
          "font": {
           "size": 10
          },
          "showarrow": false,
          "text": "vit_base_patch16_224.augreg_in1k",
          "x": 0.44,
          "y": 0.30411111111111117
         },
         {
          "align": "center",
          "font": {
           "size": 10
          },
          "showarrow": false,
          "text": "vit_base_patch16_224.augreg_in21k",
          "x": 0.507888888888889,
          "y": 0.3799444444444445
         },
         {
          "align": "center",
          "font": {
           "size": 10
          },
          "showarrow": false,
          "text": "vit_base_patch16_224.dino",
          "x": 0.5056666666666666,
          "y": 0.3298888888888889
         },
         {
          "align": "center",
          "font": {
           "size": 10
          },
          "showarrow": false,
          "text": "vit_base_patch16_224.mae",
          "x": 0.23044444444444445,
          "y": 0.18200000000000002
         },
         {
          "align": "center",
          "font": {
           "size": 10
          },
          "showarrow": false,
          "text": "vit_base_patch16_224.orig_in21k",
          "x": 0.5977777777777777,
          "y": 0.4237777777777778
         },
         {
          "align": "center",
          "font": {
           "size": 10
          },
          "showarrow": false,
          "text": "vit_base_patch16_224.sam_in1k",
          "x": 0.5509999999999999,
          "y": 0.4132222222222222
         },
         {
          "align": "center",
          "font": {
           "size": 10
          },
          "showarrow": false,
          "text": "vit_base_patch16_224_miil.in21k",
          "x": 0.1721111111111111,
          "y": 0.1282222222222222
         }
        ],
        "font": {
         "size": 12
        },
        "height": 600,
        "legend": {
         "title": {
          "text": "Backbone and Loss Function"
         },
         "tracegroupgap": 0
        },
        "margin": {
         "b": 10,
         "l": 10,
         "r": 45,
         "t": 10
        },
        "plot_bgcolor": "rgba(0,0,0,0)",
        "shapes": [
         {
          "line": {
           "color": "red",
           "dash": "dot",
           "width": 2
          },
          "type": "line",
          "x0": 0,
          "x1": 1,
          "xref": "paper",
          "y0": 0,
          "y1": 1,
          "yref": "paper"
         }
        ],
        "showlegend": false,
        "template": {
         "data": {
          "bar": [
           {
            "error_x": {
             "color": "#2a3f5f"
            },
            "error_y": {
             "color": "#2a3f5f"
            },
            "marker": {
             "line": {
              "color": "#E5ECF6",
              "width": 0.5
             },
             "pattern": {
              "fillmode": "overlay",
              "size": 10,
              "solidity": 0.2
             }
            },
            "type": "bar"
           }
          ],
          "barpolar": [
           {
            "marker": {
             "line": {
              "color": "#E5ECF6",
              "width": 0.5
             },
             "pattern": {
              "fillmode": "overlay",
              "size": 10,
              "solidity": 0.2
             }
            },
            "type": "barpolar"
           }
          ],
          "carpet": [
           {
            "aaxis": {
             "endlinecolor": "#2a3f5f",
             "gridcolor": "white",
             "linecolor": "white",
             "minorgridcolor": "white",
             "startlinecolor": "#2a3f5f"
            },
            "baxis": {
             "endlinecolor": "#2a3f5f",
             "gridcolor": "white",
             "linecolor": "white",
             "minorgridcolor": "white",
             "startlinecolor": "#2a3f5f"
            },
            "type": "carpet"
           }
          ],
          "choropleth": [
           {
            "colorbar": {
             "outlinewidth": 0,
             "ticks": ""
            },
            "type": "choropleth"
           }
          ],
          "contour": [
           {
            "colorbar": {
             "outlinewidth": 0,
             "ticks": ""
            },
            "colorscale": [
             [
              0,
              "#0d0887"
             ],
             [
              0.1111111111111111,
              "#46039f"
             ],
             [
              0.2222222222222222,
              "#7201a8"
             ],
             [
              0.3333333333333333,
              "#9c179e"
             ],
             [
              0.4444444444444444,
              "#bd3786"
             ],
             [
              0.5555555555555556,
              "#d8576b"
             ],
             [
              0.6666666666666666,
              "#ed7953"
             ],
             [
              0.7777777777777778,
              "#fb9f3a"
             ],
             [
              0.8888888888888888,
              "#fdca26"
             ],
             [
              1,
              "#f0f921"
             ]
            ],
            "type": "contour"
           }
          ],
          "contourcarpet": [
           {
            "colorbar": {
             "outlinewidth": 0,
             "ticks": ""
            },
            "type": "contourcarpet"
           }
          ],
          "heatmap": [
           {
            "colorbar": {
             "outlinewidth": 0,
             "ticks": ""
            },
            "colorscale": [
             [
              0,
              "#0d0887"
             ],
             [
              0.1111111111111111,
              "#46039f"
             ],
             [
              0.2222222222222222,
              "#7201a8"
             ],
             [
              0.3333333333333333,
              "#9c179e"
             ],
             [
              0.4444444444444444,
              "#bd3786"
             ],
             [
              0.5555555555555556,
              "#d8576b"
             ],
             [
              0.6666666666666666,
              "#ed7953"
             ],
             [
              0.7777777777777778,
              "#fb9f3a"
             ],
             [
              0.8888888888888888,
              "#fdca26"
             ],
             [
              1,
              "#f0f921"
             ]
            ],
            "type": "heatmap"
           }
          ],
          "heatmapgl": [
           {
            "colorbar": {
             "outlinewidth": 0,
             "ticks": ""
            },
            "colorscale": [
             [
              0,
              "#0d0887"
             ],
             [
              0.1111111111111111,
              "#46039f"
             ],
             [
              0.2222222222222222,
              "#7201a8"
             ],
             [
              0.3333333333333333,
              "#9c179e"
             ],
             [
              0.4444444444444444,
              "#bd3786"
             ],
             [
              0.5555555555555556,
              "#d8576b"
             ],
             [
              0.6666666666666666,
              "#ed7953"
             ],
             [
              0.7777777777777778,
              "#fb9f3a"
             ],
             [
              0.8888888888888888,
              "#fdca26"
             ],
             [
              1,
              "#f0f921"
             ]
            ],
            "type": "heatmapgl"
           }
          ],
          "histogram": [
           {
            "marker": {
             "pattern": {
              "fillmode": "overlay",
              "size": 10,
              "solidity": 0.2
             }
            },
            "type": "histogram"
           }
          ],
          "histogram2d": [
           {
            "colorbar": {
             "outlinewidth": 0,
             "ticks": ""
            },
            "colorscale": [
             [
              0,
              "#0d0887"
             ],
             [
              0.1111111111111111,
              "#46039f"
             ],
             [
              0.2222222222222222,
              "#7201a8"
             ],
             [
              0.3333333333333333,
              "#9c179e"
             ],
             [
              0.4444444444444444,
              "#bd3786"
             ],
             [
              0.5555555555555556,
              "#d8576b"
             ],
             [
              0.6666666666666666,
              "#ed7953"
             ],
             [
              0.7777777777777778,
              "#fb9f3a"
             ],
             [
              0.8888888888888888,
              "#fdca26"
             ],
             [
              1,
              "#f0f921"
             ]
            ],
            "type": "histogram2d"
           }
          ],
          "histogram2dcontour": [
           {
            "colorbar": {
             "outlinewidth": 0,
             "ticks": ""
            },
            "colorscale": [
             [
              0,
              "#0d0887"
             ],
             [
              0.1111111111111111,
              "#46039f"
             ],
             [
              0.2222222222222222,
              "#7201a8"
             ],
             [
              0.3333333333333333,
              "#9c179e"
             ],
             [
              0.4444444444444444,
              "#bd3786"
             ],
             [
              0.5555555555555556,
              "#d8576b"
             ],
             [
              0.6666666666666666,
              "#ed7953"
             ],
             [
              0.7777777777777778,
              "#fb9f3a"
             ],
             [
              0.8888888888888888,
              "#fdca26"
             ],
             [
              1,
              "#f0f921"
             ]
            ],
            "type": "histogram2dcontour"
           }
          ],
          "mesh3d": [
           {
            "colorbar": {
             "outlinewidth": 0,
             "ticks": ""
            },
            "type": "mesh3d"
           }
          ],
          "parcoords": [
           {
            "line": {
             "colorbar": {
              "outlinewidth": 0,
              "ticks": ""
             }
            },
            "type": "parcoords"
           }
          ],
          "pie": [
           {
            "automargin": true,
            "type": "pie"
           }
          ],
          "scatter": [
           {
            "fillpattern": {
             "fillmode": "overlay",
             "size": 10,
             "solidity": 0.2
            },
            "type": "scatter"
           }
          ],
          "scatter3d": [
           {
            "line": {
             "colorbar": {
              "outlinewidth": 0,
              "ticks": ""
             }
            },
            "marker": {
             "colorbar": {
              "outlinewidth": 0,
              "ticks": ""
             }
            },
            "type": "scatter3d"
           }
          ],
          "scattercarpet": [
           {
            "marker": {
             "colorbar": {
              "outlinewidth": 0,
              "ticks": ""
             }
            },
            "type": "scattercarpet"
           }
          ],
          "scattergeo": [
           {
            "marker": {
             "colorbar": {
              "outlinewidth": 0,
              "ticks": ""
             }
            },
            "type": "scattergeo"
           }
          ],
          "scattergl": [
           {
            "marker": {
             "colorbar": {
              "outlinewidth": 0,
              "ticks": ""
             }
            },
            "type": "scattergl"
           }
          ],
          "scattermapbox": [
           {
            "marker": {
             "colorbar": {
              "outlinewidth": 0,
              "ticks": ""
             }
            },
            "type": "scattermapbox"
           }
          ],
          "scatterpolar": [
           {
            "marker": {
             "colorbar": {
              "outlinewidth": 0,
              "ticks": ""
             }
            },
            "type": "scatterpolar"
           }
          ],
          "scatterpolargl": [
           {
            "marker": {
             "colorbar": {
              "outlinewidth": 0,
              "ticks": ""
             }
            },
            "type": "scatterpolargl"
           }
          ],
          "scatterternary": [
           {
            "marker": {
             "colorbar": {
              "outlinewidth": 0,
              "ticks": ""
             }
            },
            "type": "scatterternary"
           }
          ],
          "surface": [
           {
            "colorbar": {
             "outlinewidth": 0,
             "ticks": ""
            },
            "colorscale": [
             [
              0,
              "#0d0887"
             ],
             [
              0.1111111111111111,
              "#46039f"
             ],
             [
              0.2222222222222222,
              "#7201a8"
             ],
             [
              0.3333333333333333,
              "#9c179e"
             ],
             [
              0.4444444444444444,
              "#bd3786"
             ],
             [
              0.5555555555555556,
              "#d8576b"
             ],
             [
              0.6666666666666666,
              "#ed7953"
             ],
             [
              0.7777777777777778,
              "#fb9f3a"
             ],
             [
              0.8888888888888888,
              "#fdca26"
             ],
             [
              1,
              "#f0f921"
             ]
            ],
            "type": "surface"
           }
          ],
          "table": [
           {
            "cells": {
             "fill": {
              "color": "#EBF0F8"
             },
             "line": {
              "color": "white"
             }
            },
            "header": {
             "fill": {
              "color": "#C8D4E3"
             },
             "line": {
              "color": "white"
             }
            },
            "type": "table"
           }
          ]
         },
         "layout": {
          "annotationdefaults": {
           "arrowcolor": "#2a3f5f",
           "arrowhead": 0,
           "arrowwidth": 1
          },
          "autotypenumbers": "strict",
          "coloraxis": {
           "colorbar": {
            "outlinewidth": 0,
            "ticks": ""
           }
          },
          "colorscale": {
           "diverging": [
            [
             0,
             "#8e0152"
            ],
            [
             0.1,
             "#c51b7d"
            ],
            [
             0.2,
             "#de77ae"
            ],
            [
             0.3,
             "#f1b6da"
            ],
            [
             0.4,
             "#fde0ef"
            ],
            [
             0.5,
             "#f7f7f7"
            ],
            [
             0.6,
             "#e6f5d0"
            ],
            [
             0.7,
             "#b8e186"
            ],
            [
             0.8,
             "#7fbc41"
            ],
            [
             0.9,
             "#4d9221"
            ],
            [
             1,
             "#276419"
            ]
           ],
           "sequential": [
            [
             0,
             "#0d0887"
            ],
            [
             0.1111111111111111,
             "#46039f"
            ],
            [
             0.2222222222222222,
             "#7201a8"
            ],
            [
             0.3333333333333333,
             "#9c179e"
            ],
            [
             0.4444444444444444,
             "#bd3786"
            ],
            [
             0.5555555555555556,
             "#d8576b"
            ],
            [
             0.6666666666666666,
             "#ed7953"
            ],
            [
             0.7777777777777778,
             "#fb9f3a"
            ],
            [
             0.8888888888888888,
             "#fdca26"
            ],
            [
             1,
             "#f0f921"
            ]
           ],
           "sequentialminus": [
            [
             0,
             "#0d0887"
            ],
            [
             0.1111111111111111,
             "#46039f"
            ],
            [
             0.2222222222222222,
             "#7201a8"
            ],
            [
             0.3333333333333333,
             "#9c179e"
            ],
            [
             0.4444444444444444,
             "#bd3786"
            ],
            [
             0.5555555555555556,
             "#d8576b"
            ],
            [
             0.6666666666666666,
             "#ed7953"
            ],
            [
             0.7777777777777778,
             "#fb9f3a"
            ],
            [
             0.8888888888888888,
             "#fdca26"
            ],
            [
             1,
             "#f0f921"
            ]
           ]
          },
          "colorway": [
           "#636efa",
           "#EF553B",
           "#00cc96",
           "#ab63fa",
           "#FFA15A",
           "#19d3f3",
           "#FF6692",
           "#B6E880",
           "#FF97FF",
           "#FECB52"
          ],
          "font": {
           "color": "#2a3f5f"
          },
          "geo": {
           "bgcolor": "white",
           "lakecolor": "white",
           "landcolor": "#E5ECF6",
           "showlakes": true,
           "showland": true,
           "subunitcolor": "white"
          },
          "hoverlabel": {
           "align": "left"
          },
          "hovermode": "closest",
          "mapbox": {
           "style": "light"
          },
          "paper_bgcolor": "white",
          "plot_bgcolor": "#E5ECF6",
          "polar": {
           "angularaxis": {
            "gridcolor": "white",
            "linecolor": "white",
            "ticks": ""
           },
           "bgcolor": "#E5ECF6",
           "radialaxis": {
            "gridcolor": "white",
            "linecolor": "white",
            "ticks": ""
           }
          },
          "scene": {
           "xaxis": {
            "backgroundcolor": "#E5ECF6",
            "gridcolor": "white",
            "gridwidth": 2,
            "linecolor": "white",
            "showbackground": true,
            "ticks": "",
            "zerolinecolor": "white"
           },
           "yaxis": {
            "backgroundcolor": "#E5ECF6",
            "gridcolor": "white",
            "gridwidth": 2,
            "linecolor": "white",
            "showbackground": true,
            "ticks": "",
            "zerolinecolor": "white"
           },
           "zaxis": {
            "backgroundcolor": "#E5ECF6",
            "gridcolor": "white",
            "gridwidth": 2,
            "linecolor": "white",
            "showbackground": true,
            "ticks": "",
            "zerolinecolor": "white"
           }
          },
          "shapedefaults": {
           "line": {
            "color": "#2a3f5f"
           }
          },
          "ternary": {
           "aaxis": {
            "gridcolor": "white",
            "linecolor": "white",
            "ticks": ""
           },
           "baxis": {
            "gridcolor": "white",
            "linecolor": "white",
            "ticks": ""
           },
           "bgcolor": "#E5ECF6",
           "caxis": {
            "gridcolor": "white",
            "linecolor": "white",
            "ticks": ""
           }
          },
          "title": {
           "x": 0.05
          },
          "xaxis": {
           "automargin": true,
           "gridcolor": "white",
           "linecolor": "white",
           "ticks": "",
           "title": {
            "standoff": 15
           },
           "zerolinecolor": "white",
           "zerolinewidth": 2
          },
          "yaxis": {
           "automargin": true,
           "gridcolor": "white",
           "linecolor": "white",
           "ticks": "",
           "title": {
            "standoff": 15
           },
           "zerolinecolor": "white",
           "zerolinewidth": 2
          }
         }
        },
        "width": 600,
        "xaxis": {
         "anchor": "y",
         "domain": [
          0,
          1
         ],
         "gridcolor": "lightgrey",
         "range": [
          0,
          0.85
         ],
         "showgrid": true,
         "tickmode": "array",
         "ticktext": [
          0.05,
          0.1,
          0.15,
          0.2,
          0.25,
          0.3,
          0.35,
          0.4,
          0.45,
          0.5,
          0.55,
          0.6,
          0.65,
          0.7,
          0.75,
          0.8,
          0.85
         ],
         "tickvals": [
          0.05,
          0.1,
          0.15,
          0.2,
          0.25,
          0.3,
          0.35,
          0.4,
          0.45,
          0.5,
          0.55,
          0.6,
          0.65,
          0.7,
          0.75,
          0.8,
          0.85
         ],
         "title": {
          "text": "Mean Clean Accuracy"
         },
         "zeroline": false
        },
        "yaxis": {
         "anchor": "x",
         "domain": [
          0,
          1
         ],
         "gridcolor": "lightgrey",
         "range": [
          0,
          0.7
         ],
         "showgrid": true,
         "tickmode": "array",
         "ticktext": [
          0.05,
          0.1,
          0.15,
          0.2,
          0.25,
          0.3,
          0.35,
          0.4,
          0.45,
          0.5,
          0.55,
          0.6,
          0.65,
          0.7
         ],
         "tickvals": [
          0.05,
          0.1,
          0.15,
          0.2,
          0.25,
          0.3,
          0.35,
          0.4,
          0.45,
          0.5,
          0.55,
          0.6,
          0.65,
          0.7
         ],
         "title": {
          "text": "Mean Robust Accuracy"
         },
         "zeroline": false
        }
       }
      }
     },
     "metadata": {},
     "output_type": "display_data"
    }
   ],
   "source": [
    "import pandas as pd\n",
    "import numpy as np\n",
    "import plotly.express as px\n",
    "\n",
    "\n",
    "df_new_cleaned = df #.drop(columns=['Unnamed: 0'])\n",
    "name =  'TRADES_v2' #\n",
    "df_new_cleaned = df_new_cleaned[ df_new_cleaned.loss_function != name ]\n",
    "\n",
    "# Assuming df_new_cleaned already exists and contains all necessary columns\n",
    "# Group by backbone and loss function, compute the mean and standard deviation for clean and robust accuracy\n",
    "aggregated_metrics = df_new_cleaned.groupby(['backbone', 'loss_function']).agg(\n",
    "    Mean_Clean_Acc=('clean_acc', 'mean'),\n",
    "    Std_Clean_Acc=('clean_acc', 'std'),\n",
    "    Mean_Robust_Acc=('robust_acc', 'mean'),\n",
    "    Std_Robust_Acc=('robust_acc', 'std')\n",
    ").reset_index()\n",
    "\n",
    "# Classify architectures into categories\n",
    "aggregated_metrics['Architecture'] = aggregated_metrics['backbone'].apply(\n",
    "    lambda name: 'ConvNext' if 'convnext' in name.lower() else ('ViT/DeiT' if 'deit' in name.lower() or 'vit' in name.lower() else 'Other')\n",
    ")\n",
    "\n",
    "# Assign marker shapes based on loss function\n",
    "aggregated_metrics['Marker_Shape'] = aggregated_metrics['loss_function'].apply(\n",
    "    lambda loss: 'circle' if loss == 'TRADES_v2' else ('square' if loss == 'CLASSIC_AT' else 'diamond')\n",
    ")\n",
    "\n",
    "# Identify Pareto front\n",
    "x = aggregated_metrics['Mean_Clean_Acc']\n",
    "y = aggregated_metrics['Mean_Robust_Acc']\n",
    "is_pareto = np.array([\n",
    "    not any((y[j] >= y[i] and x[j] >= x[i]) for j in range(len(x)) if i != j)\n",
    "    for i in range(len(x))\n",
    "])\n",
    "pareto_points = aggregated_metrics[is_pareto]\n",
    "\n",
    "# Add a mapping for loss functions to valid Plotly symbols\n",
    "symbol_mapping = {\n",
    "    'TRADES_v2': 'circle',\n",
    "    'CLASSIC_AT': 'square'\n",
    "}\n",
    "\n",
    "# Update the scatter plot with proper legend entries for loss functions\n",
    "fig = px.scatter(\n",
    "    aggregated_metrics,\n",
    "    x='Mean_Clean_Acc',\n",
    "    y='Mean_Robust_Acc',\n",
    "    color='Architecture',         # Color for architecture\n",
    "    symbol='loss_function',       # Symbol for loss function\n",
    "    # title='Backbone Performance: Clean vs. Robust Accuracy',\n",
    "    labels={\n",
    "        'Mean_Clean_Acc': 'Mean Clean Accuracy',\n",
    "        'Mean_Robust_Acc': 'Mean Robust Accuracy',\n",
    "        'loss_function': 'Loss Function'  # Custom label for legend\n",
    "    },\n",
    "    color_discrete_map={\n",
    "        'ConvNext': '#1f77b4',  # Blue for ConvNext\n",
    "        'ViT/DeiT': '#ff7f0e',  # Orange for ViT/DeiT\n",
    "        'Other': '#2ca02c'      # Green for Other architectures\n",
    "    },\n",
    "    symbol_map=symbol_mapping    # Apply symbol mapping\n",
    ")\n",
    "\n",
    "# Add static backbone names as labels on the figure\n",
    "for i, row in aggregated_metrics.iterrows():\n",
    "    fig.add_annotation(\n",
    "        x=row['Mean_Clean_Acc'] - 0.01,\n",
    "        y=row['Mean_Robust_Acc'] + 0.01,  # Offset text slightly above the marker\n",
    "        text=row['backbone'],\n",
    "        showarrow=False,\n",
    "        font=dict(size=10),\n",
    "        align='center'\n",
    "    )\n",
    "\n",
    "# Add Pareto front markers with larger size and same shape/color as the original\n",
    "for idx, d in enumerate(pareto_points.iterrows()):\n",
    "    _, row = d\n",
    "    fig.add_scatter(\n",
    "        x=[row['Mean_Clean_Acc']],\n",
    "        y=[row['Mean_Robust_Acc']],\n",
    "        mode='markers',\n",
    "        showlegend=False,  # Avoid duplicating legends\n",
    "        marker=dict(\n",
    "            size=13,  # Larger marker size\n",
    "            symbol=symbol_mapping[row['loss_function']],  # Use the mapped symbol\n",
    "            color=aggregated_metrics.loc[aggregated_metrics['backbone'] == row['backbone'], 'Architecture'].map({\n",
    "                'ConvNext': '#1f77b4',  # Blue for ConvNext\n",
    "                'ViT/DeiT': '#ff7f0e',  # Orange for ViT/DeiT\n",
    "                'Other': '#2ca02c'     # Green for Other architectures\n",
    "            }).values[0]  # Map the color dynamically\n",
    "        ),\n",
    "        name=f\"Pareto\"\n",
    "    )\n",
    "\n",
    "\n",
    "# Add a diagonal line (x = y)\n",
    "fig.add_shape(\n",
    "    type=\"line\",\n",
    "    x0=0, y0=0,  # Start of line\n",
    "    x1=1, y1=1,  # End of line\n",
    "    xref=\"paper\", yref=\"paper\",  # Use normalized coordinates (0 to 1 in plot space)\n",
    "    line=dict(color=\"red\", width=2, dash=\"dot\")  # Line style\n",
    ")\n",
    "\n",
    "# Adjust layout for better visual clarity\n",
    "fig.update_layout(\n",
    "    legend_title=dict(text='Backbone and Loss Function'),\n",
    "    width=600,\n",
    "    height=600,\n",
    "    font=dict(size=12),\n",
    "    #title_font=dict(size=14),\n",
    "    margin=dict(l=10, r=45, t=10, b=10),\n",
    "    plot_bgcolor='rgba(0,0,0,0)',\n",
    "    showlegend=False,\n",
    "    xaxis=dict(showgrid=True, gridcolor='lightgrey', zeroline=False),\n",
    "    yaxis=dict(showgrid=True, gridcolor='lightgrey', zeroline=False),\n",
    "    yaxis_range=[0,0.7],\n",
    "    xaxis_range=[0,0.85]\n",
    ")\n",
    "\n",
    "\n",
    "fig.update_layout(\n",
    "    xaxis=dict(\n",
    "        tickmode=\"array\",\n",
    "        tickvals=[0.05, 0.1, 0.15, 0.2, 0.25, 0.3, 0.35, 0.4, 0.45, 0.5, 0.55, 0.6, 0.65, 0.7, 0.75, 0.8, 0.85 ],\n",
    "        ticktext=[0.05, 0.1, 0.15, 0.2, 0.25, 0.3, 0.35, 0.4, 0.45, 0.5, 0.55, 0.6, 0.65, 0.7, 0.75, 0.8, 0.85 ]\n",
    "    ),\n",
    "    yaxis=dict(\n",
    "        tickmode=\"array\",\n",
    "        tickvals=[0.05, 0.1, 0.15, 0.2, 0.25, 0.3, 0.35, 0.4, 0.45, 0.5, 0.55, 0.6, 0.65, 0.7 ],\n",
    "        ticktext=[0.05, 0.1, 0.15, 0.2, 0.25, 0.3, 0.35, 0.4, 0.45, 0.5, 0.55, 0.6, 0.65, 0.7 ]\n",
    "    )\n",
    ")\n",
    "\n",
    "fig.show()\n",
    "fig.write_image( \"./figures/{}_{}.png\".format(project_name,name) )"
   ]
  }
 ],
 "metadata": {
  "kernelspec": {
   "display_name": ".venv2",
   "language": "python",
   "name": "python3"
  },
  "language_info": {
   "codemirror_mode": {
    "name": "ipython",
    "version": 3
   },
   "file_extension": ".py",
   "mimetype": "text/x-python",
   "name": "python",
   "nbconvert_exporter": "python",
   "pygments_lexer": "ipython3",
   "version": "3.11.11"
  }
 },
 "nbformat": 4,
 "nbformat_minor": 2
}
