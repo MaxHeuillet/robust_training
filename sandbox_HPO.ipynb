{
 "cells": [
  {
   "cell_type": "code",
   "execution_count": null,
   "metadata": {},
   "outputs": [
    {
     "name": "stdout",
     "output_type": "stream",
     "text": [
      "/home/mheuillet/ray_results/0000_deit_small_patch16_224.fb_in1k_Flowers_CLASSIC_AT/TorchTrainer_182ee_00000_0_lr1=0.0016,lr2=0.0073,weight_decay1=0.0003,weight_decay2=0.0002_2024-12-11_18-46-08\n",
      "/home/mheuillet/ray_results/0000_deit_small_patch16_224.fb_in1k_Flowers_CLASSIC_AT/TorchTrainer_182ee_00001_1_lr1=0.0038,lr2=0.0006,weight_decay1=0.0037,weight_decay2=0.0072_2024-12-11_18-46-08\n"
     ]
    }
   ],
   "source": [
    "import pickle\n",
    "\n",
    "with open('./results/results_0000_deit_small_patch16_224.fb_in1k_Flowers_CLASSIC_AT.pkl', 'rb') as f:\n",
    "    data = pickle.load(f)\n",
    "\n",
    "for r in data['deit_small_patch16_224.fb_in1k_Flowers_CLASSIC_AT']['hpo_results']:\n",
    "    print(r.path)\n",
    "    "
   ]
  },
  {
   "cell_type": "code",
   "execution_count": null,
   "metadata": {},
   "outputs": [],
   "source": []
  },
  {
   "cell_type": "code",
   "execution_count": null,
   "metadata": {},
   "outputs": [
    {
     "data": {
      "text/plain": [
       "{'_tune_config': TuneConfig(mode='min', metric='loss', search_alg=None, scheduler=<ray.tune.schedulers.async_hyperband.AsyncHyperBandScheduler object at 0x7fa31c7761f0>, num_samples=2, max_concurrent_trials=None, time_budget_s=120.0, reuse_actors=False, trial_name_creator=None, trial_dirname_creator=None, chdir_to_trial_dir='DEPRECATED'),\n",
       " '_run_config': RunConfig(name='0000_deit_small_patch16_224.fb_in1k_Flowers_CLASSIC_AT', storage_path='/home/mheuillet/ray_results', verbose=1),\n",
       " '_entrypoint': <AirEntrypoint.TUNER: 'Tuner.fit'>,\n",
       " '_resume_config': None,\n",
       " '_is_restored': False,\n",
       " '_tuner_kwargs': {},\n",
       " '__trainable_name': 'TorchTrainer',\n",
       " '__flattened_param_space_keys': ['train_loop_config/lr1',\n",
       "  'train_loop_config/lr2',\n",
       "  'train_loop_config/weight_decay1',\n",
       "  'train_loop_config/weight_decay2']}"
      ]
     },
     "execution_count": 12,
     "metadata": {},
     "output_type": "execute_result"
    }
   ],
   "source": [
    "import pickle\n",
    "with open('/home/mheuillet/ray_results/0000_deit_small_patch16_224.fb_in1k_Flowers_CLASSIC_AT/tuner.pkl', 'rb') as f:\n",
    "    tuner = pickle.load(f)\n",
    "\n"
   ]
  },
  {
   "cell_type": "code",
   "execution_count": 6,
   "metadata": {},
   "outputs": [
    {
     "data": {
      "text/plain": [
       "ResultGrid<[\n",
       "  Result(\n",
       "    metrics={'loss': 5.118027369181315},\n",
       "    path='/home/mheuillet/ray_results/hpo_experiment/TorchTrainer_bd051_00000_0_lr1=0.0016,lr2=0.0073,weight_decay1=0.0003,weight_decay2=0.0002_2024-12-11_12-02-43',\n",
       "    filesystem='local',\n",
       "    checkpoint=None\n",
       "  ),\n",
       "  Result(\n",
       "    metrics={},\n",
       "    path='/home/mheuillet/ray_results/hpo_experiment/TorchTrainer_bd051_00001_1_lr1=0.0038,lr2=0.0006,weight_decay1=0.0037,weight_decay2=0.0072_2024-12-11_12-02-43',\n",
       "    filesystem='local',\n",
       "    checkpoint=None\n",
       "  )\n",
       "]>"
      ]
     },
     "execution_count": 6,
     "metadata": {},
     "output_type": "execute_result"
    }
   ],
   "source": [
    "data['deit_small_patch16_224.fb_in1k_Flowers_CLASSIC_AT']['hpo_results']"
   ]
  },
  {
   "cell_type": "code",
   "execution_count": 7,
   "metadata": {},
   "outputs": [
    {
     "name": "stderr",
     "output_type": "stream",
     "text": [
      "2024-12-11 12:18:21,188\tWARNING experiment_analysis.py:190 -- Failed to fetch metrics for 1 trial(s):\n",
      "- TorchTrainer_bd051_00001: FileNotFoundError('Could not fetch metrics for TorchTrainer_bd051_00001: both result.json and progress.csv were not found at /home/mheuillet/ray_results/hpo_experiment/TorchTrainer_bd051_00001_1_lr1=0.0038,lr2=0.0006,weight_decay1=0.0037,weight_decay2=0.0072_2024-12-11_12-02-43')\n"
     ]
    }
   ],
   "source": [
    "from ray.tune import ExperimentAnalysis\n",
    "\n",
    "# Load the experiment analysis\n",
    "analysis = ExperimentAnalysis(\"/home/mheuillet/ray_results/hpo_experiment\")\n",
    "\n",
    "# Retrieve all trial data\n",
    "trial_data = analysis.trials"
   ]
  },
  {
   "cell_type": "code",
   "execution_count": 11,
   "metadata": {},
   "outputs": [
    {
     "data": {
      "text/html": [
       "<div>\n",
       "<style scoped>\n",
       "    .dataframe tbody tr th:only-of-type {\n",
       "        vertical-align: middle;\n",
       "    }\n",
       "\n",
       "    .dataframe tbody tr th {\n",
       "        vertical-align: top;\n",
       "    }\n",
       "\n",
       "    .dataframe thead th {\n",
       "        text-align: right;\n",
       "    }\n",
       "</style>\n",
       "<table border=\"1\" class=\"dataframe\">\n",
       "  <thead>\n",
       "    <tr style=\"text-align: right;\">\n",
       "      <th></th>\n",
       "      <th>loss</th>\n",
       "      <th>timestamp</th>\n",
       "      <th>checkpoint_dir_name</th>\n",
       "      <th>done</th>\n",
       "      <th>training_iteration</th>\n",
       "      <th>trial_id</th>\n",
       "      <th>date</th>\n",
       "      <th>time_this_iter_s</th>\n",
       "      <th>time_total_s</th>\n",
       "      <th>pid</th>\n",
       "      <th>hostname</th>\n",
       "      <th>node_ip</th>\n",
       "      <th>time_since_restore</th>\n",
       "      <th>iterations_since_restore</th>\n",
       "      <th>config/train_loop_config/lr1</th>\n",
       "      <th>config/train_loop_config/lr2</th>\n",
       "      <th>config/train_loop_config/weight_decay1</th>\n",
       "      <th>config/train_loop_config/weight_decay2</th>\n",
       "      <th>logdir</th>\n",
       "    </tr>\n",
       "  </thead>\n",
       "  <tbody>\n",
       "    <tr>\n",
       "      <th>0</th>\n",
       "      <td>5.118027</td>\n",
       "      <td>1733936680</td>\n",
       "      <td>None</td>\n",
       "      <td>False</td>\n",
       "      <td>12</td>\n",
       "      <td>bd051_00000</td>\n",
       "      <td>2024-12-11_12-04-40</td>\n",
       "      <td>8.967342</td>\n",
       "      <td>111.760716</td>\n",
       "      <td>143778</td>\n",
       "      <td>mheuillet-dev-linux-02</td>\n",
       "      <td>192.168.2.12</td>\n",
       "      <td>111.760716</td>\n",
       "      <td>12</td>\n",
       "      <td>0.001568</td>\n",
       "      <td>0.007257</td>\n",
       "      <td>0.000258</td>\n",
       "      <td>0.000151</td>\n",
       "      <td>bd051_00000</td>\n",
       "    </tr>\n",
       "  </tbody>\n",
       "</table>\n",
       "</div>"
      ],
      "text/plain": [
       "       loss   timestamp checkpoint_dir_name   done  training_iteration  \\\n",
       "0  5.118027  1733936680                None  False                  12   \n",
       "\n",
       "      trial_id                 date  time_this_iter_s  time_total_s     pid  \\\n",
       "0  bd051_00000  2024-12-11_12-04-40          8.967342    111.760716  143778   \n",
       "\n",
       "                 hostname       node_ip  time_since_restore  \\\n",
       "0  mheuillet-dev-linux-02  192.168.2.12          111.760716   \n",
       "\n",
       "   iterations_since_restore  config/train_loop_config/lr1  \\\n",
       "0                        12                      0.001568   \n",
       "\n",
       "   config/train_loop_config/lr2  config/train_loop_config/weight_decay1  \\\n",
       "0                      0.007257                                0.000258   \n",
       "\n",
       "   config/train_loop_config/weight_decay2       logdir  \n",
       "0                                0.000151  bd051_00000  "
      ]
     },
     "execution_count": 11,
     "metadata": {},
     "output_type": "execute_result"
    }
   ],
   "source": [
    "analysis.dataframe()"
   ]
  }
 ],
 "metadata": {
  "kernelspec": {
   "display_name": ".venv",
   "language": "python",
   "name": "python3"
  },
  "language_info": {
   "codemirror_mode": {
    "name": "ipython",
    "version": 3
   },
   "file_extension": ".py",
   "mimetype": "text/x-python",
   "name": "python",
   "nbconvert_exporter": "python",
   "pygments_lexer": "ipython3",
   "version": "3.8.10"
  }
 },
 "nbformat": 4,
 "nbformat_minor": 2
}
