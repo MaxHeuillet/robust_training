{
 "cells": [
  {
   "cell_type": "code",
   "execution_count": 1,
   "metadata": {},
   "outputs": [],
   "source": [
    "import comet_ml\n",
    "\n",
    "import os\n",
    "os.environ[\"COMET_API_KEY\"] = \"I5AiXfuD0TVuSz5UOtujrUM9i\"\n",
    "\n",
    "PROJECT_NAME=\"robust-training\"\n",
    "WORKSPACE_NAME=\"maxheuillet\"\n",
    "\n",
    "# Get all Experiemnts in workspace\n",
    "api = comet_ml.API()\n",
    "\n",
    "# all_experiments_in_workspace = api.get_experiments(WORKSPACE_NAME)\n",
    "all_experiments_in_project = api.get_experiments(WORKSPACE_NAME, PROJECT_NAME)\n"
   ]
  },
  {
   "cell_type": "code",
   "execution_count": 2,
   "metadata": {},
   "outputs": [
    {
     "data": {
      "application/vnd.jupyter.widget-view+json": {
       "model_id": "02f21330b560442f91db6947ce0e5da3",
       "version_major": 2,
       "version_minor": 0
      },
      "text/plain": [
       "  0%|          | 0/120 [00:00<?, ?it/s]"
      ]
     },
     "metadata": {},
     "output_type": "display_data"
    },
    {
     "data": {
      "text/plain": [
       "{'51918100': {'arch': 'convnext',\n",
       "  'aug': 'aug',\n",
       "  'batch_size': '1042',\n",
       "  'dataset': 'CIFAR10',\n",
       "  'exp': 'RQ1',\n",
       "  'init_lr': '0.001',\n",
       "  'iterations': '50',\n",
       "  'loss_function': 'TRADES_v2',\n",
       "  'pre_trained': 'imagenet1k_non_robust',\n",
       "  'pruning_ratio': '0.0',\n",
       "  'pruning_strategy': 'random',\n",
       "  'sched': 'nosched',\n",
       "  'adv_acc': '0.5064',\n",
       "  'nat_acc': '0.8229'},\n",
       " '51918108': {'arch': 'convnext',\n",
       "  'aug': 'aug',\n",
       "  'batch_size': '1042',\n",
       "  'dataset': 'CIFAR10',\n",
       "  'exp': 'RQ1',\n",
       "  'init_lr': '0.001',\n",
       "  'iterations': '50',\n",
       "  'loss_function': 'APGD',\n",
       "  'pre_trained': 'imagenet21k_non_robust',\n",
       "  'pruning_ratio': '0.0',\n",
       "  'pruning_strategy': 'random',\n",
       "  'sched': 'nosched',\n",
       "  'adv_acc': '0.2601',\n",
       "  'nat_acc': '0.4524'},\n",
       " '51918104': {'arch': 'convnext',\n",
       "  'aug': 'aug',\n",
       "  'batch_size': '1042',\n",
       "  'dataset': 'CIFAR10',\n",
       "  'exp': 'RQ1',\n",
       "  'init_lr': '0.01',\n",
       "  'iterations': '50',\n",
       "  'loss_function': 'TRADES_v2',\n",
       "  'pre_trained': 'imagenet1k_robust',\n",
       "  'pruning_ratio': '0.0',\n",
       "  'pruning_strategy': 'random',\n",
       "  'sched': 'nosched',\n",
       "  'adv_acc': '0.4866',\n",
       "  'nat_acc': '0.732'},\n",
       " '51918096': {'arch': 'convnext',\n",
       "  'aug': 'aug',\n",
       "  'batch_size': '1042',\n",
       "  'dataset': 'CIFAR10',\n",
       "  'exp': 'RQ1',\n",
       "  'init_lr': '0.0001',\n",
       "  'iterations': '50',\n",
       "  'loss_function': 'TRADES_v2',\n",
       "  'pre_trained': 'imagenet21k_non_robust',\n",
       "  'pruning_ratio': '0.0',\n",
       "  'pruning_strategy': 'random',\n",
       "  'sched': 'nosched',\n",
       "  'adv_acc': '0.1178',\n",
       "  'nat_acc': '0.6642'},\n",
       " '51918097': {'arch': 'convnext',\n",
       "  'aug': 'aug',\n",
       "  'batch_size': '1042',\n",
       "  'dataset': 'CIFAR10',\n",
       "  'exp': 'RQ1',\n",
       "  'init_lr': '0.0001',\n",
       "  'iterations': '50',\n",
       "  'loss_function': 'TRADES_v2',\n",
       "  'pre_trained': 'imagenet1k_non_robust',\n",
       "  'pruning_ratio': '0.0',\n",
       "  'pruning_strategy': 'random',\n",
       "  'sched': 'nosched',\n",
       "  'adv_acc': '0.3594',\n",
       "  'nat_acc': '0.7273'},\n",
       " '51918105': {'arch': 'convnext',\n",
       "  'aug': 'aug',\n",
       "  'batch_size': '1042',\n",
       "  'dataset': 'CIFAR10',\n",
       "  'exp': 'RQ1',\n",
       "  'init_lr': '0.0001',\n",
       "  'iterations': '50',\n",
       "  'loss_function': 'APGD',\n",
       "  'pre_trained': 'imagenet21k_non_robust',\n",
       "  'pruning_ratio': '0.0',\n",
       "  'pruning_strategy': 'random',\n",
       "  'sched': 'nosched',\n",
       "  'adv_acc': None,\n",
       "  'nat_acc': None},\n",
       " '51918101': {'arch': 'convnext',\n",
       "  'aug': 'aug',\n",
       "  'batch_size': '1042',\n",
       "  'dataset': 'CIFAR10',\n",
       "  'exp': 'RQ1',\n",
       "  'init_lr': '0.001',\n",
       "  'iterations': '50',\n",
       "  'loss_function': 'TRADES_v2',\n",
       "  'pre_trained': 'imagenet1k_robust',\n",
       "  'pruning_ratio': '0.0',\n",
       "  'pruning_strategy': 'random',\n",
       "  'sched': 'nosched',\n",
       "  'adv_acc': '0.4566',\n",
       "  'nat_acc': '0.6856'},\n",
       " '51918106': {'arch': 'convnext',\n",
       "  'aug': 'aug',\n",
       "  'batch_size': '1042',\n",
       "  'dataset': 'CIFAR10',\n",
       "  'exp': 'RQ1',\n",
       "  'init_lr': '0.0001',\n",
       "  'iterations': '50',\n",
       "  'loss_function': 'APGD',\n",
       "  'pre_trained': 'imagenet1k_non_robust',\n",
       "  'pruning_ratio': '0.0',\n",
       "  'pruning_strategy': 'random',\n",
       "  'sched': 'nosched',\n",
       "  'adv_acc': '0.2143',\n",
       "  'nat_acc': '0.4027'},\n",
       " '51918110': {'arch': 'convnext',\n",
       "  'aug': 'aug',\n",
       "  'batch_size': '1042',\n",
       "  'dataset': 'CIFAR10',\n",
       "  'exp': 'RQ1',\n",
       "  'init_lr': '0.001',\n",
       "  'iterations': '50',\n",
       "  'loss_function': 'APGD',\n",
       "  'pre_trained': 'imagenet1k_robust',\n",
       "  'pruning_ratio': '0.0',\n",
       "  'pruning_strategy': 'random',\n",
       "  'sched': 'nosched',\n",
       "  'adv_acc': '0.3387',\n",
       "  'nat_acc': '0.4818'},\n",
       " '51918099': {'arch': 'convnext',\n",
       "  'aug': 'aug',\n",
       "  'batch_size': '1042',\n",
       "  'dataset': 'CIFAR10',\n",
       "  'exp': 'RQ1',\n",
       "  'init_lr': '0.001',\n",
       "  'iterations': '50',\n",
       "  'loss_function': 'TRADES_v2',\n",
       "  'pre_trained': 'imagenet21k_non_robust',\n",
       "  'pruning_ratio': '0.0',\n",
       "  'pruning_strategy': 'random',\n",
       "  'sched': 'nosched',\n",
       "  'adv_acc': '0.4043',\n",
       "  'nat_acc': '0.8092'},\n",
       " '51918103': {'arch': 'convnext',\n",
       "  'aug': 'aug',\n",
       "  'batch_size': '1042',\n",
       "  'dataset': 'CIFAR10',\n",
       "  'exp': 'RQ1',\n",
       "  'init_lr': '0.01',\n",
       "  'iterations': '50',\n",
       "  'loss_function': 'TRADES_v2',\n",
       "  'pre_trained': 'imagenet1k_non_robust',\n",
       "  'pruning_ratio': '0.0',\n",
       "  'pruning_strategy': 'random',\n",
       "  'sched': 'nosched',\n",
       "  'adv_acc': '0.5471',\n",
       "  'nat_acc': '0.8069'},\n",
       " '51918107': {'arch': 'convnext',\n",
       "  'aug': 'aug',\n",
       "  'batch_size': '1042',\n",
       "  'dataset': 'CIFAR10',\n",
       "  'exp': 'RQ1',\n",
       "  'init_lr': '0.0001',\n",
       "  'iterations': '50',\n",
       "  'loss_function': 'APGD',\n",
       "  'pre_trained': 'imagenet1k_robust',\n",
       "  'pruning_ratio': '0.0',\n",
       "  'pruning_strategy': 'random',\n",
       "  'sched': 'nosched',\n",
       "  'adv_acc': '0.093',\n",
       "  'nat_acc': '0.1847'},\n",
       " '51918102': {'arch': 'convnext',\n",
       "  'aug': 'aug',\n",
       "  'batch_size': '1042',\n",
       "  'dataset': 'CIFAR10',\n",
       "  'exp': 'RQ1',\n",
       "  'init_lr': '0.01',\n",
       "  'iterations': '50',\n",
       "  'loss_function': 'TRADES_v2',\n",
       "  'pre_trained': 'imagenet21k_non_robust',\n",
       "  'pruning_ratio': '0.0',\n",
       "  'pruning_strategy': 'random',\n",
       "  'sched': 'nosched',\n",
       "  'adv_acc': '0.5569',\n",
       "  'nat_acc': '0.8577'},\n",
       " '51918098': {'arch': 'convnext',\n",
       "  'aug': 'aug',\n",
       "  'batch_size': '1042',\n",
       "  'dataset': 'CIFAR10',\n",
       "  'exp': 'RQ1',\n",
       "  'init_lr': '0.0001',\n",
       "  'iterations': '50',\n",
       "  'loss_function': 'TRADES_v2',\n",
       "  'pre_trained': 'imagenet1k_robust',\n",
       "  'pruning_ratio': '0.0',\n",
       "  'pruning_strategy': 'random',\n",
       "  'sched': 'nosched',\n",
       "  'adv_acc': '0.2396',\n",
       "  'nat_acc': '0.4064'},\n",
       " '51918109': {'arch': 'convnext',\n",
       "  'aug': 'aug',\n",
       "  'batch_size': '1042',\n",
       "  'dataset': 'CIFAR10',\n",
       "  'exp': 'RQ1',\n",
       "  'init_lr': '0.001',\n",
       "  'iterations': '50',\n",
       "  'loss_function': 'APGD',\n",
       "  'pre_trained': 'imagenet1k_non_robust',\n",
       "  'pruning_ratio': '0.0',\n",
       "  'pruning_strategy': 'random',\n",
       "  'sched': 'nosched',\n",
       "  'adv_acc': '0.2445',\n",
       "  'nat_acc': '0.3797'},\n",
       " '51918111': {'arch': 'convnext',\n",
       "  'aug': 'aug',\n",
       "  'batch_size': '1042',\n",
       "  'dataset': 'CIFAR10',\n",
       "  'exp': 'RQ1',\n",
       "  'init_lr': '0.01',\n",
       "  'iterations': '50',\n",
       "  'loss_function': 'APGD',\n",
       "  'pre_trained': 'imagenet21k_non_robust',\n",
       "  'pruning_ratio': '0.0',\n",
       "  'pruning_strategy': 'random',\n",
       "  'sched': 'nosched',\n",
       "  'adv_acc': '0.3999',\n",
       "  'nat_acc': '0.5742'},\n",
       " '51918113': {'arch': 'convnext',\n",
       "  'aug': 'aug',\n",
       "  'batch_size': '1042',\n",
       "  'dataset': 'CIFAR10',\n",
       "  'exp': 'RQ1',\n",
       "  'init_lr': '0.01',\n",
       "  'iterations': '50',\n",
       "  'loss_function': 'APGD',\n",
       "  'pre_trained': 'imagenet1k_robust',\n",
       "  'pruning_ratio': '0.0',\n",
       "  'pruning_strategy': 'random',\n",
       "  'sched': 'nosched',\n",
       "  'adv_acc': '0.3945',\n",
       "  'nat_acc': '0.559'},\n",
       " '51918112': {'arch': 'convnext',\n",
       "  'aug': 'aug',\n",
       "  'batch_size': '1042',\n",
       "  'dataset': 'CIFAR10',\n",
       "  'exp': 'RQ1',\n",
       "  'init_lr': '0.01',\n",
       "  'iterations': '50',\n",
       "  'loss_function': 'APGD',\n",
       "  'pre_trained': 'imagenet1k_non_robust',\n",
       "  'pruning_ratio': '0.0',\n",
       "  'pruning_strategy': 'random',\n",
       "  'sched': 'nosched',\n",
       "  'adv_acc': '0.1',\n",
       "  'nat_acc': '0.1'},\n",
       " '51919230': {'arch': 'convnext',\n",
       "  'aug': 'aug',\n",
       "  'batch_size': '1042',\n",
       "  'dataset': 'CIFAR10',\n",
       "  'exp': 'RQ2',\n",
       "  'init_lr': '0.001',\n",
       "  'iterations': '50',\n",
       "  'loss_function': 'APGD',\n",
       "  'pre_trained': 'imagenet1k_non_robust',\n",
       "  'pruning_ratio': '0.7',\n",
       "  'pruning_strategy': 'fixed_stratified',\n",
       "  'sched': 'nosched',\n",
       "  'adv_acc': None,\n",
       "  'nat_acc': None},\n",
       " '51919231': {'arch': 'convnext',\n",
       "  'aug': 'aug',\n",
       "  'batch_size': '1042',\n",
       "  'dataset': 'CIFAR10',\n",
       "  'exp': 'RQ2',\n",
       "  'init_lr': '0.001',\n",
       "  'iterations': '50',\n",
       "  'loss_function': 'APGD',\n",
       "  'pre_trained': 'imagenet1k_non_robust',\n",
       "  'pruning_ratio': '0.0',\n",
       "  'pruning_strategy': 'fixed_stratified',\n",
       "  'sched': 'nosched',\n",
       "  'adv_acc': '0.1336',\n",
       "  'nat_acc': '0.2306'},\n",
       " '51919235': {'arch': 'convnext',\n",
       "  'aug': 'aug',\n",
       "  'batch_size': '1042',\n",
       "  'dataset': 'CIFAR10',\n",
       "  'exp': 'RQ2',\n",
       "  'init_lr': '0.001',\n",
       "  'iterations': '50',\n",
       "  'loss_function': 'APGD',\n",
       "  'pre_trained': 'imagenet1k_non_robust',\n",
       "  'pruning_ratio': '0.5',\n",
       "  'pruning_strategy': 'fixed_stratified',\n",
       "  'sched': 'nosched',\n",
       "  'adv_acc': None,\n",
       "  'nat_acc': None},\n",
       " '51919232': {'arch': 'convnext',\n",
       "  'aug': 'aug',\n",
       "  'batch_size': '1042',\n",
       "  'dataset': 'CIFAR10',\n",
       "  'exp': 'RQ2',\n",
       "  'init_lr': '0.001',\n",
       "  'iterations': '50',\n",
       "  'loss_function': 'APGD',\n",
       "  'pre_trained': 'imagenet1k_non_robust',\n",
       "  'pruning_ratio': '0.3',\n",
       "  'pruning_strategy': 'fixed_stratified',\n",
       "  'sched': 'nosched',\n",
       "  'adv_acc': None,\n",
       "  'nat_acc': None},\n",
       " '51920274': {'arch': 'convnext',\n",
       "  'aug': 'aug',\n",
       "  'batch_size': '1042',\n",
       "  'dataset': 'CIFAR10',\n",
       "  'exp': 'RQ2',\n",
       "  'init_lr': '0.001',\n",
       "  'iterations': '50',\n",
       "  'loss_function': 'APGD',\n",
       "  'pre_trained': 'imagenet1k_non_robust',\n",
       "  'pruning_ratio': '0.7',\n",
       "  'pruning_strategy': 'fixed_stratified',\n",
       "  'sched': 'nosched',\n",
       "  'adv_acc': None,\n",
       "  'nat_acc': None},\n",
       " '51920277': {'arch': 'convnext',\n",
       "  'aug': 'aug',\n",
       "  'batch_size': '1042',\n",
       "  'dataset': 'CIFAR10',\n",
       "  'exp': 'RQ2',\n",
       "  'init_lr': '0.001',\n",
       "  'iterations': '50',\n",
       "  'loss_function': 'APGD',\n",
       "  'pre_trained': 'imagenet1k_non_robust',\n",
       "  'pruning_ratio': '0.5',\n",
       "  'pruning_strategy': 'fixed_stratified',\n",
       "  'sched': 'nosched',\n",
       "  'adv_acc': None,\n",
       "  'nat_acc': None},\n",
       " '51920276': {'arch': 'convnext',\n",
       "  'aug': 'aug',\n",
       "  'batch_size': '1042',\n",
       "  'dataset': 'CIFAR10',\n",
       "  'exp': 'RQ2',\n",
       "  'init_lr': '0.001',\n",
       "  'iterations': '50',\n",
       "  'loss_function': 'APGD',\n",
       "  'pre_trained': 'imagenet1k_non_robust',\n",
       "  'pruning_ratio': '0.3',\n",
       "  'pruning_strategy': 'fixed_stratified',\n",
       "  'sched': 'nosched',\n",
       "  'adv_acc': None,\n",
       "  'nat_acc': None},\n",
       " '51920275': {'arch': 'convnext',\n",
       "  'aug': 'aug',\n",
       "  'batch_size': '1042',\n",
       "  'dataset': 'CIFAR10',\n",
       "  'exp': 'RQ2',\n",
       "  'init_lr': '0.001',\n",
       "  'iterations': '50',\n",
       "  'loss_function': 'APGD',\n",
       "  'pre_trained': 'imagenet1k_non_robust',\n",
       "  'pruning_ratio': '0.0',\n",
       "  'pruning_strategy': 'fixed_stratified',\n",
       "  'sched': 'nosched',\n",
       "  'adv_acc': None,\n",
       "  'nat_acc': None},\n",
       " '51920512': {'arch': 'convnext',\n",
       "  'aug': 'aug',\n",
       "  'batch_size': '1042',\n",
       "  'dataset': 'CIFAR10',\n",
       "  'exp': 'RQ2',\n",
       "  'init_lr': '0.001',\n",
       "  'iterations': '50',\n",
       "  'loss_function': 'APGD',\n",
       "  'pre_trained': 'imagenet1k_non_robust',\n",
       "  'pruning_ratio': '0.3',\n",
       "  'pruning_strategy': 'fixed_stratified',\n",
       "  'sched': 'nosched',\n",
       "  'adv_acc': '0.4836',\n",
       "  'nat_acc': '0.7052'},\n",
       " '51920511': {'arch': 'convnext',\n",
       "  'aug': 'aug',\n",
       "  'batch_size': '1042',\n",
       "  'dataset': 'CIFAR10',\n",
       "  'exp': 'RQ2',\n",
       "  'init_lr': '0.001',\n",
       "  'iterations': '50',\n",
       "  'loss_function': 'APGD',\n",
       "  'pre_trained': 'imagenet1k_non_robust',\n",
       "  'pruning_ratio': '0.0',\n",
       "  'pruning_strategy': 'fixed_stratified',\n",
       "  'sched': 'nosched',\n",
       "  'adv_acc': '0.2549',\n",
       "  'nat_acc': '0.3638'},\n",
       " '51920513': {'arch': 'convnext',\n",
       "  'aug': 'aug',\n",
       "  'batch_size': '1042',\n",
       "  'dataset': 'CIFAR10',\n",
       "  'exp': 'RQ2',\n",
       "  'init_lr': '0.001',\n",
       "  'iterations': '50',\n",
       "  'loss_function': 'APGD',\n",
       "  'pre_trained': 'imagenet1k_non_robust',\n",
       "  'pruning_ratio': '0.5',\n",
       "  'pruning_strategy': 'fixed_stratified',\n",
       "  'sched': 'nosched',\n",
       "  'adv_acc': '0.3064',\n",
       "  'nat_acc': '0.4271'},\n",
       " '51920510': {'arch': 'convnext',\n",
       "  'aug': 'aug',\n",
       "  'batch_size': '1042',\n",
       "  'dataset': 'CIFAR10',\n",
       "  'exp': 'RQ2',\n",
       "  'init_lr': '0.001',\n",
       "  'iterations': '50',\n",
       "  'loss_function': 'APGD',\n",
       "  'pre_trained': 'imagenet1k_non_robust',\n",
       "  'pruning_ratio': '0.7',\n",
       "  'pruning_strategy': 'fixed_stratified',\n",
       "  'sched': 'nosched',\n",
       "  'adv_acc': None,\n",
       "  'nat_acc': None}}"
      ]
     },
     "execution_count": 2,
     "metadata": {},
     "output_type": "execute_result"
    }
   ],
   "source": [
    "# Convert the experiment summary to an APIExperiment using the experiment key\n",
    "from tqdm.notebook import tqdm\n",
    "\n",
    "data = {}\n",
    "for i in tqdm( range(len(all_experiments_in_project)) ):\n",
    "    summary = all_experiments_in_project[i].get_parameters_summary()\n",
    "\n",
    "    d = {}\n",
    "    for e in summary:\n",
    "        if e['name'] in [ 'exp', 'dataset', 'pre_trained', 'run_id', 'arch','aug','sched', 'batch_size','init_lr','sched','pruning_strategy','pruning_ratio','loss_function','iterations']:\n",
    "            if e['name'] == 'run_id':\n",
    "                id = e['valueMax']\n",
    "            else:\n",
    "                d[e['name']] = e['valueMax']\n",
    "        \n",
    "    if id not in data.keys():\n",
    "        try:\n",
    "            adv_acc  = all_experiments_in_project[i].get_metrics('final_robust_accuracy')[0]\n",
    "            d[ 'adv_acc' ] = adv_acc['metricValue']\n",
    "            nat_acc = all_experiments_in_project[i].get_metrics('final_clean_accuracy')[0]\n",
    "            d[ 'nat_acc' ] = nat_acc['metricValue']\n",
    "        except:\n",
    "            d[ 'adv_acc' ] = None\n",
    "            d[ 'nat_acc' ] = None\n",
    "\n",
    "        data[id] = d\n",
    "\n",
    "data"
   ]
  },
  {
   "cell_type": "code",
   "execution_count": 4,
   "metadata": {},
   "outputs": [
    {
     "data": {
      "text/html": [
       "<div>\n",
       "<style scoped>\n",
       "    .dataframe tbody tr th:only-of-type {\n",
       "        vertical-align: middle;\n",
       "    }\n",
       "\n",
       "    .dataframe tbody tr th {\n",
       "        vertical-align: top;\n",
       "    }\n",
       "\n",
       "    .dataframe thead th {\n",
       "        text-align: right;\n",
       "    }\n",
       "</style>\n",
       "<table border=\"1\" class=\"dataframe\">\n",
       "  <thead>\n",
       "    <tr style=\"text-align: right;\">\n",
       "      <th></th>\n",
       "      <th>arch</th>\n",
       "      <th>batch_size</th>\n",
       "      <th>dataset</th>\n",
       "      <th>init_lr</th>\n",
       "      <th>iterations</th>\n",
       "      <th>loss_function</th>\n",
       "      <th>pruning_ratio</th>\n",
       "      <th>pruning_strategy</th>\n",
       "      <th>sched</th>\n",
       "      <th>aug</th>\n",
       "      <th>pre_trained</th>\n",
       "      <th>adv_acc</th>\n",
       "      <th>nat_acc</th>\n",
       "    </tr>\n",
       "  </thead>\n",
       "  <tbody>\n",
       "    <tr>\n",
       "      <th>0</th>\n",
       "      <td>convnext</td>\n",
       "      <td>1042</td>\n",
       "      <td>CIFAR10</td>\n",
       "      <td>0.001</td>\n",
       "      <td>50</td>\n",
       "      <td>APGD</td>\n",
       "      <td>0.0</td>\n",
       "      <td>fixed_stratified</td>\n",
       "      <td>nosched</td>\n",
       "      <td>aug</td>\n",
       "      <td>imagenet1k_non_robust</td>\n",
       "      <td>0.19425</td>\n",
       "      <td>0.2972</td>\n",
       "    </tr>\n",
       "    <tr>\n",
       "      <th>1</th>\n",
       "      <td>convnext</td>\n",
       "      <td>1042</td>\n",
       "      <td>CIFAR10</td>\n",
       "      <td>0.001</td>\n",
       "      <td>50</td>\n",
       "      <td>APGD</td>\n",
       "      <td>0.3</td>\n",
       "      <td>fixed_stratified</td>\n",
       "      <td>nosched</td>\n",
       "      <td>aug</td>\n",
       "      <td>imagenet1k_non_robust</td>\n",
       "      <td>0.48360</td>\n",
       "      <td>0.7052</td>\n",
       "    </tr>\n",
       "    <tr>\n",
       "      <th>2</th>\n",
       "      <td>convnext</td>\n",
       "      <td>1042</td>\n",
       "      <td>CIFAR10</td>\n",
       "      <td>0.001</td>\n",
       "      <td>50</td>\n",
       "      <td>APGD</td>\n",
       "      <td>0.5</td>\n",
       "      <td>fixed_stratified</td>\n",
       "      <td>nosched</td>\n",
       "      <td>aug</td>\n",
       "      <td>imagenet1k_non_robust</td>\n",
       "      <td>0.30640</td>\n",
       "      <td>0.4271</td>\n",
       "    </tr>\n",
       "    <tr>\n",
       "      <th>3</th>\n",
       "      <td>convnext</td>\n",
       "      <td>1042</td>\n",
       "      <td>CIFAR10</td>\n",
       "      <td>0.001</td>\n",
       "      <td>50</td>\n",
       "      <td>APGD</td>\n",
       "      <td>0.7</td>\n",
       "      <td>fixed_stratified</td>\n",
       "      <td>nosched</td>\n",
       "      <td>aug</td>\n",
       "      <td>imagenet1k_non_robust</td>\n",
       "      <td>NaN</td>\n",
       "      <td>NaN</td>\n",
       "    </tr>\n",
       "  </tbody>\n",
       "</table>\n",
       "</div>"
      ],
      "text/plain": [
       "       arch batch_size  dataset init_lr iterations loss_function  \\\n",
       "0  convnext       1042  CIFAR10   0.001         50          APGD   \n",
       "1  convnext       1042  CIFAR10   0.001         50          APGD   \n",
       "2  convnext       1042  CIFAR10   0.001         50          APGD   \n",
       "3  convnext       1042  CIFAR10   0.001         50          APGD   \n",
       "\n",
       "  pruning_ratio  pruning_strategy    sched  aug            pre_trained  \\\n",
       "0           0.0  fixed_stratified  nosched  aug  imagenet1k_non_robust   \n",
       "1           0.3  fixed_stratified  nosched  aug  imagenet1k_non_robust   \n",
       "2           0.5  fixed_stratified  nosched  aug  imagenet1k_non_robust   \n",
       "3           0.7  fixed_stratified  nosched  aug  imagenet1k_non_robust   \n",
       "\n",
       "   adv_acc  nat_acc  \n",
       "0  0.19425   0.2972  \n",
       "1  0.48360   0.7052  \n",
       "2  0.30640   0.4271  \n",
       "3      NaN      NaN  "
      ]
     },
     "execution_count": 4,
     "metadata": {},
     "output_type": "execute_result"
    }
   ],
   "source": [
    "import numpy as np\n",
    "import pandas as pd\n",
    "import plotly.graph_objects as go\n",
    "\n",
    "# Assuming 'data' is already defined or loaded\n",
    "df = pd.DataFrame(data).T\n",
    "df['adv_acc'] = pd.to_numeric(df['adv_acc'], errors='coerce')\n",
    "df['nat_acc'] = pd.to_numeric(df['nat_acc'], errors='coerce')\n",
    "df['aug'] = df['aug'].fillna('aug')\n",
    "\n",
    "exp = 'RQ2'\n",
    "pruning_ratio = ['0.0', '0.3', '0.5', '0.7' ]\n",
    "dataset = 'CIFAR10'\n",
    "batch_size = '1042'\n",
    "aug = 'aug'\n",
    "sched = 'nosched'\n",
    "pruning_strategy = 'fixed_stratified'\n",
    "\n",
    "init_lr = [  '0.001',  ]\n",
    "pre_trained = ['imagenet21k_non_robust', 'imagenet1k_non_robust', 'imagenet1k_robust']\n",
    "\n",
    "# Apply filtering\n",
    "df = df[(df['dataset'] == dataset) &\n",
    "        (df['pruning_strategy'] == pruning_strategy) &\n",
    "        (df['pruning_ratio'].isin(pruning_ratio) ) &\n",
    "        (df['pre_trained'].isin(pre_trained)) &  # Use .isin() to check if the value is in the list\n",
    "        (df['batch_size'] == batch_size) &\n",
    "        (df['aug'] == aug) &\n",
    "        (df['sched'] == sched) &\n",
    "        (df['init_lr'].isin(init_lr) )]\n",
    "\n",
    "# Assuming the dataframe 'df' is already loaded\n",
    "# Group by all columns except 'adv_acc', 'nat_acc'\n",
    "group_columns = ['arch', 'batch_size', 'dataset', 'init_lr', 'iterations', \n",
    "                 'loss_function', 'pruning_ratio', 'pruning_strategy', \n",
    "                 'sched', 'aug', 'pre_trained']\n",
    "\n",
    "# Group by the relevant columns and calculate the mean of 'adv_acc' and 'nat_acc'\n",
    "df_avg = df.groupby(group_columns).agg({'adv_acc': 'mean', 'nat_acc': 'mean'}).reset_index()\n",
    "\n",
    "# Display the averaged DataFrame\n",
    "df_avg\n"
   ]
  },
  {
   "cell_type": "code",
   "execution_count": 6,
   "metadata": {},
   "outputs": [
    {
     "data": {
      "application/vnd.plotly.v1+json": {
       "config": {
        "plotlyServerURL": "https://plot.ly"
       },
       "data": [
        {
         "marker": {
          "color": "blue",
          "size": 10,
          "symbol": "circle"
         },
         "mode": "markers",
         "name": "convnext - 0.0",
         "showlegend": true,
         "text": [
          "fixed_stratified"
         ],
         "type": "scatter",
         "x": [
          0.2972
         ],
         "y": [
          0.19425
         ]
        },
        {
         "marker": {
          "color": "blue",
          "size": 10,
          "symbol": "square"
         },
         "mode": "markers",
         "name": "convnext - 0.3",
         "showlegend": true,
         "text": [
          "fixed_stratified"
         ],
         "type": "scatter",
         "x": [
          0.7052
         ],
         "y": [
          0.4836
         ]
        },
        {
         "marker": {
          "color": "blue",
          "size": 10,
          "symbol": "diamond"
         },
         "mode": "markers",
         "name": "convnext - 0.5",
         "showlegend": true,
         "text": [
          "fixed_stratified"
         ],
         "type": "scatter",
         "x": [
          0.4271
         ],
         "y": [
          0.3064
         ]
        },
        {
         "marker": {
          "color": "blue",
          "size": 10,
          "symbol": "cross"
         },
         "mode": "markers",
         "name": "convnext - 0.7",
         "showlegend": true,
         "text": [
          "fixed_stratified"
         ],
         "type": "scatter",
         "x": [
          null
         ],
         "y": [
          null
         ]
        }
       ],
       "layout": {
        "height": 400,
        "legend": {
         "bgcolor": "rgba(255, 255, 255, 1)",
         "bordercolor": "Black",
         "borderwidth": 1,
         "traceorder": "normal",
         "x": 0.02,
         "y": 0.98
        },
        "margin": {
         "b": 0,
         "l": 0,
         "r": 0,
         "t": 35
        },
        "showlegend": true,
        "template": {
         "data": {
          "bar": [
           {
            "error_x": {
             "color": "#2a3f5f"
            },
            "error_y": {
             "color": "#2a3f5f"
            },
            "marker": {
             "line": {
              "color": "#E5ECF6",
              "width": 0.5
             },
             "pattern": {
              "fillmode": "overlay",
              "size": 10,
              "solidity": 0.2
             }
            },
            "type": "bar"
           }
          ],
          "barpolar": [
           {
            "marker": {
             "line": {
              "color": "#E5ECF6",
              "width": 0.5
             },
             "pattern": {
              "fillmode": "overlay",
              "size": 10,
              "solidity": 0.2
             }
            },
            "type": "barpolar"
           }
          ],
          "carpet": [
           {
            "aaxis": {
             "endlinecolor": "#2a3f5f",
             "gridcolor": "white",
             "linecolor": "white",
             "minorgridcolor": "white",
             "startlinecolor": "#2a3f5f"
            },
            "baxis": {
             "endlinecolor": "#2a3f5f",
             "gridcolor": "white",
             "linecolor": "white",
             "minorgridcolor": "white",
             "startlinecolor": "#2a3f5f"
            },
            "type": "carpet"
           }
          ],
          "choropleth": [
           {
            "colorbar": {
             "outlinewidth": 0,
             "ticks": ""
            },
            "type": "choropleth"
           }
          ],
          "contour": [
           {
            "colorbar": {
             "outlinewidth": 0,
             "ticks": ""
            },
            "colorscale": [
             [
              0,
              "#0d0887"
             ],
             [
              0.1111111111111111,
              "#46039f"
             ],
             [
              0.2222222222222222,
              "#7201a8"
             ],
             [
              0.3333333333333333,
              "#9c179e"
             ],
             [
              0.4444444444444444,
              "#bd3786"
             ],
             [
              0.5555555555555556,
              "#d8576b"
             ],
             [
              0.6666666666666666,
              "#ed7953"
             ],
             [
              0.7777777777777778,
              "#fb9f3a"
             ],
             [
              0.8888888888888888,
              "#fdca26"
             ],
             [
              1,
              "#f0f921"
             ]
            ],
            "type": "contour"
           }
          ],
          "contourcarpet": [
           {
            "colorbar": {
             "outlinewidth": 0,
             "ticks": ""
            },
            "type": "contourcarpet"
           }
          ],
          "heatmap": [
           {
            "colorbar": {
             "outlinewidth": 0,
             "ticks": ""
            },
            "colorscale": [
             [
              0,
              "#0d0887"
             ],
             [
              0.1111111111111111,
              "#46039f"
             ],
             [
              0.2222222222222222,
              "#7201a8"
             ],
             [
              0.3333333333333333,
              "#9c179e"
             ],
             [
              0.4444444444444444,
              "#bd3786"
             ],
             [
              0.5555555555555556,
              "#d8576b"
             ],
             [
              0.6666666666666666,
              "#ed7953"
             ],
             [
              0.7777777777777778,
              "#fb9f3a"
             ],
             [
              0.8888888888888888,
              "#fdca26"
             ],
             [
              1,
              "#f0f921"
             ]
            ],
            "type": "heatmap"
           }
          ],
          "heatmapgl": [
           {
            "colorbar": {
             "outlinewidth": 0,
             "ticks": ""
            },
            "colorscale": [
             [
              0,
              "#0d0887"
             ],
             [
              0.1111111111111111,
              "#46039f"
             ],
             [
              0.2222222222222222,
              "#7201a8"
             ],
             [
              0.3333333333333333,
              "#9c179e"
             ],
             [
              0.4444444444444444,
              "#bd3786"
             ],
             [
              0.5555555555555556,
              "#d8576b"
             ],
             [
              0.6666666666666666,
              "#ed7953"
             ],
             [
              0.7777777777777778,
              "#fb9f3a"
             ],
             [
              0.8888888888888888,
              "#fdca26"
             ],
             [
              1,
              "#f0f921"
             ]
            ],
            "type": "heatmapgl"
           }
          ],
          "histogram": [
           {
            "marker": {
             "pattern": {
              "fillmode": "overlay",
              "size": 10,
              "solidity": 0.2
             }
            },
            "type": "histogram"
           }
          ],
          "histogram2d": [
           {
            "colorbar": {
             "outlinewidth": 0,
             "ticks": ""
            },
            "colorscale": [
             [
              0,
              "#0d0887"
             ],
             [
              0.1111111111111111,
              "#46039f"
             ],
             [
              0.2222222222222222,
              "#7201a8"
             ],
             [
              0.3333333333333333,
              "#9c179e"
             ],
             [
              0.4444444444444444,
              "#bd3786"
             ],
             [
              0.5555555555555556,
              "#d8576b"
             ],
             [
              0.6666666666666666,
              "#ed7953"
             ],
             [
              0.7777777777777778,
              "#fb9f3a"
             ],
             [
              0.8888888888888888,
              "#fdca26"
             ],
             [
              1,
              "#f0f921"
             ]
            ],
            "type": "histogram2d"
           }
          ],
          "histogram2dcontour": [
           {
            "colorbar": {
             "outlinewidth": 0,
             "ticks": ""
            },
            "colorscale": [
             [
              0,
              "#0d0887"
             ],
             [
              0.1111111111111111,
              "#46039f"
             ],
             [
              0.2222222222222222,
              "#7201a8"
             ],
             [
              0.3333333333333333,
              "#9c179e"
             ],
             [
              0.4444444444444444,
              "#bd3786"
             ],
             [
              0.5555555555555556,
              "#d8576b"
             ],
             [
              0.6666666666666666,
              "#ed7953"
             ],
             [
              0.7777777777777778,
              "#fb9f3a"
             ],
             [
              0.8888888888888888,
              "#fdca26"
             ],
             [
              1,
              "#f0f921"
             ]
            ],
            "type": "histogram2dcontour"
           }
          ],
          "mesh3d": [
           {
            "colorbar": {
             "outlinewidth": 0,
             "ticks": ""
            },
            "type": "mesh3d"
           }
          ],
          "parcoords": [
           {
            "line": {
             "colorbar": {
              "outlinewidth": 0,
              "ticks": ""
             }
            },
            "type": "parcoords"
           }
          ],
          "pie": [
           {
            "automargin": true,
            "type": "pie"
           }
          ],
          "scatter": [
           {
            "fillpattern": {
             "fillmode": "overlay",
             "size": 10,
             "solidity": 0.2
            },
            "type": "scatter"
           }
          ],
          "scatter3d": [
           {
            "line": {
             "colorbar": {
              "outlinewidth": 0,
              "ticks": ""
             }
            },
            "marker": {
             "colorbar": {
              "outlinewidth": 0,
              "ticks": ""
             }
            },
            "type": "scatter3d"
           }
          ],
          "scattercarpet": [
           {
            "marker": {
             "colorbar": {
              "outlinewidth": 0,
              "ticks": ""
             }
            },
            "type": "scattercarpet"
           }
          ],
          "scattergeo": [
           {
            "marker": {
             "colorbar": {
              "outlinewidth": 0,
              "ticks": ""
             }
            },
            "type": "scattergeo"
           }
          ],
          "scattergl": [
           {
            "marker": {
             "colorbar": {
              "outlinewidth": 0,
              "ticks": ""
             }
            },
            "type": "scattergl"
           }
          ],
          "scattermapbox": [
           {
            "marker": {
             "colorbar": {
              "outlinewidth": 0,
              "ticks": ""
             }
            },
            "type": "scattermapbox"
           }
          ],
          "scatterpolar": [
           {
            "marker": {
             "colorbar": {
              "outlinewidth": 0,
              "ticks": ""
             }
            },
            "type": "scatterpolar"
           }
          ],
          "scatterpolargl": [
           {
            "marker": {
             "colorbar": {
              "outlinewidth": 0,
              "ticks": ""
             }
            },
            "type": "scatterpolargl"
           }
          ],
          "scatterternary": [
           {
            "marker": {
             "colorbar": {
              "outlinewidth": 0,
              "ticks": ""
             }
            },
            "type": "scatterternary"
           }
          ],
          "surface": [
           {
            "colorbar": {
             "outlinewidth": 0,
             "ticks": ""
            },
            "colorscale": [
             [
              0,
              "#0d0887"
             ],
             [
              0.1111111111111111,
              "#46039f"
             ],
             [
              0.2222222222222222,
              "#7201a8"
             ],
             [
              0.3333333333333333,
              "#9c179e"
             ],
             [
              0.4444444444444444,
              "#bd3786"
             ],
             [
              0.5555555555555556,
              "#d8576b"
             ],
             [
              0.6666666666666666,
              "#ed7953"
             ],
             [
              0.7777777777777778,
              "#fb9f3a"
             ],
             [
              0.8888888888888888,
              "#fdca26"
             ],
             [
              1,
              "#f0f921"
             ]
            ],
            "type": "surface"
           }
          ],
          "table": [
           {
            "cells": {
             "fill": {
              "color": "#EBF0F8"
             },
             "line": {
              "color": "white"
             }
            },
            "header": {
             "fill": {
              "color": "#C8D4E3"
             },
             "line": {
              "color": "white"
             }
            },
            "type": "table"
           }
          ]
         },
         "layout": {
          "annotationdefaults": {
           "arrowcolor": "#2a3f5f",
           "arrowhead": 0,
           "arrowwidth": 1
          },
          "autotypenumbers": "strict",
          "coloraxis": {
           "colorbar": {
            "outlinewidth": 0,
            "ticks": ""
           }
          },
          "colorscale": {
           "diverging": [
            [
             0,
             "#8e0152"
            ],
            [
             0.1,
             "#c51b7d"
            ],
            [
             0.2,
             "#de77ae"
            ],
            [
             0.3,
             "#f1b6da"
            ],
            [
             0.4,
             "#fde0ef"
            ],
            [
             0.5,
             "#f7f7f7"
            ],
            [
             0.6,
             "#e6f5d0"
            ],
            [
             0.7,
             "#b8e186"
            ],
            [
             0.8,
             "#7fbc41"
            ],
            [
             0.9,
             "#4d9221"
            ],
            [
             1,
             "#276419"
            ]
           ],
           "sequential": [
            [
             0,
             "#0d0887"
            ],
            [
             0.1111111111111111,
             "#46039f"
            ],
            [
             0.2222222222222222,
             "#7201a8"
            ],
            [
             0.3333333333333333,
             "#9c179e"
            ],
            [
             0.4444444444444444,
             "#bd3786"
            ],
            [
             0.5555555555555556,
             "#d8576b"
            ],
            [
             0.6666666666666666,
             "#ed7953"
            ],
            [
             0.7777777777777778,
             "#fb9f3a"
            ],
            [
             0.8888888888888888,
             "#fdca26"
            ],
            [
             1,
             "#f0f921"
            ]
           ],
           "sequentialminus": [
            [
             0,
             "#0d0887"
            ],
            [
             0.1111111111111111,
             "#46039f"
            ],
            [
             0.2222222222222222,
             "#7201a8"
            ],
            [
             0.3333333333333333,
             "#9c179e"
            ],
            [
             0.4444444444444444,
             "#bd3786"
            ],
            [
             0.5555555555555556,
             "#d8576b"
            ],
            [
             0.6666666666666666,
             "#ed7953"
            ],
            [
             0.7777777777777778,
             "#fb9f3a"
            ],
            [
             0.8888888888888888,
             "#fdca26"
            ],
            [
             1,
             "#f0f921"
            ]
           ]
          },
          "colorway": [
           "#636efa",
           "#EF553B",
           "#00cc96",
           "#ab63fa",
           "#FFA15A",
           "#19d3f3",
           "#FF6692",
           "#B6E880",
           "#FF97FF",
           "#FECB52"
          ],
          "font": {
           "color": "#2a3f5f"
          },
          "geo": {
           "bgcolor": "white",
           "lakecolor": "white",
           "landcolor": "#E5ECF6",
           "showlakes": true,
           "showland": true,
           "subunitcolor": "white"
          },
          "hoverlabel": {
           "align": "left"
          },
          "hovermode": "closest",
          "mapbox": {
           "style": "light"
          },
          "paper_bgcolor": "white",
          "plot_bgcolor": "#E5ECF6",
          "polar": {
           "angularaxis": {
            "gridcolor": "white",
            "linecolor": "white",
            "ticks": ""
           },
           "bgcolor": "#E5ECF6",
           "radialaxis": {
            "gridcolor": "white",
            "linecolor": "white",
            "ticks": ""
           }
          },
          "scene": {
           "xaxis": {
            "backgroundcolor": "#E5ECF6",
            "gridcolor": "white",
            "gridwidth": 2,
            "linecolor": "white",
            "showbackground": true,
            "ticks": "",
            "zerolinecolor": "white"
           },
           "yaxis": {
            "backgroundcolor": "#E5ECF6",
            "gridcolor": "white",
            "gridwidth": 2,
            "linecolor": "white",
            "showbackground": true,
            "ticks": "",
            "zerolinecolor": "white"
           },
           "zaxis": {
            "backgroundcolor": "#E5ECF6",
            "gridcolor": "white",
            "gridwidth": 2,
            "linecolor": "white",
            "showbackground": true,
            "ticks": "",
            "zerolinecolor": "white"
           }
          },
          "shapedefaults": {
           "line": {
            "color": "#2a3f5f"
           }
          },
          "ternary": {
           "aaxis": {
            "gridcolor": "white",
            "linecolor": "white",
            "ticks": ""
           },
           "baxis": {
            "gridcolor": "white",
            "linecolor": "white",
            "ticks": ""
           },
           "bgcolor": "#E5ECF6",
           "caxis": {
            "gridcolor": "white",
            "linecolor": "white",
            "ticks": ""
           }
          },
          "title": {
           "x": 0.05
          },
          "xaxis": {
           "automargin": true,
           "gridcolor": "white",
           "linecolor": "white",
           "ticks": "",
           "title": {
            "standoff": 15
           },
           "zerolinecolor": "white",
           "zerolinewidth": 2
          },
          "yaxis": {
           "automargin": true,
           "gridcolor": "white",
           "linecolor": "white",
           "ticks": "",
           "title": {
            "standoff": 15
           },
           "zerolinecolor": "white",
           "zerolinewidth": 2
          }
         }
        },
        "title": {
         "text": "Frontier Analysis: "
        },
        "width": 400,
        "xaxis": {
         "range": [
          0,
          1
         ],
         "title": {
          "text": "Clean Accuracy"
         }
        },
        "yaxis": {
         "range": [
          0,
          1
         ],
         "title": {
          "text": "Robust Accuracy"
         }
        }
       }
      }
     },
     "metadata": {},
     "output_type": "display_data"
    }
   ],
   "source": [
    "import numpy as np\n",
    "import pandas as pd\n",
    "import plotly.graph_objects as go\n",
    "\n",
    "# Sort the dataframe by natural and adversarial accuracy\n",
    "sorted_df = df_avg.sort_values(by=['nat_acc', 'adv_acc'], ascending=[False, False])\n",
    "\n",
    "# # Identify the Pareto frontier\n",
    "# pareto_front = []\n",
    "# current_best = -np.inf\n",
    "\n",
    "# for index, row in sorted_df.iterrows():\n",
    "#     if row['adv_acc'] > current_best:\n",
    "#         pareto_front.append((row['nat_acc'], row['adv_acc'], row['pruning_strategy'], row['pruning_ratio']))\n",
    "#         current_best = row['adv_acc']\n",
    "\n",
    "# pareto_front = np.array(pareto_front)\n",
    "\n",
    "# Color map for different pruning strategies\n",
    "color_map = {\n",
    "    'convnext': 'blue',\n",
    "}\n",
    "\n",
    "# Dictionary to map pruning_ratio to different marker symbols\n",
    "marker_map = {\n",
    "    '0.0': 'circle',\n",
    "    '0.3': 'square',\n",
    "    '0.5': 'diamond',\n",
    "    '0.7': 'cross'\n",
    "}\n",
    "\n",
    "# Step 3: Plot using plotly\n",
    "fig = go.Figure()\n",
    "\n",
    "# Add all methods as separate scatter points, one for each pruning_strategy\n",
    "for strategy, color in color_map.items():\n",
    "    df_subset = df_avg[df_avg['arch'] == strategy]\n",
    "    \n",
    "    # For each pruning_ratio, assign a marker\n",
    "    for pruning_ratio_value, marker in marker_map.items():\n",
    "        df_pruning_ratio_subset = df_subset[df_subset['pruning_ratio'] == pruning_ratio_value]\n",
    "        fig.add_trace(go.Scatter(\n",
    "            x=df_pruning_ratio_subset['nat_acc'],\n",
    "            y=df_pruning_ratio_subset['adv_acc'],\n",
    "            mode='markers',\n",
    "            marker=dict(symbol=marker, color=color, size=10),\n",
    "            name=f'{strategy} - {pruning_ratio_value}',\n",
    "            text=df_pruning_ratio_subset['pruning_strategy'],  # Hover text for each point\n",
    "            showlegend=True\n",
    "        ))\n",
    "\n",
    "# Update layout with legend inside the figure and square aspect ratio\n",
    "fig.update_layout(\n",
    "    title='Frontier Analysis: ', # + name,\n",
    "    xaxis_title='Clean Accuracy',\n",
    "    yaxis_title='Robust Accuracy',\n",
    "    xaxis=dict(range=[0, 1]),\n",
    "    yaxis=dict(range=[0, 1]),\n",
    "    margin=dict(l=0, r=0, t=35, b=0),  # Margins set to 0\n",
    "    width=400,  # Set figure width to 3 inches (300px at 96dpi)\n",
    "    height=400,  # Set figure height to 3 inches (300px at 96dpi)\n",
    "    showlegend=True,\n",
    "    legend=dict(\n",
    "        x=0.02,  # Position the legend inside the figure\n",
    "        y=0.98,\n",
    "        traceorder=\"normal\",\n",
    "        bgcolor=\"rgba(255, 255, 255, 1)\",  # Semi-transparent background\n",
    "        bordercolor=\"Black\",\n",
    "        borderwidth=1\n",
    "    )\n",
    ")\n",
    "\n",
    "# Display the plot\n",
    "fig.show()\n",
    "\n",
    "# Save the figure\n",
    "# fig.write_image(\"./figures/pruningratio_influence.png\")\n"
   ]
  }
 ],
 "metadata": {
  "kernelspec": {
   "display_name": ".venv",
   "language": "python",
   "name": "python3"
  },
  "language_info": {
   "codemirror_mode": {
    "name": "ipython",
    "version": 3
   },
   "file_extension": ".py",
   "mimetype": "text/x-python",
   "name": "python",
   "nbconvert_exporter": "python",
   "pygments_lexer": "ipython3",
   "version": "3.8.10"
  }
 },
 "nbformat": 4,
 "nbformat_minor": 2
}
