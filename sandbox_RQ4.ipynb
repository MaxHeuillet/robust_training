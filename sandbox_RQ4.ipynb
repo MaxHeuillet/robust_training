{
 "cells": [
  {
   "cell_type": "code",
   "execution_count": null,
   "metadata": {},
   "outputs": [
    {
     "name": "stderr",
     "output_type": "stream",
     "text": [
      "/home/mheuillet/Desktop/robust_training/.venv2/lib/python3.11/site-packages/tqdm/auto.py:21: TqdmWarning: IProgress not found. Please update jupyter and ipywidgets. See https://ipywidgets.readthedocs.io/en/stable/user_install.html\n",
      "  from .autonotebook import tqdm as notebook_tqdm\n",
      "2025-01-10 12:33:05,085\tINFO util.py:154 -- Missing packages: ['ipywidgets']. Run `pip install -U ipywidgets`, then restart the notebook server for rich notebook output.\n",
      "2025-01-10 12:33:06,398\tINFO util.py:154 -- Missing packages: ['ipywidgets']. Run `pip install -U ipywidgets`, then restart the notebook server for rich notebook output.\n",
      "2025-01-10 12:33:10,302\tINFO util.py:154 -- Missing packages: ['ipywidgets']. Run `pip install -U ipywidgets`, then restart the notebook server for rich notebook output.\n"
     ]
    }
   ],
   "source": [
    "\n",
    "\n"
   ]
  },
  {
   "cell_type": "code",
   "execution_count": null,
   "metadata": {},
   "outputs": [
    {
     "data": {
      "text/plain": [
       "hydra.initialize()"
      ]
     },
     "execution_count": 2,
     "metadata": {},
     "output_type": "execute_result"
    }
   ],
   "source": [
    "\n"
   ]
  },
  {
   "cell_type": "code",
   "execution_count": null,
   "metadata": {},
   "outputs": [
    {
     "name": "stdout",
     "output_type": "stream",
     "text": [
      "serialized_values convnext_tiny_stanford_cars_TRADES_v2\n",
      "1\n",
      "serialized_values convnext_tiny_caltech101_TRADES_v2\n",
      "1\n",
      "serialized_values convnext_tiny_fgvc-aircraft-2013b_TRADES_v2\n",
      "1\n",
      "serialized_values convnext_tiny_dtd_TRADES_v2\n",
      "1\n",
      "serialized_values convnext_tiny_flowers-102_TRADES_v2\n",
      "1\n",
      "serialized_values convnext_tiny_oxford-iiit-pet_TRADES_v2\n",
      "1\n",
      "serialized_values convnext_tiny_stanford_cars_CLASSIC_AT\n",
      "1\n",
      "serialized_values convnext_tiny_caltech101_CLASSIC_AT\n",
      "1\n",
      "serialized_values convnext_tiny_fgvc-aircraft-2013b_CLASSIC_AT\n",
      "1\n",
      "serialized_values convnext_tiny_dtd_CLASSIC_AT\n",
      "1\n",
      "serialized_values convnext_tiny_flowers-102_CLASSIC_AT\n",
      "1\n",
      "serialized_values convnext_tiny_oxford-iiit-pet_CLASSIC_AT\n",
      "1\n",
      "serialized_values robust_convnext_tiny_stanford_cars_TRADES_v2\n",
      "1\n",
      "serialized_values robust_convnext_tiny_caltech101_TRADES_v2\n",
      "1\n",
      "serialized_values robust_convnext_tiny_fgvc-aircraft-2013b_TRADES_v2\n",
      "1\n",
      "serialized_values robust_convnext_tiny_dtd_TRADES_v2\n",
      "1\n",
      "serialized_values robust_convnext_tiny_flowers-102_TRADES_v2\n",
      "1\n",
      "serialized_values robust_convnext_tiny_oxford-iiit-pet_TRADES_v2\n",
      "1\n",
      "serialized_values robust_convnext_tiny_stanford_cars_CLASSIC_AT\n",
      "1\n",
      "serialized_values robust_convnext_tiny_caltech101_CLASSIC_AT\n",
      "1\n",
      "serialized_values robust_convnext_tiny_fgvc-aircraft-2013b_CLASSIC_AT\n",
      "1\n",
      "serialized_values robust_convnext_tiny_dtd_CLASSIC_AT\n",
      "1\n",
      "serialized_values robust_convnext_tiny_flowers-102_CLASSIC_AT\n",
      "1\n",
      "serialized_values robust_convnext_tiny_oxford-iiit-pet_CLASSIC_AT\n",
      "1\n",
      "serialized_values convnext_tiny.fb_in22k_stanford_cars_TRADES_v2\n",
      "1\n",
      "serialized_values convnext_tiny.fb_in22k_caltech101_TRADES_v2\n",
      "1\n",
      "serialized_values convnext_tiny.fb_in22k_fgvc-aircraft-2013b_TRADES_v2\n",
      "1\n",
      "serialized_values convnext_tiny.fb_in22k_dtd_TRADES_v2\n",
      "1\n",
      "serialized_values convnext_tiny.fb_in22k_flowers-102_TRADES_v2\n",
      "1\n",
      "serialized_values convnext_tiny.fb_in22k_oxford-iiit-pet_TRADES_v2\n",
      "1\n",
      "serialized_values convnext_tiny.fb_in22k_stanford_cars_CLASSIC_AT\n",
      "1\n",
      "serialized_values convnext_tiny.fb_in22k_caltech101_CLASSIC_AT\n",
      "1\n",
      "serialized_values convnext_tiny.fb_in22k_fgvc-aircraft-2013b_CLASSIC_AT\n",
      "1\n",
      "serialized_values convnext_tiny.fb_in22k_dtd_CLASSIC_AT\n",
      "1\n",
      "serialized_values convnext_tiny.fb_in22k_flowers-102_CLASSIC_AT\n",
      "1\n",
      "serialized_values convnext_tiny.fb_in22k_oxford-iiit-pet_CLASSIC_AT\n",
      "1\n",
      "serialized_values deit_small_patch16_224.fb_in1k_stanford_cars_TRADES_v2\n",
      "1\n",
      "serialized_values deit_small_patch16_224.fb_in1k_caltech101_TRADES_v2\n",
      "1\n",
      "serialized_values deit_small_patch16_224.fb_in1k_fgvc-aircraft-2013b_TRADES_v2\n",
      "1\n",
      "serialized_values deit_small_patch16_224.fb_in1k_dtd_TRADES_v2\n",
      "1\n",
      "serialized_values deit_small_patch16_224.fb_in1k_flowers-102_TRADES_v2\n",
      "1\n",
      "serialized_values deit_small_patch16_224.fb_in1k_oxford-iiit-pet_TRADES_v2\n",
      "1\n",
      "serialized_values deit_small_patch16_224.fb_in1k_stanford_cars_CLASSIC_AT\n",
      "1\n",
      "serialized_values deit_small_patch16_224.fb_in1k_caltech101_CLASSIC_AT\n",
      "1\n",
      "serialized_values deit_small_patch16_224.fb_in1k_fgvc-aircraft-2013b_CLASSIC_AT\n",
      "1\n",
      "serialized_values deit_small_patch16_224.fb_in1k_dtd_CLASSIC_AT\n",
      "1\n",
      "serialized_values deit_small_patch16_224.fb_in1k_flowers-102_CLASSIC_AT\n",
      "1\n",
      "serialized_values deit_small_patch16_224.fb_in1k_oxford-iiit-pet_CLASSIC_AT\n",
      "1\n",
      "serialized_values robust_deit_small_patch16_224_stanford_cars_TRADES_v2\n",
      "1\n",
      "serialized_values robust_deit_small_patch16_224_caltech101_TRADES_v2\n",
      "1\n",
      "serialized_values robust_deit_small_patch16_224_fgvc-aircraft-2013b_TRADES_v2\n",
      "1\n",
      "serialized_values robust_deit_small_patch16_224_dtd_TRADES_v2\n",
      "1\n",
      "serialized_values robust_deit_small_patch16_224_flowers-102_TRADES_v2\n",
      "1\n",
      "serialized_values robust_deit_small_patch16_224_oxford-iiit-pet_TRADES_v2\n",
      "1\n",
      "serialized_values robust_deit_small_patch16_224_stanford_cars_CLASSIC_AT\n",
      "1\n",
      "serialized_values robust_deit_small_patch16_224_caltech101_CLASSIC_AT\n",
      "1\n",
      "serialized_values robust_deit_small_patch16_224_fgvc-aircraft-2013b_CLASSIC_AT\n",
      "1\n",
      "serialized_values robust_deit_small_patch16_224_dtd_CLASSIC_AT\n",
      "1\n",
      "serialized_values robust_deit_small_patch16_224_flowers-102_CLASSIC_AT\n",
      "1\n",
      "serialized_values robust_deit_small_patch16_224_oxford-iiit-pet_CLASSIC_AT\n",
      "1\n",
      "serialized_values convnext_base_stanford_cars_TRADES_v2\n",
      "1\n",
      "serialized_values convnext_base_caltech101_TRADES_v2\n",
      "1\n",
      "serialized_values convnext_base_fgvc-aircraft-2013b_TRADES_v2\n",
      "1\n",
      "serialized_values convnext_base_dtd_TRADES_v2\n",
      "1\n",
      "serialized_values convnext_base_flowers-102_TRADES_v2\n",
      "1\n",
      "serialized_values convnext_base_oxford-iiit-pet_TRADES_v2\n",
      "1\n",
      "serialized_values convnext_base_stanford_cars_CLASSIC_AT\n",
      "1\n",
      "serialized_values convnext_base_caltech101_CLASSIC_AT\n",
      "1\n",
      "serialized_values convnext_base_fgvc-aircraft-2013b_CLASSIC_AT\n",
      "1\n",
      "serialized_values convnext_base_dtd_CLASSIC_AT\n",
      "1\n",
      "serialized_values convnext_base_flowers-102_CLASSIC_AT\n",
      "1\n",
      "serialized_values convnext_base_oxford-iiit-pet_CLASSIC_AT\n",
      "1\n",
      "serialized_values convnext_base.fb_in22k_stanford_cars_TRADES_v2\n",
      "1\n",
      "serialized_values convnext_base.fb_in22k_caltech101_TRADES_v2\n",
      "1\n",
      "serialized_values convnext_base.fb_in22k_fgvc-aircraft-2013b_TRADES_v2\n",
      "1\n",
      "serialized_values convnext_base.fb_in22k_dtd_TRADES_v2\n",
      "1\n",
      "serialized_values convnext_base.fb_in22k_flowers-102_TRADES_v2\n",
      "1\n",
      "serialized_values convnext_base.fb_in22k_oxford-iiit-pet_TRADES_v2\n",
      "1\n",
      "serialized_values convnext_base.fb_in22k_stanford_cars_CLASSIC_AT\n",
      "1\n",
      "serialized_values convnext_base.fb_in22k_caltech101_CLASSIC_AT\n",
      "1\n",
      "serialized_values convnext_base.fb_in22k_fgvc-aircraft-2013b_CLASSIC_AT\n",
      "1\n",
      "serialized_values convnext_base.fb_in22k_dtd_CLASSIC_AT\n",
      "1\n",
      "serialized_values convnext_base.fb_in22k_flowers-102_CLASSIC_AT\n",
      "1\n",
      "serialized_values convnext_base.fb_in22k_oxford-iiit-pet_CLASSIC_AT\n",
      "1\n",
      "serialized_values robust_convnext_base_stanford_cars_TRADES_v2\n",
      "1\n",
      "serialized_values robust_convnext_base_caltech101_TRADES_v2\n",
      "1\n",
      "serialized_values robust_convnext_base_fgvc-aircraft-2013b_TRADES_v2\n",
      "1\n",
      "serialized_values robust_convnext_base_dtd_TRADES_v2\n",
      "1\n",
      "serialized_values robust_convnext_base_flowers-102_TRADES_v2\n",
      "1\n",
      "serialized_values robust_convnext_base_oxford-iiit-pet_TRADES_v2\n",
      "1\n",
      "serialized_values robust_convnext_base_stanford_cars_CLASSIC_AT\n",
      "1\n",
      "serialized_values robust_convnext_base_caltech101_CLASSIC_AT\n",
      "1\n",
      "serialized_values robust_convnext_base_fgvc-aircraft-2013b_CLASSIC_AT\n",
      "1\n",
      "serialized_values robust_convnext_base_dtd_CLASSIC_AT\n",
      "1\n",
      "serialized_values robust_convnext_base_flowers-102_CLASSIC_AT\n",
      "1\n",
      "serialized_values robust_convnext_base_oxford-iiit-pet_CLASSIC_AT\n",
      "1\n",
      "serialized_values convnext_base.clip_laion2b_stanford_cars_TRADES_v2\n",
      "1\n",
      "serialized_values convnext_base.clip_laion2b_caltech101_TRADES_v2\n",
      "1\n",
      "serialized_values convnext_base.clip_laion2b_fgvc-aircraft-2013b_TRADES_v2\n",
      "1\n",
      "serialized_values convnext_base.clip_laion2b_dtd_TRADES_v2\n",
      "1\n",
      "serialized_values convnext_base.clip_laion2b_flowers-102_TRADES_v2\n",
      "1\n",
      "serialized_values convnext_base.clip_laion2b_oxford-iiit-pet_TRADES_v2\n",
      "1\n",
      "serialized_values convnext_base.clip_laion2b_stanford_cars_CLASSIC_AT\n",
      "1\n",
      "serialized_values convnext_base.clip_laion2b_caltech101_CLASSIC_AT\n",
      "1\n",
      "serialized_values convnext_base.clip_laion2b_fgvc-aircraft-2013b_CLASSIC_AT\n",
      "1\n",
      "serialized_values convnext_base.clip_laion2b_dtd_CLASSIC_AT\n",
      "1\n",
      "serialized_values convnext_base.clip_laion2b_flowers-102_CLASSIC_AT\n",
      "1\n",
      "serialized_values convnext_base.clip_laion2b_oxford-iiit-pet_CLASSIC_AT\n",
      "1\n",
      "serialized_values convnext_base.clip_laion2b_augreg_stanford_cars_TRADES_v2\n",
      "1\n",
      "serialized_values convnext_base.clip_laion2b_augreg_caltech101_TRADES_v2\n",
      "1\n",
      "serialized_values convnext_base.clip_laion2b_augreg_fgvc-aircraft-2013b_TRADES_v2\n",
      "1\n",
      "serialized_values convnext_base.clip_laion2b_augreg_dtd_TRADES_v2\n",
      "1\n",
      "serialized_values convnext_base.clip_laion2b_augreg_flowers-102_TRADES_v2\n",
      "1\n",
      "serialized_values convnext_base.clip_laion2b_augreg_oxford-iiit-pet_TRADES_v2\n",
      "1\n",
      "serialized_values convnext_base.clip_laion2b_augreg_stanford_cars_CLASSIC_AT\n",
      "1\n",
      "serialized_values convnext_base.clip_laion2b_augreg_caltech101_CLASSIC_AT\n",
      "1\n",
      "serialized_values convnext_base.clip_laion2b_augreg_fgvc-aircraft-2013b_CLASSIC_AT\n",
      "1\n",
      "serialized_values convnext_base.clip_laion2b_augreg_dtd_CLASSIC_AT\n",
      "1\n",
      "serialized_values convnext_base.clip_laion2b_augreg_flowers-102_CLASSIC_AT\n",
      "1\n",
      "serialized_values convnext_base.clip_laion2b_augreg_oxford-iiit-pet_CLASSIC_AT\n",
      "1\n",
      "serialized_values vit_base_patch16_224.augreg_in1k_stanford_cars_TRADES_v2\n",
      "1\n",
      "serialized_values vit_base_patch16_224.augreg_in1k_caltech101_TRADES_v2\n",
      "1\n",
      "serialized_values vit_base_patch16_224.augreg_in1k_fgvc-aircraft-2013b_TRADES_v2\n",
      "1\n",
      "serialized_values vit_base_patch16_224.augreg_in1k_dtd_TRADES_v2\n",
      "1\n",
      "serialized_values vit_base_patch16_224.augreg_in1k_flowers-102_TRADES_v2\n",
      "1\n",
      "serialized_values vit_base_patch16_224.augreg_in1k_oxford-iiit-pet_TRADES_v2\n",
      "1\n",
      "serialized_values vit_base_patch16_224.augreg_in1k_stanford_cars_CLASSIC_AT\n",
      "1\n",
      "serialized_values vit_base_patch16_224.augreg_in1k_caltech101_CLASSIC_AT\n",
      "1\n",
      "serialized_values vit_base_patch16_224.augreg_in1k_fgvc-aircraft-2013b_CLASSIC_AT\n",
      "1\n",
      "serialized_values vit_base_patch16_224.augreg_in1k_dtd_CLASSIC_AT\n",
      "1\n",
      "serialized_values vit_base_patch16_224.augreg_in1k_flowers-102_CLASSIC_AT\n",
      "1\n",
      "serialized_values vit_base_patch16_224.augreg_in1k_oxford-iiit-pet_CLASSIC_AT\n",
      "1\n",
      "serialized_values vit_base_patch16_224.augreg_in21k_stanford_cars_TRADES_v2\n",
      "1\n",
      "serialized_values vit_base_patch16_224.augreg_in21k_caltech101_TRADES_v2\n",
      "1\n",
      "serialized_values vit_base_patch16_224.augreg_in21k_fgvc-aircraft-2013b_TRADES_v2\n",
      "1\n",
      "serialized_values vit_base_patch16_224.augreg_in21k_dtd_TRADES_v2\n",
      "1\n",
      "serialized_values vit_base_patch16_224.augreg_in21k_flowers-102_TRADES_v2\n",
      "1\n",
      "serialized_values vit_base_patch16_224.augreg_in21k_oxford-iiit-pet_TRADES_v2\n",
      "1\n",
      "serialized_values vit_base_patch16_224.augreg_in21k_stanford_cars_CLASSIC_AT\n",
      "1\n",
      "serialized_values vit_base_patch16_224.augreg_in21k_caltech101_CLASSIC_AT\n",
      "1\n",
      "serialized_values vit_base_patch16_224.augreg_in21k_fgvc-aircraft-2013b_CLASSIC_AT\n",
      "1\n",
      "serialized_values vit_base_patch16_224.augreg_in21k_dtd_CLASSIC_AT\n",
      "1\n",
      "serialized_values vit_base_patch16_224.augreg_in21k_flowers-102_CLASSIC_AT\n",
      "1\n",
      "serialized_values vit_base_patch16_224.augreg_in21k_oxford-iiit-pet_CLASSIC_AT\n",
      "1\n",
      "serialized_values vit_base_patch16_224.dino_stanford_cars_TRADES_v2\n",
      "1\n",
      "serialized_values vit_base_patch16_224.dino_caltech101_TRADES_v2\n",
      "1\n",
      "serialized_values vit_base_patch16_224.dino_fgvc-aircraft-2013b_TRADES_v2\n",
      "1\n",
      "serialized_values vit_base_patch16_224.dino_dtd_TRADES_v2\n",
      "1\n",
      "serialized_values vit_base_patch16_224.dino_flowers-102_TRADES_v2\n",
      "1\n",
      "serialized_values vit_base_patch16_224.dino_oxford-iiit-pet_TRADES_v2\n",
      "1\n",
      "serialized_values vit_base_patch16_224.dino_stanford_cars_CLASSIC_AT\n",
      "1\n",
      "serialized_values vit_base_patch16_224.dino_caltech101_CLASSIC_AT\n",
      "1\n",
      "serialized_values vit_base_patch16_224.dino_fgvc-aircraft-2013b_CLASSIC_AT\n",
      "1\n",
      "serialized_values vit_base_patch16_224.dino_dtd_CLASSIC_AT\n",
      "1\n",
      "serialized_values vit_base_patch16_224.dino_flowers-102_CLASSIC_AT\n",
      "1\n",
      "serialized_values vit_base_patch16_224.dino_oxford-iiit-pet_CLASSIC_AT\n",
      "1\n",
      "serialized_values vit_base_patch16_224.mae_stanford_cars_TRADES_v2\n",
      "1\n",
      "serialized_values vit_base_patch16_224.mae_caltech101_TRADES_v2\n",
      "1\n",
      "serialized_values vit_base_patch16_224.mae_fgvc-aircraft-2013b_TRADES_v2\n",
      "1\n",
      "serialized_values vit_base_patch16_224.mae_dtd_TRADES_v2\n",
      "1\n",
      "serialized_values vit_base_patch16_224.mae_flowers-102_TRADES_v2\n",
      "1\n",
      "serialized_values vit_base_patch16_224.mae_oxford-iiit-pet_TRADES_v2\n",
      "1\n",
      "serialized_values vit_base_patch16_224.mae_stanford_cars_CLASSIC_AT\n",
      "1\n",
      "serialized_values vit_base_patch16_224.mae_caltech101_CLASSIC_AT\n",
      "1\n",
      "serialized_values vit_base_patch16_224.mae_fgvc-aircraft-2013b_CLASSIC_AT\n",
      "1\n",
      "serialized_values vit_base_patch16_224.mae_dtd_CLASSIC_AT\n",
      "1\n",
      "serialized_values vit_base_patch16_224.mae_flowers-102_CLASSIC_AT\n",
      "1\n",
      "serialized_values vit_base_patch16_224.mae_oxford-iiit-pet_CLASSIC_AT\n",
      "1\n",
      "serialized_values vit_base_patch16_224.orig_in21k_stanford_cars_TRADES_v2\n",
      "1\n",
      "serialized_values vit_base_patch16_224.orig_in21k_caltech101_TRADES_v2\n",
      "1\n",
      "serialized_values vit_base_patch16_224.orig_in21k_fgvc-aircraft-2013b_TRADES_v2\n",
      "1\n",
      "serialized_values vit_base_patch16_224.orig_in21k_dtd_TRADES_v2\n",
      "1\n",
      "serialized_values vit_base_patch16_224.orig_in21k_flowers-102_TRADES_v2\n",
      "1\n",
      "serialized_values vit_base_patch16_224.orig_in21k_oxford-iiit-pet_TRADES_v2\n",
      "1\n",
      "serialized_values vit_base_patch16_224.orig_in21k_stanford_cars_CLASSIC_AT\n",
      "1\n",
      "serialized_values vit_base_patch16_224.orig_in21k_caltech101_CLASSIC_AT\n",
      "1\n",
      "serialized_values vit_base_patch16_224.orig_in21k_fgvc-aircraft-2013b_CLASSIC_AT\n",
      "1\n",
      "serialized_values vit_base_patch16_224.orig_in21k_dtd_CLASSIC_AT\n",
      "1\n",
      "serialized_values vit_base_patch16_224.orig_in21k_flowers-102_CLASSIC_AT\n",
      "1\n",
      "serialized_values vit_base_patch16_224.orig_in21k_oxford-iiit-pet_CLASSIC_AT\n",
      "1\n",
      "serialized_values vit_base_patch16_224.sam_in1k_stanford_cars_TRADES_v2\n",
      "1\n",
      "serialized_values vit_base_patch16_224.sam_in1k_caltech101_TRADES_v2\n",
      "1\n",
      "serialized_values vit_base_patch16_224.sam_in1k_fgvc-aircraft-2013b_TRADES_v2\n",
      "1\n",
      "serialized_values vit_base_patch16_224.sam_in1k_dtd_TRADES_v2\n",
      "1\n",
      "serialized_values vit_base_patch16_224.sam_in1k_flowers-102_TRADES_v2\n",
      "1\n",
      "serialized_values vit_base_patch16_224.sam_in1k_oxford-iiit-pet_TRADES_v2\n",
      "1\n",
      "serialized_values vit_base_patch16_224.sam_in1k_stanford_cars_CLASSIC_AT\n",
      "1\n",
      "serialized_values vit_base_patch16_224.sam_in1k_caltech101_CLASSIC_AT\n",
      "1\n",
      "serialized_values vit_base_patch16_224.sam_in1k_fgvc-aircraft-2013b_CLASSIC_AT\n",
      "1\n",
      "serialized_values vit_base_patch16_224.sam_in1k_dtd_CLASSIC_AT\n",
      "1\n",
      "serialized_values vit_base_patch16_224.sam_in1k_flowers-102_CLASSIC_AT\n",
      "1\n",
      "serialized_values vit_base_patch16_224.sam_in1k_oxford-iiit-pet_CLASSIC_AT\n",
      "1\n",
      "serialized_values vit_base_patch16_224_miil.in21k_stanford_cars_TRADES_v2\n",
      "1\n",
      "serialized_values vit_base_patch16_224_miil.in21k_caltech101_TRADES_v2\n",
      "1\n",
      "serialized_values vit_base_patch16_224_miil.in21k_fgvc-aircraft-2013b_TRADES_v2\n",
      "1\n",
      "serialized_values vit_base_patch16_224_miil.in21k_dtd_TRADES_v2\n",
      "1\n",
      "serialized_values vit_base_patch16_224_miil.in21k_flowers-102_TRADES_v2\n",
      "1\n",
      "serialized_values vit_base_patch16_224_miil.in21k_oxford-iiit-pet_TRADES_v2\n",
      "1\n",
      "serialized_values vit_base_patch16_224_miil.in21k_stanford_cars_CLASSIC_AT\n",
      "1\n",
      "serialized_values vit_base_patch16_224_miil.in21k_caltech101_CLASSIC_AT\n",
      "1\n",
      "serialized_values vit_base_patch16_224_miil.in21k_fgvc-aircraft-2013b_CLASSIC_AT\n",
      "1\n",
      "serialized_values vit_base_patch16_224_miil.in21k_dtd_CLASSIC_AT\n",
      "1\n",
      "serialized_values vit_base_patch16_224_miil.in21k_flowers-102_CLASSIC_AT\n",
      "1\n",
      "serialized_values vit_base_patch16_224_miil.in21k_oxford-iiit-pet_CLASSIC_AT\n",
      "1\n"
     ]
    }
   ],
   "source": [
    "\n",
    "\n",
    "            "
   ]
  },
  {
   "cell_type": "code",
   "execution_count": null,
   "metadata": {},
   "outputs": [
    {
     "data": {
      "text/html": [
       "<div>\n",
       "<style scoped>\n",
       "    .dataframe tbody tr th:only-of-type {\n",
       "        vertical-align: middle;\n",
       "    }\n",
       "\n",
       "    .dataframe tbody tr th {\n",
       "        vertical-align: top;\n",
       "    }\n",
       "\n",
       "    .dataframe thead th {\n",
       "        text-align: right;\n",
       "    }\n",
       "</style>\n",
       "<table border=\"1\" class=\"dataframe\">\n",
       "  <thead>\n",
       "    <tr style=\"text-align: right;\">\n",
       "      <th></th>\n",
       "      <th>dataset</th>\n",
       "      <th>backbone</th>\n",
       "      <th>loss_function</th>\n",
       "      <th>MeanPairwiseDistance</th>\n",
       "      <th>VariancePairwiseDistance</th>\n",
       "      <th>MeanSTD</th>\n",
       "      <th>VarianceSTD</th>\n",
       "      <th>MeanAbsChange</th>\n",
       "      <th>VarianceAbsChange</th>\n",
       "    </tr>\n",
       "  </thead>\n",
       "  <tbody>\n",
       "    <tr>\n",
       "      <th>0</th>\n",
       "      <td>stanford_cars</td>\n",
       "      <td>convnext_tiny</td>\n",
       "      <td>TRADES_v2</td>\n",
       "      <td>NaN</td>\n",
       "      <td>NaN</td>\n",
       "      <td>NaN</td>\n",
       "      <td>NaN</td>\n",
       "      <td>NaN</td>\n",
       "      <td>NaN</td>\n",
       "    </tr>\n",
       "    <tr>\n",
       "      <th>1</th>\n",
       "      <td>caltech101</td>\n",
       "      <td>convnext_tiny</td>\n",
       "      <td>TRADES_v2</td>\n",
       "      <td>NaN</td>\n",
       "      <td>NaN</td>\n",
       "      <td>NaN</td>\n",
       "      <td>NaN</td>\n",
       "      <td>NaN</td>\n",
       "      <td>NaN</td>\n",
       "    </tr>\n",
       "    <tr>\n",
       "      <th>2</th>\n",
       "      <td>fgvc-aircraft-2013b</td>\n",
       "      <td>convnext_tiny</td>\n",
       "      <td>TRADES_v2</td>\n",
       "      <td>NaN</td>\n",
       "      <td>NaN</td>\n",
       "      <td>NaN</td>\n",
       "      <td>NaN</td>\n",
       "      <td>NaN</td>\n",
       "      <td>NaN</td>\n",
       "    </tr>\n",
       "    <tr>\n",
       "      <th>3</th>\n",
       "      <td>dtd</td>\n",
       "      <td>convnext_tiny</td>\n",
       "      <td>TRADES_v2</td>\n",
       "      <td>NaN</td>\n",
       "      <td>NaN</td>\n",
       "      <td>NaN</td>\n",
       "      <td>NaN</td>\n",
       "      <td>NaN</td>\n",
       "      <td>NaN</td>\n",
       "    </tr>\n",
       "    <tr>\n",
       "      <th>4</th>\n",
       "      <td>flowers-102</td>\n",
       "      <td>convnext_tiny</td>\n",
       "      <td>TRADES_v2</td>\n",
       "      <td>NaN</td>\n",
       "      <td>NaN</td>\n",
       "      <td>NaN</td>\n",
       "      <td>NaN</td>\n",
       "      <td>NaN</td>\n",
       "      <td>NaN</td>\n",
       "    </tr>\n",
       "    <tr>\n",
       "      <th>...</th>\n",
       "      <td>...</td>\n",
       "      <td>...</td>\n",
       "      <td>...</td>\n",
       "      <td>...</td>\n",
       "      <td>...</td>\n",
       "      <td>...</td>\n",
       "      <td>...</td>\n",
       "      <td>...</td>\n",
       "      <td>...</td>\n",
       "    </tr>\n",
       "    <tr>\n",
       "      <th>199</th>\n",
       "      <td>caltech101</td>\n",
       "      <td>vit_base_patch16_224_miil.in21k</td>\n",
       "      <td>CLASSIC_AT</td>\n",
       "      <td>NaN</td>\n",
       "      <td>NaN</td>\n",
       "      <td>NaN</td>\n",
       "      <td>NaN</td>\n",
       "      <td>NaN</td>\n",
       "      <td>NaN</td>\n",
       "    </tr>\n",
       "    <tr>\n",
       "      <th>200</th>\n",
       "      <td>fgvc-aircraft-2013b</td>\n",
       "      <td>vit_base_patch16_224_miil.in21k</td>\n",
       "      <td>CLASSIC_AT</td>\n",
       "      <td>NaN</td>\n",
       "      <td>NaN</td>\n",
       "      <td>NaN</td>\n",
       "      <td>NaN</td>\n",
       "      <td>NaN</td>\n",
       "      <td>NaN</td>\n",
       "    </tr>\n",
       "    <tr>\n",
       "      <th>201</th>\n",
       "      <td>dtd</td>\n",
       "      <td>vit_base_patch16_224_miil.in21k</td>\n",
       "      <td>CLASSIC_AT</td>\n",
       "      <td>NaN</td>\n",
       "      <td>NaN</td>\n",
       "      <td>NaN</td>\n",
       "      <td>NaN</td>\n",
       "      <td>NaN</td>\n",
       "      <td>NaN</td>\n",
       "    </tr>\n",
       "    <tr>\n",
       "      <th>202</th>\n",
       "      <td>flowers-102</td>\n",
       "      <td>vit_base_patch16_224_miil.in21k</td>\n",
       "      <td>CLASSIC_AT</td>\n",
       "      <td>NaN</td>\n",
       "      <td>NaN</td>\n",
       "      <td>NaN</td>\n",
       "      <td>NaN</td>\n",
       "      <td>NaN</td>\n",
       "      <td>NaN</td>\n",
       "    </tr>\n",
       "    <tr>\n",
       "      <th>203</th>\n",
       "      <td>oxford-iiit-pet</td>\n",
       "      <td>vit_base_patch16_224_miil.in21k</td>\n",
       "      <td>CLASSIC_AT</td>\n",
       "      <td>NaN</td>\n",
       "      <td>NaN</td>\n",
       "      <td>NaN</td>\n",
       "      <td>NaN</td>\n",
       "      <td>NaN</td>\n",
       "      <td>NaN</td>\n",
       "    </tr>\n",
       "  </tbody>\n",
       "</table>\n",
       "<p>204 rows × 9 columns</p>\n",
       "</div>"
      ],
      "text/plain": [
       "                 dataset                         backbone loss_function  \\\n",
       "0          stanford_cars                    convnext_tiny     TRADES_v2   \n",
       "1             caltech101                    convnext_tiny     TRADES_v2   \n",
       "2    fgvc-aircraft-2013b                    convnext_tiny     TRADES_v2   \n",
       "3                    dtd                    convnext_tiny     TRADES_v2   \n",
       "4            flowers-102                    convnext_tiny     TRADES_v2   \n",
       "..                   ...                              ...           ...   \n",
       "199           caltech101  vit_base_patch16_224_miil.in21k    CLASSIC_AT   \n",
       "200  fgvc-aircraft-2013b  vit_base_patch16_224_miil.in21k    CLASSIC_AT   \n",
       "201                  dtd  vit_base_patch16_224_miil.in21k    CLASSIC_AT   \n",
       "202          flowers-102  vit_base_patch16_224_miil.in21k    CLASSIC_AT   \n",
       "203      oxford-iiit-pet  vit_base_patch16_224_miil.in21k    CLASSIC_AT   \n",
       "\n",
       "     MeanPairwiseDistance  VariancePairwiseDistance  MeanSTD  VarianceSTD  \\\n",
       "0                     NaN                       NaN      NaN          NaN   \n",
       "1                     NaN                       NaN      NaN          NaN   \n",
       "2                     NaN                       NaN      NaN          NaN   \n",
       "3                     NaN                       NaN      NaN          NaN   \n",
       "4                     NaN                       NaN      NaN          NaN   \n",
       "..                    ...                       ...      ...          ...   \n",
       "199                   NaN                       NaN      NaN          NaN   \n",
       "200                   NaN                       NaN      NaN          NaN   \n",
       "201                   NaN                       NaN      NaN          NaN   \n",
       "202                   NaN                       NaN      NaN          NaN   \n",
       "203                   NaN                       NaN      NaN          NaN   \n",
       "\n",
       "     MeanAbsChange  VarianceAbsChange  \n",
       "0              NaN                NaN  \n",
       "1              NaN                NaN  \n",
       "2              NaN                NaN  \n",
       "3              NaN                NaN  \n",
       "4              NaN                NaN  \n",
       "..             ...                ...  \n",
       "199            NaN                NaN  \n",
       "200            NaN                NaN  \n",
       "201            NaN                NaN  \n",
       "202            NaN                NaN  \n",
       "203            NaN                NaN  \n",
       "\n",
       "[204 rows x 9 columns]"
      ]
     },
     "execution_count": 4,
     "metadata": {},
     "output_type": "execute_result"
    }
   ],
   "source": [
    "pd.DataFrame(final_data)"
   ]
  },
  {
   "cell_type": "code",
   "execution_count": null,
   "metadata": {},
   "outputs": [
    {
     "data": {
      "application/vnd.plotly.v1+json": {
       "config": {
        "plotlyServerURL": "https://plot.ly"
       },
       "data": [
        {
         "mode": "lines+markers",
         "name": "Loss List 1",
         "type": "scatter",
         "y": [
          4.699558988530585
         ]
        },
        {
         "mode": "lines+markers",
         "name": "Loss List 2",
         "type": "scatter",
         "y": [
          4.620637674534574,
          4.650214532081117
         ]
        },
        {
         "mode": "lines+markers",
         "name": "Loss List 3",
         "type": "scatter",
         "y": [
          4.703609645113032
         ]
        },
        {
         "mode": "lines+markers",
         "name": "Loss List 4",
         "type": "scatter",
         "y": [
          4.703897938829787
         ]
        },
        {
         "mode": "lines+markers",
         "name": "Loss List 5",
         "type": "scatter",
         "y": [
          4.748492561502659
         ]
        },
        {
         "mode": "lines+markers",
         "name": "Loss List 6",
         "type": "scatter",
         "y": [
          4.70934746924867
         ]
        },
        {
         "mode": "lines+markers",
         "name": "Loss List 7",
         "type": "scatter",
         "y": [
          4.569495408078457,
          4.556504529587766,
          3.8940188144115693,
          3.9503791971409576,
          3.8819977455950796
         ]
        },
        {
         "mode": "lines+markers",
         "name": "Loss List 8",
         "type": "scatter",
         "y": [
          4.837743621176862
         ]
        },
        {
         "mode": "lines+markers",
         "name": "Loss List 9",
         "type": "scatter",
         "y": [
          4.612688559674202,
          4.641430144614362
         ]
        },
        {
         "mode": "lines+markers",
         "name": "Loss List 10",
         "type": "scatter",
         "y": [
          4.781754903590426
         ]
        },
        {
         "mode": "lines+markers",
         "name": "Loss List 11",
         "type": "scatter",
         "y": [
          4.6805196559175535
         ]
        },
        {
         "mode": "lines+markers",
         "name": "Loss List 12",
         "type": "scatter",
         "y": [
          4.630327460106383,
          4.634822764295213
         ]
        },
        {
         "mode": "lines+markers",
         "name": "Loss List 13",
         "type": "scatter",
         "y": [
          4.655460438829787,
          4.75361016456117
         ]
        },
        {
         "mode": "lines+markers",
         "name": "Loss List 14",
         "type": "scatter",
         "y": [
          4.701935463763298
         ]
        },
        {
         "mode": "lines+markers",
         "name": "Loss List 15",
         "type": "scatter",
         "y": [
          4.655092150099734,
          4.640799534574468
         ]
        },
        {
         "mode": "lines+markers",
         "name": "Loss List 16",
         "type": "scatter",
         "y": [
          4.679306225066489,
          11.728742104388298
         ]
        },
        {
         "mode": "lines+markers",
         "name": "Loss List 17",
         "type": "scatter",
         "y": [
          4.758467004654255
         ]
        },
        {
         "mode": "lines+markers",
         "name": "Loss List 18",
         "type": "scatter",
         "y": [
          4.671733710106383,
          4.720550926695479
         ]
        },
        {
         "mode": "lines+markers",
         "name": "Loss List 19",
         "type": "scatter",
         "y": [
          4.581476998836436,
          4.606943463264628,
          5.030024102393617,
          8.633729325964095
         ]
        },
        {
         "mode": "lines+markers",
         "name": "Loss List 20",
         "type": "scatter",
         "y": [
          4.6828883394281915
         ]
        },
        {
         "mode": "lines+markers",
         "name": "Loss List 21",
         "type": "scatter",
         "y": [
          4.678145258477394
         ]
        },
        {
         "mode": "lines+markers",
         "name": "Loss List 22",
         "type": "scatter",
         "y": [
          4.602014939328457,
          4.556013651097074,
          7.66159044630984,
          6.0647523271276595
         ]
        },
        {
         "mode": "lines+markers",
         "name": "Loss List 23",
         "type": "scatter",
         "y": [
          4.6410041971409575,
          6.665589158078458
         ]
        },
        {
         "mode": "lines+markers",
         "name": "Loss List 24",
         "type": "scatter",
         "y": [
          4.652188435006649,
          4.624931432845744
         ]
        },
        {
         "mode": "lines+markers",
         "name": "Loss List 25",
         "type": "scatter",
         "y": [
          4.6723009474734045,
          4.6736322930518615
         ]
        },
        {
         "mode": "lines+markers",
         "name": "Loss List 26",
         "type": "scatter",
         "y": [
          4.7059056058843085
         ]
        },
        {
         "mode": "lines+markers",
         "name": "Loss List 27",
         "type": "scatter",
         "y": [
          4.6825688788231385
         ]
        },
        {
         "mode": "lines+markers",
         "name": "Loss List 28",
         "type": "scatter",
         "y": [
          4.749155377327128
         ]
        },
        {
         "mode": "lines+markers",
         "name": "Loss List 29",
         "type": "scatter",
         "y": [
          4.614435983211436,
          4.629746717087766,
          3.953574842087766,
          4.010074177194149,
          3.925688528507314
         ]
        },
        {
         "mode": "lines+markers",
         "name": "Loss List 30",
         "type": "scatter",
         "y": [
          4.736736411236702
         ]
        },
        {
         "mode": "lines+markers",
         "name": "Loss List 31",
         "type": "scatter",
         "y": [
          4.654779961768617,
          4.633637383643617,
          3.5522975191156916,
          3.164374688331117,
          3.046627223238032
         ]
        },
        {
         "mode": "lines+markers",
         "name": "Loss List 32",
         "type": "scatter",
         "y": [
          4.66927775930851,
          3.9163163854720744,
          3.591517931349734,
          3.122640406831782,
          2.979595297955452
         ]
        },
        {
         "mode": "lines+markers",
         "name": "Loss List 33",
         "type": "scatter",
         "y": [
          4.621612159242021,
          4.559995740525266,
          6.804100004155585,
          5.676768201462766
         ]
        },
        {
         "mode": "lines+markers",
         "name": "Loss List 34",
         "type": "scatter",
         "y": [
          4.755950278424202
         ]
        },
        {
         "mode": "lines+markers",
         "name": "Loss List 35",
         "type": "scatter",
         "y": [
          4.727001433676862
         ]
        },
        {
         "mode": "lines+markers",
         "name": "Loss List 36",
         "type": "scatter",
         "y": [
          4.712536880817819
         ]
        },
        {
         "mode": "lines+markers",
         "name": "Loss List 37",
         "type": "scatter",
         "y": [
          4.693716755319149
         ]
        },
        {
         "mode": "lines+markers",
         "name": "Loss List 38",
         "type": "scatter",
         "y": [
          4.727951504321808
         ]
        },
        {
         "mode": "lines+markers",
         "name": "Loss List 39",
         "type": "scatter",
         "y": [
          4.742382293051862
         ]
        },
        {
         "mode": "lines+markers",
         "name": "Loss List 40",
         "type": "scatter",
         "y": [
          4.734703291223404
         ]
        },
        {
         "mode": "lines+markers",
         "name": "Loss List 41",
         "type": "scatter",
         "y": [
          4.617957322140957,
          4.6155008518949465,
          3.916833755817819,
          3.9093516248337767,
          3.8950275826961436
         ]
        },
        {
         "mode": "lines+markers",
         "name": "Loss List 42",
         "type": "scatter",
         "y": [
          4.720546771110373
         ]
        },
        {
         "mode": "lines+markers",
         "name": "Loss List 43",
         "type": "scatter",
         "y": [
          4.674656644780585
         ]
        },
        {
         "mode": "lines+markers",
         "name": "Loss List 44",
         "type": "scatter",
         "y": [
          4.657611473570479,
          4.607677443484042,
          6.402142204122341,
          5.301512632978723
         ]
        },
        {
         "mode": "lines+markers",
         "name": "Loss List 45",
         "type": "scatter",
         "y": [
          4.668498587101064,
          4.67379747755984
         ]
        },
        {
         "mode": "lines+markers",
         "name": "Loss List 46",
         "type": "scatter",
         "y": [
          4.720304708277926
         ]
        },
        {
         "mode": "lines+markers",
         "name": "Loss List 47",
         "type": "scatter",
         "y": [
          4.637241314827127,
          4.597040703956117,
          3.855662244431516,
          3.6908636864195477,
          3.677197525349069
         ]
        },
        {
         "mode": "lines+markers",
         "name": "Loss List 48",
         "type": "scatter",
         "y": [
          4.621733710106383,
          4.611664727393617,
          3.9165727331283247,
          3.8961179043384306,
          3.8462220536901595
         ]
        },
        {
         "mode": "lines+markers",
         "name": "Loss List 49",
         "type": "scatter",
         "y": [
          4.656366875831117,
          4.65867322556516
         ]
        },
        {
         "mode": "lines+markers",
         "name": "Loss List 50",
         "type": "scatter",
         "y": [
          4.7333361037234045
         ]
        },
        {
         "mode": "lines+markers",
         "name": "Loss List 51",
         "type": "scatter",
         "y": [
          4.679557637965425
         ]
        },
        {
         "mode": "lines+markers",
         "name": "Loss List 52",
         "type": "scatter",
         "y": [
          4.658069107380319,
          4.674785987367021
         ]
        },
        {
         "mode": "lines+markers",
         "name": "Loss List 53",
         "type": "scatter",
         "y": [
          4.711663688497341
         ]
        },
        {
         "mode": "lines+markers",
         "name": "Loss List 54",
         "type": "scatter",
         "y": [
          4.676361473570479
         ]
        },
        {
         "mode": "lines+markers",
         "name": "Loss List 55",
         "type": "scatter",
         "y": [
          4.649942860704787,
          9.107129945146276
         ]
        },
        {
         "mode": "lines+markers",
         "name": "Loss List 56",
         "type": "scatter",
         "y": [
          4.816885700631649
         ]
        },
        {
         "mode": "lines+markers",
         "name": "Loss List 57",
         "type": "scatter",
         "y": [
          4.534609790558511,
          4.53147595994016,
          3.687977892287234
         ]
        },
        {
         "mode": "lines+markers",
         "name": "Loss List 58",
         "type": "scatter",
         "y": [
          4.759126703789893
         ]
        },
        {
         "mode": "lines+markers",
         "name": "Loss List 59",
         "type": "scatter",
         "y": [
          4.670581574135638,
          4.643455992353723
         ]
        },
        {
         "mode": "lines+markers",
         "name": "Loss List 60",
         "type": "scatter",
         "y": [
          4.7555014752327125
         ]
        },
        {
         "mode": "lines+markers",
         "name": "Loss List 61",
         "type": "scatter",
         "y": [
          4.701813393450798
         ]
        },
        {
         "mode": "lines+markers",
         "name": "Loss List 62",
         "type": "scatter",
         "y": [
          4.676454974235372
         ]
        },
        {
         "mode": "lines+markers",
         "name": "Loss List 63",
         "type": "scatter",
         "y": [
          4.652358813996011,
          4.670622091090426
         ]
        },
        {
         "mode": "lines+markers",
         "name": "Loss List 64",
         "type": "scatter",
         "y": [
          4.641351188497341,
          4.15007635887633,
          5.709621218417553,
          5.791353785738032
         ]
        },
        {
         "mode": "lines+markers",
         "name": "Loss List 65",
         "type": "scatter",
         "y": [
          4.682837952958777
         ]
        },
        {
         "mode": "lines+markers",
         "name": "Loss List 66",
         "type": "scatter",
         "y": [
          4.526961955618351,
          4.568579621010638,
          4.421734229554521,
          4.415525265957447
         ]
        },
        {
         "mode": "lines+markers",
         "name": "Loss List 67",
         "type": "scatter",
         "y": [
          4.710076774434841
         ]
        },
        {
         "mode": "lines+markers",
         "name": "Loss List 68",
         "type": "scatter",
         "y": [
          4.6900146484375
         ]
        },
        {
         "mode": "lines+markers",
         "name": "Loss List 69",
         "type": "scatter",
         "y": [
          4.616972448470745,
          4.604075070644947,
          5.981732047872341,
          4.8255838597074465
         ]
        },
        {
         "mode": "lines+markers",
         "name": "Loss List 70",
         "type": "scatter",
         "y": [
          4.6419454371675535,
          4.596851624833777,
          4.3038389814660905,
          4.281720620013298
         ]
        },
        {
         "mode": "lines+markers",
         "name": "Loss List 71",
         "type": "scatter",
         "y": [
          4.674834815492021,
          4.644762923869681,
          3.8735484021775264,
          3.742188798620346,
          3.680266944398271
         ]
        },
        {
         "mode": "lines+markers",
         "name": "Loss List 72",
         "type": "scatter",
         "y": [
          4.672429251163564,
          6.759714199634309
         ]
        },
        {
         "mode": "lines+markers",
         "name": "Loss List 73",
         "type": "scatter",
         "y": [
          4.679444398271277
         ]
        },
        {
         "mode": "lines+markers",
         "name": "Loss List 74",
         "type": "scatter",
         "y": [
          4.6702610746343085,
          4.635389482214095
         ]
        },
        {
         "mode": "lines+markers",
         "name": "Loss List 75",
         "type": "scatter",
         "y": [
          4.754155065658245
         ]
        },
        {
         "mode": "lines+markers",
         "name": "Loss List 76",
         "type": "scatter",
         "y": [
          4.704824634308511
         ]
        },
        {
         "mode": "lines+markers",
         "name": "Loss List 77",
         "type": "scatter",
         "y": [
          4.711545773769947
         ]
        },
        {
         "mode": "lines+markers",
         "name": "Loss List 78",
         "type": "scatter",
         "y": [
          4.640376703789894,
          4.570180560172872,
          3.943422487948803,
          3.8884630568484044,
          3.886106580369016
         ]
        },
        {
         "mode": "lines+markers",
         "name": "Loss List 79",
         "type": "scatter",
         "y": [
          4.738575777094415
         ]
        },
        {
         "mode": "lines+markers",
         "name": "Loss List 80",
         "type": "scatter",
         "y": [
          4.612428835605053,
          4.597046937333777,
          4.159882500831117,
          4.027956439079122,
          4.029240514876995
         ]
        },
        {
         "mode": "lines+markers",
         "name": "Loss List 81",
         "type": "scatter",
         "y": [
          4.669709940159574,
          4.68264783494016
         ]
        },
        {
         "mode": "lines+markers",
         "name": "Loss List 82",
         "type": "scatter",
         "y": [
          4.681816717918883
         ]
        },
        {
         "mode": "lines+markers",
         "name": "Loss List 83",
         "type": "scatter",
         "y": [
          4.61648884225399,
          4.649188622007979
         ]
        },
        {
         "mode": "lines+markers",
         "name": "Loss List 84",
         "type": "scatter",
         "y": [
          4.585352601396276,
          6.875733460771277
         ]
        },
        {
         "mode": "lines+markers",
         "name": "Loss List 85",
         "type": "scatter",
         "y": [
          4.674634827958776,
          4.634530834441489,
          3.8517326192652925,
          3.7069138547207445,
          3.6590635908410905
         ]
        },
        {
         "mode": "lines+markers",
         "name": "Loss List 86",
         "type": "scatter",
         "y": [
          4.811355136303192
         ]
        },
        {
         "mode": "lines+markers",
         "name": "Loss List 87",
         "type": "scatter",
         "y": [
          4.694242956283245
         ]
        },
        {
         "mode": "lines+markers",
         "name": "Loss List 88",
         "type": "scatter",
         "y": [
          4.690766289893617
         ]
        },
        {
         "mode": "lines+markers",
         "name": "Loss List 89",
         "type": "scatter",
         "y": [
          4.5678955078125,
          4.570035634142287,
          4.552429458942819,
          5.531184030086436
         ]
        },
        {
         "mode": "lines+markers",
         "name": "Loss List 90",
         "type": "scatter",
         "y": [
          4.573969414893617,
          4.564487928025266,
          4.242278403424202,
          4.178591464428192
         ]
        },
        {
         "mode": "lines+markers",
         "name": "Loss List 91",
         "type": "scatter",
         "y": [
          4.647014731549202,
          4.675010388962766
         ]
        },
        {
         "mode": "lines+markers",
         "name": "Loss List 92",
         "type": "scatter",
         "y": [
          4.5884786402925535,
          4.637413252160904,
          4.297102518284574,
          4.190378262134309
         ]
        },
        {
         "mode": "lines+markers",
         "name": "Loss List 93",
         "type": "scatter",
         "y": [
          4.666759474734042,
          3.9233024434840424,
          3.9052599318484043,
          3.8749207841589097,
          3.895985704787234
         ]
        },
        {
         "mode": "lines+markers",
         "name": "Loss List 94",
         "type": "scatter",
         "y": [
          4.7110107421875
         ]
        },
        {
         "mode": "lines+markers",
         "name": "Loss List 95",
         "type": "scatter",
         "y": [
          4.73146349318484
         ]
        }
       ],
       "layout": {
        "legend": {
         "title": {
          "text": "Configuration"
         }
        },
        "template": {
         "data": {
          "bar": [
           {
            "error_x": {
             "color": "#2a3f5f"
            },
            "error_y": {
             "color": "#2a3f5f"
            },
            "marker": {
             "line": {
              "color": "#E5ECF6",
              "width": 0.5
             },
             "pattern": {
              "fillmode": "overlay",
              "size": 10,
              "solidity": 0.2
             }
            },
            "type": "bar"
           }
          ],
          "barpolar": [
           {
            "marker": {
             "line": {
              "color": "#E5ECF6",
              "width": 0.5
             },
             "pattern": {
              "fillmode": "overlay",
              "size": 10,
              "solidity": 0.2
             }
            },
            "type": "barpolar"
           }
          ],
          "carpet": [
           {
            "aaxis": {
             "endlinecolor": "#2a3f5f",
             "gridcolor": "white",
             "linecolor": "white",
             "minorgridcolor": "white",
             "startlinecolor": "#2a3f5f"
            },
            "baxis": {
             "endlinecolor": "#2a3f5f",
             "gridcolor": "white",
             "linecolor": "white",
             "minorgridcolor": "white",
             "startlinecolor": "#2a3f5f"
            },
            "type": "carpet"
           }
          ],
          "choropleth": [
           {
            "colorbar": {
             "outlinewidth": 0,
             "ticks": ""
            },
            "type": "choropleth"
           }
          ],
          "contour": [
           {
            "colorbar": {
             "outlinewidth": 0,
             "ticks": ""
            },
            "colorscale": [
             [
              0,
              "#0d0887"
             ],
             [
              0.1111111111111111,
              "#46039f"
             ],
             [
              0.2222222222222222,
              "#7201a8"
             ],
             [
              0.3333333333333333,
              "#9c179e"
             ],
             [
              0.4444444444444444,
              "#bd3786"
             ],
             [
              0.5555555555555556,
              "#d8576b"
             ],
             [
              0.6666666666666666,
              "#ed7953"
             ],
             [
              0.7777777777777778,
              "#fb9f3a"
             ],
             [
              0.8888888888888888,
              "#fdca26"
             ],
             [
              1,
              "#f0f921"
             ]
            ],
            "type": "contour"
           }
          ],
          "contourcarpet": [
           {
            "colorbar": {
             "outlinewidth": 0,
             "ticks": ""
            },
            "type": "contourcarpet"
           }
          ],
          "heatmap": [
           {
            "colorbar": {
             "outlinewidth": 0,
             "ticks": ""
            },
            "colorscale": [
             [
              0,
              "#0d0887"
             ],
             [
              0.1111111111111111,
              "#46039f"
             ],
             [
              0.2222222222222222,
              "#7201a8"
             ],
             [
              0.3333333333333333,
              "#9c179e"
             ],
             [
              0.4444444444444444,
              "#bd3786"
             ],
             [
              0.5555555555555556,
              "#d8576b"
             ],
             [
              0.6666666666666666,
              "#ed7953"
             ],
             [
              0.7777777777777778,
              "#fb9f3a"
             ],
             [
              0.8888888888888888,
              "#fdca26"
             ],
             [
              1,
              "#f0f921"
             ]
            ],
            "type": "heatmap"
           }
          ],
          "heatmapgl": [
           {
            "colorbar": {
             "outlinewidth": 0,
             "ticks": ""
            },
            "colorscale": [
             [
              0,
              "#0d0887"
             ],
             [
              0.1111111111111111,
              "#46039f"
             ],
             [
              0.2222222222222222,
              "#7201a8"
             ],
             [
              0.3333333333333333,
              "#9c179e"
             ],
             [
              0.4444444444444444,
              "#bd3786"
             ],
             [
              0.5555555555555556,
              "#d8576b"
             ],
             [
              0.6666666666666666,
              "#ed7953"
             ],
             [
              0.7777777777777778,
              "#fb9f3a"
             ],
             [
              0.8888888888888888,
              "#fdca26"
             ],
             [
              1,
              "#f0f921"
             ]
            ],
            "type": "heatmapgl"
           }
          ],
          "histogram": [
           {
            "marker": {
             "pattern": {
              "fillmode": "overlay",
              "size": 10,
              "solidity": 0.2
             }
            },
            "type": "histogram"
           }
          ],
          "histogram2d": [
           {
            "colorbar": {
             "outlinewidth": 0,
             "ticks": ""
            },
            "colorscale": [
             [
              0,
              "#0d0887"
             ],
             [
              0.1111111111111111,
              "#46039f"
             ],
             [
              0.2222222222222222,
              "#7201a8"
             ],
             [
              0.3333333333333333,
              "#9c179e"
             ],
             [
              0.4444444444444444,
              "#bd3786"
             ],
             [
              0.5555555555555556,
              "#d8576b"
             ],
             [
              0.6666666666666666,
              "#ed7953"
             ],
             [
              0.7777777777777778,
              "#fb9f3a"
             ],
             [
              0.8888888888888888,
              "#fdca26"
             ],
             [
              1,
              "#f0f921"
             ]
            ],
            "type": "histogram2d"
           }
          ],
          "histogram2dcontour": [
           {
            "colorbar": {
             "outlinewidth": 0,
             "ticks": ""
            },
            "colorscale": [
             [
              0,
              "#0d0887"
             ],
             [
              0.1111111111111111,
              "#46039f"
             ],
             [
              0.2222222222222222,
              "#7201a8"
             ],
             [
              0.3333333333333333,
              "#9c179e"
             ],
             [
              0.4444444444444444,
              "#bd3786"
             ],
             [
              0.5555555555555556,
              "#d8576b"
             ],
             [
              0.6666666666666666,
              "#ed7953"
             ],
             [
              0.7777777777777778,
              "#fb9f3a"
             ],
             [
              0.8888888888888888,
              "#fdca26"
             ],
             [
              1,
              "#f0f921"
             ]
            ],
            "type": "histogram2dcontour"
           }
          ],
          "mesh3d": [
           {
            "colorbar": {
             "outlinewidth": 0,
             "ticks": ""
            },
            "type": "mesh3d"
           }
          ],
          "parcoords": [
           {
            "line": {
             "colorbar": {
              "outlinewidth": 0,
              "ticks": ""
             }
            },
            "type": "parcoords"
           }
          ],
          "pie": [
           {
            "automargin": true,
            "type": "pie"
           }
          ],
          "scatter": [
           {
            "fillpattern": {
             "fillmode": "overlay",
             "size": 10,
             "solidity": 0.2
            },
            "type": "scatter"
           }
          ],
          "scatter3d": [
           {
            "line": {
             "colorbar": {
              "outlinewidth": 0,
              "ticks": ""
             }
            },
            "marker": {
             "colorbar": {
              "outlinewidth": 0,
              "ticks": ""
             }
            },
            "type": "scatter3d"
           }
          ],
          "scattercarpet": [
           {
            "marker": {
             "colorbar": {
              "outlinewidth": 0,
              "ticks": ""
             }
            },
            "type": "scattercarpet"
           }
          ],
          "scattergeo": [
           {
            "marker": {
             "colorbar": {
              "outlinewidth": 0,
              "ticks": ""
             }
            },
            "type": "scattergeo"
           }
          ],
          "scattergl": [
           {
            "marker": {
             "colorbar": {
              "outlinewidth": 0,
              "ticks": ""
             }
            },
            "type": "scattergl"
           }
          ],
          "scattermapbox": [
           {
            "marker": {
             "colorbar": {
              "outlinewidth": 0,
              "ticks": ""
             }
            },
            "type": "scattermapbox"
           }
          ],
          "scatterpolar": [
           {
            "marker": {
             "colorbar": {
              "outlinewidth": 0,
              "ticks": ""
             }
            },
            "type": "scatterpolar"
           }
          ],
          "scatterpolargl": [
           {
            "marker": {
             "colorbar": {
              "outlinewidth": 0,
              "ticks": ""
             }
            },
            "type": "scatterpolargl"
           }
          ],
          "scatterternary": [
           {
            "marker": {
             "colorbar": {
              "outlinewidth": 0,
              "ticks": ""
             }
            },
            "type": "scatterternary"
           }
          ],
          "surface": [
           {
            "colorbar": {
             "outlinewidth": 0,
             "ticks": ""
            },
            "colorscale": [
             [
              0,
              "#0d0887"
             ],
             [
              0.1111111111111111,
              "#46039f"
             ],
             [
              0.2222222222222222,
              "#7201a8"
             ],
             [
              0.3333333333333333,
              "#9c179e"
             ],
             [
              0.4444444444444444,
              "#bd3786"
             ],
             [
              0.5555555555555556,
              "#d8576b"
             ],
             [
              0.6666666666666666,
              "#ed7953"
             ],
             [
              0.7777777777777778,
              "#fb9f3a"
             ],
             [
              0.8888888888888888,
              "#fdca26"
             ],
             [
              1,
              "#f0f921"
             ]
            ],
            "type": "surface"
           }
          ],
          "table": [
           {
            "cells": {
             "fill": {
              "color": "#EBF0F8"
             },
             "line": {
              "color": "white"
             }
            },
            "header": {
             "fill": {
              "color": "#C8D4E3"
             },
             "line": {
              "color": "white"
             }
            },
            "type": "table"
           }
          ]
         },
         "layout": {
          "annotationdefaults": {
           "arrowcolor": "#2a3f5f",
           "arrowhead": 0,
           "arrowwidth": 1
          },
          "autotypenumbers": "strict",
          "coloraxis": {
           "colorbar": {
            "outlinewidth": 0,
            "ticks": ""
           }
          },
          "colorscale": {
           "diverging": [
            [
             0,
             "#8e0152"
            ],
            [
             0.1,
             "#c51b7d"
            ],
            [
             0.2,
             "#de77ae"
            ],
            [
             0.3,
             "#f1b6da"
            ],
            [
             0.4,
             "#fde0ef"
            ],
            [
             0.5,
             "#f7f7f7"
            ],
            [
             0.6,
             "#e6f5d0"
            ],
            [
             0.7,
             "#b8e186"
            ],
            [
             0.8,
             "#7fbc41"
            ],
            [
             0.9,
             "#4d9221"
            ],
            [
             1,
             "#276419"
            ]
           ],
           "sequential": [
            [
             0,
             "#0d0887"
            ],
            [
             0.1111111111111111,
             "#46039f"
            ],
            [
             0.2222222222222222,
             "#7201a8"
            ],
            [
             0.3333333333333333,
             "#9c179e"
            ],
            [
             0.4444444444444444,
             "#bd3786"
            ],
            [
             0.5555555555555556,
             "#d8576b"
            ],
            [
             0.6666666666666666,
             "#ed7953"
            ],
            [
             0.7777777777777778,
             "#fb9f3a"
            ],
            [
             0.8888888888888888,
             "#fdca26"
            ],
            [
             1,
             "#f0f921"
            ]
           ],
           "sequentialminus": [
            [
             0,
             "#0d0887"
            ],
            [
             0.1111111111111111,
             "#46039f"
            ],
            [
             0.2222222222222222,
             "#7201a8"
            ],
            [
             0.3333333333333333,
             "#9c179e"
            ],
            [
             0.4444444444444444,
             "#bd3786"
            ],
            [
             0.5555555555555556,
             "#d8576b"
            ],
            [
             0.6666666666666666,
             "#ed7953"
            ],
            [
             0.7777777777777778,
             "#fb9f3a"
            ],
            [
             0.8888888888888888,
             "#fdca26"
            ],
            [
             1,
             "#f0f921"
            ]
           ]
          },
          "colorway": [
           "#636efa",
           "#EF553B",
           "#00cc96",
           "#ab63fa",
           "#FFA15A",
           "#19d3f3",
           "#FF6692",
           "#B6E880",
           "#FF97FF",
           "#FECB52"
          ],
          "font": {
           "color": "#2a3f5f"
          },
          "geo": {
           "bgcolor": "white",
           "lakecolor": "white",
           "landcolor": "#E5ECF6",
           "showlakes": true,
           "showland": true,
           "subunitcolor": "white"
          },
          "hoverlabel": {
           "align": "left"
          },
          "hovermode": "closest",
          "mapbox": {
           "style": "light"
          },
          "paper_bgcolor": "white",
          "plot_bgcolor": "#E5ECF6",
          "polar": {
           "angularaxis": {
            "gridcolor": "white",
            "linecolor": "white",
            "ticks": ""
           },
           "bgcolor": "#E5ECF6",
           "radialaxis": {
            "gridcolor": "white",
            "linecolor": "white",
            "ticks": ""
           }
          },
          "scene": {
           "xaxis": {
            "backgroundcolor": "#E5ECF6",
            "gridcolor": "white",
            "gridwidth": 2,
            "linecolor": "white",
            "showbackground": true,
            "ticks": "",
            "zerolinecolor": "white"
           },
           "yaxis": {
            "backgroundcolor": "#E5ECF6",
            "gridcolor": "white",
            "gridwidth": 2,
            "linecolor": "white",
            "showbackground": true,
            "ticks": "",
            "zerolinecolor": "white"
           },
           "zaxis": {
            "backgroundcolor": "#E5ECF6",
            "gridcolor": "white",
            "gridwidth": 2,
            "linecolor": "white",
            "showbackground": true,
            "ticks": "",
            "zerolinecolor": "white"
           }
          },
          "shapedefaults": {
           "line": {
            "color": "#2a3f5f"
           }
          },
          "ternary": {
           "aaxis": {
            "gridcolor": "white",
            "linecolor": "white",
            "ticks": ""
           },
           "baxis": {
            "gridcolor": "white",
            "linecolor": "white",
            "ticks": ""
           },
           "bgcolor": "#E5ECF6",
           "caxis": {
            "gridcolor": "white",
            "linecolor": "white",
            "ticks": ""
           }
          },
          "title": {
           "x": 0.05
          },
          "xaxis": {
           "automargin": true,
           "gridcolor": "white",
           "linecolor": "white",
           "ticks": "",
           "title": {
            "standoff": 15
           },
           "zerolinecolor": "white",
           "zerolinewidth": 2
          },
          "yaxis": {
           "automargin": true,
           "gridcolor": "white",
           "linecolor": "white",
           "ticks": "",
           "title": {
            "standoff": 15
           },
           "zerolinecolor": "white",
           "zerolinewidth": 2
          }
         }
        },
        "title": {
         "text": "Loss List for Each Configuration"
        },
        "xaxis": {
         "title": {
          "text": "Index within Loss List"
         }
        },
        "yaxis": {
         "title": {
          "text": "Loss"
         }
        }
       }
      }
     },
     "metadata": {},
     "output_type": "display_data"
    }
   ],
   "source": [
    "# Create a figure\n",
    "\n",
    "import plotly.graph_objects as go\n",
    "\n",
    "fig = go.Figure()\n",
    "\n",
    "for idx, entry in enumerate(data):\n",
    "\n",
    "    fig.add_trace(go.Scatter(\n",
    "        y=entry['loss_list'],\n",
    "        mode='lines+markers',\n",
    "        name=f'Loss List {idx + 1}'\n",
    "    ))\n",
    "\n",
    "fig.update_layout(\n",
    "    title=\"Loss List for Each Configuration\",\n",
    "    xaxis_title=\"Index within Loss List\",\n",
    "    yaxis_title=\"Loss\",\n",
    "    legend_title=\"Configuration\",\n",
    "    template=\"plotly\"\n",
    ")\n",
    "\n",
    "fig.show()"
   ]
  }
 ],
 "metadata": {
  "kernelspec": {
   "display_name": ".venv2",
   "language": "python",
   "name": "python3"
  },
  "language_info": {
   "codemirror_mode": {
    "name": "ipython",
    "version": 3
   },
   "file_extension": ".py",
   "mimetype": "text/x-python",
   "name": "python",
   "nbconvert_exporter": "python",
   "pygments_lexer": "ipython3",
   "version": "3.11.11"
  }
 },
 "nbformat": 4,
 "nbformat_minor": 2
}
