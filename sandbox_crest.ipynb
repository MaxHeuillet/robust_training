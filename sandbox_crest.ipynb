{
 "cells": [
  {
   "cell_type": "code",
   "execution_count": 1,
   "metadata": {},
   "outputs": [
    {
     "name": "stderr",
     "output_type": "stream",
     "text": [
      "Arguments: Namespace(approx_moment=True, approx_with_coreset=True, arch='LeNet', batch_num_mul=5, batch_size=128, check_interval=20, check_thresh_factor=0.1, data_dir='./data', dataset='MNIST', device=device(type='cuda'), drop_interval=20, drop_learned=True, drop_thresh=0.1, epochs=10, gamma=0.1, gpu=[0], interval_mul=1.0, log_dir='./logs', logger=<Logger logs-2024-08-15-15-34-06 (INFO)>, lr=0.1, lr_milestones=[100, 150], min_train_size=40000, momentum=0.9, num_classes=10, num_minibatch_coreset=5, num_workers=1, partition_start=0, random_subset_size=0.01, resume_from_epoch=0, runs=1, save_freq=200, seed=0, selection_method='none', shuffle=True, smtk=0, statedict_dir='./state_dicts', subset_start_epoch=0, train_frac=0.1, use_wandb=False, warm_start_epochs=20, watch_interval=5, weight_decay=0.0001)\n",
      "Time: 2024-08-15 15:34:06\n"
     ]
    }
   ],
   "source": [
    "from architectures import LeNet5\n",
    "\n",
    "import torch\n",
    "\n",
    "from datasets import IndexedDataset\n",
    "import logging\n",
    "import time\n",
    "from torch.utils.data import DataLoader\n",
    "\n",
    "from utils import get_args\n",
    "\n",
    "args = get_args()\n",
    "args.arch = 'LeNet'\n",
    "args.dataset = 'MNIST'\n",
    "args.selection_method = 'none'\n",
    "\n",
    "# # Set up logging\n",
    "\n",
    "logger = logging.getLogger( args.log_dir.split('/')[-1] + time.strftime(\"-%Y-%m-%d-%H-%M-%S\") )\n",
    "\n",
    "logging.basicConfig(\n",
    "    filename=f\"{args.log_dir}/output.log\",\n",
    "    filemode=\"a\",\n",
    "    format=\"%(asctime)s - %(levelname)s - %(name)s -   %(message)s\",\n",
    "    datefmt=\"%m/%d/%Y %H:%M:%S\",\n",
    "    level=logging.INFO,)\n",
    "\n",
    "# define a Handler which writes INFO messages or higher to the sys.stderr\n",
    "ch = logging.StreamHandler()\n",
    "ch.setLevel(logging.DEBUG)\n",
    "logger.addHandler(ch)\n",
    "args.logger = logger\n",
    "\n",
    "# Print arguments\n",
    "args.logger.info(\"Arguments: {}\".format(args))\n",
    "args.logger.info(\"Time: {}\".format(time.strftime(\"%Y-%m-%d %H:%M:%S\")))\n",
    "\n",
    "train_dataset = IndexedDataset(args, train=True)\n",
    "args.train_size = len(train_dataset)\n",
    "\n",
    "val_loader = torch.utils.data.DataLoader(\n",
    "        IndexedDataset(args, train=False),\n",
    "        batch_size=args.batch_size,\n",
    "        shuffle=False,\n",
    "        num_workers=args.num_workers,\n",
    "        pin_memory=True,\n",
    "    )\n",
    "\n",
    "model = LeNet5() #.to(args.device)\n",
    "# model = models_local.resnet_cifar10.resnet50(pretrained=False, progress=True).to(args.device)"
   ]
  },
  {
   "cell_type": "code",
   "execution_count": 2,
   "metadata": {},
   "outputs": [
    {
     "name": "stdout",
     "output_type": "stream",
     "text": [
      "conv1.weight\n",
      "conv1.bias\n",
      "conv2.weight\n",
      "conv2.bias\n",
      "fc1.weight\n",
      "fc1.bias\n",
      "fc2.weight\n",
      "fc2.bias\n",
      "fc3.weight\n",
      "fc3.bias\n"
     ]
    }
   ],
   "source": [
    "for name, param in model.named_parameters():\n",
    "    print(name)\n",
    "\n",
    "[conv1.weight, conv2.weight, fc1.weight, fc2.weight,fc3.weight] "
   ]
  },
  {
   "cell_type": "code",
   "execution_count": 6,
   "metadata": {},
   "outputs": [],
   "source": [
    "# from trainers import CRESTTrainer\n",
    "# trainer = CRESTTrainer(args, model, train_dataset, val_loader )\n",
    "\n",
    "# if args.selection_method == \"none\":\n",
    "#     from trainers import BaseTrainer\n",
    "#     trainer = BaseTrainer(args,model,train_dataset, val_loader,)\n",
    "# elif args.selection_method == \"crest\":\n",
    "#     from trainers import CRESTTrainer\n",
    "#     trainer = CRESTTrainer(args,model,train_dataset, val_loader,)\n"
   ]
  },
  {
   "cell_type": "code",
   "execution_count": 7,
   "metadata": {},
   "outputs": [
    {
     "data": {
      "application/vnd.jupyter.widget-view+json": {
       "model_id": "b78806501e024ae18715acf41e9680e3",
       "version_major": 2,
       "version_minor": 0
      },
      "text/plain": [
       "  0%|          | 0/469 [00:00<?, ?it/s]"
      ]
     },
     "metadata": {},
     "output_type": "display_data"
    },
    {
     "name": "stderr",
     "output_type": "stream",
     "text": [
      "Epoch 0:\tTrain Loss: 2.306696\tTrain Acc: 0.104000\tVal Loss: 2.307026\tVal Acc: 0.105100\n",
      "Epoch 0:\tData Loading Time: 0.019573\tForward Time: 0.000520\tBackward Time: 0.001217\n"
     ]
    },
    {
     "data": {
      "application/vnd.jupyter.widget-view+json": {
       "model_id": "530c1158c2ec4c2584d40cb06dc83e95",
       "version_major": 2,
       "version_minor": 0
      },
      "text/plain": [
       "  0%|          | 0/469 [00:00<?, ?it/s]"
      ]
     },
     "metadata": {},
     "output_type": "display_data"
    },
    {
     "name": "stderr",
     "output_type": "stream",
     "text": [
      "Epoch 1:\tTrain Loss: 2.236100\tTrain Acc: 0.276967\tVal Loss: 2.019186\tVal Acc: 0.606000\n",
      "Epoch 1:\tData Loading Time: 0.019163\tForward Time: 0.000521\tBackward Time: 0.001187\n"
     ]
    },
    {
     "data": {
      "application/vnd.jupyter.widget-view+json": {
       "model_id": "955b0d1aa06c4e91bd925a599d61ba07",
       "version_major": 2,
       "version_minor": 0
      },
      "text/plain": [
       "  0%|          | 0/469 [00:00<?, ?it/s]"
      ]
     },
     "metadata": {},
     "output_type": "display_data"
    },
    {
     "name": "stderr",
     "output_type": "stream",
     "text": [
      "Epoch 2:\tTrain Loss: 0.664439\tTrain Acc: 0.835017\tVal Loss: 0.273520\tVal Acc: 0.919500\n",
      "Epoch 2:\tData Loading Time: 0.019633\tForward Time: 0.000532\tBackward Time: 0.001233\n"
     ]
    },
    {
     "data": {
      "application/vnd.jupyter.widget-view+json": {
       "model_id": "83ae3f6b8cef486da6add9f1a77140ff",
       "version_major": 2,
       "version_minor": 0
      },
      "text/plain": [
       "  0%|          | 0/469 [00:00<?, ?it/s]"
      ]
     },
     "metadata": {},
     "output_type": "display_data"
    },
    {
     "name": "stderr",
     "output_type": "stream",
     "text": [
      "Epoch 3:\tTrain Loss: 0.229398\tTrain Acc: 0.930733\tVal Loss: 0.148840\tVal Acc: 0.955700\n",
      "Epoch 3:\tData Loading Time: 0.020127\tForward Time: 0.000540\tBackward Time: 0.001230\n"
     ]
    },
    {
     "data": {
      "application/vnd.jupyter.widget-view+json": {
       "model_id": "0e87e7a5d8ca4908aad50f4a2649d54b",
       "version_major": 2,
       "version_minor": 0
      },
      "text/plain": [
       "  0%|          | 0/469 [00:00<?, ?it/s]"
      ]
     },
     "metadata": {},
     "output_type": "display_data"
    },
    {
     "name": "stderr",
     "output_type": "stream",
     "text": [
      "Epoch 4:\tTrain Loss: 0.141072\tTrain Acc: 0.956867\tVal Loss: 0.152330\tVal Acc: 0.951000\n",
      "Epoch 4:\tData Loading Time: 0.019609\tForward Time: 0.000570\tBackward Time: 0.001225\n"
     ]
    },
    {
     "data": {
      "application/vnd.jupyter.widget-view+json": {
       "model_id": "f5b1c4b4f15e480ca968010a5b4a580b",
       "version_major": 2,
       "version_minor": 0
      },
      "text/plain": [
       "  0%|          | 0/469 [00:00<?, ?it/s]"
      ]
     },
     "metadata": {},
     "output_type": "display_data"
    },
    {
     "name": "stderr",
     "output_type": "stream",
     "text": [
      "Epoch 5:\tTrain Loss: 0.105531\tTrain Acc: 0.968100\tVal Loss: 0.070577\tVal Acc: 0.977900\n",
      "Epoch 5:\tData Loading Time: 0.020751\tForward Time: 0.000555\tBackward Time: 0.001273\n"
     ]
    },
    {
     "data": {
      "application/vnd.jupyter.widget-view+json": {
       "model_id": "94c85bc4062444e9bb0f0b3df6bd0d8f",
       "version_major": 2,
       "version_minor": 0
      },
      "text/plain": [
       "  0%|          | 0/469 [00:00<?, ?it/s]"
      ]
     },
     "metadata": {},
     "output_type": "display_data"
    },
    {
     "name": "stderr",
     "output_type": "stream",
     "text": [
      "Epoch 6:\tTrain Loss: 0.083309\tTrain Acc: 0.974550\tVal Loss: 0.071892\tVal Acc: 0.978000\n",
      "Epoch 6:\tData Loading Time: 0.020853\tForward Time: 0.000554\tBackward Time: 0.001251\n"
     ]
    },
    {
     "data": {
      "application/vnd.jupyter.widget-view+json": {
       "model_id": "a017d6c303a943f1ab1ba7ecc17cd44a",
       "version_major": 2,
       "version_minor": 0
      },
      "text/plain": [
       "  0%|          | 0/469 [00:00<?, ?it/s]"
      ]
     },
     "metadata": {},
     "output_type": "display_data"
    },
    {
     "name": "stderr",
     "output_type": "stream",
     "text": [
      "Epoch 7:\tTrain Loss: 0.070660\tTrain Acc: 0.978550\tVal Loss: 0.054142\tVal Acc: 0.981600\n",
      "Epoch 7:\tData Loading Time: 0.023242\tForward Time: 0.000612\tBackward Time: 0.001380\n"
     ]
    },
    {
     "data": {
      "application/vnd.jupyter.widget-view+json": {
       "model_id": "de160f307abf40bd85ff690d22d43e0a",
       "version_major": 2,
       "version_minor": 0
      },
      "text/plain": [
       "  0%|          | 0/469 [00:00<?, ?it/s]"
      ]
     },
     "metadata": {},
     "output_type": "display_data"
    },
    {
     "name": "stderr",
     "output_type": "stream",
     "text": [
      "Epoch 8:\tTrain Loss: 0.059860\tTrain Acc: 0.981283\tVal Loss: 0.045120\tVal Acc: 0.985000\n",
      "Epoch 8:\tData Loading Time: 0.021609\tForward Time: 0.000563\tBackward Time: 0.001308\n"
     ]
    },
    {
     "data": {
      "application/vnd.jupyter.widget-view+json": {
       "model_id": "7af9c42b8ded43dcb4869876fbcf9db9",
       "version_major": 2,
       "version_minor": 0
      },
      "text/plain": [
       "  0%|          | 0/469 [00:00<?, ?it/s]"
      ]
     },
     "metadata": {},
     "output_type": "display_data"
    },
    {
     "name": "stderr",
     "output_type": "stream",
     "text": [
      "Epoch 9:\tTrain Loss: 0.056548\tTrain Acc: 0.982267\tVal Loss: 0.048017\tVal Acc: 0.984100\n",
      "Epoch 9:\tData Loading Time: 0.021714\tForward Time: 0.000573\tBackward Time: 0.001308\n"
     ]
    }
   ],
   "source": [
    "trainer.train()"
   ]
  }
 ],
 "metadata": {
  "kernelspec": {
   "display_name": ".venv",
   "language": "python",
   "name": "python3"
  },
  "language_info": {
   "codemirror_mode": {
    "name": "ipython",
    "version": 3
   },
   "file_extension": ".py",
   "mimetype": "text/x-python",
   "name": "python",
   "nbconvert_exporter": "python",
   "pygments_lexer": "ipython3",
   "version": "3.8.10"
  }
 },
 "nbformat": 4,
 "nbformat_minor": 2
}
