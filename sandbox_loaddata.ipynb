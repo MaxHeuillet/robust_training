{
 "cells": [
  {
   "cell_type": "code",
   "execution_count": null,
   "metadata": {},
   "outputs": [
    {
     "name": "stdout",
     "output_type": "stream",
     "text": [
      "datadir /home/mheuillet/Desktop/robust_training/data\n",
      "Imagenette 9469 982 2943 39 39 10\n",
      "Flowers 1020 1020 6149 61 128 102\n",
      "EuroSAT 18360 3240 5400 138 208 10\n",
      "Aircraft 3334 3333 3333 111 186 100\n",
      "Files already downloaded and verified\n",
      "CIFAR10 47500 2500 10000 121 194 10\n",
      "CIFAR100 47500 2500 10000 10 52 100\n"
     ]
    }
   ],
   "source": [
    "from omegaconf import OmegaConf\n",
    "from datasets import load_data\n",
    "import numpy as np\n",
    "config = OmegaConf.load(\"./configs/default_config.yaml\")\n",
    "\n",
    "for dataset in ['Imagenette', 'Flowers', \n",
    "                'EuroSAT', 'Aircraft',\n",
    "                'CIFAR10', 'CIFAR100',\n",
    "                'StanfordCars', 'OxfordIIITPet', \n",
    "                'Caltech101', 'DTD' ]:\n",
    "    \n",
    "    config.dataset = dataset\n",
    "    train_dataset, val_dataset, test_dataset, N, train_transform, transform = load_data(False, config) \n",
    "    image, label = val_dataset[0]  # Extract the image and label\n",
    "    pixels = np.array(image)\n",
    "    print(dataset, len(train_dataset), len(val_dataset), len(test_dataset), min(pixels[0][0]),  max(pixels[0][0]), N)"
   ]
  },
  {
   "cell_type": "code",
   "execution_count": 7,
   "metadata": {},
   "outputs": [
    {
     "name": "stderr",
     "output_type": "stream",
     "text": [
      "Downloading...\n",
      "From (original): https://drive.google.com/uc?id=137RyRjvTBkBiIfeYBNZBtViDHQ6_Ewsp\n",
      "From (redirected): https://drive.usercontent.google.com/download?id=137RyRjvTBkBiIfeYBNZBtViDHQ6_Ewsp&confirm=t&uuid=67e0f9af-282a-47e5-bf69-61f6d0cff3d0\n",
      "To: /home/mheuillet/Desktop/robust_training/data/caltech101/101_ObjectCategories.tar.gz\n",
      "100%|██████████| 132M/132M [00:21<00:00, 6.06MB/s] \n"
     ]
    },
    {
     "name": "stdout",
     "output_type": "stream",
     "text": [
      "Extracting ./data/caltech101/101_ObjectCategories.tar.gz to ./data/caltech101\n"
     ]
    },
    {
     "name": "stderr",
     "output_type": "stream",
     "text": [
      "Downloading...\n",
      "From: https://drive.google.com/uc?id=175kQy3UsZ0wUEHZjqkUDdNVssr7bgh_m\n",
      "To: /home/mheuillet/Desktop/robust_training/data/caltech101/Annotations.tar\n",
      "100%|██████████| 14.0M/14.0M [00:03<00:00, 3.71MB/s]\n"
     ]
    },
    {
     "name": "stdout",
     "output_type": "stream",
     "text": [
      "Extracting ./data/caltech101/Annotations.tar to ./data/caltech101\n"
     ]
    },
    {
     "data": {
      "text/plain": [
       "Dataset Caltech101\n",
       "    Number of datapoints: 8677\n",
       "    Root location: ./data/caltech101\n",
       "    Target type: ['category']"
      ]
     },
     "execution_count": 7,
     "metadata": {},
     "output_type": "execute_result"
    }
   ],
   "source": [
    "from torchvision import datasets\n",
    "\n",
    "datasets.Caltech101(root='./data',  download=True, )"
   ]
  },
  {
   "cell_type": "code",
   "execution_count": 5,
   "metadata": {},
   "outputs": [
    {
     "data": {
      "text/plain": [
       "(<PIL.JpegImagePlugin.JpegImageFile image mode=RGB size=510x337>, 0)"
      ]
     },
     "execution_count": 5,
     "metadata": {},
     "output_type": "execute_result"
    }
   ],
   "source": [
    "x[0]"
   ]
  }
 ],
 "metadata": {
  "kernelspec": {
   "display_name": ".venv",
   "language": "python",
   "name": "python3"
  },
  "language_info": {
   "codemirror_mode": {
    "name": "ipython",
    "version": 3
   },
   "file_extension": ".py",
   "mimetype": "text/x-python",
   "name": "python",
   "nbconvert_exporter": "python",
   "pygments_lexer": "ipython3",
   "version": "3.8.10"
  }
 },
 "nbformat": 4,
 "nbformat_minor": 2
}
