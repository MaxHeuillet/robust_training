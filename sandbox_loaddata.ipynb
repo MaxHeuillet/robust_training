{
 "cells": [
  {
   "cell_type": "code",
   "execution_count": 2,
   "metadata": {},
   "outputs": [
    {
     "name": "stdout",
     "output_type": "stream",
     "text": [
      "uc-merced-land-use-dataset\n",
      "Warning: test dataset has only 420 samples. No subsampling performed.\n",
      "1428 252 420 21\n",
      "\n"
     ]
    }
   ],
   "source": [
    "from omegaconf import OmegaConf\n",
    "from databases import load_data\n",
    "import numpy as np\n",
    "\n",
    "import torch\n",
    "from torch.utils.data import DataLoader\n",
    "from torchvision import datasets, transforms\n",
    "\n",
    "config = OmegaConf.load(\"./configs/default_config_linearprobe50.yaml\")\n",
    "config.datasets_path = './data' # where you store datasets locally \n",
    "\n",
    "for dataset in [ \n",
    "                'uc-merced-land-use-dataset',   \n",
    "                 'flowers-102', \n",
    "                 'caltech101',\n",
    "                 'stanford_cars', \n",
    "                 'fgvc-aircraft-2013b',\n",
    "                 'oxford-iiit-pet'\n",
    "                   ]:\n",
    "                #]: #'dtd', 'eurosat' ,\n",
    "\n",
    "    print(dataset)\n",
    "    \n",
    "    config.dataset = dataset\n",
    "    train_dataset, val_dataset, test_dataset, N = load_data(config, common_corruption=False)\n",
    "\n",
    "    print(len(train_dataset), len(val_dataset), len(test_dataset), N)\n",
    "\n",
    "    "
   ]
  },
  {
   "cell_type": "code",
   "execution_count": null,
   "metadata": {},
   "outputs": [],
   "source": [
    "### don't pay attention to this cell\n",
    "\n",
    "# EuroSAT: seulement 8 runs on complete et tous les autres OOM\n",
    "# Caltech: 26 runs ok, \n",
    "# Stanford Cars: 34 ok\n",
    "# Aircraft: 26 ok\n",
    "# DTD : 26 ok\n",
    "# Oxford pet: 26 ok\n",
    "# Flowers: 26 ok\n",
    "\n",
    "stanford_cars = 6922 + 1222 + 8041 \n",
    "caltech101 = 5899 + 1042 + 1736 \n",
    "dtd = 1880 + 1880 + 1880 \n",
    "eurosat = 18360 + 3240 + 5400 \n",
    "fgvcaircraft2013b =  3334 + 3333 + 3333 \n",
    "flowers102 = 1020 + 1020 + 6149 \n",
    "oxfordiiitpet = 3128 + 552 + 3669 \n",
    "\n",
    "print(eurosat, caltech101, dtd, fgvcaircraft2013b, flowers102, oxfordiiitpet, stanford_cars)\n",
    "\n",
    "from PIL import Image\n",
    "import torchvision.datasets as datasets\n",
    "\n",
    "# Initialize the Caltech101 dataset without transformations\n",
    "caltech101_sample = datasets.Caltech101(root='./data', download=False)\n",
    "print(len(caltech101_sample))\n",
    "for i in range( len(caltech101_sample) ) :\n",
    "    image, label = caltech101_sample[i]\n",
    "\n",
    "    # Check the image mode\n",
    "    # print(f\"Image Mode: {image.mode}\")  # Expected: 'RGB'\n",
    "    if image.mode != 'RGB':\n",
    "        print('issue')"
   ]
  }
 ],
 "metadata": {
  "kernelspec": {
   "display_name": ".venv2",
   "language": "python",
   "name": "python3"
  },
  "language_info": {
   "codemirror_mode": {
    "name": "ipython",
    "version": 3
   },
   "file_extension": ".py",
   "mimetype": "text/x-python",
   "name": "python",
   "nbconvert_exporter": "python",
   "pygments_lexer": "ipython3",
   "version": "3.11.11"
  }
 },
 "nbformat": 4,
 "nbformat_minor": 2
}
