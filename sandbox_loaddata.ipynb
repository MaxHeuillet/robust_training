{
 "cells": [
  {
   "cell_type": "code",
   "execution_count": 17,
   "metadata": {},
   "outputs": [
    {
     "name": "stdout",
     "output_type": "stream",
     "text": [
      "datadir /home/mheuillet/Desktop/robust_training/data\n",
      "Imagenette 9469 982 2943 39 39 10\n",
      "Flowers 1020 1020 6149 61 128 102\n",
      "EuroSAT 18360 3240 5400 138 208 10\n",
      "Aircraft 3334 3333 3333 111 186 100\n",
      "Files already downloaded and verified\n",
      "CIFAR10 47500 2500 10000 121 194 10\n",
      "CIFAR100 47500 2500 10000 10 52 100\n"
     ]
    }
   ],
   "source": [
    "from omegaconf import OmegaConf\n",
    "from datasets import load_data\n",
    "import numpy as np\n",
    "config = OmegaConf.load(\"./configs/default_config.yaml\")\n",
    "for dataset in ['Imagenette', 'Flowers', 'EuroSAT', 'Aircraft', 'CIFAR10', 'CIFAR100' ]:\n",
    "    config.dataset = dataset\n",
    "    train_dataset, val_dataset, test_dataset, N, train_transform, transform = load_data(False, config) \n",
    "    image, label = val_dataset[0]  # Extract the image and label\n",
    "    pixels = np.array(image)\n",
    "    print(dataset, len(train_dataset), len(val_dataset), len(test_dataset), min(pixels[0][0]),  max(pixels[0][0]), N)"
   ]
  }
 ],
 "metadata": {
  "kernelspec": {
   "display_name": ".venv",
   "language": "python",
   "name": "python3"
  },
  "language_info": {
   "codemirror_mode": {
    "name": "ipython",
    "version": 3
   },
   "file_extension": ".py",
   "mimetype": "text/x-python",
   "name": "python",
   "nbconvert_exporter": "python",
   "pygments_lexer": "ipython3",
   "version": "3.8.10"
  }
 },
 "nbformat": 4,
 "nbformat_minor": 2
}
