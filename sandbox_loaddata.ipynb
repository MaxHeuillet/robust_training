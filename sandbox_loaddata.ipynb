{
 "cells": [
  {
   "cell_type": "code",
   "execution_count": 1,
   "metadata": {},
   "outputs": [
    {
     "name": "stdout",
     "output_type": "stream",
     "text": [
      "Imagenette 9469 2943 982 10\n",
      "Flowers 1020 1020 6149 102\n",
      "EuroSAT 18360 3240 5400 10\n",
      "Aircraft 3334 3333 3333 100\n",
      "Files already downloaded and verified\n",
      "CIFAR10 47500 2500 10000 10\n",
      "CIFAR100 47500 2500 10000 100\n"
     ]
    }
   ],
   "source": [
    "from omegaconf import OmegaConf\n",
    "from datasets import load_data\n",
    "config = OmegaConf.load(\"./configs/default_config.yaml\")\n",
    "for dataset in ['Imagenette', 'Flowers', 'EuroSAT', 'Aircraft', 'CIFAR10', 'CIFAR100' ]:\n",
    "    config.dataset = dataset\n",
    "    train_dataset, val_dataset, test_dataset, N, train_transform, transform = load_data(False, config) \n",
    "    print(dataset, len(train_dataset), len(val_dataset), len(test_dataset), N)"
   ]
  }
 ],
 "metadata": {
  "kernelspec": {
   "display_name": ".venv",
   "language": "python",
   "name": "python3"
  },
  "language_info": {
   "codemirror_mode": {
    "name": "ipython",
    "version": 3
   },
   "file_extension": ".py",
   "mimetype": "text/x-python",
   "name": "python",
   "nbconvert_exporter": "python",
   "pygments_lexer": "ipython3",
   "version": "3.8.10"
  }
 },
 "nbformat": 4,
 "nbformat_minor": 2
}
