{
 "cells": [
  {
   "cell_type": "code",
   "execution_count": 9,
   "metadata": {},
   "outputs": [
    {
     "name": "stdout",
     "output_type": "stream",
     "text": [
      "datadir /home/mheuillet/Desktop/robust_training/data\n",
      "stanford_cars 6922 1222 1500 196\n"
     ]
    },
    {
     "name": "stderr",
     "output_type": "stream",
     "text": [
      "/tmp/ipykernel_91218/1689061401.py:14: DeprecationWarning: __array__ implementation doesn't accept a copy keyword, so passing copy=False failed. __array__ must implement 'dtype' and 'copy' keyword arguments. To learn more, see the migration guide https://numpy.org/devdocs/numpy_2_0_migration_guide.html#adapting-to-changes-in-the-copy-keyword\n",
      "  pixels = np.array(image)\n"
     ]
    }
   ],
   "source": [
    "from omegaconf import OmegaConf\n",
    "from datasets import load_data\n",
    "import numpy as np\n",
    "config = OmegaConf.load(\"./configs/default_config.yaml\")\n",
    "\n",
    "for dataset in [ 'stanford_cars', ]:\n",
    "                #'caltech101', 'dtd', 'eurosat' ,\n",
    "                # 'fgvc-aircraft-2013b', 'flowers-102', 'oxford-iiit-pet'\n",
    "                #'Imagenette', 'CIFAR10', 'CIFAR100',]:\n",
    "    \n",
    "    config.dataset = dataset\n",
    "    train_dataset, val_dataset, test_dataset, N, train_transform, transform = load_data(False, config) \n",
    "\n",
    "    print(dataset, len(train_dataset), len(val_dataset), len(test_dataset),  N) #min(pixels[0][0]),  max(pixels[0][0]),"
   ]
  },
  {
   "cell_type": "code",
   "execution_count": 10,
   "metadata": {},
   "outputs": [
    {
     "name": "stdout",
     "output_type": "stream",
     "text": [
      "[[[0.5176471  0.5176471  0.5176471  ... 0.2901961  0.3019608  0.32941177]\n",
      "  [0.5176471  0.5176471  0.5176471  ... 0.41568628 0.36078432 0.34509805]\n",
      "  [0.5176471  0.5176471  0.5176471  ... 0.4745098  0.5019608  0.5254902 ]\n",
      "  ...\n",
      "  [0.18039216 0.19215687 0.19215687 ... 0.03529412 0.03529412 0.03529412]\n",
      "  [0.19215687 0.19607843 0.1882353  ... 0.03529412 0.03529412 0.03529412]\n",
      "  [0.21176471 0.20784314 0.1764706  ... 0.03529412 0.03529412 0.03529412]]\n",
      "\n",
      " [[0.5921569  0.5921569  0.5921569  ... 0.30588236 0.3254902  0.3647059 ]\n",
      "  [0.5921569  0.5921569  0.5921569  ... 0.42745098 0.3764706  0.36078432]\n",
      "  [0.5921569  0.5921569  0.5921569  ... 0.49019608 0.5254902  0.5568628 ]\n",
      "  ...\n",
      "  [0.17254902 0.18431373 0.18431373 ... 0.03921569 0.03921569 0.03921569]\n",
      "  [0.18431373 0.1882353  0.18039216 ... 0.03921569 0.03921569 0.03921569]\n",
      "  [0.20392157 0.2        0.16862746 ... 0.03921569 0.03921569 0.03921569]]\n",
      "\n",
      " [[0.65882355 0.65882355 0.65882355 ... 0.34509805 0.34901962 0.38039216]\n",
      "  [0.65882355 0.65882355 0.65882355 ... 0.4862745  0.43529412 0.41568628]\n",
      "  [0.65882355 0.65882355 0.65882355 ... 0.5568628  0.5921569  0.627451  ]\n",
      "  ...\n",
      "  [0.1764706  0.1882353  0.1882353  ... 0.04705882 0.04705882 0.04705882]\n",
      "  [0.1882353  0.19215687 0.18431373 ... 0.04705882 0.04705882 0.04705882]\n",
      "  [0.20784314 0.20392157 0.17254902 ... 0.04705882 0.04705882 0.04705882]]]\n"
     ]
    },
    {
     "name": "stderr",
     "output_type": "stream",
     "text": [
      "/tmp/ipykernel_91218/2508489123.py:2: DeprecationWarning: __array__ implementation doesn't accept a copy keyword, so passing copy=False failed. __array__ must implement 'dtype' and 'copy' keyword arguments. To learn more, see the migration guide https://numpy.org/devdocs/numpy_2_0_migration_guide.html#adapting-to-changes-in-the-copy-keyword\n",
      "  pixels = np.array(image)\n"
     ]
    }
   ],
   "source": [
    "image, label = test_dataset[0]  # Extract the image and label\n",
    "pixels = np.array(image)\n",
    "print(pixels) # the images in the test set have been transformed to floats so we cant apply the corruptions directly"
   ]
  },
  {
   "cell_type": "code",
   "execution_count": null,
   "metadata": {},
   "outputs": [
    {
     "name": "stdout",
     "output_type": "stream",
     "text": [
      "[[[254 254 254]\n",
      "  [254 254 254]\n",
      "  [254 254 254]\n",
      "  ...\n",
      "  [254 254 254]\n",
      "  [254 254 254]\n",
      "  [254 254 254]]\n",
      "\n",
      " [[254 254 254]\n",
      "  [254 254 254]\n",
      "  [254 254 254]\n",
      "  ...\n",
      "  [254 254 254]\n",
      "  [254 254 254]\n",
      "  [254 254 254]]\n",
      "\n",
      " [[254 254 254]\n",
      "  [254 254 254]\n",
      "  [254 254 254]\n",
      "  ...\n",
      "  [254 254 254]\n",
      "  [254 254 254]\n",
      "  [254 254 254]]\n",
      "\n",
      " ...\n",
      "\n",
      " [[254 254 254]\n",
      "  [254 254 254]\n",
      "  [254 254 254]\n",
      "  ...\n",
      "  [254 254 254]\n",
      "  [254 254 254]\n",
      "  [254 254 254]]\n",
      "\n",
      " [[254 254 254]\n",
      "  [254 254 254]\n",
      "  [254 254 254]\n",
      "  ...\n",
      "  [254 254 254]\n",
      "  [254 254 254]\n",
      "  [254 254 254]]\n",
      "\n",
      " [[254 254 254]\n",
      "  [254 254 254]\n",
      "  [254 254 254]\n",
      "  ...\n",
      "  [254 254 254]\n",
      "  [254 254 254]\n",
      "  [254 254 254]]]\n"
     ]
    }
   ],
   "source": [
    "from torchvision import datasets\n",
    "from imagecorruptions import corrupt\n",
    "\n",
    "\n",
    "datadir = './data'\n",
    "\n",
    "# test_dataset = test_full = datasets.Caltech101(root=datadir, download=False)\n",
    "# test_dataset = test_dataset = datasets.Flowers102(root=datadir, split='test', download=False)\n",
    "# test_dataset = datasets.DTD(root=datadir, split='test', download=False)\n",
    "test_dataset = datasets.StanfordCars(root=datadir, split='test', download=False, )\n",
    "# test_dataset = datasets.FGVCAircraft(root=datadir, split='test', download=False,)\n",
    "# test_dataset = datasets.OxfordIIITPet(root=datadir, split='test', download=False )\n",
    "\n",
    "x,y = test_dataset[0]\n",
    "print( np.array(x) ) # here we can apply the corruptions because this is raw integer pixelate data \n",
    "\n",
    "\n",
    "\n",
    "#this is the set of corruptions accessible on which the portfolio should be based:\n",
    "CORRUPTIONS = [\n",
    "    'gaussian_noise', 'shot_noise', 'impulse_noise', 'defocus_blur', \n",
    "    'frost', 'fog', 'brightness', 'contrast', 'elastic_transform', \n",
    "    'pixelate', 'jpeg_compression'\n",
    "]\n",
    "\n",
    "SEVERITY_LEVELS = [2, 3, 4]\n",
    "\n",
    "corrupted_image = corrupt(np.array(x), corruption_name='jpeg_compression', severity=1)\n",
    "\n",
    "\n"
   ]
  },
  {
   "cell_type": "code",
   "execution_count": null,
   "metadata": {},
   "outputs": [],
   "source": [
    "### don't pay attention to this cell\n",
    "\n",
    "# EuroSAT: seulement 8 runs on complete et tous les autres OOM\n",
    "# Caltech: 26 runs ok, \n",
    "# Stanford Cars: 34 ok\n",
    "# Aircraft: 26 ok\n",
    "# DTD : 26 ok\n",
    "# Oxford pet: 26 ok\n",
    "# Flowers: 26 ok\n",
    "\n",
    "stanford_cars = 6922 + 1222 + 8041 \n",
    "caltech101 = 5899 + 1042 + 1736 \n",
    "dtd = 1880 + 1880 + 1880 \n",
    "eurosat = 18360 + 3240 + 5400 \n",
    "fgvcaircraft2013b =  3334 + 3333 + 3333 \n",
    "flowers102 = 1020 + 1020 + 6149 \n",
    "oxfordiiitpet = 3128 + 552 + 3669 \n",
    "\n",
    "print(eurosat, caltech101, dtd, fgvcaircraft2013b, flowers102, oxfordiiitpet, stanford_cars)\n",
    "\n",
    "from PIL import Image\n",
    "import torchvision.datasets as datasets\n",
    "\n",
    "# Initialize the Caltech101 dataset without transformations\n",
    "caltech101_sample = datasets.Caltech101(root='./data', download=False)\n",
    "print(len(caltech101_sample))\n",
    "for i in range( len(caltech101_sample) ) :\n",
    "    image, label = caltech101_sample[i]\n",
    "\n",
    "    # Check the image mode\n",
    "    # print(f\"Image Mode: {image.mode}\")  # Expected: 'RGB'\n",
    "    if image.mode != 'RGB':\n",
    "        print('issue')"
   ]
  }
 ],
 "metadata": {
  "kernelspec": {
   "display_name": ".venv2",
   "language": "python",
   "name": "python3"
  },
  "language_info": {
   "codemirror_mode": {
    "name": "ipython",
    "version": 3
   },
   "file_extension": ".py",
   "mimetype": "text/x-python",
   "name": "python",
   "nbconvert_exporter": "python",
   "pygments_lexer": "ipython3",
   "version": "3.11.11"
  }
 },
 "nbformat": 4,
 "nbformat_minor": 2
}
