{
 "cells": [
  {
   "cell_type": "code",
   "execution_count": 5,
   "metadata": {},
   "outputs": [
    {
     "name": "stdout",
     "output_type": "stream",
     "text": [
      "TRADES_v2\n",
      "convnext_tiny.fb_in1k_uc-merced-land-use-dataset_TRADES_v2.pkl\n"
     ]
    },
    {
     "data": {
      "text/plain": [
       "{'clean_acc': 0.03333333333333333,\n",
       " 'Linf_acc': 0.0,\n",
       " 'L2_acc': 0.0,\n",
       " 'L1_acc': 0.0,\n",
       " 'common_acc': 0.029166666666666667}"
      ]
     },
     "execution_count": 5,
     "metadata": {},
     "output_type": "execute_result"
    }
   ],
   "source": [
    "import pickle\n",
    "import warnings\n",
    "import pickle\n",
    "import numpy as np\n",
    "import os\n",
    "warnings.filterwarnings(\"ignore\", category=DeprecationWarning)\n",
    "\n",
    "\n",
    "trained_statedicts_path = './results'\n",
    "project_name = 'full_fine_tuning_5epochs_final1'\n",
    "\n",
    "data = 'uc-merced-land-use-dataset'  #'stanford_cars', 'caltech101', 'fgvc-aircraft-2013b', 'dtd', 'flowers-102', 'oxford-iiit-pet' \n",
    "\n",
    "loss = 'TRADES_v2'  #'CLASSIC_AT'  #\n",
    "print(loss)\n",
    "\n",
    "backbone = 'convnext_tiny.fb_in1k'\n",
    "\n",
    "file_name = '{}_{}_{}.pkl'.format(backbone, data, loss)\n",
    "print(file_name)\n",
    "path = os.path.join(trained_statedicts_path, project_name, file_name) \n",
    "\n",
    "with open(path, 'rb') as f:\n",
    "    saved_data = pickle.load(f)\n",
    "\n",
    "saved_data"
   ]
  }
 ],
 "metadata": {
  "kernelspec": {
   "display_name": ".venv2",
   "language": "python",
   "name": "python3"
  },
  "language_info": {
   "codemirror_mode": {
    "name": "ipython",
    "version": 3
   },
   "file_extension": ".py",
   "mimetype": "text/x-python",
   "name": "python",
   "nbconvert_exporter": "python",
   "pygments_lexer": "ipython3",
   "version": "3.11.11"
  }
 },
 "nbformat": 4,
 "nbformat_minor": 2
}
