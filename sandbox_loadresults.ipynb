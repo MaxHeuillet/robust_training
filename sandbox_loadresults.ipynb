{
 "cells": [
  {
   "cell_type": "code",
   "execution_count": null,
   "metadata": {},
   "outputs": [
    {
     "name": "stdout",
     "output_type": "stream",
     "text": [
      "uc-merced-land-use-dataset\n",
      "Warning: test dataset has only 420 samples. No subsampling performed.\n"
     ]
    }
   ],
   "source": [
    "import pickle\n",
    "import omegaconf\n",
    "import warnings\n",
    "import pickle\n",
    "import numpy as np\n",
    "warnings.filterwarnings(\"ignore\", category=DeprecationWarning)\n",
    "\n",
    "project_name = 'full_fine_tuning_50epochs_final1'\n",
    "\n",
    "datas=( 'uc-merced-land-use-dataset',  ) #'stanford_cars', 'caltech101', 'fgvc-aircraft-2013b', 'dtd', 'flowers-102', 'oxford-iiit-pet' \n",
    "\n",
    "losses=( 'TRADES_v2', 'CLASSIC_AT' ) #  \n",
    "\n",
    "with open('./results/results_{}_{}_{}_{}.pkl'.format(project_name, backbone, data, loss), 'rb') as f:\n",
    "    saved_data = pickle.load(f)\n"
   ]
  }
 ],
 "metadata": {
  "kernelspec": {
   "display_name": ".venv2",
   "language": "python",
   "name": "python3"
  },
  "language_info": {
   "codemirror_mode": {
    "name": "ipython",
    "version": 3
   },
   "file_extension": ".py",
   "mimetype": "text/x-python",
   "name": "python",
   "nbconvert_exporter": "python",
   "pygments_lexer": "ipython3",
   "version": "3.11.11"
  }
 },
 "nbformat": 4,
 "nbformat_minor": 2
}
