{
 "cells": [
  {
   "cell_type": "code",
   "execution_count": 2,
   "metadata": {},
   "outputs": [
    {
     "name": "stdout",
     "output_type": "stream",
     "text": [
      "architecture loaded\n",
      "architecture loaded\n",
      "architecture loaded\n",
      "architecture loaded\n",
      "architecture loaded\n",
      "architecture loaded\n",
      "architecture loaded\n",
      "architecture loaded\n",
      "architecture loaded\n",
      "architecture loaded\n",
      "architecture loaded\n",
      "architecture loaded\n",
      "architecture loaded\n",
      "architecture loaded\n",
      "architecture loaded\n",
      "architecture loaded\n",
      "architecture loaded\n",
      "architecture loaded\n"
     ]
    }
   ],
   "source": [
    "from omegaconf import OmegaConf\n",
    "from datasets import load_data\n",
    "import numpy as np\n",
    "\n",
    "import torch\n",
    "from torch.utils.data import DataLoader\n",
    "from torchvision import datasets, transforms\n",
    "from architectures import load_architecture\n",
    "\n",
    "config = OmegaConf.load(\"./configs/default_config_linearprobe50.yaml\")\n",
    "\n",
    "backbones=(\n",
    "  'convnext_tiny', 'robust_convnext_tiny', 'convnext_tiny.fb_in22k', \n",
    "  'deit_small_patch16_224.fb_in1k', 'robust_deit_small_patch16_224',\n",
    "  'convnext_base', 'convnext_base.fb_in22k', 'robust_convnext_base', \n",
    "  'convnext_base.clip_laion2b', 'convnext_base.clip_laion2b_augreg',\n",
    "  'vit_base_patch16_224.augreg_in1k', 'vit_base_patch16_224.augreg_in21k',\n",
    "  'vit_base_patch16_224.dino', 'vit_base_patch16_224.mae', 'vit_base_patch16_224.orig_in21k',\n",
    "  'vit_base_patch16_224.sam_in1k', 'vit_base_patch16_224_miil.in21k', 'robust_vit_base_patch16_224' )  \n",
    "\n",
    "N = 10 # nombre de classes dans le dataset considere\n",
    "\n",
    "for backbone in backbones:\n",
    "    \n",
    "    config.backbone = backbone\n",
    "    hp_opt = False\n",
    "    load_architecture(hp_opt, config, N, )\n",
    "    print('architecture loaded')\n",
    "\n"
   ]
  }
 ],
 "metadata": {
  "kernelspec": {
   "display_name": ".venv2",
   "language": "python",
   "name": "python3"
  },
  "language_info": {
   "codemirror_mode": {
    "name": "ipython",
    "version": 3
   },
   "file_extension": ".py",
   "mimetype": "text/x-python",
   "name": "python",
   "nbconvert_exporter": "python",
   "pygments_lexer": "ipython3",
   "version": "3.11.11"
  }
 },
 "nbformat": 4,
 "nbformat_minor": 2
}
