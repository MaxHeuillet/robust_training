{
 "cells": [
  {
   "cell_type": "code",
   "execution_count": null,
   "metadata": {},
   "outputs": [
    {
     "data": {
      "text/plain": [
       "{'deit_small_patch16_224.fb_in1k_dtd_TRADES_v2': {'config': {'dataset': 'dtd', 'backbone': 'deit_small_patch16_224.fb_in1k', 'ft_type': 'full_fine_tuning', 'loss_function': 'TRADES_v2', 'seed': 1, 'epochs': 50, 'lr1': 0.00047509237210306064, 'lr2': 0.005506529897945982, 'weight_decay1': 6.573686655138338e-06, 'weight_decay2': 0.0032543911150884836, 'use_rs': False, 'epsilon': 0.015686275, 'step_size': 0.007843137, 'perturb_steps': 10, 'distance': 'Linf', 'beta': 1.0, 'project_name': 'full_fine_tuning_50epochs_final1'},\n",
       "  'statistics': {'clean_acc': 0.0,\n",
       "   'Linf_acc': 0.0,\n",
       "   'L2_acc': 0.0,\n",
       "   'L1_acc': 0.0,\n",
       "   'common_acc': 0.0},\n",
       "  'hpo_results': {}}}"
      ]
     },
     "execution_count": 4,
     "metadata": {},
     "output_type": "execute_result"
    }
   ],
   "source": [
    "import pickle\n",
    "\n",
    "with open('/home/mheuillet/Desktop/robust_training/results/results_linearprobe_50epochs_deit_small_patch16_224.fb_in1k_dtd_TRADES_v2.pkl', 'rb') as f:\n",
    "    results_dict = pickle.load(f)\n",
    "\n",
    "results_dict"
   ]
  }
 ],
 "metadata": {
  "kernelspec": {
   "display_name": ".venv2",
   "language": "python",
   "name": "python3"
  },
  "language_info": {
   "codemirror_mode": {
    "name": "ipython",
    "version": 3
   },
   "file_extension": ".py",
   "mimetype": "text/x-python",
   "name": "python",
   "nbconvert_exporter": "python",
   "pygments_lexer": "ipython3",
   "version": "3.11.11"
  }
 },
 "nbformat": 4,
 "nbformat_minor": 2
}
